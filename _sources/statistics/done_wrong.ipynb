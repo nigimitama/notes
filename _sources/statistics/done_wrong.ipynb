{
 "cells": [
  {
   "cell_type": "markdown",
   "id": "b4df8212-29ab-4da5-904e-f8ce40e59c97",
   "metadata": {},
   "source": [
    "# 統計学の誤用や望ましい作法"
   ]
  },
  {
   "cell_type": "markdown",
   "id": "c2ca692e-c1d4-4fcb-8089-8304ae6e3501",
   "metadata": {},
   "source": [
    "## Recommendations for accurate reporting in medical research statistics\n",
    "\n",
    "[Mansournia, M. A., & Nazemipour, M. (2024). Recommendations for accurate reporting in medical research statistics. The Lancet, 403(10427), 611-612.](https://www.thelancet.com/journals/lancet/article/PIIS0140-6736%2824%2900139-9/fulltext)\n",
    "\n",
    "医学分野における統計分析の推奨事項\n",
    "\n",
    "- 量的変数は平均・標準偏差かmedianとIQRを報告する。分析に使う表やヒストグラムの補足資料を提供する。\n",
    "- すべてのモデルの仮定を確認する（可能であればグラフを使用して）\n",
    "- p値は0.05や0.01などの水準で二分化せず、そのままの値を表示する（たとえば、p 値 0.032 は、p<0.05 ではなく、p=0.032 とする）ただし、不等式 p<0.0001 を使用すると、非常に小さな p 値を報告できる\n",
    "- 区間推定値内のすべての効果が臨床的に重要でない場合を除き、結果を効果がないと報告しない\n",
    "- 95% CI との関連性を適切に推定し、臨床的重要性に基づいて結果を解釈する\n",
    "- 有意性検定ではなく、背景情報をもとに交絡因子を認識して因果DAG（causal directed acyclic graphs）として説明する。\n",
    "- 欠損データの割合が結果に影響を与える可能性があるほど高い場合は、単に不完全なレコードを破棄するだけではない方法 (欠損確率の逆重み付けや多重代入など) を使用する\n",
    "- その目的のために開発された手法を使用して、比率推定におけるまばらなデータの偏りを評価し、処理する\n",
    "- 結果の頻度が高い場合は、オッズ比ではなく、リスク比またはリスク差を報告する\n",
    "- モデルが乗法的であっても、加法的な相互作用を評価する\n"
   ]
  },
  {
   "cell_type": "markdown",
   "id": "ce74f7fb-5863-47ca-af9f-e828d7863f01",
   "metadata": {},
   "source": [
    "## Statistics Done Wrong（『ダメな統計学』）\n",
    "\n",
    "[Statistics Done Wrong](https://www.statisticsdonewrong.com/)\n",
    "\n",
    "日本語書籍：[ダメな統計学 - 株式会社　勁草書房](https://www.keisoshobo.co.jp/book/b272873.html)\n",
    "\n",
    "- p-hacking、多重検定\n",
    "- 平均への回帰\n",
    "- 交絡\n",
    "- 相関と因果\n",
    "- シンプソンのパラドックス\n"
   ]
  }
 ],
 "metadata": {
  "kernelspec": {
   "display_name": "Python 3 (ipykernel)",
   "language": "python",
   "name": "python3"
  },
  "language_info": {
   "codemirror_mode": {
    "name": "ipython",
    "version": 3
   },
   "file_extension": ".py",
   "mimetype": "text/x-python",
   "name": "python",
   "nbconvert_exporter": "python",
   "pygments_lexer": "ipython3",
   "version": "3.9.18"
  }
 },
 "nbformat": 4,
 "nbformat_minor": 5
}
