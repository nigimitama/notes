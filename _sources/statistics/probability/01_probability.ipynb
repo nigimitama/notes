{
 "cells": [
  {
   "cell_type": "markdown",
   "id": "32aafedd-b68c-4867-b46a-1a98a8a7c8ef",
   "metadata": {},
   "source": [
    "# 確率\n",
    "\n",
    "可測集合族$\\mathcal{B}$の元である可測集合$A$に対して実数を対応させる関数$P(\\cdot)$で、次の3つの性質を満たすものを**確率**（probability）という。\n",
    "\n",
    "1. すべての$A \\in \\mathcal{B}$に対して$P(A) \\geq 0$\n",
    "2. $P(\\Omega) = 1$ （$\\Omega$は全事象もしくは標本空間といい、試行により起こりうるすべての結果）\n",
    "3. $A_k \\in \\mathcal{B}, k=1,2,...,$が互いに排反でるとき、つまり $A_i \\cap A_j = \\emptyset, i \\neq j$の場合、$P(\\cup^\\infty_{k=1} A_k) = \\sum^\\infty_{n=1} P(A_k)$\n"
   ]
  },
  {
   "cell_type": "markdown",
   "id": "f142b146-2ab6-4082-9fdd-3ea905f73e1e",
   "metadata": {},
   "source": [
    "### 条件付き確率\n",
    "\n",
    "$$\n",
    "P(A|B) = \\frac{P(A\\cap B)}{P(B)}\n",
    "$$"
   ]
  },
  {
   "cell_type": "markdown",
   "id": "07514deb-aebe-4230-814f-275dc31ad6a6",
   "metadata": {},
   "source": [
    ":::{card} **同時確率の例**\n",
    "\n",
    "性別ごとにゲーム機の所持率を調査した結果、以下の表のようになったとする。\n",
    "\n",
    "|            | 男性 | 女性 | 計   |\n",
    "| ---------- | ---- | ---- | ---- |\n",
    "| **所持**   | 2/6  | 1/4  | 7/12 |\n",
    "| **未所持** | 1/6  | 1/4  | 5/12 |\n",
    "| **計**     | 1/2  | 1/2  | 1    |\n",
    "\n",
    "女性でゲーム機を所持している確率は\n",
    "\n",
    "$$\n",
    "P(所持|女性)= \\frac{P(所持\\cap 女性)}{P(女性)}\n",
    "= \\frac{1}{4} ÷ \\frac{1}{2} = \\frac{1}{2} \n",
    "$$\n",
    "\n",
    "所持している場合に男性である確率は\n",
    "\n",
    "$$\n",
    "P(男性|所持)=\\frac{P(男性\\cap 所持)}{P(所持)}\n",
    "= \\frac{2}{6} ÷ \\frac{7}{12} = \\frac{4}{7}\n",
    "$$\n",
    "\n",
    "となる。\n",
    ":::"
   ]
  },
  {
   "cell_type": "markdown",
   "id": "d26f40be-092a-4963-8c47-6f26aa5d24bb",
   "metadata": {},
   "source": [
    "## 独立性\n",
    "\n",
    "同時確率は条件付き確率の定義\n",
    "\n",
    "$$\n",
    "P(A|B) = \\frac{P(A\\cap B)}{P(B)}\n",
    "$$\n",
    "\n",
    "を整理すると、\n",
    "\n",
    "$$\n",
    "P(A\\cap B) = P(A|B)P(B)\n",
    "$$\n",
    "\n",
    "と表すことができる。\n",
    "\n",
    "2つの事象AとBが独立であるとき、Aが起こる確率はBが起こったという事象とは関係ないため、$P(A|B) = P(A)$となるため、\n",
    "\n",
    "$$\n",
    "P(A\\cap B) = P(A)P(B)\n",
    "$$\n",
    "\n",
    "ということになる。ここから、独立性の定義は次のようになる。\n",
    "\n",
    "\n",
    ":::{admonition} 定義（独立性）\n",
    "2つの事象AとBが\n",
    "\n",
    "$$\n",
    "P(A\\cap B) = P(A)P(B)\n",
    "$$\n",
    "\n",
    "を満たすとき、AとBは**独立**であるという。\n",
    ":::"
   ]
  },
  {
   "cell_type": "markdown",
   "id": "2844490e-28da-4590-b06c-ab86020bf494",
   "metadata": {},
   "source": [
    "## 全確率の公式（Law of total probability）\n",
    "\n",
    "$B_1, B_2, ...$を互いに排反な事象の列とし、$P(B_k)>0, P(U^\\infty_{k=1} B_k) = \\Omega$を満たすとき、事象$A$の確率は次のように分解できる\n",
    "\n",
    "$$\n",
    "P(A) = \\sum^\\infty_{k=1} P(A|B_k) P(B_k)\n",
    "$$\n"
   ]
  },
  {
   "cell_type": "markdown",
   "id": "67e93a9a-d53d-4de4-b2f3-4fa390b90644",
   "metadata": {},
   "source": [
    "## ベイズ（Bayes）の定理\n",
    "\n",
    "$B_1, B_2, ...$を互いに排反な事象の列とし、$P(B_k)>0, P(U^\\infty_{k=1} B_k) = \\Omega$を満たすとする。このとき任意の事象Aに対してAを与えたときの$B_j$の条件付き確率$P(B_j|A)$は次のように表される。\n",
    "\n",
    "$$\n",
    "P(B_j|A)\n",
    "= \\frac{P(A|B_j)P(B_j)}{\\sum^\\infty_{k=1} P(A|B_k) P(B_k)}\n",
    "$$"
   ]
  },
  {
   "cell_type": "markdown",
   "id": "6a4f1e2f-8c46-4a71-809a-93a505d82b94",
   "metadata": {},
   "source": [
    "## 参考\n",
    "\n",
    "- 久保川 達也（2017）『現代数理統計学の基礎』、共立出版。"
   ]
  }
 ],
 "metadata": {
  "kernelspec": {
   "display_name": "Python 3 (ipykernel)",
   "language": "python",
   "name": "python3"
  },
  "language_info": {
   "codemirror_mode": {
    "name": "ipython",
    "version": 3
   },
   "file_extension": ".py",
   "mimetype": "text/x-python",
   "name": "python",
   "nbconvert_exporter": "python",
   "pygments_lexer": "ipython3",
   "version": "3.9.18"
  }
 },
 "nbformat": 4,
 "nbformat_minor": 5
}
