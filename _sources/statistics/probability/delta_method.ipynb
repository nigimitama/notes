{
 "cells": [
  {
   "cell_type": "markdown",
   "id": "58e5df9c-1aa7-45ae-9cfe-dd45cdc2aae3",
   "metadata": {},
   "source": [
    "# デルタ法\n",
    "\n",
    "**デルタ法 (Delta method)** は「ある確率変数 $X$ を滑らかな関数 $f$ に通したとき、分散は微分を使って近似できる」という考え方"
   ]
  },
  {
   "cell_type": "code",
   "execution_count": null,
   "id": "da16be66-a027-4274-a949-534cf19875e5",
   "metadata": {},
   "outputs": [],
   "source": []
  }
 ],
 "metadata": {
  "kernelspec": {
   "display_name": "Python 3 (ipykernel)",
   "language": "python",
   "name": "python3"
  },
  "language_info": {
   "codemirror_mode": {
    "name": "ipython",
    "version": 3
   },
   "file_extension": ".py",
   "mimetype": "text/x-python",
   "name": "python",
   "nbconvert_exporter": "python",
   "pygments_lexer": "ipython3",
   "version": "3.10.18"
  }
 },
 "nbformat": 4,
 "nbformat_minor": 5
}
