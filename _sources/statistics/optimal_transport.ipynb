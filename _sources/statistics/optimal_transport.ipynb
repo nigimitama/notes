{
 "cells": [
  {
   "cell_type": "markdown",
   "id": "f55ffdb8-3f50-43c6-ab36-3adac43a98c6",
   "metadata": {},
   "source": [
    "# 最適輸送"
   ]
  },
  {
   "cell_type": "markdown",
   "id": "cff35f2f-ddc9-44bf-8935-4c8f7cb22756",
   "metadata": {},
   "source": [
    "2つの確率分布の距離を測ったりするのに使える技術。\n",
    "\n",
    "最適輸送だと点群や集合の比較ができたり応用の幅が広く、確率分布の比較にも使える\n",
    "\n",
    "交差エントロピー等との違い（メリット）は、誤差を非対称に（クラスAをBと間違えた場合とその逆の場合の損失を異なる値に）できること\n",
    "\n",
    "- [最適輸送入門 - Speaker Deck](https://speakerdeck.com/joisino/zui-shi-shu-song-ru-men?slide=2)\n",
    "- [機械学習にもう一歩踏み込むための『最適輸送の理論とアルゴリズム』 - Speaker Deck](https://speakerdeck.com/joisino/ji-jie-xue-xi-nimou-bu-ta-miip-mutameno-zui-shi-shu-song-noli-lun-toarugorizumu?slide=5)"
   ]
  },
  {
   "cell_type": "markdown",
   "id": "93e40cff-aac7-475d-9562-f29b15394bf0",
   "metadata": {},
   "source": [
    "離散的な操作も微分できる\n",
    "\n",
    "- ランキング、最短経路問題など\n",
    "- [何でも微分する - Speaker Deck](https://speakerdeck.com/joisino/he-demowei-fen-suru)"
   ]
  },
  {
   "cell_type": "markdown",
   "id": "0caff215-ce27-4dcf-a775-38f4f33d873a",
   "metadata": {},
   "source": [
    "## 離散最適輸送は線形計画\n",
    "\n"
   ]
  },
  {
   "cell_type": "markdown",
   "id": "199a5742-c989-4074-99a0-757415d97986",
   "metadata": {},
   "source": [
    "### ヒストグラムの最適輸送距離の定式化\n",
    "\n",
    "- 入力：\n",
    "    - 比較するヒストグラム $\\boldsymbol{a}, \\boldsymbol{b} \\in \\mathbb{R}^n$\n",
    "    - 各点の距離を表す行列 $\\boldsymbol{C} \\in \\mathbb{R}^{n\\times n}$\n",
    "- 出力：ヒストグラムの距離 $\\text{OT}(\\boldsymbol{a}, \\boldsymbol{b}, \\boldsymbol{C})$\n",
    "- 最適輸送距離を以下の最適化問題の最適値と定義する\n",
    "\n",
    "$$\n",
    "\\begin{align}\n",
    "\\underset{P \\in \\mathbb{R}^{n \\times n}}{\\operatorname{minimize}}\n",
    "& \\sum_{i=1}^n \\sum_{j=1}^n C_{ij} P_{i j} \\quad(総コスト)\\\\\n",
    "\\text { s.t. }\n",
    "& P_{i j} \\geq 0 \\quad \\forall i, j \\quad(輸送量は非負)\\\\\n",
    "& \\sum_{j=1}^n P_{i j}= a_i \\quad \\forall i \\quad(余りなし)\\\\\n",
    "& \\sum^n_{i=1} P_{i j}= b_j \\quad \\forall j \\quad(不足なし)\n",
    "\\end{align}\n",
    "$$\n",
    "\n",
    "ここで決定変数$P_{ij}$は点$i$から点$j$に輸送する量を表す"
   ]
  },
  {
   "cell_type": "markdown",
   "id": "f1fbd3b4-a0b1-4a00-a890-445836e7cf5b",
   "metadata": {},
   "source": [
    "### cvxpyで解く例\n",
    "\n",
    "※ちゃんとやるならPOTパッケージを使うべき"
   ]
  },
  {
   "cell_type": "code",
   "execution_count": 33,
   "id": "c7c22918-e864-4028-ac9a-ea0597176e7d",
   "metadata": {},
   "outputs": [
    {
     "data": {
      "text/plain": [
       "0.3999999997741462"
      ]
     },
     "execution_count": 33,
     "metadata": {},
     "output_type": "execute_result"
    }
   ],
   "source": [
    "import numpy as np\n",
    "\n",
    "# 離散分布を想定\n",
    "a = np.array([0.2,0.5,0.2,0.1])\n",
    "b = np.array([0.3,0.3,0.4,0.0])\n",
    "C = np.array([\n",
    "    [0,2,2,2],\n",
    "    [2,0,1,2],\n",
    "    [2,1,0,2],\n",
    "    [2,2,2,0]\n",
    "])\n",
    "\n",
    "\n",
    "import cvxpy as cp\n",
    "n = C.shape[0]\n",
    "P = cp.Variable((n, n))\n",
    "\n",
    "objective = cp.Minimize(cp.multiply(C, P).sum())\n",
    "constraints = [\n",
    "    P >= 0,\n",
    "    cp.sum(P, axis=1) == a, # jについて総和をとったものがa_iと等しい\n",
    "    cp.sum(P, axis=0) == b, # iについて総和をとったものがb_jと等しい\n",
    "]\n",
    "prob = cp.Problem(objective, constraints)\n",
    "prob.solve()"
   ]
  },
  {
   "cell_type": "code",
   "execution_count": 30,
   "id": "ed524a0d-2033-4af7-bba9-9905a4b78c49",
   "metadata": {},
   "outputs": [
    {
     "name": "stdout",
     "output_type": "stream",
     "text": [
      "最適輸送距離 OT(a, b, C): 0.400\n"
     ]
    }
   ],
   "source": [
    "# 最適輸送距離 OT(a, b, C)\n",
    "print(f\"最適輸送距離 OT(a, b, C): {prob.value:.3f}\")"
   ]
  },
  {
   "cell_type": "code",
   "execution_count": 31,
   "id": "534e6a76-1470-4e36-ac0a-c6f29d4b9857",
   "metadata": {},
   "outputs": [
    {
     "name": "stdout",
     "output_type": "stream",
     "text": [
      "行列P:\n",
      "[[ 0.2 -0.  -0.  -0. ]\n",
      " [-0.   0.3  0.2 -0. ]\n",
      " [-0.  -0.   0.2 -0. ]\n",
      " [ 0.1  0.  -0.   0. ]]\n"
     ]
    }
   ],
   "source": [
    "print(f\"行列P:\\n{P.value.round(3)}\")"
   ]
  },
  {
   "cell_type": "markdown",
   "id": "2660f9a2-1e7f-4304-9086-e09b283739ec",
   "metadata": {},
   "source": [
    "\n",
    "### 点群の最適輸送距離の定式化\n",
    "\n",
    "- 入力：\n",
    "    - 比較する点群 $\\left\\{x_1, \\cdots, x_n\\right\\},\\left\\{y_1, \\cdots, y_m\\right\\} \\subset \\mathcal{X}$\n",
    "    - 各点の距離を表す関数 $C: \\mathcal{X} \\times \\mathcal{X} \\rightarrow \\mathbb{R}$\n",
    "- 出力：点群の距離\n",
    "- 最適輸送距離を以下の最適化問題の最適値と定義する\n",
    "\n",
    "$$\n",
    "\\begin{align}\n",
    "\\underset{P \\in \\mathbb{R}^{n \\times m}}{\\operatorname{minimize}}\n",
    "& \\sum_{i=1}^n \\sum_{j=1}^m C\\left(x_i, y_j\\right) P_{i j} \\quad(総コスト)\\\\\n",
    "\\text { s.t. }\n",
    "& P_{i j} \\geq 0 \\quad \\forall i, j \\quad(輸送量は非負)\\\\\n",
    "& \\sum_{j=1}^m P_{i j}=\\frac{1}{n} \\quad \\forall i \\quad(余りなし)\\\\\n",
    "& \\sum^n_{i=1} P_{i j}=\\frac{1}{m} \\quad \\forall j \\quad(不足なし)\n",
    "\\end{align}\n",
    "$$\n",
    "\n",
    "ここで決定変数$P_{ij}$は点$i$から点$j$に輸送する量を表す"
   ]
  },
  {
   "cell_type": "markdown",
   "id": "65f911d6-a0f1-4344-a920-4e23e5abec29",
   "metadata": {},
   "source": [
    "## 連続最適輸送\n",
    "\n",
    "連続の場合は難しいので、サンプリングして点群にしたり双対にしたりする（[最適輸送入門 - Speaker Deck](https://speakerdeck.com/joisino/zui-shi-shu-song-ru-men?slide=26)）"
   ]
  },
  {
   "cell_type": "markdown",
   "id": "7404e196-402c-4817-808d-e8636b6ac4df",
   "metadata": {},
   "source": [
    "## 関連文献\n",
    "\n",
    "- [講演一覧](https://joisino.net/talks/)"
   ]
  },
  {
   "cell_type": "markdown",
   "id": "5e10a25c-fec4-4fa7-8561-f166a66e1a53",
   "metadata": {},
   "source": [
    "- [Quick start guide — POT Python Optimal Transport 0.9.3 documentation](https://pythonot.github.io/quickstart.html#why-optimal-transport)"
   ]
  },
  {
   "cell_type": "code",
   "execution_count": null,
   "id": "8cdcd289-4af3-4eb4-8220-18ff5fcd5ae2",
   "metadata": {},
   "outputs": [],
   "source": []
  }
 ],
 "metadata": {
  "kernelspec": {
   "display_name": "Python 3 (ipykernel)",
   "language": "python",
   "name": "python3"
  },
  "language_info": {
   "codemirror_mode": {
    "name": "ipython",
    "version": 3
   },
   "file_extension": ".py",
   "mimetype": "text/x-python",
   "name": "python",
   "nbconvert_exporter": "python",
   "pygments_lexer": "ipython3",
   "version": "3.10.13"
  }
 },
 "nbformat": 4,
 "nbformat_minor": 5
}
