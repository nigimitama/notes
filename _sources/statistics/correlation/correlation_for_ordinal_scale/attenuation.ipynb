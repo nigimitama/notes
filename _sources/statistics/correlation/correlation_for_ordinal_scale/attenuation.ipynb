{
 "cells": [
  {
   "cell_type": "markdown",
   "id": "28301ba7-53e8-401b-ae2f-08906390eb93",
   "metadata": {},
   "source": [
    "# 相関の希薄化\n",
    "\n",
    "**相関の希薄化（attenuation of correlation）** とは、データの測定の信頼性によって相関がゼロに近づく方向のバイアスをもつ現象。\n",
    "\n",
    "信頼性は例えばテストやアンケートの設計に起因するものもあるし、連続変数を離散化したことによる情報の欠落によるものもある（→カテゴリカル変数の相関係数は希薄化を補正する考えから生まれた）\n"
   ]
  },
  {
   "cell_type": "markdown",
   "id": "8aec5dbe-021d-4d39-ae5c-f96cafb73274",
   "metadata": {},
   "source": [
    "## 測定誤差による相関の希薄化\n",
    "\n",
    "### attenuation formula\n",
    "\n",
    "Spearman (1904) は相関係数の希薄化（attenuation）という問題を指摘した\n",
    "\n",
    "観測される相関は真の相関に信頼性の影響が掛かったものである、という考え方をする。\n",
    "\n",
    ":::{admonition} attenuation formula\n",
    "\n",
    "$$\n",
    "r_{x y}=\\rho_{x y} \\cdot \\sqrt{r_{x x} \\cdot r_{y y}}\n",
    "$$\n",
    "\n",
    "- $r_{x y}$：観測された相関\n",
    "- $\\rho_{x y}$：真の相関あるいは信頼性が完璧なもとでの相関\n",
    "- $r_{x x}$：変数$X$の信頼性\n",
    "- $r_{y y}$：変数$Y$の信頼性\n",
    "\n",
    ":::"
   ]
  },
  {
   "cell_type": "markdown",
   "id": "96e08643-f699-41d0-9d26-c7a5a8e08267",
   "metadata": {},
   "source": [
    "### 信頼性とは\n",
    "\n",
    "#### 再検査法（test-retest）的な考え方\n",
    "\n",
    "例えばテストの得点においては「偶然高い得点（低い得点）になった」というようなランダム性の要素が少なくて、仮に同じ能力の人が同様のテストを繰り返し受験したら毎回同様の能力値の評価がなされるようなテストは信頼性が高い。逆にランダム性の影響が高いテストは信頼性が低いと考えられる。\n",
    "\n",
    "なお、この考え方はテスト理論における再検査法の考え方。\n",
    "\n",
    ":::{card} 再検査法的な考え方\n",
    "\n",
    "$$\n",
    "r_{x x} = \\operatorname{cor}(x_1, x_2)\n",
    "$$\n",
    "\n",
    "- $x_1$：1回目のテストの測定結果\n",
    "- $x_2$：2回目のテストの測定結果\n",
    "\n",
    ":::\n",
    "\n",
    "\n",
    "なお Spearman (1904) も信頼性の部分は「同じ確率変数の独立に得られたサンプルの系列における相関係数の平均」という考え方をとっていたし、1940~50年代の文献でもこうした考え方が支持されていた。\n",
    "\n",
    ":::{card} Spearman (1904)の書き方\n",
    "\n",
    "To ascertain the amount of this attenuation, and thereby discover the true correlation, it appears *necessary to make two or more independent series of observations of both $p$ and $q$*. Then,\n",
    "\n",
    "$$\n",
    "r_{pq} = \\frac{r_{p'q'}}{\\sqrt{r_{p'p'} \\cdot r_{q'q'}}}\n",
    "$$\n",
    "\n",
    "where  \n",
    "\n",
    "$r_{p'q'}$ = the mean of the correlations between each series of values obtained for $p$ with each series obtained for $q$.  \n",
    "\n",
    "$r_{p'p'}$ = **the average correlation between one and another of these several independently obtained series of values for $p$.**\n",
    "\n",
    "$r_{q'q'}$ = the same as regards $q$.  \n",
    "\n",
    "and $r_{pq}$ = the required real correlation between the true objective values of $p$ and $q$.\n",
    "\n",
    ":::\n",
    "\n",
    "\n",
    "\n",
    "\n",
    "#### 信頼性係数\n",
    "\n",
    "本質的に同様の考え方ではあるが、観測値が「真のスコア」と「測定誤差」から構成されて、真のスコアの割合が高いほど信頼性が高いという考えから次のように定式化することもできる\n",
    "\n",
    ":::{card} 古典的テスト理論における信頼性係数\n",
    "\n",
    "$$\n",
    "r_{x x}=\\frac{\\operatorname{Var}(T)}{\\operatorname{Var}(X)}=1-\\frac{\\operatorname{Var}(\\epsilon)}{\\operatorname{Var}(X)}\n",
    "$$\n",
    "\n",
    "- $T$：真のスコア\n",
    "- $\\epsilon$：測定誤差\n",
    "- $X=T+\\epsilon$：観測値\n",
    "\n",
    ":::\n",
    "\n",
    "\n",
    "\n",
    "\n"
   ]
  },
  {
   "cell_type": "markdown",
   "id": "b68326fd-4f71-4b59-b8c6-c08604e3abed",
   "metadata": {},
   "source": [
    "### dis-attenuation formula\n",
    "\n",
    "もし希薄化の影響がわかるなら、観測された相関係数を補正できる。\n",
    "\n",
    "次の式は the double correction などと呼ばれる。\n",
    "\n",
    "\n",
    ":::{admonition} Double Correction\n",
    "\n",
    "$$\n",
    "\\rho_{x y} = \\frac{r_{x y}}{\\sqrt{r_{x x} \\cdot r_{y y}}}\n",
    "$$\n",
    "\n",
    ":::\n",
    "\n"
   ]
  },
  {
   "cell_type": "markdown",
   "id": "0ca65575-0cc0-4e1b-b057-be071c0561cf",
   "metadata": {},
   "source": [
    "なぜDoubleがつくのかというと、Single Correctionと呼ばれるタイプの式があるため。\n",
    "\n",
    ":::{admonition} Single Correction\n",
    "\n",
    "$$\n",
    "\\rho_{x y} = \\frac{r_{x y}}{\\sqrt{r_{x x}}}\n",
    "$$\n",
    "\n",
    "あるいは\n",
    "\n",
    "$$\n",
    "\\rho_{x y} = \\frac{r_{x y}}{\\sqrt{r_{y y}}}\n",
    "$$\n",
    "\n",
    ":::\n",
    "\n"
   ]
  },
  {
   "cell_type": "markdown",
   "id": "d585d4ff-9f94-4d8e-8f8a-355969fff238",
   "metadata": {},
   "source": [
    "## 離散化による相関の希薄化\n",
    "\n",
    "連続変数を離散化することは測定の精度が下がることに相当する。\n",
    "例えば、ある連続変数を「$0.5$以上かどうか」で二値に離散化した場合、$0.49$も$-999$も「閾値である$0.5$より低い」という点では同じ値として観測されることになる。\n",
    "\n",
    "こうした点では測定誤差の相関の希薄化と類似した問題が起こる。\n",
    "そのため離散化された質的変数を含む2変数間の相関関係をピアソンの積率相関係数で評価しようとすると希薄化が起こって過小評価バイアスが含まれることになる。\n"
   ]
  },
  {
   "cell_type": "markdown",
   "id": "31538fdb-874c-4467-b5ff-a2f8eb528d3e",
   "metadata": {},
   "source": [
    ":::{margin}\n",
    "\n",
    "連続変数を離散化したことによる相関の希薄化は、また別である。 Cohen (1983)は次のように述べている\n",
    "\n",
    "> This loss from dichotomization should not be confused with the familiar attenuation due to classical random measurement error. Dichotomization results in the systematic loss of measurement information\n",
    ">\n",
    "> （二値化によるこの損失は、古典的なランダム測定誤差による一般的な希薄化と混同すべきではありません。二値化は測定情報の体系的な損失をもたらします。）\n",
    ">\n",
    "> Cohen, J. (1983). The cost of dichotomization. Applied psychological measurement, 7(3), 249-253.\n",
    "\n",
    ":::"
   ]
  },
  {
   "cell_type": "markdown",
   "id": "5cf06197-8f89-4ae2-a93b-600c2e1b9eeb",
   "metadata": {},
   "source": [
    "### 希薄化の例\n",
    "\n",
    "Peters & Van Voorhis (1940) は相関係数が$\\rho$の 2 変量正規分布に従う確率変数 $X, Y$があるとき、$X$を平均値や中央値で二値化した確率変数を$X_d$とすると、$X_d$と$Y$の間の相関係数は$0.798 \\rho$になる、つまり真の相関係数の約 0.8 倍へと過小評価する問題があることを報告している。$0.798$になるのは二値化のときであり、離散化のカテゴリ数や分割点を変えれば希薄化の強さは変わる。\n",
    "\n",
    "モンテカルロシミュレーションしてみると、だいたいそのような結果になることが簡単に確認できる。例えば真の相関係数$\\rho=0.5$の分布から疑似乱数でサンプルを生成して二値化して相関係数$\\hat{\\rho}=\\operatorname{cor}(x_d, y)$を計算することを何回も繰り返してその標本分布を描くと、平均的には$\\operatorname{avg}(\\hat{\\rho}) \\approx 0.4$となり、その比率$\\frac{\\hat{\\rho}}{\\rho}$の平均は\n",
    "\n",
    "$$\n",
    "\\operatorname{avg}\\left( \\frac{\\hat{\\rho}}{\\rho} \\right) \\approx 0.798\n",
    "$$\n",
    "\n",
    "となることがわかる。"
   ]
  },
  {
   "cell_type": "code",
   "execution_count": 78,
   "id": "690f4a5e-c7c7-4b1d-a0a4-7bead046c11a",
   "metadata": {
    "jupyter": {
     "source_hidden": true
    },
    "tags": [
     "hide-input"
    ]
   },
   "outputs": [
    {
     "data": {
      "image/png": "[encoded data removed]",
      "text/plain": [
       "<Figure size 800x300 with 2 Axes>"
      ]
     },
     "metadata": {},
     "output_type": "display_data"
    }
   ],
   "source": [
    "import numpy as np\n",
    "from scipy.stats import pearsonr\n",
    "\n",
    "def simulate_dichotomization(rho=0.5, size=100000, seed=0):\n",
    "    np.random.seed(seed)\n",
    "    data = np.random.multivariate_normal(mean=[0, 0], cov=[[1, rho], [rho, 1]], size=size)\n",
    "    x, y = data[:, 0], data[:, 1]\n",
    "    xd = 1 * (x >= np.mean(x))  # 平均で2値化\n",
    "    r = pearsonr(xd, y)[0]\n",
    "    return r\n",
    "\n",
    "n = 1000\n",
    "n_trials = 1500\n",
    "true_rho = 0.5\n",
    "estimates = []\n",
    "for seed in range(n_trials):\n",
    "    est_rho = simulate_dichotomization(rho=true_rho, size=n, seed=seed)\n",
    "    estimates.append(est_rho)\n",
    "estimates = np.array(estimates)\n",
    "\n",
    "\n",
    "import matplotlib.pyplot as plt\n",
    "import seaborn as sns\n",
    "import matplotlib_fontja\n",
    "fig, axes = plt.subplots(ncols=2, figsize=[8, 3])\n",
    "\n",
    "# fig1\n",
    "hist = sns.histplot(estimates, ax=axes[0], color=\"#7abcff\", edgecolor=\"#7abcff\", kde=True, stat=\"density\")\n",
    "axes[0].set(title=\"積率相関係数の分布\")\n",
    "\n",
    "max_height = max([p.get_height() for p in hist.patches])\n",
    "axes[0].axvline(true_rho, color=\"darkorange\", linestyle=\"--\", alpha=0.7)\n",
    "axes[0].text(true_rho, max_height * 0.95, f\"真のρ={true_rho:.1f} \", color=\"darkorange\", alpha=0.9, ha=\"right\")\n",
    "\n",
    "r = estimates.mean()\n",
    "axes[0].axvline(r, color=\"#007fff\", linestyle=\":\", alpha=0.7)\n",
    "axes[0].text(r, max_height * 0.95, f\"平均={r:.3f} \", color=\"#007fff\", alpha=0.9, ha=\"right\")\n",
    "\n",
    "# fig2\n",
    "ratios = estimates / true_rho\n",
    "hist = sns.histplot(ratios, ax=axes[1], color=\"#80f000\", edgecolor=\"#80f000\", kde=True, stat=\"density\")\n",
    "max_height = max([p.get_height() for p in hist.patches])\n",
    "axes[1].set(title=r\"比率 $\\hat{\\rho} / \\rho$ の分布\")\n",
    "\n",
    "r = ratios.mean()\n",
    "axes[1].axvline(r, color=\"#006400\", linestyle=\":\", alpha=0.7)\n",
    "axes[1].text(r, max_height * 0.95, f\" 平均={r:.3f}\", color=\"#006400\", alpha=0.9, ha=\"left\")\n",
    "\n",
    "fig.show()"
   ]
  },
  {
   "cell_type": "markdown",
   "id": "c2204765-4fcb-443d-a013-5bf6a1bf8229",
   "metadata": {},
   "source": [
    "### 希薄化の係数\n",
    "\n",
    "Cohen (1983)によれば、Peters and Van Voorhis (1940)が報告しているような二値化の希薄化の係数は次のように一般化できる\n",
    "\n",
    ":::{card}\n",
    "\n",
    "$$\n",
    "e = \\frac{h}{\\sqrt{p(1 - p)}}\n",
    "$$\n",
    "\n",
    "- $h$：標準正規分布の密度関数の縦軸（the ordinate of the standard unit normal curve）\n",
    "- $p$：二値化した変数の比率\n",
    "\n",
    ":::\n",
    "\n",
    "例えば標準正規分布に従う連続変数$X$を平均値で二値化した場合は分割点が0なので、標準正規分布の密度関数\n",
    "\n",
    "$$\n",
    "\\phi(z)=\\frac{1}{\\sqrt{2 \\pi}} e^{-z^2 / 2}\n",
    "$$\n",
    "\n",
    "より、\n",
    "\n",
    "- $h = \\phi(0) \\approx 0.3989$\n",
    "- $p = 0.5$\n",
    "\n",
    "となり、\n",
    "\n",
    "$$\n",
    "e = \\frac{h}{\\sqrt{p(1 - p)}}\n",
    "= \\frac{0.3989}{\\sqrt{ 0.5 \\cdot 0.5}}\n",
    "= \\frac{0.3989}{0.5}\n",
    "\\approx 0.798\n",
    "$$\n",
    "\n",
    "となる。"
   ]
  },
  {
   "cell_type": "code",
   "execution_count": 84,
   "id": "9f5d9710-ceb2-4afc-b854-2f62802964da",
   "metadata": {
    "tags": []
   },
   "outputs": [
    {
     "data": {
      "text/plain": [
       "np.float64(0.7978845608028654)"
      ]
     },
     "execution_count": 84,
     "metadata": {},
     "output_type": "execute_result"
    }
   ],
   "source": [
    "from scipy.stats import norm\n",
    "p = 0.5\n",
    "norm.pdf(0) / np.sqrt(p * (1 - p))"
   ]
  },
  {
   "cell_type": "markdown",
   "id": "a113d5a3-7e86-4ebc-8134-77029e91d9f7",
   "metadata": {},
   "source": [
    "#### biserial相関係数\n",
    "\n",
    "なお、二値化変数と連続変数の間の相関係数の一種である **Biserial相関係数** はCohen (1983)が述べたような希薄化の係数の逆数をピアソンの積率相関係数に掛けて補正する（Spearmanの希薄化の修正式を使う）タイプの相関係数である\n",
    "\n",
    "$$\n",
    "r_{\\text{bi}} = \\frac{ r_{\\text{Pearson}} }{ e }\n",
    "= r_{\\text{Pearson}} \\cdot \\frac{\\sqrt{p (1-p)}}{h}\n",
    "$$"
   ]
  },
  {
   "cell_type": "code",
   "execution_count": 33,
   "id": "b00e8229-6e21-4046-949a-f2da2f0058dc",
   "metadata": {
    "tags": []
   },
   "outputs": [
    {
     "name": "stdout",
     "output_type": "stream",
     "text": [
      "真の相関ρ=0.500, 観測値r=0.396, 誤差e=0.798, 補正後(biserial)=0.496\n"
     ]
    }
   ],
   "source": [
    "# 二変量標準正規分布からのサンプルとする\n",
    "import numpy as np\n",
    "n = 10000\n",
    "rho = 0.5\n",
    "np.random.seed(0)\n",
    "data = np.random.multivariate_normal(mean=[0, 0], cov=[[1, rho], [rho, 1]], size=n)\n",
    "x, y = data[:, 0], data[:, 1]\n",
    "\n",
    "# 平均値を閾値として二値化されたとする\n",
    "yd = 1 * (y >= np.mean(y))  # 二値化\n",
    "\n",
    "# Cohen (1983) にも記載の希薄化率 e\n",
    "from scipy.stats import norm\n",
    "p = np.mean(yd)  # 離散化後に y_d == 1 の比率\n",
    "z = norm.ppf(p)  # 閾値の位置（= y_d == 1の比率、の標準正規分布上の値）\n",
    "h = norm.pdf(z)  # 標準正規分布の閾値での確率密度\n",
    "e = h / np.sqrt(p * (1 - p))\n",
    "\n",
    "# biserial 相関係数\n",
    "from scipy.stats import pearsonr\n",
    "r = pearsonr(x, yd).statistic\n",
    "r_bi = (1 / e) * r\n",
    "\n",
    "print(f\"真の相関ρ={rho:.3f}, 観測値r={r:.3f}, 誤差e={e:.3f}, 補正後(biserial)={r_bi:.3f}\")"
   ]
  },
  {
   "cell_type": "markdown",
   "id": "e66fdc6f-a8c9-4007-ae31-e2cfff24d4e8",
   "metadata": {},
   "source": [
    "Bedrick (1995) は離散化の仕方や離散化前の潜在変数が従う分布などの条件によって希薄化の強さが異なることを報告している。"
   ]
  },
  {
   "cell_type": "markdown",
   "id": "dd766bb6-da4d-4141-bad1-151110ab0915",
   "metadata": {},
   "source": [
    "## 参考文献\n",
    "\n",
    "- [Spearman, C. (1904). The proof and measurement of association between two things. Am J Psychol, 15, 72-101.](http://digamoo.free.fr/spearman1904a.pdf)\n",
    "- [Bedrick, E. J. (1995). A note on the attenuation of correlation. _British Journal of Mathematical and Statistical Psychology_, 48(2), 271-280.](https://bpspsychub.onlinelibrary.wiley.com/doi/abs/10.1111/j.2044-8317.1995.tb01064.x)\n",
    "- Cohen, J. (1983). The cost of dichotomization. _Applied psychological measurement_, 7(3), 249-253.\n",
    "- Drasgow, F. (1986). _Polychoric and polyserial correlations_. In S. Kotz & N. Johnson (Eds.), The Encyclopedia of Statistics.\n",
    "- Peters, C. C., & Van Voorhis, W. R. (1940). _Statistical procedures and their mathematical bases_. McGraw-Hill.\n",
    "- [Trafimow, D. (2016). The attenuation of correlation coefficients: A statistical literacy issue. Teaching Statistics, 38(1), 25-28.](https://www.medicine.mcgill.ca/epidemiology/hanley/bios601/Surveys/AttenuationOfCorrelations-2016-Teaching_Statistics.pdf?utm_source=chatgpt.com)\n",
    "    - テスト理論的な観点から説明\n",
    "- [Muchinsky, P. M. (1996). The correction for attenuation. Educational and psychological measurement, 56(1), 63-75.](https://psycnet.apa.org/record/1996-00223-004)\n",
    "    - 歴史的な経緯も含め説明"
   ]
  }
 ],
 "metadata": {
  "kernelspec": {
   "display_name": "Python 3 (ipykernel)",
   "language": "python",
   "name": "python3"
  },
  "language_info": {
   "codemirror_mode": {
    "name": "ipython",
    "version": 3
   },
   "file_extension": ".py",
   "mimetype": "text/x-python",
   "name": "python",
   "nbconvert_exporter": "python",
   "pygments_lexer": "ipython3",
   "version": "3.10.18"
  }
 },
 "nbformat": 4,
 "nbformat_minor": 5
}
