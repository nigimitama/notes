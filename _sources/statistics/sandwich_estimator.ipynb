{
 "cells": [
  {
   "cell_type": "markdown",
   "id": "aebe4773-e126-4951-b250-6726d6ac074e",
   "metadata": {},
   "source": [
    "# Sandwich Estimator\n",
    "\n",
    "ロバスト推定の1つ。ロバスト標準誤差の推定などで使われている？"
   ]
  },
  {
   "cell_type": "code",
   "execution_count": null,
   "id": "8da1ebac-eef1-4597-b438-fab3f88a275d",
   "metadata": {},
   "outputs": [],
   "source": []
  },
  {
   "cell_type": "markdown",
   "id": "ee8660bb-69f4-498d-afc3-6e955e811f41",
   "metadata": {},
   "source": [
    "\n",
    "## 参考\n",
    "\n",
    "- [Lecture 6. Sandwich Estimator, Other Likelihoods and Regression](https://artowen.su.domains/courses/314/lecture08.pdf)\n",
    "- [On The So-Called “Huber Sandwich Estimator” and “Robust Standard Errors” by David A. Freedman](https://www.stat.berkeley.edu/~census/mlesan.pdf)\n",
    "- [5601 Notes: The Sandwich Estimator](https://www.stat.umn.edu/geyer/5601/notes/sand.pdf)"
   ]
  },
  {
   "cell_type": "code",
   "execution_count": null,
   "id": "c1f86b46-b28c-42cb-bef8-f8a4afa764da",
   "metadata": {},
   "outputs": [],
   "source": []
  }
 ],
 "metadata": {
  "kernelspec": {
   "display_name": "Python 3 (ipykernel)",
   "language": "python",
   "name": "python3"
  },
  "language_info": {
   "codemirror_mode": {
    "name": "ipython",
    "version": 3
   },
   "file_extension": ".py",
   "mimetype": "text/x-python",
   "name": "python",
   "nbconvert_exporter": "python",
   "pygments_lexer": "ipython3",
   "version": "3.9.16"
  }
 },
 "nbformat": 4,
 "nbformat_minor": 5
}
