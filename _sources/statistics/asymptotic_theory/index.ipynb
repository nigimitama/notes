{
 "cells": [
  {
   "cell_type": "markdown",
   "id": "dccc8e62-26da-409c-b5b8-368334841d47",
   "metadata": {},
   "source": [
    "# 漸近理論"
   ]
  },
  {
   "cell_type": "markdown",
   "id": "bd4cf2a7-a1fc-4c4d-9fcb-25e7c4770395",
   "metadata": {},
   "source": [
    ":::{tableofcontents}\n",
    ":::"
   ]
  }
 ],
 "metadata": {
  "kernelspec": {
   "display_name": "Python 3 (ipykernel)",
   "language": "python",
   "name": "python3"
  },
  "language_info": {
   "codemirror_mode": {
    "name": "ipython",
    "version": 3
   },
   "file_extension": ".py",
   "mimetype": "text/x-python",
   "name": "python",
   "nbconvert_exporter": "python",
   "pygments_lexer": "ipython3",
   "version": "3.9.17"
  }
 },
 "nbformat": 4,
 "nbformat_minor": 5
}
