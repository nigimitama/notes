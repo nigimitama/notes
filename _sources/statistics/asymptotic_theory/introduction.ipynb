{
 "cells": [
  {
   "cell_type": "markdown",
   "id": "d76b7ec4-a1f0-4435-9c0c-a7b84c1f06c2",
   "metadata": {},
   "source": [
    "# 漸近理論"
   ]
  },
  {
   "cell_type": "markdown",
   "id": "e0d38e48-dbd2-46cd-a40b-76a38eea1e4d",
   "metadata": {},
   "source": [
    "## 関係する定理"
   ]
  },
  {
   "cell_type": "markdown",
   "id": "9f6b9022-db9d-4adb-8835-d4d003e510af",
   "metadata": {},
   "source": [
    "### マルコフの不等式\n",
    "\n",
    ":::{admonition} マルコフの不等式\n",
    ":class: info\n",
    "\n",
    "非負の確率変数$X$と任意の定数$c > 0$に対して、\n",
    "\n",
    "$$\n",
    "P(X \\geq c) \\leq \\frac{E[X]}{c}\n",
    "$$\n",
    "\n",
    "が成立する。\n",
    ":::\n",
    "\n",
    ":::{dropdown} 証明\n",
    "\n",
    "指示関数$I(\\cdot)$をもちいて\n",
    "\n",
    "$$\n",
    "\\begin{aligned}\n",
    "E[X]\n",
    "&= E[X \\{ I(X \\geq c) + I(X < c) \\} ]\\\\\n",
    "& \\geq E[X I(X \\geq c) ]\\\\\n",
    "& \\geq c E[ I(X \\geq c) ] = c P(X \\geq c)\n",
    "\\end{aligned}\n",
    "$$\n",
    "\n",
    ":::\n",
    "\n",
    "\n",
    "マルコフの不等式は **期待値よりも極端に大きな値を取る確率が低い** ことを意味する。\n",
    "\n",
    "例えば$c = 5 E[X]$とおけば\n",
    "\n",
    "$$\n",
    "P(X \\geq 5 E[X]) \\leq \\frac{E[X]}{5 E[X]} = \\frac{1}{5}\n",
    "$$"
   ]
  },
  {
   "cell_type": "code",
   "execution_count": 30,
   "id": "4bf8753a-a98c-4a88-8388-d1600d6cd72b",
   "metadata": {
    "tags": []
   },
   "outputs": [
    {
     "name": "stdout",
     "output_type": "stream",
     "text": [
      "P(X >= 5E[X]) = 0.0067\n",
      "Markov Inequality Upper Bound = 0.2\n"
     ]
    }
   ],
   "source": [
    "from scipy.stats import expon\n",
    "mean = 2  # 期待値 E[X] = 2 の指数分布は scale=2\n",
    "dist = expon(scale=mean)\n",
    "threshold = 5 * mean # 5 * E[X]\n",
    "# P(X >= 5 * E[X]) = 1 - CDF(threshold)\n",
    "prob = 1 - dist.cdf(threshold)\n",
    "upper_bound = 1 / 5 # マルコフの不等式の上限\n",
    "print(f\"P(X >= 5E[X]) = {prob:.2g}\")\n",
    "print(f\"Markov Inequality Upper Bound = {upper_bound:.2g}\")"
   ]
  },
  {
   "cell_type": "markdown",
   "id": "c4cacda5-ea23-4da1-9f11-17443b686208",
   "metadata": {},
   "source": [
    "### チェビシェフの不等式\n",
    "\n",
    ":::{admonition} チェビシェフの不等式\n",
    ":class: info\n",
    "\n",
    "$E[X] = \\mu, \\mathrm{Var}[X] = \\sigma^2$がいずれも有限な確率変数$X$を考える。\n",
    "\n",
    "このとき任意の$c>0$に対して\n",
    "\n",
    "$$\n",
    "P(|X-\\mu|\\geq c)\n",
    "\\leq \\frac{\\sigma^2}{c^2}\n",
    "$$\n",
    "\n",
    "が成立する。\n",
    ":::\n",
    "\n",
    ":::{dropdown} 証明\n",
    "\n",
    "$Y=(X-\\mu)^2$とおき、$Y$にマルコフの不等式\n",
    "\n",
    "$$\n",
    "P(X \\geq c) \\leq \\frac{E[X]}{c}\n",
    "$$\n",
    "\n",
    "を適用すれば、\n",
    "\n",
    "$$\n",
    "P(Y \\geq c^2)\n",
    "\\leq \\frac{E[Y]}{c^2}\n",
    "= \\frac{\\sigma^2}{c^2}\n",
    "$$\n",
    "\n",
    "ここで $Y \\geq c^2 \\Longleftrightarrow|X-\\mu| \\geq c$ であるから $P(Y \\geq c^2) = P(|X - \\mu| \\geq c)$ となり\n",
    "\n",
    "$$\n",
    "P(|X-\\mu|\\geq c)\n",
    "\\leq \\frac{\\sigma^2}{c^2}\n",
    "$$\n",
    "\n",
    "が成立する\n",
    ":::\n",
    "\n",
    "チェビシェフの不等式は **期待値から値が極端に離れる確率が低い** ことを意味する。\n",
    "\n",
    "例えば$c = 5 \\sigma$とおけば\n",
    "\n",
    "$$\n",
    "P(|X-\\mu|\\geq 5\\sigma)\n",
    "\\leq \\frac{\\sigma^2}{5 \\sigma^2} = \\frac{1}{5}\n",
    "$$"
   ]
  },
  {
   "cell_type": "markdown",
   "id": "e91635fd-e435-47d5-bed1-e40913d25986",
   "metadata": {},
   "source": [
    "#### 例：2シグマ範囲\n",
    "\n",
    "期待値からの2シグマ範囲には正規分布だと95%が入る。"
   ]
  },
  {
   "cell_type": "code",
   "execution_count": 73,
   "id": "a3acbbc6-0d59-4a36-b3b8-2071dc6bda5f",
   "metadata": {
    "tags": []
   },
   "outputs": [
    {
     "name": "stdout",
     "output_type": "stream",
     "text": [
      "P(∣X−μ∣ ≤ 2σ) = 0.954\n"
     ]
    }
   ],
   "source": [
    "import numpy as np\n",
    "from scipy.stats import norm\n",
    "mu = 0       # 平均\n",
    "sigma = 1    # 標準偏差\n",
    "lower = mu - 2 * sigma\n",
    "upper = mu + 2 * sigma\n",
    "dist = norm(loc=mu, scale=sigma)\n",
    "# P(∣X−μ∣ ≤ 2σ) = P(μ−2σ ≤ X ≤ μ+2σ) = cdf(μ+2σ) - cdf(μ-2σ)\n",
    "p_2sigma = dist.cdf(upper) - dist.cdf(lower) # P(-2σ <= X <= 2σ)\n",
    "print(f\"P(∣X−μ∣ ≤ 2σ) = {p_2sigma:.3f}\")"
   ]
  },
  {
   "cell_type": "code",
   "execution_count": 92,
   "id": "a6c84869-2392-4839-82f8-f80b591c2b4c",
   "metadata": {
    "tags": [
     "hide-input"
    ]
   },
   "outputs": [
    {
     "data": {
      "image/png": "[encoded data removed]",
      "text/plain": [
       "<Figure size 500x200 with 1 Axes>"
      ]
     },
     "metadata": {},
     "output_type": "display_data"
    }
   ],
   "source": [
    "import matplotlib.pyplot as plt\n",
    "\n",
    "# plot\n",
    "fig, ax = plt.subplots(figsize=[5, 2])\n",
    "x = np.linspace(-4, 4, 100)\n",
    "y = dist.pdf(x)\n",
    "ax.plot(x, y)\n",
    "\n",
    "# 2σ points\n",
    "x_2sig = dist.ppf(dist.cdf(2 * sigma))\n",
    "ax.axvline(mu + x_2sig, color=\"gray\", linestyle=\"--\")\n",
    "ax.axvline(mu - x_2sig, color=\"gray\", linestyle=\"--\")\n",
    "ax.text(mu + x_2sig, 0.1, f\" μ+2σ\", ha=\"left\", color=\"gray\")\n",
    "ax.text(mu - x_2sig, 0.1, f\"μ−2σ \", ha=\"right\", color=\"gray\")\n",
    "\n",
    "x = np.linspace(mu - x_2sig, mu + x_2sig, 100)\n",
    "y = dist.pdf(x)\n",
    "ax.fill_between(x, y, 0, alpha=0.3)\n",
    "\n",
    "ax.text(0, 0.01, f\"P(μ−2σ ≤ X ≤ μ+2σ)\\n= {p_2sigma:.3f}\", ha=\"center\", color=\"darkblue\")\n",
    "plt.show()"
   ]
  },
  {
   "cell_type": "markdown",
   "id": "c776bab9-e180-4346-a016-5695b53ece82",
   "metadata": {},
   "source": [
    "チェビシェフの不等式による任意の分布への下限は\n",
    "\n",
    "$$\n",
    "\\begin{aligned}\n",
    "P(X \\in [\\mu-2\\sigma, \\mu+2\\sigma])\n",
    "= P(|X - \\mu| \\leq 2\\sigma)\n",
    "&\\geq 1 - P(|X - \\mu| \\geq 2\\sigma)\\\\\n",
    "&= 1 - \\frac{\\sigma^2}{4\\sigma^2}\\\\\n",
    "&= 1 - \\frac{1}{4}\\\\\n",
    "&= \\frac{3}{4}\\\\\n",
    "\\end{aligned}\n",
    "$$\n",
    "\n",
    "となり、正規分布以外でも75%以上あることがわかる"
   ]
  },
  {
   "cell_type": "markdown",
   "id": "b687b751-1357-45f4-b8e7-0874284e59fc",
   "metadata": {},
   "source": [
    "#### 例：期待値からのズレ\n",
    "\n",
    "$n$個のサンプル$X_1,\\dots,X_n$がi.i.d.であるとする。これらのサンプルの標本平均$\\bar{X}$がその期待値$E[\\bar{X}]$からどれだけズレるかを見てみる\n",
    "\n",
    "$$\n",
    "P(|\\bar{X} - E[\\bar{X}]|\\geq c) \\leq \\frac{ \\operatorname{Var}[\\bar{X}]}{c^2}\n",
    "$$\n",
    "\n",
    "もし$c=1$なら、標本平均と期待値の差の絶対値が1以上になる確率はその分散が上限になるということ。\n",
    "\n",
    "$$\n",
    "P(|\\bar{X} - E[\\bar{X}]|\\geq 1) \\leq \\operatorname{Var}[\\bar{X}] = \\frac{ \\operatorname{Var}[X] }{ n }\n",
    "$$\n",
    "\n",
    "例えばサンプルが商談から成約したかどうかであり、真の成約率が20%という確率変数$X\\sim Ber(p=0.2)$ の実現値だとすると、$E[\\bar{X}]=0.2, \\operatorname{Var}[\\bar{X}] = p(1-p) = 0.16$で、このとき$c=0.1$とおけば\n",
    "\n",
    "$$\n",
    "P(|\\bar{X} - 0.2| \\geq 0.1) \\leq \\frac{0.16}{ n \\times 0.1^2 } = \\frac{ 16 }{ n }\n",
    "$$\n",
    "\n",
    "となり、仮に$n=100$なら16%程度の確率が上限（分布によらない上限）になることがわかる"
   ]
  },
  {
   "cell_type": "code",
   "execution_count": 162,
   "id": "600a4194-585c-4db0-8266-3a603d2e4bdd",
   "metadata": {
    "jupyter": {
     "source_hidden": true
    },
    "tags": [
     "hide-input"
    ]
   },
   "outputs": [
    {
     "data": {
      "image/png": "[encoded data removed]",
      "text/plain": [
       "<Figure size 400x300 with 1 Axes>"
      ]
     },
     "metadata": {},
     "output_type": "display_data"
    }
   ],
   "source": [
    "import numpy as np\n",
    "from scipy.stats import bernoulli\n",
    "import matplotlib.pyplot as plt\n",
    "p = 0.2\n",
    "dist = bernoulli(p=p)\n",
    "n = 100\n",
    "c = 0.1\n",
    "bound = p * (1-p) / n / c**2\n",
    "\n",
    "n_trials = 1000\n",
    "x_bars = []\n",
    "for i in range(n_trials):\n",
    "    x = dist.rvs(size=n, random_state=i)\n",
    "    x_bars.append( x.mean() )\n",
    "\n",
    "fig, ax = plt.subplots(figsize=[4, 3])\n",
    "ax.hist(x_bars, bins=10)\n",
    "ax.axvline(p + c, color=\"gray\", linestyle=\"--\")\n",
    "ax.axvline(p - c, color=\"gray\", linestyle=\"--\")\n",
    "\n",
    "x_bars = np.array(x_bars)\n",
    "is_over = np.abs(x_bars - p) >= c\n",
    "\n",
    "ax.set(\n",
    "    # title=r\"histogram of $\\bar{X}$\",\n",
    "    title=r\"num of |$\\bar{X} - p| \\geq c$ =\" + f\"{is_over.sum()}, num of simulations={n_trials} (→{is_over.sum()}/{n_trials} = {is_over.sum() / n_trials:.1%})\",\n",
    "    xlabel=r\"$\\bar{X}$\",\n",
    "    ylabel=\"count\"\n",
    ")\n",
    "fig.show()"
   ]
  },
  {
   "cell_type": "markdown",
   "id": "71fe7fb2-20e5-4506-af49-ee8b2b268b05",
   "metadata": {},
   "source": [
    "## ヘフディングの不等式\n",
    "\n",
    "チェビシェフの不等式は幅広い範囲で有用ではあるものの、裾の確率を緩く評価してしまう。\n",
    "\n",
    "例えば上記の期待値からのズレの例\n",
    "\n",
    "$$\n",
    "P(|\\bar{X} - 0.2| \\geq 0.1) \\leq \\frac{ 16 }{ n }\n",
    "$$\n",
    "\n",
    "では、$n=1000$であっても「$1.6\\%$は起こるかもしれない」というかなり安全に寄った評価をしてしまう。これは実際にシミュレーションすると0%になるレベルの稀少な事例にもかかわらず。"
   ]
  },
  {
   "cell_type": "code",
   "execution_count": 155,
   "id": "a73acbee-8c92-4c2a-9f74-3bcd0e3397e2",
   "metadata": {
    "jupyter": {
     "source_hidden": true
    },
    "tags": [
     "hide-input"
    ]
   },
   "outputs": [
    {
     "data": {
      "image/png": "[encoded data removed]",
      "text/plain": [
       "<Figure size 400x300 with 1 Axes>"
      ]
     },
     "metadata": {},
     "output_type": "display_data"
    }
   ],
   "source": [
    "import numpy as np\n",
    "from scipy.stats import bernoulli\n",
    "import matplotlib.pyplot as plt\n",
    "p = 0.2\n",
    "dist = bernoulli(p=p)\n",
    "n = 1000\n",
    "c = 0.1\n",
    "bound = p * (1-p) / n / c**2\n",
    "\n",
    "n_trials = 1000\n",
    "x_bars = []\n",
    "for i in range(n_trials):\n",
    "    x = dist.rvs(size=n, random_state=i)\n",
    "    x_bars.append( x.mean() )\n",
    "\n",
    "fig, ax = plt.subplots(figsize=[4, 3])\n",
    "ax.hist(x_bars, bins=10)\n",
    "ax.axvline(p + c, color=\"gray\", linestyle=\"--\")\n",
    "ax.axvline(p - c, color=\"gray\", linestyle=\"--\")\n",
    "\n",
    "x_bars = np.array(x_bars)\n",
    "is_over = np.abs(x_bars - p) >= c\n",
    "\n",
    "ax.set(\n",
    "    # title=r\"histogram of $\\bar{X}$\",\n",
    "    title=r\"num of |$\\bar{X} - p| \\geq c$ =\" + f\"{is_over.sum()}, num of simulations={n_trials} (→{is_over.sum()}/{n_trials} = {is_over.sum() / n_trials:.1%})\",\n",
    "    xlabel=r\"$\\bar{X}$\",\n",
    "    ylabel=\"count\"\n",
    ")\n",
    "fig.show()"
   ]
  },
  {
   "cell_type": "markdown",
   "id": "5d31d444-60a9-405f-ae0d-971693742f16",
   "metadata": {},
   "source": [
    "このような裾の確率をより厳しく抑えるのに役立つのが **ヘフディングの不等式 (Hoeffding's inequality)**"
   ]
  },
  {
   "cell_type": "markdown",
   "id": "813c35b1-f2c1-4b8e-a929-7f36aeeee8f5",
   "metadata": {},
   "source": [
    ":::{admonition} 定理（ヘフディングの不等式）\n",
    "\n",
    "\n",
    "$X_1,\\dots,X_n$を独立な確率変数、$\\bar{X} = \\frac{1}{n}\\sum_{i=1}^n X_i$をその標本平均とし、各$X_i$は区間$[a_i, b_i]$に値を取るとすると、任意の$c > 0$に対して\n",
    "\n",
    "$$\n",
    "P(|\\bar{X}-E[\\bar{X}]| \\geq c) \\leq 2 \\exp \\left(-\\frac{2 n^2 c^2}{\\sum_{i=1}^n (b_i-a_i)^2}\\right)\n",
    "$$\n",
    "\n",
    "が成り立つ。\n",
    "\n",
    ":::\n",
    "\n",
    "すべての確率変数$X_i$が区間$[0,1]$に値を取る場合はもっと単純に\n",
    "\n",
    "\n",
    "$$\n",
    "P(|\\bar{X}-E[\\bar{X}]| \\geq c) \\leq 2 \\exp( -2 n c^2 )\n",
    "$$\n",
    "\n",
    "となる。\n"
   ]
  },
  {
   "cell_type": "markdown",
   "id": "5cfba459-f5b1-4021-9b5e-5e80c882f5e2",
   "metadata": {},
   "source": [
    "前出の成約率の例だと、$n=1000, c=0.1$のとき\n",
    "\n",
    "$$\n",
    "\\begin{aligned}\n",
    "P(|\\bar{X}-E[\\bar{X}]| \\geq 0.1)\n",
    "&\\leq 2 \\exp( -2 \\times 1000 \\times 0.1^2 )\\\\\n",
    "&= 2 \\exp( -20 )\\\\\n",
    "&\\approx 4.122 \\times 10^{-9} \\approx 0\n",
    "\\end{aligned}\n",
    "$$\n",
    "\n",
    "となり、観測結果に近くなる。\n",
    "\n",
    "しかし$n=100, c=0.1$のとき\n",
    "\n",
    "$$\n",
    "\\begin{aligned}\n",
    "P(|\\bar{X}-E[\\bar{X}]| \\geq 0.1)\n",
    "&\\leq 2 \\exp( -2 \\times 100 \\times 0.1^2 )\\\\\n",
    "&= 2 \\exp( -2 )\\\\\n",
    "&\\approx 0.27\n",
    "\\end{aligned}\n",
    "$$\n",
    "\n",
    "とだいぶ大きく評価することもある様子…？"
   ]
  },
  {
   "cell_type": "markdown",
   "id": "1f9825fd-08a4-4175-b53d-66c07addee98",
   "metadata": {},
   "source": [
    "## 確率収束\n",
    "\n",
    ":::{admonition} （定義）確率収束\n",
    "サンプル数$n$を無限大に近づけていったとき、確率変数列$\\{X_n\\}_{n=1}^{\\infty}$が定数$c$から外れる確率がゼロに近づく、すなわち任意の$\\varepsilon>0$について\n",
    "\n",
    "$$\n",
    "\\lim_{n\\to\\infty} P(|X_n - c| > \\varepsilon) = 0, \\quad \\forall\\varepsilon > 0\n",
    "$$\n",
    "\n",
    "ならば、「$X_n$は$c$に**確率収束**（convergence in probability）する」といい\n",
    "\n",
    "$$\n",
    "\\mathop{\\mathrm{plim}}_{n\\to\\infty} X_n = c\n",
    "$$\n",
    "\n",
    "あるいは\n",
    "\n",
    "$$\n",
    "X_n \\overset{p}{\\to} c\n",
    ", \\quad (n\\to\\infty)\n",
    "$$\n",
    "\n",
    "と表す\n",
    ":::"
   ]
  },
  {
   "cell_type": "markdown",
   "id": "d9bdf465-8706-4ba6-b8f8-b0161c658fbc",
   "metadata": {},
   "source": [
    "## 平均2乗収束\n",
    "\n",
    ":::{admonition} （定義）平均2乗収束\n",
    "確率変数列$\\{X_n\\}_{n=1}^{\\infty}$が確率変数$X$に**平均2乗収束**するとは\n",
    "\n",
    "$$\n",
    "\\lim_{n\\to\\infty} E[(X_n - X)^2] = 0\n",
    "$$\n",
    "\n",
    "となることをいう。\n",
    ":::\n",
    "\n",
    "チェビシェフの不等式を使うと「確率変数列がある確率変数に平均2乗収束するならば確率収束する」という命題が導かれる → 大数の法則\n"
   ]
  },
  {
   "cell_type": "markdown",
   "id": "1297ccb9-e26f-4d40-83ff-ce99cd29353c",
   "metadata": {},
   "source": [
    "### 例：大数の法則\n",
    "\n",
    ":::{admonition} （定理）大数の（弱）法則\n",
    "\n",
    "$X_1, \\dots, X_n$はi.i.d.で、$E[|X_i|] < \\infty$とする。このとき、標本平均$\\bar{X}$は$\\mu = E[X_i]$に確率収束する\n",
    "\n",
    "$$\n",
    "\\lim_{n\\to\\infty} P(|\\bar{X} - \\mu| > \\varepsilon) = 0\n",
    "$$\n",
    ":::\n",
    "\n",
    ":::{dropdown} 証明\n",
    "\n",
    "$\\varepsilon > 0$を任意の定数とする。$E[\\bar{X}_n] = \\mu, \\mathrm{Var}[\\bar{X}_n] = \\sigma^2/n$であるから、$\\bar{X}$にチェビシェフの不等式を適用すれば\n",
    "\n",
    "$$\n",
    "P(|\\bar{X}_n-\\mu| \\geq \\varepsilon) \\leq \\frac{\\sigma^2}{n \\varepsilon^2}\n",
    "$$\n",
    "\n",
    "となる。ここで$n \\to \\infty$とおけば右辺は0に収束するから\n",
    "\n",
    "$$\n",
    "\\forall \\varepsilon > 0, \\quad\n",
    "\\lim_{n\\to \\infty} P(|\\bar{X}_n-\\mu| \\geq \\varepsilon) = 0\n",
    "$$\n",
    ":::"
   ]
  },
  {
   "cell_type": "markdown",
   "id": "0c873751-e71f-4584-8d97-7ec28cbdedd0",
   "metadata": {},
   "source": [
    "### 例：推定量の一致性\n",
    "\n",
    "推定量$\\hat{\\theta}$が真のパラメータ$\\theta$に確率収束\n",
    "\n",
    "$$\n",
    "\\hat{\\theta} \\overset{p}{\\to} \\theta\n",
    "$$\n",
    "\n",
    "するとき、その推定量は**一致性**（consistency）を持つという"
   ]
  },
  {
   "cell_type": "markdown",
   "id": "b868ba34-6311-4424-ab18-e2b5ad1c82ef",
   "metadata": {},
   "source": [
    "## 概収束\n",
    "\n",
    ":::{admonition} （定義）概収束\n",
    "確率変数列$\\{X_n\\}$が確率変数$X$について\n",
    "\n",
    "$$\n",
    "P(\\{\\omega | \\lim_{n\\to\\infty} |X_n(\\omega) - X(\\omega)| = 0\\}) = 1\n",
    "$$\n",
    "\n",
    "となるとき**概収束**（almost sure convergence）するといい、\n",
    "\n",
    "$$\n",
    "X_n \\to X \\text{ a.s. }\n",
    "$$\n",
    "と表す。\n",
    ":::"
   ]
  },
  {
   "cell_type": "markdown",
   "id": "13908331-aaff-4eaa-9bc8-3ea46e3ec8fa",
   "metadata": {},
   "source": [
    "## 分布収束\n",
    "\n",
    ":::{admonition} （定義）分布収束\n",
    "確率変数列$\\{X_n\\}$が確率変数$X$に**分布収束**（convergence in distribution）するとは、\n",
    "\n",
    "$$\n",
    "\\lim_{n\\to\\infty} P(X_n \\leq x) = P(X\\leq x) = F_X(x)\n",
    "$$\n",
    "\n",
    "が$F_X(x)$のすべての連続な点で成り立つことをいい、$X_n \\overset{d}{\\to} X$と表す。\n",
    ":::"
   ]
  },
  {
   "cell_type": "markdown",
   "id": "bc0a159e-c0d4-4cd4-a75b-f82f6c1dc0b5",
   "metadata": {},
   "source": [
    "### 例：中心極限定理\n",
    "\n",
    "確率変数列$\\{X_n\\}_{n=1}^{\\infty}$はi.i.d.で平均$\\mu:=E[X_i]$と分散$\\sigma^2:=Var(X_i)$が存在するとする。このとき、以下の分布収束が成り立つ\n",
    "\n",
    "$$\n",
    "\\sqrt{n} (\\bar{X} - \\mu) \\overset{d}{\\to} N(0, \\sigma^2)\n",
    ",\\hspace{1em} n\\to\\infty\n",
    "$$\n",
    "\n",
    "ここで$N(0, \\sigma^2)$を$\\bar{X}$の漸近分布（asymptoticd distribution）という。\n",
    "\n",
    "（※なお、$N(0, \\sigma^2)$は正規分布を表す記号ではなく、正規分布に従う**確率変数**を意味するので注意。ややこしい記法だが標準的でよく見られる書き方である）\n",
    "\n",
    "なお、上の式は\n",
    "\n",
    "$$\n",
    "\\bar{X} - \\mu \\overset{d}{\\to} \\frac{1}{\\sqrt{n}} N(0, \\sigma^2)\n",
    "= N\\left(0, \\frac{\\sigma^2}{n}\\right)\n",
    "$$\n",
    "\n",
    "のように整理できる。\n",
    "\n",
    "（$\\sigma^2$は未知だが標本分散を用いてもこの関係性が成り立つ）"
   ]
  },
  {
   "cell_type": "markdown",
   "id": "3b392816-bf05-4e23-a0bf-2ea2372c70b9",
   "metadata": {},
   "source": []
  },
  {
   "cell_type": "markdown",
   "id": "d7afb47d-16f0-4a3f-8444-5436746e315c",
   "metadata": {},
   "source": [
    "## 参考\n",
    "\n",
    "- [絶対に分かる機械学習理論 - ｼﾞｮｲｼﾞｮｲｼﾞｮｲ](https://joisino.hatenablog.com/entry/theory?_gl=1*1cskm1k*_gcl_au*NjE2NDI4NTI2LjE3Mzc4NzI0NTU.)"
   ]
  }
 ],
 "metadata": {
  "kernelspec": {
   "display_name": "Python 3 (ipykernel)",
   "language": "python",
   "name": "python3"
  },
  "language_info": {
   "codemirror_mode": {
    "name": "ipython",
    "version": 3
   },
   "file_extension": ".py",
   "mimetype": "text/x-python",
   "name": "python",
   "nbconvert_exporter": "python",
   "pygments_lexer": "ipython3",
   "version": "3.10.18"
  }
 },
 "nbformat": 4,
 "nbformat_minor": 5
}
