{
 "cells": [
  {
   "cell_type": "markdown",
   "id": "d76b7ec4-a1f0-4435-9c0c-a7b84c1f06c2",
   "metadata": {},
   "source": [
    "# 漸近理論"
   ]
  },
  {
   "cell_type": "markdown",
   "id": "1f9825fd-08a4-4175-b53d-66c07addee98",
   "metadata": {},
   "source": [
    "## 確率収束\n",
    "\n",
    ":::{admonition} （定義）確率収束\n",
    "サンプル数$n$を無限大に近づけていったとき、確率変数列$\\{X_n\\}_{n=1}^{\\infty}$が定数$c$から外れる確率がゼロに近づく、すなわち任意の$\\varepsilon>0$について\n",
    "\n",
    "$$\n",
    "\\lim_{n\\to\\infty} P(|X_n - c| > \\varepsilon) = 0, \\quad \\forall\\varepsilon > 0\n",
    "$$\n",
    "\n",
    "ならば、「$X_n$は$c$に**確率収束**（convergence in probability）する」といい\n",
    "\n",
    "$$\n",
    "\\mathop{\\mathrm{plim}}_{n\\to\\infty} X_n = c\n",
    "$$\n",
    "\n",
    "あるいは\n",
    "\n",
    "$$\n",
    "X_n \\overset{p}{\\to} c\n",
    ", \\quad (n\\to\\infty)\n",
    "$$\n",
    "\n",
    "と表す\n",
    ":::"
   ]
  },
  {
   "cell_type": "markdown",
   "id": "1297ccb9-e26f-4d40-83ff-ce99cd29353c",
   "metadata": {},
   "source": [
    "### 例：大数の法則\n",
    "\n",
    ":::{admonition} （定理）大数の（弱）法則\n",
    "$X_1, \\dots, X_n$はi.i.d.で、$E[|X_i|] < \\infty$とする。このとき、標本平均$\\bar{X}$は$\\mu = E[X_i]$に確率収束する\n",
    "\n",
    "$$\n",
    "\\lim_{n\\to\\infty} P(|\\bar{X} - \\mu| > \\varepsilon) = 0\n",
    "$$\n",
    ":::"
   ]
  },
  {
   "cell_type": "markdown",
   "id": "0c873751-e71f-4584-8d97-7ec28cbdedd0",
   "metadata": {},
   "source": [
    "### 例：推定量の一致性\n",
    "\n",
    "推定量$\\hat{\\theta}$が真のパラメータ$\\theta$に確率収束\n",
    "\n",
    "$$\n",
    "\\hat{\\theta} \\overset{p}{\\to} \\theta\n",
    "$$\n",
    "\n",
    "するとき、その推定量は**一致性**（consistency）を持つという"
   ]
  },
  {
   "cell_type": "markdown",
   "id": "a582e943-83ef-44f0-97f8-416d75289b25",
   "metadata": {},
   "source": [
    "### 平均2乗収束\n",
    "\n",
    ":::{admonition} （定義）平均2乗収束\n",
    "確率変数列$\\{X_n\\}_{n=1}^{\\infty}$が確率変数$X$に**平均2乗収束**するとは\n",
    "\n",
    "$$\n",
    "\\lim_{n\\to\\infty} E[(X_n - X)^2] = 0\n",
    "$$\n",
    "\n",
    "となることをいう。\n",
    ":::\n",
    "\n",
    "チェビシェフの不等式を使うと「確率変数列がある確率変数に平均2乗収束するるならば確率収束する」という命題が導かれるらしい\n"
   ]
  },
  {
   "cell_type": "markdown",
   "id": "b868ba34-6311-4424-ab18-e2b5ad1c82ef",
   "metadata": {},
   "source": [
    "## 概収束\n",
    "\n",
    ":::{admonition} （定義）概収束\n",
    "確率変数列$\\{X_n\\}$が確率変数$X$について\n",
    "\n",
    "$$\n",
    "P(\\{\\omega | \\lim_{n\\to\\infty} |X_n(\\omega) - X(\\omega)| = 0\\}) = 1\n",
    "$$\n",
    "\n",
    "となるとき**概収束**（almost sure convergence）するといい、\n",
    "\n",
    "$$\n",
    "X_n \\to X \\text{ a.s. }\n",
    "$$\n",
    "と表す。\n",
    ":::"
   ]
  },
  {
   "cell_type": "markdown",
   "id": "13908331-aaff-4eaa-9bc8-3ea46e3ec8fa",
   "metadata": {},
   "source": [
    "## 分布収束\n",
    "\n",
    ":::{admonition} （定義）分布収束\n",
    "確率変数列$\\{X_n\\}$が確率変数$X$に**分布収束**（convergence in distribution）するとは、\n",
    "\n",
    "$$\n",
    "\\lim_{n\\to\\infty} P(X_n \\leq x) = P(X\\leq x) = F_X(x)\n",
    "$$\n",
    "\n",
    "が$F_X(x)$のすべての連続な点で成り立つことをいい、$X_n \\overset{d}{\\to} X$と表す。\n",
    ":::"
   ]
  },
  {
   "cell_type": "markdown",
   "id": "bc0a159e-c0d4-4cd4-a75b-f82f6c1dc0b5",
   "metadata": {},
   "source": [
    "### 例：中心極限定理\n",
    "\n",
    "確率変数列$\\{X_n\\}_{n=1}^{\\infty}$はi.i.d.で平均$\\mu:=E[X_i]$と分散$\\sigma^2:=Var(X_i)$が存在するとする。このとき、以下の分布収束が成り立つ\n",
    "\n",
    "$$\n",
    "\\sqrt{n} (\\bar{X} - \\mu) \\overset{d}{\\to} N(0, \\sigma^2)\n",
    ",\\hspace{1em} n\\to\\infty\n",
    "$$\n",
    "\n",
    "ここで$N(0, \\sigma^2)$を$\\bar{X}$の漸近分布（asymptoticd distribution）という。\n",
    "\n",
    "（※なお、$N(0, \\sigma^2)$は正規分布を表す記号ではなく、正規分布に従う**確率変数**を意味するので注意。ややこしい記法だが標準的でよく見られる書き方である）\n",
    "\n",
    "なお、上の式は\n",
    "\n",
    "$$\n",
    "\\bar{X} - \\mu \\overset{d}{\\to} \\frac{1}{\\sqrt{n}} N(0, \\sigma^2)\n",
    "= N\\left(0, \\frac{\\sigma^2}{n}\\right)\n",
    "$$\n",
    "\n",
    "のように整理できる。\n",
    "\n",
    "（$\\sigma^2$は未知だが標本分散を用いてもこの関係性が成り立つ）"
   ]
  },
  {
   "cell_type": "code",
   "execution_count": null,
   "id": "357a95d8-cec0-4c5b-a5d2-7c2ced0d56ff",
   "metadata": {},
   "outputs": [],
   "source": []
  }
 ],
 "metadata": {
  "kernelspec": {
   "display_name": "Python 3 (ipykernel)",
   "language": "python",
   "name": "python3"
  },
  "language_info": {
   "codemirror_mode": {
    "name": "ipython",
    "version": 3
   },
   "file_extension": ".py",
   "mimetype": "text/x-python",
   "name": "python",
   "nbconvert_exporter": "python",
   "pygments_lexer": "ipython3",
   "version": "3.10.13"
  }
 },
 "nbformat": 4,
 "nbformat_minor": 5
}
