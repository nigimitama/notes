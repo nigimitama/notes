{
 "cells": [
  {
   "cell_type": "markdown",
   "id": "ac893cb1-e9f0-438d-9205-4a1ff4b33586",
   "metadata": {},
   "source": [
    "# 漸近オーダーの表記法\n",
    "\n",
    "## ランダウの記号\n",
    "\n",
    "**ランダウの記号**（Landau's symbol）は関数や数列の漸近挙動を大まかに把握するときに使われる記法。\n",
    "\n",
    "例えば$a_n = n^{-2}, b_n = n^{-1}$のとき、\n",
    "\n",
    "$$\n",
    "\\frac{a_n}{b_n} = \\frac{1/n^2}{1/n} = \\frac{n}{n^2}  = \\frac{1}{n} \\to 0\n",
    ", \\hspace{1em} n \\to \\infty\n",
    "$$\n",
    "\n",
    "という関係があるが、$n$を増やしていったときに$a_n$のほうがより早く$0$へ収束する。\n",
    "\n",
    "このように漸近的（$n \\to \\infty$）には$a_n$が$n^{-1}$「より小さい」ということを\n",
    "\n",
    "$$\n",
    "a_n = o(n^{-1}), \\hspace{1em} n \\to \\infty\n",
    "$$\n",
    "\n",
    "と書く。\n",
    "\n",
    "\n",
    ":::{admonition} （定義） スモール・オーダー\n",
    "数列$a_n, b_n (n \\in \\mathbb{N})$に対して、$a_n / b_n \\to 0 \\ (n \\to \\infty)$となるとき\n",
    "\n",
    "$$\n",
    "a_n = o(b_n), \\hspace{1em} n \\to \\infty\n",
    "$$\n",
    "\n",
    "と書き、$a_n$は$b_n$の**スモール・オーダー**（small order）であるという。\n",
    ":::\n",
    "\n"
   ]
  },
  {
   "cell_type": "markdown",
   "id": "152df787-109a-4131-83dd-57d765138389",
   "metadata": {},
   "source": [
    ":::{admonition} （定義） キャピタル・オーダー\n",
    "数列$a_n, b_n (n \\in \\mathbb{N})$に対して、$a_n / b_n (n \\to \\infty)$が有界となるとき、\n",
    "すなわち、ある定数$M>0$が存在して\n",
    "\n",
    "$$\n",
    "\\DeclareMathOperator*{\\liminf}{\\lim\\inf}\n",
    "\\DeclareMathOperator*{\\limsup}{\\lim\\sup}\n",
    "-M < \\liminf_{n\\to\\infty} \\frac{a_n}{b_n}\n",
    "\\leq \\limsup_{n\\to\\infty} \\frac{a_n}{b_n} < M\n",
    "$$\n",
    "\n",
    "となるとき、\n",
    "\n",
    "$$\n",
    "a_n = O(b_n), \\hspace{1em} n \\to \\infty\n",
    "$$\n",
    "\n",
    "と書き、$a_n$は$b_n$の **キャピタル・オーダー** （capital order） あるいは **ラージ・オーダー** であるという。\n",
    "\n",
    "特に、$a_n / b_n\\to 1 \\ (n \\to \\infty)$となるとき\n",
    "\n",
    "$$\n",
    "a_n \\sim b_n, \\quad( n \\to \\infty)\n",
    "$$\n",
    "\n",
    "と書いて、$a_n$と$b_n$は**漸近同等**（asymptotically equivalent）という。\n",
    ":::\n",
    "\n"
   ]
  },
  {
   "cell_type": "markdown",
   "id": "339f6745-2e59-4025-add9-eda235b62321",
   "metadata": {},
   "source": [
    "### 例：無限小\n",
    "\n",
    "$0$に近づく独立変数$h$（**独立無限小量** という）に依存する量$R(h)$が$h\\to 0$とともに0に近づくとき、$R(h)$を$h$の **無限小量** あるいは **無限小** という。\n",
    "\n",
    "ある$R(h)$を標準的な無限小量$h^n$と比較してランダウの記号を使って表す場合、以下のようになる。\n",
    "\n",
    ":::{admonition} $n$次より高次の無限小\n",
    "\n",
    "$\\displaystyle \\frac{R(h)}{h^n} \\to 0$のとき、$R(h)$は$h$の$n$次より高次の無限小であるといい、\n",
    "\n",
    "$$\n",
    "R(h) = o(h^n)\n",
    "$$\n",
    "\n",
    "と記す。とくに$n=0$のときは$R(h)=o(1)$と記す（これは$R(h)$が無限小量だというのと同じことを言ってるだけ）。\n",
    ":::\n",
    "\n",
    ":::{admonition} $n$次の無限小\n",
    "\n",
    "$\\displaystyle \\frac{R(h)}{h^n}$が有界に留まるとき、$R(h)$は$h$の（少なくとも）$n$次の無限小であるといい、\n",
    "\n",
    "$$\n",
    "R(h) = O(h^n)\n",
    "$$\n",
    "\n",
    "と記す。\n",
    "\n",
    "とくに$n=0$のときは\n",
    "\n",
    "$$\n",
    "R(h)=O(1)\n",
    "$$\n",
    "\n",
    "と記す。\n",
    "\n",
    "これは$R(h)$が$h\\to 0$のとき少なくとも値が有界にとどまり、無限に大きくなったりはしないという意味。\n",
    ":::"
   ]
  },
  {
   "cell_type": "markdown",
   "id": "5596c9e4-ffd0-4a09-8c54-11d2de6e524f",
   "metadata": {},
   "source": [
    "## 確率的ランダウの記号\n",
    "\n",
    "ランダウの記号の確率バージョン\n",
    "\n",
    ":::{admonition} （定義） スモール・オーダー\n",
    "確率変数列$\\{X_n\\}, \\{Y_n\\}$に対して、$X_n / Y_n \\overset{p}{\\to} 0 \\ (n \\to \\infty)$となるとき\n",
    "\n",
    "$$\n",
    "X_n = o_p(Y_n), \\hspace{1em} n \\to \\infty\n",
    "$$\n",
    "\n",
    "と書き、$X_n$は$Y_n$の**スモール・オーダー**（small order）であるという。\n",
    ":::"
   ]
  },
  {
   "cell_type": "markdown",
   "id": "740f6b90-714a-4324-8714-cfda8f560301",
   "metadata": {},
   "source": [
    "例：\n",
    "\n",
    "$X_n \\overset{p}{\\to} X$ なる確率変数列$\\{X_n\\}$に対して\n",
    "\n",
    "$$\n",
    "X_n = X + o_p(1), \\hspace{1em} n \\to \\infty\n",
    "$$\n",
    "\n",
    "と書くことができる。$X_n$を決める主要な項は$X$であり、残りは誤差のようなもの、ということ。\n"
   ]
  },
  {
   "cell_type": "markdown",
   "id": "5ac43f5b-9069-4de3-9f9b-7d3add3b3ad5",
   "metadata": {},
   "source": [
    ":::{admonition} （定義）確率有界\n",
    "\n",
    "確率変数列$\\{X_n\\}$が\n",
    "\n",
    "$$\n",
    "\\lim_{M\\to\\infty} \\sup_{n\\in \\mathbb{N}}\n",
    "P(|X_n| > M) = 0\n",
    "$$\n",
    "\n",
    "を満たすとき、$\\{X_n\\}$は**確率有界**（bounded in probability）、あるいは（**一様**）**緊密**（タイト、uniformly tight）であるといい、\n",
    "\n",
    "$$\n",
    "X_n = O_p(1), \\hspace{1em} n \\to \\infty\n",
    "$$\n",
    "\n",
    "と書く。\n",
    ":::"
   ]
  },
  {
   "cell_type": "markdown",
   "id": "18b3d2f6-b04c-489f-b96a-201fb560056d",
   "metadata": {},
   "source": [
    "- $\\sup$は supremum（上限）\n",
    "- 任意の$n\\in\\mathbb{N}$について上限の$P(|X_n| > M)$が$M\\to\\infty$の極限で0になる？"
   ]
  },
  {
   "cell_type": "markdown",
   "id": "f69e813f-414b-4b79-bd45-af4ff25c213d",
   "metadata": {},
   "source": [
    "確率変数$X$に対する単独のtightnessは\n",
    "\n",
    "$$\n",
    "\\lim_{M\\to\\infty} P(|X| > M) = 0\n",
    "$$"
   ]
  },
  {
   "cell_type": "markdown",
   "id": "16a7fed7-7914-48e1-9ab5-33a55aca298f",
   "metadata": {},
   "source": [
    ":::{admonition} （定義） キャピタル・オーダー\n",
    "確率変数列$\\{X_n\\}, \\{Y_n\\}$が$X_n/Y_n = O_p(1)$となるとき、\n",
    "\n",
    "$$\n",
    "X_n = O_p(Y_n), \\hspace{1em} n \\to \\infty\n",
    "$$\n",
    "\n",
    "のように書き、$X_n$は$Y_n$の**キャピタル・オーダー**であるという。\n",
    "\n",
    "特に、$X_n / Y_n \\overset{p}{\\to} 1$となるとき\n",
    "\n",
    "$$\n",
    "X_n \\sim Y_n\n",
    "$$\n",
    "\n",
    "と書いて、$X_n$と$Y_n$は（**確率的に**）**漸近同等**（asymptotically equivalent）という。\n",
    "\n",
    "（$X_n - Y_n = o_p(1)$となることを漸近同等という定義もある）\n",
    ":::\n",
    "\n"
   ]
  },
  {
   "cell_type": "markdown",
   "id": "f415937f-d237-4fde-9ace-5825c4d0c6b8",
   "metadata": {},
   "source": [
    "### 例：$\\sqrt{n}$-consistency\n",
    "\n",
    "ある推定量$\\theta_0$が真の推定量$\\theta$について\n",
    "\n",
    "$$\n",
    "\\theta_0 - \\theta = O_p(1/\\sqrt{n})\n",
    ", \\hspace{1em} n \\to \\infty\n",
    "$$\n",
    "\n",
    "である（$1/\\sqrt{n}$と同程度のレートでゼロに収束する）とき、この推定量は$\\sqrt{n}$-consistencyと呼ばれる\n"
   ]
  },
  {
   "cell_type": "markdown",
   "id": "6dfc1dd7-57a4-455d-a7ed-75d15cfa0812",
   "metadata": {},
   "source": [
    "## 参考文献\n",
    "\n",
    "清水泰隆（2021）『統計学への確率論，その先へ』"
   ]
  }
 ],
 "metadata": {
  "kernelspec": {
   "display_name": "Python 3 (ipykernel)",
   "language": "python",
   "name": "python3"
  },
  "language_info": {
   "codemirror_mode": {
    "name": "ipython",
    "version": 3
   },
   "file_extension": ".py",
   "mimetype": "text/x-python",
   "name": "python",
   "nbconvert_exporter": "python",
   "pygments_lexer": "ipython3",
   "version": "3.10.13"
  }
 },
 "nbformat": 4,
 "nbformat_minor": 5
}
