{
 "cells": [
  {
   "cell_type": "markdown",
   "id": "f0fba8af-ed87-4e78-90b6-f3afa759f88f",
   "metadata": {},
   "source": [
    "# 経験過程"
   ]
  },
  {
   "cell_type": "markdown",
   "id": "87dc97d6-4782-455a-bb26-2eccd0d3c75c",
   "metadata": {},
   "source": [
    "### Notation\n",
    "\n",
    "- $P$：可測空間$(\\mathcal{X}, \\mathcal{B})$における測度\n",
    "- $f: \\mathcal{X} \\mapsto \\mathbb{R}^k$：可測関数\n",
    "- $Pf = \\int f dP$\n",
    "- $E_P f(X_1)$：期待値。$X_1$は$P$に従い分布する確率変数"
   ]
  },
  {
   "cell_type": "markdown",
   "id": "2924cd56-f143-4ead-982e-2321129d4ce6",
   "metadata": {},
   "source": [
    "### 経験過程\n",
    "\n",
    "標本$X_1,\\dots,X_n$の **経験測度**（empirical measure） $\\mathbb{P}_n$は\n",
    "\n",
    "$$\n",
    "\\mathbb{P}_n f=\\frac{1}{n} \\sum_{i=1}^n f\\left(X_i\\right)\n",
    "$$\n",
    "\n",
    "\n",
    "**経験過程**（empirical process） $\\mathbb{G}_n$は経験測度の中心化されスケールされたものであり、\n",
    "\n",
    "$$\n",
    "\\mathbb{G}_n f :=\\sqrt{n}\\left(\\mathbb{P}_n f-P f\\right)=\\frac{1}{\\sqrt{n}} \\sum_{i=1}^n\\left(f\\left(X_i\\right)-\\mathrm{E}_P f\\left(X_i\\right)\\right)\n",
    "$$\n",
    "\n",
    "と定義される。"
   ]
  },
  {
   "cell_type": "markdown",
   "id": "76ab9c08-f4e6-49b7-99c2-ddb996227098",
   "metadata": {},
   "source": [
    "## 経験分布関数\n",
    "\n",
    "分布関数$F$から得られた確率標本$X_1,\\dots,X_n$があるとする。\n",
    "\n",
    "**経験分布関数** （empirical distribution function）は以下のように定義される。\n",
    "\n",
    "$$\n",
    "\\mathbb{F}_n(t)=\\frac{1}{n} \\sum_{i=1}^n 1 \\{X_i \\leq t\\}\n",
    "$$\n",
    "\n",
    "$n\\mathbb{F}_n(t)$は平均$nF(t)$で二項分布するため、この推定量は不偏である。\n",
    "また、大数の法則により一致性もある。\n",
    "\n",
    "$$\n",
    "\\mathbb{F}_n(t) \\xrightarrow{\\text { as }} F(t), \\quad \\text { every } t\n",
    "$$\n",
    "\n",
    "中心極限定理により、漸近正規性をもつ。\n",
    "\n",
    "$$\n",
    "\\sqrt{n}\\left(\\mathbb{F}_n(t)-F(t)\\right) \\rightsquigarrow N \\big(0, F(t)(1-F(t))\\big)\n",
    "$$\n"
   ]
  },
  {
   "cell_type": "markdown",
   "id": "26c48aed-d703-4f80-abef-0758284bdeb2",
   "metadata": {},
   "source": [
    "## Glivenko-Cantelli theorem\n",
    "\n",
    "大数の法則を拡張し、一様収束（uniform convergence）することを示す。\n",
    "\n",
    "まず、uniform distanceについて。経験分布のuniform distance\n",
    "\n",
    "$$\n",
    "\\left\\|\\mathbb{F}_n-F\\right\\|_{\\infty}=\\sup _t\\left|\\mathbb{F}_n(t)-F(t)\\right|\n",
    "$$\n",
    "\n",
    "はKolmogorov-Smirnov統計量として知られている。\n",
    "\n",
    "\n",
    ":::{admonition} 定理（Glivenko-Cantelli）\n",
    "\n",
    "$X_1,X_2,\\dots,$が分布関数$F$に従うi.i.d.の確率変数であるとき、\n",
    "\n",
    "$$\n",
    "\\left\\|\\mathbb{F}_n-F\\right\\|_{\\infty} \\overset{\\text{as}}{\\to} 0\n",
    "$$\n",
    ":::"
   ]
  },
  {
   "cell_type": "markdown",
   "id": "b3d1056f-e11f-4a2a-8c67-257fa6dac4f7",
   "metadata": {},
   "source": [
    "## Donsker定理\n",
    "\n",
    "i.i.d. でない系列にも適用できるよう一般化した中心極限定理。\n",
    "\n",
    ":::{admonition} 定理（Donsker）\n",
    "\n",
    "$X_1,X_2,\\dots,$が分布関数$F$に従うi.i.d.の確率変数であるとき、\n",
    "\n",
    "経験過程の列$\\sqrt{n}\\left(\\mathbb{F}_n-F\\right)$は空間$D[-\\infty, \\infty]$におけるタイトな確率要素（random element） $\\mathbb{G}_F$に分布収束し、その周辺分布は平均が0で共分散関数が$\\mathrm{EG}_F\\left(t_i\\right) \\mathbb{G}_F\\left(t_j\\right)=F\\left(t_i \\wedge t_j\\right)-F\\left(t_i\\right) F\\left(t_j\\right)$である正規分布になる\n",
    ":::\n",
    "\n"
   ]
  },
  {
   "cell_type": "markdown",
   "id": "f7f6749b-c94b-4aec-95d5-4696bbde387b",
   "metadata": {},
   "source": [
    "$\\mathbb{G}_F$は$F$-ブラウン橋（F-Brownian bridge）過程として知られる"
   ]
  },
  {
   "cell_type": "markdown",
   "id": "082392c0-af99-4340-94ea-df791edfdc24",
   "metadata": {},
   "source": [
    ":::{admonition} 超一般化中心極限定理\n",
    "\n",
    "Donsker定理をさらに一般化したものも提案されている様子\n",
    "\n",
    "[なぜ世界は「べき則」であらわされるのか －ビッグデータの新しい統計法則の発見－ | 京都大学](https://www.kyoto-u.ac.jp/ja/research-news/2018-04-02)\n",
    ":::"
   ]
  },
  {
   "cell_type": "markdown",
   "id": "9a02ae8d-da9e-493f-98a4-cb42c30749d7",
   "metadata": {},
   "source": [
    "## 参考文献\n",
    "\n",
    "- [互いに独立でなくてもできる中心極限定理と, そのデモ (Gordin's CLT/Donsker定理) - ill-identified diary](https://ill-identified.hatenablog.com/entry/2021/03/31/212337)\n",
    "- [経験過程理論入門](https://mcm-www.jwu.ac.jp/~konno/pdf/stat-opu-text_0823.pdf)\n",
    "- [書評 Weak Convergence and Empirical Processes](https://www.jstage.jst.go.jp/article/sugaku/61/1/61_1_102/_pdf/-char/ja)"
   ]
  },
  {
   "cell_type": "code",
   "execution_count": null,
   "id": "afb0b138-36ff-41a0-a33d-26c83c2cca71",
   "metadata": {},
   "outputs": [],
   "source": []
  }
 ],
 "metadata": {
  "kernelspec": {
   "display_name": "Python 3 (ipykernel)",
   "language": "python",
   "name": "python3"
  },
  "language_info": {
   "codemirror_mode": {
    "name": "ipython",
    "version": 3
   },
   "file_extension": ".py",
   "mimetype": "text/x-python",
   "name": "python",
   "nbconvert_exporter": "python",
   "pygments_lexer": "ipython3",
   "version": "3.10.14"
  }
 },
 "nbformat": 4,
 "nbformat_minor": 5
}
