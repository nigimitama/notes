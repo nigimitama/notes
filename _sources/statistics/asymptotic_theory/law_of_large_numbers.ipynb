{
 "cells": [
  {
   "cell_type": "markdown",
   "id": "d2e93316-482f-4163-a9b1-9c5347201e4c",
   "metadata": {},
   "source": [
    "# 大数の法則"
   ]
  },
  {
   "cell_type": "markdown",
   "id": "9f4b8283-17c1-42f1-8fbc-3b8ecdc0b3fb",
   "metadata": {},
   "source": [
    ":::{admonition} 大数の弱法則\n",
    ":class: info\n",
    "\n",
    "確率変数$X_1,X_2,\\dots,X_n$が互いに独立に分布関数$F$に従うとする。また、$E[X_i]=\\mu, \\mathrm{Var}[X_i]=\\sigma^2$が存在するものとする。\n",
    "\n",
    "$n\\to\\infty$のとき、標本平均$\\bar{X}_n = \\frac{1}{n}\\sum_{i=1}^n X_i$が母平均$\\mu$に収束する\n",
    "\n",
    "\n",
    "$$\n",
    "\\bar{X} \\overset{p}{\\to} E[X] = \\mu, \\quad (n \\to \\infty)\n",
    "$$\n",
    "\n",
    "これは **大数の弱法則** （weak law of large numbers）あるいは単に **大数の法則** と呼ばれる\n",
    ":::"
   ]
  },
  {
   "cell_type": "markdown",
   "id": "4604a0f6-66d1-4070-aff7-23c801a281bd",
   "metadata": {},
   "source": [
    "## 証明の前提知識"
   ]
  },
  {
   "cell_type": "markdown",
   "id": "69b420ac-38a9-44da-8b6a-218253446011",
   "metadata": {},
   "source": [
    ":::{admonition} マルコフの不等式\n",
    ":class: info\n",
    "\n",
    "$X$を非負の確率変数$X\\geq 0$とし、$E[X]<\\infty$とする。このとき任意の$c>0$に対して\n",
    "\n",
    "$$\n",
    "P(X \\geq c) \\leq \\frac{E[X]}{c}\n",
    "$$\n",
    "\n",
    "が成立する。\n",
    ":::"
   ]
  },
  {
   "cell_type": "markdown",
   "id": "337c4fb8-cfa2-40b7-aaf2-e6472b5fc5ba",
   "metadata": {},
   "source": [
    ":::{dropdown} 証明\n",
    "\n",
    "いま$Y$を\n",
    "\n",
    "$$\n",
    "Y= \\begin{cases}\n",
    "0, & \\text { if } X<c \\\\\n",
    "c, & \\text { if } X \\geq c\n",
    "\\end{cases}\n",
    "$$\n",
    "\n",
    "と定義する。このとき常に$Y\\leq X$である。したがって$E[Y]\\leq E[X]$である。\n",
    "\n",
    "$$\n",
    "\\begin{align}\n",
    "E[Y]\n",
    "&= 0\\times P(Y=0) + c \\times P(Y=c)\\\\\n",
    "&=cP(X\\leq c)\n",
    "\\end{align}\n",
    "$$\n",
    "\n",
    "であるから$E[Y]\\leq E[X]$は\n",
    "\n",
    "$$\n",
    "cP(X\\geq c) \\leq E[X]\n",
    "$$\n",
    "\n",
    "となる。$c$で両辺を割れば\n",
    "\n",
    "\n",
    "$$\n",
    "P(X \\geq c) \\leq \\frac{E[X]}{c}\n",
    "$$\n",
    ":::"
   ]
  },
  {
   "cell_type": "markdown",
   "id": "0eaf5ab2-ae02-43fa-a814-bac1c97e7005",
   "metadata": {},
   "source": [
    ":::{admonition} チェビシェフの不等式\n",
    ":class: info\n",
    "\n",
    "$E[X] = \\mu, \\mathrm{Var}[X] = \\sigma^2$がいずれも有限な確率変数$X$を考える。（こちらは非負の確率変数に限らない）\n",
    "\n",
    "このとき任意の$c>0$に対して\n",
    "\n",
    "$$\n",
    "P(|X-\\mu|\\geq c)\n",
    "\\leq \\frac{\\sigma^2}{c^2}\n",
    "$$\n",
    "\n",
    "が成立する。\n",
    ":::"
   ]
  },
  {
   "cell_type": "markdown",
   "id": "fd745a26-9998-4e87-8ce0-516a43c2f343",
   "metadata": {},
   "source": [
    ":::{dropdown} 証明\n",
    "\n",
    "$Y=(X-\\mu)^2$とおき、$Y$にマルコフの不等式を適用すれば、\n",
    "\n",
    "$$\n",
    "P(Y \\geq c^2)\n",
    "\\leq \\frac{E[Y]}{c^2}\n",
    "= \\frac{\\sigma^2}{c^2}\n",
    "$$\n",
    "\n",
    "ここで\n",
    "\n",
    "$$\n",
    "Y \\geq c^2 \\Longleftrightarrow|X-\\mu| \\geq c\n",
    "$$\n",
    "\n",
    "であるから\n",
    "\n",
    "$$\n",
    "P(Y \\geq c^2) = P(|X - \\mu| \\geq c)\n",
    "$$\n",
    "\n",
    "となり\n",
    "\n",
    "$$\n",
    "P(|X-\\mu|\\geq c)\n",
    "\\leq \\frac{\\sigma^2}{c^2}\n",
    "$$\n",
    "\n",
    "が成立する\n",
    ":::"
   ]
  },
  {
   "cell_type": "markdown",
   "id": "519dddb2-042f-425e-b0be-80c622822a51",
   "metadata": {},
   "source": [
    "## 証明\n",
    "\n",
    "$\\varepsilon > 0$を任意の定数とする。$E[\\bar{X}_n] = \\mu, \\mathrm{Var}[\\bar{X}_n] = \\sigma^2/n$であるから、$\\bar{X}$にチェビシェフの不等式を適用すれば\n",
    "\n",
    "$$\n",
    "P(|\\bar{X}_n-\\mu| \\geq \\varepsilon) \\leq \\frac{\\sigma^2}{n \\varepsilon^2}\n",
    "$$\n",
    "\n",
    "となる。ここで$n \\to \\infty$とおけば右辺は0に収束するから\n",
    "\n",
    "$$\n",
    "\\forall \\varepsilon > 0, \\quad\n",
    "\\lim_{n\\to \\infty} P(|\\bar{X}_n-\\mu| \\geq \\varepsilon) = 0\n",
    "$$\n",
    "\n",
    "よって\n",
    "\n",
    "$$\n",
    "\\bar{X} \\overset{p}{\\to} \\mu, \\quad (n \\to \\infty)\n",
    "$$"
   ]
  }
 ],
 "metadata": {
  "kernelspec": {
   "display_name": "Python 3 (ipykernel)",
   "language": "python",
   "name": "python3"
  },
  "language_info": {
   "codemirror_mode": {
    "name": "ipython",
    "version": 3
   },
   "file_extension": ".py",
   "mimetype": "text/x-python",
   "name": "python",
   "nbconvert_exporter": "python",
   "pygments_lexer": "ipython3",
   "version": "3.10.14"
  }
 },
 "nbformat": 4,
 "nbformat_minor": 5
}
