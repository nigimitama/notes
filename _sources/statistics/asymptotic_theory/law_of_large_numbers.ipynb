{
 "cells": [
  {
   "cell_type": "markdown",
   "id": "d2e93316-482f-4163-a9b1-9c5347201e4c",
   "metadata": {},
   "source": [
    "# 大数の法則"
   ]
  },
  {
   "cell_type": "markdown",
   "id": "b7aea61c-28bd-4812-9f9d-10728a5aedbd",
   "metadata": {},
   "source": [
    "**大数の弱法則**（weak law of large numbers）あるいは単に**大数の法則**と呼ばれる"
   ]
  }
 ],
 "metadata": {
  "kernelspec": {
   "display_name": "Python 3 (ipykernel)",
   "language": "python",
   "name": "python3"
  },
  "language_info": {
   "codemirror_mode": {
    "name": "ipython",
    "version": 3
   },
   "file_extension": ".py",
   "mimetype": "text/x-python",
   "name": "python",
   "nbconvert_exporter": "python",
   "pygments_lexer": "ipython3",
   "version": "3.9.17"
  }
 },
 "nbformat": 4,
 "nbformat_minor": 5
}
