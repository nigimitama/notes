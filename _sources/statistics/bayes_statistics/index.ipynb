{
 "cells": [
  {
   "cell_type": "markdown",
   "id": "b3e2f6ae-a9c4-4248-a4a9-5db7b6f3b59f",
   "metadata": {},
   "source": [
    "# ベイズ統計学"
   ]
  },
  {
   "cell_type": "markdown",
   "id": "a6afbc9a-efc1-4269-b202-1c9fc0bd486d",
   "metadata": {},
   "source": [
    ":::{tableofcontents}\n",
    ":::"
   ]
  }
 ],
 "metadata": {
  "kernelspec": {
   "display_name": "Python 3 (ipykernel)",
   "language": "python",
   "name": "python3"
  },
  "language_info": {
   "codemirror_mode": {
    "name": "ipython",
    "version": 3
   },
   "file_extension": ".py",
   "mimetype": "text/x-python",
   "name": "python",
   "nbconvert_exporter": "python",
   "pygments_lexer": "ipython3",
   "version": "3.9.16"
  }
 },
 "nbformat": 4,
 "nbformat_minor": 5
}
