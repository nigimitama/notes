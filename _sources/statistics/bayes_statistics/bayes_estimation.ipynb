{
 "cells": [
  {
   "cell_type": "markdown",
   "id": "b01a0966-9267-4c36-b140-b464edd46c28",
   "metadata": {},
   "source": [
    "# ベイズ推定"
   ]
  },
  {
   "cell_type": "markdown",
   "id": "9c0bd859-98a5-449f-abbc-1fb7d08201d0",
   "metadata": {},
   "source": [
    "## 共役事前分布"
   ]
  },
  {
   "cell_type": "markdown",
   "id": "c9d4f2d9-d0fc-436a-b4b7-dd457335b902",
   "metadata": {},
   "source": [
    "## 無情報事前分布"
   ]
  },
  {
   "cell_type": "markdown",
   "id": "fc0abd2d-cce8-4c94-8b72-e2d4921d6e68",
   "metadata": {},
   "source": [
    "## 変分ベイズ\n",
    "\n",
    "[【徹底解説】変分ベイズをはじめからていねいに | Academaid](https://academ-aid.com/ml/vb)"
   ]
  },
  {
   "cell_type": "code",
   "execution_count": null,
   "id": "18836933-f840-4f00-99ab-1bb105c94b2b",
   "metadata": {},
   "outputs": [],
   "source": []
  },
  {
   "cell_type": "code",
   "execution_count": null,
   "id": "54fe56b3-8e3f-4339-91d1-cb603f5063a0",
   "metadata": {},
   "outputs": [],
   "source": []
  }
 ],
 "metadata": {
  "kernelspec": {
   "display_name": "Python 3 (ipykernel)",
   "language": "python",
   "name": "python3"
  },
  "language_info": {
   "codemirror_mode": {
    "name": "ipython",
    "version": 3
   },
   "file_extension": ".py",
   "mimetype": "text/x-python",
   "name": "python",
   "nbconvert_exporter": "python",
   "pygments_lexer": "ipython3",
   "version": "3.10.15"
  }
 },
 "nbformat": 4,
 "nbformat_minor": 5
}
