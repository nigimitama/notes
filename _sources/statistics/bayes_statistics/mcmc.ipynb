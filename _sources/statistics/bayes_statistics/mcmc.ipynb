{
 "cells": [
  {
   "cell_type": "markdown",
   "id": "7806fb9b-5d07-487b-9e69-74e50948a22b",
   "metadata": {},
   "source": [
    "# マルコフ連鎖モンテカルロ（MCMC）法"
   ]
  },
  {
   "cell_type": "markdown",
   "id": "657a220d-3960-427c-9e2e-30ba78fe6a16",
   "metadata": {},
   "source": []
  }
 ],
 "metadata": {
  "kernelspec": {
   "display_name": "Python 3 (ipykernel)",
   "language": "python",
   "name": "python3"
  },
  "language_info": {
   "codemirror_mode": {
    "name": "ipython",
    "version": 3
   },
   "file_extension": ".py",
   "mimetype": "text/x-python",
   "name": "python",
   "nbconvert_exporter": "python",
   "pygments_lexer": "ipython3",
   "version": "3.9.18"
  }
 },
 "nbformat": 4,
 "nbformat_minor": 5
}
