{
 "cells": [
  {
   "cell_type": "markdown",
   "id": "f714c15b-afed-40da-be0f-2463667c7e24",
   "metadata": {},
   "source": [
    "# 漸近理論\n",
    "\n",
    "**漸近理論**（ぜんきんりろん；asymptotic theory）は、$n$を無限大まで大きくしていったときの近似的な振る舞いを活用する理論。中心極限定理など統計学の根幹をなす。\n",
    "\n",
    "漸近理論は**大標本理論**とも呼ばれる。一方で$n$の大きさに関わらず成立する統計量の性質を**小標本理論**という（推定量の不偏性・有効性など）。"
   ]
  },
  {
   "cell_type": "markdown",
   "id": "2e4442ca-26e9-404b-a07b-175624a77463",
   "metadata": {},
   "source": [
    "## 確率収束"
   ]
  },
  {
   "cell_type": "markdown",
   "id": "17c17a2c-8b2f-46a2-8a69-16d2655ac148",
   "metadata": {},
   "source": [
    "## 一致推定量\n",
    "\n",
    "### $\\sqrt{n}$-一致性\n",
    "\n",
    "よい統計量（推定量）の性質として、$\\sqrt{n}$の収束レートの一致推定量が挙げられることがあり、これを**$\\sqrt{n}$-一致性**（$\\sqrt{n}$-consistency）などとよんだりする。\n",
    "\n"
   ]
  },
  {
   "cell_type": "markdown",
   "id": "5fb524fc-e5b4-4158-888a-1388b268ddce",
   "metadata": {},
   "source": [
    "## 中心極限定理"
   ]
  },
  {
   "cell_type": "markdown",
   "id": "5b467a61-2215-48fd-8360-51a7579fcebb",
   "metadata": {},
   "source": [
    "## 漸近オーダーの表記法\n",
    "\n",
    "### ランダウの記号\n",
    "\n",
    "**ランダウの記号**（Landau's symbol）は関数や数列の漸近挙動を大まかに把握するときに使われる記法。\n",
    "\n",
    "例えば$a_n = n^{-2}, b_n = n^{-1}$のとき、\n",
    "\n",
    "$$\n",
    "\\frac{a_n}{b_n} = \\frac{1/n^2}{1/n} = \\frac{n}{n^2}  = \\frac{1}{n} \\to 0\n",
    ", \\hspace{1em} n \\to \\infty\n",
    "$$\n",
    "\n",
    "という関係があるが、$n$を増やしていったときに$a_n$のほうがより早く$0$へ収束する。\n",
    "\n",
    "このように漸近的（$n \\to \\infty$）には$a_n$が$n^{-1}$「より小さい」ということを\n",
    "\n",
    "$$\n",
    "a_n = o(n^{-1}), \\hspace{1em} n \\to \\infty\n",
    "$$\n",
    "\n",
    "と書く。\n",
    "\n",
    "\n",
    ":::{adomonition} （定義） スモール・オーダー\n",
    "数列$a_n, b_n (n \\in \\mathcal{N})$に対して、$a_n / b_n \\to 0 (n \\to \\infty)$となるとき\n",
    "\n",
    "$$\n",
    "a_n = o(b_n), \\hspace{1em} n \\to \\infty\n",
    "$$\n",
    "\n",
    "と書き、$a_n$は$b_n$の**スモール・オーダー**（small order）であるという。\n",
    ":::\n",
    "\n"
   ]
  },
  {
   "cell_type": "markdown",
   "id": "223b1661-6fc1-4573-b9c4-82f609ec0da9",
   "metadata": {},
   "source": [
    ":::{adomonition} （定義） キャピタル・オーダー\n",
    "数列$a_n, b_n (n \\in \\mathcal{N})$に対して、$a_n / b_n (n \\to \\infty)$が有界となるとき、\n",
    "すなわち、ある定数$M>0$が存在して\n",
    "\n",
    "$$\n",
    "\\DeclareMathOperator*{\\liminf}{\\lim\\inf}\n",
    "\\DeclareMathOperator*{\\limsup}{\\lim\\sup}\n",
    "-M < \\liminf_{n\\to\\infty} \\frac{a_n}{b_n}\n",
    "\\leq \\limsup_{n\\to\\infty} \\frac{a_n}{b_n} < M\n",
    "$$\n",
    "\n",
    "となるとき、\n",
    "\n",
    "$$\n",
    "a_n = O(b_n), \\hspace{1em} n \\to \\infty\n",
    "$$\n",
    "\n",
    "と書き、$a_n$は$b_n$の**キャピタル・オーダー**（capital order）であるという。\n",
    "\n",
    "特に、$a_n / b_n\\to 1 (n \\to \\infty)$となるとき\n",
    "\n",
    "$$\n",
    "a_n \\sim b_n, n \\to \\infty\n",
    "$$\n",
    "\n",
    "と書いて、$a_n$と$b_n$は**漸近同等**（asymptotically equivalent）という。\n",
    ":::\n",
    "\n"
   ]
  },
  {
   "cell_type": "markdown",
   "id": "f346fccc-d732-4beb-8f59-d2322087be2e",
   "metadata": {},
   "source": [
    "### 確率的ランダウの記号\n",
    "\n",
    "ランダウの記号の確率バージョン\n",
    "\n",
    ":::{adomonition} （定義） スモール・オーダー\n",
    "確率変数列$\\{X_n\\}, \\{Y_n\\}$に対して、$X_n / Y_n \\overset{p}{\\to} 0 \\ (n \\to \\infty)$となるとき\n",
    "\n",
    "$$\n",
    "X_n = o_p(Y_n), \\hspace{1em} n \\to \\infty\n",
    "$$\n",
    "\n",
    "と書き、$X_n$は$Y_n$の**スモール・オーダー**（small order）であるという。\n",
    ":::"
   ]
  },
  {
   "cell_type": "markdown",
   "id": "6d0ddca2-5ff3-4eb0-9b07-1f5a304cfc00",
   "metadata": {},
   "source": [
    "## 参考文献\n",
    "\n",
    "清水泰隆（2021）『統計学への確率論，その先へ』"
   ]
  }
 ],
 "metadata": {
  "kernelspec": {
   "display_name": "Python 3 (ipykernel)",
   "language": "python",
   "name": "python3"
  },
  "language_info": {
   "codemirror_mode": {
    "name": "ipython",
    "version": 3
   },
   "file_extension": ".py",
   "mimetype": "text/x-python",
   "name": "python",
   "nbconvert_exporter": "python",
   "pygments_lexer": "ipython3",
   "version": "3.9.17"
  }
 },
 "nbformat": 4,
 "nbformat_minor": 5
}
