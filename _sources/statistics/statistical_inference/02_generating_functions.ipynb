{
 "cells": [
  {
   "cell_type": "markdown",
   "id": "3d832bb8-0f0e-4cf9-9ef5-9b3d9de281d6",
   "metadata": {},
   "source": [
    "# 母関数\n",
    "\n",
    "確率母関数、積率母関数、特性関数は、確率分布を特徴づける関数で、1つの確率分布に対して1つ対応する。そのため、もとの確率分布を調べることはその母関数を調べることと等しくなり、統計学において便利な道具となっている。中心極限定理の証明などに用いられる。"
   ]
  },
  {
   "cell_type": "markdown",
   "id": "0d5b0e0d-0aaf-42be-98c3-6b4b43e31240",
   "metadata": {},
   "source": [
    "## 確率母関数\n",
    "\n",
    "確率変数$X$の標本空間を非負の整数全体$\\mathcal{X}=\\{0,1,2,\\dots\\}$とし、$p(k)=P(X=k)$とする。\n",
    "\n",
    ":::{card} 定義：確率母関数\n",
    "$|s|\\leq 1$となる$s$に対して\n",
    "\n",
    "$$\n",
    "G(s) = E[s^X] = \\sum^{\\infty}_{k=0} s^k p(k)\n",
    "$$\n",
    "\n",
    "を**確率母関数**（probability generating function）という。\n",
    ":::\n",
    "\n",
    "$G(s)$を$k$回微分して$s=0$とおけば、\n",
    "\n",
    "$$\n",
    "\\frac{ G^{(k)}(0)} { k! } = p(k)\n",
    "$$\n",
    "\n",
    "となるため、$G(s)$は確率関数$p(k)$を生成する関数となる。"
   ]
  },
  {
   "cell_type": "markdown",
   "id": "3c69ddc7-d295-4635-9aa9-76f9a5a4bef9",
   "metadata": {},
   "source": [
    ":::{dropdown} $G^{(k)}(0)/k! = p(k)$について\n",
    "確率母関数は\n",
    "\n",
    "$$\n",
    "G(s) = p(0) + s p(1) + s^2 p(2) + \\cdots + s^k p(k) + \\cdots\n",
    "$$\n",
    "\n",
    "であるので、微分すると\n",
    "\n",
    "$$\n",
    "\\begin{align}\n",
    "G^{(1)}(s) = \\frac{d G(s)}{d s} &= p(1) + 2 s p(2) + 3 s^2 p(3) + \\cdots + k s^{k-1} p(k) + \\cdots \\\\\n",
    "G^{(2)}(s) = \\frac{d^2 G(s)}{d s^2} &=    2 p(2) + 3 \\cdot 2 s p(3) + \\cdots + k (k-1) s^{k-2} p(k) + \\cdots \\\\\n",
    "G^{(3)}(s) = \\frac{d^3 G(s)}{d s^3} &=             3 \\cdot 2 p(3) + \\cdots + k (k-1) (k-2) s^{k-3} p(k) + \\cdots \\\\\n",
    "\\vdots\n",
    "\\end{align}\n",
    "$$\n",
    "\n",
    "のようになる。ここで$s=0$とおくと\n",
    "\n",
    "$$\n",
    "\\begin{align}\n",
    "G^{(1)}(s) &= p(1)\\\\\n",
    "G^{(2)}(s) &= 2 \\cdot p(2)\\\\\n",
    "G^{(3)}(s) &= 3 \\cdot 2 \\cdot p(3)\\\\\n",
    "\\vdots\n",
    "\\end{align}\n",
    "$$\n",
    "\n",
    "となるため、$G^{(k)}(0)/k! = p(k)$となる。\n",
    ":::"
   ]
  },
  {
   "cell_type": "code",
   "execution_count": null,
   "id": "4c0a4742-1b2e-4749-81f6-b28e9da77e4b",
   "metadata": {},
   "outputs": [],
   "source": []
  },
  {
   "cell_type": "markdown",
   "id": "96194739-5f81-44a2-8455-0b2000665049",
   "metadata": {},
   "source": [
    "## 積率母関数\n",
    "\n",
    "**積率母関数**（moment generating function）"
   ]
  },
  {
   "cell_type": "code",
   "execution_count": null,
   "id": "71935187-508e-478b-9f6b-243655e638fb",
   "metadata": {},
   "outputs": [],
   "source": []
  },
  {
   "cell_type": "markdown",
   "id": "7e2cd7c9-b6d1-419d-b0e0-6f712415fd12",
   "metadata": {},
   "source": [
    "## 特性関数\n",
    "\n",
    "確率母関数$G(s)$から$p(k)$を求めるにあたって、複素平面での積分を考えたほうが一般性がある\n",
    "\n",
    "\n",
    "\n",
    "**特性関数**（characteristic function）"
   ]
  },
  {
   "cell_type": "code",
   "execution_count": null,
   "id": "f1dc2635-2dab-40e7-9413-0ee89049a09c",
   "metadata": {},
   "outputs": [],
   "source": []
  },
  {
   "cell_type": "code",
   "execution_count": null,
   "id": "443bb905-a75a-45eb-bdf5-fe168bc26176",
   "metadata": {},
   "outputs": [],
   "source": []
  }
 ],
 "metadata": {
  "kernelspec": {
   "display_name": "Python 3 (ipykernel)",
   "language": "python",
   "name": "python3"
  },
  "language_info": {
   "codemirror_mode": {
    "name": "ipython",
    "version": 3
   },
   "file_extension": ".py",
   "mimetype": "text/x-python",
   "name": "python",
   "nbconvert_exporter": "python",
   "pygments_lexer": "ipython3",
   "version": "3.10.18"
  }
 },
 "nbformat": 4,
 "nbformat_minor": 5
}
