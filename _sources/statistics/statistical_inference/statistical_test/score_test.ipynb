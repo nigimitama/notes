{
 "cells": [
  {
   "cell_type": "markdown",
   "id": "66665f79-dda6-4219-9c51-6552146956b2",
   "metadata": {},
   "source": [
    "# スコア検定\n",
    "\n"
   ]
  },
  {
   "cell_type": "markdown",
   "id": "44d5c909-4e3f-4794-95a7-bf129319bd62",
   "metadata": {},
   "source": [
    "## 概要\n",
    "\n",
    "### スコア関数\n",
    "\n",
    "分布$f(x|\\theta)$からランダムに得られた$n$個のサンプルを$X = (X_1, \\cdots, X_n)$とする。\n",
    "\n",
    "$X$の同時確率関数（尤度）を$\\prod_{i=1}^n f(x_i|\\theta)$を$f_n(x|\\theta)$と表す。\n",
    "\n",
    "対数尤度$l(\\theta, X) = \\log f_n(X|\\theta)$の導関数\n",
    "\n",
    "$$\n",
    "l'_n(\\theta, X) = \\frac{d}{d \\theta} \\log f_n(X|\\theta)\n",
    "$$\n",
    "\n",
    "を **スコア関数** （score function）という。\n",
    "\n",
    "\n",
    "### フィッシャー情報量\n",
    "\n",
    "スコア関数の2乗の期待値\n",
    "\n",
    "$$\n",
    "I_n(\\theta)=E\\left[\\left\\{l'_n(\\theta, \\boldsymbol{X})\\right\\}^2\\right]=E\\left[\\left\\{\\frac{d}{d \\theta} \\log f_n(\\boldsymbol{X} \\mid \\theta)\\right\\}^2\\right]\n",
    "$$\n",
    "\n",
    "を **フィッシャー情報量** という。\n",
    "\n"
   ]
  },
  {
   "cell_type": "markdown",
   "id": "fd100e70-a6ed-493f-80bc-012a0a4adebe",
   "metadata": {},
   "source": [
    "### スコア関数の性質\n",
    "\n",
    "$$\n",
    "E[l'_n(\\theta, X)] = 0\\\\\n",
    "Var[l'_n(\\theta, X)] = -E[l''_n(\\theta,X)]= I_n(\\theta) = n I_1(\\theta)\n",
    "$$\n",
    "\n",
    "（$I_1(\\theta)$はサンプル1つのフィッシャー情報量）\n",
    "\n",
    "となるので、中心極限定理により、$n$が真値のとき\n",
    "\n",
    "$$\n",
    "l'(\\theta, \\boldsymbol{X}) / \\sqrt{n I_1(\\theta)} \\rightarrow_d \\mathcal{N}(0,1)\n",
    "$$\n",
    "\n",
    "という漸近正規性があるので、これを使って検定ができる"
   ]
  },
  {
   "cell_type": "markdown",
   "id": "729ce6a5-8d2c-4547-a1c0-0ed821fe4c0d",
   "metadata": {},
   "source": [
    ":::{dropdown} TODO: 導出を追う\n",
    "$l'_1(\\theta, X_i) = \\{(d/d\\theta) f(x|\\theta)\\} / f(x|\\theta)$と書けるらしいので（？）\n",
    "\n",
    "$$\n",
    "\\begin{aligned}\n",
    "E\\left[l'_1\\left(\\theta, X_i\\right)\\right] & =\\int\\left\\{\\frac{(d / d \\theta) f(x \\mid \\theta)}{f(x \\mid \\theta)}\\right\\} f(x \\mid \\theta) d x \\\\ & =\\int \\frac{d}{d \\theta} f(x \\mid \\theta) d x=\\frac{d}{d \\theta} \\int f(x \\mid \\theta) d x=\\frac{d}{d \\theta} 1=0\n",
    "\\end{aligned}\n",
    "$$\n",
    ":::"
   ]
  },
  {
   "cell_type": "markdown",
   "id": "d9ada448-2d19-462d-8db7-fc5fed6484fa",
   "metadata": {},
   "source": [
    "### スコア検定\n",
    "\n",
    "$$\n",
    "H_0: \\theta = \\theta_0\n",
    "\\quad \\text{v.s.} \\quad\n",
    "H_1: \\theta \\neq \\theta_0\n",
    "$$\n",
    "\n",
    "に対して、\n",
    "\n",
    "$$\n",
    "R=\\left\\{\\boldsymbol{x} \\in \\mathcal{X} \\mid | l'_n\\left(\\theta_0, \\boldsymbol{x}\\right) \\mid / \\sqrt{n I_1\\left(\\theta_0\\right)} \\geq z_{\\alpha / 2}\\right\\}\n",
    "$$\n",
    "\n",
    "を棄却域とする検定を **スコア検定** （score test） という。\n"
   ]
  },
  {
   "cell_type": "markdown",
   "id": "bde1ec61-c18a-4f18-8d85-3354167cc42d",
   "metadata": {},
   "source": [
    "## 例\n",
    "\n",
    "（とりあえず作ったが合ってるか不明。とくに2階微分のところ）\n",
    "\n",
    "ガンマ分布っぽいデータがあったとする。\n",
    "\n",
    "ガンマ分布のshapeパラメータ$\\alpha$は、$\\alpha=1$のとき指数分布と一致する。\n",
    "\n",
    "データが指数分布（$\\alpha=1$）に従っているのか、かガンマ分布（$\\alpha \\neq 1$）なのか検定する（ガンマ分布のscaleパラメータは既知とする）\n",
    "\n",
    "最尤推定量$\\alpha_{ML}$について以下の仮説に対する検定を行う\n",
    "\n",
    "$$\n",
    "H_0: \\alpha_{ML} = 1\n",
    "\\quad \\text{v.s.} \\quad\n",
    "H_1: \\alpha_{ML} \\neq 1\n",
    "$$"
   ]
  },
  {
   "cell_type": "markdown",
   "id": "4196a0fa-b6dd-4614-8aee-a1f6f6585407",
   "metadata": {},
   "source": [
    "以下のようなデータがあるとする"
   ]
  },
  {
   "cell_type": "code",
   "execution_count": 50,
   "id": "0e0b2ea1-9205-499f-a420-1015563d6812",
   "metadata": {
    "jupyter": {
     "source_hidden": true
    },
    "tags": [
     "hide-input"
    ]
   },
   "outputs": [
    {
     "data": {
      "image/png": "[encoded data removed]",
      "text/plain": [
       "<Figure size 400x200 with 1 Axes>"
      ]
     },
     "metadata": {},
     "output_type": "display_data"
    }
   ],
   "source": [
    "import numpy as np\n",
    "\n",
    "np.random.seed(0)\n",
    "n = 1000\n",
    "alpha = 2  # 知りたいパラメータ\n",
    "scale = 1    # 今回は既知とする\n",
    "x = np.random.gamma(shape=alpha, scale=scale, size=n)\n",
    "\n",
    "import matplotlib.pyplot as plt\n",
    "fig, ax = plt.subplots(figsize=[4,2])\n",
    "ax.hist(x, bins=30)\n",
    "fig.show()"
   ]
  },
  {
   "cell_type": "markdown",
   "id": "38c72bf3-e997-4a72-b2b8-cd52fd09ccfc",
   "metadata": {},
   "source": [
    "最尤推定量$\\alpha_{ML}$を求める"
   ]
  },
  {
   "cell_type": "code",
   "execution_count": 51,
   "id": "15f1e502-9b6b-47fe-9354-34923ead112c",
   "metadata": {
    "tags": []
   },
   "outputs": [
    {
     "name": "stdout",
     "output_type": "stream",
     "text": [
      "alpha_hat=2.003\n"
     ]
    }
   ],
   "source": [
    "from scipy.stats import gamma\n",
    "\n",
    "def log_likelihood(alpha, scale, data):\n",
    "    return np.sum(gamma.logpdf(data, a=alpha, scale=scale))\n",
    "\n",
    "def neg_log_likelihood(alpha, scale, data):\n",
    "    # scipyはminimize_scalar しかないので、対数尤度ではなく負の対数尤度にする\n",
    "    return -np.sum(gamma.logpdf(data, a=alpha, scale=scale))\n",
    "\n",
    "from scipy.optimize import minimize_scalar\n",
    "result = minimize_scalar(neg_log_likelihood, args=(scale, x), bounds=(0.01, 10), method='bounded')\n",
    "alpha_hat = result.x\n",
    "\n",
    "# 最尤推定量\n",
    "print(f\"{alpha_hat=:.3f}\")"
   ]
  },
  {
   "cell_type": "markdown",
   "id": "23a48e54-c81f-4e4b-8faa-a1648f7c811f",
   "metadata": {},
   "source": [
    "\n",
    "$E[-l''_n(\\theta,X)]= I_n(\\theta)$を使い、対数尤度の2階微分でフィッシャー情報量を求める\n"
   ]
  },
  {
   "cell_type": "code",
   "execution_count": 52,
   "id": "12d6fc96-3325-4662-a036-dd73ed78908e",
   "metadata": {},
   "outputs": [
    {
     "name": "stdout",
     "output_type": "stream",
     "text": [
      "grad=7.62939453125e-05, hess=1024.0\n"
     ]
    }
   ],
   "source": [
    "# 無理やり２回微分させる\n",
    "def derivative(x, f, epsilon=np.sqrt(np.finfo(float).eps)):\n",
    "    \"\"\"1階微分の勾配を計算する関数\"\"\"\n",
    "    return approx_fprime(x, f, epsilon)\n",
    "\n",
    "def second_order(x0, f):\n",
    "    \"\"\"2階微分を直接行う関数はないので2階approx_fprimeを行う\"\"\"\n",
    "    def first_order(x):\n",
    "        return derivative(x, f)\n",
    "    return derivative(x0, first_order)\n",
    "\n",
    "grad = derivative(\n",
    "    alpha_hat, # 勾配を計算する点\n",
    "    f=lambda a: log_likelihood(a, scale, x), # 対象の関数\n",
    ")[0]\n",
    "hess = second_order(\n",
    "    alpha_hat,\n",
    "    f=lambda a: log_likelihood(a, scale, x)\n",
    ")[0]\n",
    "print(f\"{grad=}, {hess=}\")"
   ]
  },
  {
   "cell_type": "code",
   "execution_count": 61,
   "id": "cee84ca2-1038-4523-8623-41d167c96cfd",
   "metadata": {},
   "outputs": [
    {
     "data": {
      "text/plain": [
       "array([4.])"
      ]
     },
     "execution_count": 61,
     "metadata": {},
     "output_type": "execute_result"
    }
   ],
   "source": [
    "second_order(\n",
    "    2,\n",
    "    f=lambda x: x**2\n",
    ")"
   ]
  },
  {
   "cell_type": "markdown",
   "id": "32103360-dfd2-4f94-b2c8-8e850aa58800",
   "metadata": {},
   "source": [
    "なぜフィッシャー情報量で割るのか → 対数尤度のピークが鋭ければ$l''(\\theta)$は大きな値をとるためらしい"
   ]
  },
  {
   "cell_type": "code",
   "execution_count": 59,
   "id": "84bc82c0-2a8d-4a04-b72c-beed266fb1a1",
   "metadata": {
    "tags": [
     "hide-input"
    ]
   },
   "outputs": [
    {
     "name": "stderr",
     "output_type": "stream",
     "text": [
      "/tmp/ipykernel_246/135652086.py:15: RuntimeWarning: invalid value encountered in sqrt\n",
      "  test_stats = [(abs(score)/np.sqrt(-info)) for score, info in zip(scores, infos)]\n",
      "/tmp/ipykernel_246/135652086.py:15: RuntimeWarning: divide by zero encountered in divide\n",
      "  test_stats = [(abs(score)/np.sqrt(-info)) for score, info in zip(scores, infos)]\n"
     ]
    },
    {
     "data": {
      "image/png": "[encoded data removed]",
      "text/plain": [
       "<Figure size 600x600 with 4 Axes>"
      ]
     },
     "metadata": {},
     "output_type": "display_data"
    }
   ],
   "source": [
    "fig, axes = plt.subplots(figsize=[6, 6], nrows=4, sharex=True)\n",
    "\n",
    "alphas = np.linspace(0, 3, 100)\n",
    "axes[0].plot(alphas, [log_likelihood(a, scale, x) for a in alphas])\n",
    "axes[0].axvline(\n",
    "axes[0].set(ylabel=r\"log likelihood $l(\\alpha)$\",\n",
    "           title=fr\"log likelihood and derivatives (true $\\alpha$ = {alpha})\")\n",
    "\n",
    "scores = [derivative(a, f=lambda a: log_likelihood(a, scale, x)) for a in alphas]\n",
    "axes[1].plot(alphas, scores)\n",
    "axes[1].set(ylabel=r\"$l'(\\alpha)$\")\n",
    "\n",
    "infos = [second_order(a, f=lambda a: log_likelihood(a, scale, x)) for a in alphas]\n",
    "axes[2].plot(alphas, infos)\n",
    "axes[2].set(ylabel=r\"$l''(\\alpha)$\")\n",
    "\n",
    "test_stats = [(abs(score)/np.sqrt(-info)) for score, info in zip(scores, infos)]\n",
    "axes[3].plot(alphas, test_stats)\n",
    "axes[3].set(xlabel=r\"$\\alpha$\", ylabel=r\"$\\frac{|l'(\\alpha)|}{ \\sqrt{l''(\\alpha)}}$\")\n",
    "\n",
    "fig.show()"
   ]
  },
  {
   "cell_type": "code",
   "execution_count": 54,
   "id": "61e9cb40-5050-48ed-8a8e-3e0183def566",
   "metadata": {},
   "outputs": [
    {
     "name": "stderr",
     "output_type": "stream",
     "text": [
      "/tmp/ipykernel_246/3433779681.py:3: RuntimeWarning: invalid value encountered in sqrt\n",
      "  score = abs(grad) / np.sqrt(I)\n"
     ]
    },
    {
     "data": {
      "text/plain": [
       "nan"
      ]
     },
     "execution_count": 54,
     "metadata": {},
     "output_type": "execute_result"
    }
   ],
   "source": [
    "# I = E[-l''(θ)] だが、マイナスのまま√とれないので結局絶対値にしないといけないような…\n",
    "I = -hess\n",
    "score = abs(grad) / np.sqrt(I)\n",
    "score"
   ]
  },
  {
   "cell_type": "code",
   "execution_count": 55,
   "id": "57e74ae3-d699-475c-a211-a4d17eaff25c",
   "metadata": {
    "tags": [
     "hide-input"
    ]
   },
   "outputs": [
    {
     "name": "stderr",
     "output_type": "stream",
     "text": [
      "posx and posy should be finite values\n",
      "posx and posy should be finite values\n"
     ]
    },
    {
     "data": {
      "image/png": "[encoded data removed]",
      "text/plain": [
       "<Figure size 400x200 with 1 Axes>"
      ]
     },
     "metadata": {},
     "output_type": "display_data"
    }
   ],
   "source": [
    "from scipy.stats import norm\n",
    "\n",
    "fig, ax = plt.subplots(figsize=[4, 2])\n",
    "\n",
    "# 検定統計量が従う標準正規分布\n",
    "x_for_plot = np.linspace(-3, 3, 100)\n",
    "z = norm.pdf(x_for_plot, loc=0, scale=1)\n",
    "ax.plot(x_for_plot, z)\n",
    "clevel = 0.05 / 2\n",
    "for a in [clevel, (1 - clevel)]:\n",
    "    ppf = norm.ppf(a)\n",
    "    ax.axvline(x=ppf, color=\"steelblue\", linestyle=\"--\")\n",
    "    if ppf < 0:\n",
    "        ax.text(ppf - 0.1, norm.pdf(ppf) + 0.01, \"$Z_{a/2}$\", color=\"steelblue\", horizontalalignment=\"right\")\n",
    "    else:\n",
    "        ax.text(ppf + 0.1, norm.pdf(ppf) + 0.01, \"$Z_{1-a/2}$\", color=\"steelblue\", horizontalalignment=\"left\")\n",
    "ax.set(xlabel=\"x\", ylabel=\"density\", title=f\"standard normal distribution $N(\\mu=0, \\sigma=1)$\")\n",
    "\n",
    "# 検定統計量\n",
    "ax.axvline(score, color=\"darkorange\")\n",
    "ax.text(score, norm.pdf(score) * 0.5, f\"{score=:.3f}\", color=\"darkorange\", horizontalalignment=\"right\")\n",
    "\n",
    "fig.show()"
   ]
  },
  {
   "cell_type": "code",
   "execution_count": 49,
   "id": "83c187a9-7969-43c8-b8c0-c5e5499948cd",
   "metadata": {},
   "outputs": [
    {
     "data": {
      "text/plain": [
       "nan"
      ]
     },
     "execution_count": 49,
     "metadata": {},
     "output_type": "execute_result"
    }
   ],
   "source": [
    "from scipy.stats import norm\n",
    "\n",
    "pvalue = 2 * (1 - norm.cdf(score))\n",
    "pvalue"
   ]
  },
  {
   "cell_type": "code",
   "execution_count": null,
   "id": "04efcab7-6fa9-427a-98d9-cf4faabc60bf",
   "metadata": {},
   "outputs": [],
   "source": []
  },
  {
   "cell_type": "code",
   "execution_count": null,
   "id": "2e3a747b-a0f1-4ad5-b819-b9a0804ed5f3",
   "metadata": {},
   "outputs": [],
   "source": []
  }
 ],
 "metadata": {
  "kernelspec": {
   "display_name": "Python 3 (ipykernel)",
   "language": "python",
   "name": "python3"
  },
  "language_info": {
   "codemirror_mode": {
    "name": "ipython",
    "version": 3
   },
   "file_extension": ".py",
   "mimetype": "text/x-python",
   "name": "python",
   "nbconvert_exporter": "python",
   "pygments_lexer": "ipython3",
   "version": "3.10.13"
  }
 },
 "nbformat": 4,
 "nbformat_minor": 5
}
