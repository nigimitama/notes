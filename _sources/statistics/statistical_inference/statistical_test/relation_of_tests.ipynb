{
 "cells": [
  {
   "cell_type": "markdown",
   "id": "a68b01a4-38b2-44c7-992c-f7a346e49b24",
   "metadata": {},
   "source": [
    "# Wald検定、Score検定、尤度比検定の関係"
   ]
  },
  {
   "cell_type": "markdown",
   "id": "e61573e9-6984-490b-a6d2-9e24902aab7a",
   "metadata": {},
   "source": [
    "漸近的には一致するらしい\n",
    "\n",
    "→ サンプルが少なければ違う結果に"
   ]
  },
  {
   "cell_type": "markdown",
   "id": "1f0f4052-a509-4b49-bcc3-e2a221ff6ddd",
   "metadata": {},
   "source": [
    "それぞれの長所\n",
    "\n",
    "- 尤度比検定：理論的には最適？\n",
    "- Wald検定：信頼区間を作りやすい\n",
    "- Score検定：検定統計量の計算に最尤推定値を求める必要がない（ただし、2次の微分の計算は必要）"
   ]
  },
  {
   "cell_type": "code",
   "execution_count": null,
   "id": "ccc1f962-c2d3-4706-bd06-1579c6221644",
   "metadata": {},
   "outputs": [],
   "source": []
  }
 ],
 "metadata": {
  "kernelspec": {
   "display_name": "Python 3 (ipykernel)",
   "language": "python",
   "name": "python3"
  },
  "language_info": {
   "codemirror_mode": {
    "name": "ipython",
    "version": 3
   },
   "file_extension": ".py",
   "mimetype": "text/x-python",
   "name": "python",
   "nbconvert_exporter": "python",
   "pygments_lexer": "ipython3",
   "version": "3.10.13"
  }
 },
 "nbformat": 4,
 "nbformat_minor": 5
}
