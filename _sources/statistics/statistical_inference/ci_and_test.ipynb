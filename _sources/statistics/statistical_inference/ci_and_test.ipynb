{
 "cells": [
  {
   "cell_type": "markdown",
   "id": "82959c2d-be41-434f-b636-be7caca611e5",
   "metadata": {},
   "source": [
    "# 信頼区間と検定の関係性"
   ]
  },
  {
   "cell_type": "markdown",
   "id": "8f03e5b0-db40-408a-a237-96386a8b9b66",
   "metadata": {},
   "source": [
    "## 信頼区間\n",
    "\n",
    "平均値の区間推定を行う場合について考える。\n",
    "\n",
    "母平均を$\\mu$、標本平均を$\\bar{X}$とすると、\n",
    "\n",
    "$$\n",
    "P(-Z_{\\alpha/2} \\leq \\frac{\\sqrt{n} (\\bar{X} - \\mu)}{\\sigma} \\leq Z_{\\alpha/2}) = 1 - \\alpha\n",
    "$$\n",
    "\n",
    "となり、これを$\\mu$について解くと\n",
    "\n",
    "$$\n",
    "P(\\bar{X} - Z_{\\alpha/2} \\times \\frac{\\sigma}{\\sqrt{n}}\n",
    "  \\leq \\mu \\leq \n",
    "  \\bar{X} + Z_{\\alpha/2} \\times \\frac{\\sigma}{\\sqrt{n}}) = 1 - \\alpha\n",
    "$$\n",
    "\n",
    "であり、信頼区間は\n",
    "\n",
    "$$\n",
    "[\\bar{X} - Z_{\\alpha/2} \\times \\frac{\\sigma}{\\sqrt{n}},\n",
    " \\bar{X} + Z_{\\alpha/2} \\times \\frac{\\sigma}{\\sqrt{n}}]\n",
    "$$\n",
    "\n",
    "となる。\n",
    "\n"
   ]
  },
  {
   "cell_type": "code",
   "execution_count": null,
   "id": "8bfe0dea-8967-4da0-8e20-393920d4c074",
   "metadata": {
    "tags": [
     "hide-input"
    ]
   },
   "outputs": [
    {
     "data": {
      "image/png": "[encoded data removed]",
      "text/plain": [
       "<Figure size 600x300 with 1 Axes>"
      ]
     },
     "metadata": {
      "needs_background": "light"
     },
     "output_type": "display_data"
    }
   ],
   "source": [
    "import numpy as np\n",
    "import matplotlib.pyplot as plt\n",
    "import japanize_matplotlib\n",
    "from scipy.stats import norm\n",
    "\n",
    "z = np.linspace(-4, 4, 100)\n",
    "y = norm.pdf(z)\n",
    "\n",
    "fig, ax = plt.subplots(dpi=100, figsize=[6, 3])\n",
    "ax.set(title=\"標準正規分布\", xlabel=\"Z\", xlim=(-4, 4))\n",
    "ax.plot(z, y, color=\"dimgray\")\n",
    "ax.axhline(y=0, color=\"dimgray\", linewidth=1)\n",
    "\n",
    "alpha = 0.05 / 2\n",
    "for a in [alpha, (1 - alpha)]:\n",
    "    x = norm.ppf(a)\n",
    "    ax.axvline(x=x, color=\"steelblue\")\n",
    "    if x < 0:\n",
    "        ax.text(x - 0.1, norm.pdf(x) + 0.01, f\"Z = {x:.2f}\", color=\"steelblue\", horizontalalignment=\"right\")\n",
    "        ax.fill_between(z, 0, y, where = z <= x, color=\"steelblue\")\n",
    "    else:\n",
    "        ax.text(x + 0.1, norm.pdf(x) + 0.01, f\"Z = {x:.2f}\", color=\"steelblue\", horizontalalignment=\"left\")\n",
    "        ax.fill_between(z, 0, y, where = z >= x, color=\"steelblue\")\n"
   ]
  },
  {
   "cell_type": "markdown",
   "id": "d229a200-cc68-4d79-9b74-ae735701ffc6",
   "metadata": {},
   "source": [
    "## 検定\n",
    "\n",
    "母平均$\\mu$、母分散$\\sigma^2$の正規母集団についての\n",
    "\n",
    "$$\n",
    "H_0: \\mu = \\mu_0 \\text{ vs } H_1: \\mu \\neq \\mu_0\n",
    "$$\n",
    "\n",
    "という検定問題について考える。\n",
    "\n",
    "\n",
    "帰無仮説が正しければ、標本平均は中心極限定理により正規分布$N(\\mu, \\sigma^2 / n)$に従うため、標準化した$Z$は標準正規分布$N(0, 1)$に従う。\n",
    "なので、標準正規分布のパーセント点$Z_{\\alpha/2}$と比較して\n",
    "\n",
    "$$\n",
    "|Z| > Z_{\\alpha/2} \\implies H_0\\text{を棄却}\\\\\n",
    "|Z| \\leq Z_{\\alpha/2} \\implies H_0\\text{を受容}\\\\\n",
    "$$\n",
    "\n",
    "となる\n"
   ]
  },
  {
   "cell_type": "code",
   "execution_count": null,
   "id": "b16cc8c9-36f2-4a58-82bb-49cc2630f22f",
   "metadata": {},
   "outputs": [],
   "source": []
  }
 ],
 "metadata": {
  "kernelspec": {
   "display_name": "Python 3 (ipykernel)",
   "language": "python",
   "name": "python3"
  },
  "language_info": {
   "codemirror_mode": {
    "name": "ipython",
    "version": 3
   },
   "file_extension": ".py",
   "mimetype": "text/x-python",
   "name": "python",
   "nbconvert_exporter": "python",
   "pygments_lexer": "ipython3",
   "version": "3.9.17"
  }
 },
 "nbformat": 4,
 "nbformat_minor": 5
}
