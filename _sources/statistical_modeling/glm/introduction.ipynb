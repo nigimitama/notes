{
 "cells": [
  {
   "cell_type": "markdown",
   "id": "2c483603-6234-4efa-bd3f-37562acc1a97",
   "metadata": {},
   "source": [
    "# 概要\n",
    "\n",
    "**一般化線形モデル**（generalized linear model: GLM）は誤差項が正規分布以外の分布に従う場合の正規分布も扱うことができる統計モデリングの理論体系である。\n",
    "\n",
    "例えば二項分布であればロジスティック回帰、ポアソン分布であればポアソン回帰といったものが存在する。"
   ]
  },
  {
   "cell_type": "markdown",
   "id": "cc684404-2914-4909-9d0a-d2c60148d0ff",
   "metadata": {},
   "source": [
    "## 3つの構成要素\n",
    "\n",
    "一般化線形モデルは\n",
    "\n",
    "1. 変量成分\n",
    "2. 系統的成分\n",
    "3. リンク関数\n",
    "\n",
    "の3つから構成される"
   ]
  },
  {
   "cell_type": "markdown",
   "id": "8da4efd3-0422-4767-8b56-a6f0ab2f17f1",
   "metadata": {},
   "source": [
    "### 変量成分\n",
    "\n",
    "**変量成分**（random component）は、目的変数$Y_i\\ (i=1,2,\\dots,n)$が従う確率分布を仮定する。\n",
    "\n",
    "通常の回帰分析であれば正規分布を仮定する（$Y_i \\sim N(\\mu_i, \\sigma^2)$）。\n",
    "\n",
    "目的変数の値が「成功」「失敗」のような二値や「成功」の回数である場合、変量成分は二項分布となる"
   ]
  },
  {
   "cell_type": "markdown",
   "id": "bf3c1dd0-3455-4cc6-bda6-7566a3b7635b",
   "metadata": {},
   "source": [
    "### 系統的成分\n",
    "\n",
    "**系統的成分**（systematic component）は、目的変数を説明する成分を表す。\n",
    "\n",
    "$$\n",
    "\\beta_0 + \\beta_1 X_{1i} + \\beta_2 X_{2i} + \\cdots + \\beta_m X_{mi}\n",
    "$$"
   ]
  },
  {
   "cell_type": "markdown",
   "id": "bd5ebc78-a404-4ae4-8dd0-18fcf7bcb1e0",
   "metadata": {},
   "source": [
    "### リンク関数\n",
    "\n",
    "**リンク関数**（link function）は、目的変数の期待値と系統成分との関係を表す。\n",
    "\n",
    "$$\n",
    "g(\\mu_i) = \\beta_0 + \\beta_1 X_{1i} + \\beta_2 X_{2i} + \\cdots + \\beta_m X_{mi}\n",
    "$$\n",
    "\n",
    "#### 恒等リンク\n",
    "\n",
    "例えば通常の回帰分析では**恒等リンク**（identity link）$g(\\mu_i) = \\mu_i$を使っているため\n",
    "\n",
    "$$\n",
    "\\mu_i = \\beta_0 + \\beta_1 X_{1i} + \\beta_2 X_{2i} + \\cdots + \\beta_m X_{mi}\n",
    "$$\n",
    "\n",
    "となる。\n",
    "\n",
    "#### 対数リンク\n",
    "\n",
    "ロジスティック回帰では**対数リンク**（log link）$g(\\mu_i) = \\log(\\mu_i)$を使っているため\n",
    "\n",
    "$$\n",
    "\\log(\\mu_i) = \\beta_0 + \\beta_1 X_{1i} + \\beta_2 X_{2i} + \\cdots + \\beta_m X_{mi}\n",
    "$$\n",
    "\n",
    "となり、両辺の指数を取ると\n",
    "\n",
    "$$\n",
    "\\mu_i = \\exp(\\beta_0 + \\beta_1 X_{1i} + \\beta_2 X_{2i} + \\cdots + \\beta_m X_{mi})\n",
    "$$\n",
    "\n",
    "となって期待値が正の値をとるようになる。そのためポアソン回帰モデルでも対数リンクを用いる。\n"
   ]
  },
  {
   "cell_type": "code",
   "execution_count": null,
   "id": "ead5c536-2e60-4b14-a782-e71f07726734",
   "metadata": {},
   "outputs": [],
   "source": []
  }
 ],
 "metadata": {
  "kernelspec": {
   "display_name": "Python 3 (ipykernel)",
   "language": "python",
   "name": "python3"
  },
  "language_info": {
   "codemirror_mode": {
    "name": "ipython",
    "version": 3
   },
   "file_extension": ".py",
   "mimetype": "text/x-python",
   "name": "python",
   "nbconvert_exporter": "python",
   "pygments_lexer": "ipython3",
   "version": "3.9.16"
  }
 },
 "nbformat": 4,
 "nbformat_minor": 5
}
