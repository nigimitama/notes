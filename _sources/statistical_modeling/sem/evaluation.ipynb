{
 "cells": [
  {
   "cell_type": "markdown",
   "id": "9435b5ee-3414-431f-a26f-b6ed9c5d44a6",
   "metadata": {},
   "source": [
    "# モデルの評価\n"
   ]
  },
  {
   "cell_type": "markdown",
   "id": "f62546b5-7ee2-4ad1-bb24-303045579b17",
   "metadata": {},
   "source": [
    "## 全体的評価（モデルの適合度の評価）"
   ]
  },
  {
   "cell_type": "markdown",
   "id": "117d4202-1a48-4257-80d4-3ee81f5fb05b",
   "metadata": {},
   "source": [
    "### カイ2乗検定\n",
    "\n",
    "最尤法で母数を推定した場合、$\\chi^2$検定を行うことができる。\n",
    "\n",
    "標本数が十分に大きいとき、\n",
    "\n",
    "$$\n",
    "\\chi^2 = f_{ML} \\times (N-1)\n",
    "$$\n",
    "\n",
    "は自由度$df = \\frac{1}{2} p (p + 1) - q$の$\\chi^2$分布に近似的に従う（$p$は観測変数の数、$q$は自由母数の数）\n",
    "\n",
    "「構成されたモデルは正しい」という帰無仮説のもとで検定を行う。\n",
    "\n",
    "ただし、サンプル数が大きいほど棄却されやすくなる（「モデルが正しいとはいえない」という結果になる）ため、あまり信頼性のない方法\n",
    "\n",
    "カイ2乗検定の結果は直接使わないが、カイ2乗値を使う別の指標があることもあって統計ソフトでもいまだに計算される"
   ]
  },
  {
   "cell_type": "markdown",
   "id": "55f921f4-3c5e-4c51-8e4e-bc495e75e996",
   "metadata": {},
   "source": [
    "### CFI（comparative fit index）\n",
    "\n",
    "- 独立モデル（independent model）と呼ばれる最も単純なモデルと比較し、そこからモデルとデータの乖離がどれだけ改善されたかを測る\n",
    "- 独立モデルは観測変数間に一切パスを引かないモデル\n",
    "\n",
    "$$\n",
    "CFI = 1 - \\frac{ \\chi^2_{分析モデル} - df_{分析モデル} }{ \\chi^2_{独立モデル} - df_{独立モデル} }\n",
    "$$\n",
    "\n",
    "独立モデルの自由度は\n",
    "\n",
    "$$\n",
    "\\DeclareMathOperator{\\tr}{\\text{tr}}\n",
    "\\DeclareMathOperator{\\diag}{\\text{diag}}\n",
    "\\begin{align}\n",
    "\\chi^2_{独立モデル} &= \\tr( \\diag(S)^{-1} S) - \\log |(\\diag(S))^{-1} S| - p\\\\\n",
    "                    &= p - \\log |(\\diag(S))^{-1} S| - p\\\\\n",
    "                    &= - \\log |(\\diag(S))^{-1} S|\\\\\n",
    "df_{独立モデル} &= \\frac{1}{2} p(p - 1)\n",
    "\\end{align}\n",
    "$$\n"
   ]
  },
  {
   "cell_type": "markdown",
   "id": "46f6b1c0-5390-4f3d-a351-cbb608a4d85d",
   "metadata": {},
   "source": [
    "似たものでNFIやTLI（NNFI）もある\n",
    "\n",
    "$$\n",
    "NFI = \\frac{ \\chi^2_{独立モデル} - \\chi^2_{分析モデル} }{ \\chi^2_{独立モデル} }\n",
    "= 1 - \\frac{ \\chi^2_{分析モデル} }{ \\chi^2_{独立モデル} }\n",
    "$$\n",
    "\n",
    "- NFIの$\\chi^2$の部分を$\\chi^2 - df$にしたものがCFI\n",
    "- NFIの$\\chi^2$の部分を$\\chi^2 / df$にして分母から1を引いたものがTLI\n",
    "\n",
    "$$\n",
    "TLI = \\frac{ (\\chi^2_{独立モデル} / df_{独立モデル}) - (\\chi^2_{分析モデル} / df_{分析モデル}) }{ (\\chi^2_{独立モデル}/df_{独立モデル}) - 1 }\n",
    "$$"
   ]
  },
  {
   "cell_type": "markdown",
   "id": "771bffb7-04df-4551-9e3e-f4bf42bd90a5",
   "metadata": {},
   "source": [
    "### RMSEA（root mean square error of approximation）\n",
    "\n",
    "モデルの分布と真の分布との乖離度を1自由度あたりの値として評価する\n",
    "\n",
    "$$\n",
    "RMSEA = \\sqrt{\n",
    "    \\max\n",
    "    \\left(\n",
    "        \\frac{ \\chi^2 }{ df \\times n }\n",
    "        - \\frac{1}{n}\n",
    "       , 0\n",
    "    \\right)\n",
    "}\n",
    "$$\n",
    "\n",
    "RMSEAは0.05以下であれば当てはまりがよく、0.1以上であれば当てはまりがわるいと判断する慣習がある。"
   ]
  },
  {
   "cell_type": "markdown",
   "id": "f8f17d9d-f43e-429c-8bf6-1278ee07d053",
   "metadata": {},
   "source": [
    "### 情報量基準\n",
    "\n",
    "$$\n",
    "\\begin{align}\n",
    "AIC &= \\chi^2 - 2\\times df\\\\\n",
    "BIC &= \\chi^2 - \\log(n) \\times df\n",
    "\\end{align}\n",
    "$$\n"
   ]
  },
  {
   "cell_type": "markdown",
   "id": "c453f77c-d287-4a1b-bde5-bb90b5c12e5a",
   "metadata": {},
   "source": [
    "### GFI（goodness of fit index）\n",
    "\n",
    "実測値の分散$S$を予測値の分散$\\Sigma$で説明できた比率を表す。回帰分析における決定係数に相当する。\n",
    "\n",
    "$$\n",
    "\\DeclareMathOperator{\\tr}{\\text{tr}}\n",
    "GFI = 1 - \\frac{ \\tr( [\\Sigma(\\hat{\\theta})^{-1}(S - \\Sigma(\\hat{\\theta})) ]^2 ) }{ \\tr([\\Sigma(\\hat{\\theta})^{-1} S ]^2) }\n",
    "= 1 - \\frac{ \\tr( [\\Sigma(\\hat{\\theta})^{-1} S - I ]^2 ) }{ \\tr([\\Sigma(\\hat{\\theta})^{-1} S ]^2) }\n",
    "$$\n",
    "\n",
    "\n",
    "- 長所：標本数にあまり影響を受けない\n",
    "- 短所：モデルの自由度が大きくなると、値が大きくなりにくくなる → 複雑なモデルを作ったほうが有利になってしまう\n",
    "\n",
    "\n",
    "### AGFI（adjusted goodness of fit index）\n",
    "\n",
    "$$\n",
    "AGFI = 1 - \\frac{p(p+1)}{2df} (1 - GFI)\n",
    "$$\n",
    "\n",
    "- GFIの自由度のバイアスを補正したもの。回帰分析における自由度調整済み決定係数に相当する。\n",
    "- $AGFI\\leq GFI$という関係がある\n",
    "\n"
   ]
  },
  {
   "cell_type": "markdown",
   "id": "4a0f410d-9fb1-4903-9d87-e1f7d9de62a0",
   "metadata": {},
   "source": [
    "### RMR（root mean square residual）\n",
    "\n",
    "実測値の分散と予測値の分散の二乗誤差を測る。機械学習におけるRMSE（root mean squared error）に相当する\n",
    "\n",
    "$$\n",
    "RMR = \\sqrt{\n",
    "    \\frac{2}{p(p+1)}\n",
    "    \\sum_{j=1}^p \\sum_{l=1}^j\n",
    "    (s_{jl} - \\hat{\\sigma}_{jl})^2\n",
    "}\n",
    "$$\n",
    "\n",
    "### SRMR（standardized root mean square residual）\n",
    "\n",
    "単位の影響を除くために正規化したもの。\n",
    "\n",
    "$$\n",
    "SRMR = \\sqrt{\n",
    "    \\frac{2}{p(p+1)}\n",
    "    \\sum_{j=1}^p \\sum_{l=1}^j\n",
    "    \\left(\n",
    "        \\frac{ s_{jl} }{\\sqrt{s_{jj} - s_{ll}}}\n",
    "        - \\frac{ \\hat{\\sigma}_{jl} }{ \\sqrt{ \\hat{\\sigma}_{jj} - \\hat{\\sigma}_{ll} } }\n",
    "    \\right)^2\n",
    "}\n",
    "$$\n"
   ]
  },
  {
   "cell_type": "markdown",
   "id": "e1b504ed-8c81-43d1-8a9a-17cd3caaa68a",
   "metadata": {},
   "source": [
    "## 部分的評価（母数の推定値の評価）"
   ]
  },
  {
   "cell_type": "markdown",
   "id": "79042810-2696-4737-ab99-1eac97caa3ca",
   "metadata": {},
   "source": [
    "### $z$検定\n",
    "\n",
    "「母数の真の値は0である」という帰無仮説のもとで、\n",
    "\n",
    "$$\n",
    "z = \\frac{ 推定値 }{ 標準誤差 }\n",
    "$$\n",
    "\n",
    "は$df = 観測変数の数n - 自由母数の数q$の$z$分布（標準正規分布）に従う"
   ]
  },
  {
   "cell_type": "markdown",
   "id": "30e8a9e4-ae49-426e-b438-f7f15e2f2397",
   "metadata": {},
   "source": [
    "### 標準化残差による観測変数の評価\n",
    "\n",
    "$$\n",
    "残差行列 = S - \\hat{\\Sigma}\n",
    "$$\n",
    "\n",
    "残差行列の各要素の大きさ（絶対値）を確認することで、大きな残差になってい部分はモデルが標本共分散行列をうまく説明できていないことがわかる\n",
    "\n",
    "実際には標準化した残差を用いる\n",
    "\n",
    "$$\n",
    "\\frac{s_{jl} - \\hat{\\sigma}_{jl}}\n",
    "{\\sqrt{(s_{jj}s_{ll} + s_{jl}^2) / n }}\n",
    "$$"
   ]
  },
  {
   "cell_type": "markdown",
   "id": "551a7339-1dbe-47d8-a2f5-5049d3765ec7",
   "metadata": {},
   "source": [
    "### 決定係数\n",
    "\n",
    "各変数によって説明された分散の割合"
   ]
  },
  {
   "cell_type": "markdown",
   "id": "aa053270-6610-4f79-9bee-07b92d381f6f",
   "metadata": {},
   "source": [
    "## 参考文献\n",
    "\n",
    "- [星野崇宏, 岡田謙介, & 前田忠彦. (2005). 構造方程式モデリングにおける適合度指標とモデル改善について: 展望とシミュレーション研究による新たな知見. 行動計量学, 32(2), 209-235.](https://www.jstage.jst.go.jp/article/jbhmk/32/2/32_2_209/_pdf)"
   ]
  }
 ],
 "metadata": {
  "kernelspec": {
   "display_name": "Python 3 (ipykernel)",
   "language": "python",
   "name": "python3"
  },
  "language_info": {
   "codemirror_mode": {
    "name": "ipython",
    "version": 3
   },
   "file_extension": ".py",
   "mimetype": "text/x-python",
   "name": "python",
   "nbconvert_exporter": "python",
   "pygments_lexer": "ipython3",
   "version": "3.9.18"
  }
 },
 "nbformat": 4,
 "nbformat_minor": 5
}
