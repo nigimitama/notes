{
 "cells": [
  {
   "cell_type": "markdown",
   "id": "b1911697-8082-4c0d-b1bf-1abd8296b161",
   "metadata": {},
   "source": [
    "# MIMICモデル & PLSモデル"
   ]
  },
  {
   "cell_type": "markdown",
   "id": "95851866-af0b-4352-bf4f-d1ace2018f19",
   "metadata": {},
   "source": [
    "## MIMICモデル\n",
    "\n",
    "**MIMIC (Multiple Indicator Multiple Cause) モデル**は、観測変数をまとめた合成変数を観測変数で説明するという、回帰分析と因子分析を合わせたようなモデル。"
   ]
  },
  {
   "cell_type": "markdown",
   "id": "ef0868cb-78ee-4ae6-ad80-0afe7d11c5ca",
   "metadata": {},
   "source": [
    "### 歴史\n",
    "\n",
    "経済学者のArthur Goldbergerが統計学者との共著で1975年に提案\n"
   ]
  },
  {
   "cell_type": "markdown",
   "id": "6b637afc-c446-4d3e-9f58-db6b429f8907",
   "metadata": {},
   "source": [
    "\n",
    "### 参考\n",
    "\n",
    "[Charles F. Manski, \"Arthur S. Goldberger\", Biographical Memoirs of the National Academy of Sciences (2013)](http://www.nasonline.org/publications/biographical-memoirs/memoir-pdfs/goldberger-arthur.pdf)\n",
    "\n",
    "\n",
    "GoldbergerはMIMICモデルだけでなく、\"mean independence\"の提案やSelection Biasに関する研究など因果推論への貢献も多い\n"
   ]
  },
  {
   "cell_type": "markdown",
   "id": "1b37545b-722f-4fd7-9f22-72d14304640a",
   "metadata": {},
   "source": [
    "## PLSモデル (Partial Least Square Model)\n",
    "\n",
    "MIMICモデルにおける合成変数を別の因子の説明に使ったもの。\n",
    "\n",
    "観測変数をまとめた合成変数から、別の複数の観測変数の潜在変数に与える影響の強さを検討するモデル"
   ]
  },
  {
   "cell_type": "code",
   "execution_count": null,
   "id": "182ed037-cdf3-47af-8cf1-a4cecf66f871",
   "metadata": {},
   "outputs": [],
   "source": []
  }
 ],
 "metadata": {
  "kernelspec": {
   "display_name": "Python 3 (ipykernel)",
   "language": "python",
   "name": "python3"
  },
  "language_info": {
   "codemirror_mode": {
    "name": "ipython",
    "version": 3
   },
   "file_extension": ".py",
   "mimetype": "text/x-python",
   "name": "python",
   "nbconvert_exporter": "python",
   "pygments_lexer": "ipython3",
   "version": "3.9.18"
  }
 },
 "nbformat": 4,
 "nbformat_minor": 5
}
