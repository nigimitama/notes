{
 "cells": [
  {
   "cell_type": "markdown",
   "id": "a1c18a4f-635b-4267-8a97-6e2151d0868e",
   "metadata": {},
   "source": [
    "# カイ2乗検定の自由度について\n",
    "\n"
   ]
  },
  {
   "cell_type": "markdown",
   "id": "4459006c-7978-449a-b836-c6752a7be83f",
   "metadata": {},
   "source": [
    "## カイ2乗検定\n",
    "\n",
    "最尤法で母数を推定した場合、自由度$df = \\frac{1}{2} p (p + 1) - q$の$\\chi^2$分布に近似的に従う統計量を使って検定を行う（豊田2012『因子分析』）\n",
    "\n",
    "（$p$は観測変数の数、$q$は自由母数の数）"
   ]
  },
  {
   "cell_type": "markdown",
   "id": "cb0c4ea7-238e-43e1-8ad2-e1360ea13a3a",
   "metadata": {},
   "source": [
    "semopyの推定方法も豊田同様"
   ]
  },
  {
   "cell_type": "markdown",
   "id": "50484d55-0868-42b7-b6fc-509262badf4e",
   "metadata": {},
   "source": [
    "### lavaanの推定\n",
    "\n",
    "標本母数 - 自由母数\n",
    "\n"
   ]
  },
  {
   "cell_type": "markdown",
   "id": "89bc60a6-7138-444f-a3b7-d6e2288734aa",
   "metadata": {},
   "source": [
    "[(PDF) Calculating Degrees of Freedom for a Structural Equation Model](https://www.researchgate.net/publication/233149968_Calculating_Degrees_of_Freedom_for_a_Structural_Equation_Model)"
   ]
  },
  {
   "cell_type": "code",
   "execution_count": null,
   "id": "c0e20726-fc04-4ec8-83c6-f58bf87d8c83",
   "metadata": {},
   "outputs": [],
   "source": []
  }
 ],
 "metadata": {
  "kernelspec": {
   "display_name": "Python 3 (ipykernel)",
   "language": "python",
   "name": "python3"
  },
  "language_info": {
   "codemirror_mode": {
    "name": "ipython",
    "version": 3
   },
   "file_extension": ".py",
   "mimetype": "text/x-python",
   "name": "python",
   "nbconvert_exporter": "python",
   "pygments_lexer": "ipython3",
   "version": "3.9.18"
  }
 },
 "nbformat": 4,
 "nbformat_minor": 5
}
