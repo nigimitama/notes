{
 "cells": [
  {
   "cell_type": "markdown",
   "id": "6b560bbb-b9c6-4207-8d33-2a876fc4a0b4",
   "metadata": {},
   "source": [
    "# 構造方程式モデリング\n"
   ]
  },
  {
   "cell_type": "markdown",
   "id": "fbf6a936-7df5-4f33-8f67-f9321c3ba680",
   "metadata": {},
   "source": [
    "## 目次\n",
    "\n",
    "```{tableofcontents}\n",
    "```"
   ]
  },
  {
   "cell_type": "markdown",
   "id": "756baf64-158c-46a2-87ac-f4685195b128",
   "metadata": {},
   "source": [
    "## 参考文献\n",
    "\n",
    "- [Structural Equation Modeling (SEM)](https://kevintshoemaker.github.io/NRES-746/SEM.RMarkdown.html)\n",
    "- [Introduction to Structural Equation Modeling (SEM) in R with lavaan](https://stats.oarc.ucla.edu/r/seminars/rsem/#s2h)\n"
   ]
  }
 ],
 "metadata": {
  "kernelspec": {
   "display_name": "Python 3 (ipykernel)",
   "language": "python",
   "name": "python3"
  },
  "language_info": {
   "codemirror_mode": {
    "name": "ipython",
    "version": 3
   },
   "file_extension": ".py",
   "mimetype": "text/x-python",
   "name": "python",
   "nbconvert_exporter": "python",
   "pygments_lexer": "ipython3",
   "version": "3.9.18"
  }
 },
 "nbformat": 4,
 "nbformat_minor": 5
}
