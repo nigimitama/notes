{
 "cells": [
  {
   "cell_type": "markdown",
   "id": "772fe361-c40d-4194-b599-21bb9dfb50c0",
   "metadata": {},
   "source": [
    "# 因子分析モデル\n",
    "\n",
    "「プライドの高さ」「英語力」のような直接観測することができない便宜上の概念を**構成概念**（construct）という。\n",
    "\n",
    "構成概念を分析するためのモデルの一つが**因子分析モデル**（**測定方程式モデル**）で、例えば次のように表される\n",
    "\n",
    "$$\n",
    "v_1 = \\alpha_{11} f_1 + e_1\\\\\n",
    "v_2 = \\alpha_{21} f_1 + e_2\\\\\n",
    "v_3 = \\alpha_{31} f_1 + e_3\\\\\n",
    "$$\n",
    "\n",
    "ここで$v$は観測値の偏差$v = x - E[x]$、$\\alpha$は**因子負荷量**（factor loading）、$f$は構成概念を表す変数で**因子スコア**（factor score）あるいは因子と呼ばれる。\n",
    "\n",
    "$f$は構造的な潜在変数である。\n",
    "\n",
    "\n",
    "また、モデルの仮定として\n",
    "\n",
    "1. 潜在変数は原則 $E[f_i] = 0, V[f_i] = 1$\n",
    "2. 誤差は平均ゼロ、均一分散 $E[e_i]=0, V[e_i] = \\sigma^2_{e_i}$\n",
    "3. 誤差と因子スコアは無相関 $E[f_i e_i] = 0$\n",
    "\n",
    "をおく"
   ]
  },
  {
   "cell_type": "markdown",
   "id": "08178cc7-7beb-47d3-9087-dbeee75a0916",
   "metadata": {},
   "source": [
    "## 歴史\n",
    "\n",
    "まず、現在は**探索的因子分析**（exploratory factor analysis: EFA)と呼ばれる、事前に特定の仮説を置かずにデータの共分散に基づいて（主成分分析のように）因子スコアを推定する方法が提案された\n",
    "\n",
    "その後、分析者が仮説（モデル構造）を仮定して推定する**確認的因子分析**（confirmatory factor analysis: CFA）が提案された。\n",
    "\n",
    "SEMが提案された後はそれらの因子分析がSEMの下位モデルとして内包されるようになった"
   ]
  },
  {
   "cell_type": "markdown",
   "id": "7cf7faa7-14a9-4539-a10d-2e80ac56d2af",
   "metadata": {},
   "source": [
    "## 推定\n",
    "\n",
    "$$\n",
    "v_1 = \\alpha_{11} f_1 + e_1\\\\\n",
    "v_2 = \\alpha_{21} f_1 + e_2\\\\\n",
    "v_3 = \\alpha_{31} f_1 + e_3\\\\\n",
    "$$\n",
    "\n",
    "のモデルを例にとる。\n"
   ]
  },
  {
   "cell_type": "markdown",
   "id": "b4f26265-2724-4c84-a5eb-0cf378df21e3",
   "metadata": {},
   "source": [
    "#### 共分散の構造化\n",
    "\n",
    "観測変数の分散共分散行列を計算していく。\n",
    "\n",
    "$v_1$の分散$\\sigma^2_1$は\n",
    "\n",
    "$$\n",
    "\\begin{align}\n",
    "\\sigma^2_1 &= E[v^2_1]\\\\\n",
    "    &= E[(\\alpha_{11} f_1 + e_1)(\\alpha_{11} f_1 + e_1)]\\\\\n",
    "    &= E[\\alpha_{11}^2 f_1^2 + 2 \\alpha_{11} f_1 e_1 + e^2_1]\\\\\n",
    "    &= \\alpha_{11}^2 E[f_1^2] + 2 \\alpha_{11} E[f_1 e_1] + E[e^2_1]\\\\\n",
    "    &= \\alpha_{11}^2 + \\sigma^2_{e_1}\n",
    "\\end{align}\n",
    "$$\n",
    "\n",
    "となる。最後の行は仮定より$E[f_1 e_1] = 0$となること、それから仮定より$E[e_1]=0$ゆえに$E[e^2_1]=V[e_1]=\\sigma^2_{e_1}$であり、同様に$E[f_1]=0$から$E[f_1^2]=V[f_1]=1$となることを利用している。\n",
    "\n",
    "$v_2$と$v_3$の分散も同様なので、分散は最終的に\n",
    "\n",
    "$$\n",
    "\\sigma^2_1 = \\alpha^2_{11} + \\sigma^2_{e_1}\\\\\n",
    "\\sigma^2_2 = \\alpha^2_{21} + \\sigma^2_{e_2}\\\\\n",
    "\\sigma^2_3 = \\alpha^2_{31} + \\sigma^2_{e_3}\\\\\n",
    "$$\n",
    "\n",
    "となる。\n",
    "\n",
    "つづいて共分散は\n",
    "\n",
    "$$\n",
    "\\begin{align}\n",
    "\\sigma_{21} &= E[v_2 v_1]\\\\\n",
    "    &= E[(\\alpha_{21} f_1 + e_2)(\\alpha_{11} f_1 + e_1)]\\\\\n",
    "    &= E[\\alpha_{21}\\alpha_{11} f_1^2\n",
    "            + \\alpha_{21} f_1 e_1\n",
    "            + \\alpha_{11} f_1 e_2\n",
    "            + e_1 e_2]\\\\\n",
    "    &= \\alpha_{21} \\alpha_{11}\n",
    "\\end{align}\n",
    "$$\n",
    "\n",
    "となるため\n",
    "\n",
    "$$\n",
    "\\sigma_{21} = \\alpha_{21} \\alpha_{11}\\\\\n",
    "\\sigma_{31} = \\alpha_{31} \\alpha_{11}\\\\\n",
    "\\sigma_{32} = \\alpha_{31} \\alpha_{21}\\\\\n",
    "$$\n",
    "\n",
    "となる。\n",
    "\n",
    "観測変数の共分散行列は\n",
    "\n",
    "$$\n",
    "\\Sigma\n",
    "= \\begin{bmatrix}\n",
    "    \\sigma^2_1 \\\\\n",
    "    \\sigma_{21} & \\sigma^2_2\\\\\n",
    "    \\sigma_{31} & \\sigma_{32} & \\sigma^2_3\n",
    "\\end{bmatrix}\n",
    "= \\begin{bmatrix}\n",
    "    \\alpha^2_{11} + \\sigma^2_{e_1}\\\\\n",
    "    \\alpha_{21} \\alpha_{11} & \\alpha^2_{21} + \\sigma^2_{e_2}\\\\\n",
    "    \\alpha_{31} \\alpha_{11} & \\alpha_{31} \\alpha_{21} & \\alpha^2_{31} + \\sigma^2_{e_3}\n",
    "\\end{bmatrix}\n",
    "$$\n",
    "\n",
    "と書き直すことができる。このように共分散を母数の関数で表現することを「構造化」という。上記の式のように共分散を方程式モデルの母数で表現したものを「共分散構造」とよぶ。\n"
   ]
  },
  {
   "cell_type": "markdown",
   "id": "db93772a-de39-45e7-b520-97da18d23d20",
   "metadata": {},
   "source": [
    "#### 推定\n",
    "\n",
    "モデルの$\\alpha, f, e$を推定していく。\n",
    "\n",
    "共分散構造を用いて、\n",
    "\n",
    "$$\n",
    "\\sigma_{21} = \\alpha_{21} \\alpha_{11}\\\\\n",
    "\\sigma_{31} = \\alpha_{31} \\alpha_{11}\\\\\n",
    "\\sigma_{32} = \\alpha_{31} \\alpha_{21}\\\\\n",
    "$$\n",
    "を$\\alpha_{11}$について解くと\n",
    "\n",
    "$$\n",
    "\\frac{ \\sigma_{21} \\sigma_{31} }{ \\sigma_{32} }\n",
    "= \\frac{ \\alpha_{21} \\alpha_{11} \\times \\alpha_{31} \\alpha_{11} }{ \\alpha_{31} \\alpha_{21} }\n",
    "= \\alpha_{11}^2\n",
    "\\\\\n",
    "\\to \\alpha_{11} = \\pm \\sqrt{ \\frac{ \\sigma_{21} \\sigma_{31} }{ \\sigma_{32} } }\n",
    "$$\n",
    "\n",
    "で、これを利用して\n",
    "\n",
    "$$\n",
    "\\alpha_{21} = \\frac{ \\sigma_{21} }{ \\alpha_{11} }\\\\\n",
    "\\alpha_{31} = \\frac{ \\sigma_{31} }{ \\alpha_{11} }\n",
    "$$\n",
    "\n",
    "となる。"
   ]
  },
  {
   "cell_type": "markdown",
   "id": "ec7e136f-b986-4ab1-ba9b-d99161aaa401",
   "metadata": {},
   "source": [
    "誤差分散は\n",
    "\n",
    "$\\sigma^2_i = \\alpha^2_{ij} + \\sigma^2_{e_i} \\implies \\sigma^2_{e_i} = \\sigma^2_i - \\alpha^2_{ij}$より\n",
    "\n",
    "$$\n",
    "\\sigma^2_{e_1} = \\sigma^2_1 - \\alpha^2_{11}\\\\\n",
    "\\sigma^2_{e_2} = \\sigma^2_2 - \\alpha^2_{21}\\\\\n",
    "\\sigma^2_{e_3} = \\sigma^2_3 - \\alpha^2_{31}\n",
    "$$\n",
    "\n",
    "となる。"
   ]
  },
  {
   "cell_type": "markdown",
   "id": "c6cc9a41-0951-419a-92b6-e0df9d29d6d3",
   "metadata": {},
   "source": [
    "上記の式は母分散を利用しているが、実際には標本分散を用いた推定量とする"
   ]
  },
  {
   "cell_type": "code",
   "execution_count": 36,
   "id": "39434cf2-619c-4550-99e9-293e8d7e74ab",
   "metadata": {},
   "outputs": [],
   "source": [
    "# データの生成\n",
    "from scipy.stats import multivariate_normal\n",
    "import numpy as np\n",
    "mean = np.array([10, 5, 3])\n",
    "cov = np.array([\n",
    "    [2, 0.5,  1.2],\n",
    "    [0.5, 1,  0.7],\n",
    "    [1.2, 0.7, 1.5],\n",
    "])\n",
    "mvn = multivariate_normal(mean=mean, cov=cov, seed=0)\n",
    "\n",
    "n = 100\n",
    "# データ行列\n",
    "X = mvn.rvs(size=n, random_state=0)\n",
    "# 平均偏差行列\n",
    "V = X - X.mean(axis=0)\n",
    "# 分散共分散行列\n",
    "S = np.cov(V, rowvar=False)"
   ]
  },
  {
   "cell_type": "code",
   "execution_count": 37,
   "id": "ba7898d7-5e5e-47c8-a9eb-0b3b5703fc00",
   "metadata": {},
   "outputs": [
    {
     "data": {
      "text/plain": [
       "array([[2.275, 0.578, 1.278],\n",
       "       [0.578, 0.976, 0.69 ],\n",
       "       [1.278, 0.69 , 1.42 ]])"
      ]
     },
     "execution_count": 37,
     "metadata": {},
     "output_type": "execute_result"
    }
   ],
   "source": [
    "S.round(3)"
   ]
  },
  {
   "cell_type": "code",
   "execution_count": 42,
   "id": "e5816955-432e-4d65-a41b-2fd8237861f0",
   "metadata": {},
   "outputs": [],
   "source": [
    "# alphaの推定\n",
    "# pythonは0始まりなのでインデックスが全部1ずれる\n",
    "a11 = np.sqrt( S[1, 0] * S[2, 0] / S[2, 1] )\n",
    "a21 = S[1, 0] / a11\n",
    "a31 = S[2, 0] / a11"
   ]
  },
  {
   "cell_type": "code",
   "execution_count": 43,
   "id": "9385abb1-1336-4622-8e26-84ed6f7e714e",
   "metadata": {},
   "outputs": [],
   "source": [
    "# 誤差分散sigma_eの推定\n",
    "s_e1 = S[0,0] - a11\n",
    "s_e2 = S[1,1] - a21\n",
    "s_e3 = S[2,2] - a31"
   ]
  },
  {
   "cell_type": "code",
   "execution_count": 46,
   "id": "c0e9078c-0f44-465a-87b4-1ed68571824e",
   "metadata": {},
   "outputs": [
    {
     "data": {
      "text/plain": [
       "array([[2.609, 0.578, 1.278],\n",
       "       [0.578, 0.486, 0.69 ],\n",
       "       [1.278, 0.69 , 1.559]])"
      ]
     },
     "execution_count": 46,
     "metadata": {},
     "output_type": "execute_result"
    }
   ],
   "source": [
    "# 再現された分散行列\n",
    "Sigma = np.array([\n",
    "    [(a11**2 + s_e1**2), a21 * a11, a31 * a11],\n",
    "    [a21 * a11, (a21**2 + s_e2**2), a31 * a21],\n",
    "    [a31 * a11, a31 * a21, (a31**2 + s_e3**2)],\n",
    "])\n",
    "Sigma.round(3)"
   ]
  },
  {
   "cell_type": "code",
   "execution_count": 50,
   "id": "04614488-8a53-42e0-a44e-2bb5ce709777",
   "metadata": {},
   "outputs": [
    {
     "data": {
      "text/plain": [
       "array([[-0.334,  0.   ,  0.   ],\n",
       "       [ 0.   ,  0.49 , -0.   ],\n",
       "       [ 0.   , -0.   , -0.138]])"
      ]
     },
     "execution_count": 50,
     "metadata": {},
     "output_type": "execute_result"
    }
   ],
   "source": [
    "# residual\n",
    "(S - Sigma).round(3)"
   ]
  },
  {
   "cell_type": "markdown",
   "id": "98c57280-6a6c-45d6-accc-4dad4a79018b",
   "metadata": {},
   "source": [
    "### 標準化解\n",
    "\n",
    "$z, f, e$の分散が1に標準化されたモデル（標準化モデル）\n",
    "\n",
    "$$\n",
    "z_1 = \\alpha_{11}^* f_1 + \\beta_1 e_1^*\\\\\n",
    "z_2 = \\alpha_{21}^* f_1 + \\beta_2 e_2^*\\\\\n",
    "z_3 = \\alpha_{31}^* f_1 + \\beta_3 e_3^*\\\\\n",
    "$$\n",
    "\n",
    "$\\beta$は誤差の係数（$\\alpha$は区別のため係数に$*$をつけている）\n",
    "\n",
    "\n",
    "$z, f, e$の分散は1になるから、その係数は合計が1になる：$1 = \\alpha_{11}^{*2} + \\beta_1^2$\n",
    "\n",
    "共分散（相関）も$\\sigma_{r21} = \\alpha_{21}^* \\alpha_{11}^*$のようになる\n",
    "\n",
    "共分散行列は\n",
    "\n",
    "$$\n",
    "\\Sigma\n",
    "= \\begin{bmatrix}\n",
    "    \\sigma^2_1 \\\\\n",
    "    \\sigma_{r21} & \\sigma^2_2\\\\\n",
    "    \\sigma_{r31} & \\sigma_{r32} & \\sigma^2_3\n",
    "\\end{bmatrix}\n",
    "= \\begin{bmatrix}\n",
    "    \\alpha^{*2}_{11} + \\beta^2_1\\\\\n",
    "    \\alpha_{21}^* \\alpha_{11}^* & \\alpha^{*2}_{21} + \\beta^2_2\\\\\n",
    "    \\alpha_{31}^* \\alpha_{11}^* & \\alpha_{31}^* \\alpha_{21}^* & \\alpha^{*2}_{31} + \\beta^2_3\n",
    "\\end{bmatrix}\n",
    "$$\n",
    "\n",
    "と構造化される"
   ]
  },
  {
   "cell_type": "markdown",
   "id": "19f2fa52-10e7-4c49-8556-c7c2027f2ee2",
   "metadata": {},
   "source": [
    "### 測定方程式の行列表記\n",
    "\n",
    "測定方程式を次のように表記する\n",
    "\n",
    "$$\n",
    "\\newcommand{\\b}[1]{\\boldsymbol{#1}}\n",
    "\\b{v} = \\b{A} \\b{f} + \\b{e}\n",
    "$$\n",
    "\n",
    "また仮定については\n",
    "\n",
    "$$\n",
    "E[\\b{f}] = \\b{o}\\\\\n",
    "E[\\b{e}] = \\b{o}\\\\\n",
    "E[\\b{fe}^T] = \\b{O}\n",
    "$$\n",
    "\n",
    "となる。\n",
    "\n",
    "\n",
    "共分散構造は\n",
    "\n",
    "$$\n",
    "\\begin{align}\n",
    "\\b{\\Sigma} \n",
    "    &= E[(\\b{x} - \\b{\\mu})(\\b{x} - \\b{\\mu})^T]\\\\\n",
    "    &= E[\\b{vv}^T]\\\\\n",
    "    &= E[(\\b{Af}+\\b{e})(\\b{Af}+\\b{e})^T]\\\\\n",
    "    &= E[(\\b{Af}+\\b{e})(\\b{f}^T\\b{A}^T+\\b{e}^T)]\\\\\n",
    "    &= E[\\b{Af} \\b{f}^T\\b{A}^T]\n",
    "        + E[\\b{Af} \\b{e}^T]\n",
    "        + E[\\b{e} \\b{f}^T\\b{A}^T]\n",
    "        + E[\\b{e e}^T]\\\\\n",
    "    &= \\b{A} E[\\b{f} \\b{f}^T] \\b{A}^T\n",
    "        + \\b{A} E[\\b{f} \\b{e}^T]\n",
    "        + E[\\b{e} \\b{f}^T] \\b{A}^T\n",
    "        + E[\\b{e e}^T]\\\\\n",
    "    &= \\b{A} E[\\b{f} \\b{f}^T] \\b{A}^T + E[\\b{e e}^T]\\\\\n",
    "    &= \\b{A} \\b{\\Sigma}_{rf} \\b{A}^T + \\b{\\Sigma}_e\n",
    "\\end{align}\n",
    "$$\n",
    "\n"
   ]
  },
  {
   "cell_type": "code",
   "execution_count": null,
   "id": "31976495-0eba-432b-a32c-cc21d16e6413",
   "metadata": {},
   "outputs": [],
   "source": []
  }
 ],
 "metadata": {
  "kernelspec": {
   "display_name": "Python 3 (ipykernel)",
   "language": "python",
   "name": "python3"
  },
  "language_info": {
   "codemirror_mode": {
    "name": "ipython",
    "version": 3
   },
   "file_extension": ".py",
   "mimetype": "text/x-python",
   "name": "python",
   "nbconvert_exporter": "python",
   "pygments_lexer": "ipython3",
   "version": "3.9.18"
  }
 },
 "nbformat": 4,
 "nbformat_minor": 5
}
