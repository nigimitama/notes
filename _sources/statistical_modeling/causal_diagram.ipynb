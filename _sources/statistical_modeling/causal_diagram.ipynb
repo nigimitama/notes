{
 "cells": [
  {
   "cell_type": "markdown",
   "id": "f08998db-d5be-441e-ab27-693927638b20",
   "metadata": {},
   "source": [
    "# 因果ダイアグラム"
   ]
  },
  {
   "cell_type": "markdown",
   "id": "9fbcc775-2e1c-4d8a-a771-33d3f7ec115f",
   "metadata": {},
   "source": [
    "[因果ダイアグラム・構造方程式モデルによる因果推論](https://www.jstage.jst.go.jp/article/jscswabun/17/1/17_KJ00002671410/_article/-char/ja/)"
   ]
  },
  {
   "cell_type": "code",
   "execution_count": null,
   "id": "b88d3f62-53c9-4b90-85a9-a145b6395377",
   "metadata": {},
   "outputs": [],
   "source": []
  }
 ],
 "metadata": {
  "kernelspec": {
   "display_name": "Python 3 (ipykernel)",
   "language": "python",
   "name": "python3"
  },
  "language_info": {
   "codemirror_mode": {
    "name": "ipython",
    "version": 3
   },
   "file_extension": ".py",
   "mimetype": "text/x-python",
   "name": "python",
   "nbconvert_exporter": "python",
   "pygments_lexer": "ipython3",
   "version": "3.9.17"
  }
 },
 "nbformat": 4,
 "nbformat_minor": 5
}
