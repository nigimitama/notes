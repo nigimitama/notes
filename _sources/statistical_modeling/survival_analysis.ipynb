{
 "cells": [
  {
   "cell_type": "markdown",
   "id": "80969eb8-220e-4472-b118-dea9a841b39c",
   "metadata": {},
   "source": [
    "# 生存分析"
   ]
  },
  {
   "cell_type": "markdown",
   "id": "165a2e5c-62e9-4f49-b847-39c248c0a5b0",
   "metadata": {},
   "source": [
    "生存確率に関わる要因を調べたいときなどに使う\n",
    "\n",
    "死亡したらそれ以降その個体のデータは得られなくなる（脱落する）\n"
   ]
  },
  {
   "cell_type": "markdown",
   "id": "b207904a-4dfb-42e7-b47f-75b2b187ed20",
   "metadata": {},
   "source": [
    "## ハザード関数\n",
    "\n",
    "### 生存率関数\n",
    "\n",
    "ある患者の生存時間を表す確率変数を$T$とする（$T>0$）。\n",
    "\n",
    "$T$の確率密度関数（PDF）を$f(t)$とする。$f(t)$は「期間tが経過した時点で死亡する確率」を意味する。\n",
    "\n",
    "$T$の累積分布関数（CDF）は\n",
    "\n",
    "$$\n",
    "F(t) = P(T \\leq t) = \\int^t_0 f(u) du\n",
    "$$\n",
    "\n",
    "$F(t)$は「期間tが経過するまでに死亡している確率」である。\n",
    "\n",
    "\n",
    "$F(t)$をベースに、「期間tが経過するまで死亡していない確率」を意味する **生存率関数** （survival rate function）$S(t)$を考えることができる\n",
    "\n",
    "$$\n",
    "S(t) = P(T > t) = 1 - F(t)\n",
    "= \\int_t^\\infty f(u) du\n",
    "$$\n",
    "\n",
    "\n",
    "$$\n",
    "f(t) = - \\frac{d S(t)}{d t}\n",
    "$$\n",
    "\n",
    "という関係になる"
   ]
  },
  {
   "cell_type": "markdown",
   "id": "51f75a2a-d076-4cf7-9bf4-7658c9387d82",
   "metadata": {},
   "source": [
    "### ハザード関数\n",
    "\n",
    "**ハザード関数** （hazard function）は、「ある時点まで生存していたことを前提にして、その時点に於いて死亡する確率」という条件付き確率\n",
    "\n",
    "$$\n",
    "h(t) = \\lim_{dt\\to 0} \\frac{P(T \\leq t + dt| T > t)}{dt}\n",
    "$$\n",
    "\n",
    "例えば10歳での生存率と90歳の生存率を比べると、90歳の生存率はかなり低くなると考えられる。\n",
    "\n",
    "そこを「89歳まで生存していた人が90歳に死亡する確率」と条件付きにすることで、真に測りたい率を得る。"
   ]
  },
  {
   "cell_type": "markdown",
   "id": "864dc7ca-c17b-4367-91b1-71cb619d1652",
   "metadata": {},
   "source": [
    "整理すると\n",
    "\n",
    "$$\n",
    "\\begin{align}\n",
    "h(t)\n",
    "&= \\lim_{dt\\to 0} \\frac{P(T \\leq t + dt| T > t)}{dt}\\\\\n",
    "&= \\lim_{dt\\to 0} \\frac{P(t < T \\leq t + dt)}{P(T > t) dt} \\quad (\\because \\frac{P(T > t)}{P(T > t)}を乗じて分子を同時確率にした)\\\\\n",
    "&= \\lim_{dt\\to 0} \\frac{P(t + dt) - P(t)}{dt} \\times \\frac{1}{P(T > t)}\\\\\n",
    "&= \\frac{d F(t)}{d t} \\times \\frac{1}{P(T > t)}\\\\\n",
    "&= \\frac{f(t)}{S(t)}\\\\\n",
    "\\end{align}\n",
    "$$\n",
    "\n",
    "なので\n",
    "\n",
    "$$\n",
    "h(t) = \\frac{f(t)}{S(t)}\n",
    "= \\frac{\\text{t期に死亡する確率} }{\\text{t期まで生存している確率} }\n",
    "$$\n",
    "\n",
    "という関係になる"
   ]
  },
  {
   "cell_type": "code",
   "execution_count": null,
   "id": "ac97260d-4df4-4ccf-bff7-c6500746308a",
   "metadata": {},
   "outputs": [],
   "source": []
  },
  {
   "cell_type": "markdown",
   "id": "d946144a-182a-4362-b32f-57d35f6dda33",
   "metadata": {},
   "source": [
    "## 参考\n",
    "\n",
    "- [武冨奈菜美, & 山本和嬉. (2023). 生存時間解析・信頼性解析のための統計モデル. 日本統計学会誌, 52(2), 69-112.](https://www.jstage.jst.go.jp/article/jjssj/52/2/52_69/_pdf)\n",
    "- [生存時間解析〜生存関数とハザード関数とその関係〜 | AVILEN AI Trend](https://ai-trend.jp/basic-study/survival-data-analysis/survival-function/)"
   ]
  },
  {
   "cell_type": "code",
   "execution_count": null,
   "id": "a1375100-2990-4b25-9b51-b4a7b89e5b95",
   "metadata": {},
   "outputs": [],
   "source": []
  }
 ],
 "metadata": {
  "kernelspec": {
   "display_name": "Python 3 (ipykernel)",
   "language": "python",
   "name": "python3"
  },
  "language_info": {
   "codemirror_mode": {
    "name": "ipython",
    "version": 3
   },
   "file_extension": ".py",
   "mimetype": "text/x-python",
   "name": "python",
   "nbconvert_exporter": "python",
   "pygments_lexer": "ipython3",
   "version": "3.10.13"
  }
 },
 "nbformat": 4,
 "nbformat_minor": 5
}
