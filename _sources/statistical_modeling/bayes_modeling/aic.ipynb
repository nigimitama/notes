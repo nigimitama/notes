{
 "cells": [
  {
   "cell_type": "markdown",
   "id": "700a34b4-8e3b-408c-a334-c2e015b8fc8d",
   "metadata": {},
   "source": [
    "# AIC / BIC\n"
   ]
  },
  {
   "cell_type": "markdown",
   "id": "7cdc238c-dcff-403d-81c4-1658e444edfd",
   "metadata": {},
   "source": [
    "## 定義"
   ]
  },
  {
   "cell_type": "markdown",
   "id": "0a678640-602a-42e3-9209-5411c7f8a809",
   "metadata": {},
   "source": [
    "最尤推定量$\\hat{\\theta}_{(x_1, \\dots, x_n)}$について\n",
    "\n",
    "$$\n",
    "\\begin{align}\n",
    "AIC &:= \\sum^n_{i=1} - \\log p(x_i | \\hat{\\theta}_{(x_1, \\dots, x_n)} ) + d\\\\\n",
    "BIC &:= \\sum^n_{i=1} - \\log p(x_i | \\hat{\\theta}_{(x_1, \\dots, x_n)} ) + \\frac{d}{2} \\log n\\\\\n",
    "\\end{align}\n",
    "$$"
   ]
  },
  {
   "cell_type": "code",
   "execution_count": null,
   "id": "2bc368bd-17a5-4579-8689-c682d07ca35b",
   "metadata": {},
   "outputs": [],
   "source": []
  }
 ],
 "metadata": {
  "kernelspec": {
   "display_name": "Python 3 (ipykernel)",
   "language": "python",
   "name": "python3"
  },
  "language_info": {
   "codemirror_mode": {
    "name": "ipython",
    "version": 3
   },
   "file_extension": ".py",
   "mimetype": "text/x-python",
   "name": "python",
   "nbconvert_exporter": "python",
   "pygments_lexer": "ipython3",
   "version": "3.9.18"
  }
 },
 "nbformat": 4,
 "nbformat_minor": 5
}
