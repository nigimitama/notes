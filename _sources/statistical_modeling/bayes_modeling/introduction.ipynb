{
 "cells": [
  {
   "cell_type": "markdown",
   "id": "ae52cd9b-4c73-427c-b7f6-4ae465ecccaa",
   "metadata": {},
   "source": [
    "# 概要"
   ]
  },
  {
   "cell_type": "markdown",
   "id": "cc415cb3-d51d-4263-9335-989c6fb3b2fe",
   "metadata": {},
   "source": [
    "## 参考文献\n",
    "\n",
    "- [階層ベイズ＆MCMC講義 （久保拓弥）　難易度★★ - YouTube](https://www.youtube.com/watch?v=wO8jd0z5YRQ)"
   ]
  },
  {
   "cell_type": "code",
   "execution_count": null,
   "id": "ef0d3b2e-bc6b-4d57-b093-b26d05eaba37",
   "metadata": {},
   "outputs": [],
   "source": []
  }
 ],
 "metadata": {
  "kernelspec": {
   "display_name": "Python 3 (ipykernel)",
   "language": "python",
   "name": "python3"
  },
  "language_info": {
   "codemirror_mode": {
    "name": "ipython",
    "version": 3
   },
   "file_extension": ".py",
   "mimetype": "text/x-python",
   "name": "python",
   "nbconvert_exporter": "python",
   "pygments_lexer": "ipython3",
   "version": "3.10.15"
  }
 },
 "nbformat": 4,
 "nbformat_minor": 5
}
