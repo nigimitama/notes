{
 "cells": [
  {
   "cell_type": "markdown",
   "id": "f7a1270d-d59b-437c-9b41-9034a3504c8e",
   "metadata": {},
   "source": [
    "# 状態空間モデル\n",
    "\n",
    "系列から系列への変換器"
   ]
  },
  {
   "cell_type": "markdown",
   "id": "f30f9a00-cc49-47ae-aad5-002c02a753b8",
   "metadata": {},
   "source": [
    "## 概要\n",
    "\n",
    "時点$t$の観測値$Y_t$の系列と、潜在変数である状態$S_t$の系列を考える。\n",
    "\n",
    "- 状態は状態方程式 $S_t = f(S_{t-1}, u_t)$ で1期前の状態とノイズ$u_t$から決まる（$f$は任意の関数）\n",
    "- 観測値は観測方程式 $Y_t = g(S_t, v_t)$ で状態とノイズ$v_t$で決まる（$g$は任意の関数）\n",
    "\n",
    "状態空間モデルは状態方程式と観測方程式で構成される\n",
    "\n",
    "$$\n",
    "\\begin{cases}\n",
    "S_t = f(S_{t-1}, u_t)\\\\\n",
    "Y_t = g(S_t, v_t)\n",
    "\\end{cases}\n",
    "$$\n",
    "\n",
    "関数$f,g$が非線形だったりノイズ$u_t,v_t$が非ガウス分布の状態空間モデルは **一般化状態空間モデル** と呼ばれる。\n",
    "\n",
    "- 線形・ガウス分布の状態空間モデルは 計算量が低く、statsmodelsなどのパッケージで容易に計算できる。\n",
    "- 一般化状態空間モデルはMCMCなどで計算することになり学習には多くの時間を要する\n"
   ]
  },
  {
   "cell_type": "markdown",
   "id": "0c31e757-d206-4fdc-92e0-3da33e756cb6",
   "metadata": {},
   "source": [
    "### 状態について\n",
    "\n",
    ":::{card} 例\n",
    "\n",
    "例えばダイエットしてる人が日々の「体重」$Y_t$を測って推移を追っているとする。  \n",
    "体重には体重計の測定誤差$v_t$が関わる。  \n",
    "また「実際の脂肪の量」という状態$S_t$もある。こちらは基本的に目には見えない状態\n",
    "\n",
    "（参考：[Stanで体重の推移をみつめてみた(状態空間モデル) – Kosugitti's BLOG](https://kosugitti.net/archives/5786)）\n",
    "\n",
    ":::"
   ]
  },
  {
   "cell_type": "markdown",
   "id": "8118eaed-76ad-4efc-a58b-69937122f0ee",
   "metadata": {},
   "source": [
    "## statsmodelsの実装\n",
    "\n",
    "[Time Series Analysis by State Space Methods statespace - statsmodels](https://www.statsmodels.org/stable/statespace.html)"
   ]
  },
  {
   "cell_type": "code",
   "execution_count": null,
   "id": "3362edd7-424e-4c44-be0c-cea6cfc6b43b",
   "metadata": {},
   "outputs": [],
   "source": []
  },
  {
   "cell_type": "markdown",
   "id": "7dd76734-aee8-42f9-91ae-d352bdc882cb",
   "metadata": {},
   "source": [
    "## State Space Models\n",
    "\n",
    "SSMsのうち、DeepSSMsの論文で見かける式\n",
    "\n",
    "1次元のinput signal $x(t)$ を N次元のlatent space $h(t)$にしたあとに1次元のoutput signal $y(y)$に射影する。\n",
    "\n",
    "$$\n",
    "h'(t) = A h(t) + B x(t)\\\\\n",
    "y(t) =C h(t) + D x(t)\n",
    "$$\n",
    "\n",
    "ここで$A,B,C,D$はパラメータであり勾配降下法で学習される。$D=0$とおいて$y(t) =C h(t)$とするモデルもある。\n",
    "\n"
   ]
  },
  {
   "cell_type": "markdown",
   "id": "3cbf1218-7a24-42ec-97fa-e121df4e3f7c",
   "metadata": {},
   "source": [
    "## ディープラーニングベースの状態空間モデル（Deep SSMs）\n",
    "\n",
    "[[2404.09516] State Space Model for New-Generation Network Alternative to Transformers: A Survey](https://arxiv.org/abs/2404.09516)\n"
   ]
  },
  {
   "cell_type": "markdown",
   "id": "706902c3-d4d2-455e-ab4c-7ae0c1a780e2",
   "metadata": {},
   "source": [
    "### 構造化状態空間モデル（S4）\n",
    "\n",
    "[[2111.00396] Efficiently Modeling Long Sequences with Structured State Spaces](https://arxiv.org/abs/2111.00396)\n",
    "\n",
    "Structured State Space sequence model で S4と呼ばれる\n",
    "\n",
    "S4は状態空間モデル（SSMs）をRNNとCNNの組み合わせとして扱う"
   ]
  },
  {
   "cell_type": "markdown",
   "id": "b2f30532-474d-42e3-b78e-12c3973de736",
   "metadata": {},
   "source": [
    ":::{card} S4の解説\n",
    "\n",
    "- [The Annotated S4](https://srush.github.io/annotated-s4/)\n",
    "    - S4の丁寧な解説資料。おすすめ✨。jaxのコードつき。\n",
    "- [状態空間モデルNN①Efficiently Modeling Long Sequences with Structured State Spaces - YouTube](https://www.youtube.com/watch?v=gpbDH1smuLg&ab_channel=%E3%82%B9%E3%83%9E%E3%83%BC%E3%83%88%E6%8A%95%E8%B3%87%E3%83%81%E3%83%A3%E3%83%B3%E3%83%8D%E3%83%ABbyUKI%26Hoheto)\n",
    "    - 日本語の動画\n",
    "\n",
    ":::\n"
   ]
  },
  {
   "cell_type": "markdown",
   "id": "6bd4343f-06c0-4a56-810a-4bb29792ca6f",
   "metadata": {},
   "source": [
    "### Manbda（S6）\n",
    "\n",
    "\n",
    "- [【Mamba入門】Transformerを凌駕しうるアーキテクチャを解説（独自の学習・推論コード含む） #Python - Qiita](https://qiita.com/peony_snow/items/649ecb307cd3b5c10aa7)\n",
    "\n"
   ]
  }
 ],
 "metadata": {
  "kernelspec": {
   "display_name": "Python 3 (ipykernel)",
   "language": "python",
   "name": "python3"
  },
  "language_info": {
   "codemirror_mode": {
    "name": "ipython",
    "version": 3
   },
   "file_extension": ".py",
   "mimetype": "text/x-python",
   "name": "python",
   "nbconvert_exporter": "python",
   "pygments_lexer": "ipython3",
   "version": "3.10.18"
  }
 },
 "nbformat": 4,
 "nbformat_minor": 5
}
