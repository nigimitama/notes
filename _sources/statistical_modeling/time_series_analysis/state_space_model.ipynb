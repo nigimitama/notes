{
 "cells": [
  {
   "cell_type": "markdown",
   "id": "f7a1270d-d59b-437c-9b41-9034a3504c8e",
   "metadata": {},
   "source": [
    "# 状態空間モデル"
   ]
  },
  {
   "cell_type": "code",
   "execution_count": null,
   "id": "e0173d1f-0a61-4e6a-a471-85037a7fd29d",
   "metadata": {},
   "outputs": [],
   "source": []
  }
 ],
 "metadata": {
  "kernelspec": {
   "display_name": "Python 3 (ipykernel)",
   "language": "python",
   "name": "python3"
  },
  "language_info": {
   "codemirror_mode": {
    "name": "ipython",
    "version": 3
   },
   "file_extension": ".py",
   "mimetype": "text/x-python",
   "name": "python",
   "nbconvert_exporter": "python",
   "pygments_lexer": "ipython3",
   "version": "3.9.18"
  }
 },
 "nbformat": 4,
 "nbformat_minor": 5
}
