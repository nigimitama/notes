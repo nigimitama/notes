{
 "cells": [
  {
   "cell_type": "markdown",
   "id": "f24b0cb7-91f4-4339-975f-d2cc27654c13",
   "metadata": {},
   "source": [
    "# 時系列データの変換"
   ]
  },
  {
   "cell_type": "markdown",
   "id": "1aa83c76-51bd-480b-8f69-5c9ef2079ee3",
   "metadata": {},
   "source": [
    "## 定常過程への変換"
   ]
  },
  {
   "cell_type": "markdown",
   "id": "c86ee4f1-87ea-4e1f-b0eb-c4190bea7fb6",
   "metadata": {},
   "source": [
    "### 分析しやすいデータ：定常過程\n",
    "\n",
    "定常過程の場合、期待値や自己共分散が時間を通じて一定なので、例えば「1月の平均気温」は1月の各観測値の平均をとれば求められる。\n",
    "\n",
    "ARIMAモデルは定常過程との相性がよいため、モデルを使った分析もしやすい。"
   ]
  },
  {
   "cell_type": "markdown",
   "id": "2af47bdd-6d0b-424e-8d6c-a87932e52770",
   "metadata": {},
   "source": [
    "### 単位根過程と和分過程\n",
    "\n",
    "非定常なデータのひとつである **単位根過程** は、差分をとることで定常過程になる。\n",
    "\n",
    "$d-1$階差分をとっても非定常だが$d$階差分をとると定常になる系列は **$d$次和分過程** と呼ばれ、$I(d)$と表す。"
   ]
  }
 ],
 "metadata": {
  "kernelspec": {
   "display_name": "Python 3 (ipykernel)",
   "language": "python",
   "name": "python3"
  },
  "language_info": {
   "codemirror_mode": {
    "name": "ipython",
    "version": 3
   },
   "file_extension": ".py",
   "mimetype": "text/x-python",
   "name": "python",
   "nbconvert_exporter": "python",
   "pygments_lexer": "ipython3",
   "version": "3.9.18"
  }
 },
 "nbformat": 4,
 "nbformat_minor": 5
}
