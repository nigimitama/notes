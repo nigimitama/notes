{
 "cells": [
  {
   "cell_type": "markdown",
   "id": "f95d183a-9b95-468d-b2f9-9eae93bc2f53",
   "metadata": {},
   "source": [
    "# Symbolic Data Analysis"
   ]
  },
  {
   "cell_type": "markdown",
   "id": "d547a8f5-faca-4b6c-950c-3c5442b06612",
   "metadata": {},
   "source": [
    "## 発端\n",
    "\n",
    "> - ロジスティック回帰は基本的なモデルだけどクソデカデータだと計算量が法外にデカくなる\n",
    "> - 説明変数をヒストグラムの形に集計してそれを基に推定すれば計算量と精度のいいとこどり出来るのでは？\n",
    ">     - Symbolic Data Analysis (SDA)の考えが拡張できると考えた\n",
    ">\n",
    "> [[読会]Logistic regression models for aggregated data](https://www.slideshare.net/naoshi5/logistic-regression-models-for-aggregated-data)\n",
    "\n",
    "（論文：[[1912.03805] Logistic regression models for aggregated data](https://arxiv.org/abs/1912.03805)）\n",
    "\n",
    "SDAとは\n"
   ]
  },
  {
   "cell_type": "markdown",
   "id": "2424aa62-c871-4d70-a502-c68effddacd5",
   "metadata": {},
   "source": [
    "## Symbolic Data\n",
    "\n",
    "> Symbolic data analysis (SDA) is an emerging area of statistics concerned with understanding and modelling data that takes distributional form (i.e. symbols), such as random lists, intervals and histograms.\n",
    "> （[[1809.03659] New models for symbolic data analysis](https://arxiv.org/abs/1809.03659)）\n",
    "\n",
    "LightGBMとかのHistogram-based Treeと似てる感じだが最尤推定を行う\n"
   ]
  },
  {
   "cell_type": "markdown",
   "id": "406df26a-20b2-47e2-87ba-80cfbebb2b25",
   "metadata": {},
   "source": [
    "## 参考文献\n",
    "\n",
    "- [Diday, E., & Esposito, F. (2003). An introduction to symbolic data analysis and the SODAS software. Intelligent Data Analysis, 7(6), 583-601.](https://www.researchgate.net/profile/Edwin-Diday/publication/220571474_An_introduction_to_symbolic_data_analysis_and_the_SODAS_software/links/00463529602bc59960000000/An-introduction-to-symbolic-data-analysis-and-the-SODAS-software.pdf)\n",
    "- [[1809.03659] New models for symbolic data analysis](https://arxiv.org/abs/1809.03659)"
   ]
  },
  {
   "cell_type": "code",
   "execution_count": null,
   "id": "5778c44a-b5eb-4ea0-a6b4-b4941a702908",
   "metadata": {},
   "outputs": [],
   "source": []
  }
 ],
 "metadata": {
  "kernelspec": {
   "display_name": "Python 3 (ipykernel)",
   "language": "python",
   "name": "python3"
  },
  "language_info": {
   "codemirror_mode": {
    "name": "ipython",
    "version": 3
   },
   "file_extension": ".py",
   "mimetype": "text/x-python",
   "name": "python",
   "nbconvert_exporter": "python",
   "pygments_lexer": "ipython3",
   "version": "3.9.16"
  }
 },
 "nbformat": 4,
 "nbformat_minor": 5
}
