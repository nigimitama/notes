{
 "cells": [
  {
   "cell_type": "markdown",
   "id": "b06b2901-99fa-484b-8fdc-c724da110a73",
   "metadata": {},
   "source": [
    "# 一般化線形モデル\n",
    "\n",
    "## 目次\n",
    "\n",
    ":::{tableofcontents}\n",
    ":::"
   ]
  }
 ],
 "metadata": {
  "kernelspec": {
   "display_name": "Python 3 (ipykernel)",
   "language": "python",
   "name": "python3"
  },
  "language_info": {
   "codemirror_mode": {
    "name": "ipython",
    "version": 3
   },
   "file_extension": ".py",
   "mimetype": "text/x-python",
   "name": "python",
   "nbconvert_exporter": "python",
   "pygments_lexer": "ipython3",
   "version": "3.9.16"
  }
 },
 "nbformat": 4,
 "nbformat_minor": 5
}
