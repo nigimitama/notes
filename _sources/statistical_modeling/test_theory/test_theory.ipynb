{
 "cells": [
  {
   "cell_type": "markdown",
   "id": "89e0badd-14c4-475f-8ef3-67c925b0a580",
   "metadata": {},
   "source": [
    "# テスト理論"
   ]
  },
  {
   "cell_type": "markdown",
   "id": "8263af62-b496-4d49-9ff4-cbd70044031e",
   "metadata": {},
   "source": [
    "## 概要\n",
    "\n",
    "「英語力」や「トンネルの劣化度合い」など何らかの概念上の値を測りたいとする。\n",
    "\n",
    "「身長」「体重」のような物理的に測定できるものとは異なり、これらの概念的なスコアは直接測ることはできない。\n",
    "そこでテストの設問や調査の項目を複数用意して測っていくことになり、それらの項目の点数をどのように集約して扱いやすいスコアを算出するか？が課題となり、テスト理論の出番となる。\n",
    "\n"
   ]
  },
  {
   "cell_type": "markdown",
   "id": "fa656f14-eab9-4acd-b731-15bcd33baac3",
   "metadata": {},
   "source": [
    "## 古典テスト理論\n",
    "\n",
    "古典テスト理論では、観測した得点は真の得点と測定誤差によって構成されると考える。\n",
    "\n",
    "$$\n",
    "観測した得点 = 真の得点 + 誤差\n",
    "$$\n",
    "\n",
    "誤差は過大評価も過小評価もありえて、平均が0になる確率変数と仮定する。"
   ]
  },
  {
   "cell_type": "code",
   "execution_count": null,
   "id": "2e315752-124e-4102-9851-c5a1fa580d3b",
   "metadata": {},
   "outputs": [],
   "source": []
  }
 ],
 "metadata": {
  "kernelspec": {
   "display_name": "Python 3 (ipykernel)",
   "language": "python",
   "name": "python3"
  },
  "language_info": {
   "codemirror_mode": {
    "name": "ipython",
    "version": 3
   },
   "file_extension": ".py",
   "mimetype": "text/x-python",
   "name": "python",
   "nbconvert_exporter": "python",
   "pygments_lexer": "ipython3",
   "version": "3.10.15"
  }
 },
 "nbformat": 4,
 "nbformat_minor": 5
}
