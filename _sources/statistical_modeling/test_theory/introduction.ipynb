{
 "cells": [
  {
   "cell_type": "markdown",
   "id": "89e0badd-14c4-475f-8ef3-67c925b0a580",
   "metadata": {},
   "source": [
    "# テスト理論（スコアリング）"
   ]
  },
  {
   "cell_type": "markdown",
   "id": "8263af62-b496-4d49-9ff4-cbd70044031e",
   "metadata": {},
   "source": [
    "## 概要\n",
    "\n",
    "「英語力」や「トンネルの劣化度合い」など、 何らかの概念上の値を測りたいとする。\n",
    "\n",
    "「身長」「体重」のような物理的に測定できるものとは異なり、これらの概念的なスコアは直接測ることはできない。\n",
    "そこでテストの設問や調査の項目を複数用意して測っていくことになり、それらの項目の点数をどのように集約して扱いやすいスコアを算出するかが課題となり、テスト理論の出番となる。\n",
    "\n"
   ]
  },
  {
   "cell_type": "markdown",
   "id": "cbe994fa-e748-44c1-bab8-4c0264893b88",
   "metadata": {},
   "source": [
    "## スコアリングの流れ\n",
    "\n",
    "1. 項目作成（テストの作成）\n",
    "2. 項目分析（予備的に調査 or 本調査して使えるデータか検討）\n",
    "3. 項目パラメータの推定・等化\n",
    "4. テストの編集\n",
    "5. テストスコアの算出"
   ]
  },
  {
   "cell_type": "markdown",
   "id": "fa656f14-eab9-4acd-b731-15bcd33baac3",
   "metadata": {},
   "source": [
    "## テスト理論のパラダイム\n",
    "\n",
    "**古典テスト理論** と呼ばれる考えかたと、より新しい **項目反応理論** がある。\n"
   ]
  },
  {
   "cell_type": "markdown",
   "id": "caf56c85-e09a-4415-829c-10b027199021",
   "metadata": {},
   "source": [
    "### 古典テスト理論\n",
    "\n",
    "古典テスト理論では、観測した得点$z$は真の得点$\\mu$と測定誤差$e$によって構成されると考える。\n",
    "\n",
    "$$\n",
    "z = \\mu + e\n",
    "$$\n",
    "\n",
    "誤差は過大評価も過小評価もありえて、平均が0になる確率変数$E[e]=0$と仮定する。\n"
   ]
  },
  {
   "cell_type": "markdown",
   "id": "664afc8d-4171-42c0-b394-8231ee57f841",
   "metadata": {},
   "source": [
    "### 古典テスト理論の限界\n",
    "\n",
    ":::{card} 例：学力調査\n",
    "\n",
    "同じテストを学校Aと学校Bで実施した。\n",
    "\n",
    "- 学校AのXさんの偏差値が50\n",
    "- 学校BのYさんの偏差値が55\n",
    "\n",
    "Yさんの学力がXさんより上と言えるか？\n",
    "\n",
    "→ 点数を偏差値に変換しても、学校ごとに学力分布が異なる場合は直接比較はできない\n",
    ":::"
   ]
  },
  {
   "cell_type": "code",
   "execution_count": 2,
   "id": "1f850353-a432-42eb-b447-3ace6795a6b6",
   "metadata": {
    "jupyter": {
     "source_hidden": true
    },
    "tags": [
     "hide-input"
    ]
   },
   "outputs": [
    {
     "data": {
      "image/png": "[encoded data removed]",
      "text/plain": [
       "<Figure size 500x300 with 1 Axes>"
      ]
     },
     "metadata": {},
     "output_type": "display_data"
    }
   ],
   "source": [
    "import numpy as np\n",
    "\n",
    "class ScoreTransformer:\n",
    "    def __init__(self, arr: np.ndarray):\n",
    "        self.mean = np.mean(arr)\n",
    "        self.std = np.std(arr)\n",
    "\n",
    "    def transform(self, arr: np.ndarray) -> np.ndarray:\n",
    "        return (arr - self.mean) / self.std * 10 + 50\n",
    "\n",
    "    def inverse_transform(self, t_scores: np.ndarray) -> np.ndarray:\n",
    "        return (t_scores - 50) / 10 * self.std + self.mean\n",
    "\n",
    "\n",
    "import matplotlib.pyplot as plt\n",
    "import matplotlib_fontja\n",
    "from scipy.stats import norm, lognorm\n",
    "\n",
    "def to_deviation(x: np.ndarray) -> np.ndarray:\n",
    "    return (x - np.mean(x)) / np.std(x) * 10 + 50\n",
    "\n",
    "# 学校A\n",
    "d1 = lognorm(s=1)\n",
    "raw1 = d1.rvs(size=120, random_state=0)\n",
    "st1 = ScoreTransformer(raw1)\n",
    "y1 = st1.transform(raw1)\n",
    "\n",
    "# 学校B\n",
    "d2 = norm(loc=0, scale=1)\n",
    "raw2 = d2.rvs(size=100, random_state=0)\n",
    "st2 = ScoreTransformer(raw2)\n",
    "y2 = st2.transform(raw2)\n",
    "\n",
    "# 点数\n",
    "score_x = 50\n",
    "score_y = 55\n",
    "\n",
    "# どこに位置するか\n",
    "raw_x = st1.inverse_transform(np.array([score_x]))[0]\n",
    "q1 = d1.cdf(raw_x)\n",
    "raw_y = st2.inverse_transform(np.array([score_y]))[0]\n",
    "q2 = d2.cdf(raw_y)\n",
    "\n",
    "fig, ax = plt.subplots(figsize=[5, 3])\n",
    "ax.hist(y1, label=\"学校Aの偏差値分布\", alpha=0.5, color=\"steelblue\")\n",
    "ax.axvline(score_x, color=\"steelblue\")\n",
    "ax.text(score_x, 30, f\"偏差値={score_x} (下から{q1:.1%}に位置)\", color=\"steelblue\")\n",
    "ax.hist(y2, label=\"学校Bの偏差値分布\", alpha=0.5, color=\"darkorange\")\n",
    "ax.axvline(score_y, color=\"darkorange\")\n",
    "ax.text(score_y, 20, f\"偏差値={score_y} (下から{q2:.1%}に位置)\", color=\"darkorange\")\n",
    "ax.set(xlabel=\"偏差値\")\n",
    "ax.legend()\n",
    "fig.show()"
   ]
  },
  {
   "cell_type": "markdown",
   "id": "d8c4fb61-36e0-4e57-a1c0-ca93d6a96409",
   "metadata": {},
   "source": [
    "偏差値と同様に、古典テスト理論は項目の難易度（テストの難しさ）と受験者の能力の分布の影響が分離ができないので、異なる集団間の受験者の能力を比較可能にできない。"
   ]
  },
  {
   "cell_type": "markdown",
   "id": "9446664e-c46c-4883-a7de-029ccb1a9fc0",
   "metadata": {},
   "source": [
    ":::{card} テスト理論における用語\n",
    "\n",
    "- **素点** （row score, そてん, **粗点** とも）：テストの問題ごとの配点の点数。\n",
    "- テスト得点の **集団依存性（group dependence）** （ **標本依存性（sample dependence）** とも） ：テスト得点（素点の合計）がテストを受けた集団に依存すること。例えば同じ試験でも優秀な学生たちが解くのとそうでない学生たちが解いたのでは集団の平均点が変わる。\n",
    "- テスト得点の **項目依存性（item dependence）** ：テストの平均点が個々のテスト項目の難易度に影響されること。\n",
    "- **等化（equating）** ：異なるテストの結果を比較可能にする手続き。IRTを使っても等化の手続きは必要になる\n",
    "\n",
    "古典テスト理論では集団依存性や項目依存性の問題を解決できない\n",
    "\n",
    ":::"
   ]
  },
  {
   "cell_type": "markdown",
   "id": "746df1c1-140a-4a63-9110-fa155cf0e2b7",
   "metadata": {},
   "source": [
    "### 項目反応理論\n",
    "\n",
    "**項目反応理論 （item response theory: IRT）** は受験者の能力と項目の難しさを別々に推定することが可能な理論。\n",
    "\n",
    "例えば以下のようなモデルを使用する。回答者$i$の項目$j$への正答確率について以下のように表すモデルを構築する\n",
    "\n",
    "$$\n",
    "P(y_{ij} = 1) = \\operatorname{logit}^{-1}(a_j (\\theta_i - b_j)) = \\frac{1}{1+\\exp(-a_j (\\theta_i - b_j))}\n",
    "$$\n",
    "\n",
    "ここで\n",
    "\n",
    "- $\\theta_i$ ： **達成度 (achievement)** や **潜在特性 (trait)** と呼ばれるパラメータ（$\\theta_i \\sim \\mathcal{Normal}(0,1)$）\n",
    "- $a_j$ ： **識別力 (discrimination)** と呼ばれるパラメータ\n",
    "- $b_j$ ： **困難度(difficulty)** と呼ばれるパラメータ\n",
    "\n",
    "上記のモデルは2パラメータロジスティックモデル（2PL）というモデルで、他にも3PLなど様々なモデルが存在する。\n"
   ]
  },
  {
   "cell_type": "markdown",
   "id": "d1291c5d-fbd8-4cb0-8773-fb9bf6fa655b",
   "metadata": {},
   "source": [
    "項目反応理論はTOEIC, TOEFL, PISA, SATなど様々なテストで用いられている。例えばTOEICは毎回の試験で異なる設問項目で構成されるが、TOEICのスコアの価値は等しくなるよう設計されている。\n"
   ]
  },
  {
   "cell_type": "markdown",
   "id": "0e31b9aa-47f8-4c7e-a114-571bc9cb4db1",
   "metadata": {},
   "source": [
    ":::{margin}\n",
    "\n",
    "学習の達成度などを測るための項目反応理論に対して、学習状況を測るテスト理論の **認知診断モデル（cognitive diagnostic model; CDM）** というものもあるらしい\n",
    "\n",
    "[２つのテスト理論 ―項目反応モデルと認知診断モデル―](https://jartest.jp/meeting/19th_data/rec_3_okada.pdf)\n",
    ":::"
   ]
  },
  {
   "cell_type": "markdown",
   "id": "10d3146a-2dbd-493e-8397-db7c89151a10",
   "metadata": {},
   "source": [
    "## 参考\n",
    "\n",
    "- [Chapter 8 項目反応理論 1](https://www2.kobe-u.ac.jp/~bunji/files/lecture/MVA/mva-08-item-response-theory.pdf)\n",
    "- [usami-lab.com/教育心理学会チュートリアル2018資料.pdf](https://usami-lab.com/%E6%95%99%E8%82%B2%E5%BF%83%E7%90%86%E5%AD%A6%E4%BC%9A%E3%83%81%E3%83%A5%E3%83%BC%E3%83%88%E3%83%AA%E3%82%A2%E3%83%AB2018%E8%B3%87%E6%96%99.pdf)"
   ]
  },
  {
   "cell_type": "code",
   "execution_count": null,
   "id": "35d368ad-dd39-47f4-8e7f-5b326583ade2",
   "metadata": {},
   "outputs": [],
   "source": []
  }
 ],
 "metadata": {
  "kernelspec": {
   "display_name": "Python 3 (ipykernel)",
   "language": "python",
   "name": "python3"
  },
  "language_info": {
   "codemirror_mode": {
    "name": "ipython",
    "version": 3
   },
   "file_extension": ".py",
   "mimetype": "text/x-python",
   "name": "python",
   "nbconvert_exporter": "python",
   "pygments_lexer": "ipython3",
   "version": "3.10.18"
  }
 },
 "nbformat": 4,
 "nbformat_minor": 5
}
