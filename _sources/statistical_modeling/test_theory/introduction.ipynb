{
 "cells": [
  {
   "cell_type": "markdown",
   "id": "89e0badd-14c4-475f-8ef3-67c925b0a580",
   "metadata": {},
   "source": [
    "# テスト理論（スコアリング）"
   ]
  },
  {
   "cell_type": "markdown",
   "id": "8263af62-b496-4d49-9ff4-cbd70044031e",
   "metadata": {},
   "source": [
    "## 概要\n",
    "\n",
    "「英語力」や「トンネルの劣化度合い」など、 何らかの概念上の値を測りたいとする。\n",
    "\n",
    "「身長」「体重」のような物理的に測定できるものとは異なり、これらの概念的なスコアは直接測ることはできない。\n",
    "そこでテストの設問や調査の項目を複数用意して測っていくことになり、それらの項目の点数をどのように集約して扱いやすいスコアを算出するか？が課題となり、テスト理論の出番となる。\n",
    "\n"
   ]
  },
  {
   "cell_type": "markdown",
   "id": "fa656f14-eab9-4acd-b731-15bcd33baac3",
   "metadata": {},
   "source": [
    "## テスト理論のパラダイム\n",
    "\n",
    "**古典テスト理論** と呼ばれる考えかたと、より新しい **項目反応理論** がある。\n"
   ]
  },
  {
   "cell_type": "markdown",
   "id": "caf56c85-e09a-4415-829c-10b027199021",
   "metadata": {},
   "source": [
    "### 古典テスト理論\n",
    "\n",
    "古典テスト理論では、観測した得点$z$は真の得点$\\mu$と測定誤差$e$によって構成されると考える。\n",
    "\n",
    "$$\n",
    "z = \\mu + e\n",
    "$$\n",
    "\n",
    "誤差は過大評価も過小評価もありえて、平均が0になる確率変数$E[e]=0$と仮定する。\n",
    "\n",
    "古典テスト理論は異なる集団への異なるテスト間での等価性が満たされないという課題がある。\n",
    "例えばTOEICは毎回異なる設問で構成されているが、TOEICのスコアの価値は等しいものとなっている。これはTOEICのテストが等価性を満たすように設計されているためである。\n",
    "古典テスト理論ではTOEICのスコアのようなものは作れない。\n"
   ]
  },
  {
   "cell_type": "markdown",
   "id": "9446664e-c46c-4883-a7de-029ccb1a9fc0",
   "metadata": {},
   "source": [
    ":::{card} テスト理論における用語\n",
    "\n",
    "- **素点** （row score, そてん, **粗点** とも）：テストの問題ごとの配点の点数。\n",
    "- テスト得点の **集団依存性（group dependence）** （ **標本依存性（sample dependence）** とも） ：テスト得点（素点の合計）がテストを受けた集団に依存すること。例えば同じ試験でも優秀な学生たちが解くのとそうでない学生たちが解いたのでは集団の平均点が変わる。\n",
    "- テスト得点の **項目依存性（item dependence）** ：テストの平均点が個々のテスト項目の難易度に影響されること。\n",
    "- **等化（equating）** ：異なるテストの結果を比較可能にする手続き。IRTを使っても等化の手続きは必要になる\n",
    "\n",
    "古典テスト理論では集団依存性や項目依存性の問題を解決できない\n",
    "\n",
    ":::"
   ]
  },
  {
   "cell_type": "markdown",
   "id": "746df1c1-140a-4a63-9110-fa155cf0e2b7",
   "metadata": {},
   "source": [
    "### 項目反応理論\n",
    "\n",
    "**項目反応理論 （item response theory: IRT）** は受験者の能力と項目の難しさを別々に推定することで等価性を満たすスコアの推定が可能なテスト理論。\n",
    "\n",
    "TOEIC, TOEFL, PISA, SATなど様々なテストで用いられる。\n",
    "\n",
    "例えば以下のようなモデルを使用する。回答者$i$の項目$j$への正答確率について以下のように表すモデルを構築する\n",
    "\n",
    "$$\n",
    "P(y_{ij} = 1) = \\operatorname{logit}^{-1}(a_j (\\theta_i - b_j)) = \\frac{1}{1+\\exp(-a_j (\\theta_i - b_j))}\n",
    "$$\n",
    "\n",
    "ここで\n",
    "\n",
    "- $\\theta_i$ ： **達成度 (achievement)** や **潜在特性 (trait)** と呼ばれるパラメータ（$\\theta_i \\sim \\mathcal{Normal}(0,1)$）\n",
    "- $a_j$ ： **識別力 (discrimination)** と呼ばれるパラメータ\n",
    "- $b_j$ ： **困難度(difficulty)** と呼ばれるパラメータ\n",
    "\n",
    "上記のモデルは2パラメータロジスティックモデル（2PL）というモデルで、他にも3PLなど様々なモデルが存在する。\n"
   ]
  },
  {
   "cell_type": "markdown",
   "id": "0e31b9aa-47f8-4c7e-a114-571bc9cb4db1",
   "metadata": {},
   "source": [
    ":::{margin}\n",
    "\n",
    "学習の達成度などを測るための項目反応理論に対して、学習状況を測るテスト理論の **認知診断モデル（cognitive diagnostic model; CDM）** というものもあるらしい\n",
    "\n",
    "[２つのテスト理論 ―項目反応モデルと認知診断モデル―](https://jartest.jp/meeting/19th_data/rec_3_okada.pdf)\n",
    ":::"
   ]
  },
  {
   "cell_type": "markdown",
   "id": "10d3146a-2dbd-493e-8397-db7c89151a10",
   "metadata": {},
   "source": [
    "## 参考\n",
    "\n",
    "- [Chapter 8 項目反応理論 1](https://www2.kobe-u.ac.jp/~bunji/files/lecture/MVA/mva-08-item-response-theory.pdf)"
   ]
  }
 ],
 "metadata": {
  "kernelspec": {
   "display_name": "Python 3 (ipykernel)",
   "language": "python",
   "name": "python3"
  },
  "language_info": {
   "codemirror_mode": {
    "name": "ipython",
    "version": 3
   },
   "file_extension": ".py",
   "mimetype": "text/x-python",
   "name": "python",
   "nbconvert_exporter": "python",
   "pygments_lexer": "ipython3",
   "version": "3.10.15"
  }
 },
 "nbformat": 4,
 "nbformat_minor": 5
}
