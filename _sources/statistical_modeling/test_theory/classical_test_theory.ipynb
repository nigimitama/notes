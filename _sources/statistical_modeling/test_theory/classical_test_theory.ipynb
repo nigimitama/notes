{
 "cells": [
  {
   "cell_type": "markdown",
   "id": "873100c8-9cdd-4a84-84b1-5165c505bebc",
   "metadata": {},
   "source": [
    "# 古典的テスト理論"
   ]
  },
  {
   "cell_type": "markdown",
   "id": "e58b32cf-8d12-42dc-80a3-2b21744b02b6",
   "metadata": {},
   "source": [
    "**古典的テスト理論（classical test theory: CTT）** は20世紀初頭から、IRTが発展する1950年代ごろまでに発展したテスト理論。\n",
    "\n",
    "現代テスト理論（IRT）で完全に置き換わったというわけではなく、IRTが不要な問題設定ではいまも利用される。"
   ]
  },
  {
   "cell_type": "markdown",
   "id": "fcbefb50-25a7-401a-8baa-5524f8708002",
   "metadata": {},
   "source": [
    "## 項目反応とテスト得点\n",
    "\n",
    "### 項目\n",
    "\n",
    "テストを構成する個々の設問は **項目（item）** と呼ばれる。正当・誤答の二値の反応だけのデータの場合、$i$番目の受験者の項目$j$への回答を$u_{ij}$とすると、\n",
    "\n",
    "$$\n",
    "u_{i j}= \\begin{cases}1 & \\text { 正答のとき } \\\\ 0 & \\text { 誤答のとき }\\end{cases}\n",
    "$$\n",
    "\n",
    "と表現できる。\n",
    "\n",
    "### 項目反応パタン\n",
    "\n",
    "$i$番目の受験者の$J$個の項目への反応をまとめて\n",
    "\n",
    "\n",
    "$$\n",
    "\\mathbf{u}_i=\\left(u_{i 1}, u_{i 2}, \\ldots, u_{i J}\\right)\n",
    "$$\n",
    "\n",
    "と行ベクトルで表す。この$\\mathbf{u}_i$は **項目反応パターン（item response pattern）** と呼ばれる。\n",
    "\n"
   ]
  },
  {
   "cell_type": "markdown",
   "id": "6fba7ac6-44ad-4e72-968b-c92430042818",
   "metadata": {},
   "source": [
    "### 項目反応パタン行列\n",
    "\n",
    "項目反応パタンを縦に全受験者$I$人分並べた行列を **項目反応パタン行列** あるいは **項目反応データ行列** という。\n",
    "\n",
    "$$\n",
    "\\mathbf{U}=\\left[\\begin{array}{c}\n",
    "\\mathbf{u}_1 \\\\\n",
    "\\mathbf{u}_2 \\\\\n",
    "\\vdots \\\\\n",
    "\\mathbf{u}_i \\\\\n",
    "\\vdots \\\\\n",
    "\\mathbf{u}_I\n",
    "\\end{array}\\right]=\\left[\\begin{array}{cccccc}\n",
    "u_{11} & u_{12} & \\cdots & u_{1 j} & \\cdots & u_{1 J} \\\\\n",
    "u_{21} & u_{22} & \\cdots & u_{2 j} & \\cdots & u_{2 J} \\\\\n",
    "\\vdots & \\vdots & & \\vdots & & \\vdots \\\\\n",
    "u_{i 1} & u_{i 2} & \\cdots & u_{i j} & \\cdots & u_{i J} \\\\\n",
    "\\vdots & \\vdots & & \\vdots & & \\vdots \\\\\n",
    "u_{I 1} & u_{I 2} & \\cdots & u_{I j} & \\cdots & u_{I J}\n",
    "\\end{array}\\right]\n",
    "$$\n"
   ]
  },
  {
   "cell_type": "markdown",
   "id": "ede1079f-0c92-4146-9d41-e12e21d7a5c2",
   "metadata": {},
   "source": [
    "### 素点\n",
    "\n",
    "$i$番目の受験者のテスト得点を$y_i$とすると、これは行ベクトル$\\mathbf{u}_i$を足し合わせればよいので\n",
    "\n",
    "$$\n",
    "y_i=\\sum_{j=1}^J u_{i j}\n",
    "$$\n",
    "\n",
    "となる。このような正答項目数による得点を **正答数得点 (number of right score)** あるいは **素点 (raw score)** と呼ぶ。\n"
   ]
  },
  {
   "cell_type": "markdown",
   "id": "3ce56799-c7c0-4330-aa61-51e56cf2a60c",
   "metadata": {},
   "source": [
    "## 項目の評価指標"
   ]
  },
  {
   "cell_type": "markdown",
   "id": "c116b523-1b28-40dc-a2dc-7b93c6c33274",
   "metadata": {},
   "source": [
    "CTTにおける項目困難度と項目識別力がある（IRTのものとは定義が異なる）"
   ]
  },
  {
   "cell_type": "markdown",
   "id": "e4a20ec9-bac0-47b1-a053-6292d0ed5160",
   "metadata": {},
   "source": [
    "### 項目困難度（通過率）\n",
    "\n",
    "CTTにおける **項目困難度（item difficulty）** は項目の正答率になる。\n",
    "\n",
    "項目$j$に正答した受験者数を$n_j$人とすると、全受験者数$I$人に対する比として\n",
    "\n",
    "$$\n",
    "p_j=\\frac{n_j}{I}=\\frac{\\sum_{i=1}^I u_{i j}}{I}\n",
    "$$\n",
    "\n",
    "と表すことができる。\n",
    "\n",
    "これは正答した人の比率であり困難度という名前からすると逆の量なので **通過率** とも呼ばれる。"
   ]
  },
  {
   "cell_type": "markdown",
   "id": "c7ffd444-8920-49ab-b075-97abe5c7dded",
   "metadata": {},
   "source": [
    "### 項目識別力\n",
    "\n",
    "**項目識別力（item discrimination）** はテスト全体で測っている能力について、個々の項目が能力値の高い受験者とそうでない受験者を区別できる度合いを意味する。\n",
    "\n",
    "CTTでは個々の項目の得点（$\\{0, 1\\}$）とテスト得点の相関係数（biserial or point-biserial）で測ることが一般的。\n",
    "\n",
    "**点双列相関係数（point biserial correlation coefficient）** で測られる事が多い。\n"
   ]
  },
  {
   "cell_type": "markdown",
   "id": "f60478f1-bd0f-44a4-a797-6b3f511ab276",
   "metadata": {},
   "source": [
    "## テストの評価指標（信頼性）\n",
    "\n",
    "### CTTのモデル\n",
    "\n",
    "CTTにおいて、テスト得点$y$は真の得点$t$と測定誤差$e$からなると考える。\n",
    "\n",
    ":::{card} CTTのモデル\n",
    "\n",
    "$$\n",
    "y = t + e\n",
    "$$\n",
    "\n",
    "\n",
    "ここで\n",
    "\n",
    "- $E(e) = 0$（誤差は期待値ゼロ）\n",
    "- $r(t, e) = 0$（$t$と$e$は無相関）\n",
    "\n",
    ":::\n",
    "\n",
    "$r(t, e) = 0$の仮定により、\n",
    "\n",
    "$$\n",
    "\\sigma_y^2=\\sigma_t^2+\\sigma_e^2\n",
    "$$\n",
    "\n",
    "が成り立つ。\n",
    "\n",
    "$\\sigma_e^2$ は **測定の誤差分散** 、その正の平方根 $\\sigma_e$ を **測定の標準誤差 (standard error of measurement: SEM)** と呼ぶ。"
   ]
  },
  {
   "cell_type": "markdown",
   "id": "e4dde372-4e6b-4cfb-93ad-924d34319c14",
   "metadata": {},
   "source": [
    "### 信頼性係数\n",
    "\n",
    "真の得点の分散の、テスト得点の分散に対する比を、テスト得点$y$の **信頼性係数 (reliability coefficient)** という。\n",
    "\n",
    "$$\n",
    "\\rho=\\frac{\\sigma_t^2}{\\sigma_y^2}\n",
    "=\\frac{\\sigma_t^2}{\\sigma_t^2+\\sigma_e^2}=1-\\frac{\\sigma_e^2}{\\sigma_y^2}\n",
    "$$\n",
    "\n",
    "信頼性係数は測定の誤差分散が小さいほど1に近い値をとり、誤差分散が大きいとき0に近い値をとる。\n"
   ]
  },
  {
   "cell_type": "markdown",
   "id": "44cf623f-e8a0-40ff-8d36-353dd681d972",
   "metadata": {},
   "source": [
    "### クロンバックの$\\alpha$係数\n",
    "\n",
    "信頼性係数$\\rho$は母集団レベルの話であり、標本の情報から推定するには別の値を使う。\n",
    "信頼性係数の推定方法はいくつかあるが、「項目を超えた一貫性」に関する検討を行うクロンバックのα係数が代表的。\n",
    "\n",
    "「項目を超えた一貫性」とは「テストに含まれる項目群を、同様の別の項目群に置き換えても結果は安定しているか」という考え方で、そういう意味での信頼性を近似的に与える指標がクロンバックのα係数である。\n",
    "\n",
    ":::{card} クロンバックの$\\alpha$\n",
    "\n",
    "$$\n",
    "\\alpha=\\frac{J}{J-1}\\left(1-\\frac{\\sum_{j=1}^J s_j^2}{s_y^2}\\right)\n",
    "$$\n",
    "\n",
    "- $J$：項目数\n",
    "- $s_y^2$：テスト得点の分散\n",
    "- $s_j^2$：項目$j$の分散\n",
    ":::\n",
    "\n",
    "\n",
    "$\\alpha$係数は\n",
    "\n",
    "- 項目間の相関が高いとき\n",
    "- 項目数が多いとき\n",
    "\n",
    "に高い値をとる。項目が多いだけでも高くなってしまうので注意が必要で参考程度に用いられる。\n",
    "\n",
    "\n",
    "測定の標準誤差（SEM）は信頼性係数の推定値$\\hat\\rho$を用いて推定される。\n",
    "\n",
    ":::{card} 測定の標準誤差（SEM）の推定量\n",
    "\n",
    "$$\n",
    "\\operatorname{SEM} = s_y \\sqrt{1-\\hat{\\rho}}\n",
    "$$\n",
    "\n",
    ":::\n",
    "\n",
    "\n",
    "\n",
    ":::{note}\n",
    "\n",
    "こうしたCTTの信頼性係数や測定の標準誤差の注意点は\n",
    "\n",
    "- 1つのテスト & 1つの受験者集団ごとに算出される\n",
    "- 異なる受験者集団に対して測定の標準誤差を求めると、異なる値が得られる（標本依存性）\n",
    "\n",
    ":::"
   ]
  },
  {
   "cell_type": "markdown",
   "id": "9b8c3cbe-2821-4ce7-9334-274c2cf7d114",
   "metadata": {},
   "source": [
    "## CTTの問題\n",
    "\n",
    "### 標本依存性\n",
    "\n",
    "- 項目困難度は項目の正答率 → 正答率は受験者集団によって異なるため、受験者集団（標本）に依存 （ **項目困難度の標本依存性** ）\n",
    "- 項目識別力は項目得点とテスト得点の相関係数 → 受験者集団の能力にばらつきが少なければ項目に対する正答・誤答の傾向が出にくくなる （**項目識別力の標本依存性** ）\n",
    "\n",
    "### 項目依存性\n",
    "\n",
    "- 項目困難度（正答率）が高い項目で構成されているテストでは、テスト得点は高くなる（逆も然り）。テスト得点という受験者の能力に関する情報が項目に依存する （ **テスト得点の項目依存性** ）\n"
   ]
  },
  {
   "cell_type": "markdown",
   "id": "ecb0f528-c522-4256-8876-0331427c9b97",
   "metadata": {},
   "source": [
    "## CTTの長所\n",
    "\n",
    "一方でCTTはIRTに常に劣ってるわけではなく、CTTで十分なユースケースもある。\n",
    "\n",
    ":::{admonition} CTTの利点（Hambleton ＆ Jones 1993）\n",
    "\n",
    "1. CTTはIRTより緩い仮定しか置かない（真値と誤差、その平均と共分散のみ）\n",
    "2. 簡単な計算で性能評価ができるため応用範囲が広い\n",
    "    - 例えばIRTのための事前分析にも使える\n",
    "3. テストや項目の評価に用いる受験者集団が母集団をよく代表しているなら十分機能する\n",
    "4. 必要な受験者数がIRTに比べて少なくて済む\n",
    "\n",
    ":::"
   ]
  }
 ],
 "metadata": {
  "kernelspec": {
   "display_name": "Python 3 (ipykernel)",
   "language": "python",
   "name": "python3"
  },
  "language_info": {
   "codemirror_mode": {
    "name": "ipython",
    "version": 3
   },
   "file_extension": ".py",
   "mimetype": "text/x-python",
   "name": "python",
   "nbconvert_exporter": "python",
   "pygments_lexer": "ipython3",
   "version": "3.10.17"
  }
 },
 "nbformat": 4,
 "nbformat_minor": 5
}
