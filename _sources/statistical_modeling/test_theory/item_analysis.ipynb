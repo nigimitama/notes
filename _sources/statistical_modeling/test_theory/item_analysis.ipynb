{
 "cells": [
  {
   "cell_type": "markdown",
   "id": "a94e2588-3064-4066-ad5e-99d4ea87017a",
   "metadata": {},
   "source": [
    "# 項目分析"
   ]
  },
  {
   "cell_type": "markdown",
   "id": "718723fd-4d29-490c-896c-81b515401993",
   "metadata": {},
   "source": [
    "テストを実施したあと、モデルをあてはめてパラメータを推定する前の段階で簡単に計算できる指標群で項目の良し悪しを考察できる。"
   ]
  },
  {
   "cell_type": "markdown",
   "id": "59b2aa5a-9559-446e-b1cd-5f346ad8e4ba",
   "metadata": {},
   "source": [
    "### 項目特性図\n",
    "\n",
    "各被験者の素点を横軸に、素点ごとの各選択肢の選択割合を縦軸にした折れ線グラフ。\n",
    "\n"
   ]
  },
  {
   "cell_type": "code",
   "execution_count": null,
   "id": "56b45d22-890e-4083-9990-142ae914e00f",
   "metadata": {},
   "outputs": [],
   "source": []
  }
 ],
 "metadata": {
  "kernelspec": {
   "display_name": "Python 3 (ipykernel)",
   "language": "python",
   "name": "python3"
  },
  "language_info": {
   "codemirror_mode": {
    "name": "ipython",
    "version": 3
   },
   "file_extension": ".py",
   "mimetype": "text/x-python",
   "name": "python",
   "nbconvert_exporter": "python",
   "pygments_lexer": "ipython3",
   "version": "3.10.18"
  }
 },
 "nbformat": 4,
 "nbformat_minor": 5
}
