{
 "cells": [
  {
   "cell_type": "markdown",
   "id": "a94e2588-3064-4066-ad5e-99d4ea87017a",
   "metadata": {},
   "source": [
    "# 項目分析"
   ]
  },
  {
   "cell_type": "markdown",
   "id": "718723fd-4d29-490c-896c-81b515401993",
   "metadata": {},
   "source": [
    "テストを実施したあと、モデルをあてはめてパラメータを推定する前の段階で簡単に計算できる指標群で項目の良し悪しを考察できる。"
   ]
  },
  {
   "cell_type": "markdown",
   "id": "59b2aa5a-9559-446e-b1cd-5f346ad8e4ba",
   "metadata": {},
   "source": []
  }
 ],
 "metadata": {
  "kernelspec": {
   "display_name": "Python 3 (ipykernel)",
   "language": "python",
   "name": "python3"
  },
  "language_info": {
   "codemirror_mode": {
    "name": "ipython",
    "version": 3
   },
   "file_extension": ".py",
   "mimetype": "text/x-python",
   "name": "python",
   "nbconvert_exporter": "python",
   "pygments_lexer": "ipython3",
   "version": "3.10.17"
  }
 },
 "nbformat": 4,
 "nbformat_minor": 5
}
