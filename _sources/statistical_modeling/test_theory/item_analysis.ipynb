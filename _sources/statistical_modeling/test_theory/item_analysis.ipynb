{
 "cells": [
  {
   "cell_type": "markdown",
   "id": "a94e2588-3064-4066-ad5e-99d4ea87017a",
   "metadata": {},
   "source": [
    "# 項目分析"
   ]
  },
  {
   "cell_type": "markdown",
   "id": "718723fd-4d29-490c-896c-81b515401993",
   "metadata": {},
   "source": [
    "テストを実施したあと、モデルをあてはめてパラメータを推定する前の段階で簡単に計算できる指標群で項目の良し悪しを考察できる。"
   ]
  },
  {
   "cell_type": "code",
   "execution_count": 5,
   "id": "8942fc7e-6a2d-413c-8ae9-6f6f56743733",
   "metadata": {
    "tags": []
   },
   "outputs": [],
   "source": [
    "import numpy as np\n",
    "import pandas as pd\n",
    "import matplotlib.pyplot as plt\n",
    "\n",
    "def generate_irt_2pl_data(num_persons=1000, num_items=20, seed=42):\n",
    "    \"\"\"2PLM用の二値反応サンプルデータセットを生成する\"\"\"\n",
    "    np.random.seed(seed)\n",
    "\n",
    "    # 潜在能力 θ を標準正規分布から生成\n",
    "    theta = np.random.normal(loc=0, scale=1, size=num_persons)\n",
    "\n",
    "    # 識別力 a ~ lognormal(μ=0, σ=0.2)\n",
    "    a = np.random.lognormal(mean=0, sigma=0.2, size=num_items)\n",
    "\n",
    "    # 困難度 b ~ N(0, 1)\n",
    "    b = np.random.normal(loc=0, scale=1, size=num_items)\n",
    "\n",
    "    # 応答行列を初期化\n",
    "    response_matrix = np.zeros((num_persons, num_items))\n",
    "\n",
    "    for i in range(num_persons):\n",
    "        for j in range(num_items):\n",
    "            p = 1 / (1 + np.exp(-a[j] * (theta[i] - b[j])))  # 正答確率\n",
    "            response_matrix[i, j] = np.random.binomial(n=1, p=p)  # 0 or 1\n",
    "\n",
    "    # DataFrameとして返す（行=受験者, 列=項目）\n",
    "    responses = pd.DataFrame(response_matrix, columns=[f\"item_{j+1}\" for j in range(num_items)]).astype(int)\n",
    "    return responses, a, b, theta\n",
    "\n"
   ]
  },
  {
   "cell_type": "code",
   "execution_count": 7,
   "id": "4af81258-2fa0-4291-a5ae-3d4ea712953b",
   "metadata": {
    "tags": []
   },
   "outputs": [],
   "source": [
    "responses, a, b, theta = generate_irt_2pl_data(num_persons=500, num_items=10)"
   ]
  },
  {
   "cell_type": "markdown",
   "id": "aadeadb1-8b2c-4784-bcfb-4a3feac11dcf",
   "metadata": {},
   "source": [
    "## 項目困難度 / 通過率\n",
    "\n",
    "古典テスト理論における項目困難度は、正答率のこと。\n",
    "\n",
    "わかりやすさのために「通過率」と呼ばれることもある。各設問の正答の容易さを示す。\n"
   ]
  },
  {
   "cell_type": "code",
   "execution_count": 13,
   "id": "46e0e4c6-0fc7-46d3-bdfa-cf1c482d578b",
   "metadata": {
    "tags": []
   },
   "outputs": [
    {
     "data": {
      "text/plain": [
       "item_1     0.430\n",
       "item_2     0.516\n",
       "item_3     0.538\n",
       "item_4     0.720\n",
       "item_5     0.634\n",
       "item_6     0.364\n",
       "item_7     0.382\n",
       "item_8     0.674\n",
       "item_9     0.466\n",
       "item_10    0.396\n",
       "dtype: float64"
      ]
     },
     "execution_count": 13,
     "metadata": {},
     "output_type": "execute_result"
    }
   ],
   "source": [
    "responses.mean()"
   ]
  },
  {
   "cell_type": "markdown",
   "id": "4c479f49-e183-4599-9083-583f5f1b9be1",
   "metadata": {},
   "source": [
    "## 項目識別力\n",
    "\n",
    "古典テスト理論における項目識別力は、素点（テスト得点）と各項目得点の相関をみるもの。\n",
    "\n",
    "テストで測りたい能力を大まかに表すものである素点に対し、各項目が相関している（能力を測るのに貢献している）ことを確かめる。\n"
   ]
  },
  {
   "cell_type": "code",
   "execution_count": 15,
   "id": "0e80dc93-9504-4c98-94a6-276674b42c30",
   "metadata": {
    "tags": []
   },
   "outputs": [
    {
     "data": {
      "text/html": [
       "<div>\n",
       "<style scoped>\n",
       "    .dataframe tbody tr th:only-of-type {\n",
       "        vertical-align: middle;\n",
       "    }\n",
       "\n",
       "    .dataframe tbody tr th {\n",
       "        vertical-align: top;\n",
       "    }\n",
       "\n",
       "    .dataframe thead th {\n",
       "        text-align: right;\n",
       "    }\n",
       "</style>\n",
       "<table border=\"1\" class=\"dataframe\">\n",
       "  <thead>\n",
       "    <tr style=\"text-align: right;\">\n",
       "      <th></th>\n",
       "      <th>item</th>\n",
       "      <th>corr</th>\n",
       "    </tr>\n",
       "  </thead>\n",
       "  <tbody>\n",
       "    <tr>\n",
       "      <th>0</th>\n",
       "      <td>item_1</td>\n",
       "      <td>0.642</td>\n",
       "    </tr>\n",
       "    <tr>\n",
       "      <th>1</th>\n",
       "      <td>item_2</td>\n",
       "      <td>0.747</td>\n",
       "    </tr>\n",
       "    <tr>\n",
       "      <th>2</th>\n",
       "      <td>item_3</td>\n",
       "      <td>0.557</td>\n",
       "    </tr>\n",
       "    <tr>\n",
       "      <th>3</th>\n",
       "      <td>item_4</td>\n",
       "      <td>0.659</td>\n",
       "    </tr>\n",
       "    <tr>\n",
       "      <th>4</th>\n",
       "      <td>item_5</td>\n",
       "      <td>0.597</td>\n",
       "    </tr>\n",
       "    <tr>\n",
       "      <th>5</th>\n",
       "      <td>item_6</td>\n",
       "      <td>0.625</td>\n",
       "    </tr>\n",
       "    <tr>\n",
       "      <th>6</th>\n",
       "      <td>item_7</td>\n",
       "      <td>0.633</td>\n",
       "    </tr>\n",
       "    <tr>\n",
       "      <th>7</th>\n",
       "      <td>item_8</td>\n",
       "      <td>0.715</td>\n",
       "    </tr>\n",
       "    <tr>\n",
       "      <th>8</th>\n",
       "      <td>item_9</td>\n",
       "      <td>0.536</td>\n",
       "    </tr>\n",
       "    <tr>\n",
       "      <th>9</th>\n",
       "      <td>item_10</td>\n",
       "      <td>0.620</td>\n",
       "    </tr>\n",
       "  </tbody>\n",
       "</table>\n",
       "</div>"
      ],
      "text/plain": [
       "      item   corr\n",
       "0   item_1  0.642\n",
       "1   item_2  0.747\n",
       "2   item_3  0.557\n",
       "3   item_4  0.659\n",
       "4   item_5  0.597\n",
       "5   item_6  0.625\n",
       "6   item_7  0.633\n",
       "7   item_8  0.715\n",
       "8   item_9  0.536\n",
       "9  item_10  0.620"
      ]
     },
     "execution_count": 15,
     "metadata": {},
     "output_type": "execute_result"
    }
   ],
   "source": [
    "df = responses.copy()\n",
    "df[\"raw_score\"] = responses.sum(axis=1)\n",
    "\n",
    "from ordinalcorr import biserial\n",
    "\n",
    "results = []\n",
    "for item_col in df.filter(like=\"item_\").columns:\n",
    "    results.append({\n",
    "        \"item\": item_col,\n",
    "        \"corr\": biserial(df[\"raw_score\"], df[item_col]),\n",
    "    })\n",
    "pd.DataFrame(results).round(3)"
   ]
  },
  {
   "cell_type": "markdown",
   "id": "59b2aa5a-9559-446e-b1cd-5f346ad8e4ba",
   "metadata": {},
   "source": [
    "## 項目特性図 / トレースライン\n",
    "\n",
    "各被験者の素点を横軸に、素点ごとの各選択肢の選択割合を縦軸にした折れ線グラフ。\n",
    "\n"
   ]
  },
  {
   "cell_type": "code",
   "execution_count": null,
   "id": "dba4bdec-7bcf-45d4-a796-ff92e603fc39",
   "metadata": {
    "tags": []
   },
   "outputs": [
    {
     "data": {
      "text/plain": [
       "<Axes: xlabel='raw_score', ylabel='pass_rate'>"
      ]
     },
     "execution_count": 32,
     "metadata": {},
     "output_type": "execute_result"
    }
   ],
   "source": [
    "# 簡易的に2択の設問と仮定して、正解のほうを選べた率を表している\n",
    "df = responses.copy()\n",
    "df[\"raw_score\"] = responses.sum(axis=1)\n",
    "df[\"raw_score\"] = pd.qcut(df[\"raw_score\"], 5).astype(str)\n",
    "\n",
    "item_cols = df.filter(like=\"item_\").columns\n",
    "stats = df.groupby(\"raw_score\")[item_cols].mean().reset_index()\n",
    "\n",
    "import seaborn as sns\n",
    "sns.lineplot(\n",
    "    data=stats.melt(id_vars=\"raw_score\", value_name=\"pass_rate\"),\n",
    "    x=\"raw_score\", y=\"pass_rate\", hue=\"variable\",\n",
    "    marker=\"o\"\n",
    ")"
   ]
  },
  {
   "cell_type": "code",
   "execution_count": null,
   "id": "56b45d22-890e-4083-9990-142ae914e00f",
   "metadata": {},
   "outputs": [],
   "source": []
  }
 ],
 "metadata": {
  "kernelspec": {
   "display_name": "Python 3 (ipykernel)",
   "language": "python",
   "name": "python3"
  },
  "language_info": {
   "codemirror_mode": {
    "name": "ipython",
    "version": 3
   },
   "file_extension": ".py",
   "mimetype": "text/x-python",
   "name": "python",
   "nbconvert_exporter": "python",
   "pygments_lexer": "ipython3",
   "version": "3.10.18"
  }
 },
 "nbformat": 4,
 "nbformat_minor": 5
}
