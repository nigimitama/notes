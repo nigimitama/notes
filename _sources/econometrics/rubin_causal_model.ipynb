{
 "cells": [
  {
   "cell_type": "markdown",
   "id": "413fa912-2e85-4346-9c39-7d0ded279260",
   "metadata": {},
   "source": [
    "# ルービンの因果モデル\n",
    "\n",
    "**ルービンの因果モデル**（rubin causal model）は潜在的結果と割当のメカニズムに着目して因果推論を検討するアプローチ（[Rubin 1974](http://www.fsb.muohio.edu/lij14/420_paper_Rubin74.pdf), [Holland 1986](https://www.cps.fgv.br/cps/bd/curso/17_Statistics_and_Causal_Inference_Holland.pdf)）。\n",
    "\n",
    "\n",
    "## 用語\n",
    "\n",
    "### 潜在的結果\n",
    "\n",
    "ある個体が「介入を受けた場合」と「介入を受けなかった場合」の結果を、実際に介入があったかどうかに関わらず定めたものを**潜在的結果**（potential outcome）という。\n",
    "\n",
    "- **対照群**（control group）：介入を受けなかった（$D=0$の）場合\n",
    "- **処置群**（treatment group）：介入を受けた（$D=1$の）場合\n",
    "- 個体$i$が介入を受けなかった時の潜在的結果：$Y_i(0)$\n",
    "- 個体$i$が介入を受けた時の潜在的結果：$Y_i(1)$\n",
    "\n",
    "\n",
    "実際の観察結果は$Y_i$とする\n",
    "\n",
    "$$\n",
    "Y_i = \\left\\{\n",
    "\\begin{array}{l}\n",
    "Y_i(0) \\ \\text{if } D_i = 0 \\\\\n",
    "Y_i(1) \\ \\text{if } D_i=1\n",
    "\\end{array}\n",
    "\\right.\n",
    "$$\n",
    "\n",
    "次のように書くこともできる\n",
    "\n",
    "$$\n",
    "Y_i = Y_i(D_i) = Y_i(0)(1-D_i) + Y_i(1)D\n",
    "$$\n",
    "\n",
    "\n",
    "### 因果効果\n",
    "\n",
    "因果の定義の仕方はいろいろあるが、ルービン因果モデルにおいては「ある個体が介入$D$を受けた場合に、受けなかった場合の結果$Y$と比べた結果$Y_1$の差$Y_1 - Y_0$」を「$D$の**因果効果**（causal effect）」とする。なお、因果効果と同様の意味で**処置効果**（treatment effect）という言葉も使われる。\n",
    "\n",
    "個体$i$の因果効果（**個体処置効果** individual treatment effect: ITE） は\n",
    "\n",
    "$$\n",
    "\\tau_i = Y_i(1)-Y_i(0)\n",
    "$$\n",
    "\n",
    "となる。\n",
    "\n",
    "ただし、実際には実行された処置についての結果しか観測することができないため、$\\tau_i$は観測することはできない。このことは**因果推論の根本問題**と呼ばれる。\n",
    "\n",
    "#### 平均処置効果\n",
    "\n",
    "ITEの推定は難しいため、通常は平均での処置効果を推定することを考える\n",
    "\n",
    "$$\n",
    "\\tau = E[Y(1) - Y(0)] = E[Y(1)] - E[Y(0)]\n",
    "$$\n",
    "\n",
    "これを**平均処置効果**（average treatment effect: ATE）という。**平均因果効果**（average causal effect: ACE）という呼び方や、母集団レベルの議論であることを明示した**母集団平均処置効果**（population average treatment effect: PATE）という呼び方も存在する。\n"
   ]
  },
  {
   "cell_type": "markdown",
   "id": "35c2d789-be30-485b-83b9-d9b2e33228a6",
   "metadata": {},
   "source": [
    "## ATEの推定\n",
    "\n",
    "### ナイーブな推定量\n",
    "\n",
    "単純には実現して観測できる各群の差\n",
    "\n",
    "$$\n",
    "\\frac{1}{N_1} \\sum^{N_1}_{i: D_i = 1} y_i\n",
    "-\n",
    "\\frac{1}{N_0} \\sum^{N_0}_{i: D_i = 0} y_i\n",
    "$$\n",
    "\n",
    "を使って推定したくなる。これは潜在的結果を使って表すと\n",
    "\n",
    "$$\n",
    "\\tau_{naive} = E[Y(1)|D = 1] - E[Y(0)|D = 0]\n",
    "$$\n",
    "\n",
    "となり、ATEとは異なる。仮にこれをナイーブな推定量と呼ぶことにして、$\\tau_{naive}$と表す。\n",
    "これは$E[Y(0)|D = 1]$を足して引くと\n",
    "\n",
    "$$\n",
    "\\begin{align}\n",
    "\\tau_{naive}\n",
    "&= E[Y(1)|D = 1] - E[Y(0)|D = 0]\\\\\n",
    "&= E[Y(1)|D = 1] - E[Y(0)|D = 1] + E[Y(0)|D = 1] - E[Y(0)|D = 0]\\\\\n",
    "&= \\underbrace{E[Y(1) - Y(0)|D = 1]}_{\\text{ATT}}\n",
    "  + \\underbrace{E[Y(0)|D = 1] - E[Y(0)|D = 0]}_{\\text{Selection Bias}}\\\\\n",
    "\\end{align}\n",
    "$$\n",
    "\n",
    "と表すことができる。\n",
    "\n",
    "第1項の$E[Y(1) - Y(0)|D = 1]$は処置群における「処置を受けたときの結果$Y(0)$」と「処置を受けなかった場合の（反実仮想の）結果$Y(0)$」の差である。これを**処置群に対する平均処置効果**（average treatment effect on the treated: ATT or ATET）という。\n",
    "処置群と対照群で平均的に処置効果に差がないと仮定すれば\n",
    "\n",
    "$$\n",
    "\\begin{align}\n",
    "\\underbrace{E[Y(1) - Y(0)]}_{ATE}\n",
    "&= E[Y(1) - Y(0) | D = 1] P(D = 1) + E[Y(1) - Y(0)| D = 0] P(D = 0)\\\\\n",
    "&= E[Y(1) - Y(0) | D = 1] \\{ P(D = 1) + P(D = 0) \\}\\\\\n",
    "&= \\underbrace{E[Y(1) - Y(0)|D = 1]}_{ATT}\n",
    "\\end{align}\n",
    "$$\n",
    "\n",
    "となる。\n",
    "\n",
    "第2項の$E[Y(0)|D = 1] - E[Y(0)|D = 0]$は、「処置群が仮に処置を受けなかったとした場合の結果の期待値」と「対照群が処置を受けなかった場合の期待値」の差であり、**セレクション・バイアス**（selection bias）と呼ばれる。\n",
    "もしセレクション・バイアスが0であれば$\\tau_{naive} = ATT$であり、さらに$ATT=ATE$であれば$\\tau_{naive}= ATE = \\tau$になる。そうでない場合は$\\tau_{naive} \\neq \\tau$であり、単純な各群の期待値の差をとる方法は誤った分析結果を導くことになる。\n"
   ]
  },
  {
   "cell_type": "markdown",
   "id": "eb20c75e-a4b6-4aa1-82ca-9ee858c4a76a",
   "metadata": {},
   "source": [
    "### 無作為割り当ての場合\n",
    "\n",
    "もし処置への割当$D$が無作為（ランダム）であれば潜在的結果$Y(0), Y(1)$とは独立\n",
    "\n",
    "$$\n",
    "\\newcommand{\\indep}{\\mathop{\\hspace{0.1em} \\perp\\!\\!\\!\\perp \\hspace{0.1em}}}\n",
    "(Y(0), Y(1)) \\indep D\n",
    "$$\n",
    "\n",
    "\n",
    "となり\n",
    "\n",
    "$$\n",
    "E[Y(0)| D = 0] = E[Y(0)]\\\\\n",
    "E[Y(1)| D = 1] = E[Y(1)]\n",
    "$$\n",
    "\n",
    "になるため、ナイーブな推定量がATEの推定量となる。\n",
    "\n",
    ":::{marginal} 独立のおさらい\n",
    "\n",
    "2つの事象AとBが独立であるとき、Aが起こる確率はBが起こったという事象とは関係ないため、\n",
    "\n",
    "$$\n",
    "P(A|B) = P(A)\n",
    "$$\n",
    "\n",
    "となる。\n",
    "\n",
    "\n",
    "条件付き期待値も同様に\n",
    "\n",
    "$$\n",
    "\\begin{align}\n",
    "E[A|B]\n",
    "&= \\int A \\times P(A|B) dA\\\\\n",
    "&= \\int A \\times P(A) dA = E[A]\n",
    "\\end{align}\n",
    "$$\n",
    "\n",
    "となる\n",
    ":::\n"
   ]
  },
  {
   "cell_type": "markdown",
   "id": "9bb1f21b-d355-4e5b-bb34-788574a40907",
   "metadata": {},
   "source": [
    "### 条件付き独立を仮定する場合\n",
    "\n",
    "共変量$\\boldsymbol{X}$を条件付けた下での処置割当$D$と結果$Y(0), Y(1)$の独立\n",
    "\n",
    "$$\n",
    "\\newcommand{\\indep}{\\mathop{\\hspace{0.1em} \\perp\\!\\!\\!\\perp \\hspace{0.1em}}}\n",
    "(Y(0), Y(1)) \\indep D | \\boldsymbol{X}\n",
    "$$\n",
    "\n",
    "を**条件付き独立**（conditional independence）あるいは**強く無視できる割り当て**（strongly ignorable treatment assignment）条件という。\n",
    "\n",
    "これが仮定できるとき、\n"
   ]
  },
  {
   "cell_type": "markdown",
   "id": "204db415-486f-405a-8c79-6f625a765ee0",
   "metadata": {},
   "source": [
    "## 例：ダイレクトメール（DM）配布\n",
    "\n",
    "あるサービスの広告目的でDMを配布するとする。\n",
    "\n",
    "このとき、あらかじめ（DM施策以前から）成約率が高いことがわかっているエリアのみに配布したらどうなるだろうか。\n",
    "\n",
    "例えば、成約率の高いエリアはもともとの成約率が0.3で、実際に実験時点においても$E[Y(0)|D=1] = 0.3$だったとする\n",
    "\n",
    "実際に観測されたのは\n",
    "\n",
    "$$\n",
    "E[Y|D=1] = 0.4\\\\\n",
    "E[Y|D=0] = 0.2\n",
    "$$\n",
    "\n",
    "だったとする。\n",
    "\n",
    "両者の差分$\\tau_{naive}$は$0.4-0.2=0.2$となる。\n",
    "\n",
    "しかし、DMが配布されたエリアはもともと成約率が高かったので、セレクション・バイアス$E[Y(0)|D=1] - E[Y(0)|D=0] = 0.3 - 0.2 = 0.1$となり、$\\tau_{naive}$は0.1だけ過大にATEを推定していることになる。"
   ]
  },
  {
   "cell_type": "code",
   "execution_count": 90,
   "id": "4814cf78-7244-4c0a-b593-3c9940b21777",
   "metadata": {
    "tags": [
     "remove-input",
     "remove-output"
    ]
   },
   "outputs": [
    {
     "name": "stdout",
     "output_type": "stream",
     "text": [
      "\n",
      "観測した両群の成約率\n",
      "avg[Y|D=1] = 0.39\n",
      "avg[Y|D=0] = 0.21\n",
      "\n",
      "その差分\n",
      "τ_naive = avg[Y|D=1] - avg[Y|D=0] = 0.18\n",
      "\n",
      "（反実仮想）対照群がもし処置を受けていなかったら\n",
      "E[Y(0)|D=1] = 0.30\n",
      "\n"
     ]
    }
   ],
   "source": [
    "import numpy as np\n",
    "import pandas as pd\n",
    "import matplotlib.pyplot as plt\n",
    "import seaborn as sns\n",
    "n = 1000\n",
    "users = pd.DataFrame()\n",
    "\n",
    "ate = 0.1  # 真の効果。成約率の増加分\n",
    "p_target = 0.3  # DMの重点エリアの成約率\n",
    "p_normal = 0.2  # それ以外のエリアの成約率\n",
    "\n",
    "np.random.seed(0)\n",
    "x_target = np.random.binomial(n=1, p=p_target + ate, size=n//2)\n",
    "x_normal = np.random.binomial(n=1, p=p_normal, size=n//2)\n",
    "\n",
    "print(f\"\"\"\n",
    "観測した両群の成約率\n",
    "avg[Y|D=1] = {x_target.mean():.2f}\n",
    "avg[Y|D=0] = {x_normal.mean():.2f}\n",
    "\n",
    "その差分\n",
    "τ_naive = avg[Y|D=1] - avg[Y|D=0] = {x_target.mean() - x_normal.mean():.2f}\n",
    "\n",
    "（反実仮想）対照群がもし処置を受けていなかったら\n",
    "E[Y(0)|D=1] = {p_target:.2f}\n",
    "\"\"\")"
   ]
  },
  {
   "cell_type": "code",
   "execution_count": 104,
   "id": "9b9b7e49-b108-41ec-b9f6-d6d4a7dc451a",
   "metadata": {
    "tags": [
     "hide-input"
    ]
   },
   "outputs": [
    {
     "data": {
      "image/png": "[encoded data removed]",
      "text/plain": [
       "<Figure size 500x300 with 1 Axes>"
      ]
     },
     "metadata": {
      "needs_background": "light"
     },
     "output_type": "display_data"
    }
   ],
   "source": [
    "font_settings = dict(horizontalalignment=\"center\", fontweight=\"bold\")\n",
    "\n",
    "fig, ax = plt.subplots(dpi=100, figsize=[5, 3])\n",
    "ax.bar(0, p_target, color=\"gray\")\n",
    "ax.text(0, p_target * 0.5, \"E[Y(0)|D=1]\", color=\"white\", **font_settings)\n",
    "\n",
    "ax.bar(0, ate, bottom=p_target, color=\"dimgray\")\n",
    "ax.text(0, p_target + ate * 0.45, \"τ / ATE\", color=\"white\", **font_settings)\n",
    "# ax.text(0, p_target + ate * 1.2, \"E[Y(1)|D=1]\", color=\"dimgray\", **font_settings)\n",
    "\n",
    "ax.bar(1, p_normal, color=\"darkgray\")\n",
    "ax.text(1, p_normal * 0.5, \"E[Y(0)|D=0]\", color=\"white\", **font_settings)\n",
    "\n",
    "ax.bar(1, (p_target - p_normal), bottom=p_normal, color=\"white\", linestyle=\":\", edgecolor=\"tomato\")\n",
    "ax.text(1, p_normal + (p_target - p_normal) * 0.25, \"selection bias\\nE[Y(0)|D=1] - E[Y(0)|D=0]\", color=\"tomato\", **font_settings)\n",
    "\n",
    "\n",
    "ax.set(\n",
    "    xticks=[0, 1],\n",
    "    xticklabels=[\"D=1\", \"D=0\"],\n",
    "    ylabel=\"Y\",\n",
    "    ylim=[0, 0.45],\n",
    ")\n",
    "fig.show()"
   ]
  },
  {
   "cell_type": "markdown",
   "id": "dc322c25-cb21-48e8-ba23-9580d961a90e",
   "metadata": {},
   "source": [
    "## 例：クーポンの配布\n",
    "\n",
    "ECサイトにおいてクーポンをユーザーに配布する施策を行った状況を想定し、クーポンという処置が購入する確率に与えた影響を調べたいとする。その際に、\n",
    "\n",
    "1. ランダムにクーポン配布が行われたケース\n",
    "2. 前月に購入したユーザーにクーポンが配布されたケース\n",
    "\n",
    "という2つの処置割当メカニズムがあったと仮定して比較を行う。クーポンは同じもので効果も同じとする。\n",
    "\n",
    "また、ユーザーは通常の顧客と、成約率が高いロイヤルカスタマーの2種類いるとする。\n",
    "\n",
    "乱数を生成してシミュレーションしてみる"
   ]
  },
  {
   "cell_type": "code",
   "execution_count": null,
   "id": "b99486d0-f292-4ec0-a594-ae2cbd4c7d44",
   "metadata": {
    "tags": [
     "hide-input"
    ]
   },
   "outputs": [
    {
     "name": "stdout",
     "output_type": "stream",
     "text": [
      "\n",
      "--- ナイーブな推定量 ---\n",
      "1. ランダム配布の場合\n",
      "対照群： 成約率=0.454 n=533\n",
      "処置群： 成約率=0.561 n=467\n",
      "成約率の差： 0.107\n",
      "\n",
      "2. ユーザーを選ぶ場合\n",
      "対照群： 成約率=0.469 n=715\n",
      "処置群： 成約率=0.477 n=285\n",
      "成約率の差： 0.00866\n",
      "\n"
     ]
    }
   ],
   "source": [
    "import numpy as np\n",
    "import pandas as pd\n",
    "import matplotlib.pyplot as plt\n",
    "import seaborn as sns\n",
    "np.random.seed(0)\n",
    "\n",
    "ate = 0.1  # 真の効果\n",
    "n = 1000\n",
    "users = pd.DataFrame()\n",
    "\n",
    "# 通常の顧客とロイヤルカスタマーの2つのグループがあり、毎月の成約率が異なるとする\n",
    "p_normal = 0.2\n",
    "p_loyal = 0.5\n",
    "\n",
    "# ロイヤルカスタマーは全体の2割いるとする\n",
    "is_loyal = np.random.binomial(n=1, p=0.2, size=n)\n",
    "\n",
    "# 先月の購入の有無\n",
    "p1 = is_loyal * np.random.binomial(n=1, p=p_loyal, size=n)\n",
    "p2 = (1 - is_loyal) * np.random.binomial(n=1, p=p_normal, size=n)\n",
    "users.loc[:, \"prev_purchase\"] = p1 + p2\n",
    "\n",
    "# 1. ランダム配布の場合\n",
    "d = np.random.binomial(n=1, p=0.5, size=n)\n",
    "p1 = d * np.random.binomial(n=1, p=p_normal + ate, size=n) + (1 - d) * np.random.binomial(n=1, p=p_normal, size=n)\n",
    "p2 = d * np.random.binomial(n=1, p=p_loyal + ate, size=n) + (1 - d) * np.random.binomial(n=1, p=p_loyal, size=n)\n",
    "users.loc[:, \"purchase_1\"] = is_loyal * p1 + (1 - is_loyal) * p2\n",
    "users.loc[:, \"assignment_1\"] = d\n",
    "\n",
    "# 2. ユーザーを選ぶ場合\n",
    "d = users[\"prev_purchase\"]\n",
    "p1 = d * np.random.binomial(n=1, p=p_normal + ate, size=n) + (1 - d) * np.random.binomial(n=1, p=p_normal, size=n)\n",
    "p2 = d * np.random.binomial(n=1, p=p_loyal + ate, size=n) + (1 - d) * np.random.binomial(n=1, p=p_loyal, size=n)\n",
    "users.loc[:, \"purchase_2\"] = is_loyal * p1 + (1 - is_loyal) * p2\n",
    "users.loc[:, \"assignment_2\"] = d\n",
    "\n",
    "# 各群の平均の差分をとって（ナイーブな推定量を使って）ATEを推定してみる\n",
    "agg1 = users.groupby(\"assignment_1\")[\"purchase_1\"].agg([\"mean\", \"count\"])\n",
    "agg2 = users.groupby(\"assignment_2\")[\"purchase_2\"].agg([\"mean\", \"count\"])\n",
    "result = f\"\"\"\n",
    "--- ナイーブな推定量 ---\n",
    "1. ランダム配布の場合\n",
    "対照群： 成約率={agg1['mean'][0]:.3g} n={agg1['count'][0]:,}\n",
    "処置群： 成約率={agg1['mean'][1]:.3g} n={agg1['count'][1]:,}\n",
    "成約率の差： {agg1['mean'][1] - agg1['mean'][0]:.3g}\n",
    "\n",
    "2. ユーザーを選ぶ場合\n",
    "対照群： 成約率={agg2['mean'][0]:.3g} n={agg2['count'][0]:,}\n",
    "処置群： 成約率={agg2['mean'][1]:.3g} n={agg2['count'][1]:,}\n",
    "成約率の差： {agg2['mean'][1] - agg2['mean'][0]:.3g}\n",
    "\"\"\"\n",
    "print(result)"
   ]
  },
  {
   "cell_type": "code",
   "execution_count": null,
   "id": "77c2a8f1-67d5-4a3b-bc62-2d9df08c6cd6",
   "metadata": {},
   "outputs": [],
   "source": [
    "ゆーざーごとの固有の平均成約率がある"
   ]
  },
  {
   "cell_type": "markdown",
   "id": "e008da41-835e-4705-b718-b3604aa14c06",
   "metadata": {},
   "source": [
    "## 例：クーポンの配布\n",
    "\n",
    "ECサイトにおいてクーポンをユーザーに配布する施策を行った状況を想定し、クーポンという処置が購入する確率に与えた影響を調べたいとする。その際に、\n",
    "\n",
    "1. ランダムにクーポン配布が行われたケース\n",
    "2. 前月に購入したユーザーにクーポンが配布されたケース\n",
    "\n",
    "という2つの処置割当メカニズムがあったと仮定して比較を行う。クーポンは同じもので効果も同じとする。\n",
    "\n",
    "また、ユーザーは通常の顧客と、成約率が高いロイヤルカスタマーの2種類いるとする。\n",
    "\n",
    "乱数を生成してシミュレーションしてみる"
   ]
  },
  {
   "cell_type": "code",
   "execution_count": 3,
   "id": "72c75c63-f296-4d76-82a5-8850eda88b4f",
   "metadata": {
    "tags": [
     "hide-input"
    ]
   },
   "outputs": [
    {
     "name": "stdout",
     "output_type": "stream",
     "text": [
      "\n",
      "--- ナイーブな推定量 ---\n",
      "1. ランダム配布の場合\n",
      "対照群： 成約率=0.454 n=533\n",
      "処置群： 成約率=0.561 n=467\n",
      "成約率の差： 0.107\n",
      "\n",
      "2. ユーザーを選ぶ場合\n",
      "対照群： 成約率=0.469 n=715\n",
      "処置群： 成約率=0.477 n=285\n",
      "成約率の差： 0.00866\n",
      "\n"
     ]
    }
   ],
   "source": [
    "import numpy as np\n",
    "import pandas as pd\n",
    "import matplotlib.pyplot as plt\n",
    "import seaborn as sns\n",
    "np.random.seed(0)\n",
    "\n",
    "ate = 0.1  # 真の効果\n",
    "n = 1000\n",
    "users = pd.DataFrame()\n",
    "\n",
    "# 通常の顧客とロイヤルカスタマーの2つのグループがあり、毎月の成約率が異なるとする\n",
    "p_normal = 0.2\n",
    "p_loyal = 0.5\n",
    "\n",
    "# ロイヤルカスタマーは全体の2割いるとする\n",
    "is_loyal = np.random.binomial(n=1, p=0.2, size=n)\n",
    "\n",
    "# 先月の購入の有無\n",
    "p1 = is_loyal * np.random.binomial(n=1, p=p_loyal, size=n)\n",
    "p2 = (1 - is_loyal) * np.random.binomial(n=1, p=p_normal, size=n)\n",
    "users.loc[:, \"prev_purchase\"] = p1 + p2\n",
    "\n",
    "# 1. ランダム配布の場合\n",
    "d = np.random.binomial(n=1, p=0.5, size=n)\n",
    "p1 = d * np.random.binomial(n=1, p=p_normal + ate, size=n) + (1 - d) * np.random.binomial(n=1, p=p_normal, size=n)\n",
    "p2 = d * np.random.binomial(n=1, p=p_loyal + ate, size=n) + (1 - d) * np.random.binomial(n=1, p=p_loyal, size=n)\n",
    "users.loc[:, \"purchase_1\"] = is_loyal * p1 + (1 - is_loyal) * p2\n",
    "users.loc[:, \"assignment_1\"] = d\n",
    "\n",
    "# 2. ユーザーを選ぶ場合\n",
    "d = users[\"prev_purchase\"]\n",
    "p1 = d * np.random.binomial(n=1, p=p_normal + ate, size=n) + (1 - d) * np.random.binomial(n=1, p=p_normal, size=n)\n",
    "p2 = d * np.random.binomial(n=1, p=p_loyal + ate, size=n) + (1 - d) * np.random.binomial(n=1, p=p_loyal, size=n)\n",
    "users.loc[:, \"purchase_2\"] = is_loyal * p1 + (1 - is_loyal) * p2\n",
    "users.loc[:, \"assignment_2\"] = d\n",
    "\n",
    "# 各群の平均の差分をとって（ナイーブな推定量を使って）ATEを推定してみる\n",
    "agg1 = users.groupby(\"assignment_1\")[\"purchase_1\"].agg([\"mean\", \"count\"])\n",
    "agg2 = users.groupby(\"assignment_2\")[\"purchase_2\"].agg([\"mean\", \"count\"])\n",
    "result = f\"\"\"\n",
    "--- ナイーブな推定量 ---\n",
    "1. ランダム配布の場合\n",
    "対照群： 成約率={agg1['mean'][0]:.3g} n={agg1['count'][0]:,}\n",
    "処置群： 成約率={agg1['mean'][1]:.3g} n={agg1['count'][1]:,}\n",
    "成約率の差： {agg1['mean'][1] - agg1['mean'][0]:.3g}\n",
    "\n",
    "2. ユーザーを選ぶ場合\n",
    "対照群： 成約率={agg2['mean'][0]:.3g} n={agg2['count'][0]:,}\n",
    "処置群： 成約率={agg2['mean'][1]:.3g} n={agg2['count'][1]:,}\n",
    "成約率の差： {agg2['mean'][1] - agg2['mean'][0]:.3g}\n",
    "\"\"\"\n",
    "print(result)"
   ]
  },
  {
   "cell_type": "code",
   "execution_count": 15,
   "id": "600ff92a-da96-407c-b04b-3bbcd5de44a6",
   "metadata": {
    "tags": [
     "hide-input"
    ]
   },
   "outputs": [
    {
     "data": {
      "image/svg+xml": [
       "<?xml version=\"1.0\" encoding=\"UTF-8\" standalone=\"no\"?>\n",
       "<!DOCTYPE svg PUBLIC \"-//W3C//DTD SVG 1.1//EN\"\n",
       " \"http://www.w3.org/Graphics/SVG/1.1/DTD/svg11.dtd\">\n",
       "<!-- Generated by graphviz version 2.43.0 (0)\n",
       " -->\n",
       "<!-- Title: %3 Pages: 1 -->\n",
       "<svg width=\"201pt\" height=\"260pt\"\n",
       " viewBox=\"0.00 0.00 200.69 260.00\" xmlns=\"http://www.w3.org/2000/svg\" xmlns:xlink=\"http://www.w3.org/1999/xlink\">\n",
       "<g id=\"graph0\" class=\"graph\" transform=\"scale(1 1) rotate(0) translate(4 256)\">\n",
       "<title>%3</title>\n",
       "<polygon fill=\"white\" stroke=\"transparent\" points=\"-4,4 -4,-256 196.69,-256 196.69,4 -4,4\"/>\n",
       "<!-- ロイヤルティ -->\n",
       "<g id=\"node1\" class=\"node\">\n",
       "<title>ロイヤルティ</title>\n",
       "<ellipse fill=\"none\" stroke=\"black\" cx=\"126.39\" cy=\"-234\" rx=\"66.09\" ry=\"18\"/>\n",
       "<text text-anchor=\"middle\" x=\"126.39\" y=\"-230.3\" font-family=\"Times,serif\" font-size=\"14.00\">ロイヤルティ</text>\n",
       "</g>\n",
       "<!-- 先月の購入履歴 -->\n",
       "<g id=\"node2\" class=\"node\">\n",
       "<title>先月の購入履歴</title>\n",
       "<ellipse fill=\"none\" stroke=\"black\" cx=\"75.39\" cy=\"-162\" rx=\"75.29\" ry=\"18\"/>\n",
       "<text text-anchor=\"middle\" x=\"75.39\" y=\"-158.3\" font-family=\"Times,serif\" font-size=\"14.00\">先月の購入履歴</text>\n",
       "</g>\n",
       "<!-- ロイヤルティ&#45;&gt;先月の購入履歴 -->\n",
       "<g id=\"edge1\" class=\"edge\">\n",
       "<title>ロイヤルティ&#45;&gt;先月の購入履歴</title>\n",
       "<path fill=\"none\" stroke=\"black\" d=\"M114.05,-216.05C107.91,-207.63 100.37,-197.28 93.58,-187.97\"/>\n",
       "<polygon fill=\"black\" stroke=\"black\" points=\"96.34,-185.81 87.63,-179.79 90.69,-189.93 96.34,-185.81\"/>\n",
       "</g>\n",
       "<!-- 購入 -->\n",
       "<g id=\"node4\" class=\"node\">\n",
       "<title>購入</title>\n",
       "<ellipse fill=\"none\" stroke=\"black\" cx=\"133.39\" cy=\"-18\" rx=\"29.5\" ry=\"18\"/>\n",
       "<text text-anchor=\"middle\" x=\"133.39\" y=\"-14.3\" font-family=\"Times,serif\" font-size=\"14.00\">購入</text>\n",
       "</g>\n",
       "<!-- ロイヤルティ&#45;&gt;購入 -->\n",
       "<g id=\"edge4\" class=\"edge\">\n",
       "<title>ロイヤルティ&#45;&gt;購入</title>\n",
       "<path fill=\"none\" stroke=\"black\" d=\"M140.38,-216.04C147.59,-206.18 155.64,-193.13 159.39,-180 172.67,-133.57 156.72,-77.55 144.59,-45.32\"/>\n",
       "<polygon fill=\"black\" stroke=\"black\" points=\"147.74,-43.77 140.83,-35.74 141.22,-46.33 147.74,-43.77\"/>\n",
       "</g>\n",
       "<!-- クーポン -->\n",
       "<g id=\"node3\" class=\"node\">\n",
       "<title>クーポン</title>\n",
       "<ellipse fill=\"none\" stroke=\"black\" cx=\"88.39\" cy=\"-90\" rx=\"48.19\" ry=\"18\"/>\n",
       "<text text-anchor=\"middle\" x=\"88.39\" y=\"-86.3\" font-family=\"Times,serif\" font-size=\"14.00\">クーポン</text>\n",
       "</g>\n",
       "<!-- 先月の購入履歴&#45;&gt;クーポン -->\n",
       "<g id=\"edge2\" class=\"edge\">\n",
       "<title>先月の購入履歴&#45;&gt;クーポン</title>\n",
       "<path fill=\"none\" stroke=\"black\" d=\"M78.61,-143.7C80.04,-135.98 81.76,-126.71 83.36,-118.11\"/>\n",
       "<polygon fill=\"black\" stroke=\"black\" points=\"86.83,-118.58 85.22,-108.1 79.95,-117.3 86.83,-118.58\"/>\n",
       "</g>\n",
       "<!-- クーポン&#45;&gt;購入 -->\n",
       "<g id=\"edge3\" class=\"edge\">\n",
       "<title>クーポン&#45;&gt;購入</title>\n",
       "<path fill=\"none\" stroke=\"black\" d=\"M99.06,-72.41C104.57,-63.83 111.41,-53.19 117.53,-43.67\"/>\n",
       "<polygon fill=\"black\" stroke=\"black\" points=\"120.65,-45.29 123.12,-34.99 114.76,-41.51 120.65,-45.29\"/>\n",
       "</g>\n",
       "</g>\n",
       "</svg>\n"
      ],
      "text/plain": [
       "<graphviz.dot.Digraph at 0x7fe4782520a0>"
      ]
     },
     "execution_count": 15,
     "metadata": {},
     "output_type": "execute_result"
    }
   ],
   "source": [
    "import graphviz\n",
    "g = graphviz.Digraph()\n",
    "g.edge('ロイヤルティ', '先月の購入履歴')\n",
    "g.edge('先月の購入履歴', 'クーポン')\n",
    "g.edge('クーポン', '購入')\n",
    "g.edge('ロイヤルティ', '購入')\n",
    "g"
   ]
  },
  {
   "cell_type": "code",
   "execution_count": 6,
   "id": "b33c6cae-beef-4bee-9bda-d8c5b2f14193",
   "metadata": {},
   "outputs": [
    {
     "data": {
      "text/html": [
       "<div>\n",
       "<style scoped>\n",
       "    .dataframe tbody tr th:only-of-type {\n",
       "        vertical-align: middle;\n",
       "    }\n",
       "\n",
       "    .dataframe tbody tr th {\n",
       "        vertical-align: top;\n",
       "    }\n",
       "\n",
       "    .dataframe thead th {\n",
       "        text-align: right;\n",
       "    }\n",
       "</style>\n",
       "<table border=\"1\" class=\"dataframe\">\n",
       "  <thead>\n",
       "    <tr style=\"text-align: right;\">\n",
       "      <th></th>\n",
       "      <th>prev_purchase</th>\n",
       "      <th>purchase_1</th>\n",
       "      <th>assignment_1</th>\n",
       "      <th>purchase_2</th>\n",
       "      <th>assignment_2</th>\n",
       "    </tr>\n",
       "  </thead>\n",
       "  <tbody>\n",
       "    <tr>\n",
       "      <th>prev_purchase</th>\n",
       "      <td>1.000000</td>\n",
       "      <td>-0.082588</td>\n",
       "      <td>0.012899</td>\n",
       "      <td>0.007833</td>\n",
       "      <td>1.000000</td>\n",
       "    </tr>\n",
       "    <tr>\n",
       "      <th>purchase_1</th>\n",
       "      <td>-0.082588</td>\n",
       "      <td>1.000000</td>\n",
       "      <td>0.106764</td>\n",
       "      <td>0.010482</td>\n",
       "      <td>-0.082588</td>\n",
       "    </tr>\n",
       "    <tr>\n",
       "      <th>assignment_1</th>\n",
       "      <td>0.012899</td>\n",
       "      <td>0.106764</td>\n",
       "      <td>1.000000</td>\n",
       "      <td>-0.003843</td>\n",
       "      <td>0.012899</td>\n",
       "    </tr>\n",
       "    <tr>\n",
       "      <th>purchase_2</th>\n",
       "      <td>0.007833</td>\n",
       "      <td>0.010482</td>\n",
       "      <td>-0.003843</td>\n",
       "      <td>1.000000</td>\n",
       "      <td>0.007833</td>\n",
       "    </tr>\n",
       "    <tr>\n",
       "      <th>assignment_2</th>\n",
       "      <td>1.000000</td>\n",
       "      <td>-0.082588</td>\n",
       "      <td>0.012899</td>\n",
       "      <td>0.007833</td>\n",
       "      <td>1.000000</td>\n",
       "    </tr>\n",
       "  </tbody>\n",
       "</table>\n",
       "</div>"
      ],
      "text/plain": [
       "               prev_purchase  purchase_1  assignment_1  purchase_2  \\\n",
       "prev_purchase       1.000000   -0.082588      0.012899    0.007833   \n",
       "purchase_1         -0.082588    1.000000      0.106764    0.010482   \n",
       "assignment_1        0.012899    0.106764      1.000000   -0.003843   \n",
       "purchase_2          0.007833    0.010482     -0.003843    1.000000   \n",
       "assignment_2        1.000000   -0.082588      0.012899    0.007833   \n",
       "\n",
       "               assignment_2  \n",
       "prev_purchase      1.000000  \n",
       "purchase_1        -0.082588  \n",
       "assignment_1       0.012899  \n",
       "purchase_2         0.007833  \n",
       "assignment_2       1.000000  "
      ]
     },
     "execution_count": 6,
     "metadata": {},
     "output_type": "execute_result"
    }
   ],
   "source": [
    "users.corr()"
   ]
  },
  {
   "cell_type": "code",
   "execution_count": 4,
   "id": "e9a4bc95-b2a3-47e0-b0de-16501342d5a2",
   "metadata": {
    "tags": [
     "hide-input"
    ]
   },
   "outputs": [
    {
     "data": {
      "text/html": [
       "<table style=\"text-align:center\"><tr><td colspan=\"3\" style=\"border-bottom: 1px solid black\"></td></tr><tr><td style=\"text-align:left\"></td><td colspan=\"2\"><em>Dependent variable:purchase_2</em></td></tr><tr><td style=\"text-align:left\"></td><tr><td style=\"text-align:left\"></td><td>(1)</td><td>(2)</td></tr><tr><td colspan=\"3\" style=\"border-bottom: 1px solid black\"></td></tr><tr><td style=\"text-align:left\">Intercept</td><td>0.469<sup>***</sup></td><td>0.469<sup>***</sup></td></tr><tr><td style=\"text-align:left\"></td><td>(0.019)</td><td>(0.019)</td></tr><tr><td style=\"text-align:left\">assignment_2</td><td>0.009<sup></sup></td><td>7629211767413.954<sup></sup></td></tr><tr><td style=\"text-align:left\"></td><td>(0.035)</td><td>(8518534706113.312)</td></tr><tr><td style=\"text-align:left\">prev_purchase</td><td></td><td>-7629211767413.940<sup></sup></td></tr><tr><td style=\"text-align:left\"></td><td></td><td>(8518534706113.312)</td></tr><td colspan=\"3\" style=\"border-bottom: 1px solid black\"></td></tr><tr><td style=\"text-align: left\">Observations</td><td>1,000</td><td>1,000</td></tr><tr><td style=\"text-align: left\">R<sup>2</sup></td><td>0.000</td><td>0.000</td></tr><tr><td style=\"text-align: left\">Adjusted R<sup>2</sup></td><td>-0.001</td><td>-0.002</td></tr><tr><td style=\"text-align: left\">Residual Std. Error</td><td>0.500 (df=998)</td><td>0.500 (df=997)</td></tr><tr><td style=\"text-align: left\">F Statistic</td><td>0.061<sup></sup> (df=1; 998)</td><td>0.015<sup></sup> (df=2; 997)</td></tr><tr><td colspan=\"3\" style=\"border-bottom: 1px solid black\"></td></tr><tr><td style=\"text-align: left\">Note:</td>\n",
       " <td colspan=\"2\" style=\"text-align: right\">\n",
       "  <sup>*</sup>p&lt;0.1;\n",
       "  <sup>**</sup>p&lt;0.05;\n",
       "  <sup>***</sup>p&lt;0.01\n",
       " </td></tr></table>"
      ],
      "text/plain": [
       "<stargazer.stargazer.Stargazer at 0x7fe4c2905a30>"
      ]
     },
     "execution_count": 4,
     "metadata": {},
     "output_type": "execute_result"
    }
   ],
   "source": [
    "import statsmodels.api as sm\n",
    "import statsmodels.formula.api as smf\n",
    "from stargazer.stargazer import Stargazer\n",
    "\n",
    "models = [\n",
    "    smf.ols('purchase_2 ~ assignment_2', data=users).fit(),\n",
    "    smf.ols('purchase_2 ~ assignment_2 + prev_purchase', data=users).fit(),\n",
    "]\n",
    "Stargazer(models)"
   ]
  },
  {
   "cell_type": "code",
   "execution_count": null,
   "id": "d02342b7-e5e3-4ef4-ae41-6dc3bc5bb42b",
   "metadata": {
    "tags": [
     "hide-input"
    ]
   },
   "outputs": [],
   "source": []
  },
  {
   "cell_type": "markdown",
   "id": "e396e3c5-dc57-4078-9b4f-1823094cfc1f",
   "metadata": {},
   "source": [
    "## SUTVA条件\n",
    "\n",
    "個体$i$の潜在的結果$Y_i(1), Y_i(0)$が次の2つの条件を満たすとき、**SUTVA**（stable unit treatment value assumption）条件を満たすという（Rubin 1980）。\n",
    "\n",
    "1. 個体$i$の潜在的結果は、他の個体が受ける処置の値に依存しない\n",
    "2. 個体$i$に対する処置は1通りに定まる\n",
    "\n",
    "\n",
    "### 条件1について\n",
    "\n",
    "条件1は相互干渉がない（no interference）という言い方もされる（Cox 1958）。\n",
    "\n",
    "相互干渉がある場合、個体$i$の潜在的結果は個体$i$の処置$D_i$だけでは定まらず、$Y_i(D_1, \\cdots, D_n)$のように書く必要が出てきてかなり複雑になる。\n",
    "そのため、条件1は潜在的結果をシンプルに扱うための条件となる。\n",
    "\n",
    "しかし現実には相互干渉が発生しうる。例えば労働者への教育プログラムの効果を推定する際には、他にもそのプログラムを受けて技能を向上させた労働者が多く現れる場合、労働市場における希少価値は低下し、結果として個体$i$の潜在的結果に影響を与えると考えられる。\n",
    "\n",
    "### 条件2について\n",
    "\n",
    "条件2は処置の内容を明確にすることを要請している。\n",
    "\n",
    "例えば「ダイエットをする」という処置では、具体的に何をしたのかが人によって大きく異なる可能性がある。\n",
    "\n"
   ]
  },
  {
   "cell_type": "code",
   "execution_count": null,
   "id": "22d57010-0f77-4eac-b404-5b2e84323b9c",
   "metadata": {},
   "outputs": [],
   "source": []
  },
  {
   "cell_type": "markdown",
   "id": "4364c2ff-84fa-4b47-b5a0-5147992d026e",
   "metadata": {},
   "source": [
    "## 余談：因果についての議論\n",
    "\n",
    "[Holland 1986](https://www.cps.fgv.br/cps/bd/curso/17_Statistics_and_Causal_Inference_Holland.pdf)を参考に過去の因果についての考察を要約\n",
    "\n",
    "### デイヴィッド・ヒューム（David Hume）\n",
    "\n",
    "\n",
    "\n",
    "\n"
   ]
  },
  {
   "cell_type": "markdown",
   "id": "f4c36b3c-7902-4a26-bceb-56ef92fa4739",
   "metadata": {
    "tags": []
   },
   "source": [
    "## 参考文献\n",
    "\n",
    "[Rubin, D. B. (1974). Estimating causal effects of treatments in randomized and nonrandomized studies. Journal of educational Psychology, 66(5), 688.](http://www.fsb.muohio.edu/lij14/420_paper_Rubin74.pdf)\n",
    "\n",
    "[Holland, P. W. (1986). Statistics and causal inference. Journal of the American statistical Association, 81(396), 945-960.](https://www.cps.fgv.br/cps/bd/curso/17_Statistics_and_Causal_Inference_Holland.pdf)"
   ]
  },
  {
   "cell_type": "code",
   "execution_count": null,
   "id": "c414f9b4-ca61-4f08-b575-97073c5682c5",
   "metadata": {},
   "outputs": [],
   "source": []
  }
 ],
 "metadata": {
  "kernelspec": {
   "display_name": "Python 3",
   "language": "python",
   "name": "python3"
  },
  "language_info": {
   "codemirror_mode": {
    "name": "ipython",
    "version": 3
   },
   "file_extension": ".py",
   "mimetype": "text/x-python",
   "name": "python",
   "nbconvert_exporter": "python",
   "pygments_lexer": "ipython3",
   "version": "3.8.10"
  }
 },
 "nbformat": 4,
 "nbformat_minor": 5
}
