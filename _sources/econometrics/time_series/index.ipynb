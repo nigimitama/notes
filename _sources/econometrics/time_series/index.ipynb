{
 "cells": [
  {
   "cell_type": "markdown",
   "id": "67b8d163-a258-4239-b47e-9e3f8dc7fa48",
   "metadata": {},
   "source": [
    "# 時系列データの因果推論\n",
    "\n",
    ":::{tableofcontents}\n",
    ":::"
   ]
  }
 ],
 "metadata": {
  "kernelspec": {
   "display_name": "Python 3 (ipykernel)",
   "language": "python",
   "name": "python3"
  },
  "language_info": {
   "codemirror_mode": {
    "name": "ipython",
    "version": 3
   },
   "file_extension": ".py",
   "mimetype": "text/x-python",
   "name": "python",
   "nbconvert_exporter": "python",
   "pygments_lexer": "ipython3",
   "version": "3.10.18"
  }
 },
 "nbformat": 4,
 "nbformat_minor": 5
}
