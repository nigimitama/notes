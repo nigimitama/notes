{
 "cells": [
  {
   "cell_type": "markdown",
   "id": "63fc6080-28fd-4278-8bce-d0cce1da230d",
   "metadata": {},
   "source": [
    "# CausalImpact\n",
    "\n",
    "CausalImpact は BSTS（ベイズ構造時系列モデル）で予測した「架空の対照群」と「処置群（実測値）」とを比較することで平均処置効果を推定する手法。\n",
    "\n"
   ]
  },
  {
   "cell_type": "markdown",
   "id": "6dd11245-e41e-4799-8558-f657618437ea",
   "metadata": {},
   "source": [
    "## Bayesian Structural Time Series (BSTS)\n",
    "\n",
    "Scott & Varian (2014) [Predicting the present with Bayesian structural time series.](https://www.inderscienceonline.com/doi/abs/10.1504/IJMMNO.2014.059942)\n",
    "\n",
    "統計学者Steven Scottと経済学者Hal Varianが提案したnowcastingモデル（直近の予測や現時点の欠測値を予測することもできる）\n",
    "\n",
    "### 特徴\n",
    "\n",
    "- 構造時系列モデル（状態空間モデル）\n",
    "    - 観測方程式：$y_t = Z_t^{\\mathrm{T}} \\alpha_t+\\varepsilon_t, \\quad \\varepsilon_t \\sim \\mathcal{N}\\left(0, \\sigma_t^2\\right)$\n",
    "    - 状態方程式：$\\alpha_{t+1} = T_t \\alpha_t+R_t \\eta_t, \\quad \\eta_t \\sim \\mathcal{N}\\left(0, Q_t\\right)$\n",
    "- spike and slab 事前分布：多次元データに対応するためモデルの変数選択・モデル平均化\n",
    "\n",
    "\n",
    "\n",
    "### 参考\n",
    "\n",
    "[[R] bsts (ベイズ構造時系列モデル) パッケージの使い方 - ill-identified diary](https://ill-identified.hatenablog.com/entry/2017/09/08/001002)"
   ]
  },
  {
   "cell_type": "markdown",
   "id": "32513019-438a-40e9-865a-3a4b50f0708a",
   "metadata": {},
   "source": [
    "## Causal Impact\n",
    "\n",
    "- 論文：[Inferring causal impact using Bayesian structural time-series models](https://research.google/pubs/inferring-causal-impact-using-bayesian-structural-time-series-models/)\n",
    "- Rパッケージ：[CausalImpact](https://google.github.io/CausalImpact/CausalImpact.html)\n",
    "- 一般向け記事：[効果測定に潜むバイアスを避けるには？ 広告を正しく評価するための 4 条件 - Think with Google](https://www.thinkwithgoogle.com/intl/ja-jp/marketing-strategies/data-and-measurement/measurementmatters2020/)"
   ]
  },
  {
   "cell_type": "markdown",
   "id": "9cd1f70b-e195-459b-9327-ae1d2852b3aa",
   "metadata": {},
   "source": []
  },
  {
   "cell_type": "markdown",
   "id": "9e42979c-113f-4a84-94f8-cd8d5ac3739b",
   "metadata": {},
   "source": [
    "## 参考\n",
    "\n",
    "- [Causal Impact -paper summary- - Speaker Deck](https://speakerdeck.com/hoxomaxwell/causal-impact-paper-summary)\n",
    "- [CausalImpactは実装によって中身に重大な差異がある - 渋谷駅前で働くデータサイエンティストのブログ](https://tjo.hatenablog.com/entry/2023/12/04/170000)\n"
   ]
  },
  {
   "cell_type": "code",
   "execution_count": null,
   "id": "2ff32179-db6e-4ce1-a370-f8f3f884937f",
   "metadata": {},
   "outputs": [],
   "source": []
  }
 ],
 "metadata": {
  "kernelspec": {
   "display_name": "Python 3 (ipykernel)",
   "language": "python",
   "name": "python3"
  },
  "language_info": {
   "codemirror_mode": {
    "name": "ipython",
    "version": 3
   },
   "file_extension": ".py",
   "mimetype": "text/x-python",
   "name": "python",
   "nbconvert_exporter": "python",
   "pygments_lexer": "ipython3",
   "version": "3.10.18"
  }
 },
 "nbformat": 4,
 "nbformat_minor": 5
}
