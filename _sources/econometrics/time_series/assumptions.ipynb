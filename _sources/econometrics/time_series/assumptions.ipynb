{
 "cells": [
  {
   "cell_type": "markdown",
   "id": "72df10b1-bf71-4728-8a9c-fec716ef6aef",
   "metadata": {},
   "source": [
    "# 時系列の因果推論での仮定"
   ]
  },
  {
   "cell_type": "markdown",
   "id": "2b04c893-257b-41ed-ace7-61933ea5daf4",
   "metadata": {},
   "source": [
    "構造時系列モデル（状態空間モデルなど）を使った因果推論における仮定"
   ]
  },
  {
   "cell_type": "markdown",
   "id": "e7e98abc-0247-474c-a2fe-6deb8c54a27a",
   "metadata": {},
   "source": [
    "## 潜在的結果変数\n",
    "\n",
    "二値の処置に対する、時刻$t$における潜在的結果は $Y_t(1), Y_t(0)$ と定義される。"
   ]
  },
  {
   "cell_type": "markdown",
   "id": "d7fff970-637f-438a-b80c-e084430d38bf",
   "metadata": {},
   "source": [
    "## 識別仮定\n",
    "\n",
    "### 条件付き独立性（Conditional Independence）\n",
    "\n",
    "時刻 $t$ における結果変数 $Y_t$ 、処置変数 $T_t$ 、共変量 $X_t$ との関係性について\n",
    "\n",
    "$$\n",
    "\\{Y_t(1), Y_t(0)\\} \\perp T_t \\mid X_t\n",
    "$$\n",
    "\n",
    "が成り立つとき、条件付き独立性を満たしているという。\n",
    "\n",
    "### 正値性（Positivity）\n",
    "\n",
    "CausalImpactなど時系列モデルでは対照群の時系列データ $Y_t(0)$ が存在しないため、推定値 $\\hat{Y}_t(0)$ を使うことになる。  \n",
    "そのため、推定値を用いた正値性（処置群と対照群が存在すること）を仮定する。\n",
    "\n",
    "### SUTVA\n",
    "\n",
    "No Interference (NI）の仮定や一致性の仮定\n",
    "\n",
    "#### (1) 時間軸方向へのNI仮定\n",
    "\n",
    "状態空間モデルでは、状態がマルコフ性（直前の状態のみに依存する）と仮定している。\n",
    "\n",
    "ただし実際には施策の効果が残存することも考えられる。この場合は残存効果をモデルに組み込む対応方法が存在する。\n",
    "\n",
    "#### (2) 施策同士のNI仮定\n",
    "\n",
    "例えばTVCMと検索広告を実施している場合、TVCMから検索広告へと顧客が遷移することが考えられるため、それぞれの施策が独立にならずNo Interferenceの仮定を満たさないので注意が必要\n",
    "\n",
    "#### (3) 施策の一致性の仮定\n",
    "\n",
    "例えば動画配信の施策では動画の内容が異なるものを同じ施策としたデータにならないよう注意が必要\n",
    "\n"
   ]
  }
 ],
 "metadata": {
  "kernelspec": {
   "display_name": "Python 3 (ipykernel)",
   "language": "python",
   "name": "python3"
  },
  "language_info": {
   "codemirror_mode": {
    "name": "ipython",
    "version": 3
   },
   "file_extension": ".py",
   "mimetype": "text/x-python",
   "name": "python",
   "nbconvert_exporter": "python",
   "pygments_lexer": "ipython3",
   "version": "3.10.18"
  }
 },
 "nbformat": 4,
 "nbformat_minor": 5
}
