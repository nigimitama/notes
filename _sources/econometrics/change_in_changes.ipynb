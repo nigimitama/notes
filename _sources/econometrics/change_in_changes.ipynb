{
 "cells": [
  {
   "cell_type": "markdown",
   "id": "95efa574-8f3f-4ba5-b011-5b734d39600a",
   "metadata": {},
   "source": [
    "# Change in Changes (CIC)\n",
    "\n",
    "Athey and Imbens (2006)で提案された、Quantile Treatment Effect on the Treated (QTET) を推定する手法"
   ]
  },
  {
   "cell_type": "markdown",
   "id": "983ccf5e-b9e6-4d91-bfce-865484ad055e",
   "metadata": {},
   "source": [
    "## 実装\n",
    "\n",
    "[Change in Changes — CiC • qte](https://bcallaway11.github.io/qte/reference/CiC.html)\n"
   ]
  },
  {
   "cell_type": "code",
   "execution_count": null,
   "id": "d3ea01b2-4206-48da-9c46-47de2891b9f2",
   "metadata": {},
   "outputs": [],
   "source": []
  }
 ],
 "metadata": {
  "kernelspec": {
   "display_name": "Python 3 (ipykernel)",
   "language": "python",
   "name": "python3"
  },
  "language_info": {
   "codemirror_mode": {
    "name": "ipython",
    "version": 3
   },
   "file_extension": ".py",
   "mimetype": "text/x-python",
   "name": "python",
   "nbconvert_exporter": "python",
   "pygments_lexer": "ipython3",
   "version": "3.10.18"
  }
 },
 "nbformat": 4,
 "nbformat_minor": 5
}
