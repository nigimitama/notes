{
 "cells": [
  {
   "cell_type": "markdown",
   "id": "7a8cb95b-c48f-4b03-ae9f-df993e69ce94",
   "metadata": {},
   "source": [
    "# 参考文献\n",
    "\n",
    "- [25. 重回帰分析（脱落変数バイアス・処置後変数バイアス）](http://www.ner.takushoku-u.ac.jp/masano/class_material/waseda/keiryo/R25_reg8_OBV.html)\n"
   ]
  }
 ],
 "metadata": {
  "kernelspec": {
   "display_name": "Python 3",
   "language": "python",
   "name": "python3"
  },
  "language_info": {
   "codemirror_mode": {
    "name": "ipython",
    "version": 3
   },
   "file_extension": ".py",
   "mimetype": "text/x-python",
   "name": "python",
   "nbconvert_exporter": "python",
   "pygments_lexer": "ipython3",
   "version": "3.8.10"
  }
 },
 "nbformat": 4,
 "nbformat_minor": 5
}
