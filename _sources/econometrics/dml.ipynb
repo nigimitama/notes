{
 "cells": [
  {
   "cell_type": "markdown",
   "id": "7f1d49eb-9627-4dc1-a162-1c460adee592",
   "metadata": {},
   "source": [
    "# Double/Debiased Machine Learning\n",
    "\n",
    "- Paper: [Chernozhukov, V., Chetverikov, D., Demirer, M., Duflo, E., Hansen, C., Newey, W., & Robins, J. (2018). Double/debiased machine learning for treatment and structural parameters.](https://academic.oup.com/ectj/article/21/1/C1/5056401?login=false)\n",
    "- Python Package: [DoubleML](https://docs.doubleml.org/stable/index.html)"
   ]
  },
  {
   "cell_type": "markdown",
   "id": "d49b4121-c86b-4198-b9a5-ddfd0fe4cee6",
   "metadata": {},
   "source": [
    "## モーメント条件\n",
    "\n",
    "### OLS\n",
    "\n",
    "単回帰モデル$Y = \\alpha + \\beta X + u$のOLS推定量$\\beta$の確率極限は\n",
    "\n",
    "$$\n",
    "\\DeclareMathOperator{\\cov}{\\text{Cov}}\n",
    "\\DeclareMathOperator{\\var}{\\text{Var}}\n",
    "\\DeclareMathOperator{\\plim}{\\text{plim}}\n",
    "\\plim \\beta = \\beta + \\frac{\\cov(X, u)}{\\var(X)}\n",
    "$$\n",
    "\n",
    "となる。\n"
   ]
  },
  {
   "cell_type": "markdown",
   "id": "95631763-5f4f-49e5-b244-d4dc3f559f14",
   "metadata": {},
   "source": [
    "::::{dropdown} 証明\n",
    "$$\n",
    "\\DeclareMathOperator{\\cov}{\\text{Cov}}\n",
    "\\DeclareMathOperator{\\var}{\\text{Var}}\n",
    "\\DeclareMathOperator{\\plim}{\\text{plim}}\n",
    "\\begin{align}\n",
    "\\plim \\beta\n",
    "&= \\frac{\\cov(X, Y)}{\\var(X)}\\\\\n",
    "&= \\frac{\\cov(X, \\alpha + \\beta X + u)}{\\var(X)}\\\\\n",
    "&= \\frac{\\cov(X, \\alpha) + \\cov(X, \\beta X) + \\cov(X, u) }{\\var(X)}\\\\\n",
    "&= \\frac{\\beta \\var(X) + \\cov(X, u) }{\\var(X)}\\\\\n",
    "&= \\beta + \\frac{\\cov(X, u)}{\\var(X)}\n",
    "\\end{align}\n",
    "$$\n",
    "\n",
    "\n",
    ":::{admonition}（参考）和の共分散\n",
    "標本値、確率変数の和は、加える前の個々の共分散の和になる。すなわち、共分散においては分配法則が成り立つ。\n",
    "\n",
    "$$\n",
    "\\cov(X + Z, Y) = \\cov(X, Y) + \\cov(Z, Y)\n",
    "$$\n",
    "\n",
    "参考：[確率統計 – 分散と共分散 – TauStation](http://taustation.com/statistics-variance-and-covariance/)\n",
    ":::\n",
    "\n",
    ":::{admonition} （参考）共分散と定数\n",
    "\n",
    "$\\alpha, \\beta$は定数と考えると、\n",
    "\n",
    "$$\n",
    "\\cov(X, \\alpha)\n",
    "= E(X \\alpha) - E(X) E(\\alpha)\\\\\n",
    "= \\alpha E(X) - \\alpha E(X)\\\\\n",
    "= 0\n",
    "$$\n",
    "\n",
    "であり\n",
    "\n",
    "$$\n",
    "\\cov(X, \\beta X)\n",
    "= E(X \\beta X) - E(X) E(\\beta X)\\\\\n",
    "= \\beta E(X^2) - \\beta E(X)^2\\\\\n",
    "= \\beta \\var(X)\n",
    "$$\n",
    ":::\n",
    "::::"
   ]
  },
  {
   "cell_type": "markdown",
   "id": "ad72778c-a493-419c-b2a1-8ee7d5364e5a",
   "metadata": {},
   "source": [
    "## 部分線形モデル\n",
    "\n",
    "Partially Linear Model"
   ]
  },
  {
   "cell_type": "code",
   "execution_count": null,
   "id": "7344f7f1-b211-47de-918d-ff3d19b198b9",
   "metadata": {},
   "outputs": [],
   "source": []
  },
  {
   "cell_type": "markdown",
   "id": "9b6c768c-56e1-48ef-bb4a-e91bdfa48ec0",
   "metadata": {},
   "source": [
    "## 応用研究\n",
    "\n",
    "- CAのやつ"
   ]
  },
  {
   "cell_type": "markdown",
   "id": "d207765e-b350-440f-b8e5-51ed2675ea42",
   "metadata": {},
   "source": [
    "## 参考\n",
    "\n",
    "- 解説記事: [機械学習×計量経済学：Double/Debiased Machine Learning | Web日本評論](https://www.web-nippyo.jp/13331/)"
   ]
  },
  {
   "cell_type": "code",
   "execution_count": null,
   "id": "3365b9c1-090d-49ff-84f5-ceba4ec97f21",
   "metadata": {},
   "outputs": [],
   "source": []
  }
 ],
 "metadata": {
  "kernelspec": {
   "display_name": "Python 3 (ipykernel)",
   "language": "python",
   "name": "python3"
  },
  "language_info": {
   "codemirror_mode": {
    "name": "ipython",
    "version": 3
   },
   "file_extension": ".py",
   "mimetype": "text/x-python",
   "name": "python",
   "nbconvert_exporter": "python",
   "pygments_lexer": "ipython3",
   "version": "3.9.17"
  }
 },
 "nbformat": 4,
 "nbformat_minor": 5
}
