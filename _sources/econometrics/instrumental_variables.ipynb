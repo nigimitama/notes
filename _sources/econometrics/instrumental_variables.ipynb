{
 "cells": [
  {
   "cell_type": "markdown",
   "id": "7346c795-2f66-4f17-bae2-39141e5f0770",
   "metadata": {},
   "source": [
    "# 操作変数法"
   ]
  },
  {
   "cell_type": "code",
   "execution_count": null,
   "id": "d962712d-c3dd-4792-88a4-627a0bcdf87d",
   "metadata": {},
   "outputs": [],
   "source": []
  }
 ],
 "metadata": {
  "kernelspec": {
   "display_name": "Python 3 (ipykernel)",
   "language": "python",
   "name": "python3"
  },
  "language_info": {
   "codemirror_mode": {
    "name": "ipython",
    "version": 3
   },
   "file_extension": ".py",
   "mimetype": "text/x-python",
   "name": "python",
   "nbconvert_exporter": "python",
   "pygments_lexer": "ipython3",
   "version": "3.9.16"
  }
 },
 "nbformat": 4,
 "nbformat_minor": 5
}
