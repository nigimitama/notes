{
 "cells": [
  {
   "cell_type": "markdown",
   "id": "2540a72c-123f-4bde-85c7-ba085d552d71",
   "metadata": {},
   "source": [
    "# Bayesian IV"
   ]
  },
  {
   "cell_type": "markdown",
   "id": "4e9012b0-67e5-48bb-b018-8644caedfa70",
   "metadata": {},
   "source": [
    "[ベイジアン操作変数法でA/Bテストをしよう - Sansan Tech Blog](https://buildersbox.corp-sansan.com/entry/2024/06/06/150000)\n",
    "\n",
    "- 処置割当を操作変数としてLATEを推定したい\n",
    "- 頻度主義の信頼区間は解釈が複雑でとっつきにくい。経営陣に説明しづらい。→ベイジアン"
   ]
  },
  {
   "cell_type": "markdown",
   "id": "73a6460e-f098-4df9-ae18-7a7cbdba82be",
   "metadata": {},
   "source": [
    "関連文献\n",
    "\n",
    "- Angrist, J. D., Imbens, G. W., & Rubin, D. B. (1996). \"Identification of causal effects using instrumental variables\" Journal of the American statistical Association, 91(434), 444-455.\n",
    "- Imbens, G. W., & Rubin, D. B. (1997). \"Bayesian inference for causal effects in randomized experiments with noncompliance\". The annals of statistics, 305-327.\n",
    "- Imbens, G. W., & Rubin, D. B. (2015). Causal inference in statistics, social, and biomedical sciences. Cambridge university press."
   ]
  },
  {
   "cell_type": "code",
   "execution_count": null,
   "id": "590b9108-9a92-4ff1-8f9f-e10a020e9e54",
   "metadata": {},
   "outputs": [],
   "source": []
  }
 ],
 "metadata": {
  "kernelspec": {
   "display_name": "Python 3 (ipykernel)",
   "language": "python",
   "name": "python3"
  },
  "language_info": {
   "codemirror_mode": {
    "name": "ipython",
    "version": 3
   },
   "file_extension": ".py",
   "mimetype": "text/x-python",
   "name": "python",
   "nbconvert_exporter": "python",
   "pygments_lexer": "ipython3",
   "version": "3.10.14"
  }
 },
 "nbformat": 4,
 "nbformat_minor": 5
}
