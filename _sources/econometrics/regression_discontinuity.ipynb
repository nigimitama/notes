{
 "cells": [
  {
   "cell_type": "markdown",
   "id": "fbfbffbc-da7f-4c61-ab3b-33d8fc80248b",
   "metadata": {},
   "source": [
    "# RDD"
   ]
  },
  {
   "cell_type": "markdown",
   "id": "dea3b5ec-2c84-4c05-9673-fd4e165273ab",
   "metadata": {},
   "source": [
    "**回帰不連続デザイン**（regression discontinuity design: RDD）は、ある連続変数（running variable）上のある地点を閾値（threshold, cut off point）として処置割り当てが変わる状況を利用し、閾値の直前と直後における結果変数の差を、閾値周辺の対象における局所的な平均処置効果とするデザイン"
   ]
  },
  {
   "cell_type": "code",
   "execution_count": null,
   "id": "bb9bdddc-9dab-4458-9c8b-d5ca036394c0",
   "metadata": {},
   "outputs": [],
   "source": []
  },
  {
   "cell_type": "markdown",
   "id": "104adcc3-b1b8-425a-9f0c-ef5d94cd5f9a",
   "metadata": {},
   "source": [
    "## Interrupted Time-Series\n",
    "\n",
    "**分割時系列**（interrupted time-series）はRDDのrunning variableを時間にしたもの。\n",
    "時系列特有の変動（自己相関性など）がバイアスになりうるので考慮が必要\n",
    "\n",
    "\n",
    "例（医学系）：[Wagner, A. K., Soumerai, S. B., Zhang, F., & Ross‐Degnan, D. (2002). Segmented regression analysis of interrupted time series studies in medication use research. Journal of clinical pharmacy and therapeutics, 27(4), 299-309.](https://onlinelibrary.wiley.com/doi/10.1046/j.1365-2710.2002.00430.x/abstract;jsessionid=F03D81FDF2408F991F59B6E8BFD9606D.f01t02?systemMessage=Wiley+Online+Library+will+be+disrupted+on+16th+May+from+12%3A00-14%3A00+BST+%2807%3A00-09%3A00+EDT%29+for+up+to+two+hours+for+essential+maintenance.++Apologies+for+the+inconvenience.)\n"
   ]
  },
  {
   "cell_type": "code",
   "execution_count": null,
   "id": "f6167418-1bec-43ca-a993-d218ae6e08f0",
   "metadata": {},
   "outputs": [],
   "source": []
  }
 ],
 "metadata": {
  "kernelspec": {
   "display_name": "Python 3 (ipykernel)",
   "language": "python",
   "name": "python3"
  },
  "language_info": {
   "codemirror_mode": {
    "name": "ipython",
    "version": 3
   },
   "file_extension": ".py",
   "mimetype": "text/x-python",
   "name": "python",
   "nbconvert_exporter": "python",
   "pygments_lexer": "ipython3",
   "version": "3.9.16"
  }
 },
 "nbformat": 4,
 "nbformat_minor": 5
}
