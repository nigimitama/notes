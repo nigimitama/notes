{
 "cells": [
  {
   "cell_type": "markdown",
   "id": "c2710a88-b710-44c6-9c9c-55a9ecc6b9a1",
   "metadata": {},
   "source": [
    "# 都道府県ごとの集計データの扱い\n",
    "\n",
    "都道府県ごとの合計データを処置変数と結果変数に使う場合\n",
    "\n",
    "- 人口が交絡している\n",
    "- 係数の解釈のため、１人あたりの値にして標準化したい\n",
    "\n",
    "とい理由から、人口で割ったほうがいい\n"
   ]
  },
  {
   "cell_type": "markdown",
   "id": "b4ce8502-b640-4f17-8487-52bb16931d88",
   "metadata": {},
   "source": [
    "## 割ることが交絡のコントロールになる理由\n",
    "\n",
    "#### 欠落変数バイアス\n",
    "\n",
    "- long model: $y = \\alpha p + \\beta x + \\varepsilon$\n",
    "- short model: $y = \\beta x + \\varepsilon$\n",
    "\n",
    "$p$は$x$にも影響を与えているとする\n",
    "\n",
    "$p = \\gamma_0 + \\gamma_1 x + \\epsilon$とおいてlong modelに代入すると\n",
    "\n",
    "$$\n",
    "y = \\alpha (\\gamma_0 + \\gamma_1 x + \\epsilon) + \\beta x\\\\\n",
    "= \\alpha (\\gamma_0 + \\epsilon) + (\\alpha \\gamma_1 + \\beta) x\\\\\n",
    "$$\n",
    "\n",
    "#### 割ることがコントロールになるのはなぜか\n",
    "\n",
    "$$\n",
    "y = \\alpha p + \\beta x + \\varepsilon\n",
    "$$\n",
    "\n",
    "が\n",
    "\n",
    "$$\n",
    "\\frac{y}{p} = \\frac{\\alpha p + \\beta x + \\varepsilon}{p}\\\\\n",
    "= \\alpha + \\beta \\frac{x}{p} + \\frac{\\varepsilon}{p}\n",
    "$$\n"
   ]
  },
  {
   "cell_type": "markdown",
   "id": "6e09a1d2-1a63-476f-9ce7-f4613713a27b",
   "metadata": {},
   "source": [
    "## シミュレーション"
   ]
  },
  {
   "cell_type": "markdown",
   "id": "ba618fbd-29c0-45ee-aa37-1517a7a75a7c",
   "metadata": {},
   "source": [
    "データ生成過程を次のように、$x, y$ともに人口$p$からの影響を受けると想定する。\n",
    "\n",
    "$$\n",
    "\\begin{align}\n",
    "x &= \\alpha_x p\\\\\n",
    "y &= \\alpha_y p + \\beta x\n",
    "\\end{align}\n",
    "$$\n",
    "\n",
    "$x\\to y$の効果である$\\beta$を推定したい\n",
    "\n",
    "\n",
    "yとxをpで割った変換後の変数は次のようになる\n",
    "\n",
    "$$\n",
    "\\frac{y}{p}= \\frac{\\alpha_y p + \\beta x}{p} = \\alpha_y + \\beta \\frac{x}{p}\n",
    "$$\n",
    "\n",
    "なので、$\\beta$を推定するためには$\\dfrac{y}{p}$を$\\dfrac{x}{p}$に回帰させる必要がある"
   ]
  },
  {
   "cell_type": "markdown",
   "id": "daf70af5-9dbf-478e-a61d-ead8a3e95541",
   "metadata": {},
   "source": [
    "もしそのまま$y \\sim x$にすると\n",
    "\n",
    "$$\n",
    "\\begin{align}\n",
    "y &= \\alpha_y p + \\beta x\\\\\n",
    "&\\to y = \\alpha_y p + \\beta \\alpha_x p\\\\\n",
    "&\\to y = (\\alpha_y + \\beta \\alpha_x) p\\\\\n",
    "\\end{align}\n",
    "$$"
   ]
  },
  {
   "cell_type": "markdown",
   "id": "934dc7ee-db25-4fd5-8073-cf197ab22055",
   "metadata": {},
   "source": [
    "もし$\\dfrac{y}{p}$をそのままの$x$に回帰させると\n",
    "\n",
    "$$\n",
    "\\begin{align}\n",
    "\\frac{y}{p} &= \\alpha_y p + \\beta (\\alpha_x p)\\\\\n",
    "  &= (\\alpha_y + \\beta \\alpha_x) p\\\\\n",
    "\\end{align}\n",
    "$$\n",
    "\n",
    "となって$\\alpha_y$のぶんがバイアスに"
   ]
  },
  {
   "cell_type": "code",
   "execution_count": 18,
   "id": "72507b83-1e44-4b67-b4df-2b4c1b7e273a",
   "metadata": {},
   "outputs": [],
   "source": [
    "import numpy as np\n",
    "import pandas as pd\n",
    "\n",
    "np.random.seed(0)\n",
    "n = 1000\n",
    "populations = np.random.lognormal(mean=10, size=n).astype(int)\n",
    "alpha_x = 10\n",
    "alpha_y = 5\n",
    "beta = 3\n",
    "x = alpha_x * populations + np.random.normal(scale=1000, size=n)\n",
    "y = alpha_y * populations + beta * x + np.random.normal(scale=1000, size=n)  # xとyは微弱な相関"
   ]
  },
  {
   "cell_type": "code",
   "execution_count": 19,
   "id": "511612ec-b229-44ca-872f-b9147a26adfd",
   "metadata": {},
   "outputs": [
    {
     "data": {
      "text/html": [
       "<div>\n",
       "<style scoped>\n",
       "    .dataframe tbody tr th:only-of-type {\n",
       "        vertical-align: middle;\n",
       "    }\n",
       "\n",
       "    .dataframe tbody tr th {\n",
       "        vertical-align: top;\n",
       "    }\n",
       "\n",
       "    .dataframe thead th {\n",
       "        text-align: right;\n",
       "    }\n",
       "</style>\n",
       "<table border=\"1\" class=\"dataframe\">\n",
       "  <thead>\n",
       "    <tr style=\"text-align: right;\">\n",
       "      <th></th>\n",
       "      <th>y</th>\n",
       "      <th>x</th>\n",
       "      <th>population</th>\n",
       "      <th>ypp</th>\n",
       "      <th>xpp</th>\n",
       "    </tr>\n",
       "  </thead>\n",
       "  <tbody>\n",
       "    <tr>\n",
       "      <th>589</th>\n",
       "      <td>4.027881e+04</td>\n",
       "      <td>1.102808e+04</td>\n",
       "      <td>1047</td>\n",
       "      <td>38.470685</td>\n",
       "      <td>10.533029</td>\n",
       "    </tr>\n",
       "    <tr>\n",
       "      <th>685</th>\n",
       "      <td>4.572945e+04</td>\n",
       "      <td>1.284439e+04</td>\n",
       "      <td>1293</td>\n",
       "      <td>35.366936</td>\n",
       "      <td>9.933786</td>\n",
       "    </tr>\n",
       "    <tr>\n",
       "      <th>271</th>\n",
       "      <td>5.229187e+04</td>\n",
       "      <td>1.516537e+04</td>\n",
       "      <td>1376</td>\n",
       "      <td>38.002815</td>\n",
       "      <td>11.021341</td>\n",
       "    </tr>\n",
       "    <tr>\n",
       "      <th>427</th>\n",
       "      <td>5.349774e+04</td>\n",
       "      <td>1.519857e+04</td>\n",
       "      <td>1422</td>\n",
       "      <td>37.621479</td>\n",
       "      <td>10.688163</td>\n",
       "    </tr>\n",
       "    <tr>\n",
       "      <th>334</th>\n",
       "      <td>5.234335e+04</td>\n",
       "      <td>1.479737e+04</td>\n",
       "      <td>1541</td>\n",
       "      <td>33.967129</td>\n",
       "      <td>9.602449</td>\n",
       "    </tr>\n",
       "    <tr>\n",
       "      <th>...</th>\n",
       "      <td>...</td>\n",
       "      <td>...</td>\n",
       "      <td>...</td>\n",
       "      <td>...</td>\n",
       "      <td>...</td>\n",
       "    </tr>\n",
       "    <tr>\n",
       "      <th>465</th>\n",
       "      <td>8.600487e+06</td>\n",
       "      <td>2.457784e+06</td>\n",
       "      <td>245844</td>\n",
       "      <td>34.983513</td>\n",
       "      <td>9.997333</td>\n",
       "    </tr>\n",
       "    <tr>\n",
       "      <th>734</th>\n",
       "      <td>9.365887e+06</td>\n",
       "      <td>2.676012e+06</td>\n",
       "      <td>267587</td>\n",
       "      <td>35.001279</td>\n",
       "      <td>10.000530</td>\n",
       "    </tr>\n",
       "    <tr>\n",
       "      <th>898</th>\n",
       "      <td>1.032228e+07</td>\n",
       "      <td>2.949389e+06</td>\n",
       "      <td>294909</td>\n",
       "      <td>35.001583</td>\n",
       "      <td>10.001013</td>\n",
       "    </tr>\n",
       "    <tr>\n",
       "      <th>494</th>\n",
       "      <td>1.142114e+07</td>\n",
       "      <td>3.262962e+06</td>\n",
       "      <td>326512</td>\n",
       "      <td>34.979244</td>\n",
       "      <td>9.993391</td>\n",
       "    </tr>\n",
       "    <tr>\n",
       "      <th>943</th>\n",
       "      <td>1.217241e+07</td>\n",
       "      <td>3.477542e+06</td>\n",
       "      <td>347790</td>\n",
       "      <td>34.999321</td>\n",
       "      <td>9.998972</td>\n",
       "    </tr>\n",
       "  </tbody>\n",
       "</table>\n",
       "<p>1000 rows × 5 columns</p>\n",
       "</div>"
      ],
      "text/plain": [
       "                y             x  population        ypp        xpp\n",
       "589  4.027881e+04  1.102808e+04        1047  38.470685  10.533029\n",
       "685  4.572945e+04  1.284439e+04        1293  35.366936   9.933786\n",
       "271  5.229187e+04  1.516537e+04        1376  38.002815  11.021341\n",
       "427  5.349774e+04  1.519857e+04        1422  37.621479  10.688163\n",
       "334  5.234335e+04  1.479737e+04        1541  33.967129   9.602449\n",
       "..            ...           ...         ...        ...        ...\n",
       "465  8.600487e+06  2.457784e+06      245844  34.983513   9.997333\n",
       "734  9.365887e+06  2.676012e+06      267587  35.001279  10.000530\n",
       "898  1.032228e+07  2.949389e+06      294909  35.001583  10.001013\n",
       "494  1.142114e+07  3.262962e+06      326512  34.979244   9.993391\n",
       "943  1.217241e+07  3.477542e+06      347790  34.999321   9.998972\n",
       "\n",
       "[1000 rows x 5 columns]"
      ]
     },
     "execution_count": 19,
     "metadata": {},
     "output_type": "execute_result"
    }
   ],
   "source": [
    "df = pd.DataFrame(dict(y=y, x=x, population=populations)).sort_values(\"population\").assign(\n",
    "    # 人口あたりのy, xを計算する\n",
    "    ypp = lambda self: self.y / self.population,\n",
    "    xpp = lambda self: self.x / self.population,\n",
    ")\n",
    "df"
   ]
  },
  {
   "cell_type": "markdown",
   "id": "db9417e3-1ad5-4c06-99f5-225c27fa1935",
   "metadata": {},
   "source": [
    "yppとxppの相関が弱いことから、\n",
    "xとyの相関はpopulationによる交絡の影響を受けていることがわかる"
   ]
  },
  {
   "cell_type": "code",
   "execution_count": 20,
   "id": "6c9811cf-bb0d-400c-bcce-1885b3aa574e",
   "metadata": {},
   "outputs": [
    {
     "data": {
      "text/plain": [
       "<AxesSubplot:xlabel='xpp', ylabel='ypp'>"
      ]
     },
     "execution_count": 20,
     "metadata": {},
     "output_type": "execute_result"
    },
    {
     "data": {
      "image/png": "[encoded data removed]",
      "text/plain": [
       "<Figure size 2000x300 with 4 Axes>"
      ]
     },
     "metadata": {},
     "output_type": "display_data"
    }
   ],
   "source": [
    "import matplotlib.pyplot as plt\n",
    "fix, axes = plt.subplots(ncols=4, figsize=[20, 3])\n",
    "df.plot.scatter(x=\"x\", y=\"y\", ax=axes[0])\n",
    "df.plot.scatter(x=\"population\", y=\"y\", ax=axes[1])\n",
    "df.plot.scatter(x=\"x\", y=\"ypp\", ax=axes[2])  # 線形性が満たされないのでそれによるバイアスが入りそう\n",
    "df.plot.scatter(x=\"xpp\", y=\"ypp\", ax=axes[3])"
   ]
  },
  {
   "cell_type": "markdown",
   "id": "fc57a369-6300-4108-ad80-a5a5929de218",
   "metadata": {},
   "source": [
    "しかし、可能なら`ypp ~ xpp`よりも`y ~ x + population`のほうが良い気がする"
   ]
  },
  {
   "cell_type": "code",
   "execution_count": 21,
   "id": "1c8e20f3-0a0f-473c-a09a-9d1f98433b82",
   "metadata": {},
   "outputs": [
    {
     "data": {
      "text/html": [
       "<table style=\"text-align:center\"><tr><td colspan=\"5\" style=\"border-bottom: 1px solid black\"></td></tr><tr><td style=\"text-align:left\"></td><tr><td style=\"text-align:left\"></td><td>(1)</td><td>(2)</td><td>(3)</td><td>(4)</td></tr><tr><td colspan=\"5\" style=\"border-bottom: 1px solid black\"></td></tr><tr><td style=\"text-align:left\">Intercept</td><td>-4.822<sup></sup></td><td>8.424<sup></sup></td><td>35.015<sup>***</sup></td><td>4.770<sup>***</sup></td></tr><tr><td style=\"text-align:left\"></td><td>(44.043)</td><td>(39.255)</td><td>(0.015)</td><td>(0.353)</td></tr><tr><td style=\"text-align:left\">population</td><td></td><td>5.018<sup>***</sup></td><td></td><td></td></tr><tr><td style=\"text-align:left\"></td><td></td><td>(0.311)</td><td></td><td></td></tr><tr><td style=\"text-align:left\">x</td><td>3.500<sup>***</sup></td><td>2.998<sup>***</sup></td><td>-0.000<sup></sup></td><td></td></tr><tr><td style=\"text-align:left\"></td><td>(0.000)</td><td>(0.031)</td><td>(0.000)</td><td></td></tr><tr><td style=\"text-align:left\">xpp</td><td></td><td></td><td></td><td>3.023<sup>***</sup></td></tr><tr><td style=\"text-align:left\"></td><td></td><td></td><td></td><td>(0.035)</td></tr><td colspan=\"5\" style=\"border-bottom: 1px solid black\"></td></tr><tr><td style=\"text-align: left\">Observations</td><td>1,000</td><td>1,000</td><td>1,000</td><td>1,000</td></tr><tr><td style=\"text-align: left\">R<sup>2</sup></td><td>1.000</td><td>1.000</td><td>0.000</td><td>0.880</td></tr><tr><td style=\"text-align: left\">Adjusted R<sup>2</sup></td><td>1.000</td><td>1.000</td><td>-0.001</td><td>0.880</td></tr><tr><td style=\"text-align: left\">Residual Std. Error</td><td>1069.341 (df=998)</td><td>952.868 (df=997)</td><td>0.355 (df=998)</td><td>0.123 (df=998)</td></tr><tr><td style=\"text-align: left\">F Statistic</td><td>1807006196.962<sup>***</sup> (df=1; 998)</td><td>1137878510.003<sup>***</sup> (df=2; 997)</td><td>0.416<sup></sup> (df=1; 998)</td><td>7331.687<sup>***</sup> (df=1; 998)</td></tr><tr><td colspan=\"5\" style=\"border-bottom: 1px solid black\"></td></tr><tr><td style=\"text-align: left\">Note:</td>\n",
       " <td colspan=\"4\" style=\"text-align: right\">\n",
       "  <sup>*</sup>p&lt;0.1;\n",
       "  <sup>**</sup>p&lt;0.05;\n",
       "  <sup>***</sup>p&lt;0.01\n",
       " </td></tr></table>"
      ],
      "text/plain": [
       "<stargazer.stargazer.Stargazer at 0x7fa0ab67cfd0>"
      ]
     },
     "execution_count": 21,
     "metadata": {},
     "output_type": "execute_result"
    }
   ],
   "source": [
    "import statsmodels.formula.api as smf\n",
    "from stargazer.stargazer import Stargazer\n",
    "\n",
    "Stargazer([\n",
    "    smf.ols(\"y ~ x\", data=df).fit(),\n",
    "    smf.ols(\"y ~ x + population\", data=df).fit(),\n",
    "    smf.ols(\"ypp ~ x\", data=df).fit(),\n",
    "    smf.ols(\"ypp ~ xpp\", data=df).fit(),\n",
    "])"
   ]
  },
  {
   "cell_type": "code",
   "execution_count": null,
   "id": "221ec791-f094-4498-8d6f-0c30ec0ba451",
   "metadata": {},
   "outputs": [],
   "source": []
  }
 ],
 "metadata": {
  "kernelspec": {
   "display_name": "Python 3 (ipykernel)",
   "language": "python",
   "name": "python3"
  },
  "language_info": {
   "codemirror_mode": {
    "name": "ipython",
    "version": 3
   },
   "file_extension": ".py",
   "mimetype": "text/x-python",
   "name": "python",
   "nbconvert_exporter": "python",
   "pygments_lexer": "ipython3",
   "version": "3.9.16"
  }
 },
 "nbformat": 4,
 "nbformat_minor": 5
}
