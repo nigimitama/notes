{
 "cells": [
  {
   "cell_type": "markdown",
   "id": "7993226a-5ee8-43ba-a365-e5c92ba79390",
   "metadata": {},
   "source": [
    "# なぜ共変量をモデルに入れるのか\n",
    "\n",
    "なぜ交絡調整するのか？\n",
    "\n",
    "なぜ共変量を入れると交絡によるバイアスが削減できるのか？"
   ]
  },
  {
   "cell_type": "markdown",
   "id": "2c58800c-4eca-4970-a319-3574a65daf68",
   "metadata": {},
   "source": [
    "## 因果推論的な説明\n",
    "\n",
    "強く無視できる割当条件（条件付き独立性）を満たして、相関=因果の状態に持っていくため\n"
   ]
  },
  {
   "cell_type": "markdown",
   "id": "eb692d52-0125-474e-baa7-20554365e8c2",
   "metadata": {},
   "source": [
    "例えば、「チョコレートを多く消費する国ほどノーベル賞の受賞率が高い」という相関があったとき、「チョコレートの国民1人あたりの年間消費量が5kg以上である」を処置$D\\in\\{0,1\\}$として、「ノーベル賞の国民1000万人あたりの受賞者数」を結果$Y\\in\\mathbb{R}$とした因果効果を調べたいとする。\n",
    "\n",
    "### ナイーブな推定量\n",
    "\n",
    "処置群と対照群の結果の平均を単純に比較するナイーブな処置効果の推定量$\\tau_{naive}$は\n",
    "\n",
    "$$\n",
    "\\tau_{naive}\n",
    "= E[Y(1)|D = 1] - E[Y(0)|D = 0]\n",
    "$$\n",
    "\n",
    "となる。これは$E[Y(0)|D = 1]$を足して引くと\n",
    "\n",
    "$$\n",
    "\\begin{align}\n",
    "\\tau_{naive}\n",
    "&= E[Y(1)|D = 1] - E[Y(0)|D = 0]\\\\\n",
    "&= E[Y(1)|D = 1] - E[Y(0)|D = 1] + E[Y(0)|D = 1] - E[Y(0)|D = 0]\\\\\n",
    "&= \\underbrace{E[Y(1) - Y(0)|D = 1]}_{\\text{ATT}}\n",
    "  + \\underbrace{E[Y(0)|D = 1] - E[Y(0)|D = 0]}_{\\text{Selection Bias}}\\\\\n",
    "\\end{align}\n",
    "$$\n",
    "\n",
    "となり、セレクションバイアス$E[Y(0)|D = 1] - E[Y(0)|D = 0]$が含まれるので、これがゼロとならなければ$\\tau_{naive}$と$ATT$は一致しない。\n",
    "\n",
    "セレクションバイアスは、「処置群が仮に処置を受けなかったとした場合の結果の期待値$E[Y(0)|D = 1]$」と「対照群が処置を受けなかった場合の期待値$E[Y(0)|D = 0]$」の差\n",
    "\n",
    "→ 処置群と対照群の性質の差があるとこれがゼロにならない。例えば、「1人あたりGDPが高い（裕福な国）ほどチョコレートの消費量が多い」など。"
   ]
  },
  {
   "cell_type": "markdown",
   "id": "5058035c-f5bc-4d09-898a-15b3d199153e",
   "metadata": {},
   "source": [
    "\n",
    "### 無作為割当の場合\n",
    "\n",
    "もし処置の割当$D$が無作為（ランダム）であれば潜在的結果$Y(0), Y(1)$とは独立\n",
    "\n",
    "$$\n",
    "\\newcommand{\\indep}{\\mathop{\\hspace{0.1em} \\perp\\!\\!\\!\\perp \\hspace{0.1em}}}\n",
    "(Y(0), Y(1)) \\indep D\n",
    "$$\n",
    "\n",
    "\n",
    "となり\n",
    "\n",
    "$$\n",
    "E[Y(0)| D = 0] = E[Y(0)]\\\\\n",
    "E[Y(1)| D = 1] = E[Y(1)]\n",
    "$$\n",
    "\n",
    "になるため、ナイーブな推定量が$ATE = E[Y(1)] - E[Y(0)]$の推定量となる。"
   ]
  },
  {
   "cell_type": "markdown",
   "id": "70fc388f-5b8f-4d8c-b6c5-6b1839d30901",
   "metadata": {
    "jp-MarkdownHeadingCollapsed": true,
    "tags": []
   },
   "source": [
    ":::{admonition} 強く無視できる割り当て条件\n",
    "\n",
    "共変量$\\boldsymbol{X}$を条件付けた下での処置割当$D$と結果$Y(0), Y(1)$の独立（**条件付き独立** conditional independence）\n",
    "\n",
    "$$\n",
    "\\newcommand{\\indep}{\\mathop{\\hspace{0.1em} \\perp\\!\\!\\!\\perp \\hspace{0.1em}}}\n",
    "(Y(0), Y(1)) \\indep D | \\boldsymbol{X}\n",
    "$$\n",
    "\n",
    "を**強く無視できる割り当て**（strongly ignorable treatment assignment）条件という。\n",
    "\n",
    "この条件が成立するとき、**平均での独立性**（mean independence）\n",
    "\n",
    "$$\n",
    "E[Y|D=0, \\boldsymbol{X}] = E[Y(0)|D, \\boldsymbol{X}] = E[Y(0)|\\boldsymbol{X}]\\\\\n",
    "E[Y|D=1, \\boldsymbol{X}] = E[Y(1)|D, \\boldsymbol{X}] = E[Y(1)|\\boldsymbol{X}]\n",
    "$$\n",
    "\n",
    "が成立する。\n",
    "\n",
    "そこから共変量について期待値をとればATEが推定できる\n",
    "\n",
    "$$\n",
    "E_{\\boldsymbol{X}} [ E[Y(1) - Y(0)|\\boldsymbol{X}] ] = E[Y(1) - Y(0)]\n",
    "$$\n",
    ":::"
   ]
  },
  {
   "cell_type": "markdown",
   "id": "ca3bde68-0661-4869-8c2e-48aa531f12a4",
   "metadata": {},
   "source": [
    "## 数理統計学的な説明"
   ]
  },
  {
   "cell_type": "markdown",
   "id": "97faa55b-9dd9-4651-9d3c-899c230fb07f",
   "metadata": {},
   "source": [
    "（回帰分析の場合）回帰係数の推定量が母回帰係数の一致推定量になるためには外生性を満たす必要があるため\n",
    "\n",
    "例えば、線形回帰モデルで、処置$D$、共変量$X$を使った\n",
    "\n",
    "$$\n",
    "Y = \\gamma_0 + \\gamma_1 D + \\gamma_2 X + u\n",
    "$$\n",
    "\n",
    "と、同じデータを処置のみの単回帰にした\n",
    "\n",
    "$$\n",
    "Y = \\delta_0 + \\delta_1 D + v\n",
    "$$\n",
    "\n",
    "とで比べたとき、両辺の期待値をとって切片項について解いた\n",
    "\n",
    "$$\n",
    "E[Y] = \\delta_0 + \\delta_1 E[D] + E[v]\\\\\n",
    "\\to \\delta_0 = E[Y] - \\delta_1 E[D] - E[v]\\\\\n",
    "$$\n",
    "\n",
    "を代入し\n",
    "\n",
    "$$\n",
    "Y = \\delta_0 + \\delta_1 D + v\\\\\n",
    "\\to Y = E[Y] - \\delta_1 E[D] - E[v] + \\delta_1 D + v\\\\\n",
    "\\to Y - E[Y] = \\delta_1 (D - E[D])+ v - E[v]\\\\\n",
    "$$\n",
    "\n",
    "の両辺に$D$を乗じて期待値をとると\n",
    "\n",
    "$$\n",
    "\\underbrace{ E[D( Y - E[Y])] }_{ =E[DY] - E[D]E[Y] \\\\ =Cov(D, Y)}\n",
    "= \\delta_1 \\underbrace{ E[D(D - E[D])] }_{ =E[D^2] - E[D]^2 \\\\ = Var(D) }\n",
    "+ \\underbrace{ E[D(v - E[v])] }_{ =E[Dv] - E[D]E[v] \\\\ = Cov(D, v) }\\\\\n",
    "\\to \\delta_1 = \\frac{ Cov(D, Y)}{ Var(D) } - \\frac{ Cov(D, v) }{ Var(D) }\n",
    "$$\n"
   ]
  },
  {
   "cell_type": "code",
   "execution_count": null,
   "id": "d133a27e-7ea2-4701-908a-4d93b07cfdd3",
   "metadata": {},
   "outputs": [],
   "source": []
  }
 ],
 "metadata": {
  "kernelspec": {
   "display_name": "Python 3 (ipykernel)",
   "language": "python",
   "name": "python3"
  },
  "language_info": {
   "codemirror_mode": {
    "name": "ipython",
    "version": 3
   },
   "file_extension": ".py",
   "mimetype": "text/x-python",
   "name": "python",
   "nbconvert_exporter": "python",
   "pygments_lexer": "ipython3",
   "version": "3.10.13"
  }
 },
 "nbformat": 4,
 "nbformat_minor": 5
}
