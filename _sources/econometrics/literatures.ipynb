{
 "cells": [
  {
   "cell_type": "markdown",
   "id": "ce29d796-f7fa-4969-b07c-8b9edba84089",
   "metadata": {},
   "source": [
    "# よさそうな文献・サイト"
   ]
  },
  {
   "cell_type": "markdown",
   "id": "6df70520-8730-4d7b-8942-28385bfcc064",
   "metadata": {},
   "source": [
    "#### [CausalML Book](https://causalml-book.org/)\n",
    "\n",
    "Victor Chernozhukovらによる 機械学習 ✕ 因果推論 の教科書"
   ]
  },
  {
   "cell_type": "markdown",
   "id": "df406f18-5213-4e6c-9db8-c6dd67057742",
   "metadata": {},
   "source": [
    "#### [Causal Inference The Mixtape](https://mixtape.scunning.com/)\n",
    "\n",
    "因果推論の総合的な資料。日本語訳あり"
   ]
  },
  {
   "cell_type": "markdown",
   "id": "ddc098a3-2e38-4712-92bc-8f15311c59a3",
   "metadata": {},
   "source": [
    "#### [Ding, P. (2024). A first course in causal inference. CRC Press.](https://arxiv.org/pdf/2305.18793)\n",
    "\n",
    "総合的な因果推論の講義資料"
   ]
  },
  {
   "cell_type": "markdown",
   "id": "8fc34463-8424-43ef-bf4e-3e72f33e7e40",
   "metadata": {},
   "source": [
    "#### 講義資料\n",
    "\n",
    "[OKUI, Ryo - 授業 (teaching)](https://sites.google.com/site/okuiryoeconomics/%E6%8E%88%E6%A5%AD-teaching)\n",
    "- 東京大学経済学研究科 因果推論 講義スライド\n"
   ]
  }
 ],
 "metadata": {
  "kernelspec": {
   "display_name": "Python 3 (ipykernel)",
   "language": "python",
   "name": "python3"
  },
  "language_info": {
   "codemirror_mode": {
    "name": "ipython",
    "version": 3
   },
   "file_extension": ".py",
   "mimetype": "text/x-python",
   "name": "python",
   "nbconvert_exporter": "python",
   "pygments_lexer": "ipython3",
   "version": "3.10.18"
  }
 },
 "nbformat": 4,
 "nbformat_minor": 5
}
