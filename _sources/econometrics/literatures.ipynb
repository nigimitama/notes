{
 "cells": [
  {
   "cell_type": "markdown",
   "id": "ce29d796-f7fa-4969-b07c-8b9edba84089",
   "metadata": {},
   "source": [
    "# よさそうな文献・サイト"
   ]
  },
  {
   "cell_type": "markdown",
   "id": "8fc34463-8424-43ef-bf4e-3e72f33e7e40",
   "metadata": {},
   "source": [
    "[OKUI, Ryo - 授業 (teaching)](https://sites.google.com/site/okuiryoeconomics/%E6%8E%88%E6%A5%AD-teaching)"
   ]
  },
  {
   "cell_type": "code",
   "execution_count": null,
   "id": "01357487-1d55-4f82-a71a-d6e7ed575192",
   "metadata": {},
   "outputs": [],
   "source": []
  }
 ],
 "metadata": {
  "kernelspec": {
   "display_name": "Python 3 (ipykernel)",
   "language": "python",
   "name": "python3"
  },
  "language_info": {
   "codemirror_mode": {
    "name": "ipython",
    "version": 3
   },
   "file_extension": ".py",
   "mimetype": "text/x-python",
   "name": "python",
   "nbconvert_exporter": "python",
   "pygments_lexer": "ipython3",
   "version": "3.9.18"
  }
 },
 "nbformat": 4,
 "nbformat_minor": 5
}
