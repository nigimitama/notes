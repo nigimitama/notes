{
 "cells": [
  {
   "cell_type": "markdown",
   "id": "4034accb-98f7-4eab-85e9-91f928faf3f4",
   "metadata": {},
   "source": [
    "# 感度分析\n",
    "\n",
    "**感度分析（sensitivity analysis）** は、回帰分析や傾向スコアなど「すべての交絡因子は統制できている」という仮定をおく手法を使う際の分析結果の頑健性を確認するための手法。\n",
    "\n",
    "「もし未観測の交絡因子が存在した場合、因果効果の推定値がどの範囲で変化するか」を調べる。"
   ]
  },
  {
   "cell_type": "markdown",
   "id": "53b03762-01a0-44cf-b1c2-c2162ff90cde",
   "metadata": {},
   "source": [
    ":::{tableofcontents}\n",
    ":::"
   ]
  }
 ],
 "metadata": {
  "kernelspec": {
   "display_name": "Python 3 (ipykernel)",
   "language": "python",
   "name": "python3"
  },
  "language_info": {
   "codemirror_mode": {
    "name": "ipython",
    "version": 3
   },
   "file_extension": ".py",
   "mimetype": "text/x-python",
   "name": "python",
   "nbconvert_exporter": "python",
   "pygments_lexer": "ipython3",
   "version": "3.10.18"
  }
 },
 "nbformat": 4,
 "nbformat_minor": 5
}
