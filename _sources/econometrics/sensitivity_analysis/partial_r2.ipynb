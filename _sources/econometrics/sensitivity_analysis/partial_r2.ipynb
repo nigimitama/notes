{
 "cells": [
  {
   "cell_type": "markdown",
   "id": "b05171f7-2bc8-4fc4-a18b-6a2dd92b0cc5",
   "metadata": {},
   "source": [
    "# 部分決定係数（partial R2）\n",
    "\n",
    "Partial $R^2$ （偏決定係数、部分決定係数、偏重相関 などと呼ばれる）は Rosenbaum (2002) の改良として Imbens (2003)が提案した、未観測の交絡因子の強さを把握する手法。\n"
   ]
  },
  {
   "cell_type": "markdown",
   "id": "c74cd950-a59d-4aca-9f10-fa15b6742d3f",
   "metadata": {},
   "source": [
    "結果$Y$、処置$T$、未観測の交絡因子$U$それぞれに分布型を仮定してパラメトリックモデルを構築する。\n",
    "\n",
    "### 1. 未観測の交絡因子$U$のモデル\n",
    "\n",
    "未観測の交絡因子$U$は確率0.5のベルヌーイ分布に従うとする。つまり未観測の交絡因子が影響する/しないの値${1,0}$が$1/2$の確率で決まるとする。\n",
    "\n",
    "$$\n",
    "U_i \\stackrel{\\text { ind }}{\\sim} \\operatorname{Bern} \\left(\\frac{1}{2} \\right)\n",
    "$$\n",
    "\n",
    "### 2. 処置変数$T$のモデル\n",
    "\n",
    "処置$T$は二値変数で、ロジスティック回帰モデルで表現できると仮定する。観測済みの共変量$X$だけでなく、未観測の交絡$U$も影響するとして、処置$T$へ$\\alpha$倍の強さで影響すると仮定する。\n",
    "\n",
    "$$\n",
    "T_i \\mid X_i, U_i \\stackrel{\\text { ind }}{\\sim} \\operatorname{Bern}\\left(\\operatorname{sigmoid}\\left(\\gamma X_i+\\alpha U_i\\right)\\right)\n",
    "$$\n",
    "\n",
    "別の書き方をすれば\n",
    "\n",
    "$$\n",
    "P(T_i = 1 \\mid X_i, U_i) = \\frac{ 1 }{ 1 + \\exp( -(\\gamma X_i + \\alpha U_i) )}\n",
    "$$\n",
    "\n",
    "### 3. 結果変数$Y$のモデル\n",
    "\n",
    "結果$Y$と他の変数との関係には正規線形回帰モデルを仮定する。未観測の交絡$U$は結果$Y$へ$\\delta$倍の強さで影響すると仮定する。\n",
    "\n",
    "$$\n",
    "Y_i \\mid X_i, T_i, U_i \\stackrel{\\text { ind }}{\\sim} \\mathcal{N}\\left(\\tau T_i+\\beta X_i+\\delta U_i, \\sigma^2\\right)\n",
    "$$\n",
    "\n",
    "別の書き方をすれば\n",
    "\n",
    "$$\n",
    "Y_i = \\tau T_i + \\beta X_i + \\delta U_i + \\varepsilon_i, \\quad \\varepsilon_i \\sim \\mathcal{N}(0, \\sigma^2)\n",
    "$$\n",
    "\n",
    "となる。\n"
   ]
  },
  {
   "cell_type": "markdown",
   "id": "17187089-2ab1-4bd4-b385-ece2949f7751",
   "metadata": {},
   "source": [
    "### 考え方\n",
    "\n",
    "$U$は未観測だが、$\\alpha, \\delta$をなんらかの値に固定すれば、他のパラメータは最尤推定できる。したがって、$\\alpha, \\delta$をさまざまな値に変えたもとでの推定を行うことで、\n",
    "\n",
    "1. 未観測の交絡因子が割当や結果変数にどれくらい影響力があるか\n",
    "2. 因果効果の推定値$\\tau$がどの程度変化するか\n",
    "\n",
    "を推定することができる"
   ]
  },
  {
   "cell_type": "markdown",
   "id": "5bc5f526-b897-4ebd-9917-65459da6d175",
   "metadata": {},
   "source": [
    "### 部分決定係数\n",
    "\n",
    ":::{admonition} 部分決定係数\n",
    "\n",
    "$Y$の部分決定係数$R^2_{Y, par}(\\alpha, \\delta)$は次のように定義される\n",
    "\n",
    "$$\n",
    "R^2_{Y, par}(\\alpha, \\delta)\n",
    "= 1 - \\frac{ \\text{RSS}_{\\text{full}} }{ \\text{RSS}_{\\text{reduced}} }\n",
    "$$\n",
    "\n",
    "- $\\text{RSS}_{\\text{full}}$：$U$を含むモデルの残差平方和\n",
    "- $\\text{RSS}_{\\text{reduced}}$：$U$を含まない、観測した変数のみのモデルの残差平方和\n",
    "\n",
    ":::\n",
    "\n",
    "直感的な解釈としては「$U$を追加したことで説明できた部分がどれだけあるか」。$U$を追加して$\\text{full}$モデルの説明力が$\\text{reduced}$モデルより高くなれば、 $\\text{RSS}_{\\text{full}} < \\text{RSS}_{\\text{reduced}}$ になる。\n",
    "\n",
    "なので、\n",
    "\n",
    "- 未観測の交絡因子$U$の影響が **多い** 場合、$\\text{RSS}_{\\text{full}} < \\text{RSS}_{\\text{reduced}}$になり$R^2_{Y, par}(\\alpha, \\delta)$は **1に近づく**\n",
    "- 未観測の交絡因子$U$の影響が **少ない** 場合、$\\text{RSS}_{\\text{full}} \\approx \\text{RSS}_{\\text{reduced}}$になり$R^2_{Y, par}(\\alpha, \\delta)$は **0に近づく** \n",
    "\n",
    "ということになる。\n",
    "\n",
    "→ ⚠️通常の決定係数は1に近いほどいいが、 **部分決定係数は0に近いほどよい** ことになる点に注意。\n"
   ]
  },
  {
   "cell_type": "markdown",
   "id": "67cd9503-ffad-4ec7-a3a6-1f3d31b9facd",
   "metadata": {},
   "source": [
    "### 実装\n",
    "\n",
    "PySensemakrパッケージが便利。\n",
    "\n",
    ":::{card}\n",
    "[PySensemakr: Sensitivity Analysis Tools for Regression Models in Python](https://pysensemakr.readthedocs.io/en/latest/)\n",
    ":::"
   ]
  },
  {
   "cell_type": "code",
   "execution_count": 4,
   "id": "d28d60ea-3f78-4843-b5e5-c4485ae80dbf",
   "metadata": {
    "collapsed": true,
    "editable": true,
    "jupyter": {
     "outputs_hidden": true
    },
    "slideshow": {
     "slide_type": ""
    },
    "tags": [
     "remove-output"
    ]
   },
   "outputs": [
    {
     "name": "stdout",
     "output_type": "stream",
     "text": [
      "Requirement already satisfied: PySensemakr in /usr/local/lib/python3.10/site-packages (0.0.8)\n",
      "Requirement already satisfied: pandas in /usr/local/lib/python3.10/site-packages (from PySensemakr) (2.3.2)\n",
      "Requirement already satisfied: statsmodels in /usr/local/lib/python3.10/site-packages (from PySensemakr) (0.14.5)\n",
      "Requirement already satisfied: scipy in /usr/local/lib/python3.10/site-packages (from PySensemakr) (1.15.3)\n",
      "Requirement already satisfied: numpy in /usr/local/lib/python3.10/site-packages (from PySensemakr) (2.2.6)\n",
      "Requirement already satisfied: jupyter in /usr/local/lib/python3.10/site-packages (from PySensemakr) (1.1.1)\n",
      "Requirement already satisfied: matplotlib in /usr/local/lib/python3.10/site-packages (from PySensemakr) (3.10.6)\n",
      "Requirement already satisfied: ipykernel in /usr/local/lib/python3.10/site-packages (from jupyter->PySensemakr) (6.29.5)\n",
      "Requirement already satisfied: nbconvert in /usr/local/lib/python3.10/site-packages (from jupyter->PySensemakr) (7.16.6)\n",
      "Requirement already satisfied: jupyter-console in /usr/local/lib/python3.10/site-packages (from jupyter->PySensemakr) (6.6.3)\n",
      "Requirement already satisfied: notebook in /usr/local/lib/python3.10/site-packages (from jupyter->PySensemakr) (6.5.7)\n",
      "Requirement already satisfied: jupyterlab in /usr/local/lib/python3.10/site-packages (from jupyter->PySensemakr) (3.6.8)\n",
      "Requirement already satisfied: ipywidgets in /usr/local/lib/python3.10/site-packages (from jupyter->PySensemakr) (8.1.7)\n",
      "Requirement already satisfied: pillow>=8 in /usr/local/lib/python3.10/site-packages (from matplotlib->PySensemakr) (11.3.0)\n",
      "Requirement already satisfied: fonttools>=4.22.0 in /usr/local/lib/python3.10/site-packages (from matplotlib->PySensemakr) (4.59.2)\n",
      "Requirement already satisfied: packaging>=20.0 in /usr/local/lib/python3.10/site-packages (from matplotlib->PySensemakr) (25.0)\n",
      "Requirement already satisfied: pyparsing>=2.3.1 in /usr/local/lib/python3.10/site-packages (from matplotlib->PySensemakr) (3.2.3)\n",
      "Requirement already satisfied: kiwisolver>=1.3.1 in /usr/local/lib/python3.10/site-packages (from matplotlib->PySensemakr) (1.4.9)\n",
      "Requirement already satisfied: python-dateutil>=2.7 in /usr/local/lib/python3.10/site-packages (from matplotlib->PySensemakr) (2.9.0.post0)\n",
      "Requirement already satisfied: cycler>=0.10 in /usr/local/lib/python3.10/site-packages (from matplotlib->PySensemakr) (0.12.1)\n",
      "Requirement already satisfied: contourpy>=1.0.1 in /usr/local/lib/python3.10/site-packages (from matplotlib->PySensemakr) (1.3.2)\n",
      "Requirement already satisfied: tzdata>=2022.7 in /usr/local/lib/python3.10/site-packages (from pandas->PySensemakr) (2025.2)\n",
      "Requirement already satisfied: pytz>=2020.1 in /usr/local/lib/python3.10/site-packages (from pandas->PySensemakr) (2025.2)\n",
      "Requirement already satisfied: patsy>=0.5.6 in /usr/local/lib/python3.10/site-packages (from statsmodels->PySensemakr) (1.0.1)\n",
      "Requirement already satisfied: six>=1.5 in /usr/local/lib/python3.10/site-packages (from python-dateutil>=2.7->matplotlib->PySensemakr) (1.17.0)\n",
      "Requirement already satisfied: comm>=0.1.1 in /usr/local/lib/python3.10/site-packages (from ipykernel->jupyter->PySensemakr) (0.2.3)\n",
      "Requirement already satisfied: jupyter-client>=6.1.12 in /usr/local/lib/python3.10/site-packages (from ipykernel->jupyter->PySensemakr) (7.4.9)\n",
      "Requirement already satisfied: ipython>=7.23.1 in /usr/local/lib/python3.10/site-packages (from ipykernel->jupyter->PySensemakr) (8.37.0)\n",
      "Requirement already satisfied: debugpy>=1.6.5 in /usr/local/lib/python3.10/site-packages (from ipykernel->jupyter->PySensemakr) (1.8.16)\n",
      "Requirement already satisfied: pyzmq>=24 in /usr/local/lib/python3.10/site-packages (from ipykernel->jupyter->PySensemakr) (27.0.2)\n",
      "Requirement already satisfied: nest-asyncio in /usr/local/lib/python3.10/site-packages (from ipykernel->jupyter->PySensemakr) (1.6.0)\n",
      "Requirement already satisfied: traitlets>=5.4.0 in /usr/local/lib/python3.10/site-packages (from ipykernel->jupyter->PySensemakr) (5.14.3)\n",
      "Requirement already satisfied: psutil in /usr/local/lib/python3.10/site-packages (from ipykernel->jupyter->PySensemakr) (7.0.0)\n",
      "Requirement already satisfied: matplotlib-inline>=0.1 in /usr/local/lib/python3.10/site-packages (from ipykernel->jupyter->PySensemakr) (0.1.7)\n",
      "Requirement already satisfied: jupyter-core!=5.0.*,>=4.12 in /usr/local/lib/python3.10/site-packages (from ipykernel->jupyter->PySensemakr) (5.8.1)\n",
      "Requirement already satisfied: tornado>=6.1 in /usr/local/lib/python3.10/site-packages (from ipykernel->jupyter->PySensemakr) (6.5.2)\n",
      "Requirement already satisfied: jupyterlab_widgets~=3.0.15 in /usr/local/lib/python3.10/site-packages (from ipywidgets->jupyter->PySensemakr) (3.0.15)\n",
      "Requirement already satisfied: widgetsnbextension~=4.0.14 in /usr/local/lib/python3.10/site-packages (from ipywidgets->jupyter->PySensemakr) (4.0.14)\n",
      "Requirement already satisfied: prompt-toolkit>=3.0.30 in /usr/local/lib/python3.10/site-packages (from jupyter-console->jupyter->PySensemakr) (3.0.52)\n",
      "Requirement already satisfied: pygments in /usr/local/lib/python3.10/site-packages (from jupyter-console->jupyter->PySensemakr) (2.19.2)\n",
      "Requirement already satisfied: jupyter-ydoc~=0.2.4 in /usr/local/lib/python3.10/site-packages (from jupyterlab->jupyter->PySensemakr) (0.2.5)\n",
      "Requirement already satisfied: nbclassic in /usr/local/lib/python3.10/site-packages (from jupyterlab->jupyter->PySensemakr) (1.3.1)\n",
      "Requirement already satisfied: jinja2>=2.1 in /usr/local/lib/python3.10/site-packages (from jupyterlab->jupyter->PySensemakr) (3.1.6)\n",
      "Requirement already satisfied: jupyter-server<3,>=1.16.0 in /usr/local/lib/python3.10/site-packages (from jupyterlab->jupyter->PySensemakr) (2.17.0)\n",
      "Requirement already satisfied: tomli in /usr/local/lib/python3.10/site-packages (from jupyterlab->jupyter->PySensemakr) (2.2.1)\n",
      "Requirement already satisfied: jupyter-server-ydoc~=0.8.0 in /usr/local/lib/python3.10/site-packages (from jupyterlab->jupyter->PySensemakr) (0.8.0)\n",
      "Requirement already satisfied: jupyterlab-server~=2.19 in /usr/local/lib/python3.10/site-packages (from jupyterlab->jupyter->PySensemakr) (2.27.3)\n",
      "Requirement already satisfied: Send2Trash>=1.8.0 in /usr/local/lib/python3.10/site-packages (from notebook->jupyter->PySensemakr) (1.8.3)\n",
      "Requirement already satisfied: argon2-cffi in /usr/local/lib/python3.10/site-packages (from notebook->jupyter->PySensemakr) (25.1.0)\n",
      "Requirement already satisfied: ipython-genutils in /usr/local/lib/python3.10/site-packages (from notebook->jupyter->PySensemakr) (0.2.0)\n",
      "Requirement already satisfied: nbformat in /usr/local/lib/python3.10/site-packages (from notebook->jupyter->PySensemakr) (5.10.4)\n",
      "Requirement already satisfied: terminado>=0.8.3 in /usr/local/lib/python3.10/site-packages (from notebook->jupyter->PySensemakr) (0.18.1)\n",
      "Requirement already satisfied: prometheus-client in /usr/local/lib/python3.10/site-packages (from notebook->jupyter->PySensemakr) (0.22.1)\n",
      "Requirement already satisfied: beautifulsoup4 in /usr/local/lib/python3.10/site-packages (from nbconvert->jupyter->PySensemakr) (4.13.5)\n",
      "Requirement already satisfied: jupyterlab-pygments in /usr/local/lib/python3.10/site-packages (from nbconvert->jupyter->PySensemakr) (0.3.0)\n",
      "Requirement already satisfied: mistune<4,>=2.0.3 in /usr/local/lib/python3.10/site-packages (from nbconvert->jupyter->PySensemakr) (3.1.4)\n",
      "Requirement already satisfied: markupsafe>=2.0 in /usr/local/lib/python3.10/site-packages (from nbconvert->jupyter->PySensemakr) (3.0.2)\n",
      "Requirement already satisfied: nbclient>=0.5.0 in /usr/local/lib/python3.10/site-packages (from nbconvert->jupyter->PySensemakr) (0.10.2)\n",
      "Requirement already satisfied: defusedxml in /usr/local/lib/python3.10/site-packages (from nbconvert->jupyter->PySensemakr) (0.7.1)\n",
      "Requirement already satisfied: pandocfilters>=1.4.1 in /usr/local/lib/python3.10/site-packages (from nbconvert->jupyter->PySensemakr) (1.5.1)\n",
      "Requirement already satisfied: bleach[css]!=5.0.0 in /usr/local/lib/python3.10/site-packages (from nbconvert->jupyter->PySensemakr) (6.2.0)\n",
      "Requirement already satisfied: webencodings in /usr/local/lib/python3.10/site-packages (from bleach[css]!=5.0.0->nbconvert->jupyter->PySensemakr) (0.5.1)\n",
      "Requirement already satisfied: tinycss2<1.5,>=1.1.0 in /usr/local/lib/python3.10/site-packages (from bleach[css]!=5.0.0->nbconvert->jupyter->PySensemakr) (1.4.0)\n",
      "Requirement already satisfied: exceptiongroup in /usr/local/lib/python3.10/site-packages (from ipython>=7.23.1->ipykernel->jupyter->PySensemakr) (1.3.0)\n",
      "Requirement already satisfied: pexpect>4.3 in /usr/local/lib/python3.10/site-packages (from ipython>=7.23.1->ipykernel->jupyter->PySensemakr) (4.9.0)\n",
      "Requirement already satisfied: typing_extensions>=4.6 in /usr/local/lib/python3.10/site-packages (from ipython>=7.23.1->ipykernel->jupyter->PySensemakr) (4.15.0)\n",
      "Requirement already satisfied: stack_data in /usr/local/lib/python3.10/site-packages (from ipython>=7.23.1->ipykernel->jupyter->PySensemakr) (0.6.3)\n",
      "Requirement already satisfied: decorator in /usr/local/lib/python3.10/site-packages (from ipython>=7.23.1->ipykernel->jupyter->PySensemakr) (5.2.1)\n",
      "Requirement already satisfied: jedi>=0.16 in /usr/local/lib/python3.10/site-packages (from ipython>=7.23.1->ipykernel->jupyter->PySensemakr) (0.19.2)\n",
      "Requirement already satisfied: entrypoints in /usr/local/lib/python3.10/site-packages (from jupyter-client>=6.1.12->ipykernel->jupyter->PySensemakr) (0.4)\n",
      "Requirement already satisfied: platformdirs>=2.5 in /usr/local/lib/python3.10/site-packages (from jupyter-core!=5.0.*,>=4.12->ipykernel->jupyter->PySensemakr) (4.4.0)\n",
      "Requirement already satisfied: websocket-client>=1.7 in /usr/local/lib/python3.10/site-packages (from jupyter-server<3,>=1.16.0->jupyterlab->jupyter->PySensemakr) (1.8.0)\n",
      "Requirement already satisfied: overrides>=5.0 in /usr/local/lib/python3.10/site-packages (from jupyter-server<3,>=1.16.0->jupyterlab->jupyter->PySensemakr) (7.7.0)\n",
      "Requirement already satisfied: jupyter-server-terminals>=0.4.4 in /usr/local/lib/python3.10/site-packages (from jupyter-server<3,>=1.16.0->jupyterlab->jupyter->PySensemakr) (0.5.3)\n",
      "Requirement already satisfied: anyio>=3.1.0 in /usr/local/lib/python3.10/site-packages (from jupyter-server<3,>=1.16.0->jupyterlab->jupyter->PySensemakr) (4.10.0)\n",
      "Requirement already satisfied: jupyter-events>=0.11.0 in /usr/local/lib/python3.10/site-packages (from jupyter-server<3,>=1.16.0->jupyterlab->jupyter->PySensemakr) (0.12.0)\n",
      "Requirement already satisfied: argon2-cffi-bindings in /usr/local/lib/python3.10/site-packages (from argon2-cffi->notebook->jupyter->PySensemakr) (25.1.0)\n",
      "Requirement already satisfied: ypy-websocket<0.9.0,>=0.8.2 in /usr/local/lib/python3.10/site-packages (from jupyter-server-ydoc~=0.8.0->jupyterlab->jupyter->PySensemakr) (0.8.4)\n",
      "Requirement already satisfied: jupyter-server-fileid<1,>=0.6.0 in /usr/local/lib/python3.10/site-packages (from jupyter-server-ydoc~=0.8.0->jupyterlab->jupyter->PySensemakr) (0.9.3)\n",
      "Requirement already satisfied: y-py<0.7.0,>=0.6.0 in /usr/local/lib/python3.10/site-packages (from jupyter-ydoc~=0.2.4->jupyterlab->jupyter->PySensemakr) (0.6.2)\n",
      "Requirement already satisfied: json5>=0.9.0 in /usr/local/lib/python3.10/site-packages (from jupyterlab-server~=2.19->jupyterlab->jupyter->PySensemakr) (0.12.1)\n",
      "Requirement already satisfied: babel>=2.10 in /usr/local/lib/python3.10/site-packages (from jupyterlab-server~=2.19->jupyterlab->jupyter->PySensemakr) (2.17.0)\n",
      "Requirement already satisfied: jsonschema>=4.18.0 in /usr/local/lib/python3.10/site-packages (from jupyterlab-server~=2.19->jupyterlab->jupyter->PySensemakr) (4.25.1)\n",
      "Requirement already satisfied: requests>=2.31 in /usr/local/lib/python3.10/site-packages (from jupyterlab-server~=2.19->jupyterlab->jupyter->PySensemakr) (2.32.5)\n",
      "Requirement already satisfied: notebook-shim>=0.2.3 in /usr/local/lib/python3.10/site-packages (from nbclassic->jupyterlab->jupyter->PySensemakr) (0.2.4)\n",
      "Requirement already satisfied: fastjsonschema>=2.15 in /usr/local/lib/python3.10/site-packages (from nbformat->notebook->jupyter->PySensemakr) (2.21.2)\n",
      "Requirement already satisfied: wcwidth in /usr/local/lib/python3.10/site-packages (from prompt-toolkit>=3.0.30->jupyter-console->jupyter->PySensemakr) (0.2.13)\n",
      "Requirement already satisfied: ptyprocess in /usr/local/lib/python3.10/site-packages (from terminado>=0.8.3->notebook->jupyter->PySensemakr) (0.7.0)\n",
      "Requirement already satisfied: soupsieve>1.2 in /usr/local/lib/python3.10/site-packages (from beautifulsoup4->nbconvert->jupyter->PySensemakr) (2.8)\n",
      "Requirement already satisfied: sniffio>=1.1 in /usr/local/lib/python3.10/site-packages (from anyio>=3.1.0->jupyter-server<3,>=1.16.0->jupyterlab->jupyter->PySensemakr) (1.3.1)\n",
      "Requirement already satisfied: idna>=2.8 in /usr/local/lib/python3.10/site-packages (from anyio>=3.1.0->jupyter-server<3,>=1.16.0->jupyterlab->jupyter->PySensemakr) (3.10)\n",
      "Requirement already satisfied: parso<0.9.0,>=0.8.4 in /usr/local/lib/python3.10/site-packages (from jedi>=0.16->ipython>=7.23.1->ipykernel->jupyter->PySensemakr) (0.8.5)\n",
      "Requirement already satisfied: referencing>=0.28.4 in /usr/local/lib/python3.10/site-packages (from jsonschema>=4.18.0->jupyterlab-server~=2.19->jupyterlab->jupyter->PySensemakr) (0.36.2)\n",
      "Requirement already satisfied: attrs>=22.2.0 in /usr/local/lib/python3.10/site-packages (from jsonschema>=4.18.0->jupyterlab-server~=2.19->jupyterlab->jupyter->PySensemakr) (25.3.0)\n",
      "Requirement already satisfied: jsonschema-specifications>=2023.03.6 in /usr/local/lib/python3.10/site-packages (from jsonschema>=4.18.0->jupyterlab-server~=2.19->jupyterlab->jupyter->PySensemakr) (2025.4.1)\n",
      "Requirement already satisfied: rpds-py>=0.7.1 in /usr/local/lib/python3.10/site-packages (from jsonschema>=4.18.0->jupyterlab-server~=2.19->jupyterlab->jupyter->PySensemakr) (0.27.1)\n",
      "Requirement already satisfied: python-json-logger>=2.0.4 in /usr/local/lib/python3.10/site-packages (from jupyter-events>=0.11.0->jupyter-server<3,>=1.16.0->jupyterlab->jupyter->PySensemakr) (3.3.0)\n",
      "Requirement already satisfied: rfc3986-validator>=0.1.1 in /usr/local/lib/python3.10/site-packages (from jupyter-events>=0.11.0->jupyter-server<3,>=1.16.0->jupyterlab->jupyter->PySensemakr) (0.1.1)\n",
      "Requirement already satisfied: pyyaml>=5.3 in /usr/local/lib/python3.10/site-packages (from jupyter-events>=0.11.0->jupyter-server<3,>=1.16.0->jupyterlab->jupyter->PySensemakr) (6.0.2)\n",
      "Requirement already satisfied: rfc3339-validator in /usr/local/lib/python3.10/site-packages (from jupyter-events>=0.11.0->jupyter-server<3,>=1.16.0->jupyterlab->jupyter->PySensemakr) (0.1.4)\n",
      "Requirement already satisfied: certifi>=2017.4.17 in /usr/local/lib/python3.10/site-packages (from requests>=2.31->jupyterlab-server~=2.19->jupyterlab->jupyter->PySensemakr) (2025.8.3)\n",
      "Requirement already satisfied: charset_normalizer<4,>=2 in /usr/local/lib/python3.10/site-packages (from requests>=2.31->jupyterlab-server~=2.19->jupyterlab->jupyter->PySensemakr) (3.4.3)\n",
      "Requirement already satisfied: urllib3<3,>=1.21.1 in /usr/local/lib/python3.10/site-packages (from requests>=2.31->jupyterlab-server~=2.19->jupyterlab->jupyter->PySensemakr) (2.5.0)\n",
      "Requirement already satisfied: aiofiles<23,>=22.1.0 in /usr/local/lib/python3.10/site-packages (from ypy-websocket<0.9.0,>=0.8.2->jupyter-server-ydoc~=0.8.0->jupyterlab->jupyter->PySensemakr) (22.1.0)\n",
      "Requirement already satisfied: aiosqlite<1,>=0.17.0 in /usr/local/lib/python3.10/site-packages (from ypy-websocket<0.9.0,>=0.8.2->jupyter-server-ydoc~=0.8.0->jupyterlab->jupyter->PySensemakr) (0.21.0)\n",
      "Requirement already satisfied: cffi>=1.0.1 in /usr/local/lib/python3.10/site-packages (from argon2-cffi-bindings->argon2-cffi->notebook->jupyter->PySensemakr) (1.17.1)\n",
      "Requirement already satisfied: asttokens>=2.1.0 in /usr/local/lib/python3.10/site-packages (from stack_data->ipython>=7.23.1->ipykernel->jupyter->PySensemakr) (3.0.0)\n",
      "Requirement already satisfied: executing>=1.2.0 in /usr/local/lib/python3.10/site-packages (from stack_data->ipython>=7.23.1->ipykernel->jupyter->PySensemakr) (2.2.1)\n",
      "Requirement already satisfied: pure-eval in /usr/local/lib/python3.10/site-packages (from stack_data->ipython>=7.23.1->ipykernel->jupyter->PySensemakr) (0.2.3)\n",
      "Requirement already satisfied: pycparser in /usr/local/lib/python3.10/site-packages (from cffi>=1.0.1->argon2-cffi-bindings->argon2-cffi->notebook->jupyter->PySensemakr) (2.22)\n",
      "Requirement already satisfied: rfc3987-syntax>=1.1.0 in /usr/local/lib/python3.10/site-packages (from jsonschema>=4.18.0->jupyterlab-server~=2.19->jupyterlab->jupyter->PySensemakr) (1.1.0)\n",
      "Requirement already satisfied: webcolors>=24.6.0 in /usr/local/lib/python3.10/site-packages (from jsonschema>=4.18.0->jupyterlab-server~=2.19->jupyterlab->jupyter->PySensemakr) (24.11.1)\n",
      "Requirement already satisfied: fqdn in /usr/local/lib/python3.10/site-packages (from jsonschema>=4.18.0->jupyterlab-server~=2.19->jupyterlab->jupyter->PySensemakr) (1.5.1)\n",
      "Requirement already satisfied: jsonpointer>1.13 in /usr/local/lib/python3.10/site-packages (from jsonschema>=4.18.0->jupyterlab-server~=2.19->jupyterlab->jupyter->PySensemakr) (3.0.0)\n",
      "Requirement already satisfied: uri-template in /usr/local/lib/python3.10/site-packages (from jsonschema>=4.18.0->jupyterlab-server~=2.19->jupyterlab->jupyter->PySensemakr) (1.3.0)\n",
      "Requirement already satisfied: isoduration in /usr/local/lib/python3.10/site-packages (from jsonschema>=4.18.0->jupyterlab-server~=2.19->jupyterlab->jupyter->PySensemakr) (20.11.0)\n",
      "Requirement already satisfied: lark>=1.2.2 in /usr/local/lib/python3.10/site-packages (from rfc3987-syntax>=1.1.0->jsonschema>=4.18.0->jupyterlab-server~=2.19->jupyterlab->jupyter->PySensemakr) (1.2.2)\n",
      "Requirement already satisfied: arrow>=0.15.0 in /usr/local/lib/python3.10/site-packages (from isoduration->jsonschema>=4.18.0->jupyterlab-server~=2.19->jupyterlab->jupyter->PySensemakr) (1.3.0)\n",
      "Requirement already satisfied: types-python-dateutil>=2.8.10 in /usr/local/lib/python3.10/site-packages (from arrow>=0.15.0->isoduration->jsonschema>=4.18.0->jupyterlab-server~=2.19->jupyterlab->jupyter->PySensemakr) (2.9.0.20250822)\n",
      "\u001b[33mWARNING: Running pip as the 'root' user can result in broken permissions and conflicting behaviour with the system package manager. It is recommended to use a virtual environment instead: https://pip.pypa.io/warnings/venv\u001b[0m\u001b[33m\n",
      "\u001b[0m\n",
      "\u001b[1m[\u001b[0m\u001b[34;49mnotice\u001b[0m\u001b[1;39;49m]\u001b[0m\u001b[39;49m A new release of pip is available: \u001b[0m\u001b[31;49m23.0.1\u001b[0m\u001b[39;49m -> \u001b[0m\u001b[32;49m25.2\u001b[0m\n",
      "\u001b[1m[\u001b[0m\u001b[34;49mnotice\u001b[0m\u001b[1;39;49m]\u001b[0m\u001b[39;49m To update, run: \u001b[0m\u001b[32;49mpip install --upgrade pip\u001b[0m\n"
     ]
    }
   ],
   "source": [
    "!pip install -U PySensemakr"
   ]
  },
  {
   "cell_type": "code",
   "execution_count": 5,
   "id": "0b35475e-15f1-4670-8843-0525dbac4e7f",
   "metadata": {
    "editable": true,
    "slideshow": {
     "slide_type": ""
    },
    "tags": []
   },
   "outputs": [
    {
     "name": "stdout",
     "output_type": "stream",
     "text": [
      "Sensitivity Analysis to Unobserved Confounding\n",
      "\n",
      "Model Formula: peacefactor ~ directlyharmed + age + farmer_dar + herder_dar + pastvoted + hhsize_darfur + female + village\n",
      "\n",
      "Null hypothesis: q = 1 and reduce = True \n",
      "\n",
      "-- This means we are considering biases that reduce the absolute value of the current estimate.\n",
      "-- The null hypothesis deemed problematic is H0:tau = 0.0 \n",
      "\n",
      "Unadjusted Estimates of ' directlyharmed ':\n",
      "  Coef. estimate: 0.097\n",
      "  Standard Error: 0.023\n",
      "  t-value: 4.184 \n",
      "\n",
      "Sensitivity Statistics:\n",
      "  Partial R2 of treatment with outcome: 0.022\n",
      "  Robustness Value, q = 1 : 0.139\n",
      "  Robustness Value, q = 1 alpha = 0.05 : 0.076 \n",
      "\n",
      "Verbal interpretation of sensitivity statistics:\n",
      "\n",
      "-- Partial R2 of the treatment with the outcome: an extreme confounder (orthogonal to the covariates)  that explains 100% of the residual variance of the outcome, would need to explain at least 2.187 % of the residual variance of the treatment to fully account for the observed estimated effect.\n",
      "\n",
      "-- Robustness Value, q = 1 : unobserved confounders (orthogonal to the covariates) that  explain more than 13.878 % of the residual variance of both the treatment and the outcome are strong enough to bring the point estimate to 0.0 (a bias of 100.0 % of the original estimate). Conversely, unobserved confounders that do not explain more than 13.878 % of the residual variance of both the treatment and the outcome are not strong enough to bring the point estimate to 0.0 .\n",
      "\n",
      "-- Robustness Value, q = 1 , alpha = 0.05 : unobserved confounders (orthogonal to the covariates) that explain more than 7.626 % of the residual variance of both the treatment and the outcome are strong enough to bring the estimate to a range where it is no longer 'statistically different' from 0.0 (a bias of 100.0 % of the original estimate), at the significance level of alpha = 0.05 . Conversely, unobserved confounders that do not explain more than 7.626 % of the residual variance of both the treatment and the outcome are not strong enough to bring the estimate to a range where it is no longer 'statistically different' from 0.0 , at the significance level of alpha = 0.05 .\n",
      "\n",
      "Bounds on omitted variable bias:\n",
      "--The table below shows the maximum strength of unobserved confounders with association with the treatment and the outcome bounded by a multiple of the observed explanatory power of the chosen benchmark covariate(s).\n",
      "\n",
      "  bound_label    r2dz_x   r2yz_dx       treatment  adjusted_estimate  \\\n",
      "0   1x female  0.009164  0.124641  directlyharmed           0.075220   \n",
      "1   2x female  0.018329  0.249324  directlyharmed           0.052915   \n",
      "2   3x female  0.027493  0.374050  directlyharmed           0.030396   \n",
      "\n",
      "   adjusted_se  adjusted_t  adjusted_lower_CI  adjusted_upper_CI  \n",
      "0     0.021873    3.438904           0.032283           0.118158  \n",
      "1     0.020350    2.600246           0.012968           0.092862  \n",
      "2     0.018670    1.628062          -0.006253           0.067045  \n"
     ]
    },
    {
     "name": "stderr",
     "output_type": "stream",
     "text": [
      "/usr/local/lib/python3.10/site-packages/sensemakr/sensitivity_statistics.py:177: FutureWarning: Series.__getitem__ treating keys as positions is deprecated. In a future version, integer keys will always be treated as labels (consistent with DataFrame behavior). To access a value by position, use `ser.iloc[pos]`\n",
      "  return (t_statistic ** 2 / (t_statistic ** 2 + dof))[0]  # extracts float\n",
      "/usr/local/lib/python3.10/site-packages/sensemakr/sensitivity_statistics.py:177: FutureWarning: Series.__getitem__ treating keys as positions is deprecated. In a future version, integer keys will always be treated as labels (consistent with DataFrame behavior). To access a value by position, use `ser.iloc[pos]`\n",
      "  return (t_statistic ** 2 / (t_statistic ** 2 + dof))[0]  # extracts float\n"
     ]
    }
   ],
   "source": [
    "import sensemakr as smkr\n",
    "import statsmodels.formula.api as smf\n",
    "\n",
    "# loads data\n",
    "darfur = smkr.load_darfur()\n",
    "# runs regression model\n",
    "reg_model = smf.ols(formula='peacefactor ~ directlyharmed + age + farmer_dar + herder_dar + '\\\n",
    "                    'pastvoted + hhsize_darfur + female + village', data=darfur)\n",
    "darfur_model = reg_model.fit()\n",
    "\n",
    "# Create a sensemakr object and print summary of results\n",
    "darfur_sense = smkr.Sensemakr(model = darfur_model,\n",
    "                              treatment = \"directlyharmed\",\n",
    "                              benchmark_covariates = [\"female\"],\n",
    "                              kd = [1,2,3])\n",
    "darfur_sense.summary()"
   ]
  },
  {
   "cell_type": "markdown",
   "id": "ec5aa28b-0443-4b5d-8472-789f8437573a",
   "metadata": {},
   "source": [
    "### 結果の読み方\n",
    "\n",
    "> Sensitivity Statistics\n",
    "\n",
    "の箇所に部分決定係数が表示されている\n",
    "\n",
    "```\n",
    "Sensitivity Statistics:\n",
    "  Partial R2 of treatment with outcome: 0.022\n",
    "  Robustness Value, q = 1 : 0.139\n",
    "  Robustness Value, q = 1 alpha = 0.05 : 0.076 \n",
    "```\n",
    "\n",
    "\n",
    "- `Partial R2 of treatment with outcome`：部分決定係数\n",
    "- `Robustness Value, q = 1`： **Robustness Value** は未観測の交絡因子が処置変数と結果変数に与える影響を定量的に測る指標。値が大きいほど影響を受けないことを示す。\n",
    "    - 例えばRobustness Valueが0.1なら、処置変数と結果変数の両方の残差の分散のうち10%を説明するほどの未観測の交絡因子が存在しない限り、処置の結果への影響はロバストであるという意味。\n",
    "- `Robustness Value, q = 1 alpha = 0.05`：統計的有意性も加味したもの。"
   ]
  },
  {
   "cell_type": "code",
   "execution_count": 6,
   "id": "ec2f0fa9-37d7-42df-8b24-81563e0a0382",
   "metadata": {
    "collapsed": true,
    "jupyter": {
     "outputs_hidden": true
    },
    "tags": []
   },
   "outputs": [
    {
     "ename": "AttributeError",
     "evalue": "'QuadContourSet' object has no attribute 'collections'",
     "output_type": "error",
     "traceback": [
      "\u001b[0;31m---------------------------------------------------------------------------\u001b[0m",
      "\u001b[0;31mAttributeError\u001b[0m                            Traceback (most recent call last)",
      "Cell \u001b[0;32mIn[6], line 4\u001b[0m\n\u001b[1;32m      1\u001b[0m \u001b[38;5;66;03m# contour plot for the estimate\u001b[39;00m\n\u001b[1;32m      2\u001b[0m \u001b[38;5;66;03m# x軸が処置変数の部分決定係数\u001b[39;00m\n\u001b[1;32m      3\u001b[0m \u001b[38;5;66;03m# y軸が結果変数の部分決定係数\u001b[39;00m\n\u001b[0;32m----> 4\u001b[0m \u001b[43mdarfur_sense\u001b[49m\u001b[38;5;241;43m.\u001b[39;49m\u001b[43mplot\u001b[49m\u001b[43m(\u001b[49m\u001b[43m)\u001b[49m\n",
      "File \u001b[0;32m/usr/local/lib/python3.10/site-packages/sensemakr/main.py:443\u001b[0m, in \u001b[0;36mSensemakr.plot\u001b[0;34m(self, plot_type, sensitivity_of, **kwargs)\u001b[0m\n\u001b[1;32m    408\u001b[0m \u001b[38;5;250m\u001b[39m\u001b[38;5;124;03m\"\"\"\u001b[39;00m\n\u001b[1;32m    409\u001b[0m \u001b[38;5;124;03mProvide the contour and extreme scenario sensitivity plots of the sensitivity analysis results obtained with the function Sensemakr.\u001b[39;00m\n\u001b[1;32m    410\u001b[0m \n\u001b[0;32m   (...)\u001b[0m\n\u001b[1;32m    440\u001b[0m \u001b[38;5;124;03m>>> sensitivity = smkr.Sensemakr(fitted_model, treatment = \"directlyharmed\", benchmark_covariates = \"female\", kd = [1, 2, 3])\u001b[39;00m\n\u001b[1;32m    441\u001b[0m \u001b[38;5;124;03m\"\"\"\u001b[39;00m\n\u001b[1;32m    442\u001b[0m \u001b[38;5;28;01mif\u001b[39;00m plot_type \u001b[38;5;241m==\u001b[39m \u001b[38;5;124m'\u001b[39m\u001b[38;5;124mcontour\u001b[39m\u001b[38;5;124m'\u001b[39m:\n\u001b[0;32m--> 443\u001b[0m     \u001b[43msensitivity_plots\u001b[49m\u001b[38;5;241;43m.\u001b[39;49m\u001b[43movb_contour_plot\u001b[49m\u001b[43m(\u001b[49m\u001b[43msense_obj\u001b[49m\u001b[38;5;241;43m=\u001b[39;49m\u001b[38;5;28;43mself\u001b[39;49m\u001b[43m,\u001b[49m\u001b[43msensitivity_of\u001b[49m\u001b[38;5;241;43m=\u001b[39;49m\u001b[43msensitivity_of\u001b[49m\u001b[43m,\u001b[49m\u001b[38;5;241;43m*\u001b[39;49m\u001b[38;5;241;43m*\u001b[39;49m\u001b[43mkwargs\u001b[49m\u001b[43m)\u001b[49m\n\u001b[1;32m    444\u001b[0m \u001b[38;5;28;01melif\u001b[39;00m (plot_type \u001b[38;5;241m==\u001b[39m \u001b[38;5;124m'\u001b[39m\u001b[38;5;124mextreme\u001b[39m\u001b[38;5;124m'\u001b[39m) \u001b[38;5;129;01mand\u001b[39;00m (sensitivity_of \u001b[38;5;241m==\u001b[39m \u001b[38;5;124m'\u001b[39m\u001b[38;5;124mt-value\u001b[39m\u001b[38;5;124m'\u001b[39m):\n\u001b[1;32m    445\u001b[0m     sys\u001b[38;5;241m.\u001b[39mexit(\u001b[38;5;124m'\u001b[39m\u001b[38;5;124mError: extreme plot for t-value has not been implemented yet\u001b[39m\u001b[38;5;124m'\u001b[39m)\n",
      "File \u001b[0;32m/usr/local/lib/python3.10/site-packages/sensemakr/sensitivity_plots.py:186\u001b[0m, in \u001b[0;36movb_contour_plot\u001b[0;34m(sense_obj, sensitivity_of, model, treatment, estimate, se, dof, benchmark_covariates, kd, ky, r2dz_x, r2yz_dx, bound_label, reduce, estimate_threshold, t_threshold, lim, lim_y, col_contour, col_thr_line, label_text, label_bump_x, label_bump_y, xlab, ylab, plot_margin_fraction, round_dig, n_levels)\u001b[0m\n\u001b[1;32m    184\u001b[0m \u001b[38;5;28;01mif\u001b[39;00m round_thr \u001b[38;5;129;01min\u001b[39;00m cs_levels:\n\u001b[1;32m    185\u001b[0m     threshold_index \u001b[38;5;241m=\u001b[39m cs_levels\u001b[38;5;241m.\u001b[39mindex(round_thr)\n\u001b[0;32m--> 186\u001b[0m     \u001b[43mCS\u001b[49m\u001b[38;5;241;43m.\u001b[39;49m\u001b[43mcollections\u001b[49m[threshold_index]\u001b[38;5;241m.\u001b[39mremove()\n\u001b[1;32m    187\u001b[0m     \u001b[38;5;66;03m# There's a conflict in matplotlib 3.8.2 with this remove method and ax.clabel\u001b[39;00m\n\u001b[1;32m    188\u001b[0m     \u001b[38;5;66;03m# I'm currently commenting the line ax.clabel out but maybe there's a different way to do remove\u001b[39;00m\n\u001b[1;32m    189\u001b[0m     \u001b[38;5;66;03m#ax.clabel(CS, inline=1, fontsize=8, fmt=\"%1.3g\", colors=\"gray\", levels=np.delete(CS.levels, threshold_index))\u001b[39;00m\n\u001b[1;32m    190\u001b[0m \u001b[38;5;28;01melse\u001b[39;00m:\n\u001b[1;32m    191\u001b[0m     ax\u001b[38;5;241m.\u001b[39mclabel(CS, inline\u001b[38;5;241m=\u001b[39m\u001b[38;5;241m1\u001b[39m, fontsize\u001b[38;5;241m=\u001b[39m\u001b[38;5;241m8\u001b[39m, fmt\u001b[38;5;241m=\u001b[39m\u001b[38;5;124m\"\u001b[39m\u001b[38;5;132;01m%1.3g\u001b[39;00m\u001b[38;5;124m\"\u001b[39m, colors\u001b[38;5;241m=\u001b[39m\u001b[38;5;124m\"\u001b[39m\u001b[38;5;124mgray\u001b[39m\u001b[38;5;124m\"\u001b[39m, levels\u001b[38;5;241m=\u001b[39mCS\u001b[38;5;241m.\u001b[39mlevels)\n",
      "\u001b[0;31mAttributeError\u001b[0m: 'QuadContourSet' object has no attribute 'collections'"
     ]
    },
    {
     "data": {
      "image/png": "[encoded data removed]",
      "text/plain": [
       "<Figure size 576x576 with 1 Axes>"
      ]
     },
     "metadata": {},
     "output_type": "display_data"
    }
   ],
   "source": [
    "# contour plot for the estimate\n",
    "# x軸が処置変数の部分決定係数\n",
    "# y軸が結果変数の部分決定係数\n",
    "darfur_sense.plot()"
   ]
  },
  {
   "cell_type": "code",
   "execution_count": null,
   "id": "1672ecc2-fa56-4560-82f9-2a457f928029",
   "metadata": {},
   "outputs": [],
   "source": [
    "# extreme scenarios plot\n",
    "darfur_sense.plot(plot_type = 'extreme')"
   ]
  },
  {
   "cell_type": "markdown",
   "id": "d7858c99-4e90-4fd7-8cae-c3628fdb2f84",
   "metadata": {},
   "source": [
    "## 参考文献\n",
    "\n",
    "- [Imbens, G. W. (2003). Sensitivity to exogeneity assumptions in program evaluation. American Economic Review, 93(2), 126-132.](https://scholar.harvard.edu/imbens/files/sensitivity_to_exogeneity_assumptions_in_program_evaluation.pdf)\n",
    "- 星野崇宏. (2009). 調査観察データの統計科学: 因果推論・選択バイアス・データ融合.\n",
    "\n"
   ]
  }
 ],
 "metadata": {
  "kernelspec": {
   "display_name": "Python 3 (ipykernel)",
   "language": "python",
   "name": "python3"
  },
  "language_info": {
   "codemirror_mode": {
    "name": "ipython",
    "version": 3
   },
   "file_extension": ".py",
   "mimetype": "text/x-python",
   "name": "python",
   "nbconvert_exporter": "python",
   "pygments_lexer": "ipython3",
   "version": "3.10.18"
  }
 },
 "nbformat": 4,
 "nbformat_minor": 5
}
