{
 "cells": [
  {
   "cell_type": "markdown",
   "id": "bf4d5eb6-2321-4181-a9b2-6978e61bffac",
   "metadata": {},
   "source": [
    "# Synthetic Control\n"
   ]
  },
  {
   "cell_type": "markdown",
   "id": "8af492a2-d7d8-4129-8fd4-51165d0c2feb",
   "metadata": {},
   "source": [
    "## ベーシックなSCの解説\n",
    "\n",
    "- [前田豊, & 鎌田拓馬. (2019). Synthetic Control Method を用いた個別事例の因果効果の識別. 理論と方法, 34(1), 78-96.](https://www.jstage.jst.go.jp/article/ojjams/34/1/34_78/_pdf)\n"
   ]
  },
  {
   "cell_type": "markdown",
   "id": "7d75107a-6100-41a4-be33-a535b3e0a081",
   "metadata": {},
   "source": [
    "## SC with Confounding\n",
    "\n",
    "[Imbens, G. W., & Viviano, D. (2023). Identification and Inference for Synthetic Controls with Confounding.](https://arxiv.org/pdf/2312.00955.pdf)\n",
    "\n",
    "未観測の交絡因子をfactor modelで扱う\n"
   ]
  },
  {
   "cell_type": "markdown",
   "id": "be362c86-6249-47e4-bb0a-18c3e3b298dd",
   "metadata": {},
   "source": [
    "## 非線形SC\n",
    "\n",
    "[Shi, C., Sridhar, D., Misra, V., & Blei, D. (2022, May). On the assumptions of synthetic control methods. In International Conference on Artificial Intelligence and Statistics (pp. 7163-7175). PMLR.](https://proceedings.mlr.press/v151/shi22b.html)\n"
   ]
  },
  {
   "cell_type": "markdown",
   "id": "8beab3ae-401e-4e5a-9ea3-34edb78f8670",
   "metadata": {},
   "source": [
    "## 妥当性の検証・感度分析\n",
    "\n",
    "[Zeitler, J., Vlontzos, A., & Gilligan-Lee, C. M. (2023, August). Non-parametric identifiability and sensitivity analysis of synthetic control models. In Conference on Causal Learning and Reasoning (pp. 850-865). PMLR.](https://proceedings.mlr.press/v213/zeitler23a.html)\n",
    "\n"
   ]
  },
  {
   "cell_type": "markdown",
   "id": "2541ca71-b574-4533-859d-004157d1ed87",
   "metadata": {},
   "source": [
    "## 参考文献\n",
    "\n",
    "- [Abadie, A., Diamond, A., & Hainmueller, J. (2010). Synthetic control methods for comparative case studies: Estimating the effect of California’s tobacco control program. Journal of the American statistical Association, 105(490), 493-505.](https://web.stanford.edu/~jhain/Paper/JASA2010.pdf)\n",
    "- [[2108.02196] Synthetic Controls for Experimental Design](https://arxiv.org/abs/2108.02196)"
   ]
  },
  {
   "cell_type": "markdown",
   "id": "a749947f-88ff-4f85-83dc-cd4ae1333416",
   "metadata": {},
   "source": [
    "## video\n",
    "\n",
    "- [Susan Athey: Synthetic Difference in Differences - YouTube](https://www.youtube.com/watch?v=r2DzGAigTl4)\n"
   ]
  }
 ],
 "metadata": {
  "kernelspec": {
   "display_name": "Python 3 (ipykernel)",
   "language": "python",
   "name": "python3"
  },
  "language_info": {
   "codemirror_mode": {
    "name": "ipython",
    "version": 3
   },
   "file_extension": ".py",
   "mimetype": "text/x-python",
   "name": "python",
   "nbconvert_exporter": "python",
   "pygments_lexer": "ipython3",
   "version": "3.10.15"
  }
 },
 "nbformat": 4,
 "nbformat_minor": 5
}
