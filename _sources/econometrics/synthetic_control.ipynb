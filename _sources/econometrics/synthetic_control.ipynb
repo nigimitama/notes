{
 "cells": [
  {
   "cell_type": "markdown",
   "id": "bf4d5eb6-2321-4181-a9b2-6978e61bffac",
   "metadata": {},
   "source": [
    "# Synthetic Control\n",
    "\n"
   ]
  },
  {
   "cell_type": "markdown",
   "id": "a749947f-88ff-4f85-83dc-cd4ae1333416",
   "metadata": {},
   "source": [
    "## video\n",
    "\n",
    "- [Susan Athey: Synthetic Difference in Differences - YouTube](https://www.youtube.com/watch?v=r2DzGAigTl4)\n"
   ]
  },
  {
   "cell_type": "code",
   "execution_count": null,
   "id": "055d4219-3ff6-4637-83ca-5ba12bb82589",
   "metadata": {},
   "outputs": [],
   "source": []
  }
 ],
 "metadata": {
  "kernelspec": {
   "display_name": "Python 3 (ipykernel)",
   "language": "python",
   "name": "python3"
  },
  "language_info": {
   "codemirror_mode": {
    "name": "ipython",
    "version": 3
   },
   "file_extension": ".py",
   "mimetype": "text/x-python",
   "name": "python",
   "nbconvert_exporter": "python",
   "pygments_lexer": "ipython3",
   "version": "3.9.17"
  }
 },
 "nbformat": 4,
 "nbformat_minor": 5
}
