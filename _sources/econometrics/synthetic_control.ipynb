{
 "cells": [
  {
   "cell_type": "markdown",
   "id": "bf4d5eb6-2321-4181-a9b2-6978e61bffac",
   "metadata": {},
   "source": [
    "# Synthetic Control\n",
    "\n"
   ]
  },
  {
   "cell_type": "markdown",
   "id": "7d75107a-6100-41a4-be33-a535b3e0a081",
   "metadata": {},
   "source": [
    "## SC with Confounding\n",
    "\n",
    "[Imbens, G. W., & Viviano, D. (2023). Identification and Inference for Synthetic Controls with Confounding.](https://arxiv.org/pdf/2312.00955.pdf)\n",
    "\n",
    "未観測の交絡因子をfactor modelで扱う\n"
   ]
  },
  {
   "cell_type": "markdown",
   "id": "2541ca71-b574-4533-859d-004157d1ed87",
   "metadata": {},
   "source": [
    "## 参考文献\n",
    "\n",
    "- [Abadie, A., Diamond, A., & Hainmueller, J. (2010). Synthetic control methods for comparative case studies: Estimating the effect of California’s tobacco control program. Journal of the American statistical Association, 105(490), 493-505.](https://web.stanford.edu/~jhain/Paper/JASA2010.pdf)\n",
    "\n",
    "- [前田豊, & 鎌田拓馬. (2019). Synthetic Control Method を用いた個別事例の因果効果の識別. 理論と方法, 34(1), 78-96.](https://www.jstage.jst.go.jp/article/ojjams/34/1/34_78/_pdf)"
   ]
  },
  {
   "cell_type": "markdown",
   "id": "a749947f-88ff-4f85-83dc-cd4ae1333416",
   "metadata": {},
   "source": [
    "## video\n",
    "\n",
    "- [Susan Athey: Synthetic Difference in Differences - YouTube](https://www.youtube.com/watch?v=r2DzGAigTl4)\n"
   ]
  },
  {
   "cell_type": "code",
   "execution_count": null,
   "id": "055d4219-3ff6-4637-83ca-5ba12bb82589",
   "metadata": {},
   "outputs": [],
   "source": []
  }
 ],
 "metadata": {
  "kernelspec": {
   "display_name": "Python 3 (ipykernel)",
   "language": "python",
   "name": "python3"
  },
  "language_info": {
   "codemirror_mode": {
    "name": "ipython",
    "version": 3
   },
   "file_extension": ".py",
   "mimetype": "text/x-python",
   "name": "python",
   "nbconvert_exporter": "python",
   "pygments_lexer": "ipython3",
   "version": "3.9.18"
  }
 },
 "nbformat": 4,
 "nbformat_minor": 5
}
