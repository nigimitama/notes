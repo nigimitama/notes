{
 "cells": [
  {
   "cell_type": "markdown",
   "id": "92ec7622-b6c8-4871-bf18-d2098b792d4e",
   "metadata": {},
   "source": [
    "# Pearl流の因果推論"
   ]
  },
  {
   "cell_type": "markdown",
   "id": "bc090889-2c60-4200-a0fd-c90352e1f786",
   "metadata": {},
   "source": [
    "[Pearl, J. (2019) The Seven Tools of Causal Inference, with Reflections on Machine Learning](https://cacm.acm.org/research/the-seven-tools-of-causal-inference-with-reflections-on-machine-learning/)"
   ]
  },
  {
   "cell_type": "markdown",
   "id": "4fd73820-b92d-41b0-8c39-3b66317cb700",
   "metadata": {},
   "source": [
    "## 因果の階層（Causal Hierarchy）\n",
    "\n",
    "1. 関連（association）$P(y|x)$\n",
    "    - xが変わるとyはどうなるか\n",
    "2. 介入（intervention）$P(y|do(x), z)$\n",
    "    - $x$をある値にしたとき、$y$はどうなっていたか\n",
    "3. 反実仮想（counterfactuals）$P(y_x|x',y')$\n",
    "    - もし$x$を特定の値にしたら$y$はどうなるか"
   ]
  },
  {
   "cell_type": "markdown",
   "id": "35ddb363-9edb-4a17-949b-331b3105e895",
   "metadata": {},
   "source": [
    "![](https://dl.acm.org/cms/attachment/bde3f45e-3829-4e5e-9f16-4bcab334c2bb/f1.jpg)"
   ]
  },
  {
   "cell_type": "markdown",
   "id": "3c4f1aa3-d179-41a3-9747-6c42c90325e4",
   "metadata": {},
   "source": [
    "## do演算子\n",
    "\n",
    "変数$x$を、他のすべての変数から独立にある値に固定する操作（介入）を\n",
    "\n",
    "$$\n",
    "\\operatorname{do}(x)\n",
    "$$\n",
    "\n",
    "と表す。"
   ]
  },
  {
   "cell_type": "markdown",
   "id": "0e3f3f8f-7fc0-456a-95d6-53c7a4caf267",
   "metadata": {},
   "source": [
    "### 交絡\n",
    "\n",
    "do演算子を使うと、交絡は「結果$Y$の観察可能な条件付き確率$P(Y|X)$と介入確率$P(Y|do(X))$が一致しないこと」\n",
    "\n",
    "$$\n",
    "P(Y|X) \\neq P(Y|do(X))\n",
    "$$\n",
    "\n",
    "として簡潔に表現できる"
   ]
  },
  {
   "cell_type": "code",
   "execution_count": null,
   "id": "2b52e1cd-8b95-4783-884a-c365aa5faebf",
   "metadata": {},
   "outputs": [],
   "source": []
  }
 ],
 "metadata": {
  "kernelspec": {
   "display_name": "Python 3 (ipykernel)",
   "language": "python",
   "name": "python3"
  },
  "language_info": {
   "codemirror_mode": {
    "name": "ipython",
    "version": 3
   },
   "file_extension": ".py",
   "mimetype": "text/x-python",
   "name": "python",
   "nbconvert_exporter": "python",
   "pygments_lexer": "ipython3",
   "version": "3.10.14"
  }
 },
 "nbformat": 4,
 "nbformat_minor": 5
}
