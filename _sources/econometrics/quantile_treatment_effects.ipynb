{
 "cells": [
  {
   "cell_type": "markdown",
   "id": "b3ab8025-271f-452c-8ca4-a8cb0ff02e18",
   "metadata": {},
   "source": [
    "# Quantile Treatment Effects (QTE)\n",
    "\n",
    "\n",
    "分位点"
   ]
  },
  {
   "cell_type": "markdown",
   "id": "63185c90-cb42-4b37-9e13-8f372f6c0eba",
   "metadata": {},
   "source": [
    "[Callaway, B., Li, T., & Oka, T. (2018). Quantile treatment effects in difference in differences models under dependence restrictions and with only two time periods. Journal of Econometrics, 206(2), 395-413.](https://papers.ssrn.com/sol3/papers.cfm?abstract_id=2915947)\n"
   ]
  },
  {
   "cell_type": "code",
   "execution_count": null,
   "id": "8f637fc2-a700-45d3-813a-4e198edb8563",
   "metadata": {},
   "outputs": [],
   "source": []
  }
 ],
 "metadata": {
  "kernelspec": {
   "display_name": "Python 3 (ipykernel)",
   "language": "python",
   "name": "python3"
  },
  "language_info": {
   "codemirror_mode": {
    "name": "ipython",
    "version": 3
   },
   "file_extension": ".py",
   "mimetype": "text/x-python",
   "name": "python",
   "nbconvert_exporter": "python",
   "pygments_lexer": "ipython3",
   "version": "3.10.18"
  }
 },
 "nbformat": 4,
 "nbformat_minor": 5
}
