{
 "cells": [
  {
   "cell_type": "markdown",
   "id": "9e489196-dc19-4f4d-b32c-5afca72d6266",
   "metadata": {},
   "source": [
    "# Selection Bias"
   ]
  },
  {
   "cell_type": "markdown",
   "id": "b2820304-8677-49ad-aec3-f2f83cb10067",
   "metadata": {},
   "source": [
    "## Selection Bias\n",
    "\n",
    "観測できた各群の結果の平均値の差\n",
    "\n",
    "$$\n",
    "\\frac{1}{N_1} \\sum^{N_1}_{i: D_i = 1} y_i\n",
    "-\n",
    "\\frac{1}{N_0} \\sum^{N_0}_{i: D_i = 0} y_i\n",
    "$$\n",
    "\n",
    "を使って推定する素朴なATE推定アプローチを潜在的結果を使って表すと\n",
    "\n",
    "$$\n",
    "E[Y(1)|D = 1] - E[Y(0)|D = 0]\n",
    "$$\n",
    "\n",
    "となる。仮にこれをナイーブな推定量と呼ぶことにして、$\\tau_{naive}$と表す。$E[Y(0)|D = 1]$を足して引くと\n",
    "\n",
    "$$\n",
    "\\begin{align}\n",
    "\\tau_{naive}\n",
    "&= E[Y(1)|D = 1] - E[Y(0)|D = 0]\\\\\n",
    "&= E[Y(1)|D = 1] - E[Y(0)|D = 1] + E[Y(0)|D = 1] - E[Y(0)|D = 0]\\\\\n",
    "&= \\underbrace{E[Y(1) - Y(0)|D = 1]}_{\\text{ATT}}\n",
    "  + \\underbrace{E[Y(0)|D = 1] - E[Y(0)|D = 0]}_{\\text{Selection Bias}}\\\\\n",
    "\\end{align}\n",
    "$$\n",
    "\n",
    "と表すことができる。\n",
    "\n",
    "第1項の$E[Y(1) - Y(0)|D = 1]$は処置群における「処置を受けたときの結果$Y(0)$」と「処置を受けなかった場合の（反実仮想の）結果$Y(0)$」の差である。これを**処置群に対する平均処置効果**（average treatment effect on the treated: ATT or ATET）という。\n",
    "\n",
    "処置群と対照群で平均的に処置効果に差がないと仮定すれば\n",
    "\n",
    "$$\n",
    "\\begin{align}\n",
    "\\underbrace{E[Y(1) - Y(0)]}_{ATE}\n",
    "&= E[Y(1) - Y(0) | D = 1] P(D = 1) + E[Y(1) - Y(0)| D = 0] P(D = 0)\\\\\n",
    "&= E[Y(1) - Y(0) | D = 1] \\{ P(D = 1) + P(D = 0) \\}\\\\\n",
    "&= \\underbrace{E[Y(1) - Y(0)|D = 1]}_{ATT}\n",
    "\\end{align}\n",
    "$$\n",
    "\n",
    "となる。\n",
    "\n",
    "第2項の$E[Y(0)|D = 1] - E[Y(0)|D = 0]$は、「処置群が仮に処置を受けなかったとした場合の結果の期待値」と「対照群が処置を受けなかった場合の期待値」の差であり、**セレクション・バイアス**（selection bias）と呼ばれる。\n",
    "もしセレクション・バイアスが0であれば$\\tau_{naive} = ATT$であり、さらに$ATT=ATE$であれば$\\tau_{naive}= ATE = \\tau$になる。そうでない場合は$\\tau_{naive} \\neq \\tau$であり、単純な各群の期待値の差をとる方法は誤った分析結果を導くことになる。\n"
   ]
  },
  {
   "cell_type": "markdown",
   "id": "600502f1-e460-4d3c-87da-7e8f06760b04",
   "metadata": {},
   "source": [
    "## Selection Biasの推定\n",
    "\n",
    "Sensitivity AnalysisによってSelection Biasの上界を求める方法が研究されている\n",
    "\n",
    "[[2302.06518] SelectionBias: An R Package for Bounding Selection Bias](https://arxiv.org/abs/2302.06518)"
   ]
  },
  {
   "cell_type": "code",
   "execution_count": null,
   "id": "63243014-fddd-4a8a-aeab-9960a28bfeed",
   "metadata": {},
   "outputs": [],
   "source": []
  }
 ],
 "metadata": {
  "kernelspec": {
   "display_name": "Python 3 (ipykernel)",
   "language": "python",
   "name": "python3"
  },
  "language_info": {
   "codemirror_mode": {
    "name": "ipython",
    "version": 3
   },
   "file_extension": ".py",
   "mimetype": "text/x-python",
   "name": "python",
   "nbconvert_exporter": "python",
   "pygments_lexer": "ipython3",
   "version": "3.10.13"
  }
 },
 "nbformat": 4,
 "nbformat_minor": 5
}
