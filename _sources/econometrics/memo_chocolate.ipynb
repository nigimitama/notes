{
 "cells": [
  {
   "cell_type": "markdown",
   "id": "eff11892-1327-42e4-aada-ab08ad303cb0",
   "metadata": {},
   "source": [
    "# チョコレートとノーベル賞\n",
    "\n",
    "### 元の論文\n",
    "\n",
    "[Messerli, F. H. (2012). Chocolate consumption, cognitive function, and Nobel laureates. N Engl J Med, 367(16), 1562-1564. ](https://cbb.sjtu.edu.cn/~jingli/courses/2018fall/bi372/files/NEJM.pdf)\n",
    "\n",
    "> Chocolate consumption enhances cognitive function, which is a sine qua non for winning the Nobel Prize\n",
    ">\n",
    "> （チョコレートの消費はノーベル賞受賞に必要不可欠である認知能力を高める）\n",
    "\n",
    "という強めの主張をしている。\n",
    "\n",
    "追試してみる。\n",
    "\n",
    "### データ\n",
    "\n",
    "同様のデータを[統計的因果推論の理論と実装 - 共立出版](https://www.kyoritsu-pub.co.jp/book/b10011781.html)が`data06.csv`として配布している。\n",
    "\n",
    "論文をもとに同様の収集方法をとったらしいが、年度的にはもっと新しいデータになっているらしい"
   ]
  },
  {
   "cell_type": "code",
   "execution_count": 14,
   "id": "8f10a1f4-acd8-4c05-9fe8-0f59a311682b",
   "metadata": {},
   "outputs": [],
   "source": [
    "# y1: 人口1000万人あたりのノーベル賞受賞者数\n",
    "# x1: 人口1人あたりの年間チョコレート消費量（kg）\n",
    "# x2: 一人あたりGDP\n",
    "data06 = \"\"\"\n",
    "country,y1,x1,x2\n",
    "australia,3.871325502,4.9,54.763\n",
    "austria,15.65853828,8.1,49.701\n",
    "belgium,8.643572769,5.6,46.198\n",
    "brazil,0,1.2,8.755\n",
    "canada,4.17386626,4,46.55\n",
    "china,0.021249789,0.1,10.004\n",
    "denmark,22.24752355,4.9,60.657\n",
    "finland,7.260276558,5.4,48.678\n",
    "france,9.046821006,4.3,40.319\n",
    "germany,9.98135639,7.9,46.232\n",
    "greece,1.865921418,2.5,19.604\n",
    "ireland,12.05448628,7.9,81.637\n",
    "italy,2.535105679,4,33.09\n",
    "japan,1.980565613,1.2,40.063\n",
    "netherlands,9.650766575,5.1,53.053\n",
    "norway,20.37488303,5.8,74.986\n",
    "poland,1.833324603,5.7,15.727\n",
    "portugal,1.94207716,2,23.35\n",
    "spain,1.265977079,4,29.816\n",
    "sweden,30.76310773,6.6,52.896\n",
    "switzerland,28.79889044,8.8,85.135\n",
    "unitedkingdom,18.7831965,7.6,41.855\n",
    "unitedstates,11.44517395,4.4,65.134\n",
    "\"\"\".strip()"
   ]
  },
  {
   "cell_type": "code",
   "execution_count": 15,
   "id": "1c529a19-5f10-4b8d-bfa9-a8a48639ea4a",
   "metadata": {
    "tags": []
   },
   "outputs": [
    {
     "data": {
      "text/html": [
       "<div>\n",
       "<style scoped>\n",
       "    .dataframe tbody tr th:only-of-type {\n",
       "        vertical-align: middle;\n",
       "    }\n",
       "\n",
       "    .dataframe tbody tr th {\n",
       "        vertical-align: top;\n",
       "    }\n",
       "\n",
       "    .dataframe thead th {\n",
       "        text-align: right;\n",
       "    }\n",
       "</style>\n",
       "<table border=\"1\" class=\"dataframe\">\n",
       "  <thead>\n",
       "    <tr style=\"text-align: right;\">\n",
       "      <th></th>\n",
       "      <th>country</th>\n",
       "      <th>y1</th>\n",
       "      <th>x1</th>\n",
       "      <th>x2</th>\n",
       "    </tr>\n",
       "  </thead>\n",
       "  <tbody>\n",
       "    <tr>\n",
       "      <th>0</th>\n",
       "      <td>australia</td>\n",
       "      <td>3.871326</td>\n",
       "      <td>4.9</td>\n",
       "      <td>54.763</td>\n",
       "    </tr>\n",
       "    <tr>\n",
       "      <th>1</th>\n",
       "      <td>austria</td>\n",
       "      <td>15.658538</td>\n",
       "      <td>8.1</td>\n",
       "      <td>49.701</td>\n",
       "    </tr>\n",
       "    <tr>\n",
       "      <th>2</th>\n",
       "      <td>belgium</td>\n",
       "      <td>8.643573</td>\n",
       "      <td>5.6</td>\n",
       "      <td>46.198</td>\n",
       "    </tr>\n",
       "    <tr>\n",
       "      <th>3</th>\n",
       "      <td>brazil</td>\n",
       "      <td>0.000000</td>\n",
       "      <td>1.2</td>\n",
       "      <td>8.755</td>\n",
       "    </tr>\n",
       "    <tr>\n",
       "      <th>4</th>\n",
       "      <td>canada</td>\n",
       "      <td>4.173866</td>\n",
       "      <td>4.0</td>\n",
       "      <td>46.550</td>\n",
       "    </tr>\n",
       "  </tbody>\n",
       "</table>\n",
       "</div>"
      ],
      "text/plain": [
       "     country         y1   x1      x2\n",
       "0  australia   3.871326  4.9  54.763\n",
       "1    austria  15.658538  8.1  49.701\n",
       "2    belgium   8.643573  5.6  46.198\n",
       "3     brazil   0.000000  1.2   8.755\n",
       "4     canada   4.173866  4.0  46.550"
      ]
     },
     "execution_count": 15,
     "metadata": {},
     "output_type": "execute_result"
    }
   ],
   "source": [
    "import pandas as pd\n",
    "from io import StringIO\n",
    "\n",
    "data = StringIO(data06)\n",
    "df = pd.read_csv(data)\n",
    "df.head()"
   ]
  },
  {
   "cell_type": "code",
   "execution_count": 17,
   "id": "ac0e9202-fc7a-44a7-84ed-944b9dba2ece",
   "metadata": {},
   "outputs": [
    {
     "data": {
      "text/plain": [
       "<AxesSubplot:xlabel='x2', ylabel='y1'>"
      ]
     },
     "execution_count": 17,
     "metadata": {},
     "output_type": "execute_result"
    },
    {
     "data": {
      "image/png": "[encoded data removed]",
      "text/plain": [
       "<Figure size 640x480 with 1 Axes>"
      ]
     },
     "metadata": {},
     "output_type": "display_data"
    },
    {
     "data": {
      "image/png": "[encoded data removed]",
      "text/plain": [
       "<Figure size 640x480 with 1 Axes>"
      ]
     },
     "metadata": {},
     "output_type": "display_data"
    }
   ],
   "source": [
    "df.plot.scatter(x=\"x1\", y=\"y1\")\n",
    "df.plot.scatter(x=\"x2\", y=\"y1\")"
   ]
  },
  {
   "cell_type": "code",
   "execution_count": 18,
   "id": "75b9eae5-ceca-4c12-ad72-40b8b95db801",
   "metadata": {},
   "outputs": [
    {
     "data": {
      "text/html": [
       "<table style=\"text-align:center\"><tr><td colspan=\"4\" style=\"border-bottom: 1px solid black\"></td></tr><tr><td style=\"text-align:left\"></td><td colspan=\"3\"><em>Dependent variable:y1</em></td></tr><tr><td style=\"text-align:left\"></td><tr><td style=\"text-align:left\"></td><td>(1)</td><td>(2)</td><td>(3)</td></tr><tr><td colspan=\"4\" style=\"border-bottom: 1px solid black\"></td></tr><tr><td style=\"text-align:left\">Intercept</td><td>-3.422<sup></sup></td><td>-4.246<sup></sup></td><td>-6.320<sup>*</sup></td></tr><tr><td style=\"text-align:left\"></td><td>(3.227)</td><td>(3.235)</td><td>(3.203)</td></tr><tr><td style=\"text-align:left\">x1</td><td>2.704<sup>***</sup></td><td></td><td>1.505<sup>*</sup></td></tr><tr><td style=\"text-align:left\"></td><td>(0.598)</td><td></td><td>(0.756)</td></tr><tr><td style=\"text-align:left\">x2</td><td></td><td>0.313<sup>***</sup></td><td>0.196<sup>**</sup></td></tr><tr><td style=\"text-align:left\"></td><td></td><td>(0.066)</td><td>(0.085)</td></tr><td colspan=\"4\" style=\"border-bottom: 1px solid black\"></td></tr><tr><td style=\"text-align: left\">Observations</td><td>23</td><td>23</td><td>23</td></tr><tr><td style=\"text-align: left\">R<sup>2</sup></td><td>0.493</td><td>0.519</td><td>0.598</td></tr><tr><td style=\"text-align: left\">Adjusted R<sup>2</sup></td><td>0.469</td><td>0.496</td><td>0.558</td></tr><tr><td style=\"text-align: left\">Residual Std. Error</td><td>6.650 (df=21)</td><td>6.478 (df=21)</td><td>6.064 (df=20)</td></tr><tr><td style=\"text-align: left\">F Statistic</td><td>20.420<sup>***</sup> (df=1; 21)</td><td>22.656<sup>***</sup> (df=1; 21)</td><td>14.904<sup>***</sup> (df=2; 20)</td></tr><tr><td colspan=\"4\" style=\"border-bottom: 1px solid black\"></td></tr><tr><td style=\"text-align: left\">Note:</td>\n",
       " <td colspan=\"3\" style=\"text-align: right\">\n",
       "  <sup>*</sup>p&lt;0.1;\n",
       "  <sup>**</sup>p&lt;0.05;\n",
       "  <sup>***</sup>p&lt;0.01\n",
       " </td></tr></table>"
      ],
      "text/plain": [
       "<stargazer.stargazer.Stargazer at 0x7fd3e0d25b50>"
      ]
     },
     "execution_count": 18,
     "metadata": {},
     "output_type": "execute_result"
    }
   ],
   "source": [
    "import statsmodels.formula.api as smf\n",
    "from stargazer.stargazer import Stargazer\n",
    "\n",
    "\n",
    "Stargazer([\n",
    "    smf.ols(\"y1 ~ x1\", data=df).fit(),\n",
    "    smf.ols(\"y1 ~ x2\", data=df).fit(),\n",
    "    smf.ols(\"y1 ~ x1 + x2\", data=df).fit(),\n",
    "])"
   ]
  },
  {
   "cell_type": "code",
   "execution_count": null,
   "id": "f62c4c2c-fdfb-43a1-b207-7b0d37cd0eb2",
   "metadata": {},
   "outputs": [],
   "source": []
  }
 ],
 "metadata": {
  "kernelspec": {
   "display_name": "Python 3 (ipykernel)",
   "language": "python",
   "name": "python3"
  },
  "language_info": {
   "codemirror_mode": {
    "name": "ipython",
    "version": 3
   },
   "file_extension": ".py",
   "mimetype": "text/x-python",
   "name": "python",
   "nbconvert_exporter": "python",
   "pygments_lexer": "ipython3",
   "version": "3.9.16"
  }
 },
 "nbformat": 4,
 "nbformat_minor": 5
}
