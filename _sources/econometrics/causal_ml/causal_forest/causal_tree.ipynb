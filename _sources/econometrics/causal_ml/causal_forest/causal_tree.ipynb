{
 "cells": [
  {
   "cell_type": "markdown",
   "id": "4b79a7a9-2403-4203-9ffd-198b019f5430",
   "metadata": {},
   "source": [
    "# Causal Tree"
   ]
  },
  {
   "cell_type": "markdown",
   "id": "5e762bdf-a189-4c16-947a-a42d40f159b1",
   "metadata": {},
   "source": [
    "\n",
    "Causal TreeはCATE推定に使えるよう改良された決定木。\n",
    "\n",
    "ただし、観察研究データに使用するためには選択バイアスを除去する必要があり、Atheyらによって傾向スコアを用いた改良手法Causal Tree-Transformed Outcome（CT-TO）が提案されている\n"
   ]
  },
  {
   "cell_type": "markdown",
   "id": "c0bea655-3879-4397-abdc-e50f8aa0c21a",
   "metadata": {},
   "source": [
    "### 前提 / Notation\n",
    "\n",
    ":::{card} Potential outcome framework\n",
    "\n",
    "- $Y_{a=1}, Y_{a=0} \\in \\mathbb{R}$ ：潜在結果変数\n",
    "- $X_j$： $p$次元の pre-treatment 共変量（ $j=1:p$ ）\n",
    "- $A=\\{0,1\\}$ ：処置変数\n",
    "- $\\pi(x)=\\operatorname{Pr}(A=1 \\mid X=x)$ ：傾向スコア\n",
    "\n",
    ":::\n",
    "\n",
    ":::{card} Assumptions\n",
    "\n",
    "- Consistency: $Y=A Y_{a=1}+(1-A) Y_{a=0}$\n",
    "- Unconfoundedness: $A \\perp Y_a \\mid X \\text { for } a=0,1$\n",
    "- Posititvity: $0<\\pi(x)<1$\n",
    "\n",
    ":::\n",
    "\n",
    ":::{card} Definitions\n",
    "\n",
    "- Average Treatment Effect (ATE): $\\theta^{A T E}=\\mathrm{E}\\left[Y_{a=1}-Y_{a=0}\\right]$\n",
    "- Heterogeneous Treatment Effect (HTE): $\\theta^{H T E}(x)=\\mathrm{E}\\left[Y_{a=1}-Y_{a=0} \\mid X=x\\right]$\n",
    "\n",
    ":::"
   ]
  },
  {
   "cell_type": "markdown",
   "id": "879e3504-d2f4-44af-b3e1-00dac0e18301",
   "metadata": {},
   "source": [
    "### Honest\n",
    "\n",
    "- Causal Treesはrecursive partitioningを用いてHeterogeneous Treatment Effectを推定する手法。\n",
    "- honest性という概念がcausal forestsやGeneralized Random Forestの証明において重要な役割を果たす。\n",
    "- またhonest性を満たすTreeはCARTと比較して過学習を起こしにくいという性質もある。\n",
    "\n",
    ":::{card} honest\n",
    "\n",
    "**「木の分割（partitioning）をするために用いるサンプル」と「TreeのLeafごとの推定量の計算に用いるサンプル」に別々のサンプルを用いることで、partition $\\Pi$ と 推定量$\\hat{\\mu}$ が独立になったTree を honest なTreeであるという**\n",
    "\n",
    ":::\n"
   ]
  },
  {
   "cell_type": "markdown",
   "id": "a76aa2e9-a7f4-4d26-9858-7f677d9f6ebd",
   "metadata": {},
   "source": [
    "#### honestな木はCARTと異なる目的関数をもつ\n",
    "\n",
    "honestな木はpartition $\\Pi$のもとで estimation sample $\\mathcal{S}^{e s t}$ を用いて推定された条件付き平均$\\hat{\\mu}\\left(X_i ; \\mathcal{S}^{e s t}, \\Pi\\right)$とテストデータ$\\mathcal{S}^{t e}$の平均二乗誤差\n",
    "\n",
    "$$\n",
    "\\operatorname{MSE}\\left(\\mathcal{S}^{t e}, \\mathcal{S}^{e s t}, \\Pi\\right)=\\frac{1}{\\#\\left(\\mathcal{S}^{t e}\\right)} \n",
    "\\sum_{i \\in \\mathcal{S}^{t e}}\n",
    "\\left\\{\\left(Y_i-\\hat{\\mu}\\left(X_i ; \\mathcal{S}^{e s t}, \\Pi\\right)\\right)^2-Y_i^2\\right\\}\n",
    "$$\n",
    "\n",
    "の期待値をとったものを最小化する。\n",
    "\n",
    "\n",
    "$$\n",
    "\\Pi^{\\text{honest}}=\n",
    "\\arg\\min_\\Pi \\mathrm{E}_{\\mathcal{S}^{\\text{te}}, \\mathcal{S}^{\\text{est}}, \\mathcal{S}^{\\text{tr}}}\n",
    "\\left[\\operatorname{MSE}(\\mathcal{S}^{\\text{te}}, \\mathcal{S}^{\\text{est}}, \\Pi(\\mathcal{S}^{\\text{tr}})\\right]\n",
    "$$\n",
    "\n",
    "一方で一般的なCARTでは、訓練サンプル $\\mathcal{S}^{\\text{te}}$ を使ってpartition $\\Pi$と推定量$\\hat{\\mu}$を作って誤差を最小化する\n",
    "\n",
    "$$\n",
    "\\Pi^{\\text{CART}}=\n",
    "\\arg\\min_\\Pi \\mathrm{E}_{\\mathcal{S}^{\\text{te}}, \\mathcal{S}^{\\text{tr}}}\n",
    "\\left[\\operatorname{MSE}(\\mathcal{S}^{\\text{te}}, \\mathcal{S}^{\\text{tr}}, \\Pi(\\mathcal{S}^{\\text{tr}})\\right]\n",
    "$$\n",
    "\n"
   ]
  },
  {
   "cell_type": "markdown",
   "id": "64a0afc4-a501-4c81-a959-688d35fb2816",
   "metadata": {},
   "source": [
    "#### honestな木は過学習しにくい\n",
    "\n",
    "MSEの期待値を取ったものをEMSE\n",
    "\n",
    "$$\n",
    "\\operatorname{EMSE}(\\Pi) := \\mathrm{E}_{\\mathcal{S}^{t e}, \\mathcal{S}^{\\text {est }}}\\left[\\operatorname{MSE}\\left(\\mathcal{S}^{t e}, \\mathcal{S}^{\\text {est }}, \\Pi\\right)\\right]\n",
    "$$\n",
    "\n",
    "とする。honestな木はこれを目的関数とする。\n",
    "\n",
    "負のEMSEを展開すると\n",
    "\n",
    "$$\n",
    "\\begin{aligned}\n",
    "-\\operatorname{EMSE}(\\Pi) & =-\\mathrm{E}_{\\left(Y_i, X_j\\right), \\mathcal{S}^{\\operatorname{est}}}\\left[\\left(Y_i-\\mu\\left(X_i ; \\Pi\\right)^2-Y_i\\right]\\right. \\\\\n",
    "& -\\mathrm{E}_{X_i, \\mathcal{S}^{\\text {est }}}\\left[\\left(\\hat{\\mu}\\left(X_i ; \\mathcal{S}^{\\text {est }} ; \\Pi\\right)-\\mu\\left(X_i ; \\Pi\\right)\\right)^2\\right] \\\\\n",
    "& =\\mathrm{E}_{X_i}\\left[\\mu^2\\left(X_i ; \\Pi\\right)\\right]-\\mathrm{E}_{\\mathcal{S}^{\\text {est }}, X_i}\\left[\\operatorname{Var}\\left(\\hat{\\mu}\\left(X_i ; \\mathcal{S}^{\\text {est }} ; \\Pi\\right)\\right)\\right]\n",
    "\\end{aligned}\n",
    "$$\n",
    "\n",
    "となる。\n",
    "\n",
    "これに対して訓練サンプル$\\mathcal{S}^{t r}$から不偏推定量を構成すると\n",
    "\n",
    "$$\n",
    "\\widehat{\\operatorname{EMSE}}\\left(\\mathcal{S}^{t r}, \\Pi\\right)\n",
    "=\\frac{1}{N^{t r}} \\sum_{i \\in \\mathcal{S}^{t r}} \\hat{\\mu}^2\\left(X_i ; \\mathcal{S}^{t r}, \\Pi\\right)\n",
    "-\\underbrace{ \\frac{2}{N^{t r}} \\cdot \\sum_{\\ell \\in \\Pi} S_{\\mathcal{S}^{t r}}^2(\\ell) }_{penalty}\n",
    "$$\n",
    "\n",
    "となる。ここで$S_{\\mathcal{S}^{t r}}^2(\\ell)$は$\\ell \\in \\Pi$におけるleaf内分散を意味する。\n",
    "\n",
    "一方で、CARTにおいてはpenalty項がなく、分割を行えば行うほど$-\\operatorname{MSE}$が改善するため、枝刈りが必要になる。\n",
    "\n",
    "$$\n",
    "-\\operatorname{MSE}\\left(\\mathcal{S}^{t r}, \\mathcal{S}^{t r}, \\Pi\\right)=\\frac{1}{N^{t r}} \\sum_{i \\in \\mathcal{S}^{t r}} \\hat{\\mu}^2\\left(X_i ; \\mathcal{S}^{t r}, \\Pi\\right)\n",
    "$$\n",
    "\n",
    "\n",
    "leaf内分散はleaf内のサンプル数が多いうちは小さい（=CARTとhonest treeは似た挙動になる）が、leaf内サンプルが小さくなると高くなりやすい（分割を停止する方向に動く）。\n"
   ]
  },
  {
   "cell_type": "markdown",
   "id": "4f46b98f-f661-4bb6-9e7b-03dbfa9993b5",
   "metadata": {},
   "source": [
    "#### HTEの推定\n",
    "\n",
    "問題：データ $\\left(Y_i, X_i, W_i\\right) \\in \\mathbb{R} \\times \\mathbb{R}^\\rho \\times\\{0,1\\}$ が観測されたもとで、 $\\theta^{H T E}(x)=\\mathrm{E}\\left[Y_{a=1}-Y_{a=0} \\mid X=x\\right]$ を推定する問題\n",
    "\n",
    "\n",
    "$$\n",
    "\\tau(x ; \\Pi) \\equiv \\mathrm{E}\\left[Y_{a=1}-Y_{a=0} \\mid X \\in \\ell(x ; \\Pi)\\right]\n",
    "$$\n",
    "\n",
    "$$\n",
    "\\mu(a, x ; \\Pi) \\equiv \\mathrm{E}\\left[Y_a \\mid X \\in \\ell(x ; \\Pi)\\right]\n",
    "$$"
   ]
  }
 ],
 "metadata": {
  "kernelspec": {
   "display_name": "Python 3 (ipykernel)",
   "language": "python",
   "name": "python3"
  },
  "language_info": {
   "codemirror_mode": {
    "name": "ipython",
    "version": 3
   },
   "file_extension": ".py",
   "mimetype": "text/x-python",
   "name": "python",
   "nbconvert_exporter": "python",
   "pygments_lexer": "ipython3",
   "version": "3.10.18"
  }
 },
 "nbformat": 4,
 "nbformat_minor": 5
}
