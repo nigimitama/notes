{
 "cells": [
  {
   "cell_type": "markdown",
   "id": "8a25841a-a9ff-4f20-8702-1310dc8f3641",
   "metadata": {},
   "source": [
    "# Generalized Random Forest (GRF)"
   ]
  },
  {
   "cell_type": "markdown",
   "id": "09b1ee51-dacb-4411-8c0f-4270cd0a5b10",
   "metadata": {},
   "source": [
    "[[1610.01271] Generalized Random Forests](https://arxiv.org/abs/1610.01271)"
   ]
  },
  {
   "cell_type": "markdown",
   "id": "52504dfa-329e-421b-a6f7-f749a9ec590d",
   "metadata": {},
   "source": [
    "**Generalized Random Forest（GRF）** はRandom Forestを局所的な重み付けの推定器として一般化したもの。\n",
    "\n",
    "- 与えられた観測点 $x$ に対し、その周囲の観測データを「重み付き」平均で統計量を推定する構造\n",
    "- 目的変数は一般のM-推定問題に拡張可能（平均だけでなく、分位点、最適政策など）"
   ]
  },
  {
   "cell_type": "markdown",
   "id": "9de00d13-3593-4df3-bd06-e7a84d36a27c",
   "metadata": {},
   "source": [
    "## 理論\n",
    "\n",
    "まずモーメント条件により$\\theta(x)$のforest-based estimatorsを定義する\n",
    "\n",
    ":::{card} (定義) 局所モーメント条件\n",
    "\n",
    "データ $(X_i, O_i) \\in \\mathcal{X} \\times \\mathcal{O}$ が次の式を満たすと仮定する\n",
    "\n",
    "$$\n",
    "\\mathbb{E}\\left[\\psi_{\\theta(x), \\nu(x)}\\left(O_i\\right) \\mid X_i=x\\right]=0 \\text { for all } x \\in \\mathcal{X}\n",
    "$$\n",
    "\n",
    "- $\\theta=(\\theta(x))_{x \\in \\mathcal{X}} \\in \\Theta=\\left\\{\\theta: \\mathcal{X} \\rightarrow \\mathbb{R}^{k_p}\\right\\}:$ 興味のある（汎関数）パラメータ\n",
    "- $\\nu=(\\nu(x))_{x \\in \\mathcal{X}} \\in \\Theta=\\left\\{\\nu: \\mathcal{X} \\rightarrow \\mathbb{R}^{k_q}\\right\\}:$ 局外（汎関数）パラメータ\n",
    "- $\\psi_{., .}(\\cdot): \\mathcal{X} \\times \\mathcal{O} \\rightarrow \\mathbb{R}^{k_\\psi}:$ スコア関数\n",
    "\n",
    ":::"
   ]
  },
  {
   "cell_type": "markdown",
   "id": "6c3337ce-cd7c-40f6-92d9-db21380a809a",
   "metadata": {},
   "source": [
    "[一般化ランダムフォレストの理論と統計的因果推論への応用 - Speaker Deck](https://speakerdeck.com/tomoshige_n/ban-hua-randamuhuoresutonoli-lun-totong-ji-de-yin-guo-tui-lun-henoying-yong)\n",
    "\n",
    "- 非常によくまとまっている資料"
   ]
  },
  {
   "cell_type": "markdown",
   "id": "6fa4dde4-6f10-4d2a-8945-feef7c07dfd9",
   "metadata": {},
   "source": [
    "- Random Forest / Tree は、サンプルをある基準で重み付けるカーネルを学習するもの、という一般化"
   ]
  },
  {
   "cell_type": "markdown",
   "id": "87c3981f-7b6a-434c-a9df-4fca900283ea",
   "metadata": {},
   "source": [
    "- [grf](https://grf-labs.github.io/grf/)パッケージ（R）"
   ]
  },
  {
   "cell_type": "markdown",
   "id": "342aa8c5-22a8-479a-8544-10f496b54f92",
   "metadata": {},
   "source": [
    "### GRFは欠陥あり？\n",
    "\n",
    "Atlantic causal inference conferenceの因果推論コンペでの成績は悪かったらしい\n",
    "\n",
    "（[Ken McAlinnさんはTwitterを使っています: 「因果推定コンテストで回帰分析にボロ負けした話もちゃんと載せてほしい。」 / Twitter](https://twitter.com/kenmcalinn/status/1630768792912506881)）"
   ]
  }
 ],
 "metadata": {
  "kernelspec": {
   "display_name": "Python 3 (ipykernel)",
   "language": "python",
   "name": "python3"
  },
  "language_info": {
   "codemirror_mode": {
    "name": "ipython",
    "version": 3
   },
   "file_extension": ".py",
   "mimetype": "text/x-python",
   "name": "python",
   "nbconvert_exporter": "python",
   "pygments_lexer": "ipython3",
   "version": "3.10.18"
  }
 },
 "nbformat": 4,
 "nbformat_minor": 5
}
