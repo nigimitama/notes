{
 "cells": [
  {
   "cell_type": "markdown",
   "id": "a5c186cc-e431-41cb-9033-8ee8264506da",
   "metadata": {},
   "source": [
    "# 欠落変数バイアス"
   ]
  },
  {
   "cell_type": "code",
   "execution_count": null,
   "id": "2f68e22f-12fc-4c7a-bb66-72dfc5135ce0",
   "metadata": {},
   "outputs": [],
   "source": []
  },
  {
   "cell_type": "code",
   "execution_count": null,
   "id": "0534333b-7944-4add-8ec3-6b9c1f7182ae",
   "metadata": {},
   "outputs": [],
   "source": []
  },
  {
   "cell_type": "markdown",
   "id": "7a8cb95b-c48f-4b03-ae9f-df993e69ce94",
   "metadata": {},
   "source": [
    "## 参考文献\n",
    "\n",
    "- [25. 重回帰分析（脱落変数バイアス・処置後変数バイアス）](http://www.ner.takushoku-u.ac.jp/masano/class_material/waseda/keiryo/R25_reg8_OBV.html)\n",
    "- 安井翔太. (2020). 効果検証入門: 正しい比較のための因果推論 計量経済学の基礎. Gijutsu hyōronsha.\n"
   ]
  },
  {
   "cell_type": "code",
   "execution_count": null,
   "id": "b69f2654-ada7-4cbd-8160-2f8e82c429a6",
   "metadata": {},
   "outputs": [],
   "source": []
  }
 ],
 "metadata": {
  "kernelspec": {
   "display_name": "Python 3",
   "language": "python",
   "name": "python3"
  },
  "language_info": {
   "codemirror_mode": {
    "name": "ipython",
    "version": 3
   },
   "file_extension": ".py",
   "mimetype": "text/x-python",
   "name": "python",
   "nbconvert_exporter": "python",
   "pygments_lexer": "ipython3",
   "version": "3.8.10"
  }
 },
 "nbformat": 4,
 "nbformat_minor": 5
}
