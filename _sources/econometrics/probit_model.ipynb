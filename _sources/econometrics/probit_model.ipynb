{
 "cells": [
  {
   "cell_type": "markdown",
   "id": "c73833c9-72e0-49c2-be9e-0de2dbaa5a2f",
   "metadata": {},
   "source": [
    "# プロビットモデル"
   ]
  },
  {
   "cell_type": "markdown",
   "id": "a43f4f7d-ce35-41eb-b01b-ae18d8f102da",
   "metadata": {},
   "source": [
    "## 概要\n",
    "\n",
    "「ある商品が購入される確率」のように、二値変数の確率を予測するモデル\n",
    "\n",
    "ロジットモデル（ロジスティック回帰）よりも複雑で計算量は多いが、「無関係な選択肢からの独立性」という性質を満たす、ロジットモデルより妥当なモデルが構築できるのが強み"
   ]
  },
  {
   "cell_type": "markdown",
   "id": "87eebb31-d450-44ca-baff-033a739ef081",
   "metadata": {},
   "source": [
    "## プロビットモデル"
   ]
  },
  {
   "cell_type": "markdown",
   "id": "9e0fd260-cdbf-4bdb-86d9-6b31945e0a00",
   "metadata": {},
   "source": [
    "## 多項プロビットモデル"
   ]
  },
  {
   "cell_type": "code",
   "execution_count": null,
   "id": "a635868a-f69a-4f27-b816-029e2c25ea26",
   "metadata": {},
   "outputs": [],
   "source": []
  }
 ],
 "metadata": {
  "kernelspec": {
   "display_name": "Python 3 (ipykernel)",
   "language": "python",
   "name": "python3"
  },
  "language_info": {
   "codemirror_mode": {
    "name": "ipython",
    "version": 3
   },
   "file_extension": ".py",
   "mimetype": "text/x-python",
   "name": "python",
   "nbconvert_exporter": "python",
   "pygments_lexer": "ipython3",
   "version": "3.10.13"
  }
 },
 "nbformat": 4,
 "nbformat_minor": 5
}
