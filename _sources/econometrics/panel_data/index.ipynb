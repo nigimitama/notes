{
 "cells": [
  {
   "cell_type": "markdown",
   "id": "84b99184-9525-431e-9ea6-4c9fc3952413",
   "metadata": {},
   "source": [
    "# パネルデータ分析"
   ]
  },
  {
   "cell_type": "markdown",
   "id": "befd1ef8-1db3-4c57-b78c-22a45e0003b0",
   "metadata": {},
   "source": [
    ":::{tableofcontents}\n",
    ":::"
   ]
  },
  {
   "cell_type": "markdown",
   "id": "51875838-75ed-4ed4-a894-275ab8b9fa5a",
   "metadata": {},
   "source": [
    "## 参考文献\n",
    "\n",
    "[Arkhangelsky, D., & Imbens, G. (2023). Causal Models for Longitudinal and Panel Data: A Survey. arXiv preprint arXiv:2311.15458.](https://arxiv.org/pdf/2311.15458.pdf)"
   ]
  }
 ],
 "metadata": {
  "kernelspec": {
   "display_name": "Python 3 (ipykernel)",
   "language": "python",
   "name": "python3"
  },
  "language_info": {
   "codemirror_mode": {
    "name": "ipython",
    "version": 3
   },
   "file_extension": ".py",
   "mimetype": "text/x-python",
   "name": "python",
   "nbconvert_exporter": "python",
   "pygments_lexer": "ipython3",
   "version": "3.10.18"
  }
 },
 "nbformat": 4,
 "nbformat_minor": 5
}
