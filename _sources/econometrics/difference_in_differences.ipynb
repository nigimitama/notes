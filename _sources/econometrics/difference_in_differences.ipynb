{
 "cells": [
  {
   "cell_type": "markdown",
   "id": "2bc86984-bd42-42c8-bc9e-ffa36102fc4f",
   "metadata": {},
   "source": [
    "# Difference In Differences\n",
    "\n",
    "**差の差法**（difference in differences: DID）\n",
    "\n"
   ]
  },
  {
   "cell_type": "markdown",
   "id": "93b2e221-e6d2-4466-8ff7-d8f05ee9fa2d",
   "metadata": {},
   "source": [
    "## 2群・2期間のDID\n",
    "\n",
    "最もシンプルな2群・2期間のDIDを例にとる。\n",
    "\n",
    "結果変数を$Y$、処置変数を$X \\in \\{0, 1\\}$とする。\n",
    "グループ$k$の時点$t$を$Y_{kt}$とすると、推定したい効果$\\beta$だけでなくグループごとの固定効果$\\alpha_k$と時間ごとの効果$\\delta_t$も入ってくる。\n",
    "\n",
    "$$\n",
    "Y_{kt} = \\beta X_{kt} + \\alpha_k + \\delta_t + \\varepsilon_{kt}\n",
    "$$\n",
    "\n",
    "\n",
    "グループ$k=1$（処置群: $X_{10}=0, X_{11}=1$）\n",
    "\n",
    "- 処置前（$t=0$）：$Y_{10} = \\beta X_{10} + \\alpha_1 + \\delta_0 + \\varepsilon_{10} = \\alpha_1 + \\delta_0 + \\varepsilon_{10}$\n",
    "- 処置後（$t=1$）：$Y_{11} = \\beta X_{11} + \\alpha_1 + \\delta_1 + \\varepsilon_{11} = \\beta + \\alpha_1 + \\delta_1 + \\varepsilon_{11}$\n",
    "\n",
    "グループ$k=0$（対照群: $X_{00} = X_{01} = 0$）\n",
    "\n",
    "- 処置前（$t=0$）：$Y_{00} = \\beta X_{00} + \\alpha_0 + \\delta_0 + \\varepsilon_{00} = \\alpha_0 + \\delta_0 + \\varepsilon_{00}$\n",
    "- 処置後（$t=1$）：$Y_{01} = \\beta X_{01} + \\alpha_0 + \\delta_1 + \\varepsilon_{01} = \\alpha_0 + \\delta_1 + \\varepsilon_{01}$\n",
    "\n",
    "個体固定効果$\\alpha_k$を除去するため、グループごとに処置前後で差分をとると\n",
    "\n",
    "$$\n",
    "\\begin{align}\n",
    "Y_{11} - Y_{10}\n",
    "    &= \\beta + \\alpha_1 + \\delta_1 + \\varepsilon_{11} - (\\alpha_1 + \\delta_0 + \\varepsilon_{10})\\\\\n",
    "    &=  \\beta + \\alpha_1 - \\alpha_1 + \\delta_1 - \\delta_0 + \\varepsilon_{11} - \\varepsilon_{10}\\\\\n",
    "    &=  \\beta + \\delta_1 - \\delta_0 + \\varepsilon_{11} - \\varepsilon_{10}\\\\\n",
    "\\\\\n",
    "Y_{01} - Y_{00}\n",
    "    &= \\alpha_0 + \\delta_1 + \\varepsilon_{01} - (\\alpha_0 + \\delta_0 + \\varepsilon_{00})\\\\\n",
    "    &= \\alpha_0 - \\alpha_0 + \\delta_1 - \\delta_0 + \\varepsilon_{01} - \\varepsilon_{00}\\\\\n",
    "    &= \\delta_1 - \\delta_0 + \\varepsilon_{01} - \\varepsilon_{00}\\\\\n",
    "\\end{align}\n",
    "$$\n",
    "\n",
    "となり、時間固定効果$\\delta_t$を除去するために両者の差をとると\n",
    "\n",
    "$$\n",
    "\\begin{align}\n",
    "(Y_{11} - Y_{10}) - (Y_{01} - Y_{00})\n",
    "&= \\beta + \\delta_1 - \\delta_0 + \\varepsilon_{11} - \\varepsilon_{10} - (\\delta_1 - \\delta_0 + \\varepsilon_{01} - \\varepsilon_{00})\\\\\n",
    "&= \\beta + \\delta_1 - \\delta_0 - (\\delta_1 - \\delta_0) + \\varepsilon_{11} - \\varepsilon_{10} - (\\varepsilon_{01} - \\varepsilon_{00})\\\\\n",
    "&= \\beta + \\varepsilon_{11} - \\varepsilon_{10} - (\\varepsilon_{01} - \\varepsilon_{00})\\\\\n",
    "&\\approx \\beta\n",
    "\\end{align}\n",
    "$$\n",
    "\n",
    "となる"
   ]
  },
  {
   "cell_type": "markdown",
   "id": "85444a17-048c-4154-84bd-add51b3f7bb6",
   "metadata": {},
   "source": [
    "## 2×2 DID\n",
    "\n",
    "2群2期間の最もシンプルなDIDを例に取る\n",
    "\n",
    "処置群$T$と対照群$U$が存在し、処置前を$\\text{Pre}$、処置後を$\\text{Post}$とする。DID推定量は各群の処置前後の$Y$の平均の差\n",
    "\n",
    "$$\n",
    "\\def\\pre{ \\text{Pre} }\n",
    "\\def\\post{ \\text{Post} }\n",
    "\\hat{\\delta}^{2\\times 2}_{TU}\n",
    "= \\big( E[Y_T | \\post] - E[Y_T | \\pre] \\big)\n",
    "- \\big( E[Y_U | \\post] - E[Y_U | \\pre] \\big)\n",
    "$$\n",
    "\n",
    "である。潜在的結果で表記すると次のようになる。\n",
    "\n",
    "$$\n",
    "\\hat{\\delta}^{2\\times 2}_{TU}\n",
    "= \\big( E[Y^1_T | \\post] - E[Y^0_T | \\pre] \\big)\n",
    "- \\big( E[Y^0_U | \\post] - E[Y^0_U | \\pre] \\big)\n",
    "$$\n",
    "\n",
    "ゼロを加えて整理すると\n",
    "\n",
    "$$\n",
    "\\begin{align}\n",
    "\\hat{\\delta}^{2\\times 2}_{TU}\n",
    "&= \\big( E[Y^1_T | \\post] - E[Y^0_T | \\pre] \\big)\n",
    "- \\big( E[Y^0_U | \\post] - E[Y^0_U | \\pre] \\big)\n",
    "+ \\underbrace{ E[Y^0_T | \\post] - E[Y^0_T | \\post] }_{0}\n",
    "\\\\\n",
    "&= \\underbrace{ E[Y^1_T | \\post]  - E[Y^0_T | \\post] }_{ATT}\n",
    "+ \\underbrace{ \n",
    "    \\big[ E[Y^0_T | \\post] - E[Y^0_T | \\pre] \\big]\n",
    "    - \\big[ E[Y^0_U | \\post] - E[Y^0_U | \\pre] \\big]\n",
    "}_{並行トレンドが成り立たない場合のバイアス}\n",
    "\\end{align}\n",
    "$$\n",
    "\n",
    "となる。\n",
    "\n",
    "時間固定効果がすべてのユニット（観測対象）で同じであり、期間の間で変化しないことを**並行トレンド**（parallel trends）の仮定と呼ぶ。並行トレンドの仮定が成り立てばDID推定量はATTを推定することになる。\n",
    "\n",
    "なお、ここで$E[Y^0_T|\\post]$は実際には観測できない反実仮想であるため、並行トレンドの存在は検証不可能である。"
   ]
  },
  {
   "cell_type": "markdown",
   "id": "564347f1-f0da-42ed-8fc3-f2c5ea86591d",
   "metadata": {},
   "source": [
    "## TWFE推定量との関係\n",
    "\n",
    "**二元配置固定効果（Two-Ways Fixed Effect: TWFE）モデル**\n",
    "\n",
    "$$\n",
    "Y_{it} = \\alpha_i + \\lambda_t + \\delta X_{it} + \\epsilon_{it}\n",
    "$$\n",
    "\n",
    "- $\\alpha_i$：個体固定効果\n",
    "- $\\lambda_t$：時間固定効果\n",
    "- $X_{it}$：処置変数\n",
    "\n",
    "TWFEモデルはDIDの推定に使われる\n",
    "\n",
    "\n",
    "### Baconの分解定理\n",
    "\n",
    "TWFE推定量は2×2DID推定量の加重和となる（なお重みはすべて正）\n",
    "\n",
    ":::{note} 定理（Theorem 1, [Goodman-Bacon 2021](https://www.sciencedirect.com/science/article/abs/pii/S0304407621001445)）\n",
    "$$\n",
    "\\hat{\\delta}^{TWFE} = \\sum_{k\\neq u} s_{ku} \\hat{\\delta}_{ku}^{2\\times 2}\n",
    "+ \\sum_{k\\neq u} \\sum_{l > k} \n",
    "\\left[\n",
    "    s_{kl}^k \\hat{\\delta}^{2\\times 2, k}_{kl} + \n",
    "    s_{kl}^l \\hat{\\delta}^{2\\times 2, l}_{kl}\n",
    "\\right]\n",
    "$$\n",
    ":::\n"
   ]
  },
  {
   "cell_type": "markdown",
   "id": "75693da3-f1ea-4772-89ed-9a636734c1b0",
   "metadata": {},
   "source": []
  },
  {
   "cell_type": "markdown",
   "id": "c8bde268-f2a8-4627-a5b7-d9283fd1979b",
   "metadata": {},
   "source": [
    "## 標準誤差\n",
    "\n",
    "### クラスタ数が少ない場合\n",
    "\n",
    "処置ユニット数が1つしかない、という極端なケースではクラスタ数が少ない場合に向けて提案されたワイルドブートストラップであっても、シミュレーション上では有意水準5%での過剰棄却率は80%となる( [Cameron et al., 2008](https://direct.mit.edu/rest/article-abstract/90/3/414/57731/Bootstrap-Based-Improvements-for-Inference-with?redirectedFrom=fulltext); [MacKinnon & Webb, 2018](https://academic.oup.com/ectj/article-abstract/21/2/114/5078969))。 \n",
    "\n",
    "処置群のユニット数が1つしかないような極端なケースでは**ランダム化推論**（randomization inference）を使用することが好ましいとされる（[Buchmueller et al., 2011](https://www.aeaweb.org/articles?id=10.1257/pol.3.4.25)）。\n",
    "\n",
    "\n",
    "\n"
   ]
  },
  {
   "cell_type": "markdown",
   "id": "148e3e35-0286-4a00-aac5-9f0fccbdc597",
   "metadata": {},
   "source": [
    ":::{margin}\n",
    "- [Cameron, A. C., Gelbach, J. B., & Miller, D. L. (2008). Bootstrap-based improvements for inference with clustered errors. The review of economics and statistics, 90(3), 414-427.](https://direct.mit.edu/rest/article-abstract/90/3/414/57731/Bootstrap-Based-Improvements-for-Inference-with?redirectedFrom=fulltext)\n",
    "- [MacKinnon, J. G., & Webb, M. D. (2018). The wild bootstrap for few (treated) clusters. The Econometrics Journal, 21(2), 114-135.](https://academic.oup.com/ectj/article-abstract/21/2/114/5078969)\n",
    "- Buchmueller, T. C., DiNardo, J., & Valletta, R. G. (2011). [The effect of an employer health insurance mandate on health insurance coverage and the demand for labor: Evidence from Hawaii.](https://www.frbsf.org/wp-content/uploads/sites/4/wp09-08bk.pdf) American Economic Journal: Economic Policy, 3(4), 25-51.\n",
    ":::"
   ]
  },
  {
   "cell_type": "markdown",
   "id": "ef36d405-e91b-4d53-8f7c-0eb63dcf55b1",
   "metadata": {},
   "source": [
    "### ランダム化推論\n",
    "\n",
    "TODO"
   ]
  },
  {
   "cell_type": "markdown",
   "id": "f7eb665c-755a-4b60-93f7-e7d43d260dca",
   "metadata": {},
   "source": [
    "## 並行トレンドの仮定の検証\n",
    "\n",
    "### 並行リード\n",
    "\n",
    "処置が行われる前の時点（リード lead）において並行なトレンドが存在していたことを確認する、という方法。\n",
    "\n",
    "ある程度の確認はできるが、直接的に並行トレンドの存在を検証できるわけではない（例えばコインを2回投げて2回とも表が出たからと言って、3回目も表が出るとは限らない）\n",
    "\n",
    "\n",
    ":::{margin}\n",
    "[Kahn-Lang, A., & Lang, K. (2019). The promise and pitfalls of differences-in-differences: Reflections on 16 and pregnant and other applications. Journal of Business & Economic Statistics, 38(3), 613-620.](https://www.tandfonline.com/doi/abs/10.1080/07350015.2018.1546591)\n",
    "\n",
    "> parallel trends in the period prior to treatment is suggestive of counterfactual parallel trends, but parallel pre-trends is neither necessary nor sufficient for the parallel counterfactual trends condition to hold.\n",
    "> \n",
    "> 処置前の並行トレンドは反実仮想の並行トレンドの存在を確からしく思わせるものの、反実仮想の並行トレンド条件の必要条件でも十分条件でもない。\n",
    "\n",
    ":::\n",
    "\n",
    "\n",
    "### 外生性\n",
    "\n",
    "並行トレンドの仮定が明らかに成立しない状況は、処置そのものが内生的である場合である。この場合は処置は潜在的結果に依存し、処置がもしなければ結果も平行じゃない変化をしていたと考えられる。\n"
   ]
  },
  {
   "cell_type": "code",
   "execution_count": null,
   "id": "fe7f6324-5f56-4922-91fa-77419c3ddadd",
   "metadata": {},
   "outputs": [],
   "source": []
  },
  {
   "cell_type": "markdown",
   "id": "cc8956a5-8f51-45d6-b0bb-b6875c226878",
   "metadata": {},
   "source": [
    "### Multiple Timeperiod\n",
    "\n",
    "処置を行う時点が複数ある場合の対処について。\n",
    "\n",
    "#### 1. 生データを年ごとにプロットする方法\n",
    "\n",
    "デメリットは\n",
    "\n",
    "1. グラフが多すぎて、手間がかかり、見栄えが悪い\n",
    "2. 対照群が未処置群（never treated）だけの想定をする場合、誤る\n",
    "    - [Goodman-Bacon, 2021](https://www.sciencedirect.com/science/article/abs/pii/S0304407621001445)はどんなDIDもtreatment, never treated, early treated, late treatedの4種類があると示している\n",
    "  \n",
    "#### 2. 処置の時点をt=0に再中心化する\n",
    "\n",
    "デメリットは\n",
    "\n",
    "1. 対照群をプロットできるものの、回帰分析で実際につかわれるものと一致しない（Goodman-Bacon, 2021）\n",
    "\n"
   ]
  },
  {
   "cell_type": "markdown",
   "id": "0e1bd29a-2f53-41f4-8f06-e85f85a96eab",
   "metadata": {},
   "source": [
    ":::{note} 複数期間についての他の議論\n",
    "\n",
    "MEMO\n",
    "\n",
    "[Takuma KamadaさんはTwitterを使っています: 「@RyotaMugiyama 最近のDiD研究だと、イベントを受けるタイミングが異なって、かつトリートメント効果が時間を通じて変動する場合、two way fixed effectsでのevent study推定値はバイアスすることが示されてる。https://t.co/hOtwFhLjWJ」 / Twitter](https://twitter.com/tkmkmd/status/1304683871871488001)\n",
    "\n",
    ":::"
   ]
  },
  {
   "cell_type": "markdown",
   "id": "9b4bb23c-e81a-451a-867e-29e12a5ceb6d",
   "metadata": {},
   "source": [
    "処置の時点が複数あるものはStaggered DID（段階的DID）とも呼ばれる\n",
    "\n",
    "\n",
    "[小西祥文 (2021) Staggered DIDの近年の動向](http://applied-economics.org/docs/SDID.pdf)\n",
    "\n"
   ]
  },
  {
   "cell_type": "code",
   "execution_count": null,
   "id": "5dac77c7-77a3-4299-8c79-7f1aff1b3ee8",
   "metadata": {},
   "outputs": [],
   "source": []
  },
  {
   "cell_type": "markdown",
   "id": "162c193b-1c4a-4e43-9e47-e433c1b093e9",
   "metadata": {},
   "source": [
    "## Event study"
   ]
  },
  {
   "cell_type": "code",
   "execution_count": null,
   "id": "192463b9-9896-4668-b642-86cdcdd86969",
   "metadata": {},
   "outputs": [],
   "source": []
  },
  {
   "cell_type": "code",
   "execution_count": null,
   "id": "a6d999b1-3643-4e0f-9298-fad0842bc406",
   "metadata": {},
   "outputs": [],
   "source": []
  },
  {
   "cell_type": "markdown",
   "id": "5f0c5e2c-d81f-41b9-8e30-6bbe64f60252",
   "metadata": {},
   "source": [
    "## Synthetic Difference In Differences\n",
    "\n",
    "[Clarke, D., Pailañir, D., Athey, S., & Imbens, G. (2023). Synthetic Difference In Differences Estimation. arXiv preprint arXiv:2301.11859.](https://arxiv.org/pdf/2301.11859.pdf)"
   ]
  },
  {
   "cell_type": "markdown",
   "id": "3526b938-f974-402c-a3ba-9bf631fe5398",
   "metadata": {},
   "source": []
  },
  {
   "cell_type": "code",
   "execution_count": null,
   "id": "404b0588-061e-4e4f-9d98-f760360035f8",
   "metadata": {},
   "outputs": [],
   "source": []
  },
  {
   "cell_type": "markdown",
   "id": "b378ac68-4a47-418d-ab11-9a3fed8b8287",
   "metadata": {},
   "source": [
    "## matrix completion\n",
    "\n",
    "[Athey et al. (2021). Matrix completion methods for causal panel data models. Journal of the American Statistical Association, 116(536), 1716-1730.](https://www.tandfonline.com/doi/abs/10.1080/01621459.2021.1891924)\n",
    "\n",
    "行列補完（matrix completion）という機械学習ベースの手法\n"
   ]
  },
  {
   "cell_type": "code",
   "execution_count": null,
   "id": "7e712bd6-2661-4dcc-8dfd-1f323e996166",
   "metadata": {},
   "outputs": [],
   "source": []
  },
  {
   "cell_type": "markdown",
   "id": "0e11b3d6-548c-46cd-bfc3-8a8eaef14fed",
   "metadata": {},
   "source": [
    "## 論文\n",
    "\n",
    "### Goodman-Bacon (2019)\n",
    "\n",
    "**Goodman-Bacon (2019) \"Difference-in-Differences with Variation in Treatment Timing\"**\n",
    "\n",
    "- Paper: [Goodman-Bacon, A. (2019). Difference-in-differences with variation in treatment timing. Journal of Econometrics, 225(2), 254-277.](https://www.sciencedirect.com/science/article/abs/pii/S0304407621001445)\n",
    "- Youtube: [Andrew Goodman-Bacon “Difference-in-Differences with Variation in Treatment Timing” - YouTube](https://www.youtube.com/watch?v=m1xSMNTKoMs)\n",
    "\n",
    "\n",
    "Goodman-Bacon (2021) は **二元配置固定効果（two-way fixed effect）推定量が、すべてのあり得る2×2のDID推定量の重み付き平均である**という定理を示した。\n",
    "\n",
    "例えば、DID推定量$\\hat{\\beta}^{DD}$をtwo-way fixed effects modelとして表すと\n",
    "\n",
    "$$\n",
    "y_{it} = \\alpha_i + \\alpha_t + \\hat{\\beta}^{DD} D_{it} + u_{it}\n",
    "$$\n",
    "\n",
    "であり、これは処置が複数時点（ここでは2時点）にわたる場合は\n",
    "\n",
    "$$\n",
    "\\hat{\\beta}^{DD} = \n",
    "s_{kU} \\hat{\\beta}^{DD}_{kU} +\n",
    "s_{\\ell U} \\hat{\\beta}^{DD}_{\\ell U} +\n",
    "[ s_{k \\ell} \\hat{\\beta}^{DD}_{k \\ell} +\n",
    "s_{\\ell k} \\hat{\\beta}^{DD}_{\\ell k} ]\n",
    "$$\n",
    "\n",
    "という加重平均になる。ここで\n",
    "\n",
    "- $\\hat{\\beta}^{DD}_{kU}$は最初の処置群kと非処置群$U$のDiD推定量\n",
    "- $\\hat{\\beta}^{DD}_{\\ell U}$は二番目の処置群$\\ell$と非処置群$U$のDiD推定量\n",
    "- $s_{k \\ell} \\hat{\\beta}^{DD}_{k \\ell}$：$k$は処置される前後の期間（処置群）を使い、$\\ell$は処置前の期間を使う（対照群）場合のDiD推定量\n",
    "- $s_{\\ell k} \\hat{\\beta}^{DD}_{\\ell k}$：$k$は処置後のみの期間（対照群）で$\\ell$は処置前後の期間（処置群）のDiD推定量\n",
    "\n",
    "である"
   ]
  },
  {
   "cell_type": "markdown",
   "id": "a3b3c806-904a-456f-9f20-c35daa2213d6",
   "metadata": {},
   "source": [
    "### Athey & Imbens (2022)\n",
    "\n",
    "[Athey, S., & Imbens, G. W. (2022). Design-based analysis in difference-in-differences settings with staggered adoption. Journal of Econometrics, 226(1), 62-79.](https://www.sciencedirect.com/science/article/abs/pii/S0304407621000488) [[pdf](http://www.library.fa.ru/files/Imbens3.pdf)]\n",
    "\n",
    "処置のタイミングが複数ある場合であっても、割当がランダムなら標準的なDIDが特定の加重平均因果効果の不偏推定量となる\n",
    "\n",
    ">  We show that under random assignment of the adoption date the standard Difference-In-Differences (DID) estimator is an unbiased estimator of a particular weighted average causal effect.\n"
   ]
  },
  {
   "cell_type": "markdown",
   "id": "321beb22-186f-45b2-a9cd-1c9a23a53102",
   "metadata": {},
   "source": [
    "## パッケージ\n",
    "\n",
    "### R: `{did}`パッケージ\n",
    "\n",
    "[Treatment Effects with Multiple Periods and Groups • did](https://bcallaway11.github.io/did/)\n",
    "\n",
    "以下に対応可能\n",
    "\n",
    "- 2時点以上の期間\n",
    "- 処置の時点が異なる\n",
    "- 並行トレンド仮定は共変量で条件づけたときのみ成立する\n",
    "\n",
    "理論面の説明\n",
    "\n",
    "- [Introduction to DiD with Multiple Time Periods • did](https://bcallaway11.github.io/did/articles/multi-period-did.html)\n",
    "- [Difference-in-Differences with multiple time periods - ScienceDirect](https://www.sciencedirect.com/science/article/abs/pii/S0304407620303948) \\[[arxiv](https://arxiv.org/abs/1803.09015)\\]\n",
    "\n"
   ]
  },
  {
   "cell_type": "markdown",
   "id": "acc229f9-673b-45a8-9abd-49b7dec96d03",
   "metadata": {},
   "source": [
    "## 参考文献\n",
    "\n",
    "- [Causal Inference The Mixtape - 9  Difference-in-Differences](https://mixtape.scunning.com/09-difference_in_differences)\n",
    "- [小西祥文 (2021) Staggered DIDの近年の動向](http://applied-economics.org/docs/SDID.pdf)\n",
    "  - [kazuyanagimoto/staggered_did_tutorial: 2023年5月28日に日本経済学会春季大会にて開催されたチュートリアル・セッション](https://github.com/kazuyanagimoto/staggered_did_tutorial)\n",
    "- [小西祥文 (2023) DIDの計量経済手法の近年の展開](https://kazuyanagimoto.com/staggered_did_tutorial/slides/SDID_Tutorial_Main.pdf)"
   ]
  },
  {
   "cell_type": "markdown",
   "id": "06ddad00-d4a2-48ac-9641-ee32af7ecde3",
   "metadata": {},
   "source": [
    "### サーベイ\n",
    "\n",
    "[[2201.01194] What's Trending in Difference-in-Differences? A Synthesis of the Recent Econometrics Literature](https://arxiv.org/abs/2201.01194)\n",
    "\n",
    "| Canonical Assumption | 理論的拡張（assumptionsの緩和） |\n",
    "| --- | --- |\n",
    "| Parallel Trend | 共変量で条件づけたときだけParallel Trend |\n",
    "| Single periods | Multiple periods and variation in treatment timing |\n",
    "\n",
    "\n",
    "- [Difference-in-differences in 2020: Common pitfalls and how to avoid them - YouTube](https://www.youtube.com/watch?v=mCOzQxJuvZk)"
   ]
  },
  {
   "cell_type": "markdown",
   "id": "2e3b7c20-052f-4f70-b1ae-06855a5b7273",
   "metadata": {},
   "source": [
    "## DID on distribution\n",
    "\n",
    "https://twitter.com/KwekuOA/status/1676679605355151362\n",
    "\n",
    "https://twitter.com/KwekuOA/status/1676681754952839169\n",
    "\n",
    "https://twitter.com/KwekuOA/status/1667285957245038594\n",
    "\n",
    "[Differences-in-Differences on Distribution Functions for Program Evaluations](https://developmenteconomicsx.com/wp-content/uploads/2023/07/PM10.pdf)\n",
    "\n",
    "- 拡張IPW推定を拡張\n",
    "- 各時点でのユニットの処置をIPWで補正\n",
    "- Wasserstein距離で処置前後の分布を比較\n"
   ]
  },
  {
   "cell_type": "code",
   "execution_count": null,
   "id": "c54debe7-a021-4bbf-9eee-f841a20f6467",
   "metadata": {},
   "outputs": [],
   "source": []
  }
 ],
 "metadata": {
  "kernelspec": {
   "display_name": "Python 3 (ipykernel)",
   "language": "python",
   "name": "python3"
  },
  "language_info": {
   "codemirror_mode": {
    "name": "ipython",
    "version": 3
   },
   "file_extension": ".py",
   "mimetype": "text/x-python",
   "name": "python",
   "nbconvert_exporter": "python",
   "pygments_lexer": "ipython3",
   "version": "3.9.18"
  }
 },
 "nbformat": 4,
 "nbformat_minor": 5
}
