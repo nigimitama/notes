{
 "cells": [
  {
   "cell_type": "markdown",
   "id": "2bc86984-bd42-42c8-bc9e-ffa36102fc4f",
   "metadata": {},
   "source": [
    "# Difference In Differences\n",
    "\n",
    "**差の差法**（difference in differences: DID）\n",
    "\n"
   ]
  },
  {
   "cell_type": "markdown",
   "id": "93b2e221-e6d2-4466-8ff7-d8f05ee9fa2d",
   "metadata": {},
   "source": [
    "## 2群・2期間のDID\n",
    "\n",
    "最もシンプルな2群・2期間のDIDを例にとる。\n",
    "\n",
    "結果変数を$Y$、処置変数を$X \\in \\{0, 1\\}$とする。\n",
    "グループ$k$の時点$t$を$Y_{kt}$とすると、推定したい効果$\\beta$だけでなくグループごとの固定効果$\\alpha_k$と時間ごとの効果$\\delta_t$も入ってくる。\n",
    "\n",
    "$$\n",
    "Y_{kt} = \\beta X_{kt} + \\alpha_k + \\delta_t + \\varepsilon_{kt}\n",
    "$$\n",
    "\n",
    "\n",
    "グループ$k=1$（処置群: $X_{10}=0, X_{11}=1$）\n",
    "\n",
    "- 処置前（$t=0$）：$Y_{10} = \\beta X_{10} + \\alpha_1 + \\delta_0 + \\varepsilon_{10} = \\alpha_1 + \\delta_0 + \\varepsilon_{10}$\n",
    "- 処置後（$t=1$）：$Y_{11} = \\beta X_{11} + \\alpha_1 + \\delta_1 + \\varepsilon_{11} = \\beta + \\alpha_1 + \\delta_1 + \\varepsilon_{11}$\n",
    "\n",
    "グループ$k=0$（対照群: $X_{00} = X_{01} = 0$）\n",
    "\n",
    "- 処置前（$t=0$）：$Y_{00} = \\beta X_{00} + \\alpha_0 + \\delta_0 + \\varepsilon_{00} = \\alpha_0 + \\delta_0 + \\varepsilon_{00}$\n",
    "- 処置後（$t=1$）：$Y_{01} = \\beta X_{01} + \\alpha_0 + \\delta_1 + \\varepsilon_{01} = \\alpha_0 + \\delta_1 + \\varepsilon_{01}$\n",
    "\n",
    "個体固定効果$\\alpha_k$を除去するため、グループごとに処置前後で差分をとると\n",
    "\n",
    "$$\n",
    "\\begin{align}\n",
    "Y_{11} - Y_{10}\n",
    "    &= \\beta + \\alpha_1 + \\delta_1 + \\varepsilon_{11} - (\\alpha_1 + \\delta_0 + \\varepsilon_{10})\\\\\n",
    "    &=  \\beta + \\alpha_1 - \\alpha_1 + \\delta_1 - \\delta_0 + \\varepsilon_{11} - \\varepsilon_{10}\\\\\n",
    "    &=  \\beta + \\delta_1 - \\delta_0 + \\varepsilon_{11} - \\varepsilon_{10}\\\\\n",
    "\\\\\n",
    "Y_{01} - Y_{00}\n",
    "    &= \\alpha_0 + \\delta_1 + \\varepsilon_{01} - (\\alpha_0 + \\delta_0 + \\varepsilon_{00})\\\\\n",
    "    &= \\alpha_0 - \\alpha_0 + \\delta_1 - \\delta_0 + \\varepsilon_{01} - \\varepsilon_{00}\\\\\n",
    "    &= \\delta_1 - \\delta_0 + \\varepsilon_{01} - \\varepsilon_{00}\\\\\n",
    "\\end{align}\n",
    "$$\n",
    "\n",
    "となり、時間固定効果$\\delta_t$を除去するために両者の差をとると\n",
    "\n",
    "$$\n",
    "\\begin{align}\n",
    "(Y_{11} - Y_{10}) - (Y_{01} - Y_{00})\n",
    "&= \\beta + \\delta_1 - \\delta_0 + \\varepsilon_{11} - \\varepsilon_{10} - (\\delta_1 - \\delta_0 + \\varepsilon_{01} - \\varepsilon_{00})\\\\\n",
    "&= \\beta + \\delta_1 - \\delta_0 - (\\delta_1 - \\delta_0) + \\varepsilon_{11} - \\varepsilon_{10} - (\\varepsilon_{01} - \\varepsilon_{00})\\\\\n",
    "&= \\beta + \\varepsilon_{11} - \\varepsilon_{10} - (\\varepsilon_{01} - \\varepsilon_{00})\\\\\n",
    "&\\approx \\beta\n",
    "\\end{align}\n",
    "$$\n",
    "\n",
    "となる"
   ]
  },
  {
   "cell_type": "code",
   "execution_count": null,
   "id": "2a1b7010-a32c-433f-844b-52c3486a409e",
   "metadata": {},
   "outputs": [],
   "source": []
  },
  {
   "cell_type": "markdown",
   "id": "85444a17-048c-4154-84bd-add51b3f7bb6",
   "metadata": {},
   "source": [
    "## $2\\times 2$差の差\n",
    "\n",
    "2群2期間のDIDを例に取る\n",
    "\n",
    "処置群$T$と対照群$U$が存在し、処置前を$\\text{Pre}$、処置後を$\\text{Post}$とする。DID推定量は各群の処置前後の$Y$の平均の差\n",
    "\n",
    "$$\n",
    "\\def\\pre{ \\text{Pre} }\n",
    "\\def\\post{ \\text{Post} }\n",
    "\\hat{\\delta}^{2\\times 2}_{TU}\n",
    "= \\big( E[Y_T | \\post] - E[Y_T | \\pre] \\big)\n",
    "- \\big( E[Y_U | \\post] - E[Y_U | \\pre] \\big)\n",
    "$$\n",
    "\n",
    "である。潜在的結果で表記すると次のようになる。\n",
    "\n",
    "$$\n",
    "\\hat{\\delta}^{2\\times 2}_{TU}\n",
    "= \\big( E[Y^1_T | \\post] - E[Y^0_T | \\pre] \\big)\n",
    "- \\big( E[Y^0_U | \\post] - E[Y^0_U | \\pre] \\big)\n",
    "$$\n",
    "\n",
    "ゼロを加えて整理すると\n",
    "\n",
    "$$\n",
    "\\begin{align}\n",
    "\\hat{\\delta}^{2\\times 2}_{TU}\n",
    "&= \\big( E[Y^1_T | \\post] - E[Y^0_T | \\pre] \\big)\n",
    "- \\big( E[Y^0_U | \\post] - E[Y^0_U | \\pre] \\big)\n",
    "+ \\underbrace{ E[Y^0_T | \\post] - E[Y^0_T | \\post] }_{0}\n",
    "\\\\\n",
    "&= \\underbrace{ E[Y^1_T | \\post]  - E[Y^0_T | \\post] }_{ATT}\n",
    "+ \\underbrace{ \n",
    "    \\big[ E[Y^0_T | \\post] - E[Y^0_T | \\pre] \\big]\n",
    "    - \\big[ E[Y^0_U | \\post] - E[Y^0_U | \\pre] \\big]\n",
    "}_{並行トレンドが成り立たない場合のバイアス}\n",
    "\\end{align}\n",
    "$$\n",
    "\n",
    "となり、並行トレンドの仮定が成り立てばDID推定量はATTを推定することになる。\n",
    "\n",
    "ここで$E[Y^0_T|\\post]$は実際には観測できない反実仮想であるため、並行トレンドの存在は検証不可能である。"
   ]
  },
  {
   "cell_type": "markdown",
   "id": "75693da3-f1ea-4772-89ed-9a636734c1b0",
   "metadata": {},
   "source": []
  },
  {
   "cell_type": "markdown",
   "id": "f33597ed-ae6f-440b-8564-c6ae2981edf6",
   "metadata": {},
   "source": [
    "## DIDの仮定\n",
    "\n",
    "### 並行トレンドの仮定\n",
    "\n",
    "時間固定効果がすべてのユニット（観測対象）で同じであり、期間の間で変化しないことを**並行トレンド**（parallel trends）の仮定と呼ぶ。\n",
    "\n",
    "\n"
   ]
  },
  {
   "cell_type": "markdown",
   "id": "8db94f2f-87d1-4860-b6c2-0fd951056327",
   "metadata": {},
   "source": [
    "## Multiple\n",
    "\n",
    "介入時点が複数ある時のための理論\n",
    "\n",
    "以前は介入時点を0とするように指数化してまとめて扱うこともあったようだが、介入時点が異なるものは別個のグループとして扱って加重平均するほうがよいことがJournal of Econometricsの論文で示されたらしい"
   ]
  },
  {
   "cell_type": "code",
   "execution_count": null,
   "id": "5dac77c7-77a3-4299-8c79-7f1aff1b3ee8",
   "metadata": {},
   "outputs": [],
   "source": []
  },
  {
   "cell_type": "markdown",
   "id": "162c193b-1c4a-4e43-9e47-e433c1b093e9",
   "metadata": {},
   "source": [
    "## Event study"
   ]
  },
  {
   "cell_type": "code",
   "execution_count": null,
   "id": "192463b9-9896-4668-b642-86cdcdd86969",
   "metadata": {},
   "outputs": [],
   "source": []
  },
  {
   "cell_type": "code",
   "execution_count": null,
   "id": "a6d999b1-3643-4e0f-9298-fad0842bc406",
   "metadata": {},
   "outputs": [],
   "source": []
  },
  {
   "cell_type": "markdown",
   "id": "5f0c5e2c-d81f-41b9-8e30-6bbe64f60252",
   "metadata": {},
   "source": [
    "## Synthetic Difference In Differences\n",
    "\n",
    "[Clarke, D., Pailañir, D., Athey, S., & Imbens, G. (2023). Synthetic Difference In Differences Estimation. arXiv preprint arXiv:2301.11859.](https://arxiv.org/pdf/2301.11859.pdf)"
   ]
  },
  {
   "cell_type": "code",
   "execution_count": null,
   "id": "6e5ca6c8-e198-4038-8f85-acdcfa3448f1",
   "metadata": {},
   "outputs": [],
   "source": []
  }
 ],
 "metadata": {
  "kernelspec": {
   "display_name": "Python 3 (ipykernel)",
   "language": "python",
   "name": "python3"
  },
  "language_info": {
   "codemirror_mode": {
    "name": "ipython",
    "version": 3
   },
   "file_extension": ".py",
   "mimetype": "text/x-python",
   "name": "python",
   "nbconvert_exporter": "python",
   "pygments_lexer": "ipython3",
   "version": "3.9.16"
  }
 },
 "nbformat": 4,
 "nbformat_minor": 5
}
