{
 "cells": [
  {
   "cell_type": "markdown",
   "id": "7cc09e48-32d6-432a-a749-d4fa1fed7a47",
   "metadata": {},
   "source": [
    "# 一般化モーメント法\n",
    "\n"
   ]
  },
  {
   "cell_type": "markdown",
   "id": "c68de094-812b-47f3-be54-ae9c5ad0dff0",
   "metadata": {},
   "source": [
    "## モーメント法\n",
    "\n",
    "モーメント法（method of moment）は統計的推定における方法の1つで、母集団におけるモーメント（母平均など）を標本におけるモーメント（標本平均など）で置き換えて推定を行う。\n",
    "\n",
    "一般に、スコア関数$\\psi(x, \\theta)$について\n",
    "\n",
    "$$\n",
    "E[\\psi(x, \\theta)] = 0\n",
    "$$\n",
    "\n",
    "の条件"
   ]
  },
  {
   "cell_type": "markdown",
   "id": "9c2a70ec-0bf5-4e53-88c9-75b580b959ec",
   "metadata": {},
   "source": [
    "### 例：平均と分散\n",
    "\n",
    "確率変数$X \\sim N(\\mu, \\sigma^2)$について、1次と2次のモーメントは\n",
    "\n",
    "$$\n",
    "\\begin{align}\n",
    "E[X] &= \\mu\\\\\n",
    "E[X^2] &= \\sigma^2 + \\mu^2\n",
    "\\end{align}\n",
    "$$\n",
    "\n",
    "これを標本で推定することで、平均と分散の推定量を得られる。"
   ]
  },
  {
   "cell_type": "markdown",
   "id": "99402171-705c-43e3-b6d8-311310beb35b",
   "metadata": {},
   "source": [
    "### 例：線形回帰モデル\n",
    "\n",
    "$$\n",
    "Y_i = X_i^T \\beta + u_i\n",
    "$$\n",
    "\n",
    "ここで$X$と$\\beta$は$(K\\times 1)$ベクトルとする。$X$は誤差項と無相関$E[X_i u_i] = 0$であるとする。\n",
    "\n",
    "このモデルから$K$本のモーメント条件が得られる\n",
    "\n",
    "$$\n",
    "E[X_i (Y_i - X_i^T \\beta)] = 0\n",
    "$$\n",
    "\n",
    "\n"
   ]
  },
  {
   "cell_type": "markdown",
   "id": "4be55d93-eb1d-4d2f-b51c-6a134f128c9b",
   "metadata": {},
   "source": [
    "## 一般化モーメント法（GMM）\n",
    "\n",
    "未知のパラメータの数$m$とモーメント条件の数$k$が、$m>k$の場合（例えば複数の操作変数を用いる場合）、モーメント法ではパラメータをうまく推定できない。\n",
    "\n",
    "**一般化モーメント法（generalized method of moment: GMM）**はモーメント条件の数"
   ]
  },
  {
   "cell_type": "markdown",
   "id": "c32de648-f5bd-40c7-afe9-682ea88957de",
   "metadata": {},
   "source": [
    "## 参考文献\n",
    "\n",
    "- [補足資料 1：一般化モーメント法 (GMM) に関するノート](https://www.nippyo.co.jp/blogkeisemi/wp-content/uploads/sites/5/2021/07/Draft_Keisemi_Demand2_Appendix1_GMM_v3.pdf)"
   ]
  },
  {
   "cell_type": "code",
   "execution_count": null,
   "id": "059ea4f3-18db-47b9-9e5e-e56f5af203ee",
   "metadata": {},
   "outputs": [],
   "source": []
  }
 ],
 "metadata": {
  "kernelspec": {
   "display_name": "Python 3 (ipykernel)",
   "language": "python",
   "name": "python3"
  },
  "language_info": {
   "codemirror_mode": {
    "name": "ipython",
    "version": 3
   },
   "file_extension": ".py",
   "mimetype": "text/x-python",
   "name": "python",
   "nbconvert_exporter": "python",
   "pygments_lexer": "ipython3",
   "version": "3.9.17"
  }
 },
 "nbformat": 4,
 "nbformat_minor": 5
}
