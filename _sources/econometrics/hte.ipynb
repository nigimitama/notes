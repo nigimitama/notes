{
 "cells": [
  {
   "cell_type": "markdown",
   "id": "6dfe91e2-296c-4caf-a24d-3258b48f6123",
   "metadata": {},
   "source": [
    "# Heterogeneous Treatment Effectsの推定\n",
    "\n",
    "$$\n",
    "HTE = E[Y|X=x, D=1] - E[Y|X=x, D=0]\n",
    "$$\n"
   ]
  },
  {
   "cell_type": "markdown",
   "id": "6ccfe947-a177-4941-98e3-0e9b0c77d118",
   "metadata": {},
   "source": [
    "## Tree-based Algorithms\n",
    "\n",
    "### Causal Tree\n"
   ]
  },
  {
   "cell_type": "markdown",
   "id": "51e45edc-3856-4bca-aefe-ac1b679a6499",
   "metadata": {},
   "source": [
    "### GRFは欠陥あり？\n",
    "\n",
    "Atlantic causal inference conferenceの因果推論コンペでの成績は悪かったらしい\n",
    "\n",
    "（[Ken McAlinnさんはTwitterを使っています: 「因果推定コンテストで回帰分析にボロ負けした話もちゃんと載せてほしい。」 / Twitter](https://twitter.com/kenmcalinn/status/1630768792912506881)）"
   ]
  },
  {
   "cell_type": "markdown",
   "id": "94d08a58-c305-4e4e-a56d-deda04f26101",
   "metadata": {},
   "source": [
    "### 参考\n",
    "\n",
    "- Susan Atheyらの講義資料：[Estimation of Heterogeneous Treatment Effects](https://gsbdbi.github.io/ml_tutorial/hte_tutorial/hte_tutorial.html)\n",
    "- [Wager, S., & Athey, S. (2015). Estimation and inference of heterogeneous treatment effects using random forests. arXiv preprint arXiv: 151004342.](https://arxiv.org/abs/1510.04342)\n",
    "  - 関連：[Wager, S. (2014). Asymptotic theory for random forests. arXiv preprint arXiv:1405.0352.](https://arxiv.org/abs/1405.0352)\n",
    "- [Athey, S., & Wager, S. (2019). Estimating treatment effects with causal forests: An application. Observational Studies, 5(2), 37-51.](https://arxiv.org/abs/1902.07409)"
   ]
  },
  {
   "cell_type": "markdown",
   "id": "fa0e4668-bf5d-43a8-aab5-e2c32efa61a8",
   "metadata": {},
   "source": [
    "## X-Learners\n",
    "\n",
    "処置$D$、共変量$X$で条件付けたときの結果変数$Y$の期待値を推定する回帰関数$E[Y|X=x, D=d] \\approx m_d(x)$を機械学習など任意のアルゴリズムによって推定し、処置群と対照群におけるそれの差\n",
    "\n",
    "$$\n",
    "\\hat{HTE} = m_1(x) - m_0(x)\n",
    "$$\n",
    "\n",
    "としてHTEを推定する"
   ]
  },
  {
   "cell_type": "code",
   "execution_count": null,
   "id": "52e99f64-4821-498d-9673-c8dbe47cd0bd",
   "metadata": {},
   "outputs": [],
   "source": []
  },
  {
   "cell_type": "markdown",
   "id": "9eb88556-2d62-4e89-bcbb-7e4a1c6d2df2",
   "metadata": {},
   "source": [
    "## CATE\n",
    "\n",
    "\n",
    "HTEと同じと思われる\n",
    "\n",
    "\n",
    "### 参考（積読リスト）\n",
    "\n",
    "- [Baybutt, A., & Navjeevan, M. (2023). Doubly-Robust Inference for Conditional Average Treatment Effects with High-Dimensional Controls. arXiv preprint arXiv:2301.06283.](https://arxiv.org/pdf/2301.06283.pdf)"
   ]
  },
  {
   "cell_type": "code",
   "execution_count": null,
   "id": "ecd63070-d7cb-496c-995e-07d835d31a33",
   "metadata": {},
   "outputs": [],
   "source": []
  }
 ],
 "metadata": {
  "kernelspec": {
   "display_name": "Python 3 (ipykernel)",
   "language": "python",
   "name": "python3"
  },
  "language_info": {
   "codemirror_mode": {
    "name": "ipython",
    "version": 3
   },
   "file_extension": ".py",
   "mimetype": "text/x-python",
   "name": "python",
   "nbconvert_exporter": "python",
   "pygments_lexer": "ipython3",
   "version": "3.9.16"
  }
 },
 "nbformat": 4,
 "nbformat_minor": 5
}
