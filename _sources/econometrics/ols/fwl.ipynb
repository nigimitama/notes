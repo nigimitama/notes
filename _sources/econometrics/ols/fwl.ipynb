{
 "cells": [
  {
   "cell_type": "markdown",
   "id": "9ba12244-7d47-455d-b2e4-873b441c253f",
   "metadata": {},
   "source": [
    "# FWL定理"
   ]
  },
  {
   "cell_type": "markdown",
   "id": "fec5ca4d-f977-408d-b5be-b1bd5c99d172",
   "metadata": {},
   "source": [
    "[Amazon.co.jp: 計量経済学 New Liberal Arts Selection eBook : 西山慶彦, 新谷元嗣, 川口大司, 奥井亮: Kindleストア](https://www.amazon.co.jp/dp/B07YGPBF95)\n",
    "のp152, p664-669に書いてあるらしい"
   ]
  },
  {
   "cell_type": "markdown",
   "id": "3a01678c-8a04-44a6-ba6a-1db4770cb649",
   "metadata": {},
   "source": [
    "## OLSのPartialling out解釈\n",
    "\n",
    "$$\n",
    "y = \\beta_0 + \\beta_1 x_1 + \\beta_2 x_2 + \\varepsilon\n",
    "$$\n",
    "\n",
    "というモデルの$\\beta_1$は\n",
    "\n",
    "1. $y$を$x_1$に回帰する：$y = \\beta_0 + \\beta_1 x_1 + \\beta_2 z_2 + \\varepsilon$\n",
    "2. $y$を$\\tilde{x}_1$に回帰する（ここで$\\tilde{x}_1$は$x_1$を$x_2$に回帰した残差）\n",
    "3. $\\tilde{y}$を$\\tilde{x}_1$に回帰する（ここで$\\tilde{y}$は$y$を$x_2$に回帰した残差）\n",
    "\n",
    "の3つの方法のいずれかで推定することができる"
   ]
  },
  {
   "cell_type": "markdown",
   "id": "4d0b84b2-12c4-4322-af0b-a904cadd08d3",
   "metadata": {},
   "source": [
    "### 数値例"
   ]
  },
  {
   "cell_type": "code",
   "execution_count": 1,
   "id": "61a103a0-3030-4c45-8ea0-13a6375710c6",
   "metadata": {},
   "outputs": [],
   "source": [
    "import numpy as np\n",
    "\n",
    "n = 1000\n",
    "np.random.seed(0)\n",
    "x0 = np.ones(shape=(n, ))\n",
    "x2 = np.random.uniform(0, 1, size=n)\n",
    "x1 = 3 * x2 + np.random.uniform(0, 1, size=n) + np.random.normal(0, 1, size=n)\n",
    "X = np.array([ x0, x1, x2 ]).T\n",
    "e = np.random.normal(0, 1, size=n)\n",
    "\n",
    "beta = np.array([10, 5, 7])  # 真のbeta\n",
    "y = X @ beta + e"
   ]
  },
  {
   "cell_type": "code",
   "execution_count": 2,
   "id": "192ba225-0547-4d85-b2c2-3a9177c98fe5",
   "metadata": {},
   "outputs": [
    {
     "name": "stderr",
     "output_type": "stream",
     "text": [
      "/usr/local/lib/python3.9/site-packages/numpy/lib/function_base.py:2854: RuntimeWarning: invalid value encountered in divide\n",
      "  c /= stddev[:, None]\n",
      "/usr/local/lib/python3.9/site-packages/numpy/lib/function_base.py:2855: RuntimeWarning: invalid value encountered in divide\n",
      "  c /= stddev[None, :]\n"
     ]
    },
    {
     "data": {
      "text/plain": [
       "array([[       nan,        nan,        nan],\n",
       "       [       nan, 1.        , 0.64601675],\n",
       "       [       nan, 0.64601675, 1.        ]])"
      ]
     },
     "execution_count": 2,
     "metadata": {},
     "output_type": "execute_result"
    }
   ],
   "source": [
    "np.corrcoef(X, rowvar=False)"
   ]
  },
  {
   "cell_type": "code",
   "execution_count": 3,
   "id": "686caa7d-059d-4ca1-91d8-1ec0c8ab8399",
   "metadata": {},
   "outputs": [],
   "source": [
    "class OLS:\n",
    "    def fit(self, X, y):\n",
    "        self.beta_ = np.linalg.inv(X.T @ X) @ X.T @ y\n",
    "        return self\n",
    "\n",
    "    def predict(self, X):\n",
    "        return X @ self.beta_"
   ]
  },
  {
   "cell_type": "markdown",
   "id": "693374c0-d18a-4c2e-81fd-dab1f7601279",
   "metadata": {},
   "source": [
    "#### 1. $y$を$x_1$に回帰する\n",
    "\n",
    "$y = \\beta_0 + \\beta_1 x_1 + \\beta_2 z_2 + \\varepsilon$"
   ]
  },
  {
   "cell_type": "code",
   "execution_count": 4,
   "id": "0c953cb7-bb01-44fc-98e9-ba562fe1f878",
   "metadata": {},
   "outputs": [
    {
     "data": {
      "text/plain": [
       "array([9.98226817, 5.03640436, 6.80111723])"
      ]
     },
     "execution_count": 4,
     "metadata": {},
     "output_type": "execute_result"
    }
   ],
   "source": [
    "# 1. 𝑦 を 𝑥1 に回帰する\n",
    "OLS().fit(X, y).beta_"
   ]
  },
  {
   "cell_type": "markdown",
   "id": "f6c21163-916b-4f55-ad38-56e158b88557",
   "metadata": {},
   "source": [
    "#### 2. $y$を$\\tilde{x}_1$に回帰する\n",
    "\n",
    "ここで$\\tilde{x}_1$は$x_1$を$x_2$に回帰した残差\n"
   ]
  },
  {
   "cell_type": "code",
   "execution_count": 5,
   "id": "f968289c-7601-4aad-88be-bdc650847cd3",
   "metadata": {},
   "outputs": [
    {
     "data": {
      "text/plain": [
       "array([23.29878836,  5.03640436])"
      ]
     },
     "execution_count": 5,
     "metadata": {},
     "output_type": "execute_result"
    }
   ],
   "source": [
    "# 2. 𝑦 を 𝑥̃ 1 に回帰する\n",
    "X_ = X[:, [0, 2]] # x0, x2だけのX\n",
    "x1_res = x1 - OLS().fit(X_, x1).predict(X_)\n",
    "\n",
    "# 切片を付けた場合\n",
    "X_ = np.array([ x0, x1_res ]).T\n",
    "OLS().fit(X_, y).beta_"
   ]
  },
  {
   "cell_type": "code",
   "execution_count": 6,
   "id": "ce846b27-962e-4484-aa77-cb0d7c86b4f2",
   "metadata": {},
   "outputs": [
    {
     "data": {
      "text/plain": [
       "array([5.03640436])"
      ]
     },
     "execution_count": 6,
     "metadata": {},
     "output_type": "execute_result"
    }
   ],
   "source": [
    "# 切片を付けない場合\n",
    "OLS().fit(x1_res.reshape(-1, 1), y).beta_"
   ]
  },
  {
   "cell_type": "markdown",
   "id": "23065afb-30fe-48ec-8a7a-01abe8fd8b20",
   "metadata": {},
   "source": [
    "#### 3. $\\tilde{y}$を$\\tilde{x}_1$に回帰する\n",
    "\n",
    "ここで$\\tilde{y}$は$y$を$x_2$に回帰した残差"
   ]
  },
  {
   "cell_type": "code",
   "execution_count": 7,
   "id": "bd0da92a-ff16-469a-bafa-6dd4e47e9dbf",
   "metadata": {},
   "outputs": [
    {
     "data": {
      "text/plain": [
       "array([5.03640436])"
      ]
     },
     "execution_count": 7,
     "metadata": {},
     "output_type": "execute_result"
    }
   ],
   "source": [
    "# 3. 𝑦̃ を 𝑥̃ 1 に回帰する\n",
    "X_ = X[:, [0, 2]] # x0, x2だけのX\n",
    "y_res = y - OLS().fit(X_, y).predict(X_)\n",
    "\n",
    "# 切片を付けない場合\n",
    "OLS().fit(x1_res.reshape(-1, 1), y_res).beta_"
   ]
  },
  {
   "cell_type": "code",
   "execution_count": 8,
   "id": "c7496f48-657a-4681-8b18-6bedd3bffcee",
   "metadata": {},
   "outputs": [
    {
     "data": {
      "text/plain": [
       "array([8.32667268e-17, 5.03640436e+00])"
      ]
     },
     "execution_count": 8,
     "metadata": {},
     "output_type": "execute_result"
    }
   ],
   "source": [
    "# 切片を付けた場合\n",
    "X_ = np.array([ x0, x1_res ]).T\n",
    "OLS().fit(X_, y_res).beta_"
   ]
  },
  {
   "cell_type": "markdown",
   "id": "668f1358-ac50-4d57-bd0b-52f5f8bcbfc5",
   "metadata": {},
   "source": [
    "### partialling out\n",
    "\n",
    "OLS推定では説明変数と残差の共分散はゼロになる。\n",
    "\n",
    "$$\n",
    "y = \\beta_0 + \\beta_1 x_1 + \\cdots + \\beta_j x_j + \\cdots + \\beta_d x_d + \\varepsilon\n",
    "$$\n",
    "\n",
    "というモデルがあったとき、説明変数$x_j$を他のすべての説明変数に回帰すると、その残差$\\tilde{x}_j$は説明変数$x_j$の分散の情報を残す一方で他の説明変数とは無相関になる。\n",
    "\n",
    "したがって$y$をこの残差$\\tilde{x}_j$に回帰すると、その回帰係数$\\beta_j$は$y$に対する$x_j$の影響のみを示す。\n",
    "\n",
    "→他の変数の影響を排除（partialling out）できる"
   ]
  },
  {
   "cell_type": "markdown",
   "id": "fb49ac96-8ee2-4a4d-9bf8-cd4535d344ef",
   "metadata": {},
   "source": [
    "## FWL定理\n",
    "\n"
   ]
  },
  {
   "cell_type": "code",
   "execution_count": null,
   "id": "816f2156-70bc-48c2-aac7-cdf470749880",
   "metadata": {},
   "outputs": [],
   "source": []
  },
  {
   "cell_type": "markdown",
   "id": "6aee6849-cb09-4397-b29f-55f5319c6935",
   "metadata": {},
   "source": [
    "https://www.fbc.keio.ac.jp/~tyabu/keiryo/fwl.pdf"
   ]
  },
  {
   "cell_type": "code",
   "execution_count": null,
   "id": "2f6f4b9e-49bc-49f8-99f6-a93e589ae9e9",
   "metadata": {},
   "outputs": [],
   "source": []
  },
  {
   "cell_type": "markdown",
   "id": "cb0167cc-4420-498f-be1c-0b949b6a31bf",
   "metadata": {},
   "source": [
    "## FWL定理の応用\n",
    "\n",
    "### データの可視化\n",
    "\n",
    "元のモデルに$d$次元の説明変数があったとしても、$\\tilde{x}_j$と$y$の関係へと次元を削減することができるため、グラフに表示しやすい。\n",
    "\n",
    "### 計算の高速化\n",
    "\n",
    "[PyHDFE](https://pyhdfe.readthedocs.io/en/stable/index.html)パッケージのような高次元データの分析において活用されているらしい\n",
    "\n",
    "### 統計的因果推論\n",
    "\n",
    "> I am referring to the work on post-double selection by Belloni, Chernozhukov, Hansen (2013) and the follow up work on “double machine learning” by Chernozhukov, Chetverikov, Demirer, Duflo, Hansen, Newey, Robins (2018).\n",
    "\n",
    "- [Belloni et al. (2014)](https://academic.oup.com/restud/article-abstract/81/2/608/1523757?login=false)のpost-double selection\n",
    "- Chernozhukov et al. (2018)の[Double/debiased machine learning](https://academic.oup.com/ectj/article/21/1/C1/5056401?login=false)\n"
   ]
  },
  {
   "cell_type": "markdown",
   "id": "45e1dcc7-0233-4b3c-bac4-255c9acbf311",
   "metadata": {},
   "source": [
    "## References\n",
    "\n",
    "- http://www2.kobe-u.ac.jp/~kawabat/ch03j_wooldridge.pdf\n",
    "- [Understanding the Frisch-Waugh-Lovell Theorem | by Matteo Courthoud | Towards Data Science](https://towardsdatascience.com/the-fwl-theorem-or-how-to-make-all-regressions-intuitive-59f801eb3299)\n",
    "\n",
    "FWL\n",
    "- Frisch, R., & Waugh, F. V. (1933). [Partial time regressions as compared with individual trends](https://www.jstor.org/stable/1907330). Econometrica: Journal of the Econometric Society, 387-401.\n",
    "- Lovell, M. C. (1963). [Seasonal adjustment of economic time series and multiple regression analysis](https://www.tandfonline.com/doi/abs/10.1080/01621459.1963.10480682). Journal of the American Statistical Association, 58(304), 993-1010.\n"
   ]
  },
  {
   "cell_type": "markdown",
   "id": "0336a49b-1bbf-4485-841c-8d00527ac3b9",
   "metadata": {},
   "source": [
    "## （考察）再帰的なpartialling outで任意のパラメータを任意の次元で推定できないか？\n",
    "\n",
    "→ できなかった\n",
    "\n",
    "うまくいってAdditive modelとのつながりが見えれば面白かったんだが"
   ]
  },
  {
   "cell_type": "code",
   "execution_count": 9,
   "id": "0ddc2940-b387-45e8-960a-58ed96da425b",
   "metadata": {},
   "outputs": [],
   "source": [
    "import numpy as np\n",
    "\n",
    "n = 1000\n",
    "np.random.seed(0)\n",
    "x0 = np.ones(shape=(n, ))\n",
    "x2 = np.random.uniform(0, 1, size=n)\n",
    "x3 = np.random.uniform(0, 1, size=n)\n",
    "x1 = x2 + x3 + np.random.normal(0, 1, size=n)\n",
    "X = np.array([ x0, x1, x2, x3 ]).T\n",
    "e = np.random.normal(0, 1, size=n)\n",
    "\n",
    "beta = np.array([10, 5, 7, 3])  # 真のbeta\n",
    "y = X @ beta + e"
   ]
  },
  {
   "cell_type": "code",
   "execution_count": 11,
   "id": "ae08425d-881e-4501-a431-87c1891d3325",
   "metadata": {},
   "outputs": [],
   "source": [
    "class OLS:\n",
    "    def fit(self, X, y):\n",
    "        self.beta_ = np.linalg.inv(X.T @ X) @ X.T @ y\n",
    "        return self\n",
    "\n",
    "    def predict(self, X):\n",
    "        return X @ self.beta_"
   ]
  },
  {
   "cell_type": "markdown",
   "id": "b923919a-0e11-4e3d-bc99-ed0d0da94240",
   "metadata": {},
   "source": [
    "#### 1. $y$を$x_1$に回帰する\n",
    "\n",
    "$y = \\beta_0 + \\beta_1 x_1 + \\beta_2 z_2 + \\varepsilon$"
   ]
  },
  {
   "cell_type": "code",
   "execution_count": 12,
   "id": "b04d1de5-3586-4b76-aaff-8f58c42febec",
   "metadata": {},
   "outputs": [
    {
     "data": {
      "text/plain": [
       "array([9.95538609, 5.03200117, 6.87766976, 3.05740035])"
      ]
     },
     "execution_count": 12,
     "metadata": {},
     "output_type": "execute_result"
    }
   ],
   "source": [
    "# 1. 𝑦 を 𝑥1 に回帰する\n",
    "OLS().fit(X, y).beta_"
   ]
  },
  {
   "cell_type": "markdown",
   "id": "6ff36279-5dac-4ee0-9c80-89777df87fde",
   "metadata": {},
   "source": [
    "#### 2. $y$を$\\tilde{x}_1$に回帰する\n",
    "\n",
    "ここで$\\tilde{x}_1$は$x_1$を残りの説明変数に回帰した残差\n",
    "\n",
    "$$\n",
    "\\tilde{x}_1 = x_1 - (\\hat{\\beta}_0 + \\hat{\\beta}_2 x_2 + \\hat{\\beta}_3 x_3)\n",
    "$$\n"
   ]
  },
  {
   "cell_type": "code",
   "execution_count": 41,
   "id": "bb40e6a9-1dce-4e44-8baf-e8ad0242af7f",
   "metadata": {},
   "outputs": [
    {
     "data": {
      "text/plain": [
       "array([5.03200117])"
      ]
     },
     "execution_count": 41,
     "metadata": {},
     "output_type": "execute_result"
    }
   ],
   "source": [
    "# 2. 𝑦 を 𝑥̃ 1 に回帰する\n",
    "X_ = X[:, [0, 2, 3]]\n",
    "x1_res = x1 - OLS().fit(X_, x1).predict(X_)\n",
    "\n",
    "\n",
    "# 切片を付けない場合\n",
    "OLS().fit(x1_res.reshape(-1, 1), y).beta_"
   ]
  },
  {
   "cell_type": "code",
   "execution_count": 42,
   "id": "843441fc-7499-4185-ac37-6f4f0e468902",
   "metadata": {},
   "outputs": [
    {
     "data": {
      "text/plain": [
       "<matplotlib.collections.PathCollection at 0x7ff0340d5430>"
      ]
     },
     "execution_count": 42,
     "metadata": {},
     "output_type": "execute_result"
    },
    {
     "data": {
      "image/png": "[encoded data removed]",
      "text/plain": [
       "<Figure size 640x480 with 1 Axes>"
      ]
     },
     "metadata": {},
     "output_type": "display_data"
    }
   ],
   "source": [
    "import matplotlib.pyplot as plt\n",
    "plt.scatter(x1_res, x1)"
   ]
  },
  {
   "cell_type": "code",
   "execution_count": 44,
   "id": "80d83ceb-b72a-4fad-b071-349ff00903ca",
   "metadata": {},
   "outputs": [
    {
     "data": {
      "text/plain": [
       "0.933"
      ]
     },
     "execution_count": 44,
     "metadata": {},
     "output_type": "execute_result"
    }
   ],
   "source": [
    "from scipy.stats import pearsonr\n",
    "pearsonr(x1_res, x1).statistic.round(3)"
   ]
  },
  {
   "cell_type": "markdown",
   "id": "04ca8691-328a-436c-a541-d9d8d1498500",
   "metadata": {},
   "source": [
    "説明変数1つずつでpartialling outできないか？\n",
    "\n",
    "1. $\\tilde{x}_1 = x_1 - \\hat{\\beta}_0 x_0$\n",
    "2. $\\tilde{x}_1 = \\tilde{x}_1 - \\hat{\\beta}_2 x_2$\n",
    "3. $\\tilde{x}_1 = \\tilde{x}_1 - \\hat{\\beta}_3 x_3$\n"
   ]
  },
  {
   "cell_type": "markdown",
   "id": "d1762123-217f-4203-9acf-4cf6a2dbdeae",
   "metadata": {},
   "source": [
    "for all nuisance parameter indices $j \\in J$\n",
    "\n",
    "1. $\\newcommand{\\argmin}{\\mathop{\\arg\\min}} \\hat{\\beta}_j = \\argmin_{\\beta_j} E[(y - \\beta_j x_j)^2]$\n",
    "2. $\\tilde{x}_j = y - \\hat{\\beta}_j x_j$"
   ]
  },
  {
   "cell_type": "code",
   "execution_count": 58,
   "id": "09029ddb-b3ac-450e-a6fa-04f5129e1cf4",
   "metadata": {},
   "outputs": [
    {
     "name": "stdout",
     "output_type": "stream",
     "text": [
      "corr(x1_res, x1): 1.000\n",
      "beta1           : 5.750\n",
      "corr(x1_res, x1): 0.998\n",
      "beta1           : 3.435\n",
      "corr(x1_res, x1): 0.998\n",
      "beta1           : 2.925\n"
     ]
    },
    {
     "data": {
      "text/plain": [
       "array([2.92542108])"
      ]
     },
     "execution_count": 58,
     "metadata": {},
     "output_type": "execute_result"
    }
   ],
   "source": [
    "# 2. 𝑦 を 𝑥̃ 1 に回帰する\n",
    "x1_res = x1.copy()\n",
    "nuisance_indices = [0, 2, 3]\n",
    "for i in nuisance_indices:\n",
    "    X_ = X[:, [i]]\n",
    "    x1_res = x1_res - OLS().fit(X_, x1_res).predict(X_)\n",
    "    print(f\"corr(x1_res, x1): {pearsonr(x1_res, x1).statistic:.3f}\")\n",
    "    print(f\"beta1           : {OLS().fit(x1_res.reshape(-1, 1), y).beta_[0]:.3f}\")\n",
    "\n",
    "OLS().fit(x1_res.reshape(-1, 1), y).beta_"
   ]
  },
  {
   "cell_type": "code",
   "execution_count": 61,
   "id": "27c99300-d357-47a9-b25d-152ab7a1f554",
   "metadata": {},
   "outputs": [
    {
     "name": "stdout",
     "output_type": "stream",
     "text": [
      "corr(x1_res, x1): 0.887\n",
      "beta1           : 7.193\n",
      "corr(x1_res, x1): 0.876\n",
      "beta1           : 2.998\n",
      "corr(x1_res, x1): 0.876\n",
      "beta1           : 4.613\n"
     ]
    },
    {
     "data": {
      "text/plain": [
       "array([4.61310126])"
      ]
     },
     "execution_count": 61,
     "metadata": {},
     "output_type": "execute_result"
    }
   ],
   "source": [
    "# 2. 𝑦 を 𝑥̃ 1 に回帰する\n",
    "x1_res = x1.copy()\n",
    "nuisance_indices = [0, 2, 3]\n",
    "for i in nuisance_indices[::-1]:\n",
    "    X_ = X[:, [i]]\n",
    "    x1_res = x1_res - OLS().fit(X_, x1_res).predict(X_)\n",
    "    print(f\"corr(x1_res, x1): {pearsonr(x1_res, x1).statistic:.3f}\")\n",
    "    print(f\"beta1           : {OLS().fit(x1_res.reshape(-1, 1), y).beta_[0]:.3f}\")\n",
    "\n",
    "OLS().fit(x1_res.reshape(-1, 1), y).beta_"
   ]
  },
  {
   "cell_type": "code",
   "execution_count": null,
   "id": "d6f443b9-0e59-48fd-a9d7-7dc2a70a2530",
   "metadata": {},
   "outputs": [],
   "source": []
  }
 ],
 "metadata": {
  "kernelspec": {
   "display_name": "Python 3 (ipykernel)",
   "language": "python",
   "name": "python3"
  },
  "language_info": {
   "codemirror_mode": {
    "name": "ipython",
    "version": 3
   },
   "file_extension": ".py",
   "mimetype": "text/x-python",
   "name": "python",
   "nbconvert_exporter": "python",
   "pygments_lexer": "ipython3",
   "version": "3.9.16"
  }
 },
 "nbformat": 4,
 "nbformat_minor": 5
}
