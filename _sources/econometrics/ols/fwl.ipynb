{
 "cells": [
  {
   "cell_type": "markdown",
   "id": "9ba12244-7d47-455d-b2e4-873b441c253f",
   "metadata": {},
   "source": [
    "# FWL定理"
   ]
  },
  {
   "cell_type": "markdown",
   "id": "3a01678c-8a04-44a6-ba6a-1db4770cb649",
   "metadata": {},
   "source": [
    "## OLSのPartialling out解釈\n",
    "\n",
    "$$\n",
    "y = \\beta_0 + \\beta_1 x_1 + \\beta_2 x_2 + \\varepsilon\n",
    "$$\n",
    "\n",
    "というモデルの$\\beta_1$は\n",
    "\n",
    "1. $y$を$x_1$に回帰する：$y = \\beta_0 + \\beta_1 x_1 + \\beta_2 z_2 + \\varepsilon$\n",
    "2. $y$を$\\tilde{x}_1$に回帰する（ここで$\\tilde{x}_1$は$x_1$を$x_2$に回帰した残差）\n",
    "3. $\\tilde{y}$を$\\tilde{x}_1$に回帰する（ここで$\\tilde{y}$は$y$を$x_2$に回帰した残差）\n",
    "\n",
    "の3つの方法のいずれかで推定することができる"
   ]
  },
  {
   "cell_type": "markdown",
   "id": "4d0b84b2-12c4-4322-af0b-a904cadd08d3",
   "metadata": {},
   "source": [
    "### 数値例"
   ]
  },
  {
   "cell_type": "code",
   "execution_count": 137,
   "id": "61a103a0-3030-4c45-8ea0-13a6375710c6",
   "metadata": {},
   "outputs": [],
   "source": [
    "import numpy as np\n",
    "\n",
    "n = 1000\n",
    "np.random.seed(0)\n",
    "x0 = np.ones(shape=(n, ))\n",
    "x2 = np.random.uniform(0, 1, size=n)\n",
    "x1 = 3 * x2 + np.random.uniform(0, 1, size=n) + np.random.normal(0, 1, size=n)\n",
    "X = np.array([ x0, x1, x2 ]).T\n",
    "e = np.random.normal(0, 1, size=n)\n",
    "\n",
    "beta = np.array([10, 5, 7])  # 真のbeta\n",
    "y = X @ beta + e"
   ]
  },
  {
   "cell_type": "code",
   "execution_count": 138,
   "id": "192ba225-0547-4d85-b2c2-3a9177c98fe5",
   "metadata": {},
   "outputs": [
    {
     "data": {
      "text/plain": [
       "array([[1.        , 0.97513781, 0.77179595],\n",
       "       [0.97513781, 1.        , 0.64601675],\n",
       "       [0.77179595, 0.64601675, 1.        ]])"
      ]
     },
     "execution_count": 138,
     "metadata": {},
     "output_type": "execute_result"
    }
   ],
   "source": [
    "D = np.array([y, x, z]).T\n",
    "np.corrcoef(D, rowvar=False)"
   ]
  },
  {
   "cell_type": "code",
   "execution_count": 139,
   "id": "686caa7d-059d-4ca1-91d8-1ec0c8ab8399",
   "metadata": {},
   "outputs": [],
   "source": [
    "class OLS:\n",
    "    def fit(self, X, y):\n",
    "        self.beta_ = np.linalg.inv(X.T @ X) @ X.T @ y\n",
    "        return self\n",
    "\n",
    "    def predict(self, X):\n",
    "        return X @ self.beta_"
   ]
  },
  {
   "cell_type": "markdown",
   "id": "693374c0-d18a-4c2e-81fd-dab1f7601279",
   "metadata": {},
   "source": [
    "#### 1. $y$を$x_1$に回帰する\n",
    "\n",
    "$y = \\beta_0 + \\beta_1 x_1 + \\beta_2 z_2 + \\varepsilon$"
   ]
  },
  {
   "cell_type": "code",
   "execution_count": 140,
   "id": "0c953cb7-bb01-44fc-98e9-ba562fe1f878",
   "metadata": {},
   "outputs": [
    {
     "data": {
      "text/plain": [
       "array([9.98226817, 5.03640436, 6.80111723])"
      ]
     },
     "execution_count": 140,
     "metadata": {},
     "output_type": "execute_result"
    }
   ],
   "source": [
    "# 1. 𝑦 を 𝑥1 に回帰する\n",
    "OLS().fit(X, y).beta_"
   ]
  },
  {
   "cell_type": "markdown",
   "id": "f6c21163-916b-4f55-ad38-56e158b88557",
   "metadata": {},
   "source": [
    "#### 2. $y$を$\\tilde{x}_1$に回帰する\n",
    "\n",
    "ここで$\\tilde{x}_1$は$x_1$を$x_2$に回帰した残差\n"
   ]
  },
  {
   "cell_type": "code",
   "execution_count": 141,
   "id": "f968289c-7601-4aad-88be-bdc650847cd3",
   "metadata": {},
   "outputs": [
    {
     "data": {
      "text/plain": [
       "array([23.29878836,  5.03640436])"
      ]
     },
     "execution_count": 141,
     "metadata": {},
     "output_type": "execute_result"
    }
   ],
   "source": [
    "# 2. 𝑦 を 𝑥̃ 1 に回帰する\n",
    "X_ = X[:, [0, 2]] # x0, x2だけのX\n",
    "x1_res = x1 - OLS().fit(X_, x1).predict(X_)\n",
    "\n",
    "# 切片を付けた場合\n",
    "X_ = np.array([ x0, x1_res ]).T\n",
    "OLS().fit(X_, y).beta_"
   ]
  },
  {
   "cell_type": "code",
   "execution_count": 142,
   "id": "ce846b27-962e-4484-aa77-cb0d7c86b4f2",
   "metadata": {},
   "outputs": [
    {
     "data": {
      "text/plain": [
       "array([5.03640436])"
      ]
     },
     "execution_count": 142,
     "metadata": {},
     "output_type": "execute_result"
    }
   ],
   "source": [
    "# 切片を付けない場合\n",
    "OLS().fit(x1_res.reshape(-1, 1), y).beta_"
   ]
  },
  {
   "cell_type": "markdown",
   "id": "23065afb-30fe-48ec-8a7a-01abe8fd8b20",
   "metadata": {},
   "source": [
    "#### 3. $\\tilde{y}$を$\\tilde{x}_1$に回帰する\n",
    "\n",
    "ここで$\\tilde{y}$は$y$を$x_2$に回帰した残差"
   ]
  },
  {
   "cell_type": "code",
   "execution_count": 143,
   "id": "bd0da92a-ff16-469a-bafa-6dd4e47e9dbf",
   "metadata": {},
   "outputs": [
    {
     "data": {
      "text/plain": [
       "array([5.03640436])"
      ]
     },
     "execution_count": 143,
     "metadata": {},
     "output_type": "execute_result"
    }
   ],
   "source": [
    "# 3. 𝑦̃ を 𝑥̃ 1 に回帰する\n",
    "X_ = X[:, [0, 2]] # x0, x2だけのX\n",
    "y_res = y - OLS().fit(X_, y).predict(X_)\n",
    "\n",
    "# 切片を付けない場合\n",
    "OLS().fit(x1_res.reshape(-1, 1), y_res).beta_"
   ]
  },
  {
   "cell_type": "code",
   "execution_count": 145,
   "id": "c7496f48-657a-4681-8b18-6bedd3bffcee",
   "metadata": {},
   "outputs": [
    {
     "data": {
      "text/plain": [
       "array([8.32667268e-17, 5.03640436e+00])"
      ]
     },
     "execution_count": 145,
     "metadata": {},
     "output_type": "execute_result"
    }
   ],
   "source": [
    "# 切片を付けた場合\n",
    "X_ = np.array([ x0, x1_res ]).T\n",
    "OLS().fit(X_, y_res).beta_"
   ]
  },
  {
   "cell_type": "markdown",
   "id": "668f1358-ac50-4d57-bd0b-52f5f8bcbfc5",
   "metadata": {},
   "source": [
    "### partialling out\n",
    "\n",
    "OLS推定では説明変数と残差の共分散はゼロになる。\n",
    "\n",
    "$$\n",
    "y = \\beta_0 + \\beta_1 x_1 + \\cdots + \\beta_j x_j + \\cdots + \\beta_d x_d + \\varepsilon\n",
    "$$\n",
    "\n",
    "というモデルがあったとき、説明変数$x_j$を他のすべての説明変数に回帰すると、その残差$\\tilde{x}_j$は説明変数$x_j$の分散の情報を残す一方で他の説明変数とは無相関になる。\n",
    "\n",
    "したがって$y$をこの残差$\\tilde{x}_j$に回帰すると、その回帰係数$\\beta_j$は$y$に対する$x_j$の影響のみを示す。\n",
    "\n",
    "→他の変数の影響を排除（partialling out）できる"
   ]
  },
  {
   "cell_type": "markdown",
   "id": "fb49ac96-8ee2-4a4d-9bf8-cd4535d344ef",
   "metadata": {},
   "source": [
    "## FWL定理\n",
    "\n"
   ]
  },
  {
   "cell_type": "code",
   "execution_count": null,
   "id": "816f2156-70bc-48c2-aac7-cdf470749880",
   "metadata": {},
   "outputs": [],
   "source": []
  },
  {
   "cell_type": "markdown",
   "id": "6aee6849-cb09-4397-b29f-55f5319c6935",
   "metadata": {},
   "source": [
    "https://www.fbc.keio.ac.jp/~tyabu/keiryo/fwl.pdf"
   ]
  },
  {
   "cell_type": "code",
   "execution_count": null,
   "id": "2f6f4b9e-49bc-49f8-99f6-a93e589ae9e9",
   "metadata": {},
   "outputs": [],
   "source": []
  },
  {
   "cell_type": "markdown",
   "id": "cb0167cc-4420-498f-be1c-0b949b6a31bf",
   "metadata": {},
   "source": [
    "## FWL定理の応用\n",
    "\n",
    "### データの可視化\n",
    "\n",
    "元のモデルに$d$次元の説明変数があったとしても、$\\tilde{x}_j$と$y$の関係へと次元を削減することができるため、グラフに表示しやすい。\n",
    "\n",
    "### 計算の高速化\n",
    "\n",
    "[PyHDFE](https://pyhdfe.readthedocs.io/en/stable/index.html)パッケージのような高次元データの分析において活用されているらしい\n",
    "\n",
    "### 統計的因果推論\n",
    "\n",
    "> I am referring to the work on post-double selection by Belloni, Chernozhukov, Hansen (2013) and the follow up work on “double machine learning” by Chernozhukov, Chetverikov, Demirer, Duflo, Hansen, Newey, Robins (2018).\n",
    "\n",
    "- [Belloni et al. (2014)](https://academic.oup.com/restud/article-abstract/81/2/608/1523757?login=false)のpost-double selection\n",
    "- Chernozhukov et al. (2018)の[Double/debiased machine learning](https://academic.oup.com/ectj/article/21/1/C1/5056401?login=false)\n"
   ]
  },
  {
   "cell_type": "markdown",
   "id": "45e1dcc7-0233-4b3c-bac4-255c9acbf311",
   "metadata": {},
   "source": [
    "## References\n",
    "\n",
    "- http://www2.kobe-u.ac.jp/~kawabat/ch03j_wooldridge.pdf\n",
    "- [Understanding the Frisch-Waugh-Lovell Theorem | by Matteo Courthoud | Towards Data Science](https://towardsdatascience.com/the-fwl-theorem-or-how-to-make-all-regressions-intuitive-59f801eb3299)\n",
    "\n",
    "FWL\n",
    "- Frisch, R., & Waugh, F. V. (1933). [Partial time regressions as compared with individual trends](https://www.jstor.org/stable/1907330). Econometrica: Journal of the Econometric Society, 387-401.\n",
    "- Lovell, M. C. (1963). [Seasonal adjustment of economic time series and multiple regression analysis](https://www.tandfonline.com/doi/abs/10.1080/01621459.1963.10480682). Journal of the American Statistical Association, 58(304), 993-1010.\n"
   ]
  },
  {
   "cell_type": "code",
   "execution_count": null,
   "id": "d6f443b9-0e59-48fd-a9d7-7dc2a70a2530",
   "metadata": {},
   "outputs": [],
   "source": []
  }
 ],
 "metadata": {
  "kernelspec": {
   "display_name": "Python 3 (ipykernel)",
   "language": "python",
   "name": "python3"
  },
  "language_info": {
   "codemirror_mode": {
    "name": "ipython",
    "version": 3
   },
   "file_extension": ".py",
   "mimetype": "text/x-python",
   "name": "python",
   "nbconvert_exporter": "python",
   "pygments_lexer": "ipython3",
   "version": "3.9.16"
  }
 },
 "nbformat": 4,
 "nbformat_minor": 5
}
