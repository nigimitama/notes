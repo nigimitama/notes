{
 "cells": [
  {
   "cell_type": "markdown",
   "id": "9ba12244-7d47-455d-b2e4-873b441c253f",
   "metadata": {},
   "source": [
    "# FWL定理"
   ]
  },
  {
   "cell_type": "code",
   "execution_count": null,
   "id": "d6f443b9-0e59-48fd-a9d7-7dc2a70a2530",
   "metadata": {},
   "outputs": [],
   "source": []
  }
 ],
 "metadata": {
  "kernelspec": {
   "display_name": "Python 3 (ipykernel)",
   "language": "python",
   "name": "python3"
  },
  "language_info": {
   "codemirror_mode": {
    "name": "ipython",
    "version": 3
   },
   "file_extension": ".py",
   "mimetype": "text/x-python",
   "name": "python",
   "nbconvert_exporter": "python",
   "pygments_lexer": "ipython3",
   "version": "3.9.16"
  }
 },
 "nbformat": 4,
 "nbformat_minor": 5
}
