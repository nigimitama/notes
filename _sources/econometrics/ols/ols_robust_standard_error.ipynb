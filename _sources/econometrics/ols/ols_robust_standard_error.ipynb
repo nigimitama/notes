{
 "cells": [
  {
   "cell_type": "markdown",
   "id": "634ce2ab-e45b-4df1-9766-2ff865ce3f41",
   "metadata": {},
   "source": [
    "# OLSのロバスト標準誤差\n"
   ]
  },
  {
   "cell_type": "markdown",
   "id": "dbc0f863-d4f5-400f-934f-4ca4942cb1c2",
   "metadata": {},
   "source": [
    "## 単回帰モデルの場合\n",
    "\n",
    "$n$個の観測値による単回帰モデルを想定する。\n",
    "\n",
    "$$\n",
    "Y_i=\\alpha+\\beta X_i+u_i, \\quad i=1,2, \\ldots, n\n",
    "$$\n",
    "\n",
    "### 推定量\n",
    "\n",
    "$$\n",
    "\\begin{cases}\n",
    "\\sum \\hat{u}_i=\\sum(Y_i-\\hat{\\alpha}-\\hat{\\beta} X_i)=0 \\\\\n",
    "\\sum \\hat{u}_i X_i=\\sum(Y_i-\\hat{\\alpha}-\\hat{\\beta} X_i) X_i=0\n",
    "\\end{cases}\n",
    "\\Rightarrow\n",
    "\\hat{\\alpha}=\\bar{Y}-\\hat{\\beta} \\bar{X}, \\quad \\hat{\\beta}=\\frac{S_{X Y}}{S_{X X}}\n",
    "$$\n",
    "\n",
    "ここで、\n",
    "\n",
    "$$\n",
    "S_{X X}=\\sum(X_i-\\bar{X}) X_i, \\quad S_{X Y}=\\sum(X_i-\\bar{X}) Y_i\n",
    "$$\n",
    "\n",
    "であるため、$\\hat{\\beta}$の式に代入すると\n",
    "\n",
    "$$\n",
    "\\hat{\\beta}\n",
    "=\\frac{S_{X Y}}{S_{X X}}\n",
    "=\\frac{\\sum(X_i-\\bar{X}) Y_i}{S_{X X}}\n",
    "=\\sum\\left(\\frac{X_i-\\bar{X}}{S_{X X}}\\right) Y_i\n",
    "=\\sum w_i Y_i,\n",
    "\\quad w_i=\\frac{X_i-\\bar{X}}{S_{X X}}\n",
    "$$\n",
    "\n",
    "となり、OLS推定量$\\hat\\beta$は$w_i$という重みによる$Y_i$の線形和の形になっている\n"
   ]
  },
  {
   "cell_type": "markdown",
   "id": "4feb75aa-883b-4bf5-a7a7-47d81706609d",
   "metadata": {},
   "source": [
    "### 推定量の誤差\n",
    "\n",
    "$$\n",
    "\\begin{aligned}\n",
    "\\hat{\\beta}\n",
    "=\\sum w_i Y_i\n",
    "=\\sum w_i\\left(\\alpha+\\beta X_i+u_i\\right)\n",
    "&=\\alpha \\underbrace{\\sum w_i}_{=0}+\\beta \\underbrace{\\sum w_i X_i}_{=1}+\\sum w_i u_i \\\\\n",
    "& =\\beta+\\sum w_i u_i\n",
    "\\end{aligned}\n",
    "$$\n",
    "\n",
    "と、$\\hat\\beta$は真値$\\beta$の周りを誤差の加重和$\\sum w_i u_i$の分だけばらつく確率変数であり、一般に$\\hat\\beta\\neq\\beta$であることがわかる。\n",
    "\n",
    "誤差項$u_i$の仮定により、推定誤差の期待値はゼロになる\n",
    "\n",
    "$$\n",
    "E(\\sum_{i=1}^n w_i u_i) =\\sum_{i=1}^n w_i \\underbrace{ E(u_i) }_{=0} = 0\n",
    "$$"
   ]
  },
  {
   "cell_type": "markdown",
   "id": "325d1265-135b-4d1a-a5d3-9a0205aa605a",
   "metadata": {},
   "source": [
    "### 古典的線形回帰モデルの場合\n",
    "\n",
    "古典的な線形回帰モデルの仮定のうち、\n",
    "\n",
    "> 母分散が均一：$\\operatorname{Var}(u_i) = E(u_i^2) = \\sigma^2$\n",
    "\n",
    "というものが関わってくる"
   ]
  },
  {
   "cell_type": "markdown",
   "id": "c6d1582c-66de-468b-bfcc-3848abc2f41b",
   "metadata": {},
   "source": [
    "#### 推定量の分散\n",
    "\n",
    "$$\n",
    "\\operatorname{Var}(\\sum_{i=1}^n w_i u_i)\n",
    "= \\sum_{i=1}^n w_i^2 \\operatorname{Var}(u_i)\n",
    "= \\sigma^2 \\sum_{i=1}^n w_i^2\n",
    "= \\frac{\\sigma^2}{S_{XX}}\n",
    "$$\n",
    "\n",
    "最後の等式は$\\sum_{i=1}^n w_i^2=\\frac{1}{S_{XX}}$を利用している\n",
    "\n",
    "よって\n",
    "\n",
    "$$\n",
    "\\mathrm{E}(\\hat{\\beta})=\\beta\n",
    ", \\quad\n",
    "\\operatorname{Var}(\\hat{\\beta})=\\frac{\\sigma^2}{S_{X X}}=\\frac{\\sigma^2}{\\sum(X_i-\\bar{X})^2}\n",
    "=\\frac{\\sigma^2}{(n-1) s_X^2}\n",
    "$$\n",
    "\n",
    "$s_X^2$は$X$の標本分散。サンプル数$n$が大きいほど$\\operatorname{Var}(\\hat{\\beta})$は減少する"
   ]
  },
  {
   "cell_type": "markdown",
   "id": "a4131fb8-b31b-4ea8-bd4f-23a59be6f926",
   "metadata": {},
   "source": [
    "#### 条件付き分散\n",
    "\n",
    "$$\n",
    "\\begin{aligned}\n",
    "\\operatorname{Var}\\left(\\hat{\\beta} \\mid X_1, X_2, \\ldots, X_n\\right)\n",
    "&=\\frac{1}{S_{X X}^2} \\sum\\left(X_i-\\bar{X}\\right)^2 \\sigma^2\\\\\n",
    "&=\\frac{\\sigma^2}{S_{X X}^2} \\underbrace{ \\sum(X_i-\\bar{X})^2 }_{= S_{X X}} \\\\\n",
    "&=\\frac{\\sigma^2}{S_{X X}}\n",
    "\\end{aligned}\n",
    "$$"
   ]
  },
  {
   "cell_type": "markdown",
   "id": "811b00df-caad-46e3-8066-085ba1918bb2",
   "metadata": {},
   "source": [
    "### 不均一分散\n",
    "\n",
    "$$\n",
    "\\operatorname{Var}(u_i) = E(u_i^2) = \\sigma^2_i\n",
    "$$"
   ]
  },
  {
   "cell_type": "markdown",
   "id": "80bbc8db-181f-4843-868f-86ec672cedbf",
   "metadata": {},
   "source": [
    "#### 条件付き分散\n",
    "\n",
    "不均一分散のもとで、OLS推定量の条件付き分散は\n",
    "\n",
    "$$\n",
    "\\operatorname{Var}\\left(\\hat{\\beta} \\mid X_1, X_2, \\ldots, X_n\\right)=\\frac{1}{S_{X X}^2} \\sum\\left(X_i-\\bar{X}\\right)^2 \\sigma_i^2\n",
    "$$\n",
    "\n",
    "と、均一分散の場合より複雑になる"
   ]
  },
  {
   "cell_type": "markdown",
   "id": "975c6292-ec47-4ae4-ad21-0aae18d57354",
   "metadata": {},
   "source": [
    "#### 漸近分散\n",
    "\n",
    "OLSは漸近正規推定量になる\n",
    "\n",
    "$$\n",
    "\\hat{\\beta} \\stackrel{a}{\\sim} \\mathrm{N}(\\beta, \\operatorname{Avar}(\\hat{\\beta}))\n",
    ",\\quad\n",
    "\\operatorname{Avar}(\\hat{\\beta})=\\frac{1}{n \\sigma_X^4} \\mathrm{E}\\left[\\left(X_i-\\mu_X\\right)^2 \\sigma_i^2\\right]\n",
    "$$\n",
    "\n",
    "$\\operatorname{Avar}(\\hat{\\beta})$は未知の$\\sigma^2_i$を含んでいるので、何らかの方法で推定する"
   ]
  },
  {
   "cell_type": "markdown",
   "id": "2801f82a-d5c9-4b38-a7ae-530ffe84c628",
   "metadata": {},
   "source": [
    "### Whiteの標準誤差\n",
    "\n",
    "よく使われる推定量は、ホワイトの頑健な分散推定量\n",
    "\n",
    "$$\n",
    "V = \\frac{1}{n s_X^4} \\cdot \\frac{1}{n} \\sum\\left(X_i-\\bar{X}\\right)^2 \\hat{u}_i^2=\\frac{1}{n^2 s_X^4} \\sum\\left(X_i-\\bar{X}\\right)^2 \\hat{u}_i^2\n",
    "$$\n",
    "\n",
    "その平方根はホワイトの標準誤差として知られる\n",
    "\n",
    "$$\n",
    "\\text { s.e. }(\\hat{\\beta})=\\sqrt{V}=\\frac{1}{n s_X^2} \\sqrt{\\sum\\left(X_i-\\bar{X}\\right)^2 \\hat{u}_i^2}\n",
    "$$"
   ]
  },
  {
   "cell_type": "markdown",
   "id": "a642ee0a-38e0-4d77-956d-b320f7c89ce3",
   "metadata": {},
   "source": [
    "## 重回帰モデルの場合\n",
    "\n",
    "$n\\in\\mathbb{N}$個の観測値があるとし、目的変数$Y\\in \\mathbb{R}^n$、説明変数$X\\in\\mathbb{R}^{n\\times m}$、誤差項$u\\in\\mathbb{R}^n$について\n",
    "\n",
    "$$\n",
    "Y = X \\beta + u\n",
    "$$\n",
    "\n",
    "という線形モデルを考える\n"
   ]
  },
  {
   "cell_type": "markdown",
   "id": "53b282c0-a35c-4013-83d9-114719a5dfce",
   "metadata": {},
   "source": [
    "### 推定量の誤差\n",
    "\n",
    "OLS推定量\n",
    "\n",
    "$$\n",
    "\\hat{\\beta} = (X^T X)^{-1} X^T Y\n",
    "$$\n",
    "\n",
    "を真値+αの形式にすると、\n",
    "\n",
    "$$\n",
    "\\begin{aligned}\n",
    "\\hat{\\beta}\n",
    "&= (X^T X)^{-1} X^T Y\\\\\n",
    "&= (X^T X)^{-1} X^T (X\\beta + u)\\\\\n",
    "&= \\underbrace{ (X^T X)^{-1} X^T X}_{=I} \\beta + (X^T X)^{-1} X^T u\\\\\n",
    "&= \\beta + (X^T X)^{-1} X^T u\\\\\n",
    "&= \\beta + \\left(\\frac{1}{n} X^T X \\right)^{-1} \\frac{1}{n} X^T u\\\\\n",
    "\\end{aligned}\n",
    "$$\n",
    "\n",
    "と表すことができる。"
   ]
  },
  {
   "cell_type": "markdown",
   "id": "3ce7b068-f6f6-464e-9553-10ce701e7e2d",
   "metadata": {},
   "source": [
    "\n",
    "### 推定量の一致性\n",
    "\n",
    "線形回帰モデルの外生性の仮定$E(X_i u_i) = 0$が満たされるなら、\n",
    "\n",
    "$$\n",
    "\\frac{1}{n} X^T u\n",
    "= \\frac{1}{n} \\sum_{i=1}^n X_i u_i \n",
    "\\overset{p}{\\to} E(X_i u_i) = 0\n",
    "$$\n",
    "\n",
    "であるから、誤差の項$(X^T X)^{-1} X^T u$は消失する"
   ]
  },
  {
   "cell_type": "markdown",
   "id": "b4eb6c7e-7221-4a68-ab22-9d9398450017",
   "metadata": {},
   "source": [
    "### 漸近正規性\n",
    "\n",
    "OLS推定量\n",
    "\n",
    "$$\n",
    "\\hat{\\beta}\n",
    "= \\beta + \\left(\\frac{1}{N} X^T X\\right)^{-1} \\frac{1}{N} X^T u\n",
    "$$\n",
    "\n",
    "を整理して以下の形にする\n",
    "\n",
    "$$\n",
    "\\sqrt{N} (\\hat{\\beta} - \\beta)\n",
    "=\n",
    "\\left(\n",
    "    \\frac{1}{N} X^T X\n",
    "\\right)^{-1}\n",
    "\\frac{1}{\\sqrt{N}} X^T u\n",
    "$$"
   ]
  },
  {
   "cell_type": "markdown",
   "id": "f3e7b288-1fa1-45e2-b052-e869e72f3198",
   "metadata": {},
   "source": [
    "$\\frac{1}{\\sqrt{N}} X^T u$は$\\frac{1}{\\sqrt{N}} \\sum^N_{i=1} X_i u_i$と書くことができる。OLSの仮定より\n",
    "\n",
    "$$\n",
    "\\begin{align}\n",
    "E(X_i u_i) &= 0\\\\\n",
    "Var(X_i u_i) &= E(u^2 X_i X^T_i)\n",
    "\\end{align}\n",
    "$$\n",
    "\n",
    "なので、中心極限定理により\n",
    "\n",
    "$$\n",
    "\\frac{1}{\\sqrt{N}} X^T u\n",
    "= \\frac{1}{\\sqrt{N}} \\sum^N_{i=1} X_i u_i\n",
    " \\overset{d}{\\longrightarrow} N\\left( 0, E(u_i^2 X_i X_i^T) \\right)\n",
    "$$\n",
    "\n",
    "となる。"
   ]
  },
  {
   "cell_type": "markdown",
   "id": "ede1a528-ecdd-405f-8c95-00a292afab41",
   "metadata": {},
   "source": [
    "一致性のときに導出した\n",
    "\n",
    "$$\n",
    "\\frac{1}{N} X^T X\n",
    "\\overset{p}{\\longrightarrow} E(X_i X_i^T)\n",
    "$$\n",
    "\n",
    "を使うと、スルツキーの定理を用いて\n",
    "\n",
    "$$\n",
    "\\begin{align}\n",
    "\\sqrt{N} (\\hat{\\beta} - \\beta)\n",
    "&=\n",
    "\\left(\n",
    "    \\frac{1}{N} X^T X\n",
    "\\right)^{-1}\n",
    "\\frac{1}{\\sqrt{N}} X^T u\n",
    "\\overset{d}{\\longrightarrow} \\left( E(X_i X_i^T)  \\right)^{-1} \\times N\\left( 0, E(u_i^2 X_i X_i^T) \\right)\\\\\n",
    "&= N\\left( 0,\n",
    "    \\left( E(X_i X_i^T)  \\right)^{-1}  E(u_i^2 X_i X_i^T)  \\left( E(X_i X_i^T)  \\right)^{-1}\n",
    "\\right)\\\\\n",
    "&= N(0, V)\\\\\n",
    "\\end{align}\n",
    "$$\n",
    "\n",
    "となる。"
   ]
  },
  {
   "cell_type": "markdown",
   "id": "7eed7c19-0d64-4e7a-9243-b6d48134f266",
   "metadata": {},
   "source": [
    ":::{dropdown} スルツキーの定理\n",
    "\n",
    "確率変数の行列$Y_N, Y, X_N, X \\in \\mathbb{R}^{N\\times N}$、正則行列$C \\in \\mathbb{R}^{N\\times N}$があるとする。\n",
    "\n",
    "$N\\to \\infty$のとき\n",
    "\n",
    "$$\n",
    "X_N \\xrightarrow{d} X\\\\\n",
    "Y_N \\xrightarrow{d} C\\\\\n",
    "$$\n",
    "\n",
    "とする。\n",
    "\n",
    "このとき、以下の結果が成り立ち、これを **スルツキーの定理** という\n",
    "\n",
    "1. $X_N + Y_N \\xrightarrow{d} X + C$\n",
    "2. $Y_N X_N \\xrightarrow{d} C X$\n",
    "3. $Y_N^{-1}X_N \\xrightarrow{d} C^{-1} X$\n",
    "\n",
    ":::"
   ]
  },
  {
   "cell_type": "markdown",
   "id": "18bb1e7b-108e-47e1-baa9-33baf8dd871d",
   "metadata": {},
   "source": [
    "$V$は以下のように一致推定できる\n",
    "\n",
    "$$\n",
    "\\begin{aligned}\n",
    "\\hat{V}_{\\mathrm{HC0}} & =\\left[\\frac{1}{N} \\sum_{i=1}^N X_i X_i^T\\right]^{-1} \\frac{1}{N} \\sum_{i=1}^N \\hat{u}_i^2 X_i X_i^T\\left[\\frac{1}{N} \\sum_{i=1}^N X_i X_i^T\\right]^{-1} \\\\\n",
    "& =\\left(\\frac{1}{N} X^T X\\right)^{-1} \\frac{1}{N} X^T\n",
    "\\operatorname{diag}[\\hat{u}_i^2] \n",
    "X\\left(\\frac{1}{N} X^T X\\right)^{-1}\n",
    "\\end{aligned}\n",
    "$$\n",
    "\n",
    "ただし、$\\operatorname{diag}[\\hat{u}_i^2] $は対角要素に$\\hat{u}_1^2, \\dots, \\hat{u}_N^2$を並べた対角行列である。\n",
    "これはHC0と呼ばれるタイプの誤差分散の推定量である"
   ]
  },
  {
   "cell_type": "markdown",
   "id": "710009dd-9926-49c8-8877-3519253c2cbc",
   "metadata": {},
   "source": [
    "## 漸近分散の推定量\n",
    "\n",
    "\n",
    "\n",
    "| {estimatr}パッケージでの呼び名 | 分散の推定量$\\widehat{\\mathrm{V}}[\\widehat{\\beta}]$          | notes                                        |\n",
    "| ------------------------------ | ------------------------------------------------------------ | -------------------------------------------- |\n",
    "| `\"classical\"`                  | $\\frac{\\mathbf{e}^\\top\\mathbf{e}}{n-m} (\\mathbf{X}^{\\top}\\mathbf{X})^{-1}$ |                                              |\n",
    "| `\"HC0\"`                        | $(\\mathbf{X}^{\\top}\\mathbf{X})^{-1}\\mathbf{X}^{\\top}\\mathrm{diag}\\left[e_i^2\\right]\\mathbf{X}(\\mathbf{X}^{\\top}\\mathbf{X})^{-1}$ |                                              |\n",
    "| `\"HC1\"`, `\"stata\"`             | $\\frac{n}{n-m}(\\mathbf{X}^{\\top}\\mathbf{X})^{-1}\\mathbf{X}^{\\top}\\mathrm{diag}\\left[e_i^2\\right]\\mathbf{X}(\\mathbf{X}^{\\top}\\mathbf{X})^{-1}$ | Eicker-Huber-Whiteの分散推定量などと呼ばれる |\n",
    "| `\"HC2\"` (default)              | $(\\mathbf{X}^{\\top}\\mathbf{X})^{-1}\\mathbf{X}^{\\top}\\mathrm{diag}\\left[\\frac{e_i^2}{1-h_{ii}}\\right]\\mathbf{X}(\\mathbf{X}^{\\top}\\mathbf{X})^{-1}$ |                                              |\n",
    "| `\"HC3\"`                        | $(\\mathbf{X}^{\\top}\\mathbf{X})^{-1}\\mathbf{X}{\\top}\\mathrm{diag}\\left[\\frac{e_i^2}{(1-h_{ii})^2}\\right]\\mathbf{X}(\\mathbf{X}^{\\top}\\mathbf{X})^{-1}$ |                                              |\n",
    "\n",
    "- $h_{ii}=X_i (X^T X)^{-1} X_i^T$\n",
    "- $e_i = Y_i - X_i \\hat{\\beta}$\n",
    "- $m$は推定量の次元数\n",
    "\n",
    "出所：[estimatr](https://declaredesign.org/r/estimatr/articles/mathematical-notes.html)パッケージのドキュメント"
   ]
  },
  {
   "cell_type": "markdown",
   "id": "bd42956b-d7eb-442c-8bda-0a28b12fde53",
   "metadata": {},
   "source": [
    "## 参考\n",
    "\n",
    "- 鹿野繁樹. (2015). 新しい計量経済学: データで因果関係に迫る.\n",
    "- [Mathematical notes for estimatr • estimatr](https://declaredesign.org/r/estimatr/articles/mathematical-notes.html)\n",
    "- [不均一分散 — Pythonで学ぶ入門計量経済学](https://py4etrics.github.io/14_Hetero.html#id2)"
   ]
  },
  {
   "cell_type": "markdown",
   "id": "b814b8ff-f9d6-446f-833e-33d947be7024",
   "metadata": {},
   "source": [
    "## 実験（WIP)"
   ]
  },
  {
   "cell_type": "code",
   "execution_count": 48,
   "id": "cce81d0a-a41c-4975-9470-c99cd7759235",
   "metadata": {},
   "outputs": [
    {
     "data": {
      "text/plain": [
       "<matplotlib.collections.PathCollection at 0x7f1c74cd48b0>"
      ]
     },
     "execution_count": 48,
     "metadata": {},
     "output_type": "execute_result"
    },
    {
     "data": {
      "image/png": "[encoded data removed]",
      "text/plain": [
       "<Figure size 640x480 with 1 Axes>"
      ]
     },
     "metadata": {},
     "output_type": "display_data"
    }
   ],
   "source": [
    "import numpy as np\n",
    "import matplotlib.pyplot as plt\n",
    "\n",
    "n = 100\n",
    "np.random.seed(0)\n",
    "x1 = np.random.uniform(0, 5, size=(n, 1))\n",
    "x0 = np.ones(shape=(n, 1))\n",
    "X = np.append(x0, x1, axis=1)\n",
    "beta = np.array([3, 5])\n",
    "\n",
    "# 均一分散の場合\n",
    "e = np.random.normal(loc=0, scale=1, size=n)\n",
    "y = X @ beta + e\n",
    "\n",
    "# plot\n",
    "fig, ax = plt.subplots()\n",
    "ax.scatter(x1, y)"
   ]
  },
  {
   "cell_type": "code",
   "execution_count": 51,
   "id": "bee0cf94-768a-4c7e-8e88-45f9d4d1159d",
   "metadata": {},
   "outputs": [
    {
     "data": {
      "text/plain": [
       "array([3.22215108, 4.987387  ])"
      ]
     },
     "execution_count": 51,
     "metadata": {},
     "output_type": "execute_result"
    }
   ],
   "source": [
    "beta_hat = np.linalg.inv(X.T @ X) @ X.T @ y\n",
    "beta_hat"
   ]
  },
  {
   "cell_type": "code",
   "execution_count": 52,
   "id": "690a1d9a-275e-4a4d-bb1d-454579bf13ce",
   "metadata": {},
   "outputs": [
    {
     "data": {
      "text/plain": [
       "array([[100.        , 236.39691976],\n",
       "       [236.39691976, 766.62957534]])"
      ]
     },
     "execution_count": 52,
     "metadata": {},
     "output_type": "execute_result"
    }
   ],
   "source": [
    "X.T @ X"
   ]
  },
  {
   "cell_type": "code",
   "execution_count": 71,
   "id": "df3b2f7f-2dd7-4974-8173-6495996057df",
   "metadata": {},
   "outputs": [
    {
     "data": {
      "text/plain": [
       "0.11723457858134044"
      ]
     },
     "execution_count": 71,
     "metadata": {},
     "output_type": "execute_result"
    }
   ],
   "source": [
    "(X[0, ] @ X[0,].T)**(-1)"
   ]
  },
  {
   "cell_type": "code",
   "execution_count": null,
   "id": "4b8444bc-53ed-41ed-86af-5c5698adfee5",
   "metadata": {},
   "outputs": [],
   "source": []
  }
 ],
 "metadata": {
  "kernelspec": {
   "display_name": "Python 3 (ipykernel)",
   "language": "python",
   "name": "python3"
  },
  "language_info": {
   "codemirror_mode": {
    "name": "ipython",
    "version": 3
   },
   "file_extension": ".py",
   "mimetype": "text/x-python",
   "name": "python",
   "nbconvert_exporter": "python",
   "pygments_lexer": "ipython3",
   "version": "3.10.15"
  }
 },
 "nbformat": 4,
 "nbformat_minor": 5
}
