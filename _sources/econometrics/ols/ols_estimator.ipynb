{
 "cells": [
  {
   "cell_type": "markdown",
   "id": "733cacd3-1521-4c79-8fb3-5d20629fd626",
   "metadata": {},
   "source": [
    "# OLS推定量の性質"
   ]
  },
  {
   "cell_type": "markdown",
   "id": "86755f18-49a4-4180-a44e-bb2bcd1a418d",
   "metadata": {},
   "source": [
    "重回帰モデル\n",
    "\n",
    "$$\n",
    "Y_i = X_i^T \\beta + u_i, \\hspace{1em} i=1,\\dots, N\n",
    "$$\n",
    "\n",
    "を考える。\n",
    "\n",
    "$$\n",
    "Y = X \\beta + u\n",
    "$$\n",
    "\n",
    "推定量は\n",
    "\n",
    "$$\n",
    "\\hat{\\beta} = \\beta +\n",
    "\\left(\n",
    "    \\frac{1}{N} X^T X\n",
    "\\right)^{-1}\n",
    "\\frac{1}{N} X^T u\n",
    "$$\n",
    "\n",
    "である"
   ]
  },
  {
   "cell_type": "markdown",
   "id": "b9010c73-3d7d-43ab-9a14-fd2c47baa708",
   "metadata": {},
   "source": [
    ":::{admonition} OLSの仮定\n",
    "1. i.i.d.：$(Y, X)$は独立同一分布に従う\n",
    "2. 外生性：$E[u|X] = 0$\n",
    "3. 異常値がない：$X, u$は4次までのモーメントを持つ\n",
    "4. 多重共線性がない：任意の$\\sum_{j=0}^k a_j^2 = 1$となる$a_0,\\dots,a_k$について$E[(a_0 + a_1 X_1 + \\cdots + a_k X_k)^2]>0$が成り立つ\n",
    ":::"
   ]
  },
  {
   "cell_type": "markdown",
   "id": "4badf0a0-6349-4919-86d0-98114ed85a9c",
   "metadata": {},
   "source": [
    "## 一致性\n",
    "\n",
    "$$\n",
    "\\begin{align}\n",
    "\\frac{1}{N} X^T X\n",
    "    &= \\frac{1}{N} \\sum^N_{i=1} X_i X_i^T\n",
    "    \\overset{p}{\\longrightarrow}\n",
    "    E[X_i X_i^T]\n",
    "\\\\\n",
    "\\frac{1}{N} X^T u\n",
    "    &= \\frac{1}{N} \\sum^N_{i=1} X_i u_i\n",
    "    \\overset{p}{\\longrightarrow}\n",
    "    E[X_i u_i]\n",
    "    = 0\n",
    "\\end{align}\n",
    "$$\n",
    "\n",
    "多重共線性がないという仮定により$(E[X_i X_i^T])^{-1}$が存在する\n",
    "\n",
    "$$\n",
    "\\left(\n",
    "    \\frac{1}{N} X^T X\n",
    "\\right)^{-1}\n",
    "\\frac{1}{N} X^T u\n",
    "\\overset{p}{\\longrightarrow}\n",
    "0\n",
    "$$\n",
    "\n",
    "よって\n",
    "\n",
    "$$\n",
    "\\hat{\\beta}\n",
    "\\overset{p}{\\longrightarrow}\n",
    "\\beta\n",
    "$$\n"
   ]
  },
  {
   "cell_type": "markdown",
   "id": "c9c58162-4089-44f5-9f82-c2103de6531f",
   "metadata": {},
   "source": [
    "## 漸近正規性\n",
    "\n",
    "式を整理して\n",
    "\n",
    "$$\n",
    "\\sqrt{N} \\hat{\\beta} - \\beta\n",
    "=\n",
    "\\left(\n",
    "    \\frac{1}{N} X^T X\n",
    "\\right)^{-1}\n",
    "\\frac{1}{\\sqrt{N}} X^T u\n",
    "$$\n",
    "\n",
    "とすると、"
   ]
  },
  {
   "cell_type": "markdown",
   "id": "ffeeef63-2e88-43c2-bc15-88bacb0bf693",
   "metadata": {},
   "source": [
    "$$\n",
    "Var[X_i u_i] = E[u^2_i X_i X_i^T]\n",
    "$$"
   ]
  },
  {
   "cell_type": "code",
   "execution_count": null,
   "id": "f4506aaa-5b60-47da-8403-3747a8b893e2",
   "metadata": {},
   "outputs": [],
   "source": []
  },
  {
   "cell_type": "code",
   "execution_count": null,
   "id": "56fa70c9-bd3e-44e6-ba93-96a62599ebc0",
   "metadata": {},
   "outputs": [],
   "source": []
  },
  {
   "cell_type": "markdown",
   "id": "04b4cc30-305f-4173-9a42-b40876d94879",
   "metadata": {},
   "source": [
    "## 参考文献\n",
    "\n",
    "[西山慶彦, 新谷元嗣, 川口大司, & 奥井亮. (2019). 計量経済学. Yūhikaku.](https://www.yuhikaku.co.jp/books/detail/9784641053854)"
   ]
  },
  {
   "cell_type": "code",
   "execution_count": null,
   "id": "c350798d-86cd-42aa-bd0c-a65d959f3b62",
   "metadata": {},
   "outputs": [],
   "source": []
  }
 ],
 "metadata": {
  "kernelspec": {
   "display_name": "Python 3 (ipykernel)",
   "language": "python",
   "name": "python3"
  },
  "language_info": {
   "codemirror_mode": {
    "name": "ipython",
    "version": 3
   },
   "file_extension": ".py",
   "mimetype": "text/x-python",
   "name": "python",
   "nbconvert_exporter": "python",
   "pygments_lexer": "ipython3",
   "version": "3.9.17"
  }
 },
 "nbformat": 4,
 "nbformat_minor": 5
}
