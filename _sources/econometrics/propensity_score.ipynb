{
 "cells": [
  {
   "cell_type": "markdown",
   "id": "de766f1d-0706-43e4-9bcc-35d7ea27ce3a",
   "metadata": {},
   "source": [
    "# 傾向スコア"
   ]
  },
  {
   "cell_type": "markdown",
   "id": "4a4ba986-13b1-4fe3-b467-0abdcc890568",
   "metadata": {},
   "source": [
    "## バランシングスコア\n",
    "\n",
    "**バランシングスコア**（balancing score）$b(\\boldsymbol{x})$とは、$b(\\boldsymbol{x})$が条件付けられた下での共変量$\\boldsymbol{x}$の分布が処置$z$と独立になる（処置群$(z=1)$と対照群$(z=0)$とで$x$の条件付き分布が等しくなる）ような関数である（[Rosenbaum & Rubin, 1983](https://academic.oup.com/biomet/article/70/1/41/240879)）。\n",
    "\n",
    "$$\n",
    "\\newcommand{\\b}[1]{\\boldsymbol{#1}}\n",
    "\\newcommand{\\indep}{\\perp\\!\\!\\!\\perp}\n",
    "\\b{x} \\indep z | b(\\b{x})\n",
    "$$\n",
    "\n",
    "共変量$\\boldsymbol{x}$自身は最も細かい（finest）バランシングスコアであり、傾向スコア$P(z=1|\\boldsymbol{x})$は最も粗い（coarsest）バランシングスコアである。\n",
    "\n"
   ]
  },
  {
   "cell_type": "markdown",
   "id": "e123b8f3-20fd-4ff7-b354-b2f544ad6625",
   "metadata": {},
   "source": [
    "## 傾向スコア\n",
    "\n",
    "共変量$\\b{x}_i$の下でその対象$i$が処置される確率\n",
    "\n",
    "$$\n",
    "e_i = P(z_i = 1| \\b{x}_i)\n",
    "$$\n",
    "\n",
    "を**傾向スコア**（propensity score）という。\n",
    "\n",
    "\n",
    "### 傾向スコアの使用方法\n",
    "\n",
    "**1. マッチング**\n",
    "\n",
    "傾向スコアの値が同じ（厳密マッチング）か近い（最近傍マッチング）個体を比較する\n",
    "\n",
    "**2. 層別解析**\n",
    "\n",
    "傾向スコアの値によっていくつかのサブクラスに分け、各クラスで処置群と対照群の平均をとって全体のATEを推定する\n",
    "\n",
    "**3. 回帰分析・共分散分析**\n",
    "\n",
    "割当変数$z$と傾向スコア$e$を説明変数とした線形の回帰分析を行う\n",
    "\n",
    "\n",
    "**4. その他の推定量**\n",
    "\n",
    "IPW推定量やDR推定量など（後述）\n",
    "\n",
    "\n",
    "### 傾向スコアの長所\n",
    "\n",
    "1. 共変量を1次元に次元削減しているため、2つの群において共変量の値に重なりが少ない場合でも使える\n",
    "2. 共変量と結果変数のモデル設定を行わなくてもよい\n",
    "    - 例えば回帰分析のような線形モデルを構築しなくてもよい → 共変量と結果変数の間に線形性を仮定できない場合でも使える可能性\n",
    "3. モデルの誤設定に強い\n",
    "    - 共分散分析やロジスティック回帰により$E[y|x]$を直接モデリングする方法と、層別による傾向スコア解析を比較したところ、傾向スコア解析のほうがモデルの誤設定から生じるバイアスがより少なかったという研究がある（Drake, 1993）\n"
   ]
  },
  {
   "cell_type": "markdown",
   "id": "721fd0bb-85b2-464c-b6f5-475b47743bc6",
   "metadata": {},
   "source": [
    "## IPW推定量\n",
    "\n",
    "**逆確率重み付け**（inverse probability weighting: IPW）による推定量（Rubin, 1985）\n",
    "\n",
    "$$\n",
    "\\begin{align}\n",
    "\\hat{E}(y_1) &= \\sum^N_{i=1} \\frac{z_i y_i}{e_i} / \\sum^N_{i=1} \\frac{z_i}{e_i}\\\\\n",
    "\\hat{E}(y_0) &= \\sum^N_{i=1} \\frac{(1-z_i) y_i}{1 - e_i} / \\sum^N_{i=1} \\frac{1 - z_i}{1 - e_i}\\\\\n",
    "\\end{align}\n",
    "$$\n",
    "\n",
    "**導出**\n",
    "\n",
    "真の傾向スコアの値が既知で、「強く無視できる割り当て」条件が成立するなら、\n",
    "\n",
    "$$\n",
    "\\begin{align}\n",
    "E(y_1)\n",
    "&= E_{\\b{x}}[E(y_1|\\b{x})]\\\\\n",
    "&= E_{\\b{x}}\\left[ E\\left( \\frac{z}{e} |\\b{x} \\right) E(y_1|\\b{x}) \\right]\n",
    "\\hspace{1em} (おそらく真の傾向スコアなら z/e = 1 のため)\n",
    "\\\\\n",
    "&= E_{\\b{x}}\\left[ E\\left( \\frac{z}{e} y_1|\\b{x} \\right) \\right]\\\\\n",
    "&= E\\left( \\frac{z y_1 }{e} \\right)\\\\\n",
    "&= E\\left( \\frac{z^2 y_1 + z (1-z) y_0}{e} \\right)\n",
    "\\hspace{1em} (\\because z^2 = z,  z(1-z) = 0)\n",
    "\\\\\n",
    "&= E\\left( \\frac{zy}{e} \\right)\n",
    "\\end{align}\n",
    "$$\n",
    "\n",
    "となり、$\\hat{E}(y_1)$は$y_1$の周辺平均の不偏推定量になる。$\\hat{E}(y_0)$も同様である。\n",
    "\n",
    "真の傾向スコア$e$ではなく推定値$\\hat{e}_i$を使ったとしても一致推定量となる。\n",
    "\n",
    "$N$を大きくすると\n",
    "\n",
    "$$\n",
    "\\frac{1}{N} \\sum^N_{i=1} \\frac{z_i}{e_i} \\to 1, \\hspace{1em}\n",
    "\\frac{1}{N} \\sum^N_{i=1} \\frac{1 - z_i}{1 - e_i} \\to 1\n",
    "$$\n",
    "\n",
    "に確率収束することが大数の法則により成立する。"
   ]
  },
  {
   "cell_type": "markdown",
   "id": "88d968d7-54e3-4b88-9e33-3aa9f65ab5a5",
   "metadata": {},
   "source": [
    "## DR推定量"
   ]
  },
  {
   "cell_type": "code",
   "execution_count": null,
   "id": "94151f83-e970-40b9-86b6-7587ec3ed67d",
   "metadata": {},
   "outputs": [],
   "source": []
  },
  {
   "cell_type": "markdown",
   "id": "9166bcde-3f0a-4540-8077-540c90d5ea65",
   "metadata": {},
   "source": [
    "### causallib"
   ]
  },
  {
   "cell_type": "code",
   "execution_count": null,
   "id": "6acbe0d1-0fab-4219-bb54-9b020a06f342",
   "metadata": {},
   "outputs": [],
   "source": []
  },
  {
   "cell_type": "markdown",
   "id": "6a7f1222-2fdb-4681-9810-9d5c453dd59a",
   "metadata": {},
   "source": [
    "## 参考文献\n",
    "\n",
    "- [計量経済学応用 傾向スコア](https://yukiyanai.github.io/jp/classes/econometrics2/contents/R/propensity-score.html)\n",
    "- [cibook_ch3_pscore](https://gist.github.com/SakumaRyoDev/309c9c6c0002145d09fd36ddfbe3613b)\n",
    "- [Rosenbaum, P. R., & Rubin, D. B. (1983). The central role of the propensity score in observational studies for causal effects. Biometrika, 70(1), 41-55.](https://academic.oup.com/biomet/article/70/1/41/240879)\n",
    "- Rubin, D. B. (1985). The use of propensity scores in applied Bayesian inference. Bayesian statistics, 2, 463-472."
   ]
  },
  {
   "cell_type": "code",
   "execution_count": null,
   "id": "4739c295-2c68-43c6-bc68-6977525c1351",
   "metadata": {},
   "outputs": [],
   "source": []
  }
 ],
 "metadata": {
  "kernelspec": {
   "display_name": "Python 3 (ipykernel)",
   "language": "python",
   "name": "python3"
  },
  "language_info": {
   "codemirror_mode": {
    "name": "ipython",
    "version": 3
   },
   "file_extension": ".py",
   "mimetype": "text/x-python",
   "name": "python",
   "nbconvert_exporter": "python",
   "pygments_lexer": "ipython3",
   "version": "3.9.16"
  }
 },
 "nbformat": 4,
 "nbformat_minor": 5
}
