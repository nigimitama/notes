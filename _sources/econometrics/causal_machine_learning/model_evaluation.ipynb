{
 "cells": [
  {
   "cell_type": "markdown",
   "id": "da95b0dd-6483-4510-82cb-ff38b5ca29b3",
   "metadata": {},
   "source": [
    "# モデルの評価"
   ]
  },
  {
   "cell_type": "markdown",
   "id": "f6bf2426-9994-4f7d-bb73-9a86d9227ebf",
   "metadata": {},
   "source": [
    "## Double ML\n",
    "\n",
    "処置効果$\\theta(X)$の推定を行う。$Y$はoutcome, $T$はtreatment\n",
    "\n",
    "$$\n",
    "\\begin{align}\n",
    "Y &= \\theta(X) \\cdot T+g(X)+\\varepsilon, \\mathrm{E}[\\varepsilon \\mid X]=0 \\\\\n",
    "T &= f(X)+\\eta, \\mathrm{E}[\\eta \\mid X]=0 \\\\\n",
    "\\mathrm{E}[\\eta \\cdot \\varepsilon \\mid X] &= 0\n",
    "\\end{align}\n",
    "$$\n",
    "\n",
    "$g(X), f(X)$はそれぞれoutcomeとtreatmentを予測するモデル\n"
   ]
  },
  {
   "cell_type": "markdown",
   "id": "600b3ceb-9e6c-436d-b4e4-d960ba642310",
   "metadata": {},
   "source": [
    "別途outcomeをXから予測するモデル$q(X)$を構築し、残差\n",
    "\n",
    "$$\n",
    "\\begin{aligned}\n",
    "& \\tilde{Y}=Y-q(X) \\\\\n",
    "& \\tilde{T}=T-f(X)\n",
    "\\end{aligned}\n",
    "$$\n",
    "\n",
    "を得る。\n",
    "\n",
    "これらを組み合わせて\n",
    "\n",
    "$$\n",
    "\\tilde{Y}=\\theta(X) \\cdot \\tilde{T}+\\varepsilon\n",
    "$$\n",
    "\n",
    "と回帰することで$\\theta(X)$を推定する。"
   ]
  },
  {
   "cell_type": "markdown",
   "id": "673a55ce-9a98-46ac-a936-a816975d74b1",
   "metadata": {},
   "source": [
    "## rscore\n",
    "\n",
    "モデル評価のためのスコア。\n",
    "\n",
    "$$\n",
    "r = 1 - \\frac{ r_{\\text{loss}} }{ b_{\\text{loss}} }\n",
    "$$\n",
    "\n",
    "ここで\n",
    "\n",
    "$$\n",
    "r_{\\text{loss}}\n",
    "= E\\left[ \n",
    "    \\left( \\tilde{Y} - \\tau(x) \\tilde{T} \\right)^2\n",
    "\\right]\n",
    "$$\n",
    "\n",
    "$b_{\\text{loss}}$はconstant treatment model (linear double machine learning modelなど）のbaseline loss\n",
    "\n",
    "\n",
    "- [Nie, X., & Wager, S. (2021). Quasi-oracle estimation of heterogeneous treatment effects. Biometrika, 108(2), 299-319.](https://academic.oup.com/biomet/article-abstract/108/2/299/5911092?redirectedFrom=fulltext)\n",
    "- [Schuler, A., Baiocchi, M., Tibshirani, R., & Shah, N. (2018). A comparison of methods for model selection when estimating individual treatment effects. arXiv preprint arXiv:1804.05146.](https://arxiv.org/abs/1804.05146)"
   ]
  },
  {
   "cell_type": "markdown",
   "id": "e6b9fb30-9e90-4f56-b908-a3d9d24e1b10",
   "metadata": {},
   "source": [
    "## Sensitivity analysis\n",
    "\n",
    "感度分析（sensitivity analysis）はモデルへのinputを少し変えることでモデルの反応がどれだけ変わるかを見るもの。"
   ]
  },
  {
   "cell_type": "markdown",
   "id": "d7ee0e43-f755-4962-8a33-3063cc15f14c",
   "metadata": {},
   "source": [
    "### Refutation\n",
    "\n",
    "refutation法はDoWhyの論文で提案された方法。\n",
    "\n",
    "- データの部分集合$D_{\\text{subset}}$でATEの推定値がどれだけ変化するか\n",
    "- 共通原因（common cause）の変数を追加したモデルのATE推定値がもとのモデルからどれだけ変化するか\n",
    "- treatmentを並べ替え（permuting）たもの（placebo treatment）を入れてATE推定値がゼロになるか\n",
    "\n",
    "など\n",
    "\n",
    "- [Sharma, A., & Kiciman, E. (2020). DoWhy: An end-to-end library for causal inference. arXiv preprint arXiv:2011.04216.](https://arxiv.org/abs/2011.04216)"
   ]
  },
  {
   "cell_type": "code",
   "execution_count": null,
   "id": "0aeafdbf-7ed8-4b36-8d11-cf7cba86020e",
   "metadata": {},
   "outputs": [],
   "source": []
  }
 ],
 "metadata": {
  "kernelspec": {
   "display_name": "Python 3 (ipykernel)",
   "language": "python",
   "name": "python3"
  },
  "language_info": {
   "codemirror_mode": {
    "name": "ipython",
    "version": 3
   },
   "file_extension": ".py",
   "mimetype": "text/x-python",
   "name": "python",
   "nbconvert_exporter": "python",
   "pygments_lexer": "ipython3",
   "version": "3.10.14"
  }
 },
 "nbformat": 4,
 "nbformat_minor": 5
}
