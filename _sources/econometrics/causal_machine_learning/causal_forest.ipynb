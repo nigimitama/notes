{
 "cells": [
  {
   "cell_type": "markdown",
   "id": "b0c6d2f0-8084-47ea-9031-4c9cb767de62",
   "metadata": {},
   "source": [
    "# Casual Tree/Forest"
   ]
  },
  {
   "cell_type": "markdown",
   "id": "01ce7759-bed0-48da-8faf-dabc080291d1",
   "metadata": {},
   "source": [
    "## Causal Tree"
   ]
  },
  {
   "cell_type": "markdown",
   "id": "f3390f92-ae65-4997-a468-c9c0c23d5dfd",
   "metadata": {},
   "source": []
  },
  {
   "cell_type": "markdown",
   "id": "6cd76f5a-56dc-4743-a667-4bd5cc24f1b8",
   "metadata": {},
   "source": [
    "### GRFは欠陥あり？\n",
    "\n",
    "Atlantic causal inference conferenceの因果推論コンペでの成績は悪かったらしい\n",
    "\n",
    "（[Ken McAlinnさんはTwitterを使っています: 「因果推定コンテストで回帰分析にボロ負けした話もちゃんと載せてほしい。」 / Twitter](https://twitter.com/kenmcalinn/status/1630768792912506881)）"
   ]
  },
  {
   "cell_type": "markdown",
   "id": "2b72e5d0-5e15-4e9e-92c7-ba6730cdaad2",
   "metadata": {},
   "source": [
    "### 参考\n",
    "\n",
    "- Susan Atheyらの講義資料：[Estimation of Heterogeneous Treatment Effects](https://gsbdbi.github.io/ml_tutorial/hte_tutorial/hte_tutorial.html)\n",
    "- [Wager, S., & Athey, S. (2015). Estimation and inference of heterogeneous treatment effects using random forests. arXiv preprint arXiv: 151004342.](https://arxiv.org/abs/1510.04342)\n",
    "  - 関連：[Wager, S. (2014). Asymptotic theory for random forests. arXiv preprint arXiv:1405.0352.](https://arxiv.org/abs/1405.0352)\n",
    "- [Athey, S., & Wager, S. (2019). Estimating treatment effects with causal forests: An application. Observational Studies, 5(2), 37-51.](https://arxiv.org/abs/1902.07409)"
   ]
  }
 ],
 "metadata": {
  "kernelspec": {
   "display_name": "Python 3 (ipykernel)",
   "language": "python",
   "name": "python3"
  },
  "language_info": {
   "codemirror_mode": {
    "name": "ipython",
    "version": 3
   },
   "file_extension": ".py",
   "mimetype": "text/x-python",
   "name": "python",
   "nbconvert_exporter": "python",
   "pygments_lexer": "ipython3",
   "version": "3.9.18"
  }
 },
 "nbformat": 4,
 "nbformat_minor": 5
}
