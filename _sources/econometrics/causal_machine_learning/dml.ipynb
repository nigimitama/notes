{
 "cells": [
  {
   "cell_type": "markdown",
   "id": "7f1d49eb-9627-4dc1-a162-1c460adee592",
   "metadata": {},
   "source": [
    "# Double/Debiased Machine Learning\n",
    "\n",
    "- Paper: [Chernozhukov, V., Chetverikov, D., Demirer, M., Duflo, E., Hansen, C., Newey, W., & Robins, J. (2018). Double/debiased machine learning for treatment and structural parameters.](https://academic.oup.com/ectj/article/21/1/C1/5056401?login=false)\n",
    "- Python Package: [DoubleML](https://docs.doubleml.org/stable/index.html)"
   ]
  },
  {
   "cell_type": "markdown",
   "id": "0c6f2ed0-309a-45a5-9ea9-8d64236641fb",
   "metadata": {},
   "source": [
    "## 概要\n",
    "\n",
    "世の中の多くの現象は非線形な関係性が想定される。回帰分析は線形モデルであるため、モデルの定式化の誤りに起因するバイアスが生じかねない。\n",
    "\n",
    "実際に関心のあるパラメータは少なく、交絡のコントロールのために入れている局外母数（nuisance parameters）は高次元になりがち。\n",
    "\n",
    "局外母数を非線形の関数$g_0(X)$で表し、関心のあるパラメータ$\\theta_0$は線形モデルで表現する **部分線形モデル**（partially linear regression: PLR）\n",
    "\n",
    "$$\n",
    "Y = D\\theta_0 + g_0(X) + U, \\hspace{1em} E[U|X,D] = 0\\\\\n",
    "D = m_0(X) + V, \\hspace{1em} E[V|X] = 0\n",
    "$$\n",
    "\n",
    "を作り、局外関数$g_0(X)$を機械学習で構築したい。\n",
    "\n",
    "もしこれが実現できれば、非線形部分を機械学習による優れた関数近似性能で捉えて交絡をコントロールしつつ、パラメータは線形回帰モデルのように推定できる。\n",
    "\n",
    "これを実現するのがDMLのフレームワークである（$g_0$は任意の機械学習アルゴリズムでよいので、DMLは具体的なアルゴリズムに踏み込まず、フレームワーク）。\n"
   ]
  },
  {
   "cell_type": "markdown",
   "id": "8a380c7c-6665-4f3a-9056-1fc5b19f000a",
   "metadata": {
    "tags": []
   },
   "source": [
    "## 先行研究\n",
    "\n",
    "[Robinson (1988)](https://www.jstor.org/stable/1912705) は部分線形モデルを提案し、一致推定量も導出した\n",
    "\n",
    "\n",
    ":::{admonition} Robinson (1988)の推定量\n",
    "\n",
    "部分線形モデル\n",
    "\n",
    "$$\n",
    "Y = D \\theta_0 + g_0(X) + U, \\quad E[U|X, D]=0\n",
    "$$\n",
    "\n",
    "の両辺を$X$で条件づけて期待値をとると\n",
    "\n",
    "$$\n",
    "E[Y|X] = E[D|X] \\theta_0 + g_0(X)\n",
    "$$\n",
    "\n",
    "これをモデルから差し引くと\n",
    "\n",
    "$$\n",
    "Y - E[Y|X] = \\theta_0 (D - E[D|X]) + U\n",
    "$$\n",
    "\n",
    "という線形回帰の形になる（FWL定理の残差回帰の形）\n",
    "\n",
    "$\\tilde{Y}_i = Y_i - E[Y_i|X_i]$、$\\tilde{D}_i = D_i - E[D_i|X_i]$とおけば、OLS推定量の形になる\n",
    "\n",
    "$$\n",
    "\\hat{\\beta}_{\\mathrm{inf}}=\\left(\\sum_{i=1}^n \\tilde{D}_i \\tilde{D}_i^T \\right)^{-1} \\sum_{i=1}^n \\tilde{D}_i \\tilde{Y}_i\n",
    "$$\n",
    "\n",
    "\n",
    "ただし、$E[Y|X], E[D|X]$は未知なのでそれぞれノンパラメトリック推定量$\\hat{\\ell}(X), \\hat{m}(X)$で置き換える（このようにノンパラ推定量で置換する推定量はプラグイン推定量という）。\n",
    "\n",
    "その推定量はroot-N consistentで漸近正規性を持つ\n",
    "\n",
    "**参考**\n",
    "\n",
    "- [末石直也 - セミ・ノンパラメトリック計量分析 (京都大学)](https://sites.google.com/site/naoyasueishij/teaching/nonpara) 第5回 [部分線形モデルとセミパラメトリック推定量の性質](https://drive.google.com/file/d/0B6W_J4QoAI6wcWdwYkNwUU5DWTA/view?resourcekey=0--WtAUb3PgzgBpsw1XtvhzQ)\n",
    "- 西山・人見（2023）『ノン・セミパラメトリック統計解析』、共立出版\n",
    "- [Robinson, P. M. (1988). Root‐N‐consistent semi‐parametric regression. Econometrica 56, 931–54.](https://www.jstor.org/stable/1912705)\n",
    ":::\n",
    "\n",
    "\n",
    "\n",
    "\n"
   ]
  },
  {
   "cell_type": "markdown",
   "id": "b6a7d8f7-0f78-4e75-b9e8-f7c21637b6ba",
   "metadata": {},
   "source": [
    "### Donsker条件\n",
    "\n",
    "[Andrew (1994)](https://www.jstor.org/stable/2951475) はプラグイン推定量が漸近正規性・$\\sqrt{n}$-consistent 一致性をもつ条件を明らかにした\n",
    "\n",
    "その条件を満たすために使われるのが、Donsker条件（Donsker condition）という条件を満たすクラスの関数（複雑性の低い関数）をノンパラメトリック推定量に使うというもの。\n",
    "\n",
    "機械学習アルゴリズムによる推定量は複雑度が高く、一般にDonsker条件を満たさない。**よってRobinson（1988）の推定量に機械学習をそのまま組み込むと漸近正規推定量・$\\sqrt{n}$-consistentにならない**\n"
   ]
  },
  {
   "cell_type": "markdown",
   "id": "f0a1ff47-0a94-4b95-92aa-3f9e0ffbd329",
   "metadata": {},
   "source": [
    "## 課題\n",
    "\n",
    "$g_0(X)$を機械学習で作って線形回帰するだけだと推定量は$\\sqrt{n}$の収束レートにならない\n",
    "\n",
    "2つのバイアスがある\n",
    "\n",
    "1. 正則化バイアス（Reguralization bias）\n",
    "2. 過学習によるバイアス（Bias induced by overfifting）\n",
    "\n",
    "それぞれの対策として、\n",
    "\n",
    "1. 正則化バイアス → **ネイマン直交化（例：残差回帰）** で対応\n",
    "2. 過学習 → **Cross-Fitting** で対応\n",
    "\n",
    "を行う"
   ]
  },
  {
   "cell_type": "markdown",
   "id": "5f4d7c9b-0829-4f39-8d66-9555a95909a2",
   "metadata": {},
   "source": [
    "## 前提知識\n",
    "\n",
    "知ってると理解を深めやすくなる前提知識まとめ\n"
   ]
  },
  {
   "cell_type": "markdown",
   "id": "a527c396-eaec-47db-9738-382bad3600dc",
   "metadata": {},
   "source": [
    "\n",
    "::::{dropdown} （参考）残差回帰\n",
    "\n",
    "DMLでは、FWL定理を利用した残差回帰を一般化する。\n",
    "\n",
    "残差回帰は線形回帰モデル\n",
    "\n",
    "$$\n",
    "Y = X_1 \\beta_1 + X_2 \\beta_2 + e\n",
    "$$\n",
    "\n",
    "を用いて\n",
    "\n",
    "$$\n",
    "Y - X_2 \\hat{\\gamma} = (X_1 - X_2 \\hat{\\delta}) \\beta_1\n",
    "$$\n",
    "\n",
    "のようにして関心のあるパラメータ$\\beta_1$を推定する。\n",
    "\n",
    "線形回帰モデルは回帰関数$E[Y|X]$を近似するため、上記の残差回帰は期待値を用いて\n",
    "\n",
    "$$\n",
    "Y - E[Y|X_2] = (X_1 - E[X_1|X_2]) \\beta_1\n",
    "$$\n",
    "\n",
    "と表すことができる。\n",
    "\n",
    "\n",
    ":::{admonition} FWL定理\n",
    "\n",
    "目的変数のベクトル$Y \\in \\mathbb{R}^{n\\times 1}$、説明変数の行列$X \\in \\mathbb{R}^{n\\times d}$と誤差項$e \\in \\mathbb{R}^{n\\times 1}$による線形回帰モデル\n",
    "\n",
    "$$\n",
    "Y = X \\beta + e\n",
    "$$\n",
    "\n",
    "があるとする。\n",
    "\n",
    "説明変数を$X = (X_1 | X_2)$と2つのグループに分割し、回帰係数ベクトル$\\beta$も合わせて$\\beta = (\\beta_1 | \\beta_2)^T$と2つに分割して\n",
    "\n",
    "$$\n",
    "Y = X_1 \\beta_1 + X_2 \\beta_2 + e\n",
    "$$\n",
    "\n",
    "\n",
    "と表す。\n",
    "\n",
    "この回帰モデルの$\\beta_1$は、**残差回帰**（residual regression）と呼ばれる以下の手順に従うことでも得ることができる。\n",
    "\n",
    "1. $X_1$を$X_2$に回帰して残差$\\tilde{X}_1$を得る：$\\tilde{X}_1 = X_1 - X_2 \\hat{\\delta}$\n",
    "2. $Y$を$X_2$に回帰して残差$\\tilde{Y}$を得る：$\\tilde{Y} = Y - X_2 \\hat{\\gamma}$\n",
    "3. $\\tilde{Y}$を$\\tilde{X}_1$に回帰させる：$\\tilde{Y} = \\tilde{X}_1 \\beta_1$\n",
    ":::\n",
    "::::"
   ]
  },
  {
   "cell_type": "markdown",
   "id": "9eada7e7-27ee-4c44-b6ef-8a4124d457ba",
   "metadata": {},
   "source": [
    "::::{dropdown} （参考）モーメント法\n",
    "\n",
    "確率変数$X$が$\\theta$というパラメータをもつ分布に従うとする。\n",
    "\n",
    "$$\n",
    "E[\\psi(X; \\theta)] = 0\n",
    "$$\n",
    "\n",
    "という条件（直交条件）を満たすスコア関数$\\psi(X; \\theta)$があるとき、標本$X_1, \\dots, X_n$を使った直交条件\n",
    "\n",
    "$$\n",
    "\\frac{1}{n} \\sum^n_{i=1} \\psi(X_i; \\theta) = 0\n",
    "$$\n",
    "\n",
    "を解いて$\\theta$を推定する方法を **モーメント法** （method of moments） という。\n",
    "\n",
    ":::{admonition} 例：線形回帰モデル\n",
    "\n",
    "線形回帰モデル\n",
    "\n",
    "$$\n",
    "Y_i = X_i^T \\beta + u_i\n",
    "$$\n",
    "\n",
    "のパラメータ$\\beta$の推定を考える。ここで$X$と$\\beta$は$(k \\times 1)$ベクトルとする。$X$は誤差項と無相関$E[X_i u_i] = 0$であるとする。\n",
    "\n",
    "このモデルから$k$本のモーメント条件が得られる\n",
    "\n",
    "$$\n",
    "E[X_i u_i] = E[X_i (Y_i - X_i^T \\beta)] = 0\n",
    "$$\n",
    "\n",
    "標本対応は\n",
    "\n",
    "$$\n",
    "\\frac{1}{n} \\sum^n_{i=1} X_i u_i\n",
    "= \\frac{1}{n} \\sum^n_{i=1} X_i (Y_i - X_i^T \\beta)\n",
    "$$\n",
    "\n",
    "行列表記では\n",
    "\n",
    "$$\n",
    "\\frac{1}{n} X^T u\n",
    "= \\frac{1}{n} X^T (Y - X\\beta) = 0\n",
    "$$\n",
    "\n",
    "となる。これを解くと\n",
    "\n",
    "$$\n",
    "\\frac{1}{n} X^T Y = \\frac{1}{n} X^T X\\beta\\\\\n",
    "\\to \\beta = (X^T X)^{-1}X^T Y\n",
    "$$\n",
    "\n",
    "と、最小二乗法の解と一致する\n",
    ":::\n",
    "\n",
    "::::"
   ]
  },
  {
   "cell_type": "markdown",
   "id": "2304cc5c-0017-42e4-b467-11b6a907cb09",
   "metadata": {},
   "source": [
    ":::{dropdown} （参考）漸近理論\n",
    "\n",
    "確率変数列$X_n$の分布関数がある確率変数$X$の分布関数に収束するとき\n",
    "\n",
    "$$\n",
    "\\mathrm{P}\\left(X_n \\leq x\\right) \\rightarrow \\mathrm{P}(X \\leq x)\n",
    "$$\n",
    "\n",
    "**分布収束** （converge in distribution）や **法則収束**（convergence in law） や **弱収束** （weak convergence） と呼び、\n",
    "\n",
    "$$\n",
    "X_n \\overset{d}{\\to} X,\\quad\n",
    "X_n \\rightsquigarrow X\n",
    "$$\n",
    "\n",
    "などと表す。$X$がある分布$L$に従う場合は\n",
    "\n",
    "$$\n",
    "X_n \\overset{d}{\\to} L,\\quad\n",
    "X_n \\rightsquigarrow L\n",
    "$$\n",
    "\n",
    "などと表す。\n",
    ":::"
   ]
  },
  {
   "cell_type": "markdown",
   "id": "a5f9650f-ea88-425e-b66f-3bfaca5285af",
   "metadata": {},
   "source": [
    "## ナイーブな推定量と正則化バイアス\n",
    "\n",
    "### サンプル分割\n",
    "\n",
    "のちのCross Fittingでサンプル分割の話になるので、数式の記法もあらかじめ分割に対応させておく。\n",
    "\n",
    "main sampleは$n$個のサンプルからなり、$i\\in I$のインデックスで表す。補助サンプルは$N-n$として$i \\in I^c$とする。単純のため2つに分割するだけにし、$n=N/2$とする。\n",
    "\n",
    "補助パートのサンプルで$\\hat{g}_0$を獲得し、$\\theta_0$の推定にメインパートのサンプルを使うことにする。"
   ]
  },
  {
   "cell_type": "markdown",
   "id": "63391285-66a0-4571-b970-b72bd0534978",
   "metadata": {},
   "source": [
    "<img style=\"width: 400px;\" src=\"data:image/png;base64,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\">"
   ]
  },
  {
   "cell_type": "markdown",
   "id": "d3fc2f3e-03c3-43d8-af4c-e9da93b6dcc8",
   "metadata": {},
   "source": [
    "### ナイーブな推定量\n",
    "\n",
    "線形回帰モデル$Y = X\\beta + U$のモーメント条件は\n",
    "\n",
    "$$\n",
    "E[U X] = E[(Y - X^T \\beta) X] = 0\n",
    "$$\n",
    "\n",
    "であった。これと同様に部分線形モデルにおいて\n",
    "\n",
    "$$\n",
    "E[UD] = E[(Y - \\theta D - g(X))D] = 0\n",
    "$$\n",
    "\n",
    "というモーメント条件を考えると、その推定量は\n",
    "\n",
    "$$\n",
    "\\hat{\\theta}_0 = \\left( \\frac{1}{n} \\sum_{i\\in I} D_i^2 \\right)^{-1}\n",
    "\\frac{1}{n} \\sum_{i\\in I} D_i (Y_i - \\hat{g}_0(X_i))\n",
    "$$\n",
    "\n",
    "となる。この推定量$\\hat{\\theta}_0$は一般に$1/\\sqrt{n}$より遅い収束レート、つまり\n",
    "\n",
    "$$\n",
    "|\\sqrt{n} (\\hat{\\theta}_0 - \\theta_0)| \\overset{p}{\\to} \\infty\n",
    "$$\n",
    "\n",
    "となる。\n",
    "\n",
    "この「劣った」振る舞いの背後には$g_0$の学習におけるバイアスがある。\n",
    "\n",
    "ヒューリスティックにこの$\\hat{g}_0$の学習のバイアスのインパクトを説明すると、スケールされた$\\hat{\\theta}_0$の推定誤差は\n",
    "\n",
    "$$\n",
    "\\sqrt{n} (\\hat{\\theta}_0 - \\theta_0) =\n",
    "\\underbrace{\n",
    "    \\left( \\frac{1}{n} \\sum_{i\\in I} D_i^2 \\right)^{-1}\n",
    "    \\frac{1}{\\sqrt{n}} \\sum_{i\\in I} D_i U_i\n",
    "}_{:=a}\n",
    "+\n",
    "\\underbrace{\n",
    "    \\left( \\frac{1}{n} \\sum_{i\\in I} D_i^2 \\right)^{-1}\n",
    "    \\frac{1}{\\sqrt{n}} \\sum_{i\\in I} D_i (g_0(X_i) - \\hat{g}_0(X_i))\n",
    "}_{:=b}\n",
    "$$\n",
    "\n",
    "である。\n",
    "\n",
    "第1項$a$は$a \\rightsquigarrow N(0, \\bar{\\Sigma})$となるので問題ない。第2項の$b$の項は正則化バイアス項で、一般に中心にならず発散する。first orderで以下を得る\n",
    "\n",
    "$$\n",
    "b = (E[D_i^2])^{-1}\n",
    "\\frac{1}{\\sqrt{n}} \\sum_{i\\in I}\n",
    "m_0(X_i)(g_0(X_i) - \\hat{g}_0(X_i)) + o_P(1)\n",
    "$$\n",
    "\n",
    "ヒューリスティックには、$b$は平均がゼロにならない$m_0(X_i)(g_0(X_i) - \\hat{g}_0(X_i))$の$n$個の総和で、$\\sqrt{n}$で割られる。これらの項は非ゼロの平均になる。なぜなら一般に機械学習手法は正則化推定量を採用するためである。正則化は推定量の分散が爆発しないようにするものの相当なバイアスを引き起こす。とりわけ、$g_0$への$\\hat{g}_0$のバイアスの収束レートは、RMSEにおいて$n^{-\\phi_g}$（$\\phi_g < 1/2$）である。ゆえに$b$は$D_i$が$m_0(X_i)\\neq 0$で中心化されるとき$\\sqrt{n} n^{-\\phi_g} \\to \\infty$の確率的オーダーになることが期待され、よって$|\\sqrt{n} (\\hat{\\theta}_0 - \\theta_0)| \\overset{p}{\\to} \\infty$となる"
   ]
  },
  {
   "cell_type": "markdown",
   "id": "893affe8-4dc3-48ca-8fcb-f68d4906cab7",
   "metadata": {},
   "source": [
    "[1. The basics of double/debiased machine learning — DoubleML documentation](https://docs.doubleml.org/stable/guide/basics.html)"
   ]
  },
  {
   "cell_type": "code",
   "execution_count": 1,
   "id": "dba5b89d-0aad-464d-a28c-3cc36eed2674",
   "metadata": {
    "jupyter": {
     "source_hidden": true
    },
    "tags": [
     "hide-input"
    ]
   },
   "outputs": [
    {
     "data": {
      "image/png": "[encoded data removed]",
      "text/plain": [
       "<Figure size 640x480 with 1 Axes>"
      ]
     },
     "metadata": {},
     "output_type": "display_data"
    }
   ],
   "source": [
    "import warnings\n",
    "warnings.filterwarnings(\"ignore\", category=UserWarning)\n",
    "\n",
    "import numpy as np\n",
    "from doubleml.datasets import make_plr_CCDDHNR2018\n",
    "np.random.seed(1234)\n",
    "n_rep = 1000\n",
    "n_obs = 500\n",
    "n_vars = 20\n",
    "alpha = 0.5\n",
    "data = list()\n",
    "for i_rep in range(n_rep):\n",
    "    (x, y, d) = make_plr_CCDDHNR2018(alpha=alpha, n_obs=n_obs, dim_x=n_vars, return_type='array')\n",
    "    data.append((x, y, d))\n",
    "\n",
    "def non_orth_score(y, d, l_hat, m_hat, g_hat, smpls):\n",
    "    u_hat = y - g_hat\n",
    "    psi_a = -np.multiply(d, d)\n",
    "    psi_b = np.multiply(d, u_hat)\n",
    "    return psi_a, psi_b\n",
    "\n",
    "from doubleml import DoubleMLData\n",
    "from doubleml import DoubleMLPLR\n",
    "from sklearn.ensemble import RandomForestRegressor\n",
    "from sklearn.base import clone\n",
    "import numpy as np\n",
    "from scipy import stats\n",
    "import matplotlib.pyplot as plt\n",
    "import seaborn as sns\n",
    "face_colors = sns.color_palette('pastel')\n",
    "edge_colors = sns.color_palette('dark')\n",
    "np.random.seed(1111)\n",
    "ml_l = RandomForestRegressor(n_estimators=132, max_features=12, max_depth=5, min_samples_leaf=1)\n",
    "ml_m = RandomForestRegressor(n_estimators=378, max_features=20, max_depth=3, min_samples_leaf=6)\n",
    "ml_g = clone(ml_l)\n",
    "\n",
    "# シミュレーションに時間がかかるので結果を保存する\n",
    "import json\n",
    "from pathlib import Path\n",
    "result_json_path = Path('./dml_simulation_results.json')\n",
    "use_cache = True\n",
    "\n",
    "# 実験1: ネイマン直交条件を満たさない場合\n",
    "if use_cache and result_json_path.exists():\n",
    "    with open(result_json_path, \"r\") as f:\n",
    "        simulation_results = json.load(f)\n",
    "        simulation_results = {k: np.array(v) for k,v in simulation_results.items()}\n",
    "    theta_nonorth = simulation_results[\"theta_nonorth\"]\n",
    "    se_nonorth = simulation_results[\"se_nonorth\"]\n",
    "else:\n",
    "    theta_nonorth = np.zeros(n_rep)\n",
    "    se_nonorth = np.zeros(n_rep)\n",
    "    for i_rep in range(n_rep):\n",
    "        (x, y, d) = data[i_rep]\n",
    "        obj_dml_data = DoubleMLData.from_arrays(x, y, d)\n",
    "        obj_dml_plr_nonorth = DoubleMLPLR(obj_dml_data,\n",
    "                                          ml_l, ml_m, ml_g,\n",
    "                                          n_folds=2,\n",
    "                                          apply_cross_fitting=False,\n",
    "                                          score=non_orth_score)\n",
    "        obj_dml_plr_nonorth.fit()\n",
    "        this_theta = obj_dml_plr_nonorth.coef[0]\n",
    "        this_se = obj_dml_plr_nonorth.se[0]\n",
    "        theta_nonorth[i_rep] = this_theta\n",
    "        se_nonorth[i_rep] = this_se\n",
    "\n",
    "    simulation_results = {}\n",
    "    simulation_results[\"theta_nonorth\"] = theta_nonorth\n",
    "    simulation_results[\"se_nonorth\"] = se_nonorth\n",
    "# plot\n",
    "plt.figure(constrained_layout=True)\n",
    "ax = sns.histplot((theta_nonorth - alpha)/se_nonorth,\n",
    "                  color=face_colors[0], edgecolor=edge_colors[0],\n",
    "                  stat='density', bins=30, label='Non-orthogonal ML')\n",
    "ax.axvline(0., color='k')\n",
    "xx = np.arange(-5, +5, 0.001)\n",
    "yy = stats.norm.pdf(xx)\n",
    "ax.plot(xx, yy, color='k', label='$\\\\mathcal{N}(0, 1)$')\n",
    "ax.legend(loc='upper right', bbox_to_anchor=(1.2, 1.0))\n",
    "ax.set_xlim([-6., 6.])\n",
    "ax.set_xlabel('$(\\hat{\\\\theta}_0 - \\\\theta_0)/\\hat{\\sigma}$')\n",
    "plt.show()"
   ]
  },
  {
   "cell_type": "markdown",
   "id": "a977cf4f-6627-43d8-9337-31905043a50d",
   "metadata": {},
   "source": [
    "## 直交化による正則化バイアスの打破\n",
    "\n",
    "DからXの効果をpartialling outして直交化された\n",
    "\n",
    "$$\n",
    "\\hat{V} = D - \\hat{m}_0(X)\n",
    "$$\n",
    "\n",
    "を使用する方法を考える。ここで$\\hat{m}_0$は補助的サンプル（auxiliary sample）を用いたML推定量である。\n",
    "\n",
    "DからXの効果をpartialling out したあとは、main sampleを使って$\\theta_0$のdebiased ML (DML)を構築する\n",
    "\n",
    "$$\n",
    "\\check{\\theta}_0 = \\left( \\frac{1}{n} \\sum_{i\\in I} \\hat{V}_i D_i \\right)^{-1}\n",
    "\\frac{1}{n} \\sum_{i\\in I} \\hat{V}_i (Y_i - \\hat{g}_0(X_i))\n",
    "$$\n",
    "\n",
    "近似的にDをXについて直交化し、$g_0$の推定値を引くことで近似的に交絡の直接効果を除去することで、$\\check{\\theta}_0$は(1.3)の正則化バイアスを除去している。\n",
    "\n"
   ]
  },
  {
   "cell_type": "markdown",
   "id": "ed14ecf6-ef93-4dcb-8c0c-9c05e039d6e8",
   "metadata": {},
   "source": [
    ":::{card} IV推定量と似てる\n",
    "\n",
    "DML:\n",
    "\n",
    "$$\n",
    "\\check{\\theta}_0 = \\left( \\frac{1}{n} \\sum_{i\\in I} \\hat{V}_i D_i \\right)^{-1}\n",
    "\\frac{1}{n} \\sum_{i\\in I} \\hat{V}_i (Y_i - \\hat{g}_0(X_i))\n",
    "$$\n",
    "\n",
    "IV:\n",
    "\n",
    "$$\n",
    "\\hat{\\theta}_0^{IV} = \\left( \\frac{1}{n} \\sum_{i=1}^n Z_i X_i^T \\right)^{-1}\n",
    "\\frac{1}{n} \\sum_{i=1}^n Z_i Y_i\n",
    "$$\n",
    "\n",
    "\n",
    ":::\n"
   ]
  },
  {
   "cell_type": "markdown",
   "id": "5e15a979-a180-40ec-9e06-f3cc8e4ad631",
   "metadata": {},
   "source": [
    ":::{card}\n",
    "$\\hat{V}$も入れて書くと\n",
    "\n",
    "$$\n",
    "\\check{\\theta}_0 = \\left( \\frac{1}{n} \\sum_{i\\in I} \\left(D_i - \\hat{m}_0(X_i)\\right) D_i \\right)^{-1}\n",
    "\\frac{1}{n} \\sum_{i\\in I} \\left(D_i - \\hat{m}_0(X_i)\\right) \\left(Y_i - \\hat{g}_0(X_i) \\right)\n",
    "$$\n",
    ":::\n"
   ]
  },
  {
   "cell_type": "code",
   "execution_count": 2,
   "id": "97ec460d-57d0-4510-bfa8-d46b465b9de0",
   "metadata": {
    "jupyter": {
     "source_hidden": true
    },
    "tags": [
     "hide-input"
    ]
   },
   "outputs": [
    {
     "data": {
      "text/plain": [
       "Text(0.5, 0, '$(\\\\hat{\\\\theta}_0 - \\\\theta_0)/\\\\hat{\\\\sigma}$')"
      ]
     },
     "execution_count": 2,
     "metadata": {},
     "output_type": "execute_result"
    },
    {
     "data": {
      "image/png": "[encoded data removed]",
      "text/plain": [
       "<Figure size 640x480 with 1 Axes>"
      ]
     },
     "metadata": {},
     "output_type": "display_data"
    }
   ],
   "source": [
    "# 実験2: 直交化した場合\n",
    "if use_cache and result_json_path.exists():\n",
    "    with open(result_json_path, \"r\") as f:\n",
    "        simulation_results = json.load(f)\n",
    "        simulation_results = {k: np.array(v) for k,v in simulation_results.items()}\n",
    "    theta_orth_nosplit = simulation_results[\"theta_orth_nosplit\"]\n",
    "    se_orth_nosplit = simulation_results[\"se_orth_nosplit\"]\n",
    "else:\n",
    "    theta_orth_nosplit = np.zeros(n_rep)\n",
    "    se_orth_nosplit = np.zeros(n_rep)\n",
    "\n",
    "    for i_rep in range(n_rep):\n",
    "        (x, y, d) = data[i_rep]\n",
    "        obj_dml_data = DoubleMLData.from_arrays(x, y, d)\n",
    "        obj_dml_plr_orth_nosplit = DoubleMLPLR(obj_dml_data,\n",
    "                                               ml_l, ml_m, ml_g,\n",
    "                                               n_folds=1,\n",
    "                                               score='partialling out',\n",
    "                                               apply_cross_fitting=False)\n",
    "        obj_dml_plr_orth_nosplit.fit()\n",
    "        this_theta = obj_dml_plr_orth_nosplit.coef[0]\n",
    "        this_se = obj_dml_plr_orth_nosplit.se[0]\n",
    "        theta_orth_nosplit[i_rep] = this_theta\n",
    "        se_orth_nosplit[i_rep] = this_se\n",
    "\n",
    "    simulation_results[\"theta_orth_nosplit\"] = theta_orth_nosplit\n",
    "    simulation_results[\"se_orth_nosplit\"] = se_orth_nosplit\n",
    "\n",
    "# plot\n",
    "plt.figure(constrained_layout=True)\n",
    "ax = sns.histplot((theta_orth_nosplit - alpha)/se_orth_nosplit,\n",
    "                  color=face_colors[1], edgecolor=edge_colors[1],\n",
    "                  stat='density', bins=30, label='Double ML (no sample splitting)')\n",
    "ax.axvline(0., color='k')\n",
    "xx = np.arange(-5, +5, 0.001)\n",
    "yy = stats.norm.pdf(xx)\n",
    "ax.plot(xx, yy, color='k', label='$\\\\mathcal{N}(0, 1)$')\n",
    "ax.legend(loc='upper right', bbox_to_anchor=(1.2, 1.0))\n",
    "ax.set_xlim([-6., 6.])\n",
    "ax.set_xlabel('$(\\hat{\\\\theta}_0 - \\\\theta_0)/\\hat{\\sigma}$')"
   ]
  },
  {
   "cell_type": "markdown",
   "id": "7c82c358-13da-4014-a4ac-777c115b9d88",
   "metadata": {},
   "source": [
    "### Neyman Orthogonality\n",
    "\n",
    "partialling outしたモーメント条件による推定量とナイーブな推定量は何が違うのか？\n",
    "\n",
    "→ ネイマン直交性（Neyman orthogonality）がカギになる。\n",
    "\n",
    ":::{admonition} ネイマン直交性\n",
    "\n",
    "サンプル$W$、関心のあるパラメータ$\\theta_0$、局外母数$\\eta_0$についてのスコア関数$\\psi(W; \\theta_0, \\eta_0)$のベクトル$\\psi = (\\psi_1, \\dots, \\psi_d)^T$があるとする。このスコア関数の直交条件\n",
    "\n",
    "$$\n",
    "E[\\psi(W; \\theta_0, \\eta_0)] = 0\n",
    "$$\n",
    "\n",
    "について、ガトー微分が存在し、微小な$\\eta$の推定誤差についての微分が0となる\n",
    "\n",
    "このことを **ネイマン直交性（Neyman orthogonality）** という\n",
    ":::\n",
    "\n",
    "意訳：真の局外母数η0=(m0, g0)と任意のηとの微小な差による直交条件の変化が0であること\n",
    "\n",
    "→ ηの推定誤差に対して頑健（robust）であること\n",
    "\n",
    "→ ネイマン直交性をもつスコア関数を用いる推定量は正則化バイアスに対し頑健になる\n"
   ]
  },
  {
   "cell_type": "markdown",
   "id": "02e6b542-36a2-455a-be64-f7d9052702e2",
   "metadata": {},
   "source": [
    "### $\\check{\\theta}_0$の性質\n",
    "\n",
    "スケールされた推定誤差は３つの要素に分解できる\n",
    "\n",
    "$$\n",
    "\\sqrt{n}(\\check{\\theta}_0 - \\theta_0)\n",
    "= a^* + b^* + c^*\n",
    "$$\n",
    "\n",
    "$a^*$はmild conditionsのもとで以下を満たす\n",
    "\n",
    "$$\n",
    "a^* = (E[V^2])^{-1}\n",
    "\\frac{1}{\\sqrt{n}} \\sum_{i\\in I} V_i U_i \\rightsquigarrow N(0, \\Sigma)\n",
    "$$\n",
    "\n",
    "$b^*$は$g_0, m_0$の推定における正則化バイアスの影響を捉える。具体的には\n",
    "\n",
    "$$\n",
    "b^* = (E[V^2])^{-1}\n",
    "\\frac{1}{\\sqrt{n}} \\sum_{i\\in I} \n",
    "(\\hat{m}_0(X_i) - m_0(X_i))\n",
    "(\\hat{g}_0(X_i) - g_0(X_i))\n",
    "$$\n",
    "\n",
    "で、これは$\\hat{m}_0$と$\\hat{g}_0$の推定誤差の積に依存する。そのため、幅広い範囲のデータ生成過程のもとで消失させることが可能である。\n",
    "\n",
    "実際、この項は$\\sqrt{n}n^{-(\\phi_m+\\phi_g)}$で上界になり、ここで$n^{-\\phi_m}, n^{-\\phi_g}$はそれぞれ$\\hat{m}_0, \\hat{g}_0$の$m_0, g_0$への収束レートである。これは両者が比較的遅い収束レートで推定されたとしても、消失しうる。\n"
   ]
  },
  {
   "cell_type": "markdown",
   "id": "f6b748a3-5eb4-4f3b-9804-6e8911a6eb6d",
   "metadata": {},
   "source": [
    "（多くのMLアルゴリズムが$n^{-1/4}$程度の収束レートらしいので、$g,m$の推定誤差の積が$n^{-1/4} \\times n^{-1/4} = n^{-1/2}$みたいなイメージなんじゃないか、という話がある （[参考](https://speakerdeck.com/masa_asa/debiased-ml?slide=11)))"
   ]
  },
  {
   "cell_type": "markdown",
   "id": "262eb671-326f-472a-a252-05c35dec2288",
   "metadata": {},
   "source": [
    "\n",
    "$c^*$は\n",
    "\n",
    "$$\n",
    "c^* = o_P(1)\n",
    "$$\n",
    "\n",
    "となる。これが弱い条件のもとで成り立つことを保証するにあたって、sample splittingが重要な役割を果たす。"
   ]
  },
  {
   "cell_type": "markdown",
   "id": "c59bc5eb-001c-4421-ad14-bd32e3a1e4bd",
   "metadata": {},
   "source": [
    "## Cross Fittingによる過学習のバイアスの除去\n",
    "\n",
    "DML推定量の$\\sqrt{n}$でスケールした推定誤差\n",
    "\n",
    "$$\n",
    "\\sqrt{n}(\\check{\\theta}_0 - \\theta_0)\n",
    "= a^* + b^* + c^*\n",
    "$$\n",
    "\n",
    "のうち、$c^*$が確率的に消失するためにsample splittingが使われる。\n",
    "\n",
    "$c^*$は\n",
    "\n",
    "$$\n",
    "\\frac{1}{\\sqrt{n}} \\sum_{i \\in I} V_i (\\hat{g}_0(X_i) - g_0(X_i))\n",
    "$$\n",
    "\n",
    "などの項を含む。\n",
    "この項は局外関数の推定誤差と部分線形モデルの構造的未観測要因の積の和を$1/\\sqrt{n}$-normalizedしたものである。\n",
    "\n",
    "sample splittingを使うと、このような項をシンプルでタイトにコントロールできる。それを確認するため、観測値が独立と仮定して、$\\hat{g}_0$が補助的サンプルの観測値のみで推定されることを思い出そう。\n",
    "\n",
    "$E[V_i|X_i]=0$であることを思い出すと、この項は平均ゼロで分散は\n",
    "\n",
    "$$\n",
    "\\frac{1}{n} \\sum_{i \\in I} (\\hat{g}_0(X_i) - g_0(X_i))^2\n",
    "\\overset{p}{\\to}\n",
    "0\n",
    "$$\n",
    "\n",
    "であることがわかり、チェビシェフの不等式を使って確率的には消失することがわかる。\n"
   ]
  },
  {
   "cell_type": "markdown",
   "id": "56d1014a-52e5-4fe2-b8db-27b26024fe2e",
   "metadata": {},
   "source": [
    ":::{dropdown} なぜ平均ゼロになるのか\n",
    "\n",
    "条件付き期待値の性質$E[X]=E_Y[E(X|Y)]$により\n",
    "\n",
    "$$\n",
    "\\begin{aligned}\n",
    "E[V_i (\\hat{g}_0(X_i) - g_0(X_i))]\n",
    "&= E_X[E[V_i (\\hat{g}_0(X_i) - g_0(X_i)) \\mid X ] ]\\\\\n",
    "&= E_X[ (\\hat{g}_0(X_i) - g_0(X_i)) \\underbrace{ E[V_i \\mid X ] }_{=0} ]\\\\\n",
    "&= E[0] = 0\n",
    "\\end{aligned}\n",
    "$$\n",
    "\n",
    "ということかと思われる\n",
    ":::"
   ]
  },
  {
   "cell_type": "markdown",
   "id": "d4da0658-c668-4e3a-8fa0-5f9872ca4e78",
   "metadata": {},
   "source": [
    "\n",
    "sample splittingの欠点は推定に使用するサンプル数が減ることによる効率性の低下である。しかし、mainとauxiliaryの2つでそれぞれ推定を行い、両者の平均を取ればfull efficiencyを取り戻す。この手続き（mainとauxiliaryの役割を取り替えて複数の推定値を取得しそれらの平均をとる）を「**cross-fitting**」と呼ぶことにする。一般にk-foldにすることもできる。"
   ]
  },
  {
   "cell_type": "code",
   "execution_count": 3,
   "id": "bb56fdf8-1ba8-4e4a-b492-3ac1092a02ae",
   "metadata": {
    "jupyter": {
     "source_hidden": true
    },
    "tags": [
     "hide-input"
    ]
   },
   "outputs": [
    {
     "data": {
      "image/png": "[encoded data removed]",
      "text/plain": [
       "<Figure size 640x480 with 1 Axes>"
      ]
     },
     "metadata": {},
     "output_type": "display_data"
    }
   ],
   "source": [
    "# 実験2: 直交化した場合\n",
    "if use_cache and result_json_path.exists():\n",
    "    with open(result_json_path, \"r\") as f:\n",
    "        simulation_results = json.load(f)\n",
    "        simulation_results = {k: np.array(v) for k,v in simulation_results.items()}\n",
    "    theta_dml = simulation_results[\"theta_dml\"]\n",
    "    se_dml = simulation_results[\"se_dml\"]\n",
    "else:\n",
    "    theta_dml = np.zeros(n_rep)\n",
    "    se_dml = np.zeros(n_rep)\n",
    "\n",
    "    for i_rep in range(n_rep):\n",
    "        (x, y, d) = data[i_rep]\n",
    "        obj_dml_data = DoubleMLData.from_arrays(x, y, d)\n",
    "        obj_dml_plr = DoubleMLPLR(obj_dml_data,\n",
    "                                  ml_l, ml_m, ml_g,\n",
    "                                  n_folds=2,\n",
    "                                  score='partialling out')\n",
    "        obj_dml_plr.fit()\n",
    "        this_theta = obj_dml_plr.coef[0]\n",
    "        this_se = obj_dml_plr.se[0]\n",
    "        theta_dml[i_rep] = this_theta\n",
    "        se_dml[i_rep] = this_se\n",
    "\n",
    "    simulation_results[\"theta_dml\"] = theta_dml\n",
    "    simulation_results[\"se_dml\"] = se_dml\n",
    "    simulation_results = {k:list(v) for k,v in simulation_results.items()}\n",
    "    with open(result_json_path, \"w\") as f:\n",
    "        json.dump(simulation_results, f)\n",
    "\n",
    "# plot\n",
    "plt.figure(constrained_layout=True)\n",
    "ax = sns.histplot((theta_dml - alpha)/se_dml,\n",
    "                  color=face_colors[2], edgecolor = edge_colors[2],\n",
    "                  stat='density', bins=30, label='Double ML with cross-fitting')\n",
    "ax.axvline(0., color='k')\n",
    "xx = np.arange(-5, +5, 0.001)\n",
    "yy = stats.norm.pdf(xx)\n",
    "ax.plot(xx, yy, color='k', label='$\\\\mathcal{N}(0, 1)$')\n",
    "ax.legend(loc='upper right', bbox_to_anchor=(1.2, 1.0))\n",
    "ax.set_xlim([-6., 6.])\n",
    "ax.set_xlabel('$(\\hat{\\\\theta}_0 - \\\\theta_0)/\\hat{\\sigma}$')\n",
    "plt.show()"
   ]
  },
  {
   "cell_type": "markdown",
   "id": "e10302f5-52b7-4437-a9c4-d10f012d7bc7",
   "metadata": {},
   "source": [
    "### Cross Fitting\n",
    "\n",
    ":::{admonition} Definition 3.1.DML1\n",
    "\n",
    "(1) サンプル$(W_i)^N_{i=1}$のインデックス$[N]=\\{1,\\dots,N\\}$のK-foldのランダムな分割$\\left(I_k\\right)_{k=1}^K$ を作る。\n",
    "\n",
    "$I_k$のサイズは$n=N/K$である。\n",
    "\n",
    "それぞれの$k\\in[K]=\\{1,\\dots,K\\}$について、$I_k^c := \\{1,\\dots,N\\} \\backslash I_k$を定義する。\n",
    "\n",
    "(2) 各$k\\in[K]$について、局外母数$\\eta_0$のML推定量\n",
    "\n",
    "$$\n",
    "\\hat{\\eta}_{0, k}=\\hat{\\eta}_0\\left(\\left(W_i\\right)_{i \\in I_k^c}\\right)\n",
    "$$\n",
    "\n",
    "を構築する。\n",
    "\n",
    "(3) 各$k\\in[K]$について、推定量$\\check{\\theta}_{0, k}$を\n",
    "\n",
    "$$\n",
    "\\mathbb{E}_{n, k}\\left[\n",
    "\\psi \\left(W ; \\check{\\theta}_{0, k}, \\hat{\\eta}_{0, k} \\right)\n",
    "\\right]=0\n",
    "$$\n",
    "\n",
    "の解として構築する。$\\psi$はネイマン直交スコアで、$\\mathbb{E}_{n, k}$は経験期待値\n",
    "\n",
    "$$\n",
    "\\mathbb{E}_{n, k}[\\psi(W)] = \\frac{1}{n} \\sum_{i \\in I_k} \\psi\\left(W_i\\right)\n",
    "$$\n",
    "\n",
    "である。\n",
    "\n",
    "なお、もし厳密に0にするのが不可能である場合は、推定量$\\check\\theta_{0,k}$は近似解\n",
    "\n",
    "$$\n",
    "\\left\\|E_{n, k}\\left[\\psi\\left(W ; \\check{\\theta}_{0, k}, \\hat{\\eta}_{0, k}\\right)\\right]\\right\\| \\leq \\inf _{\\theta \\in \\Theta}\\left\\|E_{n, k}\\left[\\psi\\left(W ; \\theta, \\hat{\\eta}_{0, k}\\right)\\right]\\right\\|+\\varepsilon_N, \\quad \\varepsilon_N=o\\left(\\delta_N N^{-1 / 2}\\right)\n",
    "$$\n",
    "\n",
    "ここで$\\left(\\delta_N\\right)_{N \\geq 1}$はゼロに収束する正の整数列である。\n",
    "\n",
    "(4) 推定量を集計する\n",
    "\n",
    "$$\n",
    "\\widetilde{\\theta}_0=\\frac{1}{K} \\sum_{k=1}^K \\check{\\theta}_{0, k}\n",
    "$$\n",
    "\n",
    ":::"
   ]
  },
  {
   "cell_type": "markdown",
   "id": "a47ab657-b611-4262-aec7-63560cc048b2",
   "metadata": {},
   "source": [
    "<img style=\"width: 400px;\" src=\"data:image/png;base64,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\">"
   ]
  },
  {
   "cell_type": "markdown",
   "id": "9e8d73ed-9dd7-4bee-adb4-7e4830aa6658",
   "metadata": {},
   "source": [
    ":::{admonition} DML1（簡略版）\n",
    "\n",
    "1. サンプル $(W_i)^N_{i=1}$ のインデックス $[N]=\\{1,\\dots,N\\}$ のK-foldのランダムな分割 $\\left(I_k\\right)_{k=1}^K$ を作る。$I_k$のサイズは$n=N/K$である。\n",
    "2. それぞれの$k\\in[K]=\\{1,\\dots,K\\}$について、$I_k^c := \\{1,\\dots,N\\} \\backslash I_k$を定義する。\n",
    "3. 各$k\\in[K]$について、局外母数$\\eta_0$のML推定量\n",
    "\n",
    "    $$\n",
    "    \\hat{\\eta}_{0, k}=\\hat{\\eta}_0\\left(\\left(W_i\\right)_{i \\in I_k^c}\\right)\n",
    "    $$\n",
    "\n",
    "    を構築する。\n",
    "\n",
    "4. 各$k\\in[K]$について、推定量$\\check{\\theta}_{0, k}$を\n",
    "\n",
    "    $$\n",
    "    E_{n, k}\\left[\n",
    "    \\psi \\left(W ; \\check{\\theta}_{0, k}, \\hat{\\eta}_{0, k} \\right)\n",
    "    \\right]=0\n",
    "    $$\n",
    "\n",
    "    の解として構築する。$\\psi$はネイマン直交スコアである。\n",
    "\n",
    "5. 推定量を集計する\n",
    "\n",
    "    $$\n",
    "    \\widetilde{\\theta}_0=\\frac{1}{K} \\sum_{k=1}^K \\check{\\theta}_{0, k}\n",
    "    $$\n",
    "\n",
    ":::"
   ]
  },
  {
   "cell_type": "markdown",
   "id": "6a5e2d8e-ebb8-47a1-b19f-01290ccefff1",
   "metadata": {},
   "source": [
    ":::{admonition} DML2（簡略版）\n",
    "\n",
    "1. サンプル $(W_i)^N_{i=1}$ のインデックス $[N]=\\{1,\\dots,N\\}$ のK-foldのランダムな分割 $\\left(I_k\\right)_{k=1}^K$ を作る。$I_k$のサイズは$n=N/K$である。\n",
    "2. それぞれの$k\\in[K]=\\{1,\\dots,K\\}$について、$I_k^c := \\{1,\\dots,N\\} \\backslash I_k$を定義する。\n",
    "3. 各$k\\in[K]$について、局外母数$\\eta_0$のML推定量\n",
    "\n",
    "    $$\n",
    "    \\hat{\\eta}_{0, k}=\\hat{\\eta}_0\\left(\\left(W_i\\right)_{i \\in I_k^c}\\right)\n",
    "    $$\n",
    "\n",
    "    を構築する。\n",
    "\n",
    "4. 各$k\\in[K]$について、推定量$\\tilde{\\theta}_0$を\n",
    "\n",
    "    $$\n",
    "    \\frac{1}{K} \\sum_{k=1}^K E_{n, k}\\left[\\psi\\left(W ; \\tilde{\\theta}_0, \\hat{\\eta}_{0, k}\\right)\\right]=0\n",
    "    $$\n",
    "\n",
    "    の解として構築する。$\\psi$はネイマン直交スコアである。\n",
    "\n",
    ":::"
   ]
  },
  {
   "cell_type": "markdown",
   "id": "ecf05b85-f8ba-454b-8218-ac00f99e60fd",
   "metadata": {},
   "source": [
    "\n",
    "\n",
    "> We show that if the population risk satisfies a condition called Neyman orthogonality, the impact of the nuisance estimation error on the excess risk bound achieved by the meta-algorithm is of second order.\n",
    "> \n",
    "> [Foster, D. J., & Syrgkanis, V. (2023). Orthogonal statistical learning. The Annals of Statistics, 51(3), 879-908.](https://arxiv.org/pdf/1901.09036.pdf)"
   ]
  },
  {
   "cell_type": "markdown",
   "id": "ae31e8d1-08cf-47df-99f5-49c12ab9ab1a",
   "metadata": {},
   "source": [
    "## Donsker条件\n",
    "\n",
    "Robinson (1988）などのセミパラメトリックモデルでも$\\sqrt{n}$-consistentで漸近正規性をもつ推定量が作れていた\n",
    "\n",
    "しかし、Donsker条件（Donsker condition）という条件を満たすクラスの関数（複雑性の低い関数）でなければ、漸近正規性をもたない（[Andrew 1994](https://www.jstor.org/stable/2951475)）\n",
    "\n",
    "機械学習モデルの収束レートが遅い（Donsker条件）→Cross Fitting\n",
    "\n",
    "\n",
    "[XユーザーのMasahiro Katoさん: 「Double/debiased machine learningはどういう手法かというと，機械学習はDonsker条件を満たさないので，サンプルを分割することによって，異なる部分集合間で独立だと思えるような局外母数の推定量を構築することで，収束率だけで漸近正規性を出す手法です．」 / X](https://twitter.com/masakat0/status/1314897112316870657)"
   ]
  },
  {
   "cell_type": "markdown",
   "id": "4688b1d8-7c42-4ae7-9a6e-a189f2b2e2a8",
   "metadata": {},
   "source": [
    "### プラグイン推定量\n",
    "\n",
    "モデルのパラメータをモーメント推定する際に、未知の関数をノンパラ推定量で置換してモーメント推定する推定量。\n",
    "部分線形モデルを含む多くのセミパラメトリック推定量はプラグイン推定量に含まれる。\n",
    "\n",
    "関心のあるパラメータを$\\theta$、局外母数を$\\eta$とし、セミパラメトリックモデルが確率変数を$W$として真のパラメータ$(\\theta_0, \\eta_0)$のもとでモーメント条件\n",
    "\n",
    "$$\n",
    "E[m(W, \\theta_0, \\eta_0)]=0\n",
    "$$\n",
    "\n",
    "を満たすとする（$m$は既知の関数）。\n",
    "第1段階で局外母数$\\eta_0$の一致推定量$\\hat\\eta$を得て、第2段階で標本モーメント条件\n",
    "\n",
    "$$\n",
    "\\frac{1}{n}\\sum^n_{i=1} m(W_i, \\hat\\beta, \\hat\\eta)=0\n",
    "$$\n",
    "\n",
    "を満たすように$\\hat\\theta$を推定する。\n",
    "\n",
    "\n",
    "### プラグイン推定量の漸近正規性\n",
    "\n",
    "プラグイン推定量が漸近正規性をもつためには、次の2つの条件が鍵となる\n",
    "\n",
    "1. $\\nu_n(\\hat\\eta) - \\nu(\\eta_0) \\overset{p}{\\to} 0$\n",
    "2. $\\sqrt{n}E[m(X_i, \\theta_0, \\hat\\eta)] = o_p(1)$\n",
    "\n",
    "なお$m(\\cdot)$はモーメント条件を構成する既知の関数で、$\\nu_n$は経験過程（empirical process）とよばれる関数\n",
    "\n",
    "$$\n",
    "\\nu_n(\\eta) = \\frac{1}{\\sqrt{n}} \\sum_{i=1}^n ( m(X_i, \\eta) - E[m(X_i, \\eta)] )\n",
    "$$\n",
    "\n",
    "である。\n",
    "\n",
    "ノンパラメトリック推定量の漸近理論ではDonsker条件を用いて条件1を示すことが多いようだが、高次元ではDonsker条件は満たされない\n",
    "\n",
    "対処法のひとつは標本分割（sample splitting）だが、標本分割すると効率性が低下する。Chernozkov et al. (2018)ではCross-fittingにより効率性を落とさずに推定できることを示した"
   ]
  },
  {
   "cell_type": "markdown",
   "id": "00053b56-45aa-4438-ab3a-3391934cc2e5",
   "metadata": {},
   "source": [
    "## $g_0(X)$の推定\n",
    "\n",
    "Robinson-styleのほうは$g_0(X)$ではなく$\\ell_0(X) := E[Y|X]$を使ったのでシンプルにFWL定理であり、わかりやすかった。\n",
    "\n",
    "DMLの$g(X)$はどう推定するのか?\n",
    "\n",
    "→ 直接推定できないのでちょっと手順を踏む\n",
    "\n",
    "ドキュメントの例だと$y - D \\theta$を目的変数にしてfitしてるっぽい\n",
    "\n",
    "```python\n",
    "psi_a = -np.multiply(d[i_train] - ml_m.predict(x[i_train, :]), d[i_train] - ml_m.predict(x[i_train, :]))\n",
    "psi_b = np.multiply(d[i_train] - ml_m.predict(x[i_train, :]), y[i_train] - ml_l.predict(x[i_train, :]))\n",
    "theta_initial = -np.nanmean(psi_b) / np.nanmean(psi_a)\n",
    "ml_g.fit(x[i_train, :], y[i_train] - theta_initial * d[i_train])\n",
    "```\n",
    "\n",
    "> Remark that the estimator is not able to estimate $\\hat{g}_0(X)$ directly, but has to be based on a preliminary estimate of $\\hat{m}_0(X)$\n",
    ">\n",
    "> [Python: Basics of Double Machine Learning — DoubleML documentation](https://docs.doubleml.org/stable/examples/py_double_ml_basics.html)\n"
   ]
  },
  {
   "cell_type": "markdown",
   "id": "9d699bb1-6702-4dea-b83d-330f80b57240",
   "metadata": {},
   "source": [
    ":::{admonition} Robinsonのスコア\n",
    "\n",
    "Robinson (1988)のスコア関数もNeiman orthogonalityを満たし、推定量は残差回帰のような形になるので理解しやすい\n",
    "\n",
    "$$\n",
    "E[D|X] \\approx \\hat{m}_0(X_i)\\\\\n",
    "E[Y|X] \\approx \\hat{\\ell}_0(X_i)\n",
    "$$\n",
    "\n",
    "を機械学習アルゴリズムで構築し、\n",
    "\n",
    "$$\n",
    "\\hat{V}_i := D_i - \\hat{m}_0(X_i)\\\\\n",
    "\\tilde{Y}_i := Y_i - \\hat{\\ell}_0(X_i)\n",
    "$$\n",
    "\n",
    "という残差で切片なしの単回帰\n",
    "\n",
    "$$\n",
    "\\check{\\theta}_0\n",
    "= \\left(\\frac{1}{n} \\sum_{i \\in I} \\hat{V}_i^2\\right)^{-1}\n",
    "\\frac{1}{n} \\sum_{i \\in I} \\hat{V}_i \\tilde{Y}_i\n",
    "$$\n",
    "\n",
    "を行うというもの。\n",
    "\n",
    "\n",
    "```python\n",
    "# 実装のイメージ（簡単のためサンプル分割なし）\n",
    "from lightgbm import LGBMRegressor\n",
    "\n",
    "m = LGBMRegressor(max_depth=4, verbose=-1)\n",
    "m.fit(X, D)\n",
    "l = LGBMRegressor(max_depth=4, verbose=-1)\n",
    "l.fit(X, Y)\n",
    "\n",
    "V_hat = D - m.predict(X)\n",
    "Y_res = Y - l.predict(X)\n",
    "\n",
    "theta_hat = np.mean(V_hat * V_hat) ** (-1) * np.mean(V_hat * Y_res)\n",
    "```\n",
    "\n",
    "\n",
    "```python\n",
    "# 実装のイメージ（Cross-fitting）\n",
    "from sklearn.model_selection import KFold\n",
    "kf = KFold(n_splits=5)\n",
    "kf.get_n_splits(X)\n",
    "thetas = []\n",
    "for i, (train_idx, test_idx) in enumerate(kf.split(X)):\n",
    "    # 局外関数の推定\n",
    "    m = LGBMRegressor(max_depth=4, verbose=-1).fit(X[train_idx], D[train_idx])\n",
    "    l = LGBMRegressor(max_depth=4, verbose=-1).fit(X[train_idx], Y[train_idx])\n",
    "    # 残差の計算\n",
    "    V_hat = D[test_idx] - m.predict(X[test_idx])\n",
    "    Y_res = Y[test_idx] - l.predict(X[test_idx])\n",
    "    # θの推定\n",
    "    theta_hat = np.mean(V_hat * V_hat) ** (-1) * np.mean(V_hat * Y_res)\n",
    "    thetas.append(theta_hat)\n",
    "np.mean(thetas)\n",
    "```\n",
    "\n",
    ":::"
   ]
  },
  {
   "cell_type": "code",
   "execution_count": null,
   "id": "205aab6e-a3ed-4d9b-ad97-ed8f5c7fe310",
   "metadata": {},
   "outputs": [],
   "source": [
    "# 実装のイメージ（簡単のためサンプル分割なし）\n",
    "from lightgbm import LGBMRegressor\n",
    "from sklearn.model_selection import KFold\n",
    "\n",
    "kf = KFold(n_splits=5)\n",
    "kf.get_n_splits(X)\n",
    "thetas = []\n",
    "for i, (train_idx, test_idx) in enumerate(kf.split(X)):\n",
    "    # 局外関数の推定\n",
    "    m = LGBMRegressor(max_depth=4, verbose=-1).fit(X[train_idx], D[train_idx])\n",
    "    l = LGBMRegressor(max_depth=4, verbose=-1).fit(X[train_idx], Y[train_idx])\n",
    "    # 残差の計算\n",
    "    V_hat = D[test_idx] - m.predict(X[test_idx])\n",
    "    Y_res = Y[test_idx] - l.predict(X[test_idx])\n",
    "    # θの推定\n",
    "    theta_hat = np.mean(V_hat * V_hat) ** (-1) * np.mean(V_hat * Y_res)\n",
    "    thetas.append(theta_hat)\n",
    "np.mean(thetas)"
   ]
  },
  {
   "cell_type": "markdown",
   "id": "d207765e-b350-440f-b8e5-51ed2675ea42",
   "metadata": {},
   "source": [
    "## 参考\n",
    "\n",
    "- 解説記事: [機械学習×計量経済学：Double/Debiased Machine Learning | Web日本評論](https://www.web-nippyo.jp/13331/)\n",
    "- [[勉強会資料メモ] Double/Debiased ML - Speaker Deck](https://speakerdeck.com/masa_asa/debiased-ml?slide=32)\n",
    "- [22 - Debiased/Orthogonal Machine Learning — Causal Inference for the Brave and True](https://matheusfacure.github.io/python-causality-handbook/22-Debiased-Orthogonal-Machine-Learning.html)\n",
    "- [CausalML Book](https://causalml-book.org/)の[Chapter 13](https://causalml-book.org/assets/chapters/CausalML_chap_13.pdf)\n"
   ]
  },
  {
   "cell_type": "markdown",
   "id": "cd937274-6e4d-4aa9-b604-5723d6d782dc",
   "metadata": {},
   "source": [
    "### DMLによるDID\n",
    "\n",
    "[Double/debiased machine learning for difference-in-differences models | The Econometrics Journal | Oxford Academic](https://academic.oup.com/ectj/article/23/2/177/5722119)\n",
    "\n",
    "- 解説: [DMLによる差分の差推定 - Speaker Deck](https://speakerdeck.com/masakat0/dmlniyoruchai-fen-falsechai-tui-ding)\n",
    "- 関連: [Double-Debiased-Machine-learning-estimator-for-Difference-in-Difference-with-Multiple-Periods.pdf](https://www.researchgate.net/profile/Di-Liu-124/publication/370440876_DoubleDebiased_Machine-learning_estimator_for_Difference-in-Difference_with_Multiple_Periods/links/645015ce5762c95ac3676c6e/Double-Debiased-Machine-learning-estimator-for-Difference-in-Difference-with-Multiple-Periods.pdf)"
   ]
  },
  {
   "cell_type": "markdown",
   "id": "af36bf40-5c3c-40bc-bb71-8787981bebab",
   "metadata": {},
   "source": [
    "### 講義動画（Youtube）\n",
    "\n",
    "[Double Machine Learning for Causal and Treatment Effects - YouTube](https://www.youtube.com/watch?v=eHOjmyoPCFU&list=PLru50RuxzKFAsi9x3La3pidYURmi17ci6&index=4&t=479s)\n",
    "\n",
    "- MLでのcausal parametersの推定は良いとは限らない\n",
    "- double or orthogonalized MLとsample splittingによって、causal parametersの高精度な推定が可能\n",
    "\n",
    "Partially Linear Modelを使う\n",
    "\n",
    "$$\n",
    "Y = D \\theta_0 + g_0(Z) + U\n",
    ", \\hspace{1em} E[U|Z, D] = 0\n",
    "$$\n",
    "\n",
    "- MLをそのまま使うと一致推定量にならない（例えば$Y - D$で$g_0(Z)$をRandom Forestで学習しても、予測精度は良いがバイアスがある）\n",
    "- FWL定理を用いて、残差の回帰にするとよい\n",
    "\n",
    "$$\n",
    "\\hat{W} = Y - \\hat{E[Y|Z]}\\\\\n",
    "\\hat{V} = D - \\hat{E[D|Z]}\n",
    "$$\n",
    "\n",
    "\n",
    "モーメント条件\n",
    "\n",
    "1. Regression adjustment: $E[(Y - D \\theta_0 - g_0(Z) ) D] = 0$\n",
    "2. \"propensity score adjustment\": $E[(Y - D \\theta_0) (D - E[D|Z])] = 0$\n",
    "3. Neyman-orthogonal (semi-parametrically efficient under homoscedasticity): $E[(\\hat{W} - \\hat{V}\\theta_0) \\hat{V}] = E[\\{(Y - E[Y|Z]) - (D - E[D|Z])\\theta_0\\} (D - E[D|Z])] = 0$\n",
    "\n",
    "3は不偏\n",
    "\n",
    "\n",
    "Sample Splitting\n",
    "\n",
    "\n",
    "Splittingによるefficiencyの低下問題\n",
    "\n",
    "- 2個に分けて2回やって平均とればfull efficiency → k個に分けての分析をk回やって平均とってもfull efficiency\n",
    "\n"
   ]
  },
  {
   "cell_type": "markdown",
   "id": "4d75e8c3-e47b-4837-893b-93e8d4e9b7ea",
   "metadata": {},
   "source": [
    "## 応用研究\n",
    "\n",
    "[[2002.08536] Debiased Off-Policy Evaluation for Recommendation Systems](https://arxiv.org/abs/2002.08536)\n",
    "- PR: [AI Lab、推薦システム分野におけるトップカンファレンス「RecSys2021」にて共著論文採択 ー高次元なデータを使った意思決定評価の信頼性を改善ー | 株式会社サイバーエージェント](https://www.cyberagent.co.jp/news/detail/id=26585)"
   ]
  },
  {
   "cell_type": "markdown",
   "id": "30000948-1e7d-4308-bb74-224a8e0d9ab1",
   "metadata": {},
   "source": [
    "## 関連研究\n",
    "\n",
    "[[2305.04174] Root-n consistent semiparametric learning with high-dimensional nuisance functions under minimal sparsity](https://arxiv.org/abs/2305.04174)\n",
    "\n",
    "- 先行研究まとめがある"
   ]
  },
  {
   "cell_type": "markdown",
   "id": "20212094-835a-484d-beee-4a7e6bf16f5e",
   "metadata": {},
   "source": [
    "[[2008.06461] Estimating Structural Target Functions using Machine Learning and Influence Functions](https://arxiv.org/abs/2008.06461)\n",
    "\n",
    "- Influence Function Learningという新しいフレームワークを提案"
   ]
  },
  {
   "cell_type": "code",
   "execution_count": null,
   "id": "93153934-45f9-4fdf-b028-2c39a8c280ee",
   "metadata": {},
   "outputs": [],
   "source": []
  },
  {
   "cell_type": "markdown",
   "id": "472c2f39-fb84-484a-b008-967718d6161e",
   "metadata": {},
   "source": [
    "[Library Flow Chart — econml 0.15.0 documentation](https://econml.azurewebsites.net/spec/flowchart.html)\n",
    "- 派生モデルの使い分けについて"
   ]
  },
  {
   "cell_type": "markdown",
   "id": "0066bdb2-0e96-42e7-98e8-c709e3c3ade8",
   "metadata": {},
   "source": [
    "## 部分線形モデルに対するモーメント条件\n",
    "\n",
    "異なる推定量でどれだけバイアスが入るか確認したい"
   ]
  },
  {
   "cell_type": "code",
   "execution_count": 4,
   "id": "1c4733fd-b92d-4555-8f52-0750e976a461",
   "metadata": {},
   "outputs": [],
   "source": [
    "import numpy as np\n",
    "\n",
    "def g(X):\n",
    "    # linear\n",
    "    return 2 * X\n",
    "\n",
    "n = 1000\n",
    "np.random.seed(0)\n",
    "X = np.random.uniform(size=n)\n",
    "theta = 3\n",
    "D = X + np.random.normal(size=n)\n",
    "Y = D * theta + g(X) + np.random.normal(size=n)\n",
    "\n",
    "import pandas as pd\n",
    "df = pd.DataFrame({\"Y\": Y, \"D\": D, \"X\": X})\n",
    "X_mat = X.reshape(-1, 1)\n",
    "D_mat = D.reshape(-1, 1)"
   ]
  },
  {
   "cell_type": "markdown",
   "id": "c81b7d94-9eed-4e8b-b43c-e105bf795810",
   "metadata": {},
   "source": [
    "ナイーブな推定量\n",
    "\n",
    "$$\n",
    "E[UD] = E[(Y  - D\\theta - g(X)) D] = 0\n",
    "$$\n",
    "\n",
    "$$\n",
    "\\hat{\\theta}_0=\\left(\\frac{1}{n} \\sum_{i \\in I} D_i^2\\right)^{-1} \\frac{1}{n} \\sum_{i \\in I} D_i\\left(Y_i-\\hat{g}_0\\left(X_i\\right)\\right)\n",
    "$$"
   ]
  },
  {
   "cell_type": "markdown",
   "id": "68c13ba7-85d9-403d-8ae3-4f2ea433d125",
   "metadata": {},
   "source": [
    "かりに、$\\hat{g}(X_i)$は$Y_i$を$X$に回帰する（予測値$\\hat{Y}_i = \\hat{g}(X_i)$を作る）とするなら"
   ]
  },
  {
   "cell_type": "code",
   "execution_count": 5,
   "id": "b43c3ae3-f7d3-4dce-b3ad-600d230d9cc5",
   "metadata": {},
   "outputs": [
    {
     "name": "stdout",
     "output_type": "stream",
     "text": [
      "θ=1.981\n"
     ]
    },
    {
     "data": {
      "text/html": [
       "<table class=\"simpletable\">\n",
       "<tr>\n",
       "  <td></td>     <th>coef</th>     <th>std err</th>      <th>t</th>      <th>P>|t|</th>  <th>[0.025</th>    <th>0.975]</th>  \n",
       "</tr>\n",
       "<tr>\n",
       "  <th>D</th> <td>    1.9811</td> <td>    0.049</td> <td>   40.446</td> <td> 0.000</td> <td>    1.885</td> <td>    2.077</td>\n",
       "</tr>\n",
       "</table>"
      ],
      "text/latex": [
       "\\begin{center}\n",
       "\\begin{tabular}{lcccccc}\n",
       "\\toprule\n",
       "           & \\textbf{coef} & \\textbf{std err} & \\textbf{t} & \\textbf{P$> |$t$|$} & \\textbf{[0.025} & \\textbf{0.975]}  \\\\\n",
       "\\midrule\n",
       "\\textbf{D} &       1.9811  &        0.049     &    40.446  &         0.000        &        1.885    &        2.077     \\\\\n",
       "\\bottomrule\n",
       "\\end{tabular}\n",
       "\\end{center}"
      ],
      "text/plain": [
       "<class 'statsmodels.iolib.table.SimpleTable'>"
      ]
     },
     "execution_count": 5,
     "metadata": {},
     "output_type": "execute_result"
    }
   ],
   "source": [
    "from lightgbm import LGBMRegressor\n",
    "\n",
    "# Y ~ X\n",
    "g = LGBMRegressor(max_depth=4, verbose=-1)\n",
    "g.fit(X_mat, Y)\n",
    "\n",
    "# Y_res := Y - g(X)\n",
    "Y_res = Y - g.predict(X_mat)\n",
    "theta_hat = np.mean(D**2) ** (-1) * np.mean(D * Y_res)\n",
    "print(f\"θ={theta_hat:.3f}\")\n",
    "\n",
    "# Y_res ~ D のOLS\n",
    "import statsmodels.formula.api as smf\n",
    "final_model = smf.ols(\n",
    "    formula='Y_res ~ -1 + D',\n",
    "    data=df.assign(\n",
    "        Y_res = Y - g.predict(X_mat)\n",
    "    )\n",
    ").fit()\n",
    "final_model.summary().tables[1]"
   ]
  },
  {
   "cell_type": "code",
   "execution_count": 6,
   "id": "f688ce0d-6f28-4539-be32-514fd6a22970",
   "metadata": {},
   "outputs": [
    {
     "name": "stdout",
     "output_type": "stream",
     "text": [
      "θ=2.177\n"
     ]
    }
   ],
   "source": [
    "from sklearn.linear_model import LinearRegression\n",
    "\n",
    "# gをDonsker条件を満たしそうな線形モデルにしたらどうなるか\n",
    "# これは普通に残渣回帰でもないしだめか\n",
    "# Y ~ X\n",
    "g = LinearRegression()\n",
    "g.fit(X_mat, Y)\n",
    "\n",
    "# Y_res := Y - g(X)\n",
    "Y_res = Y - g.predict(X_mat)\n",
    "theta_hat = np.mean(D**2) ** (-1) * np.mean(D * Y_res)\n",
    "print(f\"θ={theta_hat:.3f}\")"
   ]
  },
  {
   "cell_type": "code",
   "execution_count": 7,
   "id": "363cf5a9-049d-4bd7-a703-8c778409ee91",
   "metadata": {},
   "outputs": [
    {
     "data": {
      "text/plain": [
       "array([4.65807719])"
      ]
     },
     "execution_count": 7,
     "metadata": {},
     "output_type": "execute_result"
    }
   ],
   "source": [
    "g.coef_"
   ]
  },
  {
   "cell_type": "code",
   "execution_count": 8,
   "id": "08faca05-0363-4df8-91e2-410befde178e",
   "metadata": {},
   "outputs": [],
   "source": [
    "# TODO: モーメント条件の方向微分をplotできないものか？\n",
    "# 横軸はthetaとr"
   ]
  },
  {
   "cell_type": "markdown",
   "id": "bcfb9caa-ae3e-4680-af53-fb23bbefeb57",
   "metadata": {},
   "source": [
    ":::{card} 疑問：$\\hat{g}(X)$はどう得る？\n",
    "\n",
    "$Y = g(X)$で学習させる？でもそうなると$E[Y|X] = \\ell(X)$を使うRobinsonとの違いは…？\n",
    "\n",
    ":::"
   ]
  },
  {
   "cell_type": "markdown",
   "id": "d6626924-f69d-4712-869d-56c68751619c",
   "metadata": {},
   "source": [
    "### DML score function\n",
    "\n",
    "\n",
    "ネイマン直交性を満たす\n",
    "\n",
    "$$\n",
    "E[UV] = E[ \\{Y-D \\theta-g(X)\\}(D-m(X)) ]=0\n",
    "$$\n",
    "\n",
    "$\\hat{V}= D-\\hat{m}_0(X)$\n",
    "\n",
    "$$\n",
    "\\check{\\theta}_0=\\left(\\frac{1}{n} \\sum_{i \\in I} \\widehat{V}_i D_i\\right)^{-1} \\frac{1}{n} \\sum_{i \\in I} \\widehat{V}_i\\left(Y_i-\\hat{g}_0\\left(X_i\\right)\\right)\n",
    "$$\n",
    "\n"
   ]
  },
  {
   "cell_type": "code",
   "execution_count": 9,
   "id": "c623caab-ab44-41e5-b4ed-be73cce4d2e2",
   "metadata": {},
   "outputs": [
    {
     "name": "stdout",
     "output_type": "stream",
     "text": [
      "θ=2.872\n"
     ]
    },
    {
     "data": {
      "text/html": [
       "<table class=\"simpletable\">\n",
       "<tr>\n",
       "    <td></td>       <th>coef</th>     <th>std err</th>      <th>t</th>      <th>P>|t|</th>  <th>[0.025</th>    <th>0.975]</th>  \n",
       "</tr>\n",
       "<tr>\n",
       "  <th>V_hat</th> <td>    2.9672</td> <td>    0.032</td> <td>   93.561</td> <td> 0.000</td> <td>    2.905</td> <td>    3.029</td>\n",
       "</tr>\n",
       "</table>"
      ],
      "text/latex": [
       "\\begin{center}\n",
       "\\begin{tabular}{lcccccc}\n",
       "\\toprule\n",
       "                & \\textbf{coef} & \\textbf{std err} & \\textbf{t} & \\textbf{P$> |$t$|$} & \\textbf{[0.025} & \\textbf{0.975]}  \\\\\n",
       "\\midrule\n",
       "\\textbf{V\\_hat} &       2.9672  &        0.032     &    93.561  &         0.000        &        2.905    &        3.029     \\\\\n",
       "\\bottomrule\n",
       "\\end{tabular}\n",
       "\\end{center}"
      ],
      "text/plain": [
       "<class 'statsmodels.iolib.table.SimpleTable'>"
      ]
     },
     "execution_count": 9,
     "metadata": {},
     "output_type": "execute_result"
    }
   ],
   "source": [
    "from lightgbm import LGBMRegressor\n",
    "from sklearn.model_selection import cross_val_predict\n",
    "\n",
    "# Y ~ X\n",
    "g = LGBMRegressor(max_depth=4, verbose=-1)\n",
    "g.fit(X_mat, Y)\n",
    "\n",
    "# D ~ X\n",
    "m = LGBMRegressor(max_depth=4, verbose=-1)\n",
    "m.fit(X_mat, D)\n",
    "\n",
    "# y_res := Y - g(X)\n",
    "# V_hat := D - m(X)\n",
    "V_hat = D - m.predict(X_mat)\n",
    "Y_res = Y - g.predict(X_mat)\n",
    "\n",
    "theta_hat = np.mean(V_hat * D) ** (-1) * np.mean(V_hat * Y_res)\n",
    "print(f\"θ={theta_hat:.3f}\")\n",
    "\n",
    "import statsmodels.formula.api as smf\n",
    "final_model = smf.ols(\n",
    "    formula='Y_res ~ -1 + V_hat',\n",
    "    data=df.assign(\n",
    "        Y_res = Y_res,\n",
    "        V_hat = V_hat,\n",
    "    )\n",
    ").fit()\n",
    "final_model.summary().tables[1]"
   ]
  },
  {
   "cell_type": "markdown",
   "id": "04b0b38a-714a-42ad-98cc-25f0bddf1ec6",
   "metadata": {},
   "source": [
    "### Robinson-style \"partialling-out\" score function\n",
    "\n",
    ":::{card} Robinson (1988)の推定量\n",
    "\n",
    "部分線形モデル\n",
    "\n",
    "$$\n",
    "Y = D \\theta_0 + g(X) + U\n",
    ", \\quad E[U|D,X]=0\n",
    "$$\n",
    "\n",
    "の両辺を$X$で条件づけて期待値をとると\n",
    "\n",
    "$$\n",
    "E[Y|X] = E[D|X] \\theta_0 + g(X)\n",
    "$$\n",
    "\n",
    "これをモデルから差し引くと\n",
    "\n",
    "$$\n",
    "Y - E[Y|X]\n",
    "= \\theta_0 (D - E[D|X]) + U\n",
    "$$\n",
    "\n",
    "という線形回帰の形になる。\n",
    "\n",
    "ただし、$E[Y|X], E[D|X]$は未知なのでそれぞれノンパラメトリック推定量$\\hat{\\ell}(X), \\hat{m}(X)$で置き換える。\n",
    ":::\n",
    "\n",
    "\n",
    "こちらもネイマン直交性を満たす。\n",
    "\n",
    "$$\n",
    "\\mathrm{E}\\left[\\left\\{(Y-E[Y \\mid X])-(D-E[D \\mid X]) \\theta_0\\right\\}(D-E[D \\mid X])\\right]=0\n",
    "$$\n",
    "\n",
    "$V=D - E[D|X] = D-m_0(X)$として、$\\ell_0(X) := E[Y|X]$とすると\n",
    "\n",
    "$$\n",
    "\\mathrm{E}\\left[\\left((Y-\\ell_0(X))-V \\theta_0\\right)V\\right]=0\n",
    "$$\n",
    "\n",
    "[DMLの論文のSection 4.1](https://academic.oup.com/ectj/article/21/1/C1/5056401#130274171)でRobinsonのスコア関数もネイマン直交性を満たすことを述べているが、DMLのスコア関数が優れてるなどといった説明はとくに無いようだった。"
   ]
  },
  {
   "cell_type": "markdown",
   "id": "9861e8ce-49c4-4b18-96f5-834655930d67",
   "metadata": {},
   "source": [
    ":::{margin}\n",
    "\n",
    "FWL的にしてCrossFittingするという、[Causal Inference for the Brave and True](https://matheusfacure.github.io/python-causality-handbook/22-Debiased-Orthogonal-Machine-Learning.html)の方法はRobinson-styleのscore functionと思われる。\n",
    "\n",
    "Donsker条件を満たさないであろうLightGBMでもバイアスが入らないのはCrossFittingがそれだけバイアスを抑えているということだろうか。\n",
    ":::"
   ]
  },
  {
   "cell_type": "markdown",
   "id": "45f13af7-c789-40c9-a523-7b1cceb01472",
   "metadata": {},
   "source": [
    "### cross fitting"
   ]
  },
  {
   "cell_type": "code",
   "execution_count": 10,
   "id": "e7b4995a-21ef-4639-86c3-ce6a46b45c70",
   "metadata": {},
   "outputs": [
    {
     "data": {
      "text/html": [
       "<table class=\"simpletable\">\n",
       "<tr>\n",
       "    <td></td>       <th>coef</th>     <th>std err</th>      <th>t</th>      <th>P>|t|</th>  <th>[0.025</th>    <th>0.975]</th>  \n",
       "</tr>\n",
       "<tr>\n",
       "  <th>V_hat</th> <td>    2.9471</td> <td>    0.032</td> <td>   92.429</td> <td> 0.000</td> <td>    2.885</td> <td>    3.010</td>\n",
       "</tr>\n",
       "</table>"
      ],
      "text/latex": [
       "\\begin{center}\n",
       "\\begin{tabular}{lcccccc}\n",
       "\\toprule\n",
       "                & \\textbf{coef} & \\textbf{std err} & \\textbf{t} & \\textbf{P$> |$t$|$} & \\textbf{[0.025} & \\textbf{0.975]}  \\\\\n",
       "\\midrule\n",
       "\\textbf{V\\_hat} &       2.9471  &        0.032     &    92.429  &         0.000        &        2.885    &        3.010     \\\\\n",
       "\\bottomrule\n",
       "\\end{tabular}\n",
       "\\end{center}"
      ],
      "text/plain": [
       "<class 'statsmodels.iolib.table.SimpleTable'>"
      ]
     },
     "execution_count": 10,
     "metadata": {},
     "output_type": "execute_result"
    }
   ],
   "source": [
    "# cross-fittingあり\n",
    "from lightgbm import LGBMRegressor\n",
    "from sklearn.model_selection import cross_val_predict\n",
    "\n",
    "m = LGBMRegressor(max_depth=6, verbose=-1)\n",
    "df[\"V_hat\"] = df[\"D\"] - cross_val_predict(m, df[[\"X\"]], df[\"D\"], cv=5)\n",
    "\n",
    "g = LGBMRegressor(max_depth=6, verbose=-1)\n",
    "df[\"Y_res\"] = df[\"Y\"] - cross_val_predict(g, df[[\"X\"]], df[\"Y\"], cv=5)\n",
    "\n",
    "import statsmodels.formula.api as smf\n",
    "final_model = smf.ols(formula='Y_res ~ -1 + V_hat', data=df).fit()\n",
    "final_model.summary().tables[1]"
   ]
  },
  {
   "cell_type": "markdown",
   "id": "ca49be7f-ab7d-45a9-94c3-e2afb9213e87",
   "metadata": {},
   "source": [
    "## 参考\n",
    "\n",
    "- [機械学習×計量経済学：Double/Debiased Machine Learning | Web日本評論](https://www.web-nippyo.jp/13331/)\n",
    "- [金本拓. (2024). 因果推論: 基礎から機械学習・時系列解析・因果探索を用いた意思決定のアプローチ. 株式会社 オーム社.](https://amzn.to/4cCXO9X)\n",
    "\n",
    "ノンパラ関連\n",
    "- [末石直也. (2024). データ駆動型回帰分析: 計量経済学と機械学習の融合.](https://amzn.to/3yITuIz)\n",
    "- [西山慶彦, & 人見光太郎. (2023). ノン・セミパラメトリック統計解析.](https://amzn.to/3Mj6qrt)\n",
    "\n",
    "モーメント法\n",
    "- [西山慶彦, 新谷元嗣, 川口大司, & 奥井亮. (2019). 計量計済学.](https://amzn.to/3T5k4SZ)\n"
   ]
  },
  {
   "cell_type": "code",
   "execution_count": null,
   "id": "ce94ce10-789f-4dac-914e-130cb225760f",
   "metadata": {},
   "outputs": [],
   "source": []
  }
 ],
 "metadata": {
  "kernelspec": {
   "display_name": "Python 3 (ipykernel)",
   "language": "python",
   "name": "python3"
  },
  "language_info": {
   "codemirror_mode": {
    "name": "ipython",
    "version": 3
   },
   "file_extension": ".py",
   "mimetype": "text/x-python",
   "name": "python",
   "nbconvert_exporter": "python",
   "pygments_lexer": "ipython3",
   "version": "3.10.14"
  }
 },
 "nbformat": 4,
 "nbformat_minor": 5
}
