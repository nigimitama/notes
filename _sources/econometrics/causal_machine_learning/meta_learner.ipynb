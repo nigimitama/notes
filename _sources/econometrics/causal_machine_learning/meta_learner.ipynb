{
 "cells": [
  {
   "cell_type": "markdown",
   "id": "441d5ec4-f9d4-4661-8807-b486d009008d",
   "metadata": {},
   "source": [
    "# Meta Learner\n",
    "\n",
    "Conditional Average Treatment Effect (heterogeneous treatment effects)\n",
    "\n",
    "$$\n",
    "\\tau(x):=\\mathbb{E}[Y(1)-Y(0) \\mid X=x]\n",
    "$$\n",
    "\n",
    "の推定のため、複数の予測モデルを構築する手法"
   ]
  },
  {
   "cell_type": "markdown",
   "id": "77ac5174-8952-4464-b56b-0ac2830b1db2",
   "metadata": {},
   "source": [
    "論文： [Künzel, et al. (2019). Metalearners for estimating heterogeneous treatment effects using machine learning.](https://www.pnas.org/doi/full/10.1073/pnas.1804597116)"
   ]
  },
  {
   "cell_type": "markdown",
   "id": "622d213f-7349-45e2-bec4-5757b48c3044",
   "metadata": {},
   "source": [
    "## T-Learner"
   ]
  },
  {
   "cell_type": "markdown",
   "id": "78235698-d5d6-4dd9-be11-6e042e3678c8",
   "metadata": {},
   "source": [
    "回帰問題が解ける任意のアルゴリズムを使い、3つのステップでCATEを推定する。\n",
    "\n",
    "1. 対照群の観測データをもとに、control response function $\\mu_0(x)$ を推定する\n",
    "\n",
    "$$\n",
    "\\mu_0(x)=\\mathbb{E}[Y(0) \\mid X=x]\n",
    "$$\n",
    "\n",
    "2. 同様に処置群でも treatment response functionを推定する。\n",
    "\n",
    "$$\n",
    "\\mu_1(x)=\\mathbb{E}[Y(1) \\mid X=x]\n",
    "$$\n",
    "\n",
    "\n",
    "\n",
    "3. 両者の差分をとり、T-learnerの完成\n",
    "\n",
    "$$\n",
    "\\hat{\\tau}_T(x)=\\hat{\\mu}_1(x)-\\hat{\\mu}_0(x)\n",
    "$$"
   ]
  },
  {
   "cell_type": "markdown",
   "id": "80b6fd7b-f5a4-4f33-9b06-a8cf6de78adc",
   "metadata": {},
   "source": [
    "## S-Learner\n",
    "\n",
    "処置の有無を表す変数$Z$を回帰モデルの特徴量に含める\n",
    "\n",
    "$$\n",
    "\\mu(x, z):=\\mathbb{E}\\left[Y^{o b s} \\mid X=x, Z=z\\right]\n",
    "$$\n",
    "\n",
    "そして\n",
    "\n",
    "$$\n",
    "\\hat{\\tau}_S(x)=\\hat{\\mu}(x, 1)-\\hat{\\mu}(x, 0)\n",
    "$$\n",
    "\n",
    "によってCATEを推定する"
   ]
  },
  {
   "cell_type": "markdown",
   "id": "2ad8ac94-d314-4049-8253-fbedc2836d87",
   "metadata": {},
   "source": [
    "## X-Learners"
   ]
  },
  {
   "cell_type": "markdown",
   "id": "cba60801-049f-46f5-b4fd-87f621d6966f",
   "metadata": {},
   "source": [
    "1. response functions $\\mu_0(x), \\mu_1(x)$ を推定する\n",
    "\n",
    "$$\n",
    "\\mu_0(x)=\\mathbb{E}[Y(0) \\mid X=x]\n",
    "\\\\\n",
    "\\mu_1(x)=\\mathbb{E}[Y(1) \\mid X=x]\n",
    "$$\n"
   ]
  },
  {
   "cell_type": "markdown",
   "id": "4d721b36-c987-4174-a337-d2f5b8ee08c4",
   "metadata": {},
   "source": [
    "2. 対照群、処置群それぞれにおける個人の処置効果を実測値と予測値の差分で推定する（ imputed treatment effects）\n",
    "\n",
    "$$\n",
    "\\tilde{\\Delta}_i^{(1)} := Y_i^{(1)} - \\hat{\\mu}_0(X_i^{(1)})\\\\\n",
    "\\tilde{\\Delta}_i^{(0)} := \\hat{\\mu}_1(X_i^{(1)}) - Y_i^{(0)}\n",
    "$$\n",
    "\n",
    "を使って、\n",
    "\n",
    "$$\n",
    "\\tau_1(x) = \\mathbb{E}\\left[\\tilde{\\Delta}_i^{(1)} \\mid X=x \\right]\\\\\n",
    "\\tau_0(x)= \\mathbb{E}\\left[\\tilde{\\Delta}_i^{(0)} \\mid X=x \\right]\n",
    "$$\n",
    "\n",
    "と推定する。\n",
    "\n",
    "もしうまく推定できて$\\hat{\\mu}_0 = \\mu_0, \\hat{\\mu}_1 = \\mu_1$であれば、\n",
    "\n",
    "$$\n",
    "\\tau(x)\n",
    "= \\mathbb{E}\\left[\\tilde{\\Delta}_i^{(1)} \\mid X=x \\right]\n",
    "= \\mathbb{E}\\left[\\tilde{\\Delta}_i^{(0)} \\mid X=x \\right]\n",
    "$$\n",
    "\n",
    "（実測値のほうを$\\Delta := Y(1) - Y(0)$とすると、$\\tau(x) = \\mathbb{E}\\left[\\Delta \\mid X=x \\right]$のため）"
   ]
  },
  {
   "cell_type": "markdown",
   "id": "9245f779-41ad-4ff5-be0b-27c63eef8d97",
   "metadata": {},
   "source": [
    "3. 重み関数$g\\in [0,1]$を使って$\\tau_1(x), \\tau_0(x)$を重み付き和にしてCATEを推定する\n",
    "\n",
    "$$\n",
    "\\hat{\\tau}(x)=g(x) \\hat{\\tau}_0(x)+(1-g(x)) \\hat{\\tau}_1(x)\n",
    "$$\n",
    "\n",
    "$g$はpropensity scoreが経験的によいらしい"
   ]
  },
  {
   "cell_type": "markdown",
   "id": "00d8b068-e8de-4585-af91-876a8635cb23",
   "metadata": {},
   "source": [
    "## R-Leaner\n",
    "\n",
    "- paper: [Nie, X., & Wager, S. (2017). Quasi-oracle estimation of heterogeneous treatment effects. arXiv e-prints. arXiv preprint arXiv:1712.04912.](https://arxiv.org/abs/1712.04912)\n",
    "- R package: [xnie/rlearner: Quasi-Oracle Estimation of Heterogeneous Treatment Effects](https://github.com/xnie/rlearner)"
   ]
  },
  {
   "cell_type": "markdown",
   "id": "445e9461-d66d-4167-964b-449c515c8b21",
   "metadata": {},
   "source": [
    "## Causal Forestsとのつながり\n",
    "\n",
    "> An estimator closely related to T–RF and S–RF is Causal Forests, because all three of these estimators can be defined as\n",
    ">\n",
    "> $$\n",
    "  \\hat{\\tau}(x)=\\hat{\\mu}(x, w=1)-\\hat{\\mu}(x, w=0)\n",
    "  $$\n",
    ">\n",
    "> where $\\hat{\\mu}(x, w)$ is a form of random forest with different constraints on the split on the treatment assignment\n",
    "> (Appendix of [Künzel, et al. (2019)](https://www.pnas.org/doi/full/10.1073/pnas.1804597116))"
   ]
  },
  {
   "cell_type": "markdown",
   "id": "877dd7f0-7293-4312-a4c4-e3a20e3399a4",
   "metadata": {},
   "source": [
    "## 参考文献\n",
    "\n",
    "- [Künzel, et al. (2019). Metalearners for estimating heterogeneous treatment effects using machine learning.](https://www.pnas.org/doi/full/10.1073/pnas.1804597116)\n",
    "- [機械学習で因果推論\\~Meta-LearnerとEconML\\~](https://zenn.dev/s1ok69oo/articles/1eeebe75842a50)"
   ]
  },
  {
   "cell_type": "code",
   "execution_count": null,
   "id": "de8cc34c-e09a-40ee-b16a-64274c5118ff",
   "metadata": {},
   "outputs": [],
   "source": []
  }
 ],
 "metadata": {
  "kernelspec": {
   "display_name": "Python 3 (ipykernel)",
   "language": "python",
   "name": "python3"
  },
  "language_info": {
   "codemirror_mode": {
    "name": "ipython",
    "version": 3
   },
   "file_extension": ".py",
   "mimetype": "text/x-python",
   "name": "python",
   "nbconvert_exporter": "python",
   "pygments_lexer": "ipython3",
   "version": "3.9.18"
  }
 },
 "nbformat": 4,
 "nbformat_minor": 5
}
