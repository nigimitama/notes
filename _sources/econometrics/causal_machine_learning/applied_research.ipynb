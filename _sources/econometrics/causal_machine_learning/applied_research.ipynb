{
 "cells": [
  {
   "cell_type": "markdown",
   "id": "e1b418e2-50b4-4d9e-a024-be3f8dce8375",
   "metadata": {},
   "source": [
    "# Causal ML系の応用研究"
   ]
  },
  {
   "cell_type": "markdown",
   "id": "f42ea294-6d21-49fb-879a-96ab7d987968",
   "metadata": {},
   "source": [
    "### How causal machine learning can leverage marketing strategies\n",
    "\n",
    "[Langen, H., & Huber, M. (2023). How causal machine learning can leverage marketing strategies: Assessing and improving the performance of a coupon campaign. Plos one, 18(1), e0278937.](https://www.ncbi.nlm.nih.gov/pmc/articles/PMC9833560/)"
   ]
  },
  {
   "cell_type": "code",
   "execution_count": null,
   "id": "619a6a42-89e8-4ee4-9444-d310aaf4323f",
   "metadata": {},
   "outputs": [],
   "source": []
  }
 ],
 "metadata": {
  "kernelspec": {
   "display_name": "Python 3 (ipykernel)",
   "language": "python",
   "name": "python3"
  },
  "language_info": {
   "codemirror_mode": {
    "name": "ipython",
    "version": 3
   },
   "file_extension": ".py",
   "mimetype": "text/x-python",
   "name": "python",
   "nbconvert_exporter": "python",
   "pygments_lexer": "ipython3",
   "version": "3.10.14"
  }
 },
 "nbformat": 4,
 "nbformat_minor": 5
}
