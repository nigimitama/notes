{
 "cells": [
  {
   "cell_type": "markdown",
   "id": "48add2e9-2f00-4d28-95ce-2f146d654f3c",
   "metadata": {},
   "source": [
    "# 部分識別"
   ]
  },
  {
   "cell_type": "markdown",
   "id": "285e8b91-eaae-4ca7-94cc-949052520ef3",
   "metadata": {},
   "source": [
    ":::{tableofcontents}\n",
    "\n",
    ":::"
   ]
  }
 ],
 "metadata": {
  "kernelspec": {
   "display_name": "Python 3 (ipykernel)",
   "language": "python",
   "name": "python3"
  },
  "language_info": {
   "codemirror_mode": {
    "name": "ipython",
    "version": 3
   },
   "file_extension": ".py",
   "mimetype": "text/x-python",
   "name": "python",
   "nbconvert_exporter": "python",
   "pygments_lexer": "ipython3",
   "version": "3.10.18"
  }
 },
 "nbformat": 4,
 "nbformat_minor": 5
}
