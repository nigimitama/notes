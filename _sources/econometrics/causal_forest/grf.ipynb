{
 "cells": [
  {
   "cell_type": "markdown",
   "id": "8a25841a-a9ff-4f20-8702-1310dc8f3641",
   "metadata": {},
   "source": [
    "# Generalized Random Forest (GRF)"
   ]
  },
  {
   "cell_type": "markdown",
   "id": "6c3337ce-cd7c-40f6-92d9-db21380a809a",
   "metadata": {},
   "source": [
    "[一般化ランダムフォレストの理論と統計的因果推論への応用 - Speaker Deck](https://speakerdeck.com/tomoshige_n/ban-hua-randamuhuoresutonoli-lun-totong-ji-de-yin-guo-tui-lun-henoying-yong)\n",
    "\n",
    "- 非常によくまとまっている資料"
   ]
  },
  {
   "cell_type": "markdown",
   "id": "6fa4dde4-6f10-4d2a-8945-feef7c07dfd9",
   "metadata": {},
   "source": [
    "- Random Forest / Tree は、サンプルをある基準で重み付けるカーネルを学習するもの、という一般化"
   ]
  },
  {
   "cell_type": "markdown",
   "id": "342aa8c5-22a8-479a-8544-10f496b54f92",
   "metadata": {},
   "source": [
    "### GRFは欠陥あり？\n",
    "\n",
    "Atlantic causal inference conferenceの因果推論コンペでの成績は悪かったらしい\n",
    "\n",
    "（[Ken McAlinnさんはTwitterを使っています: 「因果推定コンテストで回帰分析にボロ負けした話もちゃんと載せてほしい。」 / Twitter](https://twitter.com/kenmcalinn/status/1630768792912506881)）"
   ]
  }
 ],
 "metadata": {
  "kernelspec": {
   "display_name": "Python 3 (ipykernel)",
   "language": "python",
   "name": "python3"
  },
  "language_info": {
   "codemirror_mode": {
    "name": "ipython",
    "version": 3
   },
   "file_extension": ".py",
   "mimetype": "text/x-python",
   "name": "python",
   "nbconvert_exporter": "python",
   "pygments_lexer": "ipython3",
   "version": "3.10.14"
  }
 },
 "nbformat": 4,
 "nbformat_minor": 5
}
