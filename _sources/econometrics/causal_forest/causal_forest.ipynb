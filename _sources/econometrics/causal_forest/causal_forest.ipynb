{
 "cells": [
  {
   "cell_type": "markdown",
   "id": "b0c6d2f0-8084-47ea-9031-4c9cb767de62",
   "metadata": {},
   "source": [
    "# Casual Tree"
   ]
  },
  {
   "cell_type": "markdown",
   "id": "f3390f92-ae65-4997-a468-c9c0c23d5dfd",
   "metadata": {},
   "source": [
    "Random Forestをカーネル重み付けとみなす視点に、Robinson (1988)の部分線形モデルを合わせたもの\n",
    "\n",
    "[一般化ランダムフォレストの理論と統計的因果推論への応用 - Speaker Deck](https://speakerdeck.com/tomoshige_n/ban-hua-randamuhuoresutonoli-lun-totong-ji-de-yin-guo-tui-lun-henoying-yong?slide=42)\n"
   ]
  },
  {
   "cell_type": "markdown",
   "id": "244ffd9b-b576-43b9-979a-ab813fb97e69",
   "metadata": {},
   "source": [
    "## 応用研究\n"
   ]
  },
  {
   "cell_type": "markdown",
   "id": "780ee9f3-e1ea-4bd9-95f7-97dcecc6dd99",
   "metadata": {},
   "source": [
    "\n",
    "### 小売業においてクーポン配布のCATEを推定\n",
    "\n",
    "[How causal machine learning can leverage marketing strategies: Assessing and improving the performance of a coupon campaign | PLOS One](https://journals.plos.org/plosone/article?id=10.1371/journal.pone.0278937)\n",
    "\n",
    "- Kaggle公開データを使ってCATEを推定\n",
    "- 配布した5種類のクーポンのうち、ドラッグストア商品券と食品カテゴリ券の2種だけが有意に売上増効果を持つことが分かった。\n",
    "- 他のクーポンは統計的に効果が確認できず、無効な施策だった。\n",
    "- また効果の異質性分析から、「ドラッグストア券は事前購買額の大きい優良顧客に特に効果的」「一般食品券は購買額の少ないライト層に効果的」といったセグメント別の効果差が判明した\n",
    "- 例えば、既存ヘビーユーザーには日用品系クーポンで追加購買を促進でき、ライトユーザーには普段買わない食品クーポンで来店を促すと効果的。\n",
    "- この結果を踏まえ、クーポン配布の対象を効果の高いセグメントに絞る最適施策を導出したところ、全顧客に配布する場合と比べ費用対効果が大幅に向上した（少数配布で売上効果の大半を実現）。因果フォレストを用いることで、マーケティングROIを最大化する配布戦略の策定が可能になることを示した。\n"
   ]
  },
  {
   "cell_type": "markdown",
   "id": "d9a8506d-eb72-4eb5-9750-58b4ba594cbd",
   "metadata": {},
   "source": [
    "### Amazonの顧客ターゲティング\n",
    "\n",
    "[[2409.13847] Segment Discovery: Enhancing E-commerce Targeting](https://arxiv.org/abs/2409.13847)\n",
    "\n",
    "方法\n",
    "- Amazon社内の大規模実験データ（オンラインサービス等のABテスト複数）。例：ある定額サービスで解約防止のプロモメッセージを送る実験（数十万人規模）。\n",
    "- まずランダム化比較試験から顧客毎のCATEをCausal Forestやuplift modelで推定。次に企業側の制約（予算・接触可能数）を組み込んだ最適化アルゴリズム（Large-Scale Budget-Constrained Causal Forest）で最大効果のターゲット集合を選定。\n",
    "\n",
    "結果\n",
    "- 従来は、例えば離脱率の高い順に顧客に介入するなど予測モデルに基づくターゲティングが行われていた。しかし実験データを分析したところ、離脱リスクが極端に高い顧客層では、プロモメッセージを送っても効果が無いばかりか逆効果（介入で離脱率が悪化）になる場合があることが判明\n",
    "- 一方、リスクが中程度の層に大きなプラス効果が見られるなど、どの層に介入すべきかは単純な予測スコア順とは一致しないことが示された。\n",
    "- Causal Forestを用いるターゲティングでは、こうした「介入効果の高い層」を的確に抽出できる。実際、**あるサービスの例では従来ルールでは離脱スコア下位39.1%を一律介入対象としていたが、因果モデルに基づき効果の見込める顧客だけを選別したところ、むしろ全体の半数以下の配信で離脱抑止効果の75%以上を達成**できた。\n",
    "- このアプローチにより、顧客体験を損ねる無駄な介入を避けつつ、限られたマーケ予算で最大限の効果を上げることが可能となる。Amazon社の研究では複数のキャンペーンで有効性が検証されており、大規模パーソナライズドマーケティングへの因果機械学習の実用性を示すケースとなっている。"
   ]
  },
  {
   "cell_type": "markdown",
   "id": "8c5efd6b-8281-45e5-b2bd-95b3ca2b783e",
   "metadata": {},
   "source": [
    "### 「少しずつ頻繁に」行う宿題の学習効果 McJames et al. (2024)\n",
    "\n",
    "- [Little and often: Causal inference machine learning demonstrates the benefits of homework for improving achievement in mathematics and science - ScienceDirect](https://www.sciencedirect.com/science/article/pii/S0959475224000951?via%3Dihub)\n",
    "- [Study reveals impact of homework on student achievement in math and science](https://phys.org/news/2024-09-reveals-impact-homework-student-math.html)\n",
    "\n",
    "方法：\n",
    "\n",
    "- 国際学力調査TIMSS 2019のデータから、アイルランドの中学2年生4,118人の数学・理科成績と家庭学習時間を分析\n",
    "- Bayesian Causal Forests で、宿題の頻度・長さを疑似介入変数として成績への因果効果を推定\n",
    "\n",
    "結果：\n",
    "- 週あたりの宿題実施回数を増やすことが学力向上に効果的である一方、1回あたりの宿題時間を延ばしても効果は頭打ちになる傾向が示された\n",
    "- 15分程度の短い課題でも長時間の課題と同等の効果があり、頻度を上げて宿題を小分けにする「Little and Often」戦略が有効であることがデータから裏付けられた。\n",
    "- **数学では「毎日少し」の宿題が最も成績を伸ばし** 、理科では週3～4回程度が効果的。\n",
    "- また従来の通説では家庭環境により宿題効果に差が出ると考えられていたが、本解析ではどの社会経済層の生徒も宿題の恩恵を等しく享受しており、一部の層だけが得をするわけではないことが示された。\n"
   ]
  }
 ],
 "metadata": {
  "kernelspec": {
   "display_name": "Python 3 (ipykernel)",
   "language": "python",
   "name": "python3"
  },
  "language_info": {
   "codemirror_mode": {
    "name": "ipython",
    "version": 3
   },
   "file_extension": ".py",
   "mimetype": "text/x-python",
   "name": "python",
   "nbconvert_exporter": "python",
   "pygments_lexer": "ipython3",
   "version": "3.10.18"
  }
 },
 "nbformat": 4,
 "nbformat_minor": 5
}
