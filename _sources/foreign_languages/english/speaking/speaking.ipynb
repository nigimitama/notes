{
 "cells": [
  {
   "cell_type": "markdown",
   "id": "03eb6c00-b205-4e70-b041-c3176ec2ff1d",
   "metadata": {},
   "source": [
    "# Speaking\n",
    "\n",
    "\n",
    "## speaking howto"
   ]
  },
  {
   "cell_type": "markdown",
   "id": "e8da8a38-7008-45d3-800a-a99cfc177b4b",
   "metadata": {},
   "source": [
    "[English Podcast: Understand English But Can’t Speak? 🗣️ Tips to Start Speaking Confidently! - YouTube](https://www.youtube.com/watch?v=2cpd1fsUQ1I&ab_channel=DEP-DailyEnglishPodcast)"
   ]
  },
  {
   "cell_type": "code",
   "execution_count": null,
   "id": "be9ff088-99d5-4f37-96dd-70a5cafb5c61",
   "metadata": {},
   "outputs": [],
   "source": []
  }
 ],
 "metadata": {
  "kernelspec": {
   "display_name": "Python 3 (ipykernel)",
   "language": "python",
   "name": "python3"
  },
  "language_info": {
   "codemirror_mode": {
    "name": "ipython",
    "version": 3
   },
   "file_extension": ".py",
   "mimetype": "text/x-python",
   "name": "python",
   "nbconvert_exporter": "python",
   "pygments_lexer": "ipython3",
   "version": "3.10.15"
  }
 },
 "nbformat": 4,
 "nbformat_minor": 5
}
