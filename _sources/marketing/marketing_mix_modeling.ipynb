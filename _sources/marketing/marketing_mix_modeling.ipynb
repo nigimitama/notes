{
 "cells": [
  {
   "cell_type": "markdown",
   "id": "8bc4ed6e-5b26-459f-bc24-6c85c52ad245",
   "metadata": {},
   "source": [
    "# Marketing Mix Modeling（MMM）\n",
    "\n",
    "どのマーケティング施策がどのくらい/どのように事業貢献しているかを推定する\n",
    "\n",
    "selection on observableの仮定の下で頑張る系"
   ]
  },
  {
   "cell_type": "markdown",
   "id": "ed69e4e5-63a0-4382-8847-a07776ba5324",
   "metadata": {},
   "source": [
    "[【Marketing Mix Modeling（MMM）Guidebookをリリース】「Analytics AaaS」の提供による知見を踏まえ、マーケティングの投資対効果を最大化する方法を公開](https://www.hakuhodody-media.co.jp/aaas/news/mmmguidebook.html)"
   ]
  },
  {
   "cell_type": "code",
   "execution_count": null,
   "id": "de058f70-bef1-45fe-891b-8f724b6bc5bf",
   "metadata": {},
   "outputs": [],
   "source": []
  }
 ],
 "metadata": {
  "kernelspec": {
   "display_name": "Python 3 (ipykernel)",
   "language": "python",
   "name": "python3"
  },
  "language_info": {
   "codemirror_mode": {
    "name": "ipython",
    "version": 3
   },
   "file_extension": ".py",
   "mimetype": "text/x-python",
   "name": "python",
   "nbconvert_exporter": "python",
   "pygments_lexer": "ipython3",
   "version": "3.9.18"
  }
 },
 "nbformat": 4,
 "nbformat_minor": 5
}
