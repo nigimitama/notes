{
 "cells": [
  {
   "cell_type": "markdown",
   "id": "8bc4ed6e-5b26-459f-bc24-6c85c52ad245",
   "metadata": {},
   "source": [
    "# Marketing Mix Modeling（MMM）\n",
    "\n",
    "どのマーケティング施策がどのくらい/どのように事業貢献しているかを推定する\n",
    "\n",
    "selection on observableの仮定の下で頑張る系"
   ]
  },
  {
   "cell_type": "markdown",
   "id": "ed69e4e5-63a0-4382-8847-a07776ba5324",
   "metadata": {},
   "source": [
    "- 博報堂の解説スライド：[【Marketing Mix Modeling（MMM）Guidebookをリリース】「Analytics AaaS」の提供による知見を踏まえ、マーケティングの投資対効果を最大化する方法を公開](https://www.hakuhodody-media.co.jp/aaas/news/mmmguidebook.html)\n"
   ]
  },
  {
   "cell_type": "markdown",
   "id": "a637c9d9-ca91-4faa-b339-6757cb7187d0",
   "metadata": {},
   "source": [
    "## Lightweight MMM\n",
    "\n",
    "[google/lightweight_mmm](https://github.com/google/lightweight_mmm)\n",
    "\n",
    "### モデルについて\n",
    "\n",
    "モデルの例：\n",
    "\n",
    "$$\n",
    "kpi = \\alpha + trend + seasonality + media\\ channels + other\\ factors\n",
    "$$\n",
    "\n",
    "- $kpi$: 例えば月次の売上\n",
    "\n",
    "関連文献：\n",
    "\n",
    "- [LightweightMMM Models. — LightweightMMM documentation](https://lightweight-mmm.readthedocs.io/en/latest/models.html)\n",
    "- [LightweightMMMのモデルの解説 ##marketing_mix_modeling - Qiita](https://qiita.com/Kuno3/items/f08bf062f64d317a4b57#22-lightweightmmm%E3%81%AE%E3%83%A2%E3%83%87%E3%83%AB)"
   ]
  },
  {
   "cell_type": "markdown",
   "id": "2f0b01cf-294c-4dcb-aa51-6855f2fde5c4",
   "metadata": {},
   "source": [
    "### 使い方の例\n",
    "\n",
    "- [GoogleのMMMツール「lightweight MMM」を使う - 株式会社Crosstab](https://crosstab.co.jp/google%E3%81%AEmmm%E3%83%84%E3%83%BC%E3%83%AB%E3%80%8Clightweight-mmm%E3%80%8D%E3%82%92%E4%BD%BF%E3%81%86/)"
   ]
  },
  {
   "cell_type": "markdown",
   "id": "a4dc1b78-b95b-478f-bd72-935c32a28c6e",
   "metadata": {},
   "source": [
    "### 扱いには注意が必要そう\n",
    "\n",
    "selection on observableの仮定なので、モデルをどう設計するかが推定結果に強く依存する\n",
    "\n",
    "[LightweightMMMを実践データで使ってみた感想 - DMM inside](https://inside.dmm.com/articles/data_analyst_mmm/)\n",
    "\n",
    "> 今回、効果が小さかったことが事前にわかっていた広告が一部あったのですが、その事前情報よりも大きい貢献値が算出されてしまうということが起こりました。\n",
    "\n",
    "> ビジネス側の感覚を数理的な観点で補強するというスタンスの方が安全であるというのが現時点での思いです"
   ]
  }
 ],
 "metadata": {
  "kernelspec": {
   "display_name": "Python 3 (ipykernel)",
   "language": "python",
   "name": "python3"
  },
  "language_info": {
   "codemirror_mode": {
    "name": "ipython",
    "version": 3
   },
   "file_extension": ".py",
   "mimetype": "text/x-python",
   "name": "python",
   "nbconvert_exporter": "python",
   "pygments_lexer": "ipython3",
   "version": "3.9.18"
  }
 },
 "nbformat": 4,
 "nbformat_minor": 5
}
