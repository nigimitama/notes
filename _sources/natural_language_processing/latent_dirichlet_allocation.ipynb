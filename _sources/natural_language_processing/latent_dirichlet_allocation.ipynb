{
 "cells": [
  {
   "cell_type": "markdown",
   "id": "5c93df23-95c9-4de3-a2ce-35d72e86daba",
   "metadata": {},
   "source": [
    "# トピックモデル（LDA）"
   ]
  },
  {
   "cell_type": "code",
   "execution_count": null,
   "id": "3d27d2f4-2f04-47d4-9915-f0bda22bb05b",
   "metadata": {},
   "outputs": [],
   "source": []
  }
 ],
 "metadata": {
  "kernelspec": {
   "display_name": "Python 3 (ipykernel)",
   "language": "python",
   "name": "python3"
  },
  "language_info": {
   "codemirror_mode": {
    "name": "ipython",
    "version": 3
   },
   "file_extension": ".py",
   "mimetype": "text/x-python",
   "name": "python",
   "nbconvert_exporter": "python",
   "pygments_lexer": "ipython3",
   "version": "3.10.14"
  }
 },
 "nbformat": 4,
 "nbformat_minor": 5
}
