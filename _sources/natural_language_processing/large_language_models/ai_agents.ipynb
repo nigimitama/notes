{
 "cells": [
  {
   "cell_type": "markdown",
   "id": "2e939c7b-2da4-45bf-b790-c193a415cedf",
   "metadata": {},
   "source": [
    "# AI Agents\n",
    "\n",
    "LLMを使って\n",
    "\n",
    "1. 作業手順の推論\n",
    "2. 作業の実施\n",
    "\n",
    "を行わせる"
   ]
  },
  {
   "cell_type": "markdown",
   "id": "55b244ea-3943-4e18-9c3a-309f0ff77d54",
   "metadata": {},
   "source": [
    "## LangChain\n",
    "\n",
    "[Agents | 🦜️🔗 Langchain](https://python.langchain.com/docs/modules/agents/)\n",
    "\n",
    "```\n",
    "    > Entering new AgentExecutor chain...\n",
    "     I need to find out who Leo DiCaprio's girlfriend is and then calculate her age raised to the 0.43 power.\n",
    "    Action: Search\n",
    "    Action Input: \"Leo DiCaprio girlfriend\"\n",
    "    Observation: Camila Morrone\n",
    "    Thought: I need to find out Camila Morrone's age\n",
    "    Action: Search\n",
    "    Action Input: \"Camila Morrone age\"\n",
    "    Observation: 25 years\n",
    "    Thought: I need to calculate 25 raised to the 0.43 power\n",
    "    Action: Calculator\n",
    "    Action Input: 25^0.43\n",
    "    Observation: Answer: 3.991298452658078\n",
    "    \n",
    "    Thought: I now know the final answer\n",
    "    Final Answer: Camila Morrone is Leo DiCaprio's girlfriend and her current age raised to the 0.43 power is 3.991298452658078.\n",
    "    \n",
    "    > Finished chain.\n",
    "```"
   ]
  },
  {
   "cell_type": "markdown",
   "id": "0834689f-bbca-4d68-9a1f-ad7f334e5e8b",
   "metadata": {},
   "source": [
    "## Auto-GPT\n",
    "\n",
    "[Significant-Gravitas/Auto-GPT: An experimental open-source attempt to make GPT-4 fully autonomous.](https://github.com/Significant-Gravitas/Auto-GPT)\n",
    "\n",
    "もっと動的で使いやすくした感じ？\n"
   ]
  },
  {
   "cell_type": "markdown",
   "id": "464b7391-7f03-4508-99f9-8f36061b453d",
   "metadata": {},
   "source": [
    "# 関連文献\n",
    "MRKL Systems: A modular, neuro-symbolic architecture that combines large language models, external knowledge sources and discrete reasoning\n",
    "- https://arxiv.org/abs/2205.00445 （2022年5月）\n",
    "- AIエージェントが複数のツールやアプローチを組み合わせる「MRKL（Multi-Round Knowledge Loop）」というアプローチを提案\n",
    "\n",
    "Language Model Cascades\n",
    "- https://arxiv.org/abs/2207.10342 （2022年7月）\n",
    "- 言語モデルカスケードというアイデアを提案\n",
    "\n",
    "ReAct: Synergizing Reasoning and Acting in Language Models\n",
    "- https://arxiv.org/abs/2210.03629 （2022年10月）\n",
    "- 推論（Reasoning）と行動（Action）を交互に行うReAct (Reason + Act)というアプローチを提案\n",
    "\n",
    "Toolformer: Language Models Can Teach Themselves to Use Tools\n",
    "- https://arxiv.org/abs/2302.04761 （2023年2月）\n",
    "- 外部ツールを呼び出す方法を学習した「Toolformer」というモデルの提案\n",
    "\n",
    "Generative Agents: Interactive Simulacra of Human Behavior\n",
    "- https://arxiv.org/abs/2304.03442 （2023年4月）\n",
    "- 25人のAIエージェントによる小規模社会シミュレーション\n"
   ]
  },
  {
   "cell_type": "markdown",
   "id": "7f47ab9d-6dc1-49f7-baef-e72600d6dad2",
   "metadata": {},
   "source": [
    "### ReAct\n",
    "\n",
    "[ReAct Prompting | Prompt Engineering Guide](https://www.promptingguide.ai/techniques/react)"
   ]
  },
  {
   "cell_type": "markdown",
   "id": "1b606f31-0916-4817-9f90-7a203e5c5a0b",
   "metadata": {},
   "source": [
    "## Model Context Protocol（MCP）\n",
    "\n",
    "AIエージェントの情報共有の共通規格。Anthropic が提唱した。\n",
    "\n",
    "- [Model Context Protocol（MCP）とは？生成 AI の可能性を広げる新しい標準](https://zenn.dev/cloud_ace/articles/model-context-protocol)\n",
    "- [「MCP入門 〜面倒なことはAIエージェントにやらせよう〜」松尾研 LLM コミュニティ \"Paper & Hacks Vol.48\" - YouTube](https://www.youtube.com/watch?v=Getj8CcBC6w&ab_channel=%E6%9D%B1%E4%BA%AC%E5%A4%A7%E5%AD%A6%E6%9D%BE%E5%B0%BE%E3%83%BB%E5%B2%A9%E6%BE%A4%E7%A0%94%E7%A9%B6%E5%AE%A4)"
   ]
  },
  {
   "cell_type": "code",
   "execution_count": null,
   "id": "03f51c21-d77a-490d-a233-5387f48aaa62",
   "metadata": {},
   "outputs": [],
   "source": []
  }
 ],
 "metadata": {
  "kernelspec": {
   "display_name": "Python 3 (ipykernel)",
   "language": "python",
   "name": "python3"
  },
  "language_info": {
   "codemirror_mode": {
    "name": "ipython",
    "version": 3
   },
   "file_extension": ".py",
   "mimetype": "text/x-python",
   "name": "python",
   "nbconvert_exporter": "python",
   "pygments_lexer": "ipython3",
   "version": "3.10.17"
  }
 },
 "nbformat": 4,
 "nbformat_minor": 5
}
