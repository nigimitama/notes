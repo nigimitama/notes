{
 "cells": [
  {
   "cell_type": "markdown",
   "id": "e235f694-7c88-49ba-bf77-baed9844cc28",
   "metadata": {},
   "source": [
    "# LLMの評価"
   ]
  },
  {
   "cell_type": "markdown",
   "id": "a649b674-560e-4ec5-a894-7fcbbfc8ba46",
   "metadata": {},
   "source": [
    "Chang, et al. (2024). [A survey on evaluation of large language models.](https://dl.acm.org/doi/pdf/10.1145/3641289)"
   ]
  },
  {
   "cell_type": "code",
   "execution_count": null,
   "id": "38a79357-5d0e-4c2c-87ec-b9ec317517fa",
   "metadata": {},
   "outputs": [],
   "source": []
  }
 ],
 "metadata": {
  "kernelspec": {
   "display_name": "Python 3 (ipykernel)",
   "language": "python",
   "name": "python3"
  },
  "language_info": {
   "codemirror_mode": {
    "name": "ipython",
    "version": 3
   },
   "file_extension": ".py",
   "mimetype": "text/x-python",
   "name": "python",
   "nbconvert_exporter": "python",
   "pygments_lexer": "ipython3",
   "version": "3.10.14"
  }
 },
 "nbformat": 4,
 "nbformat_minor": 5
}
