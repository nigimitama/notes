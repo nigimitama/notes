{
 "cells": [
  {
   "cell_type": "markdown",
   "id": "dc478422-ca5e-44b2-8129-cf75303a8991",
   "metadata": {},
   "source": [
    "# LLMの調査"
   ]
  },
  {
   "cell_type": "markdown",
   "id": "65c43ebd-8061-4d5e-b97d-0b600c165d0d",
   "metadata": {},
   "source": [
    "### 訓練データ抽出\n",
    "[[2305.16157] Training Data Extraction From Pre-trained Language Models: A Survey](https://arxiv.org/abs/2305.16157)"
   ]
  },
  {
   "cell_type": "code",
   "execution_count": null,
   "id": "238f0fab-4f18-4b5c-a585-bb98124fe281",
   "metadata": {},
   "outputs": [],
   "source": []
  }
 ],
 "metadata": {
  "kernelspec": {
   "display_name": "Python 3 (ipykernel)",
   "language": "python",
   "name": "python3"
  },
  "language_info": {
   "codemirror_mode": {
    "name": "ipython",
    "version": 3
   },
   "file_extension": ".py",
   "mimetype": "text/x-python",
   "name": "python",
   "nbconvert_exporter": "python",
   "pygments_lexer": "ipython3",
   "version": "3.9.17"
  }
 },
 "nbformat": 4,
 "nbformat_minor": 5
}
