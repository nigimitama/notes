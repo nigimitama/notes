{
 "cells": [
  {
   "cell_type": "markdown",
   "id": "75275b32-187e-404c-b6c2-8350b809ebc0",
   "metadata": {},
   "source": [
    "# Prompt Engineering\n",
    "\n",
    "## In-context learning\n",
    "\n",
    "In-context learning（答えてほしいことを例示してその場でタスクに適応させる）の枠組み\n",
    "\n",
    "GPT3の提案論文である[Language Models are Few-Shot Learners](https://arxiv.org/abs/2005.14165)が初出？\n",
    "\n",
    "- Zero-shot Prompting: 例示なしでいきなり質問する\n",
    "- One-shot Prompting: 1例を出す\n",
    "- Few-shot Prompting: 数個の例を出す\n",
    "\n",
    "\n",
    "\n",
    "### 参考\n",
    "\n",
    "- [【論文】Language Models are Few-Shot Learners](https://zenn.dev/dhirooka/articles/dc3d31f15cccb6)\n"
   ]
  },
  {
   "cell_type": "markdown",
   "id": "77ae253c-eddf-42ee-a43e-fe64ca46d2f3",
   "metadata": {},
   "source": [
    "## Chain-of-Thought (CoT)\n",
    "\n",
    "思考過程を細かく具体的に書き出させることで精度を高める\n",
    "\n",
    "\"Let's think step by step\"をつけるだけで改善するという**zero-shot CoT**もある（東大の松尾研の論文）"
   ]
  },
  {
   "cell_type": "code",
   "execution_count": null,
   "id": "eacd6384-0393-4f52-b4d0-340a9e891d35",
   "metadata": {},
   "outputs": [],
   "source": []
  },
  {
   "cell_type": "markdown",
   "id": "eb41e7ec-b682-4346-8ee5-ada493ce8e70",
   "metadata": {},
   "source": [
    "## ReAct\n",
    "\n",
    "行動を提案し、実施結果をもとに思考を重ねていく。それにより回答が改善する\n",
    "\n",
    "[ReAct: Synergizing Reasoning and Acting in Language Models – Google Research Blog](https://ai.googleblog.com/2022/11/react-synergizing-reasoning-and-acting.html)"
   ]
  },
  {
   "cell_type": "code",
   "execution_count": null,
   "id": "4eafc3a7-52d6-4cb4-bc23-5482be09534b",
   "metadata": {},
   "outputs": [],
   "source": []
  },
  {
   "cell_type": "markdown",
   "id": "d40942b9-7165-4667-95da-1bd5ac6f5418",
   "metadata": {},
   "source": [
    "## 参考文献\n",
    "\n",
    "- [Prompt Engineering Guide](https://www.promptingguide.ai/)\n",
    "- [97. プロンプトエンジニアリング w/ ryohtaka | fukabori.fm](https://fukabori.fm/episode/97)"
   ]
  },
  {
   "cell_type": "code",
   "execution_count": null,
   "id": "5229dd26-e171-4dcb-b93c-913e13bf37bd",
   "metadata": {},
   "outputs": [],
   "source": []
  }
 ],
 "metadata": {
  "kernelspec": {
   "display_name": "Python 3 (ipykernel)",
   "language": "python",
   "name": "python3"
  },
  "language_info": {
   "codemirror_mode": {
    "name": "ipython",
    "version": 3
   },
   "file_extension": ".py",
   "mimetype": "text/x-python",
   "name": "python",
   "nbconvert_exporter": "python",
   "pygments_lexer": "ipython3",
   "version": "3.9.18"
  }
 },
 "nbformat": 4,
 "nbformat_minor": 5
}
