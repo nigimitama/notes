{
 "cells": [
  {
   "cell_type": "markdown",
   "id": "75275b32-187e-404c-b6c2-8350b809ebc0",
   "metadata": {},
   "source": [
    "# Prompt Engineering\n",
    "\n",
    "## In-context learning\n",
    "\n",
    "In-context learning（答えてほしいことを例示してその場でタスクに適応させる）の枠組み\n",
    "\n",
    "GPT3の提案論文である[Language Models are Few-Shot Learners](https://arxiv.org/abs/2005.14165)が初出？\n",
    "\n",
    "- Zero-shot Prompting: 例示なしでいきなり質問する\n",
    "- One-shot Prompting: 1例を出す\n",
    "- Few-shot Prompting: 数個の例を出す\n",
    "\n",
    "\n",
    "\n",
    "### 参考\n",
    "\n",
    "- [【論文】Language Models are Few-Shot Learners](https://zenn.dev/dhirooka/articles/dc3d31f15cccb6)\n"
   ]
  },
  {
   "cell_type": "markdown",
   "id": "77ae253c-eddf-42ee-a43e-fe64ca46d2f3",
   "metadata": {},
   "source": [
    "## Chain-of-Thought (CoT)\n",
    "\n",
    "思考過程を細かく具体的に書き出させることで精度を高める\n",
    "\n",
    "\"Let's think step by step\"をつけるだけで改善するという**zero-shot CoT**もある（東大の松尾研の論文）"
   ]
  },
  {
   "cell_type": "markdown",
   "id": "e16a03e7-cdca-40e8-bbb1-d41606bcb138",
   "metadata": {
    "tags": []
   },
   "source": [
    "## Retrieval Augmented Generation (RAG)\n",
    "\n",
    "知識問題をLLMの知識で答えるのではなく、外部のデータソース（例えばネット検索結果）から答えさせるというもの\n",
    "\n",
    "parameterized（モデルに埋め込んだ）アプローチとそうでないアプローチがある\n",
    "\n",
    "[[2202.01110v1] A Survey on Retrieval-Augmented Text Generation](https://arxiv.org/abs/2202.01110v1)\n",
    "\n",
    "### Retrieval Augmented Generation (RAG)\n",
    "\n",
    "[Lewis, et al. (2020). Retrieval-augmented generation for knowledge-intensive nlp tasks.](https://arxiv.org/pdf/2005.11401.pdf)が提案\n",
    "\n",
    "hallucinationへの効果がある模様\n",
    "\n",
    "[Shuster, K., Poff, S., Chen, M., Kiela, D., & Weston, J. (2021). Retrieval augmentation reduces hallucination in conversation. arXiv preprint arXiv:2104.07567.](https://arxiv.org/pdf/2104.07567.pdf)\n",
    "\n",
    "[[2212.10511] When Not to Trust Language Models: Investigating Effectiveness of Parametric and Non-Parametric Memories](https://arxiv.org/abs/2212.10511)\n",
    "\n",
    "Hugging Face上のデモ：[Retrieval Augmented Generative QA - a Hugging Face Space by deepset](https://huggingface.co/spaces/deepset/retrieval-augmentation-svb)\n",
    "\n",
    "\n",
    "### 参考\n",
    "\n",
    "- [大規模言語モデルの知識を補完するための Retriever の紹介 - ACES エンジニアブログ](https://tech.acesinc.co.jp/entry/2023/03/31/121001)\n",
    "- [【論文解説】Open Domain Question Answering 『RAG』を理解する | 楽しみながら理解するAI・機械学習入門](https://data-analytics.fun/2021/06/03/understanding-rag/)\n",
    "- [プロンプトエンジニアリング手法 外部データ接続・RAG編 - Platinum Data Blog by BrainPad](https://blog.brainpad.co.jp/entry/2023/06/13/191635)\n",
    "- [Zhu, et al. (2021). Retrieving and reading: A comprehensive survey on open-domain question answering.](https://arxiv.org/pdf/2101.00774.pdf)\n",
    "- [NLPコロキウム | Retrieval-based Language Models and Applications (浅井明里)](https://nlp-colloquium-jp.github.io/schedule/2023-05-31_akari-asai/)\n",
    "  - 下の方にある「スライド」のリンクをクリック"
   ]
  },
  {
   "cell_type": "code",
   "execution_count": null,
   "id": "eacd6384-0393-4f52-b4d0-340a9e891d35",
   "metadata": {},
   "outputs": [],
   "source": []
  },
  {
   "cell_type": "markdown",
   "id": "eb41e7ec-b682-4346-8ee5-ada493ce8e70",
   "metadata": {},
   "source": [
    "## ReAct\n",
    "\n",
    "行動を提案し、実施結果をもとに思考を重ねていく。それにより回答が改善する\n",
    "\n",
    "[ReAct: Synergizing Reasoning and Acting in Language Models – Google Research Blog](https://ai.googleblog.com/2022/11/react-synergizing-reasoning-and-acting.html)"
   ]
  },
  {
   "cell_type": "code",
   "execution_count": null,
   "id": "4eafc3a7-52d6-4cb4-bc23-5482be09534b",
   "metadata": {},
   "outputs": [],
   "source": []
  },
  {
   "cell_type": "markdown",
   "id": "d40942b9-7165-4667-95da-1bd5ac6f5418",
   "metadata": {},
   "source": [
    "## 参考文献\n",
    "\n",
    "- [Retrieval Augmented Generation (RAG) | Prompt Engineering Guide](https://www.promptingguide.ai/techniques/rag)\n",
    "- [97. プロンプトエンジニアリング w/ ryohtaka | fukabori.fm](https://fukabori.fm/episode/97)"
   ]
  },
  {
   "cell_type": "code",
   "execution_count": null,
   "id": "5229dd26-e171-4dcb-b93c-913e13bf37bd",
   "metadata": {},
   "outputs": [],
   "source": []
  }
 ],
 "metadata": {
  "kernelspec": {
   "display_name": "Python 3 (ipykernel)",
   "language": "python",
   "name": "python3"
  },
  "language_info": {
   "codemirror_mode": {
    "name": "ipython",
    "version": 3
   },
   "file_extension": ".py",
   "mimetype": "text/x-python",
   "name": "python",
   "nbconvert_exporter": "python",
   "pygments_lexer": "ipython3",
   "version": "3.9.16"
  }
 },
 "nbformat": 4,
 "nbformat_minor": 5
}
