{
 "cells": [
  {
   "cell_type": "markdown",
   "id": "43977240-9a26-42ce-b315-6bcd87944f10",
   "metadata": {},
   "source": [
    "# 基盤モデル\n",
    "\n",
    "従来はタスクに合わせてモデルを学習するアプローチが基本だった\n",
    "\n",
    "基盤モデル（foundation model）は巨大な1つのモデルを異なるタスクに使いまわし、プロンプトなどでタスクに合わせる\n",
    "\n",
    "[JSAI2023 Tutorial 「基盤モデルの技術と展望」 - Speaker Deck](https://speakerdeck.com/yusuke0519/jsai2023-tutorial-ji-pan-moderunoji-shu-tozhan-wang)"
   ]
  }
 ],
 "metadata": {
  "kernelspec": {
   "display_name": "Python 3 (ipykernel)",
   "language": "python",
   "name": "python3"
  },
  "language_info": {
   "codemirror_mode": {
    "name": "ipython",
    "version": 3
   },
   "file_extension": ".py",
   "mimetype": "text/x-python",
   "name": "python",
   "nbconvert_exporter": "python",
   "pygments_lexer": "ipython3",
   "version": "3.9.17"
  }
 },
 "nbformat": 4,
 "nbformat_minor": 5
}
