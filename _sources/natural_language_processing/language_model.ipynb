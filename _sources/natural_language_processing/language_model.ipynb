{
 "cells": [
  {
   "cell_type": "markdown",
   "id": "39ac92b3-7a21-4237-8d83-14068cd66003",
   "metadata": {
    "editable": true,
    "slideshow": {
     "slide_type": ""
    },
    "tags": []
   },
   "source": [
    "# 言語モデル\n",
    "\n",
    "文章が生成される確率を推定したい。\n",
    "もっともらしい（確率的にありえる）文章を生成したい。\n",
    "\n",
    "$$\n",
    "P(昨日は雨が降りました) > P(昨日は飴が降りました)\n",
    "$$\n",
    "\n",
    "文章をトークンに置き換えて考えると、文章の確率ではなくトークンの同時確率として扱うことができる\n",
    "\n",
    "$$\n",
    "P(昨日, は, 雨, が, 降り, ました) \n",
    "$$\n",
    "\n",
    "記号にすると、ある文章$S$をトークン化したのを$(w_1, w_2, \\cdots, w_n)$とすると、\n",
    "\n",
    "$$\n",
    "P(S)=P(w_1, w_2, \\cdots, w_n)\n",
    "$$\n",
    "\n",
    "を求めたいということになる。これは条件付き確率の積として表せる\n",
    "\n",
    "$$\n",
    "\\begin{align}\n",
    "P(w_1, w_2, \\cdots, w_n)\n",
    "&= P(w_1) \\times P(w_2|w_1) \\times P(w_3|w_1, w_2) \\times \\cdots\\\\\n",
    "&= \\prod_{i=1}^n p(w_i|\\boldsymbol{c}_i)\n",
    "\\end{align}\n",
    "$$\n",
    "\n",
    "ここで$\\boldsymbol{c}_i$は$w_i$より前のトークン列$\\boldsymbol{c}_i=(w_1,w_2,\\cdots,w_n)$で、**文脈**（context）と呼ばれる\n",
    "\n"
   ]
  },
  {
   "cell_type": "markdown",
   "id": "d45d48e4-7fe4-4683-9ef4-1b0d4541a4b7",
   "metadata": {
    "editable": true,
    "slideshow": {
     "slide_type": ""
    },
    "tags": []
   },
   "source": [
    "### 言語モデルの位置づけと活用\n",
    "\n",
    "この言語モデルの考え方がNLPではベースとなっている。\n",
    "\n",
    "この派生で、DNNを使うword2vecがあったり（word2vecはcontextが$w_i$の前後n個という感じでやや違うが）、\n",
    "\n",
    "「contextは時系列的な関係がある」ということで系列性を扱えるRNNやLSTMを使う流れが生まれたり、\n",
    "\n",
    "「RNNやLSTMは勾配消失の問題がある」ということでTransformerを使ってBERTやGPTを使ったり\n",
    "\n",
    "「もっと大規模な表現力の高いモデルに」となりLLMに派生していった\n"
   ]
  }
 ],
 "metadata": {
  "kernelspec": {
   "display_name": "Python 3 (ipykernel)",
   "language": "python",
   "name": "python3"
  },
  "language_info": {
   "codemirror_mode": {
    "name": "ipython",
    "version": 3
   },
   "file_extension": ".py",
   "mimetype": "text/x-python",
   "name": "python",
   "nbconvert_exporter": "python",
   "pygments_lexer": "ipython3",
   "version": "3.10.15"
  }
 },
 "nbformat": 4,
 "nbformat_minor": 5
}
