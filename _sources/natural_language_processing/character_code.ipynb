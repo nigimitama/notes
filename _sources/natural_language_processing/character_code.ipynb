{
 "cells": [
  {
   "cell_type": "markdown",
   "id": "204fd6fe-3f50-4eb2-b7a9-babfcec683ef",
   "metadata": {},
   "source": [
    "# 文字コード\n",
    "\n",
    "文字コードはコンピューターに文字 (文字、数字、区切り記号、空白文字などを含む) を理解させるための符号化システム。\n"
   ]
  },
  {
   "cell_type": "markdown",
   "id": "6f6f1404-d570-4cdf-a0ab-12eed32f3bd9",
   "metadata": {},
   "source": [
    "## 代表的な文字コード\n",
    "\n",
    "### ASCII\n",
    "\n",
    "- 1960年代にアメリカで開発された\n",
    "- 7bit, 1byteで表す\n",
    "- ASCIIの国際化されたものが ISO/IEC 646\n",
    "- ISO/IEC 646は各国語版にカスタマイズしたバージョンがある\n",
    "- ISO/IEC 646の日本語版はJIS X 0201として標準化された。ASCIIに比べて「\\」が「¥」に、「~」が「ˉ」になっている違いがある。\n",
    "- どこの国にも特化してない「国際基準版」もある。ISO/IEC 646 国際基準版 (1991年版)はASCIIと同等\n"
   ]
  },
  {
   "cell_type": "markdown",
   "id": "0f82781d-8e1b-4647-8c71-3beab07b238f",
   "metadata": {},
   "source": [
    "### ISO/IEC 2022\n",
    "\n",
    "- 8bit, 2byteで表す\n",
    "- マルチバイト文字（2バイトや3バイトで1文字を表す）の導入\n"
   ]
  },
  {
   "cell_type": "markdown",
   "id": "710a21b9-33ea-4d79-8ac5-cfce0b05c374",
   "metadata": {},
   "source": [
    "### JIS X 0208\n",
    "\n",
    "- 1978年に制定された\n",
    "- 1文字に複数バイトを使う2バイト符号化文字集合を採用しており、**漢字を扱うことができる**\n",
    "\n",
    "### Shift_JIS\n",
    "\n",
    "- JIS X0208をJIS X 0201と組み合わせる方式"
   ]
  },
  {
   "cell_type": "markdown",
   "id": "a5c1f775-2859-47c2-bd6a-b3d1f3811629",
   "metadata": {},
   "source": [
    "### Unicode\n",
    "\n",
    "- 世界の様々な言語・記号に番号を割り当てた文字コード\n",
    "- 当初は16ビット（最大65,536文字）の固定長の予定だったが、世界中の文字・記号を収めるには不十分となり、拡張の必要性が生じた。そこでUTF-16やUTF-8が生まれた。\n",
    "- UTF-16：Unicodeの中で文字が割り当てられていない16ビットの符号単位を2つ並べることで拡張する\n",
    "- UTF-8：ASCIIとバイト単位で互換となるようにした可変長の符号化方式\n",
    "- 公式サイト：[Unicode – The World Standard for Text and Emoji](https://home.unicode.org/)"
   ]
  },
  {
   "cell_type": "markdown",
   "id": "8de04fe4-6a3d-4fdf-8147-922ccc54ab00",
   "metadata": {},
   "source": [
    "## Pythonでの扱い\n",
    "\n",
    "[Unicode HOWTO — Python 3.12.5 ドキュメント](https://docs.python.org/ja/3/howto/unicode.html)"
   ]
  },
  {
   "cell_type": "code",
   "execution_count": 23,
   "id": "2167f0e5-1d87-4b0c-8b00-d9e74b4a1c9e",
   "metadata": {},
   "outputs": [
    {
     "data": {
      "text/plain": [
       "'β'"
      ]
     },
     "execution_count": 23,
     "metadata": {},
     "output_type": "execute_result"
    }
   ],
   "source": [
    "\"\\N{GREEK SMALL LETTER BETA}\""
   ]
  },
  {
   "cell_type": "code",
   "execution_count": 24,
   "id": "bd8bd8fd-0310-42e9-8bf2-e2c81fbedbf9",
   "metadata": {},
   "outputs": [
    {
     "data": {
      "text/plain": [
       "b'\\xce\\xb2'"
      ]
     },
     "execution_count": 24,
     "metadata": {},
     "output_type": "execute_result"
    }
   ],
   "source": [
    "\"\\N{GREEK SMALL LETTER BETA}\".encode(\"utf-8\")"
   ]
  },
  {
   "cell_type": "code",
   "execution_count": 25,
   "id": "6d790c1b-d6b9-422b-b79c-34b29e360f17",
   "metadata": {},
   "outputs": [
    {
     "data": {
      "text/plain": [
       "b'\\x83\\xc0'"
      ]
     },
     "execution_count": 25,
     "metadata": {},
     "output_type": "execute_result"
    }
   ],
   "source": [
    "\"\\N{GREEK SMALL LETTER BETA}\".encode(\"shift-jis\")"
   ]
  },
  {
   "cell_type": "markdown",
   "id": "d4364801-7713-4fd0-a641-0a933dbb62b7",
   "metadata": {},
   "source": [
    "## 参考\n",
    "\n",
    "- 矢野啓介. (2010). プログラマのための文字コード技術入門."
   ]
  }
 ],
 "metadata": {
  "kernelspec": {
   "display_name": "Python 3 (ipykernel)",
   "language": "python",
   "name": "python3"
  },
  "language_info": {
   "codemirror_mode": {
    "name": "ipython",
    "version": 3
   },
   "file_extension": ".py",
   "mimetype": "text/x-python",
   "name": "python",
   "nbconvert_exporter": "python",
   "pygments_lexer": "ipython3",
   "version": "3.10.14"
  }
 },
 "nbformat": 4,
 "nbformat_minor": 5
}
