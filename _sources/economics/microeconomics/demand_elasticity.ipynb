{
 "cells": [
  {
   "cell_type": "markdown",
   "id": "d5bb39b7-aae6-4989-9553-9337dfcd4219",
   "metadata": {},
   "source": [
    "# 需要の弾力性"
   ]
  },
  {
   "cell_type": "markdown",
   "id": "5c78e291-3936-4872-ae25-468df7cc0025",
   "metadata": {},
   "source": [
    "## 弾力性\n",
    "\n",
    "価格弾力性：価格が1%変化したとき、需要は何%変化するか\n"
   ]
  },
  {
   "cell_type": "markdown",
   "id": "db59dd4d-650d-468b-9e7e-add238e00e96",
   "metadata": {},
   "source": [
    "## 推定\n",
    "\n",
    "### IV推定\n"
   ]
  },
  {
   "cell_type": "markdown",
   "id": "d8091045-e13e-479b-b109-5b7e7d69ef55",
   "metadata": {},
   "source": [
    "### GMM推定"
   ]
  },
  {
   "cell_type": "markdown",
   "id": "7116e81f-21b7-487e-a901-5badbfb8f3e2",
   "metadata": {},
   "source": [
    "### 自然実験による推定\n",
    "\n",
    "[Cohen, P., Hahn, R., Hall, J., Levitt, S., & Metcalfe, R. (2016). Using big data to estimate consumer surplus: The case of uber (No. w22627). National Bureau of Economic Research.](https://www.nber.org/papers/w22627)\n",
    "\n",
    "- RDDで需要の価格弾力性を推定した研究\n",
    "- Uberにおいて、価格はあるスコアを小数点第2位で丸めたものに基づいて設定している。\n",
    "- 丸める前の値をrunning variableとして、丸めの中間点（例：1.2と1.3の間の1.25）をthresholdとしてRDD\n"
   ]
  },
  {
   "cell_type": "code",
   "execution_count": null,
   "id": "e233bd8e-30b7-4785-a086-feee558a6d2c",
   "metadata": {},
   "outputs": [],
   "source": []
  }
 ],
 "metadata": {
  "kernelspec": {
   "display_name": "Python 3 (ipykernel)",
   "language": "python",
   "name": "python3"
  },
  "language_info": {
   "codemirror_mode": {
    "name": "ipython",
    "version": 3
   },
   "file_extension": ".py",
   "mimetype": "text/x-python",
   "name": "python",
   "nbconvert_exporter": "python",
   "pygments_lexer": "ipython3",
   "version": "3.9.18"
  }
 },
 "nbformat": 4,
 "nbformat_minor": 5
}
