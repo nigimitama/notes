{
 "cells": [
  {
   "cell_type": "markdown",
   "id": "f37f26b7-98e9-463d-9369-97398bc7bb0f",
   "metadata": {},
   "source": [
    "# 不動産の経済学\n",
    "\n",
    "不動産×経済学っぽいトピックをまとめたもの"
   ]
  },
  {
   "cell_type": "markdown",
   "id": "5ce0989f-a479-448f-97f3-3f9e5c835927",
   "metadata": {},
   "source": [
    ":::{tableofcontents\n",
    "}:::"
   ]
  }
 ],
 "metadata": {
  "kernelspec": {
   "display_name": "Python 3 (ipykernel)",
   "language": "python",
   "name": "python3"
  },
  "language_info": {
   "codemirror_mode": {
    "name": "ipython",
    "version": 3
   },
   "file_extension": ".py",
   "mimetype": "text/x-python",
   "name": "python",
   "nbconvert_exporter": "python",
   "pygments_lexer": "ipython3",
   "version": "3.10.18"
  }
 },
 "nbformat": 4,
 "nbformat_minor": 5
}
