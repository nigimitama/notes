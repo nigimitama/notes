{
 "cells": [
  {
   "cell_type": "markdown",
   "id": "7e808678-9dee-4968-bc17-d53dc0e581af",
   "metadata": {},
   "source": [
    "# 投資戦略"
   ]
  },
  {
   "cell_type": "markdown",
   "id": "a2ebd08e-d217-448f-8bb6-b3e95e0a5238",
   "metadata": {},
   "source": [
    ":::{tableofcontents}\n",
    ":::"
   ]
  }
 ],
 "metadata": {
  "kernelspec": {
   "display_name": "Python 3 (ipykernel)",
   "language": "python",
   "name": "python3"
  },
  "language_info": {
   "codemirror_mode": {
    "name": "ipython",
    "version": 3
   },
   "file_extension": ".py",
   "mimetype": "text/x-python",
   "name": "python",
   "nbconvert_exporter": "python",
   "pygments_lexer": "ipython3",
   "version": "3.10.14"
  }
 },
 "nbformat": 4,
 "nbformat_minor": 5
}
