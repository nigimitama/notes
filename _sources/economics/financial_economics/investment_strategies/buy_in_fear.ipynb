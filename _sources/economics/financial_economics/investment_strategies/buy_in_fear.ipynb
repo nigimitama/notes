{
 "cells": [
  {
   "cell_type": "markdown",
   "id": "cb1c163f-4dee-492f-8be1-7d7d7bf87471",
   "metadata": {},
   "source": [
    "# 市場が恐怖しているときに買う\n",
    "\n",
    "> **人皆西に行けば東に行け**\n",
    "> \n",
    "> -- 本間宗久翁（[なぜ投資がうまい人は「悲観で買う、楽観で売る」ができるのか？](https://media.rakuten-sec.net/articles/-/40853?page=2)）\n",
    "\n",
    "\n",
    "> **投資において恐怖の風潮は友であり、熱狂は敵である**\n",
    "> \n",
    "> -- ウォーレン・バフェット（[投資の神様、ウォーレン・バフェットの「恐怖」に関する7つの名言 | Business Insider Japan](https://www.businessinsider.jp/article/255718/)）\n",
    "\n",
    "> **町のあちこちで通りが血に染まっているときこそ、買いの絶好チャンス**\n",
    ">\n",
    "> -- ネイサン・メイアー・ロスチャイルド\n"
   ]
  },
  {
   "cell_type": "markdown",
   "id": "8f48ec9c-5b4b-4d08-b55f-1714e2bbb40b",
   "metadata": {},
   "source": [
    "## 市場のセンチメントを確認する方法\n",
    "\n",
    "### VIX（恐怖指数）\n",
    "\n",
    "- [VIX指数 | Google Finance](https://www.google.com/finance/quote/VIX:INDEXCBOE?sa=X&ved=2ahUKEwix1_jgvOaLAxXhh1YBHfuYJYAQ3ecFegQIJxAf)\n",
    "- 20を超えるのはやや珍しいがすぐ買いというほどではない\n",
    "- 30を超えるのは珍しい\n",
    "- 60超えはリーマン・ショックやコロナショックのピーク時\n",
    "\n",
    "### Fear and Greed Index (CNN)\n",
    "\n",
    "[Fear and Greed Index - Investor Sentiment | CNN](https://edition.cnn.com/markets/fear-and-greed)\n",
    "\n",
    "### AAII sentiment survey\n",
    "\n",
    "- [Fear and Greed Index - Investor Sentiment | CNN](https://edition.cnn.com/markets/fear-and-greed)\n",
    "- 投資家に対するアンケート\n",
    "\n",
    "### 10年債利回り\n",
    "\n",
    "- [米10年国債：指数情報・推移 - Yahoo!ファイナンス](https://finance.yahoo.co.jp/quote/%5ETNX)\n",
    "\n",
    "### Put/Call Ratio\n",
    "\n",
    "- [US - CBOE Total Put/Call Ratio | MacroMicro](https://en.macromicro.me/charts/449/us-cboe-options-put-call-ratio)\n",
    "- 1.10を超えると弱気派が多くて買いシグナル\n"
   ]
  },
  {
   "cell_type": "markdown",
   "id": "1375ef29-1c6d-47af-b932-901f02a1a4fe",
   "metadata": {},
   "source": [
    "## 熱狂相場の特徴\n",
    "\n",
    "- 「自分も買わないと、この波に取り残されると損する」という恐怖感（Fear Of Missing Out: FOMO）がある\n",
    "- レバナス（NASDAQ 100指数ブル2倍）やSOXL（半導体銘柄ブル3倍ETF）のようなレバレッジを掛けたETFが人気になりTwitterのトレンドに上がったり証券会社の売買代金ランキングの上位に来る\n",
    "- 「一生一緒にNVIDIA」「one decision」のような、「今後も一生この株で安泰」というような極端な思考\n"
   ]
  }
 ],
 "metadata": {
  "kernelspec": {
   "display_name": "Python 3 (ipykernel)",
   "language": "python",
   "name": "python3"
  },
  "language_info": {
   "codemirror_mode": {
    "name": "ipython",
    "version": 3
   },
   "file_extension": ".py",
   "mimetype": "text/x-python",
   "name": "python",
   "nbconvert_exporter": "python",
   "pygments_lexer": "ipython3",
   "version": "3.10.15"
  }
 },
 "nbformat": 4,
 "nbformat_minor": 5
}
