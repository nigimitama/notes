{
 "cells": [
  {
   "cell_type": "markdown",
   "id": "b67c0542-e79d-46cb-9df9-69310d8cbfeb",
   "metadata": {},
   "source": [
    "# BeigeBookで利下げ・利上げを予測して国債を買う\n",
    "\n",
    "[藤原真幸, 中川慧, 水門善之, & 秋田祐哉. (2024). マクロ経済データと Beige Book を用いた金融政策決定前の資産価格変動予測. 人工知能学会第二種研究会資料, 2023(FIN-032), 65-72.](https://www.anlp.jp/proceedings/annual_meeting/2024/pdf_dir/C4-3.pdf)"
   ]
  },
  {
   "cell_type": "markdown",
   "id": "fddfddfb-a44a-43f2-b2b7-14a568e31fed",
   "metadata": {},
   "source": [
    "## 背景\n",
    "\n",
    "FOMCは12の地区連銀から出される報告書Beige Bookをもとに金融政策を決める。\n",
    "\n",
    "Beige Bookが出てからFOMC開催まで2週間ほどある\n",
    "\n",
    "Beige Bookの情報をもとにFOMCの動きを予測できれば、その後の国債価格が上がるかどうかを予測できる\n",
    "\n"
   ]
  },
  {
   "cell_type": "markdown",
   "id": "ddf38133-4035-40d0-9700-4b6ea15e335f",
   "metadata": {},
   "source": [
    "## 手法\n",
    "\n",
    "Beige BookをFinBERTでセンチメント分析し、スコアにする\n",
    "\n",
    "マクロ経済データと併せてテーブルデータに入れてXGBoostで上がるかどうかを二値分類"
   ]
  },
  {
   "cell_type": "markdown",
   "id": "d490524a-fde0-49b4-82ab-f02d92d1ec20",
   "metadata": {},
   "source": [
    "## 結果\n",
    "\n",
    "2年もの国債と10年もの国債のイールドスプレッド（長短金利差）は2Yと10Y自体の金利よりも予測しやすい。正解率0.61 ~ 0.75くらい\n",
    "\n",
    "イールドスプレッドの正負をもとに国債を売買するシミュレーションで年率リターン75 ~ 97%くらい"
   ]
  }
 ],
 "metadata": {
  "kernelspec": {
   "display_name": "Python 3 (ipykernel)",
   "language": "python",
   "name": "python3"
  },
  "language_info": {
   "codemirror_mode": {
    "name": "ipython",
    "version": 3
   },
   "file_extension": ".py",
   "mimetype": "text/x-python",
   "name": "python",
   "nbconvert_exporter": "python",
   "pygments_lexer": "ipython3",
   "version": "3.10.14"
  }
 },
 "nbformat": 4,
 "nbformat_minor": 5
}
