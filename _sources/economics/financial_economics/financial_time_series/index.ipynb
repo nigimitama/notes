{
 "cells": [
  {
   "cell_type": "markdown",
   "id": "64fe6dd2-f179-4642-877e-30cd5eea3ba9",
   "metadata": {},
   "source": [
    "# 金融時系列解析"
   ]
  },
  {
   "cell_type": "markdown",
   "id": "bbfab461-373d-4f4e-b0e5-8e4db36fefbc",
   "metadata": {},
   "source": [
    ":::{tableofcontents}\n",
    ":::"
   ]
  },
  {
   "cell_type": "markdown",
   "id": "fc0a9f0e-3bc6-49eb-9263-e379fd7b3b62",
   "metadata": {},
   "source": [
    "## 参考文献\n",
    "\n",
    "- 沖本竜義 『経済・ファイナンスデータの計量時系列分析』\n",
    "- 馬場真哉（2018）『時系列分析と状態空間モデルの基礎』\n",
    "- [Petropoulos et al. (2022). Forecasting: theory and practice. International Journal of Forecasting, 38(3), 705-871.](https://www.sciencedirect.com/science/article/pii/S0169207021001758)\n",
    "    - 時系列予測のサーベイ"
   ]
  }
 ],
 "metadata": {
  "kernelspec": {
   "display_name": "Python 3 (ipykernel)",
   "language": "python",
   "name": "python3"
  },
  "language_info": {
   "codemirror_mode": {
    "name": "ipython",
    "version": 3
   },
   "file_extension": ".py",
   "mimetype": "text/x-python",
   "name": "python",
   "nbconvert_exporter": "python",
   "pygments_lexer": "ipython3",
   "version": "3.9.18"
  }
 },
 "nbformat": 4,
 "nbformat_minor": 5
}
