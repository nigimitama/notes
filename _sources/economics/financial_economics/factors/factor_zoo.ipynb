{
 "cells": [
  {
   "cell_type": "markdown",
   "id": "9842ed20-10bd-4466-ac9f-55eaef0e0953",
   "metadata": {},
   "source": [
    "# Factor Zoo"
   ]
  },
  {
   "cell_type": "markdown",
   "id": "bec32f78-ef3b-4abb-874b-6553a3208eec",
   "metadata": {},
   "source": [
    "これまでの流れ\n",
    "\n",
    "\n",
    ":::{card}\n",
    "- Cochrane［2011］は、あまりにも多すぎるファクターが新規に報告されている状況を **Factor Zoo** と名付けた。\n",
    "- Harvey et al.［2016］は、研究者の統計的検定をする際の判断基準が低すぎる問題を指摘し、新しく発見されたファクターの多くは偶然やデータマイニングの結果にすぎない可能性があるとした。\n",
    "- McLean and Pontiff［2016］は、ファクターのパフォーマンスはアウトオブサンプルで26%、論文発表後には58%低下していることを報告し、学術研究の発表がリターンの予測可能性を低下させている可能性を示唆した。\n",
    "- Feng et al.［2020］は、新しいモデル選択のアルゴリズムを提案し、Factor Zooの多くは既存のファクターに対して冗長的であり、有意といえるファクターは少ないことを指摘している。\n",
    "- Swade et al.［2023］は、Factor Zooは15個程度のファクターに集約が可能なことを指摘している。つまり、Factor Zooの大半は再現性がなく冗長であると指摘した。\n",
    "    - ただし、Jensen et al.［2023］のように、ベイズのフレームワークを用いた分析から、これらの懸念とは反対の結論を導いているものも存在する。\n",
    "    \n",
    "（[実務家の視点からの Factor Zooに関する考察](https://www.saa.or.jp/dc/sale/apps/journal/JournalShowDetail.do?goDownload=&itmNo=40607)）\n",
    ":::"
   ]
  },
  {
   "cell_type": "markdown",
   "id": "f3357d47-b1cf-400d-9e37-9e26f68eedce",
   "metadata": {},
   "source": [
    ":::{info}\n",
    "Feng, G., Giglio, S., & Xiu, D. (2020). [Taming the Factor Zoo: A Test of New Factors](https://dachxiu.chicagobooth.edu/download/ZOO.pdf). The Journal of Finance, 75(3), 1327-1370.\n",
    ":::\n",
    "\n",
    "\n",
    "様々なファクターが提案されてきたが、実際に資産評価に効いているものを選ぶmodel selection手法を考案"
   ]
  }
 ],
 "metadata": {
  "kernelspec": {
   "display_name": "Python 3 (ipykernel)",
   "language": "python",
   "name": "python3"
  },
  "language_info": {
   "codemirror_mode": {
    "name": "ipython",
    "version": 3
   },
   "file_extension": ".py",
   "mimetype": "text/x-python",
   "name": "python",
   "nbconvert_exporter": "python",
   "pygments_lexer": "ipython3",
   "version": "3.10.14"
  }
 },
 "nbformat": 4,
 "nbformat_minor": 5
}
