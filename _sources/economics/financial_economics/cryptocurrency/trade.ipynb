{
 "cells": [
  {
   "cell_type": "markdown",
   "id": "4d5111e1-d947-4c7e-be17-108751a98069",
   "metadata": {},
   "source": [
    "# 仮想通貨投機"
   ]
  },
  {
   "cell_type": "markdown",
   "id": "64f44ce2-b784-4be6-b620-89565f19bb65",
   "metadata": {},
   "source": [
    "## 初心者がやってはいけないこと\n",
    "\n",
    ":::{card} [【2025年版】仮想通貨初心者がやってはいけないこと まとめ - YouTube](https://www.youtube.com/watch?v=aPoNWRY4_kw)\n",
    "\n",
    "**やってはいけないこと**\n",
    "\n",
    "- 暗号資産は「投資」ではなく、「 **お金の奪い合い** 」。ゼロサムゲーム\n",
    "- Bitcoin以外の長期ホールドは❌️。99.9%以上の暗号資産（草コイン）は長期的には下がる\n",
    "    - 魅力的なプロジェクトがあったとしても、無数にあるし新規に生まれてくるので資金が流出する可能性\n",
    "    - 「プロジェクトがある」といいつつ実際は無い詐欺も横行している\n",
    "    - 著名人が宣伝してるプロジェクトも❌️。そうしないと売れないゴミということなので。\n",
    "- 短期トレードは❌️。レバレッジ取引も❌️。上級者は「初心者指標」を見て養分を吸うようにトレードする\n",
    "    - 初心者指標：先物乖離、建玉など、レバレッジしてる初心者の動きを示す指標\n",
    "- 個人ウォレットは❌️。国内取引所なら金融庁管轄だが、個人ウォレットは全部自己責任。送金先アドレスをミスったら全部失う（GOX）\n",
    "- 誰かを信じることも❌️。\n",
    "    - エアドロップも❌️。エアドロップの情報を教えます！といいつつフィッシングサイトに案内されたりする\n",
    "\n",
    "**やっていいこと**\n",
    "\n",
    "- 国内取引所でのビットコインの積立\n",
    "- それ以上の取引をするなら、自分のお金は強奪されるものと覚悟の上少しずつやっていく\n",
    "\n",
    ":::"
   ]
  },
  {
   "cell_type": "markdown",
   "id": "f293c70b-8d30-4137-887d-89f8f81ab0c8",
   "metadata": {},
   "source": [
    "## 失敗談\n",
    "\n",
    ":::{card} [仮想通貨で600万円…資産の9割を失いました｜mizu](https://note.com/mizu_crypto/n/n1547ad283003)\n",
    "\n",
    "だいたいハイレバレッジ取引で損失\n",
    "\n",
    ":::"
   ]
  }
 ],
 "metadata": {
  "kernelspec": {
   "display_name": "Python 3 (ipykernel)",
   "language": "python",
   "name": "python3"
  },
  "language_info": {
   "codemirror_mode": {
    "name": "ipython",
    "version": 3
   },
   "file_extension": ".py",
   "mimetype": "text/x-python",
   "name": "python",
   "nbconvert_exporter": "python",
   "pygments_lexer": "ipython3",
   "version": "3.10.18"
  }
 },
 "nbformat": 4,
 "nbformat_minor": 5
}
