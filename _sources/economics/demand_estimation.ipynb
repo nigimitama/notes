{
 "cells": [
  {
   "cell_type": "markdown",
   "id": "fc54d187-e379-4527-a3cd-ed762e5c5912",
   "metadata": {},
   "source": [
    "# 需要推定"
   ]
  },
  {
   "cell_type": "markdown",
   "id": "a9a7e808-dcc3-409c-98f8-9902343a2b70",
   "metadata": {},
   "source": [
    "需要関数の推定、価格弾力性などの推定タスクについて。"
   ]
  },
  {
   "cell_type": "markdown",
   "id": "ef48f485-a11d-4e12-8756-c2f5025a0383",
   "metadata": {},
   "source": [
    "## 手法\n",
    "\n",
    "古典的には構造推定で行われてきた。\n",
    "シンプルなものは多項プロビットによるBLPモデル：[集計データで需要推定をしたい！（理論編①） #経済学 - Qiita](https://qiita.com/fuwakune/items/45f8747be407a207c5e6)"
   ]
  }
 ],
 "metadata": {
  "kernelspec": {
   "display_name": "Python 3 (ipykernel)",
   "language": "python",
   "name": "python3"
  },
  "language_info": {
   "codemirror_mode": {
    "name": "ipython",
    "version": 3
   },
   "file_extension": ".py",
   "mimetype": "text/x-python",
   "name": "python",
   "nbconvert_exporter": "python",
   "pygments_lexer": "ipython3",
   "version": "3.10.15"
  }
 },
 "nbformat": 4,
 "nbformat_minor": 5
}
