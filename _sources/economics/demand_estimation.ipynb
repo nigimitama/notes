{
 "cells": [
  {
   "cell_type": "markdown",
   "id": "fc54d187-e379-4527-a3cd-ed762e5c5912",
   "metadata": {},
   "source": [
    "# 需要推定"
   ]
  },
  {
   "cell_type": "markdown",
   "id": "a9a7e808-dcc3-409c-98f8-9902343a2b70",
   "metadata": {},
   "source": [
    "需要関数の推定、価格弾力性などの推定タスクについて。"
   ]
  },
  {
   "cell_type": "markdown",
   "id": "ef48f485-a11d-4e12-8756-c2f5025a0383",
   "metadata": {},
   "source": [
    "## 手法\n",
    "\n",
    "古典的には構造推定で行われてきた。\n",
    "シンプルなものは多項プロビットによるBLPモデル：[集計データで需要推定をしたい！（理論編①） #経済学 - Qiita](https://qiita.com/fuwakune/items/45f8747be407a207c5e6)"
   ]
  },
  {
   "cell_type": "markdown",
   "id": "b93bd108-0ef0-4bdc-bfe1-16add65c35e5",
   "metadata": {},
   "source": [
    "## 事例"
   ]
  },
  {
   "cell_type": "markdown",
   "id": "9449f7a1-9667-4c16-aae5-cef0a5a6bb4f",
   "metadata": {},
   "source": [
    "::::{admonition} Amazonの需要関数予測\n",
    "\n",
    ":::{card}\n",
    "[Bach, P., Chernozhukov, V., Klaassen, S., Spindler, M., Teichert-Kluge, J., & Vijaykumar, S. (2024). Adventures in Demand Analysis Using AI. arXiv preprint arXiv:2501.00382.](https://arxiv.org/pdf/2501.00382)\n",
    ":::\n",
    "\n",
    "Amazonのおもちゃのカテゴリのデータを使って需要の価格弾力性を推定\n",
    "\n",
    "入力はテキストと画像で、RoBERTaやLLaMA3など複数のNNベースの言語モデルで埋込表現を獲得して特徴量$X$にする\n",
    "\n",
    "同時方程式を解いたりして需要関数を推定する\n",
    "\n",
    "::::"
   ]
  },
  {
   "cell_type": "code",
   "execution_count": null,
   "id": "42377450-c457-4d52-9422-86fb0805402c",
   "metadata": {},
   "outputs": [],
   "source": []
  }
 ],
 "metadata": {
  "kernelspec": {
   "display_name": "Python 3 (ipykernel)",
   "language": "python",
   "name": "python3"
  },
  "language_info": {
   "codemirror_mode": {
    "name": "ipython",
    "version": 3
   },
   "file_extension": ".py",
   "mimetype": "text/x-python",
   "name": "python",
   "nbconvert_exporter": "python",
   "pygments_lexer": "ipython3",
   "version": "3.10.15"
  }
 },
 "nbformat": 4,
 "nbformat_minor": 5
}
