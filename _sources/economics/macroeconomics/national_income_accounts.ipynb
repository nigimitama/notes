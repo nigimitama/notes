{
 "cells": [
  {
   "cell_type": "markdown",
   "id": "bfb68fe7-c94c-4926-a1ca-ffdb2af1165d",
   "metadata": {},
   "source": [
    "# 国民経済計算\n",
    "\n",
    "マクロ経済学では経済全体の過去の経済活動を分析し、将来の動きを予測しようとする。\n",
    "\n",
    "また国ごとの所得格差や、低所得国が先進国にキャッチアップするための政策も考えたりする。\n",
    "\n",
    "「1人当たり所得」などはどのように測るのか？\n",
    "\n",
    "経済全体の活動を測定するフレームワークのことは**国民経済計算**（national income accounts）と呼ばれる。"
   ]
  },
  {
   "cell_type": "markdown",
   "id": "54e2854b-dc4c-4694-9611-254d31354d6f",
   "metadata": {},
   "source": [
    ":::{margin}\n",
    "national income accountsは直訳すれば「国民所得勘定」だが『ALLマクロ経済学』では「国民経済計算」と意訳されており、ここでもそれを真似ている\n",
    ":::"
   ]
  },
  {
   "cell_type": "markdown",
   "id": "7703d4da-7514-4130-9e9c-0936300aaefb",
   "metadata": {},
   "source": [
    ":::{admonition} 国民経済計算\n",
    "アメリカでは**国民所得生産勘定**（**NIPA**：National Income and Product Accounts）というシステムがある。\n",
    "\n",
    "日本だと**国民経済計算**（**SNA**：System of National Accounts）というシステムを用いている（[内閣府](https://www.esri.cao.go.jp/jp/sna/seibi/kouhou/93kiso/93snapamph/chapter1.html)）。\n",
    ":::"
   ]
  },
  {
   "cell_type": "markdown",
   "id": "22125485-af9d-4649-96ca-c914e8a07c85",
   "metadata": {},
   "source": [
    "## GDP\n",
    "\n",
    "一国の経済全体の活動量を**国内総生産**（**GDP**：gross domestic product）という。\n",
    "\n",
    "生産＝支出＝所得という3面等価という原則がある。"
   ]
  },
  {
   "cell_type": "markdown",
   "id": "f9f60d62-00f3-45d6-a9bc-2722176cfe1f",
   "metadata": {},
   "source": [
    "### 国民所得勘定式\n",
    "\n",
    "国内経済で生産された財とサービスの支出の総価値は次のように計算できる\n",
    "\n",
    "$$\n",
    "Y = C + I + G + X - M\n",
    "$$\n",
    "\n",
    "- $Y$：GDP\n",
    "- $C$：消費（国内の家計による消費財と消費サービスの市場価値）\n",
    "- $I$：（民間）投資（国内の家計と企業によって購入された新しい物的資本の市場価値）\n",
    "- $G$：政府支出（政府によって購入された財とサービスの市場価値）\n",
    "- $X$：輸出（国内で生産され、国外の家計や企業や政府に販売されたすべての財とサービスの市場価値）\n",
    "- $M$：輸入（国外で生産され、国内の家計や企業やその国の政府に販売されたすべたの財とサービスの市場価値）\n"
   ]
  },
  {
   "cell_type": "code",
   "execution_count": null,
   "id": "5c6329a3-b84e-4904-99fb-42e7563af140",
   "metadata": {},
   "outputs": [],
   "source": []
  }
 ],
 "metadata": {
  "kernelspec": {
   "display_name": "Python 3 (ipykernel)",
   "language": "python",
   "name": "python3"
  },
  "language_info": {
   "codemirror_mode": {
    "name": "ipython",
    "version": 3
   },
   "file_extension": ".py",
   "mimetype": "text/x-python",
   "name": "python",
   "nbconvert_exporter": "python",
   "pygments_lexer": "ipython3",
   "version": "3.9.18"
  }
 },
 "nbformat": 4,
 "nbformat_minor": 5
}
