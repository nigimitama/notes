{
 "cells": [
  {
   "cell_type": "markdown",
   "id": "902cb6e2-f325-4215-897e-bdf07fcfbcea",
   "metadata": {},
   "source": [
    "# データサイエンティスト / MLエンジニアのキャリア"
   ]
  },
  {
   "cell_type": "markdown",
   "id": "74c0220a-ab12-436c-a0dc-f9fe99df4b35",
   "metadata": {},
   "source": [
    ":::{tip}\n",
    "\n",
    "[機械学習エンジニアが目指すキャリアパスとその実話 / My Journey to Become a ML Engineer - Speaker Deck](https://speakerdeck.com/shinyorke/my-journey-to-become-a-ml-engineer?slide=33)\n",
    "\n",
    "MLエンジニアに必要なもの\n",
    "\n",
    "1. アプリを作るスキル\n",
    "2. インフラを構築・運用するスキル\n",
    "3. ビジネススキル（すごく大事）\n",
    "   - 要件を企画・言語化して推進するスキル\n",
    "   - 「使えるデータがあればできます」では仕事は無理。データを探したり作るところから提案できなくてはならない。\n",
    "\n",
    ":::"
   ]
  },
  {
   "cell_type": "code",
   "execution_count": null,
   "id": "90452591-f6bc-49b4-aa39-5a0cb1205efb",
   "metadata": {},
   "outputs": [],
   "source": []
  }
 ],
 "metadata": {
  "kernelspec": {
   "display_name": "Python 3 (ipykernel)",
   "language": "python",
   "name": "python3"
  },
  "language_info": {
   "codemirror_mode": {
    "name": "ipython",
    "version": 3
   },
   "file_extension": ".py",
   "mimetype": "text/x-python",
   "name": "python",
   "nbconvert_exporter": "python",
   "pygments_lexer": "ipython3",
   "version": "3.10.18"
  }
 },
 "nbformat": 4,
 "nbformat_minor": 5
}
