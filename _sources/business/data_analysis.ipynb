{
 "cells": [
  {
   "cell_type": "markdown",
   "id": "7c7060b4-ee9e-4c67-93ed-0492c533f9b8",
   "metadata": {},
   "source": [
    "# データ分析のビジネス活用"
   ]
  },
  {
   "cell_type": "markdown",
   "id": "1c3ebbc2-541a-49fa-b496-f681c0dff33b",
   "metadata": {},
   "source": [
    "## 組織論・マネジメント\n",
    "\n",
    "[データ分析のマネジメント論１：データ分析組織とは何か｜Jun Ernesto Okumura](https://note.com/pacocat/n/nb2f15463ccb9)\n",
    "\n"
   ]
  }
 ],
 "metadata": {
  "kernelspec": {
   "display_name": "Python 3 (ipykernel)",
   "language": "python",
   "name": "python3"
  },
  "language_info": {
   "codemirror_mode": {
    "name": "ipython",
    "version": 3
   },
   "file_extension": ".py",
   "mimetype": "text/x-python",
   "name": "python",
   "nbconvert_exporter": "python",
   "pygments_lexer": "ipython3",
   "version": "3.10.14"
  }
 },
 "nbformat": 4,
 "nbformat_minor": 5
}
