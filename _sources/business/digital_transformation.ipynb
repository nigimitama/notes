{
 "cells": [
  {
   "cell_type": "markdown",
   "id": "07597bec-b20c-44e1-8d4f-d7034385d67d",
   "metadata": {},
   "source": [
    "# Digital Transformation\n"
   ]
  },
  {
   "cell_type": "markdown",
   "id": "dd059c93-f6d4-479d-a773-20476ddace77",
   "metadata": {},
   "source": [
    "## 事例\n",
    "\n",
    "\n",
    ":::{card} クレディセゾンのDX\n",
    "\n",
    "[クレディセゾンでDXを進めてきた5年間を振り返る｜小野 和俊](https://note.com/lalha/n/n939e576f5509)\n",
    "\n",
    "内製開発エンジニアの募集を始めたフェーズからその後のプロジェクトまで書かれている\n",
    "\n",
    ":::"
   ]
  },
  {
   "cell_type": "code",
   "execution_count": null,
   "id": "0584b364-a719-425c-9ee2-a8d377e027d3",
   "metadata": {},
   "outputs": [],
   "source": []
  }
 ],
 "metadata": {
  "kernelspec": {
   "display_name": "Python 3 (ipykernel)",
   "language": "python",
   "name": "python3"
  },
  "language_info": {
   "codemirror_mode": {
    "name": "ipython",
    "version": 3
   },
   "file_extension": ".py",
   "mimetype": "text/x-python",
   "name": "python",
   "nbconvert_exporter": "python",
   "pygments_lexer": "ipython3",
   "version": "3.10.15"
  }
 },
 "nbformat": 4,
 "nbformat_minor": 5
}
