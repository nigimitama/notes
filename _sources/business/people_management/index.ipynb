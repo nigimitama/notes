{
 "cells": [
  {
   "cell_type": "markdown",
   "id": "f675735a-ba3f-4ac1-9825-96846ef8b25b",
   "metadata": {},
   "source": [
    "# People Management"
   ]
  },
  {
   "cell_type": "markdown",
   "id": "671d1fbb-80c3-4bb4-84ed-18c79b2694e3",
   "metadata": {},
   "source": [
    ":::{tableofcontents}\n",
    ":::"
   ]
  }
 ],
 "metadata": {
  "kernelspec": {
   "display_name": "Python 3 (ipykernel)",
   "language": "python",
   "name": "python3"
  },
  "language_info": {
   "codemirror_mode": {
    "name": "ipython",
    "version": 3
   },
   "file_extension": ".py",
   "mimetype": "text/x-python",
   "name": "python",
   "nbconvert_exporter": "python",
   "pygments_lexer": "ipython3",
   "version": "3.10.15"
  }
 },
 "nbformat": 4,
 "nbformat_minor": 5
}
