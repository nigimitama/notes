{
 "cells": [
  {
   "cell_type": "markdown",
   "id": "412f9011-aca8-4ee2-8c67-e0b4f7bdc450",
   "metadata": {},
   "source": [
    "# ヒアリング"
   ]
  },
  {
   "cell_type": "markdown",
   "id": "d64f6e0d-d560-4b0b-9ef7-ae16aa71f5c5",
   "metadata": {},
   "source": [
    "## 「課題は何ですか?」と直接聞かない\n",
    "\n",
    "### ❌️直接的に聞いても、うまくいかないことが多い。\n",
    "\n",
    "- 顕在化していて説明しやすい表層的な問題しか言ってくれない\n",
    "- 防御的な姿勢になって、本心を言わなくなる\n",
    "\n",
    "\n",
    "### ⭕️寄り添った聞き方に変える\n",
    "\n",
    "「どの業務が楽になると嬉しいですか？」\n",
    "\n",
    "「いま、何に時間を一番とられていますか？」\n",
    "\n",
    "一緒に課題を発見していく感じに\n",
    "\n",
    "\n",
    ":::{card} 参考\n",
    "\n",
    "https://x.com/kannonnka/status/1971696784201449626\n",
    "\n",
    ":::"
   ]
  }
 ],
 "metadata": {
  "kernelspec": {
   "display_name": "Python 3 (ipykernel)",
   "language": "python",
   "name": "python3"
  },
  "language_info": {
   "codemirror_mode": {
    "name": "ipython",
    "version": 3
   },
   "file_extension": ".py",
   "mimetype": "text/x-python",
   "name": "python",
   "nbconvert_exporter": "python",
   "pygments_lexer": "ipython3",
   "version": "3.10.18"
  }
 },
 "nbformat": 4,
 "nbformat_minor": 5
}
