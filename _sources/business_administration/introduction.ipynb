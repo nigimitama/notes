{
 "cells": [
  {
   "cell_type": "markdown",
   "id": "d70079bb-5029-48ab-af14-08979f9cef44",
   "metadata": {},
   "source": [
    "# 概要\n",
    "\n",
    "経営学（business administration）は経営という活動を研究対象とする学問。\n",
    "\n"
   ]
  },
  {
   "cell_type": "markdown",
   "id": "981b335c-c1d3-468d-85a8-a7dfc739f799",
   "metadata": {},
   "source": [
    "## 経営の領域\n",
    "\n",
    "４つの領域がある\n",
    "\n",
    "1. 制度の選択\n",
    "    - 例：有限会社にするか株式会社にするか\n",
    "2. 戦略の形成\n",
    "    - どのような事業にするのか\n",
    "3. 組織の枠組みづくり\n",
    "4. 組織における人間への対応\n"
   ]
  },
  {
   "cell_type": "markdown",
   "id": "b5a0e696-4329-43f4-9954-c0e69da70cd6",
   "metadata": {},
   "source": [
    "## 参考文献\n",
    "\n",
    "藤田誠（2015）『経営学入門』"
   ]
  },
  {
   "cell_type": "code",
   "execution_count": null,
   "id": "d26196d9-1fb2-47e8-bb21-e4f462b99ba5",
   "metadata": {},
   "outputs": [],
   "source": []
  }
 ],
 "metadata": {
  "kernelspec": {
   "display_name": "Python 3 (ipykernel)",
   "language": "python",
   "name": "python3"
  },
  "language_info": {
   "codemirror_mode": {
    "name": "ipython",
    "version": 3
   },
   "file_extension": ".py",
   "mimetype": "text/x-python",
   "name": "python",
   "nbconvert_exporter": "python",
   "pygments_lexer": "ipython3",
   "version": "3.9.18"
  }
 },
 "nbformat": 4,
 "nbformat_minor": 5
}
