{
 "cells": [
  {
   "cell_type": "markdown",
   "id": "eb173625-adee-4b26-88b4-8903a2801782",
   "metadata": {},
   "source": [
    "# Factorization Machines\n",
    "\n",
    "レコメンドにおける協調フィルタリングのようなスパースなデータに対して、SVMは信頼できる識別超平面を構築できない。そのような状況でも使えるように[Rendle (2010)](https://dl.acm.org/doi/10.1145/1718487.1718498)が提案したものがFactorization Machines（FM）\n",
    "\n"
   ]
  },
  {
   "cell_type": "markdown",
   "id": "0d304bbf-5978-4dbc-bf74-6f0d3b491c24",
   "metadata": {},
   "source": [
    "$$\n",
    "\\begin{aligned}\n",
    "\\phi_{\\mathit{FM2}}(\\boldsymbol{x},\\boldsymbol{w})\n",
    ":= & w_0 + \\left\\langle \\boldsymbol{w},\\boldsymbol{x}\\right\\rangle +\\sum_{i=1}^{D}\\sum_{j=i+1}^{D}\\left\\langle \\boldsymbol{v}_{i},\\boldsymbol{v}_{j}\\right\\rangle x_{j}x_{j}\\nonumber \\\\\n",
    "= & w_0 + \\left\\langle \\boldsymbol{w},\\boldsymbol{x}\\right\\rangle +\\sum_{(i, j)\\in C}\\left\\langle \\boldsymbol{v}_{i},\\boldsymbol{v}_{j}\\right\\rangle x_{j}x_{j}\n",
    "\\end{aligned}\n",
    "$$"
   ]
  },
  {
   "cell_type": "markdown",
   "id": "7aee8be8-b666-457f-b8b9-2d2863ed7fb3",
   "metadata": {},
   "source": [
    "## 参考文献\n",
    "\n",
    "- [RCOアドテク部論文輪読会：「Factorization Machines」を紹介しました | Ad-Tech Lab Blog](https://blog.recruit.co.jp/rco/47/)\n",
    "- [Factorization Machine (FM) についての私的まとめ - Qiita](https://qiita.com/s_katagiri/items/d630685dd2fe2627ecd3)\n"
   ]
  },
  {
   "cell_type": "code",
   "execution_count": null,
   "id": "246fd690-6a79-4a60-bce9-91cf65d3b1e8",
   "metadata": {},
   "outputs": [],
   "source": []
  }
 ],
 "metadata": {
  "kernelspec": {
   "display_name": "Python 3 (ipykernel)",
   "language": "python",
   "name": "python3"
  },
  "language_info": {
   "codemirror_mode": {
    "name": "ipython",
    "version": 3
   },
   "file_extension": ".py",
   "mimetype": "text/x-python",
   "name": "python",
   "nbconvert_exporter": "python",
   "pygments_lexer": "ipython3",
   "version": "3.10.18"
  }
 },
 "nbformat": 4,
 "nbformat_minor": 5
}
