{
 "cells": [
  {
   "cell_type": "markdown",
   "id": "e356bad9-9486-4a95-ab51-2726a1effa13",
   "metadata": {},
   "source": [
    "# Causal Inference in Recommender Systems\n",
    "\n"
   ]
  },
  {
   "cell_type": "markdown",
   "id": "dd24c468-519d-4ada-ad4c-c9d27e68b645",
   "metadata": {},
   "source": [
    "## Offline Policy Evaluation\n",
    "\n",
    "A/Bテスト（Online Evaluation）に対して、過去のデータを使って推薦モデルを検証すること。\n",
    "このとき、過去のログデータは「その時点で使われていた推薦モデルが推薦したときの結果」が含まれるため、その分だけ偏りがある。そこでCausal Inference的なDebiasingの技術が求められる\n",
    "\n",
    ":::{card} 参考記事\n",
    "\n",
    "[Off-Policy Evaluationの基礎とZOZOTOWN大規模公開実データおよびパッケージ紹介 - ZOZO TECH BLOG](https://techblog.zozo.com/entry/openbanditproject)\n",
    ":::\n",
    "\n"
   ]
  },
  {
   "cell_type": "markdown",
   "id": "b821e5c9-2b7d-41e9-b5ec-6ad0b3fd0ec9",
   "metadata": {},
   "source": [
    ":::{info}\n",
    "\n",
    "[[1602.05352] Recommendations as Treatments: Debiasing Learning and Evaluation](https://arxiv.org/abs/1602.05352)\n",
    ":::"
   ]
  },
  {
   "cell_type": "markdown",
   "id": "1f32534c-2cbc-43de-84f5-fe51159de8f4",
   "metadata": {},
   "source": [
    "## Counterfactual Machine Learning\n",
    "\n",
    ":::{card} 参考記事\n",
    "\n",
    "[私のブックマーク「反実仮想機械学習」（Counterfactual Machine Learning, CFML） | 人工知能学会 (The Japanese Society for Artificial Intelligence)](https://www.ai-gakkai.or.jp/resource/my-bookmark/my-bookmark_vol35-no4/)\n",
    ":::\n",
    "\n",
    ":::{card} 書籍\n",
    "\n",
    "- 齋藤優太, & 安井翔太. (2021). [施策デザインのための機械学習入門: データ分析技術のビジネス活用における正しい考え方](https://gihyo.jp/book/2021/978-4-297-12224-9).\n",
    "- 齋藤優太 (2023) [反実仮想機械学習](https://www.amazon.co.jp/dp/B0CYRTS8ZJ)\n",
    ":::"
   ]
  },
  {
   "cell_type": "markdown",
   "id": "73cc6b62-45cf-49b9-b4ea-fd500aa1cdf6",
   "metadata": {},
   "source": [
    ":::{info}\n",
    "\n",
    "[Causal Inference in Recommender Systems: A Survey and Future Directions | ACM Transactions on Information Systems](https://dl.acm.org/doi/10.1145/3639048)\n",
    ":::\n",
    "\n",
    ":::{info}\n",
    "\n",
    "[A survey on causal inference for recommendation: The Innovation](https://www.cell.com/the-innovation/fulltext/S2666-6758(24)00028-6)\n",
    ":::\n",
    "\n"
   ]
  }
 ],
 "metadata": {
  "kernelspec": {
   "display_name": "Python 3 (ipykernel)",
   "language": "python",
   "name": "python3"
  },
  "language_info": {
   "codemirror_mode": {
    "name": "ipython",
    "version": 3
   },
   "file_extension": ".py",
   "mimetype": "text/x-python",
   "name": "python",
   "nbconvert_exporter": "python",
   "pygments_lexer": "ipython3",
   "version": "3.10.15"
  }
 },
 "nbformat": 4,
 "nbformat_minor": 5
}
