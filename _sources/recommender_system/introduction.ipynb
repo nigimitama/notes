{
 "cells": [
  {
   "cell_type": "markdown",
   "id": "0bfc3a56-6fe9-4454-a449-8f6a9da3fad1",
   "metadata": {},
   "source": [
    "# 概要"
   ]
  },
  {
   "cell_type": "markdown",
   "id": "8891a7a8-bdaa-4674-9df6-daaeda4443a6",
   "metadata": {},
   "source": [
    "## 問題設定\n",
    "\n",
    "- Most-Popular 推薦：ベースラインとして、全体での予測CTRが最も高いものを常に出す\n",
    "- 個別化推薦（personalized recommendation）：個々のユーザに合わせた推薦を行う\n",
    "- コンテキスト依存型推薦：ユーザ・アイテム・コンテキストの3つに依存して最適な推薦を推定する"
   ]
  },
  {
   "cell_type": "markdown",
   "id": "72c5a280-cfff-4ecc-bd9b-a9d980a28a6c",
   "metadata": {},
   "source": [
    "## ライブラリ\n",
    "\n",
    "- [recommenders-team/recommenders: Best Practices on Recommendation Systems](https://github.com/recommenders-team/recommenders)\n",
    "    - Microsoft→Linux Foundationになった実験環境\n",
    "- [Surprise · A Python scikit for recommender systems.](https://surpriselib.com/)\n",
    "    - 主に行列分解系を中心に扱っているライブラリ"
   ]
  }
 ],
 "metadata": {
  "kernelspec": {
   "display_name": "Python 3 (ipykernel)",
   "language": "python",
   "name": "python3"
  },
  "language_info": {
   "codemirror_mode": {
    "name": "ipython",
    "version": 3
   },
   "file_extension": ".py",
   "mimetype": "text/x-python",
   "name": "python",
   "nbconvert_exporter": "python",
   "pygments_lexer": "ipython3",
   "version": "3.9.18"
  }
 },
 "nbformat": 4,
 "nbformat_minor": 5
}
