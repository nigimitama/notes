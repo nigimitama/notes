{
 "cells": [
  {
   "cell_type": "markdown",
   "id": "b419a6c1-1f63-437c-88ad-bccbfa37bbf5",
   "metadata": {},
   "source": [
    "# 行列分解に基づく推薦システム"
   ]
  },
  {
   "cell_type": "markdown",
   "id": "3769b180-fc3e-4f9a-b865-f9d00dea7751",
   "metadata": {},
   "source": [
    "## Matrix Factorization\n",
    "\n",
    "[Matrix Factorization: A Simple Tutorial and Implementation in Python @ quuxlabs](http://www.quuxlabs.com/blog/2010/09/matrix-factorization-a-simple-tutorial-and-implementation-in-python/)\n"
   ]
  },
  {
   "cell_type": "markdown",
   "id": "4f4e135a-91a2-41f4-a014-222049eda7b1",
   "metadata": {},
   "source": [
    "## その他の行列分解による推薦"
   ]
  },
  {
   "cell_type": "markdown",
   "id": "7b277db3-aea8-4ec5-b4da-3c879c2e834d",
   "metadata": {},
   "source": [
    "- [行列分解によるレコメンドを整理する #1\\~特異値分解によるレコメンド~ #機械学習 - Qiita](https://qiita.com/yo_fuji/items/56a22c9829d40ce7a3ff)"
   ]
  },
  {
   "cell_type": "markdown",
   "id": "1530b2e0-8700-47d3-86b2-3991d330bdff",
   "metadata": {},
   "source": [
    "## ALS\n",
    "\n",
    "**ALS（Alternating Least Squares）**\n",
    "\n",
    "[Alternating Least Square (ALS) でCP分解 - でかいチーズをベーグルする](https://yamaguchiyuto.hatenablog.com/entry/2016/11/12/100000)\n",
    "\n",
    "\n",
    "### iALS\n",
    "\n",
    "**iALS（Implicit Alternating Least Squares）** はALSの応用的な位置付けのモデル。\n",
    "\n",
    "通常のALSはユーザーがアイテムに対して明示的な評価を与える場合を想定している。iALSはユーザーの行動履歴などの暗黙的なフィードバック（例：クリック、閲覧、購入履歴など）を扱う。\n",
    "\n",
    "[iALSの論文実装と評価〜推薦システムの手法〜 #Python - Qiita](https://qiita.com/yuwewe/items/ae8dc816f2531df404ff)"
   ]
  },
  {
   "cell_type": "markdown",
   "id": "d1bdbd27-37b2-4893-833a-f8a6eefdfdfa",
   "metadata": {},
   "source": [
    "## ライブラリ\n",
    "\n",
    "[Surprise · A Python scikit for recommender systems.](https://surpriselib.com/)\n",
    "\n",
    "- 主に行列分解系を中心に扱っているライブラリ"
   ]
  },
  {
   "cell_type": "code",
   "execution_count": 3,
   "id": "7eb3a6a4-b16f-4c9c-9e63-c581de3bbf7b",
   "metadata": {},
   "outputs": [],
   "source": [
    "import time\n",
    "import pandas as pd\n",
    "import numpy as np\n",
    "from surprise import Dataset, Reader, accuracy\n",
    "from surprise.model_selection import train_test_split\n",
    "from surprise import SVD, NMF"
   ]
  },
  {
   "cell_type": "code",
   "execution_count": 4,
   "id": "fd79f310-9361-4592-a5c0-eed96536d5d3",
   "metadata": {},
   "outputs": [
    {
     "name": "stdout",
     "output_type": "stream",
     "text": [
      "Trying to download dataset from https://files.grouplens.org/datasets/movielens/ml-100k.zip...\n",
      "Done! Dataset ml-100k has been saved to /root/.surprise_data/ml-100k\n"
     ]
    },
    {
     "data": {
      "text/plain": [
       "<surprise.dataset.DatasetAutoFolds at 0x7fa71c03bcd0>"
      ]
     },
     "execution_count": 4,
     "metadata": {},
     "output_type": "execute_result"
    }
   ],
   "source": [
    "# data_ml_100k = Dataset.load_builtin(name=u'ml-100k', prompt=False)\n",
    "# data_ml_100k"
   ]
  },
  {
   "cell_type": "code",
   "execution_count": 7,
   "id": "ef1c781a-e076-45de-9d53-fd16405cdca5",
   "metadata": {},
   "outputs": [
    {
     "data": {
      "text/html": [
       "<div>\n",
       "<style scoped>\n",
       "    .dataframe tbody tr th:only-of-type {\n",
       "        vertical-align: middle;\n",
       "    }\n",
       "\n",
       "    .dataframe tbody tr th {\n",
       "        vertical-align: top;\n",
       "    }\n",
       "\n",
       "    .dataframe thead th {\n",
       "        text-align: right;\n",
       "    }\n",
       "</style>\n",
       "<table border=\"1\" class=\"dataframe\">\n",
       "  <thead>\n",
       "    <tr style=\"text-align: right;\">\n",
       "      <th></th>\n",
       "      <th>userid</th>\n",
       "      <th>itemid</th>\n",
       "      <th>rating</th>\n",
       "      <th>timestamp</th>\n",
       "    </tr>\n",
       "  </thead>\n",
       "  <tbody>\n",
       "    <tr>\n",
       "      <th>99995</th>\n",
       "      <td>880</td>\n",
       "      <td>476</td>\n",
       "      <td>3</td>\n",
       "      <td>880175444</td>\n",
       "    </tr>\n",
       "    <tr>\n",
       "      <th>99996</th>\n",
       "      <td>716</td>\n",
       "      <td>204</td>\n",
       "      <td>5</td>\n",
       "      <td>879795543</td>\n",
       "    </tr>\n",
       "    <tr>\n",
       "      <th>99997</th>\n",
       "      <td>276</td>\n",
       "      <td>1090</td>\n",
       "      <td>1</td>\n",
       "      <td>874795795</td>\n",
       "    </tr>\n",
       "    <tr>\n",
       "      <th>99998</th>\n",
       "      <td>13</td>\n",
       "      <td>225</td>\n",
       "      <td>2</td>\n",
       "      <td>882399156</td>\n",
       "    </tr>\n",
       "    <tr>\n",
       "      <th>99999</th>\n",
       "      <td>12</td>\n",
       "      <td>203</td>\n",
       "      <td>3</td>\n",
       "      <td>879959583</td>\n",
       "    </tr>\n",
       "  </tbody>\n",
       "</table>\n",
       "</div>"
      ],
      "text/plain": [
       "       userid  itemid  rating  timestamp\n",
       "99995     880     476       3  880175444\n",
       "99996     716     204       5  879795543\n",
       "99997     276    1090       1  874795795\n",
       "99998      13     225       2  882399156\n",
       "99999      12     203       3  879959583"
      ]
     },
     "execution_count": 7,
     "metadata": {},
     "output_type": "execute_result"
    }
   ],
   "source": [
    "ML100K_URL = 'http://files.grouplens.org/datasets/movielens/ml-100k/u.data'\n",
    "df = pd.read_csv(ML100K_URL, names=[\"userid\", \"itemid\", \"rating\", \"timestamp\"], sep=\"\\t\")\n",
    "df.tail()"
   ]
  },
  {
   "cell_type": "code",
   "execution_count": 8,
   "id": "31807910-4ae6-4ba0-b6cf-ab754b03eb4d",
   "metadata": {},
   "outputs": [],
   "source": [
    "reader = Reader(rating_scale=(1, 5))\n",
    "data = Dataset.load_from_df(df_custom[[\"userid\", \"itemid\", \"rating\"]], reader)"
   ]
  },
  {
   "cell_type": "code",
   "execution_count": 10,
   "id": "94e3405c-776f-4da8-bd71-069b10862cdf",
   "metadata": {},
   "outputs": [],
   "source": [
    "trainset, testset = train_test_split(data_custom, test_size=.2)"
   ]
  },
  {
   "cell_type": "code",
   "execution_count": 14,
   "id": "327e46fe-589b-4f34-983b-9584e2ddfbef",
   "metadata": {},
   "outputs": [
    {
     "name": "stdout",
     "output_type": "stream",
     "text": [
      "RMSE: 0.9338\n",
      "MSE: 0.8720\n",
      "MAE:  0.7378\n",
      "FCP:  0.7007\n"
     ]
    }
   ],
   "source": [
    "algo = SVD()\n",
    "algo.fit(trainset)\n",
    "pred = algo.test(testset)\n",
    "_ = accuracy.rmse(pred),accuracy.mse(pred),accuracy.mae(pred),accuracy.fcp(pred)"
   ]
  },
  {
   "cell_type": "markdown",
   "id": "105c657e-310e-4481-8b7b-120a77dc4aff",
   "metadata": {},
   "source": [
    "## 参考文献\n",
    "\n",
    "- [行列分解  |  Machine Learning  |  Google for Developers](https://developers.google.com/machine-learning/recommendation/collaborative/matrix?hl=ja)\n",
    "- [Matrix Factorization(MF) - アルゴリズム解説](https://blog.octopt.com/matrix-factorization/)"
   ]
  },
  {
   "cell_type": "code",
   "execution_count": null,
   "id": "7309cc5d-9794-42fe-b8af-d970b22783c9",
   "metadata": {},
   "outputs": [],
   "source": []
  }
 ],
 "metadata": {
  "kernelspec": {
   "display_name": "Python 3 (ipykernel)",
   "language": "python",
   "name": "python3"
  },
  "language_info": {
   "codemirror_mode": {
    "name": "ipython",
    "version": 3
   },
   "file_extension": ".py",
   "mimetype": "text/x-python",
   "name": "python",
   "nbconvert_exporter": "python",
   "pygments_lexer": "ipython3",
   "version": "3.10.15"
  }
 },
 "nbformat": 4,
 "nbformat_minor": 5
}
