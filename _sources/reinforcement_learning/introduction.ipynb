{
 "cells": [
  {
   "cell_type": "markdown",
   "id": "3e367f21-3b01-4032-b85a-bfc8a839ed71",
   "metadata": {},
   "source": [
    "# 強化学習\n",
    "\n",
    "**強化学習**（reinforcement learning）はエージェント（行動する主体）が環境と相互作用し、報酬というフィードバックを受けて試行錯誤しながら学習していく学習方法。\n"
   ]
  },
  {
   "cell_type": "markdown",
   "id": "e34d60b1-7862-4dab-8100-8165fae73c37",
   "metadata": {},
   "source": [
    "## バンディット問題\n",
    "\n",
    "**バンディット問題**（bandit problem）は、複数のスロットマシン（bandit）が存在していてどのスロットマシンが最も多い平均的なリターンをもたらすのかがわからない中で、最適なスロットマシンを選んで合計のリターンを最大化する問題。\n",
    "\n",
    "各スロットマシンのリターンを推測するためにレバーを引いていく「探索（exploration）」と、リターンが多いスロットマシンのレバーを引く「活用（exploitation）」の2つの行動をとることができるが、探索ばかりをしていてもリターンの最大化ができず、かといって活用ばかりをしていてもよりよいスロットマシンの存在を見逃すリスクがあるというトレードオフが存在する。\n",
    "\n",
    "強化学習の枠組みでは、スロットマシンは**環境**（environment）、問題に取り組むプレイヤーは**エージェント**（agent）と呼ばれ、得られるリターンのことは**報酬**（reward）と呼ばれる。"
   ]
  },
  {
   "cell_type": "markdown",
   "id": "6fd1f34f-feca-48f3-acc7-9c00c8cc7749",
   "metadata": {},
   "source": [
    "### 例\n",
    "\n",
    "報酬が$[0, 1]$の一様分布$U(0, 1)$に従うスロットマシン（環境）$a$と、報酬が平均$0.7$、分散$0.1$の正規分布$N(0.7, 0.1)$に従うスロットマシン$b$があるとする。\n"
   ]
  },
  {
   "cell_type": "code",
   "execution_count": 7,
   "id": "abce3d18-74e7-410a-bd07-3c431599dd8c",
   "metadata": {
    "tags": [
     "hide-input"
    ]
   },
   "outputs": [
    {
     "data": {
      "text/plain": [
       "[<matplotlib.lines.Line2D at 0x7f710f701b20>]"
      ]
     },
     "execution_count": 7,
     "metadata": {},
     "output_type": "execute_result"
    },
    {
     "data": {
      "image/png": "[encoded data removed]",
      "text/plain": [
       "<Figure size 432x144 with 2 Axes>"
      ]
     },
     "metadata": {
      "needs_background": "light"
     },
     "output_type": "display_data"
    }
   ],
   "source": [
    "import numpy as np\n",
    "from scipy import stats\n",
    "import matplotlib.pyplot as plt\n",
    "import japanize_matplotlib\n",
    "\n",
    "np.random.seed(0)\n",
    "x = np.linspace(0, 1, 100)\n",
    "a = stats.uniform.pdf(x, 0, 1)\n",
    "b = stats.norm.pdf(x, loc=0.7, scale=0.1)\n",
    "\n",
    "fig, ax = plt.subplots(ncols=2, figsize=[6, 2])\n",
    "ax[0].plot(x, a)\n",
    "ax[1].plot(x, b)"
   ]
  },
  {
   "cell_type": "code",
   "execution_count": null,
   "id": "44ea162b-d27d-419e-9f7c-1a79e6697bec",
   "metadata": {},
   "outputs": [],
   "source": []
  },
  {
   "cell_type": "markdown",
   "id": "d22745f0-2d76-425e-9344-f080ce4c81e9",
   "metadata": {},
   "source": [
    "## マルコフ決定過程\n",
    "\n",
    "1時点前の状態にのみ依存することを**マルコフ性**といい、\n",
    "\n",
    "**マルコフ決定過程**（Markov Decision Process: MDP）\n"
   ]
  },
  {
   "cell_type": "markdown",
   "id": "a3a65044-548a-4f36-9e12-fb1ecddf3554",
   "metadata": {},
   "source": [
    "## 参考\n",
    "\n",
    "- [andri27-ts/Reinforcement-Learning: Learn Deep Reinforcement Learning in 60 days! Lectures & Code in Python. Reinforcement Learning + Deep Learning](https://github.com/andri27-ts/Reinforcement-Learning)\n",
    "  - 60日かけて学ぶ教材"
   ]
  },
  {
   "cell_type": "code",
   "execution_count": null,
   "id": "589a2e36-56e3-48ba-aa02-885a5515fa04",
   "metadata": {},
   "outputs": [],
   "source": []
  }
 ],
 "metadata": {
  "kernelspec": {
   "display_name": "Python 3 (ipykernel)",
   "language": "python",
   "name": "python3"
  },
  "language_info": {
   "codemirror_mode": {
    "name": "ipython",
    "version": 3
   },
   "file_extension": ".py",
   "mimetype": "text/x-python",
   "name": "python",
   "nbconvert_exporter": "python",
   "pygments_lexer": "ipython3",
   "version": "3.9.17"
  }
 },
 "nbformat": 4,
 "nbformat_minor": 5
}
