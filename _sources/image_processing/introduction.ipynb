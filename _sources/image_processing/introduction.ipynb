{
 "cells": [
  {
   "cell_type": "markdown",
   "id": "3c72b425-26e7-4adf-8664-36c42d53f8f9",
   "metadata": {},
   "source": [
    "# 画像認識\n",
    "\n",
    "後で書く\n",
    "\n",
    "- 画像認識技術の変遷：[局所特徴量：画像認識における特徴表現獲得の変遷 - Speaker Deck](https://speakerdeck.com/hf149/ju-suo-te-zheng-liang-hua-xiang-ren-shi-niokerute-zheng-biao-xian-huo-de-falsebian-qian?slide=2)\n",
    "- 特徴抽出\n",
    "- ディープラーニングを使用した画像認識"
   ]
  },
  {
   "cell_type": "code",
   "execution_count": null,
   "id": "0a836754-3d1d-424b-8683-fd567c6e8b4b",
   "metadata": {},
   "outputs": [],
   "source": []
  }
 ],
 "metadata": {
  "kernelspec": {
   "display_name": "Python 3",
   "language": "python",
   "name": "python3"
  },
  "language_info": {
   "codemirror_mode": {
    "name": "ipython",
    "version": 3
   },
   "file_extension": ".py",
   "mimetype": "text/x-python",
   "name": "python",
   "nbconvert_exporter": "python",
   "pygments_lexer": "ipython3",
   "version": "3.8.10"
  }
 },
 "nbformat": 4,
 "nbformat_minor": 5
}
