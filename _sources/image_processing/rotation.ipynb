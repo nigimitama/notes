{
 "cells": [
  {
   "cell_type": "markdown",
   "id": "ae2a5fee-1387-4741-afee-c6bb12be74a9",
   "metadata": {},
   "source": [
    "# 回転"
   ]
  },
  {
   "cell_type": "markdown",
   "id": "3d59c848-d5c1-4e45-aafc-7b43a612c3a0",
   "metadata": {},
   "source": [
    "スキャン時に少し傾けてスキャンしてしまった画像があるとする。\n",
    "\n",
    "画像の分析の前処理として、画像の傾きを水平に直してから処理したい…という状況を想定する"
   ]
  },
  {
   "cell_type": "markdown",
   "id": "05e76c86-ae04-4e2f-b7e6-6dca628266d0",
   "metadata": {},
   "source": [
    "## 表がある場合\n",
    "\n",
    "スキャンした画像が会計の資料などで表が中心の画像だと、表の直線を検知して傾きを計算するのがよさそう\n",
    "\n",
    "1. cannyでエッジを推定\n",
    "2. ハフ変換で表の直線を推定\n",
    "3. 直線の角度を計算\n",
    "4. 補正すべき角度を計算\n",
    "5. 回転して補正"
   ]
  },
  {
   "cell_type": "markdown",
   "id": "c5e595d4-e1ab-45f7-9b3a-54a5272f361f",
   "metadata": {},
   "source": [
    "### Canny\n",
    "\n",
    "[OpenCV: Canny Edge Detection](https://docs.opencv.org/4.x/da/d22/tutorial_py_canny.html)\n"
   ]
  },
  {
   "cell_type": "markdown",
   "id": "ae41f855-179b-4b63-8c7f-dcc20ccb2403",
   "metadata": {},
   "source": [
    "### ハフ変換\n",
    "\n",
    "- [OpenCV: Hough Line Transform](https://docs.opencv.org/3.4/d9/db0/tutorial_hough_lines.html)\n",
    "- [ハフ変換 (Hough Transform) による直線・円の検出 | CVMLエキスパートガイド](https://cvml-expertguide.net/terms/cv/image-feature-detection/hough-transform/)\n",
    "- [ハフ変換による直線検出 — OpenCV-Python Tutorials 1 documentation](http://labs.eecs.tottori-u.ac.jp/sd/Member/oyamada/OpenCV/html/py_tutorials/py_imgproc/py_houghlines/py_houghlines.html)"
   ]
  },
  {
   "cell_type": "markdown",
   "id": "b214b784-3bdf-4398-86f9-fa6d9110ab01",
   "metadata": {},
   "source": [
    "### 回転\n",
    "\n",
    "[OpenCV: Affine Transformations](https://docs.opencv.org/3.4/d4/d61/tutorial_warp_affine.html)"
   ]
  },
  {
   "cell_type": "markdown",
   "id": "d28a0bd0-7a06-4a8c-9e49-ad2c7772dd19",
   "metadata": {},
   "source": [
    "```python\n",
    "import cv2\n",
    "edge = cv2.Canny()\n",
    "lines = cv2.HoughLinesP(edge, rho=1, theta = np.pi/180)\n",
    "rot_mat = cv.getRotationMatrix2D( center, angle, scale )\n",
    "warp_rotate_dst = cv.warpAffine(warp_dst, rot_mat, (warp_dst.shape[1], warp_dst.shape[0]))\n",
    "```"
   ]
  },
  {
   "cell_type": "code",
   "execution_count": null,
   "id": "7fc72050-9b0e-4fd9-992f-945667d803bf",
   "metadata": {},
   "outputs": [],
   "source": []
  }
 ],
 "metadata": {
  "kernelspec": {
   "display_name": "Python 3 (ipykernel)",
   "language": "python",
   "name": "python3"
  },
  "language_info": {
   "codemirror_mode": {
    "name": "ipython",
    "version": 3
   },
   "file_extension": ".py",
   "mimetype": "text/x-python",
   "name": "python",
   "nbconvert_exporter": "python",
   "pygments_lexer": "ipython3",
   "version": "3.9.18"
  }
 },
 "nbformat": 4,
 "nbformat_minor": 5
}
