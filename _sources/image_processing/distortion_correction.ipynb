{
 "cells": [
  {
   "cell_type": "markdown",
   "id": "17f54a2f-f674-4358-bf19-de649c0bb1b8",
   "metadata": {},
   "source": [
    "# 歪み補正・台形補正\n",
    "\n",
    "まっすぐ撮影できずに台形になっているような状態はperspective歪みなどと呼ばれる\n",
    "\n",
    "**射影変換** （projective transformation）によって台形補正を行う"
   ]
  },
  {
   "cell_type": "markdown",
   "id": "da8167d4-f905-484b-b988-db59c9491369",
   "metadata": {},
   "source": [
    "\n",
    ":::{margin}\n",
    "射影変換は **透視変換** （perspective transformation）や **ホモグラフィ変換** （homography transformation）とも呼ばれる。\n",
    ":::"
   ]
  },
  {
   "cell_type": "markdown",
   "id": "84eb8f04-02ce-4ec1-9be7-87315886b05e",
   "metadata": {},
   "source": [
    "## 方法\n",
    "\n",
    "例えば画像内に長方形になるべきものが写っている場合、4点を検出して、まっすぐな歪みのない長方形にアフィン変換してやればよい。\n",
    "\n",
    "点はコーナー検出（corner detection）など"
   ]
  },
  {
   "cell_type": "markdown",
   "id": "eb8070a3-9ab6-455c-8aeb-498fd71b0c03",
   "metadata": {},
   "source": []
  },
  {
   "cell_type": "markdown",
   "id": "f45e56cb-0e73-43a9-b05e-e949de8b75de",
   "metadata": {},
   "source": [
    "## 参考\n",
    "\n",
    "- [射影変換により画像から距離を推定する #Python - Qiita](https://qiita.com/ydclab_0003/items/1fc3d1468a39623bae60)\n",
    "- [Skews and Perspectives with OpenCV - FreedomVC](https://www.freedomvc.com/index.php/2021/05/23/skews-and-perspectives/)\n",
    "- [Python, OpenCVで幾何変換（アフィン変換・射影変換など） | note.nkmk.me](https://note.nkmk.me/python-opencv-warp-affine-perspective/)"
   ]
  }
 ],
 "metadata": {
  "kernelspec": {
   "display_name": "Python 3 (ipykernel)",
   "language": "python",
   "name": "python3"
  },
  "language_info": {
   "codemirror_mode": {
    "name": "ipython",
    "version": 3
   },
   "file_extension": ".py",
   "mimetype": "text/x-python",
   "name": "python",
   "nbconvert_exporter": "python",
   "pygments_lexer": "ipython3",
   "version": "3.10.14"
  }
 },
 "nbformat": 4,
 "nbformat_minor": 5
}
