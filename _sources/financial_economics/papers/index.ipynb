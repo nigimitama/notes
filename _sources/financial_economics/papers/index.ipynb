{
 "cells": [
  {
   "cell_type": "markdown",
   "id": "ce1e7de7-f23a-4c03-b24b-42ad9b9c065a",
   "metadata": {},
   "source": [
    "# 論文メモ\n",
    "\n",
    ":::{tableofcontents}\n",
    ":::"
   ]
  }
 ],
 "metadata": {
  "kernelspec": {
   "display_name": "Python 3 (ipykernel)",
   "language": "python",
   "name": "python3"
  },
  "language_info": {
   "codemirror_mode": {
    "name": "ipython",
    "version": 3
   },
   "file_extension": ".py",
   "mimetype": "text/x-python",
   "name": "python",
   "nbconvert_exporter": "python",
   "pygments_lexer": "ipython3",
   "version": "3.9.17"
  }
 },
 "nbformat": 4,
 "nbformat_minor": 5
}
