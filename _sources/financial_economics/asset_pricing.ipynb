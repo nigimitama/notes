{
 "cells": [
  {
   "cell_type": "markdown",
   "id": "b91e7fc8-8300-40a2-893a-34200585b9ca",
   "metadata": {},
   "source": [
    "# Asset Pricing"
   ]
  },
  {
   "cell_type": "markdown",
   "id": "58a32d97-9eeb-4454-abc9-c71e24f51562",
   "metadata": {},
   "source": [
    "## Asset Pricing Theory (APT)\n",
    "\n",
    "\n",
    "RossのAPT\n"
   ]
  },
  {
   "cell_type": "markdown",
   "id": "4cfd1f2d-0602-4088-b710-0cf425ad3351",
   "metadata": {},
   "source": [
    "## 最近の動向\n",
    "\n",
    "[Giglio, S., Kelly, B. T., & Xiu, D. (2021). Factor models, machine learning, and asset pricing. Machine Learning, and Asset Pricing (October 15, 2021).](https://economics.smu.edu.sg/sites/economics.smu.edu.sg/files/economics/pdf/Seminar/2021/2021120301.pdf)\n",
    "\n"
   ]
  },
  {
   "cell_type": "code",
   "execution_count": null,
   "id": "4fd88559-79cf-4b41-a558-dcbcec9f8439",
   "metadata": {},
   "outputs": [],
   "source": []
  }
 ],
 "metadata": {
  "kernelspec": {
   "display_name": "Python 3 (ipykernel)",
   "language": "python",
   "name": "python3"
  },
  "language_info": {
   "codemirror_mode": {
    "name": "ipython",
    "version": 3
   },
   "file_extension": ".py",
   "mimetype": "text/x-python",
   "name": "python",
   "nbconvert_exporter": "python",
   "pygments_lexer": "ipython3",
   "version": "3.9.17"
  }
 },
 "nbformat": 4,
 "nbformat_minor": 5
}
