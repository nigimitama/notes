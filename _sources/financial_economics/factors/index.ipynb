{
 "cells": [
  {
   "cell_type": "markdown",
   "id": "e545a2b0-8fd1-4e7b-ab2d-901253765bee",
   "metadata": {},
   "source": [
    "# Multiple Factor Models"
   ]
  },
  {
   "cell_type": "markdown",
   "id": "81109af9-9394-49fc-8ca6-74f6c17f5b0b",
   "metadata": {},
   "source": [
    ":::{tableofcontents}\n",
    ":::"
   ]
  },
  {
   "cell_type": "markdown",
   "id": "7c315014-4961-47c6-b73d-26eed6e8bf17",
   "metadata": {},
   "source": []
  }
 ],
 "metadata": {
  "kernelspec": {
   "display_name": "Python 3 (ipykernel)",
   "language": "python",
   "name": "python3"
  },
  "language_info": {
   "codemirror_mode": {
    "name": "ipython",
    "version": 3
   },
   "file_extension": ".py",
   "mimetype": "text/x-python",
   "name": "python",
   "nbconvert_exporter": "python",
   "pygments_lexer": "ipython3",
   "version": "3.10.14"
  }
 },
 "nbformat": 4,
 "nbformat_minor": 5
}
