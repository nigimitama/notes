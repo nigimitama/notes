{
 "cells": [
  {
   "cell_type": "markdown",
   "id": "e275cb6e-ed55-477d-b32e-ec5aa3f39e56",
   "metadata": {},
   "source": [
    "# Multiple Factor Models"
   ]
  },
  {
   "cell_type": "markdown",
   "id": "03906db4-576a-42ef-b398-4449a7dbaa09",
   "metadata": {},
   "source": [
    "[Multiple factor models - Wikipedia](https://en.wikipedia.org/wiki/Multiple_factor_models)"
   ]
  },
  {
   "cell_type": "code",
   "execution_count": null,
   "id": "605a829f-31fc-4de5-849f-cb597ea9a4b5",
   "metadata": {},
   "outputs": [],
   "source": []
  },
  {
   "cell_type": "code",
   "execution_count": null,
   "id": "2c05071e-e20a-4231-9c74-1f44273adaac",
   "metadata": {},
   "outputs": [],
   "source": []
  }
 ],
 "metadata": {
  "kernelspec": {
   "display_name": "Python 3 (ipykernel)",
   "language": "python",
   "name": "python3"
  },
  "language_info": {
   "codemirror_mode": {
    "name": "ipython",
    "version": 3
   },
   "file_extension": ".py",
   "mimetype": "text/x-python",
   "name": "python",
   "nbconvert_exporter": "python",
   "pygments_lexer": "ipython3",
   "version": "3.10.14"
  }
 },
 "nbformat": 4,
 "nbformat_minor": 5
}
