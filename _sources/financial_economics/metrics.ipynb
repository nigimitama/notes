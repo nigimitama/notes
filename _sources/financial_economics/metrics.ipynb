{
 "cells": [
  {
   "cell_type": "markdown",
   "id": "21acdc96-6048-4dbe-b2c3-94d6c94dd576",
   "metadata": {},
   "source": [
    "# ファイナンスの指標たち\n",
    "\n"
   ]
  },
  {
   "cell_type": "markdown",
   "id": "dba83e3c-45a0-452e-a7f8-509071e1f471",
   "metadata": {},
   "source": [
    "## 株価関連の指標\n",
    "\n",
    "### PER (Price Earnings Ratio)\n",
    "\n",
    "PER (Price Earnings Ratio；株価収益率)\n",
    "\n",
    "$$\n",
    "PER = \\frac{株価}{一株あたり利益}\n",
    "$$\n"
   ]
  },
  {
   "cell_type": "markdown",
   "id": "1dec2975-0c1d-4ec5-86e4-9ba9be6cf0fd",
   "metadata": {},
   "source": [
    ":::{card} PER＝益回りの逆数\n",
    "\n",
    "益回り＝その企業の1株あたり利益が1年間に株価の何％を稼ぐか、PERの逆数\n",
    "\n",
    "$$\n",
    "益回り\n",
    "= \\frac{一株あたり利益}{株価}\n",
    "$$\n",
    "\n",
    "PERは益回りの逆数\n",
    "\n",
    "$$\n",
    "PER\n",
    "= \\frac{株価}{一株あたり利益}\n",
    "= \\frac{1}{益回り}\n",
    "= \\frac{1}{国債利回り+リスクプレミアム}\n",
    "$$\n",
    "\n",
    "- [株式益利回り│初めてでもわかりやすい用語集│ＳＭＢＣ日興証券](https://www.smbcnikko.co.jp/terms/japan/ka/J0800.html)\n",
    "- [買われ過ぎか否か､｢益回り｣で判断する｜会社四季報オンライン](https://shikiho.toyokeizai.net/news/0/311170)\n",
    "- [日経平均株価のPERとリスクプレミアム](https://www.smd-am.co.jp/market/ichikawa/2018/07/irepo180704.pdf)\n",
    "- [株式投資と経済学｜飯田泰之](https://note.com/iida_yasuyuki/n/ndc1dafcfe985?from=notice)\n",
    ":::"
   ]
  },
  {
   "cell_type": "markdown",
   "id": "03a9652b-0ef6-4435-83a7-06edf5afcf00",
   "metadata": {},
   "source": [
    "### PBR（Price Book-value Ratio; 株価純資産倍率）\n",
    "\n",
    "$$\n",
    "PBR = \\frac{株価}{BPS}\n",
    "$$\n",
    "\n",
    "BPS: Book-value Per Share\n",
    "\n",
    "変形すると$株価= PBR \\times BPS$なので、仮にPBRが変わらなければBPSが上がることで株価が上がっていくことになる。ただし常にPBRが同じとは限らない\n",
    "\n",
    "$$\n",
    "\\begin{align}\n",
    "PBR\n",
    "&= \\frac{株価}{EPS} \\times \\frac{EPS}{BPS}\\\\\n",
    "&= PER \\times ROE\\\\\n",
    "\\end{align}\n",
    "$$\n",
    "\n",
    "という関係もある。企業の成長性が評価されればPERが上昇し、PBRも上昇する。ROEが上昇してもPBRは上昇する\n"
   ]
  },
  {
   "cell_type": "markdown",
   "id": "80ec3fe3-0778-4aa1-9b67-4119252f8d10",
   "metadata": {},
   "source": [
    "### ROE（Return on Equity; 自己資本利益率）\n",
    "\n",
    "$$\n",
    "ROE = \\frac{純利益}{株主資本} = \\frac{EPS}{BPS}\n",
    "$$\n",
    "\n",
    "株主が出資したお金（株主資本・自己資本）を元手に、どれだけ利益を挙げられたのか。\n",
    "\n",
    "利益から配当金などを払った残りは株主資本として積み上がっていく。つまり、株主資本の増加率に近い。\n",
    "\n",
    "\n",
    ":::{card} ROEが25%の企業は3年後に株主資本が何倍になるか？\n",
    "\n",
    "$$\n",
    "1.25^3 = 1.95\n",
    "$$\n",
    "\n",
    "つまり、約2倍になる。\n",
    "\n",
    "成長株を探すにおいてROEが重視されるのはこのため\n",
    ":::\n",
    "\n",
    "\n",
    "#### デュポンシステム\n",
    "\n",
    "デュポンシステムではROEを3つに分解する\n",
    "$$\n",
    "\\begin{aligned}\n",
    "ROE &= 売上高純利益率 \\times 総資産回転率 \\times 財務レバレッジ\\\\\n",
    "\\frac{当期純利益}{株主資本}\n",
    "&=\n",
    "\\frac{当期純利益}{売上高}\n",
    "\\times\n",
    "\\frac{売上高}{総資産}\n",
    "\\times\n",
    "\\frac{総資産}{株主資本}\n",
    "\\end{aligned}\n",
    "$$\n",
    "\n",
    "\n",
    "\n"
   ]
  },
  {
   "cell_type": "markdown",
   "id": "8792e6fa-1347-43b1-b724-01e43e7da842",
   "metadata": {},
   "source": [
    "#### 理論株価との関係\n",
    "\n",
    "[理論株価 = PER × BPS × ROE | ビジネスハック 戦略/経営/会計](https://management-accounting.biz/theoretical-stock-price-per-bps-roe/)"
   ]
  },
  {
   "cell_type": "markdown",
   "id": "89ca7917-a2cd-48ee-aafc-d507ff465886",
   "metadata": {},
   "source": [
    "## リターン関連"
   ]
  },
  {
   "cell_type": "markdown",
   "id": "7e783e53-0ef1-44c6-a1db-4ebe85c230cb",
   "metadata": {},
   "source": [
    "### リスク調整後リターン\n",
    "\n",
    "リターンだけでなくリスクも考えなければならない、という平均分散モデル的な考え方を反映した指標\n",
    "\n",
    "代表的なものはシャープ・レシオで、安全資産のリターン$R_0$と危険資産$m$のリターン$R_m$を使って\n",
    "\n",
    "$$\n",
    "\\text{Sharp Ratio}_m = \\frac{リスク・プレミアム}{ボラティリティ} = \\frac{E[R_m] - E[R_0]}{\\sqrt{V[R_m]}}\n",
    "$$\n",
    "\n",
    "と定義される。\n",
    "\n",
    "シャープ・レシオはリターンが正規分布に従うときはよい指標だが、そうでないときはバイアスを孕むことが報告されている。（[Smerlak, 2023](https://arxiv.org/abs/2302.08829)）\n"
   ]
  },
  {
   "cell_type": "markdown",
   "id": "330261e6-6a4a-4375-b368-899f0d3ec85c",
   "metadata": {},
   "source": [
    "### Information Ratio (IR)\n",
    "\n",
    "> リスクを加味した超過収益（いわゆるアルファ）の尺度で超過収益獲得の効率性を示す数字として用いられている。この尺度は、対ベンチマークの超過収益率を超過収益率の標準偏差（いわゆるトラッキング・エラー）で割って計算する。\n",
    ">\n",
    "> 例えばトラッキング・エラーが4％、超過収益が2％のファンドの情報比は2％÷4％＝0.5となる。\n",
    "> \n",
    "> この数値が大きいほど、リスク1単位あたりの超過収益が高いことを示し、アクティブ運用の効率が高いということになる。\n",
    "> \n",
    "> [インフォメーション・レシオ（IR、情報レシオ）｜用語集｜企業年金連合会](https://www.pfa.or.jp/yogoshu/ai/ai07.html)"
   ]
  },
  {
   "cell_type": "markdown",
   "id": "311a0f10-10fe-437b-ac84-73fd76a05224",
   "metadata": {},
   "source": [
    "## 参考\n",
    "- [Smerlak, M. (2023). Great year, bad Sharpe? A note on the joint distribution of performance and risk-adjusted return. arXiv preprint arXiv:2302.08829.](https://arxiv.org/abs/2302.08829)"
   ]
  },
  {
   "cell_type": "code",
   "execution_count": null,
   "id": "e9a0c58f-9fb3-41ef-929f-0080f8824e33",
   "metadata": {},
   "outputs": [],
   "source": []
  }
 ],
 "metadata": {
  "kernelspec": {
   "display_name": "Python 3 (ipykernel)",
   "language": "python",
   "name": "python3"
  },
  "language_info": {
   "codemirror_mode": {
    "name": "ipython",
    "version": 3
   },
   "file_extension": ".py",
   "mimetype": "text/x-python",
   "name": "python",
   "nbconvert_exporter": "python",
   "pygments_lexer": "ipython3",
   "version": "3.10.14"
  }
 },
 "nbformat": 4,
 "nbformat_minor": 5
}
