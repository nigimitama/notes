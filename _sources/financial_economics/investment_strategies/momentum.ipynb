{
 "cells": [
  {
   "cell_type": "markdown",
   "id": "fd2d7604-a247-461f-aab8-e6498f4702d3",
   "metadata": {},
   "source": [
    "# モメンタム"
   ]
  },
  {
   "cell_type": "markdown",
   "id": "ea5e413e-3be4-4e26-84c0-571d73678863",
   "metadata": {},
   "source": [
    "### 定義\n",
    "\n",
    "モメンタム／リバーサル現象とは、マーケットで観測されるアノマリー（効率的市場仮説では説明が難しい現象）。\n",
    "\n",
    "モメンタム現象とは、「過去の一定期間に他の銘柄と比べてリターン上昇が大きかった（小さかった）銘柄群は、その後の一定期間においても相対的な上昇（下落）傾向を持続する」という順相関傾向を示す事象。リバーサル現象は逆相関傾向を示す事象。"
   ]
  },
  {
   "cell_type": "markdown",
   "id": "f03a1b16-a3f6-4a12-af43-fe0ae103fc0c",
   "metadata": {},
   "source": [
    "### モメンタム・クラッシュ\n",
    "\n",
    "リーマンショックのようなクラッシュをきっかけに、モメンタムが弱まる現象\n",
    "\n",
    "- [「順張り投資」のパフォーマンス低下が示唆するもの（安達 誠司） | マネー現代 | 講談社](https://gendai.media/articles/-/52570?page=2)\n",
    "- [クオンツとAI／機械学習の融合（モメンタム／リバーサル概論）2｜吉野貴晶のクオンツトピックス｜投資信託のニッセイアセットマネジメント](https://www.nam.co.jp/market/column/quantstopics/2019/190201_2.html)"
   ]
  },
  {
   "cell_type": "markdown",
   "id": "1d3bed7f-cf6c-4d6a-8ddd-f9781a6e4972",
   "metadata": {},
   "source": [
    "## モメンタムの予測"
   ]
  },
  {
   "cell_type": "markdown",
   "id": "0e73a5ef-0746-4575-a9a4-08847eae9806",
   "metadata": {},
   "source": [
    ":::{card} モメンタム予測\n",
    "\n",
    "[NGBoostを用いた市場マクロ変数によるモメンタム効果の将来予測｜吉野貴晶のクオンツトピックス｜投資信託のニッセイアセットマネジメント](https://www.nam.co.jp/market/column/quantstopics/2020/200618.html)\n",
    "\n",
    "- 説明変数: 月次の[市場マクロ変数](https://www.nam.co.jp/market/column/quantstopics/2020/200417.html) 12次元\n",
    "- 目的変数: 月次モメンタムファクタースプレッドリターン\n",
    "- 方策：月次モメンタムファクタースプレッドリターンが0%以上の予測なら買い、未満なら売り\n",
    "- 結果：常に買うよりは累積リターンが多い。正解率54.7%\n",
    "\n",
    ":::"
   ]
  },
  {
   "cell_type": "markdown",
   "id": "07549300-a9d5-406d-b061-a5da3999e9e8",
   "metadata": {},
   "source": [
    ":::{card} ファクタースプレッドリターン\n",
    "\n",
    "1. 当月のファクター値（BPR等）に基づいて全銘柄を5個のグループに分ける（等ウェイト）。\n",
    "2. その5個のグループにおける、上位1/5と下位1/5に該当するグループの翌月リターンの差の値をファクタースプレッドリターンという\n",
    ":::"
   ]
  },
  {
   "cell_type": "code",
   "execution_count": null,
   "id": "6b9bd0a2-619e-4bbe-8e23-27238b14c264",
   "metadata": {},
   "outputs": [],
   "source": []
  }
 ],
 "metadata": {
  "kernelspec": {
   "display_name": "Python 3 (ipykernel)",
   "language": "python",
   "name": "python3"
  },
  "language_info": {
   "codemirror_mode": {
    "name": "ipython",
    "version": 3
   },
   "file_extension": ".py",
   "mimetype": "text/x-python",
   "name": "python",
   "nbconvert_exporter": "python",
   "pygments_lexer": "ipython3",
   "version": "3.10.15"
  }
 },
 "nbformat": 4,
 "nbformat_minor": 5
}
