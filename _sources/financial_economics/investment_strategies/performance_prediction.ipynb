{
 "cells": [
  {
   "cell_type": "markdown",
   "id": "9fe9ac27-2b8d-4703-a6cd-1c809fa38ef4",
   "metadata": {},
   "source": [
    "# 業績予想\n",
    "\n",
    "\n"
   ]
  },
  {
   "cell_type": "markdown",
   "id": "5629fc89-a728-4396-b038-6d007d6c54fb",
   "metadata": {},
   "source": [
    ":::{admonition} [PART3.業績予測戦略の本質について【日本株データ分析】 - YouTube](https://www.youtube.com/watch?v=ZIt0x8kFO-8&ab_channel=%E3%82%B9%E3%83%9E%E3%83%BC%E3%83%88%E6%8A%95%E8%B3%87%E3%83%81%E3%83%A3%E3%83%B3%E3%83%8D%E3%83%ABbyUKI%26Hoheto)\n",
    "\n",
    "**業績の予測はできる**\n",
    "\n",
    "- 6割程度の正解率にもっていける\n",
    "- SIG-FIN33の[屋嘉ほか (2024).](https://www.jstage.jst.go.jp/article/jsaisigtwo/2024/FIN-033/2024_68/_article/-char/ja) でも6割程度のAccuracy\n",
    "‐ 前回決算が良好なほうが予測しやすい→好業績が継続する傾向\n",
    "\n",
    "**業績がプラスでも株価が上がるとは限らない**\n",
    "\n",
    "- 銘柄や業種にもよる\n",
    "\n",
    "**サプライズの効果が大きい**\n",
    "\n",
    "- 前回不調な決算の銘柄を買っておく戦略がバックテスト上は良い\n",
    "\n",
    ":::"
   ]
  }
 ],
 "metadata": {
  "kernelspec": {
   "display_name": "Python 3 (ipykernel)",
   "language": "python",
   "name": "python3"
  },
  "language_info": {
   "codemirror_mode": {
    "name": "ipython",
    "version": 3
   },
   "file_extension": ".py",
   "mimetype": "text/x-python",
   "name": "python",
   "nbconvert_exporter": "python",
   "pygments_lexer": "ipython3",
   "version": "3.10.15"
  }
 },
 "nbformat": 4,
 "nbformat_minor": 5
}
