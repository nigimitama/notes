{
 "cells": [
  {
   "cell_type": "markdown",
   "id": "5040e187-86d2-4369-9a2e-69e7926c3397",
   "metadata": {},
   "source": [
    "# 「ダウの犬」戦略"
   ]
  },
  {
   "cell_type": "markdown",
   "id": "96a2550a-6c36-4784-b657-781022de8290",
   "metadata": {},
   "source": [
    "**ダウの犬** （dogs of the Dow）は、\n",
    "\n",
    "1. ダウの配当利回り上位10社に均等配分で投資する\n",
    "2. 1年毎にリバランスする\n",
    "\n",
    "という戦略。80年代にアメリカで流行った。\n",
    "\n",
    "80年代はアメリカの時価総額上位がダウ上位だったため（現在は上位はNASDAQなので成立しない）"
   ]
  },
  {
   "cell_type": "markdown",
   "id": "96bb5ae4-7eb7-4495-90b7-04720e143090",
   "metadata": {},
   "source": [
    "### 日本版「ダウの犬」戦略\n",
    "\n",
    "日本株だと、「東証コア30」がほぼ時価総額上位30社であり、配当利回り上位10社を選べばダウの犬戦略を再現できる。\n",
    "\n",
    "- [【基礎から分かる高配当株・REIT投資】個別株はNTTからスタートせよ／日本版「ダウの犬」戦略／乱高下するドル円相場／減配にならない銘柄の3条件【楽天証券チーフ・ストラテジスト 窪田真之】 - YouTube](https://www.youtube.com/watch?v=O1tgX195g5Y&ab_channel=PIVOT%E5%85%AC%E5%BC%8F%E3%83%81%E3%83%A3%E3%83%B3%E3%83%8D%E3%83%AB)\n",
    "- [高配当株は新NISAを待て　「ダウの犬」投資法の勘所　桝田大暉 - 日本経済新聞](https://www.nikkei.com/article/DGXZQOUB166WU0W3A810C2000000/#:~:text=%E3%83%80%E3%82%A6%E3%81%AE%E7%8A%AC%E3%81%A8%E3%81%AF,%E3%81%97%E3%80%81%E6%B3%A8%E7%9B%AE%E3%82%92%E6%B5%B4%E3%81%B3%E3%81%9F%E3%80%82)"
   ]
  }
 ],
 "metadata": {
  "kernelspec": {
   "display_name": "Python 3 (ipykernel)",
   "language": "python",
   "name": "python3"
  },
  "language_info": {
   "codemirror_mode": {
    "name": "ipython",
    "version": 3
   },
   "file_extension": ".py",
   "mimetype": "text/x-python",
   "name": "python",
   "nbconvert_exporter": "python",
   "pygments_lexer": "ipython3",
   "version": "3.10.14"
  }
 },
 "nbformat": 4,
 "nbformat_minor": 5
}
