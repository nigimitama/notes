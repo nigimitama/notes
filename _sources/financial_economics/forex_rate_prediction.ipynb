{
 "cells": [
  {
   "cell_type": "markdown",
   "id": "f638d932-90e3-4477-868c-2d8c20a459b4",
   "metadata": {},
   "source": [
    "# 為替レート予測"
   ]
  },
  {
   "cell_type": "markdown",
   "id": "8fc4cdaa-4bbe-4415-8e16-7fc4adfe5c07",
   "metadata": {},
   "source": [
    "[為替予測モデルの構築に挑戦したい人にむけての基礎知識](https://zenn.dev/gamella/articles/23311d3fa3c579)\n",
    "\n",
    "> 安定的に利益をだすためには5分後で80%、10%後で70%程度の精度が必要ですが、まぁ、やってみればわかりますが、これは不可能です。\n",
    "\n",
    "> それぞれの為替の強弱を予測し、ロング・ショート的に為替の予測を行います。これは為替同士の相関を利用するトレードになるので、実際にモデルを作っても、結構うまくいくのですが、突然のレジュームチェンジに非常に弱く、例えば、ADUやNZDとの関係性がいきなり変わったりして大変なことになります\n",
    "\n",
    "> よく話題にあがるのが、特定の時刻、特定の慣習、特定のオペレーションフローに依存した予測モデルです。"
   ]
  },
  {
   "cell_type": "code",
   "execution_count": null,
   "id": "7fc35bf8-7f0f-429d-a61c-d4f58ca7329c",
   "metadata": {},
   "outputs": [],
   "source": []
  }
 ],
 "metadata": {
  "kernelspec": {
   "display_name": "Python 3 (ipykernel)",
   "language": "python",
   "name": "python3"
  },
  "language_info": {
   "codemirror_mode": {
    "name": "ipython",
    "version": 3
   },
   "file_extension": ".py",
   "mimetype": "text/x-python",
   "name": "python",
   "nbconvert_exporter": "python",
   "pygments_lexer": "ipython3",
   "version": "3.10.15"
  }
 },
 "nbformat": 4,
 "nbformat_minor": 5
}
