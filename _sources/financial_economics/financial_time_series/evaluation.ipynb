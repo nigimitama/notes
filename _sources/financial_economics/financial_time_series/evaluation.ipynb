{
 "cells": [
  {
   "cell_type": "markdown",
   "id": "73d695a2-c484-46a2-b62f-99e2337f2b8e",
   "metadata": {},
   "source": [
    "# 時系列予測の性能検証"
   ]
  },
  {
   "cell_type": "markdown",
   "id": "622d34fe-ab9a-4096-a0c7-215d55165796",
   "metadata": {},
   "source": [
    "## Back-testing\n",
    "\n",
    "同じデータセットで訓練と評価を行うこと（train error）\n",
    "\n",
    "性能を過大評価しがち"
   ]
  },
  {
   "cell_type": "markdown",
   "id": "ae9742fc-a3d6-455e-9fe9-a8d4cfb20411",
   "metadata": {},
   "source": [
    "## Walk forward testing\n",
    "\n",
    "test setはtrain setより新しい時間軸のデータを使う。\n",
    "\n",
    "Scikit-learnの[TimeSeriesSplit](https://scikit-learn.org/stable/modules/generated/sklearn.model_selection.TimeSeriesSplit.html)みたいなやつ。\n",
    "\n",
    "```python\n",
    "data_period = [1, 2, 3, 4, 5, 6]\n",
    "\n",
    "Fold 0:\n",
    "  Train: index=[0]\n",
    "  Test:  index=[1]\n",
    "Fold 1:\n",
    "  Train: index=[0 1]\n",
    "  Test:  index=[2]\n",
    "Fold 2:\n",
    "  Train: index=[0 1 2]\n",
    "  Test:  index=[3]\n",
    "Fold 3:\n",
    "  Train: index=[0 1 2 3]\n",
    "  Test:  index=[4]\n",
    "Fold 4:\n",
    "  Train: index=[0 1 2 3 4]\n",
    "  Test:  index=[5]\n",
    "```\n",
    "\n",
    "\n",
    "pros:\n",
    "- back-testingのような過大評価をする可能性は低め\n",
    "\n",
    "cons:\n",
    "- サンプル数が少なくなりがち\n"
   ]
  },
  {
   "cell_type": "markdown",
   "id": "72ddb3ad-0d84-41f5-b6e0-88c08e4b35f8",
   "metadata": {},
   "source": [
    "### 関連文献\n",
    "\n",
    "- [Walk forward optimization - Wikipedia](https://en.wikipedia.org/wiki/Walk_forward_optimization)\n"
   ]
  },
  {
   "cell_type": "markdown",
   "id": "e115c01b-79a7-4982-b560-445ac9853c06",
   "metadata": {},
   "source": [
    "## Combinatorial Purged Cross-Validation (CPCV)\n",
    "\n",
    "**組み合わせパーシング交差検証（Combinatorial Purged Cross-Validation: CPCV)**\n",
    "\n",
    "- $_M C_K$通りのtrainとtestの組み合わせにする\n",
    "- データセットの部分集合の数を$M$とすると、そのうち$K$個をtest setにする\n",
    "\n",
    "pros:\n",
    "\n",
    "- metricsのサンプル数を増やせる"
   ]
  },
  {
   "cell_type": "markdown",
   "id": "f2f1cb23-cef9-4f3c-87d8-fb9558649326",
   "metadata": {},
   "source": [
    "### 関連文献\n",
    "\n",
    "- [CPCV(Combinatorial Purged Cross-Validation)法](https://zenn.dev/ymd/articles/fd08fb46bc868c)\n",
    "- [CPCV (Combinatorial Purged Cross-Validation) を理解したい](https://zenn.dev/sunbluesome/articles/0eaa8eea8375dd)"
   ]
  },
  {
   "cell_type": "markdown",
   "id": "09fc4920-ae6b-48df-8665-30e9b050d6c0",
   "metadata": {},
   "source": [
    "## 参考\n",
    "\n",
    "- [「バックテストって何？」統計学のプロ 藍崎さんに聞いてみた - YouTube](https://www.youtube.com/watch?v=_rDc7miu2GM)\n"
   ]
  },
  {
   "cell_type": "code",
   "execution_count": null,
   "id": "b5a2f912-112e-452f-bfe0-f3f98dd53a9a",
   "metadata": {},
   "outputs": [],
   "source": []
  }
 ],
 "metadata": {
  "kernelspec": {
   "display_name": "Python 3 (ipykernel)",
   "language": "python",
   "name": "python3"
  },
  "language_info": {
   "codemirror_mode": {
    "name": "ipython",
    "version": 3
   },
   "file_extension": ".py",
   "mimetype": "text/x-python",
   "name": "python",
   "nbconvert_exporter": "python",
   "pygments_lexer": "ipython3",
   "version": "3.9.18"
  }
 },
 "nbformat": 4,
 "nbformat_minor": 5
}
