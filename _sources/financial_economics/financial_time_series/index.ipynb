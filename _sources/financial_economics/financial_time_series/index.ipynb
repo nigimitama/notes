{
 "cells": [
  {
   "cell_type": "markdown",
   "id": "64fe6dd2-f179-4642-877e-30cd5eea3ba9",
   "metadata": {},
   "source": [
    "# 金融時系列解析"
   ]
  },
  {
   "cell_type": "markdown",
   "id": "bbfab461-373d-4f4e-b0e5-8e4db36fefbc",
   "metadata": {},
   "source": [
    ":::{tableofcontents}\n",
    ":::"
   ]
  },
  {
   "cell_type": "code",
   "execution_count": null,
   "id": "176d8d88-6c22-4200-9581-7bbee8f54016",
   "metadata": {},
   "outputs": [],
   "source": []
  }
 ],
 "metadata": {
  "kernelspec": {
   "display_name": "Python 3 (ipykernel)",
   "language": "python",
   "name": "python3"
  },
  "language_info": {
   "codemirror_mode": {
    "name": "ipython",
    "version": 3
   },
   "file_extension": ".py",
   "mimetype": "text/x-python",
   "name": "python",
   "nbconvert_exporter": "python",
   "pygments_lexer": "ipython3",
   "version": "3.9.18"
  }
 },
 "nbformat": 4,
 "nbformat_minor": 5
}
