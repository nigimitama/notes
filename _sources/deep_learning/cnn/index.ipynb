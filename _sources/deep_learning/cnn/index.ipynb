{
 "cells": [
  {
   "cell_type": "markdown",
   "id": "b1149e31-2709-470d-857b-0b5c03041c8b",
   "metadata": {},
   "source": [
    "# CNN\n",
    "\n",
    ":::{tableofcontents}\n",
    ":::"
   ]
  },
  {
   "cell_type": "code",
   "execution_count": null,
   "id": "5c0a7a89-9e65-430c-919b-a743b14ea325",
   "metadata": {},
   "outputs": [],
   "source": []
  }
 ],
 "metadata": {
  "kernelspec": {
   "display_name": "Python 3 (ipykernel)",
   "language": "python",
   "name": "python3"
  },
  "language_info": {
   "codemirror_mode": {
    "name": "ipython",
    "version": 3
   },
   "file_extension": ".py",
   "mimetype": "text/x-python",
   "name": "python",
   "nbconvert_exporter": "python",
   "pygments_lexer": "ipython3",
   "version": "3.9.16"
  }
 },
 "nbformat": 4,
 "nbformat_minor": 5
}
