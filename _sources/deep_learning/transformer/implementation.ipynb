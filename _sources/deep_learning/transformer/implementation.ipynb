{
 "cells": [
  {
   "cell_type": "markdown",
   "id": "d9268952-5e68-431f-8213-6cf4c697569b",
   "metadata": {},
   "source": [
    "# numpyでGPTを再現する"
   ]
  },
  {
   "cell_type": "markdown",
   "id": "4a8694a7-49b8-4890-9d66-8dc54f979b6c",
   "metadata": {},
   "source": [
    "TODO: 以下など参考にして書く\n",
    "\n",
    "- [GPT in 60 Lines of NumPy | Jay Mody](https://jaykmody.com/blog/gpt-from-scratch/)\n",
    "- github: [jaymody/picoGPT: An unnecessarily tiny implementation of GPT-2 in NumPy.](https://github.com/jaymody/picoGPT)"
   ]
  }
 ],
 "metadata": {
  "kernelspec": {
   "display_name": "Python 3 (ipykernel)",
   "language": "python",
   "name": "python3"
  },
  "language_info": {
   "codemirror_mode": {
    "name": "ipython",
    "version": 3
   },
   "file_extension": ".py",
   "mimetype": "text/x-python",
   "name": "python",
   "nbconvert_exporter": "python",
   "pygments_lexer": "ipython3",
   "version": "3.9.18"
  }
 },
 "nbformat": 4,
 "nbformat_minor": 5
}
