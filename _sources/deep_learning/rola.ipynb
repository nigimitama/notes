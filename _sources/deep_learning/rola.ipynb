{
 "cells": [
  {
   "cell_type": "markdown",
   "id": "8bdd6e75-6a1c-4104-a1a0-d0b380746ade",
   "metadata": {},
   "source": [
    "# RoLAとReLoLA\n",
    "\n",
    "## RoLA\n",
    "\n",
    "fine-tuningを高速化するやつ\n",
    "\n",
    "## ReLoLA\n",
    "\n",
    "事前学習を高速化するやつらしい\n",
    "\n",
    "[[2307.05695] Stack More Layers Differently: High-Rank Training Through Low-Rank Updates](https://arxiv.org/abs/2307.05695)\n",
    "\n"
   ]
  },
  {
   "cell_type": "code",
   "execution_count": null,
   "id": "4c9d3270-5831-4018-9b17-2b504a1a5f23",
   "metadata": {},
   "outputs": [],
   "source": []
  }
 ],
 "metadata": {
  "kernelspec": {
   "display_name": "Python 3 (ipykernel)",
   "language": "python",
   "name": "python3"
  },
  "language_info": {
   "codemirror_mode": {
    "name": "ipython",
    "version": 3
   },
   "file_extension": ".py",
   "mimetype": "text/x-python",
   "name": "python",
   "nbconvert_exporter": "python",
   "pygments_lexer": "ipython3",
   "version": "3.9.17"
  }
 },
 "nbformat": 4,
 "nbformat_minor": 5
}
