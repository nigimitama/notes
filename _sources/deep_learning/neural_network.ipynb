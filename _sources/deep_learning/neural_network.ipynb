{
 "cells": [
  {
   "cell_type": "markdown",
   "id": "a637028a-b385-4c30-84d8-5bb43a5cb231",
   "metadata": {},
   "source": [
    "# Feed-Forward Neural Network\n"
   ]
  },
  {
   "cell_type": "code",
   "execution_count": 5,
   "id": "e065344b-7090-43bf-b575-77b784eff578",
   "metadata": {},
   "outputs": [
    {
     "data": {
      "text/plain": [
       "<matplotlib.legend.Legend at 0x7fdc335ab5e0>"
      ]
     },
     "execution_count": 5,
     "metadata": {},
     "output_type": "execute_result"
    },
    {
     "data": {
      "image/png": "[encoded data removed]",
      "text/plain": [
       "<Figure size 432x288 with 1 Axes>"
      ]
     },
     "metadata": {
      "needs_background": "light"
     },
     "output_type": "display_data"
    }
   ],
   "source": [
    "import numpy as np\n",
    "import matplotlib.pyplot as plt\n",
    "\n",
    "# n = 10\n",
    "# np.ramdom.seed(0)\n",
    "# x1 = np.random.uniform(0, 1, size=n)\n",
    "# x2 = np.random.uniform(0, 1, size=n)\n",
    "\n",
    "def xor(x1, x2):\n",
    "    return 1 * ((x1 + x2) == 1)\n",
    "\n",
    "x1 = np.array([0, 1, 0, 1])\n",
    "x2 = np.array([0, 0, 1, 1])\n",
    "y = [xor(x1_, x2_) for x1_, x2_ in zip(x1, x2)]\n",
    "\n",
    "for y_i in np.unique(y):\n",
    "    idx = y == y_i\n",
    "    plt.scatter(x1[idx], x2[idx], label=f\"y = {y_i}\")\n",
    "plt.legend()"
   ]
  },
  {
   "cell_type": "code",
   "execution_count": null,
   "id": "6f1eeb16-0f74-4ed3-9f38-0e1f5e8e7db3",
   "metadata": {},
   "outputs": [
    {
     "data": {
      "text/plain": [
       "array([[0, 0],\n",
       "       [1, 0],\n",
       "       [0, 1],\n",
       "       [1, 1]])"
      ]
     },
     "execution_count": 15,
     "metadata": {},
     "output_type": "execute_result"
    }
   ],
   "source": [
    "X = np.array([x1, x2]).T\n",
    "X"
   ]
  },
  {
   "cell_type": "code",
   "execution_count": null,
   "id": "20c8b40b-0dcf-4365-8972-4d6cf4ca77b2",
   "metadata": {},
   "outputs": [],
   "source": []
  },
  {
   "cell_type": "code",
   "execution_count": 22,
   "id": "5e61534f-7c01-4574-95b4-992cb12dbc94",
   "metadata": {},
   "outputs": [
    {
     "data": {
      "text/plain": [
       "[<matplotlib.lines.Line2D at 0x7fdc30f1f730>]"
      ]
     },
     "execution_count": 22,
     "metadata": {},
     "output_type": "execute_result"
    },
    {
     "data": {
      "image/png": "[encoded data removed]",
      "text/plain": [
       "<Figure size 432x288 with 1 Axes>"
      ]
     },
     "metadata": {
      "needs_background": "light"
     },
     "output_type": "display_data"
    }
   ],
   "source": [
    "def step_function(x):\n",
    "    return np.array(x > 0)\n",
    "\n",
    "def sigmoid(x):\n",
    "    return 1 / (1 + np.exp(-x))\n",
    "\n",
    "def relu(x):\n",
    "    return np.maximum(0, x)\n",
    "\n",
    "x = np.arange(-2, 2, .1)\n",
    "plt.plot(x, step_function(x), label=\"step\")\n",
    "plt.plot(x, sigmoid(x), label=\"sigmoid\")\n",
    "plt.plot(x, relu(x), label=\"relu\")"
   ]
  },
  {
   "cell_type": "code",
   "execution_count": 28,
   "id": "c0101b5f-b41c-4ef2-aba6-0b5bcdf6f99d",
   "metadata": {},
   "outputs": [
    {
     "data": {
      "text/plain": [
       "array([[ 0,  0,  0],\n",
       "       [ 1,  3,  5],\n",
       "       [ 2,  4,  6],\n",
       "       [ 3,  7, 11]])"
      ]
     },
     "execution_count": 28,
     "metadata": {},
     "output_type": "execute_result"
    }
   ],
   "source": [
    "W = np.array([[1, 3, 5], [2, 4, 6]])\n",
    "\n",
    "X @ W"
   ]
  },
  {
   "cell_type": "code",
   "execution_count": 43,
   "id": "77e52e3f-f21d-48f9-8cec-90d02ad7b222",
   "metadata": {},
   "outputs": [
    {
     "name": "stdout",
     "output_type": "stream",
     "text": [
      "[0.31682708 0.69627909]\n"
     ]
    }
   ],
   "source": [
    "def identity_function(x):\n",
    "    return x\n",
    "\n",
    "def init_network():\n",
    "    network = {}\n",
    "    network['W1'] = np.array([[0.1, 0.3, 0.5], [0.2, 0.4, 0.6]])\n",
    "    network['b1'] = np.array([0.1, 0.2, 0.3])\n",
    "    network['W2'] = np.array([[0.1, 0.4], [0.2, 0.5], [0.3, 0.6]])\n",
    "    network['b2'] = np.array([0.1, 0.2])\n",
    "    network['W3'] = np.array([[0.1, 0.3], [0.2, 0.4]])\n",
    "    network['b3'] = np.array([0.1, 0.2])\n",
    "    return network\n",
    "\n",
    "def forward(network, x):\n",
    "    W1, W2, W3 = network['W1'], network['W2'], network['W3']\n",
    "    b1, b2, b3 = network['b1'], network['b2'], network['b3']\n",
    "    a1 = np.dot(x, W1) + b1\n",
    "    z1 = sigmoid(a1)\n",
    "    a2 = np.dot(z1, W2) + b2\n",
    "    z2 = sigmoid(a2)\n",
    "    a3 = np.dot(z2, W3) + b3\n",
    "    y = identity_function(a3)\n",
    "    return y\n",
    "\n",
    "network = init_network()\n",
    "x = np.array([1.0, 0.5])\n",
    "y = forward(network, x)\n",
    "print(y) # [ 0.31682708 0.69627909]\n"
   ]
  },
  {
   "cell_type": "code",
   "execution_count": 46,
   "id": "32d1dd30-38eb-4b02-a9cf-4206c1993c96",
   "metadata": {},
   "outputs": [],
   "source": [
    "W1, W2, W3 = network['W1'], network['W2'], network['W3']\n",
    "b1, b2, b3 = network['b1'], network['b2'], network['b3']\n",
    "a1 = np.dot(x, W1) + b1\n",
    "z1 = sigmoid(a1)\n",
    "a2 = np.dot(z1, W2) + b2\n",
    "z2 = sigmoid(a2)\n",
    "a3 = np.dot(z2, W3) + b3\n",
    "y = identity_function(a3)"
   ]
  },
  {
   "cell_type": "code",
   "execution_count": 52,
   "id": "492742fd-5198-4639-ae59-7e0eb8819faa",
   "metadata": {},
   "outputs": [
    {
     "data": {
      "text/plain": [
       "array([0.57444252, 0.66818777, 0.75026011])"
      ]
     },
     "execution_count": 52,
     "metadata": {},
     "output_type": "execute_result"
    }
   ],
   "source": [
    "a1 = x @ W1 + b1\n",
    "z1 = sigmoid(a1)\n",
    "z1"
   ]
  },
  {
   "cell_type": "code",
   "execution_count": null,
   "id": "39f53df3-2b29-45ea-a246-09e121ea8049",
   "metadata": {},
   "outputs": [],
   "source": [
    "Holyoak, K. J. (1987). Parallel distributed processing: explorations in the microstructure of cognition. Science, 236, 992-997."
   ]
  }
 ],
 "metadata": {
  "kernelspec": {
   "display_name": "Python 3 (ipykernel)",
   "language": "python",
   "name": "python3"
  },
  "language_info": {
   "codemirror_mode": {
    "name": "ipython",
    "version": 3
   },
   "file_extension": ".py",
   "mimetype": "text/x-python",
   "name": "python",
   "nbconvert_exporter": "python",
   "pygments_lexer": "ipython3",
   "version": "3.9.16"
  }
 },
 "nbformat": 4,
 "nbformat_minor": 5
}
