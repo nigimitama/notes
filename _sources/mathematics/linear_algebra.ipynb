{
 "cells": [
  {
   "cell_type": "markdown",
   "id": "68848264-1442-48a7-953a-9ee2818406a3",
   "metadata": {},
   "source": [
    "# 線形代数学\n",
    "\n",
    "$$\n",
    "% 太字のalias\n",
    "\\newcommand{\\b}[1]{\\boldsymbol{#1}}\n",
    "$$"
   ]
  },
  {
   "cell_type": "markdown",
   "id": "80619d97-835c-4d39-987e-5da671a390af",
   "metadata": {},
   "source": [
    "## 行列式\n",
    "\n",
    "正方行列$A$に対して、その**行列式**（determinant）を$|A|$や$\\det(A)$と表す。行列式はスカラーである。\n",
    "\n",
    "2次の正方行列に対して、行列式は次のように求めることができる。\n",
    "\n",
    "$$\n",
    "A = \n",
    "\\begin{pmatrix}\n",
    "a & b\\\\\n",
    "a' & b'\n",
    "\\end{pmatrix}\n",
    "= (\\b{a}, \\b{b})\n",
    "\\\\\n",
    "\\Rightarrow\n",
    "|A|\n",
    "= |\\b{a}, \\b{b}|\n",
    "= ab' - a'b\n",
    "$$\n"
   ]
  },
  {
   "cell_type": "code",
   "execution_count": 6,
   "id": "af1a9f21-14f9-430b-80db-1fe7b8e7f11b",
   "metadata": {},
   "outputs": [
    {
     "data": {
      "text/plain": [
       "-2"
      ]
     },
     "execution_count": 6,
     "metadata": {},
     "output_type": "execute_result"
    }
   ],
   "source": [
    "import numpy as np\n",
    "\n",
    "A = np.array([\n",
    "    [1, 2],\n",
    "    [3, 4],\n",
    "])\n",
    "\n",
    "det = 1 * 4 - 2 * 3\n",
    "det"
   ]
  },
  {
   "cell_type": "code",
   "execution_count": 5,
   "id": "c35ed250-423f-4a84-86ae-a7a38c75aaae",
   "metadata": {},
   "outputs": [
    {
     "data": {
      "text/plain": [
       "-2.0000000000000004"
      ]
     },
     "execution_count": 5,
     "metadata": {},
     "output_type": "execute_result"
    }
   ],
   "source": [
    "np.linalg.det(A)"
   ]
  },
  {
   "cell_type": "markdown",
   "id": "999c01e0-d72d-4ce0-9fdf-b863324c5cc7",
   "metadata": {},
   "source": [
    "きちんとした定義は次のようになる\n",
    "\n",
    ":::{admonition} （定義）行列式\n",
    "\n",
    "次の4つの条件を満たす$A$の列ベクトルの関数$\\det(\\b{a}_1, \\b{a}_2, \\cdots, \\b{a}_d)$を$A$の行列式と呼ぶ。\n",
    "\n",
    "(1) 各列ベクトルについて線形である\n",
    "\n",
    "(2) 2つの列ベクトルが同じならゼロになる\n",
    "\n",
    "(2') 2つの列ベクトルを入れ替えると符号が変わる\n",
    "\n",
    "(3) $\\det(I) = \\det(\\b{e}_1, \\cdots, \\b{e}_d) = 1$ （$\\b{e}_1, \\cdots, \\b{e}_d$は基本ベクトル）\n"
   ]
  },
  {
   "cell_type": "markdown",
   "id": "90ce4208-e36b-41af-874c-942835f9be3e",
   "metadata": {},
   "source": [
    "## 固有値と固有ベクトル\n",
    "\n",
    "$d$次の正方行列$A$に対して\n",
    "\n",
    "$$\n",
    "A \\b{x} = \\lambda \\b{x}\n",
    "$$\n",
    "\n",
    "が成り立つとき、スカラー$\\lambda$を$A$の**固有値**（eigenvalue）、$d$次元ベクトル$\\b{x} (\\neq \\b{0})$を$A$の$\\lambda$に対応する**固有ベクトル**（eigenvector）と呼ぶ。"
   ]
  },
  {
   "cell_type": "markdown",
   "id": "877a3a46-b842-41ae-ac02-f8a45ce77013",
   "metadata": {},
   "source": [
    "上の式は\n",
    "\n",
    "$$\n",
    "(A - \\lambda I) \\b{x} = \\b{0}\n",
    "$$\n",
    "\n",
    "と表すことができる。これが$\\b{x} \\neq \\b{0}$であるためには\n",
    "\n",
    "$$\n",
    "\\det(A - \\lambda I) = 0\n",
    "$$\n",
    "\n",
    "でなければならない。この式を**固有方程式**と呼び、固有値は固有方程式の解として求める。"
   ]
  },
  {
   "cell_type": "markdown",
   "id": "3adfad12-2918-4115-a219-16161e3032ec",
   "metadata": {},
   "source": [
    ":::{card} 例\n",
    "$$\n",
    "A = \\begin{pmatrix}\n",
    "-3 & -2\\\\\n",
    "4 & 3\n",
    "\\end{pmatrix}\n",
    "$$\n",
    "\n",
    "の場合\n",
    "\n",
    "$$\n",
    "\\begin{align}\n",
    "|A - \\lambda I|\n",
    "&=\n",
    "\\begin{vmatrix}\n",
    "-3 - \\lambda & -2 \\\\\n",
    "4 & 3 - \\lambda \\\\\n",
    "\\end{vmatrix}\n",
    "\\\\\n",
    "&= (-3 \\lambda)(3 - \\lambda) + 4 \\times 2\\\\\n",
    "&= -9 + 3\\lambda - 3\\lambda + \\lambda^2 + 8\\\\\n",
    "&= \\lambda^2 - 1\\\\\n",
    "&= (\\lambda - 1)(\\lambda + 1)\\\\\n",
    "&= 0\n",
    "\\end{align}\n",
    "$$\n",
    "\n",
    "より、$\\lambda = 1, -1$が求まる。（それぞれ$\\lambda_1, \\lambda_2$とおくことにする）\n",
    "\n",
    "$\\lambda_1 = 1$に対応する固有ベクトルを$\\b{x}=(x_1,x_2)^\\top$とおいて次のように求める\n",
    "\n",
    "$$\n",
    "A \\b{x} = \\lambda_1 \\b{x}\n",
    "\\iff\n",
    "\\begin{align}\n",
    "-3 x_1 - 2 x_2 &= x_1\\\\\n",
    "4 x_1 + 3 x_2 &= x_2\\\\\n",
    "\\end{align}\n",
    "$$\n",
    "\n",
    "より$-2 x_1 = x_2$という関係性になるので、変数$s$を使って次のように表す。\n",
    "\n",
    "$$\n",
    "\\b{x} = \\begin{pmatrix}\n",
    "s \\\\ -2 s\n",
    "\\end{pmatrix}\n",
    "$$\n",
    "\n",
    "\n",
    "同様に、$\\lambda_2 = -1$に対応する固有ベクトルを$\\b{y}=(y_1, y_2)^\\top$とおいて次のように求める\n",
    "\n",
    "$$\n",
    "A \\b{x} = \\lambda_2 \\b{y}\n",
    "\\iff\n",
    "\\begin{align}\n",
    "-3 y_1 - 2 y_2 &= -y_1\\\\\n",
    "4 y_1 + 3 y_2 &= -y_2\\\\\n",
    "\\end{align}\n",
    "$$\n",
    "\n",
    "より$y_1 = -y_2$という関係性なので、変数$t$を使って\n",
    "\n",
    "$$\n",
    "\\b{y} = \\begin{pmatrix}\n",
    "t \\\\ -t\n",
    "\\end{pmatrix}\n",
    "$$\n",
    "\n",
    "となる。\n",
    "\n",
    "$s$や$t$は任意の値でよいので、固有ベクトルの長さが1になるように定めると、固有ベクトルは\n",
    "\n",
    "$$\n",
    "\\b{x} = \\begin{pmatrix} 1/\\sqrt{5} \\\\ -2/\\sqrt{5} \\end{pmatrix}\n",
    "  \\simeq \\begin{pmatrix} 0.447 \\\\ -0.894 \\end{pmatrix}\n",
    ", \\hspace{2em}\n",
    "\\b{y} = \\begin{pmatrix} 1/\\sqrt{2} \\\\ -1/\\sqrt{2} \\end{pmatrix}\n",
    "  \\simeq \\begin{pmatrix} 0.707 \\\\ -0.707 \\end{pmatrix}\n",
    "$$\n",
    "\n",
    "となる。\n",
    ":::"
   ]
  },
  {
   "cell_type": "code",
   "execution_count": 19,
   "id": "53605e41-9bd0-412c-983c-fce4d264daed",
   "metadata": {},
   "outputs": [
    {
     "name": "stdout",
     "output_type": "stream",
     "text": [
      "\n",
      "λ=[-1.  1.]\n",
      "x=[ 0.447 -0.894]\n",
      "y=[-0.707  0.707]\n",
      "\n"
     ]
    }
   ],
   "source": [
    "import numpy as np\n",
    "\n",
    "A = np.array([\n",
    "    [-3, -2],\n",
    "    [4, 3],\n",
    "])\n",
    "\n",
    "lambdas, vectors = np.linalg.eig(A)\n",
    "print(f\"\"\"\n",
    "λ={lambdas}\n",
    "x={vectors[:, 1].round(3)}\n",
    "y={vectors[:, 0].round(3)}\n",
    "\"\"\")"
   ]
  },
  {
   "cell_type": "markdown",
   "id": "0f6beb2a-6b89-4489-b786-c07ed823db25",
   "metadata": {},
   "source": [
    "## 参考\n",
    "\n",
    "- [線形代数基礎](http://www.phys.shimane-u.ac.jp/tanaka_lab/lecture/linear_algebra/linear_algebra.pdf)"
   ]
  },
  {
   "cell_type": "code",
   "execution_count": null,
   "id": "5a4afe57-c8ba-4d86-a6a0-972d8fd2095e",
   "metadata": {},
   "outputs": [],
   "source": []
  }
 ],
 "metadata": {
  "kernelspec": {
   "display_name": "Python 3",
   "language": "python",
   "name": "python3"
  },
  "language_info": {
   "codemirror_mode": {
    "name": "ipython",
    "version": 3
   },
   "file_extension": ".py",
   "mimetype": "text/x-python",
   "name": "python",
   "nbconvert_exporter": "python",
   "pygments_lexer": "ipython3",
   "version": "3.8.10"
  }
 },
 "nbformat": 4,
 "nbformat_minor": 5
}
