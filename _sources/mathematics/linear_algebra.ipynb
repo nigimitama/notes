{
 "cells": [
  {
   "cell_type": "markdown",
   "id": "68848264-1442-48a7-953a-9ee2818406a3",
   "metadata": {},
   "source": [
    "# 線形代数学\n",
    "\n",
    "$$\n",
    "% 太字のalias\n",
    "\\newcommand{\\b}[1]{\\boldsymbol{#1}}\n",
    "$$"
   ]
  },
  {
   "cell_type": "code",
   "execution_count": 1,
   "id": "c87e8ea3-d6ba-418f-880e-b94a46f2dd84",
   "metadata": {},
   "outputs": [],
   "source": [
    "import numpy as np\n",
    "import matplotlib.pyplot as plt"
   ]
  },
  {
   "cell_type": "markdown",
   "id": "a2179693-1ea2-4339-8161-b8e9759f38cf",
   "metadata": {},
   "source": [
    "## ベクトル\n",
    "\n",
    "$$\n",
    "\\boldsymbol{a} = (a_1, a_2, a_3)\n",
    "$$"
   ]
  },
  {
   "cell_type": "markdown",
   "id": "d6e5866b-4d8b-40e3-9c14-fe5e54c4b14d",
   "metadata": {},
   "source": [
    "### ベクトル空間\n",
    "\n",
    "実数倍と和が定義されており、任意の元の線形結合がふたたび元となる集合\n",
    "\n",
    ":::{admonition} 定義（ベクトル空間）\n",
    "任意の元$x, y \\in L$と任意の実数$a, b$について実数倍$ax, by$とそれらの和$ax + by$が定義されており、\n",
    "かならず$ax + by \\in L$が成り立つような集合$L$を**ベクトル空間（vector space）**という。また$L$の元を**ベクトル（vector）**という\n",
    ":::\n",
    "\n",
    "イメージ的には原点と矢印と、矢印同士の演算（和や積など）だけが決まっている。座標は固定ではない\n",
    "\n",
    "整数集合$\\mathbb{Z}$は実数を掛けて線形結合した結果が整数になるとは限らないため、ベクトル空間ではない。\n",
    "実数集合$\\mathbb{R}$はベクトル空間である。\n"
   ]
  },
  {
   "cell_type": "markdown",
   "id": "f098054d-4894-4607-85cb-ae6e10f9f017",
   "metadata": {},
   "source": [
    "原点はあるらしい（原点がないのはアフィン空間らしい）"
   ]
  },
  {
   "cell_type": "markdown",
   "id": "6179b9a4-9d27-4751-99c4-8db2fdce3835",
   "metadata": {
    "tags": []
   },
   "source": [
    "### 内積\n",
    "\n",
    "$k$次元のベクトル$\\boldsymbol{a} = (a_1, a_2, \\dots, a_k)^T, \\ \\boldsymbol{b} = (b_1, b_2, \\dots, b_k)^T$があるとき、\n",
    "\n",
    "$$\n",
    "\\sum^k_{i=1} a_i b_i\n",
    "$$\n",
    "\n",
    "という演算を内積（inner product）といい、$\\boldsymbol{a}^T \\boldsymbol{b}$と表す\n"
   ]
  },
  {
   "cell_type": "code",
   "execution_count": 2,
   "id": "0680d5e5-cb20-45dc-93c7-a0ec30757458",
   "metadata": {},
   "outputs": [
    {
     "data": {
      "text/plain": [
       "6"
      ]
     },
     "execution_count": 2,
     "metadata": {},
     "output_type": "execute_result"
    }
   ],
   "source": [
    "a = np.array([1, 1, 1])\n",
    "b = np.array([2, 2, 2])\n",
    "a.T @ b"
   ]
  },
  {
   "cell_type": "markdown",
   "id": "a03a1001-1863-403c-89da-255e7ecf4f67",
   "metadata": {},
   "source": [
    "#### 内積と類似度\n",
    "\n",
    ":::{note} コサイン類似度\n",
    "2つのベクトル$\\boldsymbol{a} = (a_1, a_2, \\dots, a_k)^T$と$\\boldsymbol{b} = (b_1, b_2, \\dots, b_k)^T$について、\n",
    "\n",
    "$$\n",
    "\\cos(\\b{a}, \\b{b})\n",
    "= \\frac{ \\b{a}^T \\b{b} }{ ||\\b{a}|| \\ ||\\b{b}|| }\n",
    "= \\frac{ \\sum^k_{i=1} a_i b_i } { \\sqrt{ \\sum^k_{i=1} a_i^2 } \\sqrt{ \\sum^k_{i=1} b_i^2 } }\n",
    "$$\n",
    "\n",
    "をコサイン類似度という\n",
    ":::\n",
    "\n",
    "$$\n",
    "\\newcommand{\\b}[1]{\\boldsymbol{#1}}\n",
    "\\b{a}^T \\b{b} = ||\\b{a}|| \\ ||\\b{b}|| \\cos(\\b{a}, \\b{b}) \\\\\n",
    "\\implies \\cos(\\b{a}, \\b{b}) = \\frac{ \\b{a}^T \\b{b} }{ ||\\b{a}|| \\ ||\\b{b}|| }\n",
    "$$\n"
   ]
  },
  {
   "cell_type": "markdown",
   "id": "a5574a93-79ea-41d4-8971-323f5d808ca4",
   "metadata": {},
   "source": [
    "## 行列\n",
    "\n",
    "$$\n",
    "A =\n",
    "\\begin{pmatrix}\n",
    "    a_{11} & a_{12}\\\\\n",
    "    a_{21} & a_{22}\n",
    "\\end{pmatrix}\n",
    "$$\n",
    "\n",
    "\n",
    "### 行列積\n",
    "\n",
    "$$\n",
    "A =\n",
    "\\begin{pmatrix}\n",
    "    a_{11} & a_{12}\\\\\n",
    "    a_{21} & a_{22}\n",
    "\\end{pmatrix}, \\\n",
    "B =\n",
    "\\begin{pmatrix}\n",
    "    b_{11} & b_{12}\\\\\n",
    "    b_{21} & b_{22}\n",
    "\\end{pmatrix}\n",
    "$$\n",
    "\n",
    "とすると、行列積（matrix multiplication）は\n",
    "\n",
    "$$\n",
    "A B = \n",
    "\\begin{pmatrix}\n",
    "    a_{11} & a_{12}\\\\\n",
    "    a_{21} & a_{22}\n",
    "\\end{pmatrix}\n",
    "\\begin{pmatrix}\n",
    "    b_{11} & b_{12}\\\\\n",
    "    b_{21} & b_{22}\n",
    "\\end{pmatrix}\n",
    "=\n",
    "\\begin{pmatrix}\n",
    "    a_{11} b_{11} + a_{12} b_{21} & a_{11} b_{12} + a_{12} b_{22} \\\\\n",
    "    a_{21} b_{11} + a_{22} b_{21} & a_{21} b_{12} + a_{22} b_{22}\n",
    "\\end{pmatrix}\n",
    "$$"
   ]
  },
  {
   "cell_type": "markdown",
   "id": "77aee03b-7328-4d41-98c9-44dba8a9e1c9",
   "metadata": {},
   "source": [
    "### 直積\n",
    "\n",
    "2つのベクトル$\\boldsymbol{a}, \\boldsymbol{b}$のテンソル積\n",
    "\n",
    "$$\n",
    "\\boldsymbol{a} \\circ \\boldsymbol{b}\n",
    "= \\boldsymbol{a} \\otimes \\boldsymbol{b}\n",
    "= \\boldsymbol{a} \\boldsymbol{b}^T\n",
    "= \\begin{pmatrix}\n",
    "a_1 \\\\ a_2 \\\\ \\vdots \\\\ a_n\n",
    "\\end{pmatrix}\n",
    "\\begin{pmatrix}\n",
    "b_1 & b_2 & \\cdots & b_n\n",
    "\\end{pmatrix}\n",
    "= \\begin{pmatrix}\n",
    "    a_1 b_1 & a_1 b_2 & \\cdots & a_1 b_n\\\\\n",
    "    a_2 b_1 & a_2 b_2 & \\cdots & a_2 b_n\\\\\n",
    "    \\vdots  & \\vdots  & \\ddots & \\vdots \\\\\n",
    "    a_n b_1 & a_n b_2 & \\cdots & a_n b_n\n",
    "\\end{pmatrix}\n",
    "$$\n",
    "\n",
    "を**直積**（direct product）あるいは**外積**（outer product）という。"
   ]
  },
  {
   "cell_type": "markdown",
   "id": "bab9bed4-ddaa-43c8-8cc2-80042c65ab50",
   "metadata": {
    "jp-MarkdownHeadingCollapsed": true,
    "tags": []
   },
   "source": [
    ":::{card} 行列積と直積の関係\n",
    "\n",
    "行列$A, B$の$i$番目の列ベクトルを$\\boldsymbol{a}_i, \\boldsymbol{b}_i$とし、行ベクトルを$\\boldsymbol{a}_i^T, \\boldsymbol{b}_i^T$とする。このとき、\n",
    "\n",
    "$$\n",
    "A^T B = \\sum^n_{i=1} \\boldsymbol{a}_i \\boldsymbol{b}_i^T\n",
    "$$\n",
    "\n",
    "が成り立つ。この形式は計量経済学（回帰分析）の漸近正規性の証明などで多用される。\n",
    ":::\n",
    "\n",
    "（例）$A, B \\in \\mathbb{R}^{2\\times 2}$のとき、\n",
    "\n",
    "$$\n",
    "\\begin{align}\n",
    "A^T B &= \n",
    "\\begin{pmatrix}\n",
    "    a_{11} & a_{21}\\\\\n",
    "    a_{12} & a_{22}\n",
    "\\end{pmatrix}\n",
    "\\begin{pmatrix}\n",
    "    b_{11} & b_{12}\\\\\n",
    "    b_{21} & b_{22}\n",
    "\\end{pmatrix}\n",
    "\\\\\n",
    "&= \n",
    "\\begin{pmatrix}\n",
    "   a_{11} b_{11} + a_{21} b_{21} & a_{11} b_{12} + a_{21} b_{22}\\\\\n",
    "   a_{12} b_{11} + a_{22} b_{21} & a_{12} b_{12} + a_{22} b_{22}\\\\\n",
    "\\end{pmatrix}\n",
    "\\end{align}\n",
    "$$\n",
    "\n",
    "であり、\n",
    "\n",
    "$$\n",
    "a_1\n",
    "= \\begin{pmatrix}\n",
    "    a_{11} \\\\\n",
    "    a_{12} \n",
    "\\end{pmatrix}\n",
    ", \\hspace{1em}\n",
    "b_1^T = \n",
    "\\begin{pmatrix}\n",
    "    b_{11} & b_{12}\\\\\n",
    "\\end{pmatrix}\n",
    "$$\n",
    "\n",
    "から\n",
    "\n",
    "$$\n",
    "\\begin{align}\n",
    "\\sum^2_{i=1} \\boldsymbol{a}_i \\boldsymbol{b}_i^T\n",
    "&= \\begin{pmatrix}\n",
    "    a_{11} \\\\\n",
    "    a_{12}\n",
    "\\end{pmatrix}\n",
    "\\begin{pmatrix}\n",
    "    b_{11} & b_{12}\n",
    "\\end{pmatrix}\n",
    "+ \\begin{pmatrix}\n",
    "    a_{21} \\\\\n",
    "    a_{22}\n",
    "\\end{pmatrix}\n",
    "\\begin{pmatrix}\n",
    "    b_{21} & b_{22}\n",
    "\\end{pmatrix}\n",
    "\\\\\n",
    "&= \\begin{pmatrix}\n",
    "    a_{11} b_{11} & a_{11} b_{12}\\\\\n",
    "    a_{12} b_{11} & a_{12} b_{12}\n",
    "\\end{pmatrix}\n",
    "+ \\begin{pmatrix}\n",
    "    a_{21} b_{21} & a_{21} b_{22}\\\\\n",
    "    a_{22} b_{21} & a_{22} b_{22}\n",
    "\\end{pmatrix}\n",
    "\\end{align}\n",
    "$$\n",
    "\n",
    "であるため。"
   ]
  },
  {
   "cell_type": "markdown",
   "id": "871d7bea-0de0-4bde-b683-1c1cb70282a1",
   "metadata": {
    "jp-MarkdownHeadingCollapsed": true,
    "tags": []
   },
   "source": [
    ":::{card} 行列積との関係\n",
    "\n",
    "行列の一部をベクトルで表して（＝ブロック行列）、通常の行列積の定義をベクトルの積の形で表すこともできる\n",
    "\n",
    "$n$次元正方行列$A, B$の$i$番目の列ベクトルを$\\boldsymbol{a}_i, \\boldsymbol{b}_i$とし、行ベクトルを$\\boldsymbol{a}_i^T, \\boldsymbol{b}_i^T$とする。このとき、\n",
    "\n",
    "$$\n",
    "\\begin{align}\n",
    "BA &= \n",
    "\\begin{pmatrix}\n",
    "    \\boldsymbol{b}_{1}^T \\\\\n",
    "    \\boldsymbol{b}_{2}^T \\\\\n",
    "    \\vdots \\\\\n",
    "    \\boldsymbol{b}_{n}^T\n",
    "\\end{pmatrix}\n",
    "\\begin{pmatrix}\n",
    "    \\boldsymbol{a}_1, \\boldsymbol{a}_2, \\cdots, \\boldsymbol{a}_n\n",
    "\\end{pmatrix}\n",
    "=\n",
    "\\begin{pmatrix}\n",
    "    \\boldsymbol{b}_{1}^T \\boldsymbol{a}_1 & \\boldsymbol{b}_{1}^T \\boldsymbol{a}_2 & \\cdots & \\boldsymbol{b}_{1}^T \\boldsymbol{a}_n\\\\\n",
    "    \\boldsymbol{b}_{2}^T \\boldsymbol{a}_1 & \\boldsymbol{b}_{2}^T \\boldsymbol{a}_2 & \\cdots & \\boldsymbol{b}_{2}^T \\boldsymbol{a}_n\\\\\n",
    "    \\vdots & \\vdots & & \\vdots\\\\\n",
    "    \\boldsymbol{b}_{n}^T \\boldsymbol{a}_1 & \\boldsymbol{b}_{n}^T \\boldsymbol{a}_2 & \\cdots & \\boldsymbol{b}_{n}^T \\boldsymbol{a}_n\\\\\n",
    "\\end{pmatrix}\n",
    "\\end{align}\n",
    "$$\n",
    ":::"
   ]
  },
  {
   "cell_type": "markdown",
   "id": "4129f7af-8682-481a-ac40-c729635a4a11",
   "metadata": {},
   "source": [
    "### クロス積\n",
    "\n",
    "2つのベクトル$\\boldsymbol{a}, \\boldsymbol{b}$について\n",
    "\n",
    "$$\n",
    "\\boldsymbol{a} \\times \\boldsymbol{b}\n",
    "= \\boldsymbol{a} \\otimes \\boldsymbol{b} - \\boldsymbol{b} \\otimes \\boldsymbol{a}\n",
    "$$\n",
    "\n",
    "を**クロス積**（cross product）あるいは**ベクトル積**（vector product）あるいは**外積**という\n",
    "\n",
    "\n"
   ]
  },
  {
   "cell_type": "markdown",
   "id": "670486a0-8027-4233-9982-04718cbb0648",
   "metadata": {},
   "source": [
    "### 行列と写像\n",
    "\n",
    "> 行列は写像である\n",
    ">\n",
    "> （平岡和幸, & 堀玄. (2004). プログラミングのための線形代数. 株式会社 オーム社.）\n",
    "\n",
    "例：ベクトル$x$に行列$A$を掛けて$y$とする\n",
    "\n",
    "$$\n",
    "y = A x\n",
    "$$\n",
    "\n",
    "$x$を$y$に写す写像（≒関数）が行列$A$\n",
    "\n"
   ]
  },
  {
   "cell_type": "markdown",
   "id": "80619d97-835c-4d39-987e-5da671a390af",
   "metadata": {},
   "source": [
    "## 行列式\n",
    "\n",
    "正方行列$A$に対して、その**行列式**（determinant）を$|A|$や$\\det(A)$と表す。行列式はスカラーである。\n",
    "\n",
    "2次の正方行列に対して、行列式は次のように求めることができる。\n",
    "\n",
    "$$\n",
    "A = \n",
    "\\begin{pmatrix}\n",
    "a & b\\\\\n",
    "a' & b'\n",
    "\\end{pmatrix}\n",
    "= (\\b{a}, \\b{b})\n",
    "\\\\\n",
    "\\Rightarrow\n",
    "|A|\n",
    "= |\\b{a}, \\b{b}|\n",
    "= ab' - a'b\n",
    "$$\n"
   ]
  },
  {
   "cell_type": "code",
   "execution_count": 3,
   "id": "af1a9f21-14f9-430b-80db-1fe7b8e7f11b",
   "metadata": {},
   "outputs": [
    {
     "data": {
      "text/plain": [
       "-2"
      ]
     },
     "execution_count": 3,
     "metadata": {},
     "output_type": "execute_result"
    }
   ],
   "source": [
    "import numpy as np\n",
    "\n",
    "A = np.array([\n",
    "    [1, 2],\n",
    "    [3, 4],\n",
    "])\n",
    "\n",
    "det = 1 * 4 - 2 * 3\n",
    "det"
   ]
  },
  {
   "cell_type": "code",
   "execution_count": 4,
   "id": "c35ed250-423f-4a84-86ae-a7a38c75aaae",
   "metadata": {},
   "outputs": [
    {
     "data": {
      "text/plain": [
       "-2.0000000000000004"
      ]
     },
     "execution_count": 4,
     "metadata": {},
     "output_type": "execute_result"
    }
   ],
   "source": [
    "np.linalg.det(A)"
   ]
  },
  {
   "cell_type": "markdown",
   "id": "999c01e0-d72d-4ce0-9fdf-b863324c5cc7",
   "metadata": {},
   "source": [
    "きちんとした定義は次のようになる\n",
    "\n",
    ":::{admonition} （定義）行列式\n",
    "\n",
    "次の4つの条件を満たす$A$の列ベクトルの関数$\\det(\\b{a}_1, \\b{a}_2, \\cdots, \\b{a}_d)$を$A$の行列式と呼ぶ。\n",
    "\n",
    "(1) 各列ベクトルについて線形である\n",
    "\n",
    "(2) 2つの列ベクトルが同じならゼロになる\n",
    "\n",
    "(2') 2つの列ベクトルを入れ替えると符号が変わる\n",
    "\n",
    "(3) $\\det(I) = \\det(\\b{e}_1, \\cdots, \\b{e}_d) = 1$ （$\\b{e}_1, \\cdots, \\b{e}_d$は基本ベクトル）\n"
   ]
  },
  {
   "cell_type": "markdown",
   "id": "e162096e-67be-4f07-8594-149a67ed6e79",
   "metadata": {},
   "source": [
    "### 行列式の幾何的な解釈＝体積拡大率\n",
    "\n",
    "2つのベクトルが四角形を表すとみなす。この四角形を変形させる行列$A$があったとき、変換後の四角形の面積はもとの面積の$\\text{det}(A)$倍である、と解釈できる（行列式の値が正の値のとき。負の場合は軸が反転して裏返しになる。$\\text{det}(A)=0$ならぺちゃんこに潰れている状態）\n",
    "\n",
    "例えば$I \\in \\mathbb{R}^{2\\times 2}$が構成する四角形に$A$を乗じて$AI=A$とするときの拡大率ともいえるし、$A$の面積とも言える"
   ]
  },
  {
   "cell_type": "code",
   "execution_count": 37,
   "id": "96922128-159c-457e-bb7c-4e5bf795b527",
   "metadata": {
    "tags": [
     "hide-input"
    ]
   },
   "outputs": [
    {
     "data": {
      "image/png": "[encoded data removed]",
      "text/plain": [
       "<Figure size 400x400 with 1 Axes>"
      ]
     },
     "metadata": {},
     "output_type": "display_data"
    }
   ],
   "source": [
    "e0 = [1, 0]\n",
    "e1 = [0, 1]\n",
    "\n",
    "I = np.array([e0, e1])\n",
    "O = np.array([0, 0])\n",
    "\n",
    "fig, ax = plt.subplots(figsize=[4, 4])\n",
    "ax.grid(True, alpha=.5)\n",
    "ax.arrow(*O, *e0, width=0.01, color=\"black\", length_includes_head=True)\n",
    "ax.arrow(*O, *e1, width=0.01, color=\"black\", length_includes_head=True)\n",
    "ax.fill_between(x=[0, 1], y1=0, y2=1, alpha=.5)\n",
    "\n",
    "ax.set(xlim=[-0.5, 1.5], ylim=[-0.5, 1.5], xticks=[0, 1], yticks=[0, 1])\n",
    "fig.show()"
   ]
  },
  {
   "cell_type": "markdown",
   "id": "5344d7ec-d918-4bf2-9667-1db523d726a0",
   "metadata": {},
   "source": [
    "適当な行列$A$で変換するとこうなる"
   ]
  },
  {
   "cell_type": "code",
   "execution_count": 39,
   "id": "ffdb98c7-9c8a-484f-a552-594d9ea00f8b",
   "metadata": {
    "tags": [
     "hide-input"
    ]
   },
   "outputs": [
    {
     "data": {
      "image/png": "[encoded data removed]",
      "text/plain": [
       "<Figure size 640x480 with 1 Axes>"
      ]
     },
     "metadata": {},
     "output_type": "display_data"
    }
   ],
   "source": [
    "A = np.array([\n",
    "    [1, 1],\n",
    "    [0, 1]\n",
    "])\n",
    "e0_ = A @ e0\n",
    "e1_ = A @ e1\n",
    "y_ = e0_ + e1_\n",
    "\n",
    "fig, ax = plt.subplots()\n",
    "ax.grid(True, alpha=.5)\n",
    "ax.arrow(0, 0, *e0_, width=0.01, color=\"black\", length_includes_head=True)\n",
    "ax.arrow(0, 0, *e1_, width=0.01, color=\"black\", length_includes_head=True)\n",
    "\n",
    "d = np.array([e0_, y_])\n",
    "ax.plot(d[:, 0], d[:, 1], color=\"black\", linestyle=\"--\")\n",
    "d = np.array([e1_, y_])\n",
    "ax.plot(d[:, 0], d[:, 1], color=\"black\", linestyle=\"--\")\n",
    "\n",
    "x = np.linspace(0, y_[0], 11)\n",
    "ax.fill_between(x=x, y1=[max(e - 1, 0) for e in x], y2=[min(e, 1) for e in x], alpha=.5)\n",
    "ax.set(xlim=[-0.25, 2.25], ylim=[-0.25, 1.25], xticks=[0, 1, 2], yticks=[0, 1])\n",
    "fig.show()"
   ]
  },
  {
   "cell_type": "markdown",
   "id": "f478a093-cd38-414e-a211-15f6e8bdc6b9",
   "metadata": {},
   "source": [
    "平行四辺形の面積は底辺×高さ。今回は底辺も高さも1なので、面積は変わっていない。\n",
    "\n",
    "この行列$A$の行列式は1になる"
   ]
  },
  {
   "cell_type": "code",
   "execution_count": 7,
   "id": "08cf6e45-c261-4fa9-a92c-13b8c94d4bbd",
   "metadata": {},
   "outputs": [
    {
     "data": {
      "text/plain": [
       "1.0"
      ]
     },
     "execution_count": 7,
     "metadata": {},
     "output_type": "execute_result"
    }
   ],
   "source": [
    "np.linalg.det(A)"
   ]
  },
  {
   "cell_type": "markdown",
   "id": "c68a4df1-bc24-43a6-a282-78c3473f9a7e",
   "metadata": {},
   "source": [
    "参考：[Chapter 6 行列式 | 線形代数のエッセンス - YouTube](https://www.youtube.com/watch?v=K8axNorb1CU)"
   ]
  },
  {
   "cell_type": "markdown",
   "id": "1775708f-66eb-4c72-9c48-36d3e26bc4da",
   "metadata": {},
   "source": [
    "#### （例）次のような行列の場合は…？\n",
    "\n",
    "$$\n",
    "A = \n",
    "\\begin{pmatrix}\n",
    "1 & 2\\\\\n",
    "1 & 3\n",
    "\\end{pmatrix}\n",
    ", \\hspace{2em}\n",
    "B = \n",
    "\\begin{pmatrix}\n",
    "1 & 102\\\\\n",
    "1 & 103\n",
    "\\end{pmatrix}\n",
    "\\\\\n",
    "\\text{det}(A) = 3 - 2 = 1\n",
    ", \\hspace{2em}\n",
    "\\text{det}(B) = 103 - 102 = 1\n",
    "$$\n"
   ]
  },
  {
   "cell_type": "code",
   "execution_count": 48,
   "id": "3ff2950e-f7e8-4b36-8317-4b3d8e5a5a57",
   "metadata": {
    "tags": [
     "hide-input"
    ]
   },
   "outputs": [
    {
     "data": {
      "image/png": "[encoded data removed]",
      "text/plain": [
       "<Figure size 800x400 with 2 Axes>"
      ]
     },
     "metadata": {},
     "output_type": "display_data"
    }
   ],
   "source": [
    "A = np.array([\n",
    "    [1, 2],\n",
    "    [1, 3]\n",
    "])\n",
    "B = np.array([\n",
    "    [1, 102],\n",
    "    [1, 103]\n",
    "])\n",
    "fig, axes = plt.subplots(ncols=2, figsize=[8, 4])\n",
    "\n",
    "for X, ax in zip([A, B], axes):\n",
    "    x0_ = X[0]\n",
    "    x1_ = X[1]\n",
    "    y_ = x0_ + x1_\n",
    "    ax.grid(True, alpha=.5)\n",
    "    ax.arrow(0, 0, *x0_, width=0.01, color=\"black\", length_includes_head=True)\n",
    "    ax.arrow(0, 0, *x1_, width=0.01, color=\"black\", length_includes_head=True)\n",
    "\n",
    "    d = np.array([x0_, y_])\n",
    "    ax.plot(d[:, 0], d[:, 1], color=\"black\", linestyle=\"--\")\n",
    "    d = np.array([x1_, y_])\n",
    "    ax.plot(d[:, 0], d[:, 1], color=\"black\", linestyle=\"--\")\n",
    "\n",
    "    x = np.linspace(0, y_[0], 11)\n",
    "    ax.set(title=f\"det = {np.linalg.det(X)}\")\n",
    "fig.show()"
   ]
  },
  {
   "cell_type": "markdown",
   "id": "4b53763d-314e-4c1b-82fb-972e971036a3",
   "metadata": {},
   "source": [
    "## 逆行列\n",
    "\n",
    "正方行列$A$に対し、\n",
    "\n",
    "$$\n",
    "AA^{-1} = A^{-1} A = I\n",
    "$$\n",
    "\n",
    "が成立する正方行列$A^{-1}$が存在するとき、$A^{-1}$を$A$の**逆行列**という。（$I$は$A$と同じサイズの単位行列）\n",
    "\n",
    "逆行列が存在する行列のことを**正則行列**や**可逆行列**という。"
   ]
  },
  {
   "cell_type": "markdown",
   "id": "be4e04cd-fa73-4009-8ee2-aae50ebcea9d",
   "metadata": {},
   "source": [
    "### 逆行列の効率的な計算\n",
    "\n",
    "#### 行列分解で計算する方法\n",
    "\n",
    "- https://speakerdeck.com/nagiss/hiyurisuteitukukontesutodeji-jie-xue-xi-siyou?slide=26\n",
    "\n",
    "#### 共役勾配法\n",
    "\n",
    "**共役勾配（conjugate gradient: CG）法**は逆行列の計算を二次最適化に落とし込む方法としても使われる\n"
   ]
  },
  {
   "cell_type": "markdown",
   "id": "4aa80daa-f885-4cbc-ac2a-5dcfdbf6a8f2",
   "metadata": {},
   "source": [
    "## 行列の計算規則"
   ]
  },
  {
   "cell_type": "markdown",
   "id": "11510fc0-9b9e-4d66-a0d6-adf052b66b54",
   "metadata": {},
   "source": [
    "$$\n",
    "A(B+C) = AB + AC\n",
    "$$"
   ]
  },
  {
   "cell_type": "code",
   "execution_count": 6,
   "id": "3a8f04af-2732-4eeb-a6ad-032b47852324",
   "metadata": {},
   "outputs": [],
   "source": [
    "import numpy as np\n",
    "A = np.array([\n",
    "    [1, 0],\n",
    "    [0, 0]\n",
    "])\n",
    "B = np.array([\n",
    "    [2, 0],\n",
    "    [0, 3]\n",
    "])\n",
    "C = np.array([\n",
    "    [0, -1],\n",
    "    [-1, 0]\n",
    "])"
   ]
  },
  {
   "cell_type": "code",
   "execution_count": 7,
   "id": "45de184d-103b-4664-acdd-a10abefcee79",
   "metadata": {},
   "outputs": [
    {
     "data": {
      "text/plain": [
       "array([[ 2, -1],\n",
       "       [ 0,  0]])"
      ]
     },
     "execution_count": 7,
     "metadata": {},
     "output_type": "execute_result"
    }
   ],
   "source": [
    "A @ (B + C)"
   ]
  },
  {
   "cell_type": "code",
   "execution_count": 8,
   "id": "72241258-feb5-471a-90f3-4146f03dbf22",
   "metadata": {},
   "outputs": [
    {
     "data": {
      "text/plain": [
       "array([[ 2, -1],\n",
       "       [ 0,  0]])"
      ]
     },
     "execution_count": 8,
     "metadata": {},
     "output_type": "execute_result"
    }
   ],
   "source": [
    "A @ B + A @ C"
   ]
  },
  {
   "cell_type": "markdown",
   "id": "2d0234ee-e885-4f89-aa63-fc86692ddd70",
   "metadata": {},
   "source": [
    "### べき乗\n",
    "\n",
    "$$\n",
    "\\begin{align}\n",
    "AA &= A^2\\\\\n",
    "AAA &= A^3\n",
    "\\end{align}\n",
    "$$\n",
    "\n",
    "$$\n",
    "\\begin{align}\n",
    "A^{n+m} &= A^n + A^m\\\\\n",
    "(A^n)^m &= A^{nm}\n",
    "\\end{align}\n",
    "$$\n"
   ]
  },
  {
   "cell_type": "markdown",
   "id": "7b258893-1131-4f9b-9ce8-6fa9a5a024a1",
   "metadata": {},
   "source": [
    ":::{adomonition} 例\n",
    "\n",
    "$$\n",
    "A =\n",
    "\\begin{pmatrix}\n",
    "1 & 0\\\\\n",
    "0 & 0\n",
    "\\end{pmatrix}\n",
    "\\hspace{1em}\n",
    "A^2 = \n",
    "\\begin{pmatrix}\n",
    "1 & 0\\\\\n",
    "0 & 0\n",
    "\\end{pmatrix}\n",
    "\\begin{pmatrix}\n",
    "1 & 0\\\\\n",
    "0 & 0\n",
    "\\end{pmatrix}\n",
    "= \n",
    "\\begin{pmatrix}\n",
    "1 & 0\\\\\n",
    "0 & 0\n",
    "\\end{pmatrix}\n",
    "$$\n",
    "\n",
    "\n",
    "$$\n",
    "B =\n",
    "\\begin{pmatrix}\n",
    "2 & 0\\\\\n",
    "0 & 3\n",
    "\\end{pmatrix}\n",
    "\\hspace{1em}\n",
    "B^2 = \n",
    "\\begin{pmatrix}\n",
    "2 & 0\\\\\n",
    "0 & 3\n",
    "\\end{pmatrix}\n",
    "\\begin{pmatrix}\n",
    "2 & 0\\\\\n",
    "0 & 3\n",
    "\\end{pmatrix}\n",
    "= \n",
    "\\begin{pmatrix}\n",
    "4 & 0\\\\\n",
    "0 & 9\n",
    "\\end{pmatrix}\n",
    "$$\n",
    ":::"
   ]
  },
  {
   "cell_type": "markdown",
   "id": "41dc0a23-9db4-4bc8-bdea-8f595b7735d1",
   "metadata": {},
   "source": [
    "#### 普通の数取は異なる計算規則\n",
    "\n",
    "$$\n",
    "\\begin{align}\n",
    "(A + B)^2 &= A^2 + AB + BA + B^2\\\\\n",
    "(A + B) (A - B) &= A^2 - AB + BA - B^2\\\\\n",
    "(AB)^2 &= ABAB\n",
    "\\end{align}\n",
    "$$\n"
   ]
  },
  {
   "cell_type": "markdown",
   "id": "f8f3b346-c851-4b67-a632-b67f40101afe",
   "metadata": {},
   "source": [
    ":::{adomonition} 例\n",
    "\n",
    "$$\n",
    "A =\n",
    "\\begin{pmatrix}\n",
    "1 & 0\\\\\n",
    "0 & 0\n",
    "\\end{pmatrix}\n",
    "\\hspace{1em}\n",
    "B =\n",
    "\\begin{pmatrix}\n",
    "2 & 0\\\\\n",
    "0 & 3\n",
    "\\end{pmatrix}\n",
    "$$\n",
    "\n",
    "$$\n",
    "\\begin{align}\n",
    "AB &=\n",
    "\\begin{pmatrix}\n",
    "1 & 0\\\\\n",
    "0 & 0\n",
    "\\end{pmatrix}\n",
    "\\begin{pmatrix}\n",
    "2 & 0\\\\\n",
    "0 & 3\n",
    "\\end{pmatrix}\n",
    "=\n",
    "\\begin{pmatrix}\n",
    "2 & 0\\\\\n",
    "0 & 0\n",
    "\\end{pmatrix}\n",
    "\\\\\n",
    "(AB)^2 &= \n",
    "\\begin{pmatrix}\n",
    "4 & 0\\\\\n",
    "0 & 0\n",
    "\\end{pmatrix}\n",
    "\\end{align}\n",
    "$$\n",
    ":::"
   ]
  },
  {
   "cell_type": "markdown",
   "id": "bb1c3b9d-db9f-4729-8a1f-ccdb998b57c0",
   "metadata": {},
   "source": [
    "### 逆行列\n",
    "\n",
    "$$\n",
    "(A^{-1})^{-1} = A\n",
    "$$\n"
   ]
  },
  {
   "cell_type": "markdown",
   "id": "390839e4-108d-484f-9b47-a8c0f49271e3",
   "metadata": {},
   "source": [
    "$$\n",
    "(AB)^{-1} = B^{-1} A^{-1}\n",
    "$$"
   ]
  },
  {
   "cell_type": "markdown",
   "id": "b35333aa-37cd-45fd-9b90-6043b1106d0b",
   "metadata": {},
   "source": [
    "$$\n",
    "(A^k)^{-1} = (A^{-1})^k\n",
    "$$"
   ]
  },
  {
   "cell_type": "markdown",
   "id": "fcf06008-ba3b-4c3a-bb69-4859c34e9853",
   "metadata": {},
   "source": [
    "### 左右を入れ替えなければどこにカッコをつけてもおなじ\n",
    "\n",
    "例えばベクトル$\\boldsymbol{x} = (x_1, x_2, \\dots, x_n)$について、$\\boldsymbol{x} \\boldsymbol{x}^T \\boldsymbol{x}$は$(\\boldsymbol{x} \\boldsymbol{x}^T) \\boldsymbol{x}$と捉えるより$\\boldsymbol{x} (\\boldsymbol{x}^T \\boldsymbol{x})$としたほうが楽\n",
    "\n",
    "$$\n",
    "(\\boldsymbol{x} \\boldsymbol{x}^T) \\boldsymbol{x}\n",
    "= \n",
    "\\begin{pmatrix}\n",
    "x_1^2 & x_1 x_2 & \\cdots & x_1 x_n\\\\\n",
    "x_2 x_1 & x_2^2 & \\cdots & x_2 x_n\\\\\n",
    "\\vdots & \\vdots & & \\vdots\\\\\n",
    "x_n x_1 & x_n x_2 & \\cdots & x_n^2\n",
    "\\end{pmatrix}\n",
    "\\begin{pmatrix}\n",
    "x_1\\\\\n",
    "x_2\\\\\n",
    "\\vdots\\\\\n",
    "x_n\n",
    "\\end{pmatrix}\n",
    "= \n",
    "\\begin{pmatrix}\n",
    "x_1^2 \\cdot x_1 + x_1 x_2 \\cdot x_2 + \\cdots + x_1 x_n \\cdot x_n\\\\\n",
    "x_2 x_1 \\cdot x_1 + x_2^2 \\cdot x_2 + \\cdots + x_2 x_n \\cdot x_n\\\\\n",
    "\\vdots\\\\\n",
    "x_n x_1 \\cdot x_1 + x_n x_2 \\cdot x_2 + \\cdots + x_n^2 \\cdot x_n\n",
    "\\end{pmatrix}\n",
    "=\n",
    "\\begin{pmatrix}\n",
    "x_1\\\\\n",
    "x_2\\\\\n",
    "\\vdots\\\\\n",
    "x_n\n",
    "\\end{pmatrix}\n",
    "\\sum^n_{i=1} x_i^2\n",
    "$$\n",
    "\n",
    "$$\n",
    "\\boldsymbol{x} (\\boldsymbol{x}^T \\boldsymbol{x})\n",
    "= \n",
    "\\begin{pmatrix}\n",
    "x_1\\\\\n",
    "x_2\\\\\n",
    "\\vdots\\\\\n",
    "x_n\n",
    "\\end{pmatrix}\n",
    "\\sum^n_{i=1} x_i^2\n",
    "$$"
   ]
  },
  {
   "cell_type": "code",
   "execution_count": null,
   "id": "b3c651cd-25c4-48de-969c-af554a6073c3",
   "metadata": {},
   "outputs": [],
   "source": []
  },
  {
   "cell_type": "code",
   "execution_count": null,
   "id": "c8309e58-6c58-4f51-a8c7-c092b3627244",
   "metadata": {},
   "outputs": [],
   "source": []
  },
  {
   "cell_type": "markdown",
   "id": "90ce4208-e36b-41af-874c-942835f9be3e",
   "metadata": {},
   "source": [
    "## 固有値と固有ベクトル\n",
    "\n",
    "$d$次の正方行列$A$に対して\n",
    "\n",
    "$$\n",
    "A \\b{x} = \\lambda \\b{x}\n",
    "$$\n",
    "\n",
    "が成り立つとき、スカラー$\\lambda$を$A$の**固有値**（eigenvalue）、$d$次元ベクトル$\\b{x} (\\neq \\b{0})$を$A$の$\\lambda$に対応する**固有ベクトル**（eigenvector）と呼ぶ。"
   ]
  },
  {
   "cell_type": "markdown",
   "id": "877a3a46-b842-41ae-ac02-f8a45ce77013",
   "metadata": {},
   "source": [
    "上の式は\n",
    "\n",
    "$$\n",
    "(A - \\lambda I) \\b{x} = \\b{0}\n",
    "$$\n",
    "\n",
    "と表すことができる。これが$\\b{x} \\neq \\b{0}$であるためには\n",
    "\n",
    "$$\n",
    "\\det(A - \\lambda I) = 0\n",
    "$$\n",
    "\n",
    "でなければならない。この式を**固有方程式**と呼び、固有値は固有方程式の解として求める。"
   ]
  },
  {
   "cell_type": "markdown",
   "id": "3adfad12-2918-4115-a219-16161e3032ec",
   "metadata": {},
   "source": [
    ":::{card} 例\n",
    "$$\n",
    "A = \\begin{pmatrix}\n",
    "-3 & -2\\\\\n",
    "4 & 3\n",
    "\\end{pmatrix}\n",
    "$$\n",
    "\n",
    "の場合\n",
    "\n",
    "$$\n",
    "\\begin{align}\n",
    "|A - \\lambda I|\n",
    "&=\n",
    "\\begin{vmatrix}\n",
    "-3 - \\lambda & -2 \\\\\n",
    "4 & 3 - \\lambda \\\\\n",
    "\\end{vmatrix}\n",
    "\\\\\n",
    "&= (-3 \\lambda)(3 - \\lambda) + 4 \\times 2\\\\\n",
    "&= -9 + 3\\lambda - 3\\lambda + \\lambda^2 + 8\\\\\n",
    "&= \\lambda^2 - 1\\\\\n",
    "&= (\\lambda - 1)(\\lambda + 1)\\\\\n",
    "&= 0\n",
    "\\end{align}\n",
    "$$\n",
    "\n",
    "より、$\\lambda = 1, -1$が求まる。（それぞれ$\\lambda_1, \\lambda_2$とおくことにする）\n",
    "\n",
    "$\\lambda_1 = 1$に対応する固有ベクトルを$\\b{x}=(x_1,x_2)^\\top$とおいて次のように求める\n",
    "\n",
    "$$\n",
    "A \\b{x} = \\lambda_1 \\b{x}\n",
    "\\iff\n",
    "\\begin{align}\n",
    "-3 x_1 - 2 x_2 &= x_1\\\\\n",
    "4 x_1 + 3 x_2 &= x_2\\\\\n",
    "\\end{align}\n",
    "$$\n",
    "\n",
    "より$-2 x_1 = x_2$という関係性になるので、変数$s$を使って次のように表す。\n",
    "\n",
    "$$\n",
    "\\b{x} = \\begin{pmatrix}\n",
    "s \\\\ -2 s\n",
    "\\end{pmatrix}\n",
    "$$\n",
    "\n",
    "\n",
    "同様に、$\\lambda_2 = -1$に対応する固有ベクトルを$\\b{y}=(y_1, y_2)^\\top$とおいて次のように求める\n",
    "\n",
    "$$\n",
    "A \\b{x} = \\lambda_2 \\b{y}\n",
    "\\iff\n",
    "\\begin{align}\n",
    "-3 y_1 - 2 y_2 &= -y_1\\\\\n",
    "4 y_1 + 3 y_2 &= -y_2\\\\\n",
    "\\end{align}\n",
    "$$\n",
    "\n",
    "より$y_1 = -y_2$という関係性なので、変数$t$を使って\n",
    "\n",
    "$$\n",
    "\\b{y} = \\begin{pmatrix}\n",
    "t \\\\ -t\n",
    "\\end{pmatrix}\n",
    "$$\n",
    "\n",
    "となる。\n",
    "\n",
    "$s$や$t$は任意の値でよいので、固有ベクトルの長さが1になるように定めると、固有ベクトルは\n",
    "\n",
    "$$\n",
    "\\b{x} = \\begin{pmatrix} 1/\\sqrt{5} \\\\ -2/\\sqrt{5} \\end{pmatrix}\n",
    "  \\simeq \\begin{pmatrix} 0.447 \\\\ -0.894 \\end{pmatrix}\n",
    ", \\hspace{2em}\n",
    "\\b{y} = \\begin{pmatrix} 1/\\sqrt{2} \\\\ -1/\\sqrt{2} \\end{pmatrix}\n",
    "  \\simeq \\begin{pmatrix} 0.707 \\\\ -0.707 \\end{pmatrix}\n",
    "$$\n",
    "\n",
    "となる。\n",
    ":::"
   ]
  },
  {
   "cell_type": "code",
   "execution_count": 9,
   "id": "53605e41-9bd0-412c-983c-fce4d264daed",
   "metadata": {},
   "outputs": [
    {
     "name": "stdout",
     "output_type": "stream",
     "text": [
      "\n",
      "λ=[-1.  1.]\n",
      "x=[ 0.447 -0.894]\n",
      "y=[-0.707  0.707]\n",
      "\n"
     ]
    }
   ],
   "source": [
    "import numpy as np\n",
    "\n",
    "A = np.array([\n",
    "    [-3, -2],\n",
    "    [4, 3],\n",
    "])\n",
    "\n",
    "lambdas, vectors = np.linalg.eig(A)\n",
    "print(f\"\"\"\n",
    "λ={lambdas}\n",
    "x={vectors[:, 1].round(3)}\n",
    "y={vectors[:, 0].round(3)}\n",
    "\"\"\")"
   ]
  },
  {
   "cell_type": "markdown",
   "id": "bd8bcdff-41ba-4d8c-9798-bb41ffc4860f",
   "metadata": {},
   "source": [
    "## 連立方程式\n",
    "\n",
    "未知のベクトル$x$を推定する場合\n",
    "\n",
    "$$\n",
    "Ax = b\n",
    "$$\n",
    "\n",
    "$$\n",
    "x = A^{-1} b\n",
    "$$\n",
    "\n",
    "\n",
    "[線形代数Ｉ/連立一次方程式 - 武内＠筑波大](https://dora.bk.tsukuba.ac.jp/~takeuchi/?%E7%B7%9A%E5%BD%A2%E4%BB%A3%E6%95%B0%EF%BC%A9%2F%E9%80%A3%E7%AB%8B%E4%B8%80%E6%AC%A1%E6%96%B9%E7%A8%8B%E5%BC%8F)"
   ]
  },
  {
   "cell_type": "code",
   "execution_count": null,
   "id": "18dd0e81-5669-48d4-b802-d541f7773498",
   "metadata": {},
   "outputs": [],
   "source": []
  },
  {
   "cell_type": "markdown",
   "id": "0f6beb2a-6b89-4489-b786-c07ed823db25",
   "metadata": {},
   "source": [
    "## 参考\n",
    "\n",
    "- [線形代数基礎](http://www.phys.shimane-u.ac.jp/tanaka_lab/lecture/linear_algebra/linear_algebra.pdf)"
   ]
  },
  {
   "cell_type": "code",
   "execution_count": null,
   "id": "5a4afe57-c8ba-4d86-a6a0-972d8fd2095e",
   "metadata": {},
   "outputs": [],
   "source": []
  }
 ],
 "metadata": {
  "kernelspec": {
   "display_name": "Python 3 (ipykernel)",
   "language": "python",
   "name": "python3"
  },
  "language_info": {
   "codemirror_mode": {
    "name": "ipython",
    "version": 3
   },
   "file_extension": ".py",
   "mimetype": "text/x-python",
   "name": "python",
   "nbconvert_exporter": "python",
   "pygments_lexer": "ipython3",
   "version": "3.9.18"
  }
 },
 "nbformat": 4,
 "nbformat_minor": 5
}
