{
 "cells": [
  {
   "cell_type": "markdown",
   "id": "87e13fbb-3d40-463c-93af-6a07f210bba2",
   "metadata": {},
   "source": [
    "# 集合論"
   ]
  },
  {
   "cell_type": "markdown",
   "id": "5950e654-e853-4981-a750-a2a9bc2fa487",
   "metadata": {},
   "source": [
    "## 集合\n",
    "\n",
    "何かしらの対象の集まりを**集合**（set）といい、その対象をそれぞれその集合の**元**（element, **要素**）という。\n",
    "\n",
    ":::{margin}\n",
    "ある種の集合を**系**（system）や**族**（family）などと呼ぶこともある。例えば「方程式系」、「集合族」、「加法族」など。\n",
    ":::"
   ]
  },
  {
   "cell_type": "markdown",
   "id": "bfd11420-6376-4b2f-850b-247e9922ce5a",
   "metadata": {},
   "source": [
    "### 空集合\n",
    "\n",
    "何も含まれていない集合のことを**空集合**（empty set）といい、$\\emptyset$で表す。"
   ]
  },
  {
   "cell_type": "markdown",
   "id": "97ac24d7-c717-4089-ba9c-9ad247f7e74c",
   "metadata": {},
   "source": [
    "### 要素の記法\n",
    "\n",
    "ある対象$a$が集合$A$に含まれることを$a\\in A$と表し、含まれないことを$a\\notin A$と表す。\n"
   ]
  },
  {
   "cell_type": "markdown",
   "id": "8ddf3b27-9fcf-4754-8ed6-55cee848387d",
   "metadata": {},
   "source": [
    "### 集合の記法\n",
    "\n",
    "#### 外延的記法\n",
    "\n",
    "要素$a, b, c$から成る集合を\n",
    "\n",
    "$$\n",
    "\\{a, b, c \\}\n",
    "$$\n",
    "\n",
    "と表す。このように要素を列挙するような書き方を集合の**外延的記法**という。\n",
    "\n",
    "\n",
    "#### 内包的記法\n",
    "\n",
    "$$\n",
    "\\{ x | x は \\cdots である \\}\n",
    "$$\n",
    "\n",
    "といった具合に、元を表す変数についての性質を記述する方法もあり、これは**内包的記法**と呼ばれる。\n",
    "\n",
    "例えば偶数の集合は、整数を$\\mathbb{Z}$とすると\n",
    "\n",
    "$$\n",
    "\\text{（偶数の集合）}= \\{ y | y = 2m, m \\in \\mathbb{Z} \\}\n",
    "$$\n",
    "\n",
    "あるいは\n",
    "\n",
    "$$\n",
    "\\text{（偶数の集合）}= \\{ y | \\exists \\ m \\in \\mathbb{Z} \\ \\text{s.t.} (t = 2m) \\}\n",
    "$$\n",
    "\n",
    "のように表記することができる。\n",
    "\n",
    "\n"
   ]
  },
  {
   "cell_type": "markdown",
   "id": "4c34a1ce-2325-4318-a522-2180fb792b15",
   "metadata": {},
   "source": [
    "## 集合同士の関係\n",
    "\n",
    ":::{admonition} 定義（補集合）\n",
    "集合$A$に対して、集合$A$の元でないものの集合\n",
    "\n",
    "$$\n",
    "\\{x|x\\notin A\\}\n",
    "$$\n",
    "\n",
    "を集合$A$の**補集合**といい、$A^c$と書く\n",
    ":::\n",
    "\n",
    ":::{admonition} 定義（積集合）\n",
    "集合$A$, 集合$B$に対して、\n",
    "\n",
    "$$\n",
    "\\{x|x\\in A \\land x \\in B\\}\n",
    "$$\n",
    "\n",
    "を集合$A$と集合$B$の**積集合**といい、$A\\cap B$と書く\n",
    ":::\n",
    "\n",
    "\n",
    ":::{admonition} 定義（和集合）\n",
    "集合$A$, 集合$B$に対して、\n",
    "\n",
    "$$\n",
    "\\{x|x\\in A \\lor x \\in B\\}\n",
    "$$\n",
    "\n",
    "を集合$A$と集合$B$の**和集合**といい、$A\\cup B$と書く\n",
    ":::\n",
    "\n",
    "\n",
    ":::{admonition} 定義（部分集合）\n",
    "集合$A$, 集合$B$に対して、\n",
    "\n",
    "$$\n",
    "^\\forall x, (x \\in A \\Rightarrow x \\in B)\n",
    "$$\n",
    "\n",
    "（任意の$x$に対して、$A$の元ならば$B$の元でもある）\n",
    "\n",
    "が成り立つ時、集合$A$は集合$B$に含まれる、もしくは集合$A$は集合$B$の**部分集合**といい、$A \\subset B$と書く\n",
    ":::\n",
    "\n",
    "集合$A$と集合$B$に対して$A \\subset B$かつ$B \\subset A$が成立するならば、集合$A$と集合$B$は**等しい**といい、$A=B$と書く。\n"
   ]
  },
  {
   "cell_type": "markdown",
   "id": "14494473-0722-4a1b-a480-2ac07cc7e62c",
   "metadata": {},
   "source": [
    "### ド・モルガンの法則\n",
    "\n",
    ":::{admonition} 定義（ド・モルガンの法則）\n",
    "任意の集合$A,B$に対し\n",
    "\n",
    "$$\n",
    "(A \\cup B)^c = (A^c \\cap B^c)\n",
    "$$\n",
    "\n",
    "が成立する\n",
    ":::\n",
    "\n",
    "\n",
    "::::{margin}\n",
    ":::{admonition} 定義（論理のド・モルガンの法則）\n",
    "$p, q$を変数的命題とする。このとき以下が成立する\n",
    "\n",
    "$$\n",
    "\\lnot (p\\land q) \\equiv (\\lnot p \\lor \\lnot q)\\\\\n",
    "\\lnot (p\\lor q) \\equiv (\\lnot p \\land \\lnot q)\n",
    "$$\n",
    ":::\n",
    "::::"
   ]
  },
  {
   "cell_type": "markdown",
   "id": "bf9c2316-2e5c-4615-ae5e-3131672d4423",
   "metadata": {},
   "source": [
    "**（証明）**\n",
    "\n",
    "$^\\forall x \\in (A \\cup B)^c$に対して、\n",
    "\n",
    "$$\n",
    "\\begin{align}\n",
    "x \\in (A\\cup B)^c\n",
    "&\\equiv x \\notin (A \\cup B)\\\\\n",
    "&\\equiv x \\in \\{ y | \\lnot (y \\in A \\lor y \\in B) \\}\\\\\n",
    "&\\equiv x \\in \\{ y | y \\notin A \\land y \\notin B \\} (\\text{論理のド・モルガンの法則})\\\\\n",
    "&\\equiv x \\notin A \\land x \\notin B\\\\\n",
    "&\\equiv x \\in A^c \\land x \\in B^c\\\\\n",
    "&\\equiv x \\in (A^c \\cap B^c)\\\\\n",
    "\\end{align}\n",
    "$$\n",
    "\n",
    "よって\n",
    "\n",
    "$$\n",
    "^\\forall x, (x \\in (A\\cup B)^c \\Rightarrow x \\in (A^c \\cap B^c))\\\\\n",
    "$$\n",
    "\n",
    "から$(A \\cup B)^c \\subset (A^c \\cap B^c)$\n",
    "\n",
    "同様に\n",
    "\n",
    "$$\n",
    "^\\forall x, (x \\in (A^c \\cap B^c) \\Rightarrow x \\in (A\\cup B)^c)\\\\\n",
    "$$\n",
    "\n",
    "から$(A^c \\cap B^c) \\subset (A \\cup B)^c$\n",
    "\n",
    "であるため、\n",
    "\n",
    "$$\n",
    "(A \\cup B)^c = (A^c \\cap B^c)\n",
    "$$\n"
   ]
  },
  {
   "cell_type": "markdown",
   "id": "d418916e-87b9-4c57-a24b-49afb8b4f919",
   "metadata": {},
   "source": [
    "### 集合族\n",
    "\n",
    "集合族：集合の集合\n",
    "\n",
    "\n",
    ":::{admonition} 定義（集合族）\n",
    "集合$A_1, A_2, \\cdots, A_n$があるとする。\n",
    "\n",
    "このとき、すべての$k (k=1,2,\\cdots,n)$で$A_k \\in X$となる$X$を、$A_1, A_2, \\cdots, A_n$による**集合族**（family of sets）という。\n",
    ":::\n"
   ]
  },
  {
   "cell_type": "markdown",
   "id": "eafead28-5a24-40dd-81ba-2141e9a0642e",
   "metadata": {},
   "source": [
    "ある集合の部分集合をすべて数え上げた集合族のことを冪集合という。\n",
    "\n",
    ":::{admonition} 定義（冪集合）\n",
    "集合$A$に対して、集合族\n",
    "\n",
    "$$\n",
    "\\{X | Xは集合でX\\subset A を満たす \\}\n",
    "$$\n",
    "\n",
    "のことを**冪集合**といい、$2^A$と書く。\n",
    ":::\n"
   ]
  },
  {
   "cell_type": "markdown",
   "id": "52c72b1e-b409-4e4a-bbd3-4225749b3b12",
   "metadata": {},
   "source": [
    "### 商集合、同値類、MECE"
   ]
  },
  {
   "cell_type": "markdown",
   "id": "df1f8de4-50f8-482d-a120-128dc2aea81c",
   "metadata": {},
   "source": [
    "### 直積集合\n",
    "\n",
    "順序対とは、プログラミングの配列や線形代数のベクトルのように順序に意味がある数字の並びのこと。\n",
    "\n",
    ":::{admonition} 定義（順序対）\n",
    "\n",
    "何らかの対象を2つ並べたものを**順序対**という。例えば$a, b$が対象であれば$(a, b)$と書き、$a$は順序対$(a,b)$の第1成分であるといい、$b$は第2成分という。\n",
    "\n",
    "また、2つの順序対$(a, b)$と$(x, y)$について\n",
    "\n",
    "$$\n",
    "a = x \\land b = y\n",
    "$$\n",
    "\n",
    "が成り立つとき、2つの順序対は等しいという。\n",
    ":::\n",
    "\n",
    "順序対の集合を直積集合という。\n",
    "\n",
    ":::{admonition} 定義（直積集合）\n",
    "\n",
    "集合$A, B$に対して$A$と$B$の**直積集合**$A\\times B$は以下のように定義される\n",
    "\n",
    "$$\n",
    "A\\times B := \\{ (a, b) | a \\in A, b \\in B \\}\n",
    "$$\n",
    "\n",
    ":::\n",
    "\n",
    "直積集合の身近な例はxy平面で、あれは\n",
    "\n",
    "$$\n",
    "\\mathbb{R}\\times \\mathbb{R}\n",
    "= \\{ (x, y) | x \\in \\mathbb{R}, y \\in \\mathbb{R} \\}\n",
    "$$\n",
    "\n",
    "である"
   ]
  },
  {
   "cell_type": "markdown",
   "id": "4c876321-ed9d-4b60-9831-354d3654795c",
   "metadata": {},
   "source": [
    "## 写像\n",
    "\n",
    ":::{admonition} 定義（写像）\n",
    "集合$A$と集合$B$があるとする。集合$A$の任意の1つの元に対して集合$B$の元が一つ決まる規則があるとき、その規則を$A$から$B$への**写像**（mapping, map）といい\n",
    "\n",
    "$$\n",
    "f: A \\to B\n",
    "$$\n",
    "\n",
    "と書く。\n",
    "\n",
    "また集合$A$を**始集合**や**定義域**（domain）といい、集合$B$のことを**終集合**という。集合$B$の中で$A$の元$a$を移した元のことを**値**や**像**といい、$f(a)$あるいは$f_a$と表す。\n",
    "値の集合のことを**値域**（range）や**像**（image）といい、$\\text{Im}(f)$や$f(A)$と書く。\n",
    ":::\n",
    "\n",
    "\n",
    ":::{admonition} 定義（関数）\n",
    "$f$を集合$A$と集合$B$への写像とする。値域$\\text{Im}(f)$が実数$\\mathbb{R}$（複素数$\\mathbb{C}$）の部分集合になっているとき、$f$を集合$A$から$B$への**（汎）関数**という\n",
    ":::\n"
   ]
  },
  {
   "cell_type": "markdown",
   "id": "1fee135d-5691-4cc9-b1d8-1d0cfc3aa2b6",
   "metadata": {},
   "source": [
    ":::{admonition} 定義（全射）\n",
    "$f$を集合$A$と集合$B$への写像とする。以下を満たすとき、写像$f$は**全射** (surjection) であるという。\n",
    "\n",
    "$$\n",
    "\\{ y | f(x) = y, x \\in A \\} = B\n",
    "$$\n",
    "\n",
    "（像の集合が$B$と一致する）\n",
    ":::\n"
   ]
  },
  {
   "cell_type": "markdown",
   "id": "520fee64-d624-499d-9215-7c4a6b247838",
   "metadata": {},
   "source": [
    ":::{admonition} 定義（単射）\n",
    "$f$を集合$A$と集合$B$への写像とする。以下を満たすとき、写像$f$は**単射** （injection）であるという。\n",
    "\n",
    "$$\n",
    "^\\forall x \\in A,\n",
    "^\\forall y \\in A,\n",
    "(x \\neq y \\implies f(x) \\neq f(y))\n",
    "$$\n",
    "\n",
    "（$A$の任意の元$x, y$について、$x$と$y$が違う元なら、移した先の$f(x)$と$f(y)$も違う元である）\n",
    ":::\n"
   ]
  },
  {
   "cell_type": "markdown",
   "id": "63b0db2d-44c9-413b-8ce3-f1767d272160",
   "metadata": {},
   "source": [
    ":::{admonition} 定義（全単射）\n",
    "$f$を集合$A$と集合$B$への写像とする。\n",
    "\n",
    "$f$が全射かつ単射であるとき、写像$f$は**全単射**であるという。\n",
    ":::\n"
   ]
  },
  {
   "cell_type": "markdown",
   "id": "a489eb62-30d7-4d2d-9356-6922ea558c0e",
   "metadata": {},
   "source": [
    "## 構造\n",
    "\n",
    "集合に演算規則などの構造を定めていくこともできる\n",
    "\n",
    "例えば\n",
    "\n",
    "1. 代数構造：計算規則が定まっている構造\n",
    "2. 距離（位相）構造：ユークリッド距離などを定める。なお距離関数が定まっている集合を距離空間という。位相は距離を離散的に表すイメージ。\n",
    "3. 測度構造：いくつかの性質を持つ冪集合から実数の集合$\\mathbb{R}$への関数を測度という。測度が定義された集合を測度空間という\n"
   ]
  },
  {
   "cell_type": "markdown",
   "id": "2e38f108-5633-4c60-9051-519bb333ad66",
   "metadata": {},
   "source": [
    "## 参考文献\n",
    "\n",
    "- 大蔵陽一（2016）『大学数学ほんとうに必要なのは集合』\n",
    "- 赤攝也（2019）『現代数学概論』"
   ]
  },
  {
   "cell_type": "code",
   "execution_count": null,
   "id": "ec5ef9ed-91db-4902-b083-92d5ae32f2c9",
   "metadata": {},
   "outputs": [],
   "source": []
  }
 ],
 "metadata": {
  "kernelspec": {
   "display_name": "Python 3 (ipykernel)",
   "language": "python",
   "name": "python3"
  },
  "language_info": {
   "codemirror_mode": {
    "name": "ipython",
    "version": 3
   },
   "file_extension": ".py",
   "mimetype": "text/x-python",
   "name": "python",
   "nbconvert_exporter": "python",
   "pygments_lexer": "ipython3",
   "version": "3.9.18"
  }
 },
 "nbformat": 4,
 "nbformat_minor": 5
}
