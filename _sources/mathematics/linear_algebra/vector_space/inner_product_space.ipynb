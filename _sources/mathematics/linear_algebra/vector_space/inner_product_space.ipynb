{
 "cells": [
  {
   "cell_type": "markdown",
   "id": "749b0598-bc05-47d1-b303-cd1dea45eb1a",
   "metadata": {},
   "source": [
    "# 内積空間"
   ]
  },
  {
   "cell_type": "markdown",
   "id": "8d1f690b-b694-43c1-bfe3-137aa6e0c3ab",
   "metadata": {},
   "source": [
    "## 内積\n",
    "\n",
    "ベクトル$\\boldsymbol{a}, \\boldsymbol{b} \\in \\mathbb{R}^n$に対して、実数値\n",
    "\n",
    "$$\n",
    "a_1 b_2 + \\cdots + a_n b_n = \n",
    "\\boldsymbol{a}^T \\boldsymbol{b}\n",
    "$$\n",
    "\n",
    "をベクトル$\\boldsymbol{a}$と$\\boldsymbol{b}$の **内積** といい、記号$(\\boldsymbol{a}, \\boldsymbol{b})$ や $\\langle \\boldsymbol{a}, \\boldsymbol{b} \\rangle$などで表す。"
   ]
  },
  {
   "cell_type": "markdown",
   "id": "5f6cdd78-5ce3-4584-991c-70ff435d9a85",
   "metadata": {},
   "source": [
    ":::{margin}\n",
    "\n",
    "$$\n",
    "\\|\\boldsymbol{a}\\|\n",
    "\\|\\boldsymbol{b}\\|\n",
    "\\cos \\theta\n",
    "$$\n",
    "\n",
    "を内積の定義とする書籍もあるが、$\\boldsymbol{a}^T \\boldsymbol{b}$と同値である\n",
    ":::"
   ]
  },
  {
   "cell_type": "markdown",
   "id": "56f27a0e-68ab-4dd0-b4bb-97dee4136762",
   "metadata": {},
   "source": [
    "### 標準的な内積\n",
    "\n",
    "任意の2つのベクトル$\\boldsymbol{a}, \\boldsymbol{b}$に対して、実数$\\langle \\boldsymbol{a}, \\boldsymbol{b} \\rangle$を対応させる対応\n",
    "\n",
    "$$\n",
    "\\langle \\quad, \\quad \\rangle\n",
    ": \\mathbb{R}^n \\times \\mathbb{R}^n \\to \\mathbb{R}\n",
    "$$\n",
    "\n",
    "のことを、$\\mathbb{R}^n$の **内積** という。この内積のことを一般の内積と分けて **$\\mathbb{R}^n$の標準的な内積** または **自然な内積** という。"
   ]
  },
  {
   "cell_type": "markdown",
   "id": "6f68524b-8239-460c-9b82-99e0e4e724f0",
   "metadata": {},
   "source": [
    ":::{admonition} 定理\n",
    "\n",
    "$R^n$ の標準的な内積は次の性質をもつ.\n",
    "\n",
    "(1) $(\\boldsymbol{a}, \\boldsymbol{b})=(\\boldsymbol{b}, \\boldsymbol{a})$\n",
    "\n",
    "(2) $(\\boldsymbol{a}+\\boldsymbol{b}, \\boldsymbol{c})=(\\boldsymbol{a}, \\boldsymbol{c})+(\\boldsymbol{b}, \\boldsymbol{c}), \\quad(\\boldsymbol{a}, \\boldsymbol{b}+\\boldsymbol{c})=(\\boldsymbol{a}, \\boldsymbol{b})+(\\boldsymbol{a}, \\boldsymbol{c})$\n",
    "\n",
    "(3) $(k \\boldsymbol{a}, \\boldsymbol{b})=(\\boldsymbol{a}, k \\boldsymbol{b})=k(\\boldsymbol{a}, \\boldsymbol{b}) \\quad(k \\in \\boldsymbol{R})$\n",
    "\n",
    "(4) $(\\boldsymbol{a}, \\boldsymbol{a}) \\geqq 0$. ここで $(\\boldsymbol{a}, \\boldsymbol{a})=0$ と $\\boldsymbol{a}=\\mathbf{0}$ とは同値である.\n",
    ":::"
   ]
  },
  {
   "cell_type": "markdown",
   "id": "7546f3be-b5e5-4899-bcff-51c5e9961349",
   "metadata": {},
   "source": [
    "## 内積空間（計量ベクトル空間）\n",
    "\n",
    ":::{admonition} 定義\n",
    "$\\mathbb{R}$ 上のベクトル空間 $V$ において、任意の2つのべクトル $\\boldsymbol{a}, \\boldsymbol{b}$に対して実数$(\\boldsymbol{a}, \\boldsymbol{b})$が定まり、次の(1)~(4)を満たすとき、$(\\boldsymbol{a},\\boldsymbol{b})$を$\\boldsymbol{a}$と$\\boldsymbol{b}$の **内積** という。\n",
    "\n",
    "(1) $(\\boldsymbol{a}, \\boldsymbol{b})=(\\boldsymbol{b}, \\boldsymbol{a})$\n",
    "\n",
    "(2) $(\\boldsymbol{a}+\\boldsymbol{b}, \\boldsymbol{c})=(\\boldsymbol{a}, \\boldsymbol{c})+(\\boldsymbol{b}, \\boldsymbol{c})$\n",
    "\n",
    "(3) $(k \\boldsymbol{a}, \\boldsymbol{b})=k(\\boldsymbol{a}, \\boldsymbol{b}) \\quad(k \\in \\boldsymbol{R})$\n",
    "\n",
    "(4) $(\\boldsymbol{a}, \\boldsymbol{a}) \\geqq 0$ で， $(\\boldsymbol{a}, \\boldsymbol{a})=0 \\Longleftrightarrow \\boldsymbol{a}=\\mathbf{0}$\n",
    "\n",
    "内積の定義されたベクトル空間を **計量ベクトル空間** 、または **内積空間** という。\n",
    ":::"
   ]
  },
  {
   "cell_type": "markdown",
   "id": "7cecc8e9-7ee5-4c14-baf2-e15b5821b517",
   "metadata": {},
   "source": [
    "### 内積の存在\n",
    "\n",
    "一般のベクトル空間には、内積が（複数）存在する。\n",
    "\n",
    ":::{admonition} 定理\n",
    "\n",
    "$V$ をベクトル空間， $v_1, \\cdots, v_n$ をその 1 つの基底とする. $V$ の 任意のベクトル $\\boldsymbol{a}, \\boldsymbol{b}$ が与えられたとき，これらをこの基底の 1 次結合で表わす。\n",
    "\n",
    "$$\n",
    "\\begin{array}{ll}\n",
    "\\boldsymbol{a}=a_1 \\boldsymbol{v}_1+\\cdots+a_n \\boldsymbol{v}_n & \\left(a_i \\in \\boldsymbol{R}\\right) \\\\\n",
    "\\boldsymbol{b}=b_1 \\boldsymbol{v}_1+\\cdots+b_n \\boldsymbol{v}_n & \\left(b_i \\in \\boldsymbol{R}\\right)\n",
    "\\end{array}\n",
    "$$\n",
    "\n",
    "\n",
    "そのとき,\n",
    "\n",
    "$$\n",
    "(\\boldsymbol{a}, \\boldsymbol{b})=a_1 b_1+\\cdots+a_n b_n\n",
    "$$\n",
    "\n",
    "\n",
    "とおくと， $(\\boldsymbol{a}, \\boldsymbol{b})$ は内積である。\n",
    "この内積に関して $v_1, \\cdots, v_n$ は後に述べる正規直交基底である。すなわち，次 が成り立つ。\n",
    "\n",
    "$$\n",
    "\\left(\\boldsymbol{v}_i, \\boldsymbol{v}_j\\right)=0 \\quad(i \\neq j), \\quad\\left(\\boldsymbol{v}_i, \\boldsymbol{v}_j\\right)=1 \\quad(i=j)\n",
    "$$\n",
    ":::"
   ]
  },
  {
   "cell_type": "markdown",
   "id": "dc0d022d-77d1-48e0-9f6e-86ff87efcf22",
   "metadata": {},
   "source": [
    "### ノルム\n",
    "\n",
    "計量ベクトル空間$V$では、内積を用いてベクトルの長さが定義される。\n",
    "\n",
    "$\\boldsymbol{a} \\in V$に対して$\\sqrt{\\langle \\boldsymbol{a}, \\boldsymbol{a} \\rangle}$をベクトル$\\boldsymbol{a}$の **長さ** または **ノルム** といい、$\\|\\boldsymbol{a}\\|$で表す。すなわち\n",
    "\n",
    "$$\n",
    "\\|\\boldsymbol{a}\\|\n",
    "= \\sqrt{\\langle \\boldsymbol{a}, \\boldsymbol{a}\\rangle},\n",
    "\\quad\n",
    "\\|\\boldsymbol{a}\\|^2=\n",
    "\\langle \\boldsymbol{a}, \\boldsymbol{a}\\rangle\n",
    "$$\n",
    "\n",
    "である。"
   ]
  },
  {
   "cell_type": "markdown",
   "id": "55d8d26a-f0b1-400b-8b32-cad8d0cf489b",
   "metadata": {},
   "source": [
    "### 直交\n",
    "\n",
    "$V$を計量ベクトル空間とする。$\\boldsymbol{a}, \\boldsymbol{b} \\in V$について、$(\\boldsymbol{a}, \\boldsymbol{b}) = 0$を満たすとき、$\\boldsymbol{a}, \\boldsymbol{b}$は **直交する** といい、\n",
    "\n",
    "$$\n",
    "\\boldsymbol{a} \\perp \\boldsymbol{b} = 0\n",
    "$$\n",
    "\n",
    "で表す"
   ]
  },
  {
   "cell_type": "code",
   "execution_count": null,
   "id": "759a9a6c-027d-4a81-b35e-a782c3010a21",
   "metadata": {},
   "outputs": [],
   "source": []
  },
  {
   "cell_type": "code",
   "execution_count": null,
   "id": "ac9082d6-ef77-4eea-870e-90680fa1820d",
   "metadata": {},
   "outputs": [],
   "source": []
  },
  {
   "cell_type": "code",
   "execution_count": null,
   "id": "0df3b520-94b5-467a-bf0d-0bb1f4f2db37",
   "metadata": {},
   "outputs": [],
   "source": []
  }
 ],
 "metadata": {
  "kernelspec": {
   "display_name": "Python 3 (ipykernel)",
   "language": "python",
   "name": "python3"
  },
  "language_info": {
   "codemirror_mode": {
    "name": "ipython",
    "version": 3
   },
   "file_extension": ".py",
   "mimetype": "text/x-python",
   "name": "python",
   "nbconvert_exporter": "python",
   "pygments_lexer": "ipython3",
   "version": "3.10.14"
  }
 },
 "nbformat": 4,
 "nbformat_minor": 5
}
