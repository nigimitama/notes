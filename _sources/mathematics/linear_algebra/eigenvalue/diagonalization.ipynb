{
 "cells": [
  {
   "cell_type": "markdown",
   "id": "90d5f2e1-2ce8-4d73-aaf7-ad3755bd6705",
   "metadata": {},
   "source": [
    "# 対角化"
   ]
  },
  {
   "cell_type": "markdown",
   "id": "edb4602d-f7d8-4058-aa41-316a40ad9c05",
   "metadata": {},
   "source": [
    "## 対角化の条件\n",
    "\n",
    "$V$を$\\mathbb{R}$上の有限次元ベクトル空間、$F$を$V$の線形変換とする。$V$の適当な基底$\\mathcal{B}$をとれば、それに関する$F$の表現行列\n",
    "\n",
    "$$\n",
    "[F]_{\\mathcal{B}}\n",
    "$$\n",
    "\n",
    "が対角行列となるとき、$F$は **対角化可能** であるという。\n",
    "\n",
    "\n",
    "また、行列$A\\in M_n(\\mathbb{R})$に対して、適当な正則行列$P\\in M(\\mathbb{R})$をとり、\n",
    "\n",
    "$$\n",
    "P^{-1} A P\n",
    "$$\n",
    "\n",
    "が対角行列となるとき、$A$は $\\mathbb{R}$ **において対角化可能** であるという。\n"
   ]
  },
  {
   "cell_type": "markdown",
   "id": "07335bd6-836d-4bb3-a6a7-0061783b02a7",
   "metadata": {},
   "source": [
    ":::{admonition} 定理（対角化の必要十分条件）\n",
    "\n",
    "有限次元ベクトル空間 $V$ の線型変換 $F$ が対角化可能であるための必要十分条件は、 $F$ の固有ベクトルから成るような $V$ の基底が存在することである。\n",
    "\n",
    "くわしくいえば, $V$ の基底 $\\mathcal{B}=\\left\\{v_1, \\cdots, v_n\\right\\}$ に関する次の 2 つの条件 は同等である。\n",
    "\n",
    "1. $\\mathcal{B}$ に関する $F$ の表現行列 $[F]_{\\mathcal{B}}$ は対角行列である。\n",
    "2. $v_1, \\cdots, v_n$ はすべて $F$ の固有ベクトルである。\n",
    ":::\n",
    "\n",
    ":::{dropdown} 証明\n",
    "\n",
    "表現行列 $[F]_{\\mathcal{B}}$ が対角行列\n",
    "\n",
    "$$\n",
    "\\begin{pmatrix}\n",
    "\\lambda_1 & & & \\\\\n",
    "& \\lambda_2 & & \\\\\n",
    "& & \\ddots & \\\\\n",
    "& & & \\lambda_n\n",
    "\\end{pmatrix}\n",
    "$$\n",
    "\n",
    "となるならば、\n",
    "\n",
    "$$\n",
    "F\\left(v_1\\right)=\\lambda_1 v_1, \\quad F\\left(v_2\\right)=\\lambda_2 v_2, \\quad \\cdots, \\quad F\\left(v_n\\right)=\\lambda_n v_n\n",
    "$$\n",
    "\n",
    "であるから $v_1, \\cdots, v_n$ はいずれも $F$ の固有ベクトルである。\n",
    "\n",
    "逆に $v_1, \\cdots, v_n$ が すべて固有ベクトルで、それぞれ固有値 $\\lambda_1, \\cdots, \\lambda_n$ に属するならば、明らかに $[F]_{\\mathcal{B}}$ は対角行列となる。\n",
    ":::"
   ]
  },
  {
   "cell_type": "markdown",
   "id": "0d8ca99f-687e-4121-b2eb-8694ec0d16f1",
   "metadata": {},
   "source": [
    ":::{admonition} 定理（対角化の必要十分条件）\n",
    "\n",
    "$A \\in M_n(\\boldsymbol{R})$ が $\\boldsymbol{R}$ において対角化可能であるための必要十分条件は、\n",
    "$A$ の $\\boldsymbol{R}$ における固有ベクトルから成るような $\\boldsymbol{R}^n$ の基底が存在すること、\n",
    "いいかえれば、 $A$ の $\\boldsymbol{R}$ における $n$ 個の1次独立な固有ベクトルが存在することである。\n",
    ":::\n",
    "\n",
    "\n",
    ":::{dropdown} 証明\n",
    "\n",
    "線形変換$F: \\mathbb{R}^n \\to \\mathbb{R}^n$の基底$\\mathcal{B}$についての表現行列$A$が対角行列\n",
    "\n",
    "$$\n",
    "\\begin{pmatrix}\n",
    "\\lambda_1 & & & \\\\\n",
    "& \\lambda_2 & & \\\\\n",
    "& & \\ddots & \\\\\n",
    "& & & \\lambda_n\n",
    "\\end{pmatrix}\n",
    "$$\n",
    "\n",
    "となるならば、\n",
    "\n",
    "$$\n",
    "A v_1=\\lambda_1 v_1, \\quad A v_2=\\lambda_2 v_2, \\quad \\cdots, \\quad A v_n=\\lambda_n v_n\n",
    "$$\n",
    "\n",
    "であるから $v_1, \\cdots, v_n$ はいずれも $A$ の固有ベクトルである。\n",
    "\n",
    "逆に $v_1, \\cdots, v_n$ が すべて固有ベクトルで、それぞれ固有値 $\\lambda_1, \\cdots, \\lambda_n$ に属するならば、明らかに $A$ は対角行列となる。\n",
    ":::"
   ]
  },
  {
   "cell_type": "markdown",
   "id": "2af71136-8ca4-4b28-8260-9481522a8e57",
   "metadata": {},
   "source": [
    "## 対角化の方法\n",
    "\n",
    "$A\\in M_n(\\mathbb{R})$が$\\mathbb{R}$において対角化可能であるとき、$A$を対角化する行列$P$、すなわち、$P^{-1}AP$が対角行列となるような正則行列$P$は、固有ベクトルによって求められる。\n",
    "\n",
    "$A$の（$\\mathbb{R}$における）$n$個の1次独立な固有ベクトルを$\\boldsymbol{x}_1, \\cdots \\boldsymbol{x}_n$とし、それらを列ベクトルとする行列を$P=(\\boldsymbol{x}_1, \\cdots \\boldsymbol{x}_n)$とすれば、\n",
    "\n",
    "$$\n",
    "P^{-1} A P=\n",
    "\\begin{pmatrix}\n",
    "\\lambda_1 & & & \\\\\n",
    "& \\lambda_2 & & \\\\\n",
    "& & \\ddots & \\\\\n",
    "& & & \\lambda_n\n",
    "\\end{pmatrix}\n",
    "$$\n",
    "\n",
    "となる。ここで、$A \\boldsymbol{x}_1 = \\lambda_1 \\boldsymbol{x}_1, \\ A \\boldsymbol{x}_2 = \\lambda_2 \\boldsymbol{x}_2,\\ \\cdots ,\\ A \\boldsymbol{x}_n = \\lambda_n \\boldsymbol{x}_n$ である。"
   ]
  },
  {
   "cell_type": "markdown",
   "id": "4eeb2417-8649-4316-beb0-df4b8e8dfa81",
   "metadata": {},
   "source": [
    ":::{tip}\n",
    "\n",
    "$$\n",
    "AP\n",
    "= \\begin{pmatrix} A \\boldsymbol{x}_1 & A \\boldsymbol{x}_2 & \\cdots & A \\boldsymbol{x}_n \\end{pmatrix}\n",
    "= \\begin{pmatrix} \\lambda_1 \\boldsymbol{x}_1 & \\lambda_2 \\boldsymbol{x}_2 & \\cdots & \\lambda_n \\boldsymbol{x}_n \\end{pmatrix}\n",
    "= P\n",
    "\\begin{pmatrix}\n",
    "\\lambda_1 & & & \\\\\n",
    "& \\lambda_2 & & \\\\\n",
    "& & \\ddots & \\\\\n",
    "& & & \\lambda_n\n",
    "\\end{pmatrix}\n",
    "$$\n",
    "\n",
    "となるため、\n",
    "\n",
    "$$\n",
    "P^{-1} A P\n",
    "= P^{-1} P\n",
    "\\begin{pmatrix}\n",
    "\\lambda_1 & & & \\\\\n",
    "& \\lambda_2 & & \\\\\n",
    "& & \\ddots & \\\\\n",
    "& & & \\lambda_n\n",
    "\\end{pmatrix}\n",
    "= \n",
    "\\begin{pmatrix}\n",
    "\\lambda_1 & & & \\\\\n",
    "& \\lambda_2 & & \\\\\n",
    "& & \\ddots & \\\\\n",
    "& & & \\lambda_n\n",
    "\\end{pmatrix}\n",
    "$$\n",
    "\n",
    ":::"
   ]
  },
  {
   "cell_type": "markdown",
   "id": "f044d8b7-0d82-4b3b-9948-98896a8b52ac",
   "metadata": {},
   "source": [
    "### 例"
   ]
  },
  {
   "cell_type": "code",
   "execution_count": 54,
   "id": "e435f5bd-6f08-4781-82d7-94dcca385921",
   "metadata": {},
   "outputs": [
    {
     "name": "stdout",
     "output_type": "stream",
     "text": [
      "λ = [-1, 4]\n",
      "P =\n"
     ]
    },
    {
     "data": {
      "text/latex": [
       "$\\displaystyle \\left[\\begin{matrix}- \\frac{3}{2} & 1\\\\1 & 1\\end{matrix}\\right]$"
      ],
      "text/plain": [
       "Matrix([\n",
       "[-3/2, 1],\n",
       "[   1, 1]])"
      ]
     },
     "execution_count": 54,
     "metadata": {},
     "output_type": "execute_result"
    }
   ],
   "source": [
    "import sympy as sp\n",
    "A = sp.Matrix([\n",
    "    [1, 3],\n",
    "    [2, 2]\n",
    "])\n",
    "values = []\n",
    "vectors = []\n",
    "for e in A.eigenvects():\n",
    "    values.append(e[0])\n",
    "    vectors.append(e[2][0])\n",
    "print(f\"λ =\", values)\n",
    "\n",
    "# 固有ベクトルを列ベクトルとして作った行列\n",
    "P = sp.Matrix(vectors).reshape(*A.shape)\n",
    "print(\"P =\")\n",
    "P"
   ]
  },
  {
   "cell_type": "code",
   "execution_count": 50,
   "id": "1a28d1f8-d1bd-402b-8b3d-6dc3fb99e831",
   "metadata": {},
   "outputs": [
    {
     "data": {
      "text/latex": [
       "$\\displaystyle \\left[\\begin{matrix}\\frac{3}{2} & 4\\\\-1 & 4\\end{matrix}\\right]$"
      ],
      "text/plain": [
       "Matrix([\n",
       "[3/2, 4],\n",
       "[ -1, 4]])"
      ]
     },
     "execution_count": 50,
     "metadata": {},
     "output_type": "execute_result"
    }
   ],
   "source": [
    "# (λ1 x1, λ2 x2)\n",
    "sp.Matrix([values[0] * vectors[0], values[1] * vectors[1]]).reshape(*A.shape).T"
   ]
  },
  {
   "cell_type": "code",
   "execution_count": 48,
   "id": "8ea7d250-2eec-45ba-ae12-1e4375b84d3c",
   "metadata": {},
   "outputs": [
    {
     "data": {
      "text/latex": [
       "$\\displaystyle \\left[\\begin{matrix}\\frac{3}{2} & 4\\\\-1 & 4\\end{matrix}\\right]$"
      ],
      "text/plain": [
       "Matrix([\n",
       "[3/2, 4],\n",
       "[ -1, 4]])"
      ]
     },
     "execution_count": 48,
     "metadata": {},
     "output_type": "execute_result"
    }
   ],
   "source": [
    "# P @ (λを対角要素にもつ行列)\n",
    "P @ sp.diag(*values)"
   ]
  },
  {
   "cell_type": "code",
   "execution_count": 53,
   "id": "bf2d6c01-c9d8-49a9-9858-f9631e19dc83",
   "metadata": {},
   "outputs": [
    {
     "data": {
      "text/latex": [
       "$\\displaystyle \\left[\\begin{matrix}-1 & 0\\\\0 & 4\\end{matrix}\\right]$"
      ],
      "text/plain": [
       "Matrix([\n",
       "[-1, 0],\n",
       "[ 0, 4]])"
      ]
     },
     "execution_count": 53,
     "metadata": {},
     "output_type": "execute_result"
    }
   ],
   "source": [
    "P.inv() @ A @ P"
   ]
  },
  {
   "cell_type": "markdown",
   "id": "99b3428e-12d4-467a-a8ec-81188cae6108",
   "metadata": {},
   "source": [
    "### 対角化可能の判定"
   ]
  },
  {
   "cell_type": "markdown",
   "id": "79febb05-bc3f-428d-92f7-208ebeead68b",
   "metadata": {},
   "source": [
    ":::{admonition} 定理（相異なる固有値に属する固有ベクトルは1次独立）\n",
    "\n",
    "$V$ をベクトル空間、 $F$ を $V$ の線型変換とする。（ここでは $V$ は 有限次元とは仮定しない。） $\\lambda_1, \\lambda_2, \\cdots, \\lambda_s$ を $F$ の相異なる固有値とすれば、それらに属する固有ベクトル $\\boldsymbol{x}_1, \\boldsymbol{x}_2, \\cdots, \\boldsymbol{x}_s$ は 1 次独立である。\n",
    ":::\n",
    "\n",
    "\n",
    ":::{dropbox} 証明\n",
    "\n",
    "いま$r < s$をみたす$r$が存在するとし、$\\boldsymbol{x}_1,\\cdots,\\boldsymbol{x}_r$は1次独立で、$\\boldsymbol{x}_1,\\cdots,\\boldsymbol{x}_r,\\boldsymbol{x}_{r+1}$は1次従属になったとして矛盾を導く。\n",
    "\n",
    "このとき、$c_1, \\cdots, c_r \\in \\mathbb{R}$に対し\n",
    "\n",
    "$$\n",
    "\\boldsymbol{x}_{r+1} = c_1 \\boldsymbol{x}_1 + \\cdots + c_r \\boldsymbol{x}_r\n",
    "\\tag{1}\n",
    "$$\n",
    "\n",
    "と一意的に表すことができる。\n",
    "\n",
    "$\\boldsymbol{x}_{r+1} \\neq \\boldsymbol{0}$であるから、$c_i$の中に少なくとも1つは$0$でないものがある。\n",
    "\n",
    "各$\\boldsymbol{x}_i$を列ベクトルで表し、両辺に左から$A$をかければ\n",
    "\n",
    "$$\n",
    "A \\boldsymbol{x}_{r+1}=c_1 A \\boldsymbol{x}_1+\\cdots+c_r A \\boldsymbol{x}_r\n",
    "$$\n",
    "\n",
    "となる。各 $x_i$ が固有値 $\\lambda_i$ に属する固有ベクトルであるから、\n",
    "\n",
    "$$\n",
    "\\lambda_{r+1} \\boldsymbol{x}_{r+1}=c_1 \\lambda_1 \\boldsymbol{x}_1+\\cdots+c_r \\lambda_r \\boldsymbol{x}_r\n",
    "\\tag{2}\n",
    "$$\n",
    "\n",
    "となる。また、 $\\lambda_{r+1}$ を式(1)の両辺にかけて\n",
    "\n",
    "$$\n",
    "\\lambda_{r+1} x_{r+1}=c_1 \\lambda_{r+1} x_1+\\cdots+c_r \\lambda_{r+1} x_r\n",
    "\\tag{3}\n",
    "$$\n",
    "\n",
    "式(2), (3)を引けば\n",
    "\n",
    "$$\n",
    "c_1\\left(\\lambda_1-\\lambda_{r+1}\\right) x_1+\\cdots+c_r\\left(\\lambda_r-\\lambda_{r+1}\\right) x_r=\\mathbf{0}\n",
    "$$\n",
    "\n",
    "（相異なる固有値という）仮定より、$1 \\leqq i \\leqq r$ をみたす各 $i$ で\n",
    "\n",
    "$$\n",
    "\\lambda_i-\\lambda_{r+1} \\neq 0\n",
    "$$\n",
    "\n",
    "であり、ある $j$ で $c_j \\neq 0$ であるから、上式は自明でない 1 次関係式である。\n",
    "これは $x_1, \\cdots, x_r$ が 1 次独立であるという仮定に反する。\n",
    "\n",
    "\n",
    "（出所：川久保勝夫. (2010). 線形代数学.）\n",
    ":::\n",
    "\n",
    "\n",
    ":::{dropbox} 証明\n",
    "\n",
    "$s$に関する数学的帰納法で示す。$s=1$のときは明らかであるから、$s\\geq 2$とし、$x_1, \\cdots, x_{s-1}$は1次独立であると仮定する。\n",
    "\n",
    "$c_i$をスカラーとして\n",
    "\n",
    "$$\n",
    "c_1 x_1 + \\cdots + c_{s-1} x_{s-1} + c_s x_s = 0\n",
    "\\tag{1}\n",
    "$$\n",
    "\n",
    "とする。両辺の$F$による像を考えれば、$F(x_i) = \\lambda_i x_i$であるから\n",
    "\n",
    "$$\n",
    "c_1 \\lambda_1 x_1 + \\cdots + c_{s-1} \\lambda_{s-1} x_{s-1} + c_s \\lambda_s x_s = 0\n",
    "\\tag{2}\n",
    "$$\n",
    "\n",
    "式(1)を$\\lambda_s$倍すれば\n",
    "\n",
    "$$\n",
    "c_1 \\lambda_s x_1 + \\cdots + c_{s-1} \\lambda_s x_{s-1} + c_s \\lambda_s x_s = 0\n",
    "$$\n",
    "\n",
    "上の2式を辺々引き算すれば\n",
    "\n",
    "$$\n",
    "c_1 (\\lambda_1 - \\lambda_s) x_1 + \\cdots\n",
    "+ c_{s-1} (\\lambda_{s-1} - \\lambda_s) x_{s-1} = 0\n",
    "$$\n",
    "\n",
    "これから帰納法の仮定によって$c_i (\\lambda_i - \\lambda_s) x_i = 0 \\ (i = 1, \\cdots, s-1)$が得られ、$\\lambda_i \\neq \\lambda_s$であるから$c_i = 0 \\ ( i=1,\\cdots,s-1)$が得られる。\n",
    "\n",
    "したがって$(1)$から$c_s=0$も得られる。\n",
    "\n",
    "（出所：松坂和夫. (2018). 線型代数入門.）\n",
    ":::"
   ]
  },
  {
   "cell_type": "markdown",
   "id": "add15383-c676-4473-bd95-6b8d9c2d06d6",
   "metadata": {},
   "source": [
    ":::{admonition} 定理（相異なる固有値に属する固有ベクトル ⇒ 対角化可能）\n",
    "\n",
    "$V$ が $n$ 次元ベクトル空間で、その線型変換 $F$ が $n$ 個の 相異なる固有値 $\\lambda_1, \\lambda_2, \\cdots, \\lambda_n$ をもつとする。\n",
    "\n",
    "そのとき、それらに属する固有ベクトル $v_1, v_2, \\cdots, v_n$ は $V$ の基底をなし、したがって $F$ は対角化可能である。\n",
    ":::\n",
    "\n",
    "\n",
    ":::{dropbox} 証明\n",
    "\n",
    "定理より、$F$の相異なる固有値に属する固有ベクトルは1次独立である。\n",
    "\n",
    "また前出の別の定理により、$F$の固有ベクトルが$V$の基底となるとき、$F$は対角化可能である。\n",
    ":::"
   ]
  },
  {
   "cell_type": "code",
   "execution_count": null,
   "id": "6e1ae103-f87f-4012-ad7d-8b5da4f460db",
   "metadata": {},
   "outputs": [],
   "source": []
  },
  {
   "cell_type": "code",
   "execution_count": null,
   "id": "41e2bf74-0ec0-418a-b467-af223f9ad843",
   "metadata": {},
   "outputs": [],
   "source": []
  }
 ],
 "metadata": {
  "kernelspec": {
   "display_name": "Python 3 (ipykernel)",
   "language": "python",
   "name": "python3"
  },
  "language_info": {
   "codemirror_mode": {
    "name": "ipython",
    "version": 3
   },
   "file_extension": ".py",
   "mimetype": "text/x-python",
   "name": "python",
   "nbconvert_exporter": "python",
   "pygments_lexer": "ipython3",
   "version": "3.10.14"
  }
 },
 "nbformat": 4,
 "nbformat_minor": 5
}
