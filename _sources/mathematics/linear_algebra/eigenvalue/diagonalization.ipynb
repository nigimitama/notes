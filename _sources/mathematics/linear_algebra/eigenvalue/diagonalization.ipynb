{
 "cells": [
  {
   "cell_type": "markdown",
   "id": "90d5f2e1-2ce8-4d73-aaf7-ad3755bd6705",
   "metadata": {},
   "source": [
    "# 対角化"
   ]
  },
  {
   "cell_type": "markdown",
   "id": "edb4602d-f7d8-4058-aa41-316a40ad9c05",
   "metadata": {},
   "source": [
    "## 対角化の条件\n",
    "\n",
    "$V$を$\\mathbb{R}$上の有限次元ベクトル空間、$F$を$V$の線形変換とする。$V$の適当な基底$\\mathcal{B}$をとれば、それに関する$F$の表現行列\n",
    "\n",
    "$$\n",
    "[F]_{\\mathcal{B}}\n",
    "$$\n",
    "\n",
    "が対角行列となるとき、$F$は **対角化可能** であるという。\n",
    "\n",
    "同様に、行列$A\\in M_n(\\mathbb{R})$に対して、適当な正則行列$P\\in M(\\mathbb{R})$をとり、\n",
    "\n",
    "$$\n",
    "P^{-1} A P\n",
    "$$\n",
    "\n",
    "が対角行列となるとき、$A$は $\\mathbb{R}$ **において対角化可能** であるという。\n",
    "\n",
    "\n"
   ]
  },
  {
   "cell_type": "markdown",
   "id": "07335bd6-836d-4bb3-a6a7-0061783b02a7",
   "metadata": {},
   "source": [
    ":::{admonition} 定理（対角化の必要十分条件）\n",
    "\n",
    "有限次元ベクトル空間 $V$ の線型変換 $F$ が対角化可能であるための必要十分条件は、 $F$ の固有ベクトルから成るような $V$ の基底が存在することである。\n",
    "\n",
    "くわしくいえば, $V$ の基底 $\\mathcal{B}=\\left\\{v_1, \\cdots, v_n\\right\\}$ に関する次の 2 つの条件 は同等である。\n",
    "\n",
    "1. $\\mathcal{B}$ に関する $F$ の表現行列 $[F]_{\\mathcal{B}}$ は対角行列である。\n",
    "2. $v_1, \\cdots, v_n$ はすべて $F$ の固有ベクトルである。\n",
    ":::\n",
    "\n",
    ":::{dropdown} 証明\n",
    "\n",
    "表現行列 $[F]_{\\mathcal{B}}$ が対角行列\n",
    "\n",
    "$$\n",
    "\\left[\\begin{array}{cccc}\n",
    "\\alpha_1 & & & \\\\\n",
    "& \\alpha_2 & & \\\\\n",
    "& & \\ddots & \\\\\n",
    "& & & \\alpha_n\n",
    "\\end{array}\\right]\n",
    "$$\n",
    "\n",
    "となるならば、\n",
    "\n",
    "$$\n",
    "F\\left(v_1\\right)=\\alpha_1 v_1, \\quad F\\left(v_2\\right)=\\alpha_2 v_2, \\quad \\cdots, \\quad F\\left(v_n\\right)=\\alpha_n v_n\n",
    "$$\n",
    "\n",
    "であるから $v_1, \\cdots, v_n$ はいずれも $F$ の固有ベクトルである。\n",
    "\n",
    "逆に $v_1, \\cdots, v_n$ が すべて固有ベクトルで、それぞれ固有値 $\\alpha_1, \\cdots, \\alpha_n$ に属するならば、明らかに $[F]_{\\mathcal{B}}$ は対角行列となる。\n",
    ":::"
   ]
  },
  {
   "cell_type": "markdown",
   "id": "0d8ca99f-687e-4121-b2eb-8694ec0d16f1",
   "metadata": {},
   "source": [
    ":::{admonition} 定理（対角化の必要十分条件）\n",
    "\n",
    "$A \\in M_n(\\boldsymbol{K})$ が $\\boldsymbol{K}$ において対角化可能であるための必要十分条件は、\n",
    "$A$ の $\\boldsymbol{K}$ における固有ベクトルから成るような $\\boldsymbol{K}^n$ の基底が存在すること、\n",
    "いいかえれば、 $A$ の $\\boldsymbol{K}$ における $n$ 個の1次独立な固有ベクトルが存在することである。\n",
    ":::\n",
    "\n",
    "\n",
    ":::{dropdown} 証明\n",
    "\n",
    "線形変換$F: \\mathbb{R}^n \\to \\mathbb{R}^n$についての行列$A$が対角行列\n",
    "\n",
    "$$\n",
    "\\left[\\begin{array}{cccc}\n",
    "\\alpha_1 & & & \\\\\n",
    "& \\alpha_2 & & \\\\\n",
    "& & \\ddots & \\\\\n",
    "& & & \\alpha_n\n",
    "\\end{array}\\right]\n",
    "$$\n",
    "\n",
    "となるならば、\n",
    "\n",
    "$$\n",
    "F\\left(v_1\\right)=\\alpha_1 v_1, \\quad F\\left(v_2\\right)=\\alpha_2 v_2, \\quad \\cdots, \\quad F\\left(v_n\\right)=\\alpha_n v_n\n",
    "$$\n",
    "\n",
    "であるから $v_1, \\cdots, v_n$ はいずれも $F$ の固有ベクトルである。\n",
    "\n",
    "逆に $v_1, \\cdots, v_n$ が すべて固有ベクトルで、それぞれ固有値 $\\alpha_1, \\cdots, \\alpha_n$ に属するならば、明らかに $A$ は対角行列となる。\n",
    ":::"
   ]
  },
  {
   "cell_type": "code",
   "execution_count": null,
   "id": "d27c3173-ba48-4550-86a5-21716220a479",
   "metadata": {},
   "outputs": [],
   "source": []
  }
 ],
 "metadata": {
  "kernelspec": {
   "display_name": "Python 3 (ipykernel)",
   "language": "python",
   "name": "python3"
  },
  "language_info": {
   "codemirror_mode": {
    "name": "ipython",
    "version": 3
   },
   "file_extension": ".py",
   "mimetype": "text/x-python",
   "name": "python",
   "nbconvert_exporter": "python",
   "pygments_lexer": "ipython3",
   "version": "3.10.14"
  }
 },
 "nbformat": 4,
 "nbformat_minor": 5
}
