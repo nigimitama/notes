{
 "cells": [
  {
   "cell_type": "markdown",
   "id": "164c1acb-8691-4fbf-a2db-97d69608e3b5",
   "metadata": {},
   "source": [
    "# 特異値分解\n",
    "\n",
    "**特異値分解（Singular Value Decomposition, SVD）** は、任意の行列を3つの行列に分解する手法。\n",
    "\n",
    "例えば主成分分析をするときに計算量を減らす技法として使われる。"
   ]
  },
  {
   "cell_type": "markdown",
   "id": "ba288707-f1e7-47ad-b635-0656832cb72c",
   "metadata": {},
   "source": [
    ":::{admonition} 特異値分解\n",
    "\n",
    "任意の $m \\times n$ 行列 $A$ に対して、SVDは次のように表現される\n",
    "\n",
    "$$\n",
    "A=U \\Sigma V^{\\top}\n",
    "$$\n",
    "\n",
    "- $A:$ 元の $m \\times n$ 行列\n",
    "- $U: m \\times m$ の直交行列（左特異ベクトル）\n",
    "- $\\Sigma: m \\times n$ の対角行列（特異値が対角に並ぶ）\n",
    "    - $\\Sigma$ の対角要素（特異値）は非負で、通常は大きい順に並べる\n",
    "- $V^{\\top}: n \\times n$ の直交行列（右特異ベクトルの転置）\n",
    "\n",
    ":::"
   ]
  },
  {
   "cell_type": "markdown",
   "id": "5a51bee1-9b92-4b28-a18f-dd592b435f59",
   "metadata": {},
   "source": [
    "## SVDのアルゴリズム\n",
    "\n",
    "\n"
   ]
  },
  {
   "cell_type": "markdown",
   "id": "818d36d8-9b4b-4180-9543-045d75db1b82",
   "metadata": {},
   "source": [
    "### 1. $A^\\top A$の固有値分解\n",
    "\n",
    "行列 $A^{\\top} A \\in \\mathbb{R}^{n \\times n}$ は対称かつ半正定値（symmetric & positive semi-definite）であるため、固有値分解ができる。\n",
    "\n",
    "$$\n",
    "A^{\\top} A=V \\Lambda V^{\\top}\n",
    "$$\n",
    "\n",
    "- $V$ ：直交行列（列は固有ペクトル）\n",
    "- $\\Lambda=\\operatorname{diag}\\left(\\lambda_1, \\ldots, \\lambda_n\\right)$ ：非負の固有値\n",
    "\n",
    "この固有値 $\\lambda_i \\geq 0$ の平方根\n",
    "\n",
    "$$\n",
    "\\sigma_i=\\sqrt{\\lambda_i}\n",
    "$$\n",
    "\n",
    "を **特異値** とよぶ\n"
   ]
  },
  {
   "cell_type": "markdown",
   "id": "94f61f29-436f-4968-801e-8c94431a3a98",
   "metadata": {},
   "source": [
    "### 2. 右特異ベクトルから左特異ベクトルを作る\n",
    "\n",
    "特異値 $\\sigma_i>0$ のとき、\n",
    "\n",
    "$$\n",
    "A v_i=\\sigma_i u_i \\quad \\Rightarrow \\quad u_i=\\frac{1}{\\sigma_i} A v_i\n",
    "$$\n",
    "\n",
    "\n",
    "ここで $v_i$ は $A^{\\top} A$ の固有ベクトル、\n",
    "$u_i$ は $A A^{\\top}$ の固有ベクトルになります。"
   ]
  },
  {
   "cell_type": "markdown",
   "id": "4d60e0da-4fda-4250-a056-1320f10fc7b6",
   "metadata": {},
   "source": [
    "### 3. 行列にまとめる\n",
    "\n",
    "- $V=\\left[v_1, \\ldots, v_n\\right] \\in \\mathbb{R}^{n \\times n}$\n",
    "- $U=\\left[u_1, \\ldots, u_m\\right] \\in \\mathbb{R}^{m \\times m}$\n",
    "- $\\Sigma \\in \\mathbb{R}^{m \\times n}$ の対角に $\\sigma_1, \\ldots, \\sigma_r$ を配置（残りはゼロ）\n",
    "\n",
    "とすると、\n",
    "\n",
    "$$\n",
    "A=U \\Sigma V^{\\top}\n",
    "$$\n",
    "\n",
    "\n",
    "となる。"
   ]
  },
  {
   "cell_type": "markdown",
   "id": "0c5cb34b-9a2b-4513-83a9-59d5ea9ac78d",
   "metadata": {},
   "source": [
    "## 実装"
   ]
  },
  {
   "cell_type": "markdown",
   "id": "289a62de-c859-4ad1-9ddf-1191d3448ac8",
   "metadata": {},
   "source": [
    "### numpy.linalg.svd()を使う場合"
   ]
  },
  {
   "cell_type": "code",
   "execution_count": 6,
   "id": "5fb266e5-f454-4f84-8d96-7297cab24d33",
   "metadata": {
    "tags": []
   },
   "outputs": [],
   "source": [
    "import numpy as np\n",
    "\n",
    "A = np.array([[3, 1],\n",
    "              [1, 3],\n",
    "              [2, 1]])\n",
    "U, S, VT = np.linalg.svd(A)"
   ]
  },
  {
   "cell_type": "code",
   "execution_count": 7,
   "id": "f2dc1a52-d7c3-4f34-b6fc-553585db43a3",
   "metadata": {
    "tags": []
   },
   "outputs": [
    {
     "data": {
      "text/plain": [
       "array([[-0.64871739,  0.54898814, -0.52704628],\n",
       "       [-0.59110282, -0.7996789 , -0.10540926],\n",
       "       [-0.47933622,  0.24315772,  0.84327404]])"
      ]
     },
     "execution_count": 7,
     "metadata": {},
     "output_type": "execute_result"
    }
   ],
   "source": [
    "U"
   ]
  },
  {
   "cell_type": "code",
   "execution_count": 8,
   "id": "7f6136dd-96f2-467f-91bf-2ea4982a6672",
   "metadata": {
    "tags": []
   },
   "outputs": [
    {
     "data": {
      "text/plain": [
       "array([4.54306178, 2.08820251])"
      ]
     },
     "execution_count": 8,
     "metadata": {},
     "output_type": "execute_result"
    }
   ],
   "source": [
    "S"
   ]
  },
  {
   "cell_type": "code",
   "execution_count": 9,
   "id": "5b87af9d-4975-4c32-82a6-5f257533adec",
   "metadata": {
    "tags": []
   },
   "outputs": [
    {
     "data": {
      "text/plain": [
       "array([[-0.76950911, -0.63863584],\n",
       "       [ 0.63863584, -0.76950911]])"
      ]
     },
     "execution_count": 9,
     "metadata": {},
     "output_type": "execute_result"
    }
   ],
   "source": [
    "VT"
   ]
  },
  {
   "cell_type": "code",
   "execution_count": 10,
   "id": "5266eb27-7c69-444f-992a-7e05323f6609",
   "metadata": {
    "tags": []
   },
   "outputs": [
    {
     "data": {
      "text/plain": [
       "array([[3., 1.],\n",
       "       [1., 3.],\n",
       "       [2., 1.]])"
      ]
     },
     "execution_count": 10,
     "metadata": {},
     "output_type": "execute_result"
    }
   ],
   "source": [
    "# 対角行列に変換\n",
    "Sigma = np.zeros_like(A, dtype=float)\n",
    "np.fill_diagonal(Sigma, S)\n",
    "\n",
    "# 検証：A ≈ U @ Sigma @ VT\n",
    "reconstructed = U @ Sigma @ VT\n",
    "reconstructed"
   ]
  },
  {
   "cell_type": "code",
   "execution_count": null,
   "id": "04822a6e-40e8-4a96-9828-3e2825cc5160",
   "metadata": {},
   "outputs": [],
   "source": []
  }
 ],
 "metadata": {
  "kernelspec": {
   "display_name": "Python 3 (ipykernel)",
   "language": "python",
   "name": "python3"
  },
  "language_info": {
   "codemirror_mode": {
    "name": "ipython",
    "version": 3
   },
   "file_extension": ".py",
   "mimetype": "text/x-python",
   "name": "python",
   "nbconvert_exporter": "python",
   "pygments_lexer": "ipython3",
   "version": "3.10.18"
  }
 },
 "nbformat": 4,
 "nbformat_minor": 5
}
