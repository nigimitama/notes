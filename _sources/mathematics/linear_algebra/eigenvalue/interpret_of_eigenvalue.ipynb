{
 "cells": [
  {
   "cell_type": "markdown",
   "id": "27c14026-92df-4900-b82d-a23e4a6919ad",
   "metadata": {},
   "source": [
    "# 固有値・固有ベクトルの解釈・意味"
   ]
  },
  {
   "cell_type": "markdown",
   "id": "f78ee2bd-134e-467f-a37e-db4cea105b1d",
   "metadata": {},
   "source": []
  },
  {
   "cell_type": "markdown",
   "id": "85770439-c0b0-4055-b050-4d853da4de25",
   "metadata": {},
   "source": [
    "## 線形代数的な解釈\n",
    "\n",
    "いまいちど定義を振り返る\n",
    "\n",
    ":::{admonition} 定義\n",
    ":class: info\n",
    "\n",
    "$n \\in \\mathbb{N}, A \\in \\mathbb{R}^{n\\times n}, \\boldsymbol{x} \\in \\mathbb{R}^n, \\lambda \\in \\mathbb{R}$について\n",
    "\n",
    "$$\n",
    "A \\boldsymbol{x} = \\lambda \\boldsymbol{x}\n",
    "$$\n",
    "\n",
    "が成り立つとき、スカラー$\\lambda$を$A$の**固有値**（eigenvalue）といい、$\\boldsymbol{x} (\\neq \\boldsymbol{0})$を$A$の$\\lambda$に対応する**固有ベクトル**（eigenvector）と呼ぶ。\n",
    ":::\n",
    "\n",
    "\n",
    "定義より、線形変換$A \\boldsymbol{x}$と、ベクトルの定数倍$\\lambda \\boldsymbol{x}$が等しい。つまり、\n",
    "\n",
    ":::{tip}\n",
    "\n",
    "線形変換$A \\boldsymbol{x}$ をしたときに、向きは変わらず、大きさだけが$\\lambda$倍に変わるようなベクトル$\\boldsymbol{x}$が固有ベクトルで、その倍率$\\lambda$が固有値\n",
    ":::\n",
    "\n",
    "と解釈できる。\n"
   ]
  },
  {
   "cell_type": "markdown",
   "id": "63029b09-9997-44b5-a7ad-9cba0307e67c",
   "metadata": {},
   "source": [
    "## 統計学的な解釈\n",
    "\n",
    "データを行列で表したときの話\n",
    "\n",
    "学習データの分散が最大になる方向への線形変換を求める手法である **主成分分析** を例に考える。\n"
   ]
  },
  {
   "cell_type": "markdown",
   "id": "aae0652b-01c0-4f27-ba14-16731a43a855",
   "metadata": {},
   "source": [
    "::::{admonition} 主成分分析\n",
    ":class: info\n",
    "\n",
    "$D$次元のデータ$\\boldsymbol{x}=(x_1, \\cdots, x_D)^T$が$N$個あるとする。$i$番目の観測値を行ベクトル$\\boldsymbol{x}_i$として表し、データを行列$X = (\\boldsymbol{x}_1, \\cdots, \\boldsymbol{x}_N)^T$と表す。\n",
    "\n",
    "各変数の平均のベクトル$\\bar{\\boldsymbol{x}}=(\\bar{x}_1, ..., \\bar{x}_D)^T$を引き算した行列を$\\bar{\\boldsymbol{X}}=(\\boldsymbol{x}_1 - \\bar{\\boldsymbol{x}}, ..., \\boldsymbol{x}_N - \\bar{\\boldsymbol{x}})^T$とおけば、共分散行列$\\boldsymbol{\\Sigma}$は\n",
    "\n",
    "\n",
    "$$\n",
    "\\boldsymbol{\\Sigma} = \\operatorname{Var}[\\bar{\\boldsymbol{X}}]\n",
    "= \\frac{1}{N} \\bar{\\boldsymbol{X}}^T \\bar{\\boldsymbol{X}}\n",
    "$$\n",
    "\n",
    "で定義される。\n",
    "\n",
    "係数ベクトル$\\boldsymbol{a}_j = (a_{j1}, ..., a_{jD})^T \\ (j=1, ..., D)$を用いて$\\bar{X}$を線形変換したベクトルを$\\boldsymbol{s}_j$とする。\n",
    "\n",
    "$$\n",
    "\\boldsymbol{s}_j = (s_{1j}, ..., s_{Nj})^T = \\bar{\\boldsymbol{X}} \\boldsymbol{a}_j\n",
    "$$\n",
    "\n",
    "このデータの分散は\n",
    "\n",
    "$$\n",
    "\\begin{aligned}\n",
    "\\operatorname{Var}[\\boldsymbol{s}_j]\n",
    "&= \\frac{1}{N} \\boldsymbol{s}_j^T \\boldsymbol{s}_j\\\\\n",
    "&= \\frac{1}{N} (\\bar{\\boldsymbol{X}} \\boldsymbol{a}_j)^T \\bar{\\boldsymbol{X}} \\boldsymbol{a}_j\\\\\n",
    "&= \\frac{1}{N} \\boldsymbol{a}_j^T \\bar{\\boldsymbol{X}}^T \\bar{\\boldsymbol{X}} \\boldsymbol{a}_j\\\\\n",
    "&= \\boldsymbol{a}_j^T \\operatorname{Var}[\\bar{\\boldsymbol{X}}] \\boldsymbol{a}_j\\\\\n",
    "\\end{aligned}\n",
    "$$\n",
    "\n",
    "となる。\n",
    "\n",
    "このまま$\\max_{\\boldsymbol{a}_j} \\operatorname{Var}[\\boldsymbol{s}_j]$を解くと単に$\\boldsymbol{a}_j=\\infty$が解になってしまうので、係数ベクトル$\\boldsymbol{a}_j$のノルム制約条件をかけた最大化問題を解くことにする。\n",
    "\n",
    ":::{admonition} 制約条件付き分散最大化問題\n",
    "$$\n",
    "\\max_{\\boldsymbol{a}_j} \\ \\operatorname{Var}[\\boldsymbol{s}_j]\\\\\n",
    "\\text{subject to} \\ ||\\boldsymbol{a}_j||_2^2 = 1\n",
    "$$\n",
    ":::\n",
    "\n",
    "この分散が最大となる射影ベクトルは、ラグランジュ関数\n",
    "\n",
    "$$\n",
    "L(\\boldsymbol{a}_j) = \n",
    "\\boldsymbol{a}_j^T \\operatorname{Var}[\\bar{\\boldsymbol{X}}] \\boldsymbol{a}_j\n",
    "    - \\lambda (\\boldsymbol{a}_j^T \\boldsymbol{a}_j - 1)\n",
    "$$\n",
    "\n",
    "を最大にする$\\boldsymbol{a}_j$である。（$\\lambda$はラグランジュ未定乗数）\n",
    "\n",
    "微分して0とおけば\n",
    "\n",
    "$$\n",
    "\\frac{\\partial L(\\boldsymbol{a}_j)}{\\partial \\boldsymbol{a}_j}\n",
    "= 2 \\operatorname{Var}[\\bar{\\boldsymbol{X}}] \\boldsymbol{a}_j\n",
    "    - 2 \\lambda \\boldsymbol{a}_j\n",
    "= 0\n",
    "$$\n",
    "\n",
    "より\n",
    "\n",
    "$$\n",
    "\\operatorname{Var}[\\bar{\\boldsymbol{X}}] \\boldsymbol{a}_j = \\lambda \\boldsymbol{a}_j\n",
    "$$\n",
    "\n",
    "となる。\n",
    "\n",
    "この$\\lambda$と$\\boldsymbol{a}_j$は固有値問題を解くことにより得られる。\n",
    "\n",
    "::::\n",
    "\n"
   ]
  },
  {
   "cell_type": "markdown",
   "id": "1623d1d7-e35f-4cd2-a0d4-eb30bf13d201",
   "metadata": {},
   "source": []
  },
  {
   "cell_type": "code",
   "execution_count": null,
   "id": "49abf481-b371-4268-9260-c23ed0f3f1a1",
   "metadata": {},
   "outputs": [],
   "source": []
  },
  {
   "cell_type": "markdown",
   "id": "3055aee8-d7c7-42f3-bb91-1bae1c0762a9",
   "metadata": {},
   "source": [
    "\n",
    "主成分分析（分散最大化）：軸の方向が固有ベクトル、広がりの大きさが固有値"
   ]
  }
 ],
 "metadata": {
  "kernelspec": {
   "display_name": "Python 3 (ipykernel)",
   "language": "python",
   "name": "python3"
  },
  "language_info": {
   "codemirror_mode": {
    "name": "ipython",
    "version": 3
   },
   "file_extension": ".py",
   "mimetype": "text/x-python",
   "name": "python",
   "nbconvert_exporter": "python",
   "pygments_lexer": "ipython3",
   "version": "3.10.15"
  }
 },
 "nbformat": 4,
 "nbformat_minor": 5
}
