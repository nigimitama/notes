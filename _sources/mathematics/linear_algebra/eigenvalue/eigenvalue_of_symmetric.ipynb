{
 "cells": [
  {
   "cell_type": "markdown",
   "id": "cf6b6221-5cdd-49a0-b376-7174b154d002",
   "metadata": {},
   "source": [
    "# 対称行列の固有値"
   ]
  },
  {
   "cell_type": "markdown",
   "id": "9b25102d-955e-49fc-b705-fa3cd55c0d90",
   "metadata": {},
   "source": [
    "対称行列に対しては\n",
    "\n",
    "- 固有値も固有ベクトルもすべて実数\n",
    "- 固有ベクトルは互いに直交する\n",
    "\n",
    "という性質を持っている。"
   ]
  },
  {
   "cell_type": "markdown",
   "id": "aed0ddca-0f30-41b0-a768-04ada58b0364",
   "metadata": {},
   "source": [
    "現実世界やデータサイエンス領域での応用において固有値を求めるとき、相関行列や分散共分散行列など対称行列の固有値を求めることが多いので対称行列に対する固有値のトピックに触れておくと理解しやすい。"
   ]
  },
  {
   "cell_type": "markdown",
   "id": "29455c66-d08b-4abf-8265-b36a3b5b1d85",
   "metadata": {},
   "source": [
    "## 対称行列の固有値と固有ベクトルは実数\n",
    "\n",
    ":::{admonition} 定理\n",
    "\n",
    "対称行列の固有値はすべて実数であり、対応する固有ベクトルも実数ベクトルである\n",
    "\n",
    ":::\n",
    "\n",
    "\n",
    ":::{dropdown} 証明\n",
    "\n",
    "対称行列$A$の一つの固有値を$\\lambda$、対応する固有ベクトルを$x=\\begin{pmatrix} x_1 \\\\ \\vdots \\\\ x_n \\end{pmatrix}$ とすると、定義より$A x = \\lambda x$である。両辺の複素共役をとったものと合わせると次のように書くことができる。\n",
    "\n",
    "$$\n",
    "A x = \\lambda x, \\quad\n",
    "A \\bar{x} = \\bar{\\lambda} \\bar{x}\n",
    "$$\n",
    "\n",
    "$\\bar{x}$と第1式の両辺を、$x$と第2式の両辺をそれぞれ内積をとると\n",
    "\n",
    "$$\n",
    "\\langle \\bar{x}, A x \\rangle = \\lambda \\langle \\bar{x}, x \\rangle\n",
    ", \\quad\n",
    "\\langle x, A \\bar{x} \\rangle = \\bar{\\lambda} \\langle x, \\bar{x} \\rangle\n",
    "$$\n",
    "\n",
    "となる。「正方行列$A$に対して $\\langle \\boldsymbol{A} \\boldsymbol{x}, \\boldsymbol{y} \\rangle= \\langle \\boldsymbol{x}, \\boldsymbol{A}^{\\top} \\boldsymbol{y} \\rangle$ が成り立つ」という定理と、また$A$は対称行列のため$A=A^\\top$であることから、\n",
    "\n",
    "$$\n",
    "\\langle \\bar{x}, A x \\rangle\n",
    "= \\langle A x, \\bar{x} \\rangle\n",
    "= \\langle x, A^\\top \\bar{x} \\rangle\n",
    "= \\langle x, A \\bar{x} \\rangle\n",
    "$$\n",
    "\n",
    "となり、2つの式の左辺は等しいことがわかる。2つの式の辺々を差し引くと\n",
    "\n",
    "$$\n",
    "0 = \\lambda \\langle \\bar{x}, x \\rangle - \\bar{\\lambda} \\langle x, \\bar{x} \\rangle\n",
    "\\\\\n",
    "\\iff \n",
    "(\\lambda - \\bar{\\lambda}) \\langle x, \\bar{x} \\rangle = 0\n",
    "$$\n",
    "\n",
    "となる。固有ベクトルは$0$ではないから$\\langle x, \\bar{x} \\rangle = |x_1|^2 + \\cdots + |x_n|^2 > 0$であり、したがって$\\lambda = \\bar{\\lambda}$であり、ゆえに$\\lambda$は実数である。\n",
    "\n",
    "固有ベクトルは連立1次方程式\n",
    "\n",
    "$$\n",
    "(\\lambda I - A) x = 0\n",
    "$$\n",
    "\n",
    "の解であり、係数がすべて実数であるから解も実数である。\n",
    ":::"
   ]
  },
  {
   "cell_type": "code",
   "execution_count": null,
   "id": "436bd04a-dc60-4c7a-8610-11a56b5d2172",
   "metadata": {},
   "outputs": [],
   "source": []
  }
 ],
 "metadata": {
  "kernelspec": {
   "display_name": "Python 3 (ipykernel)",
   "language": "python",
   "name": "python3"
  },
  "language_info": {
   "codemirror_mode": {
    "name": "ipython",
    "version": 3
   },
   "file_extension": ".py",
   "mimetype": "text/x-python",
   "name": "python",
   "nbconvert_exporter": "python",
   "pygments_lexer": "ipython3",
   "version": "3.10.15"
  }
 },
 "nbformat": 4,
 "nbformat_minor": 5
}
