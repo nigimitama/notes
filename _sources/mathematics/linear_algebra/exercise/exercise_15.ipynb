{
 "cells": [
  {
   "cell_type": "markdown",
   "id": "86be4d98-30a0-40f8-b92b-ada918f5fca8",
   "metadata": {},
   "source": [
    "# 練習問題メモ 15（基底と次元）"
   ]
  },
  {
   "cell_type": "markdown",
   "id": "a7a4d650-f9b6-4693-9251-9347de258d55",
   "metadata": {},
   "source": [
    "## 問1\n",
    "\n",
    ":::{card}\n",
    "同次連立1次方程式\n",
    "\n",
    "$$\n",
    "\\left(\\begin{array}{llll}\n",
    "1 & 0 & 1 & 1 \\\\\n",
    "2 & 1 & 3 & 1 \\\\\n",
    "3 & 2 & 5 & 1\n",
    "\\end{array}\\right)\\left(\\begin{array}{l}\n",
    "x_1 \\\\\n",
    "x_2 \\\\\n",
    "x_3 \\\\\n",
    "x_4\n",
    "\\end{array}\\right)=\\mathbf{0}\n",
    "$$\n",
    "\n",
    "の解空間の次元と1組の基本解を求めよ。\n",
    ":::"
   ]
  },
  {
   "cell_type": "markdown",
   "id": "94c435cf-be58-47ce-9136-dab0c3f87b32",
   "metadata": {},
   "source": [
    "**1. 解の次元**\n",
    "\n",
    "前進消去により\n",
    "\n",
    "$$\n",
    "\\left(\\begin{array}{llll}\n",
    "1 & 0 & 1 & 1 \\\\\n",
    "0 & 1 & 1 & -1 \\\\\n",
    "0 & 0 & 0 & 0\n",
    "\\end{array}\\right)\n",
    "$$\n",
    "\n",
    "と変形できるため$\\operatorname{rank} A = 2$である。\n",
    "\n",
    "$m\\times n$行列$A$の解の次元は$m - \\operatorname{rank} A$であるため、$4 - 2 = 2$"
   ]
  },
  {
   "cell_type": "markdown",
   "id": "bba313cb-eb37-4a23-89ce-4d9e1d4b0be1",
   "metadata": {},
   "source": [
    "**2. 1組の基本解**\n",
    "\n",
    "解空間の基底を基本解という。\n",
    "\n"
   ]
  },
  {
   "cell_type": "code",
   "execution_count": 1,
   "id": "4ca77621-f178-41c8-9fec-6451e41ffa86",
   "metadata": {},
   "outputs": [
    {
     "ename": "NameError",
     "evalue": "name 'TODO' is not defined",
     "output_type": "error",
     "traceback": [
      "\u001b[0;31m---------------------------------------------------------------------------\u001b[0m",
      "\u001b[0;31mNameError\u001b[0m                                 Traceback (most recent call last)",
      "Cell \u001b[0;32mIn[1], line 1\u001b[0m\n\u001b[0;32m----> 1\u001b[0m \u001b[43mTODO\u001b[49m\n",
      "\u001b[0;31mNameError\u001b[0m: name 'TODO' is not defined"
     ]
    }
   ],
   "source": [
    "TODO"
   ]
  },
  {
   "cell_type": "markdown",
   "id": "067a9ca8-f507-406b-8a57-335781fbb9e8",
   "metadata": {},
   "source": [
    "## 問2\n",
    "\n",
    ":::{card}\n",
    "$$\n",
    "\\boldsymbol{a}_1=\\left(\\begin{array}{c}\\cos \\theta \\\\ \\sin \\theta \\\\ 0\\end{array}\\right), \\quad \\boldsymbol{a}_2=\\left(\\begin{array}{c}-\\sin \\theta \\\\ \\cos \\theta \\\\ 0\\end{array}\\right), \\quad \\boldsymbol{a}_3=\\left(\\begin{array}{l}0 \\\\ 0 \\\\ 1\\end{array}\\right)\n",
    "$$\n",
    "\n",
    "は$\\mathbb{R}^3$の基底であることを示せ\n",
    ":::\n"
   ]
  },
  {
   "cell_type": "markdown",
   "id": "8c4c2aad-7eef-4f7f-994f-6e590dad4d6a",
   "metadata": {},
   "source": [
    "$A = (a_1, a_2, a_3)$とすると、その行列式は\n",
    "\n",
    "$$\n",
    "|A|\n",
    "= 1 \\times \\left|\\begin{array}{ccc}\n",
    "\\cos \\theta & - \\sin \\theta\\\\\n",
    "\\sin \\theta & \\cos \\theta\n",
    "\\end{array}\\right|\n",
    "= \\cos^2\\theta + \\sin^2\\theta = 1\n",
    "$$\n",
    "\n",
    "行列式がゼロでないため、ランク落ちがなく$a_1,a_2,a_3$は基底である"
   ]
  },
  {
   "cell_type": "markdown",
   "id": "6d017e31-5089-4b92-bf3f-eccba3629221",
   "metadata": {},
   "source": [
    "## 問3\n",
    "\n",
    ":::{card}\n",
    "\n",
    "$a \\in \\mathbb{R}$ とし、 $\\boldsymbol{a}_1, \\boldsymbol{a}_2, \\boldsymbol{a}_3, \\boldsymbol{a}_4 \\in \\mathbb{R}^4$ を\n",
    "\n",
    "$$\n",
    "\\boldsymbol{a}_1=\\left(\\begin{array}{l}\n",
    "a \\\\\n",
    "1 \\\\\n",
    "1 \\\\\n",
    "1\n",
    "\\end{array}\\right), \\quad \\boldsymbol{a}_2=\\left(\\begin{array}{l}\n",
    "1 \\\\\n",
    "a \\\\\n",
    "1 \\\\\n",
    "1\n",
    "\\end{array}\\right), \\quad \\boldsymbol{a}_3=\\left(\\begin{array}{l}\n",
    "1 \\\\\n",
    "1 \\\\\n",
    "a \\\\\n",
    "1\n",
    "\\end{array}\\right), \\quad \\boldsymbol{a}_4=\\left(\\begin{array}{l}\n",
    "1 \\\\\n",
    "1 \\\\\n",
    "1 \\\\\n",
    "a\n",
    "\\end{array}\\right)\n",
    "$$\n",
    "\n",
    "により定める。\n",
    "\n",
    "$\\mathbb{R}^4$ が $\\boldsymbol{a}_1, \\boldsymbol{a}_2, \\boldsymbol{a}_3, \\boldsymbol{a}_4$ で **生成されない** ときの $a$ の値を求めよ。\n",
    ":::"
   ]
  },
  {
   "cell_type": "markdown",
   "id": "a310ded4-75f6-4007-be15-7210dc2acc8c",
   "metadata": {},
   "source": [
    "「生成されない」というのが$a_1,...,a_4$が基底でないという意味であるなら、$a=1$であればすべての要素が1になり行列式がゼロとなり、$a_1,...,a_4$は1次従属であるため$\\mathbb{R}^4$の基底とならない"
   ]
  },
  {
   "cell_type": "markdown",
   "id": "a07679f9-a045-4411-af80-9f5cfeb2860f",
   "metadata": {},
   "source": [
    "## 問4\n",
    "\n",
    ":::{card}\n",
    "実数を成分とする $n$ 次の正方行列全体からなるベクトル空間 $M_n(\\mathbb{R})$ の部分集合 $W$ を次の $1 \\sim 4$ により定めると、 $W$ は $M_n(\\mathbb{R})$ の部分空間となる。それぞれの場合 について $W$ の次元と 1 組の基底を求めよ。\n",
    "\n",
    "\n",
    "1. $W=\\left\\{X \\in M_n(\\mathbb{R}) \\mid X\\right.$ は対称行列 $\\}$\n",
    "2. $W=\\left\\{X \\in M_n(\\mathbb{R}) \\mid X\\right.$ は交代行列 $\\}$\n",
    "3. $W=\\left\\{X \\in M_n(\\mathbb{R}) \\mid X\\right.$ は上三角行列 $\\}$\n",
    "4. $W=\\left\\{X \\in M_n(\\mathbb{R}) \\mid \\operatorname{tr} X=0\\right\\}(\\operatorname{tr} X$ は $X$ のトレース)\n",
    ":::"
   ]
  },
  {
   "cell_type": "markdown",
   "id": "07cc7975-ecfc-434b-9ad1-7234b576be77",
   "metadata": {},
   "source": [
    "> 1. $W=\\left\\{X \\in M_n(\\mathbb{R}) \\mid X\\right.$ は対称行列 $\\}$"
   ]
  },
  {
   "cell_type": "markdown",
   "id": "879e881a-f23a-44b0-8f6b-26711f8d7e4c",
   "metadata": {},
   "source": []
  },
  {
   "cell_type": "code",
   "execution_count": null,
   "id": "44b49950-469b-4903-8057-1f91670380eb",
   "metadata": {},
   "outputs": [],
   "source": []
  },
  {
   "cell_type": "code",
   "execution_count": null,
   "id": "e733a98f-affd-4c93-8d4b-d868c7573271",
   "metadata": {},
   "outputs": [],
   "source": []
  },
  {
   "cell_type": "code",
   "execution_count": null,
   "id": "aaad836c-68bf-45f6-a75f-b0b9e6bca396",
   "metadata": {},
   "outputs": [],
   "source": []
  }
 ],
 "metadata": {
  "kernelspec": {
   "display_name": "Python 3 (ipykernel)",
   "language": "python",
   "name": "python3"
  },
  "language_info": {
   "codemirror_mode": {
    "name": "ipython",
    "version": 3
   },
   "file_extension": ".py",
   "mimetype": "text/x-python",
   "name": "python",
   "nbconvert_exporter": "python",
   "pygments_lexer": "ipython3",
   "version": "3.10.14"
  }
 },
 "nbformat": 4,
 "nbformat_minor": 5
}
