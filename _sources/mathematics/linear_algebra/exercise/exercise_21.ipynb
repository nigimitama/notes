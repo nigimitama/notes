{
 "cells": [
  {
   "cell_type": "markdown",
   "id": "6cdb1c9b-e3c1-4819-82a2-0a407b39afda",
   "metadata": {},
   "source": [
    "# 練習問題メモ 21（対角化）"
   ]
  },
  {
   "cell_type": "markdown",
   "id": "5d592a35-7c4b-401a-ac16-e738352f3092",
   "metadata": {},
   "source": [
    "## 問1\n",
    "\n",
    ":::{card}\n",
    "\n",
    "2 次の正方行列 $A=\\left(\\begin{array}{ll}1 & 3 \\\\ 2 & 2\\end{array}\\right)$ を考える。\n",
    "\n",
    "1. $A$ は対角化可能であることを示せ。\n",
    "2. $P^{-1} A P$ が対角行列となるような正則行列 $P$ を 1 つ求めよ。\n",
    ":::"
   ]
  },
  {
   "cell_type": "markdown",
   "id": "f9053497-74ab-42dc-bd0f-2a8aedbacc79",
   "metadata": {},
   "source": [
    ":::{card}\n",
    "1. $A$ は対角化可能であることを示せ。\n",
    ":::"
   ]
  },
  {
   "cell_type": "markdown",
   "id": "fff18a74-9577-49f4-bcdb-2211afa8fb9f",
   "metadata": {},
   "source": [
    "行列$A\\in M_n(\\mathbb{R})$が対角化可能であるとは、$A$の固有ベクトルが$\\mathbb{R}^n$の基底であることと等しい。\n",
    "\n",
    "(1) $A$の固有ベクトルを求める"
   ]
  },
  {
   "cell_type": "markdown",
   "id": "44acb7a5-352b-4f0f-b363-3ee36cc31f6f",
   "metadata": {},
   "source": [
    "$A$の固有値$\\lambda$は、\n",
    "\n",
    "$$\n",
    "\\det\n",
    "\\begin{pmatrix}\n",
    "1- \\lambda & 3\\\\\n",
    "2 & 2 - \\lambda\n",
    "\\end{pmatrix}\n",
    "= (1- \\lambda) (2 - \\lambda) - 6 = 0\\\\\n",
    "\\iff \\lambda^2 - 3\\lambda + 2 - 6 = 0\\\\\n",
    "\\iff \\lambda^2 - 3\\lambda - 4 = 0\\\\\n",
    "\\iff (\\lambda + 1) (\\lambda - 4) = 0\\\\\n",
    "\\therefore \\lambda = -1, 4\n",
    "$$"
   ]
  },
  {
   "cell_type": "markdown",
   "id": "dc25a71e-a0fe-418f-939e-434f81373b24",
   "metadata": {},
   "source": [
    "相異なる固有値と、それに属する固有ベクトルのため、これらは$\\mathbb{R}^n$の基底となる。（固有ベクトルが基底となっていれば対角化可能であるという）定理により、$A$は対角化可能である。"
   ]
  },
  {
   "cell_type": "markdown",
   "id": "4e7c63f6-9793-4735-b514-2ebcef74062b",
   "metadata": {},
   "source": [
    ":::{card}\n",
    "\n",
    "2. $P^{-1} A P$ が対角行列となるような正則行列 $P$ を 1 つ求めよ。\n",
    "\n",
    ":::"
   ]
  },
  {
   "cell_type": "markdown",
   "id": "26bb661c-5841-486a-989e-2ac6f85258a0",
   "metadata": {},
   "source": [
    "$\\lambda = -1$のとき、\n",
    "\n",
    "$$\n",
    "2 x_1 + 3 x_2 = 0\n",
    "$$\n",
    "\n",
    "より、$x_1 = -\\frac{3}{2} x_2$。よって固有空間は\n",
    "\n",
    "$$\n",
    "V(-1)\n",
    "=\n",
    "\\left .\n",
    "\\left\\{\n",
    "c\n",
    "\\begin{pmatrix}\n",
    "-\\frac{3}{2} \\\\ 1\n",
    "\\end{pmatrix}\n",
    "\\right |\n",
    "c\\in \\mathbb{R}\n",
    "\\right\\}\n",
    "$$\n",
    "\n",
    "$\\lambda = 4$のとき、\n",
    "\n",
    "$$\n",
    "-3x_1 = 3x_2 = 0\n",
    "$$\n",
    "\n",
    "よって$x_1 = x_2$。固有空間は\n",
    "\n",
    "$$\n",
    "V(4)\n",
    "=\n",
    "\\left .\n",
    "\\left\\{\n",
    "c\n",
    "\\begin{pmatrix}\n",
    "1 \\\\ 1\n",
    "\\end{pmatrix}\n",
    "\\right |\n",
    "c\\in \\mathbb{R}\n",
    "\\right\\}\n",
    "$$"
   ]
  },
  {
   "cell_type": "markdown",
   "id": "f6aa66e9-3ef0-4c63-9372-25eeb0e76438",
   "metadata": {},
   "source": [
    "各固有値に属する固有ベクトルを列ベクトルとして行列を作り\n",
    "\n",
    "$$\n",
    "P = \n",
    "\\begin{pmatrix}\n",
    "-\\frac{3}{2} & 1\\\\\n",
    "1 & 1\n",
    "\\end{pmatrix}\n",
    "$$\n",
    "\n",
    "とする。この$P$は$P^{-1}AP$が対角行列となる正則行列である。"
   ]
  },
  {
   "cell_type": "code",
   "execution_count": 9,
   "id": "d6b8b296-80ff-449a-bf1a-444cb005e11e",
   "metadata": {
    "tags": [
     "hide-input",
     "hide-output"
    ]
   },
   "outputs": [
    {
     "data": {
      "text/latex": [
       "$\\displaystyle \\left[\\begin{matrix}-1.0 & -1.11022302462516 \\cdot 10^{-16}\\\\0 & 4.0\\end{matrix}\\right]$"
      ],
      "text/plain": [
       "Matrix([\n",
       "[-1.0, -1.11022302462516e-16],\n",
       "[   0,                   4.0]])"
      ]
     },
     "execution_count": 9,
     "metadata": {},
     "output_type": "execute_result"
    }
   ],
   "source": [
    "import sympy as sp\n",
    "A = sp.Matrix([\n",
    "    [1, 3],\n",
    "    [2, 2]\n",
    "])\n",
    "P = sp.Matrix([\n",
    "    [-3/2, 1],\n",
    "    [1, 1]\n",
    "])\n",
    "\n",
    "P.inv() @ A @ P"
   ]
  },
  {
   "cell_type": "code",
   "execution_count": 1,
   "id": "4eb51b91-0f50-4fb2-a9bd-b884c919dbb0",
   "metadata": {
    "tags": [
     "hide-input",
     "hide-output"
    ]
   },
   "outputs": [
    {
     "name": "stdout",
     "output_type": "stream",
     "text": [
      "λ= dict_keys([4, -1])\n",
      "x= [(-1, 1, [Matrix([\n",
      "[-3/2],\n",
      "[   1]])]), (4, 1, [Matrix([\n",
      "[1],\n",
      "[1]])])]\n"
     ]
    }
   ],
   "source": [
    "import sympy as sp\n",
    "A = sp.Matrix([\n",
    "    [1, 3],\n",
    "    [2, 2]\n",
    "])\n",
    "print(\"λ=\", A.eigenvals().keys())\n",
    "print(\"x=\", A.eigenvects())\n"
   ]
  },
  {
   "cell_type": "markdown",
   "id": "53f5e8e8-5a94-4762-be65-0dec4a2b59e3",
   "metadata": {},
   "source": [
    "## 問2\n",
    "\n",
    "::::{card}\n",
    "\n",
    "次の文章は、「対角化可能なべき零行列は零行列である」ことの証明である。証明文中の $\\square$ を埋めよ。\n",
    "\n",
    ":::{admonition} 証明\n",
    "\n",
    "$A$ を対角化可能なべき零行列とする。 $A$ の $[1]$ を $\\lambda_1, \\lambda_2, \\cdots, \\lambda_n$ とすると、 $A$ は対角化可能なので、 $[2]$ 行列 $P$ が存在し、\n",
    "\n",
    "$$\n",
    "P^{-1} A P=\\left(\\begin{array}{llll}\n",
    "\\lambda_1 & & & 0 \\\\\n",
    "& \\lambda_2 & & \\\\\n",
    "& & \\ddots & \\\\\n",
    "0 & & & \\lambda_n\n",
    "\\end{array}\\right)\n",
    "\\tag{*}\n",
    "$$\n",
    "\n",
    "と表される。さらに、 $A$ はべき零行列なので、ある自然数 $m$ に対して、 $A^m=O$ となる。よって、 $(*)$ の両辺を $m$ 乗することにより、\n",
    "\n",
    "$$\n",
    "\\lambda_1^m=\\lambda_2^m=\\cdots=\\lambda_n^m=[3]\n",
    "$$\n",
    "\n",
    "が得られるので、\n",
    "\n",
    "$$\n",
    "\\lambda_1=\\lambda_2=\\cdots=\\lambda_n=[4]\n",
    "$$\n",
    "\n",
    "\n",
    "となる。したがって、 $A$ は $[5]$ 行列である。\n",
    ":::\n",
    "\n",
    "::::"
   ]
  },
  {
   "cell_type": "markdown",
   "id": "81ae07f3-4e1d-4a34-9da5-84fefbb692b6",
   "metadata": {},
   "source": [
    "$[1] =$固有値\n",
    "\n",
    "$[2] =$正則\n",
    "\n",
    "$[3] = 0$\n",
    "\n",
    "$[4] = 0$\n",
    "\n",
    "$[5] =$べき零"
   ]
  },
  {
   "cell_type": "markdown",
   "id": "2da0442c-a9cb-47ef-95cf-5bcc0d417eb6",
   "metadata": {},
   "source": [
    "## 問3\n",
    "\n",
    ":::{card}\n",
    "\n",
    "3 次の正方行列 $A=\\left(\\begin{array}{lll}1 & 1 & 1 \\\\ 0 & 2 & 1 \\\\ 0 & 0 & 1\\end{array}\\right)$ は上三角行列なので、 $A$ の固有値 $\\lambda$ は $\\lambda=1$\n",
    "（重解）,2の2個であることがわかる。\n",
    "\n",
    "1. $A$ は対角化可能であることを示せ。\n",
    "2. $P^{-1} A P$ が対角行列となるような正則行列 $P$ を 1 つ求めよ。\n",
    ":::"
   ]
  },
  {
   "cell_type": "markdown",
   "id": "64ea8582-0933-4acf-9fba-d4faa76cba15",
   "metadata": {},
   "source": [
    "- 相異なる固有値が$n$個 ⇒ 対角化可能、という定理とは反するが・・？\n",
    "- 重解でも固有空間の次元が1でなければ、固有空間の次元数の総和が$n$と等しくなって対角化可能になったりするのか？？"
   ]
  },
  {
   "cell_type": "markdown",
   "id": "8aeb2fcf-45ad-426e-b4d8-8666c74e6575",
   "metadata": {},
   "source": [
    "$\\lambda=1$のとき\n",
    "\n",
    "$$\n",
    "(A-\\lambda E) x = 0\\\\\n",
    "\\to\n",
    "\\begin{pmatrix}\n",
    "0 & 1 & 1 \\\\\n",
    "0 & 1 & 1 \\\\\n",
    "0 & 0 & 0\n",
    "\\end{pmatrix}\n",
    "\\begin{pmatrix}\n",
    "x_1 \\\\ x_2 \\\\ x_3\n",
    "\\end{pmatrix}\n",
    "=\n",
    "\\begin{pmatrix}\n",
    "0 \\\\ 0 \\\\ 0\n",
    "\\end{pmatrix}\n",
    "\\\\\n",
    "\\to\n",
    "x_2 + x_3 = 0\\\\\n",
    "\\to x_2 = -x_3\n",
    "$$\n",
    "\n",
    "より、固有空間$V(1)$は\n",
    "\n",
    "$$\n",
    "V(1)=\\left\\{\\left.\n",
    "c_1\n",
    "\\begin{pmatrix}\n",
    "1 \\\\ 0 \\\\ 0\n",
    "\\end{pmatrix}\n",
    "+\n",
    "c_2\n",
    "\\begin{pmatrix}\n",
    "0 \\\\ -1 \\\\ 1\n",
    "\\end{pmatrix}\n",
    "\\right\\rvert\\, c_1,c_2 \\in \\mathbb{R}\\right\\}\n",
    "$$\n",
    "\n",
    "\n"
   ]
  },
  {
   "cell_type": "markdown",
   "id": "6883b627-b1af-47c4-9209-21603db72d7c",
   "metadata": {},
   "source": [
    "$\\lambda=2$のとき\n",
    "\n",
    "$$\n",
    "(A-\\lambda E) x = 0\\\\\n",
    "\\to\n",
    "\\begin{pmatrix}\n",
    "-1 & 1 & 1 \\\\\n",
    "0 & 0 & 1 \\\\\n",
    "0 & 0 & -1\n",
    "\\end{pmatrix}\n",
    "\\begin{pmatrix}\n",
    "x_1 \\\\ x_2 \\\\ x_3\n",
    "\\end{pmatrix}\n",
    "=\n",
    "\\begin{pmatrix}\n",
    "0 \\\\ 0 \\\\ 0\n",
    "\\end{pmatrix}\n",
    "\\\\\n",
    "\\to\n",
    "\\begin{cases}\n",
    "-x_1 + x_2 + x_3 = 0\\\\\n",
    "x_3 = 0\\\\\n",
    "-x_3 = 0\n",
    "\\end{cases}\n",
    "\\\\\n",
    "$$\n",
    "\n",
    "より、\n",
    "\n",
    "$$\n",
    "x_1 = x_2 + \\underbrace{ x_3 }_{0} = x_2\n",
    "$$\n",
    "\n",
    "よって固有空間$V(2)$は\n",
    "\n",
    "$$\n",
    "V(2)=\\left\\{\\left.\n",
    "c\n",
    "\\begin{pmatrix}\n",
    "1 \\\\ 1 \\\\ 0\n",
    "\\end{pmatrix}\n",
    "\\right\\rvert\\, c \\in \\mathbb{R}\\right\\}\n",
    "$$\n",
    "\n",
    "\n"
   ]
  },
  {
   "cell_type": "markdown",
   "id": "e49a8e62-22a7-4843-9800-136a45efc40a",
   "metadata": {},
   "source": [
    "$$\n",
    "P=\n",
    "\\begin{pmatrix}\n",
    "1 & 0 & 1\\\\\n",
    "0 & -1 & 1\\\\\n",
    "0 & 1 & 0\n",
    "\\end{pmatrix}\n",
    "$$"
   ]
  },
  {
   "cell_type": "code",
   "execution_count": 35,
   "id": "882ee1f6-9a47-4b15-a78b-957853527c88",
   "metadata": {
    "tags": [
     "hide-input",
     "hide-output"
    ]
   },
   "outputs": [
    {
     "data": {
      "text/latex": [
       "$\\displaystyle \\left[\\begin{matrix}1 & 0 & 0\\\\0 & 1 & 0\\\\0 & 0 & 2\\end{matrix}\\right]$"
      ],
      "text/plain": [
       "Matrix([\n",
       "[1, 0, 0],\n",
       "[0, 1, 0],\n",
       "[0, 0, 2]])"
      ]
     },
     "execution_count": 35,
     "metadata": {},
     "output_type": "execute_result"
    }
   ],
   "source": [
    "import sympy as sp\n",
    "A = sp.Matrix([\n",
    "    [1, 1, 1],\n",
    "    [0, 2, 1],\n",
    "    [0, 0, 1]\n",
    "])\n",
    "\n",
    "P = sp.Matrix([\n",
    "    [1, 0, 1],\n",
    "    [0, -1, 1],\n",
    "    [0, 1, 0]\n",
    "])\n",
    "\n",
    "P.inv() @ A @ P"
   ]
  },
  {
   "cell_type": "code",
   "execution_count": 34,
   "id": "007be243-d8d1-4c07-82bc-a900eaa967a2",
   "metadata": {
    "tags": [
     "hide-input",
     "hide-output"
    ]
   },
   "outputs": [
    {
     "name": "stdout",
     "output_type": "stream",
     "text": [
      "[(1, 2, [Matrix([\n",
      "[1],\n",
      "[0],\n",
      "[0]]), Matrix([\n",
      "[ 0],\n",
      "[-1],\n",
      "[ 1]])]), (2, 1, [Matrix([\n",
      "[1],\n",
      "[1],\n",
      "[0]])])]\n"
     ]
    },
    {
     "data": {
      "text/latex": [
       "$\\displaystyle \\left[\\begin{matrix}1 & 0 & 0\\\\0 & 1 & 0\\\\0 & 0 & 2\\end{matrix}\\right]$"
      ],
      "text/plain": [
       "Matrix([\n",
       "[1, 0, 0],\n",
       "[0, 1, 0],\n",
       "[0, 0, 2]])"
      ]
     },
     "execution_count": 34,
     "metadata": {},
     "output_type": "execute_result"
    }
   ],
   "source": [
    "e = A.eigenvects()\n",
    "print(e)\n",
    "P = sp.Matrix(e[0][2] + e[1][2]).reshape(3,3).T\n",
    "P.inv() @ A @ P"
   ]
  },
  {
   "cell_type": "markdown",
   "id": "44ebac6a-d535-4467-b49e-74cee9ab6b80",
   "metadata": {},
   "source": [
    "## 問4\n",
    "\n",
    ":::{card}\n",
    "\n",
    "2 次の正方行列 $\\left(\\begin{array}{ll}a & b \\\\ 0 & a\\end{array}\\right)$ が対角化可能であるための必要十分条件は $b=0$ であることを示せ。\n",
    ":::"
   ]
  },
  {
   "cell_type": "markdown",
   "id": "e799d58f-97a4-4b53-9020-213bd20fa7d6",
   "metadata": {},
   "source": [
    "$$\n",
    "A = \\begin{pmatrix}\n",
    "a & b \\\\\n",
    "0 & a\n",
    "\\end{pmatrix}\n",
    "$$\n",
    "\n",
    "とおく。$A$の固有値を求めると、\n",
    "\n",
    "$$\n",
    "\\det(A-\\lambda E)\n",
    "=\n",
    "\\det\n",
    "\\begin{pmatrix}\n",
    "a-\\lambda & b \\\\\n",
    "0 & a-\\lambda\n",
    "\\end{pmatrix}\n",
    "= 0\\\\\n",
    "\\iff (a-\\lambda)^2 = 0\n",
    "$$\n",
    "\n",
    "より、$\\lambda = a$\n",
    "\n",
    "固有ベクトル$x$を求めると、\n",
    "\n",
    "$$\n",
    "\\begin{pmatrix}\n",
    "a-\\lambda & b \\\\\n",
    "0 & a-\\lambda\n",
    "\\end{pmatrix}\n",
    "\\begin{pmatrix}\n",
    "x_1 \\\\ x_2\n",
    "\\end{pmatrix}\n",
    "=\n",
    "\\begin{pmatrix}\n",
    "0 \\\\ 0\n",
    "\\end{pmatrix}\n",
    "\\\\\n",
    "\\iff\n",
    "\\begin{pmatrix}\n",
    "0 & b \\\\\n",
    "0 & 0\n",
    "\\end{pmatrix}\n",
    "\\begin{pmatrix}\n",
    "x_1 \\\\ x_2\n",
    "\\end{pmatrix}\n",
    "=\n",
    "\\begin{pmatrix}\n",
    "0 \\\\ 0\n",
    "\\end{pmatrix}\n",
    "$$\n",
    "\n",
    "より、\n",
    "\n",
    "$$\n",
    "bx_2 = 0\n",
    "$$\n",
    "\n",
    "したがって $x_2 = 0$ であることがわかるため、固有空間は\n",
    "\n",
    "$$\n",
    "V(a)=\\left\\{\\left.\n",
    "c\n",
    "\\begin{pmatrix}\n",
    "1 \\\\ 0\n",
    "\\end{pmatrix}\n",
    "\\right\\rvert\\, c \\in \\mathbb{R}\\right\\}\n",
    "$$\n",
    "\n",
    "となり、$A$は対角化可能ではない。"
   ]
  },
  {
   "cell_type": "markdown",
   "id": "96b9d3b9-401b-46f3-a2dc-83e8b99ab318",
   "metadata": {},
   "source": [
    "もし$b=0$であれば\n",
    "\n",
    "$$\n",
    "\\begin{pmatrix}\n",
    "a-\\lambda & b \\\\\n",
    "0 & a-\\lambda\n",
    "\\end{pmatrix}\n",
    "\\begin{pmatrix}\n",
    "x_1 \\\\ x_2\n",
    "\\end{pmatrix}\n",
    "=\n",
    "\\begin{pmatrix}\n",
    "0 \\\\ 0\n",
    "\\end{pmatrix}\n",
    "\\\\\n",
    "\\iff\n",
    "\\begin{pmatrix}\n",
    "0 & 0 \\\\\n",
    "0 & 0\n",
    "\\end{pmatrix}\n",
    "\\begin{pmatrix}\n",
    "x_1 \\\\ x_2\n",
    "\\end{pmatrix}\n",
    "=\n",
    "\\begin{pmatrix}\n",
    "0 \\\\ 0\n",
    "\\end{pmatrix}\n",
    "$$\n",
    "\n",
    "より、固有空間は\n",
    "\n",
    "$$\n",
    "\\left\\{\\left.\n",
    "c_1\n",
    "\\begin{pmatrix}\n",
    "1 \\\\ 0\n",
    "\\end{pmatrix}\n",
    "+\n",
    "c_2\n",
    "\\begin{pmatrix}\n",
    "0 \\\\ 1\n",
    "\\end{pmatrix}\n",
    "\\right\\rvert\\, c_1,c_2 \\in \\mathbb{R}\\right\\}\n",
    "$$\n",
    "\n",
    "となる。\n",
    "\n",
    "これらの固有ベクトルを列ベクトルとする行列を\n",
    "\n",
    "$$\n",
    "P = \n",
    "\\begin{pmatrix}\n",
    "1 & 0\\\\\n",
    "0 & 1\n",
    "\\end{pmatrix}\n",
    "$$\n",
    "\n",
    "とすれば、$P^{-1} A P$は対角行列になる。\n",
    "\n",
    "よって$b=0 \\implies$ $A$は対角化可能である。"
   ]
  },
  {
   "cell_type": "code",
   "execution_count": 15,
   "id": "7d8878cd-85b7-4c7f-bff6-96f3d1e20505",
   "metadata": {
    "tags": [
     "hide-input",
     "hide-output"
    ]
   },
   "outputs": [
    {
     "data": {
      "text/latex": [
       "$\\displaystyle \\left[\\begin{matrix}1 & 0\\\\0 & 1\\end{matrix}\\right]$"
      ],
      "text/plain": [
       "Matrix([\n",
       "[1, 0],\n",
       "[0, 1]])"
      ]
     },
     "execution_count": 15,
     "metadata": {},
     "output_type": "execute_result"
    }
   ],
   "source": [
    "import sympy as sp\n",
    "A = sp.Matrix([\n",
    "    [1, 0],\n",
    "    [0, 1],\n",
    "])\n",
    "\n",
    "P = A\n",
    "\n",
    "P.inv() @ A @ P"
   ]
  }
 ],
 "metadata": {
  "kernelspec": {
   "display_name": "Python 3 (ipykernel)",
   "language": "python",
   "name": "python3"
  },
  "language_info": {
   "codemirror_mode": {
    "name": "ipython",
    "version": 3
   },
   "file_extension": ".py",
   "mimetype": "text/x-python",
   "name": "python",
   "nbconvert_exporter": "python",
   "pygments_lexer": "ipython3",
   "version": "3.10.14"
  }
 },
 "nbformat": 4,
 "nbformat_minor": 5
}
