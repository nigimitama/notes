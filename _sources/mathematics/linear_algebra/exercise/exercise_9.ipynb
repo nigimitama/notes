{
 "cells": [
  {
   "cell_type": "markdown",
   "id": "250945a9-68e5-4992-9d7d-7fb9fd0216d6",
   "metadata": {},
   "source": [
    "# 練習問題メモ 9（余因子展開）"
   ]
  },
  {
   "cell_type": "markdown",
   "id": "9c150a84-cfb5-4a7c-a0b1-7f506abb629d",
   "metadata": {},
   "source": [
    "## 9.1\n",
    "\n",
    ":::{card}\n",
    "第 2 列に関する余因子展開を用いて、行列式\n",
    "$\\left|\\begin{array}{ll}\n",
    "a_{11} & a_{12} \\\\\n",
    "a_{21} & a_{22}\n",
    "\\end{array}\\right|$ を計算せよ。\n",
    ":::"
   ]
  },
  {
   "cell_type": "markdown",
   "id": "7bced43d-ab09-4373-93aa-345437e002c5",
   "metadata": {},
   "source": [
    "第$j$列に関する余因子展開は\n",
    "\n",
    "$$\n",
    "a_{1 j} \\tilde{a}_{1 j}+ a_{2 j} \\tilde{a}_{2 j} +\\cdots+a_{n j} \\tilde{a}_{n j} = \\det(A)\n",
    "$$\n",
    "\n",
    "という形になるので"
   ]
  },
  {
   "cell_type": "markdown",
   "id": "797c7680-5dbc-4e7f-9ac4-d1ff5b810cb9",
   "metadata": {},
   "source": [
    "第2列に関する余因子展開は\n",
    "\n",
    "$$\n",
    "a_{12} \\tilde{a}_{12}\n",
    "+ a_{22} \\tilde{a}_{22}\n",
    "= \n",
    "\\left|\\begin{array}{ll}\n",
    "a_{11} & a_{12} \\\\\n",
    "a_{21} & a_{22}\n",
    "\\end{array}\\right|\n",
    "$$\n",
    "\n",
    "となる。\n"
   ]
  },
  {
   "cell_type": "markdown",
   "id": "9c680258-f3b6-4d99-8eb1-d74e8e208bdd",
   "metadata": {},
   "source": [
    "1次の行列（というかスカラー）の行列式はそのスカラーそのものであるため"
   ]
  },
  {
   "cell_type": "markdown",
   "id": "282bdf5a-66ce-4dd0-a686-7074dfe0888c",
   "metadata": {},
   "source": [
    "$$\n",
    "\\tilde{a}_{12} = (-1)^3 a_{21} = -a_{21}\\\\\n",
    "\\tilde{a}_{22} = (-1)^4 a_{11} = a_{11}\\\\\n",
    "$$"
   ]
  },
  {
   "cell_type": "markdown",
   "id": "5a9e16e7-c6f7-4b2f-880c-a1f8ae9c477c",
   "metadata": {},
   "source": [
    "よって\n",
    "\n",
    "$$\n",
    "\\left|\\begin{array}{ll}\n",
    "a_{11} & a_{12} \\\\\n",
    "a_{21} & a_{22}\n",
    "\\end{array}\\right|\n",
    "= a_{12} \\tilde{a}_{12} + a_{22} \\tilde{a}_{22}\\\\\n",
    "= a_{12} \\times (-a_{21}) + a_{22} a_{11}\\\\\n",
    "= a_{11} a_{22} - a_{12} a_{21}\n",
    "$$"
   ]
  },
  {
   "cell_type": "code",
   "execution_count": null,
   "id": "b4826e34-257e-43f5-a261-9c42a4649361",
   "metadata": {},
   "outputs": [],
   "source": []
  }
 ],
 "metadata": {
  "kernelspec": {
   "display_name": "Python 3 (ipykernel)",
   "language": "python",
   "name": "python3"
  },
  "language_info": {
   "codemirror_mode": {
    "name": "ipython",
    "version": 3
   },
   "file_extension": ".py",
   "mimetype": "text/x-python",
   "name": "python",
   "nbconvert_exporter": "python",
   "pygments_lexer": "ipython3",
   "version": "3.9.18"
  }
 },
 "nbformat": 4,
 "nbformat_minor": 5
}
