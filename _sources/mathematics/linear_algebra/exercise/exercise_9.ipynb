{
 "cells": [
  {
   "cell_type": "markdown",
   "id": "250945a9-68e5-4992-9d7d-7fb9fd0216d6",
   "metadata": {},
   "source": [
    "# 練習問題メモ 9（余因子展開）"
   ]
  },
  {
   "cell_type": "markdown",
   "id": "9c150a84-cfb5-4a7c-a0b1-7f506abb629d",
   "metadata": {},
   "source": [
    "## 9.1\n",
    "\n",
    ":::{card}\n",
    "第 2 列に関する余因子展開を用いて、行列式\n",
    "$\\left|\\begin{array}{ll}\n",
    "a_{11} & a_{12} \\\\\n",
    "a_{21} & a_{22}\n",
    "\\end{array}\\right|$ を計算せよ。\n",
    ":::"
   ]
  },
  {
   "cell_type": "markdown",
   "id": "7bced43d-ab09-4373-93aa-345437e002c5",
   "metadata": {},
   "source": [
    "第$j$列に関する余因子展開は\n",
    "\n",
    "$$\n",
    "a_{1 j} \\tilde{a}_{1 j}+ a_{2 j} \\tilde{a}_{2 j} +\\cdots+a_{n j} \\tilde{a}_{n j} = \\det(A)\n",
    "$$\n",
    "\n",
    "という形になるので"
   ]
  },
  {
   "cell_type": "markdown",
   "id": "797c7680-5dbc-4e7f-9ac4-d1ff5b810cb9",
   "metadata": {},
   "source": [
    "第2列に関する余因子展開は\n",
    "\n",
    "$$\n",
    "a_{12} \\tilde{a}_{12}\n",
    "+ a_{22} \\tilde{a}_{22}\n",
    "= \n",
    "\\left|\\begin{array}{ll}\n",
    "a_{11} & a_{12} \\\\\n",
    "a_{21} & a_{22}\n",
    "\\end{array}\\right|\n",
    "$$\n",
    "\n",
    "となる。\n"
   ]
  },
  {
   "cell_type": "markdown",
   "id": "9c680258-f3b6-4d99-8eb1-d74e8e208bdd",
   "metadata": {},
   "source": [
    "1次の行列（というかスカラー）の行列式はそのスカラーそのものであるため"
   ]
  },
  {
   "cell_type": "markdown",
   "id": "282bdf5a-66ce-4dd0-a686-7074dfe0888c",
   "metadata": {},
   "source": [
    "$$\n",
    "\\tilde{a}_{12} = (-1)^3 a_{21} = -a_{21}\\\\\n",
    "\\tilde{a}_{22} = (-1)^4 a_{11} = a_{11}\\\\\n",
    "$$"
   ]
  },
  {
   "cell_type": "markdown",
   "id": "5a9e16e7-c6f7-4b2f-880c-a1f8ae9c477c",
   "metadata": {},
   "source": [
    "よって\n",
    "\n",
    "$$\n",
    "\\left|\\begin{array}{ll}\n",
    "a_{11} & a_{12} \\\\\n",
    "a_{21} & a_{22}\n",
    "\\end{array}\\right|\n",
    "= a_{12} \\tilde{a}_{12} + a_{22} \\tilde{a}_{22}\\\\\n",
    "= a_{12} \\times (-a_{21}) + a_{22} a_{11}\\\\\n",
    "= a_{11} a_{22} - a_{12} a_{21}\n",
    "$$"
   ]
  },
  {
   "cell_type": "markdown",
   "id": "a58b355e-9121-449c-b488-603256746d08",
   "metadata": {},
   "source": [
    "## 9.2\n",
    "\n",
    ":::{card}\n",
    "次の 1、2 の行列式を計算せよ。\n",
    "\n",
    "1.\n",
    "\n",
    "$$\n",
    "\\left|\\begin{array}{lllll}\n",
    "1 & 6 & 0 & 9 & 1 \\\\\n",
    "2 & 7 & 0 & 8 & 2 \\\\\n",
    "3 & 4 & 5 & 6 & 7 \\\\\n",
    "4 & 8 & 0 & 7 & 4 \\\\\n",
    "5 & 9 & 0 & 6 & 5\n",
    "\\end{array}\\right|\n",
    "$$\n",
    "\n",
    "2.\n",
    "\n",
    "$$\n",
    "\\left|\\begin{array}{cccc}\n",
    "100 & 99 & 99 & 99 \\\\\n",
    "100 & 99 & 100 & 100 \\\\\n",
    "100 & 100 & 99 & 100 \\\\\n",
    "100 & 100 & 100 & 99\n",
    "\\end{array}\\right|\n",
    "$$\n",
    ":::"
   ]
  },
  {
   "cell_type": "markdown",
   "id": "0efceebe-8053-4710-a6f3-81431887aea3",
   "metadata": {},
   "source": [
    "> 1.\n",
    "> $\n",
    "\\left|\\begin{array}{lllll}\n",
    "1 & 6 & 0 & 9 & 1 \\\\\n",
    "2 & 7 & 0 & 8 & 2 \\\\\n",
    "3 & 4 & 5 & 6 & 7 \\\\\n",
    "4 & 8 & 0 & 7 & 4 \\\\\n",
    "5 & 9 & 0 & 6 & 5\n",
    "\\end{array}\\right|\n",
    "$"
   ]
  },
  {
   "cell_type": "code",
   "execution_count": 1,
   "id": "75e074ad-4206-4550-b363-3b1482301b76",
   "metadata": {
    "tags": [
     "hide-input"
    ]
   },
   "outputs": [
    {
     "data": {
      "text/latex": [
       "$\\displaystyle \\left[\\begin{matrix}1 & 6 & 0 & 9 & 1\\\\2 & 7 & 0 & 8 & 2\\\\3 & 4 & 5 & 6 & 7\\\\4 & 8 & 0 & 7 & 4\\\\5 & 9 & 0 & 6 & 5\\end{matrix}\\right]$"
      ],
      "text/plain": [
       "Matrix([\n",
       "[1, 6, 0, 9, 1],\n",
       "[2, 7, 0, 8, 2],\n",
       "[3, 4, 5, 6, 7],\n",
       "[4, 8, 0, 7, 4],\n",
       "[5, 9, 0, 6, 5]])"
      ]
     },
     "execution_count": 1,
     "metadata": {},
     "output_type": "execute_result"
    }
   ],
   "source": [
    "from sympy import Matrix\n",
    "A = Matrix([\n",
    "    [1, 6, 0, 9, 1],\n",
    "    [2, 7, 0, 8, 2],\n",
    "    [3, 4, 5, 6, 7],\n",
    "    [4, 8, 0, 7, 4],\n",
    "    [5, 9, 0, 6, 5],\n",
    "])\n",
    "A"
   ]
  },
  {
   "cell_type": "code",
   "execution_count": 2,
   "id": "24bf9412-fcc3-41c3-849d-602455db3e5b",
   "metadata": {
    "tags": [
     "hide-input"
    ]
   },
   "outputs": [
    {
     "data": {
      "text/latex": [
       "$\\displaystyle \\left[\\begin{matrix}5 & 4 & 3 & 6 & 7\\\\0 & 7 & 2 & 8 & 2\\\\0 & 6 & 1 & 9 & 1\\\\0 & 8 & 4 & 7 & 4\\\\0 & 9 & 5 & 6 & 5\\end{matrix}\\right]$"
      ],
      "text/plain": [
       "Matrix([\n",
       "[5, 4, 3, 6, 7],\n",
       "[0, 7, 2, 8, 2],\n",
       "[0, 6, 1, 9, 1],\n",
       "[0, 8, 4, 7, 4],\n",
       "[0, 9, 5, 6, 5]])"
      ]
     },
     "execution_count": 2,
     "metadata": {},
     "output_type": "execute_result"
    }
   ],
   "source": [
    "# 3列目と1列目を入れ替える（これで行列式は-1倍）\n",
    "x1 = A[:, 0].copy()\n",
    "x3 = A[:, 2].copy()\n",
    "A[:, 0] = x3\n",
    "A[:, 2] = x1\n",
    "\n",
    "# 3行目と1行目を入れ替える（これで行列式は-1倍）\n",
    "x1 = A[0, :].copy()\n",
    "x3 = A[2, :].copy()\n",
    "A[0, :] = x3\n",
    "A[2, :] = x1\n",
    "\n",
    "A"
   ]
  },
  {
   "cell_type": "markdown",
   "id": "d9ea93f2-772a-4918-891c-435b800c8212",
   "metadata": {},
   "source": [
    "1. 3列目と1列目を入れ替える（これで行列式は-1倍）\n",
    "2. 3行目と1行目を入れ替える（これで行列式は-1倍）\n",
    "\n",
    "という操作をして1列目を$(1,1)$要素以外0にする\n",
    "\n",
    "定理より、\n",
    "\n",
    "$$\n",
    "\\left|\\begin{array}{lllll}\n",
    "5 & 4 & 3 & 6 & 7 \\\\\n",
    "0 & 7 & 2 & 8 & 2 \\\\\n",
    "0 & 6 & 1 & 9 & 1 \\\\\n",
    "0 & 8 & 4 & 7 & 4 \\\\\n",
    "0 & 9 & 5 & 6 & 5\n",
    "\\end{array}\\right|\n",
    "=\n",
    "5\n",
    "\\left|\\begin{array}{llll}\n",
    "7 & 2 & 8 & 2 \\\\\n",
    "6 & 1 & 9 & 1 \\\\\n",
    "8 & 4 & 7 & 4 \\\\\n",
    "9 & 5 & 6 & 5\n",
    "\\end{array}\\right|\n",
    "$$"
   ]
  },
  {
   "cell_type": "markdown",
   "id": "a7fa3859-e36e-4441-9ad8-251c5ee67a6f",
   "metadata": {},
   "source": [
    "続いて、第1列を掃き出して(1,1)要素以外を0にする"
   ]
  },
  {
   "cell_type": "code",
   "execution_count": 3,
   "id": "d09eb304-7e91-417b-baf2-dbcb0f3fae94",
   "metadata": {
    "tags": [
     "hide-input"
    ]
   },
   "outputs": [
    {
     "data": {
      "text/latex": [
       "$\\displaystyle \\left[\\begin{matrix}7 & 2 & 8 & 2\\\\0 & - \\frac{5}{7} & \\frac{15}{7} & - \\frac{5}{7}\\\\0 & \\frac{12}{7} & - \\frac{15}{7} & \\frac{12}{7}\\\\0 & \\frac{17}{7} & - \\frac{30}{7} & \\frac{17}{7}\\end{matrix}\\right]$"
      ],
      "text/plain": [
       "Matrix([\n",
       "[7,    2,     8,    2],\n",
       "[0, -5/7,  15/7, -5/7],\n",
       "[0, 12/7, -15/7, 12/7],\n",
       "[0, 17/7, -30/7, 17/7]])"
      ]
     },
     "execution_count": 3,
     "metadata": {},
     "output_type": "execute_result"
    }
   ],
   "source": [
    "A1 = A[1:, 1:].copy()\n",
    "n = A1.shape[0]\n",
    "j = 0\n",
    "i = 1\n",
    "\n",
    "for i in range(1, n):\n",
    "    A1[i, :] = A1[i, :] - A1[0, :] * (A1[i, j] / A1[0, j])\n",
    "A1"
   ]
  },
  {
   "cell_type": "markdown",
   "id": "5bff9db5-bc80-46e3-9ed1-163bf380bbe3",
   "metadata": {},
   "source": [
    "$$\n",
    "\\left|\\begin{array}{lllll}\n",
    "5 & 4 & 3 & 6 & 7 \\\\\n",
    "0 & 7 & 2 & 8 & 2 \\\\\n",
    "0 & 6 & 1 & 9 & 1 \\\\\n",
    "0 & 8 & 4 & 7 & 4 \\\\\n",
    "0 & 9 & 5 & 6 & 5\n",
    "\\end{array}\\right|\n",
    "=\n",
    "5\n",
    "\\left|\\begin{array}{llll}\n",
    "7 & 2 & 8 & 2 \\\\\n",
    "6 & 1 & 9 & 1 \\\\\n",
    "8 & 4 & 7 & 4 \\\\\n",
    "9 & 5 & 6 & 5\n",
    "\\end{array}\\right|\n",
    "=\n",
    "5 \\times 7\n",
    "\\left|\\begin{array}{cccc}\n",
    "-\\frac{5}{7} & \\frac{15}{7} & -\\frac{5}{7} \\\\\n",
    "\\frac{12}{7} & -\\frac{15}{7} & \\frac{12}{7} \\\\\n",
    "\\frac{17}{7} & -\\frac{30}{7} & \\frac{17}{7}\n",
    "\\end{array}\\right|\n",
    "$$\n",
    "\n",
    "となった。\n",
    "\n",
    "また第1列を掃き出して(1,1)要素以外を0にする"
   ]
  },
  {
   "cell_type": "code",
   "execution_count": 4,
   "id": "611dfb6f-f2c8-4df3-af76-83907d3ba07b",
   "metadata": {
    "tags": [
     "hide-input"
    ]
   },
   "outputs": [
    {
     "data": {
      "text/latex": [
       "$\\displaystyle \\left[\\begin{matrix}- \\frac{5}{7} & \\frac{15}{7} & - \\frac{5}{7}\\\\0 & 3 & 0\\\\0 & 3 & 0\\end{matrix}\\right]$"
      ],
      "text/plain": [
       "Matrix([\n",
       "[-5/7, 15/7, -5/7],\n",
       "[   0,    3,    0],\n",
       "[   0,    3,    0]])"
      ]
     },
     "execution_count": 4,
     "metadata": {},
     "output_type": "execute_result"
    }
   ],
   "source": [
    "A2 = A1[1:, 1:].copy()\n",
    "n = A2.shape[0]\n",
    "j = 0\n",
    "i = 1\n",
    "\n",
    "for i in range(1, n):\n",
    "    A2[i, :] = A2[i, :] - A2[0, :] * (A2[i, j] / A2[0, j])\n",
    "A2"
   ]
  },
  {
   "cell_type": "markdown",
   "id": "c92836ed-c765-4c1f-8957-222b7d7b97f4",
   "metadata": {},
   "source": [
    "ここまでの展開をまとめると\n",
    "\n",
    "$$\n",
    "\\left|\\begin{array}{lllll}\n",
    "1 & 6 & 0 & 9 & 1 \\\\\n",
    "2 & 7 & 0 & 8 & 2 \\\\\n",
    "3 & 4 & 5 & 6 & 7 \\\\\n",
    "4 & 8 & 0 & 7 & 4 \\\\\n",
    "5 & 9 & 0 & 6 & 5\n",
    "\\end{array}\\right|\n",
    "=\n",
    "\\left|\\begin{array}{lllll}\n",
    "5 & 4 & 3 & 6 & 7 \\\\\n",
    "0 & 7 & 2 & 8 & 2 \\\\\n",
    "0 & 6 & 1 & 9 & 1 \\\\\n",
    "0 & 8 & 4 & 7 & 4 \\\\\n",
    "0 & 9 & 5 & 6 & 5\n",
    "\\end{array}\\right|\n",
    "=\n",
    "5\n",
    "\\left|\\begin{array}{llll}\n",
    "7 & 2 & 8 & 2 \\\\\n",
    "6 & 1 & 9 & 1 \\\\\n",
    "8 & 4 & 7 & 4 \\\\\n",
    "9 & 5 & 6 & 5\n",
    "\\end{array}\\right|\n",
    "=\n",
    "5 \\times 7\\times\n",
    "\\left|\\begin{array}{cccc}\n",
    "-\\frac{5}{7} & \\frac{15}{7} & -\\frac{5}{7} \\\\\n",
    "\\frac{12}{7} & -\\frac{15}{7} & \\frac{12}{7} \\\\\n",
    "\\frac{17}{7} & -\\frac{30}{7} & \\frac{17}{7}\n",
    "\\end{array}\\right|\n",
    "=\n",
    "5\\times 7\\times (-\\frac{5}{7})\\times\n",
    "\\left|\\begin{array}{cc}\n",
    "3 & 0\\\\\n",
    "3 & 0\n",
    "\\end{array}\\right|\n",
    "$$\n",
    "\n",
    "となった。\n",
    "\n",
    "$$\n",
    "\\left|\\begin{array}{cc}\n",
    "3 & 0\\\\\n",
    "3 & 0\n",
    "\\end{array}\\right|\n",
    "= 0\n",
    "$$\n",
    "\n",
    "なので\n",
    "\n",
    "$$\n",
    "\\left|\\begin{array}{lllll}\n",
    "1 & 6 & 0 & 9 & 1 \\\\\n",
    "2 & 7 & 0 & 8 & 2 \\\\\n",
    "3 & 4 & 5 & 6 & 7 \\\\\n",
    "4 & 8 & 0 & 7 & 4 \\\\\n",
    "5 & 9 & 0 & 6 & 5\n",
    "\\end{array}\\right|\n",
    "= 0\n",
    "$$"
   ]
  },
  {
   "cell_type": "code",
   "execution_count": 5,
   "id": "0e6672a2-bdbc-4188-bf38-c736cf5670d6",
   "metadata": {
    "tags": [
     "hide-input"
    ]
   },
   "outputs": [
    {
     "data": {
      "text/plain": [
       "0.0"
      ]
     },
     "execution_count": 5,
     "metadata": {},
     "output_type": "execute_result"
    }
   ],
   "source": [
    "# 検算\n",
    "import numpy as np\n",
    "A = np.array([\n",
    "    [1, 6, 0, 9, 1],\n",
    "    [2, 7, 0, 8, 2],\n",
    "    [3, 4, 5, 6, 7],\n",
    "    [4, 8, 0, 7, 4],\n",
    "    [5, 9, 0, 6, 5],\n",
    "])\n",
    "np.linalg.det(A)"
   ]
  },
  {
   "cell_type": "markdown",
   "id": "73a7012f-1b12-4e19-b202-de179b6debfa",
   "metadata": {},
   "source": [
    "> 2.\n",
    "> $\n",
    "\\left|\\begin{array}{cccc}\n",
    "100 & 99 & 99 & 99 \\\\\n",
    "100 & 99 & 100 & 100 \\\\\n",
    "100 & 100 & 99 & 100 \\\\\n",
    "100 & 100 & 100 & 99\n",
    "\\end{array}\\right|\n",
    "$"
   ]
  },
  {
   "cell_type": "markdown",
   "id": "d0aeddeb-370a-4c42-8ee4-50ce4312a3d9",
   "metadata": {},
   "source": [
    "まず、1列目を2～4列から引く"
   ]
  },
  {
   "cell_type": "code",
   "execution_count": 6,
   "id": "f592bd91-1190-43d0-85d4-090a170a772b",
   "metadata": {
    "tags": [
     "hide-input"
    ]
   },
   "outputs": [
    {
     "data": {
      "text/latex": [
       "$\\displaystyle \\left[\\begin{matrix}100 & -1 & -1 & -1\\\\100 & -1 & 0 & 0\\\\100 & 0 & -1 & 0\\\\100 & 0 & 0 & -1\\end{matrix}\\right]$"
      ],
      "text/plain": [
       "Matrix([\n",
       "[100, -1, -1, -1],\n",
       "[100, -1,  0,  0],\n",
       "[100,  0, -1,  0],\n",
       "[100,  0,  0, -1]])"
      ]
     },
     "execution_count": 6,
     "metadata": {},
     "output_type": "execute_result"
    }
   ],
   "source": [
    "from sympy import Matrix\n",
    "A = Matrix([\n",
    "    [100, 99, 99, 99],\n",
    "    [100, 99, 100, 100],\n",
    "    [100, 100, 99, 100],\n",
    "    [100, 100, 100, 99],\n",
    "])\n",
    "\n",
    "A[:, 1] -= A[:, 0]\n",
    "A[:, 2] -= A[:, 0]\n",
    "A[:, 3] -= A[:, 0]\n",
    "A"
   ]
  },
  {
   "cell_type": "markdown",
   "id": "31fb7836-4f69-4a6b-86f0-26164282604c",
   "metadata": {},
   "source": [
    "2~4行から1行目を引く"
   ]
  },
  {
   "cell_type": "code",
   "execution_count": 7,
   "id": "f6fda0c0-ac1e-4f44-a1aa-b252b34ce3eb",
   "metadata": {},
   "outputs": [
    {
     "data": {
      "text/latex": [
       "$\\displaystyle \\left[\\begin{matrix}100 & -1 & -1 & -1\\\\0 & 0 & 1 & 1\\\\0 & 1 & 0 & 1\\\\0 & 1 & 1 & 0\\end{matrix}\\right]$"
      ],
      "text/plain": [
       "Matrix([\n",
       "[100, -1, -1, -1],\n",
       "[  0,  0,  1,  1],\n",
       "[  0,  1,  0,  1],\n",
       "[  0,  1,  1,  0]])"
      ]
     },
     "execution_count": 7,
     "metadata": {},
     "output_type": "execute_result"
    }
   ],
   "source": [
    "A[1, :] -= A[0, :]\n",
    "A[2, :] -= A[0, :]\n",
    "A[3, :] -= A[0, :]\n",
    "A"
   ]
  },
  {
   "cell_type": "markdown",
   "id": "7ecf65c8-1f9b-4d1d-b0dc-0926e79ca57d",
   "metadata": {},
   "source": [
    "なので、行列式の性質より\n",
    "\n",
    "$$\n",
    "100 \\times\n",
    "\\left|\\begin{array}{ccc}\n",
    "0 & 1 & 1\\\\\n",
    "1 & 0 & 1\\\\\n",
    "1 & 1 & 0\n",
    "\\end{array}\\right|\n",
    "$$\n",
    "\n",
    "となる"
   ]
  },
  {
   "cell_type": "markdown",
   "id": "b98491f5-cef7-40d3-bbc6-0ea4efdb34ab",
   "metadata": {},
   "source": [
    "$$\n",
    "\\left|\\begin{array}{ccc}\n",
    "0 & 1 & 1\\\\\n",
    "1 & 0 & 1\\\\\n",
    "1 & 1 & 0\n",
    "\\end{array}\\right|\n",
    "= (0 + 1 + 1) - (0 + 0 + 0) = 2\n",
    "$$\n",
    "\n",
    "なので\n",
    "\n",
    "$$\n",
    "100 \\times\n",
    "\\left|\\begin{array}{ccc}\n",
    "0 & 1 & 1\\\\\n",
    "1 & 0 & 1\\\\\n",
    "1 & 1 & 0\n",
    "\\end{array}\\right|\n",
    "= 100 \\times 2\n",
    "$$"
   ]
  },
  {
   "cell_type": "markdown",
   "id": "f832a833-94ed-4a05-8e85-a220ac42d09e",
   "metadata": {},
   "source": [
    "$$\n",
    "\\left|\\begin{array}{cccc}\n",
    "100 & 99 & 99 & 99 \\\\\n",
    "100 & 99 & 100 & 100 \\\\\n",
    "100 & 100 & 99 & 100 \\\\\n",
    "100 & 100 & 100 & 99\n",
    "\\end{array}\\right|\n",
    "= 200\n",
    "$$"
   ]
  },
  {
   "cell_type": "code",
   "execution_count": 8,
   "id": "5ced237d-ca36-425b-81ae-3db1e0aa784c",
   "metadata": {
    "tags": [
     "hide-input"
    ]
   },
   "outputs": [
    {
     "data": {
      "text/plain": [
       "200.0000000000001"
      ]
     },
     "execution_count": 8,
     "metadata": {},
     "output_type": "execute_result"
    }
   ],
   "source": [
    "# 検算\n",
    "import numpy as np\n",
    "A = np.array([\n",
    "    [100, 99, 99, 99],\n",
    "    [100, 99, 100, 100],\n",
    "    [100, 100, 99, 100],\n",
    "    [100, 100, 100, 99],\n",
    "])\n",
    "np.linalg.det(A)"
   ]
  },
  {
   "cell_type": "markdown",
   "id": "fd80f3f7-a538-45ca-8a34-055a2bb8d8f4",
   "metadata": {},
   "source": [
    "## 9.3"
   ]
  },
  {
   "cell_type": "markdown",
   "id": "f5b9bbd6-80e4-4212-b0a4-13b6569aa14f",
   "metadata": {},
   "source": [
    ":::{card}\n",
    "$n$ を 2 以上の自然数、 $A=\\left(a_{i j}\\right)_{n \\times n}$ を $n$ 次の正方行列とする。次の問いに答えよ。\n",
    "1. $A$ の $(i, j)$ 余因子の定義を書け。\n",
    "2. $A$ の余因子行列の定義を書け。\n",
    "3. $n=3$ のとき、 $A$ の余因子行列を $A$ の余因子を用いて表せ。\n",
    "4. $\\tilde{A}$ を $A$ 余因子行列とすると、 $|\\tilde{A}|=|A|^{n-1}$ が成り立つことを次の□を埋めることにより証明せよ。（※穴埋め問題）\n",
    ":::"
   ]
  },
  {
   "cell_type": "markdown",
   "id": "f832c58e-99dc-4a0c-8b6f-aef0b4274ce2",
   "metadata": {},
   "source": [
    ":::{card}\n",
    "1. $A$ の $(i, j)$ 余因子の定義を書け。\n",
    ":::"
   ]
  },
  {
   "cell_type": "markdown",
   "id": "9f9d3133-8941-4fbf-b5ec-8446af58057f",
   "metadata": {},
   "source": [
    "$$\n",
    "\\tilde{a}_{ij} = (-1)^{i+j} |A_{ij}|\n",
    "$$"
   ]
  },
  {
   "cell_type": "markdown",
   "id": "dec2ee61-470a-4e19-9380-fa820f74959e",
   "metadata": {},
   "source": [
    ":::{card}\n",
    "2. $A$ の余因子行列の定義を書け。\n",
    ":::"
   ]
  },
  {
   "cell_type": "markdown",
   "id": "81417aaa-f37c-4fac-a713-60f9e17b84c1",
   "metadata": {},
   "source": [
    "$(i, j)$余因子を$\\tilde{a}_{ij}$とするとき、$(i, j)$成分に余因子$\\tilde{a}_{ij}$をもつ行列の転置行列\n",
    "\n",
    "$$\n",
    "\\tilde{A}=\\left(\\begin{array}{cccc}\n",
    "\\tilde{a}_{11} & \\tilde{a}_{21} & \\cdots & \\tilde{a}_{n 1} \\\\\n",
    "\\tilde{a}_{12} & \\tilde{a}_{22} & \\cdots & \\tilde{a}_{n 2} \\\\\n",
    "\\vdots & \\vdots & & \\vdots \\\\\n",
    "\\tilde{a}_{1 n} & \\tilde{a}_{2 n} & \\cdots & \\tilde{a}_{n n}\n",
    "\\end{array}\\right)\n",
    "$$\n",
    "\n",
    "を**余因子行列**（adjugate matrix）という。"
   ]
  },
  {
   "cell_type": "markdown",
   "id": "6e239715-c140-4381-9f30-d0bc01f84c67",
   "metadata": {},
   "source": [
    ":::{card}\n",
    "3. $n=3$ のとき、 $A$ の余因子行列を $A$ の余因子を用いて表せ。\n",
    ":::"
   ]
  },
  {
   "cell_type": "markdown",
   "id": "4ed3c71e-21dc-42e9-a6c0-b25f7950d34c",
   "metadata": {},
   "source": [
    "$(i, j)$余因子を$\\tilde{a}_{ij}$とすると\n",
    "\n",
    "$$\n",
    "\\tilde{A}=\\left(\\begin{array}{cccc}\n",
    "\\tilde{a}_{11} & \\tilde{a}_{21} & \\tilde{a}_{31}\\\\\n",
    "\\tilde{a}_{12} & \\tilde{a}_{22} & \\tilde{a}_{32}\\\\\n",
    "\\tilde{a}_{13} & \\tilde{a}_{23} & \\tilde{a}_{33}\\\\\n",
    "\\end{array}\\right)\n",
    "$$"
   ]
  },
  {
   "cell_type": "markdown",
   "id": "925efb2a-e2e1-43ee-8cbf-33c748a4d58e",
   "metadata": {},
   "source": [
    "::::{card}\n",
    "> 4. $\\tilde{A}$ を $A$ 余因子行列とすると、 $|\\tilde{A}|=|A|^{n-1}$ が成り立つことを次の□を埋めることにより証明せよ。\n",
    "\n",
    "（※穴埋め問題）\n",
    "\n",
    ":::{card}\n",
    "前提となる定理1:\n",
    "$A$ を $n$ 次の正方行列とすると、\n",
    "\n",
    "$$\n",
    "A \\tilde{A}=\\tilde{A} A=|A| E\n",
    "$$\n",
    "\n",
    "特に、 $|A| \\neq 0$ ならば、 $A$ は正則で、\n",
    "\n",
    "$$\n",
    "A^{-1}=\\frac{1}{|A|} \\tilde{A}\n",
    "$$\n",
    ":::\n",
    "\n",
    ":::{card}\n",
    "前提となる定理 2:\n",
    "\n",
    "$A, B$ を $n$ 次の正方行列とすると、\n",
    "\n",
    "$$\n",
    "|A B|=|B A|=|A||B|\n",
    "$$\n",
    ":::\n",
    "\n",
    ":::{card}\n",
    "前提となる定理 3:\n",
    "\n",
    "$$\n",
    "\\left|\\begin{array}{cccc}\n",
    "a_{11} & a_{12} & \\cdots & a_{1 n} \\\\\n",
    "0 & a_{22} & \\cdots & a_{2 n} \\\\\n",
    "\\vdots & \\vdots & \\ddots & \\vdots \\\\\n",
    "0 & a_{n 2} & \\cdots & a_{n n}\n",
    "\\end{array}\\right|=a_{11}\\left|\\begin{array}{ccc}\n",
    "a_{22} & \\cdots & a_{2 n} \\\\\n",
    "\\vdots & \\ddots & \\vdots \\\\\n",
    "a_{n 2} & \\cdots & a_{n n}\n",
    "\\end{array}\\right|\n",
    "$$\n",
    ":::\n",
    "\n",
    "証明:\n",
    "\n",
    "上記の定理 1 より、\n",
    "\n",
    "$$\n",
    "A \\tilde{A}=|A| E \\tag{9.1}\n",
    "$$\n",
    "\n",
    "$|A|=0$ のとき、 9.1 式より、\n",
    "\n",
    "$$\n",
    "A \\tilde{A}=O \\tag{9.2}\n",
    "$$\n",
    "\n",
    "ここで、 $\\tilde{A}$ が正則であると仮定する。このとき、 $\\tilde{A}$ の逆行列 $\\tilde{A}^{-1}$ が存在する。 9.2 式の両辺に右から $\\tilde{A}^{-1}$ を掛けると、\n",
    "\n",
    "$$\n",
    "A=O\n",
    "$$\n",
    "\n",
    "なので、$A$ の余因子はすべて 0 となることに注意すると、余因子行列の定義より、 $\\tilde{A}=[1]$ 。零行列は正則ではないから、これは矛盾である。よって、 $\\tilde{A}$ は正則では ないので、 $\\tilde{A}=[2]$ 。したがって、 $|\\tilde{A}|=|A|^{n-1}=[3]$ 。\n",
    "\n",
    "$|A| \\neq 0$ のとき、定理 2 より、 $|A \\tilde{A}|=|A| [4]$ 。一方、 $|A| E$ は対角成分がすべて $A$ の $n$ 次のスカラー行列なので、定理 3 より、 $|A||E|=|A| [5]$ 。よって、 9.1 式の 両辺の行列式をとると、 $|A| [4] = |A| [5]$ 。\n",
    "\n",
    "\n",
    "$|A| \\neq 0$ なので、\n",
    "\n",
    "$$\n",
    "|\\tilde{A}|=|A|^{n-1}\n",
    "$$\n",
    "::::"
   ]
  },
  {
   "cell_type": "markdown",
   "id": "604a7045-085c-4f65-bb0d-b63260133bc0",
   "metadata": {},
   "source": [
    "### 空欄：\n",
    "\n",
    "$[1] = O$\n",
    "\n",
    "- 余因子は全てゼロなら余因子は零行列\n",
    "\n",
    "$[2] = ?$\n",
    "\n",
    "- ぜんぜんわからん\n",
    "\n",
    "\n",
    "$[3] = 0$\n",
    "\n",
    "- 正則ではないので$|\\tilde{A}|=0$\n",
    "\n",
    "$[4]=|\\tilde{A}|$\n",
    "\n",
    "- $|A \\tilde{A}| = |A||\\tilde{A}|$か？\n",
    "    - $|\\tilde{A}|$を使うなら$[3]$を代入？\n",
    "- それとも$A \\tilde{A}=|A|E$なので$\\big| |A|E \\big|=|A|^{n-1}$か？\n",
    "\n",
    "$[5] = ^n$\n",
    "\n",
    "- $|A||E| = |A|[5]$は誤植で、$||A| E| = |A|[5]$であると仮定すると$||A| E|=|A|^n$\n"
   ]
  },
  {
   "cell_type": "markdown",
   "id": "aa48ea61-e378-4035-b4b0-00c4ba0a0339",
   "metadata": {},
   "source": [
    "↓空欄を埋めてみたもの\n",
    "\n",
    ":::{card}\n",
    "証明：\n",
    "\n",
    "上記の定理 1 より、\n",
    "\n",
    "$$\n",
    "A \\tilde{A}=|A| E \\tag{9.1}\n",
    "$$\n",
    "\n",
    "$|A|=0$ のとき、 9.1 式より、\n",
    "\n",
    "$$\n",
    "A \\tilde{A}=O \\tag{9.2}\n",
    "$$\n",
    "\n",
    "ここで、 $\\tilde{A}$ が正則であると仮定する。このとき、 $\\tilde{A}$ の逆行列 $\\tilde{A}^{-1}$ が存在する。 9.2 式の両辺に右から $\\tilde{A}^{-1}$ を掛けると、\n",
    "\n",
    "$$\n",
    "A=O\n",
    "$$\n",
    "\n",
    "なので、$A$ の余因子はすべて 0 となることに注意すると、余因子行列の定義より、 $\\tilde{A}=O$ 。零行列は正則ではないから、これは矛盾である。よって、 $\\tilde{A}$ は正則では ないので、 $\\tilde{A}=[2]$ 。したがって、 $|\\tilde{A}|=|A|^{n-1}=0$ 。\n",
    "\n",
    "$|A| \\neq 0$ のとき、定理 2 より、 $|A \\tilde{A}|=|A| |\\tilde{A}|$ 。一方、 $|A| E$ は対角成分がすべて $A$ の $n$ 次のスカラー行列なので、定理 3 より、 $|A||E|=|A|^n$ 。よって、 9.1 式の 両辺の行列式をとると、 $|A| |\\tilde{A}| = |A| ^n$ 。\n",
    "\n",
    "\n",
    "$|A| \\neq 0$ なので、\n",
    "\n",
    "$$\n",
    "|\\tilde{A}|=|A|^{n-1}\n",
    "$$\n",
    ":::"
   ]
  },
  {
   "cell_type": "markdown",
   "id": "26e85dec-3bb3-464f-92a0-6670937f4275",
   "metadata": {},
   "source": [
    "ミス？\n",
    "\n",
    ">  $|A| E$ は対角成分がすべて $A$ の $n$ 次のスカラー行列なので\n",
    "\n",
    "→  $|A| E$ は対角成分がすべて $|A|$ の $n$ 次のスカラー行列なので\n",
    "\n",
    "\n",
    "> $|A| E$ は対角成分がすべて $A$ の $n$ 次のスカラー行列なので、定理 3 より、 $|A||E|=|A| [5]$\n",
    "\n",
    "→ $|A| E$ は対角成分がすべて $A$ の $n$ 次のスカラー行列なので、定理 3 より、 $\\big| |A| E \\big|=|A| [5]$"
   ]
  },
  {
   "cell_type": "markdown",
   "id": "74091e63-d608-4818-ac79-9f001383fe29",
   "metadata": {},
   "source": [
    "### 自分が証明するなら\n",
    "\n",
    "$$\n",
    "A \\tilde{A} = |A| E\n",
    "$$\n",
    "\n",
    "の両辺の行列式をとり\n",
    "\n",
    "$$\n",
    "|A \\tilde{A}| = \\big| |A| E \\big|\n",
    "$$\n",
    "\n",
    "$|A| E$は対角成分に$|A|$のある対角行列なので、対角行列の行列式の定理より、\n",
    "\n",
    "$$\n",
    "\\big| |A| E \\big| = |A|^n\n",
    "$$\n",
    "\n",
    "よって\n",
    "\n",
    "$$\n",
    "|A \\tilde{A}| = |A|^n\n",
    "$$\n",
    "\n",
    "$|A| \\neq 0$を仮定すれば、両辺に$A^{-1}$を乗じて\n",
    "\n",
    "$$\n",
    "|\\tilde{A}| = |A|^{n-1}\n",
    "$$\n",
    "\n",
    "\n",
    "参考：[余因子行列とは？ ～ 具体例と性質 ～ (証明付) - 理数アラカルト -](https://risalc.info/src/cofactor-matrix.html#det)"
   ]
  },
  {
   "cell_type": "markdown",
   "id": "1dc32c3e-9a74-4e4b-813d-5152a1a0c5fa",
   "metadata": {},
   "source": [
    "### 疑問\n",
    "\n",
    "$\\tilde{A}$が正則でない、つまり$|\\tilde{A}|=0$であり\n",
    "\n",
    "$$\n",
    "|\\tilde{A}| = |A|^{n-1} = 0\n",
    "$$\n",
    "\n",
    "なら$|A|\\neq 0$になるのか？$|A|=0$では？\n",
    "\n"
   ]
  },
  {
   "cell_type": "markdown",
   "id": "3c1519bf-40cb-4e40-b6bb-120462b20519",
   "metadata": {
    "tags": []
   },
   "source": [
    "## 9.4\n",
    "\n",
    ":::{card}\n",
    "\n",
    "4 次の正方行列 $A$ を\n",
    "\n",
    "$$\n",
    "A=\\left(\\begin{array}{cccc}\n",
    "a & -b & -c & -d \\\\\n",
    "b & a & -d & c \\\\\n",
    "c & d & a & -b \\\\\n",
    "d & -c & b & a\n",
    "\\end{array}\\right)\n",
    "$$\n",
    "\n",
    "により定める。\n",
    "\n",
    "1. 第 1 行に関する余因子展開を用いることにより、 $A$ の行列式を求めよ。\n",
    "2. $|A| \\neq 0$ のとき、連立 1 次方程式\n",
    "\n",
    "$$\n",
    "A \\boldsymbol{x}=\\left(\\begin{array}{l}\n",
    "1 \\\\\n",
    "0 \\\\\n",
    "0 \\\\\n",
    "0\n",
    "\\end{array}\\right)\n",
    "$$\n",
    "\n",
    "の解をクラメルの公式を用いて求めよ。\n",
    ":::"
   ]
  },
  {
   "cell_type": "markdown",
   "id": "77958585-916c-4002-a34f-bda53107440f",
   "metadata": {},
   "source": [
    "> 1. 第 1 行に関する余因子展開を用いることにより、 $A$ の行列式を求めよ。"
   ]
  },
  {
   "cell_type": "markdown",
   "id": "17267508-6d53-4ba0-9b58-75fd9993a490",
   "metadata": {},
   "source": [
    "第$1$行に関する余因子展開: $a_{1 1} \\tilde{a}_{11}+ a_{1 2} \\tilde{a}_{1 2} + a_{1 3} \\tilde{a}_{1 3} + a_{1 4} \\tilde{a}_{1 4} = |A|$\n",
    "\n"
   ]
  },
  {
   "cell_type": "markdown",
   "id": "4234c7b5-d99b-4210-abce-acd0d3e71486",
   "metadata": {},
   "source": [
    "第1項\n",
    "\n",
    "$$\n",
    "a_{11} = a\n",
    "\\\\\n",
    "\\tilde{a}_{11} =\n",
    "\\left|\\begin{array}{ccc}\n",
    "a & -d & c \\\\\n",
    "d & a & -b \\\\\n",
    "-c & b & a\n",
    "\\end{array}\\right|\n",
    "= a^3 - bcd + bcd + ac^2 + ad^2 + ab^2\\\\\n",
    "= a (a^2 + b^2 + c^2 + d^2)\n",
    "$$"
   ]
  },
  {
   "cell_type": "markdown",
   "id": "2393f72d-c21f-43d6-80a8-bdb811eb058f",
   "metadata": {},
   "source": [
    "第2項\n",
    "\n",
    "$$\n",
    "a_{12} = -b\n",
    "\\\\\n",
    "\\tilde{a}_{12} =\n",
    "\\left|\\begin{array}{ccc}\n",
    "b & -d & c \\\\\n",
    "c & a & -b \\\\\n",
    "d & b & a\n",
    "\\end{array}\\right|\n",
    "= a^2 b + b d^2 + b c^2 - acd + acd + b^3\\\\\n",
    "= b (a^2 + b^2 + c^2 + d^2)\n",
    "$$"
   ]
  },
  {
   "cell_type": "markdown",
   "id": "0d1c9e14-d685-4b00-9765-19ae31b1813d",
   "metadata": {},
   "source": [
    "第3項\n",
    "\n",
    "$$\n",
    "a_{13} = -c\n",
    "\\\\\n",
    "\\tilde{a}_{13} =\n",
    "\\left|\\begin{array}{ccc}\n",
    "b & a &  c \\\\\n",
    "c & d & -b \\\\\n",
    "d & -c & a\n",
    "\\end{array}\\right|\n",
    "= abd - abd - c^3 -cd^2 - a^2 c - b^2 c\\\\\n",
    "= c (- c^2 - d^2 - a^2 - b^2)\\\\\n",
    "= -c (a^2 + b^2 + c^2 + d^2)\n",
    "$$"
   ]
  },
  {
   "cell_type": "markdown",
   "id": "3ab6fd7f-9e4b-492c-bfde-71b705fcb4d0",
   "metadata": {},
   "source": [
    "第4項\n",
    "\n",
    "$$\n",
    "a_{14} = -d\n",
    "\\\\\n",
    "\\tilde{a}_{14} =\n",
    "\\left|\\begin{array}{ccc}\n",
    "b & a & -d  \\\\\n",
    "c & d & a  \\\\\n",
    "d & -c & b \n",
    "\\end{array}\\right|\n",
    "= b^2 d + a^2 d + c^2 d + d^3 -acb + acb\\\\\n",
    "= d (a^2 + b^2 + c^2 + d^2)\n",
    "$$"
   ]
  },
  {
   "cell_type": "markdown",
   "id": "dffd6d76-e1e6-4a8b-a306-d8d6d51297d7",
   "metadata": {},
   "source": [
    "$$\n",
    "\\begin{align}\n",
    "|A| &= a_{1 1} \\tilde{a}_{11}+ a_{1 2} \\tilde{a}_{1 2} + a_{1 3} \\tilde{a}_{1 3} + a_{1 4} \\tilde{a}_{1 4}\\\\\n",
    "&= a^2 (a^2 + b^2 + c^2 + d^2)\n",
    "- b^2 (a^2 + b^2 + c^2 + d^2)\n",
    "+ c^2 (a^2 + b^2 + c^2 + d^2)\n",
    "- d^2 (a^2 + b^2 + c^2 + d^2)\n",
    "\\end{align}\n",
    "$$\n",
    "\n"
   ]
  },
  {
   "cell_type": "markdown",
   "id": "f90e83ac-fd99-49cf-bcd2-1cc889f270c3",
   "metadata": {},
   "source": [
    "> 2. $|A| \\neq 0$ のとき、連立 1 次方程式\n",
    ">\n",
    "> $$\n",
    "A \\boldsymbol{x}=\\left(\\begin{array}{l}\n",
    "1 \\\\\n",
    "0 \\\\\n",
    "0 \\\\\n",
    "0\n",
    "\\end{array}\\right)\n",
    "$$\n",
    ">\n",
    "> の解をクラメルの公式を用いて求めよ。"
   ]
  },
  {
   "cell_type": "markdown",
   "id": "5414694b-69d5-4d2f-9cbd-d3545d59a4b3",
   "metadata": {},
   "source": [
    "$$\n",
    "A=\\left(\\begin{array}{cccc}\n",
    "a & -b & -c & -d \\\\\n",
    "b & a & -d & c \\\\\n",
    "c & d & a & -b \\\\\n",
    "d & -c & b & a\n",
    "\\end{array}\\right)\n",
    "$$\n"
   ]
  },
  {
   "cell_type": "markdown",
   "id": "32a5aecd-aec6-40b4-ac3b-8ebf807cd8fc",
   "metadata": {},
   "source": [
    "$$\n",
    "\\Delta_1 =\n",
    "\\left|\\begin{array}{cccc}\n",
    "1 & -b & -c & -d \\\\\n",
    "0 & a & -d & c \\\\\n",
    "0 & d & a & -b \\\\\n",
    "0 & -c & b & a\n",
    "\\end{array}\\right|\n",
    "= 1\\times \\tilde{a}_{11}\n",
    "= a (a^2 + b^2 + c^2 + d^2)\n",
    "$$\n"
   ]
  },
  {
   "cell_type": "markdown",
   "id": "713cad7c-e5c1-4403-abf7-8a2037e68ed8",
   "metadata": {},
   "source": [
    "列の入れ替えで行列式は-1倍になるはずなので2~4は-1を掛ける\n",
    "\n",
    "$$\n",
    "\\Delta_2\n",
    "= -1 \\times \\tilde{a}_{12}\n",
    "= -b (a^2 + b^2 + c^2 + d^2)\n",
    "\\\\\n",
    "\\Delta_3\n",
    "= -1 \\times \\tilde{a}_{13}\n",
    "= c (a^2 + b^2 + c^2 + d^2)\n",
    "\\\\\n",
    "\\Delta_4\n",
    "= -1 \\times \\tilde{a}_{14}\n",
    "= -d (a^2 + b^2 + c^2 + d^2)\n",
    "$$\n"
   ]
  },
  {
   "cell_type": "markdown",
   "id": "4fd4bb68-b539-4b82-8f54-08ebe2d709d1",
   "metadata": {},
   "source": [
    "$$\n",
    "x_1 = \\frac{\\Delta_1}{|A|}\n",
    "= \\frac{a (a^2 + b^2 + c^2 + d^2)}\n",
    "{a^2 (a^2 + b^2 + c^2 + d^2)\n",
    "- b^2 (a^2 + b^2 + c^2 + d^2)\n",
    "+ c^2 (a^2 + b^2 + c^2 + d^2)\n",
    "- d^2 (a^2 + b^2 + c^2 + d^2)}\n",
    "$$"
   ]
  },
  {
   "cell_type": "markdown",
   "id": "2a7e55d4-3c39-4d81-8b3a-957152055324",
   "metadata": {},
   "source": [
    "$$\n",
    "x_2 = \\frac{\\Delta_2}{|A|}\n",
    "= \\frac{-b (a^2 + b^2 + c^2 + d^2)}\n",
    "{a^2 (a^2 + b^2 + c^2 + d^2)\n",
    "- b^2 (a^2 + b^2 + c^2 + d^2)\n",
    "+ c^2 (a^2 + b^2 + c^2 + d^2)\n",
    "- d^2 (a^2 + b^2 + c^2 + d^2)}\n",
    "$$"
   ]
  },
  {
   "cell_type": "markdown",
   "id": "49e2287e-1b99-4f70-823e-be7f30961721",
   "metadata": {},
   "source": [
    "$$\n",
    "x_3 = \\frac{\\Delta_3}{|A|}\n",
    "= \\frac{-c (a^2 + b^2 + c^2 + d^2)}\n",
    "{a^2 (a^2 + b^2 + c^2 + d^2)\n",
    "- b^2 (a^2 + b^2 + c^2 + d^2)\n",
    "+ c^2 (a^2 + b^2 + c^2 + d^2)\n",
    "- d^2 (a^2 + b^2 + c^2 + d^2)}\n",
    "$$"
   ]
  },
  {
   "cell_type": "markdown",
   "id": "0f08ba6f-1ffb-4008-8d47-7aec0ec00b10",
   "metadata": {},
   "source": [
    "$$\n",
    "x_4 = \\frac{\\Delta_4}{|A|}\n",
    "= \\frac{-d (a^2 + b^2 + c^2 + d^2)}\n",
    "{a^2 (a^2 + b^2 + c^2 + d^2)\n",
    "- b^2 (a^2 + b^2 + c^2 + d^2)\n",
    "+ c^2 (a^2 + b^2 + c^2 + d^2)\n",
    "- d^2 (a^2 + b^2 + c^2 + d^2)}\n",
    "$$"
   ]
  },
  {
   "cell_type": "markdown",
   "id": "adcc16c4-3537-455e-b35d-06326393ac21",
   "metadata": {},
   "source": [
    "## 9.5\n",
    "\n",
    ":::{card}\n",
    "対称行列の余因子行列は対称行列であることを示せ。\n",
    ":::"
   ]
  },
  {
   "cell_type": "markdown",
   "id": "453d265b-17e0-4ad4-af42-491271ca10be",
   "metadata": {},
   "source": [
    "$n$次対称行列$A$から$i$行$j$列を取り除いた$n-1$次の正方行列を$A_{ij}$と表すことにする。\n",
    "\n",
    "$$\n",
    "A_{ij}^T = A_{ji}\n",
    "$$\n",
    "\n",
    "であるため（要出典）\n",
    "\n",
    "行列式の性質により$|A^T|=|A|$であるため\n",
    "\n",
    "$$\n",
    "|A_{ij}| = |A_{ji}|\n",
    "$$\n",
    "\n",
    "となる\n",
    "\n",
    "よって$(i,j)$余因子$\\tilde{a}_{ij}$と$(j,i)$余因子$\\tilde{a}_{ji}$について以下が成り立つ\n",
    "\n",
    "$$\n",
    "\\tilde{a}_{ij} = (-1)^{i+j} |A_{ij}|\n",
    "= (-1)^{j+i} |A_{ij}|\n",
    "= \\tilde{a}_{ij}\n",
    "$$\n",
    "\n",
    "よって、対称行列の余因子行列は対称行列になる"
   ]
  }
 ],
 "metadata": {
  "kernelspec": {
   "display_name": "Python 3 (ipykernel)",
   "language": "python",
   "name": "python3"
  },
  "language_info": {
   "codemirror_mode": {
    "name": "ipython",
    "version": 3
   },
   "file_extension": ".py",
   "mimetype": "text/x-python",
   "name": "python",
   "nbconvert_exporter": "python",
   "pygments_lexer": "ipython3",
   "version": "3.9.18"
  }
 },
 "nbformat": 4,
 "nbformat_minor": 5
}
