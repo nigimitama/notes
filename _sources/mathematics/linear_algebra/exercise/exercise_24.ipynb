{
 "cells": [
  {
   "cell_type": "markdown",
   "id": "6cdb1c9b-e3c1-4819-82a2-0a407b39afda",
   "metadata": {},
   "source": [
    "# 練習問題メモ 24（対称行列の対角化）"
   ]
  },
  {
   "cell_type": "markdown",
   "id": "c64f8d9b-156d-47c8-9142-5fe368c05980",
   "metadata": {},
   "source": [
    "## 問1\n",
    "\n",
    ":::{card}\n",
    "\n",
    "次の対称行列 $A$ を直交行列によって対角化せよ。\n",
    "\r\n",
    "1. $A=\\left(\\begin{array}{ll}3 & 2 \\\\ 2 & 6\\end{array}\\right)$\r\n",
    "2. $A=\\left(\\begin{array}{lll}1 & 2 & 3 \\\\ 2 & 4 & 6 \\\\ 3 & 6 & 9\\end{array}\\right)$ ただし、 $A$ の固有値 $\\lambda$ が $\\lambda=0$ (重解) 14 で、それぞれの\r\n",
    "\r\n",
    "固有値に対する固有空間が\r\n",
    "\r\n",
    "$$\r\n",
    "\\begin{aligned}\r\n",
    "W(0) & =\\left\\{\\left.c_1\\left(\\begin{array}{c}\r\n",
    "-2 \\\\\r\n",
    "1 \\\\\r\n",
    "0\r\n",
    "\\end{array}\\right)+c_2\\left(\\begin{array}{c}\r\n",
    "-3 \\\\\r\n",
    "0 \\\\\r\n",
    "1\r\n",
    "\\end{array}\\right) \\right\\rvert\\, c_1, c_2 \\in \\mathbb{R}\\right\\} \\\\\r\n",
    "W(14) & =\\left\\{\\left.c\\left(\\begin{array}{l}\r\n",
    "1 \\\\\r\n",
    "2 \\\\\r\n",
    "3\r\n",
    "\\end{array}\\right) \\right\\rvert\\, c \\in \\mathbb{R}\\right\\}\r\n",
    "\\end{aligned}\r\n",
    "$$\r\n",
    "\r\n",
    "\r\n",
    "であることを用いてよい。\n",
    ":::"
   ]
  },
  {
   "cell_type": "markdown",
   "id": "b9422ac7-0362-4d87-b0a2-7d8033b85834",
   "metadata": {},
   "source": [
    ":::{card}\n",
    "\n",
    "1. $A=\\left(\\begin{array}{ll}3 & 2 \\\\ 2 & 6\\end{array}\\right)$\n",
    ":::"
   ]
  },
  {
   "cell_type": "markdown",
   "id": "4ecf8540-a691-46a5-8d22-e5524ac167f5",
   "metadata": {},
   "source": [
    "まず固有値を求める\n",
    "\n",
    "$$\n",
    "\\begin{aligned}\n",
    "|A- \\lambda E|\n",
    "&= (3-\\lambda)(6-\\lambda) - 2\\cdot 2\\\\\n",
    "&= 18 - 9\\lambda + \\lambda^2 - 4\\\\\n",
    "&= 14 - 9\\lambda + \\lambda^2\\\\\n",
    "&= (\\lambda - 2)(\\lambda - 7)\n",
    "\\end{aligned}\n",
    "$$\n",
    "\n",
    "よって$\\lambda = 2, 7$"
   ]
  },
  {
   "cell_type": "markdown",
   "id": "7d536765-67d4-46c7-9361-2f419b554d6f",
   "metadata": {},
   "source": [
    "続いて、固有ベクトルを求める。\n",
    "\n",
    "$\\lambda=2$の場合、\n",
    "\n",
    "$$\n",
    "(A-\\lambda E)x = 0\\\\\n",
    "\\iff \n",
    "\\begin{pmatrix}\n",
    "3 - \\lambda & 2\\\\\n",
    "2 & 6 - \\lambda\n",
    "\\end{pmatrix}\n",
    "\\begin{pmatrix} x_1 \\\\ x_2 \\end{pmatrix}\n",
    "= \\begin{pmatrix} 0 \\\\ 0 \\end{pmatrix}\n",
    "\\\\\n",
    "\\iff \n",
    "\\begin{cases}\n",
    "x_1 + 2x_2 = 0\\\\\n",
    "2x_1 + 4x_2 = 0\n",
    "\\end{cases}\n",
    "$$\n",
    "\n",
    "よって$x_1 = -2x_2$より、$c\\in \\mathbb{R}$を用いて\n",
    "\n",
    "$$\n",
    "\\begin{pmatrix} x_1 \\\\ x_2 \\end{pmatrix}\n",
    "=\n",
    "c\n",
    "\\begin{pmatrix}\n",
    "-2\\\\\n",
    "1\n",
    "\\end{pmatrix}\n",
    "$$\n",
    "\n",
    "と表すことができる。固有空間は\n",
    "\n",
    "$$\n",
    "V(2) =\\left\\{\\left.c\\left(\\begin{array}{c} -2 \\\\ 1 \\end{array}\\right) \\right\\rvert\\, c \\in \\mathbb{R}\\right\\}\n",
    "$$\n",
    "\n",
    "となる。"
   ]
  },
  {
   "cell_type": "markdown",
   "id": "67a748c7-8df1-4910-90e9-55738aec535c",
   "metadata": {},
   "source": [
    "$\\lambda=7$の場合、\n",
    "\n",
    "$$\n",
    "\\begin{pmatrix}\n",
    "3 - \\lambda & 2\\\\\n",
    "2 & 6 - \\lambda\n",
    "\\end{pmatrix}\n",
    "\\begin{pmatrix} x_1 \\\\ x_2 \\end{pmatrix}\n",
    "= \\begin{pmatrix} 0 \\\\ 0 \\end{pmatrix}\n",
    "\\\\\n",
    "\\iff \n",
    "\\begin{cases}\n",
    "-4 x_1 + 2x_2 = 0\\\\\n",
    "2x_1 - x_2 = 0\n",
    "\\end{cases}\n",
    "$$\n",
    "\n",
    "よって$2 x_1 = x_2$より、$c\\in \\mathbb{R}$を用いて\n",
    "\n",
    "$$\n",
    "\\begin{pmatrix} x_1 \\\\ x_2 \\end{pmatrix}\n",
    "=\n",
    "c\n",
    "\\begin{pmatrix}\n",
    "1\\\\\n",
    "2\n",
    "\\end{pmatrix}\n",
    "$$\n",
    "\n",
    "と表すことができる。固有空間は\n",
    "\n",
    "$$\n",
    "V(7) =\\left\\{\\left.c\\left(\\begin{array}{l} 1 \\\\ 2 \\end{array}\\right) \\right\\rvert\\, c \\in \\mathbb{R}\\right\\}\n",
    "$$\n",
    "\n",
    "となる。"
   ]
  },
  {
   "cell_type": "markdown",
   "id": "7bb907c5-c043-4e30-94e9-c1d612c537e1",
   "metadata": {},
   "source": [
    "固有値$\\lambda = 2, 7$それぞれに属する固有ベクトル$\\boldsymbol{x}_1, \\boldsymbol{x}_2$を\n",
    "\n",
    "$$\n",
    "\\boldsymbol{x}_1 = \\begin{pmatrix} -2\\\\ 1\\end{pmatrix}, \\quad\n",
    "\\boldsymbol{x}_2 = \\begin{pmatrix} 1\\\\ 2\\end{pmatrix}\n",
    "$$\n",
    "\n",
    "とおく。$\\boldsymbol{x}_1, \\boldsymbol{x}_2$は1次独立なので個別にシュミットの直交化をして$\\boldsymbol{p}_1, \\boldsymbol{p}_2$とおくと\n",
    "\n",
    "$$\n",
    "\\begin{aligned}\n",
    "\\boldsymbol{p}_1 &= \\frac{\\boldsymbol{x}_1}{\\|\\boldsymbol{x}_1\\|}\n",
    "= \\frac{1}{\\sqrt{5}} \\begin{pmatrix} -2\\\\ 1\\end{pmatrix}\n",
    "= \\begin{pmatrix} \\frac{-2}{\\sqrt{5}}\\\\ \\frac{1}{\\sqrt{5}}\\end{pmatrix}\n",
    "\\\\\n",
    "\\boldsymbol{p}_2 &= \\frac{\\boldsymbol{x}_2}{\\|\\boldsymbol{x}_2\\|}\n",
    "= \\frac{1}{\\sqrt{5}} \\begin{pmatrix} 1\\\\ 2\\end{pmatrix}\n",
    "= \\begin{pmatrix} \\frac{1}{\\sqrt{5}}\\\\ \\frac{2}{\\sqrt{5}}\\end{pmatrix}\n",
    "\\end{aligned}\n",
    "$$\n",
    "\n"
   ]
  },
  {
   "cell_type": "code",
   "execution_count": null,
   "id": "f11bce93-0e62-4fcf-b3aa-e8a90600bb7a",
   "metadata": {},
   "outputs": [],
   "source": [
    "import sympy as sp\n",
    "\n",
    "sp.Matrix([])\n",
    "sp.GramSchmidt()"
   ]
  },
  {
   "cell_type": "code",
   "execution_count": null,
   "id": "66d157d0-3158-4b6a-985a-ffbe2af9d4b3",
   "metadata": {},
   "outputs": [],
   "source": []
  },
  {
   "cell_type": "code",
   "execution_count": 11,
   "id": "09d3606a-73cb-467b-ac8c-935d8d227175",
   "metadata": {},
   "outputs": [
    {
     "data": {
      "text/plain": [
       "array([[ 0.6, -0.8, -0. ],\n",
       "       [ 0.6,  0.4, -0.7],\n",
       "       [ 0.6,  0.4,  0.7]])"
      ]
     },
     "execution_count": 11,
     "metadata": {},
     "output_type": "execute_result"
    }
   ],
   "source": [
    "# 例\n",
    "import numpy as np\n",
    "\n",
    "a1 = np.array([])\n",
    "\n",
    "v1 = a1 / np.linalg.norm(a1)\n",
    "c = a2 @ v1\n",
    "v2 = (a2 - c * v1) / np.linalg.norm(a2 - c * v1)\n",
    "\n",
    "c1 = a3 @ v1\n",
    "c2 = a3 @ v2\n",
    "v = a3 - (c1 * v1 + c2 * v2)\n",
    "v3 = (v) / np.linalg.norm(v)\n",
    "\n",
    "np.array([v1, v2, v3]).T.round(1)"
   ]
  },
  {
   "cell_type": "markdown",
   "id": "8ced5cb0-a2d4-46ed-a63b-3b35287d4735",
   "metadata": {},
   "source": [
    "\n",
    "\n",
    "\n",
    "列ベクトルにもつ行列$P$を\n",
    "\n",
    "$$\n",
    "P\n",
    "= (\\boldsymbol{x}_1, \\boldsymbol{x}_2)\n",
    "= \\begin{pmatrix}\n",
    "-2 & 1\\\\\n",
    "1 & 2\n",
    "\\end{pmatrix}\n",
    "$$\n",
    "\n",
    "とすると"
   ]
  },
  {
   "cell_type": "code",
   "execution_count": 2,
   "id": "274faf3f-b0dc-4d24-9e86-13fbb8d32fda",
   "metadata": {},
   "outputs": [
    {
     "data": {
      "text/latex": [
       "$\\displaystyle \\left[\\begin{matrix}2 & 0\\\\0 & 7\\end{matrix}\\right]$"
      ],
      "text/plain": [
       "Matrix([\n",
       "[2, 0],\n",
       "[0, 7]])"
      ]
     },
     "execution_count": 2,
     "metadata": {},
     "output_type": "execute_result"
    }
   ],
   "source": [
    "import sympy as sp\n",
    "\n",
    "A = sp.Matrix([\n",
    "    [3, 2],\n",
    "    [2, 6]\n",
    "])\n",
    "\n",
    "P = sp.Matrix([\n",
    "    [-2, 1],\n",
    "    [1, 2]\n",
    "])\n",
    "\n",
    "P.inv() @ A @ P"
   ]
  },
  {
   "cell_type": "markdown",
   "id": "1e86ac86-33cd-4508-961d-893de420c17c",
   "metadata": {},
   "source": []
  },
  {
   "cell_type": "markdown",
   "id": "0e9be296-f5f1-44d6-83f3-9d33ed8aea75",
   "metadata": {
    "jp-MarkdownHeadingCollapsed": true
   },
   "source": [
    "## 問\n",
    "\n",
    ":::{card}\n",
    "\n",
    ":::"
   ]
  },
  {
   "cell_type": "markdown",
   "id": "d132809f-509a-47d8-913a-1448fc42b0ab",
   "metadata": {},
   "source": [
    "## 問\n",
    "\n",
    ":::{card}\n",
    "\n",
    ":::"
   ]
  }
 ],
 "metadata": {
  "kernelspec": {
   "display_name": "Python 3 (ipykernel)",
   "language": "python",
   "name": "python3"
  },
  "language_info": {
   "codemirror_mode": {
    "name": "ipython",
    "version": 3
   },
   "file_extension": ".py",
   "mimetype": "text/x-python",
   "name": "python",
   "nbconvert_exporter": "python",
   "pygments_lexer": "ipython3",
   "version": "3.10.15"
  }
 },
 "nbformat": 4,
 "nbformat_minor": 5
}
