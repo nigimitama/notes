{
 "cells": [
  {
   "cell_type": "markdown",
   "id": "241c1402-bea9-4923-b020-f636724b8956",
   "metadata": {
    "editable": true,
    "slideshow": {
     "slide_type": ""
    },
    "tags": []
   },
   "source": [
    "# 練習問題メモ 24（対称行列の対角化）"
   ]
  },
  {
   "cell_type": "markdown",
   "id": "022c5f8d-2b75-4ee0-b712-acc96b0fceff",
   "metadata": {},
   "source": [
    "## 問1\n",
    "\n",
    ":::{card}\n",
    "\n",
    "次の対称行列 $A$ を直交行列によって対角化せよ。\n",
    "\n",
    "1. $A=\\left(\\begin{array}{ll}3 & 2 \\\\ 2 & 6\\end{array}\\right)$\n",
    "2. $A=\\left(\\begin{array}{lll}1 & 2 & 3 \\\\ 2 & 4 & 6 \\\\ 3 & 6 & 9\\end{array}\\right)$ ただし、 $A$ の固有値 $\\lambda$ が $\\lambda=0$ (重解) 14 で、それぞれの\n",
    "\n",
    "固有値に対する固有空間が\n",
    "\n",
    "$$\n",
    "\\begin{aligned}\n",
    "W(0) & =\\left\\{\\left.c_1\\left(\\begin{array}{c}\n",
    "-2 \\\\\n",
    "1 \\\\\n",
    "0\n",
    "\\end{array}\\right)+c_2\\left(\\begin{array}{c}\n",
    "-3 \\\\\n",
    "0 \\\\\n",
    "1\n",
    "\\end{array}\\right) \\right\\rvert\\, c_1, c_2 \\in \\mathbb{R}\\right\\} \\\\\n",
    "W(14) & =\\left\\{\\left.c\\left(\\begin{array}{l}\n",
    "1 \\\\\n",
    "2 \\\\\n",
    "3\n",
    "\\end{array}\\right) \\right\\rvert\\, c \\in \\mathbb{R}\\right\\}\n",
    "\\end{aligned}\n",
    "$$\n",
    "\n",
    "であることを用いてよい。\n",
    ":::"
   ]
  },
  {
   "cell_type": "markdown",
   "id": "b9422ac7-0362-4d87-b0a2-7d8033b85834",
   "metadata": {},
   "source": [
    ":::{card}\n",
    "\n",
    "1. $A=\\left(\\begin{array}{ll}3 & 2 \\\\ 2 & 6\\end{array}\\right)$\n",
    ":::"
   ]
  },
  {
   "cell_type": "markdown",
   "id": "f213fb54-3828-416f-9ff3-20f34f19a45e",
   "metadata": {},
   "source": [
    "まず固有値を求める\n",
    "\n",
    "$$\n",
    "\\begin{aligned}\n",
    "|A- \\lambda E|\n",
    "&= (3-\\lambda)(6-\\lambda) - 2\\cdot 2\\\\\n",
    "&= 18 - 9\\lambda + \\lambda^2 - 4\\\\\n",
    "&= 14 - 9\\lambda + \\lambda^2\\\\\n",
    "&= (\\lambda - 2)(\\lambda - 7)\n",
    "\\end{aligned}\n",
    "$$\n",
    "\n",
    "よって$\\lambda = 2, 7$"
   ]
  },
  {
   "cell_type": "markdown",
   "id": "8bd18f4f-83b1-4f29-8ee6-4d46f6483b62",
   "metadata": {},
   "source": [
    "続いて、固有ベクトルを求める。\n",
    "\n",
    "$\\lambda=2$の場合、\n",
    "\n",
    "$$\n",
    "(A-\\lambda E)x = 0\\\\\n",
    "\\iff \n",
    "\\begin{pmatrix}\n",
    "3 - \\lambda & 2\\\\\n",
    "2 & 6 - \\lambda\n",
    "\\end{pmatrix}\n",
    "\\begin{pmatrix} x_1 \\\\ x_2 \\end{pmatrix}\n",
    "= \\begin{pmatrix} 0 \\\\ 0 \\end{pmatrix}\n",
    "\\\\\n",
    "\\iff \n",
    "\\begin{cases}\n",
    "x_1 + 2x_2 = 0\\\\\n",
    "2x_1 + 4x_2 = 0\n",
    "\\end{cases}\n",
    "$$\n",
    "\n",
    "よって$x_1 = -2x_2$より、$c\\in \\mathbb{R}$を用いて\n",
    "\n",
    "$$\n",
    "\\begin{pmatrix} x_1 \\\\ x_2 \\end{pmatrix}\n",
    "=\n",
    "c\n",
    "\\begin{pmatrix}\n",
    "-2\\\\\n",
    "1\n",
    "\\end{pmatrix}\n",
    "$$\n",
    "\n",
    "と表すことができる。固有空間は\n",
    "\n",
    "$$\n",
    "V(2) =\\left\\{\\left.c\\left(\\begin{array}{c} -2 \\\\ 1 \\end{array}\\right) \\right\\rvert\\, c \\in \\mathbb{R}\\right\\}\n",
    "$$\n",
    "\n",
    "となる。"
   ]
  },
  {
   "cell_type": "markdown",
   "id": "67a748c7-8df1-4910-90e9-55738aec535c",
   "metadata": {},
   "source": [
    "$\\lambda=7$の場合、\n",
    "\n",
    "$$\n",
    "\\begin{pmatrix}\n",
    "3 - \\lambda & 2\\\\\n",
    "2 & 6 - \\lambda\n",
    "\\end{pmatrix}\n",
    "\\begin{pmatrix} x_1 \\\\ x_2 \\end{pmatrix}\n",
    "= \\begin{pmatrix} 0 \\\\ 0 \\end{pmatrix}\n",
    "\\\\\n",
    "\\iff \n",
    "\\begin{cases}\n",
    "-4 x_1 + 2x_2 = 0\\\\\n",
    "2x_1 - x_2 = 0\n",
    "\\end{cases}\n",
    "$$\n",
    "\n",
    "よって$2 x_1 = x_2$より、$c\\in \\mathbb{R}$を用いて\n",
    "\n",
    "$$\n",
    "\\begin{pmatrix} x_1 \\\\ x_2 \\end{pmatrix}\n",
    "=\n",
    "c\n",
    "\\begin{pmatrix}\n",
    "1\\\\\n",
    "2\n",
    "\\end{pmatrix}\n",
    "$$\n",
    "\n",
    "と表すことができる。固有空間は\n",
    "\n",
    "$$\n",
    "V(7) =\\left\\{\\left.c\\left(\\begin{array}{l} 1 \\\\ 2 \\end{array}\\right) \\right\\rvert\\, c \\in \\mathbb{R}\\right\\}\n",
    "$$\n",
    "\n",
    "となる。"
   ]
  },
  {
   "cell_type": "markdown",
   "id": "8df96961-548e-4e1f-a7ac-e992e77e3dff",
   "metadata": {
    "editable": true,
    "slideshow": {
     "slide_type": ""
    },
    "tags": []
   },
   "source": [
    "固有値$\\lambda = 2, 7$それぞれに属する固有ベクトル$\\boldsymbol{x}_1, \\boldsymbol{x}_2$を\n",
    "\n",
    "$$\n",
    "\\boldsymbol{x}_1 = \\begin{pmatrix} -2\\\\ 1\\end{pmatrix}, \\quad\n",
    "\\boldsymbol{x}_2 = \\begin{pmatrix} 1\\\\ 2\\end{pmatrix}\n",
    "$$\n",
    "\n",
    "とおく。$\\boldsymbol{x}_1, \\boldsymbol{x}_2$にシュミットの直交化を行い$\\boldsymbol{p}_1,\\boldsymbol{p}_2$とすると、\n",
    "\n",
    "$$\n",
    "\\begin{aligned}\n",
    "\\boldsymbol{p}_1 &= \\frac{\\boldsymbol{x}_1}{\\|\\boldsymbol{x}_1\\|}\n",
    "= \\frac{1}{\\sqrt{5}} \\begin{pmatrix} -2\\\\ 1\\end{pmatrix}\n",
    "= \\begin{pmatrix} \\frac{-2}{\\sqrt{5}}\\\\ \\frac{1}{\\sqrt{5}}\\end{pmatrix}\n",
    "\\end{aligned}\n",
    "$$\n",
    "\n",
    "であり\n",
    "\n",
    "$$\n",
    "c = \\langle \\boldsymbol{x}_2, \\boldsymbol{p}_1 \\rangle\n",
    "= 1 \\cdot \\frac{-2}{\\sqrt{5}} + 2 \\cdot \\frac{1}{\\sqrt{5}}\n",
    "= 0\n",
    "$$\n",
    "\n",
    "より\n",
    "\n",
    "$$\n",
    "\\boldsymbol{p}_2\n",
    "= \\frac{\\boldsymbol{x}_2 - c \\boldsymbol{p}_1 }\n",
    "{\\| \\boldsymbol{x}_2 - c \\boldsymbol{p}_1 \\| }\n",
    "= \\frac{\\boldsymbol{x}_2 } {\\| \\boldsymbol{x}_2 \\| }\n",
    "= \\frac{1}{\\sqrt{5}} \\begin{pmatrix} 1\\\\ 2\\end{pmatrix}\n",
    "= \\begin{pmatrix} \\frac{1}{\\sqrt{5}}\\\\ \\frac{2}{\\sqrt{5}}\\end{pmatrix}\n",
    "$$\n",
    "\n",
    "$P=(\\boldsymbol{p}_1, \\boldsymbol{p}_2)$とおいた行列\n",
    "\n",
    "$$\n",
    "P=\n",
    "\\begin{pmatrix}\n",
    " \\frac{-2}{\\sqrt{5}} & \\frac{1}{\\sqrt{5}}\\\\\n",
    " \\frac{1}{\\sqrt{5}} & \\frac{2}{\\sqrt{5}}\n",
    "\\end{pmatrix}\n",
    "$$\n",
    "\n",
    "により$A$は対角化できる\n",
    "\n",
    "\n",
    "$$\n",
    "\\begin{aligned}\n",
    "P^{-1} A P\n",
    "&=\n",
    "\\begin{pmatrix}\n",
    " \\frac{-2}{\\sqrt{5}} & \\frac{1}{\\sqrt{5}}\\\\\n",
    " \\frac{1}{\\sqrt{5}} & \\frac{2}{\\sqrt{5}}\n",
    "\\end{pmatrix}\n",
    "\\begin{pmatrix}\n",
    " 3 & 2\\\\\n",
    " 2 & 6\n",
    "\\end{pmatrix}\n",
    "\\begin{pmatrix}\n",
    " \\frac{-2}{\\sqrt{5}} & \\frac{1}{\\sqrt{5}}\\\\\n",
    " \\frac{1}{\\sqrt{5}} & \\frac{2}{\\sqrt{5}}\n",
    "\\end{pmatrix}\n",
    "\\\\\n",
    "&=\n",
    "\\begin{pmatrix}\n",
    " \\frac{-4}{\\sqrt{5}} & \\frac{2}{\\sqrt{5}}\\\\\n",
    " \\frac{7}{\\sqrt{5}} & \\frac{14}{\\sqrt{5}}\n",
    "\\end{pmatrix}\n",
    "\\begin{pmatrix}\n",
    " \\frac{-2}{\\sqrt{5}} & \\frac{1}{\\sqrt{5}}\\\\\n",
    " \\frac{1}{\\sqrt{5}} & \\frac{2}{\\sqrt{5}}\n",
    "\\end{pmatrix}\n",
    "\\\\\n",
    "&=\n",
    "\\begin{pmatrix}\n",
    "  \\frac{10}{5} & \\frac{-4+4}{5}\\\\\n",
    "  \\frac{-14+14}{5} & \\frac{35}{5}\n",
    "\\end{pmatrix}\\\\\n",
    "&=\n",
    "\\begin{pmatrix}\n",
    "  2 & 0\\\\\n",
    "  0 & 7\n",
    "\\end{pmatrix}\n",
    "\\end{aligned}\n",
    "$$\n"
   ]
  },
  {
   "cell_type": "markdown",
   "id": "bb89af9e-a7a7-4dd4-b688-2f27694ac445",
   "metadata": {},
   "source": [
    ":::{dropdown} 個別に直交化する例\n",
    "\n",
    "（これがいいのかはわからんが、対角化はできる）\n",
    "\n",
    "$\\boldsymbol{x}_1, \\boldsymbol{x}_2$は1次独立なので個別にシュミットの直交化をして$\\boldsymbol{p}_1, \\boldsymbol{p}_2$とおくと\n",
    "\n",
    "$$\n",
    "\\begin{aligned}\n",
    "\\boldsymbol{p}_1 &= \\frac{\\boldsymbol{x}_1}{\\|\\boldsymbol{x}_1\\|}\n",
    "= \\frac{1}{\\sqrt{5}} \\begin{pmatrix} -2\\\\ 1\\end{pmatrix}\n",
    "= \\begin{pmatrix} \\frac{-2}{\\sqrt{5}}\\\\ \\frac{1}{\\sqrt{5}}\\end{pmatrix}\n",
    "\\\\\n",
    "\\boldsymbol{p}_2 &= \\frac{\\boldsymbol{x}_2}{\\|\\boldsymbol{x}_2\\|}\n",
    "= \\frac{1}{\\sqrt{5}} \\begin{pmatrix} 1\\\\ 2\\end{pmatrix}\n",
    "= \\begin{pmatrix} \\frac{1}{\\sqrt{5}}\\\\ \\frac{2}{\\sqrt{5}}\\end{pmatrix}\n",
    "\\end{aligned}\n",
    "$$\n",
    "\n",
    "$P=(\\boldsymbol{p}_1, \\boldsymbol{p}_2)$とおいた行列\n",
    "\n",
    "$$\n",
    "P=\n",
    "\\begin{pmatrix}\n",
    " \\frac{-2}{\\sqrt{5}} & \\frac{1}{\\sqrt{5}}\\\\\n",
    " \\frac{1}{\\sqrt{5}} & \\frac{2}{\\sqrt{5}}\n",
    "\\end{pmatrix}\n",
    "$$\n",
    "\n",
    "により$A$は対角化できる\n",
    "\n",
    "$$\n",
    "P^{-1} A P\n",
    "= \n",
    "\\begin{pmatrix}\n",
    "2 & 0 \\\\\n",
    "0 & 7\n",
    "\\end{pmatrix}\n",
    "$$\n",
    ":::"
   ]
  },
  {
   "cell_type": "code",
   "execution_count": 50,
   "id": "ea25b40d-db71-4513-b3af-1dcb0449d9b0",
   "metadata": {},
   "outputs": [
    {
     "data": {
      "text/latex": [
       "$\\displaystyle \\left[\\begin{matrix}- \\frac{2 \\sqrt{5}}{5} & \\frac{\\sqrt{5}}{5}\\\\\\frac{\\sqrt{5}}{5} & \\frac{2 \\sqrt{5}}{5}\\end{matrix}\\right]$"
      ],
      "text/plain": [
       "Matrix([\n",
       "[-2*sqrt(5)/5,   sqrt(5)/5],\n",
       "[   sqrt(5)/5, 2*sqrt(5)/5]])"
      ]
     },
     "execution_count": 50,
     "metadata": {},
     "output_type": "execute_result"
    }
   ],
   "source": [
    "import sympy as sp\n",
    "\n",
    "x1 = sp.Matrix([-2,1])\n",
    "x2 = sp.Matrix([1,2])\n",
    "A = sp.Matrix([\n",
    "    [3, 2],\n",
    "    [2, 6],\n",
    "])\n",
    "\n",
    "p1 = x1 / x1.norm()\n",
    "c = x2.T @ p1\n",
    "v2 = (x2 - c[0]*p1)\n",
    "p2 = v2 / v2.norm()\n",
    "P = sp.Matrix([p1, p2]).reshape(2, 2).T\n",
    "P"
   ]
  },
  {
   "cell_type": "code",
   "execution_count": 52,
   "id": "b0b06b47-bb6f-47f9-8d74-66aeb4e0a26f",
   "metadata": {},
   "outputs": [
    {
     "data": {
      "text/latex": [
       "$\\displaystyle \\left[\\begin{matrix}2 & 0\\\\0 & 7\\end{matrix}\\right]$"
      ],
      "text/plain": [
       "Matrix([\n",
       "[2, 0],\n",
       "[0, 7]])"
      ]
     },
     "execution_count": 52,
     "metadata": {},
     "output_type": "execute_result"
    }
   ],
   "source": [
    "P.inv() @ A @ P"
   ]
  },
  {
   "cell_type": "code",
   "execution_count": 54,
   "id": "f2600599-b2f5-487d-9a5d-6730a8288a72",
   "metadata": {},
   "outputs": [
    {
     "data": {
      "text/latex": [
       "$\\displaystyle \\left[\\begin{matrix}-2 & 1\\\\1 & 2\\end{matrix}\\right]$"
      ],
      "text/plain": [
       "Matrix([\n",
       "[-2, 1],\n",
       "[ 1, 2]])"
      ]
     },
     "execution_count": 54,
     "metadata": {},
     "output_type": "execute_result"
    }
   ],
   "source": [
    "P = sp.Matrix(sp.GramSchmidt([x1, x2])).reshape(2,2).T\n",
    "P"
   ]
  },
  {
   "cell_type": "code",
   "execution_count": 55,
   "id": "e4744b25-ec33-48d2-9da3-f16d18ec73f7",
   "metadata": {},
   "outputs": [
    {
     "data": {
      "text/latex": [
       "$\\displaystyle \\left[\\begin{matrix}2 & 0\\\\0 & 7\\end{matrix}\\right]$"
      ],
      "text/plain": [
       "Matrix([\n",
       "[2, 0],\n",
       "[0, 7]])"
      ]
     },
     "execution_count": 55,
     "metadata": {},
     "output_type": "execute_result"
    }
   ],
   "source": [
    "P.inv() @ A @ P"
   ]
  },
  {
   "cell_type": "markdown",
   "id": "78199c09-087b-49d9-82c8-bb470f00fb63",
   "metadata": {},
   "source": [
    ":::{card}\n",
    "2. $A=\\left(\\begin{array}{lll}1 & 2 & 3 \\\\ 2 & 4 & 6 \\\\ 3 & 6 & 9\\end{array}\\right)$ ただし、 $A$ の固有値 $\\lambda$ が $\\lambda=0$ (重解) 14 で、それぞれの\n",
    "\n",
    "固有値に対する固有空間が\n",
    "\n",
    "$$\n",
    "\\begin{aligned}\n",
    "W(0) & =\\left\\{\\left.c_1\\left(\\begin{array}{c}\n",
    "-2 \\\\\n",
    "1 \\\\\n",
    "0\n",
    "\\end{array}\\right)+c_2\\left(\\begin{array}{c}\n",
    "-3 \\\\\n",
    "0 \\\\\n",
    "1\n",
    "\\end{array}\\right) \\right\\rvert\\, c_1, c_2 \\in \\mathbb{R}\\right\\} \\\\\n",
    "W(14) & =\\left\\{\\left.c\\left(\\begin{array}{l}\n",
    "1 \\\\\n",
    "2 \\\\\n",
    "3\n",
    "\\end{array}\\right) \\right\\rvert\\, c \\in \\mathbb{R}\\right\\}\n",
    "\\end{aligned}\n",
    "$$\n",
    "\n",
    "\n",
    "であることを用いてよい。\n",
    ":::\n"
   ]
  },
  {
   "cell_type": "markdown",
   "id": "8881da37-9d29-41c2-a5f4-9b6a197a63db",
   "metadata": {},
   "source": [
    "固有ベクトルとして\n",
    "\n",
    "$$\n",
    "x_1 = \\begin{pmatrix} -2 \\\\ 1 \\\\ 0 \\end{pmatrix}, \\quad\n",
    "x_2 = \\begin{pmatrix} -3 \\\\ 0 \\\\ 1 \\end{pmatrix}, \\quad\n",
    "x_3 = \\begin{pmatrix} 1 \\\\ 2 \\\\ 3 \\end{pmatrix}\n",
    "$$\n",
    "\n",
    "を用いる。\n"
   ]
  },
  {
   "cell_type": "markdown",
   "id": "ed355262-2cf0-468b-9483-13344a40912c",
   "metadata": {},
   "source": [
    "これらを直交化したベクトルを$p_1, p_2, p_3$とする。シュミットの直交化で求めていく。"
   ]
  },
  {
   "cell_type": "markdown",
   "id": "44e130ae-51d2-4f2d-93b5-8440eced88b4",
   "metadata": {},
   "source": [
    "(1) $p_1$を求める\n",
    "\n",
    "$\\|x_1\\| = \\sqrt{|2|^2+|1|^2} = \\sqrt{5}$なので、\n",
    "\n",
    "$$\n",
    "p_1 = \\frac{x_1}{\\|x_1\\|} = \\frac{1}{\\sqrt{5}} \\begin{pmatrix} -2 \\\\ 1 \\\\ 0 \\end{pmatrix}\n",
    "= \\begin{pmatrix} \\frac{-2}{\\sqrt{5}} \\\\ \\frac{1}{\\sqrt{5}} \\\\ 0 \\end{pmatrix}\n",
    "$$"
   ]
  },
  {
   "cell_type": "code",
   "execution_count": 72,
   "id": "e56914a8-7580-4f1b-b4ab-d70d620a2fb4",
   "metadata": {},
   "outputs": [
    {
     "data": {
      "text/latex": [
       "$\\displaystyle \\left[\\begin{matrix}- \\frac{2 \\sqrt{5}}{5}\\\\\\frac{\\sqrt{5}}{5}\\\\0\\end{matrix}\\right]$"
      ],
      "text/plain": [
       "Matrix([\n",
       "[-2*sqrt(5)/5],\n",
       "[   sqrt(5)/5],\n",
       "[           0]])"
      ]
     },
     "execution_count": 72,
     "metadata": {},
     "output_type": "execute_result"
    }
   ],
   "source": [
    "import sympy as sp\n",
    "\n",
    "x1 = sp.Matrix([-2,1,0])\n",
    "x2 = sp.Matrix([-3,0,1])\n",
    "x3 = sp.Matrix([1,2,3])\n",
    "\n",
    "p1 = x1 / x1.norm()\n",
    "p1"
   ]
  },
  {
   "cell_type": "markdown",
   "id": "7d14d05c-7687-4ef5-9bad-09452adefee8",
   "metadata": {},
   "source": [
    "(2) $p_2$を求める\n",
    "\n",
    "$$\n",
    "c\r\n",
    "= \\langle \\boldsymbol{x}_2, \\boldsymbol{p}_1 \\rangle\r\n",
    "= -3 \\cdot \\frac{-2}{\\sqrt{5}}\r\n",
    "= \\frac{6}{\\sqrt{5}}\n",
    "$$\n",
    "\n",
    "\n",
    "$$\n",
    "\\boldsymbol{x}_2 - c \\boldsymbol{p}_1\n",
    "=\n",
    "\\begin{pmatrix} -3 \\\\ 0 \\\\ 1 \\end{pmatrix} -\n",
    "\\frac{6}{\\sqrt{5}}\n",
    "\\begin{pmatrix} \\frac{-2}{\\sqrt{5}} \\\\ \\frac{1}{\\sqrt{5}} \\\\ 0 \\end{pmatrix}\n",
    "=\n",
    "\\begin{pmatrix} -3 \\\\ 0 \\\\ 1 \\end{pmatrix} -\n",
    "\\begin{pmatrix} \\frac{-12}{5} \\\\ \\frac{6}{5} \\\\ 0 \\end{pmatrix}\n",
    "=\n",
    "\\begin{pmatrix}\n",
    "\\frac{-15}{5} - \\frac{-12}{5} \\\\\n",
    "-\\frac{6}{5} \\\\\n",
    "1\n",
    "\\end{pmatrix}\n",
    "=\n",
    "\\begin{pmatrix}\n",
    "-\\frac{3}{5}\\\\\n",
    "-\\frac{6}{5} \\\\\n",
    "1\n",
    "\\end{pmatrix}\n",
    "$$\n",
    "\n",
    "$$\n",
    "\\| \\boldsymbol{x}_2 - c \\boldsymbol{p}_1 \\|\n",
    "= \\sqrt{\n",
    "\\left|-\\frac{3}{5}\\right|^2 + \\left|-\\frac{6}{5}\\right|^2 + 1^2\n",
    "}\n",
    "= \\sqrt{ \\frac{9}{25} + \\frac{36}{25} + \\frac{25}{25} }\n",
    "= \\sqrt{ \\frac{70}{25} }\n",
    "= \\frac{\\sqrt{70}}{5}\n",
    "$$\n",
    "\n",
    "$$\n",
    "\\boldsymbol{p}_2\n",
    "= \\frac{\\boldsymbol{x}_2 - c \\boldsymbol{p}_1 }\n",
    "{\\| \\boldsymbol{x}_2 - c \\boldsymbol{p}_1 \\| }\n",
    "=\n",
    "\\frac{5}{\\sqrt{70}}\n",
    "\\begin{pmatrix}\n",
    "-\\frac{3}{5}\\\\\n",
    "-\\frac{6}{5} \\\\\n",
    "1\n",
    "\\end{pmatrix}\n",
    "=\n",
    "\\begin{pmatrix}\n",
    "-\\frac{3}{\\sqrt{70}}\\\\\n",
    "-\\frac{6}{\\sqrt{70}} \\\\\n",
    "\\frac{5}{\\sqrt{70}}\n",
    "\\end{pmatrix}\n",
    "$$\n",
    "\n"
   ]
  },
  {
   "cell_type": "code",
   "execution_count": 69,
   "id": "18cf0d92-4891-4ba6-880b-1b8f5c7ad663",
   "metadata": {},
   "outputs": [
    {
     "data": {
      "text/latex": [
       "$\\displaystyle \\left[\\begin{matrix}- \\frac{3 \\sqrt{70}}{70}\\\\- \\frac{3 \\sqrt{70}}{35}\\\\\\frac{\\sqrt{70}}{14}\\end{matrix}\\right]$"
      ],
      "text/plain": [
       "Matrix([\n",
       "[-3*sqrt(70)/70],\n",
       "[-3*sqrt(70)/35],\n",
       "[   sqrt(70)/14]])"
      ]
     },
     "execution_count": 69,
     "metadata": {},
     "output_type": "execute_result"
    }
   ],
   "source": [
    "c = (x2.T @ p1)[0]\n",
    "p2 = (x2 - c * p1) / (x2 - c * p1).norm()\n",
    "p2"
   ]
  },
  {
   "cell_type": "markdown",
   "id": "1860f93c-5f98-4f72-8b38-4cae66d06b73",
   "metadata": {},
   "source": [
    "(3) $p_3$を求める\n",
    "\n",
    "$$\n",
    "\\begin{aligned}\n",
    "c_1 &= \\langle x_3, p_1 \\rangle\n",
    "= 1 \\cdot \\frac{-2}{\\sqrt{5}} + 2 \\cdot \\frac{1}{\\sqrt{5}} + 3 \\cdot 0\n",
    "= 0\n",
    "\\\\\n",
    "c_2 &= \\langle x_3, p_2 \\rangle\n",
    "=1 \\cdot \\frac{-3}{\\sqrt{70}} + 2 \\cdot \\frac{-6}{\\sqrt{70}} + 3 \\cdot \\frac{5}{\\sqrt{70}}\n",
    "= \\frac{-3 - 12 + 15}{\\sqrt{70}} = 0\n",
    "\\\\\n",
    "\\|x_3\\| &= \\sqrt{|1|^2+|2|^2+|3|^2} = \\sqrt{14}\n",
    "\\end{aligned}\n",
    "$$\n",
    "\n",
    "なので\n",
    "\n",
    "$$\n",
    "\\boldsymbol{p}_3\n",
    "= \\frac{ \\boldsymbol{x}_3 - (c_1 \\boldsymbol{p}_1 + c_2 \\boldsymbol{p}_2) }\n",
    "{\\| \\boldsymbol{x}_3 - (c_1 \\boldsymbol{p}_1 + c_2 \\boldsymbol{p}_2)\\| }\n",
    "=  \\frac{ \\boldsymbol{x}_3 }{\\| \\boldsymbol{x}_3 \\| }\n",
    "=  \\frac{1}{\\sqrt{14}} \\begin{pmatrix} 1 \\\\ 2 \\\\ 3 \\end{pmatrix}\n",
    "$$"
   ]
  },
  {
   "cell_type": "markdown",
   "id": "1211d59c-c9dc-4b1e-b856-ccea26614dff",
   "metadata": {},
   "source": [
    "$P=(p_1,p_2,p_3)$とすると、この$P$\n",
    "\n",
    "$$\n",
    "P=\n",
    "\\begin{pmatrix} \n",
    "-\\frac{2}{\\sqrt{5}} & -\\frac{3}{\\sqrt{70}} & \\frac{1}{\\sqrt{14}}\\\\\n",
    "\\frac{1}{\\sqrt{5}}  & -\\frac{6}{\\sqrt{70}} & \\frac{2}{\\sqrt{14}}\\\\\n",
    "0                   &  \\frac{5}{\\sqrt{70}} & \\frac{3}{\\sqrt{14}}\n",
    "\\end{pmatrix}\n",
    "$$\n",
    "\n",
    "により$A$は対角化できる"
   ]
  },
  {
   "cell_type": "markdown",
   "id": "24d957dd-1731-4e7d-9796-20971b24f4fb",
   "metadata": {},
   "source": [
    "$$\n",
    "P^{-1} A P\n",
    "=\n",
    "\\left[\\begin{array}{ccc}\r\n",
    "0 & 0 & 0 \\\\\r\n",
    "0 & 0 & 0 \\\\\r\n",
    "0 & 0 & 14\r\n",
    "\\end{array}\\right]\n",
    "$$\n"
   ]
  },
  {
   "cell_type": "code",
   "execution_count": 83,
   "id": "c28acb8f-2dc5-4ffa-a8e6-fd3748d9dc6d",
   "metadata": {},
   "outputs": [
    {
     "data": {
      "text/latex": [
       "$\\displaystyle \\left[\\begin{matrix}\\frac{\\sqrt{14}}{14}\\\\\\frac{\\sqrt{14}}{7}\\\\\\frac{3 \\sqrt{14}}{14}\\end{matrix}\\right]$"
      ],
      "text/plain": [
       "Matrix([\n",
       "[  sqrt(14)/14],\n",
       "[   sqrt(14)/7],\n",
       "[3*sqrt(14)/14]])"
      ]
     },
     "execution_count": 83,
     "metadata": {},
     "output_type": "execute_result"
    }
   ],
   "source": [
    "p3 = x3 / x3.norm()\n",
    "p3"
   ]
  },
  {
   "cell_type": "code",
   "execution_count": 84,
   "id": "5a87db33-7693-481d-8236-0ee465b06a02",
   "metadata": {},
   "outputs": [
    {
     "data": {
      "text/latex": [
       "$\\displaystyle \\left[\\begin{matrix}- \\frac{2 \\sqrt{5}}{5} & - \\frac{3 \\sqrt{70}}{70} & \\frac{\\sqrt{14}}{14}\\\\\\frac{\\sqrt{5}}{5} & - \\frac{3 \\sqrt{70}}{35} & \\frac{\\sqrt{14}}{7}\\\\0 & \\frac{\\sqrt{70}}{14} & \\frac{3 \\sqrt{14}}{14}\\end{matrix}\\right]$"
      ],
      "text/plain": [
       "Matrix([\n",
       "[-2*sqrt(5)/5, -3*sqrt(70)/70,   sqrt(14)/14],\n",
       "[   sqrt(5)/5, -3*sqrt(70)/35,    sqrt(14)/7],\n",
       "[           0,    sqrt(70)/14, 3*sqrt(14)/14]])"
      ]
     },
     "execution_count": 84,
     "metadata": {},
     "output_type": "execute_result"
    }
   ],
   "source": [
    "P = sp.Matrix([p1, p2, p3]).reshape(3, 3).T\n",
    "P"
   ]
  },
  {
   "cell_type": "code",
   "execution_count": 85,
   "id": "b7db51dd-f902-44fe-8e07-daee609d3d24",
   "metadata": {
    "editable": true,
    "slideshow": {
     "slide_type": ""
    },
    "tags": []
   },
   "outputs": [
    {
     "data": {
      "text/latex": [
       "$\\displaystyle \\left[\\begin{matrix}- \\frac{2 \\sqrt{5}}{5} & \\frac{\\sqrt{5}}{5} & 0\\\\- \\frac{3 \\sqrt{70}}{70} & - \\frac{3 \\sqrt{70}}{35} & \\frac{\\sqrt{70}}{14}\\\\\\frac{\\sqrt{14}}{14} & \\frac{\\sqrt{14}}{7} & \\frac{3 \\sqrt{14}}{14}\\end{matrix}\\right]$"
      ],
      "text/plain": [
       "Matrix([\n",
       "[  -2*sqrt(5)/5,      sqrt(5)/5,             0],\n",
       "[-3*sqrt(70)/70, -3*sqrt(70)/35,   sqrt(70)/14],\n",
       "[   sqrt(14)/14,     sqrt(14)/7, 3*sqrt(14)/14]])"
      ]
     },
     "execution_count": 85,
     "metadata": {},
     "output_type": "execute_result"
    }
   ],
   "source": [
    "P.inv()"
   ]
  },
  {
   "cell_type": "code",
   "execution_count": 86,
   "id": "6c4ddcf1-aba2-4d39-9d8d-d588ba9925cc",
   "metadata": {},
   "outputs": [
    {
     "data": {
      "text/latex": [
       "$\\displaystyle \\left[\\begin{matrix}0 & 0 & 0\\\\0 & 0 & 0\\\\0 & 0 & 14\\end{matrix}\\right]$"
      ],
      "text/plain": [
       "Matrix([\n",
       "[0, 0,  0],\n",
       "[0, 0,  0],\n",
       "[0, 0, 14]])"
      ]
     },
     "execution_count": 86,
     "metadata": {},
     "output_type": "execute_result"
    }
   ],
   "source": [
    "A = sp.Matrix([\n",
    "    [1,2,3],\n",
    "    [2,4,6],\n",
    "    [3,6,9]\n",
    "])\n",
    "\n",
    "P.inv() @ A @ P"
   ]
  },
  {
   "cell_type": "code",
   "execution_count": 88,
   "id": "d82c1ef3-27d2-4ced-bb30-d8c1ed2fd3b8",
   "metadata": {},
   "outputs": [
    {
     "data": {
      "text/latex": [
       "$\\displaystyle \\left[\\begin{matrix}- \\frac{2 \\sqrt{5}}{5} & - \\frac{3 \\sqrt{70}}{70} & \\frac{\\sqrt{14}}{14}\\\\\\frac{\\sqrt{5}}{5} & - \\frac{3 \\sqrt{70}}{35} & \\frac{\\sqrt{14}}{7}\\\\0 & \\frac{\\sqrt{70}}{14} & \\frac{3 \\sqrt{14}}{14}\\end{matrix}\\right]$"
      ],
      "text/plain": [
       "Matrix([\n",
       "[-2*sqrt(5)/5, -3*sqrt(70)/70,   sqrt(14)/14],\n",
       "[   sqrt(5)/5, -3*sqrt(70)/35,    sqrt(14)/7],\n",
       "[           0,    sqrt(70)/14, 3*sqrt(14)/14]])"
      ]
     },
     "execution_count": 88,
     "metadata": {},
     "output_type": "execute_result"
    }
   ],
   "source": [
    "P = sp.Matrix(sp.GramSchmidt([x1,x2,x3], orthonormal=True)).reshape(3,3).T\n",
    "P"
   ]
  },
  {
   "cell_type": "markdown",
   "id": "dd536406-407c-406c-8f17-93578c882efe",
   "metadata": {},
   "source": [
    ":::{dropdown} 簡易版\n",
    "\n",
    "相異なる固有値に属する固有ベクトルたちは1次独立であり、別々に直交化できるため、ノルム\n",
    "\n",
    "$$\n",
    "\\begin{aligned}\n",
    "\\|x_1\\| &= \\sqrt{|2|^2+|1|^2} = \\sqrt{5}\\\\\n",
    "\\|x_2\\| &= \\sqrt{|3|^2+|1|^2} = \\sqrt{10}\\\\\n",
    "\\|x_3\\| &= \\sqrt{|1|^2+|2|^2+|3|^2} = \\sqrt{14}\\\\\n",
    "\\end{aligned}\n",
    "$$\n",
    "\n",
    "を用いて\n",
    "\n",
    "$$\n",
    "\\begin{aligned}\n",
    "p_1 &= \\frac{x_1}{\\|x_1\\|} = \\frac{1}{\\sqrt{5}} \\begin{pmatrix} -2 \\\\ 1 \\\\ 0 \\end{pmatrix}\n",
    "= \\begin{pmatrix} \\frac{-2}{\\sqrt{5}} \\\\ \\frac{1}{\\sqrt{5}} \\\\ 0 \\end{pmatrix}\\\\\n",
    "p_2 &= \\frac{x_2}{\\|x_2\\|} = \\frac{1}{\\sqrt{10}} \\begin{pmatrix} -3 \\\\ 0 \\\\ 1 \\end{pmatrix}\\\\\n",
    "p_3 &= \\frac{x_3}{\\|x_3\\|} = \\frac{1}{\\sqrt{14}} \\begin{pmatrix} 1 \\\\ 2 \\\\ 3 \\end{pmatrix}\n",
    "\\end{aligned}\n",
    "$$\n",
    "\n",
    "とおく。これらを列ベクトルにもつ行列を$P=(p_1,p_2,p_3)$とおく。\n",
    "\n",
    "$$\n",
    "P=\n",
    "\\begin{pmatrix} \n",
    "-\\frac{2}{\\sqrt{5}} & -\\frac{3}{14} & \\frac{1}{\\sqrt{14}}\\\\\n",
    "\\frac{1}{\\sqrt{5}} & 0              & \\frac{2}{\\sqrt{14}}\\\\\n",
    "0 &  \\frac{1}{\\sqrt{10}}            & \\frac{3}{\\sqrt{14}}\n",
    "\\end{pmatrix}\n",
    "$$\n",
    "\n",
    "$A$は$P$で対角化可能である。\n",
    ":::"
   ]
  },
  {
   "cell_type": "code",
   "execution_count": 1,
   "id": "69183612-591d-418f-80cc-951a751cbdf6",
   "metadata": {},
   "outputs": [
    {
     "data": {
      "text/latex": [
       "$\\displaystyle \\left[\\begin{matrix}- \\frac{2 \\sqrt{5}}{5} & - \\frac{3 \\sqrt{10}}{10} & \\frac{\\sqrt{14}}{14}\\\\\\frac{\\sqrt{5}}{5} & 0 & \\frac{\\sqrt{14}}{7}\\\\0 & \\frac{\\sqrt{10}}{10} & \\frac{3 \\sqrt{14}}{14}\\end{matrix}\\right]$"
      ],
      "text/plain": [
       "Matrix([\n",
       "[-2*sqrt(5)/5, -3*sqrt(10)/10,   sqrt(14)/14],\n",
       "[   sqrt(5)/5,              0,    sqrt(14)/7],\n",
       "[           0,    sqrt(10)/10, 3*sqrt(14)/14]])"
      ]
     },
     "execution_count": 1,
     "metadata": {},
     "output_type": "execute_result"
    }
   ],
   "source": [
    "import sympy as sp\n",
    "\n",
    "a1 = sp.Matrix([-2,1,0])\n",
    "a2 = sp.Matrix([-3,0,1])\n",
    "a3 = sp.Matrix([1,2,3])\n",
    "\n",
    "p1 = a1 / a1.norm()\n",
    "p2 = a2 / a2.norm()\n",
    "p3 = a3 / a3.norm()\n",
    "P = sp.Matrix([p1, p2, p3]).reshape(3, 3).T\n",
    "P"
   ]
  },
  {
   "cell_type": "code",
   "execution_count": 18,
   "id": "f9368045-fdeb-42b9-8ce0-d7a2e2f21581",
   "metadata": {},
   "outputs": [
    {
     "data": {
      "text/latex": [
       "$\\displaystyle \\left[\\begin{matrix}- \\frac{2}{5} & \\frac{1}{5} & 0\\\\- \\frac{3}{14} & - \\frac{3}{7} & \\frac{5}{14}\\\\\\frac{1}{14} & \\frac{1}{7} & \\frac{3}{14}\\end{matrix}\\right]$"
      ],
      "text/plain": [
       "Matrix([\n",
       "[ -2/5,  1/5,    0],\n",
       "[-3/14, -3/7, 5/14],\n",
       "[ 1/14,  1/7, 3/14]])"
      ]
     },
     "execution_count": 18,
     "metadata": {},
     "output_type": "execute_result"
    }
   ],
   "source": [
    "P.inv()"
   ]
  },
  {
   "cell_type": "code",
   "execution_count": 19,
   "id": "a1d83bef-46e8-408d-b90f-4406bc6da2d6",
   "metadata": {},
   "outputs": [
    {
     "data": {
      "text/latex": [
       "$\\displaystyle \\left[\\begin{matrix}0 & 0 & 0\\\\0 & 0 & 0\\\\0 & 0 & 14\\end{matrix}\\right]$"
      ],
      "text/plain": [
       "Matrix([\n",
       "[0, 0,  0],\n",
       "[0, 0,  0],\n",
       "[0, 0, 14]])"
      ]
     },
     "execution_count": 19,
     "metadata": {},
     "output_type": "execute_result"
    }
   ],
   "source": [
    "A = sp.Matrix([\n",
    "    [1,2,3],\n",
    "    [2,4,6],\n",
    "    [3,6,9]\n",
    "])\n",
    "\n",
    "P.inv() @ A @ P"
   ]
  },
  {
   "cell_type": "markdown",
   "id": "235796e5-8f8f-40de-89e9-4989073ffe53",
   "metadata": {},
   "source": [
    "[Matrices (linear algebra) - SymPy 1.13.3 documentation](https://docs.sympy.org/latest/modules/matrices/matrices.html#sympy.matrices.dense.GramSchmidt)\n",
    "\n",
    "[Gram–Schmidt process - Wikipedia](https://en.wikipedia.org/wiki/Gram%E2%80%93Schmidt_process)"
   ]
  },
  {
   "cell_type": "code",
   "execution_count": 14,
   "id": "c478d6ec-37cf-46ab-ac4c-df932bf3a768",
   "metadata": {},
   "outputs": [
    {
     "data": {
      "text/latex": [
       "$\\displaystyle \\left[\\begin{matrix}-2 & - \\frac{3}{5} & 1\\\\1 & - \\frac{6}{5} & 2\\\\0 & 1 & 3\\end{matrix}\\right]$"
      ],
      "text/plain": [
       "Matrix([\n",
       "[-2, -3/5, 1],\n",
       "[ 1, -6/5, 2],\n",
       "[ 0,    1, 3]])"
      ]
     },
     "execution_count": 14,
     "metadata": {},
     "output_type": "execute_result"
    }
   ],
   "source": [
    "import sympy as sp\n",
    "\n",
    "a1 = sp.Matrix([-2,1,0])\n",
    "a2 = sp.Matrix([-3,0,1])\n",
    "a3 = sp.Matrix([1,2,3])\n",
    "\n",
    "P = sp.Matrix(sp.GramSchmidt([a1,a2,a3])).reshape(3,3).T\n",
    "P"
   ]
  },
  {
   "cell_type": "code",
   "execution_count": 15,
   "id": "5da20578-714f-4767-8273-96bc06ff6fc1",
   "metadata": {},
   "outputs": [
    {
     "data": {
      "text/latex": [
       "$\\displaystyle \\left[\\begin{matrix}0 & 0 & 0\\\\0 & 0 & 0\\\\0 & 0 & 14\\end{matrix}\\right]$"
      ],
      "text/plain": [
       "Matrix([\n",
       "[0, 0,  0],\n",
       "[0, 0,  0],\n",
       "[0, 0, 14]])"
      ]
     },
     "execution_count": 15,
     "metadata": {},
     "output_type": "execute_result"
    }
   ],
   "source": [
    "P.inv() @ A @ P"
   ]
  },
  {
   "cell_type": "markdown",
   "id": "9cda1659-b682-4e2f-9ba6-69d83fc9fc2e",
   "metadata": {},
   "source": [
    ":::{admonition} 補足：対称行列の対角化の応用例\n",
    "\n",
    "実数を係数とする $x, y$ の 2 次方程式\n",
    "\n",
    "$$\n",
    "a x^2+2 b x y+c y^2+2 d x+2 e y+f=0\n",
    "$$\n",
    "\n",
    "\n",
    "は2次曲線とも呼ばれ、\n",
    "\n",
    "$$\n",
    "\\left(\\begin{array}{ll}\n",
    "x & y\n",
    "\\end{array}\\right)\\left(\\begin{array}{ll}\n",
    "a & b \\\\\n",
    "b & c\n",
    "\\end{array}\\right)\\binom{x}{y}+2\\left(\\begin{array}{ll}\n",
    "d & e\n",
    "\\end{array}\\right)\\binom{x}{y}+f=0\n",
    "$$\n",
    "\n",
    "\n",
    "と表される。ここで、行列 $\\left(\\begin{array}{ll}a & b \\\\ b & c\\end{array}\\right)$ は対称行列であることに注意しよう。対称行列の直交行列による対角化を用いると、上記のような方程式を**標準形**という、よりわかりやすい式で表すことができる。例えば、楕円、双曲線、放物線の標準形 はそれぞれ\n",
    "\n",
    "$$\n",
    "\\frac{x^2}{a^2}+\\frac{y^2}{b^2}=1, \\quad \\frac{x^2}{a^2}-\\frac{y^2}{b^2}=1, \\quad y=a x^2\n",
    "$$\n",
    "\n",
    "\n",
    "で表される。ただし、 $a, b$ は 0 ではない定数である。\n",
    ":::"
   ]
  },
  {
   "cell_type": "markdown",
   "id": "d132809f-509a-47d8-913a-1448fc42b0ab",
   "metadata": {},
   "source": [
    "## 問2\n",
    "\n",
    ":::{card}\n",
    "\n",
    "直交行列の固有値は絶対値 1 の複素数であることを示せ。\n",
    ":::"
   ]
  },
  {
   "cell_type": "markdown",
   "id": "c78c0de3-0db3-472e-ad4a-5cd2fe2551c5",
   "metadata": {},
   "source": [
    "$A$を$n$次の直交行列、$x$をゼロでない$n$次のベクトルとする。\n",
    "\n",
    "$$\n",
    "A x = \\lambda x\n",
    "$$\n",
    "\n",
    "のノルムを取ると\n",
    "\n",
    "$$\n",
    "\\begin{aligned}\n",
    "\\| A x \\| &= \\| \\lambda x \\|\\\\\n",
    "\\| A x \\| &= |\\lambda| \\| x \\| \\quad (ノルムの定数倍についての定理 \\|c x\\| = |c| \\|x\\| より)\\\\\n",
    "\\|x\\| &= |\\lambda| \\| x \\| \\quad (直交変換は長さを保つ、すなわち \\|A x\\| = \\|x\\| のため)\\\\\n",
    "\\end{aligned}\n",
    "$$\n",
    "\n",
    "よって$|\\lambda| = 1$となる。\n",
    "\n",
    "固有値は一般には複素数となるため、直交行列の固有値は絶対値1の複素数である"
   ]
  }
 ],
 "metadata": {
  "kernelspec": {
   "display_name": "Python 3 (ipykernel)",
   "language": "python",
   "name": "python3"
  },
  "language_info": {
   "codemirror_mode": {
    "name": "ipython",
    "version": 3
   },
   "file_extension": ".py",
   "mimetype": "text/x-python",
   "name": "python",
   "nbconvert_exporter": "python",
   "pygments_lexer": "ipython3",
   "version": "3.10.15"
  }
 },
 "nbformat": 4,
 "nbformat_minor": 5
}
