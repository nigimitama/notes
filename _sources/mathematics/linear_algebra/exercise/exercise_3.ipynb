{
 "cells": [
  {
   "cell_type": "markdown",
   "id": "823e78ed-6033-4a48-97b9-3ce69f076fc9",
   "metadata": {},
   "source": [
    "# 練習問題 メモ 3"
   ]
  },
  {
   "cell_type": "markdown",
   "id": "2b6c89c4-4a0b-44d5-a1e5-d02c163ed2f0",
   "metadata": {},
   "source": [
    "## 3.1\n",
    "\n",
    "> $A$ を $k \\times l$ 行列、 $B$ を $k \\times n$ 行列、 $C$ を $m \\times n$ 行列とする。分割された $(k+m) \\times(l+n)$行列に対する次の計算をせよ。\n",
    "> $\n",
    "\\left(\\begin{array}{cc}\n",
    "A & B \\\\\n",
    "O_{m, l} & C\n",
    "\\end{array}\\right)+\\left(\\begin{array}{cc}\n",
    "A & -B \\\\\n",
    "O_{m, l} & -2 C\n",
    "\\end{array}\\right)\n",
    "$"
   ]
  },
  {
   "cell_type": "markdown",
   "id": "edc0dbfe-5e0a-40bf-9ac4-0d239476077f",
   "metadata": {},
   "source": [
    "## 3.2\n",
    "\n",
    "> $A$ を $m \\times n$ 行列とする。分割された $(m+n)$ 次の正方行列 $\\left(\\begin{array}{cc}E_m & A \\\\ O_{n, m} & E_n\\end{array}\\right)$の3乗を計算せよ。"
   ]
  },
  {
   "cell_type": "markdown",
   "id": "25f33bea-aca4-4ef2-9417-bc137a85c3ea",
   "metadata": {},
   "source": [
    "## 3.3\n",
    "\n",
    "> 4次の正方行列 $I, J, K$を\n",
    "> $\n",
    "I=\\left(\\begin{array}{cccc}\n",
    "0 & -1 & 0 & 0 \\\\\n",
    "1 & 0 & 0 & 0 \\\\\n",
    "0 & 0 & 0 & -1 \\\\\n",
    "0 & 0 & 1 & 0\n",
    "\\end{array}\\right), J=\\left(\\begin{array}{cccc}\n",
    "0 & 0 & -1 & 0 \\\\\n",
    "0 & 0 & 0 & 1 \\\\\n",
    "1 & 0 & 0 & 0 \\\\\n",
    "0 & -1 & 0 & 0\n",
    "\\end{array}\\right), K=\\left(\\begin{array}{cccc}\n",
    "0 & 0 & 0 & -1 \\\\\n",
    "0 & 0 & -1 & 0 \\\\\n",
    "0 & 1 & 0 & 0 \\\\\n",
    "1 & 0 & 0 & 0\n",
    "\\end{array}\\right)\n",
    "$\n",
    "> により定める。 $I, J, K$ を 2 次の正方行列を用いて分割することにより、積 $I^2, J^2$, $K^2, I J, J I, J K, K J, K I, I K$ を計算せよ。"
   ]
  },
  {
   "cell_type": "markdown",
   "id": "16834431-f0bf-45cf-a00f-7a098100484c",
   "metadata": {},
   "source": [
    "## 3.4\n",
    "\n",
    "> $A_{12}, A_{13}, A_{22}, A_{23}, A_{33}, B_{11}, B_{12}, B_{13}, B_{23}, B_{33}, C_{11}, C_{12}, C_{13}, C_{22}, C_{23}$ を$n$次の正方行列、$O$を$n$次の零行列とする。次の計算をせよ。\n",
    "> $\n",
    "\\left(\\begin{array}{ccc}\n",
    "O & A_{12} & A_{13} \\\\\n",
    "O & A_{22} & A_{23} \\\\\n",
    "O & O & A_{33}\n",
    "\\end{array}\\right)\\left(\\begin{array}{ccc}\n",
    "B_{11} & B_{12} & B_{13} \\\\\n",
    "O & O & B_{23} \\\\\n",
    "O & O & B_{33}\n",
    "\\end{array}\\right)\\left(\\begin{array}{ccc}\n",
    "C_{11} & C_{12} & C_{13} \\\\\n",
    "O & C_{22} & C_{23} \\\\\n",
    "O & O & O\n",
    "\\end{array}\\right)\n",
    "$"
   ]
  },
  {
   "cell_type": "code",
   "execution_count": null,
   "id": "51a0bd7f-d508-4553-8377-911cd6f5a7a5",
   "metadata": {},
   "outputs": [],
   "source": []
  }
 ],
 "metadata": {
  "kernelspec": {
   "display_name": "Python 3 (ipykernel)",
   "language": "python",
   "name": "python3"
  },
  "language_info": {
   "codemirror_mode": {
    "name": "ipython",
    "version": 3
   },
   "file_extension": ".py",
   "mimetype": "text/x-python",
   "name": "python",
   "nbconvert_exporter": "python",
   "pygments_lexer": "ipython3",
   "version": "3.9.18"
  }
 },
 "nbformat": 4,
 "nbformat_minor": 5
}
