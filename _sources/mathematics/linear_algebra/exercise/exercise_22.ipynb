{
 "cells": [
  {
   "cell_type": "markdown",
   "id": "6cdb1c9b-e3c1-4819-82a2-0a407b39afda",
   "metadata": {},
   "source": [
    "# 練習問題メモ 22（内積空間）"
   ]
  },
  {
   "cell_type": "markdown",
   "id": "2e73a86b-2b76-49cc-9187-c23b9c315879",
   "metadata": {},
   "source": []
  }
 ],
 "metadata": {
  "kernelspec": {
   "display_name": "Python 3 (ipykernel)",
   "language": "python",
   "name": "python3"
  },
  "language_info": {
   "codemirror_mode": {
    "name": "ipython",
    "version": 3
   },
   "file_extension": ".py",
   "mimetype": "text/x-python",
   "name": "python",
   "nbconvert_exporter": "python",
   "pygments_lexer": "ipython3",
   "version": "3.10.14"
  }
 },
 "nbformat": 4,
 "nbformat_minor": 5
}
