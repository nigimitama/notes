{
 "cells": [
  {
   "cell_type": "markdown",
   "id": "6cdb1c9b-e3c1-4819-82a2-0a407b39afda",
   "metadata": {},
   "source": [
    "# 練習問題メモ 22（内積空間）"
   ]
  },
  {
   "cell_type": "markdown",
   "id": "2e73a86b-2b76-49cc-9187-c23b9c315879",
   "metadata": {},
   "source": [
    ":::{admonition} 定義 22.1\n",
    "\n",
    "$V$ をベクトル空間とし、 $\\boldsymbol{x}, \\boldsymbol{y}, \\boldsymbol{z} \\in V, c \\in \\mathbb{R}$ とする。任意の $\\boldsymbol{x}, \\boldsymbol{y}$ に対して実数 $\\langle\\boldsymbol{x}, \\boldsymbol{y}\\rangle \\in \\mathbb{R}$ が定まり、次の $1 \\sim 4$ の条件を満たすとき、 $\\langle\\boldsymbol{x}, \\boldsymbol{y}\\rangle$ を $\\boldsymbol{x}$ と $\\boldsymbol{y}$ の **内積** 、組 $(V,\\langle, \\rangle)$ を  **内積空間** または計量ベクトル空間という。\n",
    "\n",
    "1. $\\langle\\boldsymbol{y}, \\boldsymbol{x}\\rangle=\\langle\\boldsymbol{x}, \\boldsymbol{y}\\rangle$\n",
    "2. $\\langle\\boldsymbol{x}+\\boldsymbol{y}, \\boldsymbol{z}\\rangle=\\langle\\boldsymbol{x}, \\boldsymbol{z}\\rangle+\\langle\\boldsymbol{y}, \\boldsymbol{z}\\rangle$\n",
    "3. $\\langle c \\boldsymbol{x}, \\boldsymbol{y}\\rangle=c\\langle\\boldsymbol{x}, \\boldsymbol{y}\\rangle$\n",
    "4. $\\langle\\boldsymbol{x}, \\boldsymbol{x}\\rangle \\geq 0$ で、 $\\langle\\boldsymbol{x}, \\boldsymbol{x}\\rangle=0$ ならば $\\boldsymbol{x}=\\mathbf{0}$\n",
    ":::"
   ]
  },
  {
   "cell_type": "markdown",
   "id": "83b06119-2428-4c64-8947-4496c6e6026e",
   "metadata": {},
   "source": [
    "## 問1\n",
    "\n",
    ":::{card}\n",
    "\n",
    "$f(t), g(t) \\in \\mathbb{R}[t]_n$ に対して、\n",
    "\n",
    "$$\n",
    "\\langle f(t), g(t)\\rangle=\\int_{-1}^1 f(t) g(t) d t\n",
    "$$\n",
    "\n",
    "とおく。このとき、 $\\left(\\mathbb{R}[t]_n,\\langle\\rangle,\\right)$ は内積空間であることを示せ。\n",
    ":::"
   ]
  },
  {
   "cell_type": "markdown",
   "id": "6837a3ff-f2fb-47f8-b581-0fb7e00569d7",
   "metadata": {},
   "source": [
    "1. $\\langle\\boldsymbol{y}, \\boldsymbol{x}\\rangle=\\langle\\boldsymbol{x}, \\boldsymbol{y}\\rangle$\n",
    "\n",
    "$$\n",
    "\\langle f(t), g(t)\\rangle\n",
    "=\\int_{-1}^1 f(t) g(t) d t\n",
    "=\\int_{-1}^1 g(t) f(t) d t\n",
    "= \\langle g(t), f(t)\\rangle\n",
    "$$\n",
    "\n",
    "\n",
    "2. $\\langle\\boldsymbol{x}+\\boldsymbol{y}, \\boldsymbol{z}\\rangle=\\langle\\boldsymbol{x}, \\boldsymbol{z}\\rangle+\\langle\\boldsymbol{y}, \\boldsymbol{z}\\rangle$\n",
    "\n",
    "$f'(t) \\in \\mathbb{R}[t]_n$とする。\n",
    "\n",
    "$$\n",
    "\\langle f(t) + f'(t), g(t)\\rangle\n",
    "= \\int_{-1}^1 (f(t) + f'(t)) g(t) d t\\\\\n",
    "= \\int_{-1}^1 f(t) g(t) d t\n",
    "+ \\int_{-1}^1 f'(t) g(t) d t\\\\\n",
    "= \\langle f(t), g(t)\\rangle\n",
    "+ \\langle f'(t), g(t)\\rangle\n",
    "$$\n",
    "\n",
    "\n",
    "3. $\\langle c \\boldsymbol{x}, \\boldsymbol{y}\\rangle=c\\langle\\boldsymbol{x}, \\boldsymbol{y}\\rangle$\n",
    "\n",
    "$$\n",
    "\\langle c f(t), g(t)\\rangle\n",
    "= \\int_{-1}^1 c f(t) g(t) d t\\\\\n",
    "= c \\int_{-1}^1 f(t) g(t) d t\n",
    "= c \\langle f(t), g(t)\\rangle\n",
    "$$\n",
    "\n",
    "\n",
    "4. $\\langle\\boldsymbol{x}, \\boldsymbol{x}\\rangle \\geq 0$ で、 $\\langle\\boldsymbol{x}, \\boldsymbol{x}\\rangle=0$ ならば $\\boldsymbol{x}=\\mathbf{0}$\n",
    "\n",
    "$$\n",
    "\\langle f(t), f(t)\\rangle\n",
    "= \\int_{-1}^1 f(t)^2 d t\n",
    "$$\n",
    "\n",
    "$f(t)$の二乗の積分であるため、$\\langle f(t), f(t)\\rangle \\geq 0$であり、$\\langle f(t), f(t)\\rangle=0$ならば$f(t)=0$\n"
   ]
  },
  {
   "cell_type": "markdown",
   "id": "aa9ed2c0-0fb1-4e81-a2c9-c7a0baf5fa3a",
   "metadata": {},
   "source": [
    "## 問2\n",
    "\n",
    ":::{card}\n",
    "\n",
    "$V$ を内積空間とする。定義 22.1 の内積の条件 $1 \\sim 3$ を用いて、任意の $\\boldsymbol{x}, \\boldsymbol{y}, \\boldsymbol{z} \\in V$ に対して、\n",
    "\n",
    "$$\n",
    "\\langle\\boldsymbol{x}, \\boldsymbol{y}+\\boldsymbol{z}\\rangle=\\langle\\boldsymbol{x}, \\boldsymbol{y}\\rangle+\\langle\\boldsymbol{x}, \\boldsymbol{z}\\rangle, \\quad\\langle\\boldsymbol{x}, c \\boldsymbol{y}\\rangle=c\\langle\\boldsymbol{x}, \\boldsymbol{y}\\rangle\n",
    "$$\n",
    "\n",
    "\n",
    "が成り立つことを示せ。\n",
    ":::"
   ]
  },
  {
   "cell_type": "markdown",
   "id": "0dca5668-f691-449e-8147-bdda38a758bb",
   "metadata": {},
   "source": [
    "$$\n",
    "\\begin{aligned}\n",
    "\\langle\\boldsymbol{x}, \\boldsymbol{y}+\\boldsymbol{z}\\rangle\n",
    "&=\\langle \\boldsymbol{y}+\\boldsymbol{z}, \\boldsymbol{x}\\rangle \\quad (条件1より)\\\\\n",
    "&=\\langle \\boldsymbol{y}, \\boldsymbol{x}\\rangle\n",
    "+ \\langle \\boldsymbol{z}, \\boldsymbol{x}\\rangle \\quad (条件2より)\\\\\n",
    "&=\\langle\\boldsymbol{x}, \\boldsymbol{y} \\rangle + \\langle\\boldsymbol{x}, \\boldsymbol{z}\\rangle \\quad (条件1より)\n",
    "\\end{aligned}\n",
    "$$\n"
   ]
  },
  {
   "cell_type": "markdown",
   "id": "b585c8f8-b587-4a1b-9c12-2726209f45df",
   "metadata": {},
   "source": [
    "$$\n",
    "\\begin{aligned}\n",
    "\\langle\\boldsymbol{x}, c \\boldsymbol{y}\\rangle\n",
    "&= \\langle c \\boldsymbol{y}, \\boldsymbol{x}\\rangle \\quad (条件1より)\\\\\n",
    "&= c\\langle \\boldsymbol{y}, \\boldsymbol{x}\\rangle \\quad (条件3より)\\\\\n",
    "&= c\\langle \\boldsymbol{x}, \\boldsymbol{y}\\rangle \\quad (条件1より)\n",
    "\\end{aligned}\n",
    "$$"
   ]
  },
  {
   "cell_type": "code",
   "execution_count": null,
   "id": "3254c1bb-7a3f-4061-8d10-df9b3128c822",
   "metadata": {},
   "outputs": [],
   "source": []
  }
 ],
 "metadata": {
  "kernelspec": {
   "display_name": "Python 3 (ipykernel)",
   "language": "python",
   "name": "python3"
  },
  "language_info": {
   "codemirror_mode": {
    "name": "ipython",
    "version": 3
   },
   "file_extension": ".py",
   "mimetype": "text/x-python",
   "name": "python",
   "nbconvert_exporter": "python",
   "pygments_lexer": "ipython3",
   "version": "3.10.14"
  }
 },
 "nbformat": 4,
 "nbformat_minor": 5
}
