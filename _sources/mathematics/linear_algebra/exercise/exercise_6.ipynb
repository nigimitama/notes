{
 "cells": [
  {
   "cell_type": "markdown",
   "id": "250945a9-68e5-4992-9d7d-7fb9fd0216d6",
   "metadata": {},
   "source": [
    "# 練習問題メモ 6（正則行列）"
   ]
  },
  {
   "cell_type": "markdown",
   "id": "d044fa79-cbf7-4b83-b425-f02a38857649",
   "metadata": {},
   "source": [
    "## 6.1\n",
    "\n",
    "> 次の問いに答えよ。\n",
    ">\n",
    "> 1.正則行列の定義を書け。"
   ]
  },
  {
   "cell_type": "markdown",
   "id": "e6224d56-1e99-4fac-a492-7abe8935b65d",
   "metadata": {},
   "source": [
    "逆行列が存在する行列、すなわち、\n",
    "$n$次正方行列$A$に対し\n",
    "\n",
    "$$\n",
    "A^{-1}A = AA^{-1} = I\n",
    "$$\n",
    "\n",
    "を満たす正方行列$A^{-1}$が存在する行列$A$を正則行列という\n"
   ]
  },
  {
   "cell_type": "markdown",
   "id": "9c4eb84b-4045-4ee6-9ef0-c8d935b3c8e5",
   "metadata": {},
   "source": [
    "> 2.次の(ア)、(イ)の正則行列の逆行列を求めよ。\n",
    "> $$\n",
    "\\text { (ア) }\\left(\\begin{array}{lll}\n",
    "1 & a & b \\\\\n",
    "0 & 1 & c \\\\\n",
    "0 & 0 & 1\n",
    "\\end{array}\\right) \\quad \\text { (イ) }\\left(\\begin{array}{lll}\n",
    "1 & 1 & 1 \\\\\n",
    "1 & 1 & 2 \\\\\n",
    "1 & 2 & 1\n",
    "\\end{array}\\right)\n",
    "$$"
   ]
  },
  {
   "cell_type": "markdown",
   "id": "581d18d8-f7f9-4403-a8eb-226d2c837644",
   "metadata": {},
   "source": [
    "### 2. (ア)"
   ]
  },
  {
   "cell_type": "markdown",
   "id": "0bbd1c8e-bd28-48a3-889f-41aef4175545",
   "metadata": {},
   "source": [
    "$$\n",
    "A = \\left(\\begin{array}{lll}\n",
    "1 & a & b \\\\\n",
    "0 & 1 & c \\\\\n",
    "0 & 0 & 1\n",
    "\\end{array}\\right)\n",
    "$$\n",
    "\n",
    "とおくと、\n",
    "\n",
    "$$\n",
    "A^{-1} = \\frac{1}{|A|} \\tilde{A}\n",
    "$$\n",
    "\n",
    "（$\\tilde{A}$は余因子行列）\n",
    "\n",
    "なので、行列式と余因子行列を求めていく。\n",
    "\n",
    "まず行列式は\n",
    "\n",
    "$$\n",
    "|A| = 1^3 + a \\cdot c \\cdot 0 + 0 \\cdot 0 \\cdot b\n",
    "    - 1 \\cdot c \\cdot 0 - a \\cdot 0 \\cdot 1 - b \\cdot 1 \\cdot 0\\\\\n",
    "    = 1\n",
    "$$"
   ]
  },
  {
   "cell_type": "markdown",
   "id": "843b22cb-d91d-4506-88ba-5cb8f3b5ed42",
   "metadata": {},
   "source": [
    "余因子行列は\n",
    "\n",
    "$$\n",
    "|A_{11}| = 1\\times 1 - c \\times 0 = 1\\\\\n",
    "|A_{12}| = 0\\\\\n",
    "|A_{13}| = 0\\\\\n",
    "|A_{21}| = a - 0 = a\\\\\n",
    "|A_{22}| = 1\\\\\n",
    "|A_{23}| = 0\\\\\n",
    "|A_{31}| = ac-b\\\\\n",
    "|A_{32}| = c\\\\\n",
    "|A_{33}| = 1\\\\\n",
    "$$\n",
    "\n",
    "$$\n",
    "\\tilde{A} =\n",
    "\\begin{pmatrix}\n",
    "1 & 0 & 0\\\\\n",
    "a & 1 & 0\\\\\n",
    "ac-b & c & 1\n",
    "\\end{pmatrix}\n",
    "$$"
   ]
  },
  {
   "cell_type": "code",
   "execution_count": null,
   "id": "9ec8a1b8-0250-4ccf-8fd4-5dd5b1245a54",
   "metadata": {},
   "outputs": [],
   "source": []
  },
  {
   "cell_type": "markdown",
   "id": "ecf45f2c-34d6-4e42-991f-28bc81bc2e53",
   "metadata": {},
   "source": [
    "### 2. (イ)"
   ]
  },
  {
   "cell_type": "markdown",
   "id": "aff4e3b3-dad0-429e-b3a6-9cb40086b8fd",
   "metadata": {},
   "source": [
    "$$\n",
    "|イ| = 1^3 + 1^2 \\times 2 + 1^2 \\times 2\n",
    "    - 1 \\times 2^2 - 1^3 - 1^3\\\\\n",
    "    = 1 + 2 + 2 - 4 - 1 - 1\\\\\n",
    "    = -1\n",
    "$$"
   ]
  },
  {
   "cell_type": "code",
   "execution_count": 2,
   "id": "2100d369-2e49-4905-b619-53f5caa20257",
   "metadata": {
    "tags": [
     "hide-input",
     "hide-output"
    ]
   },
   "outputs": [
    {
     "data": {
      "text/plain": [
       "-1.0"
      ]
     },
     "execution_count": 2,
     "metadata": {},
     "output_type": "execute_result"
    }
   ],
   "source": [
    "import numpy as np\n",
    "\n",
    "A = np.array([\n",
    "    [1, 1, 1],\n",
    "    [1, 1, 2],\n",
    "    [1, 2, 1]\n",
    "])\n",
    "\n",
    "np.linalg.det(A)"
   ]
  },
  {
   "cell_type": "code",
   "execution_count": 3,
   "id": "7a873ad2-8c7c-48e0-aae4-9d35c4cac4c2",
   "metadata": {
    "tags": [
     "hide-input",
     "hide-output"
    ]
   },
   "outputs": [
    {
     "data": {
      "text/plain": [
       "array([[ 3., -1., -1.],\n",
       "       [-1.,  0.,  1.],\n",
       "       [-1.,  1.,  0.]])"
      ]
     },
     "execution_count": 3,
     "metadata": {},
     "output_type": "execute_result"
    }
   ],
   "source": [
    "import numpy as np\n",
    "\n",
    "A = np.array([\n",
    "    [1, 1, 1],\n",
    "    [1, 1, 2],\n",
    "    [1, 2, 1]\n",
    "])\n",
    "\n",
    "np.linalg.inv(A)"
   ]
  },
  {
   "cell_type": "markdown",
   "id": "7f076453-280a-468d-adb7-acb5b4edb320",
   "metadata": {},
   "source": [
    "## 6.2\n",
    "\n",
    "> $n$ 次の正方行列 $A_{11}, A_{12}, A_{22}, X_{11}, X_{12}, X_{21}, X_{22}$ を用いて、 $2 n$ 次の正方行列 $A$ および $X$ を\n",
    "> $$\n",
    "A=\\left(\\begin{array}{cc}\n",
    "A_{11} & A_{12} \\\\\n",
    "O & A_{22}\n",
    "\\end{array}\\right), X=\\left(\\begin{array}{ll}\n",
    "X_{11} & X_{12} \\\\\n",
    "X_{21} & X_{22}\n",
    "\\end{array}\\right)\n",
    "$$\n",
    ">\n",
    "> により定める。\n",
    "> 1. 積 $A X$ を計算せよ。\n",
    "> 2. $A_{11}$ および $A_{22}$ がともに正則ならば、 $A$ は正則であることを示し、さらに $A$ の逆行列を求めよ。"
   ]
  },
  {
   "cell_type": "markdown",
   "id": "5cac0412-3362-4c85-acb5-9952b0f4d36c",
   "metadata": {},
   "source": [
    "$$\n",
    "AX = \n",
    "\\begin{pmatrix}\n",
    "A_{11} X_{11} + A_{12} X_{21} & A_{11} X_{12} + A_{12} X_{22}\\\\\n",
    "A_{22} X_{21} & A_{22} X_{22}\n",
    "\\end{pmatrix}\n",
    "$$"
   ]
  },
  {
   "cell_type": "code",
   "execution_count": null,
   "id": "5ea633eb-fbe1-413a-89c4-f6720488bf8b",
   "metadata": {},
   "outputs": [],
   "source": []
  }
 ],
 "metadata": {
  "kernelspec": {
   "display_name": "Python 3 (ipykernel)",
   "language": "python",
   "name": "python3"
  },
  "language_info": {
   "codemirror_mode": {
    "name": "ipython",
    "version": 3
   },
   "file_extension": ".py",
   "mimetype": "text/x-python",
   "name": "python",
   "nbconvert_exporter": "python",
   "pygments_lexer": "ipython3",
   "version": "3.9.18"
  }
 },
 "nbformat": 4,
 "nbformat_minor": 5
}
