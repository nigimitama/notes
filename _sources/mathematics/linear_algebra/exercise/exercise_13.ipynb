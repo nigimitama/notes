{
 "cells": [
  {
   "cell_type": "markdown",
   "id": "c55af97e-c678-4c9f-8719-9894d971f967",
   "metadata": {},
   "source": [
    "# 練習問題メモ 13（ベクトル空間）"
   ]
  },
  {
   "cell_type": "code",
   "execution_count": null,
   "id": "35d98dfb-62df-4081-ae52-0cbdeeca32e8",
   "metadata": {},
   "outputs": [],
   "source": []
  }
 ],
 "metadata": {
  "kernelspec": {
   "display_name": "Python 3 (ipykernel)",
   "language": "python",
   "name": "python3"
  },
  "language_info": {
   "codemirror_mode": {
    "name": "ipython",
    "version": 3
   },
   "file_extension": ".py",
   "mimetype": "text/x-python",
   "name": "python",
   "nbconvert_exporter": "python",
   "pygments_lexer": "ipython3",
   "version": "3.10.14"
  }
 },
 "nbformat": 4,
 "nbformat_minor": 5
}
