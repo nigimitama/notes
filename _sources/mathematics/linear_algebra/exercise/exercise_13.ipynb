{
 "cells": [
  {
   "cell_type": "markdown",
   "id": "c55af97e-c678-4c9f-8719-9894d971f967",
   "metadata": {},
   "source": [
    "# 練習問題メモ 13（ベクトル空間）"
   ]
  },
  {
   "cell_type": "markdown",
   "id": "c5b2035c-8868-4392-809f-068d86788b93",
   "metadata": {},
   "source": [
    "## 問1\n",
    "\n",
    "次の問いに答えよ。\n",
    "\n",
    ":::{card}\n",
    "\n",
    "1. ベクトル空間の部分空間の定義を書け\n",
    ":::"
   ]
  },
  {
   "cell_type": "markdown",
   "id": "443885f4-f6a7-45e1-843a-b1e796fc650c",
   "metadata": {},
   "source": [
    "ベクトル空間$V$の空でない部分集合$W$が$V$における和とスカラー倍の演算でベクトル空間になるとき、$W$を$V$の部分空間という"
   ]
  },
  {
   "cell_type": "markdown",
   "id": "fe1f0b1b-4384-4daf-97f5-447513e28b9f",
   "metadata": {},
   "source": [
    ":::{card}\n",
    "\n",
    "2. $W$ をべクトル空間 $V$ の部分集合とする。 $W$ が $V$ の部分空間であることと同値な 3 つの条件を書け。\n",
    ":::"
   ]
  },
  {
   "cell_type": "markdown",
   "id": "aeb9cc5f-9503-42b7-ae7b-68e32fba935d",
   "metadata": {},
   "source": [
    "1. $W$が空ではない：$W \\neq \\emptyset$（$\\Longleftrightarrow \\boldsymbol{0} \\in W$）\n",
    "2. 元の和が元：$a, b \\in W \\implies a + b \\in W$\n",
    "3. 元の定数倍が元：$a\\in W, \\lambda \\in R \\implies \\lambda a \\in W$"
   ]
  },
  {
   "cell_type": "markdown",
   "id": "9204a180-2360-4534-a0e1-5add509fc982",
   "metadata": {},
   "source": [
    ":::{dropdown} $W \\neq \\emptyset \\Longleftrightarrow \\boldsymbol{0} \\in W$\n",
    "\n",
    "[Wが部分空間である条件に0∈Wがありますが、どうして0ベクトルを含ん... - Yahoo!知恵袋](https://detail.chiebukuro.yahoo.co.jp/qa/question_detail/q14162600334)\n",
    "\n",
    "1. $W \\neq \\emptyset \\implies \\exists \\boldsymbol{a} \\in W$。スカラー$c = 0$について$ca = \\boldsymbol{0} \\in W$\n",
    "2. $\\boldsymbol{0} \\in W \\implies W \\neq \\emptyset$\n",
    ":::"
   ]
  },
  {
   "cell_type": "markdown",
   "id": "a2dd8813-c02d-43e8-a130-24ad6ba88f49",
   "metadata": {},
   "source": [
    ":::{card}\n",
    "\n",
    "3. $\\mathbb{R}^2$ の部分集合 $W$ を次の（ア）、(イ）のように定める。 $W$ は $\\mathbb{R}^2$ の部分空間 ではないことを示せ。\n",
    "\n",
    "\n",
    "\n",
    "$$\n",
    "(ア) \\quad W=\\left\\{\\left.\\left(\\begin{array}{l}x_1 \\\\ x_2\\end{array}\\right) \\in \\mathbb{R}^2 \\right\\rvert\\, x_1+2 x_2=3\\right\\}\n",
    "\\\\\n",
    "(イ) \\quad W=\\left\\{\\left.\\left(\\begin{array}{l}x_1 \\\\ x_2\\end{array}\\right) \\in \\mathbb{R}^2 \\right\\rvert\\, \\begin{array}{l|l}x_1 \\geq 0\\end{array}\\right\\}\n",
    "$$\n",
    "\n",
    "\n",
    ":::"
   ]
  },
  {
   "cell_type": "markdown",
   "id": "ddaa6743-5b75-4064-988c-c007c0ba6882",
   "metadata": {},
   "source": [
    "### （ア）\n",
    "\n",
    "$\\mathbb{R}$は0を含むので、$x_1 = x_2 = 0$の場合を考えると\n",
    "\n",
    "$$\n",
    "x_1 + 2x_2 = 0 \\neq 3\n",
    "$$\n",
    "\n",
    "なので$x_1 + 2x_2 = 0 \\notin W$\n",
    "\n",
    "よって$W$は$R^2$の部分空間ではない\n"
   ]
  },
  {
   "cell_type": "markdown",
   "id": "3e64e17a-170b-42b1-b364-10701b3beaf3",
   "metadata": {},
   "source": [
    "### （イ）\n",
    "\n",
    "~~負の定数$c$で定数倍にしたとき$c (x_1 x_2)^T \\notin W$のため~~ ← は$x_1 = 0$のとき$c x_1 = 0$になって$\\in W$になるのでだめ\n",
    "\n",
    "$$\n",
    "\\boldsymbol{x}\n",
    "= \\begin{pmatrix} x_1 \\\\ x_2 \\end{pmatrix}\n",
    "= \\begin{pmatrix} 1 \\\\ 0 \\end{pmatrix}\n",
    "\\in \\mathbb{R}^2\n",
    "$$\n",
    "\n",
    "に$c = -1$を乗じた場合\n",
    "\n",
    "$$\n",
    "c \\boldsymbol{x} = \\begin{pmatrix} -1 \\\\ 0 \\end{pmatrix}\n",
    "$$\n",
    "\n",
    "は$x_1 = -1$となるため$\\boldsymbol{x} \\notin W$\n",
    "\n",
    "\n",
    "よって$W$は$R^2$の部分空間ではない\n"
   ]
  },
  {
   "cell_type": "markdown",
   "id": "8bf526b4-a1f9-43bc-9488-b6b2c0201290",
   "metadata": {},
   "source": [
    ":::{note}\n",
    "\n",
    "「部分空間でないことを示せ」は3条件のうち1つでも反例を見つければOK\n",
    ":::"
   ]
  },
  {
   "cell_type": "markdown",
   "id": "73c798ac-bfec-49ea-8add-a94421e35869",
   "metadata": {},
   "source": [
    "## 問2\n",
    "\n",
    "$W_1, W_2$ をべクトル空間 $V$ の部分空間とする。\n",
    "\n",
    "\n",
    ":::{card}\n",
    "\n",
    "1. $V$ の部分集合\n",
    "\n",
    "$$\n",
    "W_1 \\cap W_2=\\left\\{\\boldsymbol{x} \\mid \\boldsymbol{x} \\in W_1 \\text { かつ } \\boldsymbol{x} \\in W_2\\right\\}\n",
    "$$\n",
    "\n",
    "は $V$ の部分空間であることを示せ。\n",
    ":::"
   ]
  },
  {
   "cell_type": "markdown",
   "id": "229c2fd2-9ff5-4f81-8c90-aa8a4bf7fdb1",
   "metadata": {},
   "source": [
    "$W_1 \\cap W_2 \\neq \\emptyset$は証明しようがない気がする\n",
    "\n",
    "1. $0 \\in W_1, 0 \\in W_2$のため、$0 \\in W_1 \\cap W_2$が成り立つ\n",
    "2. $x, y \\in W_i \\implies x + y \\in W_i \\quad (i = 1, 2)$のため、$x, y\\in W_1 \\cap W_2 \\implies x + y \\in W_1 \\cap W_2$が成り立つ\n",
    "3. $c \\in \\mathbb{R}$について、$x \\in W_i \\implies cx \\in W_i \\quad (i = 1, 2)$のため、$x \\in W_1 \\cap W_2 \\implies cx \\in W_1 \\cap W_2$が成り立つ\n"
   ]
  },
  {
   "cell_type": "markdown",
   "id": "7e3b9462-5477-47cd-9883-ef6cb6d1a2af",
   "metadata": {},
   "source": [
    ":::{card}\n",
    "\n",
    "2. $V$ の部分集合 $W_1+W_2$ を\n",
    "\n",
    "$$\n",
    "W_1+W_2=\\left\\{\\boldsymbol{x}+\\boldsymbol{y} \\mid \\boldsymbol{x} \\in W_1, \\boldsymbol{y} \\in W_2\\right\\}\n",
    "$$\n",
    "\n",
    "により定めると、 $W_1+W_2$ は $V$ の部分空間であることを示せ。この $W_1+W_2$ を $W_1$ と $W_2$ の和空間という。\n",
    ":::"
   ]
  },
  {
   "cell_type": "markdown",
   "id": "c2edc6af-08f1-4144-9cdc-0a88daeb0bf5",
   "metadata": {},
   "source": [
    "\n",
    "- $W_1 \\neq \\emptyset \\land W_2 \\neq \\emptyset \\implies W_1 + W_2 \\neq \\emptyset$\n",
    "1. $0 \\in W_1 \\land 0 \\in W_2$のため、$0 \\in W_1 + W_2$が成り立つ\n",
    "2. $(x, y \\in W_i \\implies x + y \\in W_i) \\ \\forall i (i = 1, 2)$のため、$x, y \\in W_1 \\cap W_2 \\implies x + y \\in W_1 + W_2$が成り立つ\n",
    "3. $c \\in \\mathbb{R}$について、$(x \\in W_i \\implies cx \\in W_i) \\forall i (i = 1, 2)$のため、$x \\in W_1 + W_2 \\implies cx \\in W_1 + W_2$\n"
   ]
  },
  {
   "cell_type": "markdown",
   "id": "7c72be37-a464-443e-97b8-5348710dcc8b",
   "metadata": {},
   "source": [
    "## 問3\n",
    "\n",
    ":::{card}\n",
    "\n",
    "$n$ 次以下の実数係数の $t$ に関する多項式全体の集合 $\\mathbb{R}[t]_n$ は $\\mathbb{R}[t]$ の部分空間であることを示せ。\n",
    ":::"
   ]
  },
  {
   "cell_type": "markdown",
   "id": "44ad0ddc-a69e-406c-be07-231cc2e95f24",
   "metadata": {},
   "source": [
    "(1) $0 \\in \\mathbb{R}$であり$t=0$となる$t$が存在するため、$0 \\in \\mathbb{R}[t]_n$\n",
    "\n",
    "(2) $\\mathbb{A}[t]_n, \\mathbb{B}[t]_n \\in \\mathbb{R}[t]_n$について、\n",
    "\n",
    "$$\n",
    "\\mathbb{A}[t]_n = \\left\\{ \\sum_{i=0}^n a_i t^i \\ \\Bigg| \\ a_0, a_1, \\dots, a_n \\in \\mathbb{R} \\right\\}\\\\\n",
    "\\mathbb{B}[t]_n = \\left\\{ \\sum_{i=0}^n a_i t^i \\ \\Bigg| \\ b_0, b_1, \\dots, b_n \\in \\mathbb{R} \\right\\}\n",
    "$$\n",
    "\n",
    "とすると\n",
    "\n",
    "$$\n",
    "\\mathbb{A}[t]_n + \\mathbb{B}[t]_n\n",
    "= \\left\\{ \\sum_{i=0}^n (a_i + b_i) t^i  \\ \\Bigg| \\ a_0, \\dots, a_n, b_0, \\dots, b_n \\in \\mathbb{R}  \\right\\}\n",
    "$$\n",
    "\n",
    "であり、$a_i + b_i \\in \\mathbb{R}$であるため、和について閉じている\n",
    "\n",
    "\n",
    "(3) 多項式$\\mathbb{R}[t]_n$のスカラー$c \\in \\mathbb{R}$倍は\n",
    "\n",
    "$$\n",
    "\\mathbb{R}[ct]_n\n",
    "= \\left\\{ \\sum_{i=0}^n c a_i t^i  \\ \\Bigg| \\ a_0, \\dots, a_n \\in \\mathbb{R}  \\right\\}\n",
    "$$\n",
    "\n",
    "であり、$c a_i \\in \\mathbb{R} \\forall i$であるため$\\mathbb{R}[ct]_n \\in \\mathbb{R}[t]_n$となり、スカラー倍についても閉じている\n",
    "\n",
    "\n",
    "よって$\\mathbb{R}[t]_n$は$\\mathbb{R}[t]$の部分空間である\n"
   ]
  },
  {
   "cell_type": "markdown",
   "id": "5d86deec-62f8-49ab-9f2e-08e16e07f8e4",
   "metadata": {},
   "source": [
    "## 問4\n",
    "\n",
    ":::{card}\n",
    "\n",
    "$A \\in M_{k, l}(\\mathbb{R}), B \\in M_{m, n}(\\mathbb{R}), C \\in M_{k, n}(\\mathbb{R})$ を固定しておき、 $M_{l, m}(\\mathbb{R})$ の部分集合 $W$ を\n",
    "\n",
    "$$\n",
    "W=\\left\\{X \\in M_{l, m}(\\mathbb{R}) \\mid A X B=C\\right\\}\n",
    "$$\n",
    "\n",
    "により定める。 $W$ が $M_{l, m}(\\mathbb{R})$ の部分空間になるのはどのようなときか。\n",
    ":::"
   ]
  },
  {
   "cell_type": "markdown",
   "id": "3dac7ad8-a240-4807-8d3b-97bdf5b91829",
   "metadata": {},
   "source": [
    ":::{margin}\n",
    "$M_{k, l}(\\mathbb{R})$は実数の行列の集合。$\\mathbb{R}^{k\\times l}$と同じ\n",
    ":::"
   ]
  },
  {
   "cell_type": "markdown",
   "id": "0eecb2e7-bfaa-4e58-aa4b-af7c3f70c369",
   "metadata": {},
   "source": [
    "$C=O$のとき。\n",
    "\n",
    "$C=O$なら、任意の$A,B$について$AXB=O$を満たすためには$X=O$である必要があるため、$O \\in W$"
   ]
  },
  {
   "cell_type": "markdown",
   "id": "fd1c0db1-b193-418d-a7fa-2b0b0cff375a",
   "metadata": {},
   "source": [
    "$X = O$なら$X_1, X_2 \\in W$について、\n",
    "\n",
    "和：$X_1 + X_2 = O + O = O \\in W$\n",
    "\n",
    "スカラー倍：$\\forall c \\in \\mathbb{R}, c X_1 = O \\in W$"
   ]
  },
  {
   "cell_type": "markdown",
   "id": "d50db487-2de4-4516-b4b7-062f7b4a684a",
   "metadata": {},
   "source": [
    ":::{dropdown} memo\n",
    "\n",
    "$A, B$が可逆の場合\n",
    "\n",
    "$$\n",
    "AXB = C\\\\\n",
    "A^{-1} A X B B^{-1} = A^{-1} C B^{-1}\\\\\n",
    "X = A^{-1} C B^{-1}\\\\\n",
    "$$\n",
    "\n",
    "もし$C=O$であれば、$X_1, X_2 \\in W$について\n",
    "\n",
    "$$\n",
    "X_1 = A^{-1} C B^{-1} = O\\\\\n",
    "X_2 = A^{-1} C B^{-1} = O\\\\\n",
    "X_1 + X_2 = O = A^{-1} C B^{-1} \\in W\n",
    "$$\n",
    "\n",
    "スカラー$s \\in \\mathbb{R}$倍は\n",
    "\n",
    "$$\n",
    "s X_1 = s A^{-1} C B^{-1} = O \\in W\n",
    "$$\n",
    ":::"
   ]
  },
  {
   "cell_type": "code",
   "execution_count": null,
   "id": "9b3d7f4a-cdbb-4e00-8563-b1a353620a3e",
   "metadata": {},
   "outputs": [],
   "source": [
    "TODO\n"
   ]
  },
  {
   "cell_type": "markdown",
   "id": "34710602-bb99-4ba4-81ab-20045397056e",
   "metadata": {},
   "source": [
    "## 問5\n",
    "\n",
    ":::{card}\n",
    "\n",
    "$n$ を 2 以上の自然数とし、 $M_n(\\mathbb{R})$ の部分集合 $W$ を\n",
    "\n",
    "$$\n",
    "W=\\left\\{X \\in M_n(\\mathbb{R})\\mid |X| =0\\right\\}\n",
    "$$\n",
    "\n",
    "により定める。 $W$ が $M_n(\\mathbb{R})$ の部分空間になるかどうかを調べよ。\n",
    ":::"
   ]
  },
  {
   "cell_type": "markdown",
   "id": "276d15b9-4d1c-4840-be2b-a6103d08b048",
   "metadata": {},
   "source": [
    "- $|X|=0$を満たす行列は実行列中に存在するので、$W\\neq \\emptyset$\n",
    "- 零行列の行列式は0になる$|O| = 0$ので$O \\in W$\n",
    "- 行列式の性質$|cA| = c^n|A| \\ (c\\in \\mathbb{R}, A \\in \\mathbb{R}^{n\\times n})$より、特異行列のスカラー倍も特異行列であるため、スカラー倍について閉じている\n",
    "- 特異行列の和も特異行列になりそうだが、わからない"
   ]
  },
  {
   "cell_type": "markdown",
   "id": "784b4a8e-ce4d-4ed0-9b72-ef71e30d9110",
   "metadata": {},
   "source": [
    "特異行列の和や定数倍が正則行列になるのか？"
   ]
  },
  {
   "cell_type": "code",
   "execution_count": 4,
   "id": "bd75fd0b-7776-4a50-bf61-bcc8d5cbd755",
   "metadata": {},
   "outputs": [
    {
     "data": {
      "text/plain": [
       "0.0"
      ]
     },
     "execution_count": 4,
     "metadata": {},
     "output_type": "execute_result"
    }
   ],
   "source": [
    "import numpy as np\n",
    "A = np.array([\n",
    "    [1, 1],\n",
    "    [1, 1],\n",
    "])\n",
    "\n",
    "np.linalg.det(A)"
   ]
  },
  {
   "cell_type": "code",
   "execution_count": 18,
   "id": "90830772-646c-42a3-9421-662ad9794f3b",
   "metadata": {},
   "outputs": [
    {
     "data": {
      "text/plain": [
       "0.0"
      ]
     },
     "execution_count": 18,
     "metadata": {},
     "output_type": "execute_result"
    }
   ],
   "source": [
    "np.linalg.det(A+A)"
   ]
  }
 ],
 "metadata": {
  "kernelspec": {
   "display_name": "Python 3 (ipykernel)",
   "language": "python",
   "name": "python3"
  },
  "language_info": {
   "codemirror_mode": {
    "name": "ipython",
    "version": 3
   },
   "file_extension": ".py",
   "mimetype": "text/x-python",
   "name": "python",
   "nbconvert_exporter": "python",
   "pygments_lexer": "ipython3",
   "version": "3.10.14"
  }
 },
 "nbformat": 4,
 "nbformat_minor": 5
}
