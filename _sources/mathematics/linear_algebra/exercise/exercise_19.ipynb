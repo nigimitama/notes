{
 "cells": [
  {
   "cell_type": "markdown",
   "id": "09963f7d-703c-49fa-b521-69ab725e7fd3",
   "metadata": {},
   "source": [
    "# 練習問題メモ 19（固有値と固有ベクトル その1－正方行列の定める線形変換の場合－）"
   ]
  },
  {
   "cell_type": "markdown",
   "id": "db2a6eb8-a15e-4082-8031-5806aea63973",
   "metadata": {},
   "source": [
    "## 問1\n",
    "\n",
    ":::{card}\n",
    "$A \\in M_n(\\mathbb{R}), \\lambda$ を $A$ の固有値とする。 $\\mathbb{R}^n$ の部分集合\n",
    "\n",
    "$$\n",
    "\\widetilde{W}(\\lambda)=\\left\\{\\boldsymbol{x} \\in \\mathbb{R}^n \\mid \\text { ある自然数 } k \\text { に対して }(\\lambda E-A)^k \\boldsymbol{x}=\\mathbf{0}\\right\\}\n",
    "$$\n",
    "\n",
    "は $\\mathbb{R}^n$ の部分空間であることを示せ。なお、 $\\widetilde{W}(\\lambda)$ を固有値 $\\lambda$ に対する $A$ の **広域固有空間** または **一般固有空間** という。\n",
    ":::"
   ]
  },
  {
   "cell_type": "markdown",
   "id": "e1171bd8-d914-415a-805e-140958a0cae7",
   "metadata": {},
   "source": [
    ":::{info}\n",
    "\n",
    "あるベクトル空間$V$の部分集合$W$が以下を満たす場合に部分空間となる\n",
    "\n",
    "1. $\\mathbb{0} \\in W$\n",
    "2. $a, b \\in W \\implies a + b \\in W$\n",
    "3. $a\\in W, c\\in \\mathbb{R} \\implies ca \\in W$\n",
    ":::"
   ]
  },
  {
   "cell_type": "markdown",
   "id": "d04fa092-9ef4-4a6f-b53e-1f8a7d7c9847",
   "metadata": {},
   "source": [
    "**(1) ゼロベクトルを含む**\n",
    "\n",
    "[広義固有空間の求め方【例題】](https://takataninote.com/linear-algebra/eigenspace.html) では、広義固有空間の定義として零を含むとしていたのでゼロベクトルを含む"
   ]
  },
  {
   "cell_type": "markdown",
   "id": "f478e8ff-6840-4e98-9bca-46328ca8e8eb",
   "metadata": {},
   "source": [
    "**(2) 和と定数倍について閉じている**\n",
    "\n",
    "$(\\lambda E-A)^k$という行列を線形写像$f$とおくと、一般固有空間は\n",
    "\n",
    "$$\n",
    "\\widetilde{W}(\\lambda) = \\operatorname{Ker} f =\\{\\boldsymbol{x} \\in \\mathbb{R}^n \\mid f(\\boldsymbol{x}) = \\mathbf{0} \\}\n",
    "$$\n",
    "\n",
    "となる。\n",
    "\n",
    "$x_1, x_2 \\in \\widetilde{W}(\\lambda)$について、カーネルの定義より\n",
    "\n",
    "$$\n",
    "f(x_1) = f(x_2) = 0\n",
    "$$\n",
    "\n",
    "\n",
    "線形写像の線形性から、$c_1, c_2 \\in \\mathbb{R}$について\n",
    "\n",
    "$$\n",
    "f(c_1 x_1 + c_2 x_2)\n",
    "= c_1 f(x_1) + c_2 f(x_2)\n",
    "= 0\n",
    "$$\n",
    "\n",
    "なので$c_1 x_1 + c_2 x_2 \\widetilde{W}(\\lambda)$ である。\n",
    "\n",
    "よって和と定数倍に閉じていて空集合でないため、$\\widetilde{W}(\\lambda)$は$\\mathbb{R}^n$の部分空間である。\n"
   ]
  },
  {
   "cell_type": "markdown",
   "id": "0c86e5a8-1681-4d0d-8b10-c643855526e6",
   "metadata": {},
   "source": [
    "## 問2\n",
    "\n",
    ":::{card}\n",
    "\n",
    "次の１～３の正方行列の固有値と固有値に対する 1 つの固有ベクトルおよび固有空間を求めよ。\n",
    "\n",
    "1. $\\left(\\begin{array}{ll}1 & 1 \\\\ 2 & 2\\end{array}\\right)$\n",
    "2. $\\left(\\begin{array}{lll}1 & 2 & 0 \\\\ 2 & 2 & 2 \\\\ 0 & 2 & 3\\end{array}\\right)$\n",
    "3. $\\left(\\begin{array}{lll}2 & 1 & 1 \\\\ 1 & 2 & 1 \\\\ 1 & 1 & 2\\end{array}\\right)$\n",
    ":::"
   ]
  },
  {
   "cell_type": "markdown",
   "id": "f51e85af-0adc-435b-ab54-88af0aa134c7",
   "metadata": {},
   "source": [
    ":::{card}\n",
    "\n",
    "1. $\\left(\\begin{array}{ll}1 & 1 \\\\ 2 & 2\\end{array}\\right)$\n",
    ":::"
   ]
  },
  {
   "cell_type": "markdown",
   "id": "706ae447-116f-45c4-960a-ed543af0c16a",
   "metadata": {},
   "source": [
    "1. 固有値を求める\n",
    "\n",
    "$(A-\\lambda E)x = 0$が非自明な解$x\\neq 0$を持つためには$\\det(A - \\lambda E)=0$である必要があるため、そのような$\\lambda$を求める\n",
    "\n",
    "$$\n",
    "\\begin{aligned}\n",
    "\\det(A - \\lambda E)\\\\\n",
    "&= \\det\n",
    "\\begin{pmatrix}\n",
    "1 - \\lambda & 1\\\\\n",
    "2 & 2 - \\lambda\n",
    "\\end{pmatrix}\\\\\n",
    "&= (1 - \\lambda)(2 - \\lambda) - 2\\\\\n",
    "&= 2 - 3\\lambda + \\lambda^2 - 2\\\\\n",
    "&= (\\lambda - 3) \\lambda\\\\\n",
    "&= 0\n",
    "\\end{aligned}\n",
    "$$\n",
    "\n",
    "なので、$\\lambda = 0, 3$\n"
   ]
  },
  {
   "cell_type": "markdown",
   "id": "0a8cf7e8-49e5-4517-a121-3b4d7283cbb1",
   "metadata": {},
   "source": [
    "$\\lambda = 0$の場合：\n",
    "\n",
    "$$\n",
    "Ax = \\lambda x\n",
    "$$\n",
    "\n",
    "は\n",
    "\n",
    "$$\n",
    "\\begin{pmatrix}\n",
    "1 & 1\\\\\n",
    "2 & 2\n",
    "\\end{pmatrix}\n",
    "\\begin{pmatrix}\n",
    "x_1 \\\\ x_2\n",
    "\\end{pmatrix}\n",
    "= \\lambda \n",
    "\\begin{pmatrix}\n",
    "x_1 \\\\ x_2\n",
    "\\end{pmatrix}\n",
    "$$\n",
    "\n",
    "であり\n",
    "\n",
    "$$\n",
    "\\begin{cases}\n",
    "x_1 + x_2 = 0\\\\\n",
    "2 x_1 + 2 x_2 = 0\n",
    "\\end{cases}\n",
    "$$\n",
    "\n",
    "となる。\n",
    "\n",
    "これを解くと\n",
    "\n",
    "$$\n",
    "x_1 = -x_2\n",
    "$$\n",
    "\n",
    "であるため、未知の数$s$をおいて\n",
    "\n",
    "$$\n",
    "\\boldsymbol{x} = \n",
    "s\n",
    "\\begin{pmatrix}\n",
    "1 \\\\ -1\n",
    "\\end{pmatrix}\n",
    "$$\n"
   ]
  },
  {
   "cell_type": "markdown",
   "id": "240b745b-32c7-49cc-baf2-b2304c05417f",
   "metadata": {},
   "source": [
    "$\\lambda = 3$の場合：\n",
    "\n",
    "$$\n",
    "Ax = \\lambda x\n",
    "$$\n",
    "\n",
    "は\n",
    "\n",
    "$$\n",
    "\\begin{cases}\n",
    "x_1 + x_2 = 3x_1\\\\\n",
    "2 x_1 + 2 x_2 = 3x_2\n",
    "\\end{cases}\n",
    "$$\n",
    "\n",
    "となる。\n",
    "\n",
    "これを解くと\n",
    "\n",
    "$$\n",
    "x_2 = 2 x_1\n",
    "$$\n",
    "\n",
    "であるため、未知の数$t$をおいて\n",
    "\n",
    "$$\n",
    "\\boldsymbol{x} = \n",
    "t\n",
    "\\begin{pmatrix}\n",
    "2 \\\\ 1\n",
    "\\end{pmatrix}\n",
    "$$\n"
   ]
  },
  {
   "cell_type": "code",
   "execution_count": 1,
   "id": "2ab9baad-f572-4ea6-89d0-1fb69f9087db",
   "metadata": {},
   "outputs": [
    {
     "name": "stdout",
     "output_type": "stream",
     "text": [
      "\n",
      "λ=[0. 3.]\n",
      "x=[-0.447 -0.894]\n",
      "y=[-0.707  0.707]\n",
      "\n"
     ]
    }
   ],
   "source": [
    "import numpy as np\n",
    "\n",
    "A = np.array([\n",
    "    [1, 1],\n",
    "    [2, 2],\n",
    "])\n",
    "\n",
    "lambdas, vectors = np.linalg.eig(A)\n",
    "print(f\"\"\"\n",
    "λ={lambdas}\n",
    "x={vectors[:, 1].round(3)}\n",
    "y={vectors[:, 0].round(3)}\n",
    "\"\"\")"
   ]
  },
  {
   "cell_type": "markdown",
   "id": "7b7d3e71-d834-4199-9cfa-baaae8713bc1",
   "metadata": {},
   "source": []
  },
  {
   "cell_type": "markdown",
   "id": "57a479b5-e326-4655-a418-8b31713a8a7c",
   "metadata": {},
   "source": [
    ":::{card}\n",
    "\n",
    "2. $\\left(\\begin{array}{lll}1 & 2 & 0 \\\\ 2 & 2 & 2 \\\\ 0 & 2 & 3\\end{array}\\right)$\n",
    ":::"
   ]
  },
  {
   "cell_type": "markdown",
   "id": "77821144-dd8b-43e7-952d-8db77c333b74",
   "metadata": {},
   "source": [
    ":::{card}\n",
    "\n",
    "3. $\\left(\\begin{array}{lll}2 & 1 & 1 \\\\ 1 & 2 & 1 \\\\ 1 & 1 & 2\\end{array}\\right)$\n",
    ":::"
   ]
  },
  {
   "cell_type": "markdown",
   "id": "71b4bea9-9041-4036-8e4c-748f1c8ca6e5",
   "metadata": {},
   "source": []
  },
  {
   "cell_type": "markdown",
   "id": "d8bc8401-ac01-4c42-9606-dd2e32224577",
   "metadata": {},
   "source": [
    "## 問3\n",
    "\n",
    ":::{card}\n",
    "正方行列 $A$ および $\\lambda$ に関する多項式 $f(\\lambda)$ をそれぞれ\n",
    "\n",
    "$$\n",
    "A=\\left(\\begin{array}{cc}\n",
    "\\frac{1}{3} & 11 \\\\\n",
    "\\frac{1}{9} & \\frac{2}{3}\n",
    "\\end{array}\\right), \\quad f(\\lambda)=\\lambda^4-\\lambda^3-\\lambda^2+9 \\lambda-1\n",
    "$$\n",
    "\n",
    "により定める。行列多項式 $f(A)$ を計算せよ。\n",
    ":::"
   ]
  },
  {
   "cell_type": "code",
   "execution_count": null,
   "id": "617cf5c7-ddbf-4845-b62e-cea37d395b3c",
   "metadata": {},
   "outputs": [],
   "source": []
  }
 ],
 "metadata": {
  "kernelspec": {
   "display_name": "Python 3 (ipykernel)",
   "language": "python",
   "name": "python3"
  },
  "language_info": {
   "codemirror_mode": {
    "name": "ipython",
    "version": 3
   },
   "file_extension": ".py",
   "mimetype": "text/x-python",
   "name": "python",
   "nbconvert_exporter": "python",
   "pygments_lexer": "ipython3",
   "version": "3.10.14"
  }
 },
 "nbformat": 4,
 "nbformat_minor": 5
}
