{
 "cells": [
  {
   "cell_type": "markdown",
   "id": "0c6cc717-93e8-4fa9-9f85-3d745e847675",
   "metadata": {},
   "source": [
    "# 練習問題\n",
    "\n",
    ":::{tableofcontents}\n",
    ":::"
   ]
  }
 ],
 "metadata": {
  "kernelspec": {
   "display_name": "Python 3 (ipykernel)",
   "language": "python",
   "name": "python3"
  },
  "language_info": {
   "codemirror_mode": {
    "name": "ipython",
    "version": 3
   },
   "file_extension": ".py",
   "mimetype": "text/x-python",
   "name": "python",
   "nbconvert_exporter": "python",
   "pygments_lexer": "ipython3",
   "version": "3.9.18"
  }
 },
 "nbformat": 4,
 "nbformat_minor": 5
}
