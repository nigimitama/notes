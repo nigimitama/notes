{
 "cells": [
  {
   "cell_type": "markdown",
   "id": "152aaeb6-8f9e-4295-9e11-7b31f944d83c",
   "metadata": {},
   "source": [
    "# 練習問題メモ 20（固有値と固有ベクトル その2－一般の線形変換の場合－）"
   ]
  },
  {
   "cell_type": "markdown",
   "id": "157d3c25-7bd4-43df-b58c-69fdfe77a0b7",
   "metadata": {},
   "source": [
    "## 問1\n",
    "\n",
    ":::{card}\n",
    "写像 $\\Psi: \\mathbb{R}[t]_2 \\rightarrow \\mathbb{R}[t]_2$ を\n",
    "\n",
    "$$\n",
    "\\Psi(f(t))=f(-t)+\\frac{d}{d t} f(t) \\quad\\left(f(t) \\in \\mathbb{R}[t]_2\\right)\n",
    "$$\n",
    "\n",
    "により定めると、 $\\Psi$ は $\\mathbb{R}[t]_2$ の線形変換を定めることがわかる。 \n",
    "$\\mathbb{R}[t]_2$ の基底 $\\left\\{1, t, t^2\\right\\}$ に関する $\\Psi$ の表現行列、 $\\Psi$ の固有値、 $\\Psi$ の各固有値に対する固有空間を求めよ。\n",
    ":::"
   ]
  },
  {
   "cell_type": "markdown",
   "id": "54095a87-c633-4b1f-a752-d1dc27c188f3",
   "metadata": {},
   "source": [
    ":::{card}\n",
    "$\\mathbb{R}[t]_2$ の基底 $\\left\\{1, t, t^2\\right\\}$ に関する $\\Psi$ の表現行列\n",
    ":::"
   ]
  },
  {
   "cell_type": "markdown",
   "id": "989d24b7-b4a8-43f8-b9b5-5ecb1d121e93",
   "metadata": {},
   "source": [
    "表現行列は\n",
    "\n",
    "$$\n",
    "\\begin{pmatrix} \\Psi(f(1)) & \\Psi(f(t)) & \\Psi(f(t^2)) \\end{pmatrix}\n",
    "= \\begin{pmatrix} 1 & t & t^2 \\end{pmatrix} A\n",
    "$$\n",
    "\n",
    "を満たす行列$A$のこと。\n",
    "\n",
    "$$\n",
    "\\begin{pmatrix} \\Psi(f(1)) & \\Psi(f(t)) & \\Psi(f(t^2)) \\end{pmatrix}\n",
    "= \n",
    "\\begin{pmatrix}\n",
    "f(-1) + \\frac{d}{dt}f(1) &\n",
    "f(-t) + \\frac{d}{dt}f(t) &\n",
    "f(-t^2) + \\frac{d}{dt}f(t^2) \n",
    "\\end{pmatrix}\n",
    "$$\n",
    "\n",
    "なので、あてはまるように$A$を求める"
   ]
  },
  {
   "cell_type": "markdown",
   "id": "325f319b-3767-487d-8fd6-6934a600bcfa",
   "metadata": {},
   "source": [
    "$f$は線形写像のため、$t f(1) = f(t)$\n",
    "\n",
    "$$\n",
    "\\begin{pmatrix} 1 & t & t^2 \\end{pmatrix}\n",
    "\\begin{pmatrix}\n",
    "    0\\\\\n",
    "    f(-f^{-1})\\\\\n",
    "    \\frac{d}{dt} f(t^{-2})\n",
    "\\end{pmatrix}\n",
    "= f(-1) + \\frac{d}{dt}f(1)\n",
    "$$\n",
    "\n",
    "$$\n",
    "\\begin{pmatrix} 1 & t & t^2 \\end{pmatrix}\n",
    "\\begin{pmatrix}\n",
    "    0\\\\\n",
    "    f(-1)\\\\\n",
    "    \\frac{d}{dt} f(t^{-1})\n",
    "\\end{pmatrix}\n",
    "= f(-t) + \\frac{d}{dt}f(t)\n",
    "$$\n",
    "\n",
    "$$\n",
    "\\begin{pmatrix} 1 & t & t^2 \\end{pmatrix}\n",
    "\\begin{pmatrix}\n",
    "    0\\\\\n",
    "    f(-t)\\\\\n",
    "    \\frac{d}{dt} f(1)\n",
    "\\end{pmatrix}\n",
    "= f(-t^2) + \\frac{d}{dt}f(t^2)\n",
    "$$\n",
    "\n",
    "なので"
   ]
  },
  {
   "cell_type": "markdown",
   "id": "f417ea21-fcc9-4829-9b27-348b9b9ce8ef",
   "metadata": {},
   "source": [
    "$$\n",
    "\\begin{pmatrix} 1 & t & t^2 \\end{pmatrix}\n",
    "\\begin{pmatrix}\n",
    "    0 & 0 & 0\\\\\n",
    "    f(-t^{-1}) & f(-1) & f(-t)\\\\\n",
    "    \\frac{d}{dt} f(t^{-2}) & \\frac{d}{dt} f(t^{-1})\n",
    "    & \\frac{d}{dt} f(1)\n",
    "\\end{pmatrix}\n",
    "=\n",
    "\\begin{pmatrix}\n",
    "f(-1) + \\frac{d}{dt}f(1) &\n",
    "f(-t) + \\frac{d}{dt}f(t) &\n",
    "f(-t^2) + \\frac{d}{dt}f(t^2) \n",
    "\\end{pmatrix}\n",
    "= \\begin{pmatrix} \\Psi(f(1)) & \\Psi(f(t)) & \\Psi(f(t^2)) \\end{pmatrix}\n",
    "$$"
   ]
  },
  {
   "cell_type": "markdown",
   "id": "4d9bf2be-524a-48a2-8e8f-ef911fbf1708",
   "metadata": {},
   "source": [
    "よって表現行列$A$は\n",
    "\n",
    "$$\n",
    "\\begin{pmatrix}\n",
    "    0 & 0 & 0\\\\\n",
    "    f(-t^{-1}) & f(-1) & f(-t)\\\\\n",
    "    \\frac{d}{dt} f(t^{-2}) & \\frac{d}{dt} f(t^{-1})\n",
    "    & \\frac{d}{dt} f(1)\n",
    "\\end{pmatrix}\n",
    "$$"
   ]
  },
  {
   "cell_type": "markdown",
   "id": "b24f8edd-bdbf-456a-be70-f25c3e995c3a",
   "metadata": {},
   "source": [
    ":::{card}\n",
    "\n",
    "$\\Psi$ の固有値\n",
    ":::"
   ]
  },
  {
   "cell_type": "markdown",
   "id": "22e64f1f-6bc3-48fe-b6aa-861c9063bd45",
   "metadata": {},
   "source": [
    "行列表現の固有値でよさそう？"
   ]
  },
  {
   "cell_type": "markdown",
   "id": "58a18062-548c-4e44-a33a-3eac246858a4",
   "metadata": {},
   "source": [
    "$$\n",
    "\\det(A - \\lambda E) = 0\n",
    "$$"
   ]
  },
  {
   "cell_type": "markdown",
   "id": "5b84473a-c816-4d91-95d4-fd555ee8e3cc",
   "metadata": {},
   "source": [
    "$$\n",
    "\\det\n",
    "\\begin{pmatrix}\n",
    "    -\\lambda & 0 & 0\\\\\n",
    "    f(-t^{-1}) & f(-1)-\\lambda & f(-t)\\\\\n",
    "    \\frac{d}{dt} f(t^{-2}) & \\frac{d}{dt} f(t^{-1}) & \\frac{d}{dt} f(1)-\\lambda\n",
    "\\end{pmatrix}\n",
    "=\n",
    "-\\lambda\n",
    "\\det\n",
    "\\begin{pmatrix}\n",
    "    f(-1)-\\lambda & f(-t)\\\\\n",
    "    \\frac{d}{dt} f(t^{-1}) & \\frac{d}{dt} f(1)-\\lambda\n",
    "\\end{pmatrix}\n",
    "\\\\\n",
    "=\n",
    "-\\lambda \\left\\{\n",
    "(f(-1)-\\lambda) \\cdot \\left( \\frac{d}{dt} f(1)-\\lambda \\right)\n",
    "- f(-t) \\cdot \\left( \\frac{d}{dt} f(t^{-1}) \\right)\n",
    "\\right\\}\n",
    "\\\\\n",
    "=\n",
    "-\\lambda \\left\\{\n",
    "f(-1) \\frac{d}{dt} f(1) - \\lambda \\frac{d}{dt} f(1) + \\lambda^2\n",
    "- f(-t) \\frac{d}{dt} f(t^{-1})\n",
    "\\right\\}\n",
    "$$"
   ]
  },
  {
   "cell_type": "code",
   "execution_count": null,
   "id": "d8a1867c-8ef7-4807-b9b4-0881a3ce5eae",
   "metadata": {},
   "outputs": [],
   "source": []
  },
  {
   "cell_type": "markdown",
   "id": "4d544963-e233-4eba-8e2c-4e385351158c",
   "metadata": {},
   "source": [
    ":::{card}\n",
    "\n",
    "$\\Psi$ の各固有値に対する固有空間\n",
    ":::"
   ]
  },
  {
   "cell_type": "markdown",
   "id": "8e84f4de-1c41-4ac6-bb75-7c1e13468a11",
   "metadata": {},
   "source": []
  },
  {
   "cell_type": "code",
   "execution_count": null,
   "id": "19493a2a-3470-46f9-a3ac-481f12563962",
   "metadata": {},
   "outputs": [],
   "source": []
  },
  {
   "cell_type": "markdown",
   "id": "d69d3142-467f-4ed8-a806-4a7ca402c67b",
   "metadata": {},
   "source": [
    "## 問2\n",
    "\n",
    ":::{card}\n",
    "$M_2(\\mathbb{R})$ の部分集合 $W$ を\n",
    "\n",
    "$$\n",
    "W=\\left\\{\\left.\\left(\\begin{array}{ll}\n",
    "x_1 & x_2 \\\\\n",
    "x_2 & x_1\n",
    "\\end{array}\\right) \\in M_2(\\mathbb{R}) \\right\\rvert\\, x_1, x_2 \\in \\mathbb{R}\\right\\}\n",
    "$$\n",
    "\n",
    "により定める。\n",
    "1. $W$ は $M_2(\\mathbb{R})$ の部分空間であることを示せ。\n",
    "2. $E_1, E_2 \\in W$ を\n",
    "\n",
    "$$\n",
    "E_1=\\left(\\begin{array}{ll}\n",
    "1 & 0 \\\\\n",
    "0 & 1\n",
    "\\end{array}\\right), \\quad E_2=\\left(\\begin{array}{ll}\n",
    "0 & 1 \\\\\n",
    "1 & 0\n",
    "\\end{array}\\right)\n",
    "$$\n",
    "\n",
    "\n",
    "により定める。 $\\left\\{E_1, E_2\\right\\}$ は $W$ の基底であることを示せ。\n",
    ":::"
   ]
  },
  {
   "cell_type": "markdown",
   "id": "de2f31c1-302b-4dbd-8db4-e5dc744654e6",
   "metadata": {},
   "source": [
    ":::{card}\n",
    "\n",
    "1. $W$ は $M_2(\\mathbb{R})$ の部分空間であることを示せ。\n",
    ":::"
   ]
  },
  {
   "cell_type": "markdown",
   "id": "e12f6fea-dda8-4473-9ea4-862f4deb65ba",
   "metadata": {},
   "source": [
    "(1) $x_1, x_2 \\in \\mathbb{R}$はともに0になりうるため、$O\\in W$\n",
    "\n",
    "(2) $X, Y \\in W$とする。$X + Y$の各要素は$\\mathbb{R}$に含まれるため、$X+Y\\in W$\n",
    "\n",
    "(3) $X \\in W, c\\in\\mathbb{R}$とする。$c X$の各要素は$\\mathbb{R}$に含まれるため、$cX \\in W$\n",
    "\n",
    "(1)~(3)より、部分空間の定義を満たすため、$W$は部分空間である"
   ]
  },
  {
   "cell_type": "markdown",
   "id": "26bb5fa5-f129-4b70-80a8-ed9f85567c1d",
   "metadata": {},
   "source": [
    ":::{card}\n",
    "\n",
    "2. $\\left\\{E_1, E_2\\right\\}$ は $W$ の基底であることを示せ。\n",
    ":::"
   ]
  },
  {
   "cell_type": "markdown",
   "id": "669b95b8-81a7-4415-b9b1-76ce40978217",
   "metadata": {},
   "source": []
  },
  {
   "cell_type": "code",
   "execution_count": null,
   "id": "1fb10960-1b36-41ef-8b98-7fc49bc7b36f",
   "metadata": {},
   "outputs": [],
   "source": []
  },
  {
   "cell_type": "markdown",
   "id": "a821a485-614e-4c31-b989-3dae6e0f37f6",
   "metadata": {},
   "source": [
    "## 問3\n",
    "\n",
    ":::{card}\n",
    "写像 $\\Psi: \\mathbb{R}[t]_2 \\rightarrow \\mathbb{R}[t]_2$ を\n",
    "\n",
    "$$\n",
    "\\Psi(f(t))=2 f(t)+\\int_0^1 f(t) d t \\quad\\left(f(t) \\in \\mathbb{R}[t]_2\\right)\n",
    "$$\n",
    "\n",
    ":::"
   ]
  },
  {
   "cell_type": "markdown",
   "id": "1eab12fe-01c5-4ebb-a935-0ba1102109a3",
   "metadata": {},
   "source": [
    "## 問1\n",
    "\n",
    ":::{card}\n",
    "\n",
    ":::"
   ]
  }
 ],
 "metadata": {
  "kernelspec": {
   "display_name": "Python 3 (ipykernel)",
   "language": "python",
   "name": "python3"
  },
  "language_info": {
   "codemirror_mode": {
    "name": "ipython",
    "version": 3
   },
   "file_extension": ".py",
   "mimetype": "text/x-python",
   "name": "python",
   "nbconvert_exporter": "python",
   "pygments_lexer": "ipython3",
   "version": "3.10.14"
  }
 },
 "nbformat": 4,
 "nbformat_minor": 5
}
