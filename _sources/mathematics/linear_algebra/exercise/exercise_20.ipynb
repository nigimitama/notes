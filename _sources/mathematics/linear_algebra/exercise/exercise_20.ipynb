{
 "cells": [
  {
   "cell_type": "markdown",
   "id": "152aaeb6-8f9e-4295-9e11-7b31f944d83c",
   "metadata": {},
   "source": [
    "# 練習問題メモ 20（固有値と固有ベクトル その2－一般の線形変換の場合－）"
   ]
  },
  {
   "cell_type": "markdown",
   "id": "157d3c25-7bd4-43df-b58c-69fdfe77a0b7",
   "metadata": {},
   "source": [
    "## 問1\n",
    "\n",
    ":::{card}\n",
    "写像 $\\Psi: \\mathbb{R}[t]_2 \\rightarrow \\mathbb{R}[t]_2$ を\n",
    "\n",
    "$$\n",
    "\\Psi(f(t))=f(-t)+\\frac{d}{d t} f(t) \\quad\\left(f(t) \\in \\mathbb{R}[t]_2\\right)\n",
    "$$\n",
    "\n",
    "により定めると、 $\\Psi$ は $\\mathbb{R}[t]_2$ の線形変換を定めることがわかる。 \n",
    "$\\mathbb{R}[t]_2$ の基底 $\\left\\{1, t, t^2\\right\\}$ に関する $\\Psi$ の表現行列、 $\\Psi$ の固有値、 $\\Psi$ の各固有値に対する固有空間を求めよ。\n",
    ":::"
   ]
  },
  {
   "cell_type": "markdown",
   "id": "54095a87-c633-4b1f-a752-d1dc27c188f3",
   "metadata": {},
   "source": [
    ":::{card}\n",
    "$\\mathbb{R}[t]_2$ の基底 $\\left\\{1, t, t^2\\right\\}$ に関する $\\Psi$ の表現行列\n",
    ":::"
   ]
  },
  {
   "cell_type": "markdown",
   "id": "989d24b7-b4a8-43f8-b9b5-5ecb1d121e93",
   "metadata": {},
   "source": [
    "$$\n",
    "\\begin{pmatrix} \\Psi(f(1)) & \\Psi(f(t)) & \\Psi(f(t^2)) \\end{pmatrix}\n",
    "= \\begin{pmatrix} 1 & t & t^2 \\end{pmatrix} A\n",
    "$$"
   ]
  },
  {
   "cell_type": "markdown",
   "id": "b24f8edd-bdbf-456a-be70-f25c3e995c3a",
   "metadata": {},
   "source": [
    ":::{card}\n",
    "\n",
    "$\\Psi$ の固有値\n",
    ":::"
   ]
  },
  {
   "cell_type": "markdown",
   "id": "22e64f1f-6bc3-48fe-b6aa-861c9063bd45",
   "metadata": {},
   "source": []
  },
  {
   "cell_type": "markdown",
   "id": "4d544963-e233-4eba-8e2c-4e385351158c",
   "metadata": {},
   "source": [
    ":::{card}\n",
    "\n",
    "$\\Psi$ の各固有値に対する固有空間\n",
    ":::"
   ]
  },
  {
   "cell_type": "markdown",
   "id": "8e84f4de-1c41-4ac6-bb75-7c1e13468a11",
   "metadata": {},
   "source": []
  },
  {
   "cell_type": "code",
   "execution_count": null,
   "id": "19493a2a-3470-46f9-a3ac-481f12563962",
   "metadata": {},
   "outputs": [],
   "source": []
  },
  {
   "cell_type": "markdown",
   "id": "d69d3142-467f-4ed8-a806-4a7ca402c67b",
   "metadata": {},
   "source": [
    "## 問2\n",
    "\n",
    ":::{card}\n",
    "$M_2(\\mathbb{R})$ の部分集合 $W$ を\n",
    "\n",
    "$$\n",
    "W=\\left\\{\\left.\\left(\\begin{array}{ll}\n",
    "x_1 & x_2 \\\\\n",
    "x_2 & x_1\n",
    "\\end{array}\\right) \\in M_2(\\mathbb{R}) \\right\\rvert\\, x_1, x_2 \\in \\mathbb{R}\\right\\}\n",
    "$$\n",
    "\n",
    "により定める。\n",
    "1. $W$ は $M_2(\\mathbb{R})$ の部分空間であることを示せ。\n",
    "2. $E_1, E_2 \\in W$ を\n",
    "\n",
    "$$\n",
    "E_1=\\left(\\begin{array}{ll}\n",
    "1 & 0 \\\\\n",
    "0 & 1\n",
    "\\end{array}\\right), \\quad E_2=\\left(\\begin{array}{ll}\n",
    "0 & 1 \\\\\n",
    "1 & 0\n",
    "\\end{array}\\right)\n",
    "$$\n",
    "\n",
    "\n",
    "により定める。 $\\left\\{E_1, E_2\\right\\}$ は $W$ の基底であることを示せ。\n",
    ":::"
   ]
  },
  {
   "cell_type": "markdown",
   "id": "a821a485-614e-4c31-b989-3dae6e0f37f6",
   "metadata": {},
   "source": [
    "## 問1\n",
    "\n",
    ":::{card}\n",
    "\n",
    ":::"
   ]
  },
  {
   "cell_type": "markdown",
   "id": "1eab12fe-01c5-4ebb-a935-0ba1102109a3",
   "metadata": {},
   "source": [
    "## 問1\n",
    "\n",
    ":::{card}\n",
    "\n",
    ":::"
   ]
  }
 ],
 "metadata": {
  "kernelspec": {
   "display_name": "Python 3 (ipykernel)",
   "language": "python",
   "name": "python3"
  },
  "language_info": {
   "codemirror_mode": {
    "name": "ipython",
    "version": 3
   },
   "file_extension": ".py",
   "mimetype": "text/x-python",
   "name": "python",
   "nbconvert_exporter": "python",
   "pygments_lexer": "ipython3",
   "version": "3.10.14"
  }
 },
 "nbformat": 4,
 "nbformat_minor": 5
}
