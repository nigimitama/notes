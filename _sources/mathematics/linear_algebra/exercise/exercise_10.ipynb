{
 "cells": [
  {
   "cell_type": "markdown",
   "id": "52a7cf11-dc05-43b3-a671-16d01bdd4dd0",
   "metadata": {},
   "source": [
    "# 練習問題メモ 10（特別な形をした行列式）"
   ]
  },
  {
   "cell_type": "markdown",
   "id": "c2197875-26a6-4990-a6bd-e39c03a7b74a",
   "metadata": {},
   "source": [
    "## 10.1\n",
    "\n",
    "ヴァンデルモンドの行列式について、次の問いに答えよ。\n",
    "\n",
    ":::{card}\n",
    "\n",
    "1. 行列式\n",
    "\n",
    "$$\n",
    "\\left|\\begin{array}{ccc}1 & 1 & 1 \\\\ 1 & 2 & 3 \\\\ 1^2 & 2^2 & 3^2\\end{array}\\right|\n",
    "$$\n",
    "\n",
    "をサラスの方法とヴァンデルモンドの行列式を用いる方法の 2 通りで計算せよ。\n",
    ":::"
   ]
  },
  {
   "cell_type": "markdown",
   "id": "4a32b1f2-6e5a-48e9-8345-971bcecca2da",
   "metadata": {},
   "source": [
    "サラスの方法：\n",
    "\n",
    "$$\n",
    "\\left|\\begin{array}{ccc}1 & 1 & 1 \\\\ 1 & 2 & 3 \\\\ 1^2 & 2^2 & 3^2\\end{array}\\right|\n",
    "= 2\\times 3^2 + 3 + 2^2 - 2 - 3^2 - 2^2 \\times 3\\\\\n",
    "= 18 + 3 + 4 - 2 - 9 - 12\\\\\n",
    "= 21 + 4 - 2 - 21\\\\\n",
    "= 2\n",
    "$$"
   ]
  },
  {
   "cell_type": "markdown",
   "id": "bbe4e62a-173e-4727-8be8-c9f735c37a2b",
   "metadata": {},
   "source": [
    "ヴァンデルモンド\n",
    "\n",
    "$$\n",
    "\\left|\\begin{array}{ccc}1 & 1 & 1 \\\\ 1 & 2 & 3 \\\\ 1^2 & 2^2 & 3^2\\end{array}\\right|\n",
    "= (2 - 1)(3- 1) (3- 2)\\\\\n",
    "= 1 \\times 2 \\times 1\\\\\n",
    "= 2\n",
    "$$\n"
   ]
  },
  {
   "cell_type": "markdown",
   "id": "d5015d67-efbb-4142-b75f-dd0793de0075",
   "metadata": {},
   "source": [
    ":::{card}\n",
    "2. 行列式\n",
    "\n",
    "$$\n",
    "\\left|\\begin{array}{ccccc}\n",
    "1 & 1 & 1 & \\cdots & 1 \\\\\n",
    "1 & 2 & 3 & \\cdots & n \\\\\n",
    "1^2 & 2^2 & 3^2 & \\cdots & n^2 \\\\\n",
    "\\vdots & \\vdots & \\vdots & \\ddots & \\vdots \\\\\n",
    "1^{n-1} & 2^{n-1} & 3^{n-1} & \\cdots & n^{n-1}\n",
    "\\end{array}\\right|\n",
    "$$\n",
    "\n",
    "を計算せよ\n",
    ":::"
   ]
  },
  {
   "cell_type": "markdown",
   "id": "9d5b789f-ff27-43c9-b015-9adc01e3fe9f",
   "metadata": {},
   "source": [
    "$$\n",
    "(2-1)(3-1)\\times \\cdots \\times (n-1)\\\\\n",
    "\\times (3-2)(4-2)\\times \\cdots \\times (n-2)\\\\\n",
    "\\vdots\\\\\n",
    "\\times\n",
    "$$"
   ]
  },
  {
   "cell_type": "markdown",
   "id": "afbe3166-b421-46e8-a0f6-d960c18091b1",
   "metadata": {},
   "source": [
    "(2-1)(3-1)\n",
    "(3-2)(4-2)\n",
    "(4-3)"
   ]
  },
  {
   "cell_type": "code",
   "execution_count": null,
   "id": "a7ae0b13-a36e-49fe-8081-8549302e17d0",
   "metadata": {},
   "outputs": [],
   "source": []
  }
 ],
 "metadata": {
  "kernelspec": {
   "display_name": "Python 3 (ipykernel)",
   "language": "python",
   "name": "python3"
  },
  "language_info": {
   "codemirror_mode": {
    "name": "ipython",
    "version": 3
   },
   "file_extension": ".py",
   "mimetype": "text/x-python",
   "name": "python",
   "nbconvert_exporter": "python",
   "pygments_lexer": "ipython3",
   "version": "3.9.18"
  }
 },
 "nbformat": 4,
 "nbformat_minor": 5
}
