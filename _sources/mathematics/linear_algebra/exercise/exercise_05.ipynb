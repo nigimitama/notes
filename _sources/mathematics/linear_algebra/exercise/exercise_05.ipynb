{
 "cells": [
  {
   "cell_type": "markdown",
   "id": "bc32e066-b046-4c95-886c-4f72866fa9cc",
   "metadata": {},
   "source": [
    "# 練習問題メモ 5（連立1次方程式）"
   ]
  },
  {
   "cell_type": "markdown",
   "id": "df8a157e-a181-4270-9cd8-4c022cabdd5c",
   "metadata": {},
   "source": [
    "## 5.1\n",
    "\n",
    "> 掃き出し法により、次の1～3の連立1次方程式を解け。また、係数行列および拡大係数行列について、それぞれの階数を求めよ"
   ]
  },
  {
   "cell_type": "markdown",
   "id": "6c97c75a-2edc-4232-8ef5-163ec9775c85",
   "metadata": {},
   "source": [
    "### 1.\n",
    "\n",
    "> 1. \n",
    "$$\n",
    "\\left(\\begin{array}{ll}\n",
    "1 & 2 \\\\\n",
    "3 & 4 \\\\\n",
    "5 & 6\n",
    "\\end{array}\\right)\\left(\\begin{array}{l}\n",
    "x_1 \\\\\n",
    "x_2\n",
    "\\end{array}\\right)=\\left(\\begin{array}{l}\n",
    "1 \\\\\n",
    "0 \\\\\n",
    "0\n",
    "\\end{array}\\right)\n",
    "$$"
   ]
  },
  {
   "cell_type": "code",
   "execution_count": 244,
   "id": "c0ff64d7-b422-4ea5-9206-3fc7660750a2",
   "metadata": {},
   "outputs": [],
   "source": [
    "import numpy as np\n",
    "A = np.array([\n",
    "    [1, 2, 1],\n",
    "    [3, 4, 0],\n",
    "    [5, 6, 0],\n",
    "], dtype=np.float32)"
   ]
  },
  {
   "cell_type": "code",
   "execution_count": 245,
   "id": "a124bf27-5614-4066-a6cf-ca8733600b9d",
   "metadata": {},
   "outputs": [
    {
     "data": {
      "text/plain": [
       "array([[ 1.,  2.,  1.],\n",
       "       [ 1.,  0., -2.],\n",
       "       [ 5.,  6.,  0.]], dtype=float32)"
      ]
     },
     "execution_count": 245,
     "metadata": {},
     "output_type": "execute_result"
    }
   ],
   "source": [
    "# 1行目を-2倍して2行目に加える\n",
    "A[1, :] += A[0, :] * (-2)\n",
    "A"
   ]
  },
  {
   "cell_type": "code",
   "execution_count": 246,
   "id": "8ff48fd8-c793-4660-b160-8fd7131072ec",
   "metadata": {},
   "outputs": [
    {
     "data": {
      "text/plain": [
       "array([[ 1.,  2.,  1.],\n",
       "       [ 1.,  0., -2.],\n",
       "       [ 2.,  0., -3.]], dtype=float32)"
      ]
     },
     "execution_count": 246,
     "metadata": {},
     "output_type": "execute_result"
    }
   ],
   "source": [
    "# 1行目を-3倍して3行目に加える\n",
    "A[2, :] += A[0, :] * (-3)\n",
    "A"
   ]
  },
  {
   "cell_type": "code",
   "execution_count": 247,
   "id": "413752d2-9539-448c-9c18-79046289f1dd",
   "metadata": {},
   "outputs": [
    {
     "data": {
      "text/plain": [
       "array([[ 1. ,  2. ,  1. ],\n",
       "       [ 1. ,  0. , -2. ],\n",
       "       [ 1. ,  0. , -1.5]], dtype=float32)"
      ]
     },
     "execution_count": 247,
     "metadata": {},
     "output_type": "execute_result"
    }
   ],
   "source": [
    "# 3行目を(1/2)倍する\n",
    "A[2, :] = (1 / 2) * A[2, :]\n",
    "A"
   ]
  },
  {
   "cell_type": "code",
   "execution_count": 248,
   "id": "3b774cb2-655a-4976-8fc6-6e5de45f6b4c",
   "metadata": {},
   "outputs": [
    {
     "data": {
      "text/plain": [
       "array([[ 1. ,  2. ,  1. ],\n",
       "       [ 1. ,  0. , -2. ],\n",
       "       [ 0. ,  0. ,  0.5]], dtype=float32)"
      ]
     },
     "execution_count": 248,
     "metadata": {},
     "output_type": "execute_result"
    }
   ],
   "source": [
    "# 2行目を-1倍して3行目に加える\n",
    "A[2, :] += A[1, :] * (-1)\n",
    "A"
   ]
  },
  {
   "cell_type": "code",
   "execution_count": 249,
   "id": "c9ccef5d-ea20-4f00-a0f2-01afac1560dd",
   "metadata": {},
   "outputs": [
    {
     "data": {
      "text/plain": [
       "array([[ 0. ,  2. ,  3. ],\n",
       "       [ 1. ,  0. , -2. ],\n",
       "       [ 0. ,  0. ,  0.5]], dtype=float32)"
      ]
     },
     "execution_count": 249,
     "metadata": {},
     "output_type": "execute_result"
    }
   ],
   "source": [
    "# 2行目を-1倍して1行目に加える\n",
    "A[0, :] += A[1, :] * (-1)\n",
    "A"
   ]
  },
  {
   "cell_type": "code",
   "execution_count": 250,
   "id": "387bb8a9-c1d1-4928-801b-44265b4f0e92",
   "metadata": {},
   "outputs": [
    {
     "data": {
      "text/plain": [
       "array([[ 0. ,  1. ,  1.5],\n",
       "       [ 1. ,  0. , -2. ],\n",
       "       [ 0. ,  0. ,  0.5]], dtype=float32)"
      ]
     },
     "execution_count": 250,
     "metadata": {},
     "output_type": "execute_result"
    }
   ],
   "source": [
    "# 1行目を(1/2)倍する\n",
    "A[0, :] = (1 / 2) * A[0, :]\n",
    "A"
   ]
  },
  {
   "cell_type": "code",
   "execution_count": 251,
   "id": "cf835496-3fad-490a-9a47-0d2d04168461",
   "metadata": {},
   "outputs": [
    {
     "data": {
      "text/plain": [
       "array([[ 1. ,  0. , -2. ],\n",
       "       [ 0. ,  1. ,  1.5],\n",
       "       [ 0. ,  0. ,  0.5]], dtype=float32)"
      ]
     },
     "execution_count": 251,
     "metadata": {},
     "output_type": "execute_result"
    }
   ],
   "source": [
    "a1 = A[0, :].copy()\n",
    "a2 = A[1, :].copy()\n",
    "A[0, :] = a2\n",
    "A[1, :] = a1\n",
    "A"
   ]
  },
  {
   "cell_type": "markdown",
   "id": "c9a20f67-cc48-4c4e-90fb-e262d712d76b",
   "metadata": {},
   "source": [
    "$$\n",
    "\\left(\\begin{array}{cc|c}\n",
    "1 & 0 & -2\\\\\n",
    "0 & 1 & 3/2 \\\\\n",
    "0 & 0 & 1/2\n",
    "\\end{array}\\right)\n",
    "$$\n",
    "\n",
    "3行目も零ベクトルにできなかった → 不能？"
   ]
  },
  {
   "cell_type": "markdown",
   "id": "44f40718-e001-4993-acd5-4736563e8e0a",
   "metadata": {},
   "source": [
    "> 1-2. 係数行列の階数\n",
    "\n",
    "$$\n",
    "\\begin{pmatrix}\n",
    "1 & 0\\\\\n",
    "0 & 1\\\\\n",
    "0 & 0\\\\\n",
    "\\end{pmatrix}\n",
    "$$\n",
    "\n",
    "と、階段行列の形であり零の行ベクトルでない行数は2なので2\n"
   ]
  },
  {
   "cell_type": "markdown",
   "id": "2bbd6fd4-7d46-4ba1-b375-1a6f7f0badbb",
   "metadata": {},
   "source": [
    "> 1-3. 拡大係数行列の階数\n",
    "\n",
    "（3行目を2倍すれば対角成分が1になるので）\n",
    "\n",
    "3\n"
   ]
  },
  {
   "cell_type": "markdown",
   "id": "f2d18c67-5e92-4c8a-b1d5-b672b681d2eb",
   "metadata": {},
   "source": [
    "### 2.\n",
    "\n",
    "> 2.\n",
    "> $$\n",
    "\\left(\\begin{array}{ccc}\n",
    "1 & 1 & -2 \\\\\n",
    "1 & -2 & 1 \\\\\n",
    "-2 & 1 & 1\n",
    "\\end{array}\\right)\\left(\\begin{array}{l}\n",
    "x_1 \\\\\n",
    "x_2 \\\\\n",
    "x_3\n",
    "\\end{array}\\right)=\\left(\\begin{array}{c}\n",
    "0 \\\\\n",
    "3 \\\\\n",
    "-3\n",
    "\\end{array}\\right)\n",
    "$$"
   ]
  },
  {
   "cell_type": "code",
   "execution_count": 260,
   "id": "2c362117-bcb5-458a-af8b-d34c22b4150f",
   "metadata": {},
   "outputs": [],
   "source": [
    "import numpy as np\n",
    "A = np.array([\n",
    "    [1, 1, -2, 0],\n",
    "    [1, -2, 1, 3],\n",
    "    [-2, 1, 1, -3],\n",
    "])"
   ]
  },
  {
   "cell_type": "code",
   "execution_count": 261,
   "id": "3306b012-628b-4c3e-aba6-dc6f6da4613a",
   "metadata": {},
   "outputs": [
    {
     "data": {
      "text/plain": [
       "array([[ 1,  1, -2,  0],\n",
       "       [ 0, -3,  3,  3],\n",
       "       [-2,  1,  1, -3]])"
      ]
     },
     "execution_count": 261,
     "metadata": {},
     "output_type": "execute_result"
    }
   ],
   "source": [
    "# 1行目を2行目から引く\n",
    "A[1, :] += A[0, :] * (-1)\n",
    "A"
   ]
  },
  {
   "cell_type": "code",
   "execution_count": 262,
   "id": "d6d335f3-9139-4da6-a8ff-c3fd4e3bf1cb",
   "metadata": {},
   "outputs": [
    {
     "data": {
      "text/plain": [
       "array([[ 1,  1, -2,  0],\n",
       "       [ 0, -3,  3,  3],\n",
       "       [ 0,  3, -3, -3]])"
      ]
     },
     "execution_count": 262,
     "metadata": {},
     "output_type": "execute_result"
    }
   ],
   "source": [
    "# 1行目を2倍して3行目に加える\n",
    "A[2, :] += A[0, :] * (2)\n",
    "A"
   ]
  },
  {
   "cell_type": "code",
   "execution_count": 263,
   "id": "59d5c9ba-3878-4756-8d72-a4fdcec2884b",
   "metadata": {},
   "outputs": [
    {
     "data": {
      "text/plain": [
       "array([[ 1,  1, -2,  0],\n",
       "       [ 0, -3,  3,  3],\n",
       "       [ 0,  0,  0,  0]])"
      ]
     },
     "execution_count": 263,
     "metadata": {},
     "output_type": "execute_result"
    }
   ],
   "source": [
    "# 2行目を3行目に加える\n",
    "A[2, :] += A[1, :] * (1)\n",
    "A"
   ]
  },
  {
   "cell_type": "code",
   "execution_count": 264,
   "id": "3db42882-ccbc-46da-ba14-1dc5e948528b",
   "metadata": {},
   "outputs": [
    {
     "data": {
      "text/plain": [
       "array([[ 1,  1, -2,  0],\n",
       "       [ 0,  1, -1, -1],\n",
       "       [ 0,  0,  0,  0]])"
      ]
     },
     "execution_count": 264,
     "metadata": {},
     "output_type": "execute_result"
    }
   ],
   "source": [
    "# 2行目を1/3する\n",
    "A[1, :] = A[1, :] * (-1/3)\n",
    "A"
   ]
  },
  {
   "cell_type": "code",
   "execution_count": 265,
   "id": "d7cc34ec-6ae4-4a1d-a2c0-32441e917f25",
   "metadata": {},
   "outputs": [
    {
     "data": {
      "text/plain": [
       "array([[ 1,  0, -1,  1],\n",
       "       [ 0,  1, -1, -1],\n",
       "       [ 0,  0,  0,  0]])"
      ]
     },
     "execution_count": 265,
     "metadata": {},
     "output_type": "execute_result"
    }
   ],
   "source": [
    "# 2行目を1行目から引く\n",
    "A[0, :] += A[1, :] * (-1)\n",
    "A"
   ]
  },
  {
   "cell_type": "markdown",
   "id": "111b4df9-6726-4fc3-beff-649c5a88b22b",
   "metadata": {},
   "source": [
    "$$\n",
    "\\begin{cases}\n",
    "x_1 - x_3 = 1\\\\\n",
    "x_2 - x_3 = -1\n",
    "\\end{cases}\n",
    "$$"
   ]
  },
  {
   "cell_type": "markdown",
   "id": "d4f0dd68-0909-4182-9bde-3f111ab655a7",
   "metadata": {},
   "source": [
    "$x_3$を任意定数に置き換える\n",
    "\n",
    "$$\n",
    "\\begin{cases}\n",
    "x_1 - c = 1\\\\\n",
    "x_2 - c = -1\n",
    "\\end{cases}\n",
    "$$"
   ]
  },
  {
   "cell_type": "markdown",
   "id": "f2f7cd27-66d0-448a-b4f5-4959070f6466",
   "metadata": {},
   "source": [
    "$$\n",
    "x_3 = c\n",
    "\\text{ かつ }\n",
    "\\begin{cases}\n",
    "x_1 = c + 1\\\\\n",
    "x_2 = c - 1\n",
    "\\end{cases}\n",
    "$$"
   ]
  },
  {
   "cell_type": "code",
   "execution_count": 259,
   "id": "b2cc8e30-2aa4-489c-9174-253cec42e143",
   "metadata": {
    "tags": [
     "hide-input",
     "hide-output"
    ]
   },
   "outputs": [],
   "source": [
    "# # 検算\n",
    "# import numpy as np\n",
    "# A = np.array([\n",
    "#     [1, 1, -2],\n",
    "#     [1, -2, 1],\n",
    "#     [-2, 1, 1],\n",
    "# ])\n",
    "# x = np.array([0, 3, -3])\n",
    "# np.linalg.solve(A, x)"
   ]
  },
  {
   "cell_type": "markdown",
   "id": "28da8595-b715-481f-9dd7-14c5b15af1e9",
   "metadata": {},
   "source": [
    "### 3.\n",
    "\n",
    "> 3.\n",
    "$$\n",
    "\\left(\\begin{array}{llll}\n",
    "1 & 2 & 3 & 4 \\\\\n",
    "2 & 3 & 4 & 1 \\\\\n",
    "0 & 1 & 2 & 7\n",
    "\\end{array}\\right)\\left(\\begin{array}{l}\n",
    "x_1 \\\\\n",
    "x_2 \\\\\n",
    "x_3 \\\\\n",
    "x_4\n",
    "\\end{array}\\right)=\\left(\\begin{array}{l}\n",
    "1 \\\\\n",
    "0 \\\\\n",
    "1\n",
    "\\end{array}\\right)\n",
    "$$"
   ]
  },
  {
   "cell_type": "code",
   "execution_count": 267,
   "id": "8ab4b98e-3a7d-4673-b896-a6caea4cbd55",
   "metadata": {},
   "outputs": [],
   "source": [
    "from sympy import Matrix\n",
    "A = Matrix([\n",
    "    [1, 2, 3, 4, 1],\n",
    "    [2, 3, 4, 1, 0],\n",
    "    [0, 1, 2, 7, 1],\n",
    "])"
   ]
  },
  {
   "cell_type": "code",
   "execution_count": 268,
   "id": "64303e43-e7d1-4738-91cf-54a5f823c70f",
   "metadata": {},
   "outputs": [
    {
     "data": {
      "text/latex": [
       "$\\displaystyle \\left[\\begin{matrix}1 & 2 & 3 & 4 & 1\\\\0 & -1 & -2 & -7 & -2\\\\0 & 1 & 2 & 7 & 1\\end{matrix}\\right]$"
      ],
      "text/plain": [
       "Matrix([\n",
       "[1,  2,  3,  4,  1],\n",
       "[0, -1, -2, -7, -2],\n",
       "[0,  1,  2,  7,  1]])"
      ]
     },
     "execution_count": 268,
     "metadata": {},
     "output_type": "execute_result"
    }
   ],
   "source": [
    "A[1, :] += A[0, :] * (-2)\n",
    "A"
   ]
  },
  {
   "cell_type": "code",
   "execution_count": 269,
   "id": "14cf9897-eda0-4bd6-9a32-c1c267ebba04",
   "metadata": {},
   "outputs": [
    {
     "data": {
      "text/latex": [
       "$\\displaystyle \\left[\\begin{matrix}1 & 2 & 3 & 4 & 1\\\\0 & -1 & -2 & -7 & -2\\\\0 & 0 & 0 & 0 & -1\\end{matrix}\\right]$"
      ],
      "text/plain": [
       "Matrix([\n",
       "[1,  2,  3,  4,  1],\n",
       "[0, -1, -2, -7, -2],\n",
       "[0,  0,  0,  0, -1]])"
      ]
     },
     "execution_count": 269,
     "metadata": {},
     "output_type": "execute_result"
    }
   ],
   "source": [
    "A[2, :] += A[1, :]\n",
    "A"
   ]
  },
  {
   "cell_type": "code",
   "execution_count": 270,
   "id": "2d6c276c-e59a-4f36-bcf2-33ed6ae7c24f",
   "metadata": {},
   "outputs": [
    {
     "data": {
      "text/latex": [
       "$\\displaystyle \\left[\\begin{matrix}1 & 2 & 3 & 4 & 1\\\\0 & 1 & 2 & 7 & 2\\\\0 & 0 & 0 & 0 & -1\\end{matrix}\\right]$"
      ],
      "text/plain": [
       "Matrix([\n",
       "[1, 2, 3, 4,  1],\n",
       "[0, 1, 2, 7,  2],\n",
       "[0, 0, 0, 0, -1]])"
      ]
     },
     "execution_count": 270,
     "metadata": {},
     "output_type": "execute_result"
    }
   ],
   "source": [
    "A[1, :] = A[1, :] * (-1)\n",
    "A"
   ]
  },
  {
   "cell_type": "code",
   "execution_count": 271,
   "id": "3f6aa387-3486-4464-8d26-8f5462c83e58",
   "metadata": {},
   "outputs": [
    {
     "data": {
      "text/latex": [
       "$\\displaystyle \\left[\\begin{matrix}1 & 0 & -1 & -10 & -3\\\\0 & 1 & 2 & 7 & 2\\\\0 & 0 & 0 & 0 & -1\\end{matrix}\\right]$"
      ],
      "text/plain": [
       "Matrix([\n",
       "[1, 0, -1, -10, -3],\n",
       "[0, 1,  2,   7,  2],\n",
       "[0, 0,  0,   0, -1]])"
      ]
     },
     "execution_count": 271,
     "metadata": {},
     "output_type": "execute_result"
    }
   ],
   "source": [
    "A[0, :] += A[1, :] * (-2)\n",
    "A"
   ]
  },
  {
   "cell_type": "markdown",
   "id": "85d15149-4472-49ed-a728-fccf3a180ae1",
   "metadata": {},
   "source": [
    "3行目を零ベクトルにできなかった → 不能？"
   ]
  },
  {
   "cell_type": "markdown",
   "id": "0456c586-51db-43b4-83bc-0d9ab448dc4c",
   "metadata": {},
   "source": [
    "係数行列のランク: 2\n",
    "\n",
    "拡大係数行列のランク: 3"
   ]
  },
  {
   "cell_type": "code",
   "execution_count": 274,
   "id": "72f8c890-63cf-4de8-9dc6-f85429d9d32c",
   "metadata": {
    "tags": [
     "hide-input",
     "hide-output"
    ]
   },
   "outputs": [
    {
     "name": "stdout",
     "output_type": "stream",
     "text": [
      "係数行列のランク: 2\n",
      "拡大係数行列のランク: 3\n"
     ]
    }
   ],
   "source": [
    "# 検算\n",
    "A = np.array([\n",
    "    [1, 2, 3, 4, 1],\n",
    "    [2, 3, 4, 1, 0],\n",
    "    [0, 1, 2, 7, 1],\n",
    "])\n",
    "print(\"係数行列のランク:\", np.linalg.matrix_rank(A[:, :3]))\n",
    "print(\"拡大係数行列のランク:\", np.linalg.matrix_rank(A))"
   ]
  },
  {
   "cell_type": "markdown",
   "id": "4b398b24-dfe4-48d2-90f9-887c5aa128ba",
   "metadata": {},
   "source": [
    "## 5.2\n",
    "\n",
    "> 掃き出し法により、次の同次連立 1 次方程式を解け。\n",
    "> $$\n",
    "\\left(\\begin{array}{llll}\n",
    "1 & 2 & 3 & 4 \\\\\n",
    "2 & 3 & 4 & 1 \\\\\n",
    "0 & 1 & 2 & 7\n",
    "\\end{array}\\right)\\left(\\begin{array}{l}\n",
    "x_1 \\\\\n",
    "x_2 \\\\\n",
    "x_3 \\\\\n",
    "x_4\n",
    "\\end{array}\\right)=\\left(\\begin{array}{l}\n",
    "0 \\\\\n",
    "0 \\\\\n",
    "0\n",
    "\\end{array}\\right)\n",
    "$$"
   ]
  },
  {
   "cell_type": "code",
   "execution_count": 281,
   "id": "87e8c0b6-6d18-47f8-adb9-3488c7abb98f",
   "metadata": {},
   "outputs": [],
   "source": [
    "from sympy import Matrix\n",
    "A = Matrix([\n",
    "    [1, 2, 3, 4, 0],\n",
    "    [2, 3, 4, 1, 0],\n",
    "    [0, 1, 2, 7, 0],\n",
    "])"
   ]
  },
  {
   "cell_type": "code",
   "execution_count": 282,
   "id": "f3c2e6a4-19fe-4f1f-a4bc-e7c83f883cef",
   "metadata": {},
   "outputs": [
    {
     "data": {
      "text/latex": [
       "$\\displaystyle \\left[\\begin{matrix}1 & 2 & 3 & 4 & 0\\\\0 & -1 & -2 & -7 & 0\\\\0 & 1 & 2 & 7 & 0\\end{matrix}\\right]$"
      ],
      "text/plain": [
       "Matrix([\n",
       "[1,  2,  3,  4, 0],\n",
       "[0, -1, -2, -7, 0],\n",
       "[0,  1,  2,  7, 0]])"
      ]
     },
     "execution_count": 282,
     "metadata": {},
     "output_type": "execute_result"
    }
   ],
   "source": [
    "A[1, :] += A[0, :] * (-2)\n",
    "A"
   ]
  },
  {
   "cell_type": "code",
   "execution_count": 283,
   "id": "02b3f0f1-8fb3-4af5-8141-79a27641e481",
   "metadata": {},
   "outputs": [
    {
     "data": {
      "text/latex": [
       "$\\displaystyle \\left[\\begin{matrix}1 & 2 & 3 & 4 & 0\\\\0 & -1 & -2 & -7 & 0\\\\0 & 0 & 0 & 0 & 0\\end{matrix}\\right]$"
      ],
      "text/plain": [
       "Matrix([\n",
       "[1,  2,  3,  4, 0],\n",
       "[0, -1, -2, -7, 0],\n",
       "[0,  0,  0,  0, 0]])"
      ]
     },
     "execution_count": 283,
     "metadata": {},
     "output_type": "execute_result"
    }
   ],
   "source": [
    "A[2, :] += A[1, :]\n",
    "A"
   ]
  },
  {
   "cell_type": "code",
   "execution_count": 284,
   "id": "3c020f85-f73c-4cde-98ca-8c6051710823",
   "metadata": {},
   "outputs": [
    {
     "data": {
      "text/latex": [
       "$\\displaystyle \\left[\\begin{matrix}1 & 2 & 3 & 4 & 0\\\\0 & 1 & 2 & 7 & 0\\\\0 & 0 & 0 & 0 & 0\\end{matrix}\\right]$"
      ],
      "text/plain": [
       "Matrix([\n",
       "[1, 2, 3, 4, 0],\n",
       "[0, 1, 2, 7, 0],\n",
       "[0, 0, 0, 0, 0]])"
      ]
     },
     "execution_count": 284,
     "metadata": {},
     "output_type": "execute_result"
    }
   ],
   "source": [
    "A[1, :] = A[1, :] * (-1)\n",
    "A"
   ]
  },
  {
   "cell_type": "code",
   "execution_count": 285,
   "id": "3fc2ebc0-51f3-46bf-821e-514d05f56b81",
   "metadata": {},
   "outputs": [
    {
     "data": {
      "text/latex": [
       "$\\displaystyle \\left[\\begin{matrix}1 & 0 & -1 & -10 & 0\\\\0 & 1 & 2 & 7 & 0\\\\0 & 0 & 0 & 0 & 0\\end{matrix}\\right]$"
      ],
      "text/plain": [
       "Matrix([\n",
       "[1, 0, -1, -10, 0],\n",
       "[0, 1,  2,   7, 0],\n",
       "[0, 0,  0,   0, 0]])"
      ]
     },
     "execution_count": 285,
     "metadata": {},
     "output_type": "execute_result"
    }
   ],
   "source": [
    "A[0, :] += A[1, :] * (-2)\n",
    "A"
   ]
  },
  {
   "cell_type": "markdown",
   "id": "2f46bd2d-b688-4d6d-b787-79cc7b050163",
   "metadata": {},
   "source": [
    "$$\n",
    "\\begin{cases}\n",
    "x_1 - x_3 -10 x_4 = 0\\\\\n",
    "x_2 - 2 x_3 + 7 x_4 = 0\n",
    "\\end{cases}\n",
    "$$"
   ]
  },
  {
   "cell_type": "markdown",
   "id": "07252c62-6e8d-4407-9250-49f18d9d56f5",
   "metadata": {},
   "source": [
    "$x_3, x_4$を任意定数に置き換える\n",
    "\n",
    "$$\n",
    "\\begin{cases}\n",
    "x_1 - c_1 -10 c_2 = 0\\\\\n",
    "x_2 - 2 c_1 + 7 c_2 = 0\n",
    "\\end{cases}\n",
    "$$"
   ]
  },
  {
   "cell_type": "markdown",
   "id": "e0bf5a33-27eb-4eaa-a009-1e41f95047e7",
   "metadata": {},
   "source": [
    "$$\n",
    "\\begin{cases}\n",
    "x_3 = c_1\\\\\n",
    "x_4 = c_2\n",
    "\\end{cases}\n",
    "\\text{ かつ }\n",
    "\\begin{cases}\n",
    "x_1 = c_1 + 10 c_2\\\\\n",
    "x_2 = 2 c_1 - 7 c_2\n",
    "\\end{cases}\n",
    "$$"
   ]
  },
  {
   "cell_type": "code",
   "execution_count": 280,
   "id": "0350b1db-1e4d-4ac1-b710-2ed8751733a8",
   "metadata": {
    "tags": [
     "hide-input",
     "hide-output"
    ]
   },
   "outputs": [
    {
     "name": "stdout",
     "output_type": "stream",
     "text": [
      "係数行列のランク: 2\n",
      "拡大係数行列のランク: 2\n"
     ]
    }
   ],
   "source": [
    "# 検算\n",
    "A = np.array([\n",
    "    [1, 2, 3, 4, 0],\n",
    "    [2, 3, 4, 1, 0],\n",
    "    [0, 1, 2, 7, 0],\n",
    "])\n",
    "print(\"係数行列のランク:\", np.linalg.matrix_rank(A[:, :3]))\n",
    "print(\"拡大係数行列のランク:\", np.linalg.matrix_rank(A))"
   ]
  },
  {
   "cell_type": "markdown",
   "id": "00990b91-0ea0-43cf-bdfb-69e3cc71c4d2",
   "metadata": {},
   "source": [
    "## 5.3\n",
    "\n",
    "> p,q,rを定数とする。連立1次方程式\n",
    "> $$\n",
    "\\left(\\begin{array}{ccc}\n",
    "-2 & 1 & 1 \\\\\n",
    "1 & -2 & 1 \\\\\n",
    "1 & 1 & -2\n",
    "\\end{array}\\right)\\left(\\begin{array}{l}\n",
    "x_1 \\\\\n",
    "x_2 \\\\\n",
    "x_3\n",
    "\\end{array}\\right)=\\left(\\begin{array}{l}\n",
    "p \\\\\n",
    "q \\\\\n",
    "r\n",
    "\\end{array}\\right)\n",
    "$$\n",
    "の解が存在するためのp,q,rの条件を求めよ。"
   ]
  },
  {
   "cell_type": "code",
   "execution_count": 335,
   "id": "96a73992-9ab5-4141-9e5d-3f014ce264ed",
   "metadata": {},
   "outputs": [],
   "source": [
    "from sympy import Matrix, symbols\n",
    "p, q, r = symbols(\"p q r\")\n",
    "A = Matrix([\n",
    "    [-2, 1, 1, p],\n",
    "    [1, -2, 1, q],\n",
    "    [1, 1, -2, r],\n",
    "])"
   ]
  },
  {
   "cell_type": "code",
   "execution_count": 336,
   "id": "e2d2d3a1-2b9b-4442-a080-f98796034da5",
   "metadata": {},
   "outputs": [
    {
     "data": {
      "text/latex": [
       "$\\displaystyle \\left[\\begin{matrix}1 & -2 & 1 & q\\\\-2 & 1 & 1 & p\\\\1 & 1 & -2 & r\\end{matrix}\\right]$"
      ],
      "text/plain": [
       "Matrix([\n",
       "[ 1, -2,  1, q],\n",
       "[-2,  1,  1, p],\n",
       "[ 1,  1, -2, r]])"
      ]
     },
     "execution_count": 336,
     "metadata": {},
     "output_type": "execute_result"
    }
   ],
   "source": [
    "# 1行目と2行目を入れ替える\n",
    "a1 = A[0, :].copy()\n",
    "a2 = A[1, :].copy()\n",
    "A[0, :] = a2\n",
    "A[1, :] = a1\n",
    "A"
   ]
  },
  {
   "cell_type": "code",
   "execution_count": 337,
   "id": "2dc319ba-a106-4795-b7e0-14612cd0d6e2",
   "metadata": {},
   "outputs": [
    {
     "data": {
      "text/latex": [
       "$\\displaystyle \\left[\\begin{matrix}1 & -2 & 1 & q\\\\0 & -3 & 3 & p + 2 q\\\\1 & 1 & -2 & r\\end{matrix}\\right]$"
      ],
      "text/plain": [
       "Matrix([\n",
       "[1, -2,  1,       q],\n",
       "[0, -3,  3, p + 2*q],\n",
       "[1,  1, -2,       r]])"
      ]
     },
     "execution_count": 337,
     "metadata": {},
     "output_type": "execute_result"
    }
   ],
   "source": [
    "A[1,:] += 2 * A[0,:]\n",
    "A"
   ]
  },
  {
   "cell_type": "code",
   "execution_count": 338,
   "id": "7c6b0690-4a55-4ab8-82e4-64c7bbca488a",
   "metadata": {},
   "outputs": [
    {
     "data": {
      "text/latex": [
       "$\\displaystyle \\left[\\begin{matrix}1 & -2 & 1 & q\\\\0 & -3 & 3 & p + 2 q\\\\0 & 3 & -3 & - q + r\\end{matrix}\\right]$"
      ],
      "text/plain": [
       "Matrix([\n",
       "[1, -2,  1,       q],\n",
       "[0, -3,  3, p + 2*q],\n",
       "[0,  3, -3,  -q + r]])"
      ]
     },
     "execution_count": 338,
     "metadata": {},
     "output_type": "execute_result"
    }
   ],
   "source": [
    "A[2,:] += -1 * A[0,:]\n",
    "A"
   ]
  },
  {
   "cell_type": "code",
   "execution_count": 339,
   "id": "677df4dd-3d40-4908-8a05-54452ba63458",
   "metadata": {},
   "outputs": [
    {
     "data": {
      "text/latex": [
       "$\\displaystyle \\left[\\begin{matrix}1 & -2 & 1 & q\\\\0 & -3 & 3 & p + 2 q\\\\0 & 0 & 0 & p + q + r\\end{matrix}\\right]$"
      ],
      "text/plain": [
       "Matrix([\n",
       "[1, -2, 1,         q],\n",
       "[0, -3, 3,   p + 2*q],\n",
       "[0,  0, 0, p + q + r]])"
      ]
     },
     "execution_count": 339,
     "metadata": {},
     "output_type": "execute_result"
    }
   ],
   "source": [
    "A[2,:] += 1 * A[1,:]\n",
    "A"
   ]
  },
  {
   "cell_type": "markdown",
   "id": "d3303364-bc8a-4858-a541-ae914c3f96a2",
   "metadata": {},
   "source": [
    "\n",
    "$p+q+r\\neq 0$だと両者のRankが違うので解なし\n",
    "\n",
    "連立一次方程式の定理より、両者のランクが合えば解が存在するので$p+q+r=0$なら成り立つ\n",
    "\n"
   ]
  },
  {
   "cell_type": "markdown",
   "id": "a4c3e2a8-3ecb-4607-9c9b-1ebf09f5422e",
   "metadata": {},
   "source": [
    "$$\n",
    "x_1 - 2x_2 + x_3 = q\\\\\n",
    "-3x_2 + 3x_3 = p+2q\n",
    "$$"
   ]
  },
  {
   "cell_type": "markdown",
   "id": "25e873a8-1df6-47d1-b56f-830e91421393",
   "metadata": {},
   "source": [
    "$$\n",
    "x_1 - 2x_2 + x_3 = q\\\\\n",
    "-x_2 + x_3 = (p+2q)/3\n",
    "$$"
   ]
  },
  {
   "cell_type": "markdown",
   "id": "94b2eff3-f698-467f-84e6-940774719e12",
   "metadata": {},
   "source": [
    "検算用\n",
    "- [掃き出し法計算機 - Wolfram|Alpha](https://ja.wolframalpha.com/input?i=%E6%8E%83%E3%81%8D%E5%87%BA%E3%81%97%E6%B3%95%E8%A8%88%E7%AE%97%E6%A9%9F)"
   ]
  },
  {
   "cell_type": "code",
   "execution_count": null,
   "id": "be796ac8-42e6-40fb-90d5-966c157877cc",
   "metadata": {},
   "outputs": [],
   "source": []
  }
 ],
 "metadata": {
  "kernelspec": {
   "display_name": "Python 3 (ipykernel)",
   "language": "python",
   "name": "python3"
  },
  "language_info": {
   "codemirror_mode": {
    "name": "ipython",
    "version": 3
   },
   "file_extension": ".py",
   "mimetype": "text/x-python",
   "name": "python",
   "nbconvert_exporter": "python",
   "pygments_lexer": "ipython3",
   "version": "3.9.18"
  }
 },
 "nbformat": 4,
 "nbformat_minor": 5
}
