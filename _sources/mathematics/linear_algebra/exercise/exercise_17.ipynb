{
 "cells": [
  {
   "cell_type": "markdown",
   "id": "09963f7d-703c-49fa-b521-69ab725e7fd3",
   "metadata": {},
   "source": [
    "# 練習問題メモ 17（線形写像）"
   ]
  },
  {
   "cell_type": "markdown",
   "id": "4d2078b4-697d-49b4-98c4-e168f7bccab5",
   "metadata": {},
   "source": [
    "## 問1\n",
    "\n",
    ":::{card}\n",
    "\n",
    "$U, V, W$ をベクトル空間、 $f: U \\rightarrow V, g: V \\rightarrow W$ を線形写像とする。このとき、 $f$ と $g$ の合成写像 $g \\circ f: U \\rightarrow W$ は線形写像であることを示せ。\n",
    "\n",
    ":::"
   ]
  },
  {
   "cell_type": "markdown",
   "id": "8c8f79f5-cbb0-45ce-a331-e95a30995a05",
   "metadata": {},
   "source": [
    ":::{margin}\n",
    "線形写像の定義：任意のベクトル$\\boldsymbol{a}, \\boldsymbol{b}$と任意のスカラー$c$に対して\n",
    "\n",
    "1. $f(\\boldsymbol{a}+\\boldsymbol{b}) = f(\\boldsymbol{a}) + f(\\boldsymbol{b})$\n",
    "2. $f(c \\boldsymbol{a}) = c f(\\boldsymbol{a})$\n",
    "\n",
    "を満たす写像\n",
    ":::"
   ]
  },
  {
   "cell_type": "markdown",
   "id": "c7c416a7-a727-4841-b3c6-62100c1a8475",
   "metadata": {},
   "source": [
    "$U$の任意のベクトル$a,b$に対し、線形写像の定義より\n",
    "\n",
    "$$\n",
    "\\begin{aligned}\n",
    "g \\circ f(\\boldsymbol{a}+\\boldsymbol{b}) & =g(f(\\boldsymbol{a}+\\boldsymbol{b}))=g(f(\\boldsymbol{a})+f(\\boldsymbol{b})) \\\\\n",
    "& =g(f(\\boldsymbol{a}))+g(f(\\boldsymbol{b}))=g \\circ f(\\boldsymbol{a})+g \\circ f(\\boldsymbol{b})\n",
    "\\end{aligned}\n",
    "$$\n",
    "\n",
    "が成り立つ。"
   ]
  },
  {
   "cell_type": "markdown",
   "id": "01f734c3-e89e-4c2d-8e0c-4136ba532bbe",
   "metadata": {},
   "source": [
    "また任意のスカラー$c$に対して\n",
    "\n",
    "$$\n",
    "g \\circ f(c\\boldsymbol{a})\n",
    "= g( c f(\\boldsymbol{a}))\n",
    "= c g ( f (\\boldsymbol{a}))\n",
    "= c g \\circ f(c\\boldsymbol{a})\n",
    "$$\n",
    "\n",
    "となる。"
   ]
  },
  {
   "cell_type": "markdown",
   "id": "25065c77-0fd5-4a98-9548-0ba2344d62f1",
   "metadata": {},
   "source": [
    "よって、$g \\circ f$は線形写像の定義に合致するため、線形写像である。"
   ]
  },
  {
   "cell_type": "markdown",
   "id": "58ab7180-2227-49b7-9f44-1117d77a6205",
   "metadata": {},
   "source": [
    "## 問2\n",
    "\n",
    ":::{card}\n",
    "\n",
    "$A \\in M_4(\\mathbb{R})$ および線形写像 $f_A: \\mathbb{R}^4 \\rightarrow \\mathbb{R}^4$ を\n",
    "\n",
    "$$\n",
    "A=\\left(\\begin{array}{llll}\n",
    "1 & 0 & 0 & 0 \\\\\n",
    "1 & 0 & 0 & 0 \\\\\n",
    "0 & 1 & 2 & 0 \\\\\n",
    "0 & 1 & 2 & 0\n",
    "\\end{array}\\right), \\quad f_A(\\boldsymbol{x})=A \\boldsymbol{x} \\quad\\left(\\boldsymbol{x} \\in \\mathbb{R}^4\\right)\n",
    "$$\n",
    "\n",
    "により定める。 $\\operatorname{Im} f_A$ および $\\operatorname{Ker} f_A$ の基底を 1 組求めよ。さらに、 $f_A$ の階数およ び退化次数を求め、 $f_A$ に対して次元定理が成り立つことを確かめよ。\n",
    "\n",
    ":::"
   ]
  },
  {
   "cell_type": "markdown",
   "id": "25bc7230-d9ae-47a4-b811-a433f59fdaa7",
   "metadata": {},
   "source": [
    "## 問3\n",
    "\n",
    ":::{card}\n",
    "\n",
    "$f$ をベクトル空間 $V$ からべクトル空間 $W$ への線形写像とし、 $\\boldsymbol{x}_1, \\boldsymbol{x}_2, \\cdots, \\boldsymbol{x}_m \\in V$ とする。 $f\\left(\\boldsymbol{x}_1\\right), f\\left(\\boldsymbol{x}_2\\right), \\cdots, f\\left(\\boldsymbol{x}_m\\right) \\in W$ が 1 次独立ならば、 $\\boldsymbol{x}_1, \\boldsymbol{x}_2, \\cdots, \\boldsymbol{x}_m$ も 1 次独立であることを示せ。\n",
    ":::"
   ]
  },
  {
   "cell_type": "markdown",
   "id": "f725d06b-5d89-4290-9b74-51810f8fdb5d",
   "metadata": {},
   "source": [
    "## 問4\n",
    "\n",
    ":::{card}\n",
    "\n",
    "\n",
    ":::"
   ]
  },
  {
   "cell_type": "markdown",
   "id": "9aaa1405-b7e8-45eb-8e51-dd7284cbe63c",
   "metadata": {},
   "source": [
    "## 問5\n",
    "\n",
    ":::{card}\n",
    "\n",
    "\n",
    ":::"
   ]
  },
  {
   "cell_type": "markdown",
   "id": "ee168c33-70a8-4d12-afe5-bd8266cb5e62",
   "metadata": {},
   "source": [
    "## 問6\n",
    "\n",
    ":::{card}\n",
    "\n",
    "\n",
    ":::"
   ]
  },
  {
   "cell_type": "code",
   "execution_count": null,
   "id": "5380683e-12ed-49aa-b4af-2db221c67043",
   "metadata": {},
   "outputs": [],
   "source": []
  }
 ],
 "metadata": {
  "kernelspec": {
   "display_name": "Python 3 (ipykernel)",
   "language": "python",
   "name": "python3"
  },
  "language_info": {
   "codemirror_mode": {
    "name": "ipython",
    "version": 3
   },
   "file_extension": ".py",
   "mimetype": "text/x-python",
   "name": "python",
   "nbconvert_exporter": "python",
   "pygments_lexer": "ipython3",
   "version": "3.10.14"
  }
 },
 "nbformat": 4,
 "nbformat_minor": 5
}
