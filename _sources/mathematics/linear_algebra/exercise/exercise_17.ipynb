{
 "cells": [
  {
   "cell_type": "markdown",
   "id": "09963f7d-703c-49fa-b521-69ab725e7fd3",
   "metadata": {},
   "source": [
    "# 練習問題メモ 17（線形写像）"
   ]
  },
  {
   "cell_type": "markdown",
   "id": "4d2078b4-697d-49b4-98c4-e168f7bccab5",
   "metadata": {},
   "source": [
    "## 問1\n",
    "\n",
    ":::{card}\n",
    "\n",
    "$U, V, W$ をベクトル空間、 $f: U \\rightarrow V, g: V \\rightarrow W$ を線形写像とする。このとき、 $f$ と $g$ の合成写像 $g \\circ f: U \\rightarrow W$ は線形写像であることを示せ。\n",
    "\n",
    ":::"
   ]
  },
  {
   "cell_type": "markdown",
   "id": "8c8f79f5-cbb0-45ce-a331-e95a30995a05",
   "metadata": {},
   "source": [
    ":::{margin}\n",
    "線形写像の定義：任意のベクトル$\\boldsymbol{a}, \\boldsymbol{b}$と任意のスカラー$c$に対して\n",
    "\n",
    "1. $f(\\boldsymbol{a}+\\boldsymbol{b}) = f(\\boldsymbol{a}) + f(\\boldsymbol{b})$\n",
    "2. $f(c \\boldsymbol{a}) = c f(\\boldsymbol{a})$\n",
    "\n",
    "を満たす写像\n",
    ":::"
   ]
  },
  {
   "cell_type": "markdown",
   "id": "c7c416a7-a727-4841-b3c6-62100c1a8475",
   "metadata": {},
   "source": [
    "$U$の任意のベクトル$a,b$に対し、線形写像の定義より\n",
    "\n",
    "$$\n",
    "\\begin{aligned}\n",
    "g \\circ f(\\boldsymbol{a}+\\boldsymbol{b}) & =g(f(\\boldsymbol{a}+\\boldsymbol{b}))=g(f(\\boldsymbol{a})+f(\\boldsymbol{b})) \\\\\n",
    "& =g(f(\\boldsymbol{a}))+g(f(\\boldsymbol{b}))=g \\circ f(\\boldsymbol{a})+g \\circ f(\\boldsymbol{b})\n",
    "\\end{aligned}\n",
    "$$\n",
    "\n",
    "が成り立つ。"
   ]
  },
  {
   "cell_type": "markdown",
   "id": "01f734c3-e89e-4c2d-8e0c-4136ba532bbe",
   "metadata": {},
   "source": [
    "また任意のスカラー$c$に対して\n",
    "\n",
    "$$\n",
    "g \\circ f(c\\boldsymbol{a})\n",
    "= g( c f(\\boldsymbol{a}))\n",
    "= c g ( f (\\boldsymbol{a}))\n",
    "= c g \\circ f(c\\boldsymbol{a})\n",
    "$$\n",
    "\n",
    "となる。"
   ]
  },
  {
   "cell_type": "markdown",
   "id": "25065c77-0fd5-4a98-9548-0ba2344d62f1",
   "metadata": {},
   "source": [
    "よって、$g \\circ f$は線形写像の定義に合致するため、線形写像である。"
   ]
  },
  {
   "cell_type": "markdown",
   "id": "58ab7180-2227-49b7-9f44-1117d77a6205",
   "metadata": {},
   "source": [
    "## 問2\n",
    "\n",
    ":::{card}\n",
    "\n",
    "$A \\in M_4(\\mathbb{R})$ および線形写像 $f_A: \\mathbb{R}^4 \\rightarrow \\mathbb{R}^4$ を\n",
    "\n",
    "$$\n",
    "A=\\left(\\begin{array}{llll}\n",
    "1 & 0 & 0 & 0 \\\\\n",
    "1 & 0 & 0 & 0 \\\\\n",
    "0 & 1 & 2 & 0 \\\\\n",
    "0 & 1 & 2 & 0\n",
    "\\end{array}\\right), \\quad f_A(\\boldsymbol{x})=A \\boldsymbol{x} \\quad\\left(\\boldsymbol{x} \\in \\mathbb{R}^4\\right)\n",
    "$$\n",
    "\n",
    "により定める。 $\\operatorname{Im} f_A$ および $\\operatorname{Ker} f_A$ の基底を 1 組求めよ。さらに、 $f_A$ の階数および退化次数を求め、 $f_A$ に対して次元定理が成り立つことを確かめよ。\n",
    "\n",
    ":::"
   ]
  },
  {
   "cell_type": "markdown",
   "id": "f2357c33-7843-4575-afdd-0eff773b1f28",
   "metadata": {},
   "source": [
    ":::{card} （参考）定義\n",
    "\n",
    "定義おさらい\n",
    "\n",
    "$$\n",
    "\\operatorname{Im} f_A = \\{ y \\in \\mathbb{R}^4 \\mid y = f_A(x) \\ (x \\in \\mathbb{R}^4) \\}\\\\\n",
    "\\operatorname{Ker} f_A = \\{ x \\in \\mathbb{R}^4 \\mid f_A(x) = 0 \\ (x \\in \\mathbb{R}^4) \\}\n",
    "$$\n",
    "\n",
    "\n",
    "解き方の参考にしたサイト\n",
    "\n",
    "[線形代数学 基底の求め方が分かりません。階段行列を作ってその行列に対応する部分から求められるようですが、どのように求めたら良いでしょうか？ - Quora](https://jp.quora.com/%E7%B7%9A%E5%BD%A2%E4%BB%A3%E6%95%B0%E5%AD%A6-%E5%9F%BA%E5%BA%95%E3%81%AE%E6%B1%82%E3%82%81%E6%96%B9%E3%81%8C%E5%88%86%E3%81%8B%E3%82%8A%E3%81%BE%E3%81%9B%E3%82%93-%E9%9A%8E%E6%AE%B5%E8%A1%8C%E5%88%97%E3%82%92)\n",
    "\n",
    ":::"
   ]
  },
  {
   "cell_type": "markdown",
   "id": "5e7f9fbf-43f1-4d25-8383-c691706ac1b5",
   "metadata": {},
   "source": [
    "**$f_A$の階数**\n",
    "\n",
    "$A$を行基本変形して階段行列を作ると\n",
    "\n",
    "$$\n",
    "\\left(\\begin{array}{llll}\n",
    "1 & 0 & 0 & 0\\\\\n",
    "0 & 1 & 2 & 0\\\\\n",
    "0 & 0 & 0 & 0\\\\\n",
    "0 & 0 & 0 & 0\\\\\n",
    "\\end{array}\\right)\n",
    "$$\n",
    "\n",
    "と変形できるため$\\operatorname{rank} f_A = 2$である。"
   ]
  },
  {
   "cell_type": "markdown",
   "id": "215c3106-2270-46cf-9b02-a008b86c322a",
   "metadata": {},
   "source": [
    "**Imの基底**\n",
    "\n",
    "元の行列$A$のうち、得られた階段行列の段差のある列と同じ列番号の列が基底になるらしい。\n",
    "\n",
    "今回は第1列と第2列に段があるので、対応する列を$A$から得ると\n",
    "\n",
    "$$\n",
    "\\left\\{\\left(\\begin{array}{r}\n",
    "1 \\\\ 1 \\\\ 0\\\\ 0\n",
    "\\end{array}\\right),\\left(\\begin{array}{r}\n",
    "0\\\\ 0\\\\ 1\\\\ 1\n",
    "\\end{array}\\right)\\right\\}\n",
    "$$"
   ]
  },
  {
   "cell_type": "markdown",
   "id": "2058fa00-57df-4bd3-b083-0321130f45b5",
   "metadata": {},
   "source": [
    "**Kerの基底**\n",
    "\n",
    "$階段行列 x = 0$の形におくと\n",
    "\n",
    "$$\n",
    "\\left\\{\\begin{array}{l}\n",
    "x_1 =0 \\\\\n",
    "x_2 + 2 x_3 = 0\n",
    "\\end{array}\\right.\n",
    "$$\n"
   ]
  },
  {
   "cell_type": "markdown",
   "id": "4a9f76f6-e73b-49ba-94e3-b7a29df6171f",
   "metadata": {},
   "source": [
    "この解は$c_1, c_2 \\in \\mathbb{R}$を用いて、\n",
    "\n",
    "$$\n",
    "\\left(\\begin{array}{l}\n",
    "x_1 \\\\\n",
    "x_2 \\\\\n",
    "x_3 \\\\\n",
    "x_4\n",
    "\\end{array}\\right)\n",
    "=\n",
    "c_1\n",
    "\\begin{pmatrix}\n",
    "0\\\\\n",
    "-2\\\\\n",
    "1\\\\\n",
    "0\\\\\n",
    "\\end{pmatrix}\n",
    "+\n",
    "c_2\n",
    "\\begin{pmatrix}\n",
    "0 \\\\ 0 \\\\ 0\\\\1\n",
    "\\end{pmatrix}\n",
    "$$\n",
    "\n",
    "と表せる。\n",
    "\n",
    "（$x_4$については0なのか手がかりがないので表現できるように$c_2$と対応する基底を割り振る。$x_1$は0だとわかっているのでそのまま）\n",
    "\n"
   ]
  },
  {
   "cell_type": "markdown",
   "id": "8e2461b5-c7e7-4400-be9c-f61d543ccb11",
   "metadata": {},
   "source": [
    "\n",
    "よって基底は\n",
    "\n",
    "$$\n",
    "\\left\\{\\left(\\begin{array}{r}\n",
    "0 \\\\ -2 \\\\ 1\\\\0\n",
    "\\end{array}\\right),\\left(\\begin{array}{r}\n",
    "0 \\\\ 0 \\\\ 0\\\\1\n",
    "\\end{array}\\right)\\right\\}\n",
    "$$"
   ]
  },
  {
   "cell_type": "markdown",
   "id": "102f30dd-33e3-43a9-98cb-1701855cd370",
   "metadata": {},
   "source": [
    "**退化次数**\n",
    "\n",
    "退化次数（nullity）はKerの次元なので、Kerの基底の数と同じく2\n"
   ]
  },
  {
   "cell_type": "markdown",
   "id": "e66aff0e-a155-4833-9c72-3fe2811bfc2e",
   "metadata": {},
   "source": [
    "**次元定理**\n",
    "\n",
    "$$\n",
    "\\operatorname{rank} f_A = \\dim \\operatorname{Im} f_A = 2\\\\\n",
    "\\operatorname{nullity} f_A = \\dim \\operatorname{Ker} f_A = 2\\\\\n",
    "$$\n",
    "\n",
    "よって\n",
    "\n",
    "$$\n",
    "\\operatorname{rank} f_A + \\operatorname{nullity} f_A\n",
    "= 2 + 2\n",
    "= 4 =  \\dim f_A\n",
    "$$\n"
   ]
  },
  {
   "cell_type": "markdown",
   "id": "25bc7230-d9ae-47a4-b811-a433f59fdaa7",
   "metadata": {},
   "source": [
    "## 問3\n",
    "\n",
    ":::{card}\n",
    "\n",
    "$f$ をベクトル空間 $V$ からべクトル空間 $W$ への線形写像とし、 $\\boldsymbol{x}_1, \\boldsymbol{x}_2, \\cdots, \\boldsymbol{x}_m \\in V$ とする。 $f\\left(\\boldsymbol{x}_1\\right), f\\left(\\boldsymbol{x}_2\\right), \\cdots, f\\left(\\boldsymbol{x}_m\\right) \\in W$ が 1 次独立ならば、 $\\boldsymbol{x}_1, \\boldsymbol{x}_2, \\cdots, \\boldsymbol{x}_m$ も 1 次独立であることを示せ。\n",
    ":::\n",
    "\n"
   ]
  },
  {
   "cell_type": "markdown",
   "id": "1a4d5366-af7f-4768-812d-638f13ef7122",
   "metadata": {},
   "source": [
    "任意のスカラー$c_1,\\dots, c_m$を用いて\n",
    "\n",
    "$$\n",
    "c_1 \\boldsymbol{x}_1 + \\cdots + c_m \\boldsymbol{x}_m = \\boldsymbol{0}\n",
    "$$\n",
    "\n",
    "とし、両辺に$f$をとると、線形写像の性質により\n",
    "\n",
    "$$\n",
    "f(c_1 \\boldsymbol{x}_1 + \\cdots + c_m \\boldsymbol{x}_m) = f(\\boldsymbol{0})\n",
    "\\\\ \\Longleftrightarrow\n",
    "c_1 f(\\boldsymbol{x}_1) + \\cdots + c_m f(\\boldsymbol{x}_m) = f(\\boldsymbol{0})\n",
    "$$\n",
    "\n",
    "となる。ここで、$f\\left(\\boldsymbol{x}_1\\right), \\cdots, f\\left(\\boldsymbol{x}_m\\right) \\in W$ が 1次独立ならば $c_1 = \\cdots = c_m = 0$となるため、\n",
    "$\\boldsymbol{x}_1, \\boldsymbol{x}_2, \\cdots, \\boldsymbol{x}_m$ も 1 次独立である"
   ]
  },
  {
   "cell_type": "markdown",
   "id": "f725d06b-5d89-4290-9b74-51810f8fdb5d",
   "metadata": {},
   "source": [
    "## 問4\n",
    "\n",
    ":::{card}\n",
    "\n",
    "$f$ をべクトル空間 $V$ からべクトル空間 $W$ への線形写像とする。\n",
    "\n",
    "1. $f$ が全射であることと $\\operatorname{Im} f=W$ は同値であることを示せ。\n",
    "2. $f$ が単射であることと $\\operatorname{Ker} f=\\left\\{\\mathbf{0}_V\\right\\}$ は同値であることを示せ。\n",
    "3. $f$ が全単射ならば、 $f$ の逆写像 $f^{-1}$ は $W$ から $V$ への線形写像であることを 示せ。なお、このような $f$ が存在するとき、 $f$ を同型写像といい、 $V$ と $W$ は 同型であるという。また、 $V$ と $W$ が同型であることを $V \\cong W$ と表す。\n",
    "\n",
    ":::"
   ]
  },
  {
   "cell_type": "markdown",
   "id": "27681d17-6d1b-4f82-a4aa-a1a4e63608f1",
   "metadata": {},
   "source": [
    ":::{card}\n",
    "1. $f$ が全射であることと $\\operatorname{Im} f=W$ は同値であることを示せ。\n",
    ":::\n",
    "\n",
    "写像$f$が全射であるとは、像の集合$\\{f(v)\\mid v\\in V \\}$ が 値域（終域）$W$と等しいことである。\n",
    "\n",
    "像の集合が$\\operatorname{Im} f$であるため、$f$が全射であることと$\\operatorname{Im} f=W$は等しい。"
   ]
  },
  {
   "cell_type": "markdown",
   "id": "e7a994c2-c58b-41c9-aeb0-954970ad8ae7",
   "metadata": {},
   "source": [
    ":::{card} 回答例\n",
    "\n",
    "必要条件（$全射 \\implies \\operatorname{Im} f = W$）について：\n",
    "\n",
    "$f$ が全射であると仮定する。まず、 $f(x) \\in \\operatorname{Im} f(x \\in V)$ とすると、 $f$ の値域は $W$ なので、 $f(x) \\in W$ である。よって、 $\\operatorname{Im} f \\subset W$ である。\n",
    "\n",
    "逆に、 $y \\in W$ とすると、仮定より、 $f$ は全射なので、 $f(x)=y$ をみたす $x \\in V$ が存在する。よって、 $y \\in \\operatorname{Im} f$ である。すなわち、 $W \\subset \\operatorname{Im} f$ である。したがって、 $\\operatorname{Im} f=W$ である。\n",
    "\n",
    "\n",
    "十分条件（$\\operatorname{Im} f = W \\implies 全射$）について：\n",
    "\n",
    "$\\operatorname{Im} f=W$ であると仮定する。 $y \\in W$ とすると、仮定より、 $W$ は $\\operatorname{Im} f$ に等しい ので、 $y \\in \\operatorname{Im} f$ である。よって、像の定義式（ $\\operatorname{Im} f=\\{f(x) \\in W \\mid x \\in V\\})$ より、 $f(x)=y$ をみたす $x \\in V$ が存在する。したがって、 $f$ は全射である。\n",
    "\n",
    "以上より、 $f$ が全射であることと $\\operatorname{Im} f=W$ は同値である。\n",
    "\n",
    ":::"
   ]
  },
  {
   "cell_type": "markdown",
   "id": "5604bac9-4d7a-4ba5-9d15-31eb80bf7d7e",
   "metadata": {},
   "source": [
    ":::{card}\n",
    "2. $f$ が単射であることと $\\operatorname{Ker} f=\\left\\{\\mathbf{0}_V\\right\\}$ は同値であることを示せ。\n",
    ":::"
   ]
  },
  {
   "cell_type": "markdown",
   "id": "2d2586f2-b6ca-4c04-a134-ddbd8843706a",
   "metadata": {},
   "source": [
    "（$\\mathbf{0}_V$は$V$の零ベクトルという意味。複数の集合が登場するので。）\n",
    "\n",
    "(1) $f$が単射 ⇒ $\\operatorname{Ker} f=\\left\\{\\mathbf{0}_V\\right\\}$について：\n",
    "\n",
    "$f$が単射、すなわち異なるベクトル$v_1 \\neq v_2 (v_1, v_2 \\in V)$に対して$f(v_1) \\neq f(v_2)$となる場合、\n",
    "$f(v) = 0$となるようなベクトルは$0$しか存在しないため、$\\operatorname{Ker} f = \\{0\\}$となる。\n",
    "\n",
    "(2) $\\operatorname{Ker} f=\\left\\{\\mathbf{0}_V\\right\\}$ ⇒ $f$が単射 について：\n",
    "\n",
    "任意の$v_1, v_2 \\in V$について$f(v_1) = f(v_2)$とする。\n",
    "\n",
    "$$\n",
    "f(v_1) = f(v_2)\n",
    "\\quad \\Longrightarrow \\quad \n",
    "f(v_1) - f(v_2) = 0\n",
    "\\quad \\Longrightarrow \\quad \n",
    "f(v_1 - v_2) = 0\n",
    "$$\n",
    "\n",
    "となるため、$v_1 - v_2 = 0 \\quad \\Longrightarrow \\quad  v_1 = v_2$である\n",
    "\n",
    "$f(v_1) = f(v_2) \\quad \\Longrightarrow \\quad v_1 = v_2$であるため、$f$は単射である。\n",
    "\n",
    "(1),(2)より、$f$が単射であることと$\\operatorname{Ker} f=\\left\\{\\mathbf{0}_V\\right\\}$は同値である。"
   ]
  },
  {
   "cell_type": "markdown",
   "id": "1e85d6c0-5fd5-4655-8c84-0ab884685eee",
   "metadata": {},
   "source": [
    ":::{card}\n",
    "\n",
    "3. $f$ が全単射ならば、 $f$ の逆写像 $f^{-1}$ は $W$ から $V$ への線形写像であることを 示せ。なお、このような $f$ が存在するとき、 $f$ を同型写像といい、 $V$ と $W$ は 同型であるという。また、 $V$ と $W$ が同型であることを $V \\cong W$ と表す。\n",
    "\n",
    ":::"
   ]
  },
  {
   "cell_type": "markdown",
   "id": "5f5f0d6d-99cd-4e11-bd6b-1154df8dbe3f",
   "metadata": {},
   "source": [
    "全単射と逆写像の存在：\n",
    "\n",
    "$f$が全単射ならば、全射性より$f(v) = w$となる$v$が存在し、単射性よりそのような$w$は$v$に対してただ1つのみなので、逆写像$f^{-1}: W \\to V$が作れる。\n"
   ]
  },
  {
   "cell_type": "markdown",
   "id": "6d392f59-2aec-4bd4-8a17-2f59f41a99ea",
   "metadata": {},
   "source": [
    "逆写像が線形写像であること：\n",
    "\n",
    "$\\boldsymbol{x}, \\boldsymbol{y} \\in W$ とする。このとき， $f \\circ f^{-1}$ は恒等写像で， $f$ は線形写像であるから，\n",
    "\n",
    "$$\n",
    "\\begin{aligned}\n",
    "\\boldsymbol{x}+\\boldsymbol{y} & =f \\circ f^{-1}(\\boldsymbol{x}+\\boldsymbol{y}) \\\\\n",
    "& =f \\circ f^{-1}(\\boldsymbol{x})+f \\circ f^{-1}(\\boldsymbol{y}) \\\\\n",
    "& =f\\left(f^{-1}(\\boldsymbol{x})+f^{-1}(\\boldsymbol{y})\\right)\n",
    "\\end{aligned}\n",
    "$$\n",
    "\n",
    "が成立する。\n",
    "\n",
    "よって $f \\circ f^{-1}(\\boldsymbol{x}+\\boldsymbol{y})=f\\left(f^{-1}(\\boldsymbol{x})+f^{-1}(\\boldsymbol{y})\\right)$ であり，両辺を $f^{-1}$ でうつすと，\n",
    "\n",
    "$$\n",
    "f^{-1}(\\boldsymbol{x}+\\boldsymbol{y})=f^{-1}(\\boldsymbol{x})+f^{-1}(\\boldsymbol{y})\n",
    "$$\n",
    "\n",
    "となる。\n",
    "\n",
    "\n",
    "また $k \\in \\mathbb{R}$ に対して\n",
    "\n",
    "$$\n",
    "\\begin{aligned}\n",
    "& k \\boldsymbol{x}=f \\circ f^{-1}(k \\boldsymbol{x}) \\quad (\\because 恒等写像のため) \\\\\n",
    "& k \\boldsymbol{x}=k f \\circ f^{-1}(\\boldsymbol{x})=f\\left(k f^{-1}(\\boldsymbol{x})\\right) \\quad (\\because fが線形性を満たすため)\n",
    "\\end{aligned}\n",
    "$$\n",
    "\n",
    "なので, $f \\circ f^{-1}(k \\boldsymbol{x})=f\\left(k f^{-1}(\\boldsymbol{x})\\right)$ がわかる。両辺を $f^{-1}$ でうつすと、\n",
    "\n",
    "$$\n",
    "f^{-1}(k \\boldsymbol{x})=k f^{-1}(\\boldsymbol{x})\n",
    "$$\n",
    "\n",
    "となる。ゆえに $f^{-1}$ は線形写像である。（[線形同型写像とベクトル空間の同型 | 数学の景色](https://mathlandscape.com/linear-map-iso/)）\n"
   ]
  },
  {
   "cell_type": "markdown",
   "id": "9aaa1405-b7e8-45eb-8e51-dd7284cbe63c",
   "metadata": {},
   "source": [
    "## 問5\n",
    "\n",
    ":::{card}\n",
    "\n",
    "$f$ をベクトル空間 $V$ の線形変換とする。 $f$ と $f$ 自身の合成写像 $f \\circ f$ が零写像であることと $\\operatorname{Im} f \\subset \\operatorname{Ker} f$ は同値であることを示せ。\n",
    "\n",
    ":::"
   ]
  },
  {
   "cell_type": "markdown",
   "id": "03dec88a-1b4c-4c48-83f4-2c198b6aba5e",
   "metadata": {},
   "source": [
    "（零写像とは、値域が零のみの写像のこと。）"
   ]
  },
  {
   "cell_type": "markdown",
   "id": "19f40fad-82f0-4e5f-a935-00a34cb48f3e",
   "metadata": {},
   "source": [
    "(1) $f \\circ f$が零写像$\\Longrightarrow \\operatorname{Im} f \\subset \\operatorname{Ker} f$について：\n",
    "\n",
    "$$\n",
    "f(v) \\in \\operatorname{Im} f \\quad (v \\in V)\n",
    "$$\n",
    "について、\n",
    "$$\n",
    "f(f(v)) =0\n",
    "$$\n",
    "\n",
    "なので$f(v) \\in \\operatorname{Ker} f$がすべての$v \\in V$について成り立つ。よって$\\operatorname{Im} f \\subset \\operatorname{Ker} f$が成り立つ。\n",
    "\n",
    "(2) $\\operatorname{Im} f \\subset \\operatorname{Ker} f \\Longrightarrow f \\circ f$が零写像について：\n",
    "\n",
    "任意の$v \\in V$に対して、\n",
    "\n",
    "$$\n",
    "f(v) \\in \\operatorname{Im} f\n",
    "\\\\\n",
    "f(v) \\in \\operatorname{Ker} f\n",
    "$$\n",
    "\n",
    "が成り立つと仮定する。\n",
    "カーネルの定義$\\operatorname{Ker} f = \\{ v \\in V \\mid f(v) = 0 \\}$より、$f (f(v)) = 0$なので、$f \\circ f$は零写像である。\n",
    "\n",
    "\n",
    "上記(1), (2)より、$f \\circ f$ が零写像であることと $\\operatorname{Im} f \\subset \\operatorname{Ker} f$ は同値である"
   ]
  },
  {
   "cell_type": "markdown",
   "id": "ee168c33-70a8-4d12-afe5-bd8266cb5e62",
   "metadata": {},
   "source": [
    "## 問6\n",
    "\n",
    "(チャレンジ問題)\n",
    "\n",
    ":::{card}\n",
    "\n",
    "ベクトル空間 $V$ から $\\mathbb{R}$ への線形写像全体のなす集合を $V^*$ または $\\operatorname{Hom}(V, \\mathbb{R})$ と 表す。すなわち、\n",
    "\n",
    "$$\n",
    "V^*=\\operatorname{Hom}(V, \\mathbb{R})=\\{f: V \\rightarrow \\mathbb{R} \\mid f \\text { は線形写像 }\\}\n",
    "$$\n",
    "\n",
    "である（Hom は数学的な構造を保つ写像に対して用いられる「準同型写像」を意味する英単語”homo morphism”を略したものである。）。\n",
    "\n",
    "$f, g \\in V^*, c \\in \\mathbb{R}$ とし、 $V$ から $\\mathbb{R}$ への写像 $f+g, c f$ をそれぞれ\n",
    "\n",
    "$$\n",
    "(f+g)(\\boldsymbol{x})=f(\\boldsymbol{x})+g(\\boldsymbol{x}), \\quad(c f)(\\boldsymbol{x})=c f(\\boldsymbol{x}) \\quad(\\boldsymbol{x} \\in V)\n",
    "$$\n",
    "\n",
    "により定める。\n",
    "\n",
    "1. $f+g, c f \\in V^*$ を示せ。\n",
    "2. 1 で定めた和とスカラー倍によって、 $V^*$ はべクトル空間となることを示せ。 なお、 $V^*$ を $V$ の双対ベクトル空間または双対空間という。\n",
    "3. $V$ が $n$ 次元で、 $\\left\\{\\boldsymbol{a}_1, \\boldsymbol{a}_2, \\cdots, \\boldsymbol{a}_n\\right\\}$ を $V$ の基底とすると、 $i=1,2, \\cdots, n$ に対 して、 $f_i \\in V^* を$\n",
    "\n",
    "$$\n",
    "f_i\\left(\\boldsymbol{a}_j\\right)=\\delta_{i j}(j=1,2, \\cdots, n)\n",
    "$$\n",
    "\n",
    "により定めることができる。 $\\left\\{f_1, f_2, \\cdots, f_n\\right\\}$ は $V^*$ の基底であることを示せ。 $\\left\\{f_1, f_2, \\cdots, f_n\\right\\}$ を $\\left\\{\\boldsymbol{a}_1, \\boldsymbol{a}_2, \\cdots, \\boldsymbol{a}_n\\right\\}$ の双対基底という。\n",
    "\n",
    ":::"
   ]
  },
  {
   "cell_type": "markdown",
   "id": "7ff50f06-aa6c-4926-b294-38903b52122c",
   "metadata": {},
   "source": [
    ":::{card}\n",
    "1. $f+g, c f \\in V^*$ を示せ。\n",
    ":::"
   ]
  },
  {
   "cell_type": "markdown",
   "id": "e4d03563-58aa-4828-8d1e-7a4b0905985c",
   "metadata": {},
   "source": [
    "**(1) $f+g\\in V^*$について**\n",
    "\n",
    "$f, g$は線形写像であるため、線形写像の和は線形写像になるという定理により、線形写像であり$V^*$の元である。\n",
    "\n",
    ":::{dropdown} 線形写像の和は線形写像になるという定理の証明\n",
    "1. 加法性\n",
    "\n",
    "$v, u \\in V$に対して\n",
    "\n",
    "$$\n",
    "\\begin{aligned}\n",
    "(f+g)(v + u)\n",
    "&= f(v + u) + g (v + u) \\quad (f+gの定義より)\\\\\n",
    "&= f(v) + f(u) + g(v) + g(u) \\quad (f, g は線形写像のため)\\\\\n",
    "&= f(v) + g(v) + f(u) + g(u) \\quad (順序を入れ替えた)\\\\\n",
    "&= (f + g)(v) + (f + g)(u) \\quad (f+gの定義より)\\\\\n",
    "\\end{aligned}\n",
    "$$\n",
    "\n",
    "よって加法性をもつ\n",
    "\n",
    "2. 斉次性\n",
    "\n",
    "$$\n",
    "\\begin{aligned}\n",
    "(f+g)(c v)\n",
    "&= f(c v) + g (c v) \\quad (f+gの定義より)\\\\\n",
    "&= c f(v) + c g (v) \\quad (f, g は線形写像のため)\\\\\n",
    "&= c (f + g)(v)\n",
    "\\end{aligned}\n",
    "$$\n",
    "\n",
    "よって斉次性ももつ\n",
    ":::"
   ]
  },
  {
   "cell_type": "markdown",
   "id": "c856470b-ca5a-4b10-b856-11198b91d2c7",
   "metadata": {},
   "source": [
    "**(2) $cf \\in V^*$について**：\n",
    "\n",
    "$v \\in V$とする。\n",
    "\n",
    "$$\n",
    "\\begin{aligned}\n",
    "cf(v)\n",
    "&= f(cv) \\quad (f は線形写像のため、線形写像の性質により)\\\\\n",
    "\\end{aligned}\n",
    "$$\n",
    "\n",
    "$f$は線形写像のため$f \\in V^*$となる。よって$cf \\in V^*$"
   ]
  },
  {
   "cell_type": "markdown",
   "id": "f168cdf0-db17-4dfa-b781-5f4962ca2565",
   "metadata": {},
   "source": [
    ":::{card}\n",
    "\n",
    "2. 1 で定めた和とスカラー倍によって、 $V^*$ はべクトル空間となることを示せ。 なお、 $V^*$ を $V$ の双対ベクトル空間または双対空間という。\n",
    ":::\n",
    "\n",
    "1に示したように、$f \\in V^*$は加法とスカラー倍について閉じている。\n",
    "\n",
    "零ベクトルに相当するものが零写像とすると、零写像が線形写像であるかどうかを確かめればよい。\n",
    "\n",
    "零写像を$f_0$とすると、$v,u \\in V$について\n",
    "\n",
    "$$\n",
    "f_0(v + u) = 0\\\\\n",
    "f_0(v) + f_0(u) = 0\n",
    "$$\n",
    "\n",
    "のため$f_0(v + u) = f_0(v) + f_0(u)$である\n",
    "\n",
    "また$c\\in \\mathbb{R}$について\n",
    "\n",
    "$$\n",
    "f_0(cv) = 0\\\\\n",
    "c f_0(v) = 0\n",
    "$$\n",
    "\n",
    "のため$f_0(cv) = c f_0(v)$\n",
    "\n",
    "となるため、零写像は線形写像であり、$V^*$に含まれる。\n",
    "\n",
    "よって、$V^*$はベクトル空間である。"
   ]
  },
  {
   "cell_type": "markdown",
   "id": "2b5ac31f-156b-4f37-ae15-95d861070e95",
   "metadata": {},
   "source": [
    ":::{card}\n",
    "\n",
    "3. $V$ が $n$ 次元で、 $\\left\\{\\boldsymbol{a}_1, \\boldsymbol{a}_2, \\cdots, \\boldsymbol{a}_n\\right\\}$ を $V$ の基底とすると、 $i=1,2, \\cdots, n$ に対 して、 $f_i \\in V^* を$\n",
    "\n",
    "$$\n",
    "f_i\\left(\\boldsymbol{a}_j\\right)=\\delta_{i j}(j=1,2, \\cdots, n)\n",
    "$$\n",
    "\n",
    "により定めることができる。 $\\left\\{f_1, f_2, \\cdots, f_n\\right\\}$ は $V^*$ の基底であることを示せ。 $\\left\\{f_1, f_2, \\cdots, f_n\\right\\}$ を $\\left\\{\\boldsymbol{a}_1, \\boldsymbol{a}_2, \\cdots, \\boldsymbol{a}_n\\right\\}$ の双対基底という。\n",
    ":::"
   ]
  },
  {
   "cell_type": "markdown",
   "id": "808d049a-55b4-451e-b9ab-c689e1a9fd98",
   "metadata": {},
   "source": [
    "$\\delta$の定義は…？"
   ]
  }
 ],
 "metadata": {
  "kernelspec": {
   "display_name": "Python 3 (ipykernel)",
   "language": "python",
   "name": "python3"
  },
  "language_info": {
   "codemirror_mode": {
    "name": "ipython",
    "version": 3
   },
   "file_extension": ".py",
   "mimetype": "text/x-python",
   "name": "python",
   "nbconvert_exporter": "python",
   "pygments_lexer": "ipython3",
   "version": "3.10.14"
  }
 },
 "nbformat": 4,
 "nbformat_minor": 5
}
