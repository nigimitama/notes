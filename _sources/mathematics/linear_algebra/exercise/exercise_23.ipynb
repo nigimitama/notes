{
 "cells": [
  {
   "cell_type": "markdown",
   "id": "6cdb1c9b-e3c1-4819-82a2-0a407b39afda",
   "metadata": {},
   "source": [
    "# 練習問題メモ 23（正規直交基底）"
   ]
  },
  {
   "cell_type": "markdown",
   "id": "c64f8d9b-156d-47c8-9142-5fe368c05980",
   "metadata": {},
   "source": [
    "## 問1\n",
    "\n",
    ":::{card}\n",
    "$\\mathbb{R}^3$ の基底 $\\left\\{\\boldsymbol{a}_1, \\boldsymbol{a}_2, \\boldsymbol{a}_3\\right\\}$ を\n",
    "\n",
    "$$\n",
    "\\boldsymbol{a}_1=\\left(\\begin{array}{l}\n",
    "1 \\\\\n",
    "1 \\\\\n",
    "1\n",
    "\\end{array}\\right), \\quad \\boldsymbol{a}_2=\\left(\\begin{array}{l}\n",
    "0 \\\\\n",
    "1 \\\\\n",
    "1\n",
    "\\end{array}\\right), \\quad \\boldsymbol{a}_3=\\left(\\begin{array}{l}\n",
    "0 \\\\\n",
    "0 \\\\\n",
    "1\n",
    "\\end{array}\\right)\n",
    "$$\n",
    "\n",
    "\n",
    "により定める。 $\\mathbb{R}^3$ の標準内積を考え、グラムーシュミットの直交化法を用いて、基底 $\\left\\{\\boldsymbol{a}_1, \\boldsymbol{a}_2, \\boldsymbol{a}_3\\right\\}$ から正規直交基底 $\\left\\{\\boldsymbol{b}_1, \\boldsymbol{b}_2, \\boldsymbol{b}_3\\right\\}$ を求めよ。\n",
    ":::"
   ]
  },
  {
   "cell_type": "markdown",
   "id": "b4dc8444-b829-4c44-a43e-8c52076afe43",
   "metadata": {},
   "source": [
    "(1) $b_1$を求める\n",
    "\n",
    "$$\n",
    "\\|a_1 \\|  = \\sqrt{|1|^2 + |1|^2 + |1|^2} = \\sqrt{3}\n",
    "$$\n",
    "\n",
    "$$\n",
    "b_1 = \\frac{a_1}{\\|a_1\\|} = \\frac{1}{\\sqrt{3}} \\begin{pmatrix} 1\\\\ 1\\\\ 1\\\\ \\end{pmatrix}\n",
    "$$"
   ]
  },
  {
   "cell_type": "markdown",
   "id": "aa4629c5-82a0-45c1-81b2-0b14a6581edf",
   "metadata": {},
   "source": [
    "(2) $b_2$を求める\n",
    "\n",
    "$$\n",
    "\\begin{aligned}\n",
    "c &= \\langle a_2, b_1 \\rangle\\\\\n",
    "&= \\frac{1}{\\|a_1\\|} \\langle a_2, a_1 \\rangle\\\\\n",
    "&= \\frac{1}{\\sqrt{3}} \\begin{pmatrix} 0 & 1 & 1 \\end{pmatrix} \\begin{pmatrix} 1\\\\ 1\\\\ 1\\\\ \\end{pmatrix}\\\\\n",
    "&= \\frac{2}{\\sqrt{3}}\n",
    "\\end{aligned}\n",
    "$$\n",
    "\n",
    "$$\n",
    "\\begin{aligned}\n",
    "a_2 - c b_1\n",
    "&= a_2 - \\frac{2}{\\sqrt{3}} \\frac{1}{\\sqrt{3}} a_1\\\\\n",
    "&= a_2 - \\frac{2}{3} a_1\\\\\n",
    "&= \\begin{pmatrix} 0\\\\ 1\\\\ 1\\\\ \\end{pmatrix} - \\frac{2}{3} \\begin{pmatrix} 1\\\\ 1\\\\ 1\\\\ \\end{pmatrix}\\\\\n",
    "&= \\begin{pmatrix} -\\frac{2}{3}\\\\ \\frac{1}{3}\\\\ \\frac{1}{3} \\end{pmatrix}\\\\\n",
    "\\end{aligned}\n",
    "$$"
   ]
  },
  {
   "cell_type": "markdown",
   "id": "20e6426c-0d7c-40d2-acc6-30d32a48ee97",
   "metadata": {},
   "source": [
    "$$\n",
    "\\begin{aligned}\n",
    "\\| a_2 - c b_1 \\|\n",
    "&= \\sqrt{ |-\\frac{2}{3}|^2 + |\\frac{1}{3}|^2 + |\\frac{1}{3}|^2}\\\\\n",
    "&= \\sqrt{ \\frac{4}{9} + \\frac{1}{9} + \\frac{1}{9}  }\\\\\n",
    "&= \\sqrt{ \\frac{6}{9} }\\\\\n",
    "&= \\frac{ \\sqrt{6} }{3}\n",
    "\\end{aligned}\n",
    "$$"
   ]
  },
  {
   "cell_type": "markdown",
   "id": "a0c7dd63-017b-4f67-8e36-d36ae958238e",
   "metadata": {},
   "source": [
    "$$\n",
    "\\begin{aligned}\n",
    "b_2 &= \\frac{a_2 - c b_1} { \\| a_2 - c b_1 \\| }\\\\\n",
    "&= \\frac{ 3 }{\\sqrt{6}} \\begin{pmatrix} -\\frac{2}{3}\\\\ \\frac{1}{3}\\\\ \\frac{1}{3} \\end{pmatrix}\n",
    "\\\\\n",
    "&= \\frac{ 3 }{\\sqrt{6}} \\frac{ \\sqrt{6}}{\\sqrt{6}} \\begin{pmatrix} -\\frac{2}{3}\\\\ \\frac{1}{3}\\\\ \\frac{1}{3} \\end{pmatrix}\\\\\n",
    "&= \\frac{3\\sqrt{6}}{6} \\begin{pmatrix} -\\frac{2}{3}\\\\ \\frac{1}{3}\\\\ \\frac{1}{3} \\end{pmatrix}\\\\\n",
    "&= \\begin{pmatrix} -\\frac{2\\sqrt{6}}{6}\\\\ \\frac{\\sqrt{6}}{6}\\\\ \\frac{\\sqrt{6}}{6} \\end{pmatrix}\\\\\n",
    "\\end{aligned}\n",
    "$$"
   ]
  },
  {
   "cell_type": "markdown",
   "id": "ea7aea15-4a76-435f-8513-43bff488de64",
   "metadata": {},
   "source": [
    "(3) $b_3$を求める\n",
    "\n",
    "$$\n",
    "c_1 = \\langle a_3, b_1 \\rangle\n",
    "= \\frac{1}{\\sqrt{3}}\n",
    "\\begin{pmatrix} 0 & 0 & 1 \\end{pmatrix}\n",
    "\\begin{pmatrix} 1\\\\ 1\\\\ 1\\\\ \\end{pmatrix}\n",
    "= \\frac{1}{\\sqrt{3}}\n",
    "$$\n",
    "\n",
    "$$\n",
    "c_2 = \\langle a_3, b_2 \\rangle\n",
    "= \\begin{pmatrix} 0 & 0 & 1 \\end{pmatrix}\n",
    "\\begin{pmatrix} -\\frac{2\\sqrt{6}}{6}\\\\ \\frac{\\sqrt{6}}{6}\\\\ \\frac{\\sqrt{6}}{6} \\end{pmatrix}\n",
    "= \\frac{\\sqrt{6}}{6}\n",
    "$$"
   ]
  },
  {
   "cell_type": "markdown",
   "id": "32621eb8-3151-4eef-a28f-b590555bf734",
   "metadata": {},
   "source": [
    "$$\n",
    "\\begin{aligned}\n",
    "a_3 - (c_1 b_1 + c_2 b_2)\n",
    "&= a_3 - \\frac{1}{\\sqrt{3}} \\frac{1}{\\sqrt{3}} \\begin{pmatrix} 1\\\\ 1\\\\ 1\\\\ \\end{pmatrix}\n",
    "- \\frac{\\sqrt{6}}{6} \\begin{pmatrix} -\\frac{2\\sqrt{6}}{6}\\\\ \\frac{\\sqrt{6}}{6}\\\\ \\frac{\\sqrt{6}}{6} \\end{pmatrix}\n",
    "\\\\\n",
    "&= a_3 - \\frac{1}{3} \\begin{pmatrix} 1\\\\ 1\\\\ 1\\\\ \\end{pmatrix}\n",
    "- \\begin{pmatrix} -\\frac{2}{6}\\\\ \\frac{1}{6}\\\\ \\frac{1}{6} \\end{pmatrix}\n",
    "\\\\\n",
    "&= a_3\n",
    "- \\begin{pmatrix} \\frac{2}{6}\\\\ \\frac{2}{6}\\\\ \\frac{2}{6}\\\\ \\end{pmatrix}\n",
    "- \\begin{pmatrix} -\\frac{2}{6}\\\\ \\frac{1}{6}\\\\ \\frac{1}{6} \\end{pmatrix}\n",
    "\\\\\n",
    "&= \\begin{pmatrix} 0\\\\ 0\\\\ 1\\\\ \\end{pmatrix}\n",
    "- \\begin{pmatrix} 0\\\\ \\frac{3}{6} \\\\ \\frac{3}{6} \\end{pmatrix}\n",
    "\\\\\n",
    "&= \\begin{pmatrix} 0\\\\ -\\frac{1}{2}\\\\ \\frac{1}{2} \\end{pmatrix}\n",
    "\\end{aligned}\n",
    "$$"
   ]
  },
  {
   "cell_type": "markdown",
   "id": "2694945c-32ea-49eb-9abb-fcfc3bb34d00",
   "metadata": {},
   "source": [
    "$$\n",
    "\\|a_3 - (c_1 b_1 + c_2 b_2)\\|\n",
    "= \\sqrt{(\\frac{1}{2})^2 + (\\frac{1}{2})^2}\n",
    "= \\sqrt{\\frac{1}{2}}\n",
    "= \\frac{1}{\\sqrt{2}}\n",
    "$$"
   ]
  },
  {
   "cell_type": "markdown",
   "id": "6e2ac705-4de0-42b2-ba4a-ef99e0d83a4f",
   "metadata": {},
   "source": [
    "$$\n",
    "\\begin{aligned}\n",
    "b_3 &= \\frac{a_3 - (c_1 b_1 + c_2 b_2)}{\\|a_3 - (c_1 b_1 + c_2 b_2)\\|}\\\\\n",
    "&= \\sqrt{2} \\begin{pmatrix} 0\\\\ -\\frac{1}{2}\\\\ \\frac{1}{2} \\end{pmatrix}\\\\\n",
    "&=  \\begin{pmatrix} 0\\\\ -\\frac{\\sqrt{2}}{2}\\\\ \\frac{\\sqrt{2}}{2} \\end{pmatrix}\\\\\n",
    "\\end{aligned}\n",
    "$$"
   ]
  },
  {
   "cell_type": "code",
   "execution_count": 60,
   "id": "ac15eb24-b18b-4202-937d-02f2e05cec7b",
   "metadata": {},
   "outputs": [
    {
     "data": {
      "text/latex": [
       "$\\displaystyle \\left[\\begin{matrix}\\frac{\\sqrt{3}}{3}\\\\\\frac{\\sqrt{3}}{3}\\\\\\frac{\\sqrt{3}}{3}\\end{matrix}\\right]$"
      ],
      "text/plain": [
       "Matrix([\n",
       "[sqrt(3)/3],\n",
       "[sqrt(3)/3],\n",
       "[sqrt(3)/3]])"
      ]
     },
     "execution_count": 60,
     "metadata": {},
     "output_type": "execute_result"
    }
   ],
   "source": [
    "import sympy as sp\n",
    "\n",
    "a1 = sp.Matrix([1, 1, 1])\n",
    "a2 = sp.Matrix([0, 1, 1])\n",
    "a3 = sp.Matrix([0, 0, 1])\n",
    "\n",
    "b1 = a1 / a1.norm()\n",
    "b1"
   ]
  },
  {
   "cell_type": "code",
   "execution_count": 40,
   "id": "47a9ba81-b8fe-4d15-9007-d38e73955844",
   "metadata": {
    "scrolled": true
   },
   "outputs": [
    {
     "data": {
      "text/latex": [
       "$\\displaystyle \\left[\\begin{matrix}- \\frac{\\sqrt{6}}{3}\\\\\\frac{\\sqrt{6}}{6}\\\\\\frac{\\sqrt{6}}{6}\\end{matrix}\\right]$"
      ],
      "text/plain": [
       "Matrix([\n",
       "[-sqrt(6)/3],\n",
       "[ sqrt(6)/6],\n",
       "[ sqrt(6)/6]])"
      ]
     },
     "execution_count": 40,
     "metadata": {},
     "output_type": "execute_result"
    }
   ],
   "source": [
    "c = (a2.T @ b1)[0]\n",
    "b2 = (a2 - c * b1) / (a2 - c * b1).norm()\n",
    "b2"
   ]
  },
  {
   "cell_type": "code",
   "execution_count": 61,
   "id": "ae124844-fb6d-4ef9-afd8-bb89f249afd7",
   "metadata": {},
   "outputs": [
    {
     "data": {
      "text/latex": [
       "$\\displaystyle \\left[\\begin{matrix}0\\\\- \\frac{\\sqrt{2}}{2}\\\\\\frac{\\sqrt{2}}{2}\\end{matrix}\\right]$"
      ],
      "text/plain": [
       "Matrix([\n",
       "[         0],\n",
       "[-sqrt(2)/2],\n",
       "[ sqrt(2)/2]])"
      ]
     },
     "execution_count": 61,
     "metadata": {},
     "output_type": "execute_result"
    }
   ],
   "source": [
    "c1 = (a3.T @ b1)[0]\n",
    "c2 = (a3.T @ b2)[0]\n",
    "b3 = (a3 - (c1 * b1 + c2 * b2)) / (a3 - (c1 * b1 + c2 * b2)).norm()\n",
    "b3"
   ]
  },
  {
   "cell_type": "code",
   "execution_count": 65,
   "id": "3340d83c-f34f-46f4-8b5f-128574795cab",
   "metadata": {},
   "outputs": [
    {
     "data": {
      "text/plain": [
       "[Matrix([\n",
       " [sqrt(3)/3],\n",
       " [sqrt(3)/3],\n",
       " [sqrt(3)/3]]),\n",
       " Matrix([\n",
       " [-sqrt(6)/3],\n",
       " [ sqrt(6)/6],\n",
       " [ sqrt(6)/6]]),\n",
       " Matrix([\n",
       " [         0],\n",
       " [-sqrt(2)/2],\n",
       " [ sqrt(2)/2]])]"
      ]
     },
     "execution_count": 65,
     "metadata": {},
     "output_type": "execute_result"
    }
   ],
   "source": [
    "sp.GramSchmidt([a1,a2,a3], True)"
   ]
  },
  {
   "cell_type": "code",
   "execution_count": 66,
   "id": "9db9dd22-b727-40b0-a1ae-5b4faeab3240",
   "metadata": {},
   "outputs": [
    {
     "data": {
      "text/plain": [
       "[Matrix([\n",
       " [1],\n",
       " [1],\n",
       " [1]]),\n",
       " Matrix([\n",
       " [-2/3],\n",
       " [ 1/3],\n",
       " [ 1/3]]),\n",
       " Matrix([\n",
       " [   0],\n",
       " [-1/2],\n",
       " [ 1/2]])]"
      ]
     },
     "execution_count": 66,
     "metadata": {},
     "output_type": "execute_result"
    }
   ],
   "source": [
    "sp.GramSchmidt([a1,a2,a3], orthonormal=False)"
   ]
  },
  {
   "cell_type": "markdown",
   "id": "682b81cd-88f8-48ce-95dd-9e8384dd46a1",
   "metadata": {},
   "source": [
    "## 問2\n",
    "\n",
    ":::{card}\n",
    "次の問いに答えよ。\n",
    "\n",
    "1. 直交行列の定義を書け。\n",
    "2. $A, B$ を $n$ 次の直交行列とすると、積 $A B$ も直交行列であることを示せ。\n",
    "3. $A$ を直交行列とすると、 $A$ は正則で、逆行列 $A^{-1}$ も直交行列であることを示せ。\n",
    ":::"
   ]
  },
  {
   "cell_type": "markdown",
   "id": "5d3e0fd3-8a63-4f59-8231-463ce54b4a4b",
   "metadata": {},
   "source": [
    ":::{admonition} 補足\n",
    ":class: tip\n",
    "\n",
    "$n$ 次の直交行列全体の集合は $\\mathrm{O}(n, \\mathbb{R})$ または $\\mathrm{O}(n)$ と書くことが多い（$O$ は「直交する」を意味する英単語”orthogonal”の頭文字である。また、ここでは直交行列は実行列としている）。 $A, B, C \\in$ $\\mathrm{O}(n)$ とすると、問 2 の結果を含め、次の $1 \\sim 4$ が成り立つ。\n",
    "1. $A B \\in \\mathrm{O}(n)$\n",
    "2. $(A B) C=A(B C)$\n",
    "3. $E \\in \\mathrm{O}(n)$ で、 $E A=A E=A$\n",
    "4. $A^{-1} \\in \\mathrm{O}(n)$ で、 $A^{-1} A=A A^{-1}=E$\n",
    "\n",
    "一般の集合に対しても、上の $1 \\sim 4$ のような性質を持つ積を演算として考えると、群というものを定義することができる。 $\\mathrm{O}(n)$ を $n$ 次の **直交群** という。\n",
    ":::"
   ]
  },
  {
   "cell_type": "markdown",
   "id": "0b62cd0f-056a-48da-bab7-fa2137c70ea8",
   "metadata": {
    "jp-MarkdownHeadingCollapsed": true
   },
   "source": [
    ":::{card}\n",
    "1. 直交行列の定義を書け。\n",
    ":::"
   ]
  },
  {
   "cell_type": "markdown",
   "id": "3de806d6-f56b-40eb-8fae-15589db0d47a",
   "metadata": {},
   "source": [
    "転置行列と逆行列が等しくなる行列のこと。すなわち、$A \\in M_n(\\mathbb{R})$について\n",
    "\n",
    "$$\n",
    "A^T A = A A^T = E\n",
    "$$\n",
    "\n",
    "を満たすような行列のこと"
   ]
  },
  {
   "cell_type": "markdown",
   "id": "d5527fa4-be31-4537-bd34-0d29833961ee",
   "metadata": {
    "jp-MarkdownHeadingCollapsed": true
   },
   "source": [
    ":::{card}\n",
    "2. $A, B$ を $n$ 次の直交行列とすると、積 $A B$ も直交行列であることを示せ。\n",
    ":::"
   ]
  },
  {
   "cell_type": "markdown",
   "id": "06d65262-0d54-4063-9d09-e4f99152a1b8",
   "metadata": {},
   "source": [
    "$$\n",
    "\\begin{aligned}\n",
    "(AB)^\\top (AB)\n",
    "&= B^\\top A^\\top AB \\quad ( 転置の法則 (AB)^\\top = B^\\top A^\\top より)\\\\\n",
    "&= B^\\top E B\\\\\n",
    "&= B^\\top B\\\\\n",
    "&= E\n",
    "\\end{aligned}\n",
    "$$\n",
    "\n",
    "$$\n",
    "\\begin{aligned}\n",
    "(AB) (AB)^\\top\n",
    "&= AB B^\\top A^\\top \\quad ( 転置の法則 (AB)^\\top = B^\\top A^\\top より)\\\\\n",
    "&= A E A\\\\\n",
    "&= A^\\top A\\\\\n",
    "&= E\n",
    "\\end{aligned}\n",
    "$$\n",
    "\n",
    "より、積$AB$も直交行列である"
   ]
  },
  {
   "cell_type": "markdown",
   "id": "7c84045a-5e59-4e93-a461-cf13a76fa2f0",
   "metadata": {
    "jp-MarkdownHeadingCollapsed": true
   },
   "source": [
    ":::{card}\n",
    "3. $A$ を直交行列とすると、 $A$ は正則で、逆行列 $A^{-1}$ も直交行列であることを示せ。\n",
    ":::"
   ]
  },
  {
   "cell_type": "markdown",
   "id": "1210a316-f687-4366-bc09-23a325f8569f",
   "metadata": {},
   "source": [
    "$A$が直交行列であれば、その転置行列$A^\\top$は逆行列$A^{-1}$に等しい。\n",
    "行列$A$に逆行列$A^{-1}$が存在することと$A$が正則であることは同値であるため、$A$は正則である。\n",
    "\n",
    "よって\n",
    "\n",
    "$$\n",
    "Aは直交行列 \\implies Aは正則\n",
    "$$\n",
    "\n",
    "である。\n"
   ]
  },
  {
   "cell_type": "markdown",
   "id": "0fac1d40-93f9-4682-a18b-a0045e33c794",
   "metadata": {},
   "source": [
    "$A$が直交行列であれば、定義より$A^{-1} = A^\\top$である。\n",
    "\n",
    "$(A^\\top)^\\top = A$のため、\n",
    "\n",
    "$$\n",
    "(A^{-1})^\\top A^{-1}\n",
    "= A A^\\top\n",
    "= E\n",
    "$$\n",
    "\n",
    "よって$A^{-1}$は直交行列である"
   ]
  },
  {
   "cell_type": "markdown",
   "id": "6fa1d4a2-06c4-4f78-9385-ec10e57878ca",
   "metadata": {},
   "source": [
    "## 問3\n",
    "\n",
    ":::{card}\n",
    "2 次の直交行列は $0 \\leq \\theta<2 \\pi$ をみたす $\\theta$ を用いて、\n",
    "\n",
    "$$\n",
    "\\left(\\begin{array}{ll}\\cos \\theta & \\mp \\sin \\theta \\\\ \\sin \\theta & \\pm \\cos \\theta\\end{array}\\right) \\quad (複合同順)\n",
    "$$\n",
    "と表されることを示せ。\n",
    ":::"
   ]
  },
  {
   "cell_type": "code",
   "execution_count": null,
   "id": "d9f131d4-68a7-4292-8f59-6d80acd5f073",
   "metadata": {},
   "outputs": [],
   "source": []
  },
  {
   "cell_type": "markdown",
   "id": "904c684d-4f20-4acd-bd55-f0d3c1de381c",
   "metadata": {},
   "source": [
    "## 問4\n",
    "\n",
    "::::{card}\n",
    "\n",
    "$A \\in M_n(\\mathbb{R})$ に対して、 $\\mathbb{R}^n$ の線形変換 $f_A$ を\n",
    "\n",
    "$$\n",
    "f_A(\\boldsymbol{x})=A \\boldsymbol{x} \\quad\\left(\\boldsymbol{x} \\in \\mathbb{R}^n\\right)\n",
    "$$\n",
    "\n",
    "により定め、 $\\mathbb{R}^n$ の標準内積を考える。以下の定理 23.4 の 2 と 3 の同値性を示せ。\n",
    "\n",
    ":::{card} 定理 23.4\n",
    "\n",
    "$$\n",
    "f_A(\\boldsymbol{x})=A \\boldsymbol{x} \\quad\\left(\\boldsymbol{x} \\in \\mathbb{R}^n\\right)\n",
    "$$\n",
    "\n",
    "により定め、 $\\mathbb{R}^n$ の標準内積を考える。このとき、次の $1 \\sim 3$ は互いに同値である。\n",
    "\n",
    "1. $f_A$ は直交変換である。\n",
    "2. $A$ は直交行列である。\n",
    "3. $A$ の $n$ 個の列ベクトルは $\\mathbb{R}^n$ の正規直交基底である。\n",
    ":::\n",
    "\n",
    "\n",
    "::::"
   ]
  },
  {
   "cell_type": "code",
   "execution_count": null,
   "id": "67bf0088-308e-40b9-9dc5-1db495ad02bc",
   "metadata": {},
   "outputs": [],
   "source": []
  },
  {
   "cell_type": "code",
   "execution_count": null,
   "id": "e916708f-4b28-4770-8b6b-88822601cc39",
   "metadata": {},
   "outputs": [],
   "source": []
  }
 ],
 "metadata": {
  "kernelspec": {
   "display_name": "Python 3 (ipykernel)",
   "language": "python",
   "name": "python3"
  },
  "language_info": {
   "codemirror_mode": {
    "name": "ipython",
    "version": 3
   },
   "file_extension": ".py",
   "mimetype": "text/x-python",
   "name": "python",
   "nbconvert_exporter": "python",
   "pygments_lexer": "ipython3",
   "version": "3.10.15"
  }
 },
 "nbformat": 4,
 "nbformat_minor": 5
}
