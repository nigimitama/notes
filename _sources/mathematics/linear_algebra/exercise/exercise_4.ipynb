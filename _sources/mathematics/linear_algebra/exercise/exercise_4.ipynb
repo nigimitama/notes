{
 "cells": [
  {
   "cell_type": "markdown",
   "id": "125ea446-66e9-4963-b10c-ee925e68fd4b",
   "metadata": {},
   "source": [
    "# 練習問題 メモ 4"
   ]
  },
  {
   "cell_type": "markdown",
   "id": "af8dba04-c3f4-40be-87fe-c2b418c910dd",
   "metadata": {},
   "source": [
    "## 4.1\n",
    "\n",
    "> 次の１～３の行列の階数標準形および階数(rank)を求めよ\n",
    "\n",
    "### 1.\n",
    "\n",
    "> 1. $\\left(\\begin{array}{ll}1 & 2 \\\\ 3 & 4 \\\\ 5 & 6\\end{array}\\right)$\n"
   ]
  },
  {
   "cell_type": "markdown",
   "id": "3c0077db-68d5-4b23-9689-d594f7e8794d",
   "metadata": {},
   "source": [
    "行ベクトルを\n",
    "\n",
    "$$\n",
    "\\begin{pmatrix}\n",
    "a_1 \\\\\n",
    "a_2 \\\\\n",
    "a_3\n",
    "\\end{pmatrix}\n",
    "$$\n",
    "\n",
    "とする\n",
    "\n",
    "1. $a_2' = a_2 + (-2) \\times a_1$"
   ]
  },
  {
   "cell_type": "code",
   "execution_count": 108,
   "id": "ebfb7bc9-5cbe-45dd-ab26-fb5dfcb49821",
   "metadata": {},
   "outputs": [],
   "source": [
    "import numpy as np\n",
    "A = np.array([\n",
    "    [1, 2],\n",
    "    [3, 4],\n",
    "    [5, 6],\n",
    "])"
   ]
  },
  {
   "cell_type": "code",
   "execution_count": 109,
   "id": "a124bf27-5614-4066-a6cf-ca8733600b9d",
   "metadata": {},
   "outputs": [
    {
     "data": {
      "text/plain": [
       "array([[1, 2],\n",
       "       [1, 0],\n",
       "       [5, 6]])"
      ]
     },
     "execution_count": 109,
     "metadata": {},
     "output_type": "execute_result"
    }
   ],
   "source": [
    "# 1行目を-2倍して2行目に加える\n",
    "A[1, :] += A[0, :] * (-2)\n",
    "A"
   ]
  },
  {
   "cell_type": "code",
   "execution_count": 110,
   "id": "8ff48fd8-c793-4660-b160-8fd7131072ec",
   "metadata": {},
   "outputs": [
    {
     "data": {
      "text/plain": [
       "array([[1, 2],\n",
       "       [1, 0],\n",
       "       [2, 0]])"
      ]
     },
     "execution_count": 110,
     "metadata": {},
     "output_type": "execute_result"
    }
   ],
   "source": [
    "# 1行目を-3倍して3行目に加える\n",
    "A[2, :] += A[0, :] * (-3)\n",
    "A"
   ]
  },
  {
   "cell_type": "code",
   "execution_count": 111,
   "id": "413752d2-9539-448c-9c18-79046289f1dd",
   "metadata": {},
   "outputs": [
    {
     "data": {
      "text/plain": [
       "array([[1, 2],\n",
       "       [1, 0],\n",
       "       [1, 0]])"
      ]
     },
     "execution_count": 111,
     "metadata": {},
     "output_type": "execute_result"
    }
   ],
   "source": [
    "# 3行目を(1/2)倍する\n",
    "A[2, :] = (1 / 2) * A[2, :]\n",
    "A"
   ]
  },
  {
   "cell_type": "code",
   "execution_count": 112,
   "id": "3b774cb2-655a-4976-8fc6-6e5de45f6b4c",
   "metadata": {},
   "outputs": [
    {
     "data": {
      "text/plain": [
       "array([[1, 2],\n",
       "       [1, 0],\n",
       "       [0, 0]])"
      ]
     },
     "execution_count": 112,
     "metadata": {},
     "output_type": "execute_result"
    }
   ],
   "source": [
    "# 2行目を-1倍して3行目に加える\n",
    "A[2, :] += A[1, :] * (-1)\n",
    "A"
   ]
  },
  {
   "cell_type": "code",
   "execution_count": 113,
   "id": "c9ccef5d-ea20-4f00-a0f2-01afac1560dd",
   "metadata": {},
   "outputs": [
    {
     "data": {
      "text/plain": [
       "array([[0, 2],\n",
       "       [1, 0],\n",
       "       [0, 0]])"
      ]
     },
     "execution_count": 113,
     "metadata": {},
     "output_type": "execute_result"
    }
   ],
   "source": [
    "# 2行目を-1倍して1行目に加える\n",
    "A[0, :] += A[1, :] * (-1)\n",
    "A"
   ]
  },
  {
   "cell_type": "code",
   "execution_count": 114,
   "id": "387bb8a9-c1d1-4928-801b-44265b4f0e92",
   "metadata": {},
   "outputs": [
    {
     "data": {
      "text/plain": [
       "array([[0, 1],\n",
       "       [1, 0],\n",
       "       [0, 0]])"
      ]
     },
     "execution_count": 114,
     "metadata": {},
     "output_type": "execute_result"
    }
   ],
   "source": [
    "# 1行目を(1/2)倍する\n",
    "A[0, :] = (1 / 2) * A[0, :]\n",
    "A"
   ]
  },
  {
   "cell_type": "code",
   "execution_count": 115,
   "id": "cf835496-3fad-490a-9a47-0d2d04168461",
   "metadata": {},
   "outputs": [
    {
     "data": {
      "text/plain": [
       "array([[1, 0],\n",
       "       [0, 1],\n",
       "       [0, 0]])"
      ]
     },
     "execution_count": 115,
     "metadata": {},
     "output_type": "execute_result"
    }
   ],
   "source": [
    "# 1行目と2行目を入れ替える\n",
    "a1 = A[0, :].copy()\n",
    "a2 = A[1, :].copy()\n",
    "A[0, :] = a2\n",
    "A[1, :] = a1\n",
    "A"
   ]
  },
  {
   "cell_type": "markdown",
   "id": "4adb34ed-a2c0-4777-b24e-af6190cd04a7",
   "metadata": {},
   "source": [
    "### 2.\n",
    "\n",
    "> 2.\n",
    "> $$\n",
    "\\left(\\begin{array}{lll}0 & 1 & 0 \\\\ 1 & 0 & 1 \\\\ 0 & 1 & 0\\end{array}\\right)\n",
    "$$\n"
   ]
  },
  {
   "cell_type": "code",
   "execution_count": 27,
   "id": "b0ea7838-26f0-4ce9-8dc8-3e78fe449b7b",
   "metadata": {},
   "outputs": [],
   "source": [
    "import numpy as np\n",
    "A = np.array([\n",
    "    [0, 1, 0],\n",
    "    [1, 0, 1],\n",
    "    [0, 1, 0],\n",
    "])"
   ]
  },
  {
   "cell_type": "code",
   "execution_count": 23,
   "id": "d11593ec-c748-4131-b945-7f788d1180af",
   "metadata": {},
   "outputs": [
    {
     "data": {
      "text/plain": [
       "array([[0, 1, 0],\n",
       "       [1, 0, 1],\n",
       "       [0, 0, 0]])"
      ]
     },
     "execution_count": 23,
     "metadata": {},
     "output_type": "execute_result"
    }
   ],
   "source": [
    "# 1行目を-1倍して3行目に加える\n",
    "A[2, :] += (-1) * A[0, :]\n",
    "A"
   ]
  },
  {
   "cell_type": "code",
   "execution_count": 24,
   "id": "03de1c5a-8b1e-41bf-a294-2c5bdd2be972",
   "metadata": {},
   "outputs": [
    {
     "data": {
      "text/plain": [
       "array([[0, 1, 0],\n",
       "       [1, 0, 0],\n",
       "       [0, 0, 0]])"
      ]
     },
     "execution_count": 24,
     "metadata": {},
     "output_type": "execute_result"
    }
   ],
   "source": [
    "# 0列目を-1倍して3列目に加える\n",
    "A[:, 2] += (-1) * A[:, 0]\n",
    "A"
   ]
  },
  {
   "cell_type": "code",
   "execution_count": 25,
   "id": "5088d0df-622b-442e-9977-09dbdc5c7073",
   "metadata": {},
   "outputs": [
    {
     "data": {
      "text/plain": [
       "array([[1, 0, 0],\n",
       "       [0, 1, 0],\n",
       "       [0, 0, 0]])"
      ]
     },
     "execution_count": 25,
     "metadata": {},
     "output_type": "execute_result"
    }
   ],
   "source": [
    "# 1行目と2行目を入れ替える\n",
    "a1 = A[0, :].copy()\n",
    "a2 = A[1, :].copy()\n",
    "A[0, :] = a2\n",
    "A[1, :] = a1\n",
    "A"
   ]
  },
  {
   "cell_type": "markdown",
   "id": "26419a08-c155-43dd-8a54-904ff797cdb2",
   "metadata": {},
   "source": [
    "### 3.\n",
    "\n",
    "> 3.\n",
    "> $$\n",
    "\\left(\\begin{array}{lll}a & 1 & 1 \\\\ 1 & a & 1 \\\\ 1 & 1 & a\\end{array}\\right)\n",
    "$$\n"
   ]
  },
  {
   "cell_type": "markdown",
   "id": "733caea6-1d16-4a94-a1f6-08638bbe0ea8",
   "metadata": {},
   "source": [
    "わからなかった"
   ]
  },
  {
   "cell_type": "code",
   "execution_count": 199,
   "id": "d84dc152-2aec-4310-9f42-69364916c79c",
   "metadata": {},
   "outputs": [
    {
     "data": {
      "text/latex": [
       "$\\displaystyle \\left[\\begin{matrix}a & 1 & 1\\\\1 & a & 1\\\\1 & 1 & a\\end{matrix}\\right]$"
      ],
      "text/plain": [
       "Matrix([\n",
       "[a, 1, 1],\n",
       "[1, a, 1],\n",
       "[1, 1, a]])"
      ]
     },
     "execution_count": 199,
     "metadata": {},
     "output_type": "execute_result"
    }
   ],
   "source": [
    "from sympy import Symbol, Matrix\n",
    "\n",
    "a = Symbol(\"a\")\n",
    "A = Matrix([\n",
    "    [a, 1, 1],\n",
    "    [1, a, 1],\n",
    "    [1, 1, a],\n",
    "])\n",
    "A"
   ]
  },
  {
   "cell_type": "code",
   "execution_count": 215,
   "id": "c02a1cd7-e409-4385-a965-0e8170a31e31",
   "metadata": {},
   "outputs": [
    {
     "data": {
      "text/latex": [
       "$\\displaystyle \\left[\\begin{matrix}1 & a & 1\\\\a & 1 & 1\\\\1 & 1 & a\\end{matrix}\\right]$"
      ],
      "text/plain": [
       "Matrix([\n",
       "[1, a, 1],\n",
       "[a, 1, 1],\n",
       "[1, 1, a]])"
      ]
     },
     "execution_count": 215,
     "metadata": {},
     "output_type": "execute_result"
    }
   ],
   "source": [
    "# 1行目と2行目を入れ替える\n",
    "a1 = A[0, :].copy()\n",
    "a2 = A[1, :].copy()\n",
    "A[0, :] = a2\n",
    "A[1, :] = a1\n",
    "A"
   ]
  },
  {
   "cell_type": "code",
   "execution_count": 216,
   "id": "70c6f408-ef79-4a50-9281-9a178f44a01e",
   "metadata": {},
   "outputs": [
    {
     "data": {
      "text/latex": [
       "$\\displaystyle \\left[\\begin{matrix}1 & a & 1\\\\0 & 1 - a^{2} & 1 - a\\\\1 & 1 & a\\end{matrix}\\right]$"
      ],
      "text/plain": [
       "Matrix([\n",
       "[1,        a,     1],\n",
       "[0, 1 - a**2, 1 - a],\n",
       "[1,        1,     a]])"
      ]
     },
     "execution_count": 216,
     "metadata": {},
     "output_type": "execute_result"
    }
   ],
   "source": [
    "A[1, :] += -a * A[0, :]\n",
    "A"
   ]
  },
  {
   "cell_type": "code",
   "execution_count": 217,
   "id": "c20c0484-df27-4277-ae7c-a8a2e703e488",
   "metadata": {},
   "outputs": [
    {
     "data": {
      "text/latex": [
       "$\\displaystyle \\left[\\begin{matrix}1 & a & 1\\\\0 & 1 - a^{2} & 1 - a\\\\0 & 1 - a & a - 1\\end{matrix}\\right]$"
      ],
      "text/plain": [
       "Matrix([\n",
       "[1,        a,     1],\n",
       "[0, 1 - a**2, 1 - a],\n",
       "[0,    1 - a, a - 1]])"
      ]
     },
     "execution_count": 217,
     "metadata": {},
     "output_type": "execute_result"
    }
   ],
   "source": [
    "A[2, :] += -1 * A[0, :]\n",
    "A"
   ]
  },
  {
   "cell_type": "code",
   "execution_count": 217,
   "id": "21dbf44c-8443-4b65-a461-bdcef38632f5",
   "metadata": {},
   "outputs": [
    {
     "data": {
      "text/latex": [
       "$\\displaystyle \\left[\\begin{matrix}1 & a & 1\\\\0 & 1 - a^{2} & 1 - a\\\\0 & 1 - a & a - 1\\end{matrix}\\right]$"
      ],
      "text/plain": [
       "Matrix([\n",
       "[1,        a,     1],\n",
       "[0, 1 - a**2, 1 - a],\n",
       "[0,    1 - a, a - 1]])"
      ]
     },
     "execution_count": 217,
     "metadata": {},
     "output_type": "execute_result"
    }
   ],
   "source": [
    "A[2, :] += -1 * A[0, :]\n",
    "A"
   ]
  },
  {
   "cell_type": "markdown",
   "id": "05224b01-11d2-4091-9090-3872234b3720",
   "metadata": {},
   "source": [
    "未知の変数があって最終的なランクが変わりうる → 場合分けする"
   ]
  },
  {
   "cell_type": "markdown",
   "id": "52cfd96b-96fc-4672-8021-f680e438b9c9",
   "metadata": {},
   "source": [
    "\n",
    "もし$a=1$なら\n",
    "\n",
    "$$\n",
    "\\begin{pmatrix}\n",
    "1 & a & 1\\\\\n",
    "0 & 1 - a^{2} & 1 - a\\\\\n",
    "0 & 1 - a & a - 1\n",
    "\\end{pmatrix}\n",
    "=\n",
    "\\begin{pmatrix}\n",
    "1 & 1 & 1\\\\\n",
    "0 & 1 - 1^{2} & 1 - 1\\\\\n",
    "0 & 1 - 1 & 1 - 1\n",
    "\\end{pmatrix}\n",
    "=\n",
    "\\begin{pmatrix}\n",
    "1 & 1 & 1\\\\\n",
    "0 & 0 & 0\\\\\n",
    "0 & 0 & 0\n",
    "\\end{pmatrix}\n",
    "$$\n",
    "\n",
    "\n",
    "列基本変形（列で引き算）して\n",
    "\n",
    "$$\n",
    "\\begin{pmatrix}\n",
    "1 & 0 & 0\\\\\n",
    "0 & 0 & 0\\\\\n",
    "0 & 0 & 0\n",
    "\\end{pmatrix}\n",
    "$$\n",
    "\n",
    "→ rank=1"
   ]
  },
  {
   "cell_type": "markdown",
   "id": "645b7e90-2c35-4d8d-9b84-ca77e80e0db5",
   "metadata": {},
   "source": [
    "もし$a \\neq 1$なら\n",
    "\n",
    "$$\n",
    "\\begin{pmatrix}\n",
    "1 & a & 1\\\\\n",
    "0 & 1 - a^{2} & 1 - a\\\\\n",
    "0 & 1 - a & a - 1\n",
    "\\end{pmatrix}\n",
    "$$"
   ]
  },
  {
   "cell_type": "code",
   "execution_count": 213,
   "id": "190ec9d1-0644-4c25-9e5d-3068307dfc65",
   "metadata": {},
   "outputs": [
    {
     "data": {
      "text/latex": [
       "$\\displaystyle \\left[\\begin{matrix}1 & a & 1\\\\0 & 1 - a^{2} & 1 - a\\\\0 & 0 & a - \\frac{\\left(1 - a\\right)^{2}}{1 - a^{2}} - 1\\end{matrix}\\right]$"
      ],
      "text/plain": [
       "Matrix([\n",
       "[1,        a,                             1],\n",
       "[0, 1 - a**2,                         1 - a],\n",
       "[0,        0, a - (1 - a)**2/(1 - a**2) - 1]])"
      ]
     },
     "execution_count": 213,
     "metadata": {},
     "output_type": "execute_result"
    }
   ],
   "source": [
    "A[2, :] += -((1-a)/(1-a**2)) * A[1, :]\n",
    "A"
   ]
  },
  {
   "cell_type": "code",
   "execution_count": 196,
   "id": "c8a1d9f9-a668-49c6-9b86-bcf4aebbf668",
   "metadata": {},
   "outputs": [
    {
     "data": {
      "text/latex": [
       "$\\displaystyle \\left[\\begin{matrix}1 & a & 1\\\\0 & 1 - a^{2} & 1 - a\\\\0 & 0 & \\frac{\\left(a + 1\\right) \\left(a - \\frac{\\left(1 - a\\right)^{2}}{1 - a^{2}} - 1\\right)}{\\left(a - 1\\right) \\left(a + 2\\right)}\\end{matrix}\\right]$"
      ],
      "text/plain": [
       "Matrix([\n",
       "[1,        a,                                                         1],\n",
       "[0, 1 - a**2,                                                     1 - a],\n",
       "[0,        0, (a + 1)*(a - (1 - a)**2/(1 - a**2) - 1)/((a - 1)*(a + 2))]])"
      ]
     },
     "execution_count": 196,
     "metadata": {},
     "output_type": "execute_result"
    }
   ],
   "source": [
    "A[2, :] = (1+a)/((-1+a)*(2+a)) * A[2, :]\n",
    "A"
   ]
  },
  {
   "cell_type": "markdown",
   "id": "cb7b65d6-00b2-4074-940b-015a21472593",
   "metadata": {},
   "source": [
    "[掃き出し法計算機 - Wolfram|Alpha](https://ja.wolframalpha.com/input?i=%E6%8E%83%E3%81%8D%E5%87%BA%E3%81%97%E6%B3%95%E8%A8%88%E7%AE%97%E6%A9%9F&assumption=%7B%22F%22%2C+%22ReducedRowEchelon%22%2C+%22theMatrix%22%7D+-%3E%22%7B%7Ba%2C+1%2C+1%7D%2C+%7B1%2C+a%2C+1%7D%2C+%7B1%2C+1%2C+a%7D%7D%22)"
   ]
  },
  {
   "cell_type": "markdown",
   "id": "55113de9-4ff8-4095-8c31-65efefbe6131",
   "metadata": {},
   "source": [
    "## 4.2\n",
    "\n",
    "> 次の問に答えよ。\n",
    "> 1. 2次の正方行列に対する階数標準形をすべて書け"
   ]
  },
  {
   "cell_type": "markdown",
   "id": "4c64ccc4-1d4d-4f52-8c39-0cafd4dff298",
   "metadata": {},
   "source": [
    "$$\n",
    "\\begin{pmatrix}\n",
    "0 & 0 \\\\\n",
    "0 & 0 \\\\\n",
    "\\end{pmatrix}\n",
    "= O_2\n",
    ", \\hspace{1em}\n",
    "\\begin{pmatrix}\n",
    "1 & 0 \\\\\n",
    "0 & 0 \\\\\n",
    "\\end{pmatrix}\n",
    ", \\hspace{1em}\n",
    "\\begin{pmatrix}\n",
    "1 & 0 \\\\\n",
    "0 & 1 \\\\\n",
    "\\end{pmatrix}\n",
    "= E_2\n",
    "$$"
   ]
  },
  {
   "cell_type": "markdown",
   "id": "411dfccb-8695-487a-ae27-8b3b094346a0",
   "metadata": {},
   "source": [
    "> 2. 2次の正方行列に対する階段行列をすべて書け。なお、任意の数は*を用いて表せ。"
   ]
  },
  {
   "cell_type": "markdown",
   "id": "baac138f-93ad-48e0-a0d2-55c71995bf84",
   "metadata": {},
   "source": [
    "$* = 0$の状況も考えて1とおくと\n",
    "\n",
    "$$\n",
    "\\begin{pmatrix}\n",
    "0 & 0 \\\\\n",
    "0 & 0 \\\\\n",
    "\\end{pmatrix}\n",
    ", \\hspace{1em}\n",
    "\\begin{pmatrix}\n",
    "1 & * \\\\\n",
    "0 & 0 \\\\\n",
    "\\end{pmatrix}\n",
    ", \\hspace{1em}\n",
    "\\begin{pmatrix}\n",
    "1 & *\\\\\n",
    "0 & 1 \\\\\n",
    "\\end{pmatrix}\n",
    "$$\n",
    "\n",
    "零行列が含まれるのかわからなかった"
   ]
  },
  {
   "cell_type": "code",
   "execution_count": null,
   "id": "bc332cc0-3a2b-481f-aa4d-52484b3b0a08",
   "metadata": {},
   "outputs": [],
   "source": []
  }
 ],
 "metadata": {
  "kernelspec": {
   "display_name": "Python 3 (ipykernel)",
   "language": "python",
   "name": "python3"
  },
  "language_info": {
   "codemirror_mode": {
    "name": "ipython",
    "version": 3
   },
   "file_extension": ".py",
   "mimetype": "text/x-python",
   "name": "python",
   "nbconvert_exporter": "python",
   "pygments_lexer": "ipython3",
   "version": "3.9.18"
  }
 },
 "nbformat": 4,
 "nbformat_minor": 5
}
