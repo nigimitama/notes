{
 "cells": [
  {
   "cell_type": "markdown",
   "id": "18f511ad-a44c-4693-82c9-47a9c22a65ec",
   "metadata": {},
   "source": [
    "# 練習問題 メモ 2"
   ]
  },
  {
   "cell_type": "markdown",
   "id": "5498ca4c-7a8e-4590-9a86-864912c29154",
   "metadata": {},
   "source": [
    "## 2.1\n",
    "\n",
    "> $$\n",
    "3\\left(\\begin{array}{ll}\n",
    "4 & 7 \\\\\n",
    "5 & 8 \\\\\n",
    "6 & 9\n",
    "\\end{array}\\right)+\\left(\\begin{array}{ll}\n",
    "0 & 1 \\\\\n",
    "1 & 2 \\\\\n",
    "2 & 0\n",
    "\\end{array}\\right)\n",
    "$$"
   ]
  },
  {
   "cell_type": "markdown",
   "id": "b3541d73-5f35-4953-88da-ab7db963ac3f",
   "metadata": {},
   "source": [
    "\n",
    "$$\n",
    "\\left(\\begin{array}{ll}\n",
    "12 & 21 \\\\\n",
    "15 & 24 \\\\\n",
    "18 & 27\n",
    "\\end{array}\\right)\n",
    "+\\left(\\begin{array}{ll}\n",
    "0 & 1 \\\\\n",
    "1 & 2 \\\\\n",
    "2 & 0\n",
    "\\end{array}\\right)\n",
    "=\\left(\\begin{array}{ll}\n",
    "12 & 22 \\\\\n",
    "16 & 26 \\\\\n",
    "20 & 27\n",
    "\\end{array}\\right)\n",
    "$$"
   ]
  },
  {
   "cell_type": "markdown",
   "id": "a13ee921-df15-4842-a2de-88e59fb81472",
   "metadata": {},
   "source": [
    "## 2.2\n",
    "\n",
    "> 1. $$\n",
    "\\left(\\begin{array}{lll}\n",
    "3 & 4 & 5\n",
    "\\end{array}\\right)\\left(\\begin{array}{ll}\n",
    "0 & 1 \\\\\n",
    "1 & 2 \\\\\n",
    "2 & 0\n",
    "\\end{array}\\right)\n",
    "$$"
   ]
  },
  {
   "cell_type": "markdown",
   "id": "5e842ef4-313a-4bc6-97db-fb0f819e7791",
   "metadata": {},
   "source": [
    "$$\n",
    "\\begin{pmatrix}\n",
    "3\\cdot 0 + 4 \\cdot 1 + 5 \\cdot 2 & \\hspace{1em} 3\\cdot 1 + 4 \\cdot 2 + 0\n",
    "\\end{pmatrix}\n",
    "\\\\\n",
    "= \\begin{pmatrix}\n",
    "14 & 11\n",
    "\\end{pmatrix}\n",
    "$$"
   ]
  },
  {
   "cell_type": "markdown",
   "id": "ac86ded2-4d1c-4716-ab3b-26e50b1294e6",
   "metadata": {},
   "source": [
    "> 2. $$\n",
    "\\left(\\begin{array}{l}\n",
    "3 \\\\\n",
    "4\n",
    "\\end{array}\\right)\\left(\\begin{array}{ll}\n",
    "1 & 2\n",
    "\\end{array}\\right)\n",
    "$$"
   ]
  },
  {
   "cell_type": "markdown",
   "id": "5f0a4675-9a07-48b9-af53-31a1d422379e",
   "metadata": {},
   "source": [
    "$$\n",
    "\\left(\\begin{array}{l}\n",
    "a_1 \\\\\n",
    "a_2\n",
    "\\end{array}\\right)\n",
    "\\left(\\begin{array}{ll}\n",
    "b_1 & b_2\n",
    "\\end{array}\\right)\n",
    "= \\begin{pmatrix}\n",
    "a_1 b_1 & a_1 b_2\\\\\n",
    "a_2 b_1 & a_2 b_2\\\\\n",
    "\\end{pmatrix}\n",
    "$$\n",
    "\n",
    "なので\n",
    "\n",
    "$$\n",
    "\\left(\\begin{array}{l}\n",
    "3 \\\\\n",
    "4\n",
    "\\end{array}\\right)\\left(\\begin{array}{ll}\n",
    "1 & 2\n",
    "\\end{array}\\right)\n",
    "= \\begin{pmatrix}\n",
    "3\\cdot 1 & 3 \\cdot 2\\\\\n",
    "4\\cdot 1 & 4 \\cdot 2\\\\\n",
    "\\end{pmatrix}\n",
    "= \\begin{pmatrix}\n",
    "3 & 6\\\\\n",
    "4 & 8\\\\\n",
    "\\end{pmatrix}\n",
    "$$"
   ]
  },
  {
   "cell_type": "code",
   "execution_count": 5,
   "id": "79ce2e86-19d1-4f60-ba23-eda78325b058",
   "metadata": {
    "tags": []
   },
   "outputs": [
    {
     "data": {
      "text/plain": [
       "array([[3, 6],\n",
       "       [4, 8]])"
      ]
     },
     "execution_count": 5,
     "metadata": {},
     "output_type": "execute_result"
    }
   ],
   "source": [
    "# 検算\n",
    "import numpy as np\n",
    "a = np.array([3,4])\n",
    "b = np.array([1,2])\n",
    "np.outer(a,b)"
   ]
  },
  {
   "cell_type": "markdown",
   "id": "898e6f71-ff5e-4e3b-adf9-eead8d33793e",
   "metadata": {},
   "source": [
    "> 2. $$\n",
    "\\left(\\begin{array}{ll}\n",
    "7 & 8\n",
    "\\end{array}\\right)\\left(\\begin{array}{l}\n",
    "5 \\\\\n",
    "6\n",
    "\\end{array}\\right)\n",
    "$$"
   ]
  },
  {
   "cell_type": "markdown",
   "id": "07c8cf47-08b4-4cf9-8d7a-8e23904e7a59",
   "metadata": {},
   "source": [
    "$$\n",
    "7\\cdot 5 + 8 \\cdot 6 = 35 + 48 = 83\n",
    "$$"
   ]
  },
  {
   "cell_type": "markdown",
   "id": "1dfcdbc0-df20-442f-875b-81d89ad7c6bb",
   "metadata": {},
   "source": [
    "## 2.3\n",
    "\n",
    "> 正方行列$A=\\left(\\begin{array}{lll}\n",
    "0 & a & b \\\\\n",
    "0 & 0 & c \\\\\n",
    "0 & 0 & 0\n",
    "\\end{array}\\right)$はべき零行列であることを示せ。\n",
    "\n",
    "冪零行列は、ある自然数$k$で冪乗して零（零行列）となる$n$次正方行列のこと\n",
    "\n",
    "$$\n",
    "A^k = O\n",
    "$$\n"
   ]
  },
  {
   "cell_type": "markdown",
   "id": "9d64aa44-ba20-408c-82f8-191e45158da4",
   "metadata": {},
   "source": [
    "Aは$k=2$のときは零にならないが、$k\\geq 3$で零になる\n",
    "\n",
    "$$\n",
    "\\begin{aligned}\n",
    "A^3 =\n",
    "\\left(\\begin{array}{lll}\n",
    "0 & a & b \\\\\n",
    "0 & 0 & c \\\\\n",
    "0 & 0 & 0\n",
    "\\end{array}\\right)\n",
    "\\left(\\begin{array}{lll}\n",
    "0 & a & b \\\\\n",
    "0 & 0 & c \\\\\n",
    "0 & 0 & 0\n",
    "\\end{array}\\right)\n",
    "\\left(\\begin{array}{lll}\n",
    "0 & a & b \\\\\n",
    "0 & 0 & c \\\\\n",
    "0 & 0 & 0\n",
    "\\end{array}\\right)\n",
    "\\\\\n",
    "= \\left(\\begin{array}{lll}\n",
    "0 & 0 & ac \\\\\n",
    "0 & 0 & 0 \\\\\n",
    "0 & 0 & 0\n",
    "\\end{array}\\right)\n",
    "\\left(\\begin{array}{lll}\n",
    "0 & a & b \\\\\n",
    "0 & 0 & c \\\\\n",
    "0 & 0 & 0\n",
    "\\end{array}\\right)\n",
    "\\\\\n",
    "= \\left(\\begin{array}{lll}\n",
    "0 & 0 & 0 \\\\\n",
    "0 & 0 & 0 \\\\\n",
    "0 & 0 & 0\n",
    "\\end{array}\\right)\n",
    "\\end{aligned}\n",
    "$$\n"
   ]
  },
  {
   "cell_type": "code",
   "execution_count": 1,
   "id": "c2c0e539-c746-4b11-a68f-a609b3c0d164",
   "metadata": {
    "tags": [
     "hide-input"
    ]
   },
   "outputs": [],
   "source": [
    "# 検算\n",
    "from sympy import symbols, Matrix\n",
    "a, b, c = symbols('a b c')\n",
    "A = Matrix([\n",
    "    [0, a, b],\n",
    "    [0, 0, c],\n",
    "    [0, 0, 0],\n",
    "])"
   ]
  },
  {
   "cell_type": "code",
   "execution_count": 3,
   "id": "febcec07-4c8e-41db-8c05-2b9bd3dbf5de",
   "metadata": {},
   "outputs": [
    {
     "data": {
      "text/latex": [
       "$\\displaystyle \\left[\\begin{matrix}0 & 0 & a c\\\\0 & 0 & 0\\\\0 & 0 & 0\\end{matrix}\\right]$"
      ],
      "text/plain": [
       "Matrix([\n",
       "[0, 0, a*c],\n",
       "[0, 0,   0],\n",
       "[0, 0,   0]])"
      ]
     },
     "execution_count": 3,
     "metadata": {},
     "output_type": "execute_result"
    }
   ],
   "source": [
    "# 検算\n",
    "A @ A"
   ]
  },
  {
   "cell_type": "code",
   "execution_count": 4,
   "id": "d78074b5-89d0-44a3-a3b0-ec7f4bb87bbb",
   "metadata": {},
   "outputs": [
    {
     "data": {
      "text/latex": [
       "$\\displaystyle \\left[\\begin{matrix}0 & 0 & 0\\\\0 & 0 & 0\\\\0 & 0 & 0\\end{matrix}\\right]$"
      ],
      "text/plain": [
       "Matrix([\n",
       "[0, 0, 0],\n",
       "[0, 0, 0],\n",
       "[0, 0, 0]])"
      ]
     },
     "execution_count": 4,
     "metadata": {},
     "output_type": "execute_result"
    }
   ],
   "source": [
    "# 検算\n",
    "A @ A @ A"
   ]
  },
  {
   "cell_type": "markdown",
   "id": "fd2d1147-1aef-4208-a991-65afb05cf18f",
   "metadata": {},
   "source": [
    "## 2.4\n",
    "\n",
    "> 次の問いに応えよ。\n",
    "> \n",
    "> 1. 2 つの行列が可換であることの定義を書け。\n",
    "\n",
    "2つの$n$次正方行列$A, B$について\n",
    "\n",
    "$$\n",
    "AB = BA\n",
    "$$\n",
    "\n",
    "が成り立つこと"
   ]
  },
  {
   "cell_type": "markdown",
   "id": "914f3a76-75e9-4340-a32f-697866037595",
   "metadata": {},
   "source": [
    "\n",
    "> 2. 2 つの行列\n",
    "> $\\left(\\begin{array}{cc}\n",
    "1 & a \\\\\n",
    "0 & a^2\n",
    "\\end{array}\\right),\\left(\\begin{array}{cc}\n",
    "a^2 & a \\\\\n",
    "0 & 1\n",
    "\\end{array}\\right)$\n",
    "> が可換となるように a の値を求めよ。\n"
   ]
  },
  {
   "cell_type": "markdown",
   "id": "6b51d311-74cb-4f26-a394-7b886f5b31d3",
   "metadata": {},
   "source": [
    "$$\n",
    "\\begin{pmatrix}\n",
    "1 & a \\\\\n",
    "0 & a^2\n",
    "\\end{pmatrix}\n",
    "\\begin{pmatrix}\n",
    "a^2 & a \\\\\n",
    "0 & 1\n",
    "\\end{pmatrix}\n",
    "= \n",
    "\\begin{pmatrix}\n",
    "a^2 & a \\\\\n",
    "0 & 1\n",
    "\\end{pmatrix}\n",
    "\\begin{pmatrix}\n",
    "1 & a \\\\\n",
    "0 & a^2\n",
    "\\end{pmatrix}\n",
    "$$\n",
    "\n",
    "を満たす、つまり\n",
    "\n",
    "$$\n",
    "\\begin{pmatrix}\n",
    "a^2 & 2a \\\\\n",
    "0 & a^2\n",
    "\\end{pmatrix}\n",
    "= \n",
    "\\begin{pmatrix}\n",
    "a^2 & 2a^3 \\\\\n",
    "0 & a^2\n",
    "\\end{pmatrix}\n",
    "$$"
   ]
  },
  {
   "cell_type": "markdown",
   "id": "286626e1-75bd-4304-baa1-608cf504d262",
   "metadata": {},
   "source": [
    "よって\n",
    "\n",
    "$$\n",
    "2a = 2a^3\n",
    "$$\n",
    "\n",
    "を解けばよい。\n",
    "\n",
    "$$\n",
    "\\begin{align}\n",
    "&2a = 2a^3\\\\\n",
    "&\\to a = a^3\\\\\n",
    "&\\to a - a^3 = 0\\\\\n",
    "&\\to a(a^2 - 1) = 0\\\\\n",
    "&\\end{align}\n",
    "$$\n",
    "\n",
    "よって$a=0$か$a^2 - 1 = 0$であり\n",
    "\n",
    "$a^2 - 1 = 0$が成り立つのは$a=-1, 1$のときなので\n",
    "\n",
    "$$\n",
    "a = -1, 0, 1\n",
    "$$\n",
    "となる"
   ]
  },
  {
   "cell_type": "code",
   "execution_count": 31,
   "id": "be874400-79f3-44bb-8922-ca8adb10cf5d",
   "metadata": {
    "tags": [
     "hide-input"
    ]
   },
   "outputs": [
    {
     "data": {
      "text/latex": [
       "$\\displaystyle \\left[\\begin{matrix}a^{2} & 2 a\\\\0 & a^{2}\\end{matrix}\\right]$"
      ],
      "text/plain": [
       "Matrix([\n",
       "[a**2,  2*a],\n",
       "[   0, a**2]])"
      ]
     },
     "execution_count": 31,
     "metadata": {},
     "output_type": "execute_result"
    }
   ],
   "source": [
    "# 検算\n",
    "from sympy import Symbol, Matrix\n",
    "a = Symbol('a')\n",
    "A = Matrix([\n",
    "    [1, a],\n",
    "    [0, a**2],\n",
    "])\n",
    "B = Matrix([\n",
    "    [a**2, a],\n",
    "    [0, 1],\n",
    "])\n",
    "\n",
    "A @ B"
   ]
  },
  {
   "cell_type": "code",
   "execution_count": 38,
   "id": "8f6dba12-a1dd-4af7-b3a6-beea8bd7231c",
   "metadata": {
    "tags": [
     "hide-input"
    ]
   },
   "outputs": [],
   "source": [
    "# 検算\n",
    "import numpy as np\n",
    "\n",
    "for a in (0, -1, 1):\n",
    "    A = np.array([\n",
    "        [1, a],\n",
    "        [0, a**2]\n",
    "    ])\n",
    "    B = np.array([\n",
    "        [a**2, a],\n",
    "        [0, 1],\n",
    "    ])\n",
    "    assert (A @ B == B @ A).all()"
   ]
  },
  {
   "cell_type": "markdown",
   "id": "731d5fed-6a45-48fe-a7cd-7ed27df97471",
   "metadata": {},
   "source": [
    "## 2.5\n",
    "\n",
    "> n 次の正方行列 A, B に対して、$[A, B] = AB − BA$ とおき、これを A と B の交換子積という。\n",
    "> 交換子積に関して、次の 1～3 が成り立つことを示せ。ただし、A, B, C はすべて n 次の正方行列で、O は n 次の零行列である。\n",
    "\n",
    "> 1. $[A, B] = −[B, A]$ （交代性または反対称性）\n"
   ]
  },
  {
   "cell_type": "markdown",
   "id": "b222907e-7a2f-4507-bfd8-f97c9b8b1f56",
   "metadata": {},
   "source": [
    "$$\n",
    "[A, B] = AB - BA\n",
    "$$\n",
    "\n",
    "は順番を入れ替えれば\n",
    "\n",
    "$$\n",
    "- BA + AB\n",
    "= - (BA - AB)\n",
    "= -[B, A]\n",
    "$$\n",
    "\n"
   ]
  },
  {
   "cell_type": "code",
   "execution_count": 60,
   "id": "e2883beb-a59f-4481-93b8-b42a9348d03b",
   "metadata": {
    "tags": [
     "hide-input"
    ]
   },
   "outputs": [
    {
     "data": {
      "text/plain": [
       "True"
      ]
     },
     "execution_count": 60,
     "metadata": {},
     "output_type": "execute_result"
    }
   ],
   "source": [
    "# 例えば n=2 のとき\n",
    "from sympy import symbols, Matrix\n",
    "\n",
    "a11, a12, a21, a22 = symbols(\"a_11, a_12, a_21, a_22\")\n",
    "b11, b12, b21, b22 = symbols(\"b_11, b_12, b_21, b_22\")\n",
    "\n",
    "A = Matrix([\n",
    "    [a11, a12],\n",
    "    [a21, a22]\n",
    "])\n",
    "B = Matrix([\n",
    "    [b11, b12],\n",
    "    [b21, b22]\n",
    "])\n",
    "\n",
    "(A @ B - B @ A) == (- 1 * (B @ A - A @ B))"
   ]
  },
  {
   "cell_type": "markdown",
   "id": "7c10d89d-945e-4fce-adb9-5ed6f440c144",
   "metadata": {},
   "source": [
    "> 2. $[A, A] = O$\n",
    "\n",
    "$$\n",
    "[A, A] = AA - AA = O\n",
    "$$"
   ]
  },
  {
   "cell_type": "markdown",
   "id": "ec635cb3-8db3-4004-8fb0-a8522af5c7b1",
   "metadata": {},
   "source": [
    "> 3. $[[A, B], C] + [[B, C], A] + [[C, A], B] = O$（ヤコビの恒等式）\n",
    "\n",
    "$$\n",
    "[[A, B], C] + [[B, C], A] + [[C, A], B]\n",
    "$$\n",
    "\n",
    "を展開すると\n",
    "\n",
    "$$\n",
    "\\begin{align}\n",
    "  (AB - BA) C &- C (AB - BA)\\\\\n",
    "+ (BC - CB) A &- A (BC - CB)\\\\\n",
    "+ (CA - AC) B &- B (CA - AC)\n",
    "\\\\\n",
    "= ABC - BAC &- CAB + CBA\\\\\n",
    "+ BCA - CBA &- ABC + ACB\\\\\n",
    "+ CAB - ACB &- BCA + BAC\n",
    "\\end{align}\n",
    "$$\n",
    "\n",
    "\n",
    "$$\n",
    "= (ABC - ABC)\\\\\n",
    "+ (BAC - BAC)\\\\\n",
    "+ (CAB - CAB)\\\\\n",
    "+ (CBA - CBA)\\\\\n",
    "+ (BCA - BCA)\\\\\n",
    "+ (ACB - ACB)\\\\\n",
    "= 0\n",
    "$$"
   ]
  },
  {
   "cell_type": "markdown",
   "id": "33a71dc6-2a61-4901-9a1d-f3640c33e4f7",
   "metadata": {},
   "source": [
    "## 2.6\n",
    "\n",
    "> 2 次の正方行列\n",
    "> $A=\\left(\\begin{array}{ll}\n",
    "a & b \\\\\n",
    "c & d\n",
    "\\end{array}\\right)$\n",
    "> に対して、ケイリー-ハミルトンの定理\n",
    ">\n",
    "> $A^2-(a+d) A+(a d-b c) E$\n",
    ">\n",
    "> が成り立つことを示せ。（E は対角要素が 1 の単位行列である）\n",
    "\n",
    "\n",
    "$$\n",
    "A^2-(a+d) A+(a d-b c) E = O\n",
    "$$\n",
    "\n",
    "ということ?\n",
    "\n",
    "\n",
    "$$\n",
    "\\begin{align}\n",
    "&A^2-(a+d) A+(a d-b c) E\n",
    "\\\\\n",
    "&=\n",
    "\\begin{pmatrix}\n",
    "a & b \\\\\n",
    "c & d\n",
    "\\end{pmatrix}\n",
    "\\begin{pmatrix}\n",
    "a & b \\\\\n",
    "c & d\n",
    "\\end{pmatrix}\n",
    "- a \\begin{pmatrix}\n",
    "a & b \\\\\n",
    "c & d\n",
    "\\end{pmatrix}\n",
    "- d \\begin{pmatrix}\n",
    "a & b \\\\\n",
    "c & d\n",
    "\\end{pmatrix}\n",
    "+(a d-b c) E\n",
    "\\\\\n",
    "&= \\begin{pmatrix}\n",
    "a^2 + bc & ab + bd\\\\\n",
    "ac + cd & bc + d^2\n",
    "\\end{pmatrix}\n",
    "- \\begin{pmatrix}\n",
    "a^2 & ab \\\\\n",
    "ac & ad\n",
    "\\end{pmatrix}\n",
    "- \\begin{pmatrix}\n",
    "ad & bd \\\\\n",
    "cd & d^2\n",
    "\\end{pmatrix}\n",
    "+(a d-b c) E\n",
    "\\\\\n",
    "&= \\begin{pmatrix}\n",
    "bc & bd\\\\\n",
    "cd & bc + d^2 - ad\n",
    "\\end{pmatrix}\n",
    "- \\begin{pmatrix}\n",
    "ad & bd \\\\\n",
    "cd & d^2\n",
    "\\end{pmatrix}\n",
    "+(a d-b c) E\n",
    "\\\\\n",
    "&= \\begin{pmatrix}\n",
    "bc - ad & 0\\\\\n",
    "0 & bc - ad\n",
    "\\end{pmatrix}\n",
    "+(a d-b c) E\n",
    "\\\\\n",
    "&= \\begin{pmatrix}\n",
    "0 & 0\\\\\n",
    "0 & 0\n",
    "\\end{pmatrix}\n",
    "\\end{align}\n",
    "$$\n"
   ]
  },
  {
   "cell_type": "markdown",
   "id": "5d33a1a6-30b4-4ff6-ab46-5d4cf67fa468",
   "metadata": {},
   "source": [
    "## 2.7\n",
    "\n",
    "> 次の問いに答えよ。"
   ]
  },
  {
   "cell_type": "markdown",
   "id": "65a0d4c1-df5e-42b6-8c9f-f4c08da9beb9",
   "metadata": {},
   "source": [
    "> 1. 対称行列の定義を書け。\n",
    "\n",
    "以下が成り立つ$n$次正方行列$A$を対称行列という\n",
    "\n",
    "$$\n",
    "A^T = A\n",
    "$$"
   ]
  },
  {
   "cell_type": "markdown",
   "id": "1b17e47c-0638-4511-a035-030ca8d44212",
   "metadata": {},
   "source": [
    "> 2. 交代行列の定義を書け。\n",
    "\n",
    "転置行列が元の行列の−1倍になる正方行列のこと。つまり\n",
    "\n",
    "以下が成り立つ$n$次正方行列$A$を交代行列という\n",
    "\n",
    "$$\n",
    "A^T = -A\n",
    "$$\n"
   ]
  },
  {
   "cell_type": "markdown",
   "id": "cdc0ae9f-6fe9-4172-b1e2-a95d3367917b",
   "metadata": {},
   "source": [
    "> 3. 任意の正方行列は対称行列と交代行列の和で一意的に表されることを、次の（ア）、（イ）の手順で示せ。\n",
    ">\n",
    "> （ア）正方行列 A が対象行列 X と交代行列 Y の和で、\n",
    "> $A = X + Y \\tag{2.1}$\n",
    "> と表されると仮定する。\n",
    "> このとき、式 2.1 の両辺の転置を取ることにより、\n",
    "> $A^T = X − Y \\tag{2.2}$\n",
    "> が成り立つ。\n",
    ">\n",
    "> 式 2.1 と式 2.2 を連立させることにより、X, Y を A および $A^T$ を用いて表せ。\n",
    "\n",
    "$$\n",
    "\\begin{array}{rr}\n",
    "        & A = X + Y\\\\\n",
    "+\\big{)}& A^T = X - Y\\\\\n",
    "\\hline\n",
    "& A + A^T = 2 X\\\\\n",
    "& \\to X = \\frac{1}{2} (A + A^T)\n",
    "\\end{array}\n",
    "$$\n",
    "\n",
    "\n",
    "$$\n",
    "\\begin{array}{rr}\n",
    "        & A = X + Y\\\\\n",
    "-\\big{)}& A^T = X - Y\\\\\n",
    "\\hline\n",
    "& A - A^T = 2 Y\\\\\n",
    "& \\to Y = \\frac{1}{2} (A - A^T)\n",
    "\\end{array}\n",
    "$$"
   ]
  },
  {
   "cell_type": "markdown",
   "id": "bcaa086c-2a22-4844-b747-eb56a5e4f271",
   "metadata": {},
   "source": [
    "> （イ） （ア）で $A$ および $A^T$ を用いて表した X, Y は、実際にそれぞれ対称行列、交代行列であることを示せ。\n",
    "\n",
    "Xは対称行列\n",
    "\n",
    "$$\n",
    "X^T = \\frac{1}{2} (A+A^T)^T = \\frac{1}{2} (A^T + A) = X\n",
    "$$\n",
    "\n",
    "Yは交代行列\n",
    "\n",
    "$$\n",
    "\\begin{align}\n",
    "Y^T\n",
    "&= \\frac{1}{2} (A - A^T)^T\\\\\n",
    "&= \\frac{1}{2} (A^T - A)\\\\\n",
    "&= -\\frac{1}{2} (A + A^T)\\\\\n",
    "&= -Y\n",
    "\\end{align}\n",
    "$$"
   ]
  }
 ],
 "metadata": {
  "kernelspec": {
   "display_name": "Python 3 (ipykernel)",
   "language": "python",
   "name": "python3"
  },
  "language_info": {
   "codemirror_mode": {
    "name": "ipython",
    "version": 3
   },
   "file_extension": ".py",
   "mimetype": "text/x-python",
   "name": "python",
   "nbconvert_exporter": "python",
   "pygments_lexer": "ipython3",
   "version": "3.9.18"
  }
 },
 "nbformat": 4,
 "nbformat_minor": 5
}
