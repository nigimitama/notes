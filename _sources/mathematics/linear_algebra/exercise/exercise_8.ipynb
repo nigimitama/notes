{
 "cells": [
  {
   "cell_type": "markdown",
   "id": "250945a9-68e5-4992-9d7d-7fb9fd0216d6",
   "metadata": {},
   "source": [
    "# 練習問題メモ 8（行列式）"
   ]
  },
  {
   "cell_type": "markdown",
   "id": "ecc5ac2c-7af6-4143-a617-83d9a820f5be",
   "metadata": {},
   "source": [
    "## 8.1\n",
    "\n",
    ":::{card}\n",
    "次の1~3の行列式を計算せよ。\n",
    "\n",
    "1. $\\left|\\begin{array}{cc}\\cos \\theta & -\\sin \\theta \\\\ \\sin \\theta & \\cos \\theta\\end{array}\\right|$\n",
    "2. $\\left|\\begin{array}{lll}a & 1 & 1 \\\\ 1 & a & 1 \\\\ 1 & 1 & a\\end{array}\\right|$\n",
    "3. $\\left|\\begin{array}{llll}1 & a & b & c \\\\ 0 & 2 & d & e \\\\ 0 & 0 & 3 & f \\\\ 0 & 0 & 0 & 4\\end{array}\\right|$\n",
    ":::"
   ]
  },
  {
   "cell_type": "markdown",
   "id": "44a4ff91-1900-4cb9-b68e-a6c9a5f892f3",
   "metadata": {},
   "source": [
    "> 1. $\\left|\\begin{array}{cc}\\cos \\theta & -\\sin \\theta \\\\ \\sin \\theta & \\cos \\theta\\end{array}\\right|$\n",
    "\n",
    "$$\n",
    "\\left|\\begin{array}{cc}\\cos \\theta & -\\sin \\theta \\\\ \\sin \\theta & \\cos \\theta\\end{array}\\right|\n",
    "= \\cos^2 \\theta + \\sin^2 \\theta = 1\n",
    "$$"
   ]
  },
  {
   "cell_type": "markdown",
   "id": "d2847dc7-76d7-4117-8f5b-e21ef5052279",
   "metadata": {},
   "source": [
    "> 2. $\\left|\\begin{array}{lll}a & 1 & 1 \\\\ 1 & a & 1 \\\\ 1 & 1 & a\\end{array}\\right|$\n"
   ]
  },
  {
   "cell_type": "markdown",
   "id": "4d0e57b9-5467-4e9e-9c9e-058d796dbdde",
   "metadata": {},
   "source": [
    "$$\n",
    "a^3 + 2 - 3a\n",
    "$$"
   ]
  },
  {
   "cell_type": "markdown",
   "id": "93e34afa-6c4a-4f2b-a32a-61b9f7646a9a",
   "metadata": {},
   "source": [
    ":::{margin}\n",
    "（このような未知の変数があるときの扱い：$a$で割るときとかは$a=0$で演算が定義できなくなってくる可能性があるので場合分けなどが必要だが、今回は掛け算なのでOK）\n",
    ":::"
   ]
  },
  {
   "cell_type": "markdown",
   "id": "c938c232-8072-443f-b0dc-4064a1c36413",
   "metadata": {},
   "source": [
    "> 3. $\\left|\\begin{array}{llll}1 & a & b & c \\\\ 0 & 2 & d & e \\\\ 0 & 0 & 3 & f \\\\ 0 & 0 & 0 & 4\\end{array}\\right|$\n"
   ]
  },
  {
   "cell_type": "markdown",
   "id": "aef71e43-c82a-4cc0-a84b-bf7c81e9c81b",
   "metadata": {},
   "source": [
    "上三角行列の行列式は対角成分の積に等しいので\n",
    "\n",
    "$$\n",
    "4! = 24 \n",
    "$$"
   ]
  },
  {
   "cell_type": "markdown",
   "id": "6670b083-6c27-4f43-b72b-225faaf9384e",
   "metadata": {},
   "source": [
    "## 8.2\n",
    "\n",
    ":::{card}\n",
    "行列式\n",
    "\n",
    "$$\n",
    "\\left|\\begin{array}{llll}\n",
    "a & 1 & 1 & 1 \\\\\n",
    "1 & a & 1 & 1 \\\\\n",
    "1 & 1 & a & 1 \\\\\n",
    "1 & 1 & 1 & a\n",
    "\\end{array}\\right|\n",
    "$$\n",
    "\n",
    "の値が 0 となるような $a$ の値を求めよ。\n",
    ":::"
   ]
  },
  {
   "cell_type": "markdown",
   "id": "12c4e569-f204-4d49-9d4e-bf01547311de",
   "metadata": {},
   "source": [
    "$$\n",
    "\\left|\\begin{array}{ll}\n",
    "A & B\\\\\n",
    "B & A\n",
    "\\end{array}\\right|\n",
    "= | A + B | |A - B|\n",
    "$$\n",
    "\n",
    "という性質があるため（[行列式 |A B // B A| = |A-B||A+B| の証明 | ばたぱら](https://batapara.com/archives/detabba-detab-deta-b.html/)）、"
   ]
  },
  {
   "cell_type": "markdown",
   "id": "6690ed4c-3f4e-4eb7-820a-b2782b81532e",
   "metadata": {},
   "source": [
    "$$\n",
    "\\left|\\begin{array}{llll}\n",
    "a & 1 & 1 & 1 \\\\\n",
    "1 & a & 1 & 1 \\\\\n",
    "1 & 1 & a & 1 \\\\\n",
    "1 & 1 & 1 & a\n",
    "\\end{array}\\right|\n",
    "= \n",
    "\\left|\n",
    "    \\begin{pmatrix}\n",
    "    a & 1 \\\\\n",
    "    1 & a \n",
    "    \\end{pmatrix}\n",
    "    +\n",
    "    \\begin{pmatrix}\n",
    "    1 & 1 \\\\\n",
    "    1 & 1 \n",
    "    \\end{pmatrix}\n",
    "\\right|\n",
    "\\left|\n",
    "    \\begin{pmatrix}\n",
    "    a & 1 \\\\\n",
    "    1 & a \n",
    "    \\end{pmatrix}\n",
    "    -\n",
    "    \\begin{pmatrix}\n",
    "    1 & 1 \\\\\n",
    "    1 & 1 \n",
    "    \\end{pmatrix}\n",
    "\\right|\n",
    "\\\\\n",
    "= \n",
    "\\left|\n",
    "    \\begin{array}{cc}\n",
    "    a+1 & 2 \\\\\n",
    "    2 & a+1 \n",
    "    \\end{array}\n",
    "\\right|\n",
    "\\left|\n",
    "    \\begin{array}{cc}\n",
    "    a - 1 & 0 \\\\\n",
    "    0 & a - 1 \n",
    "    \\end{array}\n",
    "\\right|\n",
    "\\\\\n",
    "= \\{ (a+1)^2 - 4 \\} (a-1)^2\n",
    "$$\n"
   ]
  },
  {
   "cell_type": "markdown",
   "id": "895583ce-ad31-4be4-ac50-cefb5ae40e32",
   "metadata": {},
   "source": [
    "$$\n",
    "\\begin{align}\n",
    "\\{ (a+1)^2 - 4 \\} (a-1)^2\n",
    "&= (a+1)^2 (a-1)^2 - 4 (a-1)^2\\\\\n",
    "&= (a^2 + 2a + 1)(a^2 - 2a + 1) - 4 (a^2 - 2a + 1)\\\\\n",
    "&= \n",
    "a^2 (a^2 - 2a + 1) \n",
    "+ 2a (a^2 - 2a + 1)\n",
    "+ (a^2 - 2a + 1)\n",
    "- 4 (a^2 - 2a + 1)\\\\\n",
    "&= \n",
    "a^4 - 2a^3 + a^2\n",
    "+ 2a^3 - 4a^2 + 2a\n",
    "+ a^2 - 2a + 1\n",
    "- 4a^2 + 8a - 4\\\\\n",
    "&=\n",
    "a^4 - 6 a^2 + 8a - 3\\\\\n",
    "&= (a - 1)^3 (a + 3)\n",
    "\\end{align}\n",
    "$$"
   ]
  },
  {
   "cell_type": "code",
   "execution_count": 30,
   "id": "8a8d8636-daa6-4cf5-a8fd-928de7b1b5af",
   "metadata": {},
   "outputs": [
    {
     "data": {
      "text/latex": [
       "$\\displaystyle \\left(a - 1\\right)^{3} \\left(a + 3\\right)$"
      ],
      "text/plain": [
       "(a - 1)**3*(a + 3)"
      ]
     },
     "execution_count": 30,
     "metadata": {},
     "output_type": "execute_result"
    }
   ],
   "source": [
    "from sympy import symbols, factor, expand\n",
    "\n",
    "# 4次方程式の因数分解はわからないのでsympyを使う\n",
    "a = symbols(\"a\")\n",
    "f = a ** 4 - 6 * a**2 + 8 * a - 3\n",
    "factor(f)"
   ]
  },
  {
   "cell_type": "markdown",
   "id": "704c4d19-6588-4a5f-b254-817386bfe4eb",
   "metadata": {},
   "source": [
    "これがゼロとなる$a$を求めたいので\n",
    "\n",
    "$$\n",
    "(a - 1)^3 (a + 3) = 0\n",
    "$$\n",
    "\n",
    "これを満たすのは$a = 1$と$a = - 3$のとき\n",
    "\n",
    "よって$a = 1, -3$"
   ]
  },
  {
   "cell_type": "code",
   "execution_count": 31,
   "id": "ae3d3f41-1406-4561-8d87-2d587cb2efaa",
   "metadata": {
    "tags": [
     "hide-input"
    ]
   },
   "outputs": [
    {
     "data": {
      "text/plain": [
       "0.0"
      ]
     },
     "execution_count": 31,
     "metadata": {},
     "output_type": "execute_result"
    }
   ],
   "source": [
    "import numpy as np\n",
    "a = -3\n",
    "A = np.array([\n",
    "    [a, 1, 1, 1],\n",
    "    [1, a, 1, 1],\n",
    "    [1, 1, a, 1],\n",
    "    [1, 1, 1, a],\n",
    "])\n",
    "\n",
    "np.linalg.det(A)"
   ]
  },
  {
   "cell_type": "markdown",
   "id": "1ab3b1c7-7ddb-4249-af25-90569dff60b4",
   "metadata": {},
   "source": [
    "## 8.3\n",
    "\n",
    ":::{card}\n",
    "交代行列について、次の問いに答えよ。\n",
    "1. 交代行列の定義を書け。\n",
    "2. 奇数次の交代行列の行列式は 0 であることを示せ。\n",
    ":::"
   ]
  },
  {
   "cell_type": "markdown",
   "id": "acf0a4f5-00df-4948-afa7-4eb9bad30dd0",
   "metadata": {},
   "source": [
    "> 1. 交代行列の定義を書け。\n",
    "\n",
    "$n$次正方行列であり、その転置が自身の$-1$倍になるものを交代行列という"
   ]
  },
  {
   "cell_type": "markdown",
   "id": "38f7695e-cb0b-4202-a0e9-0f58d8319694",
   "metadata": {},
   "source": [
    "> 2. 奇数次の交代行列の行列式は 0 であることを示せ。"
   ]
  },
  {
   "cell_type": "markdown",
   "id": "3fb13da0-446c-4b8a-b718-75cdcae5d719",
   "metadata": {},
   "source": [
    "交代行列を$A$とおく\n",
    "\n",
    "一般に正方行列に対して$|A| = |A^T|$であるため\n",
    "\n",
    "$$\n",
    "|A| = |A^T|\n",
    "$$\n",
    "\n",
    "交代行列は$A^T=-A$となるため\n",
    "\n",
    "$$\n",
    "|A| = |A^T| = |-A|\n",
    "$$\n",
    "\n",
    "1つの行や列を$c$倍すると行列式は$c$倍になるため、$-A$は行の数だけ-1倍したものと捉えると\n",
    "\n",
    "$$\n",
    "|A| = |A^T| = |-A| = (-1)^n |A|\n",
    "$$\n",
    "\n",
    "奇数次の交代行列、すなわち$A$が$2n-1$次の交代行列である場合、$(-1)^{2n-1} = -1$\n",
    "\n",
    "よって\n",
    "\n",
    "$$\n",
    "|A| = -|A|\n",
    "$$\n",
    "\n",
    "両辺に$+|A|$して移項すると\n",
    "\n",
    "$$\n",
    "2|A| = 0\n",
    "$$\n",
    "\n",
    "よって$|A|=0$\n"
   ]
  },
  {
   "cell_type": "markdown",
   "id": "a88dfa0e-85b5-4b27-8e30-8425bc0d0ad6",
   "metadata": {},
   "source": [
    "## 8.4\n",
    ":::{card}\n",
    "次の問いに答えよ。\n",
    "1. 正方行列が正則であることの定義を書け。\n",
    "2. $A$ を $n$ 次の正方行列、 $P$ を $n$ 次の正則行列とすると、等式\n",
    "\n",
    "$$\n",
    "\\left|P^{-1} A P\\right|=|A|\n",
    "$$\n",
    "\n",
    "が成り立つことを示せ。\n",
    ":::"
   ]
  },
  {
   "cell_type": "markdown",
   "id": "da8f5b7b-a083-49a9-9f37-6fef0c209280",
   "metadata": {},
   "source": [
    "> 1. 正方行列が正則であることの定義を書け。\n",
    "\n",
    "$n$次正方行列$A$に対し\n",
    "\n",
    "$$\n",
    "AA^{-1} = A^{-1} A = E\n",
    "$$\n",
    "\n",
    "を満たす正方行列$A^{-1}$が存在するとき、$A$は正則である"
   ]
  },
  {
   "cell_type": "markdown",
   "id": "78fcb0b2-bd34-4e90-b581-0dcf06210305",
   "metadata": {},
   "source": [
    "> 2. $A$ を $n$ 次の正方行列、 $P$ を $n$ 次の正則行列とすると、等式$\\left|P^{-1} A P\\right|=|A|$が成り立つことを示せ。"
   ]
  },
  {
   "cell_type": "markdown",
   "id": "7c304292-c888-482a-a727-ebc0c0d8945e",
   "metadata": {},
   "source": [
    "行列式の積は分解できる（$|AB| = |A| |B|$）ので\n",
    "\n",
    "$$\n",
    "\\left|P^{-1} A P\\right|\n",
    "=|P^{-1}| |A| |P|\n",
    "$$\n",
    "\n",
    "となる"
   ]
  },
  {
   "cell_type": "markdown",
   "id": "7b42419a-1670-4e10-9c86-88c8b3e34d79",
   "metadata": {},
   "source": [
    "$$\n",
    "|P^{-1}| |P| = |P^{-1} P| = |E| = 1\n",
    "$$\n",
    "\n",
    "より、\n",
    "\n",
    "$$\n",
    "|P^{-1}| |P| = 1\n",
    "\\to\n",
    "|P^{-1}| = \\frac{1}{|P|}\n",
    "$$\n",
    "\n",
    "なので、\n",
    "\n",
    "$$\n",
    "|P^{-1}| |A| |P|\n",
    "= \\frac{1}{|P|} |P| |A|\n",
    "= |A|\n",
    "$$"
   ]
  },
  {
   "cell_type": "code",
   "execution_count": 10,
   "id": "a350ddc5-debe-45ab-a394-f89568eaa6c1",
   "metadata": {
    "tags": [
     "hide-input"
    ]
   },
   "outputs": [
    {
     "data": {
      "text/plain": [
       "True"
      ]
     },
     "execution_count": 10,
     "metadata": {},
     "output_type": "execute_result"
    }
   ],
   "source": [
    "import numpy as np\n",
    "A = np.array([\n",
    "    [1, 2],\n",
    "    [0, 4]\n",
    "])\n",
    "\n",
    "P = np.array([\n",
    "    [1, 2],\n",
    "    [3, 4]\n",
    "])\n",
    "\n",
    "P_inv = np.linalg.inv(P)\n",
    "det = np.linalg.det(P_inv) * np.linalg.det(P)\n",
    "assert det.round(1) == 1\n",
    "np.linalg.det(P_inv @ A @ P) == np.linalg.det(A)"
   ]
  },
  {
   "cell_type": "markdown",
   "id": "91159a97-f3c7-4338-93df-204b7b1dd55c",
   "metadata": {},
   "source": [
    "## 8.5\n",
    ":::{card}\n",
    "$A$ を正則行列とすると、\n",
    "$$\n",
    "|A| \\neq 0, \\quad\\left|A^{-1}\\right|=|A|^{-1}\n",
    "$$\n",
    "\n",
    "が成り立つことを示せ。\n",
    ":::"
   ]
  },
  {
   "cell_type": "markdown",
   "id": "1f64e63f-9e97-405f-a8f5-1ca33d038385",
   "metadata": {},
   "source": [
    "正則であれば逆行列が存在するため\n",
    "\n",
    "$$\n",
    "A A^{-1} = I\n",
    "$$\n",
    "\n",
    "が成り立つ。\n",
    "\n",
    "両辺の行列式をとると\n",
    "\n",
    "$$\n",
    "|A A^{-1}| = |I|\n",
    "$$\n",
    "\n",
    "であり、$|I| = 1$のため\n",
    "\n",
    "$$\n",
    "|A A^{-1}| = 1\n",
    "$$\n",
    "\n",
    "となる。\n",
    "\n",
    "行列式の性質より、\n",
    "\n",
    "$$\n",
    "|A A^{-1}| = |A| |A^{-1}|\n",
    "$$\n",
    "\n",
    "のため\n",
    "\n",
    "$$\n",
    "|A| |A^{-1}| = 1\n",
    "\\to\n",
    "|A^{-1}| = \\frac{1}{|A|}\n",
    "$$\n",
    "\n",
    "ゆえに $|A^{-1}|=|A|^{-1}$\n"
   ]
  },
  {
   "cell_type": "markdown",
   "id": "cefbff3f-3e30-4c9e-8bc7-dc41b1d142cc",
   "metadata": {},
   "source": [
    "## 8.6\n",
    "\n",
    ":::{card}\n",
    "べき零行列について、次の問いに答えよ。\n",
    "1. べき零行列の定義を書け。\n",
    "2. べき零行列の行列式は 0 であることを示せ。\n",
    ":::"
   ]
  },
  {
   "cell_type": "markdown",
   "id": "8684835c-6420-43f2-87fa-2634d6cf7cab",
   "metadata": {},
   "source": [
    "べき零行列は、任意の整数$k$について\n",
    "\n",
    "$$\n",
    "A^k = O\n",
    "$$\n",
    "\n",
    "が成立する$n$次正方行列のこと"
   ]
  },
  {
   "cell_type": "markdown",
   "id": "1c4f6a9f-21ba-4b9f-b87b-cef8b3890bc4",
   "metadata": {},
   "source": [
    "べき零行列の行列式は、一般の行列に対して$|AB| = |A| |B|$とできる性質より\n",
    "\n",
    "$$\n",
    "|O| = |A^k| = |A|^k = 0\n",
    "$$\n",
    "\n",
    "となるので、$|A|=0$"
   ]
  },
  {
   "cell_type": "markdown",
   "id": "5fb56605-44d6-4353-b650-caf4dbe23508",
   "metadata": {},
   "source": [
    "## 8.7\n",
    "\n",
    ":::{card}\n",
    "正方行列 $A$ が\n",
    "$$\n",
    "A A^T=A^T A=E\n",
    "$$\n",
    "\n",
    "を満たすとき、すなわち、 $A^{-1}=A^T$ となるとき、 $A$ を直交行列という。直交行列 の行列式は 1 または-1であることを示せ。\n",
    ":::"
   ]
  },
  {
   "cell_type": "markdown",
   "id": "56c19018-01af-4ae4-b61a-c96fd96ccc39",
   "metadata": {},
   "source": [
    "積の性質（$|AB|=|A||B|$）と転置行列の行列式はもとの行列式と等しいこと（$|A^T|=|A|$）から\n",
    "\n",
    "$$\n",
    "|A^T A| = |A^T| |A| = |A|^2 = 1\n",
    "$$\n",
    "\n",
    "なので$|A|\\pm 1$"
   ]
  }
 ],
 "metadata": {
  "kernelspec": {
   "display_name": "Python 3 (ipykernel)",
   "language": "python",
   "name": "python3"
  },
  "language_info": {
   "codemirror_mode": {
    "name": "ipython",
    "version": 3
   },
   "file_extension": ".py",
   "mimetype": "text/x-python",
   "name": "python",
   "nbconvert_exporter": "python",
   "pygments_lexer": "ipython3",
   "version": "3.9.18"
  }
 },
 "nbformat": 4,
 "nbformat_minor": 5
}
