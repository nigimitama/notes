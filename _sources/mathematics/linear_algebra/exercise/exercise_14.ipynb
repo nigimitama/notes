{
 "cells": [
  {
   "cell_type": "markdown",
   "id": "86be4d98-30a0-40f8-b92b-ada918f5fca8",
   "metadata": {},
   "source": [
    "# 練習問題メモ 14（1次独立と1次従属）"
   ]
  },
  {
   "cell_type": "markdown",
   "id": "2db836ce-2f7f-4a03-8c62-38d5621df89a",
   "metadata": {},
   "source": [
    "## 問1\n",
    "\n",
    ":::{card}\n",
    "1. ベクトル$x_1, x_2, \\dots , x_m$が1次独立、1次従属であることの定義を書け。\n",
    ":::"
   ]
  },
  {
   "cell_type": "markdown",
   "id": "ef7dd9b3-2c06-4dcb-b151-4260f3b6684c",
   "metadata": {},
   "source": [
    "あるベクトルを、別のベクトルの定数倍で表現できるとき1次従属"
   ]
  },
  {
   "cell_type": "markdown",
   "id": "06796215-c86c-451b-8de8-9db33dfa300d",
   "metadata": {},
   "source": [
    ":::{card}\n",
    "2. 次の（ア）、（イ）が1次独立であるか1次従属であるかを調べよ。\n",
    ":::"
   ]
  },
  {
   "cell_type": "code",
   "execution_count": null,
   "id": "80ef7e6a-fe21-4eda-9ea4-67363e1053a2",
   "metadata": {},
   "outputs": [],
   "source": []
  }
 ],
 "metadata": {
  "kernelspec": {
   "display_name": "Python 3 (ipykernel)",
   "language": "python",
   "name": "python3"
  },
  "language_info": {
   "codemirror_mode": {
    "name": "ipython",
    "version": 3
   },
   "file_extension": ".py",
   "mimetype": "text/x-python",
   "name": "python",
   "nbconvert_exporter": "python",
   "pygments_lexer": "ipython3",
   "version": "3.10.14"
  }
 },
 "nbformat": 4,
 "nbformat_minor": 5
}
