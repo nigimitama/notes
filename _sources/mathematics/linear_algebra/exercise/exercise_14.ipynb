{
 "cells": [
  {
   "cell_type": "markdown",
   "id": "86be4d98-30a0-40f8-b92b-ada918f5fca8",
   "metadata": {},
   "source": [
    "# 練習問題メモ 14（1次独立と1次従属）"
   ]
  },
  {
   "cell_type": "markdown",
   "id": "2db836ce-2f7f-4a03-8c62-38d5621df89a",
   "metadata": {},
   "source": [
    "## 問1\n",
    "\n",
    ":::{card}\n",
    "1. ベクトル$x_1, x_2, \\dots , x_m$が1次独立、1次従属であることの定義を書け。\n",
    ":::"
   ]
  },
  {
   "cell_type": "markdown",
   "id": "ef7dd9b3-2c06-4dcb-b151-4260f3b6684c",
   "metadata": {},
   "source": [
    "あるベクトルを、別のベクトルの定数倍で表現できるとき1次従属"
   ]
  },
  {
   "cell_type": "markdown",
   "id": "3c537016-2f9d-403d-9096-f9d23343ba17",
   "metadata": {},
   "source": [
    "ベクトル$x_1,\\dots, x_n$について、係数$a_1,\\dots,a_n$が\n",
    "\n",
    "$$\n",
    "a_1 = \\cdots = a_n = 0\n",
    "$$\n",
    "\n",
    "であるとき、またそのときにのみ\n",
    "\n",
    "$$\n",
    "a_1 \\boldsymbol{x}_1 + \\cdots + a_n \\boldsymbol{x}_n = \\boldsymbol{0}\n",
    "$$\n",
    "\n",
    "が成り立つとき、$\\boldsymbol{x}_1, \\dots, \\boldsymbol{x}_n$は **線形独立（linearly independent）** であるという。"
   ]
  },
  {
   "cell_type": "markdown",
   "id": "38389d11-b02e-4558-9aaf-896937f8c4b3",
   "metadata": {},
   "source": [
    "ベクトルの組が1次独立でないとき、1次従属であるという。すなわち、\n",
    "\n",
    "$$\n",
    "a_1 \\boldsymbol{x}_1 + \\cdots + a_n \\boldsymbol{x}_n = \\boldsymbol{0}\n",
    "$$\n",
    "\n",
    "をみたす$a_1,\\dots,a_n$で、そのうち少なくとも1つが0でないものが存在するときにいう。"
   ]
  },
  {
   "cell_type": "markdown",
   "id": "06796215-c86c-451b-8de8-9db33dfa300d",
   "metadata": {},
   "source": [
    ":::{card}\n",
    "2. 次の（ア）、（イ）が1次独立であるか1次従属であるかを調べよ。\n",
    ":::"
   ]
  },
  {
   "cell_type": "markdown",
   "id": "fee94805-9747-40ac-97a0-7dc4b342db5f",
   "metadata": {},
   "source": [
    ":::{card}\n",
    "\n",
    "（ア）\n",
    "\n",
    "$$\n",
    "\\boldsymbol{a}_1=\\left(\\begin{array}{l}\n",
    "2 \\\\\n",
    "1 \\\\\n",
    "1\n",
    "\\end{array}\\right), \\boldsymbol{a}_2=\\left(\\begin{array}{l}\n",
    "1 \\\\\n",
    "2 \\\\\n",
    "1\n",
    "\\end{array}\\right), \\boldsymbol{a}_3=\\left(\\begin{array}{l}\n",
    "1 \\\\\n",
    "1 \\\\\n",
    "2\n",
    "\\end{array}\\right)\n",
    "$$\n",
    "\n",
    ":::"
   ]
  },
  {
   "cell_type": "markdown",
   "id": "ca4811b7-f483-452d-b06d-8600d944e442",
   "metadata": {},
   "source": [
    "「行列$A$について、$\\det(A)\\neq 0$ならフルランクであり1次独立になる」という性質を用いて、行列式で判定する\n",
    "\n",
    "行列$A=(a_1,a_2,a_3)$とする。\n",
    "\n",
    "$$\n",
    "\\det(A) = 2^3 + 1 + 1 \n",
    "- 2 - 2 - 2\\\\\n",
    "= 10 - 6 = 4\n",
    "$$\n",
    "\n",
    "であり$\\det(A)\\neq 0$のため$a_1,a_2,a_3$は1次独立である\n"
   ]
  },
  {
   "cell_type": "markdown",
   "id": "4168df28-9190-472c-af7e-08dcadbdd137",
   "metadata": {},
   "source": [
    ":::{card}\n",
    "\n",
    "（イ）\n",
    "\n",
    "$$\n",
    "\\boldsymbol{a}_1=\\left(\\begin{array}{l}\n",
    "0 \\\\\n",
    "1 \\\\\n",
    "2 \\\\\n",
    "3\n",
    "\\end{array}\\right), \\boldsymbol{a}_2=\\left(\\begin{array}{l}\n",
    "1 \\\\\n",
    "0 \\\\\n",
    "3 \\\\\n",
    "2\n",
    "\\end{array}\\right), \\boldsymbol{a}_3=\\left(\\begin{array}{l}\n",
    "2 \\\\\n",
    "3 \\\\\n",
    "0 \\\\\n",
    "1\n",
    "\\end{array}\\right), \\boldsymbol{a}_4=\\left(\\begin{array}{l}\n",
    "3 \\\\\n",
    "2 \\\\\n",
    "1 \\\\\n",
    "0\n",
    "\\end{array}\\right)\n",
    "$$\n",
    "\n",
    ":::"
   ]
  },
  {
   "cell_type": "markdown",
   "id": "1c9158a8-d112-4f19-9cd5-77f890587851",
   "metadata": {},
   "source": [
    "\n",
    "$$\n",
    "\\left|\\begin{array}{cccc}\n",
    "0 & 1 & 2 & 3\\\\\n",
    "1 & 0 & 3 & 2\\\\\n",
    "2 & 3 & 0 & 1\\\\\n",
    "3 & 2 & 1 & 0\n",
    "\\end{array}\\right|\n",
    "$$\n",
    "\n",
    "行を入れ替えて\n",
    "\n",
    "$$\n",
    "\\left|\\begin{array}{cccc}\n",
    "1 & 0 & 3 & 2\\\\\n",
    "0 & 1 & 2 & 3\\\\\n",
    "2 & 3 & 0 & 1\\\\\n",
    "3 & 2 & 1 & 0\n",
    "\\end{array}\\right|\n",
    "$$\n",
    "\n",
    "1行目を2倍して3行目から引き、\n",
    "1行目を3倍して4行目から引くと\n",
    "\n",
    "$$\n",
    "\\left|\\begin{array}{cccc}\n",
    "1 & 0 & 3 & 2\\\\\n",
    "0 & 1 & 2 & 3\\\\\n",
    "0 & 3 & -6 & -3\\\\\n",
    "0 & 2 & -8 & -6\n",
    "\\end{array}\\right|\n",
    "= 1 \\cdot\n",
    "\\left|\\begin{array}{cccc}\n",
    "1 & 2 & 3\\\\\n",
    "3 & -6 & -3\\\\\n",
    "2 & -8 & -6\n",
    "\\end{array}\\right|\n",
    "= 0\n",
    "$$\n",
    "\n",
    "のためランク落ちしており1次従属"
   ]
  },
  {
   "cell_type": "markdown",
   "id": "3cd2846a-9b0c-49bc-91bc-c6eb1a2cec56",
   "metadata": {},
   "source": [
    "## 問2\n",
    "\n",
    ":::{card}\n",
    "$$\n",
    "\\boldsymbol{a}_1=\\left(\\begin{array}{l}\n",
    "0 \\\\\n",
    "1 \\\\\n",
    "2 \\\\\n",
    "3\n",
    "\\end{array}\\right), \\boldsymbol{a}_2=\\left(\\begin{array}{l}\n",
    "1 \\\\\n",
    "0 \\\\\n",
    "3 \\\\\n",
    "2\n",
    "\\end{array}\\right), \\boldsymbol{a}_3=\\left(\\begin{array}{c}\n",
    "-2 \\\\\n",
    "3 \\\\\n",
    "0 \\\\\n",
    "5\n",
    "\\end{array}\\right)\n",
    "$$\n",
    "\n",
    "が1次独立であるか1次従属であるかを調べよ。\n",
    ":::"
   ]
  },
  {
   "cell_type": "markdown",
   "id": "293f90d3-32f8-43d3-a803-626dc47e8c93",
   "metadata": {},
   "source": [
    "係数を$c_1,c_2,c_3$とする。\n",
    "\n",
    "$$\n",
    "\\begin{cases}\n",
    "c_2 - 2 c_3= 0\\\\\n",
    "c_1 + 3 c_3= 0\\\\\n",
    "2 c_1 + 3 c_2 = 0\\\\\n",
    "3 c_1 + 2 c_2 + 5 c_3 = 0\n",
    "\\end{cases}\n",
    "$$\n",
    "\n",
    "の連立方程式から\n",
    "\n",
    "$$\n",
    "c_1 = -3 c_3\\\\\n",
    "c_2 = 2 c_3\\\\\n",
    "c_3 = - \\frac{1}{3} c_1\n",
    "$$\n",
    "\n",
    "が解となるので\n",
    "\n",
    "仮に$c_1 = 3$とすると、$c_3 = -1$、$c_2 = -2$になり\n",
    "\n",
    "$$\n",
    "c_1 \\boldsymbol{a}_1\n",
    "+ c_2 \\boldsymbol{a}_2\n",
    "+ c_3 \\boldsymbol{a}_3\\\\\n",
    "= 3 \\left(\\begin{array}{l} 0 \\\\ 1 \\\\ 2 \\\\ 3\\end{array}\\right)\n",
    "- 2 \\left(\\begin{array}{l}1 \\\\0 \\\\3 \\\\2\\end{array}\\right)\n",
    "- \\left(\\begin{array}{c}-2 \\\\3 \\\\0 \\\\5\\end{array}\\right)\n",
    "\\\\\n",
    "= \\left(\\begin{array}{l} 0 \\\\ 3 \\\\ 6 \\\\ 9\\end{array}\\right)\n",
    "- \\left(\\begin{array}{l}2 \\\\0 \\\\6 \\\\4\\end{array}\\right)\n",
    "- \\left(\\begin{array}{c}-2 \\\\3 \\\\0 \\\\5\\end{array}\\right)\n",
    "\\\\\n",
    "= \\left(\\begin{array}{c}0 \\\\0 \\\\0 \\\\0\\end{array}\\right)\n",
    "$$\n",
    "\n",
    "なので1次従属である"
   ]
  },
  {
   "cell_type": "markdown",
   "id": "dac53499-3636-4850-80c1-ba7009d738d0",
   "metadata": {},
   "source": [
    "## 問3\n",
    "\n",
    ":::{card}\n",
    "$W_1$、$W_2$をベクトル空間$V$の部分空間とする。\n",
    "\n",
    "1. 和空間$W_1+W_2$の定義を書け\n",
    ":::"
   ]
  },
  {
   "cell_type": "markdown",
   "id": "c4fd6940-aa0f-4ff6-88dc-5c73236ac7f4",
   "metadata": {},
   "source": [
    "ベクトル空間$V$ の部分集合 $W_1+W_2$ を\n",
    "\n",
    "$$\n",
    "W_1+W_2=\\left\\{\\boldsymbol{x}+\\boldsymbol{y} \\mid \\boldsymbol{x} \\in W_1, \\boldsymbol{y} \\in W_2\\right\\}\n",
    "$$\n",
    "\n",
    "と定めたものを$W_1$ と $W_2$ の和空間という。\n"
   ]
  },
  {
   "cell_type": "markdown",
   "id": "b8e7cc5a-cf9f-474f-9ed6-5ec5a2b359f0",
   "metadata": {},
   "source": [
    "\n",
    ":::{card}\n",
    "$W_1$、$W_2$をベクトル空間$V$の部分空間とする。\n",
    "\n",
    "2. $W_1$、$W_2$ がそれぞれ $\\boldsymbol{x}_1, \\cdots, \\boldsymbol{x}_m, \\boldsymbol{y}_1, \\cdots, \\boldsymbol{y}_n \\in V$ を用いて\n",
    "\n",
    "$$\n",
    "W_1=\\left\\langle\\boldsymbol{x}_1, \\cdots, \\boldsymbol{x}_m\\right\\rangle_{\\mathbb{R}}, \\quad W_2=\\left\\langle\\boldsymbol{y}_1, \\cdots, \\boldsymbol{y}_n\\right\\rangle_{\\mathbb{R}}\n",
    "$$\n",
    "\n",
    "と表されるとき、\n",
    "\n",
    "$$\n",
    "W_1+W_2=\\left\\langle\\boldsymbol{x}_1, \\cdots, \\boldsymbol{x}_m, \\boldsymbol{y}_1, \\cdots, \\boldsymbol{y}_n\\right\\rangle_{\\mathbb{R}}\n",
    "$$\n",
    "\n",
    "を示せ。\n",
    ":::"
   ]
  },
  {
   "cell_type": "markdown",
   "id": "62f9b4ea-fc4d-4d7a-801e-b579e62b693d",
   "metadata": {},
   "source": [
    ":::{margin}\n",
    "\n",
    "<>はspanのこと\n",
    "\n",
    "$$\n",
    "W\n",
    "= \\operatorname{Span}\\{x_1,\\dots,x_n\\}\n",
    "= \\langle x_1, \\dots, x_n \\rangle\n",
    "= \\{ a_1 x_1 + \\cdots + a_n x_n \\mid a_1, \\dots, a_n \\in \\mathbb{R} \\}\n",
    "$$\n",
    "\n",
    "である。\n",
    ":::"
   ]
  },
  {
   "cell_type": "markdown",
   "id": "e6947181-d3d6-40a6-8846-3d27d4b67f61",
   "metadata": {},
   "source": [
    "$w_1 \\in W_1$とする。\n",
    "\n",
    "$$\n",
    "w_1 = a_1 x_1 + \\cdots + a_m x_m\n",
    "\\quad (a_1, \\dots, a_m \\in \\mathbb{R})\n",
    "$$\n",
    "\n",
    "また$w_2 \\in W_2$についても\n",
    "\n",
    "$$\n",
    "w_2 = b_1 y_1 + \\cdots + b_n y_n\n",
    "\\quad (b_1, \\dots, b_n \\in \\mathbb{R})\n",
    "$$\n",
    "\n",
    "である。\n",
    "\n",
    "よって\n",
    "\n",
    "$$\n",
    "w_1 + w_2\n",
    "= a_1 x_1 + \\cdots + a_m x_m + b_1 y_1 + \\cdots + b_n y_n\n",
    "\\in \\langle \\boldsymbol{x}_1, \\cdots, \\boldsymbol{x}_m, \\boldsymbol{y}_1, \\cdots, \\boldsymbol{y}_n \\rangle_{\\mathbb{R}}\n",
    "= W_1 + W_2\n",
    "$$\n",
    "\n"
   ]
  }
 ],
 "metadata": {
  "kernelspec": {
   "display_name": "Python 3 (ipykernel)",
   "language": "python",
   "name": "python3"
  },
  "language_info": {
   "codemirror_mode": {
    "name": "ipython",
    "version": 3
   },
   "file_extension": ".py",
   "mimetype": "text/x-python",
   "name": "python",
   "nbconvert_exporter": "python",
   "pygments_lexer": "ipython3",
   "version": "3.10.14"
  }
 },
 "nbformat": 4,
 "nbformat_minor": 5
}
