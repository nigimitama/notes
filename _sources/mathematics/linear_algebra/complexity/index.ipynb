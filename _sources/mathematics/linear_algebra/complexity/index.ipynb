{
 "cells": [
  {
   "cell_type": "markdown",
   "id": "080040a4-5909-40f1-8e15-d53032b767ed",
   "metadata": {},
   "source": [
    "# 計算量や数値計算について\n",
    "\n",
    "教科書的な定義に従うとたくさん計算しないといけない場合がある\n",
    "\n",
    "線形代数のライブラリは内部の実装でも愚直に計算しているのか？効率の良い計算方法はあるのか？などのメモ"
   ]
  },
  {
   "cell_type": "markdown",
   "id": "15cb8225-1198-48a8-a150-15e9f39519a1",
   "metadata": {},
   "source": [
    ":::{tableofcontents}\n",
    ":::"
   ]
  }
 ],
 "metadata": {
  "kernelspec": {
   "display_name": "Python 3 (ipykernel)",
   "language": "python",
   "name": "python3"
  },
  "language_info": {
   "codemirror_mode": {
    "name": "ipython",
    "version": 3
   },
   "file_extension": ".py",
   "mimetype": "text/x-python",
   "name": "python",
   "nbconvert_exporter": "python",
   "pygments_lexer": "ipython3",
   "version": "3.9.18"
  }
 },
 "nbformat": 4,
 "nbformat_minor": 5
}
