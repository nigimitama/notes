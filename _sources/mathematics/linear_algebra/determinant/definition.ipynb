{
 "cells": [
  {
   "cell_type": "markdown",
   "id": "82d0f614-9b44-47d9-8063-bdf576a5a5e8",
   "metadata": {},
   "source": [
    "# 行列式の定義"
   ]
  },
  {
   "cell_type": "markdown",
   "id": "c322b5fe-942e-4739-bd94-fc3e73275b68",
   "metadata": {},
   "source": [
    "## 2次・3次の正方行列に対する行列式"
   ]
  },
  {
   "cell_type": "markdown",
   "id": "e470b88c-3474-4b7e-a094-5857dc9634d8",
   "metadata": {
    "editable": true,
    "slideshow": {
     "slide_type": ""
    },
    "tags": []
   },
   "source": [
    "2次の正方行列\n",
    "\n",
    "$$\n",
    "% 太字のalias\n",
    "\\newcommand{\\b}[1]{\\boldsymbol{#1}}\n",
    "%\n",
    "\\DeclareMathOperator{\\Ker}{\\text{Ker}}\n",
    "\\DeclareMathOperator{\\Im}{\\text{Im}}\n",
    "\\DeclareMathOperator{\\dim}{\\text{dim}}\n",
    "\\DeclareMathOperator{\\rank}{\\text{rank}}\n",
    "%\n",
    "A = \n",
    "\\begin{pmatrix}\n",
    "a & b\\\\\n",
    "c & d\n",
    "\\end{pmatrix}\n",
    "$$\n",
    "\n",
    "に対して、行列式は次のように求めることができる。\n",
    "\n",
    "\n",
    "$$\n",
    "|A| = ad - bc\n",
    "$$\n"
   ]
  },
  {
   "cell_type": "code",
   "execution_count": 17,
   "id": "8626f4d7-b0ee-4d6d-8f45-66eca7cf42e6",
   "metadata": {
    "editable": true,
    "slideshow": {
     "slide_type": ""
    },
    "tags": []
   },
   "outputs": [
    {
     "name": "stdout",
     "output_type": "stream",
     "text": [
      "det(A) = -2\n"
     ]
    }
   ],
   "source": [
    "import numpy as np\n",
    "A = np.array([\n",
    "    [1, 2],\n",
    "    [3, 4],\n",
    "])\n",
    "\n",
    "det = 1 * 4 - 2 * 3\n",
    "assert det == np.linalg.det(A).round(5)  # numpyの計算結果と照合\n",
    "print(f\"det(A) = {det}\")"
   ]
  },
  {
   "cell_type": "markdown",
   "id": "047b9ee0-3596-4942-b010-4e96e31878a9",
   "metadata": {},
   "source": [
    "3次の正方行列$A$\n",
    "\n",
    "$$\n",
    "A = \n",
    "\\begin{pmatrix}\n",
    "a_{11} & a_{12} & a_{13}\\\\\n",
    "a_{21} & a_{22} & a_{23}\\\\\n",
    "a_{31} & a_{32} & a_{33}\\\\\n",
    "\\end{pmatrix}\n",
    "$$\n",
    "\n",
    "に対して、行列式は次のようになる\n",
    "\n",
    "\n",
    "$$\n",
    "|A| = \n",
    "\\left|\\begin{array}{lll}\n",
    "a_{11} & a_{12} & a_{13} \\\\\n",
    "a_{21} & a_{22} & a_{23} \\\\\n",
    "a_{31} & a_{32} & a_{33}\n",
    "\\end{array}\\right|\n",
    "=\n",
    "a_{11} a_{22} a_{33}+a_{12} a_{23} a_{31} + a_{13} a_{21} a_{32}\n",
    "-a_{12} a_{21} a_{33}-a_{13} a_{22} a_{31}-a_{11} a_{23} a_{32}\n",
    "$$\n"
   ]
  },
  {
   "cell_type": "code",
   "execution_count": 18,
   "id": "51d25e5a-907a-4aba-b5e8-0a60cf38ee5c",
   "metadata": {
    "editable": true,
    "slideshow": {
     "slide_type": ""
    },
    "tags": []
   },
   "outputs": [
    {
     "name": "stdout",
     "output_type": "stream",
     "text": [
      "det(A) = -3\n"
     ]
    }
   ],
   "source": [
    "import numpy as np\n",
    "A = np.array([\n",
    "    [1, 2, 3],\n",
    "    [4, 5, 6],\n",
    "    [7, 8, 10]\n",
    "])\n",
    "det = A[0,0] * A[1,1] * A[2,2] \\\n",
    "    + A[0,1] * A[1,2] * A[2,0] \\\n",
    "    + A[0,2] * A[1,0] * A[2,1] \\\n",
    "    - A[0,1] * A[1,0] * A[2,2] \\\n",
    "    - A[0,2] * A[1,1] * A[2,0] \\\n",
    "    - A[0,0] * A[1,2] * A[2,1]\n",
    "\n",
    "assert det == np.linalg.det(A).round(5)  # numpyの計算結果と照合\n",
    "print(f\"det(A) = {det}\")"
   ]
  },
  {
   "cell_type": "markdown",
   "id": "c55ff892-0d7b-4737-8a24-ccb5292ad1e6",
   "metadata": {},
   "source": [
    "## $n$次正方行列に対する行列式の定義"
   ]
  },
  {
   "cell_type": "markdown",
   "id": "dbde3fbf-0d89-4914-ad84-96dd4d5dd0e6",
   "metadata": {},
   "source": [
    "### 性質による定義\n",
    "\n",
    "「この性質をもっていれば行列式」という条件を挙げるタイプの定義\n",
    "\n",
    ":::{admonition} （定義）行列式\n",
    ":class: note\n",
    "\n",
    "$n$ 次の正方行列 $A=(\\boldsymbol{a}_1, \\cdots, \\boldsymbol{a}_n)$ に対し、次の 3 条件をみたす ただ 1 つの式を $n$ 次行列式とよび、$\\operatorname{det}(A),|A|,\\left|\\boldsymbol{a}_1, \\cdots, \\boldsymbol{a}_n\\right|$ などと書く.\n",
    "\n",
    "(1) **線型性**\n",
    "\n",
    "$\\left|\\boldsymbol{a}_1, \\cdots, \\boldsymbol{a}_n\\right|$ は、各列について線型である。\n",
    "\n",
    "$$\n",
    "\\begin{aligned}\n",
    "& \\left|\\boldsymbol{a}_1, \\cdots, c \\boldsymbol{a}_k+c^{\\prime} \\boldsymbol{a}_k^{\\prime}, \\cdots, \\boldsymbol{a}_n\\right| \\\\\n",
    "& \\quad=c\\left|\\boldsymbol{a}_1, \\cdots, \\boldsymbol{a}_k, \\cdots, \\boldsymbol{a}_n\\right|+c^{\\prime}\\left|\\boldsymbol{a}_1, \\cdots, \\boldsymbol{a}_k^{\\prime}, \\cdots, \\boldsymbol{a}_n\\right|\n",
    "\\end{aligned}\n",
    "$$\n",
    "\n",
    "(2) **交代性**\n",
    "\n",
    "第 $i$ 列と第 $j$ 列 $(i \\neq j)$ を入れかえ、他はそのままとすると、値が符号だけ変わる\n",
    "\n",
    "$$\n",
    "\\left|\\boldsymbol{a}_1, \\cdots, \\boldsymbol{a}_i, \\cdots, \\boldsymbol{a}_j, \\cdots, \\boldsymbol{a}_n\\right|\n",
    "= -|\\boldsymbol{a}_1, \\cdots, \\overbrace{\\boldsymbol{a}_j}^{i}, \\cdots, \\overbrace{\\boldsymbol{a}_i}^{j}, \\cdots, \\boldsymbol{a}_n|\n",
    "$$\n",
    "\n",
    "いいかえれば、「異なる 2 つの列が従属 $\\left(\\boldsymbol{a}_i=k \\boldsymbol{a}_j\\right)$ ならば、$\\left|\\boldsymbol{a}_1, \\cdots, \\boldsymbol{a}_n\\right|=0$」である。\n",
    "\n",
    "(3) **規格化**\n",
    "\n",
    "単位行列 $I=(\\boldsymbol{e}_1, \\cdots, \\boldsymbol{e}_n)$ に対しては\n",
    "\n",
    "$$\n",
    "|I|=1\n",
    "$$\n",
    ":::"
   ]
  },
  {
   "cell_type": "markdown",
   "id": "7b34131c-ee4b-49cf-9795-c1f6b96e2bb5",
   "metadata": {},
   "source": [
    "### ライプニッツの明示公式\n",
    "\n",
    "置換を用いて陽に定義したものとして、以下の明示公式がある\n",
    "\n",
    ":::{admonition} 行列式に対するライプニッツの明示公式\n",
    ":class: note\n",
    "\n",
    "$n$次の正方行列\n",
    "\n",
    "$$\n",
    "A=\\left(\\begin{array}{cccc}\n",
    "a_{11} & a_{12} & \\cdots & a_{1 n} \\\\\n",
    "a_{21} & a_{22} & \\cdots & a_{2 n} \\\\\n",
    "\\vdots & \\vdots & & \\vdots \\\\\n",
    "a_{n 1} & a_{n 2} & \\cdots & a_{n n}\n",
    "\\end{array}\\right)=\\left(a_{i j}\\right)\n",
    "$$\n",
    "\n",
    "に対して、Aの成分によって定義される次の数$|A|$を $A$ の行列式という。\n",
    "\n",
    "$$\n",
    "\\begin{align}\n",
    "|A|\n",
    "&= \\sum_{\\sigma \\in S_n} \\operatorname{sgn}(\\sigma) a_{1 \\sigma(1)} a_{2 \\sigma(2)} \\cdots a_{n \\sigma(n)}\\\\\n",
    "&= \\sum_{\\sigma \\in S_n} \\operatorname{sgn}(\\sigma) \\prod^n_{i=1} a_{i \\sigma(i)}\n",
    "\\end{align}\n",
    "$$\n",
    "\n",
    "ここで和は $n !$ 個の置換 $\\sigma \\in S_n$ すべてにわたる。\n",
    "\n",
    ":::"
   ]
  },
  {
   "cell_type": "markdown",
   "id": "b023ec4e-8d84-4e59-86f4-9dcb0ad88620",
   "metadata": {},
   "source": [
    ":::{card} 例：2次の正方行列の場合\n",
    "\n",
    "$$\n",
    "A = \n",
    "\\begin{pmatrix}\n",
    "a_{11} & a_{12}\\\\\n",
    "a_{21} & a_{22}\n",
    "\\end{pmatrix}\n",
    "$$\n",
    "\n",
    "とすると、$M_2 =  \\{1,2\\}$の置換は$2!=2$個あり\n",
    "\n",
    "$$\n",
    "\\begin{pmatrix}\n",
    "1 & 2\\\\\n",
    "1 & 2\\\\\n",
    "\\end{pmatrix}\n",
    "= \\varepsilon\n",
    ", \\quad\n",
    "\\begin{pmatrix}\n",
    "1 & 2\\\\\n",
    "2 & 1\\\\\n",
    "\\end{pmatrix}\n",
    "= (1, 2)\n",
    "$$\n",
    "\n",
    "であるため\n",
    "\n",
    "$$\n",
    "\\text{sgn}\n",
    "\\begin{pmatrix}\n",
    "1 & 2\\\\\n",
    "1 & 2\\\\\n",
    "\\end{pmatrix}\n",
    "= 1\n",
    ", \\quad\n",
    "\\text{sgn}\n",
    "\\begin{pmatrix}\n",
    "1 & 2\\\\\n",
    "2 & 1\\\\\n",
    "\\end{pmatrix}\n",
    "= -1\n",
    "$$\n",
    "\n",
    "となり、\n",
    "\n",
    "$$\n",
    "\\left|\\begin{array}{ll}\n",
    "a_{11} & a_{12} \\\\\n",
    "a_{21} & a_{22}\n",
    "\\end{array}\\right|=\\operatorname{sgn}\\left(\\begin{array}{ll}\n",
    "1 & 2 \\\\\n",
    "1 & 2\n",
    "\\end{array}\\right) a_{11} a_{22}+\\operatorname{sgn}\\left(\\begin{array}{ll}\n",
    "1 & 2 \\\\\n",
    "2 & 1\n",
    "\\end{array}\\right) a_{12} a_{21}=a_{11} a_{22}-a_{12} a_{21}\n",
    "$$\n",
    ":::"
   ]
  }
 ],
 "metadata": {
  "kernelspec": {
   "display_name": "Python 3 (ipykernel)",
   "language": "python",
   "name": "python3"
  },
  "language_info": {
   "codemirror_mode": {
    "name": "ipython",
    "version": 3
   },
   "file_extension": ".py",
   "mimetype": "text/x-python",
   "name": "python",
   "nbconvert_exporter": "python",
   "pygments_lexer": "ipython3",
   "version": "3.9.18"
  }
 },
 "nbformat": 4,
 "nbformat_minor": 5
}
