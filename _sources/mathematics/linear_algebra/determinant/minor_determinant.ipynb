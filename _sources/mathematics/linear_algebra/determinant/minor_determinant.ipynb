{
 "cells": [
  {
   "cell_type": "markdown",
   "id": "491bd97f-e80a-4352-b807-36e43d486dcf",
   "metadata": {},
   "source": [
    "# 余因子\n",
    "\n",
    "$n$次の正方行列$A=(a_{ij})$から、第$i$行と第$j$列を取り除いて得られる$n-1$次の正方行列を$A_{ij}$と書く。\n",
    "\n",
    "$$\n",
    "\\tilde{a}_{ij} = (-1)^{i+j} |A_{ij}|\n",
    "$$\n",
    "\n",
    "を行列$A$における$a_{ij}$の**余因子**（cofactor）という。"
   ]
  },
  {
   "cell_type": "code",
   "execution_count": 1,
   "id": "57c33bc0-43ed-4698-8827-7b67c30f22e6",
   "metadata": {},
   "outputs": [
    {
     "data": {
      "text/plain": [
       "-47.999999999999986"
      ]
     },
     "execution_count": 1,
     "metadata": {},
     "output_type": "execute_result"
    }
   ],
   "source": [
    "# 例\n",
    "import numpy as np\n",
    "\n",
    "A = np.array([\n",
    "    [1, 2, 3],\n",
    "    [4, 5, 6],\n",
    "    [7, 8, 0],\n",
    "])\n",
    "\n",
    "# 第1行、第1列を除いたA_11行列\n",
    "A11 = A[1:, 1:]\n",
    "\n",
    "# 余因子\n",
    "(-1)**(1 + 1) * np.linalg.det(A11)"
   ]
  },
  {
   "cell_type": "markdown",
   "id": "13fe8b28-66f9-45de-a11f-bc387116b1aa",
   "metadata": {},
   "source": [
    "## 余因子展開（ラプラス展開）\n",
    "\n",
    "$n$次正方行列$A$の行列式$\\det(A)$は、任意の行や列についての要素と余因子の重み付き和として展開できる。\n",
    "\n",
    "- 第$i$行に関する余因子展開: $a_{i 1} \\tilde{a}_{i 1}+ a_{i 2} \\tilde{a}_{i 2} +\\cdots+a_{i n} \\tilde{a}_{i n} = |A|$\n",
    "- 第$j$列に関する余因子展開: $a_{1 j} \\tilde{a}_{1 j}+ a_{2 j} \\tilde{a}_{2 j} +\\cdots+a_{n j} \\tilde{a}_{n j} = |A|$\n",
    "\n",
    "これを**余因子展開**（cofactor expansion）やラプラス展開（Laplace expansion）という。"
   ]
  },
  {
   "cell_type": "code",
   "execution_count": 23,
   "id": "2f52c603-c414-4552-9580-e5789928bb9c",
   "metadata": {
    "tags": []
   },
   "outputs": [
    {
     "data": {
      "text/plain": [
       "True"
      ]
     },
     "execution_count": 23,
     "metadata": {},
     "output_type": "execute_result"
    }
   ],
   "source": [
    "# 例\n",
    "import numpy as np\n",
    "\n",
    "A = np.array([\n",
    "    [1, 2, 3],\n",
    "    [4, 5, 6],\n",
    "    [7, 8, 9],\n",
    "])\n",
    "\n",
    "def cofactor(A, i, j):\n",
    "    \"\"\"余因子を計算する関数\"\"\"\n",
    "    A_minor = np.delete(A, i, axis=0)\n",
    "    A_minor = np.delete(A_minor, j, axis=1)\n",
    "    return (-1)**(i + j) * np.linalg.det(A_minor)\n",
    "\n",
    "def cofactor_expansion_along_i(A, i):\n",
    "    \"\"\"第i行に関する余因子展開による行列式の計算\"\"\"\n",
    "    result = 0\n",
    "    for j in range(A.shape[1]):\n",
    "        result += A[i, j] * cofactor(A, i=i, j=j)\n",
    "    return result\n",
    "\n",
    "(cofactor_expansion_along_i(A, i=0) - np.linalg.det(A)) < 1e-3"
   ]
  },
  {
   "cell_type": "markdown",
   "id": "82de6416-fe77-4ce2-9f43-ef2a174522df",
   "metadata": {},
   "source": [
    "## 余因子行列\n",
    "\n",
    "$n$次の正方行列$A=(a_{ij})$の余因子を$\\tilde{a}_{ij}$とするとき、$(i, j)$成分に余因子$\\tilde{a}_{ij}$をもつ行列の転置行列\n",
    "\n",
    "$$\n",
    "\\tilde{A}=\\left(\\begin{array}{cccc}\n",
    "\\tilde{a}_{11} & \\tilde{a}_{21} & \\cdots & \\tilde{a}_{n 1} \\\\\n",
    "\\tilde{a}_{12} & \\tilde{a}_{22} & \\cdots & \\tilde{a}_{n 2} \\\\\n",
    "\\vdots & \\vdots & & \\vdots \\\\\n",
    "\\tilde{a}_{1 n} & \\tilde{a}_{2 n} & \\cdots & \\tilde{a}_{n n}\n",
    "\\end{array}\\right)\n",
    "$$\n",
    "\n",
    "を**余因子行列**（adjugate matrix）といい、$\\text{adj}(A)$や$\\tilde{A}$と表す。（※添字が転置したような形になっているのに注意）"
   ]
  },
  {
   "cell_type": "code",
   "execution_count": 33,
   "id": "2ccb6efd-4798-4e81-b4ad-8ad7f80c5240",
   "metadata": {},
   "outputs": [
    {
     "data": {
      "text/plain": [
       "array([[-48.,  24.,  -3.],\n",
       "       [ 42., -21.,   6.],\n",
       "       [ -3.,   6.,  -3.]], dtype=float32)"
      ]
     },
     "execution_count": 33,
     "metadata": {},
     "output_type": "execute_result"
    }
   ],
   "source": [
    "def cofactor_matrix(A):\n",
    "    \"\"\"余因子行列\"\"\"\n",
    "    C = np.zeros_like(A, dtype=np.float32)\n",
    "    for i in range(A.shape[0]):\n",
    "        for j in range(A.shape[1]):\n",
    "            C[i, j] = cofactor(A, i=i, j=j)\n",
    "    return C.T\n",
    "\n",
    "A_tilde = cofactor_matrix(A)\n",
    "A_tilde"
   ]
  },
  {
   "cell_type": "markdown",
   "id": "3869ece5-54c0-4fc9-afd9-bf0afb937fbd",
   "metadata": {},
   "source": [
    "### 余因子行列の性質\n",
    "\n",
    ":::{card}\n",
    "\n",
    "$$\n",
    "A \\tilde{A}=\\left(\\begin{array}{ccc}\n",
    "|A| & & O \\\\\n",
    "& \\ddots & \\\\\n",
    "O & & |A|\n",
    "\\end{array}\\right)=|A| I\n",
    "$$\n",
    "\n",
    ":::"
   ]
  },
  {
   "cell_type": "markdown",
   "id": "d75c79db-afd7-4d7e-8e45-8d4ef28c7732",
   "metadata": {},
   "source": [
    "行列 $A \\tilde{A}$ の第 $(i, k)$ 成分は $\\sum_{j=1}^n a_{i j} \\tilde{a}_{k j}$ である。\n",
    "\n",
    "- $a_{i 1} \\tilde{a}_{i 1}+a_{i 2} \\tilde{a}_{i 2}+\\cdots+a_{i n} \\tilde{a}_{i n}=|A| \\quad$ (第 $i$ 行に関する余因子展開)\n",
    "- $a_{i 1} \\tilde{a}_{k 1}+a_{i 2} \\tilde{a}_{k 2}+\\cdots+a_{i n} \\tilde{a}_{k n}=0 \\quad(k \\neq i)$\n",
    "\n",
    "を利用すれば,\n",
    "$$\n",
    "\\sum_{j=1}^n a_{i j} \\tilde{a}_{k j}=\\left\\{\\begin{array}{lc}\n",
    "|A| & (i=k) \\\\\n",
    "0 & (i \\neq k)\n",
    "\\end{array}\\right.\n",
    "$$\n",
    "\n",
    "となる. これより，\n",
    "\n",
    "$$\n",
    "A \\tilde{A}=\\left(\\begin{array}{ccc}\n",
    "|A| & & O \\\\\n",
    "& \\ddots & \\\\\n",
    "O & & |A|\n",
    "\\end{array}\\right)=|A| I\n",
    "$$\n",
    "\n",
    "を得る\n",
    "\n",
    "（参考：[線形代数1A 第10回　講義資料](https://www.math.aoyama.ac.jp/~syamanaka/Lecture/LinearAlgebra1A_10.pdf)）"
   ]
  },
  {
   "cell_type": "code",
   "execution_count": 36,
   "id": "257e7436-709f-4b7c-82d9-60738e149f4e",
   "metadata": {},
   "outputs": [
    {
     "name": "stdout",
     "output_type": "stream",
     "text": [
      "A[0, 0] = 1\n",
      "cofactor(A, i=1, j=0) = 23.999999999999993\n",
      "A[0, 1] = 2\n",
      "cofactor(A, i=1, j=1) = -21.0\n",
      "A[0, 2] = 3\n",
      "cofactor(A, i=1, j=2) = 6.0\n"
     ]
    },
    {
     "data": {
      "text/plain": [
       "-0.0"
      ]
     },
     "execution_count": 36,
     "metadata": {},
     "output_type": "execute_result"
    }
   ],
   "source": [
    "# i != k\n",
    "def cofactor_expansion_not_along_i(A, i, k):\n",
    "    result = 0\n",
    "    for j in range(A.shape[1]):\n",
    "        print(f\"A[{i}, {j}] = {A[i, j]}\")\n",
    "        print(f\"cofactor(A, i={k}, j={j}) = {cofactor(A, i=k, j=j)}\")\n",
    "        result += A[i, j] * cofactor(A, i=k, j=j)\n",
    "    return result\n",
    "\n",
    "round(cofactor_expansion_not_along_i(A, i=0, k=1), 3)"
   ]
  },
  {
   "cell_type": "code",
   "execution_count": 39,
   "id": "94eaad99-84a3-48cf-8d1e-640689ec6042",
   "metadata": {},
   "outputs": [
    {
     "name": "stdout",
     "output_type": "stream",
     "text": [
      "det(A) = 27\n",
      "A @ A_tilde: \n",
      "[[27.  0.  0.]\n",
      " [ 0. 27.  0.]\n",
      " [ 0.  0. 27.]]\n"
     ]
    }
   ],
   "source": [
    "print(f\"det(A) = {np.linalg.det(A):.0f}\")\n",
    "print(f\"A @ A_tilde: \\n{A @ A_tilde}\")"
   ]
  },
  {
   "cell_type": "markdown",
   "id": "0442acb0-d0f1-4ad8-8aff-f8d7e2695f6d",
   "metadata": {},
   "source": [
    "### 逆行列の導出\n",
    "\n",
    "逆行列、すなわち$n$次正方行列$A$と$n$次の単位行列$I$に対し、\n",
    "\n",
    "$$\n",
    "AA^{-1} = A^{-1} A = I\n",
    "$$\n",
    "\n",
    "を満たす行列$A^{-1}$を求める。\n"
   ]
  },
  {
   "cell_type": "markdown",
   "id": "00fcec4d-99ec-4233-9cd0-3ed6230ee23e",
   "metadata": {},
   "source": [
    "$$\n",
    "A \\tilde{A} = |A| I\n",
    "$$\n",
    "\n",
    "より\n"
   ]
  },
  {
   "cell_type": "markdown",
   "id": "a2123cfe-9dbf-45c5-bada-019a68adb706",
   "metadata": {},
   "source": [
    "$$\n",
    "A \\underbrace{ \\frac{1}{|A|} \\tilde{A} }_{ A^{-1} } = I\n",
    "$$\n",
    "\n",
    "よって\n",
    "\n",
    "$$\n",
    "A^{-1} =  \\frac{1}{|A|} \\tilde{A}\n",
    "$$"
   ]
  }
 ],
 "metadata": {
  "kernelspec": {
   "display_name": "Python 3 (ipykernel)",
   "language": "python",
   "name": "python3"
  },
  "language_info": {
   "codemirror_mode": {
    "name": "ipython",
    "version": 3
   },
   "file_extension": ".py",
   "mimetype": "text/x-python",
   "name": "python",
   "nbconvert_exporter": "python",
   "pygments_lexer": "ipython3",
   "version": "3.9.18"
  }
 },
 "nbformat": 4,
 "nbformat_minor": 5
}
