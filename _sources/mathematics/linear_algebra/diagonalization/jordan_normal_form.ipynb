{
 "cells": [
  {
   "cell_type": "markdown",
   "id": "f9a84fc6-ffb5-4553-8309-2e3caf3caa11",
   "metadata": {},
   "source": [
    "# ジョルダン標準形"
   ]
  },
  {
   "cell_type": "markdown",
   "id": "476066ef-03b1-45a2-b878-ff2d6f25a505",
   "metadata": {},
   "source": [
    "ジョルダン標準形は、対角化できない行列を対角に近い簡略化した状態に変換する方法"
   ]
  },
  {
   "cell_type": "markdown",
   "id": "d8467669-785f-49ca-8835-c99d705fd43d",
   "metadata": {},
   "source": [
    "## $2 \\times 2$のジョルダン標準形\n",
    "\n",
    "$2\\times 2$行列$A$は、可逆な行列$P$を用いて$P^{-1} A P$を作ると、必ず次のいずれかにすることができる\n",
    "\n",
    "\n",
    "$$\n",
    "\\left(\\begin{array}{cc}\n",
    "\\lambda_1 & 0 \\\\\n",
    "0 & \\lambda_2\n",
    "\\end{array}\\right), \\quad\\left(\\begin{array}{cc}\n",
    "\\lambda_1 & 0 \\\\\n",
    "0 & \\lambda_1\n",
    "\\end{array}\\right), \\quad\\left(\\begin{array}{cc}\n",
    "\\lambda_1 & 1 \\\\\n",
    "0 & \\lambda_1\n",
    "\\end{array}\\right)\n",
    "$$\n",
    "\n",
    "ただし、$\\lambda_1 \\neq \\lambda_2$である。これらの3つの行列が$2\\times 2$行列の **ジョルダン標準形（Jordan normal form）** である。"
   ]
  },
  {
   "cell_type": "markdown",
   "id": "3cb6f020-8eb7-41dd-bb60-0f0af4c23377",
   "metadata": {},
   "source": [
    "対角化の際に重要だったのは固有値問題である。固有方程式$|A-\\lambda I| = 0$の解$\\lambda_1, \\lambda_2$が固有値である。\n",
    "\n",
    "解が$\\lambda_1 \\neq \\lambda_2$である（重根でない）場合、異なる固有値に属する固有ベクトルは1次独立なので、固有ベクトルを列ベクトルとして並べた行列$P$は可逆であり、行列$A$は$P$によって\n",
    "\n",
    "$$\n",
    "P^{-1} A P=\\left(\\begin{array}{ll}\n",
    "\\lambda_1 & 0 \\\\\n",
    "0 & \\lambda_2\n",
    "\\end{array}\\right)\n",
    "$$\n",
    "\n",
    "と対角化される。これはジョルダン標準形の1番目のものである。"
   ]
  },
  {
   "cell_type": "markdown",
   "id": "91aadc48-c9fe-47f4-999f-73d4643d0ca9",
   "metadata": {},
   "source": [
    "解が$\\lambda_1 = \\lambda_2$である（重根の）場合で最も単純な例は\n",
    "\n",
    "$$\n",
    "A=\\left(\\begin{array}{cc}\n",
    "\\lambda_1 & 0 \\\\\n",
    "0 & \\lambda_1\n",
    "\\end{array}\\right)\n",
    "$$\n",
    "\n",
    "で、この場合はすでに対角化されている。（単位行列$I$を$P$とおけば対角化できる、とも言える）。この場合はジョルダン標準形の2番目のものである。"
   ]
  },
  {
   "cell_type": "markdown",
   "id": "05b7160c-696f-4a18-b959-f9e55949b96d",
   "metadata": {},
   "source": [
    "解が$\\lambda_1 = \\lambda_2$である（重根の）場合で、上記のようなものとは違う場合（上記の例は$A-\\lambda I=O$となるので、今度は$A-\\lambda I \\neq O$の場合）を考える。\n",
    "\n",
    "例えば\n",
    "\n",
    "$$\n",
    "A=\\left(\\begin{array}{cc}\n",
    "1  & 2\\\\\n",
    "0 & 1\n",
    "\\end{array}\\right)\n",
    "$$\n",
    "\n",
    "は1次独立な固有ベクトルが1個しかなく、対角化ができない。この場合でもジョルダン標準形の3番目の形に変換する可逆行列$P$を求める事ができる。"
   ]
  },
  {
   "cell_type": "markdown",
   "id": "f7acc5b8-1395-4778-8335-65ce533612a8",
   "metadata": {},
   "source": [
    "## ジョルダン標準形を求める"
   ]
  },
  {
   "cell_type": "code",
   "execution_count": null,
   "id": "b81b903e-81e9-4313-8fc5-b9c16f848ec6",
   "metadata": {},
   "outputs": [],
   "source": []
  }
 ],
 "metadata": {
  "kernelspec": {
   "display_name": "Python 3 (ipykernel)",
   "language": "python",
   "name": "python3"
  },
  "language_info": {
   "codemirror_mode": {
    "name": "ipython",
    "version": 3
   },
   "file_extension": ".py",
   "mimetype": "text/x-python",
   "name": "python",
   "nbconvert_exporter": "python",
   "pygments_lexer": "ipython3",
   "version": "3.10.15"
  }
 },
 "nbformat": 4,
 "nbformat_minor": 5
}
