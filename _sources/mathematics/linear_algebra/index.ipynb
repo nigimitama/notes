{
 "cells": [
  {
   "cell_type": "markdown",
   "id": "908da997-a30a-4523-8659-e22929e09677",
   "metadata": {},
   "source": [
    "# 線形代数学\n",
    "\n",
    ":::{tableofcontents}\n",
    ":::"
   ]
  },
  {
   "cell_type": "markdown",
   "id": "b8c8b8e1-359a-4ed2-9bcd-9008c4cb153c",
   "metadata": {
    "tags": []
   },
   "source": [
    "## 参考\n",
    "\n",
    "- [線形代数基礎](http://www.phys.shimane-u.ac.jp/tanaka_lab/lecture/linear_algebra/linear_algebra.pdf)"
   ]
  }
 ],
 "metadata": {
  "kernelspec": {
   "display_name": "Python 3 (ipykernel)",
   "language": "python",
   "name": "python3"
  },
  "language_info": {
   "codemirror_mode": {
    "name": "ipython",
    "version": 3
   },
   "file_extension": ".py",
   "mimetype": "text/x-python",
   "name": "python",
   "nbconvert_exporter": "python",
   "pygments_lexer": "ipython3",
   "version": "3.9.18"
  }
 },
 "nbformat": 4,
 "nbformat_minor": 5
}
