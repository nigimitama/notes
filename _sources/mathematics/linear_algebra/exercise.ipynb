{
 "cells": [
  {
   "cell_type": "markdown",
   "id": "75e211ea-ed94-4f4e-9b33-5a850e193d09",
   "metadata": {},
   "source": [
    "# 練習問題"
   ]
  },
  {
   "cell_type": "markdown",
   "id": "4fb6389b-e482-46e9-bf38-327b0c908067",
   "metadata": {},
   "source": [
    "## 問1.1\n",
    "\n",
    "$3 \\times 2$行列\n",
    "$$\n",
    "\\left(\\begin{array}{cc}\n",
    "7 & 8 \\\\\n",
    "9 & 10 \\\\\n",
    "11 & 12\n",
    "\\end{array}\\right)$$\n",
    "の$(2,1)$成分、第2行、第1列をそれぞれ答えよ。"
   ]
  },
  {
   "cell_type": "markdown",
   "id": "59e41703-8e9b-4c42-977a-f378cea5a3c3",
   "metadata": {},
   "source": [
    "- (2,1)成分→9\n",
    "- 第2行→$(9, 10)$\n",
    "- 第1列→$(7, 9, 11)^T$"
   ]
  },
  {
   "cell_type": "markdown",
   "id": "956c1955-9e17-4507-98f8-3bbbcfb5d239",
   "metadata": {},
   "source": [
    "## 問1.2\n",
    "\n",
    "3 次の正方行列 A を\n",
    "\n",
    "$$\n",
    "A=\\left(\\begin{array}{lll}\n",
    "a_{11} & a_{12} & a_{14} \\\\\n",
    "a_{21} & a_{22} & a_{23} \\\\\n",
    "a_{31} & a_{32} & a_{33}\n",
    "\\end{array}\\right)\n",
    "$$\n",
    "\n",
    "と表す。\n",
    "\n",
    "> 1. A の対角成分を答えよ。\n",
    "\n",
    "対角成分：$(a_{11}, a_{22}, a_{33})$"
   ]
  },
  {
   "cell_type": "markdown",
   "id": "e732ccb9-54a8-4b43-b725-203ad43455a4",
   "metadata": {},
   "source": [
    "> A が対角行列、スカラー行列、上三角行列、下三角行列となるとき、A をそ\n",
    "れぞれ具体的に表せ。\n",
    "\n",
    "対角行列\n",
    "\n",
    "$$\n",
    "A=\\left(\\begin{array}{lll}\n",
    "a_{11} & 0 & 0 \\\\\n",
    "0 & a_{22} & 0 \\\\\n",
    "0 & 0 & a_{33}\n",
    "\\end{array}\\right)\n",
    "$$\n",
    "\n",
    "スカラー行列\n",
    "\n",
    "$$\n",
    "A=\\left(\\begin{array}{lll}\n",
    "a_{11} & 0 & 0 \\\\\n",
    "0 & a_{11} & 0 \\\\\n",
    "0 & 0 & a_{11}\n",
    "\\end{array}\\right)\n",
    "= a_{11} I\n",
    "$$\n",
    "\n",
    "上三角\n",
    "\n",
    "\n",
    "$$\n",
    "A=\\left(\\begin{array}{lll}\n",
    "a_{11} & a_{12} & a_{14} \\\\\n",
    "0 & a_{22} & a_{23} \\\\\n",
    "0 & 0 & a_{33}\n",
    "\\end{array}\\right)\n",
    "$$\n",
    "\n",
    "下三角\n",
    "\n",
    "$$\n",
    "A=\\left(\\begin{array}{lll}\n",
    "a_{11} & 0 & 0 \\\\\n",
    "a_{21} & a_{22} & 0 \\\\\n",
    "a_{31} & a_{32} & a_{33}\n",
    "\\end{array}\\right)\n",
    "$$\n"
   ]
  },
  {
   "cell_type": "markdown",
   "id": "4192d7c5-1162-4191-90ea-4e157562e4b4",
   "metadata": {},
   "source": [
    "## 問1.3 \n",
    "\n",
    "> クロネッカーのデルタ δij (i, j = 1, 2, · · · , n) について、i, j = 1, 2, 3 のとき、δij\n",
    "の値を求めよ。\n",
    "\n",
    "クロネッカーのデルタは\n",
    "\n",
    "$$\n",
    "\\delta_{ij} =\n",
    "\\begin{cases}\n",
    "    1 & (i = j)\\\\\n",
    "    0 & (i \\neq j)\n",
    "\\end{cases}\n",
    "$$\n",
    "\n",
    "なので、\n",
    "\n",
    "$$\n",
    "\\delta_{11} = \\delta_{22} = \\delta_{33} = 1\\\\\n",
    "\\delta_{12} = \\delta_{13} = \\delta_{21} = \\delta_{23} = \\delta_{31} = \\delta_{32} = 0\\\\\n",
    "$$\n",
    "\n"
   ]
  },
  {
   "cell_type": "markdown",
   "id": "5e310e07-e497-4035-ac0c-2d98475e18f4",
   "metadata": {},
   "source": [
    "## 問1.4\n",
    "\n",
    "> 3 × 2 行列 $\n",
    "\\left(\\begin{array}{ll}\n",
    "5 & 4 \\\\\n",
    "3 & 2 \\\\\n",
    "1 & 0\n",
    "\\end{array}\\right)\n",
    "$\n",
    "の転置行列を求めよ。\n",
    "\n",
    "$$\n",
    "\\left(\\begin{array}{ll}\n",
    "5 & 3 & 1\\\\\n",
    "4 & 2 & 0\n",
    "\\end{array}\\right)\n",
    "$$\n"
   ]
  },
  {
   "cell_type": "markdown",
   "id": "7f3e0914-dafc-4f0f-a9dd-87e89ce3c56c",
   "metadata": {},
   "source": [
    "## 問1.5\n",
    "\n",
    "> 次の 1、2 の等式が成り立つように a, b, c の値を求めよ。\n",
    "\n",
    "> 1.\n",
    "$$\n",
    "\\left(\\begin{array}{ll}\n",
    "a^2+b^2 & a b+b c \\\\\n",
    "a b+b c & b^2+c^2\n",
    "\\end{array}\\right)=\\left(\\begin{array}{ll}\n",
    "1 & 0 \\\\\n",
    "0 & 4\n",
    "\\end{array}\\right)\n",
    "$$\n"
   ]
  },
  {
   "cell_type": "markdown",
   "id": "20c41d43-46f7-4acb-a9fc-cbe877f05170",
   "metadata": {},
   "source": [
    "※行列を使うとかではないらしい\n",
    "\n",
    "$$\n",
    "a^2 + b^2 = 1\\\\\n",
    "ab + bc = 0\\\\\n",
    "b^2 + c^2 = 4\n",
    "$$\n",
    "\n",
    "$ab + bc = 0 \\to b(a+c)=0$\n",
    "\n",
    "より、$b = 0$ or $a + c = 0$の可能性がある\n"
   ]
  },
  {
   "cell_type": "markdown",
   "id": "fd0aedbd-076b-469c-b0d3-92930f64cd5e",
   "metadata": {},
   "source": [
    "$$\n",
    "ab = - bc\n",
    "$$\n",
    "\n",
    "のため"
   ]
  },
  {
   "cell_type": "markdown",
   "id": "75f5d529-8966-407d-ae39-3360fbf80fa5",
   "metadata": {},
   "source": [
    "$a+c=0$について検討する\n",
    "\n",
    "$$\n",
    "(a^2 + b^2) - (b^2 + c^2) = 1 - 4\\\\\n",
    "\\to a^2 - c^2 = -3\\\\\n",
    "\\to \\sqrt{ a^2 - c^2 } = \\sqrt{ -3 }\\\\\n",
    "\\to a - c = \\sqrt{ -3 }\\\\\n",
    "\\to a = \\sqrt{ -3 } + c\\\\\n",
    "\\to a + c = \\sqrt{ -3 } + 2c \\neq 0\\\\\n",
    "$$\n",
    "\n"
   ]
  },
  {
   "cell_type": "markdown",
   "id": "dd630f31-d1aa-41bc-ac09-95045ecc8300",
   "metadata": {},
   "source": [
    "よって$b = 0$の可能性のみになるので、\n",
    "\n",
    "$$\n",
    "a^2 + b^2 = a^2 = 1 \\to a = \\pm 1\\\\\n",
    "b^2 + c^2 = c^2 = 4 \\to c = \\pm 2\\\\\n",
    "$$"
   ]
  },
  {
   "cell_type": "markdown",
   "id": "be30f8ba-05df-4578-b4dc-89f5e5e9738d",
   "metadata": {},
   "source": [
    "> 2.\n",
    "$$\n",
    "\\left(\\begin{array}{ccc}\n",
    "a^2+b^2 & 1 & 2 a c \\\\\n",
    "1 & 1 & 1 \\\\\n",
    "2 c a & 1 & b^2+c^2\n",
    "\\end{array}\\right)=\\left(\\begin{array}{ccc}\n",
    "1 & 2 b c & 1 \\\\\n",
    "2 b c & c^2+a^2 & 2 a b \\\\\n",
    "1 & 2 a c & 1\n",
    "\\end{array}\\right)\n",
    "$$\n"
   ]
  },
  {
   "cell_type": "markdown",
   "id": "d472fffc-3d71-4b1a-af1c-6ff32bd9160b",
   "metadata": {},
   "source": [
    "$$\n",
    "\\begin{cases}\n",
    "\\begin{align}\n",
    "a^2 + b^2 &= 1\\\\\n",
    "b^2 + c^2 &= 1\\\\\n",
    "c^2 + a^2 &= 1\\\\\n",
    "2ab &= 1\\\\\n",
    "2ac &= 1\\\\\n",
    "2bc &= 1\\\\\n",
    "\\end{align}\n",
    "\\end{cases}\n",
    "$$\n",
    "\n",
    "という連立方程式とする"
   ]
  },
  {
   "cell_type": "markdown",
   "id": "de2212bd-9338-426a-8439-a23d41d0d51e",
   "metadata": {},
   "source": [
    "$$\n",
    "\\begin{align}\n",
    "(a^2 + b^2) - (b^2 + c^2) &= 1 - 1\\\\\n",
    "\\to a^2 - c^2 &= 0 \\\\\n",
    "\\to a^2 = c^2\n",
    "\\\\\n",
    "(a^2 + b^2) - (a^2 + c^2) &= 1 - 1\\\\\n",
    "\\to b^2 - c^2 &= 0 \\\\\n",
    "\\to b^2 = c^2\n",
    "\\\\\n",
    "\\therefore a^2 = b^2 = c^2\n",
    "\\end{align}\n",
    "$$\n"
   ]
  },
  {
   "cell_type": "markdown",
   "id": "4a93f1e7-65f3-4054-8732-ef04eacd87cd",
   "metadata": {},
   "source": [
    "$$\n",
    "a^2 + b^2 = 1\\\\\n",
    "\\to 2 a^2 = 1\\\\\n",
    "\\to a^2 = \\frac{1}{2}\\\\\n",
    "$$\n",
    "\n",
    "両辺に平方根をかけて\n",
    "\n",
    "$$\n",
    "\\sqrt{a^2} = \\sqrt{\\frac{1}{2}}\n",
    "$$\n",
    "\n",
    "$a$の符号はわからないので\n",
    "\n",
    "$$\n",
    "|a| = \\sqrt{\\frac{1}{2}}\n",
    "$$\n",
    "\n",
    "平方根を単純化する\n",
    "\n",
    "$$\n",
    "|a| = \\frac{1}{\\sqrt{2}}\n",
    "$$\n",
    "\n",
    "有理化する\n",
    "\n",
    "$$\n",
    "|a| = \\frac{1}{\\sqrt{2}} \\times \\frac{ \\sqrt{2} }{ \\sqrt{2} } = \\frac{ \\sqrt{2} }{2}\n",
    "$$\n",
    "\n",
    "したがって\n",
    "\n",
    "$$\n",
    "a = \\pm \\frac{ \\sqrt{2} }{2}\n",
    "$$\n",
    "\n",
    "\n",
    "\n",
    "\n"
   ]
  },
  {
   "cell_type": "markdown",
   "id": "93d32811-a720-4724-9c7a-46d22fa56ef6",
   "metadata": {},
   "source": [
    "同様に\n",
    "\n",
    "$$\n",
    "a^2  = b^2 = c^2 = \\frac{1}{2}\\\\\n",
    "a = b = c = \\pm \\frac{\\sqrt{2} }{2}\\\\\n",
    "$$"
   ]
  },
  {
   "cell_type": "markdown",
   "id": "11145c7f-7f68-4c9f-9b60-4d579c4d0df4",
   "metadata": {},
   "source": [
    "## 問1.6 \n",
    "\n",
    "> A を (i, j) 成分が次の 1～4 により定められる 3 次の正方行列とする。A をそれぞれ具体的に表せ。\n",
    "\n",
    "1. $a_{i j}=i+j$\n",
    "2. $a_{i j}=i j$\n",
    "3. $a_{i j}=(-1)^{i+j}$\n",
    "4. $a_{i j}=(-1)^{i j}$\n"
   ]
  },
  {
   "cell_type": "markdown",
   "id": "7286869f-5d12-4502-b40e-a50ddc7c7f58",
   "metadata": {},
   "source": [
    "$$\n",
    "A=\\left(\\begin{array}{lll}\n",
    "a_{11} & a_{12} & a_{13} \\\\\n",
    "a_{21} & a_{22} & a_{23} \\\\\n",
    "a_{31} & a_{32} & a_{33}\n",
    "\\end{array}\\right)\n",
    "$$\n",
    "\n",
    "なので"
   ]
  },
  {
   "cell_type": "markdown",
   "id": "19ca57bf-bd1e-4061-9764-003cfc45b830",
   "metadata": {},
   "source": [
    "> 1. $a_{i j}=i+j$\n",
    "\n",
    "$$\n",
    "\\begin{pmatrix}\n",
    "2 & 3 & 4\\\\\n",
    "3 & 4 & 5\\\\\n",
    "4 & 5 & 6\\\\\n",
    "\\end{pmatrix}\n",
    "$$"
   ]
  },
  {
   "cell_type": "markdown",
   "id": "f474eca1-d3ff-4aad-bdd0-2857d2084e34",
   "metadata": {},
   "source": [
    "> 2. $a_{i j}=i j$\n",
    "\n",
    "$$\n",
    "\\begin{pmatrix}\n",
    "1 & 2 & 3\\\\\n",
    "2 & 4 & 6\\\\\n",
    "3 & 6 & 9\\\\\n",
    "\\end{pmatrix}\n",
    "$$"
   ]
  },
  {
   "cell_type": "markdown",
   "id": "bf07b5c4-5aa2-4891-b37b-f71b9e768d86",
   "metadata": {},
   "source": [
    "> 3. $a_{i j}=(-1)^{i+j}$\n",
    "\n",
    "$$\n",
    "\\begin{pmatrix}\n",
    "1 & -1 & 1\\\\\n",
    "-1 & 1 & -1\\\\\n",
    "1 & -1 & 1\\\\\n",
    "\\end{pmatrix}\n",
    "$$"
   ]
  },
  {
   "cell_type": "markdown",
   "id": "1a488fc5-12b2-4756-b3a2-fd5bf2a26de9",
   "metadata": {},
   "source": [
    "> 4. $a_{i j}=(-1)^{i j}$\n",
    "\n",
    "$$\n",
    "\\begin{pmatrix}\n",
    "-1 & 1 & -1\\\\\n",
    "1 & 1 & 1\\\\\n",
    "-1 & 1 & -1\\\\\n",
    "\\end{pmatrix}\n",
    "$$"
   ]
  },
  {
   "cell_type": "markdown",
   "id": "1b5e68d8-7123-418e-ae49-2cd8c1d8fcd3",
   "metadata": {},
   "source": [
    "## 問1.7\n",
    "\n",
    "> 1. 対称行列の定義を書け\n",
    "\n",
    "転置してももとの行列と変わらない正方行列\n",
    "\n",
    "$$\n",
    "A = A^T\n",
    "$$"
   ]
  },
  {
   "cell_type": "markdown",
   "id": "9322c41b-1d2a-493f-8f20-6f7049f05745",
   "metadata": {},
   "source": [
    "> 2. 次の（ア）、（イ）の行列が対象行列となるように a の値を求めよ。\n",
    ">\n",
    "> $$\\text { (ア) }\\left(\\begin{array}{cc}\n",
    "1 & a \\\\\n",
    "a^2 & a^3\n",
    "\\end{array}\\right) \\quad \\text { (イ) }\\left(\\begin{array}{ccc}\n",
    "1 & a & a^2 \\\\\n",
    "a^3 & a^4 & a^5 \\\\\n",
    "a^6 & a^7 & a^8\n",
    "\\end{array}\\right)\n",
    "$$"
   ]
  },
  {
   "cell_type": "markdown",
   "id": "da379b77-d059-4fe2-94df-390c304ae647",
   "metadata": {},
   "source": [
    "（ア）\n",
    "$$\n",
    "\\left(\\begin{array}{cc}\n",
    "1 & a \\\\\n",
    "a^2 & a^3\n",
    "\\end{array}\\right)\n",
    "= \\left(\\begin{array}{cc}\n",
    "1 & a^2 \\\\\n",
    "a & a^3\n",
    "\\end{array}\\right)\n",
    "$$\n",
    "\n",
    "で\n",
    "\n",
    "$$\n",
    "a = a^2\n",
    "$$\n",
    "\n",
    "という条件はつくが、他の手がかりがなくてわからん。$a=1$？"
   ]
  },
  {
   "cell_type": "markdown",
   "id": "9f9e190e-2f7b-49e3-87ef-273f517e14b8",
   "metadata": {},
   "source": [
    "（イ）も同様"
   ]
  },
  {
   "cell_type": "code",
   "execution_count": null,
   "id": "eaa1f9b2-439e-4341-9885-3da046c2644f",
   "metadata": {},
   "outputs": [],
   "source": []
  },
  {
   "cell_type": "markdown",
   "id": "3d344e9c-d88b-4608-ab80-7b3f59d476e6",
   "metadata": {},
   "source": [
    "## 問1.8\n",
    "\n",
    "> 次の 1～3 の行列の (i, j) 成分をクロネッカーのデルタを用いて表せ。\n"
   ]
  },
  {
   "cell_type": "markdown",
   "id": "b1b3d4e2-a923-40a2-9d33-8ff6fc83c2b3",
   "metadata": {},
   "source": [
    "> 1. $\\left(\\begin{array}{lll}\n",
    "1 & 0 & 0 \\\\\n",
    "0 & 2 & 0 \\\\\n",
    "0 & 0 & 3\n",
    "\\end{array}\\right)$\n",
    "\n",
    "$(a_{ij}) = \\delta_{ij} \\times (1, 2, 3)^T$"
   ]
  },
  {
   "cell_type": "markdown",
   "id": "57ecef01-4c8a-490a-9ce8-0ba08f23d84f",
   "metadata": {},
   "source": [
    "> 2. $\\left(\\begin{array}{lll}\n",
    "0 & 1 & 0 \\\\\n",
    "0 & 0 & 1 \\\\\n",
    "0 & 0 & 0\n",
    "\\end{array}\\right)$"
   ]
  },
  {
   "cell_type": "markdown",
   "id": "20dc78ec-69de-4eb5-af8a-e12d1b63650a",
   "metadata": {},
   "source": [
    "問題の意味がわからない\n",
    "\n",
    "行列を表すような、クロネッカーのデルタのような関数を定義しろということ？\n",
    "\n",
    "$$\n",
    "\\delta_{ij} =\n",
    "\\begin{cases}\n",
    "    1 & (i = j - 1)\\\\\n",
    "    0 & (i \\neq j - 1)\n",
    "\\end{cases}\n",
    "$$\n"
   ]
  },
  {
   "cell_type": "code",
   "execution_count": 2,
   "id": "41007a5d-621e-4bbb-8cdf-719727e85659",
   "metadata": {},
   "outputs": [
    {
     "data": {
      "text/plain": [
       "array([[0., 1., 0.],\n",
       "       [0., 0., 1.],\n",
       "       [0., 0., 0.]])"
      ]
     },
     "execution_count": 2,
     "metadata": {},
     "output_type": "execute_result"
    }
   ],
   "source": [
    "import numpy as np\n",
    "\n",
    "def d(i, j):\n",
    "    return 1 * (i == j - 1)\n",
    "\n",
    "X = np.zeros(shape=[3, 3])\n",
    "for i in range(X.shape[0]):\n",
    "    for j in range(X.shape[1]):\n",
    "        X[i, j] = d(i, j)\n",
    "X"
   ]
  },
  {
   "cell_type": "markdown",
   "id": "dd4549c4-a547-4fa5-8145-b483fe2b783a",
   "metadata": {},
   "source": [
    "> 3. $\\left(\\begin{array}{lll}\n",
    "0 & 0 & 0 \\\\\n",
    "1 & 0 & 0 \\\\\n",
    "0 & 1 & 0\n",
    "\\end{array}\\right)$"
   ]
  },
  {
   "cell_type": "markdown",
   "id": "638d9c78-512a-44f6-8aa8-061697161129",
   "metadata": {},
   "source": [
    "もし、クロネッカーのデルタのような関数を定義しろという意味なら\n",
    "\n",
    "$$\n",
    "\\delta_{ij} =\n",
    "\\begin{cases}\n",
    "    1 & (i = j + 1)\\\\\n",
    "    0 & (i \\neq j + 1)\n",
    "\\end{cases}\n",
    "$$\n"
   ]
  },
  {
   "cell_type": "code",
   "execution_count": 6,
   "id": "0f573de7-b4d9-4da0-b75b-16f7ff9812b6",
   "metadata": {},
   "outputs": [
    {
     "data": {
      "text/plain": [
       "array([[0., 0., 0., 0.],\n",
       "       [1., 0., 0., 0.],\n",
       "       [0., 1., 0., 0.],\n",
       "       [0., 0., 1., 0.]])"
      ]
     },
     "execution_count": 6,
     "metadata": {},
     "output_type": "execute_result"
    }
   ],
   "source": [
    "import numpy as np\n",
    "\n",
    "def d(i, j):\n",
    "    return 1 * (i == j + 1)\n",
    "\n",
    "X = np.zeros(shape=[4, 4])\n",
    "for i in range(X.shape[0]):\n",
    "    for j in range(X.shape[1]):\n",
    "        X[i, j] = d(i, j)\n",
    "X"
   ]
  },
  {
   "cell_type": "code",
   "execution_count": null,
   "id": "9ba65021-de74-4c76-b521-4ad85f392cbc",
   "metadata": {},
   "outputs": [],
   "source": []
  }
 ],
 "metadata": {
  "kernelspec": {
   "display_name": "Python 3 (ipykernel)",
   "language": "python",
   "name": "python3"
  },
  "language_info": {
   "codemirror_mode": {
    "name": "ipython",
    "version": 3
   },
   "file_extension": ".py",
   "mimetype": "text/x-python",
   "name": "python",
   "nbconvert_exporter": "python",
   "pygments_lexer": "ipython3",
   "version": "3.9.18"
  }
 },
 "nbformat": 4,
 "nbformat_minor": 5
}
