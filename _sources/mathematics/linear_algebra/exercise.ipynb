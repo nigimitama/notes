{
 "cells": [
  {
   "cell_type": "markdown",
   "id": "75e211ea-ed94-4f4e-9b33-5a850e193d09",
   "metadata": {},
   "source": [
    "# 練習問題"
   ]
  },
  {
   "cell_type": "markdown",
   "id": "4fb6389b-e482-46e9-bf38-327b0c908067",
   "metadata": {},
   "source": [
    "## 問1.1\n",
    "\n",
    "$3 \\times 2$行列\n",
    "$$\n",
    "\\left(\\begin{array}{cc}\n",
    "7 & 8 \\\\\n",
    "9 & 10 \\\\\n",
    "11 & 12\n",
    "\\end{array}\\right)$$\n",
    "の$(2,1)$成分、第2行、第1列をそれぞれ答えよ。"
   ]
  },
  {
   "cell_type": "markdown",
   "id": "59e41703-8e9b-4c42-977a-f378cea5a3c3",
   "metadata": {},
   "source": [
    "- (2,1)成分→9\n",
    "- 第2行→$(9, 10)$\n",
    "- 第1列→$(7, 9, 11)^T$"
   ]
  },
  {
   "cell_type": "markdown",
   "id": "956c1955-9e17-4507-98f8-3bbbcfb5d239",
   "metadata": {},
   "source": [
    "## 問1.2\n",
    "\n",
    "3 次の正方行列 A を\n",
    "\n",
    "$$\n",
    "A=\\left(\\begin{array}{lll}\n",
    "a_{11} & a_{12} & a_{14} \\\\\n",
    "a_{21} & a_{22} & a_{23} \\\\\n",
    "a_{31} & a_{32} & a_{33}\n",
    "\\end{array}\\right)\n",
    "$$\n",
    "\n",
    "と表す。\n",
    "\n",
    "> 1. A の対角成分を答えよ。\n",
    "\n",
    "対角成分：$(a_{11}, a_{22}, a_{33})$"
   ]
  },
  {
   "cell_type": "markdown",
   "id": "e732ccb9-54a8-4b43-b725-203ad43455a4",
   "metadata": {},
   "source": [
    "> A が対角行列、スカラー行列、上三角行列、下三角行列となるとき、A をそ\n",
    "れぞれ具体的に表せ。\n",
    "\n",
    "対角行列\n",
    "\n",
    "$$\n",
    "A=\\left(\\begin{array}{lll}\n",
    "a_{11} & 0 & 0 \\\\\n",
    "0 & a_{22} & 0 \\\\\n",
    "0 & 0 & a_{33}\n",
    "\\end{array}\\right)\n",
    "$$\n",
    "\n",
    "スカラー行列\n",
    "\n",
    "$$\n",
    "A=\\left(\\begin{array}{lll}\n",
    "a_{11} & 0 & 0 \\\\\n",
    "0 & a_{11} & 0 \\\\\n",
    "0 & 0 & a_{11}\n",
    "\\end{array}\\right)\n",
    "= a_{11} I\n",
    "$$\n",
    "\n",
    "上三角\n",
    "\n",
    "\n",
    "$$\n",
    "A=\\left(\\begin{array}{lll}\n",
    "a_{11} & a_{12} & a_{14} \\\\\n",
    "0 & a_{22} & a_{23} \\\\\n",
    "0 & 0 & a_{33}\n",
    "\\end{array}\\right)\n",
    "$$\n",
    "\n",
    "下三角\n",
    "\n",
    "$$\n",
    "A=\\left(\\begin{array}{lll}\n",
    "a_{11} & 0 & 0 \\\\\n",
    "a_{21} & a_{22} & 0 \\\\\n",
    "a_{31} & a_{32} & a_{33}\n",
    "\\end{array}\\right)\n",
    "$$\n"
   ]
  },
  {
   "cell_type": "markdown",
   "id": "4192d7c5-1162-4191-90ea-4e157562e4b4",
   "metadata": {},
   "source": [
    "## 問1.3 \n",
    "\n",
    "> クロネッカーのデルタ δij (i, j = 1, 2, · · · , n) について、i, j = 1, 2, 3 のとき、δij\n",
    "の値を求めよ。\n",
    "\n",
    "クロネッカーのデルタは\n",
    "\n",
    "$$\n",
    "\\delta_{ij} =\n",
    "\\begin{cases}\n",
    "    1 & (i = j)\\\\\n",
    "    0 & (i \\neq j)\n",
    "\\end{cases}\n",
    "$$\n",
    "\n",
    "なので、\n",
    "\n",
    "$$\n",
    "\\delta_{11} = 1\\\\\n",
    "\\delta_{12} = 0\\\\\n",
    "\\vdots\n",
    "$$\n"
   ]
  },
  {
   "cell_type": "markdown",
   "id": "5e310e07-e497-4035-ac0c-2d98475e18f4",
   "metadata": {},
   "source": [
    "## 問1.4\n",
    "\n",
    "> 3 × 2 行列 $\n",
    "\\left(\\begin{array}{ll}\n",
    "5 & 4 \\\\\n",
    "3 & 2 \\\\\n",
    "1 & 0\n",
    "\\end{array}\\right)\n",
    "$\n",
    "の転置行列を求めよ。\n",
    "\n",
    "$$\n",
    "\\left(\\begin{array}{ll}\n",
    "5 & 3 & 1\\\\\n",
    "4 & 2 & 0\n",
    "\\end{array}\\right)\n",
    "$$\n"
   ]
  },
  {
   "cell_type": "markdown",
   "id": "7f3e0914-dafc-4f0f-a9dd-87e89ce3c56c",
   "metadata": {},
   "source": [
    "## 問1.5\n",
    "\n",
    "> 次の 1、2 の等式が成り立つように a, b, c の値を求めよ。\n",
    "\n",
    "> 1.\n",
    "$$\n",
    "\\left(\\begin{array}{ll}\n",
    "a^2+b^2 & a b+b c \\\\\n",
    "a b+b c & b^2+c^2\n",
    "\\end{array}\\right)=\\left(\\begin{array}{ll}\n",
    "1 & 0 \\\\\n",
    "0 & 4\n",
    "\\end{array}\\right)\n",
    "$$\n"
   ]
  },
  {
   "cell_type": "markdown",
   "id": "20c41d43-46f7-4acb-a9fc-cbe877f05170",
   "metadata": {},
   "source": [
    "行列を使わない場合\n",
    "\n",
    "$$\n",
    "a^2 + b^2 = 1\\\\\n",
    "ab + bc = 0\\\\\n",
    "b^2 + c^2 = 4\n",
    "$$\n",
    "\n",
    "$b(a+c)=0 \\to b = 0$と考えると$a=1, c=2$"
   ]
  },
  {
   "cell_type": "markdown",
   "id": "2cfde98c-84fd-427a-b592-2fd88eeb7e67",
   "metadata": {},
   "source": [
    "$$\n",
    "\\left(\\begin{array}{ll}\n",
    "a & b & 0\\\\\n",
    "0 & a & b\\\\\n",
    "0 & b & c\n",
    "\\end{array}\\right)\n",
    "\\left(\\begin{array}{ll}\n",
    "a\\\\ b\\\\ c\n",
    "\\end{array}\\right)\n",
    "=\n",
    "\\left(\\begin{array}{ll}\n",
    "a^2+b^2\\\\\n",
    "a b+b c\\\\\n",
    "b^2+c^2\n",
    "\\end{array}\\right)\n",
    "=\\left(\\begin{array}{ll}\n",
    "1 \\\\0 \\\\ 4\n",
    "\\end{array}\\right)\n",
    "$$"
   ]
  },
  {
   "cell_type": "markdown",
   "id": "b98cdce1-58a3-44df-8740-c209140e36f0",
   "metadata": {},
   "source": [
    "$$\n",
    "\\left(\\begin{array}{ccc|c}\n",
    "a & b & 0 & 1\\\\\n",
    "0 & a & c & 0\\\\\n",
    "0 & b & c & 4\n",
    "\\end{array}\\right)\n",
    "\\left(\\begin{array}{c}\n",
    "a\\\\ b\\\\ c\\\\\n",
    "\\hline -1\n",
    "\\end{array}\\right)\n",
    "=\\left(\\begin{array}{l}\n",
    "0 \\\\\n",
    "0 \\\\\n",
    "0\n",
    "\\end{array}\\right)\n",
    "$$"
   ]
  },
  {
   "cell_type": "code",
   "execution_count": null,
   "id": "6e2d5138-76c4-419f-9f17-71f883431090",
   "metadata": {},
   "outputs": [],
   "source": []
  },
  {
   "cell_type": "markdown",
   "id": "e05fdba8-208d-4c3a-9b41-bfc969a8a441",
   "metadata": {},
   "source": [
    "$$\n",
    "\\left(\\begin{array}{ll}\n",
    "a & b \\\\\n",
    "b & c\n",
    "\\end{array}\\right)\n",
    "\\left(\\begin{array}{ll}\n",
    "a & b \\\\\n",
    "b & c\n",
    "\\end{array}\\right)\n",
    "=\n",
    "\\left(\\begin{array}{ll}\n",
    "a^2+b^2 & a b+b c \\\\\n",
    "a b+b c & b^2+c^2\n",
    "\\end{array}\\right)\n",
    "=\\left(\\begin{array}{ll}\n",
    "1 & 0 \\\\\n",
    "0 & 4\n",
    "\\end{array}\\right)\n",
    "$$"
   ]
  },
  {
   "cell_type": "markdown",
   "id": "be30f8ba-05df-4578-b4dc-89f5e5e9738d",
   "metadata": {},
   "source": [
    "> 2.\n",
    "$$\n",
    "\\left(\\begin{array}{ccc}\n",
    "a^2+b^2 & 1 & 2 a c \\\\\n",
    "1 & 1 & 1 \\\\\n",
    "2 c a & 1 & b^2+c^2\n",
    "\\end{array}\\right)=\\left(\\begin{array}{ccc}\n",
    "1 & 2 b c & 1 \\\\\n",
    "2 b c & c^2+a^2 & 2 a b \\\\\n",
    "1 & 2 a c & 1\n",
    "\\end{array}\\right)\n",
    "$$\n"
   ]
  },
  {
   "cell_type": "markdown",
   "id": "e4fee8cf-70d4-4684-ab98-7a99ec888748",
   "metadata": {},
   "source": []
  },
  {
   "cell_type": "markdown",
   "id": "11145c7f-7f68-4c9f-9b60-4d579c4d0df4",
   "metadata": {},
   "source": [
    "## 問1.6 \n",
    "\n",
    "> A を (i, j) 成分が次の 1～4 により定められる 3 次の正方行列とする。A をそれぞれ具体的に表せ。\n",
    "\n",
    "1. $a_{i j}=i+j$\n",
    "2. $a_{i j}=i j$\n",
    "3. $a_{i j}=(-1)^{i+j}$\n",
    "4. $a_{i j}=(-1)^{i j}$\n"
   ]
  },
  {
   "cell_type": "markdown",
   "id": "7286869f-5d12-4502-b40e-a50ddc7c7f58",
   "metadata": {},
   "source": [
    "$$\n",
    "A=\\left(\\begin{array}{lll}\n",
    "a_{11} & a_{12} & a_{13} \\\\\n",
    "a_{21} & a_{22} & a_{23} \\\\\n",
    "a_{31} & a_{32} & a_{33}\n",
    "\\end{array}\\right)\n",
    "$$\n",
    "\n",
    "なので"
   ]
  },
  {
   "cell_type": "markdown",
   "id": "19ca57bf-bd1e-4061-9764-003cfc45b830",
   "metadata": {},
   "source": [
    "> 1. $a_{i j}=i+j$\n",
    "\n",
    "$$\n",
    "\\begin{pmatrix}\n",
    "2 & 3 & 4\\\\\n",
    "3 & 4 & 5\\\\\n",
    "4 & 5 & 6\\\\\n",
    "\\end{pmatrix}\n",
    "$$"
   ]
  },
  {
   "cell_type": "markdown",
   "id": "f474eca1-d3ff-4aad-bdd0-2857d2084e34",
   "metadata": {},
   "source": [
    "> 2. $a_{i j}=i j$\n",
    "\n",
    "$$\n",
    "\\begin{pmatrix}\n",
    "1 & 2 & 3\\\\\n",
    "2 & 4 & 6\\\\\n",
    "3 & 6 & 9\\\\\n",
    "\\end{pmatrix}\n",
    "$$"
   ]
  },
  {
   "cell_type": "markdown",
   "id": "bf07b5c4-5aa2-4891-b37b-f71b9e768d86",
   "metadata": {},
   "source": [
    "> 3. $a_{i j}=(-1)^{i+j}$\n",
    "\n",
    "$$\n",
    "\\begin{pmatrix}\n",
    "1 & -1 & 1\\\\\n",
    "-1 & 1 & -1\\\\\n",
    "1 & -1 & 1\\\\\n",
    "\\end{pmatrix}\n",
    "$$"
   ]
  },
  {
   "cell_type": "markdown",
   "id": "1a488fc5-12b2-4756-b3a2-fd5bf2a26de9",
   "metadata": {},
   "source": [
    "> 4. $a_{i j}=(-1)^{i j}$\n",
    "\n",
    "$$\n",
    "\\begin{pmatrix}\n",
    "1 & 1 & -1\\\\\n",
    "1 & 1 & 1\\\\\n",
    "-1 & 1 & -1\\\\\n",
    "\\end{pmatrix}\n",
    "$$"
   ]
  },
  {
   "cell_type": "markdown",
   "id": "1b5e68d8-7123-418e-ae49-2cd8c1d8fcd3",
   "metadata": {},
   "source": [
    "## 問1.7\n",
    "\n",
    "> 1. 対称行列の定義を書け\n",
    "\n",
    "転置してももとの行列と変わらない正方行列\n",
    "\n",
    "$$\n",
    "A = A^T\n",
    "$$"
   ]
  },
  {
   "cell_type": "markdown",
   "id": "9322c41b-1d2a-493f-8f20-6f7049f05745",
   "metadata": {},
   "source": [
    "> 2. 次の（ア）、（イ）の行列が対象行列となるように a の値を求めよ。\n",
    ">\n",
    "> $$\\text { (ア) }\\left(\\begin{array}{cc}\n",
    "1 & a \\\\\n",
    "a^2 & a^3\n",
    "\\end{array}\\right) \\quad \\text { (イ) }\\left(\\begin{array}{ccc}\n",
    "1 & a & a^2 \\\\\n",
    "a^3 & a^4 & a^5 \\\\\n",
    "a^6 & a^7 & a^8\n",
    "\\end{array}\\right)\n",
    "$$"
   ]
  },
  {
   "cell_type": "code",
   "execution_count": null,
   "id": "eaa1f9b2-439e-4341-9885-3da046c2644f",
   "metadata": {},
   "outputs": [],
   "source": []
  },
  {
   "cell_type": "markdown",
   "id": "3d344e9c-d88b-4608-ab80-7b3f59d476e6",
   "metadata": {},
   "source": [
    "## 問1.8\n",
    "\n",
    "> 次の 1～3 の行列の (i, j) 成分をクロネッカーのデルタを用いて表せ。\n"
   ]
  },
  {
   "cell_type": "markdown",
   "id": "b1b3d4e2-a923-40a2-9d33-8ff6fc83c2b3",
   "metadata": {},
   "source": [
    "> 1. $\\left(\\begin{array}{lll}\n",
    "1 & 0 & 0 \\\\\n",
    "0 & 2 & 0 \\\\\n",
    "0 & 0 & 3\n",
    "\\end{array}\\right)$\n",
    "\n",
    "$(a_{ij}) = \\delta_{ij} \\times (1, 2, 3)^T$"
   ]
  },
  {
   "cell_type": "markdown",
   "id": "57ecef01-4c8a-490a-9ce8-0ba08f23d84f",
   "metadata": {},
   "source": [
    "> 2. $\\left(\\begin{array}{lll}\n",
    "0 & 1 & 0 \\\\\n",
    "0 & 0 & 1 \\\\\n",
    "0 & 0 & 0\n",
    "\\end{array}\\right)$"
   ]
  },
  {
   "cell_type": "code",
   "execution_count": null,
   "id": "0057b4a9-70ee-4064-80ef-2800758eb795",
   "metadata": {},
   "outputs": [],
   "source": []
  },
  {
   "cell_type": "markdown",
   "id": "dd4549c4-a547-4fa5-8145-b483fe2b783a",
   "metadata": {},
   "source": [
    "> 3. $\\left(\\begin{array}{lll}\n",
    "0 & 0 & 0 \\\\\n",
    "1 & 0 & 0 \\\\\n",
    "0 & 1 & 0\n",
    "\\end{array}\\right)$"
   ]
  },
  {
   "cell_type": "code",
   "execution_count": null,
   "id": "53ba3f3b-16e6-4117-965f-fe41080a441a",
   "metadata": {},
   "outputs": [],
   "source": []
  }
 ],
 "metadata": {
  "kernelspec": {
   "display_name": "Python 3 (ipykernel)",
   "language": "python",
   "name": "python3"
  },
  "language_info": {
   "codemirror_mode": {
    "name": "ipython",
    "version": 3
   },
   "file_extension": ".py",
   "mimetype": "text/x-python",
   "name": "python",
   "nbconvert_exporter": "python",
   "pygments_lexer": "ipython3",
   "version": "3.9.18"
  }
 },
 "nbformat": 4,
 "nbformat_minor": 5
}
