{
 "cells": [
  {
   "cell_type": "markdown",
   "id": "89402374-2af3-4d4b-bfa6-5aa035093046",
   "metadata": {},
   "source": [
    "# 連立一次方程式\n",
    "\n",
    "連立一次方程式\n",
    "\n",
    "$$\n",
    "% 太字のalias\n",
    "\\newcommand{\\b}[1]{\\boldsymbol{#1}}\n",
    "%\n",
    "\\DeclareMathOperator{\\Ker}{\\text{Ker}}\n",
    "\\DeclareMathOperator{\\Im}{\\text{Im}}\n",
    "\\DeclareMathOperator{\\dim}{\\text{dim}}\n",
    "\\DeclareMathOperator{\\rank}{\\text{rank}}\n",
    "y = Ax\n",
    "$$\n",
    "\n",
    "における未知のベクトル$x$を推定する問題を考える"
   ]
  },
  {
   "cell_type": "markdown",
   "id": "494bad10-3d6a-4536-8592-6783793566c2",
   "metadata": {},
   "source": [
    "## $A$が正則の場合\n",
    "\n",
    "もし逆行列が存在するなら\n",
    "\n",
    "$$\n",
    "x = A^{-1} y\n",
    "$$\n",
    "\n",
    "と解くことができる"
   ]
  },
  {
   "cell_type": "markdown",
   "id": "d43f6c9a-1cf9-4cc7-a3b0-9ae3928e5825",
   "metadata": {},
   "source": [
    "### ガウスの消去法（掃き出し法）\n",
    "\n",
    "**ガウスの消去法（Gaussian elimination）** あるいは **掃き出し法（row reduction）** は正則行列による連立一次方程式を、ブロック行列表記にして解く方法。\n",
    "\n",
    "**Gauss-Jordan法**という変種もある"
   ]
  },
  {
   "cell_type": "markdown",
   "id": "a6dc27ba-301a-4dfa-9f9c-4e25e73017d7",
   "metadata": {},
   "source": [
    "### 逆行列の推定への応用\n",
    "\n",
    "逆行列の推定方法の一つに連立一次方程式を解く方法がある\n",
    "\n",
    "$n$次元正方行列$A$の逆行列は\n",
    "\n",
    "$$\n",
    "AX = I\n",
    "$$\n",
    "\n",
    "となるような正方行列$X$であるため、$n$組の連立一次方程式$A\\b{x}_i = \\b{e}_i \\hspace{0.5em} (i = 1,\\dots, n)$を解く問題として扱うことができる"
   ]
  },
  {
   "cell_type": "markdown",
   "id": "e6efe445-75df-49a3-9d9a-4ff8ee499d37",
   "metadata": {},
   "source": [
    "## $A$が正則でない（特異な）場合\n",
    "\n",
    "連立一次方程式の解の存在性と一意性の条件\n",
    "\n",
    "- 結果$y$から原因$x$を一意に特定できる（写像$y=Ax$は単射）⇔「$\\Ker A$が原点$o$のみ」⇔「$\\Ker A$は0次元」⇔「$\\rank A = n$（ランクが定義域の次元と同じ）」\n",
    "- どんな結果$y$にも原因$x$が存在する（写像$y=Ax$は全射）⇔「$\\Im A$が行き先の空間（値域）に一致する」⇔「$\\Im A$は$m$次元」⇔「$\\rank A = m$（ランクが値域の次元と同じ）」"
   ]
  },
  {
   "cell_type": "markdown",
   "id": "486a75b4-3046-4277-b1ac-ed03c841d9b1",
   "metadata": {},
   "source": [
    "### Kernel\n",
    "\n",
    "$Ax = o$に移ってくるような$x$の集合（写像$A$で結果がぺちゃんこに潰される方向）を$A$の核（kernel）と呼び、$\\mathop{ \\text{Ker} } A$と書く\n",
    "\n",
    "ぺちゃんこに潰れない行列の場合、$\\Ker A$は$0$次元（原点$\\b{o}$のみ）"
   ]
  },
  {
   "cell_type": "markdown",
   "id": "49b1eb5c-4af6-4b21-ab4c-2b1877d9f1e4",
   "metadata": {},
   "source": [
    "### 次元定理\n",
    "\n",
    "$m\\times n$行列$A$について、\n",
    "\n",
    "$$\n",
    "\\dim \\Ker A + \\dim \\Im A = n\n",
    "$$\n",
    "\n",
    "が成り立つ。\n",
    "\n",
    "$$\n",
    "\\begin{align}\n",
    "\\underbrace{ n }_{元の次元}\n",
    "- \\underbrace{ \\dim \\Ker A }_{ぺちゃんこに潰れる次元}\n",
    "= \\underbrace{ \\dim \\Im A }_{残った次元}\n",
    "\\end{align}\n",
    "$$"
   ]
  },
  {
   "cell_type": "markdown",
   "id": "ad5cf697-7674-4027-b4b4-041e51890b37",
   "metadata": {},
   "source": [
    "### ランク\n",
    "\n",
    "$$\n",
    "\\rank A := \\dim \\Im A\n",
    "$$\n",
    "\n",
    "$A \\in \\mathbb{R}^{m\\times n}$なら、$m$次元の定義域から$n$次元の値域に移す写像なので、\n",
    "\n",
    "$$\n",
    "\\rank A \\leq m\\\\\n",
    "\\rank A \\leq n\n",
    "$$\n"
   ]
  },
  {
   "cell_type": "markdown",
   "id": "a5578f57-1e1f-4677-a333-896118e85faf",
   "metadata": {},
   "source": []
  },
  {
   "cell_type": "markdown",
   "id": "e40e756e-e4ae-48b9-a2e6-d1208f87146d",
   "metadata": {},
   "source": [
    "## 参考文献\n",
    "\n",
    "- [線形代数Ｉ/連立一次方程式 - 武内＠筑波大](https://dora.bk.tsukuba.ac.jp/~takeuchi/?%E7%B7%9A%E5%BD%A2%E4%BB%A3%E6%95%B0%EF%BC%A9%2F%E9%80%A3%E7%AB%8B%E4%B8%80%E6%AC%A1%E6%96%B9%E7%A8%8B%E5%BC%8F)"
   ]
  }
 ],
 "metadata": {
  "kernelspec": {
   "display_name": "Python 3 (ipykernel)",
   "language": "python",
   "name": "python3"
  },
  "language_info": {
   "codemirror_mode": {
    "name": "ipython",
    "version": 3
   },
   "file_extension": ".py",
   "mimetype": "text/x-python",
   "name": "python",
   "nbconvert_exporter": "python",
   "pygments_lexer": "ipython3",
   "version": "3.9.18"
  }
 },
 "nbformat": 4,
 "nbformat_minor": 5
}
