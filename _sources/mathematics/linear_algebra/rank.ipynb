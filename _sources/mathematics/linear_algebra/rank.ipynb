{
 "cells": [
  {
   "cell_type": "markdown",
   "id": "e21d0dbd-fb8f-4687-b531-205d11663f6b",
   "metadata": {},
   "source": [
    "# 行列の階数（rank）\n",
    "\n",
    "$$\n",
    "% 太字のalias\n",
    "\\newcommand{\\b}[1]{\\boldsymbol{#1}}\n",
    "% 演算子の定義\n",
    "\\DeclareMathOperator{\\im}{ \\text{Im} }\n",
    "\\DeclareMathOperator{\\rank}{ \\text{rank} }\n",
    "\\DeclareMathOperator{\\span}{ \\text{Span} }\n",
    "\\DeclareMathOperator{\\Ker}{ \\text{Ker} }\n",
    "$$"
   ]
  },
  {
   "cell_type": "markdown",
   "id": "a4d18267-2594-4e84-b4e6-c9ab7ab5cb9e",
   "metadata": {},
   "source": [
    "$m\\times n$行列$A$に対し、$A$が定義する線形写像\n",
    "\n",
    "$$\n",
    "A: \\mathbb{R}^n \\to \\mathbb{R}^m\n",
    "$$\n",
    "\n",
    "\n",
    "の像空間の次元のことを **ランク（階数）** といい、$\\rank A$と表す。\n",
    "\n",
    "$$\n",
    "\\rank A := \\dim \\Im A\n",
    "= \\dim \\span\\{ \\boldsymbol{a}_1, \\dots, \\boldsymbol{a}_n \\}\n",
    "$$\n",
    "\n",
    "（ただし$\\b{a}_1, \\dots, \\b{a}_n$は$A$の列ベクトル）"
   ]
  },
  {
   "cell_type": "markdown",
   "id": "67fec2fd-438a-49b1-a756-79166b2468e4",
   "metadata": {},
   "source": [
    "## さまざまなランクの定義\n",
    "\n",
    "$m\\times n$行列$A$に対し、次の1~6の数は一致する\n",
    "\n",
    "1. $A$が定義する線形写像の像空間$\\im A$の次元$\\dim \\im A = \\dim \\span \\{ \\b{a}_1, \\dots, \\b{a}_n \\}$（ただし$\\b{a}_1, \\dots, \\b{a}_n$は$A$の列ベクトル）\n",
    "2. $A$の列ベクトルの中から選び得る1次独立なベクトルの最大個数\n",
    "3. $A$の行ベクトルの中から選び得る1次独立なベクトルの最大個数\n",
    "4. $A$の行ベクトルが生成する$\\mathbb{R}^n$の部分空間の次元\n",
    "5. $A$の0でない小行列式の最大次数\n",
    "6. $A$を行基本変形で階段行列に変形したときの$0$でない行の個数"
   ]
  },
  {
   "cell_type": "markdown",
   "id": "cf731c56-0818-4a89-93d1-949f29d4d40e",
   "metadata": {},
   "source": [
    "### 1次独立なベクトルの最大個数"
   ]
  },
  {
   "cell_type": "markdown",
   "id": "34356071-f394-4717-93ec-def2e42205d7",
   "metadata": {},
   "source": [
    "**例1**\n",
    "\n",
    "$$\n",
    "A = \n",
    "\\left(\\begin{array}{rrr}\n",
    "1 & -1 & 0 \\\\\n",
    "0 & 2 & 2 \\\\\n",
    "1 & 3 & 4\n",
    "\\end{array}\\right)\n",
    "$$\n",
    "\n",
    "のランクを求めるとする。列ベクトルを\n",
    "\n",
    "$$\n",
    "A = \n",
    "\\begin{pmatrix}\n",
    "\\boldsymbol{a}_1 & \\boldsymbol{a}_2 & \\boldsymbol{a}_3\n",
    "\\end{pmatrix}\n",
    "$$\n",
    "\n",
    "とする。\n",
    "\n",
    "$$\n",
    "c_1 \\boldsymbol{a}_1 + c_2 \\boldsymbol{a}_2 = \\boldsymbol{0}\n",
    "$$\n",
    "\n",
    "とすると、第2成分が0になるためには$c_2 = 0$である必要がある。\n",
    "\n",
    "そして$c_1 \\boldsymbol{a}_1 = \\boldsymbol{0}$となるためには、$c_1 = 0$である必要がある。\n",
    "\n",
    "よって$c_1 = c_2 = 0$であるため、$\\boldsymbol{a}_1, \\boldsymbol{a}_2$は1️次独立である。\n",
    "\n",
    "$\\boldsymbol{a}_1 + \\boldsymbol{a}_2 = \\boldsymbol{a}_3$であるため、\n",
    "\n",
    "$$\n",
    "\\span(\\boldsymbol{a}_1, \\boldsymbol{a}_2, \\boldsymbol{a}_3)\n",
    "= \\span(\\boldsymbol{a}_1, \\boldsymbol{a}_2)\n",
    "$$\n",
    "\n",
    "であるため、$\\rank A = \\dim \\span(\\boldsymbol{a}_1, \\boldsymbol{a}_2, \\boldsymbol{a}_3) = 2$\n"
   ]
  },
  {
   "cell_type": "markdown",
   "id": "ca536879-b93e-460a-b07e-10f047b9d097",
   "metadata": {},
   "source": [
    "**例2**\n",
    "\n",
    "$$\n",
    "\\left(\\begin{array}{rrr}\n",
    "2 & 0 & -1 \\\\\n",
    "5 & 1 & 1 \\\\\n",
    "-1 & 2 & 0 \\\\\n",
    "0 & 1 & 0\n",
    "\\end{array}\\right)\n",
    "$$\n",
    "\n",
    "列ベクトルを$\\begin{pmatrix} \\boldsymbol{a}_1 & \\boldsymbol{a}_2 & \\boldsymbol{a}_3 \\end{pmatrix}$とする。\n",
    "\n",
    "\n",
    "$$\n",
    "c_1 \\boldsymbol{a}_1 + c_2 \\boldsymbol{a}_2 + c_3 \\boldsymbol{a}_3 = \\boldsymbol{0}\n",
    "$$\n",
    "\n",
    "とすると、第4成分が$0$になるためには$c_2=0$となり、第3成分をみることにより$c_1=0$であり、第2成分を見ることにより$c_3=0$であることがわかるから、\n",
    "$\\boldsymbol{a}_1, \\boldsymbol{a}_2, \\boldsymbol{a}_3$は1次独立で、ランクは3となる"
   ]
  },
  {
   "cell_type": "markdown",
   "id": "d9d8bd30-f6d7-4c38-8860-837ae39670e2",
   "metadata": {},
   "source": [
    "## 小行列式\n",
    "\n",
    "$m\\times n$行列$A$があるとし、$p$を$p\\leq m, p \\leq n$を満たす正の整数とする。$A$の$p$個の行と列を任意に取り出して作った$p$次の正方行列の行列式を$A$の **$p$次の小行列式** という。\n",
    "\n",
    "たとえば、\n",
    "\n",
    "$$\n",
    "A=\\left[\\begin{array}{llll}\n",
    "a_{11} & a_{12} & a_{13} & a_{14} \\\\\n",
    "a_{21} & a_{22} & a_{23} & a_{24} \\\\\n",
    "a_{31} & a_{32} & a_{33} & a_{34}\n",
    "\\end{array}\\right]\n",
    "$$\n",
    "\n",
    "に対して、$2$次の小行列式は\n",
    "\n",
    "$$\n",
    "\\left|\\begin{array}{ll}\n",
    "a_{11} & a_{12} \\\\\n",
    "a_{21} & a_{22}\n",
    "\\end{array}\\right|,\n",
    "\\quad\\left|\\begin{array}{ll}\n",
    "a_{11} & a_{13} \\\\\n",
    "a_{21} & a_{23}\n",
    "\\end{array}\\right|,\n",
    "\\quad\\left|\\begin{array}{ll}\n",
    "a_{11} & a_{14} \\\\\n",
    "a_{31} & a_{34}\n",
    "\\end{array}\\right|\n",
    "$$\n",
    "\n",
    "などである。\n",
    "\n",
    "$m\\times n$行列の$p$次の小行列式は全部で$_mC_p \\times _nC_p$個存在する。\n",
    "\n",
    "$A$の$r$次の小行列式の中に$0$でないものがあり、$r+1$次以上の小行列はすべて$0$であるときの$r$（0でない小行列式の最大次数）は$A$の階数に等しい。"
   ]
  },
  {
   "cell_type": "markdown",
   "id": "597fa952-9108-4a6f-81b3-ce8ffb7dd640",
   "metadata": {},
   "source": [
    "## 階段行列\n",
    "\n",
    "$m\\times n$行列の第$i$行について、第1列から順番に数えて初めて$0$でない成分が出てくる列を第$d_i$列とする。\n",
    "ただし、第$i$行がすべて0のときは$d_i = n+1$と約束する。\n",
    "\n",
    "$$\n",
    "d_1 < d_2 < \\cdots < d_i < d_{i+1} = \\cdots = d_n = n+1\n",
    "$$\n",
    "\n",
    "のとき、これを**階段行列 (step matrix)** という。\n",
    "\n",
    "図で書くと以下のような行列である\n",
    "\n",
    "$$\n",
    "\\begin{pmatrix}\n",
    "* & \\cdots & \\cdots & \\cdots\\\\\n",
    "0 & *      & \\cdots & \\cdots\\\\\n",
    "0 & 0      & *      & \\cdots\\\\\n",
    "0 & 0      & 0      & *\\\\\n",
    "\\end{pmatrix}\n",
    "$$\n",
    "\n",
    "ただし、$*$は任意の数。\n",
    "\n",
    "階段行列の0でない行の個数はその行列のランクに等しい。"
   ]
  },
  {
   "cell_type": "markdown",
   "id": "f1b51e1f-c365-440a-8345-6bf465fe2eb7",
   "metadata": {},
   "source": [
    "階段行列の例\n",
    "\n",
    "$$\n",
    "\\left(\\begin{array}{lllll}\n",
    "0 & 7 & 0 & 3 & 4 \\\\\n",
    "0 & 0 & 1 & 2 & 3 \\\\\n",
    "0 & 0 & 0 & 0 & 0\n",
    "\\end{array}\\right)\n",
    "$$\n",
    "\n",
    "$$\n",
    "\\begin{pmatrix}\n",
    "1 & 0 & 0\\\\\n",
    "0 & 1 & 0\\\\\n",
    "0 & 0 & 1\n",
    "\\end{pmatrix}\n",
    "$$\n",
    "\n",
    "※単位行列も階段行列である"
   ]
  },
  {
   "cell_type": "markdown",
   "id": "57a3eee5-8467-4510-9e41-0a0f4de58a7f",
   "metadata": {},
   "source": [
    "例：\n",
    "\n",
    "$$\n",
    "\\begin{pmatrix}\n",
    "3 & 0 & 3\\\\\n",
    "0 & 5 & 0\\\\\n",
    "3 & 0 & 3\n",
    "\\end{pmatrix}\n",
    "$$\n",
    "\n",
    "第1行を$-1$倍して第3行に加えると\n",
    "\n",
    "$$\n",
    "\\begin{pmatrix}\n",
    "3 & 0 & 3\\\\\n",
    "0 & 5 & 0\\\\\n",
    "0 & 0 & 0\n",
    "\\end{pmatrix}\n",
    "$$\n",
    "\n",
    "この階段行列の零でない行ベクトルの数は2なので、ランク（階数）は2"
   ]
  },
  {
   "cell_type": "code",
   "execution_count": 4,
   "id": "081490b1-ef26-4e1e-bfd7-247e95c7a578",
   "metadata": {},
   "outputs": [
    {
     "data": {
      "text/plain": [
       "2"
      ]
     },
     "execution_count": 4,
     "metadata": {},
     "output_type": "execute_result"
    }
   ],
   "source": [
    "import numpy as np\n",
    "\n",
    "A = np.array([\n",
    "    [3, 0, 3],\n",
    "    [0, 5, 0],\n",
    "    [3, 0, 3]\n",
    "])\n",
    "\n",
    "np.linalg.matrix_rank(A)"
   ]
  },
  {
   "cell_type": "markdown",
   "id": "b5813ae7-9ea0-470a-b1b1-429c4d52bbda",
   "metadata": {},
   "source": [
    "## 階数標準形\n",
    "\n",
    "行列$A$を行基本変形，列基本変形により\n",
    "\n",
    "$$\n",
    "\\begin{pmatrix}\n",
    "I_r & O\\\\\n",
    "O & O\n",
    "\\end{pmatrix}\n",
    "$$\n",
    "\n",
    "の形に変形できたとき、これを$A$の **階数標準形** あるいは単に **標準形** という。"
   ]
  },
  {
   "cell_type": "markdown",
   "id": "7dfa1135-b0c2-4dcd-90d4-104299df7027",
   "metadata": {},
   "source": [
    ":::{card}\n",
    "**定理** 任意の$m\\times n$行列$A$は基本変形を有限回繰り返して、標準形\n",
    "\n",
    "$$\n",
    "\\begin{pmatrix}\n",
    "I_r & O_{r, n-r}\\\\\n",
    "O_{m-r, r} & O_{m-r, n-r}\n",
    "\\end{pmatrix}\n",
    "$$\n",
    "\n",
    "に変形することができる。ここで$r$は$A$のランクに等しい。\n",
    ":::"
   ]
  },
  {
   "cell_type": "code",
   "execution_count": 54,
   "id": "ebfb7bc9-5cbe-45dd-ab26-fb5dfcb49821",
   "metadata": {},
   "outputs": [
    {
     "data": {
      "text/plain": [
       "2"
      ]
     },
     "execution_count": 54,
     "metadata": {},
     "output_type": "execute_result"
    }
   ],
   "source": [
    "# 例\n",
    "import numpy as np\n",
    "\n",
    "A = np.array([\n",
    "    [3, 0, 3],\n",
    "    [0, 5, 0],\n",
    "    [3, 0, 3]\n",
    "])\n",
    "\n",
    "np.linalg.matrix_rank(A)"
   ]
  },
  {
   "cell_type": "code",
   "execution_count": 55,
   "id": "2cb5a7af-a7a9-4413-b481-f5f9e0be8890",
   "metadata": {},
   "outputs": [
    {
     "data": {
      "text/plain": [
       "array([[3, 0, 3],\n",
       "       [0, 5, 0],\n",
       "       [0, 0, 0]])"
      ]
     },
     "execution_count": 55,
     "metadata": {},
     "output_type": "execute_result"
    }
   ],
   "source": [
    "# 1行目を-1倍して3行目に加える\n",
    "A[2, :] += -1 * A[0, :]\n",
    "A"
   ]
  },
  {
   "cell_type": "code",
   "execution_count": 56,
   "id": "cedd91f5-1b8b-4a40-b001-f113d750b63e",
   "metadata": {},
   "outputs": [
    {
     "data": {
      "text/plain": [
       "array([[3, 0, 0],\n",
       "       [0, 5, 0],\n",
       "       [0, 0, 0]])"
      ]
     },
     "execution_count": 56,
     "metadata": {},
     "output_type": "execute_result"
    }
   ],
   "source": [
    "# 1列目を-1倍して3列目に加える\n",
    "A[:, 2] += -1 * A[:, 0]\n",
    "A"
   ]
  },
  {
   "cell_type": "code",
   "execution_count": 57,
   "id": "a03e3a47-029c-446a-9886-ae04ddf32a7e",
   "metadata": {},
   "outputs": [
    {
     "data": {
      "text/plain": [
       "array([[1, 0, 0],\n",
       "       [0, 1, 0],\n",
       "       [0, 0, 0]])"
      ]
     },
     "execution_count": 57,
     "metadata": {},
     "output_type": "execute_result"
    }
   ],
   "source": [
    "# (1/3)倍、(1/5)倍して1にする\n",
    "A[0, 0] = (1/A[0, 0]) * A[0, 0]\n",
    "A[1, 1] = (1/A[1, 1]) * A[1, 1]\n",
    "A"
   ]
  },
  {
   "cell_type": "markdown",
   "id": "90f5b404-dcd0-4125-8450-26cd233714ea",
   "metadata": {},
   "source": [
    "## 参考文献\n",
    "\n",
    "- [線形代数Ｉ/ベクトル空間と線形写像 - 武内＠筑波大](https://dora.bk.tsukuba.ac.jp/~takeuchi/?%E7%B7%9A%E5%BD%A2%E4%BB%A3%E6%95%B0%EF%BC%A9%2F%E3%83%99%E3%82%AF%E3%83%88%E3%83%AB%E7%A9%BA%E9%96%93%E3%81%A8%E7%B7%9A%E5%BD%A2%E5%86%99%E5%83%8F#va8ffb2b)\n",
    "- 川久保勝夫（2010）『線形代数学 （新装版）』"
   ]
  }
 ],
 "metadata": {
  "kernelspec": {
   "display_name": "Python 3 (ipykernel)",
   "language": "python",
   "name": "python3"
  },
  "language_info": {
   "codemirror_mode": {
    "name": "ipython",
    "version": 3
   },
   "file_extension": ".py",
   "mimetype": "text/x-python",
   "name": "python",
   "nbconvert_exporter": "python",
   "pygments_lexer": "ipython3",
   "version": "3.9.18"
  }
 },
 "nbformat": 4,
 "nbformat_minor": 5
}
