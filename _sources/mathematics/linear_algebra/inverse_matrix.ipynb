{
 "cells": [
  {
   "cell_type": "markdown",
   "id": "89ea87e2-c259-4c78-8c65-f9a2456b2ba8",
   "metadata": {},
   "source": [
    "# 逆行列\n"
   ]
  },
  {
   "cell_type": "markdown",
   "id": "e0ca3092-67da-4807-8185-df34963acaa8",
   "metadata": {},
   "source": [
    "$n$次正方行列$A$に対し\n",
    "\n",
    "$$\n",
    "A^{-1}A = AA^{-1} = I\n",
    "$$\n",
    "\n",
    "を満たす正方行列$A^{-1}$が存在するとき、$A$は **正則行列（regular matrix）** や **可逆行列（invertible matrix）** とよばれる。\n",
    "\n",
    "また、$A^{-1}$を$A$の**逆行列**という。（$I$は$A$と同じサイズの単位行列）\n",
    "\n",
    "正則でない行列は **特異行列（singular matrix）** という。"
   ]
  },
  {
   "cell_type": "markdown",
   "id": "e14121e2-2d5b-49ee-835d-24d2084020bc",
   "metadata": {},
   "source": [
    "### 正則行列の条件\n",
    "\n",
    "正方行列$A$が正則行列であるための必要十分条件は$\\det(A) \\neq 0$である。\n",
    "\n",
    "$A$の逆行列$A^{-1}$の計算方法の一つに\n",
    "\n",
    "$$\n",
    "A^{-1} = \\frac{1}{ \\det(A) } \\tilde{A}\n",
    "$$\n",
    "\n",
    "があり、分母が$\\det(A) \\neq 0$である必要がある。ここで$\\tilde{A}$は$A$の余因子行列である。"
   ]
  },
  {
   "cell_type": "code",
   "execution_count": 1,
   "id": "18c3ec68-9eee-45f9-8c31-9b52fa85c7ae",
   "metadata": {},
   "outputs": [
    {
     "name": "stdout",
     "output_type": "stream",
     "text": [
      "det(A) = 27.0\n",
      "\n",
      "余因子行列 A_adj:\n",
      "[[-48.  24.  -3.]\n",
      " [ 42. -21.   6.]\n",
      " [ -3.   6.  -3.]]\n",
      "\n",
      "逆行列 A^-1:\n",
      "[[-1.778  0.889 -0.111]\n",
      " [ 1.556 -0.778  0.222]\n",
      " [-0.111  0.222 -0.111]]\n"
     ]
    }
   ],
   "source": [
    "import numpy as np\n",
    "\n",
    "A = np.array([\n",
    "    [1, 2, 3],\n",
    "    [4, 5, 6],\n",
    "    [7, 8, 0],\n",
    "])\n",
    "\n",
    "def cofactor(A, i, j):\n",
    "    \"\"\"余因子を計算する関数\"\"\"\n",
    "    A_minor = np.delete(A, i, axis=0)\n",
    "    A_minor = np.delete(A_minor, j, axis=1)\n",
    "    return (-1)**(i + j) * np.linalg.det(A_minor)\n",
    "\n",
    "def cofactor_matrix(A):\n",
    "    \"\"\"余因子行列\"\"\"\n",
    "    C = np.zeros_like(A, dtype=np.float32)\n",
    "    for i in range(A.shape[0]):\n",
    "        for j in range(A.shape[1]):\n",
    "            C[i, j] = cofactor(A, i=i, j=j)\n",
    "    return C.T\n",
    "\n",
    "# det(A) != 0 かどうかを確認\n",
    "print(f\"det(A) = {np.linalg.det(A)}\")\n",
    "\n",
    "# 余因子行列の計算\n",
    "A_adj = cofactor_matrix(A)\n",
    "print(f\"\\n余因子行列 A_adj:\\n{A_adj}\")\n",
    "\n",
    "# 逆行列\n",
    "A_inv = (1 / np.linalg.det(A)) * A_adj\n",
    "print(f\"\\n逆行列 A^-1:\\n{A_inv.round(3)}\")"
   ]
  },
  {
   "cell_type": "code",
   "execution_count": 18,
   "id": "cdbd01fc-c08d-4c69-a01e-7cf8b8d07071",
   "metadata": {},
   "outputs": [
    {
     "data": {
      "text/plain": [
       "array([[ 1.,  0.,  0.],\n",
       "       [-0.,  1.,  0.],\n",
       "       [ 0.,  0.,  1.]])"
      ]
     },
     "execution_count": 18,
     "metadata": {},
     "output_type": "execute_result"
    }
   ],
   "source": [
    "# ちゃんと逆行列になっているか確認\n",
    "(A_inv @ A).round(1)"
   ]
  },
  {
   "cell_type": "markdown",
   "id": "02766377-9030-47bd-902c-5640fb092dea",
   "metadata": {},
   "source": [
    "### 余因子行列と逆行列\n",
    "\n",
    "$A$を$n$次正方行列、$\\tilde{A}$を$A$の余因子行列、$I$を$n$次単位行列とすると\n",
    "\n",
    "$$\n",
    "A \\tilde{A}\n",
    "= \\tilde{A} A\n",
    "= \\det(A) I\n",
    "$$\n",
    "\n",
    "という関係がある。\n",
    "\n",
    "なので、$A$が正則であれば\n",
    "\n",
    "$$\n",
    "\\underbrace{ \\frac{1}{\\det(A)} \\tilde{A} }_{A^{-1}} A = I\n",
    "$$\n",
    "\n",
    "となる。"
   ]
  },
  {
   "cell_type": "code",
   "execution_count": 24,
   "id": "df475a48-c1b2-4768-97b7-1c0c04ca9b83",
   "metadata": {},
   "outputs": [
    {
     "name": "stdout",
     "output_type": "stream",
     "text": [
      "det(A) = 27\n",
      "A_adj @ A: \n",
      "[[27.  0.  0.]\n",
      " [ 0. 27.  0.]\n",
      " [ 0.  0. 27.]]\n"
     ]
    }
   ],
   "source": [
    "print(f\"det(A) = {np.linalg.det(A):.0f}\")\n",
    "print(f\"A_adj @ A: \\n{A_adj @ A}\")"
   ]
  },
  {
   "cell_type": "markdown",
   "id": "78d9409c-b75c-4a4f-8614-3c10c3052ff7",
   "metadata": {},
   "source": [
    "## 逆行列の計算規則\n",
    "\n",
    "$$\n",
    "(A^{-1})^{-1} = A\n",
    "$$\n",
    "\n",
    "$$\n",
    "(AB)^{-1} = B^{-1} A^{-1}\n",
    "$$\n",
    "\n",
    "$$\n",
    "(A^k)^{-1} = (A^{-1})^k\n",
    "$$"
   ]
  },
  {
   "cell_type": "code",
   "execution_count": 2,
   "id": "62f769c4-ce9c-49f6-8646-a39f0faf59ae",
   "metadata": {},
   "outputs": [
    {
     "data": {
      "text/plain": [
       "array([[-11., -16.],\n",
       "       [ 15.,  22.]])"
      ]
     },
     "execution_count": 2,
     "metadata": {},
     "output_type": "execute_result"
    }
   ],
   "source": [
    "import numpy as np\n",
    "\n",
    "A = np.array([\n",
    "    [1, 2],\n",
    "    [3, 4],\n",
    "])\n",
    "B = A + 3\n",
    "A_inv = np.linalg.inv(A)\n",
    "\n",
    "A_inv @ B @ A"
   ]
  },
  {
   "cell_type": "markdown",
   "id": "b8d0ef64-9f5e-40b4-8310-9a729f2db3f0",
   "metadata": {},
   "source": [
    "## 逆行列の効率的な計算"
   ]
  },
  {
   "cell_type": "markdown",
   "id": "12c604a9-9d13-4f43-960b-0a853992be9e",
   "metadata": {},
   "source": [
    "### 行列式を使う場合\n",
    "\n",
    "$$\n",
    "A^{-1} = \\frac{1}{|A|} \\tilde{A}\n",
    "$$\n",
    "\n",
    "から計算する場合、おそらく$O((n-1)^3 \\times n^2)$かかる\n",
    "\n",
    "**行列式の計算量**\n",
    "\n",
    "$$\n",
    "|A| = \\sum_{\\sigma \\in S_n} \\operatorname{sgn}(\\sigma) a_{1 \\sigma(1)} a_{2 \\sigma(2)} \\cdots a_{n \\sigma(n)}\n",
    "$$\n",
    "\n",
    "という行列式の定義から、置換の集合$S_n$の要素数が$n!$個あり、各項で$n$回$a_{n \\sigma(n)}$を掛けるので$O(n\\times n!)$\n",
    "\n",
    "「行列Aのi行から、j行の定数倍を引いても、行列式の値は変わらない。」という性質を使って上三角行列に変形してから行列式を計算する。三角行列への変換は$O(n^3)$、上三角行列の行列式は対角成分の積なので$O(n)$なので、全体で$O(n^3)$になる\n",
    "\n",
    "（参考：[Tech Tips: 行列式の計算](https://techtipshoge.blogspot.com/2011/08/blog-post_23.html)）\n",
    "\n",
    "\n",
    "**余因子行列の計算量**\n",
    "\n",
    "$(i, j)$余因子は「『$i$行目と$j$列目を除いた行列』の行列式に$(-1)^{i+j}$をかけたもの」なので、$n-1$次行列の行列式を求める計算になり、$O((n-1)^3)$\n",
    "\n",
    "余因子行列は「$(i, j)$余因子を$i,j$成分に持つ行列を転置したもの」なので、$(i, j)$余因子を$n\\times n$個計算する必要がある→$O((n-1)^3 \\times n^2)$か？\n"
   ]
  },
  {
   "cell_type": "markdown",
   "id": "3c6f0c99-ff3b-4c17-9061-92662186a6b7",
   "metadata": {},
   "source": [
    "### 掃き出し法による計算\n",
    "\n",
    "教科書的な方法でありながら、行列分解による方法と計算量が大差ない（=結構効率的）\n"
   ]
  },
  {
   "cell_type": "markdown",
   "id": "addf55ad-2e49-4a93-b2af-10201b441169",
   "metadata": {},
   "source": [
    "### 行列分解で計算する方法\n",
    "\n",
    "- https://speakerdeck.com/nagiss/hiyurisuteitukukontesutodeji-jie-xue-xi-siyou?slide=26"
   ]
  },
  {
   "cell_type": "markdown",
   "id": "641e46b7-2406-491b-873c-079a3fea2cef",
   "metadata": {},
   "source": [
    "### 共役勾配法\n",
    "\n",
    "連立一次方程式\n",
    "\n",
    "$$\n",
    "Ax = b\n",
    "$$\n",
    "\n",
    "の$x$を求めることは、二次形式\n",
    "\n",
    "$$\n",
    "f(x) = \\frac{1}{2} x^T Ax - b^T x\n",
    "$$\n",
    "\n",
    "の最小化と一致するので、$f(x)$の最小値を探索する方法で解を求める方法を **共役勾配（conjugate gradient: CG）法** という\n",
    "\n",
    "[連立1次方程式：共役勾配法 - PukiWiki for PBCG Lab](https://www.slis.tsukuba.ac.jp/~fujisawa.makoto.fu/cgi-bin/wiki/index.php?%CF%A2%CE%A91%BC%A1%CA%FD%C4%F8%BC%B0%A1%A7%B6%A6%CC%F2%B8%FB%C7%DB%CB%A1)"
   ]
  },
  {
   "cell_type": "markdown",
   "id": "ad382520-8002-4515-adb6-301cb379078c",
   "metadata": {},
   "source": [
    ":::{margin}\n",
    "**逆行列計算と連立一次方程式の関連性**\n",
    "\n",
    "行列での連立一次方程式\n",
    "\n",
    "$$\n",
    "AX = I\n",
    "$$\n",
    "\n",
    "を考えると、この解は$X=A^{-1}$になる\n",
    ":::"
   ]
  },
  {
   "cell_type": "code",
   "execution_count": null,
   "id": "d825c6c6-46cf-47cc-ae24-5c6c5b0dc301",
   "metadata": {},
   "outputs": [],
   "source": []
  }
 ],
 "metadata": {
  "kernelspec": {
   "display_name": "Python 3 (ipykernel)",
   "language": "python",
   "name": "python3"
  },
  "language_info": {
   "codemirror_mode": {
    "name": "ipython",
    "version": 3
   },
   "file_extension": ".py",
   "mimetype": "text/x-python",
   "name": "python",
   "nbconvert_exporter": "python",
   "pygments_lexer": "ipython3",
   "version": "3.9.18"
  }
 },
 "nbformat": 4,
 "nbformat_minor": 5
}
