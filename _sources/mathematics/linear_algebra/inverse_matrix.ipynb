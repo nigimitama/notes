{
 "cells": [
  {
   "cell_type": "markdown",
   "id": "89ea87e2-c259-4c78-8c65-f9a2456b2ba8",
   "metadata": {},
   "source": [
    "# 逆行列\n"
   ]
  },
  {
   "cell_type": "markdown",
   "id": "e0ca3092-67da-4807-8185-df34963acaa8",
   "metadata": {},
   "source": [
    "$n$次正方行列$A$に対し\n",
    "\n",
    "$$\n",
    "A^{-1}A = AA^{-1} = I\n",
    "$$\n",
    "\n",
    "を満たす正方行列$A^{-1}$が存在するとき、$A$は **正則行列（regular matrix）** や **可逆行列（invertible matrix）** とよばれる。\n",
    "\n",
    "また、$A^{-1}$を$A$の**逆行列**という。（$I$は$A$と同じサイズの単位行列）\n",
    "\n",
    "正則でない行列は **特異行列（singular matrix）** という。"
   ]
  },
  {
   "cell_type": "markdown",
   "id": "e14121e2-2d5b-49ee-835d-24d2084020bc",
   "metadata": {},
   "source": [
    "### 正則行列の条件\n",
    "\n",
    "正方行列$A$が正則行列であるための必要十分条件は$\\det(A) \\neq 0$である。\n",
    "\n",
    "$A$の逆行列$A^{-1}$の計算方法の一つに\n",
    "\n",
    "$$\n",
    "A^{-1} = \\frac{1}{ \\det(A) } \\tilde{A}\n",
    "$$\n",
    "\n",
    "があり、分母が$\\det(A) \\neq 0$である必要がある。ここで$\\tilde{A}$は$A$の余因子行列である。"
   ]
  },
  {
   "cell_type": "code",
   "execution_count": 1,
   "id": "18c3ec68-9eee-45f9-8c31-9b52fa85c7ae",
   "metadata": {},
   "outputs": [
    {
     "name": "stdout",
     "output_type": "stream",
     "text": [
      "det(A) = 27.0\n",
      "\n",
      "余因子行列 A_adj:\n",
      "[[-48.  24.  -3.]\n",
      " [ 42. -21.   6.]\n",
      " [ -3.   6.  -3.]]\n",
      "\n",
      "逆行列 A^-1:\n",
      "[[-1.778  0.889 -0.111]\n",
      " [ 1.556 -0.778  0.222]\n",
      " [-0.111  0.222 -0.111]]\n"
     ]
    }
   ],
   "source": [
    "import numpy as np\n",
    "\n",
    "A = np.array([\n",
    "    [1, 2, 3],\n",
    "    [4, 5, 6],\n",
    "    [7, 8, 0],\n",
    "])\n",
    "\n",
    "def cofactor(A, i, j):\n",
    "    \"\"\"余因子を計算する関数\"\"\"\n",
    "    A_minor = np.delete(A, i, axis=0)\n",
    "    A_minor = np.delete(A_minor, j, axis=1)\n",
    "    return (-1)**(i + j) * np.linalg.det(A_minor)\n",
    "\n",
    "def cofactor_matrix(A):\n",
    "    \"\"\"余因子行列\"\"\"\n",
    "    C = np.zeros_like(A, dtype=np.float32)\n",
    "    for i in range(A.shape[0]):\n",
    "        for j in range(A.shape[1]):\n",
    "            C[i, j] = cofactor(A, i=i, j=j)\n",
    "    return C.T\n",
    "\n",
    "# det(A) != 0 かどうかを確認\n",
    "print(f\"det(A) = {np.linalg.det(A)}\")\n",
    "\n",
    "# 余因子行列の計算\n",
    "A_adj = cofactor_matrix(A)\n",
    "print(f\"\\n余因子行列 A_adj:\\n{A_adj}\")\n",
    "\n",
    "# 逆行列\n",
    "A_inv = (1 / np.linalg.det(A)) * A_adj\n",
    "print(f\"\\n逆行列 A^-1:\\n{A_inv.round(3)}\")"
   ]
  },
  {
   "cell_type": "code",
   "execution_count": 18,
   "id": "cdbd01fc-c08d-4c69-a01e-7cf8b8d07071",
   "metadata": {},
   "outputs": [
    {
     "data": {
      "text/plain": [
       "array([[ 1.,  0.,  0.],\n",
       "       [-0.,  1.,  0.],\n",
       "       [ 0.,  0.,  1.]])"
      ]
     },
     "execution_count": 18,
     "metadata": {},
     "output_type": "execute_result"
    }
   ],
   "source": [
    "# ちゃんと逆行列になっているか確認\n",
    "(A_inv @ A).round(1)"
   ]
  },
  {
   "cell_type": "markdown",
   "id": "02766377-9030-47bd-902c-5640fb092dea",
   "metadata": {},
   "source": [
    "### 余因子行列と逆行列\n",
    "\n",
    "$A$を$n$次正方行列、$\\tilde{A}$を$A$の余因子行列、$I$を$n$次単位行列とすると\n",
    "\n",
    "$$\n",
    "A \\tilde{A}\n",
    "= \\tilde{A} A\n",
    "= \\det(A) I\n",
    "$$\n",
    "\n",
    "という関係がある。\n",
    "\n",
    "なので、$A$が正則であれば\n",
    "\n",
    "$$\n",
    "\\underbrace{ \\frac{1}{\\det(A)} \\tilde{A} }_{A^{-1}} A = I\n",
    "$$\n",
    "\n",
    "となる。"
   ]
  },
  {
   "cell_type": "code",
   "execution_count": 24,
   "id": "df475a48-c1b2-4768-97b7-1c0c04ca9b83",
   "metadata": {},
   "outputs": [
    {
     "name": "stdout",
     "output_type": "stream",
     "text": [
      "det(A) = 27\n",
      "A_adj @ A: \n",
      "[[27.  0.  0.]\n",
      " [ 0. 27.  0.]\n",
      " [ 0.  0. 27.]]\n"
     ]
    }
   ],
   "source": [
    "print(f\"det(A) = {np.linalg.det(A):.0f}\")\n",
    "print(f\"A_adj @ A: \\n{A_adj @ A}\")"
   ]
  },
  {
   "cell_type": "markdown",
   "id": "7c9fbaa2-05d7-4d9c-a353-dcca440b7a30",
   "metadata": {},
   "source": [
    "## 逆行列の計算規則\n",
    "\n",
    ":::{admonition} 定理\n",
    "\n",
    "$$\n",
    "(A^{-1})^{-1} = A\n",
    "$$\n",
    ":::\n",
    "\n",
    ":::{dropdown} 証明\n",
    "\n",
    "逆行列の定義より $(A^{-1})^{-1}$ついて\n",
    "\n",
    "$$\n",
    "(A^{-1}) (A^{-1})^{-1}\n",
    "= (A^{-1})^{-1} (A^{-1})\n",
    "= I\n",
    "$$\n",
    "\n",
    "が成り立つことになる。これを満たすのは $(A^{-1})^{-1} = A$である\n",
    ":::"
   ]
  },
  {
   "cell_type": "markdown",
   "id": "491067b4-3365-4470-a81a-812b356d4c81",
   "metadata": {},
   "source": [
    ":::{admonition} 定理\n",
    "\n",
    "$$\n",
    "(AB)^{-1} = B^{-1} A^{-1}\n",
    "$$\n",
    ":::\n",
    "\n",
    ":::{dropdown} 証明\n",
    "\n",
    "$B^{-1} A^{-1}$に右から$AB$を掛けると\n",
    "\n",
    "$$\n",
    "B^{-1} \\underbrace{ A^{-1} A}_{I} B\n",
    "= B^{-1} B\n",
    "= I\n",
    "$$\n",
    "\n",
    "左から掛けると\n",
    "\n",
    "$$\n",
    "A B B^{-1} A^{-1}\n",
    "= A A^{-1}\n",
    "= I\n",
    "$$\n",
    "\n",
    "となる。よって\n",
    "\n",
    "$$\n",
    "(AB) (B^{-1} A^{-1}) = (B^{-1} A^{-1}) (AB) = I\n",
    "$$\n",
    "\n",
    "となるため、逆行列の定義より\n",
    "\n",
    "$$\n",
    "B^{-1} A^{-1} = (AB)^{-1}\n",
    "$$\n",
    "\n",
    "である。\n",
    ":::"
   ]
  },
  {
   "cell_type": "markdown",
   "id": "a6d2a9f3-69cc-4aff-a59c-0367a1960375",
   "metadata": {},
   "source": [
    ":::{admonition} 定理\n",
    "\n",
    "$$\n",
    "(A^k)^{-1} = (A^{-1})^k\n",
    "$$\n",
    ":::\n"
   ]
  },
  {
   "cell_type": "markdown",
   "id": "8e5fa8c7-9ce1-449b-888f-96d6400225dd",
   "metadata": {},
   "source": [
    ":::{admonition} 定理\n",
    "\n",
    "$$\n",
    "(A^\\top)^{-1} = (A^{-1})^\\top\n",
    "$$\n",
    ":::\n",
    "\n",
    ":::{dropdown} 証明\n",
    "\n",
    "$$\n",
    "A A^{-1} = A^{-1} A = I\n",
    "$$\n",
    "\n",
    "の両辺の転置行列を考えると\n",
    "\n",
    "$$\n",
    "(A A^{-1})^\\top = (A^{-1} A)^\\top = I^\\top\n",
    "$$\n",
    "\n",
    "転置の性質$(AB)^\\top = B^\\top A^\\top$と$I^\\top = I$より\n",
    "\n",
    "$$\n",
    "(A^{-1})^\\top A^\\top\n",
    "= A^\\top (A^{-1})^\\top\n",
    "= I\n",
    "$$\n",
    "\n",
    "となる。よって$A^\\top$は正則であり、その逆行列は$(A^{-1})^\\top$である。\n",
    ":::"
   ]
  },
  {
   "cell_type": "code",
   "execution_count": 2,
   "id": "62f769c4-ce9c-49f6-8646-a39f0faf59ae",
   "metadata": {},
   "outputs": [
    {
     "data": {
      "text/plain": [
       "array([[-11., -16.],\n",
       "       [ 15.,  22.]])"
      ]
     },
     "execution_count": 2,
     "metadata": {},
     "output_type": "execute_result"
    }
   ],
   "source": [
    "import numpy as np\n",
    "\n",
    "A = np.array([\n",
    "    [1, 2],\n",
    "    [3, 4],\n",
    "])\n",
    "B = A + 3\n",
    "A_inv = np.linalg.inv(A)\n",
    "\n",
    "A_inv @ B @ A"
   ]
  }
 ],
 "metadata": {
  "kernelspec": {
   "display_name": "Python 3 (ipykernel)",
   "language": "python",
   "name": "python3"
  },
  "language_info": {
   "codemirror_mode": {
    "name": "ipython",
    "version": 3
   },
   "file_extension": ".py",
   "mimetype": "text/x-python",
   "name": "python",
   "nbconvert_exporter": "python",
   "pygments_lexer": "ipython3",
   "version": "3.10.15"
  }
 },
 "nbformat": 4,
 "nbformat_minor": 5
}
