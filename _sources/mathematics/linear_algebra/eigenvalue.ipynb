{
 "cells": [
  {
   "cell_type": "markdown",
   "id": "0feda5e3-f20d-4ef8-92fe-108df94c4fb5",
   "metadata": {},
   "source": [
    "# 固有値と固有ベクトル\n",
    "\n",
    "$$\n",
    "% 太字のalias\n",
    "\\newcommand{\\b}[1]{\\boldsymbol{#1}}\n",
    "$$\n"
   ]
  },
  {
   "cell_type": "markdown",
   "id": "01a61d0d-4414-499d-a3f1-3729b375f873",
   "metadata": {},
   "source": [
    "## 行列の対角化\n",
    "\n",
    "$p$次正方行列$A$について、\n",
    "\n",
    "$$\n",
    "P^{-1} A P\n",
    "= \\Lambda\n",
    "= \\begin{pmatrix}\n",
    "\\lambda_1 & 0 & 0 & 0\\\\\n",
    "0 & \\lambda_2 & 0 & 0\\\\\n",
    "0 & 0 & \\ddots & 0\\\\\n",
    "0 & 0 & 0 & \\lambda_p\n",
    "\\end{pmatrix}\n",
    "$$\n",
    "\n",
    "となるような（$P^{-1} A P$が対角行列となるような）正則行列$P$と対角行列$\\Lambda$を求めることを$A$の**対角化**という。そしてこのような$P$と$\\Lambda$が存在するとき、$A$は**対角化可能**という。\n",
    "\n",
    "\n",
    "\n"
   ]
  },
  {
   "cell_type": "markdown",
   "id": "17e784c8-b345-4a99-8915-ccb23d61a569",
   "metadata": {},
   "source": [
    ":::{card} 対角化できると何が嬉しいか\n",
    "**例：$n$乗の計算がラクになる**\n",
    "\n",
    "$$\n",
    "\\begin{align}\n",
    "(P^{-1} A P)^n\n",
    "&= (P^{-1} A \\underbrace{ P) (P^{-1} }_{I} A P) \\cdots (P^{-1} A P)\\\\\n",
    "&= P^{-1} A^n P\n",
    "\\end{align}\n",
    "$$\n",
    "\n",
    "なので\n",
    "\n",
    "$$\n",
    "\\begin{align}\n",
    "A^n\n",
    "&= P (P^{-1} A P)^n P^{-1}\\\\\n",
    "&= P \\Lambda^n P^{-1}\\\\\n",
    "&= P\n",
    "\\begin{pmatrix}\n",
    "\\lambda_1^n & 0 & 0 & 0\\\\\n",
    "0 & \\lambda_2^n & 0 & 0\\\\\n",
    "0 & 0 & \\ddots & 0\\\\\n",
    "0 & 0 & 0 & \\lambda_p^n\n",
    "\\end{pmatrix}\n",
    "P^{-1}\n",
    "\\end{align}\n",
    "$$\n",
    "\n",
    "（参考：[【大学数学】線形代数入門⑬(対角化：重解がない場合)【線形代数】 - YouTube](https://www.youtube.com/watch?v=FTC_aekgqCg)）\n",
    ":::"
   ]
  },
  {
   "cell_type": "markdown",
   "id": "8cfe31cb-802b-4eec-8083-2d124e8b3b52",
   "metadata": {},
   "source": [
    "## 固有値"
   ]
  },
  {
   "cell_type": "markdown",
   "id": "1cf12adf-9cfd-4160-a6ef-776ed01e5b0b",
   "metadata": {},
   "source": [
    "$d$次の正方行列$A$に対して\n",
    "\n",
    "$$\n",
    "A \\b{x} = \\lambda \\b{x}\n",
    "$$\n",
    "\n",
    "が成り立つとき、スカラー$\\lambda$を$A$の**固有値**（eigenvalue）、$d$次元ベクトル$\\b{x} (\\neq \\b{0})$を$A$の$\\lambda$に対応する**固有ベクトル**（eigenvector）と呼ぶ。"
   ]
  },
  {
   "cell_type": "markdown",
   "id": "21462078-cca3-4641-a18e-6adf81b9444e",
   "metadata": {},
   "source": [
    "上の式は\n",
    "\n",
    "$$\n",
    "(A - \\lambda I) \\b{x} = \\b{0}\n",
    "$$\n",
    "\n",
    "と表すことができる。これが$\\b{x} \\neq \\b{0}$であるためには\n",
    "\n",
    "$$\n",
    "\\det(A - \\lambda I) = 0\n",
    "$$\n",
    "\n",
    "でなければならない。この式を**固有方程式**と呼び、固有値は固有方程式の解として求める。"
   ]
  },
  {
   "cell_type": "markdown",
   "id": "b2054076-77de-4c63-b823-6b8d78460247",
   "metadata": {},
   "source": [
    ":::{card} 例\n",
    "$$\n",
    "A = \\begin{pmatrix}\n",
    "-3 & -2\\\\\n",
    "4 & 3\n",
    "\\end{pmatrix}\n",
    "$$\n",
    "\n",
    "の場合\n",
    "\n",
    "$$\n",
    "\\begin{align}\n",
    "|A - \\lambda I|\n",
    "&=\n",
    "\\begin{vmatrix}\n",
    "-3 - \\lambda & -2 \\\\\n",
    "4 & 3 - \\lambda \\\\\n",
    "\\end{vmatrix}\n",
    "\\\\\n",
    "&= (-3 \\lambda)(3 - \\lambda) + 4 \\times 2\\\\\n",
    "&= -9 + 3\\lambda - 3\\lambda + \\lambda^2 + 8\\\\\n",
    "&= \\lambda^2 - 1\\\\\n",
    "&= (\\lambda - 1)(\\lambda + 1)\\\\\n",
    "&= 0\n",
    "\\end{align}\n",
    "$$\n",
    "\n",
    "より、$\\lambda = 1, -1$が求まる。（それぞれ$\\lambda_1, \\lambda_2$とおくことにする）\n",
    "\n",
    "$\\lambda_1 = 1$に対応する固有ベクトルを$\\b{x}=(x_1,x_2)^\\top$とおいて次のように求める\n",
    "\n",
    "$$\n",
    "A \\b{x} = \\lambda_1 \\b{x}\n",
    "\\iff\n",
    "\\begin{align}\n",
    "-3 x_1 - 2 x_2 &= x_1\\\\\n",
    "4 x_1 + 3 x_2 &= x_2\\\\\n",
    "\\end{align}\n",
    "$$\n",
    "\n",
    "より$-2 x_1 = x_2$という関係性になるので、変数$s$を使って次のように表す。\n",
    "\n",
    "$$\n",
    "\\b{x} = \\begin{pmatrix}\n",
    "s \\\\ -2 s\n",
    "\\end{pmatrix}\n",
    "$$\n",
    "\n",
    "\n",
    "同様に、$\\lambda_2 = -1$に対応する固有ベクトルを$\\b{y}=(y_1, y_2)^\\top$とおいて次のように求める\n",
    "\n",
    "$$\n",
    "A \\b{x} = \\lambda_2 \\b{y}\n",
    "\\iff\n",
    "\\begin{align}\n",
    "-3 y_1 - 2 y_2 &= -y_1\\\\\n",
    "4 y_1 + 3 y_2 &= -y_2\\\\\n",
    "\\end{align}\n",
    "$$\n",
    "\n",
    "より$y_1 = -y_2$という関係性なので、変数$t$を使って\n",
    "\n",
    "$$\n",
    "\\b{y} = \\begin{pmatrix}\n",
    "t \\\\ -t\n",
    "\\end{pmatrix}\n",
    "$$\n",
    "\n",
    "となる。\n",
    "\n",
    "$s$や$t$は任意の値でよいので、固有ベクトルの長さが1になるように定めると、固有ベクトルは\n",
    "\n",
    "$$\n",
    "\\b{x} = \\begin{pmatrix} 1/\\sqrt{5} \\\\ -2/\\sqrt{5} \\end{pmatrix}\n",
    "  \\simeq \\begin{pmatrix} 0.447 \\\\ -0.894 \\end{pmatrix}\n",
    ", \\hspace{2em}\n",
    "\\b{y} = \\begin{pmatrix} 1/\\sqrt{2} \\\\ -1/\\sqrt{2} \\end{pmatrix}\n",
    "  \\simeq \\begin{pmatrix} 0.707 \\\\ -0.707 \\end{pmatrix}\n",
    "$$\n",
    "\n",
    "となる。\n",
    ":::"
   ]
  },
  {
   "cell_type": "code",
   "execution_count": 13,
   "id": "2ab9baad-f572-4ea6-89d0-1fb69f9087db",
   "metadata": {},
   "outputs": [
    {
     "name": "stdout",
     "output_type": "stream",
     "text": [
      "\n",
      "λ=[-1.  1.]\n",
      "x=[ 0.447 -0.894]\n",
      "y=[-0.707  0.707]\n",
      "\n"
     ]
    }
   ],
   "source": [
    "import numpy as np\n",
    "\n",
    "A = np.array([\n",
    "    [-3, -2],\n",
    "    [4, 3],\n",
    "])\n",
    "\n",
    "lambdas, vectors = np.linalg.eig(A)\n",
    "print(f\"\"\"\n",
    "λ={lambdas}\n",
    "x={vectors[:, 1].round(3)}\n",
    "y={vectors[:, 0].round(3)}\n",
    "\"\"\")"
   ]
  },
  {
   "cell_type": "markdown",
   "id": "e77d655b-4042-4a2f-a66f-ab006e8db083",
   "metadata": {},
   "source": [
    "- 対象行列の固有値は負をとらない\n",
    "- 固有値に0がある（正定値じゃない）と、ランクが下がり、逆行列をもたない"
   ]
  },
  {
   "cell_type": "code",
   "execution_count": null,
   "id": "8246f69a-5cce-43b7-ad25-15e6ac659e8d",
   "metadata": {},
   "outputs": [],
   "source": []
  }
 ],
 "metadata": {
  "kernelspec": {
   "display_name": "Python 3 (ipykernel)",
   "language": "python",
   "name": "python3"
  },
  "language_info": {
   "codemirror_mode": {
    "name": "ipython",
    "version": 3
   },
   "file_extension": ".py",
   "mimetype": "text/x-python",
   "name": "python",
   "nbconvert_exporter": "python",
   "pygments_lexer": "ipython3",
   "version": "3.9.18"
  }
 },
 "nbformat": 4,
 "nbformat_minor": 5
}
