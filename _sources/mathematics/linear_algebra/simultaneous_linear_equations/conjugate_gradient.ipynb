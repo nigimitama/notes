{
 "cells": [
  {
   "cell_type": "markdown",
   "id": "fd176395-20a5-424f-b80b-9f755901230b",
   "metadata": {},
   "source": [
    "# 共役勾配法\n",
    "\n",
    "対称正定値行列にのみ適用できる反復解法"
   ]
  },
  {
   "cell_type": "code",
   "execution_count": null,
   "id": "7e5e5ab4-73c5-4486-b02f-76f2b239c41b",
   "metadata": {},
   "outputs": [],
   "source": []
  }
 ],
 "metadata": {
  "kernelspec": {
   "display_name": "Python 3 (ipykernel)",
   "language": "python",
   "name": "python3"
  },
  "language_info": {
   "codemirror_mode": {
    "name": "ipython",
    "version": 3
   },
   "file_extension": ".py",
   "mimetype": "text/x-python",
   "name": "python",
   "nbconvert_exporter": "python",
   "pygments_lexer": "ipython3",
   "version": "3.9.18"
  }
 },
 "nbformat": 4,
 "nbformat_minor": 5
}
