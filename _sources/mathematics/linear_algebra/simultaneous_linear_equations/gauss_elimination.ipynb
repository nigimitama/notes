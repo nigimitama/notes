{
 "cells": [
  {
   "cell_type": "markdown",
   "id": "8ab7cb33-25c9-45f0-9692-394d75b3af12",
   "metadata": {},
   "source": [
    "# Gauss-Jordanの消去法\n",
    "\n",
    "**ガウスの消去法** （Gauss elimination）、 **ガウス＝ジョルダンの消去法** （Gauss-Jordan elimination）、あるいは **掃き出し法** と呼ばれる方法。"
   ]
  },
  {
   "cell_type": "markdown",
   "id": "392c10a7-3210-43dc-94e5-7c42b382a948",
   "metadata": {},
   "source": [
    "$n$ 個の未知数 $x_j(j=1, \\cdots, n)$ と $n$ 個の方程式からなる連立 1 次方程式\n",
    "\n",
    "$$\n",
    "\\sum_{j=1}^n a_{i j} x_j=b_i \\quad(i=1, \\cdots, n)\n",
    "$$\n",
    "\n",
    "について考える。"
   ]
  },
  {
   "cell_type": "markdown",
   "id": "ea36d9c4-afcf-49dc-a8d1-43d98e6c97cd",
   "metadata": {},
   "source": [
    "連立1次方程式を\n",
    "\n",
    "$$\n",
    "% 太字のalias\n",
    "\\newcommand{\\b}[1]{\\boldsymbol{#1}}\n",
    "% 演算子の定義\n",
    "\\DeclareMathOperator{\\im}{ \\text{Im} }\n",
    "\\DeclareMathOperator{\\rank}{ \\text{rank} }\n",
    "\\DeclareMathOperator{\\span}{ \\text{Span} }\n",
    "\\DeclareMathOperator{\\Ker}{ \\text{Ker} }\n",
    "%\n",
    "\\begin{align}\n",
    "& a_{11}^{(1)} x_1+a_{12}^{(1)} x_2+\\cdots+a_{1 n}^{(1)} x_n=b_1^{(1)}\\\\\n",
    "& a_{21}^{(1)} x_1+a_{22}^{(1)} x_2+\\cdots+a_{2 n}^{(1)} x_n=b_2^{(1)}\\\\\n",
    "&\\quad \\vdots\\\\\n",
    "& a_{n 1}^{(1)} x_1+a_{n 2}^{(1)} x_2+\\cdots+a_{n n}^{(1)} x_n=b_n^{(1)} \\\\\n",
    "\\end{align}\n",
    "$$\n",
    "\n",
    "の形に書く。"
   ]
  },
  {
   "cell_type": "markdown",
   "id": "901ecdfe-2c8c-4e82-850c-a782a6ece32b",
   "metadata": {},
   "source": [
    "Gaussの消去法では、前進消去と後退代入という操作によって方程式を解く。"
   ]
  },
  {
   "cell_type": "markdown",
   "id": "3de9f877-ebcd-4639-a380-aa61930838f5",
   "metadata": {},
   "source": [
    "### 前進消去\n",
    "\n",
    "(1) 1番目の未知数$x_1$に着目し、2~$n$番目の方程式から消去する。\n",
    "\n",
    "$i=2,\\cdots,n$について、$i$番目の式から$1$番目の式の$m_{i1} = a_{i1}^{(1)} / a_{11}^{(1)}$倍を引けばよい（$a_{11}^{(1)}\\neq 0$と仮定しておく）\n",
    "\n",
    "この操作のあとの連立1次方程式は、\n",
    "\n",
    "$$\n",
    "\\begin{align}\n",
    "a_{i j}^{(2)}=a_{i j}^{(1)}-m_{i 1} a_{1 j}^{(1)} & \\quad(i=2, \\cdots, n ; j=2, \\cdots, n) \\\\\n",
    "b_i^{(2)}=b_i^{(1)}-m_{i 1} b_1^{(1)} & \\quad (i=2, \\cdots, n)\n",
    "\\end{align}\n",
    "$$\n",
    "\n",
    "とおくと、\n",
    "\n",
    "\n",
    "$$\n",
    "\\begin{aligned}\n",
    "a_{11}^{(1)} x_1+a_{12}^{(1)} x_2+\\cdots+a_{1 n}^{(1)} x_n=b_1^{(1)}&\\\\\n",
    "a_{22}^{(2)} x_2+\\cdots+a_{2 n}^{(2)} x_n=b_2^{(2)}&\\\\\n",
    "\\vdots \\quad &\\\\\n",
    "a_{n 2}^{(2)} x_2+\\cdots+a_{n n}^{(2)} x_n=b_n^{(2)}&\\\\\n",
    "\\end{aligned}\n",
    "$$\n",
    "\n",
    "となる。\n",
    "\n",
    "\n",
    "この消去操作において着目した行列要素の位置 $(1,1)$を **枢軸** （pivot）、その要素$a_{11}^{(1)}$を **枢軸要素** 、 $m_{i1}$を **乗数** と呼ぶ。"
   ]
  },
  {
   "cell_type": "markdown",
   "id": "3ba5bccd-10ff-4564-a620-9a443937025a",
   "metadata": {},
   "source": [
    "(2) 2番目の未知数$x_2$に着目し、3~$n$番目の方程式から消去する。\n",
    "\n",
    "以下、このような操作を$n-1$回まで繰り返す。そして以下を得る\n",
    "\n",
    "$$\n",
    "\\begin{aligned}\n",
    "a_{11}^{(1)} x_1+a_{12}^{(1)} x_2+a_{13}^{(1)} x_3+\\cdots+a_{1 n}^{(1)} x_n =b_1^{(1)}&\\\\\n",
    "a_{22}^{(2)} x_2+a_{23}^{(2)} x_3+\\cdots+a_{2 n}^{(2)} x_n=b_2^{(2)}&\\\\\n",
    "a_{33}^{(3)} x_3+\\cdots+a_{3 n}^{(3)} x_n=b_3^{(3)}&\\\\\n",
    "\\ddots \\quad \\quad \\vdots \\quad \\quad \\vdots \\quad&\\\\\n",
    "a_{n n}^{(n)} x_n=b_n^{(n)} &\\\\\n",
    "\\end{aligned}\n",
    "$$\n",
    "\n",
    "ただし、$a_{11}^{(1)} \\neq 0, \\quad a_{22}^{(2)} \\neq 0, \\quad \\cdots, \\quad a_{n n}^{(n)} \\neq 0$と仮定している。"
   ]
  },
  {
   "cell_type": "markdown",
   "id": "3196c655-53fe-408b-8ced-30590f2982d1",
   "metadata": {},
   "source": []
  },
  {
   "cell_type": "code",
   "execution_count": null,
   "id": "09f2adad-bea6-4134-961f-ee8b84451f45",
   "metadata": {},
   "outputs": [],
   "source": []
  }
 ],
 "metadata": {
  "kernelspec": {
   "display_name": "",
   "name": ""
  },
  "language_info": {
   "name": ""
  }
 },
 "nbformat": 4,
 "nbformat_minor": 5
}
