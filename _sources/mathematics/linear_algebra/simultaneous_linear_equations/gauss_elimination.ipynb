{
 "cells": [
  {
   "cell_type": "markdown",
   "id": "8ab7cb33-25c9-45f0-9692-394d75b3af12",
   "metadata": {},
   "source": [
    "# Gauss-Jordanの消去法\n",
    "\n",
    "**ガウスの消去法** （Gauss elimination）、 **ガウス＝ジョルダンの消去法** （Gauss-Jordan elimination）、あるいは **掃き出し法**"
   ]
  },
  {
   "cell_type": "code",
   "execution_count": null,
   "id": "ecadb3ae-a4eb-443f-ab9a-2b0ef0e3b91b",
   "metadata": {},
   "outputs": [],
   "source": []
  }
 ],
 "metadata": {
  "kernelspec": {
   "display_name": "",
   "name": ""
  },
  "language_info": {
   "name": ""
  }
 },
 "nbformat": 4,
 "nbformat_minor": 5
}
