{
 "cells": [
  {
   "cell_type": "markdown",
   "id": "8ab7cb33-25c9-45f0-9692-394d75b3af12",
   "metadata": {},
   "source": [
    "# Gauss-Jordanの消去法\n",
    "\n",
    "**ガウスの消去法** （Gauss elimination）、 **ガウス＝ジョルダンの消去法** （Gauss-Jordan elimination）、あるいは **掃き出し法** と呼ばれる方法。"
   ]
  },
  {
   "cell_type": "markdown",
   "id": "392c10a7-3210-43dc-94e5-7c42b382a948",
   "metadata": {},
   "source": [
    "$n$ 個の未知数 $x_j(j=1, \\cdots, n)$ と $n$ 個の方程式からなる連立 1 次方程式\n",
    "\n",
    "$$\n",
    "\\sum_{j=1}^n a_{i j} x_j=b_i \\quad(i=1, \\cdots, n)\n",
    "$$\n",
    "\n",
    "について考える。"
   ]
  },
  {
   "cell_type": "markdown",
   "id": "ea36d9c4-afcf-49dc-a8d1-43d98e6c97cd",
   "metadata": {},
   "source": [
    "連立1次方程式を\n",
    "\n",
    "$$\n",
    "% 太字のalias\n",
    "\\newcommand{\\b}[1]{\\boldsymbol{#1}}\n",
    "% 演算子の定義\n",
    "\\DeclareMathOperator{\\im}{ \\text{Im} }\n",
    "\\DeclareMathOperator{\\rank}{ \\text{rank} }\n",
    "\\DeclareMathOperator{\\span}{ \\text{Span} }\n",
    "\\DeclareMathOperator{\\Ker}{ \\text{Ker} }\n",
    "%\n",
    "\\begin{align}\n",
    "& a_{11}^{(1)} x_1+a_{12}^{(1)} x_2+\\cdots+a_{1 n}^{(1)} x_n=b_1^{(1)}\\\\\n",
    "& a_{21}^{(1)} x_1+a_{22}^{(1)} x_2+\\cdots+a_{2 n}^{(1)} x_n=b_2^{(1)}\\\\\n",
    "&\\quad \\vdots\\\\\n",
    "& a_{n 1}^{(1)} x_1+a_{n 2}^{(1)} x_2+\\cdots+a_{n n}^{(1)} x_n=b_n^{(1)} \\\\\n",
    "\\end{align}\n",
    "$$\n",
    "\n",
    "の形に書く。"
   ]
  },
  {
   "cell_type": "markdown",
   "id": "901ecdfe-2c8c-4e82-850c-a782a6ece32b",
   "metadata": {},
   "source": [
    "Gaussの消去法では、前進消去と後退代入という操作によって方程式を解く。"
   ]
  },
  {
   "cell_type": "markdown",
   "id": "3de9f877-ebcd-4639-a380-aa61930838f5",
   "metadata": {},
   "source": [
    "### 前進消去\n",
    "\n",
    "(1) 1番目の未知数$x_1$に着目し、2~$n$番目の方程式から消去する。\n",
    "\n",
    "$i=2,\\cdots,n$について、$i$番目の式から$1$番目の式の$m_{i1} = a_{i1}^{(1)} / a_{11}^{(1)}$倍を引けばよい（$a_{11}^{(1)}\\neq 0$と仮定しておく）\n",
    "\n",
    "この操作のあとの連立1次方程式は、\n",
    "\n",
    "$$\n",
    "\\begin{align}\n",
    "a_{i j}^{(2)}=a_{i j}^{(1)}-m_{i 1} a_{1 j}^{(1)} & \\quad(i=2, \\cdots, n ; j=2, \\cdots, n) \\\\\n",
    "b_i^{(2)}=b_i^{(1)}-m_{i 1} b_1^{(1)} & \\quad (i=2, \\cdots, n)\n",
    "\\end{align}\n",
    "$$\n",
    "\n",
    "とおくと、\n",
    "\n",
    "\n",
    "$$\n",
    "\\begin{aligned}\n",
    "a_{11}^{(1)} x_1+a_{12}^{(1)} x_2+\\cdots+a_{1 n}^{(1)} x_n=b_1^{(1)}&\\\\\n",
    "a_{22}^{(2)} x_2+\\cdots+a_{2 n}^{(2)} x_n=b_2^{(2)}&\\\\\n",
    "\\vdots \\quad &\\\\\n",
    "a_{n 2}^{(2)} x_2+\\cdots+a_{n n}^{(2)} x_n=b_n^{(2)}&\\\\\n",
    "\\end{aligned}\n",
    "$$\n",
    "\n",
    "となる。\n",
    "\n",
    "\n",
    "この消去操作において着目した行列要素の位置 $(1,1)$を **枢軸** （pivot）、その要素$a_{11}^{(1)}$を **枢軸要素** 、 $m_{i1}$を **乗数** と呼ぶ。"
   ]
  },
  {
   "cell_type": "markdown",
   "id": "3ba5bccd-10ff-4564-a620-9a443937025a",
   "metadata": {},
   "source": [
    "(2) 2番目の未知数$x_2$に着目し、3~$n$番目の方程式から消去する。\n",
    "\n",
    "以下、このような操作を$n-1$回まで繰り返す。そして以下を得る\n",
    "\n",
    "$$\n",
    "\\begin{aligned}\n",
    "a_{11}^{(1)} x_1+a_{12}^{(1)} x_2+a_{13}^{(1)} x_3+\\cdots+a_{1 n}^{(1)} x_n =b_1^{(1)}&\\\\\n",
    "a_{22}^{(2)} x_2+a_{23}^{(2)} x_3+\\cdots+a_{2 n}^{(2)} x_n=b_2^{(2)}&\\\\\n",
    "a_{33}^{(3)} x_3+\\cdots+a_{3 n}^{(3)} x_n=b_3^{(3)}&\\\\\n",
    "\\ddots \\quad \\quad \\vdots \\quad \\quad \\vdots \\quad&\\\\\n",
    "a_{n n}^{(n)} x_n=b_n^{(n)} &\\\\\n",
    "\\end{aligned}\n",
    "$$\n",
    "\n",
    "ただし、$a_{11}^{(1)} \\neq 0, \\quad a_{22}^{(2)} \\neq 0, \\quad \\cdots, \\quad a_{n n}^{(n)} \\neq 0$と仮定している。"
   ]
  },
  {
   "cell_type": "markdown",
   "id": "4a03f42a-b183-48d6-a898-24a560ba82c3",
   "metadata": {},
   "source": [
    "### 後退代入\n",
    "\n",
    "$x_n$については、\n",
    "\n",
    "$$\n",
    "a_{n n}^{(n)} x_n=b_n^{(n)}\n",
    "$$\n",
    "\n",
    "なので、\n",
    "\n",
    "$$\n",
    "x_n = \\frac{ b_n^{(n)} }{ a_{n n}^{(n)} }\n",
    "$$\n",
    "\n",
    "として解が求まる。\n",
    "\n",
    "$x_{n-1}$については\n",
    "\n",
    "$$\n",
    "a_{n-1, n-1}^{(n-1)} x_{n-1} + a_{n n}^{(n-1)} x_n = b_{n-1}^{(n-1)}\n",
    "$$\n",
    "\n",
    "となっているので\n",
    "\n",
    "$$\n",
    "x_{n-1} = \\frac{1}{a_{n-1, n-1}^{(n-1)}} (b_{n-1}^{(n-1)} -  a_{n n}^{(n-1)} x_n )\n",
    "$$\n",
    "\n",
    "として解が求まる。\n",
    "\n",
    "これを一般化すると、解は\n",
    "\n",
    "$$\n",
    "x_i=\\frac{1}{a_{i i}^{(i)}}\\left(b_i^{(i)}-\\sum_{j=i+1}^n a_{i j}^{(i)} x_j\\right) \\quad(i=n, n-1, \\cdots, 1)\n",
    "$$\n",
    "\n",
    "によって求まる。これを **後退代入** と呼ぶ。\n",
    "\n"
   ]
  },
  {
   "cell_type": "code",
   "execution_count": 124,
   "id": "09f2adad-bea6-4134-961f-ee8b84451f45",
   "metadata": {},
   "outputs": [],
   "source": [
    "# データの作成\n",
    "import numpy as np\n",
    "\n",
    "A = np.array([\n",
    "    [1,2,3],\n",
    "    [4,5,6],\n",
    "    [7,8,0],\n",
    "])\n",
    "x_true = np.array([1, 2, 3])\n",
    "b = A @ x_true"
   ]
  },
  {
   "cell_type": "code",
   "execution_count": 129,
   "id": "d7020911-2a03-48be-a047-cc50b6cab0a7",
   "metadata": {},
   "outputs": [
    {
     "name": "stdout",
     "output_type": "stream",
     "text": [
      "A=array([[-1.0000e-03,  6.0000e+00],\n",
      "       [ 0.0000e+00,  1.8005e+04]])\n",
      "b=array([6.0010e+00, 1.8005e+04])\n"
     ]
    }
   ],
   "source": [
    "def forward_elimination(A, b):\n",
    "    # 前進消去\n",
    "    n = len(b)\n",
    "    for k in range(n):\n",
    "        for i in range(k + 1, n):\n",
    "            m = A[i,k] / A[k,k]\n",
    "            # numpyのベクトル演算に頼っているが、本来はここもA[i,]の各j要素にわたってfor j in range(n)が必要 → 計算量はO(n^3)\n",
    "            A[i,k:] = A[i,k:] - m * A[k,k:]\n",
    "            b[i] = b[i] - m * b[k]\n",
    "            # print(f\"{i=}, {j=}, {m=}\")\n",
    "            # print(A)\n",
    "    return A, b\n",
    "\n",
    "A, b = forward_elimination(A, b)\n",
    "print(f\"{A=}\")\n",
    "print(f\"{b=}\")\n"
   ]
  },
  {
   "cell_type": "code",
   "execution_count": 126,
   "id": "d47e92bc-8cc9-4363-a603-34e1372ec230",
   "metadata": {
    "editable": true,
    "slideshow": {
     "slide_type": ""
    },
    "tags": []
   },
   "outputs": [
    {
     "name": "stdout",
     "output_type": "stream",
     "text": [
      "x=array([1., 2., 3.])\n"
     ]
    }
   ],
   "source": [
    "def backward_substitution(A, b):\n",
    "    # 後退代入\n",
    "    n = len(b)\n",
    "    x = np.zeros(shape=(n,))\n",
    "    for i in range(n-1, -1, -1):\n",
    "        x[i] = (1 / A[i,i]) * (b[i] - A[i,i+1:] @ x[i+1:])\n",
    "    return x\n",
    "\n",
    "x = backward_substitution(A, b)\n",
    "print(f\"{x=}\")"
   ]
  },
  {
   "cell_type": "markdown",
   "id": "61e3d8c8-4b38-446a-9be3-fa1f6060b52c",
   "metadata": {},
   "source": [
    "## 消去法が使える行列\n",
    "\n",
    "以下の条件のいずれかを満たす行列$A$は、$a_{11}^{(1)} \\neq 0, \\quad a_{22}^{(2)} \\neq 0, \\quad \\cdots, \\quad a_{n n}^{(n)} \\neq 0$を満たし、消去法が適用可能\n",
    "\n",
    "1. 行方向に一般化狭義優対角.\n",
    "2. 列方向に一般化狭義優対角.\n",
    "3. (正則な) $\\mathrm{M}$ 行列.\n",
    "4. 対称部分が正定値: $\\boldsymbol{x}^{\\top} A \\boldsymbol{x}=\\frac{1}{2} \\boldsymbol{x}^{\\top}\\left(A+A^{\\top}\\right) \\boldsymbol{x}>0 \\quad(\\forall \\boldsymbol{x} \\neq \\mathbf{0})$.\n",
    "\n"
   ]
  },
  {
   "cell_type": "markdown",
   "id": "bdd9d1e1-4f3a-4039-a52f-3e3cc7967f2c",
   "metadata": {},
   "source": [
    ":::{admonition} 一般化狭義優対角行列\n",
    ":class: info\n",
    "\n",
    "各行において, 対角要素の絶対値が非対角要素の絶対値の和に比べて大きい 行列, すなわち,\n",
    "\n",
    "$$\n",
    "\\left|a_{i i}\\right| \\geq \\sum_{j \\neq i}\\left|a_{i j}\\right|\n",
    ", \\quad (1 \\leq i \\leq n)\n",
    "$$\n",
    "\n",
    "を満たす行列 $A$ を(行方向の) **狭義優対角行列** と呼ぶ.\n",
    "\n",
    "また、正の実数$d_1, \\cdots, d_n$ に対して\n",
    "\n",
    "$$\n",
    "\\left|a_{i i}\\right| d_i>\\sum_{j \\neq i}\\left|a_{i j}\\right| d_j \\quad(i=1, \\cdots, n)\n",
    "$$\n",
    "\n",
    "が成り立つとき， $A$ を(行方向の) **一般化狭義優対角行列** と呼ぶ\n",
    ":::"
   ]
  },
  {
   "cell_type": "markdown",
   "id": "e5466d1a-1a9f-4352-a9d2-96a5988f4df7",
   "metadata": {},
   "source": [
    ":::{admonition} M行列\n",
    ":class: info\n",
    "\n",
    "正則な実行列$A=(a_{ij})$について、非対角要素がすべて非正$a_{ij} \\leq 0 (i \\neq j)$であり、逆行列$A^{-1}$が非負行列（各要素が非負の実数である行列）であるとき、$A$を **M行列** と呼ぶ。\n",
    ":::"
   ]
  },
  {
   "cell_type": "markdown",
   "id": "c9d9b0f5-bd8f-423f-9e52-21bf6a8cb4b9",
   "metadata": {},
   "source": [
    "## 枢軸選択\n",
    "\n",
    "枢軸要素$a_{kk}^{(k)}$が0になると次の段に進めなくなるし、0に近い値だと誤差の拡大が起きて精度の良い解が得られない。\n",
    "\n",
    "第$k$段の消去の前に、$k$番目以降の方程式を入れ替えて、枢軸要素の絶対値$|a_{kk}^{(k)}|$がそれより下の位置にある要素の絶対値$|a_{ik}^{(k)}| (k\\leq i \\leq n)$の中で最大になるようにすることができる。この操作を **枢軸選択** （pivoting） あるいは **部分枢軸選択** （partial pivoting） と呼ぶ。\n",
    "\n"
   ]
  },
  {
   "cell_type": "code",
   "execution_count": 127,
   "id": "3594c6cd-5b22-4810-84ad-141a13ab747a",
   "metadata": {},
   "outputs": [
    {
     "name": "stdout",
     "output_type": "stream",
     "text": [
      "b=array([6.001, 2.   ])\n"
     ]
    }
   ],
   "source": [
    "import numpy as np\n",
    "\n",
    "A = np.array([\n",
    "    [-0.001, 6],\n",
    "    [3, 5],\n",
    "])\n",
    "x_true = np.array([-1, 1])\n",
    "b = A @ x_true\n",
    "print(f\"{b=}\")"
   ]
  },
  {
   "cell_type": "code",
   "execution_count": 128,
   "id": "36dc3b05-d291-45cc-ae1c-fc8554f866b8",
   "metadata": {},
   "outputs": [
    {
     "name": "stdout",
     "output_type": "stream",
     "text": [
      "A=array([[-1.0000e-03,  6.0000e+00],\n",
      "       [ 0.0000e+00,  1.8005e+04]])\n",
      "b=array([6.0010e+00, 1.8005e+04])\n",
      "x=array([-1.,  1.])\n"
     ]
    }
   ],
   "source": [
    "A, b = forward_elimination(A, b)\n",
    "print(f\"{A=}\")\n",
    "print(f\"{b=}\")\n",
    "\n",
    "x = backward_substitution(A, b)\n",
    "print(f\"{x=}\")"
   ]
  },
  {
   "cell_type": "markdown",
   "id": "ecf7d73e-980c-4109-b3fe-793b0da39e3b",
   "metadata": {
    "editable": true,
    "slideshow": {
     "slide_type": ""
    },
    "tags": []
   },
   "source": [
    "## スケーリング\n",
    "\n",
    "各方程式にゼロでない定数を掛けることをスケーリングと呼ぶ。\n",
    "\n",
    "数学的には解は不変のはずだが、枢軸選択の結果はスケーリングに依存してしまう問題がある。"
   ]
  },
  {
   "cell_type": "code",
   "execution_count": null,
   "id": "93607615-ff0f-4776-84d1-4f86114608c0",
   "metadata": {},
   "outputs": [],
   "source": []
  }
 ],
 "metadata": {
  "kernelspec": {
   "display_name": "Python 3 (ipykernel)",
   "language": "python",
   "name": "python3"
  },
  "language_info": {
   "codemirror_mode": {
    "name": "ipython",
    "version": 3
   },
   "file_extension": ".py",
   "mimetype": "text/x-python",
   "name": "python",
   "nbconvert_exporter": "python",
   "pygments_lexer": "ipython3",
   "version": "3.9.18"
  }
 },
 "nbformat": 4,
 "nbformat_minor": 5
}
