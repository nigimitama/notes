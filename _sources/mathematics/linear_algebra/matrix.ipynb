{
 "cells": [
  {
   "cell_type": "markdown",
   "id": "9d0e5faf-dbd5-416a-aeba-68c9a00e3ebc",
   "metadata": {},
   "source": [
    "# 行列\n",
    "\n",
    "行列はベクトルを集めたもの\n",
    "\n",
    "$$\n",
    "A =\n",
    "\\begin{pmatrix}\n",
    "    a_{11} & a_{12}\\\\\n",
    "    a_{21} & a_{22}\n",
    "\\end{pmatrix}\n",
    "$$\n",
    "\n",
    "\n",
    "$$\n",
    "% 太字のalias\n",
    "\\newcommand{\\b}[1]{\\boldsymbol{#1}}\n",
    "%\n",
    "\\DeclareMathOperator{\\Ker}{\\text{Ker}}\n",
    "\\DeclareMathOperator{\\Im}{\\text{Im}}\n",
    "\\DeclareMathOperator{\\dim}{\\text{dim}}\n",
    "\\DeclareMathOperator{\\rank}{\\text{rank}}\n",
    "%\n",
    "$$"
   ]
  },
  {
   "cell_type": "code",
   "execution_count": 1,
   "id": "7921170e-6292-49e1-945b-f8684eddb004",
   "metadata": {},
   "outputs": [],
   "source": [
    "import numpy as np\n",
    "import matplotlib.pyplot as plt\n",
    "import matplotlib as mpl\n",
    "import japanize_matplotlib"
   ]
  },
  {
   "cell_type": "markdown",
   "id": "ba6d5651-5dd7-4c5c-8e44-211b5934d7d1",
   "metadata": {},
   "source": [
    "## 行列積\n",
    "\n",
    "$$\n",
    "A =\n",
    "\\begin{pmatrix}\n",
    "    a_{11} & a_{12}\\\\\n",
    "    a_{21} & a_{22}\n",
    "\\end{pmatrix}, \\\n",
    "B =\n",
    "\\begin{pmatrix}\n",
    "    b_{11} & b_{12}\\\\\n",
    "    b_{21} & b_{22}\n",
    "\\end{pmatrix}\n",
    "$$\n",
    "\n",
    "とすると、行列積（matrix multiplication）は\n",
    "\n",
    "$$\n",
    "A B = \n",
    "\\begin{pmatrix}\n",
    "    a_{11} & a_{12}\\\\\n",
    "    a_{21} & a_{22}\n",
    "\\end{pmatrix}\n",
    "\\begin{pmatrix}\n",
    "    b_{11} & b_{12}\\\\\n",
    "    b_{21} & b_{22}\n",
    "\\end{pmatrix}\n",
    "=\n",
    "\\begin{pmatrix}\n",
    "    a_{11} b_{11} + a_{12} b_{21} & a_{11} b_{12} + a_{12} b_{22} \\\\\n",
    "    a_{21} b_{11} + a_{22} b_{21} & a_{21} b_{12} + a_{22} b_{22}\n",
    "\\end{pmatrix}\n",
    "$$"
   ]
  },
  {
   "cell_type": "markdown",
   "id": "158b8c48-65cc-4812-a10c-d7f7e1799706",
   "metadata": {},
   "source": [
    "### ベクトルの直積との関係\n",
    "\n",
    "2つのベクトル$\\boldsymbol{a}, \\boldsymbol{b}$のテンソル積\n",
    "\n",
    "$$\n",
    "\\boldsymbol{a} \\circ \\boldsymbol{b}\n",
    "= \\boldsymbol{a} \\otimes \\boldsymbol{b}\n",
    "= \\boldsymbol{a} \\boldsymbol{b}^T\n",
    "= \\begin{pmatrix}\n",
    "a_1 \\\\ a_2 \\\\ \\vdots \\\\ a_n\n",
    "\\end{pmatrix}\n",
    "\\begin{pmatrix}\n",
    "b_1 & b_2 & \\cdots & b_n\n",
    "\\end{pmatrix}\n",
    "= \\begin{pmatrix}\n",
    "    a_1 b_1 & a_1 b_2 & \\cdots & a_1 b_n\\\\\n",
    "    a_2 b_1 & a_2 b_2 & \\cdots & a_2 b_n\\\\\n",
    "    \\vdots  & \\vdots  & \\ddots & \\vdots \\\\\n",
    "    a_n b_1 & a_n b_2 & \\cdots & a_n b_n\n",
    "\\end{pmatrix}\n",
    "$$\n",
    "\n",
    "を**直積**（direct product）あるいは**外積**（outer product）という。"
   ]
  },
  {
   "cell_type": "markdown",
   "id": "e3372983-e625-4aca-849d-cead3a7b0664",
   "metadata": {
    "jp-MarkdownHeadingCollapsed": true,
    "tags": []
   },
   "source": [
    ":::{card} 行列積と直積の関係\n",
    "\n",
    "行列$A, B$の$i$番目の列ベクトルを$\\boldsymbol{a}_i, \\boldsymbol{b}_i$とし、行ベクトルを$\\boldsymbol{a}_i^T, \\boldsymbol{b}_i^T$とする。このとき、\n",
    "\n",
    "$$\n",
    "A^T B = \\sum^n_{i=1} \\boldsymbol{a}_i \\boldsymbol{b}_i^T\n",
    "$$\n",
    "\n",
    "が成り立つ。この形式は計量経済学（回帰分析）の漸近正規性の証明などで多用される。\n",
    ":::\n",
    "\n",
    "（例）$A, B \\in \\mathbb{R}^{2\\times 2}$のとき、\n",
    "\n",
    "$$\n",
    "\\begin{align}\n",
    "A^T B &= \n",
    "\\begin{pmatrix}\n",
    "    a_{11} & a_{21}\\\\\n",
    "    a_{12} & a_{22}\n",
    "\\end{pmatrix}\n",
    "\\begin{pmatrix}\n",
    "    b_{11} & b_{12}\\\\\n",
    "    b_{21} & b_{22}\n",
    "\\end{pmatrix}\n",
    "\\\\\n",
    "&= \n",
    "\\begin{pmatrix}\n",
    "   a_{11} b_{11} + a_{21} b_{21} & a_{11} b_{12} + a_{21} b_{22}\\\\\n",
    "   a_{12} b_{11} + a_{22} b_{21} & a_{12} b_{12} + a_{22} b_{22}\\\\\n",
    "\\end{pmatrix}\n",
    "\\end{align}\n",
    "$$\n",
    "\n",
    "であり、\n",
    "\n",
    "$$\n",
    "a_1\n",
    "= \\begin{pmatrix}\n",
    "    a_{11} \\\\\n",
    "    a_{12} \n",
    "\\end{pmatrix}\n",
    ", \\hspace{1em}\n",
    "b_1^T = \n",
    "\\begin{pmatrix}\n",
    "    b_{11} & b_{12}\\\\\n",
    "\\end{pmatrix}\n",
    "$$\n",
    "\n",
    "から\n",
    "\n",
    "$$\n",
    "\\begin{align}\n",
    "\\sum^2_{i=1} \\boldsymbol{a}_i \\boldsymbol{b}_i^T\n",
    "&= \\begin{pmatrix}\n",
    "    a_{11} \\\\\n",
    "    a_{12}\n",
    "\\end{pmatrix}\n",
    "\\begin{pmatrix}\n",
    "    b_{11} & b_{12}\n",
    "\\end{pmatrix}\n",
    "+ \\begin{pmatrix}\n",
    "    a_{21} \\\\\n",
    "    a_{22}\n",
    "\\end{pmatrix}\n",
    "\\begin{pmatrix}\n",
    "    b_{21} & b_{22}\n",
    "\\end{pmatrix}\n",
    "\\\\\n",
    "&= \\begin{pmatrix}\n",
    "    a_{11} b_{11} & a_{11} b_{12}\\\\\n",
    "    a_{12} b_{11} & a_{12} b_{12}\n",
    "\\end{pmatrix}\n",
    "+ \\begin{pmatrix}\n",
    "    a_{21} b_{21} & a_{21} b_{22}\\\\\n",
    "    a_{22} b_{21} & a_{22} b_{22}\n",
    "\\end{pmatrix}\n",
    "\\end{align}\n",
    "$$\n",
    "\n",
    "であるため。"
   ]
  },
  {
   "cell_type": "markdown",
   "id": "94deffea-e559-4f7a-b15e-e10758c4337d",
   "metadata": {
    "jp-MarkdownHeadingCollapsed": true,
    "tags": []
   },
   "source": [
    ":::{card} 行列積との関係\n",
    "\n",
    "行列の一部をベクトルで表して（＝ブロック行列）、通常の行列積の定義をベクトルの積の形で表すこともできる\n",
    "\n",
    "$n$次元正方行列$A, B$の$i$番目の列ベクトルを$\\boldsymbol{a}_i, \\boldsymbol{b}_i$とし、行ベクトルを$\\boldsymbol{a}_i^T, \\boldsymbol{b}_i^T$とする。このとき、\n",
    "\n",
    "$$\n",
    "\\begin{align}\n",
    "BA &= \n",
    "\\begin{pmatrix}\n",
    "    \\boldsymbol{b}_{1}^T \\\\\n",
    "    \\boldsymbol{b}_{2}^T \\\\\n",
    "    \\vdots \\\\\n",
    "    \\boldsymbol{b}_{n}^T\n",
    "\\end{pmatrix}\n",
    "\\begin{pmatrix}\n",
    "    \\boldsymbol{a}_1, \\boldsymbol{a}_2, \\cdots, \\boldsymbol{a}_n\n",
    "\\end{pmatrix}\n",
    "=\n",
    "\\begin{pmatrix}\n",
    "    \\boldsymbol{b}_{1}^T \\boldsymbol{a}_1 & \\boldsymbol{b}_{1}^T \\boldsymbol{a}_2 & \\cdots & \\boldsymbol{b}_{1}^T \\boldsymbol{a}_n\\\\\n",
    "    \\boldsymbol{b}_{2}^T \\boldsymbol{a}_1 & \\boldsymbol{b}_{2}^T \\boldsymbol{a}_2 & \\cdots & \\boldsymbol{b}_{2}^T \\boldsymbol{a}_n\\\\\n",
    "    \\vdots & \\vdots & & \\vdots\\\\\n",
    "    \\boldsymbol{b}_{n}^T \\boldsymbol{a}_1 & \\boldsymbol{b}_{n}^T \\boldsymbol{a}_2 & \\cdots & \\boldsymbol{b}_{n}^T \\boldsymbol{a}_n\\\\\n",
    "\\end{pmatrix}\n",
    "\\end{align}\n",
    "$$\n",
    ":::"
   ]
  },
  {
   "cell_type": "code",
   "execution_count": 14,
   "id": "68e64c98-7309-4eec-83fb-a574afaced50",
   "metadata": {},
   "outputs": [],
   "source": [
    "import numpy as np\n",
    "\n",
    "A = np.array([\n",
    "    [1, 2],\n",
    "    [3, 4],\n",
    "])"
   ]
  },
  {
   "cell_type": "code",
   "execution_count": 16,
   "id": "f36145f0-4e67-46b0-b44c-63de6598cdc1",
   "metadata": {},
   "outputs": [
    {
     "data": {
      "text/plain": [
       "array([[10, 14],\n",
       "       [14, 20]])"
      ]
     },
     "execution_count": 16,
     "metadata": {},
     "output_type": "execute_result"
    }
   ],
   "source": [
    "(A.T @ A).T"
   ]
  },
  {
   "cell_type": "markdown",
   "id": "3ff3f2ff-ca41-4dcb-8dad-61f035881f13",
   "metadata": {},
   "source": [
    "## 行列と写像\n",
    "\n",
    "> 行列は写像である\n",
    ">\n",
    "> （平岡和幸, & 堀玄. (2004). プログラミングのための線形代数. 株式会社 オーム社.）\n",
    "\n",
    "例：ベクトル$x$に行列$A$を掛けて$y$とする\n",
    "\n",
    "$$\n",
    "y = A x\n",
    "$$\n",
    "\n",
    "$x$を$y$に写す写像（≒関数）が行列$A$\n"
   ]
  },
  {
   "cell_type": "markdown",
   "id": "c854d1d3-a159-4be0-8393-20a258713050",
   "metadata": {},
   "source": [
    "連立一次方程式を行列で表すこともできる。\n",
    "\n",
    "$$\n",
    "\\begin{cases}\n",
    "\\begin{align}\n",
    "a_{11} x_1 + a_{12} x_2 + &\\cdots + a_{1m} x_m = y_1\\\\\n",
    "a_{21} x_1 + a_{22} x_2 + &\\cdots + a_{2m} x_m = y_2\\\\\n",
    "&\\vdots\\\\\n",
    "a_{n1} x_1 + a_{n2} x_2 + &\\cdots + a_{nm} x_m = y_n\\\\\n",
    "\\end{align}\n",
    "\\end{cases}\n",
    "$$\n",
    "\n",
    "のような連立一次方程式は、\n",
    "\n",
    "$$\n",
    "A = \\begin{pmatrix}\n",
    "a_{11} & a_{12} & \\cdots & a_{1m} \\\\\n",
    "a_{21} & a_{22} & \\cdots & a_{2m} \\\\\n",
    "\\vdots & \\vdots & \\ddots & \\vdots \\\\\n",
    "a_{n1} & a_{n2} & \\cdots & a_{nm} \\\\\n",
    "\\end{pmatrix}\n",
    ", \\hspace{1em}\n",
    "\\b{x} = \\begin{pmatrix}\n",
    "x_1\\\\\n",
    "x_2\\\\\n",
    "\\vdots\\\\\n",
    "x_m\n",
    "\\end{pmatrix}\n",
    ", \\hspace{1em}\n",
    "\\b{y} = \\begin{pmatrix}\n",
    "y_1\\\\\n",
    "y_2\\\\\n",
    "\\vdots\\\\\n",
    "y_n\n",
    "\\end{pmatrix}\n",
    "$$\n",
    "\n",
    "を用いて\n",
    "\n",
    "$$\n",
    "A\\b{x} = \\b{y}\n",
    "$$\n",
    "\n",
    "と表すことができる。"
   ]
  },
  {
   "cell_type": "markdown",
   "id": "0dab0672-a5c3-48fd-aabc-7f28d3c92727",
   "metadata": {},
   "source": [
    "## 行列の計算規則"
   ]
  },
  {
   "cell_type": "markdown",
   "id": "f241ba14-cfc8-42e8-b351-8eb194b4e1d8",
   "metadata": {},
   "source": [
    "### 行列の和\n",
    "\n",
    "$$\n",
    "A(B+C) = AB + AC\n",
    "$$"
   ]
  },
  {
   "cell_type": "code",
   "execution_count": 11,
   "id": "97db5898-3a61-4a12-b91a-41a94b727556",
   "metadata": {},
   "outputs": [],
   "source": [
    "import numpy as np\n",
    "A = np.array([\n",
    "    [1, 0],\n",
    "    [0, 0]\n",
    "])\n",
    "B = np.array([\n",
    "    [2, 0],\n",
    "    [0, 3]\n",
    "])\n",
    "C = np.array([\n",
    "    [0, -1],\n",
    "    [-1, 0]\n",
    "])"
   ]
  },
  {
   "cell_type": "code",
   "execution_count": 12,
   "id": "f9904305-ca35-4a45-a214-40d19476fd7c",
   "metadata": {},
   "outputs": [
    {
     "data": {
      "text/plain": [
       "array([[ 2, -1],\n",
       "       [ 0,  0]])"
      ]
     },
     "execution_count": 12,
     "metadata": {},
     "output_type": "execute_result"
    }
   ],
   "source": [
    "A @ (B + C)"
   ]
  },
  {
   "cell_type": "code",
   "execution_count": 13,
   "id": "a295efa4-1b26-40ef-a27a-01c5029633e6",
   "metadata": {},
   "outputs": [
    {
     "data": {
      "text/plain": [
       "array([[ 2, -1],\n",
       "       [ 0,  0]])"
      ]
     },
     "execution_count": 13,
     "metadata": {},
     "output_type": "execute_result"
    }
   ],
   "source": [
    "A @ B + A @ C"
   ]
  },
  {
   "cell_type": "markdown",
   "id": "1bfb3c85-5ccf-4fa0-a6c4-7525aa6c9aad",
   "metadata": {},
   "source": [
    "### べき乗\n",
    "\n",
    "$$\n",
    "\\begin{align}\n",
    "AA &= A^2\\\\\n",
    "AAA &= A^3\n",
    "\\end{align}\n",
    "$$\n",
    "\n",
    "$$\n",
    "\\begin{align}\n",
    "A^{n+m} &= A^n + A^m\\\\\n",
    "(A^n)^m &= A^{nm}\n",
    "\\end{align}\n",
    "$$\n"
   ]
  },
  {
   "cell_type": "markdown",
   "id": "ac34881b-5964-4c77-a29f-5425213253c7",
   "metadata": {},
   "source": [
    ":::{adomonition} 例\n",
    "\n",
    "$$\n",
    "A =\n",
    "\\begin{pmatrix}\n",
    "1 & 0\\\\\n",
    "0 & 0\n",
    "\\end{pmatrix}\n",
    "\\hspace{1em}\n",
    "A^2 = \n",
    "\\begin{pmatrix}\n",
    "1 & 0\\\\\n",
    "0 & 0\n",
    "\\end{pmatrix}\n",
    "\\begin{pmatrix}\n",
    "1 & 0\\\\\n",
    "0 & 0\n",
    "\\end{pmatrix}\n",
    "= \n",
    "\\begin{pmatrix}\n",
    "1 & 0\\\\\n",
    "0 & 0\n",
    "\\end{pmatrix}\n",
    "$$\n",
    "\n",
    "\n",
    "$$\n",
    "B =\n",
    "\\begin{pmatrix}\n",
    "2 & 0\\\\\n",
    "0 & 3\n",
    "\\end{pmatrix}\n",
    "\\hspace{1em}\n",
    "B^2 = \n",
    "\\begin{pmatrix}\n",
    "2 & 0\\\\\n",
    "0 & 3\n",
    "\\end{pmatrix}\n",
    "\\begin{pmatrix}\n",
    "2 & 0\\\\\n",
    "0 & 3\n",
    "\\end{pmatrix}\n",
    "= \n",
    "\\begin{pmatrix}\n",
    "4 & 0\\\\\n",
    "0 & 9\n",
    "\\end{pmatrix}\n",
    "$$\n",
    ":::"
   ]
  },
  {
   "cell_type": "markdown",
   "id": "51f8acf5-92c6-4e79-8c4e-96939a0280ab",
   "metadata": {},
   "source": [
    "#### 普通の数取は異なる計算規則\n",
    "\n",
    "$$\n",
    "\\begin{align}\n",
    "(A + B)^2 &= A^2 + AB + BA + B^2\\\\\n",
    "(A + B) (A - B) &= A^2 - AB + BA - B^2\\\\\n",
    "(AB)^2 &= ABAB\n",
    "\\end{align}\n",
    "$$\n"
   ]
  },
  {
   "cell_type": "markdown",
   "id": "8e0abc6c-93b8-4c57-8538-c6016e1e87cd",
   "metadata": {},
   "source": [
    ":::{adomonition} 例\n",
    "\n",
    "$$\n",
    "A =\n",
    "\\begin{pmatrix}\n",
    "1 & 0\\\\\n",
    "0 & 0\n",
    "\\end{pmatrix}\n",
    "\\hspace{1em}\n",
    "B =\n",
    "\\begin{pmatrix}\n",
    "2 & 0\\\\\n",
    "0 & 3\n",
    "\\end{pmatrix}\n",
    "$$\n",
    "\n",
    "$$\n",
    "\\begin{align}\n",
    "AB &=\n",
    "\\begin{pmatrix}\n",
    "1 & 0\\\\\n",
    "0 & 0\n",
    "\\end{pmatrix}\n",
    "\\begin{pmatrix}\n",
    "2 & 0\\\\\n",
    "0 & 3\n",
    "\\end{pmatrix}\n",
    "=\n",
    "\\begin{pmatrix}\n",
    "2 & 0\\\\\n",
    "0 & 0\n",
    "\\end{pmatrix}\n",
    "\\\\\n",
    "(AB)^2 &= \n",
    "\\begin{pmatrix}\n",
    "4 & 0\\\\\n",
    "0 & 0\n",
    "\\end{pmatrix}\n",
    "\\end{align}\n",
    "$$\n",
    ":::"
   ]
  },
  {
   "cell_type": "markdown",
   "id": "fe54738d-2b50-492c-9443-b4a74188d6b2",
   "metadata": {},
   "source": [
    "### 左右を入れ替えなければどこにカッコをつけてもおなじ\n",
    "\n",
    "例えばベクトル$\\boldsymbol{x} = (x_1, x_2, \\dots, x_n)$について、$\\boldsymbol{x} \\boldsymbol{x}^T \\boldsymbol{x}$は$(\\boldsymbol{x} \\boldsymbol{x}^T) \\boldsymbol{x}$と捉えるより$\\boldsymbol{x} (\\boldsymbol{x}^T \\boldsymbol{x})$としたほうが楽\n",
    "\n",
    "$$\n",
    "(\\boldsymbol{x} \\boldsymbol{x}^T) \\boldsymbol{x}\n",
    "= \n",
    "\\begin{pmatrix}\n",
    "x_1^2 & x_1 x_2 & \\cdots & x_1 x_n\\\\\n",
    "x_2 x_1 & x_2^2 & \\cdots & x_2 x_n\\\\\n",
    "\\vdots & \\vdots & & \\vdots\\\\\n",
    "x_n x_1 & x_n x_2 & \\cdots & x_n^2\n",
    "\\end{pmatrix}\n",
    "\\begin{pmatrix}\n",
    "x_1\\\\\n",
    "x_2\\\\\n",
    "\\vdots\\\\\n",
    "x_n\n",
    "\\end{pmatrix}\n",
    "= \n",
    "\\begin{pmatrix}\n",
    "x_1^2 \\cdot x_1 + x_1 x_2 \\cdot x_2 + \\cdots + x_1 x_n \\cdot x_n\\\\\n",
    "x_2 x_1 \\cdot x_1 + x_2^2 \\cdot x_2 + \\cdots + x_2 x_n \\cdot x_n\\\\\n",
    "\\vdots\\\\\n",
    "x_n x_1 \\cdot x_1 + x_n x_2 \\cdot x_2 + \\cdots + x_n^2 \\cdot x_n\n",
    "\\end{pmatrix}\n",
    "=\n",
    "\\begin{pmatrix}\n",
    "x_1\\\\\n",
    "x_2\\\\\n",
    "\\vdots\\\\\n",
    "x_n\n",
    "\\end{pmatrix}\n",
    "\\sum^n_{i=1} x_i^2\n",
    "$$\n",
    "\n",
    "$$\n",
    "\\boldsymbol{x} (\\boldsymbol{x}^T \\boldsymbol{x})\n",
    "= \n",
    "\\begin{pmatrix}\n",
    "x_1\\\\\n",
    "x_2\\\\\n",
    "\\vdots\\\\\n",
    "x_n\n",
    "\\end{pmatrix}\n",
    "\\sum^n_{i=1} x_i^2\n",
    "$$"
   ]
  },
  {
   "cell_type": "markdown",
   "id": "2c68610b-35be-4d5f-8ec2-96720e73f858",
   "metadata": {},
   "source": [
    "## 行列の転置"
   ]
  },
  {
   "cell_type": "markdown",
   "id": "313e7adb-06c0-4166-8686-c034f1e5bf90",
   "metadata": {},
   "source": [
    ":::{admonition} 行列の転置の性質\n",
    "\n",
    "1. $(A^T)^T = A$\n",
    "2. $(cA + dB)^T = cA^T + dB^T$\n",
    "3. $(AB)^T = B^T A^T$\n",
    "4. $(A^T)^{-1} = (A^{-1})^T$\n",
    "5. $|A^T| = |A|$\n",
    "\n",
    ":::"
   ]
  },
  {
   "cell_type": "markdown",
   "id": "d251f5d1-c650-4fc4-a621-5f0e6a7e10d7",
   "metadata": {},
   "source": [
    "### 対称行列\n",
    "\n",
    "$$\n",
    "A^T = A\n",
    "$$\n",
    "\n",
    "を満たす正方行列$A$を**対称行列**（symmetric matrix）という"
   ]
  },
  {
   "cell_type": "markdown",
   "id": "49c6803b-846d-4125-a644-9bed4441c6b7",
   "metadata": {},
   "source": [
    "## 可換\n",
    "\n",
    "$AB = BA$が成り立つとき、$A$と$B$は**可換**であるという"
   ]
  },
  {
   "cell_type": "code",
   "execution_count": 13,
   "id": "3b9a1ab7-63b2-425e-bc4c-2178edf3d002",
   "metadata": {},
   "outputs": [
    {
     "data": {
      "text/plain": [
       "True"
      ]
     },
     "execution_count": 13,
     "metadata": {},
     "output_type": "execute_result"
    }
   ],
   "source": [
    "import numpy as np\n",
    "\n",
    "A = np.array([\n",
    "    [1, 0],\n",
    "    [0, 1]\n",
    "])\n",
    "B = np.array([\n",
    "    [1, 1],\n",
    "    [1, 1]\n",
    "])\n",
    "\n",
    "(A @ B == B @ A).all()"
   ]
  },
  {
   "cell_type": "markdown",
   "id": "17a366ff-97fc-4013-887d-2be447d3704d",
   "metadata": {},
   "source": [
    "## ブロック行列\n",
    "\n",
    "行列をいくつかのブロック（小行列）に分けて扱うことがある\n",
    "\n",
    "$$\n",
    "A=\\left(\\begin{array}{ccccc}\n",
    "1 & 2 & 3 & \\vdots & 4 \\\\\n",
    "5 & 6 & 7 & \\vdots & 8 \\\\\n",
    "\\ldots & \\ldots & \\ldots & \\ldots & \\ldots\\\\\n",
    "9 & 10 & 11 & \\vdots & 12\n",
    "\\end{array}\\right)=\\left(\\begin{array}{ll}\n",
    "A_{11} & A_{12} \\\\\n",
    "A_{21} & A_{22}\n",
    "\\end{array}\\right)\n",
    "$$"
   ]
  },
  {
   "cell_type": "markdown",
   "id": "553102e9-f9d4-40a8-901a-bcf74648dfff",
   "metadata": {},
   "source": [
    "特に行ベクトルや列ベクトルに分けると扱いやすい\n",
    "\n",
    "$$\n",
    "A B=\\left(\\begin{array}{c}\n",
    "\\boldsymbol{a}_1 \\\\\n",
    "\\boldsymbol{a}_2 \\\\\n",
    "\\vdots \\\\\n",
    "\\boldsymbol{a}_m\n",
    "\\end{array}\\right)\\left(\\begin{array}{lll}\n",
    "\\boldsymbol{b}_1^{\\prime} & \\cdots & \\boldsymbol{b}_l{ }^{\\prime}\n",
    "\\end{array}\\right)=\\left(\\begin{array}{cccc}\n",
    "\\boldsymbol{a}_1 \\boldsymbol{b}_1^{\\prime} & \\boldsymbol{a}_1 \\boldsymbol{b}_2^{\\prime} & \\cdots & \\boldsymbol{a}_1 \\boldsymbol{b}_\\iota{ }^{\\prime} \\\\\n",
    "\\boldsymbol{a}_2 \\boldsymbol{b}_1^{\\prime} & \\boldsymbol{a}_2 \\boldsymbol{b}_2^{\\prime} & \\cdots & \\boldsymbol{a}_2 \\boldsymbol{b}_l{ }^{\\prime} \\\\\n",
    "\\vdots & \\vdots & & \\vdots \\\\\n",
    "\\boldsymbol{a}_m \\boldsymbol{b}_1^{\\prime} & \\boldsymbol{a}_m \\boldsymbol{b}_2^{\\prime} & \\cdots & \\boldsymbol{a}_m \\boldsymbol{b}_l{ }^{\\prime}\n",
    "\\end{array}\\right)\n",
    "$$\n",
    "\n",
    "$$\n",
    "A B=\\left(\\begin{array}{c}\n",
    "\\boldsymbol{a}_1 \\\\\n",
    "\\boldsymbol{a}_2 \\\\\n",
    "\\vdots \\\\\n",
    "\\boldsymbol{a}_m\n",
    "\\end{array}\\right) B=\\left(\\begin{array}{c}\n",
    "\\boldsymbol{a}_1 B \\\\\n",
    "\\boldsymbol{a}_2 B \\\\\n",
    "\\vdots \\\\\n",
    "\\boldsymbol{a}_m B\n",
    "\\end{array}\\right)\n",
    "$$\n",
    "\n",
    "$$\n",
    "A B=A\\left(\\begin{array}{llll}\n",
    "\\boldsymbol{b}_1{ }^{\\prime} & \\boldsymbol{b}_2{ }^{\\prime} & \\cdots & \\boldsymbol{b}_l{ }^{\\prime}\n",
    "\\end{array}\\right)=\\left(\\begin{array}{llll}\n",
    "A \\boldsymbol{b}_1{ }^{\\prime} & A \\boldsymbol{b}_2{ }^{\\prime} & \\cdots & A \\boldsymbol{b}_l{ }^{\\prime}\n",
    "\\end{array}\\right)\n",
    "$$\n",
    "\n",
    "$$\n",
    "A B=\\left(\\begin{array}{llll}\n",
    "\\boldsymbol{a}_1^{\\prime} & \\boldsymbol{a}_2^{\\prime} & \\cdots & \\boldsymbol{a}_n{ }^{\\prime}\n",
    "\\end{array}\\right)\\left(\\begin{array}{c}\n",
    "\\boldsymbol{b}_1 \\\\\n",
    "\\boldsymbol{b}_2 \\\\\n",
    "\\vdots \\\\\n",
    "\\boldsymbol{b}_n\n",
    "\\end{array}\\right)=\\left(\\boldsymbol{a}_1^{\\prime} \\boldsymbol{b}_1+\\boldsymbol{a}_2^{\\prime} \\boldsymbol{b}_2+\\cdots+\\boldsymbol{a}_n{ }^{\\prime} \\boldsymbol{b}_n\\right)\n",
    "$$"
   ]
  },
  {
   "cell_type": "markdown",
   "id": "c057773f-b7b6-4af5-aa16-065402b5fb34",
   "metadata": {},
   "source": [
    "### ブロック対角行列\n",
    "\n",
    "$$\n",
    "A =\n",
    "\\begin{pmatrix}\n",
    "    A_1 & O & \\cdots & O\\\\\n",
    "    O & A_2 & \\cdots & O\\\\\n",
    "    \\vdots & \\vdots & \\ddots & \\vdots\\\\\n",
    "    O & O & \\cdots & A_n\n",
    "\\end{pmatrix}\n",
    "$$\n",
    "\n",
    "というブロック行列があったとする。\n",
    "\n",
    "$A_1,A_2,\\dots,A_n$が正方行列であり、対角ブロック以外がゼロになるようにブロック分けできるとき、それを**ブロック対角行列**（block diagonal matrix）と呼ぶ。"
   ]
  },
  {
   "cell_type": "markdown",
   "id": "af2c8624-5a81-4fc1-8b15-df9a66ead4f5",
   "metadata": {},
   "source": [
    "零行列があるブロック行列の積は、対角要素に相当する小行列の計算が簡単になる\n",
    "\n",
    "$A_1, B_1$が$m$次正方行列、$A_2, B_2$が$n$次正方行列のとき、\n",
    "\n",
    "$$\n",
    "\\begin{aligned}\n",
    "\\left(\\begin{array}{ll}\n",
    "A_1 & O \\\\\n",
    "O & A_2\n",
    "\\end{array}\\right)\\left(\\begin{array}{ll}\n",
    "B_1 & O \\\\\n",
    "O & B_2\n",
    "\\end{array}\\right) & =\\left(\\begin{array}{cc}\n",
    "A_1 B_1 & O \\\\\n",
    "O & A_2 B_2\n",
    "\\end{array}\\right)\n",
    "\\\\\n",
    "\\left(\\begin{array}{ll}\n",
    "A_1 & O \\\\\n",
    "* & A_2\n",
    "\\end{array}\\right)\\left(\\begin{array}{ll}\n",
    "B_1 & O \\\\\n",
    "* & B_2\n",
    "\\end{array}\\right) & =\\left(\\begin{array}{cc}\n",
    "A_1 B_1 & O \\\\\n",
    "*' & A_2 B_2\n",
    "\\end{array}\\right)\n",
    "\\\\\n",
    "\\left(\\begin{array}{cc}\n",
    "A_1 & * \\\\\n",
    "O & A_2\n",
    "\\end{array}\\right)\\left(\\begin{array}{ll}\n",
    "B_1 & * \\\\\n",
    "O & B_2\n",
    "\\end{array}\\right) & =\\left(\\begin{array}{cc}\n",
    "A_1 B_1 & *' \\\\\n",
    "O & A_2 B_2\n",
    "\\end{array}\\right)\n",
    "\\end{aligned}\n",
    "$$\n",
    "\n",
    "ここで左辺の$*$はブロックのサイズが合えばなんでもよいことを意味し、右辺の$*'$はそのサイズのある定まった行列を表す（左辺と右辺で$*$の部分が等しいわけではない）"
   ]
  },
  {
   "cell_type": "code",
   "execution_count": 1,
   "id": "ef437f3a-f46b-4f48-a627-48336ce58985",
   "metadata": {},
   "outputs": [
    {
     "data": {
      "text/plain": [
       "array([[ 5,  7,  3,  2],\n",
       "       [11, 15,  3,  5],\n",
       "       [ 0,  0,  6,  1],\n",
       "       [ 0,  0, 10,  1]])"
      ]
     },
     "execution_count": 1,
     "metadata": {},
     "output_type": "execute_result"
    }
   ],
   "source": [
    "import numpy as np\n",
    "np.array([\n",
    "    [1, 2, 1, 0],\n",
    "    [3, 4, 0, 1],\n",
    "    [0, 0, 3, 1],\n",
    "    [0, 0, 5, 1]\n",
    "]) @ np.array([\n",
    "    [1, 1, 1, 0],\n",
    "    [2, 3, 0, 1],\n",
    "    [0, 0, 2, 0],\n",
    "    [0, 0, 0, 1]\n",
    "])"
   ]
  },
  {
   "cell_type": "code",
   "execution_count": 2,
   "id": "9759073a-db55-4b95-ba35-f9fff99a7f18",
   "metadata": {},
   "outputs": [
    {
     "data": {
      "text/plain": [
       "array([[ 5,  7],\n",
       "       [11, 15]])"
      ]
     },
     "execution_count": 2,
     "metadata": {},
     "output_type": "execute_result"
    }
   ],
   "source": [
    "np.array([\n",
    "    [1, 2],\n",
    "    [3, 4],\n",
    "]) @ np.array([\n",
    "    [1, 1],\n",
    "    [2, 3],\n",
    "])"
   ]
  },
  {
   "cell_type": "markdown",
   "id": "9810a570-3925-4e9b-8b31-9c42b7d59969",
   "metadata": {},
   "source": [
    "例：\n",
    "\n",
    "$$\n",
    "M = \n",
    "\\begin{pmatrix}\n",
    "I & A\\\\\n",
    "O & I\n",
    "\\end{pmatrix}\n",
    "$$\n",
    "\n",
    "という行列があるとき、\n",
    "\n",
    "$$\n",
    "M^2 =\n",
    "\\begin{pmatrix}\n",
    "I & A'\\\\\n",
    "O & I\n",
    "\\end{pmatrix}\n",
    "$$\n",
    "\n",
    "この$A'$の部分は$A^2$ではなく$2A$"
   ]
  },
  {
   "cell_type": "code",
   "execution_count": 12,
   "id": "d3cecb49-79ea-4678-a8ee-290678b85d12",
   "metadata": {},
   "outputs": [
    {
     "data": {
      "text/plain": [
       "array([[1, 0, 2, 4],\n",
       "       [0, 1, 6, 8],\n",
       "       [0, 0, 1, 0],\n",
       "       [0, 0, 0, 1]])"
      ]
     },
     "execution_count": 12,
     "metadata": {},
     "output_type": "execute_result"
    }
   ],
   "source": [
    "import numpy as np\n",
    "M = np.array([\n",
    "    [1, 0, 1, 2],\n",
    "    [0, 1, 3, 4],\n",
    "    [0, 0, 1, 0],\n",
    "    [0, 0, 0, 1]\n",
    "])\n",
    "\n",
    "M @ M"
   ]
  },
  {
   "cell_type": "code",
   "execution_count": 10,
   "id": "9c8849ce-ddea-4b57-a921-22f62d44fc3a",
   "metadata": {},
   "outputs": [
    {
     "data": {
      "text/plain": [
       "array([[ 7, 10],\n",
       "       [15, 22]])"
      ]
     },
     "execution_count": 10,
     "metadata": {},
     "output_type": "execute_result"
    }
   ],
   "source": [
    "# A^2\n",
    "A = np.array([\n",
    "    [1, 2],\n",
    "    [3, 4],\n",
    "])\n",
    "A @ A"
   ]
  },
  {
   "cell_type": "code",
   "execution_count": 11,
   "id": "6b3a741d-c7f6-460d-a879-59d096f39d67",
   "metadata": {},
   "outputs": [
    {
     "data": {
      "text/plain": [
       "array([[2, 4],\n",
       "       [6, 8]])"
      ]
     },
     "execution_count": 11,
     "metadata": {},
     "output_type": "execute_result"
    }
   ],
   "source": [
    "2 * A"
   ]
  },
  {
   "cell_type": "code",
   "execution_count": 18,
   "id": "638f00c9-807d-40f2-a5e6-a6e600b47034",
   "metadata": {},
   "outputs": [
    {
     "data": {
      "text/plain": [
       "array([[ 1,  0,  3,  6],\n",
       "       [ 0,  1,  9, 12],\n",
       "       [ 0,  0,  1,  0],\n",
       "       [ 0,  0,  0,  1]])"
      ]
     },
     "execution_count": 18,
     "metadata": {},
     "output_type": "execute_result"
    }
   ],
   "source": [
    "import numpy as np\n",
    "M = np.array([\n",
    "    [1, 0, 1, 2],\n",
    "    [0, 1, 3, 4],\n",
    "    [0, 0, 1, 0],\n",
    "    [0, 0, 0, 1]\n",
    "])\n",
    "\n",
    "M @ M @ M"
   ]
  },
  {
   "cell_type": "code",
   "execution_count": 15,
   "id": "7a331030-452a-47ab-813a-ef6696c23ef4",
   "metadata": {},
   "outputs": [
    {
     "data": {
      "text/plain": [
       "array([[ 1,  0,  0,  2,  4,  6],\n",
       "       [ 0,  1,  0,  8, 10, 12],\n",
       "       [ 0,  0,  1, 14, 16, 18],\n",
       "       [ 0,  0,  0,  1,  0,  0],\n",
       "       [ 0,  0,  0,  0,  1,  0],\n",
       "       [ 0,  0,  0,  0,  0,  1]])"
      ]
     },
     "execution_count": 15,
     "metadata": {},
     "output_type": "execute_result"
    }
   ],
   "source": [
    "import numpy as np\n",
    "M = np.array([\n",
    "    [1, 0, 0, 1, 2, 3],\n",
    "    [0, 1, 0, 4, 5, 6],\n",
    "    [0, 0, 1, 7, 8, 9],\n",
    "    [0, 0, 0, 1, 0, 0],\n",
    "    [0, 0, 0, 0, 1, 0],\n",
    "    [0, 0, 0, 0, 0, 1]\n",
    "])\n",
    "\n",
    "M @ M"
   ]
  },
  {
   "cell_type": "code",
   "execution_count": 3,
   "id": "302e1513-3ac4-4492-9101-42d199e4a38f",
   "metadata": {},
   "outputs": [
    {
     "data": {
      "text/plain": [
       "array([[1, 2, 0, 0],\n",
       "       [3, 4, 0, 0],\n",
       "       [0, 0, 1, 2],\n",
       "       [0, 0, 3, 4]])"
      ]
     },
     "execution_count": 3,
     "metadata": {},
     "output_type": "execute_result"
    }
   ],
   "source": [
    "import numpy as np\n",
    "M = np.array([\n",
    "    [0, 0, 1, 2],\n",
    "    [0, 0, 3, 4],\n",
    "    [1, 0, 0, 0],\n",
    "    [0, 1, 0, 0]\n",
    "])\n",
    "\n",
    "M @ M"
   ]
  },
  {
   "cell_type": "code",
   "execution_count": 5,
   "id": "dd7bfeb6-6a0a-4c16-b34a-1819b82b1d9a",
   "metadata": {},
   "outputs": [
    {
     "data": {
      "text/plain": [
       "array([[-1,  0,  0,  0],\n",
       "       [ 0, -1,  0,  0],\n",
       "       [ 0,  0, -1,  0],\n",
       "       [ 0,  0,  0, -1]])"
      ]
     },
     "execution_count": 5,
     "metadata": {},
     "output_type": "execute_result"
    }
   ],
   "source": [
    "import numpy as np\n",
    "M = np.array([\n",
    "    [0, 0, -1, 0],\n",
    "    [0, 0, 0, 1],\n",
    "    [1, 0, 0, 0],\n",
    "    [0, -1, 0, 0]\n",
    "])\n",
    "\n",
    "M @ M"
   ]
  },
  {
   "cell_type": "code",
   "execution_count": 6,
   "id": "8d9984af-9f1b-49e5-9137-a0e1ee1769cb",
   "metadata": {},
   "outputs": [
    {
     "data": {
      "text/plain": [
       "array([[ 0, -1,  0,  0],\n",
       "       [-1,  0,  0,  0],\n",
       "       [ 0,  0,  0, -1],\n",
       "       [ 0,  0, -1,  0]])"
      ]
     },
     "execution_count": 6,
     "metadata": {},
     "output_type": "execute_result"
    }
   ],
   "source": [
    "import numpy as np\n",
    "M = np.array([\n",
    "    [0, 0, 0, -1],\n",
    "    [0, 0, -1, 0],\n",
    "    [1, 0, 0, 0],\n",
    "    [0, 1, 0, 0]\n",
    "])\n",
    "\n",
    "M @ M"
   ]
  },
  {
   "cell_type": "code",
   "execution_count": null,
   "id": "dd94c626-a609-40a0-bc47-fab032f9f8ef",
   "metadata": {},
   "outputs": [],
   "source": []
  }
 ],
 "metadata": {
  "kernelspec": {
   "display_name": "Python 3 (ipykernel)",
   "language": "python",
   "name": "python3"
  },
  "language_info": {
   "codemirror_mode": {
    "name": "ipython",
    "version": 3
   },
   "file_extension": ".py",
   "mimetype": "text/x-python",
   "name": "python",
   "nbconvert_exporter": "python",
   "pygments_lexer": "ipython3",
   "version": "3.9.18"
  }
 },
 "nbformat": 4,
 "nbformat_minor": 5
}
