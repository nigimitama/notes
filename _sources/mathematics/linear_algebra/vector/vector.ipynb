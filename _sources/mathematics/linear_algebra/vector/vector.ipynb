{
 "cells": [
  {
   "cell_type": "markdown",
   "id": "9cf45c25-9813-481e-9991-5c01ba6f12c4",
   "metadata": {},
   "source": [
    "# ベクトルとベクトル空間"
   ]
  },
  {
   "cell_type": "markdown",
   "id": "fba26b2f-ca5f-431e-911c-50557e34a1c6",
   "metadata": {},
   "source": [
    "## ベクトル\n",
    "\n",
    "数を並べた組をベクトルという。\n",
    "\n",
    "$$\n",
    "% 太字のalias\n",
    "\\newcommand{\\b}[1]{\\boldsymbol{#1}}\n",
    "%\n",
    "\\boldsymbol{a} = (a_1, a_2, a_3)\n",
    "$$"
   ]
  },
  {
   "cell_type": "markdown",
   "id": "a710307e-9b8c-46bf-a98d-c689a2940cff",
   "metadata": {},
   "source": [
    "## ベクトルの演算\n",
    "\n",
    "2つの$n$次元ベクトル\n",
    "\n",
    "$$\n",
    "\\b{a} =\n",
    "\\begin{pmatrix}\n",
    "    a_1\\\\\n",
    "    \\vdots\\\\\n",
    "    a_n\n",
    "\\end{pmatrix}\n",
    ", \\hspace{2em}\n",
    "\\b{b} =\n",
    "\\begin{pmatrix}\n",
    "    b_1\\\\\n",
    "    \\vdots\\\\\n",
    "    b_n\n",
    "\\end{pmatrix}\n",
    "$$\n",
    "\n",
    "とスカラー$c$があるとする。\n",
    "\n",
    "\n",
    "### 足し算\n",
    "\n",
    "ベクトル$\\b{a},\\b{b}$の足し算を次のように定義する\n",
    "\n",
    "$$\n",
    "\\b{a}+\\b{b} = \n",
    "\\begin{pmatrix}\n",
    "    a_1\\\\\n",
    "    \\vdots\\\\\n",
    "    a_n\n",
    "\\end{pmatrix}\n",
    "+\n",
    "\\begin{pmatrix}\n",
    "    b_1\\\\\n",
    "    \\vdots\\\\\n",
    "    b_n\n",
    "\\end{pmatrix}\n",
    "=\n",
    "\\begin{pmatrix}\n",
    "    a_1 + b_1\\\\\n",
    "    \\vdots\\\\\n",
    "    a_n + b_n\n",
    "\\end{pmatrix}\n",
    "$$"
   ]
  },
  {
   "cell_type": "markdown",
   "id": "6fcbbc17-16da-4ae1-b5f6-a765e238c32c",
   "metadata": {},
   "source": [
    "### スカラー倍\n",
    "\n",
    "ベクトル$\\b{a}$のスカラー$c$倍を次のように定義する\n",
    "\n",
    "$$\n",
    "c \\b{a} = \n",
    "\\begin{pmatrix}\n",
    "    c a_1\\\\\n",
    "    \\vdots\\\\\n",
    "    c a_n\n",
    "\\end{pmatrix}\n",
    "$$\n"
   ]
  },
  {
   "cell_type": "code",
   "execution_count": 2,
   "id": "f8af0788-f23b-4e8c-a091-cfd25ec39d83",
   "metadata": {
    "jupyter": {
     "source_hidden": true
    },
    "tags": [
     "hide-input"
    ]
   },
   "outputs": [
    {
     "data": {
      "image/png": "[encoded data removed]",
      "text/plain": [
       "<Figure size 600x250 with 2 Axes>"
      ]
     },
     "metadata": {},
     "output_type": "display_data"
    }
   ],
   "source": [
    "import numpy as np\n",
    "import matplotlib.pyplot as plt\n",
    "import matplotlib as mpl\n",
    "import japanize_matplotlib\n",
    "\n",
    "a = np.array([1, 1])\n",
    "b = np.array([1, 2])\n",
    "o = np.array([0, 0])\n",
    "c = 3\n",
    "\n",
    "fig, axes = plt.subplots(ncols=2, figsize=[6, 2.5])\n",
    "\n",
    "# 和\n",
    "ax = axes[0]\n",
    "cmap = mpl.colormaps['tab10']\n",
    "for i, (v, label) in enumerate([(a, \"a\"), (b, \"b\"), ((a+b), \"a+b\")]):\n",
    "    ax.arrow(*o, *v, width=0.02, color=cmap(i), length_includes_head=True, alpha=0.5)\n",
    "    ax.text(v[0], v[1], label, color=cmap(i))\n",
    "longest_v = (a+b)\n",
    "ax.set(xticks=range(longest_v[0]+1), yticks=range(longest_v[1]+1), title=r\"ベクトルの和 $a+b$\")\n",
    "ax.grid(True, alpha=0.3)\n",
    "\n",
    "# スカラー倍\n",
    "ax = axes[1]\n",
    "for i, (v, label) in enumerate([(a, \"a\"), (a * c, \"ca\")]):\n",
    "    ax.arrow(*o, *v, width=0.02, color=cmap(i), length_includes_head=True, alpha=0.5)\n",
    "    ax.text(v[0] - 0.1, v[1] + 0.1, label, color=cmap(i))\n",
    "longest_v = c * a\n",
    "ax.set(xticks=range(longest_v[0]+1), yticks=range(longest_v[1]+1), title=r\"スカラー倍 $c a$\")\n",
    "ax.grid(True, alpha=0.3)\n",
    "\n",
    "fig.show()"
   ]
  }
 ],
 "metadata": {
  "kernelspec": {
   "display_name": "Python 3 (ipykernel)",
   "language": "python",
   "name": "python3"
  },
  "language_info": {
   "codemirror_mode": {
    "name": "ipython",
    "version": 3
   },
   "file_extension": ".py",
   "mimetype": "text/x-python",
   "name": "python",
   "nbconvert_exporter": "python",
   "pygments_lexer": "ipython3",
   "version": "3.10.13"
  }
 },
 "nbformat": 4,
 "nbformat_minor": 5
}
