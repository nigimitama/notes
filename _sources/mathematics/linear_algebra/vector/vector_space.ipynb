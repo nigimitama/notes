{
 "cells": [
  {
   "cell_type": "markdown",
   "id": "d53c06a4-62d3-4745-8f19-4975be10c2eb",
   "metadata": {},
   "source": [
    "# ベクトル空間\n",
    "\n",
    "ベクトル空間：実数倍と和が定義されており、任意の元の線形結合がふたたび元となる集合\n",
    "\n",
    ":::{admonition} 定義（ベクトル空間）\n",
    "任意の元$x, y \\in L$と任意の実数$a, b$について実数倍$ax, by$とそれらの和$ax + by$が定義されており、\n",
    "かならず$ax + by \\in L$が成り立つような集合$L$を**ベクトル空間（vector space）**という。また$L$の元を**ベクトル（vector）**という\n",
    ":::\n",
    "\n",
    "イメージ的には原点と矢印と、矢印同士の演算（和や積など）だけが決まっている。座標は固定ではない\n",
    "\n",
    "整数集合$\\mathbb{Z}$は実数を掛けて線形結合した結果が整数になるとは限らないため、ベクトル空間ではない。\n",
    "実数集合$\\mathbb{R}$はベクトル空間である。\n"
   ]
  },
  {
   "cell_type": "markdown",
   "id": "8df0ef45-7baa-4e51-ab21-0dd38b8f661c",
   "metadata": {},
   "source": [
    "## 部分空間\n",
    "\n",
    ":::{admonition} （定義）部分ベクトル空間\n",
    "\n",
    "ベクトル空間 $V$ の空でない部分集合 $W$ が、 $V$ における和とスカラー倍の演算によってベクトル空間になるとき、すなわち\n",
    "\n",
    "1. $W \\neq \\phi \\quad$ ( $\\phi$ は空集合)\n",
    "    - $\\boldsymbol{0} \\in W$（$W$は$V$の零ベクトルを含む）が1番目の条件にくる定義もある\n",
    "2. $\\boldsymbol{a}, \\boldsymbol{b} \\in W \\Rightarrow \\boldsymbol{a}+\\boldsymbol{b} \\in W$\n",
    "3. $\\boldsymbol{a} \\in W, \\quad \\lambda \\in \\boldsymbol{R} \\Rightarrow \\lambda \\boldsymbol{a} \\in W$\n",
    "\n",
    "を満たすとき、 $W$ を $V$ の **部分空間** 、または **部分べクトル空間** という。\n",
    ":::"
   ]
  },
  {
   "cell_type": "markdown",
   "id": "a651c3da-5053-4837-a694-476dbc7356c8",
   "metadata": {},
   "source": [
    ":::{card} 部分空間の例\n",
    "\n",
    "- ベクトル空間$V$自身や$V$の零元だけからなる集合$\\{0\\}$\n",
    "- $K$上のベクトル空間$V$の任意の元$v$に対して、集合$\\{av | a \\in K\\}$\n",
    "- $\\mathbb{R}^n$に対し、原点を含む直線、平面、超平面\n",
    "    - 原点を含まない直線、平面、超平面は **アフィン部分空間**\n",
    ":::"
   ]
  },
  {
   "cell_type": "markdown",
   "id": "8db21f38-0ceb-4737-97c7-f321f7e6a74a",
   "metadata": {},
   "source": [
    "## スパン（ベクトルが張る空間）\n",
    "\n",
    "ベクトル空間$V$から選ばれたいくつかのベクトル$\\boldsymbol{x}_1, \\dots, \\boldsymbol{x}_n$を用いて作られる部分集合\n",
    "\n",
    ":::{admonition} （定義）スパン\n",
    "\n",
    "ベクトル$\\boldsymbol{x}_1, \\dots, \\boldsymbol{x}_n$（$\\in V$）の線形結合$a_1 \\boldsymbol{x}_1 + \\cdots + a_n \\boldsymbol{x}_n$の集合\n",
    "\n",
    "$$\n",
    "W = \\{ a_1 \\boldsymbol{x}_1 + \\cdots + a_n \\boldsymbol{x}_n  | a_1, \\dots, a_n \\in \\mathbb{R} \\}\n",
    "$$\n",
    "\n",
    "は部分空間であり、これを$\\boldsymbol{x}_1, \\dots, \\boldsymbol{x}_n$の**スパン（span）**あるいは$\\boldsymbol{x}_1, \\dots, \\boldsymbol{x}_n$**が張る空間**といい\n",
    "\n",
    "$$\n",
    "\\text{Span}\\{ \\boldsymbol{x}_1, \\dots, \\boldsymbol{x}_n \\}\n",
    "$$\n",
    "\n",
    "と書く\n",
    ":::\n"
   ]
  },
  {
   "cell_type": "markdown",
   "id": "ab1182c6-bb02-46cc-8c31-f41c2233dca0",
   "metadata": {},
   "source": [
    "#### （例）線形回帰モデルとの関わり\n",
    "\n",
    "$\\boldsymbol{x}_1$を「教育を受けた年数」の観測値のベクトル、$\\boldsymbol{x}_2$を「その職種の経験年数」の観測値のベクトル、$\\boldsymbol{y}$を「賃金」の観測値のベクトルとしたとき、$\\text{Span}\\{ \\boldsymbol{x}_1, \\boldsymbol{x}_2 \\}$に$\\boldsymbol{y}$が属するならば\n",
    "\n",
    "$$\n",
    "賃金 = a_1 \\times 教育を受けた年数 + a_2 \\times その職種の経験年数\n",
    "$$\n",
    "\n",
    "という関係が成り立つことになる\n",
    "\n",
    "\n"
   ]
  },
  {
   "cell_type": "markdown",
   "id": "acf89507-5e70-49b5-92ad-148c16aed3b5",
   "metadata": {},
   "source": [
    "## 線形独立\n",
    "\n",
    ":::{admonition} （定義）線形独立\n",
    "\n",
    "$\\boldsymbol{x}_1, \\dots, \\boldsymbol{x}_n \\in V$について、係数$a_1,\\dots,a_n$が\n",
    "\n",
    "$$\n",
    "a_1 = \\cdots = a_n = 0\n",
    "$$\n",
    "\n",
    "であるとき、またそのときにのみ\n",
    "\n",
    "$$\n",
    "a_1 \\boldsymbol{x}_1 + \\cdots + a_n \\boldsymbol{x}_n = \\boldsymbol{0}\n",
    "$$\n",
    "\n",
    "が成り立つとき、$\\boldsymbol{x}_1, \\dots, \\boldsymbol{x}_n$は **線形独立（linearly independent）** であるという。\n",
    ":::"
   ]
  },
  {
   "cell_type": "markdown",
   "id": "219687f7-f6da-42a2-859e-7e6e402e2d68",
   "metadata": {},
   "source": [
    "例えば、\n",
    "\n",
    "$$\n",
    "\\begin{align}\n",
    "\\boldsymbol{x}_1 &= (1, 0, 1)^T\\\\\n",
    "\\boldsymbol{x}_2 &= (-1, 2, 3)^T\n",
    "\\end{align}\n",
    "$$\n",
    "\n",
    "とする。\n",
    "\n",
    "\n",
    "$$\n",
    "a_1 \\boldsymbol{x}_1 + a_2 \\boldsymbol{x}_2 = \\boldsymbol{0}\n",
    "$$\n",
    "\n",
    "とすると、第2成分が0になるためには$a_2 = 0$である必要がある。\n",
    "\n",
    "そして$a_1 \\boldsymbol{x}_1 = \\boldsymbol{0}$となるためには、$a_1 = 0$である必要がある。\n",
    "\n",
    "よって$a_1 = a_2 = 0$であるため、$\\boldsymbol{x}_1, \\boldsymbol{x}_2$は1️次独立である。\n",
    "\n",
    "\n"
   ]
  },
  {
   "cell_type": "markdown",
   "id": "73ffb05c-9da6-4f3b-bec4-46b596e341de",
   "metadata": {},
   "source": [
    "::::{admonition}\n",
    "\n",
    ":::{card}\n",
    "例題：ベクトル\n",
    "\n",
    "$$\n",
    "\\boldsymbol{a}_1=\\left(\\begin{array}{l}\n",
    "2 \\\\\n",
    "1\n",
    "\\end{array}\\right), \\boldsymbol{a}_2=\\left(\\begin{array}{l}\n",
    "1 \\\\\n",
    "2 \\\\\n",
    "\\end{array}\\right)\n",
    "$$\n",
    "\n",
    "が1次独立かどうか判定せよ。\n",
    ":::\n",
    "\n",
    "行列のランク（行列$A$の列ベクトルの中から選び得る1次独立なベクトルの最大個数）を調べる方法がある。行列式がゼロでない（$|A|\\neq 0$）なら$\\operatorname{rank}(A)=n, A\\in\\mathbb{R}^{n\\times n}$であるため、$A$が正方行列なら行列式がゼロかどうかを判定すればよい。\n",
    "\n",
    "$$\n",
    "|A|\n",
    "=\n",
    "\\left|\\begin{array}{cc}\n",
    "a_1 & a_2\\\\\n",
    "\\end{array}\\right|\n",
    "=\n",
    "\\left|\\begin{array}{cc}\n",
    "2 & 1\\\\\n",
    "1 & 2\n",
    "\\end{array}\\right|\n",
    "= 2^2 - 1^2 = 3\n",
    "\\neq 0\n",
    "$$\n",
    "\n",
    "であるため1次独立である\n",
    "::::"
   ]
  },
  {
   "cell_type": "markdown",
   "id": "cd4d0b67-c45a-42b8-9a03-2a2e156e886d",
   "metadata": {},
   "source": [
    "## 線形従属\n",
    "\n",
    ":::{admonition} （定義）線形従属\n",
    "\n",
    "ベクトル$\\boldsymbol{x}_1, \\dots, \\boldsymbol{x}_n \\in V$と、すべてが0ではない係数$a_1,\\dots,a_n$を用いて\n",
    "\n",
    "$$\n",
    "a_1 \\boldsymbol{x}_1 + \\cdots + a_n \\boldsymbol{x}_n = \\boldsymbol{0}\n",
    "$$\n",
    "\n",
    "とできるとき、$\\boldsymbol{x}_1, \\dots, \\boldsymbol{x}_n$は**線形従属（linearly dependent）**であるという。\n",
    ":::"
   ]
  },
  {
   "cell_type": "markdown",
   "id": "f3be135b-7c75-4ad1-83ef-c0421d710dc3",
   "metadata": {},
   "source": [
    "（例）$\\boldsymbol{x}_1$がそれ以外のベクトルの線形結合で表せる、つまり\n",
    "\n",
    "$$\n",
    "\\boldsymbol{x}_1 = a_2 \\boldsymbol{x}_2 + \\cdots + a_n \\boldsymbol{x}_n\n",
    "$$\n",
    "\n",
    "となるとき、$\\boldsymbol{x}_1, \\dots, \\boldsymbol{x}_n$は線形従属である\n"
   ]
  },
  {
   "cell_type": "markdown",
   "id": "db779115-d811-4e81-a3fc-67a685e93b60",
   "metadata": {},
   "source": [
    "（例）線形写像（行列）を使っての例\n",
    "\n",
    "異なる入力のベクトル$\\boldsymbol{x}, \\boldsymbol{x}'$が同じ$\\boldsymbol{y}$に移る、つまり単射でない場合、すなわち$A \\boldsymbol{x} = A\\boldsymbol{x}'$の場合、$A$を構成する列ベクトルたち$\\boldsymbol{a}_1, \\dots, \\boldsymbol{a}_m$は線形従属である"
   ]
  },
  {
   "cell_type": "markdown",
   "id": "0912a1cd-745d-409b-91ef-d3ee21d789b2",
   "metadata": {},
   "source": [
    "## 基底\n",
    "\n",
    ":::{admonition} （定義）基底\n",
    "\n",
    "ベクトル空間$L$と、それに属するベクトル$\\boldsymbol{x}_1, \\dots, \\boldsymbol{x}_n \\in L$を用いて\n",
    "\n",
    "$$\n",
    "L = \\text{Span}\\{ \\boldsymbol{x}_1, \\dots, \\boldsymbol{x}_n \\}\n",
    "$$\n",
    "\n",
    "と書けるとき、「$L$の **次元（dimension）** は$n$である」あるいは「$L$は$n$次元ベクトル空間である」といい、\n",
    "\n",
    "$$\n",
    "\\dim L = n\n",
    "$$\n",
    "\n",
    "と書く。\n",
    "\n",
    "またこのとき、ベクトル$\\boldsymbol{x}_1, \\dots, \\boldsymbol{x}_n$を$L$の **基底（base）** という\n",
    ":::\n",
    "\n",
    "例えば$L=\\mathbb{R}^2$であれば、$\\boldsymbol{x}_1 = (1, 0)^T, \\boldsymbol{x}_2 = (0, 1)^T$という線形独立なベクトルを用いて\n",
    "\n",
    "$$\n",
    "\\mathbb{R}^2 = \\text{Span}\\{ \\boldsymbol{x}_1, \\boldsymbol{x}_2 \\}\n",
    "$$\n",
    "\n",
    "と書くことができる。$\\dim \\mathbb{R}^2 = 2$であり、$\\boldsymbol{x}_1, \\boldsymbol{x}_2$は$\\mathbb{R}^2$の基底になる。\n",
    "\n",
    "書籍によっては別の定義を使っていることもある\n",
    "\n",
    "\n",
    ":::{admonition} （定義）基底\n",
    "\n",
    "ベクトル空間$L$と、ベクトルの組$\\boldsymbol{x}_1, \\dots, \\boldsymbol{x}_n \\in L$が次の2つの条件を満たすとき、$V$の基底という\n",
    "\n",
    "1. $\\boldsymbol{x}_1, \\dots, \\boldsymbol{x}_n$は1次独立である\n",
    "2. $\\boldsymbol{x}_1, \\dots, \\boldsymbol{x}_n$は$V$を生成する\n",
    ":::\n"
   ]
  },
  {
   "cell_type": "markdown",
   "id": "c78c2521-d164-44a1-b443-de244360cdda",
   "metadata": {},
   "source": [
    ":::{admonition} （定義）次元\n",
    "\n",
    "ベクトル空間$V$が$n$個の元から成る基底をもつならば、他のどんな基底も$n$個の元から成る。\n",
    "\n",
    "このとき$V$の次元は$n$であるといい、$\\dim V$で表す。\n",
    ":::"
   ]
  },
  {
   "cell_type": "markdown",
   "id": "fd7bd56c-eaa3-4a61-898b-df35a82cc523",
   "metadata": {},
   "source": []
  },
  {
   "cell_type": "code",
   "execution_count": null,
   "id": "40c03680-b43d-4d56-8e1a-43d9b2c957e1",
   "metadata": {},
   "outputs": [],
   "source": []
  }
 ],
 "metadata": {
  "kernelspec": {
   "display_name": "Python 3 (ipykernel)",
   "language": "python",
   "name": "python3"
  },
  "language_info": {
   "codemirror_mode": {
    "name": "ipython",
    "version": 3
   },
   "file_extension": ".py",
   "mimetype": "text/x-python",
   "name": "python",
   "nbconvert_exporter": "python",
   "pygments_lexer": "ipython3",
   "version": "3.10.14"
  }
 },
 "nbformat": 4,
 "nbformat_minor": 5
}
