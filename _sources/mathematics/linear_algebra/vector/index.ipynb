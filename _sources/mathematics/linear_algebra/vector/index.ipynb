{
 "cells": [
  {
   "cell_type": "markdown",
   "id": "2f37007f-994b-470c-a597-1d6255e2b04c",
   "metadata": {},
   "source": [
    "# ベクトル"
   ]
  },
  {
   "cell_type": "markdown",
   "id": "f8b569e9-1fd3-45a9-8962-df08199af0ef",
   "metadata": {},
   "source": [
    ":::{tableofcontents}\n",
    ":::"
   ]
  }
 ],
 "metadata": {
  "kernelspec": {
   "display_name": "Python 3 (ipykernel)",
   "language": "python",
   "name": "python3"
  },
  "language_info": {
   "codemirror_mode": {
    "name": "ipython",
    "version": 3
   },
   "file_extension": ".py",
   "mimetype": "text/x-python",
   "name": "python",
   "nbconvert_exporter": "python",
   "pygments_lexer": "ipython3",
   "version": "3.10.13"
  }
 },
 "nbformat": 4,
 "nbformat_minor": 5
}
