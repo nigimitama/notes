{
 "cells": [
  {
   "cell_type": "markdown",
   "id": "0310e368-f869-466c-8c81-7644668c4ad6",
   "metadata": {},
   "source": [
    "# 線形代数ライブラリの実装についてメモ"
   ]
  },
  {
   "cell_type": "markdown",
   "id": "040bc28f-3c0c-457e-9b7f-edc0bca9c627",
   "metadata": {},
   "source": [
    "- numpyやscipyの内部ではLAPACK（C/C++の線形代数ライブラリ）を使っている\n",
    "- LAPACKはだいたいLU分解をしている"
   ]
  },
  {
   "cell_type": "markdown",
   "id": "c726f25c-bcfd-4c74-9dfd-cc17a912d774",
   "metadata": {},
   "source": [
    "### 逆行列は連立一次方程式の問題に帰着できる\n",
    "\n",
    "逆行列$A^{-1}$を求めたい場合\n",
    "\n",
    "$$\n",
    "A X = B\n",
    "$$\n",
    "\n",
    "という連立一次方程式を、$B=I$として\n",
    "\n",
    "$$\n",
    "A X = I\n",
    "$$\n",
    "\n",
    "とすることで$X=A^{-1}$を得ることができる\n"
   ]
  },
  {
   "cell_type": "markdown",
   "id": "5ced6708-3a45-45b4-a9b5-9158eb73e55c",
   "metadata": {},
   "source": [
    "### LAPACKで連立一次方程式を解く\n",
    "\n",
    "正則な係数行列をもつ連立一次方程式をLAPACKで解くには、xGESV関数（連立一次方程式を解く関数）もしくはxGETRF関数（LU分解の関数）とxGETRS関数（前進代入・後退代入を行う関数）を使えば解ける（幸谷, 2016）\n",
    "\n",
    "xGESV関数は$Ax=b$を$x$について解き、$b:=x$として$b$に代入する関数"
   ]
  },
  {
   "cell_type": "markdown",
   "id": "894837b0-1387-4261-bf41-5e7e07e80572",
   "metadata": {},
   "source": [
    "## 逆行列計算の実装を覗く"
   ]
  },
  {
   "cell_type": "markdown",
   "id": "5dad3b63-c3c1-45a3-9fc6-336444659fcd",
   "metadata": {},
   "source": [
    "### scipy.linalg.inv\n",
    "\n",
    "- docs: [scipy.linalg.inv — SciPy v1.12.0 Manual](https://docs.scipy.org/doc/scipy/reference/generated/scipy.linalg.inv.html)\n",
    "- source: [source](https://github.com/scipy/scipy/blob/v1.12.0/scipy/linalg/_basic.py#L903-L976)\n",
    "\n",
    "scipyのinvはGETRF、GETRI"
   ]
  },
  {
   "cell_type": "code",
   "execution_count": 5,
   "id": "ec89f5ba-83b1-49c0-975d-3ca22b3416e7",
   "metadata": {},
   "outputs": [
    {
     "data": {
      "text/plain": [
       "array([[-2. ,  1. ],\n",
       "       [ 1.5, -0.5]])"
      ]
     },
     "execution_count": 5,
     "metadata": {},
     "output_type": "execute_result"
    }
   ],
   "source": [
    "# scipyのinv\n",
    "import numpy as np\n",
    "from scipy import linalg\n",
    "A = np.array([\n",
    "    [1, 2],\n",
    "    [3, 4]\n",
    "])\n",
    "linalg.inv(A)"
   ]
  },
  {
   "cell_type": "markdown",
   "id": "aae4498d-ddcc-4f05-8557-7a5dde0153ff",
   "metadata": {},
   "source": [
    "### numpy.linalg.inv\n",
    "\n",
    "- docs: [numpy.linalg.inv — NumPy v1.26 Manual](https://numpy.org/doc/stable/reference/generated/numpy.linalg.inv.html)\n",
    "- source:\n",
    "    - [numpy/numpy/linalg/linalg.py](https://github.com/numpy/numpy/blob/v1.26.0/numpy/linalg/linalg.py#L492-L562)\n",
    "    - [numpy/numpy/linalg/umath_linalg.cpp](https://github.com/numpy/numpy/blob/v1.26.0/numpy/linalg/umath_linalg.cpp#L1811-L1843)\n",
    "        - gesv関数を呼び出している"
   ]
  },
  {
   "cell_type": "code",
   "execution_count": 14,
   "id": "4a3faec4-d664-4640-8f23-611d150b1057",
   "metadata": {},
   "outputs": [
    {
     "data": {
      "text/plain": [
       "array([[-2. ,  1. ],\n",
       "       [ 1.5, -0.5]])"
      ]
     },
     "execution_count": 14,
     "metadata": {},
     "output_type": "execute_result"
    }
   ],
   "source": [
    "import numpy as np\n",
    "np.linalg.inv(A)"
   ]
  },
  {
   "cell_type": "markdown",
   "id": "5675fe55-61a2-43be-a6cd-13af38cb93d6",
   "metadata": {},
   "source": [
    "## scipyのLAPACK functions\n",
    "\n",
    "[Low-level LAPACK functions (scipy.linalg.lapack) — SciPy v1.12.0 Manual](https://docs.scipy.org/doc/scipy/reference/linalg.lapack.html)"
   ]
  },
  {
   "cell_type": "markdown",
   "id": "63da02c9-7719-4eb0-bdeb-50993a30e6a9",
   "metadata": {},
   "source": [
    "#### xGESV\n",
    "\n",
    "- [scipy.linalg.lapack.dgesv — SciPy v1.12.0 Manual](https://docs.scipy.org/doc/scipy/reference/generated/scipy.linalg.lapack.dgesv.html#scipy.linalg.lapack.dgesv)\n",
    "- [LAPACK: dgesv](https://netlib.org/lapack/explore-html-3.6.1/d7/d3b/group__double_g_esolve_ga5ee879032a8365897c3ba91e3dc8d512.html)\n",
    "\n",
    "> DGESV computes the solution to a real system of linear equations\n",
    ">\n",
    "> A * X = B,\n",
    ">\n",
    "> where A is an N-by-N matrix and X and B are N-by-NRHS matrices.\n",
    ">\n",
    "> The LU decomposition with partial pivoting and row interchanges is used to factor A as \n",
    ">\n",
    "> A = P * L * U,\n",
    ">\n",
    "> where P is a permutation matrix, L is unit lower triangular, and U is upper triangular.\n",
    "> The factored form of A is then used to solve the system of equations A * X = B."
   ]
  },
  {
   "cell_type": "code",
   "execution_count": 9,
   "id": "a24f314e-8f75-4e87-bae0-df013ffb731b",
   "metadata": {},
   "outputs": [],
   "source": [
    "from scipy.linalg.lapack import dgesv\n",
    "\n",
    "# AX = I としてX=A^{-1}を推定する\n",
    "I = np.eye(A.shape[0])\n",
    "\n",
    "lu, piv, x, info = dgesv(A, I)"
   ]
  },
  {
   "cell_type": "code",
   "execution_count": 10,
   "id": "654506c5-fb2d-4f23-8715-b48e92dcaa67",
   "metadata": {},
   "outputs": [
    {
     "data": {
      "text/plain": [
       "array([[-2. ,  1. ],\n",
       "       [ 1.5, -0.5]])"
      ]
     },
     "execution_count": 10,
     "metadata": {},
     "output_type": "execute_result"
    }
   ],
   "source": [
    "x"
   ]
  },
  {
   "cell_type": "markdown",
   "id": "68a935a5-1006-4570-a3ac-dd9b69d8ea98",
   "metadata": {},
   "source": [
    "#### xGETRF\n",
    "\n",
    "LU分解をする関数。\n",
    "\n",
    "[scipy.linalg.lapack.dgetrf — SciPy v1.12.0 Manual](https://docs.scipy.org/doc/scipy/reference/generated/scipy.linalg.lapack.dgetrf.html#scipy.linalg.lapack.dgetrf)\n",
    "\n",
    "docs: [LAPACK: dgetrf](https://www.netlib.org/lapack/explore-html-3.6.1/dd/d9a/group__double_g_ecomputational_ga0019443faea08275ca60a734d0593e60.html)\n",
    "\n",
    "> DGETRF computes an LU factorization of a general M-by-N matrix A using partial pivoting with row interchanges.\n",
    "> The factorization has the form\n",
    ">\n",
    ">    A = P * L * U\n",
    ">\n",
    "> where P is a permutation matrix, L is lower triangular with unit diagonal elements (lower trapezoidal if m > n), and U is upper triangular (upper trapezoidal if m < n).\n"
   ]
  },
  {
   "cell_type": "code",
   "execution_count": 20,
   "id": "39562d33-023a-4595-ad95-0a65b7789574",
   "metadata": {},
   "outputs": [],
   "source": [
    "from scipy.linalg.lapack import dgetrf\n",
    "\n",
    "lu, piv, info = dgetrf(A)"
   ]
  },
  {
   "cell_type": "code",
   "execution_count": 21,
   "id": "55ca957a-219c-46a1-ac07-5bcd5e44c40e",
   "metadata": {},
   "outputs": [
    {
     "data": {
      "text/plain": [
       "array([[3.        , 4.        ],\n",
       "       [0.33333333, 0.66666667]])"
      ]
     },
     "execution_count": 21,
     "metadata": {},
     "output_type": "execute_result"
    }
   ],
   "source": [
    "lu"
   ]
  },
  {
   "cell_type": "code",
   "execution_count": 22,
   "id": "63ea5697-1f5a-4595-9085-118ce6701de5",
   "metadata": {},
   "outputs": [
    {
     "data": {
      "text/plain": [
       "array([1, 1], dtype=int32)"
      ]
     },
     "execution_count": 22,
     "metadata": {},
     "output_type": "execute_result"
    }
   ],
   "source": [
    "piv"
   ]
  },
  {
   "cell_type": "markdown",
   "id": "0ba298bc-7e33-410c-86f4-56c3b0deebdd",
   "metadata": {},
   "source": [
    "#### xGETRI\n",
    "\n",
    "LU分解の結果から逆行列を取得する関数\n",
    "\n",
    "[scipy.linalg.lapack.dgetri — SciPy v1.12.0 Manual](https://docs.scipy.org/doc/scipy/reference/generated/scipy.linalg.lapack.dgetri.html#scipy.linalg.lapack.dgetri)\n",
    "\n",
    "cpp docs: [LAPACK: dgetri](https://www.netlib.org/lapack/explore-html-3.6.1/dd/d9a/group__double_g_ecomputational_ga56d9c860ce4ce42ded7f914fdb0683ff.html)\n",
    "\n",
    ">  DGETRI computes the inverse of a matrix using the LU factorization computed by DGETRF.\n",
    ">\n",
    "> This method inverts U and then computes inv(A) by solving the system inv(A)*L = inv(U) for inv(A)."
   ]
  },
  {
   "cell_type": "code",
   "execution_count": 23,
   "id": "b8c8d5e5-b28e-4589-9d96-0e45be9d5b87",
   "metadata": {},
   "outputs": [
    {
     "data": {
      "text/plain": [
       "array([[-2. ,  1. ],\n",
       "       [ 1.5, -0.5]])"
      ]
     },
     "execution_count": 23,
     "metadata": {},
     "output_type": "execute_result"
    }
   ],
   "source": [
    "from scipy.linalg.lapack import dgetri\n",
    "\n",
    "inv_a, info = dgetri(lu, piv)\n",
    "inv_a"
   ]
  },
  {
   "cell_type": "markdown",
   "id": "547dcf25-e8be-4599-85c2-8bc4bc9d3f10",
   "metadata": {},
   "source": [
    "## LAPACKはどうやって計算量を下げているのか\n",
    "\n",
    "掃き出し法とLU分解は計算量的に大差ないらしい（[安易に逆行列を数値計算するのはやめよう](https://opqrstuvcut.github.io/blog/posts/%E5%AE%89%E6%98%93%E3%81%AB%E9%80%86%E8%A1%8C%E5%88%97%E3%82%92%E6%95%B0%E5%80%A4%E8%A8%88%E7%AE%97%E3%81%99%E3%82%8B%E3%81%AE%E3%81%AF%E3%82%84%E3%82%81%E3%82%88%E3%81%86/)\n",
    "）"
   ]
  },
  {
   "cell_type": "markdown",
   "id": "0a1a2b72-46b9-430c-bfc2-0d32167ef50d",
   "metadata": {},
   "source": [
    "## 逆行列の計算量\n",
    "\n",
    "- [数値解析第12回逆行列と計算量](https://www.st.nanzan-u.ac.jp/info/sugiurah/NumericalAnalysis/files/Notes/NANoteA12.pdf)\n",
    "- [安易に逆行列を数値計算するのはやめよう](https://opqrstuvcut.github.io/blog/posts/%E5%AE%89%E6%98%93%E3%81%AB%E9%80%86%E8%A1%8C%E5%88%97%E3%82%92%E6%95%B0%E5%80%A4%E8%A8%88%E7%AE%97%E3%81%99%E3%82%8B%E3%81%AE%E3%81%AF%E3%82%84%E3%82%81%E3%82%88%E3%81%86/)\n"
   ]
  },
  {
   "cell_type": "markdown",
   "id": "230f29c1-3734-47e7-a726-ef7c706be31a",
   "metadata": {},
   "source": [
    "## 参考\n",
    "\n",
    "- 幸谷智紀. (2016). LAPACK/BLAS 入門: Linear Algebra PACKage Basic Linear Algebra Subprograms.\n",
    "- [渡部 善隆「連立1次方程式の直接解法とソフトウェア」](https://ri2t.kyushu-u.ac.jp/~watanabe/RESERCH/MANUSCRIPT/KOHO/WSMP/main.pdf)\n"
   ]
  },
  {
   "cell_type": "code",
   "execution_count": null,
   "id": "0a45dacd-4fee-4802-820d-2dbbf7a9ef87",
   "metadata": {},
   "outputs": [],
   "source": []
  }
 ],
 "metadata": {
  "kernelspec": {
   "display_name": "Python 3 (ipykernel)",
   "language": "python",
   "name": "python3"
  },
  "language_info": {
   "codemirror_mode": {
    "name": "ipython",
    "version": 3
   },
   "file_extension": ".py",
   "mimetype": "text/x-python",
   "name": "python",
   "nbconvert_exporter": "python",
   "pygments_lexer": "ipython3",
   "version": "3.9.18"
  }
 },
 "nbformat": 4,
 "nbformat_minor": 5
}
