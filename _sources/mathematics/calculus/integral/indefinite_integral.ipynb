{
 "cells": [
  {
   "cell_type": "markdown",
   "id": "128c765f-7b01-43db-8a46-04747e5d3286",
   "metadata": {},
   "source": [
    "# 不定積分"
   ]
  },
  {
   "cell_type": "markdown",
   "id": "8dc5c64e-cef7-4682-b4a0-83d00ff5d735",
   "metadata": {},
   "source": [
    "## 原始関数\n",
    "\n",
    "### 導関数のもとの関数を探す\n",
    "\n",
    "関数$v(t)$の導関数が、定数の$g$で\n",
    "\n",
    "$$\n",
    "\\dot{v}(t)=\\frac{d v(t)}{d t}=g\n",
    "$$\n",
    "\n",
    "で与えられたとする。このとき関数$v(t)$はどのような形の関数だろうか。\n",
    "\n",
    "微分を考えると\n",
    "\n",
    "$$\n",
    "v(t) = gt + C \\quad (C: 定数)\n",
    "$$\n",
    "\n",
    "と予想される。\n",
    "\n",
    "\n",
    ":::{card} \n",
    "※なぜもとの関数を見つけたいのか → 理工系では、さまざまな自然法則を微分方程式で表す事が多い。微分方程式が含む情報は、導関数のもとの関数を求めることで明らかにされる。\n",
    ":::\n"
   ]
  },
  {
   "cell_type": "markdown",
   "id": "8a9e75cd-cc97-4b74-b9b3-a555c468656e",
   "metadata": {},
   "source": [
    "### 原始関数\n",
    "\n",
    "関数$F(x)$の導関数が$f(x)$に等しいとき、すなわち\n",
    "\n",
    "$$\n",
    "F'(x) = f(x)\n",
    "$$\n",
    "\n",
    "であるとき、を$f(x)$の **原始関数** （primitive function）という。\n",
    "\n",
    "$F(x)$が$f(x)$の原始関数ならば、任意の定数$C$に対して$F(x)+C$も原始関数である。\n",
    "\n",
    "$$\n",
    "\\frac{d}{dx} (F(x) + C)\n",
    "= \\frac{d}{dx} F(x) + 0\n",
    "= f(x)\n",
    "$$\n"
   ]
  },
  {
   "cell_type": "markdown",
   "id": "cbe69675-3626-4e3b-93b6-2485cd129e04",
   "metadata": {},
   "source": [
    "## 不定積分\n",
    "\n",
    "関数 $f(x)$ の原始関数が存在するとき、原始関数全体を 記号\n",
    "\n",
    "$$\n",
    "\\int f(x) dx\n",
    "$$\n",
    "\n",
    "で表す。したがって$f(x)$の1つの原始関数を$F(x)$とすれば、\n",
    "\n",
    "$$\n",
    "\\int f(x) d x=F(x)+C\n",
    "$$\n",
    "\n",
    "$\\displaystyle \\int f(x) dx$を **不定積分** （indefinite integral）といい、定数$C$を **積分定数** （constant of integration）とよぶ。\n",
    "\n",
    "関数$f(x)$の不定積分を求めることを **積分する** といい、$f(x)$を **被積分関数** （integrand）という。"
   ]
  },
  {
   "cell_type": "markdown",
   "id": "93af9103-cdf8-438e-9cf7-0687111c1c96",
   "metadata": {},
   "source": [
    ":::{margin}\n",
    "\n",
    "積分記号$\\displaystyle \\int$ はSを伸ばしたもので、和を意味するラテン語 summaに由来する。\n",
    ":::"
   ]
  },
  {
   "cell_type": "code",
   "execution_count": null,
   "id": "b07a0405-4b0a-4937-9648-e076bb2d4155",
   "metadata": {},
   "outputs": [],
   "source": []
  },
  {
   "cell_type": "code",
   "execution_count": null,
   "id": "2ff5d7d9-fcd1-4491-912c-220c253b8e47",
   "metadata": {},
   "outputs": [],
   "source": []
  },
  {
   "cell_type": "markdown",
   "id": "cf262ef7-f7eb-4275-a7da-ddffdcc95660",
   "metadata": {},
   "source": []
  }
 ],
 "metadata": {
  "kernelspec": {
   "display_name": "Python 3 (ipykernel)",
   "language": "python",
   "name": "python3"
  },
  "language_info": {
   "codemirror_mode": {
    "name": "ipython",
    "version": 3
   },
   "file_extension": ".py",
   "mimetype": "text/x-python",
   "name": "python",
   "nbconvert_exporter": "python",
   "pygments_lexer": "ipython3",
   "version": "3.10.13"
  }
 },
 "nbformat": 4,
 "nbformat_minor": 5
}
