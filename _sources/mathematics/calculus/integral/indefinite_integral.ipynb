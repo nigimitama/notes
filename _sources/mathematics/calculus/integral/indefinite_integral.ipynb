{
 "cells": [
  {
   "cell_type": "markdown",
   "id": "128c765f-7b01-43db-8a46-04747e5d3286",
   "metadata": {},
   "source": [
    "# 不定積分"
   ]
  },
  {
   "cell_type": "markdown",
   "id": "8dc5c64e-cef7-4682-b4a0-83d00ff5d735",
   "metadata": {},
   "source": [
    "## 原始関数\n",
    "\n",
    "### 導関数のもとの関数を探す\n",
    "\n",
    "関数$v(t)$の導関数が、定数の$g$で\n",
    "\n",
    "$$\n",
    "\\dot{v}(t)=\\frac{d v(t)}{d t}=g\n",
    "$$\n",
    "\n",
    "で与えられたとする。このとき関数$v(t)$はどのような形の関数だろうか。\n",
    "\n",
    "微分を考えると\n",
    "\n",
    "$$\n",
    "v(t) = gt + C \\quad (C: 定数)\n",
    "$$\n",
    "\n",
    "と予想される。\n",
    "\n",
    "\n",
    ":::{card} \n",
    "※なぜもとの関数を見つけたいのか → 理工系では、さまざまな自然法則を微分方程式で表す事が多い。微分方程式が含む情報は、導関数のもとの関数を求めることで明らかにされる。\n",
    ":::\n"
   ]
  },
  {
   "cell_type": "markdown",
   "id": "8a9e75cd-cc97-4b74-b9b3-a555c468656e",
   "metadata": {},
   "source": [
    "### 原始関数\n",
    "\n",
    "関数$F(x)$の導関数が$f(x)$に等しいとき、すなわち\n",
    "\n",
    "$$\n",
    "F'(x) = f(x)\n",
    "$$\n",
    "\n",
    "であるとき、を$f(x)$の **原始関数** （primitive function）という。\n",
    "\n",
    "$F(x)$が$f(x)$の原始関数ならば、任意の定数$C$に対して$F(x)+C$も原始関数である。\n",
    "\n",
    "$$\n",
    "\\frac{d}{dx} (F(x) + C)\n",
    "= \\frac{d}{dx} F(x) + 0\n",
    "= f(x)\n",
    "$$\n"
   ]
  },
  {
   "cell_type": "markdown",
   "id": "cbe69675-3626-4e3b-93b6-2485cd129e04",
   "metadata": {},
   "source": [
    "## 不定積分\n",
    "\n",
    "関数 $f(x)$ の原始関数が存在するとき、原始関数全体を 記号\n",
    "\n",
    "$$\n",
    "\\int f(x) dx\n",
    "$$\n",
    "\n",
    "で表す。したがって$f(x)$の1つの原始関数を$F(x)$とすれば、\n",
    "\n",
    "$$\n",
    "\\int f(x) d x=F(x)+C\n",
    "$$\n",
    "\n",
    "$\\displaystyle \\int f(x) dx$を **不定積分** （indefinite integral）といい、定数$C$を **積分定数** （constant of integration）とよぶ。\n",
    "\n",
    "関数$f(x)$の不定積分を求めることを **積分する** といい、$f(x)$を **被積分関数** （integrand）という。"
   ]
  },
  {
   "cell_type": "markdown",
   "id": "93af9103-cdf8-438e-9cf7-0687111c1c96",
   "metadata": {},
   "source": [
    ":::{margin}\n",
    "\n",
    "積分記号$\\displaystyle \\int$ はSを伸ばしたもので、和を意味するラテン語 summaに由来する。\n",
    ":::"
   ]
  },
  {
   "cell_type": "markdown",
   "id": "07501dc0-a440-48b4-aa96-a87b79904c86",
   "metadata": {},
   "source": [
    "## 不定積分の基本的性質\n",
    "\n",
    "1. $\\displaystyle \\frac{d}{d x} \\int f(x) d x=f(x)$\n",
    "2. $\\displaystyle \\int F^{\\prime}(x) d x=F(x)+C$\n",
    "3. $\\displaystyle \\int k f(x) d x=k \\int f(x) d x \\quad(k$ : 定数 $)$\n",
    "4. $\\displaystyle \\int(f+g) d x=\\int f d x+\\int g d x$\n"
   ]
  },
  {
   "cell_type": "markdown",
   "id": "996a6122-507f-434c-b393-bcb132d8d493",
   "metadata": {},
   "source": [
    "## 積分の計算"
   ]
  },
  {
   "cell_type": "markdown",
   "id": "07ec7c4b-0c58-477b-b832-ee847cf0ae9e",
   "metadata": {},
   "source": [
    "### 置換積分法\n",
    "\n",
    "変数$x$の代わりに新しい変数$t$を導入し、\n",
    "\n",
    "$$\n",
    "x = \\varphi(t)\n",
    "$$\n",
    "\n",
    "とおくと、積分が簡単に行える場合がある。\n",
    "\n",
    "$$\n",
    "F(x)=\\int f(x) d x\n",
    "$$\n",
    "\n",
    "ならば、合成関数の微分によって\n",
    "\n",
    "$$\n",
    "\\frac{d}{d t} F(\\varphi(t))=\\frac{d}{d x} F(x) \\frac{d x}{d t}=f(x) \\varphi^{\\prime}(t)=f(\\varphi(t)) \\varphi^{\\prime}(t)\n",
    "$$\n",
    "\n",
    "であるため\n",
    "\n",
    "$$\n",
    "F(\\varphi(t))=\\int f(\\varphi(t)) \\varphi^{\\prime}(t) d t\n",
    "$$\n",
    "\n",
    "となるため\n",
    "\n",
    "$$\n",
    "\\int f(x) d x=\\int f(\\varphi(t)) \\varphi^{\\prime}(t) d t\n",
    "$$\n",
    "\n",
    "となる。これを **置換積分法** （integration by substitution） という。"
   ]
  },
  {
   "cell_type": "markdown",
   "id": "594fddda-ad9f-434e-9b5e-1c7302ceb6cd",
   "metadata": {},
   "source": [
    ":::{card} 例題\n",
    "\n",
    "$$\n",
    "\\int \\cos (a x+b) d x\n",
    "$$\n",
    "\n",
    "$t=a x+b$ とおく\n",
    "\n",
    "$$\n",
    "\\begin{aligned}\n",
    "\\int \\cos (a x+b) d x\n",
    "&=\\int \\cos t \\frac{d t}{a}\\\\\n",
    "&=\\frac{1}{a} \\int \\cos t d t\\\\\n",
    "&=\\frac{1}{a} \\sin t+C \\\\\n",
    "& =\\frac{1}{a} \\sin (a x+b)+C\n",
    "\\end{aligned}\n",
    "$$\n",
    "\n",
    ":::"
   ]
  },
  {
   "cell_type": "markdown",
   "id": "5d5f59ab-501f-4e2a-a8c3-e47c782801b6",
   "metadata": {},
   "source": [
    "### 部分積分法\n",
    "\n",
    "2つの微分可能な関数 $f(x)$ と $g(x)$ に対して\n",
    "\n",
    "$$\n",
    "(f g)^{\\prime}=f^{\\prime} g+f g^{\\prime}\n",
    "$$\n",
    "\n",
    "が成り立つため、この両辺を積分して\n",
    "\n",
    "$$\n",
    "f(x) g(x)=\\int f^{\\prime}(x) g(x) d x+\\int f(x) g^{\\prime}(x) d x\n",
    "$$\n",
    "\n",
    "\n",
    "から\n",
    "\n",
    "$$\n",
    "\\int f(x) g^{\\prime}(x) d x=f(x) g(x)-\\int f^{\\prime}(x) g(x) d x\n",
    "$$\n",
    "\n",
    "となる。これを **部分積分法** （integration by parts）という。"
   ]
  },
  {
   "cell_type": "markdown",
   "id": "17d58aae-b975-4cd9-8212-9cef326df35b",
   "metadata": {},
   "source": [
    ":::{card} 例\n",
    "\n",
    "$$\n",
    "\\int \\log x d x\n",
    "$$\n",
    "\n",
    "を求める。$f=\\log x, g=x$と考えて部分積分法を用いる。\n",
    "\n",
    "$$\n",
    "\\begin{aligned}\n",
    "\\int \\log x d x & =\\int \\log x \\cdot(x)^{\\prime} d x=\\log x \\cdot x-\\int(\\log x)^{\\prime} x d x \\\\\n",
    "& =x \\log x-\\int \\frac{1}{x} x d x=x \\log x-\\int d x \\\\\n",
    "& =x \\log x-x+C\n",
    "\\end{aligned}\n",
    "$$\n",
    ":::"
   ]
  },
  {
   "cell_type": "markdown",
   "id": "d911a4af-99da-4937-a9d2-ab68ff210de5",
   "metadata": {},
   "source": [
    "### 部分分数分解\n",
    "\n",
    "有理関数の不定積分は必ず求めることができる。\n",
    "\n",
    "2つの多項式を$f(x), g(x)$として、有理関数$F(x)$は\n",
    "\n",
    "$$\n",
    "F(x)=\\frac{f(x)}{g(x)}\n",
    "$$\n",
    "\n",
    "と表される。分子にある$f(x)$の字数が分母にある$g(x)$の次数より高いならば、\n",
    "\n",
    "$$\n",
    "\\frac{x^3+4 x^2+2 x+1}{x^2+3}=x+4-\\frac{x+11}{x^2+3}\n",
    "$$\n",
    "\n",
    "のような変形により、「多項式」と「分子の次数が分母の次数より低い有理関数」の和に書くことができる。\n",
    "\n",
    "\n",
    "このとき、すべての有理関数は$\\displaystyle\\frac{1}{(x+a)^m}$と$\\displaystyle\\frac{A x+B}{\\left[(x-a)^2+b^2\\right]^m}$の形の和に分解できる。\n"
   ]
  }
 ],
 "metadata": {
  "kernelspec": {
   "display_name": "Python 3 (ipykernel)",
   "language": "python",
   "name": "python3"
  },
  "language_info": {
   "codemirror_mode": {
    "name": "ipython",
    "version": 3
   },
   "file_extension": ".py",
   "mimetype": "text/x-python",
   "name": "python",
   "nbconvert_exporter": "python",
   "pygments_lexer": "ipython3",
   "version": "3.10.13"
  }
 },
 "nbformat": 4,
 "nbformat_minor": 5
}
