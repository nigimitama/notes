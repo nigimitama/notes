{
 "cells": [
  {
   "cell_type": "markdown",
   "id": "ebd37d62-19bc-4bc0-87a7-d8d5afb5d469",
   "metadata": {},
   "source": [
    "# 定積分"
   ]
  },
  {
   "cell_type": "markdown",
   "id": "309255ea-6b5b-4f0b-96df-6345ade53f28",
   "metadata": {},
   "source": [
    "関数$y=f(x)$のグラフを考える。$f(x)$は区間$a\\leq x \\leq b$で連続であり正であるとする。その曲線、$x=a, x=b$で囲まれた面積を$S$とする"
   ]
  },
  {
   "cell_type": "code",
   "execution_count": 44,
   "id": "2d95386d-9b61-474e-8183-1ed9544c21a9",
   "metadata": {
    "jupyter": {
     "source_hidden": true
    },
    "tags": [
     "hide-input"
    ]
   },
   "outputs": [
    {
     "data": {
      "image/png": "[encoded data removed]",
      "text/plain": [
       "<Figure size 500x300 with 1 Axes>"
      ]
     },
     "metadata": {},
     "output_type": "display_data"
    }
   ],
   "source": [
    "import numpy as np\n",
    "import matplotlib.pyplot as plt\n",
    "\n",
    "x = np.linspace(0, 7, 300)\n",
    "y = 0.5 * x + np.sin(x)\n",
    "xticks = []\n",
    "xticklabels = []\n",
    "\n",
    "fig, ax = plt.subplots(figsize=[5,3])\n",
    "ax.plot(x, y)\n",
    "\n",
    "a = 1\n",
    "ax.axvline(a, linestyle=\"--\")\n",
    "xticks.append(a)\n",
    "xticklabels.append(\"$a$\")\n",
    "\n",
    "b = 6\n",
    "ax.axvline(b, linestyle=\"--\")\n",
    "xticks.append(b)\n",
    "xticklabels.append(\"$b$\")\n",
    "\n",
    "ax.set(xlabel=\"x\", ylabel=\"y\", xticks=xticks, xticklabels=xticklabels, yticks=[])\n",
    "ax.fill_between(x[(a <= x) & (x <= b)], y[(a <= x) & (x <= b)], color='lightblue', alpha=0.5)\n",
    "ax.text(a + 0.4 + (b - a) // 2, 0.5, \"S\", color=\"steelblue\")\n",
    "\n",
    "ax.spines['top'].set_visible(False)\n",
    "ax.spines['right'].set_visible(False)\n",
    "ax.spines['bottom'].set_position('zero')\n",
    "ax.spines['left'].set_position('zero')\n",
    "\n",
    "fig.show()"
   ]
  },
  {
   "cell_type": "markdown",
   "id": "4c0e1d0a-3d79-40c6-98a4-03f6ca8615fc",
   "metadata": {},
   "source": [
    "区間$a\\leq x \\leq b$を\n",
    "\n",
    "$$\n",
    "a=x_0<x_1<x_2<\\cdots<x_{k-1}<x_k<\\cdots<x_{n-1}<b=x_n\n",
    "$$\n",
    "\n",
    "であるような$n+1$個の点$x_0, x_1, x_2, \\cdots, x_{n-1}, x_n$によって$n$個の小区間$I_1, I_2, \\cdots, I_{n-1}, I_n$に分割する。小区間$I_k$の大きさは$\\Delta x_k = x_k - x_{k-1}$である。\n",
    "\n",
    "点$x_k$に$x$軸に垂直な直線をひくと、面積$S$は$n$個の「帯」に分けられる。\n",
    "小区間の中の点を$\\xi_k$とすると、「帯」の面積は底辺の長さが$\\Delta x_k$で高さが$y_k=f(\\xi_k)$の長方形の面積$f(\\xi_k)\\Delta x_k$で近似する。\n",
    "\n",
    "このとき、求める面積$S$は長方形の面積の和\n",
    "\n",
    "$$\n",
    "S_n = \\sum^n_{k=1} f(\\xi_k)\\Delta x_k\n",
    "$$\n",
    "\n",
    "で近似される。このような和を積和と呼ぶことにする。\n"
   ]
  },
  {
   "cell_type": "code",
   "execution_count": 68,
   "id": "7f9a9a24-f25d-4976-b00f-893021337c66",
   "metadata": {
    "jupyter": {
     "source_hidden": true
    },
    "tags": [
     "hide-input"
    ]
   },
   "outputs": [
    {
     "data": {
      "image/png": "[encoded data removed]",
      "text/plain": [
       "<Figure size 500x300 with 1 Axes>"
      ]
     },
     "metadata": {},
     "output_type": "display_data"
    }
   ],
   "source": [
    "import numpy as np\n",
    "import matplotlib.pyplot as plt\n",
    "\n",
    "def f(x):\n",
    "    return 0.5 * x + np.sin(x)\n",
    "\n",
    "x = np.linspace(0, 7, 300)\n",
    "y = f(x)\n",
    "xticks = []\n",
    "xticklabels = []\n",
    "\n",
    "fig, ax = plt.subplots(figsize=[5,3])\n",
    "ax.plot(x, y)\n",
    "\n",
    "a = 1\n",
    "ax.axvline(a, linestyle=\"--\")\n",
    "xticks.append(a)\n",
    "xticklabels.append(\"$a$\")\n",
    "\n",
    "b = 6\n",
    "ax.axvline(b, linestyle=\"--\")\n",
    "xticks.append(b)\n",
    "xticklabels.append(\"$b$\")\n",
    "\n",
    "ax.fill_between(x[(a <= x) & (x <= b)], y[(a <= x) & (x <= b)], color='lightblue', alpha=0.5)\n",
    "ax.text(a + 0.4 + (b - a) // 2, 0.5, \"S\", color=\"steelblue\")\n",
    "\n",
    "# 「帯」\n",
    "x_ks = [a + i for i in range(1, b)]\n",
    "for k, x_k in enumerate(x_ks):\n",
    "    ax.axvline(x_k, ymax=f(x_k) / max(y), linestyle=\"--\")\n",
    "    xticks.append(x_k)\n",
    "    xticklabels.append(f\"$x_{k}$\")\n",
    "\n",
    "# 長方形\n",
    "import matplotlib.patches as patches\n",
    "linesettings = dict(color=\"darkorange\", alpha=0.7)\n",
    "delta_x = x_ks[2] - x_ks[1]\n",
    "rect = patches.Rectangle(\n",
    "    xy=(x_ks[1], 0),\n",
    "    width=delta_x,\n",
    "    height=f(x_ks[1]),\n",
    "    linewidth=2,\n",
    "    edgecolor='darkorange',\n",
    "    facecolor='lightyellow',\n",
    "    alpha=0.8\n",
    ")\n",
    "ax.add_patch(rect)\n",
    "\n",
    "# axis\n",
    "ax.spines['top'].set_visible(False)\n",
    "ax.spines['right'].set_visible(False)\n",
    "ax.spines['bottom'].set_position('zero')\n",
    "ax.spines['left'].set_position('zero')\n",
    "\n",
    "ax.set(xlabel=\"x\", ylabel=\"y\", xticks=xticks, xticklabels=xticklabels, yticks=[])\n",
    "fig.show()"
   ]
  },
  {
   "cell_type": "markdown",
   "id": "bbdf80a9-65a7-4bac-af4c-1f49d0380c8d",
   "metadata": {},
   "source": [
    "分割する小区間の長さ$\\Delta_x$が限りなく小さくなるように細かく分割していくと、積和はある一定の値に限りなく近づく。その極限値（$f(x)$が連続なら必ず存在する）は面積$S$に等しい。\n",
    "\n",
    "この極限値を\n",
    "\n",
    "$$\n",
    "\\int_a^b f(x) d x=\\lim _{n \\rightarrow \\infty} \\sum_{k=1}^n f\\left(\\xi_k\\right) \\Delta x_k\n",
    "$$\n",
    "\n",
    "で表し、関数$f(x)$の$a$から$b$までの **定積分** （definite integral） という。$b$を積分上限、$a$を積分下限と呼ぶ。"
   ]
  },
  {
   "cell_type": "markdown",
   "id": "805f7a2b-b396-4098-bae5-d5ade8fd35ce",
   "metadata": {},
   "source": [
    "### 負の面積\n",
    "\n",
    "関数が負の場合をとる場合でも積分は定義できる。積和の定義より、関数の値が負の部分はその部分からの面積への寄与は負である。\n"
   ]
  },
  {
   "cell_type": "code",
   "execution_count": 76,
   "id": "2f98874d-e8bf-4c81-8c9d-98ec13f94aae",
   "metadata": {
    "jupyter": {
     "source_hidden": true
    },
    "tags": [
     "hide-input"
    ]
   },
   "outputs": [
    {
     "data": {
      "image/png": "[encoded data removed]",
      "text/plain": [
       "<Figure size 500x300 with 1 Axes>"
      ]
     },
     "metadata": {},
     "output_type": "display_data"
    }
   ],
   "source": [
    "import numpy as np\n",
    "import matplotlib.pyplot as plt\n",
    "\n",
    "x = np.linspace(0, 7, 300)\n",
    "y = np.sin(x - 0.5)\n",
    "xticks = []\n",
    "xticklabels = []\n",
    "\n",
    "fig, ax = plt.subplots(figsize=[5,3])\n",
    "ax.plot(x, y)\n",
    "\n",
    "a = 1\n",
    "ax.axvline(a, linestyle=\"--\")\n",
    "xticks.append(a)\n",
    "xticklabels.append(\"$a$     \")\n",
    "\n",
    "b = 6\n",
    "ax.axvline(b, linestyle=\"--\")\n",
    "xticks.append(b)\n",
    "xticklabels.append(\"$b$     \")\n",
    "\n",
    "ax.set(xlabel=\"x\", ylabel=\"y\", xticks=xticks, xticklabels=xticklabels, yticks=[])\n",
    "ax.fill_between(x[(a <= x) & (x <= b)], y[(a <= x) & (x <= b)], color='lightblue', alpha=0.5)\n",
    "\n",
    "ax.spines['top'].set_visible(False)\n",
    "ax.spines['right'].set_visible(False)\n",
    "ax.spines['bottom'].set_position('zero')\n",
    "ax.spines['left'].set_position('zero')\n",
    "\n",
    "fig.show()"
   ]
  },
  {
   "cell_type": "markdown",
   "id": "1173a80d-5a13-4e34-afe4-f68c1a2dee6a",
   "metadata": {},
   "source": [
    "## 定積分の性質\n",
    "\n",
    "1. $\\displaystyle \\int_a^b\\{f(x) \\pm g(x)\\} d x=\\int_a^b f(x) d x \\pm \\int_a^b g(x) d x$\n",
    "2. $\\displaystyle \\int_a^b k f(x) d x=k \\int_a^b f(x) d x \\quad(k$ : 定数 $)$\n",
    "3. $\\displaystyle a \\leqq x \\leqq b$ で $f(x) \\geqq 0$ ならば $\\int_a^b f(x) d x \\geqq 0$\n",
    "4. $\\displaystyle \\quad a \\leqq x \\leqq b$ で $f(x) \\geqq g(x)$ ならば $\\int_a^b f(x) d x \\geqq \\int_a^b g(x) d x$\n",
    "5. 平均値の定理：$\\displaystyle \\int_a^b f(x) d x=f(c)(b-a) \\quad(a<c<b)$"
   ]
  },
  {
   "cell_type": "markdown",
   "id": "b94f5b19-f077-4f00-86db-aaf9bc3684c0",
   "metadata": {},
   "source": [
    "## 定積分の計算\n",
    "\n",
    "$F'(x) = f(x)$を満たすある関数$F(x)$がわかったとき、定積分\n",
    "\n",
    "$$\n",
    "\\int_a^b f(x) d x\n",
    "$$\n",
    "\n",
    "はどのように求められるか。\n",
    "\n",
    "\n",
    "下限を定数、上限を変数とした$\\int_a^x f(t) d t$も原始関数であるから、\n",
    "\n",
    "$$\n",
    "\\int_a^x f(t) d t = F(x) + C\n",
    "$$\n",
    "\n",
    "が成り立つ。\n",
    "\n",
    "上の式で$x=a$とおくと\n",
    "\n",
    "$$\n",
    "0 = F(a) + C\n",
    "$$\n",
    "\n",
    "なので\n",
    "\n",
    "$$\n",
    "\\int_a^x f(t) d t = F(x) - F(a)\n",
    "$$\n",
    "\n",
    "であり、$x=b$とおくと\n",
    "\n",
    "$$\n",
    "\\int_a^b f(t) d t=F(b)-F(a)\n",
    "$$\n",
    "\n",
    "すなわち、「定積分の値は、原始関数の積分上限での値$F(b)$から、下限での値$F(a)$を引いたもの」となる。\n"
   ]
  },
  {
   "cell_type": "markdown",
   "id": "e744b464-a900-4e63-9522-389cea66d991",
   "metadata": {},
   "source": [
    "\n",
    "\n",
    "定積分を表す記号として\n",
    "\n",
    "$$\n",
    "[F(t)]_a^b=F(b)-F(a)\n",
    "$$\n",
    "\n",
    "や\n",
    "\n",
    "$$\n",
    "\\int_a^b f(t) d t=[F(t)]_a^b\n",
    "$$\n",
    "\n",
    "や\n",
    "\n",
    "$$\n",
    "\\int_a^b f(t) d t=\\left.F(t)\\right|_a ^b\n",
    "$$\n",
    "\n",
    "という記号が用いられる"
   ]
  },
  {
   "cell_type": "markdown",
   "id": "893c4f7b-366a-4c4e-87e5-525d19cc2525",
   "metadata": {},
   "source": [
    "\n",
    ":::{admonition} 定積分の計算\n",
    "$$\n",
    "\\left. \\int_a^b f(x) d x = F(x) \\right|_a^b =F(b)-F(a)\n",
    "$$\n",
    ":::\n"
   ]
  },
  {
   "cell_type": "markdown",
   "id": "c7991a14-292e-4341-af53-9d1ac5830aab",
   "metadata": {},
   "source": [
    "## 広義積分\n",
    "\n",
    "区間内で不連続点がある場合や、無限区間での積分へ拡張した定積分を **広義積分**（improper integral）という。\n",
    "\n",
    "2種類ある\n",
    "\n",
    "1. 被積分関数 $f(x)$ が区間 $a \\leqq x \\leqq b$ で有限個の不連続点を持つ.\n",
    "2. 積分の上限, 下限の一方または両方が無限大である."
   ]
  },
  {
   "cell_type": "markdown",
   "id": "a20f5d34-64a2-4261-88ac-0f205eff3d7f",
   "metadata": {},
   "source": [
    "### 不連続な被積分関数\n",
    "\n",
    "関数 $f(x)$ が区間 $a < x \\leqq b$ で連続であるとき、もし極限\n",
    "\n",
    "$$\n",
    "\\lim_{\\varepsilon \\rightarrow+0} \\int_{a+\\varepsilon}^b f(x) d x\n",
    "$$\n",
    "\n",
    "が存在するならば、 $f(x)$ は $a \\leqq x \\leqq b$ で積分可能であるといい、この極限値を\n",
    "\n",
    "$$\n",
    "\\int_a^b f(x) d x\n",
    "$$\n",
    "\n",
    "で表わす。同様に、 $f(x)$ が $a \\leqq x<b$ で連続であるとき（下の式の右辺が存在するならば）、\n",
    "\n",
    "$$\n",
    "\\int_a^b f(x) d x=\\lim _{\\varepsilon \\rightarrow+0} \\int_a^{b-\\varepsilon} f(x) d x\n",
    "$$\n",
    "\n",
    "と表わす。\n",
    "\n",
    "いま $f(x)$ が $a \\leqq x \\leqq b$ 内の 1 点 $c$ を除いて連続であるならば（下の式の右辺 の 2 つの極限が存在すると仮定して）\n",
    "\n",
    "$$\n",
    "\\int_a^b f(x) d x=\\lim _{\\varepsilon_1 \\rightarrow+0} \\int_a^{c-\\varepsilon_1} f(x) d x+\\lim _{\\varepsilon_2 \\rightarrow+0} \\int_{c+\\varepsilon_2}^b f(x) d x\n",
    "$$\n",
    "\n",
    "区間$a\\leq x \\leq b$ 内に有限個の不連続点が存在するならば、この区間をいくつかの部分区間に分けて、そのいずれにもただ 1 つの不連続点があるようにできるので、同様に扱うことができる。\n",
    "\n",
    "上記のような極限が存在するとき、 **広義積分は収束する** という。"
   ]
  },
  {
   "cell_type": "markdown",
   "id": "134e4fa5-f17e-4064-8eee-c5806d2ca389",
   "metadata": {},
   "source": [
    "### 無限区間の積分\n",
    "\n",
    "関数$f(x)$が$x\\geq a$で連続であって、極限\n",
    "\n",
    "$$\n",
    "\\lim _{b \\rightarrow+\\infty} \\int_a^b f(x) d x\n",
    "$$\n",
    "\n",
    "が存在するならば、この極限値を\n",
    "\n",
    "$$\n",
    "\\int_a^{\\infty} f(x) d x\n",
    "$$\n",
    "\n",
    "で表わす。同様にして、\n",
    "\n",
    "$$\n",
    "\\begin{aligned}\n",
    "& \\int_{-\\infty}^b f(x) d x=\\lim _{a \\rightarrow-\\infty} \\int_a^b f(x) d x \\\\\n",
    "& \\int_{-\\infty}^{\\infty} f(x) d x=\\lim _{a \\rightarrow-\\infty} \\lim _{b \\rightarrow \\infty} \\int_a^b f(x) d x\n",
    "\\end{aligned}\n",
    "$$\n",
    "\n",
    "が定義される。\n"
   ]
  },
  {
   "cell_type": "code",
   "execution_count": null,
   "id": "630b43cb-8af1-49ea-8aa2-8f689f0ccd7f",
   "metadata": {},
   "outputs": [],
   "source": []
  }
 ],
 "metadata": {
  "kernelspec": {
   "display_name": "Python 3 (ipykernel)",
   "language": "python",
   "name": "python3"
  },
  "language_info": {
   "codemirror_mode": {
    "name": "ipython",
    "version": 3
   },
   "file_extension": ".py",
   "mimetype": "text/x-python",
   "name": "python",
   "nbconvert_exporter": "python",
   "pygments_lexer": "ipython3",
   "version": "3.10.13"
  }
 },
 "nbformat": 4,
 "nbformat_minor": 5
}
