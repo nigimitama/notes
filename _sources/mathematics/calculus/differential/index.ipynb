{
 "cells": [
  {
   "cell_type": "markdown",
   "id": "712521e9-21fc-4820-a639-429b6fd2e2c1",
   "metadata": {},
   "source": [
    "# 微分法\n",
    "\n",
    ":::{tableofcontents}\n",
    ":::"
   ]
  }
 ],
 "metadata": {
  "kernelspec": {
   "display_name": "Python 3 (ipykernel)",
   "language": "python",
   "name": "python3"
  },
  "language_info": {
   "codemirror_mode": {
    "name": "ipython",
    "version": 3
   },
   "file_extension": ".py",
   "mimetype": "text/x-python",
   "name": "python",
   "nbconvert_exporter": "python",
   "pygments_lexer": "ipython3",
   "version": "3.10.13"
  }
 },
 "nbformat": 4,
 "nbformat_minor": 5
}
