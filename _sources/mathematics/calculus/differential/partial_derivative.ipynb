{
 "cells": [
  {
   "cell_type": "markdown",
   "id": "f6827776-cbde-4b70-9d8d-64ebfc026137",
   "metadata": {},
   "source": [
    "# 偏微分"
   ]
  },
  {
   "cell_type": "markdown",
   "id": "7a8175c3-024e-479c-8a6c-a8fa152e2f8a",
   "metadata": {},
   "source": [
    "## 2変数の関数"
   ]
  },
  {
   "cell_type": "markdown",
   "id": "bc10fc28-929b-4c8e-88eb-ad79752786f6",
   "metadata": {},
   "source": [
    "### 極限\n",
    "\n",
    ":::{admonition} 定義（極限）\n",
    "\n",
    "2つの変数$x,y$による関数$f(x, y)$があるとする。点P$(x,y)$が点A$(a,b)$と一致することなく点Aに近づくとする。このとき、関数$f(x,y)$の値が、その近づき方によらず同じ1つの値$c$に近づくならば、$f(x,y)$には **極限** が存在して、その **極限値** は$c$である、あるいは「$f(x,y)$は$c$に **収束する**」といい\n",
    "\n",
    "$$\n",
    "f(x, y) \\rightarrow c \\quad(x \\rightarrow a, y \\rightarrow b), \\quad\n",
    "\\lim _{\\substack{x \\rightarrow a, \\\\ y \\rightarrow b}} f(x, y)=c, \\quad\n",
    "\\lim_{\\mathrm{P} \\rightarrow \\mathrm{A}} f(x, y)=c, \\quad\n",
    "\\lim _{(x, y) \\rightarrow(a, b)} f(x, y)=c\n",
    "$$\n",
    "\n",
    "などと表す。\n",
    ":::"
   ]
  },
  {
   "cell_type": "markdown",
   "id": "7162ed1b-928a-451b-8fc7-dacd8af33e62",
   "metadata": {},
   "source": [
    ":::{card} 例：近づき方が異なるとき、極限は存在しない\n",
    "\n",
    "関数 $\\displaystyle f(x, y)=\\frac{x^2}{x^2+y^2}$ において, $x \\rightarrow 0, y \\rightarrow 0$ の極限を調べる。\n",
    "\n",
    "この関数の定義域は全平面から原点$O$を除外して得られる領域である。\n",
    "点P$(x, y)$が2つの方法でOに近づくとする。\n",
    "\n",
    "**(1) $x$軸に沿って原点に近づく場合**\n",
    "\n",
    "$f(x, 0) = x^2 / (x^2 + 0) = 1$なので\n",
    "\n",
    "$$\n",
    "\\lim _{x \\rightarrow 0} f(x, 0)=\\lim _{x \\rightarrow 0} 1=1\n",
    "$$\n",
    "\n",
    "**(2) $y$軸に沿って原点に近づく場合**\n",
    "\n",
    "$f(0, y)=0 /(0+y^2)=0$なので\n",
    "\n",
    "$$\n",
    "\\lim _{y \\rightarrow 0} f(0, y)=\\lim _{y \\rightarrow 0} 0=0\n",
    "$$\n",
    "\n",
    "したがって、原点への近づき方によって異なる値をとるため、極限値$\\displaystyle \\lim_{P\\to 0} f(x,y)$は存在しない\n",
    ":::"
   ]
  },
  {
   "cell_type": "markdown",
   "id": "80b9dab4-44e6-43e2-bcf1-9910786cb027",
   "metadata": {},
   "source": [
    "### 連続\n",
    "\n",
    ":::{admonition} 定義（連続）\n",
    "\n",
    "点$A(a,b)$の近くで定義されている関数$z=f(x,y)$について、次の3つの条件を満たすとき、$f(x,y)$は$A(a,b)$において **連続** であるという。\n",
    "\n",
    "1. $f(a, b)$ が定義されている\n",
    "2. $\\displaystyle \\lim _{\\substack{x \\rightarrow a \\\\ y \\rightarrow b}} f(x, y)$ が存在する\n",
    "3. $\\displaystyle \\lim _{\\substack{x \\rightarrow a \\\\ y \\rightarrow b}} f(x, y)=f(a, b)$\n",
    ":::"
   ]
  },
  {
   "cell_type": "markdown",
   "id": "f0c85e0a-9591-4036-a6af-4802a62dfbfe",
   "metadata": {},
   "source": [
    ":::{card} 例\n",
    "\n",
    "Q. 関数\n",
    "\n",
    "$$\n",
    "f(x, y)= \\begin{cases}\n",
    "\\frac{x y}{x^2+y^2} & ((x, y) \\neq(0,0)) \\\\\n",
    "0 & ((x, y)=(0,0))\n",
    "\\end{cases}\n",
    "$$\n",
    "\n",
    "の原点$(0,0)$での連続性を調べよ。\n",
    "\n",
    "$f(0,0)$は定義されている。\n",
    "\n",
    "$f(x,y)$は$x=0$あるいは$y=0$のとき常に$0$であるから、$x$軸や$y$軸に沿って原点に近づくとき\n",
    "\n",
    "$$\n",
    "\\lim _{x \\rightarrow 0} f(x, 0)=0=f(0,0)\\\\\n",
    "\\lim _{y \\rightarrow 0} f(0, y)=0=f(0,0)\n",
    "$$\n",
    "\n",
    "しかし直線$y=mx(m\\neq 0)$に沿って原点に近づくと\n",
    "\n",
    "$$\n",
    "\\lim _{x \\rightarrow 0} f(x, m x)=\\lim _{x \\rightarrow 0} \\frac{m x^2}{x^2+m^2 x^2}=\\lim _{x \\rightarrow 0} \\frac{m}{1+m^2}=\\frac{m}{1+m^2} \\neq f(0,0)\n",
    "$$\n",
    "\n",
    "となり、$m$の値によって（原点への近づけ方によって）異なる値になるため極限は存在せず、連続でもない\n",
    ":::"
   ]
  },
  {
   "cell_type": "markdown",
   "id": "ef48395e-38a0-47a5-b816-5aed3a1e3973",
   "metadata": {},
   "source": [
    "## 偏微分\n",
    "\n",
    "\n",
    "関数$z = f(x, y)$があるとする。$y$を一定として$x$を変動させることを考えると、$f(x, y)$は$x$だけの関数になるので、その導関数\n",
    "\n",
    "$$\n",
    "\\frac{\\partial f(x, y)}{\\partial x}=\\lim _{\\Delta x \\rightarrow 0} \\frac{f(x+\\Delta x, y)-f(x, y)}{\\Delta x}\n",
    "$$\n",
    "\n",
    "が存在すれば、**偏微分可能** であるという。また$\\frac{\\partial f}{\\partial x}$を$f(x,y)$の$x$に関する **偏導関数** （partial derivative）という。"
   ]
  },
  {
   "cell_type": "markdown",
   "id": "e0224c46-1207-43ea-9011-c5662134a8ee",
   "metadata": {},
   "source": [
    ":::{admonition} 偏微分の記号\n",
    "\n",
    "$f(x,y)$の$x$に関する偏導関数は、以下のような記号で表される。\n",
    "\n",
    "$$\n",
    "\\frac{\\partial f(x, y)}{\\partial x}, \\quad f_x, \\quad f_x(x, y), \\quad  \\frac{\\partial z}{\\partial x}, \\quad z_x, \\quad \\left.\\frac{\\partial f(x, y)}{\\partial x}\\right|_y\n",
    "$$\n",
    ":::"
   ]
  },
  {
   "cell_type": "markdown",
   "id": "a5a5a78d-efb0-43a5-8e5c-1765241dc5bc",
   "metadata": {},
   "source": [
    "### 高階の偏微分\n",
    "\n",
    "$$\n",
    "\\begin{aligned}\n",
    "& \\frac{\\partial^2 f(x, y)}{\\partial x^2}=\\frac{\\partial}{\\partial x}\\left(\\frac{\\partial f(x, y)}{\\partial x}\\right)=f_{x x}(x, y) \\\\\n",
    "& \\frac{\\partial^2 f(x, y)}{\\partial y \\partial x}=\\frac{\\partial}{\\partial y}\\left(\\frac{\\partial f(x, y)}{\\partial x}\\right)=f_{x y}(x, y) \\\\\n",
    "& \\frac{\\partial^2 f(x, y)}{\\partial y^2}=\\frac{\\partial}{\\partial y}\\left(\\frac{\\partial f(x, y)}{\\partial y}\\right)=f_{y y}(x, y) \\\\\n",
    "& \\frac{\\partial^2 f(x, y)}{\\partial x \\partial y}=\\frac{\\partial}{\\partial x}\\left(\\frac{\\partial f(x, y)}{\\partial y}\\right)=f_{y x}(x, y)\n",
    "\\end{aligned}\n",
    "$$\n"
   ]
  },
  {
   "cell_type": "markdown",
   "id": "a798bc4f-3d66-451d-9575-c686ccf6974f",
   "metadata": {},
   "source": [
    ":::{admonition} 定理：偏微分の順序を交換しても偏導関数は変わらない\n",
    "\n",
    "$f_{xy}$と$f_{yx}$が連続ならば、\n",
    "\n",
    "$$\n",
    "f_{x y}=f_{y x}\n",
    "$$\n",
    ":::"
   ]
  },
  {
   "cell_type": "markdown",
   "id": "2356f698-242c-476c-aea1-aa3f2be8ccda",
   "metadata": {},
   "source": [
    "## 陰関数の微分\n",
    "\n",
    "$y=f(x)$のように、$x$に対応する$y$の具体的な表式が示されているとき、$y$は$x$の **陽関数** （explicit function）であるという。\n",
    "\n",
    "$F(x,y)=0$のように関係式として定められているだけのとき、$y$は$x$の **陰関数** （inplicit function）であるという。\n",
    "\n",
    "\n",
    ":::{card} 例\n",
    "$F(x,y)=0$のとき、$y$による偏導関数$F_y$が$F_y \\neq 0$ならば\n",
    "\n",
    "$$\n",
    "\\frac{dy}{dx}\n",
    "= - \\frac{F_x(x, y)}{F_y(x,y)}\n",
    "= - \\frac{\\partial F(x,y) / \\partial x}\n",
    "{\\partial F(x,y) / \\partial y}\n",
    "$$\n",
    "\n",
    ":::\n",
    "\n",
    ":::{dropdown} 証明\n",
    "\n",
    "$y$ は $x$ の関数だから、 $d y=\\frac{d y}{d x} d x$。\n",
    "\n",
    "また$F(x,y)=0$だから、$dF=0$。\n",
    "\n",
    "したがって\n",
    "\n",
    "$$\n",
    "d F=\\frac{\\partial F}{\\partial x} d x+\\frac{\\partial F}{\\partial y} d y=\\left(\\frac{\\partial F}{\\partial x}+\\frac{\\partial F}{\\partial y} \\frac{d y}{d x}\\right) d x=0\n",
    "$$\n",
    "\n",
    "よって\n",
    "\n",
    "$$\n",
    "\\frac{\\partial F}{\\partial x}+\\frac{\\partial F}{\\partial y} \\frac{d y}{d x}=0\n",
    "$$\n",
    ":::"
   ]
  }
 ],
 "metadata": {
  "kernelspec": {
   "display_name": "Python 3 (ipykernel)",
   "language": "python",
   "name": "python3"
  },
  "language_info": {
   "codemirror_mode": {
    "name": "ipython",
    "version": 3
   },
   "file_extension": ".py",
   "mimetype": "text/x-python",
   "name": "python",
   "nbconvert_exporter": "python",
   "pygments_lexer": "ipython3",
   "version": "3.10.14"
  }
 },
 "nbformat": 4,
 "nbformat_minor": 5
}
