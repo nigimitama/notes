{
 "cells": [
  {
   "cell_type": "markdown",
   "id": "dbab1492-09fe-45b8-952b-a1ca1adee77b",
   "metadata": {},
   "source": [
    "# 全微分"
   ]
  },
  {
   "cell_type": "code",
   "execution_count": null,
   "id": "66c1710e-bf18-4fe4-8b88-131d6eb556de",
   "metadata": {},
   "outputs": [],
   "source": []
  }
 ],
 "metadata": {
  "kernelspec": {
   "display_name": "",
   "name": ""
  },
  "language_info": {
   "name": ""
  }
 },
 "nbformat": 4,
 "nbformat_minor": 5
}
