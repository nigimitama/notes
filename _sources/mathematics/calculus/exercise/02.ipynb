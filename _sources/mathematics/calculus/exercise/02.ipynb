{
 "cells": [
  {
   "cell_type": "markdown",
   "id": "66b87dfa-0eb9-453d-b573-10ac57ec3941",
   "metadata": {},
   "source": [
    "# 練習問題メモ 02\n",
    "\n",
    "和達三樹. (2019). 微分積分. 第3章 練習問題"
   ]
  },
  {
   "cell_type": "markdown",
   "id": "ab3c4e30-3957-45b6-ac65-48653bb025bc",
   "metadata": {},
   "source": [
    "## \\[4\\] 次の関数の$n$次導関数を求めよ"
   ]
  },
  {
   "cell_type": "markdown",
   "id": "8ae3e4cb-e37b-4d31-b6b8-6e59650ba237",
   "metadata": {},
   "source": [
    "> (1) $y=\\frac{1}{x}$"
   ]
  },
  {
   "cell_type": "markdown",
   "id": "6b303ed3-6aaf-450a-bbcb-17c2cd3ef70e",
   "metadata": {},
   "source": [
    "$y=x^{-1}$なので\n",
    "\n",
    "$n=1$のとき、$f'(x) = -1 \\cdot x^{-2}$\n",
    "\n",
    "$n=2$のとき、$f''(x) = -1 \\cdot (-2) \\cdot x^{-3}$\n",
    "\n",
    "$n=3$のとき、$f^{(3)}(x) = -1 \\cdot (-2) \\cdot (-3) x^{-4}$\n",
    "\n",
    "$n=4$のとき、$f^{(4)}(x) = -1 \\cdot (-2) \\cdot (-3) \\cdot (-4) x^{-5}$\n",
    "\n",
    "よって一般に\n",
    "\n",
    "$$\n",
    "f^{(n)}(x) = (-1)^{n} n! x^{-(n+1)}\n",
    "$$\n"
   ]
  },
  {
   "cell_type": "markdown",
   "id": "3fa502b4-c196-40ff-86ad-f92d7e4801b8",
   "metadata": {},
   "source": [
    "> (2) $y=a^x \\quad (a>0)$\n",
    "\n",
    "\n",
    "\n"
   ]
  },
  {
   "cell_type": "markdown",
   "id": "8c514e20-cef1-4337-aa94-677f130e48f7",
   "metadata": {},
   "source": [
    ":::{dropdown} $(a^x)' = a^x \\log a$\n",
    "$$\n",
    "\\log y = x \\log a\\\\\n",
    "\\to x = \\frac{\\log y}{\\log a}\n",
    "$$\n",
    "\n",
    "$$\n",
    "\\frac{dx}{dy} = \\frac{1}{y \\log a}\\\\\n",
    "\\frac{dy}{dx} = 1 / \\frac{dx}{dy}\\\\\n",
    "= y \\log a\\\\\n",
    "= a^x \\log a\n",
    "$$\n",
    ":::"
   ]
  },
  {
   "cell_type": "markdown",
   "id": "db14935f-41f2-4594-adea-c48da4a3dc9e",
   "metadata": {},
   "source": [
    ":::{dropdown} $(a^x)'' = a^x (\\log a)^2$\n",
    "\n",
    "$$\n",
    "\\log y' = x \\log a + \\log \\log a\\\\\n",
    "\\to x = \\frac{\\log y' - \\log\\log a}{\\log a}\n",
    "$$\n",
    "\n",
    "$$\n",
    "\\frac{dx}{dy} = \\left(\n",
    "    \\frac{\\log y'}{\\log a}\n",
    "    - \\frac{\\log\\log a}{\\log a}\n",
    "\\right)'\n",
    "= \\frac{1}{\\log a} \\frac{1}{y}\n",
    "$$\n",
    "\n",
    "$$\n",
    "\\frac{dy}{dx} = 1 / \\frac{dx}{dy}\\\\\n",
    "= y \\log a\\\\\n",
    "= a^x \\log a \\log a\n",
    "$$\n",
    ":::"
   ]
  },
  {
   "cell_type": "markdown",
   "id": "41d44884-08af-4ec7-9c44-73c772c8d09e",
   "metadata": {},
   "source": [
    "$$\n",
    "f^{(n)}(x) = \\frac{d^n}{dx} a^x\n",
    "= a^x (\\log a)^n\n",
    "$$"
   ]
  },
  {
   "cell_type": "markdown",
   "id": "b0b62e8e-1069-4020-9732-72cba3c763b2",
   "metadata": {},
   "source": [
    "> (3) $y=x^2 e^x$"
   ]
  },
  {
   "cell_type": "markdown",
   "id": "9c54e9d2-932e-405a-8205-4124021b08ae",
   "metadata": {},
   "source": [
    "ライプニッツの公式\n",
    "\n",
    "$$\n",
    "(f g)^{(n)}=\\sum_{k=0}^n{ }_n \\mathrm{C}_k f^{(k)} g^{(n-k)}\n",
    "$$\n",
    "\n",
    "を使って\n",
    "\n",
    "$$\n",
    "\\begin{align}\n",
    "(x^2 e^x)^{(n)}\n",
    "&= \\sum_{k=0}^n { }_n C_k (x^2)^{(k)} (e^x)^{(n-k)}\\\\\n",
    "&= { }_n C_0 (x^2)^{(0)} (e^x)^{(n-0)}\\\\\n",
    "&\\quad+ { }_n C_1 (x^2)^{(1)} (e^x)^{(n-1)}\\\\\n",
    "&\\quad+ { }_n C_2 (x^2)^{(2)} (e^x)^{(n-2)}\\\\\n",
    "&\\quad+ { }_n C_3 (x^3)^{(3)} (e^x)^{(n-3)}\\\\\n",
    "&\\quad+ \\cdots\n",
    "\\\\\n",
    "&= \\frac{n!}{0!(n-0)!}  x^2 e^x\\\\\n",
    "&\\quad + \\frac{n!}{1!(n-1)!}  2x e^x\\\\\n",
    "&\\quad + \\frac{n!}{2!(n-2)!}  2  e^x\\\\\n",
    "&\\quad (\\because x^2 \\text{ の 3階以上の微分は定数の微分になりゼロのため、以降の項は消える})\n",
    "\\\\ \n",
    "&= \\frac{n}{n} x^2 e^x\\\\\n",
    "&\\quad + \\frac{n}{1}  2x e^x\\\\\n",
    "&\\quad + \\frac{n (n-1)}{2}  2 e^x\n",
    "\\\\ \n",
    "&= x^2 e^x + 2nx e^x + n(n-1) e^x\n",
    "\\\\\n",
    "&= e^x \\{ x^2 + 2nx + n(n-1) \\}\n",
    "\\end{align}\n",
    "$$\n",
    ":::"
   ]
  },
  {
   "cell_type": "markdown",
   "id": "8d9793f9-eeb6-4a43-8aae-cbe6d8255e56",
   "metadata": {},
   "source": [
    "## \\[5\\]\n",
    "\n",
    ":::{card}\n",
    "\n",
    "\\[5\\] 助変数表示の微分 $x$ と $y$ が 1 つの変数 $t$ の関数として $x=f(t), y=g(t)$ の形で 与えられているとする. このとき, $y$ は $x$ の関数, または $x$ は $y$ の関数と考えてよく, $t$ を助変数(パラメータ)または媒介変数という. 逆関数の微分法を利用すれば,\n",
    "\n",
    "$$\n",
    "\\frac{d y}{d x}=\\frac{d y}{d t} \\frac{d t}{d x}=\\frac{\\frac{d y}{d t}}{\\frac{d x}{d t}}=\\frac{g^{\\prime}(t)}{f^{\\prime}(t)}\n",
    "$$\n",
    "\n",
    "によって, 導関数を計算できる. これを用いて, 次の関数について, $d y / d x$ を求めよ.\n",
    ":::"
   ]
  },
  {
   "cell_type": "markdown",
   "id": "2681a59e-d7c8-4612-8f37-b5b2385f5af2",
   "metadata": {},
   "source": [
    "> (1) $x=a \\cos t, \\quad y=b \\sin t$\n"
   ]
  },
  {
   "cell_type": "markdown",
   "id": "a93e8897-3851-4392-b388-9611c3830339",
   "metadata": {},
   "source": [
    "$$\n",
    "\\frac{dy}{dt} = b \\cos t\\\\\n",
    "\\frac{dx}{dt} = - a \\sin t\\\\\n",
    "$$\n",
    "\n",
    "なので\n",
    "\n",
    "$$\n",
    "\\frac{d y}{d x} = \\frac{\\frac{d y}{d t}}{\\frac{d x}{d t}}\n",
    "= - \\frac{b \\cos t}{a \\sin t}\n",
    "= - \\frac{b}{a} \\cot t\n",
    "$$\n"
   ]
  },
  {
   "cell_type": "markdown",
   "id": "68333f32-3818-411e-8c97-2560af3cc441",
   "metadata": {},
   "source": [
    "> (2) $x=\\frac{3 a t}{1+t^3}, \\quad y=\\frac{3 a t^2}{1+t^3}$"
   ]
  },
  {
   "cell_type": "markdown",
   "id": "be69513d-9a23-443d-a562-bec6d5d1ad8c",
   "metadata": {},
   "source": [
    "\n",
    "$$\n",
    "\\frac{dy}{dt}\n",
    "= \\frac{(3 a t^2)' (1+t^3) - (3 a t^2) (1+t^3)'}{ (1+t^3)^2 }\\\\\n",
    "= \\frac{6 a t (1+t^3) - 3 a t^2 \\cdot 3t^2}{ (1+t^3)^2 }\\\\\n",
    "= \\frac{ 6at + 6at^4 - 9at^4}{ (1+t^3)^2 }\\\\\n",
    "= \\frac{ 6at - 3at^4}{ (1+t^3)^2 }\\\\\n",
    "$$\n",
    "\n",
    "$$\n",
    "\\frac{dx}{dt}\n",
    "= \\frac{(3at)' (1+t^3) - 3at (1+t^3)'}{(1+t^3)^2}\\\\\n",
    "= \\frac{3a (1+t^3) - 3at \\cdot 3t^2}{ (1+t^3)^2 }\\\\\n",
    "= \\frac{3a + 3a t^3 - 9at^3}{ (1+t^3)^2 }\\\\\n",
    "= \\frac{3a - 6at^3}{ (1+t^3)^2 }\\\\\n",
    "$$\n",
    "\n",
    "なので\n",
    "\n",
    "$$\n",
    "\\frac{d y}{d x} = \\frac{\\frac{d y}{d t}}{\\frac{d x}{d t}}\n",
    "= \\frac{\n",
    "   \\frac{ 6at - 3at^4 }{ (1+t^3)^2}\n",
    "}{\n",
    "    \\frac{ 3a - 6at^3 }{ (1+t^3)^2 }\n",
    "}\\\\\n",
    "= \\frac{ 6at - 3at^4 }{ (1+t^3)^2}\n",
    "  \\frac{ (1+t^3)^2 }{ 3a - 6at^3 }\\\\\n",
    "= \\frac{ 6at - 3at^4  }{ 3a - 6at^3 }\\\\\n",
    "= \\frac{ 1/3  }{ 1/3 } \\frac{ 6at - 3at^4  }{ 3a - 6at^3 }\\\\\n",
    "= \\frac{ 2at - at^4  }{ a - 2at^3 }\\\\\n",
    "= \\frac{ a (2t - t^4)  }{ a (1 - 2t^3) }\\\\\n",
    "= \\frac{ 2t - t^4  }{ 1 - 2t^3 }\\\\\n",
    "= \\frac{ t(2 - t^3)  }{ 1 - 2t^3 }\\\\\n",
    "$$\n"
   ]
  },
  {
   "cell_type": "code",
   "execution_count": null,
   "id": "f5a2df42-550e-4584-a51a-66117e090c98",
   "metadata": {},
   "outputs": [],
   "source": [
    "\n"
   ]
  }
 ],
 "metadata": {
  "kernelspec": {
   "display_name": "Python 3 (ipykernel)",
   "language": "python",
   "name": "python3"
  },
  "language_info": {
   "codemirror_mode": {
    "name": "ipython",
    "version": 3
   },
   "file_extension": ".py",
   "mimetype": "text/x-python",
   "name": "python",
   "nbconvert_exporter": "python",
   "pygments_lexer": "ipython3",
   "version": "3.10.13"
  }
 },
 "nbformat": 4,
 "nbformat_minor": 5
}
