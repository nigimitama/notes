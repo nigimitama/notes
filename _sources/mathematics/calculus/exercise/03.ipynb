{
 "cells": [
  {
   "cell_type": "markdown",
   "id": "b52ccbf2-9a62-4a23-9464-e9bd5dc54b4b",
   "metadata": {},
   "source": [
    "# 練習問題メモ 03\n",
    "\n",
    "和達三樹. (2019). 微分積分. 第5章 練習問題"
   ]
  },
  {
   "cell_type": "markdown",
   "id": "6876e155-53d1-47ab-af17-85bdcb4e80d8",
   "metadata": {},
   "source": [
    "## \\[1\\]\n",
    "\n",
    "> \\[1\\] 次の関数は原点 $(0,0)$ を除いて連続である. 原点でも連続にできるか? 直線 $y$ $=m x$ に沿って原点に近づくとして調べよ.\n",
    "\n",
    ":::{card}\n",
    "\n",
    "$$\n",
    "\\text { (1) } \\quad\n",
    "z=\\frac{e^{x^2+y^2}-1}{x^2+y^2}\n",
    "$$\n",
    ":::\n",
    "\n"
   ]
  },
  {
   "cell_type": "markdown",
   "id": "2ec7c907-5409-4134-9546-a16122203317",
   "metadata": {},
   "source": []
  },
  {
   "cell_type": "markdown",
   "id": "801a06ec-0577-4717-a9ee-734bc6670e2f",
   "metadata": {},
   "source": [
    ":::{card}\n",
    "$$\n",
    "\\text { (2) } \\quad\n",
    "z=\\frac{x^2 y^2}{x^4+y^4}\n",
    "$$\n",
    ":::"
   ]
  },
  {
   "cell_type": "markdown",
   "id": "97e54892-d75f-4da7-96ff-da4ce419a70b",
   "metadata": {},
   "source": [
    "$$\n",
    "\\lim_{x\\to 0} z\n",
    "= \\lim_{x\\to 0} \\frac{x^4 m^2}{x^4 + m^4 x^4}\n",
    "= \\lim_{x\\to 0} \\frac{m^2}{1 + m^4}\n",
    "= \\frac{m^2}{1 + m^4}\n",
    "$$\n",
    "\n",
    "$m$の値によって異なる値をとるため、原点への近づけ方によって異なる値になってしまう。よって極限は存在せず、連続にできない。"
   ]
  },
  {
   "cell_type": "markdown",
   "id": "3d21df4c-fba7-450c-ac7a-48574362cef8",
   "metadata": {},
   "source": [
    "## \\[2\\]\n",
    "\n",
    ":::{card}\n",
    "\\[2\\] 次の関数 $f(x, y)$ の $f_x, f_y, f_{x x}, f_{y y}, f_{x y}, f_{y x}$ を計算せよ.\n",
    "\n",
    "(1) $f(x, y)=x^3-x^2 y+x y^2-y^3+1$\n",
    "\n",
    "(2) $f(x, y)=x^2 \\cos y-y^2 \\cos x$\n",
    "\n",
    "(3) $f(x, y)=\\arctan x^2 y$\n",
    ":::"
   ]
  },
  {
   "cell_type": "markdown",
   "id": "71770288-d990-496a-af80-9831bf28af41",
   "metadata": {},
   "source": [
    ":::{card}\n",
    "\n",
    "(1) $f(x, y)=x^3-x^2 y+x y^2-y^3+1$\n",
    ":::\n",
    "\n",
    "$$\n",
    "f_x = 3x^2 - 2xy + y^2\\\\\n",
    "f_y = 3y^2 + 2xy - x^2\\\\\n",
    "f_{xx} = 6x - 2y\\\\\n",
    "f_{yy} = 6y + 2x\\\\\n",
    "f_{xy} = 2y - 2x\\\\\n",
    "f_{yx} = 2y - 2x\\\\\n",
    "$$"
   ]
  },
  {
   "cell_type": "markdown",
   "id": "5f4bcbc6-7133-4c82-a77f-d90a33ef9c59",
   "metadata": {},
   "source": [
    ":::{card}\n",
    "\n",
    "(2) $f(x, y)=x^2 \\cos y-y^2 \\cos x$\n",
    ":::\n",
    "\n",
    "$$\n",
    "f_x = y^2 \\sin x + 2x \\cos y\\\\\n",
    "f_y = x^2 \\sin y - 2y \\cos x\\\\\n",
    "f_{xx} = y^2 \\cos x + 2 \\cos y\\\\\n",
    "f_{yy} = x^2 \\cos y - y \\cos x\\\\\n",
    "f_{xy} = - 2x \\sin y + 2y \\sin x\\\\\n",
    "f_{yx} = 2x \\sin y + 2y \\sin x\\\\\n",
    "$$"
   ]
  },
  {
   "cell_type": "markdown",
   "id": "5f080b21-9e9d-48ba-9a76-8c4c7b1481a5",
   "metadata": {},
   "source": [
    ":::{card}\n",
    "\n",
    "(3) $f(x, y)=\\arctan x^2 y$\n",
    ":::\n",
    "\n",
    "$(\\arctan x)' = 1/(1+x^2)$なので\n",
    "\n",
    "$$\n",
    "\\begin{align}\n",
    "f_x &= \\frac{1}{1+x^4 y^2} 2xy\\\\\n",
    "f_y &= \\frac{1}{1+x^4 y^2} x^2\\\\\n",
    "f_{xx} &= \\partial (1+x^4 y^2)^{-1} 2xy / \\partial x = \\\\\n",
    "f_{yy} &= \\\\\n",
    "f_{xy} &= \\\\\n",
    "f_{yx} &= \\\\\n",
    "\\end{align}\n",
    "$$"
   ]
  },
  {
   "cell_type": "code",
   "execution_count": 8,
   "id": "2d04bc68-dd9e-4b0e-882b-76a208261c7a",
   "metadata": {},
   "outputs": [
    {
     "data": {
      "text/latex": [
       "$\\displaystyle \\frac{2 x y}{x^{4} y^{2} + 1}$"
      ],
      "text/plain": [
       "2*x*y/(x**4*y**2 + 1)"
      ]
     },
     "execution_count": 8,
     "metadata": {},
     "output_type": "execute_result"
    }
   ],
   "source": [
    "import sympy as sp\n",
    "x, y = sp.symbols('x y')\n",
    "f = sp.atan(x**2 * y)\n",
    "\n",
    "sp.diff(f, x)"
   ]
  },
  {
   "cell_type": "markdown",
   "id": "4019cd19-22ba-47ed-a28c-2b6ec05156e3",
   "metadata": {},
   "source": []
  },
  {
   "cell_type": "code",
   "execution_count": null,
   "id": "30fde204-1ac1-449a-a00a-7a9cf3565c16",
   "metadata": {},
   "outputs": [],
   "source": []
  }
 ],
 "metadata": {
  "kernelspec": {
   "display_name": "Python 3 (ipykernel)",
   "language": "python",
   "name": "python3"
  },
  "language_info": {
   "codemirror_mode": {
    "name": "ipython",
    "version": 3
   },
   "file_extension": ".py",
   "mimetype": "text/x-python",
   "name": "python",
   "nbconvert_exporter": "python",
   "pygments_lexer": "ipython3",
   "version": "3.10.14"
  }
 },
 "nbformat": 4,
 "nbformat_minor": 5
}
