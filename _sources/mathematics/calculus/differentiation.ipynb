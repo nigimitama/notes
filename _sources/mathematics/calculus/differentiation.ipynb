{
 "cells": [
  {
   "cell_type": "markdown",
   "id": "1ba71754-b11b-4ce9-bac4-605bcb86df84",
   "metadata": {},
   "source": [
    "# 微分法"
   ]
  },
  {
   "cell_type": "markdown",
   "id": "1925a91f-783f-454c-a422-63fe228c6968",
   "metadata": {},
   "source": [
    "## 微分係数と導関数\n",
    "\n",
    "### 微分係数\n",
    "\n",
    "関数$y=f(x)$が連続な区間において、$x$の変動量$(a+h)-a=h$と$y$の変動量$f(a+h)-f(a)$の比（変化率）の極限\n",
    "\n",
    "$$\n",
    "f'(a) = \\lim_{h\\to 0} \\frac{f(a + h) - f(a)}{h}\n",
    "$$\n",
    "\n",
    "が存在するとき、$f(x)$は$x=a$で **微分可能** といい、$f'(a)$を **微分係数** （differential coefficient）という。"
   ]
  },
  {
   "cell_type": "markdown",
   "id": "af1f865d-2ada-4580-9731-0e98764abf60",
   "metadata": {},
   "source": [
    ":::{card}\n",
    "例：$f(x) = x^2$の微分係数$f'(a)$\n",
    "\n",
    "$$\n",
    "f^{\\prime}(a)=\\lim _{h \\rightarrow 0} \\frac{(a+h)^2-a^2}{h}\n",
    "=\\lim _{h \\rightarrow 0} \\frac{2 a h+h^2}{h}=\\lim _{h \\rightarrow 0}(2 a+h)=2 a\n",
    "$$\n",
    "\n",
    ":::"
   ]
  },
  {
   "cell_type": "markdown",
   "id": "ef20e0d0-3441-404f-b0ff-014b4321a529",
   "metadata": {},
   "source": [
    "### 導関数\n",
    "\n",
    "微分係数$f'(a)$において、$a$は定義域内の任意の点とみなして$x$で表すと\n",
    "\n",
    "$$\n",
    "f'(x) = \\lim_{h\\to 0} \\frac{ f(x+h) - f(x) }{ h }\n",
    "$$\n",
    "\n",
    "$f'(x)$は$x$の関数でもあり、$f(x)$の **導関数** （derived function, derivative）と呼ばれる。\n"
   ]
  },
  {
   "cell_type": "markdown",
   "id": "8ef77398-bccb-47e1-a7bb-7eb87206f2a9",
   "metadata": {},
   "source": [
    "### 微分係数は接線の傾き\n",
    "\n",
    "微分係数$f'(x)$は点$x$における曲線$f(x)$の接線の傾きである。"
   ]
  },
  {
   "cell_type": "markdown",
   "id": "3c1c41ff-3f21-4e7d-a2e4-4b8e693e00f2",
   "metadata": {},
   "source": [
    "曲線$y=f(x)$上の座標$(x,y)$に点$P$をとり、その近くの同曲線上の$(x+\\Delta x, y + \\Delta y)$に点$Q$をとる。$Q$から$x$軸への垂線と$P$を通って$x$軸に平行な線との交点を$R$とする。このとき、$\\mathrm{PR}=\\Delta x, \\mathrm{PR}=\\Delta y$である。\n",
    "\n",
    "$\\angle \\mathrm{QPR}=\\theta$とおくと\n",
    "\n",
    "$$\n",
    "\\frac{\\Delta y}{\\Delta x}=\\frac{\\mathrm{QR}}{\\mathrm{PR}}=\\tan \\theta\n",
    "$$"
   ]
  },
  {
   "cell_type": "code",
   "execution_count": 44,
   "id": "96406889-34e9-4034-a39f-5760c076034e",
   "metadata": {
    "tags": [
     "hide-input"
    ]
   },
   "outputs": [
    {
     "data": {
      "image/png": "[encoded data removed]",
      "text/plain": [
       "<Figure size 300x200 with 1 Axes>"
      ]
     },
     "metadata": {},
     "output_type": "display_data"
    }
   ],
   "source": [
    "import matplotlib.pyplot as plt\n",
    "import numpy as np\n",
    "\n",
    "def f(x):\n",
    "    return x**2\n",
    "\n",
    "x = np.linspace(0, 5, 50)\n",
    "\n",
    "fig, ax = plt.subplots(figsize=[3, 2])\n",
    "ax.plot(x, f(x), color=\"dimgray\")\n",
    "\n",
    "P = (2, f(2))\n",
    "ax.scatter(*P, color=\"dimgray\")\n",
    "ax.text(*P, \" P\", color=\"dimgray\", va=\"bottom\", ha=\"center\")\n",
    "\n",
    "Q = (4, f(4))\n",
    "ax.scatter(*Q, color=\"dimgray\")\n",
    "ax.text(*Q, \" Q\", color=\"dimgray\")\n",
    "\n",
    "R = (Q[0], P[1])\n",
    "ax.scatter(*R, color=\"dimgray\")\n",
    "ax.text(*R, \" R\", color=\"dimgray\")\n",
    "ax.axvline(R[0], color=\"dimgray\", linestyle=\":\")\n",
    "ax.axhline(R[1], color=\"dimgray\", linestyle=\":\")\n",
    "\n",
    "ax.set(xlabel=\"x\", ylabel=\"y\")\n",
    "fig.show()"
   ]
  },
  {
   "cell_type": "markdown",
   "id": "43b94118-be5d-442b-a57d-bcfd5b9d3bf7",
   "metadata": {},
   "source": [
    "点Qを曲線に沿って点Pに近づけると、$\\Delta x$は0に近づく。そして$\\Delta x \\to 0$のとき、曲線QPは一定の直線PTに限りなく近づく。この極限における直線PTを、曲線$f(x)$の点Pにおける **接線** （tangent）という。曲線$f(x)$の接線の傾きを$\\tan \\alpha$と表すと、\n",
    "\n",
    "$$\n",
    "f^{\\prime}(x)\n",
    "= \\lim_{\\Delta x \\rightarrow 0} \\frac{\\Delta y}{\\Delta x}\n",
    "=\\tan \\alpha\n",
    "$$\n",
    "\n",
    "すなわち、微分係数$f'(x)$は点$x$における曲線$f(x)$の接線の傾きである。\n"
   ]
  },
  {
   "cell_type": "markdown",
   "id": "9ecdb432-bcc8-4575-b505-bf1b7dbbf86c",
   "metadata": {},
   "source": [
    ":::{card} 例\n",
    "\n",
    "$y = f(x) = x^2$だとすると$f'(x) = 2x$\n",
    "\n",
    "たとえば$\\Delta x = 0.1$とすると\n",
    "\n",
    "$x=1$の点で\n",
    "\n",
    "$$\n",
    "f(x) = 1^2 = 1\\\\\n",
    "f(x + \\Delta x) = 1.1^2 = 1.21\\\\\n",
    "\\to \\Delta y = 0.21\n",
    "$$\n",
    "\n",
    "なので\n",
    "\n",
    "$$\n",
    "\\frac{\\Delta y}{\\Delta x} = \\frac{0.21}{0.10} \\approx 2\n",
    "$$\n",
    "\n",
    "$x=2$の点では\n",
    "\n",
    "$$\n",
    "f(x) = 2^2 = 4\\\\\n",
    "f(x + \\Delta x) = 2.1^2 = 4.41\\\\\n",
    "\\to \\Delta y = 0.41\n",
    "\\to \\frac{\\Delta y}{\\Delta x} = \\frac{0.41}{0.10} \\approx 4\n",
    "$$\n",
    "\n",
    "となっており、$f'(x) = 2x$になっていることが確認できる\n",
    ":::"
   ]
  },
  {
   "cell_type": "code",
   "execution_count": 52,
   "id": "1c519161-fff4-4b95-892d-f91b2af18735",
   "metadata": {
    "tags": [
     "hide-input"
    ]
   },
   "outputs": [
    {
     "data": {
      "image/png": "[encoded data removed]",
      "text/plain": [
       "<Figure size 400x300 with 2 Axes>"
      ]
     },
     "metadata": {},
     "output_type": "display_data"
    }
   ],
   "source": [
    "def f_prime(x):\n",
    "    return 2 * x\n",
    "\n",
    "fig, axes = plt.subplots(figsize=[4, 3], nrows=2, sharex=True)\n",
    "x = np.linspace(0, 2.2, 50)\n",
    "axes[0].plot(x, f(x), label=\"f(x)\")\n",
    "axes[0].set(ylabel=\"f(x)\")\n",
    "axes[0].grid(True)\n",
    "\n",
    "axes[1].plot(x, f_prime(x), label=\"f'(x)\")\n",
    "axes[1].set(ylabel=\"f'(x)\")\n",
    "axes[1].grid(True)\n",
    "fig.show()"
   ]
  },
  {
   "cell_type": "markdown",
   "id": "e89543e4-612b-43e4-9aa1-300ea3aa9199",
   "metadata": {},
   "source": [
    "## 微分の公式\n"
   ]
  },
  {
   "cell_type": "markdown",
   "id": "4af3f244-b32a-4026-90f3-fa4f435432cf",
   "metadata": {},
   "source": [
    ":::{admonition} 和と定数倍\n",
    "微分可能な関数$f(x), g(x)$について\n",
    "\n",
    "$$\n",
    "\\begin{aligned}\n",
    "& (f \\pm g)^{\\prime}=f^{\\prime} \\pm g^{\\prime} \\\\\n",
    "& (k f)^{\\prime}=k f^{\\prime} \\quad(k: \\text { 定数 })\n",
    "\\end{aligned}\n",
    "$$\n",
    ":::"
   ]
  },
  {
   "cell_type": "markdown",
   "id": "035ff032-dbb7-4bf9-bfb1-cd5029a7339e",
   "metadata": {},
   "source": [
    ":::{admonition} 積の微分\n",
    "\n",
    "$$\n",
    "\\{f(x) g(x)\\}' = f'(x) g(x) + f(x) g'(x)\n",
    "$$\n",
    ":::"
   ]
  },
  {
   "cell_type": "markdown",
   "id": "a1ea7939-b926-424f-a6c7-5d281ce2a992",
   "metadata": {},
   "source": [
    ":::{admonition} 商の微分\n",
    "\n",
    "$$\n",
    "\\left\\{ \\frac{1}{f(x)} \\right\\}' \n",
    "= -\\frac{f'(x)}{[f(x)]^2}\n",
    ",\\ (f(x) \\neq 0)\n",
    "$$\n",
    ":::\n",
    "\n",
    ":::{dropdown} 導出\n",
    "$$\n",
    "\\left\\{ \\frac{1}{f(x)} \\right\\}' \n",
    "= \\{ f(x)^{-1} \\}' \n",
    "$$\n",
    "\n",
    "$g(u) = u^{-1}$とおくと$g'(u) = -1 u^{-2}= - \\dfrac{1}{u^2}$なので\n",
    "\n",
    "$$\n",
    "\\{ f(x)^{-1} \\}' = \\frac{d g(u)}{d u} \\frac{d f(x)}{d x}\\\\\n",
    "= - \\frac{1}{[ f(x)] ^2} f'(x)\n",
    "$$\n",
    ":::\n",
    "\n",
    "\n",
    ":::{admonition} 商の微分2\n",
    "\n",
    "$$\n",
    "\\left\\{ \\frac{f(x)}{g(x)} \\right\\}'\n",
    "= \\frac{f'(x)g(x) - f(x) g'(x)}{[g(x)]^2}\n",
    ",\\  (g(x) \\neq 0)\n",
    "$$\n",
    ":::\n",
    "\n",
    "\n"
   ]
  },
  {
   "cell_type": "markdown",
   "id": "ca1b5d84-0449-4e6f-bfba-9d9359a7416d",
   "metadata": {},
   "source": [
    ":::{admonition} 合成関数の微分\n",
    "\n",
    "$y=f(z), z=g(x)$ のとき、 合成関数 $y=f(g(x))$の導関数は\n",
    "\n",
    "$$\n",
    "\\frac{d y}{d x}=\\frac{d y}{d z} \\frac{d z}{d x}=f^{\\prime}(z) \\frac{d z}{d x}=f^{\\prime}(g(x)) g^{\\prime}(x)\n",
    "$$\n",
    ":::"
   ]
  },
  {
   "cell_type": "markdown",
   "id": "41f70079-794c-4f08-a652-7e529826c532",
   "metadata": {},
   "source": [
    ":::{admonition} 逆関数の微分\n",
    "\n",
    "微分可能な1価単調連続関数$y = f(x)$について、逆関数を$x = f^{-1}(y)$とすれば\n",
    "\n",
    "$$\n",
    "\\frac{d x}{d y}=1 / \\frac{d y}{d x} \\quad\\left(\\frac{d y}{d x} \\neq 0 \\text { のとき }\\right)\n",
    "$$\n",
    "\n",
    ":::"
   ]
  },
  {
   "cell_type": "markdown",
   "id": "1b39478f-69cf-4489-baea-371000b28363",
   "metadata": {},
   "source": [
    ":::{admonition} 対数の微分\n",
    "\n",
    "$$\n",
    "(\\log |x|)' = \\frac{1}{x} (x \\neq 0)\n",
    "$$\n",
    "\n",
    ":::"
   ]
  },
  {
   "cell_type": "markdown",
   "id": "aa3bdaae-ac1c-4e9f-a33d-a8f746923020",
   "metadata": {},
   "source": [
    ":::{admonition} 指数関数の微分\n",
    "\n",
    "$$\n",
    "(e^x)' = e^x\n",
    "$$\n",
    ":::\n",
    "\n",
    "\n",
    ":::{dropdown} 証明\n",
    "$y = e^x$とする。$x=\\log y$であるから、\n",
    "\n",
    "$$\n",
    "\\frac{dx}{dy} = \\frac{1}{y}\n",
    "$$\n",
    "\n",
    "よって逆関数の公式を利用して\n",
    "\n",
    "$$\n",
    "\\frac{d}{dx} e^x\n",
    "= \\frac{dy}{dx}\n",
    "= 1 \\big/ \\frac{dx}{dy}\n",
    "= y = e^x\n",
    "$$\n",
    ":::"
   ]
  },
  {
   "cell_type": "markdown",
   "id": "7d06e346-4805-4f76-9d03-aad3af5e122c",
   "metadata": {},
   "source": [
    "例：$y = e^{ax}$\n",
    "\n",
    "方法1: $u=ax$とおいて合成関数として\n",
    "\n",
    "$$\n",
    "\\frac{ d e^{u} }{ d u }\n",
    "\\frac{ d ax }{ dx }\n",
    "= e^{ax} a = a e^{ax}\n",
    "$$\n",
    "\n",
    "方法2: $\\log y = ax \\to x = \\log y / a$を利用して\n",
    "\n",
    "$$\n",
    "\\frac{ d x }{ dy } =\n",
    "\\frac{ d (\\log y / a) }{ dy }\n",
    "= \\frac{ a (1/y) - \\log y \\cdot 0 }{ a^2 }\n",
    "= \\frac{ 1/y }{ a }\\\\\n",
    "$$\n",
    "\n",
    "よって\n",
    "\n",
    "$$\n",
    "\\frac{d}{dx} e^{ax}\n",
    "= 1 \\big/ \\frac{dx}{dy}\n",
    "= \\frac{ a }{ 1/y }\n",
    "= ay\n",
    "= a e^{ax}\n",
    "$$"
   ]
  },
  {
   "cell_type": "code",
   "execution_count": 2,
   "id": "64b02d99-f271-4278-8011-6233ad2ebc25",
   "metadata": {
    "tags": [
     "remove-output",
     "remove-input"
    ]
   },
   "outputs": [
    {
     "data": {
      "text/latex": [
       "$\\displaystyle a e^{a x}$"
      ],
      "text/plain": [
       "a*exp(a*x)"
      ]
     },
     "execution_count": 2,
     "metadata": {},
     "output_type": "execute_result"
    }
   ],
   "source": [
    "import sympy as sp\n",
    "a, x = sp.symbols(\"a x\")\n",
    "y = sp.exp(a * x)\n",
    "y.diff(x)"
   ]
  },
  {
   "cell_type": "markdown",
   "id": "646c74e1-3c06-45ac-9a26-9bc24e99e768",
   "metadata": {},
   "source": [
    "例：$y=a^x$\n",
    "\n",
    "まず、自然対数$\\log =\\log_e$で対数をとると、任意の底$a$に対して$\\log_a x^y = y \\log_a x$という性質から\n",
    "\n",
    "$$\n",
    "\\log y = \\log a^x = x \\log a\n",
    "$$\n",
    "\n",
    "$$\n",
    "\\to x = \\frac{\\log y}{\\log a}\n",
    "$$\n",
    "\n",
    "$$\n",
    "\\frac{dx}{dy}\n",
    "= \\frac{(\\log y)' \\log a - \\log y (\\log a)'}{(\\log a)^2}\\\\\n",
    "= \\frac{(\\log y)' \\log a}{(\\log a)^2}\\\\\n",
    "= \\frac{(\\log y)'}{(\\log a)}\\\\\n",
    "= \\frac{1/y}{\\log a}\\\\\n",
    "= \\frac{1}{y} \\frac{1}{\\log a}\\\\\n",
    "= \\frac{1}{y \\log a}\\\\\n",
    "$$\n",
    "\n",
    "逆関数の微分で\n",
    "\n",
    "$$\n",
    "\\frac{dy}{dx} = 1 / \\frac{dx}{dy}\n",
    "= y \\log a\\\\\n",
    "= a^x \\log a\n",
    "$$"
   ]
  },
  {
   "cell_type": "code",
   "execution_count": 7,
   "id": "610e3825-2cfb-4bb2-ba21-e3fa157cafa9",
   "metadata": {
    "tags": [
     "remove-output",
     "remove-input"
    ]
   },
   "outputs": [
    {
     "data": {
      "text/latex": [
       "$\\displaystyle a^{x} \\log{\\left(a \\right)}$"
      ],
      "text/plain": [
       "a**x*log(a)"
      ]
     },
     "execution_count": 7,
     "metadata": {},
     "output_type": "execute_result"
    }
   ],
   "source": [
    "import sympy as sp\n",
    "a, x = sp.symbols(\"a x\")\n",
    "y = a ** x\n",
    "y.diff(x)"
   ]
  },
  {
   "cell_type": "markdown",
   "id": "b4bb2d6f-26a6-4ebe-ad93-3e9ac4074c74",
   "metadata": {},
   "source": [
    ":::{admonition} n乗の微分\n",
    "\n",
    "$$\n",
    "(x^n)' = n x^{n-1}\n",
    "$$\n",
    ":::\n",
    "\n",
    "\n",
    ":::{dropdown} 証明（正の整数の指数$n$について）\n",
    "\n",
    "等式\n",
    "\n",
    "$$\n",
    "a^n-b^n=(a-b)\\left(a^{n-1}+a^{n-2} b+a^{n-3} b^2+\\cdots+a b^{n-2}+b^{n-1}\\right)\n",
    "$$\n",
    "\n",
    "を使って、\n",
    "\n",
    "$$\n",
    "\\begin{aligned}\n",
    "\\frac{d}{d x} x^n \n",
    "&= \\lim _{h \\rightarrow 0} \\frac{(x+h)^n-x^n}{h} \\\\\n",
    "&= \\lim _{h \\rightarrow 0} \\frac{ \\{(x+h) - x\\} \\left\\{(x+h)^{n-1}+(x+h)^{n-2} x+\\cdots+(x+h) x^{n-2}+x^{n-1}\\right\\}  }{h} \\\\\n",
    "&= \\lim _{h \\rightarrow 0} \\left\\{(x+h)^{n-1}+(x+h)^{n-2} x+\\cdots+(x+h) x^{n-2}+x^{n-1}\\right\\}\\\\\n",
    "&= n x^{n-1}\n",
    "\\end{aligned}\n",
    "$$\n",
    ":::\n",
    "\n",
    ":::{dropdown} 証明（任意の指数$n$について）\n",
    "\n",
    "$$\n",
    "a^m = M\n",
    "\\Longleftrightarrow\n",
    "m = \\log_a M\n",
    "$$\n",
    "\n",
    "より、\n",
    "\n",
    "$$\n",
    "y = x^n\n",
    "\\Longleftrightarrow\n",
    "y = e^{n \\log_e x}\n",
    "$$\n",
    "\n",
    "$y=e^z, z=n\\log x$として合成関数にして連鎖律を使うと\n",
    "\n",
    "$$\n",
    "\\frac{d}{dx} x^n\n",
    "= \\frac{dy}{dx}\n",
    "= \\frac{dy}{dz} \\frac{dz}{dx}\n",
    "= e^z \\frac{n}{x}\n",
    "= x^n \\frac{n}{x}\n",
    "= n \\cdot x^n \\cdot x^{-1}\n",
    "= n x^{n-1}\n",
    "$$\n",
    "\n",
    ":::"
   ]
  },
  {
   "cell_type": "markdown",
   "id": "3f526251-ae91-41f1-b9a5-deee12a21398",
   "metadata": {},
   "source": [
    "#### 三角関数の微分\n",
    "\n",
    ":::{admonition} sin x\n",
    "\n",
    "$$\n",
    "\\begin{aligned}\n",
    "\\frac{d}{d x} \\sin x = \\cos x\n",
    "\\end{aligned}\n",
    "$$\n",
    ":::\n",
    "\n",
    ":::{dropdown} 証明\n",
    "$$\n",
    "\\begin{aligned}\n",
    "\\frac{d}{d x} \\sin x\n",
    "&=\\lim _{h \\rightarrow 0} \\frac{\\sin (x+h)-\\sin x}{h}\\\\\n",
    "&=\\lim _{h \\rightarrow 0} \\frac{2 \\cos (x+h / 2) \\sin (h / 2)}{h} \\\\\n",
    "& =\\lim _{h \\rightarrow 0} \\cos \\left(x+\\frac{h}{2}\\right) \\cdot \\lim _{h \\rightarrow 0} \\frac{\\sin (h / 2)}{h / 2}\\\\\n",
    "&=\\cos x\n",
    "\\end{aligned}\n",
    "$$\n",
    ":::"
   ]
  },
  {
   "cell_type": "markdown",
   "id": "e242bb6f-f0e0-4427-868a-88127436c7e2",
   "metadata": {},
   "source": [
    ":::{admonition} cos x\n",
    "\n",
    "$$\n",
    "\\frac{d}{d x} \\cos x =-\\sin x\n",
    "$$\n",
    ":::\n",
    "\n",
    ":::{dropdown} 証明\n",
    "$$\n",
    "\\begin{aligned}\n",
    "\\frac{d}{d x} \\cos x\n",
    "&=\\lim _{h \\rightarrow 0} \\frac{\\cos (x+h)-\\cos x}{h}\\\\\n",
    "&=\\lim _{h \\rightarrow 0} \\frac{-2 \\sin (x+h / 2) \\sin (h / 2)}{h}\\\\\n",
    "&=-\\lim _{h \\rightarrow 0} \\sin \\left(x+\\frac{h}{2}\\right) \\cdot \\lim _{h \\rightarrow 0} \\frac{\\sin (h / 2)}{h / 2}\\\\\n",
    "&=-\\sin x\n",
    "\\end{aligned}\n",
    "$$\n",
    ":::"
   ]
  },
  {
   "cell_type": "markdown",
   "id": "078ba23b-dfe9-4901-878c-352cc0b26a82",
   "metadata": {},
   "source": [
    ":::{admonition} tan x\n",
    "$$\n",
    "\\begin{aligned}\n",
    "\\frac{d}{d x} \\tan x & = \\frac{1}{\\cos ^2 x}\n",
    "\\end{aligned}\n",
    "$$\n",
    ":::\n",
    "\n",
    "\n",
    ":::{dropdown} 証明\n",
    "商の公式を使って\n",
    "\n",
    "$$\n",
    "\\begin{aligned}\n",
    "\\frac{d}{d x} \\tan x\n",
    "&=\\frac{d}{d x}\\left(\\frac{\\sin x}{\\cos x}\\right)\\\\\n",
    "&=\\frac{(\\sin x)^{\\prime} \\cos x-\\sin x(\\cos x)^{\\prime}}{\\cos ^2 x}\\\\\n",
    "&=\\frac{\\cos x \\cos x-\\sin x(-\\sin x)}{\\cos ^2 x}\\\\\n",
    "&=\\frac{1}{\\cos ^2 x}\n",
    "\\end{aligned}\n",
    "$$\n",
    ":::\n"
   ]
  },
  {
   "cell_type": "markdown",
   "id": "cf035d42-a815-43fd-a3d1-b32305071cdb",
   "metadata": {},
   "source": [
    ":::{admonition} arcsin x\n",
    "$$\n",
    "\\frac{d}{d x} \\arcsin x \n",
    "= \\frac{1}{\\sqrt{1 - x^2}}\n",
    "$$\n",
    ":::\n",
    "\n",
    "\n",
    ":::{dropdown} 証明\n",
    "\n",
    "$x=\\sin y$だから、\n",
    "\n",
    "$$\n",
    "\\frac{d x}{d y}=\\cos y\n",
    "$$\n",
    "\n",
    "逆関数の微分法より\n",
    "\n",
    "$$\n",
    "\\begin{aligned}\n",
    "\\frac{d}{d x} \\arcsin x\n",
    "& =\\frac{d y}{d x}=1 / \\frac{d x}{d y}=\\frac{1}{\\cos y}=\\frac{1}{\\sqrt{1-\\sin ^2 y}} \\\\\n",
    "& =\\frac{1}{\\sqrt{1-x^2}} \\quad(x \\neq \\pm 1)\n",
    "\\end{aligned}\n",
    "$$\n",
    ":::\n"
   ]
  },
  {
   "cell_type": "markdown",
   "id": "b570a620-e57d-4167-bbc7-4521e7204406",
   "metadata": {},
   "source": [
    "### 連続と微分可能\n",
    "\n",
    "1. 関数が$x=a$で不連続なら、微分係数は存在しない\n",
    "2. 微分可能なら連続である\n",
    "    - ただし、逆は必ずしも成立しない。連続であっても微分可能とは限らない"
   ]
  },
  {
   "cell_type": "markdown",
   "id": "303826ab-7c4c-4dff-a0c3-88661680b6cd",
   "metadata": {},
   "source": [
    ":::{card}\n",
    "例：連続だが微分不可能な関数\n",
    "\n",
    "$f(x)=|x|$は$x=0$で連続（$\\lim_{x\\to 0} |x|=0=|0|$）だが、微分可能ではない。\n",
    "\n",
    "右微分係数と左微分係数は\n",
    "\n",
    "$$\n",
    "\\begin{aligned}\n",
    "& f^{\\prime}(+0)=\\lim _{h \\rightarrow+0} \\frac{|h+0|-|0|}{h}=\\lim _{h \\rightarrow+0} \\frac{h}{h}=1 \\\\\n",
    "& f^{\\prime}(-0)=\\lim _{h \\rightarrow-0} \\frac{|h+0|-|0|}{h}=\\lim _{h \\rightarrow-0} \\frac{-h}{h}=-1\n",
    "\\end{aligned}\n",
    "$$\n",
    "\n",
    "であり、確定した微分係数$f'(0)$は存在しない。そのため、$f(x)=|x|$は$x=0$で微分可能ではない\n",
    ":::"
   ]
  },
  {
   "cell_type": "code",
   "execution_count": 4,
   "id": "7a98cddb-f01f-44aa-b4a3-d3e2d4208941",
   "metadata": {
    "tags": [
     "hide-input"
    ]
   },
   "outputs": [
    {
     "data": {
      "image/png": "[encoded data removed]",
      "text/plain": [
       "<Figure size 400x200 with 1 Axes>"
      ]
     },
     "metadata": {},
     "output_type": "display_data"
    }
   ],
   "source": [
    "import numpy as np\n",
    "import matplotlib.pyplot as plt\n",
    "\n",
    "x = np.linspace(-3, 3, 100)\n",
    "\n",
    "fig, ax = plt.subplots(figsize=[4,2])\n",
    "ax.plot(x, abs(x))\n",
    "ax.set(xlabel=\"$x$\", ylabel=r\"$y=|x|$\", title=r\"$f(x)=|x|$\")\n",
    "fig.show()"
   ]
  },
  {
   "cell_type": "markdown",
   "id": "fbdf9fc6-70ac-43e5-b9e5-b6ec4e1bf751",
   "metadata": {},
   "source": [
    "### 対数微分法\n",
    "\n",
    "式の両辺の対数をとって微分する方法\n",
    "\n",
    "$y=a^x$の微分をしたいとする。両辺の対数をとって$\\log y = x \\log a$とする。\n",
    "\n",
    "両辺を$x$で微分すると\n",
    "\n",
    "$$\n",
    "\\frac{1}{y} \\frac{d y}{d x}=\\log a\n",
    "$$\n",
    "\n",
    "よって\n",
    "\n",
    "$$\n",
    "\\frac{d y}{d x}=y \\log a=a^x \\log a\n",
    "$$\n",
    "\n"
   ]
  },
  {
   "cell_type": "markdown",
   "id": "d635e80c-d09b-41c4-b528-f265de85dae6",
   "metadata": {},
   "source": [
    "## 高次導関数\n",
    "\n",
    "導関数$f'(x)$が微分可能であれば、その導関数\n",
    "\n",
    "$$\n",
    "f^{\\prime \\prime}(x)=\\left\\{f^{\\prime}(x)\\right\\}^{\\prime}=\\lim _{h \\rightarrow 0} \\frac{f^{\\prime}(x+h)-f^{\\prime}(x)}{h}\n",
    "$$\n",
    "\n",
    "を考えることができて、これを元の関数$f(x)$の **2次導関数** （ **2階導関数** ）という。また、このとき$y=f(x)$は **2回微分可能** であるという。"
   ]
  },
  {
   "cell_type": "markdown",
   "id": "d972c8dc-f9a6-4954-8d1e-cf96208fe797",
   "metadata": {
    "editable": true,
    "slideshow": {
     "slide_type": ""
    },
    "tags": []
   },
   "source": [
    "一般に$y=f(x)$を$n$回微分できるとき、得られる関数を$f(x)$の **$n$次導関数** （または **$n$階導関数** ）といい、\n",
    "\n",
    "$$\n",
    "y^{(n)}(x), \\quad f^{(n)}(x), \\frac{d^n y}{d x^n}, \\frac{d^n}{d x^n} f(x)\n",
    "$$\n",
    "\n",
    "などで表す。このとき、$f(x)$は **$n$回微分可能** であるという。"
   ]
  },
  {
   "cell_type": "code",
   "execution_count": null,
   "id": "f47464e0-8d9c-4dd4-982e-732aabc30dcd",
   "metadata": {},
   "outputs": [],
   "source": []
  }
 ],
 "metadata": {
  "kernelspec": {
   "display_name": "Python 3 (ipykernel)",
   "language": "python",
   "name": "python3"
  },
  "language_info": {
   "codemirror_mode": {
    "name": "ipython",
    "version": 3
   },
   "file_extension": ".py",
   "mimetype": "text/x-python",
   "name": "python",
   "nbconvert_exporter": "python",
   "pygments_lexer": "ipython3",
   "version": "3.10.13"
  }
 },
 "nbformat": 4,
 "nbformat_minor": 5
}
