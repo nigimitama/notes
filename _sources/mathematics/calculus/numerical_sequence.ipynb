{
 "cells": [
  {
   "cell_type": "markdown",
   "id": "34caee20-4fe5-415e-8310-5694b0481a08",
   "metadata": {},
   "source": [
    "# 数列"
   ]
  },
  {
   "cell_type": "markdown",
   "id": "f0effdd1-7e53-43a1-b034-ada941cd686f",
   "metadata": {},
   "source": [
    "## 数列\n",
    "\n",
    "自然数$1, 2, 3, \\cdots, n, \\cdots$のおのおのに数が1つずつ対応しているとき、これらを順に並べた\n",
    "\n",
    "$$\n",
    "a_1, a_2, a_3, \\cdots, a_n, \\cdots\n",
    "$$\n",
    "\n",
    "を **数列** （sequence）して といい、$\\{a_n\\}$で表す。また$a_n$を **一般項** という。"
   ]
  },
  {
   "cell_type": "markdown",
   "id": "401278c3-0194-4c09-9448-ef9c1409a87f",
   "metadata": {},
   "source": [
    ":::{card}\n",
    "例：\n",
    "\n",
    "$2, 4, 6, 8, 16, 32, \\cdots$という数列の一般項は$a_n = 2^n$\n",
    ":::"
   ]
  },
  {
   "cell_type": "markdown",
   "id": "d990ac2e-3476-4a37-b84f-e5b7a1e5085f",
   "metadata": {},
   "source": [
    "## 極限\n",
    "\n",
    "数列$\\{a_n\\}$において、番号$n$が大きくなるに従って$a_n$が限りなくある確定した数$a$に近づくときに、数列$\\{a_n\\}$は **極限値** $a$に **収束**（convergence） するといい、\n",
    "\n",
    "$$\n",
    "\\lim _{n \\rightarrow \\infty} a_n=a \\quad \\text { または } \\quad a_n \\rightarrow a \\quad(n \\rightarrow \\infty)\n",
    "$$\n",
    "\n",
    "と表す。\n",
    "\n",
    "また数列$\\{a_n\\}$が有限の確定した極限値$a$を持たないとき、数列$\\{a_n\\}$ は **発散** するという。"
   ]
  },
  {
   "cell_type": "markdown",
   "id": "f6996bc4-3d31-41d9-90b6-acded46aaa5c",
   "metadata": {},
   "source": [
    ":::{card}\n",
    "例：\n",
    "\n",
    "$$\n",
    "a_n = \\frac{1}{n}\n",
    "$$\n",
    "\n",
    "の極限値は0になる\n",
    ":::"
   ]
  }
 ],
 "metadata": {
  "kernelspec": {
   "display_name": "Python 3 (ipykernel)",
   "language": "python",
   "name": "python3"
  },
  "language_info": {
   "codemirror_mode": {
    "name": "ipython",
    "version": 3
   },
   "file_extension": ".py",
   "mimetype": "text/x-python",
   "name": "python",
   "nbconvert_exporter": "python",
   "pygments_lexer": "ipython3",
   "version": "3.9.18"
  }
 },
 "nbformat": 4,
 "nbformat_minor": 5
}
