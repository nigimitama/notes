{
 "cells": [
  {
   "cell_type": "markdown",
   "id": "5b26ed02-d945-49d7-b40b-03611ed42641",
   "metadata": {},
   "source": [
    "# 指数関数と対数関数"
   ]
  },
  {
   "cell_type": "markdown",
   "id": "3df1187b-17c3-4d9d-a9e5-a9ec39500991",
   "metadata": {},
   "source": [
    "## 指数関数"
   ]
  },
  {
   "cell_type": "markdown",
   "id": "ae214bf4-b690-402e-85f9-348cd0950baf",
   "metadata": {},
   "source": [
    ":::{admonition} （定義）指数関数\n",
    "\n",
    "$a$をある定数として、\n",
    "\n",
    "$$\n",
    "y = a^x\n",
    "$$\n",
    "\n",
    "を、$a$を **底** とする **指数関数**（exponential function）という。\n",
    ":::"
   ]
  },
  {
   "cell_type": "markdown",
   "id": "82770205-0ed8-463e-be94-ac3d29b1e37a",
   "metadata": {},
   "source": [
    "### ネイピア数\n",
    "\n",
    "以下で定義される定数$e$をネイピア数という\n",
    "\n",
    "$$\n",
    "\\lim _{n \\rightarrow \\infty}\\left(1+\\frac{1}{n}\\right)^n=e=2.7182818 \\cdots\n",
    "$$\n",
    "\n"
   ]
  },
  {
   "cell_type": "markdown",
   "id": "059451fb-0101-4c64-ba16-bf8ae3a3d855",
   "metadata": {},
   "source": [
    ":::{admonition} （定義）自然指数関数\n",
    "\n",
    "$e$を底とする指数関数\n",
    "\n",
    "$$\n",
    "y = e^x\n",
    "$$\n",
    "\n",
    "を **指数関数**（the exponential function）あるいは明示的に **自然指数関数**という。\n",
    ":::\n",
    "\n",
    "（英語だとtheがつくかどうかで底の違いを表現する。日本語だとややこしいが、標準的な指数関数は$e$を底とする指数関数である）"
   ]
  },
  {
   "cell_type": "code",
   "execution_count": 12,
   "id": "b481b922-18c0-4ea2-bf63-ea8225f6ff31",
   "metadata": {
    "jupyter": {
     "source_hidden": true
    },
    "tags": [
     "hide-input"
    ]
   },
   "outputs": [
    {
     "data": {
      "image/png": "[encoded data removed]",
      "text/plain": [
       "<Figure size 400x200 with 1 Axes>"
      ]
     },
     "metadata": {},
     "output_type": "display_data"
    }
   ],
   "source": [
    "import numpy as np\n",
    "import matplotlib.pyplot as plt\n",
    "\n",
    "x = np.linspace(-2, 2, 100)\n",
    "y = np.array([np.exp(xi) for xi in x])\n",
    "\n",
    "fig, ax = plt.subplots(figsize=[4, 2])\n",
    "ax.plot(x, y, label=r\"$\\exp(x)$\")\n",
    "ax.set(xlabel=\"x\", ylabel=\"y\")\n",
    "ax.axhline(color=\"gray\")\n",
    "ax.axvline(color=\"gray\")\n",
    "ax.legend()\n",
    "fig.show()"
   ]
  },
  {
   "cell_type": "markdown",
   "id": "42d18f66-326e-4cd6-92bc-887612deec03",
   "metadata": {},
   "source": [
    "$x=0$のとき、$e^0 = 1$\n",
    "\n",
    "$x=1$のとき、$e^1 = e$\n",
    "\n",
    "$x=-1$のとき、$e^{-1} = \\frac{1}{e} = 0.3678 \\cdots$"
   ]
  },
  {
   "cell_type": "markdown",
   "id": "e11d4b73-284c-4fd4-a39c-a29d70aafc68",
   "metadata": {},
   "source": [
    ":::{admonition} （定義）自然指数関数\n",
    "\n",
    "指数関数にはいくつかの定義があり、オイラーによって最初に定義されたものは以下のものになる\n",
    "\n",
    "$$\n",
    "\\exp (x)=\\lim _{n \\rightarrow \\infty}\\left(1+\\frac{x}{n}\\right)^n\n",
    "$$\n",
    "\n",
    "マクローリン級数によって冪級数の形にした\n",
    "\n",
    "$$\n",
    "\\exp (x)=\\sum_{n=0}^{\\infty} \\frac{x^n}{n !}=1+x+\\frac{x^2}{2 !}+\\frac{x^3}{3 !}+\\frac{x^4}{4 !}+\\cdots\n",
    "$$\n",
    "\n",
    "の定義もある\n",
    ":::\n"
   ]
  },
  {
   "cell_type": "markdown",
   "id": "5c24f909-4847-42ce-868b-1affe06cde51",
   "metadata": {},
   "source": [
    "$\\left(1+\\frac{x}{n}\\right)^n$を有限の範囲でいくつか試すと以下のようになる"
   ]
  },
  {
   "cell_type": "code",
   "execution_count": 2,
   "id": "1b00a89e-987c-4962-a447-a2c5aaab8689",
   "metadata": {
    "tags": []
   },
   "outputs": [
    {
     "name": "stdout",
     "output_type": "stream",
     "text": [
      "n=1, e=2.000\n",
      "n=2, e=2.250\n",
      "n=3, e=2.370\n",
      "n=4, e=2.441\n",
      "n=5, e=2.488\n"
     ]
    }
   ],
   "source": [
    "x = 1\n",
    "for n in range(1, 6):\n",
    "    e = (1 + (x / n))**n\n",
    "    print(f\"{n=}, {e=:.3f}\")"
   ]
  },
  {
   "cell_type": "code",
   "execution_count": 9,
   "id": "0c53f072-c137-416b-a38f-9be371bb5e9d",
   "metadata": {
    "jupyter": {
     "source_hidden": true
    },
    "tags": [
     "hide-input"
    ]
   },
   "outputs": [
    {
     "data": {
      "image/png": "[encoded data removed]",
      "text/plain": [
       "<Figure size 400x200 with 1 Axes>"
      ]
     },
     "metadata": {},
     "output_type": "display_data"
    }
   ],
   "source": [
    "import numpy as np\n",
    "import matplotlib.pyplot as plt\n",
    "\n",
    "N = np.linspace(1, 100, 101)\n",
    "E = [(1 + (x / n))**n for n in N]\n",
    "\n",
    "fig, ax = plt.subplots(figsize=[4, 2])\n",
    "ax.plot(N, E)\n",
    "ax.set(\n",
    "    xlabel=\"n\",\n",
    "    ylabel=r\"$(1 + \\frac{x}{n})^n$\",\n",
    "    title=r\"$(1 + \\frac{x}{n})^n, x=1$\",\n",
    "    yticks=[2, np.exp(1),3],\n",
    ")\n",
    "ax.axhline(np.exp(1), color=\"gray\")\n",
    "ax.axvline(color=\"gray\")\n",
    "fig.show()"
   ]
  },
  {
   "cell_type": "markdown",
   "id": "29a43f2d-bc1f-456a-aa43-30e840d24202",
   "metadata": {},
   "source": [
    "### 指数(関数)の基本的性質（指数法則）\n",
    "\n",
    ":::{admonition} 指数法則\n",
    "\n",
    "$$\n",
    "\\begin{align}\n",
    "a^x a^y &= a^{x+y}\n",
    "\\\\\n",
    "\\left(a^x\\right)^y &= a^{x y}\n",
    "\\\\\n",
    "\\frac{a^x}{a^y} &= a^{x-y}\n",
    "\\\\\n",
    "\\left(\\frac{a}{b}\\right)^x &= \\frac{a^x}{b^x}\n",
    "\\end{align}\n",
    "$$\n",
    ":::"
   ]
  },
  {
   "cell_type": "markdown",
   "id": "9ba3b1ad-7a16-4c1b-8ddb-8084beb44a44",
   "metadata": {},
   "source": [
    ":::{card} 例：$x^{-1}$ は？\n",
    "\n",
    "$x^{-1}$と$x$を乗じれば$x^{-1} \\times x^1 = x^{-1 + 1} = x^0 = 1$となる。\n",
    "\n",
    "なので$x^{-1} = \\frac{1}{x}$となる。一般に$x^{-n}$も同様。\n",
    "\n",
    ":::"
   ]
  },
  {
   "cell_type": "markdown",
   "id": "3580ee71-c1bb-4d7a-9b87-2c4f96e789f0",
   "metadata": {},
   "source": [
    ":::{card} 例：$x^{\\frac{1}{2}}$ は？\n",
    "\n",
    "$x^{\\frac{1}{2}}$と$x^{\\frac{1}{2}}$を乗じれば$x^{\\frac{1}{2}} \\times x^{\\frac{1}{2}} = x^{\\frac{1}{2} + \\frac{1}{2}} = x$となる。\n",
    "\n",
    "なので$x^{\\frac{1}{2}} = \\sqrt{x}$\n",
    "\n",
    ":::"
   ]
  },
  {
   "cell_type": "markdown",
   "id": "cd20ab07-e543-40a2-8d24-6196c686a7a5",
   "metadata": {},
   "source": [
    "#### $x$を0.01増やすと$y$が1%増える\n",
    "\n",
    ":::{admonition} $x$を0.01増やすと$y$が1%増える\n",
    ":class: tip\n",
    "\n",
    "自然指数関数\n",
    "\n",
    "$$\n",
    "y = \\exp(x) = e^x\n",
    "$$\n",
    "\n",
    "は、$x$を0.01増やすと$y$が1%増えるように底が調整されている（底がネイピア数$e$だとそのようになる）\n",
    "\n",
    ":::\n",
    "\n",
    "\n",
    "この誤差は$x$が大きくなるにつれて大きくなる\n"
   ]
  },
  {
   "cell_type": "code",
   "execution_count": 4,
   "id": "fb249f25-cfe8-4fc2-bce5-7b8b56478fbf",
   "metadata": {
    "jupyter": {
     "source_hidden": true
    },
    "tags": [
     "hide-input"
    ]
   },
   "outputs": [
    {
     "data": {
      "text/html": [
       "<div>\n",
       "<style scoped>\n",
       "    .dataframe tbody tr th:only-of-type {\n",
       "        vertical-align: middle;\n",
       "    }\n",
       "\n",
       "    .dataframe tbody tr th {\n",
       "        vertical-align: top;\n",
       "    }\n",
       "\n",
       "    .dataframe thead th {\n",
       "        text-align: right;\n",
       "    }\n",
       "</style>\n",
       "<table border=\"1\" class=\"dataframe\">\n",
       "  <thead>\n",
       "    <tr style=\"text-align: right;\">\n",
       "      <th></th>\n",
       "      <th>x</th>\n",
       "      <th>y</th>\n",
       "    </tr>\n",
       "  </thead>\n",
       "  <tbody>\n",
       "    <tr>\n",
       "      <th>0</th>\n",
       "      <td>0.00</td>\n",
       "      <td>1.000</td>\n",
       "    </tr>\n",
       "    <tr>\n",
       "      <th>1</th>\n",
       "      <td>0.01</td>\n",
       "      <td>1.010</td>\n",
       "    </tr>\n",
       "    <tr>\n",
       "      <th>2</th>\n",
       "      <td>0.02</td>\n",
       "      <td>1.020</td>\n",
       "    </tr>\n",
       "    <tr>\n",
       "      <th>3</th>\n",
       "      <td>0.03</td>\n",
       "      <td>1.030</td>\n",
       "    </tr>\n",
       "    <tr>\n",
       "      <th>4</th>\n",
       "      <td>0.04</td>\n",
       "      <td>1.041</td>\n",
       "    </tr>\n",
       "    <tr>\n",
       "      <th>5</th>\n",
       "      <td>0.05</td>\n",
       "      <td>1.051</td>\n",
       "    </tr>\n",
       "    <tr>\n",
       "      <th>6</th>\n",
       "      <td>0.06</td>\n",
       "      <td>1.062</td>\n",
       "    </tr>\n",
       "    <tr>\n",
       "      <th>7</th>\n",
       "      <td>0.07</td>\n",
       "      <td>1.073</td>\n",
       "    </tr>\n",
       "    <tr>\n",
       "      <th>8</th>\n",
       "      <td>0.08</td>\n",
       "      <td>1.083</td>\n",
       "    </tr>\n",
       "    <tr>\n",
       "      <th>9</th>\n",
       "      <td>0.09</td>\n",
       "      <td>1.094</td>\n",
       "    </tr>\n",
       "    <tr>\n",
       "      <th>10</th>\n",
       "      <td>0.10</td>\n",
       "      <td>1.105</td>\n",
       "    </tr>\n",
       "  </tbody>\n",
       "</table>\n",
       "</div>"
      ],
      "text/plain": [
       "       x      y\n",
       "0   0.00  1.000\n",
       "1   0.01  1.010\n",
       "2   0.02  1.020\n",
       "3   0.03  1.030\n",
       "4   0.04  1.041\n",
       "5   0.05  1.051\n",
       "6   0.06  1.062\n",
       "7   0.07  1.073\n",
       "8   0.08  1.083\n",
       "9   0.09  1.094\n",
       "10  0.10  1.105"
      ]
     },
     "metadata": {},
     "output_type": "display_data"
    }
   ],
   "source": [
    "import numpy as np\n",
    "import pandas as pd\n",
    "\n",
    "x = np.linspace(0, 0.1, 11)\n",
    "y = np.exp(x)\n",
    "\n",
    "display(pd.DataFrame(dict(x=x, y=y)).round(3))"
   ]
  },
  {
   "cell_type": "code",
   "execution_count": 24,
   "id": "bb0473b5-24e7-456e-98eb-ec2e1cd8c317",
   "metadata": {
    "tags": [
     "hide-input"
    ]
   },
   "outputs": [
    {
     "data": {
      "image/png": "[encoded data removed]",
      "text/plain": [
       "<Figure size 640x480 with 2 Axes>"
      ]
     },
     "metadata": {},
     "output_type": "display_data"
    }
   ],
   "source": [
    "import numpy as np\n",
    "import matplotlib.pyplot as plt\n",
    "\n",
    "x = np.arange(0, 0.5, 0.01)\n",
    "y = np.exp(x)\n",
    "\n",
    "fig, axes = plt.subplots(nrows=2)\n",
    "axes[0].plot(x, 1+x, label=r\"$1 + x$\")\n",
    "axes[0].plot(x, y, label=r\"$exp(x)$\")\n",
    "axes[0].legend()\n",
    "axes[1].plot(x, y - (1+x), label=r\"difference: $exp(x) - (1 + x)$\")\n",
    "axes[1].legend()\n",
    "axes[0].set(title=r\"$exp(x) \\approx 1 + x$\")\n",
    "fig.show()"
   ]
  },
  {
   "cell_type": "markdown",
   "id": "2c220fe4-97e4-40f1-9f61-0a9ecfd53172",
   "metadata": {},
   "source": [
    "## 対数関数\n",
    "\n",
    "指数関数の逆関数を **対数関数** （logarithmic function）という。\n",
    "\n",
    "$a^y = x$のとき、「$y$は$a$を **底** とする $x$ の対数」といい\n",
    "\n",
    "$$\n",
    "y = \\log_{a} x\n",
    "$$\n",
    "\n",
    "と表す。"
   ]
  },
  {
   "cell_type": "markdown",
   "id": "ce707464-40f8-4a97-80e8-d3d41622a0c9",
   "metadata": {},
   "source": [
    ":::{admonition} （定義）対数\n",
    "$a > 0, a \\neq 1, M > 0$について\n",
    "\n",
    "$$\n",
    "a^m = M\n",
    "\\Longleftrightarrow\n",
    "m = \\log_a M\n",
    "$$\n",
    ":::"
   ]
  },
  {
   "cell_type": "code",
   "execution_count": 28,
   "id": "f2262486-b0e4-458c-80e2-818b00b9fe58",
   "metadata": {
    "tags": [
     "hide-input"
    ]
   },
   "outputs": [
    {
     "data": {
      "image/png": "[encoded data removed]",
      "text/plain": [
       "<Figure size 400x200 with 1 Axes>"
      ]
     },
     "metadata": {},
     "output_type": "display_data"
    }
   ],
   "source": [
    "import numpy as np\n",
    "import matplotlib.pyplot as plt\n",
    "\n",
    "x = np.linspace(0.1, 5, 100)\n",
    "y = np.array([np.log(xi) for xi in x])\n",
    "\n",
    "fig, ax = plt.subplots(figsize=[4, 2])\n",
    "ax.axhline(color=\"gray\")\n",
    "ax.axvline(color=\"gray\")\n",
    "ax.plot(x, y, label=r\"$\\log(x)$\")\n",
    "ax.set(xlabel=\"x\", ylabel=\"y\")\n",
    "ax.legend()\n",
    "fig.show()"
   ]
  },
  {
   "cell_type": "markdown",
   "id": "4f9663f1-2e03-4d06-a80d-fd39e77571d3",
   "metadata": {},
   "source": [
    "### 対数関数の性質\n",
    "\n",
    "$a > 0, a \\neq 1, b > 0, M > 0, N > 0$に対して\n",
    "\n",
    "$$\n",
    "\\begin{align}\n",
    "\\log_a 1 &= 0\\\\\n",
    "\\log_a a &= 1\\\\\n",
    "\\log_a \\frac{x}{y} &= \\log_a x - \\log_a y\\\\\n",
    "\\log_a xy &= \\log_a x + \\log_a y\\\\\n",
    "\\log_a x^y &= y \\log_a x\\\\\n",
    "\\log_b x &= \\frac{\\log_a x}{\\log_a b}\\\\\n",
    "\\end{align}\n",
    "$$"
   ]
  },
  {
   "cell_type": "markdown",
   "id": "707aa5f4-1ec6-4fce-a040-ff6660645c13",
   "metadata": {},
   "source": [
    ":::{card} 例：$a^x$\n",
    "\n",
    "底が$a$の対数を取る場合\n",
    "\n",
    "$$\n",
    "\\log_a (a^x) = x\n",
    "$$\n",
    "\n",
    "\n",
    "自然対数を使う場合\n",
    "\n",
    "$$\n",
    "\\ln (a^x) =\n",
    "x \\ln(a) \\quad (\\because \\log x^y = y \\log x の性質より)\n",
    "$$\n",
    "\n",
    ":::"
   ]
  },
  {
   "cell_type": "markdown",
   "id": "f63f3035-2dde-4dcf-b29d-7a135e95d3dd",
   "metadata": {},
   "source": [
    "#### 元本が2倍になる年数は\n",
    "\n",
    ":::{card}\n",
    "**例：元本が2倍になる年数は？**\n",
    "\n",
    "年率5%の利益が複利で運用できるとして、元本が2倍になるには何年かかる？\n",
    "\n",
    "利率$r$で$n$年間複利運用したときの利益率$\\pi$は\n",
    "\n",
    "$$\n",
    "(1 + r)^n = \\pi\n",
    "$$\n",
    "\n",
    "$r=0.05$とすると、$\\pi=2$になるのは\n",
    "\n",
    "$$\n",
    "(1.05)^n = 2\n",
    "$$\n",
    "\n",
    "両辺の対数をとると\n",
    "\n",
    "$$\n",
    "\\log_{10} (1.05)^n = \\log_{10} 2\n",
    "\\\\\n",
    "\\to n \\log_{10} 1.05 = \\log_{10} 2\n",
    "\\\\\n",
    "\\to n = \\frac{ \\log_{10} 2 }{ \\log_{10} 1.05 } \\approx 14.2\n",
    "$$\n",
    "\n",
    "なので約14年かかることになる。\n",
    ":::"
   ]
  },
  {
   "cell_type": "code",
   "execution_count": 16,
   "id": "9e836836-14fe-4897-abca-c9b209037dfd",
   "metadata": {
    "tags": []
   },
   "outputs": [
    {
     "data": {
      "text/plain": [
       "14.206699082890461"
      ]
     },
     "execution_count": 16,
     "metadata": {},
     "output_type": "execute_result"
    }
   ],
   "source": [
    "import numpy as np\n",
    "np.log10(2) / np.log10(1.05)"
   ]
  },
  {
   "cell_type": "markdown",
   "id": "43d497e7-8cfe-4a37-a9ad-d3b989811bee",
   "metadata": {},
   "source": [
    "#### $\\ln(1.01) \\approx 0.01$\n",
    "\n",
    ":::{admonition} $\\ln(1.01) \\approx 0.01$\n",
    "\n",
    "$\\ln(1.01) \\approx 0.01$はテイラー近似から導出される。まずテイラー近似について述べる\n",
    "\n",
    "$f(x)=\\ln(x+1)$とおくと、その$n$次の微分は\n",
    "\n",
    "$$\n",
    "f^{(n)}(x) = (-1)^{n-1} \\frac{(n-1)!}{(x+1)^n}\n",
    "$$\n",
    "\n",
    "となる。もし$x=0$なら\n",
    "\n",
    "$$\n",
    "f^{(n)}(0) = (-1)^{n-1} \\frac{(n-1)!}{(1)^n} = (-1)^{n-1} (n-1)!\n",
    "$$\n",
    "\n",
    "となる。\n",
    "\n",
    "これを$x=0$でのテイラー展開（つまりマクローリン展開）\n",
    "\n",
    "$$\n",
    "\\sum^{\\infty}_{n=0} \\frac{f^{(n)}(0)}{n!}x^n = f(0) + f'(0) x + \\frac{f^{(2)}(0)}{2!}x^2 + \\cdots\n",
    "$$\n",
    "\n",
    "にあてはめると、\n",
    "\n",
    "$$\n",
    "\\ln(1 + x) = x - \\frac{x^2}{2} + \\frac{x^3}{3} - \\frac{x^4}{4} + \\cdots\n",
    "$$\n",
    "\n",
    "となる。これは$x$が極めて小さな値（$x \\approx 0$）であれば$x^2$や$x^3$といった値は非常に小さくなるため、$\\ln(1+x) \\approx x$となる。\n",
    "\n",
    "よって$\\ln( 1 + 0.01) \\approx 0.01$となる\n",
    "\n",
    "\n",
    "数値計算的に確かめると、以下のようになる\n",
    "\n",
    "```{code-cell} ipython3\n",
    "import numpy as np\n",
    "x = 0.01\n",
    "print(f\"log: {np.log(1 + x):.7f}\")\n",
    "print(f\"approx 1: {x:.7f}\")\n",
    "print(f\"approx 2: {x - (x**2 / 2):.7f}\")\n",
    "print(f\"approx 3: {x - (x**2 / 2) + (x**3 / 3):.7f}\")\n",
    "```\n",
    "\n",
    "```\n",
    "log: 0.0099503\n",
    "approx 1: 0.0100000\n",
    "approx 2: 0.0099500\n",
    "approx 3: 0.0099503\n",
    "```\n",
    "\n",
    ":::"
   ]
  },
  {
   "cell_type": "code",
   "execution_count": null,
   "id": "fec1a8a1-bb15-4576-85b2-6e650b2d8ba4",
   "metadata": {},
   "outputs": [],
   "source": []
  }
 ],
 "metadata": {
  "kernelspec": {
   "display_name": "Python 3 (ipykernel)",
   "language": "python",
   "name": "python3"
  },
  "language_info": {
   "codemirror_mode": {
    "name": "ipython",
    "version": 3
   },
   "file_extension": ".py",
   "mimetype": "text/x-python",
   "name": "python",
   "nbconvert_exporter": "python",
   "pygments_lexer": "ipython3",
   "version": "3.10.18"
  }
 },
 "nbformat": 4,
 "nbformat_minor": 5
}
