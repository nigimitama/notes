{
 "cells": [
  {
   "cell_type": "markdown",
   "id": "8be06802-4751-4a45-89d0-ce7158d74d9d",
   "metadata": {},
   "source": [
    "# 確率論"
   ]
  },
  {
   "cell_type": "markdown",
   "id": "f491adf5-919a-4787-8286-6183c8e61d19",
   "metadata": {},
   "source": [
    ":::{tableofcontents}\n",
    ":::"
   ]
  }
 ],
 "metadata": {
  "kernelspec": {
   "display_name": "Python 3 (ipykernel)",
   "language": "python",
   "name": "python3"
  },
  "language_info": {
   "codemirror_mode": {
    "name": "ipython",
    "version": 3
   },
   "file_extension": ".py",
   "mimetype": "text/x-python",
   "name": "python",
   "nbconvert_exporter": "python",
   "pygments_lexer": "ipython3",
   "version": "3.10.15"
  }
 },
 "nbformat": 4,
 "nbformat_minor": 5
}
