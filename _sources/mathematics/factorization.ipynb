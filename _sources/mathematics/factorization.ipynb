{
 "cells": [
  {
   "cell_type": "markdown",
   "id": "6f703c3f-fe4a-4894-8e4e-36051c6da8fc",
   "metadata": {},
   "source": [
    "# 因数分解"
   ]
  },
  {
   "cell_type": "markdown",
   "id": "efdda9ac-cfb8-4203-a643-503a55311acc",
   "metadata": {},
   "source": [
    "## 因数定理\n",
    "\n",
    ":::{admonition} 因数定理\n",
    "\n",
    "多項式 $f(x)$ について、 $f(a)=0$ なら、 $f(x)$ は $(x-a)$ を因数に持つ。\n",
    ":::\n"
   ]
  },
  {
   "cell_type": "markdown",
   "id": "7032e740-efbe-4c86-a738-b985a8d8fe52",
   "metadata": {},
   "source": [
    "例：\n",
    "\n",
    "$f(x) = x^2 - 2x + 1$ に対して $x = 1$を代入すると\n",
    "\n",
    "$$\n",
    "f(1) = 1 - 2 + 1 = 0\n",
    "$$\n",
    "\n",
    "であり、実際$f(x) = (x-1)^2$である。"
   ]
  },
  {
   "cell_type": "markdown",
   "id": "3d542af9-0535-4a27-b8cc-87813eecc4f5",
   "metadata": {},
   "source": [
    ":::{admonition} $f(a) = 0$となる$a$の求め方\n",
    "\n",
    "$$\n",
    "\\pm \\frac{定数項の約数}{最高次の項の約数}\n",
    "$$\n",
    "\n",
    "が候補となる\n",
    ":::"
   ]
  },
  {
   "cell_type": "markdown",
   "id": "342bb7e9-e892-4609-9af8-0572065eb7d2",
   "metadata": {},
   "source": [
    ":::{card} 例：$f(x) = x^2 -5x + 6$\n",
    "\n",
    "候補は\n",
    "\n",
    "$$\n",
    "\\pm \\frac{6}{1},\\quad\n",
    "\\pm \\frac{3}{1},\\quad\n",
    "\\pm \\frac{2}{1},\\quad\n",
    "\\pm \\frac{1}{1}\n",
    "$$\n",
    "\n",
    "となる。実際に関数に代入してみると\n",
    "\n",
    "$$\n",
    "\\begin{align}\n",
    "f(6) &= 36 - 30 + 6 = 12\\\\\n",
    "f(-6) &= 36 + 30 + 6 = 72\\\\\n",
    "f(3) &= 9 - 15 + 6 = 0\\\\\n",
    "f(-3) &= 9 + 15 + 6 = -15\\\\\n",
    "f(2) &= 4 - 10 + 6 = 0\\\\\n",
    "f(-2) &= 4 + 10 + 6 = 20\\\\\n",
    "f(1) &= 1 - 5 + 6 = 2\\\\\n",
    "f(-1) &= 1 + 5 + 6 = 12\\\\\n",
    "\\end{align}\n",
    "$$\n",
    "\n",
    "で$x = 2, 3$のとき$f(x)=0$となっている\n",
    ":::"
   ]
  },
  {
   "cell_type": "markdown",
   "id": "259544c9-eb85-4745-b2a7-a46ed09fbbab",
   "metadata": {},
   "source": [
    "### 組立除法\n",
    "\n",
    "組立除法は多項式 $÷(x−p)$ の余りと商を素早く求める手法\n",
    "\n",
    "[組立除法のやり方と例題３問 | 高校数学の美しい物語](https://manabitimes.jp/math/916)\n",
    "\n",
    "の説明がわかりやすいので省く"
   ]
  },
  {
   "cell_type": "markdown",
   "id": "4fa50ed6-5b13-40c1-910a-d18cccb2b709",
   "metadata": {},
   "source": [
    "## たすきがけ法\n",
    "\n",
    "[たすきがけによる因数分解のやり方・例題・他の方法 | 高校数学の美しい物語](https://manabitimes.jp/math/1427)\n",
    "\n"
   ]
  },
  {
   "cell_type": "markdown",
   "id": "971b41c1-0cd2-4489-988c-c548becfb22a",
   "metadata": {},
   "source": [
    "## 3次多項式の因数分解"
   ]
  },
  {
   "cell_type": "markdown",
   "id": "d7de6984-b578-4c3f-8b41-b1a688739e14",
   "metadata": {},
   "source": [
    ":::{card} 例：$f(x) = 4x^3 + 6x^2 - 6x - 4$を因数分解せよ\n",
    "\n",
    "まず因数$(x-a)$の$a$を探索する。候補は\n",
    "\n",
    "$$\n",
    "\\pm \\frac{4}{4},\\quad\n",
    "\\pm \\frac{4}{2},\\quad\n",
    "\\pm \\frac{4}{1},\\quad\n",
    "\\pm \\frac{2}{4},\\quad\n",
    "\\pm \\frac{2}{2},\\quad\n",
    "\\pm \\frac{2}{1},\\quad\n",
    "\\pm \\frac{1}{4},\\quad\n",
    "\\pm \\frac{1}{2},\\quad\n",
    "\\pm \\frac{1}{1}\n",
    "$$\n",
    "\n",
    "となる。\n",
    "\n",
    "まず$\\pm 1$について検討すると\n",
    "\n",
    "$$\n",
    "\\begin{align}\n",
    "f(1) &= 4 + 6 - 6 - 4 = 0\\\\\n",
    "\\end{align}\n",
    "$$\n",
    "\n",
    "なので$(x-1)$が因数のひとつであることがわかった。\n",
    "\n",
    "次に、組立除法で$(4x^3 + 6x^2 - 6x - 4) / (x-1)$を求める\n",
    "\n",
    "$$\n",
    "\\begin{array}{ccc}\n",
    "4 & 6 & -6 & -4\\\\\n",
    "  & 4 & 10 &  4\\\\\n",
    "\\hline\n",
    "4 & 10& 4  & 0\n",
    "\\end{array}\n",
    "$$\n",
    "\n",
    "より商の$4x^2 + 10x + 4$と余り$0$が得られるので\n",
    "\n",
    "$$\n",
    "f(x) = (x - 1)(4x^2 + 10x + 4)\n",
    "$$\n",
    "\n",
    "\n",
    "$4x^2 + 10x + 4$は、たすきがけ法などで解くと$(4x + 2)(x+2)$なので\n",
    "\n",
    "$$\n",
    "f(x) = (x - 1)(4x + 2)(x + 2)\n",
    "$$\n",
    ":::"
   ]
  },
  {
   "cell_type": "code",
   "execution_count": null,
   "id": "f1d446a5-4ecf-4e62-925a-468c6bf8c681",
   "metadata": {},
   "outputs": [],
   "source": []
  }
 ],
 "metadata": {
  "kernelspec": {
   "display_name": "Python 3 (ipykernel)",
   "language": "python",
   "name": "python3"
  },
  "language_info": {
   "codemirror_mode": {
    "name": "ipython",
    "version": 3
   },
   "file_extension": ".py",
   "mimetype": "text/x-python",
   "name": "python",
   "nbconvert_exporter": "python",
   "pygments_lexer": "ipython3",
   "version": "3.10.13"
  }
 },
 "nbformat": 4,
 "nbformat_minor": 5
}
