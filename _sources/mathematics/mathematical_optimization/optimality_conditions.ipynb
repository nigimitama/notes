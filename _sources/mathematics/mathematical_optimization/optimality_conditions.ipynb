{
 "cells": [
  {
   "cell_type": "markdown",
   "id": "27a729c9-b7c1-4a23-9769-351dc7b45dca",
   "metadata": {},
   "source": [
    "# 最適性条件\n",
    "\n",
    "関数$f: \\mathbb{R}^n \\to \\mathbb{R}$に対する無制約最適化問題\n",
    "\n",
    "$$\n",
    "\\newcommand{\\R}{\\mathbb{R}}\n",
    "\\newcommand{\\b}[1]{ \\boldsymbol{#1} }\n",
    "\\min_{\\b{x}\\in\\R} f(\\b{x})\n",
    "\\tag{1}\n",
    "$$\n",
    "\n",
    "について考える。\n",
    "\n",
    "凸とは限らない関数の最適化では、局所最適解を求めることが現実的な目標になる\n",
    "\n",
    ":::{note} 最適解\n",
    "実行可能領域（feasible region）$S$における$\\b{x}^* \\in S$が任意の$\\b{x} \\in S$に対して\n",
    "\n",
    "$$\n",
    "f(\\b{x}^*) \\leq f(\\b{x})\n",
    "$$\n",
    "\n",
    "を満たすとき、$\\b{x}^*$をその問題の**最適解（optimal solution）**、あるいは**大域的最適解（global optimal solution）**という。\n",
    ":::\n",
    "\n",
    "\n",
    ":::{note} 局所最適解\n",
    "$\\b{x}^* \\in S$に対して$\\varepsilon > 0$が存在し、\n",
    "\n",
    "$$\n",
    "\\b{x} \\in B(\\b{x}^*, \\varepsilon) \\cap S\n",
    "\\implies f(\\b{x}^*) \\leq f(\\b{x})\n",
    "$$\n",
    "\n",
    "が成り立つとき、$\\b{x}^* \\in S$を**局所最適解（local optimal solution）**という。\n",
    "\n",
    "ただし\n",
    "\n",
    "$$\n",
    "B(\\b{x}^*, \\varepsilon) = \\{ \\b{y} \\in \\R^n | \\|\\b{x} - \\b{y} \\| < \\varepsilon \\}\n",
    "$$\n",
    "\n",
    "は点$\\b{x}$の$\\varepsilon$近傍\n",
    ":::"
   ]
  },
  {
   "cell_type": "markdown",
   "id": "1b733039-5b9e-4f87-822d-bdf0ae02f845",
   "metadata": {},
   "source": [
    "目的関数が微分可能なら、局所最適解における勾配はゼロベクトルとなる\n",
    "\n",
    ":::{note} 1次の必要条件\n",
    "関数$f: \\R^n \\to \\R$は1回微分可能とし、$\\b{x}^* \\in \\R^n$を問題(1)の局所最適解とする。このとき\n",
    "\n",
    "$$\n",
    "\\nabla f(\\b{x}^*) = \\b{0}\n",
    "$$\n",
    "\n",
    "が成り立つ\n",
    ":::\n",
    "\n",
    "\n",
    "\n",
    "\n",
    "ここで$\\nabla f(\\b{x})$は**勾配（gradient）**\n",
    "\n",
    "$$\n",
    "\\nabla f(\\b{x}) = \\left(\n",
    "    \\frac{\\partial f}{\\partial x_1} (\\b{x}),\n",
    "    \\dots,\n",
    "    \\frac{\\partial f}{\\partial x_n} (\\b{x})\n",
    "\\right)^T \\in \\R^n\n",
    "$$\n",
    "\n",
    "である"
   ]
  },
  {
   "cell_type": "markdown",
   "id": "824c8f88-0e26-4e9a-8725-68b5506dbd08",
   "metadata": {},
   "source": [
    "\n",
    "ヘッセ行列の情報で局所最適解かどうかを判定することができる\n",
    "\n",
    ":::{margin}\n",
    "2回微分可能な関数$f$の**ヘッセ行列（Hessian）**$\\nabla^2 f(\\b{x}) \\in \\R^{n\\times n}$は\n",
    "\n",
    "$$\n",
    "(\\nabla^2 f(\\b{x}))_{ij}\n",
    "= \\frac{\\partial^2 f}{\\partial x_i \\partial x_j} (\\b{x}), \\hspace{1em} i, j = 1, \\dots, n\n",
    "$$\n",
    "\n",
    "である\n",
    ":::\n",
    "\n",
    ":::{note} 2次の必要条件\n",
    "$\\b{x}^* \\in \\R^n$が問題$(1)$の局所最適解のとき、\n",
    "\n",
    "$$\n",
    "\\nabla^2 f(\\b{x}^*) \\succeq \\b{O}\n",
    "$$\n",
    "\n",
    "となる（$\\succeq \\b{O}$は非負正定値行列（non-negative definite matrix）の意味）\n",
    ":::\n"
   ]
  },
  {
   "cell_type": "markdown",
   "id": "b0617d57-1314-4cf5-a9db-f2ef8f2ec4ed",
   "metadata": {},
   "source": []
  },
  {
   "cell_type": "code",
   "execution_count": null,
   "id": "5e6544f2-0103-49d7-822d-7db69ade8a52",
   "metadata": {},
   "outputs": [],
   "source": [
    " "
   ]
  }
 ],
 "metadata": {
  "kernelspec": {
   "display_name": "Python 3 (ipykernel)",
   "language": "python",
   "name": "python3"
  },
  "language_info": {
   "codemirror_mode": {
    "name": "ipython",
    "version": 3
   },
   "file_extension": ".py",
   "mimetype": "text/x-python",
   "name": "python",
   "nbconvert_exporter": "python",
   "pygments_lexer": "ipython3",
   "version": "3.10.15"
  }
 },
 "nbformat": 4,
 "nbformat_minor": 5
}
