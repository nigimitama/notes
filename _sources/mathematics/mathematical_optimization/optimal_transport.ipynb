{
 "cells": [
  {
   "cell_type": "markdown",
   "id": "f85fa057-5a05-4131-a6d8-4cdc9080bfab",
   "metadata": {},
   "source": [
    "# 最適輸送"
   ]
  },
  {
   "cell_type": "markdown",
   "id": "71f54da8-bc53-4445-84a0-ebbfcdeb47c9",
   "metadata": {},
   "source": [
    "- 最適輸送：最良の輸送プランと総輸送コストを求める道具\n",
    "- 総輸送コスト は2つの確率分布（例えば工場とデパート）の距離・類似度とも捉えられる → 機械学習の分野への応用が見られる"
   ]
  },
  {
   "cell_type": "markdown",
   "id": "4ef6dd4d-6669-413f-a54e-28c16d9c4243",
   "metadata": {},
   "source": [
    "## 参考文献\n",
    "\n",
    "- [NLP2022 チュートリアル４「最適輸送と自然言語処理」横井祥先生（東北大学）2022年3月14日 - YouTube](https://www.youtube.com/watch?v=vlCjNbVSyOc)"
   ]
  },
  {
   "cell_type": "code",
   "execution_count": null,
   "id": "b48523a1-0e8d-4ce6-ad62-baa51f8e767b",
   "metadata": {},
   "outputs": [],
   "source": []
  }
 ],
 "metadata": {
  "kernelspec": {
   "display_name": "Python 3 (ipykernel)",
   "language": "python",
   "name": "python3"
  },
  "language_info": {
   "codemirror_mode": {
    "name": "ipython",
    "version": 3
   },
   "file_extension": ".py",
   "mimetype": "text/x-python",
   "name": "python",
   "nbconvert_exporter": "python",
   "pygments_lexer": "ipython3",
   "version": "3.9.17"
  }
 },
 "nbformat": 4,
 "nbformat_minor": 5
}
