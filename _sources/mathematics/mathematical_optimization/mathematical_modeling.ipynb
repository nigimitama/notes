{
 "cells": [
  {
   "cell_type": "markdown",
   "id": "5ed89210-7808-4d1a-93ea-3d8088333799",
   "metadata": {},
   "source": [
    "# 数理モデリング\n"
   ]
  },
  {
   "cell_type": "markdown",
   "id": "3c729f92-39ab-4b9e-9698-9a91cf1d6520",
   "metadata": {},
   "source": [
    "数理最適化と応用"
   ]
  },
  {
   "cell_type": "markdown",
   "id": "36348d52-c7ee-472f-9fdb-69d756724fe6",
   "metadata": {},
   "source": [
    "## 例\n",
    "\n",
    ":::{card} Amazonの売上最大化を目的にしたレコメンド\n",
    "\n",
    "ユーザーの居住地近くの倉庫にない商品を、空輸をしてでも「明日までにお届け」と表示するかどうかの意思決定問題\n",
    "\n",
    "輸送コストを条件にした売上最大化を解く\n",
    "\n",
    "$$\n",
    "\\begin{aligned}\n",
    "& \\max _{\\lambda_1 \\cdots m} \\sum_a \\underbrace{E(y \\mid a)}_{\\text {製品の期待売上 }} \\\\\n",
    "& \\text { s.t. } \\sum_a \\underbrace{E(C \\mid a)}_{\\text {製品 } a \\text { の輸送量}} \\leq \\underbrace{B}_{\\text {輸送可能量 }}\n",
    "\\end{aligned}\n",
    "$$\n",
    "\n",
    "- 論文：[ASPIRE: Air shipping recommendation for e-commerce products via causal inference framework - Amazon Science](https://www.amazon.science/publications/aspire-air-shipping-recommendation-for-e-commerce-products-via-causal-inference-framework)\n",
    "- 日本語解説記事：[\"ASPIRE: Air Shipping Recommendation for E-commerce Products via Causal Inference Framework\"を読んだ｜Masayoshi Mita](https://note.com/kind_ixia1/n/n3d7388449914)\n",
    "\n",
    ":::"
   ]
  },
  {
   "cell_type": "markdown",
   "id": "3783c749-3b80-4e19-8e85-89d91f1e9fa2",
   "metadata": {},
   "source": [
    "## 書籍"
   ]
  },
  {
   "cell_type": "markdown",
   "id": "fed34331-aefc-4a8e-abde-b1f95b12a450",
   "metadata": {},
   "source": [
    ":::{card} 参考図書\n",
    "\n",
    "[数理モデルの力を引き出す書籍ガイド | gihyo.jp](https://gihyo.jp/article/2025/07/book-guide-to-mathematical-models)\n",
    "\n",
    "> 参考文献\n",
    ">\n",
    "> - Meerschaert, Mark M. (2015)『数理モデリング入門:ファイブ・ステップ法⁠』⁠，佐藤一憲・梶原毅・佐々木徹・竹内康博・宮崎倫子・守田智訳，共立出版．\n",
    "> - 神取道宏 (2019)『ミクロ経済学の力⁠』⁠，岩波書店．\n",
    "> - Gibbons, Robert (2019)『経済学のためのゲーム理論入門⁠』⁠，ダイヤモンド社．\n",
    "> - 片平秀貴 (1987)『マーケティング・サイエンス⁠』⁠，東京大学出版会．\n",
    "> - 古川一郎・守口剛・阿部誠 (2011)『(新版) マーケティング・サイエンス入門: 市場対応の科学的マネジメント⁠』⁠，有斐閣．\n",
    "> - 浜田宏 (2018)『その問題、数理モデルが解決します : 社会を解き明かす数理モデル 入門⁠』⁠，ベレ出版．\n",
    "> - Lambert, Ben (2018) A student’s guide to Bayesian statistics: SAGE.\n",
    "> - McElreath, Richard (2020) Statistical rethinking : a Bayesian course with examples in R and Stan, Texts in statistical science: CRC Press, 2nd edition.\n",
    "> - 久保川達也 (2017)『現代数理統計学の基礎⁠』⁠，第 11 号，共立出版．\n",
    "> - 岩永二郎・石原響太・西村直樹・田中一樹 (2024)『Pythonではじめる数理最適化（第2版⁠）⁠：ケーススタディでモデリングのスキルを身につけよう⁠』⁠，オーム社．\n",
    "> - 梅谷俊治 (2020)『しっかり学ぶ数理最適化 : モデルからアルゴリズムまで⁠』⁠， 講談社．\n",
    "\n",
    ":::"
   ]
  },
  {
   "cell_type": "code",
   "execution_count": null,
   "id": "e1b41f6d-2c18-4856-9d7c-220c14a46769",
   "metadata": {},
   "outputs": [],
   "source": []
  }
 ],
 "metadata": {
  "kernelspec": {
   "display_name": "Python 3 (ipykernel)",
   "language": "python",
   "name": "python3"
  },
  "language_info": {
   "codemirror_mode": {
    "name": "ipython",
    "version": 3
   },
   "file_extension": ".py",
   "mimetype": "text/x-python",
   "name": "python",
   "nbconvert_exporter": "python",
   "pygments_lexer": "ipython3",
   "version": "3.10.18"
  }
 },
 "nbformat": 4,
 "nbformat_minor": 5
}
