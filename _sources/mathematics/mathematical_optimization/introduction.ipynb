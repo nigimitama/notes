{
 "cells": [
  {
   "cell_type": "markdown",
   "id": "d3003883-6ebe-4ba8-adca-7f68bed1db21",
   "metadata": {},
   "source": [
    "# 数理最適化\n",
    "\n",
    "様々な選択肢のなかから最適な解を探索する手法群。\n",
    "\n"
   ]
  },
  {
   "cell_type": "code",
   "execution_count": null,
   "id": "7e083979-ac46-4788-885b-ff78150dbac9",
   "metadata": {},
   "outputs": [],
   "source": []
  }
 ],
 "metadata": {
  "kernelspec": {
   "display_name": "Python 3 (ipykernel)",
   "language": "python",
   "name": "python3"
  },
  "language_info": {
   "codemirror_mode": {
    "name": "ipython",
    "version": 3
   },
   "file_extension": ".py",
   "mimetype": "text/x-python",
   "name": "python",
   "nbconvert_exporter": "python",
   "pygments_lexer": "ipython3",
   "version": "3.9.16"
  }
 },
 "nbformat": 4,
 "nbformat_minor": 5
}
