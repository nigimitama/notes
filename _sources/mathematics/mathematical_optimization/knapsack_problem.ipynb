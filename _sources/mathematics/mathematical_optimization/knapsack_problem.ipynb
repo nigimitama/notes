{
 "cells": [
  {
   "cell_type": "markdown",
   "id": "395a35e6-3f0f-4920-95e7-33e0debbe4b5",
   "metadata": {},
   "source": [
    "# ナップサック問題"
   ]
  },
  {
   "cell_type": "code",
   "execution_count": null,
   "id": "7f7d7725-3dd2-4e6a-ad65-7c0d2282615c",
   "metadata": {},
   "outputs": [],
   "source": []
  },
  {
   "cell_type": "markdown",
   "id": "01ac3794-6e68-4bc7-9d43-56f10fae0103",
   "metadata": {},
   "source": [
    "## 0-1ナップサック問題\n",
    "\n",
    "\n",
    "### 貪欲法\n",
    "\n",
    "例：空輸してでも「翌日配送」の表示を出すかどうかのレコメンド問題（[Mondal et al, 2022](https://dl.acm.org/doi/abs/10.1145/3534678.3539197)）\n",
    "\n",
    "\n",
    "**問題**\n",
    "\n",
    "\n",
    "$$\n",
    "\\text{argmax}_{\\lambda_i} \\sum E(\\text{Revenue}_i)\\\\\n",
    "\\text{s. t. } \\sum_i E(\\text{Cost}_i) \\leq \\text{Budget}\n",
    "$$\n",
    "\n",
    "- $\\lambda_i \\in \\{0, 1\\}$：商品$i$を表示するときに「翌日配送」の表示をするかどうか\n",
    "  - 翌日配送は売上を高める可能性があるが空輸するのでコストも掛かる\n",
    "- $E(R_i)$：商品$i$の推定売上\n",
    "  - $E(R_i) = \\lambda_i \\cdot \\text{price}_i \\cdot \\Delta_i$\n",
    "  - $\\Delta_i$：speed sensitivity。翌日配送でupliftする売上\n",
    "\n",
    "\n",
    "**アルゴリズム**\n",
    "\n",
    "```{prf:algorithm} 0-1 ナップザック問題\n",
    ":label: Greedy method\n",
    "\n",
    "1. 利益スコア（benefit score）\n",
    "\n",
    "$$\n",
    "\\text{benefit score}_i = \\frac\n",
    "{\\text{price}_i \\cdot \\Delta_i}\n",
    "{\\text{weight}_i \\cdot \\text{cost}^{fly}_i }_i\n",
    "$$\n",
    "\n",
    "を計算して、商品をbenefit scoreの降順に並べる\n",
    "\n",
    "2. FLY := \\emptyset, k:=1, \\text{Budget}^{res} := B\n",
    "3. 予算内なら順にレコメンド対象にしていく：\n",
    "    while $(\\text{Budget}^{res} - d_k \\cdot \\text{weight}_k \\cdot \\text{cost}^{fly}_k ) \\geq 0$ do\n",
    "        $FLY := FLY \\cup \\{ \\text{product}_k \\}$\n",
    "        $\\text{Budget}^{res} := \\text{Budget}^{res} - d_k \\cdot \\text{weight}_k \\cdot \\text{cost}^{fly}_k$\n",
    "        $k:=k+1$\n",
    "```\n",
    "\n",
    "\n",
    "参考：[Mondal, A., Majumder, A., & Chaoji, V. (2022, August). ASPIRE: Air Shipping Recommendation for E-commerce Products via Causal Inference Framework. In Proceedings of the 28th ACM SIGKDD Conference on Knowledge Discovery and Data Mining (pp. 3584-3592).](https://dl.acm.org/doi/abs/10.1145/3534678.3539197)\n"
   ]
  },
  {
   "cell_type": "markdown",
   "id": "a8421f23-1504-4d70-b576-35664b551d50",
   "metadata": {},
   "source": [
    "```{prf:algorithm} Ford–Fulkerson\n",
    ":label: my-algorithm\n",
    "\n",
    "**Inputs** Given a Network $G=(V,E)$ with flow capacity $c$, a source node $s$, and a sink node $t$\n",
    "\n",
    "**Output** Compute a flow $f$ from $s$ to $t$ of maximum value\n",
    "\n",
    "1. $f(u, v) \\leftarrow 0$ for all edges $(u,v)$\n",
    "2. While there is a path $p$ from $s$ to $t$ in $G_{f}$ such that $c_{f}(u,v)>0$\n",
    "\tfor all edges $(u,v) \\in p$:\n",
    "\n",
    "\t1. Find $c_{f}(p)= \\min \\{c_{f}(u,v):(u,v)\\in p\\}$\n",
    "\t2. For each edge $(u,v) \\in p$\n",
    "\n",
    "\t\t1. $f(u,v) \\leftarrow f(u,v) + c_{f}(p)$ *(Send flow along the path)*\n",
    "\t\t2. $f(u,v) \\leftarrow f(u,v) - c_{f}(p)$ *(The flow might be \"returned\" later)*\n",
    "```"
   ]
  },
  {
   "cell_type": "code",
   "execution_count": null,
   "id": "ab8b2af5-f70a-4754-b43c-0e4dab88c54b",
   "metadata": {},
   "outputs": [],
   "source": []
  }
 ],
 "metadata": {
  "kernelspec": {
   "display_name": "Python 3 (ipykernel)",
   "language": "python",
   "name": "python3"
  },
  "language_info": {
   "codemirror_mode": {
    "name": "ipython",
    "version": 3
   },
   "file_extension": ".py",
   "mimetype": "text/x-python",
   "name": "python",
   "nbconvert_exporter": "python",
   "pygments_lexer": "ipython3",
   "version": "3.9.16"
  }
 },
 "nbformat": 4,
 "nbformat_minor": 5
}
