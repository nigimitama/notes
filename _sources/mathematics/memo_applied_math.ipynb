{
 "cells": [
  {
   "cell_type": "markdown",
   "id": "d9374d8d-9dfc-4707-842f-f041e5b489ef",
   "metadata": {},
   "source": [
    "# 応用数学 メモ\n",
    "\n",
    "金谷健一. (2003). これなら分かる応用数学教室: 最小二乗法からウェーブレットまで."
   ]
  },
  {
   "cell_type": "markdown",
   "id": "05e145f9-6940-4ffa-a38c-26fc617b0db3",
   "metadata": {},
   "source": []
  }
 ],
 "metadata": {
  "kernelspec": {
   "display_name": "Python 3 (ipykernel)",
   "language": "python",
   "name": "python3"
  },
  "language_info": {
   "codemirror_mode": {
    "name": "ipython",
    "version": 3
   },
   "file_extension": ".py",
   "mimetype": "text/x-python",
   "name": "python",
   "nbconvert_exporter": "python",
   "pygments_lexer": "ipython3",
   "version": "3.10.15"
  }
 },
 "nbformat": 4,
 "nbformat_minor": 5
}
