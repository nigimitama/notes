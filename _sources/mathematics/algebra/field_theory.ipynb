{
 "cells": [
  {
   "cell_type": "markdown",
   "id": "51f13cbb-2a01-4238-89b3-52dfcec134f4",
   "metadata": {},
   "source": [
    "# 体論\n",
    "\n",
    "四則演算ができる集合のことを **体** （field, たい）という。"
   ]
  },
  {
   "cell_type": "markdown",
   "id": "731a3381-0bb8-4915-a8ee-e9d8d547ecbf",
   "metadata": {},
   "source": [
    ":::{admonition} 定義\n",
    "\n",
    "（2つ以上の要素をもつ）可換環に $\\times$ の逆元の存在条件\n",
    "\n",
    "> 0 以外のすべての $a$ に対して、ある要素 $a^{-1}$ が存在して\n",
    "> $$\n",
    "a \\times a^{-1}=a^{-1} \\times a=1\n",
    "$$\n",
    "\n",
    "をさらに課したものを **体** (field) という\n",
    ":::"
   ]
  },
  {
   "cell_type": "markdown",
   "id": "1d89e656-4b3a-457f-ac03-a63ca221a100",
   "metadata": {},
   "source": [
    "## 例\n",
    "\n",
    "有理数全体$\\mathbb{Q}$、実数全体$\\mathbb{R}$、複素数全体$\\mathbb{C}$"
   ]
  },
  {
   "cell_type": "markdown",
   "id": "d19350e3-4598-499e-b985-1db24573e98d",
   "metadata": {},
   "source": [
    "## ガロア理論\n",
    "\n",
    "ガロア（Galois, 1811-1832）が$n$次方程式の解について探求するためにつくった、体と群の対応について述べた理論。\n"
   ]
  },
  {
   "cell_type": "markdown",
   "id": "4a2f8621-2ec3-4e3f-8f19-33d98bd8bccb",
   "metadata": {},
   "source": [
    "## 5次方程式の解の公式\n",
    "\n",
    "2次方程式 $a x^2+b x+c=0$ に関しては、 有名な解の公式\n",
    "\n",
    "$$\n",
    "x=\\frac{-b \\pm \\sqrt{b^2-4 a c}}{2 a}\n",
    "$$\n",
    "\n",
    "が存在する。\n",
    "\n",
    "3次方程式と4次方程式も解の公式が存在する。\n",
    "\n",
    "しかし、5次方程式には解の公式が存在しない（アーベル・ルフィニの定理）。\n",
    "\n",
    "（※解は存在するが、公式が存在しない。つまり、有理数の加減乗除や$n$乗根を繰り返すことでは表せない。）\n",
    "\n",
    "5次方程式の解の公式が存在しないことを初めて証明したのはアーベルだが、後にガロアがある群（今日では **ガロア群** と呼ばれている群）を導入して、「方程式の解が加減乗除と$n$乗根をとる操作で表される」ことと「ガロア群が可解である」ことを結びつけた。"
   ]
  },
  {
   "cell_type": "markdown",
   "id": "73a8861b-0636-4985-ace8-373e40211c67",
   "metadata": {},
   "source": [
    "## 参考\n",
    "\n",
    "- [MATSUDA, O. (2018). ガロア理論を理解しよう.](https://www.tsuyama-ct.ac.jp/matsuda/eBooks/galios.pdf)"
   ]
  }
 ],
 "metadata": {
  "kernelspec": {
   "display_name": "Python 3 (ipykernel)",
   "language": "python",
   "name": "python3"
  },
  "language_info": {
   "codemirror_mode": {
    "name": "ipython",
    "version": 3
   },
   "file_extension": ".py",
   "mimetype": "text/x-python",
   "name": "python",
   "nbconvert_exporter": "python",
   "pygments_lexer": "ipython3",
   "version": "3.10.14"
  }
 },
 "nbformat": 4,
 "nbformat_minor": 5
}
