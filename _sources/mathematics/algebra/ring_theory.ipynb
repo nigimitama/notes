{
 "cells": [
  {
   "cell_type": "markdown",
   "id": "92b56161-8cd7-4f76-ab9d-2d10825d8041",
   "metadata": {},
   "source": [
    "# 環論\n",
    "\n",
    "\n",
    "**環** (ring) は2つの演算が定められており、いくつかの性質を満たす集合のこと。"
   ]
  },
  {
   "cell_type": "markdown",
   "id": "8037ff0a-1d89-4c01-8fe1-7d89fed05571",
   "metadata": {},
   "source": [
    "## 環\n",
    "\n",
    ":::{admonition} 定義\n",
    "\n",
    "空ではない集合 $R$ が 2 つの演算$+, \\times$ をもち、 次の5つの性質を満たすとき、 $R$ は **環** （ring） であるという。\n",
    "\n",
    "ただし、以下において $a, b, c$ はすべて $R$ の要素とする。\n",
    "\n",
    "(1) **結合法則**：$+, \\times$ についてそれぞれ結合法則が成り立つ：\n",
    "\n",
    "すべての $a, b, c$ に対して\n",
    "\n",
    "$$\n",
    "(a+b)+c=a+(b+c)\\\\\n",
    "(a \\times b) \\times c=a \\times(b \\times c)\n",
    "$$\n",
    "\n",
    "(2) **交換法則**： $+$ について交換法則が成り立つ：\n",
    "\n",
    "すべての $a, b$ に対して、 $a+b=b+a$\n",
    "\n",
    "(3) **分配法則**： $+, \\times$ について分配法則が成り立つ：\n",
    "\n",
    "すべての $a, b, c$ に対して\n",
    "\n",
    "$$\n",
    "a \\times(b+c)=a \\times b+a \\times c\\\\\n",
    "(a+b) \\times c=a \\times c+b \\times c\n",
    "$$\n",
    "\n",
    "(4) **単位元**： $+, \\times$ についてそれぞれ単位元がある：\n",
    "\n",
    "すべての $a$ に対して, $a+0=0+a=a$,\n",
    "\n",
    "すべての $a$ に対して， $a \\times 1=1 \\times a=a$\n",
    "\n",
    "となるような特別な $R$ の要素 $0,1$ がある・\n",
    "\n",
    "(5) **+ の逆元**：$+$ については逆元がある：\n",
    "\n",
    "すべての $a$ に対して，ある要素 $-a$ があり\n",
    "\n",
    "$$\n",
    "a+(-a)=(-a)+a=0\n",
    "$$\n",
    ":::"
   ]
  },
  {
   "cell_type": "markdown",
   "id": "c8dca6b2-04db-495d-bee3-4fe40f35c6aa",
   "metadata": {},
   "source": [
    "## 環の例\n",
    "\n",
    "- 整数全体$\\mathbb{Z}$、有理数全体$\\mathbb{Q}$、実数全体$\\mathbb{R}$などは足し算・引き算・掛け算が定義されているため、環である\n",
    "- 多項式全体のなす環もある：多項式$a_n x^n + a_{n-1} x^{n-1} + \\cdots + a_1 x + a_0$（$n$は0以上の整数、$a_n,a_{n-1},\\dots,a_0$は実数）の集合$\\mathbb{R}[x]$も環であり、**多項式環** という。"
   ]
  },
  {
   "cell_type": "markdown",
   "id": "041cefcf-b669-44cc-a6a6-2d251a696c22",
   "metadata": {},
   "source": [
    "## 環の分類\n",
    "\n",
    "- **可換環**：$\\times$について交換法則が成り立つ環のこと。例えば整数全体や多項式全体の集合は可換環である。\n",
    "- **非可換環**：$\\times$について交換法則が成り立たない環のこと。例えば線形代数学における行列は非可換である\n",
    "\n",
    "### 可換環\n",
    "\n",
    "可換環は歴史的には代数的整数論、代数幾何学、不変式論などに由来する。\n",
    "\n",
    "- **代数的整数論**：整数の拡張を考えるとき、環としての拡張を考えることになる。また素因数分解の一般化や、「イデアル」と呼ばれる概念を導入するために環の概念も整備されていった。\n",
    "- **代数幾何学**：放物線$y=x^2$すなわち$x^2-y=0$など、座標空間上の「多項式=0」の形で表される図形に関する幾何学。\n",
    "\n"
   ]
  }
 ],
 "metadata": {
  "kernelspec": {
   "display_name": "Python 3 (ipykernel)",
   "language": "python",
   "name": "python3"
  },
  "language_info": {
   "codemirror_mode": {
    "name": "ipython",
    "version": 3
   },
   "file_extension": ".py",
   "mimetype": "text/x-python",
   "name": "python",
   "nbconvert_exporter": "python",
   "pygments_lexer": "ipython3",
   "version": "3.10.14"
  }
 },
 "nbformat": 4,
 "nbformat_minor": 5
}
