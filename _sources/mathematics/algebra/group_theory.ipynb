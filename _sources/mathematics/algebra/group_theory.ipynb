{
 "cells": [
  {
   "cell_type": "markdown",
   "id": "9bd4fae6-c826-48bf-9050-04b90431e1e3",
   "metadata": {},
   "source": [
    "# 群論"
   ]
  },
  {
   "cell_type": "markdown",
   "id": "02fc44bd-635c-41f0-8c7d-a1c58ddad430",
   "metadata": {},
   "source": [
    "**群論** （group theory）\n",
    "\n"
   ]
  },
  {
   "cell_type": "markdown",
   "id": "09b21715-e50a-4306-b5a8-d7a3d16e7629",
   "metadata": {},
   "source": [
    "## 群\n",
    "\n",
    "いくつかの性質を満たす1つの演算をもつ集合のことを群という。\n",
    "\n",
    ":::{admonition}\n",
    "\n",
    "空ではない集合 $G$ が 1つの演算 $*$ を持ち、 次の 3 つ の性質を満たすとき、 $G$ は **群** であるという。\n",
    "\n",
    "(1) **結合法則**：すべての $G$ の要素 $P, Q, R$ に対して\n",
    "\n",
    "$$\n",
    "(P * Q) * R=P *(Q * R)\n",
    "$$\n",
    "\n",
    "(2) **単位元の存在**： $1$ という特別な $G$ の要素があり、以下の性質を満たす：\n",
    "\n",
    "$$\n",
    "すべての G の要素 P に対して、 P * 1=1 * P=P\n",
    "$$\n",
    "\n",
    "(3) **逆元の存在**：すべての $G$ の要素 $P$ に対して、 $P^{-1}$ という要素があり、\n",
    "\n",
    "$$\n",
    "P * P^{-1}=P^{-1} * P=1\n",
    "$$\n",
    "\n",
    ":::"
   ]
  },
  {
   "cell_type": "markdown",
   "id": "7b665ba9-aa21-42cd-8ea8-b44f8441afc7",
   "metadata": {},
   "source": [
    "## 例\n",
    "\n",
    "正三角形ABCを回転させたり反転させることで、頂点と辺がピッタリ重なるように動かす方法はどれだけあるか？\n",
    "\n",
    "例えば、\n",
    "\n",
    "- 反時計回りに120°回転させる操作を$X$とする\n",
    "- $X$を2回繰り返す（240°回転させる）操作を$X^2$とする\n",
    "- 鉛直方向に線対称に左右反転する操作を$Y$とする\n",
    "- 120°回転させてから反転する操作を$X Y$とする\n",
    "- 240°回転させてから反転する操作を$X^2 Y$とする\n",
    "- 「何もしない」という操作を$1$とする\n",
    "\n",
    "とすると、頂点$A,B,C$の並べ替えは全部で$3!=6$通りある。これらの操作を集めた集合を\n",
    "\n",
    "$$\n",
    "S_3 = \\{ 1, X, X^2, Y, XY, X^2Y \\}\n",
    "$$\n",
    "\n",
    "とする。この$S_3$も群である。\n"
   ]
  },
  {
   "cell_type": "markdown",
   "id": "a71771c5-6c0e-42b4-ab2c-d84c5c112411",
   "metadata": {},
   "source": [
    "## 置換\n",
    "\n",
    "$n$文字を並べ替える操作を **置換** という。\n",
    "\n",
    "上記の$S_3$は3文字のち缶をすべて集めた群である。\n",
    "\n",
    "$S_3$を3次の **対称群** という。"
   ]
  },
  {
   "cell_type": "markdown",
   "id": "2e5c4624-1440-4f65-b5c5-72762b87dcf1",
   "metadata": {},
   "source": [
    "## 作用\n",
    "\n",
    "群は何かしらの対象に働きかけるものとして用いられることもある。これを群の **作用** という。\n",
    "\n",
    "$S_3$は正三角形に作用して頂点を並べ替えることで正三角形の対称性を表現していたと捉えることができる"
   ]
  },
  {
   "cell_type": "markdown",
   "id": "d3ef2a68-d6bc-462f-a49f-0545458c0c9a",
   "metadata": {},
   "source": [
    "## 群の例（正則な線形写像の合成）\n",
    "\n",
    "線形代数を学んだ人にとってわかりやすいであろう例\n",
    "\n",
    "（元ネタ： [山下博 (2001) 行列の魅力 群の作用と表現](https://researchmap.jp/yamasita.hirosi/presentations/5746055/attachment_file.pdf) ）\n",
    "\n",
    "ベクトル空間$V$、線形変換$f: V\\to V$とその集合$L(V):= \\{ f: V\\to V \\}$があるとする。正則な線形変換全体のなす集合を\n",
    "\n",
    "$$\n",
    "GL(V) := \\{ f \\in L(V) \\mid fは正則 \\}\n",
    "$$\n",
    "\n",
    "で表す。$f,g\\in GL(V)$について、合成写像$f\\circ g$も正則であり、$GL(V)$の要素となる。$f\\circ g$を簡単に$fg$と書くことにすると、集合$GL(V)$のなかで合成写像を作るという積の演算が定義される。\n",
    "\n",
    "この演算は次の性質をもつ。\n",
    "\n",
    "1. $f,g,h \\in GL(V)$に対し、結合法則$(fg)h = f(gh)$が成り立つ\n",
    "2. $ge = eg = g (\\forall GL(V)$を満たす$e\\in GL(V)$が存在する\n",
    "3. $g\\in GL(V)$に対して$gg'=g'g=e$を満たす$g'\\in GL(V)$が存在する\n",
    "\n",
    "よって$GL(V)$は群である"
   ]
  },
  {
   "cell_type": "markdown",
   "id": "2f55f460-259b-4267-8406-4ea141c49a92",
   "metadata": {},
   "source": [
    "## 参考\n",
    "\n",
    "- 古賀真輝. (2023). 数学の世界地図.\n",
    "- [山下博 (2001) 行列の魅力 群の作用と表現](https://researchmap.jp/yamasita.hirosi/presentations/5746055/attachment_file.pdf) "
   ]
  }
 ],
 "metadata": {
  "kernelspec": {
   "display_name": "Python 3 (ipykernel)",
   "language": "python",
   "name": "python3"
  },
  "language_info": {
   "codemirror_mode": {
    "name": "ipython",
    "version": 3
   },
   "file_extension": ".py",
   "mimetype": "text/x-python",
   "name": "python",
   "nbconvert_exporter": "python",
   "pygments_lexer": "ipython3",
   "version": "3.10.14"
  }
 },
 "nbformat": 4,
 "nbformat_minor": 5
}
