{
 "cells": [
  {
   "cell_type": "markdown",
   "id": "7bffa30c-4c80-4272-95ba-7a8dbae58621",
   "metadata": {},
   "source": [
    "# データサイエンスでよく使う数学記号一覧"
   ]
  },
  {
   "cell_type": "markdown",
   "id": "ab0a600b-0a99-4e5d-8898-d7f0bad2111b",
   "metadata": {},
   "source": [
    "## 関数\n",
    "\n",
    "### 引数\n",
    "\n",
    "関数 $f$ の任意の引数をドット （$\\cdot$） で表す記法。\n",
    "\n",
    "$$\n",
    "f(\\cdot)\n",
    "$$\n",
    "\n",
    "\n",
    "### 真偽の数値化\n",
    "\n",
    "引数の真偽 $\\{\\text{true, false}\\}$ を $\\{0, 1\\}$ に変換する記法\n",
    "\n",
    "#### 指示関数（indicator function）\n",
    "\n",
    "$\\mathbb{1}(\\cdot)$ や $\\mathbf{I}(\\cdot)$ で表される。\n",
    "\n",
    "例：\n",
    "\n",
    "$$\n",
    "\\mathbb{1}(x > 0) :=\n",
    "\\begin{cases}\n",
    "1 & x > 0\\\\\n",
    "0 & x \\leq 0\n",
    "\\end{cases}\n",
    "$$\n",
    "\n",
    "#### アイバーソン括弧（Iverson bracket）\n",
    "\n",
    "例：\n",
    "\n",
    "$$\n",
    "[x > 0] :=\n",
    "\\begin{cases}\n",
    "1 & x > 0\\\\\n",
    "0 & x \\leq 0\n",
    "\\end{cases}\n",
    "$$\n"
   ]
  },
  {
   "cell_type": "markdown",
   "id": "78317ec0-49ca-4f2c-a604-91a4bc6fa971",
   "metadata": {},
   "source": [
    "## イコールっぽいやつ\n",
    "\n",
    "| 記号      | 意味 | 説明                           |\n",
    "| --------- | ---- | ------------------------------ |\n",
    "| $:=$      | 定義 | 「左辺を右辺のように定義する」 |\n",
    "| $\\approx$ | 近似 | 「ほぼ等しい」                 |\n",
    "| $\\propto$ | 比例 | 「に比例する」                 |"
   ]
  },
  {
   "cell_type": "markdown",
   "id": "9605312f-94ff-4dfc-bc31-64479d8d23dc",
   "metadata": {},
   "source": [
    "## 総和・総積\n",
    "\n",
    "| 記号                | 意味     | 説明                                     |\n",
    "| ------------------- | -------- | ---------------------------------------- |\n",
    "| $\\sum_{i=1}^{n}$    | 総和記号 | $\\sum_{i=1}^{n} x_i = x_1 + x_2 + \\dots + x_n$                |\n",
    "| $\\prod_{i=1}^{n}$   | 総積記号 | $\\prod_{i=1}^{n} x_i = x_1 \\times x_2 \\times \\dots \\times x_n$ |\n"
   ]
  },
  {
   "cell_type": "markdown",
   "id": "36538781-b743-4be8-9198-303f9f40fee9",
   "metadata": {},
   "source": [
    "## 集合\n",
    "\n",
    "集合の定義\n",
    "\n",
    "- 外延（extension)：要素を列挙する方法\n",
    "    - 例：$\\{0, 1\\}$\n",
    "- 内包（intension）：性質を記述する方法\n",
    "    - 例：$\\{x\\mid 0 \\leq x \\leq 1\\}$\n",
    "\n",
    "\n",
    "| 記号 | 意味 | 説明 |\n",
    "|------|------|------|\n",
    "| $\\in$ | 属する | $x \\in A$ は「$x$は集合$A$に属する」 |\n",
    "| $\\notin$ | 属さない | $x \\notin A$ |\n",
    "| $\\subset$ | 部分集合 | $A \\subset B$ は「$A$は$B$の部分集合」 |\n",
    "| $\\cup$ | 和集合 | $A \\cup B$ |\n",
    "| $\\cap$ | 共通部分（積集合） | $A \\cap B$ |\n",
    "| $\\emptyset$ | 空集合 | 要素がない集合 |\n",
    "\n"
   ]
  },
  {
   "cell_type": "markdown",
   "id": "8e8f4187-9fd8-4aaf-b2e6-247057e78728",
   "metadata": {},
   "source": [
    "\n",
    "## 論理記号\n",
    "\n",
    "| 記号 | 意味 | 説明 |\n",
    "|------|------|------|\n",
    "| $\\forall$ | 任意の | 「すべての$x$について」 |\n",
    "| $\\exists$ | 存在する | 「ある$x$が存在する」 |\n",
    "| $\\Rightarrow$ | 含意 | 「ならば」 |\n",
    "| $\\Leftrightarrow$ | 同値 | 「同値である」 |\n"
   ]
  },
  {
   "cell_type": "markdown",
   "id": "8e1827eb-7f00-4487-b3ce-d1c44ac7c6e4",
   "metadata": {},
   "source": [
    "\n",
    "## その他のよく使う記号\n",
    "\n",
    "| 記号 | 意味 | 説明 |\n",
    "|------|------|------|\n",
    "| $\\cdot$ | 掛け算 | $(a \\cdot b)$ |\n",
    "| $\\oplus$ | 直和 | ベクトル空間の直和など |\n",
    "| $\\otimes$ | テンソル積 | 外積 |\n",
    "| $\\lfloor x \\rfloor$ | 切り捨て（floor） | $x$以下の最大の整数 |\n",
    "| $\\lceil x \\rceil$ | 切り上げ（ceil） | $x$以上の最小の整数 |\n",
    "| $\\arg\\min_x f(x)$ | 最小化 | $f(x)$を最小にする$x$ |\n",
    "| $\\arg\\max_x f(x)$ | 最大化 | $f(x)$を最大にする$x$ |\n",
    "| $\\therefore$ | よって | 論理展開の結論 |\n",
    "| $\\because$ | なぜなら | 理由の提示 |\n"
   ]
  }
 ],
 "metadata": {
  "kernelspec": {
   "display_name": "Python 3 (ipykernel)",
   "language": "python",
   "name": "python3"
  },
  "language_info": {
   "codemirror_mode": {
    "name": "ipython",
    "version": 3
   },
   "file_extension": ".py",
   "mimetype": "text/x-python",
   "name": "python",
   "nbconvert_exporter": "python",
   "pygments_lexer": "ipython3",
   "version": "3.10.18"
  }
 },
 "nbformat": 4,
 "nbformat_minor": 5
}
