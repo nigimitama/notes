{
 "cells": [
  {
   "cell_type": "markdown",
   "id": "11121224-c847-4db0-a724-0cd38763cd37",
   "metadata": {},
   "source": [
    "# 離散数学\n",
    "\n",
    "**離散数学（discrete mathematics）** は、主に離散的な（連続でない）対象を扱う数学のこと"
   ]
  },
  {
   "cell_type": "markdown",
   "id": "831d5263-e879-47b2-bd4d-02da8d92f3e4",
   "metadata": {},
   "source": [
    ":::{tableofcontents}\n",
    ":::"
   ]
  }
 ],
 "metadata": {
  "kernelspec": {
   "display_name": "Python 3 (ipykernel)",
   "language": "python",
   "name": "python3"
  },
  "language_info": {
   "codemirror_mode": {
    "name": "ipython",
    "version": 3
   },
   "file_extension": ".py",
   "mimetype": "text/x-python",
   "name": "python",
   "nbconvert_exporter": "python",
   "pygments_lexer": "ipython3",
   "version": "3.10.15"
  }
 },
 "nbformat": 4,
 "nbformat_minor": 5
}
