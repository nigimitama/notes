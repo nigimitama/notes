{
 "cells": [
  {
   "cell_type": "markdown",
   "id": "1747859d-2883-46a8-871d-0c109a086de5",
   "metadata": {},
   "source": [
    "# グラフ理論\n",
    "\n",
    "**グラフ理論 (graph theory)** はノード（点）の集合とエッジ（辺）の集合で構成される **グラフ** に関する離散数学の理論。"
   ]
  },
  {
   "cell_type": "markdown",
   "id": "1977a7d9-2689-4a6c-bfe4-ebabf713609d",
   "metadata": {},
   "source": [
    "## 応用・関連分野\n",
    "\n",
    "- 統計的因果推論：DAG（有向非巡回グラフ）でのモデル表現\n",
    "- 機械学習：Graph Neural Netrowk\n",
    "- ネットワークデータの分析：SNSのつながりの分析など"
   ]
  }
 ],
 "metadata": {
  "kernelspec": {
   "display_name": "Python 3 (ipykernel)",
   "language": "python",
   "name": "python3"
  },
  "language_info": {
   "codemirror_mode": {
    "name": "ipython",
    "version": 3
   },
   "file_extension": ".py",
   "mimetype": "text/x-python",
   "name": "python",
   "nbconvert_exporter": "python",
   "pygments_lexer": "ipython3",
   "version": "3.10.15"
  }
 },
 "nbformat": 4,
 "nbformat_minor": 5
}
