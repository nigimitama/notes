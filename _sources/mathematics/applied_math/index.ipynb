{
 "cells": [
  {
   "cell_type": "markdown",
   "id": "d9374d8d-9dfc-4707-842f-f041e5b489ef",
   "metadata": {},
   "source": [
    "# 応用数学\n"
   ]
  },
  {
   "cell_type": "markdown",
   "id": "0373ce30-c1a0-4e25-8380-609bd45cf99d",
   "metadata": {},
   "source": [
    ":::{tableofcontents}\n",
    "\n",
    ":::"
   ]
  },
  {
   "cell_type": "markdown",
   "id": "aee63017-ba59-4cd6-9640-04bafc09832d",
   "metadata": {},
   "source": [
    "## 参考\n",
    "\n",
    "金谷健一. (2003). これなら分かる応用数学教室: 最小二乗法からウェーブレットまで."
   ]
  }
 ],
 "metadata": {
  "kernelspec": {
   "display_name": "Python 3 (ipykernel)",
   "language": "python",
   "name": "python3"
  },
  "language_info": {
   "codemirror_mode": {
    "name": "ipython",
    "version": 3
   },
   "file_extension": ".py",
   "mimetype": "text/x-python",
   "name": "python",
   "nbconvert_exporter": "python",
   "pygments_lexer": "ipython3",
   "version": "3.10.15"
  }
 },
 "nbformat": 4,
 "nbformat_minor": 5
}
