{
 "cells": [
  {
   "cell_type": "markdown",
   "id": "3e4d85fc-f80b-4e07-9fd6-73b3c396d1b0",
   "metadata": {},
   "source": [
    "# 応用数学 ch6メモ（主軸変換とその応用：主成分分析、特異値分解）\n"
   ]
  },
  {
   "cell_type": "markdown",
   "id": "464dec2f-79b8-46fd-9379-fa44cf9954d6",
   "metadata": {},
   "source": [
    "## 6.1 主成分分析\n",
    "\n",
    "### 主軸変換\n",
    "\n",
    "\n",
    ":::{card}\n",
    "\n",
    "ベクトル$x$を単位ベクトル$u$の延長上の線$l$に射影した長さは、それらの内積\n",
    "\n",
    "$$\n",
    "\\left(\\boldsymbol{u}_1, \\boldsymbol{x}_\\alpha\\right)=\\left\\|\\boldsymbol{u}_1\\right\\| \\cdot\\left\\|\\boldsymbol{x}_\\alpha\\right\\| \\cos \\theta_\\alpha=\\left\\|\\boldsymbol{x}_\\alpha\\right\\| \\cos \\theta_\\alpha\n",
    "$$\n",
    "\n",
    "に等しい\n",
    ":::"
   ]
  },
  {
   "cell_type": "markdown",
   "id": "c9390a8f-d986-4eba-89ce-87acecdeacca",
   "metadata": {},
   "source": [
    ":::{card}\n",
    "\n",
    "原点$O$を平均とする$N$点$\\{x_{\\alpha} \\}$を$l$上に射影した長さの平均は常に零である\n",
    "\n",
    "$$\n",
    "\\frac{1}{N} \\sum_{\\alpha=1}^N\\left(u_1, x_\\alpha\\right)\n",
    "=\\left(u_1, \\frac{1}{N} \\sum_{\\alpha=1}^N x_\\alpha\\right)\n",
    "=\\left(u_1, 0 \\right)\n",
    "= 0\n",
    "$$\n",
    "\n",
    ":::"
   ]
  },
  {
   "cell_type": "markdown",
   "id": "1d42849b-f5ae-4e46-a918-533e9dd93f8d",
   "metadata": {},
   "source": [
    ":::{card}\n",
    "\n",
    "原点$O$を平均とする$N$点$\\{x_{\\alpha} \\}$を$l$上に射影した長さの **二乗の平均** は\n",
    "\n",
    "$$\n",
    "\\begin{aligned}\n",
    "S &= \\frac{1}{N} \\sum_{\\alpha=1}^N\\left(\\boldsymbol{u}_1, \\boldsymbol{x}_\\alpha\\right)^2\\\\\n",
    "&= \\frac{1}{N} \\sum_{\\alpha=1}^N \\boldsymbol{u}_1^{\\top} \\boldsymbol{x}_\\alpha \\boldsymbol{x}_\\alpha^{\\top} \\boldsymbol{u}_1\\\\\n",
    "&= \\boldsymbol{u}_1^{\\top}\\left(\\frac{1}{N} \\sum_{\\alpha=1}^N \\boldsymbol{x}_\\alpha \\boldsymbol{x}_\\alpha^{\\top}\\right) \\boldsymbol{u}_1\\\\\n",
    "\\end{aligned}\n",
    "$$\n",
    "\n",
    "となる。このとき、\n",
    "\n",
    "$$\n",
    "V:= \\frac{1}{N} \\sum_{\\alpha=1}^N \\boldsymbol{x}_\\alpha \\boldsymbol{x}_\\alpha^{\\top}\n",
    "$$\n",
    "\n",
    "を分散共分散行列とよぶ。\n",
    "\n",
    "分散$S$を最大化する方向$u_1$を **主方向** と呼ぶ。\n",
    "\n",
    ":::"
   ]
  },
  {
   "cell_type": "markdown",
   "id": "18d12310-8d69-4ed5-ba62-f807b2ed0aa3",
   "metadata": {},
   "source": [
    "共分散行列Vは半正値対称行列\n",
    "\n",
    "$$\n",
    "\\begin{aligned}\n",
    "(\\boldsymbol{x}, \\boldsymbol{V} \\boldsymbol{x}) & =\\left(\\boldsymbol{x},\\left(\\frac{1}{N} \\sum_{\\alpha=1}^N \\boldsymbol{x}_\\alpha \\boldsymbol{x}_\\alpha^{\\top}\\right) \\boldsymbol{x}\\right)=\\frac{1}{N} \\sum_{\\alpha=1}^N\\left(\\boldsymbol{x}, \\boldsymbol{x}_\\alpha \\boldsymbol{x}_\\alpha^{\\top} \\boldsymbol{x}\\right) \\\\\n",
    "& =\\frac{1}{N} \\sum_{\\alpha=1}^N\\left(\\boldsymbol{x}, \\boldsymbol{x}_\\alpha\\right)\\left(\\boldsymbol{x}_\\alpha, \\boldsymbol{x}\\right)=\\frac{1}{N} \\sum_{\\alpha=1}^N\\left(\\boldsymbol{x}, \\boldsymbol{x}_\\alpha\\right)^2 \\geq 0\n",
    "\\end{aligned}\n",
    "$$"
   ]
  },
  {
   "cell_type": "markdown",
   "id": "3893abd0-91fa-4c9a-8ba0-b388c0b1e740",
   "metadata": {},
   "source": [
    "$N$点$\\{x_{\\alpha} \\}$の主方向はVの最大固有値$\\lambda_1$に対する固有ベクトル$u_1$の方向であり、その方向の分散は$\\lambda_1$である"
   ]
  },
  {
   "cell_type": "markdown",
   "id": "dcca96a1-b5ae-429e-b62a-3879c727512e",
   "metadata": {},
   "source": [
    "### 主軸を座標系にとるとその座標系では共分散行列はどうなるか\n",
    "\n",
    "元の座標系の点 $\\boldsymbol{x}_\\alpha$ は，新しい座標系では $\\boldsymbol{x}_\\alpha^{\\prime}=\\boldsymbol{U}^{\\top} \\boldsymbol{x}_\\alpha$ と書ける．その共分散行列は次のようになる。\n",
    "\n",
    "$$\n",
    "\\begin{aligned}\n",
    "\\boldsymbol{V}^{\\prime}\n",
    "&=\\frac{1}{N} \\sum_{\\alpha=1}^N \\boldsymbol{x}_\\alpha^{\\prime} \\boldsymbol{x}_\\alpha^{\\prime \\top}\\\\\n",
    "&=\\frac{1}{N} \\sum_{\\alpha=1}^N\\left(\\boldsymbol{U}^{\\top} \\boldsymbol{x}_\\alpha\\right)\\left(\\boldsymbol{U}^{\\top} \\boldsymbol{x}_\\alpha\\right)^{\\top}\\\\\n",
    "&=\\frac{1}{N} \\sum_{\\alpha=1}^N \\boldsymbol{U}^{\\top} \\boldsymbol{x}_\\alpha \\boldsymbol{x}_\\alpha^{\\top} \\boldsymbol{U}\\\\\n",
    "&=\\boldsymbol{U}^{\\top}\\left(\\frac{1}{N} \\sum_{\\alpha=1}^N \\boldsymbol{x}_\\alpha \\boldsymbol{x}_\\alpha^{\\top}\\right) \\boldsymbol{U}\\\\\n",
    "&=\\boldsymbol{U}^{\\top} \\boldsymbol{V} \\boldsymbol{U}\\\\\n",
    "&=\\left(\\begin{array}{cccc}\n",
    "\\lambda_1 & & & \\\\\n",
    "& \\lambda_2 & & \\\\\n",
    "& & & \\\\\n",
    "& & \\ddots & \\\\\n",
    "& & & \\lambda_n\n",
    "\\end{array}\\right)\n",
    "\\end{aligned}\n",
    "$$\n",
    "\n",
    "すなわち、共分散行列$V$の固有値を対角要素とする対角行列になる。\n",
    "\n",
    "このように主軸方向に新しい座標系をとることを **主軸変換** という。"
   ]
  },
  {
   "cell_type": "markdown",
   "id": "ffc20b77-aa67-4568-a160-e2044c87f113",
   "metadata": {},
   "source": [
    "## 6.2 画像の表現"
   ]
  },
  {
   "cell_type": "markdown",
   "id": "4b7a3f93-b25e-434c-aa5b-44ee9b77359b",
   "metadata": {},
   "source": [
    "### 画像の展開\n",
    "\n",
    "$m\\times m$画素の大きさの画像があるとし、$(i,j)$画素の濃淡値が$f_{ij}$の画像を$\\boldsymbol{f}_{ij} = (f_{ij})$とする。\n"
   ]
  },
  {
   "cell_type": "markdown",
   "id": "3eb4fe1c-9619-45d2-be63-2ba6c8f13d63",
   "metadata": {},
   "source": [
    "#### 画像の内積とノルム\n",
    "\n",
    "画像$\\boldsymbol{f}_{ij} = (f_{ij})$、$\\boldsymbol{g}_{ij} = (g_{ij})$の内積と画像$\\boldsymbol{f}_{ij} = (f_{ij})$のノルムを次のように定義する\n",
    "\n",
    "$$\n",
    "(\\boldsymbol{f}, \\boldsymbol{g})=\\sum_{i, j=1}^m f_{i j} g_{i j}, \\quad\\|\\boldsymbol{f}\\|=\\sqrt{(\\boldsymbol{f}, \\boldsymbol{f})}=\\sqrt{\\sum_{i, j=1}^m f_{i j}^2}\n",
    "$$\n",
    "\n",
    "内積が0となる2つの画像は互いに直交するという"
   ]
  },
  {
   "cell_type": "markdown",
   "id": "fb34eca3-81b3-4290-b7b5-b1f7afb1180b",
   "metadata": {},
   "source": [
    "#### 画像の基底\n",
    "\n",
    "$m^2$ 個の画素を持つ任意の画像がある $m^2$ 個の画像 $\\boldsymbol{e}_1, \\boldsymbol{e}_2, \\ldots, \\boldsymbol{e}_{m^2}$ の線形結合でただ一通りに表せるとき，$\\left\\{e_i\\right\\}$ を基底と呼び，各 $e_i$ を基底画像と呼ぶ。 これらが互いに直交するとき，その基底を直交基底と呼び，さらに各画像の ノルムがすべて 1 のとき正規直交基底と呼ぶ．"
   ]
  },
  {
   "cell_type": "markdown",
   "id": "4274d344-f552-4b49-ad1e-5bacc6cafb5c",
   "metadata": {},
   "source": [
    "#### 画像の展開\n",
    "\n",
    "一部の基底画像によって\n",
    "\n",
    "$$\n",
    "\\boldsymbol{f} \\approx c_1 \\boldsymbol{e}_1+c_2 \\boldsymbol{e}_2+\\cdots+c_n \\boldsymbol{e}_n, \\quad n<m^2\n",
    "$$\n",
    "\n",
    "と近似することを **展開** とよぶ。\n",
    "\n",
    "\n",
    "近似の尺度として二乗誤差$\\left\\|\\boldsymbol{f}-\\sum_{i=1}^n c_i \\boldsymbol{e}_i\\right\\|^2$を用いると、各係数$c_i$は\n",
    "\n",
    "$$\n",
    "c_i=\\left(\\boldsymbol{f}, \\boldsymbol{e}_i\\right), \\quad i=1, \\ldots, n\n",
    "$$\n"
   ]
  },
  {
   "cell_type": "markdown",
   "id": "b313d64e-664c-4973-af49-a29292e1d99c",
   "metadata": {},
   "source": [
    ":::{card} 証明\n",
    "\n",
    "この誤差関数を最小化する $c_i$ を求める：\n",
    "\n",
    "$$\n",
    "E\\left(c_1, \\ldots, c_n\\right)=\\left\\|f-\\sum_{i=1}^n c_i e_i\\right\\|^2\n",
    "$$\n",
    "\n",
    "\n",
    "これは内積を用いて次のように展開できる：\n",
    "\n",
    "$$\n",
    "\\begin{gathered}\n",
    "E=\\left(f-\\sum_{i=1}^n c_i e_i, f-\\sum_{j=1}^n c_j e_j\\right) \\\\\n",
    "=(f, f)-2 \\sum_{i=1}^n c_i\\left(f, e_i\\right) + \\sum_{i=1}^n \\sum_{j=1}^n c_i c_j\\left(e_i, e_j\\right)\n",
    "\\end{gathered}\n",
    "$$\n",
    "\n",
    "\n",
    "ここで基底が正規直交なので：\n",
    "\n",
    "$$\n",
    "\\left(e_i, e_j\\right)= \\begin{cases}1 & i=j \\\\ 0 & i \\neq j\\end{cases}\n",
    "$$\n",
    "\n",
    "\n",
    "よって$\\sum_{i=1}^n \\sum_{j=1}^n c_i c_j\\left(e_i, e_j\\right)$の項は $\\sum_{i=1}^n c_i^2$ となり、したがって誤差関数は\n",
    "\n",
    "$$\n",
    "E=\\|f\\|^2-2 \\sum_{i=1}^n c_i\\left(f, e_i\\right)+\\sum_{i=1}^n c_i^2\n",
    "$$\n",
    "\n",
    "となる。これを各 $c_k$ について偏微分してゼロとおくと\n",
    "\n",
    "$$\n",
    "\\frac{\\partial E}{\\partial c_k}=-2\\left(f, e_k\\right)+2 c_k=0 \\quad \\Rightarrow \\quad c_k=\\left(f, e_k\\right)\n",
    "$$\n",
    "\n",
    ":::"
   ]
  },
  {
   "cell_type": "markdown",
   "id": "89ea94f3-023d-4310-bbbb-601d38137b8f",
   "metadata": {},
   "source": [
    "### 画像の基底\n",
    "#### 自明な基底\n",
    "\n",
    "$m \\times m$ 画像の $(i, j)$ 画素のみが 1 で，残りの画素がすべて 0 である画像を $\\boldsymbol{e}_{i j}$ とすると，任意の画像 $\\boldsymbol{f}=\\left(f_{i j}\\right)$ は次のように $\\left\\{\\boldsymbol{e}_{i j}\\right\\}$ の線形結合で表せる．\n",
    "\n",
    "$$\n",
    "\\boldsymbol{f}=\\sum_{i, j=0}^{m-1} f_{i j} e_{i j}\n",
    "$$\n",
    "\n",
    "この $m^2$ 枚の画像 $\\left\\{\\boldsymbol{e}_{i j}\\right\\}, i, j=0, \\ldots, m-1$ を自明な基底という．しかし，各 $\\boldsymbol{e}_{i j}$ は 1 点のみが光る画像であり，画像としての意味はない．"
   ]
  },
  {
   "cell_type": "markdown",
   "id": "00f79d7a-f15e-4d0a-aaac-fd612d8ef114",
   "metadata": {},
   "source": [
    "#### アダマール変換の基底\n",
    "\n",
    "次のような基底を考える．\n",
    "\n",
    "1. すべての画素が 1 の画像を考える．\n",
    "2. 画像を $(m / 2) \\times(m / 2)$ 画素の 4 枚の小画像に分割する\n",
    "3. その内の 2 枚のすべて の画素を 1 ，残りの 2 枚のすべての画素を -1 とする。ただし，すでに作った画像と同じ，または 1 と -1 を反転すると同じになるものは除く\n",
    "4. 各々 の $(m / 2) \\times(m / 2)$ 小画像をさらに 4 枚の $(m / 4) \\times(m / 4)$ 小画像に分割\n",
    "5. 以下同様にする\n",
    "\n",
    "このような基底による画像の展開を **アダマール変換**という\n"
   ]
  },
  {
   "cell_type": "markdown",
   "id": "9f09c2bf-8330-4d68-ba7d-9d32c86b0d44",
   "metadata": {},
   "source": [
    ":::{card} 別の言い方\n",
    "\n",
    "アダマール変換（Hadamard Transform）とは、\n",
    "「入力ベクトルに対して、非常にシンプルな +1 と -1 のみを使った線形変換」\n",
    "\n",
    "- 行列要素がすべて +1 か -1（ゼロはない）\n",
    "- 直交行列（行同士・列同士が直交している）\n",
    "- フーリエ変換の簡易版ともいえる（周波数解析に近い）\n",
    "\n",
    ":::"
   ]
  },
  {
   "cell_type": "code",
   "execution_count": 7,
   "id": "ffebada9-6e3b-45a8-9bcc-4bf7a9d9ae62",
   "metadata": {
    "tags": []
   },
   "outputs": [
    {
     "name": "stdout",
     "output_type": "stream",
     "text": [
      "[[ 1  1]\n",
      " [ 1 -1]]\n"
     ]
    }
   ],
   "source": [
    "from scipy.linalg import hadamard\n",
    "\n",
    "print(hadamard(2))"
   ]
  },
  {
   "cell_type": "code",
   "execution_count": 13,
   "id": "8890cd13-b7de-479a-9654-412756e834c3",
   "metadata": {
    "tags": [
     "hide-input"
    ]
   },
   "outputs": [
    {
     "data": {
      "image/png": "[encoded data removed]",
      "text/plain": [
       "<Figure size 300x300 with 1 Axes>"
      ]
     },
     "metadata": {},
     "output_type": "display_data"
    }
   ],
   "source": [
    "import numpy as np\n",
    "import matplotlib.pyplot as plt\n",
    "from scipy.linalg import hadamard\n",
    "\n",
    "# アダマール行列を作成（サイズは2のべき乗）\n",
    "n = 4\n",
    "H = hadamard(2**n)\n",
    "\n",
    "# プロット\n",
    "plt.figure(figsize=(3, 3))\n",
    "plt.imshow(H, cmap='gray', interpolation='nearest')\n",
    "plt.title(f\"Hadamard Matrix (size {2**n}×{2**n})\")\n",
    "plt.show()"
   ]
  },
  {
   "cell_type": "markdown",
   "id": "4151905c-3570-4b10-809e-6de0baffb07d",
   "metadata": {},
   "source": [
    "#### 離散コサイン変換の基底\n",
    "\n",
    "次のように定義した基底 $\\left\\{\\boldsymbol{e}_{k l}\\right\\}, k=0,1, \\ldots, m-1 ; l=0,1, \\ldots, m-1$ ，は正規直交基底である。\n",
    "\n",
    "$$\n",
    "\\boldsymbol{e}_{k l}=\\left(\\frac{2 \\alpha_k \\alpha_l}{m} \\cos \\frac{\\pi k(2 p+1)}{2 N} \\cos \\frac{\\pi l(2 q+1)}{2 N}\\right)\n",
    "$$\n",
    "\n",
    "右辺のカッコの中は画像 $\\boldsymbol{e}_{k l}$ の $(p, q)$ 画素の値を表す．ただし，次のように置 いた。\n",
    "\n",
    "$$\n",
    "\\alpha_k=\\left\\{\\begin{array}{cc}\n",
    "\\frac{1}{\\sqrt{2}} & k=0 \\\\\n",
    "1 & k \\neq 0\n",
    "\\end{array}\\right.\n",
    "$$\n",
    "\n",
    "\n",
    "この基底による展開を，画像の離散コサイン変換と呼ぶ．これは，式（4．79） の離散コサイン変換を $x, y$ の 2 方向に適用したものである。図 6.8 に $8 \\times 8$画像の場合の基底を示す．"
   ]
  },
  {
   "cell_type": "markdown",
   "id": "636370a7-c500-47a8-9082-307e85628619",
   "metadata": {},
   "source": [
    "### 画像の固有空間\n",
    "\n",
    "アダマール変換や離散コサイン変換の基底画像は規則的な模様であり、画像としての意味はない\n",
    "\n",
    "意味のある画像からの正規直交基底を作ることを考える"
   ]
  },
  {
   "cell_type": "markdown",
   "id": "28035465-5bf4-4ae1-96bd-bdf9b4a7585f",
   "metadata": {},
   "source": [
    "多数の顔写真 $\\left\\{\\boldsymbol{f}_\\alpha\\right\\}, \\alpha=1, \\ldots, N$ があるとする。これらの平均をとれば、平均的な顔の画像\n",
    "\n",
    "\n",
    "$$\n",
    "g_0=\\frac{1}{N} \\sum_{\\alpha=1}^N f_\\alpha\n",
    "$$\n",
    "\n",
    "が得られる。\n",
    "\n",
    "また個々の画像と平均顔との差分\n",
    "\n",
    "$$\n",
    "f_\\alpha^{\\prime}=f_\\alpha-g_0\n",
    "$$\n",
    "\n",
    "をとれば、個々の画像の平均からの差異を意味する"
   ]
  },
  {
   "cell_type": "markdown",
   "id": "ebd380df-9a5b-4a09-960c-a2ffbdb81963",
   "metadata": {},
   "source": [
    "もし個々の顔の差の代表的な特徴が見つかれば、$f_\\alpha^{\\prime}$はその画像の定数倍で近似できる。\n",
    "\n",
    "例えば顔の縦横比が違いなら、額と顎の部分がプラスで、頬の両側がマイナスの画像を代表的な差画像$g_1$を作ることができる\n",
    "\n",
    "そして$f_\\alpha^{\\prime}$と$g_1$の定数倍で最良に近似した画像との差画像をさらにべつの代表的な特徴$g_2$の定数倍で近似して・・・を繰り返していく。このとき$g_1,g_2,g_3,\\dots$が正規直交系であるなら、画像$f_\\alpha^{\\prime}$を$\\boldsymbol{g}_1, \\boldsymbol{g}_2, \\boldsymbol{g}_3, \\ldots$に関して展開して次の表現が得られる\n",
    "\n",
    "$$\n",
    "\\boldsymbol{f}_\\alpha=\\boldsymbol{g}_0+c_{\\alpha 1} \\boldsymbol{g}_1+c_{\\alpha 2} \\boldsymbol{g}_2+c_{\\alpha 3} \\boldsymbol{g}_3+\\cdots\n",
    "$$"
   ]
  },
  {
   "cell_type": "markdown",
   "id": "0c9676ee-c564-4f56-ab3c-c7e9a55fafed",
   "metadata": {},
   "source": [
    "各画像 $f_\\alpha$ の平均画像からの差 $f_\\alpha^{\\prime}$ をよく表す画像が $g$ であるとすると， これは $f_\\alpha^{\\prime}$ が\n",
    "\n",
    "$$\n",
    "\\boldsymbol{f}_\\alpha^{\\prime} \\approx C_\\alpha \\boldsymbol{g}\n",
    "$$\n",
    "\n",
    "の形で近似できるという意味である。\n",
    "\n",
    "1. 近似誤差を二乗誤差 $\\| \\boldsymbol{f}_\\alpha^{\\prime} - C_\\alpha \\boldsymbol{g}\\|^2$ で表すとすると、この解は解析的に $C_\\alpha=\\left(\\boldsymbol{f}_\\alpha^{\\prime}, \\boldsymbol{g}\\right)$ となる（しかし$g$が未知なのでこれを求める必要がある）。\n",
    "2. また、$\\boldsymbol{g}$ に適当な定数を掛けて $\\|\\boldsymbol{g}\\|=1$ であるように定めてあると仮定する。\n",
    "\n",
    "この2点を使うと二乗誤差は\n",
    "\n",
    "$$\n",
    "\\begin{aligned}\n",
    "J & =\\sum_{\\alpha=1}^N\\left\\|\\boldsymbol{f}_\\alpha^{\\prime}-C_\\alpha \\boldsymbol{g}\\right\\|^2\n",
    "=\\sum_{\\alpha=1}^N\\left(\\boldsymbol{f}_\\alpha^{\\prime}-C_\\alpha \\boldsymbol{g}, \\boldsymbol{f}_\\alpha^{\\prime}-C_\\alpha \\boldsymbol{g}\\right) \\\\\n",
    "& =\\sum_{\\alpha=1}^N\\left(\\left(\\boldsymbol{f}_\\alpha^{\\prime}, \\boldsymbol{f}_\\alpha^{\\prime}\\right)-2 C_\\alpha\\left(\\boldsymbol{f}_\\alpha^{\\prime}, \\boldsymbol{g}\\right)+C_\\alpha^2(\\boldsymbol{g}, \\boldsymbol{g})\\right) \\\\\n",
    "& =\\sum_{\\alpha=1}^N\\left(\\left(\\boldsymbol{f}_\\alpha^{\\prime}, \\boldsymbol{f}_\\alpha^{\\prime}\\right)-2\\left(\\boldsymbol{f}_\\alpha^{\\prime}, \\boldsymbol{g}\\right)^2+\\left(\\boldsymbol{f}_\\alpha^{\\prime}, \\boldsymbol{g}\\right)^2(\\boldsymbol{g}, \\boldsymbol{g})\\right) \\\\\n",
    "& =\\sum_{\\alpha=1}^N\\left(\\left\\|\\boldsymbol{f}_\\alpha^{\\prime}\\right\\|^2-\\left(\\boldsymbol{f}_\\alpha^{\\prime}, \\boldsymbol{g}\\right)^2\\right)\n",
    "\\end{aligned}\n",
    "$$\n",
    "\n",
    "と整理できる。\n",
    "\n",
    "$J$を最小にするには、$\\sum_{\\alpha=1}^N\\left(f_\\alpha^{\\prime}, g\\right)^2$を最大化すればいい。"
   ]
  },
  {
   "cell_type": "markdown",
   "id": "b5da0860-1557-45cf-95e7-13862ee68660",
   "metadata": {},
   "source": [
    "$m \\times m$ 画像 $\\boldsymbol{f}_\\alpha^{\\prime}, \\boldsymbol{g}$ を $m^2$ 次元列べクトル に並べ換えたものをそれぞれ $\\tilde{\\boldsymbol{f}}_\\alpha^{\\prime}, \\tilde{\\boldsymbol{g}}$ とすると次のようになる。\n",
    "\n",
    "$$\n",
    "\\begin{aligned}\n",
    "\\sum_{\\alpha=1}^N\\left(\\boldsymbol{f}_\\alpha^{\\prime}, \\boldsymbol{g}\\right)^2\n",
    "& =\\sum_{\\alpha=1}^N\\left(\\tilde{\\boldsymbol{f}}_\\alpha^{\\prime}, \\tilde{\\boldsymbol{g}}\\right)^2=\\sum_{\\alpha=1}^N \\tilde{\\boldsymbol{g}}^{\\top} \\tilde{\\boldsymbol{f}}_\\alpha^{\\prime} \\tilde{\\boldsymbol{f}}_\\alpha^{\\prime \\top} \\tilde{\\boldsymbol{g}} \\\\\n",
    "& =\\left(\\tilde{\\boldsymbol{g}},\\left(\\sum_{\\alpha=1}^N \\tilde{\\boldsymbol{f}}_\\alpha^{\\prime} \\tilde{\\boldsymbol{f}}_\\alpha^{\\prime\\top}\\right) \\tilde{\\boldsymbol{g}}\\right)\n",
    "=(\\tilde{\\boldsymbol{g}}, \\tilde{\\boldsymbol{M}} \\tilde{\\boldsymbol{g}})\n",
    "\\end{aligned}\n",
    "$$\n",
    "\n",
    "ここで\n",
    "\n",
    "$$\n",
    "\\tilde{\\boldsymbol{M}}:=\\sum_{\\alpha=1}^N \\tilde{\\boldsymbol{f}}_\\alpha^{\\prime} \\tilde{\\boldsymbol{f}}_\\alpha^{\\prime \\top}\n",
    "$$\n",
    "\n",
    "である。行列 $\\tilde{\\boldsymbol{M}}$ の固有値を $\\lambda_1, \\ldots, \\lambda_{m^2}$ ，対応する単位固有ベクトルを $\\tilde{\\boldsymbol{g}}_1, \\ldots, \\tilde{\\boldsymbol{g}}_{m^2}$ と する．各ベクトル $\\tilde{\\boldsymbol{g}}_\\kappa$ の $m^2$ 個の成分を $m \\times m$ 画素に配置し直したものを $\\boldsymbol{g}_\\kappa$ とし， $\\boldsymbol{g}_1, \\boldsymbol{g}_2, \\ldots, \\boldsymbol{g}_{m^2}$ を **固有画像** と呼ぶ。これらは対称行列の固有ベクトル から作られているので，正規直交基底となる．\n",
    "\n",
    "$\\sum_{\\alpha=1}^N\\left(\\boldsymbol{f}_\\alpha^{\\prime}, \\boldsymbol{g}\\right)^2$を最大化する単位ベクトル$\\tilde{\\boldsymbol{g}}$は$\\tilde{\\boldsymbol{M}}$の最大固有値に対する固有ベクトルである。したがって，$\\tilde{\\boldsymbol{g}}$ は符号を除いて $\\tilde{\\boldsymbol{g}}_1$ に一致する。"
   ]
  },
  {
   "cell_type": "markdown",
   "id": "875b4eb2-0755-49a0-97dd-6a89e0320e4f",
   "metadata": {},
   "source": [
    "このような、画像における主成分分析は画像処理の領域では **固有空間法** と呼ばれる。"
   ]
  },
  {
   "cell_type": "markdown",
   "id": "6b19fbbb-3072-43b4-915a-6d5cb4c26f97",
   "metadata": {},
   "source": [
    "## 6.3 特異値分解\n",
    "\n",
    "固有画像を作るには$\\tilde{\\boldsymbol{M}}$の固有値と固有ベクトルを計算する必要があるが、$m^2\\times m^2$と巨大な行列であるため計算量が非常に多くなる。\n",
    "\n",
    "固有値が0の固有ベクトルは応用上必要ないため、$0$でない固有値と固有ベクトルのみ計算できれば良い。そこで効率よく計算する方法が特異値分解。\n"
   ]
  },
  {
   "cell_type": "markdown",
   "id": "de9c04de-a13e-43b4-afd8-6cd4a94d4e03",
   "metadata": {},
   "source": [
    "問題は，$N$ 個の $n\\left(=m^2\\right)$ 次元ベクトル $\\boldsymbol{p}_1, \\ldots, \\boldsymbol{p}_N$ があるとき，$n \\times n$ 行列\n",
    "\n",
    "$$\n",
    "\\boldsymbol{M}=\\sum_{\\alpha=1}^N \\boldsymbol{p}_\\alpha \\boldsymbol{p}_\\alpha^{\\top}\n",
    "$$\n",
    "\n",
    "の固有値，固有ベクトルを計算することである．"
   ]
  },
  {
   "cell_type": "markdown",
   "id": "9977883c-8499-45ce-a76f-6869b4c57f58",
   "metadata": {},
   "source": [
    "ベクトル $\\boldsymbol{p}_1, \\ldots, \\boldsymbol{p}_N$ を列とする $n \\times N$ 行列を\n",
    "\n",
    "$$\n",
    "\\boldsymbol{P}=\\left(\\boldsymbol{p}_1 \\quad \\boldsymbol{p}_2\\quad  \\cdots \\quad \\boldsymbol{p}_N\\right)\n",
    "$$\n",
    "\n",
    "とすると、$\\boldsymbol{M}=\\boldsymbol{P} \\boldsymbol{P}^{\\top}$となる（ベクトルの直積）\n"
   ]
  },
  {
   "cell_type": "markdown",
   "id": "fa2a55c7-dcb4-4b2c-b90c-ee7b8d9adf3a",
   "metadata": {},
   "source": [
    "**行列$M$の固有値・固有ベクトルは、**\n",
    "\n",
    "$$\n",
    "\\boldsymbol{N}=\\boldsymbol{P}^{\\top} \\boldsymbol{P}\n",
    "$$\n",
    "\n",
    "**で定義される行列$N$の行列の固有値・固有ベクトルを計算する方法でも求められる**\n",
    "\n",
    "$M$と$N$のゼロでない固有値は一致する"
   ]
  },
  {
   "cell_type": "markdown",
   "id": "1a81507d-dec8-4f6a-8be2-e98095958ae7",
   "metadata": {},
   "source": [
    "$M$の固有値と固有ベクトルをそれぞれ$\\lambda, u$とすると\n",
    "\n",
    "$$\n",
    "\\underbrace{ PP^T }_{=M} u = \\lambda u\n",
    "$$\n",
    "\n",
    "左から$P^T$をかけると\n",
    "\n",
    "$$\n",
    "\\underbrace{ P^T P}_{=N} P^T u = \\lambda P^T u\\\\\n",
    "\\iff N (P^T u) = \\lambda (P^T u)\n",
    "$$"
   ]
  },
  {
   "cell_type": "markdown",
   "id": "d23e9f93-8821-4339-9037-6c0cf543eb85",
   "metadata": {},
   "source": [
    "$N$の固有値と固有ベクトルをそれぞれ$\\lambda, v$とすると\n",
    "\n",
    "$$\n",
    "\\underbrace{ P^T P }_{=N} v = \\lambda v\n",
    "$$\n",
    "\n",
    "左から$P$をかけると\n",
    "\n",
    "$$\n",
    "\\underbrace{ P P^T }_{=M} P v = \\lambda P v\\\\\n",
    "\\iff M (P v) = \\lambda (P v)\n",
    "$$"
   ]
  },
  {
   "cell_type": "markdown",
   "id": "c89bef2f-8283-4017-bc3f-fce85c5cbab5",
   "metadata": {},
   "source": [
    "$M$の固有値$\\lambda (> 0)$に対する単位ベクトルを$u$、$N$の固有値$\\lambda(> 0)$に対する単位ベクトルを$v$とすると\n",
    "\n",
    "$$\n",
    "\\boldsymbol{u}=\\frac{ \\pm \\boldsymbol{P} \\boldsymbol{v}}{\\sqrt{\\lambda}},\n",
    "\\quad \\boldsymbol{v}=\\frac{ \\pm \\boldsymbol{P}^{\\top} \\boldsymbol{u}}{\\sqrt{\\lambda}}\n",
    "$$\n",
    "\n",
    "となる。\n",
    "\n",
    "\n",
    "例えば$M$の固有値$\\lambda$に対する固有ベクトル$\\boldsymbol{P v}$のノルムの二乗は\n",
    "\n",
    "$$\n",
    "\\left\\|\\boldsymbol{P v}\\right\\|^2=(\\boldsymbol{P v}, \\boldsymbol{P v})=\\left(\\boldsymbol{v}, \\boldsymbol{P}^{\\top} \\boldsymbol{P v}\\right)=(\\boldsymbol{v}, \\boldsymbol{N v})=(\\boldsymbol{v}, \\lambda \\boldsymbol{v})=\\lambda\\|\\boldsymbol{v}\\|^2=\\lambda\n",
    "$$\n",
    "\n",
    "であるため、$\\sqrt{\\lambda}$で割って単位ベクトルにする"
   ]
  },
  {
   "cell_type": "markdown",
   "id": "67d3c8bc-bc12-4b77-b12f-cb8e11b830fb",
   "metadata": {},
   "source": [
    "#### 例"
   ]
  },
  {
   "cell_type": "code",
   "execution_count": 9,
   "id": "703216e3-5a0c-4603-8bc9-073e1bd1b1f5",
   "metadata": {
    "tags": []
   },
   "outputs": [
    {
     "name": "stdout",
     "output_type": "stream",
     "text": [
      "M:\n",
      " [[ 5 11 17]\n",
      " [11 25 39]\n",
      " [17 39 61]]\n",
      "固有値: [90.74  0.26  0.  ]\n",
      "固有ベクトル:\n",
      " [[-0.23 -0.88  0.41]\n",
      " [-0.52 -0.24 -0.82]\n",
      " [-0.82  0.4   0.41]]\n"
     ]
    }
   ],
   "source": [
    "import numpy as np\n",
    "P = np.array([\n",
    "    [1, 2],\n",
    "    [3, 4],\n",
    "    [5, 6],\n",
    "])\n",
    "\n",
    "M = P @ P.T\n",
    "print(\"M:\\n\", M)\n",
    "eigenvalues, eigenvectors = np.linalg.eig(M)\n",
    "print(\"固有値:\", eigenvalues.round(2))\n",
    "print(\"固有ベクトル:\\n\", eigenvectors.round(2))"
   ]
  },
  {
   "cell_type": "code",
   "execution_count": 10,
   "id": "966fe9b7-8962-43d7-a04f-512041c82d41",
   "metadata": {
    "tags": []
   },
   "outputs": [
    {
     "name": "stdout",
     "output_type": "stream",
     "text": [
      "N:\n",
      " [[35 44]\n",
      " [44 56]]\n",
      "固有値: [ 0.26 90.74]\n",
      "固有ベクトル:\n",
      " [[-0.78 -0.62]\n",
      " [ 0.62 -0.78]]\n"
     ]
    }
   ],
   "source": [
    "N = P.T @ P\n",
    "print(\"N:\\n\", N)\n",
    "eigenvalues, eigenvectors = np.linalg.eig(N)\n",
    "print(\"固有値:\", eigenvalues.round(2))\n",
    "print(\"固有ベクトル:\\n\", eigenvectors.round(2))"
   ]
  },
  {
   "cell_type": "code",
   "execution_count": null,
   "id": "8fb60d1a-dc50-4034-ad73-48a0b62c19a8",
   "metadata": {},
   "outputs": [],
   "source": []
  }
 ],
 "metadata": {
  "kernelspec": {
   "display_name": "Python 3 (ipykernel)",
   "language": "python",
   "name": "python3"
  },
  "language_info": {
   "codemirror_mode": {
    "name": "ipython",
    "version": 3
   },
   "file_extension": ".py",
   "mimetype": "text/x-python",
   "name": "python",
   "nbconvert_exporter": "python",
   "pygments_lexer": "ipython3",
   "version": "3.10.17"
  }
 },
 "nbformat": 4,
 "nbformat_minor": 5
}
