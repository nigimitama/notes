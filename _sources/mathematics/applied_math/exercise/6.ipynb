{
 "cells": [
  {
   "cell_type": "markdown",
   "id": "3e4d85fc-f80b-4e07-9fd6-73b3c396d1b0",
   "metadata": {},
   "source": [
    "# 応用数学 ch6メモ（主軸変換とその応用：主成分分析、）\n"
   ]
  },
  {
   "cell_type": "markdown",
   "id": "464dec2f-79b8-46fd-9379-fa44cf9954d6",
   "metadata": {},
   "source": [
    "## 6.1 主成分分析\n",
    "\n",
    "### 主軸変換\n",
    "\n",
    "\n",
    ":::{card}\n",
    "\n",
    "ベクトル$x$を単位ベクトル$u$の延長上の線$l$に射影した長さは、それらの内積\n",
    "\n",
    "$$\n",
    "\\left(\\boldsymbol{u}_1, \\boldsymbol{x}_\\alpha\\right)=\\left\\|\\boldsymbol{u}_1\\right\\| \\cdot\\left\\|\\boldsymbol{x}_\\alpha\\right\\| \\cos \\theta_\\alpha=\\left\\|\\boldsymbol{x}_\\alpha\\right\\| \\cos \\theta_\\alpha\n",
    "$$\n",
    "\n",
    "に等しい\n",
    ":::"
   ]
  },
  {
   "cell_type": "markdown",
   "id": "c9390a8f-d986-4eba-89ce-87acecdeacca",
   "metadata": {},
   "source": [
    ":::{card}\n",
    "\n",
    "原点$O$を平均とする$N$点$\\{x_{\\alpha} \\}$を$l$上に射影した長さの平均は常に零である\n",
    "\n",
    "$$\n",
    "\\frac{1}{N} \\sum_{\\alpha=1}^N\\left(u_1, x_\\alpha\\right)\n",
    "=\\left(u_1, \\frac{1}{N} \\sum_{\\alpha=1}^N x_\\alpha\\right)\n",
    "=\\left(u_1, 0 \\right)\n",
    "= 0\n",
    "$$\n",
    "\n",
    ":::"
   ]
  },
  {
   "cell_type": "markdown",
   "id": "1d42849b-f5ae-4e46-a918-533e9dd93f8d",
   "metadata": {},
   "source": [
    ":::{card}\n",
    "\n",
    "原点$O$を平均とする$N$点$\\{x_{\\alpha} \\}$を$l$上に射影した長さの **二乗の平均** は\n",
    "\n",
    "$$\n",
    "\\begin{aligned}\n",
    "S &= \\frac{1}{N} \\sum_{\\alpha=1}^N\\left(\\boldsymbol{u}_1, \\boldsymbol{x}_\\alpha\\right)^2\\\\\n",
    "&= \\frac{1}{N} \\sum_{\\alpha=1}^N \\boldsymbol{u}_1^{\\top} \\boldsymbol{x}_\\alpha \\boldsymbol{x}_\\alpha^{\\top} \\boldsymbol{u}_1\\\\\n",
    "&= \\boldsymbol{u}_1^{\\top}\\left(\\frac{1}{N} \\sum_{\\alpha=1}^N \\boldsymbol{x}_\\alpha \\boldsymbol{x}_\\alpha^{\\top}\\right) \\boldsymbol{u}_1\\\\\n",
    "\\end{aligned}\n",
    "$$\n",
    "\n",
    "となる。このとき、\n",
    "\n",
    "$$\n",
    "V:= \\frac{1}{N} \\sum_{\\alpha=1}^N \\boldsymbol{x}_\\alpha \\boldsymbol{x}_\\alpha^{\\top}\n",
    "$$\n",
    "\n",
    "を分散共分散行列とよぶ。\n",
    "\n",
    "分散$S$を最大化する方向$u_1$を **主方向** と呼ぶ。\n",
    "\n",
    ":::"
   ]
  },
  {
   "cell_type": "markdown",
   "id": "18d12310-8d69-4ed5-ba62-f807b2ed0aa3",
   "metadata": {},
   "source": [
    "共分散行列Vは半正値対称行列\n",
    "\n",
    "$$\n",
    "\\begin{aligned}\n",
    "(\\boldsymbol{x}, \\boldsymbol{V} \\boldsymbol{x}) & =\\left(\\boldsymbol{x},\\left(\\frac{1}{N} \\sum_{\\alpha=1}^N \\boldsymbol{x}_\\alpha \\boldsymbol{x}_\\alpha^{\\top}\\right) \\boldsymbol{x}\\right)=\\frac{1}{N} \\sum_{\\alpha=1}^N\\left(\\boldsymbol{x}, \\boldsymbol{x}_\\alpha \\boldsymbol{x}_\\alpha^{\\top} \\boldsymbol{x}\\right) \\\\\n",
    "& =\\frac{1}{N} \\sum_{\\alpha=1}^N\\left(\\boldsymbol{x}, \\boldsymbol{x}_\\alpha\\right)\\left(\\boldsymbol{x}_\\alpha, \\boldsymbol{x}\\right)=\\frac{1}{N} \\sum_{\\alpha=1}^N\\left(\\boldsymbol{x}, \\boldsymbol{x}_\\alpha\\right)^2 \\geq 0\n",
    "\\end{aligned}\n",
    "$$"
   ]
  },
  {
   "cell_type": "markdown",
   "id": "3893abd0-91fa-4c9a-8ba0-b388c0b1e740",
   "metadata": {},
   "source": [
    "$N$点$\\{x_{\\alpha} \\}$の主方向はVの最大固有値$\\lambda_1$に対する固有ベクトル$u_1$の方向であり、その方向の分散は$\\lambda_1$である"
   ]
  },
  {
   "cell_type": "markdown",
   "id": "dcca96a1-b5ae-429e-b62a-3879c727512e",
   "metadata": {},
   "source": [
    "### 主軸を座標系にとるとその座標系では共分散行列はどうなるか\n",
    "\n",
    "元の座標系の点 $\\boldsymbol{x}_\\alpha$ は，新しい座標系では $\\boldsymbol{x}_\\alpha^{\\prime}=\\boldsymbol{U}^{\\top} \\boldsymbol{x}_\\alpha$ と書ける．その共分散行列は次のようになる。\n",
    "\n",
    "$$\n",
    "\\begin{aligned}\n",
    "\\boldsymbol{V}^{\\prime}\n",
    "&=\\frac{1}{N} \\sum_{\\alpha=1}^N \\boldsymbol{x}_\\alpha^{\\prime} \\boldsymbol{x}_\\alpha^{\\prime \\top}\\\\\n",
    "&=\\frac{1}{N} \\sum_{\\alpha=1}^N\\left(\\boldsymbol{U}^{\\top} \\boldsymbol{x}_\\alpha\\right)\\left(\\boldsymbol{U}^{\\top} \\boldsymbol{x}_\\alpha\\right)^{\\top}\\\\\n",
    "&=\\frac{1}{N} \\sum_{\\alpha=1}^N \\boldsymbol{U}^{\\top} \\boldsymbol{x}_\\alpha \\boldsymbol{x}_\\alpha^{\\top} \\boldsymbol{U}\\\\\n",
    "&=\\boldsymbol{U}^{\\top}\\left(\\frac{1}{N} \\sum_{\\alpha=1}^N \\boldsymbol{x}_\\alpha \\boldsymbol{x}_\\alpha^{\\top}\\right) \\boldsymbol{U}\\\\\n",
    "&=\\boldsymbol{U}^{\\top} \\boldsymbol{V} \\boldsymbol{U}\\\\\n",
    "&=\\left(\\begin{array}{cccc}\n",
    "\\lambda_1 & & & \\\\\n",
    "& \\lambda_2 & & \\\\\n",
    "& & & \\\\\n",
    "& & \\ddots & \\\\\n",
    "& & & \\lambda_n\n",
    "\\end{array}\\right)\n",
    "\\end{aligned}\n",
    "$$\n",
    "\n",
    "すなわち、共分散行列$V$の固有値を対角要素とする対角行列になる。\n",
    "\n",
    "このように主軸方向に新しい座標系をとることを **主軸変換** という。"
   ]
  },
  {
   "cell_type": "code",
   "execution_count": null,
   "id": "b97371ec-d5ef-41a1-aea2-b3a210f43243",
   "metadata": {},
   "outputs": [],
   "source": []
  }
 ],
 "metadata": {
  "kernelspec": {
   "display_name": "Python 3 (ipykernel)",
   "language": "python",
   "name": "python3"
  },
  "language_info": {
   "codemirror_mode": {
    "name": "ipython",
    "version": 3
   },
   "file_extension": ".py",
   "mimetype": "text/x-python",
   "name": "python",
   "nbconvert_exporter": "python",
   "pygments_lexer": "ipython3",
   "version": "3.10.15"
  }
 },
 "nbformat": 4,
 "nbformat_minor": 5
}
