{
 "cells": [
  {
   "cell_type": "markdown",
   "id": "3e4d85fc-f80b-4e07-9fd6-73b3c396d1b0",
   "metadata": {},
   "source": [
    "# 応用数学 ch6メモ（主成分分析、）\n"
   ]
  },
  {
   "cell_type": "markdown",
   "id": "464dec2f-79b8-46fd-9379-fa44cf9954d6",
   "metadata": {},
   "source": [
    "## 6.1 主成分分析"
   ]
  }
 ],
 "metadata": {
  "kernelspec": {
   "display_name": "Python 3 (ipykernel)",
   "language": "python",
   "name": "python3"
  },
  "language_info": {
   "codemirror_mode": {
    "name": "ipython",
    "version": 3
   },
   "file_extension": ".py",
   "mimetype": "text/x-python",
   "name": "python",
   "nbconvert_exporter": "python",
   "pygments_lexer": "ipython3",
   "version": "3.10.15"
  }
 },
 "nbformat": 4,
 "nbformat_minor": 5
}
