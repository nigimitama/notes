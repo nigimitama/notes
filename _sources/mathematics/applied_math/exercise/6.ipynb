{
 "cells": [
  {
   "cell_type": "markdown",
   "id": "3e4d85fc-f80b-4e07-9fd6-73b3c396d1b0",
   "metadata": {},
   "source": [
    "# 応用数学 ch6メモ（主軸変換とその応用：主成分分析、）\n"
   ]
  },
  {
   "cell_type": "markdown",
   "id": "464dec2f-79b8-46fd-9379-fa44cf9954d6",
   "metadata": {},
   "source": [
    "## 6.1 主成分分析\n",
    "\n",
    "### 主軸変換\n",
    "\n",
    "\n",
    ":::{card}\n",
    "\n",
    "ベクトル$x$を単位ベクトル$u$の延長上の線$l$に射影した長さは、それらの内積\n",
    "\n",
    "$$\n",
    "\\left(\\boldsymbol{u}_1, \\boldsymbol{x}_\\alpha\\right)=\\left\\|\\boldsymbol{u}_1\\right\\| \\cdot\\left\\|\\boldsymbol{x}_\\alpha\\right\\| \\cos \\theta_\\alpha=\\left\\|\\boldsymbol{x}_\\alpha\\right\\| \\cos \\theta_\\alpha\n",
    "$$\n",
    "\n",
    "に等しい\n",
    ":::"
   ]
  },
  {
   "cell_type": "markdown",
   "id": "c9390a8f-d986-4eba-89ce-87acecdeacca",
   "metadata": {},
   "source": [
    ":::{card}\n",
    "\n",
    "原点$O$を平均とする$N$点$\\{x_{\\alpha} \\}$を$l$上に射影した長さの平均は常に零である\n",
    "\n",
    "$$\n",
    "\\frac{1}{N} \\sum_{\\alpha=1}^N\\left(u_1, x_\\alpha\\right)\n",
    "=\\left(u_1, \\frac{1}{N} \\sum_{\\alpha=1}^N x_\\alpha\\right)\n",
    "=\\left(u_1, 0 \\right)\n",
    "= 0\n",
    "$$\n",
    "\n",
    ":::"
   ]
  },
  {
   "cell_type": "markdown",
   "id": "1d42849b-f5ae-4e46-a918-533e9dd93f8d",
   "metadata": {},
   "source": [
    ":::{card}\n",
    "\n",
    "原点$O$を平均とする$N$点$\\{x_{\\alpha} \\}$を$l$上に射影した長さの **二乗の平均** は\n",
    "\n",
    "$$\n",
    "\\begin{aligned}\n",
    "S &= \\frac{1}{N} \\sum_{\\alpha=1}^N\\left(\\boldsymbol{u}_1, \\boldsymbol{x}_\\alpha\\right)^2\\\\\n",
    "&= \\frac{1}{N} \\sum_{\\alpha=1}^N \\boldsymbol{u}_1^{\\top} \\boldsymbol{x}_\\alpha \\boldsymbol{x}_\\alpha^{\\top} \\boldsymbol{u}_1\\\\\n",
    "&= \\boldsymbol{u}_1^{\\top}\\left(\\frac{1}{N} \\sum_{\\alpha=1}^N \\boldsymbol{x}_\\alpha \\boldsymbol{x}_\\alpha^{\\top}\\right) \\boldsymbol{u}_1\\\\\n",
    "\\end{aligned}\n",
    "$$\n",
    "\n",
    "となる。このとき、\n",
    "\n",
    "$$\n",
    "V:= \\frac{1}{N} \\sum_{\\alpha=1}^N \\boldsymbol{x}_\\alpha \\boldsymbol{x}_\\alpha^{\\top}\n",
    "$$\n",
    "\n",
    "を分散共分散行列とよぶ。\n",
    "\n",
    "分散$S$を最大化する方向$u_1$を **主方向** と呼ぶ。\n",
    "\n",
    ":::"
   ]
  },
  {
   "cell_type": "code",
   "execution_count": null,
   "id": "b6f114d5-c7b3-4bea-afa9-b4502215bf1b",
   "metadata": {},
   "outputs": [],
   "source": []
  }
 ],
 "metadata": {
  "kernelspec": {
   "display_name": "Python 3 (ipykernel)",
   "language": "python",
   "name": "python3"
  },
  "language_info": {
   "codemirror_mode": {
    "name": "ipython",
    "version": 3
   },
   "file_extension": ".py",
   "mimetype": "text/x-python",
   "name": "python",
   "nbconvert_exporter": "python",
   "pygments_lexer": "ipython3",
   "version": "3.10.15"
  }
 },
 "nbformat": 4,
 "nbformat_minor": 5
}
