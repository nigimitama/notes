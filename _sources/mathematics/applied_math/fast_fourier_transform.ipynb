{
 "cells": [
  {
   "cell_type": "markdown",
   "id": "2b832720-ef68-4368-aaa3-0a7ba76e6640",
   "metadata": {},
   "source": [
    "# 高速フーリエ変換"
   ]
  },
  {
   "cell_type": "markdown",
   "id": "eba235c1-8f5b-4b07-ab0d-a577fe816212",
   "metadata": {},
   "source": [
    "高速フーリエ変換は離散フーリエ変換の高速なアルゴリズム"
   ]
  },
  {
   "cell_type": "markdown",
   "id": "7f4e5c90-a94f-48c9-9369-61ceaab946e0",
   "metadata": {},
   "source": [
    "## 1の原始$N$乗根による表現\n",
    "\n",
    "\n",
    ":::{admonition} 1の原始$N$乗根\n",
    "\n",
    "$\\omega_N$を次のように定義する。\n",
    "\n",
    "$$\n",
    "\\omega_N := e^{i 2 \\pi / N}\n",
    "$$\n",
    "\n",
    "これは$N$次方程式$z^N-1=0$の解であり、次の関係を満たす。\n",
    "\n",
    "$$\n",
    "\\omega_N^N=1, \\quad \\omega_N^k \\neq 1, \\quad k=1,2, \\ldots, N-1\n",
    "$$\n",
    "\n",
    "上の式を満たす$\\omega_N$を **1の原始$N$乗根** と呼ぶ。\n",
    "\n",
    ":::"
   ]
  },
  {
   "cell_type": "markdown",
   "id": "fb26f636-3016-4590-8e67-7518f2eb4e67",
   "metadata": {},
   "source": [
    "$\\omega_N$を用いると、離散フーリエ変換の式\n",
    "\n",
    "$$\n",
    "f_l=\\sum_{k=0}^{N-1} F_k e^{i 2 \\pi k l / N}, \\quad F_k=\\frac{1}{N} \\sum_{l=0}^{N-1} f_l e^{-i 2 \\pi k l / N}\n",
    "$$\n",
    "\n",
    "は次のように書くことができる\n",
    "\n",
    "$$\n",
    "f_l=\\sum_{k=0}^{N-1} F_k \\omega_N^{k l}, \\quad F_k=\\frac{1}{N} \\sum_{l=0}^{N-1} f_l \\omega_N^{-k l}\n",
    "$$"
   ]
  },
  {
   "cell_type": "markdown",
   "id": "90551bc5-7615-458a-9e06-ba50fafb137d",
   "metadata": {},
   "source": [
    ":::{tip} フーリエ変換は線形変換\n",
    "\n",
    "上記だけだと「$e^{i 2 \\pi / N}$を$\\omega_N$に置き換えただけじゃないの？」と思ってしまいがちだが、\n",
    "1つの係数$f_l$の$F_k$との間の変換ではなく、$f_0,\\dots,f_{N-1}$と$F_0,\\dots,F_{N-1}$の間の **線形変換** になっていることが大切。（離散フーリエではなく連続のフーリエ変換も数学的には線形変換）\n",
    "\n",
    ":::"
   ]
  },
  {
   "cell_type": "markdown",
   "id": "654402bc-8aab-411d-a259-a020cae70733",
   "metadata": {},
   "source": [
    "ベクトルと行列の形で書くと以下になる。\n",
    "\n",
    "$$\n",
    "\\left(\\begin{array}{c}\n",
    "f_0 \\\\\n",
    "f_1 \\\\\n",
    "f_2 \\\\\n",
    "\\vdots \\\\\n",
    "f_{N-1}\n",
    "\\end{array}\\right)=\\left(\\begin{array}{ccccc}\n",
    "1 & 1 & 1 & \\cdots & 1 \\\\\n",
    "1 & \\omega_N & \\omega_N^2 & \\cdots & \\omega_N^{N-1} \\\\\n",
    "1 & \\omega_N^2 & \\omega_N^4 & \\cdots & \\omega_N^{2(N-1)} \\\\\n",
    "\\vdots & \\vdots & \\vdots & & \\vdots \\\\\n",
    "1 & \\omega_N^{N-1} & \\omega_N^{2(N-1)} & \\cdots & \\omega_N^{(N-1)(N-1)}\n",
    "\\end{array}\\right)\\left(\\begin{array}{c}\n",
    "F_0 \\\\\n",
    "F_1 \\\\\n",
    "F_2 \\\\\n",
    "\\vdots \\\\\n",
    "F_{N-1}\n",
    "\\end{array}\\right)\n",
    "$$\n",
    "\n",
    "$$\n",
    "\\left(\\begin{array}{c}\n",
    "F_0 \\\\\n",
    "F_1 \\\\\n",
    "F_2 \\\\\n",
    "\\vdots \\\\\n",
    "F_{N-1}\n",
    "\\end{array}\\right)=\\frac{1}{N}\\left(\\begin{array}{ccccc}\n",
    "1 & 1 & 1 & \\cdots & 1 \\\\\n",
    "1 & \\omega_N^{-1} & \\omega_N^{-2} & \\cdots & \\omega_N^{-(N-1)} \\\\\n",
    "1 & \\omega_N^{-2} & \\omega_N^{-4} & \\cdots & \\omega_N^{-2(N-1)} \\\\\n",
    "\\vdots & \\vdots & \\vdots & & \\vdots \\\\\n",
    "1 & \\omega_N^{-(N-1)} & \\omega_N^{-2(N-1)} & \\cdots & \\omega_N^{-(N-1)(N-1)}\n",
    "\\end{array}\\right)\\left(\\begin{array}{c}\n",
    "f_0 \\\\\n",
    "f_1 \\\\\n",
    "f_2 \\\\\n",
    "\\vdots \\\\\n",
    "f_{N-1}\n",
    "\\end{array}\\right)\n",
    "$$"
   ]
  },
  {
   "cell_type": "markdown",
   "id": "5b68d6ff-3699-4ff6-a8e3-a66b78f05688",
   "metadata": {},
   "source": [
    "\n",
    "離散フーリエ変換を計算するには、長さ$N$の任意の数列$a_0, a_1, a_2, \\ldots, a_{N-1}$に対して\n",
    "\n",
    "$$\n",
    "b_k=\\sum_{l=0}^{N-1} a_l \\omega_N^{k l}, \\quad k=0,1,2, \\ldots, N-1\n",
    "$$\n",
    "\n",
    "となる数列$b_0, b_1, b_2, \\ldots, b_{N-1}$が計算できればよい"
   ]
  },
  {
   "cell_type": "markdown",
   "id": "31e57c22-ea55-44b4-babe-c66d507cf05c",
   "metadata": {},
   "source": [
    ":::{dropdown}\n",
    "\n",
    "$\\{ F_k \\}$ から $\\{f_l\\}$を計算するには、$b_k = f_l$, $a_k = F_k$とおけば\n",
    "\n",
    "$$\n",
    "f_l =\\sum_{k=0}^{N-1} F_k \\omega_N^{k l}\n",
    "$$\n",
    "\n",
    "が成り立つ。\n",
    "\n",
    "$\\{f_l\\}$ から $\\{ F_k \\}$ を計算するには、$\\overline{\\omega_N}=\\omega_N^{-1}$ であるから \n",
    "\n",
    "$$\n",
    "F_k=\\frac{1}{N} \\overline{\\sum_{l=0}^{N-1} \\overline{f_l} \\omega_N^{k l}}\n",
    "$$\n",
    "\n",
    ":::"
   ]
  },
  {
   "cell_type": "markdown",
   "id": "e3bc90ff-15bd-4c93-8065-8e0d59e8333b",
   "metadata": {},
   "source": [
    "## 高速フーリエ変換\n",
    "\n",
    "$N$が2の冪乗であれば、離散フーリエ変換の計算が効率化される"
   ]
  },
  {
   "cell_type": "code",
   "execution_count": null,
   "id": "3cec5609-e825-4b8a-b591-336727804ce6",
   "metadata": {},
   "outputs": [],
   "source": []
  }
 ],
 "metadata": {
  "kernelspec": {
   "display_name": "Python 3 (ipykernel)",
   "language": "python",
   "name": "python3"
  },
  "language_info": {
   "codemirror_mode": {
    "name": "ipython",
    "version": 3
   },
   "file_extension": ".py",
   "mimetype": "text/x-python",
   "name": "python",
   "nbconvert_exporter": "python",
   "pygments_lexer": "ipython3",
   "version": "3.10.15"
  }
 },
 "nbformat": 4,
 "nbformat_minor": 5
}
