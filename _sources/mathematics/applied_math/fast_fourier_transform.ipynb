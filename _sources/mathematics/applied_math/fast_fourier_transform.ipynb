{
 "cells": [
  {
   "cell_type": "markdown",
   "id": "2b832720-ef68-4368-aaa3-0a7ba76e6640",
   "metadata": {},
   "source": [
    "# 高速フーリエ変換"
   ]
  },
  {
   "cell_type": "markdown",
   "id": "eba235c1-8f5b-4b07-ab0d-a577fe816212",
   "metadata": {},
   "source": [
    "高速フーリエ変換は離散フーリエ変換の高速なアルゴリズム"
   ]
  },
  {
   "cell_type": "markdown",
   "id": "7f4e5c90-a94f-48c9-9369-61ceaab946e0",
   "metadata": {},
   "source": [
    "## 1の原始$N$乗根による表現\n",
    "\n",
    "\n",
    ":::{admonition} 1の原始$N$乗根\n",
    "\n",
    "$\\omega_N$を次のように定義する。\n",
    "\n",
    "$$\n",
    "\\omega_N := e^{i 2 \\pi / N}\n",
    "$$\n",
    "\n",
    "これは$N$次方程式$z^N-1=0$の解であり、次の関係を満たす。\n",
    "\n",
    "$$\n",
    "\\omega_N^N=1, \\quad \\omega_N^k \\neq 1, \\quad k=1,2, \\ldots, N-1\n",
    "$$\n",
    "\n",
    "上の式を満たす$\\omega_N$を **1の原始$N$乗根** と呼ぶ。\n",
    "\n",
    ":::"
   ]
  },
  {
   "cell_type": "markdown",
   "id": "fb26f636-3016-4590-8e67-7518f2eb4e67",
   "metadata": {},
   "source": [
    "$\\omega_N$を用いると、離散フーリエ変換の式\n",
    "\n",
    "$$\n",
    "f_l=\\sum_{k=0}^{N-1} F_k e^{i 2 \\pi k l / N}, \\quad F_k=\\frac{1}{N} \\sum_{l=0}^{N-1} f_l e^{-i 2 \\pi k l / N}\n",
    "$$\n",
    "\n",
    "は次のように書くことができる\n",
    "\n",
    "$$\n",
    "f_l=\\sum_{k=0}^{N-1} F_k \\omega_N^{k l}, \\quad F_k=\\frac{1}{N} \\sum_{l=0}^{N-1} f_l \\omega_N^{-k l}\n",
    "$$"
   ]
  },
  {
   "cell_type": "code",
   "execution_count": null,
   "id": "48dd8091-da15-45e3-82f8-7b269cf86267",
   "metadata": {},
   "outputs": [],
   "source": []
  }
 ],
 "metadata": {
  "kernelspec": {
   "display_name": "Python 3 (ipykernel)",
   "language": "python",
   "name": "python3"
  },
  "language_info": {
   "codemirror_mode": {
    "name": "ipython",
    "version": 3
   },
   "file_extension": ".py",
   "mimetype": "text/x-python",
   "name": "python",
   "nbconvert_exporter": "python",
   "pygments_lexer": "ipython3",
   "version": "3.10.15"
  }
 },
 "nbformat": 4,
 "nbformat_minor": 5
}
