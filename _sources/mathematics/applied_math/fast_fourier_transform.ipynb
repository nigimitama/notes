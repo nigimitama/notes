{
 "cells": [
  {
   "cell_type": "markdown",
   "id": "2b832720-ef68-4368-aaa3-0a7ba76e6640",
   "metadata": {},
   "source": [
    "# 高速フーリエ変換"
   ]
  },
  {
   "cell_type": "markdown",
   "id": "eba235c1-8f5b-4b07-ab0d-a577fe816212",
   "metadata": {},
   "source": [
    "高速フーリエ変換は離散フーリエ変換の高速なアルゴリズム"
   ]
  },
  {
   "cell_type": "markdown",
   "id": "7f4e5c90-a94f-48c9-9369-61ceaab946e0",
   "metadata": {},
   "source": [
    "## 1の原始$N$乗根による表現\n",
    "\n",
    "\n",
    ":::{admonition} 1の原始$N$乗根\n",
    "\n",
    "$\\omega_N$を次のように定義する。\n",
    "\n",
    "$$\n",
    "\\omega_N := e^{i 2 \\pi / N}\n",
    "$$\n",
    "\n",
    "これは$N$次方程式$z^N-1=0$の解であり、次の関係を満たす。\n",
    "\n",
    "$$\n",
    "\\omega_N^N=1, \\quad \\omega_N^k \\neq 1, \\quad k=1,2, \\ldots, N-1\n",
    "$$\n",
    "\n",
    "上の式を満たす$\\omega_N$を **1の原始$N$乗根** と呼ぶ。\n",
    "\n",
    ":::"
   ]
  },
  {
   "cell_type": "markdown",
   "id": "fb26f636-3016-4590-8e67-7518f2eb4e67",
   "metadata": {},
   "source": [
    "$\\omega_N$を用いると、離散フーリエ変換の式\n",
    "\n",
    "$$\n",
    "f_l=\\sum_{k=0}^{N-1} F_k e^{i 2 \\pi k l / N}, \\quad F_k=\\frac{1}{N} \\sum_{l=0}^{N-1} f_l e^{-i 2 \\pi k l / N}\n",
    "$$\n",
    "\n",
    "は次のように書くことができる\n",
    "\n",
    "$$\n",
    "f_l=\\sum_{k=0}^{N-1} F_k \\omega_N^{k l}, \\quad F_k=\\frac{1}{N} \\sum_{l=0}^{N-1} f_l \\omega_N^{-k l}\n",
    "$$"
   ]
  },
  {
   "cell_type": "markdown",
   "id": "90551bc5-7615-458a-9e06-ba50fafb137d",
   "metadata": {},
   "source": [
    ":::{tip} フーリエ変換は線形変換\n",
    "\n",
    "上記だけだと「$e^{i 2 \\pi / N}$を$\\omega_N$に置き換えただけじゃないの？」と思ってしまいがちだが、\n",
    "1つの係数$f_l$の$F_k$との間の変換ではなく、$f_0,\\dots,f_{N-1}$と$F_0,\\dots,F_{N-1}$の間の **線形変換** になっていることが大切。（離散フーリエではなく連続のフーリエ変換も数学的には線形変換）\n",
    "\n",
    ":::"
   ]
  },
  {
   "cell_type": "markdown",
   "id": "654402bc-8aab-411d-a259-a020cae70733",
   "metadata": {},
   "source": [
    "ベクトルと行列の形で書くと以下になる。\n",
    "\n",
    "$$\n",
    "\\left(\\begin{array}{c}\n",
    "f_0 \\\\\n",
    "f_1 \\\\\n",
    "f_2 \\\\\n",
    "\\vdots \\\\\n",
    "f_{N-1}\n",
    "\\end{array}\\right)=\\left(\\begin{array}{ccccc}\n",
    "1 & 1 & 1 & \\cdots & 1 \\\\\n",
    "1 & \\omega_N & \\omega_N^2 & \\cdots & \\omega_N^{N-1} \\\\\n",
    "1 & \\omega_N^2 & \\omega_N^4 & \\cdots & \\omega_N^{2(N-1)} \\\\\n",
    "\\vdots & \\vdots & \\vdots & & \\vdots \\\\\n",
    "1 & \\omega_N^{N-1} & \\omega_N^{2(N-1)} & \\cdots & \\omega_N^{(N-1)(N-1)}\n",
    "\\end{array}\\right)\\left(\\begin{array}{c}\n",
    "F_0 \\\\\n",
    "F_1 \\\\\n",
    "F_2 \\\\\n",
    "\\vdots \\\\\n",
    "F_{N-1}\n",
    "\\end{array}\\right)\n",
    "$$\n",
    "\n",
    "$$\n",
    "\\left(\\begin{array}{c}\n",
    "F_0 \\\\\n",
    "F_1 \\\\\n",
    "F_2 \\\\\n",
    "\\vdots \\\\\n",
    "F_{N-1}\n",
    "\\end{array}\\right)=\\frac{1}{N}\\left(\\begin{array}{ccccc}\n",
    "1 & 1 & 1 & \\cdots & 1 \\\\\n",
    "1 & \\omega_N^{-1} & \\omega_N^{-2} & \\cdots & \\omega_N^{-(N-1)} \\\\\n",
    "1 & \\omega_N^{-2} & \\omega_N^{-4} & \\cdots & \\omega_N^{-2(N-1)} \\\\\n",
    "\\vdots & \\vdots & \\vdots & & \\vdots \\\\\n",
    "1 & \\omega_N^{-(N-1)} & \\omega_N^{-2(N-1)} & \\cdots & \\omega_N^{-(N-1)(N-1)}\n",
    "\\end{array}\\right)\\left(\\begin{array}{c}\n",
    "f_0 \\\\\n",
    "f_1 \\\\\n",
    "f_2 \\\\\n",
    "\\vdots \\\\\n",
    "f_{N-1}\n",
    "\\end{array}\\right)\n",
    "$$"
   ]
  },
  {
   "cell_type": "markdown",
   "id": "5b68d6ff-3699-4ff6-a8e3-a66b78f05688",
   "metadata": {},
   "source": [
    "\n",
    "離散フーリエ変換を計算するには、長さ$N$の任意の数列$a_0, a_1, a_2, \\ldots, a_{N-1}$に対して\n",
    "\n",
    "$$\n",
    "b_k=\\sum_{l=0}^{N-1} a_l \\omega_N^{k l}, \\quad k=0,1,2, \\ldots, N-1\n",
    "$$\n",
    "\n",
    "となる数列$b_0, b_1, b_2, \\ldots, b_{N-1}$が計算できればよい"
   ]
  },
  {
   "cell_type": "markdown",
   "id": "31e57c22-ea55-44b4-babe-c66d507cf05c",
   "metadata": {},
   "source": [
    ":::{dropdown}\n",
    "\n",
    "$\\{ F_k \\}$ から $\\{f_l\\}$を計算するには、$b_k = f_l$, $a_k = F_k$とおけば\n",
    "\n",
    "$$\n",
    "f_l =\\sum_{k=0}^{N-1} F_k \\omega_N^{k l}\n",
    "$$\n",
    "\n",
    "が成り立つ。\n",
    "\n",
    "$\\{f_l\\}$ から $\\{ F_k \\}$ を計算するには、$\\overline{\\omega_N}=\\omega_N^{-1}$ であるから \n",
    "\n",
    "$$\n",
    "F_k=\\frac{1}{N} \\overline{\\sum_{l=0}^{N-1} \\overline{f_l} \\omega_N^{k l}}\n",
    "$$\n",
    "\n",
    ":::"
   ]
  },
  {
   "cell_type": "markdown",
   "id": "e3bc90ff-15bd-4c93-8065-8e0d59e8333b",
   "metadata": {},
   "source": [
    "## 高速フーリエ変換\n",
    "\n",
    "$N$が2の冪乗であれば、離散フーリエ変換の計算が効率化される（具体的には$O(N)$ から $O(N\\log N)$になる）"
   ]
  },
  {
   "cell_type": "markdown",
   "id": "ff9b99dc-27aa-48e0-bbf4-33661b32f2fa",
   "metadata": {},
   "source": [
    ":::{card} 定理\n",
    "\n",
    "$N$が偶数のとき、次の関係が成り立つ\n",
    "\n",
    "$$\n",
    "\\omega_N^{N / 2}=-1, \\quad \\omega_N^{N / 2+1}=-\\omega_N, \\quad \\omega_N^{N / 2+2}=-\\omega_N^2, \\quad \\ldots, \\quad \\omega_N^{N-1}=-\\omega_N^{N / 2-1}\n",
    "$$\n",
    "\n",
    ":::\n",
    "\n",
    ":::{dropdown} 証明\n",
    "\n",
    "定義 $\\omega_N := e^{i 2 \\pi / N}$ より、\n",
    "\n",
    "$$\n",
    "\\omega_N^{N / 2} = \\left(e^{i 2 \\pi / N}\\right)^{N / 2}\n",
    " =e^{i \\pi}=-1\n",
    "$$\n",
    "\n",
    "である。ゆえに\n",
    "\n",
    "$$\n",
    "\\omega_N^{N / 2+k} = \\omega_N^{N / 2} \\omega_N^k=-\\omega_N^k\n",
    "$$\n",
    "\n",
    "\n",
    ":::"
   ]
  },
  {
   "cell_type": "markdown",
   "id": "9bfb4262-0c30-457e-98de-a907226997f3",
   "metadata": {},
   "source": [
    ":::{card} 定理\n",
    "\n",
    "$N$が偶数のとき、$\\omega^2_N$は1の原始$N/2$乗根として表せる。\n",
    "\n",
    "$$\n",
    "\\omega_N^2=\\omega_{N / 2}\n",
    "$$\n",
    ":::\n",
    "\n",
    ":::{dropdown} 証明\n",
    "\n",
    "$\\omega_N^2=\\left(e^{i 2 \\pi / N}\\right)^2=e^{i 4 \\pi / N}=e^{i 2 \\pi /(N / 2)}=\\omega_{N / 2}$ となる\n",
    ":::"
   ]
  },
  {
   "cell_type": "markdown",
   "id": "2cde7048-5f3c-452a-bc18-61ade012ae87",
   "metadata": {},
   "source": [
    "1の原始$N$乗根$\\omega_N$を次々と冪乗すると、複素平面の単位円周上を回転する"
   ]
  },
  {
   "cell_type": "code",
   "execution_count": 1,
   "id": "9908c1e5-ff9a-425a-9edd-beae810219e9",
   "metadata": {
    "tags": []
   },
   "outputs": [
    {
     "data": {
      "image/png": "[encoded data removed]",
      "text/plain": [
       "<Figure size 400x300 with 1 Axes>"
      ]
     },
     "metadata": {},
     "output_type": "display_data"
    }
   ],
   "source": [
    "import cmath\n",
    "import numpy as np\n",
    "import matplotlib.pyplot as plt\n",
    "\n",
    "fig, ax = plt.subplots(figsize=(4, 3))\n",
    "ax.set_aspect('equal', 'box')\n",
    "\n",
    "# 軸を描画\n",
    "ax.arrow(-1.2, 0, 2.4, 0, head_width=0.05, head_length=0.1, fc='black', ec='black', length_includes_head=True)\n",
    "ax.arrow(0, -1.2, 0, 2.4, head_width=0.05, head_length=0.1, fc='black', ec='black', length_includes_head=True)\n",
    "\n",
    "ax.text(1.3, 0, \"1\", fontsize=14, color='black')\n",
    "ax.text(0, 1.3, \"i\", fontsize=14, color='black')\n",
    "\n",
    "ax.set_aspect('equal', adjustable='datalim')\n",
    "ax.spines['top'].set_visible(False)\n",
    "ax.spines['right'].set_visible(False)\n",
    "ax.spines['left'].set_visible(False)\n",
    "ax.spines['bottom'].set_visible(False)\n",
    "ax.set(xticks=[], yticks=[])\n",
    "ax.set(xlim=(-1.2, 1.2), ylim=(-1.2, 1.2))\n",
    "\n",
    "# 単位円\n",
    "unit_circle = plt.Circle((0, 0), 1, color='gray', fill=False)\n",
    "ax.add_artist(unit_circle)\n",
    "\n",
    "# 偶数のN\n",
    "n = 10\n",
    "omega_n = cmath.exp(2j * cmath.pi / n)\n",
    "\n",
    "ax.plot([0, omega_n.real], [0, omega_n.imag], color=\"gray\", linestyle='-', linewidth=0.8)\n",
    "t = 2 * np.pi / n\n",
    "theta = np.linspace(0, t, 100)\n",
    "x = np.cos(theta) * 0.2\n",
    "y = np.sin(theta) * 0.2\n",
    "ax.plot(x, y, color=\"gray\", linewidth=1)\n",
    "\n",
    "for k in range(n):\n",
    "    omega = omega_n**k\n",
    "    ax.plot(omega.real, omega.imag, 'o', color=\"gray\")\n",
    "    ax.text(omega.real + 0.02, omega.imag + 0.02, rf'$\\omega_N^{k}$', fontsize=10, color=\"dimgray\", ha='left')\n",
    "\n",
    "plt.show()"
   ]
  },
  {
   "cell_type": "markdown",
   "id": "bbedd5d6-aaac-476a-ace2-7987065b9ac1",
   "metadata": {},
   "source": [
    "$N-1$ 次多項式\n",
    "\n",
    "$$\n",
    "f(x)=a_0+a_1 x+a_2 x^2+\\cdots+a_{N-1} x^{N-1}=\\sum_{l=0}^{N-1} a_l x^l\n",
    "$$\n",
    "\n",
    "を定義すると\n",
    "\n",
    "\n",
    "$$\n",
    "b_k=\\sum_{l=0}^{N-1} a_l \\omega_N^{k l}, \\quad k=0,1,2, \\ldots, N-1\n",
    "$$\n",
    "\n",
    "は\n",
    "\n",
    "$$\n",
    "b_k=f\\left(\\omega_N^k\\right), \\quad k=0,1,2, \\ldots, N-1\n",
    "$$\n",
    "\n",
    "と書くことができる。\n",
    "\n",
    "つまり、 **複素平面上の単位円周の$N$等分点で$N-1$次多項式$f(x)$を計算すれば$b_0,b_1,\\dots,b_N$が得られる**。\n",
    "\n",
    "この計算を$\\operatorname{FFT}_N[f(x)]$と表す。\n",
    "\n",
    "$$\n",
    "\\operatorname{FFT}_N[f(x)]=\\{f(1), f(\\omega_N), f(\\omega_N^2), \\ldots, f(\\omega_N^{N-1})\\}\n",
    "$$\n",
    "\n"
   ]
  },
  {
   "cell_type": "markdown",
   "id": "6aed8338-c631-4b10-a4f9-538d1b9a6912",
   "metadata": {},
   "source": [
    "### 間引き\n",
    "\n",
    "上記の多項式は次のように書き直せる\n",
    "\n",
    "$$\n",
    "\\begin{aligned}\n",
    "f(x)= & a_0+a_1 x+a_2 x^2+\\cdots+a_{N-1} x^{N-1}\\\\\n",
    "= & a_0+a_2 x^2+a_4 x^4+\\cdots+a_{N-2} x^{N-2} \\\\\n",
    "  & +x\\left(a_1+a_3 x^2+a_5 x^4+\\cdots+a_{N-1} x^{N-2}\\right) \\\\\n",
    "= & p(x^2)+x q(x^2)\n",
    "\\end{aligned}\n",
    "$$\n",
    "\n",
    "ただし、\n",
    "\n",
    "$$\n",
    "\\left\\{\\begin{array}{l}\n",
    "p(x)=a_0+a_2 x+a_4 x^2+\\cdots+a_{N-2} x^{N / 2-1} \\\\\n",
    "q(x)=a_1+a_3 x+a_5 x^2+\\cdots+a_{N-1} x^{N / 2-1}\n",
    "\\end{array}\\right.\n",
    "$$\n",
    "\n",
    "とおいた。この係数の **間引き** は高速フーリエ変換における重要な計算手順の一つ。"
   ]
  },
  {
   "cell_type": "markdown",
   "id": "e0c28333-7c55-4371-8aca-151d8a8610c4",
   "metadata": {},
   "source": [
    "$p(x^2)$は$x$が複素平面上の単位円周の$N$等分点を順にたどって1周するとき **$x^2$はそれらを1つおきに進んで2周する** 。そのため **前半の$N/2$個のみを計算すればよい** から、\n",
    "\n",
    "$$\n",
    "\\operatorname{FFT}_{N}[p(x^2)]=\\{p(1), p(\\omega_N^2), p(\\omega_N^4), \\ldots, p(\\omega_N^{N-2})\\}\n",
    "$$\n",
    "\n",
    "となる。\n",
    "\n",
    "\n",
    "また「$N$が偶数のとき$\\omega_N^2=\\omega_{N / 2}$」という定理より以下のように書き直せる。\n",
    "\n",
    "$$\n",
    "\\operatorname{FFT}_{N}[p(x^2)]=\\{p(1), p(\\omega_{N/2}), p(\\omega_{N/2}^2), \\ldots, p(\\omega_{N/2}^{N/2-1})\\}\n",
    "$$\n",
    "\n",
    "→ **データ数$N/2$個の離散フーリエ変換** を計算すればいい。"
   ]
  },
  {
   "cell_type": "markdown",
   "id": "95d9b18c-5e8c-4cc8-9f6d-e48f3adc6dfb",
   "metadata": {},
   "source": [
    "$q(x^2)$についても同様に得られる。\n",
    "\n",
    "$$\n",
    "\\operatorname{FFT}_{N}[q(x^2)]=\\{q(1), q(\\omega_{N/2}), q(\\omega_{N/2}^2), \\ldots, q(\\omega_{N/2}^{N/2-1})\\}\n",
    "$$"
   ]
  },
  {
   "cell_type": "markdown",
   "id": "9a7ded6b-ccd2-4e84-ad4f-18d59d9c1bcc",
   "metadata": {},
   "source": [
    "これら$N/2$個の離散フーリエ変換で得られるものたちを以下のように$\\operatorname{FFT}_{N / 2}$と表記する\n",
    "\n",
    "$$\n",
    "\\operatorname{FFT}_N[p(x^2)]=\\operatorname{FFT}_{N / 2}[p(x)], \\quad \\operatorname{FFT}_N[q(x^2)]=\\operatorname{FFT}_{N / 2}[q(x)]\n",
    "$$"
   ]
  },
  {
   "cell_type": "markdown",
   "id": "bb48d6f8-a40a-4a4b-bbe5-30e3c5ae43d6",
   "metadata": {},
   "source": [
    "### バタフライ\n",
    "\n",
    "$f(x)$は\n",
    "\n",
    ":::{card} 定理\n",
    "\n",
    "$N$が偶数のとき、次の関係が成り立つ\n",
    "\n",
    "$$\n",
    "\\omega_N^{N / 2}=-1, \\quad \\omega_N^{N / 2+1}=-\\omega_N, \\quad \\omega_N^{N / 2+2}=-\\omega_N^2, \\quad \\ldots, \\quad \\omega_N^{N-1}=-\\omega_N^{N / 2-1}\n",
    "$$\n",
    "\n",
    ":::\n",
    "\n",
    "という定理と\n",
    "\n",
    "$$\n",
    "f(x) = p(x^2)+x q(x^2)\n",
    "$$\n",
    "\n",
    "により、以下のように計算できる。\n",
    "\n",
    "$$\n",
    "\\begin{cases}\n",
    "f(\\omega_N^k)=p(\\omega_{N / 2}^k)+\\omega_N^k q(\\omega_{N / 2}^k), & k=0,1, \\ldots, N / 2-1 \\\\\n",
    "f(\\omega_N^{N / 2+k})=p(\\omega_{N / 2}^k)-\\omega_N^k q(\\omega_{N / 2}^k), & k=0,1, \\ldots, N / 2-1\n",
    "\\end{cases}\n",
    "$$\n",
    "\n",
    "この計算を **バタフライ** と呼び、式中の$\\omega_N^k$を **回転因子** と呼ぶ。"
   ]
  },
  {
   "cell_type": "markdown",
   "id": "b8e300db-2c64-4399-ad65-d951f915fd82",
   "metadata": {},
   "source": [
    "### 高速フーリエ変換\n",
    "\n",
    "$\\operatorname{FFT}_N$は係数の間引き（Decimation-In-Time, DIT）$D_N$を行って$\\operatorname{FFT}_{N/2}$を実行し、バタフライ$B_N$を施す。"
   ]
  },
  {
   "cell_type": "markdown",
   "id": "0ad57035-183e-49ad-9968-fbef8d28da4c",
   "metadata": {},
   "source": [
    "間引きによって$\\operatorname{FFT}_{N/4}, \\operatorname{FFT}_{N/8}, \\operatorname{FFT}_{N/16}, \\dots$と分解していくと最終的に$\\operatorname{FFT}_{1}$の計算になり、$0$次式（定数）の計算になる。\n",
    "\n",
    "その後バタフライによって統合していく。\n",
    "\n",
    "そのため$\\operatorname{FFT}_{N}$は間引きの繰り返しとバタフライの繰り返しで分割統治法によって計算できる。\n",
    "\n",
    "この方法を **高速フーリエ変換** （FFT）と呼ぶ。"
   ]
  },
  {
   "cell_type": "markdown",
   "id": "90a52046-1b00-4f42-a4e8-700ecc9143b1",
   "metadata": {},
   "source": [
    "## Pythonの実装\n",
    "\n",
    "by chatGPT"
   ]
  },
  {
   "cell_type": "code",
   "execution_count": 2,
   "id": "a5f4f14e-81e6-4339-9b0f-f06bea445389",
   "metadata": {
    "tags": []
   },
   "outputs": [],
   "source": [
    "import cmath\n",
    "\n",
    "def fft_recursive(x: list[complex]) -> list[complex]:\n",
    "    \"\"\"\n",
    "    Args: 入力信号（複素数リスト）\n",
    "    Returns: FFTの結果（周波数成分Fのリスト）（複素数のリスト）\n",
    "    \"\"\"\n",
    "    N = len(x)\n",
    "    if N <= 1:  # 再帰の終了条件\n",
    "        return x\n",
    "\n",
    "    # 偶数番目と奇数番目に分割\n",
    "    even = fft_recursive(x[0::2])\n",
    "    odd = fft_recursive(x[1::2])\n",
    "\n",
    "    # バタフライ操作\n",
    "    T = [cmath.exp(-2j * cmath.pi * k / N) * odd[k] for k in range(N // 2)]\n",
    "    return [even[k] + T[k] for k in range(N // 2)] + \\\n",
    "           [even[k] - T[k] for k in range(N // 2)]\n"
   ]
  },
  {
   "cell_type": "code",
   "execution_count": 3,
   "id": "c49a3c5a-d9db-4390-b2e5-ecdd8b07d263",
   "metadata": {
    "tags": []
   },
   "outputs": [
    {
     "name": "stdout",
     "output_type": "stream",
     "text": [
      "FFTの結果:\n",
      "X[0] = 28.000+0.000j\n",
      "X[1] = -4.000+9.657j\n",
      "X[2] = -4.000+4.000j\n",
      "X[3] = -4.000+1.657j\n",
      "X[4] = -4.000+0.000j\n",
      "X[5] = -4.000-1.657j\n",
      "X[6] = -4.000-4.000j\n",
      "X[7] = -4.000-9.657j\n",
      "NumPy FFT結果:\n",
      "X[0] = 28.000+0.000j\n",
      "X[1] = -4.000+9.657j\n",
      "X[2] = -4.000+4.000j\n",
      "X[3] = -4.000+1.657j\n",
      "X[4] = -4.000+0.000j\n",
      "X[5] = -4.000-1.657j\n",
      "X[6] = -4.000-4.000j\n",
      "X[7] = -4.000-9.657j\n"
     ]
    }
   ],
   "source": [
    "# テスト用データ\n",
    "input_signal = [0, 1, 2, 3, 4, 5, 6, 7]  # サンプルデータ\n",
    "\n",
    "# 信号を複素数に変換\n",
    "input_signal = [complex(x) for x in input_signal]\n",
    "\n",
    "# FFTを計算\n",
    "fft_result = fft_recursive(input_signal)\n",
    "\n",
    "# 結果を表示\n",
    "print(\"FFTの結果:\")\n",
    "for i, value in enumerate(fft_result):\n",
    "    print(f\"X[{i}] = {value:.3f}\")\n",
    "\n",
    "# NumPyによるFFT計算\n",
    "import numpy as np\n",
    "fft_result = np.fft.fft(input_signal)\n",
    "\n",
    "# 結果を表示\n",
    "print(\"NumPy FFT結果:\")\n",
    "for i, value in enumerate(fft_result):\n",
    "    print(f\"X[{i}] = {value:.3f}\")"
   ]
  },
  {
   "cell_type": "code",
   "execution_count": 4,
   "id": "3cec5609-e825-4b8a-b591-336727804ce6",
   "metadata": {
    "tags": []
   },
   "outputs": [
    {
     "data": {
      "image/png": "[encoded data removed]",
      "text/plain": [
       "<Figure size 800x400 with 1 Axes>"
      ]
     },
     "metadata": {},
     "output_type": "display_data"
    }
   ],
   "source": [
    "import numpy as np\n",
    "import matplotlib.pyplot as plt\n",
    "\n",
    "# サンプル信号を作成（サンプリング周波数: 1000 Hz）\n",
    "fs = 1000  # サンプリング周波数\n",
    "t = np.linspace(0, 1, fs, endpoint=False)  # 時間軸\n",
    "frequencies = [100, 200]\n",
    "signal = np.sin(2 * np.pi * frequencies[0] * t) + 0.5 * np.sin(2 * np.pi * frequencies[1] * t)\n",
    "\n",
    "# FFTを計算\n",
    "N = len(signal)\n",
    "fft_result = np.fft.fft(signal)\n",
    "frequencies = np.fft.fftfreq(N, 1/fs)  # 周波数軸\n",
    "\n",
    "# 振幅スペクトルを取得\n",
    "amplitude = np.abs(fft_result) / N  # 振幅正規化\n",
    "\n",
    "# 結果をプロット\n",
    "plt.figure(figsize=(8, 4))\n",
    "plt.plot(frequencies[:N//2], amplitude[:N//2])  # 正の周波数成分のみプロット\n",
    "plt.title(\"Frequency Spectrum\")\n",
    "plt.xlabel(\"Frequency (Hz)\")\n",
    "plt.ylabel(\"Amplitude\")\n",
    "plt.grid()\n",
    "plt.show()\n"
   ]
  },
  {
   "cell_type": "code",
   "execution_count": null,
   "id": "65740b70-ff0e-4510-94c0-9b4a6dc9ed71",
   "metadata": {},
   "outputs": [],
   "source": []
  }
 ],
 "metadata": {
  "kernelspec": {
   "display_name": "Python 3 (ipykernel)",
   "language": "python",
   "name": "python3"
  },
  "language_info": {
   "codemirror_mode": {
    "name": "ipython",
    "version": 3
   },
   "file_extension": ".py",
   "mimetype": "text/x-python",
   "name": "python",
   "nbconvert_exporter": "python",
   "pygments_lexer": "ipython3",
   "version": "3.10.15"
  }
 },
 "nbformat": 4,
 "nbformat_minor": 5
}
