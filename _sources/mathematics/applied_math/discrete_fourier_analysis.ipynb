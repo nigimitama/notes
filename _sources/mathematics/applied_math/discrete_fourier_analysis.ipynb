{
 "cells": [
  {
   "cell_type": "markdown",
   "id": "b832c073-baf9-4d00-84f4-f6f902c4a763",
   "metadata": {},
   "source": [
    "# 離散フーリエ変換"
   ]
  },
  {
   "cell_type": "markdown",
   "id": "761dc1a3-8cc5-4489-afee-68957afe5319",
   "metadata": {},
   "source": [
    "## 離散フーリエ変換"
   ]
  },
  {
   "cell_type": "markdown",
   "id": "e861070b-5017-45e5-98ca-fe40cf6fa34d",
   "metadata": {},
   "source": [
    "### 複素フーリエ級数\n",
    "\n",
    "$\\theta$を角度とすると、円周に沿って値が定義された関数$f(\\theta)$（sinやcosなどのこと？？）は周期$T=2\\pi$の周期関数であり、$\\theta$に$2\\pi$の任意の整数倍を足しても引いても$f(\\theta)$は同じ値になる。\n",
    "\n",
    "フーリエ係数の複素表示\n",
    "\n",
    "$$\n",
    "f(t)=\\sum_{k=-\\infty}^{\\infty} C_k e^{i k \\omega_o t}, \\quad C_k=\\frac{1}{T} \\int_{-T / 2}^{T / 2} f(t) e^{-i k \\omega_o t} \\mathrm{~d} t\n",
    "$$\n",
    "\n",
    "より、$f(\\theta)$の基本周波数は$\\omega_0=2\\pi/T = 1$であるから、$f(\\theta)$のフーリエ級数は、\n",
    "\n",
    "\n",
    "$$\n",
    "f(\\theta)=\\sum_{k=-\\infty}^{\\infty} C_k e^{i k \\theta}, \\quad C_k=\\frac{1}{2 \\pi} \\int_{-\\pi}^\\pi f(\\theta) e^{-i k \\theta} d \\theta\n",
    "$$\n",
    "\n",
    "と書くことができる。"
   ]
  },
  {
   "cell_type": "markdown",
   "id": "7da10c47-b525-4646-913a-62257b06e8f2",
   "metadata": {},
   "source": [
    "### 離散フーリエ変換\n",
    "\n",
    "円周上を$N$分割し、$N$個のサンプル点をとる\n",
    "\n",
    "$$\n",
    "\\theta_l=\\frac{2 \\pi l}{N}, \\quad l=0,1,2, \\ldots, N-1\n",
    "$$\n",
    "\n",
    "このサンプル点での $f(\\theta)$ のサンプル値を $f_l=f\\left(\\theta_l\\right)$ とする。\n",
    "\n",
    "前述のフーリエ係数は連続関数 $f(\\theta)$ を無限個の係数 $\\left\\{C_k\\right\\}, k=0, \\pm 1, \\pm 2, \\pm 3, \\ldots$, で表すものだが、 もし $N$ 個のサンプル値 $\\left\\{f_l\\right\\}$ のみが必要な場合は $N$ 個の係数のみで表される。\n",
    "\n",
    "$$\n",
    "f_l=\\sum_{k=0}^{N-1} F_k e^{i 2 \\pi k l / N}, \\quad F_k=\\frac{1}{N} \\sum_{l=0}^{N-1} f_l e^{-i 2 \\pi k l / N}\n",
    "$$\n",
    "\n",
    "係数 $\\left\\{F_k\\right\\}$ をデータ $\\left\\{f_l\\right\\}$ の **離散フーリエ変換** と呼ぶ。\n"
   ]
  },
  {
   "cell_type": "markdown",
   "id": "583ca25a-cf69-4bf4-9032-43ab93381312",
   "metadata": {},
   "source": [
    ":::{margin}\n",
    "\n",
    "書籍によっては$1/N$の表記方法が異なる場合がある。$1/N$を$f_l$のほうにもってきて\n",
    "\n",
    "$$\n",
    "f_l=\\frac{1}{N} \\sum_{k=0}^{N-1} F_k e^{i 2 \\pi k l / N}, \\quad F_k=\\sum_{l=0}^{N-1} f_l e^{-i 2 \\pi k l / N}\n",
    "$$\n",
    "\n",
    "としたり、あるいは$l,k$について平等にするため\n",
    "\n",
    "$$\n",
    "f_l=\\frac{1}{\\sqrt{N}} \\sum_{k=0}^{N-1} F_k e^{i 2 \\pi k l / N}, \\quad F_k=\\frac{1}{\\sqrt{N}} \\sum_{l=0}^{N-1} f_l e^{-i 2 \\pi k l / N}\n",
    "$$\n",
    "\n",
    "とすることがある\n",
    ":::"
   ]
  },
  {
   "cell_type": "markdown",
   "id": "d9dbf5c5-bf86-4887-ba2c-11fdceadcec9",
   "metadata": {},
   "source": [
    "説明の都合上, データ $f_l$ の添え字 $l=0,1, \\ldots, N$ をデータ番号, 離散フーリエ変換 $F_k$ の添え字 $k=0,1, \\ldots, N$ を周波数番号と呼ぶ.\n"
   ]
  },
  {
   "cell_type": "markdown",
   "id": "3958eb29-0ea2-413e-8042-a9f480f2745b",
   "metadata": {},
   "source": [
    ":::{margin}\n",
    "\n",
    "離散フーリエ変換$F_k$はデータ$f_l$に$e^{i 2 \\pi k l / N}$の共役複素数$e^{-i 2 \\pi k l / N}$を掛けて$l=0,1,\\dots,N-1$にわたって足して$N$で割ったもの\n",
    ":::"
   ]
  },
  {
   "cell_type": "markdown",
   "id": "0e5210f0-9718-460a-8c66-bfacf431b2cb",
   "metadata": {},
   "source": [
    ":::{card} 離散化したデルタ関数的なやつ\n",
    "\n",
    "$$\n",
    "\\frac{1}{N} \\sum_{k=0}^{N-1} e^{i 2 \\pi(m-n) k / N}\n",
    "=\n",
    "\\begin{cases}1 & m \\equiv n(\\bmod N) \\\\\n",
    "0 & m \\not \\equiv n(\\bmod N)\n",
    "\\end{cases}\n",
    "$$\n",
    "\n",
    "ただし $m \\equiv n \\quad (\\bmod N)$ （$N$ を **法** として **合同** であると読む）は $m-n$ が $N$ の倍数であることを表す。\n",
    ":::\n",
    "\n",
    ":::{card}\n",
    "\n",
    "$$\n",
    "\\begin{aligned}\n",
    "\\sum_{k=0}^{N-1} F_k e^{i 2 \\pi k l / N} & =\\sum_{k=0}^{N-1}\\left(\\frac{1}{N} \\sum_{m=0}^{N-1} f_m e^{-i 2 \\pi k m / N}\\right) e^{i 2 \\pi k l / N} \\\\\n",
    "& =\\sum_{m=0}^{N-1} f_m\\left(\\frac{1}{N} \\sum_{k=0}^{N-1} e^{i 2 \\pi(l-m) k / N}\\right)\n",
    "\\end{aligned}\n",
    "$$\n",
    ":::\n"
   ]
  },
  {
   "cell_type": "markdown",
   "id": "3fdf91fc-e4db-41b8-b31e-532c3f2260ce",
   "metadata": {},
   "source": [
    "### 周期的な添字に拡張する\n",
    "\n",
    "取り扱いを便利にするため、$f_l,F_k$の$l,k=0,1,\\dots,N-1$の値を周期的に拡張する。\n",
    "例えば$f_N=f_0, f_{N+1} = f_1, \\dots$とする。\n",
    "\n",
    "このように拡張すると、総和は任意の連続する $N$ 個の和に置き換えても同じになる。例えば $\\sum_{k=0}^{N-1}$ は $\\sum_{k=1}^N, \\sum_{k=2}^{N+1}, \\sum_{k=3}^{N+2}, \\ldots$ と書いても $\\sum_{k=-1}^{N-2}, \\sum_{k=-2}^{N-3}, \\ldots$ と書いても同じである。\n",
    "\n"
   ]
  },
  {
   "cell_type": "markdown",
   "id": "0d563fa0-2ce7-467f-a936-d791bcea31c9",
   "metadata": {},
   "source": [
    "## 周期関数のサンプリング定理\n",
    "\n",
    "### 帯域制限\n",
    "\n",
    "周期 $2 \\pi$ の連続関数 $f(\\theta)$ がフーリエ級数に展開されるとき、そのフーリエ係数 $C_k$ がある $k$ の範囲以外は 0 であるなら $f(\\theta)$ は **帯域制限** されているという。\n",
    "帯域制限された周期関数は、ある間隔より細かくサンプルすればフーリエ係数 $C_k$ と離散フーリエ変換 $F_k$ が等しくなる。\n"
   ]
  },
  {
   "cell_type": "markdown",
   "id": "42fc27b6-0c79-43d4-8997-c8cbde3ae309",
   "metadata": {},
   "source": [
    ":::{card}\n",
    "\n",
    "離散フーリエ変換$F_k, |k| < \\frac{N}{2}$は次のように書くことができる。\n",
    "\n",
    "$$\n",
    "\\begin{aligned}\n",
    "F_k & =\\frac{1}{N} \\sum_{l=0}^{N-1} f\\left(\\frac{2 \\pi l}{N}\\right) e^{-i 2 \\pi k l / N}\\\\\n",
    "& =\\frac{1}{N} \\sum_{l=0}^{N-1}\\left(\\sum_{m=-\\infty}^{\\infty} C_m e^{i 2 \\pi l m / N}\\right) e^{-i 2 \\pi k l / N} \\\\\n",
    "& =\\sum_{-N / 2<m<N / 2} C_m\\left(\\frac{1}{N} \\sum_{l=0}^{N-1} e^{i 2 \\pi(m-k) l / N}\\right)\n",
    "\\end{aligned}\n",
    "$$\n",
    "\n",
    "$-N / 2<m<N / 2,-N / 2<k<N / 2$ のとき $m \\equiv k ~(\\bmod N)$ となるのは $m=k$ の場合しかない。 ゆえに 上式は $C_k$ に等しい。\n",
    "\n",
    "よって、帯域制限された周期関数は、ある間隔より細かくサンプルすればそのサンプル値の補間によって表現できる。\n",
    ":::"
   ]
  },
  {
   "cell_type": "markdown",
   "id": "bf411813-7d2b-41e4-8697-ed7c31541064",
   "metadata": {},
   "source": [
    ":::{admonition} 周期関数のサンプリング定理\n",
    "\n",
    "周期 $2 \\pi$ の連続関数 $f(\\theta)$ のフーリエ係数 $C_k$ が $|k| \\geq \\frac{N}{2}$ に対して 0 のとき、$f(\\theta)$ は区間 $[0,2 \\pi]$ を $N$ 等分して得られるサンプル値 $f_l=f\\left(\\theta_l\\right)$ から次のように再現される\n",
    "\n",
    "$$\n",
    "f(\\theta)=\\sum_{l=0}^{N-1} f_l \\phi_N\\left(\\theta-\\theta_l\\right)\n",
    "$$\n",
    "\n",
    ":::\n",
    "\n",
    "ただし、 $\\phi_N(\\theta)$ は次のように定義した補間関数である。\n",
    "\n",
    "$$\n",
    "\\phi_N(\\theta)=\\frac{1}{N} \\sum_{-N / 2<k<N / 2} e^{i k \\theta}=\\frac{1+2 \\sum_{0<k<N / 2} \\cos k \\theta}{N}\n",
    "$$\n"
   ]
  },
  {
   "cell_type": "markdown",
   "id": "acc6fcb5-e1cf-408c-a2c6-00db7e5f510f",
   "metadata": {},
   "source": [
    ":::{dropdown}\n",
    "\n",
    "$|k| \\geq N / 2$ では $C_k=0$ であり、 $|k|<$ $N / 2$ では $C_k=F_k$ であるから、 $f(\\theta)$ は次のように書ける。\n",
    "\n",
    "$$\n",
    "\\begin{aligned}\n",
    "f(\\theta) &= \\sum_{-N / 2<k<N / 2} F_k e^{i k \\theta}\\\\\n",
    "&= \\sum_{-N / 2<k<N / 2}\\left(\\frac{1}{N} \\sum_{l=0}^{N-1} f_l e^{-i 2 \\pi k l / N}\\right) e^{i k \\theta} \\\\\n",
    "&= \\sum_{l=0}^{N-1} f_l\\left(\\frac{1}{N} \\sum_{-N / 2<k<N / 2} e^{i k(\\theta-2 \\pi l / N)}\\right)\\\\\n",
    "&= \\sum_{l=0}^{N-1} f_l\\left(\\frac{1}{N} \\sum_{-N / 2<k<N / 2} e^{i k(\\theta-\\theta_l)}\\right)\\\\\n",
    "&= \\sum_{l=0}^{N-1} f_l \\phi_N\\left(\\theta-\\theta_l\\right)\n",
    "\\end{aligned}\n",
    "$$\n",
    ":::"
   ]
  },
  {
   "cell_type": "markdown",
   "id": "66c94ce5-d9d4-404f-a8dc-b6d3a2726fba",
   "metadata": {},
   "source": []
  }
 ],
 "metadata": {
  "kernelspec": {
   "display_name": "Python 3 (ipykernel)",
   "language": "python",
   "name": "python3"
  },
  "language_info": {
   "codemirror_mode": {
    "name": "ipython",
    "version": 3
   },
   "file_extension": ".py",
   "mimetype": "text/x-python",
   "name": "python",
   "nbconvert_exporter": "python",
   "pygments_lexer": "ipython3",
   "version": "3.10.15"
  }
 },
 "nbformat": 4,
 "nbformat_minor": 5
}
