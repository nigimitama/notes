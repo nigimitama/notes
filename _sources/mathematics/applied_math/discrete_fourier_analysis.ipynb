{
 "cells": [
  {
   "cell_type": "markdown",
   "id": "b832c073-baf9-4d00-84f4-f6f902c4a763",
   "metadata": {},
   "source": [
    "# 離散フーリエ変換"
   ]
  },
  {
   "cell_type": "markdown",
   "id": "761dc1a3-8cc5-4489-afee-68957afe5319",
   "metadata": {},
   "source": [
    "## 離散フーリエ変換"
   ]
  },
  {
   "cell_type": "markdown",
   "id": "e861070b-5017-45e5-98ca-fe40cf6fa34d",
   "metadata": {},
   "source": [
    "### 複素フーリエ級数\n",
    "\n",
    "$\\theta$を角度とすると、円周に沿って値が定義された関数$f(\\theta)$（sinやcosなどのこと？？）は周期$T=2\\pi$の周期関数であり、$\\theta$に$2\\pi$の任意の整数倍を足しても引いても$f(\\theta)$は同じ値になる。\n",
    "\n",
    "フーリエ係数の複素表示\n",
    "\n",
    "$$\n",
    "f(t)=\\sum_{k=-\\infty}^{\\infty} C_k e^{i k \\omega_o t}, \\quad C_k=\\frac{1}{T} \\int_{-T / 2}^{T / 2} f(t) e^{-i k \\omega_o t} \\mathrm{~d} t\n",
    "$$\n",
    "\n",
    "より、$f(\\theta)$の基本周波数は$\\omega_0=2\\pi/T = 1$であるから、$f(\\theta)$のフーリエ級数は、\n",
    "\n",
    "\n",
    "$$\n",
    "f(\\theta)=\\sum_{k=-\\infty}^{\\infty} C_k e^{i k \\theta}, \\quad C_k=\\frac{1}{2 \\pi} \\int_{-\\pi}^\\pi f(\\theta) e^{-i k \\theta} d \\theta\n",
    "$$\n",
    "\n",
    "と書くことができる。"
   ]
  },
  {
   "cell_type": "markdown",
   "id": "7da10c47-b525-4646-913a-62257b06e8f2",
   "metadata": {},
   "source": [
    "### 離散フーリエ変換\n",
    "\n",
    "円周上を$N$分割し、$N$個のサンプル点をとる\n",
    "\n",
    "$$\n",
    "\\theta_l=\\frac{2 \\pi}{N} l, \\quad l=0,1,2, \\ldots, N-1\n",
    "$$\n",
    "\n",
    "（1周期が$2\\pi$なのを$N$分割したものの$l$倍が$\\theta_l$）\n",
    "\n",
    "このサンプル点での $f(\\theta)$ のサンプル値を $f_l=f\\left(\\theta_l\\right)$ とする。\n",
    "\n",
    "前述のフーリエ係数は連続関数 $f(\\theta)$ を無限個の係数 $\\left\\{C_k\\right\\}, k=0, \\pm 1, \\pm 2, \\pm 3, \\ldots$, で表すものだが、 もし $N$ 個のサンプル値 $\\left\\{f_l\\right\\}$ のみが必要な場合は $N$ 個の係数のみで表される。\n",
    "\n",
    ":::{card}\n",
    "\n",
    "$$\n",
    "f_l=\\sum_{k=0}^{N-1} F_k e^{i 2 \\pi k l / N}, \\quad F_k=\\frac{1}{N} \\sum_{l=0}^{N-1} f_l e^{-i 2 \\pi k l / N}\n",
    "$$\n",
    "\n",
    ":::\n",
    "\n",
    "係数 $\\left\\{F_k\\right\\}$ をデータ $\\left\\{f_l\\right\\}$ の **離散フーリエ変換** と呼ぶ。\n"
   ]
  },
  {
   "cell_type": "code",
   "execution_count": 3,
   "id": "2cabbb6e-c65a-46f8-8eb8-efebf3b48ef8",
   "metadata": {
    "jupyter": {
     "source_hidden": true
    },
    "tags": [
     "hide-input"
    ]
   },
   "outputs": [
    {
     "data": {
      "image/png": "[encoded data removed]",
      "text/plain": [
       "<Figure size 400x300 with 1 Axes>"
      ]
     },
     "metadata": {},
     "output_type": "display_data"
    }
   ],
   "source": [
    "import numpy as np\n",
    "import matplotlib.pyplot as plt\n",
    "fig, ax = plt.subplots(figsize=(4, 3))\n",
    "\n",
    "# 軸を描画\n",
    "ax.arrow(-1.2, 0, 2.4, 0, head_width=0.05, head_length=0.1, fc='black', ec='black', length_includes_head=True)\n",
    "ax.arrow(0, -1.2, 0, 2.4, head_width=0.05, head_length=0.1, fc='black', ec='black', length_includes_head=True)\n",
    "\n",
    "ax.text(1.3, 0, \"Re\", fontsize=14, color='black')\n",
    "ax.text(0, 1.3, \"Im\", fontsize=14, color='black')\n",
    "\n",
    "ax.set_aspect('equal', adjustable='datalim')\n",
    "ax.spines['top'].set_visible(False)\n",
    "ax.spines['right'].set_visible(False)\n",
    "ax.spines['left'].set_visible(False)\n",
    "ax.spines['bottom'].set_visible(False)\n",
    "ax.set(xticks=[], yticks=[])\n",
    "\n",
    "\n",
    "# 単位円\n",
    "theta = np.linspace(0, 2*np.pi, 100)\n",
    "x = np.cos(theta)\n",
    "y = np.sin(theta)\n",
    "plt.plot(x, y, 'k-', linewidth=1)  # 黒い実線で単位円を描画\n",
    "\n",
    "# curve\n",
    "t = 0.3*np.pi\n",
    "theta = np.linspace(0, t, 100)\n",
    "x = np.cos(theta) * 0.2\n",
    "y = np.sin(theta) * 0.2\n",
    "ax.plot(x, y, 'k--', linewidth=1)  # 黒い実線で単位円を描画\n",
    "\n",
    "# text\n",
    "m = len(x) // 2\n",
    "ax.text(x[m], y[m], r\"$\\theta_l = 2\\pi l / N$\")\n",
    "\n",
    "# line\n",
    "x = np.cos(t)\n",
    "y = np.sin(t)\n",
    "ax.plot([0, x], [0, y], color=\"blue\", linestyle='-.', linewidth=0.8)\n",
    "ax.scatter([x], [y], color=\"blue\")\n",
    "\n",
    "plt.show()"
   ]
  },
  {
   "cell_type": "markdown",
   "id": "3958eb29-0ea2-413e-8042-a9f480f2745b",
   "metadata": {},
   "source": [
    ":::{margin}\n",
    "\n",
    "離散フーリエ変換$F_k$はデータ$f_l$に$e^{i 2 \\pi k l / N}$の共役複素数$e^{-i 2 \\pi k l / N}$を掛けて$l=0,1,\\dots,N-1$にわたって足して$N$で割ったもの\n",
    ":::"
   ]
  },
  {
   "cell_type": "markdown",
   "id": "583ca25a-cf69-4bf4-9032-43ab93381312",
   "metadata": {},
   "source": [
    ":::{tip}\n",
    "\n",
    "書籍によっては$1/N$の表記方法が異なる場合がある。$1/N$を$f_l$のほうにもってきて\n",
    "\n",
    "$$\n",
    "f_l=\\frac{1}{N} \\sum_{k=0}^{N-1} F_k e^{i 2 \\pi k l / N}, \\quad F_k=\\sum_{l=0}^{N-1} f_l e^{-i 2 \\pi k l / N}\n",
    "$$\n",
    "\n",
    "としたり、あるいは$l,k$について平等にするため\n",
    "\n",
    "$$\n",
    "f_l=\\frac{1}{\\sqrt{N}} \\sum_{k=0}^{N-1} F_k e^{i 2 \\pi k l / N}, \\quad F_k=\\frac{1}{\\sqrt{N}} \\sum_{l=0}^{N-1} f_l e^{-i 2 \\pi k l / N}\n",
    "$$\n",
    "\n",
    "とすることがある\n",
    ":::"
   ]
  },
  {
   "cell_type": "markdown",
   "id": "0e5210f0-9718-460a-8c66-bfacf431b2cb",
   "metadata": {},
   "source": [
    "### 逆フーリエ変換\n",
    "\n",
    ":::{card} クロネッカーのデルタ関数の離散バージョン\n",
    "\n",
    "$$\n",
    "\\frac{1}{N} \\sum_{k=0}^{N-1} e^{i 2 \\pi(m-n) k / N}\n",
    "=\n",
    "\\begin{cases}1 & m \\equiv n(\\bmod N) \\\\\n",
    "0 & m \\not \\equiv n(\\bmod N)\n",
    "\\end{cases}\n",
    "$$\n",
    "\n",
    "ただし $m \\equiv n \\quad (\\bmod N)$ （$N$ を **法** として **合同** であると読む）は $m-n$ が $N$ の倍数であることを表す。\n",
    ":::\n",
    "\n",
    "これを使うことで、データ$\\{f_l\\}$から離散フーリエ変換$F_k$を定義すると\n",
    "\n",
    "$$\n",
    "\\begin{aligned}\n",
    "\\sum_{k=0}^{N-1} F_k e^{i 2 \\pi k l / N} & =\\sum_{k=0}^{N-1}\\left(\\frac{1}{N} \\sum_{m=0}^{N-1} f_m e^{-i 2 \\pi k m / N}\\right) e^{i 2 \\pi k l / N} \\\\\n",
    "& =\\sum_{m=0}^{N-1} f_m\\left(\\frac{1}{N} \\sum_{k=0}^{N-1} e^{i 2 \\pi(l-m) k / N}\\right)\n",
    "\\end{aligned}\n",
    "$$\n",
    "\n",
    "となる。最後の項のカッコの中は$l \\equiv m ~ (\\bmod N)$のとき1、それ以外は0となる。$0 \\leq l<N, 0 \\leq m<N$ の範囲では $l \\equiv m(\\bmod N)$ となるのは$l=m$の場合のみなので、$f_m$を掛けて和$\\sum^{N-1}_{m=0}$をとると$f_l$になる。よって逆フーリエ変換の式$f_l=\\sum_{k=0}^{N-1} F_k e^{i 2 \\pi k l / N}$が成立する。"
   ]
  },
  {
   "cell_type": "markdown",
   "id": "3fdf91fc-e4db-41b8-b31e-532c3f2260ce",
   "metadata": {},
   "source": [
    "### 周期的な添字に拡張する\n",
    "\n",
    "取り扱いを便利にするため、以下では$f_l,F_k$の$l,k=0,1,\\dots,N-1$の値を周期的に拡張する。\n",
    "例えば$f_N=f_0, f_{N+1} = f_1, \\dots$とする。\n",
    "\n",
    "このように拡張すると、総和は任意の連続する $N$ 個の和に置き換えても同じになる。例えば $\\sum_{k=0}^{N-1}$ は $\\sum_{k=1}^N, \\sum_{k=2}^{N+1}, \\sum_{k=3}^{N+2}, \\ldots$ と書いても $\\sum_{k=-1}^{N-2}, \\sum_{k=-2}^{N-3}, \\ldots$ と書いても同じである。\n",
    "\n"
   ]
  },
  {
   "cell_type": "markdown",
   "id": "0d563fa0-2ce7-467f-a936-d791bcea31c9",
   "metadata": {},
   "source": [
    "## 周期関数のサンプリング定理\n",
    "\n",
    "### 帯域制限\n",
    "\n",
    "周期 $2 \\pi$ の連続関数 $f(\\theta)$ がフーリエ級数に展開されるとき、そのフーリエ係数 $C_k$ がある $k$ の範囲以外は 0 であるなら $f(\\theta)$ は **帯域制限** されているという。\n",
    "\n",
    "**帯域制限された周期関数は、ある間隔より細かくサンプルすればフーリエ係数 $C_k$ と離散フーリエ変換 $F_k$ が等しくなる。**\n"
   ]
  },
  {
   "cell_type": "markdown",
   "id": "42fc27b6-0c79-43d4-8997-c8cbde3ae309",
   "metadata": {},
   "source": [
    ":::{card}\n",
    "\n",
    "離散フーリエ変換$F_k, |k| < \\frac{N}{2}$は次のように書くことができる。\n",
    "\n",
    "$$\n",
    "\\begin{aligned}\n",
    "F_k & =\\frac{1}{N} \\sum_{l=0}^{N-1} f\\left(\\frac{2 \\pi l}{N}\\right) e^{-i 2 \\pi k l / N}\\\\\n",
    "& =\\frac{1}{N} \\sum_{l=0}^{N-1}\\left(\\sum_{m=-\\infty}^{\\infty} C_m e^{i 2 \\pi l m / N}\\right) e^{-i 2 \\pi k l / N} \\\\\n",
    "& =\\sum_{-N / 2<m<N / 2} C_m\\left(\\frac{1}{N} \\sum_{l=0}^{N-1} e^{i 2 \\pi(m-k) l / N}\\right)\n",
    "\\end{aligned}\n",
    "$$\n",
    "\n",
    "$-N / 2<m<N / 2,-N / 2<k<N / 2$ のとき $m \\equiv k ~(\\bmod N)$ となるのは $m=k$ の場合しかない。 ゆえに 上式は $C_k$ に等しい。\n",
    "\n",
    "よって、 **帯域制限された周期関数は、ある間隔より細かくサンプルすればそのサンプル値の補間によって表現できる。**\n",
    ":::"
   ]
  },
  {
   "cell_type": "markdown",
   "id": "bf411813-7d2b-41e4-8697-ed7c31541064",
   "metadata": {},
   "source": [
    "### 周期関数のサンプリング定理\n",
    "\n",
    ":::{admonition} 周期関数のサンプリング定理\n",
    "\n",
    "周期 $2 \\pi$ の連続関数 $f(\\theta)$ のフーリエ係数 $C_k$ が $|k| \\geq \\frac{N}{2}$ に対して 0 のとき、$f(\\theta)$ は区間 $[0,2 \\pi]$ を $N$ 等分して得られるサンプル値 $f_l=f\\left(\\theta_l\\right)$ から次のように再現される\n",
    "\n",
    "$$\n",
    "f(\\theta)=\\sum_{l=0}^{N-1} f_l \\phi_N\\left(\\theta-\\theta_l\\right)\n",
    "$$\n",
    "\n",
    ":::\n",
    "\n",
    "ただし、 $\\phi_N(\\theta)$ は次のように定義した補間関数である。\n",
    "\n",
    "$$\n",
    "\\phi_N(\\theta)=\\frac{1}{N} \\sum_{-N / 2<k<N / 2} e^{i k \\theta}=\\frac{1+2 \\sum_{0<k<N / 2} \\cos k \\theta}{N}\n",
    "$$\n"
   ]
  },
  {
   "cell_type": "markdown",
   "id": "acc6fcb5-e1cf-408c-a2c6-00db7e5f510f",
   "metadata": {},
   "source": [
    ":::{dropdown}\n",
    "\n",
    "$|k| \\geq N / 2$ では $C_k=0$ であり、 $|k|<$ $N / 2$ では $C_k=F_k$ であるから、 $f(\\theta)$ は次のように書ける。\n",
    "\n",
    "$$\n",
    "\\begin{aligned}\n",
    "f(\\theta) &= \\sum_{-N / 2<k<N / 2} F_k e^{i k \\theta}\\\\\n",
    "&= \\sum_{-N / 2<k<N / 2}\\left(\\frac{1}{N} \\sum_{l=0}^{N-1} f_l e^{-i 2 \\pi k l / N}\\right) e^{i k \\theta} \\\\\n",
    "&= \\sum_{l=0}^{N-1} f_l\\left(\\frac{1}{N} \\sum_{-N / 2<k<N / 2} e^{i k(\\theta-2 \\pi l / N)}\\right)\\\\\n",
    "&= \\sum_{l=0}^{N-1} f_l\\left(\\frac{1}{N} \\sum_{-N / 2<k<N / 2} e^{i k(\\theta-\\theta_l)}\\right)\\\\\n",
    "&= \\sum_{l=0}^{N-1} f_l \\phi_N\\left(\\theta-\\theta_l\\right)\n",
    "\\end{aligned}\n",
    "$$\n",
    ":::"
   ]
  },
  {
   "cell_type": "markdown",
   "id": "66c94ce5-d9d4-404f-a8dc-b6d3a2726fba",
   "metadata": {},
   "source": [
    "## 畳み込み和定理\n",
    "\n",
    ":::{admonition} 定義：畳み込み和\n",
    "\n",
    "周期 $N$ のデータ $\\left\\{f_l\\right\\},\\left\\{g_l\\right\\}$ の（循環）たたみこみ和 $\\left\\{f_l * g_l\\right\\}$ を次のように定義する。\n",
    "\n",
    "$$\n",
    "f_l * g_l=\\frac{1}{N} \\sum_{m=0}^{N-1} f_m g_{l-m}\n",
    "$$\n",
    "\n",
    ":::\n",
    "\n",
    "\n",
    ":::{admonition} 畳み込み和定理\n",
    "\n",
    "周期 $N$ のデータ $\\left\\{f_l\\right\\},\\left\\{g_l\\right\\}$ の離散フーリエ変換をそれぞれ $\\left\\{F_k\\right\\},\\left\\{G_k\\right\\}$ とするとき、 $\\left\\{f_l * g_l\\right\\}$ の離散フーリエ変換は $\\left\\{F_k G_k\\right\\}$ である\n",
    ":::\n",
    "\n",
    "\n",
    ":::{dropdown} 証明\n",
    "\n",
    "$$\n",
    "\\begin{aligned}\n",
    "\\frac{1}{N} \\sum_{l=0}^{N-1} f_l * g_l e^{-i 2 \\pi k l / N} & =\\frac{1}{N} \\sum_{l=0}^{N-1}\\left(\\frac{1}{N} \\sum_{m=0}^{N-1} f_m g_{l-m}\\right) e^{-i 2 \\pi k l / N} \\\\\n",
    "& =\\frac{1}{N} \\sum_{m=0}^{N-1} f_m\\left(\\frac{1}{N} \\sum_{l=0}^{N-1} g_{l-m} e^{-i 2 \\pi k l / N}\\right) \\\\\n",
    "& =\\frac{1}{N} \\sum_{m=0}^{N-1} f_m\\left(\\frac{1}{N} \\sum_{l^{\\prime}=-m}^{N-1-m} g_{l^{\\prime}} e^{-i 2 \\pi k\\left(l^{\\prime}+m\\right) / N}\\right) \\\\\n",
    "& =\\frac{1}{N} \\sum_{m=0}^{N-1} f_m\\left(\\frac{1}{N} \\sum_{l^{\\prime}=0}^{N-1} g_{l^{\\prime}} e^{-i 2 \\pi k l^{\\prime} / N}\\right) e^{-i 2 \\pi k m / N} \\\\\n",
    "& =\\left(\\frac{1}{N} \\sum_{m=0}^{N-1} f_m e^{-i 2 \\pi k m / N}\\right)\\left(\\frac{1}{N} \\sum_{l^{\\prime}=0}^{N-1} g_{l^{\\prime}} e^{-i 2 \\pi k l^{\\prime} / N}\\right) \\\\\n",
    "& =F_k G_k\n",
    "\\end{aligned}\n",
    "$$\n",
    "\n",
    ":::"
   ]
  },
  {
   "cell_type": "markdown",
   "id": "ea5573af-940b-4fe1-875b-f41083807319",
   "metadata": {},
   "source": [
    "## パワースペクトル\n",
    "\n",
    ":::{admonition} パーセバルの式\n",
    "\n",
    "$$\n",
    "\\frac{1}{N} \\sum_{l=0}^{N-1} f_l \\overline{g_l}=\\sum_{k=0}^{N-1} F_k \\overline{G_k}, \\quad \\frac{1}{N} \\sum_{l=0}^{N-1}\\left|f_l\\right|^2=\\sum_{k=0}^{N-1}\\left|F_k\\right|^2\n",
    "$$\n",
    "\n",
    ":::\n"
   ]
  },
  {
   "cell_type": "markdown",
   "id": "dc093989-4a8d-44f8-8c3e-9c2ecbc4e0b2",
   "metadata": {},
   "source": [
    "$(1 / N) \\sum_{l=0}^{N-1}\\left|f_l\\right|^2$ は $\\left\\{f_l\\right\\}$ の平均エネルギーを表しているとみなせる。パーセバルの式の第2式はこれが $\\sum_{k=0}^{N-1}\\left|F_k\\right|^2$ で表されることを意味している。したがってパワースペクトルを\n",
    "\n",
    "$$\n",
    "P_k := |F_k|^2\n",
    "$$\n",
    "\n",
    "と定義するとパーセバルの式の第2式は\n",
    "\n",
    "$$\n",
    "\\frac{1}{N} \\sum_{l=0}^{N-1}\\left|f_l\\right|^2=\\sum_{k=0}^{N-1} P_k\n",
    "$$\n",
    "\n",
    "と書き換えることができる。"
   ]
  },
  {
   "cell_type": "markdown",
   "id": "7908b96a-84ff-41c4-a62c-54a8a43685dc",
   "metadata": {},
   "source": [
    "データ$\\{f_k\\}$が実数のとき、$F_{-k} = \\overline{F_k}$であるから$P_{-k} = P_k$である。なので$P_k$のグラフを$k = \\dots, -2, -1, 0, 1, 2, \\dots$に対してプロットすると$k=0$に関して左右対称になる。"
   ]
  },
  {
   "cell_type": "code",
   "execution_count": 12,
   "id": "e8cbbdbf-9033-4ac9-b8c4-b6012775c664",
   "metadata": {
    "jupyter": {
     "source_hidden": true
    },
    "tags": [
     "hide-input"
    ]
   },
   "outputs": [
    {
     "data": {
      "image/png": "[encoded data removed]",
      "text/plain": [
       "<Figure size 640x480 with 2 Axes>"
      ]
     },
     "metadata": {},
     "output_type": "display_data"
    }
   ],
   "source": [
    "import numpy as np\n",
    "import matplotlib.pyplot as plt\n",
    "\n",
    "# サンプルデータを生成する\n",
    "N = 1000\n",
    "d = 0.0001 # サンプリング周期\n",
    "t = np.arange(0, N * d, d) # 時間\n",
    "\n",
    "f = np.zeros_like(t)\n",
    "components = [\n",
    "    # (スペクトルF_k, 周期θ)\n",
    "    (1.5, 50),\n",
    "    (2, 100),\n",
    "    (2.5, 200),\n",
    "    (2, 300),\n",
    "    (1, 500),\n",
    "]\n",
    "for F_k, frequency_k in components:\n",
    "    f += F_k * np.sin(t * 2 * np.pi * frequency_k)\n",
    "\n",
    "F = np.fft.fft(f) # フーリエ変換\n",
    "freq = np.fft.fftfreq(N, d=d)  # 周波数スケール\n",
    "\n",
    "# 振幅スペクトル Amplitude の取得\n",
    "# 振幅スペクトルは信号をフーリエ変換した結果の絶対値をとったもの\n",
    "Amp = np.abs(F)\n",
    "Amp = Amp / (N / 2) # 正規化\n",
    "Pow = Amp**2\n",
    "\n",
    "# 結果をプロット\n",
    "fig, axes = plt.subplots(nrows=2)\n",
    "axes[0].plot(t, f)\n",
    "axes[0].set(title=r'Data $\\{ f_l \\}$', xlabel=r\"$l$\", ylabel=r\"$f_l$\")\n",
    "\n",
    "axes[1].stem(freq, Pow, 'r', markerfmt=\" \", basefmt=\" \")\n",
    "# 左右対称なので正の値だけ N//2 で取り出してもいい\n",
    "# axes[1].stem(freq[:N//2], Amp[:N//2], 'r', markerfmt=\" \", basefmt=\" \")\n",
    "axes[1].set(title=f'Power $P_k$', xlabel=r'$k$', ylabel=r'$P_k$', xlim=(-550, 550))\n",
    "\n",
    "fig.tight_layout()\n",
    "fig.show()"
   ]
  },
  {
   "cell_type": "code",
   "execution_count": 16,
   "id": "6103af79-6b08-481a-a4fa-9f9c6118410f",
   "metadata": {
    "jupyter": {
     "source_hidden": true
    },
    "tags": [
     "hide-input"
    ]
   },
   "outputs": [
    {
     "data": {
      "image/png": "[encoded data removed]",
      "text/plain": [
       "<Figure size 640x480 with 2 Axes>"
      ]
     },
     "metadata": {},
     "output_type": "display_data"
    }
   ],
   "source": [
    "import numpy as np\n",
    "import matplotlib.pyplot as plt\n",
    "\n",
    "# サンプルデータを生成する\n",
    "N = 100\n",
    "d = 0.001 # サンプリング周期\n",
    "t = np.arange(0, N * d, d) # 時間\n",
    "\n",
    "f = np.zeros_like(t)\n",
    "for k in range(2 * N):  # 適当にNより大きいkにしてみる\n",
    "    F_k = k\n",
    "    frequency_k = k\n",
    "    f += F_k * np.sin(t * 2 * np.pi * frequency_k)\n",
    "\n",
    "F = np.fft.fft(f) # フーリエ変換\n",
    "freq = np.fft.fftfreq(N, d=d)  # 周波数スケール\n",
    "\n",
    "# 振幅スペクトル Amplitude の取得\n",
    "# 振幅スペクトルは信号をフーリエ変換した結果の絶対値をとったもの\n",
    "Amp = np.abs(F)\n",
    "Amp = Amp / (N / 2) # 正規化\n",
    "Pow = Amp**2\n",
    "\n",
    "# 結果をプロット\n",
    "fig, axes = plt.subplots(nrows=2)\n",
    "axes[0].plot(t, f)\n",
    "axes[0].set(title=r'Data $\\{ f_l \\}$', xlabel=r\"$l$\", ylabel=r\"$f_l$\")\n",
    "\n",
    "axes[1].stem(freq, Pow, 'r', markerfmt=\" \", basefmt=\" \")\n",
    "# 左右対称なので正の値だけ N//2 で取り出してもいい\n",
    "# axes[1].stem(freq[:N//2], Amp[:N//2], 'r', markerfmt=\" \", basefmt=\" \")\n",
    "axes[1].set(title=f'Power $P_k$', xlabel=r'$k$', ylabel=r'$P_k$')\n",
    "\n",
    "fig.tight_layout()\n",
    "fig.show()"
   ]
  },
  {
   "cell_type": "markdown",
   "id": "481fd8ed-664c-4106-bc48-b20bcc3d8cba",
   "metadata": {},
   "source": [
    "## 自己相関係数\n",
    "\n",
    "周期 $N$ のデータ $\\{f_l\\}$ の自己相関係数 $\\{R_n\\}$ を次のように定義する。\n",
    "\n",
    "$$\n",
    "R_n=\\frac{1}{N} \\sum_{l=0}^{N-1} f_l \\overline{f_{l-n}}\n",
    "$$\n",
    "\n"
   ]
  },
  {
   "cell_type": "markdown",
   "id": "9f6c8f46-1ffb-4bbe-aa53-51a1b6840eb7",
   "metadata": {},
   "source": [
    "## ウィーナー・ヒンチンの定理\n",
    "\n",
    ":::{admonition} ウィーナー・ヒンチンの定理\n",
    "\n",
    "周期 $N$ のデータ $\\left\\{f_l\\right\\}$ の自己相関係数 $\\left\\{R_n\\right\\}$ の離散フーリエ変換はパワースペクトルに等しい\n",
    "\n",
    "$$\n",
    "P_k=\\frac{1}{N} \\sum_{n=0}^{N-1} R_n e^{-i 2 \\pi k n / N}\n",
    "$$\n",
    ":::\n",
    "\n",
    "\n",
    ":::{dropdown} 証明\n",
    "\n",
    "$$\n",
    "\\begin{aligned}\n",
    "\\frac{1}{N} \\sum_{n=0}^{N-1} R_n e^{-i 2 \\pi k n / N} & =\\frac{1}{N} \\sum_{n=0}^{N-1}\\left(\\frac{1}{N} \\sum_{l=0}^{N-1} f_l \\overline{f_{l-n}}\\right) e^{-i 2 \\pi k n / N} \\\\\n",
    "& =\\frac{1}{N} \\sum_{l=0}^{N-1} f_l\\left(\\frac{1}{N} \\sum_{n=0}^{N-1} \\overline{f_{l-n}} e^{-i 2 \\pi k n / N}\\right) \\\\\n",
    "& =\\frac{1}{N} \\sum_{l=0}^{N-1} \\overline{f_l\\left(\\frac{1}{N} \\sum_{n=0}^{N-1} f_{l-n} e^{i 2 \\pi k n / N}\\right)} \\\\\n",
    "& =\\frac{1}{N} \\sum_{l=0}^{N-1} f_l\\left(\\frac{1}{N} \\sum_{n^{\\prime}=0}^{N-1} f_{n^{\\prime}} e^{i 2 \\pi k\\left(l-n^{\\prime}\\right) / N}\\right) \\\\\n",
    "& = \\left(\\frac{1}{N} \\sum_{l=0}^{N-1} f_l e^{-i 2 \\pi k l / N}\\right) \\overline{\\left(\\frac{1}{N} \\sum_{n^{\\prime}=0}^{N-1} f_{n^{\\prime}} e^{-i 2 \\pi k n^{\\prime} / N}\\right)}\n",
    "\\\\\n",
    "& =F_k \\overline{F_k}=\\left\\lvert\\, \\frac{1}{N} \\sum_{n^{\\prime}=0}^{N-1} f^2=P_k\\right.\n",
    "\\end{aligned}\n",
    "$$\n",
    ":::"
   ]
  },
  {
   "cell_type": "markdown",
   "id": "3a2028ad-607e-408c-a932-df73b7a7d783",
   "metadata": {},
   "source": [
    "## まとめ\n",
    "\n",
    "$$\n",
    "\\begin{array}{ccc}\n",
    "f_l & \\longrightarrow & F_k=\\frac{1}{N} \\sum_{l=0}^{N-1} f_l e^{-i 2 \\pi k l / N}\n",
    "\\\\\n",
    "\\downarrow & & \\downarrow \\\\\n",
    "R_n=\\frac{1}{N} \\sum_{l=0}^{N-1} f_l \\overline{f_{l-n}}\n",
    "& \\longrightarrow & P_k=\\left\\{\\begin{array}{l}\n",
    "\\left|F_k\\right|^2 \\\\\n",
    "\\frac{1}{N} \\sum_{n=0}^{N-1} R_n e^{-i 2 \\pi k n / N}\n",
    "\\end{array}\\right.\n",
    "\\end{array}\n",
    "$$"
   ]
  },
  {
   "cell_type": "markdown",
   "id": "bc5b3d38-6315-4204-8fe3-efdc4612641e",
   "metadata": {},
   "source": [
    "\n",
    "連続のフーリエ変換と同様に、ウィーナー・ヒンチンの定理を使うことでもパワースペクトルを得ることができる。\n",
    "\n",
    "しかし離散の場合は高速フーリエ変換があるため、ウィーナー・ヒンチンの定理を使うことによる計算量削減などの効果は相対的に低い。実用上は高速フーリエ変換一択になる。\n"
   ]
  }
 ],
 "metadata": {
  "kernelspec": {
   "display_name": "Python 3 (ipykernel)",
   "language": "python",
   "name": "python3"
  },
  "language_info": {
   "codemirror_mode": {
    "name": "ipython",
    "version": 3
   },
   "file_extension": ".py",
   "mimetype": "text/x-python",
   "name": "python",
   "nbconvert_exporter": "python",
   "pygments_lexer": "ipython3",
   "version": "3.10.15"
  }
 },
 "nbformat": 4,
 "nbformat_minor": 5
}
