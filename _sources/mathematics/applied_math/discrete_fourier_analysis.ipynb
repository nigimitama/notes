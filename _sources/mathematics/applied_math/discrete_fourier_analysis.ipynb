{
 "cells": [
  {
   "cell_type": "markdown",
   "id": "b832c073-baf9-4d00-84f4-f6f902c4a763",
   "metadata": {},
   "source": [
    "# 離散フーリエ変換"
   ]
  },
  {
   "cell_type": "markdown",
   "id": "761dc1a3-8cc5-4489-afee-68957afe5319",
   "metadata": {},
   "source": [
    "## 離散フーリエ変換"
   ]
  },
  {
   "cell_type": "markdown",
   "id": "e861070b-5017-45e5-98ca-fe40cf6fa34d",
   "metadata": {},
   "source": [
    "### 複素フーリエ級数\n",
    "\n",
    "$\\theta$を角度とすると、円周に沿って値が定義された関数$f(\\theta)$（sinやcosなどのこと？？）は周期$T=2\\pi$の周期関数であり、$\\theta$に$2\\pi$の任意の整数倍を足しても引いても$f(\\theta)$は同じ値になる。\n",
    "\n",
    "フーリエ係数の複素表示\n",
    "\n",
    "$$\n",
    "f(t)=\\sum_{k=-\\infty}^{\\infty} C_k e^{i k \\omega_o t}, \\quad C_k=\\frac{1}{T} \\int_{-T / 2}^{T / 2} f(t) e^{-i k \\omega_o t} \\mathrm{~d} t\n",
    "$$\n",
    "\n",
    "より、$f(\\theta)$の基本周波数は$\\omega_0=2\\pi/T = 1$であるから、$f(\\theta)$のフーリエ級数は、\n",
    "\n",
    "\n",
    "$$\n",
    "f(\\theta)=\\sum_{k=-\\infty}^{\\infty} C_k e^{i k \\theta}, \\quad C_k=\\frac{1}{2 \\pi} \\int_{-\\pi}^\\pi f(\\theta) e^{-i k \\theta} d \\theta\n",
    "$$\n",
    "\n",
    "と書くことができる。"
   ]
  },
  {
   "cell_type": "markdown",
   "id": "7da10c47-b525-4646-913a-62257b06e8f2",
   "metadata": {},
   "source": [
    "### 離散フーリエ変換\n",
    "\n",
    "円周上を$N$分割し、$N$個のサンプル点をとる\n",
    "\n",
    "$$\n",
    "\\theta_l=\\frac{2 \\pi l}{N}, \\quad l=0,1,2, \\ldots, N-1\n",
    "$$\n",
    "\n",
    "このサンプル点での $f(\\theta)$ のサンプル値を $f_l=f\\left(\\theta_l\\right)$ とする。\n",
    "\n",
    "前述のフーリエ係数は連続関数 $f(\\theta)$ を無限個の係数 $\\left\\{C_k\\right\\}, k=0, \\pm 1, \\pm 2, \\pm 3, \\ldots$, で表すものだが、 もし $N$ 個のサンプル値 $\\left\\{f_l\\right\\}$ のみが必要な場合は $N$ 個の係数のみで表される。\n",
    "\n",
    "$$\n",
    "f_l=\\sum_{k=0}^{N-1} F_k e^{i 2 \\pi k l / N}, \\quad F_k=\\frac{1}{N} \\sum_{l=0}^{N-1} f_l e^{-i 2 \\pi k l / N}\n",
    "$$\n",
    "\n",
    "係数 $\\left\\{F_k\\right\\}$ をデータ $\\left\\{f_l\\right\\}$ の **離散フーリエ変換** と呼ぶ。\n"
   ]
  },
  {
   "cell_type": "markdown",
   "id": "d9dbf5c5-bf86-4887-ba2c-11fdceadcec9",
   "metadata": {},
   "source": [
    "説明の都合上, データ $f_l$ の添え字 $l=0,1, \\ldots, N$ をデータ番号, 離散フーリエ変換 $F_k$ の添え字 $k=0,1, \\ldots, N$ を周波数番号と呼ぶ.\n"
   ]
  },
  {
   "cell_type": "markdown",
   "id": "3958eb29-0ea2-413e-8042-a9f480f2745b",
   "metadata": {},
   "source": [
    "離散フーリエ変換$F_k$はデータ$f_l$に$e^{i 2 \\pi k l / N}$の共役複素数$e^{-i 2 \\pi k l / N}$を掛けて$l=0,1,\\dots,N-1$にわたって足して$N$で割ったもの"
   ]
  },
  {
   "cell_type": "code",
   "execution_count": null,
   "id": "f210c2e1-9e1c-48e2-b58a-0066caf0b5ff",
   "metadata": {},
   "outputs": [],
   "source": []
  }
 ],
 "metadata": {
  "kernelspec": {
   "display_name": "Python 3 (ipykernel)",
   "language": "python",
   "name": "python3"
  },
  "language_info": {
   "codemirror_mode": {
    "name": "ipython",
    "version": 3
   },
   "file_extension": ".py",
   "mimetype": "text/x-python",
   "name": "python",
   "nbconvert_exporter": "python",
   "pygments_lexer": "ipython3",
   "version": "3.10.15"
  }
 },
 "nbformat": 4,
 "nbformat_minor": 5
}
