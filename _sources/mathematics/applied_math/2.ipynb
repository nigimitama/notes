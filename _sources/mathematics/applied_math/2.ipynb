{
 "cells": [
  {
   "cell_type": "markdown",
   "id": "ed4d7f5d-43f9-44e9-96bc-de3aaac1f42d",
   "metadata": {},
   "source": [
    "# 応用数学 ch2メモ\n"
   ]
  },
  {
   "cell_type": "markdown",
   "id": "2a0b6433-7948-40ed-aa0e-13a92656e7eb",
   "metadata": {},
   "source": [
    "## 直交関数展開\n",
    "\n",
    "区間 $[a, b]$ 上の関数 $f(x), g(x)$ が\n",
    "\n",
    "$$\n",
    "\\int_a^b f(x) g(x) \\mathrm{d} x=0\n",
    "$$\n",
    "\n",
    "のとき **直交する** という。\n",
    "\n",
    "関数 $\\phi_0(x), \\phi_1(x), \\ldots, \\phi_n(x)$ が互いに直交するとき、すなわち\n",
    "\n",
    "$$\n",
    "\\int_a^b \\phi_i(x) \\phi_j(x) \\mathrm{d} x=0, \\quad i \\neq j\n",
    "$$\n",
    "\n",
    "のとき、これらは区間$[a,b]$上の **直交関数系** であるという。とくに$\\phi_i(x)$が$x$の多項式なら、これを **直交多項式** という。"
   ]
  },
  {
   "cell_type": "markdown",
   "id": "67f9e040-d146-4b6b-b080-2a5513135e0c",
   "metadata": {},
   "source": [
    ":::{card} 直交多項式の例：ルジャンドルの多項式\n",
    "\n",
    "次の関数 $P_n(x), n=0,1,2, \\ldots$, は $n$ 次の **ルジャンドルの多項式** と呼ばれる。\n",
    "\n",
    "$$\n",
    "\\begin{aligned}\n",
    "P_0(x) &= 1 \\\\\n",
    "P_1(x) &= x \\\\\n",
    "P_2(x) &= \\frac{1}{2}\\left(3 x^2-1\\right) \\\\\n",
    "P_3(x) &= \\frac{1}{2}\\left(5 x^3-3 x\\right) \\\\\n",
    "P_4(x) &= \\frac{1}{8}\\left(35 x^4-30 x^2+3\\right) \\\\\n",
    "P_5(x) &= \\frac{1}{8}\\left(63 x^5-70 x^3+15 x\\right) \\\\\n",
    "P_6(x) &= \\frac{1}{16}\\left(231 x^6-315 x^4+105 x^2-5\\right)\\\\\n",
    "& \\vdots\n",
    "\\end{aligned}\n",
    "$$\n",
    "\n",
    "これらは区間 $[-1,1]$ 上の直交関数系であり, 次の直交関係が成立する.\n",
    "\n",
    "$$\n",
    "\\int_{-1}^1 P_n(x) P_m(x) \\mathrm{d} x= \\begin{cases}\\frac{2}{2 n+1} & n=m \\text { のとき } \\\\ 0 & n \\neq m \\text { のとき }\\end{cases}\n",
    "$$\n",
    "\n",
    "$P_n(x)$ の一般式が次式で表せることが知られている（ロドリゲスの公式）.\n",
    "\n",
    "$$\n",
    "P_n(x)=\\frac{1}{2^n n!} \\frac{\\mathrm{d}^n\\left(x^2-1\\right)^n}{\\mathrm{~d} x^n}\n",
    "$$\n",
    "\n",
    "\n",
    ":::"
   ]
  },
  {
   "cell_type": "markdown",
   "id": "cf08acfe-ffd8-462e-8a11-4b2b8c73aa69",
   "metadata": {},
   "source": []
  },
  {
   "cell_type": "code",
   "execution_count": null,
   "id": "62369ba5-8a28-48fa-b9e5-0b4d41f987bb",
   "metadata": {},
   "outputs": [],
   "source": []
  }
 ],
 "metadata": {
  "kernelspec": {
   "display_name": "Python 3 (ipykernel)",
   "language": "python",
   "name": "python3"
  },
  "language_info": {
   "codemirror_mode": {
    "name": "ipython",
    "version": 3
   },
   "file_extension": ".py",
   "mimetype": "text/x-python",
   "name": "python",
   "nbconvert_exporter": "python",
   "pygments_lexer": "ipython3",
   "version": "3.10.15"
  }
 },
 "nbformat": 4,
 "nbformat_minor": 5
}
