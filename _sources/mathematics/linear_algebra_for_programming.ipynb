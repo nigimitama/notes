{
 "cells": [
  {
   "cell_type": "markdown",
   "id": "19e8790e-0e70-4531-92b9-6f4940afb200",
   "metadata": {},
   "source": [
    "# 『プログラミングのための線形代数』メモ"
   ]
  },
  {
   "cell_type": "markdown",
   "id": "2a2eb4bb-2824-46c0-90b1-0b2d11842688",
   "metadata": {},
   "source": [
    "## 第1章 ベクトル・行列・行列式"
   ]
  },
  {
   "cell_type": "code",
   "execution_count": null,
   "id": "03c32634-0fc0-49e8-9333-476c9f66adb1",
   "metadata": {},
   "outputs": [],
   "source": []
  }
 ],
 "metadata": {
  "kernelspec": {
   "display_name": "Python 3 (ipykernel)",
   "language": "python",
   "name": "python3"
  },
  "language_info": {
   "codemirror_mode": {
    "name": "ipython",
    "version": 3
   },
   "file_extension": ".py",
   "mimetype": "text/x-python",
   "name": "python",
   "nbconvert_exporter": "python",
   "pygments_lexer": "ipython3",
   "version": "3.9.18"
  }
 },
 "nbformat": 4,
 "nbformat_minor": 5
}
