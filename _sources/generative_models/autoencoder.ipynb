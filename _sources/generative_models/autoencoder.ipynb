{
 "cells": [
  {
   "cell_type": "markdown",
   "id": "5c1ac5ae-bdf3-45b2-81bb-019d981bd644",
   "metadata": {},
   "source": [
    "# Autoencoder\n",
    "\n",
    "\n",
    "autoencoderは入力データとできる限り近い値を出す\n",
    "\n",
    "中間層における潜在変数を学習したい"
   ]
  },
  {
   "cell_type": "markdown",
   "id": "5a5ed4d9-b762-4ab5-aa6d-4bb84ec81d14",
   "metadata": {},
   "source": [
    "## VAE\n",
    "\n",
    "\n",
    "\n",
    "[KDD2022_ja.pdf](https://takahashihiroshi.github.io/slides/KDD2022_ja.pdf)\n",
    "\n"
   ]
  },
  {
   "cell_type": "code",
   "execution_count": null,
   "id": "77e4eab9-6cba-4052-a3d2-a19cccdf2017",
   "metadata": {},
   "outputs": [],
   "source": []
  }
 ],
 "metadata": {
  "kernelspec": {
   "display_name": "Python 3",
   "language": "python",
   "name": "python3"
  },
  "language_info": {
   "codemirror_mode": {
    "name": "ipython",
    "version": 3
   },
   "file_extension": ".py",
   "mimetype": "text/x-python",
   "name": "python",
   "nbconvert_exporter": "python",
   "pygments_lexer": "ipython3",
   "version": "3.8.10"
  }
 },
 "nbformat": 4,
 "nbformat_minor": 5
}
