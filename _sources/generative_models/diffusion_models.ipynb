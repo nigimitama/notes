{
 "cells": [
  {
   "cell_type": "markdown",
   "id": "013684f6-6ca5-425e-b9c8-db4827fc9cab",
   "metadata": {},
   "source": [
    "# Diffusion Models\n"
   ]
  },
  {
   "cell_type": "code",
   "execution_count": null,
   "id": "9a9dc442-e367-4b67-b5b8-f790d7e02f1e",
   "metadata": {},
   "outputs": [],
   "source": []
  },
  {
   "cell_type": "markdown",
   "id": "80ebfc77-3343-4d81-b698-258ac1c6bd3e",
   "metadata": {},
   "source": [
    "## 参考\n",
    "\n",
    "- [Luo, C. (2022). Understanding Diffusion Models: A Unified Perspective. arXiv preprint arXiv:2208.11970.](https://arxiv.org/abs/2208.11970)\n"
   ]
  },
  {
   "cell_type": "code",
   "execution_count": null,
   "id": "816d3645-b643-4db9-9eb0-d499f610040b",
   "metadata": {},
   "outputs": [],
   "source": []
  }
 ],
 "metadata": {
  "kernelspec": {
   "display_name": "Python 3 (ipykernel)",
   "language": "python",
   "name": "python3"
  },
  "language_info": {
   "codemirror_mode": {
    "name": "ipython",
    "version": 3
   },
   "file_extension": ".py",
   "mimetype": "text/x-python",
   "name": "python",
   "nbconvert_exporter": "python",
   "pygments_lexer": "ipython3",
   "version": "3.9.13"
  }
 },
 "nbformat": 4,
 "nbformat_minor": 5
}
