{
 "cells": [
  {
   "cell_type": "markdown",
   "id": "8e7d4cc1-5c34-4626-8fc9-85db830fbb89",
   "metadata": {},
   "source": [
    "# GAN"
   ]
  },
  {
   "cell_type": "markdown",
   "id": "93022f51-1f53-4768-8b85-3608347fbe6e",
   "metadata": {},
   "source": [
    "**敵対的生成ネットワーク（GAN: Generative Adversarial Networks）** は、生成器（generator）と識別器（discriminator）の2つのネットワークを競わせながら学習することで、より本物らしい画像の生成を行うモデル"
   ]
  },
  {
   "cell_type": "markdown",
   "id": "ff3ca50c-d949-4f90-859e-6220e00dc581",
   "metadata": {},
   "source": [
    "[今さら聞けないGAN（1）　基本構造の理解 #Python - Qiita](https://qiita.com/triwave33/items/1890ccc71fab6cbca87e)"
   ]
  }
 ],
 "metadata": {
  "kernelspec": {
   "display_name": "Python 3 (ipykernel)",
   "language": "python",
   "name": "python3"
  },
  "language_info": {
   "codemirror_mode": {
    "name": "ipython",
    "version": 3
   },
   "file_extension": ".py",
   "mimetype": "text/x-python",
   "name": "python",
   "nbconvert_exporter": "python",
   "pygments_lexer": "ipython3",
   "version": "3.10.14"
  }
 },
 "nbformat": 4,
 "nbformat_minor": 5
}
