{
 "cells": [
  {
   "cell_type": "markdown",
   "id": "237a2c85-71b5-4b45-885f-b7768a3692fc",
   "metadata": {},
   "source": [
    "# AIのビジネス応用\n",
    "\n",
    "どういうときに使うのか？の判断\n"
   ]
  },
  {
   "cell_type": "markdown",
   "id": "cd6d20a3-dacc-4ff5-a7e7-bcf0a7315b34",
   "metadata": {},
   "source": [
    "## どういうときにAIを使うべきか\n",
    "\n",
    "### どういうときに「AIでなくていい」になるか\n",
    "\n",
    "- 人間のコストが安い\n",
    "- 人間であることに価値がある（信頼性、責任の問題、法律上の制約）\n",
    "- 人間にも難しいタスク\n",
    "- ルールベースのほうが適している\n",
    "    - 問題が単純で、特徴空間の変化がない（例：決まったフォーマットの画像の読み取り → OCRとルールベースで十分）\n",
    "    - 高い透明性・説明性が必要\n",
    "\n",
    "### どういうときにAIだとうまくいくのか\n",
    "\n",
    "- 規模が大きいケース\n",
    "    - 1%の改善が大きな利益額になる世界\n",
    "    - 大量に処理する必要があり、人間では無理（例：ECのレコメンド）\n",
    "- 人間でない方がいいケース\n",
    "    - ある意味で「公平性」があることが価値を持つ場合\n",
    "    - 人間がやるには価値が低い仕事（例：不動産の売却に興味のある人からの連絡を得るためのマーケティングとしての物件の価格査定を人からAIに置き換える）"
   ]
  },
  {
   "cell_type": "markdown",
   "id": "f71fa383-6864-4fde-98c5-93c404e5c876",
   "metadata": {},
   "source": [
    "## 参考\n",
    "\n",
    "[LLMの普及による機械学習の民主化とMLPdMの重要性 / democratization-of-ml-and-importance-of-mlpdm-by-llm - Speaker Deck](https://speakerdeck.com/yuya4/democratization-of-ml-and-importance-of-mlpdm-by-llm?slide=14)\n",
    "- MLPdM：MLを使うべきところを見極めてプロダクトに入れられるひと"
   ]
  }
 ],
 "metadata": {
  "kernelspec": {
   "display_name": "Python 3 (ipykernel)",
   "language": "python",
   "name": "python3"
  },
  "language_info": {
   "codemirror_mode": {
    "name": "ipython",
    "version": 3
   },
   "file_extension": ".py",
   "mimetype": "text/x-python",
   "name": "python",
   "nbconvert_exporter": "python",
   "pygments_lexer": "ipython3",
   "version": "3.10.18"
  }
 },
 "nbformat": 4,
 "nbformat_minor": 5
}
