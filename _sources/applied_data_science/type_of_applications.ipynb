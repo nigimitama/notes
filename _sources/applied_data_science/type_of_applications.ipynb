{
 "cells": [
  {
   "cell_type": "markdown",
   "id": "41dfbac6-a219-4b4d-8515-61dc325b6a64",
   "metadata": {},
   "source": [
    "# データサイエンス応用の類型\n"
   ]
  },
  {
   "cell_type": "markdown",
   "id": "4566d6bf-1061-4c60-b2e8-5c7a26b4ad2e",
   "metadata": {},
   "source": [
    "## 予測\n",
    "\n",
    "### 数値予測\n",
    "\n",
    "価格予測、需要予測、気象予測、待ち時間予測など"
   ]
  },
  {
   "cell_type": "markdown",
   "id": "4e1e7e32-bfe6-4976-9d94-49957a6f978a",
   "metadata": {},
   "source": [
    "\n",
    ":::{card} 例：農作物の生産量予測\n",
    "\n",
    "[「高知県園芸品生産予測システム」を開発し、AIで生産量を予測する共同実証を開始 : 富士通](https://pr.fujitsu.com/jp/news/2018/12/3.html)\n",
    "\n",
    ":::"
   ]
  },
  {
   "cell_type": "markdown",
   "id": "9f2e21e0-8ad4-43e4-9529-3611ae22ce8a",
   "metadata": {},
   "source": [
    ":::{card} 例：土地の価格予測\n",
    "\n",
    "- 論文：[井筒雄介, 中川歩, & 笠間俊夫. (2022). 機械学習を用いた土地価格の予測. 人工知能学会第二種研究会資料, 2022(FIN-029), 61-66.](https://www.jstage.jst.go.jp/article/jsaisigtwo/2022/FIN-029/2022_61/_article/-char/ja/)\n",
    "- 解説ブログ記事：[機械学習を用いた土地価格の予測 #回帰 - Qiita](https://qiita.com/mhrt-tech-biz-blog/items/6c4a49d0a1c95285f67b)\n",
    "\n",
    "\n",
    "みずほ銀行の土地価格予測。\n",
    "\n",
    "特徴量として、\n",
    "\n",
    "1. 最寄り駅までの直線距離\n",
    "2. 駅の方角\n",
    "3. 最寄り駅の乗降客数\n",
    "4. 昼夜間人口比率\n",
    "5. 東京駅までの直線距離\n",
    "6. 各都県の最も乗降客数が多い駅までの直線距離（東京都：新宿駅，神奈川県：横浜駅，埼玉県：大宮駅，千葉県：西船橋駅）\n",
    "\n",
    "を使うことで、MAPE20%程度の精度とのこと。\n",
    "\n",
    "GBDTより線形モデルのほうがやや優れていたとのこと。\n",
    ":::"
   ]
  },
  {
   "cell_type": "markdown",
   "id": "0d0b92ba-4a47-4206-9ad2-18e350965d77",
   "metadata": {},
   "source": [
    "### 確率予測\n",
    "\n",
    "CVR（クリック率や成約率）予測、配達可能確率、降水確率の予測など"
   ]
  },
  {
   "cell_type": "markdown",
   "id": "f9d2b06f-3e83-4505-a475-7dd6e627bb8e",
   "metadata": {},
   "source": [
    "### 異常検知\n",
    "\n",
    "不良品の検知など"
   ]
  },
  {
   "cell_type": "markdown",
   "id": "95c0fc38-dcad-40d2-8bb4-2f51ac66e333",
   "metadata": {},
   "source": [
    "### 状態推定\n",
    "\n",
    "農作物やインフラ設備の内部状態を推定する"
   ]
  },
  {
   "cell_type": "markdown",
   "id": "0a71169e-2413-46f9-964f-b213ad608f71",
   "metadata": {},
   "source": [
    ":::{card} 例：地下鉄トンネルの状態をスコアリング\n",
    "\n",
    "トンネルの各区間のひび割れや傷などの情報から、各区間の維持管理指標をスコアリング\n",
    "\n",
    "項目反応理論（IRT）を用いてスコアリング\n",
    "\n",
    "$$\n",
    "\\begin{aligned}\n",
    "&P_{i j}=\\frac{1}{1+\\exp \\left(-a_j\\left(\\theta_i-b_j\\right)\\right)}\\\\\n",
    "&\\theta \\sim \\operatorname{Gamma} \\text { (shape, scale) }\n",
    "\\end{aligned}\n",
    "$$\n",
    "\n",
    "$a$は識別力、$b$は困難度、$P$は変状箇所の観測確率、$\\theta$が維持管理指標（高いほどリスクが高いので対応の優先度が高い）\n",
    "\n",
    "- [「データサイエンスアワード2017」で最優秀賞を受賞！｜東京メトロ](https://www.tokyometro.jp/news/2017/190411.html)\n",
    "- http://www.datascientist.or.jp/symp/2017/pdf/award_tokyometro.pdf\n",
    "\n",
    ":::"
   ]
  },
  {
   "cell_type": "markdown",
   "id": "d6a0e07e-e467-49c7-8e4a-69f01018320c",
   "metadata": {},
   "source": [
    "## 意思決定（推薦・最適化）\n",
    "\n",
    "\n"
   ]
  },
  {
   "cell_type": "markdown",
   "id": "35b833ee-6ceb-4f8c-8126-249981dc99ac",
   "metadata": {},
   "source": [
    "### 推薦"
   ]
  },
  {
   "cell_type": "markdown",
   "id": "f3df2009-6c09-423b-98d8-9c8ac990057b",
   "metadata": {},
   "source": [
    ":::{card} 例：Amazonで、商品を空輸してまで「翌日にお届け可能です」を表示するかどうか\n",
    "\n",
    "- 課題：Amazonにて、ある商品について「空輸してでもすぐに配送すべきか」の判断を最適化して「翌日配送」の表示を改善したい\n",
    "- 手法：統計的因果推論を使用して期待売上を推定し、輸送可能量の制約の下での売上最大化問題として解く\n",
    "- 結果：online evaluation（A/Bテスト）でも検証され、ベースラインのモデルよりも売上を0.79%増加させたことが確認された\n",
    "\n",
    "参考\n",
    "- 論文：[Mondal, A., Majumder, A., & Chaoji, V. (2022, August). Aspire: Air shipping recommendation for e-commerce products via causal inference framework. In Proceedings of the 28th ACM SIGKDD Conference on Knowledge Discovery and Data Mining (pp. 3584-3592).](https://dl.acm.org/doi/abs/10.1145/3534678.3539197)\n",
    "- 解説Blog：[\"ASPIRE: Air Shipping Recommendation for E-commerce Products via Causal Inference Framework\"を読んだ｜Masayoshi Mita](https://note.com/kind_ixia1/n/n3d7388449914)\n",
    "\n",
    ":::"
   ]
  },
  {
   "cell_type": "markdown",
   "id": "15960176-b937-47cf-96f2-eaac11f90d8c",
   "metadata": {},
   "source": [
    ":::{card} 例：LinkedInにおける顧客の優先度付け\n",
    "\n",
    "- 背景：顧客の対応順は営業担当者任せで属人化していた。またダッシュボードを見て優先度を決める営業担当者はその作業に時間を奪われていた。\n",
    "- 手法：顧客の優先順位のスコアを算出するモデルをXGBoostで開発し、顧客のランキングをCRMツールに表示した。\n",
    "    - 工夫した点：予測の理由を文章で説明するアルゴリズム（CrystalCandle）を利用して、営業担当者から信頼される予測を実現\n",
    "- 成果：\n",
    "    - 「顧客のランキングを使うことの効果」はA/B Testで検証し、+8%の契約数？（booking）の上昇を確認\n",
    "    - 「顧客のランキングをあまり使わない営業担当者が常用するようになることの効果」はCoarcend Exact Matchingで推定し、+20%の契約数の上昇を確認\n",
    "\n",
    "参考\n",
    "- [\\[2306.07464\\] Unlocking Sales Growth: Account Prioritization Engine with Explainable AI](https://arxiv.org/abs/2306.07464) \n",
    "- [\\[2105.12941\\] CrystalCandle: A User-Facing Model Explainer for Narrative Explanations](https://arxiv.org/abs/2105.12941) （↑の中で使われている技術）\n",
    "\n",
    ":::"
   ]
  },
  {
   "cell_type": "markdown",
   "id": "c470827a-71cc-4b7c-87cc-899512b73e94",
   "metadata": {},
   "source": [
    "### 因果推論\n",
    "\n",
    "効果検証による意思決定の補助"
   ]
  },
  {
   "cell_type": "markdown",
   "id": "07502a44-c350-4752-a2ab-3c92527779a9",
   "metadata": {},
   "source": [
    "## 生成\n",
    "\n",
    "画像生成、文章生成、チャットボットなど"
   ]
  },
  {
   "cell_type": "markdown",
   "id": "cc113501-2234-4fcd-a1ef-a7c166ee03a9",
   "metadata": {},
   "source": [
    "## 参考\n",
    "\n",
    "- [JSAI AIマップ](https://www.ai-gakkai.or.jp/aimap/)"
   ]
  }
 ],
 "metadata": {
  "kernelspec": {
   "display_name": "Python 3 (ipykernel)",
   "language": "python",
   "name": "python3"
  },
  "language_info": {
   "codemirror_mode": {
    "name": "ipython",
    "version": 3
   },
   "file_extension": ".py",
   "mimetype": "text/x-python",
   "name": "python",
   "nbconvert_exporter": "python",
   "pygments_lexer": "ipython3",
   "version": "3.10.15"
  }
 },
 "nbformat": 4,
 "nbformat_minor": 5
}
