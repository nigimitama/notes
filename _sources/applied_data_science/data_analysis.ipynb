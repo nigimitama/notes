{
 "cells": [
  {
   "cell_type": "markdown",
   "id": "e80040b3-3bf0-43a6-b020-b53da1797b9b",
   "metadata": {},
   "source": [
    "# データ分析の事例"
   ]
  },
  {
   "cell_type": "markdown",
   "id": "1748906a-6945-4f3a-9a5c-db9de76078cf",
   "metadata": {},
   "source": [
    "## BI事例\n",
    "\n",
    "主にBusiness Intelligence的な事例"
   ]
  },
  {
   "cell_type": "markdown",
   "id": "8c7e5ca3-ce34-47c0-bb2b-15b831281687",
   "metadata": {},
   "source": [
    "### 一休.comの取り組み\n",
    "\n",
    ":::{card}\n",
    "\n",
    "[データから「最も愛してくれているお客様」を特定して売上高が10倍に成長。高級宿泊予約サイトの「一休.com」に聞く、データドリブンなプロダクト運営と顧客を絞る理由。｜アプリマーケティング研究所](https://markelabo.com/n/n5f1ba5a41f4c?sub_rt=share_b)\n",
    "\n",
    "**「市場を取りきった」という思い込み**\n",
    "\n",
    "- 背景：なぜ伸び悩んだのかヒアリング→「市場を取りきった」という返答が多かった。\n",
    "- 方法：データを **販売シェア** で見た\n",
    "    - 例えば、100室を保有する宿で「1日平均3室」を一休が販売しているなら、一休の販売シェアは3%。\n",
    "    - これを全ての宿で見ると、一休の販売シェアは低水準で停滞していた。つまり、市場ではなくて「販売シェア」が伸びていないという問題点が見えてきた\n",
    "\n",
    "**ターゲットを決めて、彼らのためのサービスを作った**\n",
    "\n",
    "- データを見ると、年間の利用金額が「100万円を超えるお客様」の利用金額が伸びていることがわかった。\n",
    "- 彼らロイヤルカスタマーにインタビューを行ったところ、「ノイズがなくて、高級宿ばかりで使いやすい」という一休の強みが見えてきた。\n",
    "- 「高級な宿に頻繁に泊まるお客さん」にとって嬉しいことを行うことに決めた（広告の廃止、高級感をより感じてもらえるよう大きな写真を乗せたり工夫）\n",
    "- 結果：リピート率が向上\n",
    "\n",
    "\n",
    "**クーポンをメールで送るのではなく直接サイトに表示**\n",
    "\n",
    "- サイトから離れた後にメールで送るのではなく、画面上にクーポンを出す\n",
    "- 使いやすくしていくことで利用率も効果も向上\n",
    ":::\n",
    "\n",
    "\n",
    "\n"
   ]
  },
  {
   "cell_type": "code",
   "execution_count": null,
   "id": "646f1149-8e54-46c5-adc8-4abfb3120dfe",
   "metadata": {},
   "outputs": [],
   "source": []
  }
 ],
 "metadata": {
  "kernelspec": {
   "display_name": "Python 3 (ipykernel)",
   "language": "python",
   "name": "python3"
  },
  "language_info": {
   "codemirror_mode": {
    "name": "ipython",
    "version": 3
   },
   "file_extension": ".py",
   "mimetype": "text/x-python",
   "name": "python",
   "nbconvert_exporter": "python",
   "pygments_lexer": "ipython3",
   "version": "3.10.15"
  }
 },
 "nbformat": 4,
 "nbformat_minor": 5
}
