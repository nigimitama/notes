{
 "cells": [
  {
   "cell_type": "markdown",
   "id": "1bf17b3d-0e5a-4ac2-9feb-ad3e7791ca99",
   "metadata": {},
   "source": [
    "# プレゼンテーション"
   ]
  },
  {
   "cell_type": "markdown",
   "id": "52e0750e-dc26-4f19-8a38-738ac5fdf99d",
   "metadata": {},
   "source": [
    "## 聴衆に合わせる\n",
    "\n",
    "大前提。相手が関心をもてる話にフォーカスする。\n",
    "\n",
    "学会発表など専門家相手なら、学会のフォーマットで、専門用語なども基礎的な説明は省いてよい。\n",
    "\n",
    "経営陣相手なら、厳密さよりもわかりやすさとビジネスインパクトを重視して伝える（「X時間/年の工数削減」「売上X倍」）。\n"
   ]
  },
  {
   "cell_type": "markdown",
   "id": "28187f8c-cd49-4505-a34b-ebbfcd0203c5",
   "metadata": {},
   "source": [
    "## ビジネスにおけるプレゼン\n",
    "\n",
    "- 業務改善なら、業務フローのbefore / afterや、売上増加やコスト削減のインパクトを示す\n",
    "    - 相手が改善対象の部署の人なら、「こういう課題があって、大変でしたよね。」と共感を示してから「こう変えます/こう変えました」と示す\n",
    "    - ※相手が改善対象の部署でも、縦割りがひどいところだと「私は別チームなのでしりませんけど」という感じで響かなかったりする\n",
    "- 効果が低いなら、 **将来性（今後の伸びしろやビジョン）** や、 **技術的な優位性（他社の模倣困難性）** など別側面を強調する\n",
    "    - 例：「この工数削減を推し進め、将来的には業務フローをこのように変えて工数をほぼゼロにする事を考えています」\n",
    "    - 例：「私の知る限り他社ではできておらず、弊社の独自技術です」「弊社が何年も研究しデータを貯めて実現した技術なので、他社さんが真似するには何年もかかる、真似されにくい技術です」\n"
   ]
  }
 ],
 "metadata": {
  "kernelspec": {
   "display_name": "Python 3 (ipykernel)",
   "language": "python",
   "name": "python3"
  },
  "language_info": {
   "codemirror_mode": {
    "name": "ipython",
    "version": 3
   },
   "file_extension": ".py",
   "mimetype": "text/x-python",
   "name": "python",
   "nbconvert_exporter": "python",
   "pygments_lexer": "ipython3",
   "version": "3.10.18"
  }
 },
 "nbformat": 4,
 "nbformat_minor": 5
}
