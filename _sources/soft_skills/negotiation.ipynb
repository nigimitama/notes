{
 "cells": [
  {
   "cell_type": "markdown",
   "id": "d9e9c654-7c13-4e86-9a43-e274fc1ba7c6",
   "metadata": {},
   "source": [
    "# 交渉 / 人を巻き込む"
   ]
  },
  {
   "cell_type": "markdown",
   "id": "8ca6d151-6938-4ba2-b34e-62d892bbc44f",
   "metadata": {},
   "source": [
    "https://speakerdeck.com/iwashi86/the-reason-why-changing-organization-is-so-hard-what-i-thought-and-faced-for-more-than-several-years?slide=92"
   ]
  },
  {
   "cell_type": "markdown",
   "id": "b6838149-31c7-4b82-869c-28bacc94fa4b",
   "metadata": {},
   "source": [
    "### 『ハーバード流交渉術』\n",
    "\n",
    "ハーバード大学の法科大学院の授業で取り扱われ､ 1981年に \"Getting to Yes\"というタイトルで出版された（最新の日本語版は『ハーバード流交渉術: 必ず「望む結果」を引き出せる!』）。\n",
    "\n",
    "「ハーバード流交渉術（Getting to Yes）」あるいは「原則立脚型交渉術（principled negotiation）」あるいは「実体重視交渉（negotiation on merits）」と呼ばれるものが紹介されている。\n",
    "\n",
    ":::{admonition} negotiation on merits の4つの原則\n",
    "\n",
    "1. 人：人と問題を切り離す\n",
    "2. 利益：「条件や立場」ではなく「利益」に注目する\n",
    "3. 選択肢：お互いの利益に配慮した複数の選択肢を考える\n",
    "4. 基準：客観的基準にもとづく解決にこだわる\n",
    "\n",
    ":::"
   ]
  },
  {
   "cell_type": "markdown",
   "id": "ce7ac41a-fe86-4aa2-a37a-369b59fda1c2",
   "metadata": {},
   "source": [
    "#### 人と問題の分離\n",
    "\n",
    "相手を攻め崩そうと対立するのではなく、相手は一緒に問題を解決するパートナーとする"
   ]
  },
  {
   "cell_type": "code",
   "execution_count": null,
   "id": "4803e830-1d7b-4d49-aac1-87a6ad38042b",
   "metadata": {},
   "outputs": [],
   "source": []
  }
 ],
 "metadata": {
  "kernelspec": {
   "display_name": "Python 3 (ipykernel)",
   "language": "python",
   "name": "python3"
  },
  "language_info": {
   "codemirror_mode": {
    "name": "ipython",
    "version": 3
   },
   "file_extension": ".py",
   "mimetype": "text/x-python",
   "name": "python",
   "nbconvert_exporter": "python",
   "pygments_lexer": "ipython3",
   "version": "3.10.14"
  }
 },
 "nbformat": 4,
 "nbformat_minor": 5
}
