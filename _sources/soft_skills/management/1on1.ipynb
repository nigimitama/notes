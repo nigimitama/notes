{
 "cells": [
  {
   "cell_type": "markdown",
   "id": "0637fbad-be09-471c-b6f9-e40cc47a0546",
   "metadata": {},
   "source": [
    "# 1on1"
   ]
  },
  {
   "cell_type": "markdown",
   "id": "a3b689b9-7fb2-4811-9d71-453d549078e4",
   "metadata": {},
   "source": [
    "## 1on1はメンタリング\n",
    "\n",
    "メンタリング：メンター（mentor, 人生やキャリアにおける先輩）との対話によりメンティ（受ける側）の自己理解を助けたり、キャリア形成における課題を解決したりメンティの成長をサポートする"
   ]
  },
  {
   "cell_type": "markdown",
   "id": "c2ac0937-4ce5-4ed0-9fbb-6068d2669a38",
   "metadata": {},
   "source": [
    ":::{admonition} 相談系の「〇〇ング」の違い\n",
    "\n",
    "- コンサルティング：知識のあるコンサルタントがクライアントに助言する\n",
    "- コーチング：クライアント（受ける側）に答えがあり、それを引き出して気づかせる\n",
    "- カウンセリング：コーチングのうち本人のメンタルが平常じゃない場合\n",
    "- メンタリング：経験が多いメンターがメンティの成長をサポートする\n",
    "\n",
    ":::"
   ]
  },
  {
   "cell_type": "markdown",
   "id": "fe162f5f-cbbc-44de-a023-7be55cda1001",
   "metadata": {},
   "source": [
    "## 1on1のスキル\n",
    "\n",
    "### 深い対話スキル\n",
    "\n",
    "- 信頼関係構築\n",
    "- 傾聴\n",
    "- 深堀り\n",
    "\n",
    "### 助言スキル\n",
    "\n",
    "\n",
    "### クロージング\n",
    "\n",
    "話をまとめて相手が行動に繋げられるようにする\n",
    "\n"
   ]
  },
  {
   "cell_type": "code",
   "execution_count": null,
   "id": "83daeb0b-5bfd-40e8-92bc-536da3c9a68e",
   "metadata": {},
   "outputs": [],
   "source": []
  }
 ],
 "metadata": {
  "kernelspec": {
   "display_name": "Python 3 (ipykernel)",
   "language": "python",
   "name": "python3"
  },
  "language_info": {
   "codemirror_mode": {
    "name": "ipython",
    "version": 3
   },
   "file_extension": ".py",
   "mimetype": "text/x-python",
   "name": "python",
   "nbconvert_exporter": "python",
   "pygments_lexer": "ipython3",
   "version": "3.10.18"
  }
 },
 "nbformat": 4,
 "nbformat_minor": 5
}
