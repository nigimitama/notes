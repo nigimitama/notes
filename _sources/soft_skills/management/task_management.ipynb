{
 "cells": [
  {
   "cell_type": "markdown",
   "id": "380ca092-efc2-494f-ae66-b669e7d7a389",
   "metadata": {},
   "source": [
    "# タスク管理・仕事の進め方"
   ]
  },
  {
   "cell_type": "markdown",
   "id": "fa47820f-7d5c-4c49-b0dc-d99581792974",
   "metadata": {},
   "source": [
    "## 一般的なタスク管理の方法\n",
    "\n",
    "\n",
    "### ToDoリスト\n",
    "\n",
    "- やることをリストアップし、完了したらチェックを入れたり線で消したりする\n",
    "- ツール例：Google Task, Todoist\n",
    "\n",
    "### Kanban\n",
    "\n",
    "- タスクを「To Do / Doing / Done」のようにボードで可視化\n",
    "- 視覚的に進捗がわかりやすい\n",
    "- 例: Trello, Jira\n",
    "\n",
    "### タイムブロッキング\n",
    "\n",
    "- カレンダー上に時間単位でタスクを割り当てる\n",
    "- 例：Googleカレンダーにタスクに取り掛かる時間の予定を入れる\n"
   ]
  },
  {
   "cell_type": "markdown",
   "id": "ef4b9ef8-9ff1-497f-8780-dd21e2f733af",
   "metadata": {},
   "source": [
    "### Getting Things Done（GTD）\n",
    "\n",
    "頭の中のタスクをすべて外に出し、仕分けして処理していく\n",
    "\n",
    "ステップ：\n",
    "1. Capture：タスクを把握する\n",
    "    - ToDoリストなどに入れてやることを洗い出す\n",
    "2. Clarify：タスクを見極める\n",
    "    - 優先順位を見極める\n",
    "    - 2分以内に終わるようなすぐ終わるタスクはすぐ実行する\n",
    "    - 他に人に任せられるものは任せる\n",
    "    - 必要に応じて複数のタスクへ分割する\n",
    "3. Organize：タスクを整理する\n",
    "    - 判断した内容を、用途に応じて適切なリストに振り分ける。\n",
    "    - 例：\n",
    "        - 📆 カレンダー：日時が決まっている行動\n",
    "        - ✅ 次にやる行動リスト（Next Actions）\n",
    "        - 🗃 参考資料：読むだけの情報\n",
    "        - 💭 いつかやるリスト（Someday/Maybe）\n",
    "        - 👥 待ちリスト（Waiting For）：他人に委任したもの\n",
    "4. Reflect：タスクを更新する\n",
    "    - 週1回レビューしてタスクリストをアップデートする\n",
    "5. Engage：今やるべきことを実行する\n",
    "    - 選択基準：\n",
    "        - コンテキスト（今どこにいるか、PC使えるか）\n",
    "        - 所要時間（短時間なら細かいタスクを）\n",
    "        - エネルギー（疲れてるなら単純作業を）\n",
    "        - 優先度（今すぐやるべきか）"
   ]
  },
  {
   "cell_type": "markdown",
   "id": "a130ac3e-7375-4773-8de3-7ee963a29848",
   "metadata": {},
   "source": [
    "## 仕事の進め方\n",
    "\n",
    ":::{card}\n",
    "\n",
    "[アンチパターンで学ぶ「仕事の進め方」 #ポエム - Qiita](https://qiita.com/TabataRin/items/4cd7bacb64f3138f99b7)\n",
    "\n",
    "- ⭕️タスクを振られた段階で修了見込みを報告する（「今日中には終わると思います」）\n",
    "- ⭕️仮説を立てて質問する（「こういう認識で合ってますか？」）\n",
    "\n",
    "など\n",
    ":::"
   ]
  }
 ],
 "metadata": {
  "kernelspec": {
   "display_name": "Python 3 (ipykernel)",
   "language": "python",
   "name": "python3"
  },
  "language_info": {
   "codemirror_mode": {
    "name": "ipython",
    "version": 3
   },
   "file_extension": ".py",
   "mimetype": "text/x-python",
   "name": "python",
   "nbconvert_exporter": "python",
   "pygments_lexer": "ipython3",
   "version": "3.10.18"
  }
 },
 "nbformat": 4,
 "nbformat_minor": 5
}
