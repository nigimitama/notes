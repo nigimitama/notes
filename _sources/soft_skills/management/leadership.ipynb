{
 "cells": [
  {
   "cell_type": "markdown",
   "id": "52a8c32a-51a7-4c4a-8193-b721bc493ae9",
   "metadata": {},
   "source": [
    "# リーダーシップ"
   ]
  },
  {
   "cell_type": "markdown",
   "id": "ae006257-fd82-4abc-98bf-0be364620a99",
   "metadata": {},
   "source": [
    "## 定義\n",
    "\n",
    "\n",
    "> Leadership is the ability of an individual or a group of people to influence and guide followers or members of an organization, society or team.\n",
    ">\n",
    "> (リーダーシップとは、個人またはグループが組織、社会、チームのフォロワーやメンバーに影響を与え、導く能力)\n",
    ">\n",
    "> [What Is Leadership? | Definition by TechTarget](https://www-techtarget-com.translate.goog/searchcio/definition/leadership?_x_tr_sl=en&_x_tr_tl=ja&_x_tr_hl=ja&_x_tr_pto=sc)"
   ]
  },
  {
   "cell_type": "markdown",
   "id": "66737ce4-883d-4f11-9d04-a4744cda79c1",
   "metadata": {},
   "source": [
    "## リーダーシップのスタイル\n"
   ]
  },
  {
   "cell_type": "markdown",
   "id": "56ef5951-f83c-431b-86be-bb3bb5b4b322",
   "metadata": {},
   "source": [
    "### 強制型リーダーシップ\n",
    "\n",
    "強制型リーダーシップは、その名の通り上司から部下に対し強い指示・命令を出す、トップダウン型のリーダーシップスタイル"
   ]
  },
  {
   "cell_type": "markdown",
   "id": "56494f11-d6a1-4f7b-bb94-6d977b242bee",
   "metadata": {},
   "source": [
    "\n",
    "### トランザクション型リーダー\n",
    "\n",
    "報酬と罰のシステムを使用するスタイル\n",
    "\n",
    "前提：メンバーが以下の特性を示すこと\n",
    "\n",
    "- 自発的でない\n",
    "- 報酬と罰によって動機づけられる\n",
    "- 明確に定義された目標に従う\n",
    "- 厳重に監視および管理する必要がある\n",
    "\n",
    "[What is transactional leadership? - Definition from WhatIs.com](https://www-techtarget-com.translate.goog/searchcio/definition/transactional-leadership?_x_tr_sl=en&_x_tr_tl=ja&_x_tr_hl=ja&_x_tr_pto=sc)\n",
    "\n",
    "### サーバント・リーダー\n",
    "\n",
    "- グループのニーズと社会全体の利益に応えることに重点を置くスタイル\n",
    "- リーダーはメンバーのサポートを行う\n",
    "- リーダーの権限は比較的弱く、メンバーに裁量が委譲されている組織が前提\n",
    "    - リーダーが強い権限で急進的に変革する必要がある状況とは相性が悪い\n",
    "- グループのために奉仕する精神から、意識的な選択によりリーダーになるタイプ（出世欲や権力欲からリーダーになるタイプとは全く異なる）\n",
    "- 古代から好まれるタイプ\n",
    "    - 老子：「賢者は控えめで、言葉が少ない。彼の任務が達成され、物事が完了すると、人々は皆、『自分たちで成し遂げたのだ』と言う。」\n",
    "    - マルコによる福音書：「イエスは彼らを呼び集めて言われた。「あなたがたも知っているとおり、異邦人の間では、支配者とされる人たちが人々を支配し、高官たちが権力をふるいます。しかし、あなたがたの間では、そうではありません。かえって、あなたがたの間で偉くなりたいと思う者は、皆に仕える者になり、いちばん上になりたいと思う者は、すべての人の僕になりなさい。」\n",
    "\n",
    "[What is servant leadership? | Definition from TechTarget](https://www-techtarget-com.translate.goog/searchcio/definition/Servant-Leadership?_x_tr_sl=en&_x_tr_tl=ja&_x_tr_hl=ja&_x_tr_pto=sc)\n"
   ]
  },
  {
   "cell_type": "markdown",
   "id": "6d5ae5f7-dbfc-452f-a9e4-0c621daec618",
   "metadata": {},
   "source": [
    "### コーチ型リーダーシップ\n",
    "\n",
    "コーチ型リーダーシップは、リーダーがメンバーと1対1の関係を重視し、コーチングをしながら進めていくリーダーシップスタイル"
   ]
  },
  {
   "cell_type": "markdown",
   "id": "fd04fbd2-ed9d-4cd0-8830-08abf8c8f52f",
   "metadata": {},
   "source": [
    ":::{admonition} 「ボスになるな。リーダーになれ。」\n",
    "\n",
    "> イギリスの高級百貨店チェーンの創業者の方の言葉です。その内のいくつかをご紹介したいと思います。\n",
    ">\n",
    "> ボスは **私** と言う。リーダーは **われわれ** と言う。\n",
    ">\n",
    "> ボスは失敗の責任をおわせる。リーダーは **黙って失敗を処理** する。\n",
    ">\n",
    "> ボスはやり方を胸に秘める。リーダーは **やり方を教える** 。\n",
    ">\n",
    "> ボスは仕事を苦役に変える。リーダーは **仕事をゲームに変える** 。\n",
    ">\n",
    "> ボスは **やれ** と言う。リーダーは **やろう** と言う。\n",
    ">\n",
    "> [ボスになるな リーダーになれ トヨタ春交渉2020 第2回](https://toyotatimes.jp/toyota_news/roushi_2020/054.html)\n",
    "\n",
    "\n",
    ":::"
   ]
  },
  {
   "cell_type": "code",
   "execution_count": null,
   "id": "ec2a3cad-88c2-4be4-98cf-d9f7d47877f5",
   "metadata": {},
   "outputs": [],
   "source": []
  }
 ],
 "metadata": {
  "kernelspec": {
   "display_name": "Python 3 (ipykernel)",
   "language": "python",
   "name": "python3"
  },
  "language_info": {
   "codemirror_mode": {
    "name": "ipython",
    "version": 3
   },
   "file_extension": ".py",
   "mimetype": "text/x-python",
   "name": "python",
   "nbconvert_exporter": "python",
   "pygments_lexer": "ipython3",
   "version": "3.10.17"
  }
 },
 "nbformat": 4,
 "nbformat_minor": 5
}
