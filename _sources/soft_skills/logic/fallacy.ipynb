{
 "cells": [
  {
   "cell_type": "markdown",
   "id": "c9899c41-3bc4-47ba-bedb-9c51c6503e15",
   "metadata": {},
   "source": [
    "# 誤謬論"
   ]
  },
  {
   "cell_type": "markdown",
   "id": "b8790d35-9320-499a-9e0e-126f8b091cfc",
   "metadata": {},
   "source": [
    "## 一般的な誤謬論\n",
    "\n",
    "誤謬の種類を列挙するスタイルで語られがち\n",
    "\n",
    "[誤謬 - Wikipedia](https://ja.wikipedia.org/wiki/%E8%AA%A4%E8%AC%AC)"
   ]
  },
  {
   "cell_type": "markdown",
   "id": "466925d8-9480-4da6-bab3-413a1f969b0f",
   "metadata": {},
   "source": [
    "## エドワード・デイマーの誤謬の定義\n",
    "\n",
    "エドワード・デイマー (2023) 『誤謬論入門: 優れた議論の実践ガイド』における誤謬の定義\n",
    "\n",
    "優れた議論の5つの基準を定義し、それらの基準に1つ以上違反があれば誤謬とする。\n",
    "\n",
    "```\n",
    "（1）よく構築された議論の構造的要件\n",
    "（2）議論の前提の関連性\n",
    "（3）議論の前提の許容性\n",
    "（4）関連性と許容性を満たした前提の，議論の結論を支える十分性\n",
    "（5）議論やそれが支持する立場に対する強力な批判を無効にする反論の有効性\n",
    "```\n",
    "\n"
   ]
  },
  {
   "cell_type": "markdown",
   "id": "a338b9aa-6066-47c7-bb37-281e88e28702",
   "metadata": {},
   "source": []
  },
  {
   "cell_type": "markdown",
   "id": "ff40688f-84dd-43b0-be0a-eb777fb444e7",
   "metadata": {},
   "source": [
    "## 参考\n",
    "\n",
    "エドワード・デイマー (2023) 『誤謬論入門: 優れた議論の実践ガイド』"
   ]
  },
  {
   "cell_type": "code",
   "execution_count": null,
   "id": "802ee99c-49cf-4a95-a54d-8f5e65791df6",
   "metadata": {},
   "outputs": [],
   "source": []
  }
 ],
 "metadata": {
  "kernelspec": {
   "display_name": "Python 3 (ipykernel)",
   "language": "python",
   "name": "python3"
  },
  "language_info": {
   "codemirror_mode": {
    "name": "ipython",
    "version": 3
   },
   "file_extension": ".py",
   "mimetype": "text/x-python",
   "name": "python",
   "nbconvert_exporter": "python",
   "pygments_lexer": "ipython3",
   "version": "3.10.14"
  }
 },
 "nbformat": 4,
 "nbformat_minor": 5
}
