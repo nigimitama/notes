{
 "cells": [
  {
   "cell_type": "markdown",
   "id": "3a7a77c3-4549-495d-a871-acf927a90f59",
   "metadata": {},
   "source": [
    "# 二乗誤差の分解\n",
    "\n",
    "式の変形の仕方によって\n",
    "\n",
    "1. MSEをBiasの二乗とVarianceに分解できること\n",
    "2. 二乗誤差に対する最適解（ベイズ規則 Bayes rule）が条件付き期待値であること\n",
    "\n",
    "という異なる2つの説明ができる"
   ]
  },
  {
   "cell_type": "markdown",
   "id": "84214b0d-bfbb-40d6-9eef-2914416505b0",
   "metadata": {},
   "source": [
    "## 二乗誤差のBias-Variance分解\n",
    "\n",
    "予測値$\\mathbb{E}[\\hat{y}]$について引いて足す場合\n",
    "\n",
    "$$\n",
    "\\begin{aligned}\n",
    "\\mathbb{E}_D[\\ell(\\hat{y}, y)]\n",
    "&= \\mathbb{E}[(y - \\hat{y})^2]\\\\\n",
    "&= \\mathbb{E}[(y - \\mathbb{E}[\\hat{y}] + \\mathbb{E}[\\hat{y}] - \\hat{y})^2]\n",
    "    \\quad (\\mathbb{E}[\\hat{y}] を引いて足す)\\\\\n",
    "&= \\mathbb{E}[\n",
    "    (y - \\mathbb{E}[\\hat{y}])^2\n",
    "    + 2(y - \\mathbb{E}[\\hat{y}])(\\mathbb{E}[\\hat{y}] - \\hat{y})\n",
    "    + (\\mathbb{E}[\\hat{y}] - \\hat{y})^2]\\\\\n",
    "&= \\mathbb{E}[(y - \\mathbb{E}[\\hat{y}])^2]\n",
    "     + \\underbrace{ 2 \\mathbb{E}[(y - \\mathbb{E}[\\hat{y}])(\\mathbb{E}[\\hat{y}] - \\hat{y})] }_{\n",
    "    \\begin{aligned}\n",
    "    &= 2 \\mathbb{E}[\n",
    "            y \\cdot \\mathbb{E}[\\hat{y}]\n",
    "            - y \\cdot \\hat{y}\n",
    "            - \\mathbb{E}[\\hat{y}]^2\n",
    "            + \\mathbb{E}[\\hat{y}] \\cdot \\hat{y}]\n",
    "    \\\\\n",
    "        &= 2 (\n",
    "            y \\cdot \\mathbb{E}[\\hat{y}]\n",
    "            - y \\cdot \\mathbb{E}[\\hat{y}]\n",
    "            - \\mathbb{E}[\\hat{y}]^2\n",
    "            + \\mathbb{E}[\\hat{y}]^2\n",
    "            )\\\\\n",
    "        &=0\n",
    "        \\end{aligned}\n",
    "    }\n",
    "    + \\mathbb{E}[(\\mathbb{E}[\\hat{y}] - \\hat{y})^2]\\\\\n",
    "&= (y - \\mathbb{E}[\\hat{y}])^2 + \\operatorname{Var}[\\hat{y}]\\\\\n",
    "&= \\text{Bias}^2 + \\text{Variance}\\\\\n",
    "\\end{aligned}\n",
    "$$"
   ]
  },
  {
   "cell_type": "markdown",
   "id": "0be03420-ebbd-4d11-b87f-57725dad2295",
   "metadata": {},
   "source": [
    "## 二乗誤差のベイズ規則\n",
    "\n",
    "実測値$\\mathbb{E}[y]$について引いて足す場合。\n",
    "\n",
    "損失関数として二乗損失 $\\ell(\\hat{y}, y) = (\\hat{y} - y)^2$を利用するとき、\n",
    "\n",
    "$$\n",
    "\\begin{aligned}\n",
    "\\mathbb{E}[\\ell(\\hat{y}, Y)]\n",
    "&= \\mathbb{E}[(\\hat{y} - Y)^2]\\\\\n",
    "&= \\mathbb{E}[(\\hat{y} - \\mathbb{E}[Y] + \\mathbb{E}[Y]  - Y)^2] \\quad (\\mathbb{E}[Y]を引いて足す)\\\\\n",
    "&= \\mathbb{E}[\n",
    "    (\\hat{y} - \\mathbb{E}[Y])^2\n",
    "    + 2(\\hat{y} - \\mathbb{E}[Y])(\\mathbb{E}[Y]  - Y)\n",
    "    + (\\mathbb{E}[Y]  - y)^2]\\\\\n",
    "&= \\underbrace{ \\mathbb{E}[(\\hat{y} - \\mathbb{E}[Y])^2] }_{=(\\hat{y} - \\mathbb{E}[Y])^2}\n",
    "     + \\underbrace{ 2 \\mathbb{E}[(\\hat{y} - \\mathbb{E}[Y])(\\mathbb{E}[Y]  - Y)] }_{\n",
    "    \\begin{aligned}\n",
    "        &=2 \\mathbb{E}[\\hat{y}\\mathbb{E}[Y] - \\hat{y}Y - \\mathbb{E}[Y]^2 + \\mathbb{E}[Y]Y]\\\\\n",
    "        &=2 \\hat{y}\\mathbb{E}[Y] - 2\\hat{y}\\mathbb{E}[Y] - 2\\mathbb{E}[Y]^2 + 2\\mathbb{E}[Y]^2\\\\\n",
    "        &=0\n",
    "        \\end{aligned}\n",
    "    }\n",
    "    + \\mathbb{E}[(\\mathbb{E}[Y]  - Y)^2]\\\\\n",
    "&= (\\hat{y} - \\mathbb{E}[Y])^2\n",
    "    + \\operatorname{Var}[Y]\\\\\n",
    "\\end{aligned}\n",
    "$$\n",
    "\n",
    "となる。よって$\\hat{y}=\\mathbb{E}[Y]$とすれば予測誤差が最小になる。\n",
    "\n",
    "この期待値を条件付き期待値に置き換えて考えると、ベイズ規則$h_0(X)$は\n",
    "\n",
    "$$\n",
    "h_0(X) = \\mathbb{E}[Y|X]\n",
    "$$\n",
    "\n",
    "によって与えられる。"
   ]
  }
 ],
 "metadata": {
  "kernelspec": {
   "display_name": "Python 3 (ipykernel)",
   "language": "python",
   "name": "python3"
  },
  "language_info": {
   "codemirror_mode": {
    "name": "ipython",
    "version": 3
   },
   "file_extension": ".py",
   "mimetype": "text/x-python",
   "name": "python",
   "nbconvert_exporter": "python",
   "pygments_lexer": "ipython3",
   "version": "3.10.15"
  }
 },
 "nbformat": 4,
 "nbformat_minor": 5
}
