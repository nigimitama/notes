{
 "cells": [
  {
   "cell_type": "markdown",
   "id": "f06bc23f-123e-4c55-a98d-a7bff79ca20a",
   "metadata": {},
   "source": [
    "# 仮説集合の複雑度"
   ]
  },
  {
   "cell_type": "markdown",
   "id": "668b04b0-1b5f-40a5-b989-8184af9f5f12",
   "metadata": {},
   "source": [
    "## VC次元\n",
    "\n",
    "**VC次元 (VC dimension)** は仮説集合の複雑度の指標の一つ。\n",
    "主に2値判別問題の仮説集合に用いられるが、多値判別問題や回帰問題に拡張することも可能。\n",
    "名前の由来は理論の創始者であるVapnikとChervonenkisから。\n",
    "\n",
    "2値判別のための仮説集合を $\\mathcal{H}$ とする。\n",
    "仮説 $h \\in \\mathcal{H}$ は、入力空間 $\\mathcal{X}$ から $|\\mathcal{Y}|=2$ であるようなラベル集合 $\\mathcal{Y}$ への関数とする。\n",
    "入力の集合 $\\{x_1, \\ldots, x_n\\} \\subset \\mathcal{X}$ に対して、$\\mathcal{Y}^n$ の部分集合\n",
    "\n",
    "$$\n",
    "\\{(h(x_1), \\ldots, h(x_n)) \\in \\mathcal{Y}^n \\mid h \\in \\mathcal{H}\\}\n",
    "$$\n",
    "\n",
    "\n",
    "の要素数を\n",
    "\n",
    "$$\n",
    "\\Pi_{\\mathcal{H}}(x_1, \\ldots, x_n) = |\\{(h(x_1), \\ldots, h(x_n)) \\in \\mathcal{Y}^n \\mid h \\in \\mathcal{H}\\}|\n",
    "$$\n",
    "\n",
    "とおく。\n",
    "定義より\n",
    "\n",
    "$$\n",
    "\\Pi_{\\mathcal{H}}(x_1, \\ldots, x_n) \\leq 2^n\n",
    "$$\n",
    "\n",
    "である。"
   ]
  },
  {
   "cell_type": "markdown",
   "id": "6b04782b-48b7-422f-a4c3-2ed570ee571e",
   "metadata": {},
   "source": [
    ":::{margin}\n",
    "\n",
    "有限集合$A_i$の直積集合$\\Pi_i^n A_i = A_1\\times \\cdots \\times A_n$の要素数は、個々の集合の要素数の積$|A_1| \\times \\cdots \\times |A_n|$になるため、$|\\mathcal{Y}|=2$より最大で$\\Pi_{\\mathcal{H}}(x_1, \\ldots, x_n) = 2^n$になる。\n",
    ":::"
   ]
  },
  {
   "cell_type": "markdown",
   "id": "26f14d61-7396-46e8-9136-1b98365e0dbb",
   "metadata": {},
   "source": [
    "入力の数$n$が増えていけばラベル付のパターンが豊富となり、等式$\\Pi_{\\mathcal{H}}(x_1, \\ldots, x_n) = 2^n$が成立しにくくなると考えられる。その境界となるデータ数$n$を$\\mathcal{H}$のVC次元と呼ぶ。\n",
    "\n",
    "数式的には、$\\mathcal{H}$のVC次元$\\operatorname{VCdim}(\\mathcal{H})$は\n",
    "\n",
    "$$\n",
    "\\operatorname{VCdim}(\\mathcal{H})\n",
    ":= \\max \\left\\{\n",
    "n \\in \\mathbb{N} \\left| ~ \\max _{x_1, \\ldots, x_n \\in \\mathcal{X}} \\Pi_{\\mathcal{H}}(x_1, \\ldots, x_n) = 2^n \\right.\n",
    "\\right\\}\n",
    "$$\n",
    "\n",
    "と定義される。また、任意の $n \\in \\mathbb{N}$ に対して $x_1, \\ldots, x_n \\in \\mathcal{X}$ が存在して $\\Pi_{\\mathcal{H}}\\left(x_1, \\ldots, x_n\\right)=2^n$ が成り立つときは $\\operatorname{VCdim}(\\mathcal{H})=\\infty$ と定義する。\n",
    "\n",
    "VC次元は言葉で説明すると「仮説集合$\\mathcal{H}$のもとで、ラベルのすべての組み合わせを網羅できる（どんなラベル付けにも対応可能な仮説が存在する）データ数の最大値」となる。"
   ]
  },
  {
   "cell_type": "markdown",
   "id": "af0d820a-f1a1-42d6-9412-0c485c6b2da0",
   "metadata": {},
   "source": [
    "### サウアーの補題\n",
    "\n",
    "$\\mathcal{H}$のVC次元を$d$とおくと、$d\\leq n$なら$\\Pi_{\\mathcal{H}}(x_1, \\ldots, x_n)$は高々$d$次の多項式オーダー$O(n^d)$となる。\n",
    "\n",
    ":::{admonition} サウアーの補題（Sauer's lemma）\n",
    "\n",
    "2 値ラベルに値をとる仮説集合 $\\mathcal{H}$ の VC 次元が $d$ のとき、 $n \\geq d$ に対して\n",
    "\n",
    "$$\n",
    "\\max _{x_1, \\ldots, x_n \\in \\mathcal{X}} \\Pi_{\\mathcal{H}}\\left(x_1, \\ldots, x_n\\right) \\leq\\left(\\frac{e n}{d}\\right)^d\n",
    "$$\n",
    "\n",
    "が成り立つ。 ここで $e$ はネイピア数 $(2.718 \\cdots)$である。\n",
    ":::\n",
    "\n"
   ]
  },
  {
   "cell_type": "markdown",
   "id": "ac99f287-fa67-479d-a143-6b19b3359f6e",
   "metadata": {},
   "source": [
    "### VC次元と予測誤差の関係\n",
    "\n",
    ":::{admonition} 定理\n",
    "\n",
    "2 値ラベルに値をとる仮説集合 $\\mathcal{H} \\subset\\{h: \\mathcal{X} \\rightarrow\\{+1,-1\\}\\}$ の VC次元を $d<\\infty$ とする。\n",
    "学習データ $\\left(X_1, Y_1\\right), \\ldots,\\left(X_n, Y_n\\right)$ は独立に同一の分布に従うとする。損失として $0-1$ 損失を用いると、$n \\geq d$ のとき、学習データの分布のもとで $1-\\delta$ 以上の確率で\n",
    "\n",
    "$$\n",
    "\\sup_{h \\in \\mathcal{H}}\\left|R(h)-\\hat{R}(h)\\right|\n",
    "\\leq 2 \\sqrt{\\frac{2 d}{n} \\log \\frac{e n}{d}}+\\sqrt{\\frac{\\log (2 / \\delta)}{2 n}}\n",
    "$$\n",
    "\n",
    "が成り立つ。\n",
    ":::\n",
    "\n",
    "この定理の証明にはラデマッハ複雑度による一様大数の法則が用いられる。\n",
    "\n",
    "\n"
   ]
  },
  {
   "cell_type": "markdown",
   "id": "6b39e4f6-bfbb-4131-8957-eb67260af583",
   "metadata": {},
   "source": [
    "学習データ$S=\\{(X_1, Y_1), \\ldots,(X_n, Y_n)\\}$が観測されたとき、経験判別誤差$\\hat{R}(h)$の最小化で得られる仮説を$h_S$とする。簡単のため、ベイズ規則$h_0$が$\\mathcal{H}$に含まれるとする。このとき\n",
    "\n",
    "$$\n",
    "\\hat{R}(h_S) \\leq \\hat{R}(h_0)\\\\\n",
    "R(h_0) \\leq R(h_S)\n",
    "$$\n",
    "\n",
    "が常に成り立つ。そして以下が成り立つ\n",
    "\n",
    "（以下は金森（2015）のp.22の式展開を想像で補ったりしたもの）\n",
    "\n",
    "$$\n",
    "\\begin{aligned}\n",
    "&\\hat{R}(h_S) \\leq \\hat{R}(h_0) \\\\\n",
    "&\\iff \\hat{R}(h_S) + \\underbrace{ R(h_S) }_{追加} \\leq \\hat{R}(h_0) + \\underbrace{ R(h_S) }_{追加} \\\\\n",
    "&\\iff R(h_S) \\leq \\hat{R}(h_0) + R(h_S) - \\hat{R}(h_S) \\\\\n",
    "&\\iff R(h_S) \\leq \\underbrace{ R(h_0) - R(h_0) }_{追加} + \\hat{R}(h_0) + R(h_S) - \\hat{R}(h_S) \\\\\n",
    "&\\iff R(h_S) \\leq R(h_0) + |\\hat{R}(h_0) - R(h_0)| + \\sup_{h\\in\\mathcal{H}} |R(h_S) - \\hat{R}(h_S)|\n",
    "    \\quad (おそらく、supなら上限のため不等号で大きい方に置いても妥当なため）\\\\\n",
    "&\\iff R(h_S) \\leq R(h_0) + 2 \\sup_{h\\in\\mathcal{H}} |R(h_S) - \\hat{R}(h_S)|\n",
    "    \\quad (おそらく h_0\\in\\mathcal{H}の仮定のため) \\\\\n",
    "&\\iff R(h_S) \\leq R(h_0) + 4 \\sqrt{\\frac{2 d}{n} \\log \\frac{e n}{d}}+\\sqrt{\\frac{\\log (2 / \\delta)}{2 n}} \\quad (前述の定理のため)\\\\\n",
    "\\end{aligned}\n",
    "$$\n",
    "\n",
    "確率オーダーで表現すると\n",
    "\n",
    "$$\n",
    "R(h_S) \\leq R(h_0) + O_p \\left(\\sqrt{\\frac{\\log(n/d)}{n/d}} \\right)\n",
    "$$\n",
    "\n",
    "となり、予測誤差はデータ数とVC次元の比$n/d$と関連していることがわかる。"
   ]
  },
  {
   "cell_type": "markdown",
   "id": "d3b5abae-e6fa-4bef-a267-ce60ef36ad84",
   "metadata": {},
   "source": []
  },
  {
   "cell_type": "code",
   "execution_count": null,
   "id": "5d4c6209-88e1-4ed2-a243-98fbb98fd575",
   "metadata": {},
   "outputs": [],
   "source": []
  },
  {
   "cell_type": "markdown",
   "id": "912fcc74-d60c-4c34-86cd-912792d40f5a",
   "metadata": {},
   "source": [
    "## 参考\n",
    "\n",
    "- https://www.mathematik.uni-muenchen.de/~deckert/teaching/SS17/ATML/media/VC_dimension.pdf"
   ]
  },
  {
   "cell_type": "code",
   "execution_count": null,
   "id": "47aeb89a-1885-4256-9c13-0362c2bafe60",
   "metadata": {},
   "outputs": [],
   "source": []
  }
 ],
 "metadata": {
  "kernelspec": {
   "display_name": "Python 3 (ipykernel)",
   "language": "python",
   "name": "python3"
  },
  "language_info": {
   "codemirror_mode": {
    "name": "ipython",
    "version": 3
   },
   "file_extension": ".py",
   "mimetype": "text/x-python",
   "name": "python",
   "nbconvert_exporter": "python",
   "pygments_lexer": "ipython3",
   "version": "3.10.15"
  }
 },
 "nbformat": 4,
 "nbformat_minor": 5
}
