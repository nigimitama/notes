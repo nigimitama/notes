{
 "cells": [
  {
   "cell_type": "markdown",
   "id": "2321a5cd-e251-4d46-a412-44b72151ecd2",
   "metadata": {},
   "source": [
    "# 汎化誤差"
   ]
  },
  {
   "cell_type": "markdown",
   "id": "1ac2b602-0df0-433e-9d51-a040cf8a694e",
   "metadata": {},
   "source": [
    "## 汎化誤差\n",
    "\n",
    "目的変数$Y$、訓練済みモデル$\\hat{f}(X)$、誤差関数$L(Y, \\hat{f}(X))$について期待値をとったもの\n",
    "\n",
    "$$\n",
    "E[L(Y, \\hat{f}(X))]\n",
    "$$\n",
    "\n",
    "を汎化誤差という（厳密にはY,Xの同時分布での期待値）"
   ]
  },
  {
   "cell_type": "markdown",
   "id": "e9a30572-cc76-41a9-9fce-3402f9f4e13c",
   "metadata": {},
   "source": [
    "## 汎化誤差の推定\n",
    "\n",
    "Hold out\n",
    "\n",
    "Cross Validation"
   ]
  },
  {
   "cell_type": "code",
   "execution_count": null,
   "id": "7f0ba0af-11a6-4342-b429-50f6e59dc5a7",
   "metadata": {},
   "outputs": [],
   "source": []
  },
  {
   "cell_type": "markdown",
   "id": "aa85c652-a104-472f-8234-433113ad6328",
   "metadata": {},
   "source": [
    "## 汎化誤差上界\n",
    "\n",
    "\n",
    "### Chernoff bound\n",
    "\n",
    "\n",
    "\n",
    "\n",
    "### PAC-Bayesian bound\n",
    "\n",
    "Catoni bound\n",
    "\n",
    "[[2110.11216] User-friendly introduction to PAC-Bayes bounds](https://arxiv.org/abs/2110.11216)\n"
   ]
  },
  {
   "cell_type": "markdown",
   "id": "396e1d71-9c4c-4126-8cb2-23fe5d7afc61",
   "metadata": {},
   "source": [
    "### 訓練誤差ベース\n",
    "\n",
    "訓練誤差ベースの汎化誤差上界は実験してみると100%近くの意味のない値になることも多い[[2012.04115] Generalization bounds for deep learning](https://arxiv.org/abs/2012.04115)\n",
    "\n",
    "### テスト誤差ベース\n",
    "\n",
    "テスト用データを使って汎化誤差上界を計算したもの\n",
    "\n",
    "### ノイズ付加\n",
    "\n",
    "ノイズ耐性と汎化性能は相関する\n",
    "\n",
    "そこでノイズ付加汎化誤差上界を計算するアプローチがある\n"
   ]
  },
  {
   "cell_type": "code",
   "execution_count": null,
   "id": "90c97621-f514-479b-8e0e-31f2fa1820eb",
   "metadata": {},
   "outputs": [],
   "source": []
  }
 ],
 "metadata": {
  "kernelspec": {
   "display_name": "Python 3 (ipykernel)",
   "language": "python",
   "name": "python3"
  },
  "language_info": {
   "codemirror_mode": {
    "name": "ipython",
    "version": 3
   },
   "file_extension": ".py",
   "mimetype": "text/x-python",
   "name": "python",
   "nbconvert_exporter": "python",
   "pygments_lexer": "ipython3",
   "version": "3.9.16"
  }
 },
 "nbformat": 4,
 "nbformat_minor": 5
}
