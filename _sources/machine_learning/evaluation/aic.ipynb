{
 "cells": [
  {
   "cell_type": "markdown",
   "id": "41736b5b-1d91-43cd-90d0-4b436553021d",
   "metadata": {},
   "source": [
    "# AICとCross Validation"
   ]
  },
  {
   "cell_type": "markdown",
   "id": "f9d7f7ad-874b-4c71-8dd2-0a5169bdb0b7",
   "metadata": {},
   "source": [
    "## AIC\n",
    "\n",
    "赤池情報量基準（Akaike's Information Criterion: AIC）\n",
    "\n",
    "$$\n",
    "AIC = -2 \\ln L + 2k\n",
    "$$\n",
    "\n",
    "ここで$L$は最大尤度、$k$は自由なパラメータの数\n"
   ]
  },
  {
   "cell_type": "markdown",
   "id": "774f5854-47bd-448b-be14-5e64e7d36574",
   "metadata": {},
   "source": [
    "カステラ本7.5"
   ]
  },
  {
   "cell_type": "code",
   "execution_count": null,
   "id": "2b51314f-0942-4ce6-9d09-9ca22716ad50",
   "metadata": {},
   "outputs": [],
   "source": []
  }
 ],
 "metadata": {
  "kernelspec": {
   "display_name": "Python 3 (ipykernel)",
   "language": "python",
   "name": "python3"
  },
  "language_info": {
   "codemirror_mode": {
    "name": "ipython",
    "version": 3
   },
   "file_extension": ".py",
   "mimetype": "text/x-python",
   "name": "python",
   "nbconvert_exporter": "python",
   "pygments_lexer": "ipython3",
   "version": "3.9.17"
  }
 },
 "nbformat": 4,
 "nbformat_minor": 5
}
