{
 "cells": [
  {
   "cell_type": "markdown",
   "id": "344bac27-be25-42b7-8eb8-d7bc580e59a1",
   "metadata": {},
   "source": [
    "# 時系列データにおけるモデル評価のためのデータ分割法"
   ]
  },
  {
   "cell_type": "markdown",
   "id": "a3ab5ea2-d1ae-4088-8c51-e0dad1c1f0e9",
   "metadata": {},
   "source": [
    "## 分割手法"
   ]
  },
  {
   "cell_type": "markdown",
   "id": "bbab6f1a-be41-4a22-a221-7c436ea10efc",
   "metadata": {},
   "source": [
    "### プリクエンシャルブロック法\n",
    "\n",
    "[TimeSeriesSplit](https://scikit-learn.org/stable/modules/generated/sklearn.model_selection.TimeSeriesSplit.html) のような1つのブロックをtestにしてそれ以前をtrainにする方法を **プリクエンシャルブロック法** というらしい。\n"
   ]
  },
  {
   "cell_type": "markdown",
   "id": "382bdc85-9904-45f9-bee4-1725edea4a44",
   "metadata": {},
   "source": [
    "### 繰り返しホールドアウト法\n",
    "\n",
    "（時系列を考慮して分けた）ホールドアウト法の分割点をランダムに変えて繰り返す方法"
   ]
  },
  {
   "cell_type": "markdown",
   "id": "49fb4395-44e2-4739-9759-7cedceb9c75b",
   "metadata": {},
   "source": [
    ":::{card} \n",
    "\n",
    "より網羅的なまとめは\n",
    "\n",
    "[時系列データの交差検証(クロスバリデーション)は交差検証とはいえないし、良い方法でもないらしい](https://zenn.dev/skata/articles/20241204-tscv)\n",
    "\n",
    "を参照\n",
    ":::"
   ]
  },
  {
   "cell_type": "markdown",
   "id": "da0e7549-a8c2-490d-a40c-be8bfd2aae1d",
   "metadata": {},
   "source": [
    "## プリクエンシャルブロック法はよくない？\n",
    "\n",
    "> プリクエンシャルブロック法、つまりネット上でよく「時系列予測モデルの交差検証法」として紹介される方法は、誤差の推定方法としてあまり良くない。\n",
    ">\n",
    "> [時系列データの交差検証(クロスバリデーション)は交差検証とはいえないし、良い方法でもないらしい](https://zenn.dev/skata/articles/20241204-tscv)\n",
    "\n",
    "\n",
    "Cerqueira et al. (2020)の実験ではプリクエンシャル法はいいパフォーマンスではなかったとのこと。\n",
    "\n",
    ":::{card} Cerqueira et al. (2020)\n",
    "\n",
    "Cerqueira, V., Torgo, L., & Mozetič, I. (2020). [Evaluating time series forecasting models: An empirical study on performance estimation methods](https://link.springer.com/article/10.1007/s10994-020-05910-7). Machine Learning, 109(11), 1997-2028.\n",
    ":::\n",
    "\n",
    "\n",
    "しかし、Cerqueira et al. (2020) では **未来のデータ全体 (理論上は、無限に先の未来まで) の汎化性能を推定することが焦点** となっている。実運用上、例えば毎月や毎週モデルを学習し直していて、学習し直しまでの間の1期間だけ短期的にパフォーマンスが良ければいい、というケースも存在する。その場合はプリクエンシャルブロック法でも良さそう。"
   ]
  },
  {
   "cell_type": "code",
   "execution_count": null,
   "id": "f6dad577-f01b-4176-a71f-adc0edd94b6f",
   "metadata": {},
   "outputs": [],
   "source": []
  }
 ],
 "metadata": {
  "kernelspec": {
   "display_name": "Python 3 (ipykernel)",
   "language": "python",
   "name": "python3"
  },
  "language_info": {
   "codemirror_mode": {
    "name": "ipython",
    "version": 3
   },
   "file_extension": ".py",
   "mimetype": "text/x-python",
   "name": "python",
   "nbconvert_exporter": "python",
   "pygments_lexer": "ipython3",
   "version": "3.10.15"
  }
 },
 "nbformat": 4,
 "nbformat_minor": 5
}
