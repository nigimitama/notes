{
 "cells": [
  {
   "cell_type": "markdown",
   "id": "68644d2c-cf47-4cbf-9b7d-2402f8ee5faa",
   "metadata": {},
   "source": [
    "# Distillation"
   ]
  },
  {
   "cell_type": "markdown",
   "id": "a7d4387d-4d6e-423b-93ec-4227a43032dc",
   "metadata": {},
   "source": [
    "## Knowledge Distillation\n",
    "\n",
    "**知識蒸留（knowledge distillation）** は、あるモデルが学んだことを別のモデルに移すこと。\n",
    "教師モデルを模倣するように生徒モデルが学習していく。"
   ]
  },
  {
   "cell_type": "markdown",
   "id": "654b6579-3d21-4cfd-a59f-57ddd772039b",
   "metadata": {},
   "source": [
    "## Data Distillation\n",
    "\n",
    "教師ラベルのないデータの複数の変換を用いた予測をアンサンブルして新しい訓練用の教師ラベル（疑似ラベル）を自動的に生成する方法\n",
    "\n",
    "[[1712.04440] Data Distillation: Towards Omni-Supervised Learning](https://arxiv.org/abs/1712.04440)\n",
    "\n",
    "> data distillation, a method that ensembles predictions from multiple transformations of unlabeled data, using a single model, to automatically generate new training annotations.\n",
    "\n",
    "\n",
    "疑似ラベルについての言及はなく単にデータを小さくするだけという定義もある\n",
    "\n",
    "\n",
    "[Sachdeva, N., & McAuley, J. (2023). Data Distillation: A Survey.](https://arxiv.org/pdf/2301.04272.pdf)\n",
    "\n",
    "> **(Loose) Definition 1. (Data distillation)** Approaches that aim to synthesize tiny and high-fidelity data summaries which distill the most important knowledge from a given target dataset. Such distilled summaries are optimized to serve as effective drop-in replacements of the original dataset for efficient and accurate data-usage applications like model training, inference, architecture search, etc."
   ]
  },
  {
   "cell_type": "code",
   "execution_count": null,
   "id": "348d8b60-c56d-478b-915a-24dedfc10fe8",
   "metadata": {},
   "outputs": [],
   "source": []
  }
 ],
 "metadata": {
  "kernelspec": {
   "display_name": "Python 3 (ipykernel)",
   "language": "python",
   "name": "python3"
  },
  "language_info": {
   "codemirror_mode": {
    "name": "ipython",
    "version": 3
   },
   "file_extension": ".py",
   "mimetype": "text/x-python",
   "name": "python",
   "nbconvert_exporter": "python",
   "pygments_lexer": "ipython3",
   "version": "3.10.15"
  }
 },
 "nbformat": 4,
 "nbformat_minor": 5
}
