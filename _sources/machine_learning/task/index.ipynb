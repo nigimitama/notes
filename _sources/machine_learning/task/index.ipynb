{
 "cells": [
  {
   "cell_type": "markdown",
   "id": "3463a0c2-b629-4f7c-8f85-36d45b32e1ad",
   "metadata": {},
   "source": [
    "# タスク・データに基づく分類"
   ]
  },
  {
   "cell_type": "markdown",
   "id": "e07cd23a-4d02-4ba5-afc7-18191961a080",
   "metadata": {},
   "source": [
    ":::{tableofcontents}\n",
    ":::"
   ]
  }
 ],
 "metadata": {
  "kernelspec": {
   "display_name": "Python 3 (ipykernel)",
   "language": "python",
   "name": "python3"
  },
  "language_info": {
   "codemirror_mode": {
    "name": "ipython",
    "version": 3
   },
   "file_extension": ".py",
   "mimetype": "text/x-python",
   "name": "python",
   "nbconvert_exporter": "python",
   "pygments_lexer": "ipython3",
   "version": "3.10.18"
  }
 },
 "nbformat": 4,
 "nbformat_minor": 5
}
