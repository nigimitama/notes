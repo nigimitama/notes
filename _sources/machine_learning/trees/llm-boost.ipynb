{
 "cells": [
  {
   "cell_type": "markdown",
   "id": "76726073-cd29-4bd9-be24-01d4d478fb77",
   "metadata": {},
   "source": [
    "# LLM-Boost\n",
    "\n",
    "GBDTにLLMを組み合わせた研究\n",
    "\n",
    "[Jayawardhana, M., Tu, R., Dooley, S., Cherepanova, V., Wilson, A. G., Hutter, F., ... & Goldblum, M. (2025). Transformers Boost the Performance of Decision Trees on Tabular Data across Sample Sizes. arXiv preprint arXiv:2502.02672.](https://arxiv.org/pdf/2502.02672)"
   ]
  },
  {
   "cell_type": "markdown",
   "id": "b7076dea-7b78-4149-9ce5-b289d64e37b9",
   "metadata": {
    "jupyter": {
     "source_hidden": true
    }
   },
   "source": []
  }
 ],
 "metadata": {
  "kernelspec": {
   "display_name": "Python 3 (ipykernel)",
   "language": "python",
   "name": "python3"
  },
  "language_info": {
   "codemirror_mode": {
    "name": "ipython",
    "version": 3
   },
   "file_extension": ".py",
   "mimetype": "text/x-python",
   "name": "python",
   "nbconvert_exporter": "python",
   "pygments_lexer": "ipython3",
   "version": "3.10.15"
  }
 },
 "nbformat": 4,
 "nbformat_minor": 5
}
