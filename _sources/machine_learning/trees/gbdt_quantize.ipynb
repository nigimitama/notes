{
 "cells": [
  {
   "cell_type": "markdown",
   "id": "60bb67e6-edde-4ceb-b3ba-c8bb1bf91ec9",
   "metadata": {},
   "source": [
    "# GBDTの勾配の量子化"
   ]
  },
  {
   "cell_type": "markdown",
   "id": "79bb6dc3-dc0f-4e5e-b023-4d2c887bf1de",
   "metadata": {},
   "source": [
    "[[2207.09682] Quantized Training of Gradient Boosting Decision Trees](https://arxiv.org/abs/2207.09682)\n",
    "\n",
    "[Parameters — LightGBM 4.0.0 documentation](https://lightgbm.readthedocs.io/en/stable/Parameters.html#use_quantized_grad)"
   ]
  },
  {
   "cell_type": "code",
   "execution_count": null,
   "id": "be86122c-4fb7-447e-a904-5575b71e3ac0",
   "metadata": {},
   "outputs": [],
   "source": []
  }
 ],
 "metadata": {
  "kernelspec": {
   "display_name": "Python 3 (ipykernel)",
   "language": "python",
   "name": "python3"
  },
  "language_info": {
   "codemirror_mode": {
    "name": "ipython",
    "version": 3
   },
   "file_extension": ".py",
   "mimetype": "text/x-python",
   "name": "python",
   "nbconvert_exporter": "python",
   "pygments_lexer": "ipython3",
   "version": "3.9.17"
  }
 },
 "nbformat": 4,
 "nbformat_minor": 5
}
