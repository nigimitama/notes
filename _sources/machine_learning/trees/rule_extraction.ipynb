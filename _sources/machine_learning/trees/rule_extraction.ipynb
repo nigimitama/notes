{
 "cells": [
  {
   "cell_type": "markdown",
   "id": "ab588282-57d8-4907-aa4a-ac040817fdad",
   "metadata": {},
   "source": [
    "# Rule Extraction from GBDT\n",
    "\n"
   ]
  },
  {
   "cell_type": "markdown",
   "id": "93e4e779-fb10-47a7-befc-f80c2b1cbc07",
   "metadata": {},
   "source": [
    "## Fire: An optimization approach for fast interpretable rule extraction. (KDD2023)\n",
    "\n",
    ":::{card} Fire: An optimization approach for fast interpretable rule extraction. (KDD2023)\n",
    "\n",
    "[Liu, B., & Mazumder, R. (2023, August). Fire: An optimization approach for fast interpretable rule extraction. In Proceedings of the 29th ACM SIGKDD Conference on Knowledge Discovery and Data Mining (pp. 1396-1405).](https://arxiv.org/pdf/2306.07432)\n",
    "\n",
    ":::\n"
   ]
  },
  {
   "cell_type": "markdown",
   "id": "c3f8a703-3882-4df7-8b73-fb80a8e8333f",
   "metadata": {},
   "source": []
  },
  {
   "cell_type": "code",
   "execution_count": null,
   "id": "8734d15c-8096-4395-8bea-c2d0f5266ce2",
   "metadata": {},
   "outputs": [],
   "source": []
  }
 ],
 "metadata": {
  "kernelspec": {
   "display_name": "Python 3 (ipykernel)",
   "language": "python",
   "name": "python3"
  },
  "language_info": {
   "codemirror_mode": {
    "name": "ipython",
    "version": 3
   },
   "file_extension": ".py",
   "mimetype": "text/x-python",
   "name": "python",
   "nbconvert_exporter": "python",
   "pygments_lexer": "ipython3",
   "version": "3.12.3"
  }
 },
 "nbformat": 4,
 "nbformat_minor": 5
}
