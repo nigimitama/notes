{
 "cells": [
  {
   "cell_type": "markdown",
   "id": "a3102923-71e4-4df9-9068-aa2e55d26cbd",
   "metadata": {},
   "source": [
    "# kNN（k最近傍法）\n",
    "\n",
    "入力$x$に最も近い$k$個の訓練データ$x_1,x_2,\\dots,x_k$のサンプルの平均を使って予測するシンプルな機械学習アルゴリズム"
   ]
  },
  {
   "cell_type": "markdown",
   "id": "ce88191a-b027-4b47-9de7-c3fba840ee2c",
   "metadata": {},
   "source": [
    "## k=0\n",
    "\n",
    "仮想的に$k=0$と置いた0近傍法が理論上の最適レートを達成するらしい。\n",
    "\n",
    "- [論文解説：仮想的な0近傍法による高次バイアス補正 | Jxiv](https://jxiv.jst.go.jp/index.php/jxiv/preprint/view/945)\n"
   ]
  },
  {
   "cell_type": "code",
   "execution_count": null,
   "id": "18e4f40a-ff8f-447f-a5cf-24b11c051973",
   "metadata": {},
   "outputs": [],
   "source": []
  }
 ],
 "metadata": {
  "kernelspec": {
   "display_name": "Python 3 (ipykernel)",
   "language": "python",
   "name": "python3"
  },
  "language_info": {
   "codemirror_mode": {
    "name": "ipython",
    "version": 3
   },
   "file_extension": ".py",
   "mimetype": "text/x-python",
   "name": "python",
   "nbconvert_exporter": "python",
   "pygments_lexer": "ipython3",
   "version": "3.10.15"
  }
 },
 "nbformat": 4,
 "nbformat_minor": 5
}
