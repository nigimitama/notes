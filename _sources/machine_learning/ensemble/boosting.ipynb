{
 "cells": [
  {
   "cell_type": "markdown",
   "id": "9c42a716-f508-492c-9bdb-3ed1c41bf6e4",
   "metadata": {},
   "source": [
    "# Boosting\n",
    "\n"
   ]
  },
  {
   "cell_type": "code",
   "execution_count": null,
   "id": "4f673ef4-47c3-4ba5-b153-1ce460aab009",
   "metadata": {},
   "outputs": [],
   "source": []
  }
 ],
 "metadata": {
  "kernelspec": {
   "display_name": "Python 3 (ipykernel)",
   "language": "python",
   "name": "python3"
  },
  "language_info": {
   "codemirror_mode": {
    "name": "ipython",
    "version": 3
   },
   "file_extension": ".py",
   "mimetype": "text/x-python",
   "name": "python",
   "nbconvert_exporter": "python",
   "pygments_lexer": "ipython3",
   "version": "3.9.16"
  }
 },
 "nbformat": 4,
 "nbformat_minor": 5
}
