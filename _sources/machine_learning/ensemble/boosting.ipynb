{
 "cells": [
  {
   "cell_type": "markdown",
   "id": "9c42a716-f508-492c-9bdb-3ed1c41bf6e4",
   "metadata": {},
   "source": [
    "# ブースティング\n",
    "\n",
    "ブースティング（boosting）は「（0.5よりわずかに正解率が高い程度の）弱い学習器を使って強い学習器を作ることはできるか？」という仮説（boosting hypothethis）から生まれた\n",
    "\n",
    "Schapireの提案は\n",
    "\n",
    "1. 分類器$h_1$を$N$個のサンプルで訓練する\n",
    "2. $h_1$で分類に失敗したサンプルと正しく分類できたサンプルを半々にした$N$個のサンプルで$h_2$を訓練する\n",
    "3. $h_1$と$h_2$で分類結果が一致しない$N$個で$h_3$を訓練する\n",
    "3. ブーストされた分類器$h_B$は$h_1, h_2, h_3$の分類結果の多数決で分類を行う\n",
    "\n",
    "\n",
    "複数の学習器$f_k(x)$の線形和\n",
    "\n",
    "$$\n",
    "\\hat{y}_i = \\sum^K_{k=1} w_k f_k(x_i)\n",
    "$$\n",
    "\n",
    "によって予測値$\\hat{y}_i$を出力する。"
   ]
  },
  {
   "cell_type": "markdown",
   "id": "d8c96b0e-b485-4484-9720-0bd881db6c20",
   "metadata": {},
   "source": []
  }
 ],
 "metadata": {
  "kernelspec": {
   "display_name": "Python 3 (ipykernel)",
   "language": "python",
   "name": "python3"
  },
  "language_info": {
   "codemirror_mode": {
    "name": "ipython",
    "version": 3
   },
   "file_extension": ".py",
   "mimetype": "text/x-python",
   "name": "python",
   "nbconvert_exporter": "python",
   "pygments_lexer": "ipython3",
   "version": "3.9.16"
  }
 },
 "nbformat": 4,
 "nbformat_minor": 5
}
