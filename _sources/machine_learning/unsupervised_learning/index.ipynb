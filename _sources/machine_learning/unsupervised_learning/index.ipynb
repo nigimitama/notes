{
 "cells": [
  {
   "cell_type": "markdown",
   "id": "e10e722a-871e-4256-a144-f37ebde0c0f9",
   "metadata": {},
   "source": [
    "# 教師なし学習\n",
    "\n",
    "次元削減やクラスタリングなど。（一旦両者をまとめておいておく）"
   ]
  },
  {
   "cell_type": "markdown",
   "id": "5e53bc45-8013-47d8-8fa5-cfbb843c996e",
   "metadata": {},
   "source": [
    ":::{tableofcontents}\n",
    ":::"
   ]
  }
 ],
 "metadata": {
  "kernelspec": {
   "display_name": "Python 3 (ipykernel)",
   "language": "python",
   "name": "python3"
  },
  "language_info": {
   "codemirror_mode": {
    "name": "ipython",
    "version": 3
   },
   "file_extension": ".py",
   "mimetype": "text/x-python",
   "name": "python",
   "nbconvert_exporter": "python",
   "pygments_lexer": "ipython3",
   "version": "3.10.14"
  }
 },
 "nbformat": 4,
 "nbformat_minor": 5
}
