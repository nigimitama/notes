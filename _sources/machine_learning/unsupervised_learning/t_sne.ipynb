{
 "cells": [
  {
   "cell_type": "markdown",
   "id": "243f7e6c-33b0-4c7b-a2bc-4d1262e6cf25",
   "metadata": {},
   "source": [
    "## t-SNE\n",
    "\n",
    "[t-SNEを理解して可視化力を高める - Qiita](https://qiita.com/g-k/items/120f1cf85ff2ceae4aba)"
   ]
  }
 ],
 "metadata": {
  "kernelspec": {
   "display_name": "Python 3 (ipykernel)",
   "language": "python",
   "name": "python3"
  },
  "language_info": {
   "codemirror_mode": {
    "name": "ipython",
    "version": 3
   },
   "file_extension": ".py",
   "mimetype": "text/x-python",
   "name": "python",
   "nbconvert_exporter": "python",
   "pygments_lexer": "ipython3",
   "version": "3.10.14"
  }
 },
 "nbformat": 4,
 "nbformat_minor": 5
}
