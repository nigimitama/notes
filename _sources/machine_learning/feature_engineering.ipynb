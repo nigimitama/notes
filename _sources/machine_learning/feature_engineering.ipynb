{
 "cells": [
  {
   "cell_type": "markdown",
   "id": "91ce5ea5-b02a-4ab4-8c56-0c47c816b36b",
   "metadata": {},
   "source": [
    "# Feature Engineering"
   ]
  },
  {
   "cell_type": "markdown",
   "id": "209dbe5b-3b7e-47fa-b075-19eabe4c8a6a",
   "metadata": {},
   "source": [
    "## Scaling\n",
    "\n",
    "[Compare the effect of different scalers on data with outliers — scikit-learn documentation](https://scikit-learn.org/stable/auto_examples/preprocessing/plot_all_scaling.html#original-data)\n",
    "\n",
    "### Min-Max scaling\n",
    "\n",
    "- $[0, 1]$の範囲に変換する。\n",
    "- 線形変換のためデータの分布・相対的な位置関係は変化しない。\n",
    "\n",
    "### Standardization\n",
    "\n",
    "- 平均0、分散1に変換する。\n",
    "- 線形変換のためデータの分布・相対的な位置関係は変化しない。\n",
    "\n",
    "### Power Transformation\n",
    "\n",
    "- 対数変換の一般化\n",
    "    - [sklearn.preprocessing.PowerTransformer](https://scikit-learn.org/stable/modules/generated/sklearn.preprocessing.PowerTransformer.html#sklearn.preprocessing.PowerTransformer)\n",
    "- Box-Cox Transformは正の値しか受け付けないが、Yeo-Johnson transformは負の値も扱える\n",
    "- 非線形変換のためデータの分布は変化する"
   ]
  },
  {
   "cell_type": "markdown",
   "id": "6bf4d886-2b65-41f2-a427-c264409adf35",
   "metadata": {},
   "source": [
    "## Encoding Categorical Features\n",
    "\n",
    "カテゴリカル変数を数値に変換する方法について。\n",
    "\n",
    "### One-Hot Encoding\n",
    "\n",
    "- カテゴリカル変数の値の水準の数$K$だけ列を作り、二値で表現する$x \\in \\{0,1\\}^K$。1レコード$(x_{i1}, x_{i2}, \\dots, x_{iK})$につき1つのみ1をとり、ほかは0をとる\n",
    "- 回帰分析におけるダミー変数は$K-1$個の列を作るので少し異なる\n",
    "\n",
    "### Label Encoding\n",
    "\n",
    "- カテゴリを対応する整数に置き換える。`class A = 1, class B = 2, ...` という感じ\n",
    "\n",
    "### Target Encoding\n",
    "\n",
    "- カテゴリごとに条件づけたもとでの目的変数の集計値（例えば平均値）を使う"
   ]
  },
  {
   "cell_type": "markdown",
   "id": "8caf4860-7c32-4c7d-aa32-da28fd2a7d17",
   "metadata": {},
   "source": [
    "## Domain-Specific Feature Engineering\n",
    "\n",
    "返済比率などドメイン固有の特徴量\n",
    "\n",
    "（※データサイエンティスト協会スキルチェックシートの項目の一つが「ドメイン固有の特徴量を生成できる」）"
   ]
  },
  {
   "cell_type": "markdown",
   "id": "09cdcea4-7d23-46b2-9f4d-572430282faa",
   "metadata": {},
   "source": [
    "## 参考\n",
    "\n",
    "- [Feature Engineering A-Z | Preface](https://feaz-book.com/)\n",
    "    - Feature Engineeringを幅広くまとめた本"
   ]
  }
 ],
 "metadata": {
  "kernelspec": {
   "display_name": "Python 3 (ipykernel)",
   "language": "python",
   "name": "python3"
  },
  "language_info": {
   "codemirror_mode": {
    "name": "ipython",
    "version": 3
   },
   "file_extension": ".py",
   "mimetype": "text/x-python",
   "name": "python",
   "nbconvert_exporter": "python",
   "pygments_lexer": "ipython3",
   "version": "3.10.13"
  }
 },
 "nbformat": 4,
 "nbformat_minor": 5
}
