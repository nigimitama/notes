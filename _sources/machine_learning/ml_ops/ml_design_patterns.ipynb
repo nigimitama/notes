{
 "cells": [
  {
   "cell_type": "markdown",
   "id": "7b5955af-2f19-4ee9-ac23-ebf9e71887ca",
   "metadata": {},
   "source": [
    "# ML Design Patterns\n"
   ]
  },
  {
   "cell_type": "markdown",
   "id": "dec1ff87-aff9-48ad-b2a8-1268cefc872e",
   "metadata": {},
   "source": [
    "## Workflow Pipeline\n",
    "\n",
    "MLのワークフローは\n",
    "\n",
    "```\n",
    "Data Preprocessing\n",
    "→ Data Engineering\n",
    "→ Training\n",
    "→ Model Validation\n",
    "→ Deployment\n",
    "```\n",
    "\n",
    "といったDAGで表現できる"
   ]
  },
  {
   "cell_type": "markdown",
   "id": "9e6b571f-f06d-4c80-910a-a0d286078b9c",
   "metadata": {},
   "source": [
    "## Feature Store\n",
    "\n",
    "特徴量を簡単に利用するためのシステム\n",
    "\n",
    "オープンソースのFeature Storeは[Feast](https://feast.dev/)や[Hopsworks](https://www.hopsworks.ai/)がある\n"
   ]
  },
  {
   "cell_type": "markdown",
   "id": "e4aff946-c39b-4842-b379-7b4edd6833d4",
   "metadata": {},
   "source": [
    "## Model Versioning"
   ]
  },
  {
   "cell_type": "markdown",
   "id": "9ce53132-0ebd-4bf2-8130-7892a9d92b7f",
   "metadata": {},
   "source": [
    "## 参考\n",
    "\n",
    "- [MLOpsのための機械学習におけるデザインパターン | AI専門ニュースメディア AINOW](https://ainow.ai/2022/02/14/262548/)\n",
    "- [O'Reilly Japan - 機械学習デザインパターン](https://www.oreilly.co.jp//books/9784873119564/)"
   ]
  },
  {
   "cell_type": "code",
   "execution_count": null,
   "id": "883057f8-ba1b-4d1f-b78b-dec808c7a4a5",
   "metadata": {},
   "outputs": [],
   "source": []
  }
 ],
 "metadata": {
  "kernelspec": {
   "display_name": "Python 3 (ipykernel)",
   "language": "python",
   "name": "python3"
  },
  "language_info": {
   "codemirror_mode": {
    "name": "ipython",
    "version": 3
   },
   "file_extension": ".py",
   "mimetype": "text/x-python",
   "name": "python",
   "nbconvert_exporter": "python",
   "pygments_lexer": "ipython3",
   "version": "3.9.18"
  }
 },
 "nbformat": 4,
 "nbformat_minor": 5
}
