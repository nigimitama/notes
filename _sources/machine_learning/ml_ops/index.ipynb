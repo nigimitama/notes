{
 "cells": [
  {
   "cell_type": "markdown",
   "id": "1bf855a4-a761-4e79-ad24-442b0f4d1ce9",
   "metadata": {},
   "source": [
    "# MLOps\n",
    "\n",
    "```{tableofcontents}\n",
    "```"
   ]
  },
  {
   "cell_type": "markdown",
   "id": "649f2d73-b192-4c9b-b6f9-06939cab9859",
   "metadata": {},
   "source": [
    "Monitoring / shift detection\n",
    "\n",
    "[SafeML: Safety Monitoring of Machine Learning Classifiers through Statistical Difference Measure | Papers With Code](https://paperswithcode.com/paper/safeml-safety-monitoring-of-machine-learning)"
   ]
  },
  {
   "cell_type": "code",
   "execution_count": null,
   "id": "8f03eaf7-db9b-4076-8892-a033293c2085",
   "metadata": {},
   "outputs": [],
   "source": []
  }
 ],
 "metadata": {
  "kernelspec": {
   "display_name": "Python 3 (ipykernel)",
   "language": "python",
   "name": "python3"
  },
  "language_info": {
   "codemirror_mode": {
    "name": "ipython",
    "version": 3
   },
   "file_extension": ".py",
   "mimetype": "text/x-python",
   "name": "python",
   "nbconvert_exporter": "python",
   "pygments_lexer": "ipython3",
   "version": "3.9.17"
  }
 },
 "nbformat": 4,
 "nbformat_minor": 5
}
