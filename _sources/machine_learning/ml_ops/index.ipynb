{
 "cells": [
  {
   "cell_type": "markdown",
   "id": "1bf855a4-a761-4e79-ad24-442b0f4d1ce9",
   "metadata": {},
   "source": [
    "# MLOps\n",
    "\n",
    "```{tableofcontents}\n",
    "```"
   ]
  },
  {
   "cell_type": "markdown",
   "id": "649f2d73-b192-4c9b-b6f9-06939cab9859",
   "metadata": {},
   "source": [
    "Monitoring / shift detection\n",
    "\n",
    "[SafeML: Safety Monitoring of Machine Learning Classifiers through Statistical Difference Measure | Papers With Code](https://paperswithcode.com/paper/safeml-safety-monitoring-of-machine-learning)"
   ]
  },
  {
   "cell_type": "markdown",
   "id": "77ad3aa7-da0d-4e6c-81d3-4bbb63d3f438",
   "metadata": {},
   "source": [
    "## Pipelines\n",
    "\n",
    "[Towards Modular Machine Learning Pipelines - Microsoft Research](https://www.microsoft.com/en-us/research/publication/towards-modular-machine-learning-pipelines/)\n",
    "- [Modi et al. (2023, July). Towards Modular Machine Learning Pipelines. In ICML Workshop on Localized Learning (LLW).](https://openreview.net/pdf?id=SiSID2Wo6j)\n",
    "\n",
    "ML pipelinesがもつべき性質\n",
    "\n",
    "1. **Independently trainable**: multiple components can be trained in parallel with very limited communication or coordination needed between them\n",
    "2. **Consistent**: if a component is improved to its optimal version (i.e., replaced with the true data generating process for that component), the pipeline does not degrade\n",
    "3. **Aligned**: if a component is incrementally improved, the pipeline is again guaranteed to not degrade.\n",
    "    - Aligned pipelines may not be consistent — incremental shifts need not capture the large distribution shifts implied by consistency.\n"
   ]
  },
  {
   "cell_type": "code",
   "execution_count": null,
   "id": "9e85fbb0-c155-4c58-80be-aa57d4d2d5d7",
   "metadata": {},
   "outputs": [],
   "source": []
  }
 ],
 "metadata": {
  "kernelspec": {
   "display_name": "Python 3 (ipykernel)",
   "language": "python",
   "name": "python3"
  },
  "language_info": {
   "codemirror_mode": {
    "name": "ipython",
    "version": 3
   },
   "file_extension": ".py",
   "mimetype": "text/x-python",
   "name": "python",
   "nbconvert_exporter": "python",
   "pygments_lexer": "ipython3",
   "version": "3.9.18"
  }
 },
 "nbformat": 4,
 "nbformat_minor": 5
}
