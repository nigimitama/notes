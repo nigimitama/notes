{
 "cells": [
  {
   "cell_type": "markdown",
   "id": "750c5838-5c94-46f2-9e5d-0551962c82c6",
   "metadata": {},
   "source": [
    "# Conformal Regression"
   ]
  },
  {
   "cell_type": "markdown",
   "id": "4b3e33e8-1eeb-4dd4-965e-6d5a11f2780e",
   "metadata": {},
   "source": [
    "Conformal Prediction (CP) は予測区間（prediction intervals）を算出するためのフレームワーク。"
   ]
  },
  {
   "cell_type": "markdown",
   "id": "b672e5a0-eea4-4c86-a6ef-411547c57cd6",
   "metadata": {},
   "source": []
  },
  {
   "cell_type": "markdown",
   "id": "74bcc01a-4e29-44be-9c2e-7af7752fe2a8",
   "metadata": {},
   "source": [
    "## 参考\n",
    "\n",
    "- [Conformal prediction - Wikipedia](https://en.wikipedia.org/wiki/Conformal_prediction)\n",
    "- [tidymodels - Conformal inference for regression models](https://www.tidymodels.org/learn/models/conformal-regression/)"
   ]
  },
  {
   "cell_type": "code",
   "execution_count": null,
   "id": "acf758a9-b13f-4e7f-9943-d72999987cb3",
   "metadata": {},
   "outputs": [],
   "source": []
  }
 ],
 "metadata": {
  "kernelspec": {
   "display_name": "Python 3 (ipykernel)",
   "language": "python",
   "name": "python3"
  },
  "language_info": {
   "codemirror_mode": {
    "name": "ipython",
    "version": 3
   },
   "file_extension": ".py",
   "mimetype": "text/x-python",
   "name": "python",
   "nbconvert_exporter": "python",
   "pygments_lexer": "ipython3",
   "version": "3.10.13"
  }
 },
 "nbformat": 4,
 "nbformat_minor": 5
}
