{
 "cells": [
  {
   "cell_type": "markdown",
   "id": "5c917a2a-41f7-4dc2-a97f-e784a20be886",
   "metadata": {},
   "source": [
    "# 条件付き分布予測"
   ]
  },
  {
   "cell_type": "markdown",
   "id": "78ee3488-e250-4abc-9837-fe223d244b40",
   "metadata": {},
   "source": [
    "目的変数$y$の特徴量$X$の条件付き分布$P(y|X)$を予測する方法について。"
   ]
  },
  {
   "cell_type": "markdown",
   "id": "0fe0778e-341c-475f-abd2-3bc99562e194",
   "metadata": {},
   "source": [
    "## NGBoost\n",
    "\n",
    "[NGBoost: Natural Gradient Boosting for Probabilistic Prediction](https://stanfordmlgroup.github.io/projects/ngboost/)\n",
    "\n",
    "目的変数の条件付き分布を例えば正規分布と仮定して、平均・分散といった分布のパラメータを推定する。\n",
    "\n",
    "決定木部分はLightGBMのような計算量削減がとられてないので遅い"
   ]
  },
  {
   "cell_type": "markdown",
   "id": "874ef55e-3dcf-4e7e-a3c8-d564bb33ec34",
   "metadata": {},
   "source": [
    "## LightGBMLSS\n",
    "\n",
    "[LightGBMLSS](https://statmixedml.github.io/LightGBMLSS/)というパッケージを使うと、LightGBMで分布予測ができる\n"
   ]
  }
 ],
 "metadata": {
  "kernelspec": {
   "display_name": "Python 3 (ipykernel)",
   "language": "python",
   "name": "python3"
  },
  "language_info": {
   "codemirror_mode": {
    "name": "ipython",
    "version": 3
   },
   "file_extension": ".py",
   "mimetype": "text/x-python",
   "name": "python",
   "nbconvert_exporter": "python",
   "pygments_lexer": "ipython3",
   "version": "3.10.15"
  }
 },
 "nbformat": 4,
 "nbformat_minor": 5
}
