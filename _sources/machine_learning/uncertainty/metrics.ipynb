{
 "cells": [
  {
   "cell_type": "markdown",
   "id": "7ade4391-c0f7-441d-b398-d855ea3cac6c",
   "metadata": {},
   "source": [
    "# 区間予測の評価指標"
   ]
  },
  {
   "cell_type": "markdown",
   "id": "144d23fb-3090-437c-a4f1-1dd40e9f64e0",
   "metadata": {},
   "source": [
    "## D2 pinball score\n",
    "\n",
    "$D^2$は決定係数$R^2$の一般化\n",
    "\n",
    "$$\n",
    "D^2(y, \\hat{y}) = 1 - \\frac{\\text{dev}(y, \\hat{y})}{\\text{dev}(y, y_{\\text{null}})}\n",
    "$$\n",
    "\n",
    "ここで$y_{\\text{null}}$は切片のみのモデルの最適解（例：二乗誤差なら$y$の平均値、絶対誤差なら$y$の中央値、pinball lossなら$y$の指定されたquantile）\n",
    "\n",
    "この$D^2$に\n",
    "\n",
    "$$\n",
    "\\text{dev}(y, \\hat{y})\n",
    "= \\text{pinball}(y, \\hat{y})\n",
    "= \\begin{cases}\n",
    "(\\tau - 1) (y - \\hat{y}) & \\text{ if } (y - \\hat{y}) \\leq 0\\\\\n",
    "\\tau (y - \\hat{y}) & \\text{ if } (y - \\hat{y}) > 0\\\\\n",
    "\\end{cases}\n",
    "$$\n",
    "\n",
    "を代入したものが$D^2$ pinball score\n",
    "\n",
    "（参考：[3.3. Metrics and scoring: quantifying the quality of predictions — scikit-learn 1.4.1 documentation](https://scikit-learn.org/stable/modules/model_evaluation.html#d2-score)）"
   ]
  },
  {
   "cell_type": "markdown",
   "id": "f2b92078-59b0-437f-be35-8ea4483eb3c9",
   "metadata": {},
   "source": [
    "## interval score\n",
    "\n",
    "- [[2011.09588] Beyond Pinball Loss: Quantile Methods for Calibrated Uncertainty Quantification](https://arxiv.org/abs/2011.09588)"
   ]
  }
 ],
 "metadata": {
  "kernelspec": {
   "display_name": "Python 3 (ipykernel)",
   "language": "python",
   "name": "python3"
  },
  "language_info": {
   "codemirror_mode": {
    "name": "ipython",
    "version": 3
   },
   "file_extension": ".py",
   "mimetype": "text/x-python",
   "name": "python",
   "nbconvert_exporter": "python",
   "pygments_lexer": "ipython3",
   "version": "3.10.13"
  }
 },
 "nbformat": 4,
 "nbformat_minor": 5
}
