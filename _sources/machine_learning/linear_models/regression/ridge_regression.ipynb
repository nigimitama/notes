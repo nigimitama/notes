{
 "cells": [
  {
   "cell_type": "markdown",
   "id": "c1478d36-5fe8-464a-b765-370050d17ace",
   "metadata": {},
   "source": [
    "# Ridge回帰"
   ]
  },
  {
   "cell_type": "markdown",
   "id": "da6c75c1-93b4-48ad-bdd5-e55ff94129a6",
   "metadata": {},
   "source": [
    "## モデル\n",
    "\n",
    "**リッジ回帰**（ridge regression）は誤差関数に正則化項を追加した線形回帰モデルである。\n",
    "\n",
    "モデル自体は線形回帰と同様で目的変数$y$をパラメータ$\\boldsymbol{\\beta}=(\\beta_1, \\beta_2, ..., \\beta_d)^\\top$と特徴量$\\boldsymbol{x}=(x_1, x_2, ..., x_d)^\\top$の線形関数と誤差$\\varepsilon$で表現するものになる。\n",
    "\n",
    "$$\n",
    "y = \\beta_0 + \\beta_1 x_1 + \\cdots + \\beta_d x_d + \\varepsilon\n",
    "$$\n",
    "\n",
    "サンプルサイズが$n$のデータセット$\\{\\boldsymbol{x}_i, y_i\\}^n_{i=1}$があるとして、目的変数を$\\boldsymbol{y} = (y_1, y_2, ..., y_n)^\\top$、特徴量を$\\boldsymbol{X}=(\\boldsymbol{x}_1, \\boldsymbol{x}_2, ..., \\boldsymbol{x}_n)^\\top$とおくと\n",
    "\n",
    "$$\n",
    "\\boldsymbol{y}=\\boldsymbol{X} \\boldsymbol{\\beta}+\\boldsymbol{\\varepsilon}\n",
    "$$\n",
    "\n",
    "と表記することもできる。\n"
   ]
  },
  {
   "cell_type": "markdown",
   "id": "9135e0fb-8c78-4254-96c0-c7dcd98f1bfd",
   "metadata": {},
   "source": [
    "## パラメータの推定\n",
    "\n",
    "### 制約付き最小化問題\n",
    "\n",
    "リッジ回帰が線形回帰と違う点は、パラメータの推定（誤差関数の最小化）に関して制約条件があること。\n",
    "\n",
    "線形回帰は目的変数の実測値$y_i$と予測値$\\hat{y}_i=\\sum^d_{j=1} x_{ij} \\beta_j$の誤差二乗和$SSE=\\sum^n_{i=1} (y_i - \\hat{y}_i)^2$を最小にするパラメータを求めるものであった。\n",
    "\n",
    "$$\n",
    "\\newcommand{\\argmin}{\\mathop{\\rm arg~min}\\limits}\n",
    "\\hat{\\boldsymbol{\\beta}}^{\\text{LS}} = \\argmin_{\\boldsymbol{\\beta}}\n",
    "\\sum^n_{i=1} (y_i - \\hat{y}_i)^2\n",
    "$$\n",
    "\n",
    "リッジ回帰はこれに「パラメータ$\\beta_j$の二乗和がある値$R$以下である」という制約条件が付いた下でパラメータを推定する。\n",
    "\n",
    "$$\n",
    "\\newcommand{\\argmin}{\\mathop{\\rm arg~min}\\limits}\n",
    "\\begin{align}\n",
    "\\hat{\\boldsymbol{\\beta}}^{\\text{Ridge}} = \\text{ } \n",
    "& \\argmin_{\\boldsymbol{\\beta}} \\sum^n_{i=1} (y_i - \\hat{y}_i)^2\n",
    "\\\\\n",
    "& \\text{subject to } \\sum^d_{i=1} \\beta_j^2 \\leq R\n",
    "\\end{align}\n",
    "$$\n",
    "\n",
    "この問題を解くために、**ラグランジュの未定乗数法**を利用する。"
   ]
  },
  {
   "cell_type": "code",
   "execution_count": 1,
   "id": "fd1f5578-e972-4a30-aace-ad9a86aa2214",
   "metadata": {
    "editable": true,
    "slideshow": {
     "slide_type": ""
    },
    "tags": [
     "hide-input",
     "hide-output"
    ]
   },
   "outputs": [
    {
     "data": {
      "text/plain": [
       "<matplotlib.collections.PathCollection at 0x7f8d65c6b700>"
      ]
     },
     "execution_count": 1,
     "metadata": {},
     "output_type": "execute_result"
    },
    {
     "data": {
      "image/png": "[encoded data removed]",
      "text/plain": [
       "<Figure size 400x400 with 1 Axes>"
      ]
     },
     "metadata": {},
     "output_type": "display_data"
    }
   ],
   "source": [
    "# 二乗和が円になるイメージ\n",
    "import numpy as np\n",
    "import matplotlib.pyplot as plt\n",
    "import itertools\n",
    "\n",
    "R = 0.5\n",
    "b1 = np.linspace(-1, 1, 100)\n",
    "b2 = np.linspace(-1, 1, 100)\n",
    "b = np.array(list(itertools.product(b1, b2)))\n",
    "is_in_R = (b[:, 0]**2 + b[:, 1]**2) <= R\n",
    "\n",
    "fig, ax = plt.subplots(figsize=[4, 4])\n",
    "ax.scatter(b[~is_in_R, 0], b[~is_in_R, 1])\n",
    "ax.scatter(b[is_in_R, 0], b[is_in_R, 1], color=\"orange\")"
   ]
  },
  {
   "cell_type": "markdown",
   "id": "a2d7fdb3-8f56-41ad-90af-493d62fc023e",
   "metadata": {},
   "source": [
    "### 誤差関数の整理\n",
    "\n",
    "ラグランジュの未定乗数法を利用して、誤差関数を以下のように書くことができる。\n",
    "\n",
    "$$\n",
    "J({\\boldsymbol{\\beta}})\n",
    "= \\sum_{i=1}^n(y_i - \\hat{y}_i)^2 + \\lambda \\sum_{j=1}^d \\beta_j^2\n",
    "$$\n",
    "\n",
    "この右辺第二項は**正則化項**、$\\lambda$は**正則化パラメータ**と呼ばれる。$\\lambda=0$のときは最小二乗法と同じ誤差関数になり、得られる推定量も最小二乗推定量と等しくなる。\n",
    "\n",
    "一般的なラグランジュ双対問題とは異なり、リッジ回帰では最適な$\\lambda$を推定することはせず、あらかじめ$\\lambda$を指定して$x$を推定する。（誤差を最小にする$\\lambda$はゼロであり、正則化の意味がなくなるためだと思われる。）\n",
    "\n",
    "また、最初の制約問題で登場した$R$は誤差関数に含めない（おそらく誤差関数を$\\beta$について微分したときに定数項の$R$は消えて特に影響をもたらさないため）\n",
    "\n",
    "ちなみに行列表記するとこんな感じに表される。\n",
    "\n",
    "$$\n",
    "\\begin{align}\n",
    "J({\\boldsymbol{\\beta}})\n",
    "&= \\sum_{i=1}^n(y_i - \\hat{y}_i)^2 + \\lambda \\sum_{j=1}^d \\beta_j^2\n",
    "\\\\\n",
    "&= \\| \\boldsymbol{y}-\\boldsymbol{X}\\boldsymbol{\\beta}\\|^2_2\n",
    "+ \\lambda\\| \\boldsymbol{\\beta}\\|^2_2\n",
    "\\\\\n",
    "&= (\\boldsymbol{y}-\\boldsymbol{X}\\boldsymbol{\\beta})^\\top \n",
    "(\\boldsymbol{y}-\\boldsymbol{X}\\boldsymbol{\\beta})\n",
    "+ \\lambda \\boldsymbol{\\beta}^\\top \\boldsymbol{\\beta}\n",
    "\\end{align}\n",
    "$$\n",
    "\n",
    "リッジ回帰の推定量$\\hat{\\boldsymbol{\\beta}}^{\\text{Ridge}}$は解析的に解くことができ、\n",
    "\n",
    "$$\n",
    "\\begin{align}\n",
    "J(\\boldsymbol{\\beta})\n",
    "&= (\\boldsymbol{y}-\\boldsymbol{X}\\boldsymbol{\\beta})^\\top \n",
    "(\\boldsymbol{y}-\\boldsymbol{X}\\boldsymbol{\\beta})\n",
    "+ \\lambda \\boldsymbol{\\beta}^\\top \\boldsymbol{\\beta}\n",
    "\\\\\n",
    "&= \\boldsymbol{y}^\\top \\boldsymbol{y}\n",
    "- \\boldsymbol{y}^\\top \\boldsymbol{X}\\boldsymbol{\\beta}\n",
    "- (\\boldsymbol{X}\\boldsymbol{\\beta})^\\top \\boldsymbol{y}\n",
    "+ (\\boldsymbol{X}\\boldsymbol{\\beta})^\\top\n",
    "(\\boldsymbol{X}\\boldsymbol{\\beta})\n",
    "+ \\lambda \\boldsymbol{\\beta}^\\top \\boldsymbol{\\beta}\n",
    "\\\\\n",
    "&= \\boldsymbol{y}^\\top \\boldsymbol{y}\n",
    "- 2 \\boldsymbol{\\beta}^\\top \\boldsymbol{X}^\\top \\boldsymbol{y}\n",
    "+ \\boldsymbol{\\beta}^\\top \\boldsymbol{X}^\\top \n",
    "\\boldsymbol{X} \\boldsymbol{\\beta}\n",
    "+ \\lambda \\boldsymbol{\\beta}^\\top \\boldsymbol{\\beta}\n",
    "\\end{align}\n",
    "$$\n",
    "\n",
    "なので、誤差関数の傾きがゼロ（誤差が最小値）の点を求めると\n",
    "\n",
    "$$\n",
    "\\frac{\\partial J(\\boldsymbol{\\beta})}{\\partial \\boldsymbol{\\beta}}\n",
    "= -2\\boldsymbol{X}^\\top\\boldsymbol{y}\n",
    "+ 2(\\boldsymbol{X}^\\top\\boldsymbol{X})\\boldsymbol{\\beta}\n",
    "+ 2\\lambda\\boldsymbol{\\beta}\n",
    "=\\boldsymbol{0}\n",
    "\\\\\n",
    "\\Longrightarrow\n",
    "(\\boldsymbol{X}^\\top\\boldsymbol{X})\\boldsymbol{\\beta}\n",
    "+ \\lambda\\boldsymbol{\\beta}\n",
    "=\\boldsymbol{X}^\\top\\boldsymbol{y}\n",
    "\\\\\n",
    "\\Longrightarrow\n",
    "(\\boldsymbol{X}^\\top\\boldsymbol{X} + \\lambda \\boldsymbol{I})\\boldsymbol{\\beta}\n",
    "=\\boldsymbol{X}^\\top\\boldsymbol{y}\n",
    "$$\n",
    "\n",
    "となり、\n",
    "\n",
    "$$\n",
    "\\hat{\\boldsymbol{\\beta}}^{\\text{Ridge}}\n",
    "= (\\boldsymbol{X}^\\top \\boldsymbol{X} + \\lambda \\boldsymbol{I})^{-1}\n",
    "\\boldsymbol{X}^\\top \\boldsymbol{y}\n",
    "$$\n",
    "\n",
    "となる。"
   ]
  },
  {
   "cell_type": "markdown",
   "id": "2c03d0d1-fb8d-4f8d-a4a0-21c4520f4d2e",
   "metadata": {},
   "source": [
    "## リッジ回帰の特徴\n",
    "\n",
    "リッジ回帰は制約をかけたことにより通常の線形回帰（最小二乗法）とは異なる特徴をもっている。\n",
    "\n",
    "### 正則化\n",
    "\n",
    "線形回帰の最小二乗推定量$\\hat{\\boldsymbol{\\beta}}^{\\text{LS}}$は次のようなものだった。\n",
    "\n",
    "$$\n",
    "\\hat{\\boldsymbol{\\beta}}^{\\text{LS}}\n",
    "= (\\boldsymbol{X}^\\top \\boldsymbol{X})^{-1}\n",
    "\\boldsymbol{X}^\\top \\boldsymbol{y}\n",
    "$$\n",
    "このとき、\n",
    "\n",
    "1. $\\boldsymbol{X}$の列数が行数よりも多い（サンプルサイズより特徴量の次元数のほうが多い）\n",
    "2. 特徴量間の相関が非常に強い\n",
    "\n",
    "といった状況においては、$\\boldsymbol{X}^\\top \\boldsymbol{X}$が正則でなくなって逆行列が計算できなくなったり、あるいは推定が不安定になることがある。\n",
    "\n",
    "そこでリッジ回帰の推定量$\\hat{\\boldsymbol{\\beta}}^{\\text{Ridge}}$では\n",
    "\n",
    "$$\n",
    "\\hat{\\boldsymbol{\\beta}}^{\\text{Ridge}}\n",
    "= (\\boldsymbol{X}^\\top \\boldsymbol{X} + \\lambda \\boldsymbol{I})^{-1}\n",
    "\\boldsymbol{X}^\\top \\boldsymbol{y}\n",
    "$$\n",
    "\n",
    "と、$\\boldsymbol{X}^\\top \\boldsymbol{X}$の対角成分に$\\lambda$を足すことで尾根（ridge）を作り、正則にすることで逆行列が計算できるようにしている。\n"
   ]
  },
  {
   "cell_type": "markdown",
   "id": "32e65574-f86b-49e4-925a-9ad141d9214c",
   "metadata": {},
   "source": [
    ":::{admonition} リッジ推定量が正則となる証明\n",
    "\n",
    "$X$は$n$次の実行列とする。実対称行列$X^\\top X$は非負値定符号行列であるため、\n",
    "\n",
    "$$\n",
    "X^\\top X = P \\Gamma P^\\top\n",
    "$$\n",
    "\n",
    "と分解可能。ここで$P$は直交行列であり、$\\gamma = \\mathrm{diag}(\\gamma_1, \\cdots, \\gamma_n)$は$X^\\top X$の固有値（$\\gamma_1 \\geq \\cdots \\geq \\gamma_n \\geq 0$）を対角成分にもつ対角行列。\n",
    "\n",
    "もし$\\gamma_n = 0$なら$X^\\top X$の逆行列は存在せず、$\\gamma_n > 0$なら逆行列は存在し、\n",
    "\n",
    "$$\n",
    "\\begin{aligned}\n",
    "(X^\\top X)^{-1}\n",
    "&= (P \\Gamma P^\\top)^{-1}\\\\\n",
    "&= P \\Gamma^{-1} P^\\top \\quad (\\because (ABC)^{-1} = (C^{-1} B^{-1} A^{-1}) であり、 Pは直交行列なのでP^\\top = P^{-1})\\\\\n",
    "&= P \\operatorname{diag}(1 / \\gamma_1, \\ldots, 1 / \\gamma_p) P^\\top\n",
    "\\end{aligned}\n",
    "$$\n",
    "\n",
    "となる。$X^\\top X$の最小固有値が$\\gamma_n \\to 0$の場合、$1/\\gamma_n \\to \\infty$になり逆行列が計算できない。\n",
    "\n",
    "一方、リッジ推定量のように$X^\\top X + \\lambda I$とする（$\\lambda \\in\\mathbb{R}$）と、その逆行列は\n",
    "\n",
    "$$\n",
    "\\begin{aligned}\n",
    "(X^\\top X + \\lambda I)^{-1}\n",
    "&= (P \\Gamma P^\\top + \\lambda I)^{-1}\\\\\n",
    "&= \\{ P (\\Gamma + \\lambda I) P^\\top \\}^{-1}\\\\\n",
    "&= P (\\Gamma + \\lambda I)^{-1} P^\\top\\\\\n",
    "&= P \\operatorname{diag}[1 / (\\gamma_1 + \\lambda I), \\ldots, 1 / (\\gamma_p + \\lambda I)] P^\\top\n",
    "\\end{aligned}\n",
    "$$\n",
    "\n",
    "となる。こちらは$\\gamma_n \\to 0$の場合であっても$1 / (\\gamma_p + \\lambda I)$は無限大に発散することがないため、$X^\\top X + \\lambda I$は正則となる。\n",
    ":::"
   ]
  },
  {
   "cell_type": "markdown",
   "id": "81febeb1-f066-4842-acb6-caee259eb97f",
   "metadata": {},
   "source": [
    "\n",
    "### 過学習の抑制\n",
    "\n",
    "リッジ回帰の誤差関数\n",
    "\n",
    "$$\n",
    "J(\\beta)=\n",
    "\\sum_{i=1}^n(y_i - \\hat{y}_i)^2 + \\lambda \\sum_{j=1}^d \\beta_j^2\n",
    "$$\n",
    "\n",
    "は、$\\lambda$を大きくすると誤差に占める第二項の比重が大きくなり、パラメータ$\\beta_j$の値をゼロに向けて縮小（shrink）させる。\n",
    "\n",
    "パラメータが学習データに過学習して大きい値になっているような状況ではパラメータをうまく縮小させることによって過学習を抑制してモデルの汎化誤差を下げることができる。\n"
   ]
  },
  {
   "cell_type": "markdown",
   "id": "2186270a-f4ab-4e0e-a830-df8e686270da",
   "metadata": {},
   "source": [
    "## 推定量のバイアスとバリアンス\n",
    "\n",
    "正則化しない通常の最小二乗推定量はBLUE（最良線形不偏推定量：線形不偏推定量のなかでバリアンスが最小）だった。\n",
    "リッジ回帰やlassoの推定量は不偏ではない（バイアスがある）推定量であるが、最小二乗推定量よりも小さなバリアンスとなる可能性がある。\n",
    "そのため、最小二乗推定法を使用する線形回帰よりもリッジ回帰のほうが予測の2乗誤差を小さくする可能性がある。\n",
    "\n",
    "$$\n",
    "\\begin{aligned}\n",
    "\\operatorname{Var}(\\hat{\\beta}^{\\text{Ridge}})\n",
    "&= \\sigma^2 (X^\\top X + \\lambda I)^{-1} X^\\top X(X^\\top X + \\lambda I)^{-1}\\\\\n",
    "&\\leq \\sigma^2 (X^\\top X)^{-1} = \\operatorname{Var}(\\hat{\\beta}^{\\text{LS}})\n",
    "\\end{aligned}\n",
    "$$\n",
    "\n",
    "[Ridge Regression: Biased Estimation for Nonorthogonal Problems](https://www.math.arizona.edu/~hzhang/math574m/Read/RidgeRegressionBiasedEstimationForNonorthogonalProblems.pdf)\n",
    "\n",
    "https://hastie.su.domains/StatLearnSparsity_files/SLS.pdf"
   ]
  },
  {
   "cell_type": "markdown",
   "id": "8924abca-53e0-4082-aada-603b80bd7313",
   "metadata": {},
   "source": [
    "## モンテカルロ・シミュレーション\n",
    "\n",
    "多項式をつかったデータに、多項式回帰をfittingしてみる"
   ]
  },
  {
   "cell_type": "markdown",
   "id": "78fb0f27-3a27-4a6d-a776-8bd4ee72c959",
   "metadata": {},
   "source": [
    "$$\n",
    "y = \\beta_0 + \\beta_1 x + \\beta_2 x^2 + u\n",
    "$$"
   ]
  },
  {
   "cell_type": "code",
   "execution_count": 369,
   "id": "05a90a5c-180f-4379-bad3-719d580375d2",
   "metadata": {},
   "outputs": [
    {
     "data": {
      "text/plain": [
       "<matplotlib.collections.PathCollection at 0x7f897cf99840>"
      ]
     },
     "execution_count": 369,
     "metadata": {},
     "output_type": "execute_result"
    },
    {
     "data": {
      "image/png": "[encoded data removed]",
      "text/plain": [
       "<Figure size 640x480 with 1 Axes>"
      ]
     },
     "metadata": {},
     "output_type": "display_data"
    }
   ],
   "source": [
    "import numpy as np\n",
    "beta = np.array([3, 2, 1])\n",
    "\n",
    "def gen_data(seed=0, n=500):\n",
    "    np.random.seed(seed)\n",
    "    x = np.random.uniform(-5, 3, size=n)\n",
    "    X = np.array([np.ones(n), x, x**2]).T\n",
    "    u = np.random.normal(scale=3, size=n)\n",
    "    y = X @ beta + u\n",
    "    return X, y\n",
    "\n",
    "import matplotlib.pyplot as plt\n",
    "X, y = gen_data(seed=0, n=30)\n",
    "plt.scatter(X[:, 1], y)"
   ]
  },
  {
   "cell_type": "code",
   "execution_count": 370,
   "id": "be1239e2-3959-4a73-ba50-b8779795cf35",
   "metadata": {
    "editable": true,
    "slideshow": {
     "slide_type": ""
    },
    "tags": [
     "hide-input"
    ]
   },
   "outputs": [
    {
     "name": "stdout",
     "output_type": "stream",
     "text": [
      "\n",
      "beta1\n",
      "\n",
      "bias:\n",
      "- ols: -0.026\n",
      "- ridge: 0.038\n",
      "\n",
      "variance:\n",
      "- ols: 0.115\n",
      "- ridge: 0.110\n",
      "\n"
     ]
    }
   ],
   "source": [
    "class OLS:\n",
    "    def fit(self, X, y):\n",
    "        self.beta_ = np.linalg.inv(X.T @ X) @ X.T @ y\n",
    "        return self\n",
    "\n",
    "    def predict(self, X):\n",
    "        return X @ self.beta_\n",
    "\n",
    "\n",
    "class Ridge:\n",
    "    def __init__(self, lamb = 0.1):\n",
    "        self.lambda_ = lamb\n",
    "\n",
    "    def fit(self, X, y):\n",
    "        d = X.shape[1]\n",
    "        I = np.ones((d, d))\n",
    "        self.beta_ = np.linalg.inv((X.T @ X) + self.lambda_ * I) @ X.T @ y\n",
    "        return self\n",
    "\n",
    "    def predict(self, X):\n",
    "        return X @ self.beta_\n",
    "\n",
    "\n",
    "from sklearn.metrics import mean_squared_error\n",
    "\n",
    "results = []\n",
    "for i in range(500):\n",
    "    result = {}\n",
    "    X_train, y_train = gen_data(seed=i, n=30)\n",
    "    X_test, y_test = gen_data(seed=i+1, n=100)\n",
    "\n",
    "    reg = OLS().fit(X_train, y_train)\n",
    "    y_pred = reg.predict(X_test)\n",
    "    result[\"ols_beta\"] = reg.beta_[1]\n",
    "    result[\"ols_error\"] = mean_squared_error(y_test, y_pred)\n",
    "    \n",
    "    reg = Ridge(lamb=1).fit(X_train, y_train)\n",
    "    y_pred = reg.predict(X_test)\n",
    "    result[\"ridge_beta\"] = reg.beta_[1]\n",
    "    result[\"ridge_error\"] = mean_squared_error(y_test, y_pred)\n",
    "\n",
    "    results.append(result)\n",
    "\n",
    "import pandas as pd\n",
    "results = pd.DataFrame(results)\n",
    "print(f\"\"\"\n",
    "beta1\n",
    "\n",
    "bias:\n",
    "- ols: {beta[1] - results[\"ols_beta\"].mean():.3f}\n",
    "- ridge: {beta[1] - results[\"ridge_beta\"].mean():.3f}\n",
    "\n",
    "variance:\n",
    "- ols: {results[\"ols_beta\"].var():.3f}\n",
    "- ridge: {results[\"ridge_beta\"].var():.3f}\n",
    "\"\"\")"
   ]
  },
  {
   "cell_type": "markdown",
   "id": "61f701b0-c89c-4e9c-b6cc-29cf9376de69",
   "metadata": {},
   "source": [
    "ridgeのほうがvarianceが若干小さくbiasが大きくなっている"
   ]
  },
  {
   "cell_type": "code",
   "execution_count": 371,
   "id": "aab49e69-b48e-4955-a508-a9101b3c3ee1",
   "metadata": {
    "editable": true,
    "slideshow": {
     "slide_type": ""
    },
    "tags": [
     "hide-input"
    ]
   },
   "outputs": [
    {
     "data": {
      "image/png": "[encoded data removed]",
      "text/plain": [
       "<Figure size 640x480 with 1 Axes>"
      ]
     },
     "metadata": {},
     "output_type": "display_data"
    }
   ],
   "source": [
    "fig, ax = plt.subplots()\n",
    "ax.hist(beta[1] - results[\"ols_beta\"], label=\"OLS\", alpha=0.5, bins=20)\n",
    "ax.hist(beta[1] - results[\"ridge_beta\"], label=\"Ridge\", alpha=0.5, bins=20)\n",
    "ax.axvline(beta[1] - results[\"ols_beta\"].mean(), label=\"Bias(OLS)\", color=\"steelblue\")\n",
    "ax.axvline(beta[1] - results[\"ridge_beta\"].mean(), label=\"Bias(Ridge)\", color=\"darkorange\")\n",
    "ax.legend()\n",
    "ax.set(xlabel=r\"$\\beta_1 - \\hat\\beta_1$\", ylabel=\"Frequency\")\n",
    "fig.show()"
   ]
  },
  {
   "cell_type": "code",
   "execution_count": 373,
   "id": "611eebdc-c082-45a8-8dcf-36313194be0d",
   "metadata": {},
   "outputs": [
    {
     "data": {
      "image/png": "[encoded data removed]",
      "text/plain": [
       "<Figure size 640x480 with 1 Axes>"
      ]
     },
     "metadata": {},
     "output_type": "display_data"
    }
   ],
   "source": [
    "fig, ax = plt.subplots()\n",
    "ax.hist(results[\"ols_error\"], label=\"OLS\", alpha=0.5, bins=20)\n",
    "ax.hist(results[\"ridge_error\"], label=\"Ridge\", alpha=0.5, bins=20)\n",
    "ax.axvline(results[\"ols_error\"].mean(), label=\"Mean(OLS)\", color=\"steelblue\")\n",
    "ax.axvline(results[\"ridge_error\"].mean(), label=\"Mean(Ridge)\", color=\"darkorange\")\n",
    "ax.legend()\n",
    "ax.set(xlabel=\"Mean Squared Error\", ylabel=\"Frequency\")\n",
    "fig.show()"
   ]
  },
  {
   "cell_type": "markdown",
   "id": "249c65a6-33fc-4fef-b013-ec86164ed984",
   "metadata": {},
   "source": [
    "\n",
    "## 参考文献\n",
    "\n",
    "### リッジ回帰\n",
    "\n",
    "- 杉山将『イラストで学ぶ機械学習』\n",
    "- スパース推定\n",
    "- ESLⅡ\n",
    "- [Ridge | L2 正則化を用いて多重共線性を回避してパラメーター推定を行う方法](https://stats.biopapyrus.jp/sparse-modeling/ridge.html)\n",
    "- [リッジ回帰 - 機械学習の「朱鷺の杜Wiki」](http://ibisforest.org/index.php?%E3%83%AA%E3%83%83%E3%82%B8%E5%9B%9E%E5%B8%B0)\n",
    "- 佐和隆光. (1979). 回帰分析.\n",
    "\n",
    "### ラグランジュの未定乗数法\n",
    "\n",
    "- [ラグランジュ緩和と双対問題](http://tomomi.my.coocan.jp/text/relax1.pdf)\n",
    "- 『言語処理のための機械学習入門』pp.14-19\n",
    "- [ラグランジュ双対問題について解説 - Qiita](https://qiita.com/birdwatcher/items/b23209f06177373c6df4)\n",
    "- 『これならわかる最適化数学』\n"
   ]
  }
 ],
 "metadata": {
  "kernelspec": {
   "display_name": "Python 3 (ipykernel)",
   "language": "python",
   "name": "python3"
  },
  "language_info": {
   "codemirror_mode": {
    "name": "ipython",
    "version": 3
   },
   "file_extension": ".py",
   "mimetype": "text/x-python",
   "name": "python",
   "nbconvert_exporter": "python",
   "pygments_lexer": "ipython3",
   "version": "3.10.15"
  }
 },
 "nbformat": 4,
 "nbformat_minor": 5
}
