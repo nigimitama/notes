{
 "cells": [
  {
   "cell_type": "markdown",
   "id": "55f9ee7b-ef85-4be8-84ac-813339267416",
   "metadata": {},
   "source": [
    "# LASSO\n",
    "\n",
    "$n$個のサンプルと$m$個の特徴量からなる特徴量の行列$\\boldsymbol{X}$を用いて目的変数$\\boldsymbol{y}$を近似する線形モデル\n",
    "\n",
    "$$\n",
    "\\newcommand{\\b}[1]{\\boldsymbol{#1}}\n",
    "\\b{y} = \\b{X} \\b{\\beta} + \\b{e}\n",
    "$$\n",
    "\n",
    "を考える。\n",
    "\n",
    "このモデルのパラメータ$\\b{\\beta}$の推定の際に、パラメータの絶対値のL1ノルムによって制約条件を設けた下で推定を行う方法が**LASSO**（least absolute shrinkage and selection operator）である\n",
    "\n",
    "$$\n",
    "\\newcommand{\\argmin}{\\mathop{\\rm arg~min}\\limits}\n",
    "\\begin{align}\n",
    "\\hat{\\b{\\beta}}_{LASSO}\n",
    "= \\ &\\argmin_{\\b{\\beta}} \\frac{1}{2} ||\\b{X} \\b{\\beta} - \\b{y}||^2 \\\\\n",
    "&\\text{subject to} \\ ||\\beta||_1 \\leq R\n",
    "\\end{align}\n",
    "$$\n",
    "\n",
    "これはラグランジュの未定乗数法を用いて\n",
    "\n",
    "$$\n",
    "\\hat{\\b{\\beta}}_{LASSO}\n",
    "= \\argmin_{\\b{\\beta}} \\left\\{\n",
    " \\frac{1}{2} ||\\b{X} \\b{\\beta} - \\b{y}||^2 + \\lambda ||\\beta||_1\n",
    "\\right \\}\n",
    "$$\n",
    "\n",
    "という問題に転換することができる。"
   ]
  },
  {
   "cell_type": "markdown",
   "id": "43a78ec3-5b74-4cf3-a220-96f6f49695b0",
   "metadata": {},
   "source": [
    ":::{dropdown} 導出\n",
    "\n",
    "ラグランジュ関数を作る\n",
    "\n",
    "$$\n",
    "\\newcommand{\\b}[1]{\\boldsymbol{#1}}\n",
    "L(\\b{\\beta}, \\lambda) = \\frac{1}{2} ||\\b{X} \\b{\\beta} - \\b{y}||^2 + \\lambda ||\\beta||_1\n",
    "$$\n",
    "\n",
    "この関数を$\\b{\\beta}$で偏微分してゼロとなる点が最適解であることが知られている。\n",
    ":::"
   ]
  },
  {
   "cell_type": "code",
   "execution_count": null,
   "id": "4ab0919d-11a4-4ee5-8883-f05b279177dc",
   "metadata": {},
   "outputs": [],
   "source": []
  },
  {
   "cell_type": "markdown",
   "id": "7a2d32b0-ebab-4ad3-83fd-727cc0dac592",
   "metadata": {},
   "source": [
    "## 正則化について\n",
    "\n",
    "### 正則行列\n",
    "\n",
    "**正則行列**（regular matrix）、**非特異行列**（non-singular matrix）、あるいは**可逆行列**（invertible matrix）とは、行列の通常の積に関する逆元をもつ正方行列、すなわち、逆行列をもつ正方行列のこと。\n",
    "\n",
    ":::{card} 定義（正則）\n",
    "\n",
    "$n$次の正方行列$A$に対して、\n",
    "\n",
    "$$\n",
    "AB = BA = I\n",
    "\\hspace{1em} (Iは単位行列)\n",
    "$$\n",
    "\n",
    "を満たす$n$次正方行列$B$が存在するとき、$A$は**正則**であるという。\n",
    "\n",
    "このとき$B$を$A$の**逆行列**といい、$A^{-1}$のように表記される。\n",
    ":::\n",
    "\n",
    "\n",
    "### 正則化\n",
    "\n",
    "- サンプルサイズ$n$よりも特徴量の次元数$m$のほうが多い場合\n",
    "- 説明変数感の相関が非常に高い\n",
    "\n",
    "と言った状況では、通常最小二乗法の解\n",
    "\n",
    "$$\n",
    "\\hat{\\b{\\beta}}_{OLS} = (\\b{X}^\\top \\b{X})^{-1} \\b{X}^\\top \\b{y}\n",
    "$$\n",
    "\n",
    "の$(\\b{X}^\\top \\b{X})$が正則にならず、逆行列が計算できない、あるいはうまく推定できなくなってしまう問題がある。\n",
    "\n",
    "そこでLASSOのような手法によって正則化する方法が提案されたため、**正則化**（regularization）という言葉が使われる\n"
   ]
  },
  {
   "cell_type": "markdown",
   "id": "88acf7c2-aed5-4f33-8feb-7c389124bba7",
   "metadata": {},
   "source": [
    "## Oracle Property"
   ]
  },
  {
   "cell_type": "markdown",
   "id": "9187f815-471e-4be7-b2f3-318ca6d97a40",
   "metadata": {},
   "source": [
    "## Adaptive LASSO"
   ]
  },
  {
   "cell_type": "markdown",
   "id": "13a1ac9a-c31f-4b49-959f-b62b6817ecd9",
   "metadata": {},
   "source": [
    "## 参考\n",
    "\n",
    "- [Hastie, T., Tibshirani, R., & Wainwright, M. (2015). Statistical learning with sparsity: the lasso and generalizations. CRC press.](https://hastie.su.domains/StatLearnSparsity_files/SLS.pdf)"
   ]
  },
  {
   "cell_type": "code",
   "execution_count": null,
   "id": "fb1ba268-2930-4dce-aece-03c6426fb61c",
   "metadata": {},
   "outputs": [],
   "source": []
  }
 ],
 "metadata": {
  "kernelspec": {
   "display_name": "Python 3 (ipykernel)",
   "language": "python",
   "name": "python3"
  },
  "language_info": {
   "codemirror_mode": {
    "name": "ipython",
    "version": 3
   },
   "file_extension": ".py",
   "mimetype": "text/x-python",
   "name": "python",
   "nbconvert_exporter": "python",
   "pygments_lexer": "ipython3",
   "version": "3.9.16"
  }
 },
 "nbformat": 4,
 "nbformat_minor": 5
}
