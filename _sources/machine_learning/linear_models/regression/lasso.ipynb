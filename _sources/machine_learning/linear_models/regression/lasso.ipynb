{
 "cells": [
  {
   "cell_type": "markdown",
   "id": "55f9ee7b-ef85-4be8-84ac-813339267416",
   "metadata": {},
   "source": [
    "# LASSO\n",
    "\n",
    "$n$個のサンプルと$m$個の特徴量からなる特徴量の行列$\\boldsymbol{X}$を用いて目的変数$\\boldsymbol{y}$を近似する線形モデル\n",
    "\n",
    "$$\n",
    "\\newcommand{\\b}[1]{\\boldsymbol{#1}}\n",
    "\\b{y} = \\b{X} \\b{\\beta} + \\b{e}\n",
    "$$\n",
    "\n",
    "を考える。\n",
    "\n",
    "このモデルのパラメータ$\\b{\\beta}$の推定の際に、パラメータの絶対値のL1ノルムによって制約条件を設けた下で推定を行う方法が**LASSO**（least absolute shrinkage and selection operator）である\n",
    "\n",
    "$$\n",
    "\\newcommand{\\argmin}{\\mathop{\\rm arg~min}\\limits}\n",
    "\\begin{align}\n",
    "\\hat{\\b{\\beta}}_{LASSO}\n",
    "= \\ &\\argmin_{\\b{\\beta}} \\frac{1}{2} ||\\b{X} \\b{\\beta} - \\b{y}||^2 \\\\\n",
    "&\\text{subject to} \\ ||\\beta||_1 \\leq R\n",
    "\\end{align}\n",
    "$$\n",
    "\n",
    "これはラグランジュの未定乗数法を用いて\n",
    "\n",
    "$$\n",
    "\\hat{\\b{\\beta}}_{LASSO}\n",
    "= \\argmin_{\\b{\\beta}} \\left\\{\n",
    " \\frac{1}{2} ||\\b{X} \\b{\\beta} - \\b{y}||^2 + \\lambda ||\\beta||_1\n",
    "\\right \\}\n",
    "$$\n",
    "\n",
    "という問題に転換することができる。"
   ]
  },
  {
   "cell_type": "markdown",
   "id": "43a78ec3-5b74-4cf3-a220-96f6f49695b0",
   "metadata": {},
   "source": [
    ":::{dropdown} 導出\n",
    "\n",
    "ラグランジュ関数を作る\n",
    "\n",
    "$$\n",
    "\\newcommand{\\b}[1]{\\boldsymbol{#1}}\n",
    "L(\\b{\\beta}, \\lambda) = \\frac{1}{2} ||\\b{X} \\b{\\beta} - \\b{y}||^2 + \\lambda ||\\beta||_1\n",
    "$$\n",
    "\n",
    "この関数を$\\b{\\beta}$で偏微分してゼロとなる点が最適解であることが知られている。\n",
    ":::"
   ]
  },
  {
   "cell_type": "code",
   "execution_count": null,
   "id": "4ab0919d-11a4-4ee5-8883-f05b279177dc",
   "metadata": {},
   "outputs": [],
   "source": []
  },
  {
   "cell_type": "markdown",
   "id": "7a2d32b0-ebab-4ad3-83fd-727cc0dac592",
   "metadata": {},
   "source": [
    "## 正則化について\n",
    "\n",
    "### 正則行列\n",
    "\n",
    "**正則行列**（regular matrix）、**非特異行列**（non-singular matrix）、あるいは**可逆行列**（invertible matrix）とは、行列の通常の積に関する逆元をもつ正方行列、すなわち、逆行列をもつ正方行列のこと。\n",
    "\n",
    ":::{card} 定義（正則）\n",
    "\n",
    "$n$次の正方行列$A$に対して、\n",
    "\n",
    "$$\n",
    "AB = BA = I\n",
    "\\hspace{1em} (Iは単位行列)\n",
    "$$\n",
    "\n",
    "を満たす$n$次正方行列$B$が存在するとき、$A$は**正則**であるという。\n",
    "\n",
    "このとき$B$を$A$の**逆行列**といい、$A^{-1}$のように表記される。\n",
    ":::\n",
    "\n",
    "\n",
    "### 正則化\n",
    "\n",
    "- サンプルサイズ$n$よりも特徴量の次元数$m$のほうが多い場合\n",
    "- 説明変数感の相関が非常に高い\n",
    "\n",
    "と言った状況では、通常最小二乗法の解\n",
    "\n",
    "$$\n",
    "\\hat{\\b{\\beta}}_{OLS} = (\\b{X}^\\top \\b{X})^{-1} \\b{X}^\\top \\b{y}\n",
    "$$\n",
    "\n",
    "の$(\\b{X}^\\top \\b{X})$が正則にならず、逆行列が計算できない、あるいはうまく推定できなくなってしまう問題がある。\n",
    "\n",
    "そこでLASSOのような手法によって正則化する方法が提案されたため、**正則化**（regularization）という言葉が使われる\n"
   ]
  },
  {
   "cell_type": "markdown",
   "id": "88acf7c2-aed5-4f33-8feb-7c389124bba7",
   "metadata": {},
   "source": [
    "## Oracle Property\n",
    "\n",
    "Fan and Li は，変数選択における望ましい性質と\n",
    "して，\n",
    "\n",
    "- 変数選択の一致性：サンプルサイズ n が大きくなるとき，0 でない係数（$\\beta_j = 0$）を持つ説明変数が正しく選択される確率が 1 に収束する，\n",
    "-  漸近正規性：0 でない係数を持つ説明変数に対する推定量は，漸近正規性を持つ，\n",
    "\n",
    "というオラクル性（Oracle property）を提案した．\n",
    "https://orsj.org/wp-content/corsj/or58-5/or58_5_261.pdf\n",
    "\n",
    "[Fan, J., & Li, R. (2001). Variable selection via nonconcave penalized likelihood and its oracle properties. Journal of the American statistical Association, 96(456), 1348-1360.](http://www.personal.psu.edu/ril4/research/penlike.pdf)\n",
    "\n",
    "\n",
    "これの対応としてAdaptive LASSOなどが開発された\n"
   ]
  },
  {
   "cell_type": "markdown",
   "id": "9187f815-471e-4be7-b2f3-318ca6d97a40",
   "metadata": {},
   "source": [
    "## Adaptive LASSO"
   ]
  },
  {
   "cell_type": "markdown",
   "id": "e184d6d4-1511-43c3-b7c2-0b9c8615faa8",
   "metadata": {},
   "source": [
    "## Rigorous LASSO\n",
    "\n",
    "A. Belloni, D. Chen, V. Chernozhukov and C. Hansen (2012). Sparse models and methods for optimal instruments with an application to eminent domain. Econometrica 80 (6), 2369-2429.\n",
    "\n",
    "https://arxiv.org/pdf/1010.4345.pdf\n",
    "\n",
    "A. Belloni, V. Chernozhukov and C. Hansen (2013). Inference for high-dimensional sparse econometric models. In Advances in Economics and Econometrics: 10th World Congress, Vol. 3: Econometrics, Cambirdge University Press: Cambridge, 245-295.\n",
    "\n",
    "https://arxiv.org/pdf/1201.0220.pdf\n",
    "\n",
    "[\"rigorous\" lassoを試してみた - 琥珀色呑んだくれ備忘録](https://kato-kohaku-0.hatenablog.com/entry/2016/03/11/013338)"
   ]
  },
  {
   "cell_type": "markdown",
   "id": "a031fd9c-7abc-4f0e-bc48-1f495e69c493",
   "metadata": {},
   "source": [
    "# Heterogeneous effect\n",
    "\n",
    "## Pliable Lasso\n",
    "\n",
    "[Tibshirani, R., & Friedman, J. (2020). A pliable lasso. Journal of Computational and Graphical Statistics, 29(1), 215-225.](https://arxiv.org/pdf/1712.00484.pdf)"
   ]
  },
  {
   "cell_type": "markdown",
   "id": "cfd8e591-e79c-4c4f-93b8-dd9b5a7951fc",
   "metadata": {},
   "source": [
    "# 欠損対応\n",
    "\n",
    "## HMLasso\n",
    "\n",
    "Interpretable Machine Learningの和訳を行っていた[HACARUS INC.](https://hacarus.com/ja/sparse-modeling-benefits/) のメンバーが執筆した『[ITエンジニアのためのスパースモデリング入門](https://www.amazon.co.jp/dp/B099RYMYXG)』\n",
    "\n",
    "[最先端のスパースモデリング～HMLassoとPliable Lasso～ (1/2)：CodeZine（コードジン）](https://codezine.jp/article/detail/12662)\n",
    "\n",
    "> 東芝と統計数理研究所によって開発されたのが、欠損値を含む問題に対する新しいLASSOである「HMLasso」\n",
    "\n",
    "Takada, Masaaki, Hironori Fujisawa, and Takeichiro Nishikawa. \"HMLasso: lasso with high missing rate.\" arXiv preprint arXiv:1811.00255 (2018).\n",
    "> \n",
    "\n",
    "https://arxiv.org/pdf/1811.00255.pdf"
   ]
  },
  {
   "cell_type": "markdown",
   "id": "13a1ac9a-c31f-4b49-959f-b62b6817ecd9",
   "metadata": {},
   "source": [
    "## 参考\n",
    "\n",
    "- [Hastie, T., Tibshirani, R., & Wainwright, M. (2015). Statistical learning with sparsity: the lasso and generalizations. CRC press.](https://hastie.su.domains/StatLearnSparsity_files/SLS.pdf)"
   ]
  },
  {
   "cell_type": "code",
   "execution_count": null,
   "id": "fb1ba268-2930-4dce-aece-03c6426fb61c",
   "metadata": {},
   "outputs": [],
   "source": []
  }
 ],
 "metadata": {
  "kernelspec": {
   "display_name": "Python 3 (ipykernel)",
   "language": "python",
   "name": "python3"
  },
  "language_info": {
   "codemirror_mode": {
    "name": "ipython",
    "version": 3
   },
   "file_extension": ".py",
   "mimetype": "text/x-python",
   "name": "python",
   "nbconvert_exporter": "python",
   "pygments_lexer": "ipython3",
   "version": "3.9.17"
  }
 },
 "nbformat": 4,
 "nbformat_minor": 5
}
