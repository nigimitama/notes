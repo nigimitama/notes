{
 "cells": [
  {
   "cell_type": "markdown",
   "id": "c55e60bd-fa4d-46b2-85e8-79f1ef2b50d2",
   "metadata": {},
   "source": [
    "# 次元削減"
   ]
  },
  {
   "cell_type": "markdown",
   "id": "5b4d74be-1637-4ddb-afcd-f7135a8e0b57",
   "metadata": {},
   "source": [
    "## 主成分分析\n",
    "\n",
    "主成分分析は学習データの分散が最大になる方向への線形変換を求める手法である。\n",
    "\n",
    "$d$次元の学習データ$\\boldsymbol{x}_i=(x_{i1}, ..., x_{id})^T$が$N$個あるデータ行列を$\\boldsymbol{X} = (\\boldsymbol{x}_1, ..., \\boldsymbol{x}_N)^T$とする。\n",
    "\n",
    "そこから平均ベクトル$\\bar{\\boldsymbol{x}}=(\\bar{x}_1, ..., \\bar{x}_d)^T$を引き算した行列を$\\bar{\\boldsymbol{X}}=(\\boldsymbol{x}_1 - \\bar{\\boldsymbol{x}}, ..., \\boldsymbol{x}_N - \\bar{\\boldsymbol{x}})^T$とおけば、共分散行列$\\boldsymbol{\\Sigma}$は\n",
    "\n",
    "$$\n",
    "\\boldsymbol{\\Sigma} = Var[\\bar{\\boldsymbol{X}}]\n",
    "= \\frac{1}{N} \\bar{\\boldsymbol{X}}^T \\bar{\\boldsymbol{X}}\n",
    "$$\n",
    "\n",
    "で定義される。\n",
    "\n",
    "\n",
    "係数ベクトル$\\boldsymbol{a}_j = (a_{j1}, ..., a_{jd})^T (j=1, ..., d)$を用いて$\\bar{\\boldsymbol{X}}$を線形変換したものを$\\boldsymbol{s}_j$とする。\n",
    "\n",
    "$$\n",
    "\\boldsymbol{s}_j = (s_{1j}, ..., s_{Nj})^T = \\bar{\\boldsymbol{X}} \\boldsymbol{a}_j\n",
    "$$\n",
    "\n",
    "このデータの分散は\n",
    "\n",
    "$$\n",
    "\\begin{align}\n",
    "Var[\\boldsymbol{s}_j]\n",
    "= \\frac{1}{N} \\boldsymbol{s}_j^T \\boldsymbol{s}_j\\\\\n",
    "= \\frac{1}{N} (\\bar{\\boldsymbol{X}} \\boldsymbol{a}_j)^T \\bar{\\boldsymbol{X}} \\boldsymbol{a}_j\\\\\n",
    "= \\frac{1}{N} \\boldsymbol{a}_j^T \\bar{\\boldsymbol{X}}^T \\bar{\\boldsymbol{X}} \\boldsymbol{a}_j\\\\\n",
    "= \\boldsymbol{a}_j^T Var[\\bar{\\boldsymbol{X}}] \\boldsymbol{a}_j\\\\\n",
    "\\end{align}\n",
    "$$\n",
    "\n",
    "となる。\n",
    "\n",
    "このまま$\\max_{\\boldsymbol{a}_j} Var[\\boldsymbol{s}_j]$を解くと単に$\\boldsymbol{a}_j=\\infty$が解になってしまうので、係数ベクトル$\\boldsymbol{a}_j$のノルム制約条件をかけた最大化問題を解くことにする。\n",
    "\n",
    ":::{admonition} 制約条件付き分散最大化問題\n",
    "$$\n",
    "\\max_{\\boldsymbol{a}_j} \\ Var[\\boldsymbol{s}_j]\\\\\n",
    "\\text{subject to} \\ ||\\boldsymbol{a}_j||_2^2 = 1\n",
    "$$\n",
    ":::\n",
    "\n",
    "この分散が最大となる射影ベクトルは、ラグランジュ関数\n",
    "\n",
    "$$\n",
    "L(\\boldsymbol{a}_j) = \n",
    "\\boldsymbol{a}_j^T Var[\\bar{\\boldsymbol{X}}] \\boldsymbol{a}_j\n",
    "- \\lambda (\\boldsymbol{a}_j^T \\boldsymbol{a}_j - 1)\n",
    "$$\n",
    "\n",
    "を最大にする$\\boldsymbol{a}_j$である。（$\\lambda$はラグランジュ未定乗数）\n",
    "\n",
    "微分して0とおけば\n",
    "\n",
    "$$\n",
    "\\frac{\\partial L(\\boldsymbol{a}_j)}{\\partial \\boldsymbol{a}_j}\n",
    "= 2 Var[\\bar{\\boldsymbol{X}}] \\boldsymbol{a}_j\n",
    "- 2 \\lambda \\boldsymbol{a}_j\n",
    "= 0\n",
    "$$\n",
    "\n",
    "より\n",
    "\n",
    "$$\n",
    "Var[\\bar{\\boldsymbol{X}}] \\boldsymbol{a}_j = \\lambda \\boldsymbol{a}_j\n",
    "$$\n",
    "\n",
    "となる。\n",
    "\n",
    "この$\\lambda$と$\\boldsymbol{a}_j$は固有値問題を解くことにより得られる。\n"
   ]
  },
  {
   "cell_type": "markdown",
   "id": "cd36f70a-e565-4773-9771-8ece1ec79732",
   "metadata": {},
   "source": [
    "### 計算例\n",
    "\n",
    "今回は次のデータを使って計算の例を示していく"
   ]
  },
  {
   "cell_type": "code",
   "execution_count": 64,
   "id": "159676e8-a39b-4291-bdda-3a91681dbd06",
   "metadata": {
    "tags": [
     "hide-input"
    ]
   },
   "outputs": [
    {
     "data": {
      "image/png": "[encoded data removed]",
      "text/plain": [
       "<Figure size 432x288 with 1 Axes>"
      ]
     },
     "metadata": {
      "needs_background": "light"
     },
     "output_type": "display_data"
    }
   ],
   "source": [
    "import numpy as np\n",
    "import matplotlib.pyplot as plt\n",
    "from scipy.stats import norm\n",
    "\n",
    "w = 0.3\n",
    "N = 100\n",
    "x1 = norm.rvs(loc=0, scale=1, size=n, random_state=0)\n",
    "x2 = w * x1 + (1 - w) * norm.rvs(loc=0, scale=1, size=N, random_state=1)\n",
    "X = np.append(x1.reshape(-1, 1), x2.reshape(-1, 1), axis=1)\n",
    "\n",
    "fig, ax = plt.subplots()\n",
    "ax.scatter(x1, x2)\n",
    "ax.set(xlabel=\"x1\", ylabel=\"x2\")\n",
    "fig.show()"
   ]
  },
  {
   "cell_type": "markdown",
   "id": "ac4406b4-7b58-4b8e-81f9-70c5a2371d55",
   "metadata": {},
   "source": [
    "データ行列$\\boldsymbol{X} = (\\boldsymbol{x}_1, ..., \\boldsymbol{x}_N)^T$から平均ベクトルを引き算した行列を$\\bar{\\boldsymbol{X}}=(\\boldsymbol{x}_1 - \\bar{\\boldsymbol{x}}, ..., \\boldsymbol{x}_N - \\bar{\\boldsymbol{x}})^T$とおけば、共分散行列$\\boldsymbol{\\Sigma}$は\n",
    "\n",
    "$$\n",
    "\\boldsymbol{\\Sigma} = Var[\\bar{\\boldsymbol{X}}]\n",
    "= \\frac{1}{N} \\bar{\\boldsymbol{X}}^T \\bar{\\boldsymbol{X}}\n",
    "$$\n",
    "\n",
    "と推定できる"
   ]
  },
  {
   "cell_type": "code",
   "execution_count": 65,
   "id": "a2cd871d-7660-4f4c-a2ca-41b1fd24a0db",
   "metadata": {},
   "outputs": [
    {
     "data": {
      "text/plain": [
       "array([[1.01582662, 0.39804418],\n",
       "       [0.39804418, 0.53131786]])"
      ]
     },
     "execution_count": 65,
     "metadata": {},
     "output_type": "execute_result"
    }
   ],
   "source": [
    "x_bar = X.mean(axis=0)\n",
    "X_bar = X - x_bar\n",
    "Sigma = (1 / N) * X_bar.T @ X_bar\n",
    "Sigma"
   ]
  },
  {
   "cell_type": "markdown",
   "id": "3d2a1f28-eee7-49e8-b9c4-e8e77f4cc542",
   "metadata": {},
   "source": [
    "分散最大化問題の解は\n",
    "\n",
    "$$\n",
    "Var[\\bar{\\boldsymbol{X}}] \\boldsymbol{a}_j = \\lambda \\boldsymbol{a}_j\n",
    "$$\n",
    "\n",
    "であったので、固有値問題を解いて$\\lambda$と$\\boldsymbol{a}_j$を推定していく。"
   ]
  },
  {
   "cell_type": "code",
   "execution_count": 75,
   "id": "11aab583-346d-4eb0-9f98-40172f39c927",
   "metadata": {},
   "outputs": [
    {
     "name": "stdout",
     "output_type": "stream",
     "text": [
      "\n",
      "λ=[1.23954043 0.30760405]\n",
      "a1=[0.872 0.49 ]\n",
      "a2=[-0.49   0.872]\n",
      "\n"
     ]
    }
   ],
   "source": [
    "lambdas, vectors = np.linalg.eig(Sigma)\n",
    "print(f\"\"\"\n",
    "λ={lambdas}\n",
    "a1={vectors[:, 0].round(3)}\n",
    "a2={vectors[:, 1].round(3)}\n",
    "\"\"\")"
   ]
  },
  {
   "cell_type": "markdown",
   "id": "cf537caf-3ca3-48bf-ac34-5b5d438c1124",
   "metadata": {},
   "source": [
    "推定できた$\\boldsymbol{a}$の任意の次元数を使って線形変換$\\boldsymbol{s} = \\boldsymbol{\\bar{X}} \\boldsymbol{a}$を作る"
   ]
  },
  {
   "cell_type": "code",
   "execution_count": 90,
   "id": "6a95a22f-53c6-4ece-8278-02e29b13fab6",
   "metadata": {},
   "outputs": [
    {
     "data": {
      "image/png": "[encoded data removed]",
      "text/plain": [
       "<Figure size 432x288 with 1 Axes>"
      ]
     },
     "metadata": {
      "needs_background": "light"
     },
     "output_type": "display_data"
    }
   ],
   "source": [
    "S = X_bar @ vectors\n",
    "\n",
    "fig, ax = plt.subplots()\n",
    "ax.scatter(S[:, 0], S[:, 1])\n",
    "ax.set(xlabel=\"s1\", ylabel=\"s2\")\n",
    "fig.show()"
   ]
  },
  {
   "cell_type": "markdown",
   "id": "b54e36fd-989e-4668-90cc-928eaf541269",
   "metadata": {},
   "source": [
    "次元削減を行う際は、元の分散を多く説明している（$\\lambda_j$が大きい）次元を残すようにすればよい"
   ]
  }
 ],
 "metadata": {
  "kernelspec": {
   "display_name": "Python 3",
   "language": "python",
   "name": "python3"
  },
  "language_info": {
   "codemirror_mode": {
    "name": "ipython",
    "version": 3
   },
   "file_extension": ".py",
   "mimetype": "text/x-python",
   "name": "python",
   "nbconvert_exporter": "python",
   "pygments_lexer": "ipython3",
   "version": "3.8.10"
  }
 },
 "nbformat": 4,
 "nbformat_minor": 5
}
