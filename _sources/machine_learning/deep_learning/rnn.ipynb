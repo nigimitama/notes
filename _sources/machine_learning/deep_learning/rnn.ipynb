{
 "cells": [
  {
   "cell_type": "markdown",
   "id": "e6002e49-22c2-4d61-baf5-fd6168ee5508",
   "metadata": {},
   "source": [
    "# RNN\n",
    "\n"
   ]
  },
  {
   "cell_type": "markdown",
   "id": "049842c5-8344-44a3-9b49-df760acb1550",
   "metadata": {},
   "source": [
    "## シンプルなRNN\n",
    "\n",
    "時点$t$の予測値$\\boldsymbol{y}_t$を、その時点までに入手可能な特徴量$\\boldsymbol{x}_t$で予測する関数$\\boldsymbol{y}_t = f(\\boldsymbol{x}_t)$を求めたい。\n",
    "（添字は同じ$t$だが、$\\boldsymbol{x}_t$は$\\boldsymbol{y}_t$より古い時点のデータとなることに注意）\n",
    "\n",
    "特徴量だけでなく、1時点前の目的変数$\\boldsymbol{y}_{t-1}$を利用すれば、より精度は良くなると考えられる\n",
    "\n",
    "$$\n",
    "\\newcommand{\\b}[1]{\\boldsymbol{#1}}\n",
    "\\b{y}_t = f(\\b{x}_t, \\b{y}_{t-1})\n",
    "$$\n",
    "\n",
    "最もシンプルなモデルは行列$\\b{W}_x, \\b{W}_y$を用いて\n",
    "\n",
    "$$\n",
    "\\b{y}_t = \\b{W}_x \\b{x}_t + \\b{W}_y \\b{y}_{t-1}\n",
    "$$\n",
    "\n",
    "と記述し、重みパラメータ$\\b{W}_x, \\b{W}_y$を求める方法が考えられる。\n",
    "\n",
    "ディープラーニングとして扱う場合、活性化関数$h(\\cdot)$を通した$\\b{z}_t = \\b{h}(\\b{a}_t)$を考えて次のように書き換える形が考えられる\n",
    "\n",
    "$$\n",
    "\\b{y}_t = \\b{W}_z \\b{z}_t\n",
    "$$\n",
    "\n",
    "ここで\n",
    "\n",
    "$$\n",
    "\\b{a}_t = \\b{W}_z \\b{x} + \\tilde{\\b{W}}_z \\b{z}_{t-1}\n",
    "$$\n",
    "\n",
    "である。\n",
    "また$\\b{a} = (a_1, \\cdots, a_K)^\\top, \\b{h}(\\b{a})=(1, h(a_1), \\cdots, h(a_K))^\\top$である。\n",
    "\n",
    "\n",
    "活性化関数にはシグモイド関数やReLU関数でもよいが、RNNの場合は双曲線正接（tanh）関数\n",
    "\n",
    "$$\n",
    "f_{tanh}(x) = \\frac{e^x - e^{-x}}{e^x + e^{-x}}\n",
    "$$\n",
    "\n",
    "を用いることが多い。tanhはシグモイド関数と形状が似ているが、値域が$[-1, 1]$と負の値を許しており、また二次微分の減衰がゆっくりとゼロになるため勾配消失が起きにくいという特性がある。\n"
   ]
  },
  {
   "cell_type": "markdown",
   "id": "577af712-e569-4241-bafe-df468225f015",
   "metadata": {},
   "source": [
    "## 実装（Keras）\n",
    "\n",
    "kerasだとSimpleRNNというクラスがあり、上記のようなRNNを呼び出すことができる\n",
    "\n",
    "[tf.keras.layers.SimpleRNN  |  TensorFlow v2.12.0](https://www.tensorflow.org/api_docs/python/tf/keras/layers/SimpleRNN)"
   ]
  },
  {
   "cell_type": "markdown",
   "id": "0bd57784-8f05-4b88-b408-6ce06348eb38",
   "metadata": {},
   "source": [
    "## 実装（Pytorch）\n"
   ]
  },
  {
   "cell_type": "code",
   "execution_count": null,
   "id": "5a183cfe-9a4c-43b6-a9fa-64589f404a24",
   "metadata": {},
   "outputs": [],
   "source": []
  },
  {
   "cell_type": "markdown",
   "id": "f15efcc9-3f18-4ef2-b76e-d26203f1f46c",
   "metadata": {},
   "source": [
    "## 実装（Python）"
   ]
  },
  {
   "cell_type": "code",
   "execution_count": null,
   "id": "66628dfe-5630-46ce-a27b-9e3ae9d3ad2c",
   "metadata": {},
   "outputs": [],
   "source": []
  }
 ],
 "metadata": {
  "kernelspec": {
   "display_name": "Python 3 (ipykernel)",
   "language": "python",
   "name": "python3"
  },
  "language_info": {
   "codemirror_mode": {
    "name": "ipython",
    "version": 3
   },
   "file_extension": ".py",
   "mimetype": "text/x-python",
   "name": "python",
   "nbconvert_exporter": "python",
   "pygments_lexer": "ipython3",
   "version": "3.9.17"
  }
 },
 "nbformat": 4,
 "nbformat_minor": 5
}
