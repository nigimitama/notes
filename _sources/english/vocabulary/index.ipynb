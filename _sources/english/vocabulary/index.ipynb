{
 "cells": [
  {
   "cell_type": "markdown",
   "id": "4ee30497-2786-455a-9ada-a72ba48551c8",
   "metadata": {},
   "source": [
    "# Vocabulary\n",
    "\n",
    ":::{tableofcontents}\n",
    ":::"
   ]
  }
 ],
 "metadata": {
  "kernelspec": {
   "display_name": "Python 3 (ipykernel)",
   "language": "python",
   "name": "python3"
  },
  "language_info": {
   "codemirror_mode": {
    "name": "ipython",
    "version": 3
   },
   "file_extension": ".py",
   "mimetype": "text/x-python",
   "name": "python",
   "nbconvert_exporter": "python",
   "pygments_lexer": "ipython3",
   "version": "3.10.15"
  }
 },
 "nbformat": 4,
 "nbformat_minor": 5
}
