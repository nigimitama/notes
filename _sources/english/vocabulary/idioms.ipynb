{
 "cells": [
  {
   "cell_type": "markdown",
   "id": "5b5cea4d-b727-4f8f-a6e0-c4aef5bd2a03",
   "metadata": {},
   "source": [
    "# idioms\n",
    "\n",
    "イディオム（idioms）は英語の定型表現のひとつ\n",
    "\n",
    "意味的透明性（semantic transparency）がないこと、つまり個々の単語から意味を推測するのが困難なのが特徴"
   ]
  },
  {
   "cell_type": "markdown",
   "id": "ff22d10b-bcaf-4f79-a2d9-46ffa83c00d5",
   "metadata": {},
   "source": [
    "## イディオムの例\n",
    "\n",
    "- beat around the bush（遠回しに言う）\n",
    "- hold your horses（落ち着け）\n",
    "- show someone the ropes（～にやり方を教える）\n",
    "    - 語源：船乗りがロープの結び方を教えていたことから\n",
    "- sleep a wink（一睡も（できない））\n",
    "    - I didn't sleep a wink last night. （昨晩は一睡もできなかった）\n",
    "    - 肯定文に使うことはない\n",
    "\n"
   ]
  },
  {
   "cell_type": "markdown",
   "id": "6a454e9c-820a-44f5-b760-e4c5b36b2577",
   "metadata": {},
   "source": [
    "- [Phrases And Sayings, With Meanings And Origins Explained - Phrase Finder](https://www.phrases.org.uk/)\n",
    "- [Boers, F., Demecheleer, M., & Eyckmans, J. (2004). Etymological elaboration as a strategy for learning idioms. Vocabulary in a second language: Selection, acquisition and testing, 53-78.](https://www.lextutor.ca/cv/bogaards_laufer_2004.pdf#page=6.00)"
   ]
  },
  {
   "cell_type": "code",
   "execution_count": null,
   "id": "a3013e0f-51a9-4c8e-9d1b-04b523cff883",
   "metadata": {},
   "outputs": [],
   "source": []
  }
 ],
 "metadata": {
  "kernelspec": {
   "display_name": "Python 3 (ipykernel)",
   "language": "python",
   "name": "python3"
  },
  "language_info": {
   "codemirror_mode": {
    "name": "ipython",
    "version": 3
   },
   "file_extension": ".py",
   "mimetype": "text/x-python",
   "name": "python",
   "nbconvert_exporter": "python",
   "pygments_lexer": "ipython3",
   "version": "3.10.15"
  }
 },
 "nbformat": 4,
 "nbformat_minor": 5
}
