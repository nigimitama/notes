{
 "cells": [
  {
   "cell_type": "markdown",
   "id": "7e143e16-d51e-4cf6-a525-5a6b32ccfa51",
   "metadata": {},
   "source": [
    "# Small Talk"
   ]
  },
  {
   "cell_type": "markdown",
   "id": "362b1307-b5e2-4b3b-9612-3597cf0269b4",
   "metadata": {},
   "source": [
    "## 挨拶"
   ]
  },
  {
   "cell_type": "markdown",
   "id": "de833793-3eb2-4714-81bf-4654d1acc397",
   "metadata": {},
   "source": [
    "### How have you been?\n",
    "\n",
    "How's it goin\n",
    "\n",
    "- How have you been?：お元気でしたか？\n",
    "- How have you been recently?：お元気でしたか？\n",
    "\n",
    ":::{card}\n",
    "\n",
    "例：1週間ぶりに会うとき\n",
    "\n",
    "- How was your week?（過去形なので週の終わりとかに使う）\n",
    "- How has your week been?（現在完了形なので週が終わる前とか）\n",
    ":::\n",
    "\n",
    ":::{admonition} how was / how have been = 状態\n",
    "\n",
    "how was / how have been は状態について訊いているので、返答の第一声は「どうだったか」「どう感じたか」といったもの（例えば good / okay / tough / bad）になる\n",
    "\n",
    "```\n",
    "A: How have you been?\n",
    "B: Good. How are you doing?\n",
    "A: Good.\n",
    "```\n",
    "\n",
    ":::"
   ]
  },
  {
   "cell_type": "markdown",
   "id": "2f21bc8e-02d3-46c1-9f35-e17774db9867",
   "metadata": {},
   "source": [
    "### How’s it going?\n",
    "\n",
    "- How’s it going?：調子はどう？"
   ]
  },
  {
   "cell_type": "markdown",
   "id": "9344ce45-8a7f-4eae-84d4-f3fb8e0210d8",
   "metadata": {},
   "source": [
    "## 天気や環境について世間話をする\n",
    "\n",
    "天気について：\n",
    "\n",
    "- It's so hot today isn't it?（今日、とても暑いですよね）\n",
    "- It's so cold today isn't it?（今日、とても寒いですよね）\n",
    "- So nice today isn't it?（今日はいい天気ですね）\n",
    "\n",
    "店などについて：\n",
    "\n",
    "- It's so crowded, isn't it?（すごく混んでますよね）\n",
    "- This place is really nice, isn't it?（ここはすごくいいところですよね）\n",
    "\n"
   ]
  },
  {
   "cell_type": "markdown",
   "id": "0347e1aa-b879-4763-9118-3168f050bbc2",
   "metadata": {},
   "source": [
    "## What else ~?（他になにかある？）\n",
    "\n",
    "- what else did you do?（他になにしてましたか？）\n",
    "\n",
    "```\n",
    "A: How have you been?\n",
    "B: I've been working a lot.\n",
    "A: How's everything going at work?\n",
    "B: Ah, it's pretty good. I like it so far.\n",
    "A: What else have you been doing other than work?\n",
    "```\n"
   ]
  },
  {
   "cell_type": "markdown",
   "id": "7e00a0fb-3feb-4704-a58e-e8034dc2f9de",
   "metadata": {},
   "source": [
    "## 参考\n",
    "\n",
    "- [英語で「雑談」ができますか？｜IU-Connect - YouTube](https://www.youtube.com/watch?v=hDRoGakTCjI&ab_channel=%E3%82%A2%E3%83%BC%E3%82%B5%E3%83%BC%28IU-Connect%29)\n",
    "- [「How’s it going?」と聞かれたら英語でどう答える？えっ、itって何？　ネイティブならどう答える？｜IU-Connect英会話 #273 - YouTube](https://www.youtube.com/watch?v=gTRdC0sCbHA&ab_channel=%E3%82%A2%E3%83%BC%E3%82%B5%E3%83%BC%28IU-Connect%29)"
   ]
  },
  {
   "cell_type": "code",
   "execution_count": null,
   "id": "234d1470-8983-481a-9c53-4156536bcc10",
   "metadata": {},
   "outputs": [],
   "source": []
  }
 ],
 "metadata": {
  "kernelspec": {
   "display_name": "Python 3 (ipykernel)",
   "language": "python",
   "name": "python3"
  },
  "language_info": {
   "codemirror_mode": {
    "name": "ipython",
    "version": 3
   },
   "file_extension": ".py",
   "mimetype": "text/x-python",
   "name": "python",
   "nbconvert_exporter": "python",
   "pygments_lexer": "ipython3",
   "version": "3.10.15"
  }
 },
 "nbformat": 4,
 "nbformat_minor": 5
}
