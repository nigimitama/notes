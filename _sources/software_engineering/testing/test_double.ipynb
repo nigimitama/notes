{
 "cells": [
  {
   "cell_type": "markdown",
   "id": "69d79c17-7776-4ad4-8d25-685a94acaba4",
   "metadata": {},
   "source": [
    "# テストダブル\n",
    "\n",
    "**テストダブル（test double）** はソフトウェアテストにおいて「本物の依存オブジェクトの代わりに使う偽物のオブジェクト」の総称。（名前の由来は「スタントダブル（代役、スタントマン）」から）\n",
    "\n",
    "本来のコンポーネントを呼び出すとテストが難しくなったり、外部リソース（DB、API、ネットワーク、ファイルシステムなど）に依存して不安定になる場合に、それを置き換えて使う。"
   ]
  },
  {
   "cell_type": "markdown",
   "id": "69ad4a61-6149-4d94-96d2-c402182b0733",
   "metadata": {},
   "source": [
    "## テストダブルの種類\n",
    "\n",
    "Gerard Meszarosが書籍『xUnit Test Patterns: Refactoring Test Code』で示した分類（[Webにも公開されている](http://xunitpatterns.com/Test%20Double.html)）\n",
    "\n",
    "- **Stub（スタブ）** ：呼び出されたときに、あらかじめ決めた値を返す。「入力 → 出力」を固定することで外部依存を切り離す\n",
    "- **Mock（モック）** ：期待される呼+び出し（回数や引数）をあらかじめ設定し、それを満たさないとテスト失敗にする。Stubを含むが間接的な出力も検証（assert）する\n",
    "- **Dummy（ダミー）** ：渡さないとコンパイルや実行ができないので形だけ用意するもの。実際には使われない（使おうとすると壊れるようにする）。\n",
    "- **Fake（フェイク）** ：本物に近いが、実装を簡略化した代替物 （例: 本物はRDBMSだが、テストではインメモリDBを使う）\n",
    "- **Spy（スパイ）** ：呼び出し履歴や引数を記録して、後で検証できるようにするもの\n"
   ]
  },
  {
   "cell_type": "markdown",
   "id": "cc4b10f1-8359-4697-96cd-43edca08245e",
   "metadata": {},
   "source": [
    ":::{admonition} MockとStubの違い\n",
    "\n",
    "- Stubは **入力に対する出力を固定する**\n",
    "- Mockは **入力に対する出力を固定する** のに加えて、 **呼び出し回数や出力のassertを行う** 。　システムの中で「どんな引数で、何回呼び出されたか」をチェックしたい意図がある \n",
    "\n",
    "Pythonの`unittest.mock`モジュールはスタブとしてもモックとしても使える\n",
    "\n",
    "スタブとして使う例：\n",
    "\n",
    "```python\n",
    "# unittest.mockをスタブとして使う\n",
    "from unittest.mock import Mock\n",
    "stub = Mock()\n",
    "stub.get_data.return_value = \"fixed value\"  # 返り値固定\n",
    "print(stub.get_data())  # fixed value\n",
    "# 呼び出し回数などは気にしない\n",
    "```\n",
    "\n",
    "モックとして使う例：\n",
    "\n",
    "```python\n",
    "# unittest.mockをモックとして使う\n",
    "from unittest.mock import Mock\n",
    "mock = Mock()\n",
    "mock.get_data.return_value = \"value\"\n",
    "mock.get_data(\"arg1\")\n",
    "\n",
    "# 呼び出しの回数を検証\n",
    "mock.get_data.assert_called_once_with(\"arg1\")\n",
    "```\n",
    "\n",
    "\n",
    ":::"
   ]
  },
  {
   "cell_type": "markdown",
   "id": "8f219206-98c0-4b68-aa53-5396f0da06d2",
   "metadata": {},
   "source": [
    "## スタブの例\n",
    "\n",
    "`WeatherService` というクラスがあり、指定した都市の天気予報を返すとする。\n",
    "\n",
    "`WeatherAPIClient` というクラスで天気予報を取得するとする。WebAPIの呼び出しが絡むので、テストのときは実際のAPIに依存しないようにしたい"
   ]
  },
  {
   "cell_type": "code",
   "execution_count": 7,
   "id": "928dec26-5598-47f3-aefa-8215beada7b1",
   "metadata": {
    "tags": []
   },
   "outputs": [],
   "source": [
    "# --- テスト対象のコード ---\n",
    "class WeatherAPIClient:\n",
    "    \"\"\"都市の天気を取得するAPIのクライアント\"\"\"\n",
    "    def get_weather(self, city: str) -> str:\n",
    "        # 実際にはHTTPリクエストなどが必要（テストには不向き）\n",
    "        raise NotImplementedError(\"実際のAPI呼び出しは未実装\")\n",
    "\n",
    "\n",
    "class WeatherService:\n",
    "    def __init__(self, api_client: WeatherAPIClient):\n",
    "        self.api_client = api_client\n",
    "\n",
    "    def get_forecast_message(self, city: str) -> str:\n",
    "        weather = self.api_client.get_weather(city)\n",
    "        return f\"The weather in {city} is {weather}.\""
   ]
  },
  {
   "cell_type": "markdown",
   "id": "211778f8-5070-4c31-815d-cb8d9a24358d",
   "metadata": {},
   "source": [
    "WeatherAPIStubを作り、決め打ちの値を返すようにする"
   ]
  },
  {
   "cell_type": "code",
   "execution_count": 11,
   "id": "bcfe6956-2ffc-4a1e-a27e-2b150349ea3a",
   "metadata": {
    "tags": []
   },
   "outputs": [],
   "source": [
    "# --- スタブの実装 ---\n",
    "class WeatherAPIStub(WeatherAPIClient):\n",
    "    def get_weather(self, city: str) -> str:\n",
    "        # 都市ごとに決め打ちの返り値を用意する\n",
    "        stub_data = {\n",
    "            \"Tokyo\": \"Sunny\",\n",
    "            \"Osaka\": \"Cloudy\",\n",
    "        }\n",
    "        return stub_data[city]\n",
    "\n",
    "# --- テスト ---\n",
    "def test_weather_service():\n",
    "    stub_client = WeatherAPIStub()  # ← スタブを注入\n",
    "    service = WeatherService(api_client=stub_client)\n",
    "\n",
    "    assert service.get_forecast_message(\"Tokyo\") == \"The weather in Tokyo is Sunny.\"\n",
    "    assert service.get_forecast_message(\"Osaka\") == \"The weather in Osaka is Cloudy.\"\n",
    "\n",
    "test_weather_service()"
   ]
  },
  {
   "cell_type": "markdown",
   "id": "32238893-8797-482a-ae4c-11ffc4952cfb",
   "metadata": {},
   "source": [
    "### unittestのMagicMockでスタブを書く\n",
    "\n",
    "`MagicMock` を使って既存の関数を上書きし、返り値を固定することができる\n",
    "\n",
    "参考：[unittest.mock - Python documentation](https://docs.python.org/3/library/unittest.mock.html)"
   ]
  },
  {
   "cell_type": "code",
   "execution_count": 12,
   "id": "695d5658-f427-4926-84c6-9aa9c4560418",
   "metadata": {
    "tags": []
   },
   "outputs": [
    {
     "data": {
      "text/plain": [
       "'Sunny'"
      ]
     },
     "execution_count": 12,
     "metadata": {},
     "output_type": "execute_result"
    }
   ],
   "source": [
    "from unittest.mock import MagicMock\n",
    "\n",
    "stub_client = WeatherAPIClient()\n",
    "stub_client.get_weather = MagicMock(return_value=\"Sunny\") # 返り値を固定\n",
    "stub_client.get_weather()"
   ]
  },
  {
   "cell_type": "code",
   "execution_count": 13,
   "id": "02669909-e824-4274-bf8b-6101dced6704",
   "metadata": {
    "tags": []
   },
   "outputs": [],
   "source": [
    "def test_weather_service():\n",
    "    service = WeatherService(api_client=stub_client)\n",
    "    assert service.get_forecast_message(\"Tokyo\") == \"The weather in Tokyo is Sunny.\"\n",
    "\n",
    "test_weather_service()"
   ]
  },
  {
   "cell_type": "markdown",
   "id": "cd634a3f-52b8-4b4d-b66e-9d6473d3a279",
   "metadata": {},
   "source": [
    "### unittest.mockでスタブを書く\n",
    "\n"
   ]
  },
  {
   "cell_type": "code",
   "execution_count": 14,
   "id": "a5a68199-e1f1-4977-abb9-89a89226a223",
   "metadata": {
    "tags": []
   },
   "outputs": [],
   "source": [
    "from unittest.mock import Mock\n",
    "\n",
    "def test_weather_service_with_mock():\n",
    "    # Mockオブジェクトを作成\n",
    "    api_client_mock = Mock()\n",
    "\n",
    "    # get_weatherメソッドの返り値を都市ごとに指定\n",
    "    api_client_mock.get_weather.side_effect = lambda city: {\n",
    "        \"Tokyo\": \"Sunny\",\n",
    "        \"Nagoya\": \"Rainy\"\n",
    "    }.get(city, \"Unknown\")\n",
    "\n",
    "    service = WeatherService(api_client=api_client_mock)\n",
    "\n",
    "    assert service.get_forecast_message(\"Tokyo\") == \"The weather in Tokyo is Sunny.\"\n",
    "    assert service.get_forecast_message(\"Nagoya\") == \"The weather in Nagoya is Rainy.\"\n",
    "    assert service.get_forecast_message(\"Osaka\") == \"The weather in Osaka is Unknown.\"\n",
    "\n",
    "test_weather_service_with_mock()"
   ]
  },
  {
   "cell_type": "markdown",
   "id": "d0f3d0e5-b8ef-4af0-a66d-f08ed0cfe743",
   "metadata": {},
   "source": [
    "## モックの例\n",
    "\n",
    "`unittest.mock` にはモックがどう呼び出されたのか検証するメソッドが用意されている\n",
    "\n",
    "https://docs.python.org/ja/3/library/unittest.mock.html"
   ]
  },
  {
   "cell_type": "code",
   "execution_count": 19,
   "id": "622907e4-cc51-4ea1-8412-e741c494df35",
   "metadata": {
    "tags": []
   },
   "outputs": [],
   "source": [
    "from unittest.mock import Mock\n",
    "\n",
    "api_client_mock = Mock()\n",
    "api_client_mock.get_weather.return_value = \"Sunny\"\n",
    "\n",
    "# 呼び出し\n",
    "api_client_mock.get_weather(\"Tokyo\")\n",
    "\n",
    "# 呼び出し回数や引数を検証\n",
    "api_client_mock.get_weather.assert_called()  # 少なくとも一度は呼び出されたことをassertする\n",
    "api_client_mock.get_weather.assert_called_once()  # 一度だけ呼び出されたことをassertする\n",
    "api_client_mock.get_weather.assert_called_once_with(\"Tokyo\") # 一度だけ、特定の引数で呼び出されたことをassertする"
   ]
  }
 ],
 "metadata": {
  "kernelspec": {
   "display_name": "Python 3 (ipykernel)",
   "language": "python",
   "name": "python3"
  },
  "language_info": {
   "codemirror_mode": {
    "name": "ipython",
    "version": 3
   },
   "file_extension": ".py",
   "mimetype": "text/x-python",
   "name": "python",
   "nbconvert_exporter": "python",
   "pygments_lexer": "ipython3",
   "version": "3.10.18"
  }
 },
 "nbformat": 4,
 "nbformat_minor": 5
}
