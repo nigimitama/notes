{
 "cells": [
  {
   "cell_type": "markdown",
   "id": "1841373c-d452-4893-9a84-5ee01965b5cf",
   "metadata": {},
   "source": [
    "# 概要"
   ]
  },
  {
   "cell_type": "markdown",
   "id": "b7c88be9-761e-4179-9c1b-34ac50fadc45",
   "metadata": {},
   "source": [
    "コンピュータで乱数を再現した場合、何らかの規則性や再現性をもち、本当の乱数とはやや異なる。そこで **疑似乱数** と呼ばれる。\n",
    "\n"
   ]
  },
  {
   "cell_type": "markdown",
   "id": "77fb8a65-b610-482f-9387-0278669f9504",
   "metadata": {},
   "source": [
    "実用の観点では、暗号論的擬似乱数生成器とそうでない簡易的な疑似乱数生成器の区別がある。\n",
    "\n",
    "暗号論的擬似乱数生成器による暗号は過去の乱数から次の乱数が予測不可能なようにできている。\n",
    "しかし、生成器によっては、過去の値から次の値が（部分的にでも）予測できてしまう事がある。\n",
    "例えば最もシンプルな乱数生成法のひとつである **線形合同法** は、パラメータの一つが偶数だと、生成される乱数が偶数と奇数を交互に繰り返すように生成される。\n",
    "\n"
   ]
  },
  {
   "cell_type": "markdown",
   "id": "1aeacf4d-7a6b-40f2-8600-eaa36741cd55",
   "metadata": {},
   "source": [
    "Pythonでいうと、[random](https://docs.python.org/ja/3/library/random.html) パッケージは一般的な乱数生成器を扱うが、暗号論的疑似乱数生成は [secrets](https://docs.python.org/ja/3/library/secrets.html#module-secrets) パッケージに実装がある。\n",
    "\n",
    "なお、randomパッケージはメルセンヌ・ツイスタ法を使っているらしい。"
   ]
  },
  {
   "cell_type": "code",
   "execution_count": 8,
   "id": "3b9cbccf-4edd-4c07-b629-4c1cf8511117",
   "metadata": {},
   "outputs": [
    {
     "data": {
      "text/plain": [
       "0.49265908083898646"
      ]
     },
     "execution_count": 8,
     "metadata": {},
     "output_type": "execute_result"
    }
   ],
   "source": [
    "import random\n",
    "random.random()"
   ]
  },
  {
   "cell_type": "code",
   "execution_count": 3,
   "id": "23a947cb-e751-403d-82ff-34d1ffbe5fde",
   "metadata": {},
   "outputs": [
    {
     "data": {
      "text/plain": [
       "'dee2a55388499865bde261306222bad5'"
      ]
     },
     "execution_count": 3,
     "metadata": {},
     "output_type": "execute_result"
    }
   ],
   "source": [
    "import secrets\n",
    "secrets.token_hex(16)"
   ]
  },
  {
   "cell_type": "markdown",
   "id": "6f977c52-fced-44db-ae8a-cad30fa754a0",
   "metadata": {},
   "source": [
    "## 一般的な疑似乱数生成アルゴリズム"
   ]
  },
  {
   "cell_type": "markdown",
   "id": "858082e1-07d1-4ccb-9727-e118f8940fcc",
   "metadata": {},
   "source": [
    "- [](./lcg.ipynb)\n",
    "- [](./xorshift.ipynb)\n",
    "- [](./mersenne_twister.ipynb)"
   ]
  },
  {
   "cell_type": "markdown",
   "id": "947dc432-cf7d-4e44-914a-e015e2659910",
   "metadata": {},
   "source": [
    "## 暗号論的擬似乱数生成器（CSPRNG）"
   ]
  },
  {
   "cell_type": "markdown",
   "id": "24536b0a-b2d0-449d-ac5e-7fa5f3f80d38",
   "metadata": {},
   "source": [
    "セキュリティが重要な場合に使用される。代表的なものは以下\n",
    "\n",
    "**Yarrow**\n",
    "\n",
    "- 概要: Bruce Schneierらによって設計された、暗号学的に安全な乱数生成器。\n",
    "- 特徴: 高いセキュリティとランダム性。\n",
    "\n",
    "**Fortuna**\n",
    "\n",
    "- 概要: Yarrowの改良版。特に長期間のセキュリティに重点を置いて設計された。\n",
    "- 特徴: モジュール構造と強力なセキュリティ。\n",
    "\n",
    "**SHA-1/SHA-256ベースの生成器**\n",
    "\n",
    "- 概要: SHA-1やSHA-256のハッシュ関数を用いた乱数生成。\n",
    "- 特徴: 暗号学的に安全。\n",
    "\n",
    "**AES-CTR DRBG（Deterministic Random Bit Generator）**\n",
    "\n",
    "- 概要: AES暗号をカウンターモードで使用した乱数生成器。\n",
    "- 特徴: 高速かつ安全。"
   ]
  },
  {
   "cell_type": "markdown",
   "id": "d110d7b5-d1c4-453b-a881-f29b5e59b95b",
   "metadata": {},
   "source": [
    "## 疑似乱数と暗号・セキュリティ\n",
    "\n",
    "### nonce\n",
    "\n",
    "nonce (ノンス) は、暗号通信で用いられる使い捨てのランダムな値。\n",
    "\n",
    "[ノンス - Wikipedia](https://ja.wikipedia.org/wiki/%E3%83%8E%E3%83%B3%E3%82%B9)\n",
    "\n",
    "例1: インターネット上で買い物をするとき、注文時にノンスを含めれば、もし注文内容が傍受されて攻撃者に繰り返されたとしても「同じノンスで送られたデータは不正なもの」として無視すれば攻撃が成立しなくなる。\n",
    "\n",
    "例2: [いつもNAVI API](https://support.e-map.ne.jp/manuals/common/?q=auth) のOAuth認証でのアクセス時もタイムスタンプとnonceをクエリパラメータに含める仕様になっている\n",
    "\n",
    "例3: HTTPのDigest認証でも、パスワードのMD5ダイジェストを計算する過程でノンスが使われる。\n",
    "\n"
   ]
  },
  {
   "cell_type": "markdown",
   "id": "9b27f3a1-5275-47fe-beaf-c4daa35ef66b",
   "metadata": {},
   "source": [
    ":::{margin} Digest認証\n",
    "\n",
    "Basic認証（ユーザー名とパスワードをコロン `:` でつなぎ、Base64エンコードして送信する。盗聴や改ざんが簡単な基礎的な認証）の改良版で、ユーザー名とパスワードをMD5でハッシュ化して送信するのがDigest認証\n",
    "\n",
    ":::"
   ]
  }
 ],
 "metadata": {
  "kernelspec": {
   "display_name": "Python 3 (ipykernel)",
   "language": "python",
   "name": "python3"
  },
  "language_info": {
   "codemirror_mode": {
    "name": "ipython",
    "version": 3
   },
   "file_extension": ".py",
   "mimetype": "text/x-python",
   "name": "python",
   "nbconvert_exporter": "python",
   "pygments_lexer": "ipython3",
   "version": "3.10.14"
  }
 },
 "nbformat": 4,
 "nbformat_minor": 5
}
