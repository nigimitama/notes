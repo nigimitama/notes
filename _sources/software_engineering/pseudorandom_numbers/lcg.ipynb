{
 "cells": [
  {
   "cell_type": "markdown",
   "id": "7def9a0b-40e5-42eb-a9e3-0b80d3b5817d",
   "metadata": {},
   "source": [
    "# 線形合同法\n",
    "\n",
    "**線形合同法 (linear congruential generator: LCG)** は、最も古く、また最もよく知られた擬似乱数生成アルゴリズムの一種。\n",
    "\n"
   ]
  },
  {
   "cell_type": "markdown",
   "id": "1cdc351f-71a4-4b97-ba94-05bf189ff3fc",
   "metadata": {},
   "source": [
    "## 概要"
   ]
  },
  {
   "cell_type": "markdown",
   "id": "eef34a27-1761-4f58-a393-63d9e366df60",
   "metadata": {},
   "source": [
    "パラメータ$A, C, M$と変数$x$の初期値$x_0$のもとで、変数$x_n$の漸化式\n",
    "\n",
    "$$\n",
    "x_{n+1} = (A \\times x_n + C) \\operatorname{mod} M\n",
    "$$\n",
    "\n",
    "によって計算される。"
   ]
  },
  {
   "cell_type": "markdown",
   "id": "246b8d4d-58b9-4acb-925d-641476b42b60",
   "metadata": {},
   "source": [
    "### 生成周期について\n",
    "\n",
    "- 周期の最大は $M$\n",
    "- 以下の条件をすべて満たすと周期が最大になる：\n",
    "    - $C$ と $M$ が互いに素(最大公約数が1)\n",
    "    - $A-1$ が $M$ の全ての素因数で割り切れる\n",
    "    - $M$ が 4 の倍数ならば $A-1$ も $4$ の倍数"
   ]
  },
  {
   "cell_type": "markdown",
   "id": "fc314ce1-3834-47db-8591-766a4c8e6ce0",
   "metadata": {},
   "source": [
    "## 実装"
   ]
  },
  {
   "cell_type": "markdown",
   "id": "a773c27b-b3ae-45b6-bbc8-62efcbd7638b",
   "metadata": {},
   "source": [
    "pythonでいうと\n",
    "\n",
    "```python\n",
    "x = (A * x + C) % M\n",
    "```\n",
    "\n",
    "で済む。クラスにするなら以下のようになる。"
   ]
  },
  {
   "cell_type": "code",
   "execution_count": 41,
   "id": "ff475316-445a-4ea2-b98d-ea14fa965dd9",
   "metadata": {},
   "outputs": [],
   "source": [
    "class LCG:\n",
    "\n",
    "    def __init__(self, A, C, M, x_0):\n",
    "        self.A = A\n",
    "        self.C = C\n",
    "        self.M = M\n",
    "        self.x = x_0\n",
    "\n",
    "    def gen(self):\n",
    "        self.x = (self.A * self.x + self.C) % self.M\n",
    "        return self.x"
   ]
  },
  {
   "cell_type": "code",
   "execution_count": 42,
   "id": "40498fce-e3c7-46cb-ac9e-891bfe08ca3c",
   "metadata": {},
   "outputs": [
    {
     "name": "stdout",
     "output_type": "stream",
     "text": [
      "0: x=579\n",
      "1: x=663\n",
      "2: x=738\n",
      "3: x=495\n",
      "4: x=588\n"
     ]
    }
   ],
   "source": [
    "random = LCG(A=123, C=456, M=789, x_0=1)\n",
    "\n",
    "for trial in range(5):\n",
    "    x = random.gen()\n",
    "    print(f\"{trial}: {x=}\")"
   ]
  },
  {
   "cell_type": "markdown",
   "id": "5c870d2a-ec38-404d-9656-4a006fbf1f94",
   "metadata": {},
   "source": [
    "### パラメータを変えて実験"
   ]
  },
  {
   "cell_type": "code",
   "execution_count": 43,
   "id": "2bb2458c-42b3-4367-b736-0def61b6acbc",
   "metadata": {},
   "outputs": [
    {
     "name": "stdout",
     "output_type": "stream",
     "text": [
      "1: x=5\n",
      "2: x=10\n",
      "3: x=3\n",
      "4: x=8\n",
      "5: x=1\n",
      "6: x=6\n",
      "7: x=11\n",
      "8: x=4\n",
      "9: x=9\n",
      "10: x=2\n",
      "11: x=7\n",
      "12: x=0\n",
      "13: x=5\n"
     ]
    }
   ],
   "source": [
    "# 周期が最大になる例\n",
    "random = LCG(A=13, C=5, M=12, x_0=0)\n",
    "\n",
    "# 最大周期を確認するためM+1回繰り返す\n",
    "for trial in range(random.M + 1):\n",
    "    x = random.gen()\n",
    "    print(f\"{trial+1}: {x=}\")"
   ]
  },
  {
   "cell_type": "code",
   "execution_count": 44,
   "id": "7a37181d-e4de-4135-b5f7-0e831f98217d",
   "metadata": {},
   "outputs": [
    {
     "name": "stdout",
     "output_type": "stream",
     "text": [
      "1: x=0\n",
      "2: x=0\n",
      "3: x=0\n",
      "4: x=0\n",
      "5: x=0\n"
     ]
    }
   ],
   "source": [
    "# 周期が最大にならない例\n",
    "random = LCG(A=999, C=999, M=999, x_0=1)\n",
    "\n",
    "for trial in range(5):\n",
    "    x = random.gen()\n",
    "    print(f\"{trial+1}: {x=}\")"
   ]
  },
  {
   "cell_type": "markdown",
   "id": "192c688f-2ed0-4964-82eb-f9ece4d0bb7d",
   "metadata": {},
   "source": [
    "## 問題点\n",
    "\n",
    "- 割る数$M$が偶数の場合、乱数は奇数と偶数が交互で生成される。\n",
    "- → 次の値が部分的ながら予測できてしまう\n",
    "\n",
    "\n",
    "なので、LCGは暗号論的擬似乱数生成器ではなく、そのまま暗号に使用してはならない。"
   ]
  },
  {
   "cell_type": "code",
   "execution_count": 46,
   "id": "c9420c18-2f06-46c1-8d57-df68f0b0e01c",
   "metadata": {},
   "outputs": [
    {
     "name": "stdout",
     "output_type": "stream",
     "text": [
      "1: x=5\n",
      "2: x=10\n",
      "3: x=3\n",
      "4: x=8\n",
      "5: x=1\n",
      "6: x=6\n"
     ]
    }
   ],
   "source": [
    "random = LCG(A=13, C=5, M=12, x_0=0)\n",
    "\n",
    "for trial in range(6):\n",
    "    x = random.gen()\n",
    "    print(f\"{trial+1}: {x=}\")"
   ]
  },
  {
   "cell_type": "markdown",
   "id": "d9a92739-3bd7-492e-9d2c-a6fbfe208597",
   "metadata": {},
   "source": [
    "## 応用例\n",
    "\n",
    "簡易的な乱数生成として用いられる。\n",
    "\n",
    "[良い乱数・悪い乱数](http://isaku-wada.my.coocan.jp/rand/rand.html) によれば、UNIXの`rand()`やVBAの`Rnd()`などで線形合同法が利用されているらしい。\n",
    "\n"
   ]
  },
  {
   "cell_type": "markdown",
   "id": "9aa3f64a-47a5-42c9-99cc-3bff0403365e",
   "metadata": {},
   "source": [
    "## どのようなパラメータを設定すべきか\n",
    "\n",
    "UNIXの`rand`の解説にでてきたため有名な例\n",
    "\n",
    "$$\n",
    "x_{n+1}=(1103515245 \\times x_n + 12345) \\bmod 2^{32}\n",
    "$$\n",
    "\n",
    "\n",
    "[Park & Miller (1988)](https://dl.acm.org/doi/10.1145/63039.63042) が提案した、もっとマシなもの\n",
    "\n",
    "$$\n",
    "x_{n+1}= (48271 \\times x_n) \\bmod (2^{31}-1)\n",
    "$$\n"
   ]
  },
  {
   "cell_type": "markdown",
   "id": "d67ee6de-2c8d-4663-ba18-534871bd79e0",
   "metadata": {},
   "source": [
    "## 参考\n",
    "\n",
    "- [擬似乱数の話(線形合同法) #シミュレーション - Qiita](https://qiita.com/week/items/a1b2cdb1f4714a5a6143)\n",
    "- [線形合同法 - Algoful](https://algoful.com/Archive/Algorithm/LCG)\n",
    "- [線形合同法 - Wikipedia](https://ja.wikipedia.org/wiki/%E7%B7%9A%E5%BD%A2%E5%90%88%E5%90%8C%E6%B3%95)\n",
    "- [良い乱数・悪い乱数](http://isaku-wada.my.coocan.jp/rand/rand.html)\n",
    "- [Park, S. K., & Miller, K. W. (1988). Random number generators: good ones are hard to find. Communications of the ACM, 31(10), 1192-1201.](https://dl.acm.org/doi/10.1145/63039.63042)"
   ]
  }
 ],
 "metadata": {
  "kernelspec": {
   "display_name": "Python 3 (ipykernel)",
   "language": "python",
   "name": "python3"
  },
  "language_info": {
   "codemirror_mode": {
    "name": "ipython",
    "version": 3
   },
   "file_extension": ".py",
   "mimetype": "text/x-python",
   "name": "python",
   "nbconvert_exporter": "python",
   "pygments_lexer": "ipython3",
   "version": "3.10.14"
  }
 },
 "nbformat": 4,
 "nbformat_minor": 5
}
