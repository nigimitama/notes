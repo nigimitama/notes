{
 "cells": [
  {
   "cell_type": "markdown",
   "id": "f0da2078-0d83-4a82-ac74-532515f733f4",
   "metadata": {},
   "source": [
    "# Mersenne Twister法"
   ]
  },
  {
   "cell_type": "markdown",
   "id": "074dadee-d26f-4384-bff6-f1250b0264af",
   "metadata": {},
   "source": [
    "**メルセンヌ・ツイスタ（Mersenne Twister, MT19937）法**\n",
    "\n",
    "高速かつ高品質な疑似乱数生成器で、1997年に松本眞と西村拓士によって開発された。\n",
    "周期が非常に長く（$2^{19937}-1$）統計的性質が優れている。\n",
    "\n",
    "多くのプログラミング言語でデフォルトの乱数生成器として使用されており、Pythonだと`random`パッケージの乱数はMT法を使っている。"
   ]
  },
  {
   "cell_type": "markdown",
   "id": "5d3a180a-a203-49e2-bf38-c9dbb1ed6d25",
   "metadata": {},
   "source": [
    "公式サイト：[Mersenne Twister: A random number generator (since 1997/10)](http://www.math.sci.hiroshima-u.ac.jp/m-mat/MT/mt.html)\n"
   ]
  },
  {
   "cell_type": "markdown",
   "id": "d6ffca2a-d135-4e6a-8ae4-7237ad82f340",
   "metadata": {},
   "source": [
    "## 参考\n",
    "\n",
    "- [Mersenne Twister: A random number generator (since 1997/10)](http://www.math.sci.hiroshima-u.ac.jp/m-mat/MT/mt.html)\n",
    "- [知らなくても不都合は無いメルセンヌ・ツイスタの知識](https://www.cepstrum.co.jp/hobby/mersenne_twister/mersenne_twister.html)\n",
    "- [メルセンヌ・ツイスタ - Wikipedia](https://ja.wikipedia.org/wiki/%E3%83%A1%E3%83%AB%E3%82%BB%E3%83%B3%E3%83%8C%E3%83%BB%E3%83%84%E3%82%A4%E3%82%B9%E3%82%BF)\n"
   ]
  }
 ],
 "metadata": {
  "kernelspec": {
   "display_name": "",
   "name": ""
  },
  "language_info": {
   "name": ""
  }
 },
 "nbformat": 4,
 "nbformat_minor": 5
}
