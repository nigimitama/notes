{
 "cells": [
  {
   "cell_type": "markdown",
   "id": "44c615fe-24a6-4226-a5e6-8527d146a59e",
   "metadata": {},
   "source": [
    "# 疑似乱数"
   ]
  },
  {
   "cell_type": "markdown",
   "id": "7134594b-bec0-4364-8395-0a89c1b10f7a",
   "metadata": {},
   "source": [
    ":::{tableofcontents}\n",
    ":::"
   ]
  }
 ],
 "metadata": {
  "kernelspec": {
   "display_name": "Python 3 (ipykernel)",
   "language": "python",
   "name": "python3"
  },
  "language_info": {
   "codemirror_mode": {
    "name": "ipython",
    "version": 3
   },
   "file_extension": ".py",
   "mimetype": "text/x-python",
   "name": "python",
   "nbconvert_exporter": "python",
   "pygments_lexer": "ipython3",
   "version": "3.10.14"
  }
 },
 "nbformat": 4,
 "nbformat_minor": 5
}
