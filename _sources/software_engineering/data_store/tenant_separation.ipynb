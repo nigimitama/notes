{
 "cells": [
  {
   "cell_type": "markdown",
   "id": "4fe5cddf-b9d1-4013-a636-e11869c8fde2",
   "metadata": {},
   "source": [
    "# テナント分離"
   ]
  },
  {
   "cell_type": "markdown",
   "id": "d201715b-fe30-45ff-b75d-ce2f57a79b80",
   "metadata": {},
   "source": [
    "## テナント分離の方法\n",
    "\n",
    "マルチテナントSaaSにおいて、テナントごとにデータを分離する方法は主に3つある\n",
    "\n",
    "1. アプリケーションの実行環境ごと完全に分離する\n",
    "2. データベースのみをインスタンスやスキーマで分離する\n",
    "3. データベースのインスタンスやスキーマはマルチテナントとして、テーブル内のテナントIDで分離する\n",
    "\n",
    "上のものほど安全に分離できるが、リソース効率が悪くなる。"
   ]
  },
  {
   "cell_type": "markdown",
   "id": "0a2ea0ab-8432-4c51-a229-af2869743621",
   "metadata": {},
   "source": [
    "## Row Level Security (RLS)\n",
    "\n",
    "Row Level Security (RLS)は、テーブル内の行へのアクセスを制御する機能。\n",
    "\n",
    "RLS を利用すると、SELECT 文などに暗黙的な WHERE 句 (`where tenant_id = xxx`) が追加されたような挙動が実現できる。\n",
    "\n",
    "### 注意点\n",
    "\n",
    "- パフォーマンスがやや悪くなる\n",
    "    - [Row Level Securityはマルチテナントの銀の弾丸になりうるのか / Row Level Security is silver bullet for multitenancy? - Speaker Deck](https://speakerdeck.com/yudppp/row-level-security-is-silver-bullet-for-multitenancy)\n",
    "- コネクション管理が煩雑になる\n",
    "    - `current_user` ではなく `current_setting` をポリシーに使うことでコネクション管理が複雑にならないらしい\n",
    "    - [PostgreSQL の行レベルのセキュリティを備えたマルチテナントデータの分離 | Amazon Web Services ブログ](https://aws.amazon.com/jp/blogs/news/multi-tenant-data-isolation-with-postgresql-row-level-security/)\n",
    "\n",
    "\n",
    ":::{admonition} 参考\n",
    ":class: info\n",
    "\n",
    "- [PostgreSQLのRow Level Securityを検証する](https://zenn.dev/taxin/articles/postgresql-row-level-security-policy)\n",
    "    - MySQLはRLSをサポートしていないらしい。\n",
    "    - 「MySQLでマルチテナントSaaSをやるとうっかりミスで会社が潰れます。（[技術選定の失敗 2年間を振り返る TypeScript,Hono,Nest.js,React,GraphQL](https://zenn.dev/nem/articles/ade7b83cae2fa5#mysql)）」\n",
    "- [マルチテナントSaaSのテナント分離をRow-Level Securityに移行した - Sansan Tech Blog](https://buildersbox.corp-sansan.com/entry/2021/05/10/110000)\n",
    ":::\n",
    "\n",
    ":::{info}\n",
    "AWSによる、PostgreSQLでのRLSの例\n",
    "\n",
    "[aws-samples/aws-saas-factory-postgresql-rls](https://github.com/aws-samples/aws-saas-factory-postgresql-rls)\n",
    "\n",
    "（[PostgreSQL の行レベルのセキュリティを備えたマルチテナントデータの分離 | Amazon Web Services ブログ](https://aws.amazon.com/jp/blogs/news/multi-tenant-data-isolation-with-postgresql-row-level-security/)）\n",
    ":::\n"
   ]
  }
 ],
 "metadata": {
  "kernelspec": {
   "display_name": "Python 3 (ipykernel)",
   "language": "python",
   "name": "python3"
  },
  "language_info": {
   "codemirror_mode": {
    "name": "ipython",
    "version": 3
   },
   "file_extension": ".py",
   "mimetype": "text/x-python",
   "name": "python",
   "nbconvert_exporter": "python",
   "pygments_lexer": "ipython3",
   "version": "3.10.14"
  }
 },
 "nbformat": 4,
 "nbformat_minor": 5
}
