{
 "cells": [
  {
   "cell_type": "markdown",
   "id": "db65e305-10e7-4f74-9cd8-e20b7942b2c8",
   "metadata": {},
   "source": [
    "# UIデザイン"
   ]
  },
  {
   "cell_type": "markdown",
   "id": "22ef52bc-9686-4192-8379-3c0259834dc0",
   "metadata": {},
   "source": [
    ":::{tableofcontents}\n",
    "\n",
    ":::"
   ]
  }
 ],
 "metadata": {
  "kernelspec": {
   "display_name": "Python 3 (ipykernel)",
   "language": "python",
   "name": "python3"
  },
  "language_info": {
   "codemirror_mode": {
    "name": "ipython",
    "version": 3
   },
   "file_extension": ".py",
   "mimetype": "text/x-python",
   "name": "python",
   "nbconvert_exporter": "python",
   "pygments_lexer": "ipython3",
   "version": "3.10.15"
  }
 },
 "nbformat": 4,
 "nbformat_minor": 5
}
