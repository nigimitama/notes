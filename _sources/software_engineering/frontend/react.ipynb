{
 "cells": [
  {
   "cell_type": "markdown",
   "id": "95a7b5f0-299b-4bcf-912f-41320c42f72d",
   "metadata": {},
   "source": [
    "# React\n",
    "\n",
    "ReactはMetaが開発しているUIのライブラリ。JSX（JavaScript XML）というHTMLライクな記法をJavaScript内で使用できる構文拡張を用いてUIを定義できる\n",
    "\n",
    "https://ja.react.dev/\n",
    "\n"
   ]
  },
  {
   "cell_type": "markdown",
   "id": "c2712915-aa98-4984-9fe5-fcde738d2740",
   "metadata": {},
   "source": [
    "## React Hooks\n",
    "\n",
    "[【図解解説】これ1本12分でReact Hooks 全20種を理解できる教科書 #TypeScript - Qiita](https://qiita.com/Sicut_study/items/d4778cbe8b499570f79e)"
   ]
  },
  {
   "cell_type": "markdown",
   "id": "238fb50e-544f-4406-aa08-a90791e90abb",
   "metadata": {},
   "source": [
    "## ⚠️ データの取得はuseEffectでは行わないほうがよい\n",
    "\n",
    "### useEffectを使うことによる問題\n",
    "\n",
    "**問題1. ウォーターフォール問題**\n",
    "\n",
    "親コンポーネントのデータフェッチが完了するまで、子コンポーネントはデータフェッチが行われないのでパフォーマンスが落ちてしまう\n",
    "\n",
    "\n",
    "**問題2. 競合状態（Race Condition）の発生**\n",
    "\n",
    "以下のようなコードの場合、userIdが素早く変わった場合に古いリクエストが新しいリクエストの後に完了して、古いデータで状態が更新される可能性がある\n",
    "\n",
    "```js\n",
    "useEffect(() => {\n",
    "  fetchUser(userId).then(setUser);\n",
    "}, [userId]);\n",
    "```\n",
    "\n",
    "### 対処法\n",
    "\n",
    "\n",
    "代わりの方法としては、次のようなフェッチ用ライブラリを使う\n",
    "\n",
    "**対処法1. SWRを使う**\n",
    "\n",
    "SWRはデータ取得のためのReact Hooksライブラリで、Vercelが開発している。\n",
    "\n",
    "> “SWR” という名前は、 HTTP RFC 5861(opens in a new tab) で提唱された HTTP キャッシュ無効化戦略である stale-while-revalidate に由来しています。 SWR は、まずキャッシュからデータを返し（stale）、次にフェッチリクエストを送り（revalidate）、最後に最新のデータを持ってくるという戦略です。\n",
    ">\n",
    "> [データ取得のための React Hooks ライブラリ – SWR](https://swr.vercel.app/ja)\n",
    "\n",
    ":::{card} SWRの実装例\n",
    "\n",
    "```js\n",
    "import useSWR from 'swr';\n",
    "\n",
    "function UserProfile({ userId }) {\n",
    "  const { data: user, error, isLoading } = useSWR(\n",
    "    `/api/users/${userId}`,\n",
    "    fetchUser\n",
    "  );\n",
    "  \n",
    "  if (isLoading) return <div>Loading...</div>;\n",
    "  if (error) return <div>Error occurred</div>;\n",
    "  return <div>{user.name}</div>;\n",
    "}\n",
    "```\n",
    "\n",
    ":::\n",
    "\n",
    "\n",
    "**対処法2. TanStack Queryを使う**\n",
    "\n",
    "[TanStack Query](https://tanstack.com/query/latest)\n",
    "\n",
    "\n",
    ":::{card} TanStack Queryの実装例\n",
    "\n",
    "```js\n",
    "import { useQuery } from '@tanstack/react-query';\n",
    "\n",
    "function UserProfile({ userId }) {\n",
    "  const { data: user, isLoading, error } = useQuery({\n",
    "    queryKey: ['user', userId],\n",
    "    queryFn: () => fetchUser(userId)\n",
    "  });\n",
    "  \n",
    "  if (isLoading) return <div>Loading...</div>;\n",
    "  if (error) return <div>Error: {error.message}</div>;\n",
    "  return <div>{user.name}</div>;\n",
    "}\n",
    "```\n",
    ":::\n"
   ]
  },
  {
   "cell_type": "code",
   "execution_count": null,
   "id": "66ed43b1-7aa5-46c8-a676-bbc68bdf519d",
   "metadata": {},
   "outputs": [],
   "source": []
  }
 ],
 "metadata": {
  "kernelspec": {
   "display_name": "Python 3 (ipykernel)",
   "language": "python",
   "name": "python3"
  },
  "language_info": {
   "codemirror_mode": {
    "name": "ipython",
    "version": 3
   },
   "file_extension": ".py",
   "mimetype": "text/x-python",
   "name": "python",
   "nbconvert_exporter": "python",
   "pygments_lexer": "ipython3",
   "version": "3.10.18"
  }
 },
 "nbformat": 4,
 "nbformat_minor": 5
}
