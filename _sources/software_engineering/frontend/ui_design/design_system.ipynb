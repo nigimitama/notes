{
 "cells": [
  {
   "cell_type": "markdown",
   "id": "5440dc16-becf-49e4-a92a-b8b0d1ac214d",
   "metadata": {},
   "source": [
    "# デザインシステム"
   ]
  },
  {
   "cell_type": "markdown",
   "id": "9cdba50d-3d8f-48a6-af88-dbf7786735c1",
   "metadata": {
    "tags": []
   },
   "source": [
    "デザインシステムは開発の生産性を最大化しユーザーに一貫性のある体験を提供するための仕組み。\n",
    "\n",
    "1. デザインガイドライン\n",
    "2. UIパターン・コンポーネント\n",
    "3. ライブラリ\n",
    "\n",
    "などから構成され、パーツを再利用することで生産性を上げつつデザインの一貫性を保つ"
   ]
  },
  {
   "cell_type": "markdown",
   "id": "8aef1b51-02f2-422c-babd-ddd0cd54ab47",
   "metadata": {},
   "source": [
    "## デザインシステムの例\n"
   ]
  },
  {
   "cell_type": "markdown",
   "id": "96c4a323-4398-4a9f-a5cb-918cae276f8c",
   "metadata": {},
   "source": [
    "\n",
    "### Material Design\n",
    "\n",
    "- Googleのデザインシステム\n",
    "- https://m3.material.io/\n"
   ]
  },
  {
   "cell_type": "markdown",
   "id": "6fbe7dd4-25c2-4b21-b4e3-18a32d8b8dc5",
   "metadata": {},
   "source": [
    "\n",
    "### デジタル庁 デザインシステム\n",
    "\n",
    "- サイト https://www.digital.go.jp/policies/servicedesign/designsystem\n",
    "- Figma https://www.figma.com/@digitalagencyjp\n"
   ]
  },
  {
   "cell_type": "markdown",
   "id": "0787b0b8-f7c6-40bd-963a-b79aee3c4e66",
   "metadata": {},
   "source": [
    "### SmartHR Design System\n",
    "\n",
    "- https://smarthr.design/\n",
    "- [基本原則](https://smarthr.design/foundation/)で「わかりやすい」「親しみやすい」などコンセプトが定義される\n",
    "- [基本要素](https://smarthr.design/basics/)でフォントや色などが定義される\n"
   ]
  }
 ],
 "metadata": {
  "kernelspec": {
   "display_name": "Python 3 (ipykernel)",
   "language": "python",
   "name": "python3"
  },
  "language_info": {
   "codemirror_mode": {
    "name": "ipython",
    "version": 3
   },
   "file_extension": ".py",
   "mimetype": "text/x-python",
   "name": "python",
   "nbconvert_exporter": "python",
   "pygments_lexer": "ipython3",
   "version": "3.10.15"
  }
 },
 "nbformat": 4,
 "nbformat_minor": 5
}
