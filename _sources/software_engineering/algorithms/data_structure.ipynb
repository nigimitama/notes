{
 "cells": [
  {
   "cell_type": "markdown",
   "id": "7799d705-5195-44f9-a7fe-e0e33787bb76",
   "metadata": {},
   "source": [
    "# データ構造"
   ]
  },
  {
   "cell_type": "markdown",
   "id": "7da5001f-b001-485c-b09c-3fb1c1658059",
   "metadata": {},
   "source": [
    "## データ構造と計算量\n",
    "\n",
    "なぜデータ構造を学ぶのか → 一つの実用的な理由は、計算量を大幅に削減できる場合があるから\n",
    "\n",
    "\n",
    "[TimeComplexity - Python Wiki](https://wiki.python.org/moin/TimeComplexity)\n",
    "\n",
    "- listは検索（`\"hoge\" in List`）するとき$O(n)$（線形探索）\n",
    "- setは検索するとき$O(1)$\n",
    "- listでsortすると、要素数の分だけ計算量かかる\n",
    "- heapq（ヒープキュー、優先度つきキュー）で保持すると、最小値や最大値しか取り出せないが、頻繁に最小値や最大値を参照するときはlistで保持して毎回sortするより効率がいい（[ABC141D - Powerful Discount Tickets](https://atcoder.jp/contests/abc141/tasks/abc141_d)）\n",
    "\n",
    "[特集！知らないと損をする計算量の話 - Qiita](https://qiita.com/drken/items/18b3b3db5735241465ef)\n",
    "\n"
   ]
  },
  {
   "cell_type": "markdown",
   "id": "73946df1-7520-425b-aaae-ebd46be015dd",
   "metadata": {},
   "source": [
    "## スタック\n",
    "\n",
    "**スタック（stack）** はデータの中で最後に入ったものが最初に取り出される **後入れ先出し（Last In First Out: LIFO）** のデータ構造\n",
    "\n",
    "操作：\n",
    "\n",
    "- `push(x)`: スタックに要素`x`を追加する\n",
    "- `pop()`: スタックの最後の要素を取り出す"
   ]
  },
  {
   "cell_type": "code",
   "execution_count": 12,
   "id": "6d0155e6-fcfc-4873-b42d-4e0424421ec8",
   "metadata": {},
   "outputs": [
    {
     "data": {
      "text/plain": [
       "2"
      ]
     },
     "execution_count": 12,
     "metadata": {},
     "output_type": "execute_result"
    }
   ],
   "source": [
    "class Stack:\n",
    "\n",
    "    def __init__(self):\n",
    "        self.data = []\n",
    "\n",
    "    def push(self, x):\n",
    "        self.data.append(x)\n",
    "\n",
    "    def pop(self):\n",
    "        return self.data.pop(-1)\n",
    "\n",
    "\n",
    "s = Stack()\n",
    "s.push(1)\n",
    "s.push(2)\n",
    "s.pop()"
   ]
  },
  {
   "cell_type": "markdown",
   "id": "792e0b55-2b30-45e0-8191-feb4f363be54",
   "metadata": {},
   "source": [
    "## キュー\n",
    "\n",
    "**キュー（Queue）** はデータの中で最初に入ったものが最初に取り出される、 **先入れ先出し（First In First Out: FIFO）** のデータ構造\n",
    "\n",
    "操作：\n",
    "\n",
    "- `enqueue(x)`: キューの末尾に要素`x`を追加する\n",
    "- `dequeue()`: キューの先頭から要素を取り出す"
   ]
  },
  {
   "cell_type": "code",
   "execution_count": 8,
   "id": "658e4c80-81a9-48b5-980a-bcc86a719492",
   "metadata": {},
   "outputs": [
    {
     "data": {
      "text/plain": [
       "1"
      ]
     },
     "execution_count": 8,
     "metadata": {},
     "output_type": "execute_result"
    }
   ],
   "source": [
    "from queue import Queue\n",
    "\n",
    "q = Queue()\n",
    "q.put(1)\n",
    "q.put(2)\n",
    "q.get()"
   ]
  },
  {
   "cell_type": "markdown",
   "id": "82544cf1-6748-4ba1-81e1-ddcab41ccc6a",
   "metadata": {},
   "source": [
    "## 連結リスト"
   ]
  },
  {
   "cell_type": "code",
   "execution_count": 13,
   "id": "84a37ee9-db5e-43e0-b69d-31188be783fb",
   "metadata": {},
   "outputs": [],
   "source": [
    "#TODO"
   ]
  },
  {
   "cell_type": "code",
   "execution_count": null,
   "id": "abeefea9-bf7c-4c4d-9864-09947bb92400",
   "metadata": {},
   "outputs": [],
   "source": []
  }
 ],
 "metadata": {
  "kernelspec": {
   "display_name": "Python 3 (ipykernel)",
   "language": "python",
   "name": "python3"
  },
  "language_info": {
   "codemirror_mode": {
    "name": "ipython",
    "version": 3
   },
   "file_extension": ".py",
   "mimetype": "text/x-python",
   "name": "python",
   "nbconvert_exporter": "python",
   "pygments_lexer": "ipython3",
   "version": "3.10.14"
  }
 },
 "nbformat": 4,
 "nbformat_minor": 5
}
