{
 "cells": [
  {
   "cell_type": "markdown",
   "id": "ad42bb5f-95c1-4d69-ad84-c08490472b59",
   "metadata": {},
   "source": [
    "# 探索アルゴリズム"
   ]
  },
  {
   "cell_type": "markdown",
   "id": "bc2d2631-4768-4bfa-bf90-d7fa18288d03",
   "metadata": {},
   "source": [
    "## リストの探索\n",
    "\n",
    "リスト・配列の探索について"
   ]
  },
  {
   "cell_type": "markdown",
   "id": "cebb4701-b655-40f8-a0d9-4f14ea6c291c",
   "metadata": {},
   "source": [
    "### 線形探索\n",
    "\n",
    "全要素を順に見て比較していき、見つかれば終了する"
   ]
  },
  {
   "cell_type": "code",
   "execution_count": 9,
   "id": "18c09c90-0444-4327-b1eb-fa391ddb6693",
   "metadata": {},
   "outputs": [
    {
     "name": "stdout",
     "output_type": "stream",
     "text": [
      "index=2, value=3\n"
     ]
    }
   ],
   "source": [
    "data = [1, 5, 3, 2, 4]\n",
    "\n",
    "query = 3\n",
    "for i in range(len(data)):\n",
    "    if data[i] == query:\n",
    "        print(f\"index={i}, value={data[i]}\")\n",
    "        break"
   ]
  },
  {
   "cell_type": "markdown",
   "id": "f4dc3154-8cf4-442d-8a56-f7c4bb6179c3",
   "metadata": {},
   "source": [
    "### 二分探索（binary search）\n",
    "\n",
    "- ソート済みのリストや配列のデータにおける検索で、検索したい値が中央の値より大きいかどうかで検索範囲を半分ずつに絞り込んでいく\n",
    "- [AtCoder灰・茶・緑色の方必見！二分探索を絶対にバグらせないで書く方法│FORCIA CUBE│フォルシア株式会社](https://www.forcia.com/blog/001434.html)\n",
    "- [bisect --- 配列二分法アルゴリズム — Python 3.12.1 ドキュメント](https://docs.python.org/ja/3/library/bisect.html)"
   ]
  },
  {
   "cell_type": "code",
   "execution_count": null,
   "id": "d3ac4c74-f4fa-4bde-adf2-4315a5cec8cf",
   "metadata": {},
   "outputs": [],
   "source": []
  },
  {
   "cell_type": "markdown",
   "id": "6973c893-aec5-4fbf-ab66-6cc6a8339e03",
   "metadata": {},
   "source": [
    "## グラフや木構造の探索について"
   ]
  },
  {
   "cell_type": "markdown",
   "id": "163294d3-8088-4a35-86ab-3fce72aee5c5",
   "metadata": {},
   "source": [
    "### 幅優先探索（breadth first search）\n",
    "\n",
    "- まず、根ノードに隣接した全てのノードを探索する。それからこれらの最も近いノードのそれぞれに対して同様のことを繰り返して探索対象ノードをみつける。\n",
    "- 幅優先探索は解を探すために、グラフの全てのノードを網羅的に展開・検査する。\n",
    "  - 最良優先探索とは異なり、ノード探索にヒューリスティクスを使わずに、グラフ全体を目的のノードがみつかるまで、目的のノードに接近しているかどうかなどは考慮せず探索する。\n",
    "\n",
    "#### 最良優先探索（best-first search）\n",
    "\n",
    "- 幅優先探索を拡張し、最も望ましいノードを選択するようにしたもの\n",
    "- [最良優先探索 - Wikipedia](https://ja.wikipedia.org/wiki/%E6%9C%80%E8%89%AF%E5%84%AA%E5%85%88%E6%8E%A2%E7%B4%A2)\n",
    "  - [ダイクストラ法 - Wikipedia](https://ja.wikipedia.org/wiki/%E3%83%80%E3%82%A4%E3%82%AF%E3%82%B9%E3%83%88%E3%83%A9%E6%B3%95)\n"
   ]
  },
  {
   "cell_type": "code",
   "execution_count": 6,
   "id": "8541b860-f021-458e-981b-56723b7ac4a9",
   "metadata": {},
   "outputs": [
    {
     "name": "stdout",
     "output_type": "stream",
     "text": [
      "searching a node '0'\n",
      "1 is found and enqueued to todo\n",
      "2 is found and enqueued to todo\n",
      "searching a node '1'\n",
      "3 is found and enqueued to todo\n",
      "searching a node '2'\n",
      "searching a node '3'\n"
     ]
    }
   ],
   "source": [
    "from typing import List\n",
    "from queue import Queue\n",
    "\n",
    "\n",
    "def get_adjacent_nodes(edges: List[list]) -> List[list]:\n",
    "    \"\"\"各nodeと隣接したnodeのリストを作る\"\"\"\n",
    "    nodes = set(sum(edges, []))\n",
    "    adjacent_nodes = []\n",
    "    for node in nodes:\n",
    "        adjacent_node = []\n",
    "        for edge in edges:\n",
    "            if node in edge:\n",
    "                e = [e for e in edge if e != node][0]\n",
    "                adjacent_node.append(e)\n",
    "        adjacent_nodes.append(adjacent_node)\n",
    "    return adjacent_nodes\n",
    "\n",
    "\n",
    "def bfs(edges: List[list]):\n",
    "    \"\"\"幅優先探索（breadth first search）\"\"\"\n",
    "    adjacent_nodes = get_adjacent_nodes(edges)\n",
    "    n_edge: int = len(set(sum(edges,[])))\n",
    "    # その頂点を検知済みかどうかを表す配列\n",
    "    searched: List[bool] = [False] * n_edge\n",
    "    # 検知したがまだ訪問済みでない頂点の集合 (保留中の頂点の集合)\n",
    "    todo = Queue()\n",
    "    # root nodeをtodoに入れる\n",
    "    searched[0] = True\n",
    "    todo.put(0)\n",
    "    while not todo.empty():\n",
    "        target_node: int = todo.get()\n",
    "        print(f\"searching a node '{target_node}'\")\n",
    "        for adj_node in adjacent_nodes[target_node]:\n",
    "            if not searched[adj_node]:\n",
    "                print(f\"{adj_node} is found and enqueued to todo\")\n",
    "                todo.put(adj_node)\n",
    "                searched[adj_node] = True\n",
    "\n",
    "\n",
    "# 隣接リスト表現 (adjacency-list representation)したグラフ\n",
    "edges: List[list] = [\n",
    "    [0, 1],  # 0 - 1 の辺\n",
    "    [0, 2],\n",
    "    [1, 3]\n",
    "]\n",
    "bfs(edges)"
   ]
  },
  {
   "cell_type": "markdown",
   "id": "eeff99c0-a0ea-4130-847f-bc02997145c5",
   "metadata": {},
   "source": [
    "\n",
    "### 深さ優先探索（depth-first search）\n",
    "\n",
    "- 根ノードから子ノードへとどんどん深く探索していき、行き着いたらバックトラック（一歩逆戻り）して別のノードを探索する\n",
    "- [深さ優先探索 - Wikipedia](https://ja.wikipedia.org/wiki/%E6%B7%B1%E3%81%95%E5%84%AA%E5%85%88%E6%8E%A2%E7%B4%A2)\n"
   ]
  },
  {
   "cell_type": "code",
   "execution_count": 3,
   "id": "a68c1935-54f5-45b4-9ea4-7bfa6b8a02af",
   "metadata": {},
   "outputs": [
    {
     "name": "stdout",
     "output_type": "stream",
     "text": [
      "searching a node '0'\n",
      "1 is found and enqueued to todo\n",
      "2 is found and enqueued to todo\n",
      "searching a node '2'\n",
      "searching a node '1'\n",
      "3 is found and enqueued to todo\n",
      "searching a node '3'\n"
     ]
    }
   ],
   "source": [
    "from typing import List\n",
    "\n",
    "\n",
    "def get_adjacent_nodes(edges: List[list]) -> List[list]:\n",
    "    \"\"\"各nodeと隣接したnodeのリストを作る\"\"\"\n",
    "    nodes = set(sum(edges, []))\n",
    "    adjacent_nodes = []\n",
    "    for node in nodes:\n",
    "        adjacent_node = []\n",
    "        for edge in edges:\n",
    "            if node in edge:\n",
    "                e = [e for e in edge if e != node][0]\n",
    "                adjacent_node.append(e)\n",
    "        adjacent_nodes.append(adjacent_node)\n",
    "    return adjacent_nodes\n",
    "\n",
    "\n",
    "def dfs(edges: List[list]):\n",
    "    \"\"\"深さ優先探索（depth-first search）\"\"\"\n",
    "    adjacent_nodes = get_adjacent_nodes(edges)\n",
    "    n_edge: int = len(set(sum(edges,[])))\n",
    "    # その頂点を検知済みかどうかを表す配列\n",
    "    searched: List[bool] = [False] * n_edge\n",
    "    # 検知したがまだ訪問済みでない頂点の集合 (保留中の頂点の集合)\n",
    "    todo: List[int] = []\n",
    "    # root nodeをtodoに入れる\n",
    "    searched[0] = True\n",
    "    todo.append(0)\n",
    "    while len(todo) > 0:\n",
    "        target_node: int = todo.pop()\n",
    "        print(f\"searching a node '{target_node}'\")\n",
    "        for adj_node in adjacent_nodes[target_node]:\n",
    "            if not searched[adj_node]:\n",
    "                print(f\"{adj_node} is found and enqueued to todo\")\n",
    "                todo.append(adj_node)\n",
    "                searched[adj_node] = True\n",
    "\n",
    "\n",
    "# 隣接リスト表現 (adjacency-list representation)したグラフ\n",
    "edges: List[list] = [\n",
    "    [0, 1],  # 0 - 1 の辺\n",
    "    [0, 2],\n",
    "    [1, 3]\n",
    "]\n",
    "dfs(edges)"
   ]
  },
  {
   "cell_type": "markdown",
   "id": "4bb6b9b4-0942-4811-a3a8-bf74cc0b3d2d",
   "metadata": {},
   "source": [
    "## 計算量\n",
    "\n",
    "- [Pythonistaなら知らないと恥ずかしい計算量のはなし - Qiita](https://qiita.com/Hironsan/items/68161ee16b1c9d7b25fb)\n",
    "- [TimeComplexity - Python Wiki](https://wiki.python.org/moin/TimeComplexity)\n"
   ]
  },
  {
   "cell_type": "markdown",
   "id": "8912992b-8b5d-4293-ad44-36461cfc0893",
   "metadata": {},
   "source": [
    "## 参考文献\n",
    "\n",
    "- [50分で学ぶアルゴリズム / Algorithms in 50 minutes - Speaker Deck](https://speakerdeck.com/e869120/algorithms-in-50-minutes)\n",
    "- [Python言語による実務で使える100+の最適化問題 | opt100](https://scmopt.github.io/opt100/)\n"
   ]
  },
  {
   "cell_type": "code",
   "execution_count": null,
   "id": "553e0ded-d1be-4dec-9609-11796dce85ff",
   "metadata": {},
   "outputs": [],
   "source": []
  }
 ],
 "metadata": {
  "kernelspec": {
   "display_name": "Python 3 (ipykernel)",
   "language": "python",
   "name": "python3"
  },
  "language_info": {
   "codemirror_mode": {
    "name": "ipython",
    "version": 3
   },
   "file_extension": ".py",
   "mimetype": "text/x-python",
   "name": "python",
   "nbconvert_exporter": "python",
   "pygments_lexer": "ipython3",
   "version": "3.9.18"
  }
 },
 "nbformat": 4,
 "nbformat_minor": 5
}
