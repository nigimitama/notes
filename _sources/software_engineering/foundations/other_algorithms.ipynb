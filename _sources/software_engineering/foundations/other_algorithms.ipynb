{
 "cells": [
  {
   "cell_type": "markdown",
   "id": "72ec1635-c1fd-46c3-a391-6d3670c36753",
   "metadata": {},
   "source": [
    "# その他のアルゴリズム\n"
   ]
  },
  {
   "cell_type": "markdown",
   "id": "73fd6a47-8718-4303-959e-23f8b99ebcfc",
   "metadata": {},
   "source": [
    "## 貪欲法\n",
    "\n",
    "- 部分問題を都度局所最適解で解き、全体の解としては近似解を得る方法"
   ]
  },
  {
   "cell_type": "markdown",
   "id": "888ded70-c166-4cca-84b4-d42646c1c983",
   "metadata": {},
   "source": [
    "## 分割統治法\n",
    "\n",
    "- 問題を部分問題に分割してそれぞれを解くことで全体の問題を解く設計技法"
   ]
  },
  {
   "cell_type": "markdown",
   "id": "9ecbba16-5b76-4cc5-9877-802a34cad269",
   "metadata": {},
   "source": [
    "## 動的計画法\n",
    "\n",
    "- 問題を部分問題に分割し、部分問題の計算結果を記録しながら解いていく手法の総称\n",
    "- [競技プログラミングにおける動的計画法問題まとめ - はまやんはまやんはまやん](https://blog.hamayanhamayan.com/entry/2017/02/27/021246)\n",
    "\n"
   ]
  },
  {
   "cell_type": "code",
   "execution_count": null,
   "id": "955a1c1b-9e7c-4302-8d3e-b1f5a3d0cf36",
   "metadata": {},
   "outputs": [],
   "source": []
  }
 ],
 "metadata": {
  "kernelspec": {
   "display_name": "Python 3 (ipykernel)",
   "language": "python",
   "name": "python3"
  },
  "language_info": {
   "codemirror_mode": {
    "name": "ipython",
    "version": 3
   },
   "file_extension": ".py",
   "mimetype": "text/x-python",
   "name": "python",
   "nbconvert_exporter": "python",
   "pygments_lexer": "ipython3",
   "version": "3.9.18"
  }
 },
 "nbformat": 4,
 "nbformat_minor": 5
}
