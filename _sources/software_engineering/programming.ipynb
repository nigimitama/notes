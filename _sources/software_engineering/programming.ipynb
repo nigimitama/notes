{
 "cells": [
  {
   "cell_type": "markdown",
   "id": "189fefb9-92a2-4ff7-ba96-9da7fca228df",
   "metadata": {},
   "source": [
    "# プログラミング"
   ]
  },
  {
   "cell_type": "markdown",
   "id": "64965576-0860-4074-819d-cd237e5c30dc",
   "metadata": {},
   "source": [
    "## 原則\n",
    "\n",
    "### KISS（Keep It Simple, Stupid）\n",
    "\n",
    "- **KISS**（Keep It Simple, Stupid あるいは Keep It Short and Simple）原則とは、コードを書くときに「簡潔性」を重視する考え方。\n",
    "- 複雑なコードは読みにくく、不具合の元なので、できるかぎりシンプルに保とうという原則\n",
    "- コードに限らずプロダクト自体についても、無駄に使われない機能をモリモリにして複雑化するのはよろしくない\n",
    "- 類義語：less is more, オッカムの剃刀"
   ]
  },
  {
   "cell_type": "markdown",
   "id": "6fe65b48-76aa-4542-8e8d-1787266a3e19",
   "metadata": {},
   "source": [
    "### DRY（Don't Repeat Yourself）\n",
    "\n",
    "- 重複したコードは書かない、という原則\n",
    "- 後から書き換えるときに全部手動で書き換えないといけないのは不具合の元なので。\n",
    "- 変数をハードコードしない\n"
   ]
  },
  {
   "cell_type": "markdown",
   "id": "e774d38f-5c6c-4d0f-8857-0aaf866cb93f",
   "metadata": {},
   "source": [
    "### YAGNI（You Aren't Going to Need It）\n",
    "\n",
    "- 「それはきっと必要にならない」という意味。\n",
    "- 「多分必要になるだろう」で追加したコードは十中八九必要にならず使われないので、必要になったときに書く。"
   ]
  },
  {
   "cell_type": "markdown",
   "id": "4046f65a-3f5e-42de-8c90-024584248de6",
   "metadata": {},
   "source": [
    "### 参考文献\n",
    "\n",
    "- 上田勲（2016）『プリンシプル・オブ・プログラミング』"
   ]
  }
 ],
 "metadata": {
  "kernelspec": {
   "display_name": "Python 3 (ipykernel)",
   "language": "python",
   "name": "python3"
  },
  "language_info": {
   "codemirror_mode": {
    "name": "ipython",
    "version": 3
   },
   "file_extension": ".py",
   "mimetype": "text/x-python",
   "name": "python",
   "nbconvert_exporter": "python",
   "pygments_lexer": "ipython3",
   "version": "3.10.15"
  }
 },
 "nbformat": 4,
 "nbformat_minor": 5
}
