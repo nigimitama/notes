{
 "cells": [
  {
   "cell_type": "markdown",
   "id": "aacaffc4-8cfc-483f-bb70-2f59add8102a",
   "metadata": {},
   "source": [
    "# システム開発手法\n",
    "\n",
    "ウォーターフォールやアジャイルなど、プロジェクトの取り組み方や思想を概要だけざっくりまとめ"
   ]
  },
  {
   "cell_type": "markdown",
   "id": "7b8cae7d-5172-4168-974b-1c91aaac7a1c",
   "metadata": {},
   "source": [
    "## ウォーターフォール・モデル\n",
    "\n",
    "開発プロジェクトを時系列に、主として以下のような工程で行われる。\n",
    "\n",
    "1. 要求定義（要求仕様）\n",
    "2. 外部設計（概要設計）\n",
    "3. 内部設計（詳細設計）\n",
    "4. 開発（プログラミング）\n",
    "5. テスト（ソフトウェア）\n",
    "6. 運用（システム）"
   ]
  },
  {
   "cell_type": "markdown",
   "id": "c7fa6fd2-9cea-4b8d-966b-8e5affa1ea92",
   "metadata": {},
   "source": [
    "## アジャイル・ソフトウェア開発\n",
    "\n",
    "[アジャイルソフトウェア開発宣言](https://agilemanifesto.org/iso/ja/manifesto.html)は以下の4つの価値観を示し、これらの価値観を有するソフトウェア開発を「アジャイルソフトウェア開発」と名付けた。\n",
    "\n",
    "- Individuals and interactions over processes and tools（プロセスやツールよりも個人と対話を）\n",
    "- Working software over comprehensive documentation（包括的なドキュメントよりも動くソフトウェアを）\n",
    "- Customer collaboration over contract negotiation（契約交渉よりも顧客との協調を）\n",
    "- Responding to change over following a plan（計画に従うことよりも変化への対応を）\n",
    "\n",
    "\n",
    "参考：\n",
    "- [アジャイルマニフェストはいまだに重要性を持つか | Atlassian](https://www.atlassian.com/ja/agile/manifesto)\n"
   ]
  },
  {
   "cell_type": "markdown",
   "id": "21842349-d880-459b-b65b-e26c4563879d",
   "metadata": {},
   "source": [
    "## ソフトウェア・プロトタイピング\n",
    "\n",
    "ソフトウェアプロトタイピング（Software Prototyping）は、本格的な開発をする前にプロトタイプを開発する方法\n",
    "\n",
    "\n",
    "### 使い捨て型プロトタイピング（ラピッド・プロトタイピング）\n",
    "\n",
    "使い捨てのモデルを作って検証する\n",
    "\n",
    "### 進化的プロトタイピング（ブレッドボード・プロトタイピング）\n",
    "\n",
    "非常に堅牢なプロトタイプを作り、それを継続的に改良していく\n"
   ]
  },
  {
   "cell_type": "markdown",
   "id": "464d2e18-8306-4db7-b38f-46ead8e86d0a",
   "metadata": {},
   "source": [
    "## スクラム\n",
    "\n",
    "複雑で先の読めない取り組みのために、イテレーティブ（反復的）でインクリメンタル（漸進的）なアプローチをとるフレームワーク\n",
    "\n",
    "> スクラムとは、複雑な問題に対応する適応型のソリューションを通じて、⼈々、チーム、組織が価値を⽣み出すための軽量級フレームワークである。\n",
    ">\n",
    "> 簡単に⾔えば、スクラムとは次の環境を促進するためにスクラムマスターを必要とするものである。\n",
    "> \n",
    "> 1. プロダクトオーナーは、複雑な問題に対応するための作業をプロダクトバックログに並べる。\n",
    "> 2. スクラムチームは、スプリントで選択した作業を価値のインクリメントに変える。\n",
    "> 3. スクラムチームとステークホルダーは、結果を検査して、次のスプリントに向けて調整する。\n",
    "> 4. 繰り返す。\n",
    "> \n",
    "> [スクラム公式ガイド: ゲームのルール](https://scrummaster.jp/scrum-guide)"
   ]
  },
  {
   "cell_type": "markdown",
   "id": "230f9dca-b2af-43e4-a056-e5789c24fdc5",
   "metadata": {},
   "source": [
    "\n",
    "\n",
    "### アジャイルとスクラム\n",
    "\n",
    "> スクラムは任務を達成するフレームワークを指し、アジャイルは考え方を指すことばです。\n",
    ">\n",
    "> [スクラムとは？[+ 開始方法] | Atlassian](https://www.atlassian.com/ja/agile/scrum)\n"
   ]
  }
 ],
 "metadata": {
  "kernelspec": {
   "display_name": "Python 3 (ipykernel)",
   "language": "python",
   "name": "python3"
  },
  "language_info": {
   "codemirror_mode": {
    "name": "ipython",
    "version": 3
   },
   "file_extension": ".py",
   "mimetype": "text/x-python",
   "name": "python",
   "nbconvert_exporter": "python",
   "pygments_lexer": "ipython3",
   "version": "3.10.18"
  }
 },
 "nbformat": 4,
 "nbformat_minor": 5
}
