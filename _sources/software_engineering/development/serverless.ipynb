{
 "cells": [
  {
   "cell_type": "markdown",
   "id": "add2b1b8-efa2-42dd-9cca-1d456ff04660",
   "metadata": {},
   "source": [
    "# Serverless"
   ]
  },
  {
   "cell_type": "markdown",
   "id": "56456f9c-88c0-4abb-91dc-4ee87adc9dd7",
   "metadata": {},
   "source": [
    "### 非同期Lambda\n",
    "\n",
    "[Amazon API GatewayのREST APIからLambdaを非同期に呼んでみた | DevelopersIO](https://dev.classmethod.jp/articles/invoke-async-lambda-from-api-gateway-rest-api/)"
   ]
  },
  {
   "cell_type": "markdown",
   "id": "64b45d97-fdf8-4a15-bc62-9ce10af065b5",
   "metadata": {},
   "source": [
    "### stlite: サーバレスのStreamlit\n",
    "\n",
    "[Webブラウザ上で動くサーバーレスなStreamlitのstliteを試してみた](https://zenn.dev/fitness_densuke/articles/serverless_streamlit_stlite)"
   ]
  },
  {
   "cell_type": "code",
   "execution_count": null,
   "id": "b44fe382-cbe9-4b4a-8f1f-aa6c471ebea2",
   "metadata": {},
   "outputs": [],
   "source": []
  }
 ],
 "metadata": {
  "kernelspec": {
   "display_name": "Python 3 (ipykernel)",
   "language": "python",
   "name": "python3"
  },
  "language_info": {
   "codemirror_mode": {
    "name": "ipython",
    "version": 3
   },
   "file_extension": ".py",
   "mimetype": "text/x-python",
   "name": "python",
   "nbconvert_exporter": "python",
   "pygments_lexer": "ipython3",
   "version": "3.9.18"
  }
 },
 "nbformat": 4,
 "nbformat_minor": 5
}
