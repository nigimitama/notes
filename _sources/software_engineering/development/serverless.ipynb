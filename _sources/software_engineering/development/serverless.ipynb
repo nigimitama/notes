{
 "cells": [
  {
   "cell_type": "markdown",
   "id": "add2b1b8-efa2-42dd-9cca-1d456ff04660",
   "metadata": {},
   "source": [
    "# Serverless / FaaS"
   ]
  },
  {
   "cell_type": "markdown",
   "id": "b7280acd-1ca4-448c-8041-85a1cd10948d",
   "metadata": {},
   "source": [
    "## AWS Lambda"
   ]
  },
  {
   "cell_type": "markdown",
   "id": "86f72a2d-b093-421c-bbff-e042b516bfe9",
   "metadata": {},
   "source": [
    "### Serverless Framework\n",
    "\n",
    "[serverless.ymlでLambdaによるバッチやAPIを作るときによく使う設定メモ - 盆暗の学習記録](https://nigimitama.hatenablog.jp/entry/2024/05/20/000000)"
   ]
  },
  {
   "cell_type": "markdown",
   "id": "56456f9c-88c0-4abb-91dc-4ee87adc9dd7",
   "metadata": {},
   "source": [
    "### 非同期Lambda\n",
    "\n",
    "[Amazon API GatewayのREST APIからLambdaを非同期に呼んでみた | DevelopersIO](https://dev.classmethod.jp/articles/invoke-async-lambda-from-api-gateway-rest-api/)"
   ]
  },
  {
   "cell_type": "markdown",
   "id": "78b3e095-aaa9-4770-81eb-835db74afaea",
   "metadata": {},
   "source": [
    "### Lambda TIPS\n",
    "\n",
    "- X-ray (tracing) （有料） をアクティブにするとコールドスタート（initDuration）もモニタリングできる\n",
    "    - SAMならTracing: Activeを1行追加するだけで設定できる\n",
    "- コンテナイメージでデプロイすると、初回起動時はinitが遅い。2回目以降は速い（zipデプロイより速い）"
   ]
  },
  {
   "cell_type": "markdown",
   "id": "4d2d18fa-d7e1-439e-b7e2-70278fe98d0c",
   "metadata": {},
   "source": [
    "## Google Cloud\n",
    "\n",
    "### Cloud Functions\n",
    "\n",
    "Cloud Functions：コンテナではなくコードのみデプロイ？\n",
    "\n",
    "### Cloud Run\n",
    "\n",
    "Cloud Run：コンテナでデプロイできる。Railsも動く（[Google Cloud で Rails を実行する  |  Ruby](https://cloud.google.com/ruby/rails?hl=ja)）\n"
   ]
  },
  {
   "cell_type": "markdown",
   "id": "64b45d97-fdf8-4a15-bc62-9ce10af065b5",
   "metadata": {},
   "source": [
    "## stlite: サーバレスのStreamlit\n",
    "\n",
    "[Webブラウザ上で動くサーバーレスなStreamlitのstliteを試してみた](https://zenn.dev/fitness_densuke/articles/serverless_streamlit_stlite)"
   ]
  }
 ],
 "metadata": {
  "kernelspec": {
   "display_name": "Python 3 (ipykernel)",
   "language": "python",
   "name": "python3"
  },
  "language_info": {
   "codemirror_mode": {
    "name": "ipython",
    "version": 3
   },
   "file_extension": ".py",
   "mimetype": "text/x-python",
   "name": "python",
   "nbconvert_exporter": "python",
   "pygments_lexer": "ipython3",
   "version": "3.10.14"
  }
 },
 "nbformat": 4,
 "nbformat_minor": 5
}
