{
 "cells": [
  {
   "cell_type": "markdown",
   "id": "f7050fd3-6663-407a-b105-3e417160d67b",
   "metadata": {},
   "source": [
    "# バックエンド開発\n"
   ]
  },
  {
   "cell_type": "markdown",
   "id": "a683b16a-27dc-4714-93d1-ff2e905ecb2d",
   "metadata": {},
   "source": [
    "## MVC"
   ]
  },
  {
   "cell_type": "markdown",
   "id": "f7d86906-bc87-4379-9122-12dab9d0d1ef",
   "metadata": {},
   "source": [
    "## データベース\n",
    "\n",
    "\n",
    "- [増永教授のDB特論⑪「結果整合性」](https://www.sraoss.co.jp/tech-blog/db-special-lecture/masunaga-db-special-lecture-11/)"
   ]
  },
  {
   "cell_type": "code",
   "execution_count": null,
   "id": "831b839c-4873-4c18-aea4-e10f0f5a59e5",
   "metadata": {},
   "outputs": [],
   "source": []
  }
 ],
 "metadata": {
  "kernelspec": {
   "display_name": "Python 3 (ipykernel)",
   "language": "python",
   "name": "python3"
  },
  "language_info": {
   "codemirror_mode": {
    "name": "ipython",
    "version": 3
   },
   "file_extension": ".py",
   "mimetype": "text/x-python",
   "name": "python",
   "nbconvert_exporter": "python",
   "pygments_lexer": "ipython3",
   "version": "3.9.18"
  }
 },
 "nbformat": 4,
 "nbformat_minor": 5
}
