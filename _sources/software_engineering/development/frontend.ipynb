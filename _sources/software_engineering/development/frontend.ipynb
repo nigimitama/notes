{
 "cells": [
  {
   "cell_type": "markdown",
   "id": "c03ed691-dc76-4ddc-97d1-9bd604066056",
   "metadata": {},
   "source": [
    "# フロントエンド開発"
   ]
  },
  {
   "cell_type": "markdown",
   "id": "27507f90-bda3-4c72-8f63-539b5f614944",
   "metadata": {},
   "source": [
    "## UIライブラリ\n",
    "\n",
    "- [MUI (Material UI) の TextField のスタイルを整える ―― 例のﾁｮｺﾁｮｺ動くラベルを止める #React - Qiita](https://qiita.com/honey32/items/b3585b75307b865267aa)"
   ]
  },
  {
   "cell_type": "markdown",
   "id": "a084122c-efdd-45fa-ae5b-907f701238f3",
   "metadata": {},
   "source": [
    "## SPA\n",
    "\n",
    "- [SPAの歴史とRemix SPAモードという到達点 / the SPA's chronicle reaches to remix - Speaker Deck](https://speakerdeck.com/nkzn/the-spas-chronicle-reaches-to-remix)\n",
    "    - いろいろなフレームワークがざっくりまとめられている"
   ]
  },
  {
   "cell_type": "markdown",
   "id": "cccd1d2c-d587-4839-a787-90e37d01775d",
   "metadata": {},
   "source": [
    "## メタフレームワーク\n",
    "\n",
    "### Next.js\n",
    "\n",
    "2024年現在圧倒的シェアを持つフレームワーク（[State of JavaScript 2024: Meta-Frameworks](https://2024.stateofjs.com/en-US/libraries/meta-frameworks/)）。\n",
    "\n",
    "\n",
    "\n",
    "[Next.jsの考え方](https://zenn.dev/akfm/books/nextjs-basic-principle)\n"
   ]
  },
  {
   "cell_type": "markdown",
   "id": "96fee80b-52cc-4c3f-85d8-5130f181fc62",
   "metadata": {},
   "source": [
    "### Remix (React Router)\n",
    "\n",
    "RemixはWebフレームワークで、PESPA（Progressively Enhanced SPA) と呼ばれるタイプのバックエンドとフロントエンドの両方を扱うアーキテクチャになっている。\n",
    "\n",
    "> [Remix - Build Better Websites](https://remix.run/)\n",
    "\n",
    "Remixは2024年にReact Routerへ統合された\n",
    "\n",
    "> React Router v7 brings everything you love about Remix back into React Router proper. We encourage all Remix v2 users to upgrade to React Router v7.\n",
    "> https://remix.run/blog/react-router-v7\n",
    "\n"
   ]
  },
  {
   "cell_type": "markdown",
   "id": "baa27ef4-890a-4131-9ecc-6708457beba3",
   "metadata": {},
   "source": [
    ":::{card} Tutorial / 解説\n",
    "\n",
    "- [Remix入門【はじめからそうやって教えてくれればいいのに！】](https://zenn.dev/ak/articles/cef68c1b67a314)\n",
    "- [やさしくはじめるRemixとWeb - Speaker Deck](https://speakerdeck.com/takagimeow/yasasikuhazimeruremixtoweb)\n",
    "- 公式の短いTutorial: [Quick Start (5m) | Remix](https://remix.run/docs/en/main/start/quickstart)\n",
    "- 公式のTutorial: [Tutorial (30m) | Remix](https://remix.run/docs/en/main/start/tutorial)\n",
    ":::"
   ]
  },
  {
   "cell_type": "markdown",
   "id": "7b93db35-a8fd-4f86-8e25-b396a2459aaf",
   "metadata": {},
   "source": [
    "::::{dropdown} Remixの考え方\n",
    "\n",
    ":::{card} loader\n",
    "\n",
    "レンダリング時にデータを取得する（GETする）ための関数。\n",
    "\n",
    "**サーバ側で実行される** ので、SPAでありがちな「クライアント側からデータ取得のためAPIを叩くときにAPI-keyをどう秘匿するか」みたいな問題が解決される。\n",
    "\n",
    "ページごとに定義して使う。例えば、一覧ページ（例えば`posts.tsx`）では配列`Post[]`を返す`loader()`を定義し、詳細ページ（`posts.$postId.tsx`)では1つの要素（`Post`）を返す`loader()`を定義し、自分のcomponentの中で使う\n",
    "\n",
    "```tsx\n",
    "// loaderの例\n",
    "import { json } from \"@remix-run/node\";\n",
    "\n",
    "export const loader = async () => {\n",
    "  const response = await fetch(\"https://jsonplaceholder.typicode.com/posts?_limit=5\");\n",
    "  const posts = await response.json();\n",
    "  return json({ posts });\n",
    "};\n",
    "\n",
    "export default function App() {\n",
    "  const { posts } = useLoaderData<typeof loader>()\n",
    "```\n",
    "\n",
    ":::\n",
    "\n",
    "\n",
    ":::{card} action\n",
    "\n",
    "データを更新する（POST, DELETE, PUT, PATCH）ときに使う関数\n",
    ":::\n",
    "\n",
    "\n",
    ":::{card} Outlet\n",
    "\n",
    "親ルート内において、子ルートがレンダリングされる場所を示すために使われるコンポーネント\n",
    "\n",
    "```tsx\n",
    "import { Outlet } from \"@remix-run/react\"\n",
    "\n",
    "export default function App() {\n",
    "  return <Outlet />\n",
    "}\n",
    "```\n",
    ":::\n",
    "\n",
    "::::"
   ]
  },
  {
   "cell_type": "markdown",
   "id": "4c9d8406-0f4d-428a-9300-a9a119060aa2",
   "metadata": {},
   "source": [
    "Remixの評判\n",
    "\n",
    "- https://x.com/kenn/status/1816500405150609717\n",
    "  - Railsから移行しての感想"
   ]
  },
  {
   "cell_type": "markdown",
   "id": "66618af5-add4-4aa4-87c3-f2e9ca080e01",
   "metadata": {},
   "source": [
    "## CSS\n",
    "\n",
    "### レスポンシブデザイン\n",
    "\n",
    "[レスポンシブデザイン - ウェブ開発を学ぶ | MDN](https://developer.mozilla.org/ja/docs/Learn/CSS/CSS_layout/Responsive_Design) が例もあり一番参考になりそう\n",
    "\n",
    "\n"
   ]
  }
 ],
 "metadata": {
  "kernelspec": {
   "display_name": "Python 3 (ipykernel)",
   "language": "python",
   "name": "python3"
  },
  "language_info": {
   "codemirror_mode": {
    "name": "ipython",
    "version": 3
   },
   "file_extension": ".py",
   "mimetype": "text/x-python",
   "name": "python",
   "nbconvert_exporter": "python",
   "pygments_lexer": "ipython3",
   "version": "3.10.15"
  }
 },
 "nbformat": 4,
 "nbformat_minor": 5
}
