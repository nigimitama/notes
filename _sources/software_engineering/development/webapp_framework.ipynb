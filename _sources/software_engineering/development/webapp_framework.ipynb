{
 "cells": [
  {
   "cell_type": "markdown",
   "id": "cdc704c8-7cef-4030-9124-84767e047b95",
   "metadata": {},
   "source": [
    "# Web Application Frameworks"
   ]
  },
  {
   "cell_type": "markdown",
   "id": "f12f2c5b-6df1-4f46-a060-06cd02c0ed0b",
   "metadata": {},
   "source": [
    "Webアプリ開発に使われるフレームワークについて"
   ]
  },
  {
   "cell_type": "markdown",
   "id": "60838d2a-5f80-48b9-893e-2d48495d564a",
   "metadata": {},
   "source": [
    "## JS / TS メタフレームワーク\n"
   ]
  },
  {
   "cell_type": "markdown",
   "id": "83947245-fca2-423b-9660-009e46cfae35",
   "metadata": {},
   "source": [
    "### Next.js\n",
    "\n",
    "2024年現在圧倒的シェアを持つフレームワーク（[State of JavaScript 2024: Meta-Frameworks](https://2024.stateofjs.com/en-US/libraries/meta-frameworks/)）。\n",
    "\n",
    "- [Next.jsの考え方](https://zenn.dev/akfm/books/nextjs-basic-principle)\n",
    "- [知らないとあぶない？Next.jsセキュリティの話 - YouTube](https://www.youtube.com/watch?v=LolugLiLhHs&ab_channel=%E3%83%A0%E3%83%BC%E3%82%B6%E3%83%AB%E3%81%A1%E3%82%83%E3%82%93%E3%81%AD%E3%82%8B)\n"
   ]
  },
  {
   "cell_type": "markdown",
   "id": "00044f0a-43eb-4dde-bb50-a653f2a0f357",
   "metadata": {},
   "source": [
    "### Remix (React Router)\n",
    "\n",
    "RemixはWebフレームワークで、PESPA（Progressively Enhanced SPA) と呼ばれるタイプのバックエンドとフロントエンドの両方を扱うアーキテクチャになっている。\n",
    "\n",
    "> [Remix - Build Better Websites](https://remix.run/)\n",
    "\n",
    "Remixは2024年にReact Routerへ統合された\n",
    "\n",
    "> React Router v7 brings everything you love about Remix back into React Router proper. We encourage all Remix v2 users to upgrade to React Router v7.\n",
    "> https://remix.run/blog/react-router-v7\n",
    "\n"
   ]
  },
  {
   "cell_type": "markdown",
   "id": "08ffee5c-d500-4f45-b046-3ecfb85be8ce",
   "metadata": {},
   "source": [
    ":::{card} Tutorial / 解説\n",
    "\n",
    "- [Remix入門【はじめからそうやって教えてくれればいいのに！】](https://zenn.dev/ak/articles/cef68c1b67a314)\n",
    "- [やさしくはじめるRemixとWeb - Speaker Deck](https://speakerdeck.com/takagimeow/yasasikuhazimeruremixtoweb)\n",
    "- 公式の短いTutorial: [Quick Start (5m) | Remix](https://remix.run/docs/en/main/start/quickstart)\n",
    "- 公式のTutorial: [Tutorial (30m) | Remix](https://remix.run/docs/en/main/start/tutorial)\n",
    ":::"
   ]
  },
  {
   "cell_type": "markdown",
   "id": "43b11fa8-12b3-4276-9a53-072e897afad1",
   "metadata": {},
   "source": [
    "::::{dropdown} Remixの考え方\n",
    "\n",
    ":::{card} loader\n",
    "\n",
    "レンダリング時にデータを取得する（GETする）ための関数。\n",
    "\n",
    "**サーバ側で実行される** ので、SPAでありがちな「クライアント側からデータ取得のためAPIを叩くときにAPI-keyをどう秘匿するか」みたいな問題が解決される。\n",
    "\n",
    "ページごとに定義して使う。例えば、一覧ページ（例えば`posts.tsx`）では配列`Post[]`を返す`loader()`を定義し、詳細ページ（`posts.$postId.tsx`)では1つの要素（`Post`）を返す`loader()`を定義し、自分のcomponentの中で使う\n",
    "\n",
    "```tsx\n",
    "// loaderの例\n",
    "import { json } from \"@remix-run/node\";\n",
    "\n",
    "export const loader = async () => {\n",
    "  const response = await fetch(\"https://jsonplaceholder.typicode.com/posts?_limit=5\");\n",
    "  const posts = await response.json();\n",
    "  return json({ posts });\n",
    "};\n",
    "\n",
    "export default function App() {\n",
    "  const { posts } = useLoaderData<typeof loader>()\n",
    "```\n",
    "\n",
    ":::\n",
    "\n",
    "\n",
    ":::{card} action\n",
    "\n",
    "データを更新する（POST, DELETE, PUT, PATCH）ときに使う関数\n",
    ":::\n",
    "\n",
    "\n",
    ":::{card} Outlet\n",
    "\n",
    "親ルート内において、子ルートがレンダリングされる場所を示すために使われるコンポーネント\n",
    "\n",
    "```tsx\n",
    "import { Outlet } from \"@remix-run/react\"\n",
    "\n",
    "export default function App() {\n",
    "  return <Outlet />\n",
    "}\n",
    "```\n",
    ":::\n",
    "\n",
    "::::"
   ]
  },
  {
   "cell_type": "markdown",
   "id": "e0800cdc-cd91-41f0-bc19-615b7ac97d25",
   "metadata": {},
   "source": [
    "Remixの評判\n",
    "\n",
    "- https://x.com/kenn/status/1816500405150609717\n",
    "  - Railsから移行しての感想"
   ]
  }
 ],
 "metadata": {
  "kernelspec": {
   "display_name": "Python 3 (ipykernel)",
   "language": "python",
   "name": "python3"
  },
  "language_info": {
   "codemirror_mode": {
    "name": "ipython",
    "version": 3
   },
   "file_extension": ".py",
   "mimetype": "text/x-python",
   "name": "python",
   "nbconvert_exporter": "python",
   "pygments_lexer": "ipython3",
   "version": "3.10.15"
  }
 },
 "nbformat": 4,
 "nbformat_minor": 5
}
