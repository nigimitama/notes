{
 "cells": [
  {
   "cell_type": "markdown",
   "id": "5ce42725-af85-4578-9636-92296b42f4d8",
   "metadata": {},
   "source": [
    "# 極限"
   ]
  },
  {
   "cell_type": "markdown",
   "id": "21d3a70a-c60a-4f74-832f-3b094eadae21",
   "metadata": {},
   "source": [
    "## 数列の極限"
   ]
  },
  {
   "cell_type": "markdown",
   "id": "e65a9e3c-a15d-4724-afb0-2ffe93e9d295",
   "metadata": {
    "tags": []
   },
   "source": [
    "## 関数の極限\n",
    "\n",
    "関数$y=f(x)$において、変数$x$が一定な数$a$に限りなく近づいていくとき、それにつれて関数$f(x)$の値が一定な値$b$に限りなく近づくとする。\n",
    "\n",
    "このことを\n",
    "\n",
    "> $x$が$a$に限りなく近づくとき、関数$f(x)$には極限が存在して、その **極限値** は$b$である\n",
    "\n",
    "あるいは\n",
    "\n",
    "> 関数$f(x)$は$b$に **収束** する\n",
    "\n",
    "という。そして\n",
    "\n",
    "$$\n",
    "\\lim _{x \\rightarrow a} f(x)=b \\quad \\text { または } \\quad f(x) \\rightarrow b \\quad(x \\rightarrow a)\n",
    "$$\n",
    "\n",
    "と表す。"
   ]
  },
  {
   "cell_type": "markdown",
   "id": "5a2a15ca-0e94-4268-bf3e-251317b4e592",
   "metadata": {},
   "source": [
    ":::{card}\n",
    "例：関数$f(x)=x^2$において、変数$x$が2に限りなく近づくとき、$f(x)$の値は4に限りなく近づく\n",
    "\n",
    "変数$x$が数列\n",
    "\n",
    "$$\n",
    "2.1,2.01,2.001, \\cdots, 2+\\left(\\frac{1}{10}\\right)^n, \\cdots\n",
    "$$\n",
    "\n",
    "の値を取り2に近づいていくとき、関数$f(x)=x^2$の値は\n",
    "\n",
    "$$\n",
    "4.41,4.0401,4.004001, \\cdots, 4+4\\left(\\frac{1}{10}\\right)^n+\\left(\\frac{1}{10}\\right)^{2 n}, \\cdots\n",
    "$$\n",
    ":::"
   ]
  },
  {
   "cell_type": "markdown",
   "id": "b3c8b87b-9f4a-4091-b804-fe19eee4b699",
   "metadata": {},
   "source": [
    ":::{admonition} **関数の極限の性質**\n",
    "\n",
    "関数の極限について、次のことが成り立つ\n",
    "\n",
    "I. $f(x)=C(C$ : 定数 $)$ ならば,\n",
    "$$\n",
    "\\displaystyle \\lim _{x \\rightarrow a} f(x)=C\n",
    "$$\n",
    "\n",
    "II. $\\displaystyle \\lim _{x \\rightarrow a} f(x)=A, \\lim _{x \\rightarrow a} g(x)=B$ ならば,\n",
    "\n",
    "1. $\\displaystyle \\lim _{x \\rightarrow a} k f(x)=k A \\quad(k$ : 定数)\n",
    "2. $\\displaystyle \\lim _{x \\rightarrow a}\\{f(x) \\pm g(x)\\}=\\lim _{x \\rightarrow a} f(x) \\pm \\lim _{x \\rightarrow a} g(x)=A \\pm B$\n",
    "3. $\\displaystyle \\lim _{x \\rightarrow a}\\{f(x) \\cdot g(x)\\}=\\lim _{x \\rightarrow a} f(x) \\cdot \\lim _{x \\rightarrow a} g(x)=A \\cdot B$\n",
    "4. $\\displaystyle \\lim _{x \\rightarrow a} \\frac{f(x)}{g(x)}=\\frac{\\lim _{x \\rightarrow a} f(x)}{\\lim _{x \\rightarrow a} g(x)}=\\frac{A}{B} \\quad(B \\neq 0)$\n",
    ":::"
   ]
  },
  {
   "cell_type": "markdown",
   "id": "2cbb6203-d631-42a9-9430-a2c0ccb08f65",
   "metadata": {},
   "source": [
    "### 右極限、左極限\n",
    "\n",
    ":::{admonition} 右極限、左極限\n",
    "変数$x$が右から$a$に近づくとき$x\\to a+0$、左から$a$に近づくとき$x\\to a-0$と書き、それぞれの極限値を\n",
    "\n",
    "$$\n",
    "\\lim _{x \\rightarrow a+0} f(x), \\quad \\lim _{x \\rightarrow a-0} f(x)\n",
    "$$\n",
    "\n",
    "と表す。\n",
    "\n",
    "とくに$a=0$のときは$x\\to +0$、$x\\to -0$と書く。\n",
    ":::"
   ]
  },
  {
   "cell_type": "markdown",
   "id": "129d2712-3f0b-4ac4-b33b-d3f6ba16b63f",
   "metadata": {},
   "source": [
    "例：\n",
    "\n",
    "$$\n",
    "\\lim _{x \\rightarrow+0} \\frac{|x|}{x}=1, \\quad \\lim _{x \\rightarrow-0} \\frac{|x|}{x}=-1\n",
    "$$\n",
    "\n",
    "絶対値の定義\n",
    "\n",
    "$$\n",
    "|a| =\n",
    "\\begin{cases}\n",
    "a & (a > 0)\\\\\n",
    "-a & (a < 0)\n",
    "\\end{cases}\n",
    "$$\n",
    "\n",
    "より、$x > 0$ならば$\\frac{|x|}{x} = \\frac{x}{x} = 1$\n",
    "$x < 0$ならば$\\frac{|x|}{x} = \\frac{-x}{x} = -1$\n",
    "となるため。\n",
    "\n",
    "この例では、関数$f(x) = |x|/x$は$x=0$では定義されていないことがわかる。ここからわかるように、<b>$\\lim_{x\\to a} f(x) = b$は$x=a$のとき$f(a)=b$であることを主張しているわけではない。</b>"
   ]
  },
  {
   "cell_type": "markdown",
   "id": "f438a61f-f7c1-4bb1-ab96-ba6ca3a4bad6",
   "metadata": {},
   "source": [
    ":::{admonition} 正の無限大と負の無限大\n",
    "\n",
    "変数 $x$ の値が正で限りなく大きくなるとき **正の無限大** になるといい、 $x \\rightarrow+\\infty$ (または単に $x \\rightarrow \\infty$ ) と表わす。\n",
    "\n",
    "変数 $x$ が負でその絶対値が限りなく大きくなるとき **負の無限大** になるといい $x \\rightarrow-\\infty$ で表わす.\n",
    "\n",
    "変数$x$が一定な値$a$に限りなく近づくとき、関数$f(x)$の値が正で限りなく大きくなっていくならば$x$が$a$に近づいたときの関数$f(x)$の極限は **正の無限大** であるといい、\n",
    "\n",
    "$$\n",
    "\\lim_{x\\to a} f(x) = +  \\infty\n",
    "$$\n",
    "\n",
    "で表す。極限が **負の無限大** になるなら\n",
    "\n",
    "$$\n",
    "\\lim_{x\\to a} f(x) = -\\infty\n",
    "$$\n",
    "\n",
    "で表す。\n",
    ":::"
   ]
  },
  {
   "cell_type": "markdown",
   "id": "ee98ab98-e750-41eb-8958-18d2b1393a4b",
   "metadata": {},
   "source": [
    "例：\n",
    "\n",
    "$$\n",
    "\\lim _{x \\rightarrow +\\infty} \\frac{1}{x} = 0, \\quad\n",
    "\\lim _{x \\rightarrow -\\infty} \\frac{1}{x} = 0\n",
    "$$\n",
    "\n",
    "変数$x$が$-1, -2, \\cdots, -n, \\cdots$と絶対値が無限大に近づく場合、$f(x)=1/x$は$-1, -1/2, \\cdots, -1/n, \\cdots$と0に近づくため。"
   ]
  },
  {
   "cell_type": "markdown",
   "id": "e11215aa-6714-4d24-a1ba-69b631c455aa",
   "metadata": {},
   "source": [
    "例：\n",
    "\n",
    "$$\n",
    "\\lim _{x \\rightarrow \\infty}\\left(1+\\frac{1}{x}\\right)^x=e\n",
    "$$\n",
    "\n",
    "証明：\n",
    "\n",
    "任意に $x>0$ をとると， $n \\leqq x \\leqq n+1$ をみたす自然数があり、$1 /(n+1) \\leqq 1 / x \\leqq 1 / n$ だから\n",
    "\n",
    "$$\n",
    "\\begin{gathered}\n",
    "\\left(1+\\frac{1}{n+1}\\right)^n<\\left(1+\\frac{1}{x}\\right)^x<\\left(1+\\frac{1}{n}\\right)^{n+1} \\\\\n",
    "\\left(1+\\frac{1}{n+1}\\right)^{n+1}\\left(1+\\frac{1}{n+1}\\right)^{-1}<\\left(1+\\frac{1}{x}\\right)^x<\\left(1+\\frac{1}{n}\\right)^n\\left(1+\\frac{1}{n}\\right)\n",
    "\\end{gathered}\n",
    "$$\n"
   ]
  },
  {
   "cell_type": "code",
   "execution_count": null,
   "id": "0a4d7175-288d-45cf-bcee-8e403af9c137",
   "metadata": {},
   "outputs": [],
   "source": []
  }
 ],
 "metadata": {
  "kernelspec": {
   "display_name": "Python 3 (ipykernel)",
   "language": "python",
   "name": "python3"
  },
  "language_info": {
   "codemirror_mode": {
    "name": "ipython",
    "version": 3
   },
   "file_extension": ".py",
   "mimetype": "text/x-python",
   "name": "python",
   "nbconvert_exporter": "python",
   "pygments_lexer": "ipython3",
   "version": "3.9.18"
  }
 },
 "nbformat": 4,
 "nbformat_minor": 5
}
