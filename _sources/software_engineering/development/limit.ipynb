{
 "cells": [
  {
   "cell_type": "markdown",
   "id": "5ce42725-af85-4578-9636-92296b42f4d8",
   "metadata": {},
   "source": [
    "# 極限"
   ]
  },
  {
   "cell_type": "markdown",
   "id": "21d3a70a-c60a-4f74-832f-3b094eadae21",
   "metadata": {},
   "source": [
    "## 数列の極限"
   ]
  },
  {
   "cell_type": "markdown",
   "id": "e65a9e3c-a15d-4724-afb0-2ffe93e9d295",
   "metadata": {
    "tags": []
   },
   "source": [
    "## 関数の極限\n",
    "\n",
    "関数$y=f(x)$において、変数$x$が一定な数$a$に限りん買う近づいていくとき、それにつれて関数$f(x)$の値が一定な値$b$に限りなく近づくとする。\n",
    "\n",
    "このことを\n",
    "\n",
    "> $x$が$a$に限りなく近づくとき、関数$f(x)$には極限が存在して、その **極限値** は$b$である\n",
    "\n",
    "あるいは\n",
    "\n",
    "> 関数$f(x)$は$b$に **収束** する\n",
    "\n",
    "という。そして\n",
    "\n",
    "$$\n",
    "\\lim _{x \\rightarrow a} f(x)=b \\quad \\text { または } \\quad f(x) \\rightarrow b \\quad(x \\rightarrow a)\n",
    "$$\n",
    "\n",
    "と表す。"
   ]
  },
  {
   "cell_type": "markdown",
   "id": "5a2a15ca-0e94-4268-bf3e-251317b4e592",
   "metadata": {},
   "source": [
    ":::{card}\n",
    "例：関数$f(x)=x^2$において、変数$x$が2に限りなく近づくとき、$f(x)$の値は4に限りなく近づく\n",
    "\n",
    "変数$x$が数列\n",
    "\n",
    "$$\n",
    "2.1,2.01,2.001, \\cdots, 2+\\left(\\frac{1}{10}\\right)^n, \\cdots\n",
    "$$\n",
    "\n",
    "の値を取り2に近づいていくとき、関数$f(x)=x^2$の値は\n",
    "\n",
    "$$\n",
    "4.41,4.0401,4.004001, \\cdots, 4+4\\left(\\frac{1}{10}\\right)^n+\\left(\\frac{1}{10}\\right)^{2 n}, \\cdots\n",
    "$$\n",
    ":::"
   ]
  },
  {
   "cell_type": "markdown",
   "id": "b3c8b87b-9f4a-4091-b804-fe19eee4b699",
   "metadata": {},
   "source": [
    ":::{admonition} **関数の極限の性質**\n",
    "\n",
    "関数の極限について、次のことが成り立つ\n",
    "\n",
    "I. $f(x)=C(C$ : 定数 $)$ ならば,\n",
    "$$\n",
    "\\displaystyle \\lim _{x \\rightarrow a} f(x)=C\n",
    "$$\n",
    "\n",
    "II. $\\displaystyle \\lim _{x \\rightarrow a} f(x)=A, \\lim _{x \\rightarrow a} g(x)=B$ ならば,\n",
    "\n",
    "1. $\\displaystyle \\lim _{x \\rightarrow a} k f(x)=k A \\quad(k$ : 定数)\n",
    "2. $\\displaystyle \\lim _{x \\rightarrow a}\\{f(x) \\pm g(x)\\}=\\lim _{x \\rightarrow a} f(x) \\pm \\lim _{x \\rightarrow a} g(x)=A \\pm B$\n",
    "3. $\\displaystyle \\lim _{x \\rightarrow a}\\{f(x) \\cdot g(x)\\}=\\lim _{x \\rightarrow a} f(x) \\cdot \\lim _{x \\rightarrow a} g(x)=A \\cdot B$\n",
    "4. $\\displaystyle \\lim _{x \\rightarrow a} \\frac{f(x)}{g(x)}=\\frac{\\lim _{x \\rightarrow a} f(x)}{\\lim _{x \\rightarrow a} g(x)}=\\frac{A}{B} \\quad(B \\neq 0)$\n",
    ":::"
   ]
  },
  {
   "cell_type": "code",
   "execution_count": null,
   "id": "4eaa4115-e499-4e91-bee4-5403b212f9bb",
   "metadata": {},
   "outputs": [],
   "source": []
  }
 ],
 "metadata": {
  "kernelspec": {
   "display_name": "Python 3 (ipykernel)",
   "language": "python",
   "name": "python3"
  },
  "language_info": {
   "codemirror_mode": {
    "name": "ipython",
    "version": 3
   },
   "file_extension": ".py",
   "mimetype": "text/x-python",
   "name": "python",
   "nbconvert_exporter": "python",
   "pygments_lexer": "ipython3",
   "version": "3.9.18"
  }
 },
 "nbformat": 4,
 "nbformat_minor": 5
}
