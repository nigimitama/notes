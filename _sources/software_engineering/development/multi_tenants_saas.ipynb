{
 "cells": [
  {
   "cell_type": "markdown",
   "id": "cfe67fff-aef9-4ae5-9eb1-c07ffdb1f7ff",
   "metadata": {},
   "source": [
    "# マルチテナントSaaS"
   ]
  },
  {
   "cell_type": "markdown",
   "id": "d8a34a77-991a-4c14-9c22-162b321c6a67",
   "metadata": {},
   "source": [
    "マルチテナントとは、複数のユーザーが同一のリソースを共有するモデルや、それらを統一された体験を通じて管理する仕組み。\n",
    "\n",
    "異なるユーザーが別のユーザーのデータを間違っても見られないようにセキュリティに気をつける必要があったりする"
   ]
  },
  {
   "cell_type": "markdown",
   "id": "e8610a75-7dd3-4e62-9181-130816a10fce",
   "metadata": {},
   "source": [
    "## デプロイモデル\n",
    "\n",
    "### サイロモデル\n",
    "\n",
    "テナントに専用のリソース（独立したインフラストラクチャのスタック）が充てられる構成。\n",
    "\n",
    "例えばB2B SaaSならユーザーが企業でありそれなりに規模が大きいため相性がいい"
   ]
  },
  {
   "cell_type": "markdown",
   "id": "2f43e92b-4395-4302-939d-868baff335b8",
   "metadata": {},
   "source": [
    "### プールモデル\n",
    "\n",
    "テナントがリソースを共有している構成。\n",
    "\n",
    "小規模なテナントに対してインフラコストの効率がいい。\n",
    "\n",
    "データベース上で行ごとにアクセス権限を分ける **Row Level Security** が用いられる\n",
    "\n"
   ]
  },
  {
   "cell_type": "markdown",
   "id": "4db2f9c4-c7b4-46ea-916d-932557db0c1a",
   "metadata": {},
   "source": [
    "### ブリッジモデル\n",
    "\n",
    "サイロモデルとプールモデルの混合。アーキテクチャの一部をサイロにしてほかをプールにしたり。"
   ]
  },
  {
   "cell_type": "markdown",
   "id": "9745d7ad-9183-4861-921c-7bbeb9e62517",
   "metadata": {},
   "source": [
    "## 参考\n",
    "\n",
    "- [サイロモデル、プールモデル、ブリッジモデル - SaaS レンズ](https://docs.aws.amazon.com/ja_jp/wellarchitected/latest/saas-lens/silo-pool-and-bridge-models.html)\n",
    "- [O'Reilly Japan - マルチテナントSaaSアーキテクチャの構築](https://www.oreilly.co.jp/books/9784814401017/)"
   ]
  }
 ],
 "metadata": {
  "kernelspec": {
   "display_name": "Python 3 (ipykernel)",
   "language": "python",
   "name": "python3"
  },
  "language_info": {
   "codemirror_mode": {
    "name": "ipython",
    "version": 3
   },
   "file_extension": ".py",
   "mimetype": "text/x-python",
   "name": "python",
   "nbconvert_exporter": "python",
   "pygments_lexer": "ipython3",
   "version": "3.10.15"
  }
 },
 "nbformat": 4,
 "nbformat_minor": 5
}
