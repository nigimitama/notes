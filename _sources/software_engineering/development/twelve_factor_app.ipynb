{
 "cells": [
  {
   "cell_type": "markdown",
   "id": "4e9aaf00-91cf-4664-9d96-b30441f7c02f",
   "metadata": {},
   "source": [
    "# Twelve-Factor App"
   ]
  },
  {
   "cell_type": "markdown",
   "id": "1d7c8ed6-adf0-4663-a902-3a6be8e92f27",
   "metadata": {},
   "source": [
    "[The Twelve-Factor App](https://12factor.net/) は Webアプリ開発のベスト・プラクティスとされる方法論\n",
    "\n",
    "Adam Wiggins がHerokuの開発で得た知見を2012年ごろにまとめたもの。"
   ]
  },
  {
   "cell_type": "markdown",
   "id": "21bbb1c7-31a1-4314-b14b-af6fd265bad1",
   "metadata": {},
   "source": [
    ":::{admonition} The Twelve Factors\n",
    "\n",
    "1. **コードベース（codebase）**\n",
    "    - バージョン管理されている1つのコードベースと複数のデプロイ\n",
    "    - codebaseはroot commitを共有する単一か複数のリポジトリのこと → コードベースは1つ、デプロイ（prd, stg, dev, ...）は複数\n",
    "2. **依存関係（dependencies）**\n",
    "    - 依存関係を明示的に宣言し分離する\n",
    "    - 依存関係の宣言マニフェスト：RubyのGemfileやPythonのPipなど\n",
    "    - 依存関係の分離：Rubyの `bundle exec` や Pythonの`venv`\n",
    "3. **設定（config）**\n",
    "    - ここでの「設定」はデプロイ（開発、本番など）間で異なりうるもののことを指す。例えばDB・S3などの認証情報、ホスト名など。\n",
    "    - Twelve-Factor Appでは設定は環境変数に格納する。\n",
    "4. **バックエンドサービス（backing service）**\n",
    "    - バックエンドサービス（データストア、メッセージキューイングなど）をローカルで自らが管理するサービスと区別せず、アタッチされたリソースとして扱う\n",
    "5. **ビルド、リリース、実行（build, release, run）**\n",
    "    - ビルド、リリース、実行の3つのステージを厳密に分離する\n",
    "6. **プロセス（processes）**\n",
    "    - アプリケーションを1つもしくは複数のステートレスなプロセスとして実行する\n",
    "    - 永続化が必要なデータは、ステートフルなバックエンドサービス（典型的にはDB）に格納する\n",
    "7. **ポートバインディング（port binding）**\n",
    "    - ポートバインディングを通してサービスを公開する\n",
    "8. **並行性（concurrency）**\n",
    "    - プロセスモデルによってスケールアウトする\n",
    "9. **廃棄容易性（disposability）**\n",
    "    - 高速な起動とグレースフルシャットダウンで堅牢性を最大化する\n",
    "    - グレースフルシャットダウン：サービスポートのリッスンを中止し（従って新しいリクエストを拒み）、処理中のリクエストが終了するまで待ち、シャットダウンする。ダウンタイムが最小限になる\n",
    "10. **開発/本番一致（dev/prod parity）**\n",
    "    - 開発、ステージング、本番環境をできるだけ一致させた状態を保つ\n",
    "11. **ログ（logs）**\n",
    "    - ログをイベントストリームとして扱う\n",
    "12. **管理プロセス（admin processes）**\n",
    "    - 管理タスクを1回限りのプロセスとして実行する\n",
    "    - 管理タスク：Railsの`rails db:migrate`などのメンテナンス用のコマンドなど\n",
    "    - これはアプリを提供するときのプロセスと同じコードベース上で1回限り実行されるべきである\n",
    ":::"
   ]
  },
  {
   "cell_type": "markdown",
   "id": "e615f3a8-8c19-4323-948e-cee571aa5958",
   "metadata": {},
   "source": [
    "## Beyond the Twelve-Factor App\n",
    "\n",
    "[Beyond the Twelve-Factor App](https://www.oreilly.com/library/view/beyond-the-twelve-factor/9781492042631/) は 2016年ごろにPivotal社のアーキテクト Kevin Hoffman によって「クラウドネイティブアプリ」向けにアップデートされたもの。\n",
    "\n",
    "\"API first\"と\"Telemetry\"とセキュリティの話（Authentication and Authorization）が追加されているのが主な変更点（因子の順番も優先順位に応じて書かれている）\n"
   ]
  },
  {
   "cell_type": "markdown",
   "id": "0b0700b9-3fd7-4994-84d8-8d679c106300",
   "metadata": {},
   "source": [
    "[beyond_the_12-factor_app_pivotal.pdf](https://www.cdta.org/sites/default/files/awards/beyond_the_12-factor_app_pivotal.pdf?utm_source=chatgpt.com)"
   ]
  },
  {
   "cell_type": "markdown",
   "id": "d66404ff-0648-42d4-819d-71190ca024ee",
   "metadata": {},
   "source": [
    ":::{admonition} Beyond the Twelve-Factor App\n",
    "\n",
    "1. One codebase, one application\n",
    "2. API first\n",
    "    - APIで他のアプリと連携することが多い時代になってきたのでAPIファーストの実装にする\n",
    "    - 開発時は常にAPIとして利用されることを想定する（Webにしろモバイルにしろ）\n",
    "    - API開発時は業界標準的なAPIの書き方やドキュメント作成ツールやserver mockを活用する\n",
    "3. Dependency management\n",
    "4. Design, build, release, and run\n",
    "5. Configuration, credentials, and code\n",
    "6. Logs\n",
    "7. Disposability\n",
    "8. Backing services\n",
    "9. Environment parity\n",
    "10. Administrative processes\n",
    "11. Port binding\n",
    "12. Stateless processes\n",
    "13. Concurrency\n",
    "14. Telemetry\n",
    "    - 目的：効率的に監視したい。クラウドネイティブのアプリでは数百台のサーバーインスタンスを使ったりして大量のログが出てきたりするのでもうログを読んだりデバッガーを実行したりでは対応できない\n",
    "    - 方法：\n",
    "        1. Application performance monitoring (APM)\n",
    "            - 外部ツール・ダッシュボードがアプリのパフォーマンスを監視するために使われるイベントストリーム。\n",
    "            - 例：1秒あたりのHTTPリクエストの平均回数\n",
    "        2. Domain-specific telemetry\n",
    "            - データウェアハウスに入れて分析するイベントストリーム\n",
    "            - 例：直近20分の製品の販売個数\n",
    "        3. Health and system logs\n",
    "            - クラウドプロバイダーが提供する、定期的なヘルスチェックの結果やアプリケーションの起動、終了などのイベントストリーム\n",
    "    - ※Telemetry（テレメトリ, 遠隔測定法）は何かを測定した結果を通信して伝えること。例えばロケットが測定したデータを地球上の基地に伝えること。クラウドのサーバーは直接触れられないのでこの用語を使っている\n",
    "15. Authentication and authorization\n",
    "    - クラウドネイティブアプリではrole-based access control (RBAC) が使われる事が多い\n",
    "\n",
    ":::"
   ]
  },
  {
   "cell_type": "markdown",
   "id": "38cdb10b-2701-4916-adaf-17350190db10",
   "metadata": {},
   "source": [
    "## 参考\n",
    "\n",
    "- [The Twelve-Factor App （日本語訳）](https://12factor.net/ja/)\n",
    "- [Beyond the Twelve-Factor Appを意訳してみた（前半） #Design - Qiita](https://qiita.com/takurUN/items/b8bf6fa193ffac5ef431)\n",
    "- [AWSで実現するモダンアプリケーション入門](https://www.amazon.co.jp/dp/B0BRPRQFMH)\n",
    "    - The Twelve-Factor AppやBeyondにからめて具体的な実装を紹介している\n"
   ]
  }
 ],
 "metadata": {
  "kernelspec": {
   "display_name": "Python 3 (ipykernel)",
   "language": "python",
   "name": "python3"
  },
  "language_info": {
   "codemirror_mode": {
    "name": "ipython",
    "version": 3
   },
   "file_extension": ".py",
   "mimetype": "text/x-python",
   "name": "python",
   "nbconvert_exporter": "python",
   "pygments_lexer": "ipython3",
   "version": "3.10.17"
  }
 },
 "nbformat": 4,
 "nbformat_minor": 5
}
