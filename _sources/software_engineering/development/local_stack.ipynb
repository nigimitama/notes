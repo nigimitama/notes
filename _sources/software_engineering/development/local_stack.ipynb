{
 "cells": [
  {
   "cell_type": "markdown",
   "id": "37d243b1-7ceb-48a8-a15a-bd9697313211",
   "metadata": {},
   "source": [
    "# LocalStack"
   ]
  },
  {
   "cell_type": "markdown",
   "id": "4c7a8063-34db-452e-b867-4695f3c80f4a",
   "metadata": {},
   "source": [
    "LocalStack は AWS エミュレーターで、ローカル環境や CI 環境でAWSの機能を再現することができる"
   ]
  },
  {
   "cell_type": "markdown",
   "id": "fb0864be-2bb6-4fac-a1bc-d73b84f445f9",
   "metadata": {},
   "source": [
    ":::{card}\n",
    "\n",
    "公式サイト：[Run Locally, Deploy Globally](https://www.localstack.cloud/)\n",
    "\n",
    ":::"
   ]
  },
  {
   "cell_type": "markdown",
   "id": "eb484eaa-d317-4e02-8971-74133a2ede0c",
   "metadata": {},
   "source": [
    "## 参考\n",
    "\n",
    "- [LocalStack 実践入門 | AWS サーバレスパターン開発ワークショップ](https://zenn.dev/kakakakakku/books/aws-serverless-pattern-workshop-using-localstack)"
   ]
  }
 ],
 "metadata": {
  "kernelspec": {
   "display_name": "Python 3 (ipykernel)",
   "language": "python",
   "name": "python3"
  },
  "language_info": {
   "codemirror_mode": {
    "name": "ipython",
    "version": 3
   },
   "file_extension": ".py",
   "mimetype": "text/x-python",
   "name": "python",
   "nbconvert_exporter": "python",
   "pygments_lexer": "ipython3",
   "version": "3.10.15"
  }
 },
 "nbformat": 4,
 "nbformat_minor": 5
}
