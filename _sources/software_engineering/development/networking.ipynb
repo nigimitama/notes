{
 "cells": [
  {
   "cell_type": "markdown",
   "id": "9639ec45-f835-422c-ba8c-ed6e99091b23",
   "metadata": {},
   "source": [
    "# ネットワーク・通信"
   ]
  },
  {
   "cell_type": "markdown",
   "id": "9f42afef-128d-41c2-b867-df31500a3a82",
   "metadata": {},
   "source": [
    "## gRPC\n",
    "\n",
    "\n",
    "- [サービス間通信のための新技術「gRPC」入門 | さくらのナレッジ](https://knowledge.sakura.ad.jp/24059/)"
   ]
  },
  {
   "cell_type": "markdown",
   "id": "0db98931-a30b-4c6a-bc2a-c7b54ac76ea5",
   "metadata": {},
   "source": [
    "## TCP / IP\n",
    "\n",
    "TCP（Transmission Control Protocol）とIP（Internet Protocol）は普段インターネットでWebページを見る際などに使われている通信プロトコル"
   ]
  },
  {
   "cell_type": "code",
   "execution_count": null,
   "id": "18a5f4a3-2ea8-431e-beef-3e298dc517bd",
   "metadata": {},
   "outputs": [],
   "source": []
  }
 ],
 "metadata": {
  "kernelspec": {
   "display_name": "Python 3 (ipykernel)",
   "language": "python",
   "name": "python3"
  },
  "language_info": {
   "codemirror_mode": {
    "name": "ipython",
    "version": 3
   },
   "file_extension": ".py",
   "mimetype": "text/x-python",
   "name": "python",
   "nbconvert_exporter": "python",
   "pygments_lexer": "ipython3",
   "version": "3.9.18"
  }
 },
 "nbformat": 4,
 "nbformat_minor": 5
}
