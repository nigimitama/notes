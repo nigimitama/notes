{
 "cells": [
  {
   "cell_type": "markdown",
   "id": "d895d4d5-78f1-411c-91d0-284dde0f6be0",
   "metadata": {},
   "source": [
    "# 『実践ソフトウェアエンジニアリング』メモ\n",
    "\n"
   ]
  },
  {
   "cell_type": "markdown",
   "id": "a7761557-bcac-44c8-ab87-0ddcaf148975",
   "metadata": {},
   "source": [
    "## Ch11. コンポーネント設計\n",
    "\n",
    "コンポーネント：ソフトウェアを構成するモジュール性の高い部品\n",
    "\n",
    "\n",
    "### オブジェクト指向における基本的な設計の原則\n",
    "\n",
    "#### OCP: Open-Closed Principle\n",
    "\n",
    "モジュールは拡張に対して開いて（open）いなければならず、変更に対して閉じて（close）いなければならない\n",
    "\n",
    "例えば「決済手段」などのあとから新規追加されうるものによる処理の条件分岐をif-elseで実装すると、新たな選択肢の追加でif文を変える必要があるが、各決済手段を共通するインターフェースのclassにしていれば、新しいclassの追加だけで済む\n",
    "\n",
    "#### リスコフの置換原則（LSP）\n",
    "\n",
    "派生クラスは基底クラスと置換可能でなければならない\n",
    "\n",
    "#### 依存性逆転の原則（DIP)\n",
    "\n",
    "抽象に依存し、具象に依存させない。\n",
    "\n",
    "コンポーネントが別のコンポーネントの具象に依存すると、拡張は難しくなる。\n",
    "\n",
    "\n",
    "#### インターフェース分離の原則\n",
    "\n",
    "それぞれのクライアントごとに専用のインターフェースを提供するほうが、単一の汎用的なインターフェースを提供するよりよい\n",
    "\n",
    "\n",
    "\n"
   ]
  },
  {
   "cell_type": "code",
   "execution_count": null,
   "id": "52266307-1d68-45ad-8899-bec3b4446756",
   "metadata": {},
   "outputs": [],
   "source": []
  }
 ],
 "metadata": {
  "kernelspec": {
   "display_name": "Python 3 (ipykernel)",
   "language": "python",
   "name": "python3"
  },
  "language_info": {
   "codemirror_mode": {
    "name": "ipython",
    "version": 3
   },
   "file_extension": ".py",
   "mimetype": "text/x-python",
   "name": "python",
   "nbconvert_exporter": "python",
   "pygments_lexer": "ipython3",
   "version": "3.10.18"
  }
 },
 "nbformat": 4,
 "nbformat_minor": 5
}
