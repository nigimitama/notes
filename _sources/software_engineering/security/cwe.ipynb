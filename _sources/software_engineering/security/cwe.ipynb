{
 "cells": [
  {
   "cell_type": "markdown",
   "id": "36b4318f-64b9-46d4-a03c-efa2d9ca5da9",
   "metadata": {},
   "source": [
    "# CWE (Common Weakness Enumeration)\n",
    "\n",
    "**CWE（Common Weakness Enumeration, 共通脆弱性タイプ一覧）** はソフトウェアにおける脆弱性の種類をまとめて共通の基準としたもの\n",
    "\n"
   ]
  },
  {
   "cell_type": "markdown",
   "id": "aab48cd5-7ee6-41f3-a40b-0c6cf8daea48",
   "metadata": {},
   "source": [
    "## 例\n",
    "\n",
    "### パスワードを復元可能な形式で保存すること\n",
    "\n",
    "[CWE - CWE-257: Storing Passwords in a Recoverable Format (4.15)](https://cwe.mitre.org/data/definitions/257.html)\n",
    "\n"
   ]
  },
  {
   "cell_type": "markdown",
   "id": "6908f31b-556e-4b82-8b90-05b60f8e988f",
   "metadata": {},
   "source": [
    "### 機密情報のハードコーディング\n",
    "\n",
    "[CWE - CWE-798: Use of Hard-coded Credentials (4.15)](https://cwe.mitre.org/data/definitions/798.html)\n",
    "\n",
    "例えばソースコードにパスワードを書いておくこと\n"
   ]
  },
  {
   "cell_type": "markdown",
   "id": "dc45db6c-a75d-4b7a-aa10-396b665ec008",
   "metadata": {},
   "source": [
    "### SQL インジェクション\n",
    "\n",
    "[CWE - CWE-89: Improper Neutralization of Special Elements used in an SQL Command ('SQL Injection') (4.15)](https://cwe.mitre.org/data/definitions/89.html)"
   ]
  },
  {
   "cell_type": "markdown",
   "id": "96851ca8-5ddb-49ae-971f-fdc515b67e6c",
   "metadata": {},
   "source": [
    "### Cross-site scripting (XSS)\n",
    "\n",
    "[CWE - CWE-79: Improper Neutralization of Input During Web Page Generation ('Cross-site Scripting') (4.15)](https://cwe.mitre.org/data/definitions/79.html)"
   ]
  },
  {
   "cell_type": "markdown",
   "id": "107449fd-a088-4996-8af8-c1da21f708b5",
   "metadata": {},
   "source": [
    "## 参考\n",
    "\n",
    "- [CWE - New to CWE](https://cwe.mitre.org/about/new_to_cwe.html)\n",
    "- [共通脆弱性タイプ一覧CWE概説 | 情報セキュリティ | IPA 独立行政法人 情報処理推進機構](https://www.ipa.go.jp/security/vuln/scap/cwe.html)"
   ]
  }
 ],
 "metadata": {
  "kernelspec": {
   "display_name": "Python 3 (ipykernel)",
   "language": "python",
   "name": "python3"
  },
  "language_info": {
   "codemirror_mode": {
    "name": "ipython",
    "version": 3
   },
   "file_extension": ".py",
   "mimetype": "text/x-python",
   "name": "python",
   "nbconvert_exporter": "python",
   "pygments_lexer": "ipython3",
   "version": "3.10.14"
  }
 },
 "nbformat": 4,
 "nbformat_minor": 5
}
