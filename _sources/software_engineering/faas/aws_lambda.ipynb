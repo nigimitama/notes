{
 "cells": [
  {
   "cell_type": "markdown",
   "id": "298f7674-a119-4382-8296-4b7409766657",
   "metadata": {},
   "source": [
    "# AWS Lambda"
   ]
  },
  {
   "cell_type": "markdown",
   "id": "cda6a4a7-03e8-4fd3-93e1-d1bc806de442",
   "metadata": {},
   "source": [
    "## コンテナ読み込みを支える技術\n"
   ]
  },
  {
   "cell_type": "markdown",
   "id": "73dfdb3e-9f73-42f1-8ad6-2716ad127fc0",
   "metadata": {},
   "source": [
    "### 重複削除\n",
    "\n",
    "- 多くのイメージは同じ内容を含む：Lambda利用者のコンテナイメージの約75%は、ユニークなバイトが5%未満\n",
    "- 重複を削除して効率的にキャッシュを作る\n",
    "- 単一のフラット ファイル システムに展開し、そのファイル システムを 512KiB のチャンクに分割する。次に、チャンクをハッシュして一意のコンテンツを識別し、キャッシュ レイヤーに同じデータのコピーが多すぎるのを回避"
   ]
  },
  {
   "cell_type": "markdown",
   "id": "d8ba8f34-18f9-40a2-aff1-3c909b474598",
   "metadata": {},
   "source": [
    ":::{admonition} Brooker et al. (2023). On-demand Container Loading in AWS Lambda\n",
    ":class: info\n",
    "\n",
    "Brooker, M., Danilov, M., Greenwood, C., & Piwonka, P. (2023). On-demand Container Loading in AWS Lambda. In 2023 USENIX Annual Technical Conference (USENIX ATC 23) (pp. 315-328).\n",
    "\n",
    "- [ATC '23](https://www.usenix.org/conference/atc23/presentation/brooker) (paper & video)\n",
    "- [arxiv.org/pdf/2305.13162](https://arxiv.org/pdf/2305.13162) (paper)\n",
    "- [Container Loading in AWS Lambda - Marc's Blog](https://brooker.co.za/blog/2023/05/23/snapshot-loading.html) (Brookerのブログでの解説)\n",
    ":::"
   ]
  },
  {
   "cell_type": "markdown",
   "id": "aeec7c89-6904-4e36-8793-ea35111de3d6",
   "metadata": {},
   "source": [
    ":::{admonition} Deep dive into AWS Lambda security: Function isolation (re:Invent 2021)\n",
    ":class: info\n",
    "\n",
    "- video：https://www.youtube.com/watch?v=FTwsMYXWGB0\n",
    "- Classmethodの解説ブログ：[[セッションレポート]Lambdaのコンテナイメージ管理の裏側に詳しくなれるセッション SVS404 Deep dive into AWS Lambda security: Function isolation #reinvent | DevelopersIO](https://dev.classmethod.jp/articles/reinvent2020-svs404/)\n",
    "\n",
    ":::"
   ]
  },
  {
   "cell_type": "markdown",
   "id": "178bbeae-d150-49df-9ccb-2d2e29ca658e",
   "metadata": {},
   "source": [
    "## コンテナイメージの最適化\n",
    "\n",
    "### 公式ベースイメージは見かけ以上に高速に読み込まれる\n",
    "\n",
    "個人的には経験上これは感じていたが、実際にAWSのブログにも書かれている\n",
    "\n",
    "[Optimizing Lambda functions packaged as container images | AWS Compute Blog](https://aws.amazon.com/jp/blogs/compute/optimizing-lambda-functions-packaged-as-container-images/)\n",
    "\n",
    "の「Use AWS-provided base images」の部分には以下のようなことが書かれている。\n",
    "\n",
    "> たとえば、AWS が提供する Go ランタイム `public.ecr.aws/lambda/go:1` のベースイメージは 670 MB あり、alpine:latest はわずか 5.58 MB です。ただし、AWS が提供するベースイメージを使用すると、3 つの利点があります。\n",
    ">\n",
    "> 1. キャッシュにより高速：AWS が提供するベースイメージは、Lambda サービスによってプロアクティブにキャッシュされます。これは、ベース イメージが近くの別の上流キャッシュにあるか、すでにワーカー インスタンス キャッシュに存在することを意味します。はるかに大きいにもかかわらず、キャッシュされない可能性があるサードパーティの基本イメージと比較すると、展開時間は依然として短い可能性があります。\n",
    ">\n",
    "> 2. 安定：AWS が提供するベースイメージは安定しています。基本イメージはコンテナー イメージの最下層にあるため、変更を行うには他のすべての層を再構築して再デプロイする必要があります。基本イメージへの変更が少ないということは、再構築と再デプロイの回数が減り、構築コストを削減できることを意味します。\n",
    ">\n",
    "> 3. 様々なソフトウェアが同梱されたOS：AWS が提供するベースイメージは Amazon Linux および Amazon Linux 2 上に構築されています。選択したランタイムに応じて、関数に必要な多数のユーティリティとライブラリがすでに含まれている場合があります。これは、後でそれらを追加する必要がないことを意味し、コストの増加につながるビルド手順の増加を引き起こす可能性がある追加のレイヤーを作成する手間を省きます。\n"
   ]
  }
 ],
 "metadata": {
  "kernelspec": {
   "display_name": "Python 3 (ipykernel)",
   "language": "python",
   "name": "python3"
  },
  "language_info": {
   "codemirror_mode": {
    "name": "ipython",
    "version": 3
   },
   "file_extension": ".py",
   "mimetype": "text/x-python",
   "name": "python",
   "nbconvert_exporter": "python",
   "pygments_lexer": "ipython3",
   "version": "3.10.14"
  }
 },
 "nbformat": 4,
 "nbformat_minor": 5
}
