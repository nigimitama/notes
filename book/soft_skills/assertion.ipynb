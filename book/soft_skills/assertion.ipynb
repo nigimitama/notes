{
 "cells": [
  {
   "cell_type": "markdown",
   "id": "7e6efec8-4140-43d7-bac7-e6925a9d09fb",
   "metadata": {},
   "source": [
    "# アサーション"
   ]
  },
  {
   "cell_type": "markdown",
   "id": "5dca95a1-4e65-4a39-8d11-f0e248acea98",
   "metadata": {
    "tags": []
   },
   "source": [
    "アサーション（assertion）は相手と対等な立場に立って、自分も相手も大切にしつつ、自分の意見を的確に伝えるコミュニケーションスキル。"
   ]
  },
  {
   "cell_type": "markdown",
   "id": "a72bb714-7b93-40e1-8010-987dc8dec74f",
   "metadata": {},
   "source": [
    "## 自己表現のタイプ\n",
    "\n",
    "心理学者Wolpeによれば、自己表現のタイプは3つに分けられる。\n",
    "\n",
    "1. **非主張的（non-assertive）自己表現** ：自分よりも他者を優先し、自分は後回しにする自己表現。\n",
    "2. **攻撃的（agressive）自己表現** ：自分のことだけを考えて行動する自己表現\n",
    "3. **アサーティブ（assertive）な自己表現** ：非主張的と攻撃的の間のちょうどよいバランスの自己表現\n",
    "\n",
    "アサーティブな自己表現がアサーション\n",
    "\n",
    "同じ人でも状況によって自己表現のタイプの度合いは変わる。\n",
    "\n",
    "\n",
    "### 非主張的自己表現\n",
    "\n",
    "非主張的自己表現は自分の意見を言わない / 言い損なう / 言っても相手に伝わりにくい自己表現。曖昧な表現や、自身なげな小さな声での話し方や消極的態度も含まれる。\n",
    "相手に譲歩したつもりでも、配慮したことが伝わらず感謝されなかったりと損しがち。\n",
    "都合のいい人ともみなされがち。\n",
    "\n",
    "\n"
   ]
  },
  {
   "cell_type": "markdown",
   "id": "c9a6ed24-17d8-42f9-a0ca-453302816c9f",
   "metadata": {},
   "source": []
  }
 ],
 "metadata": {
  "kernelspec": {
   "display_name": "Python 3 (ipykernel)",
   "language": "python",
   "name": "python3"
  },
  "language_info": {
   "codemirror_mode": {
    "name": "ipython",
    "version": 3
   },
   "file_extension": ".py",
   "mimetype": "text/x-python",
   "name": "python",
   "nbconvert_exporter": "python",
   "pygments_lexer": "ipython3",
   "version": "3.10.17"
  }
 },
 "nbformat": 4,
 "nbformat_minor": 5
}
