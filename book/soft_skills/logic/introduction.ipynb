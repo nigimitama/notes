{
 "cells": [
  {
   "cell_type": "markdown",
   "id": "c359b884-dfee-4507-bb99-1a320e0d75d4",
   "metadata": {},
   "source": [
    "# 概要"
   ]
  },
  {
   "cell_type": "markdown",
   "id": "2dfdbb4e-23ab-4608-97a5-fed0066374de",
   "metadata": {},
   "source": [
    "### 議論の標準形式"
   ]
  },
  {
   "cell_type": "markdown",
   "id": "3005f5b7-2229-4158-b63f-85fa3e49914a",
   "metadata": {},
   "source": [
    ":::{admonition} 定義（標準形式）\n",
    "\n",
    "議論の **標準形式（standard form）** とは、論者の意図をくみ取って元の議論を明確かつ簡絜な言い回しで再構成したものである。\n",
    "すべての暗示的な部分を明示的に表現し、結論と前提や補完前提がきちんと区別されていなくてはならない。\n",
    ":::\n",
    "\n",
    "具体的には、議論を次のように構造化して簡潔にしたもの。\n",
    "\n",
    "1. ～だから（前提）\n",
    "    - その前提を結論として裏付ける（補完前提）\n",
    "2. ～だから（定義的な前提 / 暗示的な前提 / 反論の前提）\n",
    "    - 反論の前提：想定される異論に対して反論しておく\n",
    "3. したがって（結論）\n"
   ]
  }
 ],
 "metadata": {
  "kernelspec": {
   "display_name": "Python 3 (ipykernel)",
   "language": "python",
   "name": "python3"
  },
  "language_info": {
   "codemirror_mode": {
    "name": "ipython",
    "version": 3
   },
   "file_extension": ".py",
   "mimetype": "text/x-python",
   "name": "python",
   "nbconvert_exporter": "python",
   "pygments_lexer": "ipython3",
   "version": "3.10.14"
  }
 },
 "nbformat": 4,
 "nbformat_minor": 5
}
