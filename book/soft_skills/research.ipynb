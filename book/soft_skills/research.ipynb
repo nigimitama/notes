{
 "cells": [
  {
   "cell_type": "markdown",
   "id": "fe7701c0-dca1-4fff-aaba-a8e8214f0c43",
   "metadata": {},
   "source": [
    "# 研究の進め方"
   ]
  },
  {
   "cell_type": "markdown",
   "id": "fe012ee8-dd7e-4088-bea4-0bae2103d895",
   "metadata": {},
   "source": [
    ":::{admonition} 論文を出すためのマインド\n",
    "\n",
    "[国際論文を出そう！ICRA / IROS / RA-L への論文投稿の心構えとノウハウ / RSJ2025 Luncheon Seminar - Speaker Deck](https://speakerdeck.com/koide3/rsj2025-luncheon-seminar)\n",
    "\n",
    "- まず、**いつ・どこに論文を投稿するか決める**\n",
    "- コミュニティに対する貢献（contribution）があれば採択される\n",
    "    - 貢献の要素は「新規性」、「有用性（役に立つか）」、「再現性（主張が確かであるか）」\n",
    "    - 再現性：手順が明確に示されている、比較試験で既存手法との優位性を示す、ablation studyで必要性を示す\n",
    "    - 理解しやすく書く：査読者が誤解するなら他の人も誤解すると思ったほうがいい\n",
    "\n",
    ":::"
   ]
  },
  {
   "cell_type": "markdown",
   "id": "0d3bd6e8-1017-4028-9d52-c314ad752d30",
   "metadata": {},
   "source": [
    ":::{admonition} 佐藤竜馬 (2024) ランダムネスとの付き合い方\n",
    ":class: info\n",
    "\n",
    "[研究の進め方 ランダムネスとの付き合い方について - Speaker Deck](https://speakerdeck.com/joisino/randomness)\n",
    "\n",
    "- 試行回数を増やす\n",
    "- 乱数（不確実性の高いこと）をプロジェクトの前の工程にもってきて早めに確定させる\n",
    "- 乱数の結果に乗っかるアドリブ力を高める\n",
    "- 認識論的不確実性を削る：天命を待つ前に人事を尽くす。情報が増えれば分散にアタリがつけられる\n",
    ":::"
   ]
  },
  {
   "cell_type": "markdown",
   "id": "eac098e7-90ac-48a5-a8d5-81f02bbc4da8",
   "metadata": {},
   "source": [
    ":::{admonition} インパクトのあるAI研究をするにはどうすればよいか？\n",
    ":class: info\n",
    "\n",
    "[インパクトのあるAI研究をするにはどうすればよいか？ - GIGAZINE](https://gigazine.net/news/20240926-how-to-impactful-ai-research/)\n",
    "\n",
    "1. 論文ではなくプロジェクトに投資する\n",
    "    - 論文を書いて終わりではなく、1つのプロジェクトを進める中で複数の論文を生み出すようにする。研究群にも一貫性が出る。\n",
    "    - 例えば研究して一つのOSSプロジェクトを作り、そこで維持している一貫した成果物を中心に論文の一部を構成する\n",
    "2. タイムリーで、大きなファンアウトを持ち、大きな改善見込みのある問題を選ぶ\n",
    "    - 問題がタイムリーである：2~3年以内に「ホット」になるものの、まだ主流にはなっていない問題領域\n",
    "    - 「大きなファンアウト」をもつ：つまりは多くの下流の問題に潜在的に影響を与える。issueより始めよ的な\n",
    "    - 大きな幅の改善見込みがある：「1.5倍の高速化」とかではなく「20倍の高速化」などでないと注目を集められない\n",
    "3. 2歩先を考えて素早く反復する\n",
    "    - 流行りにすぐ乗るより、それがしばらくしても陳腐化せず生き残るか考える\n",
    "    - 素早く反復して研究が進めやすい問題を特定して取り組む\n",
    ":::"
   ]
  },
  {
   "cell_type": "markdown",
   "id": "5e8d7a2a-3092-402e-a2a1-f7aac1bc748a",
   "metadata": {},
   "source": [
    ":::{admonition} 文献のサーベイ\n",
    ":class: info\n",
    "\n",
    "[新入生向けチュートリアル：文献のサーベイv2 - Speaker Deck](https://speakerdeck.com/a1da4/xin-ru-sheng-xiang-ketiyutoriaru-wen-xian-nosabeiv2)\n",
    "\n",
    "論文を読む前\n",
    "\n",
    "- 初めての分野なら、代表する論文を探す（引用数などで）\n",
    "- 慣れた分野なら、arXivや[Scholar Inbox](https://www.scholar-inbox.com/)（論文レコメンドツール）で最新の論文を探す\n",
    "\n",
    "速読のパターン2つ\n",
    "\n",
    "1. abstractのみ読む\n",
    "2. abstract + introduction + 図表 + conclusion\n",
    "- 速読では落合陽一のフォーマットが便利\n",
    "\n",
    "精読\n",
    "\n",
    "- 全部読む\n",
    "- 他人に説明できるように、関連研究なども必要なら読む\n",
    "\n",
    ":::"
   ]
  },
  {
   "cell_type": "code",
   "execution_count": null,
   "id": "0683ac2e-cb9f-44e8-b64e-267e9f256d83",
   "metadata": {},
   "outputs": [],
   "source": []
  }
 ],
 "metadata": {
  "kernelspec": {
   "display_name": "Python 3 (ipykernel)",
   "language": "python",
   "name": "python3"
  },
  "language_info": {
   "codemirror_mode": {
    "name": "ipython",
    "version": 3
   },
   "file_extension": ".py",
   "mimetype": "text/x-python",
   "name": "python",
   "nbconvert_exporter": "python",
   "pygments_lexer": "ipython3",
   "version": "3.10.18"
  }
 },
 "nbformat": 4,
 "nbformat_minor": 5
}
