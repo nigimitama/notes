{
 "cells": [
  {
   "cell_type": "markdown",
   "id": "a48865d2-1908-40cf-8acd-402b608f9c03",
   "metadata": {},
   "source": [
    "# データ分析業務のTIPSなど"
   ]
  },
  {
   "cell_type": "markdown",
   "id": "1c40f8bb-e309-4dc5-a7bd-2c3202990784",
   "metadata": {},
   "source": [
    "## 施策の実行支援\n",
    "\n",
    ":::{card}\n",
    "\n",
    "[施策実行支援でデータアナリストが考えていること](https://zenn.dev/dmmdata/articles/71bf581a19dae3)\n",
    "\n",
    "> - データアナリストは施策設計から積極的に関与すべし。後から効果測定依頼だけもらっても手遅れになることが多い。\r",
    "> - \n",
    "施策設計の際には、施策によるKPIリフトが大きくなるように、また効果測定が精度良く容易に行えるような施策内容に調整する。> - \r\n",
    "施策終了後は効果測定に時間をかけすぎない。潔く負けを認めるのも重要であ\n",
    "る。\n",
    ":::\n"
   ]
  }
 ],
 "metadata": {
  "kernelspec": {
   "display_name": "Python 3 (ipykernel)",
   "language": "python",
   "name": "python3"
  },
  "language_info": {
   "codemirror_mode": {
    "name": "ipython",
    "version": 3
   },
   "file_extension": ".py",
   "mimetype": "text/x-python",
   "name": "python",
   "nbconvert_exporter": "python",
   "pygments_lexer": "ipython3",
   "version": "3.10.15"
  }
 },
 "nbformat": 4,
 "nbformat_minor": 5
}
