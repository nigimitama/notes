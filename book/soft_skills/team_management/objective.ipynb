{
 "cells": [
  {
   "cell_type": "markdown",
   "id": "7c9dc595-77b8-42cc-b394-1f7134b40114",
   "metadata": {},
   "source": [
    "# 目標設定"
   ]
  },
  {
   "cell_type": "markdown",
   "id": "217cd35f-cb0b-4ef8-80f3-144799962aed",
   "metadata": {},
   "source": [
    "## 用語\n",
    "\n",
    "### KGI（Key Goal Indicator）\n",
    "\n",
    "- 目標のゴール地点を示す数字\n",
    "- 例：売上高、利益、売上成長率、業界シェア率\n",
    "\n",
    "### KPI（Key Performance Indicator）\n",
    "\n",
    "- KGIの達成度合いを測るためブレークダウンされた指標\n",
    "- 例：KGIが「利益1億円」だとしたらKPIは売上高やコスト削減率\n"
   ]
  },
  {
   "cell_type": "markdown",
   "id": "dd9b9414-ff60-403b-8ab3-24a6fc3c4670",
   "metadata": {},
   "source": [
    "## 戦略\n",
    "\n",
    "### パレートの法則（20:80の法則）\n",
    "\n",
    "- 全体の20%の顧客が売上の80%を作る\n",
    "- → 優秀な上位20％のメンバーを優先的にアサインする\n",
    "\n",
    "### ロングテール戦略\n",
    "\n",
    "数が多い下位80%の顧客のほうをどう伸ばすか考える"
   ]
  }
 ],
 "metadata": {
  "kernelspec": {
   "display_name": "Python 3 (ipykernel)",
   "language": "python",
   "name": "python3"
  },
  "language_info": {
   "codemirror_mode": {
    "name": "ipython",
    "version": 3
   },
   "file_extension": ".py",
   "mimetype": "text/x-python",
   "name": "python",
   "nbconvert_exporter": "python",
   "pygments_lexer": "ipython3",
   "version": "3.10.18"
  }
 },
 "nbformat": 4,
 "nbformat_minor": 5
}
