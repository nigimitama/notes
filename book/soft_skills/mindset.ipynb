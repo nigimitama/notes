{
 "cells": [
  {
   "cell_type": "markdown",
   "id": "4cdc6c94-8de2-45fa-976d-35ea3afe2d52",
   "metadata": {},
   "source": [
    "# マインドセット"
   ]
  },
  {
   "cell_type": "markdown",
   "id": "fd31f866-04c1-4928-b2f4-9fbc29e6b19e",
   "metadata": {},
   "source": [
    "## ベンチャー界隈などで好まれるマインドセット\n",
    "\n",
    "仕事ができる人が持っている / 「新卒は持つべき」などと言われるマインドセット\n",
    "\n",
    "### オーナーシップ / 当事者意識\n",
    "\n",
    "- **「オーナーシップ」** ：与えられた仕事や課題に対して、当事者意識を持って取り組む姿勢やマインドのこと。\n",
    "- **「自分ごと化」** ：与えられた仕事や課題を（他人事ではなく）自分事とすること\n",
    "- **「自責思考」** ：なにか問題があったときに他責（他人のせいにする）のではなく自分の責任と考える\n",
    "- **「ラストマンシップ」** ：差し迫った状況でも自分がどうにかする気概や、責任を取る精神を意味する和製英語。\n",
    "\n",
    "\n",
    ":::{card} 関連文献\n",
    "\n",
    "- [ラストマンシップ｜トーキョーハーバー](https://note.com/tokyo_harbor/n/n9622fb5b6a39)\n",
    "- [新卒はとにかくラストマンシップを磨け - わかるブログ](https://digitalbizpro.hatenablog.com/entry/2019/11/12/200711)\n",
    ":::"
   ]
  },
  {
   "cell_type": "markdown",
   "id": "880df65c-cd95-4730-b9a7-593977370065",
   "metadata": {},
   "source": [
    "## ベンチャー界隈などで嫌われるマインドセット\n",
    "\n",
    "### 他責思考\n",
    "\n",
    "オーナーシップ・当事者意識・自責思考とは逆の考え方\n",
    "\n",
    ":::{admonition} 例\n",
    "\n",
    "- 「どうせ誰かがやってくれるだろう」\n",
    "- 「みんながやらないなら自分もやらなくていい」\n",
    "\n",
    ":::\n",
    "\n",
    "\n",
    "### Quiet Quitting（静かな退職）\n",
    "\n",
    "**Quiet Quitting（静かな退職）** ：仕事に対する熱意はなく、基本給のために最低限の仕事だけをする考え方\n",
    "\n",
    ":::{card} 関連\n",
    "\n",
    "- [【「静かな退職」が日本を救う】「勤労屋」の対極が「静かな退職者」 - YouTube](https://www.youtube.com/watch?v=RPXcG4554C4&ab_channel=PIVOT%E5%85%AC%E5%BC%8F%E3%83%81%E3%83%A3%E3%83%B3%E3%83%8D%E3%83%AB)\n",
    "    - 費用対効果の少ない仕事はやめて、ヨーロッパのような「Job descriptionに書かれたことだけやる」「定時になったら客が居ても店を閉める」がむしろよいのでは？という主張もある\n",
    ":::"
   ]
  }
 ],
 "metadata": {
  "kernelspec": {
   "display_name": "Python 3 (ipykernel)",
   "language": "python",
   "name": "python3"
  },
  "language_info": {
   "codemirror_mode": {
    "name": "ipython",
    "version": 3
   },
   "file_extension": ".py",
   "mimetype": "text/x-python",
   "name": "python",
   "nbconvert_exporter": "python",
   "pygments_lexer": "ipython3",
   "version": "3.10.18"
  }
 },
 "nbformat": 4,
 "nbformat_minor": 5
}
