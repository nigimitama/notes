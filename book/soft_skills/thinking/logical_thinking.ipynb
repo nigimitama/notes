{
 "cells": [
  {
   "cell_type": "markdown",
   "id": "fdab596f-952f-4930-868f-2a995bd9dcce",
   "metadata": {},
   "source": [
    "# ロジカルシンキング"
   ]
  },
  {
   "cell_type": "markdown",
   "id": "49579405-bc6b-40cd-a10d-b9956b01aa4c",
   "metadata": {},
   "source": [
    "\n",
    "物事を論理的に整理し、矛盾なく筋道立てて説明・思考する方法。\n",
    "「結論 → 根拠 → 具体例」といった構造で、誰が聞いても理解しやすい状態を目指す。\n",
    "\n",
    "\n",
    "演繹法（一般→具体）、帰納法（具体→一般）を活用。\n",
    "\n",
    "感覚や直感ではなく、筋道で相手を納得させることが目的。\n",
    "\n",
    "\n",
    "関連\n",
    "\n",
    "- **MECE（Mutually Exclusive, Collectively Exhaustive）** ：モレなくダブりなく分類する。\n",
    "- **ピラミッドストラクチャー** ：結論をトップに置き、その下に理由・根拠を階層的に整理。\n",
    "\n",
    ":::{card} 例：「売上を上げる方法」\n",
    "\n",
    "→ 売上 = 客数 × 客単価 × 購買頻度、と分解して施策を検討。\n",
    "\n",
    ":::\n"
   ]
  },
  {
   "cell_type": "code",
   "execution_count": null,
   "id": "7ce00c38-8059-493b-b3fe-dd334e0a9f37",
   "metadata": {},
   "outputs": [],
   "source": []
  }
 ],
 "metadata": {
  "kernelspec": {
   "display_name": "Python 3 (ipykernel)",
   "language": "python",
   "name": "python3"
  },
  "language_info": {
   "codemirror_mode": {
    "name": "ipython",
    "version": 3
   },
   "file_extension": ".py",
   "mimetype": "text/x-python",
   "name": "python",
   "nbconvert_exporter": "python",
   "pygments_lexer": "ipython3",
   "version": "3.10.18"
  }
 },
 "nbformat": 4,
 "nbformat_minor": 5
}
