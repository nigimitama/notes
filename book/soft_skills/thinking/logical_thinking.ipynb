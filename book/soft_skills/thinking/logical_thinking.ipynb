{
 "cells": [
  {
   "cell_type": "markdown",
   "id": "fdab596f-952f-4930-868f-2a995bd9dcce",
   "metadata": {},
   "source": [
    "# ロジカルシンキング\n",
    "\n",
    "**ロジカルシンキング（Logical Thinking）** は物事を論理的に筋道立てて考え、矛盾のない結論を導く思考法のこと。\n"
   ]
  },
  {
   "cell_type": "markdown",
   "id": "c7549665-fbac-4b5c-82dd-828eca416843",
   "metadata": {},
   "source": [
    "「なぜそうなるのか」を筋道立てて、前提と結論の間に飛躍なく考えていく。\n"
   ]
  },
  {
   "cell_type": "markdown",
   "id": "04d6c41c-a8f0-4309-bcca-27360d36a85d",
   "metadata": {},
   "source": [
    "## 論理展開の基本パターン\n",
    "\n",
    "### 帰納法\n",
    "\n",
    "事例の共通点を取り出して一般化する思考法\n",
    "\n",
    "\n",
    "### 演繹法\n",
    "\n",
    "前提をもとに結論を導く思考法"
   ]
  },
  {
   "cell_type": "markdown",
   "id": "c4f3fe8b-7b69-4adf-bc7d-4f5876462a03",
   "metadata": {},
   "source": [
    "## 情報の整理・構造化のフレームワーク\n",
    "\n",
    "フレームワーク としてはロジックツリーないしピラミッドストラクチャーがよく用いられる\n"
   ]
  },
  {
   "cell_type": "markdown",
   "id": "8283051b-fb42-4f19-9fab-6780c98c8fc5",
   "metadata": {},
   "source": [
    "### ロジックツリー\n",
    "\n",
    "問題を木構造に分割して整理する。\n",
    "\n",
    ":::{card} 例：「売上を上げる方法」\n",
    "\n",
    "→ 売上 = 客数 × 客単価 × 購買頻度、と構成要素を分解していき、各要素に対する施策を検討。\n",
    "\n",
    ":::"
   ]
  },
  {
   "cell_type": "code",
   "execution_count": 12,
   "id": "a7a71105-2a2d-475f-8b8d-5c5b78e3482e",
   "metadata": {
    "jupyter": {
     "source_hidden": true
    },
    "tags": [
     "hide-input"
    ]
   },
   "outputs": [
    {
     "data": {
      "text/html": [
       "<img src=\"https://mermaid.ink/img/CmdyYXBoIExSOwogICAgQVsi5Yip55uKIl0gLS0+IEJbIuWjsuS4iiJdCiAgICBBIC0tPiBDWyLosrvnlKgiXQogICAgQiAtLT4gRFsi6LKp5aOy5pWw6YePIl0KICAgIEIgLS0+IEVbIuWNmOS+oSJdCiAgICBDIC0tPiBGWyLlpInli5XosrsiXQogICAgQyAtLT4gR1si5Zu65a6a6LK7Il0K\"/>"
      ],
      "text/plain": [
       "<IPython.core.display.Image object>"
      ]
     },
     "metadata": {},
     "output_type": "display_data"
    }
   ],
   "source": [
    "import base64\n",
    "from IPython.display import Image, display\n",
    "\n",
    "def mm_ink(graphbytes):\n",
    "    \"\"\"Mermaid形式のグラフ（バイト列）から、画像生成用のURLを返す。\"\"\"\n",
    "    base64_bytes = base64.b64encode(graphbytes)\n",
    "    base64_string = base64_bytes.decode(\"utf-8\")\n",
    "    return \"https://mermaid.ink/img/\" + base64_string\n",
    "\n",
    "def mm_display(graphbytes):\n",
    "    \"\"\"Mermaid形式のグラフ（バイト列）を受け取り、画像として表示する。\"\"\"\n",
    "    display(Image(url=mm_ink(graphbytes)))\n",
    "\n",
    "def mm(graph):\n",
    "    \"\"\"Mermaid形式のグラフ文字列を受け取り、画像として表示する。\"\"\"\n",
    "    graphbytes = graph.encode(\"utf-8\")  # ← 日本語対応\n",
    "    mm_display(graphbytes)\n",
    "\n",
    "def mm_link(graph):\n",
    "    \"\"\"Mermaid形式のグラフ文字列から、表示用のURLを返す。\"\"\"\n",
    "    graphbytes = graph.encode(\"utf-8\")  # ← 日本語対応\n",
    "    return mm_ink(graphbytes)\n",
    "\n",
    "def mm_path(path):\n",
    "    \"\"\"Mermaid形式のグラフを含むファイルを読み込み、画像として表示する。\"\"\"\n",
    "    with open(path, 'rb') as f:\n",
    "        graphbytes = f.read()\n",
    "    mm_display(graphbytes)\n",
    "\n",
    "mm(\"\"\"\n",
    "graph LR;\n",
    "    A[\"利益\"] --> B[\"売上\"]\n",
    "    A --> C[\"費用\"]\n",
    "    B --> D[\"販売数量\"]\n",
    "    B --> E[\"単価\"]\n",
    "    C --> F[\"変動費\"]\n",
    "    C --> G[\"固定費\"]\n",
    "\"\"\")"
   ]
  },
  {
   "cell_type": "markdown",
   "id": "81ecf736-dc59-4d94-8325-dc807b4d2296",
   "metadata": {},
   "source": [
    "### MECE（ミーシー）\n",
    "\n",
    "**MECE（Mutually Exclusive, Collectively Exhaustive）** ：漏れがなく、重複もないこと。\n",
    "\n",
    "ある物事を考えるときにロジックツリーを使う場合、漏れなくダブりなく要素を分解する必要がある。  \n",
    "例えば「利益」を構成する枝は「売上」「費用」なら妥当だが（利益 = 売上 - 費用のため）、費用が欠けていたり、「売上」「費用」「コスト」と重複があっても不適切"
   ]
  },
  {
   "cell_type": "markdown",
   "id": "73d77406-4dc3-4784-bd94-eba3e24f154f",
   "metadata": {},
   "source": [
    "### ピラミッドストラクチャー\n",
    "\n",
    "**ピラミッドストラクチャー** ：結論をトップに置き、その下に理由・根拠を階層的に整理。\n",
    "\n",
    ":::{card} So What／Why So\n",
    "\n",
    "ピラミッドストラクチャーをセルフチェックするための問い\n",
    "\n",
    "**So What（だからなんなのか）** ：前提を元に導かれる結論を考えるための問い  \n",
    "**Why So（なぜそう言えるのか）** ：結論が導かれる道筋を確かめるための問い\n",
    "\n",
    ":::\n",
    "\n"
   ]
  },
  {
   "cell_type": "markdown",
   "id": "19b392ee-9848-448d-a69a-74c107b46bc8",
   "metadata": {},
   "source": [
    "## 伝え方 - ロジカルコミュニケーション\n",
    "\n",
    "ロジカルシンキングに相手の視点（相手が持っている情報、相手が考える前提）も考慮して、論理的に伝える技法がロジカルコミュニケーション。\n",
    "\n",
    "### PREP法\n",
    "\n",
    "P（Point：結論）→ R（Reason：理由）： → E（Example：具体例） → P（Point：再度結論）\n",
    "\n",
    "の流れで話す方法。\n",
    "\n",
    "```\n",
    "例:\n",
    "結論（P）：この提案を採用すべきです。\n",
    "理由（R）：コストを30％削減できるからです。\n",
    "具体例（E）：同様の施策を行ったA社では、年間2億円のコスト削減に成功しています。\n",
    "再結論（P）：したがって、当社でも導入を進めるべきです。\n",
    "```\n"
   ]
  },
  {
   "cell_type": "code",
   "execution_count": null,
   "id": "3c005fb8-d862-4f14-8ff6-736b1fd367e5",
   "metadata": {},
   "outputs": [],
   "source": []
  }
 ],
 "metadata": {
  "kernelspec": {
   "display_name": "Python 3 (ipykernel)",
   "language": "python",
   "name": "python3"
  },
  "language_info": {
   "codemirror_mode": {
    "name": "ipython",
    "version": 3
   },
   "file_extension": ".py",
   "mimetype": "text/x-python",
   "name": "python",
   "nbconvert_exporter": "python",
   "pygments_lexer": "ipython3",
   "version": "3.10.18"
  }
 },
 "nbformat": 4,
 "nbformat_minor": 5
}
