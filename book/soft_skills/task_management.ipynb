{
 "cells": [
  {
   "cell_type": "markdown",
   "id": "380ca092-efc2-494f-ae66-b669e7d7a389",
   "metadata": {},
   "source": [
    "# タスク管理・仕事の進め方"
   ]
  },
  {
   "cell_type": "markdown",
   "id": "1eb6f7f7-d2a9-4c71-b43b-e4525ce62397",
   "metadata": {},
   "source": [
    "[アンチパターンで学ぶ「仕事の進め方」 #ポエム - Qiita](https://qiita.com/TabataRin/items/4cd7bacb64f3138f99b7)"
   ]
  },
  {
   "cell_type": "code",
   "execution_count": null,
   "id": "61ab35e0-2f91-4a07-99ec-2b5542e60e93",
   "metadata": {},
   "outputs": [],
   "source": []
  }
 ],
 "metadata": {
  "kernelspec": {
   "display_name": "Python 3 (ipykernel)",
   "language": "python",
   "name": "python3"
  },
  "language_info": {
   "codemirror_mode": {
    "name": "ipython",
    "version": 3
   },
   "file_extension": ".py",
   "mimetype": "text/x-python",
   "name": "python",
   "nbconvert_exporter": "python",
   "pygments_lexer": "ipython3",
   "version": "3.10.15"
  }
 },
 "nbformat": 4,
 "nbformat_minor": 5
}
