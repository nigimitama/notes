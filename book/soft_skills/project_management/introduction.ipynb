{
 "cells": [
  {
   "cell_type": "markdown",
   "id": "a47262ad-4421-40e3-a016-7203d9bc50ea",
   "metadata": {},
   "source": [
    "# プロジェクトマネジメント 概要"
   ]
  },
  {
   "cell_type": "markdown",
   "id": "427ceb99-20ed-4b81-a7a2-c6d420d61ee3",
   "metadata": {},
   "source": [
    "重要なことは、\n",
    "\n",
    "- やるべきタスクが洗い出されていること\n",
    "- すべてのタスクが終わったときに目的が達成されていること\n",
    "\n",
    "一方でよくやりがちな失敗は、\n",
    "\n",
    "- なんとなくスタートしてしまう\n",
    "- 全体観を忘れて、細部の問題だけに集中してしまう"
   ]
  },
  {
   "cell_type": "markdown",
   "id": "785eb788-b2f5-4dca-83e5-3b99b47b0b21",
   "metadata": {},
   "source": [
    "## プロジェクトマネジメントにおける重要な要素\n",
    "\n",
    "1. ステークホルダーマネジメント\n",
    "2. スコープマネジメント\n",
    "3. WBSの作成\n",
    "4. 工程の設計\n",
    "5. リスクマネジメント"
   ]
  },
  {
   "cell_type": "markdown",
   "id": "e013c62c-20ad-4957-8f38-efd3e8aa59d8",
   "metadata": {},
   "source": [
    "### ステークホルダーマネジメント\n",
    "\n",
    "ステークホルダー：プロジェクトの利害関係者。プロジェクトオーナー、メンバーだけでなく、そのプロジェクトがうまくいくと面白くない立場の人たちなども含む。\n",
    "\n",
    "主要なステークホルダーを洗い出して、影響力や関心の大小で整理し、それぞれに対して対応策を考えておく"
   ]
  },
  {
   "cell_type": "markdown",
   "id": "40b9cd8e-465c-4750-a27c-434f14467108",
   "metadata": {},
   "source": [
    "### スコープマネジメント\n",
    "\n",
    "プロジェクトでやることとやらないことを決定すること。\n",
    "\n",
    "1. 要求事項を洗い出す\n",
    "2. 洗い出したら優先順位付けをする\n"
   ]
  },
  {
   "cell_type": "markdown",
   "id": "2e95422c-a9df-4867-a6b1-84bd25c84f7c",
   "metadata": {},
   "source": [
    "### WBSの作成\n",
    "\n",
    "各要求事項をMECEにbreak downして作業（work package）を洗い出す。\n",
    "\n",
    "重要なポイントとしてよく挙げられるのは以下のルールを満たすようにすること。\n",
    "\n",
    ":::{card} break downのルール\n",
    "\n",
    "1. 100%ルール\n",
    "   - 1つのbreak downは同じ軸で切ること\n",
    "     - 同じ階層は同じカテゴリのものになっていること。例えば時間軸だったり構成要素だったり。\n",
    "   - break downした枝を足し合わせると上位の100%になること（MECEであること）\n",
    "   - 「その他」を有効活用すること\n",
    "2. 7×7ルール\n",
    "   - 1つのbreak downで発生する枝は2~7個にしておく。\n",
    "   - 階層も最大7層までにする\n",
    "3. 8/80ルール\n",
    "   - work packageの大きさは8時間から80時間までにする\n",
    "\n",
    ":::\n",
    "\n",
    "100%ルールがMECEであることに関わるので最も重要。ここで抜け漏れがあると、「Work packagesを全部済ませたのに成果物ができてない」という問題が出てしまう。\n"
   ]
  },
  {
   "cell_type": "markdown",
   "id": "65353a3b-6631-4f76-82c5-0c7bf25c6e30",
   "metadata": {},
   "source": [
    "### 工程設計\n",
    "\n",
    "ガントチャートなどで工程を設計する\n",
    "\n",
    "注意点\n",
    "\n",
    "- スキルの高い人に作業が集中しすぎないように気をつける\n",
    "- 各工程にバッファを持たせない\n",
    "    - 各工程は50%の確率で終わるくらいでいい\n",
    "    - 不確実性に備えるために別でバッファ専用の工程を設ける\n"
   ]
  },
  {
   "cell_type": "markdown",
   "id": "8f2fa65e-3f83-4539-8e0e-c09340162867",
   "metadata": {},
   "source": [
    "### リスクマネジメント\n",
    "\n"
   ]
  }
 ],
 "metadata": {
  "kernelspec": {
   "display_name": "Python 3 (ipykernel)",
   "language": "python",
   "name": "python3"
  },
  "language_info": {
   "codemirror_mode": {
    "name": "ipython",
    "version": 3
   },
   "file_extension": ".py",
   "mimetype": "text/x-python",
   "name": "python",
   "nbconvert_exporter": "python",
   "pygments_lexer": "ipython3",
   "version": "3.10.15"
  }
 },
 "nbformat": 4,
 "nbformat_minor": 5
}
