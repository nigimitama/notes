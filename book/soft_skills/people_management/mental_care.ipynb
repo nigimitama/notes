{
 "cells": [
  {
   "cell_type": "markdown",
   "id": "22eef857-4aa9-475c-9525-87b05441ae29",
   "metadata": {},
   "source": [
    "# メンタルケア\n",
    "\n",
    "メンバーのメンタルダウンはメンバー本人のキャリアや人生のためにも非常に重要な問題\n",
    "\n",
    "**兆候が現れたら早めにストレス源から離れさせる**\n",
    "\n",
    ":::{card} メンタルダウンの兆候\n",
    "\n",
    "- 仕事でミスが多くなり、パフォーマンスが落ちる\n",
    "- 会話の反応がいつもより鈍くなる\n",
    "- 伏し目がちになる\n",
    "- 「頭が真っ白になって考えられない」という発言をする\n",
    "- 仕事の優先順位がつけられなくなる\n",
    "- 遅刻や欠勤が増える\n",
    "- 「最近、眠れない」という発言をする\n",
    "\n",
    ":::\n",
    "\n",
    "対処は\n",
    "\n",
    "- 1on1\n",
    "- 仕事を減らす\n",
    "- 休ませる\n",
    "- 役割を変える\n",
    "- 産業医面談"
   ]
  }
 ],
 "metadata": {
  "kernelspec": {
   "display_name": "Python 3 (ipykernel)",
   "language": "python",
   "name": "python3"
  },
  "language_info": {
   "codemirror_mode": {
    "name": "ipython",
    "version": 3
   },
   "file_extension": ".py",
   "mimetype": "text/x-python",
   "name": "python",
   "nbconvert_exporter": "python",
   "pygments_lexer": "ipython3",
   "version": "3.10.18"
  }
 },
 "nbformat": 4,
 "nbformat_minor": 5
}
