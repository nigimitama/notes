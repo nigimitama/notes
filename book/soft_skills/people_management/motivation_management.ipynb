{
 "cells": [
  {
   "cell_type": "markdown",
   "id": "be62d7f1-435d-4403-87e3-b7596da8aa61",
   "metadata": {},
   "source": [
    "# モチベーション管理\n",
    "\n",
    "## 内発的/外発的動機づけを活用する\n",
    "\n",
    "- **内発的動機づけ（intrinsic motivation）**\n",
    "    - 定義：報酬や外的圧力によらず、「自分がやりたいからやる」「興味があるからやる」といった、個人の内面から湧き上がる動機に基づいた行動\n",
    "    - 例：新しい仕事を与える、新しい役割を与える\n",
    "- **外発的動機づけ（extrinsic motivation）**\n",
    "    - 定義：賞罰・評価・お金・称賛・他者の期待など、外部からの報酬や圧力によって引き起こされる動機。\n",
    "    - 例：昇給する\n",
    "\n",
    "## 褒め方のポイント\n",
    "\n",
    "1. ❌️何でもかんでも褒めない\n",
    "    - 普段から褒めてると効果がなくなる。「適当に褒める人」と思われる\n",
    "2. ❌️他人と比較して褒めない\n",
    "    - 「Aさんよりも成果出してるね」は❌️。比較したAさんにも伝わる可能性があるしリーダーへの不信感を生むだけ。\n",
    "3. ⭕️メンバーの努力・頑張りを褒める\n",
    "    - たとえ結果が良くなかったとしてもメンバーが努力していればその点を褒める\n"
   ]
  }
 ],
 "metadata": {
  "kernelspec": {
   "display_name": "Python 3 (ipykernel)",
   "language": "python",
   "name": "python3"
  },
  "language_info": {
   "codemirror_mode": {
    "name": "ipython",
    "version": 3
   },
   "file_extension": ".py",
   "mimetype": "text/x-python",
   "name": "python",
   "nbconvert_exporter": "python",
   "pygments_lexer": "ipython3",
   "version": "3.10.18"
  }
 },
 "nbformat": 4,
 "nbformat_minor": 5
}
