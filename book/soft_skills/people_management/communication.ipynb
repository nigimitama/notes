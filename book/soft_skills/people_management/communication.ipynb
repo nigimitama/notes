{
 "cells": [
  {
   "cell_type": "markdown",
   "id": "1b16902c-0be5-49b7-8a64-c13d0c69522a",
   "metadata": {},
   "source": [
    "# コミュニケーション"
   ]
  },
  {
   "cell_type": "markdown",
   "id": "38dd328c-bf5b-4a5b-a4bb-2c840d74b5b5",
   "metadata": {},
   "source": [
    "## 傾聴する\n",
    "\n",
    "- メンバーからの相談は聞き切ることに全集中する。口を挟まない\n",
    "- 喋り切ることでストレス発散になるし、8割がた本人が解決の糸口を見つけている\n",
    "\n",
    ":::{card} 傾聴のポイント\n",
    "\n",
    "1. 相手の話に積極的に興味を持ち、真剣に受けとめる  \n",
    "2. 相手の主張や感情に寄り添い、共感する  \n",
    "3. 表情などの非言語的なサインを見逃さない  \n",
    "4. 話を要約することで、自分が理解していることを伝える  \n",
    "5. 自分の意見や先入観を排除して、客観的に受けとめる  \n",
    "6. 会話中に沈黙が生じても焦らずに待つ  \n",
    "7. 質問で深く掘り下げて、より深く理解する  \n",
    "\n",
    ":::\n",
    "\n",
    "## メンバーのプライベートや家庭事情を考慮する\n",
    "\n",
    "- 忙しくてもメンバーのプライベートを尊重できる余裕をもつ\n",
    "- 休みを取りやすい雰囲気をつくる"
   ]
  }
 ],
 "metadata": {
  "kernelspec": {
   "display_name": "Python 3 (ipykernel)",
   "language": "python",
   "name": "python3"
  },
  "language_info": {
   "codemirror_mode": {
    "name": "ipython",
    "version": 3
   },
   "file_extension": ".py",
   "mimetype": "text/x-python",
   "name": "python",
   "nbconvert_exporter": "python",
   "pygments_lexer": "ipython3",
   "version": "3.10.18"
  }
 },
 "nbformat": 4,
 "nbformat_minor": 5
}
