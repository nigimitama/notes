{
 "cells": [
  {
   "cell_type": "markdown",
   "id": "27f9500d-d8cf-44a8-b69a-c2dbf6f5446d",
   "metadata": {},
   "source": [
    "# チームマネジメント"
   ]
  },
  {
   "cell_type": "markdown",
   "id": "212f2f6e-a1d1-4066-bb97-ba2f9ee75d3a",
   "metadata": {},
   "source": [
    ":::{tableofcontents}\n",
    ":::"
   ]
  }
 ],
 "metadata": {
  "kernelspec": {
   "display_name": "Python 3 (ipykernel)",
   "language": "python",
   "name": "python3"
  },
  "language_info": {
   "codemirror_mode": {
    "name": "ipython",
    "version": 3
   },
   "file_extension": ".py",
   "mimetype": "text/x-python",
   "name": "python",
   "nbconvert_exporter": "python",
   "pygments_lexer": "ipython3",
   "version": "3.10.18"
  }
 },
 "nbformat": 4,
 "nbformat_minor": 5
}
