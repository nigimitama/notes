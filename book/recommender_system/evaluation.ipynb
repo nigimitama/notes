{
 "cells": [
  {
   "cell_type": "markdown",
   "id": "21ce1ae8-3204-4b36-9c81-7d22cc70196c",
   "metadata": {},
   "source": [
    "# 推薦システムの評価"
   ]
  },
  {
   "cell_type": "markdown",
   "id": "351a9654-5b60-49bd-a122-9f9096551ade",
   "metadata": {},
   "source": [
    "## 評価のタイミング\n",
    "\n",
    "- オフライン評価：デプロイ前に、過去のログデータを用いて性能を評価する方法\n",
    "- オンライン評価：デプロイ後にA/Bテストで新しい推薦モデルの性能を評価する方法"
   ]
  },
  {
   "cell_type": "markdown",
   "id": "9631b501-e47a-4596-bec5-d3c74a4eda4d",
   "metadata": {},
   "source": [
    "## データの分割方法\n",
    "\n",
    "オフライン評価の際に、データセットをどう分割するか\n",
    "\n",
    "- 無作為分割：普通のホールドアウト法。推薦システムには適さない可能性がある。\n",
    "- 時間ベースの分割：ある時点を堺にtrain/testを分ける。将来データへの性能を評価したい場合に有効\n",
    "- ユーザーベースの分割：新規ユーザーへの性能を評価したい場合に有効\n",
    "- アイテムベースの分割：新規アイテムへの性能を評価したい場合に有効"
   ]
  },
  {
   "cell_type": "markdown",
   "id": "b66110b0-46aa-4974-bacd-5b2002a60f25",
   "metadata": {},
   "source": [
    "## 精度評価指標\n",
    "\n",
    "一般的な機械学習のように予測精度を評価する場合に使われる指標\n",
    "\n",
    "### レイティング予測の指標\n",
    "\n",
    "- RMSE\n",
    "- MAE\n",
    "\n",
    "### 確率予測の指標\n",
    "\n",
    "（クリック率予測など）\n",
    "\n",
    "- 対数尤度: \n",
    "\n",
    "$$\n",
    "\\begin{aligned}\n",
    "\\text { Log-likelihood } & =\\sum_{(i, j) \\in \\boldsymbol{\\Omega}^{\\mathrm{test}}} \\log \\operatorname{Pr}\\left(y_{i j} \\mid \\hat{p}_{i j}\\right) \\\\\n",
    "& =\\sum_{(i, j) \\in \\boldsymbol{\\Omega}^{\\mathrm{test}}} y_{i j} \\log \\left(\\hat{p}_{i j}\\right)+\\left(1-y_{i j}\\right) \\log \\left(1-\\hat{p}_{i j}\\right)\n",
    "\\end{aligned}\n",
    "$$\n"
   ]
  },
  {
   "cell_type": "markdown",
   "id": "617b0598-6bf8-4c60-8420-d99f3b6bc79c",
   "metadata": {},
   "source": [
    ":::{admonition} 精度評価指標の限界\n",
    ":class: warning\n",
    "\n",
    "次のような限界があるため、精度評価指標に依存してはならない\n",
    "\n",
    "**ランキングの測定に不適**\n",
    "\n",
    "- 多くのシステムではランキング上位のアイテムしか推薦されないため、高順位になる可能性が高いアイテムの精度の重要度が低順位のものよりも高い\n",
    "\n",
    "**精度の改善とビジネス上のKPIとの関連性の低さ**\n",
    "\n",
    "- 予測精度の改善がコンバージョン率などの改善につながるとは限らず、精度評価指標をKPI改善に役立てるのが困難\n",
    ":::"
   ]
  },
  {
   "cell_type": "markdown",
   "id": "80e58242-9f28-48ef-b142-726fcbbd6612",
   "metadata": {},
   "source": [
    "## ランキング指標"
   ]
  },
  {
   "cell_type": "markdown",
   "id": "c3441141-6ba9-4d42-8997-ed61dc15dd32",
   "metadata": {
    "tags": []
   },
   "source": [
    "### 大局的ランキング指標\n",
    "\n",
    "**大局的ランキング指標（global ranking metrics）**は、モデルによる推定スコアでテストセットを順序付けしたとき、評価の高いユーザー・アイテム対が低い評価の対より上位に順位付けされる度合いを測るもの。\n",
    "\n",
    "\n",
    "#### 二値分類の場合\n",
    "\n",
    "二値分類（例：クリック予測）や二値化されうる問題設定の場合、PR曲線やROC曲線を使った評価ができる\n",
    "\n",
    "#### それ以外の場合\n",
    "\n",
    "他の方法としては順位相関がある\n"
   ]
  },
  {
   "cell_type": "markdown",
   "id": "541a2942-a446-4804-92ab-2758681648b8",
   "metadata": {
    "tags": []
   },
   "source": [
    "### 局所的ランキング指標\n",
    "\n",
    "**局所的ランキング指標（local ranking metrics）**は、各ユーザーについてアイテムを個別に順位付けする方法。高評価アイテムが低評価アイテムよりも上位に順位付けされているかどうかを測定し、その後ユーザー間で平均を取る。"
   ]
  },
  {
   "cell_type": "markdown",
   "id": "f172a8e3-505d-460c-8457-b3d158344170",
   "metadata": {},
   "source": [
    "#### 二値分類の場合\n",
    "\n",
    "##### 順位Kでの適合率（P@K）\n",
    "\n",
    "各ユーザーについて、予測したスコアでアイテムを降順に順位付けする。\n",
    "\n",
    "上位K個のアイテムのうちの性のアイテムの部分集合\n",
    "\n",
    "##### 平均適合率の平均（mAP: mean average precision）\n",
    "\n",
    "P@Kの平均が平均適合率になり、それをユーザーについて平均したものがmAPになる\n",
    "\n",
    "##### 正規化割引累積利得（nDCG: normalized discounted cumulative gain）\n",
    "\n",
    "順位$k$のアイテムにユーザー$i$が正のレイティングを与えた場合$p_i(k)=1$で、そうでなければ$p_i(k)=0$とする。\n",
    "\n",
    "テストセットにおけるユーザー$i$によって評価されたアイテム集合$\\mathcal{J}_i^{test}$の要素数を$n_i$としたとき\n",
    "\n",
    "割引累積利得（DCG）を次のように定義する\n",
    "\n",
    "$$\n",
    "DCG_i = p_i(1) + \\sum^{n_i}_{k=2} \\frac{p_i(k)}{\\log_2 k}\n",
    "$$\n",
    "\n",
    "nDCGはユーザー$i$の最大DCGで正規化したDCGである\n",
    "\n",
    "$$\n",
    "nDCG_i = \\frac{DCG_i}{ 1 + \\sum^{n_i^+}_{k=2} \\frac{1}{\\log_2 k} }\n",
    "$$\n",
    "\n",
    "ここで$n_i^+$は$\\mathcal{J}_i^{test}$におけるユーザー$i$が正のレイティングをしたアイテム数\n"
   ]
  },
  {
   "cell_type": "markdown",
   "id": "de5dabb4-c624-42ab-9c67-fdfe7c101703",
   "metadata": {},
   "source": [
    "#### それ以外の場合\n",
    "\n",
    "二値分類でない場合や二値分類に変換できない場合、平均順位相関を使用する\n",
    "\n",
    "\n"
   ]
  },
  {
   "cell_type": "code",
   "execution_count": null,
   "id": "cc9751bf-2262-404d-84fa-93856204227e",
   "metadata": {},
   "outputs": [],
   "source": []
  }
 ],
 "metadata": {
  "kernelspec": {
   "display_name": "Python 3 (ipykernel)",
   "language": "python",
   "name": "python3"
  },
  "language_info": {
   "codemirror_mode": {
    "name": "ipython",
    "version": 3
   },
   "file_extension": ".py",
   "mimetype": "text/x-python",
   "name": "python",
   "nbconvert_exporter": "python",
   "pygments_lexer": "ipython3",
   "version": "3.10.18"
  }
 },
 "nbformat": 4,
 "nbformat_minor": 5
}
