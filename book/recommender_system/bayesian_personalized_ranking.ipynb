{
 "cells": [
  {
   "cell_type": "markdown",
   "id": "4e87a16c-6aba-4677-9438-b91beceed827",
   "metadata": {},
   "source": [
    "# Bayesian Personalized Ranking (BPR)\n",
    "\n",
    "[[1205.2618] BPR: Bayesian Personalized Ranking from Implicit Feedback](https://arxiv.org/abs/1205.2618)"
   ]
  },
  {
   "cell_type": "markdown",
   "id": "9077c161-d52a-4b44-803b-547a3f312098",
   "metadata": {},
   "source": [
    "あるuserがあるitemをどれくらい好むかというpreference scoreを予測するmodelを作る。\n",
    "\n",
    "このmodelは任意のアルゴリズムであり、Matrix Factorizationなどが用いられる。\n",
    "\n",
    "BPRでは正例のitemとサンプリングしてきた未観測の二つのitemを受け取り、それぞれpreference scoreを計算し、item $j$よりも item $i$を好む確率を計算し、尤度を最大化する"
   ]
  },
  {
   "cell_type": "markdown",
   "id": "5032092a-c0fd-4ad3-82c0-fb4e9965e96c",
   "metadata": {},
   "source": [
    "## 実用例\n",
    "\n",
    "noteの記事レコメンドにBPRが使われている\n",
    "\n",
    "[読者の行動データを用いたnote記事レコメンドのMLパイプラインツアー｜むっそ](https://note.com/mussso/n/n25e01c798e84#h0-1)"
   ]
  },
  {
   "cell_type": "markdown",
   "id": "3f62a42e-9741-4927-8f95-9d272d990904",
   "metadata": {},
   "source": [
    "## 参考\n",
    "- [レコメンドアルゴリズム(BPR)の導出から実装まで - ZOZO TECH BLOG](https://techblog.zozo.com/entry/2016/07/01/134825)\n",
    "- [Bayesian Personalized Ranking (BPR)の派生研究まとめ #機械学習 - Qiita](https://qiita.com/guglilac/items/49bc35bd2631177624ce)"
   ]
  }
 ],
 "metadata": {
  "kernelspec": {
   "display_name": "Python 3 (ipykernel)",
   "language": "python",
   "name": "python3"
  },
  "language_info": {
   "codemirror_mode": {
    "name": "ipython",
    "version": 3
   },
   "file_extension": ".py",
   "mimetype": "text/x-python",
   "name": "python",
   "nbconvert_exporter": "python",
   "pygments_lexer": "ipython3",
   "version": "3.10.18"
  }
 },
 "nbformat": 4,
 "nbformat_minor": 5
}
