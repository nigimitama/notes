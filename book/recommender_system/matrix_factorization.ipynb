{
 "cells": [
  {
   "cell_type": "markdown",
   "id": "b419a6c1-1f63-437c-88ad-bccbfa37bbf5",
   "metadata": {},
   "source": [
    "# 行列分解に基づく推薦システム"
   ]
  },
  {
   "cell_type": "markdown",
   "id": "3769b180-fc3e-4f9a-b865-f9d00dea7751",
   "metadata": {},
   "source": [
    "## Matrix Factorization\n",
    "\n",
    "[Matrix Factorization: A Simple Tutorial and Implementation in Python @ quuxlabs](http://www.quuxlabs.com/blog/2010/09/matrix-factorization-a-simple-tutorial-and-implementation-in-python/)\n"
   ]
  },
  {
   "cell_type": "markdown",
   "id": "4f4e135a-91a2-41f4-a014-222049eda7b1",
   "metadata": {},
   "source": [
    "## その他の行列分解による推薦"
   ]
  },
  {
   "cell_type": "markdown",
   "id": "7b277db3-aea8-4ec5-b4da-3c879c2e834d",
   "metadata": {},
   "source": [
    "- [行列分解によるレコメンドを整理する #1\\~特異値分解によるレコメンド~ #機械学習 - Qiita](https://qiita.com/yo_fuji/items/56a22c9829d40ce7a3ff)"
   ]
  },
  {
   "cell_type": "markdown",
   "id": "1530b2e0-8700-47d3-86b2-3991d330bdff",
   "metadata": {},
   "source": [
    "## ALS\n",
    "\n",
    "**ALS（Alternating Least Squares）**\n",
    "\n",
    "[Alternating Least Square (ALS) でCP分解 - でかいチーズをベーグルする](https://yamaguchiyuto.hatenablog.com/entry/2016/11/12/100000)\n",
    "\n",
    "\n",
    "### iALS\n",
    "\n",
    "**iALS（Implicit Alternating Least Squares）** はALSの応用的な位置付けのモデル。\n",
    "\n",
    "通常のALSはユーザーがアイテムに対して明示的な評価を与える場合を想定している。iALSはユーザーの行動履歴などの暗黙的なフィードバック（例：クリック、閲覧、購入履歴など）を扱う。\n",
    "\n",
    "[iALSの論文実装と評価〜推薦システムの手法〜 #Python - Qiita](https://qiita.com/yuwewe/items/ae8dc816f2531df404ff)"
   ]
  },
  {
   "cell_type": "markdown",
   "id": "105c657e-310e-4481-8b7b-120a77dc4aff",
   "metadata": {},
   "source": [
    "## 参考文献\n",
    "\n",
    "- [行列分解  |  Machine Learning  |  Google for Developers](https://developers.google.com/machine-learning/recommendation/collaborative/matrix?hl=ja)\n",
    "- [Matrix Factorization(MF) - アルゴリズム解説](https://blog.octopt.com/matrix-factorization/)"
   ]
  },
  {
   "cell_type": "code",
   "execution_count": null,
   "id": "7309cc5d-9794-42fe-b8af-d970b22783c9",
   "metadata": {},
   "outputs": [],
   "source": []
  }
 ],
 "metadata": {
  "kernelspec": {
   "display_name": "Python 3 (ipykernel)",
   "language": "python",
   "name": "python3"
  },
  "language_info": {
   "codemirror_mode": {
    "name": "ipython",
    "version": 3
   },
   "file_extension": ".py",
   "mimetype": "text/x-python",
   "name": "python",
   "nbconvert_exporter": "python",
   "pygments_lexer": "ipython3",
   "version": "3.9.18"
  }
 },
 "nbformat": 4,
 "nbformat_minor": 5
}
