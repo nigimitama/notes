{
 "cells": [
  {
   "cell_type": "markdown",
   "id": "fb2689fc-8a8c-4dc0-8c7f-db95ea6a773b",
   "metadata": {},
   "source": [
    "# 協調フィルタリング\n"
   ]
  },
  {
   "cell_type": "markdown",
   "id": "fc600786-e1c5-416e-8178-fef7eab0268f",
   "metadata": {},
   "source": [
    "1. モデルベース法：ユーザの嗜好をモデル化して推薦\n",
    "2. メモリベース法：\n",
    "   - ユーザーベース：ユーザの類似性に注目する\n",
    "   - アイテムベース：アイテムの類似性に注目する"
   ]
  },
  {
   "cell_type": "markdown",
   "id": "9b56c31e-f81b-44a4-b3ef-bc8a7481c4c8",
   "metadata": {},
   "source": [
    "## データ数\n",
    "\n",
    "[田村幸之介, & 松原仁. (2008). 協調フィルタリングにおけるデータの必要数の分析 (Doctoral dissertation, Future University Hakodate).](https://www.ieice.org/publications/conference-FIT-DVDs/FIT2008/pdf/F/F_028.pdf)\n",
    "\n",
    "- ユーザーベースの手法であるGroupLensを使った。\n",
    "- データ数を減らしながら精度の変化を見たところ、最低でも8万レコードほしいという結果に"
   ]
  },
  {
   "cell_type": "markdown",
   "id": "66296615-c1e2-48f6-b0c5-b12624d32d83",
   "metadata": {},
   "source": [
    "## 参考\n",
    "\n",
    "- [レコメンドシステム——協調フィルタリング(Collaborative Filtering)](https://zenn.dev/datasciencekun/articles/33d3be4c4ce4ea)"
   ]
  }
 ],
 "metadata": {
  "kernelspec": {
   "display_name": "Python 3 (ipykernel)",
   "language": "python",
   "name": "python3"
  },
  "language_info": {
   "codemirror_mode": {
    "name": "ipython",
    "version": 3
   },
   "file_extension": ".py",
   "mimetype": "text/x-python",
   "name": "python",
   "nbconvert_exporter": "python",
   "pygments_lexer": "ipython3",
   "version": "3.10.18"
  }
 },
 "nbformat": 4,
 "nbformat_minor": 5
}
