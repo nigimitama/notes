{
 "cells": [
  {
   "cell_type": "markdown",
   "id": "fb2689fc-8a8c-4dc0-8c7f-db95ea6a773b",
   "metadata": {},
   "source": [
    "# 協調フィルタリング\n"
   ]
  },
  {
   "cell_type": "code",
   "execution_count": null,
   "id": "0c8bf542-5c45-469d-a1e8-067a03842151",
   "metadata": {},
   "outputs": [],
   "source": []
  }
 ],
 "metadata": {
  "kernelspec": {
   "display_name": "Python 3 (ipykernel)",
   "language": "python",
   "name": "python3"
  },
  "language_info": {
   "codemirror_mode": {
    "name": "ipython",
    "version": 3
   },
   "file_extension": ".py",
   "mimetype": "text/x-python",
   "name": "python",
   "nbconvert_exporter": "python",
   "pygments_lexer": "ipython3",
   "version": "3.9.18"
  }
 },
 "nbformat": 4,
 "nbformat_minor": 5
}
