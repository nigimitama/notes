{
 "cells": [
  {
   "cell_type": "markdown",
   "id": "2a35c800-268e-466c-9eaf-fbdd3f4d12a9",
   "metadata": {},
   "source": [
    "# Data Augmentation\n",
    "\n"
   ]
  },
  {
   "cell_type": "markdown",
   "id": "a241ca03-3cc4-4454-bc9f-f1c6f7006ea8",
   "metadata": {},
   "source": [
    "## mixup\n",
    "\n",
    "複数のデータを線形和する\n",
    "\n",
    "画像処理界隈だとあるらしいが、金融時系列においても2つの銘柄を線形和してサンプルを増やす方法が知られているらしい\n",
    "\n",
    "\n",
    "### 参考\n",
    "\n",
    "- [複数の画像を組み合わせるオーグメンテーション (mixup, CutMix) - け日記](https://ohke.hateblo.jp/entry/2020/07/11/230000)"
   ]
  },
  {
   "cell_type": "code",
   "execution_count": null,
   "id": "c7a54139-4ebd-4a4e-aabb-b7ab75b490f9",
   "metadata": {},
   "outputs": [],
   "source": []
  }
 ],
 "metadata": {
  "kernelspec": {
   "display_name": "Python 3 (ipykernel)",
   "language": "python",
   "name": "python3"
  },
  "language_info": {
   "codemirror_mode": {
    "name": "ipython",
    "version": 3
   },
   "file_extension": ".py",
   "mimetype": "text/x-python",
   "name": "python",
   "nbconvert_exporter": "python",
   "pygments_lexer": "ipython3",
   "version": "3.9.18"
  }
 },
 "nbformat": 4,
 "nbformat_minor": 5
}
