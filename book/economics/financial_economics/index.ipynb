{
 "cells": [
  {
   "cell_type": "markdown",
   "id": "3fb9f440-4b59-44ca-9e00-b2f11d2e71d4",
   "metadata": {},
   "source": [
    "# 金融経済学"
   ]
  },
  {
   "cell_type": "markdown",
   "id": "97cdd99a-9e1f-45b9-81d6-6c2bffae74a3",
   "metadata": {},
   "source": [
    ":::{tableofcontents}\n",
    ":::"
   ]
  }
 ],
 "metadata": {
  "kernelspec": {
   "display_name": "Python 3 (ipykernel)",
   "language": "python",
   "name": "python3"
  },
  "language_info": {
   "codemirror_mode": {
    "name": "ipython",
    "version": 3
   },
   "file_extension": ".py",
   "mimetype": "text/x-python",
   "name": "python",
   "nbconvert_exporter": "python",
   "pygments_lexer": "ipython3",
   "version": "3.10.18"
  }
 },
 "nbformat": 4,
 "nbformat_minor": 5
}
