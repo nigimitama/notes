{
 "cells": [
  {
   "cell_type": "markdown",
   "id": "d5bb39b7-aae6-4989-9553-9337dfcd4219",
   "metadata": {},
   "source": [
    "# 需要の弾力性"
   ]
  },
  {
   "cell_type": "code",
   "execution_count": null,
   "id": "4ad8c6bc-4221-4fe2-9c11-0ca10b88a483",
   "metadata": {},
   "outputs": [],
   "source": []
  }
 ],
 "metadata": {
  "kernelspec": {
   "display_name": "Python 3 (ipykernel)",
   "language": "python",
   "name": "python3"
  },
  "language_info": {
   "codemirror_mode": {
    "name": "ipython",
    "version": 3
   },
   "file_extension": ".py",
   "mimetype": "text/x-python",
   "name": "python",
   "nbconvert_exporter": "python",
   "pygments_lexer": "ipython3",
   "version": "3.9.18"
  }
 },
 "nbformat": 4,
 "nbformat_minor": 5
}
