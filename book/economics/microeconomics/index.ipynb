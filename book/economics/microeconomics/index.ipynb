{
 "cells": [
  {
   "cell_type": "markdown",
   "id": "15094ae6-dd00-4ca5-b18d-555796ef4d16",
   "metadata": {},
   "source": [
    "# ミクロ経済学\n",
    "\n",
    ":::{tableofcontents}\n",
    ":::"
   ]
  },
  {
   "cell_type": "markdown",
   "id": "dd288510-829a-4571-ae48-a777733984c8",
   "metadata": {},
   "source": [
    "## 参考文献\n",
    "\n",
    "- ダロンほか (2019). アセモグル/レイブソン/リスト ミクロ経済学. 東洋経済新報社.\n"
   ]
  }
 ],
 "metadata": {
  "kernelspec": {
   "display_name": "Python 3 (ipykernel)",
   "language": "python",
   "name": "python3"
  },
  "language_info": {
   "codemirror_mode": {
    "name": "ipython",
    "version": 3
   },
   "file_extension": ".py",
   "mimetype": "text/x-python",
   "name": "python",
   "nbconvert_exporter": "python",
   "pygments_lexer": "ipython3",
   "version": "3.9.18"
  }
 },
 "nbformat": 4,
 "nbformat_minor": 5
}
