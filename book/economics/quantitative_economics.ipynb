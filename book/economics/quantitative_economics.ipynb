{
 "cells": [
  {
   "cell_type": "markdown",
   "id": "97a09ae0-0fdf-41da-ba54-8a33216fcb0f",
   "metadata": {},
   "source": [
    "# Quantitative Economics\n",
    "\n",
    "\n",
    "[Intermediate Quantitative Economics with Python — Intermediate Quantitative Economics with Python](https://python.quantecon.org/intro.html#)\n",
    "\n",
    "- 他のいろんな計量分析手法が載ってる（オークション理論など含む）"
   ]
  },
  {
   "cell_type": "code",
   "execution_count": null,
   "id": "ee1d6a0a-b724-46b7-939b-0b83356ec7cb",
   "metadata": {},
   "outputs": [],
   "source": []
  }
 ],
 "metadata": {
  "kernelspec": {
   "display_name": "Python 3 (ipykernel)",
   "language": "python",
   "name": "python3"
  },
  "language_info": {
   "codemirror_mode": {
    "name": "ipython",
    "version": 3
   },
   "file_extension": ".py",
   "mimetype": "text/x-python",
   "name": "python",
   "nbconvert_exporter": "python",
   "pygments_lexer": "ipython3",
   "version": "3.9.18"
  }
 },
 "nbformat": 4,
 "nbformat_minor": 5
}
