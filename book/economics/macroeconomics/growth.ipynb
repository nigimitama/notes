{
 "cells": [
  {
   "cell_type": "markdown",
   "id": "bbb41669-6448-4598-9a3f-9aa86f8222dc",
   "metadata": {},
   "source": [
    "# 経済成長"
   ]
  },
  {
   "cell_type": "markdown",
   "id": "813925aa-5f83-49d6-9324-574e28d7dc1a",
   "metadata": {},
   "source": [
    "経済成長（economic growth）は一国の1人あたりGDPの増加率で測られる。"
   ]
  },
  {
   "cell_type": "markdown",
   "id": "04851073-1708-475f-999c-30c3727ebc1f",
   "metadata": {},
   "source": [
    "## 生産性と集計的生産関数\n",
    "\n",
    "集計的生産関数\n",
    "\n",
    "$$\n",
    "Y = A \\times F(K, H)\n",
    "$$\n",
    "\n",
    "- $Y$：GDP\n",
    "- $A$：技術水準（経済で利用できる知識と生産の効率性を含む）\n",
    "- $F(K, H)$：物的資本と労働の関数（コブ・ダグラス型関数など）\n",
    "- $K$：物的資本ストック。生産機械や建物・土地など。\n",
    "- $H$：労働総効率的単位、労働者数$L$と労働生産性あるいは労働者の人的資本の平均$h$の積$H=L\\times h$\n"
   ]
  },
  {
   "cell_type": "markdown",
   "id": "de949701-5463-4981-8f34-e5b41f095f81",
   "metadata": {},
   "source": [
    ":::{margin}\n",
    "コブ・ダグラス関数を用いて\n",
    "\n",
    "$$\n",
    "Y = A \\times F(K, H) = A \\times K^{1/3} \\times H^{2/3}\n",
    "$$\n",
    "\n",
    "としたりする（経験的に国民所得のおよそ3分の2は労働に、3分の1は物的資本に振り分けられることが知られている）\n",
    ":::"
   ]
  },
  {
   "cell_type": "markdown",
   "id": "5dbf57d1-4fc8-4b39-b485-e8c6bd5d0230",
   "metadata": {},
   "source": [
    "## 経済はどのように成長するのか？\n",
    "\n",
    "\n",
    "集計的生産関数\n",
    "\n",
    "$$\n",
    "Y = A \\times F(K, H)\n",
    "$$\n",
    "\n",
    "\n",
    "→ 物的資本$A$、労働の総効率単位$H$（人的資本の向上など）、技術の進歩$A$を通じてGDPを増加させることができる"
   ]
  },
  {
   "cell_type": "code",
   "execution_count": null,
   "id": "24a12dd7-0be6-4300-8200-379efa3ca268",
   "metadata": {},
   "outputs": [],
   "source": []
  }
 ],
 "metadata": {
  "kernelspec": {
   "display_name": "Python 3 (ipykernel)",
   "language": "python",
   "name": "python3"
  },
  "language_info": {
   "codemirror_mode": {
    "name": "ipython",
    "version": 3
   },
   "file_extension": ".py",
   "mimetype": "text/x-python",
   "name": "python",
   "nbconvert_exporter": "python",
   "pygments_lexer": "ipython3",
   "version": "3.9.18"
  }
 },
 "nbformat": 4,
 "nbformat_minor": 5
}
