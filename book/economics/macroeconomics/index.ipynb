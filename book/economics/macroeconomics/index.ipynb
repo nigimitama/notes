{
 "cells": [
  {
   "cell_type": "markdown",
   "id": "15094ae6-dd00-4ca5-b18d-555796ef4d16",
   "metadata": {},
   "source": [
    "# マクロ経済学\n",
    "\n",
    ":::{tableofcontents}\n",
    ":::"
   ]
  },
  {
   "cell_type": "markdown",
   "id": "dd288510-829a-4571-ae48-a777733984c8",
   "metadata": {},
   "source": [
    "## 参考文献\n",
    "\n",
    "- ダロンほか (2019). アセモグル/レイブソン/リスト マクロ経済学. 東洋経済新報社.\n",
    "- 加藤涼. (2006). 現代マクロ経済学講義: 動学的一般均衡モデル入門. 東洋経済新報社.\n",
    "- [Pythonで学ぶマクロ経済学 (中級＋レベル)](https://py4macro.github.io/index.html)"
   ]
  }
 ],
 "metadata": {
  "kernelspec": {
   "display_name": "Python 3 (ipykernel)",
   "language": "python",
   "name": "python3"
  },
  "language_info": {
   "codemirror_mode": {
    "name": "ipython",
    "version": 3
   },
   "file_extension": ".py",
   "mimetype": "text/x-python",
   "name": "python",
   "nbconvert_exporter": "python",
   "pygments_lexer": "ipython3",
   "version": "3.9.18"
  }
 },
 "nbformat": 4,
 "nbformat_minor": 5
}
