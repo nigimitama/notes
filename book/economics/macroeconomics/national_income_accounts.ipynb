{
 "cells": [
  {
   "cell_type": "markdown",
   "id": "bfb68fe7-c94c-4926-a1ca-ffdb2af1165d",
   "metadata": {},
   "source": [
    "# 国民経済計算"
   ]
  },
  {
   "cell_type": "code",
   "execution_count": null,
   "id": "f01afca9-e9af-4836-8178-d8a1ba559b7f",
   "metadata": {},
   "outputs": [],
   "source": []
  }
 ],
 "metadata": {
  "kernelspec": {
   "display_name": "Python 3 (ipykernel)",
   "language": "python",
   "name": "python3"
  },
  "language_info": {
   "codemirror_mode": {
    "name": "ipython",
    "version": 3
   },
   "file_extension": ".py",
   "mimetype": "text/x-python",
   "name": "python",
   "nbconvert_exporter": "python",
   "pygments_lexer": "ipython3",
   "version": "3.9.18"
  }
 },
 "nbformat": 4,
 "nbformat_minor": 5
}
