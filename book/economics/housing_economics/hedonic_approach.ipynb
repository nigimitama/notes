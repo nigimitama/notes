{
 "cells": [
  {
   "cell_type": "markdown",
   "id": "b9d24e2f-406e-43d6-af11-8a23392cf734",
   "metadata": {},
   "source": [
    "# ヘドニック・アプローチ\n",
    "\n",
    "\n",
    "**ヘドニック・アプローチ** （Hedonic approach）、あるいは **ヘドニック法** は、ある財の価格をその財の属性・特徴へと回帰する線形モデルを構築し、財の属性の価値を推定する方法である。"
   ]
  },
  {
   "cell_type": "markdown",
   "id": "d95f9aca-4fdd-4a73-b917-3a886b3a4009",
   "metadata": {},
   "source": [
    "## 理論的背景\n",
    "\n",
    "つまるところヘドニック・アプローチは価格を属性に回帰する回帰分析なのだが、そのモデルの導出過程には経済学の古典的な理論がある。\n",
    "\n",
    "Lancaster (1966) は消費者が得る効用が商品自体からではなく、商品を構成する機能や特性に依存するというモデルを提案\n",
    "\n",
    "Rosen (1974)がヘドニック・アプローチの理論的な枠組みの主な提唱者。\n",
    "\n",
    "属性ベクトル$\\mathbf{x} = (x_1, x_2, \\dots, x_k)^\\top$ の住宅の市場価格の関数を$P(\\mathbf{x})$とする。\n",
    "\n",
    "消費者の効用関数は$u(c,\\mathbf{x}; \\mathbf{a})$とする。ここで$c$は価格が1に基準化された価値尺度財、$\\mathbf{a}$は消費者個人の選好パラメータのベクトルである。\n",
    "\n",
    "消費者の所得を$I$とすると、予算制約式は$I=P(\\mathbf{x}) + c$となる。\n",
    "\n",
    "予算制約の下で$(c, \\mathbf{x})$について効用を最大化するとき、最適化条件は\n",
    "\n",
    "$$\n",
    "\\frac{\\partial u(I-P(\\mathbf{x}), \\mathbf{x}^*; \\mathbf{a})/\\partial \\mathbf{x}}\n",
    "{\\partial u(I-P(\\mathbf{x}), \\mathbf{x}^*; \\mathbf{a})/\\partial c}\n",
    "= P_x(\\mathbf{x})\n",
    "$$\n",
    "\n",
    "ここで$P_x$は属性の一階微分で"
   ]
  },
  {
   "cell_type": "code",
   "execution_count": null,
   "id": "274e3248-23a7-4849-a891-a13019181ed3",
   "metadata": {},
   "outputs": [],
   "source": []
  }
 ],
 "metadata": {
  "kernelspec": {
   "display_name": "Python 3 (ipykernel)",
   "language": "python",
   "name": "python3"
  },
  "language_info": {
   "codemirror_mode": {
    "name": "ipython",
    "version": 3
   },
   "file_extension": ".py",
   "mimetype": "text/x-python",
   "name": "python",
   "nbconvert_exporter": "python",
   "pygments_lexer": "ipython3",
   "version": "3.10.18"
  }
 },
 "nbformat": 4,
 "nbformat_minor": 5
}
