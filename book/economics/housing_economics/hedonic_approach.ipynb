{
 "cells": [
  {
   "cell_type": "markdown",
   "id": "b9d24e2f-406e-43d6-af11-8a23392cf734",
   "metadata": {},
   "source": [
    "# ヘドニック・アプローチ\n"
   ]
  },
  {
   "cell_type": "markdown",
   "id": "62eae56d-9f90-4207-a0fc-897bf00c6c05",
   "metadata": {},
   "source": [
    "## 概要\n",
    "\n",
    "**ヘドニック・アプローチ** （Hedonic approach）、あるいは **ヘドニック法** は、ある財の価格をその財の属性・特徴へと回帰する線形モデルを構築し、財の属性の価値を推定する方法である。\n",
    "\n",
    "不動産領域で多く使われ、多くの場合、物件の価格や賃料を被説明変数とした線形回帰モデルを構築し、最小二乗法でパラメータを推定する。\n",
    "\n",
    ":::{card} ヘドニックモデルの例\n",
    "\n",
    "$$\n",
    "\\ln P_i = \\beta_0 + \\sum_{j=0}^J \\beta_{j} X_{i j} + \\varepsilon_i\n",
    "$$\n",
    "\n",
    "- $P_i$：物件$i$の価格。\n",
    "    - 被説明変数だけ対数を取る事が多い。その場合、小さい（0.1以下程度）の回帰係数の解釈としては「$X_{ij}$が1単位増加すると、価格は$\\beta_j \\times 100$%増加する」となる。\n",
    "- $X_{ij}$：物件$i$の説明変数$j$の値\n",
    "    - 例えば物件属性（築年数、専有面積、設備など）、立地特性（最寄り駅への徒歩分数、その都道府県の主要駅への距離など）\n",
    "\n",
    ":::"
   ]
  },
  {
   "cell_type": "markdown",
   "id": "9cfe09ba-4e26-4827-8dde-4838281dc37e",
   "metadata": {},
   "source": [
    ":::{dropdown} 回帰係数の解釈について補足\n",
    "\n",
    "単純には「$X_{ij}$が1単位増加すると$\\ln P_i$ は $\\beta_j$倍増加する」という意味になる。\n",
    "\n",
    "$X_{ij}$が1のときと0のときの差をとると$\\beta_j - 0$で、被説明変数の対数を外すために指数関数を適用すると、\n",
    "\n",
    "$$\n",
    "\\exp(\\beta_j) -\\exp(0) = \\exp(\\beta_j) - 1\n",
    "$$\n",
    "\n",
    "マクローリン展開をつかうと $\\exp(\\beta_j) - 1 \\approx \\beta_j$ であることがわかるので「$\\beta_j \\times 100$%増加」となる。\n",
    "\n",
    "例えば$\\beta_j = 0.05$なら\n",
    "\n",
    "$$\n",
    "\\underbrace{\\exp(0.05)}_{=1.05127\\dots} - \\underbrace{\\exp(0)}_{=1} \\approx 0.05\n",
    "$$\n",
    "\n",
    "となり、解釈は「約5%増加」「となる\n",
    "\n",
    ":::"
   ]
  },
  {
   "cell_type": "markdown",
   "id": "483d1f89-2d3d-4821-8dc8-56f2872d7bea",
   "metadata": {},
   "source": [
    "## 理論的背景\n",
    "\n",
    "つまるところヘドニック・アプローチは価格を属性に回帰する回帰分析なのだが、そのモデルの導出過程には経済学の古典的な理論がある。\n",
    "\n",
    "Lancaster (1966) は消費者が得る効用が商品自体からではなく、商品を構成する機能や特性に依存するというモデルを提案\n",
    "\n",
    "Rosen (1974)がヘドニック・アプローチの理論的な枠組みの主な提唱者。\n",
    "\n",
    "属性ベクトル$\\mathbf{x} = (x_1, x_2, \\dots, x_k)^\\top$ の住宅の市場価格の関数を$P(\\mathbf{x})$とする。\n",
    "\n",
    "消費者の効用関数は$u(c,\\mathbf{x}; \\mathbf{a})$とする。ここで$c$は価格が1に基準化された価値尺度財、$\\mathbf{a}$は消費者個人の選好パラメータのベクトルである。\n",
    "\n",
    "消費者の所得を$I$とすると、予算制約式は$I=P(\\mathbf{x}) + c$となる。\n",
    "\n",
    "予算制約の下で$(c, \\mathbf{x})$について効用を最大化するとき、最適化条件は\n",
    "\n",
    "$$\n",
    "\\frac{\\partial u(I-P(\\mathbf{x}), \\mathbf{x}^*; \\mathbf{a})/\\partial \\mathbf{x}}\n",
    "{\\partial u(I-P(\\mathbf{x}), \\mathbf{x}^*; \\mathbf{a})/\\partial c}\n",
    "= P_x(\\mathbf{x})\n",
    "$$\n",
    "\n",
    "ここで$P_x$は属性の一階微分を示している。つまり、最適な属性$\\mathbf{x}^*$の選択は、合成財に対する個々の属性の限界代替率が住宅市場価格の限界的価値に等しいところで決定される。\n",
    "\n",
    "住宅市場価格の限界的価値は、需要者がその属性に対して支払ってもよい（willingness to pay）と考える属性価値に等しい。\n"
   ]
  },
  {
   "cell_type": "markdown",
   "id": "9a5a1b31-ef95-4b10-8645-97bce44b34e6",
   "metadata": {},
   "source": []
  },
  {
   "cell_type": "markdown",
   "id": "607cd6db-bc3e-4947-8ab5-e7e4bc2cf4b1",
   "metadata": {},
   "source": [
    ":::{card} 参考文献\n",
    "\n",
    "- 清水千弘, & 唐渡広志. (2007). 不動産市場の計量経済分析.\n",
    "- [Rosen, S. (1974). Hedonic prices and implicit markets: product differentiation in pure competition. Journal of political economy, 82(1), 34-55.](https://www.journals.uchicago.edu/doi/abs/10.1086/260169)\n",
    "- [ヘドニック・アプローチによる便益評価の理論的基礎](https://www.jstage.jst.go.jp/article/jscej1984/1992/449/1992_449_47/_article/-char/ja/)\n",
    "\n",
    ":::"
   ]
  },
  {
   "cell_type": "markdown",
   "id": "19ba6c46-d832-4936-92aa-f89a6588796e",
   "metadata": {},
   "source": [
    "## 理論研究\n",
    "\n"
   ]
  },
  {
   "cell_type": "markdown",
   "id": "62ccb387-a8fb-49af-a009-7714a5b927a2",
   "metadata": {},
   "source": [
    ":::{card} 欠落変数バイアスの問題の難しさ\n",
    "\n",
    "[Housing features and rent: estimating the microstructures of rental housing - ScienceDirect](https://www.sciencedirect.com/org/science/article/abs/pii/S1753827019000323)\n",
    "\n",
    "近年はSUUMOなどのデータを使えば物件の設備の情報も含めた分析ができる\n",
    "\n",
    "物件の設備も含んだモデルと、竣工年、面積、立地などの従来通りの最小限の説明変数のモデルとを比較した\n",
    "\n",
    "その結果、欠落変数バイアスにより符号の逆転現象すら確認された\n",
    "\n",
    ":::"
   ]
  },
  {
   "cell_type": "markdown",
   "id": "0b8dcf9b-1e1e-413e-af08-18eece50cb4f",
   "metadata": {},
   "source": [
    "## 応用研究\n"
   ]
  },
  {
   "cell_type": "markdown",
   "id": "f843198c-b815-48ad-bc34-8f54b9a98085",
   "metadata": {},
   "source": [
    ":::{card} マンションの管理と市場価値の関係\n",
    "\n",
    "[菊池 & 瀬田 (2011) 管理水準が高く資産価値を維持する中古マンションの情報開示に関する研究](https://www.jstage.jst.go.jp/article/uhs/2011/75/2011_90/_article/-char/ja/)\n",
    "\n",
    "**背景**\n",
    "\n",
    "[マンションみらいネット](https://www.mirainet.org/) などで管理情報を開示する動きがでてきたり、管理に注目が高まっている。\n",
    "\n",
    "**目的**\n",
    "\n",
    "情報開示に積極的で管理水準が高い中古マンションを対象に、市場価値の分析と管理組合・仲介業者へのヒアリングから当該マンションの特徴を把握し、管理と流通の関連に向けた提案を行う。\n",
    "\n",
    "**方法**\n",
    "\n",
    "以下の要件を満たすマンションを「管理水準が高いマンション」とする：\n",
    "\n",
    "1. 管理規約は標準管理規約に準拠している\n",
    "2. 長期修繕計画を作成している\n",
    "3. 大規模修繕工事を適正に実施している\n",
    "4. 管理組合は住民自治で運営している\n",
    "5. 共用部を適切に清掃 ・整理・手入れしている\n",
    "\n",
    "5つの管理水準が高いマンションを事例として選び出す。\n",
    "\n",
    "ヘドニック法を用い、これらのマンションの資産価値（市場価値）のが周辺物件と比べて高いのかを分析\n",
    "\n",
    "\n",
    "**結果**\n",
    "\n",
    "管理水準が高いマンションのほうが市場価値が高い傾向にあることがわかった\n",
    "\n",
    "::::\n",
    "\n"
   ]
  },
  {
   "cell_type": "markdown",
   "id": "38e53682-1c6c-4dd7-bf17-3b42fec07600",
   "metadata": {},
   "source": [
    ":::{card} マンションの管理が市場価格に及ぼす影響\n",
    "\n",
    "[太田 & 花里 (2023) 中古マンション市場価格に影響するマンション管理項目とその効果](https://www.jstage.jst.go.jp/article/aija/88/814/88_3197/_article/-char/ja/)\n",
    "\n",
    "平均的な物件は竣工年が上がるほど価格も下がっているのに、竣工年が上がっても価格が下がらないどころか上がる物件も一部に存在する。この理由は管理の良さではないか？という仮説のもと分析\n",
    "\n",
    "**方法**\n",
    "\n",
    "大和ライフネクストが管理する39物件について、REINSの成約価格を用いて分析\n",
    "\n",
    "国交省「マンションの管理の適正化の推進を図るための基本的な方針」などをもとに説明変数を考案\n",
    "\n",
    "- 積立金単価\n",
    "- 修繕費単価\n",
    "- 清掃費単価\n",
    "- 毎年の議決数\n",
    "- 賃貸率\n",
    "\n",
    "など\n",
    "\n",
    "目的変数は主に\n",
    "\n",
    "- 平均坪単価：物件ごとに複数回ある取引について平均\n",
    "- 成約坪単価差：物件の2回の取引の価格差\n",
    "\n",
    "\n",
    "**結果**\n",
    "\n",
    "管理費・修繕積立金の単価が価格に正の影響をもつ\n",
    "\n",
    "※物件の竣工年などは入れず管理項目だけの重回帰\n",
    "\n",
    "::::"
   ]
  },
  {
   "cell_type": "markdown",
   "id": "752fe6ef-118e-4920-ac4e-cae53ca7b04d",
   "metadata": {},
   "source": [
    ":::{card} 建物設備の修繕が価格に及ぼす影響\n",
    "\n",
    "[鈴木 & 新井 (2021) 建物設備の進化に伴う既存住宅の経済的陳腐化](https://www.jstage.jst.go.jp/article/aija/86/779/86_219/_article/-char/ja/)\n",
    "\n",
    "\n",
    "$$\n",
    "\\begin{aligned}\n",
    "\\ln P_i= & \\alpha + \\beta_1 \\text { ReformIn }_i\n",
    "+ \\beta_2 \\text { ReformOut }_i\n",
    "+ \\beta_3 \\text { Renovation }_i \\\\\n",
    "& +\\sum_k Y_k X_{k i}+\\text { City }_i+\\text { Time }_i+\\varepsilon_i\n",
    "\\end{aligned}\n",
    "$$\n",
    "\n",
    "- $P_i$：物件の価格\n",
    "- $\\text { ReformIn }_i$：内装のリフォームの有無\n",
    "- $\\text { ReformOut }_i$：外装のリフォームの有無\n",
    "- $\\text { Renovation }_i$：リノベーションの有無\n",
    "- $X_{ki}$：面積や最寄り駅などのコントロール変数\n",
    "\n",
    "\n",
    "というヘドニックモデルを構築し、\n",
    "\n",
    "- 内装リフォーム、外装リフォーム、リノベーションによって平均的に2~6%程度の価格の上昇がある\n",
    "\n",
    "\n",
    "::::"
   ]
  },
  {
   "cell_type": "markdown",
   "id": "2cc3573a-26ca-40c7-b8ff-d7b552d2eb32",
   "metadata": {},
   "source": [
    ":::{card} 建物設備の修繕が経年減価に及ぼす影響\n",
    "\n",
    "[鈴木 & 新井 (2021) 建物設備の進化に伴う既存住宅の経済的陳腐化](https://www.jstage.jst.go.jp/article/aija/86/779/86_219/_article/-char/ja/)\n",
    "\n",
    "物件のコホート（竣工年を10年刻みにしたカテゴリカル変数）と内装・外装リフォーム、リノベーションの有無の交互作用項を入れたヘドニックモデル\n",
    "\n",
    "$$\n",
    "\\begin{aligned}\n",
    "\\ln P_i= & \\alpha \n",
    "+ \\sum_j B_{0 j} \\text { Cohort }_{j i}\\\\\n",
    "& +\\sum_j B_{1 j}\\left(\\text { Cohort }_{j i} \\times \\text { ReformIn }_i\\right) \\\\\n",
    "& +\\sum_j B_{2 j}\\left(\\text { Cohort }_{j i} \\times \\text { ReformOut }_i\\right) \\\\\n",
    "& +\\sum_j B_{3 j}\\left(\\text { Cohort }_{j i} \\times \\text { Renovation }_i\\right) \\\\\n",
    "& +\\sum_k Y_k X_{k i}+\\text { City }_i+\\text { Time }_i+\\varepsilon_i\n",
    "\\end{aligned}\n",
    "$$\n",
    "\n",
    "を構築したところ\n",
    "\n",
    "- 築浅の物件に対する修繕では価格が有意に低下する\n",
    "- 築古の物件に対する修繕では価格が有意に上昇する\n",
    "\n",
    "という結果になった\n",
    "::::"
   ]
  }
 ],
 "metadata": {
  "kernelspec": {
   "display_name": "Python 3 (ipykernel)",
   "language": "python",
   "name": "python3"
  },
  "language_info": {
   "codemirror_mode": {
    "name": "ipython",
    "version": 3
   },
   "file_extension": ".py",
   "mimetype": "text/x-python",
   "name": "python",
   "nbconvert_exporter": "python",
   "pygments_lexer": "ipython3",
   "version": "3.10.18"
  }
 },
 "nbformat": 4,
 "nbformat_minor": 5
}
