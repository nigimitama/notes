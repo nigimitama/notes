{
 "cells": [
  {
   "cell_type": "markdown",
   "id": "d6e71d25-0285-48a3-8f2a-caf536247911",
   "metadata": {},
   "source": [
    "# 不動産価格指数"
   ]
  },
  {
   "cell_type": "markdown",
   "id": "d417f78c-d414-4e80-a9cd-6fe382d47382",
   "metadata": {},
   "source": [
    "## リピート・セールス法\n",
    "\n",
    "同じ物件の2回の取引を追跡したデータから、その取引間でどれだけ価格が変化したのかを測り、平均をとって指数化する方法。\n",
    "\n",
    "同じ物件での比較になるため、物件ごとの個体差を完全に統制できるのがメリット。他方でサンプル数の少なさに起因して結局バイアスが他の手法より多くなる状況もあるらしい。\n",
    "\n",
    "アメリカの「S&Pケース・シラー住宅価格指数」はこのタイプ。"
   ]
  },
  {
   "cell_type": "markdown",
   "id": "bf0cd711-ce64-4354-b1b0-bc9bed2d7d1c",
   "metadata": {},
   "source": [
    "\n",
    ":::{card} リピート・セールス法\n",
    "\n",
    "$T$期間があるとすると、基準期を1期目に固定し、各期の価格水準をダミー変数で表す。\n",
    "\n",
    "$$\n",
    "y_{i, s t}=\\sum_{k=2}^T \\beta_k D_{i, s t}^k+\\varepsilon_{i, s t}\n",
    "$$\n",
    "\n",
    "\n",
    "ここで\n",
    "\n",
    "- $y_{i, s t}$：物件$i$が時点$s$に価格$P_{is}$で取引され、時点$t$に再び価格$P_{it}$で取引されたときの価格変化の対数差$y_{i,st} := \\ln(P_{it}) - \\ln(P_{is})$\n",
    "- $D_{i, st}^k = 1$：取引ペア $(s,t)$ が期間 $k$ をまたいでいるとき\n",
    "- $D_{i, st}^k = 0$：それ以外\n",
    "\n",
    "つまり、ある物件が期間 $s$に購入され、期間 $t$に売却された場合、その間に合まれる各期のダミーが1になる。\n",
    "\n",
    ":::"
   ]
  },
  {
   "cell_type": "markdown",
   "id": "eb73115a-2391-41e9-82de-ec8468d06526",
   "metadata": {
    "jp-MarkdownHeadingCollapsed": true,
    "tags": []
   },
   "source": [
    "## ヘドニック法\n",
    "\n",
    "ヘドニック・アプローチ（=価格を目的変数にした回帰分析）に時点ダミーを入れ、時点ダミーの回帰係数をもとに指数を作成する\n",
    "\n",
    ":::{card} 不動産価格指数（住宅）の推計モデル\n",
    "\n",
    "$$\n",
    "\\ln p_n^t=\\beta_0+\\sum_{t=1}^\\tau \\delta^t D^t+\\sum_{k=1}^K \\beta_k z_{n k}^t+\\epsilon_n^t\n",
    "$$\n",
    "\n",
    "- $p_n^t$：時点 $t$ における不動産 $n$ の取引価格\n",
    "- $\\beta_0$：定数項\n",
    "- $\\delta^t$：$t$ 期における時間ダミーのパラメータ\n",
    "- $D^t$：時間ダミー変数（取引時点は 1 、それ以外では 0 となる（ただし基準時点は 0 ））\n",
    "- $\\beta_k$：住宅の属性 $k$ のパラメータ（ただし、 $\\tau$ 期間内では変化しないものとする）\n",
    "- $z_{n k}^t$：時点 $t$ における不動産 $n$ の属性 $k$ の属性値\n",
    "- $\\epsilon_n^t$ ：誤差項\n",
    "\n",
    "（出所：国土交通省『不動産価格指数（住宅）の作成方法』）\n",
    ":::"
   ]
  },
  {
   "cell_type": "markdown",
   "id": "15433a1d-3a52-4729-954a-6fd74ac4ccba",
   "metadata": {},
   "source": [
    "## 参考\n",
    "\n",
    "[建設産業・不動産業：不動産価格指数 - 国土交通省](https://www.mlit.go.jp/totikensangyo/totikensangyo_tk5_000085.html)"
   ]
  }
 ],
 "metadata": {
  "kernelspec": {
   "display_name": "Python 3 (ipykernel)",
   "language": "python",
   "name": "python3"
  },
  "language_info": {
   "codemirror_mode": {
    "name": "ipython",
    "version": 3
   },
   "file_extension": ".py",
   "mimetype": "text/x-python",
   "name": "python",
   "nbconvert_exporter": "python",
   "pygments_lexer": "ipython3",
   "version": "3.10.18"
  }
 },
 "nbformat": 4,
 "nbformat_minor": 5
}
