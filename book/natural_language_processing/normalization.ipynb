{
 "cells": [
  {
   "cell_type": "markdown",
   "id": "d8a5317d-4668-4629-a8d2-65ee019de7a7",
   "metadata": {
    "editable": true,
    "slideshow": {
     "slide_type": ""
    },
    "tags": []
   },
   "source": [
    "## テキストデータの前処理：表記揺れ、正規化"
   ]
  },
  {
   "cell_type": "markdown",
   "id": "d20e7440-f535-4122-a946-f015b9852da2",
   "metadata": {},
   "source": [
    "## 表記ゆれと正規化\n",
    "\n",
    "同じものを表す文字列が複数あることを **表記ゆれ** という。\n",
    "\n",
    "同じものを一意な文字列に揃えることを **正規化** （normalization） という。\n",
    "\n",
    "自分で正規化のルールを書いてもいいが、便利なパッケージもある。\n",
    "\n"
   ]
  },
  {
   "cell_type": "markdown",
   "id": "d54cc81a-a1fe-41da-9b52-7bf386b430b1",
   "metadata": {},
   "source": [
    "### `unicodedata` パッケージ\n",
    "\n",
    "Pythonに標準で入っているunicodedataパッケージを使う方法\n",
    "\n",
    "```python\n",
    "import unicodedata\n",
    "unicodedata.normalize(\"NFKC\", \"金額は￥１６８０です\")\n",
    "# -> '金額は¥1680です'\n",
    "unicodedata.normalize(\"NFKC\", \"㈱\")\n",
    "# -> '(株)'\n",
    "```\n",
    "\n",
    "参考：[Unicode正規化 - Wikipedia](https://ja.wikipedia.org/wiki/Unicode%E6%AD%A3%E8%A6%8F%E5%8C%96)\n"
   ]
  },
  {
   "cell_type": "markdown",
   "id": "b87cd423-6b5a-4470-9bc2-944f4e471a35",
   "metadata": {
    "editable": true,
    "slideshow": {
     "slide_type": ""
    },
    "tags": []
   },
   "source": [
    "### `neologdn` パッケージ\n",
    "\n",
    "MeCabのために作られた正規化パッケージ。\n",
    "\n",
    "細かなパラメータ調整は難しそう（この正規化の機能は無効化したい、とかはできなさそう）だが、手軽に高機能な強い正規化を掛けられる\n",
    "\n",
    "[ikegami-yukino/neologdn: Japanese text normalizer for mecab-neologd](https://github.com/ikegami-yukino/neologdn)\n",
    "\n",
    "```python\n",
    "import neologdn\n",
    "neologdn.normalize(\"ﾊﾝｶｸｶﾅ\")\n",
    "# => 'ハンカクカナ'\n",
    "neologdn.normalize(\"全角記号！？＠＃\")\n",
    "# => '全角記号!?@#'\n",
    "neologdn.normalize(\"全角記号例外「・」\")\n",
    "# => '全角記号例外「・」'\n",
    "neologdn.normalize(\"いろんなハイフン˗֊‐‑‒–⁃⁻₋−\")\n",
    "# => 'いろんなハイフン-'\n",
    "neologdn.normalize(\"　　　ＰＲＭＬ　　副　読　本　　　\")\n",
    "# => 'PRML副読本'\n",
    "```\n",
    "\n"
   ]
  }
 ],
 "metadata": {
  "kernelspec": {
   "display_name": "Python 3 (ipykernel)",
   "language": "python",
   "name": "python3"
  },
  "language_info": {
   "codemirror_mode": {
    "name": "ipython",
    "version": 3
   },
   "file_extension": ".py",
   "mimetype": "text/x-python",
   "name": "python",
   "nbconvert_exporter": "python",
   "pygments_lexer": "ipython3",
   "version": "3.9.18"
  }
 },
 "nbformat": 4,
 "nbformat_minor": 5
}
