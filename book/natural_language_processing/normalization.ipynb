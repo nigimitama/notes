{
 "cells": [
  {
   "cell_type": "markdown",
   "id": "d8a5317d-4668-4629-a8d2-65ee019de7a7",
   "metadata": {
    "editable": true,
    "slideshow": {
     "slide_type": ""
    },
    "tags": []
   },
   "source": [
    "## テキストデータの前処理：表記揺れ、正規化"
   ]
  },
  {
   "cell_type": "markdown",
   "id": "d20e7440-f535-4122-a946-f015b9852da2",
   "metadata": {},
   "source": [
    "## 表記ゆれと正規化\n",
    "\n",
    "同じものを表す文字列が複数あることを **表記ゆれ** という。\n",
    "\n",
    "同じものを一意な文字列に揃えることを **正規化** （normalization） という。\n",
    "\n",
    "自分で正規化のルールを書いてもいいが、便利なパッケージもある。\n",
    "\n"
   ]
  },
  {
   "cell_type": "markdown",
   "id": "d54cc81a-a1fe-41da-9b52-7bf386b430b1",
   "metadata": {},
   "source": [
    "### `unicodedata` パッケージ\n",
    "\n",
    "Pythonに標準で入っているunicodedataパッケージを使う方法\n",
    "\n",
    "```python\n",
    "import unicodedata\n",
    "unicodedata.normalize(\"NFKC\", \"金額は￥１６８０です\")\n",
    "# -> '金額は¥1680です'\n",
    "unicodedata.normalize(\"NFKC\", \"㈱\")\n",
    "# -> '(株)'\n",
    "```\n",
    "\n",
    "参考：[Unicode正規化 - Wikipedia](https://ja.wikipedia.org/wiki/Unicode%E6%AD%A3%E8%A6%8F%E5%8C%96)\n"
   ]
  },
  {
   "cell_type": "markdown",
   "id": "b87cd423-6b5a-4470-9bc2-944f4e471a35",
   "metadata": {
    "editable": true,
    "slideshow": {
     "slide_type": ""
    },
    "tags": []
   },
   "source": [
    "### `neologdn` パッケージ\n",
    "\n",
    "MeCabのために作られた正規化パッケージ。\n",
    "\n",
    "細かなパラメータ調整は難しそう（この正規化の機能は無効化したい、とかはできなさそう）だが、手軽に高機能な強い正規化を掛けられる\n",
    "\n",
    "[ikegami-yukino/neologdn: Japanese text normalizer for mecab-neologd](https://github.com/ikegami-yukino/neologdn)\n",
    "\n",
    "```python\n",
    "import neologdn\n",
    "neologdn.normalize(\"ﾊﾝｶｸｶﾅ\")\n",
    "# => 'ハンカクカナ'\n",
    "neologdn.normalize(\"全角記号！？＠＃\")\n",
    "# => '全角記号!?@#'\n",
    "neologdn.normalize(\"全角記号例外「・」\")\n",
    "# => '全角記号例外「・」'\n",
    "neologdn.normalize(\"いろんなハイフン˗֊‐‑‒–⁃⁻₋−\")\n",
    "# => 'いろんなハイフン-'\n",
    "neologdn.normalize(\"　　　ＰＲＭＬ　　副　読　本　　　\")\n",
    "# => 'PRML副読本'\n",
    "```\n",
    "\n"
   ]
  },
  {
   "cell_type": "markdown",
   "id": "5b8d1279-7ca5-4c67-9369-d2c257d6ed5d",
   "metadata": {},
   "source": [
    "## 文字列の距離\n",
    "\n",
    "似てる表現の文字列については同じものを指していると考えて統合させて正規化する方法も考えられる。そのために、同じものを指している表記揺れ表現たちは「距離」が近くなるような尺度が欲しくなる。\n",
    "\n",
    "文字列同士の距離を測りたいとき、大別して以下の方法がある\n",
    "\n",
    "1. 文字たちの類似度を測る\n",
    "2. 文字列をベクトルに埋め込んで、ベクトル間の類似度を測る\n",
    "\n",
    "「1. 文字たちの類似度を測る」はレーベンシュタイン距離が最も有名。\n",
    "\n",
    "「2. 文字列をベクトルに埋め込んで、ベクトル間の類似度を測る」の代表例にはTF-IDFやWord2Vecなどがある。"
   ]
  },
  {
   "cell_type": "markdown",
   "id": "d1f43987-9714-4bd5-8683-124a8e73a5b8",
   "metadata": {},
   "source": [
    "### レーベンシュタイン距離\n",
    "\n",
    "レーベンシュタイン距離（編集距離）は2つの文字列についての距離であり、1文字の挿入・削除・置換によって、一方の文字列をもう一方の文字列に変形するのに必要な手順の最小回数を意味する。\n"
   ]
  },
  {
   "cell_type": "code",
   "execution_count": 3,
   "id": "6ee43e6d-4f9b-4f1d-9bcf-1cd6a3302e7e",
   "metadata": {},
   "outputs": [
    {
     "data": {
      "text/plain": [
       "2"
      ]
     },
     "execution_count": 3,
     "metadata": {},
     "output_type": "execute_result"
    }
   ],
   "source": [
    "from rapidfuzz.distance import DamerauLevenshtein\n",
    "DamerauLevenshtein.distance(\"CA\", \"ABC\")"
   ]
  },
  {
   "cell_type": "code",
   "execution_count": 5,
   "id": "1ace9458-9786-4aab-bacb-26d53a518643",
   "metadata": {},
   "outputs": [
    {
     "data": {
      "text/plain": [
       "4"
      ]
     },
     "execution_count": 5,
     "metadata": {},
     "output_type": "execute_result"
    }
   ],
   "source": [
    "DamerauLevenshtein.distance(\"トヨタ自動車株式会社\", \"トヨタ自動車\")"
   ]
  },
  {
   "cell_type": "code",
   "execution_count": 6,
   "id": "39e42c1f-4052-464e-ba1c-faf6042871cd",
   "metadata": {},
   "outputs": [
    {
     "data": {
      "text/plain": [
       "0.6"
      ]
     },
     "execution_count": 6,
     "metadata": {},
     "output_type": "execute_result"
    }
   ],
   "source": [
    "DamerauLevenshtein.normalized_similarity(\"トヨタ自動車株式会社\", \"トヨタ自動車\")"
   ]
  },
  {
   "cell_type": "code",
   "execution_count": 8,
   "id": "e1fd6cee-b2b5-42d5-972b-854bde5e42cf",
   "metadata": {},
   "outputs": [
    {
     "data": {
      "text/plain": [
       "0.30000000000000004"
      ]
     },
     "execution_count": 8,
     "metadata": {},
     "output_type": "execute_result"
    }
   ],
   "source": [
    "DamerauLevenshtein.normalized_similarity(\"トヨタ自動車株式会社\", \"日産自動車\")"
   ]
  }
 ],
 "metadata": {
  "kernelspec": {
   "display_name": "Python 3 (ipykernel)",
   "language": "python",
   "name": "python3"
  },
  "language_info": {
   "codemirror_mode": {
    "name": "ipython",
    "version": 3
   },
   "file_extension": ".py",
   "mimetype": "text/x-python",
   "name": "python",
   "nbconvert_exporter": "python",
   "pygments_lexer": "ipython3",
   "version": "3.10.13"
  }
 },
 "nbformat": 4,
 "nbformat_minor": 5
}
