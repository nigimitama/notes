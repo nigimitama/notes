{
 "cells": [
  {
   "cell_type": "markdown",
   "id": "5c93df23-95c9-4de3-a2ce-35d72e86daba",
   "metadata": {},
   "source": [
    "# Latent Dirichlet Allocation (LDA)"
   ]
  },
  {
   "cell_type": "markdown",
   "id": "b62240dc-1a72-4b39-851c-49b7aba7d4b7",
   "metadata": {},
   "source": [
    "テキストデータからトピック（話題）を抽出するモデルを **トピックモデル（Topic Modeling）** という。\n",
    "\n",
    "LDA （Latent Dirichlet Allocation: 潜在的ディリクレ配分法） は代表的なトピックモデルのひとつ。「トピックモデル＝LDA」のような扱われ方をされるくらい。"
   ]
  },
  {
   "cell_type": "markdown",
   "id": "ab759c8d-d950-48be-bcc4-6a5ebb332e0b",
   "metadata": {},
   "source": [
    "## ディリクレ分布"
   ]
  },
  {
   "cell_type": "markdown",
   "id": "356ca38a-62a6-4c94-98bb-cd21d92039fa",
   "metadata": {},
   "source": []
  },
  {
   "cell_type": "markdown",
   "id": "649087f3-c1b6-46e5-86d8-197505b6fde3",
   "metadata": {},
   "source": [
    "## 実装\n",
    "\n",
    "[models.ldamodel – Latent Dirichlet Allocation — gensim](https://radimrehurek.com/gensim/models/ldamodel.html)"
   ]
  },
  {
   "cell_type": "markdown",
   "id": "24e550c2-4198-4e95-a3e0-af879f862f75",
   "metadata": {},
   "source": [
    "## 応用研究\n",
    "\n",
    "- [里村卓也. (2018). トピックモデルによる顧客データの統合的分析. オペレーションズ・リサーチ: 経営の科学, 63(2), 67-74.](https://orsj.org/wp-content/corsj/or63-2/or63_2_67.pdf)\n"
   ]
  },
  {
   "cell_type": "markdown",
   "id": "e8250611-bf13-4783-a451-73d67bf1f002",
   "metadata": {},
   "source": [
    "## 参考\n",
    "\n",
    "佐藤一誠. (2015). トピックモデルによる統計的潜在意味解析."
   ]
  }
 ],
 "metadata": {
  "kernelspec": {
   "display_name": "Python 3 (ipykernel)",
   "language": "python",
   "name": "python3"
  },
  "language_info": {
   "codemirror_mode": {
    "name": "ipython",
    "version": 3
   },
   "file_extension": ".py",
   "mimetype": "text/x-python",
   "name": "python",
   "nbconvert_exporter": "python",
   "pygments_lexer": "ipython3",
   "version": "3.10.15"
  }
 },
 "nbformat": 4,
 "nbformat_minor": 5
}
