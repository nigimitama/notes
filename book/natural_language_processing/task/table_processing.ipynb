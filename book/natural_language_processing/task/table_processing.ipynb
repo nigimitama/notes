{
 "cells": [
  {
   "cell_type": "markdown",
   "id": "6429b441-48dd-4e1c-98d4-b83250d67ae1",
   "metadata": {},
   "source": [
    "# 表の読み取りや処理（Table Processing）"
   ]
  },
  {
   "cell_type": "markdown",
   "id": "480cf6f7-71bc-4aa9-9d09-82a7ccc57b5d",
   "metadata": {},
   "source": [
    "[\\[2402.05121\\] Large Language Model for Table Processing: A Survey](https://arxiv.org/abs/2402.05121)"
   ]
  },
  {
   "cell_type": "markdown",
   "id": "90a282c1-2aeb-4e73-9cc9-950bfcacbfa8",
   "metadata": {},
   "source": [
    "\r\n",
    "\r\n",
    "|         Task Name         | Table Type |                  Description (related work)                  |                       Example Dataset                        |\r\n",
    "| :-----------------------: | :--------: | :----------------------------------------------------------: | :----------------------------------------------------------: |\r\n",
    "|         Table QA          |     WT     | Answer a NL question given a table ( [[28](https://arxiv.org/html/2402.05121v2#bib.bib28), [29](https://arxiv.org/html/2402.05121v2#bib.bib29)]) | WikiTableQuestion [[30](https://arxiv.org/html/2402.05121v2#bib.bib30)] |\r\n",
    "|  Tablefact verification   |     WT     | Verifying facts given a table ( [[29](https://arxiv.org/html/2402.05121v2#bib.bib29), [31](https://arxiv.org/html/2402.05121v2#bib.bib31)]) | TabFact [[32](https://arxiv.org/html/2402.05121v2#bib.bib32)] |\r\n",
    "|       Table-to-text       |     WT     | Produce a NL question given a table ( [[11](https://arxiv.org/html/2402.05121v2#bib.bib11)]) | ToTTo [[33](https://arxiv.org/html/2402.05121v2#bib.bib33)]  |\r\n",
    "|       Data cleaning       |  WT/SS/DB  | Correct errors of table data ( [[34](https://arxiv.org/html/2402.05121v2#bib.bib34), [35](https://arxiv.org/html/2402.05121v2#bib.bib35)]) |                              -                               |\r\n",
    "| Column/Row/Cellpopulation |  WT/SS/DB  | Populate possible column/row/cell for a table ( [[11](https://arxiv.org/html/2402.05121v2#bib.bib11), [12](https://arxiv.org/html/2402.05121v2#bib.bib12)]) |   TURL [[9](https://arxiv.org/html/2402.05121v2#bib.bib9)]   |\r\n",
    "|      Entity linking       |     WT     | Link the selected entity to the knowledge base ( [[11](https://arxiv.org/html/2402.05121v2#bib.bib11), [12](https://arxiv.org/html/2402.05121v2#bib.bib12)]) |   TURL [[9](https://arxiv.org/html/2402.05121v2#bib.bib9)]   |\r\n",
    "|   Column typeannotation   |     WT     | Choose types for the column in the table ( [[11](https://arxiv.org/html/2402.05121v2#bib.bib11), [12](https://arxiv.org/html/2402.05121v2#bib.bib12)]) |   TURL [[9](https://arxiv.org/html/2402.05121v2#bib.bib9)]   |\r\n",
    "|  Spreadsheetmanipulation  |     SS     | Manipulate spreadsheets ( [[16](https://arxiv.org/html/2402.05121v2#bib.bib16), [36](https://arxiv.org/html/2402.05121v2#bib.bib36)]) | SpreadsheetBench [[37](https://arxiv.org/html/2402.05121v2#bib.bib37)] |\r\n",
    "|          NL2SQL           |     DB     | Translate a NL question to a SQL query ( [[38](https://arxiv.org/html/2402.05121v2#bib.bib38), [39](https://arxiv.org/html/2402.05121v2#bib.bib39)]) | Spider [[40](https://arxiv.org/html/2402.05121v2#bib.bib40)] |\r\n",
    "|       Data analysis       |   SS/DB    | Table data analysis pipeline, consists offeature engineering, machine learning, etc. ( [[41](https://arxiv.org/html/2402.05121v2#bib.bib41), [42](https://arxiv.org/html/2402.05121v2#bib.bib42)]) | DS-1000 [[43](https://arxiv.org/html/2402.05121v2#bib.bib43)] |\r\n",
    "|      Table detection      |    DOC     | Locate tables in documents ( [[44](https://arxiv.org/html/2402.05121v2#bib.bib44)]) | TableBank [[45](https://arxiv.org/html/2402.05121v2#bib.bib45)] |\r\n",
    "|     Table extraction      |    DOC     | Extract and structuralize tables from documents ( [[46](https://arxiv.org/html/2402.05121v2#bib.bib46), [44](https://arxiv.org/html/2402.05121v2#bib.bib44)]) | PubTabNet [[47](https://arxiv.org/html/2402.05121v2#bib.bib47)] |\r\n",
    "\r\n"
   ]
  },
  {
   "cell_type": "markdown",
   "id": "15b50f66-9f7f-46bc-9272-ccb058026b87",
   "metadata": {},
   "source": [
    "## 有価証券報告書の読み取り\n",
    "\n",
    "[NTCIR-18 U4 (UFO 2.0)](https://sites.google.com/view/ntcir18-u4/)\n",
    "\n",
    "### [UFO 2024](https://sites.google.com/view/ufo-2024/)（有報読み取りコンペ）\n",
    "\n",
    "背景： [有価証券報告書の表を対象としたコンペティションの提案](https://www.jstage.jst.go.jp/article/jsaisigtwo/2024/FIN-033/2024_135/_article/-char/ja)\n",
    "\n",
    "タスク：\n",
    "\n",
    "- Table Retrievalタスク：質問に該当する表を検索する\n",
    "    - https://sites.google.com/view/ufo-2024/subtasks/table-retrieval\n",
    "- Table QAタスク：単一の表から、質問に該当するセルのID or 値を取り出すタスク\n",
    "    - https://sites.google.com/view/ufo-2024/subtasks/table-qa"
   ]
  },
  {
   "cell_type": "code",
   "execution_count": null,
   "id": "696e228c-a177-46c0-8907-ce5bcd0f0b6e",
   "metadata": {},
   "outputs": [],
   "source": []
  }
 ],
 "metadata": {
  "kernelspec": {
   "display_name": "Python 3 (ipykernel)",
   "language": "python",
   "name": "python3"
  },
  "language_info": {
   "codemirror_mode": {
    "name": "ipython",
    "version": 3
   },
   "file_extension": ".py",
   "mimetype": "text/x-python",
   "name": "python",
   "nbconvert_exporter": "python",
   "pygments_lexer": "ipython3",
   "version": "3.10.15"
  }
 },
 "nbformat": 4,
 "nbformat_minor": 5
}
