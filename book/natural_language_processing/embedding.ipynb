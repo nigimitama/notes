{
 "cells": [
  {
   "cell_type": "markdown",
   "id": "788e855f-d8f2-49cf-937a-a500e375a5eb",
   "metadata": {},
   "source": [
    "# 単語埋め込み\n",
    "\n",
    "ディープラーニングが自然言語処理に活用され始める前は、単語を計算可能なベクトルに変換する処理としては、文書集合内の各単語がある文書に出現した場合に1を、そうでない場合は0を出すようなBag of Wordsというものがよく用いられた。\n",
    "\n",
    "ディープラーニングが活用されるようになり登場したものが単語の**埋め込み**（embedding）や**分散表現**（distributed representation）と呼ばれるもので、これらは$\\{0, 1\\}$に限らない値をとり、また次元数を語彙の数よりも小さく（次元圧縮）することもできる。\n",
    "\n",
    "有名なのはWord2VecやElMoである。両者の大まかな違いとしては、Word2Vecは単語ごとに一意な分散表現になるが、ElMoは文脈によって分散表現が変わるということ。\n",
    "例えば「彼はスポーツが下手だ」と「彼はいつも下手に出がちだ」は同じ「下手」という語だが意味が異なる。Word2Vecはこのような文脈を考慮しないが、ElMoは考慮する。"
   ]
  },
  {
   "cell_type": "markdown",
   "id": "4f426cd2-ea2c-487e-aeb4-97a5e7e7fffa",
   "metadata": {},
   "source": [
    "## 言語モデル\n",
    "\n",
    "embeddingを直接推定するのではなく、単語予測モデル（言語モデル）を構築して副次的にembeddingを取得することになる。\n",
    "\n",
    "言語モデルとは、尤もらしい文章を生成できるような確率分布を習得するために、文章の確率を推定するモデルのこと。\n",
    "\n",
    "ある文章$S$をトークン化したのを$(w_1, w_2, \\cdots, w_n)$と表記するならば、\n",
    "\n",
    "$$\n",
    "P(S)=P(w_1, w_2, \\cdots, w_n)\n",
    "$$\n",
    "\n",
    "を求めたいということになる。これは条件付き確率の積として表せる\n",
    "\n",
    "$$\n",
    "\\begin{align}\n",
    "P(w_1, w_2, \\cdots, w_n)\n",
    "&= P(w_1) \\times P(w_2|w_1) \\times P(w_3|w_1, w_2) \\times \\cdots\\\\\n",
    "&= \\prod_{i=1}^n p(w_i|\\boldsymbol{c}_i)\n",
    "\\end{align}\n",
    "$$\n",
    "\n",
    "ここで$\\boldsymbol{c}_i$は$w_i$より前のトークン列$\\boldsymbol{c}_i=(w_1,w_2,\\cdots,w_n)$で、**文脈**（context）と呼ばれる\n",
    "\n"
   ]
  },
  {
   "cell_type": "markdown",
   "id": "cb4fe48a-15f3-45d0-840d-8698dc579c9e",
   "metadata": {},
   "source": [
    "## Word2Vec\n",
    "\n",
    "```\n",
    "King - Man + Woman = Queen\n",
    "```\n",
    "のような語彙間の類似度や計算が可能な表現\n",
    "\n",
    "\n",
    "### Word2Vecのアプローチは複数ある\n",
    "\n",
    "\n",
    "\n",
    "\n",
    "Word2Vecの方法は、\n",
    "\n",
    "1. CBOW (continuous bag of words)\n",
    "2. Skip-Gram\n",
    "\n",
    "の2種類あり、またそのままでは計算量が多すぎるために計算量削減の方法として\n",
    "\n",
    "1. Hierarchical Softmax\n",
    "2. Noise Constrastive Estimation\n",
    "3. Negative Sampling\n",
    "\n",
    "の方法があるため、組み合わせとしては2×3の6通りのモデルの組み方がある\n"
   ]
  },
  {
   "cell_type": "markdown",
   "id": "24c8df3b-6129-4c5a-9562-32ad093027a0",
   "metadata": {},
   "source": [
    "### CBOW\n",
    "\n",
    "**CBOW** (continuous bag of words)モデルは文章$S=(w_1, w_2, \\dots, w_n)$が与えられた時、その$i$番目の単語$w_i$を、\n",
    "その周りの単語である文脈$\\boldsymbol{C}_i=(w_{i-c}, \\dots, w_{i-1}, w_{i+1}, \\dots, w_{i+c})$から予測するモデルである。ここで$c$はウィンドウサイズと呼ばれるハイパーパラメータ。\n",
    "\n",
    "\n",
    "\n",
    "\n",
    "\n"
   ]
  },
  {
   "cell_type": "code",
   "execution_count": 2,
   "id": "5cfc653f-7f43-43b0-b2d1-29f508559381",
   "metadata": {},
   "outputs": [],
   "source": [
    "from gensim.models import word2vec"
   ]
  },
  {
   "cell_type": "code",
   "execution_count": null,
   "id": "218e0b49-c556-40ab-8f44-097e009734fa",
   "metadata": {},
   "outputs": [],
   "source": []
  },
  {
   "cell_type": "markdown",
   "id": "fe88711c-6f8f-473a-98fb-89efc614f81d",
   "metadata": {},
   "source": [
    "### 参考文献\n",
    "\n",
    "- https://code.google.com/archive/p/word2vec/\n",
    "- [[1310.4546] Distributed Representations of Words and Phrases and their Compositionality](https://arxiv.org/abs/1310.4546)"
   ]
  },
  {
   "cell_type": "markdown",
   "id": "d3b6da5b-9463-4a1f-88ca-2dc8a11a5db9",
   "metadata": {},
   "source": []
  },
  {
   "cell_type": "code",
   "execution_count": null,
   "id": "5150edb6-45fa-4e68-8990-b7324554fcea",
   "metadata": {},
   "outputs": [],
   "source": []
  }
 ],
 "metadata": {
  "kernelspec": {
   "display_name": "Python 3",
   "language": "python",
   "name": "python3"
  },
  "language_info": {
   "codemirror_mode": {
    "name": "ipython",
    "version": 3
   },
   "file_extension": ".py",
   "mimetype": "text/x-python",
   "name": "python",
   "nbconvert_exporter": "python",
   "pygments_lexer": "ipython3",
   "version": "3.8.10"
  }
 },
 "nbformat": 4,
 "nbformat_minor": 5
}
