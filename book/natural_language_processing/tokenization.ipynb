{
 "cells": [
  {
   "cell_type": "markdown",
   "id": "f9a62361-2ffc-4c34-b987-eeb116bd9f9a",
   "metadata": {
    "editable": true,
    "slideshow": {
     "slide_type": ""
    },
    "tags": []
   },
   "source": [
    "# トークン化\n",
    "\n",
    "**トークン化**（tokenization）とは、文を適当な単位に分割すること。分割された文の構成要素のことを**トークン**（token）と呼ぶ。\n",
    "\n",
    "自然言語処理においては、文章を計算可能な形状にするためにトークンへと分割し、対応するidを割り振っていく。\n",
    "\n",
    "ニューラルネットワークなどのアルゴリズムで作られるモデルにとって訓練時に見かけなかったトークンは**未知語**と呼ばれ、予測時には無視するか未知語を表す特定のidにマッピングされ、元の文字列の情報を損失してしまう。そのため、トークン化に際しては未知語を可能な限り少なくすることが望ましい。\n",
    "\n",
    "トークン化の方法は主に\n",
    "\n",
    "1. 単語分割（単語単位に分割する）\n",
    "2. サブワード分割（単語をさらにサブワード単位に分割する）\n",
    "3. 文字分割（文字単位に分割する）\n",
    "\n",
    "の3種類の分割方法がある。\n",
    "\n",
    "\n",
    "### 単語分割\n",
    "\n",
    "英語ならスペースで区切ればよい\n",
    "\n",
    "日本語の場合、形態素という単位に分割する形態素解析という技術を使う。\n",
    "\n",
    "\n",
    "### サブワード分割\n",
    "\n",
    "例えば\n",
    "\n",
    "```python\n",
    "[\"東京タワー\", \"大阪大学\", \"東京大学\"]\n",
    "```\n",
    "\n",
    "といった語彙があるとき、サブワードの語彙は次のようなものが考えられる。\n",
    "\n",
    "```python\n",
    "[\"東京\", \"大阪\", \"##タワー\", \"##大学\"]\n",
    "```\n",
    "\n",
    "地名と「##タワー」「##大学」を組み合わせれば元の語彙を表現できる。\n",
    "\n",
    "\n",
    "OpenAIの[Tokenizer](https://platform.openai.com/tokenizer)を使うとTokenが可視化されてイメージが付きやすい（ただし英語のみ）"
   ]
  },
  {
   "cell_type": "markdown",
   "id": "ae50acf9-6e14-4e3d-8571-384cfe578c30",
   "metadata": {
    "editable": true,
    "slideshow": {
     "slide_type": ""
    },
    "tags": []
   },
   "source": [
    "## 形態素解析\n",
    "\n",
    "形態素解析は、形態素（意味の最小単位）に分割する方法。おおむね単語分割のようになる。\n",
    "\n",
    "MeCabが有名だが、MeCab本体を入れる必要があるし、本体の更新がしばらく止まっている。\n",
    "\n",
    "Sudachiは本体の実装がまだあり、[SudachiPy](https://github.com/WorksApplications/SudachiPy)だけ入れればすぐ使えるので使いやすそう\n",
    "\n",
    "\n",
    "```python\n",
    "from sudachipy import tokenizer\n",
    "from sudachipy import dictionary\n",
    "\n",
    "tokenizer_obj = dictionary.Dictionary().create()\n",
    "\n",
    "# Multi-granular Tokenization\n",
    "\n",
    "mode = tokenizer.Tokenizer.SplitMode.C\n",
    "[m.surface() for m in tokenizer_obj.tokenize(\"国家公務員\", mode)]\n",
    "# => ['国家公務員']\n",
    "\n",
    "mode = tokenizer.Tokenizer.SplitMode.B\n",
    "[m.surface() for m in tokenizer_obj.tokenize(\"国家公務員\", mode)]\n",
    "# => ['国家', '公務員']\n",
    "```"
   ]
  }
 ],
 "metadata": {
  "kernelspec": {
   "display_name": "Python 3 (ipykernel)",
   "language": "python",
   "name": "python3"
  },
  "language_info": {
   "codemirror_mode": {
    "name": "ipython",
    "version": 3
   },
   "file_extension": ".py",
   "mimetype": "text/x-python",
   "name": "python",
   "nbconvert_exporter": "python",
   "pygments_lexer": "ipython3",
   "version": "3.9.18"
  }
 },
 "nbformat": 4,
 "nbformat_minor": 5
}
