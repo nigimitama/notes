{
 "cells": [
  {
   "cell_type": "markdown",
   "id": "01f3a329-3a5c-4edd-9e28-d182bd8a4ad6",
   "metadata": {},
   "source": [
    "# 言語モデルとRNN"
   ]
  },
  {
   "cell_type": "markdown",
   "id": "de493af8-bdff-4059-a107-df4f4cbf4298",
   "metadata": {},
   "source": [
    "## 言語モデル\n",
    "\n",
    "embeddingを直接推定するのではなく、単語予測モデル（言語モデル）を構築して副次的にembeddingを取得することになる。\n",
    "\n",
    "言語モデルとは、尤もらしい文章を生成できるような確率分布を習得するために、文章の確率を推定するモデルのこと。\n",
    "\n",
    "ある文章$S$をトークン化したのを$(w_1, w_2, \\cdots, w_n)$と表記するならば、\n",
    "\n",
    "$$\n",
    "P(S)=P(w_1, w_2, \\cdots, w_n)\n",
    "$$\n",
    "\n",
    "を求めたいということになる。これは条件付き確率の積として表せる\n",
    "\n",
    "$$\n",
    "\\begin{align}\n",
    "P(w_1, w_2, \\cdots, w_n)\n",
    "&= P(w_1) \\times P(w_2|w_1) \\times P(w_3|w_1, w_2) \\times \\cdots\\\\\n",
    "&= \\prod_{i=1}^n p(w_i|\\boldsymbol{c}_i)\n",
    "\\end{align}\n",
    "$$\n",
    "\n",
    "ここで$\\boldsymbol{c}_i$は$w_i$より前のトークン列$\\boldsymbol{c}_i=(w_1,w_2,\\cdots,w_{i-1})$で、**文脈**（context）と呼ばれる\n",
    "\n"
   ]
  },
  {
   "cell_type": "markdown",
   "id": "1d49e174-0bf4-4800-946a-c38945acef3f",
   "metadata": {},
   "source": [
    ":::{note} 同時確率の分解\n",
    "\n",
    "これは確率の乗法定理\n",
    "\n",
    "$$\n",
    "P(A,B) = P(A|B) P(B)\n",
    "$$\n",
    "\n",
    "に基づく。\n",
    "\n",
    "\n",
    "$w_m$までの単語を$C_m$とすると、\n",
    "\n",
    "$$\n",
    "P(\\underbrace{w_1, \\dots, w_{m-1}}_{C_m}, w_m)\n",
    "= P(C_m, w_m)\n",
    "= P(w_m | C_m) P(C_m)\n",
    "$$\n",
    "\n",
    "さらに\n",
    "\n",
    "$$\n",
    "P(C_m) = \n",
    "P(\\underbrace{w_1, \\dots, w_{m-2}}_{C_{m-1}}, w_{m-1})\n",
    "= P(C_{m-1}, w_{m-1})\n",
    "= P(w_{m-1} | C_{m-1}) P(C_{m-1})\n",
    "$$\n",
    "\n",
    "となる。これを繰り返すことで上記のようになる\n",
    ":::"
   ]
  },
  {
   "cell_type": "markdown",
   "id": "99030982-02e4-4d5f-947d-1202fb946a2c",
   "metadata": {},
   "source": []
  },
  {
   "cell_type": "code",
   "execution_count": null,
   "id": "446ded12-f65a-4061-853d-1ef2883b911e",
   "metadata": {},
   "outputs": [],
   "source": []
  }
 ],
 "metadata": {
  "kernelspec": {
   "display_name": "Python 3",
   "language": "python",
   "name": "python3"
  },
  "language_info": {
   "codemirror_mode": {
    "name": "ipython",
    "version": 3
   },
   "file_extension": ".py",
   "mimetype": "text/x-python",
   "name": "python",
   "nbconvert_exporter": "python",
   "pygments_lexer": "ipython3",
   "version": "3.8.10"
  }
 },
 "nbformat": 4,
 "nbformat_minor": 5
}
