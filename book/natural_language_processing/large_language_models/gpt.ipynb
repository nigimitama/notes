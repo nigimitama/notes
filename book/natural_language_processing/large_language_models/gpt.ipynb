{
 "cells": [
  {
   "cell_type": "markdown",
   "id": "3efd25f0-a6e2-41d2-bf0f-adeecc4c42aa",
   "metadata": {},
   "source": [
    "# GPT series"
   ]
  },
  {
   "cell_type": "markdown",
   "id": "f3250ebd-09ba-46ef-9640-e26a7e783769",
   "metadata": {},
   "source": [
    "## GPT-4\n",
    "\n",
    "[[2303.08774] GPT-4 Technical Report](https://arxiv.org/abs/2303.08774)"
   ]
  },
  {
   "cell_type": "code",
   "execution_count": null,
   "id": "98a94e08-cd73-47d5-84ed-a37ddcbad0ce",
   "metadata": {},
   "outputs": [],
   "source": []
  }
 ],
 "metadata": {
  "kernelspec": {
   "display_name": "Python 3",
   "language": "python",
   "name": "python3"
  },
  "language_info": {
   "codemirror_mode": {
    "name": "ipython",
    "version": 3
   },
   "file_extension": ".py",
   "mimetype": "text/x-python",
   "name": "python",
   "nbconvert_exporter": "python",
   "pygments_lexer": "ipython3",
   "version": "3.8.10"
  }
 },
 "nbformat": 4,
 "nbformat_minor": 5
}
