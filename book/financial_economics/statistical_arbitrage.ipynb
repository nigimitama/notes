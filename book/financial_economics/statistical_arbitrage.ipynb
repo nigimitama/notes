{
 "cells": [
  {
   "cell_type": "markdown",
   "id": "00ddd803-9a5b-41be-90db-f9040a15befb",
   "metadata": {},
   "source": [
    "# 統計的裁定\n",
    "\n",
    "裁定のように無リスクで収益が得られる機会はないが、無制限に投資期間を延ばせるならリスクの大部分を除去できるような投資戦略のこと。\n",
    "\n",
    "\n",
    "\n",
    "アプローチは主に2つあるとされる\n",
    "\n",
    "1. データ分析や統計学を応用\n",
    "   - 例：共和分法\n",
    "2. 経済学的な根拠に基づく方法\n",
    "   - 例：マーケット中立化法"
   ]
  },
  {
   "cell_type": "markdown",
   "id": "a602087a-8b88-4aed-94ff-77fe64df2620",
   "metadata": {},
   "source": [
    "## 共和分法\n",
    "\n",
    "### 共和分\n",
    "\n",
    "単位根過程（1次の和分過程）$x,y$があるとする。その線形和$ax+by$が定常過程となるような$a,b$が存在するとき、$x$と$y$の間には共和分の関係があるという。\n",
    "\n",
    "より一般的には\n",
    "\n",
    ":::{card} 定義（共和分）\n",
    "\n",
    "M次元の確率過程$\\boldsymbol{X}(t)$は以下を満たすとき**共和分過程**（cointegrated process）と言われる。\n",
    "\n",
    "1. $\\boldsymbol{X}(t)$の各要素は1次の和分過程である\n",
    "2. $\\boldsymbol{b}^\\top \\boldsymbol{X}(t)$が定常過程となるゼロでないベクトル$\\boldsymbol{b}\\in \\mathbb{R}^M$が存在する\n",
    "\n",
    "このような$\\boldsymbol{b}$を**共和分ベクトル**（cointegrating vector, cointegration vector）とよぶ。\n",
    ":::\n"
   ]
  },
  {
   "cell_type": "markdown",
   "id": "71dc140e-8285-448a-b583-7636115213fa",
   "metadata": {},
   "source": [
    "### 共和分過程であるかどうかの判定→共和分検定\n",
    "\n",
    "**VECM**（vector error correction model)\n",
    "\n",
    "\n",
    "$$\n",
    "\\Delta \\boldsymbol{S}(t)\n",
    "= \\boldsymbol{c} + \\alpha \\beta^\\top \\boldsymbol{S}(t-1) + \\boldsymbol{Z}(t)\n",
    "$$\n"
   ]
  },
  {
   "cell_type": "code",
   "execution_count": 1,
   "id": "6feb5771-abdb-478d-8c93-b46826be1fbe",
   "metadata": {},
   "outputs": [],
   "source": [
    "import numpy as np\n",
    "import pandas as pd\n",
    "import matplotlib.pyplot as plt\n",
    "from statsmodels.tsa.vector_ar.vecm import coint_johansen\n",
    "from statsmodels.tsa.api import VECM"
   ]
  },
  {
   "cell_type": "code",
   "execution_count": 2,
   "id": "63ff89f4-a6ee-4a28-9534-a4c2d8a4f157",
   "metadata": {},
   "outputs": [],
   "source": [
    "Sigma = np.array([[1,0,0],[0,1,0],[0,0,1]])\n",
    "\n",
    "# 配列を生成\n",
    "alpha_1 = np.array([0.1,0.2,0.3])\n",
    "alpha_2_ = np.array([0.5,-0.3,-0.3]) \n",
    "beta_1 = np.array([1,-0.5,-0.5])\n",
    "beta_2_ = np.array([-0.2,0.5,-0.2])\n",
    "\n",
    "# 配列から行列を生成\n",
    "alpha_2 = np.stack([alpha_1, alpha_2_],axis = 1) # alpha_2\n",
    "beta_2 = np.stack([beta_1, beta_2_]) # beta_2\n",
    "\n",
    "# 内積計算\n",
    "Pi_1 = np.dot(alpha_1.reshape(3,1), beta_1.reshape(1,3))\n",
    "Pi_2 = np.dot(alpha_2, beta_2)"
   ]
  },
  {
   "cell_type": "code",
   "execution_count": 3,
   "id": "b56365d7-79f8-4efd-904f-c9dc7c8cc683",
   "metadata": {},
   "outputs": [],
   "source": [
    "np.random.seed(seed=1)\n",
    "rand_nums = np.random.randn(10000, 3)\n",
    "\n",
    "# ランダム・ウォーク、共和分過程の初期化\n",
    "init = np.array([1,1,1])\n",
    "S_rw = init\n",
    "S_ci1 = init\n",
    "S_ci2 = init\n",
    "\n",
    "for rand_num in rand_nums:\n",
    "    S_rw = np.vstack((S_rw,S_rw[len(S_rw)-1] + np.dot(rand_num,Sigma)))\n",
    "    S_ci1 = np.vstack((S_ci1,np.dot(Pi_1 + np.eye(3),S_ci1[len(S_ci1)-1]) \n",
    "                       + np.dot(rand_num,Sigma)))\n",
    "    S_ci2 = np.vstack((S_ci2,np.dot(Pi_2 + np.eye(3),S_ci2[len(S_ci2)-1]) \n",
    "                       + np.dot(rand_num,Sigma)))\n",
    "\n"
   ]
  },
  {
   "cell_type": "code",
   "execution_count": 4,
   "id": "977f16a5-3fbf-4629-a66e-80f62f173279",
   "metadata": {},
   "outputs": [],
   "source": [
    "#ランダムウォークに対する共和分検定\n",
    "JohansenTestResult_rw = coint_johansen(S_rw, k_ar_diff=0, det_order=-1)"
   ]
  },
  {
   "cell_type": "code",
   "execution_count": 5,
   "id": "e871449f-6a02-40f3-b7d3-e674120d3f50",
   "metadata": {},
   "outputs": [
    {
     "name": "stdout",
     "output_type": "stream",
     "text": [
      "[22.58036266  8.78820583  2.43645402]\n"
     ]
    }
   ],
   "source": [
    "# 尤度比（likelihood ratio）\n",
    "# lr1はtrace testに対する統計量、lr2がmax testに対する統計量\n",
    "print(JohansenTestResult_rw.lr1) # Trace statistic"
   ]
  },
  {
   "cell_type": "code",
   "execution_count": 6,
   "id": "c2bd3ee8-9cb9-441f-892c-b501b73df67b",
   "metadata": {},
   "outputs": [
    {
     "name": "stdout",
     "output_type": "stream",
     "text": [
      "[[21.7781 24.2761 29.5147]\n",
      " [10.4741 12.3212 16.364 ]\n",
      " [ 2.9762  4.1296  6.9406]]\n"
     ]
    }
   ],
   "source": [
    "print(JohansenTestResult_rw.cvt) # Critical values (90%,95%,99%) of trace statistic\n",
    "# 1行目が「ランクが0である」という帰無仮説のtrace testの棄却限界値\n",
    "# 2行目は「ランクが1である」"
   ]
  },
  {
   "cell_type": "code",
   "execution_count": 7,
   "id": "18eab79e-747f-4219-a298-be7b860ad21d",
   "metadata": {},
   "outputs": [
    {
     "name": "stdout",
     "output_type": "stream",
     "text": [
      "[13.79215683  6.35175181  2.43645402]\n"
     ]
    }
   ],
   "source": [
    "print(JohansenTestResult_rw.lr2) # Maximum eigenvalue statistic"
   ]
  },
  {
   "cell_type": "code",
   "execution_count": 8,
   "id": "c84ce5ec-190b-4feb-b491-2d1b3fa90687",
   "metadata": {},
   "outputs": [
    {
     "name": "stdout",
     "output_type": "stream",
     "text": [
      "[[15.7175 17.7961 22.2519]\n",
      " [ 9.4748 11.2246 15.0923]\n",
      " [ 2.9762  4.1296  6.9406]]\n"
     ]
    }
   ],
   "source": [
    "print(JohansenTestResult_rw.cvm) # Critical values (90%,95%,99%) of maximum eigenvalue statistic"
   ]
  },
  {
   "cell_type": "markdown",
   "id": "85937a94-2784-4aaa-977c-c1fcc3d45e6c",
   "metadata": {},
   "source": [
    "[statsmodels.tsa.vector_ar.vecm.VECM — statsmodels](https://www.statsmodels.org/dev/generated/statsmodels.tsa.vector_ar.vecm.VECM.html)\n",
    "\n",
    "[statsmodelsによるベクトル誤差修正モデル(VECM)入門 - Qiita](https://qiita.com/innovation1005/items/d53d9ba4f9e8ee1832c6)"
   ]
  },
  {
   "cell_type": "code",
   "execution_count": 9,
   "id": "8d1b214d-0e33-4af7-bc12-c4c01ae0bf88",
   "metadata": {},
   "outputs": [],
   "source": [
    "# 計算が重くメモリ消費量も多いので注意\n",
    "model_s1 = VECM(S_rw, k_ar_diff=0, coint_rank = 1, deterministic='na')\n",
    "res_s1 = model_s1.fit()"
   ]
  },
  {
   "cell_type": "code",
   "execution_count": 10,
   "id": "752f1f5a-f62a-4ade-a3a3-f288790555e8",
   "metadata": {},
   "outputs": [
    {
     "name": "stdout",
     "output_type": "stream",
     "text": [
      "                 Loading coefficients (alpha) for equation y1                 \n",
      "==============================================================================\n",
      "                 coef    std err          z      P>|z|      [0.025      0.975]\n",
      "------------------------------------------------------------------------------\n",
      "ec1           -0.0005      0.000     -2.592      0.010      -0.001      -0.000\n",
      "                 Loading coefficients (alpha) for equation y2                 \n",
      "==============================================================================\n",
      "                 coef    std err          z      P>|z|      [0.025      0.975]\n",
      "------------------------------------------------------------------------------\n",
      "ec1            0.0003      0.000      1.749      0.080   -3.76e-05       0.001\n",
      "                 Loading coefficients (alpha) for equation y3                 \n",
      "==============================================================================\n",
      "                 coef    std err          z      P>|z|      [0.025      0.975]\n",
      "------------------------------------------------------------------------------\n",
      "ec1        -6.855e-05      0.000     -0.382      0.702      -0.000       0.000\n",
      "          Cointegration relations for loading-coefficients-column 1           \n",
      "==============================================================================\n",
      "                 coef    std err          z      P>|z|      [0.025      0.975]\n",
      "------------------------------------------------------------------------------\n",
      "beta.1         1.0000          0          0      0.000       1.000       1.000\n",
      "beta.2        -0.8151      0.139     -5.864      0.000      -1.088      -0.543\n",
      "beta.3         0.9599      0.344      2.790      0.005       0.286       1.634\n",
      "==============================================================================\n"
     ]
    }
   ],
   "source": [
    "print(res_s1.summary())"
   ]
  },
  {
   "cell_type": "code",
   "execution_count": 22,
   "id": "1ab65ae3-ac1a-42b8-a6b1-02d343030e62",
   "metadata": {},
   "outputs": [
    {
     "name": "stdout",
     "output_type": "stream",
     "text": [
      "[[-4.65121407e-04]\n",
      " [ 3.12031285e-04]\n",
      " [-6.85477939e-05]]\n",
      "[[ 1.        ]\n",
      " [-0.81511627]\n",
      " [ 0.95993846]]\n"
     ]
    }
   ],
   "source": [
    "# 推定されたパラメータ\n",
    "print(res_s1.alpha)\n",
    "print(res_s1.beta)"
   ]
  },
  {
   "cell_type": "markdown",
   "id": "be3786e4-375a-4312-8836-af7c04ea86e0",
   "metadata": {},
   "source": [
    "### 考察\n",
    "\n",
    "どう使える？どうやって見つけられる？共和分の関係があったとして、将来も続く？"
   ]
  },
  {
   "cell_type": "code",
   "execution_count": null,
   "id": "49d1e1a2-7b82-4416-aa12-a964ca77a7eb",
   "metadata": {},
   "outputs": [],
   "source": [
    "import matplotlib.pyplot as plt\n",
    "\n",
    "np.random.seed(seed=1)"
   ]
  },
  {
   "cell_type": "code",
   "execution_count": 20,
   "id": "c42bff70-d9f9-469e-ab32-40443e3ff4c9",
   "metadata": {},
   "outputs": [
    {
     "data": {
      "text/plain": [
       "[<matplotlib.lines.Line2D at 0x7f13a7539eb0>]"
      ]
     },
     "execution_count": 20,
     "metadata": {},
     "output_type": "execute_result"
    },
    {
     "data": {
      "image/png": "[encoded data removed]",
      "text/plain": [
       "<Figure size 640x480 with 1 Axes>"
      ]
     },
     "metadata": {},
     "output_type": "display_data"
    }
   ],
   "source": [
    "import matplotlib.pyplot as plt\n",
    "\n",
    "np.random.seed(seed=1)\n",
    "x = np.random.normal(loc=0, scale=1, size=1000)\n",
    "rw = np.cumsum(x)  # random walk: y_t = y_{t-1} + e\n",
    "\n",
    "plt.plot(x)\n",
    "plt.plot(rw)"
   ]
  },
  {
   "cell_type": "code",
   "execution_count": null,
   "id": "7721d8fd-01b3-47a3-b1c5-efef93d74f09",
   "metadata": {},
   "outputs": [],
   "source": []
  },
  {
   "cell_type": "code",
   "execution_count": null,
   "id": "3d65df3a-d827-4377-98bc-9c847821c184",
   "metadata": {},
   "outputs": [],
   "source": []
  },
  {
   "cell_type": "markdown",
   "id": "1d05066a-4c99-4aef-b1de-efec6388f389",
   "metadata": {},
   "source": [
    "\n",
    "## マーケット中立化法\n",
    "\n",
    "最も一般に知られる意味での「マーケット中立」は、市場ポートフォリオの変動に対してパフォーマンスが左右されないポートフォリオというもの。\n",
    "\n",
    "例えば2つの危険資産$S_1, S_2$のリターンがCAPMに従い、それぞれ\n",
    "\n",
    "$$\n",
    "R_1 = \\mu_0 + \\beta_1 (R_{\\mathcal{M}} - \\mu_0) + \\epsilon_1\\\\\n",
    "R_2 = \\mu_0 + \\beta_2 (R_{\\mathcal{M}} - \\mu_0) + \\epsilon_2\n",
    "$$\n",
    "\n",
    "で変動していたとする。ポートフォリオ・ウェイトを\n",
    "\n",
    "$$\n",
    "\\boldsymbol{\\pi} = (\\pi_1, \\pi_2)\n",
    "= \\left(\n",
    "\\frac{\\beta_2}{\\beta_2 - \\beta_1},\n",
    "\\frac{-\\beta_1}{\\beta_2 - \\beta_1},\n",
    "\\right)\n",
    "$$\n",
    "\n",
    "とすると、ポートフォリオのリターンは\n",
    "\n",
    "$$\n",
    "\\begin{align}\n",
    "R_P\n",
    "&= \\pi_1 R_1 + \\pi_2 R_2\\\\\n",
    "&= \\underbrace{(\\pi_1 + \\pi_2)}_{=1} \\mu_0\n",
    "+ (\\pi_1 \\beta_1 + \\pi_2\\beta_2)\n",
    "(R_{\\mathcal{M}} - \\mu_0)\n",
    "+ \\pi_1 \\epsilon_1 +  \\pi_2 \\epsilon_2\n",
    "\\\\\n",
    "&= \\mu_0\n",
    "+ \\underbrace{(\n",
    "\\frac{\\beta_2}{\\beta_2 - \\beta_1} \\beta_1\n",
    "+ \\frac{-\\beta_1}{\\beta_2 - \\beta_1} \\beta_2\n",
    ")}_{=0}\n",
    "(R_{\\mathcal{M}} - \\mu_0)\n",
    "+ \\pi_1 \\epsilon_1 +  \\pi_2 \\epsilon_2\n",
    "\\\\\n",
    "&= \\mu_0 + \\pi_1 \\epsilon_1 +  \\pi_2 \\epsilon_2\n",
    "\\end{align}\n",
    "$$\n",
    "\n",
    "となり、ポートフォリオ・リターンを市場ポートフォリオの変動から切り離すことができる。\n",
    "\n",
    "実際に運用する際はポートフォリオに組み込む資産の数を増やせば固有リスク$\\epsilon_k$の影響は除去できるため$\\mu_0$に近づいていく。\n",
    "\n",
    "ただ中立化するだけでは、ポートフォリオのリターンが安全資産の期待リターンに近づくだけなので、旨味はない。裁定の要素を入れていく必要がある。"
   ]
  },
  {
   "cell_type": "markdown",
   "id": "1302fc8e-90ce-48cf-9cfa-4b0912a4b7b0",
   "metadata": {},
   "source": [
    "\n",
    "\n",
    "### 裁定価格理論\n",
    "\n",
    "代表的投資家の効用関数が平均分散型のとき、均衡はCAPMになる。CAPMが成り立つとき、無裁定である（統計的裁定もとれない）。\n",
    "しかし、逆は必ずしも真ではない。市場が無裁定でも危険資産がCAPMに従って変動するとは限らない。\n",
    "\n",
    "CAPMの主張は資産のリスク・プレミアムが市場ポートフォリオのリスク・プレミアムのみに比例するというもの。資産のリスク・プレミアムが他のファクターに依存していたときも無裁定でありうる。\n",
    "「市場が無裁定のとき、資産のリスク・プレミアムはどのように表されるのか」という問いに答えたのがRoss(1976)の**裁定価格理論**（arbitrage pricing theory, APT）で、市場が無裁定のとき、危険資産の期待リターンを並べたベクトル$\\boldsymbol{\\mu}=(\\mu_1, \\cdots, \\mu_M)^\\top$は近似的に\n",
    "\n",
    "$$\n",
    "\\boldsymbol{\\mu} \\approx \\mu_0 \\boldsymbol{1} + B \\tilde{\\boldsymbol{f}}_K\n",
    "$$\n",
    "\n",
    "で与えられるというもの。ここで、\n",
    "\n",
    "- $B$は定数からなる行列\n",
    "- $\\tilde{\\boldsymbol{f}}_K = (\\tilde{f}_1, ..., \\tilde{f}_K)^\\top$は**ファクター**もしくは**共通ファクター**と呼ばれるもので、確率変数$\\{F_k\\}_{k=1,\\cdots,K}$のリスク・プレミアムの期待値\n",
    "（$\\tilde{f_k} = f_k - \\mu_0 = E[F_k] - \\mu_0$）\n",
    "\n",
    "\n",
    "CAPMのような1つのファクターで各資産の期待リターンを説明するモデルを**シングルファクター・モデル**といい、複数のファクターを使うモデルを**マルチファクター・モデル**とよぶ。\n"
   ]
  },
  {
   "cell_type": "markdown",
   "id": "a7df63b3-c1ff-4e9f-810b-e9ca05d0d549",
   "metadata": {},
   "source": [
    "### 統計的裁定が可能な場合のマーケット中立化法\n",
    "\n",
    "市場が無裁定のとき、各資産の期待リターンは$\\boldsymbol{\\mu} \\approx \\mu_0 \\boldsymbol{1} + B \\tilde{\\boldsymbol{f}}_K$のように記述される。このとき裁定取引は不可能だが、統計的裁定は可能な場合がある。\n",
    "\n",
    "[Liu & Timmermann (2013)](https://citeseerx.ist.psu.edu/document?repid=rep1&type=pdf&doi=1dc120406e0d542c9dd3b203b090b512f0c6d4ee)はポートフォリオをマーケット中立にした上で共和分法を行うシンプルな戦略を提案している。\n",
    "\n"
   ]
  },
  {
   "cell_type": "markdown",
   "id": "c1f93b65-1108-417b-9fe1-61874e364bf2",
   "metadata": {},
   "source": [
    "\n",
    "\n",
    "## ディスタンス法\n",
    "\n",
    "ディスタンス法は**ペアーズ・トレーディング**（pairs trading）の一つ。\n",
    "\n",
    "ペアーズ・トレーディングとは、1組のペアからなる株式のポジションをとる戦略である。お互いに似た動きをしていれば、一方をロングすると同時に他方をショートすることで、片方が損失を出してももう片方が利益を生む。\n",
    "\n",
    "ディスタンス法の狙いは共和分法と同じであり、Rad et al. (2016)によればディスタンス法のパフォーマンスは共和分法のそれと拮抗する。\n",
    "\n",
    "[Gatev et al. (2006)](https://d1wqtxts1xzle7.cloudfront.net/31862444/PairsTradingGGR-libre.pdf?1391441413=&response-content-disposition=inline%3B+filename%3Dpair_trading.pdf&Expires=1678543166&Signature=TCTHjjZJBvFK85sdrSoS5xRMtNiSJbPXBjH2E14G~3eLgK370eeu49SZ9PM7g7qGt9G8-LNBR4yy9cXy7nLIf3LijmIgIkCvo6BAriPzDCRDjfXy51X2ImIIg2Cqe9aK4~HIfldHFemFdmvJgsca1I3k8MjmX8VoXtSIYmUsoWqWbT5QQFdqV1Jzb7kN55G-98IeAgamcMv90C--LGoX9tIqKuaxzVaG5sOFAT4QnXrSMyfI0dYVab3bx5qZhRWNLDKd6Ut6BRBAyCNzi2z4pw4WiiHvCN6IXcgSsJTpQWgByZQKKiNedqMLW5UiR~qTdYRGGz4iorkGYT6nxZlOYw__&Key-Pair-Id=APKAJLOHF5GGSLRBV4ZA)のディスタンス法は以下の通り。\n",
    "\n",
    "### ペアの選定\n",
    "\n",
    "1. 銘柄$\\{S_m\\}_{m=1,\\cdots,M}$の株価の各時点$t$のサンプル$\\{p_{m,n}\\}_{n=0,\\cdots,N}$を集める\n",
    "\n",
    "2. 各時点$n=1,\\cdots,N$におけるリターン$r_{m,n}=(p_{m,n}-p_{m,n-1})/p_{m,n-1}$を計算する。\n",
    "\n",
    "   - 配当がある場合は配当$d_{m,n'}$を再投資してリターンを計算する：$r_{m,n'}=(p_{m,n'}+d_{m,n'}-p_{m,n'-1})/p_{m,n'-1}$\n",
    "\n",
    "3. 各銘柄の時点$0$の価格を1に基準化するため、以下のように累積リターンを計算する\n",
    "\n",
    "\n",
    "   $$\n",
    "   \\begin{align}\n",
    "   \\hat{p}_{m,0} &= 1,\\\\\n",
    "   \\hat{p}_{m,1} &= (1 + r_{m,1}) \\hat{p}_{m,0}\\\\\n",
    "   \\cdots\\\\\n",
    "   \\hat{p}_{m,N} &= (1 + r_{m,N}) \\hat{p}_{m,N-1}\\\\\n",
    "   \\end{align}\n",
    "   $$\n",
    "\n",
    "4. 2つの銘柄$S_m, S_m'$からなるペアについて、価格差をペア間の距離と考え、その二乗和をとる。\n",
    "   $$\n",
    "   \\text{dist}_{m,m'}^2\n",
    "   = \\sum^N_{n=1} (\\hat{p}_{m,n} - \\hat{p}_{m',n})^2\n",
    "   $$\n",
    "\n",
    "5. この二乗和が小さいペアを「動きが似ている銘柄ペア」としてポートフォリオに選ぶ\n",
    "\n",
    "\n",
    "\n",
    "### 取引執行ルール\n",
    "\n",
    "1. ペア選定時に計算した価格差の標準偏差を基準に決める。\n",
    "\n",
    "   価格差の標本標準偏差$s_{m,m'}$は\n",
    "   $$\n",
    "   s_{m,m'}^2 = \\frac{1}{N} \\sum^N_{n=1} (\\hat{p}_{m,n} - \\hat{p}_{m',n})^2\n",
    "   - \\left(\n",
    "   \\frac{\\sum^N_{n=1} (\\hat{p}_{m,n} - \\hat{p}_{m',n})^2}{N}\n",
    "   \\right)^2\n",
    "   $$\n",
    "   で計算できる。\n",
    "\n",
    "2. 取引期間に入ったら改めて価格を基準化して、価格差$\\hat{p}_{m} - \\hat{p}_{m'}$を日々計算していく。\n",
    "\n",
    "   取引期間中に価格差の絶対値が$s_{m,m'}$の2倍を超えたときにポジションをとる。\n",
    "   $$\n",
    "   |\\hat{p}_{m} - \\hat{p}_{m'}| > 2 s_{m,m'}\n",
    "   $$\n",
    "   ポジションは基準化された価格でみて割高なほうをショートし、割安なほうをロングする\n",
    "\n",
    "3. 価格差が再び収束して一致したときにポジションを解消する\n",
    "\n",
    "   ロングするのに必要な資金はショートによって賄うことで初期時点のポートフォリオ価値をゼロにする\n",
    "   （→統計的裁定の第一要件$V(0)=0$を満たす）\n",
    "\n",
    "\n",
    "\n",
    "### 改良ディスタンス法\n",
    "\n",
    "[Chien et al. (2019)](https://papers.ssrn.com/sol3/papers.cfm?abstract_id=1361293)が提案している改良版\n",
    "\n",
    "銘柄選定について、$\\text{dist}_{m,m'}$の代わりにリターンの相関係数が高いペアを選ぶ方法を推奨している。相関係数は次のように計算される。\n",
    "$$\n",
    "\\rho_{m,m'}^{ret} = \n",
    "\\frac{s_{m,m'}^{ret}}\n",
    "{s_{m}^{ret} s_{m'}^{ret}}\n",
    "$$\n",
    "ただし\n",
    "$$\n",
    "\\begin{align}\n",
    "s_{m,m'}^{ret}\n",
    "&= \\frac{1}{N}\\sum^N_{n=1}\n",
    "(r_{m,n}-\\bar{r}_m)\n",
    "(r_{m',n}-\\bar{r}_m')\n",
    "\\\\\n",
    "s_{m}^{ret} &= \\sqrt{\n",
    "  \\frac{1}{N} \\sum^N_{n=1}\n",
    "  (r_{m,n}-\\bar{r}_m)^2\n",
    "}\n",
    "\\\\\n",
    "\\bar{r}_m &= \\sum^N_{n=1} \\frac{r_{m,n}}{N}\n",
    "\\end{align}\n",
    "$$\n",
    "である。\n",
    "\n",
    "$\\text{dist}_{m,m'}$はあくまで銘柄間の乖離を測るが、$\\rho_{m,m'}^{ret}$は銘柄の平均からの乖離も考慮される。[Chien et al. (2019)](https://papers.ssrn.com/sol3/papers.cfm?abstract_id=1361293)は[Gatev et al. (2006)](https://d1wqtxts1xzle7.cloudfront.net/31862444/PairsTradingGGR-libre.pdf?1391441413=&response-content-disposition=inline%3B+filename%3Dpair_trading.pdf&Expires=1678543166&Signature=TCTHjjZJBvFK85sdrSoS5xRMtNiSJbPXBjH2E14G~3eLgK370eeu49SZ9PM7g7qGt9G8-LNBR4yy9cXy7nLIf3LijmIgIkCvo6BAriPzDCRDjfXy51X2ImIIg2Cqe9aK4~HIfldHFemFdmvJgsca1I3k8MjmX8VoXtSIYmUsoWqWbT5QQFdqV1Jzb7kN55G-98IeAgamcMv90C--LGoX9tIqKuaxzVaG5sOFAT4QnXrSMyfI0dYVab3bx5qZhRWNLDKd6Ut6BRBAyCNzi2z4pw4WiiHvCN6IXcgSsJTpQWgByZQKKiNedqMLW5UiR~qTdYRGGz4iorkGYT6nxZlOYw__&Key-Pair-Id=APKAJLOHF5GGSLRBV4ZA)と同じデータセットでパフォーマンスを比較し、相関係数を用いたほうが運用成績が向上することを報告している。\n"
   ]
  },
  {
   "cell_type": "markdown",
   "id": "1d0cb56a-23cd-4f8b-9624-1e0851b7d21f",
   "metadata": {},
   "source": [
    "\n",
    "\n",
    "\n",
    "## 参考\n",
    "\n",
    "- [Gatev, E., Goetzmann, W. N., & Rouwenhorst, K. G. (2006). Pairs trading: Performance of a relative-value arbitrage rule. The Review of Financial Studies, 19(3), 797-827.](https://d1wqtxts1xzle7.cloudfront.net/31862444/PairsTradingGGR-libre.pdf?1391441413=&response-content-disposition=inline%3B+filename%3Dpair_trading.pdf&Expires=1678543166&Signature=TCTHjjZJBvFK85sdrSoS5xRMtNiSJbPXBjH2E14G~3eLgK370eeu49SZ9PM7g7qGt9G8-LNBR4yy9cXy7nLIf3LijmIgIkCvo6BAriPzDCRDjfXy51X2ImIIg2Cqe9aK4~HIfldHFemFdmvJgsca1I3k8MjmX8VoXtSIYmUsoWqWbT5QQFdqV1Jzb7kN55G-98IeAgamcMv90C--LGoX9tIqKuaxzVaG5sOFAT4QnXrSMyfI0dYVab3bx5qZhRWNLDKd6Ut6BRBAyCNzi2z4pw4WiiHvCN6IXcgSsJTpQWgByZQKKiNedqMLW5UiR~qTdYRGGz4iorkGYT6nxZlOYw__&Key-Pair-Id=APKAJLOHF5GGSLRBV4ZA)\n",
    "\n",
    "- [Liu, J., & Timmermann, A. (2013). Optimal convergence trade strategies. The Review of Financial Studies, 26(4), 1048-1086.](https://citeseerx.ist.psu.edu/document?repid=rep1&type=pdf&doi=1dc120406e0d542c9dd3b203b090b512f0c6d4ee)\n",
    "\n",
    "- [Chen, H., Chen, S., Chen, Z., & Li, F. (2019). Empirical investigation of an equity pairs trading strategy. *Management Science*, *65*(1), 370-389.](https://papers.ssrn.com/sol3/papers.cfm?abstract_id=1361293)\n",
    "\n"
   ]
  }
 ],
 "metadata": {
  "kernelspec": {
   "display_name": "Python 3 (ipykernel)",
   "language": "python",
   "name": "python3"
  },
  "language_info": {
   "codemirror_mode": {
    "name": "ipython",
    "version": 3
   },
   "file_extension": ".py",
   "mimetype": "text/x-python",
   "name": "python",
   "nbconvert_exporter": "python",
   "pygments_lexer": "ipython3",
   "version": "3.9.16"
  }
 },
 "nbformat": 4,
 "nbformat_minor": 5
}
