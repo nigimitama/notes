{
 "cells": [
  {
   "cell_type": "markdown",
   "id": "5f431c47-07ee-424a-be2a-001fee78c9e1",
   "metadata": {},
   "source": [
    "# 時系列データの特徴"
   ]
  },
  {
   "cell_type": "markdown",
   "id": "3bbc497c-577b-4c7c-a57f-e3396dc6644a",
   "metadata": {},
   "source": [
    "## 時系列データ\n",
    "\n",
    "各時点$t$（$t=1,\\dots,T$）で観測されたデータ\n",
    "\n",
    "$$\n",
    "\\{y_t\\}_{t=1}^T\n",
    "$$\n",
    "\n",
    "もとのデータは**原系列**と呼ばれるが、前処理した系列に特有の名前があったりする\n",
    "\n",
    "- **対数系列**…対数変換したもの：$\\log y_t$\n",
    "- **差分系列**（**階差系列**）…差分をとったもの：$\\Delta y_t = y_t - y_{t-1}$\n",
    "- **対数差分系列**…対数系列の差分。変化率$(y_t-y_{t-1})/y_{t-1}$の近似：$\\Delta \\log y_t$\n",
    "\n",
    ":::{admonition} 対数差分による変化率の近似\n",
    "対数の計算規則から\n",
    "\n",
    "$$\n",
    "\\log \\left(y_t\\right) - \\log \\left(y_{t-1}\\right)\n",
    "=\\log \\left(\\frac{y_t}{y_{t-1}}\\right)\n",
    "=\\log \\left(1+\\frac{y_t-y_{t-1}}{y_{t-1}}\\right)\n",
    "$$\n",
    "\n",
    "となる。また1次のテイラー近似により、小さい$x$に対して\n",
    "\n",
    "$$\n",
    "\\log(1 + x) = x - \\frac{x^2}{2} + \\frac{x^3}{3} - \\frac{x^4}{4} + \\cdots\n",
    "\\approx x\n",
    "$$\n",
    "\n",
    "ゆえに\n",
    "\n",
    "$$\n",
    "\\log \\left(1+\\frac{y_t-y_{t-1}}{y_{t-1}}\\right)\n",
    "\\approx \\frac{y_t-y_{t-1}}{y_{t-1}}\n",
    "$$\n",
    ":::"
   ]
  },
  {
   "cell_type": "code",
   "execution_count": null,
   "id": "edbab6ec-159e-4a5b-bc46-a9580dbaba57",
   "metadata": {},
   "outputs": [],
   "source": []
  }
 ],
 "metadata": {
  "kernelspec": {
   "display_name": "Python 3 (ipykernel)",
   "language": "python",
   "name": "python3"
  },
  "language_info": {
   "codemirror_mode": {
    "name": "ipython",
    "version": 3
   },
   "file_extension": ".py",
   "mimetype": "text/x-python",
   "name": "python",
   "nbconvert_exporter": "python",
   "pygments_lexer": "ipython3",
   "version": "3.9.18"
  }
 },
 "nbformat": 4,
 "nbformat_minor": 5
}
