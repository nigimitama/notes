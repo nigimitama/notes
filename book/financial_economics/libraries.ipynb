{
 "cells": [
  {
   "cell_type": "markdown",
   "id": "15cfd5c1-e4e7-4b46-b952-be7b3ba19b23",
   "metadata": {},
   "source": [
    "# 金融系ライブラリ"
   ]
  },
  {
   "cell_type": "markdown",
   "id": "1460f667-76b8-41db-bcef-458c0afdef18",
   "metadata": {},
   "source": [
    "## データ取得"
   ]
  },
  {
   "cell_type": "markdown",
   "id": "356af617-312d-443e-b5df-228c766cebfe",
   "metadata": {},
   "source": [
    "### yfinance\n",
    "\n",
    "[yfinance · PyPI](https://pypi.org/project/yfinance/)\n",
    "\n",
    "```python\n",
    "import yfinance as yf\n",
    "sp500 = yf.Ticker(\"^GSPC\").history(start=\"2010-01-01\")\n",
    "```"
   ]
  },
  {
   "cell_type": "markdown",
   "id": "8e4da8db-7ca5-450f-8146-10d787bd39e2",
   "metadata": {},
   "source": [
    "## データ可視化"
   ]
  },
  {
   "cell_type": "markdown",
   "id": "e52a99de-e654-4f89-a6fe-fdfb32f77075",
   "metadata": {},
   "source": [
    "### mplfinance\n",
    "\n",
    "[matplotlib/mplfinance: Financial Markets Data Visualization using Matplotlib](https://github.com/matplotlib/mplfinance)\n",
    "\n",
    "```python\n",
    "# ローソク足＋移動平均＋Volume\n",
    "mpf.plot(daily,type='candle',mav=(3,6,9),volume=True)\n",
    "```\n"
   ]
  },
  {
   "cell_type": "markdown",
   "id": "1666d583-8efe-4515-9ac6-a3cf7b38903a",
   "metadata": {},
   "source": [
    "### plotly\n",
    "\n",
    "ローソク足を描くだけならできる\n",
    "\n",
    "[Candlestick charts in Python](https://plotly.com/python/candlestick-charts/)"
   ]
  },
  {
   "cell_type": "markdown",
   "id": "51f7fca5-9922-4915-aec2-d71062b7f351",
   "metadata": {},
   "source": [
    "## テクニカル指標\n"
   ]
  },
  {
   "cell_type": "markdown",
   "id": "2f0538c4-ff8a-43b9-a003-91da654cb05e",
   "metadata": {},
   "source": [
    "### TA-Lib\n",
    "\n",
    "※先にC++で書かれたTA-LibをインストールしてからPythonを入れる必要あり\n",
    "\n",
    "[TA-Lib/ta-lib-python](https://github.com/TA-Lib/ta-lib-python)\n",
    "\n",
    "\n",
    "- 参考記事：[Pythonの「TA-Lib」ライブラリでテクニカル指標の計算と可視化をしてみよう：「Python」×「株価データ」で学ぶデータ分析のいろは（3）（1/2 ページ） - ＠IT](https://atmarkit.itmedia.co.jp/ait/articles/2109/28/news005.html)"
   ]
  },
  {
   "cell_type": "markdown",
   "id": "1d5de80f-abe3-4e0a-a1ff-49f72b2a339e",
   "metadata": {},
   "source": [
    "## ポートフォリオ最適化\n",
    "\n",
    "### PyPortfolioOpt\n",
    "\n",
    "[Installation — PyPortfolioOpt 1.5.4 documentation](https://pyportfolioopt.readthedocs.io/en/latest/index.html)"
   ]
  },
  {
   "cell_type": "markdown",
   "id": "fab6e39c-70d2-4827-ac94-ee1809153865",
   "metadata": {},
   "source": [
    "## Testing（バックテスト等）"
   ]
  },
  {
   "cell_type": "markdown",
   "id": "c9f11ee4-9a37-4dd4-a0eb-c246a55a7798",
   "metadata": {},
   "source": [
    "### Zipline\n",
    "\n",
    "[Zipline — Zipline 3.0 docs](https://zipline.ml4trading.io/)\n",
    "\n",
    "- tutorial: [Tutorial — Zipline 3.0 docs](https://zipline.ml4trading.io/beginner-tutorial.html)"
   ]
  },
  {
   "cell_type": "code",
   "execution_count": null,
   "id": "5f8e6bff-b621-4d43-9637-d96ccdd75061",
   "metadata": {},
   "outputs": [],
   "source": []
  }
 ],
 "metadata": {
  "kernelspec": {
   "display_name": "Python 3 (ipykernel)",
   "language": "python",
   "name": "python3"
  },
  "language_info": {
   "codemirror_mode": {
    "name": "ipython",
    "version": 3
   },
   "file_extension": ".py",
   "mimetype": "text/x-python",
   "name": "python",
   "nbconvert_exporter": "python",
   "pygments_lexer": "ipython3",
   "version": "3.9.18"
  }
 },
 "nbformat": 4,
 "nbformat_minor": 5
}
