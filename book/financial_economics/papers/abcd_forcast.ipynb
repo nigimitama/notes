{
 "cells": [
  {
   "cell_type": "markdown",
   "id": "49e6a536-d024-4fd3-94d5-46c081f0cfeb",
   "metadata": {},
   "source": [
    "# ABCD Forcast"
   ]
  },
  {
   "cell_type": "markdown",
   "id": "0ddf2b02-01dc-4e28-9872-d5eb2c8878f8",
   "metadata": {},
   "source": [
    "- augumentateしたデータで学習 → 逆変換して戻してアンサンブル\n"
   ]
  },
  {
   "cell_type": "markdown",
   "id": "a127307a-c698-4650-88c6-24559d474d97",
   "metadata": {},
   "source": [
    "- 論文：[伊藤ほか. (2023). ABCD-Forecast: 機密金融時系列予測のためのデータ拡張バギング手法](https://www.jstage.jst.go.jp/article/pjsai/JSAI2023/0/JSAI2023_3Xin409/_pdf/-char/ja)\n",
    "- 関連論文：[伊藤ほか. (2020). Trader-Company 法: メタヒューリスティクスを用いた株価予測 金融機関を模したモデルによる時系列予測](https://www.jstage.jst.go.jp/article/pjsai/JSAI2020/0/JSAI2020_4Rin167/_article/-char/ja/)"
   ]
  },
  {
   "cell_type": "markdown",
   "id": "e946bee0-eb82-4afb-868e-39f346e5070d",
   "metadata": {},
   "source": [
    "[【マケデコ】最新トレード技術ABCD Forecast/Deep Portfolio勉強会 - connpass](https://mkdeco.connpass.com/event/292320/)"
   ]
  },
  {
   "cell_type": "code",
   "execution_count": null,
   "id": "2873f654-72c7-4c98-83e8-fd0a4cf80e92",
   "metadata": {},
   "outputs": [],
   "source": []
  }
 ],
 "metadata": {
  "kernelspec": {
   "display_name": "Python 3 (ipykernel)",
   "language": "python",
   "name": "python3"
  },
  "language_info": {
   "codemirror_mode": {
    "name": "ipython",
    "version": 3
   },
   "file_extension": ".py",
   "mimetype": "text/x-python",
   "name": "python",
   "nbconvert_exporter": "python",
   "pygments_lexer": "ipython3",
   "version": "3.9.17"
  }
 },
 "nbformat": 4,
 "nbformat_minor": 5
}
