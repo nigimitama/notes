{
 "cells": [
  {
   "cell_type": "markdown",
   "id": "b4fc7064-460e-4b4d-a826-e4175e2c89a0",
   "metadata": {},
   "source": [
    "# 概要\n",
    "\n",
    "代表的な基礎理論は\n",
    "\n",
    "1. ポートフォリオ理論\n",
    "2. アセット・プライシング理論\n",
    "\n",
    "に大別される\n",
    "\n",
    "\n",
    "## ポートフォリオ理論\n",
    "\n",
    "**（現代）ポートフォリオ理論**（modern portfolio theory）は、\n",
    "\n",
    "- 最適なポートフォリオはどういったものなのか\n",
    "- それにより投資家がどう動いて金融市場が構成されるのか\n",
    "\n",
    "といったことを考える理論。\n",
    "\n",
    "伝統的な経済学の最適消費計画のような、合理的に動く経済主体を仮定して市場を考えるアプローチがベースとなる。\n",
    "マーコウィッツの平均分散モデルや、効率的フロンティア、CAPMといったモデルが代表的\n",
    "\n",
    "\n",
    "## アセット・プライシング理論\n",
    "\n",
    "**アセット・プライシング理論**（asset pricing theory）は資産の価格がどのように形成されるかについての理論。\n",
    "\n",
    "例えば\n",
    "\n",
    "- 無裁定資産価格理論\n",
    "- ブラック・ショールズ・モデル\n",
    "\n",
    "といったものがある"
   ]
  }
 ],
 "metadata": {
  "kernelspec": {
   "display_name": "Python 3 (ipykernel)",
   "language": "python",
   "name": "python3"
  },
  "language_info": {
   "codemirror_mode": {
    "name": "ipython",
    "version": 3
   },
   "file_extension": ".py",
   "mimetype": "text/x-python",
   "name": "python",
   "nbconvert_exporter": "python",
   "pygments_lexer": "ipython3",
   "version": "3.9.16"
  }
 },
 "nbformat": 4,
 "nbformat_minor": 5
}
