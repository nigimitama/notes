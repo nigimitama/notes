{
 "cells": [
  {
   "cell_type": "markdown",
   "id": "97a61ab7-7a23-47ba-9400-828e143d9c37",
   "metadata": {},
   "source": [
    "# 『ファイナンス機械学習』メモ"
   ]
  },
  {
   "cell_type": "markdown",
   "id": "79531869-2bf0-4929-863e-fbb754d2b17d",
   "metadata": {},
   "source": [
    "## 参考\n",
    "\n",
    "\n",
    "### 著者の解説スライド\n",
    "\n",
    "- [Marcos Lopez de Prado](https://www.quantresearch.org/Lectures.htm)\n",
    "- [【ファイナンス機械学習 解説】著者の解説スライドを日本語でまとめてみる（1/10） | Quant College](https://quantcollege.net/%e3%80%90%e3%83%95%e3%82%a1%e3%82%a4%e3%83%8a%e3%83%b3%e3%82%b9%e6%a9%9f%e6%a2%b0%e5%ad%a6%e7%bf%92%e3%80%91%e8%91%97%e8%80%85%e3%81%ae%e8%ac%9b%e7%be%a9%e3%82%b9%e3%83%a9%e3%82%a4%e3%83%89%e3%82%92#google_vignette)"
   ]
  }
 ],
 "metadata": {
  "kernelspec": {
   "display_name": "Python 3 (ipykernel)",
   "language": "python",
   "name": "python3"
  },
  "language_info": {
   "codemirror_mode": {
    "name": "ipython",
    "version": 3
   },
   "file_extension": ".py",
   "mimetype": "text/x-python",
   "name": "python",
   "nbconvert_exporter": "python",
   "pygments_lexer": "ipython3",
   "version": "3.10.15"
  }
 },
 "nbformat": 4,
 "nbformat_minor": 5
}
