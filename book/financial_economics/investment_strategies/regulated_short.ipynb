{
 "cells": [
  {
   "cell_type": "markdown",
   "id": "e7de6bcb-6e0e-492c-8cdc-463fed49c7c7",
   "metadata": {},
   "source": [
    "# 増担保規制空売り\n",
    "\n",
    "- 増担保規制は、信用取引で過度な投機が起こった場合に、取引所が実施する規制\n",
    "- 空売り規制は、株価が下落した場合に空売りを抑制する目的で実施される\n",
    "\n",
    "規制になる前に銘柄を見つけて空売りする\n"
   ]
  },
  {
   "cell_type": "markdown",
   "id": "ad1e3661-35ab-443d-b3c9-30a2defd5f1e",
   "metadata": {},
   "source": [
    "堀北晃生が提唱\n",
    "\n",
    "- [TOP |【堀北晃生公式サイト】「空売り」という武器をすべての個人投資家に](https://www.ynem.org/)\n",
    "- [規制空売りの教科書2 | Kindleストア | Amazon](https://www.amazon.co.jp/dp/B07MN378JN)"
   ]
  },
  {
   "cell_type": "code",
   "execution_count": null,
   "id": "4177ae78-1973-407f-82c1-558f21622615",
   "metadata": {},
   "outputs": [],
   "source": []
  }
 ],
 "metadata": {
  "kernelspec": {
   "display_name": "Python 3 (ipykernel)",
   "language": "python",
   "name": "python3"
  },
  "language_info": {
   "codemirror_mode": {
    "name": "ipython",
    "version": 3
   },
   "file_extension": ".py",
   "mimetype": "text/x-python",
   "name": "python",
   "nbconvert_exporter": "python",
   "pygments_lexer": "ipython3",
   "version": "3.10.17"
  }
 },
 "nbformat": 4,
 "nbformat_minor": 5
}
