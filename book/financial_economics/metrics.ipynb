{
 "cells": [
  {
   "cell_type": "markdown",
   "id": "21acdc96-6048-4dbe-b2c3-94d6c94dd576",
   "metadata": {},
   "source": [
    "# ファイナンスの指標たち\n",
    "\n",
    "## リターン関連"
   ]
  },
  {
   "cell_type": "markdown",
   "id": "7e783e53-0ef1-44c6-a1db-4ebe85c230cb",
   "metadata": {},
   "source": [
    "### リスク調整後リターン\n",
    "\n",
    "リターンだけでなくリスクも考えなければならない、という平均分散モデル的な考え方を反映した指標\n",
    "\n",
    "代表的なものはシャープ・レシオで、安全資産のリターン$R_0$と危険資産$m$のリターン$R_m$を使って\n",
    "\n",
    "$$\n",
    "\\text{Sharp Ratio}_m = \\frac{リスク・プレミアム}{ボラティリティ} = \\frac{E[R_m] - E[R_0]}{\\sqrt{V[R_m]}}\n",
    "$$\n",
    "\n",
    "と定義される。\n",
    "\n",
    "シャープ・レシオはリターンが正規分布に従うときはよい指標だが、そうでないときはバイアスを孕むことが報告されている。（[Smerlak, 2023](https://arxiv.org/abs/2302.08829)）\n"
   ]
  },
  {
   "cell_type": "markdown",
   "id": "330261e6-6a4a-4375-b368-899f0d3ec85c",
   "metadata": {},
   "source": [
    "### Information Ratio (IR)\n",
    "\n",
    "> リスクを加味した超過収益（いわゆるアルファ）の尺度で超過収益獲得の効率性を示す数字として用いられている。この尺度は、対ベンチマークの超過収益率を超過収益率の標準偏差（いわゆるトラッキング・エラー）で割って計算する。\n",
    ">\n",
    "> 例えばトラッキング・エラーが4％、超過収益が2％のファンドの情報比は2％÷4％＝0.5となる。\n",
    "> \n",
    "> この数値が大きいほど、リスク1単位あたりの超過収益が高いことを示し、アクティブ運用の効率が高いということになる。\n",
    "> \n",
    "> [インフォメーション・レシオ（IR、情報レシオ）｜用語集｜企業年金連合会](https://www.pfa.or.jp/yogoshu/ai/ai07.html)"
   ]
  },
  {
   "cell_type": "markdown",
   "id": "311a0f10-10fe-437b-ac84-73fd76a05224",
   "metadata": {},
   "source": [
    "## 参考\n",
    "- [Smerlak, M. (2023). Great year, bad Sharpe? A note on the joint distribution of performance and risk-adjusted return. arXiv preprint arXiv:2302.08829.](https://arxiv.org/abs/2302.08829)"
   ]
  },
  {
   "cell_type": "code",
   "execution_count": null,
   "id": "e9a0c58f-9fb3-41ef-929f-0080f8824e33",
   "metadata": {},
   "outputs": [],
   "source": []
  }
 ],
 "metadata": {
  "kernelspec": {
   "display_name": "Python 3 (ipykernel)",
   "language": "python",
   "name": "python3"
  },
  "language_info": {
   "codemirror_mode": {
    "name": "ipython",
    "version": 3
   },
   "file_extension": ".py",
   "mimetype": "text/x-python",
   "name": "python",
   "nbconvert_exporter": "python",
   "pygments_lexer": "ipython3",
   "version": "3.9.16"
  }
 },
 "nbformat": 4,
 "nbformat_minor": 5
}
