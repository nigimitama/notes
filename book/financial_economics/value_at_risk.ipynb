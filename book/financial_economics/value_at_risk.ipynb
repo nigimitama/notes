{
 "cells": [
  {
   "cell_type": "markdown",
   "id": "960392ff-b480-4852-94dd-9ed107f6daf7",
   "metadata": {},
   "source": [
    "# VaR (Value at Risk)\n",
    "\n",
    "**Value at Risk（VaR）** は金融リスク管理の中心的な指標のひとつで、「ある信頼水準のもとで、一定期間に予想される最大損失額」を表す。\n",
    "\n",
    "簡単言えば「最悪どれくらい損をする可能性があるか」を統計的に定量化する方法。"
   ]
  },
  {
   "cell_type": "markdown",
   "id": "d7bc93ff-dddf-4bde-ae02-4bae8b8d09bd",
   "metadata": {},
   "source": [
    "## 定義\n",
    "\n",
    ":::{admonition} Value at Risk (VaR)\n",
    "\n",
    "ある信頼水準 $\\alpha$（たとえば 95% や 99%）におけるVaRは次のように定義される\n",
    "\n",
    "$$\n",
    "P(L>\\mathrm{VaR}_\\alpha)=1-\\alpha\n",
    "$$\n",
    "\n",
    "- $L$は損失額（確率変数）\n",
    "- $\\mathrm{VaR}_\\alpha$：信頼水準$\\alpha$におけるVaR。「$1-\\alpha$の確率でこれ以上の損失が起こる」という閾値\n",
    "\n",
    ":::"
   ]
  },
  {
   "cell_type": "markdown",
   "id": "3b466ba1-f954-4834-942f-133048614425",
   "metadata": {},
   "source": [
    "### 例\n",
    "\n",
    "例えば、あるポートフォリオの日次リターンが正規分布$N(\\mu, \\sigma^2)$に従うとする。\n",
    "\n",
    "このとき、\n",
    "\n",
    "$$\n",
    "\\operatorname{VaR}_\\alpha=-\\left(\\mu+z_\\alpha \\sigma\\right)\n",
    "$$\n",
    "\n",
    "ここで $z_\\alpha$ は標準正規分布のパーセント点（例えば95%信頼水準なら $z_{0.95} = 1.645$）。\n",
    "\n",
    "\n",
    "例：\n",
    "\n",
    "- $\\mu = 0$（平均リターン0）\n",
    "- $\\sigma = 2%$\n",
    "- $\\alpha = 95%$\n",
    "\n",
    "とすると、\n",
    "\n",
    "$$\n",
    "\\mathrm{VaR}_{0.95}=-(0+1.645 \\times 0.02)=-0.0329\n",
    "$$\n",
    "\n",
    "つまり「1日で3.29%以上の損失が起きる確率は5%」となる。"
   ]
  },
  {
   "cell_type": "markdown",
   "id": "ec0ffc61-87a2-45d1-b885-2dc0217b390a",
   "metadata": {},
   "source": [
    "### 例\n",
    "\n",
    "例えば10年国債のリスクを定量評価するとき、過去のデータ（例えば過去5年の金利の標準偏差やパーセンタイル）に基づいてVaRを計算する\n",
    "\n"
   ]
  },
  {
   "cell_type": "markdown",
   "id": "53d97411-2e7f-4859-b44a-a779bfc9f51b",
   "metadata": {},
   "source": [
    "\n",
    "## Conditional VaR (CVaR)\n",
    "\n",
    "関連してCVaRというものがある\n",
    "\n",
    ":::{admonition} Conditional VaR (CVaR) / Expected Shortfall (ES)\n",
    "\n",
    "$$\n",
    "E S_\\alpha=E\\left[L \\mid L>\\operatorname{VaR}_\\alpha\\right]\n",
    "$$\n",
    "\n",
    ":::\n",
    "\n",
    "「VaRを超えた場合の平均損失額」を意味する"
   ]
  },
  {
   "cell_type": "markdown",
   "id": "de086af5-792b-4433-809f-7b89133d7c7f",
   "metadata": {},
   "source": [
    "## VaRショック（2003）\n",
    "\n",
    "2003年に日本国債金利が急上昇（国債価格が急落）したことがあった。\n",
    "\n",
    "この理由の一つがVaRによるリスク管理だったという説があり、VaRショックと呼ばれる。\n",
    "\n",
    "VaRは過去の実測の価格変動（標準偏差）からリスクを評価するため、\n",
    "\n",
    "```\n",
    "国債価格が下落する\n",
    "→ VaRが上がる\n",
    "→ ポートフォリオのリスク（VaR）を減らすため、金融機関などが国債を売却する\n",
    "→ 国債価格が下落する\n",
    "→ VaRが上がる\n",
    "→ （以下繰り返し）\n",
    "```\n",
    "\n",
    "という悪循環があったとされる\n",
    "\n",
    "\n",
    ":::{card} VaRショックについて―2003年における金利急騰時のケース・スタディ― : 財務省\n",
    "\n",
    "- [pdf](https://www.mof.go.jp/public_relations/finance/202312/202312e.pdf)\n",
    "- [html](https://www.mof.go.jp/public_relations/finance/202312/202312e.html)\n",
    "\n",
    ":::\n"
   ]
  },
  {
   "cell_type": "code",
   "execution_count": null,
   "id": "becb539b-adf1-45f3-a530-17c345b0bbb2",
   "metadata": {},
   "outputs": [],
   "source": []
  }
 ],
 "metadata": {
  "kernelspec": {
   "display_name": "Python 3 (ipykernel)",
   "language": "python",
   "name": "python3"
  },
  "language_info": {
   "codemirror_mode": {
    "name": "ipython",
    "version": 3
   },
   "file_extension": ".py",
   "mimetype": "text/x-python",
   "name": "python",
   "nbconvert_exporter": "python",
   "pygments_lexer": "ipython3",
   "version": "3.10.18"
  }
 },
 "nbformat": 4,
 "nbformat_minor": 5
}
