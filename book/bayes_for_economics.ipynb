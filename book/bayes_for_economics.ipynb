{
 "cells": [
  {
   "cell_type": "markdown",
   "id": "7ede38a4-c3b4-49ea-bec5-6e1060413877",
   "metadata": {},
   "source": [
    "# 経済学におけるベイズ推定の利用例"
   ]
  },
  {
   "cell_type": "markdown",
   "id": "a9e935b0-4fe7-4cc0-8aa2-f0d882938ef4",
   "metadata": {},
   "source": [
    "おそらく\n",
    "\n",
    "- 構造推定アプローチでのベイズ推定\n",
    "- 誘導推定で利用するような手法のベイズ拡張版がいろいろあるのでそれを使う\n",
    "\n",
    "みたいなのがあるはず"
   ]
  },
  {
   "cell_type": "markdown",
   "id": "9b95beda-c350-4729-953c-36fe0df944c6",
   "metadata": {},
   "source": [
    "書籍\n",
    "\n",
    "- 各務和彦 (2022) 『ベイズ分析の理論と応用: R言語による経済データの分析』, 新世社.\n",
    "- [中妻照雄. (2003). ファイナンスのための MCMC 法によるベイズ分析. 三菱経済研究所 経済研究書, 2003(65), 1-369.](https://www.jstage.jst.go.jp/article/merierb/2003/65/2003_65/_article/-char/ja)"
   ]
  },
  {
   "cell_type": "markdown",
   "id": "f5ae1073-73e8-4e46-9304-37afe00ebeb3",
   "metadata": {},
   "source": [
    "論文\n",
    "\n",
    "- [奥村拓史・各務和彦 (2012) 「階層ベイズ・モデルによるクレジット・スコアリング・モデル: 住宅ローンコンソーシアム・データへの応用」, 『日本統計学会誌』, 第42巻, 第1号, 25-53.](https://dl.ndl.go.jp/view/download/digidepo_10823269_po_ART0009986329.pdf?contentNo=1&alternativeNo=)"
   ]
  }
 ],
 "metadata": {
  "kernelspec": {
   "display_name": "Python 3 (ipykernel)",
   "language": "python",
   "name": "python3"
  },
  "language_info": {
   "codemirror_mode": {
    "name": "ipython",
    "version": 3
   },
   "file_extension": ".py",
   "mimetype": "text/x-python",
   "name": "python",
   "nbconvert_exporter": "python",
   "pygments_lexer": "ipython3",
   "version": "3.9.18"
  }
 },
 "nbformat": 4,
 "nbformat_minor": 5
}
