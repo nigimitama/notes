{
 "cells": [
  {
   "cell_type": "markdown",
   "id": "71a41f93-2ae8-4599-bccd-16bb03c3fe07",
   "metadata": {},
   "source": [
    "# WAIC / WBIC / 渡辺ベイズ理論"
   ]
  },
  {
   "cell_type": "markdown",
   "id": "7e636e64-c74f-46a8-8a4a-2c43fcb5faf0",
   "metadata": {},
   "source": [
    "## Summary\n",
    "\n",
    "- 正則でないモデル（例えばDeep Learningのような）でも使えるようにAICを一般化したのがWAIC\n",
    "- そのように一般化したベイズが渡辺ベイズ"
   ]
  },
  {
   "cell_type": "markdown",
   "id": "5dc83927-b6f1-4db1-8579-94afd2598001",
   "metadata": {},
   "source": [
    "## 正則性\n",
    "\n",
    "以下2つを満たすとき$q(x)$は$p(x|\\theta)$に対して正則であるという\n",
    "\n",
    "1. 平均対数損失関数を最小にするパラメータの集合$\\Theta^* = \\{ \\theta \\in \\Theta | L(\\theta) が最小値をとる \\}$について、集合$\\Theta^*$の要素が$\\theta^*$の1つだけである\n",
    "2. $\\theta^*$のヘッセ行列$\\nabla^2 L(\\theta^*)$が正則（固有値が全て正の値）である\n",
    "\n",
    "\n"
   ]
  },
  {
   "cell_type": "markdown",
   "id": "73a69163-e41b-4641-ba69-ef0ff4b1d03f",
   "metadata": {},
   "source": [
    "## 批判\n",
    "\n",
    "> こういう本がでるのはいいことだけど、またこういう間違った認識が広がるのは辟易する。WAIC/WBICは頻度論だから。\n",
    ">\n",
    "> https://twitter.com/kenmcalinn/status/1705383267405615173"
   ]
  },
  {
   "cell_type": "code",
   "execution_count": null,
   "id": "248ddd41-388d-4010-a503-018e696c8113",
   "metadata": {},
   "outputs": [],
   "source": []
  }
 ],
 "metadata": {
  "kernelspec": {
   "display_name": "Python 3 (ipykernel)",
   "language": "python",
   "name": "python3"
  },
  "language_info": {
   "codemirror_mode": {
    "name": "ipython",
    "version": 3
   },
   "file_extension": ".py",
   "mimetype": "text/x-python",
   "name": "python",
   "nbconvert_exporter": "python",
   "pygments_lexer": "ipython3",
   "version": "3.9.18"
  }
 },
 "nbformat": 4,
 "nbformat_minor": 5
}
