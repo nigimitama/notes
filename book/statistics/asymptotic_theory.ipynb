{
 "cells": [
  {
   "cell_type": "markdown",
   "id": "f714c15b-afed-40da-be0f-2463667c7e24",
   "metadata": {},
   "source": [
    "# 漸近理論"
   ]
  },
  {
   "cell_type": "code",
   "execution_count": null,
   "id": "c9ade6e6-7bf2-487f-a37d-e2abe8c59aff",
   "metadata": {},
   "outputs": [],
   "source": []
  }
 ],
 "metadata": {
  "kernelspec": {
   "display_name": "Python 3 (ipykernel)",
   "language": "python",
   "name": "python3"
  },
  "language_info": {
   "codemirror_mode": {
    "name": "ipython",
    "version": 3
   },
   "file_extension": ".py",
   "mimetype": "text/x-python",
   "name": "python",
   "nbconvert_exporter": "python",
   "pygments_lexer": "ipython3",
   "version": "3.9.17"
  }
 },
 "nbformat": 4,
 "nbformat_minor": 5
}
