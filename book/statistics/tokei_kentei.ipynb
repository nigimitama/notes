{
 "cells": [
  {
   "cell_type": "markdown",
   "id": "b24ba84c-a0e2-458f-954d-34a59773c86d",
   "metadata": {},
   "source": [
    "# 統計検定メモ"
   ]
  },
  {
   "cell_type": "markdown",
   "id": "2a454caf-e4bd-4383-b5e3-05431eaa1049",
   "metadata": {},
   "source": [
    "[【完全網羅】統計検定準１級チートシート | とけたろうブログ](https://toketarou.com/quasi_1_cheatsheet/)"
   ]
  },
  {
   "cell_type": "code",
   "execution_count": null,
   "id": "df0141bf-c86b-46e9-bd1a-9e4bc27dc4a6",
   "metadata": {},
   "outputs": [],
   "source": []
  }
 ],
 "metadata": {
  "kernelspec": {
   "display_name": "Python 3 (ipykernel)",
   "language": "python",
   "name": "python3"
  },
  "language_info": {
   "codemirror_mode": {
    "name": "ipython",
    "version": 3
   },
   "file_extension": ".py",
   "mimetype": "text/x-python",
   "name": "python",
   "nbconvert_exporter": "python",
   "pygments_lexer": "ipython3",
   "version": "3.9.18"
  }
 },
 "nbformat": 4,
 "nbformat_minor": 5
}
