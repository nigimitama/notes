{
 "cells": [
  {
   "cell_type": "markdown",
   "id": "218f4780-3039-450e-bde5-df148f461f5f",
   "metadata": {},
   "source": [
    "# 欠測データ"
   ]
  },
  {
   "cell_type": "markdown",
   "id": "90bf2ed8-e1ac-4c67-a560-6e782656bbdb",
   "metadata": {},
   "source": [
    "欠測データ（missing data）は"
   ]
  },
  {
   "cell_type": "markdown",
   "id": "403a6991-a01f-4639-86e5-943c1e206b73",
   "metadata": {},
   "source": [
    "## 代入法\n",
    "\n",
    "### 単一代入法\n",
    "\n",
    "- **平均値代入法**：対象の変数の欠損していないレコードから計算した平均値で代入\n",
    "- **回帰代入法**：当該レコードの欠損していない他の変数を用いて予測した値で代入\n",
    "\n",
    "### 多重代入法\n",
    "\n",
    "1. 疑似乱数から代入する値をサンプリングして代入した複数（$k\\in \\mathbb{N}$個）のデータセットを作成する\n",
    "2. 欠測値を補完した$k$個のデータセットで分析を$k$回行う\n"
   ]
  },
  {
   "cell_type": "markdown",
   "id": "5a6b9498-6c02-4ae4-ae9f-e133fe9e5131",
   "metadata": {},
   "source": [
    "## MICE"
   ]
  },
  {
   "cell_type": "markdown",
   "id": "1bdf7e1c-45fe-42dd-8004-3f58bf076b74",
   "metadata": {},
   "source": [
    "古典的な多重代入法はMCMCだったが、FCSアルゴリズムを使う **MICE（multivvariate imputation by chained equations）** が人気\n",
    "\n",
    "[高橋将宜, & 伊藤孝之. (2014). 様々な多重代入法アルゴリズムの比較~ 大規模経済系データを用いた分析~. 統計研究彙報, 71(3), 39-82.](https://www.stat.go.jp/training/2kenkyu/ihou/71/pdf/2-2-713.pdf)\n"
   ]
  },
  {
   "cell_type": "markdown",
   "id": "377a4176-ffb8-42d1-96ae-83e9239d44a8",
   "metadata": {},
   "source": [
    "### StatsmodelsパッケージのMICE\n",
    "\n",
    "[Multiple Imputation with Chained Equations - statsmodels 0.14.1](https://www.statsmodels.org/stable/imputation.html)"
   ]
  },
  {
   "cell_type": "markdown",
   "id": "7e331122-8cb5-4a0a-bc15-b40570349ca7",
   "metadata": {},
   "source": [
    "#### MICEの実行例"
   ]
  },
  {
   "cell_type": "code",
   "execution_count": 138,
   "id": "64ce23bb-d62c-4a23-b4a0-d83fce0f54c7",
   "metadata": {},
   "outputs": [
    {
     "data": {
      "text/html": [
       "<div>\n",
       "<style scoped>\n",
       "    .dataframe tbody tr th:only-of-type {\n",
       "        vertical-align: middle;\n",
       "    }\n",
       "\n",
       "    .dataframe tbody tr th {\n",
       "        vertical-align: top;\n",
       "    }\n",
       "\n",
       "    .dataframe thead th {\n",
       "        text-align: right;\n",
       "    }\n",
       "</style>\n",
       "<table border=\"1\" class=\"dataframe\">\n",
       "  <thead>\n",
       "    <tr style=\"text-align: right;\">\n",
       "      <th></th>\n",
       "      <th>x1</th>\n",
       "      <th>x2</th>\n",
       "      <th>y</th>\n",
       "    </tr>\n",
       "  </thead>\n",
       "  <tbody>\n",
       "    <tr>\n",
       "      <th>0</th>\n",
       "      <td>0.548814</td>\n",
       "      <td>1.494079</td>\n",
       "      <td>10.456595</td>\n",
       "    </tr>\n",
       "    <tr>\n",
       "      <th>1</th>\n",
       "      <td>0.715189</td>\n",
       "      <td>-0.205158</td>\n",
       "      <td>6.162852</td>\n",
       "    </tr>\n",
       "    <tr>\n",
       "      <th>2</th>\n",
       "      <td>0.602763</td>\n",
       "      <td>0.313068</td>\n",
       "      <td>5.565693</td>\n",
       "    </tr>\n",
       "    <tr>\n",
       "      <th>3</th>\n",
       "      <td>0.544883</td>\n",
       "      <td>-0.854096</td>\n",
       "      <td>1.859826</td>\n",
       "    </tr>\n",
       "    <tr>\n",
       "      <th>4</th>\n",
       "      <td>0.423655</td>\n",
       "      <td>-2.552990</td>\n",
       "      <td>-4.589248</td>\n",
       "    </tr>\n",
       "    <tr>\n",
       "      <th>5</th>\n",
       "      <td>0.645894</td>\n",
       "      <td>0.653619</td>\n",
       "      <td>5.770308</td>\n",
       "    </tr>\n",
       "    <tr>\n",
       "      <th>6</th>\n",
       "      <td>0.437587</td>\n",
       "      <td>0.864436</td>\n",
       "      <td>5.074974</td>\n",
       "    </tr>\n",
       "    <tr>\n",
       "      <th>7</th>\n",
       "      <td>0.891773</td>\n",
       "      <td>-0.742165</td>\n",
       "      <td>6.183145</td>\n",
       "    </tr>\n",
       "    <tr>\n",
       "      <th>8</th>\n",
       "      <td>0.963663</td>\n",
       "      <td>2.269755</td>\n",
       "      <td>13.117925</td>\n",
       "    </tr>\n",
       "    <tr>\n",
       "      <th>9</th>\n",
       "      <td>0.383442</td>\n",
       "      <td>-1.454366</td>\n",
       "      <td>-0.883964</td>\n",
       "    </tr>\n",
       "    <tr>\n",
       "      <th>10</th>\n",
       "      <td>0.791725</td>\n",
       "      <td>0.045759</td>\n",
       "      <td>4.843105</td>\n",
       "    </tr>\n",
       "    <tr>\n",
       "      <th>11</th>\n",
       "      <td>0.528895</td>\n",
       "      <td>-0.187184</td>\n",
       "      <td>4.860413</td>\n",
       "    </tr>\n",
       "    <tr>\n",
       "      <th>12</th>\n",
       "      <td>0.568045</td>\n",
       "      <td>1.532779</td>\n",
       "      <td>7.824663</td>\n",
       "    </tr>\n",
       "    <tr>\n",
       "      <th>13</th>\n",
       "      <td>0.925597</td>\n",
       "      <td>1.469359</td>\n",
       "      <td>10.823319</td>\n",
       "    </tr>\n",
       "    <tr>\n",
       "      <th>14</th>\n",
       "      <td>0.071036</td>\n",
       "      <td>0.154947</td>\n",
       "      <td>1.924556</td>\n",
       "    </tr>\n",
       "    <tr>\n",
       "      <th>15</th>\n",
       "      <td>0.087129</td>\n",
       "      <td>0.378163</td>\n",
       "      <td>3.957037</td>\n",
       "    </tr>\n",
       "    <tr>\n",
       "      <th>16</th>\n",
       "      <td>0.020218</td>\n",
       "      <td>-0.887786</td>\n",
       "      <td>-1.073070</td>\n",
       "    </tr>\n",
       "    <tr>\n",
       "      <th>17</th>\n",
       "      <td>0.832620</td>\n",
       "      <td>-1.980796</td>\n",
       "      <td>-0.959922</td>\n",
       "    </tr>\n",
       "    <tr>\n",
       "      <th>18</th>\n",
       "      <td>0.778157</td>\n",
       "      <td>-0.347912</td>\n",
       "      <td>4.818865</td>\n",
       "    </tr>\n",
       "    <tr>\n",
       "      <th>19</th>\n",
       "      <td>0.870012</td>\n",
       "      <td>0.156349</td>\n",
       "      <td>7.247440</td>\n",
       "    </tr>\n",
       "  </tbody>\n",
       "</table>\n",
       "</div>"
      ],
      "text/plain": [
       "          x1        x2          y\n",
       "0   0.548814  1.494079  10.456595\n",
       "1   0.715189 -0.205158   6.162852\n",
       "2   0.602763  0.313068   5.565693\n",
       "3   0.544883 -0.854096   1.859826\n",
       "4   0.423655 -2.552990  -4.589248\n",
       "5   0.645894  0.653619   5.770308\n",
       "6   0.437587  0.864436   5.074974\n",
       "7   0.891773 -0.742165   6.183145\n",
       "8   0.963663  2.269755  13.117925\n",
       "9   0.383442 -1.454366  -0.883964\n",
       "10  0.791725  0.045759   4.843105\n",
       "11  0.528895 -0.187184   4.860413\n",
       "12  0.568045  1.532779   7.824663\n",
       "13  0.925597  1.469359  10.823319\n",
       "14  0.071036  0.154947   1.924556\n",
       "15  0.087129  0.378163   3.957037\n",
       "16  0.020218 -0.887786  -1.073070\n",
       "17  0.832620 -1.980796  -0.959922\n",
       "18  0.778157 -0.347912   4.818865\n",
       "19  0.870012  0.156349   7.247440"
      ]
     },
     "execution_count": 138,
     "metadata": {},
     "output_type": "execute_result"
    }
   ],
   "source": [
    "# データの生成：完全データ\n",
    "import numpy as np\n",
    "np.random.seed(0)\n",
    "\n",
    "n = 20\n",
    "x1 = np.random.uniform(size=n)\n",
    "x2 = np.random.normal(size=n)\n",
    "e = np.random.normal(size=n)\n",
    "y = 2 + 5*x1 + 3*x2 + e\n",
    "\n",
    "import pandas as pd\n",
    "df_full = pd.DataFrame({\"x1\": x1, \"x2\": x2, \"y\": y})\n",
    "df_full"
   ]
  },
  {
   "cell_type": "code",
   "execution_count": 139,
   "id": "6cdb30ac-9fd7-4c35-97c6-f379289ffb7a",
   "metadata": {},
   "outputs": [
    {
     "data": {
      "text/plain": [
       "<seaborn.axisgrid.PairGrid at 0x7fe476612650>"
      ]
     },
     "execution_count": 139,
     "metadata": {},
     "output_type": "execute_result"
    },
    {
     "data": {
      "image/png": "[encoded data removed]",
      "text/plain": [
       "<Figure size 450x450 with 12 Axes>"
      ]
     },
     "metadata": {},
     "output_type": "display_data"
    }
   ],
   "source": [
    "# データの関係\n",
    "import seaborn as sns\n",
    "sns.pairplot(df_full, height=1.5)"
   ]
  },
  {
   "cell_type": "code",
   "execution_count": 140,
   "id": "29df6218-dd9d-463f-8144-b8e284e4de58",
   "metadata": {},
   "outputs": [
    {
     "data": {
      "text/html": [
       "<div>\n",
       "<style scoped>\n",
       "    .dataframe tbody tr th:only-of-type {\n",
       "        vertical-align: middle;\n",
       "    }\n",
       "\n",
       "    .dataframe tbody tr th {\n",
       "        vertical-align: top;\n",
       "    }\n",
       "\n",
       "    .dataframe thead th {\n",
       "        text-align: right;\n",
       "    }\n",
       "</style>\n",
       "<table border=\"1\" class=\"dataframe\">\n",
       "  <thead>\n",
       "    <tr style=\"text-align: right;\">\n",
       "      <th></th>\n",
       "      <th>x1</th>\n",
       "      <th>x2</th>\n",
       "      <th>y</th>\n",
       "    </tr>\n",
       "  </thead>\n",
       "  <tbody>\n",
       "    <tr>\n",
       "      <th>0</th>\n",
       "      <td>0.548814</td>\n",
       "      <td>1.494079</td>\n",
       "      <td>10.456595</td>\n",
       "    </tr>\n",
       "    <tr>\n",
       "      <th>1</th>\n",
       "      <td>NaN</td>\n",
       "      <td>-0.205158</td>\n",
       "      <td>6.162852</td>\n",
       "    </tr>\n",
       "    <tr>\n",
       "      <th>2</th>\n",
       "      <td>0.602763</td>\n",
       "      <td>0.313068</td>\n",
       "      <td>5.565693</td>\n",
       "    </tr>\n",
       "    <tr>\n",
       "      <th>3</th>\n",
       "      <td>0.544883</td>\n",
       "      <td>-0.854096</td>\n",
       "      <td>1.859826</td>\n",
       "    </tr>\n",
       "    <tr>\n",
       "      <th>4</th>\n",
       "      <td>0.423655</td>\n",
       "      <td>-2.552990</td>\n",
       "      <td>-4.589248</td>\n",
       "    </tr>\n",
       "    <tr>\n",
       "      <th>5</th>\n",
       "      <td>0.645894</td>\n",
       "      <td>0.653619</td>\n",
       "      <td>5.770308</td>\n",
       "    </tr>\n",
       "    <tr>\n",
       "      <th>6</th>\n",
       "      <td>0.437587</td>\n",
       "      <td>0.864436</td>\n",
       "      <td>5.074974</td>\n",
       "    </tr>\n",
       "    <tr>\n",
       "      <th>7</th>\n",
       "      <td>0.891773</td>\n",
       "      <td>-0.742165</td>\n",
       "      <td>6.183145</td>\n",
       "    </tr>\n",
       "    <tr>\n",
       "      <th>8</th>\n",
       "      <td>NaN</td>\n",
       "      <td>2.269755</td>\n",
       "      <td>13.117925</td>\n",
       "    </tr>\n",
       "    <tr>\n",
       "      <th>9</th>\n",
       "      <td>0.383442</td>\n",
       "      <td>-1.454366</td>\n",
       "      <td>-0.883964</td>\n",
       "    </tr>\n",
       "    <tr>\n",
       "      <th>10</th>\n",
       "      <td>0.791725</td>\n",
       "      <td>0.045759</td>\n",
       "      <td>4.843105</td>\n",
       "    </tr>\n",
       "    <tr>\n",
       "      <th>11</th>\n",
       "      <td>0.528895</td>\n",
       "      <td>-0.187184</td>\n",
       "      <td>4.860413</td>\n",
       "    </tr>\n",
       "    <tr>\n",
       "      <th>12</th>\n",
       "      <td>0.568045</td>\n",
       "      <td>1.532779</td>\n",
       "      <td>7.824663</td>\n",
       "    </tr>\n",
       "    <tr>\n",
       "      <th>13</th>\n",
       "      <td>0.925597</td>\n",
       "      <td>1.469359</td>\n",
       "      <td>10.823319</td>\n",
       "    </tr>\n",
       "    <tr>\n",
       "      <th>14</th>\n",
       "      <td>0.071036</td>\n",
       "      <td>0.154947</td>\n",
       "      <td>1.924556</td>\n",
       "    </tr>\n",
       "    <tr>\n",
       "      <th>15</th>\n",
       "      <td>0.087129</td>\n",
       "      <td>0.378163</td>\n",
       "      <td>3.957037</td>\n",
       "    </tr>\n",
       "    <tr>\n",
       "      <th>16</th>\n",
       "      <td>0.020218</td>\n",
       "      <td>-0.887786</td>\n",
       "      <td>-1.073070</td>\n",
       "    </tr>\n",
       "    <tr>\n",
       "      <th>17</th>\n",
       "      <td>0.832620</td>\n",
       "      <td>-1.980796</td>\n",
       "      <td>-0.959922</td>\n",
       "    </tr>\n",
       "    <tr>\n",
       "      <th>18</th>\n",
       "      <td>NaN</td>\n",
       "      <td>-0.347912</td>\n",
       "      <td>4.818865</td>\n",
       "    </tr>\n",
       "    <tr>\n",
       "      <th>19</th>\n",
       "      <td>NaN</td>\n",
       "      <td>0.156349</td>\n",
       "      <td>7.247440</td>\n",
       "    </tr>\n",
       "  </tbody>\n",
       "</table>\n",
       "</div>"
      ],
      "text/plain": [
       "          x1        x2          y\n",
       "0   0.548814  1.494079  10.456595\n",
       "1        NaN -0.205158   6.162852\n",
       "2   0.602763  0.313068   5.565693\n",
       "3   0.544883 -0.854096   1.859826\n",
       "4   0.423655 -2.552990  -4.589248\n",
       "5   0.645894  0.653619   5.770308\n",
       "6   0.437587  0.864436   5.074974\n",
       "7   0.891773 -0.742165   6.183145\n",
       "8        NaN  2.269755  13.117925\n",
       "9   0.383442 -1.454366  -0.883964\n",
       "10  0.791725  0.045759   4.843105\n",
       "11  0.528895 -0.187184   4.860413\n",
       "12  0.568045  1.532779   7.824663\n",
       "13  0.925597  1.469359  10.823319\n",
       "14  0.071036  0.154947   1.924556\n",
       "15  0.087129  0.378163   3.957037\n",
       "16  0.020218 -0.887786  -1.073070\n",
       "17  0.832620 -1.980796  -0.959922\n",
       "18       NaN -0.347912   4.818865\n",
       "19       NaN  0.156349   7.247440"
      ]
     },
     "execution_count": 140,
     "metadata": {},
     "output_type": "execute_result"
    }
   ],
   "source": [
    "# 一部を意図的に欠損させる\n",
    "df = df_full.copy()\n",
    "\n",
    "missing_idx = df.sample(frac=0.2, random_state=0).index\n",
    "df.loc[missing_idx, \"x1\"] = None\n",
    "df"
   ]
  },
  {
   "cell_type": "markdown",
   "id": "9b09fd2d-8bc7-4c58-9058-433be5416ce4",
   "metadata": {},
   "source": [
    "#### MICEを使ったデータセット群の生成"
   ]
  },
  {
   "cell_type": "code",
   "execution_count": 141,
   "id": "4f9cfc28-0719-459a-9901-8cdf7228b180",
   "metadata": {},
   "outputs": [
    {
     "data": {
      "image/png": "[encoded data removed]",
      "text/plain": [
       "<Figure size 640x480 with 1 Axes>"
      ]
     },
     "metadata": {},
     "output_type": "display_data"
    }
   ],
   "source": [
    "# MICEでデータセットを生成\n",
    "from statsmodels.imputation import mice\n",
    "\n",
    "samples = []\n",
    "imp = mice.MICEData(df, perturbation_method='gaussian', k_pmm=20)\n",
    "imp.set_imputer(endog_name='x1', formula='y + x2')\n",
    "for j in range(100):\n",
    "    imp.update_all()\n",
    "    samples.append(imp.data.loc[missing_idx, \"x1\"].to_dict())\n",
    "samples = pd.DataFrame(samples)\n",
    "\n",
    "# 代入された値の分布\n",
    "import matplotlib.pyplot as plt\n",
    "fig, ax = plt.subplots()\n",
    "colors = [\"steelblue\", \"darkorange\", \"mediumseagreen\", \"tomato\"]\n",
    "for color, i in zip(colors, samples.columns):\n",
    "    ax.axvline(df_full.loc[i, \"x1\"], label=f\"sample-{i}\", color=color)\n",
    "    ax.hist(samples[i], label=f\"sample-{i}\", alpha=0.5, color=color, bins=20)\n",
    "ax.legend()\n",
    "fig.show()"
   ]
  },
  {
   "cell_type": "markdown",
   "id": "4383b0a2-9f79-4ac8-88ef-25c523d14714",
   "metadata": {},
   "source": [
    "#### MICEを使って推定"
   ]
  },
  {
   "cell_type": "code",
   "execution_count": 142,
   "id": "a2368eb2-8415-4ccd-b4c5-7ab38f9b7a39",
   "metadata": {},
   "outputs": [
    {
     "name": "stdout",
     "output_type": "stream",
     "text": [
      "                        Results: MICE\n",
      "=============================================================\n",
      "Method:                  MICE      Sample size:          20  \n",
      "Model:                   OLS       Scale                 1.90\n",
      "Dependent variable:      y         Num. imputations      10  \n",
      "-------------------------------------------------------------\n",
      "          Coef.  Std.Err.    t    P>|t|  [0.025 0.975]  FMI  \n",
      "-------------------------------------------------------------\n",
      "Intercept 2.0910   0.8916  2.3453 0.0190 0.3435 3.8385 0.4320\n",
      "x1        4.6978   1.4068  3.3395 0.0008 1.9406 7.4550 0.3596\n",
      "x2        3.1663   0.2912 10.8730 0.0000 2.5955 3.7370 0.1961\n",
      "=============================================================\n",
      "\n"
     ]
    }
   ],
   "source": [
    "import statsmodels.api as sm\n",
    "from statsmodels.imputation import mice\n",
    "\n",
    "imp = mice.MICEData(df)\n",
    "fml = \"y ~ x1 + x2\"\n",
    "m = mice.MICE(fml, sm.OLS, imp)\n",
    "results = m.fit(n_burnin=10, n_imputations=10)\n",
    "print(results.summary())"
   ]
  },
  {
   "cell_type": "markdown",
   "id": "b861371b-09c5-4686-8ad3-f2c917412f0e",
   "metadata": {},
   "source": [
    "けっこうズレてる"
   ]
  },
  {
   "cell_type": "code",
   "execution_count": 143,
   "id": "b54cfa1b-64a1-44a1-9ad2-0dacda680a30",
   "metadata": {},
   "outputs": [
    {
     "name": "stdout",
     "output_type": "stream",
     "text": [
      "                            OLS Regression Results                            \n",
      "==============================================================================\n",
      "Dep. Variable:                      y   R-squared:                       0.940\n",
      "Model:                            OLS   Adj. R-squared:                  0.931\n",
      "Method:                 Least Squares   F-statistic:                     102.2\n",
      "Date:                Mon, 09 Sep 2024   Prob (F-statistic):           1.12e-08\n",
      "Time:                        05:35:02   Log-Likelihood:                -22.843\n",
      "No. Observations:                  16   AIC:                             51.69\n",
      "Df Residuals:                      13   BIC:                             54.00\n",
      "Df Model:                           2                                         \n",
      "Covariance Type:            nonrobust                                         \n",
      "==============================================================================\n",
      "                 coef    std err          t      P>|t|      [0.025      0.975]\n",
      "------------------------------------------------------------------------------\n",
      "Intercept      1.3872      0.610      2.276      0.040       0.070       2.704\n",
      "x1             5.3861      1.038      5.191      0.000       3.144       7.628\n",
      "x2             3.0146      0.236     12.760      0.000       2.504       3.525\n",
      "==============================================================================\n",
      "Omnibus:                        1.792   Durbin-Watson:                   2.266\n",
      "Prob(Omnibus):                  0.408   Jarque-Bera (JB):                1.322\n",
      "Skew:                           0.665   Prob(JB):                        0.516\n",
      "Kurtosis:                       2.539   Cond. No.                         5.13\n",
      "==============================================================================\n",
      "\n",
      "Notes:\n",
      "[1] Standard Errors assume that the covariance matrix of the errors is correctly specified.\n"
     ]
    },
    {
     "name": "stderr",
     "output_type": "stream",
     "text": [
      "/usr/local/lib/python3.10/site-packages/scipy/stats/_axis_nan_policy.py:531: UserWarning: kurtosistest only valid for n>=20 ... continuing anyway, n=16\n",
      "  res = hypotest_fun_out(*samples, **kwds)\n"
     ]
    }
   ],
   "source": [
    "import statsmodels.formula.api as smf\n",
    "\n",
    "print(smf.ols(fml, data=df).fit().summary())"
   ]
  },
  {
   "cell_type": "code",
   "execution_count": 144,
   "id": "488ab216-3db1-4119-9e0d-f23c13ac653b",
   "metadata": {},
   "outputs": [
    {
     "name": "stdout",
     "output_type": "stream",
     "text": [
      "                            OLS Regression Results                            \n",
      "==============================================================================\n",
      "Dep. Variable:                      y   R-squared:                       0.948\n",
      "Model:                            OLS   Adj. R-squared:                  0.942\n",
      "Method:                 Least Squares   F-statistic:                     154.6\n",
      "Date:                Mon, 09 Sep 2024   Prob (F-statistic):           1.24e-11\n",
      "Time:                        05:35:03   Log-Likelihood:                -27.831\n",
      "No. Observations:                  20   AIC:                             61.66\n",
      "Df Residuals:                      17   BIC:                             64.65\n",
      "Df Model:                           2                                         \n",
      "Covariance Type:            nonrobust                                         \n",
      "==============================================================================\n",
      "                 coef    std err          t      P>|t|      [0.025      0.975]\n",
      "------------------------------------------------------------------------------\n",
      "Intercept      1.3384      0.561      2.384      0.029       0.154       2.523\n",
      "x1             5.6626      0.876      6.463      0.000       3.814       7.511\n",
      "x2             2.9649      0.204     14.558      0.000       2.535       3.395\n",
      "==============================================================================\n",
      "Omnibus:                        1.327   Durbin-Watson:                   2.023\n",
      "Prob(Omnibus):                  0.515   Jarque-Bera (JB):                1.136\n",
      "Skew:                           0.418   Prob(JB):                        0.567\n",
      "Kurtosis:                       2.186   Cond. No.                         5.19\n",
      "==============================================================================\n",
      "\n",
      "Notes:\n",
      "[1] Standard Errors assume that the covariance matrix of the errors is correctly specified.\n"
     ]
    }
   ],
   "source": [
    "import statsmodels.formula.api as smf\n",
    "\n",
    "print(smf.ols(fml, data=df_full).fit().summary())"
   ]
  }
 ],
 "metadata": {
  "kernelspec": {
   "display_name": "Python 3 (ipykernel)",
   "language": "python",
   "name": "python3"
  },
  "language_info": {
   "codemirror_mode": {
    "name": "ipython",
    "version": 3
   },
   "file_extension": ".py",
   "mimetype": "text/x-python",
   "name": "python",
   "nbconvert_exporter": "python",
   "pygments_lexer": "ipython3",
   "version": "3.10.14"
  }
 },
 "nbformat": 4,
 "nbformat_minor": 5
}
