{
 "cells": [
  {
   "cell_type": "markdown",
   "id": "d76b7ec4-a1f0-4435-9c0c-a7b84c1f06c2",
   "metadata": {},
   "source": [
    "# 概要"
   ]
  },
  {
   "cell_type": "markdown",
   "id": "1f9825fd-08a4-4175-b53d-66c07addee98",
   "metadata": {},
   "source": [
    "## 確率収束\n",
    "\n",
    ":::{adomonition} （定義）確率収束\n",
    "サンプル数$n$を無限大に近づけていったとき、確率変数列$\\{X_n\\}_{n=1}^{\\infty}$が定数$c$から外れる確率がゼロに近づく、すなわち任意の$\\varepsilon>0$について\n",
    "\n",
    "$$\n",
    "\\lim_{n\\to\\infty} P(|X_n - c| > \\varepsilon) = 0\n",
    "$$\n",
    "\n",
    "ならば、「$X_n$は$c$に確率収束する」といい\n",
    "\n",
    "$$\n",
    "\\text{plim} X_n = c\n",
    "$$\n",
    "\n",
    "あるいは\n",
    "\n",
    "$$\n",
    "X_n \\overset{p}{\\to} c\n",
    "$$\n",
    "\n",
    "と表す\n",
    ":::"
   ]
  },
  {
   "cell_type": "markdown",
   "id": "1297ccb9-e26f-4d40-83ff-ce99cd29353c",
   "metadata": {},
   "source": [
    "## 大数の法則\n",
    "\n",
    ":::{adomonition}（定理）大数の法則\n",
    "$X_1, \\dots, X_n$はi.i.d.で、$E[|X_i|] < \\infty$とする。このとき、標本平均$\\bar{X}$は$\\mu = E[X_i]$に確率収束する\n",
    "\n",
    "$$\n",
    "\\lim_{n\\to\\infty} P(|\\bar{X} - \\mu| > \\varepsilon) = 0\n",
    "$$\n",
    ":::"
   ]
  },
  {
   "cell_type": "markdown",
   "id": "0c873751-e71f-4584-8d97-7ec28cbdedd0",
   "metadata": {},
   "source": [
    "### 推定量の一致性\n",
    "\n",
    "推定量$\\hat{\\theta}$が真のパラメータ$\\theta$に確率収束\n",
    "\n",
    "$$\n",
    "\\hat{\\theta} \\overset{p}{\\to} \\theta\n",
    "$$\n",
    "\n",
    "するとき、その推定量は**一致性**（consistency）を持つという"
   ]
  },
  {
   "cell_type": "code",
   "execution_count": null,
   "id": "bca7dd26-fbf6-4b61-a333-48ac92c54492",
   "metadata": {},
   "outputs": [],
   "source": []
  }
 ],
 "metadata": {
  "kernelspec": {
   "display_name": "Python 3 (ipykernel)",
   "language": "python",
   "name": "python3"
  },
  "language_info": {
   "codemirror_mode": {
    "name": "ipython",
    "version": 3
   },
   "file_extension": ".py",
   "mimetype": "text/x-python",
   "name": "python",
   "nbconvert_exporter": "python",
   "pygments_lexer": "ipython3",
   "version": "3.9.17"
  }
 },
 "nbformat": 4,
 "nbformat_minor": 5
}
