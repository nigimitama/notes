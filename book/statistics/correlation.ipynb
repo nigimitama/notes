{
 "cells": [
  {
   "cell_type": "markdown",
   "id": "219eeefe-effc-4e7c-88f7-23f88b1689ab",
   "metadata": {},
   "source": [
    "# 順序尺度の相関係数\n",
    "\n",
    "アンケート調査の「1: あてはまらない」「2: どちらともいえない」「3: あてはまる」のような3値をとる順序尺度の変数や、「該当する」「該当しない」のような二値変数のような、値の種類数が比較的少ない順序尺度の相関係数は、ピアソンの積率相関係数で測った場合過小評価される（絶対値が小さくなる傾向がある）。これは**相関係数の希薄化**と呼ばれる現象である。\n",
    "\n",
    "\n",
    ":::{hint}\n",
    "「5値以上あれば積率相関係数でも誤差があまり大きくないため、連続尺度の変数のように積率相関係数にもとづいて相関を分析してもよい」という研究結果もある。\n",
    "\n",
    "「1: 全くあてはまらない」「2: あまりあてはまらない」...「5: よくあてはまる」の5件法がよく使われる理由のひとつはこのため。\n",
    "\n",
    "（[萩生田 & 繁桝 1996](https://www.jstage.jst.go.jp/article/jjpsy1926/67/1/67_1_1/_article/-char/ja/)）\n",
    ":::\n"
   ]
  },
  {
   "cell_type": "markdown",
   "id": "7ad69e3e-ab8a-4cd0-a501-741c3e720660",
   "metadata": {},
   "source": [
    "こうした問題に対処するために、次のような相関係数が存在する。\n",
    "\n",
    "- **ポリコリック相関係数**（polychoric correlation）：順序尺度同士の相関係数\n",
    "- **ポリシリアル相関係数**（polyserial correlation）：順序尺度と連続尺度の相関係数"
   ]
  },
  {
   "cell_type": "markdown",
   "id": "b170a9d1-6e6a-4e98-bec5-0ff8bfd9be96",
   "metadata": {},
   "source": [
    "## 例\n",
    "\n",
    "以下のようなデータがあるとする"
   ]
  },
  {
   "cell_type": "code",
   "execution_count": 93,
   "id": "e269edf5-0c19-4968-bb5c-858ca98eb00a",
   "metadata": {},
   "outputs": [],
   "source": [
    "import numpy as np\n",
    "import matplotlib.pyplot as plt\n",
    "import pandas as pd\n",
    "from scipy.stats import multivariate_normal, pearsonr\n",
    "from semopy.model import hetcor"
   ]
  },
  {
   "cell_type": "code",
   "execution_count": 101,
   "id": "d66aa1dc-15ae-438e-8b5d-fcacf2265d88",
   "metadata": {
    "tags": [
     "hide-input"
    ]
   },
   "outputs": [
    {
     "data": {
      "image/png": "[encoded data removed]",
      "text/plain": [
       "<Figure size 432x288 with 1 Axes>"
      ]
     },
     "metadata": {
      "needs_background": "light"
     },
     "output_type": "display_data"
    }
   ],
   "source": [
    "# generate data\n",
    "n = 100\n",
    "mean = [50, 0]\n",
    "std = [10, 3]\n",
    "rho = 0.5\n",
    "cov = rho * std[0] * std[1]\n",
    "Cov = np.array([\n",
    "    [std[0]**2, cov],\n",
    "    [cov, std[1]**2]\n",
    "])\n",
    "\n",
    "X = multivariate_normal.rvs(mean=mean, cov=Cov, size=n, random_state=0)\n",
    "\n",
    "fig, ax = plt.subplots()\n",
    "ax.scatter(X[:, 0], X[:, 1], alpha=.7)\n",
    "ax.set(xlabel=\"x1\", ylabel=\"x2\", title=f\"N(μ={mean}, ∑={Cov.tolist()}) (ρ={rho})\")\n",
    "fig.show()"
   ]
  },
  {
   "cell_type": "markdown",
   "id": "02954ce1-cec7-4aee-9587-63ac0548e68d",
   "metadata": {},
   "source": [
    "適当な閾値で区切って離散化したとする。"
   ]
  },
  {
   "cell_type": "code",
   "execution_count": 122,
   "id": "159dbc29-1d0e-49e2-b714-904730c5dac3",
   "metadata": {
    "tags": [
     "hide-input"
    ]
   },
   "outputs": [
    {
     "name": "stdout",
     "output_type": "stream",
     "text": [
      "離散化したデータのクロス集計表\n"
     ]
    },
    {
     "data": {
      "text/html": [
       "<div>\n",
       "<style scoped>\n",
       "    .dataframe tbody tr th:only-of-type {\n",
       "        vertical-align: middle;\n",
       "    }\n",
       "\n",
       "    .dataframe tbody tr th {\n",
       "        vertical-align: top;\n",
       "    }\n",
       "\n",
       "    .dataframe thead th {\n",
       "        text-align: right;\n",
       "    }\n",
       "</style>\n",
       "<table border=\"1\" class=\"dataframe\">\n",
       "  <thead>\n",
       "    <tr style=\"text-align: right;\">\n",
       "      <th>d2</th>\n",
       "      <th>1</th>\n",
       "      <th>2</th>\n",
       "      <th>3</th>\n",
       "    </tr>\n",
       "    <tr>\n",
       "      <th>d1</th>\n",
       "      <th></th>\n",
       "      <th></th>\n",
       "      <th></th>\n",
       "    </tr>\n",
       "  </thead>\n",
       "  <tbody>\n",
       "    <tr>\n",
       "      <th>0</th>\n",
       "      <td>7</td>\n",
       "      <td>39</td>\n",
       "      <td>2</td>\n",
       "    </tr>\n",
       "    <tr>\n",
       "      <th>1</th>\n",
       "      <td>1</td>\n",
       "      <td>38</td>\n",
       "      <td>13</td>\n",
       "    </tr>\n",
       "  </tbody>\n",
       "</table>\n",
       "</div>"
      ],
      "text/plain": [
       "d2  1   2   3\n",
       "d1           \n",
       "0   7  39   2\n",
       "1   1  38  13"
      ]
     },
     "execution_count": 122,
     "metadata": {},
     "output_type": "execute_result"
    }
   ],
   "source": [
    "# 離散化\n",
    "d1 = X[:, 0] >= X[:, 0].mean()\n",
    "d2 = np.ones(shape=(n, ))\n",
    "d2[(-4 <= X[:, 1]) & (X[:, 1] < 4)] = 2\n",
    "d2[(4 <= X[:, 1])] = 3\n",
    "\n",
    "D = np.array([d1, d2]).T\n",
    "D = pd.DataFrame(D, columns=[\"d1\", \"d2\"]).astype(int)\n",
    "\n",
    "table = pd.crosstab(D[\"d1\"], D[\"d2\"])\n",
    "print(\"離散化したデータのクロス集計表\")\n",
    "table #.style.set_caption(\"クロス集計表\")"
   ]
  },
  {
   "cell_type": "markdown",
   "id": "56d6dc73-05e4-44a1-9374-b7bc0a458513",
   "metadata": {},
   "source": [
    "離散化前の量的変数に積率相関係数を適用した場合と、離散化後の質的変数に積率相関係数を使用した場合、そしてポリコリック相関係数を使用した場合の結果は次のようになる。\n",
    "\n",
    "質的変数にピアソンの積率相関係数を使用すると、相関が過小評価されていること、そしてポリコリック相関係数のほうが離散化前の相関係数の再現度がより高いことがわかる。"
   ]
  },
  {
   "cell_type": "code",
   "execution_count": 120,
   "id": "33f91e65-d604-422f-86e5-ee71ac231562",
   "metadata": {
    "tags": [
     "hide-input"
    ]
   },
   "outputs": [
    {
     "data": {
      "text/html": [
       "<style type=\"text/css\">\n",
       "</style>\n",
       "<table id=\"T_0cb06\">\n",
       "  <thead>\n",
       "    <tr>\n",
       "      <th class=\"blank level0\" >&nbsp;</th>\n",
       "      <th id=\"T_0cb06_level0_col0\" class=\"col_heading level0 col0\" >method</th>\n",
       "      <th id=\"T_0cb06_level0_col1\" class=\"col_heading level0 col1\" >value</th>\n",
       "    </tr>\n",
       "  </thead>\n",
       "  <tbody>\n",
       "    <tr>\n",
       "      <th id=\"T_0cb06_level0_row0\" class=\"row_heading level0 row0\" >0</th>\n",
       "      <td id=\"T_0cb06_row0_col0\" class=\"data row0 col0\" >積率相関係数を量的変数に適用</td>\n",
       "      <td id=\"T_0cb06_row0_col1\" class=\"data row0 col1\" >0.517</td>\n",
       "    </tr>\n",
       "    <tr>\n",
       "      <th id=\"T_0cb06_level0_row1\" class=\"row_heading level0 row1\" >1</th>\n",
       "      <td id=\"T_0cb06_row1_col0\" class=\"data row1 col0\" >積率相関係数を質的変数に適用</td>\n",
       "      <td id=\"T_0cb06_row1_col1\" class=\"data row1 col1\" >0.353</td>\n",
       "    </tr>\n",
       "    <tr>\n",
       "      <th id=\"T_0cb06_level0_row2\" class=\"row_heading level0 row2\" >2</th>\n",
       "      <td id=\"T_0cb06_row2_col0\" class=\"data row2 col0\" >ポリコリック相関係数を質的変数に適用</td>\n",
       "      <td id=\"T_0cb06_row2_col1\" class=\"data row2 col1\" >0.570</td>\n",
       "    </tr>\n",
       "  </tbody>\n",
       "</table>\n"
      ],
      "text/plain": [
       "<pandas.io.formats.style.Styler at 0x7fd1f7f52df0>"
      ]
     },
     "execution_count": 120,
     "metadata": {},
     "output_type": "execute_result"
    }
   ],
   "source": [
    "from semopy.polycorr import polychoric_corr\n",
    "\n",
    "pd.DataFrame([\n",
    "    dict(method=\"積率相関係数を量的変数に適用\", value=pearsonr(X[:, 0], X[:, 1]).statistic),\n",
    "    dict(method=\"積率相関係数を質的変数に適用\", value=D.corr().iloc[0, 1]),\n",
    "    dict(method=\"ポリコリック相関係数を質的変数に適用\", value=polychoric_corr(D[\"d1\"], D[\"d2\"]))\n",
    "]).style.format({\"value\": \"{:.3f}\"})"
   ]
  },
  {
   "cell_type": "code",
   "execution_count": null,
   "id": "478e2553-3f89-4b85-9f33-d666f85671a5",
   "metadata": {},
   "outputs": [],
   "source": []
  },
  {
   "cell_type": "markdown",
   "id": "1603ede9-e5bd-4e5b-a53a-74e7bde7c12e",
   "metadata": {},
   "source": [
    "## 参考文献\n",
    "\n",
    "- 豊田秀樹（2012）『因子分析入門』\n",
    "- [小杉考司（2013）順序尺度の相関係数（ポリコリック相関係数）について](http://kosugitti.sakura.ne.jp/wp/wp-content/uploads/2013/08/polynote.pdf)\n",
    "- [萩生田伸子, & 繁桝算男. (1996). 順序付きカテゴリカルデータへの因子分析の適用に関するいくつかの注意点. 心理学研究, 67(1), 1-8.](https://www.jstage.jst.go.jp/article/jjpsy1926/67/1/67_1_1/_article/-char/ja/)\n"
   ]
  },
  {
   "cell_type": "code",
   "execution_count": null,
   "id": "8ed872c9-1b97-4d54-9eb7-153f55980aab",
   "metadata": {},
   "outputs": [],
   "source": []
  }
 ],
 "metadata": {
  "kernelspec": {
   "display_name": "Python 3",
   "language": "python",
   "name": "python3"
  },
  "language_info": {
   "codemirror_mode": {
    "name": "ipython",
    "version": 3
   },
   "file_extension": ".py",
   "mimetype": "text/x-python",
   "name": "python",
   "nbconvert_exporter": "python",
   "pygments_lexer": "ipython3",
   "version": "3.8.10"
  }
 },
 "nbformat": 4,
 "nbformat_minor": 5
}
