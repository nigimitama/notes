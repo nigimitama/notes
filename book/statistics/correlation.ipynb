{
 "cells": [
  {
   "cell_type": "markdown",
   "id": "219eeefe-effc-4e7c-88f7-23f88b1689ab",
   "metadata": {},
   "source": [
    "# 順序尺度の相関係数\n",
    "\n",
    "アンケート調査の「1: あてはまらない」「2: どちらともいえない」「3: あてはまる」のような3値をとる順序尺度の変数や、「該当する」「該当しない」のような二値変数のような、値の種類数が比較的少ない順序尺度の相関係数は、ピアソンの積率相関係数で測った場合過小評価される（絶対値が小さくなる傾向がある）。これは**相関係数の希薄化**と呼ばれる現象である。\n",
    "\n",
    "\n",
    ":::{hint}\n",
    "「5値以上あれば積率相関係数でも誤差があまり大きくないため、連続尺度の変数のように積率相関係数にもとづいて相関を分析してもよい」という研究結果もある。\n",
    "\n",
    "「1: 全くあてはまらない」「2: あまりあてはまらない」...「5: よくあてはまる」の5件法がよく使われる理由のひとつはこのため。\n",
    "\n",
    "（[萩生田 & 繁桝 1996](https://www.jstage.jst.go.jp/article/jjpsy1926/67/1/67_1_1/_article/-char/ja/)）\n",
    ":::\n"
   ]
  },
  {
   "cell_type": "markdown",
   "id": "7ad69e3e-ab8a-4cd0-a501-741c3e720660",
   "metadata": {},
   "source": [
    "こうした問題に対処するために、次のような相関係数が存在する。\n",
    "\n",
    "- **ポリコリック相関係数**（polychoric correlation）：順序尺度同士の相関係数\n",
    "- **ポリシリアル相関係数**（polyserial correlation）：順序尺度と連続尺度の相関係数"
   ]
  },
  {
   "cell_type": "markdown",
   "id": "b170a9d1-6e6a-4e98-bec5-0ff8bfd9be96",
   "metadata": {},
   "source": [
    "## 例\n",
    "\n",
    "以下のようなデータがあるとする"
   ]
  },
  {
   "cell_type": "code",
   "execution_count": 317,
   "id": "e269edf5-0c19-4968-bb5c-858ca98eb00a",
   "metadata": {},
   "outputs": [],
   "source": [
    "import numpy as np\n",
    "import matplotlib.pyplot as plt\n",
    "import japanize_matplotlib\n",
    "import pandas as pd\n",
    "from scipy.stats import multivariate_normal, pearsonr\n",
    "from semopy.model import hetcor\n"
   ]
  },
  {
   "cell_type": "code",
   "execution_count": 318,
   "id": "d66aa1dc-15ae-438e-8b5d-fcacf2265d88",
   "metadata": {
    "tags": [
     "hide-input"
    ]
   },
   "outputs": [
    {
     "data": {
      "image/png": "[encoded data removed]",
      "text/plain": [
       "<Figure size 432x288 with 1 Axes>"
      ]
     },
     "metadata": {
      "needs_background": "light"
     },
     "output_type": "display_data"
    }
   ],
   "source": [
    "# generate data\n",
    "n = 100\n",
    "mean = [50, 0]\n",
    "std = [10, 3]\n",
    "rho = 0.5\n",
    "cov = rho * std[0] * std[1]\n",
    "Cov = np.array([\n",
    "    [std[0]**2, cov],\n",
    "    [cov, std[1]**2]\n",
    "])\n",
    "\n",
    "X = multivariate_normal.rvs(mean=mean, cov=Cov, size=n, random_state=0)\n",
    "\n",
    "fig, ax = plt.subplots()\n",
    "ax.scatter(X[:, 0], X[:, 1], alpha=.7)\n",
    "ax.set(xlabel=\"x1\", ylabel=\"x2\", title=f\"N(μ={mean}, Σ={Cov.tolist()}) (ρ={rho})\")\n",
    "fig.show()"
   ]
  },
  {
   "cell_type": "markdown",
   "id": "02954ce1-cec7-4aee-9587-63ac0548e68d",
   "metadata": {},
   "source": [
    "適当な閾値で区切って離散化したとする。"
   ]
  },
  {
   "cell_type": "code",
   "execution_count": 319,
   "id": "159dbc29-1d0e-49e2-b714-904730c5dac3",
   "metadata": {
    "tags": [
     "hide-input"
    ]
   },
   "outputs": [
    {
     "name": "stdout",
     "output_type": "stream",
     "text": [
      "離散化したデータのクロス集計表\n"
     ]
    },
    {
     "data": {
      "text/html": [
       "<div>\n",
       "<style scoped>\n",
       "    .dataframe tbody tr th:only-of-type {\n",
       "        vertical-align: middle;\n",
       "    }\n",
       "\n",
       "    .dataframe tbody tr th {\n",
       "        vertical-align: top;\n",
       "    }\n",
       "\n",
       "    .dataframe thead th {\n",
       "        text-align: right;\n",
       "    }\n",
       "</style>\n",
       "<table border=\"1\" class=\"dataframe\">\n",
       "  <thead>\n",
       "    <tr style=\"text-align: right;\">\n",
       "      <th>d2</th>\n",
       "      <th>1</th>\n",
       "      <th>2</th>\n",
       "      <th>3</th>\n",
       "    </tr>\n",
       "    <tr>\n",
       "      <th>d1</th>\n",
       "      <th></th>\n",
       "      <th></th>\n",
       "      <th></th>\n",
       "    </tr>\n",
       "  </thead>\n",
       "  <tbody>\n",
       "    <tr>\n",
       "      <th>0</th>\n",
       "      <td>7</td>\n",
       "      <td>39</td>\n",
       "      <td>2</td>\n",
       "    </tr>\n",
       "    <tr>\n",
       "      <th>1</th>\n",
       "      <td>1</td>\n",
       "      <td>38</td>\n",
       "      <td>13</td>\n",
       "    </tr>\n",
       "  </tbody>\n",
       "</table>\n",
       "</div>"
      ],
      "text/plain": [
       "d2  1   2   3\n",
       "d1           \n",
       "0   7  39   2\n",
       "1   1  38  13"
      ]
     },
     "execution_count": 319,
     "metadata": {},
     "output_type": "execute_result"
    }
   ],
   "source": [
    "# 離散化\n",
    "d1 = X[:, 0] >= X[:, 0].mean()\n",
    "d2 = np.ones(shape=(n, ))\n",
    "d2[(-4 <= X[:, 1]) & (X[:, 1] < 4)] = 2\n",
    "d2[(4 <= X[:, 1])] = 3\n",
    "\n",
    "D = np.array([d1, d2]).T\n",
    "D = pd.DataFrame(D, columns=[\"d1\", \"d2\"]).astype(int)\n",
    "\n",
    "table = pd.crosstab(D[\"d1\"], D[\"d2\"])\n",
    "print(\"離散化したデータのクロス集計表\")\n",
    "table #.style.set_caption(\"クロス集計表\")"
   ]
  },
  {
   "cell_type": "markdown",
   "id": "56d6dc73-05e4-44a1-9374-b7bc0a458513",
   "metadata": {},
   "source": [
    "離散化前の量的変数に積率相関係数を適用した場合と、離散化後の質的変数に積率相関係数を使用した場合、そしてポリコリック相関係数を使用した場合の結果は次のようになる。\n",
    "\n",
    "質的変数にピアソンの積率相関係数を使用すると、相関が過小評価されていること、そしてポリコリック相関係数のほうが離散化前の相関係数の再現度がより高いことがわかる。"
   ]
  },
  {
   "cell_type": "code",
   "execution_count": 320,
   "id": "33f91e65-d604-422f-86e5-ee71ac231562",
   "metadata": {
    "tags": [
     "hide-input"
    ]
   },
   "outputs": [
    {
     "data": {
      "text/html": [
       "<style type=\"text/css\">\n",
       "</style>\n",
       "<table id=\"T_1cbd3\">\n",
       "  <thead>\n",
       "    <tr>\n",
       "      <th class=\"blank level0\" >&nbsp;</th>\n",
       "      <th id=\"T_1cbd3_level0_col0\" class=\"col_heading level0 col0\" >method</th>\n",
       "      <th id=\"T_1cbd3_level0_col1\" class=\"col_heading level0 col1\" >value</th>\n",
       "    </tr>\n",
       "  </thead>\n",
       "  <tbody>\n",
       "    <tr>\n",
       "      <th id=\"T_1cbd3_level0_row0\" class=\"row_heading level0 row0\" >0</th>\n",
       "      <td id=\"T_1cbd3_row0_col0\" class=\"data row0 col0\" >積率相関係数を量的変数に適用</td>\n",
       "      <td id=\"T_1cbd3_row0_col1\" class=\"data row0 col1\" >0.517</td>\n",
       "    </tr>\n",
       "    <tr>\n",
       "      <th id=\"T_1cbd3_level0_row1\" class=\"row_heading level0 row1\" >1</th>\n",
       "      <td id=\"T_1cbd3_row1_col0\" class=\"data row1 col0\" >積率相関係数を質的変数に適用</td>\n",
       "      <td id=\"T_1cbd3_row1_col1\" class=\"data row1 col1\" >0.353</td>\n",
       "    </tr>\n",
       "    <tr>\n",
       "      <th id=\"T_1cbd3_level0_row2\" class=\"row_heading level0 row2\" >2</th>\n",
       "      <td id=\"T_1cbd3_row2_col0\" class=\"data row2 col0\" >ポリコリック相関係数を質的変数に適用</td>\n",
       "      <td id=\"T_1cbd3_row2_col1\" class=\"data row2 col1\" >0.570</td>\n",
       "    </tr>\n",
       "  </tbody>\n",
       "</table>\n"
      ],
      "text/plain": [
       "<pandas.io.formats.style.Styler at 0x7fd1f92fa610>"
      ]
     },
     "execution_count": 320,
     "metadata": {},
     "output_type": "execute_result"
    }
   ],
   "source": [
    "from semopy.polycorr import polychoric_corr\n",
    "\n",
    "pd.DataFrame([\n",
    "    dict(method=\"積率相関係数を量的変数に適用\", value=pearsonr(X[:, 0], X[:, 1]).statistic),\n",
    "    dict(method=\"積率相関係数を質的変数に適用\", value=D.corr().iloc[0, 1]),\n",
    "    dict(method=\"ポリコリック相関係数を質的変数に適用\", value=polychoric_corr(D[\"d1\"], D[\"d2\"]))\n",
    "]).style.format({\"value\": \"{:.3f}\"})"
   ]
  },
  {
   "cell_type": "markdown",
   "id": "f189eb25-0a1d-4f67-8338-8afed5490f59",
   "metadata": {},
   "source": [
    "## 順序尺度の相関係数の中身\n",
    "\n",
    "基本的な考え方としては、離散値の背景には何らかの連続尺度が潜在的に存在することを仮定する。\n",
    "\n",
    "例えばアンケート調査なら、その潜在的な連続変数が一定のしきい値以上になった場合に「よくあてはまる」といった回答がなされている、と考える。\n",
    "\n"
   ]
  },
  {
   "cell_type": "markdown",
   "id": "9baed572-94a6-404f-a88e-25e5f48f298d",
   "metadata": {},
   "source": [
    "## ポリコリック相関係数の推定方法\n",
    "\n",
    "[小杉考司（2013）](http://kosugitti.sakura.ne.jp/wp/wp-content/uploads/2013/08/polynote.pdf)を参考に、二段階の最尤推定を行う方法を紹介する。\n",
    "この方法はシンプルでわかりやすく、またsemopyなどのライブラリでも利用されている。\n",
    "\n",
    "\n",
    "まず、観測された順序尺度の変数の背景に連続尺度の変数が存在し、それらは二変量の標準正規分布に従うと仮定する。\n",
    "\n",
    "\n",
    "2変量正規分布の空間を閾値で区切って離散化されたものが観測値として実現したと考える。\n",
    "\n",
    "### 尤度関数\n",
    "\n",
    "クロス集計表におけるセル$(i, j)$の観測度数を$n_{ij}$とする（$i=1,2,\\cdots, s, \\ j=1,2,\\cdots,r$）。\n",
    "\n",
    "観測度数がセル$(i, j)$に含まれる確率を$\\pi_{ij}$とすれば、そのサンプルの尤度は\n",
    "\n",
    "$$\n",
    "L = C \\prod^s_{i=1} \\prod^r_{j=1} \\pi_{ij}^{n_{ij}}\n",
    "$$\n",
    "\n",
    "である。ここで$C$は定数で、最尤推定においては推定に関わらないので気にしなくてよい。対数尤度は\n",
    "\n",
    "$$\n",
    "\\ell = \\ln L = \\ln C + \\sum^s_{i=1} \\sum^r_{j=1} n_{ij} \\ln \\pi_{ij}\n",
    "$$\n",
    "\n",
    "\n",
    "相関を測りたい変数が$x,y$の2つあるとし、変数$x$の閾値を$a_i$、変数$y$の閾値を$b_j$と表す（$i=0, 1,2,\\cdots, s, \\ j=0,1,2,\\cdots,r$）。\n",
    "ここで$a_0 = b_0 = -\\infty, a_s = b_r = +\\infty$である。\n",
    "\n",
    "$\\pi_{ij}$は相関係数$\\rho$のおｔきの2変数正規分布$\\Phi_2$を用いて\n",
    "\n",
    "$$\n",
    "\\pi_{ij} = \\Phi_2(a_i, b_j)\n",
    "- \\Phi_2(a_{i-1}, b_j)\n",
    "- \\Phi_2(a_i, b_{j-1})\n",
    "+ \\Phi_2(a_{i-1}, b_{j-1})\n",
    "$$\n",
    "\n",
    "と表すことができる。\n",
    "\n",
    "### 推定\n",
    "\n",
    "閾値は次のように推定することができる。\n",
    "\n",
    "$$\n",
    "a_i = \\Phi_1^{-1}(P_{i \\cdot})\\\\\n",
    "b_j = \\Phi_1^{-1}(P_{\\cdot j})\n",
    "$$\n",
    "\n",
    "ここで$P_{i \\cdot}, P_{\\cdot j}$は観測された累積周辺分布である。\n"
   ]
  },
  {
   "cell_type": "code",
   "execution_count": 321,
   "id": "4afc6ea5-a581-422a-a4b4-5070bd405448",
   "metadata": {
    "tags": [
     "hide-input"
    ]
   },
   "outputs": [
    {
     "data": {
      "image/png": "[encoded data removed]",
      "text/plain": [
       "<Figure size 288x288 with 2 Axes>"
      ]
     },
     "metadata": {
      "needs_background": "light"
     },
     "output_type": "display_data"
    }
   ],
   "source": [
    "fig, ax1 = plt.subplots(figsize=[4, 4])\n",
    "\n",
    "k = 5\n",
    "ticks = range(0, 2 * k, 2)\n",
    "ticklabels_a = [f\"a_{i}\" for i in range(1, k + 1)]\n",
    "ticklabels_b = [f\"b_{i}\" for i in range(1, k + 1)]\n",
    "\n",
    "for tick in ticks:\n",
    "    ax1.axhline(tick, color=\"gray\")\n",
    "    ax1.axvline(tick, color=\"gray\")\n",
    "\n",
    "cell_coords = range(1, 2 * k - 1, 2)\n",
    "for i_show, i in enumerate(cell_coords, start=1):\n",
    "    for j_show, j in enumerate(cell_coords, start=1):\n",
    "        ax1.text(j, i, f\"n_{i_show}{j_show}\", ha=\"center\", va=\"center\")\n",
    "\n",
    "ax1.set(ylabel=\"x\", xticks=[], title=\"閾値のイメージ\")\n",
    "ax1.set_yticks(ticks=ticks, labels=ticklabels_a)\n",
    "ax1.invert_yaxis()\n",
    "\n",
    "ax2 = ax1.twiny()\n",
    "ax2.set_xlim(ax1.get_xlim())\n",
    "ax2.set_xlabel(\"y\")\n",
    "ax2.set_xticks(ticks=ticks, labels=ticklabels_b)\n",
    "fig.show()"
   ]
  },
  {
   "cell_type": "markdown",
   "id": "6092284e-f69d-44c8-89f1-fa6184d77cad",
   "metadata": {},
   "source": [
    "### 推定の流れ\n",
    "\n",
    "実際に推定してみよう。\n",
    "\n",
    "まずクロス集計表を作って観測度数を得る。"
   ]
  },
  {
   "cell_type": "code",
   "execution_count": 322,
   "id": "530cf1cb-f398-4fef-8807-42bf5110e8c6",
   "metadata": {},
   "outputs": [
    {
     "data": {
      "text/html": [
       "<div>\n",
       "<style scoped>\n",
       "    .dataframe tbody tr th:only-of-type {\n",
       "        vertical-align: middle;\n",
       "    }\n",
       "\n",
       "    .dataframe tbody tr th {\n",
       "        vertical-align: top;\n",
       "    }\n",
       "\n",
       "    .dataframe thead th {\n",
       "        text-align: right;\n",
       "    }\n",
       "</style>\n",
       "<table border=\"1\" class=\"dataframe\">\n",
       "  <thead>\n",
       "    <tr style=\"text-align: right;\">\n",
       "      <th>d2</th>\n",
       "      <th>1</th>\n",
       "      <th>2</th>\n",
       "      <th>3</th>\n",
       "    </tr>\n",
       "    <tr>\n",
       "      <th>d1</th>\n",
       "      <th></th>\n",
       "      <th></th>\n",
       "      <th></th>\n",
       "    </tr>\n",
       "  </thead>\n",
       "  <tbody>\n",
       "    <tr>\n",
       "      <th>0</th>\n",
       "      <td>7</td>\n",
       "      <td>39</td>\n",
       "      <td>2</td>\n",
       "    </tr>\n",
       "    <tr>\n",
       "      <th>1</th>\n",
       "      <td>1</td>\n",
       "      <td>38</td>\n",
       "      <td>13</td>\n",
       "    </tr>\n",
       "  </tbody>\n",
       "</table>\n",
       "</div>"
      ],
      "text/plain": [
       "d2  1   2   3\n",
       "d1           \n",
       "0   7  39   2\n",
       "1   1  38  13"
      ]
     },
     "execution_count": 322,
     "metadata": {},
     "output_type": "execute_result"
    }
   ],
   "source": [
    "table = pd.crosstab(D[\"d1\"], D[\"d2\"])\n",
    "table"
   ]
  },
  {
   "cell_type": "markdown",
   "id": "740602af-cfa8-41f1-8929-abca958d5550",
   "metadata": {},
   "source": [
    "クロス集計表を横軸や縦軸に向けて合計していき、累積周辺分布$P_{i \\cdot}, P_{\\cdot j}$を得る\n"
   ]
  },
  {
   "cell_type": "code",
   "execution_count": 323,
   "id": "5e783968-53f1-409b-8123-77c1fafafb6b",
   "metadata": {},
   "outputs": [
    {
     "data": {
      "text/plain": [
       "array([0.08, 0.85, 1.  ])"
      ]
     },
     "execution_count": 323,
     "metadata": {},
     "output_type": "execute_result"
    }
   ],
   "source": [
    "# 累積周辺分布\n",
    "n = table.sum().sum()\n",
    "P1 = table.sum(axis=1).cumsum().to_list() / n\n",
    "P2 = table.sum(axis=0).cumsum().to_list() / n\n",
    "P2"
   ]
  },
  {
   "cell_type": "markdown",
   "id": "779da130-1b90-4cf6-8359-91a6b24fcffc",
   "metadata": {},
   "source": [
    "$a_i, b_j$を推定する。$a_0 = b_0 = -\\infty$、$a_s = b_r = \\infty$となるようにする"
   ]
  },
  {
   "cell_type": "code",
   "execution_count": 324,
   "id": "bd3d5d30-1e36-4abd-b618-4b0b7b76179a",
   "metadata": {},
   "outputs": [
    {
     "data": {
      "text/plain": [
       "[-inf, -1.4050715603096329, 1.0364333894937898, inf]"
      ]
     },
     "execution_count": 324,
     "metadata": {},
     "output_type": "execute_result"
    }
   ],
   "source": [
    "# 閾値a, bを推定\n",
    "from scipy.stats import norm\n",
    "a = norm.ppf(P1, loc=0, scale=1)\n",
    "b = norm.ppf(P2, loc=0, scale=1)\n",
    "\n",
    "a = [-np.inf, *a]\n",
    "b = [-np.inf, *b]\n",
    "b"
   ]
  },
  {
   "cell_type": "markdown",
   "id": "e45a732d-0f85-4f8f-a675-f5c0c7e345ed",
   "metadata": {},
   "source": [
    "確率密度\n",
    "\n",
    "$$\n",
    "\\pi_{ij} = \\Phi_2(a_i, b_j)\n",
    "- \\Phi_2(a_{i-1}, b_j)\n",
    "- \\Phi_2(a_i, b_{j-1})\n",
    "+ \\Phi_2(a_{i-1}, b_{j-1})\n",
    "$$\n",
    "\n",
    "の推定と、対数尤度\n",
    "\n",
    "$$\n",
    "\\ln L = \\ln C + \\sum^s_{i=1} \\sum^r_{j=1} n_{ij} \\ln \\pi_{ij}\n",
    "$$\n",
    "\n",
    "の計算を行う関数を作る"
   ]
  },
  {
   "cell_type": "code",
   "execution_count": 400,
   "id": "63b87a1f-764c-403a-b427-7d8e025c9c3d",
   "metadata": {},
   "outputs": [
    {
     "data": {
      "text/plain": [
       "-135.95432934194218"
      ]
     },
     "execution_count": 400,
     "metadata": {},
     "output_type": "execute_result"
    }
   ],
   "source": [
    "from scipy.stats import multivariate_normal\n",
    "\n",
    "def log_likelihood(rho, a=a, b=b, table=table):\n",
    "    Cov = np.array([\n",
    "        [1, rho],\n",
    "        [rho, 1]\n",
    "    ])\n",
    "    n = np.array(table)\n",
    "    likelihood = 0\n",
    "    for i in range(1, len(a)):\n",
    "        for j in range(1, len(b)):\n",
    "            ij = multivariate_normal.cdf([a[i], b[j]], mean=[0, 0], cov=Cov)\n",
    "            ij = 0 if np.isnan(ij) else ij\n",
    "\n",
    "            i1j = multivariate_normal.cdf([a[i-1], b[j]], mean=[0, 0], cov=Cov)\n",
    "            i1j = 0 if np.isnan(i1j) else i1j\n",
    "\n",
    "            ij1 = multivariate_normal.cdf([a[i], b[j-1]], mean=[0, 0], cov=Cov)\n",
    "            ij1 = 0 if np.isnan(ij1) else ij1\n",
    "\n",
    "            i1j1 = multivariate_normal.cdf([a[i-1], b[j-1]], mean=[0, 0], cov=Cov)\n",
    "            i1j1 = 0 if np.isnan(i1j1) else i1j1\n",
    "            pi = ij - i1j - ij1 + i1j1\n",
    "            # ちなみにpiの推定は上記のように愚直にやらずとも scipy.stats の mvn.mvnun でもできる\n",
    "\n",
    "            if pi > 0:\n",
    "                likelihood += n[i-1, j-1] * np.log(pi)\n",
    "    return likelihood\n",
    "\n",
    "log_likelihood(rho=0.1)"
   ]
  },
  {
   "cell_type": "markdown",
   "id": "0a5570e1-fbad-4170-967e-5bef1ea4b823",
   "metadata": {},
   "source": [
    "尤度を最大にする$\\rho$を探索する。\n",
    "\n",
    "今回は$\\rho$が$(-1, 1)$にあることがわかっているので、その範囲を細かく刻んで全部計算して最良の$\\rho$を推定値とする、という全探索法をつかうこともできる。\n",
    "\n",
    "この方法を実際に行ったのが次の図である。"
   ]
  },
  {
   "cell_type": "code",
   "execution_count": 402,
   "id": "cd67a969-9582-46e3-a538-5ff6bb43219e",
   "metadata": {
    "tags": [
     "hide-input"
    ]
   },
   "outputs": [
    {
     "data": {
      "image/png": "[encoded data removed]",
      "text/plain": [
       "<Figure size 432x288 with 1 Axes>"
      ]
     },
     "metadata": {
      "needs_background": "light"
     },
     "output_type": "display_data"
    }
   ],
   "source": [
    "# 最尤推定1: 全探索\n",
    "rho_range = np.linspace(-0.99, 0.99, 100)\n",
    "likelihoods = np.array([log_likelihood(rho) for rho in rho_range])\n",
    "rho_hat = rho_range[np.argmax(likelihoods)]\n",
    "\n",
    "fig, ax = plt.subplots()\n",
    "ax.plot(rho_range, likelihoods, color=\"dimgray\")\n",
    "ax.set(xlabel=r\"$\\rho$\", ylabel=\"log likelihood\", title=\"Maximum Likelihood Estimate\")\n",
    "\n",
    "l = likelihoods[~np.isinf(likelihoods)]\n",
    "y = -(l.max() - l.min()) / 2\n",
    "ax.text(rho_hat * 1.1, y, r\"$\\hat{\\rho}$\"+f\"={rho_hat:.3f}\", color=\"steelblue\")\n",
    "ax.axvline(rho_hat, color=\"steelblue\")\n",
    "\n",
    "fig.show()"
   ]
  },
  {
   "cell_type": "markdown",
   "id": "8c92efd3-e86c-43b3-8a5d-18b8e1c4e419",
   "metadata": {},
   "source": [
    "`scipy.optimize.fminbound`などを使ってBrent法という最適化手法を用いると効率的である。\n",
    "\n",
    "（実際、`semopy`や`RyStats`などのパッケージではscipyの最適化関数を呼び出すことでBrent法を使っている: [semopy/polycorr.py](https://gitlab.com/georgy.m/semopy/-/blob/master/semopy/polycorr.py)）"
   ]
  },
  {
   "cell_type": "code",
   "execution_count": 364,
   "id": "40714592-6b87-4fe0-b9e6-f0c2359fd6f3",
   "metadata": {},
   "outputs": [
    {
     "data": {
      "text/plain": [
       "0.5697450392309811"
      ]
     },
     "execution_count": 364,
     "metadata": {},
     "output_type": "execute_result"
    }
   ],
   "source": [
    "# ※minimizeの関数に入れるために負の対数尤度にしている\n",
    "from scipy.optimize import fminbound\n",
    "fminbound(lambda rho: -log_likelihood(rho), -0.999, 0.999)"
   ]
  },
  {
   "cell_type": "markdown",
   "id": "7d9dad38-bd63-47f0-ada6-68d9aaa422f1",
   "metadata": {},
   "source": [
    "## カテゴリの値がいくつだと積率相関係数でもよいか"
   ]
  },
  {
   "cell_type": "code",
   "execution_count": 226,
   "id": "c6f1b4e9-0ea9-41ec-8de5-021541e49a0d",
   "metadata": {
    "tags": [
     "hide-input"
    ]
   },
   "outputs": [
    {
     "data": {
      "image/png": "[encoded data removed]",
      "text/plain": [
       "<Figure size 432x288 with 1 Axes>"
      ]
     },
     "metadata": {
      "needs_background": "light"
     },
     "output_type": "display_data"
    }
   ],
   "source": [
    "# generate data\n",
    "n = 1000\n",
    "mean = [50, 0]\n",
    "std = [10, 3]\n",
    "rho = 0.5\n",
    "cov = rho * std[0] * std[1]\n",
    "Cov = np.array([\n",
    "    [std[0]**2, cov],\n",
    "    [cov, std[1]**2]\n",
    "])\n",
    "\n",
    "X = multivariate_normal.rvs(mean=mean, cov=Cov, size=n, random_state=0)\n",
    "X = pd.DataFrame(X)\n",
    "\n",
    "fig, ax = plt.subplots()\n",
    "ax.scatter(X[0], X[1], alpha=.7)\n",
    "ax.set(xlabel=\"x1\", ylabel=\"x2\", title=f\"N(μ={mean}, Σ={Cov.tolist()}) (ρ={rho}, n={n})\")\n",
    "fig.show()"
   ]
  },
  {
   "cell_type": "code",
   "execution_count": 230,
   "id": "2f2d8c07-349e-4be4-8f5d-4baabc2688f2",
   "metadata": {
    "tags": [
     "hide-input"
    ]
   },
   "outputs": [
    {
     "data": {
      "image/png": "[encoded data removed]",
      "text/plain": [
       "<Figure size 432x288 with 1 Axes>"
      ]
     },
     "metadata": {
      "needs_background": "light"
     },
     "output_type": "display_data"
    }
   ],
   "source": [
    "results = []\n",
    "for k in range(2, 11):\n",
    "    d1 = pd.cut(X[0], bins=k, labels=range(k)).astype(int)\n",
    "    d2 = pd.cut(X[1], bins=k, labels=range(k)).astype(int)\n",
    "\n",
    "    result = [\n",
    "        dict(method=\"積率相関係数を量的変数に適用\", value=pearsonr(X[0], X[1]).statistic, k=k),\n",
    "        dict(method=\"積率相関係数を質的変数に適用\", value=pearsonr(d1, d2).statistic, k=k),\n",
    "        dict(method=\"ポリコリック相関係数を質的変数に適用\", value=polychoric_corr(d1, d2), k=k)\n",
    "    ]\n",
    "    results += result\n",
    "results = pd.DataFrame(results)\n",
    "\n",
    "import seaborn as sns\n",
    "sns.lineplot(x=\"k\", y=\"value\", data=results, hue=\"method\", marker=\"o\")\n",
    "plt.xlabel(\"カテゴリ数\")\n",
    "plt.ylabel(r\"推定された相関係数 $\\hat{\\rho}$\")\n",
    "plt.title(\"\")\n",
    "plt.show()"
   ]
  },
  {
   "cell_type": "markdown",
   "id": "1603ede9-e5bd-4e5b-a53a-74e7bde7c12e",
   "metadata": {},
   "source": [
    "## 参考文献\n",
    "\n",
    "- 豊田秀樹（2012）『因子分析入門』\n",
    "- [小杉考司（2013）順序尺度の相関係数（ポリコリック相関係数）について](http://kosugitti.sakura.ne.jp/wp/wp-content/uploads/2013/08/polynote.pdf)\n",
    "- [萩生田伸子, & 繁桝算男. (1996). 順序付きカテゴリカルデータへの因子分析の適用に関するいくつかの注意点. 心理学研究, 67(1), 1-8.](https://www.jstage.jst.go.jp/article/jjpsy1926/67/1/67_1_1/_article/-char/ja/)\n"
   ]
  },
  {
   "cell_type": "code",
   "execution_count": null,
   "id": "8ed872c9-1b97-4d54-9eb7-153f55980aab",
   "metadata": {},
   "outputs": [],
   "source": []
  }
 ],
 "metadata": {
  "kernelspec": {
   "display_name": "Python 3",
   "language": "python",
   "name": "python3"
  },
  "language_info": {
   "codemirror_mode": {
    "name": "ipython",
    "version": 3
   },
   "file_extension": ".py",
   "mimetype": "text/x-python",
   "name": "python",
   "nbconvert_exporter": "python",
   "pygments_lexer": "ipython3",
   "version": "3.8.10"
  }
 },
 "nbformat": 4,
 "nbformat_minor": 5
}
