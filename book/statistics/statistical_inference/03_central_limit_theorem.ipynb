{
 "cells": [
  {
   "cell_type": "markdown",
   "id": "8312aad4-6876-49ca-b207-6ea1bf128ba9",
   "metadata": {},
   "source": [
    "# 中心極限定理"
   ]
  },
  {
   "cell_type": "markdown",
   "id": "35506c5b-9363-4eb6-8c51-2818f5e855d9",
   "metadata": {
    "tags": []
   },
   "source": [
    "## 分布収束\n",
    "\n",
    "確率変数の列$\\{U_i\\}_{i=1,2,\\dots}$が確率変数$U$に**分布収束**（convergence in distribution）するとは、\n",
    "\n",
    "$$\n",
    "\\lim_{n\\to \\infty}\n",
    "P(U_i \\leq x) = P(U \\leq x) = F_U(x)\n",
    "$$\n",
    "\n",
    "が、$F_U(x)$の連続点で成り立つことをいい、$U_i \\to_d U$と表す。分布収束の代表例は中心極限定理である。\n"
   ]
  },
  {
   "cell_type": "markdown",
   "id": "23163203-1d49-40e8-a8d7-74f9bb48dc20",
   "metadata": {
    "tags": []
   },
   "source": [
    "## 中心極限定理\n",
    "\n",
    "**中心極限定理**（central limit theorem: CLT）とは、一言でいうと、\n",
    "\n",
    "> 標本数が十分に大きければ、元の分布がどんな分布であっても、その標本平均の分布は$N(\\mu, \\frac{\\sigma}{\\sqrt{n}})$の正規分布になる\n",
    "\n",
    "という定理。"
   ]
  },
  {
   "cell_type": "markdown",
   "id": "dd2a1497-c474-45a5-898a-c9e4aac18c23",
   "metadata": {},
   "source": [
    "### シミュレーションで確かめる中心極限定理\n",
    "\n",
    "例えば、0から1の範囲の値をとる一様分布$Uniform(0, 1)$の母集団があったとする。母平均は$1/2 = 0.5$である。\n",
    "\n",
    "標本を100個得られたとして、ヒストグラムと標本平均を描くと次のようになる。"
   ]
  },
  {
   "cell_type": "code",
   "execution_count": 195,
   "id": "fb571f9c-cc82-4439-b044-04cc066b9ca0",
   "metadata": {
    "jupyter": {
     "source_hidden": true
    },
    "tags": [
     "hide-input"
    ]
   },
   "outputs": [
    {
     "data": {
      "image/png": "[encoded data removed]",
      "text/plain": [
       "<Figure size 360x180 with 1 Axes>"
      ]
     },
     "metadata": {
      "needs_background": "light"
     },
     "output_type": "display_data"
    }
   ],
   "source": [
    "import numpy as np\n",
    "import matplotlib.pyplot as plt\n",
    "import japanize_matplotlib\n",
    "\n",
    "np.random.seed(0)\n",
    "\n",
    "n = 100\n",
    "x = np.random.uniform(low=0, high=1, size=n)\n",
    "\n",
    "fig, ax = plt.subplots(dpi=90, figsize=[4, 2])\n",
    "ax.hist(x)\n",
    "ax.set(title=\"Histogram of Data\")\n",
    "ax.axvline(x.mean(), color=\"darkorange\")\n",
    "ax.text(x.mean() + 0.02, 1, f\"標本平均: {x.mean():.3f}\", color=\"darkorange\")\n",
    "fig.show()"
   ]
  },
  {
   "cell_type": "markdown",
   "id": "e734e877-41cc-4600-9a86-eb8001c800fc",
   "metadata": {},
   "source": [
    "「調査を行って標本をとって平均を計算する」という作業をたくさん繰り返したとすると、この標本平均の分布は正規分布に近づいていき、その平均値は母平均に近づいていく。"
   ]
  },
  {
   "cell_type": "code",
   "execution_count": 200,
   "id": "eb667493-40e8-4d40-a987-f6e5767e1d44",
   "metadata": {
    "jupyter": {
     "source_hidden": true
    },
    "tags": [
     "hide-input"
    ]
   },
   "outputs": [
    {
     "data": {
      "image/png": "[encoded data removed]",
      "text/plain": [
       "<Figure size 360x180 with 1 Axes>"
      ]
     },
     "metadata": {
      "needs_background": "light"
     },
     "output_type": "display_data"
    }
   ],
   "source": [
    "n_trial = 500\n",
    "mean_values = []\n",
    "\n",
    "for trial_i in range(n_trial):\n",
    "    x = np.random.uniform(size=n)\n",
    "    mean_values.append(x.mean())\n",
    "\n",
    "fig, ax = plt.subplots(dpi=90, figsize=[4, 2])\n",
    "ax.hist(mean_values)\n",
    "ax.set(title=\"平均値の標本分布\")\n",
    "\n",
    "mu = np.array(mean_values).mean()\n",
    "ax.axvline(mu, color=\"darkorange\")\n",
    "ax.text(mu + 0.005, 5, f\"μ = {mu:.3f}\", color=\"darkorange\")\n",
    "fig.show()"
   ]
  },
  {
   "cell_type": "markdown",
   "id": "4685bf6e-4803-4a34-8ef2-9294fcf94e90",
   "metadata": {},
   "source": [
    "## もう少し詳しい話\n",
    "\n",
    "**定理 （中心極限定理）**\n",
    "\n",
    "$X_1, X_2, \\dots, i.i.d. \\sim (\\mu, \\sigma^2)$とする。このとき、次の分布収束が成り立つ。\n",
    "\n",
    "$$\n",
    "\\lim_{n\\to\\infty}\n",
    "P \\left( \\frac{ \\sqrt{n}(\\bar{X} - \\mu) }{\\sigma} \\leq x \\right)\n",
    "= \\int^x_{-\\infty} \\frac{1}{\\sqrt{2\\pi}} e^{-y^2/2} dy\n",
    "= \\Phi(x)\n",
    "$$\n",
    "\n",
    "ここで$\\Phi(x)$は標準正規分布の累積分布関数"
   ]
  },
  {
   "cell_type": "markdown",
   "id": "358d3c9d-feec-4164-ab79-7f17cd41e7a7",
   "metadata": {},
   "source": [
    "**（証明）** $Z_i = (X_i - \\mu)/\\sigma, i=1,2,\\dots$とおくと、$E[Z_i]=0, Var(Z_i) = 1, E[\\bar{Z}]=0, Var(\\bar{Z})=n^{-1}$となる。\n",
    "\n",
    "TODO: 続き書く\n"
   ]
  },
  {
   "cell_type": "markdown",
   "id": "05f75d08-d476-43ae-86a1-be4b360bcb0b",
   "metadata": {},
   "source": [
    ":::{note} 特性関数\n",
    "\n",
    ":::"
   ]
  },
  {
   "cell_type": "markdown",
   "id": "1713188c-d5b1-420c-a235-79c6b19ef72d",
   "metadata": {},
   "source": [
    "## 標本和の標本分布\n",
    "\n",
    "標本和$X_1 + X_2 + \\cdots + X_n$や標本平均$\\bar{X}$の具体的な標本分布は母集団分布に依存する。\n",
    "\n",
    "\n",
    "ある分布に従う2つ以上の確率変数の和が元の分布と同じ分布に従うことを**再生性**をもつという。二項分布、ポアソン分布、正規分布は再生性をもつ。\n",
    "\n",
    "### 二項母集団\n",
    "\n",
    "母集団が二項分布のとき、中心極限定理で正規分布に近似して解く事が多い。\n",
    "\n",
    "### 正規母集団\n",
    "\n",
    "母集団が平均$\\mu$、分散$\\sigma^2$の正規分布のとき、標本和は正規分布$N(n\\mu, n\\sigma^2)$に従い、標本平均は$N(\\mu, \\sigma^2/n)$に従う。\n",
    "\n",
    "### ポアソン母集団\n",
    "\n",
    "母集団が平均$\\lambda$のポアソン分布$Po(\\lambda)$、標本和はポアソン分布$Po(\\lambda)$に従う。ただし、$f(x) = e^{-\\lambda} \\lambda^x / x!$ であり、あまり大きな$\\lambda$を扱うのは現実的ではない（例えば$e^{-100}$は`3.72e-44`という極めて小さな値になってしまう）。そのため中心極限定理を使って扱う場合も多い。\n",
    "\n"
   ]
  }
 ],
 "metadata": {
  "kernelspec": {
   "display_name": "Python 3 (ipykernel)",
   "language": "python",
   "name": "python3"
  },
  "language_info": {
   "codemirror_mode": {
    "name": "ipython",
    "version": 3
   },
   "file_extension": ".py",
   "mimetype": "text/x-python",
   "name": "python",
   "nbconvert_exporter": "python",
   "pygments_lexer": "ipython3",
   "version": "3.10.18"
  }
 },
 "nbformat": 4,
 "nbformat_minor": 5
}
