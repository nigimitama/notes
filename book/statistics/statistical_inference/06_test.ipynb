{
 "cells": [
  {
   "cell_type": "markdown",
   "id": "139639e2-0d81-444c-9773-e33d002721a0",
   "metadata": {},
   "source": [
    "# 検定"
   ]
  },
  {
   "cell_type": "code",
   "execution_count": 1,
   "id": "f24e329e-e606-4487-8209-743e3f8a84fa",
   "metadata": {},
   "outputs": [],
   "source": [
    "import numpy as np\n",
    "from scipy import stats\n",
    "import pandas as pd\n",
    "import matplotlib.pyplot as plt"
   ]
  },
  {
   "cell_type": "markdown",
   "id": "f5858ddf-5515-4591-9d5c-da7a80fade11",
   "metadata": {},
   "source": [
    "## 多項分布に関する検定"
   ]
  },
  {
   "cell_type": "markdown",
   "id": "4dd6c3a5-721b-42e9-bb81-a00d7db4a77c",
   "metadata": {},
   "source": [
    "### カイ2乗適合度検定\n",
    "\n",
    "クロス表（多項分布）において、観測データの確率分布が理論上想定される確率分布に等しいかどうかを調べる検定がカイ2乗適合度検定である。\n",
    "\n",
    "\n",
    "$n$個のデータが$K$個のカテゴリーに分類され、それぞれ$X_1, \\dots, X_K$個観測されたとする（$X_1 + \\cdots + X_K = n$）。\n",
    "\n",
    "それぞれのカテゴリーに入る（真の）確率を$p_1, \\dots, p_K$とすると$p_1 + \\cdots + p_K=1$である。\n",
    "\n",
    "$p_i$は$X_i/n$で推定される。理論上想定される確率が$\\pi_1, \\dots, \\pi_K$であるとするとき、観測データに基づいた確率分布が理論上想定される確率分布に等しいか否かを検定する問題は、次のように定式化される。\n",
    "\n",
    "$$\n",
    "\\begin{align}\n",
    "H_0&: p_1 = \\pi_1, \\dots, p_K = \\pi_K\\\\\n",
    "H_1&: p_i \\neq \\pi_i \\ (\\text{ある}i\\text{に対して})\n",
    "\\end{align}\n",
    "$$\n",
    "\n",
    "これをカテゴリーに関する**カイ2乗適合度検定**（chi-square test of goodness of fit）という。\n",
    "\n",
    "$H_0$が正しいとき、カテゴリー$C_i$に入る個数が$n \\times \\pi_i$になり、これを理論値あるいは期待度数という。\n",
    "観測データに基づいた確率分布と理論上想定される確率分布の差は、観測値と理論値の差の二乗\n",
    "\n",
    "$$\n",
    "(X_1 - n \\pi_1)^2, \\dots, (X_K - n \\pi_K)^2\n",
    "$$\n",
    "\n",
    "にもとづいて測ることができるので、**ピアソンのカイ2乗検定統計量**\n",
    "\n",
    "$$\n",
    "Q(\\boldsymbol{X}, \\boldsymbol{\\pi})\n",
    "= \\sum^K_{i=1} \\frac{(X_i - n\\pi_i)^2}{n \\pi_i}\n",
    "$$\n",
    "\n",
    "を使って検定を行うことができる\n",
    "（ここで$\\boldsymbol{X}=(X_1, \\dots, X_K), \\boldsymbol{\\pi}=(\\pi_1, \\dots, \\pi_K)$）。\n",
    "\n",
    "$Q(\\boldsymbol{X}, \\boldsymbol{\\pi})$は$H_0$のもとで$\\chi^2_{K-1}$に収束するため、\n",
    "\n",
    "$$\n",
    "Q(\\boldsymbol{X}, \\boldsymbol{\\pi}) > \\chi^2_{K-1, \\alpha}\n",
    "\\implies \\text{reject}\n",
    "$$\n",
    "\n",
    "とする検定を考えればよいことになる。ただし$\\chi^2_{K-1, \\alpha}$は$\\chi^2_{K-1}$分布の上側$100\\alpha$%点である。\n"
   ]
  },
  {
   "cell_type": "code",
   "execution_count": 177,
   "id": "b5dd3b1c-fd08-4237-a759-f06ad0bde8ae",
   "metadata": {
    "tags": [
     "hide-input"
    ]
   },
   "outputs": [
    {
     "data": {
      "image/png": "[encoded data removed]",
      "text/plain": [
       "<Figure size 432x288 with 1 Axes>"
      ]
     },
     "metadata": {
      "needs_background": "light"
     },
     "output_type": "display_data"
    }
   ],
   "source": [
    "from scipy.stats import chi2\n",
    "\n",
    "x = np.linspace(0, 20, 100)\n",
    "dist = chi2(df=5)\n",
    "y = dist.pdf(x)\n",
    "\n",
    "fig, ax = plt.subplots()\n",
    "ax.plot(x, y, label=r\"$\\chi^2_{K-1}$\")\n",
    "ax.axhline(color=\"gray\", alpha=0.5)\n",
    "\n",
    "alpha = 0.95\n",
    "t = dist.ppf(alpha)\n",
    "ax.text(t, -dist.pdf(t) * 0.7, r\"$\\chi^2_{K-1, \\alpha}$\", ha=\"center\")\n",
    "ax.fill_between(x=x[x > t], y1=y[x > t], alpha=.5)\n",
    "\n",
    "ax.axis(\"off\")\n",
    "ax.legend()\n",
    "fig.show()"
   ]
  },
  {
   "cell_type": "markdown",
   "id": "97a7e7b9-0b76-475d-b9f8-2de622024b9d",
   "metadata": {},
   "source": [
    ":::{dropdown} （命題） $Q(\\boldsymbol{X}, \\boldsymbol{\\pi})$は$H_0$のもとで$\\chi^2_{K-1}$に収束する\n",
    "\n",
    "（証明）\n",
    "\n",
    ":::"
   ]
  },
  {
   "cell_type": "markdown",
   "id": "6569bdee-2897-43ad-a52b-bbdbdb89d815",
   "metadata": {},
   "source": [
    "### 例\n",
    "\n",
    "日本人1000人の血液型を調べたところ、次のようになったとする。\n"
   ]
  },
  {
   "cell_type": "code",
   "execution_count": 248,
   "id": "60a72f89-415e-48b5-9959-2e6fe0124e54",
   "metadata": {
    "tags": [
     "hide-input"
    ]
   },
   "outputs": [
    {
     "data": {
      "text/html": [
       "<div>\n",
       "<style scoped>\n",
       "    .dataframe tbody tr th:only-of-type {\n",
       "        vertical-align: middle;\n",
       "    }\n",
       "\n",
       "    .dataframe tbody tr th {\n",
       "        vertical-align: top;\n",
       "    }\n",
       "\n",
       "    .dataframe thead th {\n",
       "        text-align: right;\n",
       "    }\n",
       "</style>\n",
       "<table border=\"1\" class=\"dataframe\">\n",
       "  <thead>\n",
       "    <tr style=\"text-align: right;\">\n",
       "      <th></th>\n",
       "      <th>A</th>\n",
       "      <th>B</th>\n",
       "      <th>O</th>\n",
       "      <th>AB</th>\n",
       "    </tr>\n",
       "  </thead>\n",
       "  <tbody>\n",
       "    <tr>\n",
       "      <th>観測度数</th>\n",
       "      <td>371</td>\n",
       "      <td>200</td>\n",
       "      <td>337</td>\n",
       "      <td>92</td>\n",
       "    </tr>\n",
       "  </tbody>\n",
       "</table>\n",
       "</div>"
      ],
      "text/plain": [
       "        A    B    O  AB\n",
       "観測度数  371  200  337  92"
      ]
     },
     "execution_count": 248,
     "metadata": {},
     "output_type": "execute_result"
    }
   ],
   "source": [
    "import pandas as pd\n",
    "from scipy.stats import multinomial, chi2\n",
    "n = 1000\n",
    "pi = np.array([.4, .2, .3, .1])  # 理論確率\n",
    "\n",
    "# データの生成\n",
    "m = multinomial(n=1, p=pi)\n",
    "x = m.rvs(size=n, random_state=100).sum(axis=0)\n",
    "d = pd.DataFrame([x], columns=[\"A\", \"B\", \"O\", \"AB\"], index=[\"観測度数\"])\n",
    "d"
   ]
  },
  {
   "cell_type": "markdown",
   "id": "7d9f69be-b7ca-4f31-9bad-68fd75ac284d",
   "metadata": {},
   "source": [
    "日本人における血液型の割合は、おおよそＡ型40％、Ｂ型20％、Ｏ型30％、ＡＢ型10％といわれている（[一般社団法人日本血液製剤協会](http://www.ketsukyo.or.jp/glossary/a01.html)）。\n",
    "\n",
    "これを理論確率$\\boldsymbol{\\pi}$とすると、期待度数（理論値）$n \\times \\boldsymbol{\\pi}$は次のようになる"
   ]
  },
  {
   "cell_type": "code",
   "execution_count": 249,
   "id": "a377b51e-91a1-4d55-b991-ae7edef56db9",
   "metadata": {
    "tags": [
     "hide-input"
    ]
   },
   "outputs": [
    {
     "data": {
      "text/html": [
       "<div>\n",
       "<style scoped>\n",
       "    .dataframe tbody tr th:only-of-type {\n",
       "        vertical-align: middle;\n",
       "    }\n",
       "\n",
       "    .dataframe tbody tr th {\n",
       "        vertical-align: top;\n",
       "    }\n",
       "\n",
       "    .dataframe thead th {\n",
       "        text-align: right;\n",
       "    }\n",
       "</style>\n",
       "<table border=\"1\" class=\"dataframe\">\n",
       "  <thead>\n",
       "    <tr style=\"text-align: right;\">\n",
       "      <th></th>\n",
       "      <th>A</th>\n",
       "      <th>B</th>\n",
       "      <th>O</th>\n",
       "      <th>AB</th>\n",
       "    </tr>\n",
       "  </thead>\n",
       "  <tbody>\n",
       "    <tr>\n",
       "      <th>観測度数</th>\n",
       "      <td>371.0</td>\n",
       "      <td>200.0</td>\n",
       "      <td>337.0</td>\n",
       "      <td>92.0</td>\n",
       "    </tr>\n",
       "    <tr>\n",
       "      <th>期待度数</th>\n",
       "      <td>400.0</td>\n",
       "      <td>200.0</td>\n",
       "      <td>300.0</td>\n",
       "      <td>100.0</td>\n",
       "    </tr>\n",
       "  </tbody>\n",
       "</table>\n",
       "</div>"
      ],
      "text/plain": [
       "          A      B      O     AB\n",
       "観測度数  371.0  200.0  337.0   92.0\n",
       "期待度数  400.0  200.0  300.0  100.0"
      ]
     },
     "execution_count": 249,
     "metadata": {},
     "output_type": "execute_result"
    }
   ],
   "source": [
    "d.loc[\"期待度数\", :] = pi * n\n",
    "d"
   ]
  },
  {
   "cell_type": "markdown",
   "id": "9264e85e-bf5c-4454-8707-10b627075551",
   "metadata": {},
   "source": [
    "ピアソンのカイ2乗検定統計量\n",
    "\n",
    "$$\n",
    "Q(\\boldsymbol{X}, \\boldsymbol{\\pi})\n",
    "= \\sum^K_{i=1} \\frac{(X_i - n\\pi_i)^2}{n \\pi_i}\n",
    "$$\n",
    "\n",
    "を計算すると次のようになる"
   ]
  },
  {
   "cell_type": "code",
   "execution_count": 250,
   "id": "0a1c0932-b17f-4902-b89b-940b2ce4a210",
   "metadata": {},
   "outputs": [
    {
     "data": {
      "text/plain": [
       "7.305833333333333"
      ]
     },
     "execution_count": 250,
     "metadata": {},
     "output_type": "execute_result"
    }
   ],
   "source": [
    "Q = sum( (x - pi * n)**2 / (pi * n) )\n",
    "Q"
   ]
  },
  {
   "cell_type": "code",
   "execution_count": 255,
   "id": "9572fa0d-baa8-4632-a890-a0d0a80f351c",
   "metadata": {
    "tags": [
     "hide-input"
    ]
   },
   "outputs": [
    {
     "data": {
      "image/png": "[encoded data removed]",
      "text/plain": [
       "<Figure size 432x288 with 1 Axes>"
      ]
     },
     "metadata": {
      "needs_background": "light"
     },
     "output_type": "display_data"
    }
   ],
   "source": [
    "from scipy.stats import chi2\n",
    "\n",
    "K = len(d.columns)\n",
    "df = K - 1\n",
    "\n",
    "x = np.linspace(0, 15, 100)\n",
    "dist = chi2(df=df)\n",
    "y = dist.pdf(x)\n",
    "\n",
    "fig, ax = plt.subplots()\n",
    "ax.plot(x, y)\n",
    "ax.axhline(color=\"gray\", alpha=0.5)\n",
    "ax.set(title=r\"$\\chi^2_{K-1}$ and Q\")\n",
    "\n",
    "alpha = 0.95\n",
    "t = dist.ppf(alpha)\n",
    "ax.text(t, dist.pdf(t) * 1.1, r\"$\\chi^2_{K-1, \\alpha}$\")\n",
    "ax.fill_between(x=x[x > t], y1=y[x > t], alpha=.5)\n",
    "\n",
    "ax.vlines(Q, 0, dist.pdf(Q) * 1.4, color=\"tomato\")\n",
    "ax.text(Q, dist.pdf(Q) * 1.5, f\"Q = {Q:.1f}\", ha=\"center\", color=\"tomato\")\n",
    "\n",
    "fig.show()"
   ]
  },
  {
   "cell_type": "markdown",
   "id": "dfd137a9-d63b-4e0f-885c-49799fb3fb36",
   "metadata": {},
   "source": [
    "### 独立性の検定\n",
    "\n",
    "TODO"
   ]
  },
  {
   "cell_type": "code",
   "execution_count": null,
   "id": "7db37383-ae88-4b60-8be3-29a486f6d954",
   "metadata": {},
   "outputs": [],
   "source": []
  }
 ],
 "metadata": {
  "kernelspec": {
   "display_name": "Python 3",
   "language": "python",
   "name": "python3"
  },
  "language_info": {
   "codemirror_mode": {
    "name": "ipython",
    "version": 3
   },
   "file_extension": ".py",
   "mimetype": "text/x-python",
   "name": "python",
   "nbconvert_exporter": "python",
   "pygments_lexer": "ipython3",
   "version": "3.8.10"
  }
 },
 "nbformat": 4,
 "nbformat_minor": 5
}
