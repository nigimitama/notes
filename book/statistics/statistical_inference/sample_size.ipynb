{
 "cells": [
  {
   "cell_type": "markdown",
   "id": "58a8c12a-1603-4366-900d-d3de1e8c7d63",
   "metadata": {},
   "source": [
    "# 検定のためのサンプルサイズの決め方"
   ]
  },
  {
   "cell_type": "markdown",
   "id": "ac82c211-4476-47ea-8725-aa56ab2ffbb8",
   "metadata": {},
   "source": [
    "母比率$p$の95%信頼区間は、標本比率$\\hat{p}$を用いて\n",
    "\n",
    "$$\n",
    "\\widehat{p}-1.96 \\times \\sqrt{\\frac{\\widehat{p}(1-\\widehat{p})}{n}} \\leq p \\leq \\widehat{p}+1.96 \\times \\sqrt{\\frac{\\widehat{p}(1-\\widehat{p})}{n}}\n",
    "$$\n",
    "\n",
    "と求めることができる"
   ]
  },
  {
   "cell_type": "markdown",
   "id": "0b76c88e-52bf-4788-a77c-23e526463ab3",
   "metadata": {},
   "source": [
    "区間の幅部分が両側合計で$w$以下にしたい場合は\n",
    "\n",
    "$$\n",
    "2 \\times 1.96 \\times \\sqrt{\\frac{\\widehat{p}(1-\\widehat{p})}{n}} \\leq w\n",
    "$$\n",
    "\n",
    "を解けばよいので\n",
    "\n",
    "\n",
    "$$\n",
    "\\sqrt{n} \\geq 2 \\times 1.96 \\times \\sqrt{\\widehat{p}(1-\\widehat{p})} \\times \\frac{1}{w}\n",
    "$$\n",
    "\n",
    "\n",
    "\n",
    "$$\n",
    "n \\geq (2 \\times 1.96 \\times \\sqrt{\\widehat{p}(1-\\widehat{p})} \\times \\frac{1}{w})^2\n",
    "$$\n",
    "\n",
    "\n",
    "となる"
   ]
  },
  {
   "cell_type": "markdown",
   "id": "f9c0ab5c-bb24-4a0c-8eb7-7008fa4a2e72",
   "metadata": {},
   "source": [
    "例えば、事前調査により$\\hat{p} = 0.1$であることがわかっていて、幅$w=0.01$で95%信頼区間を求めたい場合は"
   ]
  },
  {
   "cell_type": "code",
   "execution_count": 38,
   "id": "d44a4cf4-fd7d-4dc4-a4f9-57136de342de",
   "metadata": {},
   "outputs": [
    {
     "name": "stdout",
     "output_type": "stream",
     "text": [
      "n=13829\n"
     ]
    }
   ],
   "source": [
    "from math import sqrt\n",
    "\n",
    "w = 0.01\n",
    "p_hat = 0.1\n",
    "\n",
    "n = int( (2 * 1.96 * sqrt(p_hat * (1 - p_hat)) / w) ** 2 )\n",
    "print(f\"{n=}\")"
   ]
  },
  {
   "cell_type": "code",
   "execution_count": 43,
   "id": "5615a4ad-90a7-4f3f-a430-1362916fcb8d",
   "metadata": {},
   "outputs": [
    {
     "name": "stdout",
     "output_type": "stream",
     "text": [
      "[0.095, 0.105], width=0.01\n"
     ]
    }
   ],
   "source": [
    "# 信頼区間の計算\n",
    "from scipy.stats import norm, sem\n",
    "\n",
    "mu = p_hat\n",
    "lower, upper = norm.interval(confidence=0.95, loc=mu, scale=sqrt((p_hat * (1 - p_hat)) / n))\n",
    "width = (mu - lower) + (upper - mu)\n",
    "print(f\"[{lower:.3g}, {upper:.3g}], width={width:.1g}\")"
   ]
  },
  {
   "cell_type": "code",
   "execution_count": null,
   "id": "357b5f4d-42db-4de2-b62c-4add1c027b05",
   "metadata": {},
   "outputs": [],
   "source": [
    "# 乱数生成してシミュレーション\n",
    "import numpy as np\n",
    "np.random.seed(0)\n",
    "x = np.random.binomial(n=1, p=p_hat, size=int(n))\n",
    "\n",
    "from scipy.stats import norm, sem\n",
    "lower, upper = norm.interval(confidence=0.95, loc=x.mean(), scale=sem(x))\n",
    "width = (x.mean() - lower) + (upper - x.mean())\n",
    "print(f\"[{lower:.3g}, {upper:.3g}], width={width:.1g}\")"
   ]
  },
  {
   "cell_type": "markdown",
   "id": "37028501-0742-4b95-a506-291cedef1d71",
   "metadata": {},
   "source": [
    "## 参考\n",
    "\n",
    "- [21-4. 必要なサンプルサイズ1 | 統計学の時間 | 統計WEB](https://bellcurve.jp/statistics/course/9129.html?srsltid=AfmBOor_VrX0VRNoaDn20rzg-4p3TdUMNflYCO7EGUwvrOtqo6LQ94bw)\n",
    "- [Wang, H., & Chow, S. C. (2014). Sample Size Calculation for Comparing Variabilities. Wiley StatsRef: Statistics Reference Online. John Wiley & Sons, Ltd.](https://citeseerx.ist.psu.edu/document?repid=rep1&type=pdf&doi=77a4e5a32157ddd2c8ccab43093e7a7602e6938f)\n",
    "    - ちゃんとやる場合にはこれ参考になりそう\n",
    "- [サンプルサイズの決め方 (統計ライブラリー) | 永田 靖 |本 | 通販 | Amazon](https://www.amazon.co.jp/dp/4254126654)\n"
   ]
  }
 ],
 "metadata": {
  "kernelspec": {
   "display_name": "Python 3 (ipykernel)",
   "language": "python",
   "name": "python3"
  },
  "language_info": {
   "codemirror_mode": {
    "name": "ipython",
    "version": 3
   },
   "file_extension": ".py",
   "mimetype": "text/x-python",
   "name": "python",
   "nbconvert_exporter": "python",
   "pygments_lexer": "ipython3",
   "version": "3.10.15"
  }
 },
 "nbformat": 4,
 "nbformat_minor": 5
}
