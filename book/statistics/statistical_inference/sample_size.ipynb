{
 "cells": [
  {
   "cell_type": "markdown",
   "id": "58a8c12a-1603-4366-900d-d3de1e8c7d63",
   "metadata": {},
   "source": [
    "# 検定のためのサンプルサイズの決め方"
   ]
  },
  {
   "cell_type": "markdown",
   "id": "c6ae436d-81b5-46ea-aa5c-0b63d30edb66",
   "metadata": {},
   "source": [
    "## シンプルなやつ（母比率の検定の場合）\n",
    "\n",
    "統計学の入門書にあるようなシンプルなやつ"
   ]
  },
  {
   "cell_type": "markdown",
   "id": "ac82c211-4476-47ea-8725-aa56ab2ffbb8",
   "metadata": {},
   "source": [
    "母比率$p$の95%信頼区間は、標本比率$\\hat{p}$を用いて\n",
    "\n",
    "$$\n",
    "\\widehat{p}-1.96 \\times \\sqrt{\\frac{\\widehat{p}(1-\\widehat{p})}{n}} \\leq p \\leq \\widehat{p}+1.96 \\times \\sqrt{\\frac{\\widehat{p}(1-\\widehat{p})}{n}}\n",
    "$$\n",
    "\n",
    "と求めることができる"
   ]
  },
  {
   "cell_type": "markdown",
   "id": "0b76c88e-52bf-4788-a77c-23e526463ab3",
   "metadata": {},
   "source": [
    "区間の幅部分が両側合計で$w$以下にしたい場合は\n",
    "\n",
    "$$\n",
    "2 \\times 1.96 \\times \\sqrt{\\frac{\\widehat{p}(1-\\widehat{p})}{n}} \\leq w\n",
    "$$\n",
    "\n",
    "を解けばよいので\n",
    "\n",
    "\n",
    "$$\n",
    "\\sqrt{n} \\geq 2 \\times 1.96 \\times \\sqrt{\\widehat{p}(1-\\widehat{p})} \\times \\frac{1}{w}\n",
    "$$\n",
    "\n",
    "\n",
    "\n",
    "$$\n",
    "n \\geq (2 \\times 1.96 \\times \\sqrt{\\widehat{p}(1-\\widehat{p})} \\times \\frac{1}{w})^2\n",
    "$$\n",
    "\n",
    "\n",
    "となる"
   ]
  },
  {
   "cell_type": "markdown",
   "id": "f9c0ab5c-bb24-4a0c-8eb7-7008fa4a2e72",
   "metadata": {},
   "source": [
    "例えば、事前調査により$\\hat{p} = 0.1$であることがわかっていて、幅$w=0.01$で95%信頼区間を求めたい場合は"
   ]
  },
  {
   "cell_type": "code",
   "execution_count": 1,
   "id": "d44a4cf4-fd7d-4dc4-a4f9-57136de342de",
   "metadata": {
    "tags": []
   },
   "outputs": [
    {
     "name": "stdout",
     "output_type": "stream",
     "text": [
      "n=13829\n"
     ]
    }
   ],
   "source": [
    "from math import sqrt\n",
    "\n",
    "w = 0.01\n",
    "p_hat = 0.1\n",
    "\n",
    "n = int( (2 * 1.96 * sqrt(p_hat * (1 - p_hat)) / w) ** 2 )\n",
    "print(f\"{n=}\")"
   ]
  },
  {
   "cell_type": "code",
   "execution_count": 2,
   "id": "5615a4ad-90a7-4f3f-a430-1362916fcb8d",
   "metadata": {
    "tags": []
   },
   "outputs": [
    {
     "name": "stdout",
     "output_type": "stream",
     "text": [
      "[0.095, 0.105], width=0.01\n"
     ]
    }
   ],
   "source": [
    "# 信頼区間の計算\n",
    "from scipy.stats import norm, sem\n",
    "\n",
    "mu = p_hat\n",
    "lower, upper = norm.interval(confidence=0.95, loc=mu, scale=sqrt((p_hat * (1 - p_hat)) / n))\n",
    "width = (mu - lower) + (upper - mu)\n",
    "print(f\"[{lower:.3g}, {upper:.3g}], width={width:.1g}\")"
   ]
  },
  {
   "cell_type": "code",
   "execution_count": 3,
   "id": "357b5f4d-42db-4de2-b62c-4add1c027b05",
   "metadata": {
    "tags": []
   },
   "outputs": [
    {
     "name": "stdout",
     "output_type": "stream",
     "text": [
      "[0.0937, 0.104], width=0.01\n"
     ]
    }
   ],
   "source": [
    "# 乱数生成してシミュレーション\n",
    "import numpy as np\n",
    "np.random.seed(0)\n",
    "x = np.random.binomial(n=1, p=p_hat, size=int(n))\n",
    "\n",
    "from scipy.stats import norm, sem\n",
    "lower, upper = norm.interval(confidence=0.95, loc=x.mean(), scale=sem(x))\n",
    "width = (x.mean() - lower) + (upper - x.mean())\n",
    "print(f\"[{lower:.3g}, {upper:.3g}], width={width:.1g}\")"
   ]
  },
  {
   "cell_type": "markdown",
   "id": "49890dc5-e3fd-4038-a7b0-52ab15586a4b",
   "metadata": {},
   "source": [
    "### statsmodels\n",
    "\n",
    "[samplesize_confint_proportion](https://www.statsmodels.org/dev/generated/statsmodels.stats.proportion.samplesize_confint_proportion.html#statsmodels.stats.proportion.samplesize_confint_proportion)\n",
    "を使うことで、想定される比率、幅、有意水準からサンプル数を推定できる\n"
   ]
  },
  {
   "cell_type": "code",
   "execution_count": 7,
   "id": "d07473fd-1d22-47a5-9b89-732c6005348d",
   "metadata": {
    "tags": []
   },
   "outputs": [
    {
     "name": "stdout",
     "output_type": "stream",
     "text": [
      "3,457\n"
     ]
    }
   ],
   "source": [
    "from statsmodels.stats.proportion import samplesize_confint_proportion\n",
    "\n",
    "n = samplesize_confint_proportion(proportion=0.1, half_length=0.01, alpha=0.05, method='normal')\n",
    "print(f\"{n:,.0f}\")"
   ]
  },
  {
   "cell_type": "markdown",
   "id": "8c7f404f-7a38-47a7-84a7-9f899aac0fe8",
   "metadata": {},
   "source": [
    "## 本格的な実験手順\n"
   ]
  },
  {
   "cell_type": "markdown",
   "id": "b471d02c-6105-42b0-894a-1f201acd4e05",
   "metadata": {},
   "source": [
    ":::{admonition} サンプルサイズの4大因子\n",
    "\n",
    "次の4つのうち3つが決まれば残る1つも決まる\n",
    "\n",
    "1. サンプルサイズ（Sample size）\n",
    "2. 効果量（Effect size）\n",
    "    - 比較対象（平均や割合など）の差の大きさ。\n",
    "    - 例：Cohen's d, r, η² など\n",
    "3. 有意水準（Significance level, $\\alpha$）\n",
    "    - 第1種の過誤（誤って帰無仮説を棄却する）の確率\n",
    "4. 検出力（Power, $1-\\beta$）\n",
    "    - 帰無仮説が誤っているときに、それを正しく棄却できる確率。第2種の過誤（棄却できない確率$\\beta$）をしない確率\n",
    "    - 通常は 0.8（80%）以上が望ましいとされる\n",
    "\n",
    "→ サンプルサイズを設計するにはサンプルサイズ以外の3つを設定すればいい\n",
    "\n",
    "→ 検出力を推定するには検出力以外の3つを使えばいい\n",
    "\n",
    ":::"
   ]
  },
  {
   "cell_type": "markdown",
   "id": "1d657edc-e348-462e-9467-6a537fe76a16",
   "metadata": {},
   "source": [
    "### 手順1. 事前分析：サンプルサイズの設計\n",
    "\n",
    "調査（A/Bテストなど）を行う前のサンプルサイズ設計。\n",
    "\n",
    "1. 効果量\n",
    "2. 有意水準\n",
    "3. 検出力\n",
    "\n",
    "を決めてサンプルサイズを算出する。\n",
    "\n",
    "有意水準は5%、検出力は80%などにすればいいが、効果量がちょっと難しい。\n",
    "\n",
    "A/Bテストでいうと「この新施策で成約率が5ポイント上昇するはず」などの仮定をおいて効果量を算出することになる。"
   ]
  },
  {
   "cell_type": "markdown",
   "id": "43e99f5b-a3de-4d37-a267-fef64fc29ac4",
   "metadata": {},
   "source": [
    "#### 効果量\n",
    "\n",
    "代表的な効果量にはCohenのdやhがある。\n",
    "\n",
    "| 効果量      | 用途            | 備考                                  |\n",
    "| ----------- | --------------- | ------------------------------------- |\n",
    "| Cohen's $d$ | 2群の平均値の差 | 目安：0.2=小, 0.5=中, 0.8=大          |\n",
    "| Hedges' $g$ | 2群の平均値の差 | Cohen's $d$の小標本でのバイアス補正版 |\n",
    "| Cohen's $h$ | 2群の比率の差   | 目安：0.2=小, 0.5=中, 0.8=大          |\n",
    "\n"
   ]
  },
  {
   "cell_type": "markdown",
   "id": "3ed71fbd-316b-453c-8f1d-7cbd6dc7c0c5",
   "metadata": {},
   "source": [
    "\n",
    ":::{admonition} Cohen's $d$\n",
    "\n",
    "2群の平均値の差の効果量。\n",
    "\n",
    "$$\n",
    "d=\\frac{\\bar{X}_1-\\bar{X}_2}{s_{\\text {pooled }}}\n",
    "$$\n",
    "\n",
    "\n",
    "ここで：\n",
    "- $\\bar{X}_1$ ：群1の平均\n",
    "- $\\bar{X}_2$ ：群2の平均\n",
    "- $s_{\\text {pooled }}$ ：プールされた標準偏差（両群の分散を平均したもの）\n",
    "\n",
    "$$\n",
    "s_{\\text {pooled }}=\\sqrt{\\frac{\\left(n_1-1\\right) s_1^2+\\left(n_2-1\\right) s_2^2}{n_1+n_2-2}}\n",
    "$$\n",
    "\n",
    "- $s_1^2, s_2^2:$ それぞれの群の不偏分散\n",
    "- $n_1, n_2$ ：それぞれの群のサンプルサイズ\n",
    "\n",
    ":::\n",
    "\n"
   ]
  },
  {
   "cell_type": "code",
   "execution_count": 54,
   "id": "eaa93eb4-7acd-4799-8de8-c532015911fc",
   "metadata": {
    "tags": []
   },
   "outputs": [],
   "source": [
    "import numpy as np\n",
    "\n",
    "def cohens_d(x1: np.array, x2: np.array) -> float:\n",
    "    n1, n2 = len(x1), len(x2)\n",
    "    denom = (n1 - 1) * x1.std()**2 + (n2 - 1) * x2.std()**2\n",
    "    num = n1 + n2 - 2\n",
    "    pooled_std = np.sqrt(denom / num)\n",
    "    return (x1.mean() - x2.mean()) / pooled_std"
   ]
  },
  {
   "cell_type": "code",
   "execution_count": 71,
   "id": "db71f25d-6c5d-432e-b1ac-9db1d1949c2e",
   "metadata": {
    "tags": []
   },
   "outputs": [
    {
     "name": "stdout",
     "output_type": "stream",
     "text": [
      "d=0.103\n",
      "d=0.485\n"
     ]
    }
   ],
   "source": [
    "np.random.seed(0)\n",
    "\n",
    "d = cohens_d(\n",
    "    x1 = np.random.normal(loc=0, scale=1, size=450),\n",
    "    x2 = np.random.normal(loc=0, scale=1, size=300),\n",
    ")\n",
    "print(f\"{d=:.3f}\")\n",
    "\n",
    "\n",
    "d = cohens_d(\n",
    "    x1 = np.random.normal(loc=0.5, scale=1, size=350),\n",
    "    x2 = np.random.normal(loc=0, scale=1, size=300),\n",
    ")\n",
    "print(f\"{d=:.3f}\")"
   ]
  },
  {
   "cell_type": "markdown",
   "id": "4a6b5864-edf8-4fe2-bcd5-ff36b7e719e7",
   "metadata": {},
   "source": [
    ":::{admonition} Hdges' $g$\n",
    "\n",
    "Cohen's $d$はサンプルサイズが小さいときに過大評価するバイアスがあるため補正する係数を乗じたもの\n",
    "\n",
    "$$\n",
    "g=J \\cdot d\n",
    "$$\n",
    "\n",
    "\n",
    "ここで：\n",
    "\n",
    "- $d$ ：Cohen's $d$ （2群の標準化された平均差）\n",
    "- $J:$ バイアス補正係数（通常は小さくなる）\n",
    "\n",
    "$$\n",
    "J=1-\\frac{3}{4 (n_1+n_2 - 2)-1}\n",
    "$$\n",
    "\n",
    ":::\n",
    "\n"
   ]
  },
  {
   "cell_type": "code",
   "execution_count": 101,
   "id": "b3decc5d-1901-4c64-a92e-769025017e45",
   "metadata": {
    "tags": []
   },
   "outputs": [],
   "source": [
    "def hedges_g(x1: np.array, x2: np.array) -> float:\n",
    "    d = cohens_d(x1, x2)\n",
    "    n1, n2 = len(x1), len(x2)\n",
    "    J = 1 - (3 / (4 * (n1 + n2 - 2) - 1))\n",
    "    return J * d"
   ]
  },
  {
   "cell_type": "code",
   "execution_count": 120,
   "id": "0656ec76-f8da-44bc-96e2-0193c91d6995",
   "metadata": {
    "tags": []
   },
   "outputs": [
    {
     "name": "stdout",
     "output_type": "stream",
     "text": [
      "d=0.213\n",
      "J=0.997\n",
      "g=0.212\n"
     ]
    }
   ],
   "source": [
    "np.random.seed(0)\n",
    "\n",
    "x1 = np.random.normal(loc=0, scale=2, size=150)\n",
    "x2 = np.random.normal(loc=0, scale=1, size=100)\n",
    "\n",
    "d = cohens_d(x1, x2)\n",
    "print(f\"{d=:.3f}\")\n",
    "J = 1 - (3 / (4 * (x1.size + x2.size - 2) - 1))\n",
    "print(f\"{J=:.3f}\")\n",
    "g = hedges_g(x1, x2)\n",
    "print(f\"{g=:.3f}\")"
   ]
  },
  {
   "cell_type": "markdown",
   "id": "51815668-dcb4-4c4f-8d51-ff683931afd4",
   "metadata": {},
   "source": [
    "\n",
    ":::{admonition} Cohen's $h$\n",
    "\n",
    "2群の比率の差の効果量。\n",
    "\n",
    "$$\n",
    "h=2 \\cdot \\arcsin (\\sqrt{p_1})-2 \\cdot \\arcsin (\\sqrt{p_2})\n",
    "$$\n",
    "\n",
    "ここで：\n",
    "- $p_1$ ：群1の比率（成約率など）\n",
    "- $p_2$ ：群2の比率（成約率など）\n",
    "\n",
    ":::\n"
   ]
  },
  {
   "cell_type": "code",
   "execution_count": 104,
   "id": "979e2349-8c03-4fde-b1de-9ad3af6a6815",
   "metadata": {
    "tags": []
   },
   "outputs": [
    {
     "name": "stdout",
     "output_type": "stream",
     "text": [
      "h=0.152\n"
     ]
    }
   ],
   "source": [
    "import math\n",
    "\n",
    "def cohens_h(p1, p2):\n",
    "    return 2 * (math.asin(p1**0.5) - math.asin(p2**0.5))\n",
    "\n",
    "h = cohens_h(0.15, 0.10)\n",
    "print(f\"{h=:.3f}\")"
   ]
  },
  {
   "cell_type": "markdown",
   "id": "4491fe8b-63fd-49a1-9d82-71563a0fc1ba",
   "metadata": {},
   "source": [
    "### 手順2. 事後分析：検出力分析\n",
    "\n",
    "1. 実測のサンプルサイズ\n",
    "2. 実測の効果量\n",
    "3. 有意水準\n",
    "\n",
    "で検出力を算出する"
   ]
  },
  {
   "cell_type": "code",
   "execution_count": 110,
   "id": "f7fea1e7-218a-45de-97a7-d25abfd286fa",
   "metadata": {
    "tags": []
   },
   "outputs": [
    {
     "name": "stdout",
     "output_type": "stream",
     "text": [
      "power=0.721\n"
     ]
    }
   ],
   "source": [
    "# 平均値の差の場合 ------------------------------\n",
    "# サンプルの例\n",
    "import numpy as np\n",
    "np.random.seed(0)\n",
    "x1 = np.random.normal(loc=0.2, scale=2, size=150)\n",
    "x2 = np.random.normal(loc=0, scale=1, size=100)\n",
    "\n",
    "# calc power\n",
    "from statsmodels.stats.power import TTestIndPower\n",
    "power_analysis = TTestIndPower()\n",
    "power = power_analysis.power(\n",
    "    nobs1=x1.size,\n",
    "    ratio=x2.size / x1.size,  # nobs2 = nobs1 * ratio\n",
    "    effect_size=hedges_g(x1, x2),\n",
    "    alpha=0.05,\n",
    ")\n",
    "print(f\"{power=:.3f}\")"
   ]
  },
  {
   "cell_type": "code",
   "execution_count": 131,
   "id": "651ca3c3-f0ba-4377-8bf8-d9f1f255ea76",
   "metadata": {
    "tags": []
   },
   "outputs": [
    {
     "name": "stdout",
     "output_type": "stream",
     "text": [
      "power=0.954\n"
     ]
    }
   ],
   "source": [
    "# 比率の差の場合 ------------------------------\n",
    "# サンプルの例\n",
    "import numpy as np\n",
    "np.random.seed(0)\n",
    "x1 = np.random.binomial(n=1, p=0.10, size=750)\n",
    "x2 = np.random.binomial(n=1, p=0.15, size=600)\n",
    "\n",
    "# calc power\n",
    "from statsmodels.stats.power import NormalIndPower\n",
    "power_analysis = NormalIndPower()\n",
    "power = power_analysis.power(\n",
    "    nobs1=x1.size,\n",
    "    ratio=x2.size / x1.size,  # nobs2 = nobs1 * ratio\n",
    "    effect_size=hedges_g(x1, x2),\n",
    "    alpha=0.05,\n",
    ")\n",
    "print(f\"{power=:.3f}\")"
   ]
  },
  {
   "cell_type": "markdown",
   "id": "c6f02552-354b-45b0-90d6-36a93a79f15b",
   "metadata": {},
   "source": [
    "### statsmodels\n",
    "\n",
    "statsmodels: [Size Calculations](https://www.statsmodels.org/dev/stats.html#power-and-sample-size-calculations)"
   ]
  },
  {
   "cell_type": "code",
   "execution_count": 106,
   "id": "d8b59c90-12fe-4bcb-94b4-f96caf985099",
   "metadata": {
    "tags": []
   },
   "outputs": [
    {
     "data": {
      "image/png": "[encoded data removed]",
      "text/plain": [
       "<Figure size 640x480 with 1 Axes>"
      ]
     },
     "metadata": {},
     "output_type": "display_data"
    }
   ],
   "source": [
    "# サンプルサイズの変化に応じた検定力の推移\n",
    "import numpy as np\n",
    "from statsmodels.stats.power import TTestIndPower\n",
    "\n",
    "power_analysis = TTestIndPower()\n",
    "fig = power_analysis.plot_power(\n",
    "    dep_var='nobs',\n",
    "    nobs=np.arange(5, 100),\n",
    "    effect_size=[0.2, 0.5, 0.8],\n",
    "    alpha=0.05,\n",
    ")"
   ]
  },
  {
   "cell_type": "markdown",
   "id": "8cfeec9f-ce4a-406a-8247-4b585a318cb2",
   "metadata": {},
   "source": [
    "statsmodelsの `solve_power` では、4要因のうち `None` にした要素を推定できる"
   ]
  },
  {
   "cell_type": "code",
   "execution_count": 123,
   "id": "4a4df08c-822c-4f0d-a14b-14a477f88cc4",
   "metadata": {
    "tags": []
   },
   "outputs": [
    {
     "name": "stdout",
     "output_type": "stream",
     "text": [
      "effect_size=0.398\n"
     ]
    }
   ],
   "source": [
    "# effect_sizeをNoneにしてeffect_sizeを推定\n",
    "from statsmodels.stats.power import TTestIndPower\n",
    "power_analysis = TTestIndPower()\n",
    "effect_size = power_analysis.solve_power(\n",
    "    nobs1=100,\n",
    "    ratio=1.0,  # nobs2 = nobs1 * ratio\n",
    "    effect_size=None,\n",
    "    alpha=0.05,\n",
    "    power=0.80,\n",
    ")\n",
    "print(f\"{effect_size=:.3f}\")"
   ]
  },
  {
   "cell_type": "code",
   "execution_count": 129,
   "id": "42d7a74f-0422-4074-9511-593f02816420",
   "metadata": {
    "tags": []
   },
   "outputs": [
    {
     "name": "stdout",
     "output_type": "stream",
     "text": [
      "effect_size=0.125\n"
     ]
    }
   ],
   "source": [
    "# effect_sizeをNoneにして必要なeffect_sizeを推定\n",
    "from statsmodels.stats.power import NormalIndPower\n",
    "power_analysis = NormalIndPower()\n",
    "effect_size = power_analysis.solve_power(\n",
    "    nobs1=1000,\n",
    "    ratio=1.0,  # nobs2 = nobs1 * ratio\n",
    "    effect_size=None,\n",
    "    alpha=0.05,\n",
    "    power=0.80,\n",
    ")\n",
    "print(f\"{effect_size=:.3f}\")"
   ]
  },
  {
   "cell_type": "markdown",
   "id": "e86bbec0-b22d-4106-aed4-5a1f6b7ea924",
   "metadata": {},
   "source": []
  },
  {
   "cell_type": "markdown",
   "id": "c248968f-1007-48c8-9d3e-4eb5dfa43792",
   "metadata": {},
   "source": []
  },
  {
   "cell_type": "markdown",
   "id": "37028501-0742-4b95-a506-291cedef1d71",
   "metadata": {},
   "source": [
    "## 参考\n",
    "\n",
    "- [21-4. 必要なサンプルサイズ1 | 統計学の時間 | 統計WEB](https://bellcurve.jp/statistics/course/9129.html?srsltid=AfmBOor_VrX0VRNoaDn20rzg-4p3TdUMNflYCO7EGUwvrOtqo6LQ94bw)\n",
    "- [31-6. サンプルサイズの設計と検出力分析 | 統計学の時間 | 統計WEB](https://bellcurve.jp/statistics/course/12769.html)\n",
    "- [Python初心者の備忘録 #14 \\~統計学入門編04\\~ #Python3 - Qiita](https://qiita.com/Yushin-Tati/items/8aeb2c190e3494dd6b78#%E3%81%AF%E3%81%98%E3%82%81%E3%81%AB)\n",
    "- [Wang, H., & Chow, S. C. (2014). Sample Size Calculation for Comparing Variabilities. Wiley StatsRef: Statistics Reference Online. John Wiley & Sons, Ltd.](https://citeseerx.ist.psu.edu/document?repid=rep1&type=pdf&doi=77a4e5a32157ddd2c8ccab43093e7a7602e6938f)\n",
    "    - ちゃんとやる場合にはこれ参考になりそう\n",
    "- [サンプルサイズの決め方 (統計ライブラリー) | 永田 靖 |本 | 通販 | Amazon](https://www.amazon.co.jp/dp/4254126654)\n"
   ]
  },
  {
   "cell_type": "code",
   "execution_count": null,
   "id": "b60a21aa-81c8-4098-87a6-d466b9939e8f",
   "metadata": {},
   "outputs": [],
   "source": []
  }
 ],
 "metadata": {
  "kernelspec": {
   "display_name": "Python 3 (ipykernel)",
   "language": "python",
   "name": "python3"
  },
  "language_info": {
   "codemirror_mode": {
    "name": "ipython",
    "version": 3
   },
   "file_extension": ".py",
   "mimetype": "text/x-python",
   "name": "python",
   "nbconvert_exporter": "python",
   "pygments_lexer": "ipython3",
   "version": "3.10.18"
  }
 },
 "nbformat": 4,
 "nbformat_minor": 5
}
