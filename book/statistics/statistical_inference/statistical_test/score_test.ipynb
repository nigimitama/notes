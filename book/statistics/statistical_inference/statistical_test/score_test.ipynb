{
 "cells": [
  {
   "cell_type": "markdown",
   "id": "66665f79-dda6-4219-9c51-6552146956b2",
   "metadata": {},
   "source": [
    "# スコア検定\n",
    "\n"
   ]
  },
  {
   "cell_type": "markdown",
   "id": "44d5c909-4e3f-4794-95a7-bf129319bd62",
   "metadata": {},
   "source": [
    "## 概要\n",
    "\n",
    "### スコア関数\n",
    "\n",
    "分布$f(x|\\theta)$からランダムに得られた$n$個のサンプルを$X = (X_1, \\cdots, X_n)$とする。\n",
    "\n",
    "$X$の同時確率関数（尤度）を$\\prod_{i=1}^n f(x_i|\\theta)$を$f_n(x|\\theta)$と表す。\n",
    "\n",
    "対数尤度$l(\\theta, X) = \\log f_n(X|\\theta)$の導関数\n",
    "\n",
    "$$\n",
    "l'_n(\\theta, X) = \\frac{d}{d \\theta} \\log f_n(X|\\theta)\n",
    "$$\n",
    "\n",
    "を **スコア関数** （score function）という。\n",
    "\n",
    "\n",
    "### フィッシャー情報量\n",
    "\n",
    "スコア関数の2乗の期待値\n",
    "\n",
    "$$\n",
    "I_n(\\theta)=E\\left[\\left\\{l'_n(\\theta, \\boldsymbol{X})\\right\\}^2\\right]=E\\left[\\left\\{\\frac{d}{d \\theta} \\log f_n(\\boldsymbol{X} \\mid \\theta)\\right\\}^2\\right]\n",
    "$$\n",
    "\n",
    "を **フィッシャー情報量** という。\n",
    "\n"
   ]
  },
  {
   "cell_type": "markdown",
   "id": "fd100e70-a6ed-493f-80bc-012a0a4adebe",
   "metadata": {},
   "source": [
    "### スコア関数の性質\n",
    "\n",
    "$$\n",
    "E[l'_n(\\theta, X)] = 0\\\\\n",
    "Var[l'_n(\\theta, X)] = E[-l''_n(\\theta,X)]= I_n(\\theta) = n I_1(\\theta)\n",
    "$$\n",
    "\n",
    "（$I_1(\\theta)$はサンプル1つのフィッシャー情報量）\n",
    "\n",
    "となるので、中心極限定理により、$n$が真値のとき\n",
    "\n",
    "$$\n",
    "l'(\\theta, \\boldsymbol{X}) / \\sqrt{n I_1(\\theta)} \\rightarrow_d \\mathcal{N}(0,1)\n",
    "$$\n",
    "\n",
    "という漸近正規性があるので、これを使って検定ができる"
   ]
  },
  {
   "cell_type": "markdown",
   "id": "729ce6a5-8d2c-4547-a1c0-0ed821fe4c0d",
   "metadata": {},
   "source": [
    ":::{dropdown} TODO: 導出を追う\n",
    "$l'_1(\\theta, X_i) = \\{(d/d\\theta) f(x|\\theta)\\} / f(x|\\theta)$と書けるらしいので（？）\n",
    "\n",
    "$$\n",
    "\\begin{aligned}\n",
    "E\\left[l'_1\\left(\\theta, X_i\\right)\\right] & =\\int\\left\\{\\frac{(d / d \\theta) f(x \\mid \\theta)}{f(x \\mid \\theta)}\\right\\} f(x \\mid \\theta) d x \\\\ & =\\int \\frac{d}{d \\theta} f(x \\mid \\theta) d x=\\frac{d}{d \\theta} \\int f(x \\mid \\theta) d x=\\frac{d}{d \\theta} 1=0\n",
    "\\end{aligned}\n",
    "$$\n",
    ":::"
   ]
  },
  {
   "cell_type": "markdown",
   "id": "d9ada448-2d19-462d-8db7-fc5fed6484fa",
   "metadata": {},
   "source": [
    "### スコア検定\n",
    "\n",
    "$$\n",
    "H_0: \\theta = \\theta_0\n",
    "\\quad \\text{v.s.} \\quad\n",
    "H_1: \\theta \\neq \\theta_0\n",
    "$$\n",
    "\n",
    "に対して、\n",
    "\n",
    "$$\n",
    "R=\\left\\{\\boldsymbol{x} \\in \\mathcal{X} \\mid | l'_n\\left(\\theta_0, \\boldsymbol{x}\\right) \\mid / \\sqrt{n I_1\\left(\\theta_0\\right)} \\geq z_{\\alpha / 2}\\right\\}\n",
    "$$\n",
    "\n",
    "を棄却域とする検定を **スコア検定** （score test） という。\n"
   ]
  },
  {
   "cell_type": "markdown",
   "id": "bde1ec61-c18a-4f18-8d85-3354167cc42d",
   "metadata": {},
   "source": [
    "## 例\n",
    "\n",
    "（とりあえず作ったが合ってるか不明。とくに2階微分のところ）\n",
    "\n",
    "ガンマ分布っぽいデータがあったとする。\n",
    "\n",
    "ガンマ分布のshapeパラメータ$\\alpha$は、$\\alpha=1$のとき指数分布と一致する。\n",
    "\n",
    "データが指数分布（$\\alpha\\neq1$）かガンマ分布（$\\alpha=1$）なのか検定する（ガンマ分布のscaleパラメータは既知とする）"
   ]
  },
  {
   "cell_type": "code",
   "execution_count": 40,
   "id": "0e0b2ea1-9205-499f-a420-1015563d6812",
   "metadata": {
    "tags": [
     "hide-input"
    ]
   },
   "outputs": [
    {
     "data": {
      "image/png": "[encoded data removed]",
      "text/plain": [
       "<Figure size 400x200 with 1 Axes>"
      ]
     },
     "metadata": {},
     "output_type": "display_data"
    }
   ],
   "source": [
    "import numpy as np\n",
    "\n",
    "np.random.seed(0)\n",
    "n = 1000\n",
    "alpha = 1.1  # 知りたいパラメータ\n",
    "scale = 1    # 今回は既知とする\n",
    "x = np.random.gamma(shape=alpha, scale=scale, size=n)\n",
    "\n",
    "import matplotlib.pyplot as plt\n",
    "fig, ax = plt.subplots(figsize=[4,2])\n",
    "ax.hist(x, bins=30)\n",
    "fig.show()"
   ]
  },
  {
   "cell_type": "code",
   "execution_count": 41,
   "id": "39b06a27-551d-4b24-937e-9875458bd1d8",
   "metadata": {},
   "outputs": [],
   "source": [
    "from scipy.stats import gamma\n",
    "\n",
    "def neg_log_likelihood(alpha, scale, data):\n",
    "    \"\"\"負の対数尤度関数\"\"\"\n",
    "    return -np.sum(gamma.logpdf(data, a=alpha, scale=scale))"
   ]
  },
  {
   "cell_type": "code",
   "execution_count": 42,
   "id": "15f1e502-9b6b-47fe-9354-34923ead112c",
   "metadata": {},
   "outputs": [
    {
     "data": {
      "text/plain": [
       "1.0752251626781302"
      ]
     },
     "execution_count": 42,
     "metadata": {},
     "output_type": "execute_result"
    }
   ],
   "source": [
    "from scipy.optimize import minimize_scalar\n",
    "\n",
    "result = minimize_scalar(neg_log_likelihood, args=(scale, x), bounds=(0.01, 10), method='bounded')\n",
    "alpha_hat = result.x\n",
    "\n",
    "# 最尤推定量\n",
    "alpha_hat"
   ]
  },
  {
   "cell_type": "markdown",
   "id": "d8c413fc-0071-4307-aaa0-6fac588f09bf",
   "metadata": {},
   "source": [
    "approx_fprimeで数値微分する"
   ]
  },
  {
   "cell_type": "code",
   "execution_count": 43,
   "id": "4a3f16d1-8f7e-4d56-bca0-6f05ff582777",
   "metadata": {},
   "outputs": [
    {
     "data": {
      "text/plain": [
       "array([-0.00021362])"
      ]
     },
     "execution_count": 43,
     "metadata": {},
     "output_type": "execute_result"
    }
   ],
   "source": [
    "from scipy.optimize import approx_fprime\n",
    "\n",
    "grad = approx_fprime(\n",
    "    alpha_hat, # 勾配を計算する点\n",
    "    f=lambda a: neg_log_likelihood(a, scale, x), # 対象の関数\n",
    "    epsilon=np.sqrt(np.finfo(float).eps)\n",
    ")\n",
    "grad"
   ]
  },
  {
   "cell_type": "markdown",
   "id": "23a48e54-c81f-4e4b-8faa-a1648f7c811f",
   "metadata": {},
   "source": [
    "\n",
    "$E[-l''_n(\\theta,X)]= I_n(\\theta)$を使う\n"
   ]
  },
  {
   "cell_type": "code",
   "execution_count": 68,
   "id": "12d6fc96-3325-4662-a036-dd73ed78908e",
   "metadata": {},
   "outputs": [],
   "source": [
    "def derivative(x, f, epsilon=np.sqrt(np.finfo(float).eps)):\n",
    "    \"\"\"1階微分の勾配を計算する関数\"\"\"\n",
    "    return approx_fprime(x, f, epsilon)\n",
    "\n",
    "def second_order(x0, f):\n",
    "    \"\"\"2階微分を直接行う関数はないので2階approx_fprimeを行う\"\"\"\n",
    "    def first_order(x):\n",
    "        return derivative(x, f)\n",
    "    return derivative(x0, first_order)\n",
    "\n",
    "grad = derivative(\n",
    "    alpha_hat, # 勾配を計算する点\n",
    "    f=lambda a: neg_log_likelihood(a, scale, x), # 対象の関数\n",
    "    epsilon=np.sqrt(np.finfo(float).eps)\n",
    ")[0]\n",
    "hess = second_order(\n",
    "    alpha_hat,\n",
    "    f=lambda a: neg_log_likelihood(a, scale, x)\n",
    ")[0]"
   ]
  },
  {
   "cell_type": "code",
   "execution_count": 69,
   "id": "61e9cb40-5050-48ed-8a8e-3e0183def566",
   "metadata": {},
   "outputs": [
    {
     "data": {
      "text/plain": [
       "3.854228863074666e-06"
      ]
     },
     "execution_count": 69,
     "metadata": {},
     "output_type": "execute_result"
    }
   ],
   "source": [
    "# I = E[-l''(θ)] だが、マイナスのまま√とれないので結局絶対値にしないといけないような…\n",
    "I = abs( -hess )\n",
    "score = abs(grad) / np.sqrt(I)\n",
    "score"
   ]
  },
  {
   "cell_type": "code",
   "execution_count": 74,
   "id": "8f923b36-3918-4990-9112-d3a65bd8e3bc",
   "metadata": {},
   "outputs": [
    {
     "data": {
      "text/plain": [
       "False"
      ]
     },
     "execution_count": 74,
     "metadata": {},
     "output_type": "execute_result"
    }
   ],
   "source": [
    "from scipy.stats import norm\n",
    "\n",
    "z = norm.ppf(1 - 0.025, loc=0, scale=1)\n",
    "score >= z"
   ]
  }
 ],
 "metadata": {
  "kernelspec": {
   "display_name": "Python 3 (ipykernel)",
   "language": "python",
   "name": "python3"
  },
  "language_info": {
   "codemirror_mode": {
    "name": "ipython",
    "version": 3
   },
   "file_extension": ".py",
   "mimetype": "text/x-python",
   "name": "python",
   "nbconvert_exporter": "python",
   "pygments_lexer": "ipython3",
   "version": "3.10.13"
  }
 },
 "nbformat": 4,
 "nbformat_minor": 5
}
