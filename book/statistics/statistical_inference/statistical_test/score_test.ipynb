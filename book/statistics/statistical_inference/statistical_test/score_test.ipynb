{
 "cells": [
  {
   "cell_type": "markdown",
   "id": "66665f79-dda6-4219-9c51-6552146956b2",
   "metadata": {},
   "source": [
    "# スコア検定\n",
    "\n"
   ]
  },
  {
   "cell_type": "markdown",
   "id": "d9ada448-2d19-462d-8db7-fc5fed6484fa",
   "metadata": {},
   "source": [
    "## 概要"
   ]
  },
  {
   "cell_type": "markdown",
   "id": "bde1ec61-c18a-4f18-8d85-3354167cc42d",
   "metadata": {},
   "source": [
    "## 例\n",
    "\n"
   ]
  },
  {
   "cell_type": "code",
   "execution_count": null,
   "id": "0e0b2ea1-9205-499f-a420-1015563d6812",
   "metadata": {},
   "outputs": [],
   "source": []
  }
 ],
 "metadata": {
  "kernelspec": {
   "display_name": "Python 3 (ipykernel)",
   "language": "python",
   "name": "python3"
  },
  "language_info": {
   "codemirror_mode": {
    "name": "ipython",
    "version": 3
   },
   "file_extension": ".py",
   "mimetype": "text/x-python",
   "name": "python",
   "nbconvert_exporter": "python",
   "pygments_lexer": "ipython3",
   "version": "3.10.13"
  }
 },
 "nbformat": 4,
 "nbformat_minor": 5
}
