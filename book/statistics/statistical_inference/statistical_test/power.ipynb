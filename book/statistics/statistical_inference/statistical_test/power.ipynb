{
 "cells": [
  {
   "cell_type": "markdown",
   "id": "8580f0a9-5921-4a6b-83e8-d70e9da320a0",
   "metadata": {},
   "source": [
    "# 検出力"
   ]
  },
  {
   "cell_type": "markdown",
   "id": "318fbf0c-de55-434c-9afe-d29db4d99d9b",
   "metadata": {},
   "source": [
    "## 検定での意思決定の誤り\n"
   ]
  },
  {
   "cell_type": "markdown",
   "id": "f759e643-6f50-4823-a183-cbf423164625",
   "metadata": {},
   "source": [
    "### 検定の意思決定の誤り\n",
    "\n",
    "母数空間$\\Theta$が互いに排反な2つの部分集合$\\Theta_0, \\Theta_1$に分けられているとする。未知の母数$\\theta$についての帰無仮説$H_0$と対立仮説$H_1$を以下のように表す。\n",
    "\n",
    "$$\n",
    "H_0: \\theta \\in \\Theta_0 \\text { vs } H_1: \\theta \\in \\Theta_1\n",
    "$$\n",
    "\n",
    "帰無仮説を受容する意思決定を$d=0$、帰無仮説を棄却する決定を$d=1$と表すことにし、それらの集合（決定空間）は$D=\\{0, 1\\}$と表すことにする。\n"
   ]
  },
  {
   "cell_type": "markdown",
   "id": "60a27151-6e81-4086-a111-4946db25386b",
   "metadata": {},
   "source": [
    "帰無仮説が正しいとき $(\\theta \\in \\Theta_0)$ に帰無仮説を枼却する $(d=1)$ 誤りを **第1種の過誤（error of the first kind）** や **偽陽性** とよぶ。また対立仮説が正しいとき $(\\theta \\in \\Theta_1)$ に帰無仮説を受容する $(d=0)$ 誤りを **第2種の過誤（error of the second kind）** や **偽陰性** とよぶ。"
   ]
  },
  {
   "cell_type": "markdown",
   "id": "bb373318-bc2f-439b-82b8-b4a7cd156e0e",
   "metadata": {},
   "source": [
    ":::{card} 過誤まとめ\n",
    "\n",
    "1. **第1種の過誤（type I error）**\n",
    "    - 帰無仮説が正しいのに帰無仮説を棄却してしまう誤り。\n",
    "    - これを犯す確率が有意水準$\\alpha$\n",
    "2. **第2種の過誤（type II error）**\n",
    "    - 帰無仮説が正しくないのに帰無仮説を受容してしまう誤り。こちらは$\\beta$で表される。\n",
    "\n",
    ":::\n"
   ]
  },
  {
   "cell_type": "markdown",
   "id": "b8dd3ddb-72c1-43c9-8e5f-20076be3c392",
   "metadata": {},
   "source": [
    "これら2種類の誤りを統一的に表現する関数が検出力関数"
   ]
  },
  {
   "cell_type": "markdown",
   "id": "9fef54eb-2f98-4dc6-8d6c-d7388b835a80",
   "metadata": {},
   "source": [
    "### 損失関数\n",
    "\n",
    "実際には正しくない仮説を採択する意思決定をとったときを「損失」として表し、意思決定の損失関数を以下のような損失関数$L(\\theta, d)$で表現することにする。\n",
    "\n",
    "$$\n",
    "\\begin{aligned}\n",
    "L(\\theta, 0) &= \\begin{cases}\n",
    "    0, & \\text { if } \\theta \\in \\Theta_0 \\\\\n",
    "    a, & \\text { if } \\theta \\in \\Theta_1\n",
    "\\end{cases}\n",
    "\\\\\n",
    "L(\\theta, 1) &= \\begin{cases}\n",
    "    0, & \\text { if } \\theta \\in \\Theta_1 \\\\\n",
    "    b, & \\text { if } \\theta \\in \\Theta_0\n",
    "\\end{cases}\n",
    "\\end{aligned}\n",
    "$$\n",
    "\n",
    "（※第1種の過誤を犯したとき$a$の損失が、第2種の過誤を犯したとき$b$の損失が得られるということ。）\n",
    "\n"
   ]
  },
  {
   "cell_type": "markdown",
   "id": "0a7d2526-ad59-4726-a6a8-396a2331c216",
   "metadata": {},
   "source": [
    ":::{margin}\n",
    "\n",
    "単純に$a=b=1$とおいて0-1損失関数にしてもよいが、現実問題ではこの損失は非対称$a\\neq b$の可能性も高い。\n",
    "\n",
    "例えばWebサイトの改善のA/Bテストにおいて第1種の過誤は「帰無仮説が正しい（A案とB案に差がない）のに棄却してB案を採用する」であり、AとBに差がないため誤ってBを採用しても損失は少ないと考えられるが、第2種の過誤（AよりBのほうが優れているのにBを却下してAを使い続ける）は機会損失を招く\n",
    "\n",
    ":::"
   ]
  },
  {
   "cell_type": "markdown",
   "id": "10e839ba-7dfe-4a15-b20d-72e3fd06acbf",
   "metadata": {},
   "source": [
    "### 検出力関数\n",
    "\n",
    "検定問題における決定関数 （**検定関数 test function** とよばれる） を$\\delta: \\mathcal{X} \\to D$とおく。検定関数$\\delta$は$X=x$を観測したとき帰無仮説を棄却するなら1、受容するなら0をとる関数。\n",
    "\n",
    "損失関数の期待値である **リスク関数** は $R(\\theta, \\delta) = E_{\\theta}[L(\\theta, \\delta(X))]$と定義される。\n",
    "\n",
    "\n",
    "ところで、\n",
    "\n",
    "$$\n",
    "\\beta_\\delta(\\theta)=E_\\theta[\\delta(X)]=P_\\theta(\\delta(X)=1)\n",
    "$$\n",
    "\n",
    "と定義すると、$\\delta$のリスク関数は以下のように表すことができる。\n",
    "\n",
    "$$\n",
    "R(\\theta, \\delta)= \\begin{cases}\n",
    "  \\beta_\\delta(\\theta), & \\text { if } \\theta \\in \\Theta_0 & \\text{ (=第1種の過誤の確率) } \\\\\n",
    "1-\\beta_\\delta(\\theta), & \\text { if } \\theta \\in \\Theta_1 & \\text{ (=第2種の過誤の確率) }\n",
    "\\end{cases}\n",
    "$$\n",
    "\n",
    "$\\beta_\\delta(\\theta)$を **検出力関数（power function）** といい、その値を **検出力（power）** という。\n",
    "\n",
    ":::{note}\n",
    "\n",
    "$R(\\theta, \\delta)$の1行目は第1種の過誤の確率（$\\theta \\in \\Theta_0$のときに$d=\\delta(X)=1$なのが第1種の過誤なので）\n",
    "\n",
    "$R(\\theta, \\delta)$の2行目は第2種の過誤の確率（$\\theta \\in \\Theta_1$のときに$d=0$なのが第2種の過誤で、$1 - \\beta_\\delta(\\theta)$なので）\n",
    "\n",
    ":::"
   ]
  },
  {
   "cell_type": "markdown",
   "id": "30516b0a-2d68-4a36-9e26-803635d3f545",
   "metadata": {},
   "source": [
    ":::{card} 例：不良率の検定\n",
    "\n",
    "10個の製品を検査して、もし1個以上の不良品があれば帰無仮説 $H_0: p \\leq p_0$ を棄却するとする（なお $p_0 = 0.01$と想定する）\n",
    "\n",
    "この場合の検定関数は\n",
    "\n",
    "$$\n",
    "\\delta(x) =\n",
    "\\begin{cases}\n",
    "    1, & \\text { if } x \\geq 1 \\\\\n",
    "    0, & \\text { otherwise }\n",
    "\\end{cases}\n",
    "$$\n",
    "\n",
    "となる。$X$は2項分布$B(10, p)$に従うと考えればよいので、検出力関数は\n",
    "\n",
    "$$\n",
    "\\beta_\\delta(p)=P(X \\geq 1)=1-P(X=0)=1-(1-p)^{10}\n",
    "$$\n",
    "\n",
    "で与えられる。$p_0 = 0.01$のとき$\\beta_\\delta(p) = 1-(1-p)^{10} = 0.0956$\n",
    ":::"
   ]
  },
  {
   "cell_type": "code",
   "execution_count": null,
   "id": "d059b0bf-2e43-4b96-8a5f-556d0dab7aed",
   "metadata": {},
   "outputs": [],
   "source": []
  }
 ],
 "metadata": {
  "kernelspec": {
   "display_name": "Python 3 (ipykernel)",
   "language": "python",
   "name": "python3"
  },
  "language_info": {
   "codemirror_mode": {
    "name": "ipython",
    "version": 3
   },
   "file_extension": ".py",
   "mimetype": "text/x-python",
   "name": "python",
   "nbconvert_exporter": "python",
   "pygments_lexer": "ipython3",
   "version": "3.10.15"
  }
 },
 "nbformat": 4,
 "nbformat_minor": 5
}
