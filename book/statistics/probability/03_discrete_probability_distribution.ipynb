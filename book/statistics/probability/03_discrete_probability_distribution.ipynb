{
 "cells": [
  {
   "cell_type": "markdown",
   "id": "b1b5ac1b-812a-4014-8624-3287a8ff7ce8",
   "metadata": {},
   "source": [
    "# 離散確率分布\n",
    "\n",
    "**離散確率分布（discrete probability distribution）** は、0でない確率をとる確率変数値が高々可算個の確率分布のこと。"
   ]
  },
  {
   "cell_type": "markdown",
   "id": "c91b2f9d-68ce-4840-87c5-713817bb2e04",
   "metadata": {},
   "source": [
    "## 離散一様分布\n",
    "\n",
    "離散型確率変数$X$が\n",
    "\n",
    "$$\n",
    "P(X=x|N) = \\frac{1}{N}, x=1,2,...,N\n",
    "$$\n",
    "\n",
    "なる確率関数をもつとき、$X$は**離散一様分布**（discrete uniform distribution）に従うという。\n",
    "\n",
    "$$\n",
    "E[X] = \\frac{1}{N} \\sum^N_{x=1} x = \\frac{N + 1}{2}\n",
    "$$\n",
    "\n",
    ":::{margin} **離散一様分布の期待値の補足**\n",
    "$$\n",
    "\\sum^N_{x=1} x = \\frac{N(N+1)}{2}\n",
    "$$\n",
    "\n",
    "であるため、\n",
    "\n",
    "$$\n",
    "\\frac{1}{N} \\sum^N_{x=1} x = \\frac{N + 1}{2}\n",
    "$$\n",
    ":::\n",
    "\n",
    "$$\n",
    "V[X] = \\frac{(N + 1)(N-1)}{12}\n",
    "$$\n"
   ]
  },
  {
   "cell_type": "markdown",
   "id": "30e3dd32-faa9-442e-a0c6-98404c82e6a0",
   "metadata": {},
   "source": [
    "## ベルヌーイ分布\n",
    "\n",
    "ベルヌーイ試行とは、$p$の確率で「成功」、$1-p$の確率で「失敗」する実験を行うことをいう。\n",
    "\n",
    "確率変数$X$が成功のとき1、失敗のとき0をとるものとすると、確率関数は\n",
    "\n",
    "$$\n",
    "P(X=x|p) =\n",
    "\\begin{cases}\n",
    "p & (x=1)\\\\\n",
    "1-p & (x=0)\n",
    "\\end{cases}\n",
    "$$\n",
    "\n",
    "と書ける。これを**ベルヌーイ分布**（Bernoulli distribution）という。\n",
    "\n",
    "$$\n",
    "\\begin{align}\n",
    "E[X] &= 1 \\times p + 0 \\times (1 - p) = p\\\\\n",
    "V[X] &= (1-p)^2 \\times p + (0-p)^2 \\times (1 - p) = p(1-p)\n",
    "\\end{align}\n",
    "$$\n"
   ]
  },
  {
   "cell_type": "markdown",
   "id": "6dd26d78-c94a-4b2c-8d6e-13af51ea5f0a",
   "metadata": {},
   "source": [
    "## 二項分布\n",
    "\n",
    "ベルヌーイ試行を独立に$n$回行ったときの「成功」の回数の分布\n",
    "\n",
    "$i=1,2,...,n$に対して確率変数$X_i$を成功のとき1、失敗のとき0をとるものとすると、「成功」の回数は$Y=\\sum^n_{i=1}X_i$と表すことができる。\n",
    "\n",
    "$Y=k$となる確率は以下のようになる。\n",
    "\n",
    "$$\n",
    "P(Y=k) = {}_n C_k p^k (1 - p)^{n-k}\n",
    "$$\n",
    "\n",
    "```{margin} 組み合わせ（二項係数）\n",
    "$$\n",
    "{}_n C_k  = \\frac{n!}{k!(n-k)!} = \\binom nk\n",
    "$$\n",
    "```\n",
    "\n",
    "\n",
    "```{admonition} 例：$Y=2$となる確率の場合\n",
    ":class: tip\n",
    "\n",
    "成功が2回、失敗が$n-2$回とする。\n",
    "\n",
    "「成功」の事象を$A_i$、「失敗」の事象を$A_i^c$とすると、最初の2回が「成功」となる事象の確率は\n",
    "\n",
    "$$\n",
    "P(A_1 \\cap A_2 \\cap A_3^c \\cap \\cdots \\cap A_n^c)\n",
    "$$\n",
    "\n",
    "と表すことができる。\n",
    "\n",
    "試行の独立性と$P(A_i)=p, P(A_i^c)=1-p$から\n",
    "\n",
    "$$\n",
    "\\begin{align}\n",
    "&P(A_1 \\cap A_2 \\cap A_3^c \\cap \\cdots \\cap A_n^c)\\\\\n",
    "&= P(A_1)P(A_2)P(A_3^c)\\times\\cdots\\times P(A_n^c)\\\\\n",
    "&= p^2(1-p)^{n-2}\n",
    "\\end{align}\n",
    "$$\n",
    "\n",
    "と書くことができる。\n",
    "\n",
    "$n$回試行して2回成功する事象の組み合わせは$A_1 \\cap A_2^c \\cap A_3 \\cap \\cdots \\cap A_n^c$や$A_1^c \\cap A_2^c \\cap A_3 \\cap \\cdots \\cap A_n$など他にも考えられ、その場合の数は組み合わせの数になるため${}_n C_2$となる。\n",
    "\n",
    "\n",
    "したがって、$Y=2$となる確率は\n",
    "\n",
    "$$\n",
    "P(Y=2) = {}_n C_2 p^2 (1 - p)^{n-2}\n",
    "$$\n",
    "\n",
    "となり、この$2$を$k$にすれば上記のものになる\n",
    "```\n",
    "\n",
    "$$\n",
    "E[X] = np\\\\\n",
    "V[X] = np(1-p)\n",
    "$$\n"
   ]
  },
  {
   "cell_type": "code",
   "execution_count": 1,
   "id": "077024ec-ad66-4e17-b3b3-5103aab6053b",
   "metadata": {
    "tags": [
     "hide-input"
    ]
   },
   "outputs": [
    {
     "data": {
      "image/png": "[encoded data removed]",
      "text/plain": [
       "<Figure size 432x288 with 1 Axes>"
      ]
     },
     "metadata": {
      "needs_background": "light"
     },
     "output_type": "display_data"
    }
   ],
   "source": [
    "import matplotlib.pyplot as plt\n",
    "import japanize_matplotlib\n",
    "import numpy as np\n",
    "import pandas as pd\n",
    "\n",
    "from scipy.stats import binom\n",
    "\n",
    "np.random.seed(0)\n",
    "n = 10\n",
    "p = 0.5\n",
    "k = range(0, 10)\n",
    "pmf = binom.pmf(k, n=n, p=p)\n",
    "\n",
    "fig, ax = plt.subplots()\n",
    "ax.bar(k, pmf)\n",
    "ax.set(title=f\"Binomial(n={n}, p={p})\", xlabel=\"k\", ylabel=\"probability mass\")\n",
    "fig.show()"
   ]
  }
 ],
 "metadata": {
  "kernelspec": {
   "display_name": "Python 3 (ipykernel)",
   "language": "python",
   "name": "python3"
  },
  "language_info": {
   "codemirror_mode": {
    "name": "ipython",
    "version": 3
   },
   "file_extension": ".py",
   "mimetype": "text/x-python",
   "name": "python",
   "nbconvert_exporter": "python",
   "pygments_lexer": "ipython3",
   "version": "3.10.18"
  }
 },
 "nbformat": 4,
 "nbformat_minor": 5
}
