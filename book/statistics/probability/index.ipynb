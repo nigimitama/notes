{
 "cells": [
  {
   "cell_type": "markdown",
   "id": "0738aec2-a970-47c0-85fe-ac16e1e75895",
   "metadata": {},
   "source": [
    "# 確率"
   ]
  },
  {
   "cell_type": "markdown",
   "id": "fc38c836-d4bf-4c80-9df2-5fc22c39b2fb",
   "metadata": {},
   "source": [
    ":::{tableofcontents}\n",
    ":::"
   ]
  }
 ],
 "metadata": {
  "kernelspec": {
   "display_name": "Python 3 (ipykernel)",
   "language": "python",
   "name": "python3"
  },
  "language_info": {
   "codemirror_mode": {
    "name": "ipython",
    "version": 3
   },
   "file_extension": ".py",
   "mimetype": "text/x-python",
   "name": "python",
   "nbconvert_exporter": "python",
   "pygments_lexer": "ipython3",
   "version": "3.9.18"
  }
 },
 "nbformat": 4,
 "nbformat_minor": 5
}
