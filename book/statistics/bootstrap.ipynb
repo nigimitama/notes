{
 "cells": [
  {
   "cell_type": "markdown",
   "id": "f8937317-b54f-4ec0-be87-79e7c2b9e7e5",
   "metadata": {},
   "source": [
    "# Bootstrap\n",
    "\n",
    "Bootstrap samplingによるバイアス低減方法\n",
    "\n",
    "## Parametric bootstrap resampling (PBE)\n",
    "\n",
    "\n",
    "\n",
    "最尤推定量を$\\theta_{ML}$とする。これを使ったサンプル$z \\sim \\mathcal{N}(\\theta_{ML}, \\Sigma(\\theta_{ML}))$を抽出することを$k$回繰り返し、各データセットで別の最尤推定量$\\theta^{(i)}$を取得すると、$\\theta_{ML}$のバイアス$b$は次のように推定することができる。\n",
    "\n",
    "$$\n",
    "b = \\frac{1}{k} \\sum^k_{i=1} (\\theta_{ML} - \\theta^{(i)})\n",
    "$$\n",
    "\n",
    "これによってバイアスを補正した推定量$\\theta_{PBE}$は\n",
    "\n",
    "$$\n",
    "\\begin{align}\n",
    "\\theta_{PBE}\n",
    "&= \\theta_{ML} - b\\\\\n",
    "&= 2 \\theta_{ML} - \\frac{1}{k} \\sum^k_{i=1} \\theta^{(i)}\n",
    "\\end{align}\n",
    "$$\n",
    "\n",
    "と得ることができる。\n",
    "\n",
    ":::{warning} $\\mathcal{N}(\\theta_{ML}, \\Sigma(\\theta_{ML}))$は推測で書いている\n",
    "\n",
    "この記述を参考にした[Meshcheryakov et al. (2021)](https://arxiv.org/pdf/2106.01140.pdf)の第7節では\n",
    "\n",
    "$$\n",
    "\\mathcal{N}(0, \\Sigma(\\theta))\n",
    "$$\n",
    "\n",
    "と書かれていた。ただ、推定量の分布（標本分布）を考えるときに$\\mathcal{N}(E[\\theta], SD(\\theta))$ではなく平均を0とおくのは違和感が強い。$\\theta$を0と見間違えたのでは？と思っている\n",
    "\n",
    "原典？として引用されることが多い [Efron (1982)](https://www.amazon.co.jp/dp/0898711797) は絶版ではないものの高くて入手性が悪いので原典にあたれていない\n",
    ":::"
   ]
  },
  {
   "cell_type": "code",
   "execution_count": 85,
   "id": "76078878-e2b5-4545-ba90-2ccf82e8e6b5",
   "metadata": {
    "tags": [
     "hide-input"
    ]
   },
   "outputs": [
    {
     "data": {
      "image/png": "[encoded data removed]",
      "text/plain": [
       "<Figure size 360x180 with 1 Axes>"
      ]
     },
     "metadata": {
      "needs_background": "light"
     },
     "output_type": "display_data"
    }
   ],
   "source": [
    "import numpy as np\n",
    "import matplotlib.pyplot as plt\n",
    "import japanize_matplotlib\n",
    "\n",
    "np.random.seed(0)\n",
    "\n",
    "p_true = 0.55\n",
    "n = 100\n",
    "x = np.random.binomial(n=1, p=p_true, size=n)\n",
    "p_ml = x.mean()\n",
    "\n",
    "fig, ax = plt.subplots(dpi=90, figsize=[4, 2])\n",
    "ax.hist(x)\n",
    "ax.set(title=\"Histogram of Data\")\n",
    "ax.axvline(p_true, color=\"blue\")\n",
    "ax.text(p_true + 0.02, 10, f\"母比率: {p_true:.3f}\", color=\"blue\")\n",
    "ax.axvline(p_ml, color=\"darkorange\")\n",
    "ax.text(p_ml + 0.02, 1, f\"標本比率: {p_ml:.3f}\", color=\"darkorange\")\n",
    "fig.show()"
   ]
  },
  {
   "cell_type": "code",
   "execution_count": 86,
   "id": "e7265df8-a729-4055-befb-339bb18e754b",
   "metadata": {},
   "outputs": [
    {
     "name": "stdout",
     "output_type": "stream",
     "text": [
      "std error: 0.050\n"
     ]
    }
   ],
   "source": [
    "# 標準誤差の推定\n",
    "std = np.sqrt(p_ml * (1 - p_ml))\n",
    "se = std / np.sqrt(n)\n",
    "print(f\"std error: {se:.3f}\")"
   ]
  },
  {
   "cell_type": "code",
   "execution_count": 94,
   "id": "0f9cdf5a-2583-43ff-be43-819e71016c29",
   "metadata": {},
   "outputs": [
    {
     "name": "stdout",
     "output_type": "stream",
     "text": [
      "バイアスの推定値 b_hat = 0.561\n",
      "PBE推定値 p_pbe = -0.001\n"
     ]
    }
   ],
   "source": [
    "# N(0, SE)とする場合\n",
    "np.random.seed(0)\n",
    "\n",
    "k = 100\n",
    "p_boots = []\n",
    "for _ in range(k):\n",
    "    z = np.random.normal(loc=0, scale=se, size=n)\n",
    "    p_ml_z = z.mean()\n",
    "    p_boots.append(p_ml_z)\n",
    "\n",
    "p_boots = np.array(p_boots)\n",
    "b_hat = (p_ml - p_boots).mean()\n",
    "print(f\"バイアスの推定値 b_hat = {b_hat:.3f}\")\n",
    "\n",
    "p_pbe = p_ml - b_hat\n",
    "print(f\"PBE推定値 p_pbe = {p_pbe:.3f}\")"
   ]
  },
  {
   "cell_type": "code",
   "execution_count": 95,
   "id": "a05ee030-7f4d-4bdd-9cf8-09f2fd3b9311",
   "metadata": {},
   "outputs": [
    {
     "name": "stdout",
     "output_type": "stream",
     "text": [
      "バイアスの推定値 b_hat = 0.001\n",
      "PBE推定値 p_pbe = 0.559\n"
     ]
    }
   ],
   "source": [
    "# N(θ, SE)とする場合\n",
    "np.random.seed(0)\n",
    "\n",
    "k = 100\n",
    "p_boots = []\n",
    "for _ in range(k):\n",
    "    z = np.random.normal(loc=p_ml, scale=se, size=n)\n",
    "    p_ml_z = z.mean()\n",
    "    p_boots.append(p_ml_z)\n",
    "\n",
    "p_boots = np.array(p_boots)\n",
    "b_hat = (p_ml - p_boots).mean()\n",
    "print(f\"バイアスの推定値 b_hat = {b_hat:.3f}\")\n",
    "\n",
    "p_pbe = p_ml - b_hat\n",
    "print(f\"PBE推定値 p_pbe = {p_pbe:.3f}\")"
   ]
  },
  {
   "cell_type": "markdown",
   "id": "a7d5d626-44e6-4dfc-9d31-49ade5301596",
   "metadata": {},
   "source": [
    "## 参考\n",
    "\n",
    "- [Meshcheryakov, G., Igolkina, A. A., & Samsonova, M. G. (2021). semopy 2: A structural equation modeling package with random effects in python. arXiv preprint arXiv:2106.01140.](https://arxiv.org/pdf/2106.01140.pdf)の第7節\n",
    "- [15.3 - Bootstrapping | STAT 555](https://online.stat.psu.edu/stat555/node/119/)"
   ]
  },
  {
   "cell_type": "code",
   "execution_count": null,
   "id": "602294ba-e236-4377-9bec-614f47e814ea",
   "metadata": {},
   "outputs": [],
   "source": []
  }
 ],
 "metadata": {
  "kernelspec": {
   "display_name": "Python 3",
   "language": "python",
   "name": "python3"
  },
  "language_info": {
   "codemirror_mode": {
    "name": "ipython",
    "version": 3
   },
   "file_extension": ".py",
   "mimetype": "text/x-python",
   "name": "python",
   "nbconvert_exporter": "python",
   "pygments_lexer": "ipython3",
   "version": "3.8.10"
  }
 },
 "nbformat": 4,
 "nbformat_minor": 5
}
