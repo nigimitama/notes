{
 "cells": [
  {
   "cell_type": "markdown",
   "id": "35b746c0-589d-44ac-bf49-4170ccc91e79",
   "metadata": {},
   "source": [
    "# データの可視化"
   ]
  },
  {
   "cell_type": "markdown",
   "id": "671e9dcf-d635-4ab8-9bab-d1cb6069b2e8",
   "metadata": {},
   "source": [
    "## 表の装飾"
   ]
  },
  {
   "cell_type": "markdown",
   "id": "725b96e6-7a16-47a0-ab3f-7eadadec4d3b",
   "metadata": {},
   "source": [
    "### pandasでformat\n",
    "\n",
    "[Table Visualization — pandas 2.2.3 documentation](https://pandas.pydata.org/docs/user_guide/style.html)"
   ]
  },
  {
   "cell_type": "code",
   "execution_count": 71,
   "id": "a8ba8820-0835-4ac9-836f-2b4b6b2d6578",
   "metadata": {},
   "outputs": [],
   "source": [
    "import pandas as pd\n",
    "import numpy as np\n",
    "\n",
    "# サンプルデータ\n",
    "np.random.seed(0)\n",
    "df = pd.DataFrame({\"A\": np.random.poisson(lam=10, size=5), \"B\": np.random.randn(5)})"
   ]
  },
  {
   "cell_type": "markdown",
   "id": "dd6fb149-9246-4b15-9d0f-eddfeee6b765",
   "metadata": {},
   "source": [
    "#### 小数点の丸め込み"
   ]
  },
  {
   "cell_type": "code",
   "execution_count": 72,
   "id": "32cecdd5-56df-47cb-9b8c-1c93f7810ac4",
   "metadata": {},
   "outputs": [
    {
     "data": {
      "text/html": [
       "<style type=\"text/css\">\n",
       "</style>\n",
       "<table id=\"T_aa7be\">\n",
       "  <thead>\n",
       "    <tr>\n",
       "      <th class=\"blank level0\" >&nbsp;</th>\n",
       "      <th id=\"T_aa7be_level0_col0\" class=\"col_heading level0 col0\" >A</th>\n",
       "      <th id=\"T_aa7be_level0_col1\" class=\"col_heading level0 col1\" >B</th>\n",
       "    </tr>\n",
       "  </thead>\n",
       "  <tbody>\n",
       "    <tr>\n",
       "      <th id=\"T_aa7be_level0_row0\" class=\"row_heading level0 row0\" >0</th>\n",
       "      <td id=\"T_aa7be_row0_col0\" class=\"data row0 col0\" >10</td>\n",
       "      <td id=\"T_aa7be_row0_col1\" class=\"data row0 col1\" >0.144</td>\n",
       "    </tr>\n",
       "    <tr>\n",
       "      <th id=\"T_aa7be_level0_row1\" class=\"row_heading level0 row1\" >1</th>\n",
       "      <td id=\"T_aa7be_row1_col0\" class=\"data row1 col0\" >11</td>\n",
       "      <td id=\"T_aa7be_row1_col1\" class=\"data row1 col1\" >1.454</td>\n",
       "    </tr>\n",
       "    <tr>\n",
       "      <th id=\"T_aa7be_level0_row2\" class=\"row_heading level0 row2\" >2</th>\n",
       "      <td id=\"T_aa7be_row2_col0\" class=\"data row2 col0\" >9</td>\n",
       "      <td id=\"T_aa7be_row2_col1\" class=\"data row2 col1\" >0.761</td>\n",
       "    </tr>\n",
       "    <tr>\n",
       "      <th id=\"T_aa7be_level0_row3\" class=\"row_heading level0 row3\" >3</th>\n",
       "      <td id=\"T_aa7be_row3_col0\" class=\"data row3 col0\" >9</td>\n",
       "      <td id=\"T_aa7be_row3_col1\" class=\"data row3 col1\" >0.122</td>\n",
       "    </tr>\n",
       "    <tr>\n",
       "      <th id=\"T_aa7be_level0_row4\" class=\"row_heading level0 row4\" >4</th>\n",
       "      <td id=\"T_aa7be_row4_col0\" class=\"data row4 col0\" >18</td>\n",
       "      <td id=\"T_aa7be_row4_col1\" class=\"data row4 col1\" >0.444</td>\n",
       "    </tr>\n",
       "  </tbody>\n",
       "</table>\n"
      ],
      "text/plain": [
       "<pandas.io.formats.style.Styler at 0x7f61776175b0>"
      ]
     },
     "execution_count": 72,
     "metadata": {},
     "output_type": "execute_result"
    }
   ],
   "source": [
    "df.style.format(precision=3, thousands=\",\", decimal=\".\")"
   ]
  },
  {
   "cell_type": "code",
   "execution_count": 73,
   "id": "04d0119e-726d-4d3a-8660-2a0c856b6c3d",
   "metadata": {},
   "outputs": [
    {
     "data": {
      "text/html": [
       "<style type=\"text/css\">\n",
       "</style>\n",
       "<table id=\"T_2f013\">\n",
       "  <thead>\n",
       "    <tr>\n",
       "      <th class=\"blank level0\" >&nbsp;</th>\n",
       "      <th id=\"T_2f013_level0_col0\" class=\"col_heading level0 col0\" >A</th>\n",
       "      <th id=\"T_2f013_level0_col1\" class=\"col_heading level0 col1\" >B</th>\n",
       "    </tr>\n",
       "  </thead>\n",
       "  <tbody>\n",
       "    <tr>\n",
       "      <th id=\"T_2f013_level0_row0\" class=\"row_heading level0 row0\" >0</th>\n",
       "      <td id=\"T_2f013_row0_col0\" class=\"data row0 col0\" >10.0</td>\n",
       "      <td id=\"T_2f013_row0_col1\" class=\"data row0 col1\" >14.4%</td>\n",
       "    </tr>\n",
       "    <tr>\n",
       "      <th id=\"T_2f013_level0_row1\" class=\"row_heading level0 row1\" >1</th>\n",
       "      <td id=\"T_2f013_row1_col0\" class=\"data row1 col0\" >11.0</td>\n",
       "      <td id=\"T_2f013_row1_col1\" class=\"data row1 col1\" >145.4%</td>\n",
       "    </tr>\n",
       "    <tr>\n",
       "      <th id=\"T_2f013_level0_row2\" class=\"row_heading level0 row2\" >2</th>\n",
       "      <td id=\"T_2f013_row2_col0\" class=\"data row2 col0\" >9.0</td>\n",
       "      <td id=\"T_2f013_row2_col1\" class=\"data row2 col1\" >76.1%</td>\n",
       "    </tr>\n",
       "    <tr>\n",
       "      <th id=\"T_2f013_level0_row3\" class=\"row_heading level0 row3\" >3</th>\n",
       "      <td id=\"T_2f013_row3_col0\" class=\"data row3 col0\" >9.0</td>\n",
       "      <td id=\"T_2f013_row3_col1\" class=\"data row3 col1\" >12.2%</td>\n",
       "    </tr>\n",
       "    <tr>\n",
       "      <th id=\"T_2f013_level0_row4\" class=\"row_heading level0 row4\" >4</th>\n",
       "      <td id=\"T_2f013_row4_col0\" class=\"data row4 col0\" >18.0</td>\n",
       "      <td id=\"T_2f013_row4_col1\" class=\"data row4 col1\" >44.4%</td>\n",
       "    </tr>\n",
       "  </tbody>\n",
       "</table>\n"
      ],
      "text/plain": [
       "<pandas.io.formats.style.Styler at 0x7f6177754910>"
      ]
     },
     "execution_count": 73,
     "metadata": {},
     "output_type": "execute_result"
    }
   ],
   "source": [
    "# 列ごとに指定したい場合\n",
    "df.style.format({\"A\": \"{:.1f}\", \"B\": \"{:.1%}\"})"
   ]
  },
  {
   "cell_type": "markdown",
   "id": "3707c212-3903-43d8-b4d1-eeaf633852c2",
   "metadata": {},
   "source": [
    "style.formatは追加のパッケージが必要になる\n",
    "\n",
    "pandasのみで使えるのは .apply() と 標準の文字整形メソッド `str.format` を使うもの"
   ]
  },
  {
   "cell_type": "code",
   "execution_count": 74,
   "id": "2809b68c-05da-485a-85ee-6866e9200c87",
   "metadata": {},
   "outputs": [
    {
     "data": {
      "text/plain": [
       "0     14.4%\n",
       "1    145.4%\n",
       "2     76.1%\n",
       "3     12.2%\n",
       "4     44.4%\n",
       "Name: B, dtype: object"
      ]
     },
     "execution_count": 74,
     "metadata": {},
     "output_type": "execute_result"
    }
   ],
   "source": [
    "df[\"B\"].apply(\"{:.1%}\".format)"
   ]
  },
  {
   "cell_type": "code",
   "execution_count": 75,
   "id": "4b5b13a3-39e9-4867-86ad-350fcd692a58",
   "metadata": {},
   "outputs": [
    {
     "data": {
      "text/html": [
       "<div>\n",
       "<style scoped>\n",
       "    .dataframe tbody tr th:only-of-type {\n",
       "        vertical-align: middle;\n",
       "    }\n",
       "\n",
       "    .dataframe tbody tr th {\n",
       "        vertical-align: top;\n",
       "    }\n",
       "\n",
       "    .dataframe thead th {\n",
       "        text-align: right;\n",
       "    }\n",
       "</style>\n",
       "<table border=\"1\" class=\"dataframe\">\n",
       "  <thead>\n",
       "    <tr style=\"text-align: right;\">\n",
       "      <th></th>\n",
       "      <th>A</th>\n",
       "      <th>B</th>\n",
       "    </tr>\n",
       "  </thead>\n",
       "  <tbody>\n",
       "    <tr>\n",
       "      <th>0</th>\n",
       "      <td>10.0</td>\n",
       "      <td>14.4%</td>\n",
       "    </tr>\n",
       "    <tr>\n",
       "      <th>1</th>\n",
       "      <td>11.0</td>\n",
       "      <td>145.4%</td>\n",
       "    </tr>\n",
       "    <tr>\n",
       "      <th>2</th>\n",
       "      <td>9.0</td>\n",
       "      <td>76.1%</td>\n",
       "    </tr>\n",
       "    <tr>\n",
       "      <th>3</th>\n",
       "      <td>9.0</td>\n",
       "      <td>12.2%</td>\n",
       "    </tr>\n",
       "    <tr>\n",
       "      <th>4</th>\n",
       "      <td>18.0</td>\n",
       "      <td>44.4%</td>\n",
       "    </tr>\n",
       "  </tbody>\n",
       "</table>\n",
       "</div>"
      ],
      "text/plain": [
       "      A       B\n",
       "0  10.0   14.4%\n",
       "1  11.0  145.4%\n",
       "2   9.0   76.1%\n",
       "3   9.0   12.2%\n",
       "4  18.0   44.4%"
      ]
     },
     "execution_count": 75,
     "metadata": {},
     "output_type": "execute_result"
    }
   ],
   "source": [
    "# dictに指定しなかった列は含まれないので注意\n",
    "df.apply({\"A\": \"{:.1f}\".format, \"B\": \"{:.1%}\".format})"
   ]
  },
  {
   "cell_type": "markdown",
   "id": "d2bf7fd9-268e-4185-aefb-7b1fd9afabeb",
   "metadata": {},
   "source": [
    "#### 値の大きさに応じた色を塗る"
   ]
  },
  {
   "cell_type": "code",
   "execution_count": 70,
   "id": "7bbcbfe2-6f6d-4764-85f3-320cedc40ee0",
   "metadata": {},
   "outputs": [],
   "source": [
    "import seaborn as sns\n",
    "cm = sns.light_palette(\"green\", as_cmap=True)\n",
    "\n",
    "df.style.background_gradient(cmap=cm)"
   ]
  },
  {
   "cell_type": "markdown",
   "id": "6bbee9a5-8193-4906-8922-8225a84a9068",
   "metadata": {},
   "source": [
    "#### 棒グラフを作る"
   ]
  },
  {
   "cell_type": "code",
   "execution_count": 60,
   "id": "8a7d4c04-d7ab-46a8-bfee-40121bd81990",
   "metadata": {
    "editable": true,
    "slideshow": {
     "slide_type": ""
    },
    "tags": []
   },
   "outputs": [
    {
     "data": {
      "text/html": [
       "<style type=\"text/css\">\n",
       "#T_356a7_row0_col0 {\n",
       "  width: 10em;\n",
       "  background: linear-gradient(90deg, #d65f5f 55.6%, transparent 55.6%);\n",
       "}\n",
       "#T_356a7_row0_col1 {\n",
       "  width: 10em;\n",
       "  background: linear-gradient(90deg, #d65f5f 9.9%, transparent 9.9%);\n",
       "}\n",
       "#T_356a7_row1_col0 {\n",
       "  width: 10em;\n",
       "  background: linear-gradient(90deg, #d65f5f 61.1%, transparent 61.1%);\n",
       "}\n",
       "#T_356a7_row1_col1, #T_356a7_row4_col0 {\n",
       "  width: 10em;\n",
       "  background: linear-gradient(90deg, #d65f5f 100.0%, transparent 100.0%);\n",
       "}\n",
       "#T_356a7_row2_col0, #T_356a7_row3_col0 {\n",
       "  width: 10em;\n",
       "  background: linear-gradient(90deg, #d65f5f 50.0%, transparent 50.0%);\n",
       "}\n",
       "#T_356a7_row2_col1 {\n",
       "  width: 10em;\n",
       "  background: linear-gradient(90deg, #d65f5f 52.3%, transparent 52.3%);\n",
       "}\n",
       "#T_356a7_row3_col1 {\n",
       "  width: 10em;\n",
       "  background: linear-gradient(90deg, #d65f5f 8.4%, transparent 8.4%);\n",
       "}\n",
       "#T_356a7_row4_col1 {\n",
       "  width: 10em;\n",
       "  background: linear-gradient(90deg, #d65f5f 30.5%, transparent 30.5%);\n",
       "}\n",
       "</style>\n",
       "<table id=\"T_356a7\">\n",
       "  <thead>\n",
       "    <tr>\n",
       "      <th class=\"blank level0\" >&nbsp;</th>\n",
       "      <th id=\"T_356a7_level0_col0\" class=\"col_heading level0 col0\" >A</th>\n",
       "      <th id=\"T_356a7_level0_col1\" class=\"col_heading level0 col1\" >B</th>\n",
       "    </tr>\n",
       "  </thead>\n",
       "  <tbody>\n",
       "    <tr>\n",
       "      <th id=\"T_356a7_level0_row0\" class=\"row_heading level0 row0\" >0</th>\n",
       "      <td id=\"T_356a7_row0_col0\" class=\"data row0 col0\" >10</td>\n",
       "      <td id=\"T_356a7_row0_col1\" class=\"data row0 col1\" >0.144044</td>\n",
       "    </tr>\n",
       "    <tr>\n",
       "      <th id=\"T_356a7_level0_row1\" class=\"row_heading level0 row1\" >1</th>\n",
       "      <td id=\"T_356a7_row1_col0\" class=\"data row1 col0\" >11</td>\n",
       "      <td id=\"T_356a7_row1_col1\" class=\"data row1 col1\" >1.454274</td>\n",
       "    </tr>\n",
       "    <tr>\n",
       "      <th id=\"T_356a7_level0_row2\" class=\"row_heading level0 row2\" >2</th>\n",
       "      <td id=\"T_356a7_row2_col0\" class=\"data row2 col0\" >9</td>\n",
       "      <td id=\"T_356a7_row2_col1\" class=\"data row2 col1\" >0.761038</td>\n",
       "    </tr>\n",
       "    <tr>\n",
       "      <th id=\"T_356a7_level0_row3\" class=\"row_heading level0 row3\" >3</th>\n",
       "      <td id=\"T_356a7_row3_col0\" class=\"data row3 col0\" >9</td>\n",
       "      <td id=\"T_356a7_row3_col1\" class=\"data row3 col1\" >0.121675</td>\n",
       "    </tr>\n",
       "    <tr>\n",
       "      <th id=\"T_356a7_level0_row4\" class=\"row_heading level0 row4\" >4</th>\n",
       "      <td id=\"T_356a7_row4_col0\" class=\"data row4 col0\" >18</td>\n",
       "      <td id=\"T_356a7_row4_col1\" class=\"data row4 col1\" >0.443863</td>\n",
       "    </tr>\n",
       "  </tbody>\n",
       "</table>\n"
      ],
      "text/plain": [
       "<pandas.io.formats.style.Styler at 0x7f617827b940>"
      ]
     },
     "execution_count": 60,
     "metadata": {},
     "output_type": "execute_result"
    }
   ],
   "source": [
    "df.style.bar(subset=[\"A\", \"B\"], color='#d65f5f')"
   ]
  },
  {
   "cell_type": "markdown",
   "id": "a3a60aee-84bc-4434-97d7-f51e4d2d7520",
   "metadata": {},
   "source": [
    "### great_tablesパッケージできれいな表を作る\n",
    "\n",
    "[Examples – great_tables](https://posit-dev.github.io/great-tables/examples/)\n",
    "\n",
    "論文のような簡潔な表や、アイコンや色を使ったカジュアルな表などいろいろ作れる"
   ]
  },
  {
   "cell_type": "code",
   "execution_count": 42,
   "id": "de3132f7-a3d6-4a50-9e14-93dd5d2e564c",
   "metadata": {
    "editable": true,
    "slideshow": {
     "slide_type": ""
    },
    "tags": [
     "hide-input"
    ]
   },
   "outputs": [
    {
     "data": {
      "text/html": [
       "<div id=\"mysqdbsqbh\" style=\"padding-left:0px;padding-right:0px;padding-top:10px;padding-bottom:10px;overflow-x:auto;overflow-y:auto;width:auto;height:auto;\">\n",
       "<style>\n",
       "#mysqdbsqbh table {\n",
       "          font-family: -apple-system, BlinkMacSystemFont, 'Segoe UI', Roboto, Oxygen, Ubuntu, Cantarell, 'Helvetica Neue', 'Fira Sans', 'Droid Sans', Arial, sans-serif;\n",
       "          -webkit-font-smoothing: antialiased;\n",
       "          -moz-osx-font-smoothing: grayscale;\n",
       "        }\n",
       "\n",
       "#mysqdbsqbh thead, tbody, tfoot, tr, td, th { border-style: none; }\n",
       " tr { background-color: transparent; }\n",
       "#mysqdbsqbh p { margin: 0; padding: 0; }\n",
       " #mysqdbsqbh .gt_table { display: table; border-collapse: collapse; line-height: normal; margin-left: auto; margin-right: auto; color: #333333; font-size: 16px; font-weight: normal; font-style: normal; background-color: #FFFFFF; width: auto; border-top-style: solid; border-top-width: 2px; border-top-color: #A8A8A8; border-right-style: none; border-right-width: 2px; border-right-color: #D3D3D3; border-bottom-style: solid; border-bottom-width: 2px; border-bottom-color: #A8A8A8; border-left-style: none; border-left-width: 2px; border-left-color: #D3D3D3; }\n",
       " #mysqdbsqbh .gt_caption { padding-top: 4px; padding-bottom: 4px; }\n",
       " #mysqdbsqbh .gt_title { color: #333333; font-size: 125%; font-weight: initial; padding-top: 4px; padding-bottom: 4px; padding-left: 5px; padding-right: 5px; border-bottom-color: #FFFFFF; border-bottom-width: 0; }\n",
       " #mysqdbsqbh .gt_subtitle { color: #333333; font-size: 85%; font-weight: initial; padding-top: 3px; padding-bottom: 5px; padding-left: 5px; padding-right: 5px; border-top-color: #FFFFFF; border-top-width: 0; }\n",
       " #mysqdbsqbh .gt_heading { background-color: #FFFFFF; text-align: center; border-bottom-color: #FFFFFF; border-left-style: none; border-left-width: 1px; border-left-color: #D3D3D3; border-right-style: none; border-right-width: 1px; border-right-color: #D3D3D3; }\n",
       " #mysqdbsqbh .gt_bottom_border { border-bottom-style: solid; border-bottom-width: 2px; border-bottom-color: #D3D3D3; }\n",
       " #mysqdbsqbh .gt_col_headings { border-top-style: solid; border-top-width: 2px; border-top-color: #D3D3D3; border-bottom-style: solid; border-bottom-width: 2px; border-bottom-color: #D3D3D3; border-left-style: none; border-left-width: 1px; border-left-color: #D3D3D3; border-right-style: none; border-right-width: 1px; border-right-color: #D3D3D3; }\n",
       " #mysqdbsqbh .gt_col_heading { color: #333333; background-color: #FFFFFF; font-size: 100%; font-weight: normal; text-transform: inherit; border-left-style: none; border-left-width: 1px; border-left-color: #D3D3D3; border-right-style: none; border-right-width: 1px; border-right-color: #D3D3D3; vertical-align: bottom; padding-top: 5px; padding-bottom: 5px; padding-left: 5px; padding-right: 5px; overflow-x: hidden; }\n",
       " #mysqdbsqbh .gt_column_spanner_outer { color: #333333; background-color: #FFFFFF; font-size: 100%; font-weight: normal; text-transform: inherit; padding-top: 0; padding-bottom: 0; padding-left: 4px; padding-right: 4px; }\n",
       " #mysqdbsqbh .gt_column_spanner_outer:first-child { padding-left: 0; }\n",
       " #mysqdbsqbh .gt_column_spanner_outer:last-child { padding-right: 0; }\n",
       " #mysqdbsqbh .gt_column_spanner { border-bottom-style: solid; border-bottom-width: 2px; border-bottom-color: #D3D3D3; vertical-align: bottom; padding-top: 5px; padding-bottom: 5px; overflow-x: hidden; display: inline-block; width: 100%; }\n",
       " #mysqdbsqbh .gt_spanner_row { border-bottom-style: hidden; }\n",
       " #mysqdbsqbh .gt_group_heading { padding-top: 8px; padding-bottom: 8px; padding-left: 5px; padding-right: 5px; color: #333333; background-color: #FFFFFF; font-size: 100%; font-weight: initial; text-transform: inherit; border-top-style: solid; border-top-width: 2px; border-top-color: #D3D3D3; border-bottom-style: solid; border-bottom-width: 2px; border-bottom-color: #D3D3D3; border-left-style: none; border-left-width: 1px; border-left-color: #D3D3D3; border-right-style: none; border-right-width: 1px; border-right-color: #D3D3D3; vertical-align: middle; text-align: left; }\n",
       " #mysqdbsqbh .gt_empty_group_heading { padding: 0.5px; color: #333333; background-color: #FFFFFF; font-size: 100%; font-weight: initial; border-top-style: solid; border-top-width: 2px; border-top-color: #D3D3D3; border-bottom-style: solid; border-bottom-width: 2px; border-bottom-color: #D3D3D3; vertical-align: middle; }\n",
       " #mysqdbsqbh .gt_from_md> :first-child { margin-top: 0; }\n",
       " #mysqdbsqbh .gt_from_md> :last-child { margin-bottom: 0; }\n",
       " #mysqdbsqbh .gt_row { padding-top: 8px; padding-bottom: 8px; padding-left: 5px; padding-right: 5px; margin: 10px; border-top-style: solid; border-top-width: 1px; border-top-color: #D3D3D3; border-left-style: none; border-left-width: 1px; border-left-color: #D3D3D3; border-right-style: none; border-right-width: 1px; border-right-color: #D3D3D3; vertical-align: middle; overflow-x: hidden; }\n",
       " #mysqdbsqbh .gt_stub { color: #333333; background-color: #FFFFFF; font-size: 100%; font-weight: initial; text-transform: inherit; border-right-style: solid; border-right-width: 2px; border-right-color: #D3D3D3; padding-left: 5px; padding-right: 5px; }\n",
       " #mysqdbsqbh .gt_stub_row_group { color: #333333; background-color: #FFFFFF; font-size: 100%; font-weight: initial; text-transform: inherit; border-right-style: solid; border-right-width: 2px; border-right-color: #D3D3D3; padding-left: 5px; padding-right: 5px; vertical-align: top; }\n",
       " #mysqdbsqbh .gt_row_group_first td { border-top-width: 2px; }\n",
       " #mysqdbsqbh .gt_row_group_first th { border-top-width: 2px; }\n",
       " #mysqdbsqbh .gt_striped { background-color: rgba(128,128,128,0.05); }\n",
       " #mysqdbsqbh .gt_table_body { border-top-style: solid; border-top-width: 2px; border-top-color: #D3D3D3; border-bottom-style: solid; border-bottom-width: 2px; border-bottom-color: #D3D3D3; }\n",
       " #mysqdbsqbh .gt_sourcenotes { color: #333333; background-color: #FFFFFF; border-bottom-style: none; border-bottom-width: 2px; border-bottom-color: #D3D3D3; border-left-style: none; border-left-width: 2px; border-left-color: #D3D3D3; border-right-style: none; border-right-width: 2px; border-right-color: #D3D3D3; }\n",
       " #mysqdbsqbh .gt_sourcenote { font-size: 90%; padding-top: 4px; padding-bottom: 4px; padding-left: 5px; padding-right: 5px; text-align: left; }\n",
       " #mysqdbsqbh .gt_left { text-align: left; }\n",
       " #mysqdbsqbh .gt_center { text-align: center; }\n",
       " #mysqdbsqbh .gt_right { text-align: right; font-variant-numeric: tabular-nums; }\n",
       " #mysqdbsqbh .gt_font_normal { font-weight: normal; }\n",
       " #mysqdbsqbh .gt_font_bold { font-weight: bold; }\n",
       " #mysqdbsqbh .gt_font_italic { font-style: italic; }\n",
       " #mysqdbsqbh .gt_super { font-size: 65%; }\n",
       " #mysqdbsqbh .gt_footnote_marks { font-size: 75%; vertical-align: 0.4em; position: initial; }\n",
       " #mysqdbsqbh .gt_asterisk { font-size: 100%; vertical-align: 0; }\n",
       " \n",
       "</style>\n",
       "<table class=\"gt_table\" data-quarto-disable-processing=\"false\" data-quarto-bootstrap=\"false\">\n",
       "<thead>\n",
       "\n",
       "  <tr class=\"gt_heading\">\n",
       "    <td colspan=\"7\" class=\"gt_heading gt_title gt_font_normal\">New York Air Quality Measurements</td>\n",
       "  </tr>\n",
       "  <tr class=\"gt_heading\">\n",
       "    <td colspan=\"7\" class=\"gt_heading gt_subtitle gt_font_normal gt_bottom_border\">Daily measurements in New York City (May 1-10, 1973)</td>\n",
       "  </tr>\n",
       "<tr class=\"gt_col_headings gt_spanner_row\">\n",
       "  <th class=\"gt_center gt_columns_top_border gt_column_spanner_outer\" rowspan=\"1\" colspan=\"3\" scope=\"colgroup\" id=\"Time\">\n",
       "    <span class=\"gt_column_spanner\">Time</span>\n",
       "  </th>\n",
       "  <th class=\"gt_center gt_columns_top_border gt_column_spanner_outer\" rowspan=\"1\" colspan=\"4\" scope=\"colgroup\" id=\"Measurement\">\n",
       "    <span class=\"gt_column_spanner\">Measurement</span>\n",
       "  </th>\n",
       "</tr>\n",
       "<tr class=\"gt_col_headings\">\n",
       "  <th class=\"gt_col_heading gt_columns_bottom_border gt_right\" rowspan=\"1\" colspan=\"1\" scope=\"col\" id=\"Year\">Year</th>\n",
       "  <th class=\"gt_col_heading gt_columns_bottom_border gt_right\" rowspan=\"1\" colspan=\"1\" scope=\"col\" id=\"Month\">Month</th>\n",
       "  <th class=\"gt_col_heading gt_columns_bottom_border gt_right\" rowspan=\"1\" colspan=\"1\" scope=\"col\" id=\"Day\">Day</th>\n",
       "  <th class=\"gt_col_heading gt_columns_bottom_border gt_right\" rowspan=\"1\" colspan=\"1\" scope=\"col\" id=\"Ozone,&lt;br&gt;ppbV\">Ozone,<br>ppbV</th>\n",
       "  <th class=\"gt_col_heading gt_columns_bottom_border gt_right\" rowspan=\"1\" colspan=\"1\" scope=\"col\" id=\"Solar R.,&lt;br&gt;cal/m&lt;sup&gt;2&lt;/sup&gt;\">Solar R.,<br>cal/m<sup>2</sup></th>\n",
       "  <th class=\"gt_col_heading gt_columns_bottom_border gt_right\" rowspan=\"1\" colspan=\"1\" scope=\"col\" id=\"Wind,&lt;br&gt;mph\">Wind,<br>mph</th>\n",
       "  <th class=\"gt_col_heading gt_columns_bottom_border gt_right\" rowspan=\"1\" colspan=\"1\" scope=\"col\" id=\"Temp,&lt;br&gt;&amp;deg;F\">Temp,<br>&deg;F</th>\n",
       "</tr>\n",
       "</thead>\n",
       "<tbody class=\"gt_table_body\">\n",
       "  <tr>\n",
       "    <td class=\"gt_row gt_right\">1973</td>\n",
       "    <td class=\"gt_row gt_right\">5</td>\n",
       "    <td class=\"gt_row gt_right\">1</td>\n",
       "    <td class=\"gt_row gt_right\">41.0</td>\n",
       "    <td class=\"gt_row gt_right\">190.0</td>\n",
       "    <td class=\"gt_row gt_right\">7.4</td>\n",
       "    <td class=\"gt_row gt_right\">67</td>\n",
       "  </tr>\n",
       "  <tr>\n",
       "    <td class=\"gt_row gt_right\">1973</td>\n",
       "    <td class=\"gt_row gt_right\">5</td>\n",
       "    <td class=\"gt_row gt_right\">2</td>\n",
       "    <td class=\"gt_row gt_right\">36.0</td>\n",
       "    <td class=\"gt_row gt_right\">118.0</td>\n",
       "    <td class=\"gt_row gt_right\">8.0</td>\n",
       "    <td class=\"gt_row gt_right\">72</td>\n",
       "  </tr>\n",
       "  <tr>\n",
       "    <td class=\"gt_row gt_right\">1973</td>\n",
       "    <td class=\"gt_row gt_right\">5</td>\n",
       "    <td class=\"gt_row gt_right\">3</td>\n",
       "    <td class=\"gt_row gt_right\">12.0</td>\n",
       "    <td class=\"gt_row gt_right\">149.0</td>\n",
       "    <td class=\"gt_row gt_right\">12.6</td>\n",
       "    <td class=\"gt_row gt_right\">74</td>\n",
       "  </tr>\n",
       "  <tr>\n",
       "    <td class=\"gt_row gt_right\">1973</td>\n",
       "    <td class=\"gt_row gt_right\">5</td>\n",
       "    <td class=\"gt_row gt_right\">4</td>\n",
       "    <td class=\"gt_row gt_right\">18.0</td>\n",
       "    <td class=\"gt_row gt_right\">313.0</td>\n",
       "    <td class=\"gt_row gt_right\">11.5</td>\n",
       "    <td class=\"gt_row gt_right\">62</td>\n",
       "  </tr>\n",
       "  <tr>\n",
       "    <td class=\"gt_row gt_right\">1973</td>\n",
       "    <td class=\"gt_row gt_right\">5</td>\n",
       "    <td class=\"gt_row gt_right\">5</td>\n",
       "    <td class=\"gt_row gt_right\"><NA></td>\n",
       "    <td class=\"gt_row gt_right\"><NA></td>\n",
       "    <td class=\"gt_row gt_right\">14.3</td>\n",
       "    <td class=\"gt_row gt_right\">56</td>\n",
       "  </tr>\n",
       "</tbody>\n",
       "\n",
       "\n",
       "</table>\n",
       "\n",
       "</div>\n",
       "        "
      ],
      "text/plain": [
       "GT(_tbl_data=   Ozone  Solar_R  Wind  Temp  Month  Day  Year\n",
       "0   41.0    190.0   7.4    67      5    1  1973\n",
       "1   36.0    118.0   8.0    72      5    2  1973\n",
       "2   12.0    149.0  12.6    74      5    3  1973\n",
       "3   18.0    313.0  11.5    62      5    4  1973\n",
       "4    NaN      NaN  14.3    56      5    5  1973, _body=<great_tables._gt_data.Body object at 0x7f619ef0ded0>, _boxhead=Boxhead([ColInfo(var='Year', type=<ColInfoTypeEnum.default: 1>, column_label='Year', column_align='right', column_width=None), ColInfo(var='Month', type=<ColInfoTypeEnum.default: 1>, column_label='Month', column_align='right', column_width=None), ColInfo(var='Day', type=<ColInfoTypeEnum.default: 1>, column_label='Day', column_align='right', column_width=None), ColInfo(var='Ozone', type=<ColInfoTypeEnum.default: 1>, column_label=Html(text='Ozone,<br>ppbV'), column_align='right', column_width=None), ColInfo(var='Solar_R', type=<ColInfoTypeEnum.default: 1>, column_label=Html(text='Solar R.,<br>cal/m<sup>2</sup>'), column_align='right', column_width=None), ColInfo(var='Wind', type=<ColInfoTypeEnum.default: 1>, column_label=Html(text='Wind,<br>mph'), column_align='right', column_width=None), ColInfo(var='Temp', type=<ColInfoTypeEnum.default: 1>, column_label=Html(text='Temp,<br>&deg;F'), column_align='right', column_width=None)]), _stub=<great_tables._gt_data.Stub object at 0x7f61d5e5f7f0>, _spanners=Spanners([SpannerInfo(spanner_id='Time', spanner_level=0, spanner_label='Time', spanner_units=None, spanner_pattern=None, vars=['Year', 'Month', 'Day'], built=None), SpannerInfo(spanner_id='Measurement', spanner_level=0, spanner_label='Measurement', spanner_units=None, spanner_pattern=None, vars=['Ozone', 'Solar_R', 'Wind', 'Temp'], built=None)]), _heading=Heading(title='New York Air Quality Measurements', subtitle='Daily measurements in New York City (May 1-10, 1973)', preheader=None), _stubhead=None, _source_notes=[], _footnotes=[], _styles=[], _locale=<great_tables._gt_data.Locale object at 0x7f61d5635330>, _formats=[], _substitutions=[], _options=Options(table_id=OptionsInfo(scss=False, category='table', type='value', value=None), table_caption=OptionsInfo(scss=False, category='table', type='value', value=None), table_width=OptionsInfo(scss=True, category='table', type='px', value='auto'), table_layout=OptionsInfo(scss=True, category='table', type='value', value='fixed'), table_margin_left=OptionsInfo(scss=True, category='table', type='px', value='auto'), table_margin_right=OptionsInfo(scss=True, category='table', type='px', value='auto'), table_background_color=OptionsInfo(scss=True, category='table', type='value', value='#FFFFFF'), table_additional_css=OptionsInfo(scss=False, category='table', type='values', value=[]), table_font_names=OptionsInfo(scss=False, category='table', type='values', value=['-apple-system', 'BlinkMacSystemFont', 'Segoe UI', 'Roboto', 'Oxygen', 'Ubuntu', 'Cantarell', 'Helvetica Neue', 'Fira Sans', 'Droid Sans', 'Arial', 'sans-serif']), table_font_size=OptionsInfo(scss=True, category='table', type='px', value='16px'), table_font_weight=OptionsInfo(scss=True, category='table', type='value', value='normal'), table_font_style=OptionsInfo(scss=True, category='table', type='value', value='normal'), table_font_color=OptionsInfo(scss=True, category='table', type='value', value='#333333'), table_font_color_light=OptionsInfo(scss=True, category='table', type='value', value='#FFFFFF'), table_border_top_include=OptionsInfo(scss=False, category='table', type='boolean', value=True), table_border_top_style=OptionsInfo(scss=True, category='table', type='value', value='solid'), table_border_top_width=OptionsInfo(scss=True, category='table', type='px', value='2px'), table_border_top_color=OptionsInfo(scss=True, category='table', type='value', value='#A8A8A8'), table_border_right_style=OptionsInfo(scss=True, category='table', type='value', value='none'), table_border_right_width=OptionsInfo(scss=True, category='table', type='px', value='2px'), table_border_right_color=OptionsInfo(scss=True, category='table', type='value', value='#D3D3D3'), table_border_bottom_include=OptionsInfo(scss=False, category='table', type='boolean', value=True), table_border_bottom_style=OptionsInfo(scss=True, category='table', type='value', value='solid'), table_border_bottom_width=OptionsInfo(scss=True, category='table', type='px', value='2px'), table_border_bottom_color=OptionsInfo(scss=True, category='table', type='value', value='#A8A8A8'), table_border_left_style=OptionsInfo(scss=True, category='table', type='value', value='none'), table_border_left_width=OptionsInfo(scss=True, category='table', type='px', value='2px'), table_border_left_color=OptionsInfo(scss=True, category='table', type='value', value='#D3D3D3'), heading_background_color=OptionsInfo(scss=True, category='heading', type='value', value=None), heading_align=OptionsInfo(scss=True, category='heading', type='value', value='center'), heading_title_font_size=OptionsInfo(scss=True, category='heading', type='px', value='125%'), heading_title_font_weight=OptionsInfo(scss=True, category='heading', type='value', value='initial'), heading_subtitle_font_size=OptionsInfo(scss=True, category='heading', type='px', value='85%'), heading_subtitle_font_weight=OptionsInfo(scss=True, category='heading', type='value', value='initial'), heading_padding=OptionsInfo(scss=True, category='heading', type='px', value='4px'), heading_padding_horizontal=OptionsInfo(scss=True, category='heading', type='px', value='5px'), heading_border_bottom_style=OptionsInfo(scss=True, category='heading', type='value', value='solid'), heading_border_bottom_width=OptionsInfo(scss=True, category='heading', type='px', value='2px'), heading_border_bottom_color=OptionsInfo(scss=True, category='heading', type='value', value='#D3D3D3'), heading_border_lr_style=OptionsInfo(scss=True, category='heading', type='value', value='none'), heading_border_lr_width=OptionsInfo(scss=True, category='heading', type='px', value='1px'), heading_border_lr_color=OptionsInfo(scss=True, category='heading', type='value', value='#D3D3D3'), column_labels_background_color=OptionsInfo(scss=True, category='column_labels', type='value', value=None), column_labels_font_size=OptionsInfo(scss=True, category='column_labels', type='px', value='100%'), column_labels_font_weight=OptionsInfo(scss=True, category='column_labels', type='value', value='normal'), column_labels_text_transform=OptionsInfo(scss=True, category='column_labels', type='value', value='inherit'), column_labels_padding=OptionsInfo(scss=True, category='column_labels', type='px', value='5px'), column_labels_padding_horizontal=OptionsInfo(scss=True, category='column_labels', type='px', value='5px'), column_labels_vlines_style=OptionsInfo(scss=True, category='table_body', type='value', value='none'), column_labels_vlines_width=OptionsInfo(scss=True, category='table_body', type='px', value='1px'), column_labels_vlines_color=OptionsInfo(scss=True, category='table_body', type='value', value='#D3D3D3'), column_labels_border_top_style=OptionsInfo(scss=True, category='column_labels', type='value', value='solid'), column_labels_border_top_width=OptionsInfo(scss=True, category='column_labels', type='px', value='2px'), column_labels_border_top_color=OptionsInfo(scss=True, category='column_labels', type='value', value='#D3D3D3'), column_labels_border_bottom_style=OptionsInfo(scss=True, category='column_labels', type='value', value='solid'), column_labels_border_bottom_width=OptionsInfo(scss=True, category='column_labels', type='px', value='2px'), column_labels_border_bottom_color=OptionsInfo(scss=True, category='column_labels', type='value', value='#D3D3D3'), column_labels_border_lr_style=OptionsInfo(scss=True, category='column_labels', type='value', value='none'), column_labels_border_lr_width=OptionsInfo(scss=True, category='column_labels', type='px', value='1px'), column_labels_border_lr_color=OptionsInfo(scss=True, category='column_labels', type='value', value='#D3D3D3'), column_labels_hidden=OptionsInfo(scss=False, category='column_labels', type='boolean', value=False), row_group_background_color=OptionsInfo(scss=True, category='row_group', type='value', value=None), row_group_font_size=OptionsInfo(scss=True, category='row_group', type='px', value='100%'), row_group_font_weight=OptionsInfo(scss=True, category='row_group', type='value', value='initial'), row_group_text_transform=OptionsInfo(scss=True, category='row_group', type='value', value='inherit'), row_group_padding=OptionsInfo(scss=True, category='row_group', type='px', value='8px'), row_group_padding_horizontal=OptionsInfo(scss=True, category='row_group', type='px', value='5px'), row_group_border_top_style=OptionsInfo(scss=True, category='row_group', type='value', value='solid'), row_group_border_top_width=OptionsInfo(scss=True, category='row_group', type='px', value='2px'), row_group_border_top_color=OptionsInfo(scss=True, category='row_group', type='value', value='#D3D3D3'), row_group_border_right_style=OptionsInfo(scss=True, category='row_group', type='value', value='none'), row_group_border_right_width=OptionsInfo(scss=True, category='row_group', type='px', value='1px'), row_group_border_right_color=OptionsInfo(scss=True, category='row_group', type='value', value='#D3D3D3'), row_group_border_bottom_style=OptionsInfo(scss=True, category='row_group', type='value', value='solid'), row_group_border_bottom_width=OptionsInfo(scss=True, category='row_group', type='px', value='2px'), row_group_border_bottom_color=OptionsInfo(scss=True, category='row_group', type='value', value='#D3D3D3'), row_group_border_left_style=OptionsInfo(scss=True, category='row_group', type='value', value='none'), row_group_border_left_width=OptionsInfo(scss=True, category='row_group', type='px', value='1px'), row_group_border_left_color=OptionsInfo(scss=True, category='row_group', type='value', value='#D3D3D3'), row_group_as_column=OptionsInfo(scss=False, category='row_group', type='boolean', value=False), table_body_hlines_style=OptionsInfo(scss=True, category='table_body', type='value', value='solid'), table_body_hlines_width=OptionsInfo(scss=True, category='table_body', type='px', value='1px'), table_body_hlines_color=OptionsInfo(scss=True, category='table_body', type='value', value='#D3D3D3'), table_body_vlines_style=OptionsInfo(scss=True, category='table_body', type='value', value='none'), table_body_vlines_width=OptionsInfo(scss=True, category='table_body', type='px', value='1px'), table_body_vlines_color=OptionsInfo(scss=True, category='table_body', type='value', value='#D3D3D3'), table_body_border_top_style=OptionsInfo(scss=True, category='table_body', type='value', value='solid'), table_body_border_top_width=OptionsInfo(scss=True, category='table_body', type='px', value='2px'), table_body_border_top_color=OptionsInfo(scss=True, category='table_body', type='value', value='#D3D3D3'), table_body_border_bottom_style=OptionsInfo(scss=True, category='table_body', type='value', value='solid'), table_body_border_bottom_width=OptionsInfo(scss=True, category='table_body', type='px', value='2px'), table_body_border_bottom_color=OptionsInfo(scss=True, category='table_body', type='value', value='#D3D3D3'), data_row_padding=OptionsInfo(scss=True, category='data_row', type='px', value='8px'), data_row_padding_horizontal=OptionsInfo(scss=True, category='data_row', type='px', value='5px'), stub_background_color=OptionsInfo(scss=True, category='stub', type='value', value=None), stub_font_size=OptionsInfo(scss=True, category='stub', type='px', value='100%'), stub_font_weight=OptionsInfo(scss=True, category='stub', type='value', value='initial'), stub_text_transform=OptionsInfo(scss=True, category='stub', type='value', value='inherit'), stub_border_style=OptionsInfo(scss=True, category='stub', type='value', value='solid'), stub_border_width=OptionsInfo(scss=True, category='stub', type='px', value='2px'), stub_border_color=OptionsInfo(scss=True, category='stub', type='value', value='#D3D3D3'), stub_row_group_background_color=OptionsInfo(scss=True, category='stub', type='value', value=None), stub_row_group_font_size=OptionsInfo(scss=True, category='stub', type='px', value='100%'), stub_row_group_font_weight=OptionsInfo(scss=True, category='stub', type='value', value='initial'), stub_row_group_text_transform=OptionsInfo(scss=True, category='stub', type='value', value='inherit'), stub_row_group_border_style=OptionsInfo(scss=True, category='stub', type='value', value='solid'), stub_row_group_border_width=OptionsInfo(scss=True, category='stub', type='px', value='2px'), stub_row_group_border_color=OptionsInfo(scss=True, category='stub', type='value', value='#D3D3D3'), source_notes_padding=OptionsInfo(scss=True, category='source_notes', type='px', value='4px'), source_notes_padding_horizontal=OptionsInfo(scss=True, category='source_notes', type='px', value='5px'), source_notes_background_color=OptionsInfo(scss=True, category='source_notes', type='value', value=None), source_notes_font_size=OptionsInfo(scss=True, category='source_notes', type='px', value='90%'), source_notes_border_bottom_style=OptionsInfo(scss=True, category='source_notes', type='value', value='none'), source_notes_border_bottom_width=OptionsInfo(scss=True, category='source_notes', type='px', value='2px'), source_notes_border_bottom_color=OptionsInfo(scss=True, category='source_notes', type='value', value='#D3D3D3'), source_notes_border_lr_style=OptionsInfo(scss=True, category='source_notes', type='value', value='none'), source_notes_border_lr_width=OptionsInfo(scss=True, category='source_notes', type='px', value='2px'), source_notes_border_lr_color=OptionsInfo(scss=True, category='source_notes', type='value', value='#D3D3D3'), source_notes_multiline=OptionsInfo(scss=False, category='source_notes', type='boolean', value=True), source_notes_sep=OptionsInfo(scss=False, category='source_notes', type='value', value=' '), row_striping_background_color=OptionsInfo(scss=True, category='row', type='value', value='rgba(128,128,128,0.05)'), row_striping_include_stub=OptionsInfo(scss=False, category='row', type='boolean', value=False), row_striping_include_table_body=OptionsInfo(scss=False, category='row', type='boolean', value=False), container_width=OptionsInfo(scss=False, category='container', type='px', value='auto'), container_height=OptionsInfo(scss=False, category='container', type='px', value='auto'), container_padding_x=OptionsInfo(scss=False, category='container', type='px', value='0px'), container_padding_y=OptionsInfo(scss=False, category='container', type='px', value='10px'), container_overflow_x=OptionsInfo(scss=False, category='container', type='overflow', value='auto'), container_overflow_y=OptionsInfo(scss=False, category='container', type='overflow', value='auto'), quarto_disable_processing=OptionsInfo(scss=False, category='quarto', type='logical', value=False), quarto_use_bootstrap=OptionsInfo(scss=False, category='quarto', type='logical', value=False)), _has_built=False)"
      ]
     },
     "execution_count": 42,
     "metadata": {},
     "output_type": "execute_result"
    }
   ],
   "source": [
    "from great_tables import GT, html\n",
    "from great_tables.data import airquality\n",
    "\n",
    "airquality_m = airquality.head(5).assign(Year=1973)\n",
    "\n",
    "gt_airquality = (\n",
    "    GT(airquality_m)\n",
    "    .tab_header(\n",
    "        title=\"New York Air Quality Measurements\",\n",
    "        subtitle=\"Daily measurements in New York City (May 1-10, 1973)\",\n",
    "    )\n",
    "    .tab_spanner(label=\"Time\", columns=[\"Year\", \"Month\", \"Day\"])\n",
    "    .tab_spanner(label=\"Measurement\", columns=[\"Ozone\", \"Solar_R\", \"Wind\", \"Temp\"])\n",
    "    .cols_move_to_start(columns=[\"Year\", \"Month\", \"Day\"])\n",
    "    .cols_label(\n",
    "        Ozone=html(\"Ozone,<br>ppbV\"),\n",
    "        Solar_R=html(\"Solar R.,<br>cal/m<sup>2</sup>\"),\n",
    "        Wind=html(\"Wind,<br>mph\"),\n",
    "        Temp=html(\"Temp,<br>&deg;F\"),\n",
    "    )\n",
    ")\n",
    "\n",
    "gt_airquality"
   ]
  },
  {
   "cell_type": "markdown",
   "id": "9347c0f0-473a-4954-8faa-60bc1e6c2914",
   "metadata": {},
   "source": [
    "## 作図"
   ]
  },
  {
   "cell_type": "markdown",
   "id": "4e0aa83a-a1b8-4c62-87ca-763252c5f300",
   "metadata": {},
   "source": [
    "### `autofmt_xdate()`：日付ラベルを整える\n",
    "\n",
    "日付ラベルが重なりそうなら傾きをつけてくれる\n",
    "\n",
    "[matplotlib.figure.Figure.autofmt_xdate — Matplotlib 3.9.2 documentation](https://matplotlib.org/stable/api/_as_gen/matplotlib.figure.Figure.autofmt_xdate.html)"
   ]
  },
  {
   "cell_type": "code",
   "execution_count": 4,
   "id": "4bfe85b3-7453-464e-9ad2-9a11e0a7e54d",
   "metadata": {},
   "outputs": [
    {
     "data": {
      "image/png": "[encoded data removed]",
      "text/plain": [
       "<Figure size 640x480 with 1 Axes>"
      ]
     },
     "metadata": {},
     "output_type": "display_data"
    }
   ],
   "source": [
    "import matplotlib.pyplot as plt\n",
    "import pandas as pd\n",
    "\n",
    "dates = pd.date_range('2023-10-01', periods=10, freq='D')\n",
    "values = [5, 3, 4, 6, 7, 2, 8, 5, 6, 7]\n",
    "\n",
    "fig, ax = plt.subplots()\n",
    "ax.plot(dates, values)\n",
    "fig.autofmt_xdate(rotation=45, ha='right')\n",
    "plt.show()"
   ]
  }
 ],
 "metadata": {
  "kernelspec": {
   "display_name": "Python 3 (ipykernel)",
   "language": "python",
   "name": "python3"
  },
  "language_info": {
   "codemirror_mode": {
    "name": "ipython",
    "version": 3
   },
   "file_extension": ".py",
   "mimetype": "text/x-python",
   "name": "python",
   "nbconvert_exporter": "python",
   "pygments_lexer": "ipython3",
   "version": "3.10.15"
  }
 },
 "nbformat": 4,
 "nbformat_minor": 5
}
