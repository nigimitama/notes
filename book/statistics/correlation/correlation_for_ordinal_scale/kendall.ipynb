{
 "cells": [
  {
   "cell_type": "markdown",
   "id": "181bde65-49b5-4d3f-b654-efcf6b8b0a11",
   "metadata": {
    "tags": []
   },
   "source": [
    "# ケンドールの順位相関係数（Kendall's tau）\n",
    "\n",
    "順序尺度 × 順序尺度（ランキング）に対して使われる相関指標で、順位の一致/不一致ペア数に基づいて計算される\n",
    "\n",
    "[kendalltau — SciPy v1.15.2 Manual](https://docs.scipy.org/doc/scipy/reference/generated/scipy.stats.kendalltau.html#scipy.stats.kendalltau)\n",
    "\n",
    "$$\n",
    "\\tau=\\frac{n_c-n_d}{\\sqrt{\\left(n_0-n_1\\right)\\left(n_0-n_2\\right)}}\n",
    "$$\n",
    "\n",
    "- $n_c$ ：一致順（concordant）のペアの数\n",
    "- $n_d$ ：不一致順（discordant）のペアの数\n",
    "- $n_0=\\frac{n(n-1)}{2}:$ すべてのペアの総数\n",
    "- $n_1=\\sum t_i\\left(t_i-1\\right) / 2$ ：Xで順位が同じぺアの数の補正（ties in X）\n",
    "- $n_2=\\sum u_j\\left(u_j-1\\right) / 2$ ：Yで順位が同じぺアの数の補正（ties in Y）"
   ]
  },
  {
   "cell_type": "code",
   "execution_count": 59,
   "id": "f6c657a7-d3ef-420d-b882-62c1339d82f2",
   "metadata": {
    "tags": []
   },
   "outputs": [
    {
     "name": "stdout",
     "output_type": "stream",
     "text": [
      "kendalltau(x, y).statistic=0.770\n",
      "polychoric(x, y)=0.999\n"
     ]
    }
   ],
   "source": [
    "x = [1, 1, 2, 2, 3, 3]\n",
    "y = [0, 0, 0, 1, 1, 1]\n",
    "\n",
    "from scipy.stats import kendalltau\n",
    "print(f\"{kendalltau(x, y).statistic=:.3f}\")\n",
    "\n",
    "from ordinalcorr import polychoric\n",
    "print(f\"{polychoric(x, y)=:.3f}\")"
   ]
  }
 ],
 "metadata": {
  "kernelspec": {
   "display_name": "Python 3 (ipykernel)",
   "language": "python",
   "name": "python3"
  },
  "language_info": {
   "codemirror_mode": {
    "name": "ipython",
    "version": 3
   },
   "file_extension": ".py",
   "mimetype": "text/x-python",
   "name": "python",
   "nbconvert_exporter": "python",
   "pygments_lexer": "ipython3",
   "version": "3.10.18"
  }
 },
 "nbformat": 4,
 "nbformat_minor": 5
}
