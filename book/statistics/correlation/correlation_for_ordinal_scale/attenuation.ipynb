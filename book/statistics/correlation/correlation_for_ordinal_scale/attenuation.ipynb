{
 "cells": [
  {
   "cell_type": "markdown",
   "id": "28301ba7-53e8-401b-ae2f-08906390eb93",
   "metadata": {},
   "source": [
    "# 相関係数の希薄化\n",
    "\n",
    "相関係数の希薄化とは、データの測定の信頼性によって相関がゼロに近づく方向のバイアスをもつ現象。\n",
    "\n",
    "信頼性は例えばテストやアンケートの設計に起因するものもあるし、連続変数を離散化したことによる情報の欠落によるものもある（→カテゴリカル変数の相関係数は希薄化を補正する考えから生まれた）\n"
   ]
  },
  {
   "cell_type": "markdown",
   "id": "8aec5dbe-021d-4d39-ae5c-f96cafb73274",
   "metadata": {},
   "source": [
    "### attenuation formula\n",
    "\n",
    "Spearman (1904) は相関係数の希薄化（attenuation）という問題を指摘した\n",
    "\n",
    "観測される相関は真の相関に信頼性の影響が掛かったものである、という考え方をする。\n",
    "\n",
    ":::{admonition} attenuation formula\n",
    "\n",
    "$$\n",
    "r_{x y}=\\rho_{x y} \\cdot \\sqrt{r_{x x} \\cdot r_{y y}}\n",
    "$$\n",
    "\n",
    "- $r_{x y}$：観測された相関\n",
    "- $\\rho_{x y}$：真の相関あるいは信頼性が完璧なもとでの相関\n",
    "- $r_{x x}$：変数$X$の信頼性\n",
    "- $r_{y y}$：変数$Y$の信頼性\n",
    "\n",
    ":::"
   ]
  },
  {
   "cell_type": "markdown",
   "id": "96e08643-f699-41d0-9d26-c7a5a8e08267",
   "metadata": {},
   "source": [
    "### 信頼性とは\n",
    "\n",
    "#### 再検査法（test-retest）的な考え方\n",
    "\n",
    "例えばテストの得点においては「偶然高い得点（低い得点）になった」というようなランダム性の要素が少なくて、仮に同じ能力の人が同様のテストを繰り返し受験したら毎回同様の能力値の評価がなされるようなテストは信頼性が高い。逆にランダム性の影響が高いテストは信頼性が低いと考えられる。\n",
    "\n",
    "なお、この考え方はテスト理論における再検査法の考え方。\n",
    "\n",
    ":::{card} 再検査法的な考え方\n",
    "\n",
    "$$\n",
    "r_{x x} = \\operatorname{cor}(x_1, x_2)\n",
    "$$\n",
    "\n",
    "- $x_1$：1回目のテストの測定結果\n",
    "- $x_2$：2回目のテストの測定結果\n",
    "\n",
    ":::\n",
    "\n",
    "\n",
    "なお Spearman (1904) も信頼性の部分は「同じ確率変数の独立に得られたサンプルの系列における相関係数の平均」という考え方をとっていたし、1940~50年代の文献でもこうした考え方が支持されていた。\n",
    "\n",
    ":::{card} Spearman (1904)の書き方\n",
    "\n",
    "To ascertain the amount of this attenuation, and thereby discover the true correlation, it appears *necessary to make two or more independent series of observations of both $p$ and $q$*. Then,\n",
    "\n",
    "$$\n",
    "r_{pq} = \\frac{r_{p'q'}}{\\sqrt{r_{p'p'} \\cdot r_{q'q'}}}\n",
    "$$\n",
    "\n",
    "where  \n",
    "  $r_{p'q'}$ = the mean of the correlations between each series of values obtained for $p$ with each series obtained for $q$.  \n",
    "  $r_{p'p'}$ = **the average correlation between one and another of these several independently obtained series of values for $p$.**\n",
    "  $r_{q'q'}$ = the same as regards $q$.  \n",
    "  and $r_{pq}$ = the required real correlation between the true objective values of $p$ and $q$.\n",
    "\n",
    ":::\n",
    "\n",
    "\n",
    "\n",
    "\n",
    "#### 信頼性係数\n",
    "\n",
    "本質的に同様の考え方ではあるが、観測値が「真のスコア」と「測定誤差」から構成されて、真のスコアの割合が高いほど信頼性が高いという考えから次のように定式化することもできる\n",
    "\n",
    ":::{card} 古典的テスト理論における信頼性係数\n",
    "\n",
    "$$\n",
    "r_{x x}=\\frac{\\operatorname{Var}(T)}{\\operatorname{Var}(X)}=1-\\frac{\\operatorname{Var}(\\epsilon)}{\\operatorname{Var}(X)}\n",
    "$$\n",
    "\n",
    "- $T$：真のスコア\n",
    "- $\\epsilon$：測定誤差\n",
    "- $X=T+\\epsilon$：観測値\n",
    "\n",
    ":::\n",
    "\n",
    "\n",
    "\n",
    "\n"
   ]
  },
  {
   "cell_type": "markdown",
   "id": "b68326fd-4f71-4b59-b8c6-c08604e3abed",
   "metadata": {},
   "source": [
    "### dis-attenuation formula\n",
    "\n",
    "もし希薄化の影響がわかるなら、観測された相関係数を補正できる。\n",
    "\n",
    "次の式は the double correction などと呼ばれる。\n",
    "\n",
    "\n",
    ":::{admonition} Double Correction\n",
    "\n",
    "$$\n",
    "\\rho_{x y} = \\frac{r_{x y}}{\\sqrt{r_{x x} \\cdot r_{y y}}}\n",
    "$$\n",
    "\n",
    ":::\n",
    "\n"
   ]
  },
  {
   "cell_type": "markdown",
   "id": "0ca65575-0cc0-4e1b-b057-be071c0561cf",
   "metadata": {},
   "source": [
    "なぜDoubleがつくのかというと、Single Correctionと呼ばれるタイプの式があるため。\n",
    "\n",
    ":::{admonition} Single Correction\n",
    "\n",
    "$$\n",
    "\\rho_{x y} = \\frac{r_{x y}}{\\sqrt{r_{x x}}}\n",
    "$$\n",
    "\n",
    "あるいは\n",
    "\n",
    "$$\n",
    "\\rho_{x y} = \\frac{r_{x y}}{\\sqrt{r_{y y}}}\n",
    "$$\n",
    "\n",
    ":::\n",
    "\n"
   ]
  },
  {
   "cell_type": "markdown",
   "id": "d585d4ff-9f94-4d8e-8f8a-355969fff238",
   "metadata": {},
   "source": [
    "## Polychoricとのつながり"
   ]
  },
  {
   "cell_type": "markdown",
   "id": "dd766bb6-da4d-4141-bad1-151110ab0915",
   "metadata": {},
   "source": [
    "## 参考文献\n",
    "\n",
    "- [Spearman, C. (1904). The proof and measurement of association between two things. Am J Psychol, 15, 72-101.](http://digamoo.free.fr/spearman1904a.pdf)\n",
    "- [Bedrick, E. J. (1995). A note on the attenuation of correlation. British Journal of Mathematical and Statistical Psychology, 48(2), 271-280.](https://bpspsychub.onlinelibrary.wiley.com/doi/abs/10.1111/j.2044-8317.1995.tb01064.x)\n",
    "- [Trafimow, D. (2016). The attenuation of correlation coefficients: A statistical literacy issue. Teaching Statistics, 38(1), 25-28.](https://www.medicine.mcgill.ca/epidemiology/hanley/bios601/Surveys/AttenuationOfCorrelations-2016-Teaching_Statistics.pdf?utm_source=chatgpt.com)\n",
    "    - テスト理論的な観点から説明\n",
    "- [Muchinsky, P. M. (1996). The correction for attenuation. Educational and psychological measurement, 56(1), 63-75.](https://psycnet.apa.org/record/1996-00223-004)\n",
    "    - 歴史的な経緯も含め説明"
   ]
  }
 ],
 "metadata": {
  "kernelspec": {
   "display_name": "Python 3 (ipykernel)",
   "language": "python",
   "name": "python3"
  },
  "language_info": {
   "codemirror_mode": {
    "name": "ipython",
    "version": 3
   },
   "file_extension": ".py",
   "mimetype": "text/x-python",
   "name": "python",
   "nbconvert_exporter": "python",
   "pygments_lexer": "ipython3",
   "version": "3.10.18"
  }
 },
 "nbformat": 4,
 "nbformat_minor": 5
}
