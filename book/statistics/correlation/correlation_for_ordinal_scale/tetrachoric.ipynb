{
 "cells": [
  {
   "cell_type": "markdown",
   "id": "72be1f26-4b16-4d6f-96d1-f01c4f94c406",
   "metadata": {
    "editable": true,
    "slideshow": {
     "slide_type": ""
    },
    "tags": []
   },
   "source": [
    "# テトラコリック相関係数（tetrachoric correlation）\n",
    "\n",
    "**テトラコリック相関係数** （tetrachoric correlation coefficient, **四分相関係数** とも） は、二値変数同士の相関係数で、2つの二値変数の背後に連続変数が存在すると仮定して、それらの間の相関の強さを推定する。\n"
   ]
  },
  {
   "cell_type": "markdown",
   "id": "a08ae7fd-c5c8-4449-a413-6b313541b141",
   "metadata": {},
   "source": [
    ":::{dropdown} 歴史的経緯 （from [Olsson (1979)](https://www.cambridge.org/core/journals/psychometrika/article/abs/maximum-likelihood-estimation-of-the-polychoric-correlation-coefficient/62B8AC8F4B0EC5ED7F5B5037A9EAC40D)）\n",
    "\n",
    "Pearson (1901) で標準正規分布の累積分布\n",
    "\n",
    "$$\n",
    "\\Phi(\\tau_X, \\tau_Y ; \\rho)=\\frac{1}{2 \\pi\\sqrt{1-\\rho^2}}\n",
    "\\int_{-\\infty}^{\\tau_X} \\int_{-\\infty}^{\\tau_Y} \\exp \\left[-\\frac{x^2-2 \\rho x y+y^2}{2\\left(1-\\rho^2\\right)}\\right] d x d y\n",
    "$$\n",
    "\n",
    "から$\\rho$を解くことで求める方法が提案された。\n",
    "\n",
    "[Hamdan (1970)](https://www.jstor.org/stable/2334955) は2x2表から$\\rho$を最尤推定することとtetrachoric correlationが等しいことを示した。\n",
    "\n",
    "[Brown & Benedetti (1977)](https://www.cambridge.org/core/journals/psychometrika/article/abs/on-the-mean-and-variance-of-the-tetrachoric-correlation-coefficient/029C2190E6A9B8D40EB7D2924112E2A4) はtetrachoric correlationが対応する真の相関に対してバイアスがあるが、セルの予想される頻度が5未満でない場合、バイアスは無視できることを示した。\n",
    "\n",
    ":::"
   ]
  },
  {
   "cell_type": "markdown",
   "id": "55b4a3d9-6325-401e-b7f1-4c08ea3d5443",
   "metadata": {
    "editable": true,
    "slideshow": {
     "slide_type": ""
    },
    "tags": []
   },
   "source": [
    "### 推定方法\n",
    "\n",
    "2つの観測変数$X, Y \\in \\{0, 1\\}$があるとし、その背後に正規分布に従う潜在変数$X^*, Y^*$\n",
    "\n",
    "$$\n",
    "\\left(X^*, Y^*\\right) \\sim \\mathcal{N}\\left(\\left[\\begin{array}{l}\n",
    "0 \\\\\n",
    "0\n",
    "\\end{array}\\right],\\left[\\begin{array}{ll}\n",
    "1 & \\rho \\\\\n",
    "\\rho & 1\n",
    "\\end{array}\\right]\\right)\n",
    "$$\n",
    "\n",
    "があり、それぞれの潜在変数がある閾値によって二値に変換されている、すなわち\n",
    "\n",
    "$$\n",
    "X = \\mathbb{1}( X^* > \\tau_{X}), \\quad\n",
    "Y = \\mathbb{1}( Y^* > \\tau_{Y})\n",
    "$$\n",
    "\n",
    "とする。\n",
    "\n",
    "相関係数$\\rho$ と 2変量の標準正規分布の累積分布関数$\\Phi_2(\\tau_i, \\tau_j; \\rho)$ による同時確率\n",
    "\n",
    "$$\n",
    "P(X=i, Y=j) = \\Phi_2(\\tau_i, \\tau_j; \\rho)\n",
    "$$\n",
    "\n",
    "を考えて、ここから尤度関数を作って最尤推定を行う。"
   ]
  },
  {
   "cell_type": "markdown",
   "id": "d0361f89-065a-4036-9180-e63ecbc8ee44",
   "metadata": {
    "editable": true,
    "slideshow": {
     "slide_type": ""
    },
    "tags": []
   },
   "source": [
    "観測値のクロス集計表を以下のように計算したとする。\n",
    "\n",
    "|       |  $Y=0$   |  $Y=1$   | 合計  |\n",
    "| :---: | :------: | :------: | :---- |\n",
    "| $X=0$ | $n_{00}$ | $n_{01}$ | $n_0$ |\n",
    "| $X=1$ | $n_{10}$ | $n_{11}$ | $n_1$ |\n",
    "| 合計  | $n_{.0}$ | $n_{.1}$ | $n$   |\n",
    "\n",
    "\n",
    "仮定\n",
    "\n",
    "$$\n",
    "\\begin{aligned}\n",
    "& X=1 \\Leftrightarrow X^*>\\tau_X \\\\\n",
    "& Y=1 \\Leftrightarrow Y^*>\\tau_Y\n",
    "\\end{aligned}\n",
    "$$\n",
    "\n",
    "により、\n",
    "\n",
    "$$\n",
    "\\begin{aligned}\n",
    "& X=0 \\Leftrightarrow X^* \\leq \\tau_X \\\\\n",
    "& Y=0 \\Leftrightarrow Y^* \\leq \\tau_Y\n",
    "\\end{aligned}\n",
    "$$\n",
    "\n",
    "なので、標準正規分布の分位点関数$\\Phi^{-1}$を使うと\n",
    "\n",
    "$$\n",
    "\\begin{gathered}\n",
    "\\tau_X=\\Phi^{-1}(P(X=0))=\\Phi^{-1}\\left(\\frac{n_{00}+n_{01}}{n}\\right) \\\\\n",
    "\\tau_Y=\\Phi^{-1}(P(Y=0))=\\Phi^{-1}\\left(\\frac{n_{00}+n_{10}}{n}\\right)\n",
    "\\end{gathered}\n",
    "$$"
   ]
  },
  {
   "cell_type": "markdown",
   "id": "ca1abf06-2e23-41ce-8eb2-db565b8f43e8",
   "metadata": {
    "editable": true,
    "slideshow": {
     "slide_type": ""
    },
    "tags": []
   },
   "source": [
    ":::{margin}\n",
    "\n",
    "標準正規分布の累積分布関数（CDF）を $\\Phi(z)$ とすると ：\n",
    "\n",
    "$$\n",
    "\\Phi(z)=P(Z \\leq z) \\quad \\text { where } Z \\sim \\mathcal{N}(0,1)\n",
    "$$\n",
    "\n",
    "\n",
    "その逆関数が $\\Phi^{-1}(p)$、つまり：\n",
    "\n",
    "$$\n",
    "\\Phi^{-1}(p)=z \\quad \\text { such that } \\Phi(z)=p\n",
    "$$\n",
    "\n",
    "\n",
    ":::"
   ]
  },
  {
   "cell_type": "markdown",
   "id": "9828ef21-ef10-475a-848c-a89fed248729",
   "metadata": {
    "editable": true,
    "slideshow": {
     "slide_type": ""
    },
    "tags": []
   },
   "source": [
    "$P_{ij} = P(X=i, Y=j)$とすると\n",
    "\n",
    "$$\n",
    "\\begin{aligned}\n",
    "& P_{00}=\\Phi_2\\left(\\tau_X, \\tau_Y ; \\rho\\right) \\\\\n",
    "& P_{01}=\\Phi\\left(\\tau_X\\right)-\\Phi_2\\left(\\tau_X, \\tau_Y ; \\rho\\right) \\\\\n",
    "& P_{10}=\\Phi\\left(\\tau_Y\\right)-\\Phi_2\\left(\\tau_X, \\tau_Y ; \\rho\\right) \\\\\n",
    "& P_{11}=1-\\Phi\\left(\\tau_X\\right)-\\Phi\\left(\\tau_Y\\right)+\\Phi_2\\left(\\tau_X, \\tau_Y ; \\rho\\right)\n",
    "\\end{aligned}\n",
    "$$\n",
    "\n",
    "\n",
    "ここで：\n",
    "-  $\\boldsymbol{\\Phi}:$ 標準正規分布のCDF\n",
    "- $\\Phi_2(u, v ; \\rho): 2$ 変量正規分布のCDF（平均0、分散1、相関 $\\rho$）\n",
    "\n",
    "そして次の対数尤度を最大化して推定する\n",
    "\n",
    "$$\n",
    "\\log L(\\rho)=n_{00} \\log P_{00}+n_{01} \\log P_{01}+n_{10} \\log P_{10}+n_{11} \\log P_{11}\n",
    "$$"
   ]
  },
  {
   "cell_type": "code",
   "execution_count": 9,
   "id": "236b29d3-ad0a-421d-b0ef-56f848d30c4d",
   "metadata": {
    "editable": true,
    "slideshow": {
     "slide_type": ""
    },
    "tags": []
   },
   "outputs": [],
   "source": [
    "from scipy.optimize import minimize_scalar\n",
    "\n",
    "def tetrachoric_corr(x: np.ndarray, y: np.ndarray) -> float:\n",
    "    n = len(x)\n",
    "    n00 = np.sum((x == 0) & (y == 0))\n",
    "    n01 = np.sum((x == 0) & (y == 1))\n",
    "    n10 = np.sum((x == 1) & (y == 0))\n",
    "    n11 = np.sum((x == 1) & (y == 1))\n",
    "    \n",
    "    px0 = (n00 + n01) / n\n",
    "    py0 = (n00 + n10) / n\n",
    "    \n",
    "    tau_x = norm.ppf(px0)\n",
    "    tau_y = norm.ppf(py0)\n",
    "\n",
    "    def neg_log_likelihood(rho):\n",
    "        cov = np.array([[1, rho], [rho, 1]])\n",
    "        p00 = multivariate_normal.cdf([tau_x, tau_y], mean=[0, 0], cov=cov)\n",
    "        p01 = norm.cdf(tau_x) - p00\n",
    "        p10 = norm.cdf(tau_y) - p00\n",
    "        p11 = 1 - norm.cdf(tau_x) - norm.cdf(tau_y) + p00\n",
    "\n",
    "        probs = np.array([p00, p01, p10, p11])\n",
    "        counts = np.array([n00, n01, n10, n11])\n",
    "\n",
    "        assert np.all(probs >= 0)\n",
    "        return -np.sum(counts * np.log(probs))\n",
    "\n",
    "    result = minimize_scalar(neg_log_likelihood, bounds=(-0.999, 0.999), method='bounded')\n",
    "    return result.x"
   ]
  },
  {
   "cell_type": "code",
   "execution_count": 11,
   "id": "d78def50-dc76-4837-9729-70f101a76d3f",
   "metadata": {
    "editable": true,
    "slideshow": {
     "slide_type": ""
    },
    "tags": []
   },
   "outputs": [
    {
     "name": "stdout",
     "output_type": "stream",
     "text": [
      "推定されたテトラコリック相関: 0.4084\n"
     ]
    }
   ],
   "source": [
    "# データ生成（潜在相関0.6）\n",
    "from scipy.stats import norm\n",
    "np.random.seed(1)\n",
    "latent_x = np.random.normal(size=100)\n",
    "latent_y = 0.6 * latent_x + np.random.normal(size=100)\n",
    "X = (latent_x > 0.3).astype(int)\n",
    "Y = (latent_y > 0.3).astype(int)\n",
    "\n",
    "# 推定\n",
    "rho_hat = tetrachoric_corr(X, Y)\n",
    "print(f\"推定されたテトラコリック相関: {rho_hat:.4f}\")"
   ]
  },
  {
   "cell_type": "markdown",
   "id": "bfa7183f-5182-42c3-a54c-cc5725ea2f2b",
   "metadata": {},
   "source": [
    "## 参考文献\n",
    "\n",
    ":::{card} 関連文献\n",
    "\n",
    "- [Pearson, K. (1900). Mathematical contributions to the theory of evolution.—VII. On the correlation of characters not quantitatively measurable. Philosophical Transactions of the Royal Society of London. Series A, Containing Papers of a Mathematical or Physical Character, 195(262-273), 1-47.](https://royalsocietypublishing.org/doi/10.1098/rsta.1900.0022)\n",
    "- [Hamdan, M. A. (1970). The equivalence of tetrachoric and maximum likelihood estimates of P in 2× 2 tables.](https://www.jstor.org/stable/2334955)\n",
    "- [Brown, M. B., & Benedetti, J. K. (1977). On the mean and variance of the tetrachoric correlation coefficient. Psychometrika, 42(3), 347-355.](https://www.cambridge.org/core/journals/psychometrika/article/abs/on-the-mean-and-variance-of-the-tetrachoric-correlation-coefficient/029C2190E6A9B8D40EB7D2924112E2A4)\n",
    "- [Everitt, P. F. (1910). Tables of the tetrachoric functions for fourfold correlation tables. Biometrika, 7(4), 437-451.](https://www.jstor.org/stable/2345377?origin=JSTOR-pdf)\n",
    "- [Castellan Jr, N. J. (1966). On the estimation of the tetrachoric correlation coefficient. Psychometrika, 31(1), 67-73.](https://www.cambridge.org/core/journals/psychometrika/article/abs/on-the-estimation-of-the-tetrachoric-correlation-coefficient/60F0218237B83F1B00B93234B8B354FC)\n",
    "\n",
    ":::"
   ]
  }
 ],
 "metadata": {
  "kernelspec": {
   "display_name": "Python 3 (ipykernel)",
   "language": "python",
   "name": "python3"
  },
  "language_info": {
   "codemirror_mode": {
    "name": "ipython",
    "version": 3
   },
   "file_extension": ".py",
   "mimetype": "text/x-python",
   "name": "python",
   "nbconvert_exporter": "python",
   "pygments_lexer": "ipython3",
   "version": "3.10.18"
  }
 },
 "nbformat": 4,
 "nbformat_minor": 5
}
