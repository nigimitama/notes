{
 "cells": [
  {
   "cell_type": "markdown",
   "id": "84d48f3e-fca3-4962-a29f-1ae2311d1a0b",
   "metadata": {},
   "source": [
    "# 価格指数"
   ]
  },
  {
   "cell_type": "markdown",
   "id": "9766c643-2324-481a-a33f-17cad8ebcf71",
   "metadata": {},
   "source": [
    "## 一般的な価格指数の手法\n",
    "\n",
    "ラスパイレス\n",
    "\n",
    "パーシェ\n"
   ]
  },
  {
   "cell_type": "markdown",
   "id": "df9838f1-4249-4d9b-b39d-4ce5fb986cad",
   "metadata": {},
   "source": [
    "## 住宅価格指数"
   ]
  },
  {
   "cell_type": "markdown",
   "id": "265b3c92-aac7-437f-bdd4-22f9fc7011d7",
   "metadata": {},
   "source": [
    "### ヘドニック法\n",
    "\n",
    "**概要**\n",
    "\n",
    "- 住宅の特徴を説明変数に入れた線形回帰モデルを組み、切片で時点のダミー（固定効果）を入れて経時的な価格変化を捉える。\n",
    "- 日本の国交省の価格指数ではヘドニック法をベースとしている。\n",
    "\n",
    "**長短**\n",
    "\n",
    "- 長所：多くのサンプルを利用可能\n",
    "- 短所：仮定がやや多い\n",
    "    1. 説明変数で住宅の特徴が捉えられている\n",
    "    2. 価格と説明変数の間の関係は線形である\n",
    "\n",
    "**数理的には**\n",
    "\n",
    "$$\n",
    "\\ln P_{i t} = \\alpha + \\boldsymbol{D}_t^\\top \\boldsymbol{\\delta}_t + \\boldsymbol{x}_{i t}^\\top \\boldsymbol{\\beta}_t + \\varepsilon_{i t}\n",
    "$$\n",
    "\n",
    "- $P_{i t} \\in \\mathbb{R}$：時点$t$、地点$i$の床面積当たりの価格\n",
    "- $\\alpha \\in \\mathbb{R}$：切片項\n",
    "- $\\boldsymbol{\\delta}_t \\in \\mathbb{R}^T$：時間固定効果 → 価格指数に使う\n",
    "- $\\boldsymbol{D}_t \\in \\{0, 1\\}^T$：時点ダミーベクトル\n",
    "- $\\boldsymbol{x}_{i t} \\in \\mathbb{R}^{m}$：物件の属性情報（共変量・統制変数）\n",
    "- $\\boldsymbol{\\beta}_t \\in \\mathbb{R}^{m}$：属性情報の回帰係数（局外母数）\n",
    "- $\\varepsilon_{i t} \\in \\mathbb{R}$：誤差項\n",
    "\n",
    "\n",
    "で求めたあとに基準年を100とするよう指数化\n"
   ]
  },
  {
   "cell_type": "markdown",
   "id": "c033f1d0-3a28-4743-9734-0b19b5e78ae4",
   "metadata": {},
   "source": [
    "### リピートセールモデル（Repeat Sales Model）\n",
    "\n",
    "**概要**\n",
    "\n",
    "- Baily et al.(1963)やCase and Shiller(1989)によって開発されてきた手法。S&Pケースシラー住宅価格指数で使われている。\n",
    "- 同じ物件が異なる時点で取引されたときの価格変化を平均する。\n",
    "\n",
    "**長短**\n",
    "\n",
    "- 長所：同一物件の価格変化を見るため、物件ごとの個体差を完全に統制できる\n",
    "- 短所：分析に使用可能なサンプルが限られる\n",
    "\n",
    "**数理的には**\n",
    "\n",
    "ある物件が時点 $f$に1回目の売買がされ、時点$s$ に2回目の売買がされ、その価格がそれぞれ $P_{if}$ および $P_{is}$ だったとする。\n",
    "また\n",
    "\n",
    "- (仮定1) 物件のすべての属性が時期を通して不変だった（リフォーム等はしていない, $\\boldsymbol{x}_{i f} = \\boldsymbol{x}_{i s}$）\n",
    "- (仮定2) 属性のパラメーターは時期を通して不変だった（$\\boldsymbol{\\beta}_f = \\boldsymbol{\\beta}_s$）\n",
    "\n",
    "と仮定する。このとき、ヘドニック法の価格関数の2時点間の差分は\n",
    "\n",
    "$$\n",
    "\\begin{aligned}\n",
    "\\ln P_{is} - \\ln P_{if} &= (\\alpha - \\alpha)\n",
    "+ (\\boldsymbol{D}_s^\\top \\boldsymbol{\\delta}_s - \\boldsymbol{D}_f^\\top \\boldsymbol{\\delta}_f)\n",
    "+ (\\boldsymbol{x}_{i s}^\\top \\boldsymbol{\\beta}_s - \\boldsymbol{x}_{i f}^\\top \\boldsymbol{\\beta}_f) \n",
    "+ (\\varepsilon_{i s} - \\varepsilon_{i f})\n",
    "\\\\\n",
    "&= (\\boldsymbol{D}_s^\\top \\boldsymbol{\\delta}_s - \\boldsymbol{D}_f^\\top \\boldsymbol{\\delta}_f)\n",
    "+ (\\varepsilon_{i s} - \\varepsilon_{i f})\n",
    "\\\\\n",
    "&= \\boldsymbol{M}^\\top \\boldsymbol{\\delta} + \\Delta \\varepsilon_{i}\n",
    "\\end{aligned}\n",
    "$$\n",
    "\n",
    "ここで\n",
    "\n",
    "$$\n",
    "M_t = \n",
    "\\begin{cases}\n",
    "-1 & \\text{ if } t = f\\\\\n",
    "1 & \\text{ if } t = s \\\\\n",
    "0 & \\text{ otherwise }\n",
    "\\end{cases}\n",
    "$$\n",
    "\n",
    "- $P_{if}, P_{is}$：それぞれの時点での売買価格  \n",
    "- $\\boldsymbol{\\delta} \\in \\mathbb{R}^T$：各期間の住宅価格の対数変化率\n",
    "- $\\Delta \\varepsilon_i := \\varepsilon_{i f} - \\varepsilon_{i s}$：撹乱項の変化\n",
    "\n",
    "このモデルは、価格差の対数が**期間ごとの価格変化の累積**と一致するという仮定に基づいています。\n"
   ]
  },
  {
   "cell_type": "markdown",
   "id": "55eddd1e-4d6d-4f32-a361-892db45618fe",
   "metadata": {},
   "source": [
    "## 参考\n",
    "\n",
    "- [国土交通省「不動産価格指数（住宅）の作成方法」](https://www.mlit.go.jp/common/001360416.pdf)\n",
    "- [沓澤隆司. (2016). 中古マンションの不動産価格指数の推計におけるリピートセールス法導入の可能性. 土地総合研究/土地総合研究所 [編], 24(4), 105-111.](https://www.lij.jp/html/jli/jli_2016/2016autumn_p105.pdf)"
   ]
  },
  {
   "cell_type": "code",
   "execution_count": null,
   "id": "8dc8ec82-4642-4ffc-a68c-03073827c1cf",
   "metadata": {},
   "outputs": [],
   "source": []
  }
 ],
 "metadata": {
  "kernelspec": {
   "display_name": "Python 3 (ipykernel)",
   "language": "python",
   "name": "python3"
  },
  "language_info": {
   "codemirror_mode": {
    "name": "ipython",
    "version": 3
   },
   "file_extension": ".py",
   "mimetype": "text/x-python",
   "name": "python",
   "nbconvert_exporter": "python",
   "pygments_lexer": "ipython3",
   "version": "3.10.18"
  }
 },
 "nbformat": 4,
 "nbformat_minor": 5
}
