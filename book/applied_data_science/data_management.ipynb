{
 "cells": [
  {
   "cell_type": "markdown",
   "id": "7041b645-6ddd-4a20-821a-5d07d6250034",
   "metadata": {},
   "source": [
    "# データマネジメント"
   ]
  },
  {
   "cell_type": "markdown",
   "id": "3494bff4-ad7a-4437-b76f-6cf772f96210",
   "metadata": {},
   "source": [
    "## データ〇〇\n",
    "\n",
    "### データレイク\n",
    "\n",
    "**データレイク**（data lake）：生データ・非構造化データ（画像や音声など）を中心に貯蔵したもの。\n",
    "\n",
    "データソース（=水源）から流れてきたデータがはじめに貯蔵される場所。\n",
    "\n",
    "生データのコピーをデータレイクの定義とする本もある。例えば、システムの本番環境RDBからコピーしている分析用のレプリカDBがデータレイク。\n",
    "\n",
    "\n",
    "AWSのサービスでいうと、非構造化データならS3で、構造化データならRDSやRedshiftなど？\n",
    "\n",
    "### データウェアハウス\n",
    "\n",
    "**データウェアハウス** （data warehouse: DWH）：構造化データ（テーブルデータ）を分析・BI用に置いておく場所。\n",
    "\n",
    "AWSでいうとRedshiftとか？（企業によってはテラバイトやペタバイトの単位になってくるため）\n",
    "\n",
    "### データマート\n",
    "\n",
    "企業の財務部門、マーケティング部門、営業部門など、特定のビジネスユニットのニーズに合わせてデータを絞ったデータウェアハウス\n",
    "\n",
    "AWSでいうとS3にcsvやParquetで貯めておいてAthenaでSQLクエリを書いて取り出せるようにしてるものとか。\n",
    "\n",
    "参考：[データレイク、データウェアハウス、データマートの比較 - クラウドストレージソリューションの違い - AWS](https://aws.amazon.com/jp/compare/the-difference-between-a-data-warehouse-data-lake-and-data-mart/)\n"
   ]
  },
  {
   "cell_type": "markdown",
   "id": "f0e516dd-fe12-452b-818b-920304994a5e",
   "metadata": {
    "editable": true,
    "slideshow": {
     "slide_type": ""
    },
    "tags": []
   },
   "source": [
    "## ETLツール\n",
    "\n",
    "ETL (Extract：データ抽出、Transform : データ整形、Load : データ出力）ツールは、データソースからデータレイクやデータウェアハウスにデータを流し込むツールのこと。\n",
    "\n",
    "たとえば構造化データならAWS Glue"
   ]
  },
  {
   "cell_type": "markdown",
   "id": "4687d6c0-67e3-44ea-8d88-b09301a1946e",
   "metadata": {},
   "source": [
    "## 文献リスト\n",
    "\n",
    "- International, D. (2018). データマネジメント知識体系ガイド.\n",
    "- ゆずたそ, 渡部徹太郎, & 伊藤徹郎. (2021). 実践的データ基盤への処方箋〜 ビジネス価値創出のためのデータ・システム・ヒトのノウハウ."
   ]
  }
 ],
 "metadata": {
  "kernelspec": {
   "display_name": "Python 3 (ipykernel)",
   "language": "python",
   "name": "python3"
  },
  "language_info": {
   "codemirror_mode": {
    "name": "ipython",
    "version": 3
   },
   "file_extension": ".py",
   "mimetype": "text/x-python",
   "name": "python",
   "nbconvert_exporter": "python",
   "pygments_lexer": "ipython3",
   "version": "3.10.15"
  }
 },
 "nbformat": 4,
 "nbformat_minor": 5
}
