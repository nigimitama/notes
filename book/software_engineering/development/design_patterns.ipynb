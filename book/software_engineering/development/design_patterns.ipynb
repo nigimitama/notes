{
 "cells": [
  {
   "cell_type": "markdown",
   "id": "85cfd8a8-6ccb-499e-a263-81db60871803",
   "metadata": {},
   "source": [
    "# デザインパターン\n",
    "\n"
   ]
  },
  {
   "cell_type": "markdown",
   "id": "33ad1ddf-db2c-4566-8c34-3eadaf9f5300",
   "metadata": {},
   "source": [
    "|           分類           | 説明                                                     | 代表例 🧩                                      |\n",
    "| :----------------------: | -------------------------------------------------------- | --------------------------------------------- |\n",
    "|   生成に関するパターン   | オブジェクトの生成方法に関するパターン                   | Singleton, Factory Method, Builder, Prototype |\n",
    "|   構造に関するパターン   | オブジェクトやクラスの構造（組み立て方）に関するパターン | Adapter, Decorator, Composite, Facade         |\n",
    "| 振る舞いに関するパターン | オブジェクト間のやり取り・責務の分配方法に関するパターン | Observer, Strategy, State, Command, Iterator  |"
   ]
  },
  {
   "cell_type": "markdown",
   "id": "fb94378d-5188-4392-98a4-da9409996ed4",
   "metadata": {},
   "source": [
    "### Dependency Injection （依存性注入）\n",
    "\n",
    "依存関係を外部から注入するパターン\n",
    "\n",
    "**✅ メリット**\n",
    "\n",
    "1. テストしやすい：モック（模擬オブジェクト）を渡せる\n",
    "2. 柔軟性が高い：実装を変えても呼び出し側は影響を受けない\n",
    "3. 再利用性が高い：同じクラスを異なる依存関係で再利用可能\n",
    "\n",
    "\n",
    "**例**\n",
    "\n",
    "EngineとCarというオブジェクトがあるとする。\n",
    "\n",
    "DIをしない場合は依存性を外部から変更できない状態。\n",
    "\n",
    "\n",
    "```python\n",
    "class Engine:\n",
    "    def start(self):\n",
    "        print(\"Engine started\")\n",
    "\n",
    "# DIなし：CarがEngineを自分で作る（依存が固定されている）\n",
    "class Car:\n",
    "    def __init__(self):\n",
    "        self.engine = Engine()\n",
    "\n",
    "    def run(self):\n",
    "        self.engine.start()\n",
    "```\n",
    "\n",
    "DIを行う場合、例えばconstructorにengineを渡したりする\n",
    "\n",
    "```python\n",
    "# DIあり：Engineを外部から渡す（柔軟に差し替えられる）\n",
    "class Car:\n",
    "    def __init__(self, engine: Engine):\n",
    "        self.engine = engine\n",
    "\n",
    "    def run(self):\n",
    "        self.engine.start()\n",
    "\n",
    "# 実行\n",
    "engine = Engine()\n",
    "car = Car(engine)  # Engineを注入\n",
    "car.run()\n",
    "```\n",
    "\n",
    "\n",
    "\n",
    "**DIの方法**\n",
    "\n",
    "(1) constructor injection\n",
    "\n",
    "```python\n",
    "car = Car(engine)\n",
    "```\n",
    "\n",
    "(2) setter injection\n",
    "\n",
    "```python\n",
    "car.set_engine(engine)\n",
    "```\n",
    "\n",
    "\n",
    ":::{card} 参考\n",
    "\n",
    "- [依存性注入（Dependency Injection: DI）について理解する](https://zenn.dev/tokium_dev/articles/dependency-injection-watanabe)\n",
    "\n",
    ":::"
   ]
  },
  {
   "cell_type": "markdown",
   "id": "daaf79b2-9299-4006-b1aa-b513a010c9a7",
   "metadata": {},
   "source": []
  },
  {
   "cell_type": "markdown",
   "id": "80c6acc3-8593-49e4-8e50-3ace671fbd56",
   "metadata": {},
   "source": [
    "### Singleton（シングルトン）\n",
    "\n",
    "インスタンスが1つしか存在しないようにする。インスタンスをグローバル変数のように扱う。\n"
   ]
  },
  {
   "cell_type": "code",
   "execution_count": 1,
   "id": "32fa631c-47f3-4937-802c-67cd4012fed3",
   "metadata": {
    "tags": []
   },
   "outputs": [
    {
     "name": "stdout",
     "output_type": "stream",
     "text": [
      "m1.value='first'\n",
      "m1.value='second', m2.value='second'\n"
     ]
    }
   ],
   "source": [
    "from datetime import datetime\n",
    "\n",
    "class Singleton:\n",
    "    _instance = None\n",
    "\n",
    "    def __new__(cls, *args, **kwargs):\n",
    "        if cls._instance is None:\n",
    "            cls._instance = super(Singleton, cls).__new__(cls)\n",
    "        return cls._instance\n",
    "\n",
    "class MyClass(Singleton):\n",
    "    def __init__(self, value):\n",
    "        self.value = value\n",
    "\n",
    "m1 = MyClass(\"first\")\n",
    "print(f\"{m1.value=}\")\n",
    "\n",
    "# m2を変えるとm1も変わる\n",
    "m2 = MyClass(\"second\")\n",
    "print(f\"{m1.value=}, {m2.value=}\")"
   ]
  },
  {
   "cell_type": "markdown",
   "id": "575efe7c-b0f7-4346-9998-fd78744e43bf",
   "metadata": {},
   "source": [
    "### Factory Method\n",
    "\n",
    "オブジェクトの生成処理をサブクラスに任せる（newを隠す）"
   ]
  },
  {
   "cell_type": "code",
   "execution_count": 41,
   "id": "81c4b7d5-85d5-4fd0-a683-8c86d7c054f4",
   "metadata": {
    "tags": []
   },
   "outputs": [
    {
     "name": "stdout",
     "output_type": "stream",
     "text": [
      "Woof!\n"
     ]
    }
   ],
   "source": [
    "class Animal:\n",
    "    def speak(self): pass\n",
    "\n",
    "class Dog(Animal):\n",
    "    def speak(self): return \"Woof!\"\n",
    "\n",
    "class Cat(Animal):\n",
    "    def speak(self): return \"Meow!\"\n",
    "\n",
    "\n",
    "def animal_factory(kind: str) -> Animal:\n",
    "    if kind == \"dog\":\n",
    "        return Dog()\n",
    "    elif kind == \"cat\":\n",
    "        return Cat()\n",
    "\n",
    "a = animal_factory(\"dog\")\n",
    "print(a.speak())"
   ]
  },
  {
   "cell_type": "markdown",
   "id": "36b1f5a2-747c-47ff-a4be-0479f6e01de7",
   "metadata": {},
   "source": [
    "### Observer\n",
    "\n",
    "状態が変わったら通知（イベントリスナー）"
   ]
  },
  {
   "cell_type": "code",
   "execution_count": 40,
   "id": "31af2427-d69c-448e-b848-9c7d67d10221",
   "metadata": {
    "tags": []
   },
   "outputs": [
    {
     "name": "stdout",
     "output_type": "stream",
     "text": [
      "Got: Update available\n"
     ]
    }
   ],
   "source": [
    "class Subject:\n",
    "    def __init__(self):\n",
    "        self.observers = []\n",
    "\n",
    "    def attach(self, observer):\n",
    "        self.observers.append(observer)\n",
    "\n",
    "    def notify(self, msg):\n",
    "        for ob in self.observers:\n",
    "            ob.update(msg)\n",
    "\n",
    "class Observer:\n",
    "    def update(self, msg):\n",
    "        print(\"Got:\", msg)\n",
    "\n",
    "s = Subject()\n",
    "s.attach(Observer())\n",
    "s.notify(\"Update available\")"
   ]
  },
  {
   "cell_type": "markdown",
   "id": "c7088f72-46ba-4ca5-9d98-42681a2c86ce",
   "metadata": {},
   "source": [
    "### Strategy\n",
    "\n",
    "アルゴリズムを切り替えられるようにする"
   ]
  },
  {
   "cell_type": "code",
   "execution_count": 44,
   "id": "6626e22f-426f-498d-9c0b-e76ad0227bd4",
   "metadata": {
    "tags": []
   },
   "outputs": [
    {
     "name": "stdout",
     "output_type": "stream",
     "text": [
      "6\n",
      "6\n"
     ]
    }
   ],
   "source": [
    "class Strategy:\n",
    "    def execute(self, data):\n",
    "        pass\n",
    "\n",
    "class Add(Strategy):\n",
    "    def execute(self, data):\n",
    "        return sum(data)\n",
    "\n",
    "class Multiply(Strategy):\n",
    "    def execute(self, data):\n",
    "        result = 1\n",
    "        for x in data: result *= x\n",
    "        return result\n",
    "\n",
    "def run(strategy: Strategy, data):\n",
    "    return strategy.execute(data)\n",
    "\n",
    "print(run(Add(), [1, 2, 3]))\n",
    "print(run(Multiply(), [1, 2, 3]))"
   ]
  }
 ],
 "metadata": {
  "kernelspec": {
   "display_name": "Python 3 (ipykernel)",
   "language": "python",
   "name": "python3"
  },
  "language_info": {
   "codemirror_mode": {
    "name": "ipython",
    "version": 3
   },
   "file_extension": ".py",
   "mimetype": "text/x-python",
   "name": "python",
   "nbconvert_exporter": "python",
   "pygments_lexer": "ipython3",
   "version": "3.12.3"
  }
 },
 "nbformat": 4,
 "nbformat_minor": 5
}
