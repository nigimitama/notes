{
 "cells": [
  {
   "cell_type": "markdown",
   "id": "09a66ad2-5a9f-4002-8425-dca325059df0",
   "metadata": {},
   "source": [
    "# Remix\n",
    "\n",
    "RemixはWebフレームワークで、PESPA（Progressively Enhanced SPA) と呼ばれるタイプの、バックエンドとフロントエンドの両方を扱うアーキテクチャになっている。\n",
    "\n",
    "[Remix - Build Better Websites](https://remix.run/)"
   ]
  },
  {
   "cell_type": "markdown",
   "id": "c1eec997-7b74-450e-9858-2cad9602b621",
   "metadata": {
    "tags": []
   },
   "source": [
    "## Tutorial / 解説\n",
    "\n",
    "- [Remix入門【はじめからそうやって教えてくれればいいのに！】](https://zenn.dev/ak/articles/cef68c1b67a314)\n",
    "- [やさしくはじめるRemixとWeb - Speaker Deck](https://speakerdeck.com/takagimeow/yasasikuhazimeruremixtoweb)\n",
    "- 公式の短いTutorial: [Quick Start (5m) | Remix](https://remix.run/docs/en/main/start/quickstart)\n",
    "- 公式のTutorial: [Tutorial (30m) | Remix](https://remix.run/docs/en/main/start/tutorial)"
   ]
  },
  {
   "cell_type": "markdown",
   "id": "2c9628bd-6967-43cc-8875-49bf2cbb9834",
   "metadata": {},
   "source": [
    "## 概念"
   ]
  },
  {
   "cell_type": "markdown",
   "id": "f25ce4f5-e370-438c-9ed8-419b33d7ea21",
   "metadata": {},
   "source": []
  },
  {
   "cell_type": "markdown",
   "id": "352fb58f-2ae4-44f4-a402-29b94493f66c",
   "metadata": {},
   "source": [
    "### loader\n",
    "\n",
    "レンダリング時にデータを取得する（GETする）ための関数。\n",
    "\n",
    "**サーバ側で実行される** ので、SPAでありがちな「クライアント側からデータ取得のためAPIを叩くときにAPI-keyをどう秘匿するか」みたいな問題が解決される。\n",
    "\n",
    "ページごとに定義して使う。例えば、一覧ページ（例えば`posts.tsx`）では配列`Post[]`を返す`loader()`を定義し、詳細ページ（`posts.$postId.tsx`)では1つの要素（`Post`）を返す`loader()`を定義し、自分のcomponentの中で使う\n",
    "\n",
    "```tsx\n",
    "// loaderの例\n",
    "import { json } from \"@remix-run/node\";\n",
    "\n",
    "export const loader = async () => {\n",
    "  const response = await fetch(\"https://jsonplaceholder.typicode.com/posts?_limit=5\");\n",
    "  const posts = await response.json();\n",
    "  return json({ posts });\n",
    "};\n",
    "\n",
    "export default function App() {\n",
    "  const { posts } = useLoaderData<typeof loader>()\n",
    "```\n"
   ]
  },
  {
   "cell_type": "markdown",
   "id": "a60dc271-ab0c-4b8e-95eb-23cbc5407bde",
   "metadata": {},
   "source": [
    "### action\n",
    "\n",
    "データを更新する（POST, DELETE, PUT, PATCH）ときに使う関数"
   ]
  },
  {
   "cell_type": "markdown",
   "id": "276a2157-fff5-4906-a707-1a3242404df7",
   "metadata": {},
   "source": [
    "\n",
    "### Outlet\n",
    "\n",
    "親ルート内において、子ルートがレンダリングされる場所を示すために使われるコンポーネント\n",
    "\n",
    "```tsx\n",
    "import { Outlet } from \"@remix-run/react\"\n",
    "\n",
    "export default function App() {\n",
    "  return <Outlet />\n",
    "}\n",
    "```"
   ]
  },
  {
   "cell_type": "markdown",
   "id": "ce2ce6b9-be6d-490b-8bb2-db1e7b6170a5",
   "metadata": {},
   "source": []
  },
  {
   "cell_type": "markdown",
   "id": "bfdef54f-429f-4f2e-b4a6-d77ea4925f25",
   "metadata": {},
   "source": [
    "## 評判\n",
    "\n",
    "- https://x.com/kenn/status/1816500405150609717\n",
    "  - Railsから移行しての感想"
   ]
  },
  {
   "cell_type": "markdown",
   "id": "ffbc9752-40ee-4324-a9fd-767ede891c98",
   "metadata": {},
   "source": []
  }
 ],
 "metadata": {
  "kernelspec": {
   "display_name": "Python 3 (ipykernel)",
   "language": "python",
   "name": "python3"
  },
  "language_info": {
   "codemirror_mode": {
    "name": "ipython",
    "version": 3
   },
   "file_extension": ".py",
   "mimetype": "text/x-python",
   "name": "python",
   "nbconvert_exporter": "python",
   "pygments_lexer": "ipython3",
   "version": "3.10.15"
  }
 },
 "nbformat": 4,
 "nbformat_minor": 5
}
