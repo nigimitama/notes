{
 "cells": [
  {
   "cell_type": "markdown",
   "id": "09a66ad2-5a9f-4002-8425-dca325059df0",
   "metadata": {},
   "source": [
    "# Remix\n",
    "\n",
    "RemixはWebフレームワークで、PESPA（Progressively Enhanced SPA) と呼ばれるタイプの、バックエンドとフロントエンドの両方を扱うアーキテクチャになっている。\n",
    "\n",
    "[Remix - Build Better Websites](https://remix.run/)"
   ]
  },
  {
   "cell_type": "markdown",
   "id": "2c9628bd-6967-43cc-8875-49bf2cbb9834",
   "metadata": {},
   "source": [
    "outlet\n",
    "\n",
    "loader"
   ]
  },
  {
   "cell_type": "markdown",
   "id": "94d95c58-a55e-4960-9f2c-94e65983a87a",
   "metadata": {},
   "source": [
    "[やさしくはじめるRemixとWeb - Speaker Deck](https://speakerdeck.com/takagimeow/yasasikuhazimeruremixtoweb)"
   ]
  },
  {
   "cell_type": "markdown",
   "id": "bfdef54f-429f-4f2e-b4a6-d77ea4925f25",
   "metadata": {},
   "source": [
    "## 評判\n",
    "\n",
    "- https://x.com/kenn/status/1816500405150609717\n",
    "  - Railsから移行しての感想"
   ]
  },
  {
   "cell_type": "markdown",
   "id": "ffbc9752-40ee-4324-a9fd-767ede891c98",
   "metadata": {},
   "source": []
  }
 ],
 "metadata": {
  "kernelspec": {
   "display_name": "Python 3 (ipykernel)",
   "language": "python",
   "name": "python3"
  },
  "language_info": {
   "codemirror_mode": {
    "name": "ipython",
    "version": 3
   },
   "file_extension": ".py",
   "mimetype": "text/x-python",
   "name": "python",
   "nbconvert_exporter": "python",
   "pygments_lexer": "ipython3",
   "version": "3.10.15"
  }
 },
 "nbformat": 4,
 "nbformat_minor": 5
}
