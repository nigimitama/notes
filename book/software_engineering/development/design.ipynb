{
 "cells": [
  {
   "cell_type": "markdown",
   "id": "8b9417e1-9181-493d-94de-700135c6c344",
   "metadata": {},
   "source": [
    "# 要件定義・設計"
   ]
  },
  {
   "cell_type": "markdown",
   "id": "af30ad70-d1a7-44eb-9e83-adf369e68b2c",
   "metadata": {},
   "source": [
    "## 要件定義\n",
    "\n",
    "[要件定義とはそもそも何か - Speaker Deck](https://speakerdeck.com/haru860/yao-jian-ding-yi-tohasomosomohe-ka)\n",
    "\n",
    "要件とは\n",
    "\n",
    "- 要求（Requirement）：製品またはプロセスの運用・機能・設計上の特性を識別する文\n",
    "- 要件：要求のうち、特に合理性や形式性を伴うことを強調するときに「要件」を用いる\n",
    "    - 機能要件：ソフトウェア開発時に定義される要件のうち、機能に関するもの。たとえば扱えるデータのタイプ、処理の内容、画面表示や出力の形式など\n",
    "    - 非機能要件：信頼性・セキュリティ・拡張性・運用性など\n",
    "\n",
    "要件定義TIPS\n",
    "\n",
    "- 業務やユースケースを理解してから開発しよう\n",
    "- ユースケース図だと情報が少ないので業務フロー図で表すとよい\n"
   ]
  },
  {
   "cell_type": "markdown",
   "id": "81e59c7a-0e56-4cc3-81cb-5fa67c31c1f8",
   "metadata": {},
   "source": [
    "## ドメイン駆動設計\n"
   ]
  },
  {
   "cell_type": "markdown",
   "id": "7dd8b4e9-c268-4ddc-bd9f-6d77be7e9884",
   "metadata": {},
   "source": [
    "- [Domain Driven Design（ドメイン駆動設計） Quickly 日本語版](https://www.infoq.com/jp/minibooks/domain-driven-design-quickly/#idp_register/)"
   ]
  },
  {
   "cell_type": "code",
   "execution_count": null,
   "id": "d957df9f-f457-47a6-9e4a-9888f272368a",
   "metadata": {},
   "outputs": [],
   "source": []
  }
 ],
 "metadata": {
  "kernelspec": {
   "display_name": "Python 3 (ipykernel)",
   "language": "python",
   "name": "python3"
  },
  "language_info": {
   "codemirror_mode": {
    "name": "ipython",
    "version": 3
   },
   "file_extension": ".py",
   "mimetype": "text/x-python",
   "name": "python",
   "nbconvert_exporter": "python",
   "pygments_lexer": "ipython3",
   "version": "3.10.14"
  }
 },
 "nbformat": 4,
 "nbformat_minor": 5
}
