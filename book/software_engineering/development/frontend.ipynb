{
 "cells": [
  {
   "cell_type": "markdown",
   "id": "c03ed691-dc76-4ddc-97d1-9bd604066056",
   "metadata": {},
   "source": [
    "# フロントエンド開発"
   ]
  },
  {
   "cell_type": "markdown",
   "id": "27507f90-bda3-4c72-8f63-539b5f614944",
   "metadata": {},
   "source": [
    "## UIライブラリ\n",
    "\n",
    "- [MUI (Material UI) の TextField のスタイルを整える ―― 例のﾁｮｺﾁｮｺ動くラベルを止める #React - Qiita](https://qiita.com/honey32/items/b3585b75307b865267aa)"
   ]
  },
  {
   "cell_type": "markdown",
   "id": "a084122c-efdd-45fa-ae5b-907f701238f3",
   "metadata": {},
   "source": [
    "## SPA\n",
    "\n",
    "- [SPAの歴史とRemix SPAモードという到達点 / the SPA's chronicle reaches to remix - Speaker Deck](https://speakerdeck.com/nkzn/the-spas-chronicle-reaches-to-remix)\n",
    "    - いろいろなフレームワークがざっくりまとめられている"
   ]
  },
  {
   "cell_type": "markdown",
   "id": "66618af5-add4-4aa4-87c3-f2e9ca080e01",
   "metadata": {},
   "source": [
    "## CSS\n",
    "\n",
    "### レスポンシブデザイン\n",
    "\n",
    "[レスポンシブデザイン - ウェブ開発を学ぶ | MDN](https://developer.mozilla.org/ja/docs/Learn/CSS/CSS_layout/Responsive_Design) が例もあり一番参考になりそう\n",
    "\n",
    "\n"
   ]
  },
  {
   "cell_type": "code",
   "execution_count": null,
   "id": "477d93ec-dfe9-46a6-8849-e771aedc4c18",
   "metadata": {},
   "outputs": [],
   "source": []
  }
 ],
 "metadata": {
  "kernelspec": {
   "display_name": "Python 3 (ipykernel)",
   "language": "python",
   "name": "python3"
  },
  "language_info": {
   "codemirror_mode": {
    "name": "ipython",
    "version": 3
   },
   "file_extension": ".py",
   "mimetype": "text/x-python",
   "name": "python",
   "nbconvert_exporter": "python",
   "pygments_lexer": "ipython3",
   "version": "3.10.13"
  }
 },
 "nbformat": 4,
 "nbformat_minor": 5
}
