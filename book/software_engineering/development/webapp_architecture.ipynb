{
 "cells": [
  {
   "cell_type": "markdown",
   "id": "29e7710f-8189-4a4b-abea-172cbd354202",
   "metadata": {},
   "source": [
    "# Web Application Architecture\n",
    "\n",
    "Webアプリの設計パラダイム"
   ]
  },
  {
   "cell_type": "markdown",
   "id": "240a2b64-d8d8-403a-b16c-3f95be3675d8",
   "metadata": {},
   "source": [
    "## Multi-Page App (MPA)\n",
    "\n",
    "ユーザーのリクエストを受けて、サーバー側でレンダリングしたHTMLを返す。\n",
    "\n",
    "UIの更新はページ遷移とともに行われる。\n",
    "\n",
    "\n",
    "（ユーザーによるデータの書き込みが成功したとき、リダイレクトが返答されるように作る必要があった。そうしないと履歴にPOSTリクエストが残り、「戻る」ボタンを押すと再びPOSTリクエストを送ることになる。\n",
    "たまに「ブラウザの\"戻る\"ボタンを押さないでください」と書いてあるサイトがあったのはこの問題のため。）\n"
   ]
  },
  {
   "cell_type": "markdown",
   "id": "2bc88e05-5864-4cec-8982-2595f38a78fb",
   "metadata": {},
   "source": [
    "## Progressively Enhanced Multi-Page App (PEMPA)\n",
    "\n",
    "**Progressively Enhanced Multi-Page App (PEMPA, 別名 “JavaScript Sprinkles”)** \n",
    "\n",
    "Progressive Enhancementは、ブラウザが持つ追加機能で体験を向上させるという考え方で、[2003年ごろに出てきた](https://www.hesketh.com/publications/progressive_enhancement_and_the_future_of_web_design.html)言葉\n",
    "\n",
    "AJAXは2005年には知名度のある言葉となっていた。しかし全員がJSを十分に使えるネットワーク環境である保証はないし、基本的にはMPAをベースにしつつ、JavaScriptはMPAの体験を向上させるためだけに補助的に使われていた。\n",
    "\n",
    "この時代では、jQueryやMooToolsなどが隆盛を誇っていた。\n",
    "\n",
    "例：Ruby on Rails + jQuery\n"
   ]
  },
  {
   "cell_type": "markdown",
   "id": "eba93507-7d50-4dc2-a6e0-219ec9d8809f",
   "metadata": {},
   "source": [
    "## Single Page App (SPA)\n",
    "\n",
    "`<div id=\"root\"></div>` が入ったhtmlをCDNから配信して、JavsScriptでコンテンツを埋めていくというスタイル。\n",
    "\n",
    "フレームワーク側の機能でStatic Site Generation (SSG) などの機能もある\n",
    "\n",
    "コードの重複が解消されてDeveloper Experience (DX) の向上には寄与したが、PEMPAと同様の問題が残った。\n",
    "\n",
    "2010年代半ばからSPAが主流になった。\n",
    "\n",
    "### SPAの問題\n",
    "\n",
    "1. バンドルサイズが大きい\n",
    "2. データをダウンロードするために、jsのコードを最初にダウンロードしないといけない、という依存関係によるパフォーマンス低下\n",
    "3. クライアントサイドのマシンスペックに依存する\n",
    "4. 状態管理\n"
   ]
  },
  {
   "cell_type": "markdown",
   "id": "d644e3dc-9e0f-4a88-a6ec-7d3eabea26d2",
   "metadata": {},
   "source": [
    "## Progressively Enhanced Single Page App (PESPA)\n",
    "\n",
    "SPAとMPAの長所を組み合わせる、という意味でのEnhanceがなされたSPA\n",
    "\n",
    "PESPAはブラウザの動作をエミュレートすることで、デフォルトの動作を阻止する。ブラウザでリクエストを行うかJavaScriptでfetchリクエストを送信するかにかかわらずサーバーサイドのコードは同じように動作することを保証する。\n",
    "\n",
    "サーバーでレンダリングを行い、クライアントでインタラクティブに動作する部分も含めて管理する。\n",
    "\n",
    "2020年に出たRemixがPESPAを先導するフレームワークであり、他には[SvelteKit](https://github.com/sveltejs/kit/discussions/5875)などもPESPAを取り入れようとしている\n",
    "\n",
    "### PESPA の特徴\n",
    "\n",
    "- 基本的な機能 - JSは強化するために使用されるもので、アプリの大部分はJavaScriptなしでも動作する\n",
    "- 遅延読み込み + インテリジェントなプリフェッチ (JS コード以上のもの)\n",
    "- コードをサーバーにプッシュする\n",
    "- UI コードの手動複製がない (PEMPA の場合など)\n",
    "- 透過的なブラウザエミュレーション (#useThePlatform)\n"
   ]
  },
  {
   "cell_type": "markdown",
   "id": "3666e70c-437a-4cdf-8bcb-0ad7988ceef9",
   "metadata": {},
   "source": [
    "\n",
    "### PESPAが解決したMPAの問題点\n",
    "\n",
    "#### 1. ページ全体の更新\n",
    "\n",
    "PESPAは、ブラウザのデフォルトの動作を阻止し、代わりにクライアントサイドでJavaScriptを使ってブラウザのエミュレートを行う。\n",
    "\n",
    "コード上では大した変化がないが、ユーザーの体験は向上する\n",
    "\n",
    "#### 2. UIフィードバックコントロール\n",
    "\n",
    "ブラウザのデフォルト動作を阻止し、fetchリクエストを行う\n",
    "\n",
    "### PESPAが解決したPEMPAの問題点\n",
    "\n",
    "#### 1. デフォルトの動作を防ぐ\n",
    "\n",
    "PESPA の核となる側面は、ルーティングとフォームに関してブラウザーとほぼ同じように動作すること。\n",
    "\n",
    "それにより、MPAの（シンプルな）メンタルモデルを実現できる。\n",
    "\n",
    "#### 2. コードの重複\n",
    "\n",
    "クライアントとサーバー間でコードを共有し、ブラウザーの動作をエミュレートする適切な抽象化を行うことで、コードの重複が回避され、また自分で記述しなければならないコードの量が大幅に削減される。\n",
    "\n",
    "#### 3. コード構成がシンプル\n",
    "\n",
    "PESPAにおけるブラウザのエミュレートがもたらすメンタルモデルによって、アプリケーションの状態管理は必要なくなりました。そのため、コード構成がとてもシンプルになりました。\n",
    "また、ネットワークを挟んだサーバーサイドとクライアントサイドの両側で、同じようにレンダリングロジックが処理されるため、無造作なDOMの変化を引き起こすことはないことが保証されています。\n",
    "\n",
    "#### 4. サーバーサイドとクライアントサイドの間における間接性\n",
    "\n",
    "PESPAがブラウザの動作をエミュレートすることで、フロントエンドとバックエンドのコードのコロケーションが可能となったため、間接性が解消され、生産性が大幅に向上した。"
   ]
  },
  {
   "cell_type": "markdown",
   "id": "fc05cc7b-dfeb-4f0e-9ced-c0488e233828",
   "metadata": {},
   "source": [
    "### PESPAが解決したSPAの問題点\n",
    "\n",
    "#### 1. バンドルサイズ\n",
    "\n",
    "PESPAに移行するためには、サーバーが必要となる。つまり、大量のコードをバックエンドに移動できる。\n",
    "\n",
    "これによって、本当にUIにとって必要なのは次の3点のみとなった：\n",
    "\n",
    "1. サーバーサイドとクライアントサイドの両方で実行可能な小さなUIライブラリ\n",
    "2. UIインタラクションとフィードバックを処理するための数行のコード\n",
    "3. コンポーネントのコード\n",
    "\n",
    "#### 2. ウォーターフォール\n",
    "\n",
    "PESPAの重要な点は、コードを実行しなくても、指定されたURLのコード、データ、アセット要件を特定することができること。\n",
    "\n",
    "つまり、コード分割に加えて、PESPA はコード、データ、アセットの取得を 1 つずつ順番に待つのではなく、一度にすべてトリガーできる。\n",
    "\n",
    "また、ユーザーがナビゲーションをトリガーする前にPESPA がこれらのものを事前にフェッチできるため、必要なときにブラウザーがすぐにそれらを返すことができ、アプリの使用体験全体が瞬時に感じられるようになる。\n",
    "\n",
    "#### 3. ランタイム・パフォーマンス\n",
    "\n",
    "PESPAでは、この分野において２つの利点を有しています。\n",
    "\n",
    "1. 多くのコードをサーバに移すことで、デバイスが最初に実行するコードの量を少なくできる\n",
    "2. プログレッシブ・エンハンスメントのおかげで、JavaScriptの読み込みと実行が終わる前にUIが使える状態になっている\n",
    "\n",
    "#### 4. 状態管理\n",
    "\n",
    "ブラウザのデフォルトの動作のエミュレートは、MPAのメンタルモデルである。\n",
    "\n",
    "これのおかげで、PESPAのコンテキストでは、アプリケーションの状態管理をほとんど気にする必要がなくなった。\n",
    "\n",
    "PESPAは、ミューテーションが完了すると、自動的にページ上に存在するデータの再検証を行う（MPAではページ全体を再読み込みすることでこれを行っていた）"
   ]
  },
  {
   "cell_type": "markdown",
   "id": "56686212-4fe5-4372-84f3-97db9f2160e4",
   "metadata": {},
   "source": [
    "## 参考\n",
    "\n",
    "- [The Web’s Next Transition | Epic Web Dev](https://www.epicweb.dev/the-webs-next-transition)\n",
    "    - 和訳：[Webの次世代アーキテクチャ - PESPA #JavaScript - Qiita](https://qiita.com/takagimeow/items/ac814c1e5b5d9e8a76e1)"
   ]
  }
 ],
 "metadata": {
  "kernelspec": {
   "display_name": "Python 3 (ipykernel)",
   "language": "python",
   "name": "python3"
  },
  "language_info": {
   "codemirror_mode": {
    "name": "ipython",
    "version": 3
   },
   "file_extension": ".py",
   "mimetype": "text/x-python",
   "name": "python",
   "nbconvert_exporter": "python",
   "pygments_lexer": "ipython3",
   "version": "3.10.15"
  }
 },
 "nbformat": 4,
 "nbformat_minor": 5
}
