{
 "cells": [
  {
   "cell_type": "markdown",
   "id": "9639ec45-f835-422c-ba8c-ed6e99091b23",
   "metadata": {},
   "source": [
    "# ネットワーク・通信"
   ]
  },
  {
   "cell_type": "markdown",
   "id": "645e261d-7248-40e5-babe-67ee3db5bf99",
   "metadata": {},
   "source": [
    "## OSI基本参照モデル\n",
    "\n",
    "- ネットワーク構造の設計指針である「OSI（Open Systems Interconnection：開放型システム間相互接続）」に基づいてネットワークの仕組みを7つの層に分類したもの\n"
   ]
  },
  {
   "cell_type": "markdown",
   "id": "585e4c18-138b-4f2e-9eba-abfabd45f5dc",
   "metadata": {},
   "source": [
    "| 階層  | 名称                 | プロトコルの例     | 役割                                                         |\n",
    "| ----- | -------------------- | ------------------ | ------------------------------------------------------------ |\n",
    "| 第7層 | アプリケーション層   | HTTP、FTP、SMTP    | アプリケーションに関する取り決め                             |\n",
    "| 第6層 | プレゼンテーション層 | FTP、SMTP          | 通信のためのデータ形式とアプリケーション層のデータ形式（文字コード、圧縮方式など）を相互に変換するための取り決め |\n",
    "| 第5層 | セッション層         | TLS                | アプリケーションごとに送信者と受信者が互いを確認してから通信（セッションを確立）するための取り決め |\n",
    "| 第4層 | トランスポート層     | TCP/IP、UDP        | ネットワーク層以下の層のデータが確実に受信者に届いていることを保証するための取り決め |\n",
    "| 第3層 | ネットワーク層       | IPv4、IPv6         | 中継装置（ルーター）を経由してデータを目的地まで伝送するための取り決め |\n",
    "| 第2層 | データリンク層       | Ethernet、Wi-fi    | 同じ種類の通信媒体（光ケーブル、無線など）で直接つながっているコンピュータ同士で通信するための取り決め |\n",
    "| 第1層 | 物理層               | 電話線、光ケーブル | 通信媒体に応じた信号の種類・内容やデータの伝送方法の取り決め |\n",
    "\n"
   ]
  },
  {
   "cell_type": "markdown",
   "id": "e09a2d36-421d-4cb2-9d77-8ad6b4302840",
   "metadata": {},
   "source": [
    "## HTTP\n",
    "\n",
    "TCPかTLS（暗号化されたTCP）を使用するアプリケーション層のプロトコル\n",
    "\n",
    "[HTTP の概要 - HTTP | MDN](https://developer.mozilla.org/ja/docs/Web/HTTP/Overview)"
   ]
  },
  {
   "cell_type": "markdown",
   "id": "9f42afef-128d-41c2-b867-df31500a3a82",
   "metadata": {},
   "source": [
    "## gRPC\n",
    "\n",
    "https://grpc.io/\n",
    "\n",
    "- デフォルトではプロトコルにHTTP/2を、データのシリアライズにProtocol Buffersを使用する\n",
    "- [サービス間通信のための新技術「gRPC」入門 | さくらのナレッジ](https://knowledge.sakura.ad.jp/24059/)\n",
    "\n",
    "\n"
   ]
  }
 ],
 "metadata": {
  "kernelspec": {
   "display_name": "Python 3 (ipykernel)",
   "language": "python",
   "name": "python3"
  },
  "language_info": {
   "codemirror_mode": {
    "name": "ipython",
    "version": 3
   },
   "file_extension": ".py",
   "mimetype": "text/x-python",
   "name": "python",
   "nbconvert_exporter": "python",
   "pygments_lexer": "ipython3",
   "version": "3.9.18"
  }
 },
 "nbformat": 4,
 "nbformat_minor": 5
}
