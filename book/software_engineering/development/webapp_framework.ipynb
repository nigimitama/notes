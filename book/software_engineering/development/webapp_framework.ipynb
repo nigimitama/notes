{
 "cells": [
  {
   "cell_type": "markdown",
   "id": "cdc704c8-7cef-4030-9124-84767e047b95",
   "metadata": {},
   "source": [
    "# Web Application Frameworks\n",
    "\n",
    "Webアプリ開発に使われるフレームワークについて"
   ]
  },
  {
   "cell_type": "markdown",
   "id": "f12f2c5b-6df1-4f46-a060-06cd02c0ed0b",
   "metadata": {},
   "source": [
    "## Ruby on Rails\n",
    "\n",
    "RubyのWebフレームワーク。2000年代は特に人気だった。\n",
    "MVCアーキテクチャで、PHPのLaravelやPythonのDjangoなど他言語のフレームワークへ強い影響を与えた\n",
    "\n",
    "コンセプト\n",
    "- Convention over Configuration（設定より規約）：設定ファイルのデフォルト値が重視され、規約（設定のデフォルト値）に従って作るとコード量を大きく節約できる設計\n",
    "- RESTful：URIはRESTに従って設定される\n"
   ]
  },
  {
   "cell_type": "markdown",
   "id": "83947245-fca2-423b-9660-009e46cfae35",
   "metadata": {},
   "source": [
    "## Next.js\n",
    "\n",
    "2024年現在圧倒的シェアを持つJavascriptのフレームワーク（[State of JavaScript 2024: Meta-Frameworks](https://2024.stateofjs.com/en-US/libraries/meta-frameworks/)）。\n",
    "\n",
    "- [Next.jsの考え方](https://zenn.dev/akfm/books/nextjs-basic-principle)\n",
    "- [知らないとあぶない？Next.jsセキュリティの話 - YouTube](https://www.youtube.com/watch?v=LolugLiLhHs&ab_channel=%E3%83%A0%E3%83%BC%E3%82%B6%E3%83%AB%E3%81%A1%E3%82%83%E3%82%93%E3%81%AD%E3%82%8B)\n",
    "- [\"use server\"; でexportした関数が意図せず？公開される](https://zenn.dev/moozaru/articles/b0ef001e20baaf)"
   ]
  },
  {
   "cell_type": "markdown",
   "id": "93fa0551-0a60-467b-bbea-3c5d98018335",
   "metadata": {},
   "source": [
    "### Next.jsのhosting\n",
    "\n",
    "1. Vercel: https://vercel.com/\n",
    "2. AWSやCloudflareもFaaSにNextjsを動かすadapterを提供している\n",
    "    - シンプルな使い方なら問題なさそうだがそれなりの規模のアプリだと妙なところでエラーになったりして難しい部分もある\n",
    "    - [Amplify](https://docs.amplify.aws/nextjs/build-a-backend/server-side-rendering/)\n",
    "    - [opennextjs-aws: Open-source Next.js adapter for AWS](https://github.com/opennextjs/opennextjs-aws?tab=readme-ov-file)\n",
    "    - [SST (serverless stack)](https://sst.dev/docs/start/aws/nextjs)\n",
    "    - [Next.js · Cloudflare Pages docs](https://developers.cloudflare.com/pages/framework-guides/nextjs/)\n",
    "\n"
   ]
  },
  {
   "cell_type": "markdown",
   "id": "00044f0a-43eb-4dde-bb50-a653f2a0f357",
   "metadata": {},
   "source": [
    "## Remix (React Router)\n",
    "\n",
    "RemixはJavascriptのWebフレームワークで、PESPA（Progressively Enhanced SPA) と呼ばれるタイプのバックエンドとフロントエンドの両方を扱うアーキテクチャになっている。\n",
    "\n",
    "> [Remix - Build Better Websites](https://remix.run/)\n",
    "\n",
    "Remixは2024年にReact Routerへ統合された\n",
    "\n",
    "> React Router v7 brings everything you love about Remix back into React Router proper. We encourage all Remix v2 users to upgrade to React Router v7.\n",
    "> https://remix.run/blog/react-router-v7\n",
    "\n"
   ]
  },
  {
   "cell_type": "markdown",
   "id": "08ffee5c-d500-4f45-b046-3ecfb85be8ce",
   "metadata": {},
   "source": [
    ":::{card} Tutorial / 解説\n",
    "\n",
    "- [Remix入門【はじめからそうやって教えてくれればいいのに！】](https://zenn.dev/ak/articles/cef68c1b67a314)\n",
    "- [やさしくはじめるRemixとWeb - Speaker Deck](https://speakerdeck.com/takagimeow/yasasikuhazimeruremixtoweb)\n",
    "- 公式の短いTutorial: [Quick Start (5m) | Remix](https://remix.run/docs/en/main/start/quickstart)\n",
    "- 公式のTutorial: [Tutorial (30m) | Remix](https://remix.run/docs/en/main/start/tutorial)\n",
    ":::"
   ]
  },
  {
   "cell_type": "markdown",
   "id": "43b11fa8-12b3-4276-9a53-072e897afad1",
   "metadata": {},
   "source": [
    "::::{dropdown} Remixの考え方\n",
    "\n",
    ":::{card} loader\n",
    "\n",
    "レンダリング時にデータを取得する（GETする）ための関数。\n",
    "\n",
    "**サーバ側で実行される** ので、SPAでありがちな「クライアント側からデータ取得のためAPIを叩くときにAPI-keyをどう秘匿するか」みたいな問題が解決される。\n",
    "\n",
    "ページごとに定義して使う。例えば、一覧ページ（例えば`posts.tsx`）では配列`Post[]`を返す`loader()`を定義し、詳細ページ（`posts.$postId.tsx`)では1つの要素（`Post`）を返す`loader()`を定義し、自分のcomponentの中で使う\n",
    "\n",
    "```tsx\n",
    "// loaderの例\n",
    "import { json } from \"@remix-run/node\";\n",
    "\n",
    "export const loader = async () => {\n",
    "  const response = await fetch(\"https://jsonplaceholder.typicode.com/posts?_limit=5\");\n",
    "  const posts = await response.json();\n",
    "  return json({ posts });\n",
    "};\n",
    "\n",
    "export default function App() {\n",
    "  const { posts } = useLoaderData<typeof loader>()\n",
    "```\n",
    "\n",
    ":::\n",
    "\n",
    "\n",
    ":::{card} action\n",
    "\n",
    "データを更新する（POST, DELETE, PUT, PATCH）ときに使う関数\n",
    ":::\n",
    "\n",
    "\n",
    ":::{card} Outlet\n",
    "\n",
    "親ルート内において、子ルートがレンダリングされる場所を示すために使われるコンポーネント\n",
    "\n",
    "```tsx\n",
    "import { Outlet } from \"@remix-run/react\"\n",
    "\n",
    "export default function App() {\n",
    "  return <Outlet />\n",
    "}\n",
    "```\n",
    ":::\n",
    "\n",
    "::::"
   ]
  },
  {
   "cell_type": "markdown",
   "id": "e0800cdc-cd91-41f0-bc19-615b7ac97d25",
   "metadata": {},
   "source": [
    "Remixの評判\n",
    "\n",
    "- https://x.com/kenn/status/1816500405150609717\n",
    "  - Railsから移行しての感想"
   ]
  },
  {
   "cell_type": "markdown",
   "id": "83b619e8-c2f9-478d-a57a-f860704fd1ea",
   "metadata": {},
   "source": [
    "Hosting\n",
    "- [2024年、Remixアプリはどこでホスティングされる？ - React Japan](https://react-japan.dev/blog/where-to-host-remix)"
   ]
  },
  {
   "cell_type": "markdown",
   "id": "48849251-0f81-4c50-8986-4599303e2999",
   "metadata": {},
   "source": [
    "SPA モード / React Router\n",
    "\n",
    "- [SPAの歴史とRemix SPAモードという到達点 / the SPA's chronicle reaches to remix - Speaker Deck](https://speakerdeck.com/nkzn/the-spas-chronicle-reaches-to-remix)\n",
    "    - いろいろなフレームワークがざっくりまとめられている"
   ]
  }
 ],
 "metadata": {
  "kernelspec": {
   "display_name": "Python 3 (ipykernel)",
   "language": "python",
   "name": "python3"
  },
  "language_info": {
   "codemirror_mode": {
    "name": "ipython",
    "version": 3
   },
   "file_extension": ".py",
   "mimetype": "text/x-python",
   "name": "python",
   "nbconvert_exporter": "python",
   "pygments_lexer": "ipython3",
   "version": "3.10.18"
  }
 },
 "nbformat": 4,
 "nbformat_minor": 5
}
