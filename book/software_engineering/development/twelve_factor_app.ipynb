{
 "cells": [
  {
   "cell_type": "markdown",
   "id": "4e9aaf00-91cf-4664-9d96-b30441f7c02f",
   "metadata": {},
   "source": [
    "# Twelve-Factor App"
   ]
  },
  {
   "cell_type": "markdown",
   "id": "1d7c8ed6-adf0-4663-a902-3a6be8e92f27",
   "metadata": {},
   "source": [
    "Webアプリ開発のベスト・プラクティスとされる方法論"
   ]
  },
  {
   "cell_type": "markdown",
   "id": "21bbb1c7-31a1-4314-b14b-af6fd265bad1",
   "metadata": {},
   "source": [
    ":::{admonition} The Twelve Factors\n",
    "\n",
    "1. **コードベース（codebase）**\n",
    "    - バージョン管理されている1つのコードベースと複数のデプロイ\n",
    "    - codebaseはroot commitを共有する単一か複数のリポジトリのこと → コードベースは1つ、デプロイ（prd, stg, dev, ...）は複数\n",
    "2. **依存関係（dependencies）**\n",
    "    - 依存関係を明示的に宣言し分離する\n",
    "    - 依存関係の宣言マニフェスト：RubyのGemfileやPythonのPipなど\n",
    "    - 依存関係の分離：Rubyの `bundle exec` や Pythonの`venv`\n",
    "3. **設定（config）**\n",
    "    - ここでの「設定」はデプロイ（開発、本番など）間で異なりうるもののことを指す。例えばDB・S3などの認証情報、ホスト名など。\n",
    "    - Twelve-Factor Appでは設定は環境変数に格納する。\n",
    "4. **バックエンドサービス（backing service）**\n",
    "    - バックエンドサービス（データストア、メッセージキューイングなど）をローカルで自らが管理するサービスと区別せず、アタッチされたリソースとして扱う\n",
    "5. **ビルド、リリース、実行（build, release, run）**\n",
    "    - ビルド、リリース、実行の3つのステージを厳密に分離する\n",
    "6. **プロセス（processes）**\n",
    "    - アプリケーションを1つもしくは複数のステートレスなプロセスとして実行する\n",
    "    - 永続化が必要なデータは、ステートフルなバックエンドサービス（典型的にはDB）に格納する\n",
    "7. **ポートバインディング（port binding）**\n",
    "    - ポートバインディングを通してサービスを公開する\n",
    "8. **並行性（concurrency）**\n",
    "    - プロセスモデルによってスケールアウトする\n",
    "9. **廃棄容易性（disposability）**\n",
    "    - 高速な起動とグレースフルシャットダウンで堅牢性を最大化する\n",
    "    - グレースフルシャットダウン：サービスポートのリッスンを中止し（従って新しいリクエストを拒み）、処理中のリクエストが終了するまで待ち、シャットダウンする。ダウンタイムが最小限になる\n",
    "10. **開発/本番一致（dev/prod parity）**\n",
    "    - 開発、ステージング、本番環境をできるだけ一致させた状態を保つ\n",
    "11. **ログ（logs）**\n",
    "    - ログをイベントストリームとして扱う\n",
    "12. **管理プロセス（admin processes）**\n",
    "    - 管理タスクを1回限りのプロセスとして実行する\n",
    "    - 管理タスク：Railsの`rails db:migrate`などのメンテナンス用のコマンドなど\n",
    "    - これはアプリを提供するときのプロセスと同じコードベース上で1回限り実行されるべきである\n",
    ":::"
   ]
  },
  {
   "cell_type": "markdown",
   "id": "38cdb10b-2701-4916-adaf-17350190db10",
   "metadata": {},
   "source": [
    "## 参考\n",
    "\n",
    "- [The Twelve-Factor App （日本語訳）](https://12factor.net/ja/)\n",
    "- [AWSで実現するモダンアプリケーション入門](https://www.amazon.co.jp/dp/B0BRPRQFMH)\n",
    "    - まだ読めてないがBeyond twelve-factor appというセクションもある"
   ]
  }
 ],
 "metadata": {
  "kernelspec": {
   "display_name": "Python 3 (ipykernel)",
   "language": "python",
   "name": "python3"
  },
  "language_info": {
   "codemirror_mode": {
    "name": "ipython",
    "version": 3
   },
   "file_extension": ".py",
   "mimetype": "text/x-python",
   "name": "python",
   "nbconvert_exporter": "python",
   "pygments_lexer": "ipython3",
   "version": "3.10.15"
  }
 },
 "nbformat": 4,
 "nbformat_minor": 5
}
