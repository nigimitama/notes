{
 "cells": [
  {
   "cell_type": "markdown",
   "id": "9eecf4ea-c8b8-4d69-b24c-e3af8ea438ae",
   "metadata": {},
   "source": [
    "# Platform Engineering"
   ]
  },
  {
   "cell_type": "markdown",
   "id": "98f14663-e86a-49ab-b106-a831f9f2538b",
   "metadata": {},
   "source": [
    "開発者に向けて、開発を効率化するプラットフォーム（開発環境、サンプルコード、CI/CDなど）を提供する。\n",
    "\n",
    "もともとGartnerが提唱した言葉\n",
    "\n",
    "> 目標は、摩擦のないセルフサービス型の開発者エクスペリエンスを実現し、開発者などのエンドユーザーが可能な限り最小限の負荷で価値の高いソフトウェアを作成できるように、適切な能力を提供することです。したがってプラットフォームには、開発者の生産性を高め、認知面での負担を軽減することが求められます。また、開発チームが必要とするものすべてを、チームが希望するワークフローに最も適した方法で提供することも必要です。\n",
    ">\n",
    "> [プラットフォーム・エンジニアリングとは何か？ | ガートナー](https://www.gartner.co.jp/ja/articles/what-is-platform-engineering)\n"
   ]
  },
  {
   "cell_type": "markdown",
   "id": "b106f95b-e772-4961-9768-0f40fee92dd0",
   "metadata": {},
   "source": [
    ":::{admonition} 具体例\n",
    ":class: info\n",
    "\n",
    "[「社内でのサーバーレスアプリケーション開発を、プラットフォームエンジニアリングを整備して迅速化・安定化させる取り組み」というテーマでServerlessDays Tokyo 2024 に登壇しました | DevelopersIO](https://dev.classmethod.jp/articles/serverlessdays-tokyo-2024-wakatsuki-serverless-development-platform-engineering/)\n",
    "\n",
    "Classmethod社内のLambdaによるサーバレスアプリケーションのアーキテクチャのパターンを共通化してサンプルコードとして提供した話\n",
    "\n",
    ":::"
   ]
  },
  {
   "cell_type": "markdown",
   "id": "da670832-9837-4386-9331-2af8e19c8a70",
   "metadata": {},
   "source": [
    "## 参考\n",
    "\n",
    "- [Platform Engineering と SRE の門 - Speaker Deck](https://speakerdeck.com/nwiizo/platform-engineering-to-sre-nomen?slide=26)"
   ]
  }
 ],
 "metadata": {
  "kernelspec": {
   "display_name": "Python 3 (ipykernel)",
   "language": "python",
   "name": "python3"
  },
  "language_info": {
   "codemirror_mode": {
    "name": "ipython",
    "version": 3
   },
   "file_extension": ".py",
   "mimetype": "text/x-python",
   "name": "python",
   "nbconvert_exporter": "python",
   "pygments_lexer": "ipython3",
   "version": "3.10.15"
  }
 },
 "nbformat": 4,
 "nbformat_minor": 5
}
