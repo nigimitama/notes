{
 "cells": [
  {
   "cell_type": "markdown",
   "id": "81e59c7a-0e56-4cc3-81cb-5fa67c31c1f8",
   "metadata": {},
   "source": [
    "# ドメイン駆動設計"
   ]
  },
  {
   "cell_type": "markdown",
   "id": "7dd8b4e9-c268-4ddc-bd9f-6d77be7e9884",
   "metadata": {},
   "source": [
    "- [Domain Driven Design（ドメイン駆動設計） Quickly 日本語版](https://www.infoq.com/jp/minibooks/domain-driven-design-quickly/#idp_register/)"
   ]
  },
  {
   "cell_type": "code",
   "execution_count": null,
   "id": "d957df9f-f457-47a6-9e4a-9888f272368a",
   "metadata": {},
   "outputs": [],
   "source": []
  }
 ],
 "metadata": {
  "kernelspec": {
   "display_name": "Python 3 (ipykernel)",
   "language": "python",
   "name": "python3"
  },
  "language_info": {
   "codemirror_mode": {
    "name": "ipython",
    "version": 3
   },
   "file_extension": ".py",
   "mimetype": "text/x-python",
   "name": "python",
   "nbconvert_exporter": "python",
   "pygments_lexer": "ipython3",
   "version": "3.9.18"
  }
 },
 "nbformat": 4,
 "nbformat_minor": 5
}
