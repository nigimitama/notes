{
 "cells": [
  {
   "cell_type": "markdown",
   "id": "509d224e-d4ce-4f86-b1a9-c6bd28496f5a",
   "metadata": {},
   "source": [
    "# データストア（ストレージ・RDB）\n",
    "\n",
    ":::{tableofcontents}\n",
    "\n",
    ":::"
   ]
  }
 ],
 "metadata": {
  "kernelspec": {
   "display_name": "Python 3 (ipykernel)",
   "language": "python",
   "name": "python3"
  },
  "language_info": {
   "codemirror_mode": {
    "name": "ipython",
    "version": 3
   },
   "file_extension": ".py",
   "mimetype": "text/x-python",
   "name": "python",
   "nbconvert_exporter": "python",
   "pygments_lexer": "ipython3",
   "version": "3.10.14"
  }
 },
 "nbformat": 4,
 "nbformat_minor": 5
}
