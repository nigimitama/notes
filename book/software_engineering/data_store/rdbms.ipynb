{
 "cells": [
  {
   "cell_type": "markdown",
   "id": "1804b0fa-22eb-42bb-8f09-5b6981585618",
   "metadata": {},
   "source": [
    "# RDBMS"
   ]
  },
  {
   "cell_type": "markdown",
   "id": "9b99c4d7-fe55-4f9c-88de-7e1826c6bf3f",
   "metadata": {},
   "source": [
    "## インデックス\n",
    "\n",
    "インデックスを貼ると、基本的にはデータがB-tree構造で保持されて$O(n)$ではなく$O(\\log n)$で検索できるようになる。\n",
    "よって、WHERE句などで特定の値を検索されるカラムはインデックスを張ったほうがよい。\n",
    "\n",
    "### 複合インデックス\n",
    "\n",
    "複数のカラムにまたがって作成するインデックスを **複合インデックス** (composite index)という。\n",
    "WHERE句で複数のカラムを条件に使う場合、それらを含む複合インデックスを張っておくと検索を高速化できる。\n",
    "\n",
    "### カーディナリティの高い列にインデックスを張る\n",
    "\n",
    "値の種類が多いもの（例えば建物のテーブルにおける市区町村idなど）で絞り込むと効率的にレコード数を減らせる。\n",
    "そうしたカラムに優先的にインデックスを貼り、WHERE句の条件でも使う。\n",
    "\n",
    ":::{card} 例\n",
    "\n",
    "クエリ側も絡めた話になるが、例えば日本全国の建物を含むbuildingsというテーブルがあったとして、\n",
    "\n",
    "```sql\n",
    "SELECT *\n",
    "FROM buildings\n",
    "WHERE \"総階数\" <= 10\n",
    "AND \"竣工年\" BETWEEN 2000 AND 2025\n",
    "AND \"市区町村id\" = 11000\n",
    "```\n",
    "\n",
    "のような絞り込み条件だと、総階数と竣工年で絞った時点で残っている物件がまだまだあり、最後に市区町村で絞るのが遅い。代わりに\n",
    "\n",
    "```sql\n",
    "SELECT *\n",
    "FROM buildings\n",
    "WHERE \"市区町村id\" = 11000\n",
    "AND \"総階数\" <= 10\n",
    "AND \"竣工年\" BETWEEN 2000 AND 2025\n",
    "```\n",
    "\n",
    "のように市区町村idで絞り込めば、もっと効率的になる可能性が高い\n",
    ":::\n",
    "\n",
    "### 参考\n",
    "- [DBにおけるインデックス設計入門](https://zenn.dev/yuki_tu/articles/c0a11385a33e0c)\n",
    "- [DBのインデックスを理解しよう #MySQL - Qiita](https://qiita.com/masayasviel/items/b4f2fe76235f30270b07)"
   ]
  },
  {
   "cell_type": "markdown",
   "id": "095125e3-161e-40d2-b2eb-f1ace919ecf1",
   "metadata": {},
   "source": [
    "## 結果整合性\n",
    "\n",
    "- [増永教授のDB特論⑪「結果整合性」](https://www.sraoss.co.jp/tech-blog/db-special-lecture/masunaga-db-special-lecture-11/)"
   ]
  }
 ],
 "metadata": {
  "kernelspec": {
   "display_name": "Python 3 (ipykernel)",
   "language": "python",
   "name": "python3"
  },
  "language_info": {
   "codemirror_mode": {
    "name": "ipython",
    "version": 3
   },
   "file_extension": ".py",
   "mimetype": "text/x-python",
   "name": "python",
   "nbconvert_exporter": "python",
   "pygments_lexer": "ipython3",
   "version": "3.10.14"
  }
 },
 "nbformat": 4,
 "nbformat_minor": 5
}
