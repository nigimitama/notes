{
 "cells": [
  {
   "cell_type": "markdown",
   "id": "5c7c0838-aea1-4ff4-9f4a-beb5742be5e1",
   "metadata": {},
   "source": [
    "# Web最適化\n",
    "\n"
   ]
  },
  {
   "cell_type": "markdown",
   "id": "0c7d8f5c-1e8f-49bf-8918-08cc0d680bb9",
   "metadata": {},
   "source": [
    "[売り上げに直結するデザイン施策 | ドクセル](https://www.docswell.com/s/mountainboooy/KEXNG6-2024-08-26-133113)\n",
    "\n",
    "- 無料トライアルを経験したユーザーは、経験しなかったユーザーに比べてCVRが4倍\n",
    "    - トライアルの費用やキャンセル方法などの問い合わせが多いことから、文言の変更なども行っていった"
   ]
  }
 ],
 "metadata": {
  "kernelspec": {
   "display_name": "Python 3 (ipykernel)",
   "language": "python",
   "name": "python3"
  },
  "language_info": {
   "codemirror_mode": {
    "name": "ipython",
    "version": 3
   },
   "file_extension": ".py",
   "mimetype": "text/x-python",
   "name": "python",
   "nbconvert_exporter": "python",
   "pygments_lexer": "ipython3",
   "version": "3.10.14"
  }
 },
 "nbformat": 4,
 "nbformat_minor": 5
}
