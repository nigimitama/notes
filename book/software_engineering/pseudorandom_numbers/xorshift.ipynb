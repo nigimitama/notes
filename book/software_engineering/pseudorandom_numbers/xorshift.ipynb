{
 "cells": [
  {
   "cell_type": "markdown",
   "id": "55886c41-e6c2-461a-afa4-d6b2053cf15f",
   "metadata": {},
   "source": [
    "# Xorshift\n",
    "\n",
    "**Xorshift** は疑似乱数列生成法の1つ。\n",
    "\n",
    "排他的論理和とビットシフトのみで計算するため、計算が高速で、実装もしやすい。\n",
    "\n",
    "[Xorshift - Wikipedia](https://ja.wikipedia.org/wiki/Xorshift)"
   ]
  },
  {
   "cell_type": "markdown",
   "id": "2ac22eac-c480-4d7a-ad9e-fcd61c3a0666",
   "metadata": {},
   "source": [
    "## 実装"
   ]
  },
  {
   "cell_type": "markdown",
   "id": "71558292-7a0c-4041-996b-95928c6ed3e1",
   "metadata": {},
   "source": [
    "### Python"
   ]
  },
  {
   "cell_type": "markdown",
   "id": "3e8a04fa-16dc-42c0-8f97-f531dccaf1cc",
   "metadata": {},
   "source": [
    ":::{margin}\n",
    "\n",
    "参考：[Python ビット演算 超入門 #Python - Qiita](https://qiita.com/7shi/items/41d262ca11ea16d85abc)\n",
    "\n",
    ":::"
   ]
  },
  {
   "cell_type": "code",
   "execution_count": 7,
   "id": "c70a7152-3a2b-4114-bc8e-641bd83565d5",
   "metadata": {},
   "outputs": [
    {
     "data": {
      "text/plain": [
       "12"
      ]
     },
     "execution_count": 7,
     "metadata": {},
     "output_type": "execute_result"
    }
   ],
   "source": [
    "0b1010 ^ 0b110"
   ]
  },
  {
   "cell_type": "code",
   "execution_count": null,
   "id": "ce93d2f9-325f-4698-81f4-53098faaa96e",
   "metadata": {},
   "outputs": [],
   "source": [
    "class Xorshift:\n",
    "    \n",
    "    def __init__(self, seed: int = 0):\n",
    "        self."
   ]
  },
  {
   "cell_type": "markdown",
   "id": "3f44d16b-3c79-4aca-bf19-7c369edcdde0",
   "metadata": {},
   "source": [
    "### JavaScript\n",
    "\n",
    "JSの`Math.random()`はseedを固定できないが、Xorshiftなどでseedが指定可能な疑似乱数生成を実装することでJSでも再現性のある乱数が利用可能になる\n",
    "\n",
    "```js\n",
    "class Random {\n",
    "  constructor(seed = 88675123) {\n",
    "    this.x = 123456789;\n",
    "    this.y = 362436069;\n",
    "    this.z = 521288629;\n",
    "    this.w = seed;\n",
    "  }\n",
    "  \n",
    "  // XorShift\n",
    "  next() {\n",
    "    let t;\n",
    " \n",
    "    t = this.x ^ (this.x << 11);\n",
    "    this.x = this.y; this.y = this.z; this.z = this.w;\n",
    "    return this.w = (this.w ^ (this.w >>> 19)) ^ (t ^ (t >>> 8)); \n",
    "  }\n",
    "  \n",
    "  // min以上max以下の乱数を生成する\n",
    "  nextInt(min, max) {\n",
    "    const r = Math.abs(this.next());\n",
    "    return min + (r % (max + 1 - min));\n",
    "  }\n",
    "}\n",
    "```\n",
    "\n",
    "```js\n",
    "const seed = 1;\n",
    "const random = new Random(seed);\n",
    "console.log(random.nextInt(2, 10));\n",
    "> 5\n",
    "```\n",
    "\n",
    "出所：[JavaScriptで再現性のある乱数を生成する + 指定した範囲の乱数を生成する](https://sbfl.net/blog/2017/06/01/javascript-reproducible-random/)\n",
    "\n"
   ]
  },
  {
   "cell_type": "code",
   "execution_count": null,
   "id": "72381a42-ce28-4f2e-b2af-01fc319cbb99",
   "metadata": {},
   "outputs": [],
   "source": []
  },
  {
   "cell_type": "markdown",
   "id": "0d891126-448f-4762-b2bd-f67808da6599",
   "metadata": {},
   "source": [
    "## 問題点\n",
    "\n",
    "[乱数アルゴリズムXorshiftの弱点と改善案 #ゲーム制作 - Qiita](https://qiita.com/Shinoda_Naoki/items/5208b295d633df0aab47)"
   ]
  },
  {
   "cell_type": "markdown",
   "id": "2f59f094-bc53-4955-9c9c-6664a01c5c19",
   "metadata": {},
   "source": [
    "## 派生アルゴリズム\n",
    "\n",
    "- [XORSHIFT-ADD (XSadd)](http://www.math.sci.hiroshima-u.ac.jp/m-mat/MT/XSADD/index-jp.html)\n",
    "- [xoshiro/xoroshiro](https://prng.di.unimi.it/)\n",
    "    - xoshiro (xor-shift-rotate)\n",
    "    - xoroshiro (xor-rotate-shift-rotate )\n"
   ]
  },
  {
   "cell_type": "markdown",
   "id": "5b822957-31d2-41cb-87b0-9fa6bd3125cd",
   "metadata": {},
   "source": [
    "## 応用例\n",
    "\n",
    "GoogleのV8における `Math.random()` は32ビットのXorshiftを採用しているらしい\n",
    "\n",
    "[Google Chromeが採用した、擬似乱数生成アルゴリズム「xorshift」の数理 – びりあるの研究ノート](https://blog.visvirial.com/articles/575)"
   ]
  },
  {
   "cell_type": "markdown",
   "id": "09c01612-b034-49d7-8932-ddfa54e86eaf",
   "metadata": {},
   "source": [
    "## 参考\n",
    "\n",
    "- [良い xorshift、悪い xorshift](https://www.cepstrum.co.jp/hobby/xorshift/xorshift.html)\n",
    "- [Xorshift から派生した擬似乱数生成器 #Random - Qiita](https://qiita.com/Nabetani/items/f8357e736f989633a2c0)"
   ]
  },
  {
   "cell_type": "code",
   "execution_count": null,
   "id": "87073a3b-558a-4a54-8cdc-8943025f7c02",
   "metadata": {},
   "outputs": [],
   "source": []
  }
 ],
 "metadata": {
  "kernelspec": {
   "display_name": "Python 3 (ipykernel)",
   "language": "python",
   "name": "python3"
  },
  "language_info": {
   "codemirror_mode": {
    "name": "ipython",
    "version": 3
   },
   "file_extension": ".py",
   "mimetype": "text/x-python",
   "name": "python",
   "nbconvert_exporter": "python",
   "pygments_lexer": "ipython3",
   "version": "3.10.14"
  }
 },
 "nbformat": 4,
 "nbformat_minor": 5
}
