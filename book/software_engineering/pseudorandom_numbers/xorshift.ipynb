{
 "cells": [
  {
   "cell_type": "markdown",
   "id": "55886c41-e6c2-461a-afa4-d6b2053cf15f",
   "metadata": {},
   "source": [
    "# Xorshift\n",
    "\n",
    "**Xorshift** は疑似乱数列生成法の1つ。\n",
    "\n",
    "排他的論理和とビットシフトのみで計算するため、計算が高速で、実装もしやすい。\n",
    "\n",
    "\n",
    "[Marsaglia, G. (2003). Xorshift rngs. Journal of Statistical software, 8, 1-6.](https://www.jstatsoft.org/article/view/v008i14)"
   ]
  },
  {
   "cell_type": "markdown",
   "id": "c794bc0e-03f2-4f19-8f3e-606113f8c5cc",
   "metadata": {},
   "source": [
    "## 理論"
   ]
  },
  {
   "cell_type": "markdown",
   "id": "204c3700-e054-44d8-b160-7489740882c3",
   "metadata": {},
   "source": [
    "### 排他的論理和\n",
    "\n",
    "排他的論理和（XOR）は、2つの演算対象のうち片方だけが真（1）であれば真（1）になる演算。多くの言語で`^`が演算子になる。\n",
    "\n",
    "| x    | y    | XOR       |\n",
    "| ---- | ---- | :-------- |\n",
    "| 0    | 0    | 0 ^ 0 = 0 |\n",
    "| 0    | 1    | 0 ^ 1 = 1 |\n",
    "| 1    | 0    | 1 ^ 0 = 1 |\n",
    "| 1    | 1    | 1 ^ 1 = 0 |\n",
    "\n",
    "2進数の1桁だけを見る（変数が$\\{0,1\\}$のいずれかの値をとり、2になったら0になるとする）と、XORは足し算のようになっている。\n",
    "\n",
    "| x    | y    | XOR       | 足し算        |\n",
    "| ---- | ---- | :-------- | ------------- |\n",
    "| 0    | 0    | 0 ^ 0 = 0 | 0 + 0 = 0     |\n",
    "| 0    | 1    | 0 ^ 1 = 1 | 0 + 1 = 1     |\n",
    "| 1    | 0    | 1 ^ 0 = 1 | 1 + 0 = 1     |\n",
    "| 1    | 1    | 1 ^ 1 = 0 | 1 + 1 = 2 → 0 |\n",
    "\n",
    "\n",
    "#### プログラミングでの表現\n",
    "\n",
    "2進数 `0b0101` (=5)と `0b0011` (=3) のXORは `0b0110` (=6)になる"
   ]
  },
  {
   "cell_type": "code",
   "execution_count": 30,
   "id": "c3b3d4d3-daf6-439c-ba72-c128a5ab84ff",
   "metadata": {},
   "outputs": [
    {
     "name": "stdout",
     "output_type": "stream",
     "text": [
      "6 0b110\n"
     ]
    }
   ],
   "source": [
    "y = 0b0101 ^ 0b0011\n",
    "print(y, bin(y))"
   ]
  },
  {
   "cell_type": "markdown",
   "id": "0f58ac87-1aca-46b3-9e17-f8595c68dbbb",
   "metadata": {},
   "source": [
    "### ビットシフト\n",
    "\n",
    "ビットシフトは、ビット列の中身を左右に移動させる操作。\n"
   ]
  },
  {
   "cell_type": "code",
   "execution_count": 34,
   "id": "364ddcc4-38f5-45dd-a470-d1207c567896",
   "metadata": {},
   "outputs": [
    {
     "data": {
      "text/plain": [
       "6"
      ]
     },
     "execution_count": 34,
     "metadata": {},
     "output_type": "execute_result"
    }
   ],
   "source": [
    "# 0b11 (=3) を左に1桁ずらして 0b110(=6) にする\n",
    "0b11 << 1"
   ]
  },
  {
   "cell_type": "markdown",
   "id": "1a0ef5fd-c65f-44b8-b9d8-a3f326a66bb3",
   "metadata": {},
   "source": [
    "### Xorshift\n",
    "\n",
    "Xorshift内で用いられる基本的なシフト演算は\n",
    "\n",
    "```python\n",
    "x ^ (x << a)\n",
    "```\n",
    "\n",
    "という演算になる（シフトは右シフトでもかまわない）\n"
   ]
  },
  {
   "cell_type": "code",
   "execution_count": 35,
   "id": "0ad9d82e-18d4-4f5d-b015-008c359397d1",
   "metadata": {},
   "outputs": [
    {
     "data": {
      "text/plain": [
       "330"
      ]
     },
     "execution_count": 35,
     "metadata": {},
     "output_type": "execute_result"
    }
   ],
   "source": [
    "x = 10\n",
    "a = 5\n",
    "\n",
    "x ^ (x << a)"
   ]
  },
  {
   "cell_type": "markdown",
   "id": "53c5c766-8859-43fb-b832-a13200dbde88",
   "metadata": {},
   "source": [
    "## Xorshiftの数学的表現"
   ]
  },
  {
   "cell_type": "markdown",
   "id": "8ec57952-602a-44e8-9366-d03ddbf46299",
   "metadata": {},
   "source": [
    "### XOR演算のベクトル表現\n",
    "\n",
    "2進数のビット列をベクトルで表すと、XOR演算が足し算という話は、単純にベクトルの和の演算に対応する。\n",
    "\n",
    "$$\n",
    "\\left[\\begin{array}{l}\n",
    "0 \\\\\n",
    "1 \\\\\n",
    "0 \\\\\n",
    "1\n",
    "\\end{array}\\right]+\\left[\\begin{array}{l}\n",
    "1 \\\\\n",
    "0 \\\\\n",
    "1 \\\\\n",
    "1\n",
    "\\end{array}\\right]=\\left[\\begin{array}{l}\n",
    "0 \\\\\n",
    "1 \\\\\n",
    "1 \\\\\n",
    "0\n",
    "\\end{array}\\right]\n",
    "$$\n"
   ]
  },
  {
   "cell_type": "markdown",
   "id": "aa20b900-29a8-4c27-8b9a-5d05eaf43799",
   "metadata": {},
   "source": [
    "### ビットシフトの行列表現\n",
    "\n",
    "ビット列をベクトルで表現し、ビットシフト演算を行列で表現することもできる。\n",
    "\n",
    "例えば、1ビットの左シフトは\n",
    "\n",
    "$$\n",
    "L_1:=\\left[\\begin{array}{llll}\n",
    "0 & 1 & 0 & 0 \\\\\n",
    "0 & 0 & 1 & 0 \\\\\n",
    "0 & 0 & 0 & 1 \\\\\n",
    "0 & 0 & 0 & 0\n",
    "\\end{array}\\right]\n",
    "$$\n",
    "\n",
    "という行列で表される。\n",
    "\n",
    "例えば、`0b0110`のベクトルに対して掛けると`0b1100`になる\n",
    "\n",
    "$$\n",
    "\\left[\\begin{array}{llll}\n",
    "0 & 1 & 0 & 0 \\\\\n",
    "0 & 0 & 1 & 0 \\\\\n",
    "0 & 0 & 0 & 1 \\\\\n",
    "0 & 0 & 0 & 0\n",
    "\\end{array}\\right]\n",
    "\\left[\\begin{array}{l}\n",
    "0 \\\\\n",
    "1 \\\\\n",
    "1 \\\\\n",
    "0\n",
    "\\end{array}\\right]\n",
    "= \n",
    "\\left[\\begin{array}{l}\n",
    "1 \\\\\n",
    "1 \\\\\n",
    "0 \\\\\n",
    "0\n",
    "\\end{array}\\right]\n",
    "$$"
   ]
  },
  {
   "cell_type": "markdown",
   "id": "da3a8bbd-2efe-4562-80c9-5d5c919e8dd4",
   "metadata": {},
   "source": [
    "### Xorshiftの行列表現\n",
    "\n",
    "XORとビットシフトがベクトルや行列で表現できるため、Xorshiftの基本操作も行列で表すことができる。\n",
    "\n",
    "ビット列のベクトル$x, y$についてのXOR演算 `x ^ y` のベクトル表現は$x + y$となる。\n",
    "\n",
    "ビット列ベクトルを$x$とし、$a$ビットの左シフト演算を表す行列を$L_a$とすると、ビットシフト演算 `x << a` は $L_a x$で表すことができる。\n",
    "\n",
    "なので`x ^ (x << a)` は\n",
    "\n",
    "$$\n",
    "x + (L_a x) = (I + L_a x) x\n",
    "$$\n",
    "\n",
    "となる。ここで$I$は単位行列。\n",
    "\n",
    "$T := (I + L_a x)$とおくと、この行列$T$の性質が乱数生成器としての性質に関わる。\n",
    "\n",
    "- $T$が可逆なら出力値も一様である\n",
    "- $T$の位数（order、その行列を何回掛けたら単位行列になるか）が乱数の周期に関係する\n",
    "\n",
    "などがある（[Google Chromeが採用した、擬似乱数生成アルゴリズム「xorshift」の数理 – びりあるの研究ノート](https://blog.visvirial.com/articles/575)）"
   ]
  },
  {
   "cell_type": "markdown",
   "id": "2ac22eac-c480-4d7a-ad9e-fcd61c3a0666",
   "metadata": {},
   "source": [
    "## 実装"
   ]
  },
  {
   "cell_type": "markdown",
   "id": "71558292-7a0c-4041-996b-95928c6ed3e1",
   "metadata": {},
   "source": [
    "### Python"
   ]
  },
  {
   "cell_type": "markdown",
   "id": "3e8a04fa-16dc-42c0-8f97-f531dccaf1cc",
   "metadata": {},
   "source": [
    ":::{margin}\n",
    "\n",
    "参考：[Python ビット演算 超入門 #Python - Qiita](https://qiita.com/7shi/items/41d262ca11ea16d85abc)\n",
    "\n",
    ":::"
   ]
  },
  {
   "cell_type": "code",
   "execution_count": 48,
   "id": "86394630-fbcd-4e11-8f23-8073490c601b",
   "metadata": {},
   "outputs": [
    {
     "name": "stdout",
     "output_type": "stream",
     "text": [
      "6193530\n",
      "732828797610\n",
      "108066598636560197\n",
      "12399238436484378965293\n",
      "1828241189597628788155767877\n"
     ]
    }
   ],
   "source": [
    "class Xorshift64:\n",
    "    \n",
    "    def __init__(self, seed: int = 0):\n",
    "        self.state = seed\n",
    "\n",
    "    def gen(self):\n",
    "        # https://www.cepstrum.co.jp/hobby/xorshift/xorshift.html にて「特性が良い」とされるパラメータ (3, 35, 14)を使用\n",
    "        x = self.state\n",
    "        x ^= (x << 3)\n",
    "        x ^= (x >> 35)\n",
    "        x ^= (x << 14)\n",
    "        self.state = x\n",
    "        return self.state\n",
    "\n",
    "# 使用例\n",
    "rng = Xorshift64(seed=42)  # シードは非ゼロで初期化\n",
    "for _ in range(5):\n",
    "    print(rng.gen())"
   ]
  },
  {
   "cell_type": "markdown",
   "id": "3f44d16b-3c79-4aca-bf19-7c369edcdde0",
   "metadata": {},
   "source": [
    "### JavaScript\n",
    "\n",
    "JSの`Math.random()`はseedを固定できないが、Xorshiftなどでseedが指定可能な疑似乱数生成を実装することでJSでも再現性のある乱数が利用可能になる\n",
    "\n",
    "```js\n",
    "class Random {\n",
    "  constructor(seed = 88675123) {\n",
    "    this.x = 123456789;\n",
    "    this.y = 362436069;\n",
    "    this.z = 521288629;\n",
    "    this.w = seed;\n",
    "  }\n",
    "  \n",
    "  // XorShift\n",
    "  next() {\n",
    "    let t;\n",
    " \n",
    "    t = this.x ^ (this.x << 11);\n",
    "    this.x = this.y; this.y = this.z; this.z = this.w;\n",
    "    return this.w = (this.w ^ (this.w >>> 19)) ^ (t ^ (t >>> 8)); \n",
    "  }\n",
    "  \n",
    "  // min以上max以下の乱数を生成する\n",
    "  nextInt(min, max) {\n",
    "    const r = Math.abs(this.next());\n",
    "    return min + (r % (max + 1 - min));\n",
    "  }\n",
    "}\n",
    "```\n",
    "\n",
    "```js\n",
    "const seed = 1;\n",
    "const random = new Random(seed);\n",
    "console.log(random.nextInt(2, 10));\n",
    "> 5\n",
    "```\n",
    "\n",
    "出所：[JavaScriptで再現性のある乱数を生成する + 指定した範囲の乱数を生成する](https://sbfl.net/blog/2017/06/01/javascript-reproducible-random/)\n",
    "\n"
   ]
  },
  {
   "cell_type": "markdown",
   "id": "0d891126-448f-4762-b2bd-f67808da6599",
   "metadata": {},
   "source": [
    "## 問題点\n",
    "\n",
    "[乱数アルゴリズムXorshiftの弱点と改善案 #ゲーム制作 - Qiita](https://qiita.com/Shinoda_Naoki/items/5208b295d633df0aab47)\n",
    "\n",
    "- 似たシードだと似た乱数が出てくる（Xorshiftに限らない疑似乱数のよくある弱点だが）"
   ]
  },
  {
   "cell_type": "markdown",
   "id": "2f59f094-bc53-4955-9c9c-6664a01c5c19",
   "metadata": {},
   "source": [
    "## 派生アルゴリズム\n",
    "\n",
    "- [XORSHIFT-ADD (XSadd)](http://www.math.sci.hiroshima-u.ac.jp/m-mat/MT/XSADD/index-jp.html)\n",
    "- [xoshiro/xoroshiro](https://prng.di.unimi.it/)\n",
    "    - xoshiro (xor-shift-rotate)\n",
    "    - xoroshiro (xor-rotate-shift-rotate )\n"
   ]
  },
  {
   "cell_type": "markdown",
   "id": "5b822957-31d2-41cb-87b0-9fa6bd3125cd",
   "metadata": {},
   "source": [
    "## 応用例\n",
    "\n",
    "GoogleのV8における `Math.random()` は32ビットのXorshiftを採用しているらしい\n",
    "\n",
    "[Google Chromeが採用した、擬似乱数生成アルゴリズム「xorshift」の数理 – びりあるの研究ノート](https://blog.visvirial.com/articles/575)"
   ]
  },
  {
   "cell_type": "markdown",
   "id": "09c01612-b034-49d7-8932-ddfa54e86eaf",
   "metadata": {},
   "source": [
    "## 参考\n",
    "- [Marsaglia, G. (2003). Xorshift rngs. Journal of Statistical software, 8, 1-6.](https://www.jstatsoft.org/article/view/v008i14)\n",
    "- [Google Chromeが採用した、擬似乱数生成アルゴリズム「xorshift」の数理 – びりあるの研究ノート](https://blog.visvirial.com/articles/575)\n",
    "- [Xorshiftをざっくり理解する | Blog](https://kanamesasaki.github.io/blog/20220128-xorshift/)\n",
    "- [良い xorshift、悪い xorshift](https://www.cepstrum.co.jp/hobby/xorshift/xorshift.html)\n",
    "- [Xorshift から派生した擬似乱数生成器 #Random - Qiita](https://qiita.com/Nabetani/items/f8357e736f989633a2c0)"
   ]
  }
 ],
 "metadata": {
  "kernelspec": {
   "display_name": "Python 3 (ipykernel)",
   "language": "python",
   "name": "python3"
  },
  "language_info": {
   "codemirror_mode": {
    "name": "ipython",
    "version": 3
   },
   "file_extension": ".py",
   "mimetype": "text/x-python",
   "name": "python",
   "nbconvert_exporter": "python",
   "pygments_lexer": "ipython3",
   "version": "3.10.14"
  }
 },
 "nbformat": 4,
 "nbformat_minor": 5
}
