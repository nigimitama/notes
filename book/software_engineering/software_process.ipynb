{
 "cells": [
  {
   "cell_type": "markdown",
   "id": "cda31b3e-77f4-40b5-8c45-897c8051d0ab",
   "metadata": {},
   "source": [
    "# ソフトウェアプロセス"
   ]
  },
  {
   "cell_type": "markdown",
   "id": "b30e6461-d4a4-446c-a37b-bd48d01c8e1b",
   "metadata": {},
   "source": [
    "## 概要\n",
    "\n",
    "ソフトウェアプロセスとは、ソフトウェアシステムを開発・保守・運用するための体系的な活動やタスクの集合を指す。\n",
    "プロジェクト全体を成功に導くための「やり方」を定義したもの。\n",
    "\n",
    "ソフトウェアプロセスは以下の要素を含む：\n",
    "\n",
    "- 活動（Activities） - 要求分析、設計、実装、テストなど\n",
    "- 成果物（Artifacts） - 仕様書、設計書、ソースコード、テストケースなど\n",
    "- 役割（Roles） - プロジェクトマネージャー、開発者、テスターなど\n",
    "- 手順（Procedures） - 各活動を実行する方法や順序\n",
    "\n",
    "### 主要な活動\n",
    "\n",
    "- 要求分析 - 何を作るかを明確にする\n",
    "- 設計 - システムの構造を決める\n",
    "- 実装 - コードを書く\n",
    "- テスト - 動作を検証する\n",
    "- デプロイ - 本番環境に配置する\n",
    "- 保守 - 運用後の修正・改善\n",
    "\n",
    "### 代表的なプロセスモデル\n",
    "\n",
    "- **ウォーターフォール** ： 要求分析 → 設計 → 実装 → テスト → 運用\n",
    "- **アジャイル** ： 短期間での反復的な開発サイクル。計画 → 開発 → テスト → レビュー → 改善\n",
    "- **スパイラル** ： リスク分析を重視した反復的開発。計画 → リスク分析 → 開発 → 評価 → 次の反復\n",
    "\n",
    "\n"
   ]
  }
 ],
 "metadata": {
  "kernelspec": {
   "display_name": "Python 3 (ipykernel)",
   "language": "python",
   "name": "python3"
  },
  "language_info": {
   "codemirror_mode": {
    "name": "ipython",
    "version": 3
   },
   "file_extension": ".py",
   "mimetype": "text/x-python",
   "name": "python",
   "nbconvert_exporter": "python",
   "pygments_lexer": "ipython3",
   "version": "3.10.18"
  }
 },
 "nbformat": 4,
 "nbformat_minor": 5
}
