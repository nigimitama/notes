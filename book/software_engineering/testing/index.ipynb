{
 "cells": [
  {
   "cell_type": "markdown",
   "id": "ac13a2b2-b8c1-4fd7-b8f5-0a3d86fb2df8",
   "metadata": {},
   "source": [
    "# ソフトウェアのテスト\n",
    "\n",
    "\n",
    ":::{tableofcontents}\n",
    ":::"
   ]
  },
  {
   "cell_type": "markdown",
   "id": "a5ecb2f5-4f3c-4ed7-b2de-e8644f577137",
   "metadata": {},
   "source": [
    "## 関連記事\n",
    "\n",
    ":::{card}\n",
    "\n",
    "[非エンジニアもMarkdownでテストを書ける — PlaywrightとGaugeによる自動テスト - エムスリーテックブログ](https://www.m3tech.blog/entry/2025/09/01/120000)\n",
    "\n",
    "自然言語（Markdown形式）でテストケースが書ける「Gauge」を使ってPlaywrightのE2Eテストを書く例\n",
    "\n",
    ":::\n"
   ]
  }
 ],
 "metadata": {
  "kernelspec": {
   "display_name": "Python 3 (ipykernel)",
   "language": "python",
   "name": "python3"
  },
  "language_info": {
   "codemirror_mode": {
    "name": "ipython",
    "version": 3
   },
   "file_extension": ".py",
   "mimetype": "text/x-python",
   "name": "python",
   "nbconvert_exporter": "python",
   "pygments_lexer": "ipython3",
   "version": "3.10.18"
  }
 },
 "nbformat": 4,
 "nbformat_minor": 5
}
