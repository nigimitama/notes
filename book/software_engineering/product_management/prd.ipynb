{
 "cells": [
  {
   "cell_type": "markdown",
   "id": "0e6aa9db-d798-4b46-9455-d4e7bf9366a8",
   "metadata": {},
   "source": [
    "# PRD（Product Requirements Document）\n",
    "\n",
    "プロダクト要求仕様書（PRD）\n",
    "\n",
    "### 内容例\n",
    "\n",
    "```\n",
    "1. Intro & Goal\n",
    "2. Concept / Value Proposition\n",
    "3. Product Vision\n",
    "4. Who's it for? ｜誰のためにあるか\n",
    "5. Why build it?｜なぜ創るか\n",
    "6. What is it?｜どういうものか\n",
    "6–1. Glossary｜用語\n",
    "6–2. User Types\n",
    "6–3. UI/Screens/Functionalities｜UI/画面/機能\n",
    "7. Brainstormed Ideas｜その他アイデア\n",
    "8. Competitors & Product Inspiration｜競合\n",
    "9. Seeding Users & Content｜初期ユーザーと獲得戦略\n",
    "10. Mockups\n",
    "11. Tech Notes\n",
    "```\n",
    "\n",
    "### 例：\n",
    "\n",
    "- [Product Hunt - Google ドキュメント](https://docs.google.com/document/d/1yrU5F6Gxhkfma91wf_IbZfexw8_fahbGQLW3EvwdfQI/edit#heading=h.rmt3yiu4sfqd)\n",
    "\n",
    "\n",
    "\n",
    "### 参考\n",
    "\n",
    "- [初めて書くPRD（プロダクト要求仕様書）｜Miz Kushida](https://note.com/miz_kushida/n/n7e35a2a2b370)\n",
    "- [How to Write a Painless Product Requirements Document | by UXPin | Medium](https://uxpin.medium.com/how-to-write-a-painless-product-requirements-document-508ff6807b4a)"
   ]
  },
  {
   "cell_type": "code",
   "execution_count": null,
   "id": "47299bd0-44db-4d4b-b785-fd199f1ef2d4",
   "metadata": {},
   "outputs": [],
   "source": []
  }
 ],
 "metadata": {
  "kernelspec": {
   "display_name": "Python 3 (ipykernel)",
   "language": "python",
   "name": "python3"
  },
  "language_info": {
   "codemirror_mode": {
    "name": "ipython",
    "version": 3
   },
   "file_extension": ".py",
   "mimetype": "text/x-python",
   "name": "python",
   "nbconvert_exporter": "python",
   "pygments_lexer": "ipython3",
   "version": "3.9.18"
  }
 },
 "nbformat": 4,
 "nbformat_minor": 5
}
