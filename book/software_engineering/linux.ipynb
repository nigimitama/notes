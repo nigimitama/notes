{
 "cells": [
  {
   "cell_type": "markdown",
   "id": "fb9c504c-d6b5-4203-a493-c036b88397df",
   "metadata": {},
   "source": [
    "# Linux"
   ]
  },
  {
   "cell_type": "markdown",
   "id": "e05a2e99-e99b-4c19-b76e-718f1524a2ab",
   "metadata": {},
   "source": [
    "## 概要\n",
    "\n"
   ]
  },
  {
   "cell_type": "markdown",
   "id": "28981d58-3449-4dc6-b82b-948f4b43a262",
   "metadata": {},
   "source": [
    "**プロセス** ：実行中のプログラム\n",
    "\n",
    "**カーネル** ：OSの中核となるプログラムをまとめたもの。\n",
    "\n",
    "**システムコール** ：プロセスがカーネルに処理を依頼する方法。\n",
    "\n",
    "例えばストレージへのアクセスをプロセスから直接行うと、複数のプロセスから同時に同じファイルを書き込むと問題が生じることがある（例えば1つのプロセスがファイルを削除して、もう一つのプロセスが書き込むなど）。そこでカーネルを通じてストレージデバイスにアクセスする。\n",
    "\n",
    "具体的には、CPUの特殊な命令を実行することでシステムコールを行う。CPUには主にカーネルモードとユーザーモードがあり、システムコールが発行されたら、CPUにおいて例外というイベントが発生し、CPUのモードがユーザーモードからカーネルモードに切り替わり、カーネルの処理が始まる。処理が終わったらCPUはユーザーモードに戻ってもとのプロセスの動作を再開する。\n"
   ]
  },
  {
   "cell_type": "markdown",
   "id": "e51640b5-a9b0-4096-98d4-548320d61a1e",
   "metadata": {},
   "source": [
    ":::{card} システムコールを確かめてみる\n",
    "\n",
    "Pythonで文字列をprintするだけのプロセスを実行し、その前後のシステムコールを`strace`コマンドで追跡してみる。\n",
    "\n",
    "```sh\n",
    "$ strace -o print.log python3 -c \"print('Hello World')\"\n",
    "```\n",
    "\n",
    "このログを開くと、1行が1つのシステムコール発行を示す形で書かれている\n",
    "\n",
    "```sh\n",
    "$ cat print.log\n",
    "execve(\"/usr/bin/python3\", [\"python3\", \"-c\", \"print('Hello World')\"], 0x7ffd21ebc8f0 /* 25 vars */) = 0\n",
    "brk(NULL)                               = 0x560a4d642000\n",
    "arch_prctl(0x3001 /* ARCH_??? */, 0x7ffc6077d360) = -1 EINVAL (Invalid argument)\n",
    "mmap(NULL, 8192, PROT_READ|PROT_WRITE, MAP_PRIVATE|MAP_ANONYMOUS, -1, 0) = 0x7f4381347000\n",
    "（中略）\n",
    "write(1, \"Hello World\\n\", 12)           = 12\n",
    "（後略）\n",
    "```\n",
    "\n",
    "特に `write(1, \"Hello World\\n\", 12)` は、画面やファイルへのデータの出力に関する`write()`システムコールがなされたことがわかる。\n",
    "\n",
    ":::"
   ]
  },
  {
   "cell_type": "code",
   "execution_count": null,
   "id": "44e171f1-13a2-4ca3-a54e-1fcd1de9b6ab",
   "metadata": {},
   "outputs": [],
   "source": []
  },
  {
   "cell_type": "markdown",
   "id": "9481de21-4421-4ebf-b25f-0b1f987a2370",
   "metadata": {},
   "source": []
  }
 ],
 "metadata": {
  "kernelspec": {
   "display_name": "Python 3 (ipykernel)",
   "language": "python",
   "name": "python3"
  },
  "language_info": {
   "codemirror_mode": {
    "name": "ipython",
    "version": 3
   },
   "file_extension": ".py",
   "mimetype": "text/x-python",
   "name": "python",
   "nbconvert_exporter": "python",
   "pygments_lexer": "ipython3",
   "version": "3.10.14"
  }
 },
 "nbformat": 4,
 "nbformat_minor": 5
}
