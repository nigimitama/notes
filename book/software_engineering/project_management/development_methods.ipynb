{
 "cells": [
  {
   "cell_type": "markdown",
   "id": "aacaffc4-8cfc-483f-bb70-2f59add8102a",
   "metadata": {},
   "source": [
    "# システム開発手法"
   ]
  },
  {
   "cell_type": "markdown",
   "id": "7b8cae7d-5172-4168-974b-1c91aaac7a1c",
   "metadata": {},
   "source": [
    "## ウォーターフォール・モデル\n",
    "\n",
    "開発プロジェクトを時系列に、主として以下のような工程で行われる。\n",
    "\n",
    "1. 要求定義（要求仕様）\n",
    "2. 外部設計（概要設計）\n",
    "3. 内部設計（詳細設計）\n",
    "4. 開発（プログラミング）\n",
    "5. テスト（ソフトウェア）\n",
    "6. 運用（システム）"
   ]
  },
  {
   "cell_type": "markdown",
   "id": "c7fa6fd2-9cea-4b8d-966b-8e5affa1ea92",
   "metadata": {},
   "source": [
    "## アジャイル・ソフトウェア開発\n",
    "\n",
    "[アジャイルソフトウェア開発宣言](https://agilemanifesto.org/iso/ja/manifesto.html)は以下の4つの価値観を示し、これらの価値観を有するソフトウェア開発を「アジャイルソフトウェア開発」と名付けた。\n",
    "\n",
    "- Individuals and interactions over processes and tools（プロセスやツールよりも個人と対話を）\n",
    "- Working software over comprehensive documentation（包括的なドキュメントよりも動くソフトウェアを）\n",
    "- Customer collaboration over contract negotiation（契約交渉よりも顧客との協調を）\n",
    "- Responding to change over following a plan（計画に従うことよりも変化への対応を）\n",
    "\n"
   ]
  },
  {
   "cell_type": "markdown",
   "id": "21842349-d880-459b-b65b-e26c4563879d",
   "metadata": {},
   "source": [
    "## ソフトウェア・プロトタイピング\n",
    "\n",
    "ソフトウェアプロトタイピング（Software Prototyping）は、本格的な開発をする前にプロトタイプを開発する\n",
    "\n",
    "\n",
    "### 使い捨て型プロトタイピング（ラピッド・プロトタイピング）\n",
    "\n",
    "使い捨てのモデルを作って検証する\n",
    "\n",
    "### 進化的プロトタイピング（ブレッドボード・プロトタイピング）\n",
    "\n",
    "非常に堅牢なプロトタイプを作り、それを継続的に改良していく\n"
   ]
  },
  {
   "cell_type": "code",
   "execution_count": null,
   "id": "bd972c7d-cf07-4687-a2ab-45de1e5559ac",
   "metadata": {},
   "outputs": [],
   "source": []
  }
 ],
 "metadata": {
  "kernelspec": {
   "display_name": "Python 3 (ipykernel)",
   "language": "python",
   "name": "python3"
  },
  "language_info": {
   "codemirror_mode": {
    "name": "ipython",
    "version": 3
   },
   "file_extension": ".py",
   "mimetype": "text/x-python",
   "name": "python",
   "nbconvert_exporter": "python",
   "pygments_lexer": "ipython3",
   "version": "3.9.18"
  }
 },
 "nbformat": 4,
 "nbformat_minor": 5
}
