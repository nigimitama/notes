{
 "cells": [
  {
   "cell_type": "markdown",
   "id": "d60ed1a0-24c9-4e64-8a87-beea43a735f0",
   "metadata": {},
   "source": [
    "# サーバレスアプリケーション"
   ]
  },
  {
   "cell_type": "markdown",
   "id": "dd81d5fd-324d-4ce4-a7ef-8145c74c9311",
   "metadata": {},
   "source": [
    "AWS Lambdaなどのアプリケーション開発への応用について。"
   ]
  },
  {
   "cell_type": "markdown",
   "id": "36eafae8-d795-44e0-9f8d-b210c7d503b8",
   "metadata": {},
   "source": [
    "## aws-lambda-web-adapter"
   ]
  },
  {
   "cell_type": "markdown",
   "id": "fe777f83-c1fe-4052-af92-6cc0c05cb1d5",
   "metadata": {},
   "source": [
    "aws-lambda-web-adapterを挟むとWeb App Frameworkを使えたりする\n",
    "\n",
    "例：[Dockerを使わない、Remix / Next.js 14 など最新ウェブフレームワークのAWS完全サーバーレス構成と環境構築方法 | ブログ | Serverless Operations](https://serverless.co.jp/blog/g30vzpio0ww/)"
   ]
  }
 ],
 "metadata": {
  "kernelspec": {
   "display_name": "Python 3 (ipykernel)",
   "language": "python",
   "name": "python3"
  },
  "language_info": {
   "codemirror_mode": {
    "name": "ipython",
    "version": 3
   },
   "file_extension": ".py",
   "mimetype": "text/x-python",
   "name": "python",
   "nbconvert_exporter": "python",
   "pygments_lexer": "ipython3",
   "version": "3.10.15"
  }
 },
 "nbformat": 4,
 "nbformat_minor": 5
}
