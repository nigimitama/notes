{
 "cells": [
  {
   "cell_type": "markdown",
   "id": "5199c6ea-9722-4fcf-955b-29dbb7843eff",
   "metadata": {},
   "source": [
    "# Function as a Service (FaaS)\n"
   ]
  },
  {
   "cell_type": "markdown",
   "id": "ee8a368e-6db6-46cd-8314-3ba29066c86f",
   "metadata": {},
   "source": [
    ":::{tableofcontents}\n",
    ":::"
   ]
  }
 ],
 "metadata": {
  "kernelspec": {
   "display_name": "Python 3 (ipykernel)",
   "language": "python",
   "name": "python3"
  },
  "language_info": {
   "codemirror_mode": {
    "name": "ipython",
    "version": 3
   },
   "file_extension": ".py",
   "mimetype": "text/x-python",
   "name": "python",
   "nbconvert_exporter": "python",
   "pygments_lexer": "ipython3",
   "version": "3.10.14"
  }
 },
 "nbformat": 4,
 "nbformat_minor": 5
}
