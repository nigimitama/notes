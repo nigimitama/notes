{
 "cells": [
  {
   "cell_type": "markdown",
   "id": "fe9a35b9-3119-477f-825d-39814645b540",
   "metadata": {},
   "source": [
    "# 数学的なアルゴリズム\n"
   ]
  },
  {
   "cell_type": "markdown",
   "id": "702a56bc-c22d-43d9-9b04-80c9d9eaa9a8",
   "metadata": {},
   "source": [
    "## 素数判定\n",
    "\n",
    "### 枝刈りした探索\n",
    "\n",
    "問題：ある数Nが素数であるか判定したい。\n",
    "\n",
    "単純には全探索：1からNまで割り切れるか調べる\n",
    "\n",
    "より効率的には：実はfloor(sqrt(N))まで調べて割り切れなければ素数だと考えてよい\n",
    "\n",
    "アルゴリズムの正当性の証明：背理法で行う。\n",
    "\n",
    "- 命題＝「Nが合成数であれば2以上sqrt(N)以下の約数が存在する」\n",
    "\n",
    "1. 命題が成り立たないと仮定する。すなわちNが合成数で1以外の最小のNの約数Aがsqrt(N)を超えていると仮定する。\n",
    "2. 約数の性質より、A*B=Nとなる正の整数Bが存在する。このときBはNの約数である。\n",
    "3. しかしB = N / A < sqrt(N) であるため、仮定は棄却される\n",
    "\n",
    "[問題解決のための「アルゴリズム×数学」が基礎からしっかり身につく本](https://www.amazon.co.jp/dp/B09NXFQRD3)\n",
    "\n",
    "\n"
   ]
  },
  {
   "cell_type": "markdown",
   "id": "1399e0b2-ca26-42f9-8dff-360706fe16f2",
   "metadata": {
    "tags": []
   },
   "source": [
    "### エラトステネスの篩\n",
    "\n",
    "> エラトステネスの篩 (エラトステネスのふるい、英: Sieve of Eratosthenes) は、指定された整数以下の全ての素数を発見するための単純なアルゴリズム\n",
    "> [エラトステネスの篩 - Wikipedia](https://ja.wikipedia.org/wiki/%E3%82%A8%E3%83%A9%E3%83%88%E3%82%B9%E3%83%86%E3%83%8D%E3%82%B9%E3%81%AE%E7%AF%A9)\n",
    "\n",
    "アルゴリズム\n",
    "\n",
    "1. 長さxの配列を用意し、1番目の要素にfalseを、2番目以降すべてにtrueを入れる\n",
    "2. 配列の先頭から順に走査し、trueの要素を見つけたらその添字iを素数リストに追加し、配列のi^2以上のiの倍数番目をfalseにする。\n",
    "3. 上記の篩い落とし操作を、走査している要素の添字がxの平方根に達するまで行う。\n",
    "4. 最後までtrueだった要素の添字を素数リストに追加して処理終了。\n",
    "\n",
    "（※i^2は間違いか？）\n",
    "\n",
    "自分の実装例\n",
    "\n",
    "- i^2ではなくi*2以上にしている\n",
    "\n",
    "```python\n",
    "import math\n",
    "\n",
    "def eratosthenes(x: int) -> list:\n",
    "    # 1. 長さxの配列を用意し、1番目の要素にfalseを、2番目以降すべてにtrueを入れる\n",
    "    primes = []\n",
    "    nums = [True] * x\n",
    "    nums[0] = False\n",
    "    # 2. 配列の先頭から順に走査し、trueの要素を見つけたらその添字iを素数リストに追加し、配列のi*2以上のiの倍数番目をfalseにする。\n",
    "    for i in range(2, x+1):\n",
    "        num = nums[i - 1]\n",
    "        if num:\n",
    "            primes.append(i)\n",
    "            for j in range(2, x//i+1):\n",
    "                nums[i * j - 1] = False\n",
    "        # 3. 上記の篩い落とし操作を、走査している要素の添字がxの平方根に達するまで行う。\n",
    "        if i >= math.sqrt(x):\n",
    "            break\n",
    "    # 4. 最後までtrueだった要素の添字を素数リストに追加して処理終了。\n",
    "    for i in range(2, x+1):\n",
    "        if nums[i - 1]:\n",
    "            primes.append(i)\n",
    "    return primes\n",
    "\n",
    "eratosthenes(10)\n",
    "```\n"
   ]
  },
  {
   "cell_type": "code",
   "execution_count": null,
   "id": "a08944d6-2163-4a96-9c9c-e17cfb68b863",
   "metadata": {},
   "outputs": [],
   "source": []
  }
 ],
 "metadata": {
  "kernelspec": {
   "display_name": "Python 3 (ipykernel)",
   "language": "python",
   "name": "python3"
  },
  "language_info": {
   "codemirror_mode": {
    "name": "ipython",
    "version": 3
   },
   "file_extension": ".py",
   "mimetype": "text/x-python",
   "name": "python",
   "nbconvert_exporter": "python",
   "pygments_lexer": "ipython3",
   "version": "3.9.18"
  }
 },
 "nbformat": 4,
 "nbformat_minor": 5
}
