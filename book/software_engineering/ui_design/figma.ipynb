{
 "cells": [
  {
   "cell_type": "markdown",
   "id": "4ee8e0a3-cc53-44af-9f1d-d858bf3c8d95",
   "metadata": {},
   "source": [
    "# Figma"
   ]
  },
  {
   "cell_type": "markdown",
   "id": "60a5184a-a1d6-453b-b41e-f67afe7802c4",
   "metadata": {},
   "source": [
    "Figmaはデファクト・スタンダードなUIデザインツール\n"
   ]
  },
  {
   "cell_type": "markdown",
   "id": "27e79c19-f293-4d43-8dd7-47baf732605a",
   "metadata": {},
   "source": [
    "## Figma for UI design\n",
    "\n"
   ]
  },
  {
   "cell_type": "markdown",
   "id": "f5c360f1-0510-40aa-9d09-f6b85d3ebb53",
   "metadata": {},
   "source": [
    "[Figmaの基本 - Figma Basics 日本語版 | Figma](https://www.figma.com/community/file/1228577958737472070)\n",
    "\n",
    "- 公式チュートリアル"
   ]
  },
  {
   "cell_type": "markdown",
   "id": "1f81a650-8a26-4902-bde2-8745072ce38c",
   "metadata": {},
   "source": [
    "::: {card} 書籍\n",
    "\n",
    "[Figma for UIデザイン | アプリ開発のためのデザイン、プロトタイプ、ハンドオフ](https://www.figbook.jp/)\n",
    "\n",
    "こちらの本がサンプルファイルもあってよさげ\n",
    "\n",
    "同じ著者が [Figma for デザインシステム](https://www.amazon.co.jp/dp/4798181498) という本も出していてそちらも良さそう\n",
    ":::"
   ]
  },
  {
   "cell_type": "markdown",
   "id": "1b4bf6ae-73c2-4052-a8c9-55ba8e6adfe0",
   "metadata": {},
   "source": [
    "\n",
    ":::{card} https://coolors.co/\n",
    "\n",
    "カラーパレット集。Figmaと連携できる\n",
    "\n",
    ":::"
   ]
  },
  {
   "cell_type": "markdown",
   "id": "d30d63c7-379c-47af-ad7c-62acacb8a8c5",
   "metadata": {},
   "source": [
    "##  Figma to React Component\n",
    "\n",
    "[AWS Amplify Studio – 最小限のプログラミングでFigmaからフルスタックのReactアプリを実現 | Amazon Web Services ブログ](https://aws.amazon.com/jp/blogs/news/aws-amplify-studio-figma-to-fullstack-react-app-with-minimal-programming/)"
   ]
  }
 ],
 "metadata": {
  "kernelspec": {
   "display_name": "Python 3 (ipykernel)",
   "language": "python",
   "name": "python3"
  },
  "language_info": {
   "codemirror_mode": {
    "name": "ipython",
    "version": 3
   },
   "file_extension": ".py",
   "mimetype": "text/x-python",
   "name": "python",
   "nbconvert_exporter": "python",
   "pygments_lexer": "ipython3",
   "version": "3.10.15"
  }
 },
 "nbformat": 4,
 "nbformat_minor": 5
}
