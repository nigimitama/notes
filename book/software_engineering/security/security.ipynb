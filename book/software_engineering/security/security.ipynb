{
 "cells": [
  {
   "cell_type": "markdown",
   "id": "f34e2236-c136-4ec7-a5e0-dd620ae27176",
   "metadata": {},
   "source": [
    "# 個人としてのセキュリティ対策"
   ]
  },
  {
   "cell_type": "markdown",
   "id": "552b8a57-1d8f-4060-a599-f2aa80457820",
   "metadata": {},
   "source": [
    "## 脅威\n",
    "\n",
    "### マルウェア\n",
    "\n",
    "悪意のあるソフトウェアで、ウイルス、トロイの木馬、スパイウェアなどが含まれる。\n",
    "\n",
    "対策：WindowsであればWindows Defenderが商用のウイルスセキュリティソフトと同等以上の性能を持っているのでWindowsをしっかりアップデートしていればOK\n",
    "\n",
    ":::{card} Windows Defenderの性能\n",
    "\n",
    "1. [PassMark](https://www.passmark.com/reports/)のConsumer Security Products Performanceを見ると、[2019年版](https://www.passmark.com/reports/Consumer_Security_Products_Performance_Benchmarks_2020_Ed_1.pdf) も [2022年版](https://www.passmark.com/reports/Consumer_Security_Products_Performance_Benchmarks_2022_Ed1.pdf#page=5.08)も総合4位で、1位のNortonとそこまで大差ではない\n",
    "2. [Comparison - AV-Comparatives](https://www.av-comparatives.org/comparison/) のTest Chartsを見ると、テスト内容によって得手不得手が出るが総合的に高性能\n",
    ":::"
   ]
  },
  {
   "cell_type": "markdown",
   "id": "d250c932-b909-4d44-b3c4-fe4f5fb827ed",
   "metadata": {},
   "source": [
    "### フィッシング\n",
    "\n",
    "偽のウェブサイトやメールを使ってユーザーの個人情報を盗む手法。\n",
    "\n",
    "**対策：**\n",
    "\n",
    "- なりすましメールなどもあるので、原則として **本人が気をつける** しかない。\n",
    "- **もらったリンクではなく自分で検索してサイトに行く**\n",
    "    - 「クレカが不正利用されました、詳細はこちらからログインしてください https://...」のようなメールで偽サイトに誘導する手法が多い。メッセージ内のリンクを踏むのではなく、自分でGoogle検索してサイトに行けば正規のサイトに行ける\n",
    "- **Chromeのパスワードマネージャを使う**\n",
    "    - 偽サイトだとドメインが違うはずなので、おそらくパスワードマネージャが働かないはず。偽サイトだと気づくきっかけになる\n",
    "- Chromeが「危険なサイト」とアラートを出してくれることもあるので、その場合はアラートに従う。"
   ]
  },
  {
   "cell_type": "markdown",
   "id": "d4856476-0824-4d2b-bdb0-dc0018fefb9d",
   "metadata": {},
   "source": [
    "### ソーシャルハッキング\n",
    "\n",
    "ユーザーが機密情報（パスワードなど）を入力している内容を盗み見たりといった物理的なハッキング方法。\n",
    "\n",
    "- 満員電車で、スマホからログインしようとしているのを覗き見る\n",
    "- 機密情報が書かれた書類やメモを入手する\n",
    "- 掃除夫などを装ってオフィスに侵入する\n",
    "\n",
    "など"
   ]
  },
  {
   "cell_type": "markdown",
   "id": "8ca26055-4613-4b78-b8a7-0c93dc0d83d8",
   "metadata": {},
   "source": [
    "### ディープフェイク（フェイク動画）\n",
    "\n",
    "ここでの「ディープフェイク」はフェイク動画、偽動画のこと。\n",
    "\n",
    "例：岸田首相の糞土方動画（2023年11月）\n",
    "\n",
    "例：香港の企業にて、ビデオ通話で自社のCFOを装った詐欺師から送金を指示され、2500万ドルを払ってしまった事件（2024年2月）\n",
    "\n",
    "（※ディープフェイク（deepfake）は本来、機械学習アルゴリズムの一つである深層学習（ディープラーニング）を使用して、2つの画像や動画の一部を結合させ元とは異なる動画を作成する技術）\n"
   ]
  },
  {
   "cell_type": "markdown",
   "id": "7da26169-2975-4645-b98b-31972b0268ff",
   "metadata": {},
   "source": [
    ":::{card} 生成画像を見分けられるか？\n",
    "\n",
    "生成画像を見分けるテストが行えるウェブサイト\n",
    "\n",
    "[Which Face Is Real?](https://whichfaceisreal.com/)\n",
    "\n",
    "2024年現在だと背景や耳の形を見れば不自然な点に気づきやすい\n",
    ":::"
   ]
  },
  {
   "cell_type": "markdown",
   "id": "d7dccfa7-043d-43b2-850d-299ffc133408",
   "metadata": {},
   "source": [
    "### パスワードクラッキング\n",
    "\n",
    "#### ブルートフォース（総当たり）\n",
    "\n",
    "考えられるパターンをすべて入力して突破を試みる\n",
    "\n",
    "#### リバースブルートフォース（逆総当たり）\n",
    "\n",
    "パスワードを固定してUser IDを総当りする。一定回数パスワードを間違えるとログインできなくなるサイトでも使える\n",
    "\n",
    "#### 辞書攻撃\n",
    "\n",
    "完全にランダムな文字列ではなく、人間がパスワードに使いやすい単語の組み合わせを使うことで試行回数を減らす\n"
   ]
  },
  {
   "cell_type": "markdown",
   "id": "ef212a35-4b87-4b1d-b89a-a28fadfdad6d",
   "metadata": {},
   "source": [
    "### Webカメラのハッキング\n",
    "\n",
    "マルウェアがWebカメラをハッキングして盗撮する事例もある\n",
    "\n",
    "\n",
    "対策\n",
    "\n",
    "- 重要な情報が写り込まないように気をつける\n",
    "- 使わないときは物理的なシャッターを付けておく"
   ]
  },
  {
   "cell_type": "markdown",
   "id": "788ceab6-f2eb-42d6-ac8c-90de2979e543",
   "metadata": {},
   "source": [
    "### 偽装フリーWiFi\n",
    "\n",
    "SSIDは偽装が簡単。パスワードも本物同様にすれば見分けるのが困難。\n",
    "\n",
    "WPA2などの暗号化がされていないWi-Fiは情報が盗まれてしまう\n",
    "\n",
    "対策：VPNを使えばフリーWi-Fiでも安全に使える"
   ]
  },
  {
   "cell_type": "markdown",
   "id": "8dad9e53-f696-4840-bbc3-004927dc9ab1",
   "metadata": {},
   "source": [
    "## 対策\n",
    "\n",
    ":::{admonition} システムの一般利用者側の対策\n",
    "\n",
    "1. 修正プログラムの適用：OSや各ソフトウェアを最新に保つ\n",
    "2. セキュリティソフトの導入および定義ファイルの最新化\n",
    "3. パスワードの適切な設定と管理：大小英字、数字および記号を混在させて最低でも10文字に。使い回さない。\n",
    "4. 不審なメールに注意：不審なメールのURLはクリックせずシステム管理者に連絡\n",
    "5. USBメモリ等の取り扱いの注意：自身が管理していない外部記憶媒体はパソコンに接続しない\n",
    "6. 社内ネットワークへの機器接続ルールの遵守：個人のPCや外部記憶媒体を社内ネットワークに繋がない\n",
    "7. ソフトウェアをインストールする際に注意する\n",
    "8. パソコン等の画面ロック機能の設定\n",
    "\n",
    "\n",
    "出所：[日常における情報セキュリティ対策 | 情報セキュリティ | IPA 独立行政法人 情報処理推進機構](https://www.ipa.go.jp/security/anshin/measures/everyday.html)\n",
    ":::"
   ]
  },
  {
   "cell_type": "markdown",
   "id": "ba3e8b03-0f55-4c54-b42e-18e8a65c97cc",
   "metadata": {},
   "source": [
    "## ツール"
   ]
  },
  {
   "cell_type": "markdown",
   "id": "6aee4958-b2f0-4fd1-bb6c-2e824c7e359e",
   "metadata": {},
   "source": [
    "### 自分のemailが漏洩しているか確認する\n",
    "\n",
    ":::{admonition} Have I Been Pwned?\n",
    "\n",
    "[Have I Been Pwned: Check if your email has been compromised in a data breach](https://haveibeenpwned.com/)\n",
    "\n",
    "セキュリティ専門家のトロイ・ハントが2013年12月4日に開設した、インターネット利用者が自らの個人情報が漏洩していないかを照会できるウェブサイト。漏洩した数十億件のアカウント情報を含む、数百のデータベースダンプやPastebinを収集、分析して得られた情報から、電子メールアドレス、または、電話番号で検索することができる。\n",
    ":::"
   ]
  },
  {
   "cell_type": "markdown",
   "id": "77a1e6b9-4604-48c9-9eac-3c9a6d5b55c8",
   "metadata": {},
   "source": [
    "### パスワードの強固さを調べる\n",
    "\n",
    ":::{admonition} How Secure Is My Password?\n",
    "\n",
    "[How Secure Is My Password?](https://www.security.org/how-secure-is-my-password/)\n",
    "\n",
    "パスワードの解読にどれだけの時間がかかりそうかを調べてくれる\n",
    ":::"
   ]
  },
  {
   "cell_type": "markdown",
   "id": "b045c008-bc30-4eae-aa0f-8a731830fe1e",
   "metadata": {},
   "source": [
    "## 用語\n",
    "\n",
    "### ウェブの種類\n",
    "\n",
    "- **Surface Web** ：誰でも見られるオープンなウェブサイト。企業のサイトなど。全体の4%程度なのだとか。\n",
    "- **Deep Web** ：特定の人だけが閲覧可能なサイト。会員制サイトやオンラインストレージの限定共有ファイルなど。みんなが普段使う場所\n",
    "- **ダークウェブ（Dark Web）** ：Tor（トーア）というネットワーク上にあり、専用のブラウザ（Torブラウザ）を使ってアクセスする。匿名性が高い。\n"
   ]
  },
  {
   "cell_type": "code",
   "execution_count": null,
   "id": "c6f5acf1-eab1-4127-b271-4deddb3025aa",
   "metadata": {},
   "outputs": [],
   "source": []
  }
 ],
 "metadata": {
  "kernelspec": {
   "display_name": "Python 3 (ipykernel)",
   "language": "python",
   "name": "python3"
  },
  "language_info": {
   "codemirror_mode": {
    "name": "ipython",
    "version": 3
   },
   "file_extension": ".py",
   "mimetype": "text/x-python",
   "name": "python",
   "nbconvert_exporter": "python",
   "pygments_lexer": "ipython3",
   "version": "3.10.18"
  }
 },
 "nbformat": 4,
 "nbformat_minor": 5
}
