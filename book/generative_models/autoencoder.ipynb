{
 "cells": [
  {
   "cell_type": "markdown",
   "id": "5c1ac5ae-bdf3-45b2-81bb-019d981bd644",
   "metadata": {},
   "source": [
    "# Autoencoder\n",
    "\n",
    "\n",
    "autoencoderは入力データとできる限り近い値を出す\n",
    "\n",
    "中間層における潜在変数を学習したい"
   ]
  },
  {
   "cell_type": "markdown",
   "id": "5a5ed4d9-b762-4ab5-aa6d-4bb84ec81d14",
   "metadata": {},
   "source": [
    "## VAE\n",
    "\n",
    "**変分オートエンコーダ（VAE: variational auto encoder）** は変分推論をつかったもの\n",
    "\n",
    "- [KDD2022_ja.pdf](https://takahashihiroshi.github.io/slides/KDD2022_ja.pdf)\n",
    "- [The variational auto-encoder](https://ermongroup.github.io/cs228-notes/extras/vae/)\n",
    "    - ページ一覧：https://ermongroup.github.io/cs228-notes/\n",
    "\n"
   ]
  }
 ],
 "metadata": {
  "kernelspec": {
   "display_name": "Python 3 (ipykernel)",
   "language": "python",
   "name": "python3"
  },
  "language_info": {
   "codemirror_mode": {
    "name": "ipython",
    "version": 3
   },
   "file_extension": ".py",
   "mimetype": "text/x-python",
   "name": "python",
   "nbconvert_exporter": "python",
   "pygments_lexer": "ipython3",
   "version": "3.10.14"
  }
 },
 "nbformat": 4,
 "nbformat_minor": 5
}
