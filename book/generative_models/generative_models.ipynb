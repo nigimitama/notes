{
 "cells": [
  {
   "cell_type": "markdown",
   "id": "54a2a3c3-0e1e-4531-87ae-a747120e032b",
   "metadata": {},
   "source": [
    "# 生成モデル"
   ]
  },
  {
   "cell_type": "markdown",
   "id": "e1a497ad-15ff-4149-995b-0a616aba5402",
   "metadata": {},
   "source": [
    "## 深層生成モデルの種類"
   ]
  },
  {
   "cell_type": "markdown",
   "id": "b2968b63-fa6f-45d4-9f4c-7cfcef5ad9a5",
   "metadata": {},
   "source": [
    "| モデル             | 学習するモデル                                                   | 生成モデルの尤度計算                                   | 生成          | 推論                             |\n",
    "|--------------------|------------------------------------------------------------------|------------------------------------------------------|---------------|----------------------------------|\n",
    "| VAE                | 生成モデル: $p(x, z) = \\int p(x|z)p(z)dz$<br> 推論モデル: $q(z|x)$    | 直接は不可能（対数尤度下限が計算可能）                | 低コスト      | 可能（推論モデル）                |\n",
    "| GAN                | 生成器: $G(z)$<br> 識別器: $D(x)$                                   | 不可能（識別器が真のモデルとの尤度比を推定）           | 低コスト      | 不可能（エンコーダを導入すれば可能）|\n",
    "| 自己回帰モデル     | 条件付きモデル: $\\prod_d p(x_d|x_1, ..., x_{d-1})$                | 可能                                                 | 高コスト      | 潜在変数がない                    |\n",
    "| フローベース       | フロー（可逆な関数）: $x = f(z)$                                 | 可能                                                 | 低コスト      | 可能（逆変換）                    |\n",
    "| 拡散モデル         | 逆過程: $p(x_T) \\prod_t p(x_{t-1}|x_t)$<br> 拡散過程: $\\prod_t p(x_t|x_{t-1})$ | 直接は不可能（対数尤度下限が計算可能）                | 高コスト（反復）| 可能（拡散過程）                  |\n",
    "| スコアマッチング   | スコアネットワーク: $S(x)$                                       | 直接は不可能（対数尤度の勾配が計算可能）              | 高コスト（反復）| 潜在変数がない                    |\n",
    "| エネルギーベース   | エネルギー関数: $E(x)$                                           | 困難（分配関数の計算）                                 | 高コスト（反復）| モデルの設計による                |\n",
    "\n",
    "\n",
    "（出所：松尾研セミナー [2024Summer 深層生成モデル ：第5回エネルギーベースモデル - YouTube](https://www.youtube.com/watch?v=OUa338hdpcE&ab_channel=%E6%9D%B1%E4%BA%AC%E5%A4%A7%E5%AD%A6%E6%9D%BE%E5%B0%BE%E3%83%BB%E5%B2%A9%E6%BE%A4%E7%A0%94%E7%A9%B6%E5%AE%A4)）"
   ]
  },
  {
   "cell_type": "markdown",
   "id": "fe6fc8e5-ec03-4f9e-84c6-32bf8852c7ef",
   "metadata": {},
   "source": [
    "## Flowベースの生成\n",
    "\n",
    "[Flowベース生成モデルの調査](https://zenn.dev/d2c_mtech_blog/articles/6bd54c0db73a8e)\n"
   ]
  },
  {
   "cell_type": "markdown",
   "id": "999e29d8-ba23-4bc9-a784-3acaa4774343",
   "metadata": {},
   "source": [
    "## 参考\n",
    "- https://ermongroup.github.io/cs228-notes/"
   ]
  }
 ],
 "metadata": {
  "kernelspec": {
   "display_name": "Python 3 (ipykernel)",
   "language": "python",
   "name": "python3"
  },
  "language_info": {
   "codemirror_mode": {
    "name": "ipython",
    "version": 3
   },
   "file_extension": ".py",
   "mimetype": "text/x-python",
   "name": "python",
   "nbconvert_exporter": "python",
   "pygments_lexer": "ipython3",
   "version": "3.10.15"
  }
 },
 "nbformat": 4,
 "nbformat_minor": 5
}
