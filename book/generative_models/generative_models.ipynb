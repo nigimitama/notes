{
 "cells": [
  {
   "cell_type": "markdown",
   "id": "54a2a3c3-0e1e-4531-87ae-a747120e032b",
   "metadata": {},
   "source": [
    "# 生成モデル"
   ]
  },
  {
   "cell_type": "code",
   "execution_count": null,
   "id": "c703c4a5-6c59-44f2-84a0-15782ed1d78a",
   "metadata": {},
   "outputs": [],
   "source": []
  }
 ],
 "metadata": {
  "kernelspec": {
   "display_name": "Python 3 (ipykernel)",
   "language": "python",
   "name": "python3"
  },
  "language_info": {
   "codemirror_mode": {
    "name": "ipython",
    "version": 3
   },
   "file_extension": ".py",
   "mimetype": "text/x-python",
   "name": "python",
   "nbconvert_exporter": "python",
   "pygments_lexer": "ipython3",
   "version": "3.9.18"
  }
 },
 "nbformat": 4,
 "nbformat_minor": 5
}
