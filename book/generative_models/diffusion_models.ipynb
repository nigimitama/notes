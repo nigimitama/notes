{
 "cells": [
  {
   "cell_type": "markdown",
   "id": "013684f6-6ca5-425e-b9c8-db4827fc9cab",
   "metadata": {},
   "source": [
    "# Diffusion Models\n"
   ]
  },
  {
   "cell_type": "markdown",
   "id": "87fa868f-d452-4e4a-b6d6-1535d938f80b",
   "metadata": {},
   "source": [
    "水の中でインクが拡散していくとき、その動きはランダムになる。まさにそのようなランダムな拡散過程を学習し、その逆変換を得ることで生成モデルを作る手法。\n",
    "\n",
    "初出は [Sohl-Dickstein et al. (2015). Deep unsupervised learning using nonequilibrium thermodynamics.](https://proceedings.mlr.press/v37/sohl-dickstein15.pdf) \n",
    "\n",
    "[Ho, et al. (2020). Denoising diffusion probabilistic models.](https://proceedings.neurips.cc/paper/2020/file/4c5bcfec8584af0d967f1ab10179ca4b-Paper.pdf)（通称DDPM）が改良し、大流行した。\n",
    "\n",
    "DDPMは正規分布に従うランダムノイズを画像に加えていく過程を作り、その逆を学習することでノイズ除去を行う（ノイズがない状態の画像を生成する）モデルを得るというもの。\n"
   ]
  },
  {
   "cell_type": "markdown",
   "id": "fa04a1af-5cb8-41ed-b958-db3a9a6477ba",
   "metadata": {},
   "source": [
    "## Tutorials\n",
    "\n",
    "MNISTやCIFAR10でdiffusion modelをPyTorchでミニマムに実装するチュートリアル。他にも17の代表的な実装チュートリアルがある。\n",
    "\n",
    "- course: https://dataflowr.github.io/website/modules/18a-diffusion/\n",
    "- code: https://github.com/dataflowr/notebooks/tree/master/Module18"
   ]
  },
  {
   "cell_type": "markdown",
   "id": "80ebfc77-3343-4d81-b698-258ac1c6bd3e",
   "metadata": {},
   "source": [
    "## 参考\n",
    "\n",
    "- [Luo, C. (2022). Understanding Diffusion Models: A Unified Perspective. arXiv preprint arXiv:2208.11970.](https://arxiv.org/abs/2208.11970)\n",
    "- [DiffusionによるText2Imageの系譜と生成画像が動き出すまで - Speaker Deck](https://speakerdeck.com/nhamanasu/diffusionniyorutext2imagenoxi-pu-tosheng-cheng-hua-xiang-gadong-kichu-sumade)"
   ]
  },
  {
   "cell_type": "code",
   "execution_count": null,
   "id": "7cfd9021-ccfa-4e62-8dfe-4dd6e5126be9",
   "metadata": {},
   "outputs": [],
   "source": []
  }
 ],
 "metadata": {
  "kernelspec": {
   "display_name": "Python 3 (ipykernel)",
   "language": "python",
   "name": "python3"
  },
  "language_info": {
   "codemirror_mode": {
    "name": "ipython",
    "version": 3
   },
   "file_extension": ".py",
   "mimetype": "text/x-python",
   "name": "python",
   "nbconvert_exporter": "python",
   "pygments_lexer": "ipython3",
   "version": "3.10.15"
  }
 },
 "nbformat": 4,
 "nbformat_minor": 5
}
