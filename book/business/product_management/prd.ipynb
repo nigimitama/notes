{
 "cells": [
  {
   "cell_type": "markdown",
   "id": "0e6aa9db-d798-4b46-9455-d4e7bf9366a8",
   "metadata": {},
   "source": [
    "# PRD（Product Requirements Document）\n",
    "\n",
    "プロダクト要求仕様書（PRD）\n",
    "\n",
    "### 内容例\n",
    "\n",
    "```\n",
    "1. Intro & Goal\n",
    "2. Concept / Value Proposition\n",
    "3. Product Vision\n",
    "4. Who's it for? ｜誰のためにあるか\n",
    "5. Why build it?｜なぜ創るか\n",
    "6. What is it?｜どういうものか\n",
    "6–1. Glossary｜用語\n",
    "6–2. User Types\n",
    "6–3. UI/Screens/Functionalities｜UI/画面/機能\n",
    "7. Brainstormed Ideas｜その他アイデア\n",
    "8. Competitors & Product Inspiration｜競合\n",
    "9. Seeding Users & Content｜初期ユーザーと獲得戦略\n",
    "10. Mockups\n",
    "11. Tech Notes\n",
    "```\n",
    "\n",
    "### 例：\n",
    "\n",
    "- [Product Hunt - Google ドキュメント](https://docs.google.com/document/d/1yrU5F6Gxhkfma91wf_IbZfexw8_fahbGQLW3EvwdfQI/edit#heading=h.rmt3yiu4sfqd)\n",
    "- [Product requirements Template | Atlassian](https://www.atlassian.com/software/confluence/templates/product-requirements)\n",
    "\n",
    "\n",
    "### 参考\n",
    "\n",
    "- [初めて書くPRD（プロダクト要求仕様書）｜Miz Kushida](https://note.com/miz_kushida/n/n7e35a2a2b370)\n",
    "- [How to Write a Painless Product Requirements Document | by UXPin | Medium](https://uxpin.medium.com/how-to-write-a-painless-product-requirements-document-508ff6807b4a)"
   ]
  },
  {
   "cell_type": "markdown",
   "id": "5ab1d253-43a5-45cd-b857-af198efe0dc7",
   "metadata": {},
   "source": [
    "## Agile PRD\n",
    "\n",
    "[Agile Requirement Documents: Your Product Blueprint](https://www.atlassian.com/agile/product-management/requirements)\n",
    "\n",
    "含めるべき情報\n",
    "\n",
    "1. プロジェクトの詳細\n",
    "    - 関係者\n",
    "    - 現状\n",
    "    - リリース予定時期\n",
    "2. 目標\n",
    "    - チームの目標の要点\n",
    "    - ビジネス目標の要点\n",
    "3. 背景と戦略的適合性\n",
    "    - なぜやるのか、会社の経営戦略と合致しているか\n",
    "4. 仮定\n",
    "    - 技術的な仮定、ビジネス的な仮定、ユーザー的な仮定を述べる\n",
    "5. ユーザーストーリー\n",
    "6. デザイン・ワイヤーフレーム\n",
    "7. 疑問\n",
    "    - 「決定または調査する必要がある事項」の表を作る\n",
    "8. 行っていないこと\n"
   ]
  },
  {
   "cell_type": "markdown",
   "id": "f6780eba-8391-4b7d-99d5-4ac222215391",
   "metadata": {},
   "source": [
    "![](https://wac-cdn.atlassian.com/dam/jcr:de98e8d4-1305-4bba-b961-78d0a3ea7f79/prodrec-seo-blog-600x-retina2x-confprodreq-full-1%20(1).png?cdnVersion=2097)"
   ]
  },
  {
   "cell_type": "code",
   "execution_count": null,
   "id": "b9e3ebbc-71d5-419b-bf1c-24f489b10403",
   "metadata": {},
   "outputs": [],
   "source": []
  }
 ],
 "metadata": {
  "kernelspec": {
   "display_name": "Python 3 (ipykernel)",
   "language": "python",
   "name": "python3"
  },
  "language_info": {
   "codemirror_mode": {
    "name": "ipython",
    "version": 3
   },
   "file_extension": ".py",
   "mimetype": "text/x-python",
   "name": "python",
   "nbconvert_exporter": "python",
   "pygments_lexer": "ipython3",
   "version": "3.10.14"
  }
 },
 "nbformat": 4,
 "nbformat_minor": 5
}
