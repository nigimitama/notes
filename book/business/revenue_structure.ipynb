{
 "cells": [
  {
   "cell_type": "markdown",
   "id": "2994ac0c-faa7-434f-9323-079409ca963e",
   "metadata": {},
   "source": [
    "# 売上構造やKPI"
   ]
  },
  {
   "cell_type": "markdown",
   "id": "1ca9366d-afef-46a4-99b0-301f2d5ae05d",
   "metadata": {},
   "source": [
    "## 買い切り型サービスの評価\n",
    "\n",
    "売上 = 単価 × 数量\n"
   ]
  },
  {
   "cell_type": "markdown",
   "id": "28c53a38-5ce1-4b2a-a844-e075eedb6057",
   "metadata": {},
   "source": [
    "## SaaSの評価\n",
    "\n",
    "### ユニットエコノミクス\n",
    "\n",
    "買い切り型のような`売上 = 単価 × 数量`では評価できないためユニットエコノミクスを使う\n",
    "\n",
    "$$\n",
    "Unit Economics = \\frac{LTV}{CAC}\n",
    "$$\n",
    "\n",
    "- ライフタイムバリュー（LTV：Life Time Value、1ユーザが利用することによりSaaS提供企業が将来受け取る対価の累積額）\n",
    "- 潜在ユーザ獲得コスト（CAC：Customer Acquisition Cost、1ユーザを獲得するまでにかかったコストの総額）\n",
    "\n",
    "### LTV（ライフタイムバリュー）\n",
    "\n",
    "1ヶ月など単位ごとの平均単価（MRR: Monthly Recurring Revenue per Customer）と平均継続月数（Average Lifetime of a Customer）を掛けることで算出できる\n",
    "\n",
    "$$\n",
    "\\text { LTV }=\\text { Average MRR per Customer } \\times \\text { Average Lifetime of a Customer }\n",
    "$$\n",
    "\n",
    "\n",
    "### CAC（顧客獲得コスト）\n",
    "\n",
    "マーケティングとセールスの費用を獲得顧客数で割ったもの\n",
    "\n",
    "$$\n",
    "\\mathrm{CAC}=\\frac{\\text { Sales and Marketing Costs }}{\\text { Number of Acquired Customers }}\n",
    "$$"
   ]
  },
  {
   "cell_type": "markdown",
   "id": "25afabc4-5bd1-4b7b-9807-a3c4d7dc0304",
   "metadata": {},
   "source": [
    "### SaaSの評価\n",
    "\n",
    "#### LTVとCACの関係性による評価\n",
    "\n",
    "まず\n",
    "\n",
    "$$\n",
    "LTV > CAC\n",
    "$$\n",
    "\n",
    "でなければ赤字のような状態。\n",
    "\n",
    "さらにいうとUnit economicsが3以上であることがVCの一般的な基準らしい\n",
    "\n",
    "（参考：[SaaSの公式「LTV/CAC > 3x」ってなんでなの？分解して考えてみた。 | Wantedly Corporate Team Blog](https://www.wantedly.com/companies/wantedly/post_articles/136733)）\n",
    "\n",
    "#### CACの回収期間での評価（CAC Payback Period）\n",
    "\n",
    "CACの回収期間で評価することもある\n",
    "\n",
    "$$\n",
    "\\text { Payback Period }=\\frac{\\mathrm{CAC}}{\\text { Average MRR per Customer }}\n",
    "$$\n",
    "\n"
   ]
  },
  {
   "cell_type": "markdown",
   "id": "b2ce7860-3d79-4d10-924d-fd0c8570adcb",
   "metadata": {},
   "source": [
    "## 参考文献\n",
    "\n",
    "- [経営学部のためのSaaSとサブスクリプションのデータ分析入門 - Speaker Deck](https://speakerdeck.com/welliving/jing-ying-xue-bu-notamenosaastosabusukuripusiyonnodetafen-xi-ru-men)\n",
    "- 宮田 善孝（2021）『All for SaaS』"
   ]
  },
  {
   "cell_type": "code",
   "execution_count": null,
   "id": "0316f587-61b6-4c5d-ba4f-2e691f82daf4",
   "metadata": {},
   "outputs": [],
   "source": []
  }
 ],
 "metadata": {
  "kernelspec": {
   "display_name": "Python 3 (ipykernel)",
   "language": "python",
   "name": "python3"
  },
  "language_info": {
   "codemirror_mode": {
    "name": "ipython",
    "version": 3
   },
   "file_extension": ".py",
   "mimetype": "text/x-python",
   "name": "python",
   "nbconvert_exporter": "python",
   "pygments_lexer": "ipython3",
   "version": "3.10.13"
  }
 },
 "nbformat": 4,
 "nbformat_minor": 5
}
