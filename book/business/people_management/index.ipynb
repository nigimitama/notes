{
 "cells": [
  {
   "cell_type": "markdown",
   "id": "f675735a-ba3f-4ac1-9825-96846ef8b25b",
   "metadata": {},
   "source": [
    "# People Management"
   ]
  },
  {
   "cell_type": "markdown",
   "id": "671d1fbb-80c3-4bb4-84ed-18c79b2694e3",
   "metadata": {},
   "source": [
    ":::{tableofcontents}\n",
    ":::"
   ]
  },
  {
   "cell_type": "markdown",
   "id": "eacc9a5f-7f08-40d7-98c6-7e612f1fac1f",
   "metadata": {},
   "source": [
    "[仕事を抱え込み、部下の成長に蓋をしてしまっていた私が、チームに頼りながら成果を出せるマネージャーになれた理由｜アナグラム株式会社](https://anagrams.jp/blog/relying-on-team-as-manager/)\n",
    "\n",
    "### リーダーの仕事は、自分をクビにすること\n",
    "\n",
    "「自分をクビにする」とは、「今は自分にしかできない業務を、他の誰かでもできるようにして、手放していくこと」です。そして、空いた時間で「今のチームメンバーにはまだできない、新しい価値を生み出す仕事」に取り組む。\n",
    "\n",
    "### 減点方式のフィードバックではなく、加点から始まるディスカッションを\n",
    "\n",
    "「足りない点」を探すのではなく、まず「自分が助けられた点」「自分の能力を超えている点」を探し、具体的に伝えるようにする\n",
    "\n",
    "### 「自分のコピーを量産しない」\n",
    "\n",
    "自分と同様の人を増やすことが良いように思いがちだが、それが達成されたとしても多様性を欠いたチームとなり、変化への対応力や新たな気づきを得る力を失っていく。\n",
    "\n",
    "自分と異なる意見を持つメンバーに対し、「それは違う」と言いそうになるが、一歩立ち止まって\n",
    "\n",
    "「これは間違いか？ それとも、別の解か？」\n",
    "\n",
    "と考える。\n",
    "\n",
    "### マネージャーは「ゲームクリエイター」\n",
    "\n",
    "マネージャーの仕事は「ゲームクリエイター」として、部下が自力でクリアできる絶妙な難易度に課題を調整し、それを仕事として渡すこと\n",
    "\n",
    "良い委譲とは「成功体験までを設計する」こと。そのための条件は2つ\n",
    "\n",
    "1. 部下の力では動かせない「障害物」を特定し、撤去しておくこと。\n",
    "    - 厄介な人間関係や組織構造の問題など、ボトルネックを特定して除いておく。\n",
    "2. その仕事をその部下に任せた場合の勝ち筋が具体的に見据えられていること\n",
    "    - 成功への見通しをある程度描けていることが重要\n",
    "\n"
   ]
  },
  {
   "cell_type": "code",
   "execution_count": null,
   "id": "64aa6610-4a15-499c-a6b5-35c93a39d260",
   "metadata": {},
   "outputs": [],
   "source": []
  }
 ],
 "metadata": {
  "kernelspec": {
   "display_name": "Python 3 (ipykernel)",
   "language": "python",
   "name": "python3"
  },
  "language_info": {
   "codemirror_mode": {
    "name": "ipython",
    "version": 3
   },
   "file_extension": ".py",
   "mimetype": "text/x-python",
   "name": "python",
   "nbconvert_exporter": "python",
   "pygments_lexer": "ipython3",
   "version": "3.10.18"
  }
 },
 "nbformat": 4,
 "nbformat_minor": 5
}
