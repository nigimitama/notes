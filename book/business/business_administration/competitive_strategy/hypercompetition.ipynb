{
 "cells": [
  {
   "cell_type": "markdown",
   "id": "709b32fc-747b-4546-92b2-6024ed6bf8e6",
   "metadata": {},
   "source": [
    "# ハイパーコンペティション下での競争戦略"
   ]
  },
  {
   "cell_type": "markdown",
   "id": "0a081180-0be4-457a-b907-41587672283b",
   "metadata": {},
   "source": [
    "## 一時的な競争優位を繰り返す\n",
    "\n",
    "[Wiggins & Ruefli (2002). Sustained competitive advantage: Temporal dynamics and the incidence and persistence of superior economic performance.](https://web.archive.org/web/20190223004601id_/http://pdfs.semanticscholar.org/468a/5008b3a2b504f333823c2aeb22a078664256.pdf) などの研究で、大規模データで分析をしたところ、10年以上続けて同じ業界のライバルよりも高い業績を残せているかを調べた。その結果、\n",
    "\n",
    "1. アメリカで持続的な競争優位にある企業は存在するが2~5%とごく少数\n",
    "2. 近年になるほど競争優位を保てる期間は短くなっている、つまり **競争優位を獲得するのは難しくなっている**\n",
    "3. いったん競争優位を失ってから再び競争優位を獲得する企業が増加している\n",
    "    - → **一時的な優位（temporary advantage）を鎖のように繋いでいく** ことで結果として長期的に高い業績を得ている"
   ]
  },
  {
   "cell_type": "markdown",
   "id": "3e41121d-6620-448a-aec3-2f665ef5da3f",
   "metadata": {},
   "source": [
    "## ハイパー・コンペティション\n",
    "\n",
    "似た研究は以前よりいくつか存在する。リチャード・ダヴェニ（Richard D’Aveni）は1994年の本でハイパーコンペティションという言葉を提唱している\n",
    "\n",
    "> ハイパーコンペティション（hypercompetition）：競争優位が長く続かないダイナミックな競争環境\n",
    ">\n",
    "> 参考：[Hypercompetition - Wikipedia](https://en.wikipedia.org/wiki/Hypercompetition)\n"
   ]
  },
  {
   "cell_type": "markdown",
   "id": "ec090a65-dfb6-4b78-8e7a-31da1294dd65",
   "metadata": {},
   "source": [
    "## ハイパーコンペティション下では積極的な競争行動が好ましい\n",
    "\n",
    "新製品の投入や販促活動、価格の引き下げなどを **競争行動（competitive action）** という。\n",
    "\n",
    "[Ferrier (2001). Navigating the competitive landscape: The drivers and consequences of competitive aggressiveness.](https://www.jstor.org/stable/3069419) では1987~1998年のアメリカの224企業のデータを使って分析を行い、より多く競争行動をとる企業のほうが市場シェアを獲得することを示した。\n",
    "\n",
    "その後の類似の研究（例えばChen et al. (2010). Navigating in a hypercompetitive environment: The roles of action aggressiveness and TMT integration.）でも同様の結論が出ているらしい（入山『世界の経営学者はいま何を考えているのか』）"
   ]
  }
 ],
 "metadata": {
  "kernelspec": {
   "display_name": "Python 3 (ipykernel)",
   "language": "python",
   "name": "python3"
  },
  "language_info": {
   "codemirror_mode": {
    "name": "ipython",
    "version": 3
   },
   "file_extension": ".py",
   "mimetype": "text/x-python",
   "name": "python",
   "nbconvert_exporter": "python",
   "pygments_lexer": "ipython3",
   "version": "3.10.15"
  }
 },
 "nbformat": 4,
 "nbformat_minor": 5
}
