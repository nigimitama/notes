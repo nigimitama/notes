{
 "cells": [
  {
   "cell_type": "markdown",
   "id": "ebbe3bc9-09ec-41a9-89ab-eef6c4e5714e",
   "metadata": {},
   "source": [
    "重要なことは、\n",
    "\n",
    "- やるべきタスクが洗い出されていること\n",
    "- すべてのタスクが終わったときに目的が達成されていること\n",
    "\n"
   ]
  },
  {
   "cell_type": "markdown",
   "id": "314c6e01-3f8a-43ad-8f1b-a87b57b114d6",
   "metadata": {},
   "source": [
    "やりがちな失敗は\n",
    "\n",
    "- なんとなくスタートしてしまう\n",
    "- 全体観を忘れて、細部の問題だけに集中してしまう"
   ]
  },
  {
   "cell_type": "markdown",
   "id": "cef39b28-24e8-4ec2-a5e1-941851019441",
   "metadata": {},
   "source": []
  }
 ],
 "metadata": {
  "kernelspec": {
   "display_name": "Python 3 (ipykernel)",
   "language": "python",
   "name": "python3"
  },
  "language_info": {
   "codemirror_mode": {
    "name": "ipython",
    "version": 3
   },
   "file_extension": ".py",
   "mimetype": "text/x-python",
   "name": "python",
   "nbconvert_exporter": "python",
   "pygments_lexer": "ipython3",
   "version": "3.10.15"
  }
 },
 "nbformat": 4,
 "nbformat_minor": 5
}
