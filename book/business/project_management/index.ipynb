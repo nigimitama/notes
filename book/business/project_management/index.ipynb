{
 "cells": [
  {
   "cell_type": "markdown",
   "id": "138d9048-45b6-4085-b53f-3ae5eddfa1aa",
   "metadata": {},
   "source": [
    "# プロジェクトマネジメント\n",
    "\n",
    ":::{tableofcontents}\n",
    ":::"
   ]
  },
  {
   "cell_type": "code",
   "execution_count": null,
   "id": "b6d5f5b8-891c-48ac-a5b5-a6b13c92bf00",
   "metadata": {},
   "outputs": [],
   "source": []
  }
 ],
 "metadata": {
  "kernelspec": {
   "display_name": "Python 3 (ipykernel)",
   "language": "python",
   "name": "python3"
  },
  "language_info": {
   "codemirror_mode": {
    "name": "ipython",
    "version": 3
   },
   "file_extension": ".py",
   "mimetype": "text/x-python",
   "name": "python",
   "nbconvert_exporter": "python",
   "pygments_lexer": "ipython3",
   "version": "3.10.15"
  }
 },
 "nbformat": 4,
 "nbformat_minor": 5
}
