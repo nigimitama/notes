{
 "cells": [
  {
   "cell_type": "markdown",
   "id": "202516c6-d726-498b-a5e9-3e93dc88088e",
   "metadata": {},
   "source": [
    "# ロードマップ"
   ]
  },
  {
   "cell_type": "markdown",
   "id": "51e203c9-6c81-4570-a6a3-04fd32a047ea",
   "metadata": {},
   "source": [
    "ロードマップはプロジェクトの全体的なスケジュール感を描くもの\n",
    "\n",
    "「〇月〇日までに売上を〇〇万円にする」や「〇月〇日までにクライアントに成果物を納品する」など目標を書く\n",
    "\n",
    "メンバーにもスケジュール感を伝えられるし、経営陣とのコミュニケーションにも使われる"
   ]
  },
  {
   "cell_type": "markdown",
   "id": "60382c47-d8ec-4e62-9bd2-c8f3c0c80748",
   "metadata": {},
   "source": [
    "### メリットとデメリット\n",
    "\n",
    "ロードマップを書くメリットは、開発計画がわかりやすくなること。\n",
    "\n",
    "一方でデメリットは開発計画が固定され、アジャイルに適応していくことができなくなる\n",
    "\n",
    "\n",
    ":::{info}\n",
    "プロダクトのビジョンを重視し、ロードマップはフェーズごとにビジョンから動的に生成されるものと捉えて拡張可能にしておく戦略もある：[pmconf 2023 プロダクトと事業を無限にスケールするための最強のロードマップの作り方 - Speaker Deck](https://speakerdeck.com/yamamuteki/the-greatest-roadmap-for-unlimited-scaling-your-business-and-products)\n",
    ":::"
   ]
  },
  {
   "cell_type": "markdown",
   "id": "de9c3dbb-a73e-4eca-ab97-a385dea8077b",
   "metadata": {},
   "source": [
    "### ロードマップには機能ではなく数字を書く\n",
    "\n",
    "- ロードマップには数字を書く（いつまでに売上やこの指標がいくらになるか）\n",
    "- 機能はバックログに書く\n",
    "\n",
    "> 1. ロードマップには数字を書きましょう（売上と、プロダクトが持つべき指標）\n",
    "> 2. どんな状態をつくることで、その数字を達成するのかを書きましょう（アウトカム）\n",
    "> 3. 「機能」は仮説検証を繰り返して最も良い形を探すこととし、長期的なロードマップに決め打ちでは書かない（数字に影響があるような物は除く）\n",
    "> 4. すべてのタスクがロードマップにあるわけではありません。日々の業務をこなしながら、ロードマップを実現できるように頑張っていきましょう。\n",
    ">\n",
    "> [ロードマップに機能を書くべからず｜小城久美子 / ozyozyo](https://note.com/ozyozyo/n/nfb370fadd70c)"
   ]
  },
  {
   "cell_type": "markdown",
   "id": "582efb0e-7b95-4780-ab46-045f5ad82f79",
   "metadata": {},
   "source": [
    "### マイルストーン\n",
    "\n",
    "マイルストーン（milestone）は物事において進捗管理しやすいよう設置した節目や主要なポイントのこと。中間地点。\n"
   ]
  },
  {
   "cell_type": "code",
   "execution_count": null,
   "id": "c291d94d-1a49-4ac1-8abe-46c5f234f35f",
   "metadata": {},
   "outputs": [],
   "source": []
  }
 ],
 "metadata": {
  "kernelspec": {
   "display_name": "Python 3 (ipykernel)",
   "language": "python",
   "name": "python3"
  },
  "language_info": {
   "codemirror_mode": {
    "name": "ipython",
    "version": 3
   },
   "file_extension": ".py",
   "mimetype": "text/x-python",
   "name": "python",
   "nbconvert_exporter": "python",
   "pygments_lexer": "ipython3",
   "version": "3.9.18"
  }
 },
 "nbformat": 4,
 "nbformat_minor": 5
}
