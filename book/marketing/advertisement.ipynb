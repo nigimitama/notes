{
 "cells": [
  {
   "cell_type": "markdown",
   "id": "3a6ab6f8-a776-46fe-ace1-b587929d72d3",
   "metadata": {},
   "source": [
    "# 広告"
   ]
  },
  {
   "cell_type": "markdown",
   "id": "c90a84f7-c9c1-4a1e-b90d-90a739505dcf",
   "metadata": {},
   "source": [
    "[今や広告は目立たないほうがいい？　今年も行われた「スマホゲームマーケの『嘘』」を紹介するセッションレポート［CEDEC 2024］](https://www.4gamer.net/games/999/G999905/20240823039/)\n",
    "\n",
    "- サードパーティの計測ツールが人間の肌感と違う場合に注意\n",
    "    - ひどいものはゲームをインストールしたあとに表示した広告の成果でインストールした扱いになってたりする → **広告が実際より大幅に過大評価されている**"
   ]
  }
 ],
 "metadata": {
  "kernelspec": {
   "display_name": "Python 3 (ipykernel)",
   "language": "python",
   "name": "python3"
  },
  "language_info": {
   "codemirror_mode": {
    "name": "ipython",
    "version": 3
   },
   "file_extension": ".py",
   "mimetype": "text/x-python",
   "name": "python",
   "nbconvert_exporter": "python",
   "pygments_lexer": "ipython3",
   "version": "3.10.14"
  }
 },
 "nbformat": 4,
 "nbformat_minor": 5
}
