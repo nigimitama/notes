{
 "cells": [
  {
   "cell_type": "markdown",
   "id": "8241ab04-777c-494d-b4e1-9831a65deecd",
   "metadata": {},
   "source": [
    "# Generalized Random Forest (GRF)"
   ]
  },
  {
   "cell_type": "markdown",
   "id": "f020345d-e90d-4422-83c6-4bc8f93bb745",
   "metadata": {},
   "source": [
    "- [Random Forests in 2023: Modern Extensions of a Powerful Method | by Jeffrey Näf | Nov, 2023 | Towards Data Science](https://towardsdatascience.com/random-forests-in-2023-modern-extensions-of-a-powerful-method-b62debaf1d62)\n"
   ]
  },
  {
   "cell_type": "code",
   "execution_count": null,
   "id": "df3e05fb-1460-47e8-ad37-a7595a5c5872",
   "metadata": {},
   "outputs": [],
   "source": []
  }
 ],
 "metadata": {
  "kernelspec": {
   "display_name": "Python 3 (ipykernel)",
   "language": "python",
   "name": "python3"
  },
  "language_info": {
   "codemirror_mode": {
    "name": "ipython",
    "version": 3
   },
   "file_extension": ".py",
   "mimetype": "text/x-python",
   "name": "python",
   "nbconvert_exporter": "python",
   "pygments_lexer": "ipython3",
   "version": "3.9.18"
  }
 },
 "nbformat": 4,
 "nbformat_minor": 5
}
