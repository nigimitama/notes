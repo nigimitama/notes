{
 "cells": [
  {
   "cell_type": "markdown",
   "id": "0de891a7-c6b4-4085-af23-d13102a21ed2",
   "metadata": {},
   "source": [
    "# CatBoost"
   ]
  },
  {
   "cell_type": "markdown",
   "id": "f7c55819-844e-40ba-aa19-a3346bf194f6",
   "metadata": {},
   "source": [
    "[Prokhorenkova et al. (2018). CatBoost: unbiased boosting with categorical features](https://arxiv.org/pdf/1706.09516.pdf)"
   ]
  },
  {
   "cell_type": "markdown",
   "id": "e43e77f8-e36c-4bd5-98a3-1ce8af00cae4",
   "metadata": {},
   "source": [
    "## Prediction Shift\n",
    "\n",
    "[CatBoost論文のprediction shiftについて完全に理解する - threecourse’s blog](https://threecourse.hatenablog.com/entry/2020/05/29/204944)\n",
    "\n",
    "- 各iterationで同じ訓練データを使うことの問題\n",
    "- 1本目と2本目の木の作成で同じデータセットを使うことにより、予測値の期待値に$1 / (n − 1)$ に比例する偏りが発生する。\n",
    "- prediction shiftの影響を受けないよう、CatBoostではデータ数が少ない場合にはordered boostingというアルゴリズムを使用するようになっている。"
   ]
  },
  {
   "cell_type": "code",
   "execution_count": null,
   "id": "c4e5f656-76b8-42cd-8cba-2d83f4f0aed4",
   "metadata": {},
   "outputs": [],
   "source": []
  }
 ],
 "metadata": {
  "kernelspec": {
   "display_name": "Python 3 (ipykernel)",
   "language": "python",
   "name": "python3"
  },
  "language_info": {
   "codemirror_mode": {
    "name": "ipython",
    "version": 3
   },
   "file_extension": ".py",
   "mimetype": "text/x-python",
   "name": "python",
   "nbconvert_exporter": "python",
   "pygments_lexer": "ipython3",
   "version": "3.9.18"
  }
 },
 "nbformat": 4,
 "nbformat_minor": 5
}
