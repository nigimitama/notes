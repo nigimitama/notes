{
 "cells": [
  {
   "cell_type": "markdown",
   "id": "ab588282-57d8-4907-aa4a-ac040817fdad",
   "metadata": {},
   "source": [
    "# Rule Extraction from GBDT\n",
    "\n"
   ]
  },
  {
   "cell_type": "markdown",
   "id": "93e4e779-fb10-47a7-befc-f80c2b1cbc07",
   "metadata": {},
   "source": [
    "## Fire: An optimization approach for fast interpretable rule extraction. (KDD2023)\n",
    "\n",
    ":::{card} Fire: An optimization approach for fast interpretable rule extraction. (KDD2023)\n",
    "\n",
    "[Liu, B., & Mazumder, R. (2023, August). Fire: An optimization approach for fast interpretable rule extraction. In Proceedings of the 29th ACM SIGKDD Conference on Knowledge Discovery and Data Mining (pp. 1396-1405).](https://arxiv.org/pdf/2306.07432)\n",
    "\n",
    ":::\n",
    "\n",
    "\n",
    "**Fire（Fast Interpretable Rule Extraction）** は、決定木アンサンブル（Random Forest や Boosted Trees）から 少数で解釈しやすいルール集合 を抽出するための最適化ベースのフレームワークである。\n",
    "Fire は、\n",
    "\n",
    "- スパース選択（非凸ペナルティ） により代表的なルールを厳選し、\n",
    "- 融合正則化（fused LASSO） により共通の前提条件（if-then antecedents）を共有するルール群を促す。\n",
    "\n",
    "これにより、解釈性を保ちながら高性能な小規模モデルを生成できる。\n",
    "\n",
    "Fire は問題規模と非凸性のため既存ソルバーでは扱いにくいが、論文では ブロック座標降下（BCD）＋貪欲選択（greedy selection） に基づく専用ソルバーを開発し、既存手法より最大40倍高速に動作することを示した。\n"
   ]
  },
  {
   "cell_type": "markdown",
   "id": "c3f8a703-3882-4df7-8b73-fb80a8e8333f",
   "metadata": {},
   "source": [
    "### 前提の考え方\n",
    "\n",
    "決定木の葉ノードはif-thenルールの連鎖になる。例えば閾値$s$, 入力$x$, 葉の値$v$について\n",
    "\n",
    "$$\n",
    "r_3(x)=1\\left(x_1>s_1\\right) \\cdot 1\\left(x_3 \\leq s_3\\right) \\cdot v_3\n",
    "$$\n",
    "\n",
    "のように表すことができる。\n",
    "\n",
    "アンサンブルは葉の重み付き和\n",
    "\n",
    "$$\n",
    "\\hat{y}=\\sum_j w_j r_j(x)\n",
    "$$\n",
    "\n",
    "であるため、重要度の低い葉の重み$w_j$をゼロにすることで予測精度への悪影響を抑えつつルールをシンプルにし、人間にとっての解釈可能性を上げることができる。\n",
    "\n",
    "\n",
    "\n",
    "### 目的関数\n",
    "\n",
    "スパース化のための項と、ルールの融合のための項をつけた目的関数を使う\n",
    "\n",
    "$$\n",
    "\\min _w \\frac{1}{2}\\|y-M w\\|_2^2+h\\left(w, \\lambda_s\\right)+g\\left(w, \\lambda_f\\right)\n",
    "$$\n",
    "\n",
    "$$\n",
    "h\\left(w, \\lambda_s\\right)=\\sum_{j=1}^R P_\\gamma\\left(w_j, \\lambda_s\\right)\n",
    "$$\n",
    "\n",
    "### スパース化\n",
    "\n",
    "\n",
    "正則化項にLASSOではなくMCP（Minimax Concave Penalty）を採用\n",
    "\n",
    "$$\n",
    "P_\\gamma\\left(w_j, \\lambda_s\\right)= \\begin{cases}\\lambda_s\\left|w_j\\right|-\\frac{w_j^2}{2 \\gamma}, & \\left|w_j\\right| \\leq \\lambda_s \\gamma \\\\ \\frac{1}{2 \\gamma} \\lambda_s^2, & \\left|w_j\\right|>\\lambda_s \\gamma\\end{cases}\n",
    "$$\n",
    "\n",
    "$\\gamma > 1$ はハイパーパラメータで、$\\gamma \\approx 1$では$\\ell_0$ペナルティ、$\\gamma$が無限までの大きいときは$\\ell_1$ペナルティ（＝LASSO）に近づく\n",
    "\n",
    "### 融合項\n",
    "\n",
    "隣接ノードの重みの差へのペナルティをかける **fused LASSO** を導入\n",
    "\n",
    "$$\n",
    "g\\left(w, \\lambda_f\\right)=\\lambda_f \\sum_{t=1}^T\\left\\|D_t w_t\\right\\|_1\n",
    "$$\n",
    "\n",
    "近いノードをまとめてグループ化し、ルールの共有や内部ノードの削減を促す\n"
   ]
  },
  {
   "cell_type": "markdown",
   "id": "4a920b9c-babf-4be6-8f26-ab37e8b99d29",
   "metadata": {},
   "source": []
  }
 ],
 "metadata": {
  "kernelspec": {
   "display_name": "Python 3 (ipykernel)",
   "language": "python",
   "name": "python3"
  },
  "language_info": {
   "codemirror_mode": {
    "name": "ipython",
    "version": 3
   },
   "file_extension": ".py",
   "mimetype": "text/x-python",
   "name": "python",
   "nbconvert_exporter": "python",
   "pygments_lexer": "ipython3",
   "version": "3.10.18"
  }
 },
 "nbformat": 4,
 "nbformat_minor": 5
}
