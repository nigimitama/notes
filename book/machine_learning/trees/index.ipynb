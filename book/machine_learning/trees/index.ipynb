{
 "cells": [
  {
   "cell_type": "markdown",
   "id": "ce9b9b47-d23c-4117-98bb-c94d2012916d",
   "metadata": {},
   "source": [
    "# trees / GBDT"
   ]
  },
  {
   "cell_type": "markdown",
   "id": "074ba116-375d-4bca-ba82-44bd15714f22",
   "metadata": {},
   "source": [
    ":::{tableofcontents}\n",
    ":::"
   ]
  }
 ],
 "metadata": {
  "kernelspec": {
   "display_name": "Python 3 (ipykernel)",
   "language": "python",
   "name": "python3"
  },
  "language_info": {
   "codemirror_mode": {
    "name": "ipython",
    "version": 3
   },
   "file_extension": ".py",
   "mimetype": "text/x-python",
   "name": "python",
   "nbconvert_exporter": "python",
   "pygments_lexer": "ipython3",
   "version": "3.10.18"
  }
 },
 "nbformat": 4,
 "nbformat_minor": 5
}
