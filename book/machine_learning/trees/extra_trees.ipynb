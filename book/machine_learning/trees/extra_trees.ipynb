{
 "cells": [
  {
   "cell_type": "markdown",
   "id": "5ca76f9c-f9e0-4b48-9a1c-351c9f56d027",
   "metadata": {},
   "source": [
    "# Extra Trees\n",
    "\n",
    "Extra Trees (Extremely Randomized Trees) はRandom Forestsの改良版みたいなもの。\n",
    "\n",
    "Random Forestはランダムに選んだ特徴量を用いて、その中で最良の分割点を探索して決定木を構築する。\n",
    "\n",
    "一方でExtra Treesはランダムに選んだ特徴量の、ランダムな分割点たちを候補点として、そのなかの最良分割点で分割するように決定木を構築する。\n",
    "\n",
    "それによってよりランダムで独立した決定木たちを構築し、アンサンブル（平均 or 多数決）するときのバリアンスを低減させる"
   ]
  },
  {
   "cell_type": "markdown",
   "id": "6ba29313-db57-43b2-81b2-a1a3c733e155",
   "metadata": {},
   "source": [
    "## 理論"
   ]
  },
  {
   "cell_type": "markdown",
   "id": "25840812-2155-44ae-8e0e-05832257ebe6",
   "metadata": {},
   "source": [
    "[Geurts, P., Ernst, D., & Wehenkel, L. (2006). Extremely randomized trees. Machine learning, 63, 3-42.](https://link.springer.com/article/10.1007/s10994-006-6226-1)"
   ]
  },
  {
   "cell_type": "markdown",
   "id": "e38cefb9-bf6f-41b9-9980-b157e369b9cc",
   "metadata": {},
   "source": []
  },
  {
   "cell_type": "markdown",
   "id": "0276df5a-8a8c-4f33-ad6e-ba5263ca45c6",
   "metadata": {},
   "source": [
    "## 実装\n",
    "\n",
    "sklearnに実装がある [ExtraTreesClassifier — scikit-learn 1.6.1 documentation](https://scikit-learn.org/stable/modules/generated/sklearn.ensemble.ExtraTreesClassifier.html)"
   ]
  },
  {
   "cell_type": "code",
   "execution_count": 1,
   "id": "d4f7aa3a-a4f5-4100-9bee-fa4312cce7ca",
   "metadata": {},
   "outputs": [
    {
     "data": {
      "text/plain": [
       "array([1])"
      ]
     },
     "execution_count": 1,
     "metadata": {},
     "output_type": "execute_result"
    }
   ],
   "source": [
    "from sklearn.ensemble import ExtraTreesClassifier\n",
    "from sklearn.datasets import make_classification\n",
    "X, y = make_classification(n_features=4, random_state=0)\n",
    "clf = ExtraTreesClassifier(n_estimators=100, random_state=0)\n",
    "clf.fit(X, y)\n",
    "clf.predict([[0, 0, 0, 0]])"
   ]
  }
 ],
 "metadata": {
  "kernelspec": {
   "display_name": "Python 3 (ipykernel)",
   "language": "python",
   "name": "python3"
  },
  "language_info": {
   "codemirror_mode": {
    "name": "ipython",
    "version": 3
   },
   "file_extension": ".py",
   "mimetype": "text/x-python",
   "name": "python",
   "nbconvert_exporter": "python",
   "pygments_lexer": "ipython3",
   "version": "3.10.15"
  }
 },
 "nbformat": 4,
 "nbformat_minor": 5
}
