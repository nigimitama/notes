{
 "cells": [
  {
   "cell_type": "markdown",
   "id": "f85e0095-fc89-4a07-bec5-ec37cd4431d3",
   "metadata": {},
   "source": [
    "# LightGBM\n",
    "\n",
    "[Ke et al. (2017). Lightgbm: A highly efficient gradient boosting decision tree.](https://proceedings.neurips.cc/paper/2017/file/6449f44a102fde848669bdd9eb6b76fa-Paper.pdf)"
   ]
  },
  {
   "cell_type": "markdown",
   "id": "80053e82-ad42-4b67-a531-800a24856ec6",
   "metadata": {},
   "source": [
    "## 概要\n",
    "\n",
    "LightGBMは\n",
    "\n",
    "- **pre-pruning** （決定木の枝をそれ以上分岐させても予測が改善しなくなったら分割を停止する剪定方法）\n",
    "- **best-first** （情報利得が最大の枝から順に伸ばす。pre-pruningが使える。）\n",
    "- **histogram-based** （連続値の特徴量をbinに離散化することで最適な分割点の探索の計算量を激減させる）\n",
    "\n",
    "という決定木の高速化に関する既存の技術と、\n",
    "\n",
    "- **Gradient-based One-Side Sampling** （勾配の情報を活用して近似精度の良いサブサンプリングをする）\n",
    "- **Exclusive Feature Bundling** （one-hot encodingをしたように相互に排他的になっているスパースな特徴量をlabel encodingをした特徴量のような密な特徴量にまとめることで効率良く学習する）\n",
    "\n",
    "というLightGBM自身が新たに提案した2つの技術を使った、高速で精度の良い勾配ブースティング決定木。"
   ]
  },
  {
   "cell_type": "markdown",
   "id": "d113a07b-026c-4542-9623-da381e3ae7fa",
   "metadata": {},
   "source": [
    "## LightGBMが使う既存の技術"
   ]
  },
  {
   "cell_type": "code",
   "execution_count": null,
   "id": "5c6deb58-33ae-47a6-9219-4c055560ef9a",
   "metadata": {},
   "outputs": [],
   "source": []
  }
 ],
 "metadata": {
  "kernelspec": {
   "display_name": "Python 3 (ipykernel)",
   "language": "python",
   "name": "python3"
  },
  "language_info": {
   "codemirror_mode": {
    "name": "ipython",
    "version": 3
   },
   "file_extension": ".py",
   "mimetype": "text/x-python",
   "name": "python",
   "nbconvert_exporter": "python",
   "pygments_lexer": "ipython3",
   "version": "3.10.13"
  }
 },
 "nbformat": 4,
 "nbformat_minor": 5
}
