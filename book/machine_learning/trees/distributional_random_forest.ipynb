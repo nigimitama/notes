{
 "cells": [
  {
   "cell_type": "markdown",
   "id": "12cad21c-1b0f-460b-a93a-159c92801631",
   "metadata": {},
   "source": [
    "# Distributional Random Forest"
   ]
  },
  {
   "cell_type": "markdown",
   "id": "fbe6b74c-6579-402f-8f1d-285a7513a07a",
   "metadata": {},
   "source": [
    "Distributional Random Forest (DRF) は条件付き分布を推定するためのRandom Forest（[Ćevid et al. (2020)](https://dl.acm.org/doi/abs/10.5555/3586589.3586922)）。"
   ]
  },
  {
   "cell_type": "markdown",
   "id": "fd3c51ce-fd62-4369-8c00-565512f38f45",
   "metadata": {},
   "source": [
    "MMD (Maximal Mean Discrepancy) に基づく新しい分割基準"
   ]
  },
  {
   "cell_type": "markdown",
   "id": "74fbe5d4-aa2f-4d9a-87e4-60188d4becf0",
   "metadata": {},
   "source": [
    "## 参考文献\n",
    "\n",
    "- [Ćevid, D., Michel, L., Näf, J., Meinshausen, N., & Bühlmann, P. (2020). Distributional random forests: Heterogeneity adjustment and multivariate distributional regression. arXiv preprint arXiv:2005.14458.](https://dl.acm.org/doi/abs/10.5555/3586589.3586922)\n",
    "- [[2302.05761] Confidence and Uncertainty Assessment for Distributional Random Forests](https://arxiv.org/abs/2302.05761)\n"
   ]
  },
  {
   "cell_type": "code",
   "execution_count": null,
   "id": "e8f30537-fba6-4dd4-a95f-dd117d85c836",
   "metadata": {},
   "outputs": [],
   "source": []
  }
 ],
 "metadata": {
  "kernelspec": {
   "display_name": "Python 3 (ipykernel)",
   "language": "python",
   "name": "python3"
  },
  "language_info": {
   "codemirror_mode": {
    "name": "ipython",
    "version": 3
   },
   "file_extension": ".py",
   "mimetype": "text/x-python",
   "name": "python",
   "nbconvert_exporter": "python",
   "pygments_lexer": "ipython3",
   "version": "3.10.17"
  }
 },
 "nbformat": 4,
 "nbformat_minor": 5
}
