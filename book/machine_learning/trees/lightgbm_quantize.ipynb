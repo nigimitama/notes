{
 "cells": [
  {
   "cell_type": "markdown",
   "id": "bda58e44-f654-40de-b398-bba4bd0837ab",
   "metadata": {},
   "source": [
    "# Quantized Training of LightGBM"
   ]
  },
  {
   "cell_type": "code",
   "execution_count": null,
   "id": "01e272a8-4b6b-41c2-a7d9-43bdfce5bb0c",
   "metadata": {},
   "outputs": [],
   "source": []
  }
 ],
 "metadata": {
  "kernelspec": {
   "display_name": "Python 3 (ipykernel)",
   "language": "python",
   "name": "python3"
  },
  "language_info": {
   "codemirror_mode": {
    "name": "ipython",
    "version": 3
   },
   "file_extension": ".py",
   "mimetype": "text/x-python",
   "name": "python",
   "nbconvert_exporter": "python",
   "pygments_lexer": "ipython3",
   "version": "3.10.13"
  }
 },
 "nbformat": 4,
 "nbformat_minor": 5
}
