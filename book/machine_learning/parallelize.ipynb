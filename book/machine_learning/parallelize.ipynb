{
 "cells": [
  {
   "cell_type": "markdown",
   "id": "6fa4ab80-d389-4a4d-8827-17fb0243a1d4",
   "metadata": {},
   "source": [
    "[確率的勾配降下法（SGD）の並列化について - 分からんこと多すぎ](https://rishida.hatenablog.com/entry/2013/11/17/101525)"
   ]
  },
  {
   "cell_type": "code",
   "execution_count": null,
   "id": "e1db3bc0-642c-4a1d-bde0-52dfadbc378c",
   "metadata": {},
   "outputs": [],
   "source": []
  }
 ],
 "metadata": {
  "kernelspec": {
   "display_name": "Python 3 (ipykernel)",
   "language": "python",
   "name": "python3"
  },
  "language_info": {
   "codemirror_mode": {
    "name": "ipython",
    "version": 3
   },
   "file_extension": ".py",
   "mimetype": "text/x-python",
   "name": "python",
   "nbconvert_exporter": "python",
   "pygments_lexer": "ipython3",
   "version": "3.9.16"
  }
 },
 "nbformat": 4,
 "nbformat_minor": 5
}
