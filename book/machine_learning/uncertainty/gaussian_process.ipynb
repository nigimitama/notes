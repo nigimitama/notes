{
 "cells": [
  {
   "cell_type": "markdown",
   "id": "78df8b06-554b-43ac-b784-3f21fa922b21",
   "metadata": {},
   "source": [
    "# ガウス過程モデル"
   ]
  },
  {
   "cell_type": "code",
   "execution_count": null,
   "id": "a6d47fe2-1429-4d27-96a1-b5c09eb73d51",
   "metadata": {},
   "outputs": [],
   "source": []
  },
  {
   "cell_type": "markdown",
   "id": "a163aeb9-4b5f-4574-812c-367377179248",
   "metadata": {},
   "source": [
    "## 参考\n",
    "\n",
    "- [赤穂昭太郎. (2018). ガウス過程回帰の基礎. システム/制御/情報, 62(10), 390-395.](https://www.jstage.jst.go.jp/article/isciesci/62/10/62_390/_pdf)\n",
    "- 敬文金森. (2018). Pythonで学ぶ統計的機械学習. 株式会社 オーム社.\n",
    "- [[1807.02582] Gaussian Processes and Kernel Methods: A Review on Connections and Equivalences](https://arxiv.org/abs/1807.02582)\n",
    "    - 評判の高い解説論文"
   ]
  },
  {
   "cell_type": "code",
   "execution_count": null,
   "id": "5a4e9aaf-3e0f-4415-b274-2392e8baf9ee",
   "metadata": {},
   "outputs": [],
   "source": []
  }
 ],
 "metadata": {
  "kernelspec": {
   "display_name": "Python 3 (ipykernel)",
   "language": "python",
   "name": "python3"
  },
  "language_info": {
   "codemirror_mode": {
    "name": "ipython",
    "version": 3
   },
   "file_extension": ".py",
   "mimetype": "text/x-python",
   "name": "python",
   "nbconvert_exporter": "python",
   "pygments_lexer": "ipython3",
   "version": "3.10.17"
  }
 },
 "nbformat": 4,
 "nbformat_minor": 5
}
