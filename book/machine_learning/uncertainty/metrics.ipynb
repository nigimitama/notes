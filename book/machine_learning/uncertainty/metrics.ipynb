{
 "cells": [
  {
   "cell_type": "markdown",
   "id": "7ade4391-c0f7-441d-b398-d855ea3cac6c",
   "metadata": {},
   "source": [
    "# 区間予測の評価指標"
   ]
  },
  {
   "cell_type": "markdown",
   "id": "144d23fb-3090-437c-a4f1-1dd40e9f64e0",
   "metadata": {},
   "source": [
    "## D2 pinball score\n",
    "\n",
    "$D^2$は決定係数$R^2$の一般化\n",
    "\n",
    "$$\n",
    "D^2(y, \\hat{y}) = 1 - \\frac{\\text{dev}(y, \\hat{y})}{\\text{dev}(y, y_{\\text{null}})}\n",
    "$$\n",
    "\n",
    "ここで$y_{\\text{null}}$は切片のみのモデルの最適解（例：二乗誤差なら$y$の平均値、絶対誤差なら$y$の中央値、pinball lossなら$y$の指定されたquantile）\n",
    "\n",
    "この$D^2$に\n",
    "\n",
    "$$\n",
    "\\text{dev}(y, \\hat{y})\n",
    "= \\text{pinball}(y, \\hat{y})\n",
    "= \\begin{cases}\n",
    "(\\tau - 1) (y - \\hat{y}) & \\text{ if } (y - \\hat{y}) \\leq 0\\\\\n",
    "\\tau (y - \\hat{y}) & \\text{ if } (y - \\hat{y}) > 0\\\\\n",
    "\\end{cases}\n",
    "$$\n",
    "\n",
    "を代入したものが$D^2$ pinball score\n",
    "\n",
    "（参考：[3.3. Metrics and scoring: quantifying the quality of predictions — scikit-learn 1.4.1 documentation](https://scikit-learn.org/stable/modules/model_evaluation.html#d2-score)）"
   ]
  },
  {
   "cell_type": "markdown",
   "id": "f2b92078-59b0-437f-be35-8ea4483eb3c9",
   "metadata": {},
   "source": [
    "## interval score\n",
    "\n",
    "[Gneiting, T., & Raftery, A. E. (2007). Strictly proper scoring rules, prediction, and estimation. Journal of the American statistical Association, 102(477), 359-378.](https://sites.stat.washington.edu/people/raftery/Research/PDF/Gneiting2007jasa.pdf)\n",
    "\n",
    "$(1 - \\alpha)\\times 100\\text{%}$予測区間を$[l, u]=[\\frac{\\alpha}{2}, 1 - \\frac{\\alpha}{2}]$ quantileで構築したとする。\n",
    "\n",
    "interval scoreは真の値を$x$として\n",
    "\n",
    "$$\n",
    "S_{\\alpha}(l, u; x)\n",
    "= (u - l)\n",
    "    + \\frac{2}{\\alpha} (l - x) \\mathbb{1}\\{ x < l \\}\n",
    "    + \\frac{2}{\\alpha} (x - u) \\mathbb{1}\\{ x > u \\}\n",
    "$$\n",
    "\n",
    "\n",
    "となる。（スコアが小さいほうが良いモデルを意味する）"
   ]
  },
  {
   "cell_type": "code",
   "execution_count": 2,
   "id": "92f8662b-be3e-443b-92ce-f527aa2cdcda",
   "metadata": {},
   "outputs": [
    {
     "name": "stdout",
     "output_type": "stream",
     "text": [
      "s1=9.0, s2=2.0\n"
     ]
    }
   ],
   "source": [
    "import numpy as np\n",
    "\n",
    "def interval_score(l, u, x, alpha):\n",
    "    return (u - l) + (2 / alpha) * (l - x) * (x < l) + (2 / alpha) * (x - u) * (x > u)\n",
    "\n",
    "alpha = 0.05\n",
    "true_values = 5\n",
    "\n",
    "# 予測1\n",
    "lower, upper = (1, 10)\n",
    "s1 = interval_score(lower, upper, true_values, alpha)\n",
    "# 予測2\n",
    "lower, upper = (4, 6)\n",
    "s2 = interval_score(lower, upper, true_values, alpha)\n",
    "print(f\"{s1=}, {s2=}\")"
   ]
  },
  {
   "cell_type": "markdown",
   "id": "0c9d4406-03f2-4e69-abbc-cb00c2b76c9b",
   "metadata": {},
   "source": [
    "## Calibration\n",
    "- [[2011.09588] Beyond Pinball Loss: Quantile Methods for Calibrated Uncertainty Quantification](https://arxiv.org/abs/2011.09588)"
   ]
  },
  {
   "cell_type": "code",
   "execution_count": null,
   "id": "905e72d7-79fa-49eb-b283-ba0770ba4097",
   "metadata": {},
   "outputs": [],
   "source": []
  }
 ],
 "metadata": {
  "kernelspec": {
   "display_name": "Python 3 (ipykernel)",
   "language": "python",
   "name": "python3"
  },
  "language_info": {
   "codemirror_mode": {
    "name": "ipython",
    "version": 3
   },
   "file_extension": ".py",
   "mimetype": "text/x-python",
   "name": "python",
   "nbconvert_exporter": "python",
   "pygments_lexer": "ipython3",
   "version": "3.10.13"
  }
 },
 "nbformat": 4,
 "nbformat_minor": 5
}
