{
 "cells": [
  {
   "cell_type": "markdown",
   "id": "c55e60bd-fa4d-46b2-85e8-79f1ef2b50d2",
   "metadata": {},
   "source": [
    "# 次元削減"
   ]
  },
  {
   "cell_type": "markdown",
   "id": "5b4d74be-1637-4ddb-afcd-f7135a8e0b57",
   "metadata": {},
   "source": [
    "## 主成分分析\n",
    "\n",
    "主成分分析は学習データの分散が最大になる方向への線形変換を求める手法である。\n",
    "\n",
    "$d$次元の学習データ$\\boldsymbol{x}_i=(x_{i1}, ..., x_{id})^T$が$N$個あるデータ行列を$\\boldsymbol{X} = (\\boldsymbol{x}_1, ..., \\boldsymbol{x}_N)^T$とする。\n",
    "\n",
    "そこから平均ベクトル$\\bar{\\boldsymbol{x}}=(\\bar{x}_1, ..., \\bar{x}_d)^T$を引き算した行列を$\\bar{\\boldsymbol{X}}=(\\boldsymbol{x}_1 - \\bar{\\boldsymbol{x}}, ..., \\boldsymbol{x}_N - \\bar{\\boldsymbol{x}})^T$とおけば、共分散行列$\\boldsymbol{\\Sigma}$は\n",
    "\n",
    "$$\n",
    "\\boldsymbol{\\Sigma} = Var[\\bar{\\boldsymbol{X}}]\n",
    "= \\frac{1}{N} \\bar{\\boldsymbol{X}}^T \\bar{\\boldsymbol{X}}\n",
    "$$\n",
    "\n",
    "で定義される。\n",
    "\n",
    "\n",
    "係数ベクトル$\\boldsymbol{a}_j = (a_{j1}, ..., a_{jd})^T (j=1, ..., d)$を用いて$\\bar{\\boldsymbol{X}}$を線形変換したものを$\\boldsymbol{s}_j$とする。\n",
    "\n",
    "$$\n",
    "\\boldsymbol{s}_j = (s_{1j}, ..., s_{Nj})^T = \\bar{\\boldsymbol{X}} \\boldsymbol{a}_j\n",
    "$$\n",
    "\n",
    "このデータの分散は\n",
    "\n",
    "$$\n",
    "\\begin{align}\n",
    "Var[\\boldsymbol{s}_j]\n",
    "= \\frac{1}{N} \\boldsymbol{s}_j^T \\boldsymbol{s}_j\\\\\n",
    "= \\frac{1}{N} (\\bar{\\boldsymbol{X}} \\boldsymbol{a}_j)^T \\bar{\\boldsymbol{X}} \\boldsymbol{a}_j\\\\\n",
    "= \\frac{1}{N} \\boldsymbol{a}_j^T \\bar{\\boldsymbol{X}}^T \\bar{\\boldsymbol{X}} \\boldsymbol{a}_j\\\\\n",
    "= \\boldsymbol{a}_j^T Var[\\bar{\\boldsymbol{X}}] \\boldsymbol{a}_j\\\\\n",
    "\\end{align}\n",
    "$$\n",
    "\n",
    "となる。\n",
    "\n",
    "このまま$\\max_{\\boldsymbol{a}_j} Var[\\boldsymbol{s}_j]$を解くと単に$\\boldsymbol{a}_j=\\infty$が解になってしまうので、係数ベクトル$\\boldsymbol{a}_j$のノルム制約条件をかけた最大化問題を解くことにする。\n",
    "\n",
    ":::{admonition} 主問題\n",
    "$$\n",
    "\\max_{\\boldsymbol{a}_j} \\ Var[\\boldsymbol{s}_j]\\\\\n",
    "\\text{subject to} \\ ||\\boldsymbol{a}_j||_2^2 = 1\n",
    "$$\n",
    ":::\n",
    "\n",
    "この分散が最大となる射影ベクトルは、ラグランジュ関数\n",
    "\n",
    "$$\n",
    "L(\\boldsymbol{a}_j) = \n",
    "\\boldsymbol{a}_j^T Var[\\bar{\\boldsymbol{X}}] \\boldsymbol{a}_j\n",
    "- \\lambda (\\boldsymbol{a}_j^T \\boldsymbol{a}_j - 1)\n",
    "$$\n",
    "\n",
    "を最大にする$\\boldsymbol{a}_j$である。（$\\lambda$はラグランジュ未定乗数）\n",
    "\n",
    "微分して0とおけば\n",
    "\n",
    "$$\n",
    "\\frac{\\partial L(\\boldsymbol{a}_j)}{\\partial \\boldsymbol{a}_j}\n",
    "= 2 Var[\\bar{\\boldsymbol{X}}] \\boldsymbol{a}_j\n",
    "- 2 \\lambda \\boldsymbol{a}_j\n",
    "= 0\n",
    "$$\n",
    "\n",
    "より\n",
    "\n",
    "$$\n",
    "Var[\\bar{\\boldsymbol{X}}] \\boldsymbol{a}_j = \\lambda \\boldsymbol{a}_j\n",
    "$$\n",
    "\n",
    "となる。\n",
    "\n",
    "この$\\lambda$と$\\boldsymbol{a}_j$は固有値問題を解くことにより得られる。\n"
   ]
  },
  {
   "cell_type": "code",
   "execution_count": 37,
   "id": "159676e8-a39b-4291-bdda-3a91681dbd06",
   "metadata": {},
   "outputs": [
    {
     "data": {
      "text/plain": [
       "<matplotlib.collections.PathCollection at 0x7f0dc1a3cf70>"
      ]
     },
     "execution_count": 37,
     "metadata": {},
     "output_type": "execute_result"
    },
    {
     "data": {
      "image/png": "[encoded data removed]",
      "text/plain": [
       "<Figure size 432x288 with 1 Axes>"
      ]
     },
     "metadata": {
      "needs_background": "light"
     },
     "output_type": "display_data"
    }
   ],
   "source": [
    "import numpy as np\n",
    "import matplotlib.pyplot as plt\n",
    "from scipy.stats import norm\n",
    "\n",
    "w = 0.3\n",
    "n = 100\n",
    "x1 = norm.rvs(loc=0, scale=1, size=n, random_state=0)\n",
    "x2 = w * x1 + (1 - w) * norm.rvs(loc=0, scale=1, size=n, random_state=1)\n",
    "plt.scatter(x1, x2)"
   ]
  },
  {
   "cell_type": "code",
   "execution_count": null,
   "id": "854354d0-b345-41cc-b01b-e1494167b732",
   "metadata": {},
   "outputs": [],
   "source": []
  }
 ],
 "metadata": {
  "kernelspec": {
   "display_name": "Python 3",
   "language": "python",
   "name": "python3"
  },
  "language_info": {
   "codemirror_mode": {
    "name": "ipython",
    "version": 3
   },
   "file_extension": ".py",
   "mimetype": "text/x-python",
   "name": "python",
   "nbconvert_exporter": "python",
   "pygments_lexer": "ipython3",
   "version": "3.8.10"
  }
 },
 "nbformat": 4,
 "nbformat_minor": 5
}
