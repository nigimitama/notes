{
 "cells": [
  {
   "cell_type": "markdown",
   "id": "569542b9-b969-4e68-8d00-fa9d21759368",
   "metadata": {},
   "source": [
    "# 予測モデルの評価\n",
    "\n",
    ":::{tableofcontents}\n",
    ":::"
   ]
  },
  {
   "cell_type": "markdown",
   "id": "c1b1fd38-7d91-4819-ba82-0f80c97cfe8f",
   "metadata": {},
   "source": [
    "## 様々な誤差の指標\n",
    "\n",
    "### 汎化誤差\n",
    "\n",
    "訓練データ$\\mathcal{T} = \\{(x_i, y_i)\\}_{i=1}^n$のもとでのモデル$\\hat{f}$の**真の誤差（true error）**あるいは**汎化誤差（generatization error）**とは、真の分布で誤差関数の期待値をとったもの\n",
    "\n",
    "$$\n",
    "\\text{GE}\n",
    "= E_{X^0, Y^0} [ L(Y^0, \\hat{f}(X^0) ) | \\mathcal{T} ]\n",
    "$$\n",
    "\n",
    "ここで$(X^0, Y^0)$は新しいデータ点。\n",
    "\n",
    "### 期待誤差\n",
    "\n",
    "訓練セットで汎化誤差の期待値をとった\n",
    "\n",
    "$$\n",
    "\\text{EE} = E_{\\mathcal{T}}E_{X^0, Y^0} [ L(Y^0, \\hat{f}(X^0) ) | \\mathcal{T} ]\n",
    "$$\n",
    "\n",
    "を**期待誤差（expected error）**という。\n",
    "\n",
    "期待誤差のほうが統計的に扱いやすい\n",
    "\n",
    "### 訓練誤差\n",
    "\n",
    "訓練データで誤差の平均値をとったもの\n",
    "\n",
    "$$\n",
    "\\text{TE} = \\frac{1}{N} \\sum^N_{i=1} L(y_i, \\hat{f}(x_i))\n",
    "$$\n",
    "\n",
    "を**訓練誤差（training error）**あるいは**再代入誤り率（redistribution error）**という。\n",
    "\n",
    "訓練誤差は汎化誤差以下になることが知られている"
   ]
  },
  {
   "cell_type": "markdown",
   "id": "a7adc51c-e888-4daa-99b4-73aa33875191",
   "metadata": {},
   "source": [
    "## 参考\n",
    "\n",
    "カステラ本 ch7.4"
   ]
  },
  {
   "cell_type": "code",
   "execution_count": null,
   "id": "b56f300c-0696-46e7-893a-f1dbd00470d0",
   "metadata": {},
   "outputs": [],
   "source": []
  }
 ],
 "metadata": {
  "kernelspec": {
   "display_name": "Python 3 (ipykernel)",
   "language": "python",
   "name": "python3"
  },
  "language_info": {
   "codemirror_mode": {
    "name": "ipython",
    "version": 3
   },
   "file_extension": ".py",
   "mimetype": "text/x-python",
   "name": "python",
   "nbconvert_exporter": "python",
   "pygments_lexer": "ipython3",
   "version": "3.10.15"
  }
 },
 "nbformat": 4,
 "nbformat_minor": 5
}
