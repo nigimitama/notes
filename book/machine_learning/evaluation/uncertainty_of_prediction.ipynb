{
 "cells": [
  {
   "cell_type": "markdown",
   "id": "8edd004d-4d06-4e79-bb28-d4426b7620f5",
   "metadata": {},
   "source": [
    "# 予測の不確実性の評価"
   ]
  },
  {
   "cell_type": "markdown",
   "id": "da3b5c53-35bf-423d-90f7-4677cf96391e",
   "metadata": {},
   "source": [
    "[Snell et al. (2022). Quantile Risk Control: A Flexible Framework for Bounding the Probability of High-Loss Predictions](https://arxiv.org/pdf/2212.13629.pdf)\n",
    "\n",
    "- quantileベースで評価"
   ]
  },
  {
   "cell_type": "code",
   "execution_count": null,
   "id": "479f4740-75fb-407a-8d4f-2d3fca288323",
   "metadata": {},
   "outputs": [],
   "source": []
  }
 ],
 "metadata": {
  "kernelspec": {
   "display_name": "Python 3 (ipykernel)",
   "language": "python",
   "name": "python3"
  },
  "language_info": {
   "codemirror_mode": {
    "name": "ipython",
    "version": 3
   },
   "file_extension": ".py",
   "mimetype": "text/x-python",
   "name": "python",
   "nbconvert_exporter": "python",
   "pygments_lexer": "ipython3",
   "version": "3.9.18"
  }
 },
 "nbformat": 4,
 "nbformat_minor": 5
}
