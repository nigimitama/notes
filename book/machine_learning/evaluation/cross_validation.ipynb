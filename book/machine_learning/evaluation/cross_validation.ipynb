{
 "cells": [
  {
   "cell_type": "markdown",
   "id": "a5c5dac8-fa69-4aa9-8814-bdc81d3c393b",
   "metadata": {},
   "source": [
    "# 交差検証\n",
    "\n",
    "## 概要\n",
    "\n",
    "**交差検証**（cross-validation）は予測モデルの汎化誤差を推定する方法のひとつで、データセットを訓練セットとテストセットに重複なく分割して評価することを複数回繰り返す方法。k-fold CVやLOOCV（leave one out cross validation: 一つ抜き交差検証法）などがある。\n"
   ]
  },
  {
   "cell_type": "markdown",
   "id": "407886b7-a12f-4f73-a59b-04bd7a29ca95",
   "metadata": {},
   "source": [
    "## CVの性質\n",
    "\n",
    "[Bates, S., Hastie, T., & Tibshirani, R. (2023). Cross-validation: what does it estimate and how well does it do it?. Journal of the American Statistical Association, 1-12.](https://arxiv.org/pdf/2104.00673.pdf)"
   ]
  },
  {
   "cell_type": "markdown",
   "id": "afa42578-9aa8-454e-9fc8-11ce91d8727d",
   "metadata": {},
   "source": [
    "## 5x2 cross-validation\n",
    "\n",
    "[Raschka, S. (2018). Model evaluation, model selection, and algorithm selection in machine learning. arXiv preprint arXiv:1811.12808.](https://arxiv.org/pdf/1811.12808.pdf)\n",
    "\n",
    "- 様々な評価方法をまとめている\n",
    "- データが小さいときはF-test 5x2 cross-validationとnested cross-validationを推奨している"
   ]
  },
  {
   "cell_type": "code",
   "execution_count": null,
   "id": "cd697e71-9681-489b-b1fa-47ce5e51b0f5",
   "metadata": {},
   "outputs": [],
   "source": []
  }
 ],
 "metadata": {
  "kernelspec": {
   "display_name": "Python 3 (ipykernel)",
   "language": "python",
   "name": "python3"
  },
  "language_info": {
   "codemirror_mode": {
    "name": "ipython",
    "version": 3
   },
   "file_extension": ".py",
   "mimetype": "text/x-python",
   "name": "python",
   "nbconvert_exporter": "python",
   "pygments_lexer": "ipython3",
   "version": "3.9.18"
  }
 },
 "nbformat": 4,
 "nbformat_minor": 5
}
