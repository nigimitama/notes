{
 "cells": [
  {
   "cell_type": "markdown",
   "id": "5e88411c-be85-44c7-8e1b-9056fcb612df",
   "metadata": {},
   "source": [
    "# LSTM\n",
    "\n",
    "RNNは長期の時間依存に対して勾配消失問題を起こしやすい。つまり、古い情報を忘れてしまうという問題がある。例えば長い文章の系列を入れたときに、主語が忘れられてしまうような現象が起こってしまう。\n",
    "\n",
    "何も工夫しなければせいぜい過去10時刻分程度しか保持されないという研究もある（[Graves, 2013](https://arxiv.org/abs/1308.0850)）。\n",
    "\n",
    "そこで考案されたのがLSTMである（[Hochreiter & Schmidhuber, 1997](https://papers.baulab.info/Hochreiter-1997.pdf)）。\n",
    "LSTMはRNNに、活性化関数を通さずに過去の情報を運ぶ変数$c$を追加したような構成になっている。\n",
    "\n",
    "LSTMの特徴は3つのゲートをもつこと。すべてのゲートはロジスティック・シグモイド関数で活性化されるため、$[0, 1]$の値を出力する。0のときはゲートが閉じており、1のときはゲートが開いている、と解釈すると理解しやすい。\n",
    "\n",
    "シグモイド関数を並べてベクトルを返す関数$\\newcommand{\\b}[1]{\\boldsymbol{#1}} \\b{F}_\\sigma$を用いて、それぞれ、次のようになる\n",
    "\n",
    "1. 忘却ゲート（forget gate）$\\b{f}_t = \\b{F}_\\sigma ( W_{xf} \\b{x}_t + W_{zf} \\b{h}_{t-1} )$\n",
    "2. 入力ゲート（input gate）$\\b{i}_t = \\b{F}_\\sigma ( W_{xi} \\b{x}_t + W_{zi} \\b{h}_{t-1} )$\n",
    "3. 出力ゲート（output gate）$\\b{o}_t = \\b{F}_\\sigma ( W_{xo} \\b{x}_t + W_{zo} \\b{h}_{t-1} )$\n",
    "\n",
    "tanhを並べてベクトルを返す関数$\\b{tanh}(\\cdot)$を用いて活性化されるベクトル$\\b{g}$\n",
    "\n",
    "$$\n",
    "\\b{g}_t = \\b{tanh}(W_{xg} \\b{x}_t + W_{zg} \\b{h}_{t-1} )\n",
    "$$\n",
    "\n",
    "を用いて、忘却ゲートを通って次の時点の隠れ層に渡される長期記憶$\\b{c}_t$は以下で与えられる\n",
    "\n",
    "$$\n",
    "\\b{c}_t = \\b{f}_t \\odot \\b{c}_{t-1} + \\b{i}_t \\odot \\b{g}_t\n",
    "$$\n",
    "\n",
    "ここで$\\odot$は要素ごとの積を表す。この式から、忘却ゲートの調整が効きすぎない限りは長期記憶が残り続ける構造になっていることがわかる。\n",
    "\n",
    "$$\n",
    "\\b{h}_t = \\b{o}_t \\odot \\b{tanh}(\\b{c}_t)\n",
    "$$\n"
   ]
  },
  {
   "cell_type": "markdown",
   "id": "93d6d4a5-b860-471c-8e25-29069f380afe",
   "metadata": {},
   "source": [
    "## seq2seq\n",
    "\n",
    "RNN/LSTMを使うEncoder-decoderモデル\n",
    "\n",
    "TODO:ゼロD 2を読んで書く"
   ]
  },
  {
   "cell_type": "code",
   "execution_count": null,
   "id": "de2ee13a-4ebb-43a3-b568-15659906a82e",
   "metadata": {},
   "outputs": [],
   "source": []
  },
  {
   "cell_type": "markdown",
   "id": "8684af35-5d64-41bf-819e-f90b31238986",
   "metadata": {},
   "source": [
    "## 参考文献\n",
    "\n",
    "[Graves, A., & Graves, A. (2012). Supervised sequence labelling (pp. 5-13). Springer Berlin Heidelberg.](https://mediatum.ub.tum.de/doc/1289309/document.pdf)\n",
    "\n",
    "[Graves, A., & Graves, A. (2012). Long short-term memory. Supervised sequence labelling with recurrent neural networks, 37-45.](https://www.cs.toronto.edu/~graves/preprint.pdf)\n",
    "\n",
    "[Hochreiter, S., & Schmidhuber, J. (1997). Long short-term memory. Neural computation, 9(8), 1735-1780.](https://papers.baulab.info/Hochreiter-1997.pdf)"
   ]
  },
  {
   "cell_type": "code",
   "execution_count": null,
   "id": "3533a3b8-a143-4085-9b00-ad44ffc16e96",
   "metadata": {},
   "outputs": [],
   "source": []
  }
 ],
 "metadata": {
  "kernelspec": {
   "display_name": "Python 3",
   "language": "python",
   "name": "python3"
  },
  "language_info": {
   "codemirror_mode": {
    "name": "ipython",
    "version": 3
   },
   "file_extension": ".py",
   "mimetype": "text/x-python",
   "name": "python",
   "nbconvert_exporter": "python",
   "pygments_lexer": "ipython3",
   "version": "3.8.10"
  }
 },
 "nbformat": 4,
 "nbformat_minor": 5
}
