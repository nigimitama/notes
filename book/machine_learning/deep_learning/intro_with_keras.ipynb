{
 "cells": [
  {
   "cell_type": "markdown",
   "id": "86c83725-5f44-431d-8255-7c145befa255",
   "metadata": {},
   "source": [
    "# ディープラーニング基礎 (with Keras)"
   ]
  },
  {
   "cell_type": "code",
   "execution_count": null,
   "id": "179bc141-d4c8-48e3-aade-501d3dd37547",
   "metadata": {},
   "outputs": [],
   "source": []
  },
  {
   "cell_type": "markdown",
   "id": "50551dbc-fc83-4be8-8e2a-e4070f7bbc31",
   "metadata": {},
   "source": [
    "分類問題を考える\n",
    "\n",
    "$$\n",
    "p = f(x)\n",
    "$$"
   ]
  },
  {
   "cell_type": "markdown",
   "id": "d9a65856-5ea5-45aa-a84c-05b46ad3c891",
   "metadata": {},
   "source": [
    "バッチ正規化→どのユニットも同じデータを使うようにしたい\n",
    "\n",
    "ドロップアウト→それぞれのユニットで異なる学習をさせて後で統合する＝擬似的にアンサンブル学習のようにしたい"
   ]
  },
  {
   "cell_type": "code",
   "execution_count": null,
   "id": "7bb6fabc-4390-49b9-9fbf-b53d9dadffc5",
   "metadata": {},
   "outputs": [],
   "source": []
  }
 ],
 "metadata": {
  "kernelspec": {
   "display_name": "Python 3 (ipykernel)",
   "language": "python",
   "name": "python3"
  },
  "language_info": {
   "codemirror_mode": {
    "name": "ipython",
    "version": 3
   },
   "file_extension": ".py",
   "mimetype": "text/x-python",
   "name": "python",
   "nbconvert_exporter": "python",
   "pygments_lexer": "ipython3",
   "version": "3.9.16"
  }
 },
 "nbformat": 4,
 "nbformat_minor": 5
}
