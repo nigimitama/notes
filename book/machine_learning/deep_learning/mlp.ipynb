{
 "cells": [
  {
   "cell_type": "markdown",
   "id": "df5954f4-9680-4dc2-a19f-b0db3c8b7403",
   "metadata": {},
   "source": [
    "# 多層パーセプトロン\n",
    "\n",
    "\n",
    "\n",
    "多層パーセプトロン（multilayer perceptron: MLP）\n",
    "\n"
   ]
  },
  {
   "cell_type": "markdown",
   "id": "ea7d9cf6-05ea-42e4-84ba-7eba2c3a6303",
   "metadata": {},
   "source": [
    "$$\n",
    "z = h(W x + b)\\\\\n",
    "z_l = h( \\sum_{j=1} w_{jl} x_j + b_l)\n",
    "$$"
   ]
  },
  {
   "cell_type": "markdown",
   "id": "fe1a54a5-90d3-46fe-ac2a-75e843dafb69",
   "metadata": {},
   "source": [
    "第$l$層の$i$番目のユニットの出力は\n",
    "\n",
    "$$\n",
    "z_i^{(l)} = h \\left( \\sum^{N^{(l-1)}}_{j=1} w^{(l)}_{ij} z_j^{(l-1)} + b_i^{(l)} \\right)\n",
    "$$"
   ]
  },
  {
   "cell_type": "code",
   "execution_count": null,
   "id": "6dbf2e9e-2793-4a64-9d26-3e3cf5a1ddde",
   "metadata": {},
   "outputs": [],
   "source": [
    "import pytorch"
   ]
  }
 ],
 "metadata": {
  "kernelspec": {
   "display_name": "Python 3 (ipykernel)",
   "language": "python",
   "name": "python3"
  },
  "language_info": {
   "codemirror_mode": {
    "name": "ipython",
    "version": 3
   },
   "file_extension": ".py",
   "mimetype": "text/x-python",
   "name": "python",
   "nbconvert_exporter": "python",
   "pygments_lexer": "ipython3",
   "version": "3.9.16"
  }
 },
 "nbformat": 4,
 "nbformat_minor": 5
}
