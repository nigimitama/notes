{
 "cells": [
  {
   "cell_type": "markdown",
   "id": "df5954f4-9680-4dc2-a19f-b0db3c8b7403",
   "metadata": {},
   "source": [
    "# 多層パーセプトロン\n",
    "\n",
    "\n",
    "\n",
    "多層パーセプトロン（multilayer perceptron: MLP）\n",
    "\n"
   ]
  },
  {
   "cell_type": "code",
   "execution_count": null,
   "id": "6dbf2e9e-2793-4a64-9d26-3e3cf5a1ddde",
   "metadata": {},
   "outputs": [],
   "source": [
    "import pytorch"
   ]
  }
 ],
 "metadata": {
  "kernelspec": {
   "display_name": "Python 3 (ipykernel)",
   "language": "python",
   "name": "python3"
  },
  "language_info": {
   "codemirror_mode": {
    "name": "ipython",
    "version": 3
   },
   "file_extension": ".py",
   "mimetype": "text/x-python",
   "name": "python",
   "nbconvert_exporter": "python",
   "pygments_lexer": "ipython3",
   "version": "3.9.16"
  }
 },
 "nbformat": 4,
 "nbformat_minor": 5
}
