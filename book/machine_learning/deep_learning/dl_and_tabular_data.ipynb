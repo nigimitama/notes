{
 "cells": [
  {
   "cell_type": "markdown",
   "id": "c474f586-b73f-45f3-b094-d24763208961",
   "metadata": {},
   "source": [
    "# Deep Learning and Tabular data"
   ]
  },
  {
   "cell_type": "markdown",
   "id": "e3b2dd97-d19d-4a5f-bce5-970024675642",
   "metadata": {},
   "source": [
    "## テーブルデータ向けのディープラーニング\n",
    "\n",
    "TabNetなど\n",
    "\n"
   ]
  },
  {
   "cell_type": "markdown",
   "id": "f235b6f0-25ab-4d92-80f0-fa1372e60b87",
   "metadata": {},
   "source": [
    "## TabNet等への反論\n",
    "\n",
    "[[2106.03253] Tabular Data: Deep Learning is Not All You Need](https://arxiv.org/abs/2106.03253)\n",
    "\n",
    "テーブルデータ向けのディープラーニングのアーキテクチャを提案した論文たちは、パフォーマンスの比較用に使ったXGBoostのハイパーパラメータのチューニングが不適切であったという指摘\n",
    "\n",
    "きちんと使えばXGBoostはTabNetなどのディープラーニングベースのアルゴリズムと同等以上のパフォーマンスになった"
   ]
  },
  {
   "cell_type": "markdown",
   "id": "d7cbe007-b881-44bb-b7e6-3fa2cc65c29f",
   "metadata": {},
   "source": [
    "## なぜデーブルデータではディープラーニングが弱いのか\n",
    "\n",
    "[Why do tree-based models still outperform deep learning on typical tabular data? - Archive ouverte HAL](https://hal.science/hal-03723551)"
   ]
  },
  {
   "cell_type": "code",
   "execution_count": null,
   "id": "49fd0a01-e726-4f1e-918e-538dd909204b",
   "metadata": {},
   "outputs": [],
   "source": []
  }
 ],
 "metadata": {
  "kernelspec": {
   "display_name": "Python 3",
   "language": "python",
   "name": "python3"
  },
  "language_info": {
   "codemirror_mode": {
    "name": "ipython",
    "version": 3
   },
   "file_extension": ".py",
   "mimetype": "text/x-python",
   "name": "python",
   "nbconvert_exporter": "python",
   "pygments_lexer": "ipython3",
   "version": "3.8.10"
  }
 },
 "nbformat": 4,
 "nbformat_minor": 5
}
