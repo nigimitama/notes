{
 "cells": [
  {
   "cell_type": "markdown",
   "id": "a1c484d3-18b1-4ddc-8c3a-a4b682b1aaaa",
   "metadata": {},
   "source": [
    "# 線形回帰\n",
    "\n",
    "## モデル\n",
    "\n",
    "**線形回帰**（linear regression）は、予測の目的変数$y$と特徴量（説明変数）$x_1, x_2, ..., x_d$の間に次のような線形関係を仮定したモデルを置いて予測する手法。\n",
    "$$\n",
    "y = \\beta_0 + \\beta_1 x_1 + \\cdots + \\beta_d x_d + \\varepsilon\n",
    "$$\n",
    "\n",
    "ここで$\\beta_1, \\beta_2, ..., \\beta_d$は回帰係数と呼ばれるパラメータで、モデル内で推定される。$\\varepsilon$はデータ取得時の測定誤差などの偶然による誤差を表し、次の3つの条件を満たす。\n",
    "\n",
    "1. 期待値は0：$\\text{E}[\\varepsilon]=0$\n",
    "2. 分散は一定: $\\text{V}[\\varepsilon]=\\sigma^2$\n",
    "3. 異なった誤差項は無相関: $j \\neq i$ならば$Cov(\\varepsilon_i, \\varepsilon_j) = E(\\varepsilon_i, \\varepsilon_j) = 0$\n",
    "\n",
    "\n",
    "\n",
    "サンプルサイズが$n$のデータセット$\\{\\boldsymbol{x}_i, y_i\\}^n_{i=1}$があるとして、目的変数を$\\boldsymbol{y} = (y_1, y_2, ..., y_n)^\\top$、特徴量を$\\boldsymbol{X}=(\\boldsymbol{x}_1, \\boldsymbol{x}_2, ..., \\boldsymbol{x}_n)^\\top$とおくと、このモデルは\n",
    "\n",
    "$$\n",
    "\\boldsymbol{y}=\\boldsymbol{X} \\boldsymbol{\\beta}+\\boldsymbol{\\varepsilon}\n",
    "$$\n",
    "\n",
    "と表記することができる。\n",
    "\n",
    "\n",
    "## パラメータの推定\n",
    "\n",
    "一般的に線形回帰ではパラメータの推定に**最小二乗法**（least squares method）という方法が使われる。\n",
    "\n",
    "これは誤差関数$J( \\boldsymbol{\\beta})$を実測値$\\boldsymbol{y}$と予測値$\\hat{\\boldsymbol{y}} = \\boldsymbol{X}\\hat{\\boldsymbol{\\beta}}$の二乗誤差の和（誤差二乗和 sum of squared error: SSE）\n",
    "\n",
    "$$\n",
    "J( \\boldsymbol{\\beta})\n",
    "= ||\\boldsymbol{y} -\\boldsymbol{X}\\hat{\\boldsymbol{\\beta}}||^2\n",
    "= \\sum^n_{i=1} (y_i - \\hat{y}_i)^2 = \\sum^n_{i=1} \\varepsilon_i^2\n",
    "= \\boldsymbol{\\varepsilon}^\\top \\boldsymbol{\\varepsilon}\n",
    "$$\n",
    "\n",
    "として定義し、この二乗誤差を最小にするパラメータ（**最小二乗推定量** ordinary least square's estimator: OLSE）\n",
    "\n",
    "$$\n",
    "\\newcommand{\\argmin}{\\mathop{\\rm arg~min}\\limits}\n",
    "\\hat{\\boldsymbol{\\beta}}^{LS} = \\argmin_{\\boldsymbol{\\beta}}\n",
    "\\sum^n_{i=1} (y_i - \\hat{y}_i)^2\n",
    "$$\n",
    "\n",
    "\n",
    "を採用するという方法。\n",
    "\n",
    "二乗誤差$(y_i - \\hat{y}_i)^2 = \\varepsilon_i^2$はU字型になるため傾きがゼロになる点が最小値になる。そのため最小二乗法は解析的に解を求めることができる。\n"
   ]
  },
  {
   "cell_type": "code",
   "execution_count": 99,
   "id": "d787a757-d546-4aaa-8651-863d1504ef85",
   "metadata": {
    "tags": [
     "hide-input"
    ]
   },
   "outputs": [
    {
     "data": {
      "image/png": "[encoded data removed]",
      "text/plain": [
       "<Figure size 432x288 with 1 Axes>"
      ]
     },
     "metadata": {
      "needs_background": "light"
     },
     "output_type": "display_data"
    }
   ],
   "source": [
    "import matplotlib.pyplot as plt\n",
    "import numpy as np\n",
    "\n",
    "def square(error):\n",
    "    return error ** 2\n",
    "\n",
    "errors = np.linspace(-1, 1, 100)\n",
    "squared_errors = [square(error) for error in errors]\n",
    "\n",
    "fig, ax = plt.subplots()\n",
    "ax.plot(errors, squared_errors)\n",
    "_ = ax.set(xlabel='error', ylabel='squared error')"
   ]
  },
  {
   "cell_type": "markdown",
   "id": "8e99fb7a-893c-44d8-8a76-bf3da56fc680",
   "metadata": {},
   "source": [
    "誤差二乗和は\n",
    "\n",
    "$$\n",
    "\\begin{align}\n",
    "\\boldsymbol{\\varepsilon}^\\top \\boldsymbol{\\varepsilon}\n",
    "&= (\\boldsymbol{y} - \\boldsymbol{X}\\hat{\\boldsymbol{\\beta}})^\\top (\\boldsymbol{y} - \\boldsymbol{X}\\hat{\\boldsymbol{\\beta}})\\\\\n",
    "&=\\boldsymbol{y}^\\top \\boldsymbol{y}\n",
    "- \\boldsymbol{y}^\\top\\boldsymbol{X}\\boldsymbol{\\beta}\n",
    "- (\\boldsymbol{X}\\boldsymbol{\\beta})^\\top\\boldsymbol{y}\n",
    "+ (\\boldsymbol{X}\\boldsymbol{\\beta})^\\top (\\boldsymbol{X}\\boldsymbol{\\beta})\\\\\n",
    "&= \\boldsymbol{y}^\\top \\boldsymbol{y}\n",
    "- 2 \\boldsymbol{\\beta}^\\top \\boldsymbol{X}^\\top \\boldsymbol{y}\n",
    "+ \\boldsymbol{\\beta}^\\top \\boldsymbol{X}^\\top \n",
    "\\boldsymbol{X} \\boldsymbol{\\beta}\\\\\n",
    "\\end{align}\n",
    "$$\n",
    "\n",
    "```{margin}\n",
    "※転置の基本公式から、$(\\boldsymbol{X}\\hat{\\boldsymbol{\\beta}})^\\top=\\hat{\\boldsymbol{\\beta}}^\\top\\boldsymbol{X}^\\top$、$\\boldsymbol{y}^\\top\\boldsymbol{X}\\hat{\\boldsymbol{\\beta}}=(\\boldsymbol{X}\\hat{\\boldsymbol{\\beta}})^\\top\\boldsymbol{y}=\\hat{\\boldsymbol{\\beta}}^\\top\\boldsymbol{X}^\\top\\boldsymbol{y}$\n",
    "```\n",
    "\n",
    "であるから、二乗誤差の傾きがゼロになる点は\n",
    "\n",
    "$$\n",
    "\\frac{\\partial \\boldsymbol{\\varepsilon}^\\top \\boldsymbol{\\varepsilon}}{\\partial \\boldsymbol{\\beta}}\n",
    "= -2\\boldsymbol{X}^\\top\\boldsymbol{y}\n",
    "+ 2(\\boldsymbol{X}^\\top\\boldsymbol{X})\\boldsymbol{\\beta}\n",
    "=\\boldsymbol{0}\n",
    "$$\n",
    "\n",
    "と表すことができる。\n",
    "\n",
    "これを整理して\n",
    "\n",
    "$$\n",
    "2(\\boldsymbol{X}^\\top\\boldsymbol{X}) \\boldsymbol{\\beta}\n",
    "= 2\\boldsymbol{X}^\\top\\boldsymbol{y}\n",
    "$$\n",
    "\n",
    "これの両辺を2で割ると（あるいは誤差関数の定義の際に$1/2$を掛けておくと）、**正規方程式**（normal equation）とよばれる次の式が得られる。\n",
    "\n",
    "$$\n",
    "(\\boldsymbol{X}^\\top\\boldsymbol{X})\\boldsymbol{\\beta}\n",
    "= \\boldsymbol{X}^\\top\\boldsymbol{y}\n",
    "$$\n",
    "\n",
    "これを$\\boldsymbol{\\beta}$について解けば\n",
    "\n",
    "$$\n",
    "\\boldsymbol{\\beta} =\n",
    "(\\boldsymbol{X}^\\top\\boldsymbol{X})^{-1}\n",
    "\\boldsymbol{X}^\\top\\boldsymbol{y}\n",
    "$$\n",
    "\n",
    "となり、最小二乗推定量$\\hat{\\boldsymbol{\\beta}}^{LS}$が得られる。\n"
   ]
  },
  {
   "cell_type": "markdown",
   "id": "312cce12-23af-43bd-962f-e7ef478c3a6e",
   "metadata": {},
   "source": [
    "## 実装\n",
    "\n",
    "numpyでは、行列やベクトルの積は`@`という演算子で書くことができる。そのため、\n",
    "\n",
    "```python\n",
    "import numpy as np\n",
    "beta = np.linalg.inv(X.T @ X) @ X.T @ y\n",
    "```\n",
    "\n",
    "のように書けば上の式とおなじ演算を行うことができる。"
   ]
  },
  {
   "cell_type": "markdown",
   "id": "133cb658-3537-4fd8-b520-9ed9bbce3460",
   "metadata": {},
   "source": [
    "### データの準備"
   ]
  },
  {
   "cell_type": "markdown",
   "id": "03e5313b-b6a3-4f90-947a-245784a65223",
   "metadata": {},
   "source": [
    "乱数を発生させて架空のデータを作る。\n",
    "\n",
    "$$\n",
    "y = 10 + 3 x_1 + 5 x_2 + \\varepsilon\\\\\n",
    "x_1 \\sim Uniform(0, 10)\\\\\n",
    "x_2 \\sim Normal(3, 1)\\\\\n",
    "\\varepsilon \\sim Normal(0, 1)\\\\\n",
    "$$\n",
    "\n",
    "ここで$\\varepsilon$は測定誤差などのランダムなノイズとする"
   ]
  },
  {
   "cell_type": "code",
   "execution_count": 64,
   "id": "01776c6e-04d1-4b26-8efb-a124557ebdb0",
   "metadata": {},
   "outputs": [],
   "source": [
    "import numpy as np\n",
    "import pandas as pd\n",
    "n = 100  # sample size\n",
    "\n",
    "np.random.seed(0)\n",
    "x0 = np.ones(shape=(n, ))\n",
    "x1 = np.random.uniform(0, 10, size=n)\n",
    "x2 = np.random.normal(3, 1, size=n)\n",
    "noise = np.random.normal(size=n)\n",
    "\n",
    "beta = [10, 3, 5]  # 真の回帰係数\n",
    "y = beta[0] * x0 + beta[1] * x1 + beta[2] * x2 + noise "
   ]
  },
  {
   "cell_type": "markdown",
   "id": "c2cce6b9-24a9-480a-980f-38bb27504995",
   "metadata": {},
   "source": [
    "特徴量$x$と目的変数$y$の関係を散布図で描くと次の図のようになった。"
   ]
  },
  {
   "cell_type": "code",
   "execution_count": 65,
   "id": "f34d3ef7-6f10-4ff0-90a7-4aa5f4a8c998",
   "metadata": {
    "tags": [
     "hide-input"
    ]
   },
   "outputs": [
    {
     "data": {
      "text/plain": [
       "[Text(0.5, 0, 'x2'), Text(0, 0.5, 'y')]"
      ]
     },
     "execution_count": 65,
     "metadata": {},
     "output_type": "execute_result"
    },
    {
     "data": {
      "image/png": "[encoded data removed]",
      "text/plain": [
       "<Figure size 720x216 with 2 Axes>"
      ]
     },
     "metadata": {
      "needs_background": "light"
     },
     "output_type": "display_data"
    }
   ],
   "source": [
    "import matplotlib.pyplot as plt\n",
    "import seaborn as sns\n",
    "\n",
    "fig, axes = plt.subplots(ncols=2, figsize=(10, 3))\n",
    "axes[0].scatter(x1, y)\n",
    "axes[0].set(xlabel='x1', ylabel='y')\n",
    "axes[1].scatter(x2, y)\n",
    "axes[1].set(xlabel='x2', ylabel='y')"
   ]
  },
  {
   "cell_type": "markdown",
   "id": "d9254ef4-74b1-41c2-ba0e-4e966c63e345",
   "metadata": {},
   "source": [
    "### 推定\n",
    "\n",
    "これらのデータを使用して推定を行う。"
   ]
  },
  {
   "cell_type": "code",
   "execution_count": 98,
   "id": "0c89a137-0a88-4baa-8132-9260dcc49a7c",
   "metadata": {},
   "outputs": [
    {
     "name": "stdout",
     "output_type": "stream",
     "text": [
      "[[1.         5.48813504 1.83485016]\n",
      " [1.         7.15189366 3.90082649]\n",
      " [1.         6.02763376 3.46566244]\n",
      " [1.         5.44883183 1.46375631]\n",
      " [1.         4.23654799 4.48825219]]\n"
     ]
    }
   ],
   "source": [
    "X = np.array([x0, x1, x2]).T\n",
    "\n",
    "# Xの冒頭5行は以下のようになっている\n",
    "print(X[0:5])"
   ]
  },
  {
   "cell_type": "code",
   "execution_count": 97,
   "id": "34bf3eb6-d8de-4b47-b503-2fc7d43a19de",
   "metadata": {},
   "outputs": [
    {
     "name": "stdout",
     "output_type": "stream",
     "text": [
      "\n",
      "推定された回帰係数: [9.564 2.98  5.119]\n",
      "データ生成過程の係数: [10, 3, 5]\n",
      "\n"
     ]
    }
   ],
   "source": [
    "# 最小二乗法で推定\n",
    "beta_ = np.linalg.inv(X.T @ X) @ X.T @ y\n",
    "\n",
    "print(f\"\"\"\n",
    "推定された回帰係数: {beta_.round(3)}\n",
    "データ生成過程の係数: {beta}\n",
    "\"\"\")"
   ]
  },
  {
   "cell_type": "markdown",
   "id": "e242de53-7e95-49f6-868d-5e3e5c6d5e25",
   "metadata": {},
   "source": [
    "真の値にそれなりに近い回帰係数が推定できた。"
   ]
  },
  {
   "cell_type": "markdown",
   "id": "c20d2212-5c03-46ad-8e66-6bb8ac118666",
   "metadata": {},
   "source": [
    "なお、scikit-learnに準拠したfit/predictのメソッドを持つ形でクラスとして定義するなら、以下のようになる（参考： [sklearn準拠モデルの作り方 - Qiita](https://qiita.com/roronya/items/fdf35d4f69ea62e1dd91)）。"
   ]
  },
  {
   "cell_type": "code",
   "execution_count": 70,
   "id": "c71981ff-fd7f-4528-a7f3-79d114d7de75",
   "metadata": {},
   "outputs": [],
   "source": [
    "# scikit-learnに準拠した形で実装\n",
    "from sklearn.base import BaseEstimator, RegressorMixin\n",
    "\n",
    "\n",
    "class LinearRegression(BaseEstimator, RegressorMixin):\n",
    "\n",
    "    def fit(self, X, y):\n",
    "        self.coef_ = np.linalg.inv(X.T @ X) @ X.T @ y\n",
    "        return self\n",
    "\n",
    "    def predict(self, X):\n",
    "        return X @ self.coef_\n"
   ]
  },
  {
   "cell_type": "code",
   "execution_count": 89,
   "id": "183134cc-e0e7-492a-a0e8-86717efed8b0",
   "metadata": {},
   "outputs": [
    {
     "data": {
      "text/plain": [
       "array([9.56372548, 2.97972446, 5.11931302])"
      ]
     },
     "execution_count": 89,
     "metadata": {},
     "output_type": "execute_result"
    }
   ],
   "source": [
    "model = LinearRegression()\n",
    "model.fit(X, y)\n",
    "model.coef_"
   ]
  },
  {
   "cell_type": "markdown",
   "id": "6b0f3c39-89aa-4e25-bb9f-1553619a013e",
   "metadata": {},
   "source": [
    "### 予測してみる"
   ]
  },
  {
   "cell_type": "markdown",
   "id": "2ef834f5-6a38-4793-ae4a-447659118b13",
   "metadata": {},
   "source": [
    "root mean squared error (RMSE)\n",
    "\n",
    "$$\n",
    "RMSE = \\sqrt{\n",
    "  \\frac{1}{N} \\sum^N_{i=1} (y_i - \\hat{y}_i)^2\n",
    "}\n",
    "$$\n",
    "\n",
    "を使って予測値を評価してみる。"
   ]
  },
  {
   "cell_type": "code",
   "execution_count": 92,
   "id": "5139c448-acff-4be3-96a4-1ac4e9a97e3f",
   "metadata": {},
   "outputs": [
    {
     "name": "stdout",
     "output_type": "stream",
     "text": [
      "RMSE: 0.972\n"
     ]
    }
   ],
   "source": [
    "# 予測値を算出\n",
    "y_pred = model.predict(X)\n",
    "\n",
    "# 予測誤差を評価\n",
    "from sklearn.metrics import mean_squared_error\n",
    "rmse = mean_squared_error(y, y_pred, squared=False)\n",
    "\n",
    "print(f\"RMSE: {rmse:.3f}\")"
   ]
  },
  {
   "cell_type": "markdown",
   "id": "c3964d17-012e-451f-9609-546880f960b2",
   "metadata": {},
   "source": [
    "予測値と実測値の散布図を描くと次のようになった。"
   ]
  },
  {
   "cell_type": "code",
   "execution_count": 93,
   "id": "3b62ff49-ceb4-43f3-a1b4-44d82408b1f9",
   "metadata": {
    "tags": [
     "hide-input"
    ]
   },
   "outputs": [
    {
     "data": {
      "text/plain": [
       "[Text(0.5, 0, 'Predicted'), Text(0, 0.5, 'Actual')]"
      ]
     },
     "execution_count": 93,
     "metadata": {},
     "output_type": "execute_result"
    },
    {
     "data": {
      "image/png": "[encoded data removed]",
      "text/plain": [
       "<Figure size 432x288 with 1 Axes>"
      ]
     },
     "metadata": {
      "needs_background": "light"
     },
     "output_type": "display_data"
    }
   ],
   "source": [
    "fig, ax = plt.subplots()\n",
    "ax.plot(y_pred, y_pred, color='gray', alpha=.7)\n",
    "ax.scatter(y_pred, y, alpha=.7)\n",
    "_ = ax.set(xlabel='Predicted', ylabel='Actual')"
   ]
  },
  {
   "cell_type": "markdown",
   "id": "e28b455d-16bb-41f0-9d83-be1980f76767",
   "metadata": {},
   "source": [
    "## 最尤推定法に基づく正規方程式の導出\n",
    "\n"
   ]
  },
  {
   "cell_type": "markdown",
   "id": "b441593a-c807-450c-a696-6d913ef6779b",
   "metadata": {},
   "source": [
    "## 最小二乗推定量の性質\n",
    "\n",
    "### 回帰係数のバイアスとバリアンス\n",
    "\n",
    "最小二乗推定量はすべての線形不偏推定量の中で最もバリアンスが小さい（最良である）ことを示すガウス・マルコフの定理というものがある。\n",
    "\n",
    "```{margin} バイアスとバリアンス\n",
    "統計学・機械学習の分野では誤差をバイアス（bias）とバリアンス（variance）に分けて考えることが多い。\n",
    "\n",
    "バイアスは真の値$\\theta$とサンプルを変えて推定を繰り返したときの個々の推定結果の平均$E(\\hat{\\theta})$との差で、\n",
    "バリアンスは推定の分散$V(\\hat{\\theta})$である。\n",
    "\n",
    "$$\n",
    "Bias = \\theta - E(\\hat{\\theta})\\\\\n",
    "Variance = V(\\hat{\\theta})\n",
    "$$\n",
    "```\n",
    "\n",
    "\n",
    "```{note} ガウス・マルコフの定理\n",
    "各$i$について、\n",
    "\n",
    "- $E[\\varepsilon_i] = 0$\n",
    "- $V[\\varepsilon_i]=\\sigma^2 < \\infty$ が共通\n",
    "- $i \\neq j$のとき$E[\\varepsilon_i \\varepsilon_j] = 0$\n",
    "\n",
    "を満たすとき、最小二乗推定量$\\hat{\\beta}_{OLS}$はBLUEになる\n",
    "```\n",
    "\n",
    "\n",
    "#### 不偏性\n",
    "\n",
    "任意のパラメータの線形結合$\\theta=\\boldsymbol{\\alpha}^\\top {\\boldsymbol{\\beta}}$を考える。例えば$f(x_0)=x_0^\\top \\beta$がこの形である。\n",
    "\n",
    "この最小二乗推定値は\n",
    "\n",
    "$$\n",
    "\\hat{\\theta} = \\boldsymbol{\\alpha}^\\top \\hat{\\boldsymbol{\\beta}}\n",
    "= \\boldsymbol{\\alpha}^\\top (\\boldsymbol{X}^\\top \\boldsymbol{X})^{-1} \\boldsymbol{X}^\\top \\boldsymbol{y}\n",
    "$$\n",
    "\n",
    "で、期待値をとると\n",
    "\n",
    "$$\n",
    "\\begin{align}\n",
    "E[\\hat{\\theta}]\n",
    "&= E[\\boldsymbol{\\alpha}^\\top \\hat{\\boldsymbol{\\beta}}]\\\\\n",
    "&= E[\\boldsymbol{\\alpha}^\\top (\\boldsymbol{X}^\\top \\boldsymbol{X})^{-1} \\boldsymbol{X}^\\top \\boldsymbol{y}]\\\\\n",
    "% &= \\boldsymbol{\\alpha}^\\top (\\boldsymbol{X}^\\top \\boldsymbol{X})^{-1} \\boldsymbol{X}^\\top E[\\boldsymbol{y}]\\\\\n",
    "&= E[\\boldsymbol{\\alpha^\\top (X^\\top X)^{-1} X^\\top (X\\beta + \\varepsilon) }] \\\\\n",
    "&= \\boldsymbol{\\alpha^\\top (X^\\top X)^{-1} X^\\top X \\beta + \\alpha^\\top (X^\\top X)^{-1} X^\\top} E[ \\varepsilon ] \\\\\n",
    "&= \\boldsymbol{\\alpha^\\top (X^\\top X)^{-1} X^\\top X \\beta}\\\\\n",
    "&= \\boldsymbol{\\alpha}^\\top \\boldsymbol{\\beta}\n",
    "\\end{align}\n",
    "$$\n",
    "\n",
    "```{margin}\n",
    "※誤差項は仮定により$E[\\boldsymbol{\\varepsilon}]=0$であるため\n",
    "```\n",
    "\n",
    "となり（※）、$\\hat{\\theta}$が不偏推定量である（$E[\\hat{\\theta}] = \\theta$）ことがわかる。\n"
   ]
  },
  {
   "cell_type": "markdown",
   "id": "2c40cc5f-0319-455d-81a1-5271438a62ec",
   "metadata": {},
   "source": [
    "#### バリアンス\n",
    "\n",
    "$\\boldsymbol{\\alpha}^\\top \\boldsymbol{\\beta}$に対して不偏のまた別の線形推定量$\\boldsymbol{c}^\\top \\boldsymbol{y}$があるとする。\n",
    "\n",
    "両者の差を\n",
    "\n",
    "$$\n",
    "\\begin{align}\n",
    "\\boldsymbol{\\alpha}^\\top \\boldsymbol{\\hat{\\beta}} - \\boldsymbol{c}^\\top \\boldsymbol{y}\n",
    "&= [ \\boldsymbol{\\alpha}^\\top (\\boldsymbol{X}^\\top \\boldsymbol{X})^{-1} \\boldsymbol{X} - \\boldsymbol{c}^\\top ] \\boldsymbol{y}\\\\\n",
    "&=: \\boldsymbol{d}^\\top \\boldsymbol{y}\n",
    "\\end{align}\n",
    "$$\n",
    "\n",
    "とおく。このとき、不偏性$E[\\boldsymbol{c}^\\top \\boldsymbol{y}] = \\boldsymbol{\\alpha}^\\top \\boldsymbol{\\beta}$から両者の差の期待値はゼロになるべきであり、\n",
    "\n",
    "$$\n",
    "E[\\boldsymbol{d}^\\top \\boldsymbol{y}]\n",
    "= \\boldsymbol{d}^\\top \\boldsymbol{X} \\boldsymbol{\\beta} = 0\n",
    "$$\n",
    "\n",
    "が任意の$\\boldsymbol{\\beta}$について成り立たなければならないため、\n",
    "\n",
    "$$\n",
    "\\boldsymbol{d}^\\top \\boldsymbol{X} = \\boldsymbol{0}\n",
    "$$\n",
    "\n",
    "が成り立つ。\n",
    "\n",
    "\n",
    "次に、2つの確率変数$X, Y$に対し\n",
    "\n",
    "$$\n",
    "V[X+Y] = V[X] + 2 \\text{Cov}[X, Y] + V[Y]\n",
    "$$\n",
    "\n",
    "が成り立つから、$\\boldsymbol{c}^\\top \\boldsymbol{y}$の分散は\n",
    "\n",
    "$$\n",
    "\\begin{align}\n",
    "V[\\boldsymbol{c^\\top y}] &= V[\\boldsymbol{ \\alpha^\\top \\hat{\\beta} - d^\\top y }]\\\\\n",
    "&= V[\\boldsymbol{ \\alpha^\\top \\hat{\\beta} }]\n",
    "- 2 \\text{Cov} [\\boldsymbol{ \\alpha^\\top (X^\\top X)^{-1} X^\\top y }, \\boldsymbol{ d^\\top y} ]\n",
    "+ V[\\boldsymbol{ d^\\top y}]\n",
    "\\end{align}\n",
    "$$\n",
    "\n",
    "と表すことができる。\n"
   ]
  },
  {
   "cell_type": "code",
   "execution_count": null,
   "id": "5f3089bc-afbc-4316-9a56-7f64af5bd05d",
   "metadata": {},
   "outputs": [],
   "source": []
  },
  {
   "cell_type": "markdown",
   "id": "b560df23-1327-4052-86ff-47557181bd4d",
   "metadata": {},
   "source": [
    "$$\n",
    "\\text{Cov}(A, B) = E[(A - E[A])(B - E[B])^\\top]\n",
    "$$"
   ]
  },
  {
   "cell_type": "markdown",
   "id": "f798c72b-af60-42c1-a8c4-0fd8ba27bfcf",
   "metadata": {},
   "source": [
    "$$\n",
    "\\text{Cov}(a^\\top y, b^\\top y)\n",
    "= E[(a^\\top y - E[a^\\top y])(b^\\top y - E[b^\\top y])^\\top]\n",
    "$$"
   ]
  },
  {
   "cell_type": "markdown",
   "id": "4f668223-ca86-4b1b-b8b3-0060492ae28a",
   "metadata": {},
   "source": [
    "$$\n",
    "\\text{Cov}(a^\\top y, b^\\top y)\n",
    "= E[(a^\\top y - E[a^\\top y])(b^\\top y - E[b^\\top y])^\\top]\\\\\n",
    "= E[(a^\\top y - \\alpha^\\top \\beta)(b^\\top y - E[b^\\top y])^\\top]\n",
    "$$"
   ]
  },
  {
   "cell_type": "code",
   "execution_count": null,
   "id": "13145949-9218-4bbb-a846-9c545406e8b0",
   "metadata": {},
   "outputs": [],
   "source": []
  },
  {
   "cell_type": "markdown",
   "id": "00a4680c-2d7c-4aa7-9694-39ce13309915",
   "metadata": {},
   "source": [
    "次に、2つの確率変数\n",
    "\n",
    "$$\n",
    "\\boldsymbol{a^\\top y} = \\sum a_i y_i,\n",
    "\\hspace{2em}\n",
    "\\boldsymbol{b^\\top y} = \\sum b_i y_i\n",
    "$$\n",
    "\n",
    "の共分散は、誤差項$\\boldsymbol{\\varepsilon}$が無相関・等分散の仮定$V[\\boldsymbol{\\varepsilon}] = \\sigma^2 \\boldsymbol{I}$を満たすとき、\n",
    "\n",
    "$$\n",
    "\\text{Cov}[\\boldsymbol{a^\\top y, b^\\top y}]\n",
    "= \\text{Cov}[\\boldsymbol{a^\\top \\varepsilon, b^\\top \\varepsilon}]\n",
    "= \\sum a_i b_i \\sigma^2\n",
    "= (\\boldsymbol{a^\\top b}) \\sigma^2\n",
    "$$\n",
    "\n",
    "```{margin}\n",
    "TODO: 解説書く\n",
    "```\n",
    "\n",
    "となることから\n",
    "\n",
    "$$\n",
    "\\text{Cov}[\\boldsymbol{ \\alpha^\\top (X^\\top X)^{-1} X^\\top y, d^\\top y }]\n",
    "= \\boldsymbol{\\alpha^\\top (X^\\top X)^{-1} X^\\top d } \\cdot \\sigma^2\n",
    "$$\n",
    "\n",
    "となり、$\\boldsymbol{d}^\\top \\boldsymbol{X} = \\boldsymbol{0}$よりこれは0となる。\n",
    "\n",
    "よって\n",
    "\n",
    "$$\n",
    "V[\\boldsymbol{ c^\\top y }] = V[\\boldsymbol{ \\alpha^\\top \\hat{\\beta} }] + V[\\boldsymbol{ d^\\top y }]\n",
    "$$\n",
    "\n",
    "が成り立ち、分散は非負なので\n",
    "\n",
    "$$\n",
    "V[\\boldsymbol{ c^\\top y }] \\geq V[\\boldsymbol{ \\alpha^\\top \\hat{\\beta} }]\n",
    "$$\n",
    "\n",
    "を意味する。\n",
    "\n",
    "よって$\\boldsymbol{ \\alpha^\\top \\hat{\\beta} }$は最良線形不偏推定量BLUEである。"
   ]
  },
  {
   "cell_type": "markdown",
   "id": "52461b25-bed5-43f4-b2d3-563545ae77c7",
   "metadata": {},
   "source": [
    "## 参考文献\n",
    "\n",
    "- 東京大学出版会『統計学入門』\n",
    "- 東京大学出版会『自然科学の統計学』\n",
    "- Hastie, T., Tibshirani, R., Friedman, J. H., & Friedman, J. H. (2009). The elements of statistical learning: data mining, inference, and prediction (Vol. 2, pp. 1-758). New York: springer."
   ]
  },
  {
   "cell_type": "code",
   "execution_count": null,
   "id": "c0c0abf7-6f85-430b-a543-eef2cf068ad8",
   "metadata": {},
   "outputs": [],
   "source": []
  }
 ],
 "metadata": {
  "kernelspec": {
   "display_name": "Python 3 (ipykernel)",
   "language": "python",
   "name": "python3"
  },
  "language_info": {
   "codemirror_mode": {
    "name": "ipython",
    "version": 3
   },
   "file_extension": ".py",
   "mimetype": "text/x-python",
   "name": "python",
   "nbconvert_exporter": "python",
   "pygments_lexer": "ipython3",
   "version": "3.9.13"
  }
 },
 "nbformat": 4,
 "nbformat_minor": 5
}
