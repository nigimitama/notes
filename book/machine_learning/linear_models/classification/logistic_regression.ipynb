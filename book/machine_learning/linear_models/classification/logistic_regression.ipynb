{
 "cells": [
  {
   "cell_type": "markdown",
   "id": "c32fc4da-8633-4bed-b29f-a7b36190839b",
   "metadata": {},
   "source": [
    "# ロジスティック回帰\n",
    "\n",
    "## モデル\n",
    "\n",
    "クラスの判別あるいはその確率値の予測を行いたい場合を想定する。\n",
    "\n",
    "\n",
    "\n",
    "\n"
   ]
  },
  {
   "cell_type": "code",
   "execution_count": 4,
   "id": "abf5b4c8-7f1a-4966-93d4-edf65315e802",
   "metadata": {},
   "outputs": [
    {
     "data": {
      "text/plain": [
       "1.0"
      ]
     },
     "execution_count": 4,
     "metadata": {},
     "output_type": "execute_result"
    }
   ],
   "source": []
  },
  {
   "cell_type": "code",
   "execution_count": 2,
   "id": "cfadf778-7d0b-4b52-8d69-ebde69f440b5",
   "metadata": {},
   "outputs": [
    {
     "data": {
      "text/plain": [
       "1.0"
      ]
     },
     "execution_count": 2,
     "metadata": {},
     "output_type": "execute_result"
    }
   ],
   "source": [
    "import math\n",
    "math.log(math.exp(1))"
   ]
  },
  {
   "cell_type": "code",
   "execution_count": 7,
   "id": "dd0ad3ab-b2de-4e77-9911-7c1b76db330c",
   "metadata": {},
   "outputs": [
    {
     "data": {
      "text/plain": [
       "10.000000000000002"
      ]
     },
     "execution_count": 7,
     "metadata": {},
     "output_type": "execute_result"
    }
   ],
   "source": [
    "math.exp(math.log(10))\n"
   ]
  },
  {
   "cell_type": "code",
   "execution_count": null,
   "id": "984c7926-decb-4602-9fe5-56949b853cd6",
   "metadata": {},
   "outputs": [],
   "source": []
  }
 ],
 "metadata": {
  "kernelspec": {
   "display_name": "Python 3 (ipykernel)",
   "language": "python",
   "name": "python3"
  },
  "language_info": {
   "codemirror_mode": {
    "name": "ipython",
    "version": 3
   },
   "file_extension": ".py",
   "mimetype": "text/x-python",
   "name": "python",
   "nbconvert_exporter": "python",
   "pygments_lexer": "ipython3",
   "version": "3.9.13"
  }
 },
 "nbformat": 4,
 "nbformat_minor": 5
}
