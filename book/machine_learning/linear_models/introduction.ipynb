{
 "cells": [
  {
   "cell_type": "markdown",
   "id": "ea2046b4-ffa7-4dd0-b4df-0c014edea805",
   "metadata": {},
   "source": [
    "# 線形モデル\n",
    "\n",
    "線形回帰、線形判別モデルなど、回帰や分類に用いることのできる線形モデルたちについて。\n"
   ]
  }
 ],
 "metadata": {
  "kernelspec": {
   "display_name": "Python 3 (ipykernel)",
   "language": "python",
   "name": "python3"
  },
  "language_info": {
   "codemirror_mode": {
    "name": "ipython",
    "version": 3
   },
   "file_extension": ".py",
   "mimetype": "text/x-python",
   "name": "python",
   "nbconvert_exporter": "python",
   "pygments_lexer": "ipython3",
   "version": "3.9.16"
  }
 },
 "nbformat": 4,
 "nbformat_minor": 5
}
