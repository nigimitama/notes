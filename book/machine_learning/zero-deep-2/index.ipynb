{
 "cells": [
  {
   "cell_type": "markdown",
   "id": "ed20300f-e2ea-4b20-8a27-8d69675cf2d3",
   "metadata": {},
   "source": [
    "# ゼロD 2 メモ\n",
    "\n",
    "[oreilly-japan/deep-learning-from-scratch-2: 『ゼロから作る Deep Learning ❷』(O'Reilly Japan, 2018)](https://github.com/oreilly-japan/deep-learning-from-scratch-2)"
   ]
  },
  {
   "cell_type": "markdown",
   "id": "3eab9116-98d1-47dd-bd58-d6a28847a12b",
   "metadata": {},
   "source": [
    ":::{tableofcontents}\n",
    ":::"
   ]
  }
 ],
 "metadata": {
  "kernelspec": {
   "display_name": "Python 3",
   "language": "python",
   "name": "python3"
  },
  "language_info": {
   "codemirror_mode": {
    "name": "ipython",
    "version": 3
   },
   "file_extension": ".py",
   "mimetype": "text/x-python",
   "name": "python",
   "nbconvert_exporter": "python",
   "pygments_lexer": "ipython3",
   "version": "3.8.10"
  }
 },
 "nbformat": 4,
 "nbformat_minor": 5
}
