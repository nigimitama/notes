{
 "cells": [
  {
   "cell_type": "markdown",
   "id": "6c7043da-1693-42e1-932e-52ed9812e56c",
   "metadata": {},
   "source": [
    "# データセットシフト"
   ]
  },
  {
   "cell_type": "markdown",
   "id": "d53fcaea-dd0a-4f41-b5b1-74ceba375e2a",
   "metadata": {},
   "source": [
    "標準的な機械学習の問題設定ではtrainとtestあるいはserving（顧客に予測値を提供するときに使うデータ）のデータが独立に同一分布からサンプリングされていることを前提としている。\n",
    "\n",
    "データセットシフトはそれらのデータ分布が違うケース"
   ]
  },
  {
   "cell_type": "markdown",
   "id": "54d10f59-9a79-4b69-b0d9-45fc07e96fdc",
   "metadata": {},
   "source": [
    "## シフトの種類"
   ]
  },
  {
   "cell_type": "markdown",
   "id": "35b6d4e0-cd69-466f-ba54-af2071fb5b3e",
   "metadata": {},
   "source": [
    "### Covariate Shift（共変量シフト）\n",
    "\n",
    "train/testで共変量の周辺分布にシフトが生じているケース。\n",
    "\n",
    "$$\n",
    "p_{tr}(x) \\neq p_{te}(x) \\\\\n",
    "p_{tr}(y|x) = p_{te}(y|x)\n",
    "$$\n",
    "\n",
    "Shimodaira (2000)で報告され、杉山や金森などの研究により尤度比（重要度）による重み付け学習が提案された\n",
    "\n"
   ]
  },
  {
   "cell_type": "markdown",
   "id": "7bb562cc-0f3f-4592-b240-430efa376f40",
   "metadata": {},
   "source": [
    "### Target Shift / Label Shift\n",
    "\n",
    "train/testで目的変数の周辺分布にシフトが生じているケース。共変量シフトの逆\n",
    "\n",
    "\n",
    "$$\n",
    "p_{tr}(y) \\neq p_{te}(y) \\\\\n",
    "p_{tr}(x|y) = p_{te}(x|y)\n",
    "$$\n"
   ]
  },
  {
   "cell_type": "markdown",
   "id": "80ed387e-146e-4d53-836f-6531cff193ad",
   "metadata": {},
   "source": [
    "### Concept Shift\n",
    "\n",
    "train/testで目的変数の条件付き分布にシフトが生じているケース\n",
    "\n",
    "$$\n",
    "p_{tr}(y|x) \\neq p_{te}(y|x) \\\\\n",
    "p_{tr}(x|y) \\neq p_{te}(x|y)\n",
    "$$\n"
   ]
  },
  {
   "cell_type": "markdown",
   "id": "314e98b2-4941-4db2-8de4-69f32fe5fe86",
   "metadata": {},
   "source": [
    "### Domain Shift\n",
    "\n",
    "データを観測した環境や機材が異なることによるデータセットのシフト\n",
    "\n",
    "例えば同じ物体を夜に撮影した画像データと昼に撮影した画像データなど"
   ]
  },
  {
   "cell_type": "markdown",
   "id": "0356143d-a4c3-45aa-854c-48e676723c9e",
   "metadata": {},
   "source": [
    "## 参考\n",
    "\n",
    "- [トップカンファレンスにおけるデータセットシフトと機械学習 - Ridge-institute R&D Blog](https://iblog.ridge-i.com/entry/2021/03/10/110000)\n",
    "- [第3回：ドメインシフトと機械学習の性能低下 | 株式会社豆蔵](https://www.mamezou.com/techinfo/ai_machinelearning_rpa/ai_tech_team/3)"
   ]
  }
 ],
 "metadata": {
  "kernelspec": {
   "display_name": "Python 3 (ipykernel)",
   "language": "python",
   "name": "python3"
  },
  "language_info": {
   "codemirror_mode": {
    "name": "ipython",
    "version": 3
   },
   "file_extension": ".py",
   "mimetype": "text/x-python",
   "name": "python",
   "nbconvert_exporter": "python",
   "pygments_lexer": "ipython3",
   "version": "3.10.15"
  }
 },
 "nbformat": 4,
 "nbformat_minor": 5
}
