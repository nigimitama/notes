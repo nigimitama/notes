{
 "cells": [
  {
   "cell_type": "markdown",
   "id": "8c2f2217-6450-45e2-82eb-185d30107332",
   "metadata": {},
   "source": [
    "# ML System Design Pattern"
   ]
  },
  {
   "cell_type": "markdown",
   "id": "f0795955-d6d2-4d51-9106-5572a172af9a",
   "metadata": {},
   "source": [
    "## Serving patterns\n",
    "\n",
    "推論サーバを稼働させ運用するパターン。\n"
   ]
  },
  {
   "cell_type": "markdown",
   "id": "3be76ec0-88c8-443b-bfee-79368d65e9d2",
   "metadata": {},
   "source": [
    "\n",
    "### Synchronous pattern\n",
    "\n",
    "概要：\n",
    "\n",
    "- REST APIなどで同期的に提供するパターン\n",
    "\n",
    "Usecase：\n",
    "\n",
    "- アプリのワークフローが推論結果に依存するとき\n"
   ]
  },
  {
   "cell_type": "markdown",
   "id": "41b966ac-5f1a-49f9-a9e7-df496df97c17",
   "metadata": {},
   "source": [
    "### Asynchronous pattern\n",
    "\n",
    "概要：\n",
    "\n",
    "- Pub-subモデルなどで非同期的に提供するパターン\n",
    "\n",
    "Usecase：\n",
    "\n",
    "- アプリのワークフローが推論結果に依存しないとき\n",
    "- 推論に時間がかかるモデルで、Synchronousだとユーザーを長時間待たせてしまうとき\n"
   ]
  },
  {
   "cell_type": "markdown",
   "id": "ce7fa0d4-148c-4e50-a0ea-a2c0e20c8fd4",
   "metadata": {},
   "source": [
    "### Batch pattern\n",
    "\n",
    "概要：\n",
    "\n",
    "- 定期的に推論しておき、DBなどに保存しておく方法\n",
    "\n",
    "Usecase：\n",
    "\n",
    "- リアルタイムで推論する必要がないとき\n",
    "- 推論に時間がかかるモデルのとき"
   ]
  },
  {
   "cell_type": "markdown",
   "id": "d0f47c3c-8e5f-496e-852a-67cf088182c5",
   "metadata": {},
   "source": [
    "### Data cache pattern\n",
    "\n",
    "概要：\n",
    "\n",
    "- 前処理済みの入力結果や推論結果をキャッシュしておく\n",
    "- 推論時、キャッシュ済みのinputに対してはRedisなどからキャッシュを取り出し、モデルの推論を回避する\n",
    "\n",
    "Usecase：\n",
    "\n",
    "- 同一データの入力が多く発生するとき\n",
    "- 前処理や推論に時間がかかるとき\n",
    "\n",
    "例：\n",
    "\n",
    "- Bernardi et al. (2019). [150 successful machine learning models: 6 lessons learned at booking.com](https://dl.acm.org/doi/10.1145/3292500.3330744)\n",
    "    - A/Bテストで新旧モデルを比較したところ、推薦においてOffline evaluationによる予測精度の改善はビジネスのKPIに対し無相関だった\n",
    "    - しかしA/Bテストでユーザーの待ち時間（latency）を比較したところ、待ち時間が長いほどCVRが悪化する負の相関がはっきり出た\n",
    "    - そこですべての推論結果をkey-value-storeに保存しておくcache patternを使いlatencyを縮めた（他にもインフラ的な冗長性確保やアルゴリズムの計算量削減なども行っている）"
   ]
  },
  {
   "cell_type": "markdown",
   "id": "fb7ae8c5-bde8-4b29-8b20-eb20bbb72555",
   "metadata": {},
   "source": [
    "### Prediction circuit break pattern\n",
    "\n",
    "概要：\n",
    "\n",
    "- 急増したリクエストに対し、サービス全体が停止しないようにするため、リソースの増加が完了するまでの間だけ一部のリクエストを遮断する\n",
    "\n",
    "Usecase：\n",
    "\n",
    "- 推論へのアクセスが急激に増減し、増減に推論サーバやインフラが対応できない場合\n",
    "- 全リクエストへレスポンスを返す必要がない場合\n"
   ]
  },
  {
   "cell_type": "markdown",
   "id": "b75bac00-2433-4b1d-99c4-8f2f336351fb",
   "metadata": {},
   "source": [
    "## QA patterns\n",
    "\n",
    "機械学習のモデルおよび推論器を評価するためのパターン。\n",
    "\n"
   ]
  },
  {
   "cell_type": "markdown",
   "id": "edaf5786-a2e1-46bb-9e5d-e31b287aa17e",
   "metadata": {},
   "source": [
    "## 参考文献\n",
    "\n",
    "- https://mercari.github.io/ml-system-design-pattern/README_ja.html\n",
    "    - Mercariが公開している資料\n",
    "    - [機械学習システムの設計パターンを公開します。 | メルカリエンジニアリング](https://engineering.mercari.com/blog/entry/ml-system-design/)\n",
    "- 佐藤ほか（2021）『AIソフトウェアのテスト』\n"
   ]
  }
 ],
 "metadata": {
  "kernelspec": {
   "display_name": "Python 3 (ipykernel)",
   "language": "python",
   "name": "python3"
  },
  "language_info": {
   "codemirror_mode": {
    "name": "ipython",
    "version": 3
   },
   "file_extension": ".py",
   "mimetype": "text/x-python",
   "name": "python",
   "nbconvert_exporter": "python",
   "pygments_lexer": "ipython3",
   "version": "3.10.13"
  }
 },
 "nbformat": 4,
 "nbformat_minor": 5
}
