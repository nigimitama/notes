{
 "cells": [
  {
   "cell_type": "markdown",
   "id": "09557709-0d13-4bdd-89cf-e5e12c417e19",
   "metadata": {},
   "source": [
    "# Distillation"
   ]
  },
  {
   "cell_type": "markdown",
   "id": "0c01e025-661e-4e6f-8f7f-8ebb43916fe3",
   "metadata": {},
   "source": [
    "## Knowledge Distillation\n",
    "\n",
    "**知識蒸留（knowledge distillation）**は、あるモデルが学んだことを別のモデルに移すこと。\n",
    "教師モデルを模倣するように生徒モデルが学習していく。"
   ]
  },
  {
   "cell_type": "markdown",
   "id": "3a33db4f-58f6-4a12-bef1-38f0659ccfb4",
   "metadata": {},
   "source": [
    "## Data Distillation\n",
    "\n",
    "教師ラベルのないデータの複数の変換を用いた予測をアンサンブルして新しい訓練用の教師ラベル（疑似ラベル）を自動的に生成する方法\n",
    "\n",
    "[[1712.04440] Data Distillation: Towards Omni-Supervised Learning](https://arxiv.org/abs/1712.04440)\n",
    "\n",
    "> data distillation, a method that ensembles predictions from multiple transformations of unlabeled data, using a single model, to automatically generate new training annotations."
   ]
  },
  {
   "cell_type": "code",
   "execution_count": null,
   "id": "8c5882e3-0500-4297-b828-b16a06744eea",
   "metadata": {},
   "outputs": [],
   "source": []
  }
 ],
 "metadata": {
  "kernelspec": {
   "display_name": "Python 3 (ipykernel)",
   "language": "python",
   "name": "python3"
  },
  "language_info": {
   "codemirror_mode": {
    "name": "ipython",
    "version": 3
   },
   "file_extension": ".py",
   "mimetype": "text/x-python",
   "name": "python",
   "nbconvert_exporter": "python",
   "pygments_lexer": "ipython3",
   "version": "3.9.16"
  }
 },
 "nbformat": 4,
 "nbformat_minor": 5
}
