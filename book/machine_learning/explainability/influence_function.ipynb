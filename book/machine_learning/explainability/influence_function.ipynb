{
 "cells": [
  {
   "cell_type": "markdown",
   "id": "95ed8ea6-77e9-4e82-b261-6827b46200f8",
   "metadata": {},
   "source": [
    "# 影響関数（influence function）\n",
    "\n",
    "\n",
    "- [Koh & Liang (2017)](http://proceedings.mlr.press/v70/koh17a/koh17a.pdf)が提案\n",
    "- [Hara et al. (2019)](https://proceedings.neurips.cc/paper/2019/file/5f14615696649541a025d3d0f8e0447f-Paper.pdf)はconvexでない損失関数にも使えるよう拡張\n"
   ]
  },
  {
   "cell_type": "markdown",
   "id": "9189238f-e4a6-4ed7-acec-8bbed212af80",
   "metadata": {},
   "source": [
    "## LOO\n",
    "\n",
    "1つのインスタンスを抜いた状態で訓練した場合にどれだけ予測値が変わるかを考える\n",
    "\n",
    "n回学習し直す必要があるので現実的ではない\n"
   ]
  },
  {
   "cell_type": "markdown",
   "id": "1f49db0f-ab8f-49ed-bbd8-5ed428039c43",
   "metadata": {},
   "source": [
    "## Influence Function\n",
    "\n",
    "近似\n"
   ]
  },
  {
   "cell_type": "markdown",
   "id": "a3e103ac-1ee1-4455-9501-e4fdb3618bb0",
   "metadata": {},
   "source": [
    "## FastFI\n",
    "\n",
    "更に近似"
   ]
  },
  {
   "cell_type": "markdown",
   "id": "15bb9a38-07e1-435d-a095-681c8b22d155",
   "metadata": {},
   "source": [
    "## 参考文献\n",
    "\n",
    "- [Influence Functionでインスタンスの重要度を解釈する - Dropout](https://dropout009.hatenablog.com/entry/2021/07/19/223929)"
   ]
  },
  {
   "cell_type": "code",
   "execution_count": null,
   "id": "d632e7aa-9023-413a-8fef-4042b7284eed",
   "metadata": {},
   "outputs": [],
   "source": []
  }
 ],
 "metadata": {
  "kernelspec": {
   "display_name": "Python 3 (ipykernel)",
   "language": "python",
   "name": "python3"
  },
  "language_info": {
   "codemirror_mode": {
    "name": "ipython",
    "version": 3
   },
   "file_extension": ".py",
   "mimetype": "text/x-python",
   "name": "python",
   "nbconvert_exporter": "python",
   "pygments_lexer": "ipython3",
   "version": "3.9.17"
  }
 },
 "nbformat": 4,
 "nbformat_minor": 5
}
