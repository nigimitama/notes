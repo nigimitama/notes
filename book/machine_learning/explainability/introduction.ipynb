{
 "cells": [
  {
   "cell_type": "markdown",
   "id": "958cdb05-3883-49b4-b858-417ec9db7c2b",
   "metadata": {},
   "source": [
    "# 説明可能性\n",
    "\n",
    "[恵木 (2020)](https://www.jstage.jst.go.jp/article/jssmjournal/34/1/34_20/_pdf/-char/ja)の分類に則ると、4つに分けられる\n",
    "\n",
    "1. 因子型：「この特徴量の値がこれだからこの予測結果」\n",
    "2. 事例型：「似たような事例はこうだったから」\n",
    "3. 知識型：「AIはここの要素が弱いと考えた」\n",
    "4. 反実型：「もしこの特徴量の値がこれだったらこの予測結果となった」"
   ]
  },
  {
   "cell_type": "markdown",
   "id": "12d842cc-dc2b-4c80-aa44-b508c47412a9",
   "metadata": {},
   "source": [
    "## 因子型\n",
    "\n",
    "LIME、SHAPなど"
   ]
  },
  {
   "cell_type": "markdown",
   "id": "134e6688-bc10-4c15-ab9d-012b0bb59877",
   "metadata": {},
   "source": [
    "## 事例型\n",
    "\n",
    "予測対象と類似した訓練事例を出すアプローチ\n",
    "\n",
    "### k近傍のサンプルを出す方法\n",
    "\n",
    "### Influence function\n",
    "\n",
    "- [Koh & Liang (2017)](http://proceedings.mlr.press/v70/koh17a/koh17a.pdf)が提案\n",
    "- [Hara et al. (2019)](https://proceedings.neurips.cc/paper/2019/file/5f14615696649541a025d3d0f8e0447f-Paper.pdf)はconvexでない損失関数にも使えるよう拡張\n",
    "- [Guo et al. (2020)](https://arxiv.org/abs/2012.15781)（Salesforce）のFastIFはk近傍に絞って計算することで訓練を高速化\n",
    "\n",
    "### TracIn\n",
    "\n",
    "SGDにおいて各インスタンスが誤差をどれだけ増減させるかを見てインスタンスの影響度を測るアプローチ\n",
    "\n",
    "- [TracIn — A Simple Method to Estimate Training Data Influence – Google Research Blog](https://blog.research.google/2021/02/tracin-simple-method-to-estimate.html?m=1)\n",
    "- [[2002.08484] Estimating Training Data Influence by Tracing Gradient Descent](https://arxiv.org/abs/2002.08484)"
   ]
  },
  {
   "cell_type": "markdown",
   "id": "41731743-352d-4f65-9ccb-be3775c764fb",
   "metadata": {},
   "source": [
    "## 参考\n",
    "\n",
    "### サーベイ・チュートリアル\n",
    "\n",
    "- [JSAI2023 チュートリアル「解釈可能な機械学習 〜説明は人のためか〜」 - Speaker Deck](https://speakerdeck.com/yuyay/jsai2023-tiyutoriaru-jie-shi-ke-neng-naji-jie-xue-xi-shuo-ming-haren-notameka)\n",
    "- [亀谷由隆. (2022). 説明可能 AI 技術のこれまでとこれから. 電子情報通信学会 基礎・境界ソサイエティ Fundamentals Review, 16(2), 83-92.](https://www.jstage.jst.go.jp/article/essfr/16/2/16_83/_pdf/-char/ja)\n",
    "- [恵木正史. (2020). XAI (eXplainable AI) 技術の研究動向. 日本セキュリティ・マネジメント学会誌, 34(1), 20-27.](https://www.jstage.jst.go.jp/article/jssmjournal/34/1/34_20/_pdf/-char/ja)"
   ]
  },
  {
   "cell_type": "code",
   "execution_count": null,
   "id": "a76382da-5048-40e5-84cc-a49a62876b3a",
   "metadata": {},
   "outputs": [],
   "source": []
  }
 ],
 "metadata": {
  "kernelspec": {
   "display_name": "Python 3 (ipykernel)",
   "language": "python",
   "name": "python3"
  },
  "language_info": {
   "codemirror_mode": {
    "name": "ipython",
    "version": 3
   },
   "file_extension": ".py",
   "mimetype": "text/x-python",
   "name": "python",
   "nbconvert_exporter": "python",
   "pygments_lexer": "ipython3",
   "version": "3.9.18"
  }
 },
 "nbformat": 4,
 "nbformat_minor": 5
}
