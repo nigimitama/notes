{
 "cells": [
  {
   "cell_type": "markdown",
   "id": "579627fa-6bd5-4b34-a835-d9d6fccab622",
   "metadata": {},
   "source": [
    "# Influence Function 線形回帰での例"
   ]
  },
  {
   "cell_type": "markdown",
   "id": "fe9915d9-147e-420e-ab11-744270b1d18c",
   "metadata": {},
   "source": [
    "参考：[Influence Functionでインスタンスの重要度を解釈する - Dropout](https://dropout009.hatenablog.com/entry/2021/07/19/223929)"
   ]
  },
  {
   "cell_type": "markdown",
   "id": "878bc394-8cb4-446f-aec4-25298bbb3eb9",
   "metadata": {
    "tags": []
   },
   "source": [
    "$$\n",
    "\\begin{align}\n",
    "L(z, \\theta) &= (y - x^\\top \\theta)^2\\\\\n",
    "\\nabla_{\\theta} L(z, \\theta) &= - 2 (y - x^\\top \\theta) x = -2xy + 2 (x^\\top \\theta) x\\\\\n",
    "R(\\theta) &= (y - X\\theta)^\\top (y - X\\theta) \\\\\n",
    "\\nabla_{\\theta} R(\\theta) &= -2 X^\\top y + 2 (X^\\top X) \\theta \\\\\n",
    "H = \\nabla_{\\theta}^2 R(\\theta) &= 2 (X^\\top X)\\\\\n",
    "\\hat{\\theta} &= (X^\\top X)^{-1} X^\\top y\n",
    "\\end{align}\n",
    "$$\n",
    "\n",
    "なので\n",
    "$$\n",
    "\\begin{align}\n",
    "\\mathcal{I}_{up, params}(z)\n",
    "    &= -H^{-1}_{\\hat{\\theta}} \\nabla_{\\theta} L(z, \\hat{\\theta})\\\\\n",
    "    &= -( 2 X^\\top X )^{-1} ( - 2 (y - x^\\top \\hat\\theta) x )\n",
    "\\\\\n",
    "\\mathcal{I}_{up, loss}(z, z_{test})\n",
    "    &= - \\nabla_{\\theta} L(z_{test}, \\hat{\\theta})^\\top H^{-1}_{\\hat{\\theta}} \\nabla_{\\theta} L(z, \\hat{\\theta}) \\\\\n",
    "    &= (2 (y_{test} - x_{test}^\\top \\hat\\theta) x_{test} )^\\top ( 2X^\\top X )^{-1} ( - 2 (y - x^\\top \\hat\\theta) x )\n",
    "\\end{align}\n",
    "$$\n"
   ]
  },
  {
   "cell_type": "code",
   "execution_count": 123,
   "id": "aa295b22-1053-4182-b0ed-0af23faeccde",
   "metadata": {},
   "outputs": [],
   "source": [
    "def influence_params(x, y, X, theta):\n",
    "    hessian = 2 * (X.T @ X)\n",
    "    nabla_l_train = - 2 * (y - x.T @ theta) * x\n",
    "    return np.linalg.inv(hessian) @ nabla_l_train"
   ]
  },
  {
   "cell_type": "code",
   "execution_count": 122,
   "id": "c971aeb4-1194-4849-a975-aafffda6b204",
   "metadata": {},
   "outputs": [],
   "source": [
    "def influence_loss(x, y, x_test, y_test, X, theta):\n",
    "    nabla_l_test = (y_test - x_test.T @ theta) * x_test\n",
    "    hessian = 2 * (X.T @ X)\n",
    "    nabla_l_train = - 2 * (y - x.T @ theta) * x\n",
    "    return nabla_l_test.T @ np.linalg.inv(hessian) @ nabla_l_train"
   ]
  },
  {
   "cell_type": "code",
   "execution_count": 100,
   "id": "5bb2a237-9f1d-4634-b186-3e4132e1b6ae",
   "metadata": {},
   "outputs": [
    {
     "name": "stdout",
     "output_type": "stream",
     "text": [
      "[1.  0.8]\n"
     ]
    }
   ],
   "source": [
    "import numpy as np\n",
    "\n",
    "# generate data\n",
    "n, p = 10, 2\n",
    "np.random.seed(0)\n",
    "X = np.random.uniform(size=(n, p))\n",
    "theta = np.random.uniform(size=p).round(1)\n",
    "print(theta)\n",
    "e = np.random.normal(scale=0.1, size=n)\n",
    "y = X @ theta + e"
   ]
  },
  {
   "cell_type": "code",
   "execution_count": 101,
   "id": "8e178cdc-f628-46c4-b9a9-1d8535bee349",
   "metadata": {},
   "outputs": [
    {
     "data": {
      "text/plain": [
       "array([[0.5488135 , 0.71518937],\n",
       "       [0.60276338, 0.54488318],\n",
       "       [0.4236548 , 0.64589411],\n",
       "       [0.43758721, 0.891773  ],\n",
       "       [0.96366276, 0.38344152],\n",
       "       [0.79172504, 0.52889492],\n",
       "       [0.56804456, 0.92559664],\n",
       "       [0.07103606, 0.0871293 ],\n",
       "       [0.0202184 , 0.83261985],\n",
       "       [0.77815675, 0.87001215]])"
      ]
     },
     "execution_count": 101,
     "metadata": {},
     "output_type": "execute_result"
    }
   ],
   "source": [
    "X"
   ]
  },
  {
   "cell_type": "code",
   "execution_count": 102,
   "id": "8dfbb809-6d90-4a0a-a7de-8b8df59242df",
   "metadata": {},
   "outputs": [],
   "source": [
    "class LinearRegression:\n",
    "\n",
    "    def fit(self, X, y):\n",
    "        self.theta_ = np.linalg.inv(X.T @ X) @ (X.T @ y)\n",
    "        return self\n",
    "\n",
    "    def predict(self, X):\n",
    "        return X @ self.theta_\n"
   ]
  },
  {
   "cell_type": "code",
   "execution_count": 103,
   "id": "caf8033b-21e0-4683-bae3-57014c4ce4cd",
   "metadata": {},
   "outputs": [
    {
     "data": {
      "text/plain": [
       "array([0.73266182, 1.01441283])"
      ]
     },
     "execution_count": 103,
     "metadata": {},
     "output_type": "execute_result"
    }
   ],
   "source": [
    "# データ全件でのモデル\n",
    "theta_hat = LinearRegression().fit(X, y).theta_\n",
    "theta_hat"
   ]
  },
  {
   "cell_type": "code",
   "execution_count": 104,
   "id": "af2191fb-0764-4742-9f07-49cd9bab269f",
   "metadata": {},
   "outputs": [],
   "source": [
    "# LOO\n",
    "\n",
    "diffs = np.array([])\n",
    "theta_wo_z = np.array([])\n",
    "for i in range(n):\n",
    "    X_wo_z = np.concatenate((X[:i, ], X[(i+1):, ]), axis=0)\n",
    "    y_wo_z = np.concatenate((y[:i], y[(i+1):]), axis=0)\n",
    "    assert X_wo_z.shape[0] == n - 1\n",
    "    assert y_wo_z.shape[0] == n - 1\n",
    "    theta_wo_z_i = LinearRegression().fit(X_wo_z, y_wo_z).theta_\n",
    "    diff_i = np.linalg.norm(theta_wo_z_i - theta_hat)\n",
    "    diffs = np.append(diffs, diff_i)\n",
    "    theta_wo_z = np.concatenate([theta_wo_z, theta_wo_z_i])\n",
    "\n",
    "theta_wo_z = theta_wo_z.reshape(n, -1)"
   ]
  },
  {
   "cell_type": "code",
   "execution_count": 125,
   "id": "e16ed1a8-8da8-4c42-a8c2-aa3ed20545e8",
   "metadata": {},
   "outputs": [],
   "source": [
    "# LOO (params)\n",
    "\n",
    "diffs = np.array([])\n",
    "for i in range(n):\n",
    "    X_wo_z = np.concatenate((X[:i, ], X[(i+1):, ]), axis=0)\n",
    "    y_wo_z = np.concatenate((y[:i], y[(i+1):]), axis=0)\n",
    "    assert X_wo_z.shape[0] == n - 1\n",
    "    assert y_wo_z.shape[0] == n - 1\n",
    "    theta_wo_z_i = LinearRegression().fit(X_wo_z, y_wo_z).theta_\n",
    "    diff_i = np.linalg.norm(theta_wo_z_i - theta_hat)  # ノルムがいいのかはわからんがL2ノルムにしてみる\n",
    "    diffs = np.append(diffs, diff_i)"
   ]
  },
  {
   "cell_type": "code",
   "execution_count": 106,
   "id": "ca97a181-0cbe-4300-8aae-34029f9fea4b",
   "metadata": {},
   "outputs": [
    {
     "data": {
      "text/plain": [
       "array([0.02083284, 0.00520998, 0.00109041, 0.07302494, 0.1084997 ,\n",
       "       0.0851947 , 0.0131505 , 0.00110383, 0.07352071, 0.02486394])"
      ]
     },
     "execution_count": 106,
     "metadata": {},
     "output_type": "execute_result"
    }
   ],
   "source": [
    "diffs"
   ]
  },
  {
   "cell_type": "code",
   "execution_count": 107,
   "id": "07bcb734-5404-4277-bf30-32d03b49ecd0",
   "metadata": {},
   "outputs": [
    {
     "data": {
      "text/plain": [
       "array([[0.96366276, 0.38344152],\n",
       "       [0.79172504, 0.52889492],\n",
       "       [0.0202184 , 0.83261985],\n",
       "       [0.43758721, 0.891773  ],\n",
       "       [0.77815675, 0.87001215],\n",
       "       [0.5488135 , 0.71518937],\n",
       "       [0.56804456, 0.92559664],\n",
       "       [0.60276338, 0.54488318],\n",
       "       [0.07103606, 0.0871293 ],\n",
       "       [0.4236548 , 0.64589411]])"
      ]
     },
     "execution_count": 107,
     "metadata": {},
     "output_type": "execute_result"
    }
   ],
   "source": [
    "idxs = np.argsort(diffs)[::-1]\n",
    "X[idxs]"
   ]
  },
  {
   "cell_type": "code",
   "execution_count": 124,
   "id": "45baad51-55dc-46b3-ae05-83ba8dfafbb8",
   "metadata": {},
   "outputs": [
    {
     "data": {
      "text/plain": [
       "array([0.01773356, 0.00998758])"
      ]
     },
     "execution_count": 124,
     "metadata": {},
     "output_type": "execute_result"
    }
   ],
   "source": [
    "influence_params(x=X[i], y=y[i], X=X, theta=theta_hat)"
   ]
  },
  {
   "cell_type": "code",
   "execution_count": null,
   "id": "2f93053d-c681-4be0-8d12-f4ecd90e1a4b",
   "metadata": {},
   "outputs": [
    {
     "data": {
      "text/plain": [
       "array([[0.79172504, 0.52889492],\n",
       "       [0.43758721, 0.891773  ],\n",
       "       [0.96366276, 0.38344152],\n",
       "       [0.0202184 , 0.83261985],\n",
       "       [0.77815675, 0.87001215],\n",
       "       [0.5488135 , 0.71518937],\n",
       "       [0.56804456, 0.92559664],\n",
       "       [0.60276338, 0.54488318],\n",
       "       [0.07103606, 0.0871293 ],\n",
       "       [0.4236548 , 0.64589411]])"
      ]
     },
     "execution_count": 130,
     "metadata": {},
     "output_type": "execute_result"
    }
   ],
   "source": [
    "# influence (params)\n",
    "\n",
    "diffs = np.array([])\n",
    "for i in range(n):\n",
    "    values = influence_params(x=X[i], y=y[i], X=X, theta=theta_hat)\n",
    "    diff_i = np.linalg.norm(values)  # ノルムがいいのかはわからんがL2ノルムにしてみる\n",
    "    diffs = np.append(diffs, diff_i)\n",
    "\n",
    "idxs = np.argsort(diffs)[::-1]\n",
    "X[idxs]"
   ]
  }
 ],
 "metadata": {
  "kernelspec": {
   "display_name": "Python 3 (ipykernel)",
   "language": "python",
   "name": "python3"
  },
  "language_info": {
   "codemirror_mode": {
    "name": "ipython",
    "version": 3
   },
   "file_extension": ".py",
   "mimetype": "text/x-python",
   "name": "python",
   "nbconvert_exporter": "python",
   "pygments_lexer": "ipython3",
   "version": "3.9.18"
  }
 },
 "nbformat": 4,
 "nbformat_minor": 5
}
