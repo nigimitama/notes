{
 "cells": [
  {
   "cell_type": "markdown",
   "id": "579627fa-6bd5-4b34-a835-d9d6fccab622",
   "metadata": {},
   "source": [
    "# Influence Function 線形回帰での例"
   ]
  },
  {
   "cell_type": "markdown",
   "id": "fe9915d9-147e-420e-ab11-744270b1d18c",
   "metadata": {},
   "source": [
    "参考：[Influence Functionでインスタンスの重要度を解釈する - Dropout](https://dropout009.hatenablog.com/entry/2021/07/19/223929)"
   ]
  },
  {
   "cell_type": "markdown",
   "id": "878bc394-8cb4-446f-aec4-25298bbb3eb9",
   "metadata": {
    "tags": []
   },
   "source": [
    "$$\n",
    "\\begin{align}\n",
    "L(z, \\theta) &= (y - x^\\top \\theta)^2\\\\\n",
    "\\nabla_{\\theta} L(z, \\theta) &= - 2 (y - x^\\top \\theta) x = -2xy + 2 (x^\\top \\theta) x\\\\\n",
    "R(\\theta) &= (y - X\\theta)^\\top (y - X\\theta) \\\\\n",
    "\\nabla_{\\theta} R(\\theta) &= -2 X^\\top y + 2 (X^\\top X) \\theta \\\\\n",
    "H = \\nabla_{\\theta}^2 R(\\theta) &= 2 (X^\\top X)\\\\\n",
    "\\hat{\\theta} &= (X^\\top X)^{-1} X^\\top y\n",
    "\\end{align}\n",
    "$$\n",
    "\n",
    "なので\n",
    "$$\n",
    "\\begin{align}\n",
    "\\mathcal{I}_{up, params}(z)\n",
    "    &= -H^{-1}_{\\hat{\\theta}} \\nabla_{\\theta} L(z, \\hat{\\theta})\\\\\n",
    "    &= -( 2 X^\\top X )^{-1} ( - 2 (y - x^\\top \\hat\\theta) x )\n",
    "\\\\\n",
    "\\mathcal{I}_{up, loss}(z, z_{test})\n",
    "    &= - \\nabla_{\\theta} L(z_{test}, \\hat{\\theta})^\\top H^{-1}_{\\hat{\\theta}} \\nabla_{\\theta} L(z, \\hat{\\theta}) \\\\\n",
    "    &= (2 (y_{test} - x_{test}^\\top \\hat\\theta) x_{test} )^\\top ( 2X^\\top X )^{-1} ( - 2 (y - x^\\top \\hat\\theta) x )\n",
    "\\end{align}\n",
    "$$\n"
   ]
  },
  {
   "cell_type": "code",
   "execution_count": 1,
   "id": "aa295b22-1053-4182-b0ed-0af23faeccde",
   "metadata": {},
   "outputs": [],
   "source": [
    "def influence_params(x, y, X, theta):\n",
    "    hessian = 2 * (X.T @ X)\n",
    "    nabla_l_train = - 2 * (y - x.T @ theta) * x\n",
    "    return np.linalg.inv(hessian) @ nabla_l_train"
   ]
  },
  {
   "cell_type": "code",
   "execution_count": 2,
   "id": "c971aeb4-1194-4849-a975-aafffda6b204",
   "metadata": {},
   "outputs": [],
   "source": [
    "def influence_loss(x, y, x_test, y_test, X, theta):\n",
    "    nabla_l_test = (y_test - x_test.T @ theta) * x_test\n",
    "    hessian = 2 * (X.T @ X)\n",
    "    nabla_l_train = - 2 * (y - x.T @ theta) * x\n",
    "    return nabla_l_test.T @ np.linalg.inv(hessian) @ nabla_l_train"
   ]
  },
  {
   "cell_type": "code",
   "execution_count": 3,
   "id": "5bb2a237-9f1d-4634-b186-3e4132e1b6ae",
   "metadata": {},
   "outputs": [
    {
     "name": "stdout",
     "output_type": "stream",
     "text": [
      "[0.3 0.7]\n"
     ]
    }
   ],
   "source": [
    "import numpy as np\n",
    "\n",
    "# generate data\n",
    "n, p = 100, 2\n",
    "np.random.seed(0)\n",
    "X = np.random.uniform(size=(n, p))\n",
    "theta = np.random.uniform(size=p).round(1)\n",
    "print(theta)\n",
    "e = np.random.normal(scale=0.1, size=n)\n",
    "y = X @ theta + e"
   ]
  },
  {
   "cell_type": "code",
   "execution_count": 4,
   "id": "8dfbb809-6d90-4a0a-a7de-8b8df59242df",
   "metadata": {},
   "outputs": [],
   "source": [
    "class LinearRegression:\n",
    "\n",
    "    def fit(self, X, y):\n",
    "        self.theta_ = np.linalg.inv(X.T @ X) @ (X.T @ y)\n",
    "        return self\n",
    "\n",
    "    def predict(self, X):\n",
    "        return X @ self.theta_\n"
   ]
  },
  {
   "cell_type": "code",
   "execution_count": 5,
   "id": "caf8033b-21e0-4683-bae3-57014c4ce4cd",
   "metadata": {},
   "outputs": [
    {
     "data": {
      "text/plain": [
       "array([0.27816619, 0.71295385])"
      ]
     },
     "execution_count": 5,
     "metadata": {},
     "output_type": "execute_result"
    }
   ],
   "source": [
    "# データ全件でのモデル\n",
    "model = LinearRegression().fit(X, y)\n",
    "theta_hat = model.theta_\n",
    "theta_hat"
   ]
  },
  {
   "cell_type": "markdown",
   "id": "c2b2c9a5-2f0a-4dcb-ac7e-bbe95575c20e",
   "metadata": {},
   "source": [
    "## Params"
   ]
  },
  {
   "cell_type": "markdown",
   "id": "9614f662-628c-4025-b151-b668c66b3e7f",
   "metadata": {},
   "source": [
    "### LOO\n",
    "\n",
    "$$\n",
    "\\hat{\\theta}_{-z} - \\hat{\\theta}\n",
    "$$"
   ]
  },
  {
   "cell_type": "code",
   "execution_count": 6,
   "id": "af2191fb-0764-4742-9f07-49cd9bab269f",
   "metadata": {},
   "outputs": [],
   "source": [
    "# LOO\n",
    "\n",
    "diffs = np.array([])\n",
    "theta_wo_z = np.array([])\n",
    "for i in range(n):\n",
    "    X_wo_z = np.concatenate((X[:i, ], X[(i+1):, ]), axis=0)\n",
    "    y_wo_z = np.concatenate((y[:i], y[(i+1):]), axis=0)\n",
    "    assert X_wo_z.shape[0] == n - 1\n",
    "    assert y_wo_z.shape[0] == n - 1\n",
    "    theta_wo_z_i = LinearRegression().fit(X_wo_z, y_wo_z).theta_\n",
    "    diff_i = np.linalg.norm(theta_wo_z_i - theta_hat)\n",
    "    diffs = np.append(diffs, diff_i)\n",
    "    theta_wo_z = np.concatenate([theta_wo_z, theta_wo_z_i])\n",
    "\n",
    "theta_wo_z = theta_wo_z.reshape(n, -1)"
   ]
  },
  {
   "cell_type": "code",
   "execution_count": 7,
   "id": "e16ed1a8-8da8-4c42-a8c2-aa3ed20545e8",
   "metadata": {},
   "outputs": [],
   "source": [
    "# LOO (params)\n",
    "\n",
    "diffs = np.array([])\n",
    "for i in range(n):\n",
    "    X_wo_z = np.concatenate((X[:i, ], X[(i+1):, ]), axis=0)\n",
    "    y_wo_z = np.concatenate((y[:i], y[(i+1):]), axis=0)\n",
    "    assert X_wo_z.shape[0] == n - 1\n",
    "    assert y_wo_z.shape[0] == n - 1\n",
    "    theta_wo_z_i = LinearRegression().fit(X_wo_z, y_wo_z).theta_\n",
    "    diff_i = np.linalg.norm(theta_wo_z_i - theta_hat)  # ノルムがいいのかはわからんがL2ノルムにしてみる\n",
    "    diffs = np.append(diffs, diff_i)"
   ]
  },
  {
   "cell_type": "code",
   "execution_count": 8,
   "id": "11034383-62ee-40b6-8fad-303bb8639ab0",
   "metadata": {},
   "outputs": [],
   "source": [
    "diffs_loo = diffs"
   ]
  },
  {
   "cell_type": "code",
   "execution_count": 9,
   "id": "07bcb734-5404-4277-bf30-32d03b49ecd0",
   "metadata": {},
   "outputs": [
    {
     "data": {
      "text/plain": [
       "array([[0.43758721, 0.891773  ],\n",
       "       [0.0202184 , 0.83261985],\n",
       "       [0.7936977 , 0.22392469],\n",
       "       [0.65632959, 0.13818295],\n",
       "       [0.0641475 , 0.69247212]])"
      ]
     },
     "execution_count": 9,
     "metadata": {},
     "output_type": "execute_result"
    }
   ],
   "source": [
    "idxs = np.argsort(diffs)[::-1]\n",
    "X[idxs][:5]"
   ]
  },
  {
   "cell_type": "markdown",
   "id": "c44cf4f4-bfce-4521-a29f-8f482108a99d",
   "metadata": {},
   "source": [
    "### Influence Function\n",
    "\n",
    "$$\n",
    "\\mathcal{I}_{up, params}\n",
    "$$"
   ]
  },
  {
   "cell_type": "code",
   "execution_count": 10,
   "id": "45baad51-55dc-46b3-ae05-83ba8dfafbb8",
   "metadata": {},
   "outputs": [
    {
     "data": {
      "text/plain": [
       "array([-0.00253057,  0.00388923])"
      ]
     },
     "execution_count": 10,
     "metadata": {},
     "output_type": "execute_result"
    }
   ],
   "source": [
    "influence_params(x=X[i], y=y[i], X=X, theta=theta_hat)"
   ]
  },
  {
   "cell_type": "code",
   "execution_count": 11,
   "id": "2f93053d-c681-4be0-8d12-f4ecd90e1a4b",
   "metadata": {},
   "outputs": [
    {
     "data": {
      "text/plain": [
       "array([[0.43758721, 0.891773  ],\n",
       "       [0.0202184 , 0.83261985],\n",
       "       [0.7936977 , 0.22392469],\n",
       "       [0.65632959, 0.13818295],\n",
       "       [0.0641475 , 0.69247212]])"
      ]
     },
     "execution_count": 11,
     "metadata": {},
     "output_type": "execute_result"
    }
   ],
   "source": [
    "# influence (params)\n",
    "\n",
    "diffs = np.array([])\n",
    "for i in range(n):\n",
    "    values = influence_params(x=X[i], y=y[i], X=X, theta=theta_hat)\n",
    "    loo_approx = - (1/n) * values\n",
    "    diff_i = np.linalg.norm(values)  # ノルムがいいのかはわからんがL2ノルムにしてみる\n",
    "    diffs = np.append(diffs, diff_i)\n",
    "\n",
    "diffs_if = diffs\n",
    "idxs = np.argsort(diffs)[::-1]\n",
    "X[idxs][:5]"
   ]
  },
  {
   "cell_type": "code",
   "execution_count": 12,
   "id": "c9c1e6cf-9d52-42f4-877f-c791f5decff2",
   "metadata": {},
   "outputs": [
    {
     "data": {
      "image/png": "[encoded data removed]",
      "text/plain": [
       "<Figure size 400x400 with 1 Axes>"
      ]
     },
     "metadata": {},
     "output_type": "display_data"
    }
   ],
   "source": [
    "import matplotlib.pyplot as plt\n",
    "\n",
    "fig, ax = plt.subplots(figsize=[4,4])\n",
    "ax.scatter(diffs_if, diffs_loo)\n",
    "# ax.set(title=\"\", xlabel=\"Influence (params)\", ylabel=\"LOO (params)\")\n",
    "# ax.plot(diffs_if, diffs_if, color=\"gray\", alpha=0.5)\n",
    "ax.set(title=r\"$\\hat{θ}_{-z} - \\hat{θ}$ and $-\\frac{1}{n} \\mathcal{I}_{up,params}(z)$\",\n",
    "       xlabel=r\"Influence (params) = $- \\frac{1}{n} \\mathcal{I}_{up,params}(z)$\",\n",
    "       ylabel=r\"LOO (params) = $\\hat{θ}_{-z} - \\hat{θ}$\")\n",
    "ax.grid(True)\n",
    "fig.show()"
   ]
  },
  {
   "cell_type": "markdown",
   "id": "b99ec3b2-cae3-44af-ba0c-a0cba53a1363",
   "metadata": {},
   "source": [
    "## Loss"
   ]
  },
  {
   "cell_type": "code",
   "execution_count": 13,
   "id": "49bd357c-98d3-4aa6-89d0-b938efb90e73",
   "metadata": {},
   "outputs": [
    {
     "data": {
      "text/plain": [
       "array([[0.07103606, 0.0871293 ]])"
      ]
     },
     "execution_count": 13,
     "metadata": {},
     "output_type": "execute_result"
    }
   ],
   "source": [
    "i = 7\n",
    "X_test = X[[i], ]\n",
    "y_test = y[i]\n",
    "X_test"
   ]
  },
  {
   "cell_type": "code",
   "execution_count": 14,
   "id": "2d754702-ca96-4c0d-ae81-0e71e8d193aa",
   "metadata": {},
   "outputs": [],
   "source": [
    "def loss(y_pred, y_true):\n",
    "    return (y_pred - y_true)**2"
   ]
  },
  {
   "cell_type": "code",
   "execution_count": 15,
   "id": "0f2466bb-de16-43a8-ab92-f05ced3aec48",
   "metadata": {},
   "outputs": [
    {
     "data": {
      "text/plain": [
       "array([0.00720099])"
      ]
     },
     "execution_count": 15,
     "metadata": {},
     "output_type": "execute_result"
    }
   ],
   "source": [
    "pred = model.predict(X_test)\n",
    "loss_original = loss(pred, y_test)\n",
    "loss_original"
   ]
  },
  {
   "cell_type": "markdown",
   "id": "a292a8d7-2ae5-45ac-a0dd-504dc763c1e8",
   "metadata": {},
   "source": [
    "### LOO\n",
    "\n",
    "$$\n",
    "L(z_{test}, \\hat{\\theta}_{-z})\n",
    "- L(z_{test}, \\hat{\\theta})\n",
    "$$"
   ]
  },
  {
   "cell_type": "code",
   "execution_count": 16,
   "id": "b62caea2-bf96-41ec-93e7-0b78d2a85c32",
   "metadata": {},
   "outputs": [],
   "source": [
    "# LOO (params)\n",
    "\n",
    "diffs = np.array([])\n",
    "for i in range(n):\n",
    "    X_wo_z = np.concatenate((X[:i, ], X[(i+1):, ]), axis=0)\n",
    "    y_wo_z = np.concatenate((y[:i], y[(i+1):]), axis=0)\n",
    "    assert X_wo_z.shape[0] == n - 1\n",
    "    assert y_wo_z.shape[0] == n - 1\n",
    "    model_wo_z_i = LinearRegression().fit(X_wo_z, y_wo_z)\n",
    "    pred_loo = model_wo_z_i.predict(X_test)\n",
    "    loss_loo = loss(pred_loo, y_test)\n",
    "    diff_i = loss_loo - loss_original\n",
    "    diffs = np.append(diffs, diff_i)"
   ]
  },
  {
   "cell_type": "code",
   "execution_count": 17,
   "id": "1cfe578a-7d1b-48ae-b08d-7024f7f9afa9",
   "metadata": {},
   "outputs": [],
   "source": [
    "diffs_loo = diffs"
   ]
  },
  {
   "cell_type": "code",
   "execution_count": 18,
   "id": "3187e3ab-9642-426e-8d4c-8cc21369a519",
   "metadata": {},
   "outputs": [
    {
     "data": {
      "text/plain": [
       "array([[0.43758721, 0.891773  ],\n",
       "       [0.72525428, 0.50132438],\n",
       "       [0.97861834, 0.79915856],\n",
       "       [0.5759465 , 0.9292962 ],\n",
       "       [0.34535168, 0.92808129]])"
      ]
     },
     "execution_count": 18,
     "metadata": {},
     "output_type": "execute_result"
    }
   ],
   "source": [
    "idxs = np.argsort(diffs)[::-1]\n",
    "X[idxs][:5]"
   ]
  },
  {
   "cell_type": "markdown",
   "id": "d2576ae1-d96b-4710-9706-0643df7d9240",
   "metadata": {},
   "source": [
    "### Influence Function\n",
    "\n",
    "$$\n",
    "\\mathcal{I}_{up, loss}\n",
    "$$"
   ]
  },
  {
   "cell_type": "code",
   "execution_count": 19,
   "id": "37a08998-2f6d-4e70-9d4e-ec623400500d",
   "metadata": {},
   "outputs": [
    {
     "data": {
      "text/plain": [
       "array([[0.43758721, 0.891773  ],\n",
       "       [0.72525428, 0.50132438],\n",
       "       [0.97861834, 0.79915856],\n",
       "       [0.5759465 , 0.9292962 ],\n",
       "       [0.34535168, 0.92808129]])"
      ]
     },
     "execution_count": 19,
     "metadata": {},
     "output_type": "execute_result"
    }
   ],
   "source": [
    "# influence (params)\n",
    "\n",
    "diffs = np.array([])\n",
    "for i in range(n):\n",
    "    value = influence_loss(x=X[i], y=y[i], x_test=X_test[0], y_test=y_test, X=X, theta=theta_hat)\n",
    "    diff_i = - (1/n) * value\n",
    "    diffs = np.append(diffs, diff_i)\n",
    "\n",
    "diffs_if = diffs\n",
    "idxs = np.argsort(diffs)[::-1]\n",
    "X[idxs][:5]"
   ]
  },
  {
   "cell_type": "code",
   "execution_count": 20,
   "id": "3d017fba-d244-46ba-94de-7add9244feae",
   "metadata": {},
   "outputs": [
    {
     "data": {
      "image/png": "[encoded data removed]",
      "text/plain": [
       "<Figure size 400x400 with 1 Axes>"
      ]
     },
     "metadata": {},
     "output_type": "display_data"
    }
   ],
   "source": [
    "import matplotlib.pyplot as plt\n",
    "\n",
    "fig, ax = plt.subplots(figsize=[4,4])\n",
    "ax.scatter(diffs_if, diffs_loo)\n",
    "ax.set(title=r\"$L(z_{test}, \\hat{θ}_{-z}) - L(z_{test}, \\hat{θ})$ and $-\\frac{1}{n} \\mathcal{I}_{up,loss}(z, z_{test})$\",\n",
    "       xlabel=r\"Influence (loss) = $-\\frac{1}{n} \\mathcal{I}_{up,loss}(z, z_{test})$\",\n",
    "       ylabel=r\"LOO (loss) = $L(z_{test}, \\hat{θ}_{-z}) - L(z_{test}, \\hat{θ})$\")\n",
    "# ax.set(title=\"\", xlabel=\"Influence (loss)\", ylabel=\"LOO (loss)\")\n",
    "# ax.plot(diffs_if, diffs_if, color=\"gray\", alpha=0.5)\n",
    "ax.grid(True)\n",
    "fig.show()"
   ]
  },
  {
   "cell_type": "code",
   "execution_count": null,
   "id": "21e6e937-1723-4904-96ed-2bed2151115f",
   "metadata": {},
   "outputs": [],
   "source": []
  }
 ],
 "metadata": {
  "kernelspec": {
   "display_name": "Python 3 (ipykernel)",
   "language": "python",
   "name": "python3"
  },
  "language_info": {
   "codemirror_mode": {
    "name": "ipython",
    "version": 3
   },
   "file_extension": ".py",
   "mimetype": "text/x-python",
   "name": "python",
   "nbconvert_exporter": "python",
   "pygments_lexer": "ipython3",
   "version": "3.9.18"
  }
 },
 "nbformat": 4,
 "nbformat_minor": 5
}
