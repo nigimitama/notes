{
 "cells": [
  {
   "cell_type": "markdown",
   "id": "7b9c5486-9bde-4d73-b72d-2d25dafcbd30",
   "metadata": {},
   "source": [
    "# Model Class Reliance (MCR)"
   ]
  },
  {
   "cell_type": "markdown",
   "id": "f93b4a5c-7d54-4690-9ffa-417d472ef17e",
   "metadata": {},
   "source": [
    "[Fisher et al. (2019). All models are wrong, but many are useful: Learning a variable's importance by studying an entire class of prediction models simultaneously.](https://arxiv.org/pdf/1801.01489)"
   ]
  },
  {
   "cell_type": "markdown",
   "id": "0ff37610-f7f2-4ae8-a686-54c5ec6d5ae5",
   "metadata": {},
   "source": [
    "## 関連用語"
   ]
  },
  {
   "cell_type": "markdown",
   "id": "ca1de2fe-4e37-48e5-8481-25027d95d761",
   "metadata": {},
   "source": [
    "**羅生門効果（Rashomon effect）** ：「ひとつの事象に対する見解が互いに矛盾してしまう状況」"
   ]
  },
  {
   "cell_type": "markdown",
   "id": "b209591e-6447-46f0-ae64-8dd068820d77",
   "metadata": {},
   "source": [
    "**羅生門集合（Rashomon set）** ：最適な訓練精度とほとんど変わらない精度を達成する予測モデルの集合"
   ]
  },
  {
   "cell_type": "markdown",
   "id": "7bfbebfa-ebcd-43a2-a895-7ad3e787c8f5",
   "metadata": {},
   "source": [
    ":::{margin} 「羅生門」って生きるために仕方なく老婆から服を奪ったりする話じゃなかったっけ？\n",
    "\n",
    "映画「羅生門」は芥川龍之介の『藪の中』を主な原作とし、1つの殺人事件について食い違う証言をする複数人の証人の話。なので芥川龍之介の『羅生門』とは全然違う内容になっている。\n",
    "\n",
    ":::"
   ]
  },
  {
   "cell_type": "markdown",
   "id": "bf4b21ad-a598-4827-b43d-823676333045",
   "metadata": {},
   "source": [
    "## Model Class Reliance (MCR)\n",
    "\n",
    "羅生門集合を用いた、変数の重要度（variable importance: VI）の指標。"
   ]
  },
  {
   "cell_type": "markdown",
   "id": "37a11422-4fcb-4712-9630-880586c19f70",
   "metadata": {},
   "source": [
    "2つの特徴量$X_1, X_2$があるとする。$X_1$についての model reliance (MR) は観測値$(a),(b)$があるうちの$X_1$の観測値だけ入れ替えたものへの訓練誤差ともともとの訓練誤差の比率っぽい（permutation importanceみたいな？）\n",
    "\n",
    "$$\n",
    "M R(f) := \\frac{e_{\\text {switch }}(f)}{e_{\\text {orig }}(f)}\n",
    "= \\frac{\\mathbb{E} \\left[L \\left\\{f,\\left(Y^{(b)}, X_1^{(a)}, X_2^{(b)}\\right)\\right\\} \\right]}\n",
    "{\\mathbb{E} \\left[ L\\left\\{f,\\left(Y, X_1, X_2\\right)\\right\\} \\right]}\\\\\n",
    "= \\frac{ \\text{ Expected loss of} ~ f \\text{ under noise} } { \\text{ Expected loss of} ~ f \\text{ without noise } }\n",
    "$$"
   ]
  },
  {
   "cell_type": "markdown",
   "id": "d9ebbfa9-ddfe-4086-be2e-4d35cc2ad343",
   "metadata": {},
   "source": [
    "model class reliance (MCR) はそれらのRashomon set $\\mathcal{R}(\\epsilon)$ の中での最小値・最大値\n",
    "\n",
    "$$\n",
    "\\left[M C R_{-}(\\epsilon), M C R_{+}(\\epsilon)\\right]:=\\left[\\min _{f \\in \\mathcal{R}(\\epsilon)} M R(f), \\max _{f \\in \\mathcal{R}(\\epsilon)} M R(f)\\right]\n",
    "$$"
   ]
  },
  {
   "cell_type": "markdown",
   "id": "ce1d4d5d-a9aa-4bae-9abd-deae5907f8a5",
   "metadata": {},
   "source": [
    "## 参考\n",
    "\n",
    "- [All Models are Wrong, but Many are Useful: Learning a Variable's Importance by Studying an Entire Class of Prediction Models Simultaneously](https://www.jmlr.org/papers/v20/18-760.html)\n",
    "- [NeurIPS2022にて「決定木の羅生門集合構築技術」について発表します - fltech - 富士通研究所の技術ブログ](https://blog.fltech.dev/entry/2022/11/29/duke-neurips2022-paper-ja)"
   ]
  }
 ],
 "metadata": {
  "kernelspec": {
   "display_name": "Python 3 (ipykernel)",
   "language": "python",
   "name": "python3"
  },
  "language_info": {
   "codemirror_mode": {
    "name": "ipython",
    "version": 3
   },
   "file_extension": ".py",
   "mimetype": "text/x-python",
   "name": "python",
   "nbconvert_exporter": "python",
   "pygments_lexer": "ipython3",
   "version": "3.10.15"
  }
 },
 "nbformat": 4,
 "nbformat_minor": 5
}
