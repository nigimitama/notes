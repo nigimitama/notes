{
 "cells": [
  {
   "cell_type": "markdown",
   "id": "986f5c0b-346c-422d-88e5-c433a409e286",
   "metadata": {},
   "source": [
    "# 確率予測\n",
    "\n",
    "識別とは違って確率を正確に予測したい場合"
   ]
  },
  {
   "cell_type": "markdown",
   "id": "c3cf448f-3f5a-40bf-bfce-17b1b22ea92d",
   "metadata": {},
   "source": [
    "## Calibration\n",
    "\n",
    "[機械学習のカリブレーションとビジネスの関係 〜ローンのパーソナライゼーション | gihyo.jp](https://gihyo.jp/article/2023/03/machine-learning-calibration-and-business)"
   ]
  },
  {
   "cell_type": "markdown",
   "id": "24cd9bfd-13b3-462f-be10-a19a49b83296",
   "metadata": {},
   "source": [
    "## Calibration Plot\n",
    "\n",
    "[Probability Calibration curves — scikit-learn 1.3.0 documentation](https://scikit-learn.org/stable/auto_examples/calibration/plot_calibration_curve.html)"
   ]
  },
  {
   "cell_type": "code",
   "execution_count": null,
   "id": "348324a6-c0af-4ae5-8435-c76a786d363d",
   "metadata": {},
   "outputs": [],
   "source": []
  }
 ],
 "metadata": {
  "kernelspec": {
   "display_name": "Python 3 (ipykernel)",
   "language": "python",
   "name": "python3"
  },
  "language_info": {
   "codemirror_mode": {
    "name": "ipython",
    "version": 3
   },
   "file_extension": ".py",
   "mimetype": "text/x-python",
   "name": "python",
   "nbconvert_exporter": "python",
   "pygments_lexer": "ipython3",
   "version": "3.9.17"
  }
 },
 "nbformat": 4,
 "nbformat_minor": 5
}
