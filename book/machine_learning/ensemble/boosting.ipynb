{
 "cells": [
  {
   "cell_type": "markdown",
   "id": "9c42a716-f508-492c-9bdb-3ed1c41bf6e4",
   "metadata": {},
   "source": [
    "# ブースティング\n",
    "\n",
    "ブースティング（boosting）は[Kearns (1988)](https://www.cis.upenn.edu/~mkearns/papers/boostnote.pdf)の「（0.5よりわずかに正解率が高い程度の）弱い学習器を使って強い学習器を作ることはできるか？」という仮説（boosting hypothethis）から生まれた\n",
    "\n",
    "[Schapire (1990) The strength of weak learnability.](https://link.springer.com/content/pdf/10.1007/BF00116037.pdf)\n",
    "の提案は\n",
    "\n",
    "1. 分類器$h_1$を$N$個のサンプルで訓練する\n",
    "2. $h_1$で分類に失敗したサンプルと正しく分類できたサンプルを半々にした$N$個のサンプルで$h_2$を訓練する\n",
    "3. $h_1$と$h_2$で分類結果が一致しない$N$個で$h_3$を訓練する\n",
    "3. ブーストされた分類器$h_B$は$h_1, h_2, h_3$の分類結果の多数決で分類を行う\n"
   ]
  },
  {
   "cell_type": "markdown",
   "id": "d8c96b0e-b485-4484-9720-0bd881db6c20",
   "metadata": {},
   "source": [
    "## AdaBoost\n",
    "\n",
    "誤差に適応的に重みをかけてブースティングする。\n",
    "\n",
    "2000年代前半に大ヒットした\n",
    "\n",
    "後に誤差関数を指数誤差としたときの勾配ブースティングと同値であることが確認された"
   ]
  },
  {
   "cell_type": "markdown",
   "id": "cc1faef5-f8db-4b44-bfdf-ee03cff643ca",
   "metadata": {},
   "source": [
    "## 勾配ブースティング\n",
    "\n",
    "[Friedman, J. H. (2001). Greedy function approximation: a gradient boosting machine. Annals of statistics, 1189-1232.](https://www.jstor.org/stable/2699986)\n",
    "\n",
    "勾配が0なのが最適性の1次条件なので、勾配を説明して0に近づける\n",
    "\n",
    "\n"
   ]
  },
  {
   "cell_type": "markdown",
   "id": "618425d2-fb8c-4cbb-b8a4-6bfaa85ca2bb",
   "metadata": {},
   "source": [
    "## 加法モデルの観点からの説明\n",
    "\n",
    "複数の関数に重みをかけて足し合わせた関数\n",
    "\n",
    "$$\n",
    "\\newcommand{\\argmin}{\\mathop{\\rm arg~min}\\limits}\n",
    "f(x; \\boldsymbol{\\theta}) = f_0(x; \\theta_0) + \\beta_1 f_1(x; \\theta_1) + \\cdots + \\beta_M f_M(x; \\theta_M)\n",
    "$$\n",
    "\n",
    "の形で予測モデルを構築することを考える。ここで$\\boldsymbol{\\theta} = (\\theta_0, \\dots, \\theta_M)$は関数を形づくるパラメータ（例えば線形回帰の重み）である。\n",
    "\n",
    "このモデルは$\\boldsymbol{\\beta}, \\boldsymbol{\\theta}$の2つのパラメータベクトルを推定する必要がある。\n",
    "すべてのパラメータを一度に学習するのではなく、$\\beta_m f_m(x; \\theta_m)$を一つずつ学習していく方法で考える。全体としては次のように行う\n",
    "\n",
    "\n",
    "\n",
    ":::{note} Algorithm: Forward Stagewise Additive Modeling\n",
    "1. $f_0(x) = 0$で初期化\n",
    "2. $m = 1$から$M$までについて、\n",
    "    1. パラメータを推定する：\n",
    "        - $(\\beta_m, \\theta_m) = \\argmin_{\\beta, \\theta} \\sum^N_{i=1} L(y_i, f_{m-1}(x_i) + \\beta f(x_i; \\theta) )$\n",
    "    2. $f_m(x) = f_{m-1}(x) + \\beta_m f(x; \\theta_m)$\n",
    ":::\n",
    "\n",
    "誤差関数が二乗誤差$L(y, f(x)) = (y - f(x))^2$の場合、\n",
    "\n",
    "$$\n",
    "\\begin{align}\n",
    "L(y_i, f_{m-1}(x_i) + \\beta f(x_i; \\theta))\n",
    "&= (y_i - f_{m-1}(x_i) - \\beta f(x_i; \\theta))^2 \\\\\n",
    "&= (\\text{residual}_{im} - \\beta f(x_i; \\theta))^2\n",
    "\\end{align}\n",
    "$$\n",
    "\n",
    "となり、これは$m-1$回目のモデルの残差$y_i - f_{m-1}(x_i)$を近似するように$m$回目のモデルを学習させると捉えることができる\n",
    "\n",
    "[Friedman et al. (2000)](https://hastie.su.domains/Papers/AdditiveLogisticRegression/alr.pdf)はAdaboostが段階的加法モデルと等しいことを指摘した。\n"
   ]
  },
  {
   "cell_type": "markdown",
   "id": "c5dce0e4-f557-4af1-8ea0-59ab18b453d6",
   "metadata": {},
   "source": [
    "### 最急降下法からの説明\n",
    "\n",
    "最急降下法は最小化問題\n",
    "\n",
    "$$\n",
    "\\newcommand{\\b}[1]{\\boldsymbol{#1}}\n",
    "\\min_{\\b{x}} f(\\b{x})\n",
    "$$\n",
    "\n",
    "において、勾配\n",
    "\n",
    "$$\n",
    "\\nabla f(\\b{x}) =\n",
    "\\begin{pmatrix}\n",
    "\\frac{\\partial f(\\b{x})}{ \\partial x_1 }\\\\\n",
    "\\\\\n",
    "\\vdots\n",
    "\\\\\n",
    "\\frac{\\partial f(\\b{x})}{ \\partial x_n }\n",
    "\\end{pmatrix}\n",
    "$$\n",
    "\n",
    "を用いて\n",
    "\n",
    "$$\n",
    "\\b{x}_{t+1} = \\b{x}_t - \\alpha_t \\nabla f(\\b{x}_t)\n",
    "$$\n",
    "\n",
    "のような更新を反復して最適な$\\b{x}$を探索する方法である\n",
    "\n",
    "書き方を変えると、$t+1$回目の入力$\\b{x}_t+1$はそれまでの反復の和\n",
    "\n",
    "$$\n",
    "\\b{x}_{t+1} = \\b{x}_0 - \\alpha_1 \\nabla f(\\b{x}_1) - \\alpha_2 \\nabla f(\\b{x}_2) - \\cdots - \\alpha_t \\nabla f(\\b{x}_t)\n",
    "$$\n",
    "\n",
    "であり、負の勾配$-\\nabla f(\\b{x}_t)$を$\\alpha_t$で加重和していることがわかる。\n",
    "\n",
    "この負の勾配を再現して加重和を行うのが段階的加法モデルでありブースティングであり、勾配ブースティングである\n"
   ]
  }
 ],
 "metadata": {
  "kernelspec": {
   "display_name": "Python 3 (ipykernel)",
   "language": "python",
   "name": "python3"
  },
  "language_info": {
   "codemirror_mode": {
    "name": "ipython",
    "version": 3
   },
   "file_extension": ".py",
   "mimetype": "text/x-python",
   "name": "python",
   "nbconvert_exporter": "python",
   "pygments_lexer": "ipython3",
   "version": "3.9.17"
  }
 },
 "nbformat": 4,
 "nbformat_minor": 5
}
