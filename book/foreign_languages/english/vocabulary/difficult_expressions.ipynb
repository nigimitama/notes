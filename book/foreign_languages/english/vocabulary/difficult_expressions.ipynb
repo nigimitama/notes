{
 "cells": [
  {
   "cell_type": "markdown",
   "id": "2f57d236-b039-4316-b621-077ef1b47202",
   "metadata": {},
   "source": [
    "# 間違いやすい表現"
   ]
  },
  {
   "cell_type": "markdown",
   "id": "5397ca70-96dc-4031-8de0-28bdf337fa7c",
   "metadata": {},
   "source": [
    "## 和製英語\n",
    "\n",
    "### 🏢 ビジネス・職場\n",
    "\n",
    "| 和製英語     | 正しい英語表現                          | 解説                      |\n",
    "| -------- | -------------------------------- | ----------------------- |\n",
    "| サラリーマン   | office worker / company employee | “salaryman” は日本特有の表現。   |\n",
    "| OL（オーエル） | (female) office worker           | 英語では「OL」は意味不明。          |\n",
    "| クレーム     | complaint                        | 英語の “claim” は「要求」の意味。   |\n",
    "| サイン（書類）  | sign / signature                 | 契約時などは “signature” が自然。 |\n",
    "| アルバイト    | part-time job / student job      | 英語では「アルバイト」は使わない。       |\n",
    "\n",
    "\n",
    "### 🏠 住まい・建物\n",
    "\n",
    "| 和製英語      | 正しい英語表現                          | 解説                                      |\n",
    "| --------- | -------------------------------- | --------------------------------------- |\n",
    "| マンション     | apartment / condominium (condo)  | 英語の \"mansion\" は豪邸の意味。                   |\n",
    "| アパート      | apartment / flat                 | 日本の木造安アパートは \"small apartment\" などで補足が必要。 |\n",
    "| コンセント     | electrical outlet / power socket | “consent” と混同されやすい。                     |\n",
    "| フロント（ホテル） | reception / front desk           | “front” だけでは伝わりにくい。                     |\n",
    "| ガソリンスタンド  | gas station / petrol station     | “gasoline stand” は使わない。                 |\n",
    "\n",
    "\n",
    "### 💻 日用品・モノ\n",
    "\n",
    "| 和製英語     | 正しい英語表現           | 解説                            |\n",
    "| -------- | ----------------- | ----------------------------- |\n",
    "| シャープペンシル | mechanical pencil | \"sharp pencil\" は尖った鉛筆。        |\n",
    "| ドライヤー    | hair dryer        | “dryer” だけだと洗濯乾燥機と誤解される。      |\n",
    "| ファスナー    | zipper / zip      | “fastener” は留め具全般。衣類には使わない。   |\n",
    "| キーホルダー   | keychain          | “key holder” は人物や役職と誤解される。    |\n",
    "\n",
    "### 👗 ファッション・美容\n",
    "\n",
    "| 和製英語   | 正しい英語表現                   | 解説                               |\n",
    "| ------ | ------------------------- | -------------------------------- |\n",
    "| スキンヘッド | shaved head / bald head   | \"skinhead\" は政治的・文化的な文脈がある。       |\n",
    "| ワンピース  | dress / one-piece dress   | “one-piece” だけでは水着やアニメと誤解されることも。 |\n",
    "| ピアス    | earrings（耳） / piercing（体） | 名詞は “earrings”。“pierce” は動詞。     |\n",
    "\n",
    "### 🎢 生活・娯楽・その他\n",
    "\n",
    "| 和製英語      | 正しい英語表現                   | 解説                            |\n",
    "| --------- | ------------------------- | ----------------------------- |\n",
    "| サイン（有名人）  | autograph                 | “sign” や “signature” では意味が違う。 |\n",
    "| フライドポテト   | French fries（米）/ chips（英） | “fried potato” は不自然。          |\n",
    "| ジェットコースター | roller coaster            | “jet coaster” は和製英語。          |\n",
    "| ミスする      | make a mistake / mess up  | “miss” は意味がやや異なる。             |\n",
    "| テイクアウト | take-away / to go  | 例：Can I take-away?/Can I have it to go? |\n"
   ]
  },
  {
   "cell_type": "markdown",
   "id": "1867228e-1fc0-4296-8142-1a00559fe2ae",
   "metadata": {},
   "source": [
    "## 単語\n",
    "\n",
    "\n",
    "### 動詞としてのrequest\n",
    "\n",
    "**✅ 正しい使い方**\n",
    "\n",
    "\n",
    "- ✅ request + 名詞\n",
    "    - I requested more information.\n",
    "- ✅ request + that + 主語 + 動詞（原形）\n",
    "    - They requested that she be present.（仮定法のように原形を使う）\n",
    "\n",
    "\n",
    "**⚠️間違いやすいrequestの表現**\n",
    "\n",
    "| ❌ 間違い例                   | ✅ 正しい表現                                  | 解説                      |\n",
    "| ----------------------------- | --------------------------------------------- | ------------------------- |\n",
    "| I requested him to come.      | I requested **that he come**.                 | request someone to ~は通常しない表現なのでthat節になる |\n",
    "| Can I request you?            | Can I **ask you** / Can I **make a request**? | “request” はこの形では不自然。      |\n",
    "| I made a request to him come. | I made a request **that he come**.            | 動詞部分を “that節” にする必要あり。    |\n",
    "\n",
    "- The money will be requested from them 彼らに資金を要請する\n",
    "- （参考：[頼んだのに頼まれた?　日本人惑わすrequested from - 日本経済新聞](https://www.nikkei.com/article/DGXMZO46492950U9A620C1000000/)）\n"
   ]
  },
  {
   "cell_type": "code",
   "execution_count": null,
   "id": "6ef517b9-81b0-49b0-8369-8a69a47ec705",
   "metadata": {},
   "outputs": [],
   "source": []
  }
 ],
 "metadata": {
  "kernelspec": {
   "display_name": "Python 3 (ipykernel)",
   "language": "python",
   "name": "python3"
  },
  "language_info": {
   "codemirror_mode": {
    "name": "ipython",
    "version": 3
   },
   "file_extension": ".py",
   "mimetype": "text/x-python",
   "name": "python",
   "nbconvert_exporter": "python",
   "pygments_lexer": "ipython3",
   "version": "3.10.17"
  }
 },
 "nbformat": 4,
 "nbformat_minor": 5
}
