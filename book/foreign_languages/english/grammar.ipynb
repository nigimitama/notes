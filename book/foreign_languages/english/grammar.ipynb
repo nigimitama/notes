{
 "cells": [
  {
   "cell_type": "markdown",
   "id": "73c839a0-172b-43e7-b78b-83c484b7d8a0",
   "metadata": {},
   "source": [
    "# Grammar"
   ]
  },
  {
   "cell_type": "markdown",
   "id": "5ab5d783-9d89-4ada-9bf4-73a1e7ac979a",
   "metadata": {},
   "source": [
    "## 時制"
   ]
  },
  {
   "cell_type": "markdown",
   "id": "2feb414e-ad10-4de4-b6ff-dbdc13a84327",
   "metadata": {},
   "source": [
    "\n",
    "### 現在形\n",
    "\n",
    "習慣など現在・過去・未来すべてで起こることに使われる\n",
    "\n",
    "- 習慣：I go to school. / What do you do?（お仕事は何を？）\n",
    "- 不変の真理・ことわざ：The sun rises in the east. / Time flies（時間は飛ぶように過ぎ去る；光陰矢の如し）\n",
    "- 確定した未来：The train arrives at eight.\n"
   ]
  },
  {
   "cell_type": "markdown",
   "id": "a548eb6c-156b-4d55-bea1-a775f690fb4a",
   "metadata": {},
   "source": [
    "上記の説明からすると例外となるが、会話上の同意・感謝・謝罪などは今のことだが現在形を使う\n",
    "\n",
    "- I see. / I agree with you.\n",
    "- I admit ~ / I recommend ~\n",
    "- Thank you for ~\n",
    "- I apologize for ~\n",
    "\n",
    "また\n",
    "\n",
    "- 伝聞：I hear ~ / They say ~\n",
    "- 出身：I come from ~\n",
    "\n",
    "も現在形。\n",
    "\n",
    "新聞の見出しや実況でも現在形を使う"
   ]
  },
  {
   "cell_type": "markdown",
   "id": "274c44cf-580d-4ae4-b9ab-1630277d909d",
   "metadata": {},
   "source": [
    "### 過去形\n",
    "\n",
    "過去にそうだったが、**今はそうではない** ことに使われる\n",
    "\n",
    "- 1度きりの出来事：Someone snatched my bag, and I chased after him.\n",
    "- 過去の習慣（「（よく）～していた」）：I usually went to the cafe after work.\n",
    "- 過去の状態（「～だった」）：I had a crush on her when I was in high school.（※have a crush on ~：～に片思いしている）\n"
   ]
  },
  {
   "cell_type": "markdown",
   "id": "6f27d450-7998-48ad-b670-00eb49a9b457",
   "metadata": {},
   "source": [
    "## 話法\n",
    "\n",
    "**直接話法 (Direct Speech)** ： 発言者の言葉をそのまま引用符（\" \"）で囲んで表す方法。\n",
    "\n",
    "> He said to me, \"I will send you this package tomorrow.\"\n",
    "\n",
    "\n",
    "**間接話法 (Indirect Speech)** ： 発言者の言葉を話し手（伝える人）の言葉で言い換えて表現する方法。\n",
    "\n",
    "> He told me that he would send me that package the next day.\n"
   ]
  },
  {
   "cell_type": "code",
   "execution_count": null,
   "id": "730fae97-6041-4f29-9f01-b14527101cf7",
   "metadata": {},
   "outputs": [],
   "source": []
  }
 ],
 "metadata": {
  "kernelspec": {
   "display_name": "Python 3 (ipykernel)",
   "language": "python",
   "name": "python3"
  },
  "language_info": {
   "codemirror_mode": {
    "name": "ipython",
    "version": 3
   },
   "file_extension": ".py",
   "mimetype": "text/x-python",
   "name": "python",
   "nbconvert_exporter": "python",
   "pygments_lexer": "ipython3",
   "version": "3.10.18"
  }
 },
 "nbformat": 4,
 "nbformat_minor": 5
}
