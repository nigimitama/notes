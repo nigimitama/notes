{
 "cells": [
  {
   "cell_type": "markdown",
   "id": "7f1d49eb-9627-4dc1-a162-1c460adee592",
   "metadata": {},
   "source": [
    "# Double/Debiased Machine Learning\n",
    "\n",
    "- Paper: [Chernozhukov, V., Chetverikov, D., Demirer, M., Duflo, E., Hansen, C., Newey, W., & Robins, J. (2018). Double/debiased machine learning for treatment and structural parameters.](https://academic.oup.com/ectj/article/21/1/C1/5056401?login=false)\n",
    "- Python Package: [DoubleML](https://docs.doubleml.org/stable/index.html)"
   ]
  },
  {
   "cell_type": "markdown",
   "id": "d49b4121-c86b-4198-b9a5-ddfd0fe4cee6",
   "metadata": {},
   "source": [
    "## モーメント条件\n",
    "\n",
    "### OLS\n",
    "\n",
    "単回帰モデル$Y_i = \\alpha + \\beta X_i + u_i$のOLS推定量$\\beta$は\n",
    "\n",
    "$$\n",
    "\\DeclareMathOperator{\\cov}{\\text{Cov}}\n",
    "\\DeclareMathOperator{\\var}{\\text{Var}}\n",
    "\\DeclareMathOperator{\\plim}{\\text{plim}}\n",
    "\\beta = \\frac{\\cov(Y_i, X_i)}{\\var{X_i}}\\\\\n",
    "= \\frac{\\cov((\\alpha + \\beta X_i + u_i), u_i)}{\\var(X_i)}\n",
    "= \\beta + \\frac{\\cov(X_i, u_i)}{\\var(X_i)}\n",
    "$$\n"
   ]
  },
  {
   "cell_type": "markdown",
   "id": "ad72778c-a493-419c-b2a1-8ee7d5364e5a",
   "metadata": {},
   "source": [
    "## 部分線形モデル\n",
    "\n",
    "Partially Linear Model"
   ]
  },
  {
   "cell_type": "code",
   "execution_count": null,
   "id": "7344f7f1-b211-47de-918d-ff3d19b198b9",
   "metadata": {},
   "outputs": [],
   "source": []
  },
  {
   "cell_type": "markdown",
   "id": "9b6c768c-56e1-48ef-bb4a-e91bdfa48ec0",
   "metadata": {},
   "source": [
    "## 応用研究\n",
    "\n",
    "- CAのやつ"
   ]
  },
  {
   "cell_type": "markdown",
   "id": "d207765e-b350-440f-b8e5-51ed2675ea42",
   "metadata": {},
   "source": [
    "## 参考\n",
    "\n",
    "- 解説記事: [機械学習×計量経済学：Double/Debiased Machine Learning | Web日本評論](https://www.web-nippyo.jp/13331/)"
   ]
  },
  {
   "cell_type": "code",
   "execution_count": null,
   "id": "3365b9c1-090d-49ff-84f5-ceba4ec97f21",
   "metadata": {},
   "outputs": [],
   "source": []
  }
 ],
 "metadata": {
  "kernelspec": {
   "display_name": "Python 3 (ipykernel)",
   "language": "python",
   "name": "python3"
  },
  "language_info": {
   "codemirror_mode": {
    "name": "ipython",
    "version": 3
   },
   "file_extension": ".py",
   "mimetype": "text/x-python",
   "name": "python",
   "nbconvert_exporter": "python",
   "pygments_lexer": "ipython3",
   "version": "3.9.17"
  }
 },
 "nbformat": 4,
 "nbformat_minor": 5
}
