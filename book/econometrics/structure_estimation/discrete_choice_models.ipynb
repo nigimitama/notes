{
 "cells": [
  {
   "cell_type": "markdown",
   "id": "17b0424e-9fa5-4a46-915e-b915a7225b44",
   "metadata": {},
   "source": [
    "# 離散選択モデル\n",
    "\n",
    "## 概要\n",
    "\n",
    "- **離散選択問題**：意思決定者（例えば消費者や企業）が取りうる行動の選択肢の中から自身の目的関数（例えば効用や利潤）を最大化するような行動を選ぶという意思決定問題\n",
    "- 動学的な意思決定を考える場合は「今日この行動をとる」と「今日は見送る（明日以降に行動するという選択肢を残す）」の両者の利得の現在割引価値を比較することになる\n",
    "- ここでは、ある製品を購入するかどうかの例で考えていく。"
   ]
  },
  {
   "cell_type": "markdown",
   "id": "6cb25c86-0038-43a4-a9b5-e6a47c69e6ac",
   "metadata": {},
   "source": [
    "### 効用関数\n",
    "\n",
    "例えば消費者$i$が製品$j$を購入した場合の間接効用$U_{ij}$を以下のように与える。\n",
    "$$\n",
    "U_{ij} = \n",
    "\\begin{cases}\n",
    "\\beta^0 + \\sum_{k=1}^K \\beta^k x^k_j - \\alpha p_j + \\epsilon_{ij} & j = 1, ...,J\\\\\n",
    "\\epsilon_{ij} & j=0\n",
    "\\end{cases}\n",
    "$$\n",
    "パラメータ（$\\alpha, \\beta^0, ..., \\beta^k$)は消費者の価格や製品の属性への選好を捉える。\n",
    "\n",
    "$\\epsilon_{ij}$はその製品に対する個人特有の選好で、特定の確率分布に従う確率変数\n",
    "\n",
    "「購入しない」という選択肢は**アウトサイド・グッズ**と呼ばれ、$j=0$で表す。"
   ]
  },
  {
   "cell_type": "markdown",
   "id": "0d9b02f4-af77-4978-a05d-5ca0ce95c7d6",
   "metadata": {},
   "source": [
    "### 多項ロジットモデル\n",
    "\n",
    "$\\epsilon_{ij}$があるため消費者の選好は確率的になる。消費者$i$が製品$j$を購入する確率は以下のように書くことができる。\n",
    "$$\n",
    "Pr(d_i=j)\n",
    "= Pr(\n",
    "\\{\\epsilon_{ij}\\}^J_{j=0} \\ \\text{s.t. } U_{ij} > U_{il}, \\ \\forall \\ l \\neq j\n",
    ")\n",
    "$$\n",
    "logit modelでは$\\epsilon_{ij}$は独立かつ同一に分布しており、以下の**第１種極値分布**に従うと仮定する。\n",
    "$$\n",
    "P(\\epsilon_{ij}\\leq x)\n",
    "=F(x)\n",
    "=e^{-e^{-x}}\n",
    "$$\n",
    "この確率分布関数のもとで、消費者にとっての製品$j$の購入確率を以下のように書くことができる。\n",
    "$$\n",
    "Pr(d_i=j)\n",
    "= \\frac\n",
    "{\\exp( \\beta^0 + \\sum_{k=1}^K \\beta^k x^k_j - \\alpha p_j )}\n",
    "{1 + \\sum^J_{l=1} \\exp( \\beta^0 + \\sum_{k=1}^K \\beta^k x^k_l - \\alpha p_l )}\n",
    "$$\n",
    "このモデルは多項ロジットモデルと呼ばれる。exp関数の中は間接効用$U_{ij}$からショック項$\\epsilon_{ij}$を除いたもの。効用が高い選択肢ほど選ばれる確率が高くなる。\n"
   ]
  },
  {
   "cell_type": "markdown",
   "id": "6f379e9b-699b-4237-8ecc-c15dd9c7a134",
   "metadata": {},
   "source": [
    "### 最尤推定\n",
    "\n",
    "顕示選好（ある製品の選択肢のもとで、実際にどの選択肢が選ばれたか）の考え方を反映したものが、データを用いた最尤推定である。\n",
    "\n",
    "製品の価格や性能などのデータ$\\{p_j, x^1_j,...,x^K_j\\}^J_{j=1}$と、各消費者がどれを購入したかというデータ$\\{d_i\\}^N_{i=1}$が利用可能であるとする。このとき、多項ロジットモデルから尤度関数を以下のように書くことができる\n",
    "$$\n",
    "L(\\theta) \n",
    "= \\prod_{i=1}^N \\prod_{j=0}^J (Pr(d_i=j))^{1(d_i=j)}\n",
    "$$\n",
    "この尤度関数をパラメータ$\\theta=(\\alpha, \\beta^0, ..., \\beta^K)$について最大化することで消費者の効用関数内のパラメータを得ることができる。"
   ]
  },
  {
   "cell_type": "markdown",
   "id": "98f92751-b638-4c32-a1ad-ee1104ad47e4",
   "metadata": {},
   "source": [
    "### 反実仮想シミュレーション\n",
    "\n",
    "一度関数が推定できれば、例えば値下げ時の効用の変化は効用関数に代入する製品価格を下げればシミュレーションができ、売上高の予測もできる。\n",
    "\n",
    "### 期待効用\n",
    "\n",
    "多項ロジットモデルにおける期待効用は\n",
    "$$\n",
    "E_{\\{\\epsilon_{ij}\\}_j}\n",
    "[\\max_{j\\in \\{0,1,...,J\\}} U_{ij}]\n",
    "$$\n",
    "で、これは「選好へのショックが発生する前の時点で最も高い効用をエられるように選択した場合に得られる効用の期待値」となる。\n",
    "\n",
    "ロジットモデルでは期待効用は以下のように書くことができる。\n",
    "$$\n",
    "E_{\\{\\epsilon_{ij}\\}_j}\n",
    "[\\max_{j\\in \\{0,1,...,J\\}} U_{ij}]\n",
    "= \\log \\left(\n",
    "\\sum^J_{j=0}\n",
    "\\exp(V_{ij})\n",
    "\\right) + C\n",
    "$$\n",
    "ここで$V_{ij} = \\beta^0 + \\sum_{k=1}^K \\beta^k x^k_j - \\alpha p_j$である。この右辺の形は**ログ・サム公式**（log-sum formula）と呼ばれる。\n",
    "\n",
    "### ランダム効用モデル\n",
    "\n",
    "こうした確率的なショック項を入れた離散選択モデルはランダム効用モデルとも呼ばれる"
   ]
  },
  {
   "cell_type": "markdown",
   "id": "fab3fc92-46fc-4c66-8d51-10a96a2b7a92",
   "metadata": {},
   "source": [
    "\n",
    "\n",
    "## 文献\n",
    "\n",
    "* [Discrete Choice Methods with Simulation, by Kenneth Train, Cambridge University Press, 2002](https://eml.berkeley.edu/books/choice2.html)\n",
    "  * 離散選択モデルの参考に紹介されていたWeb資料\n",
    "\n",
    "- Nevo (2000), Appendix to “Practitioner’s Guide to Estimation of Random: Coefficients Logit Models of Demand”\n",
    "  - BLPの解説書として有名\n",
    "  - [web archive](https://web.archive.org/web/20171116012208/http://faculty.wcas.northwestern.edu/~ane686/supplements/Ras_guide_appendix.pdf)\n",
    "  - [A Practitioner's Guide to Estimation of Random-Coefficients Logit Models of Demand](http://rasmusen.org/zg601/readings/Nevo00.pdf)\n",
    "\n",
    "- [別所俊一郎（2009）「離散選択モデル」慶應義塾大学経済学部応用計量経済分析Ⅲの授業資料](http://web.econ.keio.ac.jp/staff/bessho/lecture/09/091021discrete.pdf)\n",
    "\n"
   ]
  },
  {
   "cell_type": "markdown",
   "id": "d7fca779-98a8-421f-a1f1-7017eb07fe38",
   "metadata": {},
   "source": [
    "#### 経済セミナー サポートサイト\n",
    "\n",
    "- [第1回](https://sites.google.com/view/keisemi-ebiz/%E7%AC%AC1%E5%9B%9E)\n",
    "- [第2回 需要を制する者はプライシングを制す 消費者需要モデルの推定［基礎編１］](https://sites.google.com/view/keisemi-ebiz/%E7%AC%AC2%E5%9B%9E)\n",
    "- [第3回 プライシングの真髄は代替性にあり 消費者需要モデルの推定［基礎編２］](https://sites.google.com/view/keisemi-ebiz/%E7%AC%AC3%E5%9B%9E)\n"
   ]
  },
  {
   "cell_type": "markdown",
   "id": "3bb02b8f-2e65-4405-a2e3-d80458cd30ca",
   "metadata": {},
   "source": [
    "## 直接効用と間接効用\n",
    "\n",
    "https://www.i-repository.net/contents/outemon/ir/102/102830312.pdf\n",
    "\n",
    "### 直接効用関数 $u(x)$\n",
    "\n",
    "数量と効用の関係を表す。\n",
    "\n",
    "### 間接効用関数 $v(p, m)$\n",
    "\n",
    "予算制約線の元での効用最大化問題を解いた後の、価格との関係性\n",
    "$$\n",
    "\\max_x u(x_1, \\cdots, x_j)\\\\\n",
    "\\text{s.t.} \\ p_1x_1 + \\cdots + p_jx_j\\\\\n",
    "$$\n",
    "から決定される需要関数\n",
    "$$\n",
    "x_i = D_i(p_1, \\cdots, p_j, m)\n",
    "$$\n",
    "を効用関数に代入すると\n",
    "$$\n",
    "u(x_1, \\cdots, x_j)\\\\\n",
    "=u[D_1(\\boldsymbol{p}, m), \\cdots, D_j(\\boldsymbol{p}, m)]\\\\\n",
    "=v(\\boldsymbol{p}, m)\n",
    "$$\n",
    "\n",
    "\n",
    "となる。これを間接効用関数と呼ぶ。"
   ]
  }
 ],
 "metadata": {
  "kernelspec": {
   "display_name": "Python 3 (ipykernel)",
   "language": "python",
   "name": "python3"
  },
  "language_info": {
   "codemirror_mode": {
    "name": "ipython",
    "version": 3
   },
   "file_extension": ".py",
   "mimetype": "text/x-python",
   "name": "python",
   "nbconvert_exporter": "python",
   "pygments_lexer": "ipython3",
   "version": "3.10.14"
  }
 },
 "nbformat": 4,
 "nbformat_minor": 5
}
