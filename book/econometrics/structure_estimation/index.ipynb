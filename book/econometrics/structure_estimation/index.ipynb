{
 "cells": [
  {
   "cell_type": "markdown",
   "id": "ba176e29-f2a9-4e2b-abe7-b70627f9301f",
   "metadata": {},
   "source": [
    "# 構造推定\n",
    "\n",
    ":::{tableofcontents}\n",
    ":::"
   ]
  },
  {
   "cell_type": "markdown",
   "id": "08de4db4-8548-4d08-8816-7decbdb9f611",
   "metadata": {},
   "source": [
    "## 離散選択モデル\n",
    "\n",
    "\n",
    "### Causal ML系\n",
    "\n",
    "[Donnelly, R., Ruiz, F. J., Blei, D., & Athey, S. (2021). Counterfactual inference for consumer choice across many product categories. Quantitative Marketing and Economics, 1-39.](https://arxiv.org/pdf/1906.02635)"
   ]
  },
  {
   "cell_type": "markdown",
   "id": "52c444f3-5a25-4328-b076-4ac75ac20acb",
   "metadata": {},
   "source": [
    "## リンク\n",
    "\n",
    "- 川口康平先生の講義資料（[C / TEACHING | home](https://www.kohei-kawaguchi.com/c-teaching)）\n",
    "    - [ECON5630 Topics in Empirical Industrial Organization](https://kohei-kawaguchi.github.io/EmpiricalIO)\n",
    "        - Repository: [kohei-kawaguchi/EmpiricalIO](https://github.com/kohei-kawaguchi/EmpiricalIO)\n"
   ]
  }
 ],
 "metadata": {
  "kernelspec": {
   "display_name": "Python 3 (ipykernel)",
   "language": "python",
   "name": "python3"
  },
  "language_info": {
   "codemirror_mode": {
    "name": "ipython",
    "version": 3
   },
   "file_extension": ".py",
   "mimetype": "text/x-python",
   "name": "python",
   "nbconvert_exporter": "python",
   "pygments_lexer": "ipython3",
   "version": "3.10.14"
  }
 },
 "nbformat": 4,
 "nbformat_minor": 5
}
