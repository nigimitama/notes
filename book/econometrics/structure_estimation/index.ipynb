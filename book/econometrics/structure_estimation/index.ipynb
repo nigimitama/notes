{
 "cells": [
  {
   "cell_type": "markdown",
   "id": "ba176e29-f2a9-4e2b-abe7-b70627f9301f",
   "metadata": {},
   "source": [
    "# 構造推定\n",
    "\n",
    ":::{tableofcontents}\n",
    ":::"
   ]
  },
  {
   "cell_type": "markdown",
   "id": "08de4db4-8548-4d08-8816-7decbdb9f611",
   "metadata": {},
   "source": [
    "## 離散選択モデル\n",
    "\n",
    "\n",
    "### Causal ML系\n",
    "\n",
    "[Donnelly, R., Ruiz, F. J., Blei, D., & Athey, S. (2021). Counterfactual inference for consumer choice across many product categories. Quantitative Marketing and Economics, 1-39.](https://arxiv.org/pdf/1906.02635)"
   ]
  }
 ],
 "metadata": {
  "kernelspec": {
   "display_name": "Python 3 (ipykernel)",
   "language": "python",
   "name": "python3"
  },
  "language_info": {
   "codemirror_mode": {
    "name": "ipython",
    "version": 3
   },
   "file_extension": ".py",
   "mimetype": "text/x-python",
   "name": "python",
   "nbconvert_exporter": "python",
   "pygments_lexer": "ipython3",
   "version": "3.10.14"
  }
 },
 "nbformat": 4,
 "nbformat_minor": 5
}
