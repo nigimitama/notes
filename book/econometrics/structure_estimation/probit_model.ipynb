{
 "cells": [
  {
   "cell_type": "markdown",
   "id": "c73833c9-72e0-49c2-be9e-0de2dbaa5a2f",
   "metadata": {},
   "source": [
    "# プロビットモデル"
   ]
  },
  {
   "cell_type": "markdown",
   "id": "a43f4f7d-ce35-41eb-b01b-ae18d8f102da",
   "metadata": {},
   "source": [
    "## 概要\n",
    "\n",
    "プロビットモデルは二値変数の従属変数$y_i\\in\\{0,1\\}$に対するモデルで、例えば「ある商品が購入される確率」のような問題で使われる。\n",
    "また、観測される従属変数 $y_i$ の背後には連続的な潜在変数 $y_i^*$ が存在すると仮定する。\n"
   ]
  },
  {
   "cell_type": "markdown",
   "id": "c10616d0-afba-4fd8-80a5-49ba0392ac9b",
   "metadata": {},
   "source": [
    "\n",
    ":::{card} ロジスティック回帰モデルとの違い\n",
    "\n",
    "ロジットモデル（ロジスティック回帰）よりも複雑で計算量は多いが、「無関係な選択肢からの独立性」という性質を満たす、ロジットモデルより妥当なモデルが構築できるのが強み。\n",
    "\n",
    "ロジットモデルは誤差項がロジスティック分布に従うと仮定するのに対し、プロビットモデルは標準正規分布を仮定する点が異なる。確率の増加パターンは類似するが、ロジスティック分布のほうが裾がやや厚い特性を持つ。\n",
    "\n",
    "プロビットモデルは、選択の発生確率を推定する際や、経済学・政治学・マーケティングなどにおける二値選択データ分析に広く用いられる。\n",
    "\n",
    ":::"
   ]
  },
  {
   "cell_type": "markdown",
   "id": "c588e98a-c8ca-4bba-98ac-6ca4798321e5",
   "metadata": {},
   "source": [
    "## プロビットモデル\n",
    "\n",
    "潜在変数モデルは以下のように表される。\n",
    "\n",
    "$$\n",
    "y_i^* = \\mathbf{x}_i^\\top \\beta + \\varepsilon_i\n",
    "$$\n",
    "\n",
    "ここで、$\\mathbf{x}_i$ は説明変数ベクトル、$\\beta$ はパラメータベクトル、$\\varepsilon_i$ は誤差項であり、平均 $0$、分散 $1$ の標準正規分布 $N(0,1)$ に従うと仮定する。\n",
    "\n",
    "観測される二値変数 $y_i$ は以下のように定義される。\n",
    "\n",
    "$$\n",
    "y_i =\n",
    "\\begin{cases}\n",
    "1 & \\text{if } y_i^* > 0 \\\\\n",
    "0 & \\text{otherwise}\n",
    "\\end{cases}\n",
    "$$\n"
   ]
  },
  {
   "cell_type": "markdown",
   "id": "87eebb31-d450-44ca-baff-033a739ef081",
   "metadata": {},
   "source": [
    "### 確率の表現\n",
    "\n",
    "誤差項が標準正規分布に従うため、$y_i = 1$ となる確率は標準正規分布の累積分布関数 $\\Phi(\\cdot)$ を用いて次のように表される。\n",
    "\n",
    "$$\n",
    "P(y_i = 1 \\mid \\mathbf{x}_i) = \\Phi(\\mathbf{x}_i^\\top \\beta)\n",
    "$$\n",
    "\n",
    "同様に、$y_i = 0$ となる確率は\n",
    "\n",
    "$$\n",
    "P(y_i = 0 \\mid \\mathbf{x}_i) = 1 - \\Phi(\\mathbf{x}_i^\\top \\beta)\n",
    "$$\n",
    "\n",
    "となる。\n",
    "\n",
    "### 推定方法\n",
    "\n",
    "パラメータ $\\beta$ は最尤法により推定される。尤度関数は以下のように表される。\n",
    "\n",
    "$$\n",
    "L(\\beta) = \\prod_{i=1}^n \\left[ \\Phi(\\mathbf{x}_i^\\top \\beta) \\right]^{y_i} \\left[ 1 - \\Phi(\\mathbf{x}_i^\\top \\beta) \\right]^{1 - y_i}\n",
    "$$\n",
    "\n",
    "対数尤度を最大化することにより推定値を得る。\n",
    "\n"
   ]
  },
  {
   "cell_type": "markdown",
   "id": "9e0fd260-cdbf-4bdb-86d9-6b31945e0a00",
   "metadata": {},
   "source": [
    "## 多項プロビットモデル\n",
    "\n",
    "多項プロビットモデル（Multinomial Probit Model）とは、選択肢が3つ以上あるカテゴリカルな従属変数を説明するための離散選択モデルである。二値選択を扱うプロビットモデルを拡張し、複数の選択肢に対応させたものである。\n",
    "\n",
    "### モデルの構造\n",
    "\n",
    "選択肢集合を $j = 1, 2, \\dots, J$ とする。個体 $i$ が選択肢 $j$ を選ぶときの**潜在効用** $U_{ij}$ を以下のように定義する。\n",
    "\n",
    "$$\n",
    "U_{ij} = \\mathbf{x}_{ij}^\\top \\beta_j + \\varepsilon_{ij}\n",
    "$$\n",
    "\n",
    "- $\\mathbf{x}_{ij}$ は個体 $i$ と選択肢 $j$ に関する説明変数ベクトルである。  \n",
    "- $\\beta_j$ は選択肢 $j$ に固有のパラメータベクトルである。  \n",
    "- $\\varepsilon_{ij}$ は誤差項であり、多変量正規分布に従うと仮定する。\n",
    "\n",
    "個体 $i$ が選択肢 $j$ を選ぶのは、その選択肢の効用が他のすべての選択肢よりも大きい場合である。\n",
    "\n",
    "$$\n",
    "y_i = j \\quad \\text{if} \\quad U_{ij} > U_{ik} \\quad \\forall k \\neq j\n",
    "$$\n",
    "\n",
    "### 分布の仮定\n",
    "\n",
    "誤差ベクトル\n",
    "\n",
    "$$\n",
    "\\boldsymbol{\\varepsilon}_i = (\\varepsilon_{i1}, \\varepsilon_{i2}, \\dots, \\varepsilon_{iJ})\n",
    "$$\n",
    "\n",
    "は平均ゼロ、分散共分散行列 $\\Sigma$ を持つ**多変量正規分布**に従うと仮定する。\n",
    "\n",
    "$$\n",
    "\\boldsymbol{\\varepsilon}_i \\sim N(\\mathbf{0}, \\Sigma)\n",
    "$$\n",
    "\n",
    "このとき、確率の計算には多変量正規分布の累積分布関数が必要となる。\n",
    "\n",
    "### 確率の表現\n",
    "\n",
    "個体 $i$ が選択肢 $j$ を選ぶ確率は次のように表される。\n",
    "\n",
    "$$\n",
    "P(y_i = j) = P\\left( U_{ij} > U_{ik} \\ \\forall k \\neq j \\right)\n",
    "$$\n",
    "\n",
    "誤差項の分布仮定に基づき、この確率は $(J-1)$ 次元の多変量正規分布の積分で表される。\n",
    "\n",
    "### 推定方法\n",
    "\n",
    "- **最大尤度法**を用いるが、確率計算に多次元積分が必要となるため、**シミュレーション最大尤度法（SML）**や**Gibbsサンプリング**などのMCMC法が用いられる。  \n",
    "- $J$ が増えると積分の次元が増加し、計算が急速に複雑になる。\n",
    "\n",
    "### ロジットモデルとの比較\n",
    "\n",
    "- 多項ロジットモデルは誤差項を型 I 極値分布に従うと仮定するため、**IIA（独立性の仮定）**が成立する。  \n",
    "- 多項プロビットモデルは誤差項に相関を持たせることができるため、IIA制約を緩和できる。  \n",
    "- その代わり、計算コストはロジットモデルより高い。\n",
    "\n",
    "### 用途\n",
    "\n",
    "多項プロビットモデルは、交通手段選択、消費者のブランド選択、政策選好分析など、選択肢間の相関を考慮する必要がある場面で広く利用される。\n"
   ]
  },
  {
   "cell_type": "code",
   "execution_count": null,
   "id": "a635868a-f69a-4f27-b816-029e2c25ea26",
   "metadata": {},
   "outputs": [],
   "source": []
  }
 ],
 "metadata": {
  "kernelspec": {
   "display_name": "Python 3 (ipykernel)",
   "language": "python",
   "name": "python3"
  },
  "language_info": {
   "codemirror_mode": {
    "name": "ipython",
    "version": 3
   },
   "file_extension": ".py",
   "mimetype": "text/x-python",
   "name": "python",
   "nbconvert_exporter": "python",
   "pygments_lexer": "ipython3",
   "version": "3.10.18"
  }
 },
 "nbformat": 4,
 "nbformat_minor": 5
}
