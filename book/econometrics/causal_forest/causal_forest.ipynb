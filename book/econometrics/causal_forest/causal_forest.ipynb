{
 "cells": [
  {
   "cell_type": "markdown",
   "id": "b0c6d2f0-8084-47ea-9031-4c9cb767de62",
   "metadata": {},
   "source": [
    "# Casual Tree"
   ]
  },
  {
   "cell_type": "markdown",
   "id": "f3390f92-ae65-4997-a468-c9c0c23d5dfd",
   "metadata": {},
   "source": [
    "Random Forestをカーネル重み付けとみなす視点に、Robinson (1988)の部分線形モデルを合わせたもの\n",
    "\n",
    "[一般化ランダムフォレストの理論と統計的因果推論への応用 - Speaker Deck](https://speakerdeck.com/tomoshige_n/ban-hua-randamuhuoresutonoli-lun-totong-ji-de-yin-guo-tui-lun-henoying-yong?slide=42)\n"
   ]
  },
  {
   "cell_type": "code",
   "execution_count": null,
   "id": "79085372-f66f-4f66-b388-ad653e7841b3",
   "metadata": {},
   "outputs": [],
   "source": []
  }
 ],
 "metadata": {
  "kernelspec": {
   "display_name": "Python 3 (ipykernel)",
   "language": "python",
   "name": "python3"
  },
  "language_info": {
   "codemirror_mode": {
    "name": "ipython",
    "version": 3
   },
   "file_extension": ".py",
   "mimetype": "text/x-python",
   "name": "python",
   "nbconvert_exporter": "python",
   "pygments_lexer": "ipython3",
   "version": "3.10.14"
  }
 },
 "nbformat": 4,
 "nbformat_minor": 5
}
