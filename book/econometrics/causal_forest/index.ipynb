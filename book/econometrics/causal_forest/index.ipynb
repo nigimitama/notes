{
 "cells": [
  {
   "cell_type": "markdown",
   "id": "eb319f5b-d534-4eb6-b147-412ac08ed2bd",
   "metadata": {},
   "source": [
    "# Causal Forest / GRF\n",
    "\n",
    ":::{tableofcontents}\n",
    ":::"
   ]
  },
  {
   "cell_type": "markdown",
   "id": "f5fe30de-8cab-4b64-9dbd-f1b7b90a42d9",
   "metadata": {},
   "source": [
    "### 参考\n",
    "\n",
    "- Susan Atheyらの講義資料：[Estimation of Heterogeneous Treatment Effects](https://gsbdbi.github.io/ml_tutorial/hte_tutorial/hte_tutorial.html)\n",
    "- [Wager, S., & Athey, S. (2015). Estimation and inference of heterogeneous treatment effects using random forests. arXiv preprint arXiv: 151004342.](https://arxiv.org/abs/1510.04342)\n",
    "  - 関連：[Wager, S. (2014). Asymptotic theory for random forests. arXiv preprint arXiv:1405.0352.](https://arxiv.org/abs/1405.0352)\n",
    "\n",
    "### 応用\n",
    "\n",
    "- [Athey, S., & Wager, S. (2019). Estimating treatment effects with causal forests: An application. Observational Studies, 5(2), 37-51.](https://arxiv.org/abs/1902.07409)\n",
    "- [Sverdrup, E., Petukhova, M., & Wager, S. (2024). Estimating Treatment Effect Heterogeneity in Psychiatry: A Review and Tutorial with Causal Forests.](https://arxiv.org/pdf/2409.01578)"
   ]
  }
 ],
 "metadata": {
  "kernelspec": {
   "display_name": "Python 3 (ipykernel)",
   "language": "python",
   "name": "python3"
  },
  "language_info": {
   "codemirror_mode": {
    "name": "ipython",
    "version": 3
   },
   "file_extension": ".py",
   "mimetype": "text/x-python",
   "name": "python",
   "nbconvert_exporter": "python",
   "pygments_lexer": "ipython3",
   "version": "3.10.14"
  }
 },
 "nbformat": 4,
 "nbformat_minor": 5
}
