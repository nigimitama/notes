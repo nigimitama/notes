{
 "cells": [
  {
   "cell_type": "markdown",
   "id": "c6571d6a-8107-4799-b9dc-8322c1c8cc50",
   "metadata": {},
   "source": [
    "# 概要"
   ]
  },
  {
   "cell_type": "markdown",
   "id": "7cdebae3-2e6d-4a83-a58e-4fcf66d4be96",
   "metadata": {},
   "source": [
    "**部分識別（partial identification）** あるいは **バウンド識別（bounds identification）** は計量経済学で用いられるアプローチのひとつ。\n",
    "\n",
    "ざっくりいうと、対象のパラメータについて\n",
    "\n",
    "- データのみから（仮定なしに）何が識別できるか？\n",
    "- 信頼できる弱い仮定を置いたとき、何が識別できるか？\n",
    "\n",
    "を考えていく、というもの。\n",
    "\n",
    "推定はバウンド（区間）で行う。\n"
   ]
  },
  {
   "cell_type": "markdown",
   "id": "83bafcbc-3d0d-4219-8304-ef1566056d5e",
   "metadata": {},
   "source": []
  },
  {
   "cell_type": "markdown",
   "id": "68090c74-b73d-4988-a913-0aff28cfc979",
   "metadata": {},
   "source": [
    "## 参考\n",
    "\n",
    "- 奥村綱雄. (2018). 部分識別入門: 計量経済学の革新的アプローチ.\n",
    "- [Okumura, T., & Usui, E. (2014). Concave‐monotone treatment response and monotone treatment selection: With an application to the returns to schooling. Quantitative Economics, 5(1), 175-194.](https://onlinelibrary.wiley.com/doi/pdf/10.3982/qe268)"
   ]
  }
 ],
 "metadata": {
  "kernelspec": {
   "display_name": "Python 3 (ipykernel)",
   "language": "python",
   "name": "python3"
  },
  "language_info": {
   "codemirror_mode": {
    "name": "ipython",
    "version": 3
   },
   "file_extension": ".py",
   "mimetype": "text/x-python",
   "name": "python",
   "nbconvert_exporter": "python",
   "pygments_lexer": "ipython3",
   "version": "3.10.18"
  }
 },
 "nbformat": 4,
 "nbformat_minor": 5
}
