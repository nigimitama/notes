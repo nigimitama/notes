{
 "cells": [
  {
   "cell_type": "markdown",
   "id": "a50d9b40-0e4c-4d4f-b069-533b59ec93ba",
   "metadata": {},
   "source": [
    "# CausalBART"
   ]
  },
  {
   "cell_type": "markdown",
   "id": "1cfeb66e-4320-4ec4-a81a-a6ebd5055212",
   "metadata": {},
   "source": [
    "## BART\n",
    "\n",
    "[[0806.3286] BART: Bayesian additive regression trees](https://arxiv.org/abs/0806.3286)\n",
    "\n",
    "回帰木を複数個作り、その総和で予測する加法モデル。\n",
    "\n",
    "MCMCでサンプリングをするため、事後分布を得られて信用区間が出せるのが強み。\n",
    "\n",
    "因果推論のためではなく予測のために作られた手法。"
   ]
  },
  {
   "cell_type": "markdown",
   "id": "2e5e0cd8-cd92-4772-8753-019b070b80d0",
   "metadata": {},
   "source": [
    "## CausalBART\n",
    "\n",
    "[[1706.09523] Bayesian regression tree models for causal inference: regularization, confounding, and heterogeneous effects](https://arxiv.org/abs/1706.09523)"
   ]
  },
  {
   "cell_type": "markdown",
   "id": "71138cfd-3c59-4ddc-b40a-612cdbe2e6c8",
   "metadata": {},
   "source": [
    "## CausalForestとの比較\n",
    "\n",
    "2016年の因果推論のコンペ（Atlantic Causal Inference Conference 2016）で、BARTの発展手法であるps-BARTがCausal Forestより良い結果を残している（Hahn, Murray, and Carvalho 2020）\n",
    "\n",
    "\n",
    ":::{admonition} Atlantic Causal Inference Conference 2016 について\n",
    "\n",
    "結果をまとめた論文：[[1707.02641] Automated versus do-it-yourself methods for causal inference: Lessons learned from a data analysis competition](https://arxiv.org/abs/1707.02641)\n",
    "\n",
    ":::"
   ]
  },
  {
   "cell_type": "markdown",
   "id": "66940ea3-2f1d-499f-9eb6-d4ecac27301b",
   "metadata": {},
   "source": [
    "## 参考\n",
    "\n",
    "- [BART: Bayesian additive regression treesによる因果推論 - 勉強の記録](https://tmitani-tky.hatenablog.com/entry/2019/11/14/014056)"
   ]
  }
 ],
 "metadata": {
  "kernelspec": {
   "display_name": "Python 3 (ipykernel)",
   "language": "python",
   "name": "python3"
  },
  "language_info": {
   "codemirror_mode": {
    "name": "ipython",
    "version": 3
   },
   "file_extension": ".py",
   "mimetype": "text/x-python",
   "name": "python",
   "nbconvert_exporter": "python",
   "pygments_lexer": "ipython3",
   "version": "3.12.3"
  }
 },
 "nbformat": 4,
 "nbformat_minor": 5
}
