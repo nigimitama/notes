{
 "cells": [
  {
   "cell_type": "markdown",
   "id": "0d11c8f0-ae0c-4189-a280-3af200916e48",
   "metadata": {},
   "source": [
    "# 実験デザイン\n"
   ]
  },
  {
   "cell_type": "markdown",
   "id": "829f6178-f0b6-4507-bce5-31e08f08b905",
   "metadata": {},
   "source": [
    "## Randomized Experiments (without interference)\n",
    "\n",
    "$N$個のunitsの有限の母集団（finite population）を考える（たとえば伝統的な設定だと、個人や企業や国など）。\n",
    "\n",
    "古典的なRCTでは、母集団の各ユニット$i$は2つの潜在的結果$Y_i(C), Y_i(T)$で特徴づけられる。\n",
    "ここで$Y_i(C)$は$i$が対照群のときの結果で$Y_i(T)$は$i$が処置群のときの結果。\n",
    "\n",
    "これらの潜在的結果はSTUVA条件のもとで、処置割当$W_i \\in \\{C, T\\}$のみに依存する。\n",
    "\n",
    "処置割当がランダムだとすると、平均因果効果$\\tau$は\n",
    "\n",
    "$$\n",
    "\\tau = \\frac{1}{N}\\sum^N_{i=1} \\big[ Y_i(T) - Y_i(C) \\big]\n",
    "= \\bar{Y}(T) - \\bar{Y}(C)\n",
    "$$\n",
    "\n",
    "ここで$\\bar{Y}(w) = \\sum^N_{i=1} Y_i(w) / N$、$w\\in\\{C, T\\}$\n",
    "\n",
    "$\\tau$は母集団の量であり、それぞれのユニットは処置群か対照群のいずれかに割り振られて両方を同時に観測することはできないため、$\\tau$は直接は観測できない。"
   ]
  },
  {
   "cell_type": "markdown",
   "id": "25f313c7-e416-4be0-9a4e-6da0bdb1d96a",
   "metadata": {},
   "source": [
    "SUTVAの下で、strictly positiveな（$> 0$の）ユニット数の処置群と対照群を仮定した下で、処置グループごとの平均アウトカムの差が$\\tau$の不偏推定量\n",
    "\n",
    "$$\n",
    "\\hat{\\tau} = \\bar{Y}_T - \\bar{T}_C\n",
    "$$\n",
    "\n",
    "となる。ここで$\\bar{Y}_w = \\sum^N_{i=1} 1\\{W_i = w\\} Y_i / N_w$、$N_w$は処置グループ$w \\in \\{C, T\\}$のユニット数。"
   ]
  },
  {
   "cell_type": "markdown",
   "id": "55bc282f-b823-475b-99fb-a40cf90b699c",
   "metadata": {},
   "source": [
    "### 標準誤差\n",
    "\n",
    "$\\hat{\\tau}$の分散は\n",
    "\n",
    "$$\n",
    "\\mathbb{V} = \\frac{S^2_C}{N_C} + \\frac{S^2_T}{N_T} - \\frac{S^2_{CT}}{N}\n",
    "$$\n",
    "\n",
    "となる。ここで\n",
    "\n",
    "$$\n",
    "S_w^2=\\frac{1}{N-1} \\sum_{i=1}^N\\left(Y_i(w)-\\bar{Y}(w)\\right)^2\\\\\n",
    "S_{C T}^2=\\frac{1}{N-1} \\sum_{i=1}^N\\left(Y_i(T)-Y_i(C)-\\tau\\right)^2\n",
    "$$"
   ]
  },
  {
   "cell_type": "markdown",
   "id": "43925277-9df2-4afd-a249-a89421d5097c",
   "metadata": {},
   "source": [
    "$\\hat{\\tau}$の分散の標準的な（しかし保守的な）推定量は\n",
    "\n",
    "$$\n",
    "\\hat{\\mathbb{V}} = \\frac{s^2_C}{N_C} + \\frac{s^2_T}{N_T}\n",
    "$$\n",
    "\n",
    "となる。ここで\n",
    "\n",
    "$$\n",
    "s_w^2=\\frac{1}{N_w-1} \\sum_{i: W_i=w}^N\\left( Y_i(w)-\\bar{Y}_w \\right)^2\n",
    "$$"
   ]
  },
  {
   "cell_type": "markdown",
   "id": "122aeb14-395d-459f-91d8-802882b8daa5",
   "metadata": {},
   "source": [
    "## interference\n",
    "\n",
    "標準的なRCTはno-interferenceの仮定あるいはSUTVAを仮定する。\n",
    "\n",
    "interference（干渉？）が存在する場合、あるユニットの処置割当$w_i$が他のユニットの処置割当の影響を受ける。\n",
    "\n",
    "一般に、潜在的結果は$N$次元ベクトル$\\boldsymbol{w}=[w_1,\\dots,w_N]^\\top$で決められるもの$Y_i(\\boldsymbol{w})$とする。\n",
    "\n",
    "観測できるのは1つの処置ベクトル$\\boldsymbol{w}$のみであるため、interferenceの範囲に何の制約も課さないと分析を行うことが困難になる。\n",
    "そのため潜在的結果に何らかの構造を課するあるいはモデルを仮定することで潜在的結果が割当ベクトルに完全に依存することを制限する。\n",
    "\n",
    "\n"
   ]
  },
  {
   "cell_type": "markdown",
   "id": "e9415198-64a7-4cd0-a783-7165a1664290",
   "metadata": {},
   "source": [
    "### interferenceの制約\n",
    "\n",
    "これまで考えられてきている制約は2種類のクラスに分けられる。\n",
    "\n",
    "1. ユニット$i$の潜在的結果$Y_i$が$\\boldsymbol{w}$の部分集合にのみ依存する\n",
    "    - 母集団の一部のユニットに割り当てられた処置のみがユニット$i$の結果に影響を与える\n",
    "    - Aronow & Samii（2017）が **exposure mappings** と呼ぶもの\n",
    "    - Ogburn & VanderWeele（2014）が **direct interference** と呼ぶもの\n",
    "    - 例：ランダムに選ばれた借り手に、借家が無料でキャンセルできる権利がオファーされる実験を考える。特定の街の借家が無料のキャンセル権とともに来ることが、同じ街の他の物件の賃貸に影響を与えるかもしれない。しかし他の街には影響を与えないと考えられる。\n",
    "    - 例：教育の場合でも、interferenceが同じクラスや同じ学校の学生の範囲に制限され、その範囲を超えないと仮定するのは合理的な事が多い\n",
    "2. ユニット$i$の結果に影響を与える他のすべてのユニットへの処置の可能性を許容する\n",
    "    - この設定のもとでは、interferenceは処置を通じてではなく結果を通じていくものと仮定される\n",
    "    - 例：処置がワクチンとする。もし個人$j$が自身の処置に影響を受ける場合、個人$i$の結果は異なる個人$j$の処置に依存する。\n",
    "        - 個人$j$の処置が個人$j$の感染状態に影響を与えない限り、個人$i$は個人$j$が処置を受けたかどうかは気にしない\n",
    "    - Ogburn & VanderWeele（2014）が **interference by contagion** と呼ぶもの\n",
    "    - このタイプのinterferenceは識別に追加の仮定を必要とする：例えばユニット$i$と$j$の距離を測れば、その距離はスピルオーバー効果の大きさを無視できると仮定するのに合理的なものかもしれない"
   ]
  },
  {
   "cell_type": "markdown",
   "id": "3a59ee58-2596-43ff-b57c-d9801c888d78",
   "metadata": {},
   "source": [
    "### Cluster Interference\n",
    "\n",
    "典型的なタイプのinterferenceで、direct interference（潜在的結果の依存が割当ベクトルの部分集合に制約される）の代表。\n",
    "\n",
    "この設定の下での重要な仮定は、ユニットの母集団が事前にクラスターに分割できるというもの。\n",
    "\n",
    "- この分割されたクラスターは、特定のクラスターのユニットの結果が同じクラスター内の他のユニットが受けた処置にのみ影響を受ける。\n",
    "- 言い換えれば、interferenceは各クラスター内なら制限がなく、異なるクラスタのユニット間にはinterferenceが起きないというもの。\n",
    "\n",
    "\n",
    "この状況の例：\n",
    "\n",
    "- 教育：ある生徒の結果が同じクラスの別の生徒の処置の影響を受ける\n",
    "- 労働市場：職業訓練プログラムのような介入が存在し、特定の個人の結果が同じ労働市場の他の個人の訓練状況に影響を受ける\n",
    "\n",
    "定式化：\n",
    "\n",
    "ユニット$i$が属するクラスター（block）を$B_i\\in \\{ 1, \\dots, B \\}$と表す。\n",
    "\n",
    "クラスターの干渉の仮定は、ユニット$i$と同じクラスターに属するすべてのユニット$j$について$w_j = w_j'$となるすべての$\\boldsymbol{w}$と$\\boldsymbol{w}'$について\n",
    "\n",
    "$$\n",
    "Y_i(\\boldsymbol{w}) = Y_i(\\boldsymbol{w}')\n",
    "$$\n",
    "\n"
   ]
  },
  {
   "cell_type": "markdown",
   "id": "61e62ebd-e676-4dcb-b0a9-f8062129459e",
   "metadata": {},
   "source": [
    "### Network Interference\n",
    "\n",
    "\n",
    "[Bajari et al. (2023). Experimental design in marketplaces. Statistical Science, 1(1), 1-19.](https://www.amazon.science/publications/experimental-design-in-marketplaces)\n"
   ]
  },
  {
   "cell_type": "markdown",
   "id": "da0876eb-2cea-47f8-aa09-bb81a710fcc7",
   "metadata": {},
   "source": [
    "## Multiple Randomization Designs (MRDs)\n",
    "\n",
    "処置がpairs of populations（例えば買い手と売り手、ドライバーと乗客、貸し手と貸与物）に割り当てられる状況を扱う\n",
    "\n",
    "- survey: [Bajari et al. (2023). Experimental design in marketplaces. Statistical Science, 1(1), 1-19.](https://www.amazon.science/publications/experimental-design-in-marketplaces)"
   ]
  },
  {
   "cell_type": "markdown",
   "id": "f4538b6a-83b8-452e-a11a-36d043c0c5e8",
   "metadata": {},
   "source": [
    "- [Masoero et al. (2023). Efficient switchback experiments via multiple randomization designs.](https://www.amazon.science/publications/efficient-switchback-experiments-via-multiple-randomization-designs)"
   ]
  }
 ],
 "metadata": {
  "kernelspec": {
   "display_name": "Python 3 (ipykernel)",
   "language": "python",
   "name": "python3"
  },
  "language_info": {
   "codemirror_mode": {
    "name": "ipython",
    "version": 3
   },
   "file_extension": ".py",
   "mimetype": "text/x-python",
   "name": "python",
   "nbconvert_exporter": "python",
   "pygments_lexer": "ipython3",
   "version": "3.9.18"
  }
 },
 "nbformat": 4,
 "nbformat_minor": 5
}
