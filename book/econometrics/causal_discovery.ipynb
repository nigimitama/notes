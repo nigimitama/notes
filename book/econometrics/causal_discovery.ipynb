{
 "cells": [
  {
   "cell_type": "markdown",
   "id": "9d327c36-d3e6-4ebe-af53-242c2fe06c8f",
   "metadata": {},
   "source": [
    "# 統計的因果探索\n",
    "\n",
    "因果グラフ（DAG）を用いて、selection on observableの仮定を置いて因果推論する場合、欠落変数バイアスが起きないように適切なDAGを設定する必要がある。\n",
    "\n",
    "通常、DAGはドメイン知識に基づいて作られるが、データにもとづいてDAGを推定しようとするのが因果探索（causal discovery）の分野。"
   ]
  },
  {
   "cell_type": "markdown",
   "id": "0b21d191-3f06-49a6-9805-33af9a9e76cc",
   "metadata": {},
   "source": [
    "## LiNGAM\n",
    "\n",
    "**LiNGAM（Linear Non-Gaussian Acyclic Model）** は因果探索の代表的な手法で、\n",
    "\n",
    "- 構造方程式モデル（線形モデル）で\n",
    "- 誤差項が非ガウスに従う\n",
    "- 非巡回（Acyclic）グラフを推定する\n",
    "\n",
    "といった前提をおく手法（[Shimizu et al., 2006](https://www.cs.helsinki.fi/group/neuroinf/lingam/JMLR06.pdf)）\n"
   ]
  },
  {
   "cell_type": "markdown",
   "id": "87f5e2e2-284e-40ba-ae18-1a7eb446c4db",
   "metadata": {},
   "source": [
    "### モデルの例\n",
    "\n",
    "モデルは構造方程式で記述される。まずOutcomeもTreatmentもCovariatesも全部$x_i$で表現する。\n",
    "\n",
    "outcomeを$x_3$とし、$x_1, x_2$をTreatmentとする。\n",
    "\n",
    "$$\n",
    "\\begin{aligned}\n",
    "& x_1= e_1 \\\\\n",
    "& x_2=b_{21} x_1 + e_2 \\\\\n",
    "& x_3=b_{31} x_1 + b_{32} x_2+ e_3\n",
    "\\end{aligned}\n",
    "$$\n",
    "\n",
    "この構造方程式モデルを行列表記にすると\n",
    "\n",
    "$$\n",
    "\\left(\\begin{array}{l}\n",
    "x_1 \\\\\n",
    "x_2 \\\\\n",
    "x_3\n",
    "\\end{array}\\right)=\\left(\\begin{array}{ccc}\n",
    "0 & 0 & 0 \\\\\n",
    "b_{21} & 0 & 0 \\\\\n",
    "b_{31} & b_{32} & 0\n",
    "\\end{array}\\right)\\left(\\begin{array}{l}\n",
    "x_1 \\\\\n",
    "x_2 \\\\\n",
    "x_3\n",
    "\\end{array}\\right)+\\left(\\begin{array}{l}\n",
    "e_1 \\\\\n",
    "e_2 \\\\\n",
    "e_3\n",
    "\\end{array}\\right)\n",
    "$$\n",
    "\n",
    "となる。係数行列を$B$とおき、それ以外もベクトルにすると\n",
    "\n",
    "$$\n",
    "\\boldsymbol{x}\n",
    "= B \\boldsymbol{x}\n",
    " + \\boldsymbol{e}\n",
    "$$\n",
    "\n",
    "となる。\n",
    "\n",
    "\n",
    "※非巡回の制約があるため、因果の流れの通りに（最上流を$x_1$、最下流を$x_3$に）変数を並べると係数行列$B$が下三角行列になる"
   ]
  },
  {
   "cell_type": "markdown",
   "id": "81fcd578-3b17-4d4c-9b38-88802dcaaa22",
   "metadata": {},
   "source": [
    "### 係数行列の推定\n",
    "\n",
    "#### モデルの変形\n",
    "\n",
    "$$\n",
    "\\boldsymbol{x}\n",
    "= B \\boldsymbol{x}\n",
    " + \\boldsymbol{e}\n",
    "$$\n",
    "\n",
    "を変形すると\n",
    "\n",
    "$$\n",
    "\\begin{align}\n",
    "\\boldsymbol{x} &= B \\boldsymbol{x}  + \\boldsymbol{e}\\\\\n",
    "\\boldsymbol{x} (I - B) &= \\boldsymbol{e}\\\\\n",
    "\\boldsymbol{x} &= (I - B)^{-1} \\boldsymbol{e}\\\\\n",
    "\\end{align}\n",
    "$$\n",
    "\n",
    "（ここで$I$は単位行列）\n",
    "\n",
    "$A := (I - B)^{-1}$とすると\n",
    "\n",
    "$$\n",
    "\\boldsymbol{x} = A \\boldsymbol{e}\n",
    "$$\n",
    "\n",
    "この$A$を求めれば良い。\n",
    "\n",
    "$A$の推定では独立成分分析を使用する。\n"
   ]
  },
  {
   "cell_type": "markdown",
   "id": "c82f858c-8b42-4ad6-a463-5550050003d2",
   "metadata": {},
   "source": [
    "#### 独立成分分析\n",
    "\n",
    "主成分分析はもとのデータを各変数の相関が0になるような新しい変数に変換する手法。\n",
    "\n",
    "ガウス分布に従うデータなら、主成分分析で変数間の関係が独立になる。\n",
    "\n",
    "非ガウス分布に従うデータだと相関は0になるが独立にはならない\n",
    "\n",
    "独立成分分析は主成分分析の結果$x_{pca}$に対して線形変換を施して新たな変数$x_{ica}$を作成する。\n",
    "\n",
    "$$\n",
    "x = A_{ica} x_{ica}\n",
    "$$\n",
    "\n",
    "という分解ができるため、LiNGAMではこれを使う。\n",
    "\n",
    "ただし、$B$が下三角行列なので、$A^{-1}$は対角成分が1で、対角成分より上側のすべての要素が0である必要があり、独立成分分析の後にそうした後処理が必要になる"
   ]
  },
  {
   "cell_type": "markdown",
   "id": "5129313a-b367-4324-84ed-80129c74e180",
   "metadata": {},
   "source": [
    "### LiNGAMの計算手順\n",
    "\n",
    "※ 小川(2020)と同じように実装したはずだが、一部符号が反転してて、あまりうまくいかなかった"
   ]
  },
  {
   "cell_type": "markdown",
   "id": "055c0897-41ba-49ee-8bad-37a63356f717",
   "metadata": {},
   "source": [
    "適当にデータを生成する\n",
    "\n",
    "$$\n",
    "\\begin{aligned}\n",
    "& x_1= e_1 \\\\\n",
    "& x_2= 3 x_1 + e_2 \\\\\n",
    "& x_3= 4 x_1 + 5 x_2+ e_3\n",
    "\\end{aligned}\n",
    "$$\n"
   ]
  },
  {
   "cell_type": "code",
   "execution_count": 114,
   "id": "2c044beb-d6a8-462a-adeb-19e676703581",
   "metadata": {},
   "outputs": [],
   "source": [
    "# 適当にデータを生成する\n",
    "import numpy as np\n",
    "import pandas as pd\n",
    "\n",
    "n = 1000\n",
    "np.random.seed(0)\n",
    "\n",
    "# 非ガウスの誤差\n",
    "e1 = np.random.uniform(size=n)\n",
    "e2 = np.random.uniform(size=n)\n",
    "e3 = np.random.uniform(size=n)\n",
    "\n",
    "# 各変数の生成\n",
    "x1 = e1\n",
    "x2 = 3*x1 + e2\n",
    "x3 = 4*x1 + 5*x2 + e3\n",
    "\n",
    "# DFにする\n",
    "df = pd.DataFrame({\"x1\": x1, \"x2\": x2, \"x3\": x3})"
   ]
  },
  {
   "cell_type": "markdown",
   "id": "553d1dcd-a7e6-44b5-a40c-4449ca977bb8",
   "metadata": {},
   "source": [
    "続いて、独立成分分析を行う"
   ]
  },
  {
   "cell_type": "code",
   "execution_count": 115,
   "id": "8f11d876-76ec-42f4-8cbf-53e0ee0e80fc",
   "metadata": {},
   "outputs": [
    {
     "data": {
      "text/plain": [
       "array([[ 13.8,  17.5,  -3.5],\n",
       "       [  2.9,  -0.7,   0.1],\n",
       "       [-10.1,   3.3,   0. ]])"
      ]
     },
     "execution_count": 115,
     "metadata": {},
     "output_type": "execute_result"
    }
   ],
   "source": [
    "from sklearn.decomposition import FastICA\n",
    "ica = FastICA(random_state=0, max_iter=10000).fit(df)\n",
    "\n",
    "# ICAで求めた行列A\n",
    "A_ica = ica.mixing_\n",
    "A_ica_inv = np.linalg.inv(A_ica)\n",
    "\n",
    "A_ica_inv.round(1)"
   ]
  },
  {
   "cell_type": "markdown",
   "id": "3e23b19e-9ae6-4e98-a69e-b695d4b84e04",
   "metadata": {},
   "source": [
    "続いて、$A_{ica}^{-1}$に対して\n",
    "\n",
    "1. 行の順番を変換\n",
    "2. 行の大きさを調整\n",
    "\n",
    "して対角成分が1で対角成分より上側の要素が全部0な行列になるようにする\n",
    "\n",
    "munkresパッケージのハンガリアンアルゴリズムという対角成分の和を最小にする問題を解く\n",
    "\n",
    ":::{margin}\n",
    "[munkres · PyPI](https://pypi.org/project/munkres/)\n",
    ":::"
   ]
  },
  {
   "cell_type": "code",
   "execution_count": 117,
   "id": "4c83571b-8c07-4d6c-bc48-4ef40d453b09",
   "metadata": {},
   "outputs": [
    {
     "data": {
      "text/plain": [
       "array([[ 1. , -0.2, -0. ],\n",
       "       [-3.5,  1. , -0. ],\n",
       "       [ 4.8,  5.3,  1. ]])"
      ]
     },
     "execution_count": 117,
     "metadata": {},
     "output_type": "execute_result"
    }
   ],
   "source": [
    "# 1. 行の順番を変換\n",
    "# 絶対値の逆数にして、対角成分の和を最小化する問題に置き換える\n",
    "A_ica_inv_small = 1 / np.abs(A_ica_inv)\n",
    "\n",
    "# 対角成分の和を最小にする行の入れ替えを行う\n",
    "from munkres import Munkres\n",
    "m = Munkres()\n",
    "ixs = np.vstack(m.compute(A_ica_inv_small))\n",
    "\n",
    "# 順番の入れ替え\n",
    "ixs = ixs[np.argsort(ixs[:, 0]), :]\n",
    "ixs_perm = ixs[:, 1]\n",
    "A_ica_inv_perm = np.zeros_like(A_ica_inv)\n",
    "A_ica_inv_perm[ixs_perm] = A_ica_inv\n",
    "\n",
    "# 2. 行の大きさを調整\n",
    "# 対角成分が1になるよう調整\n",
    "A_ica_inv_perm_adjusted = A_ica_inv_perm / np.diag(A_ica_inv_perm)\n",
    "\n",
    "A_ica_inv_perm_adjusted.round(1)"
   ]
  },
  {
   "cell_type": "markdown",
   "id": "78519ae8-ea56-4d08-a768-a9d9cd3e790d",
   "metadata": {},
   "source": [
    "$A^{-1} = I - B$なので$B= I - A^{-1}$として$B$を求める"
   ]
  },
  {
   "cell_type": "code",
   "execution_count": 93,
   "id": "35ac4306-01a7-46e5-8ab2-5f788e5453d0",
   "metadata": {},
   "outputs": [
    {
     "data": {
      "text/plain": [
       "array([[ 0. ,  0.2,  0. ],\n",
       "       [ 3.5,  0. ,  0. ],\n",
       "       [-4.8, -5.3,  0. ]])"
      ]
     },
     "execution_count": 93,
     "metadata": {},
     "output_type": "execute_result"
    }
   ],
   "source": [
    "I = np.eye(3)\n",
    "B = I - A_ica_inv_perm_adjusted\n",
    "\n",
    "B.round(1)"
   ]
  },
  {
   "cell_type": "markdown",
   "id": "44bdc2a2-0ecf-4d7e-92d7-fe01e79f2743",
   "metadata": {},
   "source": [
    "### lingamパッケージで実践\n",
    "\n",
    "Pythonだと[lingam](https://pypi.org/project/lingam/)パッケージがある"
   ]
  },
  {
   "cell_type": "markdown",
   "id": "56abf2ec-07d5-4e8b-9e82-f55900f5b819",
   "metadata": {},
   "source": [
    "Tutorial: [DirectLiNGAM — LiNGAM 1.8.2 documentation](https://lingam.readthedocs.io/en/latest/tutorial/lingam.html#directlingam)"
   ]
  },
  {
   "cell_type": "code",
   "execution_count": 118,
   "id": "bf00dcb0-0b9b-4c3f-bedb-46edde0f0c6b",
   "metadata": {},
   "outputs": [
    {
     "name": "stdout",
     "output_type": "stream",
     "text": [
      "[[0.  0.  0. ]\n",
      " [3.  0.  0. ]\n",
      " [3.9 5.  0. ]]\n"
     ]
    }
   ],
   "source": [
    "import lingam\n",
    "\n",
    "model = lingam.DirectLiNGAM()\n",
    "model.fit(df)\n",
    "\n",
    "# adjacency_matrix_ で推定した係数行列Bを見ることができる\n",
    "print(model.adjacency_matrix_.round(1))"
   ]
  },
  {
   "cell_type": "markdown",
   "id": "49c143c6-53ec-4c6e-ae16-ab0e9b938d02",
   "metadata": {},
   "source": [
    "## 参考文献\n",
    "\n",
    "- [Shimizu, S., Hoyer, P. O., Hyvärinen, A., Kerminen, A., & Jordan, M. (2006). A linear non-Gaussian acyclic model for causal discovery. Journal of Machine Learning Research, 7(10).](https://www.cs.helsinki.fi/group/neuroinf/lingam/JMLR06.pdf)\n",
    "- [LiNGAM for causal discovery](https://sites.google.com/view/sshimizu06/lingam)（清水ラボ）\n",
    "- [LiNGAMモデルの推定方法について #Python - Qiita](https://qiita.com/m__k/items/bd87c063a7496897ba7c#fastica)\n",
    "- 小川雄太郎. (2020). つくりながら学ぶ! Python による因果分析. マイナビ出版.\n",
    "- 清水昌平（2017）統計的因果探索\n",
    "- [LiNGAMによる因果探索（基本編） — ごちきか](https://gochikika.ntt.com/Modeling/causal_LiNGAM.html)\n",
    "    - NTTコミュニケーションズの教材。理論面含めて詳しい話がある"
   ]
  },
  {
   "cell_type": "code",
   "execution_count": null,
   "id": "34f1c4f2-6596-4836-9e08-93cbd6ece918",
   "metadata": {},
   "outputs": [],
   "source": []
  }
 ],
 "metadata": {
  "kernelspec": {
   "display_name": "Python 3 (ipykernel)",
   "language": "python",
   "name": "python3"
  },
  "language_info": {
   "codemirror_mode": {
    "name": "ipython",
    "version": 3
   },
   "file_extension": ".py",
   "mimetype": "text/x-python",
   "name": "python",
   "nbconvert_exporter": "python",
   "pygments_lexer": "ipython3",
   "version": "3.10.18"
  }
 },
 "nbformat": 4,
 "nbformat_minor": 5
}
