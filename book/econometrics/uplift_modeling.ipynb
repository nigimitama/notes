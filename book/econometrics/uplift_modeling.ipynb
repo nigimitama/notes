{
 "cells": [
  {
   "cell_type": "markdown",
   "id": "d56d6ccc-f79d-499e-99e4-a8b55eb67775",
   "metadata": {},
   "source": [
    "# Uplift Modeling"
   ]
  },
  {
   "cell_type": "markdown",
   "id": "95f384ae-ab1d-4fd1-89ba-c26d074c1fc1",
   "metadata": {},
   "source": [
    "やりたいこと：\n",
    "\n",
    "- 介入効果はユーザーの属性によって異なる。\n",
    "- 効果の高そうなユーザー（persuadables; 介入があれば素直に従ってコンバージョンしてくれる人）に介入したい"
   ]
  },
  {
   "cell_type": "markdown",
   "id": "acd10257-ab7f-42c4-98c3-8b5e8d5eeb5c",
   "metadata": {},
   "source": [
    "## Two-Model Approach\n",
    "\n",
    "最もシンプルな方法\n",
    "\n",
    "A/Bテストでデータを取得し、処置群と対照群それぞれに対してOutcome $Y$の予測モデル\n",
    "\n",
    "$$\n",
    "f_1(x) \\approx E[Y_1 | X = x]\\\\\n",
    "f_0(x) \\approx E[Y_0 | X = x]\\\\\n",
    "$$\n",
    "\n",
    "を作る\n",
    "\n",
    "この2つのモデルはMeta-Learnerアルゴリズムで利用する。\n",
    "\n",
    "シンプルにT-Learnerなら$\\tau(x) = f_1(x) - f_0(x)$でCATEを予測する"
   ]
  },
  {
   "cell_type": "markdown",
   "id": "9397d8bf-1032-4b81-a34c-cf48c12d6b20",
   "metadata": {},
   "source": [
    "## SDRM\n",
    "\n",
    "[Uplift Modelingによる介入効果の最適化を実現 | 東工大ニュース | 東京工業大学](https://www.titech.ac.jp/news/2019/044622)\n",
    "\n",
    "> A/Bテストが不要なUplift Modelingの手法としては、Transformed Outcomeが知られていますが、現実的な仮定の下ではこの手法が正しいLift効果を推定できないことを示し、その欠点を解消する新たな手法であるSDRM（Switch Doubly Robust Method）とSDR-MSE（Switch Doubly Robust - Mean Squared Error）（以下、SDR-UM）を提案しました。"
   ]
  },
  {
   "cell_type": "markdown",
   "id": "1eb77194-64d7-40f2-b37b-e19f04b2ae81",
   "metadata": {},
   "source": [
    "## 参考文献\n",
    "\n",
    "- [uplift modeling - Speaker Deck](https://speakerdeck.com/jeyjeyjeey/uplift-modeling)\n",
    "- [Python で Uplift modeling #Python - Qiita](https://qiita.com/0NE_shoT_/items/7b91474430c1f190c470)\n",
    "- [Create, train, and evaluate an uplift model - Microsoft Fabric | Microsoft Learn](https://learn.microsoft.com/en-us/fabric/data-science/uplift-modeling)\n",
    "- [顧客満足度を高め、マーケティング活動を効率化するためのUplift Modelingの適用 | mercari AI](https://ai.mercari.com/projects/uplift-modeling/)"
   ]
  },
  {
   "cell_type": "code",
   "execution_count": null,
   "id": "16b74e1a-1c05-486b-a0a7-55ad5049f0ae",
   "metadata": {},
   "outputs": [],
   "source": []
  }
 ],
 "metadata": {
  "kernelspec": {
   "display_name": "Python 3 (ipykernel)",
   "language": "python",
   "name": "python3"
  },
  "language_info": {
   "codemirror_mode": {
    "name": "ipython",
    "version": 3
   },
   "file_extension": ".py",
   "mimetype": "text/x-python",
   "name": "python",
   "nbconvert_exporter": "python",
   "pygments_lexer": "ipython3",
   "version": "3.10.15"
  }
 },
 "nbformat": 4,
 "nbformat_minor": 5
}
