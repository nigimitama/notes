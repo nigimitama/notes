{
 "cells": [
  {
   "cell_type": "markdown",
   "id": "c2710a88-b710-44c6-9c9c-55a9ecc6b9a1",
   "metadata": {},
   "source": [
    "# 都道府県ごとの集計データの扱い\n",
    "\n",
    "都道府県ごとの合計データを処置変数と結果変数に使う場合\n",
    "\n",
    "- 人口が交絡している\n",
    "- 係数の解釈のため、１人あたりの値にして標準化したい\n",
    "\n",
    "とい理由から、人口で割ったほうがいい\n"
   ]
  },
  {
   "cell_type": "markdown",
   "id": "b4ce8502-b640-4f17-8487-52bb16931d88",
   "metadata": {},
   "source": [
    "## 割ることが交絡のコントロールになる理由\n",
    "\n",
    "#### 欠落変数バイアス\n",
    "\n",
    "- long model: $y = \\alpha p + \\beta x + \\varepsilon$\n",
    "- short model: $y = \\beta x + \\varepsilon$\n",
    "\n",
    "$p$は$x$にも影響を与えているとする\n",
    "\n",
    "$p = \\gamma_0 + \\gamma_1 x + \\epsilon$とおいてlong modelに代入すると\n",
    "\n",
    "$$\n",
    "y = \\alpha (\\gamma_0 + \\gamma_1 x + \\epsilon) + \\beta x\\\\\n",
    "= \\alpha (\\gamma_0 + \\epsilon) + (\\alpha \\gamma_1 + \\beta) x\\\\\n",
    "$$\n",
    "\n",
    "#### 割ることがコントロールになるのはなぜか\n",
    "\n",
    "$$\n",
    "y = \\alpha p + \\beta x + \\varepsilon\n",
    "$$\n",
    "\n",
    "が\n",
    "\n",
    "$$\n",
    "\\frac{y}{p} = \\frac{\\alpha p + \\beta x + \\varepsilon}{p}\\\\\n",
    "= \\alpha + \\beta \\frac{x}{p} + \\frac{\\varepsilon}{p}\n",
    "$$\n"
   ]
  },
  {
   "cell_type": "markdown",
   "id": "73d83d75-8252-4f46-87f6-efd7b2863eb8",
   "metadata": {},
   "source": [
    "\n",
    "\n",
    "\n",
    "\n",
    "DGPを次のように仮定（$p$は人口）\n",
    "\n",
    "\n",
    "$$\n",
    "\\begin{align}\n",
    "x &= \\alpha_x p + x^*\\\\\n",
    "y &= \\alpha_y p + \\beta x\n",
    "\\end{align}\n",
    "$$\n",
    "\n",
    "$$\n",
    "y = \\alpha_y p + \\beta (\\alpha_x p + x^*)\\\\\n",
    "= \\alpha_y p + \\beta \\alpha_x p + \\beta x^*\n",
    "$$\n"
   ]
  },
  {
   "cell_type": "markdown",
   "id": "32f5d7a7-460e-4bb2-b847-55311eebee80",
   "metadata": {},
   "source": [
    "## 想定するデータ生成過程に依存する？\n",
    "\n",
    "### データ生成過程１\n",
    "\n",
    "$y$のデータ生成過程を次のように想定する。$y$は$x$だけでなく人口$p$からの影響も受けており、$x$の項には$\\beta x$だけだとする。\n",
    "$x\\to y$の効果$\\beta$を推定したいとする。\n",
    "\n",
    "$$\n",
    "y = \\alpha p + \\beta x\n",
    "$$\n",
    "\n",
    "$y$を$p$で割った変換後の変数は、データ生成過程から次のようになると考えられる\n",
    "\n",
    "$$\n",
    "\\frac{y}{p}= \\frac{ \\alpha p + \\beta x }{p} = \\alpha + \\beta \\frac{x}{p}\n",
    "$$\n",
    "\n",
    "この生成過程の下では、$\\beta$を推定するためには$\\dfrac{y}{p}$を$\\dfrac{x}{p}$に回帰させる必要がある\n",
    "\n",
    "### データ生成過程２\n",
    "\n",
    "$y$のデータ生成過程を次のように想定する。$x$の項には$\\beta x$だけでなく$p$も掛かっているとする。\n",
    "\n",
    "$$\n",
    "y = \\alpha p + \\beta x p \n",
    "$$\n",
    "\n",
    "$y$を$p$で割った変換後の変数は、データ生成過程から次のようになると考えられる\n",
    "\n",
    "$$\n",
    "\\frac{y}{p}= \\frac{ \\alpha p + \\beta x p}{p} = \\alpha + \\beta x\n",
    "$$\n",
    "\n",
    "この生成過程の下では、$\\beta$を推定するためには$\\dfrac{y}{p}$を$x$に回帰させる必要がある\n"
   ]
  },
  {
   "cell_type": "code",
   "execution_count": null,
   "id": "29e1a2a3-83c5-4801-b126-887f5c343749",
   "metadata": {},
   "outputs": [],
   "source": []
  },
  {
   "cell_type": "markdown",
   "id": "1b246ae1-454d-46b8-a2c6-bf3927ac47d8",
   "metadata": {},
   "source": [
    "## データ１：人口と相関するx,y"
   ]
  },
  {
   "cell_type": "markdown",
   "id": "ba618fbd-29c0-45ee-aa37-1517a7a75a7c",
   "metadata": {},
   "source": [
    "データ生成過程を次のように、$x, y$ともに人口$p$からの影響を受けると想定する。\n",
    "\n",
    "$$\n",
    "\\begin{align}\n",
    "x &= \\alpha_x p\\\\\n",
    "y &= \\alpha_y p + \\beta x\n",
    "\\end{align}\n",
    "$$\n",
    "\n",
    "$x\\to y$の効果である$\\beta$を推定したい\n",
    "\n",
    "\n",
    "yとxをpで割った変換後の変数は次のようになる\n",
    "\n",
    "$$\n",
    "\\frac{y}{p}= \\frac{\\alpha_y p + \\beta x}{p} = \\alpha_y + \\beta \\frac{x}{p}\n",
    "$$\n",
    "\n",
    "なので、$\\beta$を推定するためには$\\dfrac{y}{p}$を$\\dfrac{x}{p}$に回帰させる必要がある"
   ]
  },
  {
   "cell_type": "markdown",
   "id": "934dc7ee-db25-4fd5-8073-cf197ab22055",
   "metadata": {},
   "source": [
    "もし$\\dfrac{y}{p}$をそのままの$x$に回帰させると\n",
    "\n",
    "$$\n",
    "\\begin{align}\n",
    "\\frac{y}{p} &= \\alpha_y + \\beta (\\alpha_x p)\\\\\n",
    "  &= (\\alpha_y + \\beta \\alpha_x) p\\\\\n",
    "\\end{align}\n",
    "$$"
   ]
  },
  {
   "cell_type": "markdown",
   "id": "888bc7ff-2176-4bbd-a1b7-09f159592f75",
   "metadata": {},
   "source": [
    "もし$x$を$p$で割らずにそのまま回帰させると\n",
    "\n",
    "$$\n",
    "\\begin{align}\n",
    "y &= \\alpha_y p + \\beta (\\alpha_x p)\\\\\n",
    "  &= (\\alpha_y + \\beta \\alpha_x) p\\\\\n",
    "\\end{align}\n",
    "$$"
   ]
  },
  {
   "cell_type": "code",
   "execution_count": 60,
   "id": "72507b83-1e44-4b67-b4df-2b4c1b7e273a",
   "metadata": {},
   "outputs": [],
   "source": [
    "import numpy as np\n",
    "import pandas as pd\n",
    "\n",
    "np.random.seed(0)\n",
    "n = 1000\n",
    "populations = np.random.lognormal(mean=10, size=n).astype(int)\n",
    "alpha_x = 0.1\n",
    "alpha_y = 0.5\n",
    "beta = 0.1\n",
    "x = alpha_x * populations + np.random.normal(scale=1000, size=n)\n",
    "y = alpha_y * populations + beta * x + np.random.normal(scale=1000, size=n)  # xとyは微弱な相関"
   ]
  },
  {
   "cell_type": "code",
   "execution_count": 61,
   "id": "511612ec-b229-44ca-872f-b9147a26adfd",
   "metadata": {},
   "outputs": [
    {
     "data": {
      "text/html": [
       "<div>\n",
       "<style scoped>\n",
       "    .dataframe tbody tr th:only-of-type {\n",
       "        vertical-align: middle;\n",
       "    }\n",
       "\n",
       "    .dataframe tbody tr th {\n",
       "        vertical-align: top;\n",
       "    }\n",
       "\n",
       "    .dataframe thead th {\n",
       "        text-align: right;\n",
       "    }\n",
       "</style>\n",
       "<table border=\"1\" class=\"dataframe\">\n",
       "  <thead>\n",
       "    <tr style=\"text-align: right;\">\n",
       "      <th></th>\n",
       "      <th>y</th>\n",
       "      <th>x</th>\n",
       "      <th>population</th>\n",
       "      <th>ypp</th>\n",
       "      <th>xpp</th>\n",
       "    </tr>\n",
       "  </thead>\n",
       "  <tbody>\n",
       "    <tr>\n",
       "      <th>589</th>\n",
       "      <td>2549.340193</td>\n",
       "      <td>662.781881</td>\n",
       "      <td>1047</td>\n",
       "      <td>2.434900</td>\n",
       "      <td>0.633029</td>\n",
       "    </tr>\n",
       "    <tr>\n",
       "      <th>685</th>\n",
       "      <td>1382.162125</td>\n",
       "      <td>43.685046</td>\n",
       "      <td>1293</td>\n",
       "      <td>1.068958</td>\n",
       "      <td>0.033786</td>\n",
       "    </tr>\n",
       "    <tr>\n",
       "      <th>271</th>\n",
       "      <td>758.073247</td>\n",
       "      <td>1542.965439</td>\n",
       "      <td>1376</td>\n",
       "      <td>0.550925</td>\n",
       "      <td>1.121341</td>\n",
       "    </tr>\n",
       "    <tr>\n",
       "      <th>427</th>\n",
       "      <td>1615.118228</td>\n",
       "      <td>1120.767297</td>\n",
       "      <td>1422</td>\n",
       "      <td>1.135807</td>\n",
       "      <td>0.788163</td>\n",
       "    </tr>\n",
       "    <tr>\n",
       "      <th>334</th>\n",
       "      <td>970.870187</td>\n",
       "      <td>-458.525739</td>\n",
       "      <td>1541</td>\n",
       "      <td>0.630026</td>\n",
       "      <td>-0.297551</td>\n",
       "    </tr>\n",
       "    <tr>\n",
       "      <th>...</th>\n",
       "      <td>...</td>\n",
       "      <td>...</td>\n",
       "      <td>...</td>\n",
       "      <td>...</td>\n",
       "      <td>...</td>\n",
       "    </tr>\n",
       "    <tr>\n",
       "      <th>465</th>\n",
       "      <td>123228.375468</td>\n",
       "      <td>23928.854971</td>\n",
       "      <td>245844</td>\n",
       "      <td>0.501246</td>\n",
       "      <td>0.097333</td>\n",
       "    </tr>\n",
       "    <tr>\n",
       "      <th>734</th>\n",
       "      <td>136400.262268</td>\n",
       "      <td>26900.506639</td>\n",
       "      <td>267587</td>\n",
       "      <td>0.509742</td>\n",
       "      <td>0.100530</td>\n",
       "    </tr>\n",
       "    <tr>\n",
       "      <th>898</th>\n",
       "      <td>150004.237466</td>\n",
       "      <td>29789.613660</td>\n",
       "      <td>294909</td>\n",
       "      <td>0.508646</td>\n",
       "      <td>0.101013</td>\n",
       "    </tr>\n",
       "    <tr>\n",
       "      <th>494</th>\n",
       "      <td>166002.567127</td>\n",
       "      <td>30493.131436</td>\n",
       "      <td>326512</td>\n",
       "      <td>0.508412</td>\n",
       "      <td>0.093391</td>\n",
       "    </tr>\n",
       "    <tr>\n",
       "      <th>943</th>\n",
       "      <td>178173.778084</td>\n",
       "      <td>34421.420968</td>\n",
       "      <td>347790</td>\n",
       "      <td>0.512303</td>\n",
       "      <td>0.098972</td>\n",
       "    </tr>\n",
       "  </tbody>\n",
       "</table>\n",
       "<p>1000 rows × 5 columns</p>\n",
       "</div>"
      ],
      "text/plain": [
       "                 y             x  population       ypp       xpp\n",
       "589    2549.340193    662.781881        1047  2.434900  0.633029\n",
       "685    1382.162125     43.685046        1293  1.068958  0.033786\n",
       "271     758.073247   1542.965439        1376  0.550925  1.121341\n",
       "427    1615.118228   1120.767297        1422  1.135807  0.788163\n",
       "334     970.870187   -458.525739        1541  0.630026 -0.297551\n",
       "..             ...           ...         ...       ...       ...\n",
       "465  123228.375468  23928.854971      245844  0.501246  0.097333\n",
       "734  136400.262268  26900.506639      267587  0.509742  0.100530\n",
       "898  150004.237466  29789.613660      294909  0.508646  0.101013\n",
       "494  166002.567127  30493.131436      326512  0.508412  0.093391\n",
       "943  178173.778084  34421.420968      347790  0.512303  0.098972\n",
       "\n",
       "[1000 rows x 5 columns]"
      ]
     },
     "execution_count": 61,
     "metadata": {},
     "output_type": "execute_result"
    }
   ],
   "source": [
    "df = pd.DataFrame(dict(y=y, x=x, population=populations)).sort_values(\"population\").assign(\n",
    "    # 人口あたりのy, xを計算する\n",
    "    ypp = lambda self: self.y / self.population,\n",
    "    xpp = lambda self: self.x / self.population,\n",
    ")\n",
    "df"
   ]
  },
  {
   "cell_type": "markdown",
   "id": "db9417e3-1ad5-4c06-99f5-225c27fa1935",
   "metadata": {},
   "source": [
    "yppとxppの相関が弱いことから、\n",
    "xとyの相関はpopulationによる交絡の影響を受けていることがわかる"
   ]
  },
  {
   "cell_type": "code",
   "execution_count": 62,
   "id": "6c9811cf-bb0d-400c-bcce-1885b3aa574e",
   "metadata": {},
   "outputs": [
    {
     "data": {
      "text/plain": [
       "<AxesSubplot:xlabel='xpp', ylabel='ypp'>"
      ]
     },
     "execution_count": 62,
     "metadata": {},
     "output_type": "execute_result"
    },
    {
     "data": {
      "image/png": "[encoded data removed]",
      "text/plain": [
       "<Figure size 2000x300 with 4 Axes>"
      ]
     },
     "metadata": {},
     "output_type": "display_data"
    }
   ],
   "source": [
    "import matplotlib.pyplot as plt\n",
    "fix, axes = plt.subplots(ncols=4, figsize=[20, 3])\n",
    "df.plot.scatter(x=\"x\", y=\"y\", ax=axes[0])\n",
    "df.plot.scatter(x=\"population\", y=\"y\", ax=axes[1])\n",
    "df.plot.scatter(x=\"x\", y=\"ypp\", ax=axes[2])\n",
    "df.plot.scatter(x=\"xpp\", y=\"ypp\", ax=axes[3])"
   ]
  },
  {
   "cell_type": "markdown",
   "id": "fc57a369-6300-4108-ad80-a5a5929de218",
   "metadata": {},
   "source": [
    "しかし、可能なら`ypp ~ xpp`よりも`y ~ x + population`のほうが良い気がする"
   ]
  },
  {
   "cell_type": "code",
   "execution_count": 65,
   "id": "1c8e20f3-0a0f-473c-a09a-9d1f98433b82",
   "metadata": {},
   "outputs": [
    {
     "data": {
      "text/html": [
       "<table style=\"text-align:center\"><tr><td colspan=\"5\" style=\"border-bottom: 1px solid black\"></td></tr><tr><td style=\"text-align:left\"></td><tr><td style=\"text-align:left\"></td><td>(1)</td><td>(2)</td><td>(3)</td><td>(4)</td></tr><tr><td colspan=\"5\" style=\"border-bottom: 1px solid black\"></td></tr><tr><td style=\"text-align:left\">Intercept</td><td>780.561<sup>***</sup></td><td>8.424<sup></sup></td><td>0.507<sup>***</sup></td><td>0.495<sup>***</sup></td></tr><tr><td style=\"text-align:left\"></td><td>(196.804)</td><td>(39.255)</td><td>(0.005)</td><td>(0.005)</td></tr><tr><td style=\"text-align:left\">population</td><td></td><td>0.498<sup>***</sup></td><td></td><td></td></tr><tr><td style=\"text-align:left\"></td><td></td><td>(0.003)</td><td></td><td></td></tr><tr><td style=\"text-align:left\">x</td><td>4.838<sup>***</sup></td><td>0.098<sup>***</sup></td><td>0.000<sup></sup></td><td></td></tr><tr><td style=\"text-align:left\"></td><td>(0.036)</td><td>(0.031)</td><td>(0.000)</td><td></td></tr><tr><td style=\"text-align:left\">xpp</td><td></td><td></td><td></td><td>0.123<sup>***</sup></td></tr><tr><td style=\"text-align:left\"></td><td></td><td></td><td></td><td>(0.035)</td></tr><td colspan=\"5\" style=\"border-bottom: 1px solid black\"></td></tr><tr><td style=\"text-align: left\">Observations</td><td>1,000</td><td>1,000</td><td>1,000</td><td>1,000</td></tr><tr><td style=\"text-align: left\">R<sup>2</sup></td><td>0.947</td><td>0.998</td><td>0.000</td><td>0.012</td></tr><tr><td style=\"text-align: left\">Adjusted R<sup>2</sup></td><td>0.947</td><td>0.998</td><td>-0.001</td><td>0.011</td></tr><tr><td style=\"text-align: left\">Residual Std. Error</td><td>4815.392 (df=998)</td><td>952.868 (df=997)</td><td>0.124 (df=998)</td><td>0.123 (df=998)</td></tr><tr><td style=\"text-align: left\">F Statistic</td><td>17833.134<sup>***</sup> (df=1; 998)</td><td>239962.111<sup>***</sup> (df=2; 997)</td><td>0.210<sup></sup> (df=1; 998)</td><td>12.095<sup>***</sup> (df=1; 998)</td></tr><tr><td colspan=\"5\" style=\"border-bottom: 1px solid black\"></td></tr><tr><td style=\"text-align: left\">Note:</td>\n",
       " <td colspan=\"4\" style=\"text-align: right\">\n",
       "  <sup>*</sup>p&lt;0.1;\n",
       "  <sup>**</sup>p&lt;0.05;\n",
       "  <sup>***</sup>p&lt;0.01\n",
       " </td></tr></table>"
      ],
      "text/plain": [
       "<stargazer.stargazer.Stargazer at 0x7f7ca8880fa0>"
      ]
     },
     "execution_count": 65,
     "metadata": {},
     "output_type": "execute_result"
    }
   ],
   "source": [
    "import statsmodels.formula.api as smf\n",
    "from stargazer.stargazer import Stargazer\n",
    "\n",
    "Stargazer([\n",
    "    smf.ols(\"y ~ x\", data=df).fit(),\n",
    "    smf.ols(\"y ~ x + population\", data=df).fit(),\n",
    "    smf.ols(\"ypp ~ x\", data=df).fit(),\n",
    "    smf.ols(\"ypp ~ xpp\", data=df).fit(),\n",
    "])"
   ]
  },
  {
   "cell_type": "markdown",
   "id": "c2e5990c-93eb-4609-bab9-9b386d06cd76",
   "metadata": {},
   "source": [
    "## データ２：人口が部分的に影響する駅"
   ]
  },
  {
   "cell_type": "markdown",
   "id": "6fa4659f-8b6d-4803-b081-26ad24863f09",
   "metadata": {},
   "source": [
    "データ生成過程を次のように想定する。$p$は人口、$s$は面積\n",
    "\n",
    "$$\n",
    "\\begin{align}\n",
    "x &= \\alpha_x p + \\gamma s \\\\\n",
    "y &= \\alpha_y p + \\beta x\n",
    "\\end{align}\n",
    "$$\n",
    "\n",
    "$x\\to y$の効果である$\\beta$を推定したい\n",
    "\n",
    "yをpで割った変換後の変数は\n",
    "\n",
    "$$\n",
    "\\frac{y}{p} = \\alpha_y + \\beta \\frac{x}{p}\n",
    "$$\n",
    "\n",
    "となるので、$\\beta$を知りたいならやはり$\\frac{x}{p}$を説明変数としたほうがいい\n"
   ]
  },
  {
   "cell_type": "code",
   "execution_count": 92,
   "id": "53bb05db-6bb2-48af-a249-554d2bdfdd59",
   "metadata": {},
   "outputs": [],
   "source": [
    "import numpy as np\n",
    "import pandas as pd\n",
    "\n",
    "np.random.seed(0)\n",
    "n = 1000\n",
    "populations = np.random.lognormal(mean=10, size=n).astype(int)\n",
    "size = np.random.lognormal(mean=10, size=n).astype(int)\n",
    "beta = -1\n",
    "x = 0.5 * populations + 0.5 * size + np.random.normal(scale=1000, size=n)\n",
    "y = 0.25 * populations + beta * x + np.random.normal(scale=1000, size=n)  # xとyは微弱な相関"
   ]
  },
  {
   "cell_type": "code",
   "execution_count": 93,
   "id": "b8c9d68e-b64f-4e11-8347-3a1824084b72",
   "metadata": {},
   "outputs": [
    {
     "data": {
      "text/html": [
       "<div>\n",
       "<style scoped>\n",
       "    .dataframe tbody tr th:only-of-type {\n",
       "        vertical-align: middle;\n",
       "    }\n",
       "\n",
       "    .dataframe tbody tr th {\n",
       "        vertical-align: top;\n",
       "    }\n",
       "\n",
       "    .dataframe thead th {\n",
       "        text-align: right;\n",
       "    }\n",
       "</style>\n",
       "<table border=\"1\" class=\"dataframe\">\n",
       "  <thead>\n",
       "    <tr style=\"text-align: right;\">\n",
       "      <th></th>\n",
       "      <th>y</th>\n",
       "      <th>x</th>\n",
       "      <th>population</th>\n",
       "      <th>size</th>\n",
       "      <th>ypp</th>\n",
       "      <th>xpp</th>\n",
       "      <th>yps</th>\n",
       "      <th>xps</th>\n",
       "    </tr>\n",
       "  </thead>\n",
       "  <tbody>\n",
       "    <tr>\n",
       "      <th>589</th>\n",
       "      <td>-22259.518123</td>\n",
       "      <td>21726.562005</td>\n",
       "      <td>1047</td>\n",
       "      <td>38487</td>\n",
       "      <td>-21.260285</td>\n",
       "      <td>20.751253</td>\n",
       "      <td>-3.709920</td>\n",
       "      <td>3.103795</td>\n",
       "    </tr>\n",
       "    <tr>\n",
       "      <th>685</th>\n",
       "      <td>-12338.863722</td>\n",
       "      <td>11487.293621</td>\n",
       "      <td>1293</td>\n",
       "      <td>20219</td>\n",
       "      <td>-9.542818</td>\n",
       "      <td>8.884218</td>\n",
       "      <td>-2.056477</td>\n",
       "      <td>1.641042</td>\n",
       "    </tr>\n",
       "    <tr>\n",
       "      <th>271</th>\n",
       "      <td>-43709.248686</td>\n",
       "      <td>45504.776703</td>\n",
       "      <td>1376</td>\n",
       "      <td>89802</td>\n",
       "      <td>-31.765442</td>\n",
       "      <td>33.070332</td>\n",
       "      <td>-7.284875</td>\n",
       "      <td>6.500682</td>\n",
       "    </tr>\n",
       "    <tr>\n",
       "      <th>427</th>\n",
       "      <td>-31217.924818</td>\n",
       "      <td>30805.041498</td>\n",
       "      <td>1422</td>\n",
       "      <td>58604</td>\n",
       "      <td>-21.953534</td>\n",
       "      <td>21.663180</td>\n",
       "      <td>-5.202987</td>\n",
       "      <td>4.400720</td>\n",
       "    </tr>\n",
       "    <tr>\n",
       "      <th>334</th>\n",
       "      <td>-4475.946338</td>\n",
       "      <td>6984.722761</td>\n",
       "      <td>1541</td>\n",
       "      <td>11936</td>\n",
       "      <td>-2.904573</td>\n",
       "      <td>4.532591</td>\n",
       "      <td>-0.745991</td>\n",
       "      <td>0.997818</td>\n",
       "    </tr>\n",
       "    <tr>\n",
       "      <th>...</th>\n",
       "      <td>...</td>\n",
       "      <td>...</td>\n",
       "      <td>...</td>\n",
       "      <td>...</td>\n",
       "      <td>...</td>\n",
       "      <td>...</td>\n",
       "      <td>...</td>\n",
       "      <td>...</td>\n",
       "    </tr>\n",
       "    <tr>\n",
       "      <th>465</th>\n",
       "      <td>-65085.128773</td>\n",
       "      <td>126552.989971</td>\n",
       "      <td>245844</td>\n",
       "      <td>11435</td>\n",
       "      <td>-0.264742</td>\n",
       "      <td>0.514769</td>\n",
       "      <td>-10.847521</td>\n",
       "      <td>18.078999</td>\n",
       "    </tr>\n",
       "    <tr>\n",
       "      <th>734</th>\n",
       "      <td>-80569.609709</td>\n",
       "      <td>146401.211604</td>\n",
       "      <td>267587</td>\n",
       "      <td>25382</td>\n",
       "      <td>-0.301097</td>\n",
       "      <td>0.547116</td>\n",
       "      <td>-13.428268</td>\n",
       "      <td>20.914459</td>\n",
       "    </tr>\n",
       "    <tr>\n",
       "      <th>898</th>\n",
       "      <td>-87462.856618</td>\n",
       "      <td>161872.276100</td>\n",
       "      <td>294909</td>\n",
       "      <td>29694</td>\n",
       "      <td>-0.296576</td>\n",
       "      <td>0.548889</td>\n",
       "      <td>-14.577143</td>\n",
       "      <td>23.124611</td>\n",
       "    </tr>\n",
       "    <tr>\n",
       "      <th>494</th>\n",
       "      <td>-82865.501781</td>\n",
       "      <td>164225.753983</td>\n",
       "      <td>326512</td>\n",
       "      <td>2545</td>\n",
       "      <td>-0.253790</td>\n",
       "      <td>0.502970</td>\n",
       "      <td>-13.810917</td>\n",
       "      <td>23.460822</td>\n",
       "    </tr>\n",
       "    <tr>\n",
       "      <th>943</th>\n",
       "      <td>-95508.047223</td>\n",
       "      <td>182433.635987</td>\n",
       "      <td>347790</td>\n",
       "      <td>15404</td>\n",
       "      <td>-0.274614</td>\n",
       "      <td>0.524551</td>\n",
       "      <td>-15.918008</td>\n",
       "      <td>26.061948</td>\n",
       "    </tr>\n",
       "  </tbody>\n",
       "</table>\n",
       "<p>1000 rows × 8 columns</p>\n",
       "</div>"
      ],
      "text/plain": [
       "                y              x  population   size        ypp        xpp  \\\n",
       "589 -22259.518123   21726.562005        1047  38487 -21.260285  20.751253   \n",
       "685 -12338.863722   11487.293621        1293  20219  -9.542818   8.884218   \n",
       "271 -43709.248686   45504.776703        1376  89802 -31.765442  33.070332   \n",
       "427 -31217.924818   30805.041498        1422  58604 -21.953534  21.663180   \n",
       "334  -4475.946338    6984.722761        1541  11936  -2.904573   4.532591   \n",
       "..            ...            ...         ...    ...        ...        ...   \n",
       "465 -65085.128773  126552.989971      245844  11435  -0.264742   0.514769   \n",
       "734 -80569.609709  146401.211604      267587  25382  -0.301097   0.547116   \n",
       "898 -87462.856618  161872.276100      294909  29694  -0.296576   0.548889   \n",
       "494 -82865.501781  164225.753983      326512   2545  -0.253790   0.502970   \n",
       "943 -95508.047223  182433.635987      347790  15404  -0.274614   0.524551   \n",
       "\n",
       "           yps        xps  \n",
       "589  -3.709920   3.103795  \n",
       "685  -2.056477   1.641042  \n",
       "271  -7.284875   6.500682  \n",
       "427  -5.202987   4.400720  \n",
       "334  -0.745991   0.997818  \n",
       "..         ...        ...  \n",
       "465 -10.847521  18.078999  \n",
       "734 -13.428268  20.914459  \n",
       "898 -14.577143  23.124611  \n",
       "494 -13.810917  23.460822  \n",
       "943 -15.918008  26.061948  \n",
       "\n",
       "[1000 rows x 8 columns]"
      ]
     },
     "execution_count": 93,
     "metadata": {},
     "output_type": "execute_result"
    }
   ],
   "source": [
    "df = pd.DataFrame(dict(y=y, x=x, population=populations, size=size)).sort_values(\"population\").assign(\n",
    "    # 人口あたりのy, xを計算する\n",
    "    ypp = lambda self: self.y / self.population,\n",
    "    xpp = lambda self: self.x / self.population,\n",
    "    # 面積あたりのy, xを計算する\n",
    "    yps = lambda self: self.y / self.size,\n",
    "    xps = lambda self: self.x / self.size,\n",
    ")\n",
    "df"
   ]
  },
  {
   "cell_type": "code",
   "execution_count": 94,
   "id": "909647eb-c998-4268-9fdd-0d52f88b8b0e",
   "metadata": {},
   "outputs": [
    {
     "data": {
      "text/plain": [
       "<AxesSubplot:xlabel='xps', ylabel='yps'>"
      ]
     },
     "execution_count": 94,
     "metadata": {},
     "output_type": "execute_result"
    },
    {
     "data": {
      "image/png": "[encoded data removed]",
      "text/plain": [
       "<Figure size 1500x300 with 4 Axes>"
      ]
     },
     "metadata": {},
     "output_type": "display_data"
    }
   ],
   "source": [
    "import matplotlib.pyplot as plt\n",
    "fix, axes = plt.subplots(ncols=4, figsize=[15, 3])\n",
    "df.plot.scatter(x=\"x\", y=\"y\", ax=axes[0])\n",
    "df.plot.scatter(x=\"population\", y=\"y\", ax=axes[1])\n",
    "df.plot.scatter(x=\"xpp\", y=\"ypp\", ax=axes[2])\n",
    "df.plot.scatter(x=\"xps\", y=\"yps\", ax=axes[3])"
   ]
  },
  {
   "cell_type": "code",
   "execution_count": 95,
   "id": "d6dd2fa5-e996-4822-99f6-7640f930c2e5",
   "metadata": {},
   "outputs": [
    {
     "data": {
      "text/html": [
       "<table style=\"text-align:center\"><tr><td colspan=\"6\" style=\"border-bottom: 1px solid black\"></td></tr><tr><td style=\"text-align:left\"></td><tr><td style=\"text-align:left\"></td><td>(1)</td><td>(2)</td><td>(3)</td><td>(4)</td><td>(5)</td></tr><tr><td colspan=\"6\" style=\"border-bottom: 1px solid black\"></td></tr><tr><td style=\"text-align:left\">Intercept</td><td>248.937<sup></sup></td><td>-44.568<sup></sup></td><td>0.256<sup>***</sup></td><td>-0.856<sup>***</sup></td><td>0.041<sup></sup></td></tr><tr><td style=\"text-align:left\"></td><td>(371.740)</td><td>(49.805)</td><td>(0.005)</td><td>(0.135)</td><td>(0.062)</td></tr><tr><td style=\"text-align:left\">population</td><td></td><td>0.250<sup>***</sup></td><td></td><td></td><td></td></tr><tr><td style=\"text-align:left\"></td><td></td><td>(0.001)</td><td></td><td></td><td></td></tr><tr><td style=\"text-align:left\">x</td><td>-0.763<sup>***</sup></td><td>-1.000<sup>***</sup></td><td></td><td></td><td></td></tr><tr><td style=\"text-align:left\"></td><td>(0.008)</td><td>(0.001)</td><td></td><td></td><td></td></tr><tr><td style=\"text-align:left\">xpp</td><td></td><td></td><td>-1.005<sup>***</sup></td><td></td><td></td></tr><tr><td style=\"text-align:left\"></td><td></td><td></td><td>(0.002)</td><td></td><td></td></tr><tr><td style=\"text-align:left\">xps</td><td></td><td></td><td></td><td>-0.159<sup>***</sup></td><td>-0.890<sup>***</sup></td></tr><tr><td style=\"text-align:left\"></td><td></td><td></td><td></td><td>(0.021)</td><td>(0.009)</td></tr><td colspan=\"6\" style=\"border-bottom: 1px solid black\"></td></tr><tr><td style=\"text-align: left\">Observations</td><td>1,000</td><td>1,000</td><td>1,000</td><td>1,000</td><td>1,000</td></tr><tr><td style=\"text-align: left\">R<sup>2</sup></td><td>0.899</td><td>0.998</td><td>0.998</td><td>0.056</td><td>0.899</td></tr><tr><td style=\"text-align: left\">Adjusted R<sup>2</sup></td><td>0.898</td><td>0.998</td><td>0.998</td><td>0.055</td><td>0.898</td></tr><tr><td style=\"text-align: left\">Residual Std. Error</td><td>7593.848 (df=998)</td><td>1017.083 (df=997)</td><td>0.141 (df=998)</td><td>2.767 (df=998)</td><td>1.266 (df=998)</td></tr><tr><td style=\"text-align: left\">F Statistic</td><td>8843.578<sup>***</sup> (df=1; 998)</td><td>273814.210<sup>***</sup> (df=2; 997)</td><td>405079.870<sup>***</sup> (df=1; 998)</td><td>58.687<sup>***</sup> (df=1; 998)</td><td>8843.578<sup>***</sup> (df=1; 998)</td></tr><tr><td colspan=\"6\" style=\"border-bottom: 1px solid black\"></td></tr><tr><td style=\"text-align: left\">Note:</td>\n",
       " <td colspan=\"5\" style=\"text-align: right\">\n",
       "  <sup>*</sup>p&lt;0.1;\n",
       "  <sup>**</sup>p&lt;0.05;\n",
       "  <sup>***</sup>p&lt;0.01\n",
       " </td></tr></table>"
      ],
      "text/plain": [
       "<stargazer.stargazer.Stargazer at 0x7f7ca7cf9e20>"
      ]
     },
     "execution_count": 95,
     "metadata": {},
     "output_type": "execute_result"
    }
   ],
   "source": [
    "import statsmodels.formula.api as smf\n",
    "from stargazer.stargazer import Stargazer\n",
    "\n",
    "Stargazer([\n",
    "    smf.ols(\"y ~ x\", data=df).fit(),\n",
    "    smf.ols(\"y ~ x + population\", data=df).fit(),\n",
    "    smf.ols(\"ypp ~ xpp\", data=df).fit(),\n",
    "    smf.ols(\"ypp ~ xps\", data=df).fit(),\n",
    "    smf.ols(\"yps ~ xps\", data=df).fit(),\n",
    "])"
   ]
  },
  {
   "cell_type": "code",
   "execution_count": null,
   "id": "044b9b02-cec9-4696-96a3-58b0f96bb8c3",
   "metadata": {},
   "outputs": [],
   "source": []
  },
  {
   "cell_type": "code",
   "execution_count": null,
   "id": "2564e364-5495-423e-8b82-76b40485d5f5",
   "metadata": {},
   "outputs": [],
   "source": []
  }
 ],
 "metadata": {
  "kernelspec": {
   "display_name": "Python 3 (ipykernel)",
   "language": "python",
   "name": "python3"
  },
  "language_info": {
   "codemirror_mode": {
    "name": "ipython",
    "version": 3
   },
   "file_extension": ".py",
   "mimetype": "text/x-python",
   "name": "python",
   "nbconvert_exporter": "python",
   "pygments_lexer": "ipython3",
   "version": "3.9.17"
  }
 },
 "nbformat": 4,
 "nbformat_minor": 5
}
