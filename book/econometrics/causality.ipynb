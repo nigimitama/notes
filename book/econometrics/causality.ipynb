{
 "cells": [
  {
   "cell_type": "markdown",
   "id": "fab33743-c276-4ef5-99a7-687fda8bd0c5",
   "metadata": {
    "tags": []
   },
   "source": [
    "# 因果の定義について\n",
    "\n",
    "統計学以外の考え方も含め、因果とはどういうものと考えられているのかまとめる\n",
    "\n",
    "TODO: [Holland 1986](https://www.cps.fgv.br/cps/bd/curso/17_Statistics_and_Causal_Inference_Holland.pdf)を参考に過去の因果についての考察を要約する"
   ]
  },
  {
   "cell_type": "markdown",
   "id": "556cb204-c1ed-486d-8d57-68f3cb892e65",
   "metadata": {},
   "source": [
    "### デイヴィッド・ヒューム（David Hume）\n",
    "\n",
    "\n",
    "\n"
   ]
  },
  {
   "cell_type": "code",
   "execution_count": null,
   "id": "3b2eaa3d-7776-4c48-8647-1690df6a5672",
   "metadata": {},
   "outputs": [],
   "source": []
  }
 ],
 "metadata": {
  "kernelspec": {
   "display_name": "Python 3 (ipykernel)",
   "language": "python",
   "name": "python3"
  },
  "language_info": {
   "codemirror_mode": {
    "name": "ipython",
    "version": 3
   },
   "file_extension": ".py",
   "mimetype": "text/x-python",
   "name": "python",
   "nbconvert_exporter": "python",
   "pygments_lexer": "ipython3",
   "version": "3.10.13"
  }
 },
 "nbformat": 4,
 "nbformat_minor": 5
}
