{
 "cells": [
  {
   "cell_type": "markdown",
   "id": "fab33743-c276-4ef5-99a7-687fda8bd0c5",
   "metadata": {
    "tags": []
   },
   "source": [
    "# 因果の定義について\n",
    "\n",
    "統計学以外の考え方も含め、因果とはどういうものと考えられているのかまとめる\n"
   ]
  },
  {
   "cell_type": "markdown",
   "id": "556cb204-c1ed-486d-8d57-68f3cb892e65",
   "metadata": {},
   "source": [
    "## デイヴィッド・ヒューム（David Hume）\n",
    "\n",
    "ヒュームは、因果関係は事実間の関係ではなく、経験間の関係であると強調していた\n",
    "\n",
    "### 3つの規準\n",
    "\n",
    "Humeの分析は、因果についての3つの基本的な規準を認識した\n",
    "\n",
    "#### 1. 空間的・時間的な近接（spatial/temporal contiguity）\n",
    "\n",
    "> A and B are contiguous in space and time\n",
    "\n",
    "「AがBを引き起こした」というとき、AとBは空間的・時間的に接近している\n",
    "\n",
    "\n",
    "#### 2. 時間的先行（temporal succession）\n",
    "\n",
    "> A precedes B in time\n",
    "\n",
    "「AがBを引き起こした」というとき、AはBより先に存在している\n",
    "\n",
    "\n",
    "#### 3. 恒常的連接（constant conjunction）\n",
    "\n",
    "> A and B always occur (or do not occur) together.\n",
    "\n",
    "「AがBを引き起こした」というとき、AとBはいつも一緒に生じている\n"
   ]
  },
  {
   "cell_type": "markdown",
   "id": "0e060a57-255a-4c79-be49-fdceda142752",
   "metadata": {},
   "source": [
    "### Rubinのモデルとのつながり（Holland 1986）\n",
    "\n",
    "Rubinのモデル的には、1,2は満たされる\n",
    "\n",
    "1. 空間的・時間的な近接性 → 原因と効果が共通の実体・単位で扱われるモデルを使うので\n",
    "2. 時間的先行 → 応答変数（被説明変数）により\n",
    "3. 恒常的連接 → 必ずしも満たされるとは限らない。\n",
    "    - 測定誤差：$A'$を$A$と取り違えて$A$ and not $B$に見えるケース\n",
    "    - モデルの構造：因果効果が一定でなく、$x$によって変化する関数$\\tau(x)$と考えるケース\n",
    "        - 因果効果を一定と仮定したモデルなら恒常的連接を満たす"
   ]
  },
  {
   "cell_type": "markdown",
   "id": "943e7df7-03c5-4fd8-b767-2fbde0ce5b74",
   "metadata": {},
   "source": [
    "## John Stuart Mill\n",
    "\n",
    "Millは1843年の著書『論理学体系（A System of Logic）』で実験的調査（experimental iquiry）の方法を明文化した\n",
    "\n",
    "[ミルの方法 - Wikipedia](https://ja.wikipedia.org/wiki/%E3%83%9F%E3%83%AB%E3%81%AE%E6%96%B9%E6%B3%95)\n",
    "\n",
    "\n",
    "### 共変法（method of concomitant variation）\n",
    "\n",
    ">  Whatever phenomenon varies in any manner, whenever another phenomenon varies in some particular manner, is either a cause or an effect of that phenomenon, or is connected with it through some fact of causation. (p. 464)\n",
    ">\n",
    "> どのような現象であれ、他の現象がある特定の方法で変化するときはいつでも、その現象の原因か結果であるか、あるいは何らかの因果関係によってその現象と結びついている。\n",
    "\n",
    "→ 「関連（相関）があるなら因果関係がある」という、関連と因果を区別しない考え\n",
    "\n",
    "\n",
    "### 差異法（method of difference）\n",
    "\n",
    ">  If an instance in which the phenomenon under investigation occurs, and an instance in which it does not occur, have every circumstance in common save one, that one occurring in the former; the circumstances in which alone the two instances differ, is the effect, or the cause, or an indispensable part of the cause of the phenomenon. (p. 452)\n",
    ">\n",
    "> 調査対象の現象が起こる事例と起こらない事例が、前者に起こる1つの状況を除いて、すべての状況に共通点がある場合、2つの事例が唯一異なる状況は、その現象の結果、原因、または原因の不可欠な部分である。\n",
    "\n",
    "Rubinの因果効果の考え方と同じ。\n",
    "\n",
    "2つの事例において1点のみが違い、他の要因は共通している場合、両者の結果の差分が因果効果。\n",
    "\n",
    "$$\n",
    "\\tau = Y_i^{(1)} - Y_i^{(0)}\n",
    "$$\n",
    "\n",
    "### 剰余法（method of residues）\n",
    "\n",
    "> Subduct from any phenomenon such part as is known by previous inductions to be the effect of certain antecedents, and the residue of the phenomenon is the effect of the remaining antecedents. (p. 460)\n",
    ">\n",
    "> どのような現象からも、ある先行要因の影響であることがこれまでの帰納法によって知られているような部分を除外し、現象の残滓を残りの先行要因の影響とする。\n",
    "\n",
    "ある現象から、要因が既知の部分を除くと、残った部分は残りの要因の影響である。\n",
    "\n",
    "\n",
    "### 一致法（method of agreement）\n",
    "\n",
    "複数の事例があるとき、すべての事例に共通する状況があれば、それが原因である\n",
    "\n",
    "> If two or more instances of a phenomenon under investigation have only one circumstance in common, the circumstance in which alone all the instances agree, is the cause (or effect) of the glven phenomenon. (p451)\n",
    ">\n",
    "> 調査対象の現象について、2つ以上の事例が1つだけ共通する状況を持つ場合、すべての事例が一致する状況のみが、その現象の原因（または結果）となる。\n",
    "\n",
    "Rubinのモデルでいうと、もし処置群$Y_i^{(1)}$と対照群$Y_i^{(0)}$の両方で現象が起こる、つまり\n",
    "\n",
    "$$\n",
    "Y_i^{(1)} = 1 \\quad \\text{かつ} \\quad Y_i^{(0)} = 1\n",
    "$$\n",
    "\n",
    "であれば、両者の差異法で定義される個体因果効果は\n",
    "\n",
    "$$\n",
    "Y_i^{(1)} - Y_i^{(0)} = 0\n",
    "$$\n",
    "\n",
    "となり、効果がないこと（null effect）を表す。\n",
    "\n",
    "\n",
    "ただし、Millの一致法は「すべての事例が一致する状況のみが、その現象の原因」という強い条件があり、因果の不確実性の概念（AがBを引き起こす確率を上げる、という考え方）を入れていないので、もし$E[Y_i^{(1)} - Y_i^{(0)}] = 0.999$でも因果ではないという扱いになってしまう\n"
   ]
  },
  {
   "cell_type": "markdown",
   "id": "1d769eaa-2c8f-4caf-9ddc-c4c04672fcba",
   "metadata": {},
   "source": [
    "## 参考\n",
    "\n",
    "- [Holland, P. W. (1986). Statistics and causal inference. Journal of the American statistical Association, 81(396), 945-960.](https://www.cps.fgv.br/cps/bd/curso/17_Statistics_and_Causal_Inference_Holland.pdf)\n",
    "- [因果性 | 時事用語事典 | 情報・知識＆オピニオン imidas - イミダス](https://imidas.jp/genre/detail/L-101-0050.html)\n",
    "- ダグラスクタッチ. (2019). 因果性. 岩波書店."
   ]
  }
 ],
 "metadata": {
  "kernelspec": {
   "display_name": "Python 3 (ipykernel)",
   "language": "python",
   "name": "python3"
  },
  "language_info": {
   "codemirror_mode": {
    "name": "ipython",
    "version": 3
   },
   "file_extension": ".py",
   "mimetype": "text/x-python",
   "name": "python",
   "nbconvert_exporter": "python",
   "pygments_lexer": "ipython3",
   "version": "3.10.13"
  }
 },
 "nbformat": 4,
 "nbformat_minor": 5
}
