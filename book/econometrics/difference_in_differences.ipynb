{
 "cells": [
  {
   "cell_type": "markdown",
   "id": "2bc86984-bd42-42c8-bc9e-ffa36102fc4f",
   "metadata": {},
   "source": [
    "# Difference In Differences\n",
    "\n",
    "**差の差法**（difference in differences: DID）\n",
    "\n"
   ]
  },
  {
   "cell_type": "code",
   "execution_count": null,
   "id": "7146df16-2852-49be-aa73-2b547c2c36fc",
   "metadata": {},
   "outputs": [],
   "source": []
  },
  {
   "cell_type": "code",
   "execution_count": null,
   "id": "2216bce5-9c14-483d-82cd-c88870a5e144",
   "metadata": {},
   "outputs": [],
   "source": []
  },
  {
   "cell_type": "markdown",
   "id": "5f0c5e2c-d81f-41b9-8e30-6bbe64f60252",
   "metadata": {},
   "source": [
    "## Synthetic Difference In Differences\n",
    "\n",
    "[Clarke, D., Pailañir, D., Athey, S., & Imbens, G. (2023). Synthetic Difference In Differences Estimation. arXiv preprint arXiv:2301.11859.](https://arxiv.org/pdf/2301.11859.pdf)"
   ]
  },
  {
   "cell_type": "code",
   "execution_count": null,
   "id": "6e5ca6c8-e198-4038-8f85-acdcfa3448f1",
   "metadata": {},
   "outputs": [],
   "source": []
  }
 ],
 "metadata": {
  "kernelspec": {
   "display_name": "Python 3",
   "language": "python",
   "name": "python3"
  },
  "language_info": {
   "codemirror_mode": {
    "name": "ipython",
    "version": 3
   },
   "file_extension": ".py",
   "mimetype": "text/x-python",
   "name": "python",
   "nbconvert_exporter": "python",
   "pygments_lexer": "ipython3",
   "version": "3.8.10"
  }
 },
 "nbformat": 4,
 "nbformat_minor": 5
}
