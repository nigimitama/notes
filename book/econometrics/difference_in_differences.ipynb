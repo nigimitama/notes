{
 "cells": [
  {
   "cell_type": "markdown",
   "id": "2bc86984-bd42-42c8-bc9e-ffa36102fc4f",
   "metadata": {},
   "source": [
    "# Difference In Differences\n",
    "\n",
    "**差の差法**（difference in differences: DID）\n",
    "\n"
   ]
  },
  {
   "cell_type": "code",
   "execution_count": null,
   "id": "7146df16-2852-49be-aa73-2b547c2c36fc",
   "metadata": {},
   "outputs": [],
   "source": []
  },
  {
   "cell_type": "code",
   "execution_count": null,
   "id": "2216bce5-9c14-483d-82cd-c88870a5e144",
   "metadata": {},
   "outputs": [],
   "source": []
  },
  {
   "cell_type": "markdown",
   "id": "8db94f2f-87d1-4860-b6c2-0fd951056327",
   "metadata": {},
   "source": [
    "## Multiple\n",
    "\n",
    "介入時点が複数ある時のための理論\n",
    "\n",
    "以前は介入時点を0とするように指数化してまとめて扱うこともあったようだが、介入時点が異なるものは別個のグループとして扱って加重平均するほうがよいことがJournal of Econometricsの論文で示されたらしい"
   ]
  },
  {
   "cell_type": "code",
   "execution_count": null,
   "id": "5dac77c7-77a3-4299-8c79-7f1aff1b3ee8",
   "metadata": {},
   "outputs": [],
   "source": []
  },
  {
   "cell_type": "markdown",
   "id": "162c193b-1c4a-4e43-9e47-e433c1b093e9",
   "metadata": {},
   "source": [
    "## Event study"
   ]
  },
  {
   "cell_type": "code",
   "execution_count": null,
   "id": "192463b9-9896-4668-b642-86cdcdd86969",
   "metadata": {},
   "outputs": [],
   "source": []
  },
  {
   "cell_type": "code",
   "execution_count": null,
   "id": "a6d999b1-3643-4e0f-9298-fad0842bc406",
   "metadata": {},
   "outputs": [],
   "source": []
  },
  {
   "cell_type": "markdown",
   "id": "5f0c5e2c-d81f-41b9-8e30-6bbe64f60252",
   "metadata": {},
   "source": [
    "## Synthetic Difference In Differences\n",
    "\n",
    "[Clarke, D., Pailañir, D., Athey, S., & Imbens, G. (2023). Synthetic Difference In Differences Estimation. arXiv preprint arXiv:2301.11859.](https://arxiv.org/pdf/2301.11859.pdf)"
   ]
  },
  {
   "cell_type": "code",
   "execution_count": null,
   "id": "6e5ca6c8-e198-4038-8f85-acdcfa3448f1",
   "metadata": {},
   "outputs": [],
   "source": []
  }
 ],
 "metadata": {
  "kernelspec": {
   "display_name": "Python 3 (ipykernel)",
   "language": "python",
   "name": "python3"
  },
  "language_info": {
   "codemirror_mode": {
    "name": "ipython",
    "version": 3
   },
   "file_extension": ".py",
   "mimetype": "text/x-python",
   "name": "python",
   "nbconvert_exporter": "python",
   "pygments_lexer": "ipython3",
   "version": "3.9.16"
  }
 },
 "nbformat": 4,
 "nbformat_minor": 5
}
