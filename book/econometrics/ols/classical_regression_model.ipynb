{
 "cells": [
  {
   "cell_type": "markdown",
   "id": "3f6d8314-1d19-4b1a-a618-79afb34ba388",
   "metadata": {},
   "source": [
    "# 古典的回帰モデルと新古典的回帰モデル"
   ]
  },
  {
   "cell_type": "markdown",
   "id": "269de903-0024-4fe9-be8c-90625bcdc5e8",
   "metadata": {},
   "source": [
    "## 古典的2変数回帰モデル\n",
    "\n",
    "確率変数**ではない**説明変数$X$のもとでの単回帰モデル。\n",
    "\n",
    "$$\n",
    "Y = \\alpha + \\beta X + u\n",
    "$$\n",
    "\n",
    "### 仮定\n",
    "\n",
    "1. 説明変数Xは非確率的である\n",
    "2. 誤差項の期待値はゼロ：$E(u) = 0$\n",
    "3. 誤差項の分散は一定（均一分散性 homoskedasticity）：$Var(u) = \\sigma^2$\n",
    "4. 誤差項はお互いに無相関（独立性）：$Cov(u_i, u_j) = 0$\n",
    "5. 誤差項は正規分布に従う（正規性）\n",
    "\n",
    "仮定1~4を満たすモデルを**古典的回帰モデル（classical regression model: CRM）**といい、それに加えて仮定5も満たすモデルを**古典的正規回帰モデル（Classical Normal Regression Model: CNRM）**という。\n",
    "\n"
   ]
  },
  {
   "cell_type": "markdown",
   "id": "c1c661fa-b155-42a2-8bdc-dabf80012173",
   "metadata": {},
   "source": [
    "## 古典的$k$変数回帰モデル\n",
    "\n",
    "確率変数**ではない**説明変数$X$のもとでの重回帰モデル。\n",
    "\n",
    "$$\n",
    "\\newcommand{\\b}[1]{\\boldsymbol{#1}}\n",
    "Y = \\b{X} \\b{\\beta} + \\b{u}\n",
    "$$\n",
    "\n",
    "### 仮定\n",
    "\n",
    "1. 説明変数$\\b{X}$は非確率的である\n",
    "2. $E[Y] = \\b{X \\beta}$であり、したがって誤差項の期待値はゼロ：$E(\\b{u}) = 0$\n",
    "3. 誤差項の分散は一定であり、共分散はゼロ：$Var(\\b{u}) = \\sigma^2 \\b{I}$\n",
    "4. $\\b{X}$の階数は$k$：$rank(\\b{X}) = k$（$\\b{X^TX}$に逆行列が存在することの仮定）\n",
    "5. $Y$は正規分布に従う（正規性）：$Y \\sim N(\\b{X\\beta}, \\sigma^2\\b{I}), \\b{u} \\sim N(\\b{X\\beta}, \\sigma^2\\b{I})$\n",
    "\n",
    "仮定1~4を満たすモデルを**古典的回帰モデル（classical regression model: CRM）**といい、それに加えて仮定5も満たすモデルを**古典的正規回帰モデル（Classical Normal Regression Model: CNRM）**という。\n",
    "\n"
   ]
  },
  {
   "cell_type": "markdown",
   "id": "d46d3840-8bc8-4d8d-bbb0-8cbf310f8f7f",
   "metadata": {},
   "source": [
    "## 一般化古典的回帰モデル\n",
    "\n",
    "古典的回帰モデルから3.の誤差項の均一分散性・独立性$Var(\\b{u})=\\sigma^2 \\b{I}$の仮定を緩めたモデルは一般化古典的回帰モデル（Generalized Classical Regression Model: GCRM）と呼ばれる。\n",
    "\n",
    "不均一分散のとき、OLS推定量は不偏性をもつものの最小分散性はもたない。そのため加重最小二乗法（WLS）や一般化最小二乗法（GLS）を使ってBLUEな推定量を求める。"
   ]
  },
  {
   "cell_type": "markdown",
   "id": "27f7b7ba-8977-48ba-a92a-dcaf5fdc0524",
   "metadata": {},
   "source": [
    "## 新古典的回帰モデル\n",
    "\n",
    "古典的回帰モデルから1.の「説明変数は非確率的である」という条件を緩和したモデルを**新古典的回帰モデル（Neo-Classical Regression Model: NCRM）**と呼ぶ。"
   ]
  },
  {
   "cell_type": "code",
   "execution_count": null,
   "id": "1ae0cf83-67b5-4a35-a4e2-1897de377627",
   "metadata": {},
   "outputs": [],
   "source": []
  }
 ],
 "metadata": {
  "kernelspec": {
   "display_name": "Python 3 (ipykernel)",
   "language": "python",
   "name": "python3"
  },
  "language_info": {
   "codemirror_mode": {
    "name": "ipython",
    "version": 3
   },
   "file_extension": ".py",
   "mimetype": "text/x-python",
   "name": "python",
   "nbconvert_exporter": "python",
   "pygments_lexer": "ipython3",
   "version": "3.9.17"
  }
 },
 "nbformat": 4,
 "nbformat_minor": 5
}
