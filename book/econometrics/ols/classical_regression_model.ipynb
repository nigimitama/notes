{
 "cells": [
  {
   "cell_type": "markdown",
   "id": "3f6d8314-1d19-4b1a-a618-79afb34ba388",
   "metadata": {},
   "source": [
    "# 古典的回帰モデルと新古典的回帰モデル"
   ]
  },
  {
   "cell_type": "markdown",
   "id": "269de903-0024-4fe9-be8c-90625bcdc5e8",
   "metadata": {},
   "source": [
    "## 古典的回帰モデル\n",
    "\n",
    "確率変数**ではない**説明変数$X$のもとでの回帰モデル。\n",
    "\n",
    "### 仮定\n",
    "\n",
    "1. 説明変数Xは非確率的である\n",
    "2. 誤差項の期待値はゼロ：$E(u) = 0$\n",
    "3. 誤差項の分散は一定（均一分散性 homoskedasticity）：$Var(u) = \\sigma^2$\n",
    "4. 誤差項はお互いに無相関（独立性）：$Cov(u_i, u_j) = 0$\n",
    "5. 誤差項は正規分布に従う（正規性）\n",
    "\n",
    "仮定1~4を満たすモデルを**古典的回帰モデル（classical regression model: CRM）**といい、それに加えて仮定5も満たすモデルを**古典的正規回帰モデル（Classical Normal Regression Model: CNRM）**という。\n",
    "\n"
   ]
  },
  {
   "cell_type": "code",
   "execution_count": null,
   "id": "282cfbad-197e-4fa8-8037-1c7446471cdb",
   "metadata": {},
   "outputs": [],
   "source": []
  }
 ],
 "metadata": {
  "kernelspec": {
   "display_name": "Python 3 (ipykernel)",
   "language": "python",
   "name": "python3"
  },
  "language_info": {
   "codemirror_mode": {
    "name": "ipython",
    "version": 3
   },
   "file_extension": ".py",
   "mimetype": "text/x-python",
   "name": "python",
   "nbconvert_exporter": "python",
   "pygments_lexer": "ipython3",
   "version": "3.9.17"
  }
 },
 "nbformat": 4,
 "nbformat_minor": 5
}
