{
 "cells": [
  {
   "cell_type": "markdown",
   "id": "612bf540-eb04-435a-af93-2c48284d612e",
   "metadata": {},
   "source": [
    "# OLSの検定・区間推定"
   ]
  },
  {
   "cell_type": "markdown",
   "id": "4dd148b3-a6ee-4e25-bbdf-6ba58596f0b0",
   "metadata": {},
   "source": [
    "## OLS推定量の標準誤差\n",
    "\n",
    "ある推定量の**漸近分布**（asymptotic distribution、大標本において推定量が近似的に従う分布）の標準偏差を**標準誤差**（standard error）という。\n",
    "\n",
    "重回帰モデル\n",
    "\n",
    "$$\n",
    "y = \\beta_0 + \\beta_1 x_1 + \\cdots + \\beta_d x_d + \\varepsilon\n",
    "$$\n",
    "\n",
    "において、各$k=0, 1, \\dots, d$について、回帰係数$\\beta_k$のOLS推定量$\\hat{\\beta}_k$は、中心極限定理により十分大きな$n$のもとで\n",
    "\n",
    "$$\n",
    "Z = \\frac\n",
    "{ \\sqrt{n} ( \\hat{\\beta}_k - \\beta_k  ) }\n",
    "{ \\sqrt{s} }\n",
    "$$\n",
    "\n",
    "が近似的に標準正規分布$N(0, 1)$に従う。\n",
    "\n",
    "ここで$s$は標本分散に相当する（TODO: これ追記する）。\n",
    "\n",
    "上記の式は書き換えると\n",
    "\n",
    "$$\n",
    "\\hat{\\beta}_k =\n",
    "\\beta_k + \\frac{ \\sqrt{s} }{ \\sqrt{n} } \\cdot Z\n",
    "$$\n",
    "\n",
    "となる。ここで\n",
    "\n",
    "$$\n",
    "\\sigma = \\frac{ \\sqrt{s} }{ \\sqrt{n} }\n",
    "$$\n",
    "\n",
    "とおけば、$\\hat{\\beta}_k$は平均$\\beta_k$、分散$\\sigma^2$の正規分布$N(\\beta_k, \\sigma^2)$に従うということになる。\n",
    "\n"
   ]
  },
  {
   "cell_type": "markdown",
   "id": "b65c02e2-e04b-424c-a0f7-84bcaf6b3e75",
   "metadata": {},
   "source": [
    "### データによる例\n",
    "\n",
    "例えば次のように生成されたデータがあるとする。\n",
    "\n",
    "$$\n",
    "\\begin{align}\n",
    "y &= 10 + 5x + e\\\\\n",
    "x &\\sim \\text{Uniform}(0, 1)\\\\\n",
    "e &\\sim N(0, 1)\n",
    "\\end{align}\n",
    "$$"
   ]
  },
  {
   "cell_type": "code",
   "execution_count": 14,
   "id": "fcd902dd-3526-443b-888e-96a03f956c9e",
   "metadata": {},
   "outputs": [
    {
     "data": {
      "text/plain": [
       "<AxesSubplot: xlabel='x', ylabel='y'>"
      ]
     },
     "execution_count": 14,
     "metadata": {},
     "output_type": "execute_result"
    },
    {
     "data": {
      "image/png": "[encoded data removed]",
      "text/plain": [
       "<Figure size 432x288 with 1 Axes>"
      ]
     },
     "metadata": {
      "needs_background": "light"
     },
     "output_type": "display_data"
    }
   ],
   "source": [
    "import numpy as np\n",
    "import pandas as pd\n",
    "\n",
    "n = 300\n",
    "beta = [10, 5]\n",
    "np.random.seed(0)\n",
    "x = np.random.uniform(size=n)\n",
    "y = beta[0] + x * beta[1] + np.random.normal(size=n)\n",
    "df = pd.DataFrame({\"x\": x, \"y\": y})\n",
    "df.plot.scatter(x=\"x\", y=\"y\")"
   ]
  },
  {
   "cell_type": "code",
   "execution_count": 15,
   "id": "5bf026a3-751a-4be0-967f-35299421e527",
   "metadata": {},
   "outputs": [
    {
     "data": {
      "text/html": [
       "<div>\n",
       "<style scoped>\n",
       "    .dataframe tbody tr th:only-of-type {\n",
       "        vertical-align: middle;\n",
       "    }\n",
       "\n",
       "    .dataframe tbody tr th {\n",
       "        vertical-align: top;\n",
       "    }\n",
       "\n",
       "    .dataframe thead th {\n",
       "        text-align: right;\n",
       "    }\n",
       "</style>\n",
       "<table border=\"1\" class=\"dataframe\">\n",
       "  <thead>\n",
       "    <tr style=\"text-align: right;\">\n",
       "      <th></th>\n",
       "      <th>x</th>\n",
       "      <th>y</th>\n",
       "    </tr>\n",
       "  </thead>\n",
       "  <tbody>\n",
       "    <tr>\n",
       "      <th>count</th>\n",
       "      <td>300.000000</td>\n",
       "      <td>300.000000</td>\n",
       "    </tr>\n",
       "    <tr>\n",
       "      <th>mean</th>\n",
       "      <td>0.503503</td>\n",
       "      <td>12.412351</td>\n",
       "    </tr>\n",
       "    <tr>\n",
       "      <th>std</th>\n",
       "      <td>0.290474</td>\n",
       "      <td>1.690354</td>\n",
       "    </tr>\n",
       "    <tr>\n",
       "      <th>min</th>\n",
       "      <td>0.004695</td>\n",
       "      <td>8.456236</td>\n",
       "    </tr>\n",
       "    <tr>\n",
       "      <th>25%</th>\n",
       "      <td>0.247671</td>\n",
       "      <td>11.283655</td>\n",
       "    </tr>\n",
       "    <tr>\n",
       "      <th>50%</th>\n",
       "      <td>0.522548</td>\n",
       "      <td>12.494137</td>\n",
       "    </tr>\n",
       "    <tr>\n",
       "      <th>75%</th>\n",
       "      <td>0.730305</td>\n",
       "      <td>13.578144</td>\n",
       "    </tr>\n",
       "    <tr>\n",
       "      <th>max</th>\n",
       "      <td>0.998847</td>\n",
       "      <td>16.441451</td>\n",
       "    </tr>\n",
       "  </tbody>\n",
       "</table>\n",
       "</div>"
      ],
      "text/plain": [
       "                x           y\n",
       "count  300.000000  300.000000\n",
       "mean     0.503503   12.412351\n",
       "std      0.290474    1.690354\n",
       "min      0.004695    8.456236\n",
       "25%      0.247671   11.283655\n",
       "50%      0.522548   12.494137\n",
       "75%      0.730305   13.578144\n",
       "max      0.998847   16.441451"
      ]
     },
     "execution_count": 15,
     "metadata": {},
     "output_type": "execute_result"
    }
   ],
   "source": [
    "df.describe()"
   ]
  },
  {
   "cell_type": "markdown",
   "id": "cabae037-827d-49f7-9c00-cb3c29ba8e7c",
   "metadata": {},
   "source": [
    "単回帰モデルなので\n",
    "\n",
    "$$\n",
    "\\hat{\\beta}_1 = \\frac{\n",
    "    \\sum^n_{i=1} (x_i - \\bar{x}) (y_i - \\bar{y})\n",
    "}{\n",
    "    \\sum^n_{i=1} (x_i - \\bar{x})^2\n",
    "}\n",
    "$$\n",
    "\n",
    "と計算できる"
   ]
  },
  {
   "cell_type": "code",
   "execution_count": 30,
   "id": "fe6f50ee-338e-4a63-b8fe-7fc4e4f59b50",
   "metadata": {},
   "outputs": [
    {
     "data": {
      "text/plain": [
       "4.710096736459251"
      ]
     },
     "execution_count": 30,
     "metadata": {},
     "output_type": "execute_result"
    }
   ],
   "source": [
    "beta1 = sum((x - x.mean()) * (y - y.mean())) / sum((x - x.mean())**2)\n",
    "beta1"
   ]
  },
  {
   "cell_type": "markdown",
   "id": "bb730c99-138a-466d-a78b-4ba2ec0cbc13",
   "metadata": {},
   "source": [
    "$$\n",
    "Z = \\frac\n",
    "{ \\sqrt{n} ( \\hat{\\beta}_k - \\beta_k  ) }\n",
    "{ \\sqrt{s} }\n",
    "$$"
   ]
  },
  {
   "cell_type": "code",
   "execution_count": null,
   "id": "ad738308-dd0d-4361-a858-0da6a9233011",
   "metadata": {},
   "outputs": [],
   "source": []
  },
  {
   "cell_type": "code",
   "execution_count": 8,
   "id": "789d341c-ea6e-4d99-a205-d3ab2b70e4e8",
   "metadata": {
    "tags": [
     "hide-input"
    ]
   },
   "outputs": [
    {
     "data": {
      "text/html": [
       "<table style=\"text-align:center\"><tr><td colspan=\"2\" style=\"border-bottom: 1px solid black\"></td></tr><tr><td style=\"text-align:left\"></td><td colspan=\"1\"><em>Dependent variable:y</em></td></tr><tr><td style=\"text-align:left\"></td><tr><td style=\"text-align:left\"></td><td>(1)</td></tr><tr><td colspan=\"2\" style=\"border-bottom: 1px solid black\"></td></tr><tr><td style=\"text-align:left\">Intercept</td><td>10.041<sup>***</sup></td></tr><tr><td style=\"text-align:left\"></td><td>(0.115)</td></tr><tr><td style=\"text-align:left\">x</td><td>4.710<sup>***</sup></td></tr><tr><td style=\"text-align:left\"></td><td>(0.198)</td></tr><td colspan=\"2\" style=\"border-bottom: 1px solid black\"></td></tr><tr><td style=\"text-align: left\">Observations</td><td>300</td></tr><tr><td style=\"text-align: left\">R<sup>2</sup></td><td>0.655</td></tr><tr><td style=\"text-align: left\">Adjusted R<sup>2</sup></td><td>0.654</td></tr><tr><td style=\"text-align: left\">Residual Std. Error</td><td>0.994 (df=298)</td></tr><tr><td style=\"text-align: left\">F Statistic</td><td>566.061<sup>***</sup> (df=1; 298)</td></tr><tr><td colspan=\"2\" style=\"border-bottom: 1px solid black\"></td></tr><tr><td style=\"text-align: left\">Note:</td>\n",
       " <td colspan=\"1\" style=\"text-align: right\">\n",
       "  <sup>*</sup>p&lt;0.1;\n",
       "  <sup>**</sup>p&lt;0.05;\n",
       "  <sup>***</sup>p&lt;0.01\n",
       " </td></tr></table>"
      ],
      "text/plain": [
       "<stargazer.stargazer.Stargazer at 0x7f7b0294d040>"
      ]
     },
     "execution_count": 8,
     "metadata": {},
     "output_type": "execute_result"
    }
   ],
   "source": [
    "import numpy as np\n",
    "import pandas as pd\n",
    "\n",
    "n = 300\n",
    "beta = [10, 5]\n",
    "np.random.seed(0)\n",
    "x = np.random.uniform(size=n)\n",
    "df = pd.DataFrame({\n",
    "    \"x\": x,\n",
    "    \"y\": beta[0] + x * beta[1] + np.random.normal(size=n)\n",
    "})\n",
    "# df.plot.scatter(x=\"x\", y=\"y\")\n",
    "\n",
    "import statsmodels.api as sm\n",
    "import statsmodels.formula.api as smf\n",
    "from stargazer.stargazer import Stargazer\n",
    "\n",
    "models = [\n",
    "    smf.ols('y ~ x', data=df).fit(),\n",
    "]\n",
    "Stargazer(models)"
   ]
  },
  {
   "cell_type": "markdown",
   "id": "01b0274a-5fee-4ec8-82e1-72a6acd4d4ec",
   "metadata": {},
   "source": [
    "## OLS推定量の$t$検定\n",
    "\n",
    "帰無仮説と対立仮説をそれぞれ\n",
    "\n",
    "$$\n",
    "H_0: \\beta_k = 0\\\\\n",
    "H_1: \\beta_k \\neq 0\\\\\n",
    "$$\n",
    "\n",
    "とする。$t$統計量を\n",
    "\n",
    "$$\n",
    "t = \\frac{\\hat{\\beta}_k}{\\sigma}\n",
    "= \\frac{ \\sqrt{n} }{ \\sqrt{s} } \\hat{\\beta}_k\n",
    "$$\n",
    "\n",
    "と定義すると、これは標準正規分布$N(0,1)$に従う。$|t|>1.96$となればその確率は5%以下であるため有意水準5%で帰無仮説を棄却できる。\n"
   ]
  },
  {
   "cell_type": "markdown",
   "id": "f53e4221-c6b8-4d9b-b07f-b62518ff8b56",
   "metadata": {},
   "source": [
    "### $t$検定の$p$値\n",
    "\n",
    "帰無仮説$H_0: \\beta_k = 0$を棄却するためには有意水準をどこまで引き上げなければいけないかを考える。\n",
    "\n",
    "$N(0, 1)$に従う$Z$を用いて、$P(|Z|>|t|)$を計算する\n"
   ]
  },
  {
   "cell_type": "code",
   "execution_count": null,
   "id": "ce35ef58-3b96-42f0-aa74-2e5a79594e91",
   "metadata": {},
   "outputs": [],
   "source": []
  },
  {
   "cell_type": "markdown",
   "id": "7b992822-770d-4801-8308-66c24df08714",
   "metadata": {},
   "source": [
    "## 回帰の標準誤差\n",
    "\n",
    "回帰の標準誤差（standard error of the regression: SER）は、回帰誤差$\\varepsilon$の標準偏差の推定量\n",
    "\n",
    "$$\n",
    "SER = s_{\\hat{u}}, \\\n",
    "s_{\\hat{u}} = \\frac{1}{n-d-1} \\sum^n_{i=1} \\hat{u}^2_i\n",
    "$$\n",
    "\n",
    "（$\\hat{u}$の平均はゼロであるため、通常の分散の式における平均で引くような項が存在していない）\n",
    "\n",
    "ここで$d$は推定している傾きのパラメータ数（定数項も含めれば$d+1$）。下方バイアスが生じることがわかっているので自由度のぶんだけ修正する。\n"
   ]
  },
  {
   "cell_type": "code",
   "execution_count": null,
   "id": "603de168-aef3-43a2-817e-527e2704e442",
   "metadata": {},
   "outputs": [],
   "source": []
  }
 ],
 "metadata": {
  "kernelspec": {
   "display_name": "Python 3",
   "language": "python",
   "name": "python3"
  },
  "language_info": {
   "codemirror_mode": {
    "name": "ipython",
    "version": 3
   },
   "file_extension": ".py",
   "mimetype": "text/x-python",
   "name": "python",
   "nbconvert_exporter": "python",
   "pygments_lexer": "ipython3",
   "version": "3.8.10"
  }
 },
 "nbformat": 4,
 "nbformat_minor": 5
}
