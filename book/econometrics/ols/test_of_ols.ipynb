{
 "cells": [
  {
   "cell_type": "markdown",
   "id": "612bf540-eb04-435a-af93-2c48284d612e",
   "metadata": {},
   "source": [
    "# OLSの検定・区間推定"
   ]
  },
  {
   "cell_type": "markdown",
   "id": "4dd148b3-a6ee-4e25-bbdf-6ba58596f0b0",
   "metadata": {},
   "source": [
    "## OLS推定量の標準誤差\n",
    "\n",
    "ある推定量の**漸近分布**（asymptotic distribution、大標本において推定量が近似的に従う分布）の標準偏差を**標準誤差**（standard error）という。\n",
    "\n",
    "重回帰モデル\n",
    "\n",
    "$$\n",
    "y = \\beta_0 + \\beta_1 x_1 + \\cdots + \\beta_d x_d + \\varepsilon\n",
    "$$\n",
    "\n",
    "において、各$k=0, 1, \\dots, d$について、回帰係数$\\beta_k$のOLS推定量$\\hat{\\beta}_k$は、中心極限定理により十分大きな$n$のもとで\n",
    "\n",
    "$$\n",
    "Z = \\frac\n",
    "{ \\sqrt{n} ( \\hat{\\beta}_k - \\beta_k  ) }\n",
    "{ \\sqrt{s} }\n",
    "$$\n",
    "\n",
    "が近似的に標準正規分布$N(0, 1)$に従う。\n",
    "\n",
    "ここで$s$は標本分散に相当する（TODO: これ追記する）。\n",
    "\n",
    "上記の式は書き換えると\n",
    "\n",
    "$$\n",
    "\\hat{\\beta}_k =\n",
    "\\beta_k + \\frac{ \\sqrt{s} }{ \\sqrt{n} } \\cdot Z\n",
    "$$\n",
    "\n",
    "となる。ここで\n",
    "\n",
    "$$\n",
    "\\sigma = \\frac{ \\sqrt{s} }{ \\sqrt{n} }\n",
    "$$\n",
    "\n",
    "とおけば、$\\hat{\\beta}_k$は平均$\\beta_k$、分散$\\sigma^2$の正規分布$N(\\beta_k, \\sigma^2)$に従うということになる。\n",
    "\n"
   ]
  },
  {
   "cell_type": "code",
   "execution_count": 59,
   "id": "95208604-53ec-438c-99e3-bc7dcc25bcc1",
   "metadata": {
    "tags": [
     "remove-output",
     "remove-input"
    ]
   },
   "outputs": [
    {
     "data": {
      "application/papermill.record/image/png": "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\n",
      "application/papermill.record/text/plain": "<Figure size 432x288 with 1 Axes>"
     },
     "metadata": {
      "scrapbook": {
       "mime_prefix": "application/papermill.record/",
       "name": "dist_beta_fig"
      }
     },
     "output_type": "display_data"
    },
    {
     "data": {
      "image/png": "[encoded data removed]",
      "text/plain": [
       "<Figure size 432x288 with 1 Axes>"
      ]
     },
     "metadata": {
      "needs_background": "light"
     },
     "output_type": "display_data"
    }
   ],
   "source": [
    "import numpy as np\n",
    "import pandas as pd\n",
    "import matplotlib.pyplot as plt\n",
    "\n",
    "beta = [10, 5]\n",
    "\n",
    "def gen_data(n = 300, random_state=0):\n",
    "    np.random.seed(random_state)\n",
    "    x = np.random.uniform(size=n)\n",
    "    y = beta[0] + x * beta[1] + np.random.normal(size=n)\n",
    "    return x, y\n",
    "\n",
    "estimates = []\n",
    "for seed in range(1000):\n",
    "    x, y = gen_data(n = 100, random_state=seed)\n",
    "    beta1 = sum((x - x.mean()) * (y - y.mean())) / sum((x - x.mean())**2)\n",
    "    estimates.append(beta1)\n",
    "\n",
    "\n",
    "fig, ax = plt.subplots()\n",
    "ax.hist(estimates, bins=20)\n",
    "ax.axvline(beta[1], color=\"gray\", label=r\"True $\\beta_1$\")\n",
    "ax.set(title=r\"Distribution of $\\hat{\\beta}_1$\", xlabel=r\"$\\hat{\\beta}_1$\")\n",
    "ax.legend()\n",
    "\n",
    "from myst_nb import glue\n",
    "glue(\"dist_beta_fig\", fig, display=False)"
   ]
  },
  {
   "cell_type": "markdown",
   "id": "b65c02e2-e04b-424c-a0f7-84bcaf6b3e75",
   "metadata": {},
   "source": [
    ":::{note} データによる例\n",
    "\n",
    "例えば次のように生成されたデータがあるとする。\n",
    "\n",
    "$$\n",
    "\\begin{align}\n",
    "y &= 10 + 5x + e\\\\\n",
    "x &\\sim \\text{Uniform}(0, 1)\\\\\n",
    "e &\\sim N(0, 1)\n",
    "\\end{align}\n",
    "$$\n",
    "\n",
    "シミュレーションによって（データを生成して推定することを繰り返すことによって）この分布を見てみる\n",
    "\n",
    "\n",
    "{glue:}`dist_beta_fig`\n",
    ":::"
   ]
  },
  {
   "cell_type": "code",
   "execution_count": 61,
   "id": "789d341c-ea6e-4d99-a205-d3ab2b70e4e8",
   "metadata": {
    "tags": [
     "hide-input",
     "remove-input"
    ]
   },
   "outputs": [],
   "source": [
    "# import numpy as np\n",
    "# import pandas as pd\n",
    "\n",
    "# n = 300\n",
    "# beta = [10, 5]\n",
    "# np.random.seed(0)\n",
    "# x = np.random.uniform(size=n)\n",
    "# df = pd.DataFrame({\n",
    "#     \"x\": x,\n",
    "#     \"y\": beta[0] + x * beta[1] + np.random.normal(size=n)\n",
    "# })\n",
    "# # df.plot.scatter(x=\"x\", y=\"y\")\n",
    "\n",
    "# import statsmodels.api as sm\n",
    "# import statsmodels.formula.api as smf\n",
    "# from stargazer.stargazer import Stargazer\n",
    "\n",
    "# models = [\n",
    "#     smf.ols('y ~ x', data=df).fit(),\n",
    "# ]\n",
    "# Stargazer(models)"
   ]
  },
  {
   "cell_type": "markdown",
   "id": "01b0274a-5fee-4ec8-82e1-72a6acd4d4ec",
   "metadata": {},
   "source": [
    "## OLS推定量の$t$検定\n",
    "\n",
    "帰無仮説と対立仮説をそれぞれ\n",
    "\n",
    "$$\n",
    "H_0: \\beta_k = 0\\\\\n",
    "H_1: \\beta_k \\neq 0\\\\\n",
    "$$\n",
    "\n",
    "とする。$t$統計量を\n",
    "\n",
    "$$\n",
    "t = \\frac{\\hat{\\beta}_k}{\\sigma}\n",
    "= \\frac{ \\sqrt{n} }{ \\sqrt{s} } \\hat{\\beta}_k\n",
    "$$\n",
    "\n",
    "と定義すると、これは標準正規分布$N(0,1)$に従う。$|t|>1.96$となればその確率は5%以下であるため有意水準5%で帰無仮説を棄却できる。\n"
   ]
  },
  {
   "cell_type": "markdown",
   "id": "f53e4221-c6b8-4d9b-b07f-b62518ff8b56",
   "metadata": {},
   "source": [
    "### $t$検定の$p$値\n",
    "\n",
    "帰無仮説$H_0: \\beta_k = 0$を棄却するためには有意水準をどこまで引き上げなければいけないかを考える。\n",
    "\n",
    "$N(0, 1)$に従う$Z$を用いて、$P(|Z|>|t|)$を計算する\n"
   ]
  },
  {
   "cell_type": "markdown",
   "id": "9f6205b0-0f14-4f67-97d3-f90013ce596a",
   "metadata": {},
   "source": [
    "## OLS推定量の信頼区間\n",
    "\n",
    "$\\hat{\\beta}_k$の漸近分布が$N(\\beta_k, \\sigma^2_k)$に従うとする。$n$が十分に大きいときは、\n",
    "\n",
    "$$\n",
    "Z_k = \\frac{\\hat{\\beta}_k - \\beta_k}{\\sigma_k}\n",
    "$$\n",
    "\n",
    "は$N(0, 1)$に従うものとみなすことができて、\n",
    "\n",
    "$$\n",
    "P(|Z_k| \\leq 1.96)\n",
    "= P\\left(\n",
    "    -1.96 \\leq\n",
    "        \\frac{\\hat{\\beta}_k - \\beta_k}{\\sigma_k}\n",
    "    \\leq 1.96\n",
    "\\right)\n",
    "= 0.95\n",
    "$$\n",
    "\n",
    "と近似できる。そこから95%信頼区間は\n",
    "\n",
    "$$\n",
    "\\hat{\\beta}_k - 1.96 \\sigma_k\n",
    "\\leq \\beta_k \\leq\n",
    "\\hat{\\beta}_k + 1.96 \\sigma_k\n",
    "$$\n",
    "\n",
    "となる"
   ]
  },
  {
   "cell_type": "markdown",
   "id": "7b992822-770d-4801-8308-66c24df08714",
   "metadata": {},
   "source": [
    "## 回帰の標準誤差\n",
    "\n",
    "回帰の標準誤差（standard error of the regression: SER）は、回帰誤差$\\varepsilon$の標準偏差の推定量\n",
    "\n",
    "$$\n",
    "SER = s_{\\hat{u}}, \\\n",
    "s_{\\hat{u}} = \\frac{1}{n-d-1} \\sum^n_{i=1} \\hat{u}^2_i\n",
    "$$\n",
    "\n",
    "（$\\hat{u}$の平均はゼロであるため、通常の分散の式における平均で引くような項が存在していない）\n",
    "\n",
    "ここで$d$は推定している傾きのパラメータ数（定数項も含めれば$d+1$）。下方バイアスが生じることがわかっているので自由度のぶんだけ修正する。\n"
   ]
  },
  {
   "cell_type": "code",
   "execution_count": null,
   "id": "603de168-aef3-43a2-817e-527e2704e442",
   "metadata": {},
   "outputs": [],
   "source": []
  }
 ],
 "metadata": {
  "kernelspec": {
   "display_name": "Python 3",
   "language": "python",
   "name": "python3"
  },
  "language_info": {
   "codemirror_mode": {
    "name": "ipython",
    "version": 3
   },
   "file_extension": ".py",
   "mimetype": "text/x-python",
   "name": "python",
   "nbconvert_exporter": "python",
   "pygments_lexer": "ipython3",
   "version": "3.8.10"
  }
 },
 "nbformat": 4,
 "nbformat_minor": 5
}
