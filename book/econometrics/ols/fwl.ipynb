{
 "cells": [
  {
   "cell_type": "markdown",
   "id": "9ba12244-7d47-455d-b2e4-873b441c253f",
   "metadata": {},
   "source": [
    "# FWL定理"
   ]
  },
  {
   "cell_type": "markdown",
   "id": "0826c0d3-732c-479e-8a62-ae267ecf6002",
   "metadata": {},
   "source": [
    ":::{admonition} FWL定理\n",
    "\n",
    "目的変数のベクトル$Y \\in \\mathbb{R}^{n\\times 1}$、説明変数の行列$X \\in \\mathbb{R}^{n\\times d}$と誤差項$e \\in \\mathbb{R}^{n\\times 1}$による線形回帰モデル\n",
    "\n",
    "$$\n",
    "Y = X \\beta + e\n",
    "$$\n",
    "\n",
    "があるとする。\n",
    "\n",
    "説明変数を$X = (X_1 | X_2)$と2つのグループに分割し、回帰係数ベクトル$\\beta$も合わせて$\\beta = (\\beta_1 | \\beta_2)^T$と2つに分割して\n",
    "\n",
    "$$\n",
    "Y = X_1 \\beta_1 + X_2 \\beta_2 + e\n",
    "$$\n",
    "\n",
    "\n",
    "と表す。\n",
    "\n",
    "この回帰モデルの$\\beta_1$は、**残差回帰**（residual regression）と呼ばれる以下の手順に従うことでも得ることができる。\n",
    "\n",
    "1. $X_1$を$X_2$に回帰して残差$\\tilde{X}_1$を得る：$\\tilde{X}_1 = X_1 - X_2 \\hat{\\delta}$\n",
    "2. $Y$を$X_2$に回帰して残差$\\tilde{Y}$を得る：$\\tilde{Y} = Y - X_2 \\hat{\\gamma}$\n",
    "3. $\\tilde{Y}$を$\\tilde{X}_1$に回帰させる：$\\tilde{Y} = \\tilde{X}_1 \\beta_1$\n",
    ":::"
   ]
  },
  {
   "cell_type": "markdown",
   "id": "6822cbda-6d79-421e-b61a-1ecedaad0b8f",
   "metadata": {},
   "source": [
    "## 証明\n",
    "\n",
    "残差への回帰$\\tilde{Y} = \\tilde{X}_1 \\beta_1$は\n",
    "\n",
    "$$\n",
    "Y - X_2 \\hat{\\gamma} = (X_1 - X_2\\hat{\\delta}) \\beta_1\n",
    "$$\n",
    "\n",
    "であり、\n",
    "\n",
    "$$\n",
    "\\hat{\\gamma} = (X_2^T X_2)^{-1} X_2^T Y\\\\\n",
    "\\hat{\\delta} = (X_2^T X_2)^{-1} X_2^T X_1\n",
    "$$\n",
    "\n",
    "を代入するとそれぞれ\n",
    "\n",
    "$$\n",
    "\\begin{align}\n",
    "Y - X_2 \\hat{\\gamma} &= Y - X_2 (X_2^T X_2)^{-1} X_2^T Y\\\\\n",
    "&= [I - X_2 (X_2^T X_2)^{-1} X_2^T] Y\\\\\n",
    "X_1 - X_2\\hat{\\delta} &= X_1 - X_2 (X_2^T X_2)^{-1} X_2^T X_1\\\\\n",
    "&= [I - X_2 (X_2^T X_2)^{-1} X_2^T] X_1\n",
    "\\end{align}\n",
    "$$\n",
    "\n",
    "となる。\n",
    "\n",
    "これらをそれぞれ被説明変数、説明変数として最小二乗推定すると\n",
    "\n",
    "$$\n",
    "\\begin{align}\n",
    "\\hat{\\beta}_1 &= [(X_1 - X_2\\hat{\\delta})^T (X_1 - X_2\\hat{\\delta})]^{-1}\n",
    "(X_1 - X_2\\hat{\\delta})^T (Y - X_2)\n",
    "\\\\\n",
    "&= \\{ X_1^T [I - X_2 (X_2^T X_2)^{-1} X_2^T] X_1 \\}^{-1}\n",
    "X_1 [I - X_2 (X_2^T X_2)^{-1} X_2^T] Y\n",
    "\\\\\n",
    "\\end{align}\n",
    "$$\n",
    "\n",
    "（$I - X_2 (X_2^T X_2)^{-1} X_2^T$は冪等で対称な行列のため2行目で計算が簡略化できている）\n",
    "\n",
    "次に、すべての説明変数$X$を$Y$に回帰したとき\n",
    "\n",
    "$$\n",
    "Y = X_1 \\beta_1 + X_2 \\beta_2\n",
    "$$\n",
    "\n",
    "の$X_1$の係数$\\beta_1$の推定量を求める。二乗誤差の最小化の解\n",
    "\n",
    "$$\n",
    "(\\hat{\\beta}_1, \\hat{\\beta}_2)\n",
    "= \\operatorname*{\\arg \\min\\ }_{\\beta_1, \\beta_2}\n",
    "(Y - X_1 \\beta_1 + X_2 \\beta_2)^T (Y - X_1 \\beta_1 + X_2 \\beta_2)\n",
    "$$\n",
    "\n",
    "の1階の条件は\n",
    "\n",
    "$$\n",
    "X_1^T Y - X_1^T X_1 \\hat{\\beta}_1 - X_1^T X_2 \\hat{\\beta}_2 = 0\\\\\n",
    "X_2^T Y - X_2^T X_1 \\hat{\\beta}_1 - X_2^T X_2 \\hat{\\beta}_2 = 0\n",
    "$$\n",
    "\n",
    "となる。$\\hat{\\beta}_2$を消すためには、2つ目の式に左から$-X_1^T X_2(X_2^T X_2)^{-1}$を掛けて\n",
    "\n",
    "$$\n",
    "\\begin{align}\n",
    "&-X_1^T X_2(X_2^T X_2)^{-1}\n",
    "(X_2^T Y - X_2^T X_1 \\hat{\\beta}_1 - X_2^T X_2 \\hat{\\beta}_2)\n",
    "\\\\\n",
    "&= - X_1^T X_2(X_2^T X_2)^{-1} X_2^T Y\n",
    "+ X_1^T X_2(X_2^T X_2)^{-1} X_2^T X_1 \\hat{\\beta}_1 \n",
    "+ X_1^T X_2(X_2^T X_2)^{-1} X_2^T X_2 \\hat{\\beta}_2\n",
    "\\\\\n",
    "&= - X_1^T X_2(X_2^T X_2)^{-1} X_2^T Y\n",
    "+ X_1^T X_2(X_2^T X_2)^{-1} X_2^T X_1 \\hat{\\beta}_1 \n",
    "+ X_1^T X_2 \\hat{\\beta}_2\n",
    "\\end{align}\n",
    "$$\n",
    "\n",
    "これを第1式に足すと\n",
    "\n",
    "$$\n",
    "X_1^T Y - X_1^T X_1 \\hat{\\beta}_1 - X_1^T X_2 \\hat{\\beta}_2\n",
    "- X_1^T X_2(X_2^T X_2)^{-1} X_2^T Y\n",
    "+ X_1^T X_2(X_2^T X_2)^{-1} X_2^T X_1 \\hat{\\beta}_1 \n",
    "+ X_1^T X_2 \\hat{\\beta}_2\n",
    "\\\\\n",
    "= X_1^T Y\n",
    "- X_1^T X_2(X_2^T X_2)^{-1} X_2^T Y\n",
    "- [X_1^T X_1 - X_1^T X_2(X_2^T X_2)^{-1} X_2^T X_1] \\hat{\\beta}_1 = 0\n",
    "$$\n",
    "\n",
    "となる。\n",
    "\n",
    "これを変形すると\n",
    "\n",
    "$$\n",
    "\\begin{align}\n",
    "\\hat{\\beta}_1 &=\n",
    "[X_1^T X_1 - X_1^T X_2(X_2^T X_2)^{-1} X_2^T X_1]^{-1}\n",
    "X_1^T Y - X_1^T X_2(X_2^T X_2)^{-1} X_2^T Y\n",
    "\\\\\n",
    "&=\n",
    "\\{X_1^T [I - X_1^T X_2(X_2^T X_2)^{-1} X_2^T] X_1\\}^{-1}\n",
    "X_1^T [I - X_2(X_2^T X_2)^{-1} X_2^T] Y\n",
    "\\end{align}\n",
    "$$\n",
    "\n",
    "となり、残差回帰の解と一致する。\n"
   ]
  },
  {
   "cell_type": "markdown",
   "id": "4d610b19-a435-4cb6-aa48-01f8fc919ef7",
   "metadata": {},
   "source": [
    "### 数値例"
   ]
  },
  {
   "cell_type": "code",
   "execution_count": 70,
   "id": "22c6b521-0632-4df6-abdb-3065341f7e1e",
   "metadata": {},
   "outputs": [
    {
     "name": "stdout",
     "output_type": "stream",
     "text": [
      "beta=array([1, 2, 3, 4])\n"
     ]
    }
   ],
   "source": [
    "import numpy as np\n",
    "\n",
    "n = 100\n",
    "d = 4\n",
    "k = 1\n",
    "np.random.seed(0)\n",
    "beta = np.array(list(range(1, d + 1)))\n",
    "print(f\"{beta=}\")\n",
    "X = np.random.uniform(size=(n, d))\n",
    "e = np.random.normal(size=n) * 0.1\n",
    "Y = X @ beta + e\n",
    "\n",
    "X1 = X[:, :k]\n",
    "X2 = X[:, k:]\n",
    "beta1 = beta[:k]\n",
    "beta2 = beta[k:]\n",
    "assert np.allclose(Y, X1 @ beta1 + X2 @ beta2 + e)"
   ]
  },
  {
   "cell_type": "code",
   "execution_count": 71,
   "id": "5364eb08-1698-49de-83c1-8fd985e03d78",
   "metadata": {},
   "outputs": [],
   "source": [
    "# I - X_2 (X_2^T X_2)^{-1} X_2^T は冪等で対称な行列\n",
    "I = np.eye(n)\n",
    "M = (I - X2 @ np.linalg.inv(X2.T @ X2) @ X2.T)\n",
    "assert np.allclose(M.T, M)\n",
    "assert np.allclose(M, M @ M)"
   ]
  },
  {
   "cell_type": "code",
   "execution_count": 72,
   "id": "79f03c0c-a400-42f0-829d-f1debbccc6a4",
   "metadata": {},
   "outputs": [
    {
     "data": {
      "text/plain": [
       "array([1.])"
      ]
     },
     "execution_count": 72,
     "metadata": {},
     "output_type": "execute_result"
    }
   ],
   "source": [
    "delta = np.linalg.inv(X2.T @ X2) @ X2.T @ X1\n",
    "gamma = np.linalg.inv(X2.T @ X2) @ X2.T @ Y\n",
    "\n",
    "Y_tilde = (Y - X2 @ gamma)\n",
    "X_tilde = (X1 - X2 @ delta)\n",
    "\n",
    "# 残差回帰\n",
    "beta_hat2 = np.linalg.inv(X_tilde.T @ X_tilde) @ X_tilde.T @ Y_tilde\n",
    "beta_hat2.round(1)"
   ]
  },
  {
   "cell_type": "code",
   "execution_count": 73,
   "id": "aab712f5-52c3-4c92-a46c-b75bc36bf14a",
   "metadata": {},
   "outputs": [
    {
     "data": {
      "text/plain": [
       "array([1. , 2. , 2.9, 4. ])"
      ]
     },
     "execution_count": 73,
     "metadata": {},
     "output_type": "execute_result"
    }
   ],
   "source": [
    "# 通常の線形回帰\n",
    "beta_hat1 = np.linalg.inv(X.T @ X) @ X.T @ Y\n",
    "beta_hat1.round(1)"
   ]
  },
  {
   "cell_type": "markdown",
   "id": "5597dd01-b12e-4c0e-88fc-23d0b7a12423",
   "metadata": {},
   "source": [
    "## 残差の作図"
   ]
  },
  {
   "cell_type": "code",
   "execution_count": 96,
   "id": "2cbf3ca2-eeb4-4b7b-bdd9-aec2302d768d",
   "metadata": {
    "tags": [
     "hide-input"
    ]
   },
   "outputs": [
    {
     "data": {
      "image/png": "[encoded data removed]",
      "text/plain": [
       "<Figure size 1200x300 with 3 Axes>"
      ]
     },
     "metadata": {},
     "output_type": "display_data"
    }
   ],
   "source": [
    "import matplotlib.pyplot as plt\n",
    "import japanize_matplotlib\n",
    "\n",
    "fig, axes = plt.subplots(figsize=[12, 3], ncols=3)\n",
    "fig.subplots_adjust(wspace=0.3)\n",
    "axes[0].scatter(X1, Y)\n",
    "axes[0].set(ylabel=r\"$Y$\", xlabel=r\"$X_1$\", title=\"元の散布図\")\n",
    "\n",
    "axes[1].scatter(X_tilde, Y_tilde)\n",
    "axes[1].set(ylabel=r\"$\\tilde{Y}$\", xlabel=r\"$X_1$\", title=r\"$X_1$以外の変動を抜いた$\\tilde{Y}$と$\\tilde{X}$の散布図\")\n",
    "\n",
    "beta_ = np.linalg.inv(X_tilde.T @ X_tilde) @ X_tilde.T @ Y_tilde\n",
    "xrange = np.linspace(X_tilde.min(), X_tilde.max(), 100)\n",
    "axes[1].plot(xrange, xrange.reshape(-1, 1) @ beta_)\n",
    "\n",
    "axes[2].scatter(X1, Y_tilde)\n",
    "axes[2].set(ylabel=r\"$\\tilde{Y}$\", xlabel=r\"$X_1$\", title=r\"$Y$から$X_1$以外の変動を抜いた$\\tilde{Y}$との散布図\")\n",
    "beta_ = np.linalg.inv(X1.T @ X1) @ X1.T @ Y_tilde\n",
    "xrange = np.linspace(X1.min(), X1.max(), 100)\n",
    "axes[2].plot(xrange, xrange.reshape(-1, 1) @ beta_)\n",
    "\n",
    "fig.show()"
   ]
  },
  {
   "cell_type": "markdown",
   "id": "983edf07-75f1-4516-8815-a9a2459d1ae2",
   "metadata": {},
   "source": [
    "## 外生性・直交条件からの説明"
   ]
  },
  {
   "cell_type": "markdown",
   "id": "5cf8a84f-5d79-44af-8b83-b07f72a9c503",
   "metadata": {},
   "source": [
    "浅野・中村では誤差が直交することから証明するスタイルで、有斐閣の本はより直接的に証明している"
   ]
  },
  {
   "cell_type": "markdown",
   "id": "3a01678c-8a04-44a6-ba6a-1db4770cb649",
   "metadata": {},
   "source": [
    "## OLSのPartialling out解釈\n",
    "\n",
    "$$\n",
    "y = \\beta_0 + \\beta_1 x_1 + \\beta_2 x_2 + \\varepsilon\n",
    "$$\n",
    "\n",
    "というモデルの$\\beta_1$は\n",
    "\n",
    "1. $y$を$x_1$に回帰する：$y = \\beta_0 + \\beta_1 x_1 + \\beta_2 z_2 + \\varepsilon$\n",
    "2. $y$を$\\tilde{x}_1$に回帰する（ここで$\\tilde{x}_1$は$x_1$を$x_2$に回帰した残差）\n",
    "3. $\\tilde{y}$を$\\tilde{x}_1$に回帰する（ここで$\\tilde{y}$は$y$を$x_2$に回帰した残差）\n",
    "\n",
    "の3つの方法のいずれかで推定することができる"
   ]
  },
  {
   "cell_type": "markdown",
   "id": "4d0b84b2-12c4-4322-af0b-a904cadd08d3",
   "metadata": {},
   "source": [
    "### 数値例"
   ]
  },
  {
   "cell_type": "code",
   "execution_count": 1,
   "id": "61a103a0-3030-4c45-8ea0-13a6375710c6",
   "metadata": {},
   "outputs": [],
   "source": [
    "import numpy as np\n",
    "\n",
    "n = 1000\n",
    "np.random.seed(0)\n",
    "x0 = np.ones(shape=(n, ))\n",
    "x2 = np.random.uniform(0, 1, size=n)\n",
    "x1 = 3 * x2 + np.random.uniform(0, 1, size=n) + np.random.normal(0, 1, size=n)\n",
    "X = np.array([ x0, x1, x2 ]).T\n",
    "e = np.random.normal(0, 1, size=n)\n",
    "\n",
    "beta = np.array([10, 5, 7])  # 真のbeta\n",
    "y = X @ beta + e"
   ]
  },
  {
   "cell_type": "code",
   "execution_count": 2,
   "id": "192ba225-0547-4d85-b2c2-3a9177c98fe5",
   "metadata": {},
   "outputs": [
    {
     "name": "stderr",
     "output_type": "stream",
     "text": [
      "/usr/local/lib/python3.9/site-packages/numpy/lib/function_base.py:2854: RuntimeWarning: invalid value encountered in divide\n",
      "  c /= stddev[:, None]\n",
      "/usr/local/lib/python3.9/site-packages/numpy/lib/function_base.py:2855: RuntimeWarning: invalid value encountered in divide\n",
      "  c /= stddev[None, :]\n"
     ]
    },
    {
     "data": {
      "text/plain": [
       "array([[       nan,        nan,        nan],\n",
       "       [       nan, 1.        , 0.64601675],\n",
       "       [       nan, 0.64601675, 1.        ]])"
      ]
     },
     "execution_count": 2,
     "metadata": {},
     "output_type": "execute_result"
    }
   ],
   "source": [
    "np.corrcoef(X, rowvar=False)"
   ]
  },
  {
   "cell_type": "code",
   "execution_count": 3,
   "id": "686caa7d-059d-4ca1-91d8-1ec0c8ab8399",
   "metadata": {},
   "outputs": [],
   "source": [
    "class OLS:\n",
    "    def fit(self, X, y):\n",
    "        self.beta_ = np.linalg.inv(X.T @ X) @ X.T @ y\n",
    "        return self\n",
    "\n",
    "    def predict(self, X):\n",
    "        return X @ self.beta_"
   ]
  },
  {
   "cell_type": "markdown",
   "id": "693374c0-d18a-4c2e-81fd-dab1f7601279",
   "metadata": {},
   "source": [
    "#### 1. $y$を$x_1$に回帰する\n",
    "\n",
    "$y = \\beta_0 + \\beta_1 x_1 + \\beta_2 z_2 + \\varepsilon$"
   ]
  },
  {
   "cell_type": "code",
   "execution_count": 4,
   "id": "0c953cb7-bb01-44fc-98e9-ba562fe1f878",
   "metadata": {},
   "outputs": [
    {
     "data": {
      "text/plain": [
       "array([9.98226817, 5.03640436, 6.80111723])"
      ]
     },
     "execution_count": 4,
     "metadata": {},
     "output_type": "execute_result"
    }
   ],
   "source": [
    "# 1. 𝑦 を 𝑥1 に回帰する\n",
    "OLS().fit(X, y).beta_"
   ]
  },
  {
   "cell_type": "markdown",
   "id": "f6c21163-916b-4f55-ad38-56e158b88557",
   "metadata": {},
   "source": [
    "#### 2. $y$を$\\tilde{x}_1$に回帰する\n",
    "\n",
    "ここで$\\tilde{x}_1$は$x_1$を$x_2$に回帰した残差\n"
   ]
  },
  {
   "cell_type": "code",
   "execution_count": 5,
   "id": "f968289c-7601-4aad-88be-bdc650847cd3",
   "metadata": {},
   "outputs": [
    {
     "data": {
      "text/plain": [
       "array([23.29878836,  5.03640436])"
      ]
     },
     "execution_count": 5,
     "metadata": {},
     "output_type": "execute_result"
    }
   ],
   "source": [
    "# 2. 𝑦 を 𝑥̃ 1 に回帰する\n",
    "X_ = X[:, [0, 2]] # x0, x2だけのX\n",
    "x1_res = x1 - OLS().fit(X_, x1).predict(X_)\n",
    "\n",
    "# 切片を付けた場合\n",
    "X_ = np.array([ x0, x1_res ]).T\n",
    "OLS().fit(X_, y).beta_"
   ]
  },
  {
   "cell_type": "code",
   "execution_count": 6,
   "id": "ce846b27-962e-4484-aa77-cb0d7c86b4f2",
   "metadata": {},
   "outputs": [
    {
     "data": {
      "text/plain": [
       "array([5.03640436])"
      ]
     },
     "execution_count": 6,
     "metadata": {},
     "output_type": "execute_result"
    }
   ],
   "source": [
    "# 切片を付けない場合\n",
    "OLS().fit(x1_res.reshape(-1, 1), y).beta_"
   ]
  },
  {
   "cell_type": "markdown",
   "id": "23065afb-30fe-48ec-8a7a-01abe8fd8b20",
   "metadata": {},
   "source": [
    "#### 3. $\\tilde{y}$を$\\tilde{x}_1$に回帰する\n",
    "\n",
    "ここで$\\tilde{y}$は$y$を$x_2$に回帰した残差"
   ]
  },
  {
   "cell_type": "code",
   "execution_count": 7,
   "id": "bd0da92a-ff16-469a-bafa-6dd4e47e9dbf",
   "metadata": {},
   "outputs": [
    {
     "data": {
      "text/plain": [
       "array([5.03640436])"
      ]
     },
     "execution_count": 7,
     "metadata": {},
     "output_type": "execute_result"
    }
   ],
   "source": [
    "# 3. 𝑦̃ を 𝑥̃ 1 に回帰する\n",
    "X_ = X[:, [0, 2]] # x0, x2だけのX\n",
    "y_res = y - OLS().fit(X_, y).predict(X_)\n",
    "\n",
    "# 切片を付けない場合\n",
    "OLS().fit(x1_res.reshape(-1, 1), y_res).beta_"
   ]
  },
  {
   "cell_type": "code",
   "execution_count": 8,
   "id": "c7496f48-657a-4681-8b18-6bedd3bffcee",
   "metadata": {},
   "outputs": [
    {
     "data": {
      "text/plain": [
       "array([8.32667268e-17, 5.03640436e+00])"
      ]
     },
     "execution_count": 8,
     "metadata": {},
     "output_type": "execute_result"
    }
   ],
   "source": [
    "# 切片を付けた場合\n",
    "X_ = np.array([ x0, x1_res ]).T\n",
    "OLS().fit(X_, y_res).beta_"
   ]
  },
  {
   "cell_type": "markdown",
   "id": "668f1358-ac50-4d57-bd0b-52f5f8bcbfc5",
   "metadata": {},
   "source": [
    "### partialling out\n",
    "\n",
    "OLS推定では説明変数と残差の共分散はゼロになる。\n",
    "\n",
    "$$\n",
    "y = \\beta_0 + \\beta_1 x_1 + \\cdots + \\beta_j x_j + \\cdots + \\beta_d x_d + \\varepsilon\n",
    "$$\n",
    "\n",
    "というモデルがあったとき、説明変数$x_j$を他のすべての説明変数に回帰すると、その残差$\\tilde{x}_j$は説明変数$x_j$の分散の情報を残す一方で他の説明変数とは無相関になる。\n",
    "\n",
    "したがって$y$をこの残差$\\tilde{x}_j$に回帰すると、その回帰係数$\\beta_j$は$y$に対する$x_j$の影響のみを示す。\n",
    "\n",
    "→他の変数の影響を排除（partialling out）できる"
   ]
  },
  {
   "cell_type": "markdown",
   "id": "6aee6849-cb09-4397-b29f-55f5319c6935",
   "metadata": {},
   "source": [
    "https://www.fbc.keio.ac.jp/~tyabu/keiryo/fwl.pdf"
   ]
  },
  {
   "cell_type": "markdown",
   "id": "4ed1d698-471a-4e17-9d7d-8a0d9a41a4ff",
   "metadata": {},
   "source": [
    "[[2307.00369] The Yule-Frisch-Waugh-Lovell Theorem](https://arxiv.org/abs/2307.00369)\n"
   ]
  },
  {
   "cell_type": "markdown",
   "id": "cb0167cc-4420-498f-be1c-0b949b6a31bf",
   "metadata": {},
   "source": [
    "## FWL定理の応用\n",
    "\n",
    "### データの可視化\n",
    "\n",
    "元のモデルに$d$次元の説明変数があったとしても、$\\tilde{x}_j$と$y$の関係へと次元を削減することができるため、グラフに表示しやすい。\n",
    "\n",
    "### 計算の高速化\n",
    "\n",
    "[PyHDFE](https://pyhdfe.readthedocs.io/en/stable/index.html)パッケージのような高次元データの分析において活用されているらしい\n",
    "\n",
    "### 統計的因果推論\n",
    "\n",
    "> I am referring to the work on post-double selection by Belloni, Chernozhukov, Hansen (2013) and the follow up work on “double machine learning” by Chernozhukov, Chetverikov, Demirer, Duflo, Hansen, Newey, Robins (2018).\n",
    "\n",
    "- [Belloni et al. (2014)](https://academic.oup.com/restud/article-abstract/81/2/608/1523757?login=false)のpost-double selection\n",
    "- Chernozhukov et al. (2018)の[Double/debiased machine learning](https://academic.oup.com/ectj/article/21/1/C1/5056401?login=false)\n"
   ]
  },
  {
   "cell_type": "markdown",
   "id": "45e1dcc7-0233-4b3c-bac4-255c9acbf311",
   "metadata": {},
   "source": [
    "## References\n",
    "\n",
    "- http://www2.kobe-u.ac.jp/~kawabat/ch03j_wooldridge.pdf\n",
    "- [Understanding the Frisch-Waugh-Lovell Theorem | by Matteo Courthoud | Towards Data Science](https://towardsdatascience.com/the-fwl-theorem-or-how-to-make-all-regressions-intuitive-59f801eb3299)\n",
    "\n",
    "FWL\n",
    "- Frisch, R., & Waugh, F. V. (1933). [Partial time regressions as compared with individual trends](https://www.jstor.org/stable/1907330). Econometrica: Journal of the Econometric Society, 387-401.\n",
    "- Lovell, M. C. (1963). [Seasonal adjustment of economic time series and multiple regression analysis](https://www.tandfonline.com/doi/abs/10.1080/01621459.1963.10480682). Journal of the American Statistical Association, 58(304), 993-1010.\n"
   ]
  },
  {
   "cell_type": "markdown",
   "id": "0336a49b-1bbf-4485-841c-8d00527ac3b9",
   "metadata": {},
   "source": [
    "## （考察）再帰的なpartialling outで任意のパラメータを任意の次元で推定できないか？\n",
    "\n",
    "→ できなかった\n",
    "\n",
    "うまくいってAdditive modelとのつながりが見えれば面白かったんだが"
   ]
  },
  {
   "cell_type": "code",
   "execution_count": 9,
   "id": "0ddc2940-b387-45e8-960a-58ed96da425b",
   "metadata": {},
   "outputs": [],
   "source": [
    "import numpy as np\n",
    "\n",
    "n = 1000\n",
    "np.random.seed(0)\n",
    "x0 = np.ones(shape=(n, ))\n",
    "x2 = np.random.uniform(0, 1, size=n)\n",
    "x3 = np.random.uniform(0, 1, size=n)\n",
    "x1 = x2 + x3 + np.random.normal(0, 1, size=n)\n",
    "X = np.array([ x0, x1, x2, x3 ]).T\n",
    "e = np.random.normal(0, 1, size=n)\n",
    "\n",
    "beta = np.array([10, 5, 7, 3])  # 真のbeta\n",
    "y = X @ beta + e"
   ]
  },
  {
   "cell_type": "code",
   "execution_count": 11,
   "id": "ae08425d-881e-4501-a431-87c1891d3325",
   "metadata": {},
   "outputs": [],
   "source": [
    "class OLS:\n",
    "    def fit(self, X, y):\n",
    "        self.beta_ = np.linalg.inv(X.T @ X) @ X.T @ y\n",
    "        return self\n",
    "\n",
    "    def predict(self, X):\n",
    "        return X @ self.beta_"
   ]
  },
  {
   "cell_type": "markdown",
   "id": "b923919a-0e11-4e3d-bc99-ed0d0da94240",
   "metadata": {},
   "source": [
    "#### 1. $y$を$x_1$に回帰する\n",
    "\n",
    "$y = \\beta_0 + \\beta_1 x_1 + \\beta_2 z_2 + \\varepsilon$"
   ]
  },
  {
   "cell_type": "code",
   "execution_count": 12,
   "id": "b04d1de5-3586-4b76-aaff-8f58c42febec",
   "metadata": {},
   "outputs": [
    {
     "data": {
      "text/plain": [
       "array([9.95538609, 5.03200117, 6.87766976, 3.05740035])"
      ]
     },
     "execution_count": 12,
     "metadata": {},
     "output_type": "execute_result"
    }
   ],
   "source": [
    "# 1. 𝑦 を 𝑥1 に回帰する\n",
    "OLS().fit(X, y).beta_"
   ]
  },
  {
   "cell_type": "markdown",
   "id": "6ff36279-5dac-4ee0-9c80-89777df87fde",
   "metadata": {},
   "source": [
    "#### 2. $y$を$\\tilde{x}_1$に回帰する\n",
    "\n",
    "ここで$\\tilde{x}_1$は$x_1$を残りの説明変数に回帰した残差\n",
    "\n",
    "$$\n",
    "\\tilde{x}_1 = x_1 - (\\hat{\\beta}_0 + \\hat{\\beta}_2 x_2 + \\hat{\\beta}_3 x_3)\n",
    "$$\n"
   ]
  },
  {
   "cell_type": "code",
   "execution_count": 41,
   "id": "bb40e6a9-1dce-4e44-8baf-e8ad0242af7f",
   "metadata": {},
   "outputs": [
    {
     "data": {
      "text/plain": [
       "array([5.03200117])"
      ]
     },
     "execution_count": 41,
     "metadata": {},
     "output_type": "execute_result"
    }
   ],
   "source": [
    "# 2. 𝑦 を 𝑥̃ 1 に回帰する\n",
    "X_ = X[:, [0, 2, 3]]\n",
    "x1_res = x1 - OLS().fit(X_, x1).predict(X_)\n",
    "\n",
    "\n",
    "# 切片を付けない場合\n",
    "OLS().fit(x1_res.reshape(-1, 1), y).beta_"
   ]
  },
  {
   "cell_type": "code",
   "execution_count": 42,
   "id": "843441fc-7499-4185-ac37-6f4f0e468902",
   "metadata": {},
   "outputs": [
    {
     "data": {
      "text/plain": [
       "<matplotlib.collections.PathCollection at 0x7ff0340d5430>"
      ]
     },
     "execution_count": 42,
     "metadata": {},
     "output_type": "execute_result"
    },
    {
     "data": {
      "image/png": "[encoded data removed]",
      "text/plain": [
       "<Figure size 640x480 with 1 Axes>"
      ]
     },
     "metadata": {},
     "output_type": "display_data"
    }
   ],
   "source": [
    "import matplotlib.pyplot as plt\n",
    "plt.scatter(x1_res, x1)"
   ]
  },
  {
   "cell_type": "code",
   "execution_count": 44,
   "id": "80d83ceb-b72a-4fad-b071-349ff00903ca",
   "metadata": {},
   "outputs": [
    {
     "data": {
      "text/plain": [
       "0.933"
      ]
     },
     "execution_count": 44,
     "metadata": {},
     "output_type": "execute_result"
    }
   ],
   "source": [
    "from scipy.stats import pearsonr\n",
    "pearsonr(x1_res, x1).statistic.round(3)"
   ]
  },
  {
   "cell_type": "markdown",
   "id": "04ca8691-328a-436c-a541-d9d8d1498500",
   "metadata": {},
   "source": [
    "説明変数1つずつでpartialling outできないか？\n",
    "\n",
    "1. $\\tilde{x}_1 = x_1 - \\hat{\\beta}_0 x_0$\n",
    "2. $\\tilde{x}_1 = \\tilde{x}_1 - \\hat{\\beta}_2 x_2$\n",
    "3. $\\tilde{x}_1 = \\tilde{x}_1 - \\hat{\\beta}_3 x_3$\n"
   ]
  },
  {
   "cell_type": "markdown",
   "id": "d1762123-217f-4203-9acf-4cf6a2dbdeae",
   "metadata": {},
   "source": [
    "for all nuisance parameter indices $j \\in J$\n",
    "\n",
    "1. $\\newcommand{\\argmin}{\\mathop{\\arg\\min}} \\hat{\\beta}_j = \\argmin_{\\beta_j} E[(y - \\beta_j x_j)^2]$\n",
    "2. $\\tilde{x}_j = y - \\hat{\\beta}_j x_j$"
   ]
  },
  {
   "cell_type": "code",
   "execution_count": 58,
   "id": "09029ddb-b3ac-450e-a6fa-04f5129e1cf4",
   "metadata": {},
   "outputs": [
    {
     "name": "stdout",
     "output_type": "stream",
     "text": [
      "corr(x1_res, x1): 1.000\n",
      "beta1           : 5.750\n",
      "corr(x1_res, x1): 0.998\n",
      "beta1           : 3.435\n",
      "corr(x1_res, x1): 0.998\n",
      "beta1           : 2.925\n"
     ]
    },
    {
     "data": {
      "text/plain": [
       "array([2.92542108])"
      ]
     },
     "execution_count": 58,
     "metadata": {},
     "output_type": "execute_result"
    }
   ],
   "source": [
    "# 2. 𝑦 を 𝑥̃ 1 に回帰する\n",
    "x1_res = x1.copy()\n",
    "nuisance_indices = [0, 2, 3]\n",
    "for i in nuisance_indices:\n",
    "    X_ = X[:, [i]]\n",
    "    x1_res = x1_res - OLS().fit(X_, x1_res).predict(X_)\n",
    "    print(f\"corr(x1_res, x1): {pearsonr(x1_res, x1).statistic:.3f}\")\n",
    "    print(f\"beta1           : {OLS().fit(x1_res.reshape(-1, 1), y).beta_[0]:.3f}\")\n",
    "\n",
    "OLS().fit(x1_res.reshape(-1, 1), y).beta_"
   ]
  },
  {
   "cell_type": "code",
   "execution_count": 61,
   "id": "27c99300-d357-47a9-b25d-152ab7a1f554",
   "metadata": {},
   "outputs": [
    {
     "name": "stdout",
     "output_type": "stream",
     "text": [
      "corr(x1_res, x1): 0.887\n",
      "beta1           : 7.193\n",
      "corr(x1_res, x1): 0.876\n",
      "beta1           : 2.998\n",
      "corr(x1_res, x1): 0.876\n",
      "beta1           : 4.613\n"
     ]
    },
    {
     "data": {
      "text/plain": [
       "array([4.61310126])"
      ]
     },
     "execution_count": 61,
     "metadata": {},
     "output_type": "execute_result"
    }
   ],
   "source": [
    "# 2. 𝑦 を 𝑥̃ 1 に回帰する\n",
    "x1_res = x1.copy()\n",
    "nuisance_indices = [0, 2, 3]\n",
    "for i in nuisance_indices[::-1]:\n",
    "    X_ = X[:, [i]]\n",
    "    x1_res = x1_res - OLS().fit(X_, x1_res).predict(X_)\n",
    "    print(f\"corr(x1_res, x1): {pearsonr(x1_res, x1).statistic:.3f}\")\n",
    "    print(f\"beta1           : {OLS().fit(x1_res.reshape(-1, 1), y).beta_[0]:.3f}\")\n",
    "\n",
    "OLS().fit(x1_res.reshape(-1, 1), y).beta_"
   ]
  },
  {
   "cell_type": "code",
   "execution_count": null,
   "id": "d6f443b9-0e59-48fd-a9d7-7dc2a70a2530",
   "metadata": {},
   "outputs": [],
   "source": []
  }
 ],
 "metadata": {
  "kernelspec": {
   "display_name": "Python 3 (ipykernel)",
   "language": "python",
   "name": "python3"
  },
  "language_info": {
   "codemirror_mode": {
    "name": "ipython",
    "version": 3
   },
   "file_extension": ".py",
   "mimetype": "text/x-python",
   "name": "python",
   "nbconvert_exporter": "python",
   "pygments_lexer": "ipython3",
   "version": "3.10.13"
  }
 },
 "nbformat": 4,
 "nbformat_minor": 5
}
