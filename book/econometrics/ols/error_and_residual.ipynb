{
 "cells": [
  {
   "cell_type": "markdown",
   "id": "c349ce81-d18b-49b3-b2ec-2fbd3f24de3d",
   "metadata": {},
   "source": [
    "# 誤差項と残差の違い"
   ]
  },
  {
   "cell_type": "markdown",
   "id": "6d0bec14-34be-43a1-9089-457b732c66fa",
   "metadata": {},
   "source": [
    "## 誤差項は母集団レベル、残差は標本レベルの話\n",
    "\n",
    "- 誤差は、母回帰関数の線形回帰モデル$Y_i = \\beta_0 + \\beta_1 X_i + u_i$の誤差項$u_i$\n",
    "- 残差は、標本から推定した線形回帰モデル$Y_i = \\hat{\\beta}_0 + \\hat{\\beta}_1 X_i + e_i$の残差$e_i$"
   ]
  },
  {
   "cell_type": "markdown",
   "id": "3e00c3f5-2be8-4f5f-b344-513211b48741",
   "metadata": {},
   "source": [
    "> 「誤差」と、この章で出てきた「残差」は似ているように見えますが、異なる意味を持ちます。「誤差」は求めようとする真の回帰式から算出される値と実際のデータとの差を表します。真の回帰式はあくまでも理論的なものであるため、誤差を計算で求めることはできません。一方の「残差」は実際のデータを用いて推定された回帰式から算出される値と実際のデータとの差を表します。誤差とは異なり残差は計算で求められます。\n",
    "> \n",
    ">\n",
    "> [27-4. 予測値と残差 | 統計学の時間 | 統計WEB](https://bellcurve.jp/statistics/course/9704.html)"
   ]
  },
  {
   "cell_type": "markdown",
   "id": "e4b91027-665a-4458-8c0d-20c841e028ac",
   "metadata": {},
   "source": [
    "## 標本の残差は説明変数に直交する\n",
    "\n",
    "線形回帰モデル\n",
    "\n",
    "$$\n",
    "Y = X \\beta + u\n",
    "$$\n",
    "\n",
    "を想定する。ここで$u$は誤差項（母集団レベルでの残差）である。\n",
    "\n",
    "\n",
    "OLS推定量$\\hat{\\beta}$を用いて得た（標本レベルの）残差$\\hat{u} = y - X \\hat{\\beta}$には以下の関係がある。\n",
    "\n",
    "$$\n",
    "\\begin{align}\n",
    "\\hat{u}\n",
    "&= y - X \\beta\\\\\n",
    "&= y - X(X^TX)^{-1}X^Ty\\\\\n",
    "&= [I - X(X^TX)^{-1}X^T] y\\\\\n",
    "&= M y\n",
    "\\end{align}\n",
    "$$\n",
    "\n",
    "ここで\n",
    "\n",
    "$$\n",
    "M = I - X(X^TX)^{-1}X^Ty\n",
    "$$\n",
    "\n",
    "であり、$M$は\n",
    "\n",
    "1. 対称$M^T = M$\n",
    "2. 冪等$M^2 = M$\n",
    "\n",
    "という性質をもつ（このように対称で冪等な行列を **直交射影行列** という。[参考](https://manabitimes.jp/math/2486)）\n",
    "\n",
    "\n",
    "$M$は$X$と直交しており、$MX = O= X^TM$である。そのため$\\hat{u} = My$に$y=X\\beta + u$を代入すると\n",
    "\n",
    "$$\n",
    "\\hat{u} = M(X\\beta + u) = \\underbrace{MX}_{=O} \\beta + Mu = Mu\n",
    "$$\n",
    "\n",
    "であるため、\n",
    "\n",
    "$$\n",
    "X^T \\hat{u} = X^T Mu = \\boldsymbol{0}\n",
    "$$\n",
    "\n",
    "となる。\n",
    "\n",
    "\n",
    "モデルに定数項がある、つまり$X$のうちすべての要素が1となっている列$j$がある場合、$\\boldsymbol{0}$の$j$番目の要素は$\\sum_{i=1}^n x_{ij} \\hat{u}_i = \\sum_{i=1}^n \\hat{u}_i$、つまり残差の和は0ということになる。\n",
    "\n",
    "$j$列目の説明変数$X_j$と残差$\\hat{u}$の共分散$\\mathrm{Cov}(X_j, \\hat{u}) = E[X_j \\hat{u}] - E[X_j] E[\\hat{u}]$の標本対応は\n",
    "\n",
    "$$\n",
    "\\begin{align}\n",
    "\\hat{\\mathrm{Cov}}(X_j, \\hat{u})\n",
    "&= \\frac{1}{n} \\sum_{i=1}^n X_{ij} \\hat{u}_i\n",
    "- \\left( \\frac{1}{n} \\sum_{i=1}^n X_{ij} \\right)\n",
    "\\left( \\frac{1}{n} \\sum_{i=1}^n \\hat{u}_i \\right)\\\\\n",
    "\\end{align}\n",
    "$$\n",
    "\n",
    "$\\sum_{i=1}^n \\hat{u}_i = 0$であり、$\\sum_{i=1}^n X_{ij} \\hat{u}_i = 0$なので、共分散はゼロになる\n",
    "\n",
    "\n",
    "→ 推定量を用いた標本レベルでの残差から説明変数の外生性を確認することはできない\n"
   ]
  },
  {
   "cell_type": "code",
   "execution_count": null,
   "id": "8f7083a5-0d6e-4e2e-9686-9ede0ef9e3d2",
   "metadata": {},
   "outputs": [],
   "source": []
  }
 ],
 "metadata": {
  "kernelspec": {
   "display_name": "Python 3 (ipykernel)",
   "language": "python",
   "name": "python3"
  },
  "language_info": {
   "codemirror_mode": {
    "name": "ipython",
    "version": 3
   },
   "file_extension": ".py",
   "mimetype": "text/x-python",
   "name": "python",
   "nbconvert_exporter": "python",
   "pygments_lexer": "ipython3",
   "version": "3.10.15"
  }
 },
 "nbformat": 4,
 "nbformat_minor": 5
}
