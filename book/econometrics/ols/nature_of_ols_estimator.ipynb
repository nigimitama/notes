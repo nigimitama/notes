{
 "cells": [
  {
   "cell_type": "markdown",
   "id": "c79912b4-7edf-42a9-82a3-297d13bd6110",
   "metadata": {},
   "source": [
    "# OLS推定量の性質"
   ]
  },
  {
   "cell_type": "markdown",
   "id": "0712739e-9252-4415-9080-99a2591b2fdf",
   "metadata": {},
   "source": [
    "## CEFの性質\n",
    "\n",
    "### CEF分解の性質\n",
    "\n",
    "従属変数$y$、$d \\times 1$の説明変数ベクトル$X = (x_{1}, \\dots, x_{d})$を扱うこととする。\n",
    "\n",
    "任意の確率変数$y$は$X$の条件付き期待値関数（conditional expectation function: CEF）$E[y|X]$と、それと直交する項$e$とに分解できる\n",
    "\n",
    "（＝Xによって説明される部分とXと無相関の部分とに分解できる）\n",
    "\n",
    "$$\n",
    "y = E[y|X] + e\n",
    "$$\n",
    "\n",
    "ここで\n",
    "\n",
    "1. $e$は$X$と平均独立$E[e|X]=0$\n",
    "2. $e$は$X$のいかなる関数とも無相関\n",
    "\n",
    "である\n",
    "\n",
    "\n",
    "**証明**\n",
    "\n",
    "1. $E[e|X]=E[y-E[y|X]|X]=E[y|X] - E[y|X] = 0$\n",
    "2. $h(X)$を$X$の任意の関数とする。繰り返し期待値の法則$E_x[E[Y|X]]=E[Y]$より$E[h(X)e]=E[h(X) E[e|X]]$で、平均独立$E[e|X]=0$より$E[h(X)e]=0$"
   ]
  },
  {
   "cell_type": "markdown",
   "id": "197a9084-97d2-43e5-b8c7-41cc44a276f0",
   "metadata": {},
   "source": [
    "### 二条誤差における最良の回帰関数\n",
    "\n",
    "$m(X)$を$X$の任意の関数とする。CEFは予測誤二乗和の最小化問題の解である。\n",
    "\n",
    "$$\n",
    "E[y|X] = \\arg \\min_{m(X)} E[(y-m(X))^2]\n",
    "$$"
   ]
  },
  {
   "cell_type": "markdown",
   "id": "9ec790a3-f032-4508-bc3d-128e136acd99",
   "metadata": {},
   "source": [
    "## \n",
    "\n",
    "線形CEF定理\n"
   ]
  },
  {
   "cell_type": "code",
   "execution_count": null,
   "id": "1fd91491-608b-482a-ab45-5077b069dd79",
   "metadata": {},
   "outputs": [],
   "source": []
  },
  {
   "cell_type": "markdown",
   "id": "bd14bd9a-63ee-42af-a33c-71a595355ffe",
   "metadata": {},
   "source": [
    "## FWL定理"
   ]
  },
  {
   "cell_type": "code",
   "execution_count": 10,
   "id": "46790505-4164-4678-8775-fe44e36b32c0",
   "metadata": {},
   "outputs": [],
   "source": [
    "import numpy as np\n",
    "import matplotlib.pyplot as plt\n",
    "\n",
    "np.random.seed(0)\n",
    "true_beta = np.array([3, 5, 7])\n",
    "d = len(coef_true)\n",
    "n = 100\n",
    "X = np.random.uniform(size=n * d).reshape(-1, d)\n",
    "y = X @ true_beta + np.random.normal(size=n)"
   ]
  },
  {
   "cell_type": "code",
   "execution_count": 20,
   "id": "a96800cc-85f5-4e2f-9eec-749d6a7e06d4",
   "metadata": {},
   "outputs": [
    {
     "data": {
      "text/plain": [
       "array([2.56721661, 4.94832955, 7.22025893])"
      ]
     },
     "execution_count": 20,
     "metadata": {},
     "output_type": "execute_result"
    }
   ],
   "source": [
    "class OLS:\n",
    "    def fit(self, X, y):\n",
    "        self.beta_ = np.linalg.inv(X.T @ X) @ X.T @ y\n",
    "        return self\n",
    "\n",
    "    def predict(self, X):\n",
    "        return X @ self.beta_\n",
    "\n",
    "model = OLS()\n",
    "model.fit(X, y)\n",
    "model.beta_"
   ]
  },
  {
   "cell_type": "markdown",
   "id": "536cbbc6-e0b9-4d49-8412-98374ad2ce69",
   "metadata": {},
   "source": [
    "\n",
    "$x_j$をそれ以外の説明変数に回帰し\n",
    "\n",
    "$$\n",
    "x_j = \\gamma_0 + \\gamma_1 x_1 + \\cdots + \\gamma_{j-1} x_{j-1} + \\gamma_{j+1} x_{j+1} + \\cdots + \\gamma_d x_d + \\tilde{x}_j\n",
    "$$\n",
    "\n",
    "その残差$\\tilde{x}_j$を使って\n",
    "\n",
    "$$\n",
    "\\beta_j = \\frac\n",
    "{Cov(Y, \\tilde{x}_j)}\n",
    "{Var(\\tilde{x}_j)}\n",
    "$$\n",
    "\n",
    "のように$\\beta_j$を推定することができる"
   ]
  },
  {
   "cell_type": "code",
   "execution_count": 30,
   "id": "b3fb264a-b5fa-4e04-9fae-6b9f1bf71d77",
   "metadata": {},
   "outputs": [
    {
     "data": {
      "text/plain": [
       "array([0.35005087, 0.53528288])"
      ]
     },
     "execution_count": 30,
     "metadata": {},
     "output_type": "execute_result"
    }
   ],
   "source": [
    "model.fit(X[:, 1:3], X[:, 0])\n",
    "model.beta_"
   ]
  },
  {
   "cell_type": "code",
   "execution_count": 32,
   "id": "6d116e1d-d763-4784-ad3b-9fd3ace799d0",
   "metadata": {},
   "outputs": [
    {
     "data": {
      "text/plain": [
       "array([-0.02418807,  0.05084639, -0.39041088, -0.17681092,  0.20601426,\n",
       "       -0.36563531, -0.0502294 ,  0.21981341, -0.18246505,  0.54003402,\n",
       "       -0.25063503,  0.23124686, -0.10903475,  0.32203852,  0.31964041,\n",
       "        0.52798123, -0.11710549,  0.03799755, -0.19718749, -0.04077773,\n",
       "       -0.23098932, -0.12800315,  0.33846528, -0.49657305,  0.36931925,\n",
       "       -0.12414819,  0.0843685 ,  0.02113964,  0.19361591, -0.60510641,\n",
       "        0.01439223,  0.51696115,  0.13575687, -0.37710544,  0.26522578,\n",
       "        0.06259589, -0.34976755,  0.44234243,  0.20336118, -0.09807966,\n",
       "        0.03799004,  0.17102746, -0.43975292, -0.15577178, -0.27403238,\n",
       "        0.04018249,  0.02117883, -0.26244433,  0.50614744,  0.13479612,\n",
       "       -0.24141967,  0.11829199,  0.3901465 , -0.41774219, -0.10340225,\n",
       "        0.65901272,  0.39100947, -0.02558537,  0.53045183,  0.66445758,\n",
       "       -0.36183548, -0.41777507, -0.06168752,  0.0602216 , -0.54025425,\n",
       "        0.27469945, -0.26093776,  0.46797235, -0.36252938, -0.21410597,\n",
       "        0.55947956, -0.14985363, -0.1291308 ,  0.14375786, -0.1051827 ,\n",
       "        0.59677821,  0.55560326,  0.01817855, -0.14147823,  0.05229564,\n",
       "        0.5457693 , -0.33087323,  0.42372952, -0.13982339,  0.0195092 ,\n",
       "       -0.42273305,  0.73075836, -0.40301839,  0.24426778,  0.30407443,\n",
       "        0.48966302,  0.37230869,  0.32414815,  0.31729101,  0.42737496,\n",
       "       -0.45161281,  0.07624642, -0.2525051 ,  0.38042213,  0.00730186])"
      ]
     },
     "execution_count": 32,
     "metadata": {},
     "output_type": "execute_result"
    }
   ],
   "source": [
    "residual = X[:, 0] - model.predict(X[:, 1:3])\n",
    "residual"
   ]
  },
  {
   "cell_type": "code",
   "execution_count": 38,
   "id": "3c9d285d-23ab-49ac-9253-75fd0ac6007c",
   "metadata": {},
   "outputs": [
    {
     "data": {
      "text/plain": [
       "-1.0835887765493208"
      ]
     },
     "execution_count": 38,
     "metadata": {},
     "output_type": "execute_result"
    }
   ],
   "source": [
    "np.cov(y, residual)[1, 0] / np.var(residual)"
   ]
  },
  {
   "cell_type": "code",
   "execution_count": 37,
   "id": "3bec1bd7-4ae0-43e9-8a53-16232ecb1a1c",
   "metadata": {},
   "outputs": [
    {
     "data": {
      "text/plain": [
       "-0.11300626235936785"
      ]
     },
     "execution_count": 37,
     "metadata": {},
     "output_type": "execute_result"
    }
   ],
   "source": []
  },
  {
   "cell_type": "code",
   "execution_count": null,
   "id": "815a452b-5dd6-42a8-94f8-7f2767bc8346",
   "metadata": {},
   "outputs": [],
   "source": []
  }
 ],
 "metadata": {
  "kernelspec": {
   "display_name": "Python 3 (ipykernel)",
   "language": "python",
   "name": "python3"
  },
  "language_info": {
   "codemirror_mode": {
    "name": "ipython",
    "version": 3
   },
   "file_extension": ".py",
   "mimetype": "text/x-python",
   "name": "python",
   "nbconvert_exporter": "python",
   "pygments_lexer": "ipython3",
   "version": "3.9.16"
  }
 },
 "nbformat": 4,
 "nbformat_minor": 5
}
