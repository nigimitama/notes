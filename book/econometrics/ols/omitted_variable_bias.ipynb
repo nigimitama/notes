{
 "cells": [
  {
   "cell_type": "markdown",
   "id": "6d679c7d-15dc-4f14-afac-1d5a12f8a36f",
   "metadata": {},
   "source": [
    "# 欠落変数バイアス\n",
    "\n",
    "線形回帰モデルに含めるべき説明変数を含めず、外生性の仮定が満たされない場合に生じるバイアスのことを **欠落変数バイアス（omitted variable bias）** という。\n"
   ]
  },
  {
   "cell_type": "markdown",
   "id": "06c3f5f0-3c1e-4701-8c56-915242aedb59",
   "metadata": {},
   "source": [
    "## 背景\n",
    "\n",
    "### 外生性\n",
    "\n",
    "単回帰モデル$Y = \\alpha + \\beta X + u$を例にとる。\n",
    "\n",
    ":::{admonition} 外生性\n",
    "\n",
    "説明変数$X$と誤差項$u$が\n",
    "\n",
    "$$\n",
    "E(u | X) = 0\n",
    "$$\n",
    "\n",
    "を満たすとき、$X$は外生変数であるという。\n",
    "\n",
    "また、$X$が外生変数であるならば、\n",
    "\n",
    "$$\n",
    "E(u) = 0, E(X, u) = 0\n",
    "$$\n",
    "\n",
    "と、説明変数$X$と誤差項$u$の無相関\n",
    "\n",
    "$$\n",
    "\\operatorname{Cov}(X, u) = 0\n",
    "$$\n",
    "\n",
    "が成り立つ\n",
    "\n",
    ":::\n",
    "\n",
    ":::{dropdown} 証明\n",
    "$$\n",
    "E(X u) = E_{X}[ E(X u | X) ] = E_{X}[ X \\underbrace{ E(u|X) }_{ =0 } ] = E_{X}(X\\cdot 0) = 0\n",
    "\\\\\n",
    "E(u) = E_{X}[ \\underbrace{ E(u|X) }_{ =0 } ] = 0\n",
    "$$\n",
    "\n",
    "\n",
    "$$\n",
    "\\operatorname{Cov}(X, u)\n",
    "= \\underbrace{ E(X u) }_{ =0 } - E(X) \\underbrace{ E(u) }_{ =0 }\n",
    "= 0\n",
    "$$\n",
    "\n",
    ":::\n",
    "\n",
    "\n",
    "### OLS推定量の一致性\n",
    "\n",
    "単回帰モデル $Y=\\alpha+\\beta X+u$ は両辺を$X$と共分散をとると\n",
    "\n",
    "$$\n",
    "\\begin{aligned}\n",
    "\\operatorname{Cov}(X, Y)\n",
    "&= \\operatorname{Cov}(X, \\alpha + \\beta X + u)\\\\\n",
    "&= \\underbrace{ \\operatorname{Cov}(X, \\alpha) }_{定数との共分散 → 0}\n",
    "+ \\beta  \\underbrace{ \\operatorname{Cov}(X, X) }_{=\\operatorname{Var}(X) }\n",
    "+\\operatorname{Cov}(X, u) \\\\\n",
    "&= \\beta \\operatorname{Var}(X) + \\operatorname{Cov}(X, u)\\\\\n",
    "\\end{aligned}\n",
    "$$\n",
    "\n",
    "傾き係数のOLS推定量に代入すると\n",
    "\n",
    "$$\n",
    "\\begin{aligned}\n",
    "\\hat{\\beta} &= \\frac{\\operatorname{Cov}(X, Y)}{\\operatorname{Var}(X)}\\\\\n",
    "&= \\frac{ \\beta \\operatorname{Var}(X) + \\operatorname{Cov}(X, u) }{\\operatorname{Var}(X)}\\\\\n",
    "&= \\beta + \\frac{\\operatorname{Cov}(X, u)}{\\operatorname{Var}(X)}\n",
    "\\end{aligned}\n",
    "$$\n",
    "\n",
    "という形に整理できる。\n",
    "\n",
    "\n",
    "$X$が外生変数のとき、$\\operatorname{Cov}(X, u) = 0$より\n",
    "\n",
    "\n",
    "$$\n",
    "\\hat{\\beta} = \\beta + \\frac{ \\overbrace{\\operatorname{Cov}(X, u)}^{=0}  }{\\operatorname{Var}(X)}\n",
    "= \\beta\n",
    "$$\n",
    "\n",
    "となり、OLS推定量$\\hat{\\beta}$と真のパラメータ$\\beta$は一致する。\n"
   ]
  },
  {
   "cell_type": "markdown",
   "id": "92a59622-d514-4711-966a-7c213be7a776",
   "metadata": {},
   "source": [
    "## 欠落変数バイアス\n",
    "\n",
    "単回帰モデル\n",
    "\n",
    "$$\n",
    "Y=\\alpha+\\beta X+u\n",
    "$$\n",
    "\n",
    "を構築することを考える。\n",
    "\n",
    "説明変数は$X$のみであるため、それ以外の$Y$の変動は$u$に含まれることになる。\n",
    "\n",
    "もし、ある変数$Z$があり$Y$に影響を与えているとすると、$u$には$Z$が含まれていることになる。\n",
    "\n",
    "$$\n",
    "Y = \\alpha + \\beta X + \\underbrace{ u }_{Z + v}\n",
    "$$\n",
    "\n",
    "もし$Z$が$Y$に影響を与えているだけでなく、$X$にも影響を与えている（=$Z$は交絡因子）であるとすると、$X$は外生性を満たさない\n",
    "\n",
    "$$\n",
    "\\operatorname{Cov}(X, u) \\neq 0\n",
    "$$\n",
    "\n",
    "ということになる。そうなるとOLS推定量\n",
    "\n",
    "$$\n",
    "\\hat{\\beta} = \\beta + \\frac{\\operatorname{Cov}(X, u)}{\\operatorname{Var}(X)}\n",
    "$$\n",
    "\n",
    "は\n",
    "\n",
    "$$\n",
    "\\frac{\\operatorname{Cov}(X, u)}{\\operatorname{Var}(X)}\n",
    "$$\n",
    "\n",
    "の項が消えないため、その分真のパラメータからずれることになる\n"
   ]
  },
  {
   "cell_type": "markdown",
   "id": "a5c186cc-e431-41cb-9033-8ee8264506da",
   "metadata": {},
   "source": [
    "## 長いモデルと短いモデル\n",
    "\n",
    "結果変数$Y$、処置変数$D$と、$Y,D$に影響を与える共変量（交絡因子）$X$があるとし、各変数の間には線形の関係があるとする。\n",
    "\n",
    "処置の効果を正しく推定するためには共変量をモデルに含める必要があるため、正しいモデルは次の式の形になる（「長いモデル」ということでLとつけている）。\n",
    "\n",
    "$$\n",
    "Y = \\alpha^L + \\beta^L D + \\gamma^L X + \\varepsilon^L\n",
    "$$\n",
    "\n",
    "\n",
    "\n",
    "ここで$X$を説明変数に入れない「短いモデル」\n",
    "\n",
    "$$\n",
    "Y = \\alpha^S + \\beta^S D + \\varepsilon^S\n",
    "$$\n",
    "\n",
    "を構築した場合、処置効果$\\beta^S$はどう推定されるのだろうか。\n",
    "\n",
    "\n",
    "\n",
    "XをDに回帰する（Xの変動をDで説明する）モデルを立ててみる。\n",
    "\n",
    "$$\n",
    "X = \\alpha + \\beta D + \\varepsilon\n",
    "$$\n",
    "\n",
    "これを「長いモデル」に代入して整理すると、「短いモデル」との対応が見えてくる\n",
    "\n",
    "$$\n",
    "\\begin{align}\n",
    "Y &= \\alpha^L + \\beta^L D + \\gamma^L (\\alpha + \\beta D + \\varepsilon) + \\varepsilon^L \\\\\n",
    "&= \\alpha^L + \\gamma^L \\alpha + (\\beta^L + \\gamma^L \\beta) D  + \\gamma^L \\varepsilon + \\varepsilon^L \\\\\n",
    "&= \\underbrace{\\alpha^L + \\gamma^L \\alpha}_{\\alpha^S}\n",
    "  + \\underbrace{(\\beta^L + \\gamma^L \\beta)}_{\\beta^S} D\n",
    "  + \\underbrace{\\gamma^L \\varepsilon + \\varepsilon^L}_{\\varepsilon^S} \\\\\n",
    "\\end{align}\n",
    "$$\n",
    "\n",
    "\n",
    "「短いモデル」の$\\beta^S$は\n",
    "\n",
    "$$\n",
    "\\beta^S = \\beta^L + \\gamma^L \\beta\n",
    "$$\n",
    "\n",
    "であるため、正しいモデルの推定量$\\beta^L$から$\\gamma^L \\beta$の分だけズレることがわかる。"
   ]
  },
  {
   "cell_type": "markdown",
   "id": "4389bb9a-c9da-46e8-b116-fdfc58abc155",
   "metadata": {},
   "source": [
    "## 生成データで実験\n",
    "\n",
    "実際に回帰分析を行ってみる。乱数で生成する。"
   ]
  },
  {
   "cell_type": "code",
   "execution_count": null,
   "id": "f079993c-f12e-417f-a8dc-5d0de20fbc9a",
   "metadata": {
    "tags": [
     "hide-input"
    ]
   },
   "outputs": [
    {
     "name": "stdout",
     "output_type": "stream",
     "text": [
      "真の係数：α_L=3, β_L=5, γ_L=7\n"
     ]
    },
    {
     "data": {
      "text/html": [
       "<div>\n",
       "<style scoped>\n",
       "    .dataframe tbody tr th:only-of-type {\n",
       "        vertical-align: middle;\n",
       "    }\n",
       "\n",
       "    .dataframe tbody tr th {\n",
       "        vertical-align: top;\n",
       "    }\n",
       "\n",
       "    .dataframe thead th {\n",
       "        text-align: right;\n",
       "    }\n",
       "</style>\n",
       "<table border=\"1\" class=\"dataframe\">\n",
       "  <thead>\n",
       "    <tr style=\"text-align: right;\">\n",
       "      <th></th>\n",
       "      <th>Y</th>\n",
       "      <th>D</th>\n",
       "      <th>X</th>\n",
       "    </tr>\n",
       "  </thead>\n",
       "  <tbody>\n",
       "    <tr>\n",
       "      <th>0</th>\n",
       "      <td>12.968330</td>\n",
       "      <td>1</td>\n",
       "      <td>0.548814</td>\n",
       "    </tr>\n",
       "    <tr>\n",
       "      <th>1</th>\n",
       "      <td>11.926394</td>\n",
       "      <td>1</td>\n",
       "      <td>0.715189</td>\n",
       "    </tr>\n",
       "    <tr>\n",
       "      <th>2</th>\n",
       "      <td>11.071875</td>\n",
       "      <td>1</td>\n",
       "      <td>0.602763</td>\n",
       "    </tr>\n",
       "    <tr>\n",
       "      <th>3</th>\n",
       "      <td>11.376362</td>\n",
       "      <td>1</td>\n",
       "      <td>0.544883</td>\n",
       "    </tr>\n",
       "    <tr>\n",
       "      <th>4</th>\n",
       "      <td>5.467551</td>\n",
       "      <td>0</td>\n",
       "      <td>0.423655</td>\n",
       "    </tr>\n",
       "  </tbody>\n",
       "</table>\n",
       "</div>"
      ],
      "text/plain": [
       "           Y  D         X\n",
       "0  12.968330  1  0.548814\n",
       "1  11.926394  1  0.715189\n",
       "2  11.071875  1  0.602763\n",
       "3  11.376362  1  0.544883\n",
       "4   5.467551  0  0.423655"
      ]
     },
     "metadata": {},
     "output_type": "display_data"
    },
    {
     "data": {
      "image/png": "[encoded data removed]",
      "text/plain": [
       "<Figure size 448x336 with 1 Axes>"
      ]
     },
     "metadata": {},
     "output_type": "display_data"
    }
   ],
   "source": [
    "import numpy as np\n",
    "import pandas as pd\n",
    "import matplotlib.pyplot as plt\n",
    "import statsmodels.api as sm\n",
    "import statsmodels.formula.api as smf\n",
    "\n",
    "\n",
    "# generate data\n",
    "np.random.seed(0)\n",
    "\n",
    "n = 100\n",
    "X = np.random.uniform(low=0, high=1, size=n)\n",
    "\n",
    "# XがDと独立していれば共変量でないので欠落変数バイアスは生まれない\n",
    "# D = np.random.binomial(n=1, p=0.7, size=n)\n",
    "\n",
    "# XはDとYに影響を与える共変量であるため、xと処置確率が相関するとする\n",
    "D = np.array([np.random.binomial(n=1, p=x * 0.8) for x in X])\n",
    "\n",
    "epsilon_L = np.random.normal(size=n)\n",
    "alpha_L = 3\n",
    "beta_L = 5\n",
    "gamma_L = 7\n",
    "\n",
    "print(f\"真の係数：α_L={alpha_L}, β_L={beta_L}, γ_L={gamma_L}\")\n",
    "Y = alpha_L + beta_L * D + gamma_L * X + epsilon_L\n",
    "\n",
    "# data\n",
    "df = pd.DataFrame(dict(Y=Y, D=D, X=X))\n",
    "display(df.head())\n",
    "\n",
    "\n",
    "# plot\n",
    "fig, ax = plt.subplots(dpi=70)\n",
    "for d in np.unique(D):\n",
    "    ax.scatter(X[D == d], Y[D == d], label=f\"D == {d}\")\n",
    "ax.legend()\n",
    "ax.set(xlabel=\"X\", ylabel=\"Y\")\n",
    "fig.show()"
   ]
  },
  {
   "cell_type": "markdown",
   "id": "9373ff22-5d90-42a0-afbc-9263d6237caa",
   "metadata": {},
   "source": [
    "このデータからそれぞれのモデルを推定すると次のようになる。"
   ]
  },
  {
   "cell_type": "code",
   "execution_count": null,
   "id": "b27138c0-012f-4c3b-ac01-ad8a54009a1d",
   "metadata": {},
   "outputs": [
    {
     "name": "stdout",
     "output_type": "stream",
     "text": [
      "「長いモデル」の推定値：α_L=3.16, β_L=5.04, γ_L=6.43\n",
      "「短いモデル」の推定値：α_S=5.32, β_S=7.14\n",
      "XをDに回帰したモデルの推定値：α=0.34, β=0.327\n"
     ]
    }
   ],
   "source": [
    "# long model\n",
    "results = smf.ols('Y ~ D + X', data=df).fit()\n",
    "alpha_L_, beta_L_, gamma_L_ = results.params\n",
    "print(f\"「長いモデル」の推定値：α_L={alpha_L_:.2f}, β_L={beta_L_:.2f}, γ_L={gamma_L_:.2f}\")\n",
    "\n",
    "# short model\n",
    "results = smf.ols('Y ~ D', data=df).fit()\n",
    "alpha_S_, beta_S_ = results.params\n",
    "print(f\"「短いモデル」の推定値：α_S={alpha_S_:.2f}, β_S={beta_S_:.2f}\")\n",
    "\n",
    "# X ~ D\n",
    "results = smf.ols('X ~ D', data=df).fit()\n",
    "alpha_, beta_ = results.params\n",
    "print(f\"XをDに回帰したモデルの推定値：α={alpha_:.2f}, β={beta_:.3f}\")"
   ]
  },
  {
   "cell_type": "markdown",
   "id": "3e33b3db-a9f2-4985-ae46-5079a884df0b",
   "metadata": {},
   "source": [
    "3つのモデルの関係性は\n",
    "\n",
    "$$\n",
    "Y = \\underbrace{\\alpha^L + \\gamma^L \\alpha}_{\\alpha^S}\n",
    "  + \\underbrace{(\\beta^L + \\gamma^L \\beta)}_{\\beta^S} D\n",
    "  + \\underbrace{\\gamma^L \\varepsilon + \\varepsilon^L}_{\\varepsilon^S}\n",
    "$$\n",
    "\n",
    "だったので、推定値で同様に計算すると"
   ]
  },
  {
   "cell_type": "code",
   "execution_count": null,
   "id": "f37370b7-bb3a-4f11-89f0-e9abf057b4a2",
   "metadata": {},
   "outputs": [
    {
     "name": "stdout",
     "output_type": "stream",
     "text": [
      "\n",
      "α_Sの推定値 = 5.32\n",
      "β_Sの推定値 = 7.14\n",
      "β_Lとの差（欠落変数バイアス） = 2.10\n",
      "\n"
     ]
    }
   ],
   "source": [
    "estimated_alpha_S = (alpha_L_ + gamma_L_ * alpha_)\n",
    "estimated_beta_S = (beta_L_ + gamma_L_ * beta_)\n",
    "bias_beta_S = gamma_L_ * beta_\n",
    "\n",
    "print(f\"\"\"\n",
    "α_Sの推定値 = {estimated_alpha_S:.2f}\n",
    "β_Sの推定値 = {estimated_beta_S:.2f}\n",
    "β_Lとの差（欠落変数バイアス） = {bias_beta_S:.2f}\n",
    "\"\"\")"
   ]
  },
  {
   "cell_type": "markdown",
   "id": "9fd34e37-c0fd-4659-88ab-97c3ab9280b9",
   "metadata": {},
   "source": [
    "となり、「短いモデル」の推定値と同じものが得られた。また、「長いモデル」と比べたときの差（バイアス）も得られた"
   ]
  },
  {
   "cell_type": "markdown",
   "id": "4da1ca05-7803-4218-a1a3-941f183d6c6b",
   "metadata": {},
   "source": [
    "## 誤差項との関係\n",
    "\n",
    "$$\n",
    "\\varepsilon^S = \\gamma^L \\varepsilon + \\varepsilon^L\n",
    "$$\n",
    "\n",
    "「短いモデル」の誤差項は説明変数と相関がある"
   ]
  },
  {
   "cell_type": "code",
   "execution_count": null,
   "id": "2161776c-4aac-4f67-bf92-110aeec23a57",
   "metadata": {},
   "outputs": [
    {
     "data": {
      "image/png": "[encoded data removed]",
      "text/plain": [
       "<Figure size 576x216 with 2 Axes>"
      ]
     },
     "metadata": {},
     "output_type": "display_data"
    }
   ],
   "source": [
    "residuals_L = Y - smf.ols('Y ~ D + X', data=df).fit().predict(df)\n",
    "\n",
    "fig, ax = plt.subplots(figsize=[8, 3], ncols=2, dpi=72)\n",
    "ax[0].scatter(X, residuals_L)\n",
    "ax[0].set(xlabel=\"X\", ylabel=\"residual\")\n",
    "\n",
    "ax[1].scatter(D, residuals_L, alpha=.5)\n",
    "ax[1].set(xlabel=\"D\", ylabel=\"residual\")\n",
    "\n",
    "fig.suptitle(\"Residuals of the long model\")\n",
    "fig.show()"
   ]
  },
  {
   "cell_type": "code",
   "execution_count": null,
   "id": "6152ddff-b776-40fa-ad9a-7296627cb275",
   "metadata": {},
   "outputs": [
    {
     "data": {
      "image/png": "[encoded data removed]",
      "text/plain": [
       "<Figure size 576x216 with 2 Axes>"
      ]
     },
     "metadata": {},
     "output_type": "display_data"
    }
   ],
   "source": [
    "residuals_S = Y - smf.ols('Y ~ D', data=df).fit().predict(df)\n",
    "\n",
    "fig, ax = plt.subplots(figsize=[8, 3], ncols=2, dpi=72)\n",
    "ax[0].scatter(X, residuals_S)\n",
    "ax[0].set(xlabel=\"X\", ylabel=\"residual\")\n",
    "\n",
    "ax[1].scatter(D, residuals_S, alpha=.5)\n",
    "ax[1].set(xlabel=\"D\", ylabel=\"residual\")\n",
    "\n",
    "fig.suptitle(\"Residuals of the short model\")\n",
    "fig.show()"
   ]
  },
  {
   "cell_type": "markdown",
   "id": "7a8cb95b-c48f-4b03-ae9f-df993e69ce94",
   "metadata": {},
   "source": [
    "## 参考文献\n",
    "\n",
    "- [25. 重回帰分析（脱落変数バイアス・処置後変数バイアス）](http://www.ner.takushoku-u.ac.jp/masano/class_material/waseda/keiryo/R25_reg8_OBV.html)\n",
    "- 安井翔太. (2020). 効果検証入門: 正しい比較のための因果推論 計量経済学の基礎. Gijutsu hyōronsha.\n",
    "- 星野匡郎, 田中久稔, & 北川梨津. (2023). R による実証分析: 回帰分析から因果分析へ. 株式会社 オーム社.\n"
   ]
  },
  {
   "cell_type": "markdown",
   "id": "d63afae0-9021-40b8-ae02-cc996a618e1c",
   "metadata": {},
   "source": [
    "### 関連論文（積読リスト）\n",
    "- [[2302.06518] SelectionBias: An R Package for Bounding Selection Bias](https://arxiv.org/abs/2302.06518)\n",
    "  - RでSV boundsというバイアスの幅を推定するパッケージ\n",
    "- [[2208.00552] The Effect of Omitted Variables on the Sign of Regression Coefficients](https://arxiv.org/abs/2208.00552)"
   ]
  }
 ],
 "metadata": {
  "kernelspec": {
   "display_name": "Python 3 (ipykernel)",
   "language": "python",
   "name": "python3"
  },
  "language_info": {
   "codemirror_mode": {
    "name": "ipython",
    "version": 3
   },
   "file_extension": ".py",
   "mimetype": "text/x-python",
   "name": "python",
   "nbconvert_exporter": "python",
   "pygments_lexer": "ipython3",
   "version": "3.10.18"
  }
 },
 "nbformat": 4,
 "nbformat_minor": 5
}
