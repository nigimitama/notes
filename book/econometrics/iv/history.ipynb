{
 "cells": [
  {
   "cell_type": "markdown",
   "id": "e4254629-4236-475f-986a-a15db5133ad4",
   "metadata": {},
   "source": [
    "# 操作変数法の歴史\n",
    "\n",
    "確認されているなかで最も古い操作変数法に関する文献はフィリップ・ライト（Philip Wright）の本\n",
    "\n",
    "```\n",
    "Wright, P. G. (1928). The tariff on animal and vegetable oils.\n",
    "```\n",
    "\n",
    "の「補論B（Appendix B）」であるとされる。\n",
    "（Philip Wrightは経済学以外にも幅広く関心を持っている人物であったがこの本は経済学についての本である）\n",
    "\n",
    "需要と供給という相互に影響しあう関係（同時方程式）を解くための議論がなされている。"
   ]
  },
  {
   "cell_type": "markdown",
   "id": "27d72bae-5456-4302-8966-9aab4cb7c603",
   "metadata": {},
   "source": [
    "## 「Appendix B」は誰が書いたのか\n",
    "\n",
    "Wright (1928) はPhilipの息子のSewallの貢献もあると書かれており、「Appendix B」はSewallが書いたのではないかという仮説も存在する。\n",
    "Sewallは統計遺伝学者で、パス解析を提案した人物である。Appendix Bはパス係数を用いたIV推定量の導出も記載されているためそのような仮説が上がった。\n",
    "\n",
    "[Stock & Trebbi (2003)](https://pubs.aeaweb.org/doi/pdf/10.1257/089533003769204416)は頻出語などの分析によってPhilipが書いた可能性が高いことを報告している\n"
   ]
  },
  {
   "cell_type": "markdown",
   "id": "ff6f4b18-8988-43f9-aac6-8122ed6bc78c",
   "metadata": {},
   "source": [
    "## 参考文献\n",
    "\n",
    "- [Causal Inference The Mixtape - 7  Instrumental Variables](https://mixtape.scunning.com/07-instrumental_variables#history-of-instrumental-variables-father-and-son)\n",
    "- [Stock, J. H., & Trebbi, F. (2003). Retrospectives: Who invented instrumental variable regression?. Journal of Economic Perspectives, 17(3), 177-194.](https://pubs.aeaweb.org/doi/pdf/10.1257/089533003769204416)"
   ]
  },
  {
   "cell_type": "code",
   "execution_count": null,
   "id": "baa3814e-3305-4ff9-84e8-ba0008a9091b",
   "metadata": {},
   "outputs": [],
   "source": []
  }
 ],
 "metadata": {
  "kernelspec": {
   "display_name": "Python 3 (ipykernel)",
   "language": "python",
   "name": "python3"
  },
  "language_info": {
   "codemirror_mode": {
    "name": "ipython",
    "version": 3
   },
   "file_extension": ".py",
   "mimetype": "text/x-python",
   "name": "python",
   "nbconvert_exporter": "python",
   "pygments_lexer": "ipython3",
   "version": "3.9.17"
  }
 },
 "nbformat": 4,
 "nbformat_minor": 5
}
