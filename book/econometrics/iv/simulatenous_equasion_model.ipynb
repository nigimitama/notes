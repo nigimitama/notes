{
 "cells": [
  {
   "cell_type": "markdown",
   "id": "87e94576-ca4a-4d7c-adcc-a95101dbf9a6",
   "metadata": {},
   "source": [
    "# 同時方程式モデル\n",
    "\n",
    "$$\n",
    "y = \\alpha x\\\\\n",
    "x = \\beta y\n",
    "$$\n",
    "\n",
    "のような内生変数同士で影響を与えあっているモデルを同時方程式モデルという"
   ]
  },
  {
   "cell_type": "code",
   "execution_count": null,
   "id": "b1429568-a3ca-4574-ac70-e53709d30573",
   "metadata": {},
   "outputs": [],
   "source": []
  },
  {
   "cell_type": "markdown",
   "id": "468f32c8-111f-49e9-a10d-fae306a81a91",
   "metadata": {},
   "source": [
    "## 需要関数・供給関数の推定"
   ]
  },
  {
   "cell_type": "markdown",
   "id": "6696cc6f-be4f-4cbf-b1ff-0599dcf62cf5",
   "metadata": {},
   "source": [
    "\n",
    "\n",
    "経済学における需要関数とは「ある価格のもとでの買い手側の需要量を表す関数」であり、供給関数は「ある価格のもとでの売り手側の供給量を表す関数」である。\n",
    "\n",
    "実際に観測される価格は需給が一致した**均衡価格**であると考えられるため、単純に観測値に回帰分析をかければいいわけではない\n",
    "\n",
    "- 需要関数：$Q = \\alpha_0 + \\alpha_1 P + e$\n",
    "- 供給関数：$Q = \\beta_0 + \\beta_1 P + \\beta_2 Z + \\epsilon$\n",
    "\n",
    "というモデルをたてるとする。\n",
    "\n",
    "\n",
    "\n",
    "$$\n",
    "\\begin{align}\n",
    "Q &= \\alpha_0 + \\alpha_1 P + e\\\\\n",
    "Q &= \\beta_0 + \\beta_1 P + \\beta_2 Z + \\epsilon\n",
    "\\end{align}\n",
    "$$\n",
    "\n"
   ]
  },
  {
   "cell_type": "markdown",
   "id": "0e68e448-490d-46e5-8875-19d447aa3caa",
   "metadata": {},
   "source": [
    "Rの{systemfit}パッケージ：[systemfit: A Package for Estimating Systems of Simultaneous Equations in R](https://cran.r-project.org/web/packages/systemfit/vignettes/systemfit.pdf)"
   ]
  },
  {
   "cell_type": "markdown",
   "id": "ff968a2c-a4d7-495b-ba65-2f936331fde7",
   "metadata": {},
   "source": [
    "## 警察官の数と犯罪件数\n",
    "\n",
    "$$\n",
    "\\text{ crime } = \\alpha_0 + \\alpha_1 \\text{ police } + u\\\\\n",
    "\\text{ police } = \\beta_0 + \\beta_1 \\text{ crime } + v\\\\\n",
    "$$\n",
    "\n",
    "のような関係性を考えることができる\n",
    "\n",
    "Levitt (1997) は操作変数法を用いて警察の増強が犯罪件数に与える効果を導出した。市長選のタイミングに警官が増強されることに着目し、その年の市長選の有無を操作変数に利用した。\n",
    "\n",
    "[Levitt, S. D. (1997). Using electoral cycles in police hiring to estimate the effect of policeon crime.](http://home.cerge-ei.cz/gebicka/files/IV_Simultaneity.pdf)\n"
   ]
  },
  {
   "cell_type": "markdown",
   "id": "a9fb225c-6576-4cd5-8e95-c4ccba73b6ff",
   "metadata": {},
   "source": [
    "### 再現研究がある\n",
    "\n",
    "[Replication of Steven Levitt (AER, 1997), Justin McCrary 9/01](https://eml.berkeley.edu/replications/mccrary/index.html)\n",
    "\n",
    "> I point out that a weighting error in Levitt’s computer program led to incorrect inferences for the key results of his paper.\n",
    "\n",
    "- Levvitは重み付けが悪かった\n",
    "- "
   ]
  },
  {
   "cell_type": "code",
   "execution_count": null,
   "id": "77cd7003-7a09-459f-a6f6-20a9c5d25757",
   "metadata": {},
   "outputs": [],
   "source": []
  },
  {
   "cell_type": "markdown",
   "id": "32991e05-9d81-4b4d-9219-dbc893c84a00",
   "metadata": {},
   "source": [
    "## 歴史\n",
    "\n",
    "[菊池進『同時方程式モデルとその計測方法の展開について』](https://core.ac.uk/download/pdf/293155751.pdf)"
   ]
  },
  {
   "cell_type": "code",
   "execution_count": null,
   "id": "97276691-94dd-4b43-84b7-028872958d55",
   "metadata": {},
   "outputs": [],
   "source": []
  }
 ],
 "metadata": {
  "kernelspec": {
   "display_name": "Python 3 (ipykernel)",
   "language": "python",
   "name": "python3"
  },
  "language_info": {
   "codemirror_mode": {
    "name": "ipython",
    "version": 3
   },
   "file_extension": ".py",
   "mimetype": "text/x-python",
   "name": "python",
   "nbconvert_exporter": "python",
   "pygments_lexer": "ipython3",
   "version": "3.9.17"
  }
 },
 "nbformat": 4,
 "nbformat_minor": 5
}
