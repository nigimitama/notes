{
 "cells": [
  {
   "cell_type": "markdown",
   "id": "87e94576-ca4a-4d7c-adcc-a95101dbf9a6",
   "metadata": {},
   "source": [
    "# 同時方程式モデル\n",
    "\n",
    "$$\n",
    "y = \\alpha x\\\\\n",
    "x = \\beta y\n",
    "$$\n",
    "\n",
    "のような内生変数同士で影響を与えあっているモデルを同時方程式モデルという"
   ]
  },
  {
   "cell_type": "code",
   "execution_count": null,
   "id": "b1429568-a3ca-4574-ac70-e53709d30573",
   "metadata": {},
   "outputs": [],
   "source": []
  },
  {
   "cell_type": "markdown",
   "id": "468f32c8-111f-49e9-a10d-fae306a81a91",
   "metadata": {},
   "source": [
    "## 需要関数・供給関数の推定"
   ]
  },
  {
   "cell_type": "markdown",
   "id": "6696cc6f-be4f-4cbf-b1ff-0599dcf62cf5",
   "metadata": {},
   "source": [
    "\n",
    "\n",
    "経済学における需要関数とは「ある価格のもとでの買い手側の需要量を表す関数」であり、供給関数は「ある価格のもとでの売り手側の供給量を表す関数」である。\n",
    "\n",
    "実際に観測される価格は需給が一致した**均衡価格**であると考えられるため、単純に観測値に回帰分析をかければいいわけではない\n",
    "\n",
    "- 需要関数：$Q = \\alpha_0 + \\alpha_1 P + e$\n",
    "- 供給関数：$Q = \\beta_0 + \\beta_1 P + \\beta_2 Z + \\epsilon$\n",
    "\n",
    "というモデルをたてるとする。\n",
    "\n",
    "\n",
    "\n",
    "$$\n",
    "\\begin{align}\n",
    "Q &= \\alpha_0 + \\alpha_1 P + e\\\\\n",
    "Q &= \\beta_0 + \\beta_1 P + \\beta_2 Z + \\epsilon\n",
    "\\end{align}\n",
    "$$\n",
    "\n"
   ]
  },
  {
   "cell_type": "markdown",
   "id": "0e68e448-490d-46e5-8875-19d447aa3caa",
   "metadata": {},
   "source": [
    "Rの{systemfit}パッケージ：[systemfit: A Package for Estimating Systems of Simultaneous Equations in R](https://cran.r-project.org/web/packages/systemfit/vignettes/systemfit.pdf)"
   ]
  },
  {
   "cell_type": "markdown",
   "id": "ff968a2c-a4d7-495b-ba65-2f936331fde7",
   "metadata": {},
   "source": [
    "## 警察官の数と犯罪件数\n",
    "\n",
    "単純に相関をとると「警察官が増えるほど犯罪件数が増える」という結論になってしまうが、ドメイン知識に照らして考えてみれば「犯罪が多いから警察官を置いている」という因果関係が想定される。\n",
    "\n",
    "ただ、警察官を置くことに依る犯罪抑制効果も考えられるため、双方向の因果（同時性）が考えられる。つまり\n",
    "\n",
    "$$\n",
    "\\text{ crime } = \\alpha_0 + \\alpha_1 \\text{ police } + u\\\\\n",
    "\\text{ police } = \\beta_0 + \\beta_1 \\text{ crime } + v\\\\\n",
    "$$\n",
    "\n",
    "のような関係性を考えることができる\n",
    "\n",
    "Levitt (1997) は操作変数法を用いて警察の増強が犯罪件数に与える効果を導出した。市長選のタイミングに警官が増強されることに着目し、その年の市長選の有無を操作変数に利用した。\n",
    "\n",
    "[Levitt, S. D. (1997). Using electoral cycles in police hiring to estimate the effect of policeon crime.](http://home.cerge-ei.cz/gebicka/files/IV_Simultaneity.pdf)\n"
   ]
  },
  {
   "cell_type": "markdown",
   "id": "a9fb225c-6576-4cd5-8e95-c4ccba73b6ff",
   "metadata": {},
   "source": [
    "Levitt (1997)には再現研究やそれへの返信がある様子\n",
    "\n",
    "再現研究\n",
    "\n",
    "- [Replication of Steven Levitt (AER, 1997), Justin McCrary 9/01](https://eml.berkeley.edu/replications/mccrary/index.html)\n",
    "- \"I point out that a weighting error in Levitt’s computer program led to incorrect inferences for the key results of his paper.\"\n",
    "- FGLSの重みの推定にミスがあった。しかし大枠の結論はかわらなさそう\n",
    "\n",
    "返信\n",
    "\n",
    "- [Levitt, S. D. (2002). Using electoral cycles in police hiring to estimate the effects of police on crime: Reply. American Economic Review, 92(4), 1244-1250.](https://pricetheory.uchicago.edu/levitt/Papers/LevittUsingElectoralCycles2002.pdf)\n",
    "\n",
    "かつては強い操作変数だったかもしれないがもはや弱い操作変数になっているという報告もある\n",
    "\n",
    "\n",
    "- bootstrap法での検討？：[Irizawa, K., & Oppenheimer, A. A. (2020). Steven Levitt’s “Using Electoral Cycles in Police Hiring to Estimate the Effect of Police on Crime”: Replication and Extensions.](https://adamoppenheimer.github.io/papers/police-graduations/paper.pdf)"
   ]
  },
  {
   "cell_type": "markdown",
   "id": "88494282-6045-4334-8334-3d1b6d3d8deb",
   "metadata": {},
   "source": [
    "McCraryのその後の研究\n",
    "\n",
    "[Criminal Deterrence: A Review of the Literature - American Economic Association](https://www.aeaweb.org/articles?id=10.1257/jel.20141147)"
   ]
  },
  {
   "cell_type": "markdown",
   "id": "32991e05-9d81-4b4d-9219-dbc893c84a00",
   "metadata": {},
   "source": [
    "## 歴史\n",
    "\n",
    "[菊池進『同時方程式モデルとその計測方法の展開について』](https://core.ac.uk/download/pdf/293155751.pdf)"
   ]
  },
  {
   "cell_type": "code",
   "execution_count": null,
   "id": "97276691-94dd-4b43-84b7-028872958d55",
   "metadata": {},
   "outputs": [],
   "source": []
  }
 ],
 "metadata": {
  "kernelspec": {
   "display_name": "Python 3 (ipykernel)",
   "language": "python",
   "name": "python3"
  },
  "language_info": {
   "codemirror_mode": {
    "name": "ipython",
    "version": 3
   },
   "file_extension": ".py",
   "mimetype": "text/x-python",
   "name": "python",
   "nbconvert_exporter": "python",
   "pygments_lexer": "ipython3",
   "version": "3.9.17"
  }
 },
 "nbformat": 4,
 "nbformat_minor": 5
}
