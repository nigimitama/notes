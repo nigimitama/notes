{
 "cells": [
  {
   "cell_type": "markdown",
   "id": "166c706e-28df-4452-8f9c-61ee7ae8c957",
   "metadata": {},
   "source": [
    "# OLS"
   ]
  },
  {
   "cell_type": "markdown",
   "id": "a51378ee-b0d6-4aeb-b072-efaff36fca0d",
   "metadata": {},
   "source": [
    "## 対数変換\n",
    "\n",
    "#### (1) $Y = \\beta_0 + \\beta_1 X$\n",
    "\n",
    "$$\n",
    "\\frac{dY}{dX} = \\beta_1\n",
    "$$\n",
    "\n",
    "あるいは\n",
    "\n",
    "$$\n",
    "\\begin{align}\n",
    "Y_1 &= \\beta_0 + \\beta_1 X\\\\\n",
    "Y_2 &= \\beta_0 + \\beta_1 (X + 1)\\\\\n",
    "    &= \\beta_0 + \\beta_1 X + \\beta_1\\\\\n",
    "Y_2 - Y_1 &= \\beta_1\n",
    "\\end{align}\n",
    "$$\n",
    "\n",
    "解釈は「$X$が1単位増加すると、$Y$が$\\beta_1$単位増加する」となる\n",
    "\n",
    "\n",
    "#### (2) $Y = \\beta_0 + \\beta_1 \\ln(X)$\n",
    "\n",
    "$$\n",
    "\\begin{align}\n",
    "Y_1 &= \\beta_0 + \\beta_1 \\ln(X)\\\\\n",
    "Y_2 &= \\beta_0 + \\beta_1 \\ln(1.01X)\\\\\n",
    "    &= \\beta_0 + \\beta_1 \\ln (X) + \\beta_1 \\ln(1.01) \\\\\n",
    "Y_2 - Y_1 &= \\beta_1 \\ln(1.01)\n",
    "\\end{align}\n",
    "$$\n",
    "\n",
    "$\\ln(1.01) \\approx 0.01$なので\n",
    "\n",
    "$$\n",
    "Y_2 - Y_1 = \\beta_1 \\ln(1.01) \\approx 0.01\\beta_1\n",
    "$$\n",
    "\n",
    "「$X$が1%増加すると、$Y$が$\\beta_1 / 100$単位増加する」\n",
    "\n",
    "\n",
    "#### (3) $\\ln(Y) = \\beta_0 + \\beta_1 X$\n",
    "\n",
    "\n",
    "$$\n",
    "\\begin{align}\n",
    "Y_1 &= \\exp(\\beta_0 + \\beta_1 X)\\\\\n",
    "Y_2 &= \\exp(\\beta_0 + \\beta_1 (X + 1))\\\\\n",
    "    &= \\exp(\\beta_0 + \\beta_1 X + \\beta_1)\n",
    "\\end{align}\n",
    "$$\n",
    "\n",
    "$X$を1単位増やしたときの$Y$の変化率は\n",
    "\n",
    "$$\n",
    "\\begin{align}\n",
    "\\frac{Y_2 - Y_1}{Y_1}\n",
    "= \\frac{Y_2}{Y_1} - 1\n",
    "&= \\frac{\\exp(\\beta_0) \\exp(\\beta_1 X) \\exp(\\beta_1)}\n",
    "{\\exp(\\beta_0) \\exp(\\beta_1 X)} - 1\\\\\n",
    "&= \\exp(\\beta_1) - 1\\\\\n",
    "\\end{align}\n",
    "$$\n",
    "\n",
    "$X$が1単位増えると、$Y$は$\\exp(\\beta_1) - 1 \\approx \\beta_1$％増える\n",
    "\n",
    "\n",
    "「$X$が1単位増加すると、$Y$が$(\\beta_1 \\times 100)$%増加する」\n",
    "\n",
    "\n",
    "#### (4) $\\ln(Y) = \\beta_0 + \\beta_1 \\ln(X)$\n",
    "\n",
    "「$X$が1%増加すると、$Y$が$\\beta_1$%増加する」"
   ]
  },
  {
   "cell_type": "code",
   "execution_count": 2,
   "id": "6bb79bd3-48f3-46be-8778-2e5157858ea5",
   "metadata": {},
   "outputs": [],
   "source": [
    "import numpy as np\n",
    "import pandas as pd\n",
    "import matplotlib.pyplot as plt\n",
    "import seaborn as sns"
   ]
  },
  {
   "cell_type": "code",
   "execution_count": 34,
   "id": "88e4a130-506a-405d-9f25-ec6a58d733e9",
   "metadata": {},
   "outputs": [
    {
     "data": {
      "text/plain": [
       "Text(0.5, 1.0, 'y = 100 + 1 * x + e')"
      ]
     },
     "execution_count": 34,
     "metadata": {},
     "output_type": "execute_result"
    },
    {
     "data": {
      "image/png": "[encoded data removed]",
      "text/plain": [
       "<Figure size 432x288 with 1 Axes>"
      ]
     },
     "metadata": {
      "needs_background": "light"
     },
     "output_type": "display_data"
    }
   ],
   "source": [
    "# 真のデータ生成過程\n",
    "n = 100\n",
    "np.random.seed(0)\n",
    "x = np.random.uniform(1, 100, size=n)\n",
    "e = np.random.normal(loc=0, scale=10, size=n)\n",
    "beta0 = 100\n",
    "beta1 = 1\n",
    "y = beta0 + beta1 * x + e\n",
    "\n",
    "df = pd.DataFrame({\"y\": y, \"x\": x})\n",
    "plt.scatter(x, y)\n",
    "plt.xlabel(\"x\")\n",
    "plt.ylabel(\"y\")\n",
    "plt.title(f\"y = {beta0} + {beta1} * x + e\")"
   ]
  },
  {
   "cell_type": "code",
   "execution_count": 35,
   "id": "64f268b5-4679-48dd-965a-95072d05ed19",
   "metadata": {},
   "outputs": [
    {
     "data": {
      "text/html": [
       "<table style=\"text-align:center\"><tr><td colspan=\"5\" style=\"border-bottom: 1px solid black\"></td></tr><tr><td style=\"text-align:left\"></td><tr><td style=\"text-align:left\"></td><td>(1)</td><td>(2)</td><td>(3)</td><td>(4)</td></tr><tr><td colspan=\"5\" style=\"border-bottom: 1px solid black\"></td></tr><tr><td style=\"text-align:left\">Intercept</td><td>102.228<sup>***</sup></td><td>47.118<sup>***</sup></td><td>4.661<sup>***</sup></td><td>4.258<sup>***</sup></td></tr><tr><td style=\"text-align:left\"></td><td>(1.963)</td><td>(5.821)</td><td>(0.015)</td><td>(0.037)</td></tr><tr><td style=\"text-align:left\">np.log(x)</td><td></td><td>28.741<sup>***</sup></td><td></td><td>0.204<sup>***</sup></td></tr><tr><td style=\"text-align:left\"></td><td></td><td>(1.579)</td><td></td><td>(0.010)</td></tr><tr><td style=\"text-align:left\">x</td><td>0.994<sup>***</sup></td><td></td><td>0.007<sup>***</sup></td><td></td></tr><tr><td style=\"text-align:left\"></td><td>(0.035)</td><td></td><td>(0.000)</td><td></td></tr><td colspan=\"5\" style=\"border-bottom: 1px solid black\"></td></tr><tr><td style=\"text-align: left\">Observations</td><td>100</td><td>100</td><td>100</td><td>100</td></tr><tr><td style=\"text-align: left\">R<sup>2</sup></td><td>0.890</td><td>0.772</td><td>0.873</td><td>0.810</td></tr><tr><td style=\"text-align: left\">Adjusted R<sup>2</sup></td><td>0.889</td><td>0.769</td><td>0.872</td><td>0.808</td></tr><tr><td style=\"text-align: left\">Residual Std. Error</td><td>10.063 (df=98)</td><td>14.507 (df=98)</td><td>0.075 (df=98)</td><td>0.092 (df=98)</td></tr><tr><td style=\"text-align: left\">F Statistic</td><td>794.211<sup>***</sup> (df=1; 98)</td><td>331.337<sup>***</sup> (df=1; 98)</td><td>674.875<sup>***</sup> (df=1; 98)</td><td>416.995<sup>***</sup> (df=1; 98)</td></tr><tr><td colspan=\"5\" style=\"border-bottom: 1px solid black\"></td></tr><tr><td style=\"text-align: left\">Note:</td>\n",
       " <td colspan=\"4\" style=\"text-align: right\">\n",
       "  <sup>*</sup>p&lt;0.1;\n",
       "  <sup>**</sup>p&lt;0.05;\n",
       "  <sup>***</sup>p&lt;0.01\n",
       " </td></tr></table>"
      ],
      "text/plain": [
       "<stargazer.stargazer.Stargazer at 0x7fe201d84550>"
      ]
     },
     "execution_count": 35,
     "metadata": {},
     "output_type": "execute_result"
    }
   ],
   "source": [
    "import statsmodels.api as sm\n",
    "import statsmodels.formula.api as smf\n",
    "from stargazer.stargazer import Stargazer\n",
    "\n",
    "models = [\n",
    "    smf.ols('y ~ x', data=df).fit(),\n",
    "    smf.ols('y ~ np.log(x)', data=df).fit(),\n",
    "    smf.ols('np.log(y) ~ x', data=df).fit(),\n",
    "    smf.ols('np.log(y) ~ np.log(x)', data=df).fit(),\n",
    "]\n",
    "Stargazer(models)"
   ]
  },
  {
   "cell_type": "code",
   "execution_count": 38,
   "id": "b18826ed-a55a-4602-a3b4-83f01e2897da",
   "metadata": {
    "tags": [
     "remove-input"
    ]
   },
   "outputs": [
    {
     "data": {
      "text/plain": [
       "0.9936298001416196"
      ]
     },
     "metadata": {
      "scrapbook": {
       "mime_prefix": "",
       "name": "model1_beta1_hat"
      }
     },
     "output_type": "display_data"
    }
   ],
   "source": [
    "from myst_nb import glue\n",
    "beta1_hat = models[0].params[1]\n",
    "glue(\"model1_beta1_hat\", beta1_hat)"
   ]
  },
  {
   "cell_type": "markdown",
   "id": "40cbb789-cd16-4ab7-8606-1cfae315bf84",
   "metadata": {
    "tags": []
   },
   "source": [
    "#### (1) について\n",
    "\n",
    "$\\hat{\\beta}_1$は{glue:}`model1_beta1_hat`となった\n"
   ]
  },
  {
   "cell_type": "code",
   "execution_count": 37,
   "id": "e50c29ec-95f1-4338-99cf-16ff69c1f969",
   "metadata": {
    "tags": [
     "remove-input"
    ]
   },
   "outputs": [
    {
     "data": {
      "text/plain": [
       "28.741356829043305"
      ]
     },
     "metadata": {
      "scrapbook": {
       "mime_prefix": "",
       "name": "model2_beta1_hat"
      }
     },
     "output_type": "display_data"
    }
   ],
   "source": [
    "from myst_nb import glue\n",
    "beta1_hat = models[1].params[1]\n",
    "glue(\"model2_beta1_hat\", beta1_hat)"
   ]
  },
  {
   "cell_type": "markdown",
   "id": "5e708791-709d-49d0-8c72-26686e9211b7",
   "metadata": {
    "tags": []
   },
   "source": [
    "#### (2) について\n",
    "\n",
    "$\\hat{\\beta}_1$は{glue:}`model2_beta1_hat`となった\n"
   ]
  },
  {
   "cell_type": "code",
   "execution_count": 49,
   "id": "b3355708-dacb-4c08-b18c-a12187215de2",
   "metadata": {},
   "outputs": [
    {
     "data": {
      "text/plain": [
       "13.740262651813055"
      ]
     },
     "execution_count": 49,
     "metadata": {},
     "output_type": "execute_result"
    }
   ],
   "source": [
    "beta0_, beta1_ = models[1].params\n",
    "\n",
    "a = beta0_ + beta1_ * x.mean()\n",
    "b = beta0_ + beta1_ * x.mean() * 1.01\n",
    "b - a"
   ]
  },
  {
   "cell_type": "code",
   "execution_count": 50,
   "id": "24e75b1b-f8e7-422b-9f8c-4e721ab26ffb",
   "metadata": {},
   "outputs": [
    {
     "data": {
      "text/plain": [
       "28.410546676840113"
      ]
     },
     "execution_count": 50,
     "metadata": {},
     "output_type": "execute_result"
    }
   ],
   "source": [
    "beta0_, beta1_ = models[1].params\n",
    "\n",
    "a = beta0_ + beta1_ * x.max()\n",
    "b = beta0_ + beta1_ * x.max() * 1.01\n",
    "b - a"
   ]
  },
  {
   "cell_type": "code",
   "execution_count": null,
   "id": "b799ce48-f1f1-4c60-9b3c-8045dac7de35",
   "metadata": {},
   "outputs": [],
   "source": []
  },
  {
   "cell_type": "code",
   "execution_count": 44,
   "id": "8e7292b4-840d-4c46-974e-71b89b10577b",
   "metadata": {
    "tags": [
     "remove-input"
    ]
   },
   "outputs": [
    {
     "data": {
      "text/plain": [
       "0.00683130284764578"
      ]
     },
     "metadata": {
      "scrapbook": {
       "mime_prefix": "",
       "name": "model3_beta1_hat"
      }
     },
     "output_type": "display_data"
    }
   ],
   "source": [
    "from myst_nb import glue\n",
    "beta1_hat = models[2].params[1]\n",
    "glue(\"model3_beta1_hat\", beta1_hat)"
   ]
  },
  {
   "cell_type": "markdown",
   "id": "fba885ea-1c81-405d-9a24-ccc4b2b0cf68",
   "metadata": {
    "tags": []
   },
   "source": [
    "#### (3) について\n",
    "\n",
    "$\\hat{\\beta}_1$は{glue:}`model3_beta1_hat`となった\n"
   ]
  },
  {
   "cell_type": "code",
   "execution_count": 45,
   "id": "392c995c-6ee6-494a-a1ba-6de769bddf3b",
   "metadata": {},
   "outputs": [
    {
     "data": {
      "text/plain": [
       "Intercept    4.661085\n",
       "x            0.006831\n",
       "dtype: float64"
      ]
     },
     "execution_count": 45,
     "metadata": {},
     "output_type": "execute_result"
    }
   ],
   "source": [
    "models[2].params"
   ]
  },
  {
   "cell_type": "code",
   "execution_count": 47,
   "id": "f9509bc3-3ecd-445d-b45f-4fd37cc8299e",
   "metadata": {},
   "outputs": [
    {
     "data": {
      "text/plain": [
       "0.006831302847645659"
      ]
     },
     "execution_count": 47,
     "metadata": {},
     "output_type": "execute_result"
    }
   ],
   "source": [
    "beta0_, beta1_ = models[2].params\n",
    "a = beta0_ + beta1_ * x.mean()\n",
    "b = beta0_ + beta1_ * (x.mean() + 1)\n",
    "b - a"
   ]
  },
  {
   "cell_type": "code",
   "execution_count": null,
   "id": "885ac35c-c5f9-4c48-a16f-1c7529914299",
   "metadata": {},
   "outputs": [],
   "source": []
  },
  {
   "cell_type": "code",
   "execution_count": null,
   "id": "b9a22338-2fe5-4cd6-bb75-dc2ec9c6d09e",
   "metadata": {},
   "outputs": [],
   "source": []
  }
 ],
 "metadata": {
  "kernelspec": {
   "display_name": "Python 3",
   "language": "python",
   "name": "python3"
  },
  "language_info": {
   "codemirror_mode": {
    "name": "ipython",
    "version": 3
   },
   "file_extension": ".py",
   "mimetype": "text/x-python",
   "name": "python",
   "nbconvert_exporter": "python",
   "pygments_lexer": "ipython3",
   "version": "3.8.10"
  }
 },
 "nbformat": 4,
 "nbformat_minor": 5
}
