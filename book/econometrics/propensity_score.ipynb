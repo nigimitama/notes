{
 "cells": [
  {
   "cell_type": "markdown",
   "id": "de766f1d-0706-43e4-9bcc-35d7ea27ce3a",
   "metadata": {},
   "source": [
    "# 傾向スコア"
   ]
  },
  {
   "cell_type": "markdown",
   "id": "4a4ba986-13b1-4fe3-b467-0abdcc890568",
   "metadata": {},
   "source": [
    "## バランシングスコア\n",
    "\n",
    "**バランシングスコア**（balancing score）$b(\\boldsymbol{x})$とは\n",
    "\n",
    "$$\n",
    "\\newcommand{\\b}[1]{\\boldsymbol{#1}}\n",
    "\\newcommand{\\indep}{\\perp\\!\\!\\!\\perp}\n",
    "\\b{x} \\indep z | b(\\b{x})\n",
    "$$\n",
    "\n",
    "\n",
    "（[Rosenbaum & Rubin, 1983](https://academic.oup.com/biomet/article/70/1/41/240879)）"
   ]
  },
  {
   "cell_type": "code",
   "execution_count": null,
   "id": "65577352-d341-4cbf-a3a5-91cd202d52b3",
   "metadata": {},
   "outputs": [],
   "source": []
  },
  {
   "cell_type": "markdown",
   "id": "e123b8f3-20fd-4ff7-b354-b2f544ad6625",
   "metadata": {},
   "source": [
    "## 傾向スコア"
   ]
  },
  {
   "cell_type": "code",
   "execution_count": null,
   "id": "2a0f1df1-f5b0-4b87-b8fa-388097b79f94",
   "metadata": {},
   "outputs": [],
   "source": []
  },
  {
   "cell_type": "markdown",
   "id": "721fd0bb-85b2-464c-b6f5-475b47743bc6",
   "metadata": {},
   "source": [
    "## IPW推定量"
   ]
  },
  {
   "cell_type": "code",
   "execution_count": null,
   "id": "7a758433-1df3-4799-a2ee-8c2e20890a70",
   "metadata": {},
   "outputs": [],
   "source": []
  },
  {
   "cell_type": "markdown",
   "id": "88d968d7-54e3-4b88-9e33-3aa9f65ab5a5",
   "metadata": {},
   "source": [
    "## DR推定量"
   ]
  },
  {
   "cell_type": "code",
   "execution_count": null,
   "id": "94151f83-e970-40b9-86b6-7587ec3ed67d",
   "metadata": {},
   "outputs": [],
   "source": []
  },
  {
   "cell_type": "markdown",
   "id": "9166bcde-3f0a-4540-8077-540c90d5ea65",
   "metadata": {},
   "source": [
    "### causallib"
   ]
  },
  {
   "cell_type": "code",
   "execution_count": null,
   "id": "6acbe0d1-0fab-4219-bb54-9b020a06f342",
   "metadata": {},
   "outputs": [],
   "source": []
  },
  {
   "cell_type": "markdown",
   "id": "6a7f1222-2fdb-4681-9810-9d5c453dd59a",
   "metadata": {},
   "source": [
    "## 参考文献\n",
    "\n",
    "- [計量経済学応用 傾向スコア](https://yukiyanai.github.io/jp/classes/econometrics2/contents/R/propensity-score.html)\n",
    "- [cibook_ch3_pscore](https://gist.github.com/SakumaRyoDev/309c9c6c0002145d09fd36ddfbe3613b)\n",
    "- [Rosenbaum, P. R., & Rubin, D. B. (1983). The central role of the propensity score in observational studies for causal effects. Biometrika, 70(1), 41-55.](https://academic.oup.com/biomet/article/70/1/41/240879)"
   ]
  },
  {
   "cell_type": "code",
   "execution_count": null,
   "id": "4739c295-2c68-43c6-bc68-6977525c1351",
   "metadata": {},
   "outputs": [],
   "source": []
  }
 ],
 "metadata": {
  "kernelspec": {
   "display_name": "Python 3 (ipykernel)",
   "language": "python",
   "name": "python3"
  },
  "language_info": {
   "codemirror_mode": {
    "name": "ipython",
    "version": 3
   },
   "file_extension": ".py",
   "mimetype": "text/x-python",
   "name": "python",
   "nbconvert_exporter": "python",
   "pygments_lexer": "ipython3",
   "version": "3.9.16"
  }
 },
 "nbformat": 4,
 "nbformat_minor": 5
}
