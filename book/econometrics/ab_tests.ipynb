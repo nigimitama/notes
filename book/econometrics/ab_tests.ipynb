{
 "cells": [
  {
   "cell_type": "markdown",
   "id": "f2ac60cb-226c-4c6f-a4dd-113beb85933f",
   "metadata": {},
   "source": [
    "# A/B Tests"
   ]
  },
  {
   "cell_type": "markdown",
   "id": "c15b2eda-e843-420e-be56-af6e5a1bee66",
   "metadata": {},
   "source": [
    "## サンプルサイズ\n",
    "\n",
    "[ABテストのサンプルサイズの計算 - 高精度計算サイト](https://keisan.casio.jp/exec/user/1489063696)"
   ]
  },
  {
   "cell_type": "markdown",
   "id": "a66f9cd6-9b9a-4986-b844-a3c831154b28",
   "metadata": {},
   "source": [
    "### False Positives in A/B Tests.\n",
    "\n",
    ":::{card}\n",
    "[Kohavi, R., & Chen, N. (2024, August). False Positives in A/B Tests. In Proceedings of the 30th ACM SIGKDD Conference on Knowledge Discovery and Data Mining (pp. 5240-5250).](https://dl.acm.org/doi/10.1145/3637528.3671631)\n",
    ":::\n",
    "\n",
    "[カバ本](https://www.amazon.co.jp/dp/B08Z3TPVZG)の著者がKDD2024で発表したもの。\n",
    "\n",
    "\n",
    "大企業は1営業日に100個を超える実験をしていたりするが、多くのA/Bテストは有意な改善を見せない。\n",
    "それほどの僅かな改善率の大量の実験は、偽陽性の可能性が高い。\n"
   ]
  },
  {
   "cell_type": "code",
   "execution_count": null,
   "id": "1e1c0554-68f0-4041-8983-943949efddf1",
   "metadata": {},
   "outputs": [],
   "source": []
  }
 ],
 "metadata": {
  "kernelspec": {
   "display_name": "Python 3 (ipykernel)",
   "language": "python",
   "name": "python3"
  },
  "language_info": {
   "codemirror_mode": {
    "name": "ipython",
    "version": 3
   },
   "file_extension": ".py",
   "mimetype": "text/x-python",
   "name": "python",
   "nbconvert_exporter": "python",
   "pygments_lexer": "ipython3",
   "version": "3.10.15"
  }
 },
 "nbformat": 4,
 "nbformat_minor": 5
}
