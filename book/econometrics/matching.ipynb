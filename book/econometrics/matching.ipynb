{
 "cells": [
  {
   "cell_type": "markdown",
   "id": "24a2be3a-8482-408c-b825-3b4f7320304b",
   "metadata": {},
   "source": [
    "# マッチング推定"
   ]
  },
  {
   "cell_type": "markdown",
   "id": "5acb3f5c-4975-4b7c-98b1-1db95bacad83",
   "metadata": {},
   "source": [
    "selection on observableの仮定\n",
    "\n",
    "1. $(Y(0), Y(1)) \\operatorname{\\perp\\!\\!\\perp} D \\mid X$ (条件付き独立の仮定)\n",
    "2. $0 < P(D=1 \\mid X) < 1$（common support）\n",
    "\n",
    "これにより、\n",
    "\n",
    "$$\n",
    "\\begin{aligned}\n",
    "E[Y(1)-Y(0) \\mid X]\n",
    "& =E[Y(1)-Y(0) \\mid X, D=1] \\\\\n",
    "& =E[Y(1) \\mid X, D=1]-E[Y(0) \\mid X, D=0] \\\\\n",
    "& =E[Y \\mid X, D=1]-E[Y \\mid X, D=0]\n",
    "\\end{aligned}\n",
    "$$\n",
    "\n",
    "であり、この条件付き期待値をもとに$X$について期待値をとることでATEが推定できる\n",
    "\n",
    "$$\n",
    "ATE = E_X[E[Y(1)-Y(0) \\mid X]]\n",
    "$$"
   ]
  },
  {
   "cell_type": "markdown",
   "id": "d4df09d7-de7e-465c-b1ad-50816139f521",
   "metadata": {},
   "source": [
    "層別化（subclassification）は処置群・対照群の共変量の分布を同じにする（balanceさせる）こと"
   ]
  },
  {
   "cell_type": "markdown",
   "id": "662e7c26-ccdf-4368-b1fd-96cfd1247ccc",
   "metadata": {},
   "source": [
    "## Exact Matching\n",
    "\n",
    "共変量$X$が完全に一致するペア同士で比較する"
   ]
  },
  {
   "cell_type": "markdown",
   "id": "bdab7bb0-d00d-45b2-9a9a-26472493793f",
   "metadata": {},
   "source": [
    "## Coarsend Exact Matching\n",
    "\n",
    "共変量をグルーピングする、つまり粒度を荒く（coarsen）したあと、Exact Matchingを行う\n",
    "\n",
    "\n",
    "結構有名で、Rのパッケージもあり、アメリカの医薬品の規制当局からも科学的な定量評価法として認可を受けてるらしい（[CEM: Coarsened Exact Matching Software | GARY KING](https://gking.harvard.edu/cem)）\n",
    "\n",
    "- 論文: [Iacus, S. M., King, G., & Porro, G. (2012). Causal inference without balance checking: Coarsened exact matching. Political analysis, 20(1), 1-24.](https://gking.harvard.edu/files/political_analysis-2011-iacus-pan_mpr013.pdf)\n"
   ]
  },
  {
   "cell_type": "code",
   "execution_count": null,
   "id": "cfb8ba22-cb03-4870-8b4d-15577218bd46",
   "metadata": {},
   "outputs": [],
   "source": []
  }
 ],
 "metadata": {
  "kernelspec": {
   "display_name": "Python 3 (ipykernel)",
   "language": "python",
   "name": "python3"
  },
  "language_info": {
   "codemirror_mode": {
    "name": "ipython",
    "version": 3
   },
   "file_extension": ".py",
   "mimetype": "text/x-python",
   "name": "python",
   "nbconvert_exporter": "python",
   "pygments_lexer": "ipython3",
   "version": "3.10.15"
  }
 },
 "nbformat": 4,
 "nbformat_minor": 5
}
