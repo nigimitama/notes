{
 "cells": [
  {
   "cell_type": "markdown",
   "id": "24a2be3a-8482-408c-b825-3b4f7320304b",
   "metadata": {},
   "source": [
    "# マッチング推定"
   ]
  },
  {
   "cell_type": "markdown",
   "id": "5acb3f5c-4975-4b7c-98b1-1db95bacad83",
   "metadata": {},
   "source": [
    "## 概要\n",
    "\n",
    "マッチング（matching）は、処置群と対照群を「共変量の分布が似ているペア」や「似たサンプル集合」に揃えて因果効果の推定を行う方法。\n",
    "\n",
    "1. マッチングする：似ている処置群と対照群のペアを見つける\n",
    "2. 似ているペアでestimandを推定する\n",
    "\n",
    "### 仮定\n",
    "\n",
    "共変量で交絡をコントロールするため、selection on observableを仮定する。\n",
    "\n",
    "1. $(Y(0), Y(1)) \\operatorname{\\perp\\!\\!\\perp} D \\mid X$ (条件付き独立の仮定)\n",
    "2. $0 < P(D=1 \\mid X) < 1$（common support）\n"
   ]
  },
  {
   "cell_type": "markdown",
   "id": "dff18f1c-d6c6-4a87-b1e2-0df2f82ce79f",
   "metadata": {},
   "source": [
    "### マッチングの種類\n",
    "\n",
    "| 方法                                       | 概要                                 | 特徴                 |\n",
    "| ---------------------------------------- | ---------------------------------- | ------------------ |\n",
    "| **Nearest Neighbor Matching (最近傍マッチング)** | 処置群の各サンプルに対して、共変量距離が最も近い対照群サンプルを選ぶ | 実装が簡単、外れ値や多対一対応に注意 |\n",
    "| **Caliper Matching (キャリパーマッチング)**        | 一定の距離（キャリパー）以内のサンプルのみをマッチング        | 極端なペアを除外できる        |\n",
    "| **Propensity Score Matching (PSM)**      | ロジスティック回帰などで推定した傾向スコアでマッチング        | 高次元共変量を1つのスコアに要約   |\n",
    "| **Full Matching / Optimal Matching**     | 全データを使い、最適化的にマッチング                 | バイアスを減らしつつ全サンプルを活用 |\n",
    "| **Coarsened Exact Matching (CEM)**       | 共変量を粗くビニングし、同じビン内だけで比較             | 直感的・バイアスコントロールが容易  |\n",
    "| **Mahalanobis Matching**                 | 共分散を考慮した距離で最近傍マッチング                | 多変量距離を考慮           |\n"
   ]
  },
  {
   "cell_type": "markdown",
   "id": "a29776d1-a129-4e65-bc10-a07200943d25",
   "metadata": {},
   "source": [
    "### マッチング後の推定\n",
    "\n",
    "マッチング後の「似ているペア」を使い\n",
    "\n",
    "- 平均の差の比較（単純平均差）\n",
    "- 回帰モデル（マッチング後の共変量で補正）\n",
    "- 重み付け（CEMやPSMから得られる重みを利用）\n",
    "\n",
    "などを行う\n",
    "\n",
    "### 推定するestimand\n",
    "\n",
    "- ATT：処置群のサンプルを基準に、似ている対照群をマッチする（例：最近傍マッチング）\n",
    "- ATE：処置群と対照群の重みを使って計算（傾向スコアで、$w = \\frac{1}{p(X)}$（対照群）や$\\frac{1}{1-p(X)}$（処置群）など）\n",
    "\n",
    "| 記号                                                | 意味                                   |\n",
    "| ------------------------------------------------- | ------------------------------------ |\n",
    "| **ATE (Average Treatment Effect)**                | 全体母集団での平均処置効果：$E[Y(1)-Y(0)]$         |\n",
    "| **ATT (Average Treatment effect on the Treated)** | 処置群に対する平均処置効果：$E[Y(1)-Y(0)\\mid T=1]$ |\n",
    "| **ATC (Average Treatment effect on the Control)** | 対照群に対する平均処置効果：$E[Y(1)-Y(0)\\mid T=0]$ |\n"
   ]
  },
  {
   "cell_type": "markdown",
   "id": "12819f62-7436-4492-b4a5-8185ab1b8c70",
   "metadata": {},
   "source": [
    "### 距離尺度\n",
    "\n",
    "「似ているペア」の程度を測る方法\n",
    "\n",
    "- 傾向スコア\n",
    "- 完全一致\n",
    "- 粗い完全一致\n",
    "- ユークリッド距離やマハラノビス距離"
   ]
  },
  {
   "cell_type": "markdown",
   "id": "a5a0fa6d-11ba-4a9b-831b-5b173ea3fa3e",
   "metadata": {},
   "source": [
    "### マッチングに使うデータの選定\n",
    "\n",
    "- **最近傍マッチング（Nearest Neighbor Matching）**：距離が最も近いサンプルを選ぶ。シンプルだが傾向スコアの極端な値などに弱い\n",
    "- **Full Matching / Optimal Matching**：全データを使い、最適化的にマッチング"
   ]
  },
  {
   "cell_type": "markdown",
   "id": "662e7c26-ccdf-4368-b1fd-96cfd1247ccc",
   "metadata": {},
   "source": [
    "## Exact Matching\n",
    "\n",
    "共変量$X$が完全に一致するペア同士で比較する"
   ]
  },
  {
   "cell_type": "markdown",
   "id": "6e83062c-65bb-4180-92ad-1d441513cd76",
   "metadata": {},
   "source": [
    "### 傾向スコアマッチング\n",
    "\n",
    "傾向スコアで近さを求める\n",
    "\n",
    ":::{card} コード例（R）\n",
    "\n",
    "[MatchIt: Getting Started](https://cran.r-project.org/web/packages/MatchIt/vignettes/MatchIt.html) のコードを見ると次のようになっている\n",
    "\n",
    "```r\n",
    "# コード例（R）\n",
    "library(\"MatchIt\")\n",
    "\n",
    "# Full matching on a probit PS\n",
    "m_out <- matchit(treat ~ age + educ + race + married + \n",
    "                 nodegree + re74 + re75,\n",
    "                 data = lalonde,\n",
    "                 method = \"full\",\n",
    "                 distance = \"glm\",\n",
    "                 link = \"probit\")\n",
    "m_data <- match_data(m_out)\n",
    "\n",
    "library(\"marginaleffects\")\n",
    "fit <- lm(re78 ~ treat * (age + educ + race + married +\n",
    "                            nodegree + re74 + re75),\n",
    "          data = m.data,\n",
    "          weights = weights)\n",
    "\n",
    "avg_comparisons(fit,\n",
    "                variables = \"treat\",\n",
    "                vcov = ~subclass,\n",
    "                newdata = subset(treat == 1))\n",
    "```\n",
    ":::"
   ]
  },
  {
   "cell_type": "markdown",
   "id": "bdab7bb0-d00d-45b2-9a9a-26472493793f",
   "metadata": {},
   "source": [
    "## Coarsend Exact Matching\n",
    "\n",
    "共変量をグルーピングする、つまり粒度を荒く（coarsen）したあと、Exact Matchingを行う\n",
    "\n",
    "\n",
    "\n",
    "結構有名で、Rのパッケージもあり、アメリカの医薬品の規制当局からも科学的な定量評価法として認可を受けてるらしい（[CEM: Coarsened Exact Matching Software | GARY KING](https://gking.harvard.edu/cem)）\n",
    "\n",
    "- 論文: [Iacus, S. M., King, G., & Porro, G. (2012). Causal inference without balance checking: Coarsened exact matching. Political analysis, 20(1), 1-24.](https://gking.harvard.edu/files/political_analysis-2011-iacus-pan_mpr013.pdf)\n"
   ]
  },
  {
   "cell_type": "markdown",
   "id": "5bbf6628-7564-4127-b5de-1e8747d8ebfc",
   "metadata": {},
   "source": [
    "\n",
    ":::{card} matchitを使ったコード例（R）\n",
    "\n",
    "```r\n",
    "library(MatchIt)\n",
    "library(estimatr)\n",
    "m_out <- matchit(treat ~ age + agesq + agecube + educ + educsq + marr + nodegree +\n",
    "                 black + hisp + re74 + re75 + u74 + u75 + interaction1,\n",
    "                 data = nsw_dw_cpscontrol,\n",
    "                 method = \"cem\",\n",
    "                 distance = \"logit\")\n",
    "m_data <- match.data(m_out)\n",
    "\n",
    "# 重みを使って推定\n",
    "m_ate <- lm_robust(re78 ~ treat,\n",
    "                   data = m_data,\n",
    "                   weights = m_data$weights)\n",
    "```\n",
    "\n",
    "[Causal Inference The Mixtape](https://mixtape.scunning.com/05-matching_and_subclassification) のサンプルコードより引用\n",
    "\n",
    ":::"
   ]
  },
  {
   "cell_type": "code",
   "execution_count": null,
   "id": "cfb8ba22-cb03-4870-8b4d-15577218bd46",
   "metadata": {},
   "outputs": [],
   "source": []
  }
 ],
 "metadata": {
  "kernelspec": {
   "display_name": "Python 3 (ipykernel)",
   "language": "python",
   "name": "python3"
  },
  "language_info": {
   "codemirror_mode": {
    "name": "ipython",
    "version": 3
   },
   "file_extension": ".py",
   "mimetype": "text/x-python",
   "name": "python",
   "nbconvert_exporter": "python",
   "pygments_lexer": "ipython3",
   "version": "3.10.18"
  }
 },
 "nbformat": 4,
 "nbformat_minor": 5
}
