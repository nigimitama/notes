{
 "cells": [
  {
   "cell_type": "markdown",
   "id": "5b1a599f-004a-4f6d-8e04-3bd2f5431d78",
   "metadata": {},
   "source": [
    "# Causal Machine Learning\n",
    "\n",
    "因果推論に機械学習を活用したアルゴリズムたち。\n",
    "\n",
    ":::{tableofcontents}\n",
    ":::"
   ]
  },
  {
   "cell_type": "markdown",
   "id": "4f10928a-2707-4a9f-a95e-83caf1450c22",
   "metadata": {},
   "source": [
    "## reading list\n",
    "\n",
    "[Kaddour, J., Lynch, A., Liu, Q., Kusner, M. J., & Silva, R. (2022). Causal machine learning: A survey and open problems. arXiv preprint arXiv:2206.15475.](https://arxiv.org/pdf/2206.15475.pdf)"
   ]
  },
  {
   "cell_type": "markdown",
   "id": "3fc418e5-1652-4150-928c-f655c810a101",
   "metadata": {},
   "source": [
    "[Chen, Y., Chen, J., Zhao, S., Xu, X., Liu, X., Zhang, X., & Zhang, H. (2024). Inferring the heterogeneous effect of urban land use on building height with causal machine learning. GIScience & Remote Sensing, 61(1), 2321695.](https://www.tandfonline.com/doi/pdf/10.1080/15481603.2024.2321695)"
   ]
  },
  {
   "cell_type": "markdown",
   "id": "090adcac-7142-4b23-a588-3bb364b6f49e",
   "metadata": {},
   "source": [
    "[Bach, P., Schacht, O., Chernozhukov, V., Klaassen, S., & Spindler, M. (2024). Hyperparameter Tuning for Causal Inference with Double Machine Learning: A Simulation Study. arXiv preprint arXiv:2402.04674.](https://arxiv.org/pdf/2402.04674.pdf)"
   ]
  },
  {
   "cell_type": "code",
   "execution_count": null,
   "id": "540b7f47-bcff-4e97-8966-1fb31ef650a4",
   "metadata": {},
   "outputs": [],
   "source": []
  }
 ],
 "metadata": {
  "kernelspec": {
   "display_name": "Python 3 (ipykernel)",
   "language": "python",
   "name": "python3"
  },
  "language_info": {
   "codemirror_mode": {
    "name": "ipython",
    "version": 3
   },
   "file_extension": ".py",
   "mimetype": "text/x-python",
   "name": "python",
   "nbconvert_exporter": "python",
   "pygments_lexer": "ipython3",
   "version": "3.9.18"
  }
 },
 "nbformat": 4,
 "nbformat_minor": 5
}
