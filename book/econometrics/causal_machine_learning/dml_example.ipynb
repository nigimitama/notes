{
 "cells": [
  {
   "cell_type": "markdown",
   "id": "7ba261d1-aa2b-4005-81b3-b9cd356be5e6",
   "metadata": {},
   "source": [
    "# DMLパッケージで試してみる\n"
   ]
  },
  {
   "cell_type": "markdown",
   "id": "931a0a15-6dbb-4105-b95d-bf8bb0278819",
   "metadata": {},
   "source": [
    "## Partially Linear Regression Model\n",
    "\n",
    "$$\n",
    "\\begin{align}\\begin{aligned}Y = D \\theta_0 + g_0(X) + \\zeta, & &\\mathbb{E}(\\zeta | D,X) = 0,\n",
    "\\\\\n",
    "D = m_0(X) + V, & &\\mathbb{E}(V | X) = 0,\\end{aligned}\\end{align}\n",
    "$$\n",
    "\n",
    "\n",
    "[doubleml.DoubleMLPLR — DoubleML documentation](https://docs.doubleml.org/stable/api/generated/doubleml.DoubleMLPLR.html#doubleml.DoubleMLPLR)\n",
    "\n",
    "```\n",
    "class doubleml.DoubleMLPLR(obj_dml_data, ml_l, ml_m, ml_g=None, n_folds=5, n_rep=1, score='partialling out', draw_sample_splitting=True)\n",
    "```\n",
    "\n",
    "nuisance functions\n",
    "\n",
    "- `ml_l`は $\\ell_0(X) = E[Y|X]$\n",
    "- `ml_m`は $m_0(X) = E[D|X]$\n",
    "- `ml_g`は $g_0(X) = E[Y - D \\theta_0|X]$で、scoreが`'IV-type'`のときのみ使われる\n",
    "\n",
    "\n"
   ]
  },
  {
   "cell_type": "markdown",
   "id": "dce76973-fb8e-432c-bfdd-10c4b370cc2d",
   "metadata": {},
   "source": [
    "デフォルトのscoreが`'partialling out'`で、これはRobinson (1988）の\n",
    "\n",
    "$$\n",
    "\\psi(W ; \\theta, \\eta):=\\{Y-\\ell(X)-\\theta(D-m(X))\\}(D-m(X)), \\quad \\eta=(\\ell, m)\n",
    "$$\n",
    "\n",
    "というタイプのスコア関数であり、推定量としては\n",
    "\n",
    "$$\n",
    "Y - \\underbrace{ E[Y|X] }_{\\ell_0(X)} = \\theta_0 (D - \\underbrace{ E[D|X]}_{m_0(X)} ) + U\n",
    "$$\n",
    "\n",
    "という、残差回帰タイプの推定量をもたらす。"
   ]
  },
  {
   "cell_type": "code",
   "execution_count": 3,
   "id": "ff43fc96-5c10-4d2f-b415-6bb585f17921",
   "metadata": {},
   "outputs": [
    {
     "data": {
      "text/html": [
       "<div>\n",
       "<style scoped>\n",
       "    .dataframe tbody tr th:only-of-type {\n",
       "        vertical-align: middle;\n",
       "    }\n",
       "\n",
       "    .dataframe tbody tr th {\n",
       "        vertical-align: top;\n",
       "    }\n",
       "\n",
       "    .dataframe thead th {\n",
       "        text-align: right;\n",
       "    }\n",
       "</style>\n",
       "<table border=\"1\" class=\"dataframe\">\n",
       "  <thead>\n",
       "    <tr style=\"text-align: right;\">\n",
       "      <th></th>\n",
       "      <th>coef</th>\n",
       "      <th>std err</th>\n",
       "      <th>t</th>\n",
       "      <th>P&gt;|t|</th>\n",
       "      <th>2.5 %</th>\n",
       "      <th>97.5 %</th>\n",
       "    </tr>\n",
       "  </thead>\n",
       "  <tbody>\n",
       "    <tr>\n",
       "      <th>d</th>\n",
       "      <td>0.438602</td>\n",
       "      <td>0.048179</td>\n",
       "      <td>9.10358</td>\n",
       "      <td>8.740236e-20</td>\n",
       "      <td>0.344173</td>\n",
       "      <td>0.533032</td>\n",
       "    </tr>\n",
       "  </tbody>\n",
       "</table>\n",
       "</div>"
      ],
      "text/plain": [
       "       coef   std err        t         P>|t|     2.5 %    97.5 %\n",
       "d  0.438602  0.048179  9.10358  8.740236e-20  0.344173  0.533032"
      ]
     },
     "execution_count": 3,
     "metadata": {},
     "output_type": "execute_result"
    }
   ],
   "source": [
    "import numpy as np\n",
    "import doubleml as dml\n",
    "from doubleml.datasets import make_plr_CCDDHNR2018\n",
    "from sklearn.ensemble import RandomForestRegressor\n",
    "from sklearn.base import clone\n",
    "np.random.seed(0)\n",
    "learner = RandomForestRegressor(n_estimators=100, max_features=20, max_depth=5, min_samples_leaf=2, random_state=0)\n",
    "ml_g = learner\n",
    "ml_m = learner\n",
    "obj_dml_data = make_plr_CCDDHNR2018(alpha=0.5, n_obs=500, dim_x=20)\n",
    "dml_plr_obj = dml.DoubleMLPLR(obj_dml_data, ml_g, ml_m)\n",
    "dml_plr_obj.fit().summary"
   ]
  },
  {
   "cell_type": "code",
   "execution_count": 7,
   "id": "dce4410b-2302-495f-b121-d9522564ad81",
   "metadata": {},
   "outputs": [
    {
     "ename": "ValueError",
     "evalue": "Invalid score dml2. Valid score IV-type or partialling out.",
     "output_type": "error",
     "traceback": [
      "\u001b[0;31m---------------------------------------------------------------------------\u001b[0m",
      "\u001b[0;31mValueError\u001b[0m                                Traceback (most recent call last)",
      "Cell \u001b[0;32mIn[7], line 6\u001b[0m\n\u001b[1;32m      4\u001b[0m ml_m \u001b[38;5;241m=\u001b[39m learner\n\u001b[1;32m      5\u001b[0m obj_dml_data \u001b[38;5;241m=\u001b[39m make_plr_CCDDHNR2018(alpha\u001b[38;5;241m=\u001b[39m\u001b[38;5;241m0.5\u001b[39m, n_obs\u001b[38;5;241m=\u001b[39m\u001b[38;5;241m500\u001b[39m, dim_x\u001b[38;5;241m=\u001b[39m\u001b[38;5;241m20\u001b[39m)\n\u001b[0;32m----> 6\u001b[0m dml_plr_obj \u001b[38;5;241m=\u001b[39m \u001b[43mdml\u001b[49m\u001b[38;5;241;43m.\u001b[39;49m\u001b[43mDoubleMLPLR\u001b[49m\u001b[43m(\u001b[49m\u001b[43mobj_dml_data\u001b[49m\u001b[43m,\u001b[49m\u001b[43m \u001b[49m\u001b[43mml_g\u001b[49m\u001b[43m,\u001b[49m\u001b[43m \u001b[49m\u001b[43mml_m\u001b[49m\u001b[43m,\u001b[49m\u001b[43m \u001b[49m\u001b[43mscore\u001b[49m\u001b[38;5;241;43m=\u001b[39;49m\u001b[38;5;124;43m\"\u001b[39;49m\u001b[38;5;124;43mdml2\u001b[39;49m\u001b[38;5;124;43m\"\u001b[39;49m\u001b[43m)\u001b[49m\n\u001b[1;32m      7\u001b[0m dml_plr_obj\u001b[38;5;241m.\u001b[39mfit()\u001b[38;5;241m.\u001b[39msummary\n",
      "File \u001b[0;32m/usr/local/lib/python3.10/site-packages/doubleml/plm/plr.py:110\u001b[0m, in \u001b[0;36mDoubleMLPLR.__init__\u001b[0;34m(self, obj_dml_data, ml_l, ml_m, ml_g, n_folds, n_rep, score, draw_sample_splitting)\u001b[0m\n\u001b[1;32m    108\u001b[0m \u001b[38;5;28mself\u001b[39m\u001b[38;5;241m.\u001b[39m_check_data(\u001b[38;5;28mself\u001b[39m\u001b[38;5;241m.\u001b[39m_dml_data)\n\u001b[1;32m    109\u001b[0m valid_scores \u001b[38;5;241m=\u001b[39m [\u001b[38;5;124m'\u001b[39m\u001b[38;5;124mIV-type\u001b[39m\u001b[38;5;124m'\u001b[39m, \u001b[38;5;124m'\u001b[39m\u001b[38;5;124mpartialling out\u001b[39m\u001b[38;5;124m'\u001b[39m]\n\u001b[0;32m--> 110\u001b[0m \u001b[43m_check_score\u001b[49m\u001b[43m(\u001b[49m\u001b[38;5;28;43mself\u001b[39;49m\u001b[38;5;241;43m.\u001b[39;49m\u001b[43mscore\u001b[49m\u001b[43m,\u001b[49m\u001b[43m \u001b[49m\u001b[43mvalid_scores\u001b[49m\u001b[43m,\u001b[49m\u001b[43m \u001b[49m\u001b[43mallow_callable\u001b[49m\u001b[38;5;241;43m=\u001b[39;49m\u001b[38;5;28;43;01mTrue\u001b[39;49;00m\u001b[43m)\u001b[49m\n\u001b[1;32m    112\u001b[0m _ \u001b[38;5;241m=\u001b[39m \u001b[38;5;28mself\u001b[39m\u001b[38;5;241m.\u001b[39m_check_learner(ml_l, \u001b[38;5;124m'\u001b[39m\u001b[38;5;124mml_l\u001b[39m\u001b[38;5;124m'\u001b[39m, regressor\u001b[38;5;241m=\u001b[39m\u001b[38;5;28;01mTrue\u001b[39;00m, classifier\u001b[38;5;241m=\u001b[39m\u001b[38;5;28;01mFalse\u001b[39;00m)\n\u001b[1;32m    113\u001b[0m ml_m_is_classifier \u001b[38;5;241m=\u001b[39m \u001b[38;5;28mself\u001b[39m\u001b[38;5;241m.\u001b[39m_check_learner(ml_m, \u001b[38;5;124m'\u001b[39m\u001b[38;5;124mml_m\u001b[39m\u001b[38;5;124m'\u001b[39m, regressor\u001b[38;5;241m=\u001b[39m\u001b[38;5;28;01mTrue\u001b[39;00m, classifier\u001b[38;5;241m=\u001b[39m\u001b[38;5;28;01mTrue\u001b[39;00m)\n",
      "File \u001b[0;32m/usr/local/lib/python3.10/site-packages/doubleml/utils/_checks.py:132\u001b[0m, in \u001b[0;36m_check_score\u001b[0;34m(score, valid_score, allow_callable)\u001b[0m\n\u001b[1;32m    130\u001b[0m \u001b[38;5;28;01mif\u001b[39;00m \u001b[38;5;28misinstance\u001b[39m(score, \u001b[38;5;28mstr\u001b[39m):\n\u001b[1;32m    131\u001b[0m     \u001b[38;5;28;01mif\u001b[39;00m score \u001b[38;5;129;01mnot\u001b[39;00m \u001b[38;5;129;01min\u001b[39;00m valid_score:\n\u001b[0;32m--> 132\u001b[0m         \u001b[38;5;28;01mraise\u001b[39;00m \u001b[38;5;167;01mValueError\u001b[39;00m(\u001b[38;5;124m'\u001b[39m\u001b[38;5;124mInvalid score \u001b[39m\u001b[38;5;124m'\u001b[39m \u001b[38;5;241m+\u001b[39m score \u001b[38;5;241m+\u001b[39m \u001b[38;5;124m'\u001b[39m\u001b[38;5;124m. \u001b[39m\u001b[38;5;124m'\u001b[39m \u001b[38;5;241m+\u001b[39m\n\u001b[1;32m    133\u001b[0m                          \u001b[38;5;124m'\u001b[39m\u001b[38;5;124mValid score \u001b[39m\u001b[38;5;124m'\u001b[39m \u001b[38;5;241m+\u001b[39m \u001b[38;5;124m'\u001b[39m\u001b[38;5;124m or \u001b[39m\u001b[38;5;124m'\u001b[39m\u001b[38;5;241m.\u001b[39mjoin(valid_score) \u001b[38;5;241m+\u001b[39m \u001b[38;5;124m'\u001b[39m\u001b[38;5;124m.\u001b[39m\u001b[38;5;124m'\u001b[39m)\n\u001b[1;32m    134\u001b[0m \u001b[38;5;28;01melse\u001b[39;00m:\n\u001b[1;32m    135\u001b[0m     \u001b[38;5;28;01mif\u001b[39;00m allow_callable:\n",
      "\u001b[0;31mValueError\u001b[0m: Invalid score dml2. Valid score IV-type or partialling out."
     ]
    }
   ],
   "source": [
    "np.random.seed(0)\n",
    "learner = RandomForestRegressor(n_estimators=100, max_features=20, max_depth=5, min_samples_leaf=2, random_state=0)\n",
    "ml_g = learner\n",
    "ml_m = learner\n",
    "obj_dml_data = make_plr_CCDDHNR2018(alpha=0.5, n_obs=500, dim_x=20)\n",
    "dml_plr_obj = dml.DoubleMLPLR(obj_dml_data, ml_g, ml_m, score=\"dml2\")\n",
    "dml_plr_obj.fit().summary"
   ]
  },
  {
   "cell_type": "markdown",
   "id": "f87f556a-a204-4d6a-980b-2905597593cb",
   "metadata": {},
   "source": [
    "[doubleml-for-py/doubleml/plm/plr.py at main · DoubleML/doubleml-for-py](https://github.com/DoubleML/doubleml-for-py/blob/main/doubleml/plm/plr.py#L18)"
   ]
  },
  {
   "cell_type": "code",
   "execution_count": null,
   "id": "39f3780d-870d-4de5-bf19-16e7447c3a12",
   "metadata": {},
   "outputs": [],
   "source": []
  }
 ],
 "metadata": {
  "kernelspec": {
   "display_name": "Python 3 (ipykernel)",
   "language": "python",
   "name": "python3"
  },
  "language_info": {
   "codemirror_mode": {
    "name": "ipython",
    "version": 3
   },
   "file_extension": ".py",
   "mimetype": "text/x-python",
   "name": "python",
   "nbconvert_exporter": "python",
   "pygments_lexer": "ipython3",
   "version": "3.10.14"
  }
 },
 "nbformat": 4,
 "nbformat_minor": 5
}
