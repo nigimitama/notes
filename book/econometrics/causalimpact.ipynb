{
 "cells": [
  {
   "cell_type": "markdown",
   "id": "63fc6080-28fd-4278-8bce-d0cce1da230d",
   "metadata": {},
   "source": [
    "# Causal Impact"
   ]
  },
  {
   "cell_type": "markdown",
   "id": "5cfbb476-d676-45f4-a0e2-59fefdf0a329",
   "metadata": {},
   "source": [
    "BSTS（ベイズ構造時系列モデル）で予測した対照群と処置群（実測値）とを比較するDID"
   ]
  },
  {
   "cell_type": "markdown",
   "id": "6dd11245-e41e-4799-8558-f657618437ea",
   "metadata": {},
   "source": [
    "## BSTS\n",
    "\n",
    "[[R] bsts (ベイズ構造時系列モデル) パッケージの使い方 - ill-identified diary](https://ill-identified.hatenablog.com/entry/2017/09/08/001002)"
   ]
  },
  {
   "cell_type": "markdown",
   "id": "9e42979c-113f-4a84-94f8-cd8d5ac3739b",
   "metadata": {},
   "source": [
    "## 参考\n",
    "\n",
    "- [Causal Impact -paper summary- - Speaker Deck](https://speakerdeck.com/hoxomaxwell/causal-impact-paper-summary)\n",
    "- [CausalImpactは実装によって中身に重大な差異がある - 渋谷駅前で働くデータサイエンティストのブログ](https://tjo.hatenablog.com/entry/2023/12/04/170000)\n"
   ]
  },
  {
   "cell_type": "code",
   "execution_count": null,
   "id": "2ff32179-db6e-4ce1-a370-f8f3f884937f",
   "metadata": {},
   "outputs": [],
   "source": []
  }
 ],
 "metadata": {
  "kernelspec": {
   "display_name": "",
   "name": ""
  },
  "language_info": {
   "name": ""
  }
 },
 "nbformat": 4,
 "nbformat_minor": 5
}
