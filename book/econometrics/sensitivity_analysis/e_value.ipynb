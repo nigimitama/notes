{
 "cells": [
  {
   "cell_type": "markdown",
   "id": "dab34738-5306-42ec-b2a2-0add55d52b94",
   "metadata": {},
   "source": [
    "# E-value\n",
    "\n",
    "E-Valueは相対リスク（リスク比）などの比率で関連性を測るとき、未観測の交絡因子の影響の強さを簡単に測る方法。\n",
    "\n",
    "**観測された処置と結果の関連性（相対リスク）がすべて交絡因子による影響だと仮定すると、どれだけ交絡因子の影響が強いのか？** を示す。\n",
    "\n",
    ":::{admonition} E-value (VanderWeele & Ding, 2017)\n",
    "\n",
    "$$\n",
    "\\text { E-Value }= \\text{RR} +\\sqrt{ \\text{RR} \\times( \\text{RR} -1)}\n",
    "$$\n",
    "\n",
    ":::\n",
    "\n",
    "ここで $\\text{RR}$は **相対リスク（relative risk）** で、例えば「キャンペーンの有無」が「商品の購入の有無」に与える効果を調べたい場合だと\n",
    "\n",
    "$$\n",
    "\\text{RR} =\n",
    "\\frac{ 処置群での購入の割合 }{ 対照群での購入の割合 }\n",
    "$$\n",
    "\n",
    "となる。これはRRが1より大きい場合で、もしRRが1より小さくなるなら逆数を用いる。\n"
   ]
  },
  {
   "cell_type": "markdown",
   "id": "8021a252-da7f-4c02-885e-7dc9d758f502",
   "metadata": {},
   "source": [
    "## 解釈\n",
    "\n",
    "E-valueが大きいほど、観測された結果と処置の関係は因果関係に近い（ロバストである）と解釈される。\n",
    "\n",
    "例えばRRが1.5（処置で1.5倍改善）だとE-valueは2.37になる。これは、 **もし未観測の交絡因子でこの推定結果を説明するには、未観測の交絡因子が結果変数と処置変数の両方と2.37倍の相対リスクで関連している必要がある** ことを示す。\n"
   ]
  },
  {
   "cell_type": "code",
   "execution_count": 7,
   "id": "e54cc99d-6e04-437f-8e58-773b5b74869e",
   "metadata": {},
   "outputs": [
    {
     "name": "stdout",
     "output_type": "stream",
     "text": [
      "E-value: 2.37\n"
     ]
    }
   ],
   "source": [
    "# 例\n",
    "p_treatment = 0.15 # 処置群での購入割合\n",
    "p_control = 0.10 # 対照群での購入割合\n",
    "\n",
    "RR = p_treatment / p_control\n",
    "\n",
    "import math\n",
    "E = RR + math.sqrt(RR * (RR - 1))\n",
    "print(f\"E-value: {E:.3g}\")"
   ]
  },
  {
   "cell_type": "markdown",
   "id": "94aab4fc-b8c4-4de9-8337-8ed08c258c2c",
   "metadata": {},
   "source": [
    "## 注意点\n",
    "\n",
    "- リスク比など比率で効果を測るときに使う（ATEのような差を見る場合は不適当）\n",
    "- 媒介変数がなく、処置→結果と単純な関係を想定"
   ]
  },
  {
   "cell_type": "markdown",
   "id": "ac6c0db9-98fe-4025-b183-6993721bcdcb",
   "metadata": {
    "tags": []
   },
   "source": [
    "## 導出\n",
    "\n",
    "結果を$Y$、処置を$A$、未観測の交絡因子を$U$とする。\n",
    "\n",
    "- $U \\to A$の影響の強さを相対リスクで$RR_{AU}$と表す\n",
    "- $U \\to Y$の影響の強さを相対リスクで$RR_{UY}$と表す\n",
    "\n",
    "とすると、未観測の交絡因子の影響を受けた観測された相対リスクの上限（bounding factor, $RR_{obs} \\leq BF$）は\n",
    "\n",
    "$$\n",
    "BF = \\frac{R R_{U Y} \\times R R_{A U} }{ RR_{U Y} + RR_{A U} - 1 }\n",
    "$$\n",
    "\n",
    "となる（[Ding & VanderWeele, 2016](https://pubmed.ncbi.nlm.nih.gov/26841057/)）。\n",
    "\n",
    "（ここからは推測を含む）\n",
    "\n",
    "ここで $RR_{U Y} = RR_{A U}$と仮定して $E$とおく\n",
    "\n",
    "$$\n",
    "BF = \\frac{E^2}{2E - 1}\n",
    "$$\n",
    "\n",
    "ここで、 **「観測された処置と結果の関連性$RR_{obs}$ が すべて未観測の交絡因子による影響である場合（$RR_{obs} = BF$）に交絡の強さ $E=RR_{U Y} = RR_{A U}$ がいくつ必要か?」** という問題を解くことにする。\n",
    "\n",
    "$$\n",
    "RR_{obs} = \\frac{E^2}{2E - 1}\n",
    "$$\n",
    "\n",
    "を変形すると\n",
    "\n",
    "$$\n",
    "E^2 - 2 E \\times RR_{obs} + RR_{obs} = 0\n",
    "$$\n",
    "\n",
    "という二次方程式に整理できる。\n",
    "\n",
    "二次方程式 $x^2+b x+c=0$ の解の公式 $x=\\frac{-b \\pm \\sqrt{b^2-4 c}}{2}$ に対して $b=-2 RR_{obs}, c = RR_{obs}$とすると\n",
    "\n",
    "$$\n",
    "\\begin{aligned}\n",
    "E &= \\frac{ 2 RR_{obs} \\pm \\sqrt{ 4 RR_{obs}^2 - 4 RR_{obs}}}{2}\\\\\n",
    "&= \\frac{ 2 RR_{obs} \\pm 2 \\sqrt{ RR_{obs}^2 - RR_{obs}}}{2} \\\\\n",
    "&= RR_{obs} \\pm \\sqrt{ RR_{obs} (RR_{obs} - 1)}\n",
    "\\end{aligned}\n",
    "$$\n",
    "\n",
    "$RR_{obs}$が正の場合に限定すれば\n",
    "\n",
    "$$\n",
    "E = RR_{obs} + \\sqrt{ RR_{obs} (RR_{obs} - 1)}\n",
    "$$\n",
    "\n",
    "\n",
    "\n"
   ]
  },
  {
   "cell_type": "markdown",
   "id": "3ea31ad7-dfd4-4859-a6c0-729d22c7fa49",
   "metadata": {},
   "source": [
    "## パッケージ\n",
    "\n",
    "DoWhyパッケージで作図を含めた関数がある\n",
    "\n",
    "[Sensitivity Analysis for Regression Models — DoWhy documentation](https://www.pywhy.org/dowhy/v0.10/example_notebooks/sensitivity_analysis_testing.html#Step-6b:-Refutation-and-Sensitivity-Analysis---Method-2)"
   ]
  },
  {
   "cell_type": "code",
   "execution_count": null,
   "id": "56143059-562d-4aad-baa4-c4f957ca7b90",
   "metadata": {},
   "outputs": [],
   "source": []
  },
  {
   "cell_type": "markdown",
   "id": "8ae56681-8fa6-4067-a43d-da5dcaa9814c",
   "metadata": {},
   "source": [
    ":::{card} 参考文献\n",
    "\n",
    "- [Ding, P., & VanderWeele, T. J. (2016). Sensitivity analysis without assumptions. Epidemiology, 27(3), 368-377.](https://pubmed.ncbi.nlm.nih.gov/26841057/)\n",
    "- [VanderWeele, T. J., & Ding, P. (2017). Sen}sitivity analysis in observational research: introducing the E-value. Annals of internal medicine, 167(4), 268-274.](https://www.acpjournals.org/doi/pdf/10.7326/m16-2607?casa_token=eV2YvvqK_ZgAAAAA:VR_9M5eLezZrikd03IZXew8fJjBcPIW3E7QT_ZYrHh6M-shVOxEwmZVWDWGFFWuNH3B9w7inywr6)\n",
    "- [VanderWeele, T. J., Ding, P., & Mathur, M. (2019). Technical considerations in the use of the E-value. Journal of Causal Inference, 7(2), 20180007.](https://www.degruyter.com/document/doi/10.1515/jci-2018-0007/html)\n",
    "\n",
    ":::"
   ]
  }
 ],
 "metadata": {
  "kernelspec": {
   "display_name": "Python 3 (ipykernel)",
   "language": "python",
   "name": "python3"
  },
  "language_info": {
   "codemirror_mode": {
    "name": "ipython",
    "version": 3
   },
   "file_extension": ".py",
   "mimetype": "text/x-python",
   "name": "python",
   "nbconvert_exporter": "python",
   "pygments_lexer": "ipython3",
   "version": "3.10.18"
  }
 },
 "nbformat": 4,
 "nbformat_minor": 5
}
