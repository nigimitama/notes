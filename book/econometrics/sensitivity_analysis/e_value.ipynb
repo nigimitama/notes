{
 "cells": [
  {
   "cell_type": "markdown",
   "id": "dab34738-5306-42ec-b2a2-0add55d52b94",
   "metadata": {},
   "source": [
    "# E-value\n",
    "\n",
    "E-Valueは未観測の交絡因子の影響の強さを簡単に測る方法。\n",
    "\n",
    "$$\n",
    "\\text { E-Value }= \\text{RR} +\\sqrt{ \\text{RR} \\times( \\text{RR} -1)}\n",
    "$$\n",
    "\n",
    "$\\text{RR}$は相対リスク（relative risk）で、例えば「キャンペーンの有無」が「商品の購入の有無」に与える効果を調べたい場合だと\n",
    "\n",
    "$$\n",
    "\\text{RR} =\n",
    "\\frac{ 処置群での購入の割合 }{ 対照群での購入の割合 }\n",
    "$$\n",
    "\n",
    "となる。これはRRが1より大きい場合で、もしRRが1より小さくなるなら逆数を用いる。\n",
    "\n",
    "E-valueが大きいほど、観測された結果と処置の関係は因果関係に近い（ロバストである）と解釈される。\n",
    "\n",
    "例えばRRが1.5（処置で1.5倍改善）だとE-valueは2.37になる。これは、もし未観測の交絡因子でこの推定結果を説明するには、未観測の交絡因子が結果変数と処置変数の両方と2.37倍の相対リスクで関連している必要があることを示す。\n"
   ]
  },
  {
   "cell_type": "code",
   "execution_count": 7,
   "id": "e54cc99d-6e04-437f-8e58-773b5b74869e",
   "metadata": {},
   "outputs": [
    {
     "name": "stdout",
     "output_type": "stream",
     "text": [
      "E-value: 2.37\n"
     ]
    }
   ],
   "source": [
    "# 例\n",
    "p_treatment = 0.15 # 処置群での購入割合\n",
    "p_control = 0.10 # 対照群での購入割合\n",
    "\n",
    "RR = p_treatment / p_control\n",
    "\n",
    "import math\n",
    "E = RR + math.sqrt(RR * (RR - 1))\n",
    "print(f\"E-value: {E:.3g}\")"
   ]
  },
  {
   "cell_type": "markdown",
   "id": "8ae56681-8fa6-4067-a43d-da5dcaa9814c",
   "metadata": {},
   "source": [
    ":::{card} 参考文献\n",
    "\n",
    "- [VanderWeele, T. J., & Ding, P. (2017). Sensitivity analysis in observational research: introducing the E-value. Annals of internal medicine, 167(4), 268-274.](https://www.acpjournals.org/doi/pdf/10.7326/m16-2607?casa_token=eV2YvvqK_ZgAAAAA:VR_9M5eLezZrikd03IZXew8fJjBcPIW3E7QT_ZYrHh6M-shVOxEwmZVWDWGFFWuNH3B9w7inywr6)\n",
    "- [VanderWeele, T. J., Ding, P., & Mathur, M. (2019). Technical considerations in the use of the E-value. Journal of Causal Inference, 7(2), 20180007.](https://www.degruyter.com/document/doi/10.1515/jci-2018-0007/html)\n",
    "\n",
    ":::"
   ]
  }
 ],
 "metadata": {
  "kernelspec": {
   "display_name": "Python 3 (ipykernel)",
   "language": "python",
   "name": "python3"
  },
  "language_info": {
   "codemirror_mode": {
    "name": "ipython",
    "version": 3
   },
   "file_extension": ".py",
   "mimetype": "text/x-python",
   "name": "python",
   "nbconvert_exporter": "python",
   "pygments_lexer": "ipython3",
   "version": "3.10.18"
  }
 },
 "nbformat": 4,
 "nbformat_minor": 5
}
