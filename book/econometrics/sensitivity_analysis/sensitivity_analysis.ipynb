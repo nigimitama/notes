{
 "cells": [
  {
   "cell_type": "markdown",
   "id": "fc0748a6-3410-49c2-912b-96ac645238e2",
   "metadata": {},
   "source": [
    "# 感度分析\n",
    "\n",
    "感度分析（sensitivity analysis）はモデルにさまざまなデータを入力し、推定した因果効果についての妥当性を評価する方法。\n",
    "\n",
    "入力を変化させたときの出力の変化の「方向（正負）」と「度合い（強さ）」を測る。\n",
    "\n"
   ]
  },
  {
   "cell_type": "markdown",
   "id": "69ec4fc7-1315-4613-9a1b-90159f3d59c0",
   "metadata": {},
   "source": [
    "## E-value\n",
    "\n",
    "E-Valueは未観測の交絡因子の影響の強さを簡単に測る方法。\n",
    "\n",
    "$$\n",
    "\\text { E-Value }= \\text{RR} +\\sqrt{ \\text{RR} \\times( \\text{RR} -1)}\n",
    "$$\n",
    "\n",
    "$\\text{RR}$は相対リスク（relative risk）で、例えば「キャンペーンの有無」が「商品の購入の有無」に与える効果を調べたい場合だと\n",
    "\n",
    "$$\n",
    "\\text{RR} =\n",
    "\\frac{ 処置群での購入の割合 }{ 対照群での購入の割合 }\n",
    "$$\n",
    "\n",
    "となる。これはRRが1より大きい場合で、もしRRが1より小さくなるなら逆数を用いる。\n",
    "\n",
    "E-valueが大きいほど、観測された結果と処置の関係は因果関係に近い（ロバストである）と解釈される。\n",
    "\n",
    "例えばRRが1.5（処置で1.5倍改善）だとE-valueは2.37になる。これは、もし未観測の交絡因子でこの推定結果を説明するには、未観測の交絡因子が結果変数と処置変数の両方と2.37倍の相対リスクで関連している必要があることを示す。\n"
   ]
  },
  {
   "cell_type": "code",
   "execution_count": 7,
   "id": "c5844ac2-3c06-4a0c-be9b-4facd75848e2",
   "metadata": {},
   "outputs": [
    {
     "name": "stdout",
     "output_type": "stream",
     "text": [
      "E-value: 2.37\n"
     ]
    }
   ],
   "source": [
    "# 例\n",
    "p_treatment = 0.15 # 処置群での購入割合\n",
    "p_control = 0.10 # 対照群での購入割合\n",
    "\n",
    "RR = p_treatment / p_control\n",
    "\n",
    "import math\n",
    "E = RR + math.sqrt(RR * (RR - 1))\n",
    "print(f\"E-value: {E:.3g}\")"
   ]
  },
  {
   "cell_type": "markdown",
   "id": "e8dd5a03-2d26-4808-9193-6810ef276109",
   "metadata": {},
   "source": [
    ":::{card} 参考文献\n",
    "\n",
    "- [VanderWeele, T. J., & Ding, P. (2017). Sensitivity analysis in observational research: introducing the E-value. Annals of internal medicine, 167(4), 268-274.](https://www.acpjournals.org/doi/pdf/10.7326/m16-2607?casa_token=eV2YvvqK_ZgAAAAA:VR_9M5eLezZrikd03IZXew8fJjBcPIW3E7QT_ZYrHh6M-shVOxEwmZVWDWGFFWuNH3B9w7inywr6)\n",
    "- [VanderWeele, T. J., Ding, P., & Mathur, M. (2019). Technical considerations in the use of the E-value. Journal of Causal Inference, 7(2), 20180007.](https://www.degruyter.com/document/doi/10.1515/jci-2018-0007/html)\n",
    "\n",
    ":::"
   ]
  },
  {
   "cell_type": "markdown",
   "id": "c3a96326-ccff-413e-ad17-0c319ff792a6",
   "metadata": {},
   "source": [
    "## 機械学習を利用した感度分析1：Veitch & Zaveri (2020)\n",
    "\n",
    "[Veitch & Zaveri (2020)](https://proceedings.neurips.cc/paper/2020/hash/7d265aa7147bd3913fb84c7963a209d1-Abstract.html)は機械学習を用いた感度分析を提案した\n",
    "\n",
    "長所は\n",
    "\n",
    "1. 未観測の交絡因子が1つでも複数でも対応可能\n",
    "2. 非線形モデルにも対応可能\n",
    "\n",
    "短所は\n",
    "1. 大体の傾向しか出せない\n",
    "2. サンプル数が小さいと精度が低い\n",
    "\n",
    "\n",
    "実装\n",
    "\n",
    "- [anishazaveri/austen_plots](https://github.com/anishazaveri/austen_plots)\n",
    "\n",
    "\n",
    "\n",
    ":::{card} 参考文献\n",
    "\n",
    "- [Veitch, V., & Zaveri, A. (2020). Sense and sensitivity analysis: Simple post-hoc analysis of bias due to unobserved confounding. Advances in neural information processing systems, 33, 10999-11009.](https://proceedings.neurips.cc/paper/2020/hash/7d265aa7147bd3913fb84c7963a209d1-Abstract.html)\n",
    "- [<論文要約> Sense and Sensitivity Analysis: Simple Post-Hoc Analysis of Bias Due to Unobserved Confounding (NeurIPS2020) - 名前はまだない](https://saltcooky.hatenablog.com/entry/2021/08/06/021526)\n",
    "\n",
    ":::"
   ]
  },
  {
   "cell_type": "markdown",
   "id": "bba83b2f-9260-4a1f-87d5-0a39f2143e76",
   "metadata": {},
   "source": [
    "## 機械学習を利用した感度分析2：Chernozhukov, et al. (2022)\n",
    "\n",
    "[Chernozhukov, et al. (2022)](https://www.nber.org/papers/w30302)は部分線形モデル（DML）の感度分析を提案\n",
    "\n",
    "[DoWhy documentation](https://www.pywhy.org/dowhy/v0.11.1/example_notebooks/sensitivity_analysis_nonparametric_estimators.html) が概要の解説と実装の両面で参考になる\n",
    "\n",
    "\n",
    ":::{card} 参考文献\n",
    "\n",
    "- [Chernozhukov, V., Cinelli, C., Newey, W., Sharma, A., & Syrgkanis, V. (2022). Long story short: Omitted variable bias in causal machine learning (No. w30302). National Bureau of Economic Research.](https://www.nber.org/papers/w30302)\n",
    "- [Sensitivity analysis for non-parametric causal estimators — DoWhy documentation](https://www.pywhy.org/dowhy/v0.11.1/example_notebooks/sensitivity_analysis_nonparametric_estimators.html)\n",
    "\n",
    ":::"
   ]
  },
  {
   "cell_type": "markdown",
   "id": "9c4b7658-5fcf-46b9-86aa-5ae19a984ee4",
   "metadata": {},
   "source": [
    "## Semiparametric\n",
    "\n",
    "[Semiparametric sensitivity analysis: unmeasured confounding in observational studies | Biometrics | Oxford Academic](https://academic.oup.com/biometrics/article/80/4/ujae106/7821107)\n"
   ]
  },
  {
   "cell_type": "markdown",
   "id": "518f0a8d-6bfa-44d8-8191-d9e5ca398e1f",
   "metadata": {},
   "source": [
    "## 企業での利用例\n",
    "\n",
    "### Uber\n",
    "\n",
    "Uberの因果推論フレームワークCeViChEにおいて感度分析を行っている\n",
    "\n",
    "主に\n",
    "\n",
    "- プラセボテスト\n",
    "- 関係のない交絡因子の追加・置換\n",
    "- サブセットデータを用いた検証\n",
    "- 選択バイアスの検証\n",
    "\n",
    "を行って多角的に感度分析している\n",
    "\n",
    "\n",
    "\n",
    ":::{card} 参考文献\n",
    "\n",
    "[(Share) KDD2021 Case Study #1 Causal Impact Analysis - CeViChE - Google スライド](https://docs.google.com/presentation/d/1FvRtis2fm4c2R7XmRKWMTtZaZjUObW1fGxpNmapmjKI/edit#slide=id.ge6ef5be800_0_478)\n",
    "\n",
    ":::"
   ]
  },
  {
   "cell_type": "markdown",
   "id": "edb20ea1-6a16-4967-b9c7-58285335a046",
   "metadata": {},
   "source": [
    "### Spotify\n",
    "\n",
    "[Zeitler, J., Vlontzos, A., & Gilligan-Lee, C. M. (2023, August). Non-parametric identifiability and sensitivity analysis of synthetic control models. In Conference on Causal Learning and Reasoning (pp. 850-865). PMLR.](https://proceedings.mlr.press/v213/zeitler23a.html)\n",
    "\n",
    "タイトルの通り、Synthetic Controlの感度分析\n",
    "\n",
    "著者のうちのVlontzosはSpotifyの人\n",
    "\n"
   ]
  },
  {
   "cell_type": "markdown",
   "id": "0a7b40ad-8a5d-4429-b1f3-c1def2252126",
   "metadata": {},
   "source": [
    "### Booking.comでの事例\n",
    "\n",
    "[KDD 2024 Workshop](https://causal-machine-learning.github.io/kdd2024-workshop/) で出てきた発表\n",
    "\n",
    "- [slides](https://drive.google.com/file/d/1v0hlVkEh15ZYi3xAdoO57Us7GHKYLoYv/view)\n",
    "- paper: [Sensitivity Analysis for Causal ML: A Use Case at Booking. com.](https://carloscinelli.com/files/Bach%20et%20al%20-%20Booking.pdf)\n",
    "- DoubleMLのドキュメントにコードが有る [Example: Sensitivity Analysis for Causal ML — DoubleML documentation](https://docs.doubleml.org/stable/examples/py_double_ml_sensitivity_booking.html)\n",
    "\n"
   ]
  }
 ],
 "metadata": {
  "kernelspec": {
   "display_name": "Python 3 (ipykernel)",
   "language": "python",
   "name": "python3"
  },
  "language_info": {
   "codemirror_mode": {
    "name": "ipython",
    "version": 3
   },
   "file_extension": ".py",
   "mimetype": "text/x-python",
   "name": "python",
   "nbconvert_exporter": "python",
   "pygments_lexer": "ipython3",
   "version": "3.10.18"
  }
 },
 "nbformat": 4,
 "nbformat_minor": 5
}
