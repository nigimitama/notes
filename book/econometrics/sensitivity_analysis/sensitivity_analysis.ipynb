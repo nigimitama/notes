{
 "cells": [
  {
   "cell_type": "markdown",
   "id": "fc0748a6-3410-49c2-912b-96ac645238e2",
   "metadata": {},
   "source": [
    "# 感度分析\n",
    "\n",
    "感度分析（sensitivity analysis）はモデルにさまざまなデータを入力し、推定した因果効果についての妥当性を評価する方法。\n",
    "\n",
    "入力を変化させたときの出力の変化の「方向（正負）」と「度合い（強さ）」を測る。\n",
    "\n"
   ]
  },
  {
   "cell_type": "markdown",
   "id": "a1fad11a-fa5f-4f4b-8649-fba1ad2cb6dc",
   "metadata": {},
   "source": [
    "## 手法\n",
    "\n",
    "Rosenbaum bound（Rosenbaum 2002）は結果変数が二値で、未観測の交絡因子が1次元かつ$[0, 1]$の範囲の値をとる場合の感度分析\n",
    "\n",
    "- [](/econometrics/sensitivity_analysis/rosenbaum_bound.ipynb)\n",
    "\n",
    "部分決定係数（Partial R2, [Imbens 2003](https://www.aeaweb.org/articles?id=10.1257/000282803321946921)）は線形回帰モデルの欠落変数バイアスを測る。\n",
    "\n",
    "- [](/econometrics/sensitivity_analysis/partial_r2.ipynb)\n",
    "- Partial R2は未観測の交絡因子が1つの場合を想定しているが、多次元に拡張した手法もある\n",
    "\n",
    "Austen plot（[Veitch & Zaveri, 2020](https://proceedings.neurips.cc/paper/2020/hash/7d265aa7147bd3913fb84c7963a209d1-Abstract.html)）はPartial R2を非線形モデル（機械学習など）でも使えるように拡張したような手法\n",
    "\n",
    "- [](/econometrics/sensitivity_analysis/austen_plot.ipynb)\n",
    "\n",
    "\n",
    "E-value（[VanderWeele & Ding, 2017](https://pubmed.ncbi.nlm.nih.gov/28693043/)）はリスク比のように比率で効果を測るときの感度分析で、モデルに依存せず、「観測された関連性（処置群と対照群の結果のリスク比）がすべて交絡因子のせいだとしたら、その交絡因子はどれだけ強い関連性（リスク比）をもつのか」を評価するシンプルで使いやすい指標。\n",
    "\n",
    "- [](/econometrics/sensitivity_analysis/e_value.ipynb)\n"
   ]
  },
  {
   "cell_type": "markdown",
   "id": "2689ad06-ea46-4feb-9c07-be02bce85e9c",
   "metadata": {},
   "source": [
    "## 企業での利用例\n",
    "\n",
    "### Uberの事例\n",
    "\n",
    "Uberの因果推論フレームワークCeViChEにおいて感度分析を行っている\n",
    "\n",
    "主に\n",
    "\n",
    "- プラセボテスト\n",
    "- 関係のない交絡因子の追加・置換\n",
    "- サブセットデータを用いた検証\n",
    "- 選択バイアスの検証\n",
    "\n",
    "を行って多角的に感度分析している\n",
    "\n",
    "\n",
    "\n",
    ":::{card} 参考文献\n",
    "\n",
    "[(Share) KDD2021 Case Study #1 Causal Impact Analysis - CeViChE - Google スライド](https://docs.google.com/presentation/d/1FvRtis2fm4c2R7XmRKWMTtZaZjUObW1fGxpNmapmjKI/edit#slide=id.ge6ef5be800_0_478)\n",
    "\n",
    ":::"
   ]
  },
  {
   "cell_type": "markdown",
   "id": "e720cd42-5437-4b56-bd52-3b38e3bba9ee",
   "metadata": {},
   "source": [
    "### Spotifyでの事例\n",
    "\n",
    "[Zeitler, J., Vlontzos, A., & Gilligan-Lee, C. M. (2023, August). Non-parametric identifiability and sensitivity analysis of synthetic control models. In Conference on Causal Learning and Reasoning (pp. 850-865). PMLR.](https://proceedings.mlr.press/v213/zeitler23a.html)\n",
    "\n",
    "タイトルの通り、Synthetic Controlの感度分析\n",
    "\n",
    "著者のうちのVlontzosはSpotifyの人\n",
    "\n"
   ]
  },
  {
   "cell_type": "markdown",
   "id": "af417ad0-d015-428f-b9cb-e48b447e5e4e",
   "metadata": {},
   "source": [
    "### Booking.comでの事例\n",
    "\n",
    "[KDD 2024 Workshop](https://causal-machine-learning.github.io/kdd2024-workshop/) で出てきた発表\n",
    "\n",
    "- [slides](https://drive.google.com/file/d/1v0hlVkEh15ZYi3xAdoO57Us7GHKYLoYv/view)\n",
    "- paper: [Sensitivity Analysis for Causal ML: A Use Case at Booking. com.](https://carloscinelli.com/files/Bach%20et%20al%20-%20Booking.pdf)\n",
    "- DoubleMLのドキュメントにコードが有る [Example: Sensitivity Analysis for Causal ML — DoubleML documentation](https://docs.doubleml.org/stable/examples/py_double_ml_sensitivity_booking.html)\n",
    "\n"
   ]
  },
  {
   "cell_type": "markdown",
   "id": "c3a96326-ccff-413e-ad17-0c319ff792a6",
   "metadata": {},
   "source": [
    "## 機械学習を利用した感度分析1：Veitch & Zaveri (2020)\n",
    "\n",
    "[Veitch & Zaveri (2020)](https://proceedings.neurips.cc/paper/2020/hash/7d265aa7147bd3913fb84c7963a209d1-Abstract.html)は機械学習を用いた感度分析を提案した\n",
    "\n",
    "長所は\n",
    "\n",
    "1. 未観測の交絡因子が1つでも複数でも対応可能\n",
    "2. 非線形モデルにも対応可能\n",
    "\n",
    "短所は\n",
    "1. 大体の傾向しか出せない\n",
    "2. サンプル数が小さいと精度が低い\n",
    "\n",
    "\n",
    "実装\n",
    "\n",
    "- [anishazaveri/austen_plots](https://github.com/anishazaveri/austen_plots)\n",
    "\n",
    "\n",
    "\n",
    ":::{card} 参考文献\n",
    "\n",
    "- [Veitch, V., & Zaveri, A. (2020). Sense and sensitivity analysis: Simple post-hoc analysis of bias due to unobserved confounding. Advances in neural information processing systems, 33, 10999-11009.](https://proceedings.neurips.cc/paper/2020/hash/7d265aa7147bd3913fb84c7963a209d1-Abstract.html)\n",
    "- [<論文要約> Sense and Sensitivity Analysis: Simple Post-Hoc Analysis of Bias Due to Unobserved Confounding (NeurIPS2020) - 名前はまだない](https://saltcooky.hatenablog.com/entry/2021/08/06/021526)\n",
    "\n",
    ":::"
   ]
  },
  {
   "cell_type": "markdown",
   "id": "bba83b2f-9260-4a1f-87d5-0a39f2143e76",
   "metadata": {},
   "source": [
    "## 機械学習を利用した感度分析2：Chernozhukov, et al. (2022)\n",
    "\n",
    "[Chernozhukov, et al. (2022)](https://www.nber.org/papers/w30302)は部分線形モデル（DML）の感度分析を提案\n",
    "\n",
    "[DoWhy documentation](https://www.pywhy.org/dowhy/v0.11.1/example_notebooks/sensitivity_analysis_nonparametric_estimators.html) が概要の解説と実装の両面で参考になる\n",
    "\n",
    "\n",
    ":::{card} 参考文献\n",
    "\n",
    "- [Chernozhukov, V., Cinelli, C., Newey, W., Sharma, A., & Syrgkanis, V. (2022). Long story short: Omitted variable bias in causal machine learning (No. w30302). National Bureau of Economic Research.](https://www.nber.org/papers/w30302)\n",
    "- [Sensitivity analysis for non-parametric causal estimators — DoWhy documentation](https://www.pywhy.org/dowhy/v0.11.1/example_notebooks/sensitivity_analysis_nonparametric_estimators.html)\n",
    "\n",
    ":::"
   ]
  },
  {
   "cell_type": "markdown",
   "id": "9c4b7658-5fcf-46b9-86aa-5ae19a984ee4",
   "metadata": {},
   "source": [
    "## Semiparametric\n",
    "\n",
    "[Semiparametric sensitivity analysis: unmeasured confounding in observational studies | Biometrics | Oxford Academic](https://academic.oup.com/biometrics/article/80/4/ujae106/7821107)\n"
   ]
  }
 ],
 "metadata": {
  "kernelspec": {
   "display_name": "Python 3 (ipykernel)",
   "language": "python",
   "name": "python3"
  },
  "language_info": {
   "codemirror_mode": {
    "name": "ipython",
    "version": 3
   },
   "file_extension": ".py",
   "mimetype": "text/x-python",
   "name": "python",
   "nbconvert_exporter": "python",
   "pygments_lexer": "ipython3",
   "version": "3.10.18"
  }
 },
 "nbformat": 4,
 "nbformat_minor": 5
}
