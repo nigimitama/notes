{
 "cells": [
  {
   "cell_type": "markdown",
   "id": "09e6ee42-903b-4ff6-9ef2-7425e2e620d7",
   "metadata": {},
   "source": [
    "# Austen plot\n",
    "\n",
    "[Veitch & Zaveri (2020)](https://proceedings.neurips.cc/paper/2020/hash/7d265aa7147bd3913fb84c7963a209d1-Abstract.html) は Imbens (2003) のPartial R2を一般化し、 **Austen plot（オースティン・プロット）** という図で視覚的に示す方法を提案した。\n",
    "\n",
    "長所は\n",
    "\n",
    "1. 未観測の交絡因子が1つでも複数でも対応可能\n",
    "2. 非線形モデルにも対応可能\n",
    "\n",
    "（Partial R2は線形モデルで、1つの交絡因子のみが対象だった）\n",
    "\n",
    "短所は\n",
    "\n",
    "1. 大体の傾向しか出せない\n",
    "2. サンプル数が小さいと精度が低い\n",
    "\n",
    "\n"
   ]
  },
  {
   "cell_type": "markdown",
   "id": "2dcc59f3-0644-4e8b-9aa0-a63f256536a5",
   "metadata": {},
   "source": [
    "## 理論の概要\n",
    "\n",
    "### Sensitivity Model\n",
    "\n",
    "Imbens (2003)と同様に、未観測の交絡因子$U$をベルヌーイ分布に従う存在としてモデル化し、処置$T$や結果$Y$への$U$の影響を含めたモデルを構築する。\n",
    "\n",
    "$$\n",
    "\\begin{gathered}\n",
    "U_i \\stackrel{i i d}{\\sim} \\operatorname{Bern}(1/2)\n",
    "\\\\\n",
    "T(X, U) \\stackrel{\\text { ind }}{\\sim} \\operatorname{Bern}(\\hat{g}(X, U))\n",
    "\\\\\n",
    "E[Y \\mid X, T, U] = Q(T, X)+\\delta(\\operatorname{logit} \\hat{g}(X, U)-E[\\operatorname{logit} \\hat{g}(X, U) \\mid X, T])\n",
    "\\end{gathered}\n",
    "$$\n",
    "\n",
    "ただし、非線形関数を許容し、また条件付き処置効果CATEへの対応もしている\n",
    "\n",
    "- $\\tau=E[E[Y \\mid X, T=1]-E[Y \\mid X, T=0]]$ ：条件付き因果効果\n",
    "- $g(x)=P(T=1 \\mid X=x)$ ：（条件付き）傾向スコア\n",
    "- $Q(t, x)=E[Y \\mid T=t, X=x]$ ：（条件付き）結果変数モデル\n",
    "\n",
    "\n",
    ":::{card} （参考） Imbens (2003)\n",
    "\n",
    "$$\n",
    "\\begin{gathered}\n",
    "U_i \\stackrel{i i d}{\\sim} \\operatorname{Bern}(1 / 2) \\\\\n",
    "T_i \\mid X_i, U_i \\stackrel{i n d}{\\sim} \\operatorname{Bern}\\left(\\operatorname{sig}\\left(\\gamma X_i+\\alpha U_i\\right)\\right) \\\\\n",
    "Y_i \\mid X_i, T_i, U_i \\stackrel{i n d}{\\sim} \\operatorname{Norm}\\left(\\tau T_i+\\beta X_i+\\delta U_i, \\sigma^2\\right)\n",
    "\\end{gathered}\n",
    "$$\n",
    "\n",
    ":::\n",
    "\n"
   ]
  },
  {
   "cell_type": "markdown",
   "id": "f712ed56-69c7-4c65-a848-81eaba0e5b72",
   "metadata": {},
   "source": []
  },
  {
   "cell_type": "markdown",
   "id": "7c21b8d8-0704-474d-b0a4-61dfbb2617ec",
   "metadata": {},
   "source": [
    "実装\n",
    "\n",
    "- [anishazaveri/austen_plots](https://github.com/anishazaveri/austen_plots)\n"
   ]
  },
  {
   "cell_type": "code",
   "execution_count": 3,
   "id": "e6253d22-0dc3-473a-bd70-4dfd1878ada3",
   "metadata": {
    "tags": []
   },
   "outputs": [],
   "source": [
    "from austen_plots.AustenPlot import AustenPlot"
   ]
  },
  {
   "cell_type": "code",
   "execution_count": null,
   "id": "5cec5090-4d50-49bc-9c1e-5526870991d3",
   "metadata": {},
   "outputs": [],
   "source": []
  },
  {
   "cell_type": "markdown",
   "id": "a6c7e4be-e206-423e-b298-49f582ae74ee",
   "metadata": {},
   "source": [
    "## 参考文献\n",
    "\n",
    "- [Veitch, V., & Zaveri, A. (2020). Sense and sensitivity analysis: Simple post-hoc analysis of bias due to unobserved confounding. Advances in neural information processing systems, 33, 10999-11009.](https://proceedings.neurips.cc/paper/2020/hash/7d265aa7147bd3913fb84c7963a209d1-Abstract.html)\n",
    "- [<論文要約> Sense and Sensitivity Analysis: Simple Post-Hoc Analysis of Bias Due to Unobserved Confounding (NeurIPS2020) - 名前はまだない](https://saltcooky.hatenablog.com/entry/2021/08/06/021526)\n"
   ]
  }
 ],
 "metadata": {
  "kernelspec": {
   "display_name": "Python 3 (ipykernel)",
   "language": "python",
   "name": "python3"
  },
  "language_info": {
   "codemirror_mode": {
    "name": "ipython",
    "version": 3
   },
   "file_extension": ".py",
   "mimetype": "text/x-python",
   "name": "python",
   "nbconvert_exporter": "python",
   "pygments_lexer": "ipython3",
   "version": "3.10.18"
  }
 },
 "nbformat": 4,
 "nbformat_minor": 5
}
