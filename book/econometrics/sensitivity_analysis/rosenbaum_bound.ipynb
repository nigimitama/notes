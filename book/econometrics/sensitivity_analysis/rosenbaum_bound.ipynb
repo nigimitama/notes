{
 "cells": [
  {
   "cell_type": "markdown",
   "id": "9fd69f90-8c32-48a6-ab45-a8f1e9b7748e",
   "metadata": {},
   "source": [
    "# Rosenbaum Bounds"
   ]
  },
  {
   "cell_type": "markdown",
   "id": "11f6c16d-68eb-4bed-bffa-60cee42fabd2",
   "metadata": {},
   "source": [
    "Rosenbaumは結果変数が2値の場合に利用できる簡単な方法を提案した。\n",
    "\n",
    "処置変数$z_i \\in \\{0, 1\\}$が、ロジスティック回帰で、\n",
    "\n",
    "$$\n",
    "\\log \\left(\\frac{\\pi_i}{1-\\pi_i}\\right)\n",
    "= g(\\mathrm{x}_i) + \\gamma \\ u_i, \\quad \\text { where } u_i \\in[0,1]\n",
    "$$\n",
    "\n",
    "と表される、つまり傾向スコア $\\pi_i = p(z_i = 1 \\mid \\mathrm{x}_i)$ が観測された共変量の関数 $g(\\mathrm{x}_i)$ だけでなく未観測の交絡因子 $u_i \\ (0\\leq u_i \\leq 1)$ にも依存すると考える。\n",
    "\n",
    "未観測の交絡因子$u_i$からの係数$\\gamma$を変化させることで、その影響を調べることができる。"
   ]
  },
  {
   "cell_type": "markdown",
   "id": "ae57ac10-a8d7-43c8-9a71-6c5c777da115",
   "metadata": {},
   "source": [
    "$\\Gamma = \\exp \\gamma$ とおくと、全く同じ共変量の値をもつ2つの対象者$i$と$i'$についてのオッズ比は\n",
    "\n",
    "$$\n",
    "\\frac{1}{\\Gamma} \\leq \\frac{\\pi_{i} / (1-\\pi_{i'})}{\\pi_{i'} /(1-\\pi_{i})} \\leq \\Gamma\n",
    ",\\quad \\text {for all } i \\text{ with } \\mathbf{x}_{i} = \\mathbf{x}_{i'},\n",
    "$$\n",
    "\n",
    "となる。\n",
    "\n",
    "また同値の別表現で\n",
    "\n",
    "$$\n",
    "\\frac{1}{1+\\Gamma} \\leq P(z_{i}=1, z_{i'}=0 \\mid \\mathbf{x}_i) \\leq \\frac{\\Gamma}{1+\\Gamma}\n",
    "$$\n",
    "\n",
    "ともなる。\n",
    "\n",
    "これらの区間は Rosenbaum Bounds と呼ばれ、ローゼンバウムからは検定に対する感度分析が提案されている。"
   ]
  },
  {
   "cell_type": "markdown",
   "id": "6474dcbc-b969-4962-b2ac-cc085d46d9bb",
   "metadata": {},
   "source": [
    "## 参考\n",
    "\n",
    "- 星野崇宏. (2009). 調査観察データの統計科学: 因果推論・選択バイアス・データ融合.\n",
    "- [[2403.14152] Generalized Rosenbaum Bounds Sensitivity Analysis for Matched Observational Studies with Treatment Doses: Sufficiency, Consistency, and Efficiency](https://arxiv.org/abs/2403.14152)"
   ]
  }
 ],
 "metadata": {
  "kernelspec": {
   "display_name": "Python 3 (ipykernel)",
   "language": "python",
   "name": "python3"
  },
  "language_info": {
   "codemirror_mode": {
    "name": "ipython",
    "version": 3
   },
   "file_extension": ".py",
   "mimetype": "text/x-python",
   "name": "python",
   "nbconvert_exporter": "python",
   "pygments_lexer": "ipython3",
   "version": "3.10.18"
  }
 },
 "nbformat": 4,
 "nbformat_minor": 5
}
