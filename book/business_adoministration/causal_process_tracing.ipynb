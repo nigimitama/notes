{
 "cells": [
  {
   "cell_type": "markdown",
   "id": "e957e839-b715-42fe-9492-dcae655a1707",
   "metadata": {},
   "source": [
    "# 因果過程追跡\n",
    "\n",
    "経営学のようなサンプルサイズが極端にすくなくケーススタディ中心となる分野においては、過程追跡法（Process Tracing Method）に基づく事例内因果分析（Within-case Causal Analysis）\n",
    "というアプローチがあるらしい（[横山斉理, & 東伸一. (2022)](https://www.jstage.jst.go.jp/article/marketing/41/4/41_2022.021/_html/-char/ja)）"
   ]
  },
  {
   "cell_type": "markdown",
   "id": "5c1bd4b4-aa57-4212-b357-0c5eb98a43ed",
   "metadata": {},
   "source": [
    "### 過程追跡法（Process Tracing Method）\n",
    "\n",
    "> 現実世界に生起する出来事において，その原因と結果を結ぶメカニズム―因果メカニズム（causal mechanism）―がどのように作用しているかについて，詳細な事例内分析を通じて追跡することを特徴とする単独事例分析の方法論である。（横山斉理, & 東伸一. (2022)）"
   ]
  },
  {
   "cell_type": "markdown",
   "id": "c2646468-6940-4dfa-a295-1355b2b4d2b0",
   "metadata": {},
   "source": [
    "### 質的比較分析（Qualitative Comparative Analysis）\n",
    "\n",
    "政治学者C. Raginが開発した、因果関係を分析するアプローチ。\n",
    "\n",
    "集合論とブール代数に基づき、結果を生み出す原因条件（causal condition）とその組み合わせ（configurations）を明らかにする分析アプローチ\n",
    "\n"
   ]
  },
  {
   "cell_type": "markdown",
   "id": "dc8e60a0-c710-42ed-94e8-a3068e47a4bb",
   "metadata": {},
   "source": [
    "- [Blatter, J., Haverland, M., Blatter, J., & Haverland, M. (2012). Causal-process tracing. Designing Case Studies: Explanatory Approaches in Small-N Research, 79-143.](https://link.springer.com/chapter/10.1057/9781137016669_3)\n",
    "- [横山斉理, & 東伸一. (2022). 小売ビジネスモデルを研究するための分析アプローチ―過程追跡法による事例内因果分析と質的比較分析―. マーケティングジャーナル, 41(4), 53-64.](https://www.jstage.jst.go.jp/article/marketing/41/4/41_2022.021/_html/-char/ja)"
   ]
  },
  {
   "cell_type": "code",
   "execution_count": null,
   "id": "2421c9b8-bb5d-40e2-a8e4-ce563f75f141",
   "metadata": {},
   "outputs": [],
   "source": []
  }
 ],
 "metadata": {
  "kernelspec": {
   "display_name": "Python 3 (ipykernel)",
   "language": "python",
   "name": "python3"
  },
  "language_info": {
   "codemirror_mode": {
    "name": "ipython",
    "version": 3
   },
   "file_extension": ".py",
   "mimetype": "text/x-python",
   "name": "python",
   "nbconvert_exporter": "python",
   "pygments_lexer": "ipython3",
   "version": "3.9.18"
  }
 },
 "nbformat": 4,
 "nbformat_minor": 5
}
