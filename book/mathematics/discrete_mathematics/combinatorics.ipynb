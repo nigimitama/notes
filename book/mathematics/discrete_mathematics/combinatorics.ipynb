{
 "cells": [
  {
   "cell_type": "markdown",
   "id": "68b16f42-92a6-4196-8ae5-c244e3d2b1be",
   "metadata": {},
   "source": [
    "# 組合せ論\n",
    "\n",
    "組合せ論（combinatorics）"
   ]
  },
  {
   "cell_type": "markdown",
   "id": "38ae589d-240a-4ac4-a8a0-2f620a5f0c8b",
   "metadata": {},
   "source": [
    ":::{admonition} 前提知識：階乗\n",
    ":class: info\n",
    "\n",
    "$1$から$n$までのすべての整数の積のことを $n$ の **階乗（factorial）** と呼び、$n!$と表す。\n",
    "\n",
    "$$\n",
    "n! = \\prod_{k=1}^n k = n \\times (n-1) \\times \\cdots \\times 3 \\times 2 \\times 1\n",
    "$$\n",
    "\n",
    "なお、実用性の関係上、ゼロについては$0! =1$と定める。\n",
    ":::"
   ]
  },
  {
   "cell_type": "markdown",
   "id": "d6558696-d132-44bf-afa8-94d12ec32614",
   "metadata": {},
   "source": [
    "## 置換\n",
    "\n",
    ":::{admonition} 置換\n",
    "\n",
    "$n$個の要素をもつ集合の並べ替えのパターン数を **置換 (permutation)** といい、$n!$で求めることができる。\n",
    "\n",
    ":::\n",
    "\n",
    "\n",
    "例えば、集合 $\\{1, 2, 3\\}$ の置換は、\n",
    "\n",
    "$$\n",
    "(1,2,3), (1,3,2), (2,1,3), (2,3,1), (3,1,2), (3,2,1)\n",
    "$$\n",
    "\n",
    "の6パターンとなる。\n",
    "\n",
    "一般に$n!$個になる。"
   ]
  },
  {
   "cell_type": "markdown",
   "id": "bd692e56-bdcd-418f-bb83-12004376a9ce",
   "metadata": {},
   "source": [
    "## 順列\n",
    "\n",
    ":::{admonition} 順列\n",
    "\n",
    "$n$個のものから$r$個を取り出して並べる並べ方のパターン数を **順列 (partial permutation, sequence without repetition)** といい${}_{n}P_{r}$と表す。また以下の式で計算できる\n",
    "\n",
    "$$\n",
    "{}_{n}P_{r} = \\frac{n!}{(n-r)!}\n",
    "$$\n",
    "\n",
    ":::"
   ]
  },
  {
   "cell_type": "markdown",
   "id": "a6f14c8f-84f8-4a6e-a36f-b86cde7ff455",
   "metadata": {},
   "source": [
    ":::{card} 例：トランプのカードの並べ方は何通りあるか？\n",
    "\n",
    "52枚あるので、52枚から52枚を取り出して並べることになる\n",
    "\n",
    "$$\n",
    "{}_{52}P_{52} = \\frac{52!}{0!} = 52! \\approx 8.065817517094 \\times 10^{67}\n",
    "$$\n",
    "\n",
    "これは 無量大数（$10^{68}$）に近い大きさになる\n",
    "\n",
    ":::"
   ]
  },
  {
   "cell_type": "markdown",
   "id": "1a325aa0-57cd-47ca-b3c0-2144c0f685ab",
   "metadata": {},
   "source": [
    "## 組み合わせ\n",
    "\n",
    ":::{admonition} 組み合わせ\n",
    "\n",
    "$n$個のものから$r$個を取り出す組み合わせのパターン数のことを **組み合わせ (combination, choose)** といい${}_{n}C_{r}$ や $\\binom{n}{r}$と表す。また以下の式で計算できる\n",
    "\n",
    "$$\n",
    "{}_{n}C_{r} = \\binom{n}{r} = \\frac{n!}{r!(n-r)!}\n",
    "$$\n",
    ":::"
   ]
  },
  {
   "cell_type": "markdown",
   "id": "bc11f863-2da8-423d-af93-6f7baba66a9b",
   "metadata": {},
   "source": [
    "### 実用的な覚え方\n",
    "\n",
    "例えば${}_{5}C_{3}$だと $3 \\times 2 \\times 1$ が分母と分子の両方に出てくるので\n",
    "\n",
    "$$\n",
    "{}_{5}C_{3}\n",
    "= \\frac{5!}{3!(5-3)!}\n",
    "= \\frac{5\\times 4 \\times 3 \\times 2 \\times 1}{3\\times 2\\times 1 \\times 2 \\times 1}\n",
    "= \\frac{5\\times 4}{2 \\times 1}\n",
    "$$\n",
    "\n",
    "と簡略化できる。つまり\n",
    "\n",
    "$$\n",
    "{}_{5}C_{3}\n",
    "= \\frac{5から2個の数を降順に掛けた数}{2!}\n",
    "$$\n",
    "\n",
    "であり、一般化すると\n",
    "\n",
    "$$\n",
    "{}_{n}C_{r} = \\frac{nから(n-r)個の数を降順に掛けた数}{(n-r)!}\n",
    "$$"
   ]
  },
  {
   "cell_type": "markdown",
   "id": "fd0c7938-5ce6-41a6-87ae-d5379504255a",
   "metadata": {},
   "source": [
    "### 逆の数\n",
    "\n",
    "$$\n",
    "{}_{5}C_{3} = \\frac{5\\times 4}{2 \\times 1}\\\\\n",
    "{}_{5}C_{2} = \\frac{5\\times 4 \\times 3}{3 \\times 2 \\times 1}\n",
    "$$\n",
    "\n",
    "なので${}_{5}C_{3} = {}_{5}C_{2}$となる。\n",
    "\n",
    "「5個から3個を取り出す」と「5個から2個を残す」が表裏一体でありパターン数がおなじになるため。\n",
    "\n",
    "同様に\n",
    "\n",
    "$$\n",
    "{}_{n}C_{0} = \\frac{n!}{0!(n-0)!} = \\frac{n!}{0!n!} = 1\n",
    "\\\\\n",
    "{}_{n}C_{n} = \\frac{n!}{n!(n-n)!} = \\frac{n!}{n!0!} = 1\n",
    "$$\n",
    "\n",
    "で${}_{n}C_{0} = {}_{n}C_{n}$となるが、これも「$n$個から$n$個を取り出す」と「$n$個から$0$個を残す」が同じのため。そしてこれらは1通りしかパターンがないので1になる。"
   ]
  },
  {
   "cell_type": "markdown",
   "id": "40825dcd-d2b4-436e-ba75-433af09e08a1",
   "metadata": {},
   "source": [
    "### （参考）二項定理\n",
    "\n",
    "二項式（2つの単項式の和；例えば$ax^m + by^n$（$a,b,x,y\\in\\mathbb{R}, n,m\\in\\mathbb{N}$）のような式）の冪乗を展開したものを **二項展開** と呼ぶ。\n",
    "\n",
    "例えば$x + y$は\n",
    "\n",
    "$$\n",
    "\\begin{aligned}\n",
    "(x + y)^2 &= (x + y) (x + y) \\\\\n",
    "    &= x^2 + 2xy + y^2\\\\\n",
    "(x + y)^3 &= (x + y)^2 (x + y) = (x^2 + 2xy + y^2)(x + y) \\\\\n",
    "    &= x^3 + 3 x^2 y + 3xy^2 + y^3\\\\\n",
    "&~ \\vdots\n",
    "\\end{aligned}\n",
    "$$\n",
    "\n",
    "というふうに展開できる。これら二項展開の中に出てくる係数を **二項係数** とよび、組み合わせの数に等しいので${}_{n}C_{r}$ や $\\binom{n}{r}$と表す。"
   ]
  },
  {
   "cell_type": "markdown",
   "id": "0d90e8bc-c297-47c7-8b2d-33616c079462",
   "metadata": {},
   "source": [
    "例：\n",
    "\n",
    "$$\n",
    "\\begin{aligned}\n",
    "(x + y)^2\n",
    "&= x^2 + 2xy + y^2\\\\\n",
    "&= \\binom{2}{0} x^2 + \\binom{2}{1} x y + \\binom{2}{2} y^2\\\\\n",
    "&= \\sum^2_{r=0} \\binom{2}{r} x^{2 - r} y^{r}\n",
    "\\end{aligned}\n",
    "$$\n"
   ]
  },
  {
   "cell_type": "markdown",
   "id": "623c53cb-02b5-428c-99d0-77795ecddd98",
   "metadata": {},
   "source": [
    "一般には以下の **二項定理 (binomial theorem)** で表される。\n",
    "\n",
    ":::{admonition} 二項定理\n",
    "\n",
    "$$\n",
    "(x+y)^n = \\sum^n_{r=0} \\binom{n}{r} x^{n-r} y^r\n",
    "$$\n",
    "\n",
    ":::"
   ]
  },
  {
   "cell_type": "markdown",
   "id": "b18c8a6f-437e-4086-a4b4-95ac6b4f7745",
   "metadata": {},
   "source": [
    "他の例：\n",
    "\n",
    "$$\n",
    "(1+x)^n=\\binom{n}{0}+\\binom{n}{1} x^1+\\binom{n}{2} x^2+\\cdots+\\binom{n}{n-1} x^{n-1}+\\binom{n}{n} x^n=\\sum_{k=0}^n\\binom{n}{k} x^k\n",
    "\\\\\n",
    "(x+y)^n=\\binom{n}{0} x^n+\\binom{n}{1} x^{n-1} y^1+\\binom{n}{2} x^{n-2} y^2+\\cdots+\\binom{n}{n-1} x^1 y^{n-1}+\\binom{n}{n} y^n\n",
    "$$"
   ]
  }
 ],
 "metadata": {
  "kernelspec": {
   "display_name": "Python 3 (ipykernel)",
   "language": "python",
   "name": "python3"
  },
  "language_info": {
   "codemirror_mode": {
    "name": "ipython",
    "version": 3
   },
   "file_extension": ".py",
   "mimetype": "text/x-python",
   "name": "python",
   "nbconvert_exporter": "python",
   "pygments_lexer": "ipython3",
   "version": "3.10.15"
  }
 },
 "nbformat": 4,
 "nbformat_minor": 5
}
