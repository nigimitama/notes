{
 "cells": [
  {
   "cell_type": "markdown",
   "id": "19e8790e-0e70-4531-92b9-6f4940afb200",
   "metadata": {},
   "source": [
    "# 『プログラミングのための線形代数』メモ"
   ]
  },
  {
   "cell_type": "markdown",
   "id": "2a2eb4bb-2824-46c0-90b1-0b2d11842688",
   "metadata": {},
   "source": [
    "## 第1章 ベクトル・行列・行列式\n",
    "\n",
    "ベクトル空間 := 和と定数倍が定義された集合\n",
    "\n",
    "### 基底\n",
    "\n",
    "- 基準となるベクトル$e_1, e_2$を定めて、そこからの座標（$e_1$を3歩、$e_2$を2歩、のように）を指定する方法で$v = 3 e_1 + 2 e_2$のように表すことができる\n",
    "- $e_1, e_2$を基底ベクトル、$(3, 2)$を座標という\n",
    "\n",
    "ベクトルの組$(e_1,\\cdots,e_n)$を基底と呼ぶのは、次の2つの条件を満たすときだけ\n",
    "\n",
    "1. どんなベクトル$v$でも$v=x_1 e_1 + \\cdots + x_n e_n$で表現できる（どの土地にも番地がついていて表現できる）\n",
    "2. その表し方は1通りだけ（1つの土地には番地は1つだけ）\n",
    "  - つまり、$(x_1, \\dots, x_n)^T \\neq (x'_1, \\dots, x'_n)^T$なら$x_1 e_1 + \\cdots + x_n e_n \\neq x'_1 e_1 + \\cdots + x'_n e_n$（違う番地なら違う土地）\n",
    "    - あるいは$x_1 e_1 + \\cdots + x_n e_n = x'_1 e_1 + \\cdots + x'_n e_n$なら$(x_1, \\dots, x_n)^T = (x'_1, \\dots, x'_n)^T$（同じ土地なら番地も同じ）\n",
    "  - 移項して言い換えると$(x_1 - x'_1) e_1 + \\cdots + (x_n - x'_n) e_n = o$より、$u_1 e_1 + \\cdots + u_n e_n = o$なら$u_1 = \\cdots = u_n$\n"
   ]
  },
  {
   "cell_type": "markdown",
   "id": "699938b4-c2f1-4f28-be4e-28f4d19cab20",
   "metadata": {},
   "source": [
    "（疑問）$(x_1, \\dots, x_n)^T = (x'_1, \\dots, x'_n)^T$ なら $x_1 e_1 + \\cdots + x_n e_n = x'_1 e_1 + \\cdots + x'_n e_n$\n",
    "\n",
    "とならないのか？$\\implies$ではなく$\\Leftrightarrow$にはならないのか？「同じ番地なら同じ土地」ではないのか？"
   ]
  },
  {
   "cell_type": "code",
   "execution_count": null,
   "id": "03c32634-0fc0-49e8-9333-476c9f66adb1",
   "metadata": {},
   "outputs": [],
   "source": []
  }
 ],
 "metadata": {
  "kernelspec": {
   "display_name": "Python 3 (ipykernel)",
   "language": "python",
   "name": "python3"
  },
  "language_info": {
   "codemirror_mode": {
    "name": "ipython",
    "version": 3
   },
   "file_extension": ".py",
   "mimetype": "text/x-python",
   "name": "python",
   "nbconvert_exporter": "python",
   "pygments_lexer": "ipython3",
   "version": "3.9.18"
  }
 },
 "nbformat": 4,
 "nbformat_minor": 5
}
