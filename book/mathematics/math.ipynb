{
 "cells": [
  {
   "cell_type": "markdown",
   "id": "60adff1e-3d7a-44c9-9e9c-0b8ece46d988",
   "metadata": {},
   "source": [
    "# データサイエンスのための数学\n",
    "\n",
    "データサイエンスで必要な数学はどのあたりになるだろうか？と考えてみる"
   ]
  },
  {
   "cell_type": "markdown",
   "id": "9aa309b0-b22b-492f-98ed-cb14abd2ea96",
   "metadata": {},
   "source": [
    "\n",
    "## Lv.1：基礎的な計算が理解できる\n",
    "\n",
    "理系学部の内容よりは軽くていいイメージ（例えばジョルダン標準形は不要）\n",
    "\n",
    "- 数の種類：実数、整数\n",
    "- 指数法則\n",
    "- 指数関数、対数関数、三角関数\n",
    "- 総和記号\n",
    "- 集合の基礎：内包・外延など\n",
    "- 微分\n",
    "- 積分（最低限でいい）\n",
    "- 線形代数：行列とベクトルの演算、逆行列\n",
    "\n",
    "\n",
    "## Lv.2：抽象的・理論的な議論が理解でき、機械学習の理論系の論文が読める\n",
    "\n",
    "「〇〇空間」とか出てきても躓かずに「ああ、そういう演算が定義された集合なのね」と読み進められる状態\n",
    "\n",
    "- 確率論：測度論、確率測度、漸近理論\n",
    "- 線形代数：内積空間、ヒルベルト空間\n",
    "- 微分積分：可測関数、ルベーグ積分\n"
   ]
  },
  {
   "cell_type": "markdown",
   "id": "1e51707c-ea0a-4116-957b-c0457deae2ca",
   "metadata": {},
   "source": [
    "\n",
    "## 参考\n",
    "\n",
    "- [Mathematics for Machine Learning](https://mml-book.github.io/book/mml-book.pdf)\n"
   ]
  },
  {
   "cell_type": "markdown",
   "id": "eddc7f12-de23-4416-9273-18dac0f3f786",
   "metadata": {},
   "source": [
    "MSC：数学の分類体系\n",
    "- [Mathematics Subject Classification - Wikipedia](https://en.wikipedia.org/wiki/Mathematics_Subject_Classification)"
   ]
  }
 ],
 "metadata": {
  "kernelspec": {
   "display_name": "Python 3 (ipykernel)",
   "language": "python",
   "name": "python3"
  },
  "language_info": {
   "codemirror_mode": {
    "name": "ipython",
    "version": 3
   },
   "file_extension": ".py",
   "mimetype": "text/x-python",
   "name": "python",
   "nbconvert_exporter": "python",
   "pygments_lexer": "ipython3",
   "version": "3.10.15"
  }
 },
 "nbformat": 4,
 "nbformat_minor": 5
}
