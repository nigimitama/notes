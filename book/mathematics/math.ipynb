{
 "cells": [
  {
   "cell_type": "markdown",
   "id": "60adff1e-3d7a-44c9-9e9c-0b8ece46d988",
   "metadata": {},
   "source": [
    "# データサイエンスのための数学\n",
    "\n",
    "## 参考\n",
    "\n",
    "- [Mathematics for Machine Learning](https://mml-book.github.io/book/mml-book.pdf)\n"
   ]
  },
  {
   "cell_type": "code",
   "execution_count": null,
   "id": "a50274c0-ae42-4ace-b36d-30f731c70d8e",
   "metadata": {},
   "outputs": [],
   "source": []
  }
 ],
 "metadata": {
  "kernelspec": {
   "display_name": "Python 3 (ipykernel)",
   "language": "python",
   "name": "python3"
  },
  "language_info": {
   "codemirror_mode": {
    "name": "ipython",
    "version": 3
   },
   "file_extension": ".py",
   "mimetype": "text/x-python",
   "name": "python",
   "nbconvert_exporter": "python",
   "pygments_lexer": "ipython3",
   "version": "3.10.14"
  }
 },
 "nbformat": 4,
 "nbformat_minor": 5
}
