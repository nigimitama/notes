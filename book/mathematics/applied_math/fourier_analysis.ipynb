{
 "cells": [
  {
   "cell_type": "markdown",
   "id": "0af6ebb9-c8f9-4fd0-a6ea-167a36b572e2",
   "metadata": {},
   "source": [
    "# フーリエ解析\n",
    "\n",
    "フーリエ解析（Fourier analysis）：信号を異なる周波数の正弦波（sin）の重ね合わせとして表現すること\n",
    "\n",
    "例えば画像を周波数の表現にして、周波数をフーリエ解析で分解したりする。"
   ]
  },
  {
   "cell_type": "markdown",
   "id": "5a189100-6059-4083-b70b-dd879e371992",
   "metadata": {},
   "source": [
    "## フーリエ級数"
   ]
  },
  {
   "cell_type": "markdown",
   "id": "1de88632-e835-44a4-ba52-d4cf824272ed",
   "metadata": {},
   "source": [
    "幅$T$の区間$[-T/2, T/2]$における連続関数$f(t)$はフーリエ級数に展開できる\n",
    "\n",
    "$$\n",
    "f(t)=\\frac{a_0}{2}+\\sum_{k=1}^{\\infty}\\left(a_k \\cos k \\omega_o t+b_k \\sin k \\omega_o t\\right), \\quad-\\frac{T}{2} \\leq t \\leq \\frac{T}{2}\n",
    "$$\n",
    "\n",
    "フーリエ係数は\n",
    "\n",
    "$$\n",
    "a_k=\\frac{2}{T} \\int_{-T / 2}^{T / 2} f(t) \\cos k \\omega_o t \\mathrm{~d} t, \\quad b_k=\\frac{2}{T} \\int_{-T / 2}^{T / 2} f(t) \\sin k \\omega_o t \\mathrm{~d} t\n",
    "$$\n",
    "\n",
    "である。\n",
    "ここで\n",
    "\n",
    "$$\n",
    "\\omega_o=\\frac{2 \\pi}{T}\n",
    "$$\n",
    "\n",
    "である。これを **基本周波数** といい、フーリエ級数は関数$f(t)$を$\\omega_o$の整数倍の周波数の正弦波の重ね合わせとして表現する。\n",
    "\n",
    "$a_0/2$を **直流成分** と呼び、$\\omega_o$の$k$倍の周波数の振動を第$k$ **高調波** と呼ぶ。以下では$t$を「時刻」とみなし、$f(t)$を「信号」と呼ぶ。"
   ]
  },
  {
   "cell_type": "markdown",
   "id": "8347d5b1-8705-43bb-b071-8121ee603b19",
   "metadata": {},
   "source": [
    ":::{margin}\n",
    "\n",
    "周波数は振動数（ヘルツ Hz：1秒間における振動数）ではない\n",
    "\n",
    "波の数を数えるとき、1周期を1個とするのではなく、$2\\pi$と数える（単位はラジアン）。波を数える角度を **位相（角）** と呼ぶ\n",
    "\n",
    ":::"
   ]
  },
  {
   "cell_type": "markdown",
   "id": "e519c9aa-4662-49d4-922e-c51ba19bb117",
   "metadata": {},
   "source": [
    "## 複素数の指数関数\n",
    "\n",
    "### 複素数\n",
    "\n",
    "複素数とは $z=x+i y$ のように **実（数）部** $x$ に **虚（数）部** $y$ の $i$ 倍を足したもの\n",
    "\n",
    "$i$ は **虚数単位** と呼ばれ、 $i^2=-1$ となる数と約束したもの。"
   ]
  },
  {
   "cell_type": "markdown",
   "id": "e8710136-c3f3-4b0f-aaef-50de703a66a9",
   "metadata": {},
   "source": [
    "### 共役複素数\n",
    "\n",
    "複素数 $z=x+i y$ に対して, $\\bar{z}=x-i y$ をその **共役（きょうやく）複素数** といい、 $z, \\bar{z}$ は **互いに複素共役である** という。\n",
    "これらは複素平面上で $x$ 軸に関して対称な位置にある。\n",
    "この定義から\n",
    "\n",
    "$$\n",
    "x=\\frac{z+\\bar{z}}{2}, \\quad y=\\frac{z-\\bar{z}}{2 i}\n",
    "$$\n",
    "\n",
    "となる。また重要な関係として\n",
    "\n",
    "$$\n",
    "z \\bar{z}=(x+i y)(x-i y)=x^2+y^2=|z|^2\n",
    "$$\n",
    "\n",
    "が成り立つ。"
   ]
  },
  {
   "cell_type": "markdown",
   "id": "b6e511e6-ba5f-46c9-a3b7-ec55f4d93237",
   "metadata": {},
   "source": [
    "### オイラーの式\n",
    "\n",
    "指数部が虚数の指数関数 $e^{i \\theta}$ を次の複素数と定義する。\n",
    "\n",
    "$$\n",
    "e^{i \\theta}=\\cos \\theta+i \\sin \\theta\n",
    "$$\n",
    "\n",
    "これは **オイラーの式** と呼ばれる式で、複素平面の単位円上の実軸から角度$\\theta$の点を表す。"
   ]
  },
  {
   "cell_type": "markdown",
   "id": "b7c6fd50-7f71-4ae9-bddd-106f50996dd4",
   "metadata": {},
   "source": [
    ":::{card} 定理\n",
    "\n",
    "$$\n",
    "e^{i \\theta} e^{i \\phi}=e^{i(\\theta+\\phi)}\n",
    "$$\n",
    "\n",
    "が成り立つ。\n",
    ":::\n",
    "\n",
    "\n",
    ":::{dropdown} 証明\n",
    "\n",
    "定義より次のように変形できる\n",
    "\n",
    "$$\n",
    "\\begin{aligned}\n",
    "e^{i \\theta} e^{i \\phi} & =(\\cos \\theta+i \\sin \\theta)(\\cos \\phi+i \\sin \\phi) \\\\\n",
    "& =(\\cos \\theta \\cos \\phi-\\sin \\theta \\sin \\phi)+i(\\cos \\theta \\sin \\phi+\\sin \\theta \\cos \\phi)\\\\\n",
    "e^{i(\\theta+\\phi)} &=\\cos (\\theta+\\phi)+i \\sin (\\theta+\\phi)\\\\\n",
    "\\end{aligned}\n",
    "$$\n",
    "\n",
    "両者が等しいことは、三角関数の加法定理\n",
    "\n",
    "$$\n",
    "\\begin{aligned}\n",
    "\\cos (\\theta+\\phi) &=\\cos \\theta \\cos \\phi-\\sin \\theta \\sin \\phi\\\\\n",
    "\\sin (\\theta+\\phi) &=\\cos \\theta \\sin \\phi+\\sin \\theta \\cos \\phi\n",
    "\\end{aligned}\n",
    "$$\n",
    "\n",
    "よりわかる\n",
    ":::\n"
   ]
  },
  {
   "cell_type": "markdown",
   "id": "de7e9f52-4686-4350-86a5-d7fe4270ecc2",
   "metadata": {},
   "source": [
    ":::{card} 定理\n",
    "\n",
    "$$\n",
    "\\cos \\theta=\\frac{e^{i \\theta}+e^{-i \\theta}}{2}\n",
    ", \\quad\n",
    "\\sin \\theta=\\frac{e^{i \\theta}-e^{-i \\theta}}{2 i}\n",
    "$$\n",
    "\n",
    "が成り立つ。\n",
    "\n",
    ":::\n",
    "\n",
    "\n",
    ":::{dropdown} 証明\n",
    "\n",
    "オイラーの式 およびその式の $\\theta$ を $-\\theta$ に置き換えた式\n",
    "\n",
    "$$\n",
    "e^{i \\theta}=\\cos \\theta+i \\sin \\theta\n",
    ", \\quad\n",
    "e^{-i \\theta}=\\cos \\theta-i \\sin \\theta\n",
    "$$\n",
    "\n",
    "を使うと、\n",
    "\n",
    "$$\n",
    "e^{i \\theta} + e^{-i \\theta}\n",
    "= \\cos \\theta + i \\sin \\theta + \\cos \\theta-i \\sin \\theta\n",
    "= 2 \\cos \\theta\n",
    "$$\n",
    "\n",
    "より\n",
    "\n",
    "$$\n",
    "\\cos \\theta=\\frac{e^{i \\theta}+e^{-i \\theta}}{2}\n",
    "$$\n",
    "\n",
    "が得られる。また\n",
    "\n",
    "\n",
    "$$\n",
    "e^{i \\theta} - e^{-i \\theta}\n",
    "= \\cos \\theta + i \\sin \\theta - \\cos \\theta + i \\sin \\theta\n",
    "= 2i \\sin \\theta\n",
    "$$\n",
    "\n",
    "より\n",
    "\n",
    "$$\n",
    "\\sin \\theta=\\frac{e^{i \\theta}-e^{-i \\theta}}{2 i}\n",
    "$$\n",
    "\n",
    "が得られる。\n",
    "\n",
    "\n",
    ":::\n"
   ]
  },
  {
   "cell_type": "markdown",
   "id": "e34ffe6c-2b16-49c1-9ce0-12778a0c4df2",
   "metadata": {},
   "source": [
    "## フーリエ級数の複素表示\n",
    "\n",
    "$$\n",
    "\\cos \\theta=\\frac{e^{i \\theta}+e^{-i \\theta}}{2}, \\quad \\sin \\theta=\\frac{e^{i \\theta}-e^{-i \\theta}}{2 i}\n",
    "$$\n",
    "\n",
    "を使うと、フーリエ級数は以下のように表すことができる。\n",
    "\n",
    "$$\n",
    "\\begin{aligned}\n",
    "f(t) & =\\frac{a_0}{2}+\\sum_{k=1}^{\\infty}\\left(a_k \\frac{e^{i k \\omega_o t}+e^{-i k \\omega_o t}}{2}+b_k \\frac{e^{i k \\omega_o t}-e^{-i k \\omega_o t}}{2 i}\\right) \\\\\n",
    "& =\\frac{a_0}{2}+\\frac{1}{2} \\sum_{k=1}^{\\infty}\\left(\\left(a_k-i b_k\\right) e^{i k \\omega_o t}+\\left(a_k+i b_k\\right) e^{-i k \\omega_o t}\\right)\\\\\n",
    "& =\\sum_{k=-\\infty}^{\\infty} C_k e^{i k \\omega_o t}\n",
    "\\end{aligned}\n",
    "$$\n",
    "\n",
    "ただし\n",
    "\n",
    "$$\n",
    "C_k=\\left\\{\\begin{array}{cc}\n",
    "\\left(a_k-i b_k\\right) / 2 & k>0 \\\\\n",
    "a_0 / 2 & k=0 \\\\\n",
    "\\left(a_{-k}+i b_{-k}\\right) / 2 & k<0\n",
    "\\end{array}\\right.\n",
    "$$\n",
    "\n",
    "である"
   ]
  },
  {
   "cell_type": "markdown",
   "id": "74f0b717-48da-4b8a-b7df-685072e71240",
   "metadata": {},
   "source": [
    ":::{dropdown} \n",
    "\n",
    ":::"
   ]
  },
  {
   "cell_type": "code",
   "execution_count": null,
   "id": "f6e6bef0-2660-4bfb-ad57-6eb935ea84a4",
   "metadata": {},
   "outputs": [],
   "source": []
  }
 ],
 "metadata": {
  "kernelspec": {
   "display_name": "Python 3 (ipykernel)",
   "language": "python",
   "name": "python3"
  },
  "language_info": {
   "codemirror_mode": {
    "name": "ipython",
    "version": 3
   },
   "file_extension": ".py",
   "mimetype": "text/x-python",
   "name": "python",
   "nbconvert_exporter": "python",
   "pygments_lexer": "ipython3",
   "version": "3.10.15"
  }
 },
 "nbformat": 4,
 "nbformat_minor": 5
}
