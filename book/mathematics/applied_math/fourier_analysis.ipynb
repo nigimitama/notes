{
 "cells": [
  {
   "cell_type": "markdown",
   "id": "0af6ebb9-c8f9-4fd0-a6ea-167a36b572e2",
   "metadata": {},
   "source": [
    "# フーリエ解析\n",
    "\n",
    "フーリエ解析（Fourier analysis）：信号を異なる周波数の正弦波（sin）の重ね合わせとして表現すること\n",
    "\n",
    "例えば画像を周波数の表現にして、周波数をフーリエ解析で分解したりする。"
   ]
  },
  {
   "cell_type": "markdown",
   "id": "5a189100-6059-4083-b70b-dd879e371992",
   "metadata": {},
   "source": [
    "## フーリエ級数"
   ]
  },
  {
   "cell_type": "markdown",
   "id": "1de88632-e835-44a4-ba52-d4cf824272ed",
   "metadata": {},
   "source": [
    "幅$T$の区間$[-T/2, T/2]$における連続関数$f(t)$はフーリエ級数に展開できる\n",
    "\n",
    "$$\n",
    "f(t)=\\frac{a_0}{2}+\\sum_{k=1}^{\\infty}\\left(a_k \\cos k \\omega_o t+b_k \\sin k \\omega_o t\\right), \\quad-\\frac{T}{2} \\leq t \\leq \\frac{T}{2}\n",
    "$$\n",
    "\n",
    "フーリエ係数は\n",
    "\n",
    "$$\n",
    "a_k=\\frac{2}{T} \\int_{-T / 2}^{T / 2} f(t) \\cos k \\omega_o t \\mathrm{~d} t, \\quad b_k=\\frac{2}{T} \\int_{-T / 2}^{T / 2} f(t) \\sin k \\omega_o t \\mathrm{~d} t\n",
    "$$\n",
    "\n",
    "である。\n",
    "ここで\n",
    "\n",
    "$$\n",
    "\\omega_o=\\frac{2 \\pi}{T}\n",
    "$$\n",
    "\n",
    "である。これを **基本周波数** といい、フーリエ級数は関数$f(t)$を$\\omega_o$の整数倍の周波数の正弦波の重ね合わせとして表現する。\n",
    "\n",
    "$a_0/2$を **直流成分** と呼び、$\\omega_o$の$k$倍の周波数の振動を第$k$ **高調波** と呼ぶ。以下では$t$を「時刻」とみなし、$f(t)$を「信号」と呼ぶ。"
   ]
  },
  {
   "cell_type": "markdown",
   "id": "8347d5b1-8705-43bb-b071-8121ee603b19",
   "metadata": {},
   "source": [
    ":::{margin}\n",
    "\n",
    "周波数は振動数（ヘルツ Hz：1秒間における振動数）ではない\n",
    "\n",
    "波の数を数えるとき、1周期を1個とするのではなく、$2\\pi$と数える（単位はラジアン）。波を数える角度を **位相（角）** と呼ぶ\n",
    "\n",
    ":::"
   ]
  },
  {
   "cell_type": "markdown",
   "id": "e519c9aa-4662-49d4-922e-c51ba19bb117",
   "metadata": {},
   "source": [
    "## 複素数の指数関数\n",
    "\n",
    "### 複素数\n",
    "\n",
    "複素数とは $z=x+i y$ のように **実（数）部** $x$ に **虚（数）部** $y$ の $i$ 倍を足したもの\n",
    "\n",
    "$i$ は **虚数単位** と呼ばれ、 $i^2=-1$ となる数と約束したもの。\n",
    "\n",
    "$x$軸を実部 $x=\\operatorname{Re} z$、$y$軸を 虚部 $y=\\operatorname{Im} z$にとった平面を **複素平面** と呼ぶ\n"
   ]
  },
  {
   "cell_type": "code",
   "execution_count": 1,
   "id": "28e90e1f-56db-4cb0-8b3e-936bdf2cfd70",
   "metadata": {
    "jupyter": {
     "source_hidden": true
    },
    "tags": [
     "hide-input"
    ]
   },
   "outputs": [
    {
     "data": {
      "image/png": "[encoded data removed]",
      "text/plain": [
       "<Figure size 400x300 with 1 Axes>"
      ]
     },
     "metadata": {},
     "output_type": "display_data"
    }
   ],
   "source": [
    "import matplotlib.pyplot as plt\n",
    "fig, ax = plt.subplots(figsize=(4, 3))\n",
    "\n",
    "ax.arrow(-0.5, 0, 1.7, 0, head_width=0.05, head_length=0.1, fc='black', ec='black', length_includes_head=True)\n",
    "ax.arrow(0, -0.5, 0, 1.5, head_width=0.05, head_length=0.1, fc='black', ec='black', length_includes_head=True)\n",
    "\n",
    "ax.text(1.3, 0, \"Re\", fontsize=14, color='black')\n",
    "ax.text(0, 1.1, \"Im\", fontsize=14, color='black')\n",
    "\n",
    "ax.set_aspect('equal', adjustable='datalim')\n",
    "\n",
    "ax.spines['top'].set_visible(False)\n",
    "ax.spines['right'].set_visible(False)\n",
    "ax.spines['left'].set_visible(False)\n",
    "ax.spines['bottom'].set_visible(False)\n",
    "ax.set(xticks=[], yticks=[])\n",
    "\n",
    "c = 1 + 0.5j # 複素数\n",
    "complex_points = [c, c.conjugate()] # conjugate: 共役複素数\n",
    "colors = ['red', 'blue']\n",
    "\n",
    "for i, (point, color) in enumerate(zip(complex_points, colors)):\n",
    "    x, y = point.real, point.imag\n",
    "    ax.plot([0, x], [0, y], color=color, linestyle='--', linewidth=0.8)\n",
    "    ax.scatter([x], [y], color=color)\n",
    "    z = r\"$z$\" if i == 0 else r\"$\\bar{z}$\"\n",
    "    ax.text(x + 0.05, y + 0.05, f'{z} = ${point}$', fontsize=10, color=color)\n",
    "\n",
    "\n",
    "plt.show()"
   ]
  },
  {
   "cell_type": "markdown",
   "id": "e8710136-c3f3-4b0f-aaef-50de703a66a9",
   "metadata": {},
   "source": [
    "### 共役複素数\n",
    "\n",
    "複素数 $z=x+i y$ に対して, $\\bar{z}=x-i y$ をその **共役（きょうやく）複素数** といい、 $z, \\bar{z}$ は **互いに複素共役である** という。\n",
    "これらは複素平面上で $x$ 軸に関して対称な位置にある。\n",
    "この定義から\n",
    "\n",
    "$$\n",
    "x=\\frac{z+\\bar{z}}{2}, \\quad y=\\frac{z-\\bar{z}}{2 i}\n",
    "$$\n",
    "\n",
    "となる。また重要な関係として\n",
    "\n",
    "$$\n",
    "z \\bar{z}=(x+i y)(x-i y)=x^2+y^2=|z|^2\n",
    "$$\n",
    "\n",
    "が成り立つ。"
   ]
  },
  {
   "cell_type": "markdown",
   "id": "b6e511e6-ba5f-46c9-a3b7-ec55f4d93237",
   "metadata": {},
   "source": [
    "### オイラーの式\n",
    "\n",
    "指数部が虚数の指数関数 $e^{i \\theta}$ を次の複素数と定義する。\n",
    "\n",
    "$$\n",
    "e^{i \\theta}=\\cos \\theta+i \\sin \\theta\n",
    "$$\n",
    "\n",
    "これは **オイラーの式** と呼ばれる式で、複素平面の単位円上の実軸から角度$\\theta$の点を表す。"
   ]
  },
  {
   "cell_type": "markdown",
   "id": "b7c6fd50-7f71-4ae9-bddd-106f50996dd4",
   "metadata": {},
   "source": [
    ":::{card} 定理\n",
    "\n",
    "$$\n",
    "e^{i \\theta} e^{i \\phi}=e^{i(\\theta+\\phi)}\n",
    "$$\n",
    "\n",
    "が成り立つ。\n",
    ":::\n",
    "\n",
    "\n",
    ":::{dropdown} 証明\n",
    "\n",
    "定義より次のように変形できる\n",
    "\n",
    "$$\n",
    "\\begin{aligned}\n",
    "e^{i \\theta} e^{i \\phi} & =(\\cos \\theta+i \\sin \\theta)(\\cos \\phi+i \\sin \\phi) \\\\\n",
    "& =(\\cos \\theta \\cos \\phi-\\sin \\theta \\sin \\phi)+i(\\cos \\theta \\sin \\phi+\\sin \\theta \\cos \\phi)\\\\\n",
    "e^{i(\\theta+\\phi)} &=\\cos (\\theta+\\phi)+i \\sin (\\theta+\\phi)\\\\\n",
    "\\end{aligned}\n",
    "$$\n",
    "\n",
    "両者が等しいことは、三角関数の加法定理\n",
    "\n",
    "$$\n",
    "\\begin{aligned}\n",
    "\\cos (\\theta+\\phi) &=\\cos \\theta \\cos \\phi-\\sin \\theta \\sin \\phi\\\\\n",
    "\\sin (\\theta+\\phi) &=\\cos \\theta \\sin \\phi+\\sin \\theta \\cos \\phi\n",
    "\\end{aligned}\n",
    "$$\n",
    "\n",
    "よりわかる\n",
    ":::\n"
   ]
  },
  {
   "cell_type": "markdown",
   "id": "de7e9f52-4686-4350-86a5-d7fe4270ecc2",
   "metadata": {},
   "source": [
    ":::{card} 定理\n",
    "\n",
    "$$\n",
    "\\cos \\theta=\\frac{e^{i \\theta}+e^{-i \\theta}}{2}\n",
    ", \\quad\n",
    "\\sin \\theta=\\frac{e^{i \\theta}-e^{-i \\theta}}{2 i}\n",
    "$$\n",
    "\n",
    "が成り立つ。\n",
    "\n",
    ":::\n",
    "\n",
    "\n",
    ":::{dropdown} 証明\n",
    "\n",
    "オイラーの式 およびその式の $\\theta$ を $-\\theta$ に置き換えた式\n",
    "\n",
    "$$\n",
    "e^{i \\theta}=\\cos \\theta+i \\sin \\theta\n",
    ", \\quad\n",
    "e^{-i \\theta}=\\cos \\theta-i \\sin \\theta\n",
    "$$\n",
    "\n",
    "を使うと、\n",
    "\n",
    "$$\n",
    "e^{i \\theta} + e^{-i \\theta}\n",
    "= \\cos \\theta + i \\sin \\theta + \\cos \\theta-i \\sin \\theta\n",
    "= 2 \\cos \\theta\n",
    "$$\n",
    "\n",
    "より\n",
    "\n",
    "$$\n",
    "\\cos \\theta=\\frac{e^{i \\theta}+e^{-i \\theta}}{2}\n",
    "$$\n",
    "\n",
    "が得られる。また\n",
    "\n",
    "\n",
    "$$\n",
    "e^{i \\theta} - e^{-i \\theta}\n",
    "= \\cos \\theta + i \\sin \\theta - \\cos \\theta + i \\sin \\theta\n",
    "= 2i \\sin \\theta\n",
    "$$\n",
    "\n",
    "より\n",
    "\n",
    "$$\n",
    "\\sin \\theta=\\frac{e^{i \\theta}-e^{-i \\theta}}{2 i}\n",
    "$$\n",
    "\n",
    "が得られる。\n",
    "\n",
    "\n",
    ":::\n"
   ]
  },
  {
   "cell_type": "markdown",
   "id": "e34ffe6c-2b16-49c1-9ce0-12778a0c4df2",
   "metadata": {},
   "source": [
    "## フーリエ級数の複素表示\n",
    "\n",
    "$$\n",
    "\\cos \\theta=\\frac{e^{i \\theta}+e^{-i \\theta}}{2}, \\quad \\sin \\theta=\\frac{e^{i \\theta}-e^{-i \\theta}}{2 i}\n",
    "$$\n",
    "\n",
    "を使うと、フーリエ級数は以下のように表すことができる。\n",
    "\n",
    "$$\n",
    "\\begin{aligned}\n",
    "f(t) & =\\frac{a_0}{2}+\\sum_{k=1}^{\\infty}\\left(a_k \\frac{e^{i k \\omega_o t}+e^{-i k \\omega_o t}}{2}+b_k \\frac{e^{i k \\omega_o t}-e^{-i k \\omega_o t}}{2 i}\\right) \\\\\n",
    "& =\\frac{a_0}{2}+\\frac{1}{2} \\sum_{k=1}^{\\infty}\\left(\\left(a_k-i b_k\\right) e^{i k \\omega_o t}+\\left(a_k+i b_k\\right) e^{-i k \\omega_o t}\\right)\\\\\n",
    "& =\\sum_{k=-\\infty}^{\\infty} C_k e^{i k \\omega_o t}\n",
    "\\end{aligned}\n",
    "$$\n",
    "\n",
    "ただし\n",
    "\n",
    "$$\n",
    "C_k=\\left\\{\\begin{array}{cc}\n",
    "\\left(a_k-i b_k\\right) / 2 & k>0 \\\\\n",
    "a_0 / 2 & k=0 \\\\\n",
    "\\left(a_{-k}+i b_{-k}\\right) / 2 & k<0\n",
    "\\end{array}\\right.\n",
    "$$\n",
    "\n",
    "である"
   ]
  },
  {
   "cell_type": "markdown",
   "id": "569d0831-25d4-484c-9923-a27707a52241",
   "metadata": {},
   "source": [
    "また、$C_k$の各式は次のように変形できる\n",
    "\n",
    "$$\n",
    "\\begin{aligned}\n",
    "\\frac{a_k-i b_k}{2} & =\\frac{2}{T} \\int_{-T / 2}^{T / 2} f(t) \\frac{\\cos k \\omega_o t-i \\sin k \\omega_o t}{2} \\mathrm{~d} t=\\frac{1}{T} \\int_{-T / 2}^{T / 2} f(t) e^{-i k \\omega_o t} \\mathrm{~d} t \\\\\n",
    "\\frac{a_0}{2} & =\\frac{1}{T} \\int_{-T / 2}^{T / 2} f(t) \\mathrm{d} t \\\\\n",
    "\\frac{a_{-k}+i b_{-k}}{2} & =\\frac{2}{T} \\int_{-T / 2}^{T / 2} f(t) \\frac{\\cos \\left(-k \\omega_o t\\right)+i \\sin \\left(-k \\omega_o t\\right)}{2} \\mathrm{~d} t \\\\\n",
    "& =\\frac{1}{T} \\int_{-T / 2}^{T / 2} f(t)\\left(\\cos k \\omega_o t-i \\sin k \\omega_o t\\right) \\mathrm{d} t=\\frac{1}{T} \\int_{-T / 2}^{T / 2} f(t) e^{-i k \\omega_o t} \\mathrm{~d} t\n",
    "\\end{aligned}\n",
    "$$\n",
    "\n",
    "\n",
    "$$\n",
    "f(t)=\\sum_{k=-\\infty}^{\\infty} C_k e^{i k \\omega_o t}, \\quad C_k=\\frac{1}{T} \\int_{-T / 2}^{T / 2} f(t) e^{-i k \\omega_o t} \\mathrm{~d} t\n",
    "$$\n",
    "\n",
    "この$C_k$を **（複素）フーリエ係数** と呼ぶ。"
   ]
  },
  {
   "cell_type": "markdown",
   "id": "7de32e0d-2113-4cc1-96ca-c63d86a122f7",
   "metadata": {},
   "source": [
    ":::{info}\n",
    "\n",
    "$f(t)$は実数なのに、フーリエ係数は複素数なのは問題ないのか？\n",
    "\n",
    "→ $C_k$と$e^{i k \\omega_o t}$は共役複素数なので掛けると虚部が消えて実数になる\n",
    ":::"
   ]
  },
  {
   "cell_type": "markdown",
   "id": "1f7f049d-c01f-4c5f-a682-d6598c1ef8aa",
   "metadata": {},
   "source": [
    ":::{info}\n",
    "\n",
    "位相（波の数）は角度として表される。\n",
    "\n",
    "特に複素平面上で単位円を考えると、位相は単位円の角度（回転）として表される\n",
    ":::"
   ]
  },
  {
   "cell_type": "code",
   "execution_count": 3,
   "id": "f1e42300-d2c3-4c64-bf86-32e009a2fe01",
   "metadata": {
    "jupyter": {
     "source_hidden": true
    },
    "tags": [
     "hide-input"
    ]
   },
   "outputs": [
    {
     "data": {
      "image/png": "[encoded data removed]",
      "text/plain": [
       "<Figure size 400x300 with 1 Axes>"
      ]
     },
     "metadata": {},
     "output_type": "display_data"
    }
   ],
   "source": [
    "import numpy as np\n",
    "import matplotlib.pyplot as plt\n",
    "fig, ax = plt.subplots(figsize=(4, 3))\n",
    "\n",
    "# 軸を描画\n",
    "ax.arrow(-1.2, 0, 2.4, 0, head_width=0.05, head_length=0.1, fc='black', ec='black', length_includes_head=True)\n",
    "ax.arrow(0, -1.2, 0, 2.4, head_width=0.05, head_length=0.1, fc='black', ec='black', length_includes_head=True)\n",
    "\n",
    "ax.text(1.3, 0, \"Re\", fontsize=14, color='black')\n",
    "ax.text(0, 1.3, \"Im\", fontsize=14, color='black')\n",
    "\n",
    "ax.set_aspect('equal', adjustable='datalim')\n",
    "ax.spines['top'].set_visible(False)\n",
    "ax.spines['right'].set_visible(False)\n",
    "ax.spines['left'].set_visible(False)\n",
    "ax.spines['bottom'].set_visible(False)\n",
    "ax.set(xticks=[], yticks=[])\n",
    "\n",
    "\n",
    "# 単位円\n",
    "theta = np.linspace(0, 2*np.pi, 100)\n",
    "x = np.cos(theta)\n",
    "y = np.sin(theta)\n",
    "plt.plot(x, y, 'k-', linewidth=1)  # 黒い実線で単位円を描画\n",
    "\n",
    "# curve\n",
    "t = 0.3*np.pi\n",
    "theta = np.linspace(0, t, 100)\n",
    "x = np.cos(theta) * 0.2\n",
    "y = np.sin(theta) * 0.2\n",
    "ax.plot(x, y, 'k--', linewidth=1)  # 黒い実線で単位円を描画\n",
    "\n",
    "# text\n",
    "m = len(x) // 2\n",
    "ax.text(x[m], y[m], r\"$\\theta$\")\n",
    "\n",
    "# line\n",
    "x = np.cos(t)\n",
    "y = np.sin(t)\n",
    "ax.plot([0, x], [0, y], color=\"blue\", linestyle='-.', linewidth=0.8)\n",
    "ax.scatter([x], [y], color=\"blue\")\n",
    "\n",
    "plt.show()"
   ]
  },
  {
   "cell_type": "markdown",
   "id": "bd5a9cf8-925c-498f-819d-2ae4334718f5",
   "metadata": {},
   "source": [
    "## フーリエ変換\n",
    "\n",
    "フーリエ級数\n",
    "\n",
    "$$\n",
    "f(t)=\\sum_{k=-\\infty}^{\\infty} C_k e^{i k \\omega_o t}, \\quad C_k=\\frac{1}{T} \\int_{-T / 2}^{T / 2} f(t) e^{-i k \\omega_o t} \\mathrm{~d} t\n",
    "$$\n",
    "\n",
    "において\n",
    "\n",
    "$$\n",
    "\\omega_k=k \\omega_o, \\quad k=0, \\pm 1, \\pm 2, \\ldots\n",
    "$$\n",
    "\n",
    "とおき、\n",
    "\n",
    "$$\n",
    "\\Delta \\omega=\\omega_{k+1}-\\omega_k=\\omega_o=\\frac{2 \\pi}{T}, \\quad C_k=\\frac{F\\left(\\omega_k\\right)}{T}\n",
    "$$\n",
    "\n",
    "と書くと、\n",
    "\n",
    "$$\n",
    "f(t)=\\frac{1}{2 \\pi} \\sum_{k=-\\infty}^{\\infty} F\\left(\\omega_k\\right) e^{i \\omega_k t} \\Delta \\omega, \\quad F\\left(\\omega_k\\right)=\\int_{-T / 2}^{T / 2} f(t) e^{-i \\omega_k t} \\mathrm{~d} t\n",
    "$$\n",
    "\n",
    "となる。周期$T\\to\\infty$とすると、$\\Delta \\omega \\to 0$となり、積分として表すことができる。\n",
    "\n",
    "$$\n",
    "F(\\omega)=\\int_{-\\infty}^{\\infty} f(t) e^{-i \\omega t} \\mathrm{~d} t\n",
    "$$\n",
    "\n",
    "を信号$f(t)$の **フーリエ変換** と呼び、\n",
    "\n",
    "$$\n",
    "f(t)=\\frac{1}{2 \\pi} \\int_{-\\infty}^{\\infty} F(\\omega) e^{i \\omega t} \\mathrm{~d} \\omega\n",
    "$$\n",
    "\n",
    "を **逆フーリエ変換** と呼ぶ。"
   ]
  },
  {
   "cell_type": "markdown",
   "id": "05692f81-883e-4711-bc99-08a6fe7564f4",
   "metadata": {},
   "source": [
    ":::{note}\n",
    "\n",
    "- 信号$f(t)$（逆フーリエ変換）は周波数$\\omega$の正弦波$e^{i \\omega t}$を負の数を含めたすべての実数$\\omega$に対して重ね合わせている\n",
    "- フーリエ変換 $F(\\omega)$ は信号$f(t)$に$e^{i \\omega t}$の共役複素数$e^{-i \\omega t}$を掛けて、すべての時刻$t$で積分した形になっている\n",
    ":::"
   ]
  },
  {
   "cell_type": "markdown",
   "id": "659ec945-686c-40ce-8be4-89c92b3f1da7",
   "metadata": {},
   "source": [
    ":::{admonition} フーリエ変換\n",
    "\n",
    "$$\n",
    "F(\\omega)=\\int_{-\\infty}^{\\infty} f(t) e^{-i \\omega t} \\mathrm{~d} t\n",
    "$$\n",
    "\n",
    ":::"
   ]
  },
  {
   "cell_type": "markdown",
   "id": "08d169b1-2dfa-47bf-8be2-46f6987eba6c",
   "metadata": {},
   "source": [
    ":::{admonition} 逆フーリエ変換\n",
    "\n",
    "$$\n",
    "f(t)=\\frac{1}{2 \\pi} \\int_{-\\infty}^{\\infty} F(\\omega) e^{i \\omega t} \\mathrm{~d} \\omega\n",
    "$$\n",
    "\n",
    "逆フーリエ変換は信号$f(t)$をあらゆる周波数（すべての実数の$\\omega$）の振動の重ね合わせで表す。\n",
    "\n",
    "$F(\\omega)$は周波数$\\omega$の成分$e^{i \\omega t}$の大きさを表し、$f(t)$の **スペクトル** （フランス語: spectre、英語: spectrum）と呼ばれる。（光をプリズムに通して各色のスペクトルに分けるイメージ）\n",
    "\n",
    "$|\\omega|$が大きい成分は **高周波成分** 、小さい成分は **低周波成分** と呼ばれる。とくに$\\omega=0$の成分は定数であり、 **直流成分** と呼ばれる。\n",
    "\n",
    ":::"
   ]
  },
  {
   "cell_type": "code",
   "execution_count": null,
   "id": "b1eb0708-d082-4194-8175-15464a10289d",
   "metadata": {
    "tags": []
   },
   "outputs": [],
   "source": [
    "import numpy as np\n",
    "import matplotlib.pyplot as plt\n",
    "\n",
    "# サンプルデータを生成する\n",
    "N = 1000\n",
    "d = 0.0001 # サンプリング周期\n",
    "t = np.arange(0, N * d, d) # 時間\n",
    "\n",
    "def f(t):\n",
    "    freq1, freq2 = 100, 500  # 周波数\n",
    "    s1, s2 = 1.5, 2 # スペクトル F(ω)\n",
    "    return s1 * np.sin(2 * np.pi * t * freq1) + s2 * np.sin(2 * np.pi * t * freq2)\n",
    "\n",
    "y = f(t)\n",
    "F = np.fft.fft(y) # フーリエ変換\n",
    "freq = np.fft.fftfreq(N, d=d)  # 周波数スケール\n",
    "\n",
    "# 振幅スペクトル Amplitude の取得\n",
    "# 振幅スペクトルは信号をフーリエ変換した結果の絶対値をとったもの\n",
    "Amp = np.abs(F)\n",
    "Amp = Amp / (N / 2) # 正規化\n",
    "\n",
    "# 結果をプロット\n",
    "fig, axes = plt.subplots(nrows=2)\n",
    "axes[0].plot(t, y)\n",
    "axes[0].set(title=r'Original Function $f(t)$', xlabel=r\"$t$\", ylabel=r\"f(t)\")\n",
    "\n",
    "# 左右対称なので正の値だけ N//2 で取り出す\n",
    "axes[1].stem(freq[:N//2], Amp[:N//2], 'r', markerfmt=\" \", basefmt=\" \")\n",
    "axes[1].set(title=f'Fourier Transform $F(\\omega)$', xlabel=r'Frequency $ω$', ylabel=r'Magnitude $F(ω)$')\n",
    "\n",
    "fig.tight_layout()\n",
    "fig.show()"
   ]
  },
  {
   "cell_type": "markdown",
   "id": "8ae3954f-76a6-40a2-b46b-202a08822fa5",
   "metadata": {},
   "source": [
    "### 例：矩形窓"
   ]
  },
  {
   "cell_type": "markdown",
   "id": "76ba1cca-e1a0-4e60-9f88-1a88870a8ee0",
   "metadata": {},
   "source": [
    ":::{card}\n",
    "\n",
    "次の関数は幅$W$の **矩形窓（rectangular window）** と呼ばれる\n",
    "\n",
    "$$\n",
    "w(t)=\\left\\{\\begin{array}{cc}\n",
    "1 / 2 W & -W \\leq t \\leq W \\\\\n",
    "0 & \\text { それ以外 }\n",
    "\\end{array}\\right.\n",
    "$$\n",
    "\n",
    "このフーリエ変換は\n",
    "\n",
    "$$\n",
    "\\begin{aligned}\n",
    "W(\\omega)\n",
    "&=\\frac{1}{2 W} \\int_{-W}^W e^{-i \\omega t} \\mathrm{~d} t \\\\\n",
    "&=\\frac{1}{2 W} \\int_{-W}^W(\\cos \\omega t-i \\sin \\omega t) \\mathrm{d} t \\quad (オイラーの式より e^{-i \\omega t} = \\cos \\omega t-i \\sin \\omega t)\\\\\n",
    "&=\\frac{1}{2 W} \\left( \\int_{-W}^W \\cos \\omega t ~\\mathrm{d} t  - \\int_{-W}^W i \\sin \\omega t ~\\mathrm{d} t \\right)\n",
    "\\quad (\\because 積分の線形性)\n",
    "\\\\\n",
    "&=\\frac{1}{2W} \\int_{-W}^W \\cos \\omega t ~ \\mathrm{d} t\n",
    "\\quad (\\because \\sinは奇関数すなわち \\sin(-\\theta) = -\\sin(\\theta) であり、-Wから+Wまで積分したら0になるため消える )\n",
    "\\\\\n",
    "&=\\frac{1}{W} \\int_0^W \\cos \\omega t \\mathrm{~d} t\n",
    "\\quad (\\because \\int_{-W}^W \\cos \\omega t ~ \\mathrm{d} t = 2 \\int_{0}^W \\cos \\omega t ~ \\mathrm{d} t )\n",
    "\\\\\n",
    "&=\\frac{1}{W}\\left[ \\frac{\\sin \\omega t}{\\omega} \\right]_0^W\n",
    "\\quad (\\because \\int \\cos (\\omega t) d t=\\frac{\\sin (\\omega t)}{\\omega} )\n",
    "\\\\\n",
    "&=\\frac{1}{W} \\left( \\frac{\\sin \\omega W}{\\omega} - \\frac{\\sin 0}{\\omega} \\right)\n",
    "\\\\\n",
    "&=\\frac{\\sin W \\omega}{W \\omega}\n",
    "\\quad (\\because \\sin 0 = 0)\n",
    "\\\\\n",
    "&=\\operatorname{sinc} \\frac{W}{\\pi} \\omega\n",
    "\\end{aligned}\n",
    "$$\n",
    "\n",
    "となる。ただし、\n",
    "\n",
    "$$\n",
    "\\operatorname{sinc} x :=\\frac{\\sin \\pi x}{\\pi x}\n",
    "$$\n",
    "\n",
    "と定義する。\n",
    ":::"
   ]
  },
  {
   "cell_type": "code",
   "execution_count": 39,
   "id": "0d026ad0-eae1-4eb2-a8b9-32bb8f3fec11",
   "metadata": {
    "jupyter": {
     "source_hidden": true
    },
    "tags": [
     "hide-input"
    ]
   },
   "outputs": [
    {
     "data": {
      "image/png": "[encoded data removed]",
      "text/plain": [
       "<Figure size 400x300 with 1 Axes>"
      ]
     },
     "metadata": {},
     "output_type": "display_data"
    }
   ],
   "source": [
    "# 参考：numpyの高速フーリエ変換 fft を使う場合\n",
    "# 自分で離散的なデータポイントからフーリエ変換するのは離散フーリエ変換を学んでからやる\n",
    "import numpy as np\n",
    "import matplotlib.pyplot as plt\n",
    "\n",
    "fig, ax = plt.subplots(figsize=(4, 3))\n",
    "\n",
    "# もとの関数 f(t)\n",
    "w = 1.5  # width\n",
    "def f(t):\n",
    "    return (1/2*w) * 1 * ((-w <= t) & (t <= w))\n",
    "\n",
    "t = np.linspace(-3, 3, 100)\n",
    "y = f(t)\n",
    "ax.plot(t, f(t), label=\"f(t)\", color=\"black\", alpha=0.8)\n",
    "\n",
    "# フーリエ変換 F(omega)\n",
    "fourier = np.fft.fft(y)\n",
    "inv_fourier = np.fft.ifft(fourier).real  # 実部のみ\n",
    "ax.plot(t, inv_fourier, label=r\"$\\hat{f}(f)$\", color=\"red\", linestyle=\"--\", alpha=0.7)\n",
    "\n",
    "ax.set(xlabel=\"t\", ylabel=\"f(t)\")\n",
    "ax.legend()\n",
    "plt.show()"
   ]
  },
  {
   "cell_type": "markdown",
   "id": "1fe4403d-03d7-426c-b325-48d6684aee29",
   "metadata": {},
   "source": [
    ":::{card}\n",
    "\n",
    "次の関数$w(t)$ を幅$\\sigma$の **ガウス窓（Gaussian window）** という。\n",
    "\n",
    "$$\n",
    "w(t)=\\frac{1}{\\sqrt{2 \\pi} \\sigma} e^{-t^2 / 2 \\sigma^2}\n",
    "$$\n",
    "\n",
    "このフーリエ変換は\n",
    "\n",
    "$$\n",
    "\\begin{aligned}\n",
    "W(\\omega)\n",
    "&= \\int_{-\\infty}^{\\infty} w(t) e^{-i \\omega t} \\mathrm{~d} t \\\\\n",
    "&= \\frac{1}{\\sqrt{2 \\pi} \\sigma} \\int_{-\\infty}^{\\infty} e^{-t^2 / 2 \\sigma^2} e^{-i \\omega t} \\mathrm{~d} t \\\\\n",
    "&= \\frac{1}{\\sqrt{2 \\pi} \\sigma} \\int_{-\\infty}^{\\infty}\n",
    "e^{-( \\frac{t^2}{2 \\sigma^2} + i \\omega t)} \\mathrm{~d} t\n",
    "\\quad ( 指数法則 a^{n}a^m=a^{n+m})\\\\\n",
    "&= \\frac{1}{\\sqrt{2 \\pi} \\sigma} \\int_{-\\infty}^{\\infty} e^{-\\left(t+i \\sigma^2 \\omega\\right)^2 / 2 \\sigma^2-\\sigma^2 \\omega^2 / 2} \\mathrm{~d} t\n",
    "\\quad (平方完成したり色々いじるとこうなる)\n",
    "\\\\\n",
    "&= \\left(\\frac{1}{\\sqrt{2 \\pi} \\sigma} \\int_{-\\infty}^{\\infty} e^{-\\left(t+i \\sigma^2 \\omega\\right)^2 / 2 \\sigma^2} \\mathrm{~d} t\\right) e^{-\\sigma^2 \\omega^2 / 2}\n",
    "\\end{aligned}\n",
    "$$\n",
    "\n",
    "ここで $z=t+i \\sigma^2 \\omega$と変数変換すると\n",
    "\n",
    "$$\n",
    "\\begin{aligned}\n",
    "W(\\omega)\n",
    "& =\\left(\\frac{1}{\\sqrt{2 \\pi} \\sigma} \\int_{-\\infty}^{\\infty} e^{-z^2 / 2 \\sigma^2} \\mathrm{~d} z\\right) e^{-\\sigma^2 \\omega^2 / 2} \\\\\n",
    "& =e^{-\\sigma^2 \\omega^2 / 2}\\\\\n",
    "&=\\frac{\\sqrt{2 \\pi}}{\\sigma}\\left(\\frac{1}{\\sqrt{2 \\pi} \\sigma^{-1}} e^{-\\omega^2 / 2 \\sigma^{-2}}\\right)\n",
    "\\end{aligned}\n",
    "$$\n",
    "\n",
    "となる\n",
    "\n",
    ":::"
   ]
  },
  {
   "cell_type": "code",
   "execution_count": 159,
   "id": "45d8bcce-9070-4d7b-a9e4-4e47b9d6d0e2",
   "metadata": {
    "tags": [
     "hide-input"
    ]
   },
   "outputs": [
    {
     "data": {
      "image/png": "[encoded data removed]",
      "text/plain": [
       "<Figure size 400x200 with 1 Axes>"
      ]
     },
     "metadata": {},
     "output_type": "display_data"
    }
   ],
   "source": [
    "from scipy import signal\n",
    "import matplotlib.pyplot as plt\n",
    "window = signal.windows.gaussian(51, std=7)\n",
    "fig, ax = plt.subplots(figsize=(4, 2))\n",
    "ax.plot(window)\n",
    "ax.set(title=r\"Gaussian window ($\\sigma$=7)\", ylabel=\"Amplitude\", xlabel=\"Sample\")\n",
    "fig.show()"
   ]
  },
  {
   "cell_type": "code",
   "execution_count": 163,
   "id": "6ec30b3e-38c6-4b04-ab68-d351638673bf",
   "metadata": {
    "tags": [
     "hide-input"
    ]
   },
   "outputs": [
    {
     "data": {
      "image/png": "[encoded data removed]",
      "text/plain": [
       "<Figure size 400x240 with 1 Axes>"
      ]
     },
     "metadata": {},
     "output_type": "display_data"
    }
   ],
   "source": [
    "import numpy as np\n",
    "from scipy import signal\n",
    "from scipy.fft import fft, fftshift\n",
    "import matplotlib.pyplot as plt\n",
    "\n",
    "fig, ax = plt.subplots(figsize=(4, 2.4))\n",
    "\n",
    "window = signal.windows.gaussian(51, std=7)\n",
    "A = fft(window, 2048) / (len(window)/2.0)\n",
    "freq = np.linspace(-0.5, 0.5, len(A))\n",
    "response = 20 * np.log10(np.abs(fftshift(A / abs(A).max())))\n",
    "ax.plot(freq, response)\n",
    "ax.plot(window)\n",
    "ax.set(title=r\"Frequency response of the Gaussian window ($\\sigma$=7)\",\n",
    "       ylabel=\"Normalized magnitude [dB]\", xlabel=\"Normalized frequency [cycles per sample]\",\n",
    "       xlim=(-0.5, 0.5), ylim=(-120, 0))\n",
    "fig.show()"
   ]
  },
  {
   "cell_type": "markdown",
   "id": "0db8d578-05cd-4c19-903f-346cf84a9720",
   "metadata": {},
   "source": [
    "（出典：[gaussian — SciPy v1.14.1 Manual](https://docs.scipy.org/doc/scipy/reference/generated/scipy.signal.windows.gaussian.html#scipy.signal.windows.gaussian) ）"
   ]
  },
  {
   "cell_type": "markdown",
   "id": "e43573fb-fc79-42ae-b425-76d4603d275d",
   "metadata": {},
   "source": [
    "## 畳み込み積分\n",
    "\n",
    ":::{admonition} たたみこみ積分\n",
    "\n",
    "次の積分を信号 $f(t), g(t)$ の **たたみこみ積分** （convolution） または **合成積** と呼ぶ\n",
    "\n",
    "$$\n",
    "f(t) * g(t)=\\int_{-\\infty}^{\\infty} f(s) g(t-s) \\mathrm{d} s\n",
    "$$\n",
    "\n",
    ":::\n",
    "（左辺の積分における$f$と$g$の変数の和が$s + t-s = t$となっている）"
   ]
  },
  {
   "cell_type": "markdown",
   "id": "86b94bbb-380f-4134-8880-2f7c9b2c7652",
   "metadata": {},
   "source": [
    "畳み込み積分は分配法則、交換法則、結合法則が成り立つ\n",
    "\n",
    "- 分配法則： $f(t) *(a g(t)+b h(t))=a f(t) * g(t)+b f(t) * h(t)$\n",
    "- 交換法則：$f(t) * g(t)=g(t) * f(t)$\n",
    "- 結合法則：$(f(t) * g(t)) * h(t)=f(t) *(g(t) * h(t))$"
   ]
  },
  {
   "cell_type": "markdown",
   "id": "ee390482-972e-4a4c-acde-2c8ee2fa3af0",
   "metadata": {},
   "source": [
    ":::{admonition} 定理（信号の合成積はフーリエ変換の積）\n",
    "\n",
    "信号 $f(t), g(t)$ のフーリエ変換をそれぞれ $F(\\omega), G(\\omega)$ とするとき、 $f(t) * g(t)$ のフーリエ変換は $F(\\omega) G(\\omega)$ である\n",
    ":::\n",
    "\n",
    ":::{dropdown} 証明\n",
    "\n",
    "$f(t) * g(t)$のフーリエ変換は次のようになる\n",
    "\n",
    "$$\n",
    "\\begin{aligned}\n",
    "\\int_{-\\infty}^{\\infty} f(t) * g(t) e^{-i \\omega t} \\mathrm{~d} t & =\\int_{-\\infty}^{\\infty}\\left(\\int_{-\\infty}^{\\infty} f(s) g(t-s) \\mathrm{d} s\\right) e^{-i \\omega t} \\mathrm{~d} t \\\\\n",
    "& =\\int_{-\\infty}^{\\infty} f(s)\\left(\\int_{-\\infty}^{\\infty} g(t-s) e^{-i \\omega t} \\mathrm{~d} t\\right) \\mathrm{d} s \\\\\n",
    "& =\\int_{-\\infty}^{\\infty} f(s)\\left(\\int_{-\\infty}^{\\infty} g\\left(t^{\\prime}\\right) e^{-i \\omega\\left(t^{\\prime}+s\\right)} \\mathrm{d} t^{\\prime}\\right) \\mathrm{d} s \\\\\n",
    "& =\\int_{-\\infty}^{\\infty} f(s)\\left(\\int_{-\\infty}^{\\infty} g\\left(t^{\\prime}\\right) e^{-i \\omega t^{\\prime}} \\mathrm{d} t^{\\prime}\\right) e^{-i \\omega s} \\mathrm{~d} s \\\\\n",
    "& =\\left(\\int_{-\\infty}^{\\infty} f(s) e^{-i \\omega s} \\mathrm{~d} s\\right)\\left(\\int_{-\\infty}^{\\infty} g\\left(t^{\\prime}\\right) e^{-i \\omega t^{\\prime}} \\mathrm{d} t^{\\prime}\\right) \\\\\n",
    "& =F(\\omega) G(\\omega)\n",
    "\\end{aligned}\n",
    "$$\n",
    "\n",
    "（積分の順序を入れ換え、 $t^{\\prime}=t-s$ と変数変換し、 $t=t^{\\prime}+s$ を代入した）\n",
    ":::"
   ]
  },
  {
   "cell_type": "markdown",
   "id": "618e24a3-9044-4a7a-8b64-52150600be98",
   "metadata": {},
   "source": [
    "一般に、ある集合に要素間の演算が定義されているものを **代数系** と呼ぶ。そして2つの異なる集合での演算が同じ規則に従うとき、2つの代数系は **同型** であるという。\n",
    "関数の和$+$と畳み込み積分$*$に関する演算は、そのフーリエ変換の和$+$と積$\\times$に関する演算と同じであり、両方の代数系が同型である。"
   ]
  },
  {
   "cell_type": "markdown",
   "id": "07301aa4-3330-450a-97a2-63a45884e9cc",
   "metadata": {},
   "source": [
    "## フィルター\n",
    "\n",
    "信号 $f(t)$ の値を時刻 $t$ をはさむ幅 $2 W$ の区間で平均し、これを $\\tilde{f}(t)$ と定義する。\n",
    "\n",
    "$$\n",
    "\\tilde{f}(t) := \\frac{1}{2 W} \\int_{-W}^W f(t-s) \\mathrm{d} s\n",
    "$$\n",
    "\n",
    "矩形窓やガウス窓$w(t)$を使うと、次のように書き直すことができる\n",
    "\n",
    "$$\n",
    "\\tilde{f}(t)=\\int_{-\\infty}^{\\infty} w(s) f(t-s) \\mathrm{d} s=w(t) * f(t)\n",
    "$$\n",
    "\n",
    "これにより、関数$w(t)$を様々な関数に変えれば信号$f(t)$の様々な変換ができる。このような操作を関数$w(t)$による **フィルター** という。"
   ]
  },
  {
   "cell_type": "markdown",
   "id": "4fa74b18-3a8d-465a-ac4b-dda6b79c0f82",
   "metadata": {},
   "source": [
    "$w(t), f(t)$のフーリエ変換をそれぞれ$W(\\omega), F(\\omega)$とおけば、畳み込み積分の定理により$\\tilde{f}(t) = w(t)*f(t)$のフーリエ変換は\n",
    "\n",
    "$$\n",
    "\\tilde{F}(\\omega) = W(\\omega) F(\\omega)\n",
    "$$\n",
    "\n",
    "と書くことができる。\n",
    "\n",
    "もし$|\\omega|$が小さい部分で$|W(\\omega)|$が大きく、$|\\omega|$が大きい部分で$|W(\\omega)|$が小さくなる場合、$w(t)$によるフィルターは低周波成分を増幅し、高周波成分を減衰させる。このようなフィルターを **ローパスフィルター** （ **低域フィルター** ）と呼ぶ。その逆のフィルターを **ハイパスフィルター** （ **高域フィルター** ）と呼ぶ。\n",
    "\n",
    "その中間として、特定の$|\\omega|$の付近を増幅し、それ以外を減衰させるフィルターは **帯域フィルター** （ **バンドパスフィルター** ）と呼ぶ。"
   ]
  },
  {
   "cell_type": "markdown",
   "id": "c51cc36a-3960-45af-8f30-0a04f0949694",
   "metadata": {},
   "source": [
    ":::{info}\n",
    "\n",
    "[fftconvolve — SciPy v1.14.1 Manual](https://docs.scipy.org/doc/scipy/reference/generated/scipy.signal.fftconvolve.html#scipy.signal.fftconvolve)\n",
    "\n",
    "ガウシアンブラーで画像を平滑化（ぼかす）例がある\n",
    ":::"
   ]
  },
  {
   "cell_type": "code",
   "execution_count": 155,
   "id": "5317b0f0-ddbc-4c91-9aea-7dc483863218",
   "metadata": {
    "tags": [
     "hide-input"
    ]
   },
   "outputs": [
    {
     "data": {
      "image/png": "[encoded data removed]",
      "text/plain": [
       "<Figure size 400x300 with 1 Axes>"
      ]
     },
     "metadata": {},
     "output_type": "display_data"
    }
   ],
   "source": [
    "import numpy as np\n",
    "import matplotlib.pyplot as plt\n",
    "\n",
    "N = 1000\n",
    "t = np.linspace(0, 10, N)\n",
    "\n",
    "def f(t):\n",
    "    return np.sin(t) + 0.5 * np.sin(10 * t)\n",
    "\n",
    "signal = f(t)\n",
    "\n",
    "fig, ax = plt.subplots(figsize=(4, 3))\n",
    "ax.plot(t, signal, label=\"f(t)\", color=\"black\", alpha=0.8)\n",
    "ax.set(xlabel=\"t\", ylabel=\"f(t)\")\n",
    "\n",
    "from scipy.signal.windows import gaussian\n",
    "\n",
    "def gaussian_smoothing(signal, window_size, std_dev):\n",
    "    # ガウス窓を作成\n",
    "    gauss_window = gaussian(window_size, std=std_dev)\n",
    "    gauss_window /= gauss_window.sum()  # 窓の正規化\n",
    "    # 畳み込み\n",
    "    smoothed_signal = np.convolve(signal, gauss_window, mode='same')  # 同じ長さを保つ\n",
    "    return smoothed_signal\n",
    "\n",
    "smoothed_signal = gaussian_smoothing(signal, window_size=15, std_dev=3)\n",
    "ax.plot(t, smoothed_signal, label=r\"$\\tilde{f}(t)$\", color=\"steelblue\", alpha=0.8)\n",
    "ax.legend()\n",
    "fig.show()"
   ]
  },
  {
   "cell_type": "code",
   "execution_count": 143,
   "id": "8b6a80ca-7419-4f90-b41e-effd949a95d4",
   "metadata": {
    "tags": []
   },
   "outputs": [],
   "source": []
  },
  {
   "cell_type": "markdown",
   "id": "53dee480-7d91-4ade-ac1b-c33e1753110e",
   "metadata": {},
   "source": [
    "## 参考\n",
    "\n",
    "- 金谷健一. (2003). これなら分かる応用数学教室: 最小二乗法からウェーブレットまで.\n",
    "- [小野弓絵. (2019). いまさら聞けない信号処理. 生体医工学, 57(2-3), 75-80.](https://www.jstage.jst.go.jp/article/jsmbe/57/2-3/57_75/_pdf/-char/ja)"
   ]
  },
  {
   "cell_type": "code",
   "execution_count": null,
   "id": "c5ae86f3-8511-4588-89dd-becfffb98685",
   "metadata": {},
   "outputs": [],
   "source": []
  }
 ],
 "metadata": {
  "kernelspec": {
   "display_name": "Python 3 (ipykernel)",
   "language": "python",
   "name": "python3"
  },
  "language_info": {
   "codemirror_mode": {
    "name": "ipython",
    "version": 3
   },
   "file_extension": ".py",
   "mimetype": "text/x-python",
   "name": "python",
   "nbconvert_exporter": "python",
   "pygments_lexer": "ipython3",
   "version": "3.10.15"
  }
 },
 "nbformat": 4,
 "nbformat_minor": 5
}
