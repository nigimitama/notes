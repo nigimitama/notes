{
 "cells": [
  {
   "cell_type": "markdown",
   "id": "0af6ebb9-c8f9-4fd0-a6ea-167a36b572e2",
   "metadata": {},
   "source": [
    "# フーリエ解析\n",
    "\n",
    "フーリエ解析（Fourier analysis）"
   ]
  },
  {
   "cell_type": "code",
   "execution_count": null,
   "id": "f6e6bef0-2660-4bfb-ad57-6eb935ea84a4",
   "metadata": {},
   "outputs": [],
   "source": []
  }
 ],
 "metadata": {
  "kernelspec": {
   "display_name": "Python 3 (ipykernel)",
   "language": "python",
   "name": "python3"
  },
  "language_info": {
   "codemirror_mode": {
    "name": "ipython",
    "version": 3
   },
   "file_extension": ".py",
   "mimetype": "text/x-python",
   "name": "python",
   "nbconvert_exporter": "python",
   "pygments_lexer": "ipython3",
   "version": "3.10.15"
  }
 },
 "nbformat": 4,
 "nbformat_minor": 5
}
