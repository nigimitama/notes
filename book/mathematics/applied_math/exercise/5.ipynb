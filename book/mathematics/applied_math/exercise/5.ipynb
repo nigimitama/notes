{
 "cells": [
  {
   "cell_type": "markdown",
   "id": "f22400ee-a0be-45ea-880d-4e0b49876afe",
   "metadata": {},
   "source": [
    "# 応用数学 ch5メモ（2次形式、対角化、固有値）\n"
   ]
  },
  {
   "cell_type": "markdown",
   "id": "3212f8fc-57ca-4413-9d14-24b2a193b293",
   "metadata": {},
   "source": [
    "## 対称行列の固有値"
   ]
  },
  {
   "cell_type": "markdown",
   "id": "3ed26d06-9895-4fa7-86bc-6f0fbd863cde",
   "metadata": {},
   "source": [
    "対称行列に対しては\n",
    "\n",
    "- 固有値も固有ベクトルもすべて実数\n",
    "- 固有ベクトルは互いに直交する\n",
    "\n",
    "という性質を持っている。"
   ]
  },
  {
   "cell_type": "markdown",
   "id": "b036f885-5073-400e-8bf5-4dca16445ba9",
   "metadata": {},
   "source": [
    "現実世界やデータサイエンス領域での応用において固有値を求めるとき、相関行列や分散共分散行列など対称行列の固有値を求めることが多いので対称行列に対する固有値のトピックに触れておくと理解しやすい。"
   ]
  },
  {
   "cell_type": "markdown",
   "id": "6f2ea4bb-c1cc-48d0-8371-f274df88bb0f",
   "metadata": {},
   "source": [
    "## 対称行列の対角化"
   ]
  },
  {
   "cell_type": "code",
   "execution_count": null,
   "id": "b6b83e0d-53fc-4c87-81da-465d8ba31d95",
   "metadata": {},
   "outputs": [],
   "source": []
  }
 ],
 "metadata": {
  "kernelspec": {
   "display_name": "Python 3 (ipykernel)",
   "language": "python",
   "name": "python3"
  },
  "language_info": {
   "codemirror_mode": {
    "name": "ipython",
    "version": 3
   },
   "file_extension": ".py",
   "mimetype": "text/x-python",
   "name": "python",
   "nbconvert_exporter": "python",
   "pygments_lexer": "ipython3",
   "version": "3.10.15"
  }
 },
 "nbformat": 4,
 "nbformat_minor": 5
}
