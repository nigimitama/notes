{
 "cells": [
  {
   "cell_type": "markdown",
   "id": "b832c073-baf9-4d00-84f4-f6f902c4a763",
   "metadata": {},
   "source": [
    "# 離散フーリエ変換"
   ]
  },
  {
   "cell_type": "code",
   "execution_count": null,
   "id": "faf80efa-1ffa-44ec-b1b3-fb1494d39541",
   "metadata": {},
   "outputs": [],
   "source": []
  }
 ],
 "metadata": {
  "kernelspec": {
   "display_name": "Python 3 (ipykernel)",
   "language": "python",
   "name": "python3"
  },
  "language_info": {
   "codemirror_mode": {
    "name": "ipython",
    "version": 3
   },
   "file_extension": ".py",
   "mimetype": "text/x-python",
   "name": "python",
   "nbconvert_exporter": "python",
   "pygments_lexer": "ipython3",
   "version": "3.10.15"
  }
 },
 "nbformat": 4,
 "nbformat_minor": 5
}
