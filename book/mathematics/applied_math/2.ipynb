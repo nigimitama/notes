{
 "cells": [
  {
   "cell_type": "markdown",
   "id": "ed4d7f5d-43f9-44e9-96bc-de3aaac1f42d",
   "metadata": {},
   "source": [
    "# 応用数学 ch2メモ（直交関数展開）\n"
   ]
  },
  {
   "cell_type": "markdown",
   "id": "2a0b6433-7948-40ed-aa0e-13a92656e7eb",
   "metadata": {},
   "source": [
    "## 直交関数展開\n",
    "\n",
    "区間 $[a, b]$ 上の関数 $f(x), g(x)$ が\n",
    "\n",
    "$$\n",
    "\\int_a^b f(x) g(x) \\mathrm{d} x=0\n",
    "$$\n",
    "\n",
    "のとき **直交する** という。\n",
    "\n",
    "関数 $\\phi_0(x), \\phi_1(x), \\ldots, \\phi_n(x)$ が互いに直交するとき、すなわち\n",
    "\n",
    "$$\n",
    "\\int_a^b \\phi_i(x) \\phi_j(x) \\mathrm{d} x=0, \\quad i \\neq j\n",
    "$$\n",
    "\n",
    "のとき、これらは区間$[a,b]$上の **直交関数系** であるという。とくに$\\phi_i(x)$が$x$の多項式なら、これを **直交多項式** という。"
   ]
  },
  {
   "cell_type": "markdown",
   "id": "67f9e040-d146-4b6b-b080-2a5513135e0c",
   "metadata": {},
   "source": [
    ":::{card} 直交多項式の例：ルジャンドルの多項式\n",
    "\n",
    "次の関数 $P_n(x), n=0,1,2, \\ldots$, は $n$ 次の **ルジャンドルの多項式** と呼ばれる。\n",
    "\n",
    "$$\n",
    "\\begin{aligned}\n",
    "P_0(x) &= 1 \\\\\n",
    "P_1(x) &= x \\\\\n",
    "P_2(x) &= \\frac{1}{2}\\left(3 x^2-1\\right) \\\\\n",
    "P_3(x) &= \\frac{1}{2}\\left(5 x^3-3 x\\right) \\\\\n",
    "P_4(x) &= \\frac{1}{8}\\left(35 x^4-30 x^2+3\\right) \\\\\n",
    "P_5(x) &= \\frac{1}{8}\\left(63 x^5-70 x^3+15 x\\right) \\\\\n",
    "P_6(x) &= \\frac{1}{16}\\left(231 x^6-315 x^4+105 x^2-5\\right)\\\\\n",
    "& \\vdots\n",
    "\\end{aligned}\n",
    "$$\n",
    "\n",
    "これらは区間 $[-1,1]$ 上の直交関数系であり, 次の直交関係が成立する.\n",
    "\n",
    "$$\n",
    "\\int_{-1}^1 P_n(x) P_m(x) \\mathrm{d} x= \\begin{cases}\\frac{2}{2 n+1} & n=m \\text { のとき } \\\\ 0 & n \\neq m \\text { のとき }\\end{cases}\n",
    "$$\n",
    "\n",
    "$P_n(x)$ の一般式が次式で表せることが知られている（ロドリゲスの公式）.\n",
    "\n",
    "$$\n",
    "P_n(x)=\\frac{1}{2^n n!} \\frac{\\mathrm{d}^n\\left(x^2-1\\right)^n}{\\mathrm{~d} x^n}\n",
    "$$\n",
    "\n",
    "\n",
    ":::"
   ]
  },
  {
   "cell_type": "markdown",
   "id": "e5dd9caa-038b-4d6b-a2c0-e24f2483fb49",
   "metadata": {},
   "source": [
    ":::{card} 直交関数の例\n",
    "\n",
    "$$\n",
    "\\frac{1}{2}, \\cos k x, \\sin k x,\\quad k=1,2,3, \\ldots\n",
    "$$\n",
    "\n",
    "は区間 $[-\\pi, \\pi]$ 上の直交関数である。\n",
    "\n",
    "（証明） $\\cos k x, \\sin k x, k=1,2,3, \\ldots$ は周期 $2 \\pi$ の周期関数であるから、 1 周期 に渡る積分 $\\int_{-\\pi}^\\pi \\cos k x \\mathrm{~d} x, \\int_{-\\pi}^\\pi \\sin k x \\mathrm{~d} x$ は 0 である。このことから $\\frac{1}{2}$ と $\\cos k x$, $\\sin k x$ に対して次のようになる。\n",
    "\n",
    "$$\n",
    "\\int_{-\\pi}^\\pi \\frac{1}{2} \\cos k x \\mathrm{~d} x=\\int_{-\\pi}^\\pi \\frac{1}{2} \\sin k x \\mathrm{~d} x=0\n",
    "$$\n",
    "\n",
    "$\\cos k x, \\sin l x$ に対しては次のようになる。\n",
    "\n",
    "$$\n",
    "\\int_{-\\pi}^\\pi \\cos k x \\sin l x \\mathrm{~d} x=\\frac{1}{2} \\int_{-\\pi}^\\pi(\\sin (k+l) x-\\sin (k-l) x) \\mathrm{d} x=0\n",
    "$$\n",
    "\n",
    "$k \\neq l$ のとき $\\cos k x, \\cos l x$ に対して次のようになる。\n",
    "\n",
    "$$\n",
    "\\int_{-\\pi}^\\pi \\cos k x \\cos l x \\mathrm{~d} x=\\frac{1}{2} \\int_{-\\pi}^\\pi(\\cos (k+l) x+\\cos (k-l) x) \\mathrm{d} x=0\n",
    "$$\n",
    "\n",
    "$k \\neq l$ のとき $\\sin k x, \\sin l x$ に対して次のようになる。\n",
    "\n",
    "$$\n",
    "\\int_{-\\pi}^\\pi \\sin k x \\sin l x \\mathrm{~d} x=-\\frac{1}{2} \\int_{-\\pi}^\\pi(\\cos (k+l) x-\\cos (k-l) x) \\mathrm{d} x=0\n",
    "$$\n",
    "\n",
    "以上より $\\frac{1}{2}, \\cos k x, \\sin k x, k=1,2,3, \\ldots$, が直交関数系であることが示された。\n",
    "\n",
    "\n",
    "また次の関係も成り立つ。\n",
    "\n",
    "$$\n",
    "\\begin{gathered}\n",
    "\\int_{-\\pi}^\\pi\\left(\\frac{1}{2}\\right)^2 \\mathrm{~d} x=\\frac{\\pi}{2} \\\\\n",
    "\\int_{-\\pi}^\\pi \\cos ^2 k x \\mathrm{~d} x=\\frac{1}{2} \\int_{-\\pi}^\\pi(1+\\cos 2 k x) \\mathrm{d} x=\\pi \\\\\n",
    "\\int_{-\\pi}^\\pi \\sin ^2 k x \\mathrm{~d} x=\\frac{1}{2} \\int_{-\\pi}^\\pi(1-\\cos 2 k x) \\mathrm{d} x=\\pi\n",
    "\\end{gathered}\n",
    "$$\n",
    "\n",
    ":::"
   ]
  },
  {
   "cell_type": "markdown",
   "id": "7f142cf7-9607-423d-bcbc-78c6b02150a9",
   "metadata": {},
   "source": [
    "### 最小二乗近似\n",
    "\n",
    "区間$[a,b]$上の直交関数系$\\{\\phi_i(x)\\}, i=0,1,\\cdots,n$の線形結合で関数$f(x)$を近似する事を考える\n",
    "\n",
    "$$\n",
    "f(x) \\approx c_0 \\phi_0(x)+c_1 \\phi_1(x)+\\cdots+c_n \\phi_n(x)\n",
    "$$\n",
    "\n",
    "このような近似は、画像や音声を表す信号を少量の数値のみで高速に伝送したり、メモリの記憶容量を削減するために用いられる。\n",
    "\n",
    "近似の尺度として最小二乗法\n",
    "\n",
    "$$\n",
    "J=\\frac{1}{2} \\int_a^b\\left(f(x)-c_0 \\phi_0(x)-c_1 \\phi_1(x)-\\cdots-c_n \\phi_n(x)\\right)^2 \\mathrm{~d} x\n",
    "$$\n",
    "\n",
    "$$\n",
    "\\min_{c_0,\\cdots,c_n} J\n",
    "$$\n",
    "\n",
    "を用いると、各係数$c_i$は\n",
    "\n",
    "$$\n",
    "c_i=\\frac{\\int_a^b f(x) \\phi_i(x) \\mathrm{d} x}{\\int_a^b \\phi_i(x)^2 \\mathrm{~d} x}, \\quad i=0,1, \\ldots, n\n",
    "$$\n",
    "\n",
    "となる\n",
    "\n",
    ":::{dropdown} 証明\n",
    "\n",
    "$$\n",
    "\\begin{aligned}\n",
    "\\frac{\\partial J}{\\partial c_i}= & -\\int_a^b\\left(f(x)-c_0 \\phi_0(x)-c_1 \\phi_1(x)-\\cdots-c_n \\phi_n(x)\\right) \\phi_i(x) \\mathrm{d} x \\\\\n",
    "= & -\\left(\\int_a^b f(x) \\phi_i(x) \\mathrm{d} x-c_0 \\int_a^b \\phi_0(x) \\phi_i(x) \\mathrm{d} x\\right. \\\\\n",
    "& \\left.\\quad-c_1 \\int_a^b \\phi_1(x) \\phi_i(x) \\mathrm{d} x-\\cdots-c_n \\int_a^b \\phi_n(x) \\phi_i(x) \\mathrm{d} x\\right) \\\\\n",
    "& =-\\left(\\int_a^b f(x) \\phi_i(x) \\mathrm{d} x-c_i \\int_a^b \\phi_i(x)^2 \\mathrm{~d} x\\right)\n",
    "\\end{aligned}\n",
    "$$\n",
    "\n",
    "これを0とおくと、係数が求まる\n",
    "\n",
    ":::"
   ]
  },
  {
   "cell_type": "markdown",
   "id": "66c67fd2-b1e2-4fca-91c2-f388b3c1d7a4",
   "metadata": {},
   "source": [
    "### 完備\n",
    "\n",
    ":::{admonition} 定義（完備）\n",
    "\n",
    "直交関数系の無限列 $\\left\\{\\phi_i\\right\\}, i=0,1,2, \\cdots$ があり、任意の連続関数 $f(x)$ の $\\phi_0(x), \\phi_1(x), \\phi_2(x), \\cdots, \\phi_n(x)$ による近似が $n \\rightarrow \\infty$ のときに $f(x)$ に収束するとき、 直交関数系 $\\left\\{\\phi_i\\right\\}$ は **完備 (complete)** であるといい、 その収束する級数を関数 $f(x)$ の $\\left\\{\\phi_i\\right\\}$ による **直交関数展開** という。\n",
    ":::"
   ]
  },
  {
   "cell_type": "markdown",
   "id": "9f27f1f7-9fb0-4500-8bdd-12a9f0bbe5c1",
   "metadata": {},
   "source": [
    "### フーリエ級数"
   ]
  },
  {
   "cell_type": "markdown",
   "id": "6e11a4b0-cade-4af2-a413-54292d782f95",
   "metadata": {},
   "source": [
    "$$\n",
    "\\frac{1}{2}, \\cos k x, \\sin k x,\\quad k=1,2,3, \\ldots\n",
    "$$\n",
    "\n",
    "は区間$[-\\pi,\\pi]$上で完備であることが知られ、これらを用いる直交関数展開を **フーリエ級数 (Fourier series)** という。\n"
   ]
  },
  {
   "cell_type": "markdown",
   "id": "ee5b9240-44fe-496e-92f8-b2ad4448ca63",
   "metadata": {},
   "source": [
    "関数$f(x)$の近似\n",
    "\n",
    "$$\n",
    "f(x) \\approx \\frac{a_0}{2}+a_1 \\cos x+b_1 \\sin x+a_2 \\cos 2 x+b_2 \\sin 2 x+a_3 \\cos 3 x+b_3 \\sin 3 x+\\cdots\n",
    "$$\n",
    "\n",
    "の係数$a_n, b_n$は次のようになる\n",
    "\n",
    "$$\n",
    "a_0=\\frac{1}{\\pi} \\int_{-\\pi}^\\pi f(x) \\mathrm{d} x, \\quad a_k=\\frac{1}{\\pi} \\int_{-\\pi}^\\pi f(x) \\cos k x \\mathrm{~d} x, \\quad b_k=\\frac{1}{\\pi} \\int_{-\\pi}^\\pi f(x) \\sin k x \\mathrm{~d} x\n",
    "$$\n",
    "\n",
    "これらの係数を **フーリエ係数** と呼ぶ。"
   ]
  },
  {
   "cell_type": "markdown",
   "id": "70933b3f-0ba1-4535-a783-57439d1a4399",
   "metadata": {},
   "source": [
    "#### 例（フーリエ級数）\n",
    "\n",
    ":::{card}\n",
    "\n",
    "次の関数 $f(x)$ を区間 $[-\\pi, \\pi]$ 上でフーリエ級数に展開せよ\n",
    "\n",
    "$$\n",
    "f(x)=\\begin{cases}\n",
    "1 & 0 \\leq x \\leq \\pi \\text { のとき } \\\\\n",
    "-1 & -\\pi \\leq x<0 \\text { のとき }\n",
    "\\end{cases}\n",
    "$$\n",
    ":::\n",
    "\n",
    "$$\n",
    "\\begin{aligned}\n",
    "a_0 & =\\frac{1}{\\pi}\\left(-\\int_{-\\pi}^0 \\mathrm{~d} x+\\int_0^\\pi \\mathrm{d} x\\right)=\\frac{-\\pi+\\pi}{\\pi}=0\n",
    "\\\\\n",
    "a_k & =\\frac{1}{\\pi}\\left(-\\int_{-\\pi}^0 \\cos k x \\mathrm{~d} x+\\int_0^\\pi \\cos k x \\mathrm{~d} x\\right) \\\\\n",
    "& =\\frac{1}{\\pi}\\left(-\\left[\\frac{\\sin k x}{k}\\right]_{-\\pi}^0+\\left[\\frac{\\sin k x}{k}\\right]_0^\\pi\\right)=0\n",
    "\\\\\n",
    "b_k & =\\frac{1}{\\pi}\\left(-\\int_{-\\pi}^0 \\sin k x \\mathrm{~d} x+\\int_0^\\pi \\sin k x \\mathrm{~d} x\\right)=\\frac{1}{\\pi}\\left(\\left[\\frac{\\cos k x}{k}\\right]_{-\\pi}^0-\\left[\\frac{\\cos k x}{k}\\right]_0^\\pi\\right) \\\\\n",
    "& =\\frac{1}{\\pi}\\left(\\frac{1-\\cos (-\\pi) k}{k}-\\frac{\\cos \\pi k-1}{k}\\right)=\\frac{2\\left(1-(-1)^k\\right)}{k \\pi}\n",
    "\\end{aligned}\n",
    "$$\n",
    "\n",
    "よって、次のようになる\n",
    "\n",
    "$$\r\n",
    "f(x)=\\frac{4}{\\pi} \\sin x+\\frac{4}{3 \\pi} \\sin 3 x+\\frac{4}{5 \\pi} \\sin 5 x+\\frac{4}{7 \\pi} \\sin 7 x+\\cdots\r\n",
    "$$"
   ]
  },
  {
   "cell_type": "markdown",
   "id": "0e5e4d36-0f03-4661-a7f0-f45ddc77c462",
   "metadata": {},
   "source": [
    "この近似を $\\hat{f}(x, n) = \\sum_{k=1}^n b_k \\cdot \\sin kx$ とおく。pythonで計算すると次の図のようになる"
   ]
  },
  {
   "cell_type": "code",
   "execution_count": 66,
   "id": "45092a5b-8b6f-4c7a-b890-3d28a3ef3cea",
   "metadata": {
    "editable": true,
    "slideshow": {
     "slide_type": ""
    },
    "tags": [
     "hide-input"
    ]
   },
   "outputs": [
    {
     "data": {
      "image/png": "[encoded data removed]",
      "text/plain": [
       "<Figure size 640x480 with 1 Axes>"
      ]
     },
     "metadata": {},
     "output_type": "display_data"
    }
   ],
   "source": [
    "import matplotlib.pyplot as plt\n",
    "import numpy as np\n",
    "\n",
    "def f(x: np.array) -> np.array:\n",
    "    y = np.zeros_like(x)\n",
    "    y[(0 <= x) & (x <= np.pi)] = 1\n",
    "    y[(-np.pi <= x) & (x < 0)] = -1\n",
    "    return y\n",
    "\n",
    "# a_0, a_k が 0なので、 b_k （sinの係数）のみが残る\n",
    "def b(k):\n",
    "    return (2 * (1 - (-1)**k)) / (k * np.pi)\n",
    "\n",
    "def f_hat(x: np.array, n: int) -> np.array:\n",
    "    approx = np.zeros_like(x)\n",
    "    for k in range(1, n+1):\n",
    "        approx += b(k) * np.sin(k * x)\n",
    "    return approx\n",
    "\n",
    "\n",
    "fig, ax = plt.subplots()\n",
    "x = np.linspace(-np.pi, np.pi, 500)\n",
    "ax.plot(x, f(x), label=\"f(x)\", color=\"black\")\n",
    "ax.plot(x, f_hat(x, n=1), label=r\"$\\hat{f}(x, n=1)$\", linestyle=\"--\", alpha=0.7)\n",
    "ax.plot(x, f_hat(x, n=5), label=r\"$\\hat{f}(x, n=5)$\", linestyle=\"--\", alpha=0.7)\n",
    "ax.plot(x, f_hat(x, n=100), label=r\"$\\hat{f}(x, n=100)$\", linestyle=\"--\", alpha=0.7)\n",
    "ax.plot(x, f_hat(x, n=1000), label=r\"$\\hat{f}(x, n=1000)$\", linestyle=\"--\", alpha=0.7)\n",
    "ax.set(xlabel=\"x\", title=\"Fourier series\")\n",
    "ax.legend()\n",
    "fig.show()"
   ]
  },
  {
   "cell_type": "markdown",
   "id": "d074258b-db6d-4537-93f3-eecf5b9f4746",
   "metadata": {},
   "source": []
  },
  {
   "cell_type": "markdown",
   "id": "9fa0326c-9c9d-42b7-9c5d-d1db92a0a19d",
   "metadata": {},
   "source": []
  },
  {
   "cell_type": "markdown",
   "id": "688dfe22-b1ad-4681-957b-bb0af0b2b46e",
   "metadata": {},
   "source": [
    "### まとめ\n",
    "\n",
    ":::{tip}\n",
    "\n",
    "ベクトル空間上の正規直交基底であらゆるベクトルを表せるのと同様に、関数においても **完備な直交関数系による近似によって任意の関数を表現できる**\n",
    "\n",
    "その近似は直交関数系$\\{\\phi_i(x)\\}$の線形結合$c_0 \\phi_0(x)+c_1 \\phi_1(x)+\\cdots+c_n \\phi_n(x)$なので、級数（$\\sum_{i=1}^{\\infty} c_i \\phi_i(x)$ など）で表現できる（→フーリエ級数）\n",
    "\n",
    ":::"
   ]
  },
  {
   "cell_type": "markdown",
   "id": "e83a7ee4-00ad-45a8-8f5e-703ab8ae2088",
   "metadata": {},
   "source": [
    "## 例題\n",
    "\n",
    "### 例2.6\n",
    "\n",
    ":::{card} 例2.6\n",
    "\n",
    "関数 $f(x)$ を区間 $[-\\pi, \\pi]$ 上で $\\frac{1}{2}, \\cos k x, \\sin k x, k=1,2,3, \\ldots, $ によって近似せよ\n",
    ":::\n",
    "\n",
    "\n",
    "次のように表せる。\n",
    "\n",
    "$$\n",
    "f(x) \\approx \\frac{a_0}{2}+a_1 \\cos x+b_1 \\sin x+a_2 \\cos 2 x+b_2 \\sin 2 x+a_3 \\cos 3 x+b_3 \\sin 3 x+\\cdots\n",
    "$$\n",
    "\n",
    "係数$a_n, b_n$は次のようになる\n",
    "\n",
    "$$\n",
    "a_0=\\frac{1}{\\pi} \\int_{-\\pi}^\\pi f(x) \\mathrm{d} x, \\quad a_k=\\frac{1}{\\pi} \\int_{-\\pi}^\\pi f(x) \\cos k x \\mathrm{~d} x, \\quad b_k=\\frac{1}{\\pi} \\int_{-\\pi}^\\pi f(x) \\sin k x \\mathrm{~d} x\n",
    "$$"
   ]
  },
  {
   "cell_type": "code",
   "execution_count": null,
   "id": "62369ba5-8a28-48fa-b9e5-0b4d41f987bb",
   "metadata": {},
   "outputs": [],
   "source": []
  }
 ],
 "metadata": {
  "kernelspec": {
   "display_name": "Python 3 (ipykernel)",
   "language": "python",
   "name": "python3"
  },
  "language_info": {
   "codemirror_mode": {
    "name": "ipython",
    "version": 3
   },
   "file_extension": ".py",
   "mimetype": "text/x-python",
   "name": "python",
   "nbconvert_exporter": "python",
   "pygments_lexer": "ipython3",
   "version": "3.10.15"
  }
 },
 "nbformat": 4,
 "nbformat_minor": 5
}
