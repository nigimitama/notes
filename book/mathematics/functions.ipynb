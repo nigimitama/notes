{
 "cells": [
  {
   "cell_type": "markdown",
   "id": "5ff963a7-eab2-489d-a3e9-2cbedd6df800",
   "metadata": {},
   "source": [
    "# 関数"
   ]
  },
  {
   "cell_type": "markdown",
   "id": "bbc95da1-d0a7-432e-a559-9264acb9d67a",
   "metadata": {},
   "source": [
    "## 対数関数"
   ]
  },
  {
   "cell_type": "markdown",
   "id": "78ce0682-1c10-4366-befe-3d6ed3b9b1e1",
   "metadata": {},
   "source": [
    "## 指数関数"
   ]
  },
  {
   "cell_type": "markdown",
   "id": "41bac940-b9c5-4301-8b8f-d38cd51788ec",
   "metadata": {},
   "source": [
    "## 三角関数"
   ]
  },
  {
   "cell_type": "code",
   "execution_count": null,
   "id": "c1a8ac9f-500b-4d7c-b104-ad3be4592f73",
   "metadata": {},
   "outputs": [],
   "source": []
  }
 ],
 "metadata": {
  "kernelspec": {
   "display_name": "Python 3 (ipykernel)",
   "language": "python",
   "name": "python3"
  },
  "language_info": {
   "codemirror_mode": {
    "name": "ipython",
    "version": 3
   },
   "file_extension": ".py",
   "mimetype": "text/x-python",
   "name": "python",
   "nbconvert_exporter": "python",
   "pygments_lexer": "ipython3",
   "version": "3.9.16"
  }
 },
 "nbformat": 4,
 "nbformat_minor": 5
}
