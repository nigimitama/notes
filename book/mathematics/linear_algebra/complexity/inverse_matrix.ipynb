{
 "cells": [
  {
   "cell_type": "markdown",
   "id": "37fadbb2-526a-4c3c-b967-c81e7680d760",
   "metadata": {},
   "source": [
    "# 逆行列の計算量"
   ]
  },
  {
   "cell_type": "markdown",
   "id": "773f44e2-5de9-45de-b6b2-34b362050dc6",
   "metadata": {},
   "source": [
    "## 計算量\n",
    "\n",
    ":::{admonition} 逆行列の計算量 まとめ\n",
    "\n",
    "- 行列式を使う場合：おそらく$O(n^5)$\n",
    "- Gauss-Jordanの掃き出し法：$O(n^3)$\n",
    "- LU分解してから逆行列を求める：$O(n^3)$\n",
    "\n",
    ":::"
   ]
  },
  {
   "cell_type": "markdown",
   "id": "942b0d0b-3e3e-4c12-a0f1-dc9c4eaeb252",
   "metadata": {},
   "source": [
    "### 行列式を使う場合\n",
    "\n",
    "$$\n",
    "A^{-1} = \\frac{1}{|A|} \\tilde{A}\n",
    "$$\n",
    "\n",
    "から計算する場合、おそらく$O(n^5)$かかる（行列式の計算に$O(n^3)$ + 余因子行列に$O(n^5)$）\n",
    "\n",
    "**行列式の計算量**\n",
    "\n",
    "(1) 愚直に計算した場合 → $O(n\\times n!)$\n",
    "\n",
    "$$\n",
    "|A| = \\sum_{\\sigma \\in S_n} \\operatorname{sgn}(\\sigma) a_{1 \\sigma(1)} a_{2 \\sigma(2)} \\cdots a_{n \\sigma(n)}\n",
    "$$\n",
    "\n",
    "という行列式の定義から、置換の集合$S_n$の要素数が$n!$個あり、各項で$n$回$a_{n \\sigma(n)}$を掛けるので$O(n\\times n!)$\n",
    "\n",
    "(2) 効率化した場合 → $O(n^3)$\n",
    "\n",
    "「行列Aのi行から、j行の定数倍を引いても、行列式の値は変わらない。」という性質を使って上三角行列に変形してから行列式を計算する。三角行列への変換は$O(n^3)$、上三角行列の行列式は対角成分の積なので$O(n)$なので、全体で$O(n^3)$になる\n",
    "\n",
    "（参考：[Tech Tips: 行列式の計算](https://techtipshoge.blogspot.com/2011/08/blog-post_23.html)）\n",
    "\n",
    "\n",
    "**余因子行列の計算量**\n",
    "\n",
    "$(i, j)$余因子は「『$i$行目と$j$列目を除いた行列』の行列式に$(-1)^{i+j}$をかけたもの」なので、$n-1$次行列の行列式を求める計算になり、$O((n-1)^3)$\n",
    "\n",
    "余因子行列は「$(i, j)$余因子を$i,j$成分に持つ行列を転置したもの」なので、$(i, j)$余因子を$n\\times n$個計算する必要がある→$O((n-1)^3 \\times n^2)$か？\n"
   ]
  },
  {
   "cell_type": "markdown",
   "id": "654d7842-ad34-4ff0-865a-3ab0dff3aa2d",
   "metadata": {},
   "source": [
    "### 掃き出し法による計算\n",
    "\n",
    "$O(n^3)$かかるとされる\n",
    "\n",
    "教科書的な方法でありながら、行列分解による方法と計算量が大差ない（=結構効率的）\n"
   ]
  },
  {
   "cell_type": "markdown",
   "id": "f7f34986-9fae-4008-bcd7-0cb9ca96e37a",
   "metadata": {},
   "source": [
    "### LU分解してから解く\n",
    "\n",
    "$A=LU$に分解し、$Ly=b$、$Ux=y$を順に解く（直接解法）\n",
    "\n",
    "LU分解におよそ$n^3/3$回の計算が発生し、$A^{-1}$の計算におよそ$2n^3/3$回の計算が発生する（伊理・藤野 1985）\n",
    "\n",
    "$$\n",
    "\\frac{n^3}{3} + \\frac{2n^3}{3} = \\frac{3}{3} n^3 = n^3\n",
    "$$\n",
    "\n",
    "よって$O(n^3)$"
   ]
  },
  {
   "cell_type": "markdown",
   "id": "47097f8c-b81e-436d-b2f5-6a32f09e6b44",
   "metadata": {},
   "source": [
    "### 行列が対称正定値行列のときのみ使える方法\n",
    "\n",
    "正規方程式の$X^T X$のような行列のみ使える。統計や機械学習では身近"
   ]
  },
  {
   "cell_type": "markdown",
   "id": "b86a4070-c508-4376-8f28-dd6d8d33a2ee",
   "metadata": {},
   "source": [
    "#### コレスキー分解\n",
    "\n",
    "LU分解の代わりにコレスキー分解$A=LL^T$を用いることで計算量をLUの約半分にできる（分解について$O(n^3/6)$）\n",
    "\n",
    "- [ヒューリスティックコンテストで機械学習しよう - Speaker Deck](https://speakerdeck.com/nagiss/hiyurisuteitukukontesutodeji-jie-xue-xi-siyou?slide=26)\n",
    "- [行列計算における高速アルゴリズム](https://www.cms-initiative.jp/ja/events/0620-yamamoto.pdf)\n"
   ]
  },
  {
   "cell_type": "markdown",
   "id": "2da8e34c-073d-4647-b40d-e964a19cdab1",
   "metadata": {},
   "source": [
    "#### 共役勾配法\n",
    "\n",
    "連立一次方程式\n",
    "\n",
    "$$\n",
    "Ax = b\n",
    "$$\n",
    "\n",
    "の$x$を求めることは、二次形式\n",
    "\n",
    "$$\n",
    "f(x) = \\frac{1}{2} x^T Ax - b^T x\n",
    "$$\n",
    "\n",
    "の最小化と一致するので、$f(x)$の最小値を探索する方法で解を求める方法を **共役勾配（conjugate gradient: CG）法** という\n",
    "\n",
    "[連立1次方程式：共役勾配法 - PukiWiki for PBCG Lab](https://www.slis.tsukuba.ac.jp/~fujisawa.makoto.fu/cgi-bin/wiki/index.php?%CF%A2%CE%A91%BC%A1%CA%FD%C4%F8%BC%B0%A1%A7%B6%A6%CC%F2%B8%FB%C7%DB%CB%A1)\n",
    "\n",
    "$A$が対称正定値行列の場合、共役勾配法が利用可能（[行列計算における高速アルゴリズム](https://www.cms-initiative.jp/ja/events/0620-yamamoto.pdf)）\n",
    "\n",
    "\n",
    "ただし、共役勾配法などの反復解法全般の特徴として以下がある\n",
    "\n",
    "- 解がうまく収束する場合、計算量が直接解法より大幅に削減できる\n",
    "- 収束しない場合もある\n",
    "- 事前に収束回数はわからない"
   ]
  },
  {
   "cell_type": "markdown",
   "id": "ae770ee1-10a2-4810-9df9-a147ff44c671",
   "metadata": {},
   "source": [
    ":::{margin}\n",
    "**逆行列計算と連立一次方程式の関連性**\n",
    "\n",
    "行列での連立一次方程式\n",
    "\n",
    "$$\n",
    "AX = I\n",
    "$$\n",
    "\n",
    "を考えると、この解は$X=A^{-1}$になる\n",
    "\n",
    "例えばLU分解してから$Ax = b$の$x$を求める操作を$n$回やって$X$を求めるようにすれば上記のようなことができる\n",
    ":::"
   ]
  },
  {
   "cell_type": "markdown",
   "id": "27886108-3ab3-4ece-810d-690a020ff190",
   "metadata": {},
   "source": [
    "## 参考文献\n",
    "\n",
    "伊理正夫 & 藤野和建 (1985) 『数値計算の常識』"
   ]
  },
  {
   "cell_type": "code",
   "execution_count": null,
   "id": "e1477a03-47d5-47d9-b16f-83d29fcc3b02",
   "metadata": {},
   "outputs": [],
   "source": []
  }
 ],
 "metadata": {
  "kernelspec": {
   "display_name": "Python 3 (ipykernel)",
   "language": "python",
   "name": "python3"
  },
  "language_info": {
   "codemirror_mode": {
    "name": "ipython",
    "version": 3
   },
   "file_extension": ".py",
   "mimetype": "text/x-python",
   "name": "python",
   "nbconvert_exporter": "python",
   "pygments_lexer": "ipython3",
   "version": "3.9.18"
  }
 },
 "nbformat": 4,
 "nbformat_minor": 5
}
