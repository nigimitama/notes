{
 "cells": [
  {
   "cell_type": "markdown",
   "id": "936f2a5b-6cea-4e9e-9a93-2854f08c676d",
   "metadata": {},
   "source": [
    "# LU分解"
   ]
  },
  {
   "cell_type": "markdown",
   "id": "02ae9d5f-3761-4703-a83a-1216bbe0d91f",
   "metadata": {},
   "source": [
    "与えられた行列$A$を単位下三角行列$L$と上三角行列$U$との積で表すこと\n",
    "\n",
    "$$\n",
    "A = LU\n",
    "= \n",
    "\\left[\\begin{array}{cccc}\n",
    "1 & & & \\\\\n",
    "l_{21} & 1 & & \\\\\n",
    "\\vdots & \\ddots & \\ddots & \\\\\n",
    "l_{n 1} & \\cdots & l_{n, n-1} & 1\n",
    "\\end{array}\\right]\\left[\\begin{array}{cccc}\n",
    "u_{11} & u_{12} & \\cdots & u_{1 n} \\\\\n",
    "& u_{22} & \\cdots & u_{2 n} \\\\\n",
    "& & \\ddots & \\vdots \\\\\n",
    "& & & u_{n n}\n",
    "\\end{array}\\right]\n",
    "$$\n",
    "\n",
    "を**LU分解**と呼ぶ。"
   ]
  },
  {
   "cell_type": "markdown",
   "id": "d2517405-c282-4b7c-9af6-1a4d7cc955f5",
   "metadata": {},
   "source": [
    "## 分解すると何が嬉しいのか？\n",
    "\n",
    "行列式や一次方程式を少ない計算量で求められる材料として$L,U$が手に入り、全体としての計算を効率化できる可能性がある。\n",
    "\n",
    "\n",
    "#### 例：連立1次方程式・逆行列\n",
    "\n",
    "例えば様々な$b$に対して$Ax=b$を解く場合は$A=LU$と一旦分解して、後で$L,U$を使い回せばよい\n",
    "\n",
    "様々な$b$というのは、たとえば$B=(b_1, b_2, \\cdots, b_n)$として行列の連立一次方程式\n",
    "\n",
    "$$\n",
    "AX = B\n",
    "$$\n",
    "\n",
    "を解くことができる。$B=I$（$b_1 = e_1, b_2 = e_2, \\cdots, b_n = e_n$）とすれば$AX=I$を解いて$X=A^{-1}$を求めることができる。\n",
    "\n",
    "計算量はLU分解に$O(n^3/3)$かかる。そこから逆行列を計算する場合は$O(2n^3/3)$かかり、全体で$O(n^3/3 + 2n^3/3)=O(n^3)$となる。これは掃き出し法と同程度だが、もとの行列が疎行列だとLUも疎行列になるので、入力が疎行列の場合も含めた計算量でいうとLU分解のほうが効率的らしい。\n",
    "\n",
    "\n",
    "#### 例：行列式\n",
    "\n",
    "\n",
    "$$\n",
    "\\begin{align}\n",
    "|A|\n",
    "&= |LU|\\\\\n",
    "&= |L| |U| \\quad (\\because \\text{ 行列式の性質 } |AB|=|A||B| \\text{ より })\\\\\n",
    "&= 1\\times |U| \\quad (\\because L \\text{ は単位下三角行列のため })\\\\\n",
    "&= |U|\n",
    "\\end{align}\n",
    "$$\n",
    "\n",
    "三角行列の行列式は対角行列の積になるため、$|L|=1$であり$|A|=|U|$になるし$|U|$も$U$の対角成分の積をとるだけでいい"
   ]
  },
  {
   "cell_type": "markdown",
   "id": "49f9b434-f2ee-4f4f-b8a8-8bb25b5da95d",
   "metadata": {
    "editable": true,
    "slideshow": {
     "slide_type": ""
    },
    "tags": []
   },
   "source": [
    "## 計算手順（ドゥーリトル法）\n",
    "\n",
    "$L$の対角成分は1に固定し、次のような分解を仮定する\n",
    "\n",
    "$$\n",
    "A =\n",
    "\\left[\\begin{array}{cc}\n",
    "1 & 0 \\\\\n",
    "l_{21} & 1\n",
    "\\end{array}\\right]\n",
    "\\left[\\begin{array}{cc}\n",
    "u_{11} & u_{12} \\\\\n",
    "0 & u_{22}\n",
    "\\end{array}\\right]\n",
    "$$\n",
    "\n",
    "$LU$の積を計算すると\n",
    "\n",
    "$$\n",
    "A=\\left[\\begin{array}{ccc}\n",
    "u_{11} & u_{12}\\\\\n",
    "l_{21} u_{11} & l_{21} u_{12} + u_{22}\n",
    "\\end{array}\\right]\n",
    "$$\n",
    "\n",
    "となるため、$A$の各要素との対応がとれる\n",
    "\n",
    "$$\n",
    "\\begin{aligned}\n",
    "& a_{11}=u_{11} \\\\\n",
    "& a_{12}=u_{12} \\\\\n",
    "& a_{21}=l_{21} u_{11} \\\\\n",
    "& a_{22}=l_{21} u_{12}+u_{22}\n",
    "\\end{aligned}\n",
    "$$\n",
    "\n",
    "これらを解いていく"
   ]
  },
  {
   "cell_type": "markdown",
   "id": "4eb4f3f2-4061-4476-a89d-083e45536ea8",
   "metadata": {},
   "source": [
    "#### 一般化\n",
    "\n",
    "もっと一般化すると次のようになる\n",
    "\n",
    "$m\\times n$行列$A=(a_{ij})$に対して、$s=\\min(m,n)$とおき、$m\\times s$の$L$と$s\\times n$の$U$で分解することを考える。\n",
    "\n",
    "$$\n",
    "L = \\left(\\boldsymbol{l}_1, \\ldots, \\boldsymbol{l}_s\\right),\n",
    "\\quad\n",
    "U = \\left(\\begin{array}{c}\n",
    "    \\boldsymbol{u}_1^T \\\\\n",
    "    \\vdots \\\\\n",
    "    \\boldsymbol{u}_s^T\n",
    "\\end{array}\\right)\n",
    "$$\n",
    "\n",
    "とすると\n",
    "\n",
    "$$\n",
    "A = l_1 \\boldsymbol{u}_1^T+\\cdots+\\boldsymbol{l}_s \\boldsymbol{u}_s^T\n",
    "$$\n",
    "\n",
    "とできるので、この表記を使っていく。\n",
    "\n",
    "反復計算するので$A = A(1) = (a_{ij}(1))$と表記する\n",
    "\n",
    "$$\n",
    "\\boldsymbol{l}_1=\\frac{1}{a_{11}(1)}\\left(\\begin{array}{c}\n",
    "a_{11}(1) \\\\\n",
    "\\vdots \\\\\n",
    "a_{m 1}(1)\n",
    "\\end{array}\\right), \\quad \\boldsymbol{u}_1^T=\\left(a_{11}(1), \\ldots, a_{1 n}(1)\\right)\n",
    "$$\n",
    "\n",
    "と置くと、\n",
    "\n",
    "$$\n",
    "A(1)-\\boldsymbol{l}_1 \\boldsymbol{u}_1^T=\\left(\\begin{array}{c|ccc}\n",
    "0 & 0 & \\cdots & 0 \\\\\n",
    "\\hline 0 & & & \\\\\n",
    "\\vdots & & A(2) & \\\\\n",
    "0 & & &\n",
    "\\end{array}\\right), \\quad \\text { すなわち } A=l_1 \\boldsymbol{u}_1^T+\\left(\\begin{array}{c|ccc}\n",
    "0 & 0 & \\cdots & 0 \\\\\n",
    "\\hline 0 & & & \\\\\n",
    "\\vdots & & A(2) & \\\\\n",
    "0 & &\n",
    "\\end{array}\\right)\n",
    "$$\n",
    "\n",
    "となる。残ったブロック行列を$A(2)$としている。"
   ]
  },
  {
   "cell_type": "markdown",
   "id": "2137344e-bebd-4ae5-87d2-160401c5f135",
   "metadata": {},
   "source": [
    "ゼロじゃない要素を$\\boldsymbol{l}(2), \\boldsymbol{u}(2)$とおき、同様に\n",
    "\n",
    "$$\n",
    "\\boldsymbol{l}(2)=\\frac{1}{a_{11}(2)}\\left(\\begin{array}{c}\n",
    "a_{11}(2) \\\\\n",
    "\\vdots \\\\\n",
    "a_{m^{\\prime} 1}(2)\n",
    "\\end{array}\\right), \\quad \\boldsymbol{u}(2)^T=\\left(a_{11}(2), \\ldots, a_{1 n^{\\prime}}(2)\\right)\n",
    "$$\n",
    "\n",
    "とすると（ここで$m'=m-1, n'=n-1$）、同様に\n",
    "\n",
    "$$\n",
    "A(2)-l(2) \\boldsymbol{u}(2)^T=\\left(\\begin{array}{c|ccc}\n",
    "0 & 0 & \\cdots & 0 \\\\\n",
    "\\hline 0 & & & \\\\\n",
    "\\vdots & & A(3) & \\\\\n",
    "0 & & &\n",
    "\\end{array}\\right)\n",
    "$$\n",
    "\n",
    "となる。ここで\n",
    "\n",
    "$$\n",
    "\\boldsymbol{l}_2=\\left(\\begin{array}{c}\n",
    "0 \\\\\n",
    "\\boldsymbol{l}(2)\n",
    "\\end{array}\\right), \\quad \\boldsymbol{u}_2^T=\\left(0, \\boldsymbol{u}(2)^T\\right)\n",
    "$$\n",
    "\n",
    "のように頭に0をつけてサイズを戻せば\n",
    "\n",
    "$$\n",
    "\\left(\\begin{array}{c|cccc}\n",
    "0 & 0 & \\cdots & \\cdots & 0 \\\\\n",
    "\\hline 0 & & & & \\\\\n",
    "\\vdots & & A(2) & & \\\\\n",
    "\\vdots & & & & \\\\\n",
    "0 & & & &\n",
    "\\end{array}\\right)=l_2 \\boldsymbol{u}_2^T+\\left(\\begin{array}{cc|ccc}\n",
    "0 & 0 & 0 & \\cdots & 0 \\\\\n",
    "0 & 0 & 0 & \\cdots & 0 \\\\\n",
    "\\hline 0 & 0 & & & \\\\\n",
    "\\vdots & \\vdots & & A(3) & \\\\\n",
    "0 & 0 & &\n",
    "\\end{array}\\right)\n",
    "$$\n",
    "\n",
    "から\n",
    "$$\n",
    "A=l_1 \\boldsymbol{u}_1^T+\\boldsymbol{l}_2 \\boldsymbol{u}_2^T+\\left(\\begin{array}{cc|ccc}\n",
    "0 & 0 & 0 & \\cdots & 0 \\\\\n",
    "0 & 0 & 0 & \\cdots & 0 \\\\\n",
    "\\hline 0 & 0 & & & \\\\\n",
    "\\vdots & \\vdots & & A(3) & \\\\\n",
    "0 & 0 & & &\n",
    "\\end{array}\\right)\n",
    "$$\n",
    "\n",
    "となる。"
   ]
  },
  {
   "cell_type": "markdown",
   "id": "4c2e9ec9-c7b4-44ec-a27a-507a0ad14ab4",
   "metadata": {},
   "source": [
    "これを何度も繰り返していくと、最後は残る行列がゼロ行列になる\n",
    "\n",
    "$$\n",
    "A=l_1 \\boldsymbol{u}_1^T+\\cdots+\\boldsymbol{l}_s \\boldsymbol{u}_s^T+O\n",
    "$$\n",
    "\n",
    "そうしたら\n",
    "\n",
    "$$\n",
    "L = \\left(\\boldsymbol{l}_1, \\ldots, \\boldsymbol{l}_s\\right),\n",
    "\\quad\n",
    "U = \\left(\\begin{array}{c}\n",
    "    \\boldsymbol{u}_1^T \\\\\n",
    "    \\vdots \\\\\n",
    "    \\boldsymbol{u}_s^T\n",
    "\\end{array}\\right)\n",
    "$$\n",
    "\n",
    "のように行列$L,U$を作ればよい"
   ]
  },
  {
   "cell_type": "markdown",
   "id": "89a5f595-600c-4003-96de-4d1585e70f3d",
   "metadata": {},
   "source": [
    "### pythonの例"
   ]
  },
  {
   "cell_type": "code",
   "execution_count": 1,
   "id": "4d83b924-d2b7-4662-8c49-2813b701d9ca",
   "metadata": {},
   "outputs": [],
   "source": [
    "import numpy as np\n",
    "\n",
    "# 対象の行列\n",
    "A = np.array([\n",
    "    [1, 2],\n",
    "    [3, 4]\n",
    "])"
   ]
  },
  {
   "cell_type": "code",
   "execution_count": 2,
   "id": "939706d2-903c-4f6b-91f3-d15651a9b6fa",
   "metadata": {},
   "outputs": [
    {
     "name": "stdout",
     "output_type": "stream",
     "text": [
      "l1=array([1., 3.]), u1=array([1, 2])\n"
     ]
    }
   ],
   "source": [
    "# iter 1\n",
    "l1 = (1 / A[0,0]) * A[:, 0]\n",
    "u1 = A[0, :]\n",
    "print(f\"{l1=}, {u1=}\")"
   ]
  },
  {
   "cell_type": "code",
   "execution_count": 3,
   "id": "bf7c5756-513c-4d98-9243-f96395f97c7e",
   "metadata": {},
   "outputs": [
    {
     "data": {
      "text/plain": [
       "array([[1., 2.],\n",
       "       [3., 6.]])"
      ]
     },
     "execution_count": 3,
     "metadata": {},
     "output_type": "execute_result"
    }
   ],
   "source": [
    "# ベクトルの外積\n",
    "np.outer(l1, u1)"
   ]
  },
  {
   "cell_type": "code",
   "execution_count": 4,
   "id": "2fa25646-4b9e-4480-aefb-098afe1c0170",
   "metadata": {},
   "outputs": [
    {
     "data": {
      "text/plain": [
       "array([[ 0.,  0.],\n",
       "       [ 0., -2.]])"
      ]
     },
     "execution_count": 4,
     "metadata": {},
     "output_type": "execute_result"
    }
   ],
   "source": [
    "A2 = A - np.outer(l1, u1)\n",
    "A2"
   ]
  },
  {
   "cell_type": "code",
   "execution_count": 5,
   "id": "1813f79a-0df9-4680-b7a0-1459bf06df40",
   "metadata": {},
   "outputs": [
    {
     "name": "stdout",
     "output_type": "stream",
     "text": [
      "l2_=array([1.]), u2_=array([-2.])\n"
     ]
    }
   ],
   "source": [
    "A_ = A2[1:, 1:]\n",
    "\n",
    "l2_ = (1 / A_[0,0]) * A_[:, 0]\n",
    "u2_ = A_[0, :]\n",
    "print(f\"{l2_=}, {u2_=}\")"
   ]
  },
  {
   "cell_type": "code",
   "execution_count": 6,
   "id": "ad0f0463-a775-4ae6-a3bc-ba597e3949c6",
   "metadata": {},
   "outputs": [
    {
     "data": {
      "text/plain": [
       "array([[0.]])"
      ]
     },
     "execution_count": 6,
     "metadata": {},
     "output_type": "execute_result"
    }
   ],
   "source": [
    "# 残りがゼロに\n",
    "A3 = A_ - np.outer(l2_, u2_)\n",
    "A3"
   ]
  },
  {
   "cell_type": "code",
   "execution_count": 7,
   "id": "8e42538d-1cf0-460a-8ba1-9778eb295fe8",
   "metadata": {},
   "outputs": [],
   "source": [
    "# 先頭にゼロを足して次元を合わせる\n",
    "l2 = np.concatenate([np.zeros(shape=(1,)), l2_])\n",
    "u2 = np.concatenate([np.zeros(shape=(1,)), u2_])"
   ]
  },
  {
   "cell_type": "code",
   "execution_count": 8,
   "id": "44062719-2ca2-4d38-a732-9890bbba9773",
   "metadata": {},
   "outputs": [
    {
     "data": {
      "text/plain": [
       "array([[1., 2.],\n",
       "       [3., 4.]])"
      ]
     },
     "execution_count": 8,
     "metadata": {},
     "output_type": "execute_result"
    }
   ],
   "source": [
    "# それぞれのiterationの外積の和が元の行列になる\n",
    "np.outer(l1, u1) + np.outer(l2, u2)"
   ]
  },
  {
   "cell_type": "code",
   "execution_count": 9,
   "id": "54dfd479-d0d8-4798-b0e4-562998c53275",
   "metadata": {},
   "outputs": [
    {
     "data": {
      "text/plain": [
       "array([[1., 0.],\n",
       "       [3., 1.]])"
      ]
     },
     "execution_count": 9,
     "metadata": {},
     "output_type": "execute_result"
    }
   ],
   "source": [
    "L = np.array([l1, l2]).T\n",
    "L"
   ]
  },
  {
   "cell_type": "code",
   "execution_count": 10,
   "id": "57b16d12-455c-4389-87d7-dedbeb6deba1",
   "metadata": {},
   "outputs": [
    {
     "data": {
      "text/plain": [
       "array([[ 1.,  2.],\n",
       "       [ 0., -2.]])"
      ]
     },
     "execution_count": 10,
     "metadata": {},
     "output_type": "execute_result"
    }
   ],
   "source": [
    "U = np.array([u1, u2])\n",
    "U"
   ]
  },
  {
   "cell_type": "code",
   "execution_count": 11,
   "id": "89f8046d-f8e5-421b-9524-b011b07e28fe",
   "metadata": {},
   "outputs": [
    {
     "data": {
      "text/plain": [
       "array([[1., 2.],\n",
       "       [3., 4.]])"
      ]
     },
     "execution_count": 11,
     "metadata": {},
     "output_type": "execute_result"
    }
   ],
   "source": [
    "L @ U"
   ]
  },
  {
   "cell_type": "markdown",
   "id": "6296a4cf-7c82-4141-8831-dc05d710657f",
   "metadata": {},
   "source": [
    "## 行列式をLU分解で求める\n",
    "\n"
   ]
  },
  {
   "cell_type": "code",
   "execution_count": 12,
   "id": "12c57a82-d39b-495a-935e-eda1c23790b2",
   "metadata": {},
   "outputs": [
    {
     "name": "stdout",
     "output_type": "stream",
     "text": [
      "\n",
      "|A| = -2.0\n",
      "|L||U| = -2.0\n",
      "Uの対角成分の積 = -2.0\n",
      "\n"
     ]
    }
   ],
   "source": [
    "print(f\"\"\"\n",
    "|A| = {np.linalg.det(A):.1f}\n",
    "|L||U| = {np.linalg.det(L) * np.linalg.det(U):.1f}\n",
    "Uの対角成分の積 = {np.diag(U)[0] * np.diag(U)[1]}\n",
    "\"\"\")"
   ]
  },
  {
   "cell_type": "markdown",
   "id": "7acb6434-1510-4c1d-8034-acb2a4ad9805",
   "metadata": {},
   "source": [
    "## 連立一次方程式をLU分解で解く\n",
    "\n",
    "連立一次方程式\n",
    "\n",
    "$$\n",
    "Ax = b\n",
    "$$\n",
    "\n",
    "に対し、LU分解すると\n",
    "\n",
    "$$\n",
    "Ax = LUx = b\n",
    "$$\n",
    "\n",
    "であり、変数$y$を\n",
    "\n",
    "$$\n",
    "Ux=y\n",
    "$$\n",
    "\n",
    "とおき代入すると\n",
    "\n",
    "$$\n",
    "Ly = b\n",
    "$$\n",
    "\n",
    "になることから変数$y$を求める。"
   ]
  },
  {
   "cell_type": "markdown",
   "id": "adbd8795-b84b-4289-bbe0-8b70b80ab87b",
   "metadata": {},
   "source": [
    "$Ly = b$（前進代入）は\n",
    "\n",
    "$$\n",
    "\\begin{aligned}\n",
    "& y_1:=b_1 \\\\\n",
    "& y_2:=b_2-l_{21} y_1 \\\\\n",
    "& \\vdots \\\\\n",
    "& y_{n-1}:=b_{n-1}-\\sum_{j=1}^{n-2} l_{n-1, j} y_j \\\\\n",
    "& y_n:=b_n-\\sum_{j=1}^{n-1} l_{n j} y_j\n",
    "\\end{aligned}\n",
    "$$\n",
    "\n",
    "$Ux = y$（後退代入）は\n",
    "\n",
    "$$\n",
    "\\begin{aligned}\n",
    "& x_n:=\\frac{y_n}{u_{n n}} \\\\\n",
    "& x_{n-1}:=\\frac{y_{n-1}-u_{n-1, n} x_n}{u_{n-1, n-1}}\\\\\n",
    "& \\vdots\\\\\n",
    "& x_2:=\\frac{y_2-\\sum_{j=3}^n u_{2 j} x_j}{u_{22}} \\\\\n",
    "& x_1:=\\frac{y_1-\\sum_{j=2}^n u_{1 j} x_j}{u_{11}}\n",
    "\\end{aligned}\n",
    "$$\n",
    "\n",
    "という計算"
   ]
  },
  {
   "cell_type": "code",
   "execution_count": 111,
   "id": "0cb53fea-6564-435d-9858-9a9c69a7763e",
   "metadata": {},
   "outputs": [],
   "source": [
    "def forward_substitution(L, b):\n",
    "    # 前進代入\n",
    "    n = L.shape[0]\n",
    "    y_ = np.zeros_like(b, dtype=np.double)\n",
    "    for i in range(n):\n",
    "        sumj = 0\n",
    "        for j in range(i):\n",
    "            sumj += L[i, j] * y_[j]\n",
    "        y_[i] = b[i] - sumj\n",
    "    return y_"
   ]
  },
  {
   "cell_type": "code",
   "execution_count": 112,
   "id": "4a8280f2-d3c5-41cc-9c17-553594d9edfb",
   "metadata": {},
   "outputs": [],
   "source": [
    "def backword_substitution(U, y):\n",
    "    # 後退代入\n",
    "    n = U.shape[0]\n",
    "    x = np.zeros_like(y, dtype=np.double)\n",
    "    for i in range(n-1, -1, -1):\n",
    "        sumj = 0\n",
    "        for j in range(n-1, i-1, -1):\n",
    "            sumj += U[i, j] * x[j]\n",
    "        x[i] = (y[i] - sumj) / U[i, i]\n",
    "    return x"
   ]
  },
  {
   "cell_type": "markdown",
   "id": "dd92b9d6-37b3-4ba2-bf27-fee7d1c4dc2c",
   "metadata": {},
   "source": [
    "## xGETRS\n",
    "\n",
    "前進代入・後退代入を行うのがLAPACKのxGETRSサブルーチン"
   ]
  },
  {
   "cell_type": "code",
   "execution_count": 16,
   "id": "3d1d7a42-4d15-49e4-8103-8b7aa1ef4b16",
   "metadata": {},
   "outputs": [],
   "source": [
    "b = np.array([1, 2])"
   ]
  },
  {
   "cell_type": "code",
   "execution_count": 17,
   "id": "13bd1843-e224-44d9-97a1-f61743cc33bb",
   "metadata": {},
   "outputs": [
    {
     "data": {
      "text/plain": [
       "(array([0. , 0.5]), 0)"
      ]
     },
     "execution_count": 17,
     "metadata": {},
     "output_type": "execute_result"
    }
   ],
   "source": [
    "from scipy.linalg.lapack import dgetrf, dgetrs\n",
    "LU, P, info = dgetrf(A)\n",
    "dgetrs(LU, P, b)"
   ]
  },
  {
   "cell_type": "code",
   "execution_count": 18,
   "id": "175dfa93-afd3-4d66-a89d-270144d06feb",
   "metadata": {},
   "outputs": [
    {
     "data": {
      "text/plain": [
       "array([ 1., -1.])"
      ]
     },
     "execution_count": 18,
     "metadata": {},
     "output_type": "execute_result"
    }
   ],
   "source": [
    "y = np.linalg.inv(L) @ b\n",
    "y"
   ]
  },
  {
   "cell_type": "code",
   "execution_count": 19,
   "id": "d5e0e31b-7dc3-4ca7-8945-06fb0346ccc4",
   "metadata": {},
   "outputs": [
    {
     "data": {
      "text/plain": [
       "array([0. , 0.5])"
      ]
     },
     "execution_count": 19,
     "metadata": {},
     "output_type": "execute_result"
    }
   ],
   "source": [
    "x = np.linalg.inv(U) @ y\n",
    "x"
   ]
  },
  {
   "cell_type": "code",
   "execution_count": 20,
   "id": "5bef6417-510a-4d35-9ecf-f8a7864e13e8",
   "metadata": {},
   "outputs": [
    {
     "data": {
      "text/plain": [
       "array([1., 2.])"
      ]
     },
     "execution_count": 20,
     "metadata": {},
     "output_type": "execute_result"
    }
   ],
   "source": [
    "# estimate b\n",
    "A @ x"
   ]
  },
  {
   "cell_type": "markdown",
   "id": "67843931-4526-4d8f-91e1-7b4bb23046b3",
   "metadata": {},
   "source": [
    "## 逆行列\n",
    "\n",
    "$$\n",
    "A^{-1} = U^{-1} L^{-1}\n",
    "$$\n",
    "\n",
    "あるいは$Ax=b$の$x$を求める操作を$n$回繰り返す"
   ]
  },
  {
   "cell_type": "code",
   "execution_count": 21,
   "id": "8ab68646-3625-4b5f-898d-ae790e17682c",
   "metadata": {},
   "outputs": [
    {
     "data": {
      "text/plain": [
       "array([[-2. ,  1. ],\n",
       "       [ 1.5, -0.5]])"
      ]
     },
     "execution_count": 21,
     "metadata": {},
     "output_type": "execute_result"
    }
   ],
   "source": [
    "np.linalg.inv(A)"
   ]
  },
  {
   "cell_type": "code",
   "execution_count": 22,
   "id": "fb0ddc07-2c45-4843-9766-4e8f96500b25",
   "metadata": {},
   "outputs": [
    {
     "data": {
      "text/plain": [
       "array([[-2. ,  1. ],\n",
       "       [ 1.5, -0.5]])"
      ]
     },
     "execution_count": 22,
     "metadata": {},
     "output_type": "execute_result"
    }
   ],
   "source": [
    "np.linalg.inv(U) @ np.linalg.inv(L)"
   ]
  },
  {
   "cell_type": "markdown",
   "id": "9a78a2c5-b612-452e-86b6-c7417de6a773",
   "metadata": {},
   "source": [
    "$Ax=b$の$x$を求める操作を$n$回繰り返す"
   ]
  },
  {
   "cell_type": "code",
   "execution_count": 23,
   "id": "f76bea3a-f8d1-4ad8-91db-c0fcc160da3a",
   "metadata": {},
   "outputs": [],
   "source": [
    "y = L @ b\n",
    "b = np.array([1, 2])"
   ]
  },
  {
   "cell_type": "markdown",
   "id": "65446bff-004b-46b4-9e76-27dd29ac7ae5",
   "metadata": {},
   "source": [
    "## scipy.linalg.lu\n",
    "\n",
    "[scipy.linalg.lu — SciPy v1.12.0 Manual](https://docs.scipy.org/doc/scipy/reference/generated/scipy.linalg.lu.html)"
   ]
  },
  {
   "cell_type": "code",
   "execution_count": 24,
   "id": "fbf26952-ebfd-4a14-9cdc-e95fa426bf5a",
   "metadata": {},
   "outputs": [],
   "source": [
    "from scipy.linalg import lu\n",
    "\n",
    "P, L, U = lu(A)"
   ]
  },
  {
   "cell_type": "code",
   "execution_count": 25,
   "id": "f5dd1fea-8bb8-4a1e-b066-bd1e0d7263dc",
   "metadata": {},
   "outputs": [
    {
     "data": {
      "text/plain": [
       "array([[0., 1.],\n",
       "       [1., 0.]])"
      ]
     },
     "execution_count": 25,
     "metadata": {},
     "output_type": "execute_result"
    }
   ],
   "source": [
    "P"
   ]
  },
  {
   "cell_type": "code",
   "execution_count": 26,
   "id": "f3393176-8325-49de-ae2d-bb086b02b9b7",
   "metadata": {},
   "outputs": [
    {
     "data": {
      "text/plain": [
       "array([[1.        , 0.        ],\n",
       "       [0.33333333, 1.        ]])"
      ]
     },
     "execution_count": 26,
     "metadata": {},
     "output_type": "execute_result"
    }
   ],
   "source": [
    "L"
   ]
  },
  {
   "cell_type": "code",
   "execution_count": 27,
   "id": "178b3cb8-9190-42ad-b693-3ea0f29a71a3",
   "metadata": {},
   "outputs": [
    {
     "data": {
      "text/plain": [
       "array([[3.        , 4.        ],\n",
       "       [0.        , 0.66666667]])"
      ]
     },
     "execution_count": 27,
     "metadata": {},
     "output_type": "execute_result"
    }
   ],
   "source": [
    "U"
   ]
  },
  {
   "cell_type": "code",
   "execution_count": 28,
   "id": "f05955eb-6596-488d-bd0b-85b82f46ac3f",
   "metadata": {},
   "outputs": [
    {
     "data": {
      "text/plain": [
       "array([[1., 2.],\n",
       "       [3., 4.]])"
      ]
     },
     "execution_count": 28,
     "metadata": {},
     "output_type": "execute_result"
    }
   ],
   "source": [
    "P @ L @ U"
   ]
  },
  {
   "cell_type": "markdown",
   "id": "6195bfca-6871-462e-9178-da1a03c24a99",
   "metadata": {},
   "source": [
    "置換行列$P$つきの分解は$PA=LU$となる。\n",
    "\n",
    "$Ax = b$は2つの方程式$Ly=Pb, Ux=y$と同値。\n",
    "\n",
    "$$\n",
    "L(Ux) = P^{-1} b\n",
    "$$\n",
    "\n",
    "となり、並べ替えをもとに戻した$b = P^{-1} b$を使ってやればいい\n",
    "\n",
    "$Ly = b$（前進代入）は\n",
    "\n",
    "$$\n",
    "y_i = b_i - \\sum^{i-1}_{j=1} l_{ij} y_j\n",
    "$$\n",
    "\n",
    "この$y$は枢軸選択つきの前進消去で得られる$\\left(b_1^{(1)}, \\cdots, b_n^{(n)}\\right)^{\\top}$に等しい\n"
   ]
  },
  {
   "cell_type": "markdown",
   "id": "ec69a534-a10f-49dd-b41c-4a6389e2032c",
   "metadata": {},
   "source": [
    "$Ux = y$（後退代入）は消去法と同じく\n",
    "\n",
    "$$\n",
    "x_i=\\frac{1}{u_{i i}}\\left(b_i^{(i)}-\\sum_{j=i+1}^n u_{i j} x_j\\right) \\quad(i=n, n-1, \\cdots, 1)\n",
    "$$\n",
    "\n",
    "で解ける"
   ]
  },
  {
   "cell_type": "code",
   "execution_count": 108,
   "id": "d93a8fae-cb98-44e1-aafc-edbf02be6145",
   "metadata": {},
   "outputs": [
    {
     "data": {
      "text/plain": [
       "array([14, 32, 23])"
      ]
     },
     "execution_count": 108,
     "metadata": {},
     "output_type": "execute_result"
    }
   ],
   "source": [
    "# データの作成\n",
    "import numpy as np\n",
    "\n",
    "A = np.array([\n",
    "    [1,2,3],\n",
    "    [4,5,6],\n",
    "    [7,8,0],\n",
    "])\n",
    "x_true = np.array([1, 2, 3])\n",
    "b = A @ x_true\n",
    "b"
   ]
  },
  {
   "cell_type": "code",
   "execution_count": 109,
   "id": "d2397723-ae70-4e02-927a-ddac65dd0ece",
   "metadata": {},
   "outputs": [],
   "source": [
    "from scipy.linalg import lu\n",
    "P, L, U = lu(A)"
   ]
  },
  {
   "cell_type": "code",
   "execution_count": 110,
   "id": "bb5cbaf9-6835-418d-a7d7-6ace07e15624",
   "metadata": {},
   "outputs": [
    {
     "data": {
      "text/plain": [
       "array([23., 14., 32.])"
      ]
     },
     "execution_count": 110,
     "metadata": {},
     "output_type": "execute_result"
    }
   ],
   "source": [
    "# b := P^{-1} b\n",
    "b_pi = np.linalg.inv(P) @ b\n",
    "b_pi"
   ]
  },
  {
   "cell_type": "code",
   "execution_count": 111,
   "id": "b18609fc",
   "metadata": {},
   "outputs": [],
   "source": [
    "def forward_substitution(L, b):\n",
    "    # 前進代入\n",
    "    n = L.shape[0]\n",
    "    y_ = np.zeros_like(b, dtype=np.double)\n",
    "    for i in range(n):\n",
    "        sumj = 0\n",
    "        for j in range(i):\n",
    "            sumj += L[i, j] * y_[j]\n",
    "        y_[i] = b[i] - sumj\n",
    "    return y_"
   ]
  },
  {
   "cell_type": "code",
   "execution_count": 112,
   "id": "b08405c9",
   "metadata": {},
   "outputs": [],
   "source": [
    "def backword_substitution(U, y):\n",
    "    # 後退代入\n",
    "    n = U.shape[0]\n",
    "    x = np.zeros_like(y, dtype=np.double)\n",
    "    for i in range(n-1, -1, -1):\n",
    "        sumj = 0\n",
    "        for j in range(n-1, i-1, -1):\n",
    "            sumj += U[i, j] * x[j]\n",
    "        x[i] = (y[i] - sumj) / U[i, i]\n",
    "    return x"
   ]
  },
  {
   "cell_type": "code",
   "execution_count": 113,
   "id": "ced791a1-0486-4ef5-8bb7-7ad83ee8609e",
   "metadata": {},
   "outputs": [
    {
     "data": {
      "text/plain": [
       "array([23.        , 10.71428571, 13.5       ])"
      ]
     },
     "execution_count": 113,
     "metadata": {},
     "output_type": "execute_result"
    }
   ],
   "source": [
    "y_ = forward_substitution(L, b_pi)\n",
    "y_"
   ]
  },
  {
   "cell_type": "code",
   "execution_count": 114,
   "id": "68fb1484-f385-4fdf-9807-7cdbc0bc0079",
   "metadata": {},
   "outputs": [
    {
     "data": {
      "text/plain": [
       "array([1., 2., 3.])"
      ]
     },
     "execution_count": 114,
     "metadata": {},
     "output_type": "execute_result"
    }
   ],
   "source": [
    "x = backword_substitution(U, y_)\n",
    "x"
   ]
  },
  {
   "cell_type": "markdown",
   "id": "c4acce0d-57c7-46c3-bab4-b3b659b3d369",
   "metadata": {},
   "source": [
    "### 逆行列を解く\n",
    "\n",
    "$I=(e_1, \\cdots, e_n)$として\n",
    "\n",
    "$$\n",
    "AX=I\n",
    "$$\n",
    "\n",
    "を解く"
   ]
  },
  {
   "cell_type": "code",
   "execution_count": 117,
   "id": "92851691-6ce7-477b-9cbc-0b7d888a7adb",
   "metadata": {},
   "outputs": [
    {
     "data": {
      "text/plain": [
       "array([[1., 0., 0.],\n",
       "       [0., 1., 0.],\n",
       "       [0., 0., 1.]])"
      ]
     },
     "execution_count": 117,
     "metadata": {},
     "output_type": "execute_result"
    }
   ],
   "source": [
    "n = A.shape[0]\n",
    "I = np.eye(n)\n",
    "I"
   ]
  },
  {
   "cell_type": "code",
   "execution_count": 118,
   "id": "c79c9a4a-6c0f-45ee-89b4-a00fb0221e7f",
   "metadata": {},
   "outputs": [],
   "source": [
    "X = np.zeros_like(I)\n",
    "for i in range(n):\n",
    "    b = I[:, i]\n",
    "    b_pi = np.linalg.inv(P) @ b\n",
    "    y_ = forward_substitution(L, b_pi)\n",
    "    x = backword_substitution(U, y_)\n",
    "    X[:, i] = x"
   ]
  },
  {
   "cell_type": "code",
   "execution_count": 123,
   "id": "c829f805-f9ef-4acf-996f-559eac3951b9",
   "metadata": {},
   "outputs": [
    {
     "data": {
      "text/plain": [
       "array([[-1.778,  0.889, -0.111],\n",
       "       [ 1.556, -0.778,  0.222],\n",
       "       [-0.111,  0.222, -0.111]])"
      ]
     },
     "execution_count": 123,
     "metadata": {},
     "output_type": "execute_result"
    }
   ],
   "source": [
    "X.round(3)"
   ]
  },
  {
   "cell_type": "code",
   "execution_count": 127,
   "id": "09f2035b-a694-47a5-80b9-079ab92641bc",
   "metadata": {},
   "outputs": [
    {
     "data": {
      "text/plain": [
       "array([[-1.778,  0.889, -0.111],\n",
       "       [ 1.556, -0.778,  0.222],\n",
       "       [-0.111,  0.222, -0.111]])"
      ]
     },
     "execution_count": 127,
     "metadata": {},
     "output_type": "execute_result"
    }
   ],
   "source": [
    "np.linalg.inv(A).round(3)"
   ]
  },
  {
   "cell_type": "markdown",
   "id": "d5a1160f-6904-43eb-8e09-631f5a5c57b0",
   "metadata": {},
   "source": [
    "## 参考文献\n",
    "\n",
    "- ドゥーリトル法：[LU分解 - Wikipedia](https://ja.wikipedia.org/wiki/LU%E5%88%86%E8%A7%A3)\n",
    "- 一般化した計算手順：『プログラミングのための線形代数』\n"
   ]
  }
 ],
 "metadata": {
  "kernelspec": {
   "display_name": "Python 3 (ipykernel)",
   "language": "python",
   "name": "python3"
  },
  "language_info": {
   "codemirror_mode": {
    "name": "ipython",
    "version": 3
   },
   "file_extension": ".py",
   "mimetype": "text/x-python",
   "name": "python",
   "nbconvert_exporter": "python",
   "pygments_lexer": "ipython3",
   "version": "3.10.15"
  }
 },
 "nbformat": 4,
 "nbformat_minor": 5
}
