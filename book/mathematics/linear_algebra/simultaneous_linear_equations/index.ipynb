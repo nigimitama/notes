{
 "cells": [
  {
   "cell_type": "markdown",
   "id": "80adbf1f-b237-471b-99fc-f12c7a8e89c0",
   "metadata": {},
   "source": [
    "# 連立1次方程式\n",
    "\n",
    ":::{tableofcontents}\n",
    ":::"
   ]
  },
  {
   "cell_type": "markdown",
   "id": "034a9801-fead-4552-a4be-be82d72246d0",
   "metadata": {},
   "source": [
    "直接法\n",
    "\n",
    "- [](./gauss_elimination)\n",
    "- [](./lu_decomposition)\n",
    "\n",
    "反復法\n",
    "\n",
    "- [](./conjugate_gradient)\n"
   ]
  },
  {
   "cell_type": "code",
   "execution_count": null,
   "id": "1fef3a56-5511-481b-8a03-7e4f6e7a5595",
   "metadata": {},
   "outputs": [],
   "source": []
  }
 ],
 "metadata": {
  "kernelspec": {
   "display_name": "Python 3 (ipykernel)",
   "language": "python",
   "name": "python3"
  },
  "language_info": {
   "codemirror_mode": {
    "name": "ipython",
    "version": 3
   },
   "file_extension": ".py",
   "mimetype": "text/x-python",
   "name": "python",
   "nbconvert_exporter": "python",
   "pygments_lexer": "ipython3",
   "version": "3.9.18"
  }
 },
 "nbformat": 4,
 "nbformat_minor": 5
}
