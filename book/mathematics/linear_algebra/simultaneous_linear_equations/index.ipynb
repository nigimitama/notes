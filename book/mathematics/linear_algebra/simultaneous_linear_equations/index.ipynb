{
 "cells": [
  {
   "cell_type": "markdown",
   "id": "80adbf1f-b237-471b-99fc-f12c7a8e89c0",
   "metadata": {},
   "source": [
    "# 連立1次方程式\n"
   ]
  },
  {
   "cell_type": "markdown",
   "id": "8cfe647e-aac1-4c00-905c-8a49423ddc9c",
   "metadata": {},
   "source": [
    "## 数値解法の分類\n",
    "\n",
    "逆行列を計算してから解$x=A^{-1} b$を計算する方法やCramerの公式を用いる方法は計算量が多く丸め誤差に弱いため数値計算では使われない。\n",
    "\n",
    "数値解法は大別して\n",
    "\n",
    "1. 直接法\n",
    "2. 反復法\n",
    "3. 共役勾配法\n",
    "\n",
    "がある。\n",
    "\n",
    "**直接法** は丸め誤差のない理想的な状況において有限回の演算で解が得られる方法の総称である。\n",
    "\n",
    "**反復法** は漸化式によって近似解の無限列を生成していく方法の総称である。\n",
    "\n",
    "共役勾配法は直接法と反復法の両方の性格を併せ持つ。"
   ]
  },
  {
   "cell_type": "markdown",
   "id": "16e8a6a8-4cf7-457a-921e-8257f0f71cda",
   "metadata": {},
   "source": [
    "\n",
    ":::{tableofcontents}\n",
    ":::"
   ]
  },
  {
   "cell_type": "markdown",
   "id": "034a9801-fead-4552-a4be-be82d72246d0",
   "metadata": {},
   "source": [
    "直接法\n",
    "\n",
    "- [](./gauss_elimination)\n",
    "- [](./lu_decomposition)\n",
    "\n",
    "反復法\n",
    "\n",
    "- [](./conjugate_gradient)\n"
   ]
  }
 ],
 "metadata": {
  "kernelspec": {
   "display_name": "Python 3 (ipykernel)",
   "language": "python",
   "name": "python3"
  },
  "language_info": {
   "codemirror_mode": {
    "name": "ipython",
    "version": 3
   },
   "file_extension": ".py",
   "mimetype": "text/x-python",
   "name": "python",
   "nbconvert_exporter": "python",
   "pygments_lexer": "ipython3",
   "version": "3.9.18"
  }
 },
 "nbformat": 4,
 "nbformat_minor": 5
}
