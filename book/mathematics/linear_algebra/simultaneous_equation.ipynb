{
 "cells": [
  {
   "cell_type": "markdown",
   "id": "89402374-2af3-4d4b-bfa6-5aa035093046",
   "metadata": {},
   "source": [
    "# 連立1次方程式"
   ]
  },
  {
   "cell_type": "markdown",
   "id": "494bad10-3d6a-4536-8592-6783793566c2",
   "metadata": {},
   "source": [
    "未知のベクトル$x$を推定する場合\n",
    "\n",
    "$$\n",
    "Ax = b\n",
    "$$\n",
    "\n",
    "$$\n",
    "x = A^{-1} b\n",
    "$$\n",
    "\n",
    "[線形代数Ｉ/連立一次方程式 - 武内＠筑波大](https://dora.bk.tsukuba.ac.jp/~takeuchi/?%E7%B7%9A%E5%BD%A2%E4%BB%A3%E6%95%B0%EF%BC%A9%2F%E9%80%A3%E7%AB%8B%E4%B8%80%E6%AC%A1%E6%96%B9%E7%A8%8B%E5%BC%8F)"
   ]
  },
  {
   "cell_type": "code",
   "execution_count": null,
   "id": "5cb02c81-2a7d-4723-ab65-f7543e3aa019",
   "metadata": {},
   "outputs": [],
   "source": []
  }
 ],
 "metadata": {
  "kernelspec": {
   "display_name": "Python 3 (ipykernel)",
   "language": "python",
   "name": "python3"
  },
  "language_info": {
   "codemirror_mode": {
    "name": "ipython",
    "version": 3
   },
   "file_extension": ".py",
   "mimetype": "text/x-python",
   "name": "python",
   "nbconvert_exporter": "python",
   "pygments_lexer": "ipython3",
   "version": "3.9.18"
  }
 },
 "nbformat": 4,
 "nbformat_minor": 5
}
