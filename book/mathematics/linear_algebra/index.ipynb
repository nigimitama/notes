{
 "cells": [
  {
   "cell_type": "markdown",
   "id": "908da997-a30a-4523-8659-e22929e09677",
   "metadata": {},
   "source": [
    "# 線形代数学\n",
    "\n",
    ":::{tableofcontents}\n",
    ":::"
   ]
  },
  {
   "cell_type": "markdown",
   "id": "b8c8b8e1-359a-4ed2-9bcd-9008c4cb153c",
   "metadata": {
    "tags": []
   },
   "source": [
    "## 参考文献\n",
    "\n",
    "- 川久保勝夫（2010）『線形代数学 （新装版）』\n",
    "- 田中久稔（2019）『計量経済学のための数学』、日本評論社。\n",
    "- [線型代数学 詳説](https://scisys-math.com/)\n",
    "- [線形代数Ｉ/ベクトル空間と線形写像 - 武内＠筑波大](https://dora.bk.tsukuba.ac.jp/~takeuchi/?%E7%B7%9A%E5%BD%A2%E4%BB%A3%E6%95%B0%EF%BC%A9%2F%E3%83%99%E3%82%AF%E3%83%88%E3%83%AB%E7%A9%BA%E9%96%93%E3%81%A8%E7%B7%9A%E5%BD%A2%E5%86%99%E5%83%8F#va8ffb2b)\n",
    "- [線形代数基礎](http://www.phys.shimane-u.ac.jp/tanaka_lab/lecture/linear_algebra/linear_algebra.pdf)"
   ]
  },
  {
   "cell_type": "code",
   "execution_count": null,
   "id": "7982e6d9-f92f-4bf0-8da1-a026f369fad1",
   "metadata": {},
   "outputs": [],
   "source": []
  }
 ],
 "metadata": {
  "kernelspec": {
   "display_name": "Python 3 (ipykernel)",
   "language": "python",
   "name": "python3"
  },
  "language_info": {
   "codemirror_mode": {
    "name": "ipython",
    "version": 3
   },
   "file_extension": ".py",
   "mimetype": "text/x-python",
   "name": "python",
   "nbconvert_exporter": "python",
   "pygments_lexer": "ipython3",
   "version": "3.9.18"
  }
 },
 "nbformat": 4,
 "nbformat_minor": 5
}
