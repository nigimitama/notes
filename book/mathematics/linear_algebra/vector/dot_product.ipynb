{
 "cells": [
  {
   "cell_type": "markdown",
   "id": "cbaa5e0e-3592-4376-bc5d-2cba72fc9932",
   "metadata": {
    "tags": []
   },
   "source": [
    "# 内積\n",
    "\n",
    "$k$次元のベクトル$\\boldsymbol{a} = (a_1, a_2, \\dots, a_k)^T, \\ \\boldsymbol{b} = (b_1, b_2, \\dots, b_k)^T$があるとき、\n",
    "\n",
    "$$\n",
    "\\sum^k_{i=1} a_i b_i\n",
    "$$\n",
    "\n",
    "という演算を内積（inner product）といい、$\\boldsymbol{a}^T \\boldsymbol{b}$や$\\boldsymbol{a} \\cdot \\boldsymbol{b}$や$(\\boldsymbol{a}, \\boldsymbol{b})$や$\\langle\\boldsymbol{a}, \\boldsymbol{b} \\rangle$と表す\n"
   ]
  },
  {
   "cell_type": "code",
   "execution_count": 3,
   "id": "8cd051c4-16c8-49ef-ad7c-557267475523",
   "metadata": {},
   "outputs": [
    {
     "data": {
      "text/plain": [
       "6"
      ]
     },
     "execution_count": 3,
     "metadata": {},
     "output_type": "execute_result"
    }
   ],
   "source": [
    "import numpy as np\n",
    "import matplotlib.pyplot as plt\n",
    "import matplotlib as mpl\n",
    "import japanize_matplotlib\n",
    "\n",
    "a = np.array([1, 1, 1])\n",
    "b = np.array([2, 2, 2])\n",
    "a.T @ b"
   ]
  },
  {
   "cell_type": "markdown",
   "id": "1200f44d-6869-4559-bb40-5e86a4ae321c",
   "metadata": {},
   "source": [
    "#### 内積と類似度\n",
    "\n",
    ":::{note} コサイン類似度\n",
    "2つのベクトル$\\boldsymbol{a} = (a_1, a_2, \\dots, a_k)^T$と$\\boldsymbol{b} = (b_1, b_2, \\dots, b_k)^T$について、\n",
    "\n",
    "$$\n",
    "\\cos(\\boldsymbol{a}, \\boldsymbol{b})\n",
    "= \\frac{ \\boldsymbol{a}^T \\boldsymbol{b} }{ ||\\boldsymbol{a}|| \\ ||\\boldsymbol{b}|| }\n",
    "= \\frac{ \\sum^k_{i=1} a_i b_i } { \\sqrt{ \\sum^k_{i=1} a_i^2 } \\sqrt{ \\sum^k_{i=1} b_i^2 } }\n",
    "$$\n",
    "\n",
    "をコサイン類似度という\n",
    ":::\n",
    "\n",
    "$$\n",
    "\\newcommand{\\b}[1]{\\boldsymbol{#1}}\n",
    "\\boldsymbol{a}^T \\boldsymbol{b} = ||\\boldsymbol{a}|| \\ ||\\boldsymbol{b}|| \\cos(\\boldsymbol{a}, \\boldsymbol{b}) \\\\\n",
    "\\implies \\cos(\\boldsymbol{a}, \\boldsymbol{b}) = \\frac{ \\boldsymbol{a}^T \\boldsymbol{b} }{ ||\\boldsymbol{a}|| \\ ||\\boldsymbol{b}|| }\n",
    "$$\n",
    "\n",
    "コサイン類似度はベクトルを矢印で表現したときに同じ方向を向いているほど1に近く、真逆の方向ほど-1に近くなる"
   ]
  },
  {
   "cell_type": "code",
   "execution_count": 4,
   "id": "e73dfae3-d2d7-4cd1-97c4-f27ad4ce6d0e",
   "metadata": {},
   "outputs": [
    {
     "data": {
      "text/plain": [
       "1.0000000000000002"
      ]
     },
     "execution_count": 4,
     "metadata": {},
     "output_type": "execute_result"
    }
   ],
   "source": [
    "def cos(a, b):\n",
    "    return (a.T @ b) / (np.linalg.norm(a) * np.linalg.norm(b))\n",
    "\n",
    "cos(a, b)"
   ]
  },
  {
   "cell_type": "code",
   "execution_count": 5,
   "id": "435877ab-bb1d-46b1-b84b-be6df1ff21d0",
   "metadata": {
    "tags": [
     "hide-input"
    ]
   },
   "outputs": [
    {
     "data": {
      "image/png": "[encoded data removed]",
      "text/plain": [
       "<Figure size 900x250 with 3 Axes>"
      ]
     },
     "metadata": {},
     "output_type": "display_data"
    }
   ],
   "source": [
    "o = np.array([0, 0])\n",
    "buffer = 0.1\n",
    "lim = np.array([-1, 1]) * (1 + buffer)\n",
    "ticks = [-1, 0, 1]\n",
    "\n",
    "datasets = [\n",
    "    [np.array([1, 0]), np.array([0, 1])],\n",
    "    [np.array([1.1, 0.9]), np.array([0.9, 1.1])],\n",
    "    [np.array([1, 1]), np.array([-1, -1])],\n",
    "]\n",
    "m = len(datasets)\n",
    "fig, axes = plt.subplots(ncols=m, figsize=[m*3, 2.5])\n",
    "for i in range(m):\n",
    "    a, b = datasets[i]\n",
    "    axes[i].arrow(*o, *a, width=0.02, color=\"black\", length_includes_head=True, alpha=0.7)\n",
    "    axes[i].arrow(*o, *b, width=0.02, color=\"black\", length_includes_head=True, alpha=0.7)\n",
    "    axes[i].grid(True, alpha=0.3)\n",
    "    axes[i].set(title=f\"cos(a, b) = {cos(a, b):.2f}\", xticks=ticks, yticks=ticks, xlim=lim, ylim=lim)\n",
    "\n",
    "fig.show()"
   ]
  },
  {
   "cell_type": "markdown",
   "id": "5a218752-6897-4e17-bf88-8ec2c89af4bc",
   "metadata": {},
   "source": [
    "#### 直交\n",
    "\n",
    ":::{admonition} 直交\n",
    "\n",
    "ベクトル$\\boldsymbol{a}, \\boldsymbol{b} \\in \\mathbb{R}^n$が\n",
    "\n",
    "$$\n",
    "\\boldsymbol{a}^T \\boldsymbol{b} = 0\n",
    "$$\n",
    "\n",
    "を満たすとき、$\\boldsymbol{a} \\boldsymbol{b}$は直交しているという\n",
    ":::\n",
    "\n"
   ]
  }
 ],
 "metadata": {
  "kernelspec": {
   "display_name": "Python 3 (ipykernel)",
   "language": "python",
   "name": "python3"
  },
  "language_info": {
   "codemirror_mode": {
    "name": "ipython",
    "version": 3
   },
   "file_extension": ".py",
   "mimetype": "text/x-python",
   "name": "python",
   "nbconvert_exporter": "python",
   "pygments_lexer": "ipython3",
   "version": "3.10.14"
  }
 },
 "nbformat": 4,
 "nbformat_minor": 5
}
