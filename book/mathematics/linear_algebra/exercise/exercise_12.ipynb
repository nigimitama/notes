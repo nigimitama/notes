{
 "cells": [
  {
   "cell_type": "markdown",
   "id": "ae704147-222b-47b3-a226-4938fdf91488",
   "metadata": {},
   "source": [
    "# 練習問題メモ 12"
   ]
  },
  {
   "cell_type": "markdown",
   "id": "ea7c4b0e-a350-408d-b702-8bedd71c0ffd",
   "metadata": {},
   "source": [
    "## 1\n",
    "\n",
    ":::{card}\n",
    "正方行列 $\\left(\\begin{array}{ll}\\lambda & 1 \\\\ 0 & \\lambda\\end{array}\\right)$ の指数関数を求めよ。\n",
    ":::"
   ]
  },
  {
   "cell_type": "code",
   "execution_count": null,
   "id": "f3114912-4ed7-45fa-8fea-59f7f0389bb8",
   "metadata": {},
   "outputs": [],
   "source": []
  }
 ],
 "metadata": {
  "kernelspec": {
   "display_name": "Python 3 (ipykernel)",
   "language": "python",
   "name": "python3"
  },
  "language_info": {
   "codemirror_mode": {
    "name": "ipython",
    "version": 3
   },
   "file_extension": ".py",
   "mimetype": "text/x-python",
   "name": "python",
   "nbconvert_exporter": "python",
   "pygments_lexer": "ipython3",
   "version": "3.10.13"
  }
 },
 "nbformat": 4,
 "nbformat_minor": 5
}
