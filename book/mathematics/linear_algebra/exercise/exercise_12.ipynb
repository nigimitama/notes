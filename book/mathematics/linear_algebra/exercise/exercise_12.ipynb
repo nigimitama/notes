{
 "cells": [
  {
   "cell_type": "markdown",
   "id": "ae704147-222b-47b3-a226-4938fdf91488",
   "metadata": {},
   "source": [
    "# 練習問題メモ 12"
   ]
  },
  {
   "cell_type": "markdown",
   "id": "ea7c4b0e-a350-408d-b702-8bedd71c0ffd",
   "metadata": {},
   "source": [
    "## 1\n",
    "\n",
    ":::{card}\n",
    "正方行列 $\\left(\\begin{array}{ll}\\lambda & 1 \\\\ 0 & \\lambda\\end{array}\\right)$ の指数関数を求めよ。\n",
    ":::"
   ]
  },
  {
   "cell_type": "markdown",
   "id": "6b8d04dd-e148-46ec-a668-1b8d7d5103f4",
   "metadata": {},
   "source": [
    ":::{card} 行列指数関数\n",
    "\n",
    "$n$次正方行列$X$の指数関数$e^X$は以下のように定義される\n",
    "\n",
    "$$\n",
    "e^X\n",
    "= \\sum_{k=0}^{\\infty} \\frac{1}{k !} X^k\n",
    "$$\n",
    "\n",
    "\n",
    "\n",
    "\n",
    "- [行列指数関数 - Wikipedia](https://ja.wikipedia.org/wiki/%E8%A1%8C%E5%88%97%E6%8C%87%E6%95%B0%E9%96%A2%E6%95%B0)\n",
    "- [行列の指数関数とその性質 | 高校数学の美しい物語](https://manabitimes.jp/math/1312)\n",
    ":::"
   ]
  },
  {
   "cell_type": "code",
   "execution_count": null,
   "id": "f3114912-4ed7-45fa-8fea-59f7f0389bb8",
   "metadata": {},
   "outputs": [],
   "source": []
  }
 ],
 "metadata": {
  "kernelspec": {
   "display_name": "Python 3 (ipykernel)",
   "language": "python",
   "name": "python3"
  },
  "language_info": {
   "codemirror_mode": {
    "name": "ipython",
    "version": 3
   },
   "file_extension": ".py",
   "mimetype": "text/x-python",
   "name": "python",
   "nbconvert_exporter": "python",
   "pygments_lexer": "ipython3",
   "version": "3.10.13"
  }
 },
 "nbformat": 4,
 "nbformat_minor": 5
}
