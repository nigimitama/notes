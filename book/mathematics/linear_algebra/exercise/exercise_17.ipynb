{
 "cells": [
  {
   "cell_type": "markdown",
   "id": "09963f7d-703c-49fa-b521-69ab725e7fd3",
   "metadata": {},
   "source": [
    "# 練習問題メモ 17（線形写像）"
   ]
  },
  {
   "cell_type": "markdown",
   "id": "4d2078b4-697d-49b4-98c4-e168f7bccab5",
   "metadata": {},
   "source": [
    "## 問1\n",
    "\n",
    ":::{card}\n",
    "\n",
    "$U, V, W$ をベクトル空間、 $f: U \\rightarrow V, g: V \\rightarrow W$ を線形写像とする。このとき、 $f$ と $g$ の合成写像 $g \\circ f: U \\rightarrow W$ は線形写像であることを示せ。\n",
    "\n",
    ":::"
   ]
  },
  {
   "cell_type": "markdown",
   "id": "8c8f79f5-cbb0-45ce-a331-e95a30995a05",
   "metadata": {},
   "source": [
    ":::{margin}\n",
    "線形写像の定義：任意のベクトル$\\boldsymbol{a}, \\boldsymbol{b}$と任意のスカラー$c$に対して\n",
    "\n",
    "1. $f(\\boldsymbol{a}+\\boldsymbol{b}) = f(\\boldsymbol{a}) + f(\\boldsymbol{b})$\n",
    "2. $f(c \\boldsymbol{a}) = c f(\\boldsymbol{a})$\n",
    "\n",
    "を満たす写像\n",
    ":::"
   ]
  },
  {
   "cell_type": "markdown",
   "id": "c7c416a7-a727-4841-b3c6-62100c1a8475",
   "metadata": {},
   "source": [
    "$U$の任意のベクトル$a,b$に対し、線形写像の定義より\n",
    "\n",
    "$$\n",
    "\\begin{aligned}\n",
    "g \\circ f(\\boldsymbol{a}+\\boldsymbol{b}) & =g(f(\\boldsymbol{a}+\\boldsymbol{b}))=g(f(\\boldsymbol{a})+f(\\boldsymbol{b})) \\\\\n",
    "& =g(f(\\boldsymbol{a}))+g(f(\\boldsymbol{b}))=g \\circ f(\\boldsymbol{a})+g \\circ f(\\boldsymbol{b})\n",
    "\\end{aligned}\n",
    "$$\n",
    "\n",
    "が成り立つ。"
   ]
  },
  {
   "cell_type": "markdown",
   "id": "01f734c3-e89e-4c2d-8e0c-4136ba532bbe",
   "metadata": {},
   "source": [
    "また任意のスカラー$c$に対して\n",
    "\n",
    "$$\n",
    "g \\circ f(c\\boldsymbol{a})\n",
    "= g( c f(\\boldsymbol{a}))\n",
    "= c g ( f (\\boldsymbol{a}))\n",
    "= c g \\circ f(c\\boldsymbol{a})\n",
    "$$\n",
    "\n",
    "となる。"
   ]
  },
  {
   "cell_type": "markdown",
   "id": "25065c77-0fd5-4a98-9548-0ba2344d62f1",
   "metadata": {},
   "source": [
    "よって、$g \\circ f$は線形写像の定義に合致するため、線形写像である。"
   ]
  },
  {
   "cell_type": "markdown",
   "id": "58ab7180-2227-49b7-9f44-1117d77a6205",
   "metadata": {},
   "source": [
    "## 問2\n",
    "\n",
    ":::{card}\n",
    "\n",
    "$A \\in M_4(\\mathbb{R})$ および線形写像 $f_A: \\mathbb{R}^4 \\rightarrow \\mathbb{R}^4$ を\n",
    "\n",
    "$$\n",
    "A=\\left(\\begin{array}{llll}\n",
    "1 & 0 & 0 & 0 \\\\\n",
    "1 & 0 & 0 & 0 \\\\\n",
    "0 & 1 & 2 & 0 \\\\\n",
    "0 & 1 & 2 & 0\n",
    "\\end{array}\\right), \\quad f_A(\\boldsymbol{x})=A \\boldsymbol{x} \\quad\\left(\\boldsymbol{x} \\in \\mathbb{R}^4\\right)\n",
    "$$\n",
    "\n",
    "により定める。 $\\operatorname{Im} f_A$ および $\\operatorname{Ker} f_A$ の基底を 1 組求めよ。さらに、 $f_A$ の階数および退化次数を求め、 $f_A$ に対して次元定理が成り立つことを確かめよ。\n",
    "\n",
    ":::"
   ]
  },
  {
   "cell_type": "markdown",
   "id": "f2357c33-7843-4575-afdd-0eff773b1f28",
   "metadata": {},
   "source": [
    ":::{card} （参考）定義\n",
    "\n",
    "定義おさらい\n",
    "\n",
    "$$\n",
    "\\operatorname{Im} f_A = \\{ y \\in \\mathbb{R}^4 \\mid y = f_A(x) \\ (x \\in \\mathbb{R}^4) \\}\\\\\n",
    "\\operatorname{Ker} f_A = \\{ x \\in \\mathbb{R}^4 \\mid f_A(x) = 0 \\ (x \\in \\mathbb{R}^4) \\}\n",
    "$$\n",
    "\n",
    "\n",
    "解き方の参考にしたサイト\n",
    "\n",
    "[線形代数学 基底の求め方が分かりません。階段行列を作ってその行列に対応する部分から求められるようですが、どのように求めたら良いでしょうか？ - Quora](https://jp.quora.com/%E7%B7%9A%E5%BD%A2%E4%BB%A3%E6%95%B0%E5%AD%A6-%E5%9F%BA%E5%BA%95%E3%81%AE%E6%B1%82%E3%82%81%E6%96%B9%E3%81%8C%E5%88%86%E3%81%8B%E3%82%8A%E3%81%BE%E3%81%9B%E3%82%93-%E9%9A%8E%E6%AE%B5%E8%A1%8C%E5%88%97%E3%82%92)\n",
    "\n",
    ":::"
   ]
  },
  {
   "cell_type": "markdown",
   "id": "5e7f9fbf-43f1-4d25-8383-c691706ac1b5",
   "metadata": {},
   "source": [
    "**$f_A$の階数**\n",
    "\n",
    "$A$を行基本変形して階段行列を作ると\n",
    "\n",
    "$$\n",
    "\\left(\\begin{array}{llll}\n",
    "1 & 0 & 0 & 0\\\\\n",
    "0 & 1 & 2 & 0\\\\\n",
    "0 & 0 & 0 & 0\\\\\n",
    "0 & 0 & 0 & 0\\\\\n",
    "\\end{array}\\right)\n",
    "$$\n",
    "\n",
    "と変形できるため$\\operatorname{rank} f_A = 2$である。"
   ]
  },
  {
   "cell_type": "markdown",
   "id": "8e2461b5-c7e7-4400-be9c-f61d543ccb11",
   "metadata": {},
   "source": [
    "**Kerの基底**\n",
    "\n",
    "$階段行列 x = 0$の形におくと\n",
    "\n",
    "$$\n",
    "\\left\\{\\begin{array}{l}\n",
    "x_1 =0 \\\\\n",
    "x_2 + 2 x_3 = 0\n",
    "\\end{array}\\right.\n",
    "$$\n",
    "\n",
    "\n",
    "これを解いて$x_2,x_3$の線形結合の形にすると\n",
    "\n",
    "$$\n",
    "\\left(\\begin{array}{l}\n",
    "x_1 \\\\\n",
    "x_2 \\\\\n",
    "x_3 \\\\\n",
    "\\end{array}\\right)\n",
    "=\n",
    "\\left(\\begin{array}{r}\n",
    "0\\\\\n",
    "2 x_3\\\\\n",
    "\\frac{x_2}{ 2}\n",
    "\\end{array}\\right)\n",
    "=\n",
    "x_2\n",
    "\\begin{pmatrix}\n",
    "0 \\\\ 0 \\\\ \\frac{1}{2}\n",
    "\\end{pmatrix}\n",
    "+\n",
    "x_3\n",
    "\\begin{pmatrix}\n",
    "0 \\\\ 2 \\\\ 0\n",
    "\\end{pmatrix}\n",
    "$$\n",
    "\n",
    "よって基底は\n",
    "\n",
    "$$\n",
    "\\left\\{\\left(\\begin{array}{r}\n",
    "0 \\\\ 0 \\\\ \\frac{1}{2}\n",
    "\\end{array}\\right),\\left(\\begin{array}{r}\n",
    "0 \\\\ 2 \\\\ 0\n",
    "\\end{array}\\right)\\right\\}\n",
    "$$"
   ]
  },
  {
   "cell_type": "markdown",
   "id": "102f30dd-33e3-43a9-98cb-1701855cd370",
   "metadata": {},
   "source": [
    "**退化次数**\n",
    "\n",
    "退化次数（nullity）はKerの次元なので、Kerの基底の数と同じく2\n"
   ]
  },
  {
   "cell_type": "markdown",
   "id": "1e8d6d04-8802-45bb-a15f-efc5b092254e",
   "metadata": {},
   "source": [
    "**Imの基底**\n",
    "\n",
    "元の行列$A$のうち、得られた階段行列の段差のある列と同じ列番号の列が基底になるらしい。\n",
    "\n",
    "今回は第1列と第2列に段があるので、対応する列を$A$から得ると\n",
    "\n",
    "$$\n",
    "\\left\\{\\left(\\begin{array}{r}\n",
    "1 \\\\ 1 \\\\ 0\\\\ 0\n",
    "\\end{array}\\right),\\left(\\begin{array}{r}\n",
    "0\\\\ 0\\\\ 1\\\\ 1\n",
    "\\end{array}\\right)\\right\\}\n",
    "$$"
   ]
  },
  {
   "cell_type": "markdown",
   "id": "e66aff0e-a155-4833-9c72-3fe2811bfc2e",
   "metadata": {},
   "source": [
    "**次元定理**\n",
    "\n",
    "$$\n",
    "\\operatorname{rank} f_A = \\dim \\operatorname{Im} f_A = 2\\\\\n",
    "\\operatorname{nullity} f_A = \\dim \\operatorname{Ker} f_A = 2\\\\\n",
    "$$\n",
    "\n",
    "よって\n",
    "\n",
    "$$\n",
    "\\operatorname{rank} f_A + \\operatorname{nullity} f_A\n",
    "= 2 + 2\n",
    "= 4 =  \\dim f_A\n",
    "$$\n"
   ]
  },
  {
   "cell_type": "markdown",
   "id": "25bc7230-d9ae-47a4-b811-a433f59fdaa7",
   "metadata": {},
   "source": [
    "## 問3\n",
    "\n",
    ":::{card}\n",
    "\n",
    "$f$ をベクトル空間 $V$ からべクトル空間 $W$ への線形写像とし、 $\\boldsymbol{x}_1, \\boldsymbol{x}_2, \\cdots, \\boldsymbol{x}_m \\in V$ とする。 $f\\left(\\boldsymbol{x}_1\\right), f\\left(\\boldsymbol{x}_2\\right), \\cdots, f\\left(\\boldsymbol{x}_m\\right) \\in W$ が 1 次独立ならば、 $\\boldsymbol{x}_1, \\boldsymbol{x}_2, \\cdots, \\boldsymbol{x}_m$ も 1 次独立であることを示せ。\n",
    ":::\n",
    "\n"
   ]
  },
  {
   "cell_type": "markdown",
   "id": "1a4d5366-af7f-4768-812d-638f13ef7122",
   "metadata": {},
   "source": [
    "任意のスカラー$c_1,\\dots, c_m$を用いて\n",
    "\n",
    "$$\n",
    "c_1 \\boldsymbol{x}_1 + \\cdots + c_m \\boldsymbol{x}_m = \\boldsymbol{0}\n",
    "$$\n",
    "\n",
    "とし、両辺に$f$をとると、線形写像の性質により\n",
    "\n",
    "$$\n",
    "f(c_1 \\boldsymbol{x}_1 + \\cdots + c_m \\boldsymbol{x}_m) = f(\\boldsymbol{0})\n",
    "\\\\ \\Longleftrightarrow\n",
    "c_1 f(\\boldsymbol{x}_1) + \\cdots + c_m f(\\boldsymbol{x}_m) = f(\\boldsymbol{0})\n",
    "$$\n",
    "\n",
    "となる。ここで、$f\\left(\\boldsymbol{x}_1\\right), \\cdots, f\\left(\\boldsymbol{x}_m\\right) \\in W$ が 1次独立ならば $c_1 = \\cdots = c_m = 0$となるため、\n",
    "$\\boldsymbol{x}_1, \\boldsymbol{x}_2, \\cdots, \\boldsymbol{x}_m$ も 1 次独立である"
   ]
  },
  {
   "cell_type": "markdown",
   "id": "f725d06b-5d89-4290-9b74-51810f8fdb5d",
   "metadata": {},
   "source": [
    "## 問4\n",
    "\n",
    ":::{card}\n",
    "\n",
    "$f$ をべクトル空間 $V$ からべクトル空間 $W$ への線形写像とする。\n",
    "\n",
    "1. $f$ が全射であることと $\\operatorname{Im} f=W$ は同値であることを示せ。\n",
    "2. $f$ が単射であることと $\\operatorname{Ker} f=\\left\\{\\mathbf{0}_V\\right\\}$ は同値であることを示せ。\n",
    "3. $f$ が全単射ならば、 $f$ の逆写像 $f^{-1}$ は $W$ から $V$ への線形写像であることを 示せ。なお、このような $f$ が存在するとき、 $f$ を同型写像といい、 $V$ と $W$ は 同型であるという。また、 $V$ と $W$ が同型であることを $V \\cong W$ と表す。\n",
    "\n",
    ":::"
   ]
  },
  {
   "cell_type": "markdown",
   "id": "27681d17-6d1b-4f82-a4aa-a1a4e63608f1",
   "metadata": {},
   "source": [
    ":::{card}\n",
    "1. $f$ が全射であることと $\\operatorname{Im} f=W$ は同値であることを示せ。\n",
    ":::\n",
    "\n",
    "$f$が全射であるとは、$f$が写す像の集合$\\operatorname{Im} f$が値域$W$と等しいことである。\n",
    "\n",
    "$f$が全射ならば$\\operatorname{Im} f$は$W$のすべての元を含む。"
   ]
  },
  {
   "cell_type": "markdown",
   "id": "2d2586f2-b6ca-4c04-a134-ddbd8843706a",
   "metadata": {},
   "source": []
  },
  {
   "cell_type": "markdown",
   "id": "1e85d6c0-5fd5-4655-8c84-0ab884685eee",
   "metadata": {},
   "source": []
  },
  {
   "cell_type": "markdown",
   "id": "f4b7d52d-5d3d-4921-b9a5-2555c5dd4632",
   "metadata": {},
   "source": []
  },
  {
   "cell_type": "markdown",
   "id": "a7f2c27e-4625-4dbb-96f6-95220ae089bd",
   "metadata": {},
   "source": []
  },
  {
   "cell_type": "markdown",
   "id": "9aaa1405-b7e8-45eb-8e51-dd7284cbe63c",
   "metadata": {},
   "source": [
    "## 問5\n",
    "\n",
    ":::{card}\n",
    "\n",
    "\n",
    ":::"
   ]
  },
  {
   "cell_type": "markdown",
   "id": "ee168c33-70a8-4d12-afe5-bd8266cb5e62",
   "metadata": {},
   "source": [
    "## 問6\n",
    "\n",
    ":::{card}\n",
    "\n",
    "\n",
    ":::"
   ]
  },
  {
   "cell_type": "code",
   "execution_count": null,
   "id": "5380683e-12ed-49aa-b4af-2db221c67043",
   "metadata": {},
   "outputs": [],
   "source": []
  }
 ],
 "metadata": {
  "kernelspec": {
   "display_name": "Python 3 (ipykernel)",
   "language": "python",
   "name": "python3"
  },
  "language_info": {
   "codemirror_mode": {
    "name": "ipython",
    "version": 3
   },
   "file_extension": ".py",
   "mimetype": "text/x-python",
   "name": "python",
   "nbconvert_exporter": "python",
   "pygments_lexer": "ipython3",
   "version": "3.10.14"
  }
 },
 "nbformat": 4,
 "nbformat_minor": 5
}
