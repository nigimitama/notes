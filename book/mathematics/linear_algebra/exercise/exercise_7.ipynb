{
 "cells": [
  {
   "cell_type": "markdown",
   "id": "250945a9-68e5-4992-9d7d-7fb9fd0216d6",
   "metadata": {},
   "source": [
    "# 練習問題メモ 7（置換）"
   ]
  },
  {
   "cell_type": "code",
   "execution_count": null,
   "id": "d4aa5e08-8810-40d0-9d6a-7627356a35b3",
   "metadata": {},
   "outputs": [],
   "source": []
  }
 ],
 "metadata": {
  "kernelspec": {
   "display_name": "Python 3 (ipykernel)",
   "language": "python",
   "name": "python3"
  },
  "language_info": {
   "codemirror_mode": {
    "name": "ipython",
    "version": 3
   },
   "file_extension": ".py",
   "mimetype": "text/x-python",
   "name": "python",
   "nbconvert_exporter": "python",
   "pygments_lexer": "ipython3",
   "version": "3.9.18"
  }
 },
 "nbformat": 4,
 "nbformat_minor": 5
}
