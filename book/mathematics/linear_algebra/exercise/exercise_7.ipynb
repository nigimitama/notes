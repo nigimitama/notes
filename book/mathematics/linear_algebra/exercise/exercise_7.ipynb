{
 "cells": [
  {
   "cell_type": "markdown",
   "id": "250945a9-68e5-4992-9d7d-7fb9fd0216d6",
   "metadata": {},
   "source": [
    "# 練習問題メモ 7（置換）"
   ]
  },
  {
   "cell_type": "markdown",
   "id": "8b1d5594-6a45-400d-8b39-b5752da26236",
   "metadata": {},
   "source": [
    "## 7.1\n",
    "\n",
    ":::{card}\n",
    "次の $1, 2$ の置換 $\\sigma, \\tau$ に対して、積 $\\sigma \\tau$ および $\\tau \\sigma$ を求めよ。\n",
    "\n",
    "1. $\\sigma=\\left(\\begin{array}{lll}1 & 2 & 3 \\\\ 3 & 1 & 2\\end{array}\\right), \\tau=\\left(\\begin{array}{lll}1 & 2 & 3 \\\\ 3 & 2 & 1\\end{array}\\right)$\n",
    "2. $\\sigma=\\left(\\begin{array}{llll}1 & 2 & 3 & 4 \\\\ 4 & 1 & 2 & 3\\end{array}\\right), \\tau=\\left(\\begin{array}{llll}1 & 2 & 3 & 4 \\\\ 1 & 4 & 3 & 2\\end{array}\\right)$\n",
    ":::"
   ]
  },
  {
   "cell_type": "markdown",
   "id": "20b52f30-95d3-4937-bcda-cb2fe3c6a440",
   "metadata": {},
   "source": [
    "> 1. $\\sigma=\\left(\\begin{array}{lll}1 & 2 & 3 \\\\ 3 & 1 & 2\\end{array}\\right), \\tau=\\left(\\begin{array}{lll}1 & 2 & 3 \\\\ 3 & 2 & 1\\end{array}\\right)$"
   ]
  },
  {
   "cell_type": "markdown",
   "id": "994cab17-ff2b-4c4f-8ace-b999567b77ca",
   "metadata": {},
   "source": [
    "$$\n",
    "\\sigma \\tau=\n",
    "\\begin{pmatrix}\n",
    "1 & 2 & 3\\\\\n",
    "\\sigma(\\tau(1)) & \\sigma(\\tau(2)) & \\sigma(\\tau(3))\n",
    "\\end{pmatrix}\n",
    "= \n",
    "\\begin{pmatrix}\n",
    "1 & 2 & 3\\\\\n",
    "2 & 1 & 3\n",
    "\\end{pmatrix}\n",
    "$$"
   ]
  },
  {
   "cell_type": "markdown",
   "id": "97d0d070-1d32-4ab6-9f50-39cdf9fdd493",
   "metadata": {},
   "source": [
    "$$\n",
    "\\tau \\sigma =\n",
    "\\begin{pmatrix}\n",
    "1 & 2 & 3\\\\\n",
    "\\tau(\\sigma(1)) & \\tau(\\sigma(2)) & \\tau(\\sigma(3))\n",
    "\\end{pmatrix}\n",
    "= \n",
    "\\begin{pmatrix}\n",
    "1 & 2 & 3\\\\\n",
    "1 & 3 & 2\\\\\n",
    "\\end{pmatrix}\n",
    "$$"
   ]
  },
  {
   "cell_type": "markdown",
   "id": "c5b0da42-c6b8-4e64-895f-817c26a3d8d2",
   "metadata": {},
   "source": [
    "> 2. $\\sigma=\\left(\\begin{array}{llll}1 & 2 & 3 & 4 \\\\ 4 & 1 & 2 & 3\\end{array}\\right), \\tau=\\left(\\begin{array}{llll}1 & 2 & 3 & 4 \\\\ 1 & 4 & 3 & 2\\end{array}\\right)$"
   ]
  },
  {
   "cell_type": "markdown",
   "id": "ab766c5f-5720-48cc-83a1-88ae9a7b901c",
   "metadata": {},
   "source": [
    "$$\n",
    "\\sigma \\tau=\n",
    "\\begin{pmatrix}\n",
    "1 & 2 & 3 & 4\\\\\n",
    "4 & 3 & 2 & 1\n",
    "\\end{pmatrix}\n",
    "$$"
   ]
  },
  {
   "cell_type": "markdown",
   "id": "c0b8db51-0c8f-481e-acb6-e5219896c2c0",
   "metadata": {},
   "source": [
    "$$\n",
    "\\tau \\sigma =\n",
    "\\begin{pmatrix}\n",
    "1 & 2 & 3 & 4\\\\\n",
    "2 & 1 & 4 & 3\n",
    "\\end{pmatrix}\n",
    "$$"
   ]
  },
  {
   "cell_type": "markdown",
   "id": "f332668e-b759-4d39-b8a2-12bfab89d584",
   "metadata": {},
   "source": [
    "## 7.2\n",
    "\n",
    ":::{card}\n",
    "次の 1、 2 の置換 $\\sigma$ の符号を求めよ。\n",
    "\n",
    "1. $\\sigma=\\left(\\begin{array}{ccccccc}1 & 2 & 3 & 4 & 5 & 6 & 7 \\\\ 4 & 5 & 1 & 6 & 2 & 7 & 3\\end{array}\\right)$\n",
    "2. $\\sigma=\\left(\\begin{array}{ccccccc}1 & 2 & 3 & 4 & 5 & 6 & 7 \\\\ 7 & 4 & 1 & 5 & 2 & 6 & 3\\end{array}\\right)$\n",
    ":::"
   ]
  },
  {
   "cell_type": "markdown",
   "id": "87b5938e-b1be-433c-9433-f5679444d446",
   "metadata": {},
   "source": [
    "> 1. $\\sigma=\\left(\\begin{array}{ccccccc}1 & 2 & 3 & 4 & 5 & 6 & 7 \\\\ 4 & 5 & 1 & 6 & 2 & 7 & 3\\end{array}\\right)$"
   ]
  },
  {
   "cell_type": "markdown",
   "id": "eba65de0-6c81-438e-aee8-4de193c46d48",
   "metadata": {},
   "source": [
    "$$\n",
    "\\begin{align}\n",
    "\\sigma\n",
    "&= (\\begin{array}{lll} 1 & 4 & 6 & 7 & 3 \\end{array}) (\\begin{array}{lll} 2 & 5 \\end{array})\\\\\n",
    "&= (\\begin{array}{lll} 1 & 3 \\end{array})\n",
    "  (\\begin{array}{lll} 1 & 7 \\end{array})\n",
    "  (\\begin{array}{lll} 1 & 6 \\end{array})\n",
    "  (\\begin{array}{lll} 1 & 4 \\end{array})\n",
    "  (\\begin{array}{lll} 2 & 5 \\end{array})\\\\\n",
    "\\end{align}\n",
    "$$\n",
    "\n",
    "なので\n",
    "\n",
    "$$\n",
    "\\text{sgn}(\\sigma)\n",
    "= (-1)^5 = -1\n",
    "$$"
   ]
  },
  {
   "cell_type": "markdown",
   "id": "78810b50-e757-4d17-83e2-147e834c6484",
   "metadata": {},
   "source": [
    "> 2. $\\sigma=\\left(\\begin{array}{ccccccc}1 & 2 & 3 & 4 & 5 & 6 & 7 \\\\ 7 & 4 & 1 & 5 & 2 & 6 & 3\\end{array}\\right)$"
   ]
  },
  {
   "cell_type": "markdown",
   "id": "a9f9a263-181e-4318-a7d9-2aca891d4105",
   "metadata": {},
   "source": [
    "$$\n",
    "\\begin{align}\n",
    "\\sigma\n",
    "&= (\\begin{array}{lll} 1 & 7 & 3 \\end{array})\n",
    "   (\\begin{array}{lll} 2 & 4 & 5 \\end{array})\n",
    "\\\\\n",
    "&= (\\begin{array}{lll} 1 & 3 \\end{array})\n",
    "  (\\begin{array}{lll} 1 & 7 \\end{array})\n",
    "  (\\begin{array}{lll} 2 & 5 \\end{array})\n",
    "  (\\begin{array}{lll} 2 & 4 \\end{array})\n",
    "\\\\\n",
    "\\end{align}\n",
    "$$\n",
    "\n",
    "なので\n",
    "\n",
    "$$\n",
    "\\text{sgn}(\\sigma)\n",
    "= (-1)^4 = 1\n",
    "$$"
   ]
  },
  {
   "cell_type": "markdown",
   "id": "e478c64c-d09f-49e1-8014-1c19a37a75e4",
   "metadata": {},
   "source": [
    "## 7.3\n",
    ":::{card}\n",
    "$\\sigma$ が $n$ 文字の置換であることを $\\sigma \\in S_n$ と表す。 $n$ 変数 $x_1, x_2, \\cdots, x_n$ の多項式 $f_\\sigma\\left(x_1, x_2, \\cdots, x_n\\right)$ および $\\sigma \\in S_n$ に対して、多項式 $f_\\sigma$ を\n",
    "\n",
    "$$\n",
    "f_\\sigma\\left(x_1, x_2, \\cdots, x_n\\right)=f\\left(x_{\\sigma(1)}, x_{\\sigma(2)}, \\cdots, x_{\\sigma(n)}\\right)\n",
    "$$\n",
    "\n",
    "により定める。 $f$ および $\\sigma$ が次の $1 \\sim 3$ により与えられるとき、 $f_\\sigma$ を求めよ。\n",
    "1. $f\\left(x_1, x_2, x_3\\right)=x_1+2 x_2+3 x_3, \\quad \\sigma=\\epsilon \\in S_3$\n",
    "2. $f\\left(x_1, x_2, x_3, x_4\\right)=\\left(x_1-x_2\\right)\\left(x_3-x_4\\right), \\quad \\sigma=\\left(\\begin{array}{llll}1 & 2 & 3 & 4 \\\\ 4 & 2 & 1 & 3\\end{array}\\right) \\in S_4$\n",
    "3. $f\\left(x_1, x_2, x_3, x_4\\right)=1+x_1+x_2 x_3+x_4^3, \\quad \\sigma=\\left(\\begin{array}{lll}1 & 4 & 2\\end{array}\\right) \\in S_4$\n",
    ":::"
   ]
  },
  {
   "cell_type": "markdown",
   "id": "280bff28-608c-4dd2-9f9c-b07ae20aaccb",
   "metadata": {},
   "source": [
    "> 1. $f\\left(x_1, x_2, x_3\\right)=x_1+2 x_2+3 x_3, \\quad \\sigma=\\epsilon \\in S_3$\n",
    "\n",
    "$\\epsilon$は恒等置換だと解釈し、$x_{\\sigma(i)}$は$x$を$\\sigma$で置換したものと考え、$\\sigma f(\\cdot) = f_{\\sigma}(\\cdot)$と解釈する\n",
    "\n",
    "$$\n",
    "f_{\\sigma} \\left(x_1, x_2, x_3\\right) = x_1+2 x_2+3 x_3\n",
    "$$"
   ]
  },
  {
   "cell_type": "markdown",
   "id": "987df718-f75c-4682-9fec-b5a21f15a106",
   "metadata": {},
   "source": [
    "> 2. $f\\left(x_1, x_2, x_3, x_4\\right)=\\left(x_1-x_2\\right)\\left(x_3-x_4\\right), \\quad \\sigma=\\left(\\begin{array}{llll}1 & 2 & 3 & 4 \\\\ 4 & 2 & 1 & 3\\end{array}\\right) \\in S_4$"
   ]
  },
  {
   "cell_type": "markdown",
   "id": "e51857c4-7c56-402a-a7de-0c2c2fe178f1",
   "metadata": {},
   "source": [
    "巡回置換ではあるが一度しか$\\sigma$を掛けないものとかんがえて\n",
    "\n",
    "$$\n",
    "f_{\\sigma}\\left(x_1, x_2, x_3, x_4\\right)\n",
    "= \\left(x_4 - x_2\\right)\\left(x_1 - x_3\\right)\n",
    "$$"
   ]
  },
  {
   "cell_type": "markdown",
   "id": "4f4e9793-c9bb-4001-9140-7e942146fd04",
   "metadata": {},
   "source": [
    "> 3. $f\\left(x_1, x_2, x_3, x_4\\right)=1+x_1+x_2 x_3+x_4^3, \\quad \\sigma=\\left(\\begin{array}{lll}1 & 4 & 2\\end{array}\\right) \\in S_4$\n"
   ]
  },
  {
   "cell_type": "markdown",
   "id": "7a63865f-7e87-4c11-8ac1-44a2e3705724",
   "metadata": {},
   "source": [
    "$$\n",
    "f_{\\sigma}\\left(x_1, x_2, x_3, x_4\\right) = 1 + x_4 + x_1 x_3 + x_2^3\n",
    "$$"
   ]
  }
 ],
 "metadata": {
  "kernelspec": {
   "display_name": "Python 3 (ipykernel)",
   "language": "python",
   "name": "python3"
  },
  "language_info": {
   "codemirror_mode": {
    "name": "ipython",
    "version": 3
   },
   "file_extension": ".py",
   "mimetype": "text/x-python",
   "name": "python",
   "nbconvert_exporter": "python",
   "pygments_lexer": "ipython3",
   "version": "3.9.18"
  }
 },
 "nbformat": 4,
 "nbformat_minor": 5
}
