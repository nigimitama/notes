{
 "cells": [
  {
   "cell_type": "markdown",
   "id": "250945a9-68e5-4992-9d7d-7fb9fd0216d6",
   "metadata": {},
   "source": [
    "# 練習問題メモ 7（置換）"
   ]
  },
  {
   "cell_type": "markdown",
   "id": "8b1d5594-6a45-400d-8b39-b5752da26236",
   "metadata": {},
   "source": [
    "## 7.1\n",
    "\n",
    "次の $1 、 2$ の置換 $\\sigma, \\tau$ に対して、積 $\\sigma \\tau$ および $\\tau \\sigma$ を求めよ。\n",
    "1. $\\sigma=\\left(\\begin{array}{lll}1 & 2 & 3 \\\\ 3 & 1 & 2\\end{array}\\right), \\tau=\\left(\\begin{array}{lll}1 & 2 & 3 \\\\ 3 & 2 & 1\\end{array}\\right)$\n",
    "2. $\\sigma=\\left(\\begin{array}{llll}1 & 2 & 3 & 4 \\\\ 4 & 1 & 2 & 3\\end{array}\\right), \\tau=\\left(\\begin{array}{llll}1 & 2 & 3 & 4 \\\\ 1 & 4 & 3 & 2\\end{array}\\right)$"
   ]
  },
  {
   "cell_type": "code",
   "execution_count": null,
   "id": "4802c46b-88ae-4f84-b86c-80b442224898",
   "metadata": {},
   "outputs": [],
   "source": []
  }
 ],
 "metadata": {
  "kernelspec": {
   "display_name": "Python 3 (ipykernel)",
   "language": "python",
   "name": "python3"
  },
  "language_info": {
   "codemirror_mode": {
    "name": "ipython",
    "version": 3
   },
   "file_extension": ".py",
   "mimetype": "text/x-python",
   "name": "python",
   "nbconvert_exporter": "python",
   "pygments_lexer": "ipython3",
   "version": "3.9.18"
  }
 },
 "nbformat": 4,
 "nbformat_minor": 5
}
