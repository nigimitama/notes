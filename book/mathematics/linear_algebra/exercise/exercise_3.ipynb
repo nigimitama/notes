{
 "cells": [
  {
   "cell_type": "markdown",
   "id": "75e211ea-ed94-4f4e-9b33-5a850e193d09",
   "metadata": {},
   "source": [
    "# 線形代数 練習問題 メモ"
   ]
  },
  {
   "cell_type": "markdown",
   "id": "2b6c89c4-4a0b-44d5-a1e5-d02c163ed2f0",
   "metadata": {},
   "source": [
    "## 3.1\n",
    "\n",
    "> $A$ を $k \\times l$ 行列、 $B$ を $k \\times n$ 行列、 $C$ を $m \\times n$ 行列とする。分割された $(k+m) \\times(l+n)$行列に対する次の計算をせよ。\n",
    "> $$\n",
    "\\left(\\begin{array}{cc}\n",
    "A & B \\\\\n",
    "O_{m, l} & C\n",
    "\\end{array}\\right)+\\left(\\begin{array}{cc}\n",
    "A & -B \\\\\n",
    "O_{m, l} & -2 C\n",
    "\\end{array}\\right)\n",
    "$$"
   ]
  },
  {
   "cell_type": "code",
   "execution_count": null,
   "id": "7f10c38d-3500-4e62-adb6-78c9cc5a8172",
   "metadata": {},
   "outputs": [],
   "source": []
  }
 ],
 "metadata": {
  "kernelspec": {
   "display_name": "Python 3 (ipykernel)",
   "language": "python",
   "name": "python3"
  },
  "language_info": {
   "codemirror_mode": {
    "name": "ipython",
    "version": 3
   },
   "file_extension": ".py",
   "mimetype": "text/x-python",
   "name": "python",
   "nbconvert_exporter": "python",
   "pygments_lexer": "ipython3",
   "version": "3.9.18"
  }
 },
 "nbformat": 4,
 "nbformat_minor": 5
}
