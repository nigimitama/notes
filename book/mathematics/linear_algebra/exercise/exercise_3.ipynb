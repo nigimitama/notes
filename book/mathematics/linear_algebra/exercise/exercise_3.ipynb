{
 "cells": [
  {
   "cell_type": "markdown",
   "id": "823e78ed-6033-4a48-97b9-3ce69f076fc9",
   "metadata": {},
   "source": [
    "# 練習問題 メモ 3"
   ]
  },
  {
   "cell_type": "markdown",
   "id": "2b6c89c4-4a0b-44d5-a1e5-d02c163ed2f0",
   "metadata": {},
   "source": [
    "## 3.1\n",
    "\n",
    "> $A$ を $k \\times l$ 行列、 $B$ を $k \\times n$ 行列、 $C$ を $m \\times n$ 行列とする。分割された $(k+m) \\times(l+n)$行列に対する次の計算をせよ。\n",
    "> $\n",
    "\\left(\\begin{array}{cc}\n",
    "A & B \\\\\n",
    "O_{m, l} & C\n",
    "\\end{array}\\right)+\\left(\\begin{array}{cc}\n",
    "A & -B \\\\\n",
    "O_{m, l} & -2 C\n",
    "\\end{array}\\right)\n",
    "$"
   ]
  },
  {
   "cell_type": "markdown",
   "id": "8a69662e-97a2-4d22-bd40-bb39e1b3a382",
   "metadata": {},
   "source": [
    "$$\n",
    "\\left(\\begin{array}{cc}\n",
    "A & B \\\\\n",
    "O_{m, l} & C\n",
    "\\end{array}\\right)\n",
    "+\n",
    "\\left(\\begin{array}{cc}\n",
    "A & -B \\\\\n",
    "O_{m, l} & -2 C\n",
    "\\end{array}\\right)\n",
    "=\n",
    "\\left(\\begin{array}{cc}\n",
    "A+A & B-B \\\\\n",
    "O_{m, l}-O_{m, l} & C-2 C\n",
    "\\end{array}\\right)\n",
    "=\n",
    "\\left(\\begin{array}{cc}\n",
    "2A & O_{k,n} \\\\\n",
    "O_{m, l} & -C\n",
    "\\end{array}\\right)\n",
    "$$"
   ]
  },
  {
   "cell_type": "markdown",
   "id": "edc0dbfe-5e0a-40bf-9ac4-0d239476077f",
   "metadata": {},
   "source": [
    "## 3.2\n",
    "\n",
    "> $A$ を $m \\times n$ 行列とする。分割された $(m+n)$ 次の正方行列 $\\left(\\begin{array}{cc}E_m & A \\\\ O_{n, m} & E_n\\end{array}\\right)$の3乗を計算せよ。"
   ]
  },
  {
   "cell_type": "markdown",
   "id": "fd4948ad-388e-472c-a8d2-9946f06a8b0f",
   "metadata": {},
   "source": [
    "$$\n",
    "\\left(\\begin{array}{cc}E_m & A \\\\ O_{n, m} & E_n\\end{array}\\right)^3\n",
    "= \\left(\\begin{array}{cc}\n",
    "    E_m^3 & 3A \\\\\n",
    "    O_{n, m} & E_n^3\n",
    "\\end{array}\\right)\n",
    "= \\left(\\begin{array}{cc}\n",
    "    E_m & 3A \\\\\n",
    "    O_{n, m} & E_n\n",
    "\\end{array}\\right)\n",
    "$$"
   ]
  },
  {
   "cell_type": "markdown",
   "id": "25f33bea-aca4-4ef2-9417-bc137a85c3ea",
   "metadata": {},
   "source": [
    "## 3.3\n",
    "\n",
    "> 4次の正方行列 $I, J, K$を\n",
    "> $\n",
    "I=\\left(\\begin{array}{cccc}\n",
    "0 & -1 & 0 & 0 \\\\\n",
    "1 & 0 & 0 & 0 \\\\\n",
    "0 & 0 & 0 & -1 \\\\\n",
    "0 & 0 & 1 & 0\n",
    "\\end{array}\\right), J=\\left(\\begin{array}{cccc}\n",
    "0 & 0 & -1 & 0 \\\\\n",
    "0 & 0 & 0 & 1 \\\\\n",
    "1 & 0 & 0 & 0 \\\\\n",
    "0 & -1 & 0 & 0\n",
    "\\end{array}\\right), K=\\left(\\begin{array}{cccc}\n",
    "0 & 0 & 0 & -1 \\\\\n",
    "0 & 0 & -1 & 0 \\\\\n",
    "0 & 1 & 0 & 0 \\\\\n",
    "1 & 0 & 0 & 0\n",
    "\\end{array}\\right)\n",
    "$\n",
    "> により定める。 $I, J, K$ を 2 次の正方行列を用いて分割することにより、積 $I^2, J^2$, $K^2, I J, J I, J K, K J, K I, I K$ を計算せよ。"
   ]
  },
  {
   "cell_type": "markdown",
   "id": "6625504b-21ce-4c98-b9f8-ce3493d8f36f",
   "metadata": {},
   "source": [
    "> $I^2$\n",
    "\n",
    "$$\n",
    "I =\n",
    "\\begin{pmatrix}\n",
    "I_s & O\\\\\n",
    "O & I_s\n",
    "\\end{pmatrix}\n",
    "$$\n",
    "\n",
    "とすると\n",
    "\n",
    "$$\n",
    "I^2 =\n",
    "\\begin{pmatrix}\n",
    "I_s^2 & O\\\\\n",
    "O & I_s^2\n",
    "\\end{pmatrix}\n",
    "=\n",
    "\\begin{pmatrix}\n",
    "-1 & 0 & 0 & 0 \\\\\n",
    "0 & -1 & 0 & 0 \\\\\n",
    "0 & 0 & -1 & 0 \\\\\n",
    "0 & 0 & 0 & -1\n",
    "\\end{pmatrix}\n",
    "$$\n"
   ]
  },
  {
   "cell_type": "code",
   "execution_count": 3,
   "id": "95b6f703-d866-4ebe-9117-6b9a5df4aea3",
   "metadata": {
    "tags": [
     "hide-input",
     "hide-output"
    ]
   },
   "outputs": [
    {
     "data": {
      "text/plain": [
       "array([[-1,  0,  0,  0],\n",
       "       [ 0, -1,  0,  0],\n",
       "       [ 0,  0, -1,  0],\n",
       "       [ 0,  0,  0, -1]])"
      ]
     },
     "execution_count": 3,
     "metadata": {},
     "output_type": "execute_result"
    }
   ],
   "source": [
    "import numpy as np\n",
    "I = np.array([\n",
    "    [0, -1, 0, 0],\n",
    "    [1, 0, 0, 0],\n",
    "    [0, 0, 0, -1],\n",
    "    [0, 0, 1, 0]\n",
    "])\n",
    "\n",
    "I @ I"
   ]
  },
  {
   "cell_type": "markdown",
   "id": "3ee79ac1-3924-4707-b5b5-d13d54712d07",
   "metadata": {},
   "source": [
    "> $J^2$\n",
    "\n",
    "$$\n",
    "J =\n",
    "\\begin{pmatrix}\n",
    "O & J_1 \\\\\n",
    "J_2 & O\n",
    "\\end{pmatrix}\n",
    "$$\n",
    "\n",
    "とすると\n",
    "\n",
    "$$\n",
    "J^2 =\n",
    "\\begin{pmatrix}\n",
    "J_1 J_2 & O\\\\\n",
    "O & J_1 J_2\n",
    "\\end{pmatrix}\n",
    "=\n",
    "\\begin{pmatrix}\n",
    "-1 & 0 & 0 & 0 \\\\\n",
    "0 & -1 & 0 & 0 \\\\\n",
    "0 & 0 & -1 & 0 \\\\\n",
    "0 & 0 & 0 & -1\n",
    "\\end{pmatrix}\n",
    "$$\n"
   ]
  },
  {
   "cell_type": "code",
   "execution_count": 1,
   "id": "f82690e3-0dff-450f-b335-1fa9899c4740",
   "metadata": {
    "tags": [
     "hide-input",
     "hide-output"
    ]
   },
   "outputs": [
    {
     "data": {
      "text/plain": [
       "array([[-1,  0,  0,  0],\n",
       "       [ 0, -1,  0,  0],\n",
       "       [ 0,  0, -1,  0],\n",
       "       [ 0,  0,  0, -1]])"
      ]
     },
     "execution_count": 1,
     "metadata": {},
     "output_type": "execute_result"
    }
   ],
   "source": [
    "import numpy as np\n",
    "M = np.array([\n",
    "    [0, 0, -1, 0],\n",
    "    [0, 0, 0, 1],\n",
    "    [1, 0, 0, 0],\n",
    "    [0, -1, 0, 0]\n",
    "])\n",
    "\n",
    "M @ M"
   ]
  },
  {
   "cell_type": "markdown",
   "id": "5b6df1aa-aa1f-4b9f-b609-4e44a7ab87a0",
   "metadata": {},
   "source": [
    "> $K^2$\n",
    "\n",
    "$$\n",
    "K =\n",
    "\\begin{pmatrix}\n",
    "O & K_1\\\\\n",
    "K_2 & O\n",
    "\\end{pmatrix}\n",
    "$$\n",
    "\n",
    "とすると\n",
    "\n",
    "$$\n",
    "K^2 =\n",
    "\\begin{pmatrix}\n",
    "K_1 K_2 & O\\\\\n",
    "O & K_2 K_1\\\\\n",
    "\\end{pmatrix}\n",
    "=\n",
    "\\begin{pmatrix}\n",
    "0 & -1 & 0 & 0 \\\\\n",
    "-1 & 0 & 0 & 0 \\\\\n",
    "0 & 0 & 0 & -1 \\\\\n",
    "0 & 0 & -1 & 0\n",
    "\\end{pmatrix}\n",
    "$$\n"
   ]
  },
  {
   "cell_type": "markdown",
   "id": "5c476190-4393-47d3-a3ee-b31ffa5540b9",
   "metadata": {},
   "source": [
    "> $IJ$\n",
    "\n",
    "$$\n",
    "IJ\n",
    "= \\begin{pmatrix}\n",
    "I_s & O\\\\\n",
    "O & I_s\n",
    "\\end{pmatrix}\n",
    "\\begin{pmatrix}\n",
    "O & J_1 \\\\\n",
    "J_2 & O\n",
    "\\end{pmatrix}\n",
    "$$"
   ]
  },
  {
   "cell_type": "markdown",
   "id": "92997f60-4de5-4e60-9cf1-39dd46e70cf9",
   "metadata": {},
   "source": []
  },
  {
   "cell_type": "code",
   "execution_count": null,
   "id": "57d30f5c-7f98-4251-beab-9189909557d2",
   "metadata": {},
   "outputs": [],
   "source": []
  },
  {
   "cell_type": "markdown",
   "id": "16834431-f0bf-45cf-a00f-7a098100484c",
   "metadata": {},
   "source": [
    "## 3.4\n",
    "\n",
    "> $A_{12}, A_{13}, A_{22}, A_{23}, A_{33}, B_{11}, B_{12}, B_{13}, B_{23}, B_{33}, C_{11}, C_{12}, C_{13}, C_{22}, C_{23}$ を$n$次の正方行列、$O$を$n$次の零行列とする。次の計算をせよ。\n",
    "> $\n",
    "\\left(\\begin{array}{ccc}\n",
    "O & A_{12} & A_{13} \\\\\n",
    "O & A_{22} & A_{23} \\\\\n",
    "O & O & A_{33}\n",
    "\\end{array}\\right)\\left(\\begin{array}{ccc}\n",
    "B_{11} & B_{12} & B_{13} \\\\\n",
    "O & O & B_{23} \\\\\n",
    "O & O & B_{33}\n",
    "\\end{array}\\right)\\left(\\begin{array}{ccc}\n",
    "C_{11} & C_{12} & C_{13} \\\\\n",
    "O & C_{22} & C_{23} \\\\\n",
    "O & O & O\n",
    "\\end{array}\\right)\n",
    "$"
   ]
  },
  {
   "cell_type": "code",
   "execution_count": null,
   "id": "51a0bd7f-d508-4553-8377-911cd6f5a7a5",
   "metadata": {},
   "outputs": [],
   "source": []
  }
 ],
 "metadata": {
  "kernelspec": {
   "display_name": "Python 3 (ipykernel)",
   "language": "python",
   "name": "python3"
  },
  "language_info": {
   "codemirror_mode": {
    "name": "ipython",
    "version": 3
   },
   "file_extension": ".py",
   "mimetype": "text/x-python",
   "name": "python",
   "nbconvert_exporter": "python",
   "pygments_lexer": "ipython3",
   "version": "3.9.18"
  }
 },
 "nbformat": 4,
 "nbformat_minor": 5
}
