{
 "cells": [
  {
   "cell_type": "markdown",
   "id": "823e78ed-6033-4a48-97b9-3ce69f076fc9",
   "metadata": {},
   "source": [
    "# 練習問題 メモ 3"
   ]
  },
  {
   "cell_type": "markdown",
   "id": "2b6c89c4-4a0b-44d5-a1e5-d02c163ed2f0",
   "metadata": {},
   "source": [
    "## 3.1\n",
    "\n",
    "> $A$ を $k \\times l$ 行列、 $B$ を $k \\times n$ 行列、 $C$ を $m \\times n$ 行列とする。分割された $(k+m) \\times(l+n)$行列に対する次の計算をせよ。\n",
    "> $\n",
    "\\left(\\begin{array}{cc}\n",
    "A & B \\\\\n",
    "O_{m, l} & C\n",
    "\\end{array}\\right)+\\left(\\begin{array}{cc}\n",
    "A & -B \\\\\n",
    "O_{m, l} & -2 C\n",
    "\\end{array}\\right)\n",
    "$"
   ]
  },
  {
   "cell_type": "markdown",
   "id": "8a69662e-97a2-4d22-bd40-bb39e1b3a382",
   "metadata": {},
   "source": [
    "$$\n",
    "\\left(\\begin{array}{cc}\n",
    "A & B \\\\\n",
    "O_{m, l} & C\n",
    "\\end{array}\\right)\n",
    "+\n",
    "\\left(\\begin{array}{cc}\n",
    "A & -B \\\\\n",
    "O_{m, l} & -2 C\n",
    "\\end{array}\\right)\n",
    "=\n",
    "\\left(\\begin{array}{cc}\n",
    "A+A & B-B \\\\\n",
    "O_{m, l}-O_{m, l} & C-2 C\n",
    "\\end{array}\\right)\n",
    "=\n",
    "\\left(\\begin{array}{cc}\n",
    "2A & O_{k,n} \\\\\n",
    "O_{m, l} & -C\n",
    "\\end{array}\\right)\n",
    "$$"
   ]
  },
  {
   "cell_type": "markdown",
   "id": "edc0dbfe-5e0a-40bf-9ac4-0d239476077f",
   "metadata": {},
   "source": [
    "## 3.2\n",
    "\n",
    "> $A$ を $m \\times n$ 行列とする。分割された $(m+n)$ 次の正方行列 $\\left(\\begin{array}{cc}E_m & A \\\\ O_{n, m} & E_n\\end{array}\\right)$の3乗を計算せよ。"
   ]
  },
  {
   "cell_type": "markdown",
   "id": "fd4948ad-388e-472c-a8d2-9946f06a8b0f",
   "metadata": {},
   "source": [
    "$$\n",
    "\\left(\\begin{array}{cc}E_m & A \\\\ O_{n, m} & E_n\\end{array}\\right)^3\n",
    "= \\left(\\begin{array}{cc}\n",
    "    E_m^3 & 3A \\\\\n",
    "    O_{n, m} & E_n^3\n",
    "\\end{array}\\right)\n",
    "= \\left(\\begin{array}{cc}\n",
    "    E_m & 3A \\\\\n",
    "    O_{n, m} & E_n\n",
    "\\end{array}\\right)\n",
    "$$"
   ]
  },
  {
   "cell_type": "markdown",
   "id": "25f33bea-aca4-4ef2-9417-bc137a85c3ea",
   "metadata": {},
   "source": [
    "## 3.3\n",
    "\n",
    "> 4次の正方行列 $I, J, K$を\n",
    "> $\n",
    "I=\\left(\\begin{array}{cccc}\n",
    "0 & -1 & 0 & 0 \\\\\n",
    "1 & 0 & 0 & 0 \\\\\n",
    "0 & 0 & 0 & -1 \\\\\n",
    "0 & 0 & 1 & 0\n",
    "\\end{array}\\right), J=\\left(\\begin{array}{cccc}\n",
    "0 & 0 & -1 & 0 \\\\\n",
    "0 & 0 & 0 & 1 \\\\\n",
    "1 & 0 & 0 & 0 \\\\\n",
    "0 & -1 & 0 & 0\n",
    "\\end{array}\\right), K=\\left(\\begin{array}{cccc}\n",
    "0 & 0 & 0 & -1 \\\\\n",
    "0 & 0 & -1 & 0 \\\\\n",
    "0 & 1 & 0 & 0 \\\\\n",
    "1 & 0 & 0 & 0\n",
    "\\end{array}\\right)\n",
    "$\n",
    "> により定める。 $I, J, K$ を 2 次の正方行列を用いて分割することにより、積 $I^2, J^2$, $K^2, I J, J I, J K, K J, K I, I K$ を計算せよ。"
   ]
  },
  {
   "cell_type": "markdown",
   "id": "6625504b-21ce-4c98-b9f8-ce3493d8f36f",
   "metadata": {},
   "source": [
    "> $I^2$\n",
    "\n",
    "$$\n",
    "I =\n",
    "\\begin{pmatrix}\n",
    "I_s & O\\\\\n",
    "O & I_s\n",
    "\\end{pmatrix}\n",
    "$$\n",
    "\n",
    "とするとブロック行列の性質により\n",
    "\n",
    "$$\n",
    "I^2 =\n",
    "\\begin{pmatrix}\n",
    "I_s^2 & O\\\\\n",
    "O & I_s^2\n",
    "\\end{pmatrix}\n",
    "$$\n",
    "\n",
    "であり、\n",
    "\n",
    "$$\n",
    "I_s^2 = \n",
    "\\begin{pmatrix}\n",
    "0 & -1\\\\\n",
    "1 & 0\n",
    "\\end{pmatrix}\n",
    "\\begin{pmatrix}\n",
    "0 & -1\\\\\n",
    "1 & 0\n",
    "\\end{pmatrix}\n",
    "=\n",
    "\\begin{pmatrix}\n",
    "-1 & 0\\\\\n",
    "0 & -1\n",
    "\\end{pmatrix}\n",
    "$$\n",
    "\n",
    "なので\n",
    "\n",
    "$$\n",
    "I^2 =\n",
    "\\begin{pmatrix}\n",
    "-1 & 0 & 0 & 0 \\\\\n",
    "0 & -1 & 0 & 0 \\\\\n",
    "0 & 0 & -1 & 0 \\\\\n",
    "0 & 0 & 0 & -1\n",
    "\\end{pmatrix}\n",
    "$$\n"
   ]
  },
  {
   "cell_type": "code",
   "execution_count": 5,
   "id": "95b6f703-d866-4ebe-9117-6b9a5df4aea3",
   "metadata": {
    "tags": [
     "hide-input",
     "hide-output"
    ]
   },
   "outputs": [
    {
     "data": {
      "text/plain": [
       "array([[-1,  0,  0,  0],\n",
       "       [ 0, -1,  0,  0],\n",
       "       [ 0,  0, -1,  0],\n",
       "       [ 0,  0,  0, -1]])"
      ]
     },
     "execution_count": 5,
     "metadata": {},
     "output_type": "execute_result"
    }
   ],
   "source": [
    "import numpy as np\n",
    "I = np.array([\n",
    "    [0, -1, 0, 0],\n",
    "    [1, 0, 0, 0],\n",
    "    [0, 0, 0, -1],\n",
    "    [0, 0, 1, 0]\n",
    "])\n",
    "\n",
    "I @ I"
   ]
  },
  {
   "cell_type": "markdown",
   "id": "3ee79ac1-3924-4707-b5b5-d13d54712d07",
   "metadata": {},
   "source": [
    "> $J^2$\n",
    "\n",
    "$$\n",
    "J =\n",
    "\\begin{pmatrix}\n",
    "O & J_1 \\\\\n",
    "J_2 & O\n",
    "\\end{pmatrix}\n",
    "$$\n",
    "\n",
    "とすると\n",
    "\n",
    "$$\n",
    "J^2 =\n",
    "\\begin{pmatrix}\n",
    "J_1 J_2 & O\\\\\n",
    "O & J_1 J_2\n",
    "\\end{pmatrix}\n",
    "$$\n",
    "\n",
    "$$\n",
    "J_1 J_2\n",
    "=\n",
    "\\begin{pmatrix}\n",
    "-1 & 0 \\\\\n",
    "0 & 1\n",
    "\\end{pmatrix}\n",
    "\\begin{pmatrix}\n",
    "1 & 0 \\\\\n",
    "0 & -1\n",
    "\\end{pmatrix}\n",
    "=\n",
    "\\begin{pmatrix}\n",
    "-1 & 0 \\\\\n",
    "0 & -1\n",
    "\\end{pmatrix}\n",
    "$$\n",
    "\n",
    "\n",
    "$$\n",
    "J_2 J_1\n",
    "=\n",
    "\\begin{pmatrix}\n",
    "1 & 0 \\\\\n",
    "0 & -1\n",
    "\\end{pmatrix}\n",
    "\\begin{pmatrix}\n",
    "-1 & 0 \\\\\n",
    "0 & 1\n",
    "\\end{pmatrix}\n",
    "=\n",
    "\\begin{pmatrix}\n",
    "-1 & 0 \\\\\n",
    "0 & -1\n",
    "\\end{pmatrix}\n",
    "$$\n",
    "\n",
    "$$\n",
    "J^2 =\n",
    "\\begin{pmatrix}\n",
    "-1 & 0 & 0 & 0 \\\\\n",
    "0 & -1 & 0 & 0 \\\\\n",
    "0 & 0 & -1 & 0 \\\\\n",
    "0 & 0 & 0 & -1\n",
    "\\end{pmatrix}\n",
    "$$\n"
   ]
  },
  {
   "cell_type": "code",
   "execution_count": 6,
   "id": "f82690e3-0dff-450f-b335-1fa9899c4740",
   "metadata": {
    "tags": [
     "hide-input",
     "hide-output"
    ]
   },
   "outputs": [
    {
     "data": {
      "text/plain": [
       "array([[-1,  0,  0,  0],\n",
       "       [ 0, -1,  0,  0],\n",
       "       [ 0,  0, -1,  0],\n",
       "       [ 0,  0,  0, -1]])"
      ]
     },
     "execution_count": 6,
     "metadata": {},
     "output_type": "execute_result"
    }
   ],
   "source": [
    "import numpy as np\n",
    "J = np.array([\n",
    "    [0, 0, -1, 0],\n",
    "    [0, 0, 0, 1],\n",
    "    [1, 0, 0, 0],\n",
    "    [0, -1, 0, 0]\n",
    "])\n",
    "\n",
    "J @ J"
   ]
  },
  {
   "cell_type": "markdown",
   "id": "5b6df1aa-aa1f-4b9f-b609-4e44a7ab87a0",
   "metadata": {},
   "source": [
    "> $K^2$\n",
    "\n",
    "$$\n",
    "K =\n",
    "\\begin{pmatrix}\n",
    "O & K_1\\\\\n",
    "K_2 & O\n",
    "\\end{pmatrix}\n",
    "$$\n",
    "\n",
    "とすると\n",
    "\n",
    "$$\n",
    "K^2 =\n",
    "\\begin{pmatrix}\n",
    "K_1 K_2 & O\\\\\n",
    "O & K_2 K_1\\\\\n",
    "\\end{pmatrix}\n",
    "$$\n",
    "\n",
    "\n",
    "$$\n",
    "K_1 K_2\n",
    "=\n",
    "\\begin{pmatrix}\n",
    "0 & -1 \\\\\n",
    "-1 & 0\n",
    "\\end{pmatrix}\n",
    "\\begin{pmatrix}\n",
    "0 & 1 \\\\\n",
    "1 & 0\n",
    "\\end{pmatrix}\n",
    "=\n",
    "\\begin{pmatrix}\n",
    "-1 & 0 \\\\\n",
    "0 & -1\n",
    "\\end{pmatrix}\n",
    "$$\n",
    "\n",
    "$$\n",
    "K_2 K_1\n",
    "=\n",
    "\\begin{pmatrix}\n",
    "0 & 1 \\\\\n",
    "1 & 0\n",
    "\\end{pmatrix}\n",
    "\\begin{pmatrix}\n",
    "0 & -1 \\\\\n",
    "-1 & 0\n",
    "\\end{pmatrix}\n",
    "=\n",
    "\\begin{pmatrix}\n",
    "-1 & 0 \\\\\n",
    "0 & -1\n",
    "\\end{pmatrix}\n",
    "$$\n",
    "\n",
    "$$\n",
    "K^2 = \n",
    "\\begin{pmatrix}\n",
    "-1 & 0 & 0 & 0 \\\\\n",
    "0 & -1 & 0 & 0 \\\\\n",
    "0 & 0 & -1 & 0 \\\\\n",
    "0 & 0 & 0 & -1\n",
    "\\end{pmatrix}\n",
    "$$\n"
   ]
  },
  {
   "cell_type": "code",
   "execution_count": 7,
   "id": "b524fdaf-418d-425d-b39c-99a7c3d71572",
   "metadata": {
    "tags": [
     "hide-input",
     "hide-output"
    ]
   },
   "outputs": [
    {
     "data": {
      "text/plain": [
       "array([[-1,  0,  0,  0],\n",
       "       [ 0, -1,  0,  0],\n",
       "       [ 0,  0, -1,  0],\n",
       "       [ 0,  0,  0, -1]])"
      ]
     },
     "execution_count": 7,
     "metadata": {},
     "output_type": "execute_result"
    }
   ],
   "source": [
    "import numpy as np\n",
    "K = np.array([\n",
    "    [0, 0, 0, -1],\n",
    "    [0, 0, -1, 0],\n",
    "    [0, 1, 0, 0],\n",
    "    [1, 0, 0, 0]\n",
    "])\n",
    "\n",
    "K @ K"
   ]
  },
  {
   "cell_type": "markdown",
   "id": "5c476190-4393-47d3-a3ee-b31ffa5540b9",
   "metadata": {},
   "source": [
    "> $IJ$\n",
    "\n",
    "$$\n",
    "IJ\n",
    "= \\begin{pmatrix}\n",
    "I_s & O\\\\\n",
    "O & I_s\n",
    "\\end{pmatrix}\n",
    "\\begin{pmatrix}\n",
    "O & J_1 \\\\\n",
    "J_2 & O\n",
    "\\end{pmatrix}\n",
    "= \\begin{pmatrix}\n",
    "O & I_s J_1 \\\\\n",
    "I_s J_2 & O\n",
    "\\end{pmatrix}\n",
    "$$\n",
    "\n",
    "$$\n",
    "I_s J_1 = \n",
    "\\begin{pmatrix}\n",
    "0 & -1 \\\\\n",
    "1 & 0\n",
    "\\end{pmatrix}\n",
    "\\begin{pmatrix}\n",
    "-1 & 0 \\\\\n",
    "0 & 1\n",
    "\\end{pmatrix}\n",
    "=\n",
    "\\begin{pmatrix}\n",
    "0 & -1 \\\\\n",
    "-1 & 0\n",
    "\\end{pmatrix}\n",
    "$$\n",
    "\n",
    "$$\n",
    "I_s J_2 = \n",
    "\\begin{pmatrix}\n",
    "0 & -1 \\\\\n",
    "1 & 0\n",
    "\\end{pmatrix}\n",
    "\\begin{pmatrix}\n",
    "1 & 0 \\\\\n",
    "0 & -1\n",
    "\\end{pmatrix}\n",
    "=\n",
    "\\begin{pmatrix}\n",
    "0 & 1 \\\\\n",
    "1 & 0\n",
    "\\end{pmatrix}\n",
    "$$\n",
    "\n",
    "$$\n",
    "IJ = \\begin{pmatrix}\n",
    "0 & 0 & 0 & -1 \\\\\n",
    "0 & 0 & -1 & 0 \\\\\n",
    "0 & 1 & 0 & 0 \\\\\n",
    "1 & 0 & 0 & 0\n",
    "\\end{pmatrix}\n",
    "$$"
   ]
  },
  {
   "cell_type": "code",
   "execution_count": 8,
   "id": "f4152f03-d65f-472e-82f6-ca508967e4a7",
   "metadata": {
    "tags": [
     "hide-input",
     "hide-output"
    ]
   },
   "outputs": [
    {
     "data": {
      "text/plain": [
       "array([[ 0,  0,  0, -1],\n",
       "       [ 0,  0, -1,  0],\n",
       "       [ 0,  1,  0,  0],\n",
       "       [ 1,  0,  0,  0]])"
      ]
     },
     "execution_count": 8,
     "metadata": {},
     "output_type": "execute_result"
    }
   ],
   "source": [
    "I @ J"
   ]
  },
  {
   "cell_type": "markdown",
   "id": "667b3f1e-e774-44f9-9cba-9409e9ea232f",
   "metadata": {},
   "source": [
    "> $J I$\n",
    "\n",
    "$$\n",
    "JI\n",
    "=\n",
    "\\begin{pmatrix}\n",
    "O & J_1 \\\\\n",
    "J_2 & O\n",
    "\\end{pmatrix}\n",
    "\\begin{pmatrix}\n",
    "I_s & O\\\\\n",
    "O & I_s\n",
    "\\end{pmatrix}\n",
    "= \\begin{pmatrix}\n",
    "O & J_1 I_s\\\\\n",
    "J_2 I_s & O\n",
    "\\end{pmatrix}\n",
    "$$\n",
    "\n",
    "\n",
    "\n",
    "$$\n",
    "J_1 I_s = \n",
    "\\begin{pmatrix}\n",
    "-1 & 0 \\\\\n",
    "0 & 1\n",
    "\\end{pmatrix}\n",
    "\\begin{pmatrix}\n",
    "0 & -1 \\\\\n",
    "1 & 0\n",
    "\\end{pmatrix}\n",
    "=\n",
    "\\begin{pmatrix}\n",
    "0 & 1 \\\\\n",
    "1 & 0\n",
    "\\end{pmatrix}\n",
    "$$\n",
    "\n",
    "$$\n",
    "J_2 I_s = \n",
    "\\begin{pmatrix}\n",
    "1 & 0 \\\\\n",
    "0 & -1\n",
    "\\end{pmatrix}\n",
    "\\begin{pmatrix}\n",
    "0 & -1 \\\\\n",
    "1 & 0\n",
    "\\end{pmatrix}\n",
    "=\n",
    "\\begin{pmatrix}\n",
    "0 & -1 \\\\\n",
    "-1 & 0\n",
    "\\end{pmatrix}\n",
    "$$\n",
    "\n",
    "\n",
    "$$\n",
    "JI =\n",
    "\\begin{pmatrix}\n",
    "0 & 0 & 0 & 1 \\\\\n",
    "0 & 0 & 1 & 0 \\\\\n",
    "0 & -1 & 0 & 0 \\\\\n",
    "-1 & 0 & 0 & 0\n",
    "\\end{pmatrix}\n",
    "$$"
   ]
  },
  {
   "cell_type": "code",
   "execution_count": 9,
   "id": "1f430a6a-09df-4814-ad25-6e5c440b9ccb",
   "metadata": {
    "tags": [
     "hide-input",
     "hide-output"
    ]
   },
   "outputs": [
    {
     "data": {
      "text/plain": [
       "array([[ 0,  0,  0,  1],\n",
       "       [ 0,  0,  1,  0],\n",
       "       [ 0, -1,  0,  0],\n",
       "       [-1,  0,  0,  0]])"
      ]
     },
     "execution_count": 9,
     "metadata": {},
     "output_type": "execute_result"
    }
   ],
   "source": [
    "J @ I"
   ]
  },
  {
   "cell_type": "markdown",
   "id": "92997f60-4de5-4e60-9cf1-39dd46e70cf9",
   "metadata": {},
   "source": [
    "> $J K$\n",
    "\n",
    "$$\n",
    "J K =\n",
    "\\begin{pmatrix}\n",
    "O & J_1 \\\\\n",
    "J_2 & O\n",
    "\\end{pmatrix}\n",
    "\\begin{pmatrix}\n",
    "O & K_1\\\\\n",
    "K_2 & O\n",
    "\\end{pmatrix}\n",
    "=\n",
    "\\begin{pmatrix}\n",
    "J_1 K_2 & O\\\\\n",
    "O & J_2 K_1\n",
    "\\end{pmatrix}\n",
    "$$\n",
    "\n",
    "\n",
    "$$\n",
    "J_1 K_2 =\n",
    "\\begin{pmatrix}\n",
    "-1 & 0\\\\\n",
    "0 & 1\n",
    "\\end{pmatrix}\n",
    "\\begin{pmatrix}\n",
    "0 & 1\\\\\n",
    "1 & 0\n",
    "\\end{pmatrix}\n",
    "= \n",
    "\\begin{pmatrix}\n",
    "0 & -1\\\\\n",
    "1 & 0\n",
    "\\end{pmatrix}\n",
    "$$\n",
    "\n",
    "\n",
    "$$\n",
    "J_2 K_1 =\n",
    "\\begin{pmatrix}\n",
    "1 & 0\\\\\n",
    "0 & -1\n",
    "\\end{pmatrix}\n",
    "\\begin{pmatrix}\n",
    "0 & -1\\\\\n",
    "-1 & 0\n",
    "\\end{pmatrix}\n",
    "=\n",
    "\\begin{pmatrix}\n",
    "0 & -1\\\\\n",
    "1 & 0\n",
    "\\end{pmatrix}\n",
    "$$\n",
    "\n",
    "$$\n",
    "JK =\n",
    "\\begin{pmatrix}\n",
    "0 & -1 & 0 & 0 \\\\\n",
    "1 & 0 & 0 & 0 \\\\\n",
    "0 & 0 & 0 & -1 \\\\\n",
    "0 & 0 & 1 & 0\n",
    "\\end{pmatrix}\n",
    "$$"
   ]
  },
  {
   "cell_type": "code",
   "execution_count": 10,
   "id": "4fc5d612-be73-4a38-b597-b1bce52ae597",
   "metadata": {
    "tags": [
     "hide-input",
     "hide-output"
    ]
   },
   "outputs": [
    {
     "data": {
      "text/plain": [
       "array([[ 0, -1,  0,  0],\n",
       "       [ 1,  0,  0,  0],\n",
       "       [ 0,  0,  0, -1],\n",
       "       [ 0,  0,  1,  0]])"
      ]
     },
     "execution_count": 10,
     "metadata": {},
     "output_type": "execute_result"
    }
   ],
   "source": [
    "J @ K"
   ]
  },
  {
   "cell_type": "markdown",
   "id": "08997246-39de-48f2-85ed-7ad94a8d3f0d",
   "metadata": {},
   "source": [
    "> $K J$\n",
    "\n",
    "$$\n",
    "K J =\n",
    "\\begin{pmatrix}\n",
    "O & K_1\\\\\n",
    "K_2 & O\n",
    "\\end{pmatrix}\n",
    "\\begin{pmatrix}\n",
    "O & J_1 \\\\\n",
    "J_2 & O\n",
    "\\end{pmatrix}\n",
    "=\n",
    "\\begin{pmatrix}\n",
    "K_1 J_2 & O\\\\\n",
    "O & K_2 J_1\n",
    "\\end{pmatrix}\n",
    "$$\n",
    "\n",
    "\n",
    "$$\n",
    "K_2 J_1 =\n",
    "\\begin{pmatrix}\n",
    "0 & 1\\\\\n",
    "1 & 0\n",
    "\\end{pmatrix}\n",
    "\\begin{pmatrix}\n",
    "-1 & 0\\\\\n",
    "0 & 1\n",
    "\\end{pmatrix}\n",
    "= \n",
    "\\begin{pmatrix}\n",
    "0 & 1\\\\\n",
    "-1 & 0\\\\\n",
    "\\end{pmatrix}\n",
    "$$\n",
    "\n",
    "\n",
    "$$\n",
    "K_1 J_2 =\n",
    "\\begin{pmatrix}\n",
    "0 & -1\\\\\n",
    "-1 & 0\n",
    "\\end{pmatrix}\n",
    "\\begin{pmatrix}\n",
    "1 & 0\\\\\n",
    "0 & -1\n",
    "\\end{pmatrix}\n",
    "=\n",
    "\\begin{pmatrix}\n",
    "0 & 1\\\\\n",
    "-1 & 0\n",
    "\\end{pmatrix}\n",
    "$$\n",
    "\n",
    "$$\n",
    "KJ =\n",
    "\\begin{pmatrix}\n",
    "0 & 1 & 0 & 0 \\\\\n",
    "-1 & 0 & 0 & 0 \\\\\n",
    "0 & 0 & 0 & 1 \\\\\n",
    "0 & 0 & -1 & 0\n",
    "\\end{pmatrix}\n",
    "$$"
   ]
  },
  {
   "cell_type": "code",
   "execution_count": 11,
   "id": "88a3891d-dd1b-45ca-9ae9-fdb752a186d0",
   "metadata": {
    "tags": [
     "hide-input",
     "hide-output"
    ]
   },
   "outputs": [
    {
     "data": {
      "text/plain": [
       "array([[ 0,  1,  0,  0],\n",
       "       [-1,  0,  0,  0],\n",
       "       [ 0,  0,  0,  1],\n",
       "       [ 0,  0, -1,  0]])"
      ]
     },
     "execution_count": 11,
     "metadata": {},
     "output_type": "execute_result"
    }
   ],
   "source": [
    "K @ J"
   ]
  },
  {
   "cell_type": "markdown",
   "id": "b240c5d8-3ee0-468f-a095-b127f10d85c2",
   "metadata": {},
   "source": [
    "> $K I$\n",
    "\n",
    "$$\n",
    "K I =\n",
    "\\begin{pmatrix}\n",
    "O & K_1\\\\\n",
    "K_2 & O\n",
    "\\end{pmatrix}\n",
    "\\begin{pmatrix}\n",
    "I_s & O \\\\\n",
    "O & I_s\n",
    "\\end{pmatrix}\n",
    "=\n",
    "\\begin{pmatrix}\n",
    "O & K_1 I_s\\\\\n",
    "K_2 I_s & O\n",
    "\\end{pmatrix}\n",
    "$$\n",
    "\n",
    "$$\n",
    "K_1 I_s =\n",
    "\\begin{pmatrix}\n",
    "0 & -1\\\\\n",
    "-1 & 0\n",
    "\\end{pmatrix}\n",
    "\\begin{pmatrix}\n",
    "0 & -1\\\\\n",
    "1 & 0\n",
    "\\end{pmatrix}\n",
    "=\n",
    "\\begin{pmatrix}\n",
    "-1 & 0\\\\\n",
    "0 & 1\n",
    "\\end{pmatrix}\n",
    "$$\n",
    "\n",
    "$$\n",
    "K_2 I_s =\n",
    "\\begin{pmatrix}\n",
    "0 & 1\\\\\n",
    "1 & 0\n",
    "\\end{pmatrix}\n",
    "\\begin{pmatrix}\n",
    "0 & -1\\\\\n",
    "1 & 0\n",
    "\\end{pmatrix}\n",
    "= \n",
    "\\begin{pmatrix}\n",
    "1 & 0\\\\\n",
    "0 & -1\\\\\n",
    "\\end{pmatrix}\n",
    "$$\n",
    "\n",
    "$$\n",
    "KI =\n",
    "\\begin{pmatrix}\n",
    "0 & 0 & -1 & 0 \\\\\n",
    "0 & 0 & 0 & 1 \\\\\n",
    "1 & 0 & 0 & 0 \\\\\n",
    "0 & -1 & 0 & 0\n",
    "\\end{pmatrix}\n",
    "$$"
   ]
  },
  {
   "cell_type": "code",
   "execution_count": 12,
   "id": "cc056181-3726-478c-b003-b874a04cedff",
   "metadata": {
    "tags": [
     "hide-input",
     "hide-output"
    ]
   },
   "outputs": [
    {
     "data": {
      "text/plain": [
       "array([[ 0,  0, -1,  0],\n",
       "       [ 0,  0,  0,  1],\n",
       "       [ 1,  0,  0,  0],\n",
       "       [ 0, -1,  0,  0]])"
      ]
     },
     "execution_count": 12,
     "metadata": {},
     "output_type": "execute_result"
    }
   ],
   "source": [
    "K @ I"
   ]
  },
  {
   "cell_type": "markdown",
   "id": "66e9586e-caa9-4e81-bd31-c6ebd8900196",
   "metadata": {},
   "source": [
    "> $I K$\n",
    "\n",
    "$$\n",
    "I K =\n",
    "\\begin{pmatrix}\n",
    "I_s & O \\\\\n",
    "O & I_s\n",
    "\\end{pmatrix}\n",
    "\\begin{pmatrix}\n",
    "O & K_1\\\\\n",
    "K_2 & O\n",
    "\\end{pmatrix}\n",
    "=\n",
    "\\begin{pmatrix}\n",
    "O & I_s K_1\\\\\n",
    "I_s K_2 & O\n",
    "\\end{pmatrix}\n",
    "$$\n",
    "\n",
    "$$\n",
    "I_s K_1 =\n",
    "\\begin{pmatrix}\n",
    "0 & -1\\\\\n",
    "1 & 0\n",
    "\\end{pmatrix}\n",
    "\\begin{pmatrix}\n",
    "0 & -1\\\\\n",
    "-1 & 0\n",
    "\\end{pmatrix}\n",
    "=\n",
    "\\begin{pmatrix}\n",
    "1 & 0 \\\\\n",
    "0 & -1\n",
    "\\end{pmatrix}\n",
    "$$\n",
    "\n",
    "$$\n",
    "I_s K_2 =\n",
    "\\begin{pmatrix}\n",
    "0 & -1\\\\\n",
    "1 & 0\n",
    "\\end{pmatrix}\n",
    "\\begin{pmatrix}\n",
    "0 & 1\\\\\n",
    "1 & 0\n",
    "\\end{pmatrix}\n",
    "= \n",
    "\\begin{pmatrix}\n",
    "-1 & 0\\\\\n",
    "0 & 1\n",
    "\\end{pmatrix}\n",
    "$$\n",
    "\n",
    "$$\n",
    "IK =\n",
    "\\begin{pmatrix}\n",
    "0 & 0 & 1 & 0 \\\\\n",
    "0 & 0 & 0 & -1 \\\\\n",
    "-1 & 0 & 0 & 0 \\\\\n",
    "0 & 1 & 0 & 0\n",
    "\\end{pmatrix}\n",
    "$$"
   ]
  },
  {
   "cell_type": "code",
   "execution_count": 13,
   "id": "28cca135-6039-4f00-88d6-4eab2104e5c7",
   "metadata": {
    "tags": [
     "hide-input",
     "hide-output"
    ]
   },
   "outputs": [
    {
     "data": {
      "text/plain": [
       "array([[ 0,  0,  1,  0],\n",
       "       [ 0,  0,  0, -1],\n",
       "       [-1,  0,  0,  0],\n",
       "       [ 0,  1,  0,  0]])"
      ]
     },
     "execution_count": 13,
     "metadata": {},
     "output_type": "execute_result"
    }
   ],
   "source": [
    "I @ K"
   ]
  },
  {
   "cell_type": "markdown",
   "id": "16834431-f0bf-45cf-a00f-7a098100484c",
   "metadata": {},
   "source": [
    "## 3.4\n",
    "\n",
    "> $A_{12}, A_{13}, A_{22}, A_{23}, A_{33}, B_{11}, B_{12}, B_{13}, B_{23}, B_{33}, C_{11}, C_{12}, C_{13}, C_{22}, C_{23}$ を$n$次の正方行列、$O$を$n$次の零行列とする。次の計算をせよ。\n",
    "> $\n",
    "\\left(\\begin{array}{ccc}\n",
    "O & A_{12} & A_{13} \\\\\n",
    "O & A_{22} & A_{23} \\\\\n",
    "O & O & A_{33}\n",
    "\\end{array}\\right)\\left(\\begin{array}{ccc}\n",
    "B_{11} & B_{12} & B_{13} \\\\\n",
    "O & O & B_{23} \\\\\n",
    "O & O & B_{33}\n",
    "\\end{array}\\right)\\left(\\begin{array}{ccc}\n",
    "C_{11} & C_{12} & C_{13} \\\\\n",
    "O & C_{22} & C_{23} \\\\\n",
    "O & O & O\n",
    "\\end{array}\\right)\n",
    "$"
   ]
  },
  {
   "cell_type": "markdown",
   "id": "21890525-90b8-4952-9b98-8fac101f52ee",
   "metadata": {},
   "source": [
    "$$\n",
    "\\begin{pmatrix}\n",
    "O & A_{12} & A_{13} \\\\\n",
    "O & A_{22} & A_{23} \\\\\n",
    "O & O & A_{33}\n",
    "\\end{pmatrix}\n",
    "\\begin{pmatrix}\n",
    "B_{11} & B_{12} & B_{13} \\\\\n",
    "O & O & B_{23} \\\\\n",
    "O & O & B_{33}\n",
    "\\end{pmatrix}\n",
    "=\n",
    "\\begin{pmatrix}\n",
    "O & O & A_{12} B_{23} + A_{13} B_{33}\\\\\n",
    "O & O & A_{22} B_{23} + A_{23} B_{33}\\\\\n",
    "O & O & A_{33} B_{33}\n",
    "\\end{pmatrix}\n",
    "$$\n"
   ]
  },
  {
   "cell_type": "markdown",
   "id": "18bbb3e2-b41b-467c-ad62-f107985b0c9a",
   "metadata": {},
   "source": [
    "$$\n",
    "\\begin{pmatrix}\n",
    "O & O & A_{12} B_{23} + A_{13} B_{33}\\\\\n",
    "O & O & A_{22} B_{23} + A_{23} B_{33}\\\\\n",
    "O & O & A_{33} B_{33}\n",
    "\\end{pmatrix}\n",
    "\\begin{pmatrix}\n",
    "C_{11} & C_{12} & C_{13} \\\\\n",
    "O & C_{22} & C_{23} \\\\\n",
    "O & O & O\n",
    "\\end{pmatrix}\n",
    "$$"
   ]
  },
  {
   "cell_type": "markdown",
   "id": "107214bf-6a67-4fb1-ab80-c84de49f1a48",
   "metadata": {},
   "source": [
    "$$\n",
    "\\begin{pmatrix}\n",
    "O & O & A_{12} B_{23} + A_{13} B_{33}\\\\\n",
    "O & O & A_{22} B_{23} + A_{23} B_{33}\\\\\n",
    "O & O & A_{33} B_{33}\n",
    "\\end{pmatrix}\n",
    "\\begin{pmatrix}\n",
    "C_{11} & C_{12} & C_{13} \\\\\n",
    "O & C_{22} & C_{23} \\\\\n",
    "O & O & O\n",
    "\\end{pmatrix}\n",
    "=\n",
    "\\begin{pmatrix}\n",
    "O & O & O\\\\\n",
    "O & O & O\\\\\n",
    "O & O & O\n",
    "\\end{pmatrix}\n",
    "= O\n",
    "$$"
   ]
  },
  {
   "cell_type": "code",
   "execution_count": 23,
   "id": "51a0bd7f-d508-4553-8377-911cd6f5a7a5",
   "metadata": {
    "tags": [
     "hide-input",
     "hide-output"
    ]
   },
   "outputs": [],
   "source": [
    "# 検算\n",
    "from sympy import symbols, Matrix\n",
    "A_12, A_13, A_22, A_23, A_33 = symbols(\"A_12, A_13, A_22, A_23, A_33\")\n",
    "B_11, B_12, B_13, B_23, B_33 = symbols(\"B_11, B_12, B_13, B_23, B_33\")\n",
    "C_11, C_12, C_13, C_22, C_23 = symbols(\"C_11, C_12, C_13, C_22, C_23\")\n",
    "\n",
    "A = Matrix([\n",
    "    [0, A_12, A_13],\n",
    "    [0, A_22, A_23],\n",
    "    [0, 0, A_33]\n",
    "])\n",
    "\n",
    "\n",
    "B = Matrix([\n",
    "    [B_11, B_12, B_13],\n",
    "    [0, 0, B_23],\n",
    "    [0, 0, B_33]\n",
    "])\n",
    "\n",
    "C = Matrix([\n",
    "    [C_11, C_12, C_13],\n",
    "    [0, C_22, C_23],\n",
    "    [0, 0, 0]\n",
    "])"
   ]
  },
  {
   "cell_type": "code",
   "execution_count": 21,
   "id": "8e00ac15-7b58-4026-9bf5-d0fc46a6089c",
   "metadata": {
    "tags": [
     "hide-input",
     "hide-output"
    ]
   },
   "outputs": [
    {
     "data": {
      "text/latex": [
       "$\\displaystyle \\left[\\begin{matrix}0 & 0 & A_{12} B_{23} + A_{13} B_{33}\\\\0 & 0 & A_{22} B_{23} + A_{23} B_{33}\\\\0 & 0 & A_{33} B_{33}\\end{matrix}\\right]$"
      ],
      "text/plain": [
       "Matrix([\n",
       "[0, 0, A_12*B_23 + A_13*B_33],\n",
       "[0, 0, A_22*B_23 + A_23*B_33],\n",
       "[0, 0,             A_33*B_33]])"
      ]
     },
     "execution_count": 21,
     "metadata": {},
     "output_type": "execute_result"
    }
   ],
   "source": [
    "A @ B"
   ]
  },
  {
   "cell_type": "code",
   "execution_count": 22,
   "id": "61435efd-45b1-4cff-82d7-9d083701eaf5",
   "metadata": {
    "tags": [
     "hide-input",
     "hide-output"
    ]
   },
   "outputs": [
    {
     "data": {
      "text/latex": [
       "$\\displaystyle \\left[\\begin{matrix}0 & 0 & 0\\\\0 & 0 & 0\\\\0 & 0 & 0\\end{matrix}\\right]$"
      ],
      "text/plain": [
       "Matrix([\n",
       "[0, 0, 0],\n",
       "[0, 0, 0],\n",
       "[0, 0, 0]])"
      ]
     },
     "execution_count": 22,
     "metadata": {},
     "output_type": "execute_result"
    }
   ],
   "source": [
    "A @ B @ C"
   ]
  }
 ],
 "metadata": {
  "kernelspec": {
   "display_name": "Python 3 (ipykernel)",
   "language": "python",
   "name": "python3"
  },
  "language_info": {
   "codemirror_mode": {
    "name": "ipython",
    "version": 3
   },
   "file_extension": ".py",
   "mimetype": "text/x-python",
   "name": "python",
   "nbconvert_exporter": "python",
   "pygments_lexer": "ipython3",
   "version": "3.9.18"
  }
 },
 "nbformat": 4,
 "nbformat_minor": 5
}
