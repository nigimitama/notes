{
 "cells": [
  {
   "cell_type": "markdown",
   "id": "250945a9-68e5-4992-9d7d-7fb9fd0216d6",
   "metadata": {},
   "source": [
    "# 練習問題メモ 6（正則行列）"
   ]
  },
  {
   "cell_type": "markdown",
   "id": "d044fa79-cbf7-4b83-b425-f02a38857649",
   "metadata": {},
   "source": [
    "## 6.1\n",
    "\n",
    "> 次の問いに答えよ。\n",
    ">\n",
    "> 1.正則行列の定義を書け。"
   ]
  },
  {
   "cell_type": "markdown",
   "id": "e6224d56-1e99-4fac-a492-7abe8935b65d",
   "metadata": {},
   "source": [
    "$n$次正方行列$A$に対し\n",
    "\n",
    "$$\n",
    "A^{-1}A = AA^{-1} = I\n",
    "$$\n",
    "\n",
    "を満たす正方行列$A^{-1}$が存在する行列$A$を正則行列という\n",
    "\n",
    "\n",
    "また、正則行列であるための必要十分条件は$\\operatorname{det}(A) \\neq 0$である"
   ]
  },
  {
   "cell_type": "markdown",
   "id": "9c4eb84b-4045-4ee6-9ef0-c8d935b3c8e5",
   "metadata": {},
   "source": [
    "> 2.次の(ア)、(イ)の正則行列の逆行列を求めよ。\n",
    "> $$\n",
    "\\text { (ア) }\\left(\\begin{array}{lll}\n",
    "1 & a & b \\\\\n",
    "0 & 1 & c \\\\\n",
    "0 & 0 & 1\n",
    "\\end{array}\\right) \\quad \\text { (イ) }\\left(\\begin{array}{lll}\n",
    "1 & 1 & 1 \\\\\n",
    "1 & 1 & 2 \\\\\n",
    "1 & 2 & 1\n",
    "\\end{array}\\right)\n",
    "$$"
   ]
  },
  {
   "cell_type": "markdown",
   "id": "581d18d8-f7f9-4403-a8eb-226d2c837644",
   "metadata": {},
   "source": [
    "### 2. (ア)"
   ]
  },
  {
   "cell_type": "markdown",
   "id": "0bbd1c8e-bd28-48a3-889f-41aef4175545",
   "metadata": {},
   "source": [
    "$$\n",
    "A = \\left(\\begin{array}{lll}\n",
    "1 & a & b \\\\\n",
    "0 & 1 & c \\\\\n",
    "0 & 0 & 1\n",
    "\\end{array}\\right)\n",
    "$$\n",
    "\n",
    "とおくと、\n",
    "\n",
    "$$\n",
    "A^{-1} = \\frac{1}{|A|} \\tilde{A}\n",
    "$$\n",
    "\n",
    "（$\\tilde{A}$は余因子行列）\n",
    "\n",
    "なので、行列式と余因子行列を求めていく。\n",
    "\n",
    "まず行列式は\n",
    "\n",
    "$$\n",
    "|A| = 1^3 + a \\cdot c \\cdot 0 + 0 \\cdot 0 \\cdot b\n",
    "    - 1 \\cdot c \\cdot 0 - a \\cdot 0 \\cdot 1 - b \\cdot 1 \\cdot 0\\\\\n",
    "    = 1\n",
    "$$\n",
    "\n",
    "なので\n",
    "\n",
    "$$\n",
    "A^{-1} = \\frac{1}{1} \\tilde{A}\n",
    "\\to A^{-1} = \\tilde{A}\n",
    "$$\n",
    "\n",
    "であることがわかる"
   ]
  },
  {
   "cell_type": "markdown",
   "id": "b6905a92-785d-4237-8fec-a7a271b4d3ae",
   "metadata": {},
   "source": [
    "余因子行列は\n",
    "\n",
    "$$\n",
    "\\begin{align}\n",
    "\\tilde{A_{11}} &= (-1)^{1+1} |A_{11}| = 1 \\times 1 = 1\\\\\n",
    "\\tilde{A_{12}} &= (-1)^{1+2} |A_{12}| = -1 \\times 0 = 0\\\\\n",
    "\\tilde{A_{13}} &= (-1)^{1+3} |A_{13}| = 1 \\times 0 = 0\\\\\n",
    "\\tilde{A_{21}} &= (-1)^{2+1} |A_{21}| = -1 \\times a = -a\\\\\n",
    "\\tilde{A_{22}} &= (-1)^{2+2} |A_{22}| = 1 \\times 1 = 1\\\\\n",
    "\\tilde{A_{23}} &= (-1)^{2+3} |A_{23}| = -1 \\times 0 = 0\\\\\n",
    "\\tilde{A_{31}} &= (-1)^{3+1} |A_{31}| = 1 \\times (ac-b) = ac-b\\\\\n",
    "\\tilde{A_{32}} &= (-1)^{3+2} |A_{32}| = -1 \\times c = -c\\\\\n",
    "\\tilde{A_{33}} &= (-1)^{3+3} |A_{33}| = 1 \\times 1 = 1\\\\\n",
    "\\end{align}\n",
    "$$\n",
    "\n",
    "$$\n",
    "\\tilde{A} =\n",
    "\\begin{pmatrix}\n",
    "1 & 0 & 0\\\\\n",
    "-a & 1 & 0\\\\\n",
    "ac-b & -c & 1\n",
    "\\end{pmatrix}\n",
    "= A^{-1}\n",
    "$$"
   ]
  },
  {
   "cell_type": "markdown",
   "id": "5c6befac-eb93-4df3-9597-91c3889f845b",
   "metadata": {},
   "source": [
    "$$\n",
    "A^{-1} A =\n",
    "\\begin{pmatrix}\n",
    "1 & 0 & 0\\\\\n",
    "-a & 1 & 0\\\\\n",
    "ac-b & -c & 1\n",
    "\\end{pmatrix}\n",
    "\\begin{pmatrix}\n",
    "1 & a & b \\\\\n",
    "0 & 1 & c \\\\\n",
    "0 & 0 & 1\n",
    "\\end{pmatrix}\n",
    "=\n",
    "\\begin{pmatrix}\n",
    "1 & a & b \\\\\n",
    "-a & -a^2+1 & -ab+c \\\\\n",
    "ac-b & a^c-ab -c & abc-b^2 - c^2 + 1\n",
    "\\end{pmatrix}\n",
    "$$\n",
    "\n",
    "きちんと逆行列が計算できているならこの積は単位行列になるはずなので、$a,b,c$はすべてゼロのはず\n",
    "\n",
    "よって\n",
    "\n",
    "$$\n",
    "A^{-1} = \n",
    "\\begin{pmatrix}\n",
    "1 & 0 & 0\\\\\n",
    "0 & 1 & 0\\\\\n",
    "0 & 0 & 1\n",
    "\\end{pmatrix}\n",
    "$$"
   ]
  },
  {
   "cell_type": "markdown",
   "id": "ecf45f2c-34d6-4e42-991f-28bc81bc2e53",
   "metadata": {},
   "source": [
    "### 2. (イ)\n",
    "\n",
    "$$\n",
    "A = \n",
    "\\left(\\begin{array}{lll}\n",
    "1 & 1 & 1 \\\\\n",
    "1 & 1 & 2 \\\\\n",
    "1 & 2 & 1\n",
    "\\end{array}\\right)\n",
    "$$\n",
    "\n",
    "とおく。"
   ]
  },
  {
   "cell_type": "markdown",
   "id": "aff4e3b3-dad0-429e-b3a6-9cb40086b8fd",
   "metadata": {},
   "source": [
    "$$\n",
    "|A| = 1^3 + 1^2 \\times 2 + 1^2 \\times 2\n",
    "    - 1 \\times 2^2 - 1^3 - 1^3\\\\\n",
    "    = 1 + 2 + 2 - 4 - 1 - 1\\\\\n",
    "    = -1\n",
    "$$"
   ]
  },
  {
   "cell_type": "markdown",
   "id": "8a3c4b4b-5f07-4d51-b987-40dbd68b4eee",
   "metadata": {},
   "source": [
    "$$\n",
    "\\begin{align}\n",
    "\\tilde{A}_{11} = (-1)^{1+1} |A_{11}| = 1 \\times (1^2 - 2^2) = -3\\\\\n",
    "\\tilde{A}_{12} = (-1)^{1+2} |A_{12}| = -1 \\times (1 - 2) = 1\\\\\n",
    "\\tilde{A}_{13} = (-1)^{1+3} |A_{13}| = 1 \\times (2 - 1) = 1\\\\\n",
    "\\tilde{A}_{21} = (-1)^{2+1} |A_{21}| = -1 \\times (1 - 2) = 1\\\\\n",
    "\\tilde{A}_{22} = (-1)^{2+2} |A_{22}| = 1 \\times (1 - 1) = 0\\\\\n",
    "\\tilde{A}_{23} = (-1)^{2+3} |A_{23}| = -1 \\times (2 - 1) = -1\\\\\n",
    "\\tilde{A}_{31} = (-1)^{3+1} |A_{31}| = 1 \\times (2 - 1) = 1\\\\\n",
    "\\tilde{A}_{32} = (-1)^{3+2} |A_{32}| = -1 \\times (2 - 1) = -1\\\\\n",
    "\\tilde{A}_{33} = (-1)^{3+3} |A_{33}| = 1 \\times (1 - 1) = 0\\\\\n",
    "\\end{align}\n",
    "$$\n",
    "\n",
    "$$\n",
    "\\tilde{A} = \\begin{pmatrix}\n",
    "-3 & 1 & 1\\\\\n",
    "1 & 0 & -1\\\\\n",
    "1 & -1 & 0\n",
    "\\end{pmatrix}\n",
    "$$"
   ]
  },
  {
   "cell_type": "markdown",
   "id": "6860301e-641b-4c4c-ac91-15fd8ca18bde",
   "metadata": {},
   "source": [
    "$$\n",
    "A^{-1} = \\frac{1}{|A|} \\tilde{A}\n",
    "= - \\tilde{A}\n",
    "= \\begin{pmatrix}\n",
    "3 & -1 & -1\\\\\n",
    "-1 & 0 & 1\\\\\n",
    "-1 & 1 & 0\n",
    "\\end{pmatrix}\n",
    "$$"
   ]
  },
  {
   "cell_type": "code",
   "execution_count": 31,
   "id": "42d2637c-080a-4ce3-a257-cb6f962320d2",
   "metadata": {
    "tags": [
     "hide-input"
    ]
   },
   "outputs": [
    {
     "data": {
      "text/plain": [
       "array([[ 3., -1., -1.],\n",
       "       [-1., -0.,  1.],\n",
       "       [-1.,  1., -0.]], dtype=float16)"
      ]
     },
     "execution_count": 31,
     "metadata": {},
     "output_type": "execute_result"
    }
   ],
   "source": [
    "import numpy as np\n",
    "\n",
    "A = np.array([\n",
    "    [1, 1, 1],\n",
    "    [1, 1, 2],\n",
    "    [1, 2, 1],\n",
    "])\n",
    "\n",
    "def cofactor(A, i, j):\n",
    "    \"\"\"余因子を計算する関数\"\"\"\n",
    "    A_minor = np.delete(A, i, axis=0)\n",
    "    A_minor = np.delete(A_minor, j, axis=1)\n",
    "    return (-1)**(i + j) * np.linalg.det(A_minor)\n",
    "\n",
    "def cofactor_matrix(A):\n",
    "    C = np.zeros_like(A, dtype=np.float16)\n",
    "    for i in range(A.shape[0]):\n",
    "        for j in range(A.shape[1]):\n",
    "            C[i, j] = cofactor(A, i=i, j=j)\n",
    "    return C.T\n",
    "\n",
    "-cofactor_matrix(A)"
   ]
  },
  {
   "cell_type": "code",
   "execution_count": 32,
   "id": "c016a067-1c58-492a-a956-8d51301d0c13",
   "metadata": {},
   "outputs": [
    {
     "data": {
      "text/plain": [
       "array([[ 3., -1., -1.],\n",
       "       [-1.,  0.,  1.],\n",
       "       [-1.,  1.,  0.]])"
      ]
     },
     "execution_count": 32,
     "metadata": {},
     "output_type": "execute_result"
    }
   ],
   "source": [
    "np.linalg.inv(A)"
   ]
  },
  {
   "cell_type": "code",
   "execution_count": 33,
   "id": "6d0ba4fb-14b9-4e2c-9e24-8df91c0c62c9",
   "metadata": {},
   "outputs": [
    {
     "data": {
      "text/plain": [
       "-2.9999999999999996"
      ]
     },
     "execution_count": 33,
     "metadata": {},
     "output_type": "execute_result"
    }
   ],
   "source": [
    "np.linalg.det(A[1:,1:])"
   ]
  },
  {
   "cell_type": "markdown",
   "id": "7f076453-280a-468d-adb7-acb5b4edb320",
   "metadata": {},
   "source": [
    "## 6.2\n",
    "\n",
    "> $n$ 次の正方行列 $A_{11}, A_{12}, A_{22}, X_{11}, X_{12}, X_{21}, X_{22}$ を用いて、 $2 n$ 次の正方行列 $A$ および $X$ を\n",
    "> $$\n",
    "A=\\left(\\begin{array}{cc}\n",
    "A_{11} & A_{12} \\\\\n",
    "O & A_{22}\n",
    "\\end{array}\\right), X=\\left(\\begin{array}{ll}\n",
    "X_{11} & X_{12} \\\\\n",
    "X_{21} & X_{22}\n",
    "\\end{array}\\right)\n",
    "$$\n",
    ">\n",
    "> により定める。\n",
    "> 1. 積 $A X$ を計算せよ。\n",
    "> 2. $A_{11}$ および $A_{22}$ がともに正則ならば、 $A$ は正則であることを示し、さらに $A$ の逆行列を求めよ。"
   ]
  },
  {
   "cell_type": "markdown",
   "id": "5cac0412-3362-4c85-acb5-9952b0f4d36c",
   "metadata": {},
   "source": [
    "> 1. 積 $A X$ を計算せよ。\n",
    "\n",
    "$$\n",
    "AX = \n",
    "\\begin{pmatrix}\n",
    "A_{11} X_{11} + A_{12} X_{21} & A_{11} X_{12} + A_{12} X_{22}\\\\\n",
    "A_{22} X_{21} & A_{22} X_{22}\n",
    "\\end{pmatrix}\n",
    "$$"
   ]
  },
  {
   "cell_type": "markdown",
   "id": "d0079a0e-367f-4e95-a6b0-ea02682b9a3a",
   "metadata": {},
   "source": [
    "> 2. $A_{11}$ および $A_{22}$ がともに正則ならば、 $A$ は正則であることを示し"
   ]
  },
  {
   "cell_type": "markdown",
   "id": "07c6a23b-175a-4b16-9c56-cc3b3be5768a",
   "metadata": {},
   "source": [
    "$$\n",
    "|A|\n",
    "= |A_{11}| \\cdot |A_{22} - O A_{11}^{-1} A_{12}|\n",
    "= |A_{11}| \\cdot |A_{22}|\n",
    "$$\n",
    "\n",
    "よって\n",
    "\n",
    "$$\n",
    "|A_{11}| \\neq 0 \n",
    "\\land\n",
    "|A_{22}| \\neq 0\n",
    "\\implies\n",
    "|A| \\neq 0\n",
    "$$\n"
   ]
  },
  {
   "cell_type": "markdown",
   "id": "0938f7d6-ce33-4748-b141-e44daf395f67",
   "metadata": {},
   "source": [
    ">  $A$ の逆行列を求めよ。"
   ]
  },
  {
   "cell_type": "markdown",
   "id": "a21897f3-cd1b-4d63-b664-d37c71ae7987",
   "metadata": {},
   "source": [
    "$$\n",
    "A^{-1} = \n",
    "\\begin{pmatrix}\n",
    "A_{11}^{-1} + A_{11}^{-1} A_{12} A_{22}^{-1} O A_{11}^{-1}\n",
    "& -A_{11}^{-1} A_{12} A_{22}^{-1}\\\\\n",
    "-A_{22}^{-1} O A_{11}^{-1}\n",
    "& A_{22}^{-1}\n",
    "\\end{pmatrix}\n",
    "=\n",
    "\\begin{pmatrix}\n",
    "A_{11}^{-1} & -A_{11}^{-1} A_{12} A_{22}^{-1}\\\\\n",
    "O & A_{22}^{-1}\n",
    "\\end{pmatrix}\n",
    "$$"
   ]
  },
  {
   "cell_type": "markdown",
   "id": "12676af0-1838-4526-b77c-41f6981ba70b",
   "metadata": {},
   "source": [
    "## 6.3\n",
    "\n",
    "> 次の問いに答えよ。\n",
    "> 1. $A$ を $n$ 次の正方行列とする。自然数 $m$ に対して、\n",
    "> $$\n",
    "\\left(E_n-A\\right)\\left(E_n + A+A^2+\\cdots+A^{m-1}\\right)\n",
    "$$\n",
    ">\n",
    "> を計算せよ。\n",
    ">\n",
    "> 2. べき零行列の定義を書け。\n",
    "> 3. $A$ が $n$ 次のべき零行列ならば、 $E_n-A$ は正則であることを示せ。"
   ]
  },
  {
   "cell_type": "markdown",
   "id": "cb959d0c-3529-418c-a7b8-fd62517f2d23",
   "metadata": {},
   "source": [
    "> 1. $A$ を $n$ 次の正方行列とする。自然数 $m$ に対して、\n",
    "> $$\n",
    "\\left(E_n-A\\right)\\left(E_n+A+A^2+\\cdots+A^{m-1}\\right)\n",
    "$$\n",
    ">\n",
    "> を計算せよ。\n",
    "\n",
    "行列もスカラーと同様に分配法則があるので\n",
    "\n",
    "$$\n",
    "\\begin{align}\n",
    "(E_n - A)(E_n+A+A^2+\\cdots+A^{m-1})\n",
    "&= \n",
    "E_n + A + A^2 + \\cdots + A^{m-1}\n",
    "- (A + A^2 + \\cdots + A^{m})\\\\\n",
    "&= E_n - A^{m}\n",
    "\\end{align}\n",
    "$$"
   ]
  },
  {
   "cell_type": "markdown",
   "id": "bc71a633-9b4a-4701-b3b8-5d3e64ce53d2",
   "metadata": {},
   "source": [
    "> 2. べき零行列の定義を書け。\n",
    "\n",
    "$n$次正方行列$A$について、\n",
    "\n",
    "$$\n",
    "A^k = O\n",
    "$$\n",
    "\n",
    "となる自然数$k$が存在する行列"
   ]
  },
  {
   "cell_type": "markdown",
   "id": "db111633-acc8-4a12-a040-e79a8e241d42",
   "metadata": {},
   "source": [
    "> 3. $A$ が $n$ 次のべき零行列ならば、 $E_n-A$ は正則であることを示せ。\n"
   ]
  },
  {
   "cell_type": "markdown",
   "id": "89dd1744-6762-4215-8394-ecfbcc1aad74",
   "metadata": {},
   "source": [
    "https://mathlandscape.com/nilpotent-matrix/ の性質2によれば、べき零行列$A$に対する固有方程式は\n",
    "\n",
    "$$\n",
    "|\\lambda E_n - A| = \\lambda^n\n",
    "$$\n",
    "\n",
    "になるので（なんで？）、$\\lambda=1$なら\n",
    "\n",
    "$$\n",
    "|E_n - A| = 1\n",
    "$$\n",
    "\n",
    "なので$E_n - A$は正則"
   ]
  },
  {
   "cell_type": "markdown",
   "id": "f187684e-a4ca-41bd-9be2-dee25ff8abab",
   "metadata": {},
   "source": [
    ":::{card}\n",
    "べき零行列の性質\n",
    "\n",
    "1. べき零行列は正則ではない\n",
    "    - $AB=I$の両辺を$k$乗したとき$A^k B^k = I^k \\to O B^k = I$となり$O=I$は矛盾するため\n",
    "    - $A^k = O$のとき$|A^k| = |A|^k = 0 \\to |A|=0$\n",
    "2. べき零行列は固有値がゼロ\n",
    "    - $A^k x = \\lambda^k x$、$A^k = O \\to \\lambda^k=0 \\to \\lambda = 0$\n",
    "3. べき零行列のトレースは0\n",
    "    - 固有値の和はトレースと一致する\n",
    "    - トレースは対角成分の和 → べき零行列は対角成分が0\n",
    "4. $\\lambda I - A(\\lambda \\neq 0)$が正則\n",
    "    - $|\\lambda I_n - A^k| = \\lambda^n$\n",
    "    - $|\\lambda I_n - A^k| \\neq 0 \\operatorname{if} \\lambda \\neq 0$\n",
    ":::"
   ]
  },
  {
   "cell_type": "code",
   "execution_count": 42,
   "id": "5e6a5525-7d9a-4b51-8e9a-04e362b3375c",
   "metadata": {},
   "outputs": [
    {
     "data": {
      "text/plain": [
       "array([[0, 0, 0],\n",
       "       [0, 0, 0],\n",
       "       [0, 0, 0]])"
      ]
     },
     "execution_count": 42,
     "metadata": {},
     "output_type": "execute_result"
    }
   ],
   "source": [
    "# 例\n",
    "import numpy as np\n",
    "A = np.array([\n",
    "    [0, 1, 2],\n",
    "    [0, 0, 1],\n",
    "    [0, 0, 0],\n",
    "])\n",
    "\n",
    "A @ A @ A"
   ]
  },
  {
   "cell_type": "code",
   "execution_count": 50,
   "id": "0f67393b-eeac-4609-82ea-d3fee9cad774",
   "metadata": {},
   "outputs": [
    {
     "name": "stdout",
     "output_type": "stream",
     "text": [
      "[[ 1. -1. -2.]\n",
      " [ 0.  1. -1.]\n",
      " [ 0.  0.  1.]]\n"
     ]
    },
    {
     "data": {
      "text/plain": [
       "1.0"
      ]
     },
     "execution_count": 50,
     "metadata": {},
     "output_type": "execute_result"
    }
   ],
   "source": [
    "I = np.eye(3)\n",
    "print(I - A)\n",
    "np.linalg.det(I - A)"
   ]
  },
  {
   "cell_type": "code",
   "execution_count": 43,
   "id": "f960c1f5-f5a8-4060-bdb5-2d664ad554a7",
   "metadata": {},
   "outputs": [
    {
     "data": {
      "text/plain": [
       "0.0"
      ]
     },
     "execution_count": 43,
     "metadata": {},
     "output_type": "execute_result"
    }
   ],
   "source": [
    "np.linalg.det(A)"
   ]
  },
  {
   "cell_type": "markdown",
   "id": "72c20da0-13f6-4776-8211-3f712f2fcfbb",
   "metadata": {},
   "source": [
    "## 参考\n",
    "\n",
    "- [ブロック行列の行列式，逆行列の公式と証明 | 高校数学の美しい物語](https://manabitimes.jp/math/1203#5)\n",
    "- [べき零行列の定義・例・性質7つとその証明 | 数学の景色](https://mathlandscape.com/nilpotent-matrix/)\n",
    "- [べきゼロ行列とは：例、指数行列、性質 | 趣味の大学数学](https://math-fun.net/20210607/14883/)"
   ]
  },
  {
   "cell_type": "code",
   "execution_count": null,
   "id": "d4aa5e08-8810-40d0-9d6a-7627356a35b3",
   "metadata": {},
   "outputs": [],
   "source": []
  }
 ],
 "metadata": {
  "kernelspec": {
   "display_name": "Python 3 (ipykernel)",
   "language": "python",
   "name": "python3"
  },
  "language_info": {
   "codemirror_mode": {
    "name": "ipython",
    "version": 3
   },
   "file_extension": ".py",
   "mimetype": "text/x-python",
   "name": "python",
   "nbconvert_exporter": "python",
   "pygments_lexer": "ipython3",
   "version": "3.9.18"
  }
 },
 "nbformat": 4,
 "nbformat_minor": 5
}
