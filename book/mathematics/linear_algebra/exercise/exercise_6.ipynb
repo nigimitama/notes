{
 "cells": [
  {
   "cell_type": "markdown",
   "id": "250945a9-68e5-4992-9d7d-7fb9fd0216d6",
   "metadata": {},
   "source": [
    "# 練習問題メモ 6（正則行列）"
   ]
  },
  {
   "cell_type": "markdown",
   "id": "d044fa79-cbf7-4b83-b425-f02a38857649",
   "metadata": {},
   "source": [
    "## 6.1\n",
    "\n",
    "> 次の問いに答えよ。\n",
    ">\n",
    "> 1.正則行列の定義を書け。"
   ]
  },
  {
   "cell_type": "markdown",
   "id": "e6224d56-1e99-4fac-a492-7abe8935b65d",
   "metadata": {},
   "source": [
    "逆行列が存在する行列、すなわち、\n",
    "$n$次正方行列$A$に対し\n",
    "\n",
    "$$\n",
    "A^{-1}A = AA^{-1} = I\n",
    "$$\n",
    "\n",
    "を満たす正方行列$A^{-1}$が存在する行列$A$を正則行列という\n"
   ]
  },
  {
   "cell_type": "markdown",
   "id": "9c4eb84b-4045-4ee6-9ef0-c8d935b3c8e5",
   "metadata": {},
   "source": [
    "> 2.次の(ア)、(イ)の正則行列の逆行列を求めよ。\n",
    "> $$\n",
    "\\text { (ア) }\\left(\\begin{array}{lll}\n",
    "1 & a & b \\\\\n",
    "0 & 1 & c \\\\\n",
    "0 & 0 & 1\n",
    "\\end{array}\\right) \\quad \\text { (イ) }\\left(\\begin{array}{lll}\n",
    "1 & 1 & 1 \\\\\n",
    "1 & 1 & 2 \\\\\n",
    "1 & 2 & 1\n",
    "\\end{array}\\right)\n",
    "$$"
   ]
  },
  {
   "cell_type": "markdown",
   "id": "0bbd1c8e-bd28-48a3-889f-41aef4175545",
   "metadata": {},
   "source": []
  },
  {
   "cell_type": "code",
   "execution_count": null,
   "id": "b772dd7f-19a6-4050-8218-f17dca377685",
   "metadata": {},
   "outputs": [],
   "source": []
  },
  {
   "cell_type": "code",
   "execution_count": null,
   "id": "5ea633eb-fbe1-413a-89c4-f6720488bf8b",
   "metadata": {},
   "outputs": [],
   "source": []
  }
 ],
 "metadata": {
  "kernelspec": {
   "display_name": "Python 3 (ipykernel)",
   "language": "python",
   "name": "python3"
  },
  "language_info": {
   "codemirror_mode": {
    "name": "ipython",
    "version": 3
   },
   "file_extension": ".py",
   "mimetype": "text/x-python",
   "name": "python",
   "nbconvert_exporter": "python",
   "pygments_lexer": "ipython3",
   "version": "3.9.18"
  }
 },
 "nbformat": 4,
 "nbformat_minor": 5
}
