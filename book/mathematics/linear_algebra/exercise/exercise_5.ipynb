{
 "cells": [
  {
   "cell_type": "markdown",
   "id": "bc32e066-b046-4c95-886c-4f72866fa9cc",
   "metadata": {},
   "source": [
    "# 練習問題メモ 5（連立1次方程式）"
   ]
  },
  {
   "cell_type": "markdown",
   "id": "df8a157e-a181-4270-9cd8-4c022cabdd5c",
   "metadata": {},
   "source": [
    "## 5.1\n",
    "\n",
    "> 掃き出し法により、次の1～3の連立1次方程式を解け。また、係数行列および拡大係数行列について、それぞれの階数を求めよ"
   ]
  },
  {
   "cell_type": "markdown",
   "id": "6c97c75a-2edc-4232-8ef5-163ec9775c85",
   "metadata": {},
   "source": [
    "> 1. \n",
    "$$\n",
    "\\left(\\begin{array}{ll}\n",
    "1 & 2 \\\\\n",
    "3 & 4 \\\\\n",
    "5 & 6\n",
    "\\end{array}\\right)\\left(\\begin{array}{l}\n",
    "x_1 \\\\\n",
    "x_2\n",
    "\\end{array}\\right)=\\left(\\begin{array}{l}\n",
    "1 \\\\\n",
    "0 \\\\\n",
    "0\n",
    "\\end{array}\\right)\n",
    "$$"
   ]
  },
  {
   "cell_type": "code",
   "execution_count": 209,
   "id": "c0ff64d7-b422-4ea5-9206-3fc7660750a2",
   "metadata": {},
   "outputs": [],
   "source": [
    "import numpy as np\n",
    "A = np.array([\n",
    "    [1, 2, 1],\n",
    "    [3, 4, 0],\n",
    "    [5, 6, 0],\n",
    "], dtype=np.float16)"
   ]
  },
  {
   "cell_type": "code",
   "execution_count": 210,
   "id": "a124bf27-5614-4066-a6cf-ca8733600b9d",
   "metadata": {},
   "outputs": [
    {
     "data": {
      "text/plain": [
       "array([[ 1.,  2.,  1.],\n",
       "       [ 1.,  0., -2.],\n",
       "       [ 5.,  6.,  0.]], dtype=float16)"
      ]
     },
     "execution_count": 210,
     "metadata": {},
     "output_type": "execute_result"
    }
   ],
   "source": [
    "# 1行目を-2倍して2行目に加える\n",
    "A[1, :] += A[0, :] * (-2)\n",
    "A"
   ]
  },
  {
   "cell_type": "code",
   "execution_count": 211,
   "id": "8ff48fd8-c793-4660-b160-8fd7131072ec",
   "metadata": {},
   "outputs": [
    {
     "data": {
      "text/plain": [
       "array([[ 1.,  2.,  1.],\n",
       "       [ 1.,  0., -2.],\n",
       "       [ 2.,  0., -3.]], dtype=float16)"
      ]
     },
     "execution_count": 211,
     "metadata": {},
     "output_type": "execute_result"
    }
   ],
   "source": [
    "# 1行目を-3倍して3行目に加える\n",
    "A[2, :] += A[0, :] * (-3)\n",
    "A"
   ]
  },
  {
   "cell_type": "code",
   "execution_count": 212,
   "id": "413752d2-9539-448c-9c18-79046289f1dd",
   "metadata": {},
   "outputs": [
    {
     "data": {
      "text/plain": [
       "array([[ 1. ,  2. ,  1. ],\n",
       "       [ 1. ,  0. , -2. ],\n",
       "       [ 1. ,  0. , -1.5]], dtype=float16)"
      ]
     },
     "execution_count": 212,
     "metadata": {},
     "output_type": "execute_result"
    }
   ],
   "source": [
    "# 3行目を(1/2)倍する\n",
    "A[2, :] = (1 / 2) * A[2, :]\n",
    "A"
   ]
  },
  {
   "cell_type": "code",
   "execution_count": 213,
   "id": "3b774cb2-655a-4976-8fc6-6e5de45f6b4c",
   "metadata": {},
   "outputs": [
    {
     "data": {
      "text/plain": [
       "array([[ 1. ,  2. ,  1. ],\n",
       "       [ 1. ,  0. , -2. ],\n",
       "       [ 0. ,  0. ,  0.5]], dtype=float16)"
      ]
     },
     "execution_count": 213,
     "metadata": {},
     "output_type": "execute_result"
    }
   ],
   "source": [
    "# 2行目を-1倍して3行目に加える\n",
    "A[2, :] += A[1, :] * (-1)\n",
    "A"
   ]
  },
  {
   "cell_type": "code",
   "execution_count": 214,
   "id": "c9ccef5d-ea20-4f00-a0f2-01afac1560dd",
   "metadata": {},
   "outputs": [
    {
     "data": {
      "text/plain": [
       "array([[ 0. ,  2. ,  3. ],\n",
       "       [ 1. ,  0. , -2. ],\n",
       "       [ 0. ,  0. ,  0.5]], dtype=float16)"
      ]
     },
     "execution_count": 214,
     "metadata": {},
     "output_type": "execute_result"
    }
   ],
   "source": [
    "# 2行目を-1倍して1行目に加える\n",
    "A[0, :] += A[1, :] * (-1)\n",
    "A"
   ]
  },
  {
   "cell_type": "code",
   "execution_count": 215,
   "id": "387bb8a9-c1d1-4928-801b-44265b4f0e92",
   "metadata": {},
   "outputs": [
    {
     "data": {
      "text/plain": [
       "array([[ 0. ,  1. ,  1.5],\n",
       "       [ 1. ,  0. , -2. ],\n",
       "       [ 0. ,  0. ,  0.5]], dtype=float16)"
      ]
     },
     "execution_count": 215,
     "metadata": {},
     "output_type": "execute_result"
    }
   ],
   "source": [
    "# 1行目を(1/2)倍する\n",
    "A[0, :] = (1 / 2) * A[0, :]\n",
    "A"
   ]
  },
  {
   "cell_type": "code",
   "execution_count": 216,
   "id": "64ecdf77",
   "metadata": {},
   "outputs": [
    {
     "data": {
      "text/plain": [
       "array([[ 1,  1, -2,  0],\n",
       "       [ 0,  0,  0,  0],\n",
       "       [ 0,  1, -1, -1]])"
      ]
     },
     "execution_count": 147,
     "metadata": {},
     "output_type": "execute_result"
    }
   ],
   "source": [
    "a1 = A[1, :].copy()\n",
    "a2 = A[2, :].copy()\n",
    "A[1, :] = a2\n",
    "A[2, :] = a1\n",
    "A"
   ]
  },
  {
   "cell_type": "markdown",
   "id": "c9a20f67-cc48-4c4e-90fb-e262d712d76b",
   "metadata": {},
   "source": [
    "$$\n",
    "\\left(\\begin{array}{cc|c}\n",
    "1 & 0 & -2\\\\\n",
    "0 & 1 & 3/2 \\\\\n",
    "0 & 0 & 1/2\n",
    "\\end{array}\\right)\n",
    "$$"
   ]
  },
  {
   "cell_type": "code",
   "execution_count": 217,
   "id": "10349979-7923-484b-83ff-917d74a4b4bf",
   "metadata": {
    "tags": [
     "hide-input",
     "hide-output"
    ]
   },
   "outputs": [
    {
     "data": {
      "text/plain": [
       "array([-2. ,  1.5])"
      ]
     },
     "execution_count": 217,
     "metadata": {},
     "output_type": "execute_result"
    }
   ],
   "source": [
    "# 検算\n",
    "import numpy as np\n",
    "A = np.array([\n",
    "    [1, 2],\n",
    "    [3, 4],\n",
    "])\n",
    "x = np.array([1, 0])\n",
    "np.linalg.solve(A, x)"
   ]
  },
  {
   "cell_type": "code",
   "execution_count": 218,
   "id": "a69859a1-33ea-4d26-b279-9a57f35746ca",
   "metadata": {
    "tags": [
     "hide-input",
     "hide-output"
    ]
   },
   "outputs": [
    {
     "data": {
      "text/plain": [
       "array([-3. ,  2.5])"
      ]
     },
     "execution_count": 218,
     "metadata": {},
     "output_type": "execute_result"
    }
   ],
   "source": [
    "# 検算\n",
    "import numpy as np\n",
    "A = np.array([\n",
    "    [3, 4],\n",
    "    [5, 6],\n",
    "])\n",
    "x = np.array([1, 0])\n",
    "np.linalg.solve(A, x)"
   ]
  },
  {
   "cell_type": "markdown",
   "id": "44f40718-e001-4993-acd5-4736563e8e0a",
   "metadata": {},
   "source": [
    "> 1-2. 係数行列の階数\n",
    "\n",
    "$$\n",
    "\\begin{pmatrix}\n",
    "1 & 0\\\\\n",
    "0 & 1\\\\\n",
    "0 & 0\\\\\n",
    "\\end{pmatrix}\n",
    "$$\n",
    "\n",
    "と、階段行列の形であり零の行ベクトルでない行数は2なので2\n"
   ]
  },
  {
   "cell_type": "markdown",
   "id": "2bbd6fd4-7d46-4ba1-b375-1a6f7f0badbb",
   "metadata": {},
   "source": [
    "> 1-3. 拡大係数行列の階数\n",
    "\n",
    "3\n"
   ]
  },
  {
   "cell_type": "markdown",
   "id": "f2d18c67-5e92-4c8a-b1d5-b672b681d2eb",
   "metadata": {},
   "source": [
    "> 2.\n",
    "> $$\n",
    "\\left(\\begin{array}{ccc}\n",
    "1 & 1 & -2 \\\\\n",
    "1 & -2 & 1 \\\\\n",
    "-2 & 1 & 1\n",
    "\\end{array}\\right)\\left(\\begin{array}{l}\n",
    "x_1 \\\\\n",
    "x_2 \\\\\n",
    "x_3\n",
    "\\end{array}\\right)=\\left(\\begin{array}{c}\n",
    "0 \\\\\n",
    "3 \\\\\n",
    "-3\n",
    "\\end{array}\\right)\n",
    "$$"
   ]
  },
  {
   "cell_type": "code",
   "execution_count": 154,
   "id": "2c362117-bcb5-458a-af8b-d34c22b4150f",
   "metadata": {},
   "outputs": [],
   "source": [
    "import numpy as np\n",
    "A = np.array([\n",
    "    [1, 1, -2, 0],\n",
    "    [1, -2, 1, 3],\n",
    "    [-2, 1, 1, -3],\n",
    "])"
   ]
  },
  {
   "cell_type": "code",
   "execution_count": 155,
   "id": "3306b012-628b-4c3e-aba6-dc6f6da4613a",
   "metadata": {},
   "outputs": [
    {
     "data": {
      "text/plain": [
       "array([[ 1,  1, -2,  0],\n",
       "       [ 0, -3,  3,  3],\n",
       "       [-2,  1,  1, -3]])"
      ]
     },
     "execution_count": 155,
     "metadata": {},
     "output_type": "execute_result"
    }
   ],
   "source": [
    "A[1, :] += A[0, :] * (-1)\n",
    "A"
   ]
  },
  {
   "cell_type": "code",
   "execution_count": 156,
   "id": "d6d335f3-9139-4da6-a8ff-c3fd4e3bf1cb",
   "metadata": {},
   "outputs": [
    {
     "data": {
      "text/plain": [
       "array([[ 1,  1, -2,  0],\n",
       "       [ 0, -3,  3,  3],\n",
       "       [ 0,  3, -3, -3]])"
      ]
     },
     "execution_count": 156,
     "metadata": {},
     "output_type": "execute_result"
    }
   ],
   "source": [
    "A[2, :] += A[0, :] * (2)\n",
    "A"
   ]
  },
  {
   "cell_type": "code",
   "execution_count": 157,
   "id": "59d5c9ba-3878-4756-8d72-a4fdcec2884b",
   "metadata": {},
   "outputs": [
    {
     "data": {
      "text/plain": [
       "array([[ 1,  1, -2,  0],\n",
       "       [ 0, -3,  3,  3],\n",
       "       [ 0,  0,  0,  0]])"
      ]
     },
     "execution_count": 157,
     "metadata": {},
     "output_type": "execute_result"
    }
   ],
   "source": [
    "A[2, :] += A[1, :] * (1)\n",
    "A"
   ]
  },
  {
   "cell_type": "code",
   "execution_count": 158,
   "id": "3db42882-ccbc-46da-ba14-1dc5e948528b",
   "metadata": {},
   "outputs": [
    {
     "data": {
      "text/plain": [
       "array([[ 1,  1, -2,  0],\n",
       "       [ 0,  1, -1, -1],\n",
       "       [ 0,  0,  0,  0]])"
      ]
     },
     "execution_count": 158,
     "metadata": {},
     "output_type": "execute_result"
    }
   ],
   "source": [
    "A[1, :] = A[1, :] * (-1/3)\n",
    "A"
   ]
  },
  {
   "cell_type": "code",
   "execution_count": 159,
   "id": "d7cc34ec-6ae4-4a1d-a2c0-32441e917f25",
   "metadata": {},
   "outputs": [
    {
     "data": {
      "text/plain": [
       "array([[ 1,  0, -1,  1],\n",
       "       [ 0,  1, -1, -1],\n",
       "       [ 0,  0,  0,  0]])"
      ]
     },
     "execution_count": 159,
     "metadata": {},
     "output_type": "execute_result"
    }
   ],
   "source": [
    "A[0, :] += A[1, :] * (-1)\n",
    "A"
   ]
  },
  {
   "cell_type": "code",
   "execution_count": 181,
   "id": "b2cc8e30-2aa4-489c-9174-253cec42e143",
   "metadata": {
    "tags": [
     "hide-input",
     "hide-output"
    ]
   },
   "outputs": [],
   "source": [
    "# # 検算\n",
    "# import numpy as np\n",
    "# A = np.array([\n",
    "#     [1, 1, -2],\n",
    "#     [1, -2, 1],\n",
    "#     [-2, 1, 1],\n",
    "# ])\n",
    "# x = np.array([0, 3, -3])\n",
    "# np.linalg.solve(A, x)"
   ]
  },
  {
   "cell_type": "markdown",
   "id": "e94f4a95-31fd-48ff-9fc7-f4b3902f1b0c",
   "metadata": {},
   "source": [
    "→ $x_1 = 1, x_2 = -1$\n",
    "\n",
    "$x_3$は…？"
   ]
  },
  {
   "cell_type": "markdown",
   "id": "28da8595-b715-481f-9dd7-14c5b15af1e9",
   "metadata": {},
   "source": [
    "> 3.\n",
    "$$\n",
    "\\left(\\begin{array}{llll}\n",
    "1 & 2 & 3 & 4 \\\\\n",
    "2 & 3 & 4 & 1 \\\\\n",
    "0 & 1 & 2 & 7\n",
    "\\end{array}\\right)\\left(\\begin{array}{l}\n",
    "x_1 \\\\\n",
    "x_2 \\\\\n",
    "x_3 \\\\\n",
    "x_4\n",
    "\\end{array}\\right)=\\left(\\begin{array}{l}\n",
    "1 \\\\\n",
    "0 \\\\\n",
    "1\n",
    "\\end{array}\\right)\n",
    "$$"
   ]
  },
  {
   "cell_type": "code",
   "execution_count": 186,
   "id": "72f8c890-63cf-4de8-9dc6-f85429d9d32c",
   "metadata": {},
   "outputs": [
    {
     "data": {
      "text/plain": [
       "2"
      ]
     },
     "execution_count": 186,
     "metadata": {},
     "output_type": "execute_result"
    }
   ],
   "source": [
    "A = np.array([\n",
    "    [1, 2, 3, 4, 1],\n",
    "    [2, 3, 4, 1, 0],\n",
    "    [0, 1, 2, 7, 1],\n",
    "])\n",
    "np.linalg.matrix_rank(A)\n",
    "np.linalg.matrix_rank(A[:, :3])"
   ]
  },
  {
   "cell_type": "code",
   "execution_count": 196,
   "id": "8ab4b98e-3a7d-4673-b896-a6caea4cbd55",
   "metadata": {},
   "outputs": [],
   "source": [
    "from sympy import Matrix\n",
    "A = Matrix([\n",
    "    [1, 2, 3, 4, 1],\n",
    "    [2, 3, 4, 1, 0],\n",
    "    [0, 1, 2, 7, 1],\n",
    "])"
   ]
  },
  {
   "cell_type": "code",
   "execution_count": 197,
   "id": "64303e43-e7d1-4738-91cf-54a5f823c70f",
   "metadata": {},
   "outputs": [
    {
     "data": {
      "text/latex": [
       "$\\displaystyle \\left[\\begin{matrix}1 & 2 & 3 & 4 & 1\\\\0 & -1 & -2 & -7 & -2\\\\0 & 1 & 2 & 7 & 1\\end{matrix}\\right]$"
      ],
      "text/plain": [
       "Matrix([\n",
       "[1,  2,  3,  4,  1],\n",
       "[0, -1, -2, -7, -2],\n",
       "[0,  1,  2,  7,  1]])"
      ]
     },
     "execution_count": 197,
     "metadata": {},
     "output_type": "execute_result"
    }
   ],
   "source": [
    "A[1, :] += A[0, :] * (-2)\n",
    "A"
   ]
  },
  {
   "cell_type": "code",
   "execution_count": 198,
   "id": "14cf9897-eda0-4bd6-9a32-c1c267ebba04",
   "metadata": {},
   "outputs": [
    {
     "data": {
      "text/latex": [
       "$\\displaystyle \\left[\\begin{matrix}1 & 2 & 3 & 4 & 1\\\\0 & -1 & -2 & -7 & -2\\\\0 & 0 & 0 & 0 & -1\\end{matrix}\\right]$"
      ],
      "text/plain": [
       "Matrix([\n",
       "[1,  2,  3,  4,  1],\n",
       "[0, -1, -2, -7, -2],\n",
       "[0,  0,  0,  0, -1]])"
      ]
     },
     "execution_count": 198,
     "metadata": {},
     "output_type": "execute_result"
    }
   ],
   "source": [
    "A[2, :] += A[1, :]\n",
    "A"
   ]
  },
  {
   "cell_type": "code",
   "execution_count": 199,
   "id": "2d6c276c-e59a-4f36-bcf2-33ed6ae7c24f",
   "metadata": {},
   "outputs": [
    {
     "data": {
      "text/latex": [
       "$\\displaystyle \\left[\\begin{matrix}1 & 2 & 3 & 4 & 1\\\\0 & 1 & 2 & 7 & 2\\\\0 & 0 & 0 & 0 & -1\\end{matrix}\\right]$"
      ],
      "text/plain": [
       "Matrix([\n",
       "[1, 2, 3, 4,  1],\n",
       "[0, 1, 2, 7,  2],\n",
       "[0, 0, 0, 0, -1]])"
      ]
     },
     "execution_count": 199,
     "metadata": {},
     "output_type": "execute_result"
    }
   ],
   "source": [
    "A[1, :] = A[1, :] * (-1)\n",
    "A"
   ]
  },
  {
   "cell_type": "code",
   "execution_count": 200,
   "id": "3f6aa387-3486-4464-8d26-8f5462c83e58",
   "metadata": {},
   "outputs": [
    {
     "data": {
      "text/latex": [
       "$\\displaystyle \\left[\\begin{matrix}1 & 0 & -1 & -10 & -3\\\\0 & 1 & 2 & 7 & 2\\\\0 & 0 & 0 & 0 & -1\\end{matrix}\\right]$"
      ],
      "text/plain": [
       "Matrix([\n",
       "[1, 0, -1, -10, -3],\n",
       "[0, 1,  2,   7,  2],\n",
       "[0, 0,  0,   0, -1]])"
      ]
     },
     "execution_count": 200,
     "metadata": {},
     "output_type": "execute_result"
    }
   ],
   "source": [
    "A[0, :] += A[1, :] * (-2)\n",
    "A"
   ]
  },
  {
   "cell_type": "code",
   "execution_count": null,
   "id": "63ef1edd-428a-4341-866e-630ac13afcdf",
   "metadata": {},
   "outputs": [],
   "source": []
  },
  {
   "cell_type": "code",
   "execution_count": 174,
   "id": "597263fc-2262-417e-ac9d-448318ca5312",
   "metadata": {},
   "outputs": [],
   "source": [
    "from sympy import Matrix\n",
    "A = Matrix([\n",
    "    [1, 2, 3, 4, 1],\n",
    "    [2, 3, 4, 1, 0],\n",
    "    [0, 1, 2, 7, 1],\n",
    "])"
   ]
  },
  {
   "cell_type": "code",
   "execution_count": 175,
   "id": "437b0f54-068d-4b3b-9cfa-f1ce124748d2",
   "metadata": {},
   "outputs": [
    {
     "data": {
      "text/latex": [
       "$\\displaystyle \\left[\\begin{matrix}1 & 2 & 3 & 4 & 1\\\\0 & -1 & -2 & -7 & -2\\\\0 & 1 & 2 & 7 & 1\\end{matrix}\\right]$"
      ],
      "text/plain": [
       "Matrix([\n",
       "[1,  2,  3,  4,  1],\n",
       "[0, -1, -2, -7, -2],\n",
       "[0,  1,  2,  7,  1]])"
      ]
     },
     "execution_count": 175,
     "metadata": {},
     "output_type": "execute_result"
    }
   ],
   "source": [
    "A[1, :] += A[0, :] * (-2)\n",
    "A"
   ]
  },
  {
   "cell_type": "markdown",
   "id": "4b398b24-dfe4-48d2-90f9-887c5aa128ba",
   "metadata": {},
   "source": [
    "## 5.2\n",
    "\n",
    "> 掃き出し法により、次の同次連立 1 次方程式を解け。\n",
    "> $$\n",
    "\\left(\\begin{array}{llll}\n",
    "1 & 2 & 3 & 4 \\\\\n",
    "2 & 3 & 4 & 1 \\\\\n",
    "0 & 1 & 2 & 7\n",
    "\\end{array}\\right)\\left(\\begin{array}{l}\n",
    "x_1 \\\\\n",
    "x_2 \\\\\n",
    "x_3 \\\\\n",
    "x_4\n",
    "\\end{array}\\right)=\\left(\\begin{array}{l}\n",
    "0 \\\\\n",
    "0 \\\\\n",
    "0\n",
    "\\end{array}\\right)\n",
    "$$"
   ]
  },
  {
   "cell_type": "code",
   "execution_count": 202,
   "id": "87e8c0b6-6d18-47f8-adb9-3488c7abb98f",
   "metadata": {},
   "outputs": [],
   "source": [
    "from sympy import Matrix\n",
    "A = Matrix([\n",
    "    [1, 2, 3, 4, 0],\n",
    "    [2, 3, 4, 1, 0],\n",
    "    [0, 1, 2, 7, 0],\n",
    "])"
   ]
  },
  {
   "cell_type": "code",
   "execution_count": 204,
   "id": "b013eb8e-f49d-4e0a-9655-8729f6b2fe96",
   "metadata": {},
   "outputs": [
    {
     "data": {
      "text/plain": [
       "2"
      ]
     },
     "execution_count": 204,
     "metadata": {},
     "output_type": "execute_result"
    }
   ],
   "source": [
    "A = np.array([\n",
    "    [1, 2, 3, 4, 0],\n",
    "    [2, 3, 4, 1, 0],\n",
    "    [0, 1, 2, 7, 0],\n",
    "])\n",
    "np.linalg.matrix_rank(A)"
   ]
  },
  {
   "cell_type": "code",
   "execution_count": 205,
   "id": "30a50799-41dc-438f-880e-42312b5784d0",
   "metadata": {},
   "outputs": [
    {
     "ename": "LinAlgError",
     "evalue": "Singular matrix",
     "output_type": "error",
     "traceback": [
      "\u001b[0;31m---------------------------------------------------------------------------\u001b[0m",
      "\u001b[0;31mLinAlgError\u001b[0m                               Traceback (most recent call last)",
      "Cell \u001b[0;32mIn[205], line 1\u001b[0m\n\u001b[0;32m----> 1\u001b[0m \u001b[43mnp\u001b[49m\u001b[38;5;241;43m.\u001b[39;49m\u001b[43mlinalg\u001b[49m\u001b[38;5;241;43m.\u001b[39;49m\u001b[43msolve\u001b[49m\u001b[43m(\u001b[49m\u001b[43mA\u001b[49m\u001b[43m[\u001b[49m\u001b[43m:\u001b[49m\u001b[43m,\u001b[49m\u001b[43m \u001b[49m\u001b[43m:\u001b[49m\u001b[38;5;241;43m3\u001b[39;49m\u001b[43m]\u001b[49m\u001b[43m,\u001b[49m\u001b[43m \u001b[49m\u001b[43mA\u001b[49m\u001b[43m[\u001b[49m\u001b[43m:\u001b[49m\u001b[43m,\u001b[49m\u001b[43m \u001b[49m\u001b[38;5;241;43m-\u001b[39;49m\u001b[38;5;241;43m1\u001b[39;49m\u001b[43m]\u001b[49m\u001b[43m)\u001b[49m\n",
      "File \u001b[0;32m/usr/local/lib/python3.9/site-packages/numpy/linalg/linalg.py:409\u001b[0m, in \u001b[0;36msolve\u001b[0;34m(a, b)\u001b[0m\n\u001b[1;32m    407\u001b[0m signature \u001b[38;5;241m=\u001b[39m \u001b[38;5;124m'\u001b[39m\u001b[38;5;124mDD->D\u001b[39m\u001b[38;5;124m'\u001b[39m \u001b[38;5;28;01mif\u001b[39;00m isComplexType(t) \u001b[38;5;28;01melse\u001b[39;00m \u001b[38;5;124m'\u001b[39m\u001b[38;5;124mdd->d\u001b[39m\u001b[38;5;124m'\u001b[39m\n\u001b[1;32m    408\u001b[0m extobj \u001b[38;5;241m=\u001b[39m get_linalg_error_extobj(_raise_linalgerror_singular)\n\u001b[0;32m--> 409\u001b[0m r \u001b[38;5;241m=\u001b[39m \u001b[43mgufunc\u001b[49m\u001b[43m(\u001b[49m\u001b[43ma\u001b[49m\u001b[43m,\u001b[49m\u001b[43m \u001b[49m\u001b[43mb\u001b[49m\u001b[43m,\u001b[49m\u001b[43m \u001b[49m\u001b[43msignature\u001b[49m\u001b[38;5;241;43m=\u001b[39;49m\u001b[43msignature\u001b[49m\u001b[43m,\u001b[49m\u001b[43m \u001b[49m\u001b[43mextobj\u001b[49m\u001b[38;5;241;43m=\u001b[39;49m\u001b[43mextobj\u001b[49m\u001b[43m)\u001b[49m\n\u001b[1;32m    411\u001b[0m \u001b[38;5;28;01mreturn\u001b[39;00m wrap(r\u001b[38;5;241m.\u001b[39mastype(result_t, copy\u001b[38;5;241m=\u001b[39m\u001b[38;5;28;01mFalse\u001b[39;00m))\n",
      "File \u001b[0;32m/usr/local/lib/python3.9/site-packages/numpy/linalg/linalg.py:112\u001b[0m, in \u001b[0;36m_raise_linalgerror_singular\u001b[0;34m(err, flag)\u001b[0m\n\u001b[1;32m    111\u001b[0m \u001b[38;5;28;01mdef\u001b[39;00m \u001b[38;5;21m_raise_linalgerror_singular\u001b[39m(err, flag):\n\u001b[0;32m--> 112\u001b[0m     \u001b[38;5;28;01mraise\u001b[39;00m LinAlgError(\u001b[38;5;124m\"\u001b[39m\u001b[38;5;124mSingular matrix\u001b[39m\u001b[38;5;124m\"\u001b[39m)\n",
      "\u001b[0;31mLinAlgError\u001b[0m: Singular matrix"
     ]
    }
   ],
   "source": [
    "np.linalg.solve(A[:, :3], A[:, -1])"
   ]
  },
  {
   "cell_type": "code",
   "execution_count": null,
   "id": "0493604c-e737-4ca2-9ab0-74792b5f91a4",
   "metadata": {},
   "outputs": [],
   "source": []
  },
  {
   "cell_type": "code",
   "execution_count": null,
   "id": "71bf38b2-31bb-415f-b63e-fff464d0f40e",
   "metadata": {},
   "outputs": [],
   "source": []
  },
  {
   "cell_type": "markdown",
   "id": "00990b91-0ea0-43cf-bdfb-69e3cc71c4d2",
   "metadata": {},
   "source": [
    "## 5.3\n",
    "\n",
    "> p,q,rを定数とする。連立1次方程式\n",
    "> $$\n",
    "\\left(\\begin{array}{ccc}\n",
    "-2 & 1 & 1 \\\\\n",
    "1 & -2 & 1 \\\\\n",
    "1 & 1 & -2\n",
    "\\end{array}\\right)\\left(\\begin{array}{l}\n",
    "x_1 \\\\\n",
    "x_2 \\\\\n",
    "x_3\n",
    "\\end{array}\\right)=\\left(\\begin{array}{l}\n",
    "p \\\\\n",
    "q \\\\\n",
    "r\n",
    "\\end{array}\\right)\n",
    "$$\n",
    "> の解が存在するためのp,q,rの条件を求めよ。"
   ]
  },
  {
   "cell_type": "code",
   "execution_count": null,
   "id": "48e69727-51ad-42b5-a2cb-ae12ade79cb1",
   "metadata": {},
   "outputs": [],
   "source": []
  },
  {
   "cell_type": "code",
   "execution_count": null,
   "id": "50464fbd-39a3-48db-b376-6fd8f0408dc1",
   "metadata": {},
   "outputs": [],
   "source": []
  },
  {
   "cell_type": "markdown",
   "id": "94b2eff3-f698-467f-84e6-940774719e12",
   "metadata": {},
   "source": [
    "検算用\n",
    "- [掃き出し法計算機 - Wolfram|Alpha](https://ja.wolframalpha.com/input?i=%E6%8E%83%E3%81%8D%E5%87%BA%E3%81%97%E6%B3%95%E8%A8%88%E7%AE%97%E6%A9%9F)"
   ]
  },
  {
   "cell_type": "code",
   "execution_count": null,
   "id": "be796ac8-42e6-40fb-90d5-966c157877cc",
   "metadata": {},
   "outputs": [],
   "source": []
  }
 ],
 "metadata": {
  "kernelspec": {
   "display_name": "Python 3 (ipykernel)",
   "language": "python",
   "name": "python3"
  },
  "language_info": {
   "codemirror_mode": {
    "name": "ipython",
    "version": 3
   },
   "file_extension": ".py",
   "mimetype": "text/x-python",
   "name": "python",
   "nbconvert_exporter": "python",
   "pygments_lexer": "ipython3",
   "version": "3.9.18"
  }
 },
 "nbformat": 4,
 "nbformat_minor": 5
}
