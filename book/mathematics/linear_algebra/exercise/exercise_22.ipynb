{
 "cells": [
  {
   "cell_type": "markdown",
   "id": "6cdb1c9b-e3c1-4819-82a2-0a407b39afda",
   "metadata": {},
   "source": [
    "# 練習問題メモ 22（内積空間）"
   ]
  },
  {
   "cell_type": "markdown",
   "id": "2e73a86b-2b76-49cc-9187-c23b9c315879",
   "metadata": {},
   "source": [
    ":::{admonition} 定義 22.1\n",
    "\n",
    "$V$ をベクトル空間とし、 $\\boldsymbol{x}, \\boldsymbol{y}, \\boldsymbol{z} \\in V, c \\in \\mathbb{R}$ とする。任意の $\\boldsymbol{x}, \\boldsymbol{y}$ に対して実数 $\\langle\\boldsymbol{x}, \\boldsymbol{y}\\rangle \\in \\mathbb{R}$ が定まり、次の $1 \\sim 4$ の条件を満たすとき、 $\\langle\\boldsymbol{x}, \\boldsymbol{y}\\rangle$ を $\\boldsymbol{x}$ と $\\boldsymbol{y}$ の **内積** 、組 $(V,\\langle, \\rangle)$ を  **内積空間** または計量ベクトル空間という。\n",
    "\n",
    "1. $\\langle\\boldsymbol{y}, \\boldsymbol{x}\\rangle=\\langle\\boldsymbol{x}, \\boldsymbol{y}\\rangle$\n",
    "2. $\\langle\\boldsymbol{x}+\\boldsymbol{y}, \\boldsymbol{z}\\rangle=\\langle\\boldsymbol{x}, \\boldsymbol{z}\\rangle+\\langle\\boldsymbol{y}, \\boldsymbol{z}\\rangle$\n",
    "3. $\\langle c \\boldsymbol{x}, \\boldsymbol{y}\\rangle=c\\langle\\boldsymbol{x}, \\boldsymbol{y}\\rangle$\n",
    "4. $\\langle\\boldsymbol{x}, \\boldsymbol{x}\\rangle \\geq 0$ で、 $\\langle\\boldsymbol{x}, \\boldsymbol{x}\\rangle=0$ ならば $\\boldsymbol{x}=\\mathbf{0}$\n",
    ":::"
   ]
  },
  {
   "cell_type": "markdown",
   "id": "83b06119-2428-4c64-8947-4496c6e6026e",
   "metadata": {},
   "source": [
    "## 問1\n",
    "\n",
    ":::{card}\n",
    "\n",
    "$f(t), g(t) \\in \\mathbb{R}[t]_n$ に対して、\n",
    "\n",
    "$$\n",
    "\\langle f(t), g(t)\\rangle=\\int_{-1}^1 f(t) g(t) d t\n",
    "$$\n",
    "\n",
    "とおく。このとき、 $\\left(\\mathbb{R}[t]_n,\\langle\\rangle,\\right)$ は内積空間であることを示せ。\n",
    ":::"
   ]
  },
  {
   "cell_type": "markdown",
   "id": "6837a3ff-f2fb-47f8-b581-0fb7e00569d7",
   "metadata": {},
   "source": [
    "1. $\\langle\\boldsymbol{y}, \\boldsymbol{x}\\rangle=\\langle\\boldsymbol{x}, \\boldsymbol{y}\\rangle$\n",
    "\n",
    "$$\n",
    "\\langle f(t), g(t)\\rangle\n",
    "=\\int_{-1}^1 f(t) g(t) d t\n",
    "=\\int_{-1}^1 g(t) f(t) d t\n",
    "= \\langle g(t), f(t)\\rangle\n",
    "$$\n",
    "\n",
    "\n",
    "2. $\\langle\\boldsymbol{x}+\\boldsymbol{y}, \\boldsymbol{z}\\rangle=\\langle\\boldsymbol{x}, \\boldsymbol{z}\\rangle+\\langle\\boldsymbol{y}, \\boldsymbol{z}\\rangle$\n",
    "\n",
    "$f'(t) \\in \\mathbb{R}[t]_n$とする。\n",
    "\n",
    "$$\n",
    "\\langle f(t) + f'(t), g(t)\\rangle\n",
    "= \\int_{-1}^1 (f(t) + f'(t)) g(t) d t\\\\\n",
    "= \\int_{-1}^1 f(t) g(t) d t\n",
    "+ \\int_{-1}^1 f'(t) g(t) d t\\\\\n",
    "= \\langle f(t), g(t)\\rangle\n",
    "+ \\langle f'(t), g(t)\\rangle\n",
    "$$\n",
    "\n",
    "\n",
    "3. $\\langle c \\boldsymbol{x}, \\boldsymbol{y}\\rangle=c\\langle\\boldsymbol{x}, \\boldsymbol{y}\\rangle$\n",
    "\n",
    "$$\n",
    "\\langle c f(t), g(t)\\rangle\n",
    "= \\int_{-1}^1 c f(t) g(t) d t\\\\\n",
    "= c \\int_{-1}^1 f(t) g(t) d t\n",
    "= c \\langle f(t), g(t)\\rangle\n",
    "$$\n",
    "\n",
    "\n",
    "4. $\\langle\\boldsymbol{x}, \\boldsymbol{x}\\rangle \\geq 0$ で、 $\\langle\\boldsymbol{x}, \\boldsymbol{x}\\rangle=0$ ならば $\\boldsymbol{x}=\\mathbf{0}$\n",
    "\n",
    "$$\n",
    "\\langle f(t), f(t)\\rangle\n",
    "= \\int_{-1}^1 f(t)^2 d t\n",
    "$$\n",
    "\n",
    "$f(t)$の二乗の積分であるため、$\\langle f(t), f(t)\\rangle \\geq 0$であり、$\\langle f(t), f(t)\\rangle=0$ならば$f(t)=0$\n"
   ]
  },
  {
   "cell_type": "markdown",
   "id": "aa9ed2c0-0fb1-4e81-a2c9-c7a0baf5fa3a",
   "metadata": {},
   "source": [
    "## 問2\n",
    "\n",
    ":::{card}\n",
    "\n",
    "$V$ を内積空間とする。定義 22.1 の内積の条件 $1 \\sim 3$ を用いて、任意の $\\boldsymbol{x}, \\boldsymbol{y}, \\boldsymbol{z} \\in V$ に対して、\n",
    "\n",
    "$$\n",
    "\\langle\\boldsymbol{x}, \\boldsymbol{y}+\\boldsymbol{z}\\rangle=\\langle\\boldsymbol{x}, \\boldsymbol{y}\\rangle+\\langle\\boldsymbol{x}, \\boldsymbol{z}\\rangle, \\quad\\langle\\boldsymbol{x}, c \\boldsymbol{y}\\rangle=c\\langle\\boldsymbol{x}, \\boldsymbol{y}\\rangle\n",
    "$$\n",
    "\n",
    "\n",
    "が成り立つことを示せ。\n",
    ":::"
   ]
  },
  {
   "cell_type": "markdown",
   "id": "0dca5668-f691-449e-8147-bdda38a758bb",
   "metadata": {},
   "source": [
    "$$\n",
    "\\begin{aligned}\n",
    "\\langle\\boldsymbol{x}, \\boldsymbol{y}+\\boldsymbol{z}\\rangle\n",
    "&=\\langle \\boldsymbol{y}+\\boldsymbol{z}, \\boldsymbol{x}\\rangle \\quad (条件1より)\\\\\n",
    "&=\\langle \\boldsymbol{y}, \\boldsymbol{x}\\rangle\n",
    "+ \\langle \\boldsymbol{z}, \\boldsymbol{x}\\rangle \\quad (条件2より)\\\\\n",
    "&=\\langle\\boldsymbol{x}, \\boldsymbol{y} \\rangle + \\langle\\boldsymbol{x}, \\boldsymbol{z}\\rangle \\quad (条件1より)\n",
    "\\end{aligned}\n",
    "$$\n"
   ]
  },
  {
   "cell_type": "markdown",
   "id": "b585c8f8-b587-4a1b-9c12-2726209f45df",
   "metadata": {},
   "source": [
    "$$\n",
    "\\begin{aligned}\n",
    "\\langle\\boldsymbol{x}, c \\boldsymbol{y}\\rangle\n",
    "&= \\langle c \\boldsymbol{y}, \\boldsymbol{x}\\rangle \\quad (条件1より)\\\\\n",
    "&= c\\langle \\boldsymbol{y}, \\boldsymbol{x}\\rangle \\quad (条件3より)\\\\\n",
    "&= c\\langle \\boldsymbol{x}, \\boldsymbol{y}\\rangle \\quad (条件1より)\n",
    "\\end{aligned}\n",
    "$$"
   ]
  },
  {
   "cell_type": "markdown",
   "id": "7ce61604-84df-48cc-b33c-83746320d7d3",
   "metadata": {},
   "source": [
    "## 問3\n",
    "\n",
    ":::{card}\n",
    "\n",
    "$\\mathbb{R}^n$ の標準内積を考える。 $A \\in M_n(\\mathbb{R})$ とすると、任意の $\\boldsymbol{x}, \\boldsymbol{y} \\in \\mathbb{R}^n$ に対して、\n",
    "\n",
    "$$\n",
    "\\langle\\boldsymbol{x}, A \\boldsymbol{y}\\rangle=\\left\\langle A^T \\boldsymbol{x}, \\boldsymbol{y}\\right\\rangle\n",
    "$$\n",
    "\n",
    "が成り立つことを示せ。\n",
    ":::"
   ]
  },
  {
   "cell_type": "markdown",
   "id": "8e5847ab-819b-49a7-b768-9a9adc9a077e",
   "metadata": {},
   "source": [
    "抽象的な内積の定義のもとでの解き方はわからなかった"
   ]
  },
  {
   "cell_type": "markdown",
   "id": "0a22bd89-d7f3-485b-a7ed-4aa43cd60d77",
   "metadata": {},
   "source": [
    "もし内積の具体的な計算に踏み込むことが許されるなら、つまり、$\\langle x, y \\rangle := x^\\top y$とするなら\n",
    "\n",
    "$$\n",
    "\\begin{aligned}\n",
    "\\langle x, Ay \\rangle &= x^\\top Ay \\\\\n",
    "\\langle A^\\top x, y \\rangle &= (A^\\top x)^\\top y\n",
    "= x^\\top A y\n",
    "\\end{aligned}\n",
    "$$\n",
    "\n",
    "よって\n",
    "\n",
    "$$\n",
    "\\langle\\boldsymbol{x}, A \\boldsymbol{y}\\rangle=\\left\\langle A^T \\boldsymbol{x}, \\boldsymbol{y}\\right\\rangle\n",
    "$$\n",
    "\n",
    "が成り立つ"
   ]
  },
  {
   "cell_type": "markdown",
   "id": "d6565d09-ca80-47c9-8f8e-41386e5a27f6",
   "metadata": {},
   "source": [
    "## 問4\n",
    "\n",
    ":::{card}\n",
    "\n",
    "内積空間 $V$ の部分空間 $W$ に対して、 $V$ の部分集合 $W^{\\perp}$ を\n",
    "\n",
    "$$\n",
    "W^{\\perp}=\\{\\boldsymbol{x} \\in V \\mid \\text { 任意の } \\boldsymbol{y} \\in W \\text { に対して、 } \\langle\\boldsymbol{x}, \\boldsymbol{y}\\rangle=0\\}\n",
    "$$\n",
    "\n",
    "\n",
    "により定める。\n",
    "1. $W$ が $V$ の部分空間であることの定義を書け。\n",
    "2. $W$ が $V$ の部分空間であることと同値な 3 つの条件をかけ。\n",
    "3. $W^{\\perp}$ は $V$ の部分空間であることを示せ。\n",
    "4. $W \\cup W^{\\perp}=\\{0\\}$ が成り立つことを示せ。\n",
    "5. $\\mathbb{R}^3$ の部分空間 $W$ を\n",
    "\n",
    "$$\n",
    "W=\\left\\{\\left.c_1\\left(\\begin{array}{c}\n",
    "1 \\\\\n",
    "0 \\\\\n",
    "-1\n",
    "\\end{array}\\right)+c_2\\left(\\begin{array}{c}\n",
    "0 \\\\\n",
    "1 \\\\\n",
    "-1\n",
    "\\end{array}\\right) \\right\\rvert\\, c_1, c_2 \\in \\mathbb{R}\\right\\}\n",
    "$$\n",
    "\n",
    "\n",
    "により定める。 $\\mathbb{R}^3$ の標準内積を考える時、 $W^{\\perp}$ を求めよ。\n",
    ":::"
   ]
  },
  {
   "cell_type": "markdown",
   "id": "00b82b2e-7e99-4d3c-8830-f56310432c6b",
   "metadata": {},
   "source": [
    ":::{card} 補足\n",
    "\n",
    "一般に、内積空間 $V$ の部分空間 $W$ を考えると、 $V$ の任意の元は $x \\in W$ および $\\boldsymbol{y} \\in W^{\\perp}$ を用いて、 $\\boldsymbol{x}+\\boldsymbol{y}$ と一意的に表されることがわかる。このとこから、 $W^{\\perp}$ を $W$ の直交補空間という。また、 $V$ は $W$ と $W^{\\perp}$ の直交直和であるといい、\n",
    "\n",
    "$$\n",
    "V=W \\oplus W^{\\perp}\n",
    "$$\n",
    "\n",
    "と表す。\n",
    ":::"
   ]
  },
  {
   "cell_type": "markdown",
   "id": "268c81f1-7e9d-420e-8de8-8c4a5934406f",
   "metadata": {},
   "source": [
    ":::{card}\n",
    "\n",
    "1. $W$ が $V$ の部分空間であることの定義を書け。\n",
    ":::"
   ]
  },
  {
   "cell_type": "markdown",
   "id": "5bd61c84-b37d-4418-be44-cfc063b0521b",
   "metadata": {},
   "source": [
    "$W$が空集合ではなく、和と定数倍について閉じていること。"
   ]
  },
  {
   "cell_type": "markdown",
   "id": "55adbad4-80b9-4803-82ed-40e201e22644",
   "metadata": {},
   "source": [
    ":::{card}\n",
    "\n",
    "2. $W$ が $V$ の部分空間であることと同値な 3 つの条件をかけ。\n",
    ":::"
   ]
  },
  {
   "cell_type": "markdown",
   "id": "7f75364a-098e-4503-b62a-47b962bb114f",
   "metadata": {},
   "source": [
    "1. $0 \\in W$\n",
    "2. $x,y\\in W \\implies w + y \\in W$\n",
    "3. $c\\in \\mathbb{R}, x\\in W \\implies cx \\in W$"
   ]
  },
  {
   "cell_type": "markdown",
   "id": "3b38b46e-9f0c-446e-8057-35ae38c428a9",
   "metadata": {},
   "source": [
    ":::{card}\n",
    "\n",
    "3. $W^{\\perp}$ は $V$ の部分空間であることを示せ。\n",
    ":::"
   ]
  },
  {
   "cell_type": "markdown",
   "id": "72a7d1b2-30dd-40dd-8e68-b1be825abc62",
   "metadata": {},
   "source": [
    "(1) \n",
    "$\\boldsymbol{0} \\in V$ であり、 $\\langle \\boldsymbol{0}, y \\rangle = 0$ のため $\\boldsymbol{0} \\in W^\\perp$"
   ]
  },
  {
   "cell_type": "markdown",
   "id": "85ee829c-bdbe-48d6-ba28-9bb9a6a4921e",
   "metadata": {},
   "source": [
    "(2) \n",
    "$\\boldsymbol{x}_1, \\boldsymbol{x}_2 \\in W^{\\perp}$ は、 $\\boldsymbol{y} \\in W$について、\n",
    "\n",
    "$$\n",
    "\\langle \\boldsymbol{x}_1, \\boldsymbol{y} \\rangle\n",
    "+\n",
    "\\langle \\boldsymbol{x}_2, \\boldsymbol{y} \\rangle\n",
    "= 0\n",
    "$$\n",
    "\n",
    "を満たす。標準内積の定義より\n",
    "\n",
    "$$\n",
    "\\langle \\boldsymbol{x}_1, \\boldsymbol{y} \\rangle\n",
    "+\n",
    "\\langle \\boldsymbol{x}_2, \\boldsymbol{y} \\rangle\n",
    "= \\langle \\boldsymbol{x}_1 + \\boldsymbol{x}_2, \\boldsymbol{y} \\rangle\n",
    "= 0\n",
    "$$\n",
    "\n",
    "であるため、$\\boldsymbol{x}_1 + \\boldsymbol{x}_2 \\in W^{\\perp}$\n",
    "\n"
   ]
  },
  {
   "cell_type": "markdown",
   "id": "c5dc07cf-6d43-4ba4-9fdc-ed7768032272",
   "metadata": {},
   "source": [
    "(3) \n",
    "$\\boldsymbol{x} \\in W^{\\perp}$ は、 $\\boldsymbol{y} \\in W, c \\in \\mathbb{R}$について、\n",
    "\n",
    "$$\n",
    "c \\langle \\boldsymbol{x}, \\boldsymbol{y} \\rangle = 0\n",
    "$$\n",
    "\n",
    "をみたす。標準内積の定義より\n",
    "\n",
    "$$\n",
    "c \\langle \\boldsymbol{x}, \\boldsymbol{y} \\rangle\n",
    "= \\langle c \\boldsymbol{x}, \\boldsymbol{y} \\rangle\n",
    "= 0\n",
    "$$\n",
    "\n",
    "のため、$c \\boldsymbol{x} \\in W^{\\perp}$\n",
    "\n"
   ]
  },
  {
   "cell_type": "markdown",
   "id": "45f749d3-dd85-4a65-827c-ba58a5e6e14e",
   "metadata": {},
   "source": [
    "よって、(1) ~ (3)より、$W^\\perp$は$V$の部分空間である"
   ]
  },
  {
   "cell_type": "markdown",
   "id": "5a08c84c-55b1-4043-8318-7c23c18680d7",
   "metadata": {},
   "source": [
    ":::{card}\n",
    "\n",
    "4. $W \\cup W^{\\perp}=\\{0\\}$ が成り立つことを示せ。\n",
    ":::"
   ]
  },
  {
   "cell_type": "markdown",
   "id": "09ffc56e-a803-43a8-bdb0-09e52cb610b1",
   "metadata": {},
   "source": [
    "$y=0$に対して$\\langle\\boldsymbol{x}, \\boldsymbol{y}\\rangle=0$を満たす$x \\neq 0$が存在するため\n",
    "\n",
    "$$\n",
    "W \\cup W^{\\perp} = \\{ x | x\\in W \\lor x \\in W^{\\perp} \\}\n",
    "\\neq \\{0\\}\n",
    "$$\n"
   ]
  },
  {
   "cell_type": "markdown",
   "id": "ef9089f2-5001-44d2-84fe-cba0e6a7b52c",
   "metadata": {},
   "source": [
    "もし 問題文が$W\\cap W^\\perp := \\{ x | x\\in W \\land x \\in W^{\\perp} \\}$であれば"
   ]
  },
  {
   "cell_type": "markdown",
   "id": "4d8cc450-f602-4f83-8ea2-a82d20862dcb",
   "metadata": {},
   "source": [
    "$x \\in (W \\cap W^\\perp)$ は$y\\in W$について $\\langle x, y \\rangle = 0$ であるような$x$"
   ]
  },
  {
   "cell_type": "markdown",
   "id": "d70da522-1f9e-4c29-8ae3-1de8d4384a86",
   "metadata": {},
   "source": []
  },
  {
   "cell_type": "markdown",
   "id": "9be9630d-1e52-4154-986e-e7ab84e915cf",
   "metadata": {},
   "source": [
    ":::{card}\n",
    "\n",
    "5. $\\mathbb{R}^3$ の部分空間 $W$ を\n",
    "\n",
    "$$\n",
    "W=\\left\\{\\left.c_1\\left(\\begin{array}{c}\n",
    "1 \\\\\n",
    "0 \\\\\n",
    "-1\n",
    "\\end{array}\\right)+c_2\\left(\\begin{array}{c}\n",
    "0 \\\\\n",
    "1 \\\\\n",
    "-1\n",
    "\\end{array}\\right) \\right\\rvert\\, c_1, c_2 \\in \\mathbb{R}\\right\\}\n",
    "$$\n",
    "\n",
    "\n",
    "により定める。 $\\mathbb{R}^3$ の標準内積を考える時、 $W^{\\perp}$ を求めよ。\n",
    ":::"
   ]
  },
  {
   "cell_type": "markdown",
   "id": "324aa76f-2979-45c2-9db7-d44741f250a0",
   "metadata": {},
   "source": [
    "$$\n",
    "y = \n",
    "c_1\\left(\\begin{array}{c}\n",
    "1 \\\\\n",
    "0 \\\\\n",
    "-1\n",
    "\\end{array}\\right)+c_2\\left(\\begin{array}{c}\n",
    "0 \\\\\n",
    "1 \\\\\n",
    "-1\n",
    "\\end{array}\\right)\n",
    "=\n",
    "\\begin{pmatrix}\n",
    "c_1 \\\\ c_2 \\\\ -c_1 - c_2\n",
    "\\end{pmatrix}\n",
    "\\in W\n",
    "$$\n",
    "\n",
    "との内積が零になるような$x=(x_1,x_2,x_3)$\n",
    "\n",
    "$$\n",
    "\\langle x, y \\rangle\n",
    "= \n",
    "c_1 x_1 + c_2 x_2 - c_1 x_3 - c_2 x_3 = 0\n",
    "$$"
   ]
  },
  {
   "cell_type": "markdown",
   "id": "2f1e810c-b808-46dd-ab68-80c1d25838b8",
   "metadata": {},
   "source": [
    "↓基底を別々に考えていいのか"
   ]
  },
  {
   "cell_type": "markdown",
   "id": "66dc8495-6429-4e8e-9bb2-d985980531a8",
   "metadata": {},
   "source": [
    "ChatGPTの回答まとめ：\n",
    "\n",
    "Wは2つのベクトルで張られる空間。Wの基底である\n",
    "\n",
    "$$\n",
    "\\boldsymbol{y}_1 = \n",
    "\\begin{pmatrix}\n",
    "1 \\\\\n",
    "0 \\\\\n",
    "-1\n",
    "\\end{pmatrix}\n",
    "$$\n",
    "\n",
    "と\n",
    "\n",
    "\n",
    "$$\n",
    "\\boldsymbol{y}_2 = \n",
    "\\begin{pmatrix}\n",
    "0 \\\\\n",
    "1 \\\\\n",
    "-1\n",
    "\\end{pmatrix}\n",
    "$$\n",
    "\n",
    "の両方に直交するベクトルが$W^\\perp$に属する。よって\n",
    "\n",
    "$$\n",
    "\\langle \\boldsymbol{x}, \\boldsymbol{y}_1 \\rangle = 0\\\\\n",
    "\\langle \\boldsymbol{x}, \\boldsymbol{y}_2 \\rangle = 0\n",
    "$$\n",
    "\n",
    "を満たす$x$を求める\n",
    "\n",
    "$$\n",
    "\\begin{cases}\n",
    "\\langle \\boldsymbol{x}, \\boldsymbol{y}_1 \\rangle = 0\\\\\n",
    "\\langle \\boldsymbol{x}, \\boldsymbol{y}_2 \\rangle = 0\n",
    "\\end{cases}\n",
    "=\n",
    "\\begin{cases}\n",
    "x_1 - x_3 = 0\\\\\n",
    "x_2 - x_3 = 0\n",
    "\\end{cases}\n",
    "$$\n",
    "\n",
    "より、$x_1 = x_2 = x_3$\n",
    "\n",
    "なので、$c\\in \\mathbb{R}$に対し\n",
    "\n",
    "$$\n",
    "\\boldsymbol{x} =\n",
    "c\n",
    "\\begin{pmatrix}\n",
    "1 \\\\\n",
    "1 \\\\\n",
    "1\n",
    "\\end{pmatrix}\n",
    "$$\n",
    "\n",
    "よって$W^\\perp$は\n",
    "\n",
    "$$\n",
    "W^\\perp\n",
    "=\\left\\{\\left.\n",
    "c\n",
    "\\left(\\begin{array}{c}\n",
    "1 \\\\\n",
    "1 \\\\\n",
    "1\n",
    "\\end{array}\\right)\\right\\rvert\\, c \\in \\mathbb{R}\\right\\}\n",
    "$$"
   ]
  }
 ],
 "metadata": {
  "kernelspec": {
   "display_name": "Python 3 (ipykernel)",
   "language": "python",
   "name": "python3"
  },
  "language_info": {
   "codemirror_mode": {
    "name": "ipython",
    "version": 3
   },
   "file_extension": ".py",
   "mimetype": "text/x-python",
   "name": "python",
   "nbconvert_exporter": "python",
   "pygments_lexer": "ipython3",
   "version": "3.10.14"
  }
 },
 "nbformat": 4,
 "nbformat_minor": 5
}
