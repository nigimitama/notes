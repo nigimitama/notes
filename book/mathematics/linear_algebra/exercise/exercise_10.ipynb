{
 "cells": [
  {
   "cell_type": "markdown",
   "id": "52a7cf11-dc05-43b3-a671-16d01bdd4dd0",
   "metadata": {},
   "source": [
    "# 練習問題メモ 10（特別な形をした行列式）"
   ]
  },
  {
   "cell_type": "markdown",
   "id": "c2197875-26a6-4990-a6bd-e39c03a7b74a",
   "metadata": {},
   "source": [
    "## 10.1\n",
    "\n",
    "ヴァンデルモンドの行列式について、次の問いに答えよ。\n",
    "\n",
    ":::{card}\n",
    "\n",
    "1. 行列式\n",
    "\n",
    "$$\n",
    "\\left|\\begin{array}{ccc}1 & 1 & 1 \\\\ 1 & 2 & 3 \\\\ 1^2 & 2^2 & 3^2\\end{array}\\right|\n",
    "$$\n",
    "\n",
    "をサラスの方法とヴァンデルモンドの行列式を用いる方法の 2 通りで計算せよ。\n",
    ":::"
   ]
  },
  {
   "cell_type": "markdown",
   "id": "4a32b1f2-6e5a-48e9-8345-971bcecca2da",
   "metadata": {},
   "source": [
    "サラスの方法：\n",
    "\n",
    "$$\n",
    "\\left|\\begin{array}{ccc}1 & 1 & 1 \\\\ 1 & 2 & 3 \\\\ 1^2 & 2^2 & 3^2\\end{array}\\right|\n",
    "= 2\\times 3^2 + 3 + 2^2 - 2 - 3^2 - 2^2 \\times 3\\\\\n",
    "= 18 + 3 + 4 - 2 - 9 - 12\\\\\n",
    "= 21 + 4 - 2 - 21\\\\\n",
    "= 2\n",
    "$$"
   ]
  },
  {
   "cell_type": "markdown",
   "id": "bbe4e62a-173e-4727-8be8-c9f735c37a2b",
   "metadata": {},
   "source": [
    "ヴァンデルモンド\n",
    "\n",
    "$$\n",
    "\\left|\\begin{array}{ccc}1 & 1 & 1 \\\\ 1 & 2 & 3 \\\\ 1^2 & 2^2 & 3^2\\end{array}\\right|\n",
    "= (2 - 1)(3- 1) (3- 2)\\\\\n",
    "= 1 \\times 2 \\times 1\\\\\n",
    "= 2\n",
    "$$\n"
   ]
  },
  {
   "cell_type": "markdown",
   "id": "d5015d67-efbb-4142-b75f-dd0793de0075",
   "metadata": {},
   "source": [
    ":::{card}\n",
    "2. 行列式\n",
    "\n",
    "$$\n",
    "\\left|\\begin{array}{ccccc}\n",
    "1 & 1 & 1 & \\cdots & 1 \\\\\n",
    "1 & 2 & 3 & \\cdots & n \\\\\n",
    "1^2 & 2^2 & 3^2 & \\cdots & n^2 \\\\\n",
    "\\vdots & \\vdots & \\vdots & \\ddots & \\vdots \\\\\n",
    "1^{n-1} & 2^{n-1} & 3^{n-1} & \\cdots & n^{n-1}\n",
    "\\end{array}\\right|\n",
    "$$\n",
    "\n",
    "を計算せよ\n",
    ":::"
   ]
  },
  {
   "cell_type": "markdown",
   "id": "9d5b789f-ff27-43c9-b015-9adc01e3fe9f",
   "metadata": {},
   "source": [
    "$$\n",
    "(2-1)(3-1)\\times \\cdots \\times (n-1)\\\\\n",
    "\\times (3-2)(4-2)\\times \\cdots \\times (n-2)\\\\\n",
    "\\vdots\\\\\n",
    "\\times (n-(n-1))\n",
    "$$"
   ]
  },
  {
   "cell_type": "markdown",
   "id": "f07e7cf6-a233-41dd-a483-72e0bc6c0027",
   "metadata": {},
   "source": [
    "$$\n",
    "=1 \\times 2 \\times \\cdots \\times (n-1)\\\\\n",
    "\\times 1 \\times 2 \\times \\cdots \\times (n-2)\\\\\n",
    "\\vdots\\\\\n",
    "\\times 1\n",
    "$$"
   ]
  },
  {
   "cell_type": "markdown",
   "id": "b9b41c27-8623-4434-a583-cdab25f9e3af",
   "metadata": {},
   "source": [
    "$$\n",
    "= (n-1)! \\times (n-2)! \\times \\cdots \\times (n-(n-1))!\n",
    "$$\n",
    "\n",
    "これ以上簡単にする方法はわからなかった"
   ]
  },
  {
   "cell_type": "markdown",
   "id": "d8efadb1-e0a9-4094-b5cb-61f58838c908",
   "metadata": {},
   "source": [
    "## 10.2\n",
    "\n",
    ":::{card}\n",
    "次の 1～2 の行列式を計算せよ\n",
    "\n",
    "1.\n",
    "\n",
    "$$\n",
    "\\left|\\begin{array}{cccccc}\n",
    "x & a_1 & a_2 & \\cdots & a_{n-1} & 1 \\\\\n",
    "a_1 & x & a_2 & \\cdots & a_{n-1} & 1 \\\\\n",
    "a_1 & a_2 & x & \\cdots & a_{n-1} & 1 \\\\\n",
    "\\vdots & \\vdots & \\vdots & \\ddots & \\vdots & \\vdots \\\\\n",
    "a_1 & a_2 & a_3 & \\cdots & x & 1 \\\\\n",
    "a_1 & a_2 & a_3 & \\cdots & a_n & 1\n",
    "\\end{array}\\right|\n",
    "$$\n",
    ":::"
   ]
  },
  {
   "cell_type": "markdown",
   "id": "f384b534-23de-4100-bf44-b46c818f60cf",
   "metadata": {},
   "source": [
    ":::{dropdown} memo\n",
    "3次のとき\n",
    "\n",
    "$$\n",
    "\\left|\\begin{array}{ccc}\n",
    "x & a_1 & 1\\\\\n",
    "a_1 & x & 1\\\\\n",
    "a_1 & a_2 & 1\\\\\n",
    "\\end{array}\\right|\n",
    "= x^2 + a_1^2 + a_1 a_2 - a_1 x - a_1^2 - a_2 x\\\\\n",
    "= x^2 - a_1 x - a_2 x + a_1 a_2\\\\\n",
    "= (x - a_1)(x - a_2)\n",
    "$$\n",
    ":::"
   ]
  },
  {
   "cell_type": "markdown",
   "id": "d501af2c-5e61-4daa-b1ed-9bbfa9bd0c86",
   "metadata": {},
   "source": [
    ":::{dropdown} memo\n",
    "\n",
    "もし\n",
    "\n",
    "$$\n",
    "\\left|\\begin{array}{cccccc}\n",
    "x & a_2 & a_3 & \\cdots & a_n & 1 \\\\\n",
    "a_1 & x & a_3 & \\cdots & a_n & 1 \\\\\n",
    "a_1 & a_2 & x & \\cdots & a_n & 1 \\\\\n",
    "\\vdots & \\vdots & \\vdots & \\ddots & \\vdots & \\vdots \\\\\n",
    "a_1 & a_2 & a_3 & \\cdots & x & 1 \\\\\n",
    "a_1 & a_2 & a_3 & \\cdots & a_n & 1\n",
    "\\end{array}\\right|\n",
    "$$\n",
    "\n",
    "ならもっと簡単で、一番下の行である第n+1行を1~n行から差し引けば下三角行列になる\n",
    "\n",
    "答えは一緒で\n",
    "\n",
    "$$\n",
    "\\prod_{i=1}^n\\left(x-a_i\\right)\n",
    "$$\n",
    ":::"
   ]
  },
  {
   "cell_type": "markdown",
   "id": "2bc399fb-9a58-4c34-bc91-c2de5699d3e6",
   "metadata": {},
   "source": [
    "\n",
    "\n",
    "$$\n",
    "\\left|\\begin{array}{cccccc}\n",
    "x & a_1 & a_2 & \\cdots & a_{n-1} & 1 \\\\\n",
    "a_1 & x & a_2 & \\cdots & a_{n-1} & 1 \\\\\n",
    "a_1 & a_2 & x & \\cdots & a_{n-1} & 1 \\\\\n",
    "\\vdots & \\vdots & \\vdots & \\ddots & \\vdots & \\vdots \\\\\n",
    "a_1 & a_2 & a_3 & \\cdots & x & 1 \\\\\n",
    "a_1 & a_2 & a_3 & \\cdots & a_n & 1\n",
    "\\end{array}\\right|\n",
    "$$\n",
    "\n",
    "\n",
    "第i行（$1 \\leq i < n$）について、i+1行の-1倍を加えて上三角行列にする\n",
    "\n",
    "$$\n",
    "\\left|\\begin{array}{cccccc}\n",
    "x-a_1 & a_1-x  & 0     & \\cdots & 0       & 0 \\\\\n",
    "0     & x-a_2  & a_2-x & \\cdots & 0       & 0 \\\\\n",
    "0     & 0      & x-a_3 & \\cdots & a_{n-1} & 0 \\\\\n",
    "\\vdots & \\vdots & \\vdots & \\ddots & \\vdots & \\vdots \\\\\n",
    "0      & 0     & 0     & \\cdots & x-a_n   & 0 \\\\\n",
    "a_1    & a_2   & a_3 & \\cdots & a_n & 1\n",
    "\\end{array}\\right|\n",
    "$$\n"
   ]
  },
  {
   "cell_type": "markdown",
   "id": "fc7edff8-bae5-4de0-889b-422644460ee9",
   "metadata": {},
   "source": [
    "\n",
    "$(n-1, n-1)$にある1を$(1,1)$まで持っていきたい\n",
    "\n",
    "第$n+1$列を第1列まで移動する（隣り合った列同士で位置を入れ替える行為を$n-2$回繰り返す（$n-1$次の行列なので$n-2$））\n",
    "\n",
    "第$n+1$行を第1行まで移動する（隣り合った行同士で位置を入れ替える行為を$n-2$回繰り返す）\n",
    "\n",
    "（合計$2(n-2)=2n-4$回繰り返した→偶数回→行列式の符号は変わらず）\n",
    "\n",
    "$$\n",
    "\\left|\\begin{array}{cccccc}\n",
    "1 & a_1    & a_2   & a_3 & \\cdots & a_n\\\\\n",
    "0 & x-a_1 & a_1-x  & 0     & \\cdots & 0\\\\\n",
    "0 & 0 & x-a_2  & a_2-x & \\cdots & 0    \\\\\n",
    "0 & 0     & 0      & x-a_3 & \\cdots & a_{n-1} \\\\\n",
    "\\vdots & \\vdots & \\vdots & \\ddots & \\vdots & \\vdots \\\\\n",
    "0 & 0      & 0     & 0     & \\cdots & x-a_n   \\\\\n",
    "\\end{array}\\right|\n",
    "$$\n",
    "\n",
    "三角行列の行列式は対角成分の積なので\n",
    "\n",
    "$$\n",
    "1 \\times\n",
    "\\left|\\begin{array}{cccccc}\n",
    "x-a_1 & a_1-x  & 0     & \\cdots & 0\\\\\n",
    "0 & x-a_2  & a_2-x & \\cdots & 0    \\\\\n",
    "0     & 0      & x-a_3 & \\cdots & a_{n-1} \\\\\n",
    "\\vdots & \\vdots & \\ddots & \\vdots & \\vdots \\\\\n",
    "0      & 0     & 0     & \\cdots & x-a_n   \\\\\n",
    "\\end{array}\\right|\n",
    "= \\prod_{i=1}^n\\left(x-a_i\\right)\n",
    "$$"
   ]
  },
  {
   "cell_type": "markdown",
   "id": "746776e8-55a0-4ff9-9f57-60592fdc083b",
   "metadata": {},
   "source": [
    "\n",
    ":::{card}\n",
    "2.\n",
    "\n",
    "$$\n",
    "\\left|\\begin{array}{ccccc}\n",
    "1 & 1 & 1 & \\cdots & 1 \\\\\n",
    "1 & 2 & 1 & \\cdots & 1 \\\\\n",
    "1 & 1 & 3 & \\cdots & 1 \\\\\n",
    "\\vdots & \\vdots & \\vdots & \\ddots & \\vdots \\\\\n",
    "1 & 1 & 1 & \\cdots & n\n",
    "\\end{array}\\right|\n",
    "$$\n",
    ":::"
   ]
  },
  {
   "cell_type": "markdown",
   "id": "f2ec9c17-39cc-457a-902c-0b4a791aa76b",
   "metadata": {},
   "source": [
    "1行目を2~n行目から差し引いて\n",
    "\n",
    "$$\n",
    "\\left|\\begin{array}{ccccc}\n",
    "1 & 1 & 1 & \\cdots & 1 \\\\\n",
    "0 & 1 & 0 & \\cdots & 0 \\\\\n",
    "0 & 0 & 2 & \\cdots & 0 \\\\\n",
    "\\vdots & \\vdots & \\vdots & \\ddots & \\vdots \\\\\n",
    "0 & 0 & 0 & \\cdots & n-1\n",
    "\\end{array}\\right|\n",
    "$$\n",
    "\n",
    "という上三角行列の形にすれば、三角行列の行列式は対角成分の積で求められるという性質により、答えは\n",
    "\n",
    "$$\n",
    "(n-1)!\n",
    "$$"
   ]
  },
  {
   "cell_type": "markdown",
   "id": "857f02fa-4476-4349-83be-42dbcd706cf6",
   "metadata": {},
   "source": [
    "## 10.3\n",
    "\n",
    ":::{card}\n",
    "次の$[\\quad]$を埋めよ。\n",
    "\n",
    "自然数 $n$ に対して、\n",
    "\n",
    "$$\n",
    "D_n=\\left|\\begin{array}{ccccc}\n",
    "1 & 1 & 1 & \\cdots & 1 \\\\\n",
    "1 & 2 & 2 & \\cdots & 2 \\\\\n",
    "1 & 2 & 3 & \\cdots & 3 \\\\\n",
    "\\vdots & \\vdots & \\vdots & \\ddots & \\vdots \\\\\n",
    "1 & 2 & 3 & \\cdots & n\n",
    "\\end{array}\\right|\n",
    "$$\n",
    "\n",
    "とおく。 $D_n$ の値を $n$ に関する数学的帰納法により求める。\n",
    "\n",
    "$n=1$ のとき、 $D_1=[1]$ である。\n",
    ":::"
   ]
  },
  {
   "cell_type": "markdown",
   "id": "b1cb3130-4cd0-4725-9087-9662807ec322",
   "metadata": {},
   "source": [
    "$$\n",
    "[1] = 1\n",
    "$$"
   ]
  },
  {
   "cell_type": "markdown",
   "id": "3d9546c7-7929-43d2-94e8-1bd1a023d116",
   "metadata": {},
   "source": [
    ":::{card}\n",
    "$n=k(k$ は自然数 $)$ のとき、 $D_k=[2]$ であると仮定する。 $n=k+1$ とすると、\n",
    ":::\n",
    "\n",
    "$$\n",
    "[2] = 1\n",
    "$$\n"
   ]
  },
  {
   "cell_type": "markdown",
   "id": "19118e7e-b73d-4c62-a2d2-b1461ac00d0f",
   "metadata": {},
   "source": [
    ":::{card}\n",
    "\n",
    "$$\n",
    "D_{k+1}=\\left|\\begin{array}{ccccc}\n",
    "1 & 1 & 1 & \\cdots & 1 \\\\\n",
    "1 & 2 & 2 & \\cdots & 2 \\\\\n",
    "1 & 2 & 3 & \\cdots & 3 \\\\\n",
    "\\vdots & \\vdots & \\vdots & \\ddots & \\vdots \\\\\n",
    "1 & 2 & 3 & \\cdots & k+1\n",
    "\\end{array}\\right|=\\left|\\begin{array}{ccccc}\n",
    "1 & 0 & 0 & \\cdots & 0 \\\\\n",
    "1 & 1 & 1 & \\cdots & 1 \\\\\n",
    "1 & 1 & 2 & \\cdots & 2 \\\\\n",
    "\\vdots & \\vdots & \\vdots & \\ddots & \\vdots \\\\\n",
    "1 & 1 & 2 & \\cdots & k\n",
    "\\end{array}\\right|(\\because [3])\n",
    "$$\n",
    ":::"
   ]
  },
  {
   "cell_type": "markdown",
   "id": "7aba94eb-eecd-4535-ba52-a39c34b3b5c4",
   "metadata": {},
   "source": [
    "\\[3\\] = 列基本変形（第1列を-1倍して第2~k+1列に加えた）"
   ]
  },
  {
   "cell_type": "markdown",
   "id": "35b8c731-1ae5-42cf-ae16-02b613ea9827",
   "metadata": {},
   "source": [
    ":::{card}\n",
    "$=D_{[4]} (\\because [5]$ に関する余因子展開 $)=[6](\\because$ 帰納法の仮定 $)$ 。\n",
    "\n",
    "よって、 $D_n=[7]$ であることが示された。\n",
    ":::"
   ]
  },
  {
   "cell_type": "markdown",
   "id": "ffac6b58-f20d-4559-8f0a-d10d703e4120",
   "metadata": {},
   "source": [
    "$$\n",
    "[4] = k\n",
    "$$\n",
    "\n",
    "第1列の(1, 1)要素のみが非ゼロのときに余因子みたいにできる性質を使ってる？余因子展開ではないから違うか？\n",
    "\n",
    "$$\n",
    "[5] = D_{k+1}\n",
    "$$\n",
    "\n",
    "$$\n",
    "[6] = 1\n",
    "$$\n",
    "\n",
    "$$\n",
    "[7] = 1\n",
    "$$"
   ]
  },
  {
   "cell_type": "markdown",
   "id": "067de70a-de4e-4306-b6a3-e08ec01562cf",
   "metadata": {},
   "source": [
    "## 10.4\n",
    "\n",
    ":::{card}\n",
    "$A=\\left(a_{i j}\\right)$ を偶数次の交代行列とする。このとき、 $|A|$ は $A$ の成分 $a_{i j}$ の多項式 $P$ を用いて、\n",
    "\n",
    "$$\n",
    "|A|=P^2\n",
    "$$\n",
    "\n",
    "と表させることがわかる。\n",
    "1. 2 次の交代行列の行列式を直接計算し、上の事実を確かめよ。\n",
    "2. 4 次の交代行列の行列式を直接計算し、上の事実を確かめよ。\n",
    ":::"
   ]
  },
  {
   "cell_type": "markdown",
   "id": "45582737-d18d-4dec-be6a-8739ec72b748",
   "metadata": {},
   "source": [
    "$$\n",
    "X =\n",
    "\\begin{pmatrix}\n",
    "x_{11} & x_{12}\\\\\n",
    "x_{21} & x_{22}\n",
    "\\end{pmatrix}\n",
    "$$\n",
    "\n",
    "$$\n",
    "\\begin{align}\n",
    "A\n",
    "&= \\frac{1}{2} (X - X^T)\\\\\n",
    "&=\n",
    "\\frac{1}{2}\n",
    "\\begin{pmatrix}\n",
    "0 & x_{12} - x_{21}\\\\\n",
    "x_{21} - x_{12} & 0\n",
    "\\end{pmatrix}\n",
    "\\end{align}\n",
    "$$\n",
    "\n",
    "$$\n",
    "|A|\n",
    "= \\frac{1}{2} (x_{12} - x_{21}) (x_{21} - x_{12}) \\\\\n",
    "= \\frac{1}{2} (- x_{12}^2 - x_{21}^2 + 2 x_{12} x_{21})\n",
    "$$"
   ]
  },
  {
   "cell_type": "markdown",
   "id": "aeb8376c-ccd4-40ae-af0d-e966ade108ce",
   "metadata": {},
   "source": []
  }
 ],
 "metadata": {
  "kernelspec": {
   "display_name": "Python 3 (ipykernel)",
   "language": "python",
   "name": "python3"
  },
  "language_info": {
   "codemirror_mode": {
    "name": "ipython",
    "version": 3
   },
   "file_extension": ".py",
   "mimetype": "text/x-python",
   "name": "python",
   "nbconvert_exporter": "python",
   "pygments_lexer": "ipython3",
   "version": "3.9.18"
  }
 },
 "nbformat": 4,
 "nbformat_minor": 5
}
