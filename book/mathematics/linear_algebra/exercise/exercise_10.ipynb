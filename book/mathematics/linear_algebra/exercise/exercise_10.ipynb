{
 "cells": [
  {
   "cell_type": "markdown",
   "id": "52a7cf11-dc05-43b3-a671-16d01bdd4dd0",
   "metadata": {},
   "source": [
    "# 練習問題メモ 10（特別な形をした行列式）"
   ]
  },
  {
   "cell_type": "markdown",
   "id": "c2197875-26a6-4990-a6bd-e39c03a7b74a",
   "metadata": {},
   "source": [
    "## 10.1\n",
    "\n",
    "ヴァンデルモンドの行列式について、次の問いに答えよ。\n",
    "\n",
    ":::{card}\n",
    "\n",
    "1. 行列式\n",
    "\n",
    "$$\n",
    "\\left|\\begin{array}{ccc}1 & 1 & 1 \\\\ 1 & 2 & 3 \\\\ 1^2 & 2^2 & 3^2\\end{array}\\right|\n",
    "$$\n",
    "\n",
    "をサラスの方法とヴァンデルモンドの行列式を用いる方法の 2 通りで計算せよ。\n",
    ":::"
   ]
  },
  {
   "cell_type": "markdown",
   "id": "4a32b1f2-6e5a-48e9-8345-971bcecca2da",
   "metadata": {},
   "source": [
    "サラスの方法：\n",
    "\n",
    "$$\n",
    "\\left|\\begin{array}{ccc}1 & 1 & 1 \\\\ 1 & 2 & 3 \\\\ 1^2 & 2^2 & 3^2\\end{array}\\right|\n",
    "= 2\\times 3^2 + 3 + 2^2 - 2 - 3^2 - 2^2 \\times 3\\\\\n",
    "= 18 + 3 + 4 - 2 - 9 - 12\\\\\n",
    "= 21 + 4 - 2 - 21\\\\\n",
    "= 2\n",
    "$$"
   ]
  },
  {
   "cell_type": "markdown",
   "id": "bbe4e62a-173e-4727-8be8-c9f735c37a2b",
   "metadata": {},
   "source": [
    "ヴァンデルモンド\n",
    "\n",
    "$$\n",
    "\\left|\\begin{array}{ccc}1 & 1 & 1 \\\\ 1 & 2 & 3 \\\\ 1^2 & 2^2 & 3^2\\end{array}\\right|\n",
    "= (2 - 1)(3- 1) (3- 2)\\\\\n",
    "= 1 \\times 2 \\times 1\\\\\n",
    "= 2\n",
    "$$\n"
   ]
  },
  {
   "cell_type": "markdown",
   "id": "d5015d67-efbb-4142-b75f-dd0793de0075",
   "metadata": {},
   "source": [
    ":::{card}\n",
    "2. 行列式\n",
    "\n",
    "$$\n",
    "\\left|\\begin{array}{ccccc}\n",
    "1 & 1 & 1 & \\cdots & 1 \\\\\n",
    "1 & 2 & 3 & \\cdots & n \\\\\n",
    "1^2 & 2^2 & 3^2 & \\cdots & n^2 \\\\\n",
    "\\vdots & \\vdots & \\vdots & \\ddots & \\vdots \\\\\n",
    "1^{n-1} & 2^{n-1} & 3^{n-1} & \\cdots & n^{n-1}\n",
    "\\end{array}\\right|\n",
    "$$\n",
    "\n",
    "を計算せよ\n",
    ":::"
   ]
  },
  {
   "cell_type": "markdown",
   "id": "9d5b789f-ff27-43c9-b015-9adc01e3fe9f",
   "metadata": {},
   "source": [
    "$$\n",
    "(2-1)(3-1)\\times \\cdots \\times (n-1)\\\\\n",
    "\\times (3-2)(4-2)\\times \\cdots \\times (n-2)\\\\\n",
    "\\vdots\\\\\n",
    "\\times (n-(n-1))\n",
    "$$"
   ]
  },
  {
   "cell_type": "markdown",
   "id": "f07e7cf6-a233-41dd-a483-72e0bc6c0027",
   "metadata": {},
   "source": [
    "$$\n",
    "=1 \\times 2 \\times \\cdots \\times (n-1)\\\\\n",
    "\\times 1 \\times 2 \\times \\cdots \\times (n-2)\\\\\n",
    "\\vdots\\\\\n",
    "\\times 1\n",
    "$$"
   ]
  },
  {
   "cell_type": "markdown",
   "id": "b9b41c27-8623-4434-a583-cdab25f9e3af",
   "metadata": {},
   "source": [
    "$$\n",
    "= (n-1)! \\times (n-2)! \\times \\cdots \\times (n-(n-1))!\n",
    "$$\n",
    "\n",
    "これ以上簡単にする方法はわからなかった"
   ]
  },
  {
   "cell_type": "markdown",
   "id": "d8efadb1-e0a9-4094-b5cb-61f58838c908",
   "metadata": {},
   "source": [
    "## 10.2\n",
    "\n",
    ":::{card}\n",
    "次の 1～2 の行列式を計算せよ\n",
    "\n",
    "1.\n",
    "\n",
    "$$\n",
    "\\left|\\begin{array}{cccccc}\n",
    "x & a_1 & a_2 & \\cdots & a_{n-1} & 1 \\\\\n",
    "a_1 & x & a_2 & \\cdots & a_{n-1} & 1 \\\\\n",
    "a_1 & a_2 & x & \\cdots & a_{n-1} & 1 \\\\\n",
    "\\vdots & \\vdots & \\vdots & \\ddots & \\vdots & \\vdots \\\\\n",
    "a_1 & a_2 & a_3 & \\cdots & x & 1 \\\\\n",
    "a_1 & a_2 & a_3 & \\cdots & a_n & 1\n",
    "\\end{array}\\right|\n",
    "$$\n",
    ":::"
   ]
  },
  {
   "cell_type": "markdown",
   "id": "f384b534-23de-4100-bf44-b46c818f60cf",
   "metadata": {},
   "source": [
    "3次のとき\n",
    "\n",
    "$$\n",
    "\\left|\\begin{array}{ccc}\n",
    "x & a_1 & 1\\\\\n",
    "a_1 & x & 1\\\\\n",
    "a_1 & a_2 & 1\\\\\n",
    "\\end{array}\\right|\n",
    "= x^2 + a_1^2 + a_1 a_2 - a_1 x - a_1^2 - a_2 x\\\\\n",
    "= x^2 - a_1 x - a_2 x + a_1 a_2\\\\\n",
    "= (x - a_1)(x - a_2)\n",
    "$$"
   ]
  },
  {
   "cell_type": "markdown",
   "id": "a3d5248a-5a65-41f0-96aa-cd99bdebe45b",
   "metadata": {},
   "source": []
  },
  {
   "cell_type": "markdown",
   "id": "746776e8-55a0-4ff9-9f57-60592fdc083b",
   "metadata": {},
   "source": [
    "\n",
    ":::{card}\n",
    "2.\n",
    "\n",
    "$$\n",
    "\\left|\\begin{array}{ccccc}\n",
    "1 & 1 & 1 & \\cdots & 1 \\\\\n",
    "1 & 2 & 1 & \\cdots & 1 \\\\\n",
    "1 & 1 & 3 & \\cdots & 1 \\\\\n",
    "\\vdots & \\vdots & \\vdots & \\ddots & \\vdots \\\\\n",
    "1 & 1 & 1 & \\cdots & n\n",
    "\\end{array}\\right|\n",
    "$$\n",
    ":::"
   ]
  },
  {
   "cell_type": "markdown",
   "id": "f2ec9c17-39cc-457a-902c-0b4a791aa76b",
   "metadata": {},
   "source": [
    "1行目を2~n行目から差し引いて\n",
    "\n",
    "$$\n",
    "\\left|\\begin{array}{ccccc}\n",
    "1 & 1 & 1 & \\cdots & 1 \\\\\n",
    "0 & 1 & 0 & \\cdots & 0 \\\\\n",
    "0 & 0 & 2 & \\cdots & 0 \\\\\n",
    "\\vdots & \\vdots & \\vdots & \\ddots & \\vdots \\\\\n",
    "0 & 0 & 0 & \\cdots & n-1\n",
    "\\end{array}\\right|\n",
    "$$\n",
    "\n",
    "という上三角行列の形にすれば、三角行列の行列式は対角成分の積で求められるという性質により、答えは\n",
    "\n",
    "$$\n",
    "(n-1)!\n",
    "$$"
   ]
  },
  {
   "cell_type": "code",
   "execution_count": null,
   "id": "ae4111c8-4ab7-4692-8e5b-21ea2b18b102",
   "metadata": {},
   "outputs": [],
   "source": []
  }
 ],
 "metadata": {
  "kernelspec": {
   "display_name": "Python 3 (ipykernel)",
   "language": "python",
   "name": "python3"
  },
  "language_info": {
   "codemirror_mode": {
    "name": "ipython",
    "version": 3
   },
   "file_extension": ".py",
   "mimetype": "text/x-python",
   "name": "python",
   "nbconvert_exporter": "python",
   "pygments_lexer": "ipython3",
   "version": "3.9.18"
  }
 },
 "nbformat": 4,
 "nbformat_minor": 5
}
