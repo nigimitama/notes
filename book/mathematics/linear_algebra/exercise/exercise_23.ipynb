{
 "cells": [
  {
   "cell_type": "markdown",
   "id": "6cdb1c9b-e3c1-4819-82a2-0a407b39afda",
   "metadata": {},
   "source": [
    "# 練習問題メモ 23（正規直交基底）"
   ]
  },
  {
   "cell_type": "markdown",
   "id": "c64f8d9b-156d-47c8-9142-5fe368c05980",
   "metadata": {},
   "source": [
    "## 問1\n",
    "\n",
    ":::{card}\n",
    "$\\mathbb{R}^3$ の基底 $\\left\\{\\boldsymbol{a}_1, \\boldsymbol{a}_2, \\boldsymbol{a}_3\\right\\}$ を\n",
    "\n",
    "$$\n",
    "\\boldsymbol{a}_1=\\left(\\begin{array}{l}\n",
    "1 \\\\\n",
    "1 \\\\\n",
    "1\n",
    "\\end{array}\\right), \\quad \\boldsymbol{a}_2=\\left(\\begin{array}{l}\n",
    "0 \\\\\n",
    "1 \\\\\n",
    "1\n",
    "\\end{array}\\right), \\quad \\boldsymbol{a}_3=\\left(\\begin{array}{l}\n",
    "0 \\\\\n",
    "0 \\\\\n",
    "1\n",
    "\\end{array}\\right)\n",
    "$$\n",
    "\n",
    "\n",
    "により定める。 $\\mathbb{R}^3$ の標準内積を考え、グラムーシュミットの直交化法を用いて、基底 $\\left\\{\\boldsymbol{a}_1, \\boldsymbol{a}_2, \\boldsymbol{a}_3\\right\\}$ から正規直交基底 $\\left\\{\\boldsymbol{b}_1, \\boldsymbol{b}_2, \\boldsymbol{b}_3\\right\\}$ を求めよ。\n",
    ":::"
   ]
  },
  {
   "cell_type": "markdown",
   "id": "b4dc8444-b829-4c44-a43e-8c52076afe43",
   "metadata": {},
   "source": []
  },
  {
   "cell_type": "markdown",
   "id": "682b81cd-88f8-48ce-95dd-9e8384dd46a1",
   "metadata": {},
   "source": [
    "## 問2\n",
    "\n",
    ":::{card}\n",
    "次の問いに答えよ。\n",
    "\n",
    "1. 直交行列の定義を書け。\n",
    "2. $A, B$ を $n$ 次の直交行列とすると、積 $A B$ も直交行列であることを示せ。\n",
    "3. $A$ を直交行列とすると、 $A$ は正則で、逆行列 $A^{-1}$ も直交行列であることを示せ。\n",
    ":::"
   ]
  },
  {
   "cell_type": "markdown",
   "id": "5d3e0fd3-8a63-4f59-8231-463ce54b4a4b",
   "metadata": {},
   "source": [
    ":::{admonition} 補足\n",
    ":class: tip\n",
    "\n",
    "$n$ 次の直交行列全体の集合は $\\mathrm{O}(n, \\mathbb{R})$ または $\\mathrm{O}(n)$ と書くことが多い（$O$ は「直交する」を意味する英単語”orthogonal”の頭文字である。また、ここでは直交行列は実行列としている）。 $A, B, C \\in$ $\\mathrm{O}(n)$ とすると、問 2 の結果を含め、次の $1 \\sim 4$ が成り立つ。\n",
    "1. $A B \\in \\mathrm{O}(n)$\n",
    "2. $(A B) C=A(B C)$\n",
    "3. $E \\in \\mathrm{O}(n)$ で、 $E A=A E=A$\n",
    "4. $A^{-1} \\in \\mathrm{O}(n)$ で、 $A^{-1} A=A A^{-1}=E$\n",
    "\n",
    "一般の集合に対しても、上の $1 \\sim 4$ のような性質を持つ積を演算として考えると、群というものを定義することができる。 $\\mathrm{O}(n)$ を $n$ 次の **直交群** という。\n",
    ":::"
   ]
  },
  {
   "cell_type": "markdown",
   "id": "1210a316-f687-4366-bc09-23a325f8569f",
   "metadata": {},
   "source": []
  },
  {
   "cell_type": "markdown",
   "id": "6fa1d4a2-06c4-4f78-9385-ec10e57878ca",
   "metadata": {},
   "source": [
    "## 問\n",
    "\n",
    ":::{card}\n",
    "\n",
    ":::"
   ]
  },
  {
   "cell_type": "markdown",
   "id": "904c684d-4f20-4acd-bd55-f0d3c1de381c",
   "metadata": {},
   "source": [
    "## 問\n",
    "\n",
    ":::{card}\n",
    "\n",
    ":::"
   ]
  },
  {
   "cell_type": "markdown",
   "id": "624d3d97-bf61-4b74-8c43-2be01c275f15",
   "metadata": {},
   "source": [
    "## 問\n",
    "\n",
    ":::{card}\n",
    "\n",
    ":::"
   ]
  },
  {
   "cell_type": "code",
   "execution_count": null,
   "id": "e916708f-4b28-4770-8b6b-88822601cc39",
   "metadata": {},
   "outputs": [],
   "source": []
  }
 ],
 "metadata": {
  "kernelspec": {
   "display_name": "Python 3 (ipykernel)",
   "language": "python",
   "name": "python3"
  },
  "language_info": {
   "codemirror_mode": {
    "name": "ipython",
    "version": 3
   },
   "file_extension": ".py",
   "mimetype": "text/x-python",
   "name": "python",
   "nbconvert_exporter": "python",
   "pygments_lexer": "ipython3",
   "version": "3.10.14"
  }
 },
 "nbformat": 4,
 "nbformat_minor": 5
}
