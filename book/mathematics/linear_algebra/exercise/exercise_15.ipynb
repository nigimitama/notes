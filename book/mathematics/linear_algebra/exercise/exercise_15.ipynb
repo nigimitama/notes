{
 "cells": [
  {
   "cell_type": "markdown",
   "id": "86be4d98-30a0-40f8-b92b-ada918f5fca8",
   "metadata": {},
   "source": [
    "# 練習問題メモ 15（基底と次元）"
   ]
  },
  {
   "cell_type": "markdown",
   "id": "a7a4d650-f9b6-4693-9251-9347de258d55",
   "metadata": {},
   "source": [
    "## 問1\n",
    "\n",
    "同次連立1次方程式\n",
    "\n",
    "$$\n",
    "\\left(\\begin{array}{llll}\n",
    "1 & 0 & 1 & 1 \\\\\n",
    "2 & 1 & 3 & 1 \\\\\n",
    "3 & 2 & 5 & 1\n",
    "\\end{array}\\right)\\left(\\begin{array}{l}\n",
    "x_1 \\\\\n",
    "x_2 \\\\\n",
    "x_3 \\\\\n",
    "x_4\n",
    "\\end{array}\\right)=\\mathbf{0}\n",
    "$$\n",
    "\n",
    "の解空間の次元と1組の基本解を求めよ。"
   ]
  },
  {
   "cell_type": "code",
   "execution_count": null,
   "id": "70cf1759-3e0b-41fc-a006-61a748e2c7dd",
   "metadata": {},
   "outputs": [],
   "source": []
  }
 ],
 "metadata": {
  "kernelspec": {
   "display_name": "Python 3 (ipykernel)",
   "language": "python",
   "name": "python3"
  },
  "language_info": {
   "codemirror_mode": {
    "name": "ipython",
    "version": 3
   },
   "file_extension": ".py",
   "mimetype": "text/x-python",
   "name": "python",
   "nbconvert_exporter": "python",
   "pygments_lexer": "ipython3",
   "version": "3.10.14"
  }
 },
 "nbformat": 4,
 "nbformat_minor": 5
}
