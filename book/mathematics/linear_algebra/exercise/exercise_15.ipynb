{
 "cells": [
  {
   "cell_type": "markdown",
   "id": "86be4d98-30a0-40f8-b92b-ada918f5fca8",
   "metadata": {},
   "source": [
    "# 練習問題メモ 15（基底と次元）"
   ]
  },
  {
   "cell_type": "markdown",
   "id": "a7a4d650-f9b6-4693-9251-9347de258d55",
   "metadata": {},
   "source": [
    "## 問1\n",
    "\n",
    ":::{card}\n",
    "同次連立1次方程式\n",
    "\n",
    "$$\n",
    "\\left(\\begin{array}{llll}\n",
    "1 & 0 & 1 & 1 \\\\\n",
    "2 & 1 & 3 & 1 \\\\\n",
    "3 & 2 & 5 & 1\n",
    "\\end{array}\\right)\\left(\\begin{array}{l}\n",
    "x_1 \\\\\n",
    "x_2 \\\\\n",
    "x_3 \\\\\n",
    "x_4\n",
    "\\end{array}\\right)=\\mathbf{0}\n",
    "$$\n",
    "\n",
    "の解空間の次元と1組の基本解を求めよ。\n",
    ":::"
   ]
  },
  {
   "cell_type": "markdown",
   "id": "94c435cf-be58-47ce-9136-dab0c3f87b32",
   "metadata": {},
   "source": [
    "**1. 解の次元**\n",
    "\n",
    "前進消去により\n",
    "\n",
    "$$\n",
    "\\left(\\begin{array}{llll}\n",
    "1 & 0 & 1 & 1 \\\\\n",
    "0 & 1 & 1 & -1 \\\\\n",
    "0 & 0 & 0 & 0\n",
    "\\end{array}\\right)\n",
    "$$\n",
    "\n",
    "と変形できるため$\\operatorname{rank} A = 2$である。\n",
    "\n",
    "$m\\times n$行列$A$の解の次元は$m - \\operatorname{rank} A$であるため、$4 - 2 = 2$"
   ]
  },
  {
   "cell_type": "markdown",
   "id": "bba313cb-eb37-4a23-89ce-4d9e1d4b0be1",
   "metadata": {},
   "source": [
    "**2. 1組の基本解**\n",
    "\n",
    "解空間の基底を基本解という。\n",
    "\n"
   ]
  },
  {
   "cell_type": "code",
   "execution_count": null,
   "id": "7561a51a-142e-4324-807b-21e8b4ae0f2a",
   "metadata": {},
   "outputs": [],
   "source": []
  }
 ],
 "metadata": {
  "kernelspec": {
   "display_name": "Python 3 (ipykernel)",
   "language": "python",
   "name": "python3"
  },
  "language_info": {
   "codemirror_mode": {
    "name": "ipython",
    "version": 3
   },
   "file_extension": ".py",
   "mimetype": "text/x-python",
   "name": "python",
   "nbconvert_exporter": "python",
   "pygments_lexer": "ipython3",
   "version": "3.10.14"
  }
 },
 "nbformat": 4,
 "nbformat_minor": 5
}
