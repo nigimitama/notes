{
 "cells": [
  {
   "cell_type": "markdown",
   "id": "6cdb1c9b-e3c1-4819-82a2-0a407b39afda",
   "metadata": {},
   "source": [
    "# 練習問題メモ 21（対角化）"
   ]
  },
  {
   "cell_type": "markdown",
   "id": "5d592a35-7c4b-401a-ac16-e738352f3092",
   "metadata": {},
   "source": [
    "## 問1\n",
    "\n",
    ":::{card}\n",
    "\n",
    "2 次の正方行列 $A=\\left(\\begin{array}{ll}1 & 3 \\\\ 2 & 2\\end{array}\\right)$ を考える。\n",
    "\n",
    "1. $A$ は対角化可能であることを示せ。\n",
    "2. $P^{-1} A P$ が対角行列となるような正則行列 $P$ を 1 つ求めよ。\n",
    ":::"
   ]
  },
  {
   "cell_type": "markdown",
   "id": "fff18a74-9577-49f4-bcdb-2211afa8fb9f",
   "metadata": {},
   "source": [
    "行列$A\\in M_n(\\mathbb{R})$が対角化可能であるとは、$A$の固有ベクトルが$\\mathbb{R}^n$の基底であることと等しい。\n",
    "\n",
    "(1) $A$の固有ベクトルを求める"
   ]
  },
  {
   "cell_type": "markdown",
   "id": "44acb7a5-352b-4f0f-b363-3ee36cc31f6f",
   "metadata": {},
   "source": [
    "$A$の固有値$\\lambda$は、\n",
    "\n",
    "$$\n",
    "\\det\n",
    "\\begin{pmatrix}\n",
    "1- \\lambda & 3\\\\\n",
    "2 & 2 - \\lambda\n",
    "\\end{pmatrix}\n",
    "= (1- \\lambda) (2 - \\lambda) - 6 = 0\\\\\n",
    "\\iff \\lambda^2 - 3\\lambda + 2 - 6 = 0\\\\\n",
    "\\iff \\lambda^2 - 3\\lambda - 4 = 0\\\\\n",
    "\\iff (\\lambda + 1) (\\lambda - 4) = 0\\\\\n",
    "\\therefore \\lambda = -1, 4\n",
    "$$"
   ]
  },
  {
   "cell_type": "markdown",
   "id": "c9753b5d-2e8b-41e1-90fc-45cea826a2e7",
   "metadata": {},
   "source": [
    "$\\lambda = -1$のとき、\n",
    "\n",
    "$$\n",
    "2 x_1 + 3 x_2 = 0\n",
    "$$\n",
    "\n",
    "より、$x_1 = -\\frac{3}{2} x_2$。よって固有空間は\n",
    "\n",
    "$$\n",
    "V(-1)\n",
    "=\n",
    "\\left .\n",
    "\\left\\{\n",
    "c\n",
    "\\begin{pmatrix}\n",
    "-\\frac{3}{2} \\\\ 1\n",
    "\\end{pmatrix}\n",
    "\\right |\n",
    "c\\in \\mathbb{R}\n",
    "\\right\\}\n",
    "$$\n",
    "\n",
    "$\\lambda = 4$のとき、\n",
    "\n",
    "$$\n",
    "-3x_1 = 3x_2 = 0\n",
    "$$\n",
    "\n",
    "よって$x_1 = x_2$。固有空間は\n",
    "\n",
    "$$\n",
    "V(4)\n",
    "=\n",
    "\\left .\n",
    "\\left\\{\n",
    "c\n",
    "\\begin{pmatrix}\n",
    "1 \\\\ 1\n",
    "\\end{pmatrix}\n",
    "\\right |\n",
    "c\\in \\mathbb{R}\n",
    "\\right\\}\n",
    "$$"
   ]
  },
  {
   "cell_type": "code",
   "execution_count": 1,
   "id": "4eb51b91-0f50-4fb2-a9bd-b884c919dbb0",
   "metadata": {},
   "outputs": [
    {
     "name": "stdout",
     "output_type": "stream",
     "text": [
      "λ= dict_keys([4, -1])\n",
      "x= [(-1, 1, [Matrix([\n",
      "[-3/2],\n",
      "[   1]])]), (4, 1, [Matrix([\n",
      "[1],\n",
      "[1]])])]\n"
     ]
    }
   ],
   "source": [
    "import sympy as sp\n",
    "A = sp.Matrix([\n",
    "    [1, 3],\n",
    "    [2, 2]\n",
    "])\n",
    "print(\"λ=\", A.eigenvals().keys())\n",
    "print(\"x=\", A.eigenvects())\n"
   ]
  },
  {
   "cell_type": "markdown",
   "id": "f6aa66e9-3ef0-4c63-9372-25eeb0e76438",
   "metadata": {},
   "source": [
    "各固有値に属する固有ベクトルを用いて\n",
    "\n",
    "$$\n",
    "P = \n",
    "\\begin{pmatrix}\n",
    "-\\frac{3}{2} & 1\\\\\n",
    "1 & 1\n",
    "\\end{pmatrix}\n",
    "$$\n",
    "\n",
    "とおく。\n",
    "\n"
   ]
  },
  {
   "cell_type": "markdown",
   "id": "f99d521d-d534-4930-9323-4ba55b73039e",
   "metadata": {},
   "source": []
  },
  {
   "cell_type": "markdown",
   "id": "53f5e8e8-5a94-4762-be65-0dec4a2b59e3",
   "metadata": {},
   "source": [
    "## 問2\n",
    "\n",
    "::::{card}\n",
    "\n",
    "次の文章は、「対角化可能なべき零行列は零行列である」ことの証明である。証明文中の $\\square$ を埋めよ。\n",
    "\n",
    ":::{admonition} 証明\n",
    "\n",
    "$A$ を対角化可能なべき零行列とする。 $A$ の $[1]$ を $\\lambda_1, \\lambda_2, \\cdots, \\lambda_n$ とすると、 $A$ は対角化可能なので、 $[2]$ 行列 $P$ が存在し、\n",
    "\n",
    "$$\n",
    "P^{-1} A P=\\left(\\begin{array}{llll}\n",
    "\\lambda_1 & & & 0 \\\\\n",
    "& \\lambda_2 & & \\\\\n",
    "& & \\ddots & \\\\\n",
    "0 & & & \\lambda_n\n",
    "\\end{array}\\right)\n",
    "\\tag{*}\n",
    "$$\n",
    "\n",
    "と表される。さらに、 $A$ はべき零行列なので、ある自然数 $m$ に対して、 $A^m=O$ となる。よって、 $(*)$ の両辺を $m$ 乗することにより、\n",
    "\n",
    "$$\n",
    "\\lambda_1^m=\\lambda_2^m=\\cdots=\\lambda_n^m=[3]\n",
    "$$\n",
    "\n",
    "が得られるので、\n",
    "\n",
    "$$\n",
    "\\lambda_1=\\lambda_2=\\cdots=\\lambda_n=[4]\n",
    "$$\n",
    "\n",
    "\n",
    "となる。したがって、 $A$ は $[5]$ 行列である。\n",
    ":::\n",
    "\n",
    "::::"
   ]
  },
  {
   "cell_type": "markdown",
   "id": "2da0442c-a9cb-47ef-95cf-5bcc0d417eb6",
   "metadata": {},
   "source": [
    "## 問3\n",
    "\n",
    ":::{card}\n",
    "\n",
    "3 次の正方行列 $A=\\left(\\begin{array}{lll}1 & 1 & 1 \\\\ 0 & 2 & 1 \\\\ 0 & 0 & 1\\end{array}\\right)$ は上三角行列なので、 $A$ の固有値 $\\lambda$ は $\\lambda=1$\n",
    "（重解）,2の2個であることがわかる。\n",
    "\n",
    "1. $A$ は対角化可能であることを示せ。\n",
    "2. $P^{-1} A P$ が対角行列となるような正則行列 $P$ を 1 つ求めよ。\n",
    ":::"
   ]
  },
  {
   "cell_type": "markdown",
   "id": "44ebac6a-d535-4467-b49e-74cee9ab6b80",
   "metadata": {},
   "source": [
    "## 問4\n",
    "\n",
    ":::{card}\n",
    "\n",
    "2 次の正方行列 $\\left(\\begin{array}{ll}a & b \\\\ 0 & a\\end{array}\\right)$ が対角化可能であるための必要十分条件は $b=0$ である ことを示せ。\n",
    ":::"
   ]
  }
 ],
 "metadata": {
  "kernelspec": {
   "display_name": "Python 3 (ipykernel)",
   "language": "python",
   "name": "python3"
  },
  "language_info": {
   "codemirror_mode": {
    "name": "ipython",
    "version": 3
   },
   "file_extension": ".py",
   "mimetype": "text/x-python",
   "name": "python",
   "nbconvert_exporter": "python",
   "pygments_lexer": "ipython3",
   "version": "3.10.14"
  }
 },
 "nbformat": 4,
 "nbformat_minor": 5
}
