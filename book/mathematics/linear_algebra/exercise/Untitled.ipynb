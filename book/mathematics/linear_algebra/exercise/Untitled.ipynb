{
 "cells": [
  {
   "cell_type": "markdown",
   "id": "63480b23-262d-4ce5-baf7-c4a69f92a1f6",
   "metadata": {},
   "source": [
    "# 練習問題メモ 6"
   ]
  },
  {
   "cell_type": "code",
   "execution_count": null,
   "id": "acce074a-ac17-43b5-a7df-80404843a0ba",
   "metadata": {},
   "outputs": [],
   "source": []
  }
 ],
 "metadata": {
  "kernelspec": {
   "display_name": "Python 3 (ipykernel)",
   "language": "python",
   "name": "python3"
  },
  "language_info": {
   "codemirror_mode": {
    "name": "ipython",
    "version": 3
   },
   "file_extension": ".py",
   "mimetype": "text/x-python",
   "name": "python",
   "nbconvert_exporter": "python",
   "pygments_lexer": "ipython3",
   "version": "3.9.18"
  }
 },
 "nbformat": 4,
 "nbformat_minor": 5
}
