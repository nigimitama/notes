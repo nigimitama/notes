{
 "cells": [
  {
   "cell_type": "markdown",
   "id": "ae704147-222b-47b3-a226-4938fdf91488",
   "metadata": {},
   "source": [
    "# 練習問題メモ 11（行列式の幾何学的意味）"
   ]
  },
  {
   "cell_type": "markdown",
   "id": "82e68d9c-3a04-420b-b173-d60e8d0d9c42",
   "metadata": {},
   "source": [
    "## 11.1\n",
    "\n",
    ":::{card}\n",
    "\n",
    "外積 $\\left(\\begin{array}{lll} 4 & 5 & 6 \\end{array}\\right) \\times \\left(\\begin{array}{lll} 1 & 2 & 3 \\end{array}\\right)$ を計算せよ。\n",
    ":::\n"
   ]
  },
  {
   "cell_type": "markdown",
   "id": "2fda9f03-d24f-4b54-8b53-59424faff717",
   "metadata": {},
   "source": [
    "$$\n",
    "\\left(\\begin{array}{lll} 4 & 5 & 6 \\end{array}\\right) \\times \\left(\\begin{array}{lll} 1 & 2 & 3 \\end{array}\\right)\n",
    "=\n",
    "\\begin{pmatrix}\n",
    "4 & 8 & 12\\\\\n",
    "5 & 10 & 15\\\\\n",
    "6 & 12 & 18\n",
    "\\end{pmatrix}\n",
    "$$"
   ]
  },
  {
   "cell_type": "markdown",
   "id": "2d03a352-9c36-4cde-a9ac-e2c0d4970b74",
   "metadata": {},
   "source": [
    "## 11.2\n",
    "\n",
    "平面ベクトル\n",
    "\n",
    "$$\n",
    "\\left(\\begin{array}{ll} \\cos \\theta & \\sin \\theta \\end{array}\\right),\n",
    "\\left(\\begin{array}{ll} \\sin \\theta & -\\cos \\theta \\end{array}\\right)\n",
    "$$\n",
    "\n",
    "を二辺とする平行四辺形の面積を求めよ。\n"
   ]
  },
  {
   "cell_type": "markdown",
   "id": "13c944e7-69b4-410f-ab93-cc7f82eb6f06",
   "metadata": {},
   "source": [
    "ベクトル$a,b$を2辺とする平行四辺形の面積は行列式$|a,b|$に合致するという定理により\n",
    "\n",
    "$$\n",
    "\\begin{align}\n",
    "\\cos \\theta \\times (-\\cos \\theta) - \\sin^2 \\theta\n",
    "&= -\\cos^2 \\theta - \\sin^2 \\theta\\\\\n",
    "&= -(\\cos^2 \\theta + \\sin^2 \\theta)\\\\\n",
    "&= -1\\\\\n",
    "\\end{align}\n",
    "$$\n",
    "\n"
   ]
  },
  {
   "cell_type": "markdown",
   "id": "88d07424-3d89-4cae-959f-cc6cc3f5c446",
   "metadata": {},
   "source": [
    ":::{dropdown} 定理部分の証明\n",
    "\n",
    "高さを$y$、斜辺の長さを$r$とすると $\\sin \\theta = y / r \\to y = r \\times \\sin \\theta$ より、高さは$y = \\|b\\| \\sin \\theta$となる\n",
    "\n",
    "面積を$S$は底辺×高さなので\n",
    "\n",
    "$$\n",
    "S = \\|a\\| \\|b\\| \\sin \\theta\n",
    "$$\n",
    "\n",
    "両辺を2乗すると\n",
    "\n",
    "$$\n",
    "S^2 = \\|a\\|^2 \\|b\\|^2 \\sin^2 \\theta\n",
    "$$\n",
    "\n",
    "\n",
    "$$\n",
    "\\begin{align}\n",
    "\\sin^2 \\theta &= 1 - \\cos^2 \\theta \\quad (\\because \\sin^2 \\theta + \\cos^2 \\theta = 1) \\\\\n",
    "\\sin^2 \\theta &= 1 - \\left(\\frac{ a \\cdot b }{\\|a\\| \\|b\\|}\\right)^2 \\quad (\\because \\cos^2 \\theta = \\frac{ a \\cdot b }{\\|a\\| \\|b\\|}) \\\\\n",
    "\\sin^2 \\theta &= 1 - \\frac{ (a \\cdot b)^2 }{\\|a\\|^2 \\|b\\|^2}\\\\\n",
    "\\end{align}\n",
    "$$\n",
    "\n",
    "より、\n",
    "\n",
    "$$\n",
    "\\begin{align}\n",
    "S^2\n",
    "&= \\|a\\|^2 \\|b\\|^2 \\left(1 - \\frac{ (a \\cdot b)^2 }{\\|a\\|^2 \\|b\\|^2} \\right)\\\\\n",
    "&= \\|a\\|^2 \\|b\\|^2 - (a \\cdot b)^2\\\\\n",
    "&= (a_1^2 + a_2^2)(b_1^2 + b_2^2) - (a_1 b_1 + a_2 b_2)^2\\\\\n",
    "&= a_1^2 b_1^2 + a_1^2 b_2^2 + a_2^2 b_1^2 + a_2^2 b_2^2\n",
    "- (a_1 b_1)^2 - (a_2 b_2)^2 - 2 (a_1 b_1 a_2 b_2)\\\\\n",
    "&= a_1^2 b_2^2 + a_2^2 b_1^2 - 2 (a_1 b_1 a_2 b_2)\\\\\n",
    "&= (a_1 b_2 - a_1 b_2)^2\\\\\n",
    "\\end{align}\n",
    "$$\n",
    "\n",
    "$$\n",
    "S = a_1 b_2 - a_1 b_2\n",
    "$$\n",
    ":::"
   ]
  },
  {
   "cell_type": "markdown",
   "id": "217fb146-1c14-456c-a0aa-36a9a0a06251",
   "metadata": {},
   "source": [
    ":::{dropdown} memo \n",
    "$$\n",
    "\\begin{align}\n",
    "\\|b\\|\n",
    "&= \\sqrt{ \\sin^2\\theta + (- \\cos \\theta)^2 }\\\\\n",
    "&= \\sqrt{ \\frac{x^2 + y^2} { r^2 } } \\ (\\because 定義より) \\\\\n",
    "&= \\sqrt{ 1 } \\ (\\because 三平方の定理 x^2 + y^2 = r^2 より) \\\\\n",
    "&= 1\n",
    "\\end{align}\n",
    "$$\n",
    "\n",
    "よって高さ$y = \\sin \\theta$\n",
    ":::"
   ]
  },
  {
   "cell_type": "markdown",
   "id": "c8b3bfe2-2f9c-416b-bce9-8e763108478f",
   "metadata": {},
   "source": [
    "## 11.3\n",
    "\n",
    ":::{card}\n",
    "\n",
    "$a, b, c$ を互いに異なる数とする。空間ベクトル $\\left(\\begin{array}{lll}1 & 1 & 1\\end{array}\\right),\\left(\\begin{array}{lll}a & b & c\\end{array}\\right),\\left(\\begin{array}{lll}a^2 & b^2 & c^2\\end{array}\\right)$ を三辺とする平行六面体の体積を求めよ。\n",
    "\n",
    ":::"
   ]
  },
  {
   "cell_type": "markdown",
   "id": "c7790f6b-3a51-44da-ac6e-09bcd1a1b57a",
   "metadata": {},
   "source": [
    "$$\n",
    "\\left|\\begin{array}{ccc}\n",
    "1 & a & a^2\\\\\n",
    "1 & b & b^2\\\\\n",
    "1 & c & c^2\n",
    "\\end{array}\\right|\n",
    "= (c - a) (c - b) (b - a)\n",
    "$$"
   ]
  },
  {
   "cell_type": "markdown",
   "id": "29e36597-0b16-42f7-8a72-43103f5be63f",
   "metadata": {},
   "source": [
    ":::{dropdown} memo\n",
    "$$\n",
    "= (c^2 - ac - bc + ab)(b-a)\\\\\n",
    "= bc^2 - ac^2\n",
    "  + a^2 c - acb\n",
    "  - b^2 c + abc\n",
    "  + ab^2 - a^2b\\\\\n",
    "$$\n",
    ":::"
   ]
  },
  {
   "cell_type": "markdown",
   "id": "8b4d7719-24c1-4c38-b957-c162bddf0001",
   "metadata": {},
   "source": [
    "## 11.4\n",
    "\n",
    ":::{card}\n",
    "$a, b, c, d$ を空間ベクトルとする。次の 1、2 が成り立つことを示せ。\n",
    "\n",
    "1. $\\langle\\boldsymbol{a} \\times \\boldsymbol{b}, \\boldsymbol{c}\\rangle=\\langle\\boldsymbol{b} \\times \\boldsymbol{c}, \\boldsymbol{a}\\rangle=\\langle\\boldsymbol{c} \\times \\boldsymbol{a}, \\boldsymbol{b}\\rangle$\n",
    "2. $(\\boldsymbol{a} \\times \\boldsymbol{b}) \\times \\boldsymbol{c}=\\langle\\boldsymbol{a}, \\boldsymbol{c}\\rangle \\boldsymbol{b}-\\langle\\boldsymbol{b}, \\boldsymbol{c}\\rangle \\boldsymbol{a}$\n",
    ":::\n"
   ]
  },
  {
   "cell_type": "markdown",
   "id": "56d0e9c4-145c-418c-a9f5-35ef5d009d84",
   "metadata": {},
   "source": [
    ":::{admonition} 補足\n",
    "\n",
    "1 や 2 から、さらに次の式を導くことができる。\n",
    "\n",
    "$$\n",
    "\\begin{array}{lc}\n",
    "(a \\times b) \\times c+(b \\times c) \\times a+(c \\times a) \\times b=0 & \\text { (ヤコビの恒等式） } \\\\\n",
    "\\langle a \\times b, c \\times d\\rangle=\\langle a, c\\rangle\\langle b, d\\rangle-\\langle a, d\\rangle\\langle b, c\\rangle \\quad \\text { (ラグランジュの公式） }\n",
    "\\end{array}\n",
    "$$\n",
    "\n",
    ":::"
   ]
  },
  {
   "cell_type": "markdown",
   "id": "d2401f0f-9496-4c06-8370-51b4392c3daf",
   "metadata": {},
   "source": [
    "> 1. $\\langle\\boldsymbol{a} \\times \\boldsymbol{b}, \\boldsymbol{c}\\rangle=\\langle\\boldsymbol{b} \\times \\boldsymbol{c}, \\boldsymbol{a}\\rangle=\\langle\\boldsymbol{c} \\times \\boldsymbol{a}, \\boldsymbol{b}\\rangle$"
   ]
  },
  {
   "cell_type": "markdown",
   "id": "8b26980f-d94f-43ea-b7d2-c8486eeef4f6",
   "metadata": {},
   "source": [
    "クロス積は3次のベクトルに定義される演算のようなので、$\\boldsymbol{a} = (a_1, a_2, a_3)^T, \\boldsymbol{b} = (b_1, b_2, b_3)^T, \\boldsymbol{c} = (c_1, c_2, c_3)^T$とする。\n",
    "\n",
    "$$\n",
    "\\left|\\begin{array}{lll}\n",
    "a_1 & a_2 & a_3 \\\\\n",
    "b_1 & b_2 & b_3 \\\\\n",
    "c_1 & c_2 & c_3\n",
    "\\end{array}\\right|\n",
    "$$\n",
    "\n",
    "を\n",
    "\n",
    "第1行で展開すれば，\n",
    "\n",
    "$$\n",
    "\\left|\\begin{array}{ll}\n",
    "b_2 & b_3 \\\\\n",
    "c_2 & c_3\n",
    "\\end{array}\\right|\n",
    "a_1\n",
    "-\\left|\\begin{array}{ll}\n",
    "b_1 & b_3 \\\\\n",
    "c_1 & c_3\n",
    "\\end{array}\\right|\n",
    "a_2\n",
    "+\\left|\\begin{array}{ll}\n",
    "b_1 & b_2 \\\\\n",
    "c_1 & c_2\n",
    "\\end{array}\\right|\n",
    "a_3\n",
    "= \\langle \\boldsymbol{b} \\times \\boldsymbol{c}, \\boldsymbol{a} \\rangle\n",
    "$$\n",
    "\n",
    "第2行で展開すれば，\n",
    "\n",
    "$$\n",
    "\\left|\\begin{array}{ll}\n",
    "a_2 & a_3 \\\\\n",
    "c_2 & c_3\n",
    "\\end{array}\\right|\n",
    "b_1\n",
    "- \n",
    "\\left|\\begin{array}{ll}\n",
    "a_1 & a_3 \\\\\n",
    "c_1 & c_3\n",
    "\\end{array}\\right|\n",
    "b_2\n",
    "+ \n",
    "\\left|\\begin{array}{ll}\n",
    "a_1 & a_2 \\\\\n",
    "c_1 & c_2\n",
    "\\end{array}\\right|\n",
    "b_3\n",
    "= \\langle \\boldsymbol{a} \\times \\boldsymbol{c}, \\boldsymbol{b} \\rangle\n",
    "$$\n",
    "\n",
    "\n",
    "第3行で展開すれば,\n",
    "\n",
    "$$\n",
    "\\left|\\begin{array}{ll}\n",
    "a_2 & a_3 \\\\\n",
    "b_2 & b_3\n",
    "\\end{array}\\right| c_1-\\left|\\begin{array}{ll}\n",
    "a_1 & a_3 \\\\\n",
    "b_1 & b_3\n",
    "\\end{array}\\right| c_2+\\left|\\begin{array}{ll}\n",
    "a_1 & a_2 \\\\\n",
    "b_1 & b_2\n",
    "\\end{array}\\right| c_3\n",
    "= \\langle \\boldsymbol{a} \\times \\boldsymbol{b}, \\boldsymbol{c} \\rangle\n",
    "$$\n"
   ]
  },
  {
   "cell_type": "markdown",
   "id": "b21f74a6-b95e-4501-bbf1-14b96305d337",
   "metadata": {},
   "source": [
    "> 2. $(\\boldsymbol{a} \\times \\boldsymbol{b}) \\times \\boldsymbol{c}=\\langle\\boldsymbol{a}, \\boldsymbol{c}\\rangle \\boldsymbol{b}-\\langle\\boldsymbol{b}, \\boldsymbol{c}\\rangle \\boldsymbol{a}$\n"
   ]
  },
  {
   "cell_type": "markdown",
   "id": "de4f6827-d57d-4c3a-8148-2543abe761c0",
   "metadata": {},
   "source": [
    "$\\boldsymbol{a} \\times \\boldsymbol{b}$の各要素を\n",
    "\n",
    "$$\n",
    "(\\boldsymbol{a} \\times \\boldsymbol{b})_1 = a_2 b_3 - a_3 b_2\\\\\n",
    "(\\boldsymbol{a} \\times \\boldsymbol{b})_2 = a_3 b_1 - a_1 b_3\\\\\n",
    "(\\boldsymbol{a} \\times \\boldsymbol{b})_3 = a_1 b_2 - a_2 b_1\n",
    "$$\n",
    "\n",
    "とする。\n",
    "\n",
    "$(\\boldsymbol{a} \\times \\boldsymbol{b})\\times \\boldsymbol{c}$の第$i$要素を$((\\boldsymbol{a} \\times \\boldsymbol{b})\\times \\boldsymbol{c})_i$と書くことにすると、\n",
    "\n",
    "$$\n",
    "\\begin{align}\n",
    "((\\boldsymbol{a} \\times \\boldsymbol{b})\\times \\boldsymbol{c})_1\n",
    "&= (\\boldsymbol{a} \\times \\boldsymbol{b})_2 c_3 - (\\boldsymbol{a} \\times \\boldsymbol{b})_3 c_2\\\\\n",
    "&= a_3 b_1 c_3 - a_1 b_3 c_3 - a_1 b_2 c_2 + a_2 b_1 c_2\\\\\n",
    "&= (a_2 c_2 + a_3 c_3) b_1 - (b_2 c_2 + b_3 c_3) a_1\\\\\n",
    "&= (a_1 c_1 + a_2 c_2 + a_3 c_3) b_1 - (b_1 c_1 + b_2 c_2 + b_3 c_3) a_1 \\quad (a_1 b_1 c_1 - a_1 b_1 c_1を足した)\\\\\n",
    "&= \\langle \\boldsymbol{a}, \\boldsymbol{c} \\rangle b_1 - \\langle \\boldsymbol{b}, \\boldsymbol{c} \\rangle a_1\n",
    "\\end{align}\n",
    "$$\n",
    "\n",
    "同様に\n",
    "\n",
    "$$\n",
    "((\\boldsymbol{a} \\times \\boldsymbol{b})\\times \\boldsymbol{c})_2\n",
    "= \\langle \\boldsymbol{a}, \\boldsymbol{c} \\rangle b_2 - \\langle \\boldsymbol{b}, \\boldsymbol{c} \\rangle a_2\\\\\n",
    "((\\boldsymbol{a} \\times \\boldsymbol{b})\\times \\boldsymbol{c})_3\n",
    "= \\langle \\boldsymbol{a}, \\boldsymbol{c} \\rangle b_3 - \\langle \\boldsymbol{b}, \\boldsymbol{c} \\rangle a_3\\\\\n",
    "$$\n",
    "\n",
    "よって\n",
    "\n",
    "$$\n",
    "(\\boldsymbol{a} \\times \\boldsymbol{b}) \\times \\boldsymbol{c}\n",
    "= \\langle \\boldsymbol{a}, \\boldsymbol{c} \\rangle \\boldsymbol{b} - \\langle \\boldsymbol{b}, \\boldsymbol{c} \\rangle \\boldsymbol{a}\n",
    "$$\n"
   ]
  },
  {
   "cell_type": "markdown",
   "id": "ab4f4d2c-1073-4235-80dc-1712cdbbbddf",
   "metadata": {},
   "source": [
    "## 11.5\n",
    "\n",
    ":::{card}\n",
    "次の 1、 2 により与えられた、空間内の 2 点 $\\mathrm{A}, \\mathrm{B}$ を通る直線の方程式を求めよ。\n",
    "\n",
    "1. $\\mathrm{A}(1,2,3), \\mathrm{~B}(6,5,4)$\n",
    "2. $\\mathrm{A}(3,2,1), \\mathrm{~B}(9,6,3)$\n",
    ":::"
   ]
  },
  {
   "cell_type": "markdown",
   "id": "abec9c2f-c824-4787-88a7-e9b9cdb0f29f",
   "metadata": {},
   "source": [
    "> 1. $\\mathrm{A}(1,2,3), \\mathrm{~B}(6,5,4)$\n",
    "\n",
    "点$A,B$の位置ベクトルを$a,b$とすると、直線の方程式は\n",
    "\n",
    "$$\n",
    "x = a + t (b - a)\n",
    "$$\n",
    "\n",
    "となるため、\n",
    "\n",
    "$$\n",
    "\\mathrm{A}(1,2,3), \\mathrm{~B}(6,5,4)\n",
    "$$\n",
    "\n",
    "は\n",
    "\n",
    "$$\n",
    "x =\n",
    "\\begin{pmatrix} 1\\\\ 2\\\\ 3 \\end{pmatrix}\n",
    "+ t \\left(\n",
    "    \\begin{pmatrix} 6\\\\ 5\\\\ 4 \\end{pmatrix}\n",
    "    - \\begin{pmatrix} 1\\\\ 2\\\\ 3 \\end{pmatrix}\n",
    "\\right)\n",
    "\\\\\n",
    "= \\begin{pmatrix} 1\\\\ 2\\\\ 3 \\end{pmatrix}\n",
    "+ t \\begin{pmatrix} 5\\\\ 3\\\\ 1 \\end{pmatrix}\\\\\n",
    "= \\begin{pmatrix} 1 + t5\\\\ 2 + t3\\\\ 3+t \\end{pmatrix}\n",
    "$$"
   ]
  },
  {
   "cell_type": "markdown",
   "id": "be8b3e44-9710-44af-9bc3-dc4fc22300e0",
   "metadata": {},
   "source": [
    "> 2. $\\mathrm{A}(3,2,1), \\mathrm{~B}(9,6,3)$\n",
    "\n",
    "$$\n",
    "x\n",
    "= \\begin{pmatrix} 3\\\\ 2\\\\ 1 \\end{pmatrix}\n",
    "+ t \\begin{pmatrix} 6\\\\ 4\\\\ 2 \\end{pmatrix}\\\\\n",
    "= \\begin{pmatrix} 3 + t6\\\\ 2 + t4\\\\ 1+t2 \\end{pmatrix}\n",
    "$$"
   ]
  },
  {
   "cell_type": "markdown",
   "id": "a624c4f5-ca97-4a80-9f2b-bb3a31c31fac",
   "metadata": {},
   "source": [
    "## 11.6\n",
    "\n",
    ":::{card}\n",
    "空間ベクトル $\\boldsymbol{a}, \\boldsymbol{b}, \\boldsymbol{c}$ を次の $1 、 2$ のように定めると、これらのべクトルの終点は 同一直線状にはない。これらのべクトルの終点を通る平面の方程式を求めよ。\n",
    "\n",
    "1. $\\boldsymbol{a}=\\left(\\begin{array}{lll}1 & 2 & 3\\end{array}\\right), \\boldsymbol{b}=\\left(\\begin{array}{lll}2 & 3 & 1\\end{array}\\right), \\boldsymbol{c}=\\left(\\begin{array}{lll}3 & 1 & 2\\end{array}\\right)$\n",
    "2. $\\boldsymbol{a}=\\left(\\begin{array}{lll}1 & 1 & 1\\end{array}\\right), \\boldsymbol{b}=\\left(\\begin{array}{lll}2 & 2 & 2\\end{array}\\right), \\boldsymbol{c}=\\left(\\begin{array}{lll}3 & 4 & 5\\end{array}\\right)$\n",
    ":::"
   ]
  },
  {
   "cell_type": "markdown",
   "id": "524897c9-de0b-4660-9001-83d611ee996b",
   "metadata": {},
   "source": [
    ":::{card}\n",
    "$\\boldsymbol{a}=(a, b, c), \\boldsymbol{p}=\\left(x_0, y_0, z_0\\right), \\boldsymbol{x}=(x, y, z)$ とおけば\n",
    "\n",
    "$$\n",
    "a\\left(x-x_0\\right)+b\\left(y-y_0\\right)+c\\left(z-z_0\\right)=0\n",
    "$$\n",
    "\n",
    "となり、定数$a x_0+b y_0+c z_0$ を $d$ とおけば\n",
    "\n",
    "$$\n",
    "a x+b y+c z=d\n",
    "$$\n",
    ":::"
   ]
  },
  {
   "cell_type": "markdown",
   "id": "9871f40f-b8ac-499c-9409-51772461f172",
   "metadata": {},
   "source": []
  },
  {
   "cell_type": "markdown",
   "id": "51b5a2bc-3c7c-4da3-a909-03c7dc5ce8ac",
   "metadata": {},
   "source": []
  }
 ],
 "metadata": {
  "kernelspec": {
   "display_name": "Python 3 (ipykernel)",
   "language": "python",
   "name": "python3"
  },
  "language_info": {
   "codemirror_mode": {
    "name": "ipython",
    "version": 3
   },
   "file_extension": ".py",
   "mimetype": "text/x-python",
   "name": "python",
   "nbconvert_exporter": "python",
   "pygments_lexer": "ipython3",
   "version": "3.10.13"
  }
 },
 "nbformat": 4,
 "nbformat_minor": 5
}
