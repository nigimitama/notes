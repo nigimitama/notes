{
 "cells": [
  {
   "cell_type": "markdown",
   "id": "ae704147-222b-47b3-a226-4938fdf91488",
   "metadata": {},
   "source": [
    "# 練習問題メモ 11（行列式の幾何学的意味）"
   ]
  },
  {
   "cell_type": "code",
   "execution_count": null,
   "id": "10c2c419-fd09-406c-866d-96e7a3449cac",
   "metadata": {},
   "outputs": [],
   "source": []
  }
 ],
 "metadata": {
  "kernelspec": {
   "display_name": "Python 3 (ipykernel)",
   "language": "python",
   "name": "python3"
  },
  "language_info": {
   "codemirror_mode": {
    "name": "ipython",
    "version": 3
   },
   "file_extension": ".py",
   "mimetype": "text/x-python",
   "name": "python",
   "nbconvert_exporter": "python",
   "pygments_lexer": "ipython3",
   "version": "3.9.18"
  }
 },
 "nbformat": 4,
 "nbformat_minor": 5
}
