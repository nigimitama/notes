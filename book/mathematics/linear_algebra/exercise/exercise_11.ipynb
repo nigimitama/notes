{
 "cells": [
  {
   "cell_type": "markdown",
   "id": "ae704147-222b-47b3-a226-4938fdf91488",
   "metadata": {},
   "source": [
    "# 練習問題メモ 11（行列式の幾何学的意味）"
   ]
  },
  {
   "cell_type": "markdown",
   "id": "82e68d9c-3a04-420b-b173-d60e8d0d9c42",
   "metadata": {},
   "source": [
    "## 11.1\n",
    "\n",
    ":::{card}\n",
    "\n",
    "外積 $\\left(\\begin{array}{lll} 4 & 5 & 6 \\end{array}\\right) \\times \\left(\\begin{array}{lll} 1 & 2 & 3 \\end{array}\\right)$ を計算せよ。\n",
    ":::\n"
   ]
  },
  {
   "cell_type": "markdown",
   "id": "2fda9f03-d24f-4b54-8b53-59424faff717",
   "metadata": {},
   "source": [
    "$$\n",
    "\\left(\\begin{array}{lll} 4 & 5 & 6 \\end{array}\\right) \\times \\left(\\begin{array}{lll} 1 & 2 & 3 \\end{array}\\right)\n",
    "=\n",
    "\\begin{pmatrix}\n",
    "4 & 8 & 12\\\\\n",
    "5 & 10 & 15\\\\\n",
    "6 & 12 & 18\n",
    "\\end{pmatrix}\n",
    "$$"
   ]
  },
  {
   "cell_type": "markdown",
   "id": "2d03a352-9c36-4cde-a9ac-e2c0d4970b74",
   "metadata": {},
   "source": [
    "## 11.2\n",
    "\n",
    "平面ベクトル\n",
    "\n",
    "$$\n",
    "\\left(\\begin{array}{ll} \\cos \\theta & \\sin \\theta \\end{array}\\right),\n",
    "\\left(\\begin{array}{ll} \\sin \\theta & -\\cos \\theta \\end{array}\\right)\n",
    "$$\n",
    "\n",
    "を二辺とする平行四辺形の面積を求めよ。\n"
   ]
  },
  {
   "cell_type": "code",
   "execution_count": null,
   "id": "e347e82a-2953-4a3b-8e7d-b82072484b10",
   "metadata": {},
   "outputs": [],
   "source": []
  }
 ],
 "metadata": {
  "kernelspec": {
   "display_name": "Python 3 (ipykernel)",
   "language": "python",
   "name": "python3"
  },
  "language_info": {
   "codemirror_mode": {
    "name": "ipython",
    "version": 3
   },
   "file_extension": ".py",
   "mimetype": "text/x-python",
   "name": "python",
   "nbconvert_exporter": "python",
   "pygments_lexer": "ipython3",
   "version": "3.10.13"
  }
 },
 "nbformat": 4,
 "nbformat_minor": 5
}
