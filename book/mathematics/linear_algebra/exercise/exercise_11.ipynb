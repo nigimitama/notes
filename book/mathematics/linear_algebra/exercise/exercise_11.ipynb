{
 "cells": [
  {
   "cell_type": "markdown",
   "id": "ae704147-222b-47b3-a226-4938fdf91488",
   "metadata": {},
   "source": [
    "# 練習問題メモ 11（行列式の幾何学的意味）"
   ]
  },
  {
   "cell_type": "markdown",
   "id": "82e68d9c-3a04-420b-b173-d60e8d0d9c42",
   "metadata": {},
   "source": [
    "## 11.1\n",
    "\n",
    ":::{card}\n",
    "\n",
    "外積 $\\left(\\begin{array}{lll} 4 & 5 & 6 \\end{array}\\right) \\times \\left(\\begin{array}{lll} 1 & 2 & 3 \\end{array}\\right)$ を計算せよ。\n",
    ":::\n"
   ]
  },
  {
   "cell_type": "markdown",
   "id": "5778d292-a52f-4d60-86c5-ed0509d802d0",
   "metadata": {},
   "source": [
    "$$\n",
    "\\boldsymbol{a} \\times \\boldsymbol{b}\n",
    "= \\left(\\left|\\begin{array}{ll}\n",
    "a_2 & a_3 \\\\\n",
    "b_2 & b_3\n",
    "\\end{array}\\right|,-\\left|\\begin{array}{ll}\n",
    "a_1 & a_3 \\\\\n",
    "b_1 & b_3\n",
    "\\end{array}\\right|,\\left|\\begin{array}{ll}\n",
    "a_1 & a_2 \\\\\n",
    "b_1 & b_2\n",
    "\\end{array}\\right|\\right)\n",
    "= (\n",
    "    a_2 b_3 - a_3 b_2, \\\n",
    "    a_3 b_1 - a_1 b_3,\\\n",
    "    a_1 b_2 - a_2 b_1\n",
    ")\n",
    "$$\n",
    "\n",
    "なので"
   ]
  },
  {
   "cell_type": "markdown",
   "id": "2fda9f03-d24f-4b54-8b53-59424faff717",
   "metadata": {},
   "source": [
    "$$\n",
    "\\left(\\begin{array}{lll} 4 & 5 & 6 \\end{array}\\right) \\times \\left(\\begin{array}{lll} 1 & 2 & 3 \\end{array}\\right)\n",
    "=\n",
    "\\begin{pmatrix}\n",
    "15 - 12 \\\\\n",
    "6 - 12\\\\\n",
    "8 - 5\n",
    "\\end{pmatrix}\n",
    "=\n",
    "\\begin{pmatrix}\n",
    "3 \\\\\n",
    "-6\\\\\n",
    "3\n",
    "\\end{pmatrix}\n",
    "$$"
   ]
  },
  {
   "cell_type": "code",
   "execution_count": 8,
   "id": "de17d3d9-11fb-4be5-9cfc-f57ecccbcb20",
   "metadata": {
    "tags": [
     "hide-input"
    ]
   },
   "outputs": [
    {
     "data": {
      "text/plain": [
       "array([ 3, -6,  3])"
      ]
     },
     "execution_count": 8,
     "metadata": {},
     "output_type": "execute_result"
    }
   ],
   "source": [
    "import numpy as np\n",
    "a = [4, 5, 6]\n",
    "b = [1, 2, 3]\n",
    "np.cross(a, b)"
   ]
  },
  {
   "cell_type": "markdown",
   "id": "2d03a352-9c36-4cde-a9ac-e2c0d4970b74",
   "metadata": {
    "tags": []
   },
   "source": [
    "## 11.2\n",
    "\n",
    ":::{card}\n",
    "\n",
    "平面ベクトル\n",
    "\n",
    "$$\n",
    "\\left(\\begin{array}{ll} \\cos \\theta & \\sin \\theta \\end{array}\\right),\n",
    "\\left(\\begin{array}{ll} \\sin \\theta & -\\cos \\theta \\end{array}\\right)\n",
    "$$\n",
    "\n",
    "を二辺とする平行四辺形の面積を求めよ。\n",
    ":::"
   ]
  },
  {
   "cell_type": "markdown",
   "id": "13c944e7-69b4-410f-ab93-cc7f82eb6f06",
   "metadata": {},
   "source": [
    "\n",
    "ベクトル$a,b$を2辺とする平行四辺形の面積は行列式$|a,b|$の絶対値に合致するという定理により\n",
    "\n",
    "$$\n",
    "a = \\left(\\begin{array}{ll} \\cos \\theta & \\sin \\theta \\end{array}\\right),\n",
    "b = \\left(\\begin{array}{ll} \\sin \\theta & -\\cos \\theta \\end{array}\\right)\n",
    "$$\n",
    "\n",
    "とおくと、\n",
    "\n",
    "$$\n",
    "\\begin{align}\n",
    "|\\text{det} (\\begin{array}{ll} a & b \\end{array})|\n",
    "&= |\\cos \\theta \\times (-\\cos \\theta) - \\sin^2 \\theta|\\\\\n",
    "&= |-\\cos^2 \\theta - \\sin^2 \\theta|\\\\\n",
    "&= |-(\\cos^2 \\theta + \\sin^2 \\theta)|\\\\\n",
    "&= 1\\\\\n",
    "\\end{align}\n",
    "$$\n",
    "\n"
   ]
  },
  {
   "cell_type": "markdown",
   "id": "88d07424-3d89-4cae-959f-cc6cc3f5c446",
   "metadata": {},
   "source": [
    ":::{dropdown} memo\n",
    "\n",
    "高さを$y$、斜辺の長さを$r$とすると $\\sin \\theta = y / r \\to y = r \\times \\sin \\theta$ より、高さは$y = \\|b\\| \\sin \\theta$となる\n",
    "\n",
    "面積を$S$は底辺×高さなので\n",
    "\n",
    "$$\n",
    "S = \\|a\\| \\|b\\| \\sin \\theta\n",
    "$$\n",
    "\n",
    "両辺を2乗すると\n",
    "\n",
    "$$\n",
    "S^2 = \\|a\\|^2 \\|b\\|^2 \\sin^2 \\theta\n",
    "$$\n",
    "\n",
    "\n",
    "$$\n",
    "\\begin{align}\n",
    "\\sin^2 \\theta &= 1 - \\cos^2 \\theta \\quad (\\because \\sin^2 \\theta + \\cos^2 \\theta = 1) \\\\\n",
    "\\sin^2 \\theta &= 1 - \\left(\\frac{ a \\cdot b }{\\|a\\| \\|b\\|}\\right)^2 \\quad (\\because \\cos^2 \\theta = \\frac{ a \\cdot b }{\\|a\\| \\|b\\|}) \\\\\n",
    "\\sin^2 \\theta &= 1 - \\frac{ (a \\cdot b)^2 }{\\|a\\|^2 \\|b\\|^2}\\\\\n",
    "\\end{align}\n",
    "$$\n",
    "\n",
    "より、\n",
    "\n",
    "$$\n",
    "\\begin{align}\n",
    "S^2\n",
    "&= \\|a\\|^2 \\|b\\|^2 \\left(1 - \\frac{ (a \\cdot b)^2 }{\\|a\\|^2 \\|b\\|^2} \\right)\\\\\n",
    "&= \\|a\\|^2 \\|b\\|^2 - (a \\cdot b)^2\\\\\n",
    "&= (a_1^2 + a_2^2)(b_1^2 + b_2^2) - (a_1 b_1 + a_2 b_2)^2\\\\\n",
    "&= a_1^2 b_1^2 + a_1^2 b_2^2 + a_2^2 b_1^2 + a_2^2 b_2^2\n",
    "- (a_1 b_1)^2 - (a_2 b_2)^2 - 2 (a_1 b_1 a_2 b_2)\\\\\n",
    "&= a_1^2 b_2^2 + a_2^2 b_1^2 - 2 (a_1 b_1 a_2 b_2)\\\\\n",
    "&= (a_1 b_2 - a_1 b_2)^2\\\\\n",
    "\\end{align}\n",
    "$$\n",
    "\n",
    "$$\n",
    "S = a_1 b_2 - a_1 b_2\n",
    "$$\n",
    ":::"
   ]
  },
  {
   "cell_type": "markdown",
   "id": "c8b3bfe2-2f9c-416b-bce9-8e763108478f",
   "metadata": {},
   "source": [
    "## 11.3\n",
    "\n",
    ":::{card}\n",
    "\n",
    "$a, b, c$ を互いに異なる数とする。空間ベクトル $\\left(\\begin{array}{lll}1 & 1 & 1\\end{array}\\right),\\left(\\begin{array}{lll}a & b & c\\end{array}\\right),\\left(\\begin{array}{lll}a^2 & b^2 & c^2\\end{array}\\right)$ を三辺とする平行六面体の体積を求めよ。\n",
    "\n",
    ":::"
   ]
  },
  {
   "cell_type": "markdown",
   "id": "c7790f6b-3a51-44da-ac6e-09bcd1a1b57a",
   "metadata": {},
   "source": [
    "$$\n",
    "\\left|\\begin{array}{ccc}\n",
    "1 & a & a^2\\\\\n",
    "1 & b & b^2\\\\\n",
    "1 & c & c^2\n",
    "\\end{array}\\right|\n",
    "= (c - a) (c - b) (b - a)\n",
    "$$"
   ]
  },
  {
   "cell_type": "markdown",
   "id": "29e36597-0b16-42f7-8a72-43103f5be63f",
   "metadata": {},
   "source": [
    ":::{margin}\n",
    "\n",
    "$$\n",
    "\\langle\n",
    "    a \\times b,\n",
    "    c\n",
    "\\rangle\n",
    "$$\n",
    "\n",
    "の形で平行六面体の体積を求めてもOK\n",
    ":::"
   ]
  },
  {
   "cell_type": "markdown",
   "id": "8b4d7719-24c1-4c38-b957-c162bddf0001",
   "metadata": {},
   "source": [
    "## 11.4\n",
    "\n",
    ":::{card}\n",
    "$a, b, c, d$ を空間ベクトルとする。次の 1、2 が成り立つことを示せ。\n",
    "\n",
    "1. $\\langle\\boldsymbol{a} \\times \\boldsymbol{b}, \\boldsymbol{c}\\rangle=\\langle\\boldsymbol{b} \\times \\boldsymbol{c}, \\boldsymbol{a}\\rangle=\\langle\\boldsymbol{c} \\times \\boldsymbol{a}, \\boldsymbol{b}\\rangle$\n",
    "2. $(\\boldsymbol{a} \\times \\boldsymbol{b}) \\times \\boldsymbol{c}=\\langle\\boldsymbol{a}, \\boldsymbol{c}\\rangle \\boldsymbol{b}-\\langle\\boldsymbol{b}, \\boldsymbol{c}\\rangle \\boldsymbol{a}$\n",
    ":::\n"
   ]
  },
  {
   "cell_type": "markdown",
   "id": "56d0e9c4-145c-418c-a9f5-35ef5d009d84",
   "metadata": {},
   "source": [
    ":::{admonition} 補足\n",
    "\n",
    "1 や 2 から、さらに次の式を導くことができる。\n",
    "\n",
    "$$\n",
    "\\begin{array}{lc}\n",
    "(a \\times b) \\times c+(b \\times c) \\times a+(c \\times a) \\times b=0 & \\text { (ヤコビの恒等式） } \\\\\n",
    "\\langle a \\times b, c \\times d\\rangle=\\langle a, c\\rangle\\langle b, d\\rangle-\\langle a, d\\rangle\\langle b, c\\rangle \\quad \\text { (ラグランジュの公式） }\n",
    "\\end{array}\n",
    "$$\n",
    "\n",
    ":::"
   ]
  },
  {
   "cell_type": "markdown",
   "id": "d2401f0f-9496-4c06-8370-51b4392c3daf",
   "metadata": {},
   "source": [
    "> 1. $\\langle\\boldsymbol{a} \\times \\boldsymbol{b}, \\boldsymbol{c}\\rangle=\\langle\\boldsymbol{b} \\times \\boldsymbol{c}, \\boldsymbol{a}\\rangle=\\langle\\boldsymbol{c} \\times \\boldsymbol{a}, \\boldsymbol{b}\\rangle$"
   ]
  },
  {
   "cell_type": "markdown",
   "id": "8b26980f-d94f-43ea-b7d2-c8486eeef4f6",
   "metadata": {},
   "source": [
    "クロス積は3次のベクトルに定義される演算のようなので、$\\boldsymbol{a} = (a_1, a_2, a_3)^T, \\boldsymbol{b} = (b_1, b_2, b_3)^T, \\boldsymbol{c} = (c_1, c_2, c_3)^T$とする。\n",
    "\n",
    "$$\n",
    "\\left|\\begin{array}{lll}\n",
    "a_1 & a_2 & a_3 \\\\\n",
    "b_1 & b_2 & b_3 \\\\\n",
    "c_1 & c_2 & c_3\n",
    "\\end{array}\\right|\n",
    "$$\n",
    "\n",
    "を\n",
    "\n",
    "第1行で展開すれば，\n",
    "\n",
    "$$\n",
    "\\left|\\begin{array}{ll}\n",
    "b_2 & b_3 \\\\\n",
    "c_2 & c_3\n",
    "\\end{array}\\right|\n",
    "a_1\n",
    "-\\left|\\begin{array}{ll}\n",
    "b_1 & b_3 \\\\\n",
    "c_1 & c_3\n",
    "\\end{array}\\right|\n",
    "a_2\n",
    "+\\left|\\begin{array}{ll}\n",
    "b_1 & b_2 \\\\\n",
    "c_1 & c_2\n",
    "\\end{array}\\right|\n",
    "a_3\n",
    "= \\langle \\boldsymbol{b} \\times \\boldsymbol{c}, \\boldsymbol{a} \\rangle\n",
    "$$\n",
    "\n",
    "第2行で展開すれば，\n",
    "\n",
    "$$\n",
    "\\left|\\begin{array}{ll}\n",
    "a_2 & a_3 \\\\\n",
    "c_2 & c_3\n",
    "\\end{array}\\right|\n",
    "b_1\n",
    "- \n",
    "\\left|\\begin{array}{ll}\n",
    "a_1 & a_3 \\\\\n",
    "c_1 & c_3\n",
    "\\end{array}\\right|\n",
    "b_2\n",
    "+ \n",
    "\\left|\\begin{array}{ll}\n",
    "a_1 & a_2 \\\\\n",
    "c_1 & c_2\n",
    "\\end{array}\\right|\n",
    "b_3\n",
    "= \\langle \\boldsymbol{a} \\times \\boldsymbol{c}, \\boldsymbol{b} \\rangle\n",
    "$$\n",
    "\n",
    "\n",
    "第3行で展開すれば,\n",
    "\n",
    "$$\n",
    "\\left|\\begin{array}{ll}\n",
    "a_2 & a_3 \\\\\n",
    "b_2 & b_3\n",
    "\\end{array}\\right| c_1-\\left|\\begin{array}{ll}\n",
    "a_1 & a_3 \\\\\n",
    "b_1 & b_3\n",
    "\\end{array}\\right| c_2+\\left|\\begin{array}{ll}\n",
    "a_1 & a_2 \\\\\n",
    "b_1 & b_2\n",
    "\\end{array}\\right| c_3\n",
    "= \\langle \\boldsymbol{a} \\times \\boldsymbol{b}, \\boldsymbol{c} \\rangle\n",
    "$$\n"
   ]
  },
  {
   "cell_type": "markdown",
   "id": "b21f74a6-b95e-4501-bbf1-14b96305d337",
   "metadata": {},
   "source": [
    "> 2. $(\\boldsymbol{a} \\times \\boldsymbol{b}) \\times \\boldsymbol{c}=\\langle\\boldsymbol{a}, \\boldsymbol{c}\\rangle \\boldsymbol{b}-\\langle\\boldsymbol{b}, \\boldsymbol{c}\\rangle \\boldsymbol{a}$\n"
   ]
  },
  {
   "cell_type": "markdown",
   "id": "de4f6827-d57d-4c3a-8148-2543abe761c0",
   "metadata": {},
   "source": [
    "$\\boldsymbol{a} \\times \\boldsymbol{b}$の各要素を\n",
    "\n",
    "$$\n",
    "(\\boldsymbol{a} \\times \\boldsymbol{b})_1 = a_2 b_3 - a_3 b_2\\\\\n",
    "(\\boldsymbol{a} \\times \\boldsymbol{b})_2 = a_3 b_1 - a_1 b_3\\\\\n",
    "(\\boldsymbol{a} \\times \\boldsymbol{b})_3 = a_1 b_2 - a_2 b_1\n",
    "$$\n",
    "\n",
    "とする。\n",
    "\n",
    "$(\\boldsymbol{a} \\times \\boldsymbol{b})\\times \\boldsymbol{c}$の第$i$要素を$((\\boldsymbol{a} \\times \\boldsymbol{b})\\times \\boldsymbol{c})_i$と書くことにすると、\n",
    "\n",
    "$$\n",
    "\\begin{align}\n",
    "((\\boldsymbol{a} \\times \\boldsymbol{b})\\times \\boldsymbol{c})_1\n",
    "&= (\\boldsymbol{a} \\times \\boldsymbol{b})_2 c_3 - (\\boldsymbol{a} \\times \\boldsymbol{b})_3 c_2\\\\\n",
    "&= a_3 b_1 c_3 - a_1 b_3 c_3 - a_1 b_2 c_2 + a_2 b_1 c_2\\\\\n",
    "&= (a_2 c_2 + a_3 c_3) b_1 - (b_2 c_2 + b_3 c_3) a_1\\\\\n",
    "&= (a_1 c_1 + a_2 c_2 + a_3 c_3) b_1 - (b_1 c_1 + b_2 c_2 + b_3 c_3) a_1 \\quad (a_1 b_1 c_1 - a_1 b_1 c_1を足した)\\\\\n",
    "&= \\langle \\boldsymbol{a}, \\boldsymbol{c} \\rangle b_1 - \\langle \\boldsymbol{b}, \\boldsymbol{c} \\rangle a_1\n",
    "\\end{align}\n",
    "$$\n",
    "\n",
    "同様に\n",
    "\n",
    "$$\n",
    "((\\boldsymbol{a} \\times \\boldsymbol{b})\\times \\boldsymbol{c})_2\n",
    "= \\langle \\boldsymbol{a}, \\boldsymbol{c} \\rangle b_2 - \\langle \\boldsymbol{b}, \\boldsymbol{c} \\rangle a_2\\\\\n",
    "((\\boldsymbol{a} \\times \\boldsymbol{b})\\times \\boldsymbol{c})_3\n",
    "= \\langle \\boldsymbol{a}, \\boldsymbol{c} \\rangle b_3 - \\langle \\boldsymbol{b}, \\boldsymbol{c} \\rangle a_3\\\\\n",
    "$$\n",
    "\n",
    "よって\n",
    "\n",
    "$$\n",
    "(\\boldsymbol{a} \\times \\boldsymbol{b}) \\times \\boldsymbol{c}\n",
    "= \\langle \\boldsymbol{a}, \\boldsymbol{c} \\rangle \\boldsymbol{b} - \\langle \\boldsymbol{b}, \\boldsymbol{c} \\rangle \\boldsymbol{a}\n",
    "$$\n"
   ]
  },
  {
   "cell_type": "markdown",
   "id": "ab4f4d2c-1073-4235-80dc-1712cdbbbddf",
   "metadata": {},
   "source": [
    "## 11.5\n",
    "\n",
    ":::{card}\n",
    "次の 1、 2 により与えられた、空間内の 2 点 $\\mathrm{A}, \\mathrm{B}$ を通る直線の方程式を求めよ。\n",
    "\n",
    "1. $\\mathrm{A}(1,2,3), \\mathrm{~B}(6,5,4)$\n",
    "2. $\\mathrm{A}(3,2,1), \\mathrm{~B}(9,6,3)$\n",
    ":::"
   ]
  },
  {
   "cell_type": "markdown",
   "id": "abec9c2f-c824-4787-88a7-e9b9cdb0f29f",
   "metadata": {},
   "source": [
    "> 1. $\\mathrm{A}(1,2,3), \\mathrm{~B}(6,5,4)$\n",
    "\n",
    "点$A,B$の位置ベクトルを$a,b$とすると、直線の方程式は\n",
    "\n",
    "$$\n",
    "x = a + t (b - a)\n",
    "$$\n",
    "\n",
    "となるため、\n",
    "\n",
    "$$\n",
    "\\mathrm{A}(1,2,3), \\mathrm{~B}(6,5,4)\n",
    "$$\n",
    "\n",
    "は\n",
    "\n",
    "$$\n",
    "\\begin{pmatrix} 1\\\\ 2\\\\ 3 \\end{pmatrix}\n",
    "+ t \\left(\n",
    "    \\begin{pmatrix} 6\\\\ 5\\\\ 4 \\end{pmatrix}\n",
    "    - \\begin{pmatrix} 1\\\\ 2\\\\ 3 \\end{pmatrix}\n",
    "\\right)\n",
    "\\\\\n",
    "= \\begin{pmatrix} 1\\\\ 2\\\\ 3 \\end{pmatrix}\n",
    "+ t \\begin{pmatrix} 5\\\\ 3\\\\ 1 \\end{pmatrix}\\\\\n",
    "= \\begin{pmatrix} 1 + 5t\\\\ 2 + 3t\\\\ 3+t \\end{pmatrix}\n",
    "$$"
   ]
  },
  {
   "cell_type": "markdown",
   "id": "e11af5f2-ccb6-4fa6-a4d1-a30553f88877",
   "metadata": {},
   "source": [
    ":::{margin}\n",
    "tを消して\n",
    "\n",
    "$$\n",
    "\\frac{x_1 - a_1}{b_1 - a_1}\n",
    "=\\frac{x_2 - a_2}{b_2 - a_2}\n",
    "=\\frac{x_3 - a_3}{b_3 - a_3}\n",
    "$$\n",
    "\n",
    "の形式にした\n",
    "\n",
    "\n",
    "$$\n",
    "\\frac{x_1 - 1}{6 - 1}\n",
    "=\\frac{x_2 - 2}{5 - 2}\n",
    "=\\frac{x_3 - 3}{4 - 3}\\\\\n",
    "\\to\n",
    "\\frac{x_1 - 1}{5}\n",
    "=\\frac{x_2 - 2}{3}\n",
    "=x_3 - 3\n",
    "$$\n",
    "\n",
    "でもよい\n",
    ":::"
   ]
  },
  {
   "cell_type": "markdown",
   "id": "be8b3e44-9710-44af-9bc3-dc4fc22300e0",
   "metadata": {},
   "source": [
    "> 2. $\\mathrm{A}(3,2,1), \\mathrm{~B}(9,6,3)$\n",
    "\n",
    "$$\n",
    "\\begin{pmatrix} 3\\\\ 2\\\\ 1 \\end{pmatrix}\n",
    "+ t \\begin{pmatrix} 6\\\\ 4\\\\ 2 \\end{pmatrix}\\\\\n",
    "= \\begin{pmatrix} 3 + 6t\\\\ 2 + 4t\\\\ 1+2t \\end{pmatrix}\n",
    "$$"
   ]
  },
  {
   "cell_type": "markdown",
   "id": "a624c4f5-ca97-4a80-9f2b-bb3a31c31fac",
   "metadata": {},
   "source": [
    "## 11.6\n",
    "\n",
    ":::{card}\n",
    "空間ベクトル $\\boldsymbol{a}, \\boldsymbol{b}, \\boldsymbol{c}$ を次の $1 、 2$ のように定めると、これらのべクトルの終点は 同一直線状にはない。これらのべクトルの終点を通る平面の方程式を求めよ。\n",
    "\n",
    "1. $\\boldsymbol{a}=\\left(\\begin{array}{lll}1 & 2 & 3\\end{array}\\right), \\boldsymbol{b}=\\left(\\begin{array}{lll}2 & 3 & 1\\end{array}\\right), \\boldsymbol{c}=\\left(\\begin{array}{lll}3 & 1 & 2\\end{array}\\right)$\n",
    "2. $\\boldsymbol{a}=\\left(\\begin{array}{lll}1 & 1 & 1\\end{array}\\right), \\boldsymbol{b}=\\left(\\begin{array}{lll}2 & 2 & 2\\end{array}\\right), \\boldsymbol{c}=\\left(\\begin{array}{lll}3 & 4 & 5\\end{array}\\right)$\n",
    ":::"
   ]
  },
  {
   "cell_type": "markdown",
   "id": "9871f40f-b8ac-499c-9409-51772461f172",
   "metadata": {},
   "source": [
    "> 1. $\\boldsymbol{a}=\\left(\\begin{array}{lll}1 & 2 & 3\\end{array}\\right), \\boldsymbol{b}=\\left(\\begin{array}{lll}2 & 3 & 1\\end{array}\\right), \\boldsymbol{c}=\\left(\\begin{array}{lll}3 & 1 & 2\\end{array}\\right)$"
   ]
  },
  {
   "cell_type": "markdown",
   "id": "95bb1569-2fbb-4ece-ab38-20d09973be81",
   "metadata": {},
   "source": [
    "まず、法線ベクトルを求める\n",
    "\n",
    "$$\n",
    "(\\boldsymbol{b} - \\boldsymbol{a}) \\times (\\boldsymbol{c} - \\boldsymbol{a}) = (-3,-3,-3)\n",
    "$$"
   ]
  },
  {
   "cell_type": "markdown",
   "id": "fde4f204-abf2-47f2-8ace-5993e53edc0f",
   "metadata": {},
   "source": [
    "点$a$を通る平面を構築する点の集合$x$は\n",
    "\n",
    "$$\n",
    "\\boldsymbol{x} - \\boldsymbol{a}\n",
    "= \\begin{pmatrix}\n",
    "x - 1\\\\\n",
    "y - 2\\\\\n",
    "z - 3\n",
    "\\end{pmatrix}\n",
    "$$\n"
   ]
  },
  {
   "cell_type": "markdown",
   "id": "9ca9b0ed-2718-4091-a97e-ecf6c8434041",
   "metadata": {},
   "source": [
    "$$\n",
    "(\\boldsymbol{b} - \\boldsymbol{a}) \\times (\\boldsymbol{c} - \\boldsymbol{a})\n",
    "\\cdot\n",
    "\\boldsymbol{x} - \\boldsymbol{a}\n",
    "= -3 (x - 1) - 3 (y - 2) - 3 (z - 3)\\\\\n",
    "= -3 x + 3 - 3 y + 6 - 3z + 9 = 0\\\\\n",
    "\\to -3x - 3y -3z = -18\\\\\n",
    "\\to x + y + z = 6\\\\\n",
    "$$"
   ]
  },
  {
   "cell_type": "markdown",
   "id": "51b5a2bc-3c7c-4da3-a909-03c7dc5ce8ac",
   "metadata": {},
   "source": [
    "> 2. $\\boldsymbol{a}=\\left(\\begin{array}{lll}1 & 1 & 1\\end{array}\\right), \\boldsymbol{b}=\\left(\\begin{array}{lll}2 & 2 & 2\\end{array}\\right), \\boldsymbol{c}=\\left(\\begin{array}{lll}3 & 4 & 5\\end{array}\\right)$"
   ]
  },
  {
   "cell_type": "markdown",
   "id": "ae501d0b-70b5-4fc3-a5db-eec1582093bf",
   "metadata": {},
   "source": [
    "$$\n",
    "x - 2y + z = 0\n",
    "$$"
   ]
  }
 ],
 "metadata": {
  "kernelspec": {
   "display_name": "Python 3 (ipykernel)",
   "language": "python",
   "name": "python3"
  },
  "language_info": {
   "codemirror_mode": {
    "name": "ipython",
    "version": 3
   },
   "file_extension": ".py",
   "mimetype": "text/x-python",
   "name": "python",
   "nbconvert_exporter": "python",
   "pygments_lexer": "ipython3",
   "version": "3.10.13"
  }
 },
 "nbformat": 4,
 "nbformat_minor": 5
}
