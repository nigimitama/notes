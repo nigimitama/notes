{
 "cells": [
  {
   "cell_type": "markdown",
   "id": "c55af97e-c678-4c9f-8719-9894d971f967",
   "metadata": {},
   "source": [
    "# 練習問題メモ 13（ベクトル空間）"
   ]
  },
  {
   "cell_type": "markdown",
   "id": "c5b2035c-8868-4392-809f-068d86788b93",
   "metadata": {},
   "source": [
    "## 問1\n",
    "\n",
    "次の問いに答えよ。\n",
    "\n",
    ":::{card}\n",
    "\n",
    "1. ベクトル空間の部分空間の定義を書け\n",
    ":::"
   ]
  },
  {
   "cell_type": "markdown",
   "id": "443885f4-f6a7-45e1-843a-b1e796fc650c",
   "metadata": {},
   "source": [
    "ベクトル空間$V$の空でない部分集合$W$が$V$における和とスカラー倍の演算でベクトル空間になるとき、$W$を$V$の部分空間という"
   ]
  },
  {
   "cell_type": "markdown",
   "id": "fe1f0b1b-4384-4daf-97f5-447513e28b9f",
   "metadata": {},
   "source": [
    ":::{card}\n",
    "\n",
    "2. $W$ をべクトル空間 $V$ の部分集合とする。 $W$ が $V$ の部分空間であることと同値な 3 つの条件を書け。\n",
    ":::"
   ]
  },
  {
   "cell_type": "markdown",
   "id": "aeb9cc5f-9503-42b7-ae7b-68e32fba935d",
   "metadata": {},
   "source": [
    "1. $W$が空ではない：$W \\neq \\emptyset$\n",
    "2. 元の和が元：$a, b \\in W \\implies a + b \\in W$\n",
    "3. 元の定数倍が元：$a\\in W, \\lambda \\in R \\implies \\lambda a \\in W$"
   ]
  },
  {
   "cell_type": "markdown",
   "id": "a2dd8813-c02d-43e8-a130-24ad6ba88f49",
   "metadata": {},
   "source": [
    ":::{card}\n",
    "\n",
    "3. $\\mathbb{R}^2$ の部分集合 $W$ を次の（ア）、(イ）のように定める。 $W$ は $\\mathbb{R}^2$ の部分空間 ではないことを示せ。\n",
    "\n",
    "\n",
    "\n",
    "$$\n",
    "(ア) \\quad W=\\left\\{\\left.\\left(\\begin{array}{l}x_1 \\\\ x_2\\end{array}\\right) \\in \\mathbb{R}^2 \\right\\rvert\\, x_1+2 x_2=3\\right\\}\n",
    "\\\\\n",
    "(イ) \\quad W=\\left\\{\\left.\\left(\\begin{array}{l}x_1 \\\\ x_2\\end{array}\\right) \\in \\mathbb{R}^2 \\right\\rvert\\, \\begin{array}{l|l}x_1 \\geq 0\\end{array}\\right\\}\n",
    "$$\n",
    "\n",
    "\n",
    ":::"
   ]
  },
  {
   "cell_type": "markdown",
   "id": "ddaa6743-5b75-4064-988c-c007c0ba6882",
   "metadata": {},
   "source": [
    "### （ア）\n",
    "\n",
    "$\\mathbb{R}$は0を含むので、$x_1 = x_2 = 0$の場合を考えると\n",
    "\n",
    "$$\n",
    "x_1 + 2x_2 = 0 \\neq 3\n",
    "$$\n",
    "\n",
    "なので$x_1 + 2x_2 = 0 \\notin W$\n",
    "\n",
    "よって$W$は$R^2$の部分空間ではない\n"
   ]
  },
  {
   "cell_type": "markdown",
   "id": "3e64e17a-170b-42b1-b364-10701b3beaf3",
   "metadata": {},
   "source": [
    "### （イ）\n",
    "\n",
    "負の定数$c$で定数倍にしたとき$c (x_1 x_2)^T \\notin W$のため"
   ]
  },
  {
   "cell_type": "markdown",
   "id": "73c798ac-bfec-49ea-8add-a94421e35869",
   "metadata": {},
   "source": [
    "## 問2\n",
    "\n",
    "$W_1, W_2$ をべクトル空間 $V$ の部分空間とする。\n",
    "\n",
    "\n",
    ":::{card}\n",
    "\n",
    "1. $V$ の部分集合\n",
    "\n",
    "$$\n",
    "W_1 \\cap W_2=\\left\\{\\boldsymbol{x} \\mid \\boldsymbol{x} \\in W_1 \\text { かつ } \\boldsymbol{x} \\in W_2\\right\\}\n",
    "$$\n",
    "\n",
    "は $V$ の部分空間であることを示せ。\n",
    ":::"
   ]
  },
  {
   "cell_type": "markdown",
   "id": "7e3b9462-5477-47cd-9883-ef6cb6d1a2af",
   "metadata": {},
   "source": [
    ":::{card}\n",
    "\n",
    "2. $V$ の部分集合 $W_1+W_2$ を\n",
    "\n",
    "$$\n",
    "W_1+W_2=\\left\\{\\boldsymbol{x}+\\boldsymbol{y} \\mid \\boldsymbol{x} \\in W_1, \\boldsymbol{y} \\in W_2\\right\\}\n",
    "$$\n",
    "\n",
    "により定めると、 $W_1+W_2$ は $V$ の部分空間であることを示せ。この $W_1+W_2$ を $W_1$ と $W_2$ の和空間という。\n",
    ":::"
   ]
  },
  {
   "cell_type": "markdown",
   "id": "7c72be37-a464-443e-97b8-5348710dcc8b",
   "metadata": {},
   "source": [
    "## 問3\n",
    "\n",
    ":::{card}\n",
    "\n",
    "$n$ 次以下の実数係数の $t$ に関する多項式全体の集合 $\\mathbb{R}[t]_n$ は $\\mathbb{R}[t]$ の部分空間であ ることを示せ。\n",
    "\n",
    ":::"
   ]
  },
  {
   "cell_type": "markdown",
   "id": "44ad0ddc-a69e-406c-be07-231cc2e95f24",
   "metadata": {},
   "source": []
  },
  {
   "cell_type": "markdown",
   "id": "5d86deec-62f8-49ab-9f2e-08e16e07f8e4",
   "metadata": {},
   "source": [
    ":::{card}\n",
    "\n",
    ":::"
   ]
  },
  {
   "cell_type": "markdown",
   "id": "34710602-bb99-4ba4-81ab-20045397056e",
   "metadata": {},
   "source": [
    ":::{card}\n",
    "\n",
    ":::"
   ]
  },
  {
   "cell_type": "code",
   "execution_count": null,
   "id": "65d178e2-83f8-45ec-97cd-23974a68d98c",
   "metadata": {},
   "outputs": [],
   "source": []
  }
 ],
 "metadata": {
  "kernelspec": {
   "display_name": "Python 3 (ipykernel)",
   "language": "python",
   "name": "python3"
  },
  "language_info": {
   "codemirror_mode": {
    "name": "ipython",
    "version": 3
   },
   "file_extension": ".py",
   "mimetype": "text/x-python",
   "name": "python",
   "nbconvert_exporter": "python",
   "pygments_lexer": "ipython3",
   "version": "3.10.13"
  }
 },
 "nbformat": 4,
 "nbformat_minor": 5
}
