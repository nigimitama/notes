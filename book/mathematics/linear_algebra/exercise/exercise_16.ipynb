{
 "cells": [
  {
   "cell_type": "markdown",
   "id": "09963f7d-703c-49fa-b521-69ab725e7fd3",
   "metadata": {},
   "source": [
    "# 練習問題メモ 16（基底変換）"
   ]
  },
  {
   "cell_type": "markdown",
   "id": "c4e3ab93-0f56-440a-885a-1d89a6223362",
   "metadata": {},
   "source": [
    "## 問1\n",
    "\n",
    ":::{card}\n",
    "$$\n",
    "\\begin{aligned}\n",
    "& \\boldsymbol{a}_1, \\boldsymbol{a}_2, \\boldsymbol{a}_3, \\boldsymbol{v} \\in \\mathbb{R}^3 \\text { を } \\\\\n",
    "& \\boldsymbol{a}_1=\\left(\\begin{array}{l}\n",
    "2 \\\\\n",
    "1 \\\\\n",
    "1\n",
    "\\end{array}\\right), \\quad \\boldsymbol{a}_2=\\left(\\begin{array}{l}\n",
    "1 \\\\\n",
    "2 \\\\\n",
    "1\n",
    "\\end{array}\\right), \\quad \\boldsymbol{a}_3=\\left(\\begin{array}{l}\n",
    "1 \\\\\n",
    "1 \\\\\n",
    "2\n",
    "\\end{array}\\right), \\quad \\boldsymbol{v}=\\left(\\begin{array}{l}\n",
    "1 \\\\\n",
    "2 \\\\\n",
    "3\n",
    "\\end{array}\\right)\n",
    "\\end{aligned}\n",
    "$$\n",
    "\n",
    "により定める。問 14.1 の 2 の（ア）より、 $\\left\\{\\boldsymbol{a}_1, \\boldsymbol{a}_2, \\boldsymbol{a}_3\\right\\}$ は $\\mathbb{R}^3$ の基底である。\n",
    "基底 $\\left\\{\\boldsymbol{a}_1, \\boldsymbol{a}_2, \\boldsymbol{a}_3\\right\\}$ に関する $\\succsim$ の成分を求めよ。\n",
    ":::\n"
   ]
  },
  {
   "cell_type": "code",
   "execution_count": null,
   "id": "13624e46-8c55-471a-abe1-41ce226f830c",
   "metadata": {},
   "outputs": [],
   "source": []
  },
  {
   "cell_type": "markdown",
   "id": "0c696b0f-426d-44bc-a15e-c0536e7db686",
   "metadata": {},
   "source": [
    "## 問2\n",
    "\n",
    ":::{card}\n",
    "\n",
    "$\\boldsymbol{a}_1, \\boldsymbol{a}_2, \\boldsymbol{a}_3, \\boldsymbol{b}_1, \\boldsymbol{b}_2, \\boldsymbol{b}_3 \\in \\mathbb{R}^3$ を\n",
    "\n",
    "$$\n",
    "\\begin{gathered}\n",
    "\\boldsymbol{a}_1=\\left(\\begin{array}{l}\n",
    "0 \\\\\n",
    "1 \\\\\n",
    "2\n",
    "\\end{array}\\right), \\quad \\boldsymbol{a}_2=\\left(\\begin{array}{l}\n",
    "1 \\\\\n",
    "0 \\\\\n",
    "3\n",
    "\\end{array}\\right), \\quad \\boldsymbol{a}_3=\\left(\\begin{array}{l}\n",
    "2 \\\\\n",
    "3 \\\\\n",
    "0\n",
    "\\end{array}\\right) \\\\\n",
    "\\boldsymbol{b}_1=\\left(\\begin{array}{l}\n",
    "2 \\\\\n",
    "1 \\\\\n",
    "1\n",
    "\\end{array}\\right), \\quad \\boldsymbol{b}_2=\\left(\\begin{array}{l}\n",
    "1 \\\\\n",
    "2 \\\\\n",
    "1\n",
    "\\end{array}\\right), \\quad \\boldsymbol{b}_3=\\left(\\begin{array}{l}\n",
    "1 \\\\\n",
    "1 \\\\\n",
    "2\n",
    "\\end{array}\\right)\n",
    "\\end{gathered}\n",
    "$$\n",
    "\n",
    "\n",
    "により定めると、 $\\left\\{\\boldsymbol{a}_1, \\boldsymbol{a}_2, \\boldsymbol{a}_3\\right\\},\\left\\{\\boldsymbol{b}_1, \\boldsymbol{b}_2, \\boldsymbol{b}_3\\right\\}$ はともに $\\mathbb{R}^3$ の基底である。\n",
    "基底変換 $\\left\\{\\boldsymbol{a}_1, \\boldsymbol{a}_2, \\boldsymbol{a}_3\\right\\} \\rightarrow\\left\\{\\boldsymbol{b}_1, \\boldsymbol{b}_2, \\boldsymbol{b}_3\\right\\}$ の基底変換行列を求めよ。\n",
    ":::"
   ]
  },
  {
   "cell_type": "markdown",
   "id": "2b7bee60-4519-46bc-9a4d-001b9d007b21",
   "metadata": {},
   "source": [
    "基底変換行列を$P$とおくと\n",
    "\n",
    "$$\n",
    "(\\boldsymbol{b}_1, \\boldsymbol{b}_2, \\boldsymbol{b}_3)\n",
    "=\n",
    "(\\boldsymbol{a}_1, \\boldsymbol{a}_2, \\boldsymbol{a}_3) P\n",
    "$$\n",
    "\n",
    "すなわち\n",
    "\n",
    "$$\n",
    "\\begin{pmatrix}\n",
    "2 & 1 & 1\\\\\n",
    "1 & 2 & 1\\\\\n",
    "1 & 1 & 2\n",
    "\\end{pmatrix}\n",
    "=\n",
    "\\begin{pmatrix}\n",
    "0 & 1 & 2\\\\\n",
    "1 & 0 & 3\\\\\n",
    "2 & 3 & 0\n",
    "\\end{pmatrix}\n",
    "P\n",
    "$$\n",
    "\n",
    "の$P$を求める。\n",
    "\n",
    "$$\n",
    "B = AP\n",
    "$$\n",
    "\n",
    "とすると、\n",
    "\n",
    "$$\n",
    "P = A^{-1}B\n",
    "$$\n",
    "\n",
    "なので、$A^{-1}$を求める"
   ]
  },
  {
   "cell_type": "markdown",
   "id": "ddbd6ceb-d9e6-4e77-9487-071409bf00a5",
   "metadata": {},
   "source": [
    "逆行列（$A^{-1}A=I$の解）を吐き出し法で解く\n",
    "\n",
    "$$\n",
    "[\\mathbf{A} \\mid \\mathbf{I}]\n",
    "=\\left(\\begin{array}{lll|lll}\n",
    "0 & 1 & 2 & 1 & 0 & 0 \\\\\n",
    "1 & 0 & 3 & 0 & 1 & 0 \\\\\n",
    "2 & 3 & 0 & 0 & 0 & 1\n",
    "\\end{array}\\right)\n",
    "$$\n",
    "\n",
    "1. 行2と1を入れ替える\n",
    "\n",
    "$$\n",
    "\\left(\\begin{array}{lll|lll}\n",
    "1 & 0 & 3 & 0 & 1 & 0 \\\\\n",
    "0 & 1 & 2 & 1 & 0 & 0 \\\\\n",
    "2 & 3 & 0 & 0 & 0 & 1\n",
    "\\end{array}\\right)\n",
    "$$\n",
    "\n",
    "2. 行1を2倍して第3行から引く\n",
    "\n",
    "$$\n",
    "\\left(\\begin{array}{lll|lll}\n",
    "1 & 0 & 3 & 0 & 1 & 0 \\\\\n",
    "0 & 1 & 2 & 1 & 0 & 0 \\\\\n",
    "0 & 3 & -6 & 0 & -2 & 1\n",
    "\\end{array}\\right)\n",
    "$$\n",
    "\n",
    "3. 第2行を3倍して第3行から引く\n",
    "\n",
    "$$\n",
    "\\left(\\begin{array}{lll|lll}\n",
    "1 & 0 & 3 & 0 & 1 & 0 \\\\\n",
    "0 & 1 & 2 & 1 & 0 & 0 \\\\\n",
    "0 & 0 & -12 & -3 & -2 & 1\n",
    "\\end{array}\\right)\n",
    "$$\n",
    "\n",
    "4. 第3行を-1/12倍する\n",
    "\n",
    "$$\n",
    "\\left(\\begin{array}{ccc|ccc}\n",
    "1 & 0 & 3 & 0 & 1 & 0 \\\\\n",
    "0 & 1 & 2 & 1 & 0 & 0 \\\\\n",
    "0 & 0 & 1 & \\frac{1}{4} & \\frac{1}{6} & -\\frac{1}{12}\n",
    "\\end{array}\\right)\n",
    "$$\n",
    "\n",
    "\n",
    "5. 第3行を3倍して第1行から引く\n",
    "\n",
    "$$\n",
    "\\left(\\begin{array}{ccc|ccc}\n",
    "1 & 0 & 0 & -\\frac{3}{4} & \\frac{1}{2} & \\frac{1}{4} \\\\\n",
    "0 & 1 & 2 & 1 & 0 & 0 \\\\\n",
    "0 & 0 & 1 & \\frac{1}{4} & \\frac{1}{6} & -\\frac{1}{12}\n",
    "\\end{array}\\right)\n",
    "$$\n",
    "\n",
    "6. 第3行を2倍して第2行から引く\n",
    "\n",
    "$$\n",
    "\\left(\\begin{array}{ccc|ccc}\n",
    "1 & 0 & 0 & -\\frac{3}{4} & \\frac{1}{2} & \\frac{1}{4} \\\\\n",
    "0 & 1 & 0 & \\frac{1}{2} & -\\frac{1}{3} & \\frac{1}{6} \\\\\n",
    "0 & 0 & 1 & \\frac{1}{4} & \\frac{1}{6} & -\\frac{1}{12}\n",
    "\\end{array}\\right)\n",
    "$$\n",
    "\n",
    "左側の行列が単位行列になったので、右側の行列が逆行列となる\n",
    "\n",
    "$$\n",
    "A^{-1}=\n",
    "\\begin{pmatrix}\n",
    "-\\frac{3}{4} & \\frac{1}{2} & \\frac{1}{4} \\\\\n",
    "\\frac{1}{2} & -\\frac{1}{3} & \\frac{1}{6} \\\\\n",
    "\\frac{1}{4} & \\frac{1}{6} & -\\frac{1}{12}\n",
    "\\end{pmatrix}\n",
    "$$"
   ]
  },
  {
   "cell_type": "markdown",
   "id": "bb6251db-5b44-4662-af66-173747e83d3b",
   "metadata": {},
   "source": [
    "よって\n",
    "\n",
    "$$\n",
    "P\n",
    "= A^{-1} B\n",
    "= \n",
    "\\begin{pmatrix}\n",
    "-\\frac{3}{4} & \\frac{1}{2} & \\frac{1}{4} \\\\\n",
    "\\frac{1}{2} & -\\frac{1}{3} & \\frac{1}{6} \\\\\n",
    "\\frac{1}{4} & \\frac{1}{6} & -\\frac{1}{12}\n",
    "\\end{pmatrix}\n",
    "\\begin{pmatrix}\n",
    "2 & 1 & 1\\\\\n",
    "1 & 2 & 1\\\\\n",
    "1 & 1 & 2\n",
    "\\end{pmatrix}\n",
    "=\n",
    "\\begin{pmatrix}\n",
    "-\\frac{3}{4} & \\frac{1}{2} & \\frac{1}{4} \\\\\n",
    "\\frac{5}{6} & 0 & \\frac{1}{2} \\\\\n",
    "\\frac{7}{12} & \\frac{1}{2} & \\frac{1}{4}\n",
    "\\end{pmatrix}\n",
    "$$"
   ]
  },
  {
   "cell_type": "code",
   "execution_count": 13,
   "id": "daa21930-27a0-4b1b-9281-e51d0f2c9db9",
   "metadata": {},
   "outputs": [
    {
     "data": {
      "text/plain": [
       "array([[-0.75 ,  0.5  ,  0.25 ],\n",
       "       [ 0.5  , -0.333,  0.167],\n",
       "       [ 0.25 ,  0.167, -0.083]])"
      ]
     },
     "execution_count": 13,
     "metadata": {},
     "output_type": "execute_result"
    }
   ],
   "source": [
    "import numpy as np\n",
    "\n",
    "A = np.array([[0, 1, 2], [1, 0, 3], [2, 3, 0]])\n",
    "B = np.array([[2, 1, 1], [1, 2, 1], [1, 1, 2]])\n",
    "\n",
    "A_inv = np.linalg.inv(A)\n",
    "A_inv.round(3)"
   ]
  },
  {
   "cell_type": "code",
   "execution_count": 16,
   "id": "d8fd868f-f176-4277-9082-98c7e448b4e5",
   "metadata": {},
   "outputs": [
    {
     "data": {
      "text/plain": [
       "array([[-0.75 ,  0.5  ,  0.25 ],\n",
       "       [ 0.833,  0.   ,  0.5  ],\n",
       "       [ 0.583,  0.5  ,  0.25 ]])"
      ]
     },
     "execution_count": 16,
     "metadata": {},
     "output_type": "execute_result"
    }
   ],
   "source": [
    "P = A_inv @ B\n",
    "P.round(3)"
   ]
  },
  {
   "cell_type": "code",
   "execution_count": 20,
   "id": "82d569cb-dfe8-45e5-b5a2-0973ec711f8f",
   "metadata": {},
   "outputs": [
    {
     "data": {
      "text/latex": [
       "$\\displaystyle \\left[\\begin{matrix}- \\frac{3}{4} & \\frac{1}{2} & \\frac{1}{4}\\\\\\frac{1}{2} & - \\frac{1}{3} & \\frac{1}{6}\\\\\\frac{1}{4} & \\frac{1}{6} & - \\frac{1}{12}\\end{matrix}\\right]$"
      ],
      "text/plain": [
       "Matrix([\n",
       "[-3/4,  1/2,   1/4],\n",
       "[ 1/2, -1/3,   1/6],\n",
       "[ 1/4,  1/6, -1/12]])"
      ]
     },
     "execution_count": 20,
     "metadata": {},
     "output_type": "execute_result"
    }
   ],
   "source": [
    "import sympy as sp\n",
    "\n",
    "A = sp.Matrix([[0, 1, 2], [1, 0, 3], [2, 3, 0]])\n",
    "B = sp.Matrix([[2, 1, 1], [1, 2, 1], [1, 1, 2]])\n",
    "\n",
    "A_inv = A.inv()\n",
    "A_inv"
   ]
  },
  {
   "cell_type": "code",
   "execution_count": 21,
   "id": "7f56ef2b-b4f2-49aa-bb89-f86334dce982",
   "metadata": {},
   "outputs": [
    {
     "data": {
      "text/latex": [
       "$\\displaystyle \\left[\\begin{matrix}- \\frac{3}{4} & \\frac{1}{2} & \\frac{1}{4}\\\\\\frac{5}{6} & 0 & \\frac{1}{2}\\\\\\frac{7}{12} & \\frac{1}{2} & \\frac{1}{4}\\end{matrix}\\right]$"
      ],
      "text/plain": [
       "Matrix([\n",
       "[-3/4, 1/2, 1/4],\n",
       "[ 5/6,   0, 1/2],\n",
       "[7/12, 1/2, 1/4]])"
      ]
     },
     "execution_count": 21,
     "metadata": {},
     "output_type": "execute_result"
    }
   ],
   "source": [
    "import sympy as sp\n",
    "\n",
    "A = sp.Matrix([[0, 1, 2], [1, 0, 3], [2, 3, 0]])\n",
    "B = sp.Matrix([[2, 1, 1], [1, 2, 1], [1, 1, 2]])\n",
    "\n",
    "A_inv = A.inv()\n",
    "A_inv @ B"
   ]
  },
  {
   "cell_type": "markdown",
   "id": "3f80293f-4c72-4c03-9944-8b7e92cc4a89",
   "metadata": {},
   "source": [
    "## 問3\n",
    "\n",
    ":::{card}\n",
    "\n",
    "次の□を埋めよ\n",
    "\n",
    "$\\left\\{\\boldsymbol{a}_1, \\boldsymbol{a}_2, \\cdots, \\boldsymbol{a}_n\\right\\},\\left\\{\\boldsymbol{b}_1, \\boldsymbol{b}_2, \\cdots, \\boldsymbol{b}_n\\right\\},\\left\\{\\boldsymbol{c}_1, \\boldsymbol{c}_2, \\cdots, \\boldsymbol{c}_n\\right\\}$ を $n$ 次元ベクトル空間 $V$ の基底、 $P, Q$ をそれぞれ基底変換 $\\left\\{\\boldsymbol{a}_1, \\boldsymbol{a}_2, \\cdots, \\boldsymbol{a}_n\\right\\} \\rightarrow\\left\\{\\boldsymbol{b}_1, \\boldsymbol{b}_2, \\cdots, \\boldsymbol{b}_n\\right\\},\\left\\{\\boldsymbol{b}_1, \\boldsymbol{b}_2, \\cdots, \\boldsymbol{b}_n\\right\\} \\rightarrow \\left\\{c_1, c_2, \\cdots, c_n\\right\\}$ の基底変換行列とする。このとき、\n",
    "\n",
    "$$\n",
    "\\begin{aligned}\n",
    "& \\left(\\begin{array}{llll}\n",
    "\\boldsymbol{b}_1 & \\boldsymbol{b}_2 & \\cdots & \\boldsymbol{b}_n\n",
    "\\end{array}\\right)=\\left(\\begin{array}{llll}\n",
    "\\boldsymbol{a}_1 & \\boldsymbol{a}_2 & \\cdots & \\boldsymbol{a}_n\n",
    "\\end{array}\\right) [1] \\\\\n",
    "& \\left(\\begin{array}{lllll}\n",
    "\\boldsymbol{c}_1 & \\boldsymbol{c}_2 & \\cdots & \\boldsymbol{c}_n\n",
    "\\end{array}\\right)=\\left(\\begin{array}{llll}\n",
    "\\boldsymbol{b}_1 & \\boldsymbol{b}_2 & \\cdots & \\boldsymbol{b}_n\n",
    "\\end{array}\\right) [2]\n",
    "\\end{aligned}\n",
    "$$\n",
    "\n",
    "と表され、さらに、\n",
    "\n",
    "$$\n",
    "\\left(\\begin{array}{llll}\n",
    "\\boldsymbol{c}_1 & \\boldsymbol{c}_2 & \\cdots & \\boldsymbol{c}_n\n",
    "\\end{array}\\right)=\\left(\\begin{array}{llll}\n",
    "\\boldsymbol{a}_1 & \\boldsymbol{a}_2 & \\cdots & \\boldsymbol{a}_n\n",
    "\\end{array}\\right) [3]\n",
    "$$\n",
    "\n",
    "\n",
    "と表される。よって、基底変換 $\\left\\{a_1, a_2, \\cdots, a_n\\right\\} \\rightarrow\\left\\{\\boldsymbol{c}_1, \\boldsymbol{c}_2, \\cdots, \\boldsymbol{c}_n\\right\\}$ の基底変換行列は \\[3\\] である。\n",
    "\n",
    "一方、逆の基底変換 $\\left\\{\\boldsymbol{c}_1, \\boldsymbol{c}_2, \\cdots, \\boldsymbol{c}_n\\right\\} \\rightarrow\\left\\{\\boldsymbol{a}_1, \\boldsymbol{a}_2, \\cdots, \\boldsymbol{a}_n\\right\\}$ の基底変換行列は $([3])^{-1}=[4]$ である。\n",
    "\n",
    ":::\n"
   ]
  },
  {
   "cell_type": "markdown",
   "id": "e16bbfec-241d-4028-9ec3-687e040c6988",
   "metadata": {},
   "source": [
    "$$\n",
    "[1] = P\\\\\n",
    "[2] = Q\\\\\n",
    "[3] = QP\\\\\n",
    "$$"
   ]
  },
  {
   "cell_type": "code",
   "execution_count": null,
   "id": "0de801f3-5300-4d57-bedb-402459e0de8f",
   "metadata": {},
   "outputs": [],
   "source": []
  },
  {
   "cell_type": "markdown",
   "id": "ad5051a4-78b0-4e62-b728-b13222943612",
   "metadata": {},
   "source": [
    "## 問4\n",
    "\n",
    ":::{card}\n",
    "\n",
    "\n",
    "$\\left\\{\\boldsymbol{a}_1, \\boldsymbol{a}_2\\right\\},\\left\\{\\boldsymbol{b}_1, \\boldsymbol{b}_2\\right\\}$ を 2 次元ベクトル空間 $V$ の基底とし、 $\\boldsymbol{v} \\in V$ とする。\n",
    "\n",
    "1. 基底 $\\left\\{\\boldsymbol{a}_1, \\boldsymbol{a}_2\\right\\}$ に関する $v$ の成分 $x_1, x_2$ の定義を書け。\n",
    "2. 基底変換 $\\left\\{\\boldsymbol{a}_1, \\boldsymbol{a}_2\\right\\} \\rightarrow\\left\\{\\boldsymbol{b}_1, \\boldsymbol{b}_2\\right\\}$ の基底変換行列 $P$ の定義を書け。\n",
    "3. 1, 2 の $x_1, x_2, P$ がそれぞれ\n",
    "\n",
    "$$\n",
    "x_1=1, \\quad x_2=2, \\quad P=\\left(\\begin{array}{ll}\n",
    "1 & 1 \\\\\n",
    "0 & 1\n",
    "\\end{array}\\right)\n",
    "$$\n",
    "\n",
    "により与えられるとき、基底 $\\left\\{\\boldsymbol{b}_1, \\boldsymbol{b}_2\\right\\}$ に関する $\\boldsymbol{v}$ の成分 $y_1, y_2$ を求めよ。\n",
    ":::"
   ]
  },
  {
   "cell_type": "code",
   "execution_count": null,
   "id": "75598ff6-c43f-438d-a423-2bdb2958b8fd",
   "metadata": {},
   "outputs": [],
   "source": []
  }
 ],
 "metadata": {
  "kernelspec": {
   "display_name": "Python 3 (ipykernel)",
   "language": "python",
   "name": "python3"
  },
  "language_info": {
   "codemirror_mode": {
    "name": "ipython",
    "version": 3
   },
   "file_extension": ".py",
   "mimetype": "text/x-python",
   "name": "python",
   "nbconvert_exporter": "python",
   "pygments_lexer": "ipython3",
   "version": "3.10.14"
  }
 },
 "nbformat": 4,
 "nbformat_minor": 5
}
