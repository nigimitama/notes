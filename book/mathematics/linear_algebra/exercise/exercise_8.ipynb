{
 "cells": [
  {
   "cell_type": "markdown",
   "id": "250945a9-68e5-4992-9d7d-7fb9fd0216d6",
   "metadata": {},
   "source": [
    "# 練習問題メモ 8（行列式）"
   ]
  },
  {
   "cell_type": "markdown",
   "id": "ecc5ac2c-7af6-4143-a617-83d9a820f5be",
   "metadata": {},
   "source": [
    "## 8.1\n",
    "\n",
    ":::{card}\n",
    "次の1~3の行列式を計算せよ。\n",
    "\n",
    "1. $\\left|\\begin{array}{cc}\\cos \\theta & -\\sin \\theta \\\\ \\sin \\theta & \\cos \\theta\\end{array}\\right|$\n",
    "2. $\\left|\\begin{array}{lll}a & 1 & 1 \\\\ 1 & a & 1 \\\\ 1 & 1 & a\\end{array}\\right|$\n",
    "3. $\\left|\\begin{array}{llll}1 & a & b & c \\\\ 0 & 2 & d & e \\\\ 0 & 0 & 3 & f \\\\ 0 & 0 & 0 & 4\\end{array}\\right|$\n",
    ":::"
   ]
  },
  {
   "cell_type": "markdown",
   "id": "44a4ff91-1900-4cb9-b68e-a6c9a5f892f3",
   "metadata": {},
   "source": [
    "> 1. $\\left|\\begin{array}{cc}\\cos \\theta & -\\sin \\theta \\\\ \\sin \\theta & \\cos \\theta\\end{array}\\right|$\n",
    "\n",
    "$$\n",
    "\\left|\\begin{array}{cc}\\cos \\theta & -\\sin \\theta \\\\ \\sin \\theta & \\cos \\theta\\end{array}\\right|\n",
    "= \\cos^2 \\theta + \\sin^2 \\theta = 1\n",
    "$$"
   ]
  },
  {
   "cell_type": "markdown",
   "id": "d2847dc7-76d7-4117-8f5b-e21ef5052279",
   "metadata": {},
   "source": [
    "> 2. $\\left|\\begin{array}{lll}a & 1 & 1 \\\\ 1 & a & 1 \\\\ 1 & 1 & a\\end{array}\\right|$\n"
   ]
  },
  {
   "cell_type": "markdown",
   "id": "c938c232-8072-443f-b0dc-4064a1c36413",
   "metadata": {},
   "source": [
    "> 3. $\\left|\\begin{array}{llll}1 & a & b & c \\\\ 0 & 2 & d & e \\\\ 0 & 0 & 3 & f \\\\ 0 & 0 & 0 & 4\\end{array}\\right|$\n"
   ]
  },
  {
   "cell_type": "code",
   "execution_count": null,
   "id": "1c2793fb-5398-442c-9305-cb133cfd0cb1",
   "metadata": {},
   "outputs": [],
   "source": []
  }
 ],
 "metadata": {
  "kernelspec": {
   "display_name": "Python 3 (ipykernel)",
   "language": "python",
   "name": "python3"
  },
  "language_info": {
   "codemirror_mode": {
    "name": "ipython",
    "version": 3
   },
   "file_extension": ".py",
   "mimetype": "text/x-python",
   "name": "python",
   "nbconvert_exporter": "python",
   "pygments_lexer": "ipython3",
   "version": "3.9.18"
  }
 },
 "nbformat": 4,
 "nbformat_minor": 5
}
