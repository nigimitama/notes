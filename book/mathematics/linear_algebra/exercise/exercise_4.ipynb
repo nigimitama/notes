{
 "cells": [
  {
   "cell_type": "markdown",
   "id": "125ea446-66e9-4963-b10c-ee925e68fd4b",
   "metadata": {},
   "source": [
    "# 練習問題 メモ 4"
   ]
  },
  {
   "cell_type": "markdown",
   "id": "af8dba04-c3f4-40be-87fe-c2b418c910dd",
   "metadata": {},
   "source": [
    "## 4.1\n",
    "\n",
    "> 次の１～３の行列の階数標準形および階数(rank)を求めよ\n",
    "> \n",
    "> 1. $\\left(\\begin{array}{ll}1 & 2 \\\\ 3 & 4 \\\\ 5 & 6\\end{array}\\right)$\n"
   ]
  },
  {
   "cell_type": "markdown",
   "id": "3c0077db-68d5-4b23-9689-d594f7e8794d",
   "metadata": {},
   "source": [
    "行ベクトルを\n",
    "\n",
    "$$\n",
    "\\begin{pmatrix}\n",
    "a_1 \\\\\n",
    "a_2 \\\\\n",
    "a_3\n",
    "\\end{pmatrix}\n",
    "$$\n",
    "\n",
    "とする\n",
    "\n",
    "1. $a_2' = a_2 + (-2) \\times a_1$"
   ]
  },
  {
   "cell_type": "code",
   "execution_count": 11,
   "id": "ebfb7bc9-5cbe-45dd-ab26-fb5dfcb49821",
   "metadata": {},
   "outputs": [],
   "source": [
    "import numpy as np\n",
    "A = np.array([\n",
    "    [1, 2],\n",
    "    [3, 4],\n",
    "    [5, 6],\n",
    "])"
   ]
  },
  {
   "cell_type": "code",
   "execution_count": 12,
   "id": "a124bf27-5614-4066-a6cf-ca8733600b9d",
   "metadata": {},
   "outputs": [
    {
     "data": {
      "text/plain": [
       "array([[1, 2],\n",
       "       [1, 0],\n",
       "       [5, 6]])"
      ]
     },
     "execution_count": 12,
     "metadata": {},
     "output_type": "execute_result"
    }
   ],
   "source": [
    "# 1行目を-2倍して2行目に加える\n",
    "A[1, :] += A[0, :] * (-2)\n",
    "A"
   ]
  },
  {
   "cell_type": "code",
   "execution_count": 13,
   "id": "413752d2-9539-448c-9c18-79046289f1dd",
   "metadata": {},
   "outputs": [
    {
     "data": {
      "text/plain": [
       "array([[0, 2],\n",
       "       [1, 0],\n",
       "       [5, 6]])"
      ]
     },
     "execution_count": 13,
     "metadata": {},
     "output_type": "execute_result"
    }
   ],
   "source": [
    "# 2行目を-1倍して1行目に加える\n",
    "A[0, :] += A[1, :] * (-1)\n",
    "A"
   ]
  },
  {
   "cell_type": "code",
   "execution_count": 14,
   "id": "9534e77b-05a7-4cb2-8fc0-c0e9f7da62b6",
   "metadata": {},
   "outputs": [
    {
     "data": {
      "text/plain": [
       "array([[0, 2],\n",
       "       [1, 0],\n",
       "       [5, 0]])"
      ]
     },
     "execution_count": 14,
     "metadata": {},
     "output_type": "execute_result"
    }
   ],
   "source": [
    "# 1行目を-3倍して3行目に加える\n",
    "A[2, :] += A[0, :] * (-3)\n",
    "A"
   ]
  },
  {
   "cell_type": "code",
   "execution_count": 14,
   "id": "3b774cb2-655a-4976-8fc6-6e5de45f6b4c",
   "metadata": {},
   "outputs": [
    {
     "data": {
      "text/plain": [
       "array([[0, 2],\n",
       "       [1, 0],\n",
       "       [5, 0]])"
      ]
     },
     "execution_count": 14,
     "metadata": {},
     "output_type": "execute_result"
    }
   ],
   "source": [
    "# 1行目を-3倍して3行目に加える\n",
    "A[2, :] += A[0, :] * (-3)\n",
    "A"
   ]
  },
  {
   "cell_type": "code",
   "execution_count": 15,
   "id": "5c3c964d-ff36-4bf8-a7a9-1c3ad680d7d6",
   "metadata": {},
   "outputs": [
    {
     "data": {
      "text/plain": [
       "array([[0, 2],\n",
       "       [1, 0],\n",
       "       [0, 0]])"
      ]
     },
     "execution_count": 15,
     "metadata": {},
     "output_type": "execute_result"
    }
   ],
   "source": [
    "# 2行目を-5倍して3行目に加える\n",
    "A[2, :] += A[1, :] * (-5)\n",
    "A"
   ]
  },
  {
   "cell_type": "code",
   "execution_count": 19,
   "id": "387bb8a9-c1d1-4928-801b-44265b4f0e92",
   "metadata": {},
   "outputs": [
    {
     "data": {
      "text/plain": [
       "array([[0, 1],\n",
       "       [1, 0],\n",
       "       [0, 0]])"
      ]
     },
     "execution_count": 19,
     "metadata": {},
     "output_type": "execute_result"
    }
   ],
   "source": [
    "# 1行目を(1/2)倍する\n",
    "A[0, :] = (1 / 2) * A[0, :]\n",
    "A"
   ]
  },
  {
   "cell_type": "code",
   "execution_count": 20,
   "id": "cf835496-3fad-490a-9a47-0d2d04168461",
   "metadata": {},
   "outputs": [
    {
     "data": {
      "text/plain": [
       "array([[1, 0],\n",
       "       [0, 1],\n",
       "       [0, 0]])"
      ]
     },
     "execution_count": 20,
     "metadata": {},
     "output_type": "execute_result"
    }
   ],
   "source": [
    "# 1行目と2行目を入れ替える\n",
    "a1 = A[0, :].copy()\n",
    "a2 = A[1, :].copy()\n",
    "A[0, :] = a2\n",
    "A[1, :] = a1\n",
    "A"
   ]
  },
  {
   "cell_type": "markdown",
   "id": "4adb34ed-a2c0-4777-b24e-af6190cd04a7",
   "metadata": {},
   "source": [
    "> 2. $\\left(\\begin{array}{lll}0 & 1 & 0 \\\\ 1 & 0 & 1 \\\\ 0 & 1 & 0\\end{array}\\right)$\n"
   ]
  },
  {
   "cell_type": "code",
   "execution_count": 27,
   "id": "b0ea7838-26f0-4ce9-8dc8-3e78fe449b7b",
   "metadata": {},
   "outputs": [],
   "source": [
    "import numpy as np\n",
    "A = np.array([\n",
    "    [0, 1, 0],\n",
    "    [1, 0, 1],\n",
    "    [0, 1, 0],\n",
    "])"
   ]
  },
  {
   "cell_type": "code",
   "execution_count": 23,
   "id": "d11593ec-c748-4131-b945-7f788d1180af",
   "metadata": {},
   "outputs": [
    {
     "data": {
      "text/plain": [
       "array([[0, 1, 0],\n",
       "       [1, 0, 1],\n",
       "       [0, 0, 0]])"
      ]
     },
     "execution_count": 23,
     "metadata": {},
     "output_type": "execute_result"
    }
   ],
   "source": [
    "# 1行目を-1倍して3行目に加える\n",
    "A[2, :] += (-1) * A[0, :]\n",
    "A"
   ]
  },
  {
   "cell_type": "code",
   "execution_count": 24,
   "id": "03de1c5a-8b1e-41bf-a294-2c5bdd2be972",
   "metadata": {},
   "outputs": [
    {
     "data": {
      "text/plain": [
       "array([[0, 1, 0],\n",
       "       [1, 0, 0],\n",
       "       [0, 0, 0]])"
      ]
     },
     "execution_count": 24,
     "metadata": {},
     "output_type": "execute_result"
    }
   ],
   "source": [
    "# 0列目を-1倍して3列目に加える\n",
    "A[:, 2] += (-1) * A[:, 0]\n",
    "A"
   ]
  },
  {
   "cell_type": "code",
   "execution_count": 25,
   "id": "5088d0df-622b-442e-9977-09dbdc5c7073",
   "metadata": {},
   "outputs": [
    {
     "data": {
      "text/plain": [
       "array([[1, 0, 0],\n",
       "       [0, 1, 0],\n",
       "       [0, 0, 0]])"
      ]
     },
     "execution_count": 25,
     "metadata": {},
     "output_type": "execute_result"
    }
   ],
   "source": [
    "# 1行目と2行目を入れ替える\n",
    "a1 = A[0, :].copy()\n",
    "a2 = A[1, :].copy()\n",
    "A[0, :] = a2\n",
    "A[1, :] = a1\n",
    "A"
   ]
  },
  {
   "cell_type": "markdown",
   "id": "26419a08-c155-43dd-8a54-904ff797cdb2",
   "metadata": {},
   "source": [
    "> 3. $\\left(\\begin{array}{lll}a & 1 & 1 \\\\ 1 & a & 1 \\\\ 1 & 1 & a\\end{array}\\right)$\n"
   ]
  },
  {
   "cell_type": "code",
   "execution_count": 87,
   "id": "fe664f78-614d-409b-8cb3-cb88780a4d1d",
   "metadata": {},
   "outputs": [],
   "source": [
    "#TODO: "
   ]
  },
  {
   "cell_type": "code",
   "execution_count": 85,
   "id": "d84dc152-2aec-4310-9f42-69364916c79c",
   "metadata": {},
   "outputs": [
    {
     "data": {
      "text/latex": [
       "$\\displaystyle \\left[\\begin{matrix}a & 1 & 1\\\\1 & a & 1\\\\1 & 1 & a\\end{matrix}\\right]$"
      ],
      "text/plain": [
       "Matrix([\n",
       "[a, 1, 1],\n",
       "[1, a, 1],\n",
       "[1, 1, a]])"
      ]
     },
     "execution_count": 85,
     "metadata": {},
     "output_type": "execute_result"
    }
   ],
   "source": [
    "from sympy import Symbol, Matrix\n",
    "\n",
    "a = Symbol(\"a\")\n",
    "A = Matrix([\n",
    "    [a, 1, 1],\n",
    "    [1, a, 1],\n",
    "    [1, 1, a],\n",
    "])\n",
    "A"
   ]
  },
  {
   "cell_type": "code",
   "execution_count": 86,
   "id": "190ec9d1-0644-4c25-9e5d-3068307dfc65",
   "metadata": {},
   "outputs": [
    {
     "data": {
      "text/latex": [
       "$\\displaystyle \\left[\\begin{matrix}a - 1 & 1 - a & 0\\\\a & 1 & 1\\\\1 & 1 & a\\end{matrix}\\right]$"
      ],
      "text/plain": [
       "Matrix([\n",
       "[a - 1, 1 - a, 0],\n",
       "[    a,     1, 1],\n",
       "[    1,     1, a]])"
      ]
     },
     "execution_count": 86,
     "metadata": {},
     "output_type": "execute_result"
    }
   ],
   "source": [
    "A[0, :] += -1 * A[1, :]\n",
    "A[1, :] += 1 * A[0, :]\n",
    "A"
   ]
  },
  {
   "cell_type": "code",
   "execution_count": 82,
   "id": "664d3683-6b15-44b2-96f9-961a1395dc4f",
   "metadata": {},
   "outputs": [
    {
     "data": {
      "text/latex": [
       "$\\displaystyle \\left[\\begin{matrix}0 & 1 - a & 0\\\\a + 1 & 1 & 1\\\\2 & 1 & a\\end{matrix}\\right]$"
      ],
      "text/plain": [
       "Matrix([\n",
       "[    0, 1 - a, 0],\n",
       "[a + 1,     1, 1],\n",
       "[    2,     1, a]])"
      ]
     },
     "execution_count": 82,
     "metadata": {},
     "output_type": "execute_result"
    }
   ],
   "source": [
    "A[0, :] += -1 * A[1, :]\n",
    "A[1, :] += 1 * A[0, :]\n",
    "A[:, 0] += 1 * A[:, 1]\n",
    "A"
   ]
  },
  {
   "cell_type": "code",
   "execution_count": 48,
   "id": "ede81b4d-bd0b-43c0-8499-f621520995ad",
   "metadata": {},
   "outputs": [
    {
     "data": {
      "text/latex": [
       "$\\displaystyle \\left[\\begin{matrix}a - 1 & 1 - a & 0\\\\0 & a & 1\\\\1 - a & 1 & a\\end{matrix}\\right]$"
      ],
      "text/plain": [
       "Matrix([\n",
       "[a - 1, 1 - a, 0],\n",
       "[    0,     a, 1],\n",
       "[1 - a,     1, a]])"
      ]
     },
     "execution_count": 48,
     "metadata": {},
     "output_type": "execute_result"
    }
   ],
   "source": [
    "A[0, :] += -1 * A[1, :]\n",
    "A[:, 0] += -1 * A[:, 2]\n",
    "A"
   ]
  },
  {
   "cell_type": "markdown",
   "id": "cb7b65d6-00b2-4074-940b-015a21472593",
   "metadata": {},
   "source": []
  },
  {
   "cell_type": "code",
   "execution_count": 43,
   "id": "7c28ab01-7756-4b06-b644-532e93684f0c",
   "metadata": {},
   "outputs": [
    {
     "data": {
      "text/latex": [
       "$\\displaystyle \\left[\\begin{matrix}a & 1 & 1\\\\- a & a - 2 & - a\\\\1 & 1 & a\\end{matrix}\\right]$"
      ],
      "text/plain": [
       "Matrix([\n",
       "[ a,     1,  1],\n",
       "[-a, a - 2, -a],\n",
       "[ 1,     1,  a]])"
      ]
     },
     "execution_count": 43,
     "metadata": {},
     "output_type": "execute_result"
    }
   ],
   "source": [
    "A[1, :] += -1 * A[0, :]\n",
    "A[1, :] += -1 * A[2, :]\n",
    "A"
   ]
  },
  {
   "cell_type": "markdown",
   "id": "55113de9-4ff8-4095-8c31-65efefbe6131",
   "metadata": {},
   "source": [
    "## 4.2\n",
    "\n",
    "> 次の問に答えよ。\n",
    "> 1. 2次の正方行列に対する階数標準形をすべて書け"
   ]
  },
  {
   "cell_type": "markdown",
   "id": "4c64ccc4-1d4d-4f52-8c39-0cafd4dff298",
   "metadata": {},
   "source": [
    "$$\n",
    "\\begin{pmatrix}\n",
    "0 & 0 \\\\\n",
    "0 & 0 \\\\\n",
    "\\end{pmatrix}\n",
    "= O_2\n",
    ", \\hspace{1em}\n",
    "\\begin{pmatrix}\n",
    "1 & 0 \\\\\n",
    "0 & 0 \\\\\n",
    "\\end{pmatrix}\n",
    ", \\hspace{1em}\n",
    "\\begin{pmatrix}\n",
    "1 & 0 \\\\\n",
    "0 & 1 \\\\\n",
    "\\end{pmatrix}\n",
    "= E_2\n",
    "$$"
   ]
  },
  {
   "cell_type": "markdown",
   "id": "411dfccb-8695-487a-ae27-8b3b094346a0",
   "metadata": {},
   "source": [
    "> 2. 2次の正方行列に対する階段行列をすべて書け。なお、任意の数は*を用いて表せ。"
   ]
  },
  {
   "cell_type": "markdown",
   "id": "baac138f-93ad-48e0-a0d2-55c71995bf84",
   "metadata": {},
   "source": [
    "$$\n",
    "\\begin{pmatrix}\n",
    "0 & 0 \\\\\n",
    "0 & 0 \\\\\n",
    "\\end{pmatrix}\n",
    "= O_2\n",
    ", \\hspace{1em}\n",
    "\\begin{pmatrix}\n",
    "* & * \\\\\n",
    "0 & 0 \\\\\n",
    "\\end{pmatrix}\n",
    ", \\hspace{1em}\n",
    "\\begin{pmatrix}\n",
    "* & *\\\\\n",
    "0 & * \\\\\n",
    "\\end{pmatrix}\n",
    "= E_2\n",
    "$$"
   ]
  },
  {
   "cell_type": "markdown",
   "id": "a0509d6d-e4b2-4311-a0d8-d61f5ab4d62d",
   "metadata": {},
   "source": []
  }
 ],
 "metadata": {
  "kernelspec": {
   "display_name": "Python 3 (ipykernel)",
   "language": "python",
   "name": "python3"
  },
  "language_info": {
   "codemirror_mode": {
    "name": "ipython",
    "version": 3
   },
   "file_extension": ".py",
   "mimetype": "text/x-python",
   "name": "python",
   "nbconvert_exporter": "python",
   "pygments_lexer": "ipython3",
   "version": "3.9.18"
  }
 },
 "nbformat": 4,
 "nbformat_minor": 5
}
