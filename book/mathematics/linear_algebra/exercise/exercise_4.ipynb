{
 "cells": [
  {
   "cell_type": "markdown",
   "id": "125ea446-66e9-4963-b10c-ee925e68fd4b",
   "metadata": {},
   "source": [
    "# 練習問題 メモ 4"
   ]
  },
  {
   "cell_type": "markdown",
   "id": "af8dba04-c3f4-40be-87fe-c2b418c910dd",
   "metadata": {},
   "source": [
    "## 4.1\n",
    "\n",
    "> 次の１～３の行列の階数標準形および階数(rank)を求めよ\n",
    "> \n",
    "> 1. $\\left(\\begin{array}{ll}1 & 2 \\\\ 3 & 4 \\\\ 5 & 6\\end{array}\\right)$\n",
    "\n"
   ]
  },
  {
   "cell_type": "markdown",
   "id": "2e439bd9-6b44-4c1b-ab9b-d1e4ccd5a98b",
   "metadata": {},
   "source": [
    "列ベクトルを $\\boldsymbol{a}_1, \\boldsymbol{a}_2$とする。\n",
    "\n",
    "$$\n",
    "c_1 \\boldsymbol{a}_1\n",
    "+ c_2 \\boldsymbol{a}_2\n",
    "= \\boldsymbol{0}\n",
    "$$\n",
    "\n",
    "とおくと"
   ]
  },
  {
   "cell_type": "markdown",
   "id": "4adb34ed-a2c0-4777-b24e-af6190cd04a7",
   "metadata": {},
   "source": [
    "> 2. $\\left(\\begin{array}{lll}0 & 1 & 0 \\\\ 1 & 0 & 1 \\\\ 0 & 1 & 0\\end{array}\\right)$\n"
   ]
  },
  {
   "cell_type": "markdown",
   "id": "26419a08-c155-43dd-8a54-904ff797cdb2",
   "metadata": {},
   "source": [
    "> 3. $\\left(\\begin{array}{lll}a & 1 & 1 \\\\ 1 & a & 1 \\\\ 1 & 1 & a\\end{array}\\right)$\n"
   ]
  },
  {
   "cell_type": "code",
   "execution_count": null,
   "id": "2d107916-8414-4e5c-9b31-a7e417305356",
   "metadata": {},
   "outputs": [],
   "source": []
  }
 ],
 "metadata": {
  "kernelspec": {
   "display_name": "Python 3 (ipykernel)",
   "language": "python",
   "name": "python3"
  },
  "language_info": {
   "codemirror_mode": {
    "name": "ipython",
    "version": 3
   },
   "file_extension": ".py",
   "mimetype": "text/x-python",
   "name": "python",
   "nbconvert_exporter": "python",
   "pygments_lexer": "ipython3",
   "version": "3.9.18"
  }
 },
 "nbformat": 4,
 "nbformat_minor": 5
}
