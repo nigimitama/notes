{
 "cells": [
  {
   "cell_type": "markdown",
   "id": "9d0e5faf-dbd5-416a-aeba-68c9a00e3ebc",
   "metadata": {},
   "source": [
    "# 行列\n",
    "\n",
    "行列はベクトルを集めたもの\n",
    "\n",
    "$$\n",
    "A =\n",
    "\\begin{pmatrix}\n",
    "    a_{11} & a_{12}\\\\\n",
    "    a_{21} & a_{22}\n",
    "\\end{pmatrix}\n",
    "$$\n",
    "\n",
    "\n",
    "$$\n",
    "% 太字のalias\n",
    "\\newcommand{\\b}[1]{\\boldsymbol{#1}}\n",
    "$$"
   ]
  },
  {
   "cell_type": "code",
   "execution_count": 121,
   "id": "7921170e-6292-49e1-945b-f8684eddb004",
   "metadata": {},
   "outputs": [],
   "source": [
    "import numpy as np\n",
    "import matplotlib.pyplot as plt\n",
    "import matplotlib as mpl\n",
    "import japanize_matplotlib"
   ]
  },
  {
   "cell_type": "markdown",
   "id": "ba6d5651-5dd7-4c5c-8e44-211b5934d7d1",
   "metadata": {},
   "source": [
    "## 行列積\n",
    "\n",
    "$$\n",
    "A =\n",
    "\\begin{pmatrix}\n",
    "    a_{11} & a_{12}\\\\\n",
    "    a_{21} & a_{22}\n",
    "\\end{pmatrix}, \\\n",
    "B =\n",
    "\\begin{pmatrix}\n",
    "    b_{11} & b_{12}\\\\\n",
    "    b_{21} & b_{22}\n",
    "\\end{pmatrix}\n",
    "$$\n",
    "\n",
    "とすると、行列積（matrix multiplication）は\n",
    "\n",
    "$$\n",
    "A B = \n",
    "\\begin{pmatrix}\n",
    "    a_{11} & a_{12}\\\\\n",
    "    a_{21} & a_{22}\n",
    "\\end{pmatrix}\n",
    "\\begin{pmatrix}\n",
    "    b_{11} & b_{12}\\\\\n",
    "    b_{21} & b_{22}\n",
    "\\end{pmatrix}\n",
    "=\n",
    "\\begin{pmatrix}\n",
    "    a_{11} b_{11} + a_{12} b_{21} & a_{11} b_{12} + a_{12} b_{22} \\\\\n",
    "    a_{21} b_{11} + a_{22} b_{21} & a_{21} b_{12} + a_{22} b_{22}\n",
    "\\end{pmatrix}\n",
    "$$"
   ]
  },
  {
   "cell_type": "markdown",
   "id": "158b8c48-65cc-4812-a10c-d7f7e1799706",
   "metadata": {},
   "source": [
    "### ベクトルの直積との関係\n",
    "\n",
    "2つのベクトル$\\boldsymbol{a}, \\boldsymbol{b}$のテンソル積\n",
    "\n",
    "$$\n",
    "\\boldsymbol{a} \\circ \\boldsymbol{b}\n",
    "= \\boldsymbol{a} \\otimes \\boldsymbol{b}\n",
    "= \\boldsymbol{a} \\boldsymbol{b}^T\n",
    "= \\begin{pmatrix}\n",
    "a_1 \\\\ a_2 \\\\ \\vdots \\\\ a_n\n",
    "\\end{pmatrix}\n",
    "\\begin{pmatrix}\n",
    "b_1 & b_2 & \\cdots & b_n\n",
    "\\end{pmatrix}\n",
    "= \\begin{pmatrix}\n",
    "    a_1 b_1 & a_1 b_2 & \\cdots & a_1 b_n\\\\\n",
    "    a_2 b_1 & a_2 b_2 & \\cdots & a_2 b_n\\\\\n",
    "    \\vdots  & \\vdots  & \\ddots & \\vdots \\\\\n",
    "    a_n b_1 & a_n b_2 & \\cdots & a_n b_n\n",
    "\\end{pmatrix}\n",
    "$$\n",
    "\n",
    "を**直積**（direct product）あるいは**外積**（outer product）という。"
   ]
  },
  {
   "cell_type": "markdown",
   "id": "e3372983-e625-4aca-849d-cead3a7b0664",
   "metadata": {
    "jp-MarkdownHeadingCollapsed": true,
    "tags": []
   },
   "source": [
    ":::{card} 行列積と直積の関係\n",
    "\n",
    "行列$A, B$の$i$番目の列ベクトルを$\\boldsymbol{a}_i, \\boldsymbol{b}_i$とし、行ベクトルを$\\boldsymbol{a}_i^T, \\boldsymbol{b}_i^T$とする。このとき、\n",
    "\n",
    "$$\n",
    "A^T B = \\sum^n_{i=1} \\boldsymbol{a}_i \\boldsymbol{b}_i^T\n",
    "$$\n",
    "\n",
    "が成り立つ。この形式は計量経済学（回帰分析）の漸近正規性の証明などで多用される。\n",
    ":::\n",
    "\n",
    "（例）$A, B \\in \\mathbb{R}^{2\\times 2}$のとき、\n",
    "\n",
    "$$\n",
    "\\begin{align}\n",
    "A^T B &= \n",
    "\\begin{pmatrix}\n",
    "    a_{11} & a_{21}\\\\\n",
    "    a_{12} & a_{22}\n",
    "\\end{pmatrix}\n",
    "\\begin{pmatrix}\n",
    "    b_{11} & b_{12}\\\\\n",
    "    b_{21} & b_{22}\n",
    "\\end{pmatrix}\n",
    "\\\\\n",
    "&= \n",
    "\\begin{pmatrix}\n",
    "   a_{11} b_{11} + a_{21} b_{21} & a_{11} b_{12} + a_{21} b_{22}\\\\\n",
    "   a_{12} b_{11} + a_{22} b_{21} & a_{12} b_{12} + a_{22} b_{22}\\\\\n",
    "\\end{pmatrix}\n",
    "\\end{align}\n",
    "$$\n",
    "\n",
    "であり、\n",
    "\n",
    "$$\n",
    "a_1\n",
    "= \\begin{pmatrix}\n",
    "    a_{11} \\\\\n",
    "    a_{12} \n",
    "\\end{pmatrix}\n",
    ", \\hspace{1em}\n",
    "b_1^T = \n",
    "\\begin{pmatrix}\n",
    "    b_{11} & b_{12}\\\\\n",
    "\\end{pmatrix}\n",
    "$$\n",
    "\n",
    "から\n",
    "\n",
    "$$\n",
    "\\begin{align}\n",
    "\\sum^2_{i=1} \\boldsymbol{a}_i \\boldsymbol{b}_i^T\n",
    "&= \\begin{pmatrix}\n",
    "    a_{11} \\\\\n",
    "    a_{12}\n",
    "\\end{pmatrix}\n",
    "\\begin{pmatrix}\n",
    "    b_{11} & b_{12}\n",
    "\\end{pmatrix}\n",
    "+ \\begin{pmatrix}\n",
    "    a_{21} \\\\\n",
    "    a_{22}\n",
    "\\end{pmatrix}\n",
    "\\begin{pmatrix}\n",
    "    b_{21} & b_{22}\n",
    "\\end{pmatrix}\n",
    "\\\\\n",
    "&= \\begin{pmatrix}\n",
    "    a_{11} b_{11} & a_{11} b_{12}\\\\\n",
    "    a_{12} b_{11} & a_{12} b_{12}\n",
    "\\end{pmatrix}\n",
    "+ \\begin{pmatrix}\n",
    "    a_{21} b_{21} & a_{21} b_{22}\\\\\n",
    "    a_{22} b_{21} & a_{22} b_{22}\n",
    "\\end{pmatrix}\n",
    "\\end{align}\n",
    "$$\n",
    "\n",
    "であるため。"
   ]
  },
  {
   "cell_type": "markdown",
   "id": "94deffea-e559-4f7a-b15e-e10758c4337d",
   "metadata": {
    "jp-MarkdownHeadingCollapsed": true,
    "tags": []
   },
   "source": [
    ":::{card} 行列積との関係\n",
    "\n",
    "行列の一部をベクトルで表して（＝ブロック行列）、通常の行列積の定義をベクトルの積の形で表すこともできる\n",
    "\n",
    "$n$次元正方行列$A, B$の$i$番目の列ベクトルを$\\boldsymbol{a}_i, \\boldsymbol{b}_i$とし、行ベクトルを$\\boldsymbol{a}_i^T, \\boldsymbol{b}_i^T$とする。このとき、\n",
    "\n",
    "$$\n",
    "\\begin{align}\n",
    "BA &= \n",
    "\\begin{pmatrix}\n",
    "    \\boldsymbol{b}_{1}^T \\\\\n",
    "    \\boldsymbol{b}_{2}^T \\\\\n",
    "    \\vdots \\\\\n",
    "    \\boldsymbol{b}_{n}^T\n",
    "\\end{pmatrix}\n",
    "\\begin{pmatrix}\n",
    "    \\boldsymbol{a}_1, \\boldsymbol{a}_2, \\cdots, \\boldsymbol{a}_n\n",
    "\\end{pmatrix}\n",
    "=\n",
    "\\begin{pmatrix}\n",
    "    \\boldsymbol{b}_{1}^T \\boldsymbol{a}_1 & \\boldsymbol{b}_{1}^T \\boldsymbol{a}_2 & \\cdots & \\boldsymbol{b}_{1}^T \\boldsymbol{a}_n\\\\\n",
    "    \\boldsymbol{b}_{2}^T \\boldsymbol{a}_1 & \\boldsymbol{b}_{2}^T \\boldsymbol{a}_2 & \\cdots & \\boldsymbol{b}_{2}^T \\boldsymbol{a}_n\\\\\n",
    "    \\vdots & \\vdots & & \\vdots\\\\\n",
    "    \\boldsymbol{b}_{n}^T \\boldsymbol{a}_1 & \\boldsymbol{b}_{n}^T \\boldsymbol{a}_2 & \\cdots & \\boldsymbol{b}_{n}^T \\boldsymbol{a}_n\\\\\n",
    "\\end{pmatrix}\n",
    "\\end{align}\n",
    "$$\n",
    ":::"
   ]
  },
  {
   "cell_type": "markdown",
   "id": "3ff3f2ff-ca41-4dcb-8dad-61f035881f13",
   "metadata": {},
   "source": [
    "## 行列と写像\n",
    "\n",
    "> 行列は写像である\n",
    ">\n",
    "> （平岡和幸, & 堀玄. (2004). プログラミングのための線形代数. 株式会社 オーム社.）\n",
    "\n",
    "例：ベクトル$x$に行列$A$を掛けて$y$とする\n",
    "\n",
    "$$\n",
    "y = A x\n",
    "$$\n",
    "\n",
    "$x$を$y$に写す写像（≒関数）が行列$A$\n"
   ]
  },
  {
   "cell_type": "markdown",
   "id": "1bde5496-a357-4619-9aac-13dcbbf43ab6",
   "metadata": {},
   "source": [
    "## 基底"
   ]
  },
  {
   "cell_type": "markdown",
   "id": "f0ed724c-efc5-4215-8a3e-63265ff7c51b",
   "metadata": {},
   "source": [
    "## 座標変換"
   ]
  },
  {
   "cell_type": "markdown",
   "id": "5bbc57df-10a1-4790-ad8b-765b97553911",
   "metadata": {},
   "source": [
    "## 直交行列と回転行列"
   ]
  },
  {
   "cell_type": "markdown",
   "id": "c8d17774-9e5d-4e99-98ee-bc3c6f44d27a",
   "metadata": {},
   "source": [
    "## 行列式\n",
    "\n",
    "正方行列$A$に対して、その**行列式**（determinant）を$|A|$や$\\det(A)$と表す。行列式はスカラーである。\n",
    "\n",
    "2次の正方行列に対して、行列式は次のように求めることができる。\n",
    "\n",
    "$$\n",
    "A = \n",
    "\\begin{pmatrix}\n",
    "a & b\\\\\n",
    "a' & b'\n",
    "\\end{pmatrix}\n",
    "= (\\b{a}, \\b{b})\n",
    "\\\\\n",
    "\\Rightarrow\n",
    "|A|\n",
    "= |\\b{a}, \\b{b}|\n",
    "= ab' - a'b\n",
    "$$\n"
   ]
  },
  {
   "cell_type": "code",
   "execution_count": 1,
   "id": "af1a9f21-14f9-430b-80db-1fe7b8e7f11b",
   "metadata": {},
   "outputs": [
    {
     "data": {
      "text/plain": [
       "-2"
      ]
     },
     "execution_count": 1,
     "metadata": {},
     "output_type": "execute_result"
    }
   ],
   "source": [
    "import numpy as np\n",
    "\n",
    "A = np.array([\n",
    "    [1, 2],\n",
    "    [3, 4],\n",
    "])\n",
    "\n",
    "det = 1 * 4 - 2 * 3\n",
    "det"
   ]
  },
  {
   "cell_type": "code",
   "execution_count": 2,
   "id": "c35ed250-423f-4a84-86ae-a7a38c75aaae",
   "metadata": {},
   "outputs": [
    {
     "data": {
      "text/plain": [
       "-2.0000000000000004"
      ]
     },
     "execution_count": 2,
     "metadata": {},
     "output_type": "execute_result"
    }
   ],
   "source": [
    "np.linalg.det(A)"
   ]
  },
  {
   "cell_type": "markdown",
   "id": "4b27d316-d74a-4bc2-9946-a1be421f6b52",
   "metadata": {},
   "source": [
    "きちんとした定義は次のようになる\n",
    "\n",
    ":::{admonition} （定義）行列式\n",
    "\n",
    "次の4つの条件を満たす$A$の列ベクトルの関数$\\det(\\b{a}_1, \\b{a}_2, \\cdots, \\b{a}_d)$を$A$の行列式と呼ぶ。\n",
    "\n",
    "(1) 各列ベクトルについて線形である\n",
    "\n",
    "(2) 2つの列ベクトルが同じならゼロになる\n",
    "\n",
    "(2') 2つの列ベクトルを入れ替えると符号が変わる\n",
    "\n",
    "(3) $\\det(I) = \\det(\\b{e}_1, \\cdots, \\b{e}_d) = 1$ （$\\b{e}_1, \\cdots, \\b{e}_d$は基本ベクトル）\n"
   ]
  },
  {
   "cell_type": "markdown",
   "id": "c5173f25-8490-4010-8974-b709de1bdd03",
   "metadata": {},
   "source": [
    "### 行列式の幾何的な解釈＝体積拡大率\n",
    "\n",
    "2つのベクトルが四角形を表すとみなす。この四角形を変形させる行列$A$があったとき、変換後の四角形の面積はもとの面積の$\\text{det}(A)$倍である、と解釈できる（行列式の値が正の値のとき。負の場合は軸が反転して裏返しになる。$\\text{det}(A)=0$ならぺちゃんこに潰れている状態）\n",
    "\n",
    "例えば$I \\in \\mathbb{R}^{2\\times 2}$が構成する四角形に$A$を乗じて$AI=A$とするときの拡大率ともいえるし、$A$の面積とも言える"
   ]
  },
  {
   "cell_type": "code",
   "execution_count": 3,
   "id": "96922128-159c-457e-bb7c-4e5bf795b527",
   "metadata": {
    "tags": [
     "hide-input"
    ]
   },
   "outputs": [
    {
     "ename": "NameError",
     "evalue": "name 'plt' is not defined",
     "output_type": "error",
     "traceback": [
      "\u001b[0;31m---------------------------------------------------------------------------\u001b[0m",
      "\u001b[0;31mNameError\u001b[0m                                 Traceback (most recent call last)",
      "Cell \u001b[0;32mIn[3], line 7\u001b[0m\n\u001b[1;32m      4\u001b[0m I \u001b[38;5;241m=\u001b[39m np\u001b[38;5;241m.\u001b[39marray([e0, e1])\n\u001b[1;32m      5\u001b[0m O \u001b[38;5;241m=\u001b[39m np\u001b[38;5;241m.\u001b[39marray([\u001b[38;5;241m0\u001b[39m, \u001b[38;5;241m0\u001b[39m])\n\u001b[0;32m----> 7\u001b[0m fig, ax \u001b[38;5;241m=\u001b[39m \u001b[43mplt\u001b[49m\u001b[38;5;241m.\u001b[39msubplots(figsize\u001b[38;5;241m=\u001b[39m[\u001b[38;5;241m4\u001b[39m, \u001b[38;5;241m4\u001b[39m])\n\u001b[1;32m      8\u001b[0m ax\u001b[38;5;241m.\u001b[39mgrid(\u001b[38;5;28;01mTrue\u001b[39;00m, alpha\u001b[38;5;241m=\u001b[39m\u001b[38;5;241m.5\u001b[39m)\n\u001b[1;32m      9\u001b[0m ax\u001b[38;5;241m.\u001b[39marrow(\u001b[38;5;241m*\u001b[39mO, \u001b[38;5;241m*\u001b[39me0, width\u001b[38;5;241m=\u001b[39m\u001b[38;5;241m0.01\u001b[39m, color\u001b[38;5;241m=\u001b[39m\u001b[38;5;124m\"\u001b[39m\u001b[38;5;124mblack\u001b[39m\u001b[38;5;124m\"\u001b[39m, length_includes_head\u001b[38;5;241m=\u001b[39m\u001b[38;5;28;01mTrue\u001b[39;00m)\n",
      "\u001b[0;31mNameError\u001b[0m: name 'plt' is not defined"
     ]
    }
   ],
   "source": [
    "e0 = [1, 0]\n",
    "e1 = [0, 1]\n",
    "\n",
    "I = np.array([e0, e1])\n",
    "O = np.array([0, 0])\n",
    "\n",
    "fig, ax = plt.subplots(figsize=[4, 4])\n",
    "ax.grid(True, alpha=.5)\n",
    "ax.arrow(*O, *e0, width=0.01, color=\"black\", length_includes_head=True)\n",
    "ax.arrow(*O, *e1, width=0.01, color=\"black\", length_includes_head=True)\n",
    "ax.fill_between(x=[0, 1], y1=0, y2=1, alpha=.5)\n",
    "\n",
    "ax.set(xlim=[-0.5, 1.5], ylim=[-0.5, 1.5], xticks=[0, 1], yticks=[0, 1])\n",
    "fig.show()"
   ]
  },
  {
   "cell_type": "markdown",
   "id": "7791e53e-08b5-44cb-b2bc-c167edc2e34c",
   "metadata": {},
   "source": [
    "適当な行列$A$で変換するとこうなる"
   ]
  },
  {
   "cell_type": "code",
   "execution_count": null,
   "id": "ffdb98c7-9c8a-484f-a552-594d9ea00f8b",
   "metadata": {
    "tags": [
     "hide-input"
    ]
   },
   "outputs": [],
   "source": [
    "A = np.array([\n",
    "    [1, 1],\n",
    "    [0, 1]\n",
    "])\n",
    "e0_ = A @ e0\n",
    "e1_ = A @ e1\n",
    "y_ = e0_ + e1_\n",
    "\n",
    "fig, ax = plt.subplots()\n",
    "ax.grid(True, alpha=.5)\n",
    "ax.arrow(0, 0, *e0_, width=0.01, color=\"black\", length_includes_head=True)\n",
    "ax.arrow(0, 0, *e1_, width=0.01, color=\"black\", length_includes_head=True)\n",
    "\n",
    "d = np.array([e0_, y_])\n",
    "ax.plot(d[:, 0], d[:, 1], color=\"black\", linestyle=\"--\")\n",
    "d = np.array([e1_, y_])\n",
    "ax.plot(d[:, 0], d[:, 1], color=\"black\", linestyle=\"--\")\n",
    "\n",
    "x = np.linspace(0, y_[0], 11)\n",
    "ax.fill_between(x=x, y1=[max(e - 1, 0) for e in x], y2=[min(e, 1) for e in x], alpha=.5)\n",
    "ax.set(xlim=[-0.25, 2.25], ylim=[-0.25, 1.25], xticks=[0, 1, 2], yticks=[0, 1])\n",
    "fig.show()"
   ]
  },
  {
   "cell_type": "markdown",
   "id": "ff08cdf3-2292-4b1f-af53-f1b7dfd4e39e",
   "metadata": {},
   "source": [
    "平行四辺形の面積は底辺×高さ。今回は底辺も高さも1なので、面積は変わっていない。\n",
    "\n",
    "この行列$A$の行列式は1になる"
   ]
  },
  {
   "cell_type": "code",
   "execution_count": null,
   "id": "08cf6e45-c261-4fa9-a92c-13b8c94d4bbd",
   "metadata": {},
   "outputs": [],
   "source": [
    "np.linalg.det(A)"
   ]
  },
  {
   "cell_type": "markdown",
   "id": "3c09f060-0e95-4796-beaa-81a4f62b6429",
   "metadata": {},
   "source": [
    "参考：[Chapter 6 行列式 | 線形代数のエッセンス - YouTube](https://www.youtube.com/watch?v=K8axNorb1CU)"
   ]
  },
  {
   "cell_type": "markdown",
   "id": "dcf9eacb-8352-4553-83a4-d1dbace317e3",
   "metadata": {},
   "source": [
    "#### （例）次のような行列の場合は…？\n",
    "\n",
    "$$\n",
    "A = \n",
    "\\begin{pmatrix}\n",
    "1 & 2\\\\\n",
    "1 & 3\n",
    "\\end{pmatrix}\n",
    ", \\hspace{2em}\n",
    "B = \n",
    "\\begin{pmatrix}\n",
    "1 & 102\\\\\n",
    "1 & 103\n",
    "\\end{pmatrix}\n",
    "\\\\\n",
    "\\text{det}(A) = 3 - 2 = 1\n",
    ", \\hspace{2em}\n",
    "\\text{det}(B) = 103 - 102 = 1\n",
    "$$\n"
   ]
  },
  {
   "cell_type": "code",
   "execution_count": null,
   "id": "3ff2950e-f7e8-4b36-8317-4b3d8e5a5a57",
   "metadata": {
    "tags": [
     "hide-input"
    ]
   },
   "outputs": [],
   "source": [
    "A = np.array([\n",
    "    [1, 2],\n",
    "    [1, 3]\n",
    "])\n",
    "B = np.array([\n",
    "    [1, 102],\n",
    "    [1, 103]\n",
    "])\n",
    "fig, axes = plt.subplots(ncols=2, figsize=[8, 4])\n",
    "\n",
    "for X, ax in zip([A, B], axes):\n",
    "    x0_ = X[0]\n",
    "    x1_ = X[1]\n",
    "    y_ = x0_ + x1_\n",
    "    ax.grid(True, alpha=.5)\n",
    "    ax.arrow(0, 0, *x0_, width=0.01, color=\"black\", length_includes_head=True)\n",
    "    ax.arrow(0, 0, *x1_, width=0.01, color=\"black\", length_includes_head=True)\n",
    "\n",
    "    d = np.array([x0_, y_])\n",
    "    ax.plot(d[:, 0], d[:, 1], color=\"black\", linestyle=\"--\")\n",
    "    d = np.array([x1_, y_])\n",
    "    ax.plot(d[:, 0], d[:, 1], color=\"black\", linestyle=\"--\")\n",
    "\n",
    "    x = np.linspace(0, y_[0], 11)\n",
    "    ax.set(title=f\"det = {np.linalg.det(X)}\")\n",
    "fig.show()"
   ]
  },
  {
   "cell_type": "markdown",
   "id": "d89eeb58-0226-49ae-bd33-bf978a797f75",
   "metadata": {},
   "source": [
    "### 多重線形性\n",
    "\n",
    "行列$A=(a_1, \\cdots, a_n)$について\n",
    "\n",
    "$$\n",
    "\\def\\b#1{\\boldsymbol{#1}}\n",
    "\\DeclareMathOperator{\\det}{\\text{det}}\n",
    "\\begin{align}\n",
    "\\det(c \\b{a}_1, \\b{a}_2, \\cdots, \\b{a}_n) &= c \\det(\\b{a}_1, \\b{a}_2, \\cdots, \\b{a}_n)\\\\\n",
    "\\det(\\b{a}_1 + \\b{a}_1', \\b{a}_2, \\cdots, \\b{a}_n) &= \\det(\\b{a}_1, \\b{a}_2, \\cdots, \\b{a}_n) + \\det(\\b{a}_1', \\b{a}_2, \\cdots, \\b{a}_n)\\\\\n",
    "\\det(c\\b{A}) = c^n \\det(\\b{A})\n",
    "\\end{align}\n",
    "$$\n",
    "\n",
    "のように任意の列への線形和が全体への線形和と等しいような法則性があること"
   ]
  },
  {
   "cell_type": "code",
   "execution_count": null,
   "id": "8cd5c4ce-79bc-4f15-82c9-0bb5af596d07",
   "metadata": {},
   "outputs": [],
   "source": [
    "A = np.array([\n",
    "    [1, 2],\n",
    "    [1, 3]\n",
    "])\n",
    "print(f\"det(A) = {np.linalg.det(A)}\")\n",
    "\n",
    "c = 5\n",
    "print(f\"det(cA) = {np.linalg.det(c * A):.1f}\")\n",
    "print(f\"det(cA) - c^n det(A) = {np.linalg.det(c * A) - c**A.shape[0] * np.linalg.det(A):.1f}\")"
   ]
  },
  {
   "cell_type": "code",
   "execution_count": null,
   "id": "a4ff2f19-677c-40c5-b0bd-45434087fcc6",
   "metadata": {},
   "outputs": [],
   "source": [
    "A[:, 0] *= c\n",
    "A"
   ]
  },
  {
   "cell_type": "code",
   "execution_count": null,
   "id": "cc553fb9-27f8-4e7b-bb69-4aeb36ee0ab2",
   "metadata": {},
   "outputs": [],
   "source": [
    "np.linalg.det(A)"
   ]
  },
  {
   "cell_type": "markdown",
   "id": "2a8e1f26-8d7b-4010-bccc-7fcb92c679d4",
   "metadata": {},
   "source": [
    "## 逆行列\n",
    "\n",
    "正方行列$A$に対し、\n",
    "\n",
    "$$\n",
    "AA^{-1} = A^{-1} A = I\n",
    "$$\n",
    "\n",
    "が成立する正方行列$A^{-1}$が存在するとき、$A^{-1}$を$A$の**逆行列**という。（$I$は$A$と同じサイズの単位行列）\n",
    "\n",
    "逆行列が存在する行列のことを**正則行列（regular matrix）**や**可逆行列（invertible matrix）**という。\n",
    "\n",
    "正則でない行列は**特異行列（singular matrix）**という"
   ]
  },
  {
   "cell_type": "markdown",
   "id": "3b763e6c-7d1c-4c9b-82aa-7605750bd1fe",
   "metadata": {},
   "source": [
    "### 逆行列の効率的な計算\n",
    "\n",
    "#### 行列分解で計算する方法\n",
    "\n",
    "- https://speakerdeck.com/nagiss/hiyurisuteitukukontesutodeji-jie-xue-xi-siyou?slide=26\n",
    "\n",
    "#### 共役勾配法\n",
    "\n",
    "**共役勾配（conjugate gradient: CG）法**は逆行列の計算を二次最適化に落とし込む方法としても使われる\n"
   ]
  },
  {
   "cell_type": "markdown",
   "id": "0dab0672-a5c3-48fd-aabc-7f28d3c92727",
   "metadata": {},
   "source": [
    "## 行列の計算規則"
   ]
  },
  {
   "cell_type": "markdown",
   "id": "f241ba14-cfc8-42e8-b351-8eb194b4e1d8",
   "metadata": {},
   "source": [
    "$$\n",
    "A(B+C) = AB + AC\n",
    "$$"
   ]
  },
  {
   "cell_type": "code",
   "execution_count": null,
   "id": "97db5898-3a61-4a12-b91a-41a94b727556",
   "metadata": {},
   "outputs": [],
   "source": [
    "import numpy as np\n",
    "A = np.array([\n",
    "    [1, 0],\n",
    "    [0, 0]\n",
    "])\n",
    "B = np.array([\n",
    "    [2, 0],\n",
    "    [0, 3]\n",
    "])\n",
    "C = np.array([\n",
    "    [0, -1],\n",
    "    [-1, 0]\n",
    "])"
   ]
  },
  {
   "cell_type": "code",
   "execution_count": null,
   "id": "f9904305-ca35-4a45-a214-40d19476fd7c",
   "metadata": {},
   "outputs": [],
   "source": [
    "A @ (B + C)"
   ]
  },
  {
   "cell_type": "code",
   "execution_count": null,
   "id": "a295efa4-1b26-40ef-a27a-01c5029633e6",
   "metadata": {},
   "outputs": [],
   "source": [
    "A @ B + A @ C"
   ]
  },
  {
   "cell_type": "markdown",
   "id": "1bfb3c85-5ccf-4fa0-a6c4-7525aa6c9aad",
   "metadata": {},
   "source": [
    "### べき乗\n",
    "\n",
    "$$\n",
    "\\begin{align}\n",
    "AA &= A^2\\\\\n",
    "AAA &= A^3\n",
    "\\end{align}\n",
    "$$\n",
    "\n",
    "$$\n",
    "\\begin{align}\n",
    "A^{n+m} &= A^n + A^m\\\\\n",
    "(A^n)^m &= A^{nm}\n",
    "\\end{align}\n",
    "$$\n"
   ]
  },
  {
   "cell_type": "markdown",
   "id": "ac34881b-5964-4c77-a29f-5425213253c7",
   "metadata": {},
   "source": [
    ":::{adomonition} 例\n",
    "\n",
    "$$\n",
    "A =\n",
    "\\begin{pmatrix}\n",
    "1 & 0\\\\\n",
    "0 & 0\n",
    "\\end{pmatrix}\n",
    "\\hspace{1em}\n",
    "A^2 = \n",
    "\\begin{pmatrix}\n",
    "1 & 0\\\\\n",
    "0 & 0\n",
    "\\end{pmatrix}\n",
    "\\begin{pmatrix}\n",
    "1 & 0\\\\\n",
    "0 & 0\n",
    "\\end{pmatrix}\n",
    "= \n",
    "\\begin{pmatrix}\n",
    "1 & 0\\\\\n",
    "0 & 0\n",
    "\\end{pmatrix}\n",
    "$$\n",
    "\n",
    "\n",
    "$$\n",
    "B =\n",
    "\\begin{pmatrix}\n",
    "2 & 0\\\\\n",
    "0 & 3\n",
    "\\end{pmatrix}\n",
    "\\hspace{1em}\n",
    "B^2 = \n",
    "\\begin{pmatrix}\n",
    "2 & 0\\\\\n",
    "0 & 3\n",
    "\\end{pmatrix}\n",
    "\\begin{pmatrix}\n",
    "2 & 0\\\\\n",
    "0 & 3\n",
    "\\end{pmatrix}\n",
    "= \n",
    "\\begin{pmatrix}\n",
    "4 & 0\\\\\n",
    "0 & 9\n",
    "\\end{pmatrix}\n",
    "$$\n",
    ":::"
   ]
  },
  {
   "cell_type": "markdown",
   "id": "51f8acf5-92c6-4e79-8c4e-96939a0280ab",
   "metadata": {},
   "source": [
    "#### 普通の数取は異なる計算規則\n",
    "\n",
    "$$\n",
    "\\begin{align}\n",
    "(A + B)^2 &= A^2 + AB + BA + B^2\\\\\n",
    "(A + B) (A - B) &= A^2 - AB + BA - B^2\\\\\n",
    "(AB)^2 &= ABAB\n",
    "\\end{align}\n",
    "$$\n"
   ]
  },
  {
   "cell_type": "markdown",
   "id": "8e0abc6c-93b8-4c57-8538-c6016e1e87cd",
   "metadata": {},
   "source": [
    ":::{adomonition} 例\n",
    "\n",
    "$$\n",
    "A =\n",
    "\\begin{pmatrix}\n",
    "1 & 0\\\\\n",
    "0 & 0\n",
    "\\end{pmatrix}\n",
    "\\hspace{1em}\n",
    "B =\n",
    "\\begin{pmatrix}\n",
    "2 & 0\\\\\n",
    "0 & 3\n",
    "\\end{pmatrix}\n",
    "$$\n",
    "\n",
    "$$\n",
    "\\begin{align}\n",
    "AB &=\n",
    "\\begin{pmatrix}\n",
    "1 & 0\\\\\n",
    "0 & 0\n",
    "\\end{pmatrix}\n",
    "\\begin{pmatrix}\n",
    "2 & 0\\\\\n",
    "0 & 3\n",
    "\\end{pmatrix}\n",
    "=\n",
    "\\begin{pmatrix}\n",
    "2 & 0\\\\\n",
    "0 & 0\n",
    "\\end{pmatrix}\n",
    "\\\\\n",
    "(AB)^2 &= \n",
    "\\begin{pmatrix}\n",
    "4 & 0\\\\\n",
    "0 & 0\n",
    "\\end{pmatrix}\n",
    "\\end{align}\n",
    "$$\n",
    ":::"
   ]
  },
  {
   "cell_type": "markdown",
   "id": "6cdac4dc-b066-43cb-a6d7-dca85cd62edd",
   "metadata": {},
   "source": [
    "### 逆行列\n",
    "\n",
    "$$\n",
    "(A^{-1})^{-1} = A\n",
    "$$\n"
   ]
  },
  {
   "cell_type": "markdown",
   "id": "14122640-a359-4704-a20e-77df28106bf5",
   "metadata": {},
   "source": [
    "$$\n",
    "(AB)^{-1} = B^{-1} A^{-1}\n",
    "$$"
   ]
  },
  {
   "cell_type": "markdown",
   "id": "ecc0cb22-f0d1-4440-89b3-4ff006f9d3e7",
   "metadata": {},
   "source": [
    "$$\n",
    "(A^k)^{-1} = (A^{-1})^k\n",
    "$$"
   ]
  },
  {
   "cell_type": "markdown",
   "id": "fe54738d-2b50-492c-9443-b4a74188d6b2",
   "metadata": {},
   "source": [
    "### 左右を入れ替えなければどこにカッコをつけてもおなじ\n",
    "\n",
    "例えばベクトル$\\boldsymbol{x} = (x_1, x_2, \\dots, x_n)$について、$\\boldsymbol{x} \\boldsymbol{x}^T \\boldsymbol{x}$は$(\\boldsymbol{x} \\boldsymbol{x}^T) \\boldsymbol{x}$と捉えるより$\\boldsymbol{x} (\\boldsymbol{x}^T \\boldsymbol{x})$としたほうが楽\n",
    "\n",
    "$$\n",
    "(\\boldsymbol{x} \\boldsymbol{x}^T) \\boldsymbol{x}\n",
    "= \n",
    "\\begin{pmatrix}\n",
    "x_1^2 & x_1 x_2 & \\cdots & x_1 x_n\\\\\n",
    "x_2 x_1 & x_2^2 & \\cdots & x_2 x_n\\\\\n",
    "\\vdots & \\vdots & & \\vdots\\\\\n",
    "x_n x_1 & x_n x_2 & \\cdots & x_n^2\n",
    "\\end{pmatrix}\n",
    "\\begin{pmatrix}\n",
    "x_1\\\\\n",
    "x_2\\\\\n",
    "\\vdots\\\\\n",
    "x_n\n",
    "\\end{pmatrix}\n",
    "= \n",
    "\\begin{pmatrix}\n",
    "x_1^2 \\cdot x_1 + x_1 x_2 \\cdot x_2 + \\cdots + x_1 x_n \\cdot x_n\\\\\n",
    "x_2 x_1 \\cdot x_1 + x_2^2 \\cdot x_2 + \\cdots + x_2 x_n \\cdot x_n\\\\\n",
    "\\vdots\\\\\n",
    "x_n x_1 \\cdot x_1 + x_n x_2 \\cdot x_2 + \\cdots + x_n^2 \\cdot x_n\n",
    "\\end{pmatrix}\n",
    "=\n",
    "\\begin{pmatrix}\n",
    "x_1\\\\\n",
    "x_2\\\\\n",
    "\\vdots\\\\\n",
    "x_n\n",
    "\\end{pmatrix}\n",
    "\\sum^n_{i=1} x_i^2\n",
    "$$\n",
    "\n",
    "$$\n",
    "\\boldsymbol{x} (\\boldsymbol{x}^T \\boldsymbol{x})\n",
    "= \n",
    "\\begin{pmatrix}\n",
    "x_1\\\\\n",
    "x_2\\\\\n",
    "\\vdots\\\\\n",
    "x_n\n",
    "\\end{pmatrix}\n",
    "\\sum^n_{i=1} x_i^2\n",
    "$$"
   ]
  }
 ],
 "metadata": {
  "kernelspec": {
   "display_name": "Python 3 (ipykernel)",
   "language": "python",
   "name": "python3"
  },
  "language_info": {
   "codemirror_mode": {
    "name": "ipython",
    "version": 3
   },
   "file_extension": ".py",
   "mimetype": "text/x-python",
   "name": "python",
   "nbconvert_exporter": "python",
   "pygments_lexer": "ipython3",
   "version": "3.9.18"
  }
 },
 "nbformat": 4,
 "nbformat_minor": 5
}
