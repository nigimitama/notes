{
 "cells": [
  {
   "cell_type": "markdown",
   "id": "9cf45c25-9813-481e-9991-5c01ba6f12c4",
   "metadata": {},
   "source": [
    "# ベクトルとベクトル空間\n",
    "\n",
    "$$\n",
    "% 太字のalias\n",
    "\\newcommand{\\b}[1]{\\boldsymbol{#1}}\n",
    "$$"
   ]
  },
  {
   "cell_type": "code",
   "execution_count": 121,
   "id": "926045f6-6e6a-4df0-ac09-01bd1284c430",
   "metadata": {},
   "outputs": [],
   "source": [
    "import numpy as np\n",
    "import matplotlib.pyplot as plt\n",
    "import matplotlib as mpl\n",
    "import japanize_matplotlib"
   ]
  },
  {
   "cell_type": "markdown",
   "id": "fba26b2f-ca5f-431e-911c-50557e34a1c6",
   "metadata": {},
   "source": [
    "## ベクトル\n",
    "\n",
    "数を並べた組をベクトルという。\n",
    "\n",
    "$$\n",
    "\\boldsymbol{a} = (a_1, a_2, a_3)\n",
    "$$"
   ]
  },
  {
   "cell_type": "markdown",
   "id": "a710307e-9b8c-46bf-a98d-c689a2940cff",
   "metadata": {},
   "source": [
    "## ベクトルの演算\n",
    "\n",
    "2つの$n$次元ベクトル\n",
    "\n",
    "$$\n",
    "\\b{a} =\n",
    "\\begin{pmatrix}\n",
    "    a_1\\\\\n",
    "    \\vdots\\\\\n",
    "    a_n\n",
    "\\end{pmatrix}\n",
    ", \\hspace{2em}\n",
    "\\b{b} =\n",
    "\\begin{pmatrix}\n",
    "    b_1\\\\\n",
    "    \\vdots\\\\\n",
    "    b_n\n",
    "\\end{pmatrix}\n",
    "$$\n",
    "\n",
    "とスカラー$c$があるとする。\n",
    "\n",
    "\n",
    "### 足し算\n",
    "\n",
    "ベクトル$\\b{a},\\b{b}$の足し算を次のように定義する\n",
    "\n",
    "$$\n",
    "\\b{a}+\\b{b} = \n",
    "\\begin{pmatrix}\n",
    "    a_1\\\\\n",
    "    \\vdots\\\\\n",
    "    a_n\n",
    "\\end{pmatrix}\n",
    "+\n",
    "\\begin{pmatrix}\n",
    "    b_1\\\\\n",
    "    \\vdots\\\\\n",
    "    b_n\n",
    "\\end{pmatrix}\n",
    "=\n",
    "\\begin{pmatrix}\n",
    "    a_1 + b_1\\\\\n",
    "    \\vdots\\\\\n",
    "    a_n + b_n\n",
    "\\end{pmatrix}\n",
    "$$"
   ]
  },
  {
   "cell_type": "markdown",
   "id": "6fcbbc17-16da-4ae1-b5f6-a765e238c32c",
   "metadata": {},
   "source": [
    "### スカラー倍\n",
    "\n",
    "ベクトル$\\b{a}$のスカラー$c$倍を次のように定義する\n",
    "\n",
    "$$\n",
    "c \\b{a} = \n",
    "\\begin{pmatrix}\n",
    "    c a_1\\\\\n",
    "    \\vdots\\\\\n",
    "    c a_n\n",
    "\\end{pmatrix}\n",
    "$$\n"
   ]
  },
  {
   "cell_type": "code",
   "execution_count": 169,
   "id": "f8af0788-f23b-4e8c-a091-cfd25ec39d83",
   "metadata": {
    "tags": [
     "hide-input"
    ]
   },
   "outputs": [
    {
     "data": {
      "image/png": "[encoded data removed]",
      "text/plain": [
       "<Figure size 600x250 with 2 Axes>"
      ]
     },
     "metadata": {},
     "output_type": "display_data"
    }
   ],
   "source": [
    "a = np.array([1, 1])\n",
    "b = np.array([1, 2])\n",
    "o = np.array([0, 0])\n",
    "c = 3\n",
    "\n",
    "fig, axes = plt.subplots(ncols=2, figsize=[6, 2.5])\n",
    "\n",
    "# 和\n",
    "ax = axes[0]\n",
    "cmap = mpl.colormaps['tab10']\n",
    "for i, (v, label) in enumerate([(a, \"a\"), (b, \"b\"), ((a+b), \"a+b\")]):\n",
    "    ax.arrow(*o, *v, width=0.02, color=cmap(i), length_includes_head=True, alpha=0.5)\n",
    "    ax.text(v[0], v[1], label, color=cmap(i))\n",
    "longest_v = (a+b)\n",
    "ax.set(xticks=range(longest_v[0]+1), yticks=range(longest_v[1]+1), title=r\"ベクトルの和 $a+b$\")\n",
    "ax.grid(True, alpha=0.3)\n",
    "\n",
    "# スカラー倍\n",
    "ax = axes[1]\n",
    "for i, (v, label) in enumerate([(a, \"a\"), (a * c, \"ca\")]):\n",
    "    ax.arrow(*o, *v, width=0.02, color=cmap(i), length_includes_head=True, alpha=0.5)\n",
    "    ax.text(v[0] - 0.1, v[1] + 0.1, label, color=cmap(i))\n",
    "longest_v = c * a\n",
    "ax.set(xticks=range(longest_v[0]+1), yticks=range(longest_v[1]+1), title=r\"スカラー倍 $c a$\")\n",
    "ax.grid(True, alpha=0.3)\n",
    "\n",
    "fig.show()"
   ]
  },
  {
   "cell_type": "markdown",
   "id": "692d8070-60df-4ee7-a749-6c5d22301397",
   "metadata": {
    "tags": []
   },
   "source": [
    "### 内積\n",
    "\n",
    "$k$次元のベクトル$\\boldsymbol{a} = (a_1, a_2, \\dots, a_k)^T, \\ \\boldsymbol{b} = (b_1, b_2, \\dots, b_k)^T$があるとき、\n",
    "\n",
    "$$\n",
    "\\sum^k_{i=1} a_i b_i\n",
    "$$\n",
    "\n",
    "という演算を内積（inner product）といい、$\\boldsymbol{a}^T \\boldsymbol{b}$と表す\n"
   ]
  },
  {
   "cell_type": "code",
   "execution_count": 134,
   "id": "df8c01c2-bf53-431b-9dad-f253ff907d89",
   "metadata": {},
   "outputs": [
    {
     "data": {
      "text/plain": [
       "6"
      ]
     },
     "execution_count": 134,
     "metadata": {},
     "output_type": "execute_result"
    }
   ],
   "source": [
    "a = np.array([1, 1, 1])\n",
    "b = np.array([2, 2, 2])\n",
    "a.T @ b"
   ]
  },
  {
   "cell_type": "markdown",
   "id": "55523a35-c93a-44c9-89f9-054ca29f13fd",
   "metadata": {},
   "source": [
    "### 内積と類似度\n",
    "\n",
    ":::{note} コサイン類似度\n",
    "2つのベクトル$\\boldsymbol{a} = (a_1, a_2, \\dots, a_k)^T$と$\\boldsymbol{b} = (b_1, b_2, \\dots, b_k)^T$について、\n",
    "\n",
    "$$\n",
    "\\cos(\\b{a}, \\b{b})\n",
    "= \\frac{ \\b{a}^T \\b{b} }{ ||\\b{a}|| \\ ||\\b{b}|| }\n",
    "= \\frac{ \\sum^k_{i=1} a_i b_i } { \\sqrt{ \\sum^k_{i=1} a_i^2 } \\sqrt{ \\sum^k_{i=1} b_i^2 } }\n",
    "$$\n",
    "\n",
    "をコサイン類似度という\n",
    ":::\n",
    "\n",
    "$$\n",
    "\\newcommand{\\b}[1]{\\boldsymbol{#1}}\n",
    "\\b{a}^T \\b{b} = ||\\b{a}|| \\ ||\\b{b}|| \\cos(\\b{a}, \\b{b}) \\\\\n",
    "\\implies \\cos(\\b{a}, \\b{b}) = \\frac{ \\b{a}^T \\b{b} }{ ||\\b{a}|| \\ ||\\b{b}|| }\n",
    "$$\n",
    "\n",
    "コサイン類似度はベクトルを矢印で表現したときに同じ方向を向いているほど1に近く、真逆の方向ほど-1に近くなる"
   ]
  },
  {
   "cell_type": "code",
   "execution_count": 157,
   "id": "d67b6793-15d4-4655-8d85-07b8bb558017",
   "metadata": {},
   "outputs": [
    {
     "data": {
      "text/plain": [
       "-0.9999999999999998"
      ]
     },
     "execution_count": 157,
     "metadata": {},
     "output_type": "execute_result"
    }
   ],
   "source": [
    "def cos(a, b):\n",
    "    return (a.T @ b) / (np.linalg.norm(a) * np.linalg.norm(b))\n",
    "\n",
    "cos(a, b)"
   ]
  },
  {
   "cell_type": "code",
   "execution_count": 156,
   "id": "d5c1392f-2dad-4efa-9772-02160dba9e37",
   "metadata": {
    "tags": [
     "hide-input"
    ]
   },
   "outputs": [
    {
     "data": {
      "image/png": "[encoded data removed]",
      "text/plain": [
       "<Figure size 900x250 with 3 Axes>"
      ]
     },
     "metadata": {},
     "output_type": "display_data"
    }
   ],
   "source": [
    "o = np.array([0, 0])\n",
    "buffer = 0.1\n",
    "lim = np.array([-1, 1]) * (1 + buffer)\n",
    "ticks = [-1, 0, 1]\n",
    "\n",
    "datasets = [\n",
    "    [np.array([1, 0]), np.array([0, 1])],\n",
    "    [np.array([1.1, 0.9]), np.array([0.9, 1.1])],\n",
    "    [np.array([1, 1]), np.array([-1, -1])],\n",
    "]\n",
    "m = len(datasets)\n",
    "fig, axes = plt.subplots(ncols=m, figsize=[m*3, 2.5])\n",
    "for i in range(m):\n",
    "    a, b = datasets[i]\n",
    "    axes[i].arrow(*o, *a, width=0.02, color=\"black\", length_includes_head=True, alpha=0.7)\n",
    "    axes[i].arrow(*o, *b, width=0.02, color=\"black\", length_includes_head=True, alpha=0.7)\n",
    "    axes[i].grid(True, alpha=0.3)\n",
    "    axes[i].set(title=f\"cos(a, b) = {cos(a, b):.2f}\", xticks=ticks, yticks=ticks, xlim=lim, ylim=lim)\n",
    "\n",
    "fig.show()"
   ]
  },
  {
   "cell_type": "markdown",
   "id": "9fd6d1ab-ae24-48e6-b732-ad20ac9a3c32",
   "metadata": {},
   "source": [
    "### 直積\n",
    "\n",
    "2つのベクトル$\\boldsymbol{a}, \\boldsymbol{b}$のテンソル積\n",
    "\n",
    "$$\n",
    "\\boldsymbol{a} \\circ \\boldsymbol{b}\n",
    "= \\boldsymbol{a} \\otimes \\boldsymbol{b}\n",
    "= \\boldsymbol{a} \\boldsymbol{b}^T\n",
    "= \\begin{pmatrix}\n",
    "a_1 \\\\ a_2 \\\\ \\vdots \\\\ a_n\n",
    "\\end{pmatrix}\n",
    "\\begin{pmatrix}\n",
    "b_1 & b_2 & \\cdots & b_n\n",
    "\\end{pmatrix}\n",
    "= \\begin{pmatrix}\n",
    "    a_1 b_1 & a_1 b_2 & \\cdots & a_1 b_n\\\\\n",
    "    a_2 b_1 & a_2 b_2 & \\cdots & a_2 b_n\\\\\n",
    "    \\vdots  & \\vdots  & \\ddots & \\vdots \\\\\n",
    "    a_n b_1 & a_n b_2 & \\cdots & a_n b_n\n",
    "\\end{pmatrix}\n",
    "$$\n",
    "\n",
    "を**直積**（direct product）あるいは**外積**（outer product）という。"
   ]
  },
  {
   "cell_type": "markdown",
   "id": "aa507510-6ab4-4965-8f42-c9ba6b66661c",
   "metadata": {
    "jp-MarkdownHeadingCollapsed": true,
    "tags": []
   },
   "source": [
    ":::{card} 行列積と直積の関係\n",
    "\n",
    "行列$A, B$の$i$番目の列ベクトルを$\\boldsymbol{a}_i, \\boldsymbol{b}_i$とし、行ベクトルを$\\boldsymbol{a}_i^T, \\boldsymbol{b}_i^T$とする。このとき、\n",
    "\n",
    "$$\n",
    "A^T B = \\sum^n_{i=1} \\boldsymbol{a}_i \\boldsymbol{b}_i^T\n",
    "$$\n",
    "\n",
    "が成り立つ。この形式は計量経済学（回帰分析）の漸近正規性の証明などで多用される。\n",
    ":::\n",
    "\n",
    "（例）$A, B \\in \\mathbb{R}^{2\\times 2}$のとき、\n",
    "\n",
    "$$\n",
    "\\begin{align}\n",
    "A^T B &= \n",
    "\\begin{pmatrix}\n",
    "    a_{11} & a_{21}\\\\\n",
    "    a_{12} & a_{22}\n",
    "\\end{pmatrix}\n",
    "\\begin{pmatrix}\n",
    "    b_{11} & b_{12}\\\\\n",
    "    b_{21} & b_{22}\n",
    "\\end{pmatrix}\n",
    "\\\\\n",
    "&= \n",
    "\\begin{pmatrix}\n",
    "   a_{11} b_{11} + a_{21} b_{21} & a_{11} b_{12} + a_{21} b_{22}\\\\\n",
    "   a_{12} b_{11} + a_{22} b_{21} & a_{12} b_{12} + a_{22} b_{22}\\\\\n",
    "\\end{pmatrix}\n",
    "\\end{align}\n",
    "$$\n",
    "\n",
    "であり、\n",
    "\n",
    "$$\n",
    "a_1\n",
    "= \\begin{pmatrix}\n",
    "    a_{11} \\\\\n",
    "    a_{12} \n",
    "\\end{pmatrix}\n",
    ", \\hspace{1em}\n",
    "b_1^T = \n",
    "\\begin{pmatrix}\n",
    "    b_{11} & b_{12}\\\\\n",
    "\\end{pmatrix}\n",
    "$$\n",
    "\n",
    "から\n",
    "\n",
    "$$\n",
    "\\begin{align}\n",
    "\\sum^2_{i=1} \\boldsymbol{a}_i \\boldsymbol{b}_i^T\n",
    "&= \\begin{pmatrix}\n",
    "    a_{11} \\\\\n",
    "    a_{12}\n",
    "\\end{pmatrix}\n",
    "\\begin{pmatrix}\n",
    "    b_{11} & b_{12}\n",
    "\\end{pmatrix}\n",
    "+ \\begin{pmatrix}\n",
    "    a_{21} \\\\\n",
    "    a_{22}\n",
    "\\end{pmatrix}\n",
    "\\begin{pmatrix}\n",
    "    b_{21} & b_{22}\n",
    "\\end{pmatrix}\n",
    "\\\\\n",
    "&= \\begin{pmatrix}\n",
    "    a_{11} b_{11} & a_{11} b_{12}\\\\\n",
    "    a_{12} b_{11} & a_{12} b_{12}\n",
    "\\end{pmatrix}\n",
    "+ \\begin{pmatrix}\n",
    "    a_{21} b_{21} & a_{21} b_{22}\\\\\n",
    "    a_{22} b_{21} & a_{22} b_{22}\n",
    "\\end{pmatrix}\n",
    "\\end{align}\n",
    "$$\n",
    "\n",
    "であるため。"
   ]
  },
  {
   "cell_type": "markdown",
   "id": "2f1c37d1-7452-4aa3-a733-2bbddbf03c03",
   "metadata": {
    "jp-MarkdownHeadingCollapsed": true,
    "tags": []
   },
   "source": [
    ":::{card} 行列積との関係\n",
    "\n",
    "行列の一部をベクトルで表して（＝ブロック行列）、通常の行列積の定義をベクトルの積の形で表すこともできる\n",
    "\n",
    "$n$次元正方行列$A, B$の$i$番目の列ベクトルを$\\boldsymbol{a}_i, \\boldsymbol{b}_i$とし、行ベクトルを$\\boldsymbol{a}_i^T, \\boldsymbol{b}_i^T$とする。このとき、\n",
    "\n",
    "$$\n",
    "\\begin{align}\n",
    "BA &= \n",
    "\\begin{pmatrix}\n",
    "    \\boldsymbol{b}_{1}^T \\\\\n",
    "    \\boldsymbol{b}_{2}^T \\\\\n",
    "    \\vdots \\\\\n",
    "    \\boldsymbol{b}_{n}^T\n",
    "\\end{pmatrix}\n",
    "\\begin{pmatrix}\n",
    "    \\boldsymbol{a}_1, \\boldsymbol{a}_2, \\cdots, \\boldsymbol{a}_n\n",
    "\\end{pmatrix}\n",
    "=\n",
    "\\begin{pmatrix}\n",
    "    \\boldsymbol{b}_{1}^T \\boldsymbol{a}_1 & \\boldsymbol{b}_{1}^T \\boldsymbol{a}_2 & \\cdots & \\boldsymbol{b}_{1}^T \\boldsymbol{a}_n\\\\\n",
    "    \\boldsymbol{b}_{2}^T \\boldsymbol{a}_1 & \\boldsymbol{b}_{2}^T \\boldsymbol{a}_2 & \\cdots & \\boldsymbol{b}_{2}^T \\boldsymbol{a}_n\\\\\n",
    "    \\vdots & \\vdots & & \\vdots\\\\\n",
    "    \\boldsymbol{b}_{n}^T \\boldsymbol{a}_1 & \\boldsymbol{b}_{n}^T \\boldsymbol{a}_2 & \\cdots & \\boldsymbol{b}_{n}^T \\boldsymbol{a}_n\\\\\n",
    "\\end{pmatrix}\n",
    "\\end{align}\n",
    "$$\n",
    ":::"
   ]
  },
  {
   "cell_type": "markdown",
   "id": "bceb55d7-7c30-448f-ba2a-1dc0ea6dc376",
   "metadata": {},
   "source": [
    "### クロス積\n",
    "\n",
    "2つのベクトル$\\boldsymbol{a}, \\boldsymbol{b}$について\n",
    "\n",
    "$$\n",
    "\\boldsymbol{a} \\times \\boldsymbol{b}\n",
    "= \\boldsymbol{a} \\otimes \\boldsymbol{b} - \\boldsymbol{b} \\otimes \\boldsymbol{a}\n",
    "$$\n",
    "\n",
    "を**クロス積**（cross product）あるいは**ベクトル積**（vector product）あるいは**外積**という\n",
    "\n",
    "\n"
   ]
  },
  {
   "cell_type": "markdown",
   "id": "e1811cb9-6e7c-4828-83da-8b5c43f6c57c",
   "metadata": {},
   "source": [
    "## ベクトル空間\n",
    "\n",
    "実数倍と和が定義されており、任意の元の線形結合がふたたび元となる集合\n",
    "\n",
    ":::{admonition} 定義（ベクトル空間）\n",
    "任意の元$x, y \\in L$と任意の実数$a, b$について実数倍$ax, by$とそれらの和$ax + by$が定義されており、\n",
    "かならず$ax + by \\in L$が成り立つような集合$L$を**ベクトル空間（vector space）**という。また$L$の元を**ベクトル（vector）**という\n",
    ":::\n",
    "\n",
    "イメージ的には原点と矢印と、矢印同士の演算（和や積など）だけが決まっている。座標は固定ではない\n",
    "\n",
    "整数集合$\\mathbb{Z}$は実数を掛けて線形結合した結果が整数になるとは限らないため、ベクトル空間ではない。\n",
    "実数集合$\\mathbb{R}$はベクトル空間である。\n"
   ]
  },
  {
   "cell_type": "markdown",
   "id": "7ae98471-07af-458e-bbf8-40a6129c8486",
   "metadata": {},
   "source": [
    "原点はあるらしい（原点がないのはアフィン空間らしい）"
   ]
  },
  {
   "cell_type": "markdown",
   "id": "8d4ee996-c70a-4973-b71e-084cb924368a",
   "metadata": {},
   "source": [
    "### スパン（ベクトルが張る空間）\n",
    "\n",
    "ベクトル空間$L$から選ばれたいくつかのベクトル$\\boldsymbol{x}_1, \\dots, \\boldsymbol{x}_n$を用いて作られる部分集合\n",
    "\n",
    ":::{admonition} （定義）スパン\n",
    "\n",
    "ベクトル$\\boldsymbol{x}_1, \\dots, \\boldsymbol{x}_n$（$\\in L$）の線形結合$a_1 \\boldsymbol{x}_1 + \\cdots + a_n \\boldsymbol{x}_n$の集合\n",
    "\n",
    "$$\n",
    "\\{ a_1 \\boldsymbol{x}_1 + \\cdots + a_n \\boldsymbol{x}_n  | a_1, \\dots, a_n \\in \\mathbb{R} \\}\n",
    "$$\n",
    "\n",
    "を$\\boldsymbol{x}_1, \\dots, \\boldsymbol{x}_n$の**スパン（span）**あるいは$\\boldsymbol{x}_1, \\dots, \\boldsymbol{x}_n$**が張る空間**といい\n",
    "\n",
    "$$\n",
    "\\text{Span}\\{ \\boldsymbol{x}_1, \\dots, \\boldsymbol{x}_n \\}\n",
    "$$\n",
    "\n",
    "と書く\n",
    ":::\n"
   ]
  },
  {
   "cell_type": "markdown",
   "id": "41044819-094d-4e40-a04b-5bb636507024",
   "metadata": {},
   "source": [
    "#### （例）線形回帰モデルとの関わり\n",
    "\n",
    "$\\boldsymbol{x}_1$を「教育を受けた年数」の観測値のベクトル、$\\boldsymbol{x}_2$を「その職種の経験年数」の観測値のベクトル、$\\boldsymbol{y}$を「賃金」の観測値のベクトルとしたとき、$\\text{Span}\\{ \\boldsymbol{x}_1, \\boldsymbol{x}_2 \\}$に$\\boldsymbol{y}$が属するならば\n",
    "\n",
    "$$\n",
    "賃金 = a_1 \\times 教育を受けた年数 + a_2 \\times その職種の経験年数\n",
    "$$\n",
    "\n",
    "という関係が成り立つことになる\n",
    "\n",
    "\n"
   ]
  },
  {
   "cell_type": "markdown",
   "id": "b3c9af35-5612-416b-bcb2-7918bfd2fb52",
   "metadata": {},
   "source": [
    "### 線形従属\n",
    "\n",
    ":::{admonition} （定義）線形従属\n",
    "\n",
    "ベクトル$\\boldsymbol{x}_1, \\dots, \\boldsymbol{x}_n \\in L$と、すべてが0ではない係数$a_1,\\dots,a_n$を用いて\n",
    "\n",
    "$$\n",
    "a_1 \\boldsymbol{x}_1 + \\cdots + a_n \\boldsymbol{x}_n = \\boldsymbol{0}\n",
    "$$\n",
    "\n",
    "とできるとき、$\\boldsymbol{x}_1, \\dots, \\boldsymbol{x}_n$は**線形従属（linearly dependent）**であるという。\n",
    ":::"
   ]
  },
  {
   "cell_type": "markdown",
   "id": "9ad99ec2-3076-43d1-a363-8883533338af",
   "metadata": {},
   "source": [
    "（例）$\\boldsymbol{x}_1$がそれ以外のベクトルの線形結合で表せる、つまり\n",
    "\n",
    "$$\n",
    "\\boldsymbol{x}_1 = a_2 \\boldsymbol{x}_2 + \\cdots + a_n \\boldsymbol{x}_n\n",
    "$$\n",
    "\n",
    "となるとき、$\\boldsymbol{x}_1, \\dots, \\boldsymbol{x}_n$は線形従属である\n"
   ]
  },
  {
   "cell_type": "markdown",
   "id": "c504dea4-c133-44ca-8b1d-4bf7c27d1fbf",
   "metadata": {},
   "source": [
    "（例）線形写像（行列）を使っての例\n",
    "\n",
    "異なる入力のベクトル$\\boldsymbol{x}, \\boldsymbol{x}'$が同じ$\\boldsymbol{y}$に移る、つまり単射でない場合、すなわち$A \\boldsymbol{x} = A\\boldsymbol{x}'$の場合、$A$を構成する列ベクトルたち$\\boldsymbol{a}_1, \\dots, \\boldsymbol{a}_m$は線形従属である"
   ]
  },
  {
   "cell_type": "markdown",
   "id": "69e10147-edac-4019-8b13-4a51d4dd5671",
   "metadata": {},
   "source": [
    "### 線形独立\n",
    "\n",
    ":::{admonition} （定義）線形独立\n",
    "\n",
    "$\\boldsymbol{x}_1, \\dots, \\boldsymbol{x}_n \\in L$について、係数$a_1,\\dots,a_n$が\n",
    "\n",
    "$$\n",
    "a_1 = \\cdots = a_n = 0\n",
    "$$\n",
    "\n",
    "であるとき、またそのときにのみ\n",
    "\n",
    "$$\n",
    "a_1 \\boldsymbol{x}_1 + \\cdots + a_n \\boldsymbol{x}_n = \\boldsymbol{0}\n",
    "$$\n",
    "\n",
    "が成り立つとき、$\\boldsymbol{x}_1, \\dots, \\boldsymbol{x}_n$は**線形独立（linearly independent）**であるという。\n",
    ":::"
   ]
  },
  {
   "cell_type": "markdown",
   "id": "9807f3ae-2141-41f5-9b14-53dabebe12d9",
   "metadata": {},
   "source": [
    "### 基底\n",
    "\n",
    ":::{admonition} （定義）基底\n",
    "\n",
    "ベクトル空間$L$と、それに属するベクトル$\\boldsymbol{x}_1, \\dots, \\boldsymbol{x}_n \\in L$を用いて\n",
    "\n",
    "$$\n",
    "L = \\text{Span}\\{ \\boldsymbol{x}_1, \\dots, \\boldsymbol{x}_n \\}\n",
    "$$\n",
    "\n",
    "と書けるとき、「$L$の**次元（dimension）**は$n$である」あるいは「$L$は$n$次元ベクトル空間である」といい、\n",
    "\n",
    "$$\n",
    "\\dim L = n\n",
    "$$\n",
    "\n",
    "と書く。\n",
    "\n",
    "またこのとき、ベクトル$\\boldsymbol{x}_1, \\dots, \\boldsymbol{x}_n$を$L$の**基底（base）**という\n",
    ":::\n",
    "\n",
    "例えば$L=\\mathbb{R}^2$であれば、$\\b{x}_1 = (1, 0)^T, \\b{x}_2 = (0, 1)^T$という線形独立なベクトルを用いて\n",
    "\n",
    "$$\n",
    "\\mathbb{R}^2 = \\text{Span}\\{ \\b{x}_1, \\b{x}_2 \\}\n",
    "$$\n",
    "\n",
    "と書くことができる。$\\dim \\mathbb{R}^2 = 2$であり、$\\b{x}_1, \\b{x}_2$は$\\mathbb{R}^2$の基底になる。\n",
    "\n",
    "書籍によっては別の定義を使っていることもある\n",
    "\n",
    ":::{admonition} （定義）基底\n",
    "\n",
    "ベクトル空間$L$と、ベクトルの組$\\boldsymbol{x}_1, \\dots, \\boldsymbol{x}_n \\in L$が次の2つの条件を満たすとき、$V$の基底という\n",
    "\n",
    "1. $\\boldsymbol{x}_1, \\dots, \\boldsymbol{x}_n$は1次独立である\n",
    "2. $\\boldsymbol{x}_1, \\dots, \\boldsymbol{x}_n$は$V$を生成する\n",
    ":::\n"
   ]
  }
 ],
 "metadata": {
  "kernelspec": {
   "display_name": "Python 3 (ipykernel)",
   "language": "python",
   "name": "python3"
  },
  "language_info": {
   "codemirror_mode": {
    "name": "ipython",
    "version": 3
   },
   "file_extension": ".py",
   "mimetype": "text/x-python",
   "name": "python",
   "nbconvert_exporter": "python",
   "pygments_lexer": "ipython3",
   "version": "3.9.18"
  }
 },
 "nbformat": 4,
 "nbformat_minor": 5
}
