{
 "cells": [
  {
   "cell_type": "markdown",
   "id": "749b0598-bc05-47d1-b303-cd1dea45eb1a",
   "metadata": {},
   "source": [
    "# 内積空間"
   ]
  },
  {
   "cell_type": "markdown",
   "id": "8d1f690b-b694-43c1-bfe3-137aa6e0c3ab",
   "metadata": {},
   "source": [
    "## 内積\n",
    "\n",
    "ベクトル$\\boldsymbol{a}, \\boldsymbol{b} \\in \\mathbb{R}^n$に対して、実数値\n",
    "\n",
    "$$\n",
    "a_1 b_2 + \\cdots + a_n b_n = \n",
    "\\boldsymbol{a}^T \\boldsymbol{b}\n",
    "$$\n",
    "\n",
    "をベクトル$\\boldsymbol{a}$と$\\boldsymbol{b}$の **内積** といい、記号$(\\boldsymbol{a}, \\boldsymbol{b})$ や $\\langle \\boldsymbol{a}, \\boldsymbol{b} \\rangle$などで表す。"
   ]
  },
  {
   "cell_type": "markdown",
   "id": "5f6cdd78-5ce3-4584-991c-70ff435d9a85",
   "metadata": {},
   "source": [
    ":::{margin}\n",
    "\n",
    "$$\n",
    "\\|\\boldsymbol{a}\\|\n",
    "\\|\\boldsymbol{b}\\|\n",
    "\\cos \\theta\n",
    "$$\n",
    "\n",
    "を内積の定義とする書籍もあるが、$\\boldsymbol{a}^T \\boldsymbol{b}$と同値である\n",
    ":::"
   ]
  },
  {
   "cell_type": "markdown",
   "id": "56f27a0e-68ab-4dd0-b4bb-97dee4136762",
   "metadata": {},
   "source": [
    "### 標準的な内積\n",
    "\n",
    "任意の2つのベクトル$\\boldsymbol{a}, \\boldsymbol{b}$に対して、実数$\\langle \\boldsymbol{a}, \\boldsymbol{b} \\rangle$を対応させる対応\n",
    "\n",
    "$$\n",
    "\\langle \\quad, \\quad \\rangle\n",
    ": \\mathbb{R}^n \\times \\mathbb{R}^n \\to \\mathbb{R}\n",
    "$$\n",
    "\n",
    "のことを、$\\mathbb{R}^n$の **内積** という。この内積のことを一般の内積と分けて **$\\mathbb{R}^n$の標準的な内積** または **自然な内積** という。"
   ]
  },
  {
   "cell_type": "markdown",
   "id": "6f68524b-8239-460c-9b82-99e0e4e724f0",
   "metadata": {},
   "source": [
    ":::{admonition} 定理\n",
    "\n",
    "$R^n$ の標準的な内積は次の性質をもつ.\n",
    "\n",
    "(1) $(\\boldsymbol{a}, \\boldsymbol{b})=(\\boldsymbol{b}, \\boldsymbol{a})$\n",
    "\n",
    "(2) $(\\boldsymbol{a}+\\boldsymbol{b}, \\boldsymbol{c})=(\\boldsymbol{a}, \\boldsymbol{c})+(\\boldsymbol{b}, \\boldsymbol{c}), \\quad(\\boldsymbol{a}, \\boldsymbol{b}+\\boldsymbol{c})=(\\boldsymbol{a}, \\boldsymbol{b})+(\\boldsymbol{a}, \\boldsymbol{c})$\n",
    "\n",
    "(3) $(k \\boldsymbol{a}, \\boldsymbol{b})=(\\boldsymbol{a}, k \\boldsymbol{b})=k(\\boldsymbol{a}, \\boldsymbol{b}) \\quad(k \\in \\boldsymbol{R})$\n",
    "\n",
    "(4) $(\\boldsymbol{a}, \\boldsymbol{a}) \\geqq 0$. ここで $(\\boldsymbol{a}, \\boldsymbol{a})=0$ と $\\boldsymbol{a}=\\mathbf{0}$ とは同値である.\n",
    ":::"
   ]
  },
  {
   "cell_type": "markdown",
   "id": "7546f3be-b5e5-4899-bcff-51c5e9961349",
   "metadata": {},
   "source": [
    "## 内積空間（計量ベクトル空間）\n",
    "\n",
    ":::{admonition} 定義\n",
    "$\\mathbb{R}$ 上のベクトル空間 $V$ において、任意の2つのべクトル $\\boldsymbol{a}, \\boldsymbol{b}$に対して実数$(\\boldsymbol{a}, \\boldsymbol{b})$が定まり、次の(1)~(4)を満たすとき、$(\\boldsymbol{a},\\boldsymbol{b})$を$\\boldsymbol{a}$と$\\boldsymbol{b}$の **内積** という。\n",
    "\n",
    "(1) $(\\boldsymbol{a}, \\boldsymbol{b})=(\\boldsymbol{b}, \\boldsymbol{a})$\n",
    "\n",
    "(2) $(\\boldsymbol{a}+\\boldsymbol{b}, \\boldsymbol{c})=(\\boldsymbol{a}, \\boldsymbol{c})+(\\boldsymbol{b}, \\boldsymbol{c})$\n",
    "\n",
    "(3) $(k \\boldsymbol{a}, \\boldsymbol{b})=k(\\boldsymbol{a}, \\boldsymbol{b}) \\quad(k \\in \\boldsymbol{R})$\n",
    "\n",
    "(4) $(\\boldsymbol{a}, \\boldsymbol{a}) \\geqq 0$ で， $(\\boldsymbol{a}, \\boldsymbol{a})=0 \\Longleftrightarrow \\boldsymbol{a}=\\mathbf{0}$\n",
    "\n",
    "内積の定義されたベクトル空間を **計量ベクトル空間** 、または **内積空間** という。\n",
    ":::"
   ]
  },
  {
   "cell_type": "markdown",
   "id": "7cecc8e9-7ee5-4c14-baf2-e15b5821b517",
   "metadata": {},
   "source": [
    "### 内積の存在\n",
    "\n",
    "一般のベクトル空間には、内積が（複数）存在する。\n",
    "\n",
    ":::{admonition} 定理\n",
    "\n",
    "$V$ をベクトル空間， $v_1, \\cdots, v_n$ をその 1 つの基底とする. $V$ の 任意のベクトル $\\boldsymbol{a}, \\boldsymbol{b}$ が与えられたとき，これらをこの基底の 1 次結合で表わす。\n",
    "\n",
    "$$\n",
    "\\begin{array}{ll}\n",
    "\\boldsymbol{a}=a_1 \\boldsymbol{v}_1+\\cdots+a_n \\boldsymbol{v}_n & \\left(a_i \\in \\boldsymbol{R}\\right) \\\\\n",
    "\\boldsymbol{b}=b_1 \\boldsymbol{v}_1+\\cdots+b_n \\boldsymbol{v}_n & \\left(b_i \\in \\boldsymbol{R}\\right)\n",
    "\\end{array}\n",
    "$$\n",
    "\n",
    "\n",
    "そのとき,\n",
    "\n",
    "$$\n",
    "(\\boldsymbol{a}, \\boldsymbol{b})=a_1 b_1+\\cdots+a_n b_n\n",
    "$$\n",
    "\n",
    "\n",
    "とおくと， $(\\boldsymbol{a}, \\boldsymbol{b})$ は内積である。\n",
    "この内積に関して $v_1, \\cdots, v_n$ は後に述べる正規直交基底である。すなわち，次 が成り立つ。\n",
    "\n",
    "$$\n",
    "\\left(\\boldsymbol{v}_i, \\boldsymbol{v}_j\\right)=0 \\quad(i \\neq j), \\quad\\left(\\boldsymbol{v}_i, \\boldsymbol{v}_j\\right)=1 \\quad(i=j)\n",
    "$$\n",
    ":::"
   ]
  },
  {
   "cell_type": "markdown",
   "id": "dc0d022d-77d1-48e0-9f6e-86ff87efcf22",
   "metadata": {},
   "source": [
    "### ノルム\n",
    "\n",
    "計量ベクトル空間$V$では、内積を用いてベクトルの長さが定義される。\n",
    "\n",
    "$\\boldsymbol{a} \\in V$に対して$\\sqrt{\\langle \\boldsymbol{a}, \\boldsymbol{a} \\rangle}$をベクトル$\\boldsymbol{a}$の **長さ** または **ノルム** といい、$\\|\\boldsymbol{a}\\|$で表す。すなわち\n",
    "\n",
    "$$\n",
    "\\|\\boldsymbol{a}\\|\n",
    "= \\sqrt{\\langle \\boldsymbol{a}, \\boldsymbol{a}\\rangle},\n",
    "\\quad\n",
    "\\|\\boldsymbol{a}\\|^2=\n",
    "\\langle \\boldsymbol{a}, \\boldsymbol{a}\\rangle\n",
    "$$\n",
    "\n",
    "である。"
   ]
  },
  {
   "cell_type": "markdown",
   "id": "55d8d26a-f0b1-400b-8b32-cad8d0cf489b",
   "metadata": {},
   "source": [
    "### 直交\n",
    "\n",
    "$V$を計量ベクトル空間とする。$\\boldsymbol{a}, \\boldsymbol{b} \\in V$について、$\\langle \\boldsymbol{a}, \\boldsymbol{b} \\rangle = 0$を満たすとき、$\\boldsymbol{a}, \\boldsymbol{b}$は **直交する** といい、\n",
    "\n",
    "$$\n",
    "\\boldsymbol{a} \\perp \\boldsymbol{b} = 0\n",
    "$$\n",
    "\n",
    "で表す"
   ]
  },
  {
   "cell_type": "markdown",
   "id": "45daee29-3e39-405c-8f11-b0abe15a23f3",
   "metadata": {},
   "source": [
    "## 直交補空間\n",
    "\n",
    ":::{admonition} 定義\n",
    "\n",
    "内積空間 $V$ の部分空間 $W$ に対して、 $W$のすべてのベクトルと直交するような$V$のベクトル全体\n",
    "\n",
    "$$\n",
    "W^{\\perp}=\\{\\boldsymbol{x} \\in V \\mid \\langle\\boldsymbol{x}, \\boldsymbol{y}\\rangle=0, \\boldsymbol{y} \\in W\\}\n",
    "$$\n",
    "\n",
    "を$W$の **直交補空間** という。\n",
    ":::"
   ]
  },
  {
   "cell_type": "markdown",
   "id": "11c80810-4fae-4f20-b372-570b3dbb20ca",
   "metadata": {},
   "source": [
    "なお、$W^\\perp$は$V$の部分空間である\n",
    "\n",
    ":::{dropdown} 確かめてみる\n",
    "\n",
    "(1) \n",
    "$\\boldsymbol{0} \\in V$ であり、 $\\langle \\boldsymbol{0}, y \\rangle = 0$ のため $\\boldsymbol{0} \\in W^\\perp$\n",
    "\n",
    "(2) \n",
    "$\\boldsymbol{x}_1, \\boldsymbol{x}_2 \\in W^{\\perp}$ は、 $\\boldsymbol{y} \\in W$について、\n",
    "\n",
    "$$\n",
    "\\langle \\boldsymbol{x}_1, \\boldsymbol{y} \\rangle\n",
    "+\n",
    "\\langle \\boldsymbol{x}_2, \\boldsymbol{y} \\rangle\n",
    "= 0\n",
    "$$\n",
    "\n",
    "を満たす。標準内積の定義より\n",
    "\n",
    "$$\n",
    "\\langle \\boldsymbol{x}_1, \\boldsymbol{y} \\rangle\n",
    "+\n",
    "\\langle \\boldsymbol{x}_2, \\boldsymbol{y} \\rangle\n",
    "= \\langle \\boldsymbol{x}_1 + \\boldsymbol{x}_2, \\boldsymbol{y} \\rangle\n",
    "= 0\n",
    "$$\n",
    "\n",
    "であるため、$\\boldsymbol{x}_1 + \\boldsymbol{x}_2 \\in W^{\\perp}$\n",
    "\n",
    "(3) \n",
    "$\\boldsymbol{x} \\in W^{\\perp}$ は、 $\\boldsymbol{y} \\in W, c \\in \\mathbb{R}$について、\n",
    "\n",
    "$$\n",
    "c \\langle \\boldsymbol{x}, \\boldsymbol{y} \\rangle = 0\n",
    "$$\n",
    "\n",
    "をみたす。標準内積の定義より\n",
    "\n",
    "$$\n",
    "c \\langle \\boldsymbol{x}, \\boldsymbol{y} \\rangle\n",
    "= \\langle c \\boldsymbol{x}, \\boldsymbol{y} \\rangle\n",
    "= 0\n",
    "$$\n",
    "\n",
    "のため、$c \\boldsymbol{x} \\in W^{\\perp}$\n",
    "\n",
    "よって、(1) ~ (3)より、$W^\\perp$は$V$の部分空間である\n",
    ":::"
   ]
  },
  {
   "cell_type": "markdown",
   "id": "efdb0d58-95b3-48ff-b4f5-cb3f9795ebad",
   "metadata": {},
   "source": []
  },
  {
   "cell_type": "markdown",
   "id": "7ee20b7f-1a47-4d13-9ce0-2b291c45e485",
   "metadata": {},
   "source": [
    "一般に、内積空間 $V$ の部分空間 $W$ を考えると、 $V$ の任意の元は $x \\in W$ および $\\boldsymbol{y} \\in W^{\\perp}$ を用いて、 $\\boldsymbol{x}+\\boldsymbol{y}$ と一意的に表されることがわかる。このとこから、 $W^{\\perp}$ を $W$ の直交補空間という。また、 $V$ は $W$ と $W^{\\perp}$ の **直交直和** であるといい、\n",
    "\n",
    "$$\n",
    "V=W \\oplus W^{\\perp}\n",
    "$$\n",
    "\n",
    "と表す。$V$をこのような形に書くことを **直和分解** という。\n"
   ]
  },
  {
   "cell_type": "code",
   "execution_count": null,
   "id": "8e1039db-5f71-4808-962f-c929f0b7f22e",
   "metadata": {},
   "outputs": [],
   "source": []
  }
 ],
 "metadata": {
  "kernelspec": {
   "display_name": "Python 3 (ipykernel)",
   "language": "python",
   "name": "python3"
  },
  "language_info": {
   "codemirror_mode": {
    "name": "ipython",
    "version": 3
   },
   "file_extension": ".py",
   "mimetype": "text/x-python",
   "name": "python",
   "nbconvert_exporter": "python",
   "pygments_lexer": "ipython3",
   "version": "3.10.14"
  }
 },
 "nbformat": 4,
 "nbformat_minor": 5
}
