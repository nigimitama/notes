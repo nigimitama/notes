{
 "cells": [
  {
   "cell_type": "markdown",
   "id": "686f548d-7d21-4752-b3cb-2973af053153",
   "metadata": {},
   "source": [
    "# 像、核、次元定理\n",
    "\n",
    "\n",
    "$$\n",
    "% 太字のalias\n",
    "\\newcommand{\\b}[1]{\\boldsymbol{#1}}\n",
    "% 演算子の定義\n",
    "\\DeclareMathOperator{\\im}{ \\text{Im} }\n",
    "\\DeclareMathOperator{\\rank}{ \\text{rank} }\n",
    "\\DeclareMathOperator{\\span}{ \\text{Span} }\n",
    "\\DeclareMathOperator{\\Ker}{ \\text{Ker} }\n",
    "$$"
   ]
  },
  {
   "cell_type": "markdown",
   "id": "734fd706-f63d-40f9-b0b6-86d7db2dd103",
   "metadata": {},
   "source": [
    "## 像 $\\text{Im}$\n",
    "\n",
    "Aで移れる範囲を像$\\im A$という。値域（range）と言うこともあるらしい。より正確には：\n",
    "\n",
    "集合$X$から集合$Y$への写像\n",
    "\n",
    "$$\n",
    "f: X \\longrightarrow Y\n",
    "$$\n",
    "\n",
    "における$X$を **定義域**、$Y$を**値域**という。\n",
    "\n",
    "\n",
    "$x \\in X$に$y \\in Y$が対応するとき、$y$を$f$による$x$の **像** といい、\n",
    "\n",
    "$$\n",
    "y = f(x)\n",
    "$$\n",
    "\n",
    "と書く。\n",
    "\n",
    "$x$が$X$のすべての元をわたるとき、$f(x)$全体の作る$Y$の部分集合を$f$の **像** といい、$\\text{Im} f$と表す。\n",
    "\n",
    "$$\n",
    "\\mathop{\\text{Im}} f = \\{f(x) \\mid x \\in X \\}\n",
    "$$\n",
    "\n",
    "$\\mathop{\\text{Im}} f = Y$のとき、$f$は **全射** であるという。また$x_1, x_2 \\in X, x_1 \\neq x_2$に対して$f(x_1) \\neq f(x_2)$が成り立つとき、$f$は **単射** であるという。"
   ]
  },
  {
   "cell_type": "markdown",
   "id": "7f9ce0f8-06bd-4a9b-8234-57faf95009b5",
   "metadata": {},
   "source": [
    ":::{admonition} 定義：像\n",
    "\n",
    "$n$次元ベクトル空間$V^n$から$m$次元ベクトル空間$V^m$への写像$f: \\boldsymbol{x} \\to A \\boldsymbol{x}$があるとする。ここで$A$は$m\\times n$行列である。\n",
    "\n",
    "$V^n$の$f$による像になっている$V^m$のベクトル全体の集合、すなわち\n",
    "\n",
    "$$\n",
    "\\{ \\boldsymbol{y} \\mid \\boldsymbol{y} \\in V^m, \\boldsymbol{y} = A\\boldsymbol{x} (\\boldsymbol{x} \\in V^m) \\}\n",
    "$$\n",
    "\n",
    "は$V^m$の部分空間となり、これを **像** という。\n",
    ":::"
   ]
  },
  {
   "cell_type": "markdown",
   "id": "5cd73f30-c700-401f-901a-1a9376156771",
   "metadata": {},
   "source": [
    "### Im = Span\n",
    "\n",
    "数$x_1, \\dots, x_n$を色々な値にしたときの線形和$x_1 \\b{a}_1 + \\cdots + x_n \\b{a}_n = A \\b{x}$が$\\im A$であり、$\\b{a}_1, \\dots, \\b{a}_n$が張る線型部分空間$\\span \\{ \\b{a}_1, \\dots, \\b{a}_n \\}$でもある\n",
    "\n",
    "$$\n",
    "\\im A = \\span \\{ \\b{a}_1, \\dots, \\b{a}_n \\} = x_1 \\b{a}_1 + \\cdots + x_n \\b{a}_n = A\\b{x}\n",
    "$$\n"
   ]
  },
  {
   "cell_type": "markdown",
   "id": "84f0a3c4-0193-4501-aa85-e4e4a2e8f475",
   "metadata": {},
   "source": [
    ":::{admonition} 例：最小二乗法\n",
    "\n",
    "最小二乗推定量$\\hat{\\boldsymbol{\\beta}} = (X^\\top X)^{-1} X^\\top \\boldsymbol{y}$\n",
    "を$\\hat{\\boldsymbol{y}} = X \\hat{\\boldsymbol{\\beta}}$に代入すると\n",
    "\n",
    "$$\n",
    "\\hat{\\boldsymbol{y}} = \\underbrace{ X (X^\\top X)^{-1} X^\\top }_{P} \\boldsymbol{y}\n",
    "= P \\boldsymbol{y}\n",
    "$$\n",
    "\n",
    "つまり、ベクトル$\\boldsymbol{y}$を行列$P = X (X^\\top X)^{-1} X^\\top$で射影したものとみなすことができる。\n",
    "\n",
    "この行列$P$は対称行列で、$P^2=P$となる。対称行列で$P^2=P$となる行列を射影行列という。\n",
    "\n",
    "射影行列は、$X$の列空間$\\im X$にベクトルを正射影するという性質がある。$\\boldsymbol{y}$の$\\im X$への射影が$\\hat{\\boldsymbol{y}}$で、垂線の足が誤差$\\boldsymbol{u}$となる。\n",
    "\n",
    "最小二乗法は$\\boldsymbol{y}$から$\\im X$への射影を求める操作であると捉えることができる。\n",
    ":::"
   ]
  },
  {
   "cell_type": "markdown",
   "id": "d03a872e-81a2-4d74-afdb-0bc59615a31c",
   "metadata": {},
   "source": [
    "## 核\n",
    "\n",
    "$A\\boldsymbol{x} = \\boldsymbol{0}$に移ってくるような$\\boldsymbol{x}$の集合を$A$の **核（kernel）** あるいは **零空間（null space）** と呼び、$\\mathop{ \\text{Ker} } A$と書く\n",
    "\n",
    "$$\n",
    "\\mathop{ \\text{Ker} } A\n",
    "= \\{ \\boldsymbol{x} \\mid A\\boldsymbol{x} = \\boldsymbol{0} \\}\n",
    "$$\n",
    "\n",
    "核はベクトル空間であり、その次元は **退化次数**（nullity）とも呼ばれる（つまり、$\\dim \\Ker A = \\mathop{\\text{nullity}} A$）\n",
    "\n",
    "\n",
    "幾何学的な解釈としては、カーネルは写像$A$で結果がぺちゃんこに潰される方向。\n",
    "ぺちゃんこに潰れない行列の場合、$\\Ker A$は$0$次元（原点$\\boldsymbol{0}$のみ）\n",
    "\n",
    "\n",
    "\n",
    ":::{admonition} 定義：核\n",
    "\n",
    "$n$次元ベクトル空間$V^n$から$m$次元ベクトル空間$V^m$への写像$f: \\boldsymbol{x} \\to A \\boldsymbol{x}$があるとする。ここで$A$は$m\\times n$行列である。\n",
    "\n",
    "$f$によって$V^m$の零ベクトルに写されるような$V^n$のベクトル全体の集合、すなわち\n",
    "\n",
    "$$\n",
    "\\{ \\boldsymbol{x} \\mid \\boldsymbol{y} \\in V^n, \\ A \\boldsymbol{x} = \\boldsymbol{0} \\}\n",
    "$$\n",
    "\n",
    "を$f$（または$A$）の **核** といい、$\\Ker A$または$f^{-1}(\\boldsymbol{0})$または$A^{-1}(\\boldsymbol{0})$と表す。\n",
    ":::"
   ]
  },
  {
   "cell_type": "markdown",
   "id": "d714dff7-32cd-414b-a9e5-c2ebc063b7cc",
   "metadata": {},
   "source": [
    "## ランク\n",
    "\n",
    "$m\\times n$行列$A$に対し、$A$が定義する線形写像\n",
    "\n",
    "$$\n",
    "A: \\mathbb{R}^n \\to \\mathbb{R}^m\n",
    "$$\n",
    "\n",
    "\n",
    "の像空間の次元のことを **ランク（階数）** といい、$\\rank A$と表す。\n",
    "\n",
    "$$\n",
    "\\rank A := \\dim \\im A\n",
    "= \\dim \\span\\{ \\boldsymbol{a}_1, \\dots, \\boldsymbol{a}_n \\}\n",
    "$$\n",
    "\n",
    "$A \\in \\mathbb{R}^{m\\times n}$なら、$m$次元の定義域から$n$次元の値域に移す写像なので、\n",
    "\n",
    "$$\n",
    "\\rank A \\leq m\\\\\n",
    "\\rank A \\leq n\\\\\n",
    "\\therefore \\rank A \\leq \\min (m,n)\n",
    "$$\n"
   ]
  },
  {
   "cell_type": "markdown",
   "id": "9df63d08-7df8-4272-96d7-731de8a6e450",
   "metadata": {},
   "source": [
    ":::{admonition} ランクの同値な定義\n",
    "\n",
    "$m\\times n$行列$A$のランク$\\operatorname{rank} A$は、以下と一致する\n",
    "\n",
    "1. $A$の列ベクトルの中から選び得る1次独立なベクトルの最大個数\n",
    "2. $A$の行ベクトルの中から選び得る1次独立なベクトルの最大個数\n",
    "3. 行列$A$の$t$次の小行列式の中には0でないものがあり、$t+1$次以上の小行列式はすべて0であるときの$t$\n",
    "4. $A$の行ベクトルが生成する$\\mathbb{R}^n$の部分空間の次元\n",
    "5. 行列$A$を行基本変形して階段行列を作ったとき、零ベクトルでない行の数\n",
    "\n",
    ":::"
   ]
  },
  {
   "cell_type": "markdown",
   "id": "addc822a-cd1e-4be4-9a8a-cc1c6f5628c6",
   "metadata": {},
   "source": [
    "### ランクの求め方\n",
    "\n",
    "線形写像を定める行列に行基本変形を行って階段行列を作ったとき、零ベクトルでない行の数がランクに相当する。\n"
   ]
  },
  {
   "cell_type": "markdown",
   "id": "4944546b-6567-4bee-96fa-1d9e98cf66b7",
   "metadata": {},
   "source": [
    ":::{card} 例（ランクの求め方）\n",
    "\n",
    "$3$次実正方行列$A$により定められる線形写像$f(x) = Ax \\ (x\\in \\mathbb{R}^3)$があるとする。\n",
    "\n",
    "ここで$A$は\n",
    "\n",
    "$$\n",
    "A = \\begin{pmatrix}\n",
    "1 & 2 & 3\\\\\n",
    "2 & 3 & 4\\\\\n",
    "3 & 4 & 5\\\\\n",
    "\\end{pmatrix}\n",
    "$$\n",
    "\n",
    "とする。この線形写像$f$のランク（行列$A$のランク）を求めたいとする。\n",
    "\n",
    "**1. 行基本変形で階段行列を作る**\n",
    "\n",
    "1行目を2倍して2行目から引く\n",
    "\n",
    "$$\n",
    "\\begin{pmatrix}\n",
    "1 & 2 & 3\\\\\n",
    "0 & -1 & -2\\\\\n",
    "3 & 4 & 5\\\\\n",
    "\\end{pmatrix}\n",
    "$$\n",
    "\n",
    "1行目を3倍して3行目から引く\n",
    "\n",
    "$$\n",
    "\\begin{pmatrix}\n",
    "1 & 2 & 3\\\\\n",
    "0 & -1 & -2\\\\\n",
    "0 & -2 & -4\\\\\n",
    "\\end{pmatrix}\n",
    "$$\n",
    "\n",
    "2行目を2倍して3行目から引く\n",
    "\n",
    "$$\n",
    "\\begin{pmatrix}\n",
    "1 & 2 & 3\\\\\n",
    "0 & -1 & -2\\\\\n",
    "0 & 0 & 0\\\\\n",
    "\\end{pmatrix}\n",
    "$$\n",
    "\n",
    "階段行列になった。\n",
    "\n",
    "**2. 零ベクトルでない行ベクトルの数を数える**\n",
    "\n",
    "零ベクトルでない行の数は2であるので、$\\operatorname{rank} f = \\operatorname{rank} A = 2$\n",
    ":::"
   ]
  },
  {
   "cell_type": "code",
   "execution_count": 4,
   "id": "49192b01-02cb-4f96-8d29-e8ac33911fad",
   "metadata": {},
   "outputs": [
    {
     "data": {
      "text/plain": [
       "2"
      ]
     },
     "execution_count": 4,
     "metadata": {},
     "output_type": "execute_result"
    }
   ],
   "source": [
    "import numpy as np\n",
    "\n",
    "A = np.array([\n",
    "    [1, 2, 3],\n",
    "    [2, 3, 4],\n",
    "    [3, 4, 5],\n",
    "])\n",
    "\n",
    "np.linalg.matrix_rank(A)"
   ]
  },
  {
   "cell_type": "markdown",
   "id": "7c5ee400-e34f-40ef-8dd1-4dfbac7ce76a",
   "metadata": {},
   "source": [
    "## 次元\n",
    "\n",
    "ベクトル空間の1次独立なベクトルの最大個数を次元という"
   ]
  },
  {
   "cell_type": "markdown",
   "id": "9b2ab1a9-cff6-4aea-b521-4870e77e1923",
   "metadata": {},
   "source": [
    "## 次元定理\n",
    "\n",
    "$m\\times n$行列$A$について、\n",
    "\n",
    "$$\n",
    "\\dim \\Ker A + \\dim \\im A = n\n",
    "$$\n",
    "\n",
    "が成り立つ。\n",
    "\n",
    "$$\n",
    "\\begin{align}\n",
    "\\underbrace{ n }_{元の次元}\n",
    "- \\underbrace{ \\dim \\Ker A }_{ぺちゃんこに潰れる次元}\n",
    "= \\underbrace{ \\dim \\im A }_{残った次元}\n",
    "\\end{align}\n",
    "$$"
   ]
  },
  {
   "cell_type": "markdown",
   "id": "6c8244dc-99de-4b96-82b6-2cfe57b18333",
   "metadata": {},
   "source": [
    "### 次元定理（線形写像ver.）\n",
    "\n",
    "$n$次元ベクトル空間$X$と$m$次元ベクトル空間$Y$があるとして、\n",
    "\n",
    "$$\n",
    "f: X \\to Y\n",
    "$$\n",
    "\n",
    "を線形写像とすると、次元定理は以下のように表される。\n",
    "\n",
    "$$\n",
    "\\dim \\mathop{\\text{Im}} f +  \\dim \\mathop{\\text{Ker}} f = \\dim X\n",
    "$$\n",
    "\n",
    "また\n",
    "\n",
    "- $\\mathop{\\text{rank}} f = \\dim \\mathop{\\text{Im}} f$\n",
    "- $\\mathop{\\text{nullity}} f = \\dim \\mathop{\\text{Ker}} f$\n",
    "- $n = \\dim X$\n",
    "\n",
    "から、同値の定理として\n",
    "\n",
    "$$\n",
    "\\mathop{\\text{rank}} f + \\mathop{\\text{nullity}} f = n\n",
    "$$\n",
    "\n",
    "とも表される"
   ]
  }
 ],
 "metadata": {
  "kernelspec": {
   "display_name": "Python 3 (ipykernel)",
   "language": "python",
   "name": "python3"
  },
  "language_info": {
   "codemirror_mode": {
    "name": "ipython",
    "version": 3
   },
   "file_extension": ".py",
   "mimetype": "text/x-python",
   "name": "python",
   "nbconvert_exporter": "python",
   "pygments_lexer": "ipython3",
   "version": "3.10.14"
  }
 },
 "nbformat": 4,
 "nbformat_minor": 5
}
