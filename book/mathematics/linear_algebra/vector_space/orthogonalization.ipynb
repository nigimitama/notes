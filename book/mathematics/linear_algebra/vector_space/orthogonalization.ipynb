{
 "cells": [
  {
   "cell_type": "markdown",
   "id": "7be11b32-a9f6-4684-b835-19235dd9f157",
   "metadata": {
    "editable": true,
    "slideshow": {
     "slide_type": ""
    },
    "tags": []
   },
   "source": [
    "# 直交化"
   ]
  },
  {
   "cell_type": "markdown",
   "id": "a886319a-afd6-4a95-9886-1ee61875f503",
   "metadata": {},
   "source": [
    "## 直交化"
   ]
  },
  {
   "cell_type": "markdown",
   "id": "7c426766-e89c-4552-afb0-471e9420c5ba",
   "metadata": {},
   "source": [
    "### 正規直交系\n"
   ]
  },
  {
   "cell_type": "markdown",
   "id": "e326242f-59fd-446c-8332-773ba885323d",
   "metadata": {},
   "source": [
    ":::{admonition} 定義（正規直交系）\n",
    "\n",
    "内積空間 $V$ において、 $V$ の $m$ 個のベクトル $\\boldsymbol{a}_1, \\cdots, \\boldsymbol{a}_m$ が $\\langle \\boldsymbol{a}_i, \\boldsymbol{a}_j\\rangle = \\delta_{i j}$ すなわち $\\langle \\boldsymbol{a}_i, \\boldsymbol{a}_j\\rangle = \\begin{cases}1 & (i=j) \\\\ 0 & (i \\neq j)\\end{cases}$ をみたすとき、 **正規直交系** という。\n",
    ":::"
   ]
  },
  {
   "cell_type": "markdown",
   "id": "c200cb8e-abd5-41a8-8316-e0e992ded6c0",
   "metadata": {
    "editable": true,
    "slideshow": {
     "slide_type": ""
    },
    "tags": []
   },
   "source": [
    ":::{admonition} 定理\n",
    ":class: tip\n",
    "\n",
    "正規直交系は1次独立である。\n",
    ":::\n",
    "\n",
    ":::{dropdown} 証明\n",
    "\n",
    "$a_1, \\cdots, a_m$ を正規直交系とする。 いま,\n",
    "\n",
    "$$\n",
    "c_1 \\boldsymbol{a}_1+\\cdots+c_m \\boldsymbol{a}_m=\\mathbf{0}\n",
    "$$\n",
    "\n",
    "\n",
    "とすると，任意の $i \\ (1 \\leqq i \\leqq m)$ について， $\\langle \\boldsymbol{a}_i, \\boldsymbol{0}\\rangle = 0$ であるから,\n",
    "\n",
    "$$\n",
    "\\begin{aligned}\n",
    "0\n",
    "&= \\langle \\boldsymbol{a}_i, \\mathbf{0} \\rangle\\\\\n",
    "&= \\langle \\boldsymbol{a}_i, c_1 \\boldsymbol{a}_1+\\cdots+c_m \\boldsymbol{a}_m\\rangle\\\\\n",
    "&= \\sum_{j=1}^m c_j \\langle \\boldsymbol{a}_i, \\boldsymbol{a}_j\\rangle \\quad (内積の線形性のため)\\\\\n",
    "&=c_i \\langle \\boldsymbol{a}_i, \\boldsymbol{a}_i\\rangle \\quad (正規直交系の定義より \\langle \\boldsymbol{a}_i, \\boldsymbol{a}_i\\rangle = 1)\\\\\n",
    "&=c_i\n",
    "\\end{aligned}\n",
    "$$\n",
    "\n",
    "\n",
    "よって, $a_1, \\cdots, a_m$ は 1 次独立である。\n",
    ":::"
   ]
  },
  {
   "cell_type": "markdown",
   "id": "c3414068-1f4c-44fb-b2ce-872a8203fdba",
   "metadata": {},
   "source": [
    ":::{admonition} 定義（正規直交基底）\n",
    "\n",
    "正規直交系である基底のことを **正規直交基底** という。\n",
    ":::"
   ]
  },
  {
   "cell_type": "markdown",
   "id": "30ac941a-076f-4088-8306-6a82b180c6e9",
   "metadata": {},
   "source": [
    "### シュミットの正規直交化法"
   ]
  },
  {
   "cell_type": "markdown",
   "id": "29bbdf04-516f-4259-a1fd-94214bb2eb8b",
   "metadata": {},
   "source": [
    "シュミットの正規直交化法は、内積空間$V$において1次独立なベクトルの系$\\boldsymbol{a}_1, \\cdots, \\boldsymbol{a}_r$が与えられたとき、正規直交系$\\boldsymbol{v}_1, \\cdots, \\boldsymbol{v}_r$を作り出す方法。"
   ]
  },
  {
   "cell_type": "markdown",
   "id": "dc6c170d-cbd4-4ce2-9e81-fd35d8f71e5f",
   "metadata": {},
   "source": [
    "まず$\\boldsymbol{a}_1 \\neq \\boldsymbol{0}$より、\n",
    "\n",
    "$$\n",
    "\\boldsymbol{v}_1 = \\frac{\\boldsymbol{a}_1}{\\|\\boldsymbol{a}_1\\|}\n",
    "$$\n",
    "\n",
    "とおけば、$\\|\\boldsymbol{v}_1\\| = 1$となる"
   ]
  },
  {
   "cell_type": "markdown",
   "id": "d04253bd-b62e-4b74-8869-cac495a24d69",
   "metadata": {},
   "source": [
    "つづいて、$\\boldsymbol{a}_2 - c \\boldsymbol{v}_1, \\ c\\in \\mathbb{R}$ とおく。\n",
    "$\\langle \\boldsymbol{a}_2 - c \\boldsymbol{v}_1, \\boldsymbol{v}_1 \\rangle = 0$（$\\boldsymbol{v}_1$と直交する）とおいて、この$c$を求める。\n",
    "\n",
    "$$\n",
    "\\langle \\boldsymbol{a}_2 - c \\boldsymbol{v}_1, \\boldsymbol{v}_1 \\rangle\n",
    "= \\langle \\boldsymbol{a}_2, \\boldsymbol{v}_1 \\rangle\n",
    "- c \\langle \\boldsymbol{v}_1, \\boldsymbol{v}_1 \\rangle\n",
    "= 0\n",
    "$$\n",
    "\n",
    "より\n",
    "\n",
    "$$\n",
    "c = \\frac{ \\langle \\boldsymbol{a}_2, \\boldsymbol{v}_1 \\rangle }{ \\langle \\boldsymbol{v}_1, \\boldsymbol{v}_1 \\rangle }\n",
    "= \\langle \\boldsymbol{a}_2, \\boldsymbol{v}_1 \\rangle\n",
    "$$\n",
    "\n",
    "となる。$\\boldsymbol{a}_1$ と $\\boldsymbol{a}_2$は1次独立であり、$\\boldsymbol{v}_1$は$\\boldsymbol{a}_1$のスカラー倍であるから、$\\boldsymbol{a}_2 - c \\boldsymbol{v} \\neq \\boldsymbol{0}$である。\n",
    "そこで\n",
    "\n",
    "$$\n",
    "\\boldsymbol{v}_2\n",
    "= \\frac{\\boldsymbol{a}_2 - c \\boldsymbol{v}_1 }\n",
    "{\\| \\boldsymbol{a}_2 - c \\boldsymbol{v}_1 \\| }\n",
    "$$\n",
    "\n",
    "とおけば、\n",
    "\n",
    "$$\n",
    "\\langle \\boldsymbol{v}_1, \\boldsymbol{v}_2 \\rangle = 0, \\quad \\|\\boldsymbol{v}_2\\| = 1\n",
    "$$\n",
    "\n",
    "となる。ここで $a_1$ と $a_2$ の生成するベクトル空間と $v_1$ と $v_2$ の生成するベクトル空間は一致している。"
   ]
  },
  {
   "cell_type": "markdown",
   "id": "77baf8a1-925d-4177-b80c-c245db0de1db",
   "metadata": {},
   "source": [
    "3番目のベクトル$\\boldsymbol{a}_3$について、$c_1 = \\langle \\boldsymbol{a}_3, \\boldsymbol{v}_1 \\rangle, c_2 = \\langle \\boldsymbol{a}_3, \\boldsymbol{v}_2 \\rangle$とおくと、\n",
    "\n",
    "$$\n",
    "\\langle\n",
    "\\boldsymbol{a}_3 - (c_1 \\boldsymbol{v}_1 + c_2 \\boldsymbol{v}_2), \\boldsymbol{v}_i\n",
    "\\rangle\n",
    "=0\n",
    "\\quad (i=1,2)\n",
    "$$\n",
    "\n",
    "となる。\n",
    "\n",
    "仮定より$a_1,a_2,a_3$は1次独立であり、$v_1,v_2$は$a_1,a_2$の1次結合で書き表されるから、$\\boldsymbol{a}_3 - (c_1 \\boldsymbol{v}_1 + c_2 \\boldsymbol{v}_2) \\neq \\boldsymbol{0}$である。\n",
    "よって\n",
    "\n",
    "$$\n",
    "\\boldsymbol{v}_3\n",
    "= \\frac{ \\boldsymbol{a}_3 - (c_1 \\boldsymbol{v}_1 + c_2 \\boldsymbol{v}_2) }\n",
    "{\\| \\boldsymbol{a}_3 - (c_1 \\boldsymbol{v}_1 + c_2 \\boldsymbol{v}_2)\\| }\n",
    "$$\n",
    "\n",
    "とすれば、\n",
    "\n",
    "$$\n",
    "\\langle \\boldsymbol{v}_3, \\boldsymbol{v}_i \\rangle = 0\n",
    "\\quad\n",
    "(i=1,2)\n",
    "\\quad\n",
    "\\| \\boldsymbol{v}_3 \\| = 1\n",
    "$$\n",
    "\n",
    "である。\n",
    "以下この操作を続ければよい。"
   ]
  },
  {
   "cell_type": "markdown",
   "id": "59d48b85-9905-4fb2-93fe-193e6a36d43a",
   "metadata": {},
   "source": [
    "厳密には、帰納法を使う\n",
    "\n",
    ":::{card}\n",
    "\n",
    "$1 \\leqq k<r$ なる $k$ に対して 正規直交系 $\\boldsymbol{v}_1, \\cdots, \\boldsymbol{v}_k$ が存在して $1 \\leqq i \\leqq k$ なる任意の $i$ に対して $\\boldsymbol{v}_1, \\cdots, \\boldsymbol{v}_i$ が生成するベクトル空間と $\\boldsymbol{a}_1, \\cdots, \\boldsymbol{a}_i$ が生成 するベクトル空間が一致すると仮定する。すなわち\n",
    "\n",
    "$$\n",
    "S\\left[\\boldsymbol{v}_1, \\cdots, \\boldsymbol{v}_i\\right]=S\\left[\\boldsymbol{a}_1, \\cdots, \\boldsymbol{a}_i\\right] \\quad(i=1, \\cdots, k)\n",
    "$$\n",
    "\n",
    "そのとき\n",
    "\n",
    "$$\n",
    "c_i=\\langle a_{k+1}, v_i\\rangle  \\quad(i=1, \\cdots, k)\n",
    "$$\n",
    "\n",
    "とおくと\n",
    "\n",
    "$$\n",
    "\\langle \\boldsymbol{a}_{k+1}-\\sum_{i=1}^k c_i \\boldsymbol{v}_i, \\boldsymbol{v}_j \\rangle\n",
    "= 0 \\quad(j=1, \\cdots, k)\n",
    "$$\n",
    "\n",
    "である。\n",
    "仮定より $\\boldsymbol{a}_1, \\cdots, \\boldsymbol{a}_k, \\boldsymbol{a}_{k+1}$ が 1次独立で、帰納法の仮定で $\\boldsymbol{v}_1, \\cdots, \\boldsymbol{v}_k$ は $\\boldsymbol{a}_1, \\cdots, \\boldsymbol{a}_k$ の 1 次結合で表わされるから、\n",
    "\n",
    "$$\n",
    "\\boldsymbol{a}_{k+1}-\\sum_{i=1}^k c_i \\boldsymbol{v}_i \\neq \\mathbf{0}\n",
    "$$\n",
    "\n",
    "よって\n",
    "\n",
    "$$\n",
    "\\boldsymbol{v}_{k+1}=\\frac{\\boldsymbol{a}_{k+1}-\\sum_{i=1}^k c_i \\boldsymbol{v}_i}{\\left\\|\\boldsymbol{a}_{k+1}-\\sum_{i=1}^k c_i \\boldsymbol{v}_i\\right\\|}\n",
    "$$\n",
    "\n",
    "とおくと、\n",
    "\n",
    "$$\n",
    "\\langle \\boldsymbol{v}_{k+1}, \\boldsymbol{v}_j\\rangle\n",
    "= 0 \\quad(j=1, \\cdots, k), \\quad\\left\\|\\boldsymbol{v}_{k+1}\\right\\|=1\n",
    "$$\n",
    "\n",
    "となる。帰納法の仮定と $\\boldsymbol{v}_{k+1}$ の定義の式から、$\\boldsymbol{v}_{k+1}$ は $\\boldsymbol{a}_1, \\cdots, \\boldsymbol{a}_{k+1}$ の1次結合で表わされ、同じ式から $\\boldsymbol{a}_{k+1}$ は $\\boldsymbol{v}_1, \\cdots, \\boldsymbol{v}_{k+1}$ の 1次結合で表わされるから、\n",
    "\n",
    "$$\n",
    "S\\left[\\boldsymbol{v}_1, \\cdots, \\boldsymbol{v}_{k+1}\\right]=S\\left[\\boldsymbol{a}_1, \\cdots, \\boldsymbol{a}_{k+1}\\right]\n",
    "$$\n",
    "\n",
    "が成り立つ。\n",
    ":::"
   ]
  },
  {
   "cell_type": "markdown",
   "id": "930e0ddb-b96d-40ff-81a0-852cbfbe754f",
   "metadata": {},
   "source": [
    ":::{admonition} 定理\n",
    ":class: tip\n",
    "\n",
    "内積空間 $V$ の任意の部分空間 $W$ は正規直交基底をもつ。とくに $V$ は正規直交基底をもつ。\n",
    ":::\n",
    "\n",
    ":::{dropdown} 証明\n",
    "\n",
    "$W$ の基底 $\\boldsymbol{a}_1, \\cdots, \\boldsymbol{a}_r$ をとり、これをシュミットの正規直交化法で正規直交系 $v_1, \\cdots, v_r$ をつくると\n",
    "\n",
    "$$\n",
    "S\\left[\\boldsymbol{v}_1, \\cdots, \\boldsymbol{v}_r\\right]=S\\left[\\boldsymbol{a}_1, \\cdots, \\boldsymbol{a}_r\\right]=W\n",
    "$$\n",
    "\n",
    "であるから、$v_1, \\cdots, v_r$ は $W$ の正規直交基底である。 とくに $W=V$ のときが定理の後半の主張である。\n",
    ":::"
   ]
  },
  {
   "cell_type": "code",
   "execution_count": 1,
   "id": "051ecf95-a61e-425d-91f6-ee4ae39debe8",
   "metadata": {},
   "outputs": [
    {
     "data": {
      "text/plain": [
       "array([[ 0.6, -0.8, -0. ],\n",
       "       [ 0.6,  0.4, -0.7],\n",
       "       [ 0.6,  0.4,  0.7]])"
      ]
     },
     "execution_count": 1,
     "metadata": {},
     "output_type": "execute_result"
    }
   ],
   "source": [
    "# 例\n",
    "import numpy as np\n",
    "\n",
    "a1 = np.array([1, 1, 1])\n",
    "a2 = np.array([0, 1, 1])\n",
    "a3 = np.array([0, 0, 1])\n",
    "\n",
    "v1 = a1 / np.linalg.norm(a1)\n",
    "c = a2 @ v1\n",
    "v2 = (a2 - c * v1) / np.linalg.norm(a2 - c * v1)\n",
    "\n",
    "c1 = a3 @ v1\n",
    "c2 = a3 @ v2\n",
    "v = a3 - (c1 * v1 + c2 * v2)\n",
    "v3 = (v) / np.linalg.norm(v)\n",
    "\n",
    "np.array([v1, v2, v3]).T.round(1)"
   ]
  },
  {
   "cell_type": "markdown",
   "id": "4fe5002e-a54b-4621-b1c0-c3319516e62f",
   "metadata": {},
   "source": [
    ":::{note}\n",
    "\n",
    "異なる固有値に属する固有ベクトルと行列の列ベクトルは直交しているので$c$が0になる → それぞれの固有ベクトル$x$で$x/\\|x\\|$を求めればいい\n",
    "\n",
    "例：\n",
    "\n",
    "$$\n",
    "A =\n",
    "\\begin{pmatrix}\n",
    "3 & 2\\\\\n",
    "2 & 3\n",
    "\\end{pmatrix}\n",
    "$$\n",
    "\n",
    "とする。固有値は$\\lambda=1, 5$であり、それぞれの固有値に対応する固有空間$V(\\lambda)$は\n",
    "\n",
    "$$\n",
    "V(1) =\\left\\{\\left.\n",
    " c \\begin{pmatrix} -1 \\\\ 1 \\end{pmatrix}\n",
    "\\right\\rvert\\, c \\in \\mathbb{R}\\right\\}\n",
    "\\\\\n",
    "V(5) =\\left\\{\\left.\n",
    " c \\begin{pmatrix} 1 \\\\ 1 \\end{pmatrix}\n",
    "\\right\\rvert\\, c \\in \\mathbb{R}\\right\\}\n",
    "$$\n",
    "\n",
    "固有ベクトルとして\n",
    "\n",
    "$$\n",
    "x_1 = \\begin{pmatrix} -1 \\\\ 1 \\end{pmatrix}\n",
    ", \\quad\n",
    "x_2 = \\begin{pmatrix} 1 \\\\ 1 \\end{pmatrix}\n",
    "$$\n",
    "\n",
    "を用いて正規直交化すると、まず$x_1$は\n",
    "\n",
    "$$\n",
    "p_1 = \\frac{x_1}{\\| x_1 \\|} = \\frac{1}{\\sqrt{2}}\\begin{pmatrix} -1 \\\\ 1 \\end{pmatrix}\n",
    "$$\n",
    "\n",
    "と直交化される。\n",
    "\n",
    "また$A$の列ベクトルを$a_1, a_2$とおくと\n",
    "\n",
    "$$\n",
    "\\begin{aligned}\n",
    "c &= \\langle a_2, p_1 \\rangle\\\\\n",
    "  &= 2 \\cdot (-\\frac{1}{\\sqrt{2}}) + 3 \\cdot \\frac{1}{\\sqrt{2}}\\\\\n",
    "  &= -\\frac{2}{\\sqrt{2}} + \\frac{3}{\\sqrt{2}}\\\\\n",
    "  &= \\frac{1}{\\sqrt{2}}\\\\\n",
    "\\end{aligned}\n",
    "$$\n",
    "\n",
    ":::"
   ]
  },
  {
   "cell_type": "code",
   "execution_count": 35,
   "id": "3a6eaa23-c22b-47cb-8700-1a0d80c65d7f",
   "metadata": {},
   "outputs": [
    {
     "data": {
      "text/latex": [
       "$\\displaystyle \\frac{\\sqrt{2}}{2}$"
      ],
      "text/plain": [
       "sqrt(2)/2"
      ]
     },
     "execution_count": 35,
     "metadata": {},
     "output_type": "execute_result"
    }
   ],
   "source": [
    "import sympy as sp\n",
    "\n",
    "A = sp.Matrix([\n",
    "    [3, 2],\n",
    "    [2, 3]\n",
    "])\n",
    "\n",
    "eig = A.eigenvects()\n",
    "x1 = eig[0][2][0]\n",
    "x2 = eig[1][2][0]\n",
    "\n",
    "a1 = A[:, 0]\n",
    "a2 = A[:, 1]\n",
    "\n",
    "p1 = x1 / x1.norm()\n",
    "c = (a2.T @ p1)[0]\n",
    "c"
   ]
  },
  {
   "cell_type": "code",
   "execution_count": 36,
   "id": "9c0964df-79ee-44ae-ab30-46af33592639",
   "metadata": {},
   "outputs": [
    {
     "data": {
      "text/latex": [
       "$\\displaystyle \\left[\\begin{matrix}-1 & 1\\\\1 & 1\\end{matrix}\\right]$"
      ],
      "text/plain": [
       "Matrix([\n",
       "[-1, 1],\n",
       "[ 1, 1]])"
      ]
     },
     "execution_count": 36,
     "metadata": {},
     "output_type": "execute_result"
    }
   ],
   "source": [
    "P = sp.Matrix(sp.GramSchmidt([x1, x2])).reshape(2,2).T\n",
    "P"
   ]
  },
  {
   "cell_type": "code",
   "execution_count": 37,
   "id": "21f070b7-060b-403a-9f62-0a58d6335212",
   "metadata": {},
   "outputs": [
    {
     "data": {
      "text/latex": [
       "$\\displaystyle \\left[\\begin{matrix}- \\frac{1}{2} & \\frac{1}{2}\\\\\\frac{1}{2} & \\frac{1}{2}\\end{matrix}\\right]$"
      ],
      "text/plain": [
       "Matrix([\n",
       "[-1/2, 1/2],\n",
       "[ 1/2, 1/2]])"
      ]
     },
     "execution_count": 37,
     "metadata": {},
     "output_type": "execute_result"
    }
   ],
   "source": [
    "P.inv()"
   ]
  },
  {
   "cell_type": "markdown",
   "id": "408847b6-2b8b-491d-abf9-7071b4ab90f7",
   "metadata": {},
   "source": [
    "### 計量を保つ写像\n",
    "\n",
    "2つの計量ベクトル空間（内積空間）$V, V^{\\prime}$ の間の線形写像 $f: V \\rightarrow V^{\\prime}$ が, 任意の $\\boldsymbol{x}, \\boldsymbol{y}$ $\\in V$ に対して等式\n",
    "\n",
    "$$\n",
    "\\langle f(\\boldsymbol{x}), f(\\boldsymbol{y}) \\rangle  =\\langle \\boldsymbol{x}, \\boldsymbol{y} \\rangle\n",
    "$$\n",
    "\n",
    "を満たすとき, $f$ は **計量を保つ**, または **内積を保つ** という。\n",
    "\n",
    "また、$f$を **計量同型写像** であるという。"
   ]
  },
  {
   "cell_type": "markdown",
   "id": "c2d17a16-4cc2-45b7-9cc7-5a409734ad35",
   "metadata": {},
   "source": [
    "### 直交変換\n",
    "\n",
    "$V = V'$のとき、計量同型写像$f: V\\to V$は **直交変換** という。\n"
   ]
  },
  {
   "cell_type": "markdown",
   "id": "d10310ad-5d88-4db4-9aa2-70b99538e460",
   "metadata": {},
   "source": [
    ":::{admonition} 定理\n",
    "\n",
    "$V$ を計量ベクトル空間， $\\boldsymbol{a}_1, \\cdots, \\boldsymbol{a}_n$ を $V$ の 1組の正規直交基底とする。線形変換 $f: V \\rightarrow V$ に関して、次の 2 つの条件は同値である。\n",
    "\n",
    "(1) $f$ は直交変換\n",
    "\n",
    "(2) $f\\left(\\boldsymbol{a}_1\\right), \\cdots, f\\left(\\boldsymbol{a}_n\\right)$ は $V$ の正規直交基底である\n",
    ":::\n",
    "\n",
    ":::{dropdown} 証明\n",
    "\n",
    "$(1) \\implies (2) \\quad f$ は直交変換であるから\n",
    "\n",
    "$$\n",
    "\\langle f(\\boldsymbol{a}_i), f(\\boldsymbol{a}_j)\\rangle\n",
    "= \\langle \\boldsymbol{a}_i, \\boldsymbol{a}_j\\rangle\n",
    "= \\delta_{i j} \\quad(1 \\leqq i, j \\leqq n)\n",
    "$$\n",
    "\n",
    "\n",
    "となる。つまり, $f(\\boldsymbol{a}_1), \\cdots, f(\\boldsymbol{a}_n)$ は $V$ の正規直交系である。定理よりこれらは 1 次独立であり、\n",
    "\n",
    "$$\n",
    "\\operatorname{dim} V=n\n",
    "$$\n",
    "\n",
    "であるので、$f\\left(\\boldsymbol{a}_1\\right), \\cdots, f\\left(\\boldsymbol{a}_n\\right)$ は正規直交基底である。\n",
    "\n",
    "$(1) \\Longleftarrow(2) \\quad V$ の任意のべクトル $\\boldsymbol{x}, \\boldsymbol{y}$ を\n",
    "\n",
    "$$\n",
    "\\boldsymbol{x}=x_1 \\boldsymbol{a}_1+\\cdots+x_n \\boldsymbol{a}_n, \\quad \\boldsymbol{y}=y_1 \\boldsymbol{a}_1+\\cdots+y_n \\boldsymbol{a}_n\n",
    "$$\n",
    "\n",
    "と表わすとき、定理より\n",
    "\n",
    "$$\n",
    "\\langle \\boldsymbol{x}, \\boldsymbol{y} \\rangle = x_1 y_1+\\cdots+x_n y_n\n",
    "$$\n",
    "\n",
    "である。また、$f$ は線形写像であるから\n",
    "\n",
    "$$\n",
    "f(\\boldsymbol{x}) = x_1 f(\\boldsymbol{a}_1) + \\cdots + x_n f(\\boldsymbol{a}_n),\n",
    "\\quad f(\\boldsymbol{y}) = y_1 f(\\boldsymbol{a}_1) + \\cdots + y_n f(\\boldsymbol{a}_n)\n",
    "$$\n",
    "\n",
    "\n",
    "であり，仮定より $f\\left(\\boldsymbol{a}_1\\right), \\cdots, f\\left(\\boldsymbol{a}_n\\right)$ は正規直交基底であるから，\n",
    "\n",
    "$$\n",
    "\\langle f(\\boldsymbol{x}), f(\\boldsymbol{y}) \\rangle = x_1 y_1+\\cdots+x_n y_n\n",
    "$$\n",
    "\n",
    "\n",
    "となる. よって等式\n",
    "\n",
    "$$\n",
    "\\langle f(\\boldsymbol{x}), f(\\boldsymbol{y}) \\rangle\n",
    "= \\langle \\boldsymbol{x}, \\boldsymbol{y} \\rangle\n",
    "$$\n",
    "\n",
    "が成り立つ。\n",
    ":::"
   ]
  },
  {
   "cell_type": "markdown",
   "id": "e39e992a-8bda-4d4d-af86-a8d83243ed23",
   "metadata": {},
   "source": [
    "### 直交行列\n",
    "\n",
    "$n$次正方行列$A$が\n",
    "\n",
    "$$\n",
    "A^T A = A A^T = E\n",
    "$$\n",
    "\n",
    "を満たすとき（つまり$A^T = A^{-1}$）のとき、$A$を直交行列という。\n",
    "\n"
   ]
  },
  {
   "cell_type": "markdown",
   "id": "a936e6f7-a585-4119-9b86-22bb8e161b5b",
   "metadata": {},
   "source": [
    ":::{admonition} 定理\n",
    "\n",
    "$A$ を $n$ 次正方行列とするとき, 次の 5 つの条件は同値である. ただし， $R^n$ には標準的内積を考える。\n",
    "\n",
    "（1） $A$ は直交行列である。\n",
    "\n",
    "（2） $A$ の列ベクトル全体は $\\mathbb{R}^n$ の正規直交基底である。\n",
    "\n",
    "（3） $A$ の行ベクトル全体は $\\mathbb{R}^n$ の正規直交基底である。\n",
    "\n",
    "（4） $A: \\mathbb{R}^n \\rightarrow \\mathbb{R}^n$ は計量を保つ。例えば$\\boldsymbol{x}, \\boldsymbol{y}\\in\\mathbb{R}^n$に対し、$\\langle A \\boldsymbol{x}, A \\boldsymbol{y} \\rangle = \\langle \\boldsymbol{x}, \\boldsymbol{y} \\rangle$\n",
    "\n",
    "（5） $A: \\mathbb{R}^n \\rightarrow \\mathbb{R}^n$ は長さを保つ。例えば$\\boldsymbol{x}\\in\\mathbb{R}^n$に対し、$\\| A \\boldsymbol{x} \\| = \\| \\boldsymbol{x} \\|$\n",
    "\n",
    "\n",
    ":::\n",
    "\n",
    "\n",
    ":::{dropdown} 証明\n",
    "\n",
    "$n$ 次正方行列 $A$ が与えられたとき、$A=\\left(\\boldsymbol{a}_1, \\cdots, \\boldsymbol{a}_n\\right)=\\left(\\begin{array}{c}\\boldsymbol{a}_1^{\\prime} \\\\ \\vdots \\\\ \\boldsymbol{a}_n^{\\prime}\\end{array}\\right)$ をそれぞれ $A$ の列ベクトル表示、行ベクトル表示とする。\n",
    "\n",
    "(1) $\\iff$ (2): \n",
    "$$\n",
    "\\begin{aligned}\n",
    "A \\text { は直交行列 } \\iff & A^T A = E\n",
    "\\\\\n",
    "\\iff & \\boldsymbol{a}_i^T \\boldsymbol{a}_j = \\langle \\boldsymbol{a}_i, \\boldsymbol{a}_j \\rangle =\\delta_{i j} \\quad(1 \\leqq i, j \\leqq n)\n",
    "\\\\\n",
    "& \\left( A^T A \\text { の }(i, j) \\text { 成分が } \\boldsymbol{a}_i^T \\boldsymbol{a}_j \\text { であるから }\\right)\n",
    "\\\\\n",
    "\\iff & \\boldsymbol{a}_1, \\cdots, \\boldsymbol{a}_n \\text { は } \\mathbb{R}^n \\text { の正規直交基底 }\n",
    "\\end{aligned}\n",
    "$$\n",
    "\n",
    "\n",
    "(2)$\\iff$ (4):\n",
    "\n",
    "$\\mathbb{R}^n$ の標準基底 $\\boldsymbol{e}_1, \\cdots, \\boldsymbol{e}_n$ は， $\\mathbb{R}^n$ の標準的な内積に関して正規直交基底である。そして\n",
    "\n",
    "$$\n",
    "A \\boldsymbol{e}_1 = \\boldsymbol{a}_1, \\cdots, A \\boldsymbol{e}_n = \\boldsymbol{a}_n\n",
    "$$\n",
    "\n",
    "であるから，定理より次の同値が成り立つ。\n",
    "$A: \\mathbb{R}^n \\rightarrow \\mathbb{R}^n$ は直交変換 $\\iff\\boldsymbol{a}, \\cdots, \\boldsymbol{a}$ は $\\mathbb{R}^n$ の正規直交基底\n",
    "\n",
    "\n",
    "\n",
    ":::"
   ]
  }
 ],
 "metadata": {
  "kernelspec": {
   "display_name": "Python 3 (ipykernel)",
   "language": "python",
   "name": "python3"
  },
  "language_info": {
   "codemirror_mode": {
    "name": "ipython",
    "version": 3
   },
   "file_extension": ".py",
   "mimetype": "text/x-python",
   "name": "python",
   "nbconvert_exporter": "python",
   "pygments_lexer": "ipython3",
   "version": "3.10.15"
  }
 },
 "nbformat": 4,
 "nbformat_minor": 5
}
