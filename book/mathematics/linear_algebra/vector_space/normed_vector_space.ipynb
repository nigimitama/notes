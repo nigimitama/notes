{
 "cells": [
  {
   "cell_type": "markdown",
   "id": "7bca15bb-783f-4948-ba08-bd71a6f3001c",
   "metadata": {},
   "source": [
    "# ノルム線型空間とヒルベルト空間"
   ]
  },
  {
   "cell_type": "markdown",
   "id": "70c99e55-1187-449c-b2b9-0eb51696f147",
   "metadata": {},
   "source": [
    "## ベクトル空間\n",
    "\n",
    ":::{admonition} （定義）ベクトル空間\n",
    "\n",
    "空でない集合$V$上に加法とスカラー倍が定義され、以下の法則が満たされているとき、$V$ **ベクトル空間** （vector space）、または、**線型空間** （linear space） であるという\n",
    "\n",
    "加法について、\n",
    "\n",
    "1. $u+v=v+u$\n",
    "2. $(u+v)+w=u+(v+w)$\n",
    "3. $V$ の中に 0 で表される 1 つ元があって、 $V$ の任意の元 $v$ に 対して $v+0=v$ が成り立つ\n",
    "4. $V$ の任意の元 $v$ に対して $v+v^{\\prime}=0$ となるような $V$ の元 $v^{\\prime}$ が存在する\n",
    "\n",
    "スカラー倍について\n",
    "\n",
    "1. $c(u+v)=c u+c v$\n",
    "2. $\\left(c_1+c_2\\right) v=c_1 v+c_2 v$\n",
    "3. $\\left(c_1 c_2\\right) v=c_1\\left(c_2 v\\right)$\n",
    "4. $1 v=v$\n",
    "\n",
    "ここで$u, v, w \\in V$、 $c, c_1, c_2 \\in \\mathbb{R}$である\n",
    ":::"
   ]
  },
  {
   "cell_type": "markdown",
   "id": "1c3ae6c3-4b20-48f0-8116-fc10e8b599b2",
   "metadata": {},
   "source": [
    "## 内積空間\n",
    "\n",
    "**内積空間** （inner product space, **計量空間** とも）は、内積が定義されたベクトル空間のこと。\n",
    "\n",
    ":::{admonition} 定義\n",
    "\n",
    "$\\mathbb{R}$ 上のベクトル空間 $V$ において、任意の2つのベクトル $\\boldsymbol{a}, \\boldsymbol{b}$ に対して実数 $\\langle \\boldsymbol{a}, \\boldsymbol{b} \\rangle$ が定まり、次の(1)～(4)を満たすとき、$\\langle \\boldsymbol{a}, \\boldsymbol{b} \\rangle$ を $\\boldsymbol{a}$ と $\\boldsymbol{b}$ の 内積 という。\n",
    "\n",
    "(1) $\\langle \\boldsymbol{a}, \\boldsymbol{b} \\rangle = \\langle \\boldsymbol{b}, \\boldsymbol{a} \\rangle$\n",
    "\n",
    "(2) $\\langle \\boldsymbol{a} + \\boldsymbol{b}, \\boldsymbol{c} \\rangle = \\langle \\boldsymbol{a}, \\boldsymbol{c} \\rangle + \\langle \\boldsymbol{b}, \\boldsymbol{c} \\rangle$\n",
    "\n",
    "(3) $\\langle k \\boldsymbol{a}, \\boldsymbol{b} \\rangle = k \\langle \\boldsymbol{a}, \\boldsymbol{b} \\rangle \\quad (k \\in \\mathbb{R})$\n",
    "\n",
    "(4) $\\langle \\boldsymbol{a}, \\boldsymbol{a} \\rangle \\geqq 0$ で，$\\langle \\boldsymbol{a}, \\boldsymbol{a} \\rangle = 0 \\Longleftrightarrow \\boldsymbol{a} = \\mathbf{0}$\n",
    "\n",
    "内積の定義されたベクトル空間を **計量ベクトル空間** や **計量空間** 、または **内積空間** という。\n",
    ":::\n"
   ]
  },
  {
   "cell_type": "markdown",
   "id": "4f1deceb-690b-409d-bf3a-60905f9b8f1e",
   "metadata": {},
   "source": [
    "## ノルム線型空間\n",
    "\n",
    "**ノルム線型空間** （normed vector space, **ノルム空間**） は、ノルムの定義されたベクトル空間のこと。\n",
    "\n",
    ":::{admonition} （定義）ノルム\n",
    "\n",
    "**ノルム** （norm）とは、以下を満たす関数 $\\| \\cdot \\| : X \\to \\mathbb{R}$\n",
    "\n",
    "1. $\\|x\\| \\geq 0, x \\in X$\n",
    "2. $\\|x\\|=0 \\Longleftrightarrow x=0$\n",
    "3. $\\|k x\\|=|k|\\|x\\|, x \\in X, k \\in \\mathbb{C}$\n",
    "4. $\\|x+y\\| \\leq\\|x\\|+\\|y\\|, x, y \\in X$ (三角不等式)\n",
    ":::"
   ]
  },
  {
   "cell_type": "markdown",
   "id": "b22816f8-c23b-4e83-b7d5-bd4ac8550295",
   "metadata": {},
   "source": [
    "## バナッハ空間\n",
    "\n",
    "完備なノルム空間を **バナッハ空間** （Banach space）という。"
   ]
  },
  {
   "cell_type": "markdown",
   "id": "32725633-f5a2-432d-91b2-f34a4435d8df",
   "metadata": {},
   "source": [
    ":::{admonition} 定義（バナッハ空間）\n",
    "\n",
    "完備なノルム空間を **バナッハ空間** (Banach space) という。\n",
    ":::\n",
    "\n",
    "[バナッハ空間とは～定義と具体例5つ～ | 数学の景色](https://mathlandscape.com/banach/)\n"
   ]
  },
  {
   "cell_type": "markdown",
   "id": "e724e1dc-73e0-4bd1-bd2f-9b09bf470b38",
   "metadata": {},
   "source": [
    ":::{admonition} 数におけるコーシー列\n",
    "\n",
    "実数または複素数またはその部分集合の列 $\\{ a_n\\}$ が **コーシー列 (Cauchy sequence)** であるとは、\n",
    "\n",
    "任意の $\\varepsilon>0$ に対し、 ある $N \\geq 1$ が存在して\n",
    "\n",
    "$$\n",
    "n, m \\geq N \\Longrightarrow |a_n-a_m|<\\varepsilon\n",
    "$$\n",
    "\n",
    "となることをいう。\n",
    ":::\n",
    "\n",
    "ようは、$n,m$を大きくするにつれて$|a_n-a_m|$はどんどん小さくなるということ。\n"
   ]
  },
  {
   "cell_type": "markdown",
   "id": "c3432edd-01f6-4122-99f8-f0c8c78d9986",
   "metadata": {},
   "source": [
    ":::{admonition} 数における完備性\n",
    "\n",
    "$A \\subset \\mathbb{R}(\\mathbb{C})$ とする。集合 $A$ が**完備** (complete)であるとは、\n",
    "$A$ 上の任意のコーシー列 $\\{a_n\\} \\subset A$ が $A$ 上の点に収束することである。\n",
    ":::\n",
    "\n",
    "「実数集合$\\mathbb{R}$や複素数集合$\\mathbb{C}$は完備である」という定理もある\n",
    "\n",
    "\n",
    "実数の連続性と密接な関係をもつ（[実数の連続性 - Wikipedia](https://ja.wikipedia.org/wiki/%E5%AE%9F%E6%95%B0%E3%81%AE%E9%80%A3%E7%B6%9A%E6%80%A7#:~:text=%E3%82%B3%E3%83%BC%E3%82%B7%E3%83%BC%E5%88%97)）\n"
   ]
  },
  {
   "cell_type": "markdown",
   "id": "cead09b9-24bd-4b46-b370-1bdb6fbb607c",
   "metadata": {},
   "source": [
    ":::{admonition} 距離空間におけるコーシー列\n",
    "\n",
    "$(X, d)$ を距離空間とし， $\\left\\{a_n\\right\\} \\subset X$ とする。これがコーシー列 (Cauchy sequence) であるとは,\n",
    "\n",
    "任意の $\\varepsilon>0$ に対し，ある $N \\geq 1$ が存在して，\n",
    "$$\n",
    "n, m \\geq N \\Longrightarrow d(a_n, a_m)<\\varepsilon\n",
    "$$\n",
    "\n",
    "となることをいう。\n",
    "\n",
    ":::\n",
    "\n",
    "ようは、$n,m$を大きくするにつれて$d(a_n, a_m)$はどんどん小さくなるということ"
   ]
  },
  {
   "cell_type": "markdown",
   "id": "d3b8f634-6fe1-4432-b3c6-3952fc63ad6a",
   "metadata": {},
   "source": [
    ":::{admonition} 距離空間における完備性\n",
    "\n",
    "$(X, d)$ は距離空間とする。 $X$ が **完備** (complete) であるとは， $X$ における任意のコーシー列が収束列になる(収束先が $X$ 上に存在する)ことである。\n",
    "\n",
    "完備である距離空間を **完備距離空間** (complete metric space) という。\n",
    ":::\n",
    "\n",
    "[完備とは～実数の完備性・距離空間の完備性～ | 数学の景色](https://mathlandscape.com/complete-space/)"
   ]
  },
  {
   "cell_type": "markdown",
   "id": "a292e616-a82c-437c-994a-526919898af8",
   "metadata": {},
   "source": [
    "## ヒルベルト空間\n",
    "\n",
    "完備な計量空間を **ヒルベルト空間** という。"
   ]
  },
  {
   "cell_type": "markdown",
   "id": "a9d53dfd-079d-4c55-a2bc-bdb771c6866c",
   "metadata": {},
   "source": [
    ":::{card} ベクトルの収束\n",
    "\n",
    "計量空間 $\\mathcal{L}$ の元の無限列 $\\left\\{\\boldsymbol{u}_k\\right\\}$ が $k \\rightarrow \\infty$ で $\\boldsymbol{u} \\in \\mathcal{L}$ に **収束** するとは、$\\boldsymbol{u}_{\\boldsymbol{k}}$ と $\\boldsymbol{u}$ との距離が0に近づくこと、つまり$\\lim _{k \\rightarrow \\infty}\\left\\|\\boldsymbol{u}_k-\\boldsymbol{u}\\right\\|=0$であると約束する。この収束を普通の収束と区別して **ノルム収束** や **強収束** と呼ぶこともある。\n",
    ":::\n",
    "\n",
    "計量空間$\\mathcal{L}$の2つの元$\\boldsymbol{u}, \\boldsymbol{v}$が近いかどうかを測りたい場合を考える。計量空間には内積とノルムが定義されているので、ノルム$\\| \\boldsymbol{u}, \\boldsymbol{v} \\|$で距離を測ることができる。\n",
    "\n",
    "計量空間 $\\mathcal{L}$ の元の無限列 $\\left\\{\\boldsymbol{u}_k\\right\\}$ が $\\lim _{k, l \\rightarrow \\infty}\\left\\|\\boldsymbol{u}_k-\\boldsymbol{u}_l\\right\\|=0$ のとき、これを **コーシー列** という。 $\\mathcal{L}$ の任意のコーシー列が $\\mathcal{L}$ のある元に収束するとき、 $\\mathcal{L}$ は **完備** であるという。 完備な計量空間を **ヒルベルト空間** という。"
   ]
  },
  {
   "cell_type": "markdown",
   "id": "430f30cb-35ef-442c-b79e-6a84f37972cb",
   "metadata": {},
   "source": [
    ":::{card}\n",
    "\n",
    "**ヒルベルト空間** （Hilbert space）は、ユークリッド空間の概念を一般化した空間で、二次元のユークリッド平面や三次元のユークリッド空間における線型代数学や微分積分学の方法論を、任意の有限または無限次元の空間へ拡張して持ち込むことができる。ヒルベルト空間は、内積の構造を備えた抽象ベクトル空間（内積空間）で、完備距離空間の構造を備えている（極限が十分に存在することが保証されている）ので、その中で微分積分学がきちんと展開できる。（[ヒルベルト空間 - Wikipedia](https://ja.wikipedia.org/wiki/%E3%83%92%E3%83%AB%E3%83%99%E3%83%AB%E3%83%88%E7%A9%BA%E9%96%93)）\n",
    ":::"
   ]
  },
  {
   "cell_type": "markdown",
   "id": "79332f2a-998a-4ea5-8064-96d14658d6d9",
   "metadata": {},
   "source": [
    "## 再生核ヒルベルト空間\n",
    "\n",
    "**再生核ヒルベルト空間** （reproducing kernel hilbert space: RKHS）は点評価が連続線形汎函数であるような関数から成るヒルベルト空間\n",
    "\n",
    "関数を「再生する」とは、関数の定義域内の任意の$x$に対して、その関数の「$x$での評価」が、核から生成される関数との内積をとることで可能であること。\n",
    "\n",
    "内積計算が元空間のカーネルで計算できる → カーネルトリックが使える\n",
    "\n",
    "[再生核Hilbert空間 - 機械学習の「朱鷺の杜Wiki」](https://ibisforest.org/index.php?%E5%86%8D%E7%94%9F%E6%A0%B8Hilbert%E7%A9%BA%E9%96%93)\n"
   ]
  },
  {
   "cell_type": "markdown",
   "id": "a3be825b-4ba9-4056-bef2-1dbd7d782c06",
   "metadata": {},
   "source": [
    "## ガトー微分\n",
    "\n",
    "**ガトー微分** （Gâteaux derivative） は微分学における方向微分の概念の一般化で、バナハ空間などの局所凸位相線型空間の間の函数に対して定義される。\n"
   ]
  }
 ],
 "metadata": {
  "kernelspec": {
   "display_name": "Python 3 (ipykernel)",
   "language": "python",
   "name": "python3"
  },
  "language_info": {
   "codemirror_mode": {
    "name": "ipython",
    "version": 3
   },
   "file_extension": ".py",
   "mimetype": "text/x-python",
   "name": "python",
   "nbconvert_exporter": "python",
   "pygments_lexer": "ipython3",
   "version": "3.10.15"
  }
 },
 "nbformat": 4,
 "nbformat_minor": 5
}
