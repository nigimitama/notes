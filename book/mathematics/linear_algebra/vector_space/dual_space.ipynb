{
 "cells": [
  {
   "cell_type": "markdown",
   "id": "0936571a-e591-40e0-ba46-aca0d1091f8c",
   "metadata": {},
   "source": [
    "# 双対空間\n",
    "\n",
    "\n",
    "ベクトル空間の **双対ベクトル空間** （dual vector space）あるいは **双対空間** （dual space）は、そのベクトル空間上の線形写像全体の成す空間\n",
    "\n",
    "$V, W$を$\\mathbb{R}$上のベクトル空間とする。線形写像$f: V \\longrightarrow W$全体の集合を $\\operatorname{Hom}_\\mathbb{R}(V, W)$ と表す。すなわち、\n",
    "\n",
    "$$\n",
    "\\operatorname{Hom}_\\mathbb{R}(V, W)\n",
    "= \\{f: V \\longrightarrow W \\mid f \\text { は線形写像 }\\}\n",
    "$$\n",
    "\n",
    "である。\n",
    "\n",
    ":::{admonition} 定義（双対空間）\n",
    "\n",
    "$f: V \\longrightarrow \\mathbb{R}$ の全体の集合 $\\operatorname{Hom}_\\mathbb{R}(V, \\mathbb{R})$ を $V$の **双対空間** とよび、$V^*$と表す。\n",
    "\n",
    "$$\n",
    "V^* = \\operatorname{Hom}_\\mathbb{R}(V, \\mathbb{R})\n",
    "= \\{f: V \\longrightarrow \\mathbb{R} \\mid f \\text { は線形写像 }\\}\n",
    "$$\n",
    "\n",
    "\n",
    "\n",
    "（Hom は数学的な構造を保つ写像に対して用いられる「準同型写像」を意味する英単語”homo morphism”を略したものである。）。\n",
    "\n",
    ":::\n",
    "\n"
   ]
  },
  {
   "cell_type": "code",
   "execution_count": null,
   "id": "601f16d8-62ef-431f-a63f-796dc063275d",
   "metadata": {},
   "outputs": [],
   "source": []
  }
 ],
 "metadata": {
  "kernelspec": {
   "display_name": "Python 3 (ipykernel)",
   "language": "python",
   "name": "python3"
  },
  "language_info": {
   "codemirror_mode": {
    "name": "ipython",
    "version": 3
   },
   "file_extension": ".py",
   "mimetype": "text/x-python",
   "name": "python",
   "nbconvert_exporter": "python",
   "pygments_lexer": "ipython3",
   "version": "3.10.15"
  }
 },
 "nbformat": 4,
 "nbformat_minor": 5
}
