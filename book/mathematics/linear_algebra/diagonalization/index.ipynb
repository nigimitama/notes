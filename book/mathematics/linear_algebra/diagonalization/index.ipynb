{
 "cells": [
  {
   "cell_type": "markdown",
   "id": "b7fe7f66-c9cb-4c36-a953-01fd44ba4e1a",
   "metadata": {},
   "source": [
    "# 対角化"
   ]
  },
  {
   "cell_type": "markdown",
   "id": "849784b2-295c-49e6-90f0-786fceefb002",
   "metadata": {},
   "source": [
    ":::{tableofcontents}\n",
    ":::"
   ]
  }
 ],
 "metadata": {
  "kernelspec": {
   "display_name": "Python 3 (ipykernel)",
   "language": "python",
   "name": "python3"
  },
  "language_info": {
   "codemirror_mode": {
    "name": "ipython",
    "version": 3
   },
   "file_extension": ".py",
   "mimetype": "text/x-python",
   "name": "python",
   "nbconvert_exporter": "python",
   "pygments_lexer": "ipython3",
   "version": "3.10.15"
  }
 },
 "nbformat": 4,
 "nbformat_minor": 5
}
