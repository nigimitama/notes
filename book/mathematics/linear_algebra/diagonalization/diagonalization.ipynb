{
 "cells": [
  {
   "cell_type": "markdown",
   "id": "17056b4c-c67b-4ed3-9c85-90c4111b405f",
   "metadata": {},
   "source": [
    "# 対角化の概要"
   ]
  },
  {
   "cell_type": "markdown",
   "id": "d4c1d17d-5287-4edc-846c-177b9fc3b4a0",
   "metadata": {},
   "source": [
    "## 対角化可能\n",
    "\n",
    "$V$を$\\mathbb{R}$上の有限次元ベクトル空間、$F$を$V$の線形変換とする。$V$の適当な基底$\\mathcal{B}$をとれば、それに関する$F$の表現行列\n",
    "\n",
    "$$\n",
    "[F]_{\\mathcal{B}}\n",
    "$$\n",
    "\n",
    "が対角行列となるとき、$F$は **対角化可能** であるという。\n",
    "\n",
    "\n",
    "また、行列$A\\in M_n(\\mathbb{R})$に対して、適当な正則行列$P\\in M(\\mathbb{R})$をとり、\n",
    "\n",
    "$$\n",
    "P^{-1} A P\n",
    "= \\begin{pmatrix}\n",
    "\\lambda_1 & 0 & 0 & 0\\\\\n",
    "0 & \\lambda_2 & 0 & 0\\\\\n",
    "0 & 0 & \\ddots & 0\\\\\n",
    "0 & 0 & 0 & \\lambda_n\n",
    "\\end{pmatrix}\n",
    "$$\n",
    "\n",
    "となるとき、$A$は $\\mathbb{R}$ **において対角化可能** であるという。\n"
   ]
  },
  {
   "cell_type": "markdown",
   "id": "b635e5a2-cadf-4829-a8e2-3f6cad88744f",
   "metadata": {},
   "source": [
    "## 対角化できると何が嬉しいか\n",
    "\n",
    ":::{card} **例：$n$乗の計算がラクになる**\n",
    "\n",
    "$$\n",
    "\\begin{align}\n",
    "(P^{-1} A P)^n\n",
    "&= (P^{-1} A \\underbrace{ P) (P^{-1} }_{I} A P) \\cdots (P^{-1} A P)\\\\\n",
    "&= P^{-1} A^n P\n",
    "\\end{align}\n",
    "$$\n",
    "\n",
    "なので\n",
    "\n",
    "$$\n",
    "\\begin{align}\n",
    "A^n\n",
    "&= P (P^{-1} A P)^n P^{-1}\\\\\n",
    "&= P\n",
    "\\begin{pmatrix}\n",
    "\\lambda_1^n & 0 & 0 & 0\\\\\n",
    "0 & \\lambda_2^n & 0 & 0\\\\\n",
    "0 & 0 & \\ddots & 0\\\\\n",
    "0 & 0 & 0 & \\lambda_p^n\n",
    "\\end{pmatrix}\n",
    "P^{-1}\n",
    "\\end{align}\n",
    "$$\n",
    "\n",
    "となる\n",
    "\n",
    "（参考：[【大学数学】線形代数入門⑬(対角化：重解がない場合)【線形代数】 - YouTube](https://www.youtube.com/watch?v=FTC_aekgqCg)）\n",
    ":::"
   ]
  },
  {
   "cell_type": "markdown",
   "id": "6b9b5b26-d1ef-4ae1-9b79-658f3025ced3",
   "metadata": {},
   "source": [
    ":::{card} 例：2次曲線が「標準形」というシンプルな形になる\n",
    "\n",
    "実数を係数とする $x, y$ の 2 次方程式\n",
    "\n",
    "$$\n",
    "a x^2+2 b x y+c y^2+2 d x+2 e y+f=0\n",
    "$$\n",
    "\n",
    "\n",
    "は2次曲線とも呼ばれ、\n",
    "\n",
    "$$\n",
    "\\left(\\begin{array}{ll}\n",
    "x & y\n",
    "\\end{array}\\right)\\left(\\begin{array}{ll}\n",
    "a & b \\\\\n",
    "b & c\n",
    "\\end{array}\\right)\\binom{x}{y}+2\\left(\\begin{array}{ll}\n",
    "d & e\n",
    "\\end{array}\\right)\\binom{x}{y}+f=0\n",
    "$$\n",
    "\n",
    "\n",
    "と表される。ここで、行列 $\\left(\\begin{array}{ll}a & b \\\\ b & c\\end{array}\\right)$ は対称行列であることに注意しよう。対称行列の直交行列による対角化を用いると、上記のような方程式を**標準形**という、よりわかりやすい式で表すことができる。例えば、楕円、双曲線、放物線の標準形 はそれぞれ\n",
    "\n",
    "$$\n",
    "\\frac{x^2}{a^2}+\\frac{y^2}{b^2}=1, \\quad \\frac{x^2}{a^2}-\\frac{y^2}{b^2}=1, \\quad y=a x^2\n",
    "$$\n",
    "\n",
    "\n",
    "で表される。ただし、 $a, b$ は 0 ではない定数である。\n",
    ":::"
   ]
  },
  {
   "cell_type": "markdown",
   "id": "c612e610-aad2-4772-bc6c-060fa37ae80c",
   "metadata": {},
   "source": [
    "## 対角化の方法\n",
    "\n",
    "- 一部の実行列 → 固有ベクトルで対角化可能\n",
    "- 実対称行列 → 直交行列により対角化可能\n",
    "- 上記で無理な場合 → ジョルダン標準形 という対角行列に近い形に簡約化"
   ]
  }
 ],
 "metadata": {
  "kernelspec": {
   "display_name": "Python 3 (ipykernel)",
   "language": "python",
   "name": "python3"
  },
  "language_info": {
   "codemirror_mode": {
    "name": "ipython",
    "version": 3
   },
   "file_extension": ".py",
   "mimetype": "text/x-python",
   "name": "python",
   "nbconvert_exporter": "python",
   "pygments_lexer": "ipython3",
   "version": "3.10.15"
  }
 },
 "nbformat": 4,
 "nbformat_minor": 5
}
