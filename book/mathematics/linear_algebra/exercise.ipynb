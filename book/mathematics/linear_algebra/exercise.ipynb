{
 "cells": [
  {
   "cell_type": "markdown",
   "id": "75e211ea-ed94-4f4e-9b33-5a850e193d09",
   "metadata": {},
   "source": [
    "# 練習問題"
   ]
  },
  {
   "cell_type": "markdown",
   "id": "4fb6389b-e482-46e9-bf38-327b0c908067",
   "metadata": {},
   "source": [
    "## 問1.1\n",
    "\n",
    "$3 \\times 2$行列\n",
    "$$\n",
    "\\left(\\begin{array}{cc}\n",
    "7 & 8 \\\\\n",
    "9 & 10 \\\\\n",
    "11 & 12\n",
    "\\end{array}\\right)$$\n",
    "の$(2,1)$成分、第2行、第1列をそれぞれ答えよ。"
   ]
  },
  {
   "cell_type": "markdown",
   "id": "59e41703-8e9b-4c42-977a-f378cea5a3c3",
   "metadata": {},
   "source": [
    "- (2,1)成分→9\n",
    "- 第2行→$(9, 10)$\n",
    "- 第1列→$(7, 9, 11)^T$"
   ]
  },
  {
   "cell_type": "markdown",
   "id": "956c1955-9e17-4507-98f8-3bbbcfb5d239",
   "metadata": {},
   "source": [
    "## 問1.2\n",
    "\n",
    "3 次の正方行列 A を\n",
    "\n",
    "$$\n",
    "A=\\left(\\begin{array}{lll}\n",
    "a_{11} & a_{12} & a_{14} \\\\\n",
    "a_{21} & a_{22} & a_{23} \\\\\n",
    "a_{31} & a_{32} & a_{33}\n",
    "\\end{array}\\right)\n",
    "$$\n",
    "\n",
    "と表す。\n",
    "\n",
    "> 1. A の対角成分を答えよ。\n",
    "\n",
    "対角成分：$(a_{11}, a_{22}, a_{33})$"
   ]
  },
  {
   "cell_type": "markdown",
   "id": "e732ccb9-54a8-4b43-b725-203ad43455a4",
   "metadata": {},
   "source": [
    "> A が対角行列、スカラー行列、上三角行列、下三角行列となるとき、A をそ\n",
    "れぞれ具体的に表せ。\n",
    "\n",
    "スカラー行列\n"
   ]
  },
  {
   "cell_type": "code",
   "execution_count": null,
   "id": "8808b926-045c-4637-95a0-686e2ec0c8c1",
   "metadata": {},
   "outputs": [],
   "source": []
  },
  {
   "cell_type": "code",
   "execution_count": null,
   "id": "7f441f7d-1bf0-4bc3-9bad-bc4a54af2c63",
   "metadata": {},
   "outputs": [],
   "source": []
  }
 ],
 "metadata": {
  "kernelspec": {
   "display_name": "Python 3 (ipykernel)",
   "language": "python",
   "name": "python3"
  },
  "language_info": {
   "codemirror_mode": {
    "name": "ipython",
    "version": 3
   },
   "file_extension": ".py",
   "mimetype": "text/x-python",
   "name": "python",
   "nbconvert_exporter": "python",
   "pygments_lexer": "ipython3",
   "version": "3.9.18"
  }
 },
 "nbformat": 4,
 "nbformat_minor": 5
}
