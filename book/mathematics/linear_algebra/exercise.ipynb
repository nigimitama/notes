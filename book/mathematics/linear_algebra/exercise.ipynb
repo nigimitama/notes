{
 "cells": [
  {
   "cell_type": "markdown",
   "id": "75e211ea-ed94-4f4e-9b33-5a850e193d09",
   "metadata": {},
   "source": [
    "# 線形代数 練習問題 メモ"
   ]
  },
  {
   "cell_type": "markdown",
   "id": "4fb6389b-e482-46e9-bf38-327b0c908067",
   "metadata": {},
   "source": [
    "## 問1.1\n",
    "\n",
    "$3 \\times 2$行列\n",
    "\n",
    "$$\n",
    "\\left(\\begin{array}{cc}\n",
    "7 & 8 \\\\\n",
    "9 & 10 \\\\\n",
    "11 & 12\n",
    "\\end{array}\\right)\n",
    "$$\n",
    "\n",
    "の$(2,1)$成分、第2行、第1列をそれぞれ答えよ。"
   ]
  },
  {
   "cell_type": "markdown",
   "id": "59e41703-8e9b-4c42-977a-f378cea5a3c3",
   "metadata": {},
   "source": [
    "- (2,1)成分→9\n",
    "- 第2行→$(9, 10)$\n",
    "- 第1列→$(7, 9, 11)^T$"
   ]
  },
  {
   "cell_type": "markdown",
   "id": "956c1955-9e17-4507-98f8-3bbbcfb5d239",
   "metadata": {},
   "source": [
    "## 問1.2\n",
    "\n",
    "3 次の正方行列 A を\n",
    "\n",
    "$$\n",
    "A=\\left(\\begin{array}{lll}\n",
    "a_{11} & a_{12} & a_{14} \\\\\n",
    "a_{21} & a_{22} & a_{23} \\\\\n",
    "a_{31} & a_{32} & a_{33}\n",
    "\\end{array}\\right)\n",
    "$$\n",
    "\n",
    "と表す。\n",
    "\n",
    "> 1. A の対角成分を答えよ。\n",
    "\n",
    "対角成分：$(a_{11}, a_{22}, a_{33})$"
   ]
  },
  {
   "cell_type": "markdown",
   "id": "e732ccb9-54a8-4b43-b725-203ad43455a4",
   "metadata": {},
   "source": [
    "> A が対角行列、スカラー行列、上三角行列、下三角行列となるとき、A をそ\n",
    "れぞれ具体的に表せ。\n",
    "\n",
    "対角行列\n",
    "\n",
    "$$\n",
    "A=\\left(\\begin{array}{lll}\n",
    "a_{11} & 0 & 0 \\\\\n",
    "0 & a_{22} & 0 \\\\\n",
    "0 & 0 & a_{33}\n",
    "\\end{array}\\right)\n",
    "$$\n",
    "\n",
    "スカラー行列\n",
    "\n",
    "$$\n",
    "A=\\left(\\begin{array}{lll}\n",
    "a_{11} & 0 & 0 \\\\\n",
    "0 & a_{11} & 0 \\\\\n",
    "0 & 0 & a_{11}\n",
    "\\end{array}\\right)\n",
    "= a_{11} I\n",
    "$$\n",
    "\n",
    "上三角\n",
    "\n",
    "\n",
    "$$\n",
    "A=\\left(\\begin{array}{lll}\n",
    "a_{11} & a_{12} & a_{14} \\\\\n",
    "0 & a_{22} & a_{23} \\\\\n",
    "0 & 0 & a_{33}\n",
    "\\end{array}\\right)\n",
    "$$\n",
    "\n",
    "下三角\n",
    "\n",
    "$$\n",
    "A=\\left(\\begin{array}{lll}\n",
    "a_{11} & 0 & 0 \\\\\n",
    "a_{21} & a_{22} & 0 \\\\\n",
    "a_{31} & a_{32} & a_{33}\n",
    "\\end{array}\\right)\n",
    "$$\n"
   ]
  },
  {
   "cell_type": "markdown",
   "id": "4192d7c5-1162-4191-90ea-4e157562e4b4",
   "metadata": {},
   "source": [
    "## 問1.3 \n",
    "\n",
    "> クロネッカーのデルタ δij (i, j = 1, 2, · · · , n) について、i, j = 1, 2, 3 のとき、δij\n",
    "の値を求めよ。\n",
    "\n",
    "クロネッカーのデルタは\n",
    "\n",
    "$$\n",
    "\\delta_{ij} =\n",
    "\\begin{cases}\n",
    "    1 & (i = j)\\\\\n",
    "    0 & (i \\neq j)\n",
    "\\end{cases}\n",
    "$$\n",
    "\n",
    "なので、\n",
    "\n",
    "$$\n",
    "\\delta_{11} = \\delta_{22} = \\delta_{33} = 1\\\\\n",
    "\\delta_{12} = \\delta_{13} = \\delta_{21} = \\delta_{23} = \\delta_{31} = \\delta_{32} = 0\\\\\n",
    "$$\n",
    "\n"
   ]
  },
  {
   "cell_type": "markdown",
   "id": "5e310e07-e497-4035-ac0c-2d98475e18f4",
   "metadata": {},
   "source": [
    "## 問1.4\n",
    "\n",
    "> 3 × 2 行列 $\n",
    "\\left(\\begin{array}{ll}\n",
    "5 & 4 \\\\\n",
    "3 & 2 \\\\\n",
    "1 & 0\n",
    "\\end{array}\\right)\n",
    "$\n",
    "の転置行列を求めよ。\n",
    "\n",
    "$$\n",
    "\\left(\\begin{array}{ll}\n",
    "5 & 3 & 1\\\\\n",
    "4 & 2 & 0\n",
    "\\end{array}\\right)\n",
    "$$\n"
   ]
  },
  {
   "cell_type": "markdown",
   "id": "7f3e0914-dafc-4f0f-a9dd-87e89ce3c56c",
   "metadata": {},
   "source": [
    "## 問1.5\n",
    "\n",
    "> 次の 1、2 の等式が成り立つように a, b, c の値を求めよ。\n",
    "\n",
    "> 1.\n",
    "$$\n",
    "\\left(\\begin{array}{ll}\n",
    "a^2+b^2 & a b+b c \\\\\n",
    "a b+b c & b^2+c^2\n",
    "\\end{array}\\right)=\\left(\\begin{array}{ll}\n",
    "1 & 0 \\\\\n",
    "0 & 4\n",
    "\\end{array}\\right)\n",
    "$$\n"
   ]
  },
  {
   "cell_type": "markdown",
   "id": "20c41d43-46f7-4acb-a9fc-cbe877f05170",
   "metadata": {},
   "source": [
    "※行列を使うとかではないらしい\n",
    "\n",
    "$$\n",
    "a^2 + b^2 = 1\\\\\n",
    "ab + bc = 0\\\\\n",
    "b^2 + c^2 = 4\n",
    "$$\n",
    "\n",
    "$ab + bc = 0 \\to b(a+c)=0$\n",
    "\n",
    "より、$b = 0$ or $a + c = 0$の可能性がある\n"
   ]
  },
  {
   "cell_type": "markdown",
   "id": "fd0aedbd-076b-469c-b0d3-92930f64cd5e",
   "metadata": {},
   "source": [
    "$$\n",
    "ab = - bc\n",
    "$$\n",
    "\n",
    "のため"
   ]
  },
  {
   "cell_type": "markdown",
   "id": "75f5d529-8966-407d-ae39-3360fbf80fa5",
   "metadata": {},
   "source": [
    "$a+c=0$について検討する\n",
    "\n",
    "$$\n",
    "(a^2 + b^2) - (b^2 + c^2) = 1 - 4\\\\\n",
    "\\to a^2 - c^2 = -3\\\\\n",
    "\\to \\sqrt{ a^2 - c^2 } = \\sqrt{ -3 }\\\\\n",
    "\\to a - c = \\sqrt{ -3 }\\\\\n",
    "\\to a = \\sqrt{ -3 } + c\\\\\n",
    "\\to a + c = \\sqrt{ -3 } + 2c \\neq 0\\\\\n",
    "$$\n",
    "\n"
   ]
  },
  {
   "cell_type": "markdown",
   "id": "dd630f31-d1aa-41bc-ac09-95045ecc8300",
   "metadata": {},
   "source": [
    "よって$b = 0$の可能性のみになるので、\n",
    "\n",
    "$$\n",
    "a^2 + b^2 = a^2 = 1 \\to a = \\pm 1\\\\\n",
    "b^2 + c^2 = c^2 = 4 \\to c = \\pm 2\\\\\n",
    "$$"
   ]
  },
  {
   "cell_type": "markdown",
   "id": "be30f8ba-05df-4578-b4dc-89f5e5e9738d",
   "metadata": {},
   "source": [
    "> 2.\n",
    "$$\n",
    "\\left(\\begin{array}{ccc}\n",
    "a^2+b^2 & 1 & 2 a c \\\\\n",
    "1 & 1 & 1 \\\\\n",
    "2 c a & 1 & b^2+c^2\n",
    "\\end{array}\\right)=\\left(\\begin{array}{ccc}\n",
    "1 & 2 b c & 1 \\\\\n",
    "2 b c & c^2+a^2 & 2 a b \\\\\n",
    "1 & 2 a c & 1\n",
    "\\end{array}\\right)\n",
    "$$\n"
   ]
  },
  {
   "cell_type": "markdown",
   "id": "d472fffc-3d71-4b1a-af1c-6ff32bd9160b",
   "metadata": {},
   "source": [
    "$$\n",
    "\\begin{cases}\n",
    "\\begin{align}\n",
    "a^2 + b^2 &= 1\\\\\n",
    "b^2 + c^2 &= 1\\\\\n",
    "c^2 + a^2 &= 1\\\\\n",
    "2ab &= 1\\\\\n",
    "2ac &= 1\\\\\n",
    "2bc &= 1\\\\\n",
    "\\end{align}\n",
    "\\end{cases}\n",
    "$$\n",
    "\n",
    "という連立方程式とする"
   ]
  },
  {
   "cell_type": "markdown",
   "id": "de2212bd-9338-426a-8439-a23d41d0d51e",
   "metadata": {},
   "source": [
    "$$\n",
    "\\begin{align}\n",
    "(a^2 + b^2) - (b^2 + c^2) &= 1 - 1\\\\\n",
    "\\to a^2 - c^2 &= 0 \\\\\n",
    "\\to a^2 = c^2\n",
    "\\\\\n",
    "(a^2 + b^2) - (a^2 + c^2) &= 1 - 1\\\\\n",
    "\\to b^2 - c^2 &= 0 \\\\\n",
    "\\to b^2 = c^2\n",
    "\\\\\n",
    "\\therefore a^2 = b^2 = c^2\n",
    "\\end{align}\n",
    "$$\n"
   ]
  },
  {
   "cell_type": "markdown",
   "id": "4a93f1e7-65f3-4054-8732-ef04eacd87cd",
   "metadata": {},
   "source": [
    "$$\n",
    "a^2 + b^2 = 1\\\\\n",
    "\\to 2 a^2 = 1\\\\\n",
    "\\to a^2 = \\frac{1}{2}\\\\\n",
    "$$\n",
    "\n",
    "両辺に平方根をかけて\n",
    "\n",
    "$$\n",
    "\\sqrt{a^2} = \\sqrt{\\frac{1}{2}}\n",
    "$$\n",
    "\n",
    "$a$の符号はわからないので\n",
    "\n",
    "$$\n",
    "|a| = \\sqrt{\\frac{1}{2}}\n",
    "$$\n",
    "\n",
    "平方根を単純化する\n",
    "\n",
    "$$\n",
    "|a| = \\frac{1}{\\sqrt{2}}\n",
    "$$\n",
    "\n",
    "有理化する\n",
    "\n",
    "$$\n",
    "|a| = \\frac{1}{\\sqrt{2}} \\times \\frac{ \\sqrt{2} }{ \\sqrt{2} } = \\frac{ \\sqrt{2} }{2}\n",
    "$$\n",
    "\n",
    "したがって\n",
    "\n",
    "$$\n",
    "a = \\pm \\frac{ \\sqrt{2} }{2}\n",
    "$$\n",
    "\n",
    "\n",
    "\n",
    "\n"
   ]
  },
  {
   "cell_type": "markdown",
   "id": "93d32811-a720-4724-9c7a-46d22fa56ef6",
   "metadata": {},
   "source": [
    "同様に\n",
    "\n",
    "$$\n",
    "a^2  = b^2 = c^2 = \\frac{1}{2}\\\\\n",
    "a = b = c = \\pm \\frac{\\sqrt{2} }{2}\\\\\n",
    "$$"
   ]
  },
  {
   "cell_type": "markdown",
   "id": "11145c7f-7f68-4c9f-9b60-4d579c4d0df4",
   "metadata": {},
   "source": [
    "## 問1.6 \n",
    "\n",
    "> A を (i, j) 成分が次の 1～4 により定められる 3 次の正方行列とする。A をそれぞれ具体的に表せ。\n",
    "\n",
    "1. $a_{i j}=i+j$\n",
    "2. $a_{i j}=i j$\n",
    "3. $a_{i j}=(-1)^{i+j}$\n",
    "4. $a_{i j}=(-1)^{i j}$\n"
   ]
  },
  {
   "cell_type": "markdown",
   "id": "7286869f-5d12-4502-b40e-a50ddc7c7f58",
   "metadata": {},
   "source": [
    "$$\n",
    "A=\\left(\\begin{array}{lll}\n",
    "a_{11} & a_{12} & a_{13} \\\\\n",
    "a_{21} & a_{22} & a_{23} \\\\\n",
    "a_{31} & a_{32} & a_{33}\n",
    "\\end{array}\\right)\n",
    "$$\n",
    "\n",
    "なので"
   ]
  },
  {
   "cell_type": "markdown",
   "id": "19ca57bf-bd1e-4061-9764-003cfc45b830",
   "metadata": {},
   "source": [
    "> 1. $a_{i j}=i+j$\n",
    "\n",
    "$$\n",
    "\\begin{pmatrix}\n",
    "2 & 3 & 4\\\\\n",
    "3 & 4 & 5\\\\\n",
    "4 & 5 & 6\\\\\n",
    "\\end{pmatrix}\n",
    "$$"
   ]
  },
  {
   "cell_type": "markdown",
   "id": "f474eca1-d3ff-4aad-bdd0-2857d2084e34",
   "metadata": {},
   "source": [
    "> 2. $a_{i j}=i j$\n",
    "\n",
    "$$\n",
    "\\begin{pmatrix}\n",
    "1 & 2 & 3\\\\\n",
    "2 & 4 & 6\\\\\n",
    "3 & 6 & 9\\\\\n",
    "\\end{pmatrix}\n",
    "$$"
   ]
  },
  {
   "cell_type": "markdown",
   "id": "bf07b5c4-5aa2-4891-b37b-f71b9e768d86",
   "metadata": {},
   "source": [
    "> 3. $a_{i j}=(-1)^{i+j}$\n",
    "\n",
    "$$\n",
    "\\begin{pmatrix}\n",
    "1 & -1 & 1\\\\\n",
    "-1 & 1 & -1\\\\\n",
    "1 & -1 & 1\\\\\n",
    "\\end{pmatrix}\n",
    "$$"
   ]
  },
  {
   "cell_type": "markdown",
   "id": "1a488fc5-12b2-4756-b3a2-fd5bf2a26de9",
   "metadata": {},
   "source": [
    "> 4. $a_{i j}=(-1)^{i j}$\n",
    "\n",
    "$$\n",
    "\\begin{pmatrix}\n",
    "-1 & 1 & -1\\\\\n",
    "1 & 1 & 1\\\\\n",
    "-1 & 1 & -1\\\\\n",
    "\\end{pmatrix}\n",
    "$$"
   ]
  },
  {
   "cell_type": "markdown",
   "id": "1b5e68d8-7123-418e-ae49-2cd8c1d8fcd3",
   "metadata": {},
   "source": [
    "## 問1.7\n",
    "\n",
    "> 1. 対称行列の定義を書け\n",
    "\n",
    "転置してももとの行列と変わらない正方行列\n",
    "\n",
    "$$\n",
    "A = A^T\n",
    "$$"
   ]
  },
  {
   "cell_type": "markdown",
   "id": "9322c41b-1d2a-493f-8f20-6f7049f05745",
   "metadata": {},
   "source": [
    "> 2. 次の（ア）、（イ）の行列が対象行列となるように a の値を求めよ。\n",
    ">\n",
    "> $$\\text { (ア) }\\left(\\begin{array}{cc}\n",
    "1 & a \\\\\n",
    "a^2 & a^3\n",
    "\\end{array}\\right) \\quad \\text { (イ) }\\left(\\begin{array}{ccc}\n",
    "1 & a & a^2 \\\\\n",
    "a^3 & a^4 & a^5 \\\\\n",
    "a^6 & a^7 & a^8\n",
    "\\end{array}\\right)\n",
    "$$"
   ]
  },
  {
   "cell_type": "markdown",
   "id": "da379b77-d059-4fe2-94df-390c304ae647",
   "metadata": {},
   "source": [
    "（ア）\n",
    "$$\n",
    "\\left(\\begin{array}{cc}\n",
    "1 & a \\\\\n",
    "a^2 & a^3\n",
    "\\end{array}\\right)\n",
    "= \\left(\\begin{array}{cc}\n",
    "1 & a^2 \\\\\n",
    "a & a^3\n",
    "\\end{array}\\right)\n",
    "$$\n",
    "\n",
    "で\n",
    "\n",
    "$$\n",
    "a^2 = a\\\\\n",
    "\\to a(a-1) = 0\\\\\n",
    "$$\n",
    "\n",
    "$a=0$あるいは$a-1=0 \\to a=1$\n",
    "\n",
    "$$\n",
    "\\therefore a=0, 1\n",
    "$$"
   ]
  },
  {
   "cell_type": "markdown",
   "id": "9f9e190e-2f7b-49e3-87ef-273f517e14b8",
   "metadata": {},
   "source": [
    "（イ）\n",
    "\n",
    "$$\n",
    "a^3 = a\\\\\n",
    "a^6 = a^2\\\\\n",
    "a^7 = a^5\n",
    "$$\n",
    "\n",
    "なので\n",
    "\n",
    "$$\n",
    "a^3 -a = 0\\\\\n",
    "\\to a (a^2 - 1) = 0\\\\\n",
    "\\to a = 0, 1, -1\n",
    "$$\n"
   ]
  },
  {
   "cell_type": "markdown",
   "id": "3d344e9c-d88b-4608-ab80-7b3f59d476e6",
   "metadata": {},
   "source": [
    "## 問1.8\n",
    "\n",
    "> 次の 1～3 の行列の (i, j) 成分をクロネッカーのデルタを用いて表せ。\n"
   ]
  },
  {
   "cell_type": "markdown",
   "id": "b1b3d4e2-a923-40a2-9d33-8ff6fc83c2b3",
   "metadata": {},
   "source": [
    "> 1. $\\left(\\begin{array}{lll}\n",
    "1 & 0 & 0 \\\\\n",
    "0 & 2 & 0 \\\\\n",
    "0 & 0 & 3\n",
    "\\end{array}\\right)$\n",
    "\n",
    "\n",
    "行列の$(i,j)$要素を$a_{ij}$と表すことにすると\n",
    "\n",
    "$$\n",
    "a_{ij} = i \\times \\delta_{ij}\n",
    "$$\n"
   ]
  },
  {
   "cell_type": "markdown",
   "id": "57ecef01-4c8a-490a-9ce8-0ba08f23d84f",
   "metadata": {},
   "source": [
    "> 2. $\\left(\\begin{array}{lll}\n",
    "0 & 1 & 0 \\\\\n",
    "0 & 0 & 1 \\\\\n",
    "0 & 0 & 0\n",
    "\\end{array}\\right)$\n",
    "\n",
    "$$\n",
    "a_{ij} = \\delta_{(i+1), j}\n",
    "$$"
   ]
  },
  {
   "cell_type": "markdown",
   "id": "dd4549c4-a547-4fa5-8145-b483fe2b783a",
   "metadata": {},
   "source": [
    "> 3. $\\left(\\begin{array}{lll}\n",
    "0 & 0 & 0 \\\\\n",
    "1 & 0 & 0 \\\\\n",
    "0 & 1 & 0\n",
    "\\end{array}\\right)$"
   ]
  },
  {
   "cell_type": "markdown",
   "id": "a069a380-3832-4997-affd-bf4a2b1c8b05",
   "metadata": {},
   "source": [
    "$$\n",
    "a_{ij} = \\delta_{i-1, j}\n",
    "$$"
   ]
  },
  {
   "cell_type": "markdown",
   "id": "3268eff9-7f8c-4749-b8b1-e7e6cbfb0863",
   "metadata": {},
   "source": [
    "---"
   ]
  },
  {
   "cell_type": "markdown",
   "id": "5498ca4c-7a8e-4590-9a86-864912c29154",
   "metadata": {},
   "source": [
    "## 2.1\n",
    "\n",
    "> $$\n",
    "3\\left(\\begin{array}{ll}\n",
    "4 & 7 \\\\\n",
    "5 & 8 \\\\\n",
    "6 & 9\n",
    "\\end{array}\\right)+\\left(\\begin{array}{ll}\n",
    "0 & 1 \\\\\n",
    "1 & 2 \\\\\n",
    "2 & 0\n",
    "\\end{array}\\right)\n",
    "$$"
   ]
  },
  {
   "cell_type": "markdown",
   "id": "b3541d73-5f35-4953-88da-ab7db963ac3f",
   "metadata": {},
   "source": [
    "\n",
    "$$\n",
    "\\left(\\begin{array}{ll}\n",
    "12 & 21 \\\\\n",
    "15 & 24 \\\\\n",
    "18 & 27\n",
    "\\end{array}\\right)\n",
    "+\\left(\\begin{array}{ll}\n",
    "0 & 1 \\\\\n",
    "1 & 2 \\\\\n",
    "2 & 0\n",
    "\\end{array}\\right)\n",
    "=\\left(\\begin{array}{ll}\n",
    "12 & 22 \\\\\n",
    "16 & 26 \\\\\n",
    "20 & 27\n",
    "\\end{array}\\right)\n",
    "$$"
   ]
  },
  {
   "cell_type": "markdown",
   "id": "a13ee921-df15-4842-a2de-88e59fb81472",
   "metadata": {},
   "source": [
    "## 2.2\n",
    "\n",
    "> 1. $$\n",
    "\\left(\\begin{array}{lll}\n",
    "3 & 4 & 5\n",
    "\\end{array}\\right)\\left(\\begin{array}{ll}\n",
    "0 & 1 \\\\\n",
    "1 & 2 \\\\\n",
    "2 & 0\n",
    "\\end{array}\\right)\n",
    "$$"
   ]
  },
  {
   "cell_type": "markdown",
   "id": "5e842ef4-313a-4bc6-97db-fb0f819e7791",
   "metadata": {},
   "source": [
    "$$\n",
    "(3\\cdot 0 + 4 \\cdot 1 + 5 \\cdot 2, \\hspace{1em} 3\\cdot 1 + 4 \\cdot 2 + 0)\\\\\n",
    "= (14, 11)\n",
    "$$"
   ]
  },
  {
   "cell_type": "markdown",
   "id": "ac86ded2-4d1c-4716-ab3b-26e50b1294e6",
   "metadata": {},
   "source": [
    "> 2. $$\n",
    "\\left(\\begin{array}{l}\n",
    "3 \\\\\n",
    "4\n",
    "\\end{array}\\right)\\left(\\begin{array}{ll}\n",
    "1 & 2\n",
    "\\end{array}\\right)\n",
    "$$"
   ]
  },
  {
   "cell_type": "markdown",
   "id": "5f0a4675-9a07-48b9-af53-31a1d422379e",
   "metadata": {},
   "source": [
    "$$\n",
    "\\left(\\begin{array}{l}\n",
    "a_1 \\\\\n",
    "a_2\n",
    "\\end{array}\\right)\n",
    "\\left(\\begin{array}{ll}\n",
    "b_1 & b_2\n",
    "\\end{array}\\right)\n",
    "= \\begin{pmatrix}\n",
    "a_1 b_1 & a_1 b_2\\\\\n",
    "a_2 b_1 & a_2 b_2\\\\\n",
    "\\end{pmatrix}\n",
    "$$\n",
    "\n",
    "なので\n",
    "\n",
    "$$\n",
    "\\left(\\begin{array}{l}\n",
    "3 \\\\\n",
    "4\n",
    "\\end{array}\\right)\\left(\\begin{array}{ll}\n",
    "1 & 2\n",
    "\\end{array}\\right)\n",
    "= \\begin{pmatrix}\n",
    "3\\cdot 1 & 3 \\cdot 2\\\\\n",
    "4\\cdot 1 & 4 \\cdot 2\\\\\n",
    "\\end{pmatrix}\n",
    "= \\begin{pmatrix}\n",
    "3 & 6\\\\\n",
    "4 & 8\\\\\n",
    "\\end{pmatrix}\n",
    "$$"
   ]
  },
  {
   "cell_type": "code",
   "execution_count": 6,
   "id": "79ce2e86-19d1-4f60-ba23-eda78325b058",
   "metadata": {},
   "outputs": [
    {
     "data": {
      "text/plain": [
       "array([[3, 6],\n",
       "       [4, 8]])"
      ]
     },
     "execution_count": 6,
     "metadata": {},
     "output_type": "execute_result"
    }
   ],
   "source": [
    "import numpy as np\n",
    "a = np.array([3,4])\n",
    "b = np.array([1,2])\n",
    "np.outer(a,b)"
   ]
  },
  {
   "cell_type": "markdown",
   "id": "898e6f71-ff5e-4e3b-adf9-eead8d33793e",
   "metadata": {},
   "source": [
    "> 2. $$\n",
    "\\left(\\begin{array}{ll}\n",
    "7 & 8\n",
    "\\end{array}\\right)\\left(\\begin{array}{l}\n",
    "5 \\\\\n",
    "6\n",
    "\\end{array}\\right)\n",
    "$$"
   ]
  },
  {
   "cell_type": "markdown",
   "id": "07c8cf47-08b4-4cf9-8d7a-8e23904e7a59",
   "metadata": {},
   "source": [
    "$$\n",
    "7\\cdot 5 + 8 \\cdot 6 = 35 + 48 = 83\n",
    "$$"
   ]
  },
  {
   "cell_type": "markdown",
   "id": "1dfcdbc0-df20-442f-875b-81d89ad7c6bb",
   "metadata": {},
   "source": [
    "## 2.3\n",
    "\n",
    "> 正方行列$A=\\left(\\begin{array}{lll}\n",
    "0 & a & b \\\\\n",
    "0 & 0 & c \\\\\n",
    "0 & 0 & 0\n",
    "\\end{array}\\right)$はべき零行列であることを示せ。\n",
    "\n",
    "冪零行列は、任意の整数$k$で冪乗して零（零行列）となる正方行列\n",
    "\n",
    "$$\n",
    "A^k = O\n",
    "$$\n",
    "\n"
   ]
  },
  {
   "cell_type": "markdown",
   "id": "9d64aa44-ba20-408c-82f8-191e45158da4",
   "metadata": {},
   "source": [
    "Aは$k=2$のときは冪零ではないが、$k \\geq 3$で冪零"
   ]
  },
  {
   "cell_type": "code",
   "execution_count": 22,
   "id": "a46b992e-0f10-445a-8583-dc7db5dbe554",
   "metadata": {},
   "outputs": [
    {
     "data": {
      "text/plain": [
       "array([[0, 0, 3],\n",
       "       [0, 0, 0],\n",
       "       [0, 0, 0]])"
      ]
     },
     "execution_count": 22,
     "metadata": {},
     "output_type": "execute_result"
    }
   ],
   "source": [
    "import numpy as np\n",
    "A = np.array([\n",
    "    [0, 1, 2],\n",
    "    [0, 0, 3],\n",
    "    [0, 0, 0]\n",
    "])\n",
    "\n",
    "A @ A"
   ]
  },
  {
   "cell_type": "code",
   "execution_count": 23,
   "id": "d78074b5-89d0-44a3-a3b0-ec7f4bb87bbb",
   "metadata": {},
   "outputs": [
    {
     "data": {
      "text/plain": [
       "array([[0, 0, 0],\n",
       "       [0, 0, 0],\n",
       "       [0, 0, 0]])"
      ]
     },
     "execution_count": 23,
     "metadata": {},
     "output_type": "execute_result"
    }
   ],
   "source": [
    "A @ A @ A"
   ]
  },
  {
   "cell_type": "markdown",
   "id": "fd2d1147-1aef-4208-a991-65afb05cf18f",
   "metadata": {},
   "source": [
    "## 2.4\n",
    "\n",
    "> 次の問いに応えよ。\n",
    "> \n",
    "> 1. 2 つの行列が可換であることの定義を書け。\n",
    "\n",
    "2つの行列$A, B$について\n",
    "\n",
    "$$\n",
    "AB = BA\n",
    "$$\n",
    "\n",
    "が成り立つこと"
   ]
  },
  {
   "cell_type": "markdown",
   "id": "914f3a76-75e9-4340-a32f-697866037595",
   "metadata": {},
   "source": [
    "\n",
    "> 2. 2 つの行列\n",
    "> $\\left(\\begin{array}{cc}\n",
    "1 & a \\\\\n",
    "0 & a^2\n",
    "\\end{array}\\right),\\left(\\begin{array}{cc}\n",
    "a^2 & a \\\\\n",
    "0 & 1\n",
    "\\end{array}\\right)$\n",
    "> が可換となるように a の値を求めよ。\n"
   ]
  },
  {
   "cell_type": "markdown",
   "id": "6b51d311-74cb-4f26-a394-7b886f5b31d3",
   "metadata": {},
   "source": [
    "$$\n",
    "\\begin{pmatrix}\n",
    "1 & a \\\\\n",
    "0 & a^2\n",
    "\\end{pmatrix}\n",
    "\\begin{pmatrix}\n",
    "a^2 & a \\\\\n",
    "0 & 1\n",
    "\\end{pmatrix}\n",
    "= \n",
    "\\begin{pmatrix}\n",
    "a^2 & a \\\\\n",
    "0 & 1\n",
    "\\end{pmatrix}\n",
    "\\begin{pmatrix}\n",
    "1 & a \\\\\n",
    "0 & a^2\n",
    "\\end{pmatrix}\n",
    "$$\n",
    "\n",
    "を満たす、つまり\n",
    "\n",
    "$$\n",
    "\\begin{pmatrix}\n",
    "a^2 & 2a \\\\\n",
    "0 & a^2\n",
    "\\end{pmatrix}\n",
    "= \n",
    "\\begin{pmatrix}\n",
    "a^2 & 2a^3 \\\\\n",
    "0 & a^2\n",
    "\\end{pmatrix}\n",
    "$$"
   ]
  },
  {
   "cell_type": "markdown",
   "id": "286626e1-75bd-4304-baa1-608cf504d262",
   "metadata": {},
   "source": [
    "よって\n",
    "\n",
    "$$\n",
    "2a = 2a^3\n",
    "$$\n",
    "\n",
    "を解けばよい。\n",
    "\n",
    "$$\n",
    "\\begin{align}\n",
    "&2a = 2a^3\\\\\n",
    "&\\to a = a^3\\\\\n",
    "&\\to a - a^3 = 0\\\\\n",
    "&\\to a(a^2 - 1) = 0\\\\\n",
    "&\\end{align}\n",
    "$$\n",
    "\n",
    "よって$a=0$か$a^2 - 1 = 0$であり\n",
    "\n",
    "$a^2 - 1 = 0$が成り立つのは$a=-1, 1$のときなので\n",
    "\n",
    "$$\n",
    "a = -1, 0, 1\n",
    "$$\n",
    "となる"
   ]
  },
  {
   "cell_type": "code",
   "execution_count": 31,
   "id": "be874400-79f3-44bb-8922-ca8adb10cf5d",
   "metadata": {},
   "outputs": [
    {
     "data": {
      "text/latex": [
       "$\\displaystyle \\left[\\begin{matrix}a^{2} & 2 a\\\\0 & a^{2}\\end{matrix}\\right]$"
      ],
      "text/plain": [
       "Matrix([\n",
       "[a**2,  2*a],\n",
       "[   0, a**2]])"
      ]
     },
     "execution_count": 31,
     "metadata": {},
     "output_type": "execute_result"
    }
   ],
   "source": [
    "# 検算\n",
    "from sympy import Symbol, Matrix\n",
    "a = Symbol('a')\n",
    "A = Matrix([\n",
    "    [1, a],\n",
    "    [0, a**2],\n",
    "])\n",
    "B = Matrix([\n",
    "    [a**2, a],\n",
    "    [0, 1],\n",
    "])\n",
    "\n",
    "A @ B"
   ]
  },
  {
   "cell_type": "code",
   "execution_count": 38,
   "id": "8f6dba12-a1dd-4af7-b3a6-beea8bd7231c",
   "metadata": {},
   "outputs": [],
   "source": [
    "# 検算\n",
    "import numpy as np\n",
    "\n",
    "for a in (0, -1, 1):\n",
    "    A = np.array([\n",
    "        [1, a],\n",
    "        [0, a**2]\n",
    "    ])\n",
    "    B = np.array([\n",
    "        [a**2, a],\n",
    "        [0, 1],\n",
    "    ])\n",
    "    assert (A @ B == B @ A).all()"
   ]
  },
  {
   "cell_type": "markdown",
   "id": "731d5fed-6a45-48fe-a7cd-7ed27df97471",
   "metadata": {},
   "source": [
    "## 2.5\n",
    "\n",
    "> n 次の正方行列 A, B に対して、$[A, B] = AB − BA$ とおき、これを A と B の交換子積という。\n",
    "> 交換子積に関して、次の 1～3 が成り立つことを示せ。ただし、A, B, C はすべて n 次の正方行列で、O は n 次の零行列である。\n",
    "\n",
    "> 1. $[A, B] = −[B, A]$ （交代性または反対称性）\n"
   ]
  },
  {
   "cell_type": "markdown",
   "id": "b222907e-7a2f-4507-bfd8-f97c9b8b1f56",
   "metadata": {},
   "source": [
    "$$\n",
    "[A, B] = AB - BA\n",
    "$$\n",
    "\n",
    "は順番を入れ替えれば\n",
    "\n",
    "$$\n",
    "- BA + AB\n",
    "= - (BA - AB)\n",
    "= -[B, A]\n",
    "$$\n",
    "\n"
   ]
  },
  {
   "cell_type": "code",
   "execution_count": 60,
   "id": "e2883beb-a59f-4481-93b8-b42a9348d03b",
   "metadata": {},
   "outputs": [
    {
     "data": {
      "text/plain": [
       "True"
      ]
     },
     "execution_count": 60,
     "metadata": {},
     "output_type": "execute_result"
    }
   ],
   "source": [
    "# 例えば n=2 のとき\n",
    "from sympy import symbols, Matrix\n",
    "\n",
    "a11, a12, a21, a22 = symbols(\"a_11, a_12, a_21, a_22\")\n",
    "b11, b12, b21, b22 = symbols(\"b_11, b_12, b_21, b_22\")\n",
    "\n",
    "A = Matrix([\n",
    "    [a11, a12],\n",
    "    [a21, a22]\n",
    "])\n",
    "B = Matrix([\n",
    "    [b11, b12],\n",
    "    [b21, b22]\n",
    "])\n",
    "\n",
    "(A @ B - B @ A) == (- 1 * (B @ A - A @ B))"
   ]
  },
  {
   "cell_type": "markdown",
   "id": "7c10d89d-945e-4fce-adb9-5ed6f440c144",
   "metadata": {},
   "source": [
    "> 2. $[A, A] = O$\n",
    "\n",
    "$$\n",
    "[A, A] = AA - AA = O\n",
    "$$"
   ]
  },
  {
   "cell_type": "markdown",
   "id": "ec635cb3-8db3-4004-8fb0-a8522af5c7b1",
   "metadata": {},
   "source": [
    "> 3. $[[A, B], C] + [[B, C], A] + [[C, A], B] = O$（ヤコビの恒等式）\n",
    "\n",
    "$$\n",
    "[[A, B], C] + [[B, C], A] + [[C, A], B]\n",
    "$$\n",
    "\n",
    "を展開すると\n",
    "\n",
    "$$\n",
    "\\begin{align}\n",
    "  (AB - BA) C &- C (AB - BA)\\\\\n",
    "+ (BC - CB) A &- A (BC - CB)\\\\\n",
    "+ (CA - AC) B &- B (CA - AC)\n",
    "\\\\\n",
    "= ABC - BAC &- CAB + CBA\\\\\n",
    "+ BCA - CBA &- ABC + ACB\\\\\n",
    "+ CAB - ACB &- BCA + BAC\n",
    "\\end{align}\n",
    "$$\n",
    "\n",
    "\n",
    "$$\n",
    "= (ABC - ABC)\\\\\n",
    "+ (BAC - BAC)\\\\\n",
    "+ (CAB - CAB)\\\\\n",
    "+ (CBA - CBA)\\\\\n",
    "+ (BCA - BCA)\\\\\n",
    "+ (ACB - ACB)\\\\\n",
    "= 0\n",
    "$$"
   ]
  },
  {
   "cell_type": "markdown",
   "id": "33a71dc6-2a61-4901-9a1d-f3640c33e4f7",
   "metadata": {},
   "source": [
    "## 2.6\n",
    "\n",
    "> 2 次の正方行列\n",
    "> $A=\\left(\\begin{array}{ll}\n",
    "a & b \\\\\n",
    "c & d\n",
    "\\end{array}\\right)$\n",
    "> に対して、ケイリー-ハミルトンの定理\n",
    ">\n",
    "> $A^2-(a+d) A+(a d-b c) E$\n",
    ">\n",
    "> が成り立つことを示せ。（E は対角要素が 1 の単位行列である）\n",
    "\n",
    "\n",
    "$$\n",
    "A^2-(a+d) A+(a d-b c) E = O\n",
    "$$\n",
    "\n",
    "ということ?\n",
    "\n",
    "\n",
    "$$\n",
    "\\begin{align}\n",
    "&A^2-(a+d) A+(a d-b c) E\n",
    "\\\\\n",
    "&=\n",
    "\\begin{pmatrix}\n",
    "a & b \\\\\n",
    "c & d\n",
    "\\end{pmatrix}\n",
    "\\begin{pmatrix}\n",
    "a & b \\\\\n",
    "c & d\n",
    "\\end{pmatrix}\n",
    "- a \\begin{pmatrix}\n",
    "a & b \\\\\n",
    "c & d\n",
    "\\end{pmatrix}\n",
    "- d \\begin{pmatrix}\n",
    "a & b \\\\\n",
    "c & d\n",
    "\\end{pmatrix}\n",
    "+(a d-b c) E\n",
    "\\\\\n",
    "&= \\begin{pmatrix}\n",
    "a^2 + bc & ab + bd\\\\\n",
    "ac + cd & bc + d^2\n",
    "\\end{pmatrix}\n",
    "- \\begin{pmatrix}\n",
    "a^2 & ab \\\\\n",
    "ac & ad\n",
    "\\end{pmatrix}\n",
    "- \\begin{pmatrix}\n",
    "ad & bd \\\\\n",
    "cd & d^2\n",
    "\\end{pmatrix}\n",
    "+(a d-b c) E\n",
    "\\\\\n",
    "&= \\begin{pmatrix}\n",
    "bc & bd\\\\\n",
    "cd & bc + d^2 - ad\n",
    "\\end{pmatrix}\n",
    "- \\begin{pmatrix}\n",
    "ad & bd \\\\\n",
    "cd & d^2\n",
    "\\end{pmatrix}\n",
    "+(a d-b c) E\n",
    "\\\\\n",
    "&= \\begin{pmatrix}\n",
    "bc - ad & 0\\\\\n",
    "0 & bc - ad\n",
    "\\end{pmatrix}\n",
    "+(a d-b c) E\n",
    "\\\\\n",
    "&= \\begin{pmatrix}\n",
    "0 & 0\\\\\n",
    "0 & 0\n",
    "\\end{pmatrix}\n",
    "\\end{align}\n",
    "$$\n"
   ]
  },
  {
   "cell_type": "markdown",
   "id": "5d33a1a6-30b4-4ff6-ab46-5d4cf67fa468",
   "metadata": {},
   "source": [
    "## 2.7\n",
    "\n",
    "> 次の問いに答えよ。"
   ]
  },
  {
   "cell_type": "markdown",
   "id": "65a0d4c1-df5e-42b6-8c9f-f4c08da9beb9",
   "metadata": {},
   "source": [
    "> 1. 対称行列の定義を書け。\n",
    "\n",
    "$$\n",
    "A^T = A\n",
    "$$\n",
    "\n",
    "が成り立つこと"
   ]
  },
  {
   "cell_type": "markdown",
   "id": "1b17e47c-0638-4511-a035-030ca8d44212",
   "metadata": {},
   "source": [
    "> 2. 交代行列の定義を書け。\n",
    "\n",
    "転置行列が元の行列の−1倍になる、つまり\n",
    "\n",
    "$$\n",
    "A^T = -A\n",
    "$$\n",
    "\n",
    "が成り立つこと"
   ]
  },
  {
   "cell_type": "markdown",
   "id": "cdc0ae9f-6fe9-4172-b1e2-a95d3367917b",
   "metadata": {},
   "source": [
    "> 3. 任意の正方行列は対称行列と交代行列の和で一意的に表されることを、次の（ア）、（イ）の手順で示せ。\n",
    ">\n",
    "> （ア）正方行列 A が対象行列 X と交代行列 Y の和で、\n",
    "> $$\n",
    "A = X + Y \\tag{2.1}\n",
    "$$\n",
    "> と表されると仮定する。\n",
    "> このとき、式 2.1 の両辺の転置を取ることにより、\n",
    "> $$\n",
    "A^T = X − Y \\tag{2.2}\n",
    "$$\n",
    "> が成り立つ。\n",
    ">\n",
    "> 式 2.1 と式 2.2 を連立させることにより、X, Y を A および $A^T$ を用いて表せ。\n",
    "\n",
    "$$\n",
    "\\begin{array}{rr}\n",
    "        & A = X + Y\\\\\n",
    "+\\big{)}& A^T = X - Y\\\\\n",
    "\\hline\n",
    "& A + A^T = 2 X\\\\\n",
    "& \\to X = \\frac{1}{2} (A + A^T)\n",
    "\\end{array}\n",
    "$$\n",
    "\n",
    "\n",
    "$$\n",
    "\\begin{array}{rr}\n",
    "        & A = X + Y\\\\\n",
    "-\\big{)}& A^T = X - Y\\\\\n",
    "\\hline\n",
    "& A - A^T = 2 Y\\\\\n",
    "& \\to Y = \\frac{1}{2} (A - A^T)\n",
    "\\end{array}\n",
    "$$"
   ]
  },
  {
   "cell_type": "markdown",
   "id": "bcaa086c-2a22-4844-b747-eb56a5e4f271",
   "metadata": {},
   "source": [
    "> （イ） （ア）で $A$ および $A^T$ を用いて表した X, Y は、実際にそれぞれ対称行列、交代行列であることを示せ。\n",
    "\n",
    "Xは対称行列\n",
    "\n",
    "$$\n",
    "X^T = \\frac{1}{2} (A+A^T)^T = \\frac{1}{2} (A^T + A) = X\n",
    "$$\n",
    "\n",
    "Yは交代行列\n",
    "\n",
    "$$\n",
    "\\begin{align}\n",
    "Y^T\n",
    "&= \\frac{1}{2} (A - A^T)^T\\\\\n",
    "&= \\frac{1}{2} (A^T - A)\\\\\n",
    "&= -\\frac{1}{2} (A + A^T)\\\\\n",
    "&= -Y\n",
    "\\end{align}\n",
    "$$"
   ]
  },
  {
   "cell_type": "code",
   "execution_count": null,
   "id": "9ed3cef1-bf32-42cb-a796-8df78539fd7c",
   "metadata": {},
   "outputs": [],
   "source": []
  }
 ],
 "metadata": {
  "kernelspec": {
   "display_name": "Python 3 (ipykernel)",
   "language": "python",
   "name": "python3"
  },
  "language_info": {
   "codemirror_mode": {
    "name": "ipython",
    "version": 3
   },
   "file_extension": ".py",
   "mimetype": "text/x-python",
   "name": "python",
   "nbconvert_exporter": "python",
   "pygments_lexer": "ipython3",
   "version": "3.9.18"
  }
 },
 "nbformat": 4,
 "nbformat_minor": 5
}
