{
 "cells": [
  {
   "cell_type": "markdown",
   "id": "5a2d0376-5d5c-49b4-b42c-860fbbb2f3df",
   "metadata": {},
   "source": [
    "# 定値性と2次形式"
   ]
  },
  {
   "cell_type": "markdown",
   "id": "4312076e-7a86-4433-95f0-17df08273a9d",
   "metadata": {},
   "source": [
    "## 2次形式\n",
    "\n",
    "変数の2次の項のみからなる式を **2次形式（quadratic form）** と呼ぶ。$n$変数$x_1,\\dots,x_n$の2次形式は次のように書ける\n",
    "\n",
    "$$\n",
    "f = a_{11} x_1^2+a_{22} x_2^2+\\cdots+a_{n n} x_n^2+2 a_{12} x_1 x_2+2 a_{13} x_1 x_3+\\cdots+2 a_{n(n-1)} x_n x_{n-1}\\\\\n",
    "$$"
   ]
  },
  {
   "cell_type": "markdown",
   "id": "6217c36d-c0a5-46d3-b43b-4ed706e9d51c",
   "metadata": {},
   "source": [
    "### 2次形式の別表記\n",
    "\n",
    "これは次のように表すこともできる。\n",
    "\n",
    "$$\n",
    "f = \\sum_{i=1}^n \\sum_{j=1}^n a_{i j} x_i x_j\n",
    "$$\n",
    "\n",
    "ただし、$a_{ij} = a_{ji}$とする。\n",
    "\n",
    ":::{card} 例：$n=2$の場合\n",
    "\n",
    "$$\n",
    "\\begin{aligned}\n",
    "f  &= a_{11} x_1^2 + a_{22} x_2^2 + 2 a_{12} x_1 x_2 \\\\\n",
    "   &= a_{11} x_1^2 + a_{12} x_1 x_2\n",
    "    + a_{21} x_1 x_2 + a_{22} x_2^2 \\\\\n",
    "   &= \\sum_{i=1}^2 \\sum_{j=1}^2 a_{i j} x_i x_j\n",
    "\\end{aligned}\n",
    "$$\n",
    "\n",
    ":::\n"
   ]
  },
  {
   "cell_type": "markdown",
   "id": "8f115008-39fa-4c43-87fb-96a04e3262a0",
   "metadata": {},
   "source": [
    "\n",
    "### 2次形式の行列表記\n",
    "\n",
    "行列\n",
    "\n",
    "$$\n",
    "\\boldsymbol{A}=\\left(\\begin{array}{ccc}\n",
    "a_{11} & \\cdots & a_{1 n} \\\\\n",
    "\\vdots & \\ddots & \\vdots \\\\\n",
    "a_{n 1} & \\cdots & a_{n n}\n",
    "\\end{array}\\right),\n",
    "\\quad \\boldsymbol{x}=\\left(\\begin{array}{c}\n",
    "x_1 \\\\\n",
    "\\vdots \\\\\n",
    "x_n\n",
    "\\end{array}\\right)\n",
    "$$\n",
    "\n",
    "が$a_{ij} = a_{ji}$のとき、すなわち$A$が対称行列のとき、2次形式は次のようなベクトルの内積として表せる\n",
    "\n",
    "$$\n",
    "f = ( \\boldsymbol{x}, \\boldsymbol{Ax} )\n",
    "$$\n",
    "\n",
    "このとき$A$を2次形式$f$の **係数行列** と呼ぶ。"
   ]
  },
  {
   "cell_type": "markdown",
   "id": "f6a5e94f-df79-458c-af85-0caf16fa7961",
   "metadata": {},
   "source": [
    ":::{card} 例\n",
    "\n",
    "$$\n",
    "f\n",
    "=\\left(\\binom{x}{y},\\left(\\begin{array}{ll}\n",
    "a & b \\\\\n",
    "b & c\n",
    "\\end{array}\\right)\\binom{x}{y}\\right)\n",
    "= \\left(\\binom{x}{y},\\binom{a x+b y}{b x+c y}\\right)=x(a x+b y)+y(b x+c y)=a x^2+2 b x y+c y^2\n",
    "$$\n",
    "\n",
    ":::"
   ]
  },
  {
   "cell_type": "markdown",
   "id": "6a098a26-a479-4152-83e9-f92a858c5cfa",
   "metadata": {},
   "source": [
    ":::{margin}\n",
    "\n",
    "似た用語の「2次式」は「2次およびそれ以下の式」のこと。「2次形式」は「2次の項のみ」。\n",
    "\n",
    "1変数（$x$）の例：\n",
    "\n",
    "- 2次式：$2x^2 + 3x + 4$\n",
    "- 2次形式：$2x^2$\n",
    "\n",
    "2変数（$x,y$）の例：\n",
    "\n",
    "- 2次式：$2x^2 + 3xy + 4y^2 + 7x - y + 1$\n",
    "- 2次形式：$2x^2 + 3xy + 4y^2$\n",
    "\n",
    ":::"
   ]
  },
  {
   "cell_type": "markdown",
   "id": "63552a51-d3f3-40ef-9be8-ff376538fffb",
   "metadata": {},
   "source": [
    "## 関連する定理\n",
    "\n",
    "転置と内積についての定理\n",
    "\n",
    ":::{admonition} 定理\n",
    "\n",
    "任意の $n \\times n$ 行列 $\\boldsymbol{A}$ と任意の $n$ 次元ベクトル $\\boldsymbol{x}, \\boldsymbol{y}$ に対して、次の関係が成り立つ\n",
    "\n",
    "$$\n",
    "(\\boldsymbol{A} \\boldsymbol{x}, \\boldsymbol{y})=\\left(\\boldsymbol{x}, \\boldsymbol{A}^{\\top} \\boldsymbol{y}\\right)\n",
    "$$\n",
    "\n",
    ":::\n",
    "\n",
    ":::{dropdown} 証明\n",
    "\n",
    "$$\n",
    "\\left(\\boldsymbol{x}, \\boldsymbol{A}^{\\top} \\boldsymbol{y}\\right)=\\sum_{i, j=1}^n a_{j i} x_i y_j=\\sum_{j=1}^n\\left(\\sum_{i=1}^n a_{j i} x_i\\right) y_j=(\\boldsymbol{A} \\boldsymbol{x}, \\boldsymbol{y})\n",
    "$$\n",
    "\n",
    ":::"
   ]
  },
  {
   "cell_type": "markdown",
   "id": "22d388d1-4eab-45c3-8792-805c49852838",
   "metadata": {},
   "source": [
    ":::{admonition} 定理\n",
    "\n",
    "$n \\times n$ 対称行列 $\\boldsymbol{A}$ の固有値を $\\lambda_1, \\ldots, \\lambda_n$ とおき、対応する固有ベクトルの正規直交系を $\\boldsymbol{u}_1, \\ldots, \\boldsymbol{u}_n$ とし、 $\\boldsymbol{u}_1, \\ldots, \\boldsymbol{u}_n$ を列とする行列を $\\boldsymbol{U}=\\left(\\boldsymbol{u}_1 \\cdots \\boldsymbol{u}_n\\right)$ とすると、次式が成り立つ。\n",
    "\n",
    "$$\n",
    "\\boldsymbol{U}^{\\top} \\boldsymbol{A} \\boldsymbol{U}=\\left(\\begin{array}{llll}\n",
    "\\lambda_1 & & & \\\\\n",
    "& \\lambda_2 & & \\\\\n",
    "& & \\ddots & \\\\\n",
    "& & & \\lambda_n\n",
    "\\end{array}\\right)\n",
    "$$\n",
    "\n",
    ":::\n",
    "\n",
    "\n",
    ":::{dropdown} 証明\n",
    "\n",
    "$$\n",
    "\\begin{aligned}\n",
    "\\boldsymbol{A} \\boldsymbol{U}\n",
    "&=\\boldsymbol{A}\\left(\\begin{array}{llll}\n",
    "\\boldsymbol{u}_1 & \\boldsymbol{u}_2 & \\cdots & \\boldsymbol{u}_n\n",
    "\\end{array}\\right) \\\\\n",
    "& =\\left(\\begin{array}{llll}\n",
    "\\boldsymbol{A} u_1 & A u_2 & \\cdots & A u_n\n",
    "\\end{array}\\right)=\\left(\\begin{array}{lllll}\n",
    "\\lambda_1 & u_1 & \\lambda_2 & u_2 & \\cdots\n",
    "\\end{array} \\lambda_n u_n\\right) \\\\\n",
    "& =\\left(\\begin{array}{llll}\n",
    "u_1 & u_2 & \\cdots & \\boldsymbol{u}_n\n",
    "\\end{array}\\right)\\left(\\begin{array}{llll}\n",
    "\\lambda_1 & & & \\\\\n",
    "& \\lambda_2 & & \\\\\n",
    "& & \\ddots & \\\\\n",
    "& & & \\lambda_n\n",
    "\\end{array}\\right)=\\boldsymbol{U}\\left(\\begin{array}{llll}\n",
    "\\lambda_1 & & & \\\\\n",
    "& \\lambda_2 & & \\\\\n",
    "& & \\ddots & \\\\\n",
    "& & & \\lambda_n\n",
    "\\end{array}\\right)\n",
    "\\end{aligned}\n",
    "$$\n",
    "\n",
    ":::"
   ]
  },
  {
   "cell_type": "markdown",
   "id": "668e122c-3ccb-47e1-ab1f-8ba892fa4867",
   "metadata": {},
   "source": [
    "## 2次形式の標準形\n",
    "\n",
    "固有ベクトルの行列$U$ と変数$x$の線形結合を $\\boldsymbol{x}' = \\boldsymbol{U}^\\top \\boldsymbol{x}$ と書く。 これは左から$\\boldsymbol{U}$をかけて$\\boldsymbol{x} = \\boldsymbol{U} \\boldsymbol{x}'$と書くこともできる。\n",
    "\n",
    "このとき、2次形式$(\\boldsymbol{x}, \\boldsymbol{A} \\boldsymbol{x})$は次のように変形できる\n",
    "\n",
    "$$\n",
    "\\begin{aligned}\n",
    "(\\boldsymbol{x}, \\boldsymbol{A} \\boldsymbol{x}) & =\\left(\\boldsymbol{U} \\boldsymbol{x}^{\\prime}, \\boldsymbol{A} \\boldsymbol{U} \\boldsymbol{x}^{\\prime}\\right)=\\left(\\boldsymbol{x}^{\\prime}, \\boldsymbol{U}^{\\top} \\boldsymbol{A} \\boldsymbol{U} \\boldsymbol{x}^{\\prime}\\right)=\\left(\\boldsymbol{x}^{\\prime},\\left(\\begin{array}{lll}\n",
    "\\lambda_1 & & \\\\\n",
    "& \\ddots & \\\\\n",
    "& & \\lambda_n\n",
    "\\end{array}\\right) \\boldsymbol{x}^{\\prime}\\right) \\\\\n",
    "& =\\lambda_1{x_1^{\\prime}}^2+\\lambda_2{x_2^{\\prime 2}}^2+\\cdots+\\lambda_n x_n^{\\prime 2}\n",
    "\\end{aligned}\n",
    "$$\n",
    "\n",
    "このような変数の2乗の線形結合を2次形式の **標準形** と呼ぶ\n"
   ]
  },
  {
   "cell_type": "markdown",
   "id": "0a1106c8-6de7-4b11-8784-3df9f50414ea",
   "metadata": {},
   "source": []
  },
  {
   "cell_type": "code",
   "execution_count": null,
   "id": "016404bd-a64f-4474-ac73-6ca493db5ac5",
   "metadata": {},
   "outputs": [],
   "source": []
  }
 ],
 "metadata": {
  "kernelspec": {
   "display_name": "Python 3 (ipykernel)",
   "language": "python",
   "name": "python3"
  },
  "language_info": {
   "codemirror_mode": {
    "name": "ipython",
    "version": 3
   },
   "file_extension": ".py",
   "mimetype": "text/x-python",
   "name": "python",
   "nbconvert_exporter": "python",
   "pygments_lexer": "ipython3",
   "version": "3.10.15"
  }
 },
 "nbformat": 4,
 "nbformat_minor": 5
}
