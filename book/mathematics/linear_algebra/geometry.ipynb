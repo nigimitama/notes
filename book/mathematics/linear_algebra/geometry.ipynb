{
 "cells": [
  {
   "cell_type": "markdown",
   "id": "9257a26c-9b6c-4d4d-b447-cf598b9227e3",
   "metadata": {},
   "source": [
    "# 2次元と3次元の簡単な幾何学"
   ]
  },
  {
   "cell_type": "markdown",
   "id": "7a1ddf05-166f-4618-a109-3f02752b76f7",
   "metadata": {},
   "source": [
    "## 直線の方程式\n",
    "\n",
    "点$P$を通って、ベクトル$\\boldsymbol{a} (\\neq \\boldsymbol{0})$に平行な直線を$l$とすれば、点$X$が$l$上にあることは、ベクトル$\\vec{PX}$が$\\boldsymbol{a}$に並行であること、すなわち\n",
    "\n",
    "$$\n",
    "\\vec{PX} = t \\boldsymbol{a}\n",
    "$$\n",
    "\n",
    "となるような実数$t$が存在することと同等である。"
   ]
  },
  {
   "cell_type": "markdown",
   "id": "4683278e-768e-4d93-a21b-c680bc50189f",
   "metadata": {},
   "source": [
    "$P, X$の位置ベクトルをそれぞれ$\\boldsymbol{p}, \\boldsymbol{x}$とすれば、$\\vec{PX} = t \\boldsymbol{a}$は\n",
    "\n",
    "$$\n",
    "\\boldsymbol{x} - \\boldsymbol{p} = t \\boldsymbol{a}\n",
    "$$\n",
    "\n",
    "あるいは\n",
    "\n",
    "$$\n",
    "\\boldsymbol{x} = \\boldsymbol{p} + t \\boldsymbol{a}\n",
    "$$\n",
    "\n",
    "と書き直すことができる。$t$があらゆる実数値をとれば、$X$は$l$上のあらゆる位置を取る。\n",
    "\n",
    "\n",
    "$\\boldsymbol{x} = \\boldsymbol{p} + t \\boldsymbol{a}$ を、$t$を媒介変数とする直線$l$の **ベクトル方程式** といい、$\\boldsymbol{a}$ を$l$の **方向ベクトル** という。\n",
    "\n"
   ]
  },
  {
   "cell_type": "markdown",
   "id": "d13f9aff-dd8d-4919-af73-c8d90004d2dd",
   "metadata": {},
   "source": [
    "通常のように ベクトルを成分表示して $\\boldsymbol{a}=(a, b), \\boldsymbol{p}=(x_0, y_0), \\boldsymbol{x}=(x, y)$ とすれば $\\boldsymbol{x} = \\boldsymbol{p} + t \\boldsymbol{a}$ は\n",
    "\n",
    "$$\n",
    "(x, y)=(x_0, y_0) + t(a, b)\n",
    "$$\n",
    "\n",
    "すなわち\n",
    "\n",
    "$$\n",
    "x=x_0 + t a, \\quad y=y_0+t b\n",
    "$$\n",
    "\n",
    "と表される。\n",
    "これはべクトル方程式を座標を用いて書き表したものである。\n",
    "\n",
    "なお$\\boldsymbol{a}$ は $\\mathbf{0}$ ではないから、 $a, b$ の少なくとも一方は 0 ではない。"
   ]
  },
  {
   "cell_type": "code",
   "execution_count": 52,
   "id": "d03e7066-f35a-4d58-bb89-318fcc9b275f",
   "metadata": {
    "jupyter": {
     "source_hidden": true
    },
    "tags": [
     "hide-input"
    ]
   },
   "outputs": [
    {
     "data": {
      "image/png": "[encoded data removed]",
      "text/plain": [
       "<Figure size 450x250 with 1 Axes>"
      ]
     },
     "metadata": {},
     "output_type": "display_data"
    }
   ],
   "source": [
    "import numpy as np\n",
    "import matplotlib.pyplot as plt\n",
    "\n",
    "a = np.array([2, 1])\n",
    "p = np.array([0, 1])\n",
    "t = 2\n",
    "x = p + t * a\n",
    "\n",
    "fig, ax = plt.subplots(figsize=[4.5, 2.5], dpi=100)\n",
    "o = [0, 0]\n",
    "ax.arrow(*o, *a, color=\"darkorange\")\n",
    "ax.text(*a, \"a\", color=\"darkorange\")\n",
    "\n",
    "ax.scatter(*p, color=\"steelblue\")\n",
    "ax.text(*p, \"p \", color=\"steelblue\", ha=\"right\")\n",
    "ax.scatter(*x, color=\"steelblue\")\n",
    "ax.text(*x, \"x \", color=\"steelblue\", ha=\"right\")\n",
    "\n",
    "ax.arrow(*p, *(x - p), color=\"steelblue\")\n",
    "pos = p + (x - p) / 2\n",
    "ax.text(*pos, r\"$x = \\vec{p} + t \\vec{a}$\", color=\"steelblue\", ha=\"right\")\n",
    "\n",
    "fig.show()"
   ]
  },
  {
   "cell_type": "markdown",
   "id": "380c6072-76f9-4d81-ae79-a0a7d295f281",
   "metadata": {},
   "source": [
    "### tを消去した直線の方程式\n",
    "\n",
    "媒介変数$t$を消去した形にすることもできる\n",
    "\n",
    "$x = x_0 + t a$に$b$を掛けて、$y=y_0+t b$に$a$を掛けて、両者を差し引けば\n",
    "\n",
    "$$\n",
    "b x - a y = b x_0 + b t a - a y_0 - a t b\n",
    "$$\n",
    "\n",
    "$\\alpha=b, \\quad \\beta=-a, \\gamma=a y_0-b x_0$として\n",
    "\n",
    "$$\n",
    "\\alpha x+\\beta y+\\gamma=0\n",
    "$$"
   ]
  },
  {
   "cell_type": "markdown",
   "id": "5b1ddbd5-6abc-4908-a155-690c33908b96",
   "metadata": {},
   "source": [
    "2点 $A,B$ (ただし$A\\neq B$)を通る直線のべクトル方程式は\n",
    "\n",
    "$$\n",
    "\\boldsymbol{x}=\\boldsymbol{a}+t(\\boldsymbol{b}-\\boldsymbol{a})\n",
    "$$\n",
    "\n",
    "あるいは\n",
    "\n",
    "$$\n",
    "\\boldsymbol{x}=(1-t) \\boldsymbol{a}+t \\boldsymbol{b}\n",
    "$$\n",
    "\n",
    "で与えられる"
   ]
  },
  {
   "cell_type": "code",
   "execution_count": null,
   "id": "bc92edd7-b865-4d32-84b6-dce2a0f25f40",
   "metadata": {},
   "outputs": [],
   "source": []
  }
 ],
 "metadata": {
  "kernelspec": {
   "display_name": "Python 3 (ipykernel)",
   "language": "python",
   "name": "python3"
  },
  "language_info": {
   "codemirror_mode": {
    "name": "ipython",
    "version": 3
   },
   "file_extension": ".py",
   "mimetype": "text/x-python",
   "name": "python",
   "nbconvert_exporter": "python",
   "pygments_lexer": "ipython3",
   "version": "3.10.13"
  }
 },
 "nbformat": 4,
 "nbformat_minor": 5
}
