{
 "cells": [
  {
   "cell_type": "markdown",
   "id": "9257a26c-9b6c-4d4d-b447-cf598b9227e3",
   "metadata": {},
   "source": [
    "# 2次元と3次元の簡単な幾何学"
   ]
  },
  {
   "cell_type": "markdown",
   "id": "7a1ddf05-166f-4618-a109-3f02752b76f7",
   "metadata": {},
   "source": [
    "## 平面における直線の方程式\n",
    "\n",
    "1. あるベクトル$\\boldsymbol{a}$に対して平行な直線\n",
    "2. あるベクトル$\\boldsymbol{a}$に対して垂直な直線\n",
    "\n",
    "という2つの方法がある"
   ]
  },
  {
   "cell_type": "markdown",
   "id": "97387b84-fcdd-4d5a-8b55-5dbad6079da8",
   "metadata": {},
   "source": [
    "### ベクトルaに平行な直線\n",
    "\n",
    "点$P$を通って、ベクトル$\\boldsymbol{a} (\\neq \\boldsymbol{0})$に平行な直線を$l$とすれば、点$X$が$l$上にあることは、ベクトル$\\vec{PX}$が$\\boldsymbol{a}$に並行であること、すなわち\n",
    "\n",
    "$$\n",
    "\\vec{PX} = t \\boldsymbol{a}\n",
    "$$\n",
    "\n",
    "となるような実数$t$が存在することと同等である。"
   ]
  },
  {
   "cell_type": "markdown",
   "id": "4683278e-768e-4d93-a21b-c680bc50189f",
   "metadata": {},
   "source": [
    "$P, X$の位置ベクトルをそれぞれ$\\boldsymbol{p}, \\boldsymbol{x}$とすれば、$\\vec{PX} = t \\boldsymbol{a}$は\n",
    "\n",
    "$$\n",
    "\\boldsymbol{x} - \\boldsymbol{p} = t \\boldsymbol{a}\n",
    "$$\n",
    "\n",
    "あるいは\n",
    "\n",
    "$$\n",
    "\\boldsymbol{x} = \\boldsymbol{p} + t \\boldsymbol{a}\n",
    "$$\n",
    "\n",
    "と書き直すことができる。$t$があらゆる実数値をとれば、$X$は$l$上のあらゆる位置を取る。\n",
    "\n",
    "\n",
    "$\\boldsymbol{x} = \\boldsymbol{p} + t \\boldsymbol{a}$ を、$t$を媒介変数とする直線$l$の **ベクトル方程式** といい、$\\boldsymbol{a}$ を$l$の **方向ベクトル** という。\n",
    "\n"
   ]
  },
  {
   "cell_type": "markdown",
   "id": "d13f9aff-dd8d-4919-af73-c8d90004d2dd",
   "metadata": {},
   "source": [
    "通常のように ベクトルを成分表示して $\\boldsymbol{a}=(a, b), \\boldsymbol{p}=(x_0, y_0), \\boldsymbol{x}=(x, y)$ とすれば $\\boldsymbol{x} = \\boldsymbol{p} + t \\boldsymbol{a}$ は\n",
    "\n",
    "$$\n",
    "(x, y)=(x_0, y_0) + t(a, b)\n",
    "$$\n",
    "\n",
    "すなわち\n",
    "\n",
    "$$\n",
    "x=x_0 + t a, \\quad y=y_0+t b\n",
    "$$\n",
    "\n",
    "と表される。\n",
    "これはべクトル方程式を座標を用いて書き表したものである。\n",
    "\n",
    "なお$\\boldsymbol{a}$ は $\\mathbf{0}$ ではないから、 $a, b$ の少なくとも一方は 0 ではない。"
   ]
  },
  {
   "cell_type": "code",
   "execution_count": 58,
   "id": "d03e7066-f35a-4d58-bb89-318fcc9b275f",
   "metadata": {
    "jupyter": {
     "source_hidden": true
    },
    "tags": [
     "hide-input"
    ]
   },
   "outputs": [
    {
     "data": {
      "image/png": "[encoded data removed]",
      "text/plain": [
       "<Figure size 450x250 with 1 Axes>"
      ]
     },
     "metadata": {},
     "output_type": "display_data"
    }
   ],
   "source": [
    "import numpy as np\n",
    "import matplotlib.pyplot as plt\n",
    "\n",
    "a = np.array([2, 1])\n",
    "p = np.array([0, 1])\n",
    "t = 2\n",
    "x = p + t * a\n",
    "\n",
    "fig, ax = plt.subplots(figsize=[4.5, 2.5], dpi=100)\n",
    "o = [0, 0]\n",
    "ax.arrow(*o, *a, color=\"darkorange\")\n",
    "ax.text(*a, \"a\", color=\"darkorange\")\n",
    "\n",
    "ax.scatter(*p, color=\"steelblue\")\n",
    "ax.text(*p, \"p \", color=\"steelblue\", ha=\"right\")\n",
    "ax.scatter(*x, color=\"steelblue\")\n",
    "ax.text(*x, \"x \", color=\"steelblue\", ha=\"right\")\n",
    "\n",
    "ax.arrow(*p, *(x - p), color=\"steelblue\")\n",
    "pos = p + (x - p) / 2\n",
    "ax.text(*pos, r\"$x = \\vec{p} + t \\vec{a}$\", color=\"steelblue\", ha=\"right\")\n",
    "ax.set(title=fr\"line with $t={t}$, $a={a}$, $p={p}$\")\n",
    "fig.show()"
   ]
  },
  {
   "cell_type": "markdown",
   "id": "380c6072-76f9-4d81-ae79-a0a7d295f281",
   "metadata": {},
   "source": [
    "#### tを消去した直線の方程式\n",
    "\n",
    "媒介変数$t$を消去した形にすることもできる\n",
    "\n",
    "$x = x_0 + t a$に$b$を掛けて、$y=y_0+t b$に$a$を掛けて、両者を差し引けば\n",
    "\n",
    "$$\n",
    "b x - a y = b x_0 + b t a - a y_0 - a t b\\\\\n",
    "= b x_0 - a y_0\n",
    "$$\n",
    "\n",
    "$\\alpha=b, \\quad \\beta=-a, \\gamma=a y_0-b x_0$として\n",
    "\n",
    "$$\n",
    "\\alpha x+\\beta y+\\gamma=0\n",
    "$$"
   ]
  },
  {
   "cell_type": "markdown",
   "id": "5b1ddbd5-6abc-4908-a155-690c33908b96",
   "metadata": {},
   "source": [
    "#### 2点を通る直線\n",
    "\n",
    "2点 $A,B$ (ただし$A\\neq B$)を通る直線のべクトル方程式は\n",
    "\n",
    "$$\n",
    "\\boldsymbol{x}=\\boldsymbol{a}+t(\\boldsymbol{b}-\\boldsymbol{a})\n",
    "$$\n",
    "\n",
    "あるいは\n",
    "\n",
    "$$\n",
    "\\boldsymbol{x}=(1-t) \\boldsymbol{a}+t \\boldsymbol{b}\n",
    "$$\n",
    "\n",
    "で与えられる"
   ]
  },
  {
   "cell_type": "markdown",
   "id": "cd8fe24b-cb9c-43ce-bdde-5557c204912d",
   "metadata": {},
   "source": [
    ":::{card} 例\n",
    "\n",
    "点$\\boldsymbol{a}=(3, 5), \\boldsymbol{b}=(-5, -3)$を通る直線の方程式を求める。\n",
    "\n",
    "$$\n",
    "\\boldsymbol{x}=(1-t) \\boldsymbol{a}+t \\boldsymbol{b}\n",
    "$$\n",
    "\n",
    "より\n",
    "\n",
    "\n",
    "$$\n",
    "\\boldsymbol{x}=\n",
    "(1-t) \\begin{pmatrix} 3 \\\\ 5 \\end{pmatrix}\n",
    "+ t   \\begin{pmatrix} -5 \\\\ -3 \\end{pmatrix}\n",
    "$$\n",
    "\n",
    "\n",
    ":::"
   ]
  },
  {
   "cell_type": "code",
   "execution_count": 60,
   "id": "8bcfcff8-ae08-47ab-a595-ad915fee1be0",
   "metadata": {},
   "outputs": [
    {
     "data": {
      "text/plain": [
       "(1.0, 2.0)"
      ]
     },
     "execution_count": 60,
     "metadata": {},
     "output_type": "execute_result"
    }
   ],
   "source": [
    "# 与えられた点\n",
    "x1, y1 = 3, 5\n",
    "x2, y2 = -5, -3\n",
    "\n",
    "# 傾きmを計算\n",
    "m = (y2 - y1) / (x2 - x1)\n",
    "\n",
    "# 傾きを使用して点傾き形式の方程式を求める\n",
    "# 点 (x1, y1) = (3, 5) を使用\n",
    "m, y1 - m*x1"
   ]
  },
  {
   "cell_type": "markdown",
   "id": "eb750e7e-4811-432b-9b92-ddf1079336c6",
   "metadata": {},
   "source": [
    "### ベクトルaに垂直な直線\n",
    "\n",
    "平面上の点$P$を通り、$\\boldsymbol{0}$でないベクトル$\\boldsymbol{a}$に垂直な直線$l$を考える。\n",
    "\n",
    "点$X$が直線$l$上にあるためには、ベクトル$\\overrightarrow{P X}$が$\\boldsymbol{a}$垂直であることが必要かつ十分である。\n",
    "\n",
    "$\\overrightarrow{P X}=\\boldsymbol{x}-\\boldsymbol{p}$であるから、このことは\n",
    "\n",
    "$$\n",
    "\\boldsymbol{a} \\cdot(\\boldsymbol{x}-\\boldsymbol{p})=0\n",
    "\\quad \\text{ または } \\quad\n",
    "\\boldsymbol{a} \\cdot \\boldsymbol{x}=\\boldsymbol{a} \\cdot \\boldsymbol{p}\n",
    "$$\n",
    "\n",
    "$\\boldsymbol{a}=(a, b), \\boldsymbol{p}=\\left(x_0, y_0\\right), \\quad \\boldsymbol{x}=(x, y)$ とおけば、\n",
    "\n",
    "$$\n",
    "a\\left(x-x_0\\right)+b\\left(y-y_0\\right)=0\n",
    "\\quad \\text{ または } \\quad\n",
    "a x+b y=a x_0+b y_0\n",
    "$$\n",
    "\n",
    "と書かれる。$a x_0+b y_0$は定数なので$c$とおけば\n",
    "\n",
    "$$\n",
    "ax + by = c\n",
    "$$\n",
    "\n",
    "となる。\n",
    "\n",
    "$\\boldsymbol{a}=(a, b)$のような直線に垂直なベクトルは **法ベクトル** という。"
   ]
  },
  {
   "cell_type": "markdown",
   "id": "ece51ded-a97c-4ff0-be27-6406d36d52df",
   "metadata": {},
   "source": [
    "## 空間における直線の方程式\n",
    "\n",
    "任意の点$A$の位置ベクトルがベクトル$\\boldsymbol{a}=\\overrightarrow{O A}$として定義される（$O$は原点の座標）\n",
    "\n",
    "$P$ を 1 つの点とし， $\\boldsymbol{a}$ を $\\mathbf{0}$ でない 1 つのべクトルとする。\n",
    "$P$ を通って $\\boldsymbol{a}$ に平行な直線 $l$ のベクトル方程式は、 前と同様に\n",
    "\n",
    "$$\n",
    "\\boldsymbol{x}=\\boldsymbol{p}+t \\boldsymbol{a}\n",
    "$$\n",
    "\n",
    "によって与えられる。$t$を媒介変数、$\\boldsymbol{a}$を方向ベクトルという。"
   ]
  },
  {
   "cell_type": "markdown",
   "id": "3e64b718-bac0-4a6f-93e2-c93056e69b17",
   "metadata": {},
   "source": [
    "ベクトルを成分表示して $\\boldsymbol{a}=(a, b, c), \\boldsymbol{p}=\\left(x_0, y_0, z_0\\right), \\boldsymbol{x}=(x, y, z)$ とすれば、$\\boldsymbol{x}=\\boldsymbol{p}+t \\boldsymbol{a}$は\n",
    "\n",
    "$$\n",
    "x=x_0+t a, \\quad y=y_0+t b, \\quad z=z_0+t c\n",
    "$$\n",
    "\n",
    "と書くことができる\n"
   ]
  },
  {
   "cell_type": "markdown",
   "id": "a2f18ba4-c9df-4228-9774-608e82007767",
   "metadata": {},
   "source": [
    "#### tの消去\n",
    "\n",
    "$a,b,c$のいずれも0でなければ\n",
    "\n",
    "$$\n",
    "\\frac{x-x_0}{a}=\\frac{y-y_0}{b}=\\frac{z-z_0}{c}\n",
    "$$\n",
    "\n",
    "として$t$を消去できる。\n",
    "\n",
    "そうでない場合、たとえば$a=0, b\\neq0, c\\neq 0$の場合は\n",
    "\n",
    "$$\n",
    "x=x_0, \\quad \\frac{y-y_0}{b}=\\frac{z-z_0}{c}\n",
    "$$\n",
    "\n",
    "とすればよい"
   ]
  },
  {
   "cell_type": "markdown",
   "id": "3a61f6b5-8626-4efc-9b63-1ebac58f00b0",
   "metadata": {},
   "source": [
    "## 空間における平面の方程式"
   ]
  },
  {
   "cell_type": "markdown",
   "id": "7d2f9a75-15a4-4c08-b952-a92e73348d94",
   "metadata": {},
   "source": [
    "### ベクトルaに垂直な平面\n",
    "\n",
    "所与の点$P$と$\\boldsymbol{0}$でないベクトル$\\boldsymbol{a}$について、$P$をとおって$\\boldsymbol{a}$に垂直な1つの平面$\\alpha$が定められる\n",
    "\n",
    "空間の点$X$がその平面上にあるためには、ベクトル$\\overrightarrow{P X}=\\boldsymbol{x}-\\boldsymbol{p}$が$\\boldsymbol{a}$垂直であることが必要かつ十分であるから、\n",
    "平面$\\alpha$の方程式は\n",
    "\n",
    "$$\n",
    "\\boldsymbol{a} \\cdot(\\boldsymbol{x}-\\boldsymbol{p})=0\n",
    "\\quad \\text{ または } \\quad\n",
    "\\boldsymbol{a} \\cdot \\boldsymbol{x}=\\boldsymbol{a} \\cdot \\boldsymbol{p}\n",
    "$$\n",
    "\n",
    "となる。\n",
    "\n",
    "$\\boldsymbol{a}=(a, b, c), \\boldsymbol{p}=\\left(x_0, y_0, z_0\\right), \\boldsymbol{x}=(x, y, z)$ とおけば\n",
    "\n",
    "\n",
    "$$\n",
    "a\\left(x-x_0\\right)+b\\left(y-y_0\\right)+c\\left(z-z_0\\right)=0\n",
    "$$\n",
    "\n",
    "となり、定数$a x_0+b y_0+c z_0$ を $d$ とおけば\n",
    "\n",
    "$$\n",
    "a x+b y+c z=d\n",
    "$$\n"
   ]
  },
  {
   "cell_type": "markdown",
   "id": "470f712e-73da-4a33-a454-863aef740b1b",
   "metadata": {},
   "source": [
    ":::{card} 例\n",
    "\n",
    "点 $(-3,1,2)$ を通り、 ベクトル $(2,4,-5)$ に垂直な平面の方程式を求めたいとする。\n",
    "\n",
    "$$\n",
    "a x+b y+c z = a x_0+b y_0+c z_0\n",
    "$$\n",
    "\n",
    "なので\n",
    "\n",
    "$$\n",
    "2 x + 4 y - 5z = -6 + 4 - 10\n",
    "$$\n",
    "\n",
    "よって\n",
    "\n",
    "$$\n",
    "2 x + 4 y - 5z = -12\n",
    "$$\n",
    "\n",
    ":::"
   ]
  },
  {
   "cell_type": "markdown",
   "id": "175daf9c-dc1d-4a7d-a32e-f7d45475b495",
   "metadata": {},
   "source": [
    "#### 垂直なベクトルをどう求めるか\n",
    "\n",
    "法線ベクトルを求める"
   ]
  },
  {
   "cell_type": "markdown",
   "id": "cedfcc88-e285-4cc2-b869-2f2e82f0f336",
   "metadata": {},
   "source": [
    "### 3点を通る平面\n",
    "\n",
    "空間の平面は空間上の異なる3点で決まる。これらを$\\mathrm{P}(p_1, p_2, p_3), \\mathrm{P}^{\\prime}\\left(p_1^{\\prime}, p_2^{\\prime}, p_3^{\\prime}\\right), \\mathrm{P}^{\\prime \\prime}\\left(p_1^{\\prime \\prime}, p_2^{\\prime \\prime}, p_3^{\\prime \\prime}\\right)$とすると\n",
    "\n",
    "平面上の点$X\\left(x_1, x_2, x_3\\right)$はパラメータ$s, t \\in \\mathbb{R}$を用いて\n",
    "\n",
    "$$\n",
    "\\overrightarrow{\\mathrm{OX}}=\\overrightarrow{\\mathrm{OP}}+s \\overrightarrow{\\mathrm{PP}^{\\prime}}+t \\overrightarrow{\\mathrm{PP}^{\\prime \\prime}}\n",
    "$$\n",
    "\n",
    "と書くことができる（平面のパラメータ表示）"
   ]
  },
  {
   "cell_type": "markdown",
   "id": "02d15888-d5ac-4436-b978-49d2edd264f1",
   "metadata": {},
   "source": [
    "点$P$を通り$\\boldsymbol{a}, \\boldsymbol{b} \\in \\mathbb{R}^3$の2方向に張られた平面$\\Pi$\n",
    "\n",
    "$$\n",
    "\\Pi = \\{\\overrightarrow{\\mathrm{OP}}+s \\boldsymbol{a}+t \\boldsymbol{b} \\mid s, t \\in \\mathbb{R}\\}=\\overrightarrow{\\mathrm{OP}}+\\mathbb{R} \\boldsymbol{a}+\\mathbb{R} \\boldsymbol{b}\n",
    "$$\n",
    "\n",
    "が考えられる。$\\Pi$は\n",
    "\n",
    "$$\n",
    "\\overrightarrow{\\mathrm{OX}}=\\overrightarrow{\\mathrm{OP}}+s \\boldsymbol{a}+t \\boldsymbol{b} \\quad (s, t \\in \\mathbb{R})\n",
    "$$\n",
    "\n",
    "と書ける点$X$の全体である。"
   ]
  },
  {
   "cell_type": "code",
   "execution_count": 67,
   "id": "2e481170-2c7f-40e1-9f2e-192fef5d55b1",
   "metadata": {},
   "outputs": [
    {
     "data": {
      "text/plain": [
       "<matplotlib.collections.PathCollection at 0x7f561c509e70>"
      ]
     },
     "execution_count": 67,
     "metadata": {},
     "output_type": "execute_result"
    },
    {
     "data": {
      "image/png": "[encoded data removed]",
      "text/plain": [
       "<Figure size 640x480 with 1 Axes>"
      ]
     },
     "metadata": {},
     "output_type": "display_data"
    }
   ],
   "source": [
    "import matplotlib.pyplot as plt\n",
    "import numpy as np\n",
    "\n",
    "o = np.array([0, 0])\n",
    "p = np.array([1, 1])\n",
    "a = np.array([0, 2])\n",
    "b = np.array([2, 0])\n",
    "x = p + a + b\n",
    "\n",
    "fig, ax = plt.subplots()\n",
    "arrow_cfg = dict(width=0.01, color=\"black\", length_includes_head=True)\n",
    "ax.arrow(*o, *a, **arrow_cfg)\n",
    "ax.arrow(*o, *b, **arrow_cfg)\n",
    "\n",
    "ax.scatter(*x)\n"
   ]
  },
  {
   "cell_type": "code",
   "execution_count": null,
   "id": "57fa9401-f417-425d-a953-e53daa3735c5",
   "metadata": {},
   "outputs": [],
   "source": []
  },
  {
   "cell_type": "code",
   "execution_count": 67,
   "id": "19fd5ff7-e899-43fd-b00c-f194bbbfdca8",
   "metadata": {},
   "outputs": [
    {
     "data": {
      "text/plain": [
       "<matplotlib.collections.PathCollection at 0x7f561c509e70>"
      ]
     },
     "execution_count": 67,
     "metadata": {},
     "output_type": "execute_result"
    },
    {
     "data": {
      "image/png": "[encoded data removed]",
      "text/plain": [
       "<Figure size 640x480 with 1 Axes>"
      ]
     },
     "metadata": {},
     "output_type": "display_data"
    }
   ],
   "source": [
    "import matplotlib.pyplot as plt\n",
    "import numpy as np\n",
    "\n",
    "o = np.array([0, 0])\n",
    "p = np.array([1, 1])\n",
    "a = np.array([0, 2])\n",
    "b = np.array([2, 0])\n",
    "x = p + a + b\n",
    "\n",
    "fig, ax = plt.subplots()\n",
    "arrow_cfg = dict(width=0.01, color=\"black\", length_includes_head=True)\n",
    "ax.arrow(*o, *a, **arrow_cfg)\n",
    "ax.arrow(*o, *b, **arrow_cfg)\n",
    "\n",
    "ax.scatter(*x)\n"
   ]
  },
  {
   "cell_type": "code",
   "execution_count": null,
   "id": "d26c9899-e7a7-4804-bd31-598f05346126",
   "metadata": {},
   "outputs": [],
   "source": []
  },
  {
   "cell_type": "markdown",
   "id": "ea9e00d8-1fcf-46a5-b1f3-6609f06cf314",
   "metadata": {},
   "source": [
    "$$\n",
    "\\boldsymbol{a} = (a_1,a_2,a_3)^T\\\\\n",
    "\\boldsymbol{b} = (b_1,b_2,b_3)^T\\\\\n",
    "$$\n",
    "\n",
    "とすると\n",
    "\n",
    "$$\n",
    "\\overrightarrow{\\mathrm{OX}}=\\overrightarrow{\\mathrm{OP}}+s \\boldsymbol{a}+t \\boldsymbol{b}\n",
    "\\Longleftrightarrow\n",
    "\\left\\{\\begin{array}{l}\n",
    "x_1-p_1=s a_1+t b_1 \\\\\n",
    "x_2-p_2=s a_2+t b_2 \\\\\n",
    "x_3-p_3=s a_3+t b_3\n",
    "\\end{array}\\right.\n",
    "$$\n",
    "\n",
    "\n",
    "となるので、この連立1次方程式を解く。\n",
    "\n",
    "第1,2式を行列表記すると\n",
    "\n",
    "$$\n",
    "\\left[\\begin{array}{ll}\n",
    "a_1 & b_1 \\\\\n",
    "a_2 & b_2\n",
    "\\end{array}\\right]\n",
    "\\left[\\begin{array}{l}\n",
    "s \\\\\n",
    "t\n",
    "\\end{array}\\right]\n",
    "=\n",
    "\\left[\\begin{array}{l}\n",
    "x_1-p_1 \\\\\n",
    "x_2-p_2\n",
    "\\end{array}\\right]\n",
    "$$\n",
    "\n",
    "なので\n",
    "\n",
    "$$\n",
    "\\left[\\begin{array}{l}\n",
    "s \\\\\n",
    "t\n",
    "\\end{array}\\right]=\\left[\\begin{array}{ll}\n",
    "a_1 & b_1 \\\\\n",
    "a_2 & b_2\n",
    "\\end{array}\\right]^{-1}\\left[\\begin{array}{l}\n",
    "x_1-p_1 \\\\\n",
    "x_2-p_2\n",
    "\\end{array}\\right]\n",
    "$$\n",
    "\n",
    "となるので、第$2,3$式に代入すれば、$\\Delta_{12}:=a_1 b_2-a_2 b_1 \\neq 0$ の下に\n",
    "\n",
    "\n",
    "$$\n",
    "\\begin{aligned}\n",
    "& {\\left[\\begin{array}{c}\n",
    "x_2-p_2 \\\\\n",
    "x_3-p_3\n",
    "\\end{array}\\right]=\\left[\\begin{array}{ll}\n",
    "a_2 & b_2 \\\\\n",
    "a_3 & b_3\n",
    "\\end{array}\\right]\\left[\\begin{array}{ll}\n",
    "a_1 & b_1 \\\\\n",
    "a_2 & b_2\n",
    "\\end{array}\\right]^{-1}\\left[\\begin{array}{l}\n",
    "x_1-p_1 \\\\\n",
    "x_2-p_2\n",
    "\\end{array}\\right]} \\\\\n",
    "& =\\frac{1}{\\Delta_{12}}\\left[\\begin{array}{ll}\n",
    "a_2 & b_2 \\\\\n",
    "a_3 & b_3\n",
    "\\end{array}\\right]\\left[\\begin{array}{rr}\n",
    "b_2 & -b_1 \\\\\n",
    "-a_2 & a_1\n",
    "\\end{array}\\right]\\left[\\begin{array}{l}\n",
    "x_1-p_1 \\\\\n",
    "x_2-p_2\n",
    "\\end{array}\\right] \\\\\n",
    "& =\\frac{1}{\\Delta_{12}}\\left[\\begin{array}{cc}\n",
    "0 & a_1 b_2-a_2 b_1 \\\\\n",
    "a_3 b_2-a_2 b_3 & a_1 b_3-a_3 b_1\n",
    "\\end{array}\\right]\\left[\\begin{array}{l}\n",
    "x_1-p_1 \\\\\n",
    "x_2-p_2\n",
    "\\end{array}\\right]\n",
    "\\end{aligned}\n",
    "$$\n",
    "\n"
   ]
  },
  {
   "cell_type": "markdown",
   "id": "23678805-0ef6-43f0-a879-00c1142df0a6",
   "metadata": {},
   "source": [
    "この第2成分は\n",
    "\n",
    "$$\n",
    "x_3-p_3=\\frac{a_3 b_2-a_2 b_3}{\\Delta_{12}}\\left(x_1-p_1\\right)+\\frac{a_1 b_3-a_3 b_1}{\\Delta_{12}}\\left(x_2-p_2\\right)\n",
    "$$\n",
    "\n",
    "となり、\n",
    "\n",
    "$$\n",
    "\\Delta_{12} (x_3-p_3)\n",
    "= a_3 b_2-a_2 b_3 (x_1-p_1)\n",
    "+ a_1 b_3-a_3 b_1 (x_2-p_2)\n",
    "$$\n",
    "\n",
    "つまり\n",
    "\n",
    "$$\n",
    "\\left|\\begin{array}{ll}\n",
    "a_2 & b_2 \\\\\n",
    "a_3 & b_3\n",
    "\\end{array}\\right|\n",
    "(x_1-p_1)\n",
    "+ \\left|\\begin{array}{ll}\n",
    "a_3 & b_3 \\\\\n",
    "a_1 & b_1\n",
    "\\end{array}\\right|\n",
    "(x_2-p_2)\n",
    "-\\left|\\begin{array}{ll}\n",
    "a_1 & b_1 \\\\\n",
    "a_2 & b_2\n",
    "\\end{array}\\right|\n",
    "(x_3-p_3)\n",
    "=0\n",
    "$$"
   ]
  },
  {
   "cell_type": "markdown",
   "id": "4ab3b5d2-992c-457a-9650-1147b5f97dd8",
   "metadata": {},
   "source": [
    "なので\n",
    "\n",
    "$$\n",
    "[\\lambda, \\mu, \\nu]=\\left[\\left|\\begin{array}{ll}\n",
    "a_2 & b_2 \\\\\n",
    "a_3 & b_3\n",
    "\\end{array}\\right|,\\left|\\begin{array}{ll}\n",
    "a_3 & b_3 \\\\\n",
    "a_1 & b_1\n",
    "\\end{array}\\right|,\\left|\\begin{array}{ll}\n",
    "a_1 & b_1 \\\\\n",
    "a_2 & b_2\n",
    "\\end{array}\\right|\\right]\n",
    "$$\n",
    "\n",
    "をつかって\n",
    "\n",
    "$$\n",
    "[\\lambda, \\mu, \\nu]\\left[\\begin{array}{l}x_1-p_1 \\\\ x_2-p_2 \\\\ x_3-p_3\\end{array}\\right]=0\n",
    "$$\n",
    "\n",
    "と表すことができる"
   ]
  },
  {
   "cell_type": "markdown",
   "id": "d15290df-70c3-4634-847a-4bc4e5ac74b9",
   "metadata": {},
   "source": [
    "### ベクトル積で表す平面の方程式\n",
    "\n",
    "$$\n",
    "[\\lambda, \\mu, \\nu]\\left[\\begin{array}{l}x_1-p_1 \\\\ x_2-p_2 \\\\ x_3-p_3\\end{array}\\right]=0\n",
    "$$\n",
    "\n",
    "の$[\\lambda, \\mu, \\nu]$はベクトル積（外積）$\\boldsymbol{a} \\times \\boldsymbol{b}$であるため、\n",
    "\n",
    "平面の方程式は、外積と内積を使って\n",
    "\n",
    "$$\n",
    "(\\boldsymbol{a} \\times \\boldsymbol{b}) \\cdot (\\boldsymbol{x}-\\boldsymbol{p}) = 0\n",
    "$$\n",
    "\n",
    "と書くことができる\n",
    "\n",
    "（法線ベクトル$a$を 外積 $\\boldsymbol{a} \\times \\boldsymbol{b}$で求める）"
   ]
  },
  {
   "cell_type": "markdown",
   "id": "433856ca-ee6b-417b-b014-b83daa115bac",
   "metadata": {},
   "source": [
    "ベクトル積は以下のように（形式的に）書くことができる\n",
    "\n",
    "$$\n",
    "\\boldsymbol{a} \\times \\boldsymbol{b}=\\left|\\begin{array}{lll}\n",
    "a_1 & b_1 & \\boldsymbol{e}_1 \\\\\n",
    "a_2 & b_2 & \\boldsymbol{e}_2 \\\\\n",
    "a_3 & b_3 & \\boldsymbol{e}_3\n",
    "\\end{array}\\right|=\\left|\\begin{array}{lll}\n",
    "\\boldsymbol{a} & \\boldsymbol{b} & \\boldsymbol{e}\n",
    "\\end{array}\\right|\n",
    "$$\n",
    "\n",
    "そのため、$(\\boldsymbol{x}-\\boldsymbol{p})$との内積をとるということは、$e$を$x-p$で置き換えた行列に対する行列式\n",
    "\n",
    "$$\n",
    "(\\boldsymbol{a} \\times \\boldsymbol{b}) \\cdot (\\boldsymbol{x}-\\boldsymbol{p}) = \n",
    "\\left|\\begin{array}{lll} \\boldsymbol{a} & \\boldsymbol{b} & \\boldsymbol{x}-\\boldsymbol{p} \\end{array}\\right|\n",
    "$$\n",
    "\n",
    "ということになる"
   ]
  }
 ],
 "metadata": {
  "kernelspec": {
   "display_name": "Python 3 (ipykernel)",
   "language": "python",
   "name": "python3"
  },
  "language_info": {
   "codemirror_mode": {
    "name": "ipython",
    "version": 3
   },
   "file_extension": ".py",
   "mimetype": "text/x-python",
   "name": "python",
   "nbconvert_exporter": "python",
   "pygments_lexer": "ipython3",
   "version": "3.10.13"
  }
 },
 "nbformat": 4,
 "nbformat_minor": 5
}
