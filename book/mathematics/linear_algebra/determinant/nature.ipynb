{
 "cells": [
  {
   "cell_type": "markdown",
   "id": "94d65849-7b35-4237-b521-4063660e033e",
   "metadata": {},
   "source": [
    "# 行列式の性質"
   ]
  },
  {
   "cell_type": "markdown",
   "id": "f0e8fef7-d030-4f8b-9f53-6ed7b08a7817",
   "metadata": {},
   "source": [
    "## 線形性・交代性・規格化"
   ]
  },
  {
   "cell_type": "markdown",
   "id": "8e94ce33-e5b2-46c6-9fda-13c2688527ab",
   "metadata": {},
   "source": [
    "$A$を $n$ 次の正方行列 $A=(\\boldsymbol{a}_1, \\cdots, \\boldsymbol{a}_n)$とする。\n",
    "\n",
    "行列式を以下の3つの性質をもつものとする定義に従えば、定義から以下の性質を持つ。"
   ]
  },
  {
   "cell_type": "markdown",
   "id": "5a6cb08c-255d-4930-b390-e09de66ae8bc",
   "metadata": {},
   "source": [
    ":::{admonition} 線型性\n",
    ":class: note\n",
    "\n",
    "$\\left|\\boldsymbol{a}_1, \\cdots, \\boldsymbol{a}_n\\right|$ は、各列について線型である。\n",
    "\n",
    "$$\n",
    "\\begin{aligned}\n",
    "& \\left|\\boldsymbol{a}_1, \\cdots, c \\boldsymbol{a}_k+c^{\\prime} \\boldsymbol{a}_k^{\\prime}, \\cdots, \\boldsymbol{a}_n\\right| \\\\\n",
    "& \\quad=c\\left|\\boldsymbol{a}_1, \\cdots, \\boldsymbol{a}_k, \\cdots, \\boldsymbol{a}_n\\right|+c^{\\prime}\\left|\\boldsymbol{a}_1, \\cdots, \\boldsymbol{a}_k^{\\prime}, \\cdots, \\boldsymbol{a}_n\\right|\n",
    "\\end{aligned}\n",
    "$$\n",
    ":::"
   ]
  },
  {
   "cell_type": "markdown",
   "id": "061c7770-5b78-4e65-8715-48d728d5af67",
   "metadata": {},
   "source": [
    "1つのベクトル（行や列）に対して$c$倍すると行列式が$c$倍になり、行列全体に対して$c$倍すると行列式が$c^n$倍になることから、\n",
    "**多重線形性** という呼び方をする本もある（平岡和幸, & 堀玄. (2004). プログラミングのための線形代数. 株式会社 オーム社.）\n",
    "\n",
    "$$\n",
    "\\def\\b#1{\\boldsymbol{#1}}\n",
    "\\begin{align}\n",
    "|c \\b{a}_1, \\b{a}_2, \\cdots, \\b{a}_n| &= c |\\b{a}_1, \\b{a}_2, \\cdots, \\b{a}_n|\\\\\n",
    "|\\b{a}_1 + \\b{a}_1', \\b{a}_2, \\cdots, \\b{a}_n| &= |\\b{a}_1, \\b{a}_2, \\cdots, \\b{a}_n| + |\\b{a}_1', \\b{a}_2, \\cdots, \\b{a}_n|\\\\\n",
    "|c\\b{A}| &= c^n |\\b{A}|\n",
    "\\end{align}\n",
    "$$\n"
   ]
  },
  {
   "cell_type": "markdown",
   "id": "592ee3db-490e-4b64-8e85-dd7717805bae",
   "metadata": {
    "editable": true,
    "slideshow": {
     "slide_type": ""
    },
    "tags": []
   },
   "source": [
    ":::{admonition} 交代性\n",
    ":class: note\n",
    "\n",
    "第 $i$ 列と第 $j$ 列 $(i \\neq j)$ を入れかえ、他はそのままとすると、値が符号だけ変わる\n",
    "\n",
    "$$\n",
    "\\left|\\boldsymbol{a}_1, \\cdots, \\boldsymbol{a}_i, \\cdots, \\boldsymbol{a}_j, \\cdots, \\boldsymbol{a}_n\\right|\n",
    "= -|\\boldsymbol{a}_1, \\cdots, \\overbrace{\\boldsymbol{a}_j}^{i}, \\cdots, \\overbrace{\\boldsymbol{a}_i}^{j}, \\cdots, \\boldsymbol{a}_n|\n",
    "$$\n",
    ":::"
   ]
  },
  {
   "cell_type": "markdown",
   "id": "b4235142-a247-45c6-b8d1-81621862b376",
   "metadata": {},
   "source": [
    ":::{admonition} 規格化\n",
    ":class: note\n",
    "\n",
    "単位行列 $I=(\\boldsymbol{e}_1, \\cdots, \\boldsymbol{e}_n)$ に対しては\n",
    "\n",
    "$$\n",
    "|I|=1\n",
    "$$\n",
    ":::"
   ]
  },
  {
   "cell_type": "markdown",
   "id": "3d65148c-3eb0-4497-980d-c32db8788eae",
   "metadata": {},
   "source": [
    "### 明示公式からの導出\n",
    "\n",
    "ライプニッツの明示公式\n",
    "\n",
    "$$\n",
    "|A| = \\sum_{\\sigma \\in S_n} \\operatorname{sgn}(\\sigma) a_{1 \\sigma(1)} \\cdots a_{i \\sigma(i)} \\cdots a_{n \\sigma(n)}\n",
    "$$\n",
    "\n",
    "に基づく説明"
   ]
  },
  {
   "cell_type": "markdown",
   "id": "80dcc897-a176-476e-b15a-f8ff594f081d",
   "metadata": {},
   "source": [
    "#### 線形性\n",
    "\n",
    "まず定数倍について\n",
    "\n",
    ":::{admonition} 1つの列（列）を $c$ 倍すると、行列式は $c$ 倍になる\n",
    "\n",
    "$$\n",
    "\\begin{aligned}\n",
    "\\left|\\begin{array}{ccc}\n",
    "a_{11} & \\cdots & a_{1 n} \\\\\n",
    "\\vdots & & \\vdots \\\\\n",
    "c a_{i 1} & \\cdots & c a_{i n} \\\\\n",
    "\\vdots & & \\vdots \\\\\n",
    "a_{n 1} & \\cdots & a_{n n}\n",
    "\\end{array}\\right|\n",
    "& =\\sum_{\\sigma \\in S_n} \\operatorname{sgn}(\\sigma) a_{1 \\sigma(1)} \\cdots\\left(c a_{i \\sigma(i)}\\right) \\cdots a_{n \\sigma(n)} \\\\\n",
    "& =c \\sum_{\\sigma \\in S_n} \\operatorname{sgn}(\\sigma) a_{1 \\sigma(1)} \\cdots a_{i \\sigma(i)} \\cdots a_{n \\sigma(n)} \\\\\n",
    "& =\n",
    "c\\left|\\begin{array}{ccc}\n",
    "a_{11} & \\cdots & a_{1 n} \\\\\n",
    "\\vdots & & \\vdots \\\\\n",
    "a_{i 1} & \\cdots & a_{i n} \\\\\n",
    "\\vdots & & \\vdots \\\\\n",
    "a_{n 1} & \\cdots & a_{n n}\n",
    "\\end{array}\\right|\n",
    "\\end{aligned}\n",
    "$$\n",
    ":::"
   ]
  },
  {
   "cell_type": "markdown",
   "id": "9e7e6337-5388-4059-b75d-77242c1f13e3",
   "metadata": {},
   "source": [
    "続いて和について\n",
    "\n",
    ":::{admonition} 1つの行が 2つの行べクトルの和である行列の行列式は、他の行は同じでその行を各々の列べクトルとした行列の行列式の和になる\n",
    "\n",
    "$$\n",
    "\\left|\\begin{array}{ccc}\n",
    "a_{11} & \\cdots & a_{1 n} \\\\\n",
    "\\vdots & & \\vdots \\\\\n",
    "b_{i 1}+c_{i 1} & \\cdots & b_{i n}+c_{i n} \\\\\n",
    "\\vdots & & \\vdots \\\\\n",
    "a_{n 1} & \\cdots & a_{n n}\n",
    "\\end{array}\\right|=\\left|\\begin{array}{ccc}\n",
    "a_{11} & \\cdots & a_{1 n} \\\\\n",
    "\\vdots & & \\vdots \\\\\n",
    "b_{i 1} & \\cdots & b_{i n} \\\\\n",
    "\\vdots & & \\vdots \\\\\n",
    "a_{n 1} & \\cdots & a_{n n}\n",
    "\\end{array}\\right|+\\left|\\begin{array}{ccc}\n",
    "a_{11} & \\cdots & a_{1 n} \\\\\n",
    "\\vdots & & \\vdots \\\\\n",
    "c_{i 1} & \\cdots & c_{i n} \\\\\n",
    "\\vdots & & \\vdots \\\\\n",
    "a_{n 1} & \\cdots & a_{n n}\n",
    "\\end{array}\\right|\n",
    "$$\n",
    "\n",
    "証明：\n",
    "\n",
    "$$\n",
    "\\begin{aligned}\n",
    "\\text { 左辺 } & =\\sum_{\\sigma \\in S_n} \\operatorname{sgn}(\\sigma) a_{1 \\sigma(1)} \\cdots\\left(b_{i \\sigma(i)}+c_{i \\sigma(i)}\\right) \\cdots a_{n \\sigma(n)} \\\\\n",
    "& =\\sum_{\\sigma \\in S_n} \\operatorname{sgn}(\\sigma)\\left\\{a_{1 \\sigma(1)} \\cdots b_{i \\sigma(i)} \\cdots a_{n \\sigma(n)}+a_{1 \\sigma(1)} \\cdots c_{i \\sigma(i)} \\cdots a_{n \\sigma(n)}\\right\\} \\\\\n",
    "& =\\sum_{\\sigma \\in S_n} \\operatorname{sgn}(\\sigma) a_{1 \\sigma(1)} \\cdots b_{i \\sigma(i)} \\cdots a_{n \\sigma(n)}+\\sum_{\\sigma \\in S_n} \\operatorname{sgn}(\\sigma) a_{1 \\sigma(1)} \\cdots c_{i \\sigma(i)} \\cdots a_{n \\sigma(n)} \\\\\n",
    "& =\\text { 右辺 }\n",
    "\\end{aligned}\n",
    "$$\n",
    "\n",
    ":::"
   ]
  },
  {
   "cell_type": "markdown",
   "id": "568f418e-1bab-43a0-8002-b31951cd341a",
   "metadata": {},
   "source": [
    "#### 交代性\n",
    "\n",
    "$$\n",
    "\\left|\\begin{array}{cccc}\n",
    "a_{11} & \\cdots & \\cdots & a_{1 n} \\\\\n",
    "\\vdots & & & \\vdots \\\\\n",
    "a_{j 1} & \\cdots & \\cdots & a_{j n} \\\\\n",
    "\\vdots & & & \\vdots \\\\\n",
    "a_{i 1} & \\cdots & \\cdots & a_{i n} \\\\\n",
    "\\vdots & & & \\vdots \\\\\n",
    "a_{n 1} & \\cdots & \\cdots & a_{n n}\n",
    "\\end{array}\\right|\n",
    "= - \\left|\\begin{array}{cccc}\n",
    "a_{11} & \\cdots & \\cdots & a_{1 n} \\\\\n",
    "\\vdots & & & \\vdots \\\\\n",
    "a_{i 1} & \\cdots & \\cdots & a_{i n} \\\\\n",
    "\\vdots & & & \\vdots \\\\\n",
    "a_{j 1} & \\cdots & \\cdots & a_{j n} \\\\\n",
    "\\vdots & & & \\vdots \\\\\n",
    "a_{n 1} & \\cdots & \\cdots & a_{n n}\n",
    "\\end{array}\\right|\n",
    "$$\n",
    "\n",
    "という性質。\n",
    "\n",
    "証明：\n",
    "\n",
    "$n$ 文字の各置換 $\\sigma$ に対して $\\sigma$ に右から互換 $(i \\quad j)$ をかけた置換を $\\tau$ とおく。すなわち、 $\\tau=\\sigma(i \\quad j)$。\n",
    "\n",
    "このとき、\n",
    "\n",
    "$$\n",
    "\\tau(i)=\\sigma(j), \\quad \\tau(j)=\\sigma(i), \\quad \\tau(k)=\\sigma(k) \\quad(k \\neq i, j)\n",
    "$$\n",
    "\n",
    "となる。符号は\n",
    "\n",
    "$$\n",
    "\\operatorname{sgn}(\\tau)\n",
    "= \\operatorname{sgn}(\\sigma(i \\quad j))\n",
    "= \\operatorname{sgn}(\\sigma) \\cdot \\operatorname{sgn}(i \\quad j)\n",
    "= -\\operatorname{sgn}(\\sigma)\n",
    "$$\n",
    "\n",
    "となる。\n",
    "\n",
    "$$\n",
    "\\begin{aligned}\n",
    "\\text { 左辺 } & =\\sum_{\\sigma \\in S_n} \\operatorname{sgn}(\\sigma) a_{1 \\sigma(1)} \\cdots a_{j \\sigma(i)} \\cdots a_{i \\sigma(j)} \\cdots a_{n \\sigma(n)} \\\\\n",
    "& =\\sum_{\\tau \\in S_n}(-\\operatorname{sgn}(\\tau)) a_{1 \\tau(1)} \\cdots a_{j \\tau(j)} \\cdots a_{i \\tau(i)} \\cdots a_{n \\tau(n)} \\\\\n",
    "& =-\\sum_{\\tau \\in S_n} \\operatorname{sgn}(\\tau) a_{1 \\tau(1)} \\cdots a_{i \\tau(i)} \\cdots a_{j \\tau(j)} \\cdots a_{n \\tau(n)} \\\\\n",
    "& =\\text { 右辺 }\n",
    "\\end{aligned}\n",
    "$$"
   ]
  },
  {
   "cell_type": "markdown",
   "id": "279bdaaf-49c6-4904-8a99-4a96f5da776e",
   "metadata": {},
   "source": [
    "#### 規格化\n",
    "\n",
    "三角行列の行列式は対角成分の積になるという定理（後述）から、$|I|=1$"
   ]
  },
  {
   "cell_type": "markdown",
   "id": "b0841722-4792-481f-b2b6-89cd9198de33",
   "metadata": {},
   "source": [
    "### 行列式の積 = 積の行列式\n",
    "\n",
    ":::{admonition} 乗法性\n",
    "\n",
    "$n$次正方行列$A,B$に対して\n",
    "\n",
    "$$\n",
    "|AB| = |A|\\cdot |B|\n",
    "$$\n",
    "\n",
    "が成り立つ\n",
    ":::\n",
    "\n",
    ":::{dropdown} 証明\n",
    "\n",
    "$B=(\\boldsymbol{b}_1, \\cdots, \\boldsymbol{b}_n)$とおくと、線形性により、\n",
    "\n",
    "$$\n",
    "|AB|=|A\\boldsymbol{b}_1, \\cdots, A\\boldsymbol{b}_n|=c|\\boldsymbol{b}_1, \\cdots, \\boldsymbol{b}_n|\n",
    "$$\n",
    "\n",
    "$B=I$のとき、$c=|AI|=|A|$\n",
    "\n",
    "よって $|AB| = c|B| = |A||B|$\n",
    ":::"
   ]
  },
  {
   "cell_type": "markdown",
   "id": "615e8412-b16b-4b75-9ff7-dd7e66d3f1f6",
   "metadata": {},
   "source": [
    "### 転置行列の行列式\n",
    "\n",
    ":::{admonition} 転置不変性\n",
    "\n",
    "$n$次の正方行列$A$に対して、$A$の行列式と転置行列$A^T$の行列式は等しい、すなわち\n",
    "\n",
    "$$\n",
    "|A| = |A^T|\n",
    "$$\n",
    "\n",
    "が成り立つ\n",
    ":::\n",
    "\n",
    "転置不変性のため、列に成り立つことは行でも成り立つ。"
   ]
  },
  {
   "cell_type": "markdown",
   "id": "d92dd3ba-a2ce-49e0-880f-2fc398ac4ac0",
   "metadata": {},
   "source": [
    "### 逆行列の行列式\n",
    "\n",
    ":::{admonition} 逆行列の行列式\n",
    "\n",
    "$n$次の正則行列$A$について\n",
    "\n",
    "$$\n",
    "|A^{-1}|=|A|^{-1}\n",
    "$$\n",
    "\n",
    "が成り立つ\n",
    ":::\n",
    "\n",
    ":::{dropdown} 証明\n",
    "\n",
    "$$\n",
    "|A| |A^{-1}|=|A A^{-1}|=|I|=1\n",
    "$$\n",
    "\n",
    "\n",
    "$$\n",
    "|A| |A^{-1}| = 1\n",
    "\\to\n",
    "|A^{-1}| = \\frac{1}{|A|}\n",
    "$$\n",
    "\n",
    "ゆえに $|A^{-1}|=|A|^{-1}$ が成り立つ\n",
    ":::"
   ]
  },
  {
   "cell_type": "markdown",
   "id": "e0918df5-5634-4482-aece-4a20b40e83cf",
   "metadata": {},
   "source": [
    "### ゼロが多い行列の行列式\n",
    "\n",
    ":::{admonition} 行列の$(1,1)$成分以外の第1列の成分がすべてゼロのとき、以下が成り立つ\n",
    "\n",
    "$$\n",
    "\\left|\\begin{array}{cccc}\n",
    "a_{11} & a_{12} & \\cdots & a_{1 n} \\\\\n",
    "0 & a_{22} & \\cdots & a_{2 n} \\\\\n",
    "\\vdots & \\vdots & & \\vdots \\\\\n",
    "0 & a_{n 2} & \\cdots & a_{n n}\n",
    "\\end{array}\\right|=a_{11}\\left|\\begin{array}{ccc}\n",
    "a_{22} & \\cdots & a_{2 n} \\\\\n",
    "\\vdots & & \\vdots \\\\\n",
    "a_{n 2} & \\cdots & a_{n n}\n",
    "\\end{array}\\right|\n",
    "$$\n",
    ":::\n",
    "\n",
    ":::{dropdown} 証明\n",
    "\n",
    "$A=(a_{ij})$とおく。行列の$(1,1)$成分以外の第1列の成分がすべてゼロのとき、$a_{21} = a_{31} = \\cdots = a_{n1} = 0$になる。\n",
    "\n",
    "$\\sigma(k)=1$となる$k>1$があるため、それについては$a_{k\\sigma(k)} = a_{k1} = 0$となる。そのため\n",
    "\n",
    "$$\n",
    "a_{1 \\sigma(1)} a_{2 \\sigma(2)} \\cdots a_{k \\sigma(k)} \\cdots a_{n \\sigma(n)}=0\n",
    "$$\n",
    "\n",
    "となる。つまり、$\\sigma(1) > 1$となる項はすべて$0$になる。\n",
    "そのため和は$\\sigma(1)=1$となる置換のみにわたって計算すればよい。\n",
    "\n",
    "$$\n",
    "\\begin{aligned}\n",
    "|A| & =\\sum_{\\substack{\\sigma \\in S_n \\\\\n",
    "\\sigma(1)=1}} \\operatorname{sgn}(\\sigma) a_{11} a_{2 \\sigma(2)} \\cdots a_{n \\sigma(n)} \\\\\n",
    "& =a_{11} \\sum_{\\substack{\\sigma \\in S_n \\\\\n",
    "\\sigma(1)=1}} \\operatorname{sgn}(\\sigma) a_{2 \\sigma(2)} \\cdots a_{n \\sigma(n)} \\\\\n",
    "& =a_{11} \\sum_{\\tau \\in S_{n-1}} \\operatorname{sgn}(\\tau) a_{2 \\tau(2)} \\cdots a_{n \\tau(n)}\n",
    "\\end{aligned}\n",
    "$$\n",
    "\n",
    "ここで$S_{n-1}$は1を除く$n-1$個の文字$\\{2, 3, \\cdots, n\\}$からなる置換の集合である。\n",
    ":::"
   ]
  },
  {
   "cell_type": "markdown",
   "id": "594f5bed-c980-4368-8250-de50d44abcd2",
   "metadata": {},
   "source": [
    "### 三角行列の行列式\n",
    "\n",
    ":::{admonition} 上三角行列の行列式\n",
    "\n",
    "上三角行列$A$の行列式$|A|$は、$A$の対角成分の積に等しい。すなわち、以下が成り立つ\n",
    "\n",
    "$$\n",
    "|A| = a_{11} a_{22} \\cdots a_{nn}\n",
    "$$\n",
    ":::\n",
    "\n",
    ":::{dropdown} 証明\n",
    "\n",
    "前出の定理を繰り返し適用する。すなわち\n",
    "\n",
    "$$\n",
    "\\begin{align}\n",
    "|A|\n",
    "&= a_{11}\\left|\\begin{array}{cccc}\n",
    "a_{22} & \\cdots & \\cdots & a_{2 n} \\\\\n",
    "0 & \\ddots & & \\\\\n",
    "\\vdots & \\ddots & \\ddots & \\vdots \\\\\n",
    "0 & \\cdots & 0 & a_{n n}\n",
    "\\end{array}\\right|\n",
    "\\\\\n",
    "&= a_{11} a_{22}\\left|\\begin{array}{cccc}\n",
    "a_{33} & \\cdots & \\cdots & a_{3 n} \\\\\n",
    "0 & \\ddots & & \\vdots \\\\\n",
    "\\vdots & \\ddots & \\ddots & \\vdots \\\\\n",
    "0 & \\cdots & 0 & a_{n n}\n",
    "\\end{array}\\right|\n",
    "\\end{align}\n",
    "$$\n",
    "\n",
    "これを続ければ\n",
    "\n",
    "$$\n",
    "= a_{11} a_{22} \\cdots a_{nn}\n",
    "$$\n",
    ":::"
   ]
  },
  {
   "cell_type": "markdown",
   "id": "dd75b2c7-1cdc-4b01-8388-694db09aa2b7",
   "metadata": {},
   "source": [
    ":::{admonition} 下三角行列の行列式\n",
    "下三角行列$A$の行列式$|A|$は、$A$の対角成分の積に等しい。すなわち、以下が成り立つ\n",
    "\n",
    "$$\n",
    "|A| = a_{11} a_{22} \\cdots a_{nn}\n",
    "$$\n",
    ":::\n",
    "\n",
    ":::{dropdown} 証明\n",
    "行列を転置しても行列式の値は変わらない\n",
    "\n",
    "$$\n",
    "|A^T| = |A|\n",
    "$$\n",
    "\n",
    "という性質を使い、下三角行列を転置して上三角行列にすることで\n",
    "\n",
    "$$\n",
    "|A| = a_{11} a_{22} \\cdots a_{nn}\n",
    "$$\n",
    "\n",
    "となる\n",
    ":::"
   ]
  },
  {
   "cell_type": "markdown",
   "id": "6bb73986-ecd3-4cf1-a485-9c5216cff33f",
   "metadata": {},
   "source": [
    "## 変形に関する性質\n",
    "\n",
    "以下は行に関しても列に関しても成り立つ（転置不変性のため）\n",
    "\n",
    "1. 1 つの列を $c$ 倍すると, 行列式は $c$ 倍になる.\n",
    "2. 1 つの列の成分がすべて 0 である行列の行列式は 0 である.\n",
    "3. 1 つの列が 2 つの列べクトルの和である行列の行列式は, 他の列は同じでその列を各々の列べクトルとした行列の行列式の和になる.\n",
    "4. 2つの列を入れ換えると行列式は -1 倍になる.\n",
    "5. 行列の列の順序を置換 $\\tau$ によって変更すると行列式は $\\operatorname{sgn}(\\tau)$ 倍になる.\n",
    "6. 2 つの列が等しい行列の行列式は 0 である.\n",
    "7. 1つの列に任意の数をかけて他の列に加えても行列式の値は変わらない."
   ]
  },
  {
   "cell_type": "markdown",
   "id": "35860a0e-39aa-4b8b-9ffd-4595578d1f7b",
   "metadata": {},
   "source": [
    "### 1つの列を $c$ 倍すると, 行列式は $c$ 倍になる\n",
    "\n",
    "線形性によるもの。\n",
    "\n",
    ":::{admonition} 行列$A=(a_{ij})$の1つの行を$c$倍すると、行列式は$c$倍になる\n",
    "\n",
    "$$\n",
    "\\left|\\begin{array}{ccc}\n",
    "a_{11} & \\cdots & a_{1 n} \\\\\n",
    "\\vdots & & \\vdots \\\\\n",
    "c a_{i 1} & \\cdots & c a_{i n} \\\\\n",
    "\\vdots & & \\vdots \\\\\n",
    "a_{n 1} & \\cdots & a_{n n}\n",
    "\\end{array}\\right|=c\\left|\\begin{array}{ccc}\n",
    "a_{11} & \\cdots & a_{1 n} \\\\\n",
    "\\vdots & & \\vdots \\\\\n",
    "a_{i 1} & \\cdots & a_{i n} \\\\\n",
    "\\vdots & & \\vdots \\\\\n",
    "a_{n 1} & \\cdots & a_{n n}\n",
    "\\end{array}\\right|\n",
    "$$\n",
    ":::\n",
    "\n",
    "\n",
    ":::{dropdown} 証明\n",
    "\n",
    "$$\n",
    "\\begin{aligned}\n",
    "\\text { 左辺 } & =\\sum_{\\sigma \\in S_n} \\operatorname{sgn}(\\sigma) a_{1 \\sigma(1)} \\cdots\\left(c a_{i \\sigma(i)}\\right) \\cdots a_{n \\sigma(n)} \\\\\n",
    "& =c \\sum_{\\sigma \\in S_n} \\operatorname{sgn}(\\sigma) a_{1 \\sigma(1)} \\cdots a_{i \\sigma(i)} \\cdots a_{n \\sigma(n)} \\\\\n",
    "& =\\text { 右辺 }\n",
    "\\end{aligned}\n",
    "$$\n",
    ":::"
   ]
  },
  {
   "cell_type": "markdown",
   "id": "1daf7db8-9052-41a5-9972-181b39fc3407",
   "metadata": {},
   "source": [
    "### 2つの列が等しい行列の行列式は0\n",
    "\n",
    ":::{admonition} 2つの列が等しい行列の行列式は0\n",
    "\n",
    "$n$次正方行列$A$のうち2つの列が等しければ、$|A|=0$\n",
    ":::\n",
    "\n",
    ":::{dropdown} 証明\n",
    "\n",
    "$$\n",
    "|A| = \n",
    "|\\begin{array}{ccccc} \\boldsymbol{a}_1 & \\cdots & \\boldsymbol{a}_i & \\cdots & \\boldsymbol{a}_j & \\cdots & \\boldsymbol{a}_n \\end{array}|\n",
    "$$\n",
    "\n",
    "とする。\n",
    "\n",
    "$\\boldsymbol{a}_i = \\boldsymbol{a}_j$として、これらを$\\boldsymbol{a}_*$で表すことにすると、2つの列を入れ替えると行列式の符号は変わるため、\n",
    "\n",
    "$$\n",
    "|\\begin{array}{ccccc} \\boldsymbol{a}_1 & \\cdots & \\boldsymbol{a}_* & \\cdots & \\boldsymbol{a}_* & \\cdots & \\boldsymbol{a}_n \\end{array}|\n",
    "= -|\\begin{array}{ccccc} \\boldsymbol{a}_1 & \\cdots & \\boldsymbol{a}_* & \\cdots & \\boldsymbol{a}_* & \\cdots & \\boldsymbol{a}_n \\end{array}|\n",
    "= 0\n",
    "$$\n",
    ":::"
   ]
  },
  {
   "cell_type": "markdown",
   "id": "528e93ab-f6f8-4a66-b898-7d84ddd4ae28",
   "metadata": {},
   "source": [
    ":::{admonition} 1次従属な行列の行列式は0\n",
    "\n",
    "同様に、\n",
    "$n$次正方行列$A$のうち異なる2つの列が1次従属 $\\left(\\boldsymbol{a}_i=k \\boldsymbol{a}_j\\right)$ ならば、\n",
    "$\\left|\\boldsymbol{a}_1, \\cdots, \\boldsymbol{a}_n\\right|=|A|=0$\n",
    ":::\n"
   ]
  },
  {
   "cell_type": "markdown",
   "id": "6bf9d8b9-a5db-425e-9869-e7994d93f3dd",
   "metadata": {},
   "source": [
    "### 基本変形に対する不変性\n",
    "\n",
    "> 1つの行（列）に任意の数をかけて他の行（列）に加えても行列式の値は変わらない\n",
    "\n",
    "行列$(\\boldsymbol{a}, \\boldsymbol{b}, \\boldsymbol{c})$について、線形性と交代性により\n",
    "\n",
    "$$\n",
    "|\\boldsymbol{a}+k \\boldsymbol{c}, \\boldsymbol{b}, \\boldsymbol{c}|\n",
    "=|\\boldsymbol{a}, \\boldsymbol{b}, \\boldsymbol{c}| + \n",
    "k \\underbrace{ |\\boldsymbol{c}, \\boldsymbol{b}, \\boldsymbol{c}| }_{ =0}\n",
    "=|\\boldsymbol{a}, \\boldsymbol{b}, \\boldsymbol{c}|\n",
    "$$\n",
    "\n",
    "$|\\boldsymbol{c}, \\boldsymbol{b}, \\boldsymbol{c}|$は同じ列が2つあるため、行列式は$0$になる\n",
    "\n"
   ]
  },
  {
   "cell_type": "markdown",
   "id": "9bfb40ac-ce00-4973-b632-d23cf14a7e15",
   "metadata": {},
   "source": [
    ":::{card}\n",
    "例：\n",
    "\n",
    "> 1つの行（列）に任意の数をかけて他の行（列）に加えても行列式の値は変わらない\n",
    "\n",
    "という定理により、ある行を定数倍して他の行に加える操作によって行列を変形して解くことができる。\n",
    "\n",
    "$$\n",
    "\\left|\\begin{array}{rrr}\n",
    "1 & 2 & 3 \\\\\n",
    "4 & 5 & 6 \\\\\n",
    "7 & 8 & 9\n",
    "\\end{array}\\right|\n",
    "$$\n",
    "\n",
    "を求めたいとき、これは3次なのでサラスの方法でもよいが、変形して解いてもよい。\n",
    "\n",
    "\n",
    "- 第1行を4倍して第2行から引く\n",
    "- 第1行を7倍して第3行から引く\n",
    "\n",
    "という操作を行って\n",
    "\n",
    "$$\n",
    "\\left|\\begin{array}{ccc}\n",
    "1 & 2 & 3 \\\\\n",
    "0 & -3 & -6 \\\\\n",
    "0 & -6 & -12\n",
    "\\end{array}\\right|\n",
    "$$\n",
    "\n",
    "として、第1列は$(1,1)$要素以外が0になったことを利用して\n",
    "\n",
    "$$\n",
    "\\left|\\begin{array}{ccc}\n",
    "1 & 2 & 3 \\\\\n",
    "0 & -3 & -6 \\\\\n",
    "0 & -6 & -12\n",
    "\\end{array}\\right|\n",
    "=\n",
    "1 \\times\n",
    "\\left|\\begin{array}{cc}\n",
    "-3 & -6 \\\\\n",
    "-6 & -12\n",
    "\\end{array}\\right|\n",
    "= -3 \\times (-12) - (-6)^2\n",
    "= 36 - 36\n",
    "= 0\n",
    "$$\n",
    "\n",
    "としてもよい。\n",
    ":::"
   ]
  },
  {
   "cell_type": "markdown",
   "id": "221b51be-db3a-4ade-9b0e-0a3678e682d3",
   "metadata": {},
   "source": [
    "### 2つの列を入れ換えると行列式は -1 倍になる\n",
    "\n",
    "交代性より、あるいは明示公式から\n",
    "\n"
   ]
  },
  {
   "cell_type": "markdown",
   "id": "447fb7b5-0c65-4236-9de0-3ee284528453",
   "metadata": {},
   "source": [
    "## ブロック行列の行列式\n",
    "\n",
    "$$\n",
    "T = \\left(\\begin{array}{ll}\n",
    "A & B \\\\\n",
    "C & D\n",
    "\\end{array}\\right)\n",
    "$$\n",
    "\n",
    "とする。\n",
    "\n",
    "$A$ が正則なとき， $|T| = |A| |D-C A^{-1} B|$\n",
    "\n",
    "$D$ が正則なとき， $|T| = |D| |A-B D^{-1} C|$\n",
    "\n",
    "- [ブロック行列の行列式，逆行列の公式と証明 | 高校数学の美しい物語](https://manabitimes.jp/math/1203#5)"
   ]
  },
  {
   "cell_type": "markdown",
   "id": "878353f8-d205-4c92-8ffb-e0c09fdf1c46",
   "metadata": {},
   "source": [
    "対角なブロック行列には以下が成立する\n",
    "\n",
    "$$\n",
    "\\left|\\begin{array}{ll}\n",
    "A & B\\\\\n",
    "B & A\n",
    "\\end{array}\\right|\n",
    "= | A + B | |A - B|\n",
    "$$\n",
    "\n",
    "参考：[行列式 |A B // B A| = |A-B||A+B| の証明 | ばたぱら](https://batapara.com/archives/detabba-detab-deta-b.html/)"
   ]
  },
  {
   "cell_type": "markdown",
   "id": "277d37f3-3a9b-4fa8-a169-e237b2409af7",
   "metadata": {},
   "source": [
    "## 多重線形性\n",
    "\n",
    "行列$A=(a_1, \\cdots, a_n)$について\n",
    "\n",
    "$$\n",
    "\\def\\b#1{\\boldsymbol{#1}}\n",
    "\\DeclareMathOperator{\\det}{\\text{det}}\n",
    "\\begin{align}\n",
    "\\det(c \\b{a}_1, \\b{a}_2, \\cdots, \\b{a}_n) &= c \\det(\\b{a}_1, \\b{a}_2, \\cdots, \\b{a}_n)\\\\\n",
    "\\det(\\b{a}_1 + \\b{a}_1', \\b{a}_2, \\cdots, \\b{a}_n) &= \\det(\\b{a}_1, \\b{a}_2, \\cdots, \\b{a}_n) + \\det(\\b{a}_1', \\b{a}_2, \\cdots, \\b{a}_n)\\\\\n",
    "\\det(c\\b{A}) = c^n \\det(\\b{A})\n",
    "\\end{align}\n",
    "$$\n",
    "\n",
    "のように任意の列への線形和が全体への線形和と等しいような法則性があること"
   ]
  },
  {
   "cell_type": "code",
   "execution_count": 1,
   "id": "09bbd554-1146-4159-86ea-0ebb51c43679",
   "metadata": {},
   "outputs": [
    {
     "name": "stdout",
     "output_type": "stream",
     "text": [
      "det(A) = 1.0\n",
      "det(cA) = 25.0\n",
      "det(cA) - c^n det(A) = -0.0\n"
     ]
    }
   ],
   "source": [
    "import numpy as np\n",
    "A = np.array([\n",
    "    [1, 2],\n",
    "    [1, 3]\n",
    "])\n",
    "print(f\"det(A) = {np.linalg.det(A)}\")\n",
    "\n",
    "c = 5\n",
    "print(f\"det(cA) = {np.linalg.det(c * A):.1f}\")\n",
    "print(f\"det(cA) - c^n det(A) = {np.linalg.det(c * A) - c**A.shape[0] * np.linalg.det(A):.1f}\")"
   ]
  },
  {
   "cell_type": "code",
   "execution_count": 9,
   "id": "8b8dda30-0e85-405d-b527-6da3d094a4fa",
   "metadata": {},
   "outputs": [
    {
     "data": {
      "text/plain": [
       "array([[5, 2],\n",
       "       [5, 3]])"
      ]
     },
     "execution_count": 9,
     "metadata": {},
     "output_type": "execute_result"
    }
   ],
   "source": [
    "A[:, 0] *= c\n",
    "A"
   ]
  },
  {
   "cell_type": "code",
   "execution_count": 10,
   "id": "2283c930-f9b1-401e-9468-c3b000cb3039",
   "metadata": {
    "editable": true,
    "slideshow": {
     "slide_type": ""
    },
    "tags": []
   },
   "outputs": [
    {
     "data": {
      "text/plain": [
       "4.999999999999999"
      ]
     },
     "execution_count": 10,
     "metadata": {},
     "output_type": "execute_result"
    }
   ],
   "source": [
    "np.linalg.det(A)"
   ]
  },
  {
   "cell_type": "markdown",
   "id": "0383790b-1268-4395-ae9e-97f70762c1d2",
   "metadata": {
    "tags": []
   },
   "source": [
    "## 参考文献\n",
    "\n",
    "- 川久保勝夫（2010）『線形代数学 （新装版）』"
   ]
  }
 ],
 "metadata": {
  "kernelspec": {
   "display_name": "Python 3 (ipykernel)",
   "language": "python",
   "name": "python3"
  },
  "language_info": {
   "codemirror_mode": {
    "name": "ipython",
    "version": 3
   },
   "file_extension": ".py",
   "mimetype": "text/x-python",
   "name": "python",
   "nbconvert_exporter": "python",
   "pygments_lexer": "ipython3",
   "version": "3.10.14"
  }
 },
 "nbformat": 4,
 "nbformat_minor": 5
}
