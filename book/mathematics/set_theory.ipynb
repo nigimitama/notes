{
 "cells": [
  {
   "cell_type": "markdown",
   "id": "87e13fbb-3d40-463c-93af-6a07f210bba2",
   "metadata": {},
   "source": [
    "# 集合論"
   ]
  },
  {
   "cell_type": "markdown",
   "id": "5950e654-e853-4981-a750-a2a9bc2fa487",
   "metadata": {},
   "source": [
    "## 集合\n",
    "\n",
    "何かしらの対象の集まりを**集合**（set）といい、その対象をそれぞれその集合の**元**（element, **要素**）という。\n",
    "\n",
    ":::{margin}\n",
    "ある種の集合を**系**（system）や**族**（family）などと呼ぶこともある。例えば「方程式系」、「集合族」、「加法族」など。\n",
    ":::"
   ]
  },
  {
   "cell_type": "markdown",
   "id": "bfd11420-6376-4b2f-850b-247e9922ce5a",
   "metadata": {},
   "source": [
    "### 空集合\n",
    "\n",
    "何も含まれていない集合のことを**空集合**（empty set）といい、$\\emptyset$で表す。"
   ]
  },
  {
   "cell_type": "markdown",
   "id": "97ac24d7-c717-4089-ba9c-9ad247f7e74c",
   "metadata": {},
   "source": [
    "### 要素の記法\n",
    "\n",
    "ある対象$a$が集合$A$に含まれることを$a\\in A$と表し、含まれないことを$a\\notin A$と表す。\n"
   ]
  },
  {
   "cell_type": "markdown",
   "id": "8ddf3b27-9fcf-4754-8ed6-55cee848387d",
   "metadata": {},
   "source": [
    "### 集合の記法\n",
    "\n",
    "#### 外延的記法\n",
    "\n",
    "要素$a, b, c$から成る集合を\n",
    "\n",
    "$$\n",
    "\\{a, b, c \\}\n",
    "$$\n",
    "\n",
    "と表す。このように要素を列挙するような書き方を集合の**外延的記法**という。\n",
    "\n",
    "\n",
    "#### 内包的記法\n",
    "\n",
    "$$\n",
    "\\{ x | x は \\cdots である \\}\n",
    "$$\n",
    "\n",
    "といった具合に、元を表す変数についての性質を記述する方法もあり、これは**内包的記法**と呼ばれる。\n",
    "\n",
    "例えば偶数の集合は、整数を$\\mathbb{Z}$とすると\n",
    "\n",
    "$$\n",
    "\\text{（偶数の集合）}= \\{ y | y = 2m, m \\in \\mathbb{Z} \\}\n",
    "$$\n",
    "\n",
    "あるいは\n",
    "\n",
    "$$\n",
    "\\text{（偶数の集合）}= \\{ y | \\exists \\ m \\in \\mathbb{Z} \\ \\text{s.t.} (t = 2m) \\}\n",
    "$$\n",
    "\n",
    "のように表記することができる。\n",
    "\n",
    "\n"
   ]
  },
  {
   "cell_type": "code",
   "execution_count": null,
   "id": "8c452998-89f9-4006-abf3-75729f6e635d",
   "metadata": {},
   "outputs": [],
   "source": []
  }
 ],
 "metadata": {
  "kernelspec": {
   "display_name": "Python 3 (ipykernel)",
   "language": "python",
   "name": "python3"
  },
  "language_info": {
   "codemirror_mode": {
    "name": "ipython",
    "version": 3
   },
   "file_extension": ".py",
   "mimetype": "text/x-python",
   "name": "python",
   "nbconvert_exporter": "python",
   "pygments_lexer": "ipython3",
   "version": "3.9.16"
  }
 },
 "nbformat": 4,
 "nbformat_minor": 5
}
