{
 "cells": [
  {
   "cell_type": "markdown",
   "id": "cf8aed08-026c-4541-9759-0d4f01bf0b6f",
   "metadata": {},
   "source": [
    "# 確率"
   ]
  },
  {
   "cell_type": "markdown",
   "id": "c22397d6-cce6-4cf2-aed2-0e0104dd5a53",
   "metadata": {},
   "source": [
    "## 標本空間\n",
    "\n",
    "確率は世の中で観測される事象に対して定義されるため、まず事象を数学的に記述する。\n",
    "\n",
    "「六面サイコロを1個投げたときの出目」のような事象（event）の集合\n",
    "\n",
    "$$\n",
    "\\Omega = \\{ 1,2,3,4,5,6 \\}\n",
    "$$\n",
    "\n",
    "を **標本集合 (sample set)**  と呼ぶ。また試行の結果得られたものを **標本（sample）** と呼ぶ。\n"
   ]
  },
  {
   "cell_type": "markdown",
   "id": "e4adf74b-f989-4783-9fa6-e9dbe5828ca6",
   "metadata": {},
   "source": [
    "## 事象：σ-加法族\n",
    "\n",
    ":::{admonition} 定義（σ-加法族）\n",
    "\n",
    "標本空間 $\\Omega$ の部分集合からなる族 $\\mathcal{F}$ で $\\Omega \\in \\mathcal{F}$ を満たすものが\n",
    "\n",
    "以下の (1), (2) を満たすとき、 $\\mathcal{F}$ を **有限加法族（集合体）** という。\n",
    "\n",
    "(1) 任意の $A \\in \\mathcal{F}$ に対し、 $A^c:=\\Omega \\backslash A \\in \\mathcal{F}$ 。ただし $\\Omega^c=\\emptyset$ とする。\n",
    "\n",
    "(2) $A_1, A_2 \\in \\mathcal{F} \\Rightarrow A_1 \\cup A_2 \\in \\mathcal{F}$\n",
    "\n",
    "\n",
    "有限加法族 $\\mathcal{F}$ がさらに次の (3) を満たすとき、 $\\mathcal{F}$ を **$\\sigma$-加法族** ($\\sigma$-field) や **完全加法族** という。\n",
    "\n",
    "(3) $A_i \\in \\mathcal{F}(i=1,2, \\ldots) \\implies \\displaystyle \\bigcup_{i=1}^{\\infty} A_i \\in \\mathcal{F}$\n",
    ":::\n"
   ]
  },
  {
   "cell_type": "markdown",
   "id": "2972a57f-fdfa-4d39-aa5e-0880f906e167",
   "metadata": {},
   "source": [
    ":::{note} \n",
    "\n",
    "有限加法族の「有限」とは、有限回の集合演算に対して閉じていることを意味する。\n",
    "\n",
    "すなわち、任意の$n$に対し\n",
    "\n",
    "$$\n",
    "A_1,A_2,\\dots,A_n \\in \\mathcal{F} \\implies \\displaystyle \\bigcup_{i=1}^{n} A_i \\in \\mathcal{F}\n",
    "$$\n",
    ":::"
   ]
  },
  {
   "cell_type": "markdown",
   "id": "9ed211f8-03c7-4221-9694-bfaef7553063",
   "metadata": {},
   "source": [
    "σ-加法族だと無限回の集合演算に閉じてるということ。"
   ]
  },
  {
   "cell_type": "markdown",
   "id": "7ba9aad5-d819-4d77-8c92-e9140c4523e4",
   "metadata": {},
   "source": [
    ":::{admonition} 定義（事象）\n",
    "\n",
    "σ-加法族$\\mathcal{F}$の元 $\\omega \\in \\mathcal{F}$を、**事象**（event）と呼ぶ。\n",
    ":::\n"
   ]
  },
  {
   "cell_type": "markdown",
   "id": "4a66e9ed-3840-461e-a9ba-1c890210a7a2",
   "metadata": {},
   "source": [
    ":::{admonition} 定義（可測空間）\n",
    "\n",
    "標本空間 $\\Omega$ とその上の $\\sigma$-加法族 $\\mathcal{F}$ が与えられたとき、この2つの組 $(\\Omega, \\mathcal{F})$ を **可測空間（measurable space）** という。\n",
    "\n",
    "このとき、 事象（$\\mathcal{F}$ の元） を特に **可測集合 (measurable set)** ともいう\n",
    ":::"
   ]
  },
  {
   "cell_type": "markdown",
   "id": "ac639394-4c44-4d52-81be-2b7b307f8cc3",
   "metadata": {},
   "source": [
    "ただし、なんでもいいわけではなく、例えば$\\mathcal{F}=2^\\Omega$とし、$\\Omega=\\mathbb{R}$と対応付けたような集合は、大きすぎて自然な確率が定義できないことが知られている。\n",
    "\n",
    "実用的なσ加法族としてボレル集合族というものがある。"
   ]
  },
  {
   "cell_type": "markdown",
   "id": "8fe92657-d579-406c-8404-08af6886c351",
   "metadata": {},
   "source": [
    "## ボレル集合族\n",
    "\n",
    "標本空間$\\Omega = \\mathbb{R}^d ~ (d \\in \\mathbb{N})$について、まず$d=1$の場合のσ加法族を考える。\n",
    "\n",
    "区間の集合\n",
    "\n",
    "$$\n",
    "\\mathcal{I}=\\{(a, b] \\mid a, b \\in \\mathbb{R} \\cup\\{ \\pm \\infty\\}\\}\n",
    "$$\n",
    "\n",
    "を考える。ただし$b=\\infty$のときは$(a,b]=(a,\\infty)$とし、$a > b$のときは$(a,b] = \\emptyset$とする。\n",
    "\n",
    "これに対し、\n",
    "\n",
    "$$\n",
    "\\mathcal{A}=\\left\\{\\cup_{k=1}^m I_k \\mid m \\in \\mathbb{N}, I_i \\cap I_j=\\emptyset(1 \\leq i<j \\leq m), I_i, I_j \\in \\mathcal{I}\\right\\}\n",
    "$$\n",
    "\n",
    "とすると、これは有限加法族である。このような$\\mathcal{A}$を **区間塊** という。\n",
    "\n",
    "$\\mathcal{A}$の元に対して、その補集合や積集合を加えて$\\mathcal{A}$を拡張していくと$\\mathcal{A}$を含むσ-加法族が出来上がる。\n"
   ]
  },
  {
   "cell_type": "markdown",
   "id": "7fbee7b2-0515-4773-9e3c-065bd3946da0",
   "metadata": {},
   "source": [
    "\n",
    ":::{admonition} 定義\n",
    "\n",
    "標本空間 $\\Omega$ の部分集合族 $\\mathcal{A}$ に対して， $\\sigma$-加法族 $\\mathcal{F}$ が以下の 2 条件を満たすとする。\n",
    "\n",
    "(i) $\\mathcal{A} \\subset \\mathcal{F}$\n",
    "\n",
    "(ii) $\\mathcal{A}$ を含む任意の $\\sigma$-加法族 $\\mathcal{G}$ に対して， $\\mathcal{F} \\subset \\mathcal{G}$\n",
    "\n",
    "このとき、 $\\mathcal{F}=\\sigma(\\mathcal{A})$ のように書き、 **$\\mathcal{A}$ を含む最小の $\\sigma$-加法族** という。\n",
    ":::\n",
    "\n",
    "\n",
    "上記の区間集合で定義された$\\mathcal{A}$から作られた$\\sigma(\\mathcal{A})$は、特に$\\mathbb{R}$上の **ボレル集合族 (Borel field)** と言われ、\n",
    "\n",
    "$$\n",
    "\\mathcal{B}:=\\sigma(\\mathcal{A})\n",
    "$$\n",
    "\n",
    "と書かれる。"
   ]
  },
  {
   "cell_type": "markdown",
   "id": "e9007de0-3981-4aa9-8cdd-a8580561b9ee",
   "metadata": {},
   "source": [
    "一般化して$d$次元の標本空間$\\Omega = \\mathbb{R}^d ~ (d \\in \\mathbb{N})$に対しても、$d$時点の区間の集合\n",
    "\n",
    "$$\n",
    "\\mathcal{I}_d=\\left\\{\\left(a_1, b_1\\right] \\times \\cdots \\times\\left(a_d, b_d\\right] \\mid\\left(a_i, b_i\\right] \\in \\mathcal{I}, 1 \\leq i \\leq d\\right\\}\n",
    "$$\n",
    "\n",
    "に対して$\\mathcal{B}_d = \\sigma(\\mathcal{I}_d)$と作ることができる。これを **$d$次元ボレル集合族** という。こうして **$d$次元（ボレル）可測空間** \n",
    "\n",
    "$$\n",
    "\\left(\\mathbb{R}^d, \\mathcal{B}_d\\right)\n",
    "$$\n",
    "\n",
    "が得られる"
   ]
  },
  {
   "cell_type": "code",
   "execution_count": null,
   "id": "28d8b662-f1e2-4b7e-8779-a81632d044b1",
   "metadata": {},
   "outputs": [],
   "source": []
  }
 ],
 "metadata": {
  "kernelspec": {
   "display_name": "Python 3 (ipykernel)",
   "language": "python",
   "name": "python3"
  },
  "language_info": {
   "codemirror_mode": {
    "name": "ipython",
    "version": 3
   },
   "file_extension": ".py",
   "mimetype": "text/x-python",
   "name": "python",
   "nbconvert_exporter": "python",
   "pygments_lexer": "ipython3",
   "version": "3.10.15"
  }
 },
 "nbformat": 4,
 "nbformat_minor": 5
}
