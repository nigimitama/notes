{
 "cells": [
  {
   "cell_type": "markdown",
   "id": "d3003883-6ebe-4ba8-adca-7f68bed1db21",
   "metadata": {},
   "source": [
    "# 数理最適化"
   ]
  },
  {
   "cell_type": "code",
   "execution_count": null,
   "id": "a618c481-3f8e-428f-8609-f7995195456e",
   "metadata": {},
   "outputs": [],
   "source": []
  }
 ],
 "metadata": {
  "kernelspec": {
   "display_name": "Python 3 (ipykernel)",
   "language": "python",
   "name": "python3"
  },
  "language_info": {
   "codemirror_mode": {
    "name": "ipython",
    "version": 3
   },
   "file_extension": ".py",
   "mimetype": "text/x-python",
   "name": "python",
   "nbconvert_exporter": "python",
   "pygments_lexer": "ipython3",
   "version": "3.9.16"
  }
 },
 "nbformat": 4,
 "nbformat_minor": 5
}
