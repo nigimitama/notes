{
 "cells": [
  {
   "cell_type": "markdown",
   "id": "d3003883-6ebe-4ba8-adca-7f68bed1db21",
   "metadata": {},
   "source": [
    "# 数理最適化\n",
    "\n",
    "様々な選択肢のなかから最適な解を探索する手法群。\n",
    "\n",
    "```{tableofcontents}\n",
    "```"
   ]
  },
  {
   "cell_type": "markdown",
   "id": "8b587489-e5ab-46ad-8964-9a8b2cefe1fb",
   "metadata": {},
   "source": [
    "## 参考\n",
    "\n",
    "- [数理最適化用語集 — 数理最適化用語集](https://www.msi.co.jp/solution/nuopt/docs/glossary/index.html)\n",
    "    - NTTデータが出しているもの\n",
    "- [Recruit Data Blog | 実務につなげる数理最適化](https://blog.recruit.co.jp/data/articles/practical_optimization/)\n",
    "    - リクルートの応用例など。（利益最大化としてレコメンデーションを解く、ホテルのダイナミック・プライシングをKPI最大化として解く）"
   ]
  }
 ],
 "metadata": {
  "kernelspec": {
   "display_name": "Python 3 (ipykernel)",
   "language": "python",
   "name": "python3"
  },
  "language_info": {
   "codemirror_mode": {
    "name": "ipython",
    "version": 3
   },
   "file_extension": ".py",
   "mimetype": "text/x-python",
   "name": "python",
   "nbconvert_exporter": "python",
   "pygments_lexer": "ipython3",
   "version": "3.10.15"
  }
 },
 "nbformat": 4,
 "nbformat_minor": 5
}
