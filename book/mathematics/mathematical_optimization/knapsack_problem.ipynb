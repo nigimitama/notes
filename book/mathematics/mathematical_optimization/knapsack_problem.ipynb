{
 "cells": [
  {
   "cell_type": "markdown",
   "id": "395a35e6-3f0f-4920-95e7-33e0debbe4b5",
   "metadata": {
    "tags": []
   },
   "source": [
    "# ナップサック問題\n",
    "\n",
    "**ナップサック問題**（knapsack problem）は価値$p_i$やサイズ$v_i$が様々な$n$個の品物が与えられた時、合計重量がナップサックの許容重量を超えない範囲で合計の価値が最大化するように品物を詰める問題。**整数計画問題**（Integer programming）のひとつで**0-1整数計画問題**という。\n",
    "\n",
    "$$\n",
    "{\\text{Maximize}}_{x_i} \\ \\sum^n_{i=1} p_i x_i\\\\\n",
    "\\text{subject to } \\ \\sum^n_{i=1} v_i x_i \\leq V\n",
    "$$\n",
    "\n",
    "- $x_i \\in \\{0, 1\\}$：ナップサックに入れるかどうか\n",
    "- $v_i$：サイズ\n",
    "- $p_i$：価値\n",
    "- $V$：ナップサックの容量\n"
   ]
  },
  {
   "cell_type": "markdown",
   "id": "4400975c-63a2-4792-a384-ca469751dbc0",
   "metadata": {},
   "source": [
    "## 貪欲法\n",
    "\n",
    "ナップサックの有名な近似解は\n",
    "\n",
    "1. サイズあたりの価値$p_i/v_i$が高い順に品物の添字を並べかえる\n",
    "2. 品物を1から順にナップザックに詰め込んでいき詰め込めなければストップする\n",
    "\n",
    "というもの。\n"
   ]
  },
  {
   "cell_type": "markdown",
   "id": "01ac3794-6e68-4bc7-9d43-56f10fae0103",
   "metadata": {},
   "source": [
    ":::{admonition} 貪欲法の例\n",
    "\n",
    "Amazon.comにおいて空輸してでも「翌日配送」の表示を出すかどうかのレコメンド問題（[Mondal et al, 2022](https://dl.acm.org/doi/abs/10.1145/3534678.3539197)）で使われていたもの。\n",
    "\n",
    "**問題**\n",
    "\n",
    "$$\n",
    "\\text{argmax}_{\\lambda_i} \\sum E(\\text{Revenue}_i)\\\\\n",
    "\\text{s. t. } \\sum_i E(\\text{Cost}_i) \\leq \\text{Budget}\n",
    "$$\n",
    "\n",
    "- $\\lambda_i \\in \\{0, 1\\}$：商品$i$を表示するときに「翌日配送」の表示をするかどうか\n",
    "  - 翌日配送は売上を高める可能性があるが空輸するのでコストも掛かる\n",
    "- $E(R_i)$：商品$i$の推定売上\n",
    "  - $E(R_i) = \\lambda_i \\cdot \\text{price}_i \\cdot \\Delta_i$\n",
    "  - $\\Delta_i$：speed sensitivity。翌日配送でupliftする売上\n",
    "\n",
    "\n",
    "**アルゴリズム**\n",
    "\n",
    "1. 利益スコア（benefit score）を計算して、商品をbenefit scoreの降順に並べる\n",
    "\n",
    "$$\n",
    "\\text{benefit score}_i = \\frac\n",
    "{\\text{price}_i \\cdot \\Delta_i}\n",
    "{\\text{weight}_i \\cdot \\text{cost}^{fly}_i }_i\n",
    "$$\n",
    "\n",
    "2. 予算内なら順にレコメンド対象にしていく\n",
    "\n",
    "- $FLY := \\emptyset, k:=1, \\text{Budget}^{res} := B$\n",
    "- while $(\\text{Budget}^{res} - d_k \\cdot \\text{weight}_k \\cdot \\text{cost}^{fly}_k ) \\geq 0$ do\n",
    "    - $FLY := FLY \\cup \\{ \\text{product}_k \\}$\n",
    "    - $\\text{Budget}^{res} := \\text{Budget}^{res} - d_k \\cdot \\text{weight}_k \\cdot \\text{cost}^{fly}_k$\n",
    "    - $k:=k+1$\n",
    "- end\n",
    "\n",
    "\n",
    "参考：[Mondal, A., Majumder, A., & Chaoji, V. (2022, August). ASPIRE: Air Shipping Recommendation for E-commerce Products via Causal Inference Framework. In Proceedings of the 28th ACM SIGKDD Conference on Knowledge Discovery and Data Mining (pp. 3584-3592).](https://dl.acm.org/doi/abs/10.1145/3534678.3539197)\n",
    ":::"
   ]
  },
  {
   "cell_type": "markdown",
   "id": "f1c4ee03-8ebd-43ab-b078-f628db948268",
   "metadata": {},
   "source": [
    "## 線形計画問題への近似と貪欲法\n",
    "\n",
    "貪欲法のとき、最初に詰め込めなくなる品物の番号を$i^*$として、\n",
    "\n",
    "$$\n",
    "x^*_i =\n",
    "\\begin{cases}\n",
    "  1 & \\text{ if } \\ i = 1,\\cdots, i^* -1\\\\\n",
    "  \\frac{1}{ v_{i^*} } (V - \\sum^{i^* - 1}_{i=1} v_i) & \\text{ if }\\ i =  i^*\\\\\n",
    "  0 & \\text{ if } \\ i = i^* + 1,\\cdots, n\\\\\n",
    "\\end{cases}\n",
    "$$\n",
    "\n",
    "とおくと、これは$x_i \\in \\{0, 1\\}$という制約を$0\\leq x_i \\leq 1$に置き換えた線形計画問題の最適解になる（寒野, 2019）\n",
    "\n",
    "これは整数計画問題であるナップサック問題の実行可能解ではないため、\n",
    "\n",
    "$$\n",
    "x^*_i =\n",
    "\\begin{cases}\n",
    "  1 & \\text{ if } \\ i = 1,\\cdots, i^* -1\\\\\n",
    "  0 & \\text{ if } \\ i = i^*,\\cdots, n\\\\\n",
    "\\end{cases}\n",
    "$$\n",
    "\n",
    "とすると、これは貪欲法になる\n",
    "\n",
    "（※貪欲法は最適解とは限らない）\n"
   ]
  },
  {
   "cell_type": "markdown",
   "id": "50cfb9e8-8194-4203-9403-b51bfafe6ce9",
   "metadata": {},
   "source": [
    "## 分岐限定法\n",
    "\n",
    "離散最適化問題の厳密解法。\n",
    "\n",
    "$x_i \\in \\{0, 1\\}, i = 1, \\cdots, n$なら、解は$2^n$個の組み合わせのうちにある。それを**列挙木**で列挙して解いていく\n",
    "\n",
    "\n"
   ]
  },
  {
   "cell_type": "code",
   "execution_count": null,
   "id": "6854137c-db20-4545-b031-fd800175536f",
   "metadata": {},
   "outputs": [],
   "source": []
  },
  {
   "cell_type": "markdown",
   "id": "a6948876-9300-4a92-b1ee-5a7c3dc0294f",
   "metadata": {},
   "source": [
    "## 動的計画法\n",
    "\n",
    "[典型的な DP (動的計画法) のパターンを整理 Part 1 ～ ナップサック DP 編 ～ - Qiita](https://qiita.com/drken/items/a5e6fe22863b7992efdb)"
   ]
  },
  {
   "cell_type": "markdown",
   "id": "131ad607-ee64-4d80-9ba6-1379e62b8053",
   "metadata": {},
   "source": [
    "## 参考文献\n",
    "\n",
    "- 寒野善博（2019）『最適化手法入門』、講談社サイエンティフィック\n",
    "\n",
    "（reading list）\n",
    "- [第2回：ナップサック問題を色々な方法で解いてみた【ブレインパッドの数理最適化ブログ】 - Platinum Data Blog by BrainPad](https://blog.brainpad.co.jp/entry/2020/10/09/000002)\n",
    "- [離散最適化とはどんな分野か - パンの木を植えて](https://seasawher.hatenablog.com/entry/2020/12/17/201922)"
   ]
  },
  {
   "cell_type": "code",
   "execution_count": null,
   "id": "40ae3eb5-08a5-4cd9-b127-511253e24fd2",
   "metadata": {},
   "outputs": [],
   "source": []
  }
 ],
 "metadata": {
  "kernelspec": {
   "display_name": "Python 3 (ipykernel)",
   "language": "python",
   "name": "python3"
  },
  "language_info": {
   "codemirror_mode": {
    "name": "ipython",
    "version": 3
   },
   "file_extension": ".py",
   "mimetype": "text/x-python",
   "name": "python",
   "nbconvert_exporter": "python",
   "pygments_lexer": "ipython3",
   "version": "3.10.15"
  }
 },
 "nbformat": 4,
 "nbformat_minor": 5
}
