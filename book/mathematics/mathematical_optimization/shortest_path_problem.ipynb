{
 "cells": [
  {
   "cell_type": "markdown",
   "id": "f9e023d8-09dd-409a-8288-5bccfda6d8fe",
   "metadata": {},
   "source": [
    "# 最短経路問題\n",
    "\n",
    "重み付きグラフの与えられた2つのノード間を結ぶ経路の中で、重みが最小の経路を求める最適化問題\n",
    "\n",
    "\n",
    "後で読む\n",
    "- [ダイクストラ法試してみた - JUNのブログ](https://jun-networks.hatenablog.com/entry/2021/08/01/133133)"
   ]
  }
 ],
 "metadata": {
  "kernelspec": {
   "display_name": "Python 3 (ipykernel)",
   "language": "python",
   "name": "python3"
  },
  "language_info": {
   "codemirror_mode": {
    "name": "ipython",
    "version": 3
   },
   "file_extension": ".py",
   "mimetype": "text/x-python",
   "name": "python",
   "nbconvert_exporter": "python",
   "pygments_lexer": "ipython3",
   "version": "3.10.15"
  }
 },
 "nbformat": 4,
 "nbformat_minor": 5
}
