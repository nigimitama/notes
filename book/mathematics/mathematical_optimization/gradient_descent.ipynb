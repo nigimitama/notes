{
 "cells": [
  {
   "cell_type": "markdown",
   "id": "de99fb53-ce73-400a-bb64-04337489ede8",
   "metadata": {},
   "source": [
    "## 勾配降下法\n",
    "\n",
    "モデルのパラメータ$w=(w_0, ..., w_d)^\\top$を変えて誤差関数$L(w)$を最小化する問題\n",
    "\n",
    "$$\n",
    "\\min_{w} L(w)\n",
    "$$\n",
    "\n",
    "を考える。\n",
    "\n",
    "勾配降下法（gradient descent method）は勾配$\\nabla L(w) = \\partial L(w) / \\partial w$と学習率$\\eta$を使って逐次的に重みを更新して最適化していく。$t$回目の反復（iteration）における重みは\n",
    "\n",
    "$$\n",
    "w^{(t)} = w^{(t - 1)} + \\eta \\nabla L(w)\n",
    "$$\n",
    "\n",
    "のように算出される"
   ]
  },
  {
   "cell_type": "code",
   "execution_count": 1,
   "id": "7b032236-9174-48ad-a5a7-0999b8d75959",
   "metadata": {},
   "outputs": [
    {
     "name": "stdout",
     "output_type": "stream",
     "text": [
      "Iteration 0\n",
      "    MSE = 88.846\n",
      "    gradients for each sample = [ 4.2  8.  12.  16.1 20.1]\n",
      "Iteration 1\n",
      "    MSE = 22.375\n",
      "    gradients for each sample = [ -1.9  -4.1  -6.1  -8.  -10.1]\n",
      "Iteration 2\n",
      "    MSE = 5.516\n",
      "    gradients for each sample = [1.2 1.9 3.  4.  5. ]\n",
      "Iteration 3\n",
      "    MSE = 1.422\n",
      "    gradients for each sample = [-0.3 -1.1 -1.5 -2.  -2.5]\n",
      "Iteration 4\n",
      "    MSE = 0.338\n",
      "    gradients for each sample = [0.4 0.4 0.7 1.  1.2]\n",
      "\n",
      "Final Model:\n",
      "    estimated weights: [3.17241493]\n",
      "    true weights: [3]\n",
      "    predicted values : [ 3.2  6.3  9.5 12.7 15.9]\n",
      "    true target values: [ 3.2  6.   9.1 12.2 15.2]\n",
      "\n"
     ]
    }
   ],
   "source": [
    "import numpy as np\n",
    "\n",
    "np.random.seed(0)\n",
    "w_true = np.array([3])\n",
    "X = np.array([1, 2, 3, 4, 5]).reshape(-1, 1)\n",
    "e = np.random.normal(scale=0.1, size=X.shape[0]).round(1)\n",
    "y_true = X @ w_true + e\n",
    "\n",
    "\n",
    "def model(w): # linear model\n",
    "    return X @ w\n",
    "\n",
    "def loss(y_true, y_pred): # squared loss\n",
    "    return (1/2) * (y_true - y_pred)**2\n",
    "\n",
    "def grad(y_true, y_pred):\n",
    "    return (y_true - y_pred)\n",
    "\n",
    "\n",
    "w = np.random.normal(size=X.shape[1]) # initialize\n",
    "eta = 0.1\n",
    "for i in range(5):  # 本当はLossが一定値未満になるまでwhileでループする\n",
    "    y_pred = model(w)\n",
    "    print(f\"\"\"\n",
    "Iteration {i}\n",
    "    MSE = {np.mean(loss(y_true, y_pred)):.3f}\n",
    "    gradients for each sample = {grad(y_true, y_pred).round(1)}\n",
    "\"\"\".strip())\n",
    "\n",
    "    # update\n",
    "    w = w + eta * sum(grad(y_true, y_pred))\n",
    "\n",
    "print(f\"\"\"\n",
    "Final Model:\n",
    "    estimated weights: {w}\n",
    "    true weights: {w_true}\n",
    "    predicted values : {model(w).round(1)}\n",
    "    true target values: {y_true.round(1)}\n",
    "\"\"\")"
   ]
  }
 ],
 "metadata": {
  "kernelspec": {
   "display_name": "Python 3 (ipykernel)",
   "language": "python",
   "name": "python3"
  },
  "language_info": {
   "codemirror_mode": {
    "name": "ipython",
    "version": 3
   },
   "file_extension": ".py",
   "mimetype": "text/x-python",
   "name": "python",
   "nbconvert_exporter": "python",
   "pygments_lexer": "ipython3",
   "version": "3.9.16"
  }
 },
 "nbformat": 4,
 "nbformat_minor": 5
}
