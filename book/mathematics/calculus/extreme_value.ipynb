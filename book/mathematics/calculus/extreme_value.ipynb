{
 "cells": [
  {
   "cell_type": "markdown",
   "id": "76dc658d-1d14-4f5c-9193-3aa3b1d66866",
   "metadata": {},
   "source": [
    "# 極値\n"
   ]
  },
  {
   "cell_type": "markdown",
   "id": "2e940707-b7b2-46a9-b1e5-af37a69f289c",
   "metadata": {},
   "source": [
    "## 極大と極小\n",
    "\n",
    "ある関数$y=f(x)$があるとする。\n",
    "\n",
    "ある点$a$での値$f(a)$がその近くでのほかの値$f(a+h), (h\\neq 0)$より大きい場合、$f(x)$は$a$で **極大** （maximum）になるといい、$f(a)$を **極大値** という。\n",
    "\n",
    "ある点$a$での値$f(a)$がその近くでのほかの値$f(a+h), (h\\neq 0)$より小さい場合、$f(x)$は$a$で **極小** （minimum）になるといい、$f(a)$を **極小値** という。\n",
    "\n",
    "極大値と極小値を総称して **極値** という。"
   ]
  },
  {
   "cell_type": "markdown",
   "id": "2a08eed0-688a-4147-a8fe-c9b513b9b7b0",
   "metadata": {},
   "source": [
    "## 極値の判定"
   ]
  },
  {
   "cell_type": "markdown",
   "id": "0d46be04-aa31-4c47-8005-5a1675a84818",
   "metadata": {},
   "source": [
    "### 極値の条件\n",
    "\n",
    ":::{admonition} 極値の条件\n",
    ":class: note\n",
    "\n",
    "関数 $y=f(x)$ が $c \\leqq x \\leqq e$ で微分可能であり、 点 $x_0(c<x_0<e)$ で極大值または 極小値をとるならば、 $f^{\\prime}(x_0)=0$ である。\n",
    ":::"
   ]
  },
  {
   "cell_type": "markdown",
   "id": "c77777c5-2f01-4eb7-bd1f-c72510273dba",
   "metadata": {},
   "source": [
    ":::{dropdown} 証明\n",
    "\n",
    "点$x=x_0$で$f(x)$が極大値を取るとする。極値の定義から、$f(x_0 + h) < f(x_0)$、すなわち\n",
    "\n",
    "$$\n",
    "f\\left(x_0+h\\right)-f\\left(x_0\\right)<0 \\quad(h \\neq 0)\n",
    "$$\n",
    "\n",
    "$h>0$ ならぱ\n",
    "\n",
    "$$\n",
    "\\frac{f\\left(x_0+h\\right)-f\\left(x_0\\right)}{h}<0, \\quad f^{\\prime}\\left(x_0+0\\right)=\\lim _{h \\rightarrow+0} \\frac{f\\left(x_0+h\\right)-f\\left(x_0\\right)}{h} \\leqq 0\n",
    "$$\n",
    "\n",
    "$h<0$ ならば\n",
    "\n",
    "$$\n",
    "\\frac{f\\left(x_0+h\\right)-f\\left(x_0\\right)}{h}>0, \\quad f^{\\prime}\\left(x_0-0\\right)=\\lim _{h \\rightarrow-0} \\frac{f\\left(x_0+h\\right)-f\\left(x_0\\right)}{h} \\geqq 0\n",
    "$$\n",
    "\n",
    "\n",
    "よって\n",
    "\n",
    "$$\n",
    "f^{\\prime}\\left(x_0+0\\right)=f^{\\prime}\\left(x_0-0\\right)=f^{\\prime}\\left(x_0\\right)\n",
    "$$\n",
    "\n",
    "なので $0 \\leqq f^{\\prime}\\left(x_0\\right) \\leqq 0$ より、 $f^{\\prime}\\left(x_0\\right)=0$\n",
    ":::"
   ]
  },
  {
   "cell_type": "markdown",
   "id": "8b303196-4852-45d1-8d8c-110e9343ef21",
   "metadata": {},
   "source": [
    "### 極値の判定法\n",
    "\n",
    "導関数のふるまいで極値を判定できる。まとめると次のようになる。\n",
    "\n",
    ":::{card}\n",
    "$x$ が増加しながら $x_0$ を通過するとき\n",
    "\n",
    "1. 導関数 $f^{\\prime}(x)$ が正から 0 を通って負に符号をかえるならば、$f(x)$ は $x=x_0$ で極大值 $f\\left(x_0\\right)$ をもつ。\n",
    "2. 導関数 $f^{\\prime}(x)$ が負から 0 を通って正に符号をかえるならば、$f(x)$ は $x=x_0$ で極小值 $f\\left(x_0\\right)$ をもつ。\n",
    "3. 導関数 $f^{\\prime}(x)$ が符号をかえないならば、 $f^{\\prime}\\left(x_0\\right)=0$ であっても、$f(x)$ は $x=x_0$ で極大にも極小にもならない\n",
    ":::"
   ]
  },
  {
   "cell_type": "markdown",
   "id": "a08a5da6-841f-47b6-bb7c-967c35d9d3a1",
   "metadata": {},
   "source": [
    "$f'(x)$の符号の判定に2次導関数$f''(x)$を使うことができる。\n",
    "\n",
    "$f'(x_0)=0$のとき、$f''(x_0) < 0$であることは$f'(x)$が減少状態であり、$x=x_0$において正から0を通って負になることがわかる。\n",
    "\n",
    "$f'(x_0)=0$のとき、$f''(x_0) > 0$であることは$f'(x)$が増加状態であり、$x=x_0$において負から0を通って正になることがわかる。"
   ]
  },
  {
   "cell_type": "code",
   "execution_count": null,
   "id": "0eea419a-8361-4a82-8c4d-85367d1460fc",
   "metadata": {
    "editable": true,
    "slideshow": {
     "slide_type": ""
    },
    "tags": [
     "hide-input"
    ]
   },
   "outputs": [],
   "source": [
    "import numpy as np\n",
    "import matplotlib.pyplot as plt\n",
    "import japanize_matplotlib\n",
    "\n",
    "def f(x):\n",
    "    return np.sin(x)\n",
    "\n",
    "def f1(x):\n",
    "    return np.cos(x)\n",
    "\n",
    "def f2(x):\n",
    "    return -np.sin(x)\n",
    "\n",
    "\n",
    "x = np.linspace(0, 6, 100)\n",
    "\n",
    "fig, ax = plt.subplots(figsize=[7, 3])\n",
    "\n",
    "ax.plot(x, f(x), label=r\"$f(x)$\", color=\"steelblue\")\n",
    "ax.plot(x, f1(x), label=r\"$f'(x)$\", color=\"dodgerblue\", linestyle=\"--\", alpha=0.6)\n",
    "ax.plot(x, f2(x), label=r\"$f''(x)$\", color=\"deepskyblue\", linestyle=\"-.\", alpha=0.6)\n",
    "\n",
    "x0 = np.pi/2\n",
    "x1 = 3*np.pi/2\n",
    "ax.axvline(x=x0, color=\"gray\", alpha=0.5, linestyle=\":\")\n",
    "ax.axvline(x=x1, color=\"gray\", alpha=0.5, linestyle=\":\")\n",
    "ax.axhline(y=0, color=\"gray\", alpha=0.8)\n",
    "\n",
    "ax.legend()\n",
    "ax.set(xlabel=\"x\", ylabel=\"y\")\n",
    "ax.text(x0, f(x0) - 0.15, \"極大\", color=\"steelblue\", ha=\"center\")\n",
    "ax.text(x1, f(x1) + 0.15, \"極小\", color=\"steelblue\", ha=\"center\")\n",
    "ax.text(x0, f1(x0) - 0.15, r\"$f'(x)=0$\", color=\"dodgerblue\", ha=\"center\")\n",
    "ax.text(x1, f1(x1) - 0.15, r\"$f'(x)=0$\", color=\"dodgerblue\", ha=\"center\")\n",
    "ax.text(x0, f2(x0) + 0.15, r\"$f''(x)<0$\", color=\"deepskyblue\", ha=\"center\")\n",
    "ax.text(x1, f2(x1) - 0.2, r\"$f''(x)>0$\", color=\"deepskyblue\", ha=\"center\")\n",
    "fig.show()"
   ]
  },
  {
   "cell_type": "markdown",
   "id": "a40a2bd2-00e4-486e-b824-cd450e072bbd",
   "metadata": {},
   "source": [
    "よって、きょくちのはんて"
   ]
  },
  {
   "cell_type": "markdown",
   "id": "e37dc037-8baf-4716-aaf6-a5f1193f97e1",
   "metadata": {},
   "source": []
  },
  {
   "cell_type": "markdown",
   "id": "95ffaf1d-d3c7-4da4-b74d-5ef21bf7501e",
   "metadata": {},
   "source": [
    ":::{admonition} 極値の判定法\n",
    ":class: note\n",
    "\n",
    "(1) $f^{\\prime}\\left(x_0\\right)=0, f^{\\prime \\prime}\\left(x_0\\right)<0$ ならば、 関数 $f(x)$ は $x=x_0$ で極大值 $f\\left(x_0\\right)$ をとる。\n",
    "\n",
    "(2) $f^{\\prime}\\left(x_0\\right)=0, f^{\\prime \\prime}\\left(x_0\\right)>0$ ならば、 関数 $f(x)$ は $x=x_0$ で極小値 $f\\left(x_0\\right)$ をとる。\n",
    ":::"
   ]
  },
  {
   "cell_type": "code",
   "execution_count": null,
   "id": "9db14182-0b83-4ab6-9861-fb9a8af49423",
   "metadata": {},
   "outputs": [],
   "source": []
  }
 ],
 "metadata": {
  "kernelspec": {
   "display_name": "Python 3 (ipykernel)",
   "language": "python",
   "name": "python3"
  },
  "language_info": {
   "codemirror_mode": {
    "name": "ipython",
    "version": 3
   },
   "file_extension": ".py",
   "mimetype": "text/x-python",
   "name": "python",
   "nbconvert_exporter": "python",
   "pygments_lexer": "ipython3",
   "version": "3.9.18"
  }
 },
 "nbformat": 4,
 "nbformat_minor": 5
}
