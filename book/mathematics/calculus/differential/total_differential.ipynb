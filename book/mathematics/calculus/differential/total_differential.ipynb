{
 "cells": [
  {
   "cell_type": "markdown",
   "id": "dbab1492-09fe-45b8-952b-a1ca1adee77b",
   "metadata": {},
   "source": [
    "# 全微分"
   ]
  },
  {
   "cell_type": "markdown",
   "id": "670935c0-da95-427a-84d0-322d9df19688",
   "metadata": {},
   "source": [
    "2変数関数$z=f(x,y)$があるとし、独立変数$x,y$の微分$dx$と$dy$は、任意の増分$\\Delta x, \\Delta y$とする（$dx=\\Delta x, dy = \\Delta y$）。\n",
    "\n",
    "関数$z=f(x,y)$の **全微分** （total differential）は\n",
    "\n",
    "$$\n",
    "dz := \\frac{\\partial f(x,y)}{\\partial x} dx + \\frac{\\partial f(x,y)}{\\partial y} dy\n",
    "$$\n"
   ]
  },
  {
   "cell_type": "markdown",
   "id": "42ccdfe3-869f-442a-9468-0ff4f45a5f70",
   "metadata": {},
   "source": [
    ":::{card} 例\n",
    "\n",
    "$z=xy$とすると、\n",
    "\n",
    "$$\n",
    "dz = y dx + x dy\n",
    "$$\n",
    ":::"
   ]
  }
 ],
 "metadata": {
  "kernelspec": {
   "display_name": "Python 3 (ipykernel)",
   "language": "python",
   "name": "python3"
  },
  "language_info": {
   "codemirror_mode": {
    "name": "ipython",
    "version": 3
   },
   "file_extension": ".py",
   "mimetype": "text/x-python",
   "name": "python",
   "nbconvert_exporter": "python",
   "pygments_lexer": "ipython3",
   "version": "3.10.14"
  }
 },
 "nbformat": 4,
 "nbformat_minor": 5
}
