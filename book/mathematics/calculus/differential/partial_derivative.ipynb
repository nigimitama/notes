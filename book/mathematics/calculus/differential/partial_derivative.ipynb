{
 "cells": [
  {
   "cell_type": "markdown",
   "id": "f6827776-cbde-4b70-9d8d-64ebfc026137",
   "metadata": {},
   "source": [
    "# 偏微分"
   ]
  },
  {
   "cell_type": "markdown",
   "id": "ef48395e-38a0-47a5-b816-5aed3a1e3973",
   "metadata": {},
   "source": [
    "関数$z = f(x, y)$があるとする。$y$を一定として$x$を変動させることを考えると、$f(x, y)$は$x$だけの関数になるので、その導関数\n",
    "\n",
    "$$\n",
    "\\frac{\\partial f(x, y)}{\\partial x}=\\lim _{\\Delta x \\rightarrow 0} \\frac{f(x+\\Delta x, y)-f(x, y)}{\\Delta x}\n",
    "$$\n",
    "\n",
    "が存在すれば、**偏微分可能** であるという。また$\\frac{\\partial f}{\\partial x}$を$f(x,y)$の$x$に関する **偏導関数** （partial derivative）という。"
   ]
  }
 ],
 "metadata": {
  "kernelspec": {
   "display_name": "Python 3 (ipykernel)",
   "language": "python",
   "name": "python3"
  },
  "language_info": {
   "codemirror_mode": {
    "name": "ipython",
    "version": 3
   },
   "file_extension": ".py",
   "mimetype": "text/x-python",
   "name": "python",
   "nbconvert_exporter": "python",
   "pygments_lexer": "ipython3",
   "version": "3.10.14"
  }
 },
 "nbformat": 4,
 "nbformat_minor": 5
}
