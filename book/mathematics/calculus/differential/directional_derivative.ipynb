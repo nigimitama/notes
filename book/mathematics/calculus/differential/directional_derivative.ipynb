{
 "cells": [
  {
   "cell_type": "markdown",
   "id": "c30d07b8-5de4-4930-8f63-e6a68b5c8859",
   "metadata": {},
   "source": [
    "# 方向微分"
   ]
  },
  {
   "cell_type": "markdown",
   "id": "f93c020f-8664-4de4-a3ec-de4c8ac0624a",
   "metadata": {},
   "source": [
    "あるベクトル$\\boldsymbol{v}=\\left(v_1, \\ldots, v_n\\right)$に沿った、スカラー関数\n",
    "\n",
    "$$\n",
    "f(\\boldsymbol{x})=f\\left(x_1, x_2, \\ldots, x_n\\right)\n",
    "$$\n",
    "\n",
    "の **方向微分** （directional derivative）は、極限\n",
    "\n",
    "$$\n",
    "\\nabla_{\\boldsymbol{v}} f(\\boldsymbol{x})=\\lim _{h \\rightarrow 0} \\frac{f(\\boldsymbol{x}+h \\boldsymbol{v})-f(\\boldsymbol{x})}{h}\n",
    "$$\n",
    "\n",
    "として定義される関数である。"
   ]
  },
  {
   "cell_type": "markdown",
   "id": "b169a706-f55c-4386-b3d6-0336b8c3765c",
   "metadata": {},
   "source": [
    "方向微分は偏微分の概念を一般化するものである。\n",
    "\n",
    "また、方向微分を一般化したものはガトー微分である（ガトー微分の特別な場合が方向微分）"
   ]
  },
  {
   "cell_type": "markdown",
   "id": "84efa303-948c-402c-beaa-de45386a73af",
   "metadata": {},
   "source": [
    "関数$f$が$\\boldsymbol{x}$において微分可能であるなら、任意のベクトル$\\boldsymbol{v}$に沿った方向微分が存在し、\n",
    "\n",
    "$$\n",
    "\\nabla_{\\boldsymbol{v}} f(\\boldsymbol{x})=\\nabla f(\\boldsymbol{x}) \\cdot \\boldsymbol{v}\n",
    "$$\n",
    "\n",
    "が成立する。ここで$\\nabla$は勾配を表し、$\\cdot$はドット積を表す。"
   ]
  },
  {
   "cell_type": "markdown",
   "id": "663d0493-a09d-42fb-92d2-f19f96216188",
   "metadata": {},
   "source": [
    "## ガトー微分\n",
    "\n",
    "\n",
    "$X$ と $Y$ はノルム空間とする。$f: X \\to Y$ の$x\\in X$での$0\\neq t \\in X$に沿ったガトー微分は\n",
    "\n",
    "\n",
    "$$\n",
    "D_t f(x) := \\lim_{h \\to 0} \\frac{ f(x+ht) - f(x) }{h}\n",
    "$$\n",
    "\n",
    "\n",
    "として右辺の極限が存在する限りにおいて定める。\n",
    "\n",
    "\n",
    "[ガトー微分とフレッシェ微分：方向微分と勾配の一般化 - 初級Mathマニアの寝言](https://ogyahogya.hatenablog.com/entry/2018/08/29/%E3%82%AC%E3%83%88%E3%83%BC%E5%BE%AE%E5%88%86%E3%81%A8%E3%83%95%E3%83%AC%E3%83%83%E3%82%B7%E3%82%A7%E5%BE%AE%E5%88%86%EF%BC%9A%E6%96%B9%E5%90%91%E5%BE%AE%E5%88%86%E3%81%A8%E5%8B%BE%E9%85%8D%E3%81%AE)\n",
    "\n",
    "通常の方向微分は $X, Y$ が有限次元のユークリッド空間になっているガトー微分"
   ]
  },
  {
   "cell_type": "code",
   "execution_count": null,
   "id": "340c1b44-59a1-465f-9220-713d1e2e4ed8",
   "metadata": {},
   "outputs": [],
   "source": []
  }
 ],
 "metadata": {
  "kernelspec": {
   "display_name": "Python 3 (ipykernel)",
   "language": "python",
   "name": "python3"
  },
  "language_info": {
   "codemirror_mode": {
    "name": "ipython",
    "version": 3
   },
   "file_extension": ".py",
   "mimetype": "text/x-python",
   "name": "python",
   "nbconvert_exporter": "python",
   "pygments_lexer": "ipython3",
   "version": "3.10.14"
  }
 },
 "nbformat": 4,
 "nbformat_minor": 5
}
