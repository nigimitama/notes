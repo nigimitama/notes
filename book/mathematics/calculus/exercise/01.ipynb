{
 "cells": [
  {
   "cell_type": "markdown",
   "id": "547c1c01-bed0-4223-997e-b966185245d8",
   "metadata": {},
   "source": [
    "# 練習問題メモ 01"
   ]
  },
  {
   "cell_type": "markdown",
   "id": "3613ed1b-a024-4113-b47e-fa438df46c0e",
   "metadata": {},
   "source": [
    "1. 次の関数を微分せよ。"
   ]
  },
  {
   "cell_type": "markdown",
   "id": "9e4e57e1-2d44-479e-93b1-54512f8bb63d",
   "metadata": {},
   "source": [
    "> $\\text { (1) } y=x^3-3 x^2+2$"
   ]
  },
  {
   "cell_type": "markdown",
   "id": "904fc850-ee90-42ba-88a5-e59e6d55ccf3",
   "metadata": {},
   "source": [
    "$$\n",
    "\\frac{dy}{dx} = 3x^2 - 6x\n",
    "$$"
   ]
  },
  {
   "cell_type": "code",
   "execution_count": null,
   "id": "f2a4a8d8-e7b7-43f1-8565-f7336c1e0506",
   "metadata": {},
   "outputs": [],
   "source": []
  }
 ],
 "metadata": {
  "kernelspec": {
   "display_name": "Python 3 (ipykernel)",
   "language": "python",
   "name": "python3"
  },
  "language_info": {
   "codemirror_mode": {
    "name": "ipython",
    "version": 3
   },
   "file_extension": ".py",
   "mimetype": "text/x-python",
   "name": "python",
   "nbconvert_exporter": "python",
   "pygments_lexer": "ipython3",
   "version": "3.10.13"
  }
 },
 "nbformat": 4,
 "nbformat_minor": 5
}
