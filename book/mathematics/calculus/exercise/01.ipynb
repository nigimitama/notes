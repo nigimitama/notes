{
 "cells": [
  {
   "cell_type": "markdown",
   "id": "547c1c01-bed0-4223-997e-b966185245d8",
   "metadata": {},
   "source": [
    "# 練習問題メモ 01"
   ]
  },
  {
   "cell_type": "markdown",
   "id": "3613ed1b-a024-4113-b47e-fa438df46c0e",
   "metadata": {},
   "source": [
    "1. 次の関数を微分せよ。"
   ]
  },
  {
   "cell_type": "markdown",
   "id": "9e4e57e1-2d44-479e-93b1-54512f8bb63d",
   "metadata": {},
   "source": [
    "> $\\text { (1) } y=x^3-3 x^2+2$"
   ]
  },
  {
   "cell_type": "markdown",
   "id": "904fc850-ee90-42ba-88a5-e59e6d55ccf3",
   "metadata": {},
   "source": [
    "$$\n",
    "\\frac{dy}{dx} = 3x^2 - 6x\n",
    "$$"
   ]
  },
  {
   "cell_type": "markdown",
   "id": "2754d67a-d647-4dbd-9daf-dc4bd82012f5",
   "metadata": {},
   "source": [
    "> $\\text { (2) } y=x(x-2)(x-4)(x-6)$\n",
    "\n",
    "$$\n",
    "x(x-2)(x-4)(x-6)\n",
    "= (x^2 - 2x)(x-4)(x-6)\\\\\n",
    "= (x^3 - 6x^2 + 8x)(x-6)\\\\\n",
    "= x^4 - 6x^3 - 6x^3 + 36x^2 + 8x^2 - 48x\\\\\n",
    "= x^4 - 12x^3 + 44x^2 - 48x\\\\\n",
    "$$\n",
    "\n",
    "$$\n",
    "\\frac{dy}{dx} = 4 x^3 - 36 x^2 + 88x - 48\n",
    "$$"
   ]
  },
  {
   "cell_type": "code",
   "execution_count": 2,
   "id": "7208b9e7-b3be-45d9-81b9-35b0d2db14d7",
   "metadata": {},
   "outputs": [
    {
     "data": {
      "text/latex": [
       "$\\displaystyle x^{4} - 12 x^{3} + 44 x^{2} - 48 x$"
      ],
      "text/plain": [
       "x**4 - 12*x**3 + 44*x**2 - 48*x"
      ]
     },
     "execution_count": 2,
     "metadata": {},
     "output_type": "execute_result"
    }
   ],
   "source": [
    "import sympy as sp\n",
    "x = sp.symbols(\"x\")\n",
    "y = x * (x - 2) * (x - 4) * (x - 6)\n",
    "sp.expand(y)"
   ]
  },
  {
   "cell_type": "code",
   "execution_count": 6,
   "id": "925df8ba-2035-40ad-8354-3d684af0e601",
   "metadata": {},
   "outputs": [
    {
     "data": {
      "text/latex": [
       "$\\displaystyle 4 x^{3} - 36 x^{2} + 88 x - 48$"
      ],
      "text/plain": [
       "4*x**3 - 36*x**2 + 88*x - 48"
      ]
     },
     "execution_count": 6,
     "metadata": {},
     "output_type": "execute_result"
    }
   ],
   "source": [
    "sp.expand(y).diff(x)"
   ]
  },
  {
   "cell_type": "markdown",
   "id": "542a1cd5-f68e-4bde-b104-1c215809d0ab",
   "metadata": {},
   "source": [
    "> $\\text { (3) } y=\\frac{5+x}{5-x}$"
   ]
  },
  {
   "cell_type": "markdown",
   "id": "33ad0901-c5aa-40a4-9cca-af472ebd4dde",
   "metadata": {},
   "source": [
    "$$\n",
    "y=\\frac{5+x}{5-x}\n",
    "= \\frac{g(x)}{m(x)}\n",
    "$$\n",
    "\n",
    "とおく。商の微分公式から\n",
    " \n",
    "$$\n",
    "\\begin{align}\n",
    "\\frac{dy}{dx} \n",
    "&= \\frac{g'(x) m(x) - g(x) m'(x)}{m(x)^2}\\\\\n",
    "&= \\frac{(5+x)' (5-x) - (5+x) (5-x)'}{(5-x)^2}\\\\\n",
    "&= \\frac{(5-x) + (5+x)}{(5-x)^2}\\\\\n",
    "&= \\frac{1}{(5-x)} + \\frac{(5+x)}{(5-x)^2}\n",
    "\\end{align}\n",
    "$$\n"
   ]
  },
  {
   "cell_type": "code",
   "execution_count": 8,
   "id": "ebff5e2d-fc86-4af4-bc5f-2ef00705f3e1",
   "metadata": {},
   "outputs": [
    {
     "data": {
      "text/latex": [
       "$\\displaystyle \\frac{1}{5 - x} + \\frac{x + 5}{\\left(5 - x\\right)^{2}}$"
      ],
      "text/plain": [
       "1/(5 - x) + (x + 5)/(5 - x)**2"
      ]
     },
     "execution_count": 8,
     "metadata": {},
     "output_type": "execute_result"
    }
   ],
   "source": [
    "import sympy as sp\n",
    "x = sp.symbols(\"x\")\n",
    "y = (5+x)/(5-x)\n",
    "y.diff(x)"
   ]
  },
  {
   "cell_type": "markdown",
   "id": "7fb61bf9-febc-425f-973c-ca460c80b73b",
   "metadata": {},
   "source": [
    "> $\\text { (4) } y=\\frac{1}{\\sqrt{x^2+2}}$"
   ]
  },
  {
   "cell_type": "markdown",
   "id": "bb51b1c1-0532-445f-93d0-8f843dcd5c08",
   "metadata": {},
   "source": [
    "$$\n",
    "y = (x^2+2)^{-1/2}\n",
    "$$\n",
    "\n",
    "$$\n",
    "\\frac{dy}{dx}\n",
    "= \\frac{dy}{du} \\frac{du}{dx}\n",
    "= - \\frac{1}{2} (x^2 + 2)^{-3/2} \\times 2x\\\\\n",
    "= - \\frac{ x }{x^2 + 2^{3/2}}\n",
    "$$"
   ]
  },
  {
   "cell_type": "code",
   "execution_count": 9,
   "id": "13cbacfe-85f6-49b2-afe9-55a402071f73",
   "metadata": {},
   "outputs": [
    {
     "data": {
      "text/latex": [
       "$\\displaystyle - \\frac{x}{\\left(x^{2} + 2\\right)^{\\frac{3}{2}}}$"
      ],
      "text/plain": [
       "-x/(x**2 + 2)**(3/2)"
      ]
     },
     "execution_count": 9,
     "metadata": {},
     "output_type": "execute_result"
    }
   ],
   "source": [
    "import sympy as sp\n",
    "x = sp.symbols(\"x\")\n",
    "y = 1/sp.sqrt(x**2 + 2)\n",
    "y.diff(x)"
   ]
  },
  {
   "cell_type": "code",
   "execution_count": null,
   "id": "76a1f3e2-9cba-45e8-a976-be336388570e",
   "metadata": {},
   "outputs": [],
   "source": []
  }
 ],
 "metadata": {
  "kernelspec": {
   "display_name": "Python 3 (ipykernel)",
   "language": "python",
   "name": "python3"
  },
  "language_info": {
   "codemirror_mode": {
    "name": "ipython",
    "version": 3
   },
   "file_extension": ".py",
   "mimetype": "text/x-python",
   "name": "python",
   "nbconvert_exporter": "python",
   "pygments_lexer": "ipython3",
   "version": "3.10.13"
  }
 },
 "nbformat": 4,
 "nbformat_minor": 5
}
