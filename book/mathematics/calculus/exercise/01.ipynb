{
 "cells": [
  {
   "cell_type": "markdown",
   "id": "547c1c01-bed0-4223-997e-b966185245d8",
   "metadata": {},
   "source": [
    "# 練習問題メモ 01"
   ]
  },
  {
   "cell_type": "markdown",
   "id": "3613ed1b-a024-4113-b47e-fa438df46c0e",
   "metadata": {},
   "source": [
    "1. 次の関数を微分せよ。"
   ]
  },
  {
   "cell_type": "markdown",
   "id": "9e4e57e1-2d44-479e-93b1-54512f8bb63d",
   "metadata": {},
   "source": [
    "> $\\text { (1) } y=x^3-3 x^2+2$"
   ]
  },
  {
   "cell_type": "markdown",
   "id": "904fc850-ee90-42ba-88a5-e59e6d55ccf3",
   "metadata": {},
   "source": [
    "$$\n",
    "\\frac{dy}{dx} = 3x^2 - 6x\n",
    "$$"
   ]
  },
  {
   "cell_type": "markdown",
   "id": "2754d67a-d647-4dbd-9daf-dc4bd82012f5",
   "metadata": {},
   "source": [
    "> $\\text { (2) } y=x(x-2)(x-4)(x-6)$\n",
    "\n",
    "$$\n",
    "x(x-2)(x-4)(x-6)\n",
    "= (x^2 - 2x)(x-4)(x-6)\\\\\n",
    "= (x^3 - 6x^2 + 8x)(x-6)\\\\\n",
    "= x^4 - 6x^3 - 6x^3 + 36x^2 + 8x^2 - 48x\\\\\n",
    "= x^4 - 12x^3 + 44x^2 - 48x\\\\\n",
    "$$\n",
    "\n",
    "$$\n",
    "\\frac{dy}{dx} = 4 x^3 - 36 x^2 + 88x - 48\n",
    "$$"
   ]
  },
  {
   "cell_type": "code",
   "execution_count": 2,
   "id": "7208b9e7-b3be-45d9-81b9-35b0d2db14d7",
   "metadata": {},
   "outputs": [
    {
     "data": {
      "text/latex": [
       "$\\displaystyle x^{4} - 12 x^{3} + 44 x^{2} - 48 x$"
      ],
      "text/plain": [
       "x**4 - 12*x**3 + 44*x**2 - 48*x"
      ]
     },
     "execution_count": 2,
     "metadata": {},
     "output_type": "execute_result"
    }
   ],
   "source": [
    "import sympy as sp\n",
    "x = sp.symbols(\"x\")\n",
    "y = x * (x - 2) * (x - 4) * (x - 6)\n",
    "sp.expand(y)"
   ]
  },
  {
   "cell_type": "code",
   "execution_count": 6,
   "id": "925df8ba-2035-40ad-8354-3d684af0e601",
   "metadata": {},
   "outputs": [
    {
     "data": {
      "text/latex": [
       "$\\displaystyle 4 x^{3} - 36 x^{2} + 88 x - 48$"
      ],
      "text/plain": [
       "4*x**3 - 36*x**2 + 88*x - 48"
      ]
     },
     "execution_count": 6,
     "metadata": {},
     "output_type": "execute_result"
    }
   ],
   "source": [
    "sp.expand(y).diff(x)"
   ]
  },
  {
   "cell_type": "markdown",
   "id": "542a1cd5-f68e-4bde-b104-1c215809d0ab",
   "metadata": {},
   "source": [
    "> $\\text { (3) } y=\\frac{5+x}{5-x}$"
   ]
  },
  {
   "cell_type": "markdown",
   "id": "c1de9a80-7f9e-4457-a7ed-884f1581e983",
   "metadata": {},
   "source": [
    "\n",
    "$$\n",
    "y=\\frac{5+x}{5-x}\n",
    "= \\frac{g(u)}{m(u)}\n",
    "$$\n",
    "\n",
    "とおく。商の微分公式\n",
    " \n",
    "$$\n",
    "\\frac{d}{du} \\frac{g(u)}{m(u)} = \\frac{g'(u) m(u) - g(u) m'(u)}{m(u)^2}\n",
    "$$\n",
    "\n",
    "と\n",
    "\n",
    "$$\n",
    "\\frac{du}{dx} = 5\n",
    "$$\n",
    "\n",
    "から\n",
    "\n",
    "$$\n",
    "\\frac{d}{du} \\frac{5+x}{5-x}\n",
    "= \\frac{g'(u) m(u) - g(u) m'(u)}{m(u)^2}\\\\\n",
    "= \\frac{5^2 - 5^2}{5^2} = 0\n",
    "$$\n",
    "\n"
   ]
  },
  {
   "cell_type": "markdown",
   "id": "7fb61bf9-febc-425f-973c-ca460c80b73b",
   "metadata": {},
   "source": []
  },
  {
   "cell_type": "code",
   "execution_count": null,
   "id": "39331241-6b85-4c27-82e6-0c300f296f6d",
   "metadata": {},
   "outputs": [],
   "source": []
  }
 ],
 "metadata": {
  "kernelspec": {
   "display_name": "Python 3 (ipykernel)",
   "language": "python",
   "name": "python3"
  },
  "language_info": {
   "codemirror_mode": {
    "name": "ipython",
    "version": 3
   },
   "file_extension": ".py",
   "mimetype": "text/x-python",
   "name": "python",
   "nbconvert_exporter": "python",
   "pygments_lexer": "ipython3",
   "version": "3.10.13"
  }
 },
 "nbformat": 4,
 "nbformat_minor": 5
}
