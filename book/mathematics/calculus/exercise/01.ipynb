{
 "cells": [
  {
   "cell_type": "markdown",
   "id": "547c1c01-bed0-4223-997e-b966185245d8",
   "metadata": {},
   "source": [
    "# 練習問題メモ 01"
   ]
  },
  {
   "cell_type": "markdown",
   "id": "3613ed1b-a024-4113-b47e-fa438df46c0e",
   "metadata": {},
   "source": [
    "1. 次の関数を微分せよ。"
   ]
  },
  {
   "cell_type": "markdown",
   "id": "9e4e57e1-2d44-479e-93b1-54512f8bb63d",
   "metadata": {},
   "source": [
    "> $\\text { (1) } y=x^3-3 x^2+2$"
   ]
  },
  {
   "cell_type": "markdown",
   "id": "904fc850-ee90-42ba-88a5-e59e6d55ccf3",
   "metadata": {},
   "source": [
    "$$\n",
    "\\frac{dy}{dx} = 3x^2 - 6x\n",
    "$$"
   ]
  },
  {
   "cell_type": "markdown",
   "id": "2754d67a-d647-4dbd-9daf-dc4bd82012f5",
   "metadata": {},
   "source": [
    "> $\\text { (2) } y=x(x-2)(x-4)(x-6)$\n",
    "\n",
    "$$\n",
    "x(x-2)(x-4)(x-6)\n",
    "= (x^2 - 2x)(x-4)(x-6)\\\\\n",
    "= (x^3 - 6x^2 + 8x)(x-6)\\\\\n",
    "= x^4 - 6x^3 - 6x^3 + 36x^2 + 8x^2 - 48x\\\\\n",
    "= x^4 - 12x^3 + 44x^2 - 48x\\\\\n",
    "$$\n",
    "\n",
    "$$\n",
    "\\frac{dy}{dx} = 4 x^3 - 36 x^2 + 88x - 48\n",
    "$$"
   ]
  },
  {
   "cell_type": "code",
   "execution_count": 2,
   "id": "7208b9e7-b3be-45d9-81b9-35b0d2db14d7",
   "metadata": {},
   "outputs": [
    {
     "data": {
      "text/latex": [
       "$\\displaystyle x^{4} - 12 x^{3} + 44 x^{2} - 48 x$"
      ],
      "text/plain": [
       "x**4 - 12*x**3 + 44*x**2 - 48*x"
      ]
     },
     "execution_count": 2,
     "metadata": {},
     "output_type": "execute_result"
    }
   ],
   "source": [
    "import sympy as sp\n",
    "x = sp.symbols(\"x\")\n",
    "y = x * (x - 2) * (x - 4) * (x - 6)\n",
    "sp.expand(y)"
   ]
  },
  {
   "cell_type": "code",
   "execution_count": 6,
   "id": "925df8ba-2035-40ad-8354-3d684af0e601",
   "metadata": {},
   "outputs": [
    {
     "data": {
      "text/latex": [
       "$\\displaystyle 4 x^{3} - 36 x^{2} + 88 x - 48$"
      ],
      "text/plain": [
       "4*x**3 - 36*x**2 + 88*x - 48"
      ]
     },
     "execution_count": 6,
     "metadata": {},
     "output_type": "execute_result"
    }
   ],
   "source": [
    "sp.expand(y).diff(x)"
   ]
  },
  {
   "cell_type": "markdown",
   "id": "542a1cd5-f68e-4bde-b104-1c215809d0ab",
   "metadata": {},
   "source": [
    "> $\\text { (3) } y=\\frac{5+x}{5-x}$"
   ]
  },
  {
   "cell_type": "markdown",
   "id": "33ad0901-c5aa-40a4-9cca-af472ebd4dde",
   "metadata": {},
   "source": [
    "$$\n",
    "y=\\frac{5+x}{5-x}\n",
    "= \\frac{g(x)}{m(x)}\n",
    "$$\n",
    "\n",
    "とおく。商の微分公式から\n",
    " \n",
    "$$\n",
    "\\begin{align}\n",
    "\\frac{dy}{dx} \n",
    "&= \\frac{g'(x) m(x) - g(x) m'(x)}{m(x)^2}\\\\\n",
    "&= \\frac{(5+x)' (5-x) - (5+x) (5-x)'}{(5-x)^2}\\\\\n",
    "&= \\frac{(5-x) + (5+x)}{(5-x)^2}\\\\\n",
    "&= \\frac{1}{(5-x)} + \\frac{(5+x)}{(5-x)^2}\n",
    "\\end{align}\n",
    "$$\n"
   ]
  },
  {
   "cell_type": "code",
   "execution_count": 8,
   "id": "ebff5e2d-fc86-4af4-bc5f-2ef00705f3e1",
   "metadata": {},
   "outputs": [
    {
     "data": {
      "text/latex": [
       "$\\displaystyle \\frac{1}{5 - x} + \\frac{x + 5}{\\left(5 - x\\right)^{2}}$"
      ],
      "text/plain": [
       "1/(5 - x) + (x + 5)/(5 - x)**2"
      ]
     },
     "execution_count": 8,
     "metadata": {},
     "output_type": "execute_result"
    }
   ],
   "source": [
    "import sympy as sp\n",
    "x = sp.symbols(\"x\")\n",
    "y = (5+x)/(5-x)\n",
    "y.diff(x)"
   ]
  },
  {
   "cell_type": "markdown",
   "id": "7fb61bf9-febc-425f-973c-ca460c80b73b",
   "metadata": {},
   "source": [
    "> $\\text { (4) } y=\\frac{1}{\\sqrt{x^2+2}}$"
   ]
  },
  {
   "cell_type": "markdown",
   "id": "bb51b1c1-0532-445f-93d0-8f843dcd5c08",
   "metadata": {},
   "source": [
    "$$\n",
    "y = (x^2+2)^{-1/2}\n",
    "$$\n",
    "\n",
    "$$\n",
    "\\frac{dy}{dx}\n",
    "= \\frac{dy}{du} \\frac{du}{dx}\n",
    "= - \\frac{1}{2} (x^2 + 2)^{-3/2} \\times 2x\\\\\n",
    "= - \\frac{ x }{x^2 + 2^{3/2}}\n",
    "$$"
   ]
  },
  {
   "cell_type": "code",
   "execution_count": 9,
   "id": "13cbacfe-85f6-49b2-afe9-55a402071f73",
   "metadata": {},
   "outputs": [
    {
     "data": {
      "text/latex": [
       "$\\displaystyle - \\frac{x}{\\left(x^{2} + 2\\right)^{\\frac{3}{2}}}$"
      ],
      "text/plain": [
       "-x/(x**2 + 2)**(3/2)"
      ]
     },
     "execution_count": 9,
     "metadata": {},
     "output_type": "execute_result"
    }
   ],
   "source": [
    "import sympy as sp\n",
    "x = sp.symbols(\"x\")\n",
    "y = 1/sp.sqrt(x**2 + 2)\n",
    "y.diff(x)"
   ]
  },
  {
   "cell_type": "markdown",
   "id": "5f589d13-e9ae-4dc7-a985-ae8c6a0fce67",
   "metadata": {},
   "source": [
    "> $\\displaystyle \\text { (5) } y=\\frac{\\cos x}{x}$"
   ]
  },
  {
   "cell_type": "markdown",
   "id": "154af4e6-3f96-4dbc-aa3a-d7878256c433",
   "metadata": {},
   "source": [
    "商の公式を使う場合\n",
    "\n",
    "$$\n",
    "\\left(\\frac{\\cos x}{x}\\right)'\n",
    "= \\frac{-\\sin x \\cdot x - \\cos x}{x^2}\\\\\n",
    "= \\frac{-x \\sin x + \\cos x}{x^2}\\\\\n",
    "$$"
   ]
  },
  {
   "cell_type": "markdown",
   "id": "04d81c1f-a12a-4327-90d3-5b8a972af109",
   "metadata": {},
   "source": [
    "積の微分公式を使う\n",
    "\n",
    "\n",
    "$$\n",
    "[\\cos x \\cdot x^{-1}]'\n",
    "= -\\sin x \\cdot x^{-1} + \\cos x \\cdot -x^{-2}\\\\\n",
    "= \\frac{- \\sin x}{x} + \\frac{\\cos x}{x^2}\\\\\n",
    "= \\frac{- x \\sin x + \\cos x}{x^2}\\\\\n",
    "$$"
   ]
  },
  {
   "cell_type": "markdown",
   "id": "6a6c9e0f-4fa2-4828-ae3c-0271c1e9a857",
   "metadata": {},
   "source": [
    "> $\\text { (6) } y=e^{a x}(\\cos b x+\\sin b x)$"
   ]
  },
  {
   "cell_type": "markdown",
   "id": "e5a63a42-cc20-4ad6-b9a4-738a49ea913d",
   "metadata": {},
   "source": [
    "積の公式を使って\n",
    "\n",
    "$$\n",
    "\\begin{align}\n",
    "[e^{a x}\\cdot (\\cos b x + \\sin b x)]'\n",
    "&= a e^{a x} \\cdot (\\cos b x + \\sin b x) + e^{a x} \\cdot (-b \\sin bx + b \\cos b x)\\\\\n",
    "&= e^{a x} \\cdot (a \\cos b x + a \\sin b x) + e^{a x} \\cdot (-b \\sin bx + b \\cos b x)\\\\\n",
    "&= e^{a x} [(a \\cos b x) + (a \\sin b x) -b \\sin bx) + (b \\cos b x)]\\\\\n",
    "&= e^{a x} [(a +b )\\cos b x + (a - b) \\sin b x]\\\\\n",
    "\\end{align}\n",
    "$$"
   ]
  },
  {
   "cell_type": "markdown",
   "id": "f3f76c5b-1780-447f-9713-0024cb65d2bf",
   "metadata": {},
   "source": [
    ":::{dropdown} 前提１：$(e^{ax})' = a e^{ax}$\n",
    "\n",
    "$u=ax$とおいて合成関数として\n",
    "\n",
    "$$\n",
    "\\frac{ d e^{u} }{ d u }\n",
    "\\frac{ d ax }{ dx }\n",
    "= e^{ax} a\n",
    "$$\n",
    "\n",
    ":::"
   ]
  },
  {
   "cell_type": "markdown",
   "id": "478d4aaf-fde9-48d6-9ec1-d13c09f22e9f",
   "metadata": {},
   "source": [
    ":::{dropdown} 前提２：$(\\sin bx)' = b \\cos bx$\n",
    "\n",
    "$u=bx$とした合成関数として、\n",
    "\n",
    "$$\n",
    "\\frac{ d \\sin u }{ du }\n",
    "\\frac{ d u }{ dx }\n",
    "= \\cos bx \\cdot b\n",
    "$$\n",
    ":::"
   ]
  },
  {
   "cell_type": "code",
   "execution_count": 1,
   "id": "226e09a3-81ef-41f7-b184-3e4b9c17e648",
   "metadata": {},
   "outputs": [
    {
     "data": {
      "text/latex": [
       "$\\displaystyle a \\left(\\sin{\\left(b x \\right)} + \\cos{\\left(b x \\right)}\\right) e^{a x} + \\left(- b \\sin{\\left(b x \\right)} + b \\cos{\\left(b x \\right)}\\right) e^{a x}$"
      ],
      "text/plain": [
       "a*(sin(b*x) + cos(b*x))*exp(a*x) + (-b*sin(b*x) + b*cos(b*x))*exp(a*x)"
      ]
     },
     "execution_count": 1,
     "metadata": {},
     "output_type": "execute_result"
    }
   ],
   "source": [
    "import sympy as sp\n",
    "a, b, x = sp.symbols(\"a b x\")\n",
    "y = sp.exp(a * x) * (sp.cos(b * x) + sp.sin(b * x))\n",
    "y.diff(x)"
   ]
  },
  {
   "cell_type": "markdown",
   "id": "24fe3341-6878-47e2-b2ad-16e39ae4219a",
   "metadata": {},
   "source": []
  }
 ],
 "metadata": {
  "kernelspec": {
   "display_name": "Python 3 (ipykernel)",
   "language": "python",
   "name": "python3"
  },
  "language_info": {
   "codemirror_mode": {
    "name": "ipython",
    "version": 3
   },
   "file_extension": ".py",
   "mimetype": "text/x-python",
   "name": "python",
   "nbconvert_exporter": "python",
   "pygments_lexer": "ipython3",
   "version": "3.10.13"
  }
 },
 "nbformat": 4,
 "nbformat_minor": 5
}
