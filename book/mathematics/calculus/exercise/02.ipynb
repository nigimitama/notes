{
 "cells": [
  {
   "cell_type": "markdown",
   "id": "66b87dfa-0eb9-453d-b573-10ac57ec3941",
   "metadata": {},
   "source": [
    "# 練習問題メモ 02\n",
    "\n",
    "和達三樹. (2019). 微分積分. 第3章 練習問題"
   ]
  },
  {
   "cell_type": "markdown",
   "id": "ab3c4e30-3957-45b6-ac65-48653bb025bc",
   "metadata": {},
   "source": [
    "## \\[4\\] 次の関数の$n$次導関数を求めよ"
   ]
  },
  {
   "cell_type": "markdown",
   "id": "8ae3e4cb-e37b-4d31-b6b8-6e59650ba237",
   "metadata": {},
   "source": [
    "> (1) $y=\\frac{1}{x}$"
   ]
  },
  {
   "cell_type": "markdown",
   "id": "6b303ed3-6aaf-450a-bbcb-17c2cd3ef70e",
   "metadata": {},
   "source": [
    "$y=x^{-1}$なので\n",
    "\n",
    "$n=1$のとき、$f'(x) = -1 \\cdot x^{-2}$\n",
    "\n",
    "$n=2$のとき、$f''(x) = -1 \\cdot (-2) \\cdot x^{-3}$\n",
    "\n",
    "$n=3$のとき、$f^{(3)}(x) = -1 \\cdot (-2) \\cdot (-3) x^{-4}$\n",
    "\n",
    "$n=4$のとき、$f^{(4)}(x) = -1 \\cdot (-2) \\cdot (-3) \\cdot (-4) x^{-5}$\n",
    "\n",
    "よって一般に\n",
    "\n",
    "$$\n",
    "f^{(n)}(x) = (-1)^{n} n! x^{-(n+1)}\n",
    "$$\n"
   ]
  },
  {
   "cell_type": "markdown",
   "id": "3fa502b4-c196-40ff-86ad-f92d7e4801b8",
   "metadata": {},
   "source": [
    "> (2) $y=a^x \\quad (a>0)$\n",
    "\n",
    "\n",
    "\n"
   ]
  },
  {
   "cell_type": "markdown",
   "id": "8c514e20-cef1-4337-aa94-677f130e48f7",
   "metadata": {},
   "source": [
    ":::{dropdown} $(a^x)' = a^x \\log a$\n",
    "$$\n",
    "\\log y = x \\log a\\\\\n",
    "\\to x = \\frac{\\log y}{\\log a}\n",
    "$$\n",
    "\n",
    "$$\n",
    "\\frac{dx}{dy} = \\frac{1}{y \\log a}\\\\\n",
    "\\frac{dy}{dx} = 1 / \\frac{dx}{dy}\\\\\n",
    "= y \\log a\\\\\n",
    "= a^x \\log a\n",
    "$$\n",
    ":::"
   ]
  },
  {
   "cell_type": "markdown",
   "id": "db14935f-41f2-4594-adea-c48da4a3dc9e",
   "metadata": {},
   "source": [
    ":::{dropdown} $(a^x)'' = a^x (\\log a)^2$\n",
    "\n",
    "$$\n",
    "\\log y' = x \\log a + \\log \\log a\\\\\n",
    "\\to x = \\frac{\\log y' - \\log\\log a}{\\log a}\n",
    "$$\n",
    "\n",
    "$$\n",
    "\\frac{dx}{dy} = \\left(\n",
    "    \\frac{\\log y'}{\\log a}\n",
    "    - \\frac{\\log\\log a}{\\log a}\n",
    "\\right)'\n",
    "= \\frac{1}{\\log a} \\frac{1}{y}\n",
    "$$\n",
    "\n",
    "$$\n",
    "\\frac{dy}{dx} = 1 / \\frac{dx}{dy}\\\\\n",
    "= y \\log a\\\\\n",
    "= a^x \\log a \\log a\n",
    "$$\n",
    ":::"
   ]
  },
  {
   "cell_type": "markdown",
   "id": "41d44884-08af-4ec7-9c44-73c772c8d09e",
   "metadata": {},
   "source": [
    "$$\n",
    "f^{(n)}(x) = \\frac{d^n}{dx} a^x\n",
    "= a^x (\\log a)^n\n",
    "$$"
   ]
  },
  {
   "cell_type": "markdown",
   "id": "b0b62e8e-1069-4020-9732-72cba3c763b2",
   "metadata": {},
   "source": [
    "> (3) $y=x^2 e^x$"
   ]
  },
  {
   "cell_type": "markdown",
   "id": "9c54e9d2-932e-405a-8205-4124021b08ae",
   "metadata": {},
   "source": [
    "ライプニッツの公式\n",
    "\n",
    "$$\n",
    "(f g)^{(n)}=\\sum_{k=0}^n{ }_n \\mathrm{C}_k f^{(k)} g^{(n-k)}\n",
    "$$\n",
    "\n",
    "を使って\n",
    "\n",
    "$$\n",
    "\\begin{align}\n",
    "(x^2 e^x)^{(n)}\n",
    "&= \\sum_{k=0}^n { }_n C_k (x^2)^{(k)} (e^x)^{(n-k)}\\\\\n",
    "&= { }_n C_0 (x^2)^{(0)} (e^x)^{(n-0)}\\\\\n",
    "&\\quad+ { }_n C_1 (x^2)^{(1)} (e^x)^{(n-1)}\\\\\n",
    "&\\quad+ { }_n C_2 (x^2)^{(2)} (e^x)^{(n-2)}\\\\\n",
    "&\\quad+ { }_n C_3 (x^3)^{(3)} (e^x)^{(n-3)}\\\\\n",
    "&\\quad+ \\cdots\n",
    "\\\\\n",
    "&= \\frac{n!}{0!(n-0)!}  x^2 e^x\\\\\n",
    "&\\quad + \\frac{n!}{1!(n-1)!}  2x e^x\\\\\n",
    "&\\quad + \\frac{n!}{2!(n-2)!}  2  e^x\\\\\n",
    "&\\quad (\\because x^2 \\text{ の 3階以上の微分は定数の微分になりゼロのため、以降の項は消える})\n",
    "\\\\ \n",
    "&= \\frac{n}{n} x^2 e^x\\\\\n",
    "&\\quad + \\frac{n}{1}  2x e^x\\\\\n",
    "&\\quad + \\frac{n (n-1)}{2}  2 e^x\n",
    "\\\\ \n",
    "&= x^2 e^x + 2nx e^x + n(n-1) e^x\n",
    "\\\\\n",
    "&= e^x \\{ x^2 + 2nx + n(n-1) \\}\n",
    "\\end{align}\n",
    "$$\n",
    ":::"
   ]
  },
  {
   "cell_type": "markdown",
   "id": "8d9793f9-eeb6-4a43-8aae-cbe6d8255e56",
   "metadata": {},
   "source": [
    "## \\[5\\]\n",
    "\n",
    ":::{card}\n",
    "\n",
    "\\[5\\] 助変数表示の微分 $x$ と $y$ が 1 つの変数 $t$ の関数として $x=f(t), y=g(t)$ の形で 与えられているとする. このとき, $y$ は $x$ の関数, または $x$ は $y$ の関数と考えてよく, $t$ を助変数(パラメータ)または媒介変数という. 逆関数の微分法を利用すれば,\n",
    "\n",
    "$$\n",
    "\\frac{d y}{d x}=\\frac{d y}{d t} \\frac{d t}{d x}=\\frac{\\frac{d y}{d t}}{\\frac{d x}{d t}}=\\frac{g^{\\prime}(t)}{f^{\\prime}(t)}\n",
    "$$\n",
    "\n",
    "によって, 導関数を計算できる. これを用いて, 次の関数について, $d y / d x$ を求めよ.\n",
    ":::"
   ]
  },
  {
   "cell_type": "markdown",
   "id": "2681a59e-d7c8-4612-8f37-b5b2385f5af2",
   "metadata": {},
   "source": [
    "> (1) $x=a \\cos t, \\quad y=b \\sin t$\n"
   ]
  },
  {
   "cell_type": "markdown",
   "id": "a93e8897-3851-4392-b388-9611c3830339",
   "metadata": {},
   "source": [
    "$$\n",
    "\\frac{dy}{dt} = b \\cos t\\\\\n",
    "\\frac{dx}{dt} = - a \\sin t\\\\\n",
    "$$\n",
    "\n",
    "なので\n",
    "\n",
    "$$\n",
    "\\frac{d y}{d x} = \\frac{\\frac{d y}{d t}}{\\frac{d x}{d t}}\n",
    "= - \\frac{b \\cos t}{a \\sin t}\n",
    "= - \\frac{b}{a} \\cot t\n",
    "$$\n"
   ]
  },
  {
   "cell_type": "markdown",
   "id": "68333f32-3818-411e-8c97-2560af3cc441",
   "metadata": {},
   "source": [
    "> (2) $\\displaystyle x=\\frac{3 a t}{1+t^3}, \\quad y=\\frac{3 a t^2}{1+t^3}$"
   ]
  },
  {
   "cell_type": "markdown",
   "id": "be69513d-9a23-443d-a562-bec6d5d1ad8c",
   "metadata": {},
   "source": [
    "\n",
    "$$\n",
    "\\frac{dy}{dt}\n",
    "= \\frac{(3 a t^2)' (1+t^3) - (3 a t^2) (1+t^3)'}{ (1+t^3)^2 }\\\\\n",
    "= \\frac{6 a t (1+t^3) - 3 a t^2 \\cdot 3t^2}{ (1+t^3)^2 }\\\\\n",
    "= \\frac{ 6at + 6at^4 - 9at^4}{ (1+t^3)^2 }\\\\\n",
    "= \\frac{ 6at - 3at^4}{ (1+t^3)^2 }\\\\\n",
    "$$\n",
    "\n",
    "$$\n",
    "\\frac{dx}{dt}\n",
    "= \\frac{(3at)' (1+t^3) - 3at (1+t^3)'}{(1+t^3)^2}\\\\\n",
    "= \\frac{3a (1+t^3) - 3at \\cdot 3t^2}{ (1+t^3)^2 }\\\\\n",
    "= \\frac{3a + 3a t^3 - 9at^3}{ (1+t^3)^2 }\\\\\n",
    "= \\frac{3a - 6at^3}{ (1+t^3)^2 }\\\\\n",
    "$$\n",
    "\n",
    "なので\n",
    "\n",
    "$$\n",
    "\\frac{d y}{d x} = \\frac{\\frac{d y}{d t}}{\\frac{d x}{d t}}\n",
    "= \\frac{\n",
    "   \\frac{ 6at - 3at^4 }{ (1+t^3)^2}\n",
    "}{\n",
    "    \\frac{ 3a - 6at^3 }{ (1+t^3)^2 }\n",
    "}\\\\\n",
    "= \\frac{ 6at - 3at^4 }{ (1+t^3)^2}\n",
    "  \\frac{ (1+t^3)^2 }{ 3a - 6at^3 }\\\\\n",
    "= \\frac{ 6at - 3at^4  }{ 3a - 6at^3 }\\\\\n",
    "= \\frac{ 1/3  }{ 1/3 } \\frac{ 6at - 3at^4  }{ 3a - 6at^3 }\\\\\n",
    "= \\frac{ 2at - at^4  }{ a - 2at^3 }\\\\\n",
    "= \\frac{ a (2t - t^4)  }{ a (1 - 2t^3) }\\\\\n",
    "= \\frac{ 2t - t^4  }{ 1 - 2t^3 }\\\\\n",
    "= \\frac{ t(2 - t^3)  }{ 1 - 2t^3 }\\\\\n",
    "$$\n"
   ]
  },
  {
   "cell_type": "markdown",
   "id": "a6629f31-f311-400f-8ee2-51ef26b2d042",
   "metadata": {},
   "source": [
    "## \\[6\\]\n",
    "\n",
    ":::{card}\n",
    "\n",
    "\\[6\\] 双曲線関数\n",
    "\n",
    "$$\n",
    "\\sinh x=\\frac{e^x-e^{-x}}{2}, \\quad \\cosh x=\\frac{e^x+e^{-x}}{2}, \\quad \\tanh x=\\frac{\\sinh x}{\\cosh x}\n",
    "$$\n",
    "\n",
    "に対して，次のことを示せ.\n",
    "\n",
    "(1) $\\frac{d}{d x} \\sinh x=\\cosh x$\n",
    "\n",
    "(2) $\\frac{d}{d x} \\cosh x=\\sinh x$\n",
    "\n",
    "(3) $\\frac{d}{d x} \\tanh x=\\frac{1}{\\cosh ^2 x}$\n",
    "\n",
    ":::"
   ]
  },
  {
   "cell_type": "markdown",
   "id": "082faba1-86b6-45f6-b0d5-b4bfe7fac3a6",
   "metadata": {},
   "source": [
    "> (1) $\\frac{d}{d x} \\sinh x=\\cosh x$\n",
    "\n",
    "合成関数と捉えれば$(e^{-1\\cdot x})' = - e^{-x}$ なので\n",
    "\n",
    "$$\n",
    "\\frac{d}{d x} \\sinh x\n",
    "= \\frac{d}{d x} \\frac{e^x-e^{-x}}{2}\n",
    "= \\frac{e^x+e^{-x}}{2}\n",
    "= \\cosh x\n",
    "$$\n",
    "\n",
    ":::{dropdown} memo\n",
    "\n",
    "$$\n",
    "\\frac{d}{d x} \\sinh x\n",
    "= \\frac{d}{d x} \\left( \\frac{1}{2} e^x - \\frac{1}{2} e^{-x} \\right)\\\\\n",
    "$$\n",
    "\n",
    ":::\n"
   ]
  },
  {
   "cell_type": "markdown",
   "id": "551cd169-f744-4026-af53-843d75ab8249",
   "metadata": {},
   "source": [
    "> (2) $\\frac{d}{d x} \\cosh x=\\sinh x$"
   ]
  },
  {
   "cell_type": "markdown",
   "id": "176e0542-ba48-4762-9159-b38d81b39ce0",
   "metadata": {},
   "source": [
    "合成関数と捉えれば$(e^{-1\\cdot x})' = - e^{-x}$ なので\n",
    "\n",
    "$$\n",
    "\\frac{d}{d x} \\cosh x\n",
    "= \\frac{d}{d x} \\frac{e^x+e^{-x}}{2}\n",
    "= \\frac{e^x-e^{-x}}{2}\n",
    "= \\sinh x\n",
    "$$"
   ]
  },
  {
   "cell_type": "markdown",
   "id": "063c11e1-17bc-4834-9745-82160cac6892",
   "metadata": {},
   "source": [
    "> (3) $\\displaystyle \\frac{d}{d x} \\tanh x=\\frac{1}{\\cosh ^2 x}$\n"
   ]
  },
  {
   "cell_type": "markdown",
   "id": "6329e4de-679d-434b-ab2b-68661eb301e0",
   "metadata": {},
   "source": [
    "$$\n",
    "\\left(\\frac{\\sinh x}{\\cosh x}\\right)'\n",
    "= \\frac{(\\sinh x)' \\cosh x - \\sinh x (\\cosh x)'}{\\cosh^2 x}\\\\\n",
    "= \\frac{\\cosh^2 x - \\sinh^2 x}{\\cosh^2 x}\\\\\n",
    "= \\frac{1}{\\cosh^2 x}\\\\\n",
    "$$"
   ]
  },
  {
   "cell_type": "markdown",
   "id": "e95b3c51-6d05-449a-bef2-5716c26acb25",
   "metadata": {},
   "source": [
    ":::{card} $\\cosh^2 x - \\sinh^2 x = 1$\n",
    "\n",
    "$$\n",
    "\\begin{align}\n",
    "\\cosh^2 x - \\sinh^2 x\n",
    "&= (\\cosh x + \\sinh x)(\\cosh x - \\sinh x)\\\\\n",
    "&= (\\frac{e^x+e^{-x}}{2} + \\frac{e^x-e^{-x}}{2})\n",
    "   (\\frac{e^x+e^{-x}}{2} - \\frac{e^x-e^{-x}}{2})\\\\\n",
    "&= \\frac{e^x+e^{-x} + e^x-e^{-x}}{2}\n",
    "   \\frac{e^x+e^{-x} - e^x+e^{-x}}{2}\\\\\n",
    "&= \\frac{2 e^x}{2}\n",
    "   \\frac{2 e^{-x}}{2}\\\\\n",
    "&= e^x e^{-x}\\\\\n",
    "&= e^{x-x}\\\\\n",
    "&= 1\n",
    "\\end{align}\n",
    "$$\n",
    ":::"
   ]
  },
  {
   "cell_type": "markdown",
   "id": "64f7c87a-7601-4cc6-b831-e1d12ccf66f4",
   "metadata": {},
   "source": [
    "## \\[7\\]\n",
    "\n",
    ":::{card}\n",
    "\\[7\\] 次の関数の極値を求め, そのグラフの概形をかけ.\n",
    "\n",
    "(1) $f(x)=x^4+2 x^3-3 x^2-4 x+4$\n",
    "\n",
    "(2) $f(x)=x e^x$\n",
    "\n",
    "(3) $\\displaystyle f(x)=\\frac{x+4}{\\sqrt{x^2+2 x+3}}$\n",
    ":::"
   ]
  },
  {
   "cell_type": "markdown",
   "id": "541b6403-56a8-4681-a7e5-c5f113fb7c7e",
   "metadata": {},
   "source": [
    "### (1) $f(x)=x^4+2 x^3-3 x^2-4 x+4$"
   ]
  },
  {
   "cell_type": "markdown",
   "id": "b3e4e7f8-ad39-4229-8760-2084228cd9a5",
   "metadata": {},
   "source": [
    "1. 極値\n",
    "\n",
    "$$\n",
    "f'(x) = 4 x^3 + 6 x^2 - 6 x - 4 = 0\n",
    "$$\n",
    "\n",
    "となる$x$を求める。"
   ]
  },
  {
   "cell_type": "markdown",
   "id": "35d7a000-7db5-48c5-85a2-8412523b58d8",
   "metadata": {},
   "source": [
    "まず、因数$(x-a)$の$a$を探索する。\n",
    "\n",
    "因数定理より、$f(a) = 0$となる$a$があれば$(x - a)$が因数になる。\n",
    "\n",
    "$a=1$とすると$f'(1) = 4 + 6 - 6 - 4 = 0$なので$(x-1)$が因数のひとつであることがわかった。\n",
    "\n",
    "次に、組立除法で$(4x^3 + 6x^2 - 6x - 4) / (x-1)$を求める\n",
    "\n",
    "$$\n",
    "\\begin{array}{ccc}\n",
    "4 & 6 & -6 & -4\\\\\n",
    "  & 4 & 10 &  4\\\\\n",
    "\\hline\n",
    "4 & 10& 4  & 0\n",
    "\\end{array}\n",
    "$$\n",
    "\n",
    "より商の$4x^2 + 10x + 4$と余り$0$が得られるので\n",
    "\n",
    "$$\n",
    "f'(x) = (x - 1)(4x^2 + 10x + 4)\n",
    "$$\n",
    "\n",
    "$4x^2 + 10x + 4$は、たすきがけ法などで解くと$(4x + 2)(x+2)$なので\n",
    "\n",
    "$$\n",
    "f'(x) = (x - 1)(4x + 2)(x + 2)\n",
    "$$\n",
    "\n",
    "より、$f'(x)=0$となる$x$は$-2, -1/2, 1$\n",
    "\n",
    "極値のひとつは\n",
    "\n",
    "$$\n",
    "f(-2) = (-2)^4 + 2 (-2)^3 - 3 (-2)^2 - 4 (-2) + 4\\\\\n",
    "= 16 - 16 - 12 + 8 + 4\\\\\n",
    "= 0\n",
    "$$"
   ]
  },
  {
   "cell_type": "markdown",
   "id": "2ff84398-19ab-4676-86bb-a58535047dc9",
   "metadata": {},
   "source": [
    "2. グラフ"
   ]
  },
  {
   "cell_type": "markdown",
   "id": "f00fe850-117d-41e4-affe-79891ee7dfb8",
   "metadata": {},
   "source": [
    "$$\n",
    "\\begin{align}\n",
    "f(-3)\n",
    "&= (-3)^4 + 2 (-3)^3 - 3 (-3)^2 - 4 (-3) + 4\\\\\n",
    "&= 81 - 54 - 27 + 12 + 4\\\\\n",
    "&= 16\\\\\n",
    "\\\\\n",
    "f(-2)\n",
    "&= (-2)^4 + 2 (-2)^3 - 3 (-2)^2 - 4 (-2) + 4\\\\\n",
    "&= 16 - 16 - 12 + 8 + 4\\\\\n",
    "&= 0\\\\\n",
    "\\\\\n",
    "f(-1)\n",
    "&= 1 - 2 - 3 + 4 + 4\\\\\n",
    "&= 4\\\\\n",
    "\\\\\n",
    "f(-1/2)\n",
    "&= (-1/2)^4 + 2 (-1/2)^3 - 3 (-1/2)^2 - 4 (-1/2) + 4\\\\\n",
    "&= \\frac{1}{16} - 2 \\frac{1}{8} - 3 \\frac{1}{4} + 4 \\frac{1}{2} + 4\\\\\n",
    "&= \\frac{1}{16} - \\frac{1}{4} - \\frac{3}{4} + 2 + 4\\\\\n",
    "&= \\frac{1}{16} + 5\\\\\n",
    "\\\\\n",
    "f(0) &= 4\\\\\n",
    "f(1) &= 1 + 2 - 3 - 4 + 4\\\\\n",
    "&= 0\\\\\n",
    "\\end{align}\n",
    "$$\n"
   ]
  },
  {
   "cell_type": "code",
   "execution_count": 11,
   "id": "8f0966d8-f4e1-404f-8b2e-cb1c88e0a663",
   "metadata": {
    "tags": [
     "hide-input"
    ]
   },
   "outputs": [
    {
     "data": {
      "image/png": "[encoded data removed]",
      "text/plain": [
       "<Figure size 400x200 with 1 Axes>"
      ]
     },
     "metadata": {},
     "output_type": "display_data"
    }
   ],
   "source": [
    "def f(x):\n",
    "    return x**4 + 2*x**3 - 3*x**2 - 4*x + 4\n",
    "\n",
    "import numpy as np\n",
    "import matplotlib.pyplot as plt\n",
    "\n",
    "X = [-2, -1, -1/2, 0, 1]\n",
    "fig, ax = plt.subplots(figsize=[4,2])\n",
    "for x in X:\n",
    "    ax.scatter(x, f(x), color=\"steelblue\")\n",
    "    ax.text(x, f(x), f\"{(x, f(x))}\")\n",
    "\n",
    "x = np.linspace(min(X)-0.5, max(X)+0.5, 100)\n",
    "ax.plot(x, f(x), color=\"steelblue\")\n",
    "\n",
    "ax.axvline(0, color=\"gray\", alpha=0.7)\n",
    "ax.axhline(0, color=\"gray\", alpha=0.7)\n",
    "ax.grid(True)\n",
    "fig.show()"
   ]
  },
  {
   "cell_type": "code",
   "execution_count": 65,
   "id": "e80ab4bc-5aab-4eee-933f-deb0f0ea18f4",
   "metadata": {
    "tags": [
     "hide-input"
    ]
   },
   "outputs": [
    {
     "data": {
      "image/png": "[encoded data removed]",
      "text/plain": [
       "<Figure size 400x200 with 1 Axes>"
      ]
     },
     "metadata": {},
     "output_type": "display_data"
    }
   ],
   "source": [
    "import numpy as np\n",
    "import matplotlib.pyplot as plt\n",
    "\n",
    "x = np.linspace(-4, 3, 100)\n",
    "fig, ax = plt.subplots(figsize=[4,2])\n",
    "ax.plot(x, f(x), color=\"steelblue\")\n",
    "ax.axvline(0, color=\"gray\", alpha=0.3)\n",
    "ax.axhline(0, color=\"gray\", alpha=0.3)\n",
    "fig.show()"
   ]
  },
  {
   "cell_type": "markdown",
   "id": "4831a303-7e6a-48ee-8da8-b4ed476a1da6",
   "metadata": {},
   "source": [
    "---"
   ]
  },
  {
   "cell_type": "markdown",
   "id": "a6bb9061-d8c9-44a1-99a1-335aef3885a0",
   "metadata": {},
   "source": [
    "###  (2) $f(x)=x e^x$"
   ]
  },
  {
   "cell_type": "markdown",
   "id": "8f88a869-ef8c-4fd3-8af9-a65bce07756f",
   "metadata": {},
   "source": [
    "1. 極値\n",
    "\n",
    "$$\n",
    "f'(x) = 1 \\cdot e^x + x e^x = x e^x + e^x = 0\\\\\n",
    "\\to x = \\frac{-e^x}{e^x}\n",
    "= -1\n",
    "$$\n",
    "\n",
    "\n",
    "$f'(x)=0$となる$x$は$-1$\n",
    "\n",
    "極値は\n",
    "\n",
    "$$\n",
    "f(-1) = -1 e^{-1} = -\\frac{1}{e} \\approx -\\frac{1}{2.718} \\approx -0.368\n",
    "$$\n"
   ]
  },
  {
   "cell_type": "markdown",
   "id": "521ee21f-9d09-44d9-be37-e25f8bf7df78",
   "metadata": {},
   "source": [
    "2. グラフ\n",
    "\n",
    "$$\n",
    "\\begin{align}\n",
    "f(-2) &= -2e^{-2} = -\\frac{2}{e^2} \\approx -0.27\\\\\n",
    "f(-1) &= -e^{-1} = - \\frac{1}{e} \\approx -0.37\\\\\n",
    "f(0) &= 0\\\\\n",
    "f(1) &= e^{1} = e \\approx 2.72\\\\\n",
    "\\end{align}\n",
    "$$\n"
   ]
  },
  {
   "cell_type": "code",
   "execution_count": 14,
   "id": "8a881aa7-2c11-4f53-bd1b-d0b6eba3b094",
   "metadata": {},
   "outputs": [
    {
     "data": {
      "text/plain": [
       "-0.2706705664732254"
      ]
     },
     "execution_count": 14,
     "metadata": {},
     "output_type": "execute_result"
    }
   ],
   "source": [
    "- 2 / np.exp(2)"
   ]
  },
  {
   "cell_type": "code",
   "execution_count": 15,
   "id": "73b16268-1c34-49fb-bf48-565e130a1f46",
   "metadata": {},
   "outputs": [
    {
     "data": {
      "text/plain": [
       "-0.36787944117144233"
      ]
     },
     "execution_count": 15,
     "metadata": {},
     "output_type": "execute_result"
    }
   ],
   "source": [
    "- 1 / np.exp(1)"
   ]
  },
  {
   "cell_type": "code",
   "execution_count": 17,
   "id": "38e3476b-8fe6-4b8d-9160-b2531d2752b9",
   "metadata": {
    "tags": [
     "hide-input"
    ]
   },
   "outputs": [
    {
     "data": {
      "image/png": "[encoded data removed]",
      "text/plain": [
       "<Figure size 400x200 with 1 Axes>"
      ]
     },
     "metadata": {},
     "output_type": "display_data"
    }
   ],
   "source": [
    "def f(x):\n",
    "    return x * np.exp(x)\n",
    "\n",
    "\n",
    "X = [-2, -1, -1/2, 0, 1]\n",
    "fig, ax = plt.subplots(figsize=[4,2])\n",
    "for x in X:\n",
    "    ax.scatter(x, f(x), color=\"steelblue\")\n",
    "    ax.text(x, f(x), f\"({x:.1f}, {f(x):.1f})\")\n",
    "\n",
    "x = np.linspace(-3, 1, 100)\n",
    "ax.plot(x, f(x), color=\"steelblue\")\n",
    "\n",
    "ax.axvline(0, color=\"gray\", alpha=0.7)\n",
    "ax.axhline(0, color=\"gray\", alpha=0.7)\n",
    "ax.grid(True)\n",
    "fig.show()"
   ]
  },
  {
   "cell_type": "markdown",
   "id": "9e9e4e2a-7df9-472b-8517-9cf290a781d9",
   "metadata": {},
   "source": [
    "---"
   ]
  },
  {
   "cell_type": "markdown",
   "id": "c5dcaa01-5c5e-494b-978f-4f627c32fb8d",
   "metadata": {},
   "source": [
    "###  (3) $f(x)=\\frac{x+4}{\\sqrt{x^2+2 x+3}}$"
   ]
  },
  {
   "cell_type": "markdown",
   "id": "c76a2a2a-0cc0-49ab-90e9-3dd01fae6589",
   "metadata": {},
   "source": [
    "$$\n",
    "f(x)= (x+4) (x^2 + 2x + 3)^{-1/2}\n",
    "$$\n",
    "\n",
    "なので、\n",
    "\n",
    "$$\n",
    "\\begin{align}\n",
    "f'(x)\n",
    "&= (x+4)' (x^2 + 2x + 3)^{-1/2} + (x+4) ((x^2 + 2x + 3)^{-1/2})'\\\\\n",
    "&= (x^2 + 2x + 3)^{-1/2} - \\frac{1}{2} (x+4) (x^2 + 2x + 3)^{-3/2}\\\\\n",
    "\\end{align}\n",
    "$$\n",
    "\n",
    "となり、\n",
    "\n",
    "$$\n",
    "(x^2 + 2x + 3)^{-3/2} = [(x + 1) + 2]^{-3/2} > 0\\\\\n",
    "(\\because [(x + 1) + 2] は x がなんであれ +2 部分により >0 のため)\n",
    "$$\n",
    "\n",
    "のため、"
   ]
  },
  {
   "cell_type": "markdown",
   "id": "8dcd6c27-9346-49ec-ad49-f56107e7318b",
   "metadata": {},
   "source": [
    "わからなかった"
   ]
  },
  {
   "cell_type": "markdown",
   "id": "667c0417-574d-4e53-8dfd-735c63926ce0",
   "metadata": {},
   "source": [
    "略解だと$x=-1/3$"
   ]
  },
  {
   "cell_type": "code",
   "execution_count": 20,
   "id": "e70198d6-c988-4fe3-8ded-2f03da3cddf3",
   "metadata": {},
   "outputs": [
    {
     "data": {
      "text/latex": [
       "$\\displaystyle - 2.0 \\cdot \\left(\\frac{0.25 x}{\\left(x^{2} + 2 x + 3\\right)^{1.5}} + \\frac{1.0}{\\left(x^{2} + 2 x + 3\\right)^{1.5}} - \\frac{0.5}{\\left(x^{2} + 2 x + 3\\right)^{0.5}}\\right)$"
      ],
      "text/plain": [
       "-2.0*(0.25*x/(x**2 + 2*x + 3)**1.5 + 1.0/(x**2 + 2*x + 3)**1.5 - 0.5/(x**2 + 2*x + 3)**0.5)"
      ]
     },
     "execution_count": 20,
     "metadata": {},
     "output_type": "execute_result"
    }
   ],
   "source": [
    "from sympy import symbols, factor\n",
    "x = symbols(\"x\")\n",
    "y = (x**2 + 2*x + 3)**(-1/2) - (1/2) * (x+4) * (x**2 + 2*x + 3)**(-3/2)\n",
    "factor(y)"
   ]
  },
  {
   "cell_type": "code",
   "execution_count": 24,
   "id": "e9897fe8-67c0-4d1d-a1af-dce73ba0bddb",
   "metadata": {
    "tags": [
     "hide-input"
    ]
   },
   "outputs": [
    {
     "data": {
      "image/png": "[encoded data removed]",
      "text/plain": [
       "<Figure size 400x200 with 1 Axes>"
      ]
     },
     "metadata": {},
     "output_type": "display_data"
    }
   ],
   "source": [
    "import numpy as np\n",
    "import matplotlib.pyplot as plt\n",
    "\n",
    "def f(x):\n",
    "    return (x+4)*(x**2 +2*x + 3)**(-1/2)\n",
    "\n",
    "x = np.linspace(-3, 1, 100)\n",
    "fig, ax = plt.subplots(figsize=[4,2])\n",
    "ax.plot(x, f(x), color=\"steelblue\")\n",
    "ax.axvline(0, color=\"gray\", alpha=0.3)\n",
    "ax.axhline(0, color=\"gray\", alpha=0.3)\n",
    "fig.show()"
   ]
  }
 ],
 "metadata": {
  "kernelspec": {
   "display_name": "Python 3 (ipykernel)",
   "language": "python",
   "name": "python3"
  },
  "language_info": {
   "codemirror_mode": {
    "name": "ipython",
    "version": 3
   },
   "file_extension": ".py",
   "mimetype": "text/x-python",
   "name": "python",
   "nbconvert_exporter": "python",
   "pygments_lexer": "ipython3",
   "version": "3.10.13"
  }
 },
 "nbformat": 4,
 "nbformat_minor": 5
}
