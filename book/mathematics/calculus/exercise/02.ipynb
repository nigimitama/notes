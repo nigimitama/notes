{
 "cells": [
  {
   "cell_type": "markdown",
   "id": "66b87dfa-0eb9-453d-b573-10ac57ec3941",
   "metadata": {},
   "source": [
    "# 練習問題メモ 02\n",
    "\n",
    "和達三樹. (2019). 微分積分. 第3章 練習問題"
   ]
  },
  {
   "cell_type": "markdown",
   "id": "ab3c4e30-3957-45b6-ac65-48653bb025bc",
   "metadata": {},
   "source": [
    "## \\[4\\] 次の関数の$n$次導関数を求めよ"
   ]
  },
  {
   "cell_type": "markdown",
   "id": "8ae3e4cb-e37b-4d31-b6b8-6e59650ba237",
   "metadata": {},
   "source": [
    "> (1) $y=\\frac{1}{x}$"
   ]
  },
  {
   "cell_type": "markdown",
   "id": "6b303ed3-6aaf-450a-bbcb-17c2cd3ef70e",
   "metadata": {},
   "source": [
    "$y=x^{-1}$なので\n",
    "\n",
    "$n=1$のとき、$f'(x) = -1 \\cdot  x^{-2}$\n",
    "\n",
    "$n=2$のとき、$f''(x) = -1 \\cdot (-2) \\cdot x^{-3}$\n",
    "\n",
    "$n=3$のとき、$f^{(3)}(x) = 2 \\cdot (-3) x^{-4}$\n",
    "\n",
    "よって一般に\n",
    "\n",
    "$$\n",
    "f^{(n)}(x) = (-1)^{n} n(n-1) x^{-(n+1)}\n",
    "$$\n"
   ]
  },
  {
   "cell_type": "markdown",
   "id": "3fa502b4-c196-40ff-86ad-f92d7e4801b8",
   "metadata": {},
   "source": [
    "> (2) $y=a^x \\quad (a>0)$\n",
    "\n",
    "\n",
    "\n"
   ]
  },
  {
   "cell_type": "markdown",
   "id": "8c514e20-cef1-4337-aa94-677f130e48f7",
   "metadata": {},
   "source": [
    ":::{dropdown} $(a^x)' = a^x \\log a$\n",
    "$$\n",
    "\\log y = x \\log a\\\\\n",
    "\\to x = \\frac{\\log y}{\\log a}\n",
    "$$\n",
    "\n",
    "$$\n",
    "\\frac{dx}{dy} = \\frac{1}{y \\log a}\\\\\n",
    "\\frac{dy}{dx} = 1 / \\frac{dx}{dy}\\\\\n",
    "= y \\log a\\\\\n",
    "= a^x \\log a\n",
    "$$\n",
    ":::"
   ]
  },
  {
   "cell_type": "markdown",
   "id": "db14935f-41f2-4594-adea-c48da4a3dc9e",
   "metadata": {},
   "source": [
    ":::{dropdown} $(a^x)'' = a^x (\\log a)^2$\n",
    "\n",
    "$$\n",
    "\\log y' = x \\log a + \\log \\log a\\\\\n",
    "\\to x = \\frac{\\log y' - \\log\\log a}{\\log a}\n",
    "$$\n",
    "\n",
    "$$\n",
    "\\frac{dx}{dy} = \\left(\n",
    "    \\frac{\\log y'}{\\log a}\n",
    "    - \\frac{\\log\\log a}{\\log a}\n",
    "\\right)'\n",
    "= \\frac{1}{\\log a} \\frac{1}{y}\n",
    "$$\n",
    "\n",
    "$$\n",
    "\\frac{dy}{dx} = 1 / \\frac{dx}{dy}\\\\\n",
    "= y \\log a\\\\\n",
    "= a^x \\log a \\log a\n",
    "$$\n",
    ":::"
   ]
  },
  {
   "cell_type": "code",
   "execution_count": null,
   "id": "62b6b25a-c9ba-4614-97ef-f91586f6911d",
   "metadata": {},
   "outputs": [],
   "source": []
  },
  {
   "cell_type": "markdown",
   "id": "b0b62e8e-1069-4020-9732-72cba3c763b2",
   "metadata": {},
   "source": []
  },
  {
   "cell_type": "markdown",
   "id": "5c81144d-9b25-4269-b3e1-2c4f0455e057",
   "metadata": {},
   "source": []
  }
 ],
 "metadata": {
  "kernelspec": {
   "display_name": "Python 3 (ipykernel)",
   "language": "python",
   "name": "python3"
  },
  "language_info": {
   "codemirror_mode": {
    "name": "ipython",
    "version": 3
   },
   "file_extension": ".py",
   "mimetype": "text/x-python",
   "name": "python",
   "nbconvert_exporter": "python",
   "pygments_lexer": "ipython3",
   "version": "3.10.13"
  }
 },
 "nbformat": 4,
 "nbformat_minor": 5
}
