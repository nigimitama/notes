{
 "cells": [
  {
   "cell_type": "markdown",
   "id": "b52ccbf2-9a62-4a23-9464-e9bd5dc54b4b",
   "metadata": {},
   "source": [
    "# 練習問題メモ 03\n",
    "\n",
    "和達三樹. (2019). 微分積分. 第5章 練習問題"
   ]
  },
  {
   "cell_type": "markdown",
   "id": "6876e155-53d1-47ab-af17-85bdcb4e80d8",
   "metadata": {},
   "source": [
    "## \\[1\\]\n",
    "\n",
    "> \\[1\\] 次の関数は原点 $(0,0)$ を除いて連続である. 原点でも連続にできるか? 直線 $y$ $=m x$ に沿って原点に近づくとして調べよ.\n",
    "\n",
    ":::{card}\n",
    "\n",
    "$$\n",
    "\\text { (1) } \\quad\n",
    "z=\\frac{e^{x^2+y^2}-1}{x^2+y^2}\n",
    "$$\n",
    ":::\n",
    "\n"
   ]
  },
  {
   "cell_type": "markdown",
   "id": "2ec7c907-5409-4134-9546-a16122203317",
   "metadata": {},
   "source": []
  },
  {
   "cell_type": "markdown",
   "id": "801a06ec-0577-4717-a9ee-734bc6670e2f",
   "metadata": {},
   "source": [
    ":::{card}\n",
    "$$\n",
    "\\text { (2) } \\quad\n",
    "z=\\frac{x^2 y^2}{x^4+y^4}\n",
    "$$\n",
    ":::"
   ]
  },
  {
   "cell_type": "markdown",
   "id": "97e54892-d75f-4da7-96ff-da4ce419a70b",
   "metadata": {},
   "source": [
    "$$\n",
    "\\lim_{x\\to 0} z\n",
    "= \\lim_{x\\to 0} \\frac{x^4 m^2}{x^4 + m^4 x^4}\n",
    "= \\lim_{x\\to 0} \\frac{m^2}{1 + m^4}\n",
    "= \\frac{m^2}{1 + m^4}\n",
    "$$\n",
    "\n",
    "$m$の値によって異なる値をとるため、原点への近づけ方によって異なる値になってしまう。よって極限は存在せず、連続にできない。"
   ]
  },
  {
   "cell_type": "code",
   "execution_count": null,
   "id": "17b63aa5-07ca-4cc5-9077-4e15ec55b8e9",
   "metadata": {},
   "outputs": [],
   "source": []
  }
 ],
 "metadata": {
  "kernelspec": {
   "display_name": "Python 3 (ipykernel)",
   "language": "python",
   "name": "python3"
  },
  "language_info": {
   "codemirror_mode": {
    "name": "ipython",
    "version": 3
   },
   "file_extension": ".py",
   "mimetype": "text/x-python",
   "name": "python",
   "nbconvert_exporter": "python",
   "pygments_lexer": "ipython3",
   "version": "3.10.14"
  }
 },
 "nbformat": 4,
 "nbformat_minor": 5
}
