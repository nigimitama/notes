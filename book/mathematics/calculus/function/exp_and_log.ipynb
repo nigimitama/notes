{
 "cells": [
  {
   "cell_type": "markdown",
   "id": "5b26ed02-d945-49d7-b40b-03611ed42641",
   "metadata": {},
   "source": [
    "# 指数関数と対数関数"
   ]
  },
  {
   "cell_type": "markdown",
   "id": "3df1187b-17c3-4d9d-a9e5-a9ec39500991",
   "metadata": {},
   "source": [
    "## 指数関数"
   ]
  },
  {
   "cell_type": "markdown",
   "id": "ae214bf4-b690-402e-85f9-348cd0950baf",
   "metadata": {},
   "source": [
    ":::{admonition} （定義）指数関数\n",
    "\n",
    "$a$をある定数として、\n",
    "\n",
    "$$\n",
    "y = a^x\n",
    "$$\n",
    "\n",
    "を、$a$を **底** とする **指数関数**（exponential function）という。\n",
    ":::"
   ]
  },
  {
   "cell_type": "markdown",
   "id": "82770205-0ed8-463e-be94-ac3d29b1e37a",
   "metadata": {},
   "source": [
    "### ネイピア数\n",
    "\n",
    "以下で定義される定数$e$をネイピア数という\n",
    "\n",
    "$$\n",
    "\\lim _{n \\rightarrow \\infty}\\left(1+\\frac{1}{n}\\right)^n=e=2.7182818 \\cdots\n",
    "$$\n",
    "\n"
   ]
  },
  {
   "cell_type": "markdown",
   "id": "059451fb-0101-4c64-ba16-bf8ae3a3d855",
   "metadata": {},
   "source": [
    ":::{admonition} （定義）自然指数関数\n",
    "\n",
    "$e$を底とする指数関数\n",
    "\n",
    "$$\n",
    "y = e^x\n",
    "$$\n",
    "\n",
    "を **指数関数**（the exponential function）あるいは明示的に **自然指数関数**という。\n",
    ":::\n",
    "\n",
    "（英語だとtheがつくかどうかで底の違いを表現する。日本語だとややこしいが、標準的な指数関数は$e$を底とする指数関数である）"
   ]
  },
  {
   "cell_type": "markdown",
   "id": "e11d4b73-284c-4fd4-a39c-a29d70aafc68",
   "metadata": {},
   "source": [
    ":::{admonition} （定義）自然指数関数\n",
    "\n",
    "指数関数にはいくつかの定義があり、オイラーによって最初に定義されたものは以下のものになる\n",
    "\n",
    "$$\n",
    "\\exp (x)=\\lim _{n \\rightarrow \\infty}\\left(1+\\frac{x}{n}\\right)^n\n",
    "$$\n",
    ":::\n"
   ]
  },
  {
   "cell_type": "code",
   "execution_count": 26,
   "id": "7dd2a061-cd0e-4176-a35b-9203d1a3e9a9",
   "metadata": {
    "tags": [
     "hide-input"
    ]
   },
   "outputs": [
    {
     "data": {
      "image/png": "[encoded data removed]",
      "text/plain": [
       "<Figure size 400x200 with 1 Axes>"
      ]
     },
     "metadata": {},
     "output_type": "display_data"
    }
   ],
   "source": [
    "import numpy as np\n",
    "import matplotlib.pyplot as plt\n",
    "\n",
    "x = np.linspace(-1, 2.5, 100)\n",
    "y = np.array([np.exp(xi) for xi in x])\n",
    "\n",
    "fig, ax = plt.subplots(figsize=[4, 2])\n",
    "ax.plot(x, y, label=r\"$\\exp(x)$\")\n",
    "ax.set(xlabel=\"x\", ylabel=\"y\")\n",
    "ax.axhline(color=\"gray\")\n",
    "ax.axvline(color=\"gray\")\n",
    "ax.legend()\n",
    "fig.show()"
   ]
  },
  {
   "cell_type": "markdown",
   "id": "29a43f2d-bc1f-456a-aa43-30e840d24202",
   "metadata": {},
   "source": [
    "### 指数関数の基本的性質（指数法則）\n",
    "\n",
    "$$\n",
    "\\begin{align}\n",
    "a^x a^y &= a^{x+y}\n",
    "\\\\\n",
    "\\left(a^x\\right)^y &= a^{x y}\n",
    "\\\\\n",
    "\\frac{a^x}{a^y} &= a^{x-y}\n",
    "\\\\\n",
    "\\left(\\frac{a}{b}\\right)^x &= \\frac{a^x}{b^x}\n",
    "\\end{align}\n",
    "$$\n"
   ]
  },
  {
   "cell_type": "markdown",
   "id": "2c220fe4-97e4-40f1-9f61-0a9ecfd53172",
   "metadata": {},
   "source": [
    "## 対数関数\n",
    "\n",
    "指数関数の逆関数を **対数関数** （logarithmic function）という。\n",
    "\n",
    "$a^y = x$のとき、「$y$は$a$を **底** とする $x$ の対数」といい\n",
    "\n",
    "$$\n",
    "y = \\log_{a} x\n",
    "$$\n",
    "\n",
    "と表す。"
   ]
  },
  {
   "cell_type": "markdown",
   "id": "ce707464-40f8-4a97-80e8-d3d41622a0c9",
   "metadata": {},
   "source": [
    ":::{admonition} （定義）対数\n",
    "$a > 0, a \\neq 1, M > 0$について\n",
    "\n",
    "$$\n",
    "a^m = M\n",
    "\\Longleftrightarrow\n",
    "m = \\log_a M\n",
    "$$\n",
    ":::"
   ]
  },
  {
   "cell_type": "code",
   "execution_count": 28,
   "id": "f2262486-b0e4-458c-80e2-818b00b9fe58",
   "metadata": {
    "tags": [
     "hide-input"
    ]
   },
   "outputs": [
    {
     "data": {
      "image/png": "[encoded data removed]",
      "text/plain": [
       "<Figure size 400x200 with 1 Axes>"
      ]
     },
     "metadata": {},
     "output_type": "display_data"
    }
   ],
   "source": [
    "import numpy as np\n",
    "import matplotlib.pyplot as plt\n",
    "\n",
    "x = np.linspace(0.1, 5, 100)\n",
    "y = np.array([np.log(xi) for xi in x])\n",
    "\n",
    "fig, ax = plt.subplots(figsize=[4, 2])\n",
    "ax.axhline(color=\"gray\")\n",
    "ax.axvline(color=\"gray\")\n",
    "ax.plot(x, y, label=r\"$\\log(x)$\")\n",
    "ax.set(xlabel=\"x\", ylabel=\"y\")\n",
    "ax.legend()\n",
    "fig.show()"
   ]
  },
  {
   "cell_type": "markdown",
   "id": "4f9663f1-2e03-4d06-a80d-fd39e77571d3",
   "metadata": {},
   "source": [
    "### 対数関数の性質\n",
    "\n",
    "$a > 0, a \\neq 1, b > 0, M > 0, N > 0$に対して\n",
    "\n",
    "$$\n",
    "\\begin{align}\n",
    "\\log_a 1 &= 0\\\\\n",
    "\\log_a a &= 1\\\\\n",
    "\\log_a \\frac{x}{y} &= \\log_a x - \\log_a y\\\\\n",
    "\\log_a xy &= \\log_a x + \\log_a y\\\\\n",
    "\\log_a x^y &= y \\log_a x\\\\\n",
    "\\log_b x &= \\frac{\\log_a x}{\\log_a b}\\\\\n",
    "\\end{align}\n",
    "$$"
   ]
  },
  {
   "cell_type": "markdown",
   "id": "707aa5f4-1ec6-4fce-a040-ff6660645c13",
   "metadata": {},
   "source": [
    ":::{card} 例：$a^x$\n",
    "\n",
    "底が$a$の対数を取る場合\n",
    "\n",
    "$$\n",
    "\\log_a (a^x) = x\n",
    "$$\n",
    "\n",
    "\n",
    "自然対数を使う場合\n",
    "\n",
    "$$\n",
    "\\ln (a^x) =\n",
    "x \\ln(a) \\quad (\\because \\log x^y = y \\log x の性質より)\n",
    "$$\n",
    "\n",
    ":::"
   ]
  },
  {
   "cell_type": "markdown",
   "id": "f63f3035-2dde-4dcf-b29d-7a135e95d3dd",
   "metadata": {},
   "source": [
    ":::{card}\n",
    "**例：元本が2倍になる年数は？**\n",
    "\n",
    "年率5%の利益が複利で運用できるとして、元本が2倍になるには何年かかる？\n",
    "\n",
    "利率$r$で$n$年間複利運用したときの利益率$\\pi$は\n",
    "\n",
    "$$\n",
    "(1 + r)^n = \\pi\n",
    "$$\n",
    "\n",
    "$r=0.05$とすると、$\\pi=2$になるのは\n",
    "\n",
    "$$\n",
    "(1.05)^n = 2\n",
    "$$\n",
    "\n",
    "両辺の対数をとると\n",
    "\n",
    "$$\n",
    "\\log_{10} (1.05)^n = \\log_{10} 2\n",
    "\\\\\n",
    "\\to n \\log_{10} 1.05 = \\log_{10} 2\n",
    "\\\\\n",
    "\\to n = \\frac{ \\log_{10} 2 }{ \\log_{10} 1.05 } \\approx 14.2\n",
    "$$\n",
    "\n",
    "なので約14年かかることになる。\n",
    ":::"
   ]
  },
  {
   "cell_type": "code",
   "execution_count": 4,
   "id": "9e836836-14fe-4897-abca-c9b209037dfd",
   "metadata": {},
   "outputs": [
    {
     "data": {
      "text/plain": [
       "14.206699082890461"
      ]
     },
     "execution_count": 4,
     "metadata": {},
     "output_type": "execute_result"
    }
   ],
   "source": [
    "import numpy as np\n",
    "np.log10(2) / np.log10(1.05)"
   ]
  }
 ],
 "metadata": {
  "kernelspec": {
   "display_name": "Python 3 (ipykernel)",
   "language": "python",
   "name": "python3"
  },
  "language_info": {
   "codemirror_mode": {
    "name": "ipython",
    "version": 3
   },
   "file_extension": ".py",
   "mimetype": "text/x-python",
   "name": "python",
   "nbconvert_exporter": "python",
   "pygments_lexer": "ipython3",
   "version": "3.10.13"
  }
 },
 "nbformat": 4,
 "nbformat_minor": 5
}
