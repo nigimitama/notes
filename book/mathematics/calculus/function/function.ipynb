{
 "cells": [
  {
   "cell_type": "markdown",
   "id": "5ff963a7-eab2-489d-a3e9-2cbedd6df800",
   "metadata": {},
   "source": [
    "# 関数"
   ]
  },
  {
   "cell_type": "markdown",
   "id": "2be0a2be-dddf-4a76-8693-d3b785cf70cf",
   "metadata": {},
   "source": [
    "## 関数\n",
    "\n",
    "2つの集合の間に対応する規則があるとき、その規則を **関数（function）** と呼ぶ。\n",
    "\n",
    "\n",
    "変数$x$の値が定まると変数$y$の値が定まるとき、$y$は$x$の関数であるといい、\n",
    "\n",
    "$$\n",
    "y = f(x)\n",
    "$$\n",
    "\n",
    "と書く。この$x$を **独立変数** 、$y$を **従属変数** という。また独立変数$x$のとりうる範囲を **変域** あるいは **定義域** という。\n",
    "\n",
    "関数のとりうる範囲を **値域** という。\n",
    "\n",
    "$x$のある値に対して1つの$y$が対応するなら、この関数は **1価** であるといい、いくつかの$y$の値が対応するなら **多価** であるという。"
   ]
  },
  {
   "cell_type": "markdown",
   "id": "3e25c721-605a-490c-b6c4-15f86a949bdd",
   "metadata": {},
   "source": [
    "### 逆関数\n",
    "\n",
    "$y = f(x)$に対し、$x = g(y)$は$f(x)$の **逆関数**（inverse function）とよばれ、$y=f^{-1}(x)$と書く。\n",
    "\n",
    "例：$f(x)=ax+b$（$a\\neq 0$）の逆関数$f^{-1}(x)$は、$y=ax+b$より$x=(y-b)/a$なので、$f^{-1}(x)=(x-b)/a$"
   ]
  },
  {
   "cell_type": "code",
   "execution_count": 10,
   "id": "7dd2a061-cd0e-4176-a35b-9203d1a3e9a9",
   "metadata": {},
   "outputs": [
    {
     "data": {
      "image/png": "[encoded data removed]",
      "text/plain": [
       "<Figure size 400x200 with 1 Axes>"
      ]
     },
     "metadata": {},
     "output_type": "display_data"
    }
   ],
   "source": [
    "import numpy as np\n",
    "import matplotlib.pyplot as plt\n",
    "\n",
    "a = 1.5\n",
    "b = 2\n",
    "\n",
    "def f(x):\n",
    "    return a * x + b\n",
    "\n",
    "def f_inv(x):\n",
    "    return (x - b) / a\n",
    "\n",
    "x = np.linspace(0, 1, 10)\n",
    "y = np.array([f(xi) for xi in x])\n",
    "\n",
    "fig, ax = plt.subplots(figsize=[4, 2])\n",
    "ax.plot(x, y, label=r\"$f(x)$\")\n",
    "ax.plot(np.array([f_inv(xi) for xi in y]), y, label=r\"$f^{-1}(x)$\")\n",
    "ax.legend()\n",
    "fig.show()"
   ]
  }
 ],
 "metadata": {
  "kernelspec": {
   "display_name": "Python 3 (ipykernel)",
   "language": "python",
   "name": "python3"
  },
  "language_info": {
   "codemirror_mode": {
    "name": "ipython",
    "version": 3
   },
   "file_extension": ".py",
   "mimetype": "text/x-python",
   "name": "python",
   "nbconvert_exporter": "python",
   "pygments_lexer": "ipython3",
   "version": "3.9.18"
  }
 },
 "nbformat": 4,
 "nbformat_minor": 5
}
