{
 "cells": [
  {
   "cell_type": "markdown",
   "id": "5ce42725-af85-4578-9636-92296b42f4d8",
   "metadata": {},
   "source": [
    "# 極限"
   ]
  },
  {
   "cell_type": "markdown",
   "id": "e65a9e3c-a15d-4724-afb0-2ffe93e9d295",
   "metadata": {
    "tags": []
   },
   "source": [
    "## 関数の極限\n",
    "\n",
    "関数$y=f(x)$において、変数$x$が一定な数$a$に限りなく近づいていくとき、それにつれて関数$f(x)$の値が一定な値$b$に限りなく近づくとする。\n",
    "\n",
    "このことを\n",
    "\n",
    "> $x$が$a$に限りなく近づくとき、関数$f(x)$には極限が存在して、その **極限値** は$b$である\n",
    "\n",
    "あるいは\n",
    "\n",
    "> 関数$f(x)$は$b$に **収束** する\n",
    "\n",
    "という。そして\n",
    "\n",
    "$$\n",
    "\\lim _{x \\rightarrow a} f(x)=b \\quad \\text { または } \\quad f(x) \\rightarrow b \\quad(x \\rightarrow a)\n",
    "$$\n",
    "\n",
    "と表す。"
   ]
  },
  {
   "cell_type": "markdown",
   "id": "5a2a15ca-0e94-4268-bf3e-251317b4e592",
   "metadata": {},
   "source": [
    ":::{card}\n",
    "例：関数$f(x)=x^2$において、変数$x$が2に限りなく近づくとき、$f(x)$の値は4に限りなく近づく\n",
    "\n",
    "変数$x$が数列\n",
    "\n",
    "$$\n",
    "2.1,2.01,2.001, \\cdots, 2+\\left(\\frac{1}{10}\\right)^n, \\cdots\n",
    "$$\n",
    "\n",
    "の値を取り2に近づいていくとき、関数$f(x)=x^2$の値は\n",
    "\n",
    "$$\n",
    "4.41,4.0401,4.004001, \\cdots, 4+4\\left(\\frac{1}{10}\\right)^n+\\left(\\frac{1}{10}\\right)^{2 n}, \\cdots\n",
    "$$\n",
    ":::"
   ]
  },
  {
   "cell_type": "markdown",
   "id": "b3c8b87b-9f4a-4091-b804-fe19eee4b699",
   "metadata": {},
   "source": [
    ":::{admonition} **関数の極限の性質**\n",
    "\n",
    "関数の極限について、次のことが成り立つ\n",
    "\n",
    "I. $f(x)=C(C$ : 定数 $)$ ならば,\n",
    "$$\n",
    "\\displaystyle \\lim _{x \\rightarrow a} f(x)=C\n",
    "$$\n",
    "\n",
    "II. $\\displaystyle \\lim _{x \\rightarrow a} f(x)=A, \\lim _{x \\rightarrow a} g(x)=B$ ならば,\n",
    "\n",
    "1. $\\displaystyle \\lim _{x \\rightarrow a} k f(x)=k A \\quad(k$ : 定数)\n",
    "2. $\\displaystyle \\lim _{x \\rightarrow a}\\{f(x) \\pm g(x)\\}=\\lim _{x \\rightarrow a} f(x) \\pm \\lim _{x \\rightarrow a} g(x)=A \\pm B$\n",
    "3. $\\displaystyle \\lim _{x \\rightarrow a}\\{f(x) \\cdot g(x)\\}=\\lim _{x \\rightarrow a} f(x) \\cdot \\lim _{x \\rightarrow a} g(x)=A \\cdot B$\n",
    "4. $\\displaystyle \\lim _{x \\rightarrow a} \\frac{f(x)}{g(x)}=\\frac{\\lim _{x \\rightarrow a} f(x)}{\\lim _{x \\rightarrow a} g(x)}=\\frac{A}{B} \\quad(B \\neq 0)$\n",
    ":::"
   ]
  },
  {
   "cell_type": "markdown",
   "id": "2cbb6203-d631-42a9-9430-a2c0ccb08f65",
   "metadata": {},
   "source": [
    "### 右極限、左極限\n",
    "\n",
    ":::{admonition} 右極限、左極限\n",
    "変数$x$が右から$a$に近づくとき$x\\to a+0$、左から$a$に近づくとき$x\\to a-0$と書き、それぞれの極限値を\n",
    "\n",
    "$$\n",
    "\\lim _{x \\rightarrow a+0} f(x), \\quad \\lim _{x \\rightarrow a-0} f(x)\n",
    "$$\n",
    "\n",
    "と表す。\n",
    "\n",
    "とくに$a=0$のときは$x\\to +0$、$x\\to -0$と書く。\n",
    ":::"
   ]
  },
  {
   "cell_type": "markdown",
   "id": "129d2712-3f0b-4ac4-b33b-d3f6ba16b63f",
   "metadata": {},
   "source": [
    "例：\n",
    "\n",
    "$$\n",
    "\\lim _{x \\rightarrow+0} \\frac{|x|}{x}=1, \\quad \\lim _{x \\rightarrow-0} \\frac{|x|}{x}=-1\n",
    "$$\n",
    "\n",
    "絶対値の定義\n",
    "\n",
    "$$\n",
    "|a| =\n",
    "\\begin{cases}\n",
    "a & (a > 0)\\\\\n",
    "-a & (a < 0)\n",
    "\\end{cases}\n",
    "$$\n",
    "\n",
    "より、$x > 0$ならば$\\frac{|x|}{x} = \\frac{x}{x} = 1$\n",
    "$x < 0$ならば$\\frac{|x|}{x} = \\frac{-x}{x} = -1$\n",
    "となるため。\n",
    "\n",
    "この例では、関数$f(x) = |x|/x$は$x=0$では定義されていないことがわかる。ここからわかるように、<b>$\\lim_{x\\to a} f(x) = b$は$x=a$のとき$f(a)=b$であることを主張しているわけではない。</b>"
   ]
  },
  {
   "cell_type": "markdown",
   "id": "f438a61f-f7c1-4bb1-ab96-ba6ca3a4bad6",
   "metadata": {},
   "source": [
    ":::{admonition} 正の無限大と負の無限大\n",
    "\n",
    "変数 $x$ の値が正で限りなく大きくなるとき **正の無限大** になるといい、 $x \\rightarrow+\\infty$ (または単に $x \\rightarrow \\infty$ ) と表わす。\n",
    "\n",
    "変数 $x$ が負でその絶対値が限りなく大きくなるとき **負の無限大** になるといい $x \\rightarrow-\\infty$ で表わす.\n",
    "\n",
    "変数$x$が一定な値$a$に限りなく近づくとき、関数$f(x)$の値が正で限りなく大きくなっていくならば$x$が$a$に近づいたときの関数$f(x)$の極限は **正の無限大** であるといい、\n",
    "\n",
    "$$\n",
    "\\lim_{x\\to a} f(x) = +  \\infty\n",
    "$$\n",
    "\n",
    "で表す。極限が **負の無限大** になるなら\n",
    "\n",
    "$$\n",
    "\\lim_{x\\to a} f(x) = -\\infty\n",
    "$$\n",
    "\n",
    "で表す。\n",
    ":::"
   ]
  },
  {
   "cell_type": "markdown",
   "id": "ee98ab98-e750-41eb-8958-18d2b1393a4b",
   "metadata": {},
   "source": [
    "例：\n",
    "\n",
    "$$\n",
    "\\lim _{x \\rightarrow +\\infty} \\frac{1}{x} = 0, \\quad\n",
    "\\lim _{x \\rightarrow -\\infty} \\frac{1}{x} = 0\n",
    "$$\n",
    "\n",
    "変数$x$が$-1, -2, \\cdots, -n, \\cdots$と絶対値が無限大に近づく場合、$f(x)=1/x$は$-1, -1/2, \\cdots, -1/n, \\cdots$と0に近づくため。"
   ]
  },
  {
   "cell_type": "markdown",
   "id": "c03badae-70cc-403f-9280-47ad16409f06",
   "metadata": {},
   "source": [
    "### $\\varepsilon - \\delta$論法\n",
    "\n",
    "関数の極限\n",
    "\n",
    "$$\n",
    "\\lim _{x \\rightarrow a} f(x)=b\n",
    "$$\n",
    "\n",
    "が存在するためには$f(x)\\to b$を$x\\to a$で保証できればよいため、$x\\to a$で$|f(x) - b| < \\varepsilon$になることを保証できれば、関数の極限が存在することになる\n",
    "\n",
    "よって、関数の極限についてのより厳密な定義は次のようになる\n",
    "\n",
    ":::{admonition} 定義\n",
    "\n",
    "任意の正の数 $\\varepsilon$ に対して、$0<|x-a|<\\delta$ ならば $|f(x)-b|<\\varepsilon$ になるような $\\delta$ が存在する\n",
    ":::"
   ]
  },
  {
   "cell_type": "markdown",
   "id": "91fe5096-01c6-4e10-815c-10e069c925b7",
   "metadata": {},
   "source": [
    ":::{card}\n",
    "例：\n",
    "\n",
    "$$\n",
    "\\lim _{x \\rightarrow 2} x^2=4\n",
    "$$\n",
    "\n",
    "を証明せよ。\n",
    "\n",
    "解：\n",
    "\n",
    "任意の正の数 $\\varepsilon$ に対して $0<|x-2|<\\delta$ ならば $\\left|x^2-4\\right|<\\varepsilon$ となるような $\\delta$ を見つけなければならない。\n",
    "\n",
    "$0<|x-2|<\\delta$ ならば\n",
    "\n",
    "$$\n",
    "\\begin{aligned}\n",
    "\\left|x^2-4\\right| & =|(x+2)(x-2)|=|(x-2)+4| \\cdot|x-2| \\\\\n",
    "& \\leqq|x-2|^2+4|x-2|<\\delta^2+4 \\delta\n",
    "\\end{aligned}\n",
    "$$\n",
    "\n",
    "よって$\\delta$ として, 1 か $\\varepsilon / 5$ の小さい方をとれば\n",
    "\n",
    "- $\\varepsilon \\geqq 5$ ならば $\\delta=1$ で, $\\left|x^2-4\\right|<\\delta^2+4 \\delta=5 \\leqq \\varepsilon$\n",
    "- $\\varepsilon \\leqq 5$ ならば $\\delta=\\varepsilon / 5$ で, $\\left|x^2-4\\right|<\\delta^2+4 \\delta<5 \\delta=\\varepsilon$\n",
    "\n",
    "すなわち$|x^2 - 4| < \\varepsilon$となる。したがって$\\lim_{x\\to2} x^2 = 4$\n",
    "\n",
    "実際に数値を入れて確かめるとする。\n",
    "\n",
    "$|x^2 - 4| < 0.1$とするには、$\\delta = \\varepsilon / 5 = 0.1 / 5 = 0.02$\n",
    "\n",
    "$0<|x-2|<0.02$より、$1.98 < x < 2.02$だから、$3.9204<x^2<4.0804$のため$-0.0796 < x^2 - 4 < 0.0804$であり$|x^2 - 4|<0.1$が成り立っている\n",
    ":::"
   ]
  },
  {
   "cell_type": "markdown",
   "id": "f1b5839a-5c19-432f-a34c-c353b0da8cff",
   "metadata": {},
   "source": []
  },
  {
   "cell_type": "code",
   "execution_count": null,
   "id": "0613facc-8ddd-49b6-bcc4-55fc000c3e89",
   "metadata": {},
   "outputs": [],
   "source": []
  }
 ],
 "metadata": {
  "kernelspec": {
   "display_name": "Python 3 (ipykernel)",
   "language": "python",
   "name": "python3"
  },
  "language_info": {
   "codemirror_mode": {
    "name": "ipython",
    "version": 3
   },
   "file_extension": ".py",
   "mimetype": "text/x-python",
   "name": "python",
   "nbconvert_exporter": "python",
   "pygments_lexer": "ipython3",
   "version": "3.9.18"
  }
 },
 "nbformat": 4,
 "nbformat_minor": 5
}
