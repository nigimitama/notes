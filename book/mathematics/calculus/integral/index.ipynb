{
 "cells": [
  {
   "cell_type": "markdown",
   "id": "10d52362-8ae7-40fd-be27-4f01d1969b4f",
   "metadata": {},
   "source": [
    "# 積分法\n",
    "\n",
    "積分法（integral calculus）\n",
    "\n",
    "- 定積分：数を与える\n",
    "- 不定積分：関数を与える・微分の逆演算\n"
   ]
  },
  {
   "cell_type": "markdown",
   "id": "2fe3c0e8-a3ca-43b1-b5dc-b29faa48eb9a",
   "metadata": {},
   "source": [
    "## 目次\n",
    "\n",
    ":::{tableofcontents}\n",
    ":::"
   ]
  }
 ],
 "metadata": {
  "kernelspec": {
   "display_name": "Python 3 (ipykernel)",
   "language": "python",
   "name": "python3"
  },
  "language_info": {
   "codemirror_mode": {
    "name": "ipython",
    "version": 3
   },
   "file_extension": ".py",
   "mimetype": "text/x-python",
   "name": "python",
   "nbconvert_exporter": "python",
   "pygments_lexer": "ipython3",
   "version": "3.10.13"
  }
 },
 "nbformat": 4,
 "nbformat_minor": 5
}
