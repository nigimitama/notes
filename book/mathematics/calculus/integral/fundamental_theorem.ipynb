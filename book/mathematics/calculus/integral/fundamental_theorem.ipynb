{
 "cells": [
  {
   "cell_type": "markdown",
   "id": "882105af-3821-4f54-8eeb-ba69369f9086",
   "metadata": {},
   "source": [
    "# 微積分学の基本定理\n",
    "\n",
    ":::{admonition} 微積分学の基本定理\n",
    "\n",
    "関数$f(x)$が閉区間$a \\leq x \\leq b$で連続であれば、関数\n",
    "\n",
    "$$\n",
    "F(x)=\\int_a^x f(t) d t\n",
    "$$\n",
    "\n",
    "は開区間$a < x < b$で微分可能であって\n",
    "\n",
    "$$\n",
    "F'(x) = f(x)\n",
    "$$\n",
    ":::"
   ]
  },
  {
   "cell_type": "markdown",
   "id": "82486bc4-451e-4c98-982c-dff810ad11f9",
   "metadata": {},
   "source": [
    "関数 $f(x)$ の $a$ から $b$ までの定積分 $\\int_a^b f(x) d x$ は、 $a$を固定すると上限 $b$ が決まればその値が定まるから、$b$の関数とみなすことができる。$b$を改めて$x$と表し、関数\n",
    "\n",
    "$$\n",
    "F(x)=\\int_a^x f(t) d t\n",
    "$$\n",
    "\n",
    "を定義する。\n",
    "\n",
    "定積分の性質より、\n",
    "\n",
    "$$\n",
    "\\begin{aligned}\n",
    "F(x+\\Delta x) & =\\int_a^{x+\\Delta x} f(t) d t \\\\\n",
    "& =\\int_a^x f(t) d t+\\int_x^{x+\\Delta x} f(t) d t \\\\\n",
    "& =F(x)+\\int_x^{x+\\Delta x} f(t) d t\n",
    "\\end{aligned}\n",
    "$$\n",
    "\n",
    "平均値の定理を使って、\n",
    "\n",
    "$$\n",
    "\\begin{aligned}\n",
    "\\int_x^{x+\\Delta x} f(t) d t & =(x+\\Delta x-x) f(x+\\theta \\Delta x) \\\\\n",
    "& =\\Delta x \\cdot f(x+\\theta \\Delta x) \\quad(0<\\theta<1)\n",
    "\\end{aligned}\n",
    "$$\n",
    "\n",
    "なので、上の2つの式から\n",
    "\n",
    "$$\n",
    "\\frac{F(x+\\Delta x)-F(x)}{\\Delta x}=f(x+\\theta \\Delta x) \\quad(0<\\theta<1)\n",
    "$$\n",
    "\n",
    "関数$f(x)$は連続だから、$\\Delta x \\to 0$のとき、$f(x+\\theta \\Delta x) \\to f(x)$。また左辺は$\\Delta x \\to 0$のとき$F'(x)$に等しいから、\n",
    "\n",
    "$$\n",
    "F'(x) = f(x)\n",
    "$$\n",
    "\n",
    "が得られる。これを **微積分学の基本定理**（fundamental theorem of differential and integral calculus）という。"
   ]
  },
  {
   "cell_type": "markdown",
   "id": "a4229127-5a08-4841-b23f-651c5e704874",
   "metadata": {},
   "source": [
    "## 定積分"
   ]
  },
  {
   "cell_type": "code",
   "execution_count": null,
   "id": "f8bea3eb-67cb-446c-8597-1d8d2a5be4ce",
   "metadata": {},
   "outputs": [],
   "source": []
  }
 ],
 "metadata": {
  "kernelspec": {
   "display_name": "Python 3 (ipykernel)",
   "language": "python",
   "name": "python3"
  },
  "language_info": {
   "codemirror_mode": {
    "name": "ipython",
    "version": 3
   },
   "file_extension": ".py",
   "mimetype": "text/x-python",
   "name": "python",
   "nbconvert_exporter": "python",
   "pygments_lexer": "ipython3",
   "version": "3.10.13"
  }
 },
 "nbformat": 4,
 "nbformat_minor": 5
}
