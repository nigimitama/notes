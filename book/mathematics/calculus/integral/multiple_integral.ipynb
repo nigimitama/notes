{
 "cells": [
  {
   "cell_type": "markdown",
   "id": "c2f7f370-59c7-4964-abbb-0d1f7256a6a9",
   "metadata": {},
   "source": [
    "# 多重積分"
   ]
  },
  {
   "cell_type": "markdown",
   "id": "295ad26f-34ee-4ba3-be13-6b5a684912a0",
   "metadata": {},
   "source": [
    "## 2変数の定積分\n",
    "\n",
    "$x y$ 平面の領域 $R$ で定義された連続な関数を $f(x, y)$ とする。 領域 $R$ を，おのおのの面積が $\\Delta A_1, \\Delta A_2, \\cdots, \\Delta A_n$ の $n$ 個の小領域 $R_1, R_2, \\cdots, R_n$ に分割する。\n",
    "\n",
    "小領域 $R_1$ 内に点 $\\mathrm{P}_1\\left(\\xi_1, \\eta_1\\right), R_2$ 内に点 $\\mathrm{P}_2\\left(\\xi_2, \\eta_2\\right), \\cdots, R_n$ 内に点 $\\mathrm{P}_n$ $\\left(\\xi_n, \\eta_n\\right)$ を選び，積和\n",
    "\n",
    "$$\n",
    "\\sum_{k=1}^n f\\left(\\mathrm{P}_k\\right) \\Delta A_k=\\sum_{k=1}^n f\\left(\\xi_k, \\eta_k\\right) \\Delta A_k\n",
    "$$\n",
    "\n",
    "を作る。各小領域の直径が0に近づくように分割を細かくしていく。このときの極限値を\n",
    "\n",
    "$$\n",
    "\\iint_R f(x, y) d A=\\lim _{n \\rightarrow \\infty} \\sum_{k=1}^n f\\left(\\xi_k, \\eta_k\\right) \\Delta A_k\n",
    "$$\n",
    "\n",
    "と書き、関数$f(x,y)$の領域$R$における **2重積分** （double integral）という。積分記号の下の添字$R$は$x,y$の値の領域を表している。"
   ]
  },
  {
   "cell_type": "markdown",
   "id": "97f32a39-814c-4e88-bf49-2a868499967e",
   "metadata": {},
   "source": [
    ":::{card} （参考）1変数の定積分\n",
    "\n",
    "区間 $a \\leqq x \\leqq b$ を、おのおのの長さが $\\Delta x_1, \\Delta x_2, \\cdots, \\Delta x_n$ の $n$ 個の小区間 $I_1, I_2$, $\\cdots, I_n$ に分割する。 小区間 $I_1$ 内に点 $\\xi_1, I_2$ 内に点 $\\xi_2, \\cdots, I_n$ 内に点 $\\xi_n$ を選び,積和 $\\sum_{k=1}^n f\\left(\\xi_k\\right) \\Delta x_k$ をつくる。 各小区間の長さが 0 になるように分割を細かくしていく。\n",
    "\n",
    "このときの極限値が定積分\n",
    "\n",
    "$$\n",
    "\\int_a^b f(x) d x=\\lim _{n \\rightarrow \\infty} \\sum_{k=1}^n f\\left(\\xi_k\\right) \\Delta x_k\n",
    "$$\n",
    "\n",
    "である。\n",
    ":::"
   ]
  },
  {
   "cell_type": "markdown",
   "id": "2531f4fc-b15b-4e78-abfc-02f194078c0d",
   "metadata": {},
   "source": [
    "## 多重積分の例"
   ]
  },
  {
   "cell_type": "markdown",
   "id": "545aab71-1954-4811-bd0e-4ef8c7df6df8",
   "metadata": {},
   "source": [
    ":::{admonition} 例：2次元分布\n",
    "\n",
    "2 つの連続型確率変数 $x$ と $y$ に対して次の条件を満たす関数 $f(x, y)$ を $x$ と $y$ の **同時確率密度関数** と呼ぶ.\n",
    "\n",
    "$$\n",
    "f(x, y) \\geq 0, \\quad \\int_{-\\infty}^{\\infty} \\int_{-\\infty}^{\\infty} f(x, y) d x d y=1\n",
    "$$\n",
    "\n",
    "$(x, y)$ が領域 $D$ に入る確率を\n",
    "\n",
    "$$\n",
    "\\operatorname{Pr}\\{(x, y) \\in D\\}=\\iint_D f(x, y) d x d y\n",
    "$$\n",
    "\n",
    "と求める. 特に, $D=[a, b] \\times[c, d]$ なら次のようになる.\n",
    "\n",
    "$$\n",
    "\\operatorname{Pr}\\{(x, y) \\in D\\}=\\operatorname{Pr}\\{a \\leq x \\leq b, c \\leq y \\leq d\\}=\\int_a^b\\left\\{\\int_c^d f(x, y) d y\\right\\} d x\n",
    "$$\n",
    "\n",
    ":::"
   ]
  },
  {
   "cell_type": "markdown",
   "id": "8d5373b3-5303-453b-8260-0805136c0cfa",
   "metadata": {},
   "source": [
    ":::{admonition} 例：2次元分布の期待値\n",
    "\n",
    "2 つの連続型確率変数 $x$ と $y$ について $f(x, y)$ を同時確率密度関数, $f_x(x)$ を $x$ の 周辺確率密度関数, $f_y(y)$ を $y$ の周辺確率密度関数とする. $g(x, y)$ を $x$ と $y$ の関数と するとき $g(x, y)$ の期待値を次のように定義する.\n",
    "\n",
    "$$\n",
    "E\\{g(x, y)\\}=\\int_{-\\infty}^{\\infty} \\int_{-\\infty}^{\\infty} g(x, y) f(x, y) d x d y\n",
    "$$\n",
    "\n",
    ":::"
   ]
  },
  {
   "cell_type": "markdown",
   "id": "4e7530bd-54d9-485f-b6ba-fe8340e2132b",
   "metadata": {},
   "source": [
    "## 多重積分の変数変換"
   ]
  },
  {
   "cell_type": "markdown",
   "id": "85a39fbf-9e4a-4942-8432-4c64fb30cdad",
   "metadata": {},
   "source": [
    "$x=\\phi(s, t), y=\\psi(s, t)$ と変数変換する. ただし, 変換は 1 対 1 であり, $\\phi$ と $\\psi$ は微分可能で, 偏導関数は連続とする. 次式が成り立つ.\n",
    "\n",
    "$$\n",
    "\\begin{aligned}\n",
    "& \\iint_D f(x, y) d x d y=\\iint_{D^{\\prime}} f(\\phi(s, t), \\psi(s, t))|J| d s d t \\\\\n",
    "& D^{\\prime}=\\{(s, t): x=\\phi(s, t), y=\\psi(s, t),(x, y) \\in D\\}\n",
    "\\end{aligned}\n",
    "$$\n",
    "\n",
    "ここで, $J$ は $2 \\times 2$ 行列の行列式\n",
    "\n",
    "$$\n",
    "J=\\left|\\begin{array}{ll}\n",
    "\\frac{\\partial x}{\\partial s} & \\frac{\\partial x}{\\partial t} \\\\\n",
    "\\frac{\\partial y}{\\partial s} & \\frac{\\partial y}{\\partial t}\n",
    "\\end{array}\\right|=\\left|\\begin{array}{ll}\n",
    "\\frac{\\partial \\phi}{\\partial s} & \\frac{\\partial \\phi}{\\partial t} \\\\\n",
    "\\frac{\\partial \\psi}{\\partial s} & \\frac{\\partial \\psi}{\\partial t}\n",
    "\\end{array}\\right|=\\frac{\\partial \\phi}{\\partial s} \\frac{\\partial \\psi}{\\partial t}-\\frac{\\partial \\phi}{\\partial t} \\frac{\\partial \\psi}{\\partial s}\n",
    "$$\n",
    "\n",
    "であり，Jを **ヤコビアン (Jacobian)** と呼ぶ. $|J|$ は $J$ の絶対値である. 変換が 1 対 1 なので $J \\neq 0$ である."
   ]
  },
  {
   "cell_type": "markdown",
   "id": "92518968-ee42-4ba1-ad65-7b59a289fcd1",
   "metadata": {},
   "source": [
    ":::{card} （参考）1変数の積分の変数変換\n",
    "\n",
    "1 変数関数 $y=f(x)$ の定積分での変数変換の方法を述べた. それ は, 単調関数により $x=g(t)$ と変数変換するとき\n",
    "\n",
    "$$\n",
    "\\int_a^b f(x) d x=\\int_\\alpha^\\beta f(g(t)) \\frac{d x}{d t} d t=\\int_\\alpha^\\beta f(g(t)) g^{\\prime}(t) d t\n",
    "$$\n",
    "\n",
    "となる. ここで, $a=g(\\alpha), b=g(\\beta)$ である.\n",
    ":::"
   ]
  },
  {
   "cell_type": "markdown",
   "id": "d9701018-f373-4dd2-afc6-cb1bd38349d9",
   "metadata": {},
   "source": [
    ":::{admonition} 例：確率密度関数の変数変換\n",
    "\n",
    "2 つの連続型確率変数 $x$ と $y$ の同時確率密度関数を $f(x, y)$ とする. 変数変換 $x=$ $\\phi(w, z), y=\\psi(w, z)$ を考える. この変数変換は 1 対 1 とする. このとき，変換後の $w$ と $z$ の同時確率密度関数 $f_{w z}(w, z)$ は次式である.\n",
    "\n",
    "$$\n",
    "f_{w z}(w, z)=f(\\phi(w, z), \\psi(w, z))|J|\n",
    "$$\n",
    "\n",
    "ただし, $J$はヤコビアン\n",
    "\n",
    "$$\n",
    "J=\\left|\\begin{array}{ll}\n",
    "\\frac{\\partial x}{\\partial w} & \\frac{\\partial x}{\\partial z} \\\\\n",
    "\\frac{\\partial y}{\\partial w} & \\frac{\\partial y}{\\partial z}\n",
    "\\end{array}\\right|=\\left|\\begin{array}{ll}\n",
    "\\frac{\\partial \\phi}{\\partial w} & \\frac{\\partial \\phi}{\\partial z} \\\\\n",
    "\\frac{\\partial \\psi}{\\partial w} & \\frac{\\partial \\psi}{\\partial z}\n",
    "\\end{array}\\right|\n",
    "$$\n",
    "\n",
    "であり, $|J|$ は $J$ の絶対値である。\n",
    ":::"
   ]
  },
  {
   "cell_type": "markdown",
   "id": "823194a7-f98f-4686-bd19-99ae5174ef56",
   "metadata": {},
   "source": [
    ":::{admonition} 例：2つのガンマ分布からの変換\n",
    "\n",
    "$x$ はガンマ分布 $G(\\alpha, \\lambda)$ に従い、 $y$ はガンマ分布 $G(\\beta, \\lambda)$ に従い ( $\\lambda$ は共通)、$x$ と $y$ は独立とする。 $w=x /(x+y), z=x+y$ と変数変換するとき、 $w$ と $z$ がどのような確率分布に従うのかを考える。\n",
    "\n",
    "$x$ と $y$ は独立だから、それらの同時確率密度関数は $x$ と $y$ の周辺確率密度関数の積になる。\n",
    "\n",
    "$$\n",
    "f(x, y)=\\frac{\\lambda^{\\alpha+\\beta}}{\\Gamma(\\alpha) \\Gamma(\\beta)} x^{\\alpha-1} y^{\\beta-1} e^{-\\lambda(x+y)}\n",
    "$$\n",
    "\n",
    "変換式を $x$ と $y$ について解くと $x=w z, \\ y=(1-w) z$ となる。\n",
    "\n",
    "これより, ヤコビアンは $J=z$ となる. \n",
    "\n",
    "$$\n",
    "J=\\left|\\begin{array}{ll}\n",
    "\\frac{\\partial x}{\\partial w} & \\frac{\\partial x}{\\partial z} \\\\\n",
    "\\frac{\\partial y}{\\partial w} & \\frac{\\partial y}{\\partial z}\n",
    "\\end{array}\\right|=\\left|\\begin{array}{cc}\n",
    "z & w \\\\\n",
    "-z & 1-w\n",
    "\\end{array}\\right|=z(1-w)+w z=z\n",
    "$$\n",
    "\n",
    "\n",
    "また, $x: 0 \\rightarrow \\infty, y: 0 \\rightarrow \\infty$ のとき $w: 0 \\rightarrow 1$, $z: 0 \\rightarrow \\infty$ である. したがって, 変換後の $w$ と $z$ の同時確率密度関数は, $\\Gamma(\\alpha) \\Gamma(\\beta)=$ $\\Gamma(\\alpha+\\beta) B(\\alpha, \\beta)$ を用いて, 次のようになる.\n",
    "\n",
    "$$\n",
    "\\begin{aligned}\n",
    "& f_{w z}(w, z)=\\frac{\\lambda^{\\alpha+\\beta}}{\\Gamma(\\alpha) \\Gamma(\\beta)}(w z)^{\\alpha-1}\\{(1-w) z\\}^{\\beta-1} e^{-\\lambda z} z \\\\\n",
    "& \\quad=\\left\\{\\frac{\\lambda^{\\alpha+\\beta}}{\\Gamma(\\alpha+\\beta)} z^{\\alpha+\\beta-1} e^{-\\lambda z}\\right\\}\\left\\{\\frac{1}{B(\\alpha, \\beta)} w^{\\alpha-1}(1-w)^{\\beta-1}\\right\\}\n",
    "\\end{aligned}\n",
    "$$\n",
    "\n",
    "上式はガンマ分布 $G(\\alpha+\\beta, \\lambda)$ の確率密度関数とベータ分布 $B e(\\alpha, \\beta)$ の確率密度関数 ((11.26) 式を参照) の積になっている. $f_{w z}(w, z)$ を $w$ のとううる範囲で積分することにより $z$ の周辺分布はガンマ分布 $G(\\alpha+\\beta, \\lambda)$ となり, $z$ のとりうる範囲で積分 すれば $w$ の周辺分布はべータ分布 $B e(\\alpha, \\beta)$ となる. また, $w$ と $z$ は，同時確率密度関数が周辺確率密度関数の積になるので独立である。\n",
    ":::"
   ]
  }
 ],
 "metadata": {
  "kernelspec": {
   "display_name": "Python 3 (ipykernel)",
   "language": "python",
   "name": "python3"
  },
  "language_info": {
   "codemirror_mode": {
    "name": "ipython",
    "version": 3
   },
   "file_extension": ".py",
   "mimetype": "text/x-python",
   "name": "python",
   "nbconvert_exporter": "python",
   "pygments_lexer": "ipython3",
   "version": "3.10.14"
  }
 },
 "nbformat": 4,
 "nbformat_minor": 5
}
