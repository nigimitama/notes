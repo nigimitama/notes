{
 "cells": [
  {
   "cell_type": "markdown",
   "id": "128c765f-7b01-43db-8a46-04747e5d3286",
   "metadata": {},
   "source": [
    "# 不定積分"
   ]
  },
  {
   "cell_type": "code",
   "execution_count": null,
   "id": "cbf60a33-b668-453b-9d99-6d90963038a1",
   "metadata": {},
   "outputs": [],
   "source": []
  }
 ],
 "metadata": {
  "kernelspec": {
   "display_name": "Python 3 (ipykernel)",
   "language": "python",
   "name": "python3"
  },
  "language_info": {
   "codemirror_mode": {
    "name": "ipython",
    "version": 3
   },
   "file_extension": ".py",
   "mimetype": "text/x-python",
   "name": "python",
   "nbconvert_exporter": "python",
   "pygments_lexer": "ipython3",
   "version": "3.10.13"
  }
 },
 "nbformat": 4,
 "nbformat_minor": 5
}
