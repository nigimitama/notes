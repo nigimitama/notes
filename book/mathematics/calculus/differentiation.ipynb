{
 "cells": [
  {
   "cell_type": "markdown",
   "id": "1ba71754-b11b-4ce9-bac4-605bcb86df84",
   "metadata": {},
   "source": [
    "# 微分法"
   ]
  },
  {
   "cell_type": "markdown",
   "id": "1925a91f-783f-454c-a422-63fe228c6968",
   "metadata": {},
   "source": [
    "## 微分可能\n",
    "\n",
    "関数$f(x)$に対して、極限\n",
    "\n",
    "$$\n",
    "f'(a) = \\lim_{h\\to 0} \\frac{f(a + h) - f(a)}{h}\n",
    "$$\n",
    "\n",
    "が存在するとき、$f(x)$は$x=a$で微分可能といい、$f'(a)$を **微分係数** （differential coefficient）という。"
   ]
  },
  {
   "cell_type": "markdown",
   "id": "af1f865d-2ada-4580-9731-0e98764abf60",
   "metadata": {},
   "source": [
    ":::{card}\n",
    "例：$f(x) = x^2$の微分係数$f'(a)$\n",
    "\n",
    "$$\n",
    "f^{\\prime}(a)=\\lim _{h \\rightarrow 0} \\frac{(a+h)^2-a^2}{h}\n",
    "=\\lim _{h \\rightarrow 0} \\frac{2 a h+h^2}{h}=\\lim _{h \\rightarrow 0}(2 a+h)=2 a\n",
    "$$\n",
    "\n",
    ":::"
   ]
  },
  {
   "cell_type": "markdown",
   "id": "f92a961a-2ea4-4339-835a-e277a69a4218",
   "metadata": {},
   "source": [
    "### 基本関数の微分公式\n",
    "\n",
    "$$\n",
    "(\\log |x|)' = \\frac{1}{x} (x \\neq 0)\n",
    "$$\n"
   ]
  },
  {
   "cell_type": "markdown",
   "id": "e89543e4-612b-43e4-9aa1-300ea3aa9199",
   "metadata": {},
   "source": [
    "### 微分の公式\n",
    "\n",
    ":::{admonition} 積の微分\n",
    "\n",
    "$$\n",
    "\\{f(x) g(x)\\}' = f'(x) g(x) + f(x) g'(x)\n",
    "$$\n",
    ":::"
   ]
  },
  {
   "cell_type": "markdown",
   "id": "a1ea7939-b926-424f-a6c7-5d281ce2a992",
   "metadata": {},
   "source": [
    ":::{admonition} 商の微分\n",
    "\n",
    "$$\n",
    "\\left\\{ \\frac{1}{f(x)} \\right\\}' \n",
    "= -\\frac{f'(x)}{[f(x)]^2}\n",
    ",\\ (f(x) \\neq 0)\n",
    "$$\n",
    ":::\n",
    "\n",
    ":::{dropdown} 導出\n",
    "$$\n",
    "\\left\\{ \\frac{1}{f(x)} \\right\\}' \n",
    "= \\{ f(x)^{-1} \\}' \n",
    "$$\n",
    "\n",
    "$g(u) = u^{-1}$とおくと$g'(u) = -1 u^{-2}= - \\dfrac{1}{u^2}$なので\n",
    "\n",
    "$$\n",
    "\\{ f(x)^{-1} \\}' = \\frac{d g(u)}{d u} \\frac{d f(x)}{d x}\\\\\n",
    "= - \\frac{1}{[ f(x)] ^2} f'(x)\n",
    "$$\n",
    ":::\n",
    "\n",
    "\n",
    ":::{admonition} 商の微分2\n",
    "\n",
    "$$\n",
    "\\left\\{ \\frac{f(x)}{g(x)} \\right\\}'\n",
    "= \\frac{f'(x)g(x) - f(x) g'(x)}{[g(x)]^2}\n",
    ",\\  (g(x) \\neq 0)\n",
    "$$\n",
    ":::\n",
    "\n",
    "\n"
   ]
  },
  {
   "cell_type": "markdown",
   "id": "699841bc-3fa5-4e39-9083-3888734b151d",
   "metadata": {},
   "source": []
  }
 ],
 "metadata": {
  "kernelspec": {
   "display_name": "Python 3 (ipykernel)",
   "language": "python",
   "name": "python3"
  },
  "language_info": {
   "codemirror_mode": {
    "name": "ipython",
    "version": 3
   },
   "file_extension": ".py",
   "mimetype": "text/x-python",
   "name": "python",
   "nbconvert_exporter": "python",
   "pygments_lexer": "ipython3",
   "version": "3.9.18"
  }
 },
 "nbformat": 4,
 "nbformat_minor": 5
}
