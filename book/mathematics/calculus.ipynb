{
 "cells": [
  {
   "cell_type": "markdown",
   "id": "1ba71754-b11b-4ce9-bac4-605bcb86df84",
   "metadata": {},
   "source": [
    "# 微分積分学"
   ]
  },
  {
   "cell_type": "code",
   "execution_count": null,
   "id": "da32b6cd-0fc3-47da-81d1-421fdf20ce1e",
   "metadata": {},
   "outputs": [],
   "source": []
  }
 ],
 "metadata": {
  "kernelspec": {
   "display_name": "Python 3 (ipykernel)",
   "language": "python",
   "name": "python3"
  },
  "language_info": {
   "codemirror_mode": {
    "name": "ipython",
    "version": 3
   },
   "file_extension": ".py",
   "mimetype": "text/x-python",
   "name": "python",
   "nbconvert_exporter": "python",
   "pygments_lexer": "ipython3",
   "version": "3.9.16"
  }
 },
 "nbformat": 4,
 "nbformat_minor": 5
}
