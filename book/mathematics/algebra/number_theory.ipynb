{
 "cells": [
  {
   "cell_type": "markdown",
   "id": "0e4792d2-5c30-4c51-90ec-080863541554",
   "metadata": {},
   "source": [
    "# 数論\n",
    "\n",
    "**数論（number theory）** （**整数論** とも）は、数について研究する分野。\n",
    "\n",
    "代数学に限らず、解析学・幾何学にも関わりがあるため、\n",
    "\n",
    "- 代数的整数論\n",
    "- 解析的整数論\n",
    "- 数論幾何学\n",
    "\n",
    "といった分野がある"
   ]
  },
  {
   "cell_type": "markdown",
   "id": "605b7422-242d-47e3-8281-2353b9c4c99a",
   "metadata": {},
   "source": [
    "## 代数的整数論\n",
    "\n",
    "「代数的整数」を研究する分野。（代数的に整数論を扱うわけではない）\n",
    "\n",
    ":::{admonition} 定義（代数的整数）\n",
    "\n",
    "最高次の係数が$1$の整数係数の方程式\n",
    "\n",
    "$$\n",
    "x^n+a_{n-1} x^{n-1}+\\cdots+a_1 x+a_0=0 （a_0, \\cdots, a_{n-1} は整数）\n",
    "$$\n",
    "\n",
    "の解となる複素数を、 **代数的整数** という\n",
    ":::\n",
    "\n"
   ]
  },
  {
   "cell_type": "markdown",
   "id": "a0785211-061b-4680-a31f-e3ee530fe5bf",
   "metadata": {},
   "source": [
    ":::{card} 例\n",
    "\n",
    "- $\\sqrt{2}$は$x^2-2=0$の解 → 代数的整数\n",
    "- $a$は1次方程式$x-a=0$の解 → 代数的整数\n",
    ":::"
   ]
  },
  {
   "cell_type": "markdown",
   "id": "5a3049a4-41d8-4b47-acd9-13a4df020c5f",
   "metadata": {},
   "source": [
    "### ガウス整数\n",
    "\n",
    "整数$a,b$と虚数単位$i$を用いた$a + bi$という形の複素数は、2次方程式\n",
    "\n",
    "$$\n",
    "x^2 - 2ax + (a^2 + b^2) = 0\n",
    "$$\n",
    "\n",
    "の解になっている → 代数的整数である\n",
    "\n",
    "このような複素数を **ガウス整数** と呼ぶ。整数はすべて$b=0$とした場合のガウス整数であるため、 **ガウス整数は整数の拡張** である。"
   ]
  },
  {
   "cell_type": "markdown",
   "id": "c03401fc-6ff3-4fa7-b4e3-5f593894abd7",
   "metadata": {},
   "source": [
    "## 解析的整数論\n",
    "\n",
    "解析的整数論は、複素解析やフーリエ解析などの解析的な手法で整数論を研究する分野。（「解析的整数」があるわけではない）"
   ]
  },
  {
   "cell_type": "markdown",
   "id": "a3406491-c13f-476a-afc2-d9f55dc9f86d",
   "metadata": {},
   "source": [
    "### 素数定理\n",
    "\n",
    ":::{admonition} 素数定理\n",
    "\n",
    "正の実数 $n$ に対して、 $\\pi(n)$ を $n$ 以下の素数の個数とする。このとき、\n",
    "\n",
    "$$\n",
    "\\lim _{n \\rightarrow \\infty} \\frac{\\pi(n)}{\\displaystyle \\left(\\frac{n}{\\log n}\\right)}=1\n",
    "$$\n",
    "\n",
    "\n",
    "である。\n",
    ":::"
   ]
  },
  {
   "cell_type": "markdown",
   "id": "ab431c63-d4e1-4113-905e-66ec46897c01",
   "metadata": {},
   "source": [
    "実際、非常にゆっくりであるが1に収束していっていることがわかる"
   ]
  },
  {
   "cell_type": "code",
   "execution_count": 23,
   "id": "65e27d13-1639-4da4-8c51-d230bba5db92",
   "metadata": {},
   "outputs": [],
   "source": [
    "def pi(n: int) -> int:\n",
    "    \"\"\"エラトステネスの篩をもとに、n以下の素数の個数を数える\"\"\"\n",
    "    # 1. 長さn+1の配列を用意し、0番目と1番目の要素にFalseを、2番目以降すべてにTrueを入れる（0,1は素数でないため）\n",
    "    is_primes = [True] * (n + 1)\n",
    "    is_primes[0] = is_primes[1] = False\n",
    "\n",
    "    # 2. 2からsqrt(n)までの数について、その数が素数なら、その倍数はFalse（素数でない）とする\n",
    "    for i in range(2, int(n**0.5) + 1):\n",
    "        if is_primes[i]:\n",
    "            for j in range(i * i, n + 1, i):\n",
    "                is_primes[j] = False\n",
    "    return sum(is_primes)"
   ]
  },
  {
   "cell_type": "code",
   "execution_count": 34,
   "id": "5af44b73-f1fa-459a-bd98-2fa6b8f87c76",
   "metadata": {},
   "outputs": [
    {
     "data": {
      "text/html": [
       "<div>\n",
       "<style scoped>\n",
       "    .dataframe tbody tr th:only-of-type {\n",
       "        vertical-align: middle;\n",
       "    }\n",
       "\n",
       "    .dataframe tbody tr th {\n",
       "        vertical-align: top;\n",
       "    }\n",
       "\n",
       "    .dataframe thead th {\n",
       "        text-align: right;\n",
       "    }\n",
       "</style>\n",
       "<table border=\"1\" class=\"dataframe\">\n",
       "  <thead>\n",
       "    <tr style=\"text-align: right;\">\n",
       "      <th></th>\n",
       "      <th>n</th>\n",
       "      <th>π(x)</th>\n",
       "      <th>x/log(x)</th>\n",
       "      <th>π(x)/{x/log(x)}</th>\n",
       "    </tr>\n",
       "  </thead>\n",
       "  <tbody>\n",
       "    <tr>\n",
       "      <th>0</th>\n",
       "      <td>10</td>\n",
       "      <td>4</td>\n",
       "      <td>4.3</td>\n",
       "      <td>0.921</td>\n",
       "    </tr>\n",
       "    <tr>\n",
       "      <th>1</th>\n",
       "      <td>100</td>\n",
       "      <td>25</td>\n",
       "      <td>21.7</td>\n",
       "      <td>1.151</td>\n",
       "    </tr>\n",
       "    <tr>\n",
       "      <th>2</th>\n",
       "      <td>1000</td>\n",
       "      <td>168</td>\n",
       "      <td>144.8</td>\n",
       "      <td>1.161</td>\n",
       "    </tr>\n",
       "    <tr>\n",
       "      <th>3</th>\n",
       "      <td>10000</td>\n",
       "      <td>1229</td>\n",
       "      <td>1085.7</td>\n",
       "      <td>1.132</td>\n",
       "    </tr>\n",
       "    <tr>\n",
       "      <th>4</th>\n",
       "      <td>100000</td>\n",
       "      <td>9592</td>\n",
       "      <td>8685.9</td>\n",
       "      <td>1.104</td>\n",
       "    </tr>\n",
       "    <tr>\n",
       "      <th>5</th>\n",
       "      <td>1000000</td>\n",
       "      <td>78498</td>\n",
       "      <td>72382.4</td>\n",
       "      <td>1.084</td>\n",
       "    </tr>\n",
       "  </tbody>\n",
       "</table>\n",
       "</div>"
      ],
      "text/plain": [
       "         n   π(x)  x/log(x)  π(x)/{x/log(x)}\n",
       "0       10      4       4.3            0.921\n",
       "1      100     25      21.7            1.151\n",
       "2     1000    168     144.8            1.161\n",
       "3    10000   1229    1085.7            1.132\n",
       "4   100000   9592    8685.9            1.104\n",
       "5  1000000  78498   72382.4            1.084"
      ]
     },
     "execution_count": 34,
     "metadata": {},
     "output_type": "execute_result"
    }
   ],
   "source": [
    "import numpy as np\n",
    "\n",
    "results = []\n",
    "for k in range(1, 7):\n",
    "    n = 10 ** k\n",
    "    n_prime = pi(n)\n",
    "    x = n/np.log(n)\n",
    "    results.append({\"n\": n, \"π(x)\": n_prime, \"x/log(x)\": round(x, 1), \"π(x)/{x/log(x)}\": round(n_prime/x, 3)})\n",
    "\n",
    "import pandas as pd\n",
    "pd.DataFrame(results)"
   ]
  },
  {
   "cell_type": "markdown",
   "id": "f0cb19e6-ae2d-4b27-aca8-9a8b4d15f94a",
   "metadata": {},
   "source": [
    "### ゼータ関数\n",
    "\n",
    ":::{admonition} ゼータ関数\n",
    "\n",
    "実部が 1 より大きい複素数 $s$ に対して定義される **ゼータ関数** とは、\n",
    "\n",
    "$$\n",
    "\\zeta(s)=\\frac{1}{1^s}+\\frac{1}{2^s}+\\frac{1}{3^s}+\\cdots\n",
    "$$\n",
    "\n",
    "で表される関数のことをいう。\n",
    ":::"
   ]
  },
  {
   "cell_type": "markdown",
   "id": "7c5c5180-2e68-4ca0-8842-bac60e9fd15c",
   "metadata": {},
   "source": [
    "例：\n",
    "\n",
    "$s=2$だと、\n",
    "\n",
    "$$\n",
    "\\zeta(2)=\\frac{1}{1^2}+\\frac{1}{2^2}+\\frac{1}{3^2}+\\cdots=\\frac{\\pi^2}{6}\n",
    "$$"
   ]
  },
  {
   "cell_type": "markdown",
   "id": "0c4f1163-e5b9-4ad1-90f5-f3de36c5c89b",
   "metadata": {},
   "source": [
    "偶数の$s$に対してはある程度きれいな形の無理数で表せることが知られているが、奇数の$s$に対しては一般に無理数であるかどうかもわからない。$\\zeta(3)$が無理数であることは1978年にAperyによって証明された。"
   ]
  },
  {
   "cell_type": "markdown",
   "id": "85d65fb2-c57c-4712-b12c-1425195e7335",
   "metadata": {},
   "source": [
    "$\\zeta(s)=0$になるような$s$のことを、ゼータ関数の **零点** （れいてん）という。負の偶数$-2,-4,\\cdots$がゼータ関数の零点であることは知られていた（自明な零点という）が、これら以外の零点（非自明な零点）にどのようなものがあるのかは長年の問いだった。見つかったものはすべて実部が$\\frac{1}{2}$だった、つまり\n",
    "\n",
    "$$\n",
    "s = \\frac{1}{2} + bi \\quad (b \\in \\mathbb{R})\n",
    "$$\n",
    "\n",
    "という形だった。これはリーマン予想という難問であり、現在も未解決のまま残っている。"
   ]
  },
  {
   "cell_type": "markdown",
   "id": "b758e284-da41-4bdd-82d8-9d1e6ca7c42a",
   "metadata": {},
   "source": [
    ":::{admonition} リーマン予想\n",
    "\n",
    "ゼータ関数 $\\zeta(s)$ の非自明な零点は、すべて実部が $\\frac{1}{2}$ であろう。\n",
    ":::"
   ]
  },
  {
   "cell_type": "markdown",
   "id": "23513837-1f42-403f-bd5e-e52e17e80ed4",
   "metadata": {},
   "source": [
    "## 数論幾何学\n",
    "\n",
    "代数幾何学を用いて整数論を研究する分野。"
   ]
  },
  {
   "cell_type": "markdown",
   "id": "8c2bf5ca-f1f3-4a0d-8923-d082b034064b",
   "metadata": {},
   "source": [
    "### フェルマーの最終定理\n",
    "\n",
    "有名な難問。\n",
    "\n",
    ":::{admoniton} フェルマーの最終定理\n",
    "\n",
    "$n$ を 3 以上の自然数とする。このとき、\n",
    "\n",
    "$$\n",
    "x^n+y^n=z^n\n",
    "$$\n",
    "\n",
    "を満たす自然数 $(x, y, z)$ は存在しない。\n",
    ":::\n",
    "\n",
    "フェルマーが17世紀に本のページの隅に命題だけ残したもの。1995年にワイルズが証明。\n"
   ]
  }
 ],
 "metadata": {
  "kernelspec": {
   "display_name": "Python 3 (ipykernel)",
   "language": "python",
   "name": "python3"
  },
  "language_info": {
   "codemirror_mode": {
    "name": "ipython",
    "version": 3
   },
   "file_extension": ".py",
   "mimetype": "text/x-python",
   "name": "python",
   "nbconvert_exporter": "python",
   "pygments_lexer": "ipython3",
   "version": "3.10.14"
  }
 },
 "nbformat": 4,
 "nbformat_minor": 5
}
