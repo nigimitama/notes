{
 "cells": [
  {
   "cell_type": "markdown",
   "id": "965562e9-7d37-4b71-8bb7-3dfedd614c9d",
   "metadata": {},
   "source": [
    "# 代数学\n",
    "\n",
    "\n",
    "**代数学** （algebra）は、四則演算などの演算が定義された集合（代数学）についての性質を調べる分野\n"
   ]
  },
  {
   "cell_type": "markdown",
   "id": "b2d936f6-e94a-4dc8-b6ad-84f88a540117",
   "metadata": {},
   "source": [
    "## 目次\n",
    "\n",
    ":::{tableofcontents}\n",
    ":::"
   ]
  }
 ],
 "metadata": {
  "kernelspec": {
   "display_name": "Python 3 (ipykernel)",
   "language": "python",
   "name": "python3"
  },
  "language_info": {
   "codemirror_mode": {
    "name": "ipython",
    "version": 3
   },
   "file_extension": ".py",
   "mimetype": "text/x-python",
   "name": "python",
   "nbconvert_exporter": "python",
   "pygments_lexer": "ipython3",
   "version": "3.10.14"
  }
 },
 "nbformat": 4,
 "nbformat_minor": 5
}
