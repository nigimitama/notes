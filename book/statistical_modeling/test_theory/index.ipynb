{
 "cells": [
  {
   "cell_type": "markdown",
   "id": "6be18691-341a-484b-b06d-cb674503ca0d",
   "metadata": {},
   "source": [
    "# テスト理論・項目反応理論・スコアリング"
   ]
  },
  {
   "cell_type": "markdown",
   "id": "b61634cc-14a2-4467-b8fe-4c2fedc1b7c3",
   "metadata": {},
   "source": [
    ":::{tableofcontents}\n",
    ":::"
   ]
  }
 ],
 "metadata": {
  "kernelspec": {
   "display_name": "Python 3 (ipykernel)",
   "language": "python",
   "name": "python3"
  },
  "language_info": {
   "codemirror_mode": {
    "name": "ipython",
    "version": 3
   },
   "file_extension": ".py",
   "mimetype": "text/x-python",
   "name": "python",
   "nbconvert_exporter": "python",
   "pygments_lexer": "ipython3",
   "version": "3.10.15"
  }
 },
 "nbformat": 4,
 "nbformat_minor": 5
}
