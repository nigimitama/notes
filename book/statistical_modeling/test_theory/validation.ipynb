{
 "cells": [
  {
   "cell_type": "markdown",
   "id": "d185fea2-7bbe-463c-93d8-ee75b3ad6cee",
   "metadata": {},
   "source": [
    "# スコアの妥当性検証"
   ]
  },
  {
   "cell_type": "markdown",
   "id": "c5fa93d8-a8ad-41eb-9c39-2d898186fde3",
   "metadata": {},
   "source": [
    "## 次元性の仮定の検証\n",
    "\n",
    "IRTでは、そのテストが測ろうとしている構成概念（スコア）の次元数を仮定してモデルを当てはめる。そのため、データがその仮定に合致するかを検討するというもの。\n",
    "\n",
    "### スクリープロット\n",
    "\n",
    "相関行列の固有値を降順に描いたプロット。\n",
    "\n",
    "例えば第1成分から第2成分にかけて一気にカーブが下がってそれ以降はなだらかになっている（第1主成分だけで多くを説明できる）場合は1次元だとみなして妥当"
   ]
  },
  {
   "cell_type": "code",
   "execution_count": 35,
   "id": "79fd7e9e-c0cf-4e4c-923f-9a15c8d3e905",
   "metadata": {
    "jupyter": {
     "source_hidden": true
    },
    "tags": [
     "hide-input"
    ]
   },
   "outputs": [
    {
     "data": {
      "image/png": "[encoded data removed]",
      "text/plain": [
       "<Figure size 400x200 with 1 Axes>"
      ]
     },
     "metadata": {},
     "output_type": "display_data"
    }
   ],
   "source": [
    "# ------------------------------\n",
    "# サンプルデータの生成\n",
    "# ------------------------------\n",
    "import numpy as np\n",
    "import pandas as pd\n",
    "\n",
    "np.random.seed(42)\n",
    "\n",
    "n_persons = 100\n",
    "n_items = 10\n",
    "\n",
    "# 能力θと項目困難度bを設定\n",
    "theta = np.random.normal(0, 1, n_persons)\n",
    "b = np.random.normal(0, 0.2, n_items)\n",
    "a = np.random.normal(0, 0.1, n_items)\n",
    "\n",
    "# 2PLMで応答を生成\n",
    "prob = 1 / (1 + np.exp(- a * (theta[:, None] - b)))\n",
    "responses = np.random.binomial(1, prob)\n",
    "\n",
    "df = pd.DataFrame(responses, columns=[f\"item_{i+1}\" for i in range(n_items)])\n",
    "# print(df.head())\n",
    "\n",
    "# ------------------------------\n",
    "# スクリープロット\n",
    "# ------------------------------\n",
    "import numpy as np\n",
    "from ordinalcorr import hetcor\n",
    "\n",
    "cor_matrix = hetcor(df)\n",
    "eigenvalues, _ = np.linalg.eig(cor_matrix)\n",
    "eigenvalues = np.sort(eigenvalues)[::-1]\n",
    "\n",
    "import matplotlib.pyplot as plt\n",
    "plt.figure(figsize=(4, 2))\n",
    "plt.plot(range(1, len(eigenvalues) + 1), eigenvalues, 'o-', linewidth=2)\n",
    "plt.title(\"Scree Plot\")\n",
    "plt.xlabel(\"Component Number\")\n",
    "plt.ylabel(\"Eigenvalue\")\n",
    "plt.xticks(range(1, len(eigenvalues) + 1))\n",
    "plt.grid(True)\n",
    "plt.show()"
   ]
  },
  {
   "cell_type": "markdown",
   "id": "41b8aa1f-0439-49b1-9c29-5536a1a37d37",
   "metadata": {},
   "source": [
    ":::{info}\n",
    "\n",
    "[Hattie, J. (1985). Methodology review: assessing unidimensionality of tests and ltenls. Applied psychological measurement, 9(2), 139-164.](https://journals.sagepub.com/doi/10.1177/014662168500900204)\n",
    "\n",
    "は様々な次元性の検証方法の長短をレビューしている\n",
    "\n",
    ":::"
   ]
  },
  {
   "cell_type": "markdown",
   "id": "3f76119d-05e7-498c-8fb8-62e1a80f06a6",
   "metadata": {},
   "source": [
    "## 局所独立性の仮定の検証\n",
    "\n",
    "**局所独立性（local independence）** とは、能力$\\theta$を1つの値に固定したとき、各テスト項目への反応は互いに独立であるという性質。\n",
    "\n",
    "言い換えると「項目間の相関は能力$\\theta$という因子に起因していて、能力$\\theta$を固定してその影響を除外（統制）すれば項目間の相関はない」という考え方。\n",
    "\n"
   ]
  },
  {
   "cell_type": "code",
   "execution_count": 47,
   "id": "ba0ea641-6cd8-4902-9abc-3b4ea2f25a7a",
   "metadata": {
    "jupyter": {
     "source_hidden": true
    },
    "tags": [
     "hide-input"
    ]
   },
   "outputs": [
    {
     "data": {
      "image/svg+xml": [
       "<?xml version=\"1.0\" encoding=\"UTF-8\" standalone=\"no\"?>\n",
       "<!DOCTYPE svg PUBLIC \"-//W3C//DTD SVG 1.1//EN\"\n",
       " \"http://www.w3.org/Graphics/SVG/1.1/DTD/svg11.dtd\">\n",
       "<!-- Generated by graphviz version 2.42.4 (0)\n",
       " -->\n",
       "<!-- Title: g Pages: 1 -->\n",
       "<svg width=\"152pt\" height=\"116pt\"\n",
       " viewBox=\"0.00 0.00 152.00 116.00\" xmlns=\"http://www.w3.org/2000/svg\" xmlns:xlink=\"http://www.w3.org/1999/xlink\">\n",
       "<g id=\"graph0\" class=\"graph\" transform=\"scale(1 1) rotate(0) translate(4 112)\">\n",
       "<title>g</title>\n",
       "<polygon fill=\"white\" stroke=\"transparent\" points=\"-4,4 -4,-112 148,-112 148,4 -4,4\"/>\n",
       "<!-- theta -->\n",
       "<g id=\"node1\" class=\"node\">\n",
       "<title>theta</title>\n",
       "<ellipse fill=\"none\" stroke=\"black\" cx=\"72\" cy=\"-90\" rx=\"18\" ry=\"18\"/>\n",
       "<text text-anchor=\"start\" x=\"67.5\" y=\"-87.3\" font-family=\"Times,serif\" font-style=\"italic\" font-size=\"14.00\">θ</text>\n",
       "</g>\n",
       "<!-- u1 -->\n",
       "<g id=\"node2\" class=\"node\">\n",
       "<title>u1</title>\n",
       "<polygon fill=\"none\" stroke=\"black\" points=\"36,-36 0,-36 0,0 36,0 36,-36\"/>\n",
       "<text text-anchor=\"start\" x=\"9\" y=\"-15.3\" font-family=\"Times,serif\" font-style=\"italic\" font-size=\"14.00\">u</text>\n",
       "<text text-anchor=\"start\" x=\"19\" y=\"-15.3\" font-family=\"Times,serif\" font-style=\"italic\" baseline-shift=\"sub\" font-size=\"14.00\">1</text>\n",
       "</g>\n",
       "<!-- theta&#45;&gt;u1 -->\n",
       "<g id=\"edge1\" class=\"edge\">\n",
       "<title>theta&#45;&gt;u1</title>\n",
       "<path fill=\"none\" stroke=\"black\" d=\"M61.33,-75.17C54.49,-66.3 45.41,-54.54 37.33,-44.06\"/>\n",
       "<polygon fill=\"black\" stroke=\"black\" points=\"40.01,-41.8 31.13,-36.02 34.47,-46.07 40.01,-41.8\"/>\n",
       "</g>\n",
       "<!-- u2 -->\n",
       "<g id=\"node3\" class=\"node\">\n",
       "<title>u2</title>\n",
       "<polygon fill=\"none\" stroke=\"black\" points=\"90,-36 54,-36 54,0 90,0 90,-36\"/>\n",
       "<text text-anchor=\"start\" x=\"63\" y=\"-15.3\" font-family=\"Times,serif\" font-style=\"italic\" font-size=\"14.00\">u</text>\n",
       "<text text-anchor=\"start\" x=\"73\" y=\"-15.3\" font-family=\"Times,serif\" font-style=\"italic\" baseline-shift=\"sub\" font-size=\"14.00\">2</text>\n",
       "</g>\n",
       "<!-- theta&#45;&gt;u2 -->\n",
       "<g id=\"edge2\" class=\"edge\">\n",
       "<title>theta&#45;&gt;u2</title>\n",
       "<path fill=\"none\" stroke=\"black\" d=\"M72,-71.7C72,-63.98 72,-54.71 72,-46.11\"/>\n",
       "<polygon fill=\"black\" stroke=\"black\" points=\"75.5,-46.1 72,-36.1 68.5,-46.1 75.5,-46.1\"/>\n",
       "</g>\n",
       "<!-- u3 -->\n",
       "<g id=\"node4\" class=\"node\">\n",
       "<title>u3</title>\n",
       "<polygon fill=\"none\" stroke=\"black\" points=\"144,-36 108,-36 108,0 144,0 144,-36\"/>\n",
       "<text text-anchor=\"start\" x=\"117\" y=\"-15.3\" font-family=\"Times,serif\" font-style=\"italic\" font-size=\"14.00\">u</text>\n",
       "<text text-anchor=\"start\" x=\"127\" y=\"-15.3\" font-family=\"Times,serif\" font-style=\"italic\" baseline-shift=\"sub\" font-size=\"14.00\">3</text>\n",
       "</g>\n",
       "<!-- theta&#45;&gt;u3 -->\n",
       "<g id=\"edge3\" class=\"edge\">\n",
       "<title>theta&#45;&gt;u3</title>\n",
       "<path fill=\"none\" stroke=\"black\" d=\"M82.67,-75.17C89.51,-66.3 98.59,-54.54 106.67,-44.06\"/>\n",
       "<polygon fill=\"black\" stroke=\"black\" points=\"109.53,-46.07 112.87,-36.02 103.99,-41.8 109.53,-46.07\"/>\n",
       "</g>\n",
       "</g>\n",
       "</svg>\n"
      ],
      "text/plain": [
       "<graphviz.sources.Source at 0x75a99141fac0>"
      ]
     },
     "execution_count": 47,
     "metadata": {},
     "output_type": "execute_result"
    }
   ],
   "source": [
    "import graphviz\n",
    "graphviz.Source(\"\"\"\n",
    "digraph g {\n",
    "    graph [rankdir = TB];\n",
    "    node[shape = circle];\n",
    "        theta [label=<<I>θ</I>>]\n",
    "    node[shape = square];\n",
    "        u1    [label=<<I>u<SUB>1</SUB></I>>]\n",
    "        u2    [label=<<I>u<SUB>2</SUB></I>>]\n",
    "        u3    [label=<<I>u<SUB>3</SUB></I>>]\n",
    "    edge [];\n",
    "        theta -> {u1, u2, u3}\n",
    "}\n",
    "\"\"\")"
   ]
  },
  {
   "cell_type": "markdown",
   "id": "bfb2575f-9c8c-4807-af9c-6d84122574bb",
   "metadata": {},
   "source": [
    "### $Q_3$統計量\n",
    "\n",
    "$Q_3$統計量は局所独立性の検証に使われる統計量で、2つの項目のペアの残差の間の相関である。\n",
    "\n",
    ":::{admonition} 項目ペアの$Q3$統計量\n",
    "\n",
    "$Q_3$統計量は任意の項目のペア$j$と$j^\\prime$について次のように定義される。\n",
    "\n",
    "$$\n",
    "Q_{3, j j^{\\prime}} := r(d_j, d_{j^{\\prime}})\n",
    "$$\n",
    "\n",
    "- $r(\\cdot, \\cdot)$：相関係数\n",
    "- $d_{ij} := u_{ij} - \\hat{P}_j(\\hat{\\theta}_i)$ ：推定したパラメータによるICC$\\hat{P}_j(\\hat{\\theta}_i)$と項目反応$u_{ij}$の残差得点\n",
    "\n",
    ":::\n",
    "\n",
    "目安としては、「$|Q_3| \\geq 0.20$の項目ペアは局所独立性の侵害を疑う必要がある」とされる\n",
    "\n",
    ":::{admonition} テストの$Q3$統計量\n",
    "\n",
    "実際には分析全体の評価に、その（絶対値の）最大値が使われる\n",
    "\n",
    "$$\n",
    "Q_{3, max} := \\max_{j \\neq j^{\\prime}} Q_{3, j j^{\\prime}}\n",
    "$$\n",
    "\n",
    "（$j = j^{\\prime}$は相関行列の対角要素であり1になるので、それ以外の部分での最大値という意味）\n",
    "\n",
    ":::\n",
    "\n",
    "$Q_3$統計量は\n",
    "\n",
    "- $\\theta$によって項目間の相関関係が十分に説明されているとすれば、その影響を除去した残差得点同士の相関は0に近くなるはず\n",
    "- $\\theta$以外に項目間に相関をもたらす要因がある場合は$\\theta$の影響を除いてもなお相関が残る\n",
    "\n",
    "という考え方をとっている。\n",
    "\n",
    "\n",
    ":::{card} $Q_3$統計量の短所（[Christensen et al., 2017](https://doi.org/10.1177/0146621616677520)）\n",
    "\n",
    "- $Q_3$は平均がゼロではなく、ややマイナスに偏る負のバイアスが指摘されている（[Yen, 1984]( https://doi.org/10.1177/014662168400800201)）。\n",
    "    - バイアスを補正したバージョン（単純にゼロで引く）も検討されている（[Christensen et al., 2017](https://doi.org/10.1177/0146621616677520)）\n",
    "    - $Q_{3,*} := Q_{3, max} - \\bar{Q_{3}}$\n",
    "- 「$Q_3$がいくつ以下ならいい」という基準値が不明瞭（慣例的に0.2と言われがちだが実際の論文では0.3以下基準のものがあったり、まちまち）\n",
    "\n",
    ":::\n",
    "\n",
    ":::{admonition} とはいえ基準値は0.2でそんなにおかしくはなさそう\n",
    "\n",
    "[Christensen et al. (2017)](https://doi.org/10.1177/0146621616677520) はシミュレーションした結果次のように述べている\n",
    "\n",
    "- 「$Q_3$がいくつ以下ならいい」という基準値はデータセットにもよるし一概に言えない\n",
    "- しかしシミュレーション上、平均の相関より0.2上回る（$Q_{3,*}\\geq 0.2$）残差相関は局所依存を示唆する可能性があり、局所独立した項目の$Q_{3,*}$が0.3を超える可能性は低かった\n",
    "\n",
    ":::\n",
    "\n",
    "\n",
    "\n",
    "Q3の標本分布はわからないが、[Finch & Jeffers (2016)](https://pubmed.ncbi.nlm.nih.gov/29881045/) はpermutation testによりType I errorと検出率を推定する方法を提案している。\n",
    "\n"
   ]
  },
  {
   "cell_type": "markdown",
   "id": "166ba50b-ca40-43e2-b45e-6762dd06b98f",
   "metadata": {},
   "source": [
    ":::{admonition} 日本語のレビュー論文\n",
    "\n",
    "[板宮拓巳. (2025). 局所依存構造を持つテストデータの解析法の展望―項目反応理論に注目して―. 日本テスト学会誌, 21(1), 125-152.](https://www.jstage.jst.go.jp/article/jart/21/1/21_125/_article/-char/ja/)\n",
    "\n",
    "局所依存の診断法についての発展をレビューした論文\n",
    "\n",
    ":::"
   ]
  },
  {
   "cell_type": "markdown",
   "id": "1b990997-2f51-4ba5-a81f-dfb2744d6a4b",
   "metadata": {},
   "source": [
    "## モデルの検証\n",
    "\n",
    "### クロンバックのα\n",
    "\n",
    ":::{card} クロンバックのα\n",
    "\n",
    "$$\n",
    "\\alpha=\\frac{J}{J-1}\\left(1-\\frac{\\sum_{j=1}^J s_j^2}{s_y^2}\\right)\n",
    "$$\n",
    "\n",
    ":::\n",
    "\n",
    "- ❌️CTTなので標本依存性がある\n",
    "- ❌️CTTにおける信頼性係数や、その推定量であるクロンバックのαは項目数が増えるとαも上がってしまい、精度が低いことが知られている\n"
   ]
  },
  {
   "cell_type": "markdown",
   "id": "a32167d2-e3af-4dd2-9db0-16f5a0fb484d",
   "metadata": {},
   "source": [
    "### 適合度\n",
    "\n",
    "- ❌️IRTの個人適合度（$z^3$統計量） → 正規分布に従い、例えば5%有意水準で適合度が低い受験者を検出できるが、適合していても5%は誤検出する\n",
    "- ❌️IRTの項目適合度 → 受験者数が増えるとp-valueが5%未満（→適合していない）になりやすく、誤検出が多い\n",
    "\n"
   ]
  },
  {
   "cell_type": "markdown",
   "id": "da01d141-d14e-46bc-b03d-fb2170083a6c",
   "metadata": {},
   "source": [
    "### 情報量関数\n",
    "\n",
    ":::{card}\n",
    "\n",
    "- 項目情報関数 $I_j(\\theta)=\\frac{\\left\\{P_j^{\\prime}(\\theta)\\right\\}^2}{P_j(\\theta) Q_j(\\theta)}$\n",
    "- テスト情報関数 $I(\\theta) = \\sum_{j=1}^J I_j(\\theta)$\n",
    "\n",
    "項目情報関数は フィッシャー情報量（対数尤度関数の2回微分のマイナスの期待値） から導かれ、クラメール・ラオの不等式\n",
    "\n",
    "$$\n",
    "I(\\theta) \\geq \\frac{1}{\\operatorname{Var}(\\hat{\\theta})}\n",
    "$$\n",
    "\n",
    "より、推定量の分散の下限を示す\n",
    ":::\n",
    "\n",
    "情報量関数は1つのテストについて検定のような良し悪しを判断する使われ方はされず、$\\theta$の値に対する情報量の多寡をみる\n",
    "\n",
    "また2つのテスト$A,B$のどちらがより精度が高いかを相対効率$\\frac{I_A(\\theta)}{I_B(\\theta)}$で示すなどといった使われ方をされる。\n",
    "\n",
    "\n",
    "\n"
   ]
  },
  {
   "cell_type": "markdown",
   "id": "f84a4cc1-dd14-4097-9699-c06d3be4eda3",
   "metadata": {},
   "source": [
    "## スコアの検証"
   ]
  },
  {
   "cell_type": "markdown",
   "id": "b5a8b23a-52f0-4991-b614-c9e5cf541505",
   "metadata": {},
   "source": [
    "### Messickの妥当性概念\n",
    "\n",
    "Messickは妥当性検証のための側面を6つ挙げた。\n",
    "\n",
    "| 側面（facet）                      | 内容（簡潔な説明）                                           |\n",
    "| ---------------------------------- | ------------------------------------------------------------ |\n",
    "| ① 内容的妥当性（Content）          | 測定内容が理論的構成概念をどれだけ網羅しているか             |\n",
    "| ② 構成概念妥当性（Substantive）    | 測定が理論に基づき、認知的に妥当か                           |\n",
    "| ③ 構造的妥当性（Structural）       | 得点構造が想定した構成概念と整合しているか（因子構造など）   |\n",
    "| ④ 外的妥当性（External）           | 他の指標との関係が理論通りか（収束的・弁別的妥当性）         |\n",
    "| ⑤ 結果的妥当性（Consequential）    | 測定の利用が社会的に望ましい結果をもたらすか（公正性・偏りなど） |\n",
    "| ⑥ 実証的妥当性（Generalizability） | 測定結果が一般化可能か（状況・集団を超えて妥当か）           |\n",
    "\n",
    "上記6つの側面にわたる証拠が備えられていることが望ましい。しかし妥当性検証とは尺度が利用されることで明らかになる証拠を積み重ねるプロセスであるため、最初から全部を備えることは不可能。"
   ]
  },
  {
   "cell_type": "markdown",
   "id": "951d09a6-05e2-470c-b8e4-212f4966aa10",
   "metadata": {},
   "source": [
    "### 外的妥当性の検証\n",
    "\n",
    "スコアが「人間の肌感覚」など何らかの先行的に存在する指標を模倣している場合は、その模倣具合からある程度妥当性を検証できる\n",
    "\n",
    "例えば数件～数十件の受験者をサンプリングし、人間の肌感覚に従って昇順にソートしてもらい、それと推定された$\\hat{\\theta}$の順序相関を確認する"
   ]
  },
  {
   "cell_type": "markdown",
   "id": "13cab321-115a-4e02-8c0b-31a176a1bb7a",
   "metadata": {},
   "source": [
    "## 参考\n",
    "\n",
    "- [村山航. (2012). 妥当性概念の歴史的変遷と心理測定学的観点からの考察. 教育心理学年報, 51, 118-130.](https://www.jstage.jst.go.jp/article/arepj/51/0/51_118/_pdf)\n",
    "- [8  項目反応理論](https://www2.kobe-u.ac.jp/~bunji/files/lecture/MVA/html/chapters/08_irt.html)"
   ]
  }
 ],
 "metadata": {
  "kernelspec": {
   "display_name": "Python 3 (ipykernel)",
   "language": "python",
   "name": "python3"
  },
  "language_info": {
   "codemirror_mode": {
    "name": "ipython",
    "version": 3
   },
   "file_extension": ".py",
   "mimetype": "text/x-python",
   "name": "python",
   "nbconvert_exporter": "python",
   "pygments_lexer": "ipython3",
   "version": "3.10.18"
  }
 },
 "nbformat": 4,
 "nbformat_minor": 5
}
