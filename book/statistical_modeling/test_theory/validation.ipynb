{
 "cells": [
  {
   "cell_type": "markdown",
   "id": "d185fea2-7bbe-463c-93d8-ee75b3ad6cee",
   "metadata": {},
   "source": [
    "# スコアの妥当性検証"
   ]
  },
  {
   "cell_type": "markdown",
   "id": "1b990997-2f51-4ba5-a81f-dfb2744d6a4b",
   "metadata": {},
   "source": [
    "## モデルの検証\n",
    "\n",
    "### クロンバックのα\n",
    "\n",
    ":::{card} クロンバックのα\n",
    "\n",
    "$$\n",
    "\\alpha=\\frac{J}{J-1}\\left(1-\\frac{\\sum_{j=1}^J s_j^2}{s_y^2}\\right)\n",
    "$$\n",
    "\n",
    ":::\n",
    "\n",
    "- ❌️CTTなので標本依存性がある\n",
    "- ❌️CTTにおける信頼性係数や、その推定量であるクロンバックのαは項目数が増えるとαも上がってしまい、精度が低いことが知られている\n"
   ]
  },
  {
   "cell_type": "markdown",
   "id": "a32167d2-e3af-4dd2-9db0-16f5a0fb484d",
   "metadata": {},
   "source": [
    "### 適合度\n",
    "\n",
    "- ❌️IRTの個人適合度（$z^3$統計量） → 正規分布に従い、例えば5%有意水準で適合度が低い受験者を検出できるが、適合していても5%は誤検出する\n",
    "- ❌️IRTの項目適合度 → 受験者数が増えるとp-valueが5%未満（→適合していない）になりやすく、誤検出が多い\n",
    "\n"
   ]
  },
  {
   "cell_type": "markdown",
   "id": "da01d141-d14e-46bc-b03d-fb2170083a6c",
   "metadata": {},
   "source": [
    "### 情報量関数\n",
    "\n",
    ":::{card}\n",
    "\n",
    "- 項目情報関数 $I_j(\\theta)=\\frac{\\left\\{P_j^{\\prime}(\\theta)\\right\\}^2}{P_j(\\theta) Q_j(\\theta)}$\n",
    "- テスト情報関数 $I(\\theta) = \\sum_{j=1}^J I_j(\\theta)$\n",
    "\n",
    "項目情報関数は フィッシャー情報量（対数尤度関数の2回微分のマイナスの期待値） から導かれ、クラメール・ラオの不等式\n",
    "\n",
    "$$\n",
    "I(\\theta) \\geq \\frac{1}{\\operatorname{Var}(\\hat{\\theta})}\n",
    "$$\n",
    "\n",
    "より、推定量の分散の下限を示す\n",
    ":::\n",
    "\n",
    "情報量関数は1つのテストについて検定のような良し悪しを判断する使われ方はされず、$\\theta$の値に対する情報量の多寡をみる\n",
    "\n",
    "また2つのテスト$A,B$のどちらがより精度が高いかを相対効率$\\frac{I_A(\\theta)}{I_B(\\theta)}$で示すなどといった使われ方をされる。\n",
    "\n",
    "\n",
    "\n"
   ]
  },
  {
   "cell_type": "markdown",
   "id": "6f6d97da-cece-4b38-8020-1a6685ecbe7e",
   "metadata": {},
   "source": [
    "### $Q_3$統計量\n",
    "\n",
    "$Q_3$統計量は局所独立性の検証に使われる統計量\n",
    "\n",
    ":::{admonition}\n",
    "\n",
    "$Q_3$統計量は任意の項目のペア$j$と$j^\\prime$の間の局所独立性の指標として\n",
    "\n",
    "$$\n",
    "Q_{3, j j^{\\prime}} := r(d_j, d_{j^{\\prime}})\n",
    "$$\n",
    "\n",
    "と定義される。\n",
    "\n",
    "- $r(\\cdot, \\cdot)$：相関係数\n",
    "- $d_{ij} := u_{ij} - \\hat{P}_j(\\hat{\\theta}_i)$ ：推定値によるICC$\\hat{P}_j(\\hat{\\theta}_i)$と実測値$u_{ij}$の残差得点\n",
    "\n",
    ":::\n",
    "\n",
    "$Q_3$統計量は\n",
    "\n",
    "- $\\theta$によって項目間の相関関係が十分に説明されているとすれば、その影響を除去した残差得点同士の相関は0に近くなるはず\n",
    "- $\\theta$以外に項目間に相関をもたらす要因がある場合は$\\theta$の影響を除いてもなお相関が残る\n",
    "\n",
    "という考え方をとっている。\n",
    "\n",
    "目安としては、「$Q_3 > 0.20$の項目ペアは局所独立性の侵害を疑う必要がある」とされる。"
   ]
  },
  {
   "cell_type": "markdown",
   "id": "f84a4cc1-dd14-4097-9699-c06d3be4eda3",
   "metadata": {},
   "source": [
    "## スコアの検証"
   ]
  },
  {
   "cell_type": "markdown",
   "id": "b5a8b23a-52f0-4991-b614-c9e5cf541505",
   "metadata": {},
   "source": [
    "### Messickの妥当性概念\n",
    "\n",
    "| 側面（facet）                      | 内容（簡潔な説明）                                           |\n",
    "| ---------------------------------- | ------------------------------------------------------------ |\n",
    "| ① 内容的妥当性（Content）          | 測定内容が理論的構成概念をどれだけ網羅しているか             |\n",
    "| ② 構成概念妥当性（Substantive）    | 測定が理論に基づき、認知的に妥当か                           |\n",
    "| ③ 構造的妥当性（Structural）       | 得点構造が想定した構成概念と整合しているか（因子構造など）   |\n",
    "| ④ 外的妥当性（External）           | 他の指標との関係が理論通りか（収束的・弁別的妥当性）         |\n",
    "| ⑤ 結果的妥当性（Consequential）    | 測定の利用が社会的に望ましい結果をもたらすか（公正性・偏りなど） |\n",
    "| ⑥ 実証的妥当性（Generalizability） | 測定結果が一般化可能か（状況・集団を超えて妥当か）           |"
   ]
  },
  {
   "cell_type": "markdown",
   "id": "951d09a6-05e2-470c-b8e4-212f4966aa10",
   "metadata": {},
   "source": [
    "### 外的妥当性の検証\n",
    "\n",
    "スコアが「人間の肌感覚」など何らかの先行的に存在する指標を模倣している場合は、その模倣具合からある程度妥当性を検証できる\n",
    "\n",
    "例えば数件～数十件の受験者をサンプリングし、人間の肌感覚に従って昇順にソートしてもらい、それと推定された$\\hat{\\theta}$の順序相関を確認する"
   ]
  },
  {
   "cell_type": "markdown",
   "id": "13cab321-115a-4e02-8c0b-31a176a1bb7a",
   "metadata": {},
   "source": [
    "## 参考\n",
    "\n",
    "- [村山航. (2012). 妥当性概念の歴史的変遷と心理測定学的観点からの考察. 教育心理学年報, 51, 118-130.](https://www.jstage.jst.go.jp/article/arepj/51/0/51_118/_pdf)"
   ]
  },
  {
   "cell_type": "code",
   "execution_count": null,
   "id": "e9ba4308-fcc7-4fbd-a28c-4b5809710ab9",
   "metadata": {},
   "outputs": [],
   "source": []
  }
 ],
 "metadata": {
  "kernelspec": {
   "display_name": "Python 3 (ipykernel)",
   "language": "python",
   "name": "python3"
  },
  "language_info": {
   "codemirror_mode": {
    "name": "ipython",
    "version": 3
   },
   "file_extension": ".py",
   "mimetype": "text/x-python",
   "name": "python",
   "nbconvert_exporter": "python",
   "pygments_lexer": "ipython3",
   "version": "3.10.18"
  }
 },
 "nbformat": 4,
 "nbformat_minor": 5
}
