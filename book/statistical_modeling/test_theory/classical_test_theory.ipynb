{
 "cells": [
  {
   "cell_type": "markdown",
   "id": "873100c8-9cdd-4a84-84b1-5165c505bebc",
   "metadata": {},
   "source": [
    "# 古典的テスト理論"
   ]
  },
  {
   "cell_type": "markdown",
   "id": "c7ffd444-8920-49ab-b075-97abe5c7dded",
   "metadata": {},
   "source": [
    "## 項目識別力\n",
    "\n",
    "項目得点とテスト得点の相関係数（biserial or point-biserial）で測る\n"
   ]
  },
  {
   "cell_type": "markdown",
   "id": "9b8c3cbe-2821-4ce7-9334-274c2cf7d114",
   "metadata": {},
   "source": [
    "## CTTの問題\n",
    "\n",
    "標本依存性と項目依存性"
   ]
  },
  {
   "cell_type": "code",
   "execution_count": null,
   "id": "ad46e0e0-ac94-44d4-912c-cadb30a127e1",
   "metadata": {},
   "outputs": [],
   "source": []
  }
 ],
 "metadata": {
  "kernelspec": {
   "display_name": "Python 3 (ipykernel)",
   "language": "python",
   "name": "python3"
  },
  "language_info": {
   "codemirror_mode": {
    "name": "ipython",
    "version": 3
   },
   "file_extension": ".py",
   "mimetype": "text/x-python",
   "name": "python",
   "nbconvert_exporter": "python",
   "pygments_lexer": "ipython3",
   "version": "3.10.17"
  }
 },
 "nbformat": 4,
 "nbformat_minor": 5
}
