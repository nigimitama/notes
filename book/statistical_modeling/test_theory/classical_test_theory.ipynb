{
 "cells": [
  {
   "cell_type": "markdown",
   "id": "873100c8-9cdd-4a84-84b1-5165c505bebc",
   "metadata": {},
   "source": [
    "# 古典的テスト理論"
   ]
  },
  {
   "cell_type": "markdown",
   "id": "e58b32cf-8d12-42dc-80a3-2b21744b02b6",
   "metadata": {},
   "source": [
    "**古典的テスト理論（classical test theory: CTT）** は20世紀初頭から、IRTが発展する1950年代ごろまでに発展したテスト理論。\n",
    "\n",
    "現代テスト理論（IRT）で完全に置き換わったというわけではなく、IRTが不要な問題設定ではいまも利用される。"
   ]
  },
  {
   "cell_type": "markdown",
   "id": "fcbefb50-25a7-401a-8baa-5524f8708002",
   "metadata": {},
   "source": [
    "## 項目反応とテスト得点\n",
    "\n",
    "### 項目\n",
    "\n",
    "テストを構成する個々の設問は **項目（item）** と呼ばれる。正当・誤答の二値の反応だけのデータの場合、$i$番目の受験者の項目$j$への回答を$u_{ij}$とすると、\n",
    "\n",
    "$$\n",
    "u_{i j}= \\begin{cases}1 & \\text { 正答のとき } \\\\ 0 & \\text { 誤答のとき }\\end{cases}\n",
    "$$\n",
    "\n",
    "と表現できる。\n",
    "\n",
    "### 項目反応パタン\n",
    "\n",
    "$i$番目の受験者の$J$個の項目への反応をまとめて\n",
    "\n",
    "\n",
    "$$\n",
    "\\mathbf{u}_i=\\left(u_{i 1}, u_{i 2}, \\ldots, u_{i J}\\right)\n",
    "$$\n",
    "\n",
    "と行ベクトルで表す。この$\\mathbf{u}_i$は **項目反応パターン（item response pattern）** と呼ばれる。\n",
    "\n"
   ]
  },
  {
   "cell_type": "markdown",
   "id": "6fba7ac6-44ad-4e72-968b-c92430042818",
   "metadata": {},
   "source": [
    "### 項目反応パタン行列\n",
    "\n",
    "項目反応パタンを縦に全受験者$I$人分並べた行列を **項目反応パタン行列** あるいは **項目反応データ行列** という。\n",
    "\n",
    "$$\n",
    "\\mathbf{U}=\\left[\\begin{array}{c}\n",
    "\\mathbf{u}_1 \\\\\n",
    "\\mathbf{u}_2 \\\\\n",
    "\\vdots \\\\\n",
    "\\mathbf{u}_i \\\\\n",
    "\\vdots \\\\\n",
    "\\mathbf{u}_I\n",
    "\\end{array}\\right]=\\left[\\begin{array}{cccccc}\n",
    "u_{11} & u_{12} & \\cdots & u_{1 j} & \\cdots & u_{1 J} \\\\\n",
    "u_{21} & u_{22} & \\cdots & u_{2 j} & \\cdots & u_{2 J} \\\\\n",
    "\\vdots & \\vdots & & \\vdots & & \\vdots \\\\\n",
    "u_{i 1} & u_{i 2} & \\cdots & u_{i j} & \\cdots & u_{i J} \\\\\n",
    "\\vdots & \\vdots & & \\vdots & & \\vdots \\\\\n",
    "u_{I 1} & u_{I 2} & \\cdots & u_{I j} & \\cdots & u_{I J}\n",
    "\\end{array}\\right]\n",
    "$$\n"
   ]
  },
  {
   "cell_type": "markdown",
   "id": "ede1079f-0c92-4146-9d41-e12e21d7a5c2",
   "metadata": {},
   "source": [
    "### 素点\n",
    "\n",
    "$i$番目の受験者のテスト得点を$y_i$とすると、これは行ベクトル$\\mathbf{u}_i$を足し合わせればよいので\n",
    "\n",
    "$$\n",
    "y_i=\\sum_{j=1}^J u_{i j}\n",
    "$$\n",
    "\n",
    "となる。このような正当項目数による得点を **正答数得点 (number of right score)** あるいは **素点 (raw score)** と呼ぶ。\n"
   ]
  },
  {
   "cell_type": "markdown",
   "id": "c7ffd444-8920-49ab-b075-97abe5c7dded",
   "metadata": {},
   "source": [
    "## 項目識別力\n",
    "\n",
    "項目得点とテスト得点の相関係数（biserial or point-biserial）で測る\n"
   ]
  },
  {
   "cell_type": "markdown",
   "id": "9b8c3cbe-2821-4ce7-9334-274c2cf7d114",
   "metadata": {},
   "source": [
    "## CTTの問題\n",
    "\n",
    "標本依存性と項目依存性"
   ]
  },
  {
   "cell_type": "code",
   "execution_count": null,
   "id": "ad46e0e0-ac94-44d4-912c-cadb30a127e1",
   "metadata": {},
   "outputs": [],
   "source": []
  }
 ],
 "metadata": {
  "kernelspec": {
   "display_name": "Python 3 (ipykernel)",
   "language": "python",
   "name": "python3"
  },
  "language_info": {
   "codemirror_mode": {
    "name": "ipython",
    "version": 3
   },
   "file_extension": ".py",
   "mimetype": "text/x-python",
   "name": "python",
   "nbconvert_exporter": "python",
   "pygments_lexer": "ipython3",
   "version": "3.10.17"
  }
 },
 "nbformat": 4,
 "nbformat_minor": 5
}
