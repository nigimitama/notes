{
 "cells": [
  {
   "cell_type": "markdown",
   "id": "2b36958e-e8d2-44a8-864e-bb0dfe666ac4",
   "metadata": {},
   "source": [
    "# 事前分布"
   ]
  },
  {
   "cell_type": "markdown",
   "id": "ea6ed299-f087-4ef5-9386-567f027c097b",
   "metadata": {},
   "source": [
    "## 参考\n",
    "\n",
    ":::{admonition} Prior Choice Recommendations\n",
    ":class: tip\n",
    "\n",
    "[Prior Choice Recommendations · stan-dev/stan Wiki](https://github.com/stan-dev/stan/wiki/Prior-Choice-Recommendations)\n",
    "\n",
    "stanのガイド。参考文献つきで非常に丁寧に説明されている\n",
    ":::\n"
   ]
  }
 ],
 "metadata": {
  "kernelspec": {
   "display_name": "Python 3 (ipykernel)",
   "language": "python",
   "name": "python3"
  },
  "language_info": {
   "codemirror_mode": {
    "name": "ipython",
    "version": 3
   },
   "file_extension": ".py",
   "mimetype": "text/x-python",
   "name": "python",
   "nbconvert_exporter": "python",
   "pygments_lexer": "ipython3",
   "version": "3.10.15"
  }
 },
 "nbformat": 4,
 "nbformat_minor": 5
}
