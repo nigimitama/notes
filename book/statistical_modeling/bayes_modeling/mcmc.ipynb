{
 "cells": [
  {
   "cell_type": "markdown",
   "id": "707612b9-0d44-4e55-ac8c-d38d034b6a15",
   "metadata": {},
   "source": [
    "# MCMC法"
   ]
  },
  {
   "cell_type": "markdown",
   "id": "f71c6f7f-93d0-4a50-849f-e36c13b51671",
   "metadata": {},
   "source": [
    "## マルコフ連鎖\n",
    "\n",
    "- ある状態から、別の状態に推移する確率だけが決まっている\n",
    "- 1期前だけで決まる\n",
    "- 連鎖はずっと続く（0%/100%がない）\n",
    "\n",
    "$t$期の確率変数を$y_t$とし、確率過程を$\\{y_t\\}^\\infty_{t=0}$と表すことにする。\n",
    "\n",
    "マルコフ過程では、確率変数$y_t$の確率密度関数が一期前にのみ依存するため\n",
    "\n",
    "$$\n",
    "f(y_t|y_{t-1})\n",
    "$$\n",
    "\n",
    "となる\n"
   ]
  },
  {
   "cell_type": "markdown",
   "id": "61a14c53-0240-4c1b-91da-d11dcbd09cb1",
   "metadata": {},
   "source": [
    "### 定常分布\n",
    "\n",
    "各状態にたどり着く確率が変化しなくなってくる。これを**定常分布**という\n",
    "\n",
    "\n",
    "任意の状態A,Bについて、Aが生じる確率$S(A)$とAからBに遷移する確率$T(B|A)$が一致すること\n",
    "\n",
    "$$\n",
    "T(B|A)S(A) = T(A|B)S(B)\n",
    "$$\n",
    "\n",
    "を**詳細つり合い条件（detailed balance condition）**という。\n",
    "\n",
    "詳細釣り合い条件はマルコフ連鎖が定常分布に収束するための十分条件とされる。\n",
    "\n",
    "\n",
    "MCMCを使う場合は，この条件を満たすように 推移確率$T(𝜃'|𝜃)$を作りたい"
   ]
  },
  {
   "cell_type": "markdown",
   "id": "3483a67d-90be-4660-89a5-0d22602a5cdb",
   "metadata": {},
   "source": [
    "## メトロポリス・ヘイスティング（MH）法\n",
    "\n",
    "- 最も単純な方法\n",
    "- だいたいうまくいかない\n",
    "\n",
    "アルゴリズムの概要：\n",
    "\n",
    "1. 推移確率行列にまず適当な確率分布を置く\n",
    "   - 正規分布がよく使われる\n",
    "   - $T(\\theta'|\\theta)=N(\\theta, \\sigma)$\n",
    "2. その提案分布を補正する処置を施す\n",
    "   - $r N(\\theta, \\sigma)$\n",
    "   - 提案分布からの採用率を、尤度と事前分布から計算する\n",
    "\n",
    "$$\n",
    "r=\\frac{\n",
    "    N\\left(\\theta^{\\prime} \\mid \\theta, \\sigma\\right) P(\\theta \\mid y)\n",
    "}{\n",
    "    N\\left(\\theta \\mid \\theta^{\\prime}, \\sigma\\right) P\\left(\\theta^{\\prime} \\mid y\\right)\n",
    "}\n",
    "$$\n",
    "\n",
    "正規分布は左右対称→$N\\left(\\theta^{\\prime} \\mid \\theta, \\sigma\\right)$と$N\\left(\\theta \\mid \\theta^{\\prime}, \\sigma\\right)$は一致するので約分できる"
   ]
  },
  {
   "cell_type": "markdown",
   "id": "86df9195-4dd6-4634-b669-39df8fd01dc6",
   "metadata": {},
   "source": [
    "## ハミルトニアン・モンテカルロ（HMC）法\n",
    "\n",
    "ハミルトニアン方程式を使って推移確率行列を構成\n",
    "• 勾配情報をつかい、運動エネルギーと位置を更新していく\n",
    "\n",
    "\n",
    "\n",
    "### NUTS\n",
    "\n",
    "- not u-turn\n",
    "- HMCの改良版\n",
    "  - 更新頻度とハイパーパラメータを自動調整\n",
    "  - Stanに実装されている"
   ]
  },
  {
   "cell_type": "code",
   "execution_count": null,
   "id": "7f6e11a5-8db7-41e5-9470-bf4f77473c23",
   "metadata": {},
   "outputs": [],
   "source": []
  }
 ],
 "metadata": {
  "kernelspec": {
   "display_name": "Python 3 (ipykernel)",
   "language": "python",
   "name": "python3"
  },
  "language_info": {
   "codemirror_mode": {
    "name": "ipython",
    "version": 3
   },
   "file_extension": ".py",
   "mimetype": "text/x-python",
   "name": "python",
   "nbconvert_exporter": "python",
   "pygments_lexer": "ipython3",
   "version": "3.10.15"
  }
 },
 "nbformat": 4,
 "nbformat_minor": 5
}
