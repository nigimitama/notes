{
 "cells": [
  {
   "cell_type": "markdown",
   "id": "e7761084-cea2-490e-88fa-0fe3ae2c04bb",
   "metadata": {},
   "source": [
    "# ベイズ統計モデリング\n",
    "\n",
    "## 目次\n",
    "\n",
    ":::{tableofconents}\n",
    ":::"
   ]
  }
 ],
 "metadata": {
  "kernelspec": {
   "display_name": "Python 3 (ipykernel)",
   "language": "python",
   "name": "python3"
  },
  "language_info": {
   "codemirror_mode": {
    "name": "ipython",
    "version": 3
   },
   "file_extension": ".py",
   "mimetype": "text/x-python",
   "name": "python",
   "nbconvert_exporter": "python",
   "pygments_lexer": "ipython3",
   "version": "3.9.16"
  }
 },
 "nbformat": 4,
 "nbformat_minor": 5
}
