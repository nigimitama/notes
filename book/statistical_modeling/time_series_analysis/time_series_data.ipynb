{
 "cells": [
  {
   "cell_type": "markdown",
   "id": "5f431c47-07ee-424a-be2a-001fee78c9e1",
   "metadata": {},
   "source": [
    "# 時系列データの特徴"
   ]
  },
  {
   "cell_type": "markdown",
   "id": "ba2a2ce9-49e1-4f59-b19a-377c4e4d1f40",
   "metadata": {},
   "source": [
    "## 時系列データ\n",
    "\n",
    "時系列分析では、各時点$t$（$t=1,\\dots,T$）で観測されたデータ\n",
    "\n",
    "$$\n",
    "\\{y_t\\}_{t=1}^T\n",
    "$$\n",
    "\n",
    "を、ある確率変数列$\\{y_t\\}_{t=-\\infty}^{\\infty}$からの1つの実現値とみなし、その確率変数列の生成過程に関する性質や構造を仮定（モデリング）していく。\n",
    "\n",
    "この$\\{y_t\\}_{t=-\\infty}^{\\infty}$を**データ生成過程（data generating process: DGP）**や**確率過程（stochastic process）**とよぶ。\n"
   ]
  },
  {
   "cell_type": "markdown",
   "id": "3bbc497c-577b-4c7c-a57f-e3396dc6644a",
   "metadata": {},
   "source": [
    "### 対数系列、差分系列\n",
    "\n",
    "時系列分析においては、もとのデータは**原系列**と呼ばれ、前処理した系列のことをそれぞれ次のように呼ぶ\n",
    "\n",
    "- **対数系列**…対数変換したもの：$\\log y_t$\n",
    "- **差分系列**（**階差系列**）…差分をとったもの：$\\Delta y_t = y_t - y_{t-1}$\n",
    "- **対数差分系列**…対数系列の差分。変化率$(y_t-y_{t-1})/y_{t-1}$の近似：$\\Delta \\log y_t$\n",
    "\n",
    ":::{admonition} 対数差分による変化率の近似\n",
    "対数の計算規則から\n",
    "\n",
    "$$\n",
    "\\log \\left(y_t\\right) - \\log \\left(y_{t-1}\\right)\n",
    "=\\log \\left(\\frac{y_t}{y_{t-1}}\\right)\n",
    "=\\log \\left(1+\\frac{y_t-y_{t-1}}{y_{t-1}}\\right)\n",
    "$$\n",
    "\n",
    "となる。また1次のテイラー近似により、小さい$x$に対して\n",
    "\n",
    "$$\n",
    "\\log(1 + x) = x - \\frac{x^2}{2} + \\frac{x^3}{3} - \\frac{x^4}{4} + \\cdots\n",
    "\\approx x\n",
    "$$\n",
    "\n",
    "ゆえに\n",
    "\n",
    "$$\n",
    "\\log \\left(1+\\frac{y_t-y_{t-1}}{y_{t-1}}\\right)\n",
    "\\approx \\frac{y_t-y_{t-1}}{y_{t-1}}\n",
    "$$\n",
    ":::"
   ]
  },
  {
   "cell_type": "markdown",
   "id": "0f9513b8-6243-4238-a563-bcd7bb216c1e",
   "metadata": {},
   "source": [
    "## 定常性\n",
    "\n",
    "時間によって分布の形状が変化する場合、分析の難度が上がる。\n",
    "定常性（stationary）が仮定できる確率過程であれば、各時点におけるサンプルが同じ分布から得られたものと捉えて一般的な統計解析の枠組みを援用しやすい。\n",
    "\n",
    "厳密には弱定常性と強定常性がある。\n",
    "\n",
    "- 弱定常性：過程の期待値と自己共分散が時間を通じて一定である\n",
    "- 強定常性：同時分布が時間を通じて不変である\n",
    "\n",
    "\n"
   ]
  },
  {
   "cell_type": "markdown",
   "id": "ad213975-48f9-497c-8f08-da6d59f991f8",
   "metadata": {},
   "source": [
    "\n",
    ":::{admonition} 定義（弱定常性）\n",
    "任意の$t$と$k$に対して、\n",
    "\n",
    "$$\n",
    "\\begin{aligned}\n",
    "E\\left(y_t\\right)\n",
    "&=\\mu \\\\\n",
    "\\operatorname{Cov}\\left(y_t, y_{t-k}\\right)\n",
    "&=E\\left[\\left(y_t-\\mu\\right)\\left(y_{t-k}-\\mu\\right)\\right]=\\gamma_k\n",
    "\\end{aligned}\n",
    "$$\n",
    "\n",
    "が成立する場合、過程は**弱定常**（weak stationary）といわれる\n",
    ":::\n"
   ]
  },
  {
   "cell_type": "markdown",
   "id": "6296c0af-b03b-40b2-b779-6fe5671426b9",
   "metadata": {},
   "source": [
    "\n",
    ":::{admonition} 定義（強定常性）\n",
    "任意の$t$と$k$に対して、\n",
    "\n",
    "$$\n",
    "(y_t, y_{t+1}, \\ldots, y_{t+k})^\\top\n",
    "$$\n",
    "\n",
    "の同時分布が同一となる場合、過程は**強定常**（strict stationary）と言われる\n",
    ":::\n"
   ]
  },
  {
   "cell_type": "markdown",
   "id": "6b11bef6-5934-45a6-95d8-2640a5f46e99",
   "metadata": {},
   "source": [
    "## ホワイトノイズ"
   ]
  },
  {
   "cell_type": "markdown",
   "id": "095e9ad5-f765-447d-a090-674b59daab1c",
   "metadata": {},
   "source": [
    "### iid系列\n",
    "\n",
    "各時点のデータが互いに独立でかつ同一の分布に従う系列は **iid系列** と呼ばれる。\n",
    "\n",
    "時系列データにおいてi.i.dを仮定できることはまれだが、**撹乱項（disturbance term）**をi.i.d.で仮定することはできる。\n",
    "また、もっと仮定が弱いものでホワイトノイズというものもある。\n",
    "\n",
    "\n",
    "### ホワイトノイズ\n",
    "\n",
    ":::{admonition} 定義（ホワイトノイズ）\n",
    "すべての時点$t$において\n",
    "\n",
    "$$\n",
    "\\begin{aligned}\n",
    "E\\left(\\varepsilon_t\\right) &= 0 \\\\\n",
    "Cov[\\varepsilon_t, \\varepsilon_{t-k}]\n",
    "& =E(\\varepsilon_t \\varepsilon_{t-k}) = \\begin{cases}\\sigma^2, & k=0 \\\\\n",
    "0, & k \\neq 0\\end{cases}\n",
    "\\end{aligned}\n",
    "$$\n",
    "\n",
    "が成立するとき、$\\varepsilon_t$は**ホワイトノイズ（white noise）**と呼ばれる\n",
    ":::\n",
    "\n",
    "ホワイトノイズはすべての時点において期待値がゼロで、分散が一定の確率過程である"
   ]
  },
  {
   "cell_type": "code",
   "execution_count": null,
   "id": "f9f0cb0e-d5fd-4e6c-8750-afa51dba3787",
   "metadata": {},
   "outputs": [],
   "source": []
  }
 ],
 "metadata": {
  "kernelspec": {
   "display_name": "Python 3 (ipykernel)",
   "language": "python",
   "name": "python3"
  },
  "language_info": {
   "codemirror_mode": {
    "name": "ipython",
    "version": 3
   },
   "file_extension": ".py",
   "mimetype": "text/x-python",
   "name": "python",
   "nbconvert_exporter": "python",
   "pygments_lexer": "ipython3",
   "version": "3.10.14"
  }
 },
 "nbformat": 4,
 "nbformat_minor": 5
}
