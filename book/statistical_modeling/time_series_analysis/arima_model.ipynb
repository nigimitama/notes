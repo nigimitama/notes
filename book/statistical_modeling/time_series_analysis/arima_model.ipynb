{
 "cells": [
  {
   "cell_type": "markdown",
   "id": "218d43e2-9a11-410f-ac27-86ff043341bd",
   "metadata": {},
   "source": [
    "# ARIMAモデル"
   ]
  },
  {
   "cell_type": "markdown",
   "id": "4e014e6a-1f32-4887-bcb1-619dbd3995e5",
   "metadata": {},
   "source": [
    "## Box-Jenkins法\n",
    "\n",
    "Box-Jenkins法は、時系列データの分析のフレームワーク。\n",
    "\n",
    "以下の手順で分析を行う\n",
    "\n",
    "1. データを分析しやすくなるよう変換する（定常過程にする）\n",
    "2. ARIMAモデル系のモデルを適用する\n",
    "3. モデルの適合性を評価する\n",
    "4. モデルを用いて予測する"
   ]
  },
  {
   "cell_type": "markdown",
   "id": "7eb2243d-1b18-4008-aca9-67203033d21d",
   "metadata": {},
   "source": [
    "## ARモデル\n",
    "\n",
    "**自己回帰（AR）過程** （autoregressive process）は、過程が自身の過去に回帰された形で表現される過程。1次AR過程は\n",
    "\n",
    "$$\n",
    "y_t=c+\\phi_1 y_{t-1}+\\varepsilon_t, \\quad \\varepsilon_t \\sim \\text { W.N. }\\left(\\sigma^2\\right)\n",
    "$$\n",
    "\n"
   ]
  },
  {
   "cell_type": "markdown",
   "id": "ca7820fd-1c84-40d2-87b9-a7213cefb12e",
   "metadata": {},
   "source": [
    "### 特性方程式と定常性"
   ]
  },
  {
   "cell_type": "markdown",
   "id": "975faa83-7171-4af6-b740-8de65c9642ab",
   "metadata": {},
   "source": [
    "## MAモデル\n",
    "\n",
    "**移動平均（MA）過程** （moving average process） はホワイトノイズの線形和による過程。1次MA過程$MA(1)$は\n",
    "\n",
    "$$\n",
    "y_t=\\mu+\\varepsilon_t+\\theta_1 \\varepsilon_{t-1}, \\quad \\varepsilon_t \\sim \\text { W.N. }\\left(\\sigma^2\\right)\n",
    "$$"
   ]
  },
  {
   "cell_type": "markdown",
   "id": "bd4fef70-2be7-49d2-a417-fbfeb8577eb8",
   "metadata": {},
   "source": [
    "## ARMAモデル"
   ]
  },
  {
   "cell_type": "markdown",
   "id": "40f74813-0bc4-4241-91ac-f6476f7aec85",
   "metadata": {},
   "source": [
    "## ARIMAモデル"
   ]
  },
  {
   "cell_type": "markdown",
   "id": "7c8f9723-74d9-460e-9393-ab01406fc7b5",
   "metadata": {},
   "source": [
    "## SARIMAモデル"
   ]
  },
  {
   "cell_type": "code",
   "execution_count": null,
   "id": "95102929-478c-4882-bb04-3c26ede63c7d",
   "metadata": {},
   "outputs": [],
   "source": []
  }
 ],
 "metadata": {
  "kernelspec": {
   "display_name": "Python 3 (ipykernel)",
   "language": "python",
   "name": "python3"
  },
  "language_info": {
   "codemirror_mode": {
    "name": "ipython",
    "version": 3
   },
   "file_extension": ".py",
   "mimetype": "text/x-python",
   "name": "python",
   "nbconvert_exporter": "python",
   "pygments_lexer": "ipython3",
   "version": "3.10.14"
  }
 },
 "nbformat": 4,
 "nbformat_minor": 5
}
