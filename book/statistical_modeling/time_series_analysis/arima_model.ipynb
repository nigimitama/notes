{
 "cells": [
  {
   "cell_type": "markdown",
   "id": "218d43e2-9a11-410f-ac27-86ff043341bd",
   "metadata": {},
   "source": [
    "# ARIMAモデル"
   ]
  },
  {
   "cell_type": "markdown",
   "id": "4e014e6a-1f32-4887-bcb1-619dbd3995e5",
   "metadata": {},
   "source": [
    "## Box-Jenkins法\n",
    "\n",
    "Box-Jenkins法は、時系列データの分析のフレームワーク。\n",
    "\n",
    "以下の手順で分析を行う\n",
    "\n",
    "1. データを分析しやすくなるよう変換する（定常過程にする）\n",
    "2. ARIMAモデル系のモデルを適用する\n",
    "3. モデルの適合性を評価する\n",
    "4. モデルを用いて予測する"
   ]
  },
  {
   "cell_type": "markdown",
   "id": "7eb2243d-1b18-4008-aca9-67203033d21d",
   "metadata": {},
   "source": [
    "## ARモデル"
   ]
  },
  {
   "cell_type": "markdown",
   "id": "bd4fef70-2be7-49d2-a417-fbfeb8577eb8",
   "metadata": {},
   "source": [
    "## ARMAモデル"
   ]
  },
  {
   "cell_type": "markdown",
   "id": "40f74813-0bc4-4241-91ac-f6476f7aec85",
   "metadata": {},
   "source": [
    "## ARIMAモデル"
   ]
  },
  {
   "cell_type": "markdown",
   "id": "7c8f9723-74d9-460e-9393-ab01406fc7b5",
   "metadata": {},
   "source": [
    "## SARIMAモデル"
   ]
  },
  {
   "cell_type": "code",
   "execution_count": null,
   "id": "95102929-478c-4882-bb04-3c26ede63c7d",
   "metadata": {},
   "outputs": [],
   "source": []
  }
 ],
 "metadata": {
  "kernelspec": {
   "display_name": "Python 3 (ipykernel)",
   "language": "python",
   "name": "python3"
  },
  "language_info": {
   "codemirror_mode": {
    "name": "ipython",
    "version": 3
   },
   "file_extension": ".py",
   "mimetype": "text/x-python",
   "name": "python",
   "nbconvert_exporter": "python",
   "pygments_lexer": "ipython3",
   "version": "3.9.18"
  }
 },
 "nbformat": 4,
 "nbformat_minor": 5
}
