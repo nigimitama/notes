{
 "cells": [
  {
   "cell_type": "markdown",
   "id": "3bef89d3-cd08-4858-8334-cddca94b654a",
   "metadata": {},
   "source": [
    "# Bayesian Structural Time Series (BSTS)\n",
    "\n",
    ":::{card} \n",
    "\n",
    "- Scott & Varian (2015) [Bayesian variable selection for nowcasting economic time series.](https://www.nber.org/books-and-chapters/economic-analysis-digital-economy/bayesian-variable-selection-nowcasting-economic-time-series)\n",
    "- Scott & Varian (2014) [Predicting the present with Bayesian structural time series.](https://www.inderscienceonline.com/doi/abs/10.1504/IJMMNO.2014.059942)\n",
    "\n",
    ":::\n",
    "\n",
    "\n",
    "統計学者Steven Scottと経済学者Hal Varianが提案したnowcastingモデル（直近の予測や現時点の欠測値を予測することもできる）\n",
    "\n",
    "説明変数が多次元の状態空間モデルで、Lassoのように説明変数の選択を行う仕組み（spike and slab事前分布）を導入している\n",
    "\n",
    "### モデル\n",
    "\n",
    "構造時系列モデル（状態空間モデル）\n",
    "\n",
    "- 観測方程式：$y_t = Z_t^{\\mathrm{T}} \\alpha_t+\\varepsilon_t, \\quad \\varepsilon_t \\sim \\mathcal{N}\\left(0, \\sigma_t^2\\right)$\n",
    "- 状態方程式：$\\alpha_{t+1} = T_t \\alpha_t+R_t \\eta_t, \\quad \\eta_t \\sim \\mathcal{N}\\left(0, Q_t\\right)$"
   ]
  },
  {
   "cell_type": "markdown",
   "id": "f67b2c80-c82e-4f2c-b55d-e5b415cc068f",
   "metadata": {},
   "source": [
    "### 状態の構成要素\n",
    "\n",
    "#### 局所線形トレンド（local linear trend）\n",
    "\n",
    "$$\n",
    "\\begin{aligned}\n",
    "\\mu_{t+1} & =\\mu_t+\\delta_t+\\eta_{\\mu, t}, & \\eta_{\\mu, t} \\sim \\mathcal{N}\\left(0, \\sigma_\\mu^2\\right) \\\\\n",
    "\\delta_{t+1} & =\\delta_t+\\eta_{\\delta, t}, & \\eta_{\\delta, t} \\sim \\mathcal{N}\\left(0, \\sigma_\\delta^2\\right)\n",
    "\\end{aligned}\n",
    "$$\n",
    "\n",
    "- $\\mu_t$：水準\n",
    "- $\\delta_t$：傾き\n",
    "\n",
    "#### 季節成分（Seasonality）\n",
    "\n",
    "$$\n",
    "\\gamma_{t+1}=-\\sum_{s=0}^{S-2} \\gamma_{t-s}+\\eta_{\\gamma, t}\n",
    "$$\n",
    "\n",
    "- $S$は季節数（例：$S=7$なら曜日効果）\n",
    "- 総和がゼロになるように構成\n",
    "\n",
    "#### 回帰成分（Regression Component）\n",
    "\n",
    "静的または動的係数による回帰\n",
    "\n",
    "$$\n",
    "y_t=x_t^{\\top} \\beta_t+\\varepsilon_t\n",
    "$$\n",
    "\n",
    "- 静的：$\\beta_t = \\beta$\n",
    "- 動的：$\\beta_{t+1} = \\beta_t + \\eta_{\\beta,t}$\n"
   ]
  },
  {
   "cell_type": "markdown",
   "id": "4ddc9995-a85a-45f0-a6c6-ca010941f1b5",
   "metadata": {},
   "source": [
    "### Spike-and-Slab 事前分布\n",
    "\n",
    "Spike-and-Slab事前分布はベイズ線形回帰などで変数選択に用いられるスパース事前分布\n",
    "\n",
    ":::{admonition} Spike-and-Slab 事前分布\n",
    "\n",
    "$$\n",
    "p(\\rho, \\beta, 1/\\sigma_\\varepsilon^2)\n",
    "= p(\\rho)\\, p(\\sigma_\\varepsilon^2 \\mid \\rho)\\, p(\\beta_\\rho \\mid \\rho, \\sigma_\\varepsilon^2)\n",
    "$$\n",
    "\n",
    "- $\\rho$ ：**変数選択ベクトル**。各説明変数 $x_j$ がモデルに含まれるか（$\\rho_j=1$）含まれないか（$\\rho_j=0$）を表す。すなわち、 $\\rho_j=1$ のとき $\\beta_j \\neq 0$ となる。\n",
    "- $\\beta$ ：回帰係数ベクトル。各 $\\beta_j$ は説明変数 $x_j$ の影響度を示す。\n",
    "- $\\sigma_\\varepsilon^2$ ：残差（観測誤差）分散。時系列ノイズの強さを表す。\n",
    "\n",
    ":::\n"
   ]
  },
  {
   "cell_type": "markdown",
   "id": "dc3dcd9c-feae-4c95-97cd-5257f730e199",
   "metadata": {},
   "source": [
    "#### $p(\\rho)$ ：スパイク部分（変数選択）\n",
    "\n",
    "各変数が選ばれる確率（inclusion probability）に関する事前分布。独立ベルヌーイ分布を仮定する。\n",
    "\n",
    "スパイク部分では、各説明変数 $x_j$ がモデルに含まれるかをベルヌーイ確率変数で表します。\n",
    "\n",
    "$$\n",
    "p(\\rho) = \\prod_{j=1}^J \\pi_j^{\\rho_j} (1 - \\pi_j)^{1 - \\rho_j}\n",
    "$$\n",
    "\n",
    "ここで、$\\pi_j$ は 変数 $j$ がモデルに含まれる事前確率で、一般には期待されるモデルサイズ $M$ に基づき、  \n",
    "\n",
    "$$\n",
    "\\pi_j = \\frac{M}{J}\n",
    "$$  \n",
    "\n",
    "のように設定される（ただし、特定変数を必ず含めたい場合は $\\pi_j = 1$ とするなど調整可能）。\n"
   ]
  },
  {
   "cell_type": "markdown",
   "id": "1941e482-8df1-4182-9ff8-2461713d8611",
   "metadata": {},
   "source": [
    "#### $p(\\beta_\\rho \\mid \\rho, \\sigma_\\varepsilon^2)$ ：スラブ部分（係数分布）\n",
    "\n",
    "モデルに採用された変数（$\\rho_j = 1$ のもの）の回帰係数ベクトル $\\beta_\\rho$ に対して、共役な正規分布を事前として与える。\n",
    "\n",
    "$$\n",
    "\\beta_\\rho \\mid \\sigma_\\varepsilon^2\n",
    "\\sim \\mathcal{N}\\!\\left(b_\\rho,\\, \\sigma_\\varepsilon^2 (\\Sigma_\\rho^{-1})^{-1}\\right)\n",
    "\\tag{2.10}\n",
    "$$\n",
    "\n",
    "ここで：\n",
    "- $b_\\rho$ は事前平均ベクトル（多くの場合 $b_\\rho = 0$ に設定）  \n",
    "- $\\Sigma_\\rho^{-1}$ は回帰係数の事前精度行列（Zellner の *g-prior* に基づく）\n",
    "\n",
    "##### Zellner の *g-prior* に基づく精度構造\n",
    "\n",
    "$\\Sigma_\\rho^{-1}$ は回帰係数の事前精度行列で、Zellner (1986) による *g-prior* を用いて次のように設定される。\n",
    "\n",
    "$$\n",
    "\\Sigma^{-1}\n",
    "= \\frac{g}{n} \\left\\{\\, w X'X + (1-w)\\,\\text{diag}(X'X) \\,\\right\\}\n",
    "\\tag{2.12}\n",
    "$$\n",
    "\n",
    "- $g$：データ情報量に対するスケール（「$g$ 個分の観測情報を持つ」という意味）  \n",
    "- $w$：$X'X$ 全体とその対角要素の重み付け比率（安定性を確保するため導入）\n",
    "\n",
    "この構造により、$X'X$ が非正定値の場合でも事前分布の正則性（propriety）が保証される。\n"
   ]
  },
  {
   "cell_type": "markdown",
   "id": "4812a9d3-2579-4c9a-bf4a-69b383aeafe8",
   "metadata": {},
   "source": [
    "#### 残差分散の事前分布\n",
    "\n",
    "残差分散 $\\sigma_\\varepsilon^2$ に対しては、共役な逆ガンマ分布を仮定します。\n",
    "\n",
    "$$\n",
    "\\frac{1}{\\sigma_\\varepsilon^2} \\sim \\mathcal{G}\\!\\left(\\frac{\\nu_\\varepsilon}{2},\\, \\frac{s_\\varepsilon}{2}\\right)\n",
    "\\tag{2.11}\n",
    "$$\n",
    "\n",
    "ここで、ハイパーパラメータは次のように設定されます：\n",
    "\n",
    "- $\\nu_\\varepsilon$: 擬似的な「観測数（情報量）」  \n",
    "- $s_\\varepsilon = \\nu_\\varepsilon (1 - R^2_y) s_y^2$  \n",
    "  （$R^2_y$ は事前的に期待される決定係数、$s_y^2$ は目的変数の分散）"
   ]
  },
  {
   "cell_type": "markdown",
   "id": "6854e96d-4eaf-493c-b36d-0aa7ab4b31ae",
   "metadata": {},
   "source": [
    "| 成分 | 役割 | 分布 |\n",
    "|------|------|------|\n",
    "| $p(\\rho)$ | 変数選択（スパイク） | 独立ベルヌーイ分布 |\n",
    "| $p(\\beta_\\rho \\mid \\rho, \\sigma_\\varepsilon^2)$ | 採用変数の係数（スラブ） | 正規分布 |\n",
    "| $p(1/\\sigma_\\varepsilon^2)$ | 誤差分散 | ガンマ分布 |\n",
    "\n",
    "\n",
    "これにより、\n",
    "- 重要な変数だけを自動的に選択し（スパイク）\n",
    "- 採用された係数に対して柔軟なガウス的事前を与える（スラブ）"
   ]
  },
  {
   "cell_type": "code",
   "execution_count": 10,
   "id": "4e9e4d2c-ab82-4bf4-b67c-8f2690bbac2b",
   "metadata": {
    "jupyter": {
     "source_hidden": true
    },
    "tags": [
     "hide-input"
    ]
   },
   "outputs": [
    {
     "data": {
      "image/png": "[encoded data removed]",
      "text/plain": [
       "<Figure size 500x300 with 1 Axes>"
      ]
     },
     "metadata": {},
     "output_type": "display_data"
    }
   ],
   "source": [
    "import numpy as np\n",
    "import matplotlib.pyplot as plt\n",
    "from scipy.stats import norm\n",
    "\n",
    "# ===== パラメータ設定 =====\n",
    "pi = 0.2           # inclusion probability (π)\n",
    "n = 100            # サンプルサイズ\n",
    "g = 100            # Zellner's g-prior parameter\n",
    "sigma_eps = 1.0    # 誤差分散 σ_ε\n",
    "XTX_diag = 5.0     # X'X の代表的スケール（単純化のため1次元想定）\n",
    "\n",
    "# Zellnerのg-priorに基づくスラブ分散\n",
    "slab_var = sigma_eps**2 * g / n / XTX_diag\n",
    "slab_std = np.sqrt(slab_var)\n",
    "\n",
    "# スパイク部分：δ(0)を幅の狭い正規分布で近似\n",
    "spike_std = 0.05\n",
    "w = np.linspace(-3, 3, 400)\n",
    "\n",
    "# 確率密度の計算\n",
    "spike_pdf = (1 - pi) * norm.pdf(w, 0, spike_std)\n",
    "slab_pdf = pi * norm.pdf(w, 0, slab_std)\n",
    "spike_slab_pdf = spike_pdf + slab_pdf\n",
    "\n",
    "# ===== 可視化 =====\n",
    "plt.figure(figsize=(5, 3), dpi=100)\n",
    "plt.plot(w, spike_pdf, \"--\", label=\"Spike (excluded, ρ=0)\", alpha=0.6)\n",
    "plt.plot(w, slab_pdf, \"--\", label=\"Slab (included, ρ=1)\", alpha=0.6)\n",
    "plt.plot(w, spike_slab_pdf, label=\"Spike-and-slab prior\", linewidth=2, alpha=0.6)\n",
    "\n",
    "plt.title(\"Spike-and-Slab Prior\")\n",
    "plt.xlabel(\"Coefficient value $β_j$\")\n",
    "plt.ylabel(\"Density\")\n",
    "plt.legend()\n",
    "plt.grid(alpha=0.3)\n",
    "plt.tight_layout()\n",
    "plt.show()\n"
   ]
  },
  {
   "cell_type": "markdown",
   "id": "4482e9cd-741d-4112-a8d3-e551eb63f52d",
   "metadata": {},
   "source": [
    "## 実装\n",
    "\n",
    "Rが本家。Pythonだと更新が数年間停止しているようなパッケージばかり\n",
    "\n",
    "[CRAN: Package bsts](https://cran.r-project.org/web/packages/bsts/index.html)"
   ]
  },
  {
   "cell_type": "markdown",
   "id": "9390cb13-4ffa-4f25-ad4d-3d237d2aa138",
   "metadata": {},
   "source": [
    "## 参考\n",
    "\n",
    "- [Inferring causal impact using Bayesian structural time-series models](https://research.google/pubs/inferring-causal-impact-using-bayesian-structural-time-series-models/)\n",
    "    - causalimpactの論文。BSTSの簡単な紹介がある\n",
    "- [[R] bsts (ベイズ構造時系列モデル) パッケージの使い方 - ill-identified diary](https://ill-identified.hatenablog.com/entry/2017/09/08/001002)\n",
    "- [Bayesian Structural Time Series](https://jasonlian.github.io/Rmarkdown/Tutorial_for_BSTS.html)"
   ]
  }
 ],
 "metadata": {
  "kernelspec": {
   "display_name": "Python 3 (ipykernel)",
   "language": "python",
   "name": "python3"
  },
  "language_info": {
   "codemirror_mode": {
    "name": "ipython",
    "version": 3
   },
   "file_extension": ".py",
   "mimetype": "text/x-python",
   "name": "python",
   "nbconvert_exporter": "python",
   "pygments_lexer": "ipython3",
   "version": "3.10.18"
  }
 },
 "nbformat": 4,
 "nbformat_minor": 5
}
