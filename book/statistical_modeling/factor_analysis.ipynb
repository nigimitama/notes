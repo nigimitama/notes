{
 "cells": [
  {
   "cell_type": "markdown",
   "id": "a228164f-c2d0-4635-aa29-c58c7ba28185",
   "metadata": {},
   "source": [
    "# 因子分析\n",
    "\n",
    "**因子分析**（factor analysis）はデータの分散を分解することによって何らかの共通性を抽出する手法である。\n",
    "\n",
    "心理学などの分野において、「リーダシップ」や「社交性」のような直接観測することができない**構成概念**（construct）を抽出するために用いられる。\n",
    "\n"
   ]
  },
  {
   "cell_type": "markdown",
   "id": "f8efa0b9-ac89-446a-998f-2e0b7e681e9c",
   "metadata": {},
   "source": [
    "## 因子分析モデル\n",
    "\n",
    "### 1因子モデル\n",
    "\n",
    "$p$次元の観測値が$n$個得られているとし、$i$番目の$j$次元のデータを$x_{ij}$と表すことにする。$x_{ij}$を標準化して平均0、分散1にしたデータを$z_{ij}$と表すことにする。\n",
    "\n",
    "1因子モデルは標準化データを次のように分解するモデルである。\n",
    "\n",
    "$$\n",
    "z_{ij} = a_j f_i + d_j u_{ij}\n",
    "$$\n",
    "\n",
    "ここで\n",
    "\n",
    "- $f_i$は観測対象$i$の**共通因子**（common factor）で、構成概念を表す\n",
    "- $u_{ij}$は**独自因子**（unique factor）と呼ばれ、構成概念で説明しきれない要因を表す\n",
    "- $a_j$は観測変数$j$の**因子負荷**（factor loading）で、観測変数$j$が共通因子から受ける影響の程度を表す\n",
    "- $d_j$は観測変数$j$の**独自係数**と呼ばれ、観測変数$j$が独自因子から受ける影響の程度を表す\n",
    "\n",
    "\n",
    "### $m$因子モデル\n",
    "\n",
    "$m$個の因子を扱うように拡張すると\n",
    "\n",
    "\n",
    "$$\n",
    "\\begin{align}\n",
    "z_{ij}\n",
    "&= a_{j1} f_{i1} + \\cdots + a_{jm} f_{im} + d_j u_{ij}\\\\\n",
    "&= \\sum^m_{l=1} a_{jl} f_{il} + d_j u_{ij}\\\\\n",
    "\\end{align}\n",
    "$$\n",
    "\n",
    "と表すことができる。"
   ]
  },
  {
   "cell_type": "code",
   "execution_count": 28,
   "id": "56e0ebea-226b-4e7f-9bb0-b543d0c0b99d",
   "metadata": {},
   "outputs": [
    {
     "name": "stderr",
     "output_type": "stream",
     "text": [
      "/usr/local/lib/python3.9/site-packages/statsmodels/multivariate/factor.py:419: UserWarning: Fitting did not converge\n",
      "  warnings.warn(\"Fitting did not converge\")\n"
     ]
    },
    {
     "data": {
      "text/html": [
       "<table class=\"simpletable\">\n",
       "<tr>\n",
       "  <td></td> <td></td> <td></td> <td></td>\n",
       "</tr>\n",
       "</table>\n",
       "<table class=\"simpletable\">\n",
       "<tr>\n",
       "  <td></td> <td>Communality</td> <td></td> <td></td>\n",
       "</tr>\n",
       "</table>\n",
       "<table class=\"simpletable\">\n",
       "<tr>\n",
       "  <td></td>   <th>英語</th>     <th>国語</th>     <th>数学</th>  \n",
       "</tr>\n",
       "<tr>\n",
       "  <th></th> <td>0.9977</td> <td>0.7723</td> <td>0.5347</td>\n",
       "</tr>\n",
       "</table>\n",
       "<table class=\"simpletable\">\n",
       "<tr>\n",
       "  <td></td> <td></td> <td></td> <td></td>\n",
       "</tr>\n",
       "</table>\n",
       "<table class=\"simpletable\">\n",
       "<tr>\n",
       "  <td></td> <td>Pre-rotated loadings</td> <td></td> <td></td>\n",
       "</tr>\n",
       "</table>\n",
       "<table class=\"simpletable\">\n",
       "<tr>\n",
       "   <td></td>  <th>factor 0</th>\n",
       "</tr>\n",
       "<tr>\n",
       "  <th>英語</th>  <td>0.9995</td> \n",
       "</tr>\n",
       "<tr>\n",
       "  <th>国語</th>  <td>0.8719</td> \n",
       "</tr>\n",
       "<tr>\n",
       "  <th>数学</th>  <td>0.7180</td> \n",
       "</tr>\n",
       "</table>\n",
       "<table class=\"simpletable\">\n",
       "<tr>\n",
       "  <td></td> <td></td> <td></td> <td></td>\n",
       "</tr>\n",
       "</table>"
      ],
      "text/plain": [
       "<class 'statsmodels.iolib.summary2.Summary'>\n",
       "\"\"\"\n",
       "Factor analysis results\n",
       "=======================\n",
       "                       \n",
       "-----------------------\n",
       "    Communality        \n",
       "------------------------\n",
       "    英語      国語      数学  \n",
       "------------------------\n",
       "  0.9977  0.7723  0.5347\n",
       "-----------------------\n",
       "                       \n",
       "-----------------------\n",
       " Pre-rotated loadings  \n",
       "-----------------------\n",
       "               factor 0\n",
       "-----------------------\n",
       "英語               0.9995\n",
       "国語               0.8719\n",
       "数学               0.7180\n",
       "-----------------------\n",
       "                       \n",
       "=======================\n",
       "\n",
       "\"\"\""
      ]
     },
     "execution_count": 28,
     "metadata": {},
     "output_type": "execute_result"
    }
   ],
   "source": [
    "import pandas as pd\n",
    "\n",
    "# テストの点数データ\n",
    "scores = pd.DataFrame([\n",
    "    {\"英語\": 98, \"国語\": 95, \"数学\": 75},\n",
    "    {\"英語\": 90, \"国語\": 75, \"数学\": 70},\n",
    "    {\"英語\": 60, \"国語\": 57, \"数学\": 80},\n",
    "    {\"英語\": 50, \"国語\": 70, \"数学\": 60},\n",
    "    {\"英語\": 30, \"国語\": 50, \"数学\": 40},\n",
    "])\n",
    "Z = (scores - scores.mean()) / scores.std()\n",
    "\n",
    "from statsmodels.multivariate.factor import Factor\n",
    "\n",
    "fa = Factor(Z, n_factor=1, method=\"ml\").fit()\n",
    "fa.summary()"
   ]
  },
  {
   "cell_type": "code",
   "execution_count": 31,
   "id": "eced271b-2241-41d9-ac5e-c7df2ce3184f",
   "metadata": {},
   "outputs": [
    {
     "data": {
      "text/plain": [
       "array([0.00228581, 0.22772564, 0.46534024])"
      ]
     },
     "execution_count": 31,
     "metadata": {},
     "output_type": "execute_result"
    }
   ],
   "source": [
    "fa.uniqueness"
   ]
  },
  {
   "cell_type": "code",
   "execution_count": 36,
   "id": "9ee26202-6a69-4aef-9681-f62ca035846c",
   "metadata": {},
   "outputs": [
    {
     "data": {
      "text/plain": [
       "array([[ 1.15171807],\n",
       "       [ 0.85998399],\n",
       "       [-0.19932969],\n",
       "       [-0.54814633],\n",
       "       [-1.26422604]])"
      ]
     },
     "execution_count": 36,
     "metadata": {},
     "output_type": "execute_result"
    }
   ],
   "source": [
    "# 共通因子スコア\n",
    "fa.factor_scoring(Z)"
   ]
  },
  {
   "cell_type": "markdown",
   "id": "8fd00292-4018-40e2-b69a-a0998f207e46",
   "metadata": {},
   "source": [
    "## 主成分分析との違い\n",
    "\n",
    "主成分分析も分散を分解して共通した成分を取り出す手法であり、因子分析と似ているが、誤差を分離するかどうかが異なる。\n",
    "\n",
    "因子分析は観測変数を共通した部分と誤差とに分解した上で共通因子を抽出するのに対し、主成分分析は誤差の分離を行わずに共通した部分を取り出そうとする。\n"
   ]
  },
  {
   "cell_type": "markdown",
   "id": "9b6331c7-afc4-4f2c-ba2f-72b9370ae873",
   "metadata": {},
   "source": [
    "## 妥当性と信頼性\n",
    "\n",
    "\n",
    "### 信頼性係数\n",
    "\n",
    "真の得点の分散の、テスト得点の分散に対する比を、テスト得点$y$の **信頼性係数 (reliability coefficient)** という。\n",
    "\n",
    "$$\n",
    "\\rho=\\frac{\\sigma_t^2}{\\sigma_y^2}\n",
    "=\\frac{\\sigma_t^2}{\\sigma_t^2+\\sigma_e^2}=1-\\frac{\\sigma_e^2}{\\sigma_y^2}\n",
    "$$\n",
    "\n",
    "信頼性係数は測定の誤差分散が小さいほど1に近い値をとり、誤差分散が大きいとき0に近い値をとる。\n",
    "\n",
    "### クロンバックの$\\alpha$係数\n",
    "\n",
    "信頼性係数$\\rho$は母集団レベルの話であり、標本の情報から推定するには別の値を使う。\n",
    "信頼性係数の推定方法はいくつかあるが、「項目を超えた一貫性」に関する検討を行うクロンバックのα係数が代表的。\n",
    "\n",
    "「項目を超えた一貫性」とは「テストに含まれる項目群を、同様の別の項目群に置き換えても結果は安定しているか」という考え方で、そういう意味での信頼性を近似的に与える指標がクロンバックのα係数である。\n",
    "\n",
    ":::{card} クロンバックの$\\alpha$\n",
    "\n",
    "$$\n",
    "\\alpha=\\frac{J}{J-1}\\left(1-\\frac{\\sum_{j=1}^J s_j^2}{s_y^2}\\right)\n",
    "$$\n",
    "\n",
    "- $J$：項目数\n",
    "- $s_y^2$：テスト得点の分散\n",
    "- $s_j^2$：項目$j$の分散\n",
    "\n",
    ":::\n",
    "\n",
    "\n",
    "$\\alpha$係数は\n",
    "\n",
    "- 項目間の相関が高いとき\n",
    "- 項目数が多いとき\n",
    "\n",
    "に高い値をとる。項目が多いだけでも高くなってしまうので注意が必要で参考程度に用いられる。\n",
    "\n",
    "\n",
    "測定の標準誤差（SEM）は信頼性係数の推定値$\\hat\\rho$を用いて推定される。\n",
    "\n",
    ":::{card} 測定の標準誤差（SEM）の推定量\n",
    "\n",
    "$$\n",
    "\\operatorname{SEM} = s_y \\sqrt{1-\\hat{\\rho}}\n",
    "$$\n",
    "\n",
    ":::\n",
    "\n",
    "\n",
    "\n",
    ":::{note}\n",
    "\n",
    "こうしたCTTの信頼性係数や測定の標準誤差の注意点は\n",
    "\n",
    "- 1つのテスト & 1つの受験者集団ごとに算出される\n",
    "- 異なる受験者集団に対して測定の標準誤差を求めると、異なる値が得られる（標本依存性）\n",
    "\n",
    ":::\n",
    "\n"
   ]
  },
  {
   "cell_type": "markdown",
   "id": "d2b54b07-b118-435c-80e0-abd764633b77",
   "metadata": {},
   "source": [
    "### Messickの妥当性概念\n",
    "\n",
    "Messickは妥当性検証のための側面を6つ挙げた。\n",
    "\n",
    "| 側面（facet）                      | 内容（簡潔な説明）                                           |\n",
    "| ---------------------------------- | ------------------------------------------------------------ |\n",
    "| ① 内容的妥当性（Content）          | 測定内容が理論的構成概念をどれだけ網羅しているか             |\n",
    "| ② 構成概念妥当性（Substantive）    | 測定が理論に基づき、認知的に妥当か                           |\n",
    "| ③ 構造的妥当性（Structural）       | 得点構造が想定した構成概念と整合しているか（因子構造など）   |\n",
    "| ④ 外的妥当性（External）           | 他の指標との関係が理論通りか（収束的・弁別的妥当性）         |\n",
    "| ⑤ 結果的妥当性（Consequential）    | 測定の利用が社会的に望ましい結果をもたらすか（公正性・偏りなど） |\n",
    "| ⑥ 実証的妥当性（Generalizability） | 測定結果が一般化可能か（状況・集団を超えて妥当か）           |\n",
    "\n",
    "上記6つの側面にわたる証拠が備えられていることが望ましい。しかし妥当性検証とは尺度が利用されることで明らかになる証拠を積み重ねるプロセスであるため、最初から全部を備えることは不可能。"
   ]
  },
  {
   "cell_type": "markdown",
   "id": "a7e5ab89-d2e9-4ff7-b9d7-2a5f0ffbef73",
   "metadata": {},
   "source": [
    "## 探索的因子分析\n",
    "\n",
    "**探索的因子分析**（exploratory factor analysis: EFA）は、因子と観測変数の関係についての仮説や制約を置かずに、観測変数のみから相関係数を計算し、観測変数間に相関関係をもたらす因子を推定する方法。\n",
    "\n",
    "たとえばモデルの因子の数は固有値から探索して決める。例えば「1より大きい固有値をもつ因子を採用する」とする（Guttman基準）\n",
    "\n"
   ]
  },
  {
   "cell_type": "markdown",
   "id": "9c8623d1-61cd-47c6-a4cb-0faaf2ea00ff",
   "metadata": {},
   "source": [
    "#### サンプルデータを生成して因子分析を実行してみる"
   ]
  },
  {
   "cell_type": "code",
   "execution_count": 42,
   "id": "4f201f80-99b8-419d-ae75-aceb73804ea5",
   "metadata": {
    "tags": [
     "hide-input"
    ]
   },
   "outputs": [
    {
     "data": {
      "text/html": [
       "<style type=\"text/css\">\n",
       "</style>\n",
       "<table id=\"T_e72f4\">\n",
       "  <caption>サンプルデータの最初の5行</caption>\n",
       "  <thead>\n",
       "    <tr>\n",
       "      <th class=\"blank level0\" >&nbsp;</th>\n",
       "      <th id=\"T_e72f4_level0_col0\" class=\"col_heading level0 col0\" >X1</th>\n",
       "      <th id=\"T_e72f4_level0_col1\" class=\"col_heading level0 col1\" >X2</th>\n",
       "      <th id=\"T_e72f4_level0_col2\" class=\"col_heading level0 col2\" >X3</th>\n",
       "      <th id=\"T_e72f4_level0_col3\" class=\"col_heading level0 col3\" >X4</th>\n",
       "      <th id=\"T_e72f4_level0_col4\" class=\"col_heading level0 col4\" >X5</th>\n",
       "      <th id=\"T_e72f4_level0_col5\" class=\"col_heading level0 col5\" >X6</th>\n",
       "    </tr>\n",
       "  </thead>\n",
       "  <tbody>\n",
       "    <tr>\n",
       "      <th id=\"T_e72f4_level0_row0\" class=\"row_heading level0 row0\" >0</th>\n",
       "      <td id=\"T_e72f4_row0_col0\" class=\"data row0 col0\" >1.393529</td>\n",
       "      <td id=\"T_e72f4_row0_col1\" class=\"data row0 col1\" >1.588493</td>\n",
       "      <td id=\"T_e72f4_row0_col2\" class=\"data row0 col2\" >1.609186</td>\n",
       "      <td id=\"T_e72f4_row0_col3\" class=\"data row0 col3\" >0.437720</td>\n",
       "      <td id=\"T_e72f4_row0_col4\" class=\"data row0 col4\" >0.891599</td>\n",
       "      <td id=\"T_e72f4_row0_col5\" class=\"data row0 col5\" >0.555655</td>\n",
       "    </tr>\n",
       "    <tr>\n",
       "      <th id=\"T_e72f4_level0_row1\" class=\"row_heading level0 row1\" >1</th>\n",
       "      <td id=\"T_e72f4_row1_col0\" class=\"data row1 col0\" >0.288143</td>\n",
       "      <td id=\"T_e72f4_row1_col1\" class=\"data row1 col1\" >-0.622342</td>\n",
       "      <td id=\"T_e72f4_row1_col2\" class=\"data row1 col2\" >0.136009</td>\n",
       "      <td id=\"T_e72f4_row1_col3\" class=\"data row1 col3\" >0.482352</td>\n",
       "      <td id=\"T_e72f4_row1_col4\" class=\"data row1 col4\" >0.155505</td>\n",
       "      <td id=\"T_e72f4_row1_col5\" class=\"data row1 col5\" >0.205761</td>\n",
       "    </tr>\n",
       "    <tr>\n",
       "      <th id=\"T_e72f4_level0_row2\" class=\"row_heading level0 row2\" >2</th>\n",
       "      <td id=\"T_e72f4_row2_col0\" class=\"data row2 col0\" >-0.426225</td>\n",
       "      <td id=\"T_e72f4_row2_col1\" class=\"data row2 col1\" >-0.282974</td>\n",
       "      <td id=\"T_e72f4_row2_col2\" class=\"data row2 col2\" >-0.222966</td>\n",
       "      <td id=\"T_e72f4_row2_col3\" class=\"data row2 col3\" >-0.535192</td>\n",
       "      <td id=\"T_e72f4_row2_col4\" class=\"data row2 col4\" >-0.308543</td>\n",
       "      <td id=\"T_e72f4_row2_col5\" class=\"data row2 col5\" >0.341448</td>\n",
       "    </tr>\n",
       "    <tr>\n",
       "      <th id=\"T_e72f4_level0_row3\" class=\"row_heading level0 row3\" >3</th>\n",
       "      <td id=\"T_e72f4_row3_col0\" class=\"data row3 col0\" >0.690628</td>\n",
       "      <td id=\"T_e72f4_row3_col1\" class=\"data row3 col1\" >0.345086</td>\n",
       "      <td id=\"T_e72f4_row3_col2\" class=\"data row3 col2\" >0.209713</td>\n",
       "      <td id=\"T_e72f4_row3_col3\" class=\"data row3 col3\" >-1.455579</td>\n",
       "      <td id=\"T_e72f4_row3_col4\" class=\"data row3 col4\" >-1.053465</td>\n",
       "      <td id=\"T_e72f4_row3_col5\" class=\"data row3 col5\" >-1.544344</td>\n",
       "    </tr>\n",
       "    <tr>\n",
       "      <th id=\"T_e72f4_level0_row4\" class=\"row_heading level0 row4\" >4</th>\n",
       "      <td id=\"T_e72f4_row4_col0\" class=\"data row4 col0\" >-1.305979</td>\n",
       "      <td id=\"T_e72f4_row4_col1\" class=\"data row4 col1\" >-2.027497</td>\n",
       "      <td id=\"T_e72f4_row4_col2\" class=\"data row4 col2\" >-1.293973</td>\n",
       "      <td id=\"T_e72f4_row4_col3\" class=\"data row4 col3\" >-0.244199</td>\n",
       "      <td id=\"T_e72f4_row4_col4\" class=\"data row4 col4\" >-0.508647</td>\n",
       "      <td id=\"T_e72f4_row4_col5\" class=\"data row4 col5\" >0.108509</td>\n",
       "    </tr>\n",
       "  </tbody>\n",
       "</table>\n"
      ],
      "text/plain": [
       "<pandas.io.formats.style.Styler at 0x70a8d5e37970>"
      ]
     },
     "execution_count": 42,
     "metadata": {},
     "output_type": "execute_result"
    }
   ],
   "source": [
    "import numpy as np\n",
    "import pandas as pd\n",
    "\n",
    "def generate_factor_analysis_data(n_samples=500, n_variables=6, n_factors=2, noise_std=0.3, random_state=42):\n",
    "    \"\"\"因子分析のサンプルデータを生成する\"\"\"\n",
    "    np.random.seed(random_state)\n",
    "\n",
    "    # 因子負荷量行列（loadings）: n_variables × n_factors\n",
    "    loadings = np.zeros((n_variables, n_factors))\n",
    "    loadings[:3, 0] = np.random.uniform(0.6, 0.9, size=3)  # 因子1に対応する変数\n",
    "    loadings[3:, 1] = np.random.uniform(0.6, 0.9, size=3)  # 因子2に対応する変数\n",
    "\n",
    "    # 潜在因子スコア（factors）: n_samples × n_factors\n",
    "    factors = np.random.normal(size=(n_samples, n_factors))\n",
    "\n",
    "    # ノイズ項（ユニーク性）： n_samples × n_variables\n",
    "    noise = np.random.normal(scale=noise_std, size=(n_samples, n_variables))\n",
    "\n",
    "    # 観測変数: n_samples × n_variables\n",
    "    data = factors @ loadings.T + noise\n",
    "\n",
    "    # データフレームに変換\n",
    "    columns = [f\"X{i+1}\" for i in range(n_variables)]\n",
    "    df = pd.DataFrame(data, columns=columns)\n",
    "    return df\n",
    "\n",
    "# サンプルデータ生成\n",
    "df = generate_factor_analysis_data()\n",
    "df.head().style.set_caption(\"サンプルデータの最初の5行\")"
   ]
  },
  {
   "cell_type": "markdown",
   "id": "fa51dd74-c3ac-4847-864b-1203312aed5a",
   "metadata": {},
   "source": [
    "[factor-analyzer](https://pypi.org/project/factor-analyzer/)パッケージを使うとRと同程度の因子分析を行うことができる"
   ]
  },
  {
   "cell_type": "code",
   "execution_count": 57,
   "id": "98784aa0-9a5d-4f33-9869-480ec9e74851",
   "metadata": {
    "tags": []
   },
   "outputs": [
    {
     "name": "stderr",
     "output_type": "stream",
     "text": [
      "/usr/local/lib/python3.10/site-packages/sklearn/utils/deprecation.py:151: FutureWarning: 'force_all_finite' was renamed to 'ensure_all_finite' in 1.6 and will be removed in 1.8.\n",
      "  warnings.warn(\n"
     ]
    },
    {
     "data": {
      "text/html": [
       "<style type=\"text/css\">\n",
       "</style>\n",
       "<table id=\"T_14786\">\n",
       "  <caption>因子負荷量</caption>\n",
       "  <thead>\n",
       "    <tr>\n",
       "      <th class=\"blank level0\" >&nbsp;</th>\n",
       "      <th id=\"T_14786_level0_col0\" class=\"col_heading level0 col0\" >第1因子</th>\n",
       "      <th id=\"T_14786_level0_col1\" class=\"col_heading level0 col1\" >第2因子</th>\n",
       "    </tr>\n",
       "  </thead>\n",
       "  <tbody>\n",
       "    <tr>\n",
       "      <th id=\"T_14786_level0_row0\" class=\"row_heading level0 row0\" >X1</th>\n",
       "      <td id=\"T_14786_row0_col0\" class=\"data row0 col0\" >0.918171</td>\n",
       "      <td id=\"T_14786_row0_col1\" class=\"data row0 col1\" >0.005622</td>\n",
       "    </tr>\n",
       "    <tr>\n",
       "      <th id=\"T_14786_level0_row1\" class=\"row_heading level0 row1\" >X2</th>\n",
       "      <td id=\"T_14786_row1_col0\" class=\"data row1 col0\" >0.951064</td>\n",
       "      <td id=\"T_14786_row1_col1\" class=\"data row1 col1\" >-0.004977</td>\n",
       "    </tr>\n",
       "    <tr>\n",
       "      <th id=\"T_14786_level0_row2\" class=\"row_heading level0 row2\" >X3</th>\n",
       "      <td id=\"T_14786_row2_col0\" class=\"data row2 col0\" >0.928033</td>\n",
       "      <td id=\"T_14786_row2_col1\" class=\"data row2 col1\" >-0.001037</td>\n",
       "    </tr>\n",
       "    <tr>\n",
       "      <th id=\"T_14786_level0_row3\" class=\"row_heading level0 row3\" >X4</th>\n",
       "      <td id=\"T_14786_row3_col0\" class=\"data row3 col0\" >-0.031509</td>\n",
       "      <td id=\"T_14786_row3_col1\" class=\"data row3 col1\" >0.923027</td>\n",
       "    </tr>\n",
       "    <tr>\n",
       "      <th id=\"T_14786_level0_row4\" class=\"row_heading level0 row4\" >X5</th>\n",
       "      <td id=\"T_14786_row4_col0\" class=\"data row4 col0\" >-0.001492</td>\n",
       "      <td id=\"T_14786_row4_col1\" class=\"data row4 col1\" >0.908985</td>\n",
       "    </tr>\n",
       "    <tr>\n",
       "      <th id=\"T_14786_level0_row5\" class=\"row_heading level0 row5\" >X6</th>\n",
       "      <td id=\"T_14786_row5_col0\" class=\"data row5 col0\" >0.032577</td>\n",
       "      <td id=\"T_14786_row5_col1\" class=\"data row5 col1\" >0.912851</td>\n",
       "    </tr>\n",
       "  </tbody>\n",
       "</table>\n"
      ],
      "text/plain": [
       "<pandas.io.formats.style.Styler at 0x70a8d5c25660>"
      ]
     },
     "execution_count": 57,
     "metadata": {},
     "output_type": "execute_result"
    }
   ],
   "source": [
    "from factor_analyzer import FactorAnalyzer\n",
    "fa = FactorAnalyzer(n_factors=2, rotation='promax', method='ml', is_corr_matrix=False)\n",
    "fa.fit(df)\n",
    "\n",
    "# 因子負荷量（loadings）\n",
    "loadings = pd.DataFrame(fa.loadings_, index=df.columns, columns=[\"第1因子\", \"第2因子\"])\n",
    "loadings.style.set_caption(\"因子負荷量\")"
   ]
  },
  {
   "cell_type": "markdown",
   "id": "55d0658c-df72-4adc-85a9-6313989e89f4",
   "metadata": {},
   "source": [
    "固有値を高い順に並べる **スクリープロット** でも因子数は2が妥当だと明確に出ている"
   ]
  },
  {
   "cell_type": "code",
   "execution_count": 49,
   "id": "f2cc1a69-08ce-4868-856c-cce4046514c3",
   "metadata": {
    "tags": [
     "hide-input"
    ]
   },
   "outputs": [
    {
     "data": {
      "image/png": "[encoded data removed]",
      "text/plain": [
       "<Figure size 640x480 with 1 Axes>"
      ]
     },
     "metadata": {},
     "output_type": "display_data"
    }
   ],
   "source": [
    "# スクリープロットで因子数を探索\n",
    "eigen = fa.get_eigenvalues()\n",
    "left = list(range(1, len(eigen[0])+1))\n",
    "fig, ax = plt.subplots()\n",
    "ax.plot(left, eigen[0], marker=\"o\")\n",
    "ax.set(xlabel=\"因子数（固有値の数）\", ylabel=\"固有値\", title=\"スクリープロット\")\n",
    "ax.axhline(y=1, color=\"gray\", linestyle=\"--\", alpha=0.5)\n",
    "fig.show()"
   ]
  },
  {
   "cell_type": "markdown",
   "id": "7eebeb07-a944-47f7-946a-014bc3df6721",
   "metadata": {},
   "source": [
    "FactorAnalysisはscikit-learnにもあるが結構変な値になる。推定方法が違ったりするため？"
   ]
  },
  {
   "cell_type": "code",
   "execution_count": 39,
   "id": "273db365-3aa3-4e18-8168-b0dd1496d056",
   "metadata": {
    "tags": []
   },
   "outputs": [
    {
     "data": {
      "text/html": [
       "<style type=\"text/css\">\n",
       "</style>\n",
       "<table id=\"T_2ae6d\">\n",
       "  <caption>因子負荷量</caption>\n",
       "  <thead>\n",
       "    <tr>\n",
       "      <th class=\"blank level0\" >&nbsp;</th>\n",
       "      <th id=\"T_2ae6d_level0_col0\" class=\"col_heading level0 col0\" >第1因子</th>\n",
       "      <th id=\"T_2ae6d_level0_col1\" class=\"col_heading level0 col1\" >第2因子</th>\n",
       "    </tr>\n",
       "  </thead>\n",
       "  <tbody>\n",
       "    <tr>\n",
       "      <th id=\"T_2ae6d_level0_row0\" class=\"row_heading level0 row0\" >X1</th>\n",
       "      <td id=\"T_2ae6d_row0_col0\" class=\"data row0 col0\" >-0.689410</td>\n",
       "      <td id=\"T_2ae6d_row0_col1\" class=\"data row0 col1\" >-0.003139</td>\n",
       "    </tr>\n",
       "    <tr>\n",
       "      <th id=\"T_2ae6d_level0_row1\" class=\"row_heading level0 row1\" >X2</th>\n",
       "      <td id=\"T_2ae6d_row1_col0\" class=\"data row1 col0\" >-0.865541</td>\n",
       "      <td id=\"T_2ae6d_row1_col1\" class=\"data row1 col1\" >-0.013791</td>\n",
       "    </tr>\n",
       "    <tr>\n",
       "      <th id=\"T_2ae6d_level0_row2\" class=\"row_heading level0 row2\" >X3</th>\n",
       "      <td id=\"T_2ae6d_row2_col0\" class=\"data row2 col0\" >-0.775908</td>\n",
       "      <td id=\"T_2ae6d_row2_col1\" class=\"data row2 col1\" >-0.009166</td>\n",
       "    </tr>\n",
       "    <tr>\n",
       "      <th id=\"T_2ae6d_level0_row3\" class=\"row_heading level0 row3\" >X4</th>\n",
       "      <td id=\"T_2ae6d_row3_col0\" class=\"data row3 col0\" >0.035851</td>\n",
       "      <td id=\"T_2ae6d_row3_col1\" class=\"data row3 col1\" >0.774969</td>\n",
       "    </tr>\n",
       "    <tr>\n",
       "      <th id=\"T_2ae6d_level0_row4\" class=\"row_heading level0 row4\" >X5</th>\n",
       "      <td id=\"T_2ae6d_row4_col0\" class=\"data row4 col0\" >0.008879</td>\n",
       "      <td id=\"T_2ae6d_row4_col1\" class=\"data row4 col1\" >0.641599</td>\n",
       "    </tr>\n",
       "    <tr>\n",
       "      <th id=\"T_2ae6d_level0_row5\" class=\"row_heading level0 row5\" >X6</th>\n",
       "      <td id=\"T_2ae6d_row5_col0\" class=\"data row5 col0\" >-0.015767</td>\n",
       "      <td id=\"T_2ae6d_row5_col1\" class=\"data row5 col1\" >0.671648</td>\n",
       "    </tr>\n",
       "  </tbody>\n",
       "</table>\n"
      ],
      "text/plain": [
       "<pandas.io.formats.style.Styler at 0x70a8d60186a0>"
      ]
     },
     "execution_count": 39,
     "metadata": {},
     "output_type": "execute_result"
    }
   ],
   "source": [
    "# 2因子モデルで因子分析を実行（scikit-learn）\n",
    "from sklearn.decomposition import FactorAnalysis\n",
    "fa = FactorAnalysis(n_components=2, random_state=0, rotation=\"varimax\")\n",
    "X_fa = fa.fit_transform(df)\n",
    "\n",
    "# 因子負荷量（loadings）\n",
    "loadings = fa.components_.T  # shape: (n_variables, n_factors)\n",
    "pd.DataFrame(loadings, index=df.columns, columns=[\"第1因子\", \"第2因子\"]).style.set_caption(\"因子負荷量\")"
   ]
  },
  {
   "cell_type": "markdown",
   "id": "1dad15b4-3322-407a-8acd-1a913f0533ee",
   "metadata": {},
   "source": [
    "## 確認的因子分析\n",
    "\n",
    "**確認的因子分析**（confirmatory factor analysis: CFA）は、因子の数や観測変数との関係性などについての仮説（モデル）をあらかじめ立てておき、その仮説の正しさを検証するためにモデルをデータにあてはめていく。\n",
    "\n",
    "その妥当性はデータの分散をモデルがどれだけ説明できたか（適合度）の指標などによって確認される。\n"
   ]
  },
  {
   "cell_type": "code",
   "execution_count": 3,
   "id": "5493fe0b-34dd-4330-ba54-07306b0392c6",
   "metadata": {},
   "outputs": [],
   "source": [
    "import semopy"
   ]
  },
  {
   "cell_type": "markdown",
   "id": "6a64dfa7-b6dd-4618-b1a5-c799f41e1918",
   "metadata": {},
   "source": [
    "## カテゴリカル因子分析\n",
    "\n",
    "通常の因子分析では、観測変数も連続値（正規分布を仮定）であることを前提にしている。しかし実際の調査データでは、\n",
    "\n",
    "- 「1（全くそう思わない）」〜「5（非常にそう思う）」のリッカート尺度\n",
    "- 「ある／ない」「はい／いいえ」の2値データ\n",
    "- 評価カテゴリ（例：低・中・高）\n",
    "\n",
    "といった順序尺度のカテゴリカル変数が含まれることがある。\n",
    "\n",
    "因子分析では相関行列をもとに計算できるため、カテゴリカル変数であっても相関関係へと変換してから扱えば通常の計算手続きに持ち込むことができる。\n",
    "\n",
    "カテゴリカル変数の相関関係には「観測値はカテゴリカル変数だが、その背後には連続値の潜在変数があり、ある閾値をこえるかどうかで離散的な観測値になっている」という考え方で統計モデルを組んで相関係数を算出するタイプのものが存在する。この仮定は因子分析モデルの仮定（離散値の背後には潜在的な因子スコアが存在する）とも整合的なのでそういった相関係数が使われる。具体的には、\n",
    "\n",
    "- 連続変数 × カテゴリカル変数 の相関 → **ポリシリアル（polyserial）相関係数**\n",
    "- カテゴリカル変数 × カテゴリカル変数 の相関 → **ポリコリック（polychoric）相関係数**\n",
    "\n",
    "が使われる。Pythonだと [ordinalcorr](https://pypi.org/project/ordinalcorr/) パッケージで計算できる。\n"
   ]
  },
  {
   "cell_type": "markdown",
   "id": "710a5c7a-9b4f-4a93-9a70-309245eb9f04",
   "metadata": {},
   "source": [
    "#### 実装例\n",
    "\n",
    "先程のサンプルデータを離散化してみる"
   ]
  },
  {
   "cell_type": "code",
   "execution_count": 51,
   "id": "bdcc5d84-54e9-42c2-9d45-503bb6e051e3",
   "metadata": {
    "jupyter": {
     "source_hidden": true
    },
    "tags": [
     "hide-input"
    ]
   },
   "outputs": [
    {
     "data": {
      "text/html": [
       "<style type=\"text/css\">\n",
       "</style>\n",
       "<table id=\"T_b2ed3\">\n",
       "  <caption>サンプルデータの最初の5行</caption>\n",
       "  <thead>\n",
       "    <tr>\n",
       "      <th class=\"blank level0\" >&nbsp;</th>\n",
       "      <th id=\"T_b2ed3_level0_col0\" class=\"col_heading level0 col0\" >X1</th>\n",
       "      <th id=\"T_b2ed3_level0_col1\" class=\"col_heading level0 col1\" >X2</th>\n",
       "      <th id=\"T_b2ed3_level0_col2\" class=\"col_heading level0 col2\" >X3</th>\n",
       "      <th id=\"T_b2ed3_level0_col3\" class=\"col_heading level0 col3\" >X4</th>\n",
       "      <th id=\"T_b2ed3_level0_col4\" class=\"col_heading level0 col4\" >X5</th>\n",
       "      <th id=\"T_b2ed3_level0_col5\" class=\"col_heading level0 col5\" >X6</th>\n",
       "    </tr>\n",
       "  </thead>\n",
       "  <tbody>\n",
       "    <tr>\n",
       "      <th id=\"T_b2ed3_level0_row0\" class=\"row_heading level0 row0\" >0</th>\n",
       "      <td id=\"T_b2ed3_row0_col0\" class=\"data row0 col0\" >3</td>\n",
       "      <td id=\"T_b2ed3_row0_col1\" class=\"data row0 col1\" >3</td>\n",
       "      <td id=\"T_b2ed3_row0_col2\" class=\"data row0 col2\" >3</td>\n",
       "      <td id=\"T_b2ed3_row0_col3\" class=\"data row0 col3\" >2</td>\n",
       "      <td id=\"T_b2ed3_row0_col4\" class=\"data row0 col4\" >3</td>\n",
       "      <td id=\"T_b2ed3_row0_col5\" class=\"data row0 col5\" >3</td>\n",
       "    </tr>\n",
       "    <tr>\n",
       "      <th id=\"T_b2ed3_level0_row1\" class=\"row_heading level0 row1\" >1</th>\n",
       "      <td id=\"T_b2ed3_row1_col0\" class=\"data row1 col0\" >2</td>\n",
       "      <td id=\"T_b2ed3_row1_col1\" class=\"data row1 col1\" >0</td>\n",
       "      <td id=\"T_b2ed3_row1_col2\" class=\"data row1 col2\" >2</td>\n",
       "      <td id=\"T_b2ed3_row1_col3\" class=\"data row1 col3\" >2</td>\n",
       "      <td id=\"T_b2ed3_row1_col4\" class=\"data row1 col4\" >2</td>\n",
       "      <td id=\"T_b2ed3_row1_col5\" class=\"data row1 col5\" >2</td>\n",
       "    </tr>\n",
       "    <tr>\n",
       "      <th id=\"T_b2ed3_level0_row2\" class=\"row_heading level0 row2\" >2</th>\n",
       "      <td id=\"T_b2ed3_row2_col0\" class=\"data row2 col0\" >1</td>\n",
       "      <td id=\"T_b2ed3_row2_col1\" class=\"data row2 col1\" >1</td>\n",
       "      <td id=\"T_b2ed3_row2_col2\" class=\"data row2 col2\" >1</td>\n",
       "      <td id=\"T_b2ed3_row2_col3\" class=\"data row2 col3\" >1</td>\n",
       "      <td id=\"T_b2ed3_row2_col4\" class=\"data row2 col4\" >1</td>\n",
       "      <td id=\"T_b2ed3_row2_col5\" class=\"data row2 col5\" >2</td>\n",
       "    </tr>\n",
       "    <tr>\n",
       "      <th id=\"T_b2ed3_level0_row3\" class=\"row_heading level0 row3\" >3</th>\n",
       "      <td id=\"T_b2ed3_row3_col0\" class=\"data row3 col0\" >3</td>\n",
       "      <td id=\"T_b2ed3_row3_col1\" class=\"data row3 col1\" >2</td>\n",
       "      <td id=\"T_b2ed3_row3_col2\" class=\"data row3 col2\" >2</td>\n",
       "      <td id=\"T_b2ed3_row3_col3\" class=\"data row3 col3\" >0</td>\n",
       "      <td id=\"T_b2ed3_row3_col4\" class=\"data row3 col4\" >0</td>\n",
       "      <td id=\"T_b2ed3_row3_col5\" class=\"data row3 col5\" >0</td>\n",
       "    </tr>\n",
       "    <tr>\n",
       "      <th id=\"T_b2ed3_level0_row4\" class=\"row_heading level0 row4\" >4</th>\n",
       "      <td id=\"T_b2ed3_row4_col0\" class=\"data row4 col0\" >0</td>\n",
       "      <td id=\"T_b2ed3_row4_col1\" class=\"data row4 col1\" >0</td>\n",
       "      <td id=\"T_b2ed3_row4_col2\" class=\"data row4 col2\" >0</td>\n",
       "      <td id=\"T_b2ed3_row4_col3\" class=\"data row4 col3\" >1</td>\n",
       "      <td id=\"T_b2ed3_row4_col4\" class=\"data row4 col4\" >0</td>\n",
       "      <td id=\"T_b2ed3_row4_col5\" class=\"data row4 col5\" >2</td>\n",
       "    </tr>\n",
       "  </tbody>\n",
       "</table>\n"
      ],
      "text/plain": [
       "<pandas.io.formats.style.Styler at 0x70a8d5e73d00>"
      ]
     },
     "execution_count": 51,
     "metadata": {},
     "output_type": "execute_result"
    }
   ],
   "source": [
    "def discretize_to_categorical(df, n_bins=4, labels=None):\n",
    "    \"\"\"\n",
    "    各列をカテゴリカルに変換（等頻度ビンに分割）\n",
    "    \n",
    "    Parameters:\n",
    "        df: pd.DataFrame - 入力の連続値データ\n",
    "        n_bins: int - ビンの数（カテゴリ数）\n",
    "        labels: list or None - カテゴリラベル。Noneなら自動で0～(n_bins-1)\n",
    "\n",
    "    Returns:\n",
    "        pd.DataFrame - カテゴリカル変数データ\n",
    "    \"\"\"\n",
    "    if labels is None:\n",
    "        labels = list(range(n_bins))\n",
    "\n",
    "    df_cat = df.copy()\n",
    "    for col in df.columns:\n",
    "        df_cat[col] = pd.qcut(df[col], q=n_bins, labels=labels)\n",
    "    return df_cat\n",
    "\n",
    "# カテゴリカルに変換\n",
    "df_cat = discretize_to_categorical(df)\n",
    "df_cat.head().style.set_caption(\"サンプルデータの最初の5行\")"
   ]
  },
  {
   "cell_type": "markdown",
   "id": "147d9d06-1df7-4536-8112-375956efe694",
   "metadata": {},
   "source": [
    "相関行列に変換する"
   ]
  },
  {
   "cell_type": "code",
   "execution_count": 54,
   "id": "f169cbf4-5ec1-48d7-a207-7344b42909e2",
   "metadata": {
    "tags": []
   },
   "outputs": [
    {
     "data": {
      "text/html": [
       "<div>\n",
       "<style scoped>\n",
       "    .dataframe tbody tr th:only-of-type {\n",
       "        vertical-align: middle;\n",
       "    }\n",
       "\n",
       "    .dataframe tbody tr th {\n",
       "        vertical-align: top;\n",
       "    }\n",
       "\n",
       "    .dataframe thead th {\n",
       "        text-align: right;\n",
       "    }\n",
       "</style>\n",
       "<table border=\"1\" class=\"dataframe\">\n",
       "  <thead>\n",
       "    <tr style=\"text-align: right;\">\n",
       "      <th></th>\n",
       "      <th>X1</th>\n",
       "      <th>X2</th>\n",
       "      <th>X3</th>\n",
       "      <th>X4</th>\n",
       "      <th>X5</th>\n",
       "      <th>X6</th>\n",
       "    </tr>\n",
       "  </thead>\n",
       "  <tbody>\n",
       "    <tr>\n",
       "      <th>X1</th>\n",
       "      <td>1.000000</td>\n",
       "      <td>0.874632</td>\n",
       "      <td>0.834441</td>\n",
       "      <td>-0.065471</td>\n",
       "      <td>0.028831</td>\n",
       "      <td>0.021962</td>\n",
       "    </tr>\n",
       "    <tr>\n",
       "      <th>X2</th>\n",
       "      <td>0.874632</td>\n",
       "      <td>1.000000</td>\n",
       "      <td>0.877763</td>\n",
       "      <td>-0.070279</td>\n",
       "      <td>-0.009727</td>\n",
       "      <td>0.012020</td>\n",
       "    </tr>\n",
       "    <tr>\n",
       "      <th>X3</th>\n",
       "      <td>0.834441</td>\n",
       "      <td>0.877763</td>\n",
       "      <td>1.000000</td>\n",
       "      <td>-0.051655</td>\n",
       "      <td>-0.005921</td>\n",
       "      <td>0.010932</td>\n",
       "    </tr>\n",
       "    <tr>\n",
       "      <th>X4</th>\n",
       "      <td>-0.065471</td>\n",
       "      <td>-0.070279</td>\n",
       "      <td>-0.051655</td>\n",
       "      <td>1.000000</td>\n",
       "      <td>0.832004</td>\n",
       "      <td>0.846709</td>\n",
       "    </tr>\n",
       "    <tr>\n",
       "      <th>X5</th>\n",
       "      <td>0.028831</td>\n",
       "      <td>-0.009727</td>\n",
       "      <td>-0.005921</td>\n",
       "      <td>0.832004</td>\n",
       "      <td>1.000000</td>\n",
       "      <td>0.822339</td>\n",
       "    </tr>\n",
       "    <tr>\n",
       "      <th>X6</th>\n",
       "      <td>0.021962</td>\n",
       "      <td>0.012020</td>\n",
       "      <td>0.010932</td>\n",
       "      <td>0.846709</td>\n",
       "      <td>0.822339</td>\n",
       "      <td>1.000000</td>\n",
       "    </tr>\n",
       "  </tbody>\n",
       "</table>\n",
       "</div>"
      ],
      "text/plain": [
       "          X1        X2        X3        X4        X5        X6\n",
       "X1  1.000000  0.874632  0.834441 -0.065471  0.028831  0.021962\n",
       "X2  0.874632  1.000000  0.877763 -0.070279 -0.009727  0.012020\n",
       "X3  0.834441  0.877763  1.000000 -0.051655 -0.005921  0.010932\n",
       "X4 -0.065471 -0.070279 -0.051655  1.000000  0.832004  0.846709\n",
       "X5  0.028831 -0.009727 -0.005921  0.832004  1.000000  0.822339\n",
       "X6  0.021962  0.012020  0.010932  0.846709  0.822339  1.000000"
      ]
     },
     "execution_count": 54,
     "metadata": {},
     "output_type": "execute_result"
    }
   ],
   "source": [
    "from ordinalcorr import hetcor\n",
    "corr_matrix = hetcor(df_cat)\n",
    "corr_matrix"
   ]
  },
  {
   "cell_type": "markdown",
   "id": "286da2ad-59d3-46ed-bde0-b13c6d49c291",
   "metadata": {},
   "source": [
    "FactorAnalyzerで`is_corr_matrix=True`を指定して相関行列を入力データとして渡すようにする"
   ]
  },
  {
   "cell_type": "code",
   "execution_count": 59,
   "id": "332c48b2-5717-47e0-bc43-37be297b685f",
   "metadata": {
    "tags": []
   },
   "outputs": [
    {
     "name": "stderr",
     "output_type": "stream",
     "text": [
      "/usr/local/lib/python3.10/site-packages/sklearn/utils/deprecation.py:151: FutureWarning: 'force_all_finite' was renamed to 'ensure_all_finite' in 1.6 and will be removed in 1.8.\n",
      "  warnings.warn(\n"
     ]
    },
    {
     "data": {
      "text/html": [
       "<style type=\"text/css\">\n",
       "</style>\n",
       "<table id=\"T_542f9\">\n",
       "  <caption>因子負荷量（カテゴリカル）</caption>\n",
       "  <thead>\n",
       "    <tr>\n",
       "      <th class=\"blank level0\" >&nbsp;</th>\n",
       "      <th id=\"T_542f9_level0_col0\" class=\"col_heading level0 col0\" >第1因子</th>\n",
       "      <th id=\"T_542f9_level0_col1\" class=\"col_heading level0 col1\" >第2因子</th>\n",
       "    </tr>\n",
       "  </thead>\n",
       "  <tbody>\n",
       "    <tr>\n",
       "      <th id=\"T_542f9_level0_row0\" class=\"row_heading level0 row0\" >X1</th>\n",
       "      <td id=\"T_542f9_row0_col0\" class=\"data row0 col0\" >0.912573</td>\n",
       "      <td id=\"T_542f9_row0_col1\" class=\"data row0 col1\" >0.008262</td>\n",
       "    </tr>\n",
       "    <tr>\n",
       "      <th id=\"T_542f9_level0_row1\" class=\"row_heading level0 row1\" >X2</th>\n",
       "      <td id=\"T_542f9_row1_col0\" class=\"data row1 col0\" >0.958998</td>\n",
       "      <td id=\"T_542f9_row1_col1\" class=\"data row1 col1\" >-0.007947</td>\n",
       "    </tr>\n",
       "    <tr>\n",
       "      <th id=\"T_542f9_level0_row2\" class=\"row_heading level0 row2\" >X3</th>\n",
       "      <td id=\"T_542f9_row2_col0\" class=\"data row2 col0\" >0.914651</td>\n",
       "      <td id=\"T_542f9_row2_col1\" class=\"data row2 col1\" >-0.000145</td>\n",
       "    </tr>\n",
       "    <tr>\n",
       "      <th id=\"T_542f9_level0_row3\" class=\"row_heading level0 row3\" >X4</th>\n",
       "      <td id=\"T_542f9_row3_col0\" class=\"data row3 col0\" >-0.051254</td>\n",
       "      <td id=\"T_542f9_row3_col1\" class=\"data row3 col1\" >0.926265</td>\n",
       "    </tr>\n",
       "    <tr>\n",
       "      <th id=\"T_542f9_level0_row4\" class=\"row_heading level0 row4\" >X5</th>\n",
       "      <td id=\"T_542f9_row4_col0\" class=\"data row4 col0\" >0.017502</td>\n",
       "      <td id=\"T_542f9_row4_col1\" class=\"data row4 col1\" >0.898729</td>\n",
       "    </tr>\n",
       "    <tr>\n",
       "      <th id=\"T_542f9_level0_row5\" class=\"row_heading level0 row5\" >X6</th>\n",
       "      <td id=\"T_542f9_row5_col0\" class=\"data row5 col0\" >0.032526</td>\n",
       "      <td id=\"T_542f9_row5_col1\" class=\"data row5 col1\" >0.915416</td>\n",
       "    </tr>\n",
       "  </tbody>\n",
       "</table>\n"
      ],
      "text/plain": [
       "<pandas.io.formats.style.Styler at 0x70a8d5a9c1f0>"
      ]
     },
     "execution_count": 59,
     "metadata": {},
     "output_type": "execute_result"
    }
   ],
   "source": [
    "from factor_analyzer import FactorAnalyzer\n",
    "fa = FactorAnalyzer(n_factors=2, rotation='promax', method='ml', is_corr_matrix=True)\n",
    "fa.fit(corr_matrix)\n",
    "\n",
    "# 因子負荷量（loadings）\n",
    "pd.DataFrame(fa.loadings_, index=df.columns, columns=[\"第1因子\", \"第2因子\"]).style.set_caption(\"因子負荷量（カテゴリカル）\")"
   ]
  },
  {
   "cell_type": "markdown",
   "id": "4ee4a06c-115b-4c50-91f6-52ed04b88611",
   "metadata": {},
   "source": [
    "もそもとの連続変数での推定結果とある程度近い推定値となっていることがわかる"
   ]
  },
  {
   "cell_type": "code",
   "execution_count": 61,
   "id": "8895b3ff-ae40-4f50-86d9-3b6d16482144",
   "metadata": {
    "tags": []
   },
   "outputs": [
    {
     "data": {
      "text/html": [
       "<style type=\"text/css\">\n",
       "</style>\n",
       "<table id=\"T_13fb1\">\n",
       "  <caption>因子負荷量（連続変数）</caption>\n",
       "  <thead>\n",
       "    <tr>\n",
       "      <th class=\"blank level0\" >&nbsp;</th>\n",
       "      <th id=\"T_13fb1_level0_col0\" class=\"col_heading level0 col0\" >第1因子</th>\n",
       "      <th id=\"T_13fb1_level0_col1\" class=\"col_heading level0 col1\" >第2因子</th>\n",
       "    </tr>\n",
       "  </thead>\n",
       "  <tbody>\n",
       "    <tr>\n",
       "      <th id=\"T_13fb1_level0_row0\" class=\"row_heading level0 row0\" >X1</th>\n",
       "      <td id=\"T_13fb1_row0_col0\" class=\"data row0 col0\" >0.918171</td>\n",
       "      <td id=\"T_13fb1_row0_col1\" class=\"data row0 col1\" >0.005622</td>\n",
       "    </tr>\n",
       "    <tr>\n",
       "      <th id=\"T_13fb1_level0_row1\" class=\"row_heading level0 row1\" >X2</th>\n",
       "      <td id=\"T_13fb1_row1_col0\" class=\"data row1 col0\" >0.951064</td>\n",
       "      <td id=\"T_13fb1_row1_col1\" class=\"data row1 col1\" >-0.004977</td>\n",
       "    </tr>\n",
       "    <tr>\n",
       "      <th id=\"T_13fb1_level0_row2\" class=\"row_heading level0 row2\" >X3</th>\n",
       "      <td id=\"T_13fb1_row2_col0\" class=\"data row2 col0\" >0.928033</td>\n",
       "      <td id=\"T_13fb1_row2_col1\" class=\"data row2 col1\" >-0.001037</td>\n",
       "    </tr>\n",
       "    <tr>\n",
       "      <th id=\"T_13fb1_level0_row3\" class=\"row_heading level0 row3\" >X4</th>\n",
       "      <td id=\"T_13fb1_row3_col0\" class=\"data row3 col0\" >-0.031509</td>\n",
       "      <td id=\"T_13fb1_row3_col1\" class=\"data row3 col1\" >0.923027</td>\n",
       "    </tr>\n",
       "    <tr>\n",
       "      <th id=\"T_13fb1_level0_row4\" class=\"row_heading level0 row4\" >X5</th>\n",
       "      <td id=\"T_13fb1_row4_col0\" class=\"data row4 col0\" >-0.001492</td>\n",
       "      <td id=\"T_13fb1_row4_col1\" class=\"data row4 col1\" >0.908985</td>\n",
       "    </tr>\n",
       "    <tr>\n",
       "      <th id=\"T_13fb1_level0_row5\" class=\"row_heading level0 row5\" >X6</th>\n",
       "      <td id=\"T_13fb1_row5_col0\" class=\"data row5 col0\" >0.032577</td>\n",
       "      <td id=\"T_13fb1_row5_col1\" class=\"data row5 col1\" >0.912851</td>\n",
       "    </tr>\n",
       "  </tbody>\n",
       "</table>\n"
      ],
      "text/plain": [
       "<pandas.io.formats.style.Styler at 0x70a8d5a9f520>"
      ]
     },
     "execution_count": 61,
     "metadata": {},
     "output_type": "execute_result"
    }
   ],
   "source": [
    "loadings.style.set_caption(\"因子負荷量（連続変数）\")"
   ]
  },
  {
   "cell_type": "code",
   "execution_count": 56,
   "id": "13616fa0-d0e9-4bc4-ac04-cc4f930f5412",
   "metadata": {
    "tags": [
     "hide-input"
    ]
   },
   "outputs": [
    {
     "data": {
      "image/png": "[encoded data removed]",
      "text/plain": [
       "<Figure size 640x480 with 1 Axes>"
      ]
     },
     "metadata": {},
     "output_type": "display_data"
    }
   ],
   "source": [
    "# スクリープロットで因子数を探索\n",
    "eigen = fa.get_eigenvalues()\n",
    "left = list(range(1, len(eigen[0])+1))\n",
    "fig, ax = plt.subplots()\n",
    "ax.plot(left, eigen[0], marker=\"o\")\n",
    "ax.set(xlabel=\"因子数（固有値の数）\", ylabel=\"固有値\", title=\"スクリープロット\")\n",
    "ax.axhline(y=1, color=\"gray\", linestyle=\"--\", alpha=0.5)\n",
    "fig.show()"
   ]
  },
  {
   "cell_type": "markdown",
   "id": "84148e98-2e7b-4b7e-be6e-782ae0dbb70d",
   "metadata": {},
   "source": [
    "## 参考\n",
    "\n",
    "- Hofacker, C. (2004). Exploratory Factor Analysis, Mathematical Marketing. http://www.openaccesstexts.org/pdf/Quant_Chapter_11_efa.pdf\n",
    "- J Bai, K Li (2012). Statistical analysis of factor models of high dimension. Annals of Statistics. https://arxiv.org/pdf/1205.6617.pdf"
   ]
  }
 ],
 "metadata": {
  "kernelspec": {
   "display_name": "Python 3 (ipykernel)",
   "language": "python",
   "name": "python3"
  },
  "language_info": {
   "codemirror_mode": {
    "name": "ipython",
    "version": 3
   },
   "file_extension": ".py",
   "mimetype": "text/x-python",
   "name": "python",
   "nbconvert_exporter": "python",
   "pygments_lexer": "ipython3",
   "version": "3.10.18"
  }
 },
 "nbformat": 4,
 "nbformat_minor": 5
}
