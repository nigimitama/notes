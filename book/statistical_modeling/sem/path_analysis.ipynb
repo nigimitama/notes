{
 "cells": [
  {
   "cell_type": "markdown",
   "id": "7c0c78c8-1b33-4962-9a14-014899da20ca",
   "metadata": {},
   "source": [
    "# パス解析"
   ]
  },
  {
   "cell_type": "code",
   "execution_count": null,
   "id": "6911fbcd-b2a0-432a-94e6-cf3df283680a",
   "metadata": {},
   "outputs": [],
   "source": []
  }
 ],
 "metadata": {
  "kernelspec": {
   "display_name": "Python 3 (ipykernel)",
   "language": "python",
   "name": "python3"
  },
  "language_info": {
   "codemirror_mode": {
    "name": "ipython",
    "version": 3
   },
   "file_extension": ".py",
   "mimetype": "text/x-python",
   "name": "python",
   "nbconvert_exporter": "python",
   "pygments_lexer": "ipython3",
   "version": "3.9.16"
  }
 },
 "nbformat": 4,
 "nbformat_minor": 5
}
