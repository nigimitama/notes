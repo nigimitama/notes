{
 "cells": [
  {
   "cell_type": "markdown",
   "id": "a1c18a4f-635b-4267-8a97-6e2151d0868e",
   "metadata": {},
   "source": [
    "# カイ2乗検定の自由度について\n",
    "\n",
    "semopyとlavaanで一致しなかったりするがどういうことなのか？"
   ]
  },
  {
   "cell_type": "markdown",
   "id": "4459006c-7978-449a-b836-c6752a7be83f",
   "metadata": {},
   "source": [
    "## カイ2乗検定\n",
    "\n",
    "最尤法で母数を推定した場合、自由度$df = \\frac{1}{2} p (p + 1) - q$の$\\chi^2$分布に近似的に従う統計量を使って検定を行う（豊田（2012）『因子分析入門』）\n",
    "\n",
    "（$p$は観測変数の数、$q$は自由母数の数）"
   ]
  },
  {
   "cell_type": "markdown",
   "id": "cb0c4ea7-238e-43e1-8ad2-e1360ea13a3a",
   "metadata": {},
   "source": [
    "## semopyの推定方法\n",
    "\n",
    "Pythonのsemopyパッケージでの自由度の推定方法も豊田同様\n",
    "\n",
    "```python\n",
    "def calc_dof(model):\n",
    "    p = len(model.vars['observed'])\n",
    "    return p * (p + 1) // 2 - len(model.param_vals)\n",
    "```\n",
    "\n",
    "https://gitlab.com/georgy.m/semopy/-/blob/fa9f3e0bd2bdacac377c8ee339255b27f4ca22f8/semopy/stats.py#L187"
   ]
  },
  {
   "cell_type": "markdown",
   "id": "50484d55-0868-42b7-b6fc-509262badf4e",
   "metadata": {},
   "source": [
    "## lavaanの推定方法\n",
    "\n",
    "[ソースコード](https://github.com/yrosseel/lavaan/blob/6f047c800206d23f246d484b9522295257614222/R/lav_partable_utils.R#L242-L256)を見ると\n",
    "\n",
    "```R\n",
    "# degrees of freedom\n",
    "df <- ndat - npar\n",
    "```\n",
    "\n",
    "`npar`は（自由母数の数 [\"total number of free parameters\"](https://github.com/yrosseel/lavaan/blob/6f047c800206d23f246d484b9522295257614222/R/lav_partable_utils.R#L234-L235)）\n",
    "\n",
    "`ndat`は（ブロックごとの標本母数の数 [\"number of sample statistics per block\"](https://github.com/yrosseel/lavaan/blob/6f047c800206d23f246d484b9522295257614222/R/lav_partable_utils.R#L109-L110)）\n",
    "\n",
    "\n",
    "つまり\n",
    "\n",
    "$$\n",
    "標本母数 - 自由母数\n",
    "$$\n",
    "\n",
    "とのこと。標本母数のコードは複雑すぎてよくわからず…。"
   ]
  },
  {
   "cell_type": "markdown",
   "id": "69266860-b123-4dd2-be0c-a7034cae1fdd",
   "metadata": {},
   "source": [
    "### 独立モデルの定義\n",
    "\n",
    "lavaanでもUser ModelのDoFはsemopyと一致しているので、独立モデルの定義の問題かもしれない。\n",
    "\n",
    "独立モデル `lav_partable_independence()`は\n",
    "\n",
    "https://github.com/yrosseel/lavaan/blob/a271f07a212fcf2902352833a37bde2202eb6b00/R/lav_partable_unrestricted.R#L34\n",
    "\n",
    "で定義されているが、結構複雑でよくわからず…\n",
    "\n"
   ]
  },
  {
   "cell_type": "markdown",
   "id": "a7d9da64-7505-46e8-a10f-f95b88973618",
   "metadata": {},
   "source": [
    "lavaanのメーリングリストの[Null/baseline model](https://groups.google.com/g/lavaan/c/iX2usbOxLlg)というスレッドをみると\n",
    "\n",
    "> For continuous data, the default null model in lavaan (and all other SEM software I am aware of) is the \"independence\" model, which constraints all covariances to zero, and only freely estimates means and variances.\n",
    "\n",
    "\n",
    "\n",
    "\n"
   ]
  },
  {
   "cell_type": "markdown",
   "id": "89bc60a6-7138-444f-a3b7-d6e2288734aa",
   "metadata": {},
   "source": [
    "## 一般の定義\n",
    "\n",
    "[(PDF) Calculating Degrees of Freedom for a Structural Equation Model](https://www.researchgate.net/publication/233149968_Calculating_Degrees_of_Freedom_for_a_Structural_Equation_Model)"
   ]
  },
  {
   "cell_type": "code",
   "execution_count": null,
   "id": "c0e20726-fc04-4ec8-83c6-f58bf87d8c83",
   "metadata": {},
   "outputs": [],
   "source": []
  }
 ],
 "metadata": {
  "kernelspec": {
   "display_name": "Python 3 (ipykernel)",
   "language": "python",
   "name": "python3"
  },
  "language_info": {
   "codemirror_mode": {
    "name": "ipython",
    "version": 3
   },
   "file_extension": ".py",
   "mimetype": "text/x-python",
   "name": "python",
   "nbconvert_exporter": "python",
   "pygments_lexer": "ipython3",
   "version": "3.9.18"
  }
 },
 "nbformat": 4,
 "nbformat_minor": 5
}
