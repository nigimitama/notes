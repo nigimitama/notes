{
 "cells": [
  {
   "cell_type": "markdown",
   "id": "85cd9e2c-718c-4e41-8f3d-3e46382c2849",
   "metadata": {},
   "source": [
    "# 統計量\n",
    "\n",
    "SEMでは相関行列や共分散行列などを多用するのであらためて整理しておく\n",
    "\n"
   ]
  },
  {
   "cell_type": "markdown",
   "id": "533d3478-2ead-4670-bab1-5cb2d6320a42",
   "metadata": {},
   "source": [
    "## 積率・共分散・相関係数\n",
    "\n",
    "観測対象×観測変数の多変量データの行列$X$があるとする。\n",
    "\n",
    "変量$x_i$と変量$x_j$があり、変換した行列として偏差行列$V$と標準化データ行列$Z$があるとする。\n",
    "\n",
    "偏差は$v_{ij} = x_{ij} - \\bar{x}_j$（$\\bar{x}_j = \\frac{1}{N} \\sum^N_{i=1} x_{ij}$）、標準化データは$z_{ij} = \\frac{ v_{ij} }{ s_{i} } = \\frac{ x_{ij} - \\bar{x}_i }{ s_i }$である。\n",
    "\n",
    "\n",
    "\n",
    "標本積率、標本共分散、標本相関係数はそれぞれ\n",
    "\n",
    "$$\n",
    "\\begin{align}\n",
    "m_{ij} &= \\frac{1}{N} \\sum^N_{k=1} x_{ik} x_{jk}\n",
    "\\\\\n",
    "s_{ij}\n",
    "    &= \\frac{1}{N} \\sum_{k=1}^N v_{ik} v_{jk}\n",
    "    = \\frac{1}{N} \\sum_{k=1}^N (x_{ik} - \\bar{x}_i)(x_{jk} - \\bar{x}_j)\n",
    "\\\\\n",
    "r_{ij} &= \\frac{1}{N} \\sum_{k=1}^N z_{ik} z_{jk}\n",
    "    = \\frac{1}{N} \\sum_{k=1}^N \\frac{v_{ik}}{s_i} \\frac{v_{jk}}{s_j}\n",
    "    = \\frac{1}{N} \\sum_{k=1}^N \\frac{x_{ik} - \\bar{x}_i}{s_i} \\frac{x_{jk} - \\bar{x}_j}{s_j}\n",
    "\\end{align}\n",
    "$$\n",
    "\n",
    "母積率、母共分散、母相関係数は\n",
    "\n",
    "$$\n",
    "\\begin{align}\n",
    "\\sigma_{mij} &= E[x_i x_j]\\\\\n",
    "\\sigma_{ij} &= E[v_i v_j] = E[(x_i - \\mu_i)(x_j - \\mu_j)]\\\\\n",
    "\\sigma_{rij} &= E[z_i z_j]\n",
    "    = E\\left[\\left(\\frac{x_i - \\mu_i}{ \\sigma_i }\\right)\n",
    "        \\left(\\frac{x_j - \\mu_j}{ \\sigma_j }\\right)\\right]\n",
    "\\end{align}\n",
    "$$\n"
   ]
  },
  {
   "cell_type": "markdown",
   "id": "c5b970a3-74bd-4ee3-9058-d7a2bf629fcf",
   "metadata": {},
   "source": [
    "標本積率行列$M$、標本共分散行列$S$、標本相関行列$R$は\n",
    "\n",
    "$$\n",
    "\\begin{align}\n",
    "M &= \\frac{1}{N} X X^T\\\\\n",
    "S &= \\frac{1}{N} V V^T\\\\\n",
    "R &= \\frac{1}{N} Z Z^T\n",
    "\\end{align}\n",
    "$$\n"
   ]
  }
 ],
 "metadata": {
  "kernelspec": {
   "display_name": "Python 3 (ipykernel)",
   "language": "python",
   "name": "python3"
  },
  "language_info": {
   "codemirror_mode": {
    "name": "ipython",
    "version": 3
   },
   "file_extension": ".py",
   "mimetype": "text/x-python",
   "name": "python",
   "nbconvert_exporter": "python",
   "pygments_lexer": "ipython3",
   "version": "3.9.17"
  }
 },
 "nbformat": 4,
 "nbformat_minor": 5
}
