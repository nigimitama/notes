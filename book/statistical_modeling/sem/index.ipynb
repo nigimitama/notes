{
 "cells": [
  {
   "cell_type": "markdown",
   "id": "6b560bbb-b9c6-4207-8d33-2a876fc4a0b4",
   "metadata": {},
   "source": [
    "# 構造方程式モデリング\n"
   ]
  },
  {
   "cell_type": "markdown",
   "id": "fbf6a936-7df5-4f33-8f67-f9321c3ba680",
   "metadata": {},
   "source": [
    "## 目次\n",
    "\n",
    "```{tableofcontents}\n",
    "```"
   ]
  },
  {
   "cell_type": "markdown",
   "id": "756baf64-158c-46a2-87ac-f4685195b128",
   "metadata": {},
   "source": [
    "## 参考文献\n",
    "\n",
    "- [Structural Equation Modeling (SEM)](https://kevintshoemaker.github.io/NRES-746/SEM.RMarkdown.html)\n",
    "- [Introduction to Structural Equation Modeling (SEM) in R with lavaan](https://stats.oarc.ucla.edu/r/seminars/rsem/#s2h)\n",
    "- [多変量解析_07_構造方程式モデリング | ドクセル](https://www.docswell.com/s/BunjiRo/ZM1229-%E5%A4%9A%E5%A4%89%E9%87%8F%E8%A7%A3%E6%9E%90_07_%E6%A7%8B%E9%80%A0%E6%96%B9%E7%A8%8B%E5%BC%8F%E3%83%A2%E3%83%87%E3%83%AA%E3%83%B3%E3%82%B0#p1)\n"
   ]
  }
 ],
 "metadata": {
  "kernelspec": {
   "display_name": "Python 3 (ipykernel)",
   "language": "python",
   "name": "python3"
  },
  "language_info": {
   "codemirror_mode": {
    "name": "ipython",
    "version": 3
   },
   "file_extension": ".py",
   "mimetype": "text/x-python",
   "name": "python",
   "nbconvert_exporter": "python",
   "pygments_lexer": "ipython3",
   "version": "3.9.18"
  }
 },
 "nbformat": 4,
 "nbformat_minor": 5
}
