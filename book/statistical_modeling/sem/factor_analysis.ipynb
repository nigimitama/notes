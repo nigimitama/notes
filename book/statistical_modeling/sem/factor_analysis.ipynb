{
 "cells": [
  {
   "cell_type": "markdown",
   "id": "772fe361-c40d-4194-b599-21bb9dfb50c0",
   "metadata": {},
   "source": [
    "# 因子分析モデル\n",
    "\n",
    "「プライドの高さ」「英語力」のような直接観測することができない便宜上の概念を**構成概念**（construct）という。\n",
    "\n",
    "構成概念を分析するためのモデルの一つが**因子分析モデル**（**測定方程式モデル**）で、例えば次のように表される\n",
    "\n",
    "$$\n",
    "v_1 = \\alpha_{11} f_1 + e_1\\\\\n",
    "v_2 = \\alpha_{21} f_1 + e_2\\\\\n",
    "v_3 = \\alpha_{31} f_1 + e_3\\\\\n",
    "$$\n",
    "\n",
    "ここで$v$は観測値の偏差$v = x - E[x]$、$\\alpha$は**因子負荷量**（factor loading）、$f$は構成概念を表す変数で**因子スコア**（factor score）あるいは因子と呼ばれる。\n",
    "\n",
    "$f$は構造的な潜在変数である。\n",
    "\n",
    "\n"
   ]
  },
  {
   "cell_type": "markdown",
   "id": "08178cc7-7beb-47d3-9087-dbeee75a0916",
   "metadata": {},
   "source": [
    "## 歴史\n",
    "\n",
    "まず、現在は**探索的因子分析**（exploratory factor analysis: EFA)と呼ばれる、事前に特定の仮説を置かずにデータの共分散に基づいて（主成分分析のように）因子スコアを推定する方法が提案された\n",
    "\n",
    "その後、分析者が仮説（モデル構造）を仮定して推定する**確認的因子分析**（confirmatory factor analysis: CFA）が提案された。\n",
    "\n",
    "SEMが提案された後はそれらの因子分析がSEMの下位モデルとして内包されるようになった"
   ]
  },
  {
   "cell_type": "markdown",
   "id": "7cf7faa7-14a9-4539-a10d-2e80ac56d2af",
   "metadata": {},
   "source": [
    "## 推定"
   ]
  },
  {
   "cell_type": "code",
   "execution_count": null,
   "id": "3857acee-0e89-4623-9127-3934a483de34",
   "metadata": {},
   "outputs": [],
   "source": []
  }
 ],
 "metadata": {
  "kernelspec": {
   "display_name": "Python 3 (ipykernel)",
   "language": "python",
   "name": "python3"
  },
  "language_info": {
   "codemirror_mode": {
    "name": "ipython",
    "version": 3
   },
   "file_extension": ".py",
   "mimetype": "text/x-python",
   "name": "python",
   "nbconvert_exporter": "python",
   "pygments_lexer": "ipython3",
   "version": "3.9.16"
  }
 },
 "nbformat": 4,
 "nbformat_minor": 5
}
