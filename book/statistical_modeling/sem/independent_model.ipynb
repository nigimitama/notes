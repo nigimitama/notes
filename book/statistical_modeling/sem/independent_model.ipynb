{
 "cells": [
  {
   "cell_type": "markdown",
   "id": "e123173f-faaa-4809-b2c1-8c4bbeae2e46",
   "metadata": {},
   "source": [
    "# 独立モデル\n",
    "\n",
    "$\\chi^2$検定における独立モデル（Baseline Model）の自由度がsemopyとlavaanで一致しないことがある。\n",
    "\n",
    "どういうことなのか？"
   ]
  },
  {
   "cell_type": "markdown",
   "id": "c2faab7a-da59-4441-904d-1347bc0d1a9c",
   "metadata": {},
   "source": [
    "## （確認）$\\chi^2$検定と自由度\n",
    "\n",
    "最尤法で母数を推定した場合、自由度\n",
    "\n",
    "$$\n",
    "df = \\frac{1}{2} p (p + 1) - q\n",
    "$$\n",
    "\n",
    "の$\\chi^2$分布に近似的に従う統計量が得られるので、これを用いて検定を行うことができる（豊田 2012）\n",
    "\n",
    "ここで$p$は観測変数の数、$q$は自由母数の数\n",
    "\n",
    "$\\chi^2$検定自体はサンプルサイズへの依存性が高くて不正確だが、CFIなど他の指標の算出に用いられる。\n"
   ]
  },
  {
   "cell_type": "markdown",
   "id": "2cb09c73-dabb-42c4-a774-f54fc0eafe7e",
   "metadata": {},
   "source": [
    "### semopyの自由度の計算\n",
    "\n",
    "\n",
    "Pythonのsemopyパッケージでの自由度の推定方法も豊田同様\n",
    "\n",
    "```python\n",
    "def calc_dof(model):\n",
    "    p = len(model.vars['observed'])\n",
    "    return p * (p + 1) // 2 - len(model.param_vals)\n",
    "```\n",
    "\n",
    "ref.: https://gitlab.com/georgy.m/semopy/-/blob/fa9f3e0bd2bdacac377c8ee339255b27f4ca22f8/semopy/stats.py#L187"
   ]
  },
  {
   "cell_type": "markdown",
   "id": "0e485db1-cac4-44bc-af70-c21736a7864e",
   "metadata": {},
   "source": [
    "### lavaanの自由度の推定\n",
    "\n",
    "Rの{lavaan}パッケージでの自由度の推定。こちらも概ね同様な様子\n",
    "\n",
    "[ソースコード](https://github.com/yrosseel/lavaan/blob/6f047c800206d23f246d484b9522295257614222/R/lav_partable_utils.R#L242-L256)を見ると\n",
    "\n",
    "```R\n",
    "# degrees of freedom\n",
    "df <- ndat - npar\n",
    "```\n",
    "\n",
    "`npar`は（自由母数の数 [\"total number of free parameters\"](https://github.com/yrosseel/lavaan/blob/6f047c800206d23f246d484b9522295257614222/R/lav_partable_utils.R#L234-L235)）\n",
    "\n",
    "`ndat`は（ブロックごとの標本母数の数 [\"number of sample statistics per block\"](https://github.com/yrosseel/lavaan/blob/6f047c800206d23f246d484b9522295257614222/R/lav_partable_utils.R#L109-L110)）\n",
    "\n",
    "つまり\n",
    "\n",
    "$$\n",
    "標本母数 - 自由母数\n",
    "$$\n",
    "\n",
    "とのこと。標本母数のコードは複雑すぎてよくわからなかったが、いくつかのモデルで確認した感じでは基本的に $p (p + 1) / 2$ と一致する"
   ]
  },
  {
   "cell_type": "markdown",
   "id": "ec48f13c-18cf-4748-83db-64bc78357150",
   "metadata": {},
   "source": [
    "## 独立モデル\n",
    "\n",
    "**独立モデル（independent model, baseline model, null model)** は、すべての観測変数間に一切のパスを引かず、各変数の分散のみを自由推定するモデルのこと\n",
    "\n",
    "> すべての観測変数間に一切のパスを引かず、各変数の分散のみを自由推定するモデルを独立モデルと考えることが一般的です。 （豊田 2014, p.193）"
   ]
  },
  {
   "cell_type": "markdown",
   "id": "7ecc61bd-f990-410b-8e11-1fbb3ab7f44e",
   "metadata": {},
   "source": [
    "### semopyでの確認方法\n",
    "\n",
    "`get_baseline_model()`で具体的なモデルの状況を確認することができる\n",
    "\n",
    "```python\n",
    "from semopy.stats import get_baseline_model\n",
    "baseline = get_baseline_model(model)\n",
    "baseline.inspect()\n",
    "```"
   ]
  },
  {
   "cell_type": "markdown",
   "id": "b3be61b9-92fe-4510-aa4b-d468ec0f2eda",
   "metadata": {},
   "source": [
    "### lavaanでの確認方法\n",
    "\n",
    "独立モデルは`lav_partable_independence()`（[source](https://github.com/yrosseel/lavaan/blob/a271f07a212fcf2902352833a37bde2202eb6b00/R/lav_partable_unrestricted.R#L34)）で取得できる\n",
    "\n",
    "```r\n",
    "lav <- lav_partable_independence(fit)\n",
    "data.frame(lav)\n",
    "```\n",
    "\n",
    "また、`lav_partable_npar()`で自由母数の数を調べることができる\n",
    "\n",
    "```r\n",
    "# 自由母数の数\n",
    "lav_partable_npar(lav)\n",
    "```\n"
   ]
  },
  {
   "cell_type": "markdown",
   "id": "cc973b70-59c2-4f53-b1e0-a08791730d22",
   "metadata": {},
   "source": [
    "## 両者の差異\n",
    "\n",
    "lavaanにて、豊田（2014）のコードを実行したとき、独立モデルにて共分散も自由母数となっていた。\n",
    "\n",
    "豊田のコードは`fixed.x=FALSE`という引数を指定している\n",
    "\n",
    "```r\n",
    "> fit4_P <- sem(model4_PLS, data=data4, fixed.x=F)\n",
    "> lav <- lav_partable_independence(fit4_P)\n",
    "> data.frame(lav)\n",
    "   id lhs op rhs user block group free    ustart exo\n",
    "1   1  x5 ~~  x5    1     1     1    1 1.9928182   0\n",
    "2   2  x6 ~~  x6    1     1     1    2 1.7437518   0\n",
    "3   3  x7 ~~  x7    1     1     1    3 0.8440103   0\n",
    "4   4  x1 ~~  x1    1     1     1    4 1.0494829   0\n",
    "5   5  x2 ~~  x2    1     1     1    5 0.8159293   0\n",
    "6   6  x3 ~~  x3    1     1     1    6 1.4174088   0\n",
    "7   7  x4 ~~  x4    1     1     1    7 1.2734846   0\n",
    "8   8  x1 ~~  x2    1     1     1    8        NA   0\n",
    "9   9  x1 ~~  x3    1     1     1    9        NA   0\n",
    "10 10  x1 ~~  x4    1     1     1   10        NA   0\n",
    "11 11  x2 ~~  x3    1     1     1   11        NA   0\n",
    "12 12  x2 ~~  x4    1     1     1   12        NA   0\n",
    "13 13  x3 ~~  x4    1     1     1   13        NA   0\n",
    "```\n",
    "\n"
   ]
  },
  {
   "cell_type": "markdown",
   "id": "c201e3f1-ac3c-4999-9a22-360a8f37fea7",
   "metadata": {},
   "source": [
    "\n",
    "#### `fixed.x`とは\n",
    "\n",
    "[R: lavaan Options](https://search.r-project.org/CRAN/refmans/lavaan/html/lavOptions.html)を見ると\n",
    "\n",
    "> fixed.x:\n",
    ">\n",
    "> If TRUE, the exogenous ‘x’ covariates are considered fixed variables and the means, variances and covariances of these variables are fixed to their sample values. If FALSE, they are considered random, and the means, variances and covariances are free parameters. If \"default\", the value is set depending on the mimic option.\n",
    "\n",
    "`fixed.x=TRUE`だと外生変数は平均・分散・共分散がサンプルの値に固定される。`FALSE`だと平均・分散・共分散が自由母数として扱われる。デフォルトだと`mimic`のオプション（こちらのデフォルトは`mimic=\"lavaan\"`）に依存する\n",
    "\n",
    "User Modelのほうで共分散を自由母数にするように指定していたため独立モデルもそれに引っ張られて共分散を自由母数にしている？？\n",
    "\n"
   ]
  },
  {
   "cell_type": "markdown",
   "id": "d53572a5-4ed8-4e05-bd89-ffa588ceba77",
   "metadata": {},
   "source": [
    "## 関連するlavaanのメーリングリストのスレッド\n"
   ]
  },
  {
   "cell_type": "markdown",
   "id": "0d32d742-c861-43aa-a442-38e278ee58be",
   "metadata": {},
   "source": [
    "\n",
    ":::{card}\n",
    "[Degrees of Freedom Calculations](https://groups.google.com/g/lavaan/c/zqjDtUx_b9c)\n",
    "\n",
    "> Ed Rigdon has proposed an even more conservative option that fixes the covariances to the average covariance.\n",
    "\n",
    "として、[Rigdon, E. E. (1998). The equal correlation baseline model for comparative fit assessment in structural equation modeling.](https://www.tandfonline.com/doi/abs/10.1080/10705519809540089)が紹介されている。\n",
    "\n",
    "議論もあったが、より保守的なので採用したっぽい\n",
    "\n",
    "> The choice is just a matter of convention but the consensus was that this practice inflates comparative fit indices and that free means offered more conservative values. \n",
    "\n",
    "これは共分散を自由母数にするわけではないが、変数間の共分散を均一にするというアイデアらしい\n",
    "\n",
    ">  It is better described as one that constrains all the covariances to be equal to one another.  Here is the reference.\n",
    "> https://www.tandfonline.com/doi/abs/10.1080/10705519809540089\n",
    ":::"
   ]
  },
  {
   "cell_type": "markdown",
   "id": "4b60960a-a29b-4e13-97c0-f49bc373fb27",
   "metadata": {},
   "source": [
    ":::{card}\n",
    "[Null/baseline model](https://groups.google.com/g/lavaan/c/iX2usbOxLlg)\n",
    "\n",
    "> For continuous data, the default null model in lavaan (and all other SEM software I am aware of) is the \"independence\" model, which constraints all covariances to zero, and only freely estimates means and variances.\n",
    ":::"
   ]
  },
  {
   "cell_type": "markdown",
   "id": "b2771216-dd31-4504-8359-f5aa0159d1c4",
   "metadata": {},
   "source": [
    "## 参考文献\n",
    "\n",
    "- 豊田秀樹（2012）『因子分析入門』\n",
    "- 豊田秀樹（2014）『共分散構造分析［Ｒ編］―構造方程式モデリング―』"
   ]
  }
 ],
 "metadata": {
  "kernelspec": {
   "display_name": "Python 3 (ipykernel)",
   "language": "python",
   "name": "python3"
  },
  "language_info": {
   "codemirror_mode": {
    "name": "ipython",
    "version": 3
   },
   "file_extension": ".py",
   "mimetype": "text/x-python",
   "name": "python",
   "nbconvert_exporter": "python",
   "pygments_lexer": "ipython3",
   "version": "3.9.18"
  }
 },
 "nbformat": 4,
 "nbformat_minor": 5
}
