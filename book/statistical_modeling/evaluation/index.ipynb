{
 "cells": [
  {
   "cell_type": "markdown",
   "id": "dc6365c9-7083-430d-a7b2-c40fd20da6b8",
   "metadata": {},
   "source": [
    "# 統計モデルの評価"
   ]
  },
  {
   "cell_type": "markdown",
   "id": "a2c1551b-7ff3-4cd3-a7ca-f90a2ae1294a",
   "metadata": {},
   "source": [
    ":::{tableofcontents}\n",
    ":::"
   ]
  },
  {
   "cell_type": "code",
   "execution_count": null,
   "id": "f8976564-0a64-418d-b88c-b68d2944c83b",
   "metadata": {},
   "outputs": [],
   "source": []
  }
 ],
 "metadata": {
  "kernelspec": {
   "display_name": "Python 3 (ipykernel)",
   "language": "python",
   "name": "python3"
  },
  "language_info": {
   "codemirror_mode": {
    "name": "ipython",
    "version": 3
   },
   "file_extension": ".py",
   "mimetype": "text/x-python",
   "name": "python",
   "nbconvert_exporter": "python",
   "pygments_lexer": "ipython3",
   "version": "3.10.15"
  }
 },
 "nbformat": 4,
 "nbformat_minor": 5
}
