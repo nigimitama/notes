{
 "cells": [
  {
   "cell_type": "markdown",
   "id": "28763349-4059-4eac-94e8-e3b0a6adb503",
   "metadata": {},
   "source": [
    "# AIC / BIC\n",
    "\n",
    "尤度を用いる統計モデルについて、尤度に基づいてモデルの当てはまり（予測精度）の良さを相対比較することができる手法。\n",
    "\n",
    "異なる分布を用いるモデル同士で比較することはできない。"
   ]
  },
  {
   "cell_type": "markdown",
   "id": "9145dc09-8bc8-4ace-b0fa-2b5d46eee29f",
   "metadata": {},
   "source": [
    "## 定義\n",
    "\n",
    "尤度を$L$、自由母数の数を$k$とすると\n",
    "\n",
    "$$\n",
    "\\begin{align}\n",
    "AIC &:= -2\\ln L + 2k\\\\\n",
    "\\end{align}\n",
    "$$\n",
    "\n",
    "\n"
   ]
  },
  {
   "cell_type": "markdown",
   "id": "a3d2d643-45c8-46b5-9fb7-a200758e7cd4",
   "metadata": {},
   "source": [
    "あるいは"
   ]
  },
  {
   "cell_type": "markdown",
   "id": "41f9aaee-9a99-4c85-bf81-79352693702b",
   "metadata": {},
   "source": [
    "\n",
    "最尤推定量$\\hat{\\theta}_{(x_1, \\dots, x_n)}$について\n",
    "\n",
    "$$\n",
    "\\begin{align}\n",
    "AIC &:= \\sum^n_{i=1} - \\log p(x_i | \\hat{\\theta}_{(x_1, \\dots, x_n)} ) + d\\\\\n",
    "BIC &:= \\sum^n_{i=1} - \\log p(x_i | \\hat{\\theta}_{(x_1, \\dots, x_n)} ) + \\frac{d}{2} \\log n\\\\\n",
    "\\end{align}\n",
    "$$"
   ]
  },
  {
   "cell_type": "markdown",
   "id": "dd642113-331e-46ae-a2b5-16ade3856773",
   "metadata": {},
   "source": [
    "## CrossValidationとの一致性"
   ]
  },
  {
   "cell_type": "code",
   "execution_count": null,
   "id": "f27b0efc-eb10-4cd8-9d8a-46f40218d173",
   "metadata": {},
   "outputs": [],
   "source": []
  }
 ],
 "metadata": {
  "kernelspec": {
   "display_name": "Python 3 (ipykernel)",
   "language": "python",
   "name": "python3"
  },
  "language_info": {
   "codemirror_mode": {
    "name": "ipython",
    "version": 3
   },
   "file_extension": ".py",
   "mimetype": "text/x-python",
   "name": "python",
   "nbconvert_exporter": "python",
   "pygments_lexer": "ipython3",
   "version": "3.10.15"
  }
 },
 "nbformat": 4,
 "nbformat_minor": 5
}
