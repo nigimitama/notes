{
 "cells": [
  {
   "cell_type": "markdown",
   "id": "af99a62b-1d69-41f6-994d-1f6a8ab2ea3e",
   "metadata": {},
   "source": [
    "# セミ・ノンパラメトリックモデル"
   ]
  },
  {
   "cell_type": "markdown",
   "id": "53ecef77-53ef-4c9d-9c57-b8f1221efb82",
   "metadata": {},
   "source": [
    ":::{tableofcontents}\n",
    ":::"
   ]
  }
 ],
 "metadata": {
  "kernelspec": {
   "display_name": "Python 3 (ipykernel)",
   "language": "python",
   "name": "python3"
  },
  "language_info": {
   "codemirror_mode": {
    "name": "ipython",
    "version": 3
   },
   "file_extension": ".py",
   "mimetype": "text/x-python",
   "name": "python",
   "nbconvert_exporter": "python",
   "pygments_lexer": "ipython3",
   "version": "3.10.14"
  }
 },
 "nbformat": 4,
 "nbformat_minor": 5
}
