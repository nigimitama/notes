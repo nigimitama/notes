{
 "cells": [
  {
   "cell_type": "markdown",
   "id": "7dcfd7e2-35d9-444d-b8fe-2a02ebf7deda",
   "metadata": {},
   "source": [
    "# 疑似R2乗値"
   ]
  },
  {
   "cell_type": "markdown",
   "id": "e5dcbd25-013d-480f-a10c-c6ce8551197d",
   "metadata": {},
   "source": [
    "GLMでは通常のR2乗値は使えないため、疑似R2乗値（pseudo R-squared）というものが使われる"
   ]
  },
  {
   "cell_type": "markdown",
   "id": "9eae634f-44b9-4400-83ac-f331c3226b6e",
   "metadata": {},
   "source": [
    "## 疑似R2の種類"
   ]
  },
  {
   "cell_type": "markdown",
   "id": "b5086a7d-af11-49f1-bb15-3f28d2035032",
   "metadata": {},
   "source": [
    ":::{admonition} McFaddenの疑似$R^2$\n",
    ":class: info\n",
    "\n",
    "$$\n",
    "R^2_{\\text{McF}} = 1 - \\frac{ \\ln(L) }{ \\ln(L_{\\text{null}}) }\n",
    "$$\n",
    "\n",
    "- $L$：評価対象のmodelの尤度\n",
    "- $L_{\\text{null}}$：null model（パスを何も引かないモデル）の尤度\n",
    ":::\n",
    "\n",
    "McFaddenの疑似$R^2$は離散変数にのみ使える"
   ]
  },
  {
   "cell_type": "markdown",
   "id": "b19fd730-1769-4576-9806-804b47abe264",
   "metadata": {},
   "source": [
    ":::{admonition} Cox-Snellの疑似$R^2$\n",
    ":class: info\n",
    "\n",
    "$$\n",
    "\\begin{aligned}\n",
    "R^2_{\\text{CS}}\n",
    "&= 1 - \\left( \\frac{L_{\\text{null}}}{L} \\right)^{2 / n_{\\text{obs}}}\\\\\n",
    "&= 1 - \\exp \\left(\n",
    "\\frac{2}{n_{\\text{obs}}} \\big( \\ln(L_{\\text{null}}) - \\ln(L) \\big)\n",
    "\\right)\n",
    "\\end{aligned}\n",
    "$$\n",
    "\n",
    "- $L$：評価対象のmodelの尤度\n",
    "- $L_{\\text{null}}$：null model（パスを何も引かないモデル）の尤度\n",
    ":::\n",
    "\n",
    "Cox-Snellの疑似$R^2$は離散変数と連続変数の両方に使える"
   ]
  },
  {
   "cell_type": "markdown",
   "id": "33a88169-ba18-41ce-a898-f1d3cab33c59",
   "metadata": {},
   "source": [
    "## 例"
   ]
  },
  {
   "cell_type": "code",
   "execution_count": 27,
   "id": "31d30f39-dbbf-4ca2-8b9f-30c3cc3328ca",
   "metadata": {},
   "outputs": [
    {
     "name": "stdout",
     "output_type": "stream",
     "text": [
      "                 Generalized Linear Model Regression Results                  \n",
      "==============================================================================\n",
      "Dep. Variable:                    YES   No. Observations:                   32\n",
      "Model:                            GLM   Df Residuals:                       24\n",
      "Model Family:                   Gamma   Df Model:                            7\n",
      "Link Function:           InversePower   Scale:                       0.0035843\n",
      "Method:                          IRLS   Log-Likelihood:                -83.017\n",
      "Date:                Mon, 30 Sep 2024   Deviance:                     0.087389\n",
      "Time:                        02:19:33   Pearson chi2:                   0.0860\n",
      "No. Iterations:                     6   Pseudo R-squ. (CS):             0.9800\n",
      "Covariance Type:                  HC1                                         \n",
      "======================================================================================\n",
      "                         coef    std err          z      P>|z|      [0.025      0.975]\n",
      "--------------------------------------------------------------------------------------\n",
      "const                 -0.0178      0.007     -2.391      0.017      -0.032      -0.003\n",
      "COUTAX              4.962e-05   9.02e-06      5.501      0.000    3.19e-05    6.73e-05\n",
      "UNEMPF                 0.0020      0.000      6.680      0.000       0.001       0.003\n",
      "MOR                -7.181e-05   2.18e-05     -3.288      0.001      -0.000    -2.9e-05\n",
      "ACT                    0.0001   2.73e-05      4.097      0.000    5.83e-05       0.000\n",
      "GDP                -1.468e-07    7.9e-08     -1.858      0.063   -3.02e-07    8.08e-09\n",
      "AGE                   -0.0005      0.000     -3.336      0.001      -0.001      -0.000\n",
      "COUTAX_FEMALEUNEMP -2.427e-06   4.15e-07     -5.852      0.000   -3.24e-06   -1.61e-06\n",
      "======================================================================================\n"
     ]
    },
    {
     "name": "stderr",
     "output_type": "stream",
     "text": [
      "/usr/local/lib/python3.10/site-packages/statsmodels/genmod/generalized_linear_model.py:308: DomainWarning: The InversePower link function does not respect the domain of the Gamma family.\n",
      "  warnings.warn((f\"The {type(family.link).__name__} link function \"\n"
     ]
    }
   ],
   "source": [
    "import statsmodels.api as sm\n",
    "\n",
    "data = sm.datasets.scotland.load()\n",
    "data.exog = sm.add_constant(data.exog)\n",
    "model = sm.GLM(data.endog, data.exog, family=sm.families.Gamma())\n",
    "result = model.fit(cov_type=\"HC1\")\n",
    "print(result.summary())"
   ]
  },
  {
   "cell_type": "code",
   "execution_count": 36,
   "id": "8cf0087b-2e7a-4c58-b496-02643dc48377",
   "metadata": {},
   "outputs": [
    {
     "data": {
      "image/png": "[encoded data removed]",
      "text/plain": [
       "<Figure size 640x480 with 1 Axes>"
      ]
     },
     "metadata": {},
     "output_type": "display_data"
    }
   ],
   "source": [
    "import matplotlib.pyplot as plt\n",
    "\n",
    "fig, ax = plt.subplots()\n",
    "y_train = data.endog\n",
    "y_pred = result.predict(data.exog)\n",
    "ax.scatter(y_train, y_pred)\n",
    "ax.plot(y_train, y_train)\n",
    "\n",
    "r2_cs = result.pseudo_rsquared(kind=\"cs\")\n",
    "r2_mcf = result.pseudo_rsquared(kind=\"mcf\")\n",
    "ax.set(xlabel=\"Actual\", ylabel=\"Predicted\",\n",
    "       title=\"Actual v.s. Predicted\\n\" + r\"$R^2_{CS}$=\" + f\"{r2_cs:.3f}\" + r\", $R^2_{McF}$=\" + f\"{r2_mcf:.3f}\")\n",
    "fig.show()"
   ]
  },
  {
   "cell_type": "markdown",
   "id": "9b426cfe-2089-443f-b9c9-36e5a465b458",
   "metadata": {},
   "source": [
    "## 参考\n",
    "\n",
    "- [Pseudo-R-squared - Wikipedia](https://en.wikipedia.org/wiki/Pseudo-R-squared)"
   ]
  }
 ],
 "metadata": {
  "kernelspec": {
   "display_name": "Python 3 (ipykernel)",
   "language": "python",
   "name": "python3"
  },
  "language_info": {
   "codemirror_mode": {
    "name": "ipython",
    "version": 3
   },
   "file_extension": ".py",
   "mimetype": "text/x-python",
   "name": "python",
   "nbconvert_exporter": "python",
   "pygments_lexer": "ipython3",
   "version": "3.10.15"
  }
 },
 "nbformat": 4,
 "nbformat_minor": 5
}
