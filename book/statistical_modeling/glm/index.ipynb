{
 "cells": [
  {
   "cell_type": "markdown",
   "id": "f0a6f745-471c-4795-9597-cdd2004b746a",
   "metadata": {},
   "source": [
    "# 一般化線形モデル（GLM)\n",
    "\n",
    ":::{tableofcontents}\n",
    ":::"
   ]
  }
 ],
 "metadata": {
  "kernelspec": {
   "display_name": "Python 3 (ipykernel)",
   "language": "python",
   "name": "python3"
  },
  "language_info": {
   "codemirror_mode": {
    "name": "ipython",
    "version": 3
   },
   "file_extension": ".py",
   "mimetype": "text/x-python",
   "name": "python",
   "nbconvert_exporter": "python",
   "pygments_lexer": "ipython3",
   "version": "3.10.15"
  }
 },
 "nbformat": 4,
 "nbformat_minor": 5
}
