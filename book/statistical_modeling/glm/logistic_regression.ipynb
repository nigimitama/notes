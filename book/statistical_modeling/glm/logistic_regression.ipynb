{
 "cells": [
  {
   "cell_type": "markdown",
   "id": "5ed87dc8-a122-4b6f-a534-ea560a3179be",
   "metadata": {},
   "source": [
    "# ロジスティック回帰モデル"
   ]
  },
  {
   "cell_type": "markdown",
   "id": "4b12388f-f54d-44ea-9e88-aee3b8d072d2",
   "metadata": {},
   "source": [
    "機械学習の文脈だったりエコノメの文脈だったりで若干導入が違う（[ロジスティック回帰の4通りの表現 - ill-identified diary](https://ill-identified.hatenablog.com/entry/2024/04/26/033151)）\n",
    "\n",
    "ここではGLM文脈のものにする"
   ]
  }
 ],
 "metadata": {
  "kernelspec": {
   "display_name": "Python 3 (ipykernel)",
   "language": "python",
   "name": "python3"
  },
  "language_info": {
   "codemirror_mode": {
    "name": "ipython",
    "version": 3
   },
   "file_extension": ".py",
   "mimetype": "text/x-python",
   "name": "python",
   "nbconvert_exporter": "python",
   "pygments_lexer": "ipython3",
   "version": "3.10.15"
  }
 },
 "nbformat": 4,
 "nbformat_minor": 5
}
