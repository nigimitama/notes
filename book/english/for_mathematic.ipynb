{
 "cells": [
  {
   "cell_type": "markdown",
   "id": "5438f16f-6b93-4e7a-875a-1968e948b4f9",
   "metadata": {},
   "source": [
    "# 英語での数式表現"
   ]
  },
  {
   "cell_type": "markdown",
   "id": "dc8d7150-20fd-42ac-9275-3192738a7029",
   "metadata": {},
   "source": [
    "### Notation\n",
    "\n",
    "- Let $X$ denote ...\n",
    "- Let us denote by $X$ ...\n",
    "- We will denote by $X$ ...\n",
    "- We will use the symbol $X$ to denote ..."
   ]
  },
  {
   "cell_type": "markdown",
   "id": "4aa704d1-18f4-41fa-ab64-f092ece54111",
   "metadata": {},
   "source": [
    "## 参考\n",
    "\n",
    "[Writing Mathematical Papers in English](https://utvle.wordpress.com/wp-content/uploads/2010/09/1995-ems-trzeciak-writing_mathematical_papers_in_english__a_practical_guide.pdf)\n",
    "\n",
    "- 英語での表現が色々まとまっている書籍"
   ]
  }
 ],
 "metadata": {
  "kernelspec": {
   "display_name": "Python 3 (ipykernel)",
   "language": "python",
   "name": "python3"
  },
  "language_info": {
   "codemirror_mode": {
    "name": "ipython",
    "version": 3
   },
   "file_extension": ".py",
   "mimetype": "text/x-python",
   "name": "python",
   "nbconvert_exporter": "python",
   "pygments_lexer": "ipython3",
   "version": "3.10.17"
  }
 },
 "nbformat": 4,
 "nbformat_minor": 5
}
