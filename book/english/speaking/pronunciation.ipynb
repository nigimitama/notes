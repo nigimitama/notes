{
 "cells": [
  {
   "cell_type": "markdown",
   "id": "98f87867-f9ea-4a00-b51d-28ecd92297f4",
   "metadata": {},
   "source": [
    "# Pronunciation"
   ]
  },
  {
   "cell_type": "code",
   "execution_count": null,
   "id": "be47541a-f34d-4afb-abe5-68b27df83c42",
   "metadata": {},
   "outputs": [],
   "source": []
  }
 ],
 "metadata": {
  "kernelspec": {
   "display_name": "Python 3 (ipykernel)",
   "language": "python",
   "name": "python3"
  },
  "language_info": {
   "codemirror_mode": {
    "name": "ipython",
    "version": 3
   },
   "file_extension": ".py",
   "mimetype": "text/x-python",
   "name": "python",
   "nbconvert_exporter": "python",
   "pygments_lexer": "ipython3",
   "version": "3.10.15"
  }
 },
 "nbformat": 4,
 "nbformat_minor": 5
}
