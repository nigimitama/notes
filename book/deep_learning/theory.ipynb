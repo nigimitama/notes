{
 "cells": [
  {
   "cell_type": "markdown",
   "id": "9ebcd054-73f7-4c0b-960d-6b89521c990c",
   "metadata": {},
   "source": [
    "# 深層学習の理論\n",
    "\n",
    "深層学習はなぜうまくいくのか？についての理論的な考察のまとめ"
   ]
  },
  {
   "cell_type": "markdown",
   "id": "e7c48c46-b35b-4cf5-b44a-a54675e46d30",
   "metadata": {},
   "source": [
    "## 万能近似能力\n",
    "\n",
    ":::{card}\n",
    "\n",
    "無限のデータと素子があれば、2層のニューラルネットワークは任意の関数を任意の精度で近似できる\n",
    "\n",
    "[Hecht-Nielsen,1987][Cybenko,1989]\n",
    ":::"
   ]
  },
  {
   "cell_type": "markdown",
   "id": "09eab3e7-2804-41fe-b1a3-2ae685ae803b",
   "metadata": {},
   "source": [
    "## Deepは不連続な関数も近似できる\n",
    "\n",
    "カーネル法も万能近似能力をもつ\n",
    "\n",
    "それらとDeepが違うのは、不連続な（ジャンプのある）関数も近似できること（今泉 2021）"
   ]
  },
  {
   "cell_type": "markdown",
   "id": "a79b03f1-e79f-4468-b354-611e0bc16a1f",
   "metadata": {},
   "source": [
    "## 参考\n",
    "\n",
    "- [鈴木 (2023) 深層学習の数理](https://ibis.t.u-tokyo.ac.jp/suzuki/lecture/2023/TohokuUniv/%E6%9D%B1%E5%8C%97%E5%A4%A7%E5%AD%A62023.pdf)（スライド）\n",
    "- [今泉允聡. (2021). 深層学習の原理に迫る　数学の挑戦. 岩波書店.](https://www.amazon.co.jp/dp/B09FPBQM9C)\n"
   ]
  }
 ],
 "metadata": {
  "kernelspec": {
   "display_name": "Python 3 (ipykernel)",
   "language": "python",
   "name": "python3"
  },
  "language_info": {
   "codemirror_mode": {
    "name": "ipython",
    "version": 3
   },
   "file_extension": ".py",
   "mimetype": "text/x-python",
   "name": "python",
   "nbconvert_exporter": "python",
   "pygments_lexer": "ipython3",
   "version": "3.10.15"
  }
 },
 "nbformat": 4,
 "nbformat_minor": 5
}
