{
 "cells": [
  {
   "cell_type": "markdown",
   "id": "e01fdedb-86d5-4748-aa5b-656bc1d15c28",
   "metadata": {},
   "source": [
    "# GRU"
   ]
  },
  {
   "cell_type": "markdown",
   "id": "4aa57d85-b1eb-4700-b949-ce3a63f5015f",
   "metadata": {},
   "source": [
    "**ゲート付きリカレントユニット（gated reccurent unit: GRU）**\n",
    "\n",
    "LSTMのゲート機構中の3つのゲートのうち、出力ゲートを無くして2ゲート構成にして計算効率化・軽量化を狙ったLSTMの改善版"
   ]
  },
  {
   "cell_type": "markdown",
   "id": "b3efaac5-7b1a-4c5f-b614-9b8d5777c3b9",
   "metadata": {},
   "source": [
    "## 参考\n",
    "\n",
    "[GRU (Gated Recurrent Unit, ゲート付き再帰ユニット) | CVMLエキスパートガイド](https://cvml-expertguide.net/terms/dl/rnn/gru/)"
   ]
  }
 ],
 "metadata": {
  "kernelspec": {
   "display_name": "Python 3 (ipykernel)",
   "language": "python",
   "name": "python3"
  },
  "language_info": {
   "codemirror_mode": {
    "name": "ipython",
    "version": 3
   },
   "file_extension": ".py",
   "mimetype": "text/x-python",
   "name": "python",
   "nbconvert_exporter": "python",
   "pygments_lexer": "ipython3",
   "version": "3.10.15"
  }
 },
 "nbformat": 4,
 "nbformat_minor": 5
}
