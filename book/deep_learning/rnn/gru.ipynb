{
 "cells": [
  {
   "cell_type": "markdown",
   "id": "e01fdedb-86d5-4748-aa5b-656bc1d15c28",
   "metadata": {},
   "source": [
    "# GRU"
   ]
  },
  {
   "cell_type": "markdown",
   "id": "4aa57d85-b1eb-4700-b949-ce3a63f5015f",
   "metadata": {},
   "source": [
    "ゲート付きリカレントユニット"
   ]
  },
  {
   "cell_type": "code",
   "execution_count": null,
   "id": "3c792e9d-88d9-49ac-afc5-834e157a3d89",
   "metadata": {},
   "outputs": [],
   "source": []
  }
 ],
 "metadata": {
  "kernelspec": {
   "display_name": "Python 3 (ipykernel)",
   "language": "python",
   "name": "python3"
  },
  "language_info": {
   "codemirror_mode": {
    "name": "ipython",
    "version": 3
   },
   "file_extension": ".py",
   "mimetype": "text/x-python",
   "name": "python",
   "nbconvert_exporter": "python",
   "pygments_lexer": "ipython3",
   "version": "3.9.16"
  }
 },
 "nbformat": 4,
 "nbformat_minor": 5
}
