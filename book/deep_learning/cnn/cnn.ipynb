{
 "cells": [
  {
   "cell_type": "markdown",
   "id": "16861888-eaa6-436b-970e-e0a6e0de30d8",
   "metadata": {},
   "source": [
    "# CNN"
   ]
  },
  {
   "cell_type": "markdown",
   "id": "b4f78aa0-329d-4882-ab86-985681ccee81",
   "metadata": {},
   "source": [
    "畳み込みを使うネットワーク"
   ]
  },
  {
   "cell_type": "markdown",
   "id": "3ac601de-6921-4727-be22-c96c2fed56b1",
   "metadata": {},
   "source": [
    "## 全結合層の問題点\n",
    "\n",
    "画像は縦・横・チャンネル方向の3次元あるが、全結合層に入力するときは1次元にすることになり、形状・位置関係を上手く扱えない。\n",
    "\n",
    "**畳み込み（convolution）層** は形状を維持する"
   ]
  },
  {
   "cell_type": "markdown",
   "id": "6f897a6d-a0c9-4283-b6c2-01c4346dff12",
   "metadata": {},
   "source": [
    "## 計算"
   ]
  },
  {
   "cell_type": "markdown",
   "id": "24f15c5a-78cb-4634-832e-f0495c8ee143",
   "metadata": {},
   "source": [
    "### 畳み込み層\n",
    "\n",
    "チャネルごとに、**カーネル（フィルター）** と呼ばれる行列を画像の行列と要素ごとに積をとり、総和をとる"
   ]
  },
  {
   "cell_type": "code",
   "execution_count": 33,
   "id": "bd942623-1e8e-4490-a1c5-05c3313c6d16",
   "metadata": {},
   "outputs": [
    {
     "data": {
      "text/plain": [
       "array([[15., 16.],\n",
       "       [ 6., 15.]])"
      ]
     },
     "execution_count": 33,
     "metadata": {},
     "output_type": "execute_result"
    }
   ],
   "source": [
    "import numpy as np\n",
    "\n",
    "img = np.array([\n",
    "    [1, 2, 3, 0],\n",
    "    [0, 1, 2, 3],\n",
    "    [3, 0, 1, 2],\n",
    "    [2, 3, 0, 1],\n",
    "])\n",
    "\n",
    "ker = np.array([\n",
    "    [2, 0, 1],\n",
    "    [0, 1, 2],\n",
    "    [1, 0, 2],\n",
    "])\n",
    "\n",
    "H, W = img.shape\n",
    "K = ker.shape[0]\n",
    "\n",
    "conv = np.zeros((H - K + 1, W - K + 1))\n",
    "for i in range(H - K + 1):\n",
    "    for j in range(W - K + 1):\n",
    "        conv[i, j] = (img[i:i+K, j:j+K] * ker).sum()\n",
    "conv"
   ]
  },
  {
   "cell_type": "markdown",
   "id": "d5c9b715-9887-45bc-beff-1c09f0c56d18",
   "metadata": {},
   "source": [
    "### パディング\n",
    "\n",
    "畳み込みを行う際に、入力データの周囲に固定のデータ（例えば0など）を埋めることがある。これを **パディング（padding）** という。\n",
    "\n",
    "パディングにより畳み込み後の行列のサイズを調整できる"
   ]
  },
  {
   "cell_type": "code",
   "execution_count": 41,
   "id": "25e7bd51-a591-4193-b72d-1d34b58b9316",
   "metadata": {},
   "outputs": [
    {
     "data": {
      "text/plain": [
       "array([[0., 0., 0., 0., 0., 0.],\n",
       "       [0., 1., 2., 3., 0., 0.],\n",
       "       [0., 0., 1., 2., 3., 0.],\n",
       "       [0., 3., 0., 1., 2., 0.],\n",
       "       [0., 2., 3., 0., 1., 0.],\n",
       "       [0., 0., 0., 0., 0., 0.]])"
      ]
     },
     "execution_count": 41,
     "metadata": {},
     "output_type": "execute_result"
    }
   ],
   "source": [
    "import numpy as np\n",
    "\n",
    "# padding\n",
    "img = np.array([\n",
    "    [1, 2, 3, 0],\n",
    "    [0, 1, 2, 3],\n",
    "    [3, 0, 1, 2],\n",
    "    [2, 3, 0, 1],\n",
    "])\n",
    "\n",
    "H, W = img.shape\n",
    "img_pad = np.zeros((H+2, W+2))\n",
    "img_pad[1:-1, 1:-1] = img\n",
    "img_pad"
   ]
  },
  {
   "cell_type": "code",
   "execution_count": 45,
   "id": "b66af91c-7f1f-4d26-b6d3-7e7a927b3da8",
   "metadata": {},
   "outputs": [
    {
     "data": {
      "text/plain": [
       "array([[ 7., 12., 10.,  2.],\n",
       "       [ 4., 15., 16., 10.],\n",
       "       [10.,  6., 15.,  6.],\n",
       "       [ 8., 10.,  4.,  3.]])"
      ]
     },
     "execution_count": 45,
     "metadata": {},
     "output_type": "execute_result"
    }
   ],
   "source": [
    "# 畳み込み後も 4 x 4 を維持\n",
    "img = img_pad\n",
    "H, W = img.shape\n",
    "conv = np.zeros((H - K + 1, W - K + 1))\n",
    "for i in range(H - K + 1):\n",
    "    for j in range(W - K + 1):\n",
    "        conv[i, j] = (img[i:i+K, j:j+K] * ker).sum()\n",
    "conv"
   ]
  },
  {
   "cell_type": "markdown",
   "id": "89545c43-0ca5-49b6-a921-3bc38bce3558",
   "metadata": {},
   "source": [
    "### プーリング層\n",
    "\n",
    "**プーリング（pooling）** は縦方向・横方向の空間を小さくする演算\n",
    "\n",
    "例えば、特定の範囲における最大値を取得する max poolingがある"
   ]
  },
  {
   "cell_type": "code",
   "execution_count": 52,
   "id": "eee51ffc-635c-45cd-8a47-163639c3462c",
   "metadata": {},
   "outputs": [
    {
     "data": {
      "text/plain": [
       "array([[5., 6.],\n",
       "       [8., 9.]])"
      ]
     },
     "execution_count": 52,
     "metadata": {},
     "output_type": "execute_result"
    }
   ],
   "source": [
    "# 2 x 2 の範囲で最大値をとる\n",
    "img = np.array([\n",
    "    [1, 2, 3],\n",
    "    [4, 5, 6],\n",
    "    [7, 8, 9],\n",
    "])\n",
    "K = 2  # 範囲\n",
    "H, W = img.shape\n",
    "\n",
    "# 1ずつずらして最大値をとっていく\n",
    "pool = np.zeros((H - K + 1, W - K + 1))\n",
    "for i in range(H - K + 1):\n",
    "    for j in range(W - K + 1):\n",
    "        pool[i, j] = np.max(img[i:i+K, j:j+K])\n",
    "pool"
   ]
  }
 ],
 "metadata": {
  "kernelspec": {
   "display_name": "Python 3 (ipykernel)",
   "language": "python",
   "name": "python3"
  },
  "language_info": {
   "codemirror_mode": {
    "name": "ipython",
    "version": 3
   },
   "file_extension": ".py",
   "mimetype": "text/x-python",
   "name": "python",
   "nbconvert_exporter": "python",
   "pygments_lexer": "ipython3",
   "version": "3.10.14"
  }
 },
 "nbformat": 4,
 "nbformat_minor": 5
}
