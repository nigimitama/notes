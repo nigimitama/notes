{
 "cells": [
  {
   "cell_type": "markdown",
   "id": "16861888-eaa6-436b-970e-e0a6e0de30d8",
   "metadata": {},
   "source": [
    "# CNN"
   ]
  },
  {
   "cell_type": "markdown",
   "id": "b4f78aa0-329d-4882-ab86-985681ccee81",
   "metadata": {},
   "source": [
    "畳み込みを使うネットワーク"
   ]
  },
  {
   "cell_type": "code",
   "execution_count": null,
   "id": "2a8f8e65-1c84-4796-86c6-b672cc0e587e",
   "metadata": {},
   "outputs": [],
   "source": []
  }
 ],
 "metadata": {
  "kernelspec": {
   "display_name": "Python 3 (ipykernel)",
   "language": "python",
   "name": "python3"
  },
  "language_info": {
   "codemirror_mode": {
    "name": "ipython",
    "version": 3
   },
   "file_extension": ".py",
   "mimetype": "text/x-python",
   "name": "python",
   "nbconvert_exporter": "python",
   "pygments_lexer": "ipython3",
   "version": "3.9.16"
  }
 },
 "nbformat": 4,
 "nbformat_minor": 5
}
