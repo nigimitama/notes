{
 "cells": [
  {
   "cell_type": "markdown",
   "id": "5909cfce-3a1f-4f30-ad0a-f6f9fcd3a4c9",
   "metadata": {},
   "source": [
    "# CNN vs. ViT"
   ]
  },
  {
   "cell_type": "markdown",
   "id": "280704dd-b8da-4b07-9854-eaf419fbb367",
   "metadata": {},
   "source": [
    "https://speakerdeck.com/yushiku/cnn-vs-vit"
   ]
  },
  {
   "cell_type": "markdown",
   "id": "1b86ffe8-a0b4-4e72-9888-b66eac4414ae",
   "metadata": {},
   "source": [
    "**Swin Transformer** : CNNのような構造をTransformerにいれる改善\n",
    "\n"
   ]
  },
  {
   "cell_type": "markdown",
   "id": "0a8dda70-6ee9-4cfc-88c3-d6cf0b607e6f",
   "metadata": {},
   "source": [
    "## ConvNeXt\n",
    "\n",
    "2020年代に入り、CNN（ConvNet）を改善してViTに匹敵する性能が出ることが報告されるようになっている\n",
    "\n",
    "代表的なのがConvNeXt\n",
    "\n",
    "- arXiv: [[2201.03545] A ConvNet for the 2020s](https://arxiv.org/abs/2201.03545)\n",
    "- Github Repo: [facebookresearch/ConvNeXt: Code release for ConvNeXt model](https://github.com/facebookresearch/ConvNeXt)\n",
    "\n",
    "ConvNeXtはSwin Transformerを超えると報告\n"
   ]
  },
  {
   "cell_type": "markdown",
   "id": "06d9a825-03d0-4ad5-b3a6-5b77867dfc46",
   "metadata": {},
   "source": [
    "## 2022年時点の結論\n",
    "\n",
    "TransformerもCNNも大差ない\n",
    "\n",
    "[CNN vs. ViT - Speaker Deck](https://speakerdeck.com/yushiku/cnn-vs-vit?slide=43)"
   ]
  }
 ],
 "metadata": {
  "kernelspec": {
   "display_name": "Python 3 (ipykernel)",
   "language": "python",
   "name": "python3"
  },
  "language_info": {
   "codemirror_mode": {
    "name": "ipython",
    "version": 3
   },
   "file_extension": ".py",
   "mimetype": "text/x-python",
   "name": "python",
   "nbconvert_exporter": "python",
   "pygments_lexer": "ipython3",
   "version": "3.10.14"
  }
 },
 "nbformat": 4,
 "nbformat_minor": 5
}
