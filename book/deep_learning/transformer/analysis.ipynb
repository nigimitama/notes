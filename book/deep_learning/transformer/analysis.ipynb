{
 "cells": [
  {
   "cell_type": "markdown",
   "id": "b47fabd8-53a6-450a-8a51-f04c64f0c21b",
   "metadata": {},
   "source": [
    "# Transformerの理論的解析\n",
    "\n",
    "## Structural Grokking\n",
    "\n",
    "> Transformerは、検証誤差が下がりきった後も学習し続けることで階層構造も汎化する形で捉えられるStructural Grokkingが起きていると報告\n",
    "> https://twitter.com/hillbig/status/1678528273012215814\n",
    "\n",
    "[[2305.18741] Grokking of Hierarchical Structure in Vanilla Transformers](https://arxiv.org/abs/2305.18741)\n"
   ]
  },
  {
   "cell_type": "code",
   "execution_count": null,
   "id": "cc088e6a-11dd-4e2b-afdc-b14b35580ad7",
   "metadata": {},
   "outputs": [],
   "source": []
  }
 ],
 "metadata": {
  "kernelspec": {
   "display_name": "Python 3 (ipykernel)",
   "language": "python",
   "name": "python3"
  },
  "language_info": {
   "codemirror_mode": {
    "name": "ipython",
    "version": 3
   },
   "file_extension": ".py",
   "mimetype": "text/x-python",
   "name": "python",
   "nbconvert_exporter": "python",
   "pygments_lexer": "ipython3",
   "version": "3.9.16"
  }
 },
 "nbformat": 4,
 "nbformat_minor": 5
}
